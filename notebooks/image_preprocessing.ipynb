{
 "cells": [
  {
   "cell_type": "markdown",
   "id": "8e25ea75",
   "metadata": {},
   "source": [
    "# Image preprocessing\n",
    "\n",
    "----\n",
    "\n",
    "This notebook can be used to preprocess the illumination corrected raw images obtained from [IDR0033](https://idr.openmicroscopy.org/webclient/?show=screen-1751) for the further analysis.\n",
    "\n",
    "We will use available metadata to filter images that were manually identified by the authors of the [publication](https://elifesciences.org/articles/24060#s4) corresponding to the published imaging data as being outliers or that did not pass their quality control steps. For more information concerning the applied workflows to identify those, please refer to the publication.\n",
    "\n",
    "---"
   ]
  },
  {
   "cell_type": "markdown",
   "id": "ff111050",
   "metadata": {},
   "source": [
    "## 0. Environmental setup"
   ]
  },
  {
   "cell_type": "code",
   "execution_count": 1,
   "id": "18321d67",
   "metadata": {},
   "outputs": [
    {
     "data": {
      "application/javascript": [
       "\n",
       "            setTimeout(function() {\n",
       "                var nbb_cell_id = 1;\n",
       "                var nbb_unformatted_code = \"import os\\nimport sys\\nimport pandas as pd\\nimport numpy as np\\nimport copy\\nimport matplotlib.pyplot as plt\\nimport tifffile\\n\\nfrom collections import Counter\\nfrom tqdm.notebook import tqdm\\nfrom shutil import copyfile\\nfrom skimage import (\\n    filters,\\n    morphology,\\n    measure,\\n    segmentation,\\n    exposure,\\n    feature,\\n    io,\\n    color,\\n)\\nimport scipy.ndimage as ndi\\n\\n\\nsys.path.append(\\\"..\\\")\\n\\nfrom src.utils.basic.io import get_file_list\\nfrom src.utils.basic.visualization import (\\n    explore_samples_of_dataset,\\n    explore_segmentation_of_dataset,\\n)\\n\\n# Load automatic code formatter (automatically executed when running a chunk)\\n%load_ext nb_black\";\n",
       "                var nbb_formatted_code = \"import os\\nimport sys\\nimport pandas as pd\\nimport numpy as np\\nimport copy\\nimport matplotlib.pyplot as plt\\nimport tifffile\\n\\nfrom collections import Counter\\nfrom tqdm.notebook import tqdm\\nfrom shutil import copyfile\\nfrom skimage import (\\n    filters,\\n    morphology,\\n    measure,\\n    segmentation,\\n    exposure,\\n    feature,\\n    io,\\n    color,\\n)\\nimport scipy.ndimage as ndi\\n\\n\\nsys.path.append(\\\"..\\\")\\n\\nfrom src.utils.basic.io import get_file_list\\nfrom src.utils.basic.visualization import (\\n    explore_samples_of_dataset,\\n    explore_segmentation_of_dataset,\\n)\\n\\n# Load automatic code formatter (automatically executed when running a chunk)\\n%load_ext nb_black\";\n",
       "                var nbb_cells = Jupyter.notebook.get_cells();\n",
       "                for (var i = 0; i < nbb_cells.length; ++i) {\n",
       "                    if (nbb_cells[i].input_prompt_number == nbb_cell_id) {\n",
       "                        if (nbb_cells[i].get_text() == nbb_unformatted_code) {\n",
       "                             nbb_cells[i].set_text(nbb_formatted_code);\n",
       "                        }\n",
       "                        break;\n",
       "                    }\n",
       "                }\n",
       "            }, 500);\n",
       "            "
      ],
      "text/plain": [
       "<IPython.core.display.Javascript object>"
      ]
     },
     "metadata": {},
     "output_type": "display_data"
    }
   ],
   "source": [
    "import os\n",
    "import sys\n",
    "import pandas as pd\n",
    "import numpy as np\n",
    "import copy\n",
    "import matplotlib.pyplot as plt\n",
    "import tifffile\n",
    "\n",
    "from collections import Counter\n",
    "from tqdm.notebook import tqdm\n",
    "from shutil import copyfile\n",
    "from skimage import (\n",
    "    filters,\n",
    "    morphology,\n",
    "    measure,\n",
    "    segmentation,\n",
    "    exposure,\n",
    "    feature,\n",
    "    io,\n",
    "    color,\n",
    ")\n",
    "import scipy.ndimage as ndi\n",
    "\n",
    "\n",
    "sys.path.append(\"..\")\n",
    "\n",
    "from src.utils.basic.io import get_file_list\n",
    "from src.utils.basic.visualization import (\n",
    "    explore_samples_of_dataset,\n",
    "    explore_segmentation_of_dataset,\n",
    ")\n",
    "\n",
    "# Load automatic code formatter (automatically executed when running a chunk)\n",
    "%load_ext nb_black"
   ]
  },
  {
   "cell_type": "code",
   "execution_count": 2,
   "id": "e9655486",
   "metadata": {},
   "outputs": [
    {
     "data": {
      "application/javascript": [
       "\n",
       "            setTimeout(function() {\n",
       "                var nbb_cell_id = 2;\n",
       "                var nbb_unformatted_code = \"def rename_image_filenames(\\n    metadata,\\n    orig_col=\\\"Image_FileName_OrigHoechst\\\",\\n    illum_col=\\\"Image_FileName_IllumHoechst\\\",\\n    posfix=\\\"illum_corrected\\\",\\n):\\n    orig_image_file_names = list(metadata[orig_col])\\n    illum_corrected_image_file_names = []\\n    for orig_image_file_name in orig_image_file_names:\\n        idx = orig_image_file_name.index(\\\".\\\")\\n        illum_corrected_image_file_name = (\\n            orig_image_file_name[:idx] + posfix + orig_image_file_name[idx:]\\n        )\\n        illum_corrected_image_file_names.append(illum_corrected_image_file_name)\\n    metadata[illum_col] = illum_corrected_image_file_names\\n    return metadata\";\n",
       "                var nbb_formatted_code = \"def rename_image_filenames(\\n    metadata,\\n    orig_col=\\\"Image_FileName_OrigHoechst\\\",\\n    illum_col=\\\"Image_FileName_IllumHoechst\\\",\\n    posfix=\\\"illum_corrected\\\",\\n):\\n    orig_image_file_names = list(metadata[orig_col])\\n    illum_corrected_image_file_names = []\\n    for orig_image_file_name in orig_image_file_names:\\n        idx = orig_image_file_name.index(\\\".\\\")\\n        illum_corrected_image_file_name = (\\n            orig_image_file_name[:idx] + posfix + orig_image_file_name[idx:]\\n        )\\n        illum_corrected_image_file_names.append(illum_corrected_image_file_name)\\n    metadata[illum_col] = illum_corrected_image_file_names\\n    return metadata\";\n",
       "                var nbb_cells = Jupyter.notebook.get_cells();\n",
       "                for (var i = 0; i < nbb_cells.length; ++i) {\n",
       "                    if (nbb_cells[i].input_prompt_number == nbb_cell_id) {\n",
       "                        if (nbb_cells[i].get_text() == nbb_unformatted_code) {\n",
       "                             nbb_cells[i].set_text(nbb_formatted_code);\n",
       "                        }\n",
       "                        break;\n",
       "                    }\n",
       "                }\n",
       "            }, 500);\n",
       "            "
      ],
      "text/plain": [
       "<IPython.core.display.Javascript object>"
      ]
     },
     "metadata": {},
     "output_type": "display_data"
    }
   ],
   "source": [
    "def rename_image_filenames(\n",
    "    metadata,\n",
    "    orig_col=\"Image_FileName_OrigHoechst\",\n",
    "    illum_col=\"Image_FileName_IllumHoechst\",\n",
    "    posfix=\"illum_corrected\",\n",
    "):\n",
    "    orig_image_file_names = list(metadata[orig_col])\n",
    "    illum_corrected_image_file_names = []\n",
    "    for orig_image_file_name in orig_image_file_names:\n",
    "        idx = orig_image_file_name.index(\".\")\n",
    "        illum_corrected_image_file_name = (\n",
    "            orig_image_file_name[:idx] + posfix + orig_image_file_name[idx:]\n",
    "        )\n",
    "        illum_corrected_image_file_names.append(illum_corrected_image_file_name)\n",
    "    metadata[illum_col] = illum_corrected_image_file_names\n",
    "    return metadata"
   ]
  },
  {
   "cell_type": "code",
   "execution_count": 3,
   "id": "dfa5c889",
   "metadata": {},
   "outputs": [
    {
     "data": {
      "application/javascript": [
       "\n",
       "            setTimeout(function() {\n",
       "                var nbb_cell_id = 3;\n",
       "                var nbb_unformatted_code = \"def filter_out_qc_flagged_items(\\n    metadata,\\n    blurry_col=\\\"Image_Metadata_QCFlag_isBlurry\\\",\\n    saturated_col=\\\"Image_Metadata_QCFlag_isSaturated\\\",\\n):\\n    filtered_metadata = metadata.loc[\\n        (metadata[blurry_col] == 0) & (metadata[saturated_col] == 0)\\n    ]\\n    return filtered_metadata\";\n",
       "                var nbb_formatted_code = \"def filter_out_qc_flagged_items(\\n    metadata,\\n    blurry_col=\\\"Image_Metadata_QCFlag_isBlurry\\\",\\n    saturated_col=\\\"Image_Metadata_QCFlag_isSaturated\\\",\\n):\\n    filtered_metadata = metadata.loc[\\n        (metadata[blurry_col] == 0) & (metadata[saturated_col] == 0)\\n    ]\\n    return filtered_metadata\";\n",
       "                var nbb_cells = Jupyter.notebook.get_cells();\n",
       "                for (var i = 0; i < nbb_cells.length; ++i) {\n",
       "                    if (nbb_cells[i].input_prompt_number == nbb_cell_id) {\n",
       "                        if (nbb_cells[i].get_text() == nbb_unformatted_code) {\n",
       "                             nbb_cells[i].set_text(nbb_formatted_code);\n",
       "                        }\n",
       "                        break;\n",
       "                    }\n",
       "                }\n",
       "            }, 500);\n",
       "            "
      ],
      "text/plain": [
       "<IPython.core.display.Javascript object>"
      ]
     },
     "metadata": {},
     "output_type": "display_data"
    }
   ],
   "source": [
    "def filter_out_qc_flagged_items(\n",
    "    metadata,\n",
    "    blurry_col=\"Image_Metadata_QCFlag_isBlurry\",\n",
    "    saturated_col=\"Image_Metadata_QCFlag_isSaturated\",\n",
    "):\n",
    "    filtered_metadata = metadata.loc[\n",
    "        (metadata[blurry_col] == 0) & (metadata[saturated_col] == 0)\n",
    "    ]\n",
    "    return filtered_metadata"
   ]
  },
  {
   "cell_type": "code",
   "execution_count": 4,
   "id": "2d069fe4",
   "metadata": {},
   "outputs": [
    {
     "data": {
      "application/javascript": [
       "\n",
       "            setTimeout(function() {\n",
       "                var nbb_cell_id = 4;\n",
       "                var nbb_unformatted_code = \"def remove_outlier_items(\\n    metadata,\\n    outlier_plates=None,\\n    outlier_plate_wells=None,\\n    outlier_wells=None,\\n    plate_col=\\\"Image_Metadata_Plate\\\",\\n    well_col=\\\"Image_Metadata_Well\\\",\\n):\\n    metadata_orm = metadata.copy()\\n    if outlier_plates is not None:\\n        for outlier_plate in outlier_plates:\\n            metadata_orm = metadata_orm.loc[metadata_orm[plate_col] != outlier_plate]\\n    if outlier_plate_wells is not None:\\n        for outlier_plate_well in outlier_plate_wells:\\n            metadata_orm = metadata_orm.loc[\\n                (metadata_orm[plate_col] != outlier_plate_well[0])\\n                | (metadata_orm[well_col] != outlier_plate_well[1])\\n            ]\\n    if outlier_wells is not None:\\n        for outlier_well in outlier_wells:\\n            metadata_orm = metadata_orm.loc[metadata_orm[well_col] != outlier_well]\\n    return metadata_orm\";\n",
       "                var nbb_formatted_code = \"def remove_outlier_items(\\n    metadata,\\n    outlier_plates=None,\\n    outlier_plate_wells=None,\\n    outlier_wells=None,\\n    plate_col=\\\"Image_Metadata_Plate\\\",\\n    well_col=\\\"Image_Metadata_Well\\\",\\n):\\n    metadata_orm = metadata.copy()\\n    if outlier_plates is not None:\\n        for outlier_plate in outlier_plates:\\n            metadata_orm = metadata_orm.loc[metadata_orm[plate_col] != outlier_plate]\\n    if outlier_plate_wells is not None:\\n        for outlier_plate_well in outlier_plate_wells:\\n            metadata_orm = metadata_orm.loc[\\n                (metadata_orm[plate_col] != outlier_plate_well[0])\\n                | (metadata_orm[well_col] != outlier_plate_well[1])\\n            ]\\n    if outlier_wells is not None:\\n        for outlier_well in outlier_wells:\\n            metadata_orm = metadata_orm.loc[metadata_orm[well_col] != outlier_well]\\n    return metadata_orm\";\n",
       "                var nbb_cells = Jupyter.notebook.get_cells();\n",
       "                for (var i = 0; i < nbb_cells.length; ++i) {\n",
       "                    if (nbb_cells[i].input_prompt_number == nbb_cell_id) {\n",
       "                        if (nbb_cells[i].get_text() == nbb_unformatted_code) {\n",
       "                             nbb_cells[i].set_text(nbb_formatted_code);\n",
       "                        }\n",
       "                        break;\n",
       "                    }\n",
       "                }\n",
       "            }, 500);\n",
       "            "
      ],
      "text/plain": [
       "<IPython.core.display.Javascript object>"
      ]
     },
     "metadata": {},
     "output_type": "display_data"
    }
   ],
   "source": [
    "def remove_outlier_items(\n",
    "    metadata,\n",
    "    outlier_plates=None,\n",
    "    outlier_plate_wells=None,\n",
    "    outlier_wells=None,\n",
    "    plate_col=\"Image_Metadata_Plate\",\n",
    "    well_col=\"Image_Metadata_Well\",\n",
    "):\n",
    "    metadata_orm = metadata.copy()\n",
    "    if outlier_plates is not None:\n",
    "        for outlier_plate in outlier_plates:\n",
    "            metadata_orm = metadata_orm.loc[metadata_orm[plate_col] != outlier_plate]\n",
    "    if outlier_plate_wells is not None:\n",
    "        for outlier_plate_well in outlier_plate_wells:\n",
    "            metadata_orm = metadata_orm.loc[\n",
    "                (metadata_orm[plate_col] != outlier_plate_well[0])\n",
    "                | (metadata_orm[well_col] != outlier_plate_well[1])\n",
    "            ]\n",
    "    if outlier_wells is not None:\n",
    "        for outlier_well in outlier_wells:\n",
    "            metadata_orm = metadata_orm.loc[metadata_orm[well_col] != outlier_well]\n",
    "    return metadata_orm"
   ]
  },
  {
   "cell_type": "code",
   "execution_count": 5,
   "id": "edafc6da",
   "metadata": {},
   "outputs": [
    {
     "data": {
      "application/javascript": [
       "\n",
       "            setTimeout(function() {\n",
       "                var nbb_cell_id = 5;\n",
       "                var nbb_unformatted_code = \"def save_filtered_images(\\n    metadata,\\n    input_dir,\\n    output_dir,\\n    plate_col=\\\"Image_Metadata_Plate\\\",\\n    illum_file_col=\\\"Image_FileName_IllumHoechst\\\",\\n):\\n    if not os.path.exists(output_dir):\\n        os.makedirs(output_dir)\\n    n = len(metadata)\\n    for i in tqdm(range(n), desc := \\\"Copying images\\\"):\\n        plate = metadata.iloc[i, list(metadata.columns).index(plate_col)]\\n        filename = metadata.iloc[i, list(metadata.columns).index(illum_file_col)]\\n\\n        plate_output_dir = os.path.join(output_dir, str(plate))\\n        plate_input_dir = os.path.join(input_dir, str(plate))\\n        if not os.path.exists(plate_output_dir):\\n            os.makedirs(plate_output_dir)\\n\\n        plate_output_file = os.path.join(plate_output_dir, filename)\\n        plate_input_file = os.path.join(plate_input_dir, filename)\\n\\n        copyfile(plate_input_file, plate_output_file)\\n    print(\\\"Images (n={}) copied to {}.\\\".format(len(metadata), output_dir))\";\n",
       "                var nbb_formatted_code = \"def save_filtered_images(\\n    metadata,\\n    input_dir,\\n    output_dir,\\n    plate_col=\\\"Image_Metadata_Plate\\\",\\n    illum_file_col=\\\"Image_FileName_IllumHoechst\\\",\\n):\\n    if not os.path.exists(output_dir):\\n        os.makedirs(output_dir)\\n    n = len(metadata)\\n    for i in tqdm(range(n), desc := \\\"Copying images\\\"):\\n        plate = metadata.iloc[i, list(metadata.columns).index(plate_col)]\\n        filename = metadata.iloc[i, list(metadata.columns).index(illum_file_col)]\\n\\n        plate_output_dir = os.path.join(output_dir, str(plate))\\n        plate_input_dir = os.path.join(input_dir, str(plate))\\n        if not os.path.exists(plate_output_dir):\\n            os.makedirs(plate_output_dir)\\n\\n        plate_output_file = os.path.join(plate_output_dir, filename)\\n        plate_input_file = os.path.join(plate_input_dir, filename)\\n\\n        copyfile(plate_input_file, plate_output_file)\\n    print(\\\"Images (n={}) copied to {}.\\\".format(len(metadata), output_dir))\";\n",
       "                var nbb_cells = Jupyter.notebook.get_cells();\n",
       "                for (var i = 0; i < nbb_cells.length; ++i) {\n",
       "                    if (nbb_cells[i].input_prompt_number == nbb_cell_id) {\n",
       "                        if (nbb_cells[i].get_text() == nbb_unformatted_code) {\n",
       "                             nbb_cells[i].set_text(nbb_formatted_code);\n",
       "                        }\n",
       "                        break;\n",
       "                    }\n",
       "                }\n",
       "            }, 500);\n",
       "            "
      ],
      "text/plain": [
       "<IPython.core.display.Javascript object>"
      ]
     },
     "metadata": {},
     "output_type": "display_data"
    }
   ],
   "source": [
    "def save_filtered_images(\n",
    "    metadata,\n",
    "    input_dir,\n",
    "    output_dir,\n",
    "    plate_col=\"Image_Metadata_Plate\",\n",
    "    illum_file_col=\"Image_FileName_IllumHoechst\",\n",
    "):\n",
    "    if not os.path.exists(output_dir):\n",
    "        os.makedirs(output_dir)\n",
    "    n = len(metadata)\n",
    "    for i in tqdm(range(n), desc := \"Copying images\"):\n",
    "        plate = metadata.iloc[i, list(metadata.columns).index(plate_col)]\n",
    "        filename = metadata.iloc[i, list(metadata.columns).index(illum_file_col)]\n",
    "\n",
    "        plate_output_dir = os.path.join(output_dir, str(plate))\n",
    "        plate_input_dir = os.path.join(input_dir, str(plate))\n",
    "        if not os.path.exists(plate_output_dir):\n",
    "            os.makedirs(plate_output_dir)\n",
    "\n",
    "        plate_output_file = os.path.join(plate_output_dir, filename)\n",
    "        plate_input_file = os.path.join(plate_input_dir, filename)\n",
    "\n",
    "        copyfile(plate_input_file, plate_output_file)\n",
    "    print(\"Images (n={}) copied to {}.\".format(len(metadata), output_dir))"
   ]
  },
  {
   "cell_type": "code",
   "execution_count": 6,
   "id": "00676640",
   "metadata": {},
   "outputs": [
    {
     "data": {
      "application/javascript": [
       "\n",
       "            setTimeout(function() {\n",
       "                var nbb_cell_id = 6;\n",
       "                var nbb_unformatted_code = \"def create_sample_segmentation_datasets(\\n    metadata,\\n    image_input_dir,\\n    outline_input_dir,\\n    n=10,\\n    plate_col=\\\"Image_Metadata_Plate\\\",\\n    illum_file_col=\\\"Image_FileName_IllumHoechst\\\",\\n    nuclei_outline_col=\\\"Image_FileName_NucleiOutlines\\\",\\n    random_state=1234,\\n):\\n    sample_segmentation_datasets = {}\\n    sample_image_datasets = {}\\n    plates = np.unique(metadata.loc[:, plate_col])\\n    np.random.seed(random_state)\\n    for plate in plates:\\n        plate_segmentation_dataset = []\\n        plate_image_dataset = []\\n        plate_metadata = metadata.loc[metadata[plate_col] == plate]\\n        sample_idc = np.random.choice(len(plate_metadata), n)\\n        plate_image_dir = os.path.join(image_input_dir, str(plate))\\n        plate_outline_dir = os.path.join(outline_input_dir, str(plate))\\n        for idx in sample_idc:\\n            image_file_name = plate_metadata.iloc[idx, :][illum_file_col]\\n            image_file_path = os.path.join(plate_image_dir, image_file_name)\\n            outline_file_name = plate_metadata.iloc[idx, :][nuclei_outline_col]\\n            outline_file_path = os.path.join(plate_outline_dir, outline_file_name)\\n\\n            image = io.imread(image_file_path)\\n            outlines = io.imread(outline_file_path)\\n\\n            segmented_image = segment_image(outlines)\\n            plate_segmentation_dataset.append(segmented_image)\\n            plate_image_dataset.append(image)\\n        sample_image_datasets[str(plate)] = plate_image_dataset\\n        sample_segmentation_datasets[str(plate)] = plate_segmentation_dataset\\n    return sample_image_datasets, sample_segmentation_datasets\";\n",
       "                var nbb_formatted_code = \"def create_sample_segmentation_datasets(\\n    metadata,\\n    image_input_dir,\\n    outline_input_dir,\\n    n=10,\\n    plate_col=\\\"Image_Metadata_Plate\\\",\\n    illum_file_col=\\\"Image_FileName_IllumHoechst\\\",\\n    nuclei_outline_col=\\\"Image_FileName_NucleiOutlines\\\",\\n    random_state=1234,\\n):\\n    sample_segmentation_datasets = {}\\n    sample_image_datasets = {}\\n    plates = np.unique(metadata.loc[:, plate_col])\\n    np.random.seed(random_state)\\n    for plate in plates:\\n        plate_segmentation_dataset = []\\n        plate_image_dataset = []\\n        plate_metadata = metadata.loc[metadata[plate_col] == plate]\\n        sample_idc = np.random.choice(len(plate_metadata), n)\\n        plate_image_dir = os.path.join(image_input_dir, str(plate))\\n        plate_outline_dir = os.path.join(outline_input_dir, str(plate))\\n        for idx in sample_idc:\\n            image_file_name = plate_metadata.iloc[idx, :][illum_file_col]\\n            image_file_path = os.path.join(plate_image_dir, image_file_name)\\n            outline_file_name = plate_metadata.iloc[idx, :][nuclei_outline_col]\\n            outline_file_path = os.path.join(plate_outline_dir, outline_file_name)\\n\\n            image = io.imread(image_file_path)\\n            outlines = io.imread(outline_file_path)\\n\\n            segmented_image = segment_image(outlines)\\n            plate_segmentation_dataset.append(segmented_image)\\n            plate_image_dataset.append(image)\\n        sample_image_datasets[str(plate)] = plate_image_dataset\\n        sample_segmentation_datasets[str(plate)] = plate_segmentation_dataset\\n    return sample_image_datasets, sample_segmentation_datasets\";\n",
       "                var nbb_cells = Jupyter.notebook.get_cells();\n",
       "                for (var i = 0; i < nbb_cells.length; ++i) {\n",
       "                    if (nbb_cells[i].input_prompt_number == nbb_cell_id) {\n",
       "                        if (nbb_cells[i].get_text() == nbb_unformatted_code) {\n",
       "                             nbb_cells[i].set_text(nbb_formatted_code);\n",
       "                        }\n",
       "                        break;\n",
       "                    }\n",
       "                }\n",
       "            }, 500);\n",
       "            "
      ],
      "text/plain": [
       "<IPython.core.display.Javascript object>"
      ]
     },
     "metadata": {},
     "output_type": "display_data"
    }
   ],
   "source": [
    "def create_sample_segmentation_datasets(\n",
    "    metadata,\n",
    "    image_input_dir,\n",
    "    outline_input_dir,\n",
    "    n=10,\n",
    "    plate_col=\"Image_Metadata_Plate\",\n",
    "    illum_file_col=\"Image_FileName_IllumHoechst\",\n",
    "    nuclei_outline_col=\"Image_FileName_NucleiOutlines\",\n",
    "    random_state=1234,\n",
    "):\n",
    "    sample_segmentation_datasets = {}\n",
    "    sample_image_datasets = {}\n",
    "    plates = np.unique(metadata.loc[:, plate_col])\n",
    "    np.random.seed(random_state)\n",
    "    for plate in plates:\n",
    "        plate_segmentation_dataset = []\n",
    "        plate_image_dataset = []\n",
    "        plate_metadata = metadata.loc[metadata[plate_col] == plate]\n",
    "        sample_idc = np.random.choice(len(plate_metadata), n)\n",
    "        plate_image_dir = os.path.join(image_input_dir, str(plate))\n",
    "        plate_outline_dir = os.path.join(outline_input_dir, str(plate))\n",
    "        for idx in sample_idc:\n",
    "            image_file_name = plate_metadata.iloc[idx, :][illum_file_col]\n",
    "            image_file_path = os.path.join(plate_image_dir, image_file_name)\n",
    "            outline_file_name = plate_metadata.iloc[idx, :][nuclei_outline_col]\n",
    "            outline_file_path = os.path.join(plate_outline_dir, outline_file_name)\n",
    "\n",
    "            image = io.imread(image_file_path)\n",
    "            outlines = io.imread(outline_file_path)\n",
    "\n",
    "            segmented_image = segment_image(outlines)\n",
    "            plate_segmentation_dataset.append(segmented_image)\n",
    "            plate_image_dataset.append(image)\n",
    "        sample_image_datasets[str(plate)] = plate_image_dataset\n",
    "        sample_segmentation_datasets[str(plate)] = plate_segmentation_dataset\n",
    "    return sample_image_datasets, sample_segmentation_datasets"
   ]
  },
  {
   "cell_type": "code",
   "execution_count": 7,
   "id": "c202f7c6",
   "metadata": {},
   "outputs": [
    {
     "data": {
      "application/javascript": [
       "\n",
       "            setTimeout(function() {\n",
       "                var nbb_cell_id = 7;\n",
       "                var nbb_unformatted_code = \"def segment_image(contour_image):\\n    binary = ndi.binary_fill_holes(contour_image)\\n    binary[contour_image != 0] = 0\\n    labeled = measure.label(binary)\\n    return labeled\";\n",
       "                var nbb_formatted_code = \"def segment_image(contour_image):\\n    binary = ndi.binary_fill_holes(contour_image)\\n    binary[contour_image != 0] = 0\\n    labeled = measure.label(binary)\\n    return labeled\";\n",
       "                var nbb_cells = Jupyter.notebook.get_cells();\n",
       "                for (var i = 0; i < nbb_cells.length; ++i) {\n",
       "                    if (nbb_cells[i].input_prompt_number == nbb_cell_id) {\n",
       "                        if (nbb_cells[i].get_text() == nbb_unformatted_code) {\n",
       "                             nbb_cells[i].set_text(nbb_formatted_code);\n",
       "                        }\n",
       "                        break;\n",
       "                    }\n",
       "                }\n",
       "            }, 500);\n",
       "            "
      ],
      "text/plain": [
       "<IPython.core.display.Javascript object>"
      ]
     },
     "metadata": {},
     "output_type": "display_data"
    }
   ],
   "source": [
    "def segment_image(contour_image):\n",
    "    binary = ndi.binary_fill_holes(contour_image)\n",
    "    binary[contour_image != 0] = 0\n",
    "    labeled = measure.label(binary)\n",
    "    return labeled"
   ]
  },
  {
   "cell_type": "code",
   "execution_count": 92,
   "id": "60686809",
   "metadata": {},
   "outputs": [
    {
     "data": {
      "application/javascript": [
       "\n",
       "            setTimeout(function() {\n",
       "                var nbb_cell_id = 92;\n",
       "                var nbb_unformatted_code = \"def segment_images_and_get_nuclei_metadata(\\n    metadata,\\n    image_input_dir,\\n    outline_input_dir,\\n    output_dir,\\n    plate_col=\\\"Image_Metadata_Plate\\\",\\n    illum_file_col=\\\"Image_FileName_IllumHoechst\\\",\\n    nuclei_outline_col=\\\"Image_FileName_NucleiOutlines\\\",\\n    nuclei_count_col=\\\"Image_Count_Nuclei\\\",\\n    min_area=1,\\n):\\n    nuclei_metadata = []\\n    image_metadata = metadata.copy()\\n\\n    metadata_cols = list(metadata.columns)\\n    max_width = 0\\n    max_length = 0\\n\\n    if not os.path.exists(output_dir):\\n        os.makedirs(output_dir)\\n\\n    for i in tqdm(range(len(metadata))):\\n        plate = str(metadata.iloc[i, :][plate_col])\\n\\n        image_file_name = metadata.iloc[i, :][illum_file_col]\\n        image_file_path = os.path.join(input_dir, plate, image_file_name)\\n        image = tifffile.imread(image_file_path)\\n\\n        outline_file_name = metadata.iloc[i, :][nuclei_outline_col]\\n        outline_file_path = os.path.join(outline_input_dir, plate, outline_file_name)\\n        outline_image = io.imread(outline_file_path)\\n\\n        label_image = segment_image(outline_image)\\n\\n        label_image = morphology.remove_small_objects(label_image, min_size=min_area)\\n\\n        image_metadata.iloc[i, metadata_cols.index(nuclei_count_col)] = len(np.unique(label_image))\\n\\n        regions = measure.regionprops(label_image=label_image, intensity_image=image)\\n        for region in regions:\\n            width, length = region.image.shape\\n            max_width = max(max_width, width)\\n            max_length = max(max_length, length)\\n\\n            fname_start = image_file_name[: image_file_name.index(\\\".\\\")]\\n            fname_ending = image_file_name[image_file_name.index(\\\".\\\") :]\\n            plate_output_dir = os.path.join(output_dir, plate)\\n\\n            if not os.path.exists(plate_output_dir):\\n                os.makedirs(plate_output_dir)\\n\\n            output_file_name = os.path.join(\\n                plate_output_dir,\\n                fname_start + \\\"_{}\\\".format(region.label) + fname_ending,\\n            )\\n\\n            cropped = region.intensity_image\\n\\n            tifffile.imsave(output_file_name, cropped)\\n            nucleus_metadata = list(metadata.iloc[i, :])\\n            nucleus_metadata[metadata_cols.index(illum_file_col)] = os.path.split(\\n                output_file_name\\n            )[1]\\n            nuclei_metadata.append(nucleus_metadata)\\n    nuclei_metadata = pd.DataFrame(np.array(nuclei_metadata), columns=metadata_cols)\\n    nuclei_metadata = nuclei_metadata.loc[\\n        :,\\n        [\\n            \\\"Image_Metadata_Plate\\\",\\n            \\\"Image_Metadata_Well\\\",\\n            \\\"Image_FileName_IllumHoechst\\\",\\n            \\\"Image_Metadata_GeneID\\\",\\n            \\\"Image_Metadata_GeneSymbol\\\",\\n            \\\"Image_Metadata_IsLandmark\\\",\\n            \\\"Image_Metadata_AlleleDesc\\\",\\n            \\\"Image_Metadata_ExpressionVector\\\",\\n            \\\"Image_Metadata_FlaggedForToxicity\\\",\\n            \\\"Image_Metadata_IE_Blast_noBlast\\\",\\n            \\\"Image_Metadata_IntendedOrfMismatch\\\",\\n            \\\"Image_Metadata_OpenOrClosed\\\",\\n            \\\"Image_Metadata_RNAiVirusPlateName\\\",\\n            \\\"Image_Metadata_Site\\\",\\n            \\\"Image_Metadata_Type\\\",\\n            \\\"Image_Metadata_Virus_Vol_ul\\\",\\n            \\\"Image_Metadata_TimePoint_Hours\\\",\\n            \\\"Image_Metadata_ASSAY_WELL_ROLE\\\",\\n        ],\\n    ]\\n    nuclei_metadata.columns = [\\n        \\\"plate\\\",\\n        \\\"well\\\",\\n        \\\"image_file\\\",\\n        \\\"gene_id\\\",\\n        \\\"gene_symbol\\\",\\n        \\\"is_landmark\\\",\\n        \\\"allele\\\",\\n        \\\"expr_vec\\\",\\n        \\\"toxicity\\\",\\n        \\\"ie_blast\\\",\\n        \\\"intended_orf_mismatch\\\",\\n        \\\"open_closed\\\",\\n        \\\"rnai_plate\\\",\\n        \\\"site\\\",\\n        \\\"type\\\",\\n        \\\"virus_vol\\\",\\n        \\\"timepoint\\\",\\n        \\\"assay_well_role\\\",\\n    ]\\n    print(\\n        \\\"Nuclei segmentation complete: max dimensions ({}, {})\\\".format(\\n            max_width, max_length\\n        )\\n    )\\n    return nuclei_metadata, image_metadata\";\n",
       "                var nbb_formatted_code = \"def segment_images_and_get_nuclei_metadata(\\n    metadata,\\n    image_input_dir,\\n    outline_input_dir,\\n    output_dir,\\n    plate_col=\\\"Image_Metadata_Plate\\\",\\n    illum_file_col=\\\"Image_FileName_IllumHoechst\\\",\\n    nuclei_outline_col=\\\"Image_FileName_NucleiOutlines\\\",\\n    nuclei_count_col=\\\"Image_Count_Nuclei\\\",\\n    min_area=1,\\n):\\n    nuclei_metadata = []\\n    image_metadata = metadata.copy()\\n\\n    metadata_cols = list(metadata.columns)\\n    max_width = 0\\n    max_length = 0\\n\\n    if not os.path.exists(output_dir):\\n        os.makedirs(output_dir)\\n\\n    for i in tqdm(range(len(metadata))):\\n        plate = str(metadata.iloc[i, :][plate_col])\\n\\n        image_file_name = metadata.iloc[i, :][illum_file_col]\\n        image_file_path = os.path.join(input_dir, plate, image_file_name)\\n        image = tifffile.imread(image_file_path)\\n\\n        outline_file_name = metadata.iloc[i, :][nuclei_outline_col]\\n        outline_file_path = os.path.join(outline_input_dir, plate, outline_file_name)\\n        outline_image = io.imread(outline_file_path)\\n\\n        label_image = segment_image(outline_image)\\n\\n        label_image = morphology.remove_small_objects(label_image, min_size=min_area)\\n\\n        image_metadata.iloc[i, metadata_cols.index(nuclei_count_col)] = len(\\n            np.unique(label_image)\\n        )\\n\\n        regions = measure.regionprops(label_image=label_image, intensity_image=image)\\n        for region in regions:\\n            width, length = region.image.shape\\n            max_width = max(max_width, width)\\n            max_length = max(max_length, length)\\n\\n            fname_start = image_file_name[: image_file_name.index(\\\".\\\")]\\n            fname_ending = image_file_name[image_file_name.index(\\\".\\\") :]\\n            plate_output_dir = os.path.join(output_dir, plate)\\n\\n            if not os.path.exists(plate_output_dir):\\n                os.makedirs(plate_output_dir)\\n\\n            output_file_name = os.path.join(\\n                plate_output_dir,\\n                fname_start + \\\"_{}\\\".format(region.label) + fname_ending,\\n            )\\n\\n            cropped = region.intensity_image\\n\\n            tifffile.imsave(output_file_name, cropped)\\n            nucleus_metadata = list(metadata.iloc[i, :])\\n            nucleus_metadata[metadata_cols.index(illum_file_col)] = os.path.split(\\n                output_file_name\\n            )[1]\\n            nuclei_metadata.append(nucleus_metadata)\\n    nuclei_metadata = pd.DataFrame(np.array(nuclei_metadata), columns=metadata_cols)\\n    nuclei_metadata = nuclei_metadata.loc[\\n        :,\\n        [\\n            \\\"Image_Metadata_Plate\\\",\\n            \\\"Image_Metadata_Well\\\",\\n            \\\"Image_FileName_IllumHoechst\\\",\\n            \\\"Image_Metadata_GeneID\\\",\\n            \\\"Image_Metadata_GeneSymbol\\\",\\n            \\\"Image_Metadata_IsLandmark\\\",\\n            \\\"Image_Metadata_AlleleDesc\\\",\\n            \\\"Image_Metadata_ExpressionVector\\\",\\n            \\\"Image_Metadata_FlaggedForToxicity\\\",\\n            \\\"Image_Metadata_IE_Blast_noBlast\\\",\\n            \\\"Image_Metadata_IntendedOrfMismatch\\\",\\n            \\\"Image_Metadata_OpenOrClosed\\\",\\n            \\\"Image_Metadata_RNAiVirusPlateName\\\",\\n            \\\"Image_Metadata_Site\\\",\\n            \\\"Image_Metadata_Type\\\",\\n            \\\"Image_Metadata_Virus_Vol_ul\\\",\\n            \\\"Image_Metadata_TimePoint_Hours\\\",\\n            \\\"Image_Metadata_ASSAY_WELL_ROLE\\\",\\n        ],\\n    ]\\n    nuclei_metadata.columns = [\\n        \\\"plate\\\",\\n        \\\"well\\\",\\n        \\\"image_file\\\",\\n        \\\"gene_id\\\",\\n        \\\"gene_symbol\\\",\\n        \\\"is_landmark\\\",\\n        \\\"allele\\\",\\n        \\\"expr_vec\\\",\\n        \\\"toxicity\\\",\\n        \\\"ie_blast\\\",\\n        \\\"intended_orf_mismatch\\\",\\n        \\\"open_closed\\\",\\n        \\\"rnai_plate\\\",\\n        \\\"site\\\",\\n        \\\"type\\\",\\n        \\\"virus_vol\\\",\\n        \\\"timepoint\\\",\\n        \\\"assay_well_role\\\",\\n    ]\\n    print(\\n        \\\"Nuclei segmentation complete: max dimensions ({}, {})\\\".format(\\n            max_width, max_length\\n        )\\n    )\\n    return nuclei_metadata, image_metadata\";\n",
       "                var nbb_cells = Jupyter.notebook.get_cells();\n",
       "                for (var i = 0; i < nbb_cells.length; ++i) {\n",
       "                    if (nbb_cells[i].input_prompt_number == nbb_cell_id) {\n",
       "                        if (nbb_cells[i].get_text() == nbb_unformatted_code) {\n",
       "                             nbb_cells[i].set_text(nbb_formatted_code);\n",
       "                        }\n",
       "                        break;\n",
       "                    }\n",
       "                }\n",
       "            }, 500);\n",
       "            "
      ],
      "text/plain": [
       "<IPython.core.display.Javascript object>"
      ]
     },
     "metadata": {},
     "output_type": "display_data"
    }
   ],
   "source": [
    "def segment_images_and_get_nuclei_metadata(\n",
    "    metadata,\n",
    "    image_input_dir,\n",
    "    outline_input_dir,\n",
    "    output_dir,\n",
    "    plate_col=\"Image_Metadata_Plate\",\n",
    "    illum_file_col=\"Image_FileName_IllumHoechst\",\n",
    "    nuclei_outline_col=\"Image_FileName_NucleiOutlines\",\n",
    "    nuclei_count_col=\"Image_Count_Nuclei\",\n",
    "    min_area=1,\n",
    "):\n",
    "    nuclei_metadata = []\n",
    "    image_metadata = metadata.copy()\n",
    "\n",
    "    metadata_cols = list(metadata.columns)\n",
    "    max_width = 0\n",
    "    max_length = 0\n",
    "\n",
    "    if not os.path.exists(output_dir):\n",
    "        os.makedirs(output_dir)\n",
    "\n",
    "    for i in tqdm(range(len(metadata))):\n",
    "        plate = str(metadata.iloc[i, :][plate_col])\n",
    "\n",
    "        image_file_name = metadata.iloc[i, :][illum_file_col]\n",
    "        image_file_path = os.path.join(input_dir, plate, image_file_name)\n",
    "        image = tifffile.imread(image_file_path)\n",
    "\n",
    "        outline_file_name = metadata.iloc[i, :][nuclei_outline_col]\n",
    "        outline_file_path = os.path.join(outline_input_dir, plate, outline_file_name)\n",
    "        outline_image = io.imread(outline_file_path)\n",
    "\n",
    "        label_image = segment_image(outline_image)\n",
    "\n",
    "        label_image = morphology.remove_small_objects(label_image, min_size=min_area)\n",
    "\n",
    "        image_metadata.iloc[i, metadata_cols.index(nuclei_count_col)] = len(\n",
    "            np.unique(label_image)\n",
    "        )\n",
    "\n",
    "        regions = measure.regionprops(label_image=label_image, intensity_image=image)\n",
    "        for region in regions:\n",
    "            width, length = region.image.shape\n",
    "            max_width = max(max_width, width)\n",
    "            max_length = max(max_length, length)\n",
    "\n",
    "            fname_start = image_file_name[: image_file_name.index(\".\")]\n",
    "            fname_ending = image_file_name[image_file_name.index(\".\") :]\n",
    "            plate_output_dir = os.path.join(output_dir, plate)\n",
    "\n",
    "            if not os.path.exists(plate_output_dir):\n",
    "                os.makedirs(plate_output_dir)\n",
    "\n",
    "            output_file_name = os.path.join(\n",
    "                plate_output_dir,\n",
    "                fname_start + \"_{}\".format(region.label) + fname_ending,\n",
    "            )\n",
    "\n",
    "            cropped = region.intensity_image\n",
    "\n",
    "            tifffile.imsave(output_file_name, cropped)\n",
    "            nucleus_metadata = list(metadata.iloc[i, :])\n",
    "            nucleus_metadata[metadata_cols.index(illum_file_col)] = os.path.split(\n",
    "                output_file_name\n",
    "            )[1]\n",
    "            nuclei_metadata.append(nucleus_metadata)\n",
    "    nuclei_metadata = pd.DataFrame(np.array(nuclei_metadata), columns=metadata_cols)\n",
    "    nuclei_metadata = nuclei_metadata.loc[\n",
    "        :,\n",
    "        [\n",
    "            \"Image_Metadata_Plate\",\n",
    "            \"Image_Metadata_Well\",\n",
    "            \"Image_FileName_IllumHoechst\",\n",
    "            \"Image_Metadata_GeneID\",\n",
    "            \"Image_Metadata_GeneSymbol\",\n",
    "            \"Image_Metadata_IsLandmark\",\n",
    "            \"Image_Metadata_AlleleDesc\",\n",
    "            \"Image_Metadata_ExpressionVector\",\n",
    "            \"Image_Metadata_FlaggedForToxicity\",\n",
    "            \"Image_Metadata_IE_Blast_noBlast\",\n",
    "            \"Image_Metadata_IntendedOrfMismatch\",\n",
    "            \"Image_Metadata_OpenOrClosed\",\n",
    "            \"Image_Metadata_RNAiVirusPlateName\",\n",
    "            \"Image_Metadata_Site\",\n",
    "            \"Image_Metadata_Type\",\n",
    "            \"Image_Metadata_Virus_Vol_ul\",\n",
    "            \"Image_Metadata_TimePoint_Hours\",\n",
    "            \"Image_Metadata_ASSAY_WELL_ROLE\",\n",
    "        ],\n",
    "    ]\n",
    "    nuclei_metadata.columns = [\n",
    "        \"plate\",\n",
    "        \"well\",\n",
    "        \"image_file\",\n",
    "        \"gene_id\",\n",
    "        \"gene_symbol\",\n",
    "        \"is_landmark\",\n",
    "        \"allele\",\n",
    "        \"expr_vec\",\n",
    "        \"toxicity\",\n",
    "        \"ie_blast\",\n",
    "        \"intended_orf_mismatch\",\n",
    "        \"open_closed\",\n",
    "        \"rnai_plate\",\n",
    "        \"site\",\n",
    "        \"type\",\n",
    "        \"virus_vol\",\n",
    "        \"timepoint\",\n",
    "        \"assay_well_role\",\n",
    "    ]\n",
    "    print(\n",
    "        \"Nuclei segmentation complete: max dimensions ({}, {})\".format(\n",
    "            max_width, max_length\n",
    "        )\n",
    "    )\n",
    "    return nuclei_metadata, image_metadata"
   ]
  },
  {
   "cell_type": "markdown",
   "id": "dc6d4f72",
   "metadata": {},
   "source": [
    "---\n",
    "\n",
    "## 1. Read in data\n",
    "\n",
    "First, we will read in the metadata information that provide information about e.g. which images correspond to which plate, well combination and which gene was targeted. The respective file was exported from a database for which the corresponding sql script has been published alongside with the imaging data. Please refer to the github repo of the original publication for more information of how to set up the database. To derive the metadata file load in in the following, we provide a custom sql-file (`extract_metadata.sql`)."
   ]
  },
  {
   "cell_type": "code",
   "execution_count": 9,
   "id": "95679952",
   "metadata": {},
   "outputs": [
    {
     "data": {
      "text/html": [
       "<div>\n",
       "<style scoped>\n",
       "    .dataframe tbody tr th:only-of-type {\n",
       "        vertical-align: middle;\n",
       "    }\n",
       "\n",
       "    .dataframe tbody tr th {\n",
       "        vertical-align: top;\n",
       "    }\n",
       "\n",
       "    .dataframe thead th {\n",
       "        text-align: right;\n",
       "    }\n",
       "</style>\n",
       "<table border=\"1\" class=\"dataframe\">\n",
       "  <thead>\n",
       "    <tr style=\"text-align: right;\">\n",
       "      <th></th>\n",
       "      <th>Image_Metadata_Plate</th>\n",
       "      <th>Image_Metadata_Well</th>\n",
       "      <th>Image_FileName_OrigHoechst</th>\n",
       "      <th>Image_FileName_NucleiOutlines</th>\n",
       "      <th>Image_Count_Nuclei</th>\n",
       "      <th>Image_Metadata_GeneID</th>\n",
       "      <th>Image_Metadata_GeneSymbol</th>\n",
       "      <th>Image_Metadata_IsLandmark</th>\n",
       "      <th>Image_Metadata_AlleleDesc</th>\n",
       "      <th>Image_Metadata_ExpressionVector</th>\n",
       "      <th>...</th>\n",
       "      <th>Image_Metadata_IntendedOrfMismatch</th>\n",
       "      <th>Image_Metadata_OpenOrClosed</th>\n",
       "      <th>Image_Metadata_RNAiVirusPlateName</th>\n",
       "      <th>Image_Metadata_Site</th>\n",
       "      <th>Image_Metadata_TimePoint_Hours</th>\n",
       "      <th>Image_Metadata_Type</th>\n",
       "      <th>Image_Metadata_Virus_Vol_ul</th>\n",
       "      <th>Image_Metadata_ASSAY_WELL_ROLE</th>\n",
       "      <th>Image_Metadata_QCFlag_isBlurry</th>\n",
       "      <th>Image_Metadata_QCFlag_isSaturated</th>\n",
       "    </tr>\n",
       "  </thead>\n",
       "  <tbody>\n",
       "    <tr>\n",
       "      <th>0</th>\n",
       "      <td>41744</td>\n",
       "      <td>k21</td>\n",
       "      <td>taoe005-u2os-72h-cp-a-au00044859_k21_s7_w10efe...</td>\n",
       "      <td>k21_s7_NucleiOutlines.png</td>\n",
       "      <td>60</td>\n",
       "      <td>1977.0</td>\n",
       "      <td>EIF4E</td>\n",
       "      <td>0.0</td>\n",
       "      <td>WT.2</td>\n",
       "      <td>pLX304</td>\n",
       "      <td>...</td>\n",
       "      <td>NaN</td>\n",
       "      <td>open</td>\n",
       "      <td>ORA11.12.13.18A</td>\n",
       "      <td>7</td>\n",
       "      <td>72H</td>\n",
       "      <td>ORF OE</td>\n",
       "      <td>1</td>\n",
       "      <td>Treated</td>\n",
       "      <td>0</td>\n",
       "      <td>0</td>\n",
       "    </tr>\n",
       "    <tr>\n",
       "      <th>1</th>\n",
       "      <td>41744</td>\n",
       "      <td>i13</td>\n",
       "      <td>taoe005-u2os-72h-cp-a-au00044859_i13_s4_w13be2...</td>\n",
       "      <td>i13_s4_NucleiOutlines.png</td>\n",
       "      <td>69</td>\n",
       "      <td>22943.0</td>\n",
       "      <td>DKK1</td>\n",
       "      <td>0.0</td>\n",
       "      <td>WT</td>\n",
       "      <td>pLX304</td>\n",
       "      <td>...</td>\n",
       "      <td>NaN</td>\n",
       "      <td>open</td>\n",
       "      <td>ORA11.12.13.18A</td>\n",
       "      <td>4</td>\n",
       "      <td>72H</td>\n",
       "      <td>ORF OE</td>\n",
       "      <td>1</td>\n",
       "      <td>Treated</td>\n",
       "      <td>0</td>\n",
       "      <td>0</td>\n",
       "    </tr>\n",
       "    <tr>\n",
       "      <th>2</th>\n",
       "      <td>41744</td>\n",
       "      <td>j16</td>\n",
       "      <td>taoe005-u2os-72h-cp-a-au00044859_j16_s9_w1b03e...</td>\n",
       "      <td>j16_s9_NucleiOutlines.png</td>\n",
       "      <td>48</td>\n",
       "      <td>22926.0</td>\n",
       "      <td>ATF6</td>\n",
       "      <td>1.0</td>\n",
       "      <td>WT.1</td>\n",
       "      <td>pLX304</td>\n",
       "      <td>...</td>\n",
       "      <td>NaN</td>\n",
       "      <td>open</td>\n",
       "      <td>ORA11.12.13.18A</td>\n",
       "      <td>9</td>\n",
       "      <td>72H</td>\n",
       "      <td>ORF OE</td>\n",
       "      <td>1</td>\n",
       "      <td>Treated</td>\n",
       "      <td>0</td>\n",
       "      <td>0</td>\n",
       "    </tr>\n",
       "    <tr>\n",
       "      <th>3</th>\n",
       "      <td>41744</td>\n",
       "      <td>m07</td>\n",
       "      <td>taoe005-u2os-72h-cp-a-au00044859_m07_s5_w1226d...</td>\n",
       "      <td>m07_s5_NucleiOutlines.png</td>\n",
       "      <td>57</td>\n",
       "      <td>5045.0</td>\n",
       "      <td>FURIN</td>\n",
       "      <td>0.0</td>\n",
       "      <td>WT.2</td>\n",
       "      <td>pLX304</td>\n",
       "      <td>...</td>\n",
       "      <td>NaN</td>\n",
       "      <td>open</td>\n",
       "      <td>ORA11.12.13.18A</td>\n",
       "      <td>5</td>\n",
       "      <td>72H</td>\n",
       "      <td>ORF OE</td>\n",
       "      <td>1</td>\n",
       "      <td>Treated</td>\n",
       "      <td>0</td>\n",
       "      <td>0</td>\n",
       "    </tr>\n",
       "    <tr>\n",
       "      <th>4</th>\n",
       "      <td>41744</td>\n",
       "      <td>i04</td>\n",
       "      <td>taoe005-u2os-72h-cp-a-au00044859_i04_s5_w1f731...</td>\n",
       "      <td>i04_s5_NucleiOutlines.png</td>\n",
       "      <td>51</td>\n",
       "      <td>5599.0</td>\n",
       "      <td>MAPK8</td>\n",
       "      <td>0.0</td>\n",
       "      <td>WT.2</td>\n",
       "      <td>pLX304</td>\n",
       "      <td>...</td>\n",
       "      <td>NaN</td>\n",
       "      <td>open</td>\n",
       "      <td>ORA11.12.13.18A</td>\n",
       "      <td>5</td>\n",
       "      <td>72H</td>\n",
       "      <td>ORF OE</td>\n",
       "      <td>1</td>\n",
       "      <td>Treated</td>\n",
       "      <td>0</td>\n",
       "      <td>0</td>\n",
       "    </tr>\n",
       "  </tbody>\n",
       "</table>\n",
       "<p>5 rows × 22 columns</p>\n",
       "</div>"
      ],
      "text/plain": [
       "   Image_Metadata_Plate Image_Metadata_Well  \\\n",
       "0                 41744                 k21   \n",
       "1                 41744                 i13   \n",
       "2                 41744                 j16   \n",
       "3                 41744                 m07   \n",
       "4                 41744                 i04   \n",
       "\n",
       "                          Image_FileName_OrigHoechst  \\\n",
       "0  taoe005-u2os-72h-cp-a-au00044859_k21_s7_w10efe...   \n",
       "1  taoe005-u2os-72h-cp-a-au00044859_i13_s4_w13be2...   \n",
       "2  taoe005-u2os-72h-cp-a-au00044859_j16_s9_w1b03e...   \n",
       "3  taoe005-u2os-72h-cp-a-au00044859_m07_s5_w1226d...   \n",
       "4  taoe005-u2os-72h-cp-a-au00044859_i04_s5_w1f731...   \n",
       "\n",
       "  Image_FileName_NucleiOutlines  Image_Count_Nuclei  Image_Metadata_GeneID  \\\n",
       "0     k21_s7_NucleiOutlines.png                  60                 1977.0   \n",
       "1     i13_s4_NucleiOutlines.png                  69                22943.0   \n",
       "2     j16_s9_NucleiOutlines.png                  48                22926.0   \n",
       "3     m07_s5_NucleiOutlines.png                  57                 5045.0   \n",
       "4     i04_s5_NucleiOutlines.png                  51                 5599.0   \n",
       "\n",
       "  Image_Metadata_GeneSymbol  Image_Metadata_IsLandmark  \\\n",
       "0                     EIF4E                        0.0   \n",
       "1                      DKK1                        0.0   \n",
       "2                      ATF6                        1.0   \n",
       "3                     FURIN                        0.0   \n",
       "4                     MAPK8                        0.0   \n",
       "\n",
       "  Image_Metadata_AlleleDesc Image_Metadata_ExpressionVector  ...  \\\n",
       "0                      WT.2                          pLX304  ...   \n",
       "1                        WT                          pLX304  ...   \n",
       "2                      WT.1                          pLX304  ...   \n",
       "3                      WT.2                          pLX304  ...   \n",
       "4                      WT.2                          pLX304  ...   \n",
       "\n",
       "  Image_Metadata_IntendedOrfMismatch  Image_Metadata_OpenOrClosed  \\\n",
       "0                                NaN                         open   \n",
       "1                                NaN                         open   \n",
       "2                                NaN                         open   \n",
       "3                                NaN                         open   \n",
       "4                                NaN                         open   \n",
       "\n",
       "  Image_Metadata_RNAiVirusPlateName Image_Metadata_Site  \\\n",
       "0                   ORA11.12.13.18A                   7   \n",
       "1                   ORA11.12.13.18A                   4   \n",
       "2                   ORA11.12.13.18A                   9   \n",
       "3                   ORA11.12.13.18A                   5   \n",
       "4                   ORA11.12.13.18A                   5   \n",
       "\n",
       "  Image_Metadata_TimePoint_Hours  Image_Metadata_Type  \\\n",
       "0                            72H               ORF OE   \n",
       "1                            72H               ORF OE   \n",
       "2                            72H               ORF OE   \n",
       "3                            72H               ORF OE   \n",
       "4                            72H               ORF OE   \n",
       "\n",
       "  Image_Metadata_Virus_Vol_ul Image_Metadata_ASSAY_WELL_ROLE  \\\n",
       "0                           1                        Treated   \n",
       "1                           1                        Treated   \n",
       "2                           1                        Treated   \n",
       "3                           1                        Treated   \n",
       "4                           1                        Treated   \n",
       "\n",
       "   Image_Metadata_QCFlag_isBlurry Image_Metadata_QCFlag_isSaturated  \n",
       "0                               0                                 0  \n",
       "1                               0                                 0  \n",
       "2                               0                                 0  \n",
       "3                               0                                 0  \n",
       "4                               0                                 0  \n",
       "\n",
       "[5 rows x 22 columns]"
      ]
     },
     "execution_count": 9,
     "metadata": {},
     "output_type": "execute_result"
    },
    {
     "data": {
      "application/javascript": [
       "\n",
       "            setTimeout(function() {\n",
       "                var nbb_cell_id = 9;\n",
       "                var nbb_unformatted_code = \"metadata = pd.read_csv(\\\"../data/images/metadata/metadata_image_data.csv\\\")\\nmetadata.head()\";\n",
       "                var nbb_formatted_code = \"metadata = pd.read_csv(\\\"../data/images/metadata/metadata_image_data.csv\\\")\\nmetadata.head()\";\n",
       "                var nbb_cells = Jupyter.notebook.get_cells();\n",
       "                for (var i = 0; i < nbb_cells.length; ++i) {\n",
       "                    if (nbb_cells[i].input_prompt_number == nbb_cell_id) {\n",
       "                        if (nbb_cells[i].get_text() == nbb_unformatted_code) {\n",
       "                             nbb_cells[i].set_text(nbb_formatted_code);\n",
       "                        }\n",
       "                        break;\n",
       "                    }\n",
       "                }\n",
       "            }, 500);\n",
       "            "
      ],
      "text/plain": [
       "<IPython.core.display.Javascript object>"
      ]
     },
     "metadata": {},
     "output_type": "display_data"
    }
   ],
   "source": [
    "metadata = pd.read_csv(\"../data/images/metadata/metadata_image_data.csv\")\n",
    "metadata.head()"
   ]
  },
  {
   "cell_type": "markdown",
   "id": "89f0427b",
   "metadata": {},
   "source": [
    "As suggested in the original publication we will be working with the image that were corrected for different illumination conditions that is also available.\n",
    "\n",
    "We will now adapt the `Image_FileName_OrigHoechst` entries in the metadata dataframe by the posfix `_illum_corrected` to ensure that the column represents the actual filenames of `.tif` images that we will be working with."
   ]
  },
  {
   "cell_type": "code",
   "execution_count": 10,
   "id": "226bc0c8",
   "metadata": {},
   "outputs": [
    {
     "data": {
      "text/html": [
       "<div>\n",
       "<style scoped>\n",
       "    .dataframe tbody tr th:only-of-type {\n",
       "        vertical-align: middle;\n",
       "    }\n",
       "\n",
       "    .dataframe tbody tr th {\n",
       "        vertical-align: top;\n",
       "    }\n",
       "\n",
       "    .dataframe thead th {\n",
       "        text-align: right;\n",
       "    }\n",
       "</style>\n",
       "<table border=\"1\" class=\"dataframe\">\n",
       "  <thead>\n",
       "    <tr style=\"text-align: right;\">\n",
       "      <th></th>\n",
       "      <th>Image_Metadata_Plate</th>\n",
       "      <th>Image_Metadata_Well</th>\n",
       "      <th>Image_FileName_OrigHoechst</th>\n",
       "      <th>Image_FileName_NucleiOutlines</th>\n",
       "      <th>Image_Count_Nuclei</th>\n",
       "      <th>Image_Metadata_GeneID</th>\n",
       "      <th>Image_Metadata_GeneSymbol</th>\n",
       "      <th>Image_Metadata_IsLandmark</th>\n",
       "      <th>Image_Metadata_AlleleDesc</th>\n",
       "      <th>Image_Metadata_ExpressionVector</th>\n",
       "      <th>...</th>\n",
       "      <th>Image_Metadata_OpenOrClosed</th>\n",
       "      <th>Image_Metadata_RNAiVirusPlateName</th>\n",
       "      <th>Image_Metadata_Site</th>\n",
       "      <th>Image_Metadata_TimePoint_Hours</th>\n",
       "      <th>Image_Metadata_Type</th>\n",
       "      <th>Image_Metadata_Virus_Vol_ul</th>\n",
       "      <th>Image_Metadata_ASSAY_WELL_ROLE</th>\n",
       "      <th>Image_Metadata_QCFlag_isBlurry</th>\n",
       "      <th>Image_Metadata_QCFlag_isSaturated</th>\n",
       "      <th>Image_FileName_IllumHoechst</th>\n",
       "    </tr>\n",
       "  </thead>\n",
       "  <tbody>\n",
       "    <tr>\n",
       "      <th>0</th>\n",
       "      <td>41744</td>\n",
       "      <td>k21</td>\n",
       "      <td>taoe005-u2os-72h-cp-a-au00044859_k21_s7_w10efe...</td>\n",
       "      <td>k21_s7_NucleiOutlines.png</td>\n",
       "      <td>60</td>\n",
       "      <td>1977.0</td>\n",
       "      <td>EIF4E</td>\n",
       "      <td>0.0</td>\n",
       "      <td>WT.2</td>\n",
       "      <td>pLX304</td>\n",
       "      <td>...</td>\n",
       "      <td>open</td>\n",
       "      <td>ORA11.12.13.18A</td>\n",
       "      <td>7</td>\n",
       "      <td>72H</td>\n",
       "      <td>ORF OE</td>\n",
       "      <td>1</td>\n",
       "      <td>Treated</td>\n",
       "      <td>0</td>\n",
       "      <td>0</td>\n",
       "      <td>taoe005-u2os-72h-cp-a-au00044859_k21_s7_w10efe...</td>\n",
       "    </tr>\n",
       "    <tr>\n",
       "      <th>1</th>\n",
       "      <td>41744</td>\n",
       "      <td>i13</td>\n",
       "      <td>taoe005-u2os-72h-cp-a-au00044859_i13_s4_w13be2...</td>\n",
       "      <td>i13_s4_NucleiOutlines.png</td>\n",
       "      <td>69</td>\n",
       "      <td>22943.0</td>\n",
       "      <td>DKK1</td>\n",
       "      <td>0.0</td>\n",
       "      <td>WT</td>\n",
       "      <td>pLX304</td>\n",
       "      <td>...</td>\n",
       "      <td>open</td>\n",
       "      <td>ORA11.12.13.18A</td>\n",
       "      <td>4</td>\n",
       "      <td>72H</td>\n",
       "      <td>ORF OE</td>\n",
       "      <td>1</td>\n",
       "      <td>Treated</td>\n",
       "      <td>0</td>\n",
       "      <td>0</td>\n",
       "      <td>taoe005-u2os-72h-cp-a-au00044859_i13_s4_w13be2...</td>\n",
       "    </tr>\n",
       "    <tr>\n",
       "      <th>2</th>\n",
       "      <td>41744</td>\n",
       "      <td>j16</td>\n",
       "      <td>taoe005-u2os-72h-cp-a-au00044859_j16_s9_w1b03e...</td>\n",
       "      <td>j16_s9_NucleiOutlines.png</td>\n",
       "      <td>48</td>\n",
       "      <td>22926.0</td>\n",
       "      <td>ATF6</td>\n",
       "      <td>1.0</td>\n",
       "      <td>WT.1</td>\n",
       "      <td>pLX304</td>\n",
       "      <td>...</td>\n",
       "      <td>open</td>\n",
       "      <td>ORA11.12.13.18A</td>\n",
       "      <td>9</td>\n",
       "      <td>72H</td>\n",
       "      <td>ORF OE</td>\n",
       "      <td>1</td>\n",
       "      <td>Treated</td>\n",
       "      <td>0</td>\n",
       "      <td>0</td>\n",
       "      <td>taoe005-u2os-72h-cp-a-au00044859_j16_s9_w1b03e...</td>\n",
       "    </tr>\n",
       "    <tr>\n",
       "      <th>3</th>\n",
       "      <td>41744</td>\n",
       "      <td>m07</td>\n",
       "      <td>taoe005-u2os-72h-cp-a-au00044859_m07_s5_w1226d...</td>\n",
       "      <td>m07_s5_NucleiOutlines.png</td>\n",
       "      <td>57</td>\n",
       "      <td>5045.0</td>\n",
       "      <td>FURIN</td>\n",
       "      <td>0.0</td>\n",
       "      <td>WT.2</td>\n",
       "      <td>pLX304</td>\n",
       "      <td>...</td>\n",
       "      <td>open</td>\n",
       "      <td>ORA11.12.13.18A</td>\n",
       "      <td>5</td>\n",
       "      <td>72H</td>\n",
       "      <td>ORF OE</td>\n",
       "      <td>1</td>\n",
       "      <td>Treated</td>\n",
       "      <td>0</td>\n",
       "      <td>0</td>\n",
       "      <td>taoe005-u2os-72h-cp-a-au00044859_m07_s5_w1226d...</td>\n",
       "    </tr>\n",
       "    <tr>\n",
       "      <th>4</th>\n",
       "      <td>41744</td>\n",
       "      <td>i04</td>\n",
       "      <td>taoe005-u2os-72h-cp-a-au00044859_i04_s5_w1f731...</td>\n",
       "      <td>i04_s5_NucleiOutlines.png</td>\n",
       "      <td>51</td>\n",
       "      <td>5599.0</td>\n",
       "      <td>MAPK8</td>\n",
       "      <td>0.0</td>\n",
       "      <td>WT.2</td>\n",
       "      <td>pLX304</td>\n",
       "      <td>...</td>\n",
       "      <td>open</td>\n",
       "      <td>ORA11.12.13.18A</td>\n",
       "      <td>5</td>\n",
       "      <td>72H</td>\n",
       "      <td>ORF OE</td>\n",
       "      <td>1</td>\n",
       "      <td>Treated</td>\n",
       "      <td>0</td>\n",
       "      <td>0</td>\n",
       "      <td>taoe005-u2os-72h-cp-a-au00044859_i04_s5_w1f731...</td>\n",
       "    </tr>\n",
       "  </tbody>\n",
       "</table>\n",
       "<p>5 rows × 23 columns</p>\n",
       "</div>"
      ],
      "text/plain": [
       "   Image_Metadata_Plate Image_Metadata_Well  \\\n",
       "0                 41744                 k21   \n",
       "1                 41744                 i13   \n",
       "2                 41744                 j16   \n",
       "3                 41744                 m07   \n",
       "4                 41744                 i04   \n",
       "\n",
       "                          Image_FileName_OrigHoechst  \\\n",
       "0  taoe005-u2os-72h-cp-a-au00044859_k21_s7_w10efe...   \n",
       "1  taoe005-u2os-72h-cp-a-au00044859_i13_s4_w13be2...   \n",
       "2  taoe005-u2os-72h-cp-a-au00044859_j16_s9_w1b03e...   \n",
       "3  taoe005-u2os-72h-cp-a-au00044859_m07_s5_w1226d...   \n",
       "4  taoe005-u2os-72h-cp-a-au00044859_i04_s5_w1f731...   \n",
       "\n",
       "  Image_FileName_NucleiOutlines  Image_Count_Nuclei  Image_Metadata_GeneID  \\\n",
       "0     k21_s7_NucleiOutlines.png                  60                 1977.0   \n",
       "1     i13_s4_NucleiOutlines.png                  69                22943.0   \n",
       "2     j16_s9_NucleiOutlines.png                  48                22926.0   \n",
       "3     m07_s5_NucleiOutlines.png                  57                 5045.0   \n",
       "4     i04_s5_NucleiOutlines.png                  51                 5599.0   \n",
       "\n",
       "  Image_Metadata_GeneSymbol  Image_Metadata_IsLandmark  \\\n",
       "0                     EIF4E                        0.0   \n",
       "1                      DKK1                        0.0   \n",
       "2                      ATF6                        1.0   \n",
       "3                     FURIN                        0.0   \n",
       "4                     MAPK8                        0.0   \n",
       "\n",
       "  Image_Metadata_AlleleDesc Image_Metadata_ExpressionVector  ...  \\\n",
       "0                      WT.2                          pLX304  ...   \n",
       "1                        WT                          pLX304  ...   \n",
       "2                      WT.1                          pLX304  ...   \n",
       "3                      WT.2                          pLX304  ...   \n",
       "4                      WT.2                          pLX304  ...   \n",
       "\n",
       "  Image_Metadata_OpenOrClosed  Image_Metadata_RNAiVirusPlateName  \\\n",
       "0                        open                    ORA11.12.13.18A   \n",
       "1                        open                    ORA11.12.13.18A   \n",
       "2                        open                    ORA11.12.13.18A   \n",
       "3                        open                    ORA11.12.13.18A   \n",
       "4                        open                    ORA11.12.13.18A   \n",
       "\n",
       "  Image_Metadata_Site Image_Metadata_TimePoint_Hours Image_Metadata_Type  \\\n",
       "0                   7                            72H              ORF OE   \n",
       "1                   4                            72H              ORF OE   \n",
       "2                   9                            72H              ORF OE   \n",
       "3                   5                            72H              ORF OE   \n",
       "4                   5                            72H              ORF OE   \n",
       "\n",
       "   Image_Metadata_Virus_Vol_ul Image_Metadata_ASSAY_WELL_ROLE  \\\n",
       "0                            1                        Treated   \n",
       "1                            1                        Treated   \n",
       "2                            1                        Treated   \n",
       "3                            1                        Treated   \n",
       "4                            1                        Treated   \n",
       "\n",
       "  Image_Metadata_QCFlag_isBlurry  Image_Metadata_QCFlag_isSaturated  \\\n",
       "0                              0                                  0   \n",
       "1                              0                                  0   \n",
       "2                              0                                  0   \n",
       "3                              0                                  0   \n",
       "4                              0                                  0   \n",
       "\n",
       "                         Image_FileName_IllumHoechst  \n",
       "0  taoe005-u2os-72h-cp-a-au00044859_k21_s7_w10efe...  \n",
       "1  taoe005-u2os-72h-cp-a-au00044859_i13_s4_w13be2...  \n",
       "2  taoe005-u2os-72h-cp-a-au00044859_j16_s9_w1b03e...  \n",
       "3  taoe005-u2os-72h-cp-a-au00044859_m07_s5_w1226d...  \n",
       "4  taoe005-u2os-72h-cp-a-au00044859_i04_s5_w1f731...  \n",
       "\n",
       "[5 rows x 23 columns]"
      ]
     },
     "execution_count": 10,
     "metadata": {},
     "output_type": "execute_result"
    },
    {
     "data": {
      "application/javascript": [
       "\n",
       "            setTimeout(function() {\n",
       "                var nbb_cell_id = 10;\n",
       "                var nbb_unformatted_code = \"posfix = \\\"_illum_corrected\\\"\\norig_col = \\\"Image_FileName_OrigHoechst\\\"\\nillum_col = \\\"Image_FileName_IllumHoechst\\\"\\n\\nmetadata = rename_image_filenames(\\n    metadata, orig_col=orig_col, illum_col=illum_col, posfix=posfix\\n)\\nmetadata.head()\";\n",
       "                var nbb_formatted_code = \"posfix = \\\"_illum_corrected\\\"\\norig_col = \\\"Image_FileName_OrigHoechst\\\"\\nillum_col = \\\"Image_FileName_IllumHoechst\\\"\\n\\nmetadata = rename_image_filenames(\\n    metadata, orig_col=orig_col, illum_col=illum_col, posfix=posfix\\n)\\nmetadata.head()\";\n",
       "                var nbb_cells = Jupyter.notebook.get_cells();\n",
       "                for (var i = 0; i < nbb_cells.length; ++i) {\n",
       "                    if (nbb_cells[i].input_prompt_number == nbb_cell_id) {\n",
       "                        if (nbb_cells[i].get_text() == nbb_unformatted_code) {\n",
       "                             nbb_cells[i].set_text(nbb_formatted_code);\n",
       "                        }\n",
       "                        break;\n",
       "                    }\n",
       "                }\n",
       "            }, 500);\n",
       "            "
      ],
      "text/plain": [
       "<IPython.core.display.Javascript object>"
      ]
     },
     "metadata": {},
     "output_type": "display_data"
    }
   ],
   "source": [
    "posfix = \"_illum_corrected\"\n",
    "orig_col = \"Image_FileName_OrigHoechst\"\n",
    "illum_col = \"Image_FileName_IllumHoechst\"\n",
    "\n",
    "metadata = rename_image_filenames(\n",
    "    metadata, orig_col=orig_col, illum_col=illum_col, posfix=posfix\n",
    ")\n",
    "metadata.head()"
   ]
  },
  {
   "cell_type": "markdown",
   "id": "cadea9f7",
   "metadata": {},
   "source": [
    "---\n",
    "\n",
    "## 2. Data filtering\n",
    "\n",
    "### 2a. Filter out blurry or saturated images\n",
    "\n",
    "Next, we will filter out images that were identified to be blurry or saturated and thus not passing the standards for the image quality that we take over from the authors of the original publication. The respective information are also available in the metadata."
   ]
  },
  {
   "cell_type": "code",
   "execution_count": 11,
   "id": "8bb06ac9",
   "metadata": {},
   "outputs": [
    {
     "data": {
      "text/html": [
       "<div>\n",
       "<style scoped>\n",
       "    .dataframe tbody tr th:only-of-type {\n",
       "        vertical-align: middle;\n",
       "    }\n",
       "\n",
       "    .dataframe tbody tr th {\n",
       "        vertical-align: top;\n",
       "    }\n",
       "\n",
       "    .dataframe thead th {\n",
       "        text-align: right;\n",
       "    }\n",
       "</style>\n",
       "<table border=\"1\" class=\"dataframe\">\n",
       "  <thead>\n",
       "    <tr style=\"text-align: right;\">\n",
       "      <th></th>\n",
       "      <th>Image_Metadata_Plate</th>\n",
       "      <th>Image_Metadata_Well</th>\n",
       "      <th>Image_FileName_OrigHoechst</th>\n",
       "      <th>Image_FileName_NucleiOutlines</th>\n",
       "      <th>Image_Count_Nuclei</th>\n",
       "      <th>Image_Metadata_GeneID</th>\n",
       "      <th>Image_Metadata_GeneSymbol</th>\n",
       "      <th>Image_Metadata_IsLandmark</th>\n",
       "      <th>Image_Metadata_AlleleDesc</th>\n",
       "      <th>Image_Metadata_ExpressionVector</th>\n",
       "      <th>...</th>\n",
       "      <th>Image_Metadata_OpenOrClosed</th>\n",
       "      <th>Image_Metadata_RNAiVirusPlateName</th>\n",
       "      <th>Image_Metadata_Site</th>\n",
       "      <th>Image_Metadata_TimePoint_Hours</th>\n",
       "      <th>Image_Metadata_Type</th>\n",
       "      <th>Image_Metadata_Virus_Vol_ul</th>\n",
       "      <th>Image_Metadata_ASSAY_WELL_ROLE</th>\n",
       "      <th>Image_Metadata_QCFlag_isBlurry</th>\n",
       "      <th>Image_Metadata_QCFlag_isSaturated</th>\n",
       "      <th>Image_FileName_IllumHoechst</th>\n",
       "    </tr>\n",
       "  </thead>\n",
       "  <tbody>\n",
       "    <tr>\n",
       "      <th>0</th>\n",
       "      <td>41744</td>\n",
       "      <td>k21</td>\n",
       "      <td>taoe005-u2os-72h-cp-a-au00044859_k21_s7_w10efe...</td>\n",
       "      <td>k21_s7_NucleiOutlines.png</td>\n",
       "      <td>60</td>\n",
       "      <td>1977.0</td>\n",
       "      <td>EIF4E</td>\n",
       "      <td>0.0</td>\n",
       "      <td>WT.2</td>\n",
       "      <td>pLX304</td>\n",
       "      <td>...</td>\n",
       "      <td>open</td>\n",
       "      <td>ORA11.12.13.18A</td>\n",
       "      <td>7</td>\n",
       "      <td>72H</td>\n",
       "      <td>ORF OE</td>\n",
       "      <td>1</td>\n",
       "      <td>Treated</td>\n",
       "      <td>0</td>\n",
       "      <td>0</td>\n",
       "      <td>taoe005-u2os-72h-cp-a-au00044859_k21_s7_w10efe...</td>\n",
       "    </tr>\n",
       "    <tr>\n",
       "      <th>1</th>\n",
       "      <td>41744</td>\n",
       "      <td>i13</td>\n",
       "      <td>taoe005-u2os-72h-cp-a-au00044859_i13_s4_w13be2...</td>\n",
       "      <td>i13_s4_NucleiOutlines.png</td>\n",
       "      <td>69</td>\n",
       "      <td>22943.0</td>\n",
       "      <td>DKK1</td>\n",
       "      <td>0.0</td>\n",
       "      <td>WT</td>\n",
       "      <td>pLX304</td>\n",
       "      <td>...</td>\n",
       "      <td>open</td>\n",
       "      <td>ORA11.12.13.18A</td>\n",
       "      <td>4</td>\n",
       "      <td>72H</td>\n",
       "      <td>ORF OE</td>\n",
       "      <td>1</td>\n",
       "      <td>Treated</td>\n",
       "      <td>0</td>\n",
       "      <td>0</td>\n",
       "      <td>taoe005-u2os-72h-cp-a-au00044859_i13_s4_w13be2...</td>\n",
       "    </tr>\n",
       "    <tr>\n",
       "      <th>2</th>\n",
       "      <td>41744</td>\n",
       "      <td>j16</td>\n",
       "      <td>taoe005-u2os-72h-cp-a-au00044859_j16_s9_w1b03e...</td>\n",
       "      <td>j16_s9_NucleiOutlines.png</td>\n",
       "      <td>48</td>\n",
       "      <td>22926.0</td>\n",
       "      <td>ATF6</td>\n",
       "      <td>1.0</td>\n",
       "      <td>WT.1</td>\n",
       "      <td>pLX304</td>\n",
       "      <td>...</td>\n",
       "      <td>open</td>\n",
       "      <td>ORA11.12.13.18A</td>\n",
       "      <td>9</td>\n",
       "      <td>72H</td>\n",
       "      <td>ORF OE</td>\n",
       "      <td>1</td>\n",
       "      <td>Treated</td>\n",
       "      <td>0</td>\n",
       "      <td>0</td>\n",
       "      <td>taoe005-u2os-72h-cp-a-au00044859_j16_s9_w1b03e...</td>\n",
       "    </tr>\n",
       "    <tr>\n",
       "      <th>3</th>\n",
       "      <td>41744</td>\n",
       "      <td>m07</td>\n",
       "      <td>taoe005-u2os-72h-cp-a-au00044859_m07_s5_w1226d...</td>\n",
       "      <td>m07_s5_NucleiOutlines.png</td>\n",
       "      <td>57</td>\n",
       "      <td>5045.0</td>\n",
       "      <td>FURIN</td>\n",
       "      <td>0.0</td>\n",
       "      <td>WT.2</td>\n",
       "      <td>pLX304</td>\n",
       "      <td>...</td>\n",
       "      <td>open</td>\n",
       "      <td>ORA11.12.13.18A</td>\n",
       "      <td>5</td>\n",
       "      <td>72H</td>\n",
       "      <td>ORF OE</td>\n",
       "      <td>1</td>\n",
       "      <td>Treated</td>\n",
       "      <td>0</td>\n",
       "      <td>0</td>\n",
       "      <td>taoe005-u2os-72h-cp-a-au00044859_m07_s5_w1226d...</td>\n",
       "    </tr>\n",
       "    <tr>\n",
       "      <th>4</th>\n",
       "      <td>41744</td>\n",
       "      <td>i04</td>\n",
       "      <td>taoe005-u2os-72h-cp-a-au00044859_i04_s5_w1f731...</td>\n",
       "      <td>i04_s5_NucleiOutlines.png</td>\n",
       "      <td>51</td>\n",
       "      <td>5599.0</td>\n",
       "      <td>MAPK8</td>\n",
       "      <td>0.0</td>\n",
       "      <td>WT.2</td>\n",
       "      <td>pLX304</td>\n",
       "      <td>...</td>\n",
       "      <td>open</td>\n",
       "      <td>ORA11.12.13.18A</td>\n",
       "      <td>5</td>\n",
       "      <td>72H</td>\n",
       "      <td>ORF OE</td>\n",
       "      <td>1</td>\n",
       "      <td>Treated</td>\n",
       "      <td>0</td>\n",
       "      <td>0</td>\n",
       "      <td>taoe005-u2os-72h-cp-a-au00044859_i04_s5_w1f731...</td>\n",
       "    </tr>\n",
       "  </tbody>\n",
       "</table>\n",
       "<p>5 rows × 23 columns</p>\n",
       "</div>"
      ],
      "text/plain": [
       "   Image_Metadata_Plate Image_Metadata_Well  \\\n",
       "0                 41744                 k21   \n",
       "1                 41744                 i13   \n",
       "2                 41744                 j16   \n",
       "3                 41744                 m07   \n",
       "4                 41744                 i04   \n",
       "\n",
       "                          Image_FileName_OrigHoechst  \\\n",
       "0  taoe005-u2os-72h-cp-a-au00044859_k21_s7_w10efe...   \n",
       "1  taoe005-u2os-72h-cp-a-au00044859_i13_s4_w13be2...   \n",
       "2  taoe005-u2os-72h-cp-a-au00044859_j16_s9_w1b03e...   \n",
       "3  taoe005-u2os-72h-cp-a-au00044859_m07_s5_w1226d...   \n",
       "4  taoe005-u2os-72h-cp-a-au00044859_i04_s5_w1f731...   \n",
       "\n",
       "  Image_FileName_NucleiOutlines  Image_Count_Nuclei  Image_Metadata_GeneID  \\\n",
       "0     k21_s7_NucleiOutlines.png                  60                 1977.0   \n",
       "1     i13_s4_NucleiOutlines.png                  69                22943.0   \n",
       "2     j16_s9_NucleiOutlines.png                  48                22926.0   \n",
       "3     m07_s5_NucleiOutlines.png                  57                 5045.0   \n",
       "4     i04_s5_NucleiOutlines.png                  51                 5599.0   \n",
       "\n",
       "  Image_Metadata_GeneSymbol  Image_Metadata_IsLandmark  \\\n",
       "0                     EIF4E                        0.0   \n",
       "1                      DKK1                        0.0   \n",
       "2                      ATF6                        1.0   \n",
       "3                     FURIN                        0.0   \n",
       "4                     MAPK8                        0.0   \n",
       "\n",
       "  Image_Metadata_AlleleDesc Image_Metadata_ExpressionVector  ...  \\\n",
       "0                      WT.2                          pLX304  ...   \n",
       "1                        WT                          pLX304  ...   \n",
       "2                      WT.1                          pLX304  ...   \n",
       "3                      WT.2                          pLX304  ...   \n",
       "4                      WT.2                          pLX304  ...   \n",
       "\n",
       "  Image_Metadata_OpenOrClosed  Image_Metadata_RNAiVirusPlateName  \\\n",
       "0                        open                    ORA11.12.13.18A   \n",
       "1                        open                    ORA11.12.13.18A   \n",
       "2                        open                    ORA11.12.13.18A   \n",
       "3                        open                    ORA11.12.13.18A   \n",
       "4                        open                    ORA11.12.13.18A   \n",
       "\n",
       "  Image_Metadata_Site Image_Metadata_TimePoint_Hours Image_Metadata_Type  \\\n",
       "0                   7                            72H              ORF OE   \n",
       "1                   4                            72H              ORF OE   \n",
       "2                   9                            72H              ORF OE   \n",
       "3                   5                            72H              ORF OE   \n",
       "4                   5                            72H              ORF OE   \n",
       "\n",
       "   Image_Metadata_Virus_Vol_ul Image_Metadata_ASSAY_WELL_ROLE  \\\n",
       "0                            1                        Treated   \n",
       "1                            1                        Treated   \n",
       "2                            1                        Treated   \n",
       "3                            1                        Treated   \n",
       "4                            1                        Treated   \n",
       "\n",
       "  Image_Metadata_QCFlag_isBlurry  Image_Metadata_QCFlag_isSaturated  \\\n",
       "0                              0                                  0   \n",
       "1                              0                                  0   \n",
       "2                              0                                  0   \n",
       "3                              0                                  0   \n",
       "4                              0                                  0   \n",
       "\n",
       "                         Image_FileName_IllumHoechst  \n",
       "0  taoe005-u2os-72h-cp-a-au00044859_k21_s7_w10efe...  \n",
       "1  taoe005-u2os-72h-cp-a-au00044859_i13_s4_w13be2...  \n",
       "2  taoe005-u2os-72h-cp-a-au00044859_j16_s9_w1b03e...  \n",
       "3  taoe005-u2os-72h-cp-a-au00044859_m07_s5_w1226d...  \n",
       "4  taoe005-u2os-72h-cp-a-au00044859_i04_s5_w1f731...  \n",
       "\n",
       "[5 rows x 23 columns]"
      ]
     },
     "execution_count": 11,
     "metadata": {},
     "output_type": "execute_result"
    },
    {
     "data": {
      "application/javascript": [
       "\n",
       "            setTimeout(function() {\n",
       "                var nbb_cell_id = 11;\n",
       "                var nbb_unformatted_code = \"blurry_col = \\\"Image_Metadata_QCFlag_isBlurry\\\"\\nsaturated_col = \\\"Image_Metadata_QCFlag_isSaturated\\\"\\n\\nfiltered_metadata = filter_out_qc_flagged_items(\\n    metadata, blurry_col=blurry_col, saturated_col=saturated_col\\n)\\nfiltered_metadata.head()\";\n",
       "                var nbb_formatted_code = \"blurry_col = \\\"Image_Metadata_QCFlag_isBlurry\\\"\\nsaturated_col = \\\"Image_Metadata_QCFlag_isSaturated\\\"\\n\\nfiltered_metadata = filter_out_qc_flagged_items(\\n    metadata, blurry_col=blurry_col, saturated_col=saturated_col\\n)\\nfiltered_metadata.head()\";\n",
       "                var nbb_cells = Jupyter.notebook.get_cells();\n",
       "                for (var i = 0; i < nbb_cells.length; ++i) {\n",
       "                    if (nbb_cells[i].input_prompt_number == nbb_cell_id) {\n",
       "                        if (nbb_cells[i].get_text() == nbb_unformatted_code) {\n",
       "                             nbb_cells[i].set_text(nbb_formatted_code);\n",
       "                        }\n",
       "                        break;\n",
       "                    }\n",
       "                }\n",
       "            }, 500);\n",
       "            "
      ],
      "text/plain": [
       "<IPython.core.display.Javascript object>"
      ]
     },
     "metadata": {},
     "output_type": "display_data"
    }
   ],
   "source": [
    "blurry_col = \"Image_Metadata_QCFlag_isBlurry\"\n",
    "saturated_col = \"Image_Metadata_QCFlag_isSaturated\"\n",
    "\n",
    "filtered_metadata = filter_out_qc_flagged_items(\n",
    "    metadata, blurry_col=blurry_col, saturated_col=saturated_col\n",
    ")\n",
    "filtered_metadata.head()"
   ]
  },
  {
   "cell_type": "code",
   "execution_count": 12,
   "id": "cfdb7b60",
   "metadata": {},
   "outputs": [
    {
     "name": "stdout",
     "output_type": "stream",
     "text": [
      "Images filtered out for not passing the quality standards: 251.\n"
     ]
    },
    {
     "data": {
      "application/javascript": [
       "\n",
       "            setTimeout(function() {\n",
       "                var nbb_cell_id = 12;\n",
       "                var nbb_unformatted_code = \"print(\\n    \\\"Images filtered out for not passing the quality standards: {}.\\\".format(\\n        len(metadata) - len(filtered_metadata)\\n    )\\n)\";\n",
       "                var nbb_formatted_code = \"print(\\n    \\\"Images filtered out for not passing the quality standards: {}.\\\".format(\\n        len(metadata) - len(filtered_metadata)\\n    )\\n)\";\n",
       "                var nbb_cells = Jupyter.notebook.get_cells();\n",
       "                for (var i = 0; i < nbb_cells.length; ++i) {\n",
       "                    if (nbb_cells[i].input_prompt_number == nbb_cell_id) {\n",
       "                        if (nbb_cells[i].get_text() == nbb_unformatted_code) {\n",
       "                             nbb_cells[i].set_text(nbb_formatted_code);\n",
       "                        }\n",
       "                        break;\n",
       "                    }\n",
       "                }\n",
       "            }, 500);\n",
       "            "
      ],
      "text/plain": [
       "<IPython.core.display.Javascript object>"
      ]
     },
     "metadata": {},
     "output_type": "display_data"
    }
   ],
   "source": [
    "print(\n",
    "    \"Images filtered out for not passing the quality standards: {}.\".format(\n",
    "        len(metadata) - len(filtered_metadata)\n",
    "    )\n",
    ")"
   ]
  },
  {
   "cell_type": "markdown",
   "id": "9719cbf6",
   "metadata": {},
   "source": [
    "As seen above 251 images were identified to be either blurry or saturated and thus should be excluded for the downstream analysis."
   ]
  },
  {
   "cell_type": "markdown",
   "id": "9556694b",
   "metadata": {},
   "source": [
    "---\n",
    "\n",
    "### 2b. Filter out outlier images (manual selection)\n",
    "\n",
    "In addition to the images that were flagged for not passing the quality control steps the authors further excluded 2 additional plate-well combinations and one complete plate during their analyses as they identified those by visual inspection as outliers.\n",
    "\n",
    "Those are the following:\n",
    "* Plate 41749 (all wells)\n",
    "* Plate 41754 (well B01)\n",
    "* Plate 41757 (well E17)"
   ]
  },
  {
   "cell_type": "markdown",
   "id": "c25af5ee",
   "metadata": {},
   "source": [
    "Unfortunately, no description is given which criteria was used to identify these outliers. When briefly looking at the data in the [IDR webclient](https://idr.openmicroscopy.org/webclient/?show=screen-1751) we do not see any remarkable abnormalities.\n",
    "\n",
    "Nonetheless, we derive the subset of the dataset where we filter out the corresponding items of these plate-well combinations to follow the preprocessing steps of the original publication. If we will use this subset or the larger set that includes those combinations in our final study is yet to be determined."
   ]
  },
  {
   "cell_type": "code",
   "execution_count": 13,
   "id": "00128e65",
   "metadata": {},
   "outputs": [
    {
     "data": {
      "text/html": [
       "<div>\n",
       "<style scoped>\n",
       "    .dataframe tbody tr th:only-of-type {\n",
       "        vertical-align: middle;\n",
       "    }\n",
       "\n",
       "    .dataframe tbody tr th {\n",
       "        vertical-align: top;\n",
       "    }\n",
       "\n",
       "    .dataframe thead th {\n",
       "        text-align: right;\n",
       "    }\n",
       "</style>\n",
       "<table border=\"1\" class=\"dataframe\">\n",
       "  <thead>\n",
       "    <tr style=\"text-align: right;\">\n",
       "      <th></th>\n",
       "      <th>Image_Metadata_Plate</th>\n",
       "      <th>Image_Metadata_Well</th>\n",
       "      <th>Image_FileName_OrigHoechst</th>\n",
       "      <th>Image_FileName_NucleiOutlines</th>\n",
       "      <th>Image_Count_Nuclei</th>\n",
       "      <th>Image_Metadata_GeneID</th>\n",
       "      <th>Image_Metadata_GeneSymbol</th>\n",
       "      <th>Image_Metadata_IsLandmark</th>\n",
       "      <th>Image_Metadata_AlleleDesc</th>\n",
       "      <th>Image_Metadata_ExpressionVector</th>\n",
       "      <th>...</th>\n",
       "      <th>Image_Metadata_OpenOrClosed</th>\n",
       "      <th>Image_Metadata_RNAiVirusPlateName</th>\n",
       "      <th>Image_Metadata_Site</th>\n",
       "      <th>Image_Metadata_TimePoint_Hours</th>\n",
       "      <th>Image_Metadata_Type</th>\n",
       "      <th>Image_Metadata_Virus_Vol_ul</th>\n",
       "      <th>Image_Metadata_ASSAY_WELL_ROLE</th>\n",
       "      <th>Image_Metadata_QCFlag_isBlurry</th>\n",
       "      <th>Image_Metadata_QCFlag_isSaturated</th>\n",
       "      <th>Image_FileName_IllumHoechst</th>\n",
       "    </tr>\n",
       "  </thead>\n",
       "  <tbody>\n",
       "    <tr>\n",
       "      <th>0</th>\n",
       "      <td>41744</td>\n",
       "      <td>k21</td>\n",
       "      <td>taoe005-u2os-72h-cp-a-au00044859_k21_s7_w10efe...</td>\n",
       "      <td>k21_s7_NucleiOutlines.png</td>\n",
       "      <td>60</td>\n",
       "      <td>1977.0</td>\n",
       "      <td>EIF4E</td>\n",
       "      <td>0.0</td>\n",
       "      <td>WT.2</td>\n",
       "      <td>pLX304</td>\n",
       "      <td>...</td>\n",
       "      <td>open</td>\n",
       "      <td>ORA11.12.13.18A</td>\n",
       "      <td>7</td>\n",
       "      <td>72H</td>\n",
       "      <td>ORF OE</td>\n",
       "      <td>1</td>\n",
       "      <td>Treated</td>\n",
       "      <td>0</td>\n",
       "      <td>0</td>\n",
       "      <td>taoe005-u2os-72h-cp-a-au00044859_k21_s7_w10efe...</td>\n",
       "    </tr>\n",
       "    <tr>\n",
       "      <th>1</th>\n",
       "      <td>41744</td>\n",
       "      <td>i13</td>\n",
       "      <td>taoe005-u2os-72h-cp-a-au00044859_i13_s4_w13be2...</td>\n",
       "      <td>i13_s4_NucleiOutlines.png</td>\n",
       "      <td>69</td>\n",
       "      <td>22943.0</td>\n",
       "      <td>DKK1</td>\n",
       "      <td>0.0</td>\n",
       "      <td>WT</td>\n",
       "      <td>pLX304</td>\n",
       "      <td>...</td>\n",
       "      <td>open</td>\n",
       "      <td>ORA11.12.13.18A</td>\n",
       "      <td>4</td>\n",
       "      <td>72H</td>\n",
       "      <td>ORF OE</td>\n",
       "      <td>1</td>\n",
       "      <td>Treated</td>\n",
       "      <td>0</td>\n",
       "      <td>0</td>\n",
       "      <td>taoe005-u2os-72h-cp-a-au00044859_i13_s4_w13be2...</td>\n",
       "    </tr>\n",
       "    <tr>\n",
       "      <th>2</th>\n",
       "      <td>41744</td>\n",
       "      <td>j16</td>\n",
       "      <td>taoe005-u2os-72h-cp-a-au00044859_j16_s9_w1b03e...</td>\n",
       "      <td>j16_s9_NucleiOutlines.png</td>\n",
       "      <td>48</td>\n",
       "      <td>22926.0</td>\n",
       "      <td>ATF6</td>\n",
       "      <td>1.0</td>\n",
       "      <td>WT.1</td>\n",
       "      <td>pLX304</td>\n",
       "      <td>...</td>\n",
       "      <td>open</td>\n",
       "      <td>ORA11.12.13.18A</td>\n",
       "      <td>9</td>\n",
       "      <td>72H</td>\n",
       "      <td>ORF OE</td>\n",
       "      <td>1</td>\n",
       "      <td>Treated</td>\n",
       "      <td>0</td>\n",
       "      <td>0</td>\n",
       "      <td>taoe005-u2os-72h-cp-a-au00044859_j16_s9_w1b03e...</td>\n",
       "    </tr>\n",
       "    <tr>\n",
       "      <th>3</th>\n",
       "      <td>41744</td>\n",
       "      <td>m07</td>\n",
       "      <td>taoe005-u2os-72h-cp-a-au00044859_m07_s5_w1226d...</td>\n",
       "      <td>m07_s5_NucleiOutlines.png</td>\n",
       "      <td>57</td>\n",
       "      <td>5045.0</td>\n",
       "      <td>FURIN</td>\n",
       "      <td>0.0</td>\n",
       "      <td>WT.2</td>\n",
       "      <td>pLX304</td>\n",
       "      <td>...</td>\n",
       "      <td>open</td>\n",
       "      <td>ORA11.12.13.18A</td>\n",
       "      <td>5</td>\n",
       "      <td>72H</td>\n",
       "      <td>ORF OE</td>\n",
       "      <td>1</td>\n",
       "      <td>Treated</td>\n",
       "      <td>0</td>\n",
       "      <td>0</td>\n",
       "      <td>taoe005-u2os-72h-cp-a-au00044859_m07_s5_w1226d...</td>\n",
       "    </tr>\n",
       "    <tr>\n",
       "      <th>4</th>\n",
       "      <td>41744</td>\n",
       "      <td>i04</td>\n",
       "      <td>taoe005-u2os-72h-cp-a-au00044859_i04_s5_w1f731...</td>\n",
       "      <td>i04_s5_NucleiOutlines.png</td>\n",
       "      <td>51</td>\n",
       "      <td>5599.0</td>\n",
       "      <td>MAPK8</td>\n",
       "      <td>0.0</td>\n",
       "      <td>WT.2</td>\n",
       "      <td>pLX304</td>\n",
       "      <td>...</td>\n",
       "      <td>open</td>\n",
       "      <td>ORA11.12.13.18A</td>\n",
       "      <td>5</td>\n",
       "      <td>72H</td>\n",
       "      <td>ORF OE</td>\n",
       "      <td>1</td>\n",
       "      <td>Treated</td>\n",
       "      <td>0</td>\n",
       "      <td>0</td>\n",
       "      <td>taoe005-u2os-72h-cp-a-au00044859_i04_s5_w1f731...</td>\n",
       "    </tr>\n",
       "  </tbody>\n",
       "</table>\n",
       "<p>5 rows × 23 columns</p>\n",
       "</div>"
      ],
      "text/plain": [
       "   Image_Metadata_Plate Image_Metadata_Well  \\\n",
       "0                 41744                 k21   \n",
       "1                 41744                 i13   \n",
       "2                 41744                 j16   \n",
       "3                 41744                 m07   \n",
       "4                 41744                 i04   \n",
       "\n",
       "                          Image_FileName_OrigHoechst  \\\n",
       "0  taoe005-u2os-72h-cp-a-au00044859_k21_s7_w10efe...   \n",
       "1  taoe005-u2os-72h-cp-a-au00044859_i13_s4_w13be2...   \n",
       "2  taoe005-u2os-72h-cp-a-au00044859_j16_s9_w1b03e...   \n",
       "3  taoe005-u2os-72h-cp-a-au00044859_m07_s5_w1226d...   \n",
       "4  taoe005-u2os-72h-cp-a-au00044859_i04_s5_w1f731...   \n",
       "\n",
       "  Image_FileName_NucleiOutlines  Image_Count_Nuclei  Image_Metadata_GeneID  \\\n",
       "0     k21_s7_NucleiOutlines.png                  60                 1977.0   \n",
       "1     i13_s4_NucleiOutlines.png                  69                22943.0   \n",
       "2     j16_s9_NucleiOutlines.png                  48                22926.0   \n",
       "3     m07_s5_NucleiOutlines.png                  57                 5045.0   \n",
       "4     i04_s5_NucleiOutlines.png                  51                 5599.0   \n",
       "\n",
       "  Image_Metadata_GeneSymbol  Image_Metadata_IsLandmark  \\\n",
       "0                     EIF4E                        0.0   \n",
       "1                      DKK1                        0.0   \n",
       "2                      ATF6                        1.0   \n",
       "3                     FURIN                        0.0   \n",
       "4                     MAPK8                        0.0   \n",
       "\n",
       "  Image_Metadata_AlleleDesc Image_Metadata_ExpressionVector  ...  \\\n",
       "0                      WT.2                          pLX304  ...   \n",
       "1                        WT                          pLX304  ...   \n",
       "2                      WT.1                          pLX304  ...   \n",
       "3                      WT.2                          pLX304  ...   \n",
       "4                      WT.2                          pLX304  ...   \n",
       "\n",
       "  Image_Metadata_OpenOrClosed  Image_Metadata_RNAiVirusPlateName  \\\n",
       "0                        open                    ORA11.12.13.18A   \n",
       "1                        open                    ORA11.12.13.18A   \n",
       "2                        open                    ORA11.12.13.18A   \n",
       "3                        open                    ORA11.12.13.18A   \n",
       "4                        open                    ORA11.12.13.18A   \n",
       "\n",
       "  Image_Metadata_Site Image_Metadata_TimePoint_Hours Image_Metadata_Type  \\\n",
       "0                   7                            72H              ORF OE   \n",
       "1                   4                            72H              ORF OE   \n",
       "2                   9                            72H              ORF OE   \n",
       "3                   5                            72H              ORF OE   \n",
       "4                   5                            72H              ORF OE   \n",
       "\n",
       "   Image_Metadata_Virus_Vol_ul Image_Metadata_ASSAY_WELL_ROLE  \\\n",
       "0                            1                        Treated   \n",
       "1                            1                        Treated   \n",
       "2                            1                        Treated   \n",
       "3                            1                        Treated   \n",
       "4                            1                        Treated   \n",
       "\n",
       "  Image_Metadata_QCFlag_isBlurry  Image_Metadata_QCFlag_isSaturated  \\\n",
       "0                              0                                  0   \n",
       "1                              0                                  0   \n",
       "2                              0                                  0   \n",
       "3                              0                                  0   \n",
       "4                              0                                  0   \n",
       "\n",
       "                         Image_FileName_IllumHoechst  \n",
       "0  taoe005-u2os-72h-cp-a-au00044859_k21_s7_w10efe...  \n",
       "1  taoe005-u2os-72h-cp-a-au00044859_i13_s4_w13be2...  \n",
       "2  taoe005-u2os-72h-cp-a-au00044859_j16_s9_w1b03e...  \n",
       "3  taoe005-u2os-72h-cp-a-au00044859_m07_s5_w1226d...  \n",
       "4  taoe005-u2os-72h-cp-a-au00044859_i04_s5_w1f731...  \n",
       "\n",
       "[5 rows x 23 columns]"
      ]
     },
     "execution_count": 13,
     "metadata": {},
     "output_type": "execute_result"
    },
    {
     "data": {
      "application/javascript": [
       "\n",
       "            setTimeout(function() {\n",
       "                var nbb_cell_id = 13;\n",
       "                var nbb_unformatted_code = \"outlier_plates = [41749]\\noutlier_plate_wells = [[41754, \\\"b01\\\"], [41757, \\\"e17\\\"]]\\noutlier_wells = []\\nplate_col = \\\"Image_Metadata_Plate\\\"\\nwell_col = \\\"Image_Metadata_Well\\\"\\n\\n\\nfiltered_metadata_orm = remove_outlier_items(\\n    metadata,\\n    outlier_plates=outlier_plates,\\n    outlier_plate_wells=outlier_plate_wells,\\n    outlier_wells=outlier_wells,\\n    plate_col=plate_col,\\n    well_col=well_col,\\n)\\nfiltered_metadata_orm.head()\";\n",
       "                var nbb_formatted_code = \"outlier_plates = [41749]\\noutlier_plate_wells = [[41754, \\\"b01\\\"], [41757, \\\"e17\\\"]]\\noutlier_wells = []\\nplate_col = \\\"Image_Metadata_Plate\\\"\\nwell_col = \\\"Image_Metadata_Well\\\"\\n\\n\\nfiltered_metadata_orm = remove_outlier_items(\\n    metadata,\\n    outlier_plates=outlier_plates,\\n    outlier_plate_wells=outlier_plate_wells,\\n    outlier_wells=outlier_wells,\\n    plate_col=plate_col,\\n    well_col=well_col,\\n)\\nfiltered_metadata_orm.head()\";\n",
       "                var nbb_cells = Jupyter.notebook.get_cells();\n",
       "                for (var i = 0; i < nbb_cells.length; ++i) {\n",
       "                    if (nbb_cells[i].input_prompt_number == nbb_cell_id) {\n",
       "                        if (nbb_cells[i].get_text() == nbb_unformatted_code) {\n",
       "                             nbb_cells[i].set_text(nbb_formatted_code);\n",
       "                        }\n",
       "                        break;\n",
       "                    }\n",
       "                }\n",
       "            }, 500);\n",
       "            "
      ],
      "text/plain": [
       "<IPython.core.display.Javascript object>"
      ]
     },
     "metadata": {},
     "output_type": "display_data"
    }
   ],
   "source": [
    "outlier_plates = [41749]\n",
    "outlier_plate_wells = [[41754, \"b01\"], [41757, \"e17\"]]\n",
    "outlier_wells = []\n",
    "plate_col = \"Image_Metadata_Plate\"\n",
    "well_col = \"Image_Metadata_Well\"\n",
    "\n",
    "\n",
    "filtered_metadata_orm = remove_outlier_items(\n",
    "    metadata,\n",
    "    outlier_plates=outlier_plates,\n",
    "    outlier_plate_wells=outlier_plate_wells,\n",
    "    outlier_wells=outlier_wells,\n",
    "    plate_col=plate_col,\n",
    "    well_col=well_col,\n",
    ")\n",
    "filtered_metadata_orm.head()"
   ]
  },
  {
   "cell_type": "markdown",
   "id": "7b7fcd57",
   "metadata": {},
   "source": [
    "After the filtering we are left with 1,918 unique plate-well combinations for each 9 fields of view are available leading to a total of 17,262 images. Surprisingly, those are 36 images (4 plate-well) more than what is described in the publication to be the final result of the preprocessing of the images. "
   ]
  },
  {
   "cell_type": "markdown",
   "id": "2280d9d2",
   "metadata": {},
   "source": [
    "While our segmentation pipeline will differ from the ones the authors used to segment the nuclei, we can get also a first feeling of the dimension of the single-nuclei imaging dataset that we will be working with using the available metadata."
   ]
  },
  {
   "cell_type": "code",
   "execution_count": 14,
   "id": "5005c4b3",
   "metadata": {},
   "outputs": [
    {
     "data": {
      "text/plain": [
       "(1278881, 194)"
      ]
     },
     "execution_count": 14,
     "metadata": {},
     "output_type": "execute_result"
    },
    {
     "data": {
      "application/javascript": [
       "\n",
       "            setTimeout(function() {\n",
       "                var nbb_cell_id = 14;\n",
       "                var nbb_unformatted_code = \"np.sum(list(filtered_metadata_orm[\\\"Image_Count_Nuclei\\\"])), len(\\n    np.unique(filtered_metadata_orm[\\\"Image_Metadata_GeneSymbol\\\"])\\n)\";\n",
       "                var nbb_formatted_code = \"np.sum(list(filtered_metadata_orm[\\\"Image_Count_Nuclei\\\"])), len(\\n    np.unique(filtered_metadata_orm[\\\"Image_Metadata_GeneSymbol\\\"])\\n)\";\n",
       "                var nbb_cells = Jupyter.notebook.get_cells();\n",
       "                for (var i = 0; i < nbb_cells.length; ++i) {\n",
       "                    if (nbb_cells[i].input_prompt_number == nbb_cell_id) {\n",
       "                        if (nbb_cells[i].get_text() == nbb_unformatted_code) {\n",
       "                             nbb_cells[i].set_text(nbb_formatted_code);\n",
       "                        }\n",
       "                        break;\n",
       "                    }\n",
       "                }\n",
       "            }, 500);\n",
       "            "
      ],
      "text/plain": [
       "<IPython.core.display.Javascript object>"
      ]
     },
     "metadata": {},
     "output_type": "display_data"
    }
   ],
   "source": [
    "np.sum(list(filtered_metadata_orm[\"Image_Count_Nuclei\"])), len(\n",
    "    np.unique(filtered_metadata_orm[\"Image_Metadata_GeneSymbol\"])\n",
    ")"
   ]
  },
  {
   "cell_type": "markdown",
   "id": "29eda435",
   "metadata": {},
   "source": [
    "The authors obtained roughly 1,28 million nuclei corresponding to ORF overexpression of 193 genes respectively the control condition. The total number of nuclei for each condition differs quite a bit, which is also due to the fact that we have more plate-well combinations for some genes than for others."
   ]
  },
  {
   "cell_type": "code",
   "execution_count": 15,
   "id": "9103387d",
   "metadata": {},
   "outputs": [
    {
     "data": {
      "text/plain": [
       "Counter({'EIF4E': 90,\n",
       "         'DKK1': 45,\n",
       "         'ATF6': 135,\n",
       "         'FURIN': 90,\n",
       "         'MAPK8': 90,\n",
       "         'CARD11': 135,\n",
       "         'ATG16L1': 45,\n",
       "         'TSC1': 90,\n",
       "         'PAK1': 90,\n",
       "         'XBP1': 180,\n",
       "         'PRKAA1': 90,\n",
       "         'MAP3K9': 45,\n",
       "         'IKBKE': 90,\n",
       "         'TGFBR1': 180,\n",
       "         'RIPK1': 45,\n",
       "         'EMPTY': 1557,\n",
       "         'PSENEN': 45,\n",
       "         'BRAF': 135,\n",
       "         'DVL1': 90,\n",
       "         'PER1': 90,\n",
       "         'EGLN1': 135,\n",
       "         'MOS': 90,\n",
       "         'BMPR1B': 180,\n",
       "         'Luciferase': 360,\n",
       "         'CCND1': 90,\n",
       "         'DVL3': 45,\n",
       "         'TBK1': 90,\n",
       "         'PIK3R1': 90,\n",
       "         'PRKACA': 90,\n",
       "         'NOTCH1': 135,\n",
       "         'DEPTOR': 90,\n",
       "         'TRAF6': 90,\n",
       "         'PRKCZ': 180,\n",
       "         'PRKACB': 135,\n",
       "         'PRKACG': 135,\n",
       "         'DIABLO': 45,\n",
       "         'CHUK': 90,\n",
       "         'LRPPRC': 45,\n",
       "         'SLIRP': 90,\n",
       "         'MKNK1': 45,\n",
       "         'RAF1': 135,\n",
       "         'GLI1': 45,\n",
       "         'CYLD': 90,\n",
       "         'JAK2': 90,\n",
       "         'PKIA': 45,\n",
       "         'RAC1': 180,\n",
       "         'HIF1A': 90,\n",
       "         'STAT3': 135,\n",
       "         'IRGM': 90,\n",
       "         'ACVR1B': 135,\n",
       "         'RBPJ': 90,\n",
       "         'AKT1S1': 90,\n",
       "         'XIAP': 90,\n",
       "         'CCNE1': 45,\n",
       "         'LacZ': 360,\n",
       "         'SGK3': 90,\n",
       "         'TGFB1': 45,\n",
       "         'SMO': 90,\n",
       "         'RHEB': 90,\n",
       "         'MYD88': 90,\n",
       "         'PHLPP1': 45,\n",
       "         'VEGFC': 90,\n",
       "         'FOXO1': 90,\n",
       "         'PPARGC1A': 90,\n",
       "         'RPS6KB1': 135,\n",
       "         'AKT3': 180,\n",
       "         'PRKCE': 180,\n",
       "         'SMURF2': 45,\n",
       "         'PIK3CA': 90,\n",
       "         'RELA': 90,\n",
       "         'MAP2K4': 90,\n",
       "         'eGFP': 360,\n",
       "         'TCF4': 90,\n",
       "         'APAF1': 45,\n",
       "         'TRAF3': 90,\n",
       "         'CDK4': 135,\n",
       "         'PRKCA': 180,\n",
       "         'DDIT3': 90,\n",
       "         'EIF2A': 90,\n",
       "         'CDC42': 135,\n",
       "         'RHOA': 135,\n",
       "         'AKT2': 45,\n",
       "         'TP53': 90,\n",
       "         'SMAD3': 90,\n",
       "         'SDHA': 45,\n",
       "         'MAP2K1': 90,\n",
       "         'REL': 90,\n",
       "         'AKT1': 135,\n",
       "         'STAT1': 90,\n",
       "         'SREBF1': 45,\n",
       "         'RB1': 90,\n",
       "         'ARNTL': 45,\n",
       "         'HSP90AA1': 45,\n",
       "         'STK3': 90,\n",
       "         'ERN1': 90,\n",
       "         'DLL1': 45,\n",
       "         'NFKB1': 90,\n",
       "         'ARAF': 90,\n",
       "         'RPTOR': 45,\n",
       "         'MAP3K5': 45,\n",
       "         'STK11': 90,\n",
       "         'PTEN': 45,\n",
       "         'MLST8': 45,\n",
       "         'CTNNB1': 90,\n",
       "         'DVL2': 45,\n",
       "         'BAX': 45,\n",
       "         'DDIT4': 45,\n",
       "         'CSNK1A1': 135,\n",
       "         'ATF4': 90,\n",
       "         'ATM': 90,\n",
       "         'TSC2': 45,\n",
       "         'CASP9': 45,\n",
       "         'IRAK4': 45,\n",
       "         'AXIN2': 90,\n",
       "         'BRCA1': 45,\n",
       "         'ATF2': 45,\n",
       "         'CREB1': 45,\n",
       "         'HSPA5': 45,\n",
       "         'CSNK1E': 90,\n",
       "         'MAPK14': 90,\n",
       "         'CDKN1A': 45,\n",
       "         'MAP3K2': 90,\n",
       "         'VHL': 90,\n",
       "         'GSK3B': 90,\n",
       "         'CDK2': 90,\n",
       "         'CASP8': 90,\n",
       "         'NOTCH2': 45,\n",
       "         'ELK1': 45,\n",
       "         'TGFBR2': 90,\n",
       "         'MAP3K8': 45,\n",
       "         'PPP2R5C': 90,\n",
       "         'NFKB2': 45,\n",
       "         'RICTOR': 45,\n",
       "         'PIK3R2': 45,\n",
       "         'HRAS': 45,\n",
       "         'CRY1': 90,\n",
       "         'EIF4EBP1': 45,\n",
       "         'MEK1': 45,\n",
       "         'FGFR3': 45,\n",
       "         'SRC': 45,\n",
       "         'BECN1': 45,\n",
       "         'E2F1': 45,\n",
       "         'PIK3CD': 45,\n",
       "         'NFKBIA': 45,\n",
       "         'SMAD5': 45,\n",
       "         'NFKBIB': 45,\n",
       "         'SMAD4': 45,\n",
       "         'IKBKB': 45,\n",
       "         'PDPK1': 90,\n",
       "         'PIK3CB': 90,\n",
       "         'IRS1': 45,\n",
       "         'ADAM17': 45,\n",
       "         'ERG': 90,\n",
       "         'BMP2': 45,\n",
       "         'ERBB2': 45,\n",
       "         'MAPK1': 90,\n",
       "         'FH': 45,\n",
       "         'MAP3K11': 45,\n",
       "         'JUN': 90,\n",
       "         'NFKBIE': 45,\n",
       "         'CREBBP': 45,\n",
       "         'KRAS': 135,\n",
       "         'BCL2L1': 45,\n",
       "         'MAPK13': 90,\n",
       "         'HSP90B1': 90,\n",
       "         'MAPK9': 90,\n",
       "         'APC': 45,\n",
       "         'TRAF5': 45,\n",
       "         'CEBPA': 90,\n",
       "         'YAP1': 180,\n",
       "         'GRB10': 90,\n",
       "         'TNFAIP3': 45,\n",
       "         'MCL1': 45,\n",
       "         'DUSP1': 45,\n",
       "         'RELB': 45,\n",
       "         'SMAD7': 45,\n",
       "         'TRAF2': 45,\n",
       "         'SOCS3': 45,\n",
       "         'WNT5A': 45,\n",
       "         'ATG5': 45,\n",
       "         'BTRC': 45,\n",
       "         'BCL2L11': 45,\n",
       "         'BAMBI': 45,\n",
       "         'JAG1': 45,\n",
       "         'MAPK7': 45,\n",
       "         'MAPK3': 45,\n",
       "         'IRAK1': 45,\n",
       "         'HIF1AN': 45,\n",
       "         'MAP3K7': 45,\n",
       "         'MAPKAP1': 45,\n",
       "         'CLOCK': 45,\n",
       "         'CXXC4': 45,\n",
       "         'MAP2K3': 45,\n",
       "         'WWTR1': 45})"
      ]
     },
     "execution_count": 15,
     "metadata": {},
     "output_type": "execute_result"
    },
    {
     "data": {
      "application/javascript": [
       "\n",
       "            setTimeout(function() {\n",
       "                var nbb_cell_id = 15;\n",
       "                var nbb_unformatted_code = \"Counter(filtered_metadata_orm[\\\"Image_Metadata_GeneSymbol\\\"])\";\n",
       "                var nbb_formatted_code = \"Counter(filtered_metadata_orm[\\\"Image_Metadata_GeneSymbol\\\"])\";\n",
       "                var nbb_cells = Jupyter.notebook.get_cells();\n",
       "                for (var i = 0; i < nbb_cells.length; ++i) {\n",
       "                    if (nbb_cells[i].input_prompt_number == nbb_cell_id) {\n",
       "                        if (nbb_cells[i].get_text() == nbb_unformatted_code) {\n",
       "                             nbb_cells[i].set_text(nbb_formatted_code);\n",
       "                        }\n",
       "                        break;\n",
       "                    }\n",
       "                }\n",
       "            }, 500);\n",
       "            "
      ],
      "text/plain": [
       "<IPython.core.display.Javascript object>"
      ]
     },
     "metadata": {},
     "output_type": "display_data"
    }
   ],
   "source": [
    "Counter(filtered_metadata_orm[\"Image_Metadata_GeneSymbol\"])"
   ]
  },
  {
   "cell_type": "markdown",
   "id": "94428e31",
   "metadata": {},
   "source": [
    "---\n",
    "\n",
    "## 3. Save filtered image data\n",
    "\n",
    "Previously we filtered the metadata to exclude images not passing the quality control standards established by Rohban et al. (2017). We will now use this subset and store the Hoechst(DNA) stained images individually. This is because a) we can drastically reduce the size of the overall dataset in terms of storage requirements and going forward we are only interested in this staining."
   ]
  },
  {
   "cell_type": "code",
   "execution_count": 16,
   "id": "10096006",
   "metadata": {},
   "outputs": [
    {
     "data": {
      "application/javascript": [
       "\n",
       "            setTimeout(function() {\n",
       "                var nbb_cell_id = 16;\n",
       "                var nbb_unformatted_code = \"output_dir = \\\"../data/images/filtered\\\"\\ninput_dir = \\\"../data/images/data\\\"\\nplate_col = \\\"Image_Metadata_Plate\\\"\\nillum_file_col = \\\"Image_FileName_IllumHoechst\\\"\\n\\n# save_filtered_images(\\n#     filtered_metadata_orm,\\n#     input_dir=input_dir,\\n#     output_dir=output_dir,\\n#     plate_col=plate_col,\\n#     illum_file_col=illum_file_col,\\n# )\";\n",
       "                var nbb_formatted_code = \"output_dir = \\\"../data/images/filtered\\\"\\ninput_dir = \\\"../data/images/data\\\"\\nplate_col = \\\"Image_Metadata_Plate\\\"\\nillum_file_col = \\\"Image_FileName_IllumHoechst\\\"\\n\\n# save_filtered_images(\\n#     filtered_metadata_orm,\\n#     input_dir=input_dir,\\n#     output_dir=output_dir,\\n#     plate_col=plate_col,\\n#     illum_file_col=illum_file_col,\\n# )\";\n",
       "                var nbb_cells = Jupyter.notebook.get_cells();\n",
       "                for (var i = 0; i < nbb_cells.length; ++i) {\n",
       "                    if (nbb_cells[i].input_prompt_number == nbb_cell_id) {\n",
       "                        if (nbb_cells[i].get_text() == nbb_unformatted_code) {\n",
       "                             nbb_cells[i].set_text(nbb_formatted_code);\n",
       "                        }\n",
       "                        break;\n",
       "                    }\n",
       "                }\n",
       "            }, 500);\n",
       "            "
      ],
      "text/plain": [
       "<IPython.core.display.Javascript object>"
      ]
     },
     "metadata": {},
     "output_type": "display_data"
    }
   ],
   "source": [
    "output_dir = \"../data/images/filtered\"\n",
    "input_dir = \"../data/images/data\"\n",
    "plate_col = \"Image_Metadata_Plate\"\n",
    "illum_file_col = \"Image_FileName_IllumHoechst\"\n",
    "\n",
    "# save_filtered_images(\n",
    "#     filtered_metadata_orm,\n",
    "#     input_dir=input_dir,\n",
    "#     output_dir=output_dir,\n",
    "#     plate_col=plate_col,\n",
    "#     illum_file_col=illum_file_col,\n",
    "# )"
   ]
  },
  {
   "cell_type": "markdown",
   "id": "a038d455",
   "metadata": {},
   "source": [
    "---"
   ]
  },
  {
   "cell_type": "markdown",
   "id": "5e859d1e",
   "metadata": {},
   "source": [
    "## 4. Nuclei segmentation"
   ]
  },
  {
   "cell_type": "markdown",
   "id": "d9ebdcb6",
   "metadata": {},
   "source": [
    "After the previously described filtering steps we will now turn to the segmentation of the invidiual nuclei as we will be working on single nuclei images. In addition to the raw images the authors also provide contour lines for the individual nuclei as segmented by their computational pipeline. We will use those and hence use their segmentation to save us from finetuning a segmentation pipeline as well as in order to be consistent with their preprocessing pipeline."
   ]
  },
  {
   "cell_type": "markdown",
   "id": "1fa00685",
   "metadata": {},
   "source": [
    "### 4.1. Visualize the segmentation\n",
    "\n",
    "Before we use the given data to segment the individual nuclei we first provide some example of the segmentation to show that it accurately captures the nuclei. To this end, we will randomly sample n=10 images from each plate and overlay the segmentation based on the provided contour lines with the raw input image to show the segmentation."
   ]
  },
  {
   "cell_type": "code",
   "execution_count": 17,
   "id": "ddd36f6b",
   "metadata": {},
   "outputs": [
    {
     "data": {
      "application/javascript": [
       "\n",
       "            setTimeout(function() {\n",
       "                var nbb_cell_id = 17;\n",
       "                var nbb_unformatted_code = \"n = 10\\nimage_input_dir = \\\"../data/images/filtered\\\"\\noutline_input_dir = \\\"../data/images/segmented_outlines\\\"\\n\\n(\\n    image_sample_datasets,\\n    segmentation_sample_datasets,\\n) = create_sample_segmentation_datasets(\\n    metadata=filtered_metadata_orm,\\n    image_input_dir=image_input_dir,\\n    outline_input_dir=outline_input_dir,\\n    n=n,\\n    plate_col=\\\"Image_Metadata_Plate\\\",\\n    illum_file_col=\\\"Image_FileName_IllumHoechst\\\",\\n    nuclei_outline_col=\\\"Image_FileName_NucleiOutlines\\\",\\n    random_state=1234,\\n)\";\n",
       "                var nbb_formatted_code = \"n = 10\\nimage_input_dir = \\\"../data/images/filtered\\\"\\noutline_input_dir = \\\"../data/images/segmented_outlines\\\"\\n\\n(\\n    image_sample_datasets,\\n    segmentation_sample_datasets,\\n) = create_sample_segmentation_datasets(\\n    metadata=filtered_metadata_orm,\\n    image_input_dir=image_input_dir,\\n    outline_input_dir=outline_input_dir,\\n    n=n,\\n    plate_col=\\\"Image_Metadata_Plate\\\",\\n    illum_file_col=\\\"Image_FileName_IllumHoechst\\\",\\n    nuclei_outline_col=\\\"Image_FileName_NucleiOutlines\\\",\\n    random_state=1234,\\n)\";\n",
       "                var nbb_cells = Jupyter.notebook.get_cells();\n",
       "                for (var i = 0; i < nbb_cells.length; ++i) {\n",
       "                    if (nbb_cells[i].input_prompt_number == nbb_cell_id) {\n",
       "                        if (nbb_cells[i].get_text() == nbb_unformatted_code) {\n",
       "                             nbb_cells[i].set_text(nbb_formatted_code);\n",
       "                        }\n",
       "                        break;\n",
       "                    }\n",
       "                }\n",
       "            }, 500);\n",
       "            "
      ],
      "text/plain": [
       "<IPython.core.display.Javascript object>"
      ]
     },
     "metadata": {},
     "output_type": "display_data"
    }
   ],
   "source": [
    "n = 10\n",
    "image_input_dir = \"../data/images/filtered\"\n",
    "outline_input_dir = \"../data/images/segmented_outlines\"\n",
    "\n",
    "(\n",
    "    image_sample_datasets,\n",
    "    segmentation_sample_datasets,\n",
    ") = create_sample_segmentation_datasets(\n",
    "    metadata=filtered_metadata_orm,\n",
    "    image_input_dir=image_input_dir,\n",
    "    outline_input_dir=outline_input_dir,\n",
    "    n=n,\n",
    "    plate_col=\"Image_Metadata_Plate\",\n",
    "    illum_file_col=\"Image_FileName_IllumHoechst\",\n",
    "    nuclei_outline_col=\"Image_FileName_NucleiOutlines\",\n",
    "    random_state=1234,\n",
    ")"
   ]
  },
  {
   "cell_type": "markdown",
   "id": "55166f55",
   "metadata": {},
   "source": [
    "----\n",
    "\n",
    "#### Segmented 41744"
   ]
  },
  {
   "cell_type": "code",
   "execution_count": 18,
   "id": "3b5cf68c",
   "metadata": {},
   "outputs": [
    {
     "data": {
      "application/vnd.jupyter.widget-view+json": {
       "model_id": "a93088c8568547e3b42fd2c1013b5522",
       "version_major": 2,
       "version_minor": 0
      },
      "text/plain": [
       "interactive(children=(IntSlider(value=0, description='plane', max=9), Output()), _dom_classes=('widget-interac…"
      ]
     },
     "metadata": {},
     "output_type": "display_data"
    },
    {
     "data": {
      "text/plain": [
       "<function src.utils.basic.visualization.explore_segmentation_of_dataset.<locals>.display_slice(plane=0)>"
      ]
     },
     "execution_count": 18,
     "metadata": {},
     "output_type": "execute_result"
    },
    {
     "data": {
      "application/javascript": [
       "\n",
       "            setTimeout(function() {\n",
       "                var nbb_cell_id = 18;\n",
       "                var nbb_unformatted_code = \"explore_segmentation_of_dataset(\\n    image_sample_datasets, segmentation_sample_datasets, dataset_id=0, cmap=\\\"seismic\\\"\\n)\";\n",
       "                var nbb_formatted_code = \"explore_segmentation_of_dataset(\\n    image_sample_datasets, segmentation_sample_datasets, dataset_id=0, cmap=\\\"seismic\\\"\\n)\";\n",
       "                var nbb_cells = Jupyter.notebook.get_cells();\n",
       "                for (var i = 0; i < nbb_cells.length; ++i) {\n",
       "                    if (nbb_cells[i].input_prompt_number == nbb_cell_id) {\n",
       "                        if (nbb_cells[i].get_text() == nbb_unformatted_code) {\n",
       "                             nbb_cells[i].set_text(nbb_formatted_code);\n",
       "                        }\n",
       "                        break;\n",
       "                    }\n",
       "                }\n",
       "            }, 500);\n",
       "            "
      ],
      "text/plain": [
       "<IPython.core.display.Javascript object>"
      ]
     },
     "metadata": {},
     "output_type": "display_data"
    }
   ],
   "source": [
    "explore_segmentation_of_dataset(\n",
    "    image_sample_datasets, segmentation_sample_datasets, dataset_id=0, cmap=\"seismic\"\n",
    ")"
   ]
  },
  {
   "cell_type": "markdown",
   "id": "643f5ebb",
   "metadata": {},
   "source": [
    "---\n",
    "\n",
    "#### Segmented 41754"
   ]
  },
  {
   "cell_type": "code",
   "execution_count": 19,
   "id": "56092845",
   "metadata": {},
   "outputs": [
    {
     "data": {
      "application/vnd.jupyter.widget-view+json": {
       "model_id": "b025ae3f39934dd48f60e57eec2295a8",
       "version_major": 2,
       "version_minor": 0
      },
      "text/plain": [
       "interactive(children=(IntSlider(value=0, description='plane', max=9), Output()), _dom_classes=('widget-interac…"
      ]
     },
     "metadata": {},
     "output_type": "display_data"
    },
    {
     "data": {
      "text/plain": [
       "<function src.utils.basic.visualization.explore_segmentation_of_dataset.<locals>.display_slice(plane=0)>"
      ]
     },
     "execution_count": 19,
     "metadata": {},
     "output_type": "execute_result"
    },
    {
     "data": {
      "application/javascript": [
       "\n",
       "            setTimeout(function() {\n",
       "                var nbb_cell_id = 19;\n",
       "                var nbb_unformatted_code = \"explore_segmentation_of_dataset(\\n    image_sample_datasets, segmentation_sample_datasets, dataset_id=1, cmap=\\\"seismic\\\"\\n)\";\n",
       "                var nbb_formatted_code = \"explore_segmentation_of_dataset(\\n    image_sample_datasets, segmentation_sample_datasets, dataset_id=1, cmap=\\\"seismic\\\"\\n)\";\n",
       "                var nbb_cells = Jupyter.notebook.get_cells();\n",
       "                for (var i = 0; i < nbb_cells.length; ++i) {\n",
       "                    if (nbb_cells[i].input_prompt_number == nbb_cell_id) {\n",
       "                        if (nbb_cells[i].get_text() == nbb_unformatted_code) {\n",
       "                             nbb_cells[i].set_text(nbb_formatted_code);\n",
       "                        }\n",
       "                        break;\n",
       "                    }\n",
       "                }\n",
       "            }, 500);\n",
       "            "
      ],
      "text/plain": [
       "<IPython.core.display.Javascript object>"
      ]
     },
     "metadata": {},
     "output_type": "display_data"
    }
   ],
   "source": [
    "explore_segmentation_of_dataset(\n",
    "    image_sample_datasets, segmentation_sample_datasets, dataset_id=1, cmap=\"seismic\"\n",
    ")"
   ]
  },
  {
   "cell_type": "markdown",
   "id": "b3d4ca38",
   "metadata": {},
   "source": [
    "----\n",
    "\n",
    "#### Segmented 41755"
   ]
  },
  {
   "cell_type": "code",
   "execution_count": 20,
   "id": "bcc67a76",
   "metadata": {},
   "outputs": [
    {
     "data": {
      "application/vnd.jupyter.widget-view+json": {
       "model_id": "8b65a2b60ab447fda7c241e30148de02",
       "version_major": 2,
       "version_minor": 0
      },
      "text/plain": [
       "interactive(children=(IntSlider(value=0, description='plane', max=9), Output()), _dom_classes=('widget-interac…"
      ]
     },
     "metadata": {},
     "output_type": "display_data"
    },
    {
     "data": {
      "text/plain": [
       "<function src.utils.basic.visualization.explore_segmentation_of_dataset.<locals>.display_slice(plane=0)>"
      ]
     },
     "execution_count": 20,
     "metadata": {},
     "output_type": "execute_result"
    },
    {
     "data": {
      "application/javascript": [
       "\n",
       "            setTimeout(function() {\n",
       "                var nbb_cell_id = 20;\n",
       "                var nbb_unformatted_code = \"explore_segmentation_of_dataset(\\n    image_sample_datasets, segmentation_sample_datasets, dataset_id=2, cmap=\\\"seismic\\\"\\n)\";\n",
       "                var nbb_formatted_code = \"explore_segmentation_of_dataset(\\n    image_sample_datasets, segmentation_sample_datasets, dataset_id=2, cmap=\\\"seismic\\\"\\n)\";\n",
       "                var nbb_cells = Jupyter.notebook.get_cells();\n",
       "                for (var i = 0; i < nbb_cells.length; ++i) {\n",
       "                    if (nbb_cells[i].input_prompt_number == nbb_cell_id) {\n",
       "                        if (nbb_cells[i].get_text() == nbb_unformatted_code) {\n",
       "                             nbb_cells[i].set_text(nbb_formatted_code);\n",
       "                        }\n",
       "                        break;\n",
       "                    }\n",
       "                }\n",
       "            }, 500);\n",
       "            "
      ],
      "text/plain": [
       "<IPython.core.display.Javascript object>"
      ]
     },
     "metadata": {},
     "output_type": "display_data"
    }
   ],
   "source": [
    "explore_segmentation_of_dataset(\n",
    "    image_sample_datasets, segmentation_sample_datasets, dataset_id=2, cmap=\"seismic\"\n",
    ")"
   ]
  },
  {
   "cell_type": "markdown",
   "id": "1e7161de",
   "metadata": {},
   "source": [
    "----\n",
    "\n",
    "#### Segmented 41744"
   ]
  },
  {
   "cell_type": "code",
   "execution_count": 21,
   "id": "1c63df70",
   "metadata": {},
   "outputs": [
    {
     "data": {
      "application/vnd.jupyter.widget-view+json": {
       "model_id": "2ecb43bc777a4a348d0919839b891414",
       "version_major": 2,
       "version_minor": 0
      },
      "text/plain": [
       "interactive(children=(IntSlider(value=0, description='plane', max=9), Output()), _dom_classes=('widget-interac…"
      ]
     },
     "metadata": {},
     "output_type": "display_data"
    },
    {
     "data": {
      "text/plain": [
       "<function src.utils.basic.visualization.explore_segmentation_of_dataset.<locals>.display_slice(plane=0)>"
      ]
     },
     "execution_count": 21,
     "metadata": {},
     "output_type": "execute_result"
    },
    {
     "data": {
      "application/javascript": [
       "\n",
       "            setTimeout(function() {\n",
       "                var nbb_cell_id = 21;\n",
       "                var nbb_unformatted_code = \"explore_segmentation_of_dataset(\\n    image_sample_datasets, segmentation_sample_datasets, dataset_id=3, cmap=\\\"seismic\\\"\\n)\";\n",
       "                var nbb_formatted_code = \"explore_segmentation_of_dataset(\\n    image_sample_datasets, segmentation_sample_datasets, dataset_id=3, cmap=\\\"seismic\\\"\\n)\";\n",
       "                var nbb_cells = Jupyter.notebook.get_cells();\n",
       "                for (var i = 0; i < nbb_cells.length; ++i) {\n",
       "                    if (nbb_cells[i].input_prompt_number == nbb_cell_id) {\n",
       "                        if (nbb_cells[i].get_text() == nbb_unformatted_code) {\n",
       "                             nbb_cells[i].set_text(nbb_formatted_code);\n",
       "                        }\n",
       "                        break;\n",
       "                    }\n",
       "                }\n",
       "            }, 500);\n",
       "            "
      ],
      "text/plain": [
       "<IPython.core.display.Javascript object>"
      ]
     },
     "metadata": {},
     "output_type": "display_data"
    }
   ],
   "source": [
    "explore_segmentation_of_dataset(\n",
    "    image_sample_datasets, segmentation_sample_datasets, dataset_id=3, cmap=\"seismic\"\n",
    ")"
   ]
  },
  {
   "cell_type": "markdown",
   "id": "33d2c603",
   "metadata": {},
   "source": [
    "----\n",
    "\n",
    "#### Segmented 41757"
   ]
  },
  {
   "cell_type": "code",
   "execution_count": 22,
   "id": "c0462f2d",
   "metadata": {
    "scrolled": false
   },
   "outputs": [
    {
     "data": {
      "application/vnd.jupyter.widget-view+json": {
       "model_id": "984143edf04e43f982aae09a19e920cb",
       "version_major": 2,
       "version_minor": 0
      },
      "text/plain": [
       "interactive(children=(IntSlider(value=0, description='plane', max=9), Output()), _dom_classes=('widget-interac…"
      ]
     },
     "metadata": {},
     "output_type": "display_data"
    },
    {
     "data": {
      "text/plain": [
       "<function src.utils.basic.visualization.explore_segmentation_of_dataset.<locals>.display_slice(plane=0)>"
      ]
     },
     "execution_count": 22,
     "metadata": {},
     "output_type": "execute_result"
    },
    {
     "data": {
      "application/javascript": [
       "\n",
       "            setTimeout(function() {\n",
       "                var nbb_cell_id = 22;\n",
       "                var nbb_unformatted_code = \"explore_segmentation_of_dataset(\\n    image_sample_datasets, segmentation_sample_datasets, dataset_id=4, cmap=\\\"seismic\\\"\\n)\";\n",
       "                var nbb_formatted_code = \"explore_segmentation_of_dataset(\\n    image_sample_datasets, segmentation_sample_datasets, dataset_id=4, cmap=\\\"seismic\\\"\\n)\";\n",
       "                var nbb_cells = Jupyter.notebook.get_cells();\n",
       "                for (var i = 0; i < nbb_cells.length; ++i) {\n",
       "                    if (nbb_cells[i].input_prompt_number == nbb_cell_id) {\n",
       "                        if (nbb_cells[i].get_text() == nbb_unformatted_code) {\n",
       "                             nbb_cells[i].set_text(nbb_formatted_code);\n",
       "                        }\n",
       "                        break;\n",
       "                    }\n",
       "                }\n",
       "            }, 500);\n",
       "            "
      ],
      "text/plain": [
       "<IPython.core.display.Javascript object>"
      ]
     },
     "metadata": {},
     "output_type": "display_data"
    }
   ],
   "source": [
    "explore_segmentation_of_dataset(\n",
    "    image_sample_datasets, segmentation_sample_datasets, dataset_id=4, cmap=\"seismic\"\n",
    ")"
   ]
  },
  {
   "cell_type": "markdown",
   "id": "d4337d2a",
   "metadata": {},
   "source": [
    "The above segmentation looks fine and hence we will use that pipeline to segment all images.\n",
    "\n",
    "---"
   ]
  },
  {
   "cell_type": "markdown",
   "id": "56ef0d5b",
   "metadata": {},
   "source": [
    "### 4.3. Segment and save images\n",
    "\n",
    "\n",
    "During the segmentation we will ensure to maintain the available metadata including i.a. the gene targets, well and plate number for each nucleus by constructing a new metadata file. Those information will be important for our downstream analyses."
   ]
  },
  {
   "cell_type": "code",
   "execution_count": 88,
   "id": "c8197e55",
   "metadata": {},
   "outputs": [
    {
     "data": {
      "application/javascript": [
       "\n",
       "            setTimeout(function() {\n",
       "                var nbb_cell_id = 88;\n",
       "                var nbb_unformatted_code = \"output_dir = \\\"../data/images/single_nuclei_min_area_400\\\"\";\n",
       "                var nbb_formatted_code = \"output_dir = \\\"../data/images/single_nuclei_min_area_400\\\"\";\n",
       "                var nbb_cells = Jupyter.notebook.get_cells();\n",
       "                for (var i = 0; i < nbb_cells.length; ++i) {\n",
       "                    if (nbb_cells[i].input_prompt_number == nbb_cell_id) {\n",
       "                        if (nbb_cells[i].get_text() == nbb_unformatted_code) {\n",
       "                             nbb_cells[i].set_text(nbb_formatted_code);\n",
       "                        }\n",
       "                        break;\n",
       "                    }\n",
       "                }\n",
       "            }, 500);\n",
       "            "
      ],
      "text/plain": [
       "<IPython.core.display.Javascript object>"
      ]
     },
     "metadata": {},
     "output_type": "display_data"
    }
   ],
   "source": [
    "output_dir = \"../data/images/single_nuclei_min_area_400\""
   ]
  },
  {
   "cell_type": "code",
   "execution_count": null,
   "id": "a555eda7",
   "metadata": {},
   "outputs": [
    {
     "data": {
      "application/vnd.jupyter.widget-view+json": {
       "model_id": "2a522716401f44d2bb7068996f6cd825",
       "version_major": 2,
       "version_minor": 0
      },
      "text/plain": [
       "  0%|          | 0/17262 [00:00<?, ?it/s]"
      ]
     },
     "metadata": {},
     "output_type": "display_data"
    },
    {
     "name": "stderr",
     "output_type": "stream",
     "text": [
      "<ipython-input-92-b736e45bad1c>:35: UserWarning: Only one label was provided to `remove_small_objects`. Did you mean to use a boolean array?\n",
      "  label_image = morphology.remove_small_objects(label_image, min_size=min_area)\n"
     ]
    }
   ],
   "source": [
    "nuclei_metadata, image_metadata = segment_images_and_get_nuclei_metadata(\n",
    "    metadata=filtered_metadata_orm,\n",
    "    image_input_dir=image_input_dir,\n",
    "    outline_input_dir=outline_input_dir,\n",
    "    output_dir=os.path.join(output_dir, \"images\"),\n",
    "    plate_col=\"Image_Metadata_Plate\",\n",
    "    illum_file_col=\"Image_FileName_IllumHoechst\",\n",
    "    nuclei_outline_col=\"Image_FileName_NucleiOutlines\",\n",
    "    nuclei_count_col=\"Image_Count_Nuclei\",\n",
    "    min_area=400,\n",
    ")\n",
    "nuclei_metadata.to_csv(os.path.join(output_dir, \"nuclei_metadata.csv\"))"
   ]
  },
  {
   "cell_type": "code",
   "execution_count": null,
   "id": "0e3450a6",
   "metadata": {},
   "outputs": [],
   "source": [
    "nuclei_metadata"
   ]
  }
 ],
 "metadata": {
  "kernelspec": {
   "display_name": "Python 3",
   "language": "python",
   "name": "python3"
  },
  "language_info": {
   "codemirror_mode": {
    "name": "ipython",
    "version": 3
   },
   "file_extension": ".py",
   "mimetype": "text/x-python",
   "name": "python",
   "nbconvert_exporter": "python",
   "pygments_lexer": "ipython3",
   "version": "3.8.10"
  }
 },
 "nbformat": 4,
 "nbformat_minor": 5
}
