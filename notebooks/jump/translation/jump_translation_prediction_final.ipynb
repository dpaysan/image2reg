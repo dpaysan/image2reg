{
 "cells": [
  {
   "cell_type": "markdown",
   "id": "63c2b7c3",
   "metadata": {},
   "source": [
    "# Prediction of the perturbed genes via translation of image-based gene perturbation to regulatory gene embedding\n",
    "\n",
    "---\n",
    "\n",
    "This notebook is used to infer a map from the image-based gene perturbation embeddings to the corresponding regulatory gene embeddings in order to enable the out-of-sample prediction of unseen overexpression conditions. To this end, we will make use of the different image-embeddings and morphological profiles obtained from the JUMP data set as well as the regulatory gene embeddings also used in our previous analyses using the data from Rohban et al.\n",
    "\n",
    "To learn the map we will use the 31 OE conditions that are the subset of the 41 OE conditions from the Rohban data set that we had identified as impacting the chromatin organization which are also covered by the JUMP data set. We will then evaluate the performance of our translation by aiming to predict up to 144 additional OE conditions.\n",
    "\n",
    "This validation task is actually significantly more difficult than the leave-one-target-out cross-validation setup described in the paper. This is because a) we have substantially less training than test conditions, b) the gene targets of the test conditions tend to be related to pathways not (well) represented among the training conditions, c) the JUMP data shows strong batch effects which dominate the used embedding structures or whose removal seems to reduce the biological signal in the embeddings required to group OE conditions by common effects on the chromatin organization.\n",
    "\n",
    "To address those challenges, we will employ to strategies:\n",
    "- To assess how much the imbalance of the training and test conditions affects the performance, we will use the identified clusters of the regulatory gene embeddings and assess the prediction performance for each cluster individually.\n",
    "- To address the issue of the different batch effects, we will assess the prediction performance using not only the global but also the batch-wise means of the condition-specific embeddings as input to learn the translation. Additionally, we aim to introduce some invariance of the map to the individual batch information by adding these as an additional input features when learning the map.\n",
    "\n",
    "The performance of all configurations and input gene perturbation embeddings is measured in terms of the kNN accuracy. In particular, the overall procedure will look as follows:\n",
    "1. Given the image embeddings of the cells in the 175 OE conditions, we will obtain the corresponding gene perturbation embeddings as the condition-wise mean of these embeddings.\n",
    "2. We will select the 31 OE conditions which are the subset of the 41 impactful gene perturbation settings from the Rohban et al. (2017) data set that are part of the selected 175 conditions of the JUMP data set.\n",
    "3. We will learn a NTK-based map as described in our paper using these 31 condition that given a image-based gene perturbation embedding predicts the corresponding regulatory gene embedding.\n",
    "4. Using the learned map, we will obtain predictions of the regulatory gene embeddings for the perturbed gene targets of the remaining 144/175 OE conditions in our data set.\n",
    "5. Finally, we evaluate the prediction performance for those 144 OE conditions using the k-nearest neighbor accuracy and compare those against a baseline that is equivalent to random chance as described in the paper.\n",
    "\n",
    "---"
   ]
  },
  {
   "cell_type": "markdown",
   "id": "4a797f7f",
   "metadata": {},
   "source": [
    "## Environmental setup\n",
    "\n",
    "First, we load in all required software packages and define the required functions."
   ]
  },
  {
   "cell_type": "code",
   "execution_count": 1,
   "id": "d3bb2380",
   "metadata": {},
   "outputs": [],
   "source": [
    "import pandas as pd\n",
    "import numpy as np\n",
    "import matplotlib.pyplot as plt\n",
    "import seaborn as sns\n",
    "import torch\n",
    "import copy\n",
    "from torch import nn\n",
    "from torch.optim import Adam\n",
    "import sys\n",
    "from tqdm.notebook import tqdm\n",
    "from torch.utils.data import DataLoader\n",
    "import matplotlib as mpl\n",
    "from sklearn.preprocessing import normalize\n",
    "import os\n",
    "import rff\n",
    "import pickle\n",
    "import traceback\n",
    "import time\n",
    "from sklearn.linear_model import LinearRegression\n",
    "from sklearn.preprocessing import OneHotEncoder\n",
    "from sklearn.kernel_ridge import KernelRidge\n",
    "\n",
    "sys.path.append(\"../../..\")\n",
    "\n",
    "from src.utils.notebooks.translation.analysis import *\n",
    "from src.data.datasets import IndexedTensorDataset\n",
    "from src.utils.basic.io import get_genesets_from_gmt_file, get_file_list\n",
    "\n",
    "mpl.rcParams[\"figure.dpi\"] = 300\n",
    "\n",
    "\n",
    "seed = 1234\n",
    "\n",
    "device = \"cuda:0\""
   ]
  },
  {
   "cell_type": "code",
   "execution_count": 2,
   "id": "9b7a550d",
   "metadata": {},
   "outputs": [],
   "source": [
    "def label_point(\n",
    "    x, y, val, ax, reg_size=10, highlight_size=10, highlight=None, highlight_other=None\n",
    "):\n",
    "    xmin, xmax = ax.get_xlim()\n",
    "    ymin, ymax = ax.get_ylim()\n",
    "    for i in range(len(x)):\n",
    "        if highlight is not None and val[i] == highlight:\n",
    "            c = \"r\"\n",
    "            weight = \"bold\"\n",
    "            size = highlight_size\n",
    "        elif highlight_other is not None and val[i] in highlight_other:\n",
    "            c = \"b\"\n",
    "            weight = \"bold\"\n",
    "        else:\n",
    "            c = \"k\"\n",
    "            weight = \"normal\"\n",
    "            size = reg_size\n",
    "        if x[i] > xmin and x[i] < xmax and y[i] > ymin and y[i] < ymax:\n",
    "            ax.text(x[i] + 0.02, y[i], val[i], {\"size\": size, \"c\": c, \"weight\": weight})"
   ]
  },
  {
   "cell_type": "code",
   "execution_count": 3,
   "id": "050ee3fd",
   "metadata": {},
   "outputs": [],
   "source": [
    "class SyntheticInterventionModel:\n",
    "    def __init__(self):\n",
    "        super().__init__()\n",
    "        self.alpha = None\n",
    "        self.X_train = None\n",
    "        self.Y_train = None\n",
    "\n",
    "    def fit(self, X_train, Y_train):\n",
    "        self.X_train = X_train\n",
    "        self.Y_train = Y_train\n",
    "        return self\n",
    "\n",
    "    def predict(self, X_test):\n",
    "        self.alpha = np.matmul(X_test, np.linalg.pinv(self.X_train))\n",
    "        y_test = np.matmul(self.alpha, self.Y_train)\n",
    "        return y_test"
   ]
  },
  {
   "cell_type": "code",
   "execution_count": 4,
   "id": "e5b7ed17",
   "metadata": {},
   "outputs": [],
   "source": [
    "class MeanModel:\n",
    "    def __init__(self):\n",
    "        super().__init__()\n",
    "        self.Y_mean = None\n",
    "\n",
    "    def fit(self, X_train, Y_train):\n",
    "        self.Y_mean = Y_train\n",
    "        return self\n",
    "\n",
    "    def predict(self, X_test=None):\n",
    "        return np.repeat(self.Y_mean, len(X_test), axis=0)"
   ]
  },
  {
   "cell_type": "code",
   "execution_count": 5,
   "id": "9b46b691",
   "metadata": {},
   "outputs": [],
   "source": [
    "class RandomModel:\n",
    "    def __init__(self):\n",
    "        super().__init__()\n",
    "        self.Y_train = None\n",
    "\n",
    "    def fit(self, X_train, Y_train):\n",
    "        self.Y_train = Y_train\n",
    "        return self\n",
    "\n",
    "    def predict(self, X_test=None):\n",
    "        test_idc = np.random.randint(0, len(self.Y_train), size=len(X_test))\n",
    "        Y_test = self.Y_train[test_idc]\n",
    "        return Y_test"
   ]
  },
  {
   "cell_type": "code",
   "execution_count": 6,
   "id": "a89ab37e",
   "metadata": {},
   "outputs": [],
   "source": [
    "def compute_area_under_the_knn_curve(knn_acc_results, max_k=51):\n",
    "    knn_accs = knn_acc_results.loc[knn_acc_results.k < max_k + 1, \"knn_acc\"]\n",
    "    return np.sum(knn_accs) / max_k"
   ]
  },
  {
   "cell_type": "code",
   "execution_count": 7,
   "id": "e09f4be3",
   "metadata": {},
   "outputs": [],
   "source": [
    "def get_jump_knn_hit_data(nn_dict):\n",
    "    idc = []\n",
    "    hits = []\n",
    "    for (k, v) in nn_dict:\n",
    "        idc.append(k)\n",
    "        hits.append(np.where(v == k)[0])\n",
    "    hit_results = pd.DataFrame(np.array(hits), columns=[\"knn_hit\"], index=idc)\n",
    "    return hit_results"
   ]
  },
  {
   "cell_type": "code",
   "execution_count": 8,
   "id": "1721d930",
   "metadata": {},
   "outputs": [],
   "source": [
    "def get_knn_hit_data(nn_dict):\n",
    "    idc = []\n",
    "    hits = []\n",
    "    for k, v in nn_dict.items():\n",
    "        idc.append(k)\n",
    "        hits.append(np.where(v == k)[0])\n",
    "    hit_results = pd.DataFrame(np.array(hits), columns=[\"knn_hit\"], index=idc)\n",
    "    return hit_results"
   ]
  },
  {
   "cell_type": "code",
   "execution_count": 9,
   "id": "a1f110fc",
   "metadata": {},
   "outputs": [],
   "source": [
    "from numpy.linalg import solve\n",
    "\n",
    "\n",
    "class NTK:\n",
    "    def __init__(self, reg=1):\n",
    "        super().__init__()\n",
    "        self.reg = reg\n",
    "        self.sol = None\n",
    "        self.Xtrain = None\n",
    "\n",
    "    def kernel(self, pair1, pair2):\n",
    "\n",
    "        out = pair1 @ pair2.T + 1\n",
    "        N1 = np.sum(np.power(pair1, 2), axis=-1).reshape(-1, 1) + 1\n",
    "        N2 = np.sum(np.power(pair2, 2), axis=-1).reshape(-1, 1) + 1\n",
    "\n",
    "        XX = np.sqrt(N1 @ N2.T)\n",
    "        out = out / XX\n",
    "\n",
    "        out = np.clip(out, -1, 1)\n",
    "\n",
    "        first = (\n",
    "            1\n",
    "            / np.pi\n",
    "            * (out * (np.pi - np.arccos(out)) + np.sqrt(1.0 - np.power(out, 2)))\n",
    "            * XX\n",
    "        )\n",
    "        sec = 1 / np.pi * out * (np.pi - np.arccos(out)) * XX\n",
    "        out = first + sec\n",
    "\n",
    "        C = 1\n",
    "        return out / C\n",
    "\n",
    "    def fit(self, Xtrain, ytrain):\n",
    "        K = self.kernel(Xtrain, Xtrain)\n",
    "        sol = solve(K + self.reg * np.eye(len(K)), ytrain).T\n",
    "        self.sol = sol\n",
    "        self.Xtrain = Xtrain\n",
    "        return self\n",
    "\n",
    "    def predict(self, X):\n",
    "        K = self.kernel(self.Xtrain, X)\n",
    "        return (self.sol @ K).T"
   ]
  },
  {
   "cell_type": "code",
   "execution_count": 10,
   "id": "9bcb553d",
   "metadata": {},
   "outputs": [],
   "source": [
    "def get_jump_input_and_target_features(\n",
    "    X_train,\n",
    "    Y_train,\n",
    "    X_test,\n",
    "    use_y_train_mean=False,\n",
    "    use_y_mean=False,\n",
    "    Y_train_mean=None,\n",
    "    Y_mean=None,\n",
    "    Y_all=None,\n",
    "    n_neighbors_weights_features=0,\n",
    "    n_weight_encodings=10,\n",
    "    neighbor_weight_encoding=\"positional\",\n",
    "    append_neighbor_embs=None,\n",
    "    rff_sigma=1,\n",
    "    cache_dir=None,\n",
    "    use_batch_labels=False,\n",
    "    train_batch_labels=None,\n",
    "    test_batch_labels=None,\n",
    "):\n",
    "    pert_train_samples = list(X_train.index)\n",
    "    test_target = list(X_test.index)[0]\n",
    "    X_train = np.array(X_train)\n",
    "    Y_train = np.array(Y_train)\n",
    "    X_test = np.array(X_test)\n",
    "\n",
    "    if use_batch_labels:\n",
    "        ohe = OneHotEncoder()\n",
    "        encoded_batch_labels = ohe.fit_transform(\n",
    "            np.concatenate([train_batch_labels, test_batch_labels], axis=-1).reshape(\n",
    "                -1, 1\n",
    "            )\n",
    "        ).toarray()\n",
    "        encoded_train_batch_labels = encoded_batch_labels[: len(train_batch_labels)]\n",
    "        encoded_test_batch_labels = encoded_batch_labels[len(train_batch_labels) :]\n",
    "        X_train = np.concatenate([X_train, encoded_train_batch_labels], axis=-1)\n",
    "        X_test = np.concatenate([X_test, encoded_test_batch_labels], axis=-1)\n",
    "\n",
    "    if use_y_train_mean and Y_train_mean is not None:\n",
    "        Y_train_mean = np.array(Y_train_mean).reshape(1, -1)\n",
    "        X_train = np.concatenate(\n",
    "            [X_train, np.repeat(Y_train_mean, len(X_train), axis=0)], axis=-1\n",
    "        )\n",
    "        X_test = np.concatenate(\n",
    "            [X_test, np.repeat(Y_train_mean, len(X_test), axis=0)],\n",
    "            axis=-1,\n",
    "        )\n",
    "    if use_y_mean and Y_mean is not None:\n",
    "        Y_mean = np.array(Y_mean).reshape(1, -1)\n",
    "        X_train = np.concatenate(\n",
    "            [X_train, np.repeat(Y_mean, len(X_train), axis=0)], axis=-1\n",
    "        )\n",
    "        X_test = np.concatenate(\n",
    "            [X_test, np.repeat(Y_mean, len(X_test), axis=0)],\n",
    "            axis=-1,\n",
    "        )\n",
    "\n",
    "    ## Use Random Fourier Features of nearest neighbors of the training image embeddings\n",
    "    if n_neighbors_weights_features > 0:\n",
    "        nn = NearestNeighbors(n_neighbors=n_neighbors_weights_features)\n",
    "        nn = nn.fit(X_train)\n",
    "        X_train_and_test = np.concatenate([X_train, X_test], axis=0)\n",
    "        neighbors_idcs = nn.kneighbors(X_train_and_test, return_distance=False)\n",
    "\n",
    "        # Use cached SI coefficients if those are available to redce run-time\n",
    "        # If the file does not exist but a cache directory is given - the SI coefficients are cached.\n",
    "        try:\n",
    "            filehandler = open(\n",
    "                os.path.join(\n",
    "                    cache_dir,\n",
    "                    \"neighbor_weights_{}_{}.pkl\".format(\n",
    "                        test_target, n_neighbors_weights_features\n",
    "                    ),\n",
    "                ),\n",
    "                \"rb\",\n",
    "            )\n",
    "            neighbor_weights = pickle.load(filehandler)\n",
    "            filehandler.close()\n",
    "        except Exception:\n",
    "            neighbor_weights = []\n",
    "            for i in range(len(X_train_and_test)):\n",
    "                neighbors_idc = neighbors_idcs[i]\n",
    "                neighbors = X_train[neighbors_idc]\n",
    "                neighbor_weight = np.matmul(\n",
    "                    X_train_and_test[i], np.linalg.pinv(neighbors)\n",
    "                )\n",
    "                neighbor_weights.append(neighbor_weight)\n",
    "            neighbors_weights = np.array(neighbor_weights)\n",
    "\n",
    "            if cache_dir is not None:\n",
    "                os.makedirs(cache_dir, exist_ok=True)\n",
    "                filehandler = open(\n",
    "                    os.path.join(\n",
    "                        cache_dir,\n",
    "                        \"neighbor_weights_{}_{}.pkl\".format(\n",
    "                            test_target, n_neighbors_weights_features\n",
    "                        ),\n",
    "                    ),\n",
    "                    \"wb\",\n",
    "                )\n",
    "                pickle.dump(neighbor_weights, filehandler)\n",
    "                filehandler.close()\n",
    "\n",
    "        neighbor_weights = torch.FloatTensor(neighbor_weights)\n",
    "        if neighbor_weight_encoding == \"positional\":\n",
    "            encoding = rff.layers.PositionalEncoding(\n",
    "                sigma=rff_sigma, m=n_weight_encodings\n",
    "            )\n",
    "        elif neighbor_weight_encoding == \"gauss\":\n",
    "            encoding = rff.layers.GaussianEncoding(\n",
    "                sigma=rff_sigma,\n",
    "                input_size=neighbor_weights.size(-1),\n",
    "                encoded_size=n_weight_encodings,\n",
    "            )\n",
    "        neighbor_weights = encoding(neighbor_weights).cpu().detach().numpy()\n",
    "\n",
    "        X_train = np.concatenate([X_train, neighbor_weights[: len(X_train)]], axis=-1)\n",
    "        X_test = np.concatenate([X_test, neighbor_weights[len(X_train) :]], axis=-1)\n",
    "\n",
    "        # If desired append embeddings of the nearest neighbors (imaging or regulatory) as additional features\n",
    "        if append_neighbor_embs is not None:\n",
    "            neighbor_embs = []\n",
    "            for i in range(len(X_train_and_test)):\n",
    "                neighbors_idc = neighbors_idcs[i]\n",
    "                if append_neighbor_embs == \"images\":\n",
    "                    neighbors = X_train[neighbors_idc]\n",
    "                elif append_neighbor_embs == \"genes\":\n",
    "                    neighbors = Y_train[neighbors_idc]\n",
    "                else:\n",
    "                    raise NotImplementedError\n",
    "                neighbor_embs.append(neighbors.reshape(-1))\n",
    "            neighbor_embs = np.array(neighbor_embs)\n",
    "            X_train = np.concatenate([X_train, neighbor_embs[: len(X_train)]], axis=-1)\n",
    "            X_test = np.concatenate([X_test, neighbor_embs[len(X_train) :]], axis=-1)\n",
    "    return X_train, Y_train, X_test"
   ]
  },
  {
   "cell_type": "code",
   "execution_count": 11,
   "id": "fa4120b8",
   "metadata": {},
   "outputs": [],
   "source": [
    "def get_jump_prediction_for_model(\n",
    "    X_train,\n",
    "    Y_train,\n",
    "    X_test,\n",
    "    model_type=\"synthetic_intervention\",\n",
    "    model_params_dict=None,\n",
    "    model=None,\n",
    "    Y_all=None,\n",
    "    Y_mean=None,\n",
    "    Y_train_mean=None,\n",
    "    use_y_train_mean=False,\n",
    "    use_y_mean=False,\n",
    "    n_neighbors_weights_features=0,\n",
    "    n_weight_encodings=10,\n",
    "    neighbor_weight_encoding=None,\n",
    "    append_neighbor_embs=None,\n",
    "    rff_sigma=1,\n",
    "    use_batch_labels=False,\n",
    "    train_batch_labels=None,\n",
    "    test_batch_labels=None,\n",
    "    normalize_prediction=False,\n",
    "):\n",
    "    start_time = time.time()\n",
    "    # Get potentially transformed input and target features\n",
    "    X_train, Y_train, X_test = get_jump_input_and_target_features(\n",
    "        X_train=X_train,\n",
    "        Y_train=Y_train,\n",
    "        X_test=X_test,\n",
    "        use_y_train_mean=use_y_train_mean,\n",
    "        use_y_mean=use_y_mean,\n",
    "        Y_all=Y_all,\n",
    "        Y_mean=Y_mean,\n",
    "        Y_train_mean=Y_train_mean,\n",
    "        n_neighbors_weights_features=n_neighbors_weights_features,\n",
    "        n_weight_encodings=n_weight_encodings,\n",
    "        neighbor_weight_encoding=neighbor_weight_encoding,\n",
    "        append_neighbor_embs=append_neighbor_embs,\n",
    "        rff_sigma=rff_sigma,\n",
    "        use_batch_labels=use_batch_labels,\n",
    "        train_batch_labels=train_batch_labels,\n",
    "        test_batch_labels=test_batch_labels,\n",
    "    )\n",
    "\n",
    "    # print(\"Get features\", time.time()-start_time)\n",
    "\n",
    "    # Initialize model\n",
    "    if model_type == \"synthetic_intervention\":\n",
    "        model = SyntheticInterventionModel()\n",
    "    elif model_type == \"linear_regression\":\n",
    "        model = LinearRegression()\n",
    "    elif model_type == \"kernel_regression\":\n",
    "        if model_params_dict is None:\n",
    "            model = KernelRidge()\n",
    "        else:\n",
    "            model = KernelRidge(**model_params_dict)\n",
    "    elif model_type == \"mean\":\n",
    "        model = MeanModel()\n",
    "        Y_train = Y_train_mean\n",
    "    elif model_type == \"mean_all\":\n",
    "        model = MeanModel()\n",
    "        Y_train = Y_mean\n",
    "    elif model_type == \"ntk\":\n",
    "        if model_params_dict is not None:\n",
    "            model = NTK(**model_params_dict)\n",
    "        else:\n",
    "            model = NTK()\n",
    "    elif model_type == \"random\":\n",
    "        model = RandomModel()\n",
    "        Y_train = np.array(Y_all)\n",
    "    else:\n",
    "        if model is not None:\n",
    "            model = model.fit(X_train, Y_train)\n",
    "        else:\n",
    "            raise NotImplementedError\n",
    "\n",
    "    # Fit model and predict\n",
    "    model = model.fit(X_train, Y_train)\n",
    "    Y_test = model.predict(X_test)\n",
    "\n",
    "    if normalize_prediction:\n",
    "        Y_test = normalize(Y_test)\n",
    "\n",
    "    # print(\"Total time\", time.time() - start_time)\n",
    "    return Y_test"
   ]
  },
  {
   "cell_type": "code",
   "execution_count": 12,
   "id": "1f0aef42",
   "metadata": {},
   "outputs": [],
   "source": [
    "def get_jump_nn_prediction_dict(\n",
    "    pert_embs,\n",
    "    reg_embs,\n",
    "    train_targets,\n",
    "    test_targets,\n",
    "    model_type=\"synthethic_intervention\",\n",
    "    model_params_dict=None,\n",
    "    raw_reg_embs=None,\n",
    "    use_y_train_mean=False,\n",
    "    use_y_mean=False,\n",
    "    n_neighbors_weights_features=0,\n",
    "    n_weight_encodings=10,\n",
    "    neighbor_weight_encoding=None,\n",
    "    append_neighbor_embs=None,\n",
    "    rff_sigma=1,\n",
    "    use_batch_labels=False,\n",
    "    batch_labels=None,\n",
    "    model=None,\n",
    "    permute=False,\n",
    "    debug=False,\n",
    "    normalize_prediction=False,\n",
    "    normalize_inputs=False,\n",
    "    return_predicted_embeddings=False,\n",
    "):\n",
    "    nn_pred_dict = []\n",
    "    emb_pred_dict = []\n",
    "\n",
    "    # Randomly permute both embeddings to compute a random baseline\n",
    "    if permute:\n",
    "        reg_embs = pd.DataFrame(\n",
    "            np.random.permutation(np.array(reg_embs)),\n",
    "            index=reg_embs.index,\n",
    "            columns=reg_embs.columns,\n",
    "        )\n",
    "        pert_embs = pd.DataFrame(\n",
    "            np.random.permutation(np.array(pert_embs)),\n",
    "            index=pert_embs.index,\n",
    "            columns=pert_embs.columns,\n",
    "        )\n",
    "\n",
    "    if normalize_inputs:\n",
    "        pert_embs = pd.DataFrame(\n",
    "            normalize(pert_embs), index=pert_embs.index, columns=pert_embs.columns\n",
    "        )\n",
    "\n",
    "    # Identify genes with both corresponding perturbation and regulatory gene embeddings\n",
    "    shared_targets = set(reg_embs.index).intersection(pert_embs.index)\n",
    "    # Focus on the perturbation gene embeddings with corresponding regulatory gene embeddings\n",
    "    pert_embs = pert_embs.loc[list(shared_targets)]\n",
    "\n",
    "    # Estimate the NearestNeighbor graph of the regulatory gene embeddings using euclidean distances\n",
    "    reg_nn = NearestNeighbors(n_neighbors=len(reg_embs))\n",
    "    reg_samples = np.array(list(reg_embs.index))\n",
    "    reg_nn.fit(np.array(reg_embs))\n",
    "\n",
    "    # Extract perturbation gene names\n",
    "    pert_samples = np.array(list(pert_embs.index))\n",
    "\n",
    "    # Identify the test and train samples as the perturbation gene embeddings of the hold-out gene target\n",
    "    # and all others respectively\n",
    "    X_train = pert_embs.loc[train_targets]\n",
    "    Y_train = reg_embs.loc[train_targets]\n",
    "    X_train = X_train.sort_index()\n",
    "    Y_train = Y_train.loc[list(X_train.index)]\n",
    "    X_test = pert_embs.loc[test_targets]\n",
    "\n",
    "    if use_batch_labels:\n",
    "        train_batch_labels = batch_labels.loc[train_targets]\n",
    "        test_batch_labels = batch_labels.loc[test_targets]\n",
    "    else:\n",
    "        train_batch_labels = None\n",
    "        test_batch_labels = None\n",
    "\n",
    "    if raw_reg_embs is not None:\n",
    "        Y_mean = normalize(np.array(raw_reg_embs.mean(axis=0)).reshape(1, -1))\n",
    "        Y_train_mean = normalize(np.array(Y_train.mean(axis=0)).reshape(1, -1))\n",
    "    else:\n",
    "        Y_mean = np.array(reg_embs.mean(axis=0)).reshape(1, -1)\n",
    "        Y_train_mean = np.array(Y_train.mean(axis=0)).reshape(1, -1)\n",
    "\n",
    "    # Get the predicted regulatory gene embedding for the hold-out gene target\n",
    "    Y_test = get_jump_prediction_for_model(\n",
    "        X_train=X_train,\n",
    "        Y_train=Y_train,\n",
    "        X_test=X_test,\n",
    "        model_type=model_type,\n",
    "        model_params_dict=model_params_dict,\n",
    "        Y_mean=Y_mean,\n",
    "        Y_train_mean=Y_train_mean,\n",
    "        use_y_train_mean=use_y_train_mean,\n",
    "        use_y_mean=use_y_mean,\n",
    "        n_neighbors_weights_features=n_neighbors_weights_features,\n",
    "        n_weight_encodings=n_weight_encodings,\n",
    "        neighbor_weight_encoding=neighbor_weight_encoding,\n",
    "        append_neighbor_embs=append_neighbor_embs,\n",
    "        rff_sigma=rff_sigma,\n",
    "        use_batch_labels=use_batch_labels,\n",
    "        train_batch_labels=train_batch_labels,\n",
    "        test_batch_labels=test_batch_labels,\n",
    "        model=model,\n",
    "        Y_all=reg_embs,\n",
    "        normalize_prediction=normalize_prediction,\n",
    "    )\n",
    "    for i in range(len(Y_test)):\n",
    "        test_target = list(X_test.index)[i]\n",
    "        y_test = Y_test[i].reshape(1, -1)\n",
    "        emb_pred_dict.append((test_target, y_test))\n",
    "        # Identify the sorted nearest neighbor list of the prediction among all regulatory gene embeddings\n",
    "        reg_nns = reg_samples[reg_nn.kneighbors(y_test, return_distance=False)][0]\n",
    "        nn_pred_dict.append((test_target, reg_nns))\n",
    "\n",
    "        if not permute and debug:\n",
    "            print(\n",
    "                model_type,\n",
    "                test_target,\n",
    "                np.where(reg_nns == test_target)[0],\n",
    "                reg_nns[:5],\n",
    "            )\n",
    "            # print(y_test)\n",
    "\n",
    "    # Return a dictionary with the key identifying the hold-out gene target and the corresponding value the\n",
    "    # names of the regulatory gene embeddings closest to the prediction in increasing euclidean distance\n",
    "    if not return_predicted_embeddings:\n",
    "        return nn_pred_dict\n",
    "    else:\n",
    "        return nn_pred_dict, emb_pred_dict"
   ]
  },
  {
   "cell_type": "code",
   "execution_count": 13,
   "id": "c76a5d08",
   "metadata": {},
   "outputs": [],
   "source": [
    "def get_jump_knn_hits_for_model(\n",
    "    pert_embs,\n",
    "    reg_embs,\n",
    "    train_targets,\n",
    "    test_targets,\n",
    "    model_type=\"synthetic_intervention\",\n",
    "    model=None,\n",
    "    model_params_dict=None,\n",
    "    raw_reg_embs=None,\n",
    "    use_y_train_mean=False,\n",
    "    use_y_mean=False,\n",
    "    n_neighbors_weights_features=0,\n",
    "    neighbor_weight_encoding=None,\n",
    "    append_neighbor_embs=None,\n",
    "    n_weight_encodings=10,\n",
    "    rff_sigma=1,\n",
    "    use_batch_labels=False,\n",
    "    batch_labels=None,\n",
    "    normalize_prediction=False,\n",
    "    normalize_inputs=False,\n",
    "):\n",
    "    # Function to compute the nearest neighbor accuracy for a given set of perturbation and\n",
    "    # regulatory gene embeddings for a specified model type\n",
    "\n",
    "    # Get nearest-neighbor prediction dictionary\n",
    "    nn_dict = get_jump_nn_prediction_dict(\n",
    "        pert_embs=pert_embs,\n",
    "        reg_embs=reg_embs,\n",
    "        train_targets=train_targets,\n",
    "        test_targets=test_targets,\n",
    "        model_type=model_type,\n",
    "        model=model,\n",
    "        model_params_dict=model_params_dict,\n",
    "        raw_reg_embs=raw_reg_embs,\n",
    "        use_y_train_mean=use_y_train_mean,\n",
    "        use_y_mean=use_y_mean,\n",
    "        n_neighbors_weights_features=n_neighbors_weights_features,\n",
    "        n_weight_encodings=n_weight_encodings,\n",
    "        neighbor_weight_encoding=neighbor_weight_encoding,\n",
    "        append_neighbor_embs=append_neighbor_embs,\n",
    "        rff_sigma=rff_sigma,\n",
    "        use_batch_labels=use_batch_labels,\n",
    "        batch_labels=batch_labels,\n",
    "        normalize_inputs=normalize_inputs,\n",
    "        normalize_prediction=normalize_prediction,\n",
    "        permute=False,\n",
    "    )\n",
    "    knn_hit_data = get_jump_knn_hit_data(nn_dict)\n",
    "    return knn_hit_data"
   ]
  },
  {
   "cell_type": "code",
   "execution_count": 14,
   "id": "0adf5b28",
   "metadata": {},
   "outputs": [],
   "source": [
    "def get_jump_perm_knn_hits_for_model(\n",
    "    pert_embs,\n",
    "    reg_embs,\n",
    "    train_targets,\n",
    "    test_targets,\n",
    "    model_type=\"synthetic_intervention\",\n",
    "    model_params_dict=None,\n",
    "    model=None,\n",
    "    raw_reg_embs=None,\n",
    "    use_y_train_mean=False,\n",
    "    use_y_mean=False,\n",
    "    n_neighbors_weights_features=0,\n",
    "    n_weight_encodings=10,\n",
    "    neighbor_weight_encoding=None,\n",
    "    append_neighbor_embs=None,\n",
    "    rff_sigma=1,\n",
    "    use_batch_labels=False,\n",
    "    batch_labels=None,\n",
    "    normalize_inputs=False,\n",
    "    normalize_prediction=False,\n",
    "    b=500,\n",
    "    random_state=1234,\n",
    "):\n",
    "    # Function that also computes the knn accuracy for a given model/type but randomly permutes the perturbation\n",
    "    # and regulatory gene embeddings to establish a random baseline\n",
    "\n",
    "    np.random.seed(random_state)\n",
    "    all_knn_hit_data = []\n",
    "    for i in tqdm(range(b)):\n",
    "        nn_dict = get_jump_nn_prediction_dict(\n",
    "            pert_embs=pert_embs,\n",
    "            reg_embs=reg_embs,\n",
    "            train_targets=train_targets,\n",
    "            test_targets=test_targets,\n",
    "            model_type=model_type,\n",
    "            model_params_dict=model_params_dict,\n",
    "            raw_reg_embs=raw_reg_embs,\n",
    "            use_y_train_mean=use_y_train_mean,\n",
    "            use_y_mean=use_y_mean,\n",
    "            n_neighbors_weights_features=n_neighbors_weights_features,\n",
    "            n_weight_encodings=n_weight_encodings,\n",
    "            neighbor_weight_encoding=neighbor_weight_encoding,\n",
    "            append_neighbor_embs=append_neighbor_embs,\n",
    "            rff_sigma=rff_sigma,\n",
    "            use_batch_labels=use_batch_labels,\n",
    "            batch_labels=batch_labels,\n",
    "            model=model,\n",
    "            normalize_inputs=normalize_inputs,\n",
    "            normalize_prediction=normalize_prediction,\n",
    "            permute=True,\n",
    "        )\n",
    "        knn_hit_data = get_jump_knn_hit_data(nn_dict)\n",
    "        all_knn_hit_data.append(knn_hit_data)\n",
    "    return pd.concat(all_knn_hit_data)"
   ]
  },
  {
   "cell_type": "code",
   "execution_count": 15,
   "id": "b5021522",
   "metadata": {},
   "outputs": [],
   "source": [
    "def plot_translation_performance(\n",
    "    results,\n",
    "    hue,\n",
    "    ymax,\n",
    "    title=\"\",\n",
    "    random_baseline=None,\n",
    "    mean_baseline=None,\n",
    "    mean_train_baseline=None,\n",
    "    figsize=[9, 6],\n",
    "    cmap=None,\n",
    "    style=None,\n",
    "    style_order=None,\n",
    "    param_title=None,\n",
    "    legend_title=\"Model\",\n",
    "    alpha=0.8,\n",
    "):\n",
    "    sns.set_style(\"whitegrid\")\n",
    "    if param_title is None:\n",
    "        param_title = hue\n",
    "    fig, ax = plt.subplots(figsize=figsize)\n",
    "    ax = sns.lineplot(\n",
    "        data=results,\n",
    "        x=\"k\",\n",
    "        y=\"knn_acc\",\n",
    "        hue=hue,\n",
    "        palette=cmap,\n",
    "        style=style,\n",
    "        style_order=style_order,\n",
    "        alpha=alpha,\n",
    "    )\n",
    "    if mean_train_baseline is not None:\n",
    "        ax = sns.lineplot(\n",
    "            data=mean_train_baseline,\n",
    "            x=\"k\",\n",
    "            y=\"knn_acc\",\n",
    "            ax=ax,\n",
    "            label=\"Mean baseline (train)\",\n",
    "            color=\"red\",\n",
    "            legend=False,\n",
    "            alpha=alpha,\n",
    "            linestyle=\"dotted\",\n",
    "        )\n",
    "    if mean_baseline is not None:\n",
    "        ax = sns.lineplot(\n",
    "            data=mean_baseline,\n",
    "            x=\"k\",\n",
    "            y=\"knn_acc\",\n",
    "            ax=ax,\n",
    "            label=\"Mean baseline\",\n",
    "            color=\"r\",\n",
    "            linestyle=\"--\",\n",
    "            legend=False,\n",
    "            alpha=alpha,\n",
    "        )\n",
    "    if random_baseline is not None:\n",
    "        ax = sns.lineplot(\n",
    "            data=random_baseline,\n",
    "            x=\"k\",\n",
    "            y=\"knn_acc\",\n",
    "            ax=ax,\n",
    "            label=\"Random baseline\",\n",
    "            color=\"dimgray\",\n",
    "            linestyle=\"--\",\n",
    "            legend=False,\n",
    "            alpha=alpha,\n",
    "        )\n",
    "    ax.set_title(title)\n",
    "    ax.set_xticks(np.arange(0, 51, 5))\n",
    "    ax.set_yticks(np.arange(0, ymax, 0.05))\n",
    "    ax.legend(title=legend_title, loc=\"upper left\", frameon=True)\n",
    "\n",
    "    return fig, ax"
   ]
  },
  {
   "cell_type": "code",
   "execution_count": 16,
   "id": "22a2893b",
   "metadata": {},
   "outputs": [],
   "source": [
    "def get_all_jump_knn_hits_for_model(\n",
    "    pert_embs,\n",
    "    reg_embs,\n",
    "    train_targets,\n",
    "    test_targets,\n",
    "    config_id=None,\n",
    "    model_type=\"synthetic_intervention\",\n",
    "    model_params_dict=None,\n",
    "    model=None,\n",
    "    raw_reg_embs=None,\n",
    "    use_y_train_mean=False,\n",
    "    use_y_mean=False,\n",
    "    n_neighbors_weights_features=0,\n",
    "    n_weight_encodings=10,\n",
    "    neighbor_weight_encoding=None,\n",
    "    append_neighbor_embs=None,\n",
    "    rff_sigma=1,\n",
    "    use_batch_labels=False,\n",
    "    batch_labels=None,\n",
    "    normalize_prediction=False,\n",
    "    normalize_inputs=False,\n",
    "    b=50,\n",
    "    n_clusters=5,\n",
    "    auc_ks=[6, 11, 16, 21, 26, 31, 51],\n",
    "):\n",
    "    knn_hits_results = get_jump_knn_hits_for_model(\n",
    "        pert_embs=pert_embs,\n",
    "        reg_embs=reg_embs,\n",
    "        train_targets=train_targets,\n",
    "        test_targets=test_targets,\n",
    "        model_type=model_type,\n",
    "        model_params_dict=model_params_dict,\n",
    "        model=model,\n",
    "        raw_reg_embs=raw_reg_embs,\n",
    "        use_y_train_mean=use_y_train_mean,\n",
    "        use_y_mean=use_y_mean,\n",
    "        n_neighbors_weights_features=n_neighbors_weights_features,\n",
    "        n_weight_encodings=n_weight_encodings,\n",
    "        neighbor_weight_encoding=neighbor_weight_encoding,\n",
    "        append_neighbor_embs=append_neighbor_embs,\n",
    "        rff_sigma=rff_sigma,\n",
    "        use_batch_labels=use_batch_labels,\n",
    "        batch_labels=batch_labels,\n",
    "        normalize_inputs=normalize_inputs,\n",
    "        normalize_prediction=normalize_prediction,\n",
    "    )\n",
    "    knn_hits_results[\"model\"] = model_type\n",
    "    for k, v in model_params_dict.items():\n",
    "        knn_hits_results[k] = v\n",
    "    knn_hits_results[\"use_mean_train_reg_embs\"] = use_y_train_mean\n",
    "    knn_hits_results[\"use_mean_reg_embs\"] = use_y_mean\n",
    "    knn_hits_results[\"n_neighbors_pos_encodings\"] = n_neighbors_weights_features\n",
    "    knn_hits_results[\"n_pos_encodings\"] = n_weight_encodings\n",
    "    knn_hits_results[\"pos_encoding_type\"] = neighbor_weight_encoding\n",
    "    knn_hits_results[\"append_neighbor_embs\"] = append_neighbor_embs\n",
    "    knn_hits_results[\"rff_sigma\"] = rff_sigma\n",
    "    knn_hits_results[\"use_batch_labels\"] = use_batch_labels\n",
    "    knn_hits_results[\"normalize_inputs\"] = normalize_inputs\n",
    "    knn_hits_results[\"normalize_prediction\"] = normalize_prediction\n",
    "    knn_hits_results[\"config_id\"] = config_id\n",
    "\n",
    "    if b > 0:\n",
    "        perm_knn_hits_results = get_jump_perm_knn_hits_for_model(\n",
    "            pert_embs=pert_embs,\n",
    "            reg_embs=reg_embs,\n",
    "            train_targets=train_targets,\n",
    "            test_targets=test_targets,\n",
    "            model_type=model_type,\n",
    "            model_param_dict=model_param_dict,\n",
    "            model=model,\n",
    "            raw_reg_embs=raw_reg_embs,\n",
    "            use_y_train_mean=use_y_train_mean,\n",
    "            use_y_mean=use_y_mean,\n",
    "            n_neighbors_weights_features=n_neighbors_weights_features,\n",
    "            n_weight_encodings=n_weight_encodings,\n",
    "            neighbor_weight_encoding=neighbor_weight_encoding,\n",
    "            append_neighbor_embs=append_neighbor_embs,\n",
    "            use_batch_labels=use_batch_labels,\n",
    "            batch_labels=batch_labels,\n",
    "            normalize_prediction=normalize_prediction,\n",
    "            normalize_inputs=normalize_inputs,\n",
    "            b=b,\n",
    "        )\n",
    "        perm_knn_hits_results[\"model\"] = model_type\n",
    "        for k, v in model_params_dict.items():\n",
    "            perm_knn_hits_results[k] = v\n",
    "        perm_knn_hits_results[\"use_mean_train_reg_embs\"] = use_y_train_mean\n",
    "        perm_knn_hits_results[\"use_mean_reg_embs\"] = use_y_mean\n",
    "        perm_knn_hits_results[\n",
    "            \"n_neighbors_pos_encodings\"\n",
    "        ] = n_neighbors_weights_features\n",
    "        perm_knn_hits_results[\"n_pos_encodings\"] = n_weight_encodings\n",
    "        perm_knn_hits_results[\"pos_encoding_type\"] = neighbor_weight_encoding\n",
    "        perm_knn_hits_results[\"append_neighbor_embs\"] = append_neighbor_embs\n",
    "        perm_knn_hits_results[\"rff_sigma\"] = rff_sigma\n",
    "        perm_knn_hits_results[\"use_batch_labels\"] = use_batch_labels\n",
    "        perm_knn_hits_results[\"normalize_inputs\"] = normalize_inputs\n",
    "        perm_knn_hits_results[\"normalize_predictions\"] = normalize_predictions\n",
    "        perm_knn_hits_results[\"config_id\"] = config_id\n",
    "    else:\n",
    "        perm_knn_hits_results = None\n",
    "\n",
    "    return knn_hits_results, perm_knn_hits_results"
   ]
  },
  {
   "cell_type": "code",
   "execution_count": 17,
   "id": "f05582b2",
   "metadata": {},
   "outputs": [],
   "source": [
    "def get_all_gridsearch_configs(\n",
    "    model_params_dicts=[None],\n",
    "    use_y_train_mean_params=[False],\n",
    "    use_y_mean_params=[False],\n",
    "    n_neighbors_weights_features_params=[0],\n",
    "    n_weight_encodings_params=[0],\n",
    "    append_neighbor_embs_params=[False],\n",
    "    neighbor_weight_encoding_params=[None],\n",
    "    rff_sigma_params=[1],\n",
    "    use_batch_labels_params=[True],\n",
    "    normalize_prediction_params=[False],\n",
    "    normalize_inputs_params=[False],\n",
    "    batch_labels=None,\n",
    "    save_output_file=None,\n",
    "):\n",
    "    all_knn_hit_results = []\n",
    "    config_id = 0\n",
    "\n",
    "    model_params_df = pd.DataFrame(\n",
    "        np.array(model_params_dicts).astype(object), columns=[\"model_params_dict\"]\n",
    "    )\n",
    "    use_y_train_mean_df = pd.DataFrame(\n",
    "        use_y_train_mean_params, columns=[\"use_y_train_mean\"]\n",
    "    )\n",
    "    use_y_mean_df = pd.DataFrame(use_y_mean_params, columns=[\"use_y_mean\"])\n",
    "    n_neighbors_weights_features_params_df = pd.DataFrame(\n",
    "        n_neighbors_weights_features_params, columns=[\"n_neighbors_weights_features\"]\n",
    "    )\n",
    "    n_weight_encodings_params_df = pd.DataFrame(\n",
    "        n_weight_encodings_params, columns=[\"n_weight_encodings\"]\n",
    "    )\n",
    "    append_neighbor_embs_params_df = pd.DataFrame(\n",
    "        append_neighbor_embs_params, columns=[\"append_neighbor_embs\"]\n",
    "    )\n",
    "    neighbor_weight_encoding_params_df = pd.DataFrame(\n",
    "        neighbor_weight_encoding_params, columns=[\"neighbor_weight_encoding\"]\n",
    "    )\n",
    "    rff_sigma_params_df = pd.DataFrame(rff_sigma_params, columns=[\"rff_sigma\"])\n",
    "    use_batch_labels_params_df = pd.DataFrame(\n",
    "        use_batch_labels_params, columns=[\"use_batch_labels\"]\n",
    "    )\n",
    "    normalize_prediction_params_df = pd.DataFrame(\n",
    "        normalize_prediction_params, columns=[\"normalize_prediction\"]\n",
    "    )\n",
    "    normalize_inputs_params_df = pd.DataFrame(\n",
    "        normalize_inputs_params, columns=[\"normalize_inputs\"]\n",
    "    )\n",
    "\n",
    "    config_dfs = [\n",
    "        model_params_df,\n",
    "        use_y_train_mean_df,\n",
    "        use_y_mean_df,\n",
    "        n_neighbors_weights_features_params_df,\n",
    "        n_weight_encodings_params_df,\n",
    "        append_neighbor_embs_params_df,\n",
    "        neighbor_weight_encoding_params_df,\n",
    "        rff_sigma_params_df,\n",
    "        use_batch_labels_params_df,\n",
    "        normalize_prediction_params_df,\n",
    "        normalize_inputs_params_df,\n",
    "    ]\n",
    "\n",
    "    all_configs_df = None\n",
    "    for config_df in config_dfs:\n",
    "        if all_configs_df is None:\n",
    "            all_configs_df = config_df\n",
    "        else:\n",
    "            all_configs_df = all_configs_df.merge(config_df, how=\"cross\")\n",
    "\n",
    "    # Filter out artifact configurations\n",
    "    all_configs_df = all_configs_df.loc[\n",
    "        (all_configs_df.n_neighbors_weights_features == 0)\n",
    "        | (all_configs_df.n_neighbors_weights_features == 31)\n",
    "        | (all_configs_df.append_neighbor_embs.notnull())\n",
    "    ]\n",
    "    return all_configs_df"
   ]
  },
  {
   "cell_type": "code",
   "execution_count": 18,
   "id": "80ab922b",
   "metadata": {},
   "outputs": [],
   "source": [
    "def run_jump_gridsearch_knn_hits(\n",
    "    pert_embs,\n",
    "    reg_embs,\n",
    "    train_targets,\n",
    "    test_targets,\n",
    "    model_type,\n",
    "    model=None,\n",
    "    raw_reg_embs=None,\n",
    "    model_params_dicts=[None],\n",
    "    use_y_train_mean_params=[False],\n",
    "    use_y_mean_params=[False],\n",
    "    n_neighbors_weights_features_params=[0],\n",
    "    n_weight_encodings_params=[0],\n",
    "    append_neighbor_embs_params=[False],\n",
    "    neighbor_weight_encoding_params=[None],\n",
    "    rff_sigma_params=[1],\n",
    "    use_batch_labels_params=[True],\n",
    "    normalize_prediction_params=[False],\n",
    "    normalize_inputs_params=[False],\n",
    "    batch_labels=None,\n",
    "    save_output_file=None,\n",
    "):\n",
    "    all_knn_hit_results = []\n",
    "    config_id = 0\n",
    "\n",
    "    all_configs = get_all_gridsearch_configs(\n",
    "        model_params_dicts=model_params_dicts,\n",
    "        use_y_train_mean_params=use_y_train_mean_params,\n",
    "        use_y_mean_params=use_y_mean_params,\n",
    "        n_neighbors_weights_features_params=n_neighbors_weights_features_params,\n",
    "        n_weight_encodings_params=n_weight_encodings_params,\n",
    "        append_neighbor_embs_params=append_neighbor_embs_params,\n",
    "        neighbor_weight_encoding_params=neighbor_weight_encoding_params,\n",
    "        rff_sigma_params=rff_sigma_params,\n",
    "        use_batch_labels_params=use_batch_labels_params,\n",
    "        normalize_prediction_params=normalize_prediction_params,\n",
    "        normalize_inputs_params=normalize_inputs_params,\n",
    "    )\n",
    "\n",
    "    for _, row in tqdm(all_configs.iterrows(), total=all_configs.shape[0]):\n",
    "        try:\n",
    "            knn_hit_results, _, = get_all_jump_knn_hits_for_model(\n",
    "                pert_embs=pert_embs,\n",
    "                reg_embs=reg_embs,\n",
    "                train_targets=train_targets,\n",
    "                test_targets=test_targets,\n",
    "                config_id=config_id,\n",
    "                model_type=model_type,\n",
    "                raw_reg_embs=raw_reg_embs,\n",
    "                model_params_dict=row[\"model_params_dict\"],\n",
    "                model=model,\n",
    "                use_y_train_mean=row[\"use_y_train_mean\"],\n",
    "                use_y_mean=row[\"use_y_mean\"],\n",
    "                n_neighbors_weights_features=row[\"n_neighbors_weights_features\"],\n",
    "                n_weight_encodings=row[\"n_weight_encodings\"],\n",
    "                append_neighbor_embs=row[\"append_neighbor_embs\"],\n",
    "                neighbor_weight_encoding=row[\"neighbor_weight_encoding\"],\n",
    "                rff_sigma=row[\"rff_sigma\"],\n",
    "                use_batch_labels=row[\"use_batch_labels\"],\n",
    "                normalize_prediction=row[\"normalize_prediction\"],\n",
    "                normalize_inputs=row[\"normalize_inputs\"],\n",
    "                batch_labels=batch_labels,\n",
    "                b=0,\n",
    "                n_clusters=None,\n",
    "            )\n",
    "            all_knn_hit_results.append(knn_hit_results.copy())\n",
    "            config_id += 1\n",
    "        except IndexError:\n",
    "            traceback.print_exc()\n",
    "            continue\n",
    "\n",
    "    all_knn_hit_results = pd.concat(all_knn_hit_results)\n",
    "    if save_output_file is not None:\n",
    "        os.makedirs(os.path.split(save_output_file)[0], exist_ok=True)\n",
    "        all_knn_hit_results.to_hdf(save_output_file, key=\"data\", index=False)\n",
    "    return all_knn_hit_results"
   ]
  },
  {
   "cell_type": "code",
   "execution_count": 19,
   "id": "14bb210a",
   "metadata": {},
   "outputs": [],
   "source": [
    "def output_best_model_config_ids(\n",
    "    results, metric_cols, config_id_col=\"config_id\", n_config_ids=1\n",
    "):\n",
    "    opt_metrics_dict = {\"config_id\": [], \"metric\": [], \"value\": []}\n",
    "    grouped = results.groupby(config_id_col).mean(numeric_only=True)\n",
    "    for metric_col in metric_cols:\n",
    "        opt_results = grouped.sort_values(metric_col, ascending=False).iloc[\n",
    "            :n_config_ids\n",
    "        ]\n",
    "\n",
    "        opt_config_ids = list(opt_results.index)\n",
    "        opt_metrics = list(np.round(opt_results.loc[:, metric_col], 6))\n",
    "\n",
    "        opt_metrics_dict[\"config_id\"].extend(opt_config_ids)\n",
    "        opt_metrics_dict[\"value\"].extend(opt_metrics)\n",
    "        opt_metrics_dict[\"metric\"].extend([metric_col] * len(opt_config_ids))\n",
    "\n",
    "    opt_metrics_df = pd.DataFrame(opt_metrics_dict)\n",
    "    duplicate_config_ids = []\n",
    "    for k, v in Counter(opt_metrics_df.config_id).items():\n",
    "        if v >= 2:\n",
    "            duplicate_config_ids.append(k)\n",
    "    return opt_metrics_df.loc[opt_metrics_df.config_id.isin(duplicate_config_ids)]"
   ]
  },
  {
   "cell_type": "code",
   "execution_count": 20,
   "id": "486057ee",
   "metadata": {},
   "outputs": [],
   "source": [
    "def get_jump_random_nn_prediction_dict(\n",
    "    pert_embs, reg_embs, train_targets, test_targets, random_state=1234\n",
    "):\n",
    "    nn_pred_dict = []\n",
    "    # Estimate the NearestNeighbor graph of the regulatory gene embeddings using euclidean distances\n",
    "    reg_nn = NearestNeighbors(n_neighbors=len(reg_embs))\n",
    "    reg_samples = np.array(list(reg_embs.index))\n",
    "    reg_nn.fit(np.array(reg_embs))\n",
    "\n",
    "    for test_target in test_targets:\n",
    "        y_test_idc = np.random.choice(list(reg_embs.index))\n",
    "        y_test = np.array(reg_embs.loc[y_test_idc]).reshape(1, -1)\n",
    "        # Identify the sorted nearest neighbor list of the prediction among all regulatory gene embeddings\n",
    "        reg_nns = reg_samples[reg_nn.kneighbors(y_test, return_distance=False)][0]\n",
    "        nn_pred_dict.append((test_target, reg_nns))\n",
    "\n",
    "    # Return a dictionary with the key identifying the hold-out gene target and the corresponding value the\n",
    "    # names of the regulatory gene embeddings closest to the prediction in increasing euclidean distance\n",
    "    return nn_pred_dict"
   ]
  },
  {
   "cell_type": "code",
   "execution_count": 21,
   "id": "558f4305",
   "metadata": {},
   "outputs": [],
   "source": [
    "def get_knn_accs_for_config_ids(perf_data, cluster_data, train_targets, max_k=51):\n",
    "    covered_clusters = list(np.unique(cluster_data.loc[train_targets]))\n",
    "    perf_data[\"cluster\"] = np.array(cluster_data.loc[perf_data.index])\n",
    "    result = {\n",
    "        \"config_id\": [],\n",
    "        \"cluster\": [],\n",
    "        \"genes\": [],\n",
    "        \"knn_hits\": [],\n",
    "        \"k\": [],\n",
    "        \"knn_acc\": [],\n",
    "    }\n",
    "    for config_id in tqdm(set(perf_data.config_id)):\n",
    "        entry = perf_data.loc[perf_data.config_id == config_id]\n",
    "        for cluster in list(set(entry.cluster)) + [\"covered_clusters\", \"all\"]:\n",
    "            if cluster == \"covered_clusters\":\n",
    "                cluster_entry = entry.loc[entry.cluster.isin(covered_clusters)]\n",
    "            elif cluster == \"all\":\n",
    "                cluster_entry = entry.loc[entry.cluster.isin(list(set(entry.cluster)))]\n",
    "            else:\n",
    "                cluster_entry = entry.loc[entry.cluster == cluster]\n",
    "            for k in range(1, max_k):\n",
    "                result[\"config_id\"].append(config_id)\n",
    "                result[\"cluster\"].append(cluster)\n",
    "                result[\"k\"].append(k)\n",
    "                result[\"genes\"].append(list(cluster_entry.index))\n",
    "                result[\"knn_hits\"].append(list(cluster_entry.knn_hit))\n",
    "                result[\"knn_acc\"].append(np.mean(cluster_entry.knn_hit < k))\n",
    "    return pd.DataFrame(result)"
   ]
  },
  {
   "cell_type": "code",
   "execution_count": 22,
   "id": "cdd69d0e",
   "metadata": {},
   "outputs": [],
   "source": [
    "def get_cluster_knn_accs_for_config_ids(\n",
    "    perf_data, cluster_data, drop_clusters, max_k=51\n",
    "):\n",
    "    perf_data[\"cluster\"] = np.array(cluster_data.loc[perf_data.index])\n",
    "    result = {\n",
    "        \"config_id\": [],\n",
    "        \"cluster\": [],\n",
    "        \"genes\": [],\n",
    "        \"knn_hits\": [],\n",
    "        \"k\": [],\n",
    "        \"knn_acc\": [],\n",
    "    }\n",
    "    for config_id in tqdm(set(perf_data.config_id)):\n",
    "        entry = perf_data.loc[perf_data.config_id == config_id]\n",
    "        for drop_cluster in drop_clusters:\n",
    "            if len(drop_cluster) > 0:\n",
    "                dropped_clusters = \"_\".join(np.array(drop_cluster).astype(str))\n",
    "            else:\n",
    "                dropped_clusters = \"\"\n",
    "            cluster_entry = entry.loc[~entry.cluster.isin(drop_cluster)]\n",
    "            for k in range(1, max_k):\n",
    "                result[\"config_id\"].append(config_id)\n",
    "                result[\"cluster\"].append(dropped_clusters)\n",
    "                result[\"k\"].append(k)\n",
    "                result[\"genes\"].append(list(cluster_entry.index))\n",
    "                result[\"knn_hits\"].append(list(cluster_entry.knn_hit))\n",
    "                result[\"knn_acc\"].append(np.mean(cluster_entry.knn_hit < k))\n",
    "    return pd.DataFrame(result)"
   ]
  },
  {
   "cell_type": "code",
   "execution_count": 23,
   "id": "8dd1ad1d",
   "metadata": {},
   "outputs": [],
   "source": [
    "def add_cluster_aucs_for_knn_acc_results(knn_acc_results, auc_ks=[10, 20, 30, 40, 50]):\n",
    "    for auc_k in auc_ks:\n",
    "        knn_acc_results[\"{}nn_auc\".format(auc_k)] = np.nan\n",
    "    for config_id in tqdm(set(knn_acc_results.config_id)):\n",
    "        entry = knn_acc_results.loc[knn_acc_results.config_id == config_id]\n",
    "        for cluster in set(knn_acc_results.cluster):\n",
    "            cluster_entry = entry.loc[entry.cluster == cluster]\n",
    "            for auc_k in auc_ks:\n",
    "                knn_acc_results.loc[\n",
    "                    cluster_entry.index, \"{}nn_auc\".format(auc_k)\n",
    "                ] = compute_area_under_the_knn_curve(cluster_entry, max_k=auc_k)\n",
    "    return knn_acc_results"
   ]
  },
  {
   "cell_type": "code",
   "execution_count": 24,
   "id": "8cdf4c16",
   "metadata": {},
   "outputs": [],
   "source": [
    "def plot_sample_knn_acc_results(knn_acc_results, n_reg_embs=249):\n",
    "    for config_id in set(knn_acc_results.config_id):\n",
    "        fig, ax = plt.subplots(figsize=[10, 8])\n",
    "        ax.set_xlim(0, 51)\n",
    "        ax.set_ylim(0, 1.0)\n",
    "        ax = sns.lineplot(\n",
    "            data=knn_acc_results.loc[knn_acc_results.config_id == config_id],\n",
    "            x=\"k\",\n",
    "            y=\"knn_acc\",\n",
    "            hue=\"cluster\",\n",
    "            palette=\"tab10\",\n",
    "        )\n",
    "        ax.set_title(\"Config ID: {}\".format(config_id))\n",
    "        ax.plot(\n",
    "            list(range(1, 51)),\n",
    "            [k / n_reg_embs for k in range(1, 51)],\n",
    "            label=\"random\",\n",
    "            linestyle=\"--\",\n",
    "            c=\"k\",\n",
    "        )\n",
    "        plt.show()\n",
    "        plt.close()"
   ]
  },
  {
   "cell_type": "code",
   "execution_count": 25,
   "id": "9574e944",
   "metadata": {},
   "outputs": [],
   "source": [
    "def plot_mean_baseline(\n",
    "    pert_embs,\n",
    "    reg_embs,\n",
    "    train_targets,\n",
    "    test_targets,\n",
    "    reg_embs_clusters,\n",
    "    model_type=\"mean_all\",\n",
    "):\n",
    "    knn_hit_data = get_jump_knn_hit_data(\n",
    "        get_jump_nn_prediction_dict(\n",
    "            pert_embs,\n",
    "            regulatory_embs,\n",
    "            list(train_targets),\n",
    "            list(test_targets),\n",
    "            model_type=model_type,\n",
    "        )\n",
    "    )\n",
    "    knn_hit_data[\"config_id\"] = 0\n",
    "    knn_results = get_knn_accs_for_config_ids(knn_hit_data, reg_embs_clusters)\n",
    "    plot_sample_knn_acc_results(knn_results)"
   ]
  },
  {
   "cell_type": "code",
   "execution_count": 26,
   "id": "2136c465",
   "metadata": {},
   "outputs": [],
   "source": [
    "def get_tsne_translation_prediction(\n",
    "    pert_embs,\n",
    "    reg_embs,\n",
    "    target,\n",
    "    reg_pred,\n",
    "    perplexity=None,\n",
    "    random_state=1234,\n",
    "    init=\"random\",\n",
    "    metric=\"euclidean\",\n",
    "):\n",
    "\n",
    "    reg_embs_w_target = reg_embs.copy()\n",
    "    if len(reg_pred) == 1:\n",
    "        reg_embs_w_target.loc[\"PREDICTION\"] = reg_pred.reshape(-1)\n",
    "    else:\n",
    "        for i in range(len(reg_pred)):\n",
    "            reg_embs_w_target = pd.concat(\n",
    "                [\n",
    "                    reg_embs_w_target,\n",
    "                    pd.DataFrame(\n",
    "                        reg_pred[i].reshape(1, -1),\n",
    "                        columns=reg_embs_w_target.columns,\n",
    "                        index=[\"PREDICTION\"],\n",
    "                    ),\n",
    "                ]\n",
    "            )\n",
    "    #             reg_embs_w_target.loc[\"PREDICTION_{}\".format(i)] = reg_pred[i].reshape(-1)\n",
    "\n",
    "    if perplexity is None:\n",
    "        pert_perplexity = np.ceil(np.sqrt(len(pert_embs)))\n",
    "        reg_perplexity = np.ceil(np.sqrt(len(reg_embs_w_target)))\n",
    "    else:\n",
    "        pert_perplexity = reg_perplexity = perplexity\n",
    "\n",
    "    # Perturbation gene embedding tsne\n",
    "    tsne_pert = TSNE(\n",
    "        random_state=random_state,\n",
    "        n_components=2,\n",
    "        perplexity=pert_perplexity,\n",
    "        metric=metric,\n",
    "        init=init,\n",
    "    )\n",
    "    pert_tsne_embs = pd.DataFrame(\n",
    "        tsne_pert.fit_transform(pert_embs),\n",
    "        columns=[\"tsne1\", \"tsne2\"],\n",
    "        index=pert_embs.index,\n",
    "    )\n",
    "\n",
    "    # Regulatory gene embedding tsne\n",
    "    tsne_reg = TSNE(\n",
    "        random_state=random_state,\n",
    "        n_components=2,\n",
    "        perplexity=reg_perplexity,\n",
    "        metric=metric,\n",
    "        init=init,\n",
    "    )\n",
    "    reg_tsne_embs = pd.DataFrame(\n",
    "        tsne_reg.fit_transform(reg_embs_w_target),\n",
    "        columns=[\"tsne1\", \"tsne2\"],\n",
    "        index=reg_embs_w_target.index,\n",
    "    )\n",
    "    return pert_tsne_embs, reg_tsne_embs"
   ]
  },
  {
   "cell_type": "code",
   "execution_count": 27,
   "id": "b8271bfc",
   "metadata": {},
   "outputs": [],
   "source": [
    "def get_nearest_neighbors_for_target(\n",
    "    embs, target, prediction=None, selected_targets=None\n",
    "):\n",
    "    if prediction is not None:\n",
    "        tmp = embs.copy()\n",
    "        tmp.loc[\"PREDICTION\"] = np.array(prediction).reshape(-1)\n",
    "        target = \"PREDICTION\"\n",
    "    else:\n",
    "        tmp = embs.copy()\n",
    "\n",
    "    if selected_targets:\n",
    "        tmp = tmp.loc[selected_targets]\n",
    "    samples = np.array(tmp.index)\n",
    "    nn = NearestNeighbors(n_neighbors=len(tmp))\n",
    "    nn = nn.fit(tmp)\n",
    "    knns = nn.kneighbors(\n",
    "        np.array(tmp.loc[target]).reshape(1, -1), return_distance=False\n",
    "    )\n",
    "    return samples[knns]"
   ]
  },
  {
   "cell_type": "code",
   "execution_count": 28,
   "id": "10a8402f",
   "metadata": {},
   "outputs": [],
   "source": [
    "def plot_translation_tsne(\n",
    "    embs,\n",
    "    fig,\n",
    "    ax,\n",
    "    target=None,\n",
    "    prediction=None,\n",
    "    target_size=20,\n",
    "    size=15,\n",
    "    pred_size=20,\n",
    "    pred_color=\"r\",\n",
    "    target_color=\"green\",\n",
    "    color=\"b\",\n",
    "    lw=1,\n",
    "    alpha=1,\n",
    "    marker_lw=2,\n",
    "    p_alpha=0.7,\n",
    "    mark_neighbors=None,\n",
    "    neighbor_size=8,\n",
    "    label_points=None,\n",
    "    reg_label_size=12,\n",
    "):\n",
    "\n",
    "    exclude = []\n",
    "    if prediction is not None:\n",
    "        exclude.append(prediction)\n",
    "    if target is not None:\n",
    "        exclude.append(target)\n",
    "    exclude = list(np.array(exclude).reshape(-1))\n",
    "\n",
    "    ax.scatter(\n",
    "        np.array(embs.loc[~embs.index.isin(exclude), \"tsne1\"]),\n",
    "        np.array(embs.loc[~embs.index.isin(exclude), \"tsne2\"]),\n",
    "        c=color,\n",
    "        s=size,\n",
    "        zorder=1,\n",
    "        alpha=p_alpha,\n",
    "    )\n",
    "\n",
    "    if mark_neighbors is not None:\n",
    "        ax.scatter(\n",
    "            np.array(embs.loc[mark_neighbors, \"tsne1\"]),\n",
    "            np.array(embs.loc[mark_neighbors, \"tsne2\"]),\n",
    "            c=\"k\",\n",
    "            s=neighbor_size,\n",
    "            zorder=1,\n",
    "            alpha=1,\n",
    "            edgecolors=\"k\",\n",
    "        )\n",
    "\n",
    "    if target is not None:\n",
    "        ax.scatter(\n",
    "            np.array(embs.loc[target, \"tsne1\"]),\n",
    "            np.array(embs.loc[target, \"tsne2\"]),\n",
    "            c=target_color,\n",
    "            s=target_size,\n",
    "            zorder=1,\n",
    "            alpha=1,\n",
    "            facecolors=target_color,\n",
    "            edgecolors=target_color,\n",
    "        )\n",
    "    if prediction is not None:\n",
    "        ax.scatter(\n",
    "            np.array(embs.loc[prediction, \"tsne1\"]),\n",
    "            np.array(embs.loc[prediction, \"tsne2\"]),\n",
    "            # c=pred_color,\n",
    "            s=pred_size,\n",
    "            zorder=1,\n",
    "            facecolors=\"none\",\n",
    "            edgecolors=pred_color,\n",
    "            linewidth=marker_lw,\n",
    "            alpha=1,\n",
    "        )\n",
    "\n",
    "    if label_points is not None:\n",
    "        to_label_embs = embs.loc[embs.index.isin(label_points)]\n",
    "        label_point(\n",
    "            np.array(to_label_embs.loc[:, \"tsne1\"]),\n",
    "            np.array(to_label_embs.loc[:, \"tsne2\"]),\n",
    "            np.array(to_label_embs.index).astype(\"str\"),\n",
    "            ax=ax,\n",
    "            reg_size=reg_label_size,\n",
    "        )\n",
    "\n",
    "    return fig, ax"
   ]
  },
  {
   "cell_type": "code",
   "execution_count": 29,
   "id": "e9191a6e",
   "metadata": {},
   "outputs": [],
   "source": [
    "def get_mean_knn_hit_data(pred_nns, mean_id=\"MEAN\"):\n",
    "    result = {\"gene\": [], \"knn_hit\": []}\n",
    "    for gene, nns in pred_nns:\n",
    "        result[\"gene\"].append(gene)\n",
    "        result[\"knn_hit\"].append(np.where(nns == mean_id)[0])\n",
    "    return pd.DataFrame(result, index=result[\"gene\"])"
   ]
  },
  {
   "cell_type": "code",
   "execution_count": 30,
   "id": "987c7cac",
   "metadata": {},
   "outputs": [],
   "source": [
    "def get_mean_hit_fraction(\n",
    "    pred_nns, train_targets, test_targets, max_k=51, mean_id=\"MEAN\"\n",
    "):\n",
    "    mean_knn_hit_data = get_mean_knn_hit_data(pred_nns, mean_id=mean_id)\n",
    "    result = {\"k\": [], \"rel_knn_hit\": [], \"target_type\": []}\n",
    "    for k in range(1, max_k):\n",
    "        for target_type in [\"train\", \"test\"]:\n",
    "            result[\"k\"].append(k)\n",
    "            result[\"target_type\"].append(target_type)\n",
    "            if target_type == \"train\":\n",
    "                result[\"rel_knn_hit\"].append(\n",
    "                    np.mean(mean_knn_hit_data.loc[train_targets, \"knn_hit\"] < k)\n",
    "                )\n",
    "            else:\n",
    "                result[\"rel_knn_hit\"].append(\n",
    "                    np.mean(mean_knn_hit_data.loc[test_targets, \"knn_hit\"] < k)\n",
    "                )\n",
    "    result = pd.DataFrame(result)\n",
    "    result[\"ID\"] = mean_id\n",
    "    return result"
   ]
  },
  {
   "cell_type": "markdown",
   "id": "bff68f5c",
   "metadata": {},
   "source": [
    "---\n",
    "\n",
    "## Read in data"
   ]
  },
  {
   "cell_type": "markdown",
   "id": "b9bfc88b",
   "metadata": {},
   "source": [
    "After having prepared all the environment, we will now load in the required gene perturbation and the regulatory gene embeddings."
   ]
  },
  {
   "cell_type": "code",
   "execution_count": 32,
   "id": "10344efa",
   "metadata": {},
   "outputs": [],
   "source": [
    "input_dir = \"../../../data/experiments/jump/images/embedding/all_embeddings\"\n",
    "file_list = get_file_list(input_dir)\n",
    "embedding_dict = {}\n",
    "for file in file_list:\n",
    "    dat = pd.read_csv(file, index_col=0)\n",
    "    name = os.path.split(file)[1]\n",
    "    name = name[: name.index(\".\")]\n",
    "    embedding_dict[name] = dat.copy()"
   ]
  },
  {
   "cell_type": "code",
   "execution_count": 33,
   "id": "5198e360",
   "metadata": {},
   "outputs": [
    {
     "data": {
      "text/plain": [
       "dict_keys(['cmap_signatures', 'mean_batch_jump_img_embs', 'mean_batch_jump_img_embs_bc', 'mean_batch_jump_img_embs_insp', 'mean_batch_jump_morph_profiles', 'mean_batch_jump_morph_profiles_bc', 'mean_batch_jump_morph_profiles_insp', 'mean_jump_img_embs', 'mean_jump_img_embs_bc', 'mean_jump_img_embs_insp', 'mean_jump_morph_profiles', 'mean_jump_morph_profiles_bc', 'mean_jump_morph_profiles_insp', 'mean_rohban_img_embs', 'regulatory_gene_embeddings_using_cmap'])"
      ]
     },
     "execution_count": 33,
     "metadata": {},
     "output_type": "execute_result"
    }
   ],
   "source": [
    "embedding_dict.keys()"
   ]
  },
  {
   "cell_type": "markdown",
   "id": "12806f56",
   "metadata": {},
   "source": [
    "Having read in all embeddings, we quickly extract the cluster information from the regulatory embeddings and normalize the regulatory gene embeddings such that euclidean distances coincide with cosine distances."
   ]
  },
  {
   "cell_type": "code",
   "execution_count": 34,
   "id": "9edb8d1f",
   "metadata": {},
   "outputs": [],
   "source": [
    "regulatory_embs = embedding_dict[\"regulatory_gene_embeddings_using_cmap\"].copy()\n",
    "regulatory_emb_clusters = regulatory_embs.loc[:, \"cluster\"]\n",
    "if regulatory_emb_clusters.min() > 0:\n",
    "    regulatory_emb_clusters = regulatory_emb_clusters-1\n",
    "regulatory_embs = regulatory_embs.drop(columns=[\"cluster\"])\n",
    "\n",
    "raw_regulatory_embs = copy.deepcopy(regulatory_embs.copy())\n",
    "\n",
    "regulatory_embs = pd.DataFrame(\n",
    "    normalize(regulatory_embs),\n",
    "    index=regulatory_embs.index,\n",
    "    columns=regulatory_embs.columns,\n",
    ")"
   ]
  },
  {
   "cell_type": "markdown",
   "id": "1b4ea78f",
   "metadata": {},
   "source": [
    "The final step is to obtain the list of training and test targets. To this end, we use our previously identified impactful gene perturbation settings and subset it accordingly as described before."
   ]
  },
  {
   "cell_type": "code",
   "execution_count": 35,
   "id": "3ac0c0f5",
   "metadata": {},
   "outputs": [
    {
     "name": "stdout",
     "output_type": "stream",
     "text": [
      "Number of training conditions 31\n",
      "Number of test conditions 144\n"
     ]
    }
   ],
   "source": [
    "impactful_targets = list(\n",
    "    {\n",
    "        \"AKT1S1\": 0,\n",
    "        \"ATF4\": 1,\n",
    "        \"BAX\": 2,\n",
    "        \"BCL2L11\": 3,\n",
    "        \"BRAF\": 4,\n",
    "        \"CASP8\": 5,\n",
    "        \"CDC42\": 6,\n",
    "        \"CDKN1A\": 7,\n",
    "        \"CEBPA\": 8,\n",
    "        \"CREB1\": 9,\n",
    "        \"CXXC4\": 10,\n",
    "        \"DIABLO\": 11,\n",
    "        \"E2F1\": 12,\n",
    "        \"ELK1\": 13,\n",
    "        \"EMPTY\": 14,\n",
    "        \"ERG\": 15,\n",
    "        \"FGFR3\": 16,\n",
    "        \"FOXO1\": 17,\n",
    "        \"GLI1\": 18,\n",
    "        \"HRAS\": 19,\n",
    "        \"IRAK4\": 20,\n",
    "        \"JUN\": 21,\n",
    "        \"MAP2K3\": 22,\n",
    "        \"MAP3K2\": 23,\n",
    "        \"MAP3K5\": 24,\n",
    "        \"MAP3K9\": 25,\n",
    "        \"MAPK7\": 26,\n",
    "        \"MOS\": 27,\n",
    "        \"MYD88\": 28,\n",
    "        \"PIK3R2\": 29,\n",
    "        \"PRKACA\": 30,\n",
    "        \"PRKCE\": 31,\n",
    "        \"RAF1\": 32,\n",
    "        \"RELB\": 33,\n",
    "        \"RHOA\": 34,\n",
    "        \"SMAD4\": 35,\n",
    "        \"SMO\": 36,\n",
    "        \"SRC\": 37,\n",
    "        \"SREBF1\": 38,\n",
    "        \"TRAF2\": 39,\n",
    "        \"TSC2\": 40,\n",
    "        \"WWTR1\": 41,\n",
    "    }.keys()\n",
    ")\n",
    "covered_targets = set(embedding_dict[\"mean_jump_morph_profiles\"].index).intersection(\n",
    "    regulatory_embs.index\n",
    ")\n",
    "train_targets = covered_targets.intersection(impactful_targets)\n",
    "test_targets = covered_targets - train_targets\n",
    "\n",
    "print(\"Number of training conditions\", len(train_targets))\n",
    "print(\"Number of test conditions\", len(test_targets))"
   ]
  },
  {
   "cell_type": "markdown",
   "id": "6921cee2",
   "metadata": {},
   "source": [
    "As described before there are 31 training and 144 test conditions. We briefly recap there distribution across the clusters identified for the regulatory gene embeddings."
   ]
  },
  {
   "cell_type": "code",
   "execution_count": 36,
   "id": "eeba93a3",
   "metadata": {},
   "outputs": [
    {
     "data": {
      "text/plain": [
       "(0.0, 35.0)"
      ]
     },
     "execution_count": 36,
     "metadata": {},
     "output_type": "execute_result"
    },
    {
     "data": {
      "image/png": "[encoded data removed]",
      "text/plain": [
       "<Figure size 1800x1200 with 1 Axes>"
      ]
     },
     "metadata": {
      "needs_background": "light"
     },
     "output_type": "display_data"
    }
   ],
   "source": [
    "cluster_occ = {\"cluster\": [], \"geneset\": [], \"n_gs_genes\": [], \"n_genes\": []}\n",
    "for cluster in np.unique(regulatory_emb_clusters):\n",
    "    cluster_genes = set(\n",
    "        regulatory_emb_clusters.loc[regulatory_emb_clusters == cluster].index\n",
    "    )\n",
    "    for geneset in [\"Training conditions\", \"Possible test conditions\"]:\n",
    "        if geneset == \"Training conditions\":\n",
    "            gs_genes = set(train_targets)\n",
    "        elif geneset == \"Possible test conditions\":\n",
    "            gs_genes = set(test_targets)\n",
    "        cluster_occ[\"cluster\"].append(cluster)\n",
    "        cluster_occ[\"n_gs_genes\"].append(len(gs_genes.intersection(cluster_genes)))\n",
    "        cluster_occ[\"n_genes\"].append(len(cluster_genes))\n",
    "        cluster_occ[\"geneset\"].append(geneset)\n",
    "\n",
    "cluster_occ = pd.DataFrame(cluster_occ)\n",
    "fig, ax = plt.subplots(figsize=[6, 4])\n",
    "ax = sns.barplot(\n",
    "    data=cluster_occ, x=\"cluster\", y=\"n_gs_genes\", hue=\"geneset\", palette=[\"b\", \"r\"]\n",
    ")\n",
    "# ax.set_xlabel(\"Regulatory gene embedding cluster\")\n",
    "# ax.set_ylabel(\"Number of genes\")\n",
    "# ax.set_title(\n",
    "#     \"Number of genes in the training/test set contained \\nin the different regulatory gene clusters\"\n",
    "# )\n",
    "ax.set_xlabel(\"\")\n",
    "ax.set_ylabel(\"\")\n",
    "ax.legend(title=\"Gene set\")\n",
    "for i in ax.containers:\n",
    "    ax.bar_label(\n",
    "        i,\n",
    "    )\n",
    "ax.set_ylim([0, 35])"
   ]
  },
  {
   "cell_type": "code",
   "execution_count": 37,
   "id": "d79ce8d7",
   "metadata": {},
   "outputs": [
    {
     "data": {
      "text/html": [
       "<div>\n",
       "<style scoped>\n",
       "    .dataframe tbody tr th:only-of-type {\n",
       "        vertical-align: middle;\n",
       "    }\n",
       "\n",
       "    .dataframe tbody tr th {\n",
       "        vertical-align: top;\n",
       "    }\n",
       "\n",
       "    .dataframe thead th {\n",
       "        text-align: right;\n",
       "    }\n",
       "</style>\n",
       "<table border=\"1\" class=\"dataframe\">\n",
       "  <thead>\n",
       "    <tr style=\"text-align: right;\">\n",
       "      <th></th>\n",
       "      <th>cluster</th>\n",
       "      <th>geneset</th>\n",
       "      <th>n_gs_genes</th>\n",
       "      <th>n_genes</th>\n",
       "    </tr>\n",
       "  </thead>\n",
       "  <tbody>\n",
       "    <tr>\n",
       "      <th>0</th>\n",
       "      <td>0</td>\n",
       "      <td>Training conditions</td>\n",
       "      <td>0</td>\n",
       "      <td>46</td>\n",
       "    </tr>\n",
       "    <tr>\n",
       "      <th>1</th>\n",
       "      <td>0</td>\n",
       "      <td>Possible test conditions</td>\n",
       "      <td>32</td>\n",
       "      <td>46</td>\n",
       "    </tr>\n",
       "    <tr>\n",
       "      <th>2</th>\n",
       "      <td>1</td>\n",
       "      <td>Training conditions</td>\n",
       "      <td>2</td>\n",
       "      <td>44</td>\n",
       "    </tr>\n",
       "    <tr>\n",
       "      <th>3</th>\n",
       "      <td>1</td>\n",
       "      <td>Possible test conditions</td>\n",
       "      <td>21</td>\n",
       "      <td>44</td>\n",
       "    </tr>\n",
       "    <tr>\n",
       "      <th>4</th>\n",
       "      <td>2</td>\n",
       "      <td>Training conditions</td>\n",
       "      <td>6</td>\n",
       "      <td>32</td>\n",
       "    </tr>\n",
       "    <tr>\n",
       "      <th>5</th>\n",
       "      <td>2</td>\n",
       "      <td>Possible test conditions</td>\n",
       "      <td>20</td>\n",
       "      <td>32</td>\n",
       "    </tr>\n",
       "    <tr>\n",
       "      <th>6</th>\n",
       "      <td>3</td>\n",
       "      <td>Training conditions</td>\n",
       "      <td>0</td>\n",
       "      <td>19</td>\n",
       "    </tr>\n",
       "    <tr>\n",
       "      <th>7</th>\n",
       "      <td>3</td>\n",
       "      <td>Possible test conditions</td>\n",
       "      <td>16</td>\n",
       "      <td>19</td>\n",
       "    </tr>\n",
       "    <tr>\n",
       "      <th>8</th>\n",
       "      <td>4</td>\n",
       "      <td>Training conditions</td>\n",
       "      <td>8</td>\n",
       "      <td>29</td>\n",
       "    </tr>\n",
       "    <tr>\n",
       "      <th>9</th>\n",
       "      <td>4</td>\n",
       "      <td>Possible test conditions</td>\n",
       "      <td>12</td>\n",
       "      <td>29</td>\n",
       "    </tr>\n",
       "    <tr>\n",
       "      <th>10</th>\n",
       "      <td>5</td>\n",
       "      <td>Training conditions</td>\n",
       "      <td>2</td>\n",
       "      <td>14</td>\n",
       "    </tr>\n",
       "    <tr>\n",
       "      <th>11</th>\n",
       "      <td>5</td>\n",
       "      <td>Possible test conditions</td>\n",
       "      <td>8</td>\n",
       "      <td>14</td>\n",
       "    </tr>\n",
       "    <tr>\n",
       "      <th>12</th>\n",
       "      <td>6</td>\n",
       "      <td>Training conditions</td>\n",
       "      <td>6</td>\n",
       "      <td>19</td>\n",
       "    </tr>\n",
       "    <tr>\n",
       "      <th>13</th>\n",
       "      <td>6</td>\n",
       "      <td>Possible test conditions</td>\n",
       "      <td>6</td>\n",
       "      <td>19</td>\n",
       "    </tr>\n",
       "    <tr>\n",
       "      <th>14</th>\n",
       "      <td>7</td>\n",
       "      <td>Training conditions</td>\n",
       "      <td>1</td>\n",
       "      <td>29</td>\n",
       "    </tr>\n",
       "    <tr>\n",
       "      <th>15</th>\n",
       "      <td>7</td>\n",
       "      <td>Possible test conditions</td>\n",
       "      <td>20</td>\n",
       "      <td>29</td>\n",
       "    </tr>\n",
       "    <tr>\n",
       "      <th>16</th>\n",
       "      <td>8</td>\n",
       "      <td>Training conditions</td>\n",
       "      <td>6</td>\n",
       "      <td>17</td>\n",
       "    </tr>\n",
       "    <tr>\n",
       "      <th>17</th>\n",
       "      <td>8</td>\n",
       "      <td>Possible test conditions</td>\n",
       "      <td>9</td>\n",
       "      <td>17</td>\n",
       "    </tr>\n",
       "  </tbody>\n",
       "</table>\n",
       "</div>"
      ],
      "text/plain": [
       "    cluster                   geneset  n_gs_genes  n_genes\n",
       "0         0       Training conditions           0       46\n",
       "1         0  Possible test conditions          32       46\n",
       "2         1       Training conditions           2       44\n",
       "3         1  Possible test conditions          21       44\n",
       "4         2       Training conditions           6       32\n",
       "5         2  Possible test conditions          20       32\n",
       "6         3       Training conditions           0       19\n",
       "7         3  Possible test conditions          16       19\n",
       "8         4       Training conditions           8       29\n",
       "9         4  Possible test conditions          12       29\n",
       "10        5       Training conditions           2       14\n",
       "11        5  Possible test conditions           8       14\n",
       "12        6       Training conditions           6       19\n",
       "13        6  Possible test conditions           6       19\n",
       "14        7       Training conditions           1       29\n",
       "15        7  Possible test conditions          20       29\n",
       "16        8       Training conditions           6       17\n",
       "17        8  Possible test conditions           9       17"
      ]
     },
     "execution_count": 37,
     "metadata": {},
     "output_type": "execute_result"
    }
   ],
   "source": [
    "cluster_occ"
   ]
  },
  {
   "cell_type": "code",
   "execution_count": 38,
   "id": "eb652d90",
   "metadata": {},
   "outputs": [],
   "source": [
    "train_test_ratios = []\n",
    "for cluster in np.unique(cluster_occ.cluster):\n",
    "    entry = cluster_occ.loc[cluster_occ.cluster == cluster]\n",
    "    n_train_samples = entry.loc[entry.geneset == \"Training conditions\", \"n_gs_genes\"]\n",
    "    n_test_samples = entry.loc[\n",
    "        entry.geneset == \"Possible test conditions\", \"n_gs_genes\"\n",
    "    ]\n",
    "    cluster_occ.loc[entry.index, \"train_test_ratio\"] = int(n_train_samples) / int(\n",
    "        n_test_samples\n",
    "    )"
   ]
  },
  {
   "cell_type": "code",
   "execution_count": 39,
   "id": "e8f9e03f",
   "metadata": {},
   "outputs": [
    {
     "data": {
      "text/html": [
       "<div>\n",
       "<style scoped>\n",
       "    .dataframe tbody tr th:only-of-type {\n",
       "        vertical-align: middle;\n",
       "    }\n",
       "\n",
       "    .dataframe tbody tr th {\n",
       "        vertical-align: top;\n",
       "    }\n",
       "\n",
       "    .dataframe thead th {\n",
       "        text-align: right;\n",
       "    }\n",
       "</style>\n",
       "<table border=\"1\" class=\"dataframe\">\n",
       "  <thead>\n",
       "    <tr style=\"text-align: right;\">\n",
       "      <th></th>\n",
       "      <th>cluster</th>\n",
       "      <th>geneset</th>\n",
       "      <th>n_gs_genes</th>\n",
       "      <th>n_genes</th>\n",
       "      <th>train_test_ratio</th>\n",
       "    </tr>\n",
       "  </thead>\n",
       "  <tbody>\n",
       "    <tr>\n",
       "      <th>1</th>\n",
       "      <td>0</td>\n",
       "      <td>Possible test conditions</td>\n",
       "      <td>32</td>\n",
       "      <td>46</td>\n",
       "      <td>0.000000</td>\n",
       "    </tr>\n",
       "    <tr>\n",
       "      <th>7</th>\n",
       "      <td>3</td>\n",
       "      <td>Possible test conditions</td>\n",
       "      <td>16</td>\n",
       "      <td>19</td>\n",
       "      <td>0.000000</td>\n",
       "    </tr>\n",
       "    <tr>\n",
       "      <th>15</th>\n",
       "      <td>7</td>\n",
       "      <td>Possible test conditions</td>\n",
       "      <td>20</td>\n",
       "      <td>29</td>\n",
       "      <td>0.050000</td>\n",
       "    </tr>\n",
       "    <tr>\n",
       "      <th>3</th>\n",
       "      <td>1</td>\n",
       "      <td>Possible test conditions</td>\n",
       "      <td>21</td>\n",
       "      <td>44</td>\n",
       "      <td>0.095238</td>\n",
       "    </tr>\n",
       "    <tr>\n",
       "      <th>11</th>\n",
       "      <td>5</td>\n",
       "      <td>Possible test conditions</td>\n",
       "      <td>8</td>\n",
       "      <td>14</td>\n",
       "      <td>0.250000</td>\n",
       "    </tr>\n",
       "    <tr>\n",
       "      <th>5</th>\n",
       "      <td>2</td>\n",
       "      <td>Possible test conditions</td>\n",
       "      <td>20</td>\n",
       "      <td>32</td>\n",
       "      <td>0.300000</td>\n",
       "    </tr>\n",
       "    <tr>\n",
       "      <th>9</th>\n",
       "      <td>4</td>\n",
       "      <td>Possible test conditions</td>\n",
       "      <td>12</td>\n",
       "      <td>29</td>\n",
       "      <td>0.666667</td>\n",
       "    </tr>\n",
       "    <tr>\n",
       "      <th>17</th>\n",
       "      <td>8</td>\n",
       "      <td>Possible test conditions</td>\n",
       "      <td>9</td>\n",
       "      <td>17</td>\n",
       "      <td>0.666667</td>\n",
       "    </tr>\n",
       "    <tr>\n",
       "      <th>13</th>\n",
       "      <td>6</td>\n",
       "      <td>Possible test conditions</td>\n",
       "      <td>6</td>\n",
       "      <td>19</td>\n",
       "      <td>1.000000</td>\n",
       "    </tr>\n",
       "  </tbody>\n",
       "</table>\n",
       "</div>"
      ],
      "text/plain": [
       "    cluster                   geneset  n_gs_genes  n_genes  train_test_ratio\n",
       "1         0  Possible test conditions          32       46          0.000000\n",
       "7         3  Possible test conditions          16       19          0.000000\n",
       "15        7  Possible test conditions          20       29          0.050000\n",
       "3         1  Possible test conditions          21       44          0.095238\n",
       "11        5  Possible test conditions           8       14          0.250000\n",
       "5         2  Possible test conditions          20       32          0.300000\n",
       "9         4  Possible test conditions          12       29          0.666667\n",
       "17        8  Possible test conditions           9       17          0.666667\n",
       "13        6  Possible test conditions           6       19          1.000000"
      ]
     },
     "execution_count": 39,
     "metadata": {},
     "output_type": "execute_result"
    }
   ],
   "source": [
    "cluster_ratios = cluster_occ.loc[\n",
    "    cluster_occ.geneset == \"Possible test conditions\"\n",
    "].sort_values(\"train_test_ratio\")\n",
    "cluster_ratios"
   ]
  },
  {
   "cell_type": "code",
   "execution_count": 40,
   "id": "5918872f",
   "metadata": {},
   "outputs": [],
   "source": [
    "drop_clusters = [\n",
    "    [],\n",
    "    list(cluster_ratios.loc[cluster_ratios.train_test_ratio == 0, \"cluster\"]),\n",
    "]\n",
    "for _, row in cluster_ratios.loc[cluster_ratios.train_test_ratio != 0].iterrows():\n",
    "    drop_clusters.append(drop_clusters[-1] + [int(row[\"cluster\"])])"
   ]
  },
  {
   "cell_type": "code",
   "execution_count": 41,
   "id": "f2a7b17b",
   "metadata": {},
   "outputs": [
    {
     "data": {
      "text/plain": [
       "[[], [0, 3], [0, 3, 7], [0, 3, 7, 1]]"
      ]
     },
     "execution_count": 41,
     "metadata": {},
     "output_type": "execute_result"
    }
   ],
   "source": [
    "drop_clusters = drop_clusters[:4]\n",
    "drop_clusters"
   ]
  },
  {
   "cell_type": "markdown",
   "id": "679fe80b",
   "metadata": {},
   "source": [
    "The above plot shows that we have no training samples among the genes in cluster 1 and cluster 4. Additionally, we have only one training sample falling into cluster 8. As a consequence our learned map will likely never predict any gene embedding that is similar to the genes in these clusters. As a consequence we expect our map to not perform well in fact likely worse than expected by random chance on the task of predicting the OE conditions corresponding to gene targets falling into these clusters."
   ]
  },
  {
   "cell_type": "markdown",
   "id": "ac88e2e4",
   "metadata": {},
   "source": [
    "---\n",
    "\n",
    "## Performance evaluation\n",
    "\n",
    "Having read in the different candidates for the image-based gene perturbation embedding and the regulatory gene embeddings, we will now assess the translation performance."
   ]
  },
  {
   "cell_type": "markdown",
   "id": "afc36773",
   "metadata": {},
   "source": [
    "To this end, we will run an extensive parameter gridsearch to identify for each candiate of gene perturbation embedding the optimal parameters and input freatures for the NTK map. The parameters over which we gridsearch are given below."
   ]
  },
  {
   "cell_type": "code",
   "execution_count": 42,
   "id": "fc071f64",
   "metadata": {},
   "outputs": [],
   "source": [
    "model_type = \"ntk\"\n",
    "model_params_dicts = [\n",
    "    {\"reg\": 0},\n",
    "    {\"reg\": 1},\n",
    "    {\"reg\": 5},\n",
    "    {\"reg\": 10},\n",
    "    {\"reg\": 50},\n",
    "]\n",
    "\n",
    "\n",
    "use_y_train_mean_params = [True, False]\n",
    "use_y_mean_params = [False]\n",
    "n_neighbors_weights_features_params = [0, 10, 31]\n",
    "n_weight_encodings_params = [2, 5, 10, 20]\n",
    "append_neighbor_embs_params = [None, \"images\", \"genes\"]\n",
    "neighbor_weight_encoding_params = [\"positional\", \"gauss\"]\n",
    "rff_sigma_params = [1, 5, 10]\n",
    "normalize_prediction_params = [True, False]\n",
    "normalize_inputs_params = [True, False]"
   ]
  },
  {
   "cell_type": "markdown",
   "id": "3c80ec36",
   "metadata": {},
   "source": [
    "---\n",
    "\n",
    "### Mean embeddings and profiles"
   ]
  },
  {
   "cell_type": "markdown",
   "id": "4a99acb6",
   "metadata": {},
   "source": [
    "We start off with using the morphological profiles respectively the image embeddings obtained by averaging all samples from a given overexpression condition, i.e. across nuclei, images and batches. As a consequence we obtain one gene perturbation embedding per OE condition."
   ]
  },
  {
   "cell_type": "code",
   "execution_count": 43,
   "id": "91c0aae0",
   "metadata": {},
   "outputs": [],
   "source": [
    "use_batch_labels_params = [False]"
   ]
  },
  {
   "cell_type": "markdown",
   "id": "cb13a756",
   "metadata": {},
   "source": [
    "---\n",
    "\n",
    "#### Morphological profiles"
   ]
  },
  {
   "cell_type": "markdown",
   "id": "0d0bfe38",
   "metadata": {},
   "source": [
    "First, we will assess the performance of the matching using the morphological profiles."
   ]
  },
  {
   "cell_type": "code",
   "execution_count": 44,
   "id": "3b13d711",
   "metadata": {},
   "outputs": [],
   "source": [
    "pert_embs = embedding_dict[\"mean_jump_morph_profiles\"]"
   ]
  },
  {
   "cell_type": "code",
   "execution_count": 45,
   "id": "ce3d92fc",
   "metadata": {},
   "outputs": [],
   "source": [
    "m_morph_gs_save_file = \"../../../data/experiments/jump/translation/gridsearch/ntk_gs_final_eucl_mean/mean_morph.h5\""
   ]
  },
  {
   "cell_type": "code",
   "execution_count": 45,
   "id": "f3559410",
   "metadata": {},
   "outputs": [
    {
     "data": {
      "application/vnd.jupyter.widget-view+json": {
       "model_id": "914e434df3c5497fae46521a612c7c02",
       "version_major": 2,
       "version_minor": 0
      },
      "text/plain": [
       "  0%|          | 0/7680 [00:00<?, ?it/s]"
      ]
     },
     "metadata": {},
     "output_type": "display_data"
    },
    {
     "name": "stderr",
     "output_type": "stream",
     "text": [
      "<ipython-input-18-3a3273de9804>:75: PerformanceWarning: \n",
      "your performance may suffer as PyTables will pickle object types that it cannot\n",
      "map directly to c-types [inferred_type->mixed,key->block2_values] [items->Index(['model', 'pos_encoding_type', 'append_neighbor_embs'], dtype='object')]\n",
      "\n",
      "  all_knn_hit_results.to_hdf(save_output_file, key=\"data\", index=False)\n"
     ]
    }
   ],
   "source": [
    "m_morph_gs_data = run_jump_gridsearch_knn_hits(\n",
    "    pert_embs=pert_embs._get_numeric_data(),\n",
    "    reg_embs=regulatory_embs,\n",
    "    train_targets=list(train_targets),\n",
    "    test_targets=list(test_targets),\n",
    "    model_type=model_type,\n",
    "    model_params_dicts=model_params_dicts,\n",
    "    use_y_train_mean_params=use_y_train_mean_params,\n",
    "    use_y_mean_params=use_y_mean_params,\n",
    "    n_neighbors_weights_features_params=n_neighbors_weights_features_params,\n",
    "    n_weight_encodings_params=n_weight_encodings_params,\n",
    "    append_neighbor_embs_params=append_neighbor_embs_params,\n",
    "    neighbor_weight_encoding_params=neighbor_weight_encoding_params,\n",
    "    rff_sigma_params=rff_sigma_params,\n",
    "    normalize_prediction_params=normalize_prediction_params,\n",
    "    normalize_inputs_params=normalize_inputs_params,\n",
    "    use_batch_labels_params=use_batch_labels_params,\n",
    "    batch_labels=None,\n",
    "    save_output_file=m_morph_gs_save_file,\n",
    ")"
   ]
  },
  {
   "cell_type": "code",
   "execution_count": 46,
   "id": "ea1103f7",
   "metadata": {},
   "outputs": [],
   "source": [
    "m_morph_gs_data = pd.read_hdf(m_morph_gs_save_file)"
   ]
  },
  {
   "cell_type": "markdown",
   "id": "03b2ea21",
   "metadata": {},
   "source": [
    "The output contains for each parameter configuration for each OE condition in the test set how far in terms of kNN distance the prediction is from the true regulatory embedding. Using these information, we will compute the kNN accuracy of the for each configuration."
   ]
  },
  {
   "cell_type": "code",
   "execution_count": 47,
   "id": "ad3a99b6",
   "metadata": {},
   "outputs": [
    {
     "data": {
      "application/vnd.jupyter.widget-view+json": {
       "model_id": "3572546f8c2d4a45a6c30e208b3771a5",
       "version_major": 2,
       "version_minor": 0
      },
      "text/plain": [
       "  0%|          | 0/7680 [00:00<?, ?it/s]"
      ]
     },
     "metadata": {},
     "output_type": "display_data"
    },
    {
     "data": {
      "application/vnd.jupyter.widget-view+json": {
       "model_id": "8c01b59830a84dbeaa8c251facba28a3",
       "version_major": 2,
       "version_minor": 0
      },
      "text/plain": [
       "  0%|          | 0/7680 [00:00<?, ?it/s]"
      ]
     },
     "metadata": {},
     "output_type": "display_data"
    }
   ],
   "source": [
    "m_morph_gs_knn_accs = get_cluster_knn_accs_for_config_ids(\n",
    "    m_morph_gs_data,\n",
    "    regulatory_emb_clusters,\n",
    "    drop_clusters=drop_clusters,\n",
    ")\n",
    "m_morph_gs_knn_accs = add_cluster_aucs_for_knn_acc_results(m_morph_gs_knn_accs)"
   ]
  },
  {
   "cell_type": "code",
   "execution_count": 47,
   "id": "ba216c2c",
   "metadata": {},
   "outputs": [],
   "source": [
    "m_morph_knn_file = os.path.join(\n",
    "    os.path.split(m_morph_gs_save_file)[0], \"mean_morph_knn_accs.h5\"\n",
    ")"
   ]
  },
  {
   "cell_type": "code",
   "execution_count": 49,
   "id": "299628ee",
   "metadata": {},
   "outputs": [
    {
     "name": "stderr",
     "output_type": "stream",
     "text": [
      "<ipython-input-49-c7814e633f1c>:1: PerformanceWarning: \n",
      "your performance may suffer as PyTables will pickle object types that it cannot\n",
      "map directly to c-types [inferred_type->mixed,key->block2_values] [items->Index(['cluster', 'genes', 'knn_hits'], dtype='object')]\n",
      "\n",
      "  m_morph_gs_knn_accs.to_hdf(\n"
     ]
    }
   ],
   "source": [
    "m_morph_gs_knn_accs.to_hdf(\n",
    "    m_morph_knn_file,\n",
    "    key=\"data\",\n",
    "    index=False,\n",
    ")"
   ]
  },
  {
   "cell_type": "code",
   "execution_count": 48,
   "id": "efd380c4",
   "metadata": {},
   "outputs": [],
   "source": [
    "m_morph_gs_knn_accs = pd.read_hdf(m_morph_knn_file)"
   ]
  },
  {
   "cell_type": "markdown",
   "id": "364864a1",
   "metadata": {},
   "source": [
    "The kNN accuracy was computed for each gene cluster that we had previously identified using the regulatory gene embeddings individually as well as jointly. As seen above there are two clusters that do not contain any genes targeted in the training conditions. Here, we assess the performances only on the genes that fall into any cluster that contains at least one gene targeted in the training condition. This is because the NTK has no chance to generalize well to these conditions as their targets are outside the span of the training samples."
   ]
  },
  {
   "cell_type": "code",
   "execution_count": 49,
   "id": "844bc517",
   "metadata": {},
   "outputs": [],
   "source": [
    "cc_m_morph_gs_knn_accs = m_morph_gs_knn_accs.loc[\n",
    "    m_morph_gs_knn_accs.cluster == \"0_3_7\"\n",
    "].copy()"
   ]
  },
  {
   "cell_type": "markdown",
   "id": "30f989eb",
   "metadata": {},
   "source": [
    "To identify the optimal configuration, we look at the sum of the area under the kNN accuracy curve for k in [10,20,30,40,50] and select the configuration that maximizes that score."
   ]
  },
  {
   "cell_type": "code",
   "execution_count": 50,
   "id": "ea0d19f4",
   "metadata": {},
   "outputs": [
    {
     "data": {
      "text/plain": [
       "config_id\n",
       "638    0.488531\n",
       "dtype: float64"
      ]
     },
     "execution_count": 50,
     "metadata": {},
     "output_type": "execute_result"
    }
   ],
   "source": [
    "cc_m_morph_gs_knn_accs.groupby(\"config_id\").mean(numeric_only=True).loc[\n",
    "    :, [\"10nn_auc\", \"20nn_auc\", \"30nn_auc\", \"40nn_auc\", \"50nn_auc\"]\n",
    "].sum(axis=1).sort_values(ascending=False).head(1)"
   ]
  },
  {
   "cell_type": "markdown",
   "id": "39724260",
   "metadata": {},
   "source": [
    "We find that the model with the configuration 638 achieves the maximum of this score and thus we select it at as the final solution of our NTK map predicting unseen gene perturbations using the morphological profiles as input information."
   ]
  },
  {
   "cell_type": "code",
   "execution_count": 51,
   "id": "6ae4152e",
   "metadata": {},
   "outputs": [],
   "source": [
    "m_morph_best_knn_acc_results = cc_m_morph_gs_knn_accs.loc[\n",
    "    cc_m_morph_gs_knn_accs.config_id == 638\n",
    "]"
   ]
  },
  {
   "cell_type": "markdown",
   "id": "f2cfe678",
   "metadata": {},
   "source": [
    "The output below characterizes the optimal model configuration."
   ]
  },
  {
   "cell_type": "code",
   "execution_count": 52,
   "id": "c341a75e",
   "metadata": {},
   "outputs": [
    {
     "data": {
      "text/html": [
       "<div>\n",
       "<style scoped>\n",
       "    .dataframe tbody tr th:only-of-type {\n",
       "        vertical-align: middle;\n",
       "    }\n",
       "\n",
       "    .dataframe tbody tr th {\n",
       "        vertical-align: top;\n",
       "    }\n",
       "\n",
       "    .dataframe thead th {\n",
       "        text-align: right;\n",
       "    }\n",
       "</style>\n",
       "<table border=\"1\" class=\"dataframe\">\n",
       "  <thead>\n",
       "    <tr style=\"text-align: right;\">\n",
       "      <th></th>\n",
       "      <th>reg</th>\n",
       "      <th>use_mean_train_reg_embs</th>\n",
       "      <th>use_mean_reg_embs</th>\n",
       "      <th>n_neighbors_pos_encodings</th>\n",
       "      <th>n_pos_encodings</th>\n",
       "      <th>pos_encoding_type</th>\n",
       "      <th>append_neighbor_embs</th>\n",
       "      <th>rff_sigma</th>\n",
       "      <th>use_batch_labels</th>\n",
       "      <th>normalize_inputs</th>\n",
       "      <th>normalize_prediction</th>\n",
       "    </tr>\n",
       "  </thead>\n",
       "  <tbody>\n",
       "    <tr>\n",
       "      <th>FEN1</th>\n",
       "      <td>0</td>\n",
       "      <td>True</td>\n",
       "      <td>False</td>\n",
       "      <td>31</td>\n",
       "      <td>10</td>\n",
       "      <td>gauss</td>\n",
       "      <td>None</td>\n",
       "      <td>1</td>\n",
       "      <td>False</td>\n",
       "      <td>True</td>\n",
       "      <td>False</td>\n",
       "    </tr>\n",
       "  </tbody>\n",
       "</table>\n",
       "</div>"
      ],
      "text/plain": [
       "      reg  use_mean_train_reg_embs  use_mean_reg_embs  \\\n",
       "FEN1    0                     True              False   \n",
       "\n",
       "      n_neighbors_pos_encodings  n_pos_encodings pos_encoding_type  \\\n",
       "FEN1                         31               10             gauss   \n",
       "\n",
       "     append_neighbor_embs  rff_sigma  use_batch_labels  normalize_inputs  \\\n",
       "FEN1                 None          1             False              True   \n",
       "\n",
       "      normalize_prediction  \n",
       "FEN1                 False  "
      ]
     },
     "execution_count": 52,
     "metadata": {},
     "output_type": "execute_result"
    }
   ],
   "source": [
    "m_morph_gs_data.loc[m_morph_gs_data.config_id == 638].head(1).iloc[:, 2:-1]"
   ]
  },
  {
   "cell_type": "markdown",
   "id": "123c9649",
   "metadata": {},
   "source": [
    "---\n",
    "\n",
    "#### Image-embeddings"
   ]
  },
  {
   "cell_type": "markdown",
   "id": "a0b2474e",
   "metadata": {},
   "source": [
    "We perform the same line of experiments and analyses using the image embeddings as input."
   ]
  },
  {
   "cell_type": "code",
   "execution_count": 53,
   "id": "83eb65eb",
   "metadata": {},
   "outputs": [],
   "source": [
    "pert_embs = embedding_dict[\"mean_jump_img_embs\"]"
   ]
  },
  {
   "cell_type": "code",
   "execution_count": 54,
   "id": "424678ea",
   "metadata": {},
   "outputs": [],
   "source": [
    "m_img_embs_save_file = \"../../../data/experiments/jump/translation/gridsearch/ntk_gs_final_eucl_mean/mean_img_embs.h5\""
   ]
  },
  {
   "cell_type": "code",
   "execution_count": 76,
   "id": "7fa71711",
   "metadata": {},
   "outputs": [
    {
     "data": {
      "application/vnd.jupyter.widget-view+json": {
       "model_id": "f44ef333af7f4561810e0d7e703a25df",
       "version_major": 2,
       "version_minor": 0
      },
      "text/plain": [
       "  0%|          | 0/7680 [00:00<?, ?it/s]"
      ]
     },
     "metadata": {},
     "output_type": "display_data"
    },
    {
     "name": "stderr",
     "output_type": "stream",
     "text": [
      "<ipython-input-18-3a3273de9804>:75: PerformanceWarning: \n",
      "your performance may suffer as PyTables will pickle object types that it cannot\n",
      "map directly to c-types [inferred_type->mixed,key->block2_values] [items->Index(['model', 'pos_encoding_type', 'append_neighbor_embs'], dtype='object')]\n",
      "\n",
      "  all_knn_hit_results.to_hdf(save_output_file, key=\"data\", index=False)\n"
     ]
    }
   ],
   "source": [
    "m_img_embs_gs_data = run_jump_gridsearch_knn_hits(\n",
    "    pert_embs=pert_embs._get_numeric_data(),\n",
    "    reg_embs=regulatory_embs,\n",
    "    train_targets=list(train_targets),\n",
    "    test_targets=list(test_targets),\n",
    "    model_type=model_type,\n",
    "    model_params_dicts=model_params_dicts,\n",
    "    use_y_train_mean_params=use_y_train_mean_params,\n",
    "    use_y_mean_params=use_y_mean_params,\n",
    "    n_neighbors_weights_features_params=n_neighbors_weights_features_params,\n",
    "    n_weight_encodings_params=n_weight_encodings_params,\n",
    "    append_neighbor_embs_params=append_neighbor_embs_params,\n",
    "    neighbor_weight_encoding_params=neighbor_weight_encoding_params,\n",
    "    normalize_prediction_params=normalize_prediction_params,\n",
    "    normalize_inputs_params=normalize_inputs_params,\n",
    "    rff_sigma_params=rff_sigma_params,\n",
    "    use_batch_labels_params=use_batch_labels_params,\n",
    "    batch_labels=None,\n",
    "    save_output_file=m_img_embs_save_file,\n",
    ")"
   ]
  },
  {
   "cell_type": "code",
   "execution_count": 55,
   "id": "a79ade54",
   "metadata": {},
   "outputs": [],
   "source": [
    "m_img_embs_gs_data = pd.read_hdf(m_img_embs_save_file)"
   ]
  },
  {
   "cell_type": "markdown",
   "id": "cb859577",
   "metadata": {},
   "source": [
    "Again we compute the kNN accuracy performance."
   ]
  },
  {
   "cell_type": "code",
   "execution_count": 78,
   "id": "0d61f11a",
   "metadata": {},
   "outputs": [
    {
     "data": {
      "application/vnd.jupyter.widget-view+json": {
       "model_id": "90bf0c6b6b4e4140a301d3eb34fabf43",
       "version_major": 2,
       "version_minor": 0
      },
      "text/plain": [
       "  0%|          | 0/7680 [00:00<?, ?it/s]"
      ]
     },
     "metadata": {},
     "output_type": "display_data"
    },
    {
     "data": {
      "application/vnd.jupyter.widget-view+json": {
       "model_id": "555a5843de0a451a883326cac9096583",
       "version_major": 2,
       "version_minor": 0
      },
      "text/plain": [
       "  0%|          | 0/7680 [00:00<?, ?it/s]"
      ]
     },
     "metadata": {},
     "output_type": "display_data"
    }
   ],
   "source": [
    "m_img_gs_knn_accs = get_cluster_knn_accs_for_config_ids(\n",
    "    m_img_embs_gs_data,\n",
    "    regulatory_emb_clusters,\n",
    "    drop_clusters=drop_clusters,\n",
    ")\n",
    "m_img_gs_knn_accs = add_cluster_aucs_for_knn_acc_results(m_img_gs_knn_accs)"
   ]
  },
  {
   "cell_type": "code",
   "execution_count": 56,
   "id": "7c6d79ad",
   "metadata": {},
   "outputs": [],
   "source": [
    "m_img_knn_file = os.path.join(\n",
    "    os.path.split(m_img_embs_save_file)[0], \"mean_img_embs_knn_accs.h5\"\n",
    ")"
   ]
  },
  {
   "cell_type": "code",
   "execution_count": 80,
   "id": "b40ce89a",
   "metadata": {},
   "outputs": [
    {
     "name": "stderr",
     "output_type": "stream",
     "text": [
      "<ipython-input-80-bdd4d325bf63>:1: PerformanceWarning: \n",
      "your performance may suffer as PyTables will pickle object types that it cannot\n",
      "map directly to c-types [inferred_type->mixed,key->block2_values] [items->Index(['cluster', 'genes', 'knn_hits'], dtype='object')]\n",
      "\n",
      "  m_img_gs_knn_accs.to_hdf(\n"
     ]
    }
   ],
   "source": [
    "m_img_gs_knn_accs.to_hdf(\n",
    "    m_img_knn_file,\n",
    "    key=\"data\",\n",
    "    index=False,\n",
    ")"
   ]
  },
  {
   "cell_type": "code",
   "execution_count": 57,
   "id": "ca83df23",
   "metadata": {},
   "outputs": [],
   "source": [
    "m_img_gs_knn_accs = pd.read_hdf(m_img_knn_file)"
   ]
  },
  {
   "cell_type": "code",
   "execution_count": 58,
   "id": "876e4962",
   "metadata": {},
   "outputs": [],
   "source": [
    "cc_m_img_gs_knn_accs = m_img_gs_knn_accs.loc[\n",
    "    m_img_gs_knn_accs.cluster == \"0_3_7\"\n",
    "].copy()"
   ]
  },
  {
   "cell_type": "markdown",
   "id": "d01e3373",
   "metadata": {},
   "source": [
    "We again identify the configuration that performs best for the test conditions in which a gene was target that fell into a cluster of at least one training condition."
   ]
  },
  {
   "cell_type": "code",
   "execution_count": 59,
   "id": "fcaf65c9",
   "metadata": {},
   "outputs": [
    {
     "data": {
      "text/plain": [
       "config_id\n",
       "5318    0.601886\n",
       "dtype: float64"
      ]
     },
     "execution_count": 59,
     "metadata": {},
     "output_type": "execute_result"
    }
   ],
   "source": [
    "cc_m_img_gs_knn_accs.groupby(\"config_id\").mean(numeric_only=True).loc[\n",
    "    :, [\"10nn_auc\", \"20nn_auc\", \"30nn_auc\", \"40nn_auc\", \"50nn_auc\"]\n",
    "].sum(axis=1).sort_values(ascending=False).head(1)"
   ]
  },
  {
   "cell_type": "markdown",
   "id": "6cb20f1f",
   "metadata": {},
   "source": [
    "We find the best model for configuration with ID 5318."
   ]
  },
  {
   "cell_type": "code",
   "execution_count": 60,
   "id": "eecc77f0",
   "metadata": {},
   "outputs": [],
   "source": [
    "m_img_best_knn_acc_results = cc_m_img_gs_knn_accs.loc[\n",
    "    cc_m_img_gs_knn_accs.config_id == 5318\n",
    "]"
   ]
  },
  {
   "cell_type": "markdown",
   "id": "f761f1bc",
   "metadata": {},
   "source": [
    "The respective configuration is shown below."
   ]
  },
  {
   "cell_type": "code",
   "execution_count": 61,
   "id": "852cc36e",
   "metadata": {},
   "outputs": [
    {
     "data": {
      "text/html": [
       "<div>\n",
       "<style scoped>\n",
       "    .dataframe tbody tr th:only-of-type {\n",
       "        vertical-align: middle;\n",
       "    }\n",
       "\n",
       "    .dataframe tbody tr th {\n",
       "        vertical-align: top;\n",
       "    }\n",
       "\n",
       "    .dataframe thead th {\n",
       "        text-align: right;\n",
       "    }\n",
       "</style>\n",
       "<table border=\"1\" class=\"dataframe\">\n",
       "  <thead>\n",
       "    <tr style=\"text-align: right;\">\n",
       "      <th></th>\n",
       "      <th>reg</th>\n",
       "      <th>use_mean_train_reg_embs</th>\n",
       "      <th>use_mean_reg_embs</th>\n",
       "      <th>n_neighbors_pos_encodings</th>\n",
       "      <th>n_pos_encodings</th>\n",
       "      <th>pos_encoding_type</th>\n",
       "      <th>append_neighbor_embs</th>\n",
       "      <th>rff_sigma</th>\n",
       "      <th>use_batch_labels</th>\n",
       "      <th>normalize_inputs</th>\n",
       "      <th>normalize_prediction</th>\n",
       "    </tr>\n",
       "  </thead>\n",
       "  <tbody>\n",
       "    <tr>\n",
       "      <th>FEN1</th>\n",
       "      <td>10</td>\n",
       "      <td>True</td>\n",
       "      <td>False</td>\n",
       "      <td>31</td>\n",
       "      <td>20</td>\n",
       "      <td>gauss</td>\n",
       "      <td>None</td>\n",
       "      <td>1</td>\n",
       "      <td>False</td>\n",
       "      <td>True</td>\n",
       "      <td>False</td>\n",
       "    </tr>\n",
       "  </tbody>\n",
       "</table>\n",
       "</div>"
      ],
      "text/plain": [
       "      reg  use_mean_train_reg_embs  use_mean_reg_embs  \\\n",
       "FEN1   10                     True              False   \n",
       "\n",
       "      n_neighbors_pos_encodings  n_pos_encodings pos_encoding_type  \\\n",
       "FEN1                         31               20             gauss   \n",
       "\n",
       "     append_neighbor_embs  rff_sigma  use_batch_labels  normalize_inputs  \\\n",
       "FEN1                 None          1             False              True   \n",
       "\n",
       "      normalize_prediction  \n",
       "FEN1                 False  "
      ]
     },
     "execution_count": 61,
     "metadata": {},
     "output_type": "execute_result"
    }
   ],
   "source": [
    "m_img_embs_gs_data.loc[m_img_embs_gs_data.config_id == 5318].head(1).iloc[:, 2:-1]"
   ]
  },
  {
   "cell_type": "markdown",
   "id": "2f1efc7e",
   "metadata": {},
   "source": [
    "---\n",
    "\n",
    "### Baselines"
   ]
  },
  {
   "cell_type": "markdown",
   "id": "92c211f4",
   "metadata": {},
   "source": [
    "As for our analyses using the dataset from Rohban et al, we will compare the performance against two baselines. First a random baseline that just randomly predicts any of the genes to be targeted in the test OE condition, a mean baseline that will predict the mean of all regulatory embeddings. The baselines are further described in the paper. Note that the number of test samples differs depending on whether or not we aggregated the data by condition or by bach and condition, we will compute the mean baseline for these two settings. The random baseline is not affected by these changes."
   ]
  },
  {
   "cell_type": "markdown",
   "id": "52a0217f",
   "metadata": {},
   "source": [
    "#### Random baseline"
   ]
  },
  {
   "cell_type": "code",
   "execution_count": 62,
   "id": "bc68d091",
   "metadata": {},
   "outputs": [],
   "source": [
    "pert_embs = embedding_dict[\"mean_jump_img_embs\"]"
   ]
  },
  {
   "cell_type": "code",
   "execution_count": 63,
   "id": "55b8c4d6",
   "metadata": {},
   "outputs": [
    {
     "data": {
      "application/vnd.jupyter.widget-view+json": {
       "model_id": "d1b5f9d446c64d60b2d88e15bcf08e06",
       "version_major": 2,
       "version_minor": 0
      },
      "text/plain": [
       "  0%|          | 0/100 [00:00<?, ?it/s]"
      ]
     },
     "metadata": {},
     "output_type": "display_data"
    }
   ],
   "source": [
    "all_random_knn_hit_data = []\n",
    "for b in tqdm(range(100)):\n",
    "    random_knn_hit_data = get_jump_knn_hit_data(\n",
    "        get_jump_random_nn_prediction_dict(\n",
    "            pert_embs, regulatory_embs, train_targets, test_targets, random_state=1234\n",
    "        ),\n",
    "    )\n",
    "    random_knn_hit_data[\"config_id\"] = b\n",
    "    all_random_knn_hit_data.append(random_knn_hit_data)\n",
    "all_random_knn_hit_data = pd.concat(all_random_knn_hit_data)"
   ]
  },
  {
   "cell_type": "code",
   "execution_count": 64,
   "id": "56642268",
   "metadata": {},
   "outputs": [
    {
     "data": {
      "application/vnd.jupyter.widget-view+json": {
       "model_id": "cc0e675b99e0445f9fc746bba19f60fd",
       "version_major": 2,
       "version_minor": 0
      },
      "text/plain": [
       "  0%|          | 0/100 [00:00<?, ?it/s]"
      ]
     },
     "metadata": {},
     "output_type": "display_data"
    },
    {
     "data": {
      "application/vnd.jupyter.widget-view+json": {
       "model_id": "5e9af8df541849b9b780db7c54f4ade0",
       "version_major": 2,
       "version_minor": 0
      },
      "text/plain": [
       "  0%|          | 0/100 [00:00<?, ?it/s]"
      ]
     },
     "metadata": {},
     "output_type": "display_data"
    }
   ],
   "source": [
    "random_baseline_knn_accs = get_cluster_knn_accs_for_config_ids(\n",
    "    all_random_knn_hit_data,\n",
    "    regulatory_emb_clusters,\n",
    "    drop_clusters=drop_clusters,\n",
    ")\n",
    "random_baseline_knn_accs = add_cluster_aucs_for_knn_acc_results(\n",
    "    random_baseline_knn_accs\n",
    ")"
   ]
  },
  {
   "cell_type": "code",
   "execution_count": 65,
   "id": "7b74f9ea",
   "metadata": {},
   "outputs": [],
   "source": [
    "cc_random_baseline_knn_accs = random_baseline_knn_accs.loc[\n",
    "    random_baseline_knn_accs.cluster == \"0_3_7\"\n",
    "]"
   ]
  },
  {
   "cell_type": "markdown",
   "id": "87415c93",
   "metadata": {},
   "source": [
    "---"
   ]
  },
  {
   "cell_type": "markdown",
   "id": "a8574bc0",
   "metadata": {},
   "source": [
    "#### Mean baseline"
   ]
  },
  {
   "cell_type": "code",
   "execution_count": 66,
   "id": "aa7fb49f",
   "metadata": {},
   "outputs": [],
   "source": [
    "pert_embs = embedding_dict[\"mean_jump_img_embs\"]"
   ]
  },
  {
   "cell_type": "code",
   "execution_count": 67,
   "id": "d3398004",
   "metadata": {},
   "outputs": [],
   "source": [
    "mean_knn_hit_data = get_jump_knn_hit_data(\n",
    "    get_jump_nn_prediction_dict(\n",
    "        pert_embs,\n",
    "        regulatory_embs,\n",
    "        list(train_targets),\n",
    "        list(test_targets),\n",
    "        model_type=\"mean_all\",\n",
    "    )\n",
    ")\n",
    "mean_knn_hit_data[\"config_id\"] = 0"
   ]
  },
  {
   "cell_type": "code",
   "execution_count": 68,
   "id": "1664cda0",
   "metadata": {},
   "outputs": [
    {
     "data": {
      "application/vnd.jupyter.widget-view+json": {
       "model_id": "e323d13d0e8b4ed0aa35ee38493c61fd",
       "version_major": 2,
       "version_minor": 0
      },
      "text/plain": [
       "  0%|          | 0/1 [00:00<?, ?it/s]"
      ]
     },
     "metadata": {},
     "output_type": "display_data"
    },
    {
     "data": {
      "application/vnd.jupyter.widget-view+json": {
       "model_id": "6f8b2de0f3fd4ef780d872a012ce2594",
       "version_major": 2,
       "version_minor": 0
      },
      "text/plain": [
       "  0%|          | 0/1 [00:00<?, ?it/s]"
      ]
     },
     "metadata": {},
     "output_type": "display_data"
    }
   ],
   "source": [
    "mean_baseline_knn_accs = get_cluster_knn_accs_for_config_ids(\n",
    "    mean_knn_hit_data,\n",
    "    regulatory_emb_clusters,\n",
    "    drop_clusters=drop_clusters,\n",
    ")\n",
    "mean_baseline_knn_accs = add_cluster_aucs_for_knn_acc_results(mean_baseline_knn_accs)"
   ]
  },
  {
   "cell_type": "code",
   "execution_count": 69,
   "id": "52fd969d",
   "metadata": {},
   "outputs": [],
   "source": [
    "cc_mean_baseline_knn_accs = mean_baseline_knn_accs.loc[\n",
    "    mean_baseline_knn_accs.cluster == \"0_3_7\"\n",
    "]"
   ]
  },
  {
   "cell_type": "code",
   "execution_count": 70,
   "id": "0008d51b",
   "metadata": {},
   "outputs": [
    {
     "data": {
      "text/plain": [
       "config_id\n",
       "0    0.490943\n",
       "dtype: float64"
      ]
     },
     "execution_count": 70,
     "metadata": {},
     "output_type": "execute_result"
    }
   ],
   "source": [
    "cc_mean_baseline_knn_accs.groupby(\"config_id\").mean(numeric_only=True).loc[\n",
    "    :, [\"10nn_auc\", \"20nn_auc\", \"30nn_auc\", \"40nn_auc\", \"50nn_auc\"]\n",
    "].sum(axis=1).sort_values(ascending=False).head(1)"
   ]
  },
  {
   "cell_type": "markdown",
   "id": "3dd9758f",
   "metadata": {},
   "source": [
    "#### Train-Mean baseline"
   ]
  },
  {
   "cell_type": "code",
   "execution_count": 71,
   "id": "27aa2285",
   "metadata": {},
   "outputs": [],
   "source": [
    "pert_embs = embedding_dict[\"mean_jump_img_embs\"]"
   ]
  },
  {
   "cell_type": "code",
   "execution_count": 72,
   "id": "0fc345a4",
   "metadata": {},
   "outputs": [],
   "source": [
    "train_mean_knn_hit_data = get_jump_knn_hit_data(\n",
    "    get_jump_nn_prediction_dict(\n",
    "        pert_embs._get_numeric_data(),\n",
    "        regulatory_embs,\n",
    "        list(train_targets),\n",
    "        list(test_targets),\n",
    "        model_type=\"mean\",\n",
    "    )\n",
    ")\n",
    "train_mean_knn_hit_data[\"config_id\"] = 0"
   ]
  },
  {
   "cell_type": "code",
   "execution_count": 73,
   "id": "ac23f004",
   "metadata": {},
   "outputs": [
    {
     "data": {
      "application/vnd.jupyter.widget-view+json": {
       "model_id": "e1902809b35b4515bc09a8c0cc6968e7",
       "version_major": 2,
       "version_minor": 0
      },
      "text/plain": [
       "  0%|          | 0/1 [00:00<?, ?it/s]"
      ]
     },
     "metadata": {},
     "output_type": "display_data"
    },
    {
     "data": {
      "application/vnd.jupyter.widget-view+json": {
       "model_id": "911cd8e1b5f346cebee27addc7637a54",
       "version_major": 2,
       "version_minor": 0
      },
      "text/plain": [
       "  0%|          | 0/1 [00:00<?, ?it/s]"
      ]
     },
     "metadata": {},
     "output_type": "display_data"
    }
   ],
   "source": [
    "train_mean_baseline_knn_accs = get_cluster_knn_accs_for_config_ids(\n",
    "    train_mean_knn_hit_data,\n",
    "    regulatory_emb_clusters,\n",
    "    drop_clusters=drop_clusters,\n",
    ")\n",
    "train_mean_baseline_knn_accs = add_cluster_aucs_for_knn_acc_results(\n",
    "    train_mean_baseline_knn_accs\n",
    ")"
   ]
  },
  {
   "cell_type": "code",
   "execution_count": 74,
   "id": "004206fa",
   "metadata": {},
   "outputs": [],
   "source": [
    "cc_train_mean_baseline_knn_accs = train_mean_baseline_knn_accs.loc[\n",
    "    train_mean_baseline_knn_accs.cluster == \"0_3_7\"\n",
    "]"
   ]
  },
  {
   "cell_type": "code",
   "execution_count": 75,
   "id": "4d64922f",
   "metadata": {},
   "outputs": [
    {
     "data": {
      "text/plain": [
       "config_id\n",
       "0    0.461974\n",
       "dtype: float64"
      ]
     },
     "execution_count": 75,
     "metadata": {},
     "output_type": "execute_result"
    }
   ],
   "source": [
    "cc_train_mean_baseline_knn_accs.groupby(\"config_id\").mean(numeric_only=True).loc[\n",
    "    :, [\"10nn_auc\", \"20nn_auc\", \"30nn_auc\", \"40nn_auc\", \"50nn_auc\"]\n",
    "].sum(axis=1).sort_values(ascending=False).head(1)"
   ]
  },
  {
   "cell_type": "markdown",
   "id": "0be96a03",
   "metadata": {},
   "source": [
    "---"
   ]
  },
  {
   "cell_type": "markdown",
   "id": "50f11af9",
   "metadata": {},
   "source": [
    "## Performance summary"
   ]
  },
  {
   "cell_type": "code",
   "execution_count": 76,
   "id": "73ca15b5",
   "metadata": {
    "scrolled": true
   },
   "outputs": [
    {
     "name": "stderr",
     "output_type": "stream",
     "text": [
      "<ipython-input-76-d65d3a9c8fc8>:1: SettingWithCopyWarning: \n",
      "A value is trying to be set on a copy of a slice from a DataFrame.\n",
      "Try using .loc[row_indexer,col_indexer] = value instead\n",
      "\n",
      "See the caveats in the documentation: https://pandas.pydata.org/pandas-docs/stable/user_guide/indexing.html#returning-a-view-versus-a-copy\n",
      "  m_morph_best_knn_acc_results[\"Model\"] = \"Morphological Profiles\"\n",
      "<ipython-input-76-d65d3a9c8fc8>:2: SettingWithCopyWarning: \n",
      "A value is trying to be set on a copy of a slice from a DataFrame.\n",
      "Try using .loc[row_indexer,col_indexer] = value instead\n",
      "\n",
      "See the caveats in the documentation: https://pandas.pydata.org/pandas-docs/stable/user_guide/indexing.html#returning-a-view-versus-a-copy\n",
      "  m_img_best_knn_acc_results[\"Model\"] = \"Image2Reg\"\n"
     ]
    }
   ],
   "source": [
    "m_morph_best_knn_acc_results[\"Model\"] = \"Morphological Profiles\"\n",
    "m_img_best_knn_acc_results[\"Model\"] = \"Image2Reg\"\n",
    "\n",
    "\n",
    "all_knn_results = pd.concat([m_morph_best_knn_acc_results, m_img_best_knn_acc_results])\n"
   ]
  },
  {
   "cell_type": "code",
   "execution_count": 77,
   "id": "dcac395e",
   "metadata": {
    "scrolled": false
   },
   "outputs": [
    {
     "data": {
      "text/plain": [
       "Text(0, 0.5, '')"
      ]
     },
     "execution_count": 77,
     "metadata": {},
     "output_type": "execute_result"
    },
    {
     "data": {
      "image/png": "[encoded data removed]",
      "text/plain": [
       "<Figure size 3000x2100 with 1 Axes>"
      ]
     },
     "metadata": {},
     "output_type": "display_data"
    }
   ],
   "source": [
    "fig, ax = plot_translation_performance(\n",
    "    all_knn_results.loc[all_knn_results.loc[:, \"Model\"] == \"Image2Reg\"],\n",
    "    hue=\"Model\",\n",
    "    ymax=0.3,\n",
    "    title=\"\",\n",
    "    random_baseline=cc_random_baseline_knn_accs,\n",
    "    mean_baseline=cc_mean_baseline_knn_accs,\n",
    "    mean_train_baseline=cc_train_mean_baseline_knn_accs,\n",
    "    figsize=[10, 7],\n",
    "    cmap=None,\n",
    "    style=None,\n",
    "    style_order=None,\n",
    "    param_title=None,\n",
    "    legend_title=\"\",\n",
    "    alpha=0.8,\n",
    ")\n",
    "# ax.set_title(\"Performance for mean embeddings/profiles\")\n",
    "# ax.set_ylabel(\"kNN accuracy\")\n",
    "# ax.set_xlabel(\"k nearest neighbors\")\n",
    "ax.set_xlabel(\"\")\n",
    "ax.set_ylabel(\"\")"
   ]
  },
  {
   "cell_type": "markdown",
   "id": "93f10054",
   "metadata": {},
   "source": [
    "---"
   ]
  },
  {
   "cell_type": "markdown",
   "id": "226554df",
   "metadata": {},
   "source": [
    "## Visualization of the predictions"
   ]
  },
  {
   "cell_type": "raw",
   "id": "81a00924",
   "metadata": {},
   "source": [
    "pert_embs = embedding_dict[\"mean_jump_img_embs\"]"
   ]
  },
  {
   "cell_type": "raw",
   "id": "4c3fe019",
   "metadata": {},
   "source": [
    "import warnings\n",
    "\n",
    "warnings.filterwarnings(\"ignore\")\n",
    "viz_output_dir = (\n",
    "    \"../../../data/experiments/jump/translation/visualization\"\n",
    ")\n",
    "viz_pert_emb_dir = os.path.join(viz_output_dir, \"pert_embs\")\n",
    "viz_reg_emb_dir = os.path.join(viz_output_dir, \"reg_embs\")\n",
    "os.makedirs(viz_pert_emb_dir, exist_ok=True)\n",
    "os.makedirs(viz_reg_emb_dir, exist_ok=True)\n",
    "\n",
    "reg_pred_embs = get_jump_nn_prediction_dict(\n",
    "    pert_embs._get_numeric_data(),\n",
    "    regulatory_embs,\n",
    "    list(train_targets),\n",
    "    list(train_targets) + list(test_targets),\n",
    "    raw_reg_embs=raw_regulatory_embs,\n",
    "    model_type=\"ntk\",\n",
    "    model_params_dict={\"reg\": 10},\n",
    "    use_y_train_mean=False,\n",
    "    use_y_mean=False,\n",
    "    n_neighbors_weights_features=31,\n",
    "    n_weight_encodings=20,\n",
    "    neighbor_weight_encoding=\"gauss\",\n",
    "    append_neighbor_embs=None,\n",
    "    rff_sigma=10,\n",
    "    use_batch_labels=False,\n",
    "    batch_labels=None,\n",
    "    normalize_prediction=True,\n",
    "    normalize_inputs=False,\n",
    "    return_predicted_embeddings=True,\n",
    ")[1]\n",
    "\n",
    "genes = []\n",
    "reg_preds = []\n",
    "for (gene, pred_emb) in reg_pred_embs:\n",
    "    genes.append(gene)\n",
    "    reg_preds.append(list(pred_emb.squeeze()))\n",
    "genes = np.array(genes)\n",
    "reg_preds = np.array(reg_preds)\n",
    "\n",
    "\n",
    "for target in tqdm(list(train_targets) + list(test_targets)):\n",
    "    reg_pred = reg_preds[genes == target]\n",
    "    target_pert_tsne_embs, target_reg_tsne_embs = get_tsne_translation_prediction(\n",
    "        pert_embs=pert_embs._get_numeric_data(),\n",
    "        reg_embs=regulatory_embs,\n",
    "        reg_pred=reg_pred,\n",
    "        target=target,\n",
    "        perplexity=None,\n",
    "    )\n",
    "\n",
    "    fig, ax = plt.subplots(figsize=[7, 4], dpi=600)\n",
    "    fig, ax = plot_translation_tsne(\n",
    "        embs=target_pert_tsne_embs,\n",
    "        prediction=target,\n",
    "        fig=fig,\n",
    "        ax=ax,\n",
    "        lw=2,\n",
    "        alpha=1,\n",
    "        target_size=20,\n",
    "        pred_size=40,\n",
    "        size=10,\n",
    "        color=\"tab:blue\",\n",
    "        p_alpha=0.5,\n",
    "        neighbor_size=8,\n",
    "        mark_neighbors=list(train_targets),\n",
    "        label_points=list(train_targets) + [target],\n",
    "        reg_label_size=6,\n",
    "    )\n",
    "    ax.set_facecolor(\"ghostwhite\")\n",
    "    ax.set_title(\"Perturbation embeddings\")\n",
    "    plt.savefig(os.path.join(viz_pert_emb_dir, \"{}.png\".format(target)))\n",
    "    plt.close()\n",
    "\n",
    "    fig, ax = plt.subplots(figsize=[7, 4], dpi=600)\n",
    "    fig, ax = plot_translation_tsne(\n",
    "        embs=target_reg_tsne_embs,\n",
    "        target=target,\n",
    "        fig=fig,\n",
    "        ax=ax,\n",
    "        prediction=\"PREDICTION\",\n",
    "        pred_size=40,\n",
    "        pred_color=\"r\",\n",
    "        target_color=\"forestgreen\",\n",
    "        lw=2,\n",
    "        alpha=1,\n",
    "        target_size=20,\n",
    "        size=4,\n",
    "        p_alpha=0.5,\n",
    "        neighbor_size=10,\n",
    "        mark_neighbors=list(train_targets),\n",
    "        reg_label_size=5,\n",
    "        label_points=list(train_targets) + [target],\n",
    "    )\n",
    "    ax.set_facecolor(\"snow\")\n",
    "    ax.set_title(\"Regulatory embeddings\")\n",
    "    plt.savefig(os.path.join(viz_reg_emb_dir, \"{}.png\".format(target)))\n",
    "    plt.close()"
   ]
  }
 ],
 "metadata": {
  "kernelspec": {
   "display_name": "Python 3",
   "language": "python",
   "name": "python3"
  },
  "language_info": {
   "codemirror_mode": {
    "name": "ipython",
    "version": 3
   },
   "file_extension": ".py",
   "mimetype": "text/x-python",
   "name": "python",
   "nbconvert_exporter": "python",
   "pygments_lexer": "ipython3",
   "version": "3.8.10"
  },
  "toc": {
   "base_numbering": 1,
   "nav_menu": {
    "height": "132px",
    "width": "160px"
   },
   "number_sections": true,
   "sideBar": true,
   "skip_h1_title": true,
   "title_cell": "Table of Contents",
   "title_sidebar": "Contents",
   "toc_cell": false,
   "toc_position": {
    "height": "626.667px",
    "left": "23px",
    "top": "202.633px",
    "width": "255.333px"
   },
   "toc_section_display": true,
   "toc_window_display": true
  }
 },
 "nbformat": 4,
 "nbformat_minor": 5
}
