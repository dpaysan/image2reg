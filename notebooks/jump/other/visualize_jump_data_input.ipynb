{
 "cells": [
  {
   "cell_type": "code",
   "execution_count": 1,
   "id": "5d40da36",
   "metadata": {},
   "outputs": [
    {
     "data": {
      "application/javascript": [
       "\n",
       "            setTimeout(function() {\n",
       "                var nbb_cell_id = 1;\n",
       "                var nbb_unformatted_code = \"import matplotlib.pyplot as plt\\nfrom tifffile import imread, imwrite\\nimport sys\\nimport pandas as pd\\nimport numpy as np\\n\\nsys.path.append(\\\"../../..\\\")\\n\\nfrom src.data.datasets import TorchMultiImageSlideDataset\\nfrom src.utils.torch.transforms import (\\n    ToRGBTensor,\\n    CustomCenteredCrop,\\n    CustomResize,\\n    CustomRandomHorizontalFlip,\\n    CustomRandomVerticalFlip,\\n    CustomCompose,\\n    CustomNormalize,\\n)\\nfrom torchvision import transforms\\n\\n%load_ext nb_black\";\n",
       "                var nbb_formatted_code = \"import matplotlib.pyplot as plt\\nfrom tifffile import imread, imwrite\\nimport sys\\nimport pandas as pd\\nimport numpy as np\\n\\nsys.path.append(\\\"../../..\\\")\\n\\nfrom src.data.datasets import TorchMultiImageSlideDataset\\nfrom src.utils.torch.transforms import (\\n    ToRGBTensor,\\n    CustomCenteredCrop,\\n    CustomResize,\\n    CustomRandomHorizontalFlip,\\n    CustomRandomVerticalFlip,\\n    CustomCompose,\\n    CustomNormalize,\\n)\\nfrom torchvision import transforms\\n\\n%load_ext nb_black\";\n",
       "                var nbb_cells = Jupyter.notebook.get_cells();\n",
       "                for (var i = 0; i < nbb_cells.length; ++i) {\n",
       "                    if (nbb_cells[i].input_prompt_number == nbb_cell_id) {\n",
       "                        if (nbb_cells[i].get_text() == nbb_unformatted_code) {\n",
       "                             nbb_cells[i].set_text(nbb_formatted_code);\n",
       "                        }\n",
       "                        break;\n",
       "                    }\n",
       "                }\n",
       "            }, 500);\n",
       "            "
      ],
      "text/plain": [
       "<IPython.core.display.Javascript object>"
      ]
     },
     "metadata": {},
     "output_type": "display_data"
    }
   ],
   "source": [
    "import matplotlib.pyplot as plt\n",
    "from tifffile import imread, imwrite\n",
    "import sys\n",
    "import pandas as pd\n",
    "import numpy as np\n",
    "\n",
    "sys.path.append(\"../../..\")\n",
    "\n",
    "from src.data.datasets import TorchMultiImageSlideDataset\n",
    "from src.utils.torch.transforms import (\n",
    "    ToRGBTensor,\n",
    "    CustomCenteredCrop,\n",
    "    CustomResize,\n",
    "    CustomRandomHorizontalFlip,\n",
    "    CustomRandomVerticalFlip,\n",
    "    CustomCompose,\n",
    "    CustomNormalize,\n",
    ")\n",
    "from torchvision import transforms\n",
    "\n",
    "%load_ext nb_black"
   ]
  },
  {
   "cell_type": "code",
   "execution_count": 2,
   "id": "304e58bf",
   "metadata": {},
   "outputs": [
    {
     "data": {
      "application/javascript": [
       "\n",
       "            setTimeout(function() {\n",
       "                var nbb_cell_id = 2;\n",
       "                var nbb_unformatted_code = \"md = pd.read_csv(\\n    \\\"/media/paysan_d/wd_datastore/jump_data/experiments/image_preprocessing/full_pipeline/padded_nuclei_metadata.csv.gz\\\",\\n    index_col=0,\\n)\";\n",
       "                var nbb_formatted_code = \"md = pd.read_csv(\\n    \\\"/media/paysan_d/wd_datastore/jump_data/experiments/image_preprocessing/full_pipeline/padded_nuclei_metadata.csv.gz\\\",\\n    index_col=0,\\n)\";\n",
       "                var nbb_cells = Jupyter.notebook.get_cells();\n",
       "                for (var i = 0; i < nbb_cells.length; ++i) {\n",
       "                    if (nbb_cells[i].input_prompt_number == nbb_cell_id) {\n",
       "                        if (nbb_cells[i].get_text() == nbb_unformatted_code) {\n",
       "                             nbb_cells[i].set_text(nbb_formatted_code);\n",
       "                        }\n",
       "                        break;\n",
       "                    }\n",
       "                }\n",
       "            }, 500);\n",
       "            "
      ],
      "text/plain": [
       "<IPython.core.display.Javascript object>"
      ]
     },
     "metadata": {},
     "output_type": "display_data"
    }
   ],
   "source": [
    "md = pd.read_csv(\n",
    "    \"../../../data/experiments/jump/images/preprocessing/full_pipeline/padded_nuclei_metadata.csv.gz\",\n",
    "    index_col=0,\n",
    ")"
   ]
  },
  {
   "cell_type": "code",
   "execution_count": 3,
   "id": "bc7c5623",
   "metadata": {},
   "outputs": [
    {
     "data": {
      "application/javascript": [
       "\n",
       "            setTimeout(function() {\n",
       "                var nbb_cell_id = 3;\n",
       "                var nbb_unformatted_code = \"md = md.loc[md.gene_symbol == \\\"BRAF\\\"]\";\n",
       "                var nbb_formatted_code = \"md = md.loc[md.gene_symbol == \\\"BRAF\\\"]\";\n",
       "                var nbb_cells = Jupyter.notebook.get_cells();\n",
       "                for (var i = 0; i < nbb_cells.length; ++i) {\n",
       "                    if (nbb_cells[i].input_prompt_number == nbb_cell_id) {\n",
       "                        if (nbb_cells[i].get_text() == nbb_unformatted_code) {\n",
       "                             nbb_cells[i].set_text(nbb_formatted_code);\n",
       "                        }\n",
       "                        break;\n",
       "                    }\n",
       "                }\n",
       "            }, 500);\n",
       "            "
      ],
      "text/plain": [
       "<IPython.core.display.Javascript object>"
      ]
     },
     "metadata": {},
     "output_type": "display_data"
    }
   ],
   "source": [
    "md = md.loc[md.gene_symbol == \"BRAF\"]"
   ]
  },
  {
   "cell_type": "code",
   "execution_count": 4,
   "id": "30c59d40",
   "metadata": {},
   "outputs": [
    {
     "data": {
      "application/javascript": [
       "\n",
       "            setTimeout(function() {\n",
       "                var nbb_cell_id = 4;\n",
       "                var nbb_unformatted_code = \"# md = md.loc[md.slide_image_name.isin([\\\"taoe005-u2os-72h-cp-a-au00044858_a02_s5_w18fd55173-4238-452c-b231-5a4560c30084_illum_corrected.tif\\\", \\\"taoe005-u2os-72h-cp-a-au00044858_m10_s3_w1cad3a0c5-b3ea-464f-9cc2-ac58c5174c58_illum_corrected.tif\\\", \\\"taoe005-u2os-72h-cp-a-au00044858_f21_s6_w11f14aa4e-b82b-477d-8701-b87286b889f2_illum_corrected.tif\\\", \\\"taoe005-u2os-72h-cp-a-au00044858_b16_s5_w1e7749bb3-671e-4a9c-8d6b-875926c8f349_illum_corrected.tif\\\"])]\\nmd.to_csv(\\\"/home/paysan_d/Desktop/filtered_md_data_visualization.csv\\\")\";\n",
       "                var nbb_formatted_code = \"# md = md.loc[md.slide_image_name.isin([\\\"taoe005-u2os-72h-cp-a-au00044858_a02_s5_w18fd55173-4238-452c-b231-5a4560c30084_illum_corrected.tif\\\", \\\"taoe005-u2os-72h-cp-a-au00044858_m10_s3_w1cad3a0c5-b3ea-464f-9cc2-ac58c5174c58_illum_corrected.tif\\\", \\\"taoe005-u2os-72h-cp-a-au00044858_f21_s6_w11f14aa4e-b82b-477d-8701-b87286b889f2_illum_corrected.tif\\\", \\\"taoe005-u2os-72h-cp-a-au00044858_b16_s5_w1e7749bb3-671e-4a9c-8d6b-875926c8f349_illum_corrected.tif\\\"])]\\nmd.to_csv(\\\"/home/paysan_d/Desktop/filtered_md_data_visualization.csv\\\")\";\n",
       "                var nbb_cells = Jupyter.notebook.get_cells();\n",
       "                for (var i = 0; i < nbb_cells.length; ++i) {\n",
       "                    if (nbb_cells[i].input_prompt_number == nbb_cell_id) {\n",
       "                        if (nbb_cells[i].get_text() == nbb_unformatted_code) {\n",
       "                             nbb_cells[i].set_text(nbb_formatted_code);\n",
       "                        }\n",
       "                        break;\n",
       "                    }\n",
       "                }\n",
       "            }, 500);\n",
       "            "
      ],
      "text/plain": [
       "<IPython.core.display.Javascript object>"
      ]
     },
     "metadata": {},
     "output_type": "display_data"
    }
   ],
   "source": [
    "# md = md.loc[md.slide_image_name.isin([\"taoe005-u2os-72h-cp-a-au00044858_a02_s5_w18fd55173-4238-452c-b231-5a4560c30084_illum_corrected.tif\", \"taoe005-u2os-72h-cp-a-au00044858_m10_s3_w1cad3a0c5-b3ea-464f-9cc2-ac58c5174c58_illum_corrected.tif\", \"taoe005-u2os-72h-cp-a-au00044858_f21_s6_w11f14aa4e-b82b-477d-8701-b87286b889f2_illum_corrected.tif\", \"taoe005-u2os-72h-cp-a-au00044858_b16_s5_w1e7749bb3-671e-4a9c-8d6b-875926c8f349_illum_corrected.tif\"])]\n",
    "md.to_csv(\"~/Desktop/filtered_md_data_visualization.csv\")"
   ]
  },
  {
   "cell_type": "code",
   "execution_count": 5,
   "id": "986db0e8",
   "metadata": {},
   "outputs": [
    {
     "data": {
      "application/javascript": [
       "\n",
       "            setTimeout(function() {\n",
       "                var nbb_cell_id = 5;\n",
       "                var nbb_unformatted_code = \"dataset = TorchMultiImageSlideDataset(\\n    nuclei_image_dir=\\\"/media/paysan_d/wd_datastore/jump_data/experiments/image_preprocessing/full_pipeline/padded_nuclei\\\",\\n    nuclei_metadata_file=\\\"/home/paysan_d/Desktop/filtered_md_data_visualization.csv\\\",\\n    slide_image_dir=\\\"/media/paysan_d/wd_datastore/jump_data/images/illum_corrected\\\",\\n    pseudo_rgb=True,\\n    plate_col=\\\"batch\\\",\\n)\";\n",
       "                var nbb_formatted_code = \"dataset = TorchMultiImageSlideDataset(\\n    nuclei_image_dir=\\\"/media/paysan_d/wd_datastore/jump_data/experiments/image_preprocessing/full_pipeline/padded_nuclei\\\",\\n    nuclei_metadata_file=\\\"/home/paysan_d/Desktop/filtered_md_data_visualization.csv\\\",\\n    slide_image_dir=\\\"/media/paysan_d/wd_datastore/jump_data/images/illum_corrected\\\",\\n    pseudo_rgb=True,\\n    plate_col=\\\"batch\\\",\\n)\";\n",
       "                var nbb_cells = Jupyter.notebook.get_cells();\n",
       "                for (var i = 0; i < nbb_cells.length; ++i) {\n",
       "                    if (nbb_cells[i].input_prompt_number == nbb_cell_id) {\n",
       "                        if (nbb_cells[i].get_text() == nbb_unformatted_code) {\n",
       "                             nbb_cells[i].set_text(nbb_formatted_code);\n",
       "                        }\n",
       "                        break;\n",
       "                    }\n",
       "                }\n",
       "            }, 500);\n",
       "            "
      ],
      "text/plain": [
       "<IPython.core.display.Javascript object>"
      ]
     },
     "metadata": {},
     "output_type": "display_data"
    }
   ],
   "source": [
    "dataset = TorchMultiImageSlideDataset(\n",
    "    nuclei_image_dir=\"../../../data/experiments/jump/images/preprocessing/full_pipeline/padded_nuclei\",\n",
    "    nuclei_metadata_file=\"~/Desktop/filtered_md_data_visualization.csv\",\n",
    "    slide_image_dir=\"../../../data/resources/images/jump/illum_corrected\",\n",
    "    pseudo_rgb=True,\n",
    "    plate_col=\"batch\",\n",
    ")"
   ]
  },
  {
   "cell_type": "code",
   "execution_count": 24,
   "id": "a5da898a",
   "metadata": {},
   "outputs": [
    {
     "data": {
      "application/javascript": [
       "\n",
       "            setTimeout(function() {\n",
       "                var nbb_cell_id = 24;\n",
       "                var nbb_unformatted_code = \"nuc_transforms = transforms.Resize(224)\\nslide_transforms = CustomCompose([CustomCenteredCrop(448), CustomResize(224)])\";\n",
       "                var nbb_formatted_code = \"nuc_transforms = transforms.Resize(224)\\nslide_transforms = CustomCompose([CustomCenteredCrop(448), CustomResize(224)])\";\n",
       "                var nbb_cells = Jupyter.notebook.get_cells();\n",
       "                for (var i = 0; i < nbb_cells.length; ++i) {\n",
       "                    if (nbb_cells[i].input_prompt_number == nbb_cell_id) {\n",
       "                        if (nbb_cells[i].get_text() == nbb_unformatted_code) {\n",
       "                             nbb_cells[i].set_text(nbb_formatted_code);\n",
       "                        }\n",
       "                        break;\n",
       "                    }\n",
       "                }\n",
       "            }, 500);\n",
       "            "
      ],
      "text/plain": [
       "<IPython.core.display.Javascript object>"
      ]
     },
     "metadata": {},
     "output_type": "display_data"
    }
   ],
   "source": [
    "nuc_transforms = transforms.Resize(224)\n",
    "slide_transforms = CustomCompose([CustomCenteredCrop(448), CustomResize(224)])"
   ]
  },
  {
   "cell_type": "code",
   "execution_count": 25,
   "id": "5aa1bc82",
   "metadata": {},
   "outputs": [
    {
     "data": {
      "application/javascript": [
       "\n",
       "            setTimeout(function() {\n",
       "                var nbb_cell_id = 25;\n",
       "                var nbb_unformatted_code = \"dataset.set_transform_pipeline([nuc_transforms, slide_transforms])\";\n",
       "                var nbb_formatted_code = \"dataset.set_transform_pipeline([nuc_transforms, slide_transforms])\";\n",
       "                var nbb_cells = Jupyter.notebook.get_cells();\n",
       "                for (var i = 0; i < nbb_cells.length; ++i) {\n",
       "                    if (nbb_cells[i].input_prompt_number == nbb_cell_id) {\n",
       "                        if (nbb_cells[i].get_text() == nbb_unformatted_code) {\n",
       "                             nbb_cells[i].set_text(nbb_formatted_code);\n",
       "                        }\n",
       "                        break;\n",
       "                    }\n",
       "                }\n",
       "            }, 500);\n",
       "            "
      ],
      "text/plain": [
       "<IPython.core.display.Javascript object>"
      ]
     },
     "metadata": {},
     "output_type": "display_data"
    }
   ],
   "source": [
    "dataset.set_transform_pipeline([nuc_transforms, slide_transforms])"
   ]
  },
  {
   "cell_type": "code",
   "execution_count": 26,
   "id": "22e20114",
   "metadata": {},
   "outputs": [
    {
     "data": {
      "application/javascript": [
       "\n",
       "            setTimeout(function() {\n",
       "                var nbb_cell_id = 26;\n",
       "                var nbb_unformatted_code = \"import os\\nimport tifffile\\n\\nos.makedirs(\\\"/home/paysan_d/Desktop/images_data3\\\", exist_ok=True)\\nfor i in range(100):\\n    sample = dataset[i]\\n    ids = sample[\\\"image_file\\\"]\\n    nuc_img = sample[\\\"nuclei_image\\\"]\\n    slide_img = sample[\\\"slide_image\\\"]\\n    os.makedirs(\\n        os.path.join(\\\"/home/paysan_d/Desktop/images_data3\\\", \\\"slide\\\"), exist_ok=True\\n    )\\n    os.makedirs(\\n        os.path.join(\\\"/home/paysan_d/Desktop/images_data3\\\", \\\"nuc\\\"), exist_ok=True\\n    )\\n    tifffile.imwrite(\\n        os.path.join(\\\"/home/paysan_d/Desktop/images_data3\\\", \\\"nuc\\\", ids),\\n        np.array(nuc_img),\\n    )\\n    tifffile.imwrite(\\n        os.path.join(\\\"/home/paysan_d/Desktop/images_data3\\\", \\\"slide\\\", ids),\\n        np.array(slide_img),\\n    )\";\n",
       "                var nbb_formatted_code = \"import os\\nimport tifffile\\n\\nos.makedirs(\\\"/home/paysan_d/Desktop/images_data3\\\", exist_ok=True)\\nfor i in range(100):\\n    sample = dataset[i]\\n    ids = sample[\\\"image_file\\\"]\\n    nuc_img = sample[\\\"nuclei_image\\\"]\\n    slide_img = sample[\\\"slide_image\\\"]\\n    os.makedirs(\\n        os.path.join(\\\"/home/paysan_d/Desktop/images_data3\\\", \\\"slide\\\"), exist_ok=True\\n    )\\n    os.makedirs(\\n        os.path.join(\\\"/home/paysan_d/Desktop/images_data3\\\", \\\"nuc\\\"), exist_ok=True\\n    )\\n    tifffile.imwrite(\\n        os.path.join(\\\"/home/paysan_d/Desktop/images_data3\\\", \\\"nuc\\\", ids),\\n        np.array(nuc_img),\\n    )\\n    tifffile.imwrite(\\n        os.path.join(\\\"/home/paysan_d/Desktop/images_data3\\\", \\\"slide\\\", ids),\\n        np.array(slide_img),\\n    )\";\n",
       "                var nbb_cells = Jupyter.notebook.get_cells();\n",
       "                for (var i = 0; i < nbb_cells.length; ++i) {\n",
       "                    if (nbb_cells[i].input_prompt_number == nbb_cell_id) {\n",
       "                        if (nbb_cells[i].get_text() == nbb_unformatted_code) {\n",
       "                             nbb_cells[i].set_text(nbb_formatted_code);\n",
       "                        }\n",
       "                        break;\n",
       "                    }\n",
       "                }\n",
       "            }, 500);\n",
       "            "
      ],
      "text/plain": [
       "<IPython.core.display.Javascript object>"
      ]
     },
     "metadata": {},
     "output_type": "display_data"
    }
   ],
   "source": [
    "import os\n",
    "import tifffile\n",
    "\n",
    "os.makedirs(\"~/Desktop/images_data\", exist_ok=True)\n",
    "for i in range(100):\n",
    "    sample = dataset[i]\n",
    "    ids = sample[\"image_file\"]\n",
    "    nuc_img = sample[\"nuclei_image\"]\n",
    "    slide_img = sample[\"slide_image\"]\n",
    "    os.makedirs(\n",
    "        os.path.join(\"~/Desktop/images_data\", \"slide\"), exist_ok=True\n",
    "    )\n",
    "    os.makedirs(\n",
    "        os.path.join(\"~/Desktop/images_data\", \"nuc\"), exist_ok=True\n",
    "    )\n",
    "    tifffile.imwrite(\n",
    "        os.path.join(\"~/Desktop/images_data\", \"nuc\", ids),\n",
    "        np.array(nuc_img),\n",
    "    )\n",
    "    tifffile.imwrite(\n",
    "        os.path.join(\"~/Desktop/images_data\", \"slide\", ids),\n",
    "        np.array(slide_img),\n",
    "    )"
   ]
  },
  {
   "cell_type": "code",
   "execution_count": null,
   "id": "c30c2a0a",
   "metadata": {},
   "outputs": [],
   "source": []
  }
 ],
 "metadata": {
  "kernelspec": {
   "display_name": "Python 3",
   "language": "python",
   "name": "python3"
  },
  "language_info": {
   "codemirror_mode": {
    "name": "ipython",
    "version": 3
   },
   "file_extension": ".py",
   "mimetype": "text/x-python",
   "name": "python",
   "nbconvert_exporter": "python",
   "pygments_lexer": "ipython3",
   "version": "3.8.10"
  },
  "toc": {
   "base_numbering": 1,
   "nav_menu": {},
   "number_sections": true,
   "sideBar": true,
   "skip_h1_title": false,
   "title_cell": "Table of Contents",
   "title_sidebar": "Contents",
   "toc_cell": false,
   "toc_position": {},
   "toc_section_display": true,
   "toc_window_display": false
  }
 },
 "nbformat": 4,
 "nbformat_minor": 5
}
