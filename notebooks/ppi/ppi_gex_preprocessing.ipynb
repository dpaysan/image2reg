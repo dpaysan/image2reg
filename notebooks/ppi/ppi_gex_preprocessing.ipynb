{
 "cells": [
  {
   "cell_type": "markdown",
   "id": "db92a0f9",
   "metadata": {},
   "source": [
    "# GEX preprocessing for PPI inference\n",
    "\n",
    "This notebook will work on the filtered single-cell gene expression data from Mahdessian et al. to define appropriate edge costs and node prizes for the Prize-collecting Steiner analyses.\n",
    "\n",
    "---"
   ]
  },
  {
   "cell_type": "markdown",
   "id": "b5448180",
   "metadata": {},
   "source": [
    "## 0. Environmental setup"
   ]
  },
  {
   "cell_type": "code",
   "execution_count": 628,
   "id": "53e897b9",
   "metadata": {},
   "outputs": [
    {
     "name": "stdout",
     "output_type": "stream",
     "text": [
      "The nb_black extension is already loaded. To reload it, use:\n",
      "  %reload_ext nb_black\n"
     ]
    },
    {
     "data": {
      "application/javascript": [
       "\n",
       "            setTimeout(function() {\n",
       "                var nbb_cell_id = 628;\n",
       "                var nbb_unformatted_code = \"import pandas as pd\\nimport scanpy as sc\\nimport numpy as np\\nimport matplotlib.pyplot as plt\\nimport seaborn as sns\\nfrom matplotlib_venn import venn3, venn3_unweighted\\nimport venn\\nimport networkx as nx\\nfrom sklearn.mixture import GaussianMixture\\nfrom scipy.stats import ttest_1samp, pearsonr, spearmanr\\nfrom statsmodels.stats.multitest import fdrcorrection\\nfrom tqdm import tqdm\\nfrom collections import Counter\\nfrom sklearn.metrics import mutual_info_score\\n\\nseed = 1234\\n\\n%load_ext nb_black\";\n",
       "                var nbb_formatted_code = \"import pandas as pd\\nimport scanpy as sc\\nimport numpy as np\\nimport matplotlib.pyplot as plt\\nimport seaborn as sns\\nfrom matplotlib_venn import venn3, venn3_unweighted\\nimport venn\\nimport networkx as nx\\nfrom sklearn.mixture import GaussianMixture\\nfrom scipy.stats import ttest_1samp, pearsonr, spearmanr\\nfrom statsmodels.stats.multitest import fdrcorrection\\nfrom tqdm import tqdm\\nfrom collections import Counter\\nfrom sklearn.metrics import mutual_info_score\\n\\nseed = 1234\\n\\n%load_ext nb_black\";\n",
       "                var nbb_cells = Jupyter.notebook.get_cells();\n",
       "                for (var i = 0; i < nbb_cells.length; ++i) {\n",
       "                    if (nbb_cells[i].input_prompt_number == nbb_cell_id) {\n",
       "                        if (nbb_cells[i].get_text() == nbb_unformatted_code) {\n",
       "                             nbb_cells[i].set_text(nbb_formatted_code);\n",
       "                        }\n",
       "                        break;\n",
       "                    }\n",
       "                }\n",
       "            }, 500);\n",
       "            "
      ],
      "text/plain": [
       "<IPython.core.display.Javascript object>"
      ]
     },
     "metadata": {},
     "output_type": "display_data"
    }
   ],
   "source": [
    "import pandas as pd\n",
    "import scanpy as sc\n",
    "import numpy as np\n",
    "import matplotlib.pyplot as plt\n",
    "import seaborn as sns\n",
    "from matplotlib_venn import venn3, venn3_unweighted\n",
    "import venn\n",
    "import networkx as nx\n",
    "from sklearn.mixture import GaussianMixture\n",
    "from scipy.stats import ttest_1samp, pearsonr, spearmanr\n",
    "from statsmodels.stats.multitest import fdrcorrection\n",
    "from tqdm import tqdm\n",
    "from collections import Counter\n",
    "from sklearn.metrics import mutual_info_score\n",
    "\n",
    "seed = 1234\n",
    "\n",
    "%load_ext nb_black"
   ]
  },
  {
   "cell_type": "code",
   "execution_count": 479,
   "id": "cf0128c7",
   "metadata": {},
   "outputs": [
    {
     "data": {
      "application/javascript": [
       "\n",
       "            setTimeout(function() {\n",
       "                var nbb_cell_id = 479;\n",
       "                var nbb_unformatted_code = \"def find_markers(data, target, avg_log_fc=0.25, min_pct=0.1):\\n    target_data = data.loc[target]\\n    other_data = data.drop([target], axis=0)\\n    results = {\\n        \\\"log_expr_target\\\": [],\\n        \\\"avg_log_expr_other\\\": [],\\n        \\\"log_fc\\\": [],\\n        \\\"pval\\\": [],\\n    }\\n    genes = list(data.columns)\\n    selected_genes = []\\n    for gene in genes:\\n        log_other_expr = np.array(other_data.loc[:, gene])\\n        avg_log_expr_other = log_other_expr.mean()\\n        log_expr_target = target_data.loc[gene]\\n        log_fc = log_expr_target - avg_log_expr_other\\n        if log_fc > avg_log_fc and np.mean(log_other_expr == 0) <= (1 - min_pct):\\n            results[\\\"log_expr_target\\\"].append(log_expr_target)\\n            results[\\\"avg_log_expr_other\\\"].append(avg_log_expr_other)\\n            results[\\\"log_fc\\\"].append(log_fc)\\n            results[\\\"pval\\\"].append(ttest_1samp(log_other_expr, log_expr_target)[1])\\n            selected_genes.append(gene)\\n    results[\\\"fdr\\\"] = fdrcorrection(results[\\\"pval\\\"])[1]\\n    results = pd.DataFrame.from_dict(results)\\n    results.index = selected_genes\\n    return results\";\n",
       "                var nbb_formatted_code = \"def find_markers(data, target, avg_log_fc=0.25, min_pct=0.1):\\n    target_data = data.loc[target]\\n    other_data = data.drop([target], axis=0)\\n    results = {\\n        \\\"log_expr_target\\\": [],\\n        \\\"avg_log_expr_other\\\": [],\\n        \\\"log_fc\\\": [],\\n        \\\"pval\\\": [],\\n    }\\n    genes = list(data.columns)\\n    selected_genes = []\\n    for gene in genes:\\n        log_other_expr = np.array(other_data.loc[:, gene])\\n        avg_log_expr_other = log_other_expr.mean()\\n        log_expr_target = target_data.loc[gene]\\n        log_fc = log_expr_target - avg_log_expr_other\\n        if log_fc > avg_log_fc and np.mean(log_other_expr == 0) <= (1 - min_pct):\\n            results[\\\"log_expr_target\\\"].append(log_expr_target)\\n            results[\\\"avg_log_expr_other\\\"].append(avg_log_expr_other)\\n            results[\\\"log_fc\\\"].append(log_fc)\\n            results[\\\"pval\\\"].append(ttest_1samp(log_other_expr, log_expr_target)[1])\\n            selected_genes.append(gene)\\n    results[\\\"fdr\\\"] = fdrcorrection(results[\\\"pval\\\"])[1]\\n    results = pd.DataFrame.from_dict(results)\\n    results.index = selected_genes\\n    return results\";\n",
       "                var nbb_cells = Jupyter.notebook.get_cells();\n",
       "                for (var i = 0; i < nbb_cells.length; ++i) {\n",
       "                    if (nbb_cells[i].input_prompt_number == nbb_cell_id) {\n",
       "                        if (nbb_cells[i].get_text() == nbb_unformatted_code) {\n",
       "                             nbb_cells[i].set_text(nbb_formatted_code);\n",
       "                        }\n",
       "                        break;\n",
       "                    }\n",
       "                }\n",
       "            }, 500);\n",
       "            "
      ],
      "text/plain": [
       "<IPython.core.display.Javascript object>"
      ]
     },
     "metadata": {},
     "output_type": "display_data"
    }
   ],
   "source": [
    "def find_markers(data, target, avg_log_fc=0.25, min_pct=0.1):\n",
    "    target_data = data.loc[target]\n",
    "    other_data = data.drop([target], axis=0)\n",
    "    results = {\n",
    "        \"log_expr_target\": [],\n",
    "        \"avg_log_expr_other\": [],\n",
    "        \"log_fc\": [],\n",
    "        \"pval\": [],\n",
    "    }\n",
    "    genes = list(data.columns)\n",
    "    selected_genes = []\n",
    "    for gene in genes:\n",
    "        log_other_expr = np.array(other_data.loc[:, gene])\n",
    "        avg_log_expr_other = log_other_expr.mean()\n",
    "        log_expr_target = target_data.loc[gene]\n",
    "        log_fc = log_expr_target - avg_log_expr_other\n",
    "        if log_fc > avg_log_fc and np.mean(log_other_expr == 0) <= (1 - min_pct):\n",
    "            results[\"log_expr_target\"].append(log_expr_target)\n",
    "            results[\"avg_log_expr_other\"].append(avg_log_expr_other)\n",
    "            results[\"log_fc\"].append(log_fc)\n",
    "            results[\"pval\"].append(ttest_1samp(log_other_expr, log_expr_target)[1])\n",
    "            selected_genes.append(gene)\n",
    "    results[\"fdr\"] = fdrcorrection(results[\"pval\"])[1]\n",
    "    results = pd.DataFrame.from_dict(results)\n",
    "    results.index = selected_genes\n",
    "    return results"
   ]
  },
  {
   "cell_type": "code",
   "execution_count": 480,
   "id": "b461594c",
   "metadata": {},
   "outputs": [
    {
     "data": {
      "application/javascript": [
       "\n",
       "            setTimeout(function() {\n",
       "                var nbb_cell_id = 480;\n",
       "                var nbb_unformatted_code = \"def search_for_confidence_cutoff(ppi, targets, uncertainty=\\\"cost\\\"):\\n    n_edges = []\\n    avg_degrees = []\\n    n_nodes = []\\n    n_targets = []\\n    cutoffs = list(np.arange(0, 1, 0.001))\\n    ppi_edge_list = nx.to_pandas_edgelist(ppi)\\n    for cutoff in tqdm(cutoffs):\\n        graph = nx.from_pandas_edgelist(\\n            ppi_edge_list.loc[ppi_edge_list[\\\"cost\\\"] < cutoff, :],\\n        )\\n        n_edges.append(len(graph.edges()))\\n        n_nodes.append(len(graph.nodes()))\\n        n_targets.append(len((targets).intersection(set(list((graph.nodes()))))))\\n        degrees = [val for (node, val) in graph.degree()]\\n        if len(graph.nodes()) > 0:\\n            avg_degrees.append(sum(degrees) / len(graph.nodes()))\\n        else:\\n            avg_degrees.append(0)\\n    edge_cost_overview = pd.DataFrame.from_dict(\\n        {\\n            \\\"cutoff\\\": cutoffs,\\n            \\\"n_nodes\\\": n_nodes,\\n            \\\"n_targets\\\": n_targets,\\n            \\\"n_edges\\\": n_edges,\\n            \\\"avg_degree\\\": avg_degrees,\\n        }\\n    )\\n    return edge_cost_overview\";\n",
       "                var nbb_formatted_code = \"def search_for_confidence_cutoff(ppi, targets, uncertainty=\\\"cost\\\"):\\n    n_edges = []\\n    avg_degrees = []\\n    n_nodes = []\\n    n_targets = []\\n    cutoffs = list(np.arange(0, 1, 0.001))\\n    ppi_edge_list = nx.to_pandas_edgelist(ppi)\\n    for cutoff in tqdm(cutoffs):\\n        graph = nx.from_pandas_edgelist(\\n            ppi_edge_list.loc[ppi_edge_list[\\\"cost\\\"] < cutoff, :],\\n        )\\n        n_edges.append(len(graph.edges()))\\n        n_nodes.append(len(graph.nodes()))\\n        n_targets.append(len((targets).intersection(set(list((graph.nodes()))))))\\n        degrees = [val for (node, val) in graph.degree()]\\n        if len(graph.nodes()) > 0:\\n            avg_degrees.append(sum(degrees) / len(graph.nodes()))\\n        else:\\n            avg_degrees.append(0)\\n    edge_cost_overview = pd.DataFrame.from_dict(\\n        {\\n            \\\"cutoff\\\": cutoffs,\\n            \\\"n_nodes\\\": n_nodes,\\n            \\\"n_targets\\\": n_targets,\\n            \\\"n_edges\\\": n_edges,\\n            \\\"avg_degree\\\": avg_degrees,\\n        }\\n    )\\n    return edge_cost_overview\";\n",
       "                var nbb_cells = Jupyter.notebook.get_cells();\n",
       "                for (var i = 0; i < nbb_cells.length; ++i) {\n",
       "                    if (nbb_cells[i].input_prompt_number == nbb_cell_id) {\n",
       "                        if (nbb_cells[i].get_text() == nbb_unformatted_code) {\n",
       "                             nbb_cells[i].set_text(nbb_formatted_code);\n",
       "                        }\n",
       "                        break;\n",
       "                    }\n",
       "                }\n",
       "            }, 500);\n",
       "            "
      ],
      "text/plain": [
       "<IPython.core.display.Javascript object>"
      ]
     },
     "metadata": {},
     "output_type": "display_data"
    }
   ],
   "source": [
    "def search_for_confidence_cutoff(ppi, targets, uncertainty=\"cost\"):\n",
    "    n_edges = []\n",
    "    avg_degrees = []\n",
    "    n_nodes = []\n",
    "    n_targets = []\n",
    "    cutoffs = list(np.arange(0, 1, 0.001))\n",
    "    ppi_edge_list = nx.to_pandas_edgelist(ppi)\n",
    "    for cutoff in tqdm(cutoffs):\n",
    "        graph = nx.from_pandas_edgelist(\n",
    "            ppi_edge_list.loc[ppi_edge_list[\"cost\"] < cutoff, :],\n",
    "        )\n",
    "        n_edges.append(len(graph.edges()))\n",
    "        n_nodes.append(len(graph.nodes()))\n",
    "        n_targets.append(len((targets).intersection(set(list((graph.nodes()))))))\n",
    "        degrees = [val for (node, val) in graph.degree()]\n",
    "        if len(graph.nodes()) > 0:\n",
    "            avg_degrees.append(sum(degrees) / len(graph.nodes()))\n",
    "        else:\n",
    "            avg_degrees.append(0)\n",
    "    edge_cost_overview = pd.DataFrame.from_dict(\n",
    "        {\n",
    "            \"cutoff\": cutoffs,\n",
    "            \"n_nodes\": n_nodes,\n",
    "            \"n_targets\": n_targets,\n",
    "            \"n_edges\": n_edges,\n",
    "            \"avg_degree\": avg_degrees,\n",
    "        }\n",
    "    )\n",
    "    return edge_cost_overview"
   ]
  },
  {
   "cell_type": "code",
   "execution_count": 593,
   "id": "76ffb0b0",
   "metadata": {},
   "outputs": [
    {
     "data": {
      "application/javascript": [
       "\n",
       "            setTimeout(function() {\n",
       "                var nbb_cell_id = 593;\n",
       "                var nbb_unformatted_code = \"def compute_bootstrap_p(x, y, metric, b=1000, random_state=1234):\\n    np.random.seed(random_state)\\n    bootstrap_metrics = []\\n    if metric == \\\"pearson\\\":\\n        sample_metric = pearsonr(x, y)[0]\\n    elif metric == \\\"spearman\\\":\\n        sample_metric = spearmanr(x, y)[0]\\n    else:\\n        raise NotImplementedError(\\\"Unknown metric provided: {}\\\".format(metric))\\n    for i in range(b):\\n        x_boot = np.random.choice(x, size=len(x), replace=True)\\n        y_boot = np.random.choice(y, size=len(y), replace=True)\\n        if metric == \\\"pearson\\\":\\n            bootstrap_metric = pearsonr(x_boot, y_boot)[0]\\n        elif metric == \\\"spearman\\\":\\n            bootstrap_metric = spearmanr(x_boot, y_boot)[0]\\n        else:\\n            raise NotImplementedError(\\\"Unknown metric provided: {}\\\".format(metric))\\n        bootstrap_metrics.append(bootstrap_metric)\\n    p_boot = (1 / b) * np.sum(bootstrap_metrics <= sample_metric)\\n    return p_boot\";\n",
       "                var nbb_formatted_code = \"def compute_bootstrap_p(x, y, metric, b=1000, random_state=1234):\\n    np.random.seed(random_state)\\n    bootstrap_metrics = []\\n    if metric == \\\"pearson\\\":\\n        sample_metric = pearsonr(x, y)[0]\\n    elif metric == \\\"spearman\\\":\\n        sample_metric = spearmanr(x, y)[0]\\n    else:\\n        raise NotImplementedError(\\\"Unknown metric provided: {}\\\".format(metric))\\n    for i in range(b):\\n        x_boot = np.random.choice(x, size=len(x), replace=True)\\n        y_boot = np.random.choice(y, size=len(y), replace=True)\\n        if metric == \\\"pearson\\\":\\n            bootstrap_metric = pearsonr(x_boot, y_boot)[0]\\n        elif metric == \\\"spearman\\\":\\n            bootstrap_metric = spearmanr(x_boot, y_boot)[0]\\n        else:\\n            raise NotImplementedError(\\\"Unknown metric provided: {}\\\".format(metric))\\n        bootstrap_metrics.append(bootstrap_metric)\\n    p_boot = (1 / b) * np.sum(bootstrap_metrics <= sample_metric)\\n    return p_boot\";\n",
       "                var nbb_cells = Jupyter.notebook.get_cells();\n",
       "                for (var i = 0; i < nbb_cells.length; ++i) {\n",
       "                    if (nbb_cells[i].input_prompt_number == nbb_cell_id) {\n",
       "                        if (nbb_cells[i].get_text() == nbb_unformatted_code) {\n",
       "                             nbb_cells[i].set_text(nbb_formatted_code);\n",
       "                        }\n",
       "                        break;\n",
       "                    }\n",
       "                }\n",
       "            }, 500);\n",
       "            "
      ],
      "text/plain": [
       "<IPython.core.display.Javascript object>"
      ]
     },
     "metadata": {},
     "output_type": "display_data"
    }
   ],
   "source": [
    "def compute_bootstrap_p(x, y, metric, b=1000, random_state=1234):\n",
    "    np.random.seed(random_state)\n",
    "    bootstrap_metrics = []\n",
    "    if metric == \"pearson\":\n",
    "        sample_metric = pearsonr(x, y)[0]\n",
    "    elif metric == \"spearman\":\n",
    "        sample_metric = spearmanr(x, y)[0]\n",
    "    else:\n",
    "        raise NotImplementedError(\"Unknown metric provided: {}\".format(metric))\n",
    "    for i in range(b):\n",
    "        x_boot = np.random.choice(x, size=len(x), replace=True)\n",
    "        y_boot = np.random.choice(y, size=len(y), replace=True)\n",
    "        if metric == \"pearson\":\n",
    "            bootstrap_metric = pearsonr(x_boot, y_boot)[0]\n",
    "        elif metric == \"spearman\":\n",
    "            bootstrap_metric = spearmanr(x_boot, y_boot)[0]\n",
    "        else:\n",
    "            raise NotImplementedError(\"Unknown metric provided: {}\".format(metric))\n",
    "        bootstrap_metrics.append(bootstrap_metric)\n",
    "    p_boot = (1 / b) * np.sum(bootstrap_metrics <= sample_metric)\n",
    "    return p_boot"
   ]
  },
  {
   "cell_type": "code",
   "execution_count": null,
   "id": "aa97f5de",
   "metadata": {},
   "outputs": [],
   "source": [
    "def compute_mi_score(x, y, bins):\n",
    "    c_xy = np.histogram2d(x, y, bins)[0]\n",
    "    mi = mutual_info_score(None, None, contingency=c_xy)\n",
    "    return mi"
   ]
  },
  {
   "cell_type": "code",
   "execution_count": 751,
   "id": "f17b6a74",
   "metadata": {},
   "outputs": [
    {
     "data": {
      "application/javascript": [
       "\n",
       "            setTimeout(function() {\n",
       "                var nbb_cell_id = 751;\n",
       "                var nbb_unformatted_code = \"def compute_edge_weights(\\n    ppi,\\n    data,\\n    metrics=[\\\"pearsonr\\\", \\\"spearmanr\\\", \\\"mi\\\", \\\"pearsonp\\\", \\\"spearmanp\\\", \\\"mip\\\"],\\n    b=1000,\\n    random_state=1234,\\n):\\n    for metric in metrics:\\n        for (u, v) in tqdm(\\n            ppi.edges(), desc=\\\"Compute edge weights for {}\\\".format(metric)\\n        ):\\n            x = np.array(data.loc[:, u])\\n            y = np.array(data.loc[:, v])\\n            if metric == \\\"pearsonr\\\":\\n                association = pearsonr(x, y)[0]\\n                cost = 1 - np.abs(association)\\n            elif metric == \\\"spearmanr\\\":\\n                association = spearmanr(x, y)[0]\\n                cost = 1 - np.abs(association)\\n            elif metric == \\\"mi\\\":\\n                cost = compute_mi_score(x, y, 100)\\n            elif metric == \\\"pearsonp\\\":\\n                association = compute_bootstrap_p(\\n                    x, y, metric=\\\"pearson\\\", b=b, random_state=random_state\\n                )\\n                cost = association\\n            elif metric == \\\"spearmanp\\\":\\n                association = compute_bootstrap_p(\\n                    x, y, metric=\\\"spearman\\\", b=b, random_state=random_state\\n                )\\n                cost = association\\n            elif metric == \\\"mip\\\":\\n                cost = -1\\n            else:\\n                raise NotImplementedError(\\\"Unknown metric provided: {}\\\".format(metric))\\n            ppi.edges[u, v][metric] = cost\\n    return ppi\";\n",
       "                var nbb_formatted_code = \"def compute_edge_weights(\\n    ppi,\\n    data,\\n    metrics=[\\\"pearsonr\\\", \\\"spearmanr\\\", \\\"mi\\\", \\\"pearsonp\\\", \\\"spearmanp\\\", \\\"mip\\\"],\\n    b=1000,\\n    random_state=1234,\\n):\\n    for metric in metrics:\\n        for (u, v) in tqdm(\\n            ppi.edges(), desc=\\\"Compute edge weights for {}\\\".format(metric)\\n        ):\\n            x = np.array(data.loc[:, u])\\n            y = np.array(data.loc[:, v])\\n            if metric == \\\"pearsonr\\\":\\n                association = pearsonr(x, y)[0]\\n                cost = 1 - np.abs(association)\\n            elif metric == \\\"spearmanr\\\":\\n                association = spearmanr(x, y)[0]\\n                cost = 1 - np.abs(association)\\n            elif metric == \\\"mi\\\":\\n                cost = compute_mi_score(x, y, 100)\\n            elif metric == \\\"pearsonp\\\":\\n                association = compute_bootstrap_p(\\n                    x, y, metric=\\\"pearson\\\", b=b, random_state=random_state\\n                )\\n                cost = association\\n            elif metric == \\\"spearmanp\\\":\\n                association = compute_bootstrap_p(\\n                    x, y, metric=\\\"spearman\\\", b=b, random_state=random_state\\n                )\\n                cost = association\\n            elif metric == \\\"mip\\\":\\n                cost = -1\\n            else:\\n                raise NotImplementedError(\\\"Unknown metric provided: {}\\\".format(metric))\\n            ppi.edges[u, v][metric] = cost\\n    return ppi\";\n",
       "                var nbb_cells = Jupyter.notebook.get_cells();\n",
       "                for (var i = 0; i < nbb_cells.length; ++i) {\n",
       "                    if (nbb_cells[i].input_prompt_number == nbb_cell_id) {\n",
       "                        if (nbb_cells[i].get_text() == nbb_unformatted_code) {\n",
       "                             nbb_cells[i].set_text(nbb_formatted_code);\n",
       "                        }\n",
       "                        break;\n",
       "                    }\n",
       "                }\n",
       "            }, 500);\n",
       "            "
      ],
      "text/plain": [
       "<IPython.core.display.Javascript object>"
      ]
     },
     "metadata": {},
     "output_type": "display_data"
    }
   ],
   "source": [
    "def compute_edge_weights(\n",
    "    ppi,\n",
    "    data,\n",
    "    metrics=[\"pearsonr\", \"spearmanr\", \"mi\", \"pearsonp\", \"spearmanp\", \"mip\"],\n",
    "    b=1000,\n",
    "    random_state=1234,\n",
    "):\n",
    "    for metric in metrics:\n",
    "        for (u, v) in tqdm(\n",
    "            ppi.edges(), desc=\"Compute edge weights for {}\".format(metric)\n",
    "        ):\n",
    "            x = np.array(data.loc[:, u])\n",
    "            y = np.array(data.loc[:, v])\n",
    "            if metric == \"pearsonr\":\n",
    "                association = pearsonr(x, y)[0]\n",
    "                cost = 1 - np.abs(association)\n",
    "            elif metric == \"spearmanr\":\n",
    "                association = spearmanr(x, y)[0]\n",
    "                cost = 1 - np.abs(association)\n",
    "            elif metric == \"mi\":\n",
    "                cost = compute_mi_score(x, y, 100)\n",
    "            elif metric == \"pearsonp\":\n",
    "                association = compute_bootstrap_p(\n",
    "                    x, y, metric=\"pearson\", b=b, random_state=random_state\n",
    "                )\n",
    "                cost = association\n",
    "            elif metric == \"spearmanp\":\n",
    "                association = compute_bootstrap_p(\n",
    "                    x, y, metric=\"spearman\", b=b, random_state=random_state\n",
    "                )\n",
    "                cost = association\n",
    "            elif metric == \"mip\":\n",
    "                cost = -1\n",
    "            else:\n",
    "                raise NotImplementedError(\"Unknown metric provided: {}\".format(metric))\n",
    "            ppi.edges[u, v][metric] = cost\n",
    "    return ppi"
   ]
  },
  {
   "cell_type": "markdown",
   "id": "b3bf4c3a",
   "metadata": {},
   "source": [
    "---\n",
    "\n",
    "## 1. Read in data"
   ]
  },
  {
   "cell_type": "markdown",
   "id": "171322b3",
   "metadata": {},
   "source": [
    "We will read in a number of different data sets that we will use for our analyses: a) the single-cell gene expression data from Mahdessian et al. (2021), b) the most recent version of the CCLE expression data set, c) the list of ORF gene targets from the study by Rohban et al. (2017) and finally d) the Human PPI network as defined by the iRefIndexDB v14."
   ]
  },
  {
   "cell_type": "code",
   "execution_count": 482,
   "id": "7dda020d",
   "metadata": {},
   "outputs": [
    {
     "data": {
      "text/html": [
       "<div>\n",
       "<style scoped>\n",
       "    .dataframe tbody tr th:only-of-type {\n",
       "        vertical-align: middle;\n",
       "    }\n",
       "\n",
       "    .dataframe tbody tr th {\n",
       "        vertical-align: top;\n",
       "    }\n",
       "\n",
       "    .dataframe thead th {\n",
       "        text-align: right;\n",
       "    }\n",
       "</style>\n",
       "<table border=\"1\" class=\"dataframe\">\n",
       "  <thead>\n",
       "    <tr style=\"text-align: right;\">\n",
       "      <th></th>\n",
       "      <th>TSPAN6</th>\n",
       "      <th>DPM1</th>\n",
       "      <th>SCYL3</th>\n",
       "      <th>C1ORF112</th>\n",
       "      <th>CFH</th>\n",
       "      <th>FUCA2</th>\n",
       "      <th>GCLC</th>\n",
       "      <th>NFYA</th>\n",
       "      <th>STPG1</th>\n",
       "      <th>NIPAL3</th>\n",
       "      <th>...</th>\n",
       "      <th>NOTCH2NLR</th>\n",
       "      <th>SPDYE14</th>\n",
       "      <th>DERPC</th>\n",
       "      <th>BMS1P23</th>\n",
       "      <th>LOC107986257</th>\n",
       "      <th>LOC728392</th>\n",
       "      <th>NOTCH2NLC</th>\n",
       "      <th>SPDYE11</th>\n",
       "      <th>ARMCX5-GPRASP2</th>\n",
       "      <th>LOC114841035</th>\n",
       "    </tr>\n",
       "  </thead>\n",
       "  <tbody>\n",
       "    <tr>\n",
       "      <th>A10_355</th>\n",
       "      <td>4.084212</td>\n",
       "      <td>4.450537</td>\n",
       "      <td>2.539949</td>\n",
       "      <td>3.306074</td>\n",
       "      <td>0.0</td>\n",
       "      <td>3.924660</td>\n",
       "      <td>2.747193</td>\n",
       "      <td>3.980721</td>\n",
       "      <td>3.192863</td>\n",
       "      <td>3.306074</td>\n",
       "      <td>...</td>\n",
       "      <td>0.000000</td>\n",
       "      <td>0.0</td>\n",
       "      <td>0.000000</td>\n",
       "      <td>0.000000</td>\n",
       "      <td>0.000000</td>\n",
       "      <td>0.0</td>\n",
       "      <td>3.111745</td>\n",
       "      <td>0.000000</td>\n",
       "      <td>0.0</td>\n",
       "      <td>0.0</td>\n",
       "    </tr>\n",
       "    <tr>\n",
       "      <th>A10_356</th>\n",
       "      <td>4.416176</td>\n",
       "      <td>3.408068</td>\n",
       "      <td>0.000000</td>\n",
       "      <td>3.341437</td>\n",
       "      <td>0.0</td>\n",
       "      <td>3.109879</td>\n",
       "      <td>3.637463</td>\n",
       "      <td>2.683064</td>\n",
       "      <td>2.919073</td>\n",
       "      <td>4.264037</td>\n",
       "      <td>...</td>\n",
       "      <td>0.000000</td>\n",
       "      <td>0.0</td>\n",
       "      <td>2.540241</td>\n",
       "      <td>2.038441</td>\n",
       "      <td>1.584074</td>\n",
       "      <td>0.0</td>\n",
       "      <td>0.328890</td>\n",
       "      <td>1.336015</td>\n",
       "      <td>0.0</td>\n",
       "      <td>0.0</td>\n",
       "    </tr>\n",
       "    <tr>\n",
       "      <th>A10_357</th>\n",
       "      <td>2.784883</td>\n",
       "      <td>4.266762</td>\n",
       "      <td>0.000000</td>\n",
       "      <td>3.756405</td>\n",
       "      <td>0.0</td>\n",
       "      <td>4.676425</td>\n",
       "      <td>4.027002</td>\n",
       "      <td>4.154050</td>\n",
       "      <td>3.560914</td>\n",
       "      <td>4.211993</td>\n",
       "      <td>...</td>\n",
       "      <td>3.527433</td>\n",
       "      <td>0.0</td>\n",
       "      <td>3.144496</td>\n",
       "      <td>0.000000</td>\n",
       "      <td>0.000000</td>\n",
       "      <td>0.0</td>\n",
       "      <td>3.733050</td>\n",
       "      <td>0.000000</td>\n",
       "      <td>0.0</td>\n",
       "      <td>0.0</td>\n",
       "    </tr>\n",
       "    <tr>\n",
       "      <th>A11_355</th>\n",
       "      <td>3.995154</td>\n",
       "      <td>4.196535</td>\n",
       "      <td>1.325398</td>\n",
       "      <td>3.543870</td>\n",
       "      <td>0.0</td>\n",
       "      <td>3.015254</td>\n",
       "      <td>3.015254</td>\n",
       "      <td>4.159373</td>\n",
       "      <td>0.000000</td>\n",
       "      <td>3.481722</td>\n",
       "      <td>...</td>\n",
       "      <td>0.000000</td>\n",
       "      <td>0.0</td>\n",
       "      <td>3.219861</td>\n",
       "      <td>1.930217</td>\n",
       "      <td>0.000000</td>\n",
       "      <td>0.0</td>\n",
       "      <td>2.597980</td>\n",
       "      <td>1.435097</td>\n",
       "      <td>0.0</td>\n",
       "      <td>0.0</td>\n",
       "    </tr>\n",
       "    <tr>\n",
       "      <th>A11_356</th>\n",
       "      <td>5.384314</td>\n",
       "      <td>3.358004</td>\n",
       "      <td>2.851447</td>\n",
       "      <td>2.519226</td>\n",
       "      <td>0.0</td>\n",
       "      <td>4.309559</td>\n",
       "      <td>3.807653</td>\n",
       "      <td>3.807653</td>\n",
       "      <td>3.843228</td>\n",
       "      <td>3.843228</td>\n",
       "      <td>...</td>\n",
       "      <td>0.000000</td>\n",
       "      <td>0.0</td>\n",
       "      <td>3.926349</td>\n",
       "      <td>0.000000</td>\n",
       "      <td>0.000000</td>\n",
       "      <td>0.0</td>\n",
       "      <td>0.000000</td>\n",
       "      <td>1.948682</td>\n",
       "      <td>0.0</td>\n",
       "      <td>0.0</td>\n",
       "    </tr>\n",
       "  </tbody>\n",
       "</table>\n",
       "<p>5 rows × 21445 columns</p>\n",
       "</div>"
      ],
      "text/plain": [
       "           TSPAN6      DPM1     SCYL3  C1ORF112  CFH     FUCA2      GCLC  \\\n",
       "A10_355  4.084212  4.450537  2.539949  3.306074  0.0  3.924660  2.747193   \n",
       "A10_356  4.416176  3.408068  0.000000  3.341437  0.0  3.109879  3.637463   \n",
       "A10_357  2.784883  4.266762  0.000000  3.756405  0.0  4.676425  4.027002   \n",
       "A11_355  3.995154  4.196535  1.325398  3.543870  0.0  3.015254  3.015254   \n",
       "A11_356  5.384314  3.358004  2.851447  2.519226  0.0  4.309559  3.807653   \n",
       "\n",
       "             NFYA     STPG1    NIPAL3  ...  NOTCH2NLR  SPDYE14     DERPC  \\\n",
       "A10_355  3.980721  3.192863  3.306074  ...   0.000000      0.0  0.000000   \n",
       "A10_356  2.683064  2.919073  4.264037  ...   0.000000      0.0  2.540241   \n",
       "A10_357  4.154050  3.560914  4.211993  ...   3.527433      0.0  3.144496   \n",
       "A11_355  4.159373  0.000000  3.481722  ...   0.000000      0.0  3.219861   \n",
       "A11_356  3.807653  3.843228  3.843228  ...   0.000000      0.0  3.926349   \n",
       "\n",
       "          BMS1P23  LOC107986257  LOC728392  NOTCH2NLC   SPDYE11  \\\n",
       "A10_355  0.000000      0.000000        0.0   3.111745  0.000000   \n",
       "A10_356  2.038441      1.584074        0.0   0.328890  1.336015   \n",
       "A10_357  0.000000      0.000000        0.0   3.733050  0.000000   \n",
       "A11_355  1.930217      0.000000        0.0   2.597980  1.435097   \n",
       "A11_356  0.000000      0.000000        0.0   0.000000  1.948682   \n",
       "\n",
       "         ARMCX5-GPRASP2  LOC114841035  \n",
       "A10_355             0.0           0.0  \n",
       "A10_356             0.0           0.0  \n",
       "A10_357             0.0           0.0  \n",
       "A11_355             0.0           0.0  \n",
       "A11_356             0.0           0.0  \n",
       "\n",
       "[5 rows x 21445 columns]"
      ]
     },
     "execution_count": 482,
     "metadata": {},
     "output_type": "execute_result"
    },
    {
     "data": {
      "application/javascript": [
       "\n",
       "            setTimeout(function() {\n",
       "                var nbb_cell_id = 482;\n",
       "                var nbb_unformatted_code = \"fucci_adata = sc.read(\\\"../../data/gex/fucci_adata.h5\\\")\\nfucci_adata.var_names_make_unique()\\nfucci_data = pd.DataFrame(\\n    fucci_adata.X, columns=fucci_adata.var_names, index=fucci_adata.obs_names\\n)\\nfucci_data.columns = [c.upper() for c in fucci_data.columns]\\nfucci_data.head()\";\n",
       "                var nbb_formatted_code = \"fucci_adata = sc.read(\\\"../../data/gex/fucci_adata.h5\\\")\\nfucci_adata.var_names_make_unique()\\nfucci_data = pd.DataFrame(\\n    fucci_adata.X, columns=fucci_adata.var_names, index=fucci_adata.obs_names\\n)\\nfucci_data.columns = [c.upper() for c in fucci_data.columns]\\nfucci_data.head()\";\n",
       "                var nbb_cells = Jupyter.notebook.get_cells();\n",
       "                for (var i = 0; i < nbb_cells.length; ++i) {\n",
       "                    if (nbb_cells[i].input_prompt_number == nbb_cell_id) {\n",
       "                        if (nbb_cells[i].get_text() == nbb_unformatted_code) {\n",
       "                             nbb_cells[i].set_text(nbb_formatted_code);\n",
       "                        }\n",
       "                        break;\n",
       "                    }\n",
       "                }\n",
       "            }, 500);\n",
       "            "
      ],
      "text/plain": [
       "<IPython.core.display.Javascript object>"
      ]
     },
     "metadata": {},
     "output_type": "display_data"
    }
   ],
   "source": [
    "fucci_adata = sc.read(\"../../data/gex/fucci_adata.h5\")\n",
    "fucci_adata.var_names_make_unique()\n",
    "fucci_data = pd.DataFrame(\n",
    "    fucci_adata.X, columns=fucci_adata.var_names, index=fucci_adata.obs_names\n",
    ")\n",
    "fucci_data.columns = [c.upper() for c in fucci_data.columns]\n",
    "fucci_data.head()"
   ]
  },
  {
   "cell_type": "code",
   "execution_count": 483,
   "id": "09075d2a",
   "metadata": {},
   "outputs": [
    {
     "data": {
      "application/javascript": [
       "\n",
       "            setTimeout(function() {\n",
       "                var nbb_cell_id = 483;\n",
       "                var nbb_unformatted_code = \"fucci_gene_set = set(fucci_data.columns)\";\n",
       "                var nbb_formatted_code = \"fucci_gene_set = set(fucci_data.columns)\";\n",
       "                var nbb_cells = Jupyter.notebook.get_cells();\n",
       "                for (var i = 0; i < nbb_cells.length; ++i) {\n",
       "                    if (nbb_cells[i].input_prompt_number == nbb_cell_id) {\n",
       "                        if (nbb_cells[i].get_text() == nbb_unformatted_code) {\n",
       "                             nbb_cells[i].set_text(nbb_formatted_code);\n",
       "                        }\n",
       "                        break;\n",
       "                    }\n",
       "                }\n",
       "            }, 500);\n",
       "            "
      ],
      "text/plain": [
       "<IPython.core.display.Javascript object>"
      ]
     },
     "metadata": {},
     "output_type": "display_data"
    }
   ],
   "source": [
    "fucci_gene_set = set(fucci_data.columns)"
   ]
  },
  {
   "cell_type": "markdown",
   "id": "6be95af4",
   "metadata": {},
   "source": [
    "The single-cell gene expression data from MAhdessian et al. (2021) to which we in the following refer to as FUCCI data set consists of 1'126 cells a 21'445."
   ]
  },
  {
   "cell_type": "code",
   "execution_count": 484,
   "id": "3099b325",
   "metadata": {},
   "outputs": [
    {
     "data": {
      "text/html": [
       "<div>\n",
       "<style scoped>\n",
       "    .dataframe tbody tr th:only-of-type {\n",
       "        vertical-align: middle;\n",
       "    }\n",
       "\n",
       "    .dataframe tbody tr th {\n",
       "        vertical-align: top;\n",
       "    }\n",
       "\n",
       "    .dataframe thead th {\n",
       "        text-align: right;\n",
       "    }\n",
       "</style>\n",
       "<table border=\"1\" class=\"dataframe\">\n",
       "  <thead>\n",
       "    <tr style=\"text-align: right;\">\n",
       "      <th></th>\n",
       "      <th>TSPAN6</th>\n",
       "      <th>TNMD</th>\n",
       "      <th>DPM1</th>\n",
       "      <th>SCYL3</th>\n",
       "      <th>C1ORF112</th>\n",
       "      <th>FGR</th>\n",
       "      <th>CFH</th>\n",
       "      <th>FUCA2</th>\n",
       "      <th>GCLC</th>\n",
       "      <th>NFYA</th>\n",
       "      <th>...</th>\n",
       "      <th>ARHGAP11B</th>\n",
       "      <th>AC004593.2</th>\n",
       "      <th>AC090517.4</th>\n",
       "      <th>AL160269.1</th>\n",
       "      <th>ABCF2-H2BE1</th>\n",
       "      <th>POLR2J3</th>\n",
       "      <th>H2BE1</th>\n",
       "      <th>AL445238.1</th>\n",
       "      <th>GET1-SH3BGR</th>\n",
       "      <th>AC113348.1</th>\n",
       "    </tr>\n",
       "    <tr>\n",
       "      <th>stripped_cell_line_name</th>\n",
       "      <th></th>\n",
       "      <th></th>\n",
       "      <th></th>\n",
       "      <th></th>\n",
       "      <th></th>\n",
       "      <th></th>\n",
       "      <th></th>\n",
       "      <th></th>\n",
       "      <th></th>\n",
       "      <th></th>\n",
       "      <th></th>\n",
       "      <th></th>\n",
       "      <th></th>\n",
       "      <th></th>\n",
       "      <th></th>\n",
       "      <th></th>\n",
       "      <th></th>\n",
       "      <th></th>\n",
       "      <th></th>\n",
       "      <th></th>\n",
       "      <th></th>\n",
       "    </tr>\n",
       "  </thead>\n",
       "  <tbody>\n",
       "    <tr>\n",
       "      <th>PA1</th>\n",
       "      <td>6.319401</td>\n",
       "      <td>1.130931</td>\n",
       "      <td>7.250867</td>\n",
       "      <td>2.336283</td>\n",
       "      <td>4.356848</td>\n",
       "      <td>0.028569</td>\n",
       "      <td>0.097611</td>\n",
       "      <td>6.041769</td>\n",
       "      <td>4.078097</td>\n",
       "      <td>4.105175</td>\n",
       "      <td>...</td>\n",
       "      <td>1.580145</td>\n",
       "      <td>0.084064</td>\n",
       "      <td>0.042644</td>\n",
       "      <td>0.000000</td>\n",
       "      <td>0.000000</td>\n",
       "      <td>4.431623</td>\n",
       "      <td>0.000000</td>\n",
       "      <td>0.042644</td>\n",
       "      <td>0.422233</td>\n",
       "      <td>0.000000</td>\n",
       "    </tr>\n",
       "    <tr>\n",
       "      <th>NCIH522</th>\n",
       "      <td>5.980711</td>\n",
       "      <td>0.000000</td>\n",
       "      <td>6.694741</td>\n",
       "      <td>2.643856</td>\n",
       "      <td>4.342697</td>\n",
       "      <td>0.070389</td>\n",
       "      <td>0.014355</td>\n",
       "      <td>0.604071</td>\n",
       "      <td>4.841973</td>\n",
       "      <td>4.702658</td>\n",
       "      <td>...</td>\n",
       "      <td>1.673556</td>\n",
       "      <td>0.028569</td>\n",
       "      <td>0.111031</td>\n",
       "      <td>0.536053</td>\n",
       "      <td>2.899176</td>\n",
       "      <td>3.619413</td>\n",
       "      <td>0.000000</td>\n",
       "      <td>0.000000</td>\n",
       "      <td>0.226509</td>\n",
       "      <td>0.014355</td>\n",
       "    </tr>\n",
       "    <tr>\n",
       "      <th>OVCAR4</th>\n",
       "      <td>4.947199</td>\n",
       "      <td>0.201634</td>\n",
       "      <td>6.754353</td>\n",
       "      <td>1.599318</td>\n",
       "      <td>3.694880</td>\n",
       "      <td>0.014355</td>\n",
       "      <td>0.632268</td>\n",
       "      <td>4.953265</td>\n",
       "      <td>3.763412</td>\n",
       "      <td>3.519793</td>\n",
       "      <td>...</td>\n",
       "      <td>1.405992</td>\n",
       "      <td>0.226509</td>\n",
       "      <td>0.056584</td>\n",
       "      <td>0.028569</td>\n",
       "      <td>3.075533</td>\n",
       "      <td>6.315965</td>\n",
       "      <td>0.000000</td>\n",
       "      <td>0.000000</td>\n",
       "      <td>1.207893</td>\n",
       "      <td>0.000000</td>\n",
       "    </tr>\n",
       "    <tr>\n",
       "      <th>MKN1</th>\n",
       "      <td>4.614121</td>\n",
       "      <td>0.000000</td>\n",
       "      <td>8.070443</td>\n",
       "      <td>2.356144</td>\n",
       "      <td>4.105175</td>\n",
       "      <td>1.641546</td>\n",
       "      <td>0.344828</td>\n",
       "      <td>6.004501</td>\n",
       "      <td>4.624686</td>\n",
       "      <td>4.126808</td>\n",
       "      <td>...</td>\n",
       "      <td>1.137504</td>\n",
       "      <td>0.176323</td>\n",
       "      <td>0.097611</td>\n",
       "      <td>0.084064</td>\n",
       "      <td>3.888500</td>\n",
       "      <td>6.539779</td>\n",
       "      <td>0.000000</td>\n",
       "      <td>0.097611</td>\n",
       "      <td>0.163499</td>\n",
       "      <td>0.000000</td>\n",
       "    </tr>\n",
       "    <tr>\n",
       "      <th>REC1</th>\n",
       "      <td>0.545968</td>\n",
       "      <td>0.000000</td>\n",
       "      <td>5.832131</td>\n",
       "      <td>3.247928</td>\n",
       "      <td>3.442280</td>\n",
       "      <td>3.988230</td>\n",
       "      <td>0.137504</td>\n",
       "      <td>0.344828</td>\n",
       "      <td>4.867402</td>\n",
       "      <td>4.477677</td>\n",
       "      <td>...</td>\n",
       "      <td>1.744161</td>\n",
       "      <td>0.000000</td>\n",
       "      <td>0.000000</td>\n",
       "      <td>0.000000</td>\n",
       "      <td>4.043519</td>\n",
       "      <td>5.456149</td>\n",
       "      <td>0.084064</td>\n",
       "      <td>0.000000</td>\n",
       "      <td>0.411426</td>\n",
       "      <td>0.000000</td>\n",
       "    </tr>\n",
       "  </tbody>\n",
       "</table>\n",
       "<p>5 rows × 19177 columns</p>\n",
       "</div>"
      ],
      "text/plain": [
       "                           TSPAN6      TNMD      DPM1     SCYL3  C1ORF112  \\\n",
       "stripped_cell_line_name                                                     \n",
       "PA1                      6.319401  1.130931  7.250867  2.336283  4.356848   \n",
       "NCIH522                  5.980711  0.000000  6.694741  2.643856  4.342697   \n",
       "OVCAR4                   4.947199  0.201634  6.754353  1.599318  3.694880   \n",
       "MKN1                     4.614121  0.000000  8.070443  2.356144  4.105175   \n",
       "REC1                     0.545968  0.000000  5.832131  3.247928  3.442280   \n",
       "\n",
       "                              FGR       CFH     FUCA2      GCLC      NFYA  \\\n",
       "stripped_cell_line_name                                                     \n",
       "PA1                      0.028569  0.097611  6.041769  4.078097  4.105175   \n",
       "NCIH522                  0.070389  0.014355  0.604071  4.841973  4.702658   \n",
       "OVCAR4                   0.014355  0.632268  4.953265  3.763412  3.519793   \n",
       "MKN1                     1.641546  0.344828  6.004501  4.624686  4.126808   \n",
       "REC1                     3.988230  0.137504  0.344828  4.867402  4.477677   \n",
       "\n",
       "                         ...  ARHGAP11B  AC004593.2  AC090517.4  AL160269.1  \\\n",
       "stripped_cell_line_name  ...                                                  \n",
       "PA1                      ...   1.580145    0.084064    0.042644    0.000000   \n",
       "NCIH522                  ...   1.673556    0.028569    0.111031    0.536053   \n",
       "OVCAR4                   ...   1.405992    0.226509    0.056584    0.028569   \n",
       "MKN1                     ...   1.137504    0.176323    0.097611    0.084064   \n",
       "REC1                     ...   1.744161    0.000000    0.000000    0.000000   \n",
       "\n",
       "                         ABCF2-H2BE1   POLR2J3     H2BE1  AL445238.1  \\\n",
       "stripped_cell_line_name                                                \n",
       "PA1                         0.000000  4.431623  0.000000    0.042644   \n",
       "NCIH522                     2.899176  3.619413  0.000000    0.000000   \n",
       "OVCAR4                      3.075533  6.315965  0.000000    0.000000   \n",
       "MKN1                        3.888500  6.539779  0.000000    0.097611   \n",
       "REC1                        4.043519  5.456149  0.084064    0.000000   \n",
       "\n",
       "                         GET1-SH3BGR  AC113348.1  \n",
       "stripped_cell_line_name                           \n",
       "PA1                         0.422233    0.000000  \n",
       "NCIH522                     0.226509    0.014355  \n",
       "OVCAR4                      1.207893    0.000000  \n",
       "MKN1                        0.163499    0.000000  \n",
       "REC1                        0.411426    0.000000  \n",
       "\n",
       "[5 rows x 19177 columns]"
      ]
     },
     "execution_count": 484,
     "metadata": {},
     "output_type": "execute_result"
    },
    {
     "data": {
      "application/javascript": [
       "\n",
       "            setTimeout(function() {\n",
       "                var nbb_cell_id = 484;\n",
       "                var nbb_unformatted_code = \"ccle_data = pd.read_csv(\\\"../../data/gex/CCLE_expression.csv\\\", index_col=0)\\nccle_sample_info = pd.read_csv(\\n    \\\"../../data/gex/CCLE_expression_sample_info.csv\\\", index_col=0\\n)\\nmatched_ids = set(ccle_sample_info.index).intersection(ccle_data.index)\\nccle_data = ccle_data.loc[list(matched_ids)]\\nccle_data.index = ccle_sample_info.loc[ccle_data.index, \\\"stripped_cell_line_name\\\"]\\nccle_data.columns = [c.split(\\\" \\\")[0].upper() for c in ccle_data.columns]\\nccle_data.head()\";\n",
       "                var nbb_formatted_code = \"ccle_data = pd.read_csv(\\\"../../data/gex/CCLE_expression.csv\\\", index_col=0)\\nccle_sample_info = pd.read_csv(\\n    \\\"../../data/gex/CCLE_expression_sample_info.csv\\\", index_col=0\\n)\\nmatched_ids = set(ccle_sample_info.index).intersection(ccle_data.index)\\nccle_data = ccle_data.loc[list(matched_ids)]\\nccle_data.index = ccle_sample_info.loc[ccle_data.index, \\\"stripped_cell_line_name\\\"]\\nccle_data.columns = [c.split(\\\" \\\")[0].upper() for c in ccle_data.columns]\\nccle_data.head()\";\n",
       "                var nbb_cells = Jupyter.notebook.get_cells();\n",
       "                for (var i = 0; i < nbb_cells.length; ++i) {\n",
       "                    if (nbb_cells[i].input_prompt_number == nbb_cell_id) {\n",
       "                        if (nbb_cells[i].get_text() == nbb_unformatted_code) {\n",
       "                             nbb_cells[i].set_text(nbb_formatted_code);\n",
       "                        }\n",
       "                        break;\n",
       "                    }\n",
       "                }\n",
       "            }, 500);\n",
       "            "
      ],
      "text/plain": [
       "<IPython.core.display.Javascript object>"
      ]
     },
     "metadata": {},
     "output_type": "display_data"
    }
   ],
   "source": [
    "ccle_data = pd.read_csv(\"../../data/gex/CCLE_expression.csv\", index_col=0)\n",
    "ccle_sample_info = pd.read_csv(\n",
    "    \"../../data/gex/CCLE_expression_sample_info.csv\", index_col=0\n",
    ")\n",
    "matched_ids = set(ccle_sample_info.index).intersection(ccle_data.index)\n",
    "ccle_data = ccle_data.loc[list(matched_ids)]\n",
    "ccle_data.index = ccle_sample_info.loc[ccle_data.index, \"stripped_cell_line_name\"]\n",
    "ccle_data.columns = [c.split(\" \")[0].upper() for c in ccle_data.columns]\n",
    "ccle_data.head()"
   ]
  },
  {
   "cell_type": "code",
   "execution_count": 485,
   "id": "39b73c00",
   "metadata": {},
   "outputs": [
    {
     "data": {
      "application/javascript": [
       "\n",
       "            setTimeout(function() {\n",
       "                var nbb_cell_id = 485;\n",
       "                var nbb_unformatted_code = \"ccle_gene_set = set(ccle_data.columns)\";\n",
       "                var nbb_formatted_code = \"ccle_gene_set = set(ccle_data.columns)\";\n",
       "                var nbb_cells = Jupyter.notebook.get_cells();\n",
       "                for (var i = 0; i < nbb_cells.length; ++i) {\n",
       "                    if (nbb_cells[i].input_prompt_number == nbb_cell_id) {\n",
       "                        if (nbb_cells[i].get_text() == nbb_unformatted_code) {\n",
       "                             nbb_cells[i].set_text(nbb_formatted_code);\n",
       "                        }\n",
       "                        break;\n",
       "                    }\n",
       "                }\n",
       "            }, 500);\n",
       "            "
      ],
      "text/plain": [
       "<IPython.core.display.Javascript object>"
      ]
     },
     "metadata": {},
     "output_type": "display_data"
    }
   ],
   "source": [
    "ccle_gene_set = set(ccle_data.columns)"
   ]
  },
  {
   "cell_type": "markdown",
   "id": "b5194c97",
   "metadata": {},
   "source": [
    "The second data set from the CCLE study consist of 1'378 cancer cell lines for which we obtain the expression of roughly 19'177 genes."
   ]
  },
  {
   "cell_type": "code",
   "execution_count": 486,
   "id": "3177e68e",
   "metadata": {},
   "outputs": [
    {
     "data": {
      "application/javascript": [
       "\n",
       "            setTimeout(function() {\n",
       "                var nbb_cell_id = 486;\n",
       "                var nbb_unformatted_code = \"orf_targets = set(\\n    pd.read_csv(\\\"../../data/gex/gene_target_list.txt\\\", index_col=0, header=None).index\\n)\";\n",
       "                var nbb_formatted_code = \"orf_targets = set(\\n    pd.read_csv(\\\"../../data/gex/gene_target_list.txt\\\", index_col=0, header=None).index\\n)\";\n",
       "                var nbb_cells = Jupyter.notebook.get_cells();\n",
       "                for (var i = 0; i < nbb_cells.length; ++i) {\n",
       "                    if (nbb_cells[i].input_prompt_number == nbb_cell_id) {\n",
       "                        if (nbb_cells[i].get_text() == nbb_unformatted_code) {\n",
       "                             nbb_cells[i].set_text(nbb_formatted_code);\n",
       "                        }\n",
       "                        break;\n",
       "                    }\n",
       "                }\n",
       "            }, 500);\n",
       "            "
      ],
      "text/plain": [
       "<IPython.core.display.Javascript object>"
      ]
     },
     "metadata": {},
     "output_type": "display_data"
    }
   ],
   "source": [
    "orf_targets = set(\n",
    "    pd.read_csv(\"../../data/gex/gene_target_list.txt\", index_col=0, header=None).index\n",
    ")"
   ]
  },
  {
   "cell_type": "code",
   "execution_count": 497,
   "id": "2ad62cdd",
   "metadata": {},
   "outputs": [
    {
     "data": {
      "application/javascript": [
       "\n",
       "            setTimeout(function() {\n",
       "                var nbb_cell_id = 497;\n",
       "                var nbb_unformatted_code = \"ppi_file = \\\"../../data/ppi/iRefIndex_v14_MIScore_interactome_C9.costs.txt\\\"\\niref_ppi = nx.convert_matrix.from_pandas_edgelist(\\n    pd.read_csv(ppi_file, sep=\\\"\\\\t\\\"),\\n    source=\\\"protein1\\\",\\n    target=\\\"protein2\\\",\\n    edge_attr=\\\"cost\\\",\\n)\\niref_ppi.remove_edges_from(nx.selfloop_edges(iref_ppi))\";\n",
       "                var nbb_formatted_code = \"ppi_file = \\\"../../data/ppi/iRefIndex_v14_MIScore_interactome_C9.costs.txt\\\"\\niref_ppi = nx.convert_matrix.from_pandas_edgelist(\\n    pd.read_csv(ppi_file, sep=\\\"\\\\t\\\"),\\n    source=\\\"protein1\\\",\\n    target=\\\"protein2\\\",\\n    edge_attr=\\\"cost\\\",\\n)\\niref_ppi.remove_edges_from(nx.selfloop_edges(iref_ppi))\";\n",
       "                var nbb_cells = Jupyter.notebook.get_cells();\n",
       "                for (var i = 0; i < nbb_cells.length; ++i) {\n",
       "                    if (nbb_cells[i].input_prompt_number == nbb_cell_id) {\n",
       "                        if (nbb_cells[i].get_text() == nbb_unformatted_code) {\n",
       "                             nbb_cells[i].set_text(nbb_formatted_code);\n",
       "                        }\n",
       "                        break;\n",
       "                    }\n",
       "                }\n",
       "            }, 500);\n",
       "            "
      ],
      "text/plain": [
       "<IPython.core.display.Javascript object>"
      ]
     },
     "metadata": {},
     "output_type": "display_data"
    }
   ],
   "source": [
    "ppi_file = \"../../data/ppi/iRefIndex_v14_MIScore_interactome_C9.costs.txt\"\n",
    "iref_ppi = nx.convert_matrix.from_pandas_edgelist(\n",
    "    pd.read_csv(ppi_file, sep=\"\\t\"),\n",
    "    source=\"protein1\",\n",
    "    target=\"protein2\",\n",
    "    edge_attr=\"cost\",\n",
    ")\n",
    "iref_ppi.remove_edges_from(nx.selfloop_edges(iref_ppi))"
   ]
  },
  {
   "cell_type": "code",
   "execution_count": 498,
   "id": "0916c0b6",
   "metadata": {},
   "outputs": [
    {
     "data": {
      "application/javascript": [
       "\n",
       "            setTimeout(function() {\n",
       "                var nbb_cell_id = 498;\n",
       "                var nbb_unformatted_code = \"ppi_gene_set = set(list(iref_ppi.nodes()))\";\n",
       "                var nbb_formatted_code = \"ppi_gene_set = set(list(iref_ppi.nodes()))\";\n",
       "                var nbb_cells = Jupyter.notebook.get_cells();\n",
       "                for (var i = 0; i < nbb_cells.length; ++i) {\n",
       "                    if (nbb_cells[i].input_prompt_number == nbb_cell_id) {\n",
       "                        if (nbb_cells[i].get_text() == nbb_unformatted_code) {\n",
       "                             nbb_cells[i].set_text(nbb_formatted_code);\n",
       "                        }\n",
       "                        break;\n",
       "                    }\n",
       "                }\n",
       "            }, 500);\n",
       "            "
      ],
      "text/plain": [
       "<IPython.core.display.Javascript object>"
      ]
     },
     "metadata": {},
     "output_type": "display_data"
    }
   ],
   "source": [
    "ppi_gene_set = set(list(iref_ppi.nodes()))"
   ]
  },
  {
   "cell_type": "markdown",
   "id": "6db0ef3b",
   "metadata": {},
   "source": [
    "The Venn diagram below shows the overlap of the two gene sets with the 190 ORF targets from the study by Rohban et al. (2017) as well as with the ones from iRefIndexDB v14. That we will use later on as a basis to derive the interactome specific to the U2OS cells."
   ]
  },
  {
   "cell_type": "code",
   "execution_count": 499,
   "id": "86d601fa",
   "metadata": {},
   "outputs": [
    {
     "data": {
      "image/png": "[encoded data removed]",
      "text/plain": [
       "<Figure size 576x576 with 1 Axes>"
      ]
     },
     "metadata": {},
     "output_type": "display_data"
    },
    {
     "data": {
      "application/javascript": [
       "\n",
       "            setTimeout(function() {\n",
       "                var nbb_cell_id = 499;\n",
       "                var nbb_unformatted_code = \"ax = venn.venn(\\n    dict(\\n        zip(\\n            [\\n                \\\"ORF targets\\\",\\n                \\\"scRNAseq (FUCCI) data\\\",\\n                \\\"CCLE bulk RNAseq data\\\",\\n                \\\"iRefIndexDB v14\\\",\\n            ],\\n            [\\n                orf_targets,\\n                fucci_gene_set,\\n                ccle_gene_set,\\n                ppi_gene_set,\\n            ],\\n        )\\n    )\\n)\";\n",
       "                var nbb_formatted_code = \"ax = venn.venn(\\n    dict(\\n        zip(\\n            [\\n                \\\"ORF targets\\\",\\n                \\\"scRNAseq (FUCCI) data\\\",\\n                \\\"CCLE bulk RNAseq data\\\",\\n                \\\"iRefIndexDB v14\\\",\\n            ],\\n            [\\n                orf_targets,\\n                fucci_gene_set,\\n                ccle_gene_set,\\n                ppi_gene_set,\\n            ],\\n        )\\n    )\\n)\";\n",
       "                var nbb_cells = Jupyter.notebook.get_cells();\n",
       "                for (var i = 0; i < nbb_cells.length; ++i) {\n",
       "                    if (nbb_cells[i].input_prompt_number == nbb_cell_id) {\n",
       "                        if (nbb_cells[i].get_text() == nbb_unformatted_code) {\n",
       "                             nbb_cells[i].set_text(nbb_formatted_code);\n",
       "                        }\n",
       "                        break;\n",
       "                    }\n",
       "                }\n",
       "            }, 500);\n",
       "            "
      ],
      "text/plain": [
       "<IPython.core.display.Javascript object>"
      ]
     },
     "metadata": {},
     "output_type": "display_data"
    }
   ],
   "source": [
    "ax = venn.venn(\n",
    "    dict(\n",
    "        zip(\n",
    "            [\n",
    "                \"ORF targets\",\n",
    "                \"scRNAseq (FUCCI) data\",\n",
    "                \"CCLE bulk RNAseq data\",\n",
    "                \"iRefIndexDB v14\",\n",
    "            ],\n",
    "            [\n",
    "                orf_targets,\n",
    "                fucci_gene_set,\n",
    "                ccle_gene_set,\n",
    "                ppi_gene_set,\n",
    "            ],\n",
    "        )\n",
    "    )\n",
    ")"
   ]
  },
  {
   "cell_type": "markdown",
   "id": "1681dc75",
   "metadata": {},
   "source": [
    "Going forward, we will focus on the intersection of the genes that are covered in the scRNAseq (FUCCI) data set, the CCLE bulk RNAseq data set and the iRefIndexDB v14. While we will have not yet decided to use the bulk-sequencing data restricting us to those genes also covered by this gene expression data set only removes 61 genes including four known transcription factors (NFE4, ZNF286B, ZNF658B, ZNF702P) transcription factor nor any of the ORF targets, which are shown below."
   ]
  },
  {
   "cell_type": "code",
   "execution_count": 500,
   "id": "aeb85ba8",
   "metadata": {},
   "outputs": [
    {
     "data": {
      "application/javascript": [
       "\n",
       "            setTimeout(function() {\n",
       "                var nbb_cell_id = 500;\n",
       "                var nbb_unformatted_code = \"human_tfs = set(\\n    list(\\n        pd.read_csv(\\\"../../data/gex/human_tf_list.txt\\\", index_col=0, header=None).index\\n    )\\n)\";\n",
       "                var nbb_formatted_code = \"human_tfs = set(\\n    list(\\n        pd.read_csv(\\\"../../data/gex/human_tf_list.txt\\\", index_col=0, header=None).index\\n    )\\n)\";\n",
       "                var nbb_cells = Jupyter.notebook.get_cells();\n",
       "                for (var i = 0; i < nbb_cells.length; ++i) {\n",
       "                    if (nbb_cells[i].input_prompt_number == nbb_cell_id) {\n",
       "                        if (nbb_cells[i].get_text() == nbb_unformatted_code) {\n",
       "                             nbb_cells[i].set_text(nbb_formatted_code);\n",
       "                        }\n",
       "                        break;\n",
       "                    }\n",
       "                }\n",
       "            }, 500);\n",
       "            "
      ],
      "text/plain": [
       "<IPython.core.display.Javascript object>"
      ]
     },
     "metadata": {},
     "output_type": "display_data"
    }
   ],
   "source": [
    "human_tfs = set(\n",
    "    list(\n",
    "        pd.read_csv(\"../../data/gex/human_tf_list.txt\", index_col=0, header=None).index\n",
    "    )\n",
    ")"
   ]
  },
  {
   "cell_type": "code",
   "execution_count": 501,
   "id": "8576c9c5",
   "metadata": {},
   "outputs": [
    {
     "data": {
      "text/plain": [
       "{'NFE4', 'ZNF286B', 'ZNF658B', 'ZNF702P'}"
      ]
     },
     "execution_count": 501,
     "metadata": {},
     "output_type": "execute_result"
    },
    {
     "data": {
      "application/javascript": [
       "\n",
       "            setTimeout(function() {\n",
       "                var nbb_cell_id = 501;\n",
       "                var nbb_unformatted_code = \"(\\n    fucci_gene_set.intersection(ppi_gene_set)\\n    - set(fucci_data.columns).intersection(ppi_gene_set).intersection(ccle_gene_set)\\n).intersection(human_tfs)\";\n",
       "                var nbb_formatted_code = \"(\\n    fucci_gene_set.intersection(ppi_gene_set)\\n    - set(fucci_data.columns).intersection(ppi_gene_set).intersection(ccle_gene_set)\\n).intersection(human_tfs)\";\n",
       "                var nbb_cells = Jupyter.notebook.get_cells();\n",
       "                for (var i = 0; i < nbb_cells.length; ++i) {\n",
       "                    if (nbb_cells[i].input_prompt_number == nbb_cell_id) {\n",
       "                        if (nbb_cells[i].get_text() == nbb_unformatted_code) {\n",
       "                             nbb_cells[i].set_text(nbb_formatted_code);\n",
       "                        }\n",
       "                        break;\n",
       "                    }\n",
       "                }\n",
       "            }, 500);\n",
       "            "
      ],
      "text/plain": [
       "<IPython.core.display.Javascript object>"
      ]
     },
     "metadata": {},
     "output_type": "display_data"
    }
   ],
   "source": [
    "(\n",
    "    fucci_gene_set.intersection(ppi_gene_set)\n",
    "    - set(fucci_data.columns).intersection(ppi_gene_set).intersection(ccle_gene_set)\n",
    ").intersection(human_tfs)"
   ]
  },
  {
   "cell_type": "code",
   "execution_count": 677,
   "id": "a19dc9a4",
   "metadata": {},
   "outputs": [
    {
     "data": {
      "text/plain": [
       "13068"
      ]
     },
     "execution_count": 677,
     "metadata": {},
     "output_type": "execute_result"
    },
    {
     "data": {
      "application/javascript": [
       "\n",
       "            setTimeout(function() {\n",
       "                var nbb_cell_id = 677;\n",
       "                var nbb_unformatted_code = \"selected_gene_set = fucci_gene_set.intersection(ppi_gene_set).intersection(\\n    ccle_gene_set\\n)\\nlen(selected_gene_set)\";\n",
       "                var nbb_formatted_code = \"selected_gene_set = fucci_gene_set.intersection(ppi_gene_set).intersection(\\n    ccle_gene_set\\n)\\nlen(selected_gene_set)\";\n",
       "                var nbb_cells = Jupyter.notebook.get_cells();\n",
       "                for (var i = 0; i < nbb_cells.length; ++i) {\n",
       "                    if (nbb_cells[i].input_prompt_number == nbb_cell_id) {\n",
       "                        if (nbb_cells[i].get_text() == nbb_unformatted_code) {\n",
       "                             nbb_cells[i].set_text(nbb_formatted_code);\n",
       "                        }\n",
       "                        break;\n",
       "                    }\n",
       "                }\n",
       "            }, 500);\n",
       "            "
      ],
      "text/plain": [
       "<IPython.core.display.Javascript object>"
      ]
     },
     "metadata": {},
     "output_type": "display_data"
    }
   ],
   "source": [
    "selected_gene_set = fucci_gene_set.intersection(ppi_gene_set).intersection(\n",
    "    ccle_gene_set\n",
    ")\n",
    "len(selected_gene_set)"
   ]
  },
  {
   "cell_type": "markdown",
   "id": "2984c5ae",
   "metadata": {},
   "source": [
    "---\n",
    "\n",
    "## 2. Identification of U2OS gene set\n",
    "\n",
    "In total we have 13'068 genes that we selected for further analyses. However, we have to yet identify those that are particularly important in the functional and thus regulatory programs of our cell type: human osteosarcoma (U2OS) cells."
   ]
  },
  {
   "cell_type": "markdown",
   "id": "69afb446",
   "metadata": {},
   "source": [
    "### 2a. Filtering out lowly expressed genes"
   ]
  },
  {
   "cell_type": "markdown",
   "id": "43b0866d",
   "metadata": {},
   "source": [
    "First, we are interested in finding those genes that are highly expressed in the given cell type to this end, we will first plot the average gene expression for each individual gene of our scRNA-seq data set for the subset of genes that we selected as discussed previously. For better visualization we will order them according to their mean expression."
   ]
  },
  {
   "cell_type": "code",
   "execution_count": 694,
   "id": "a48b8b07",
   "metadata": {},
   "outputs": [
    {
     "data": {
      "application/javascript": [
       "\n",
       "            setTimeout(function() {\n",
       "                var nbb_cell_id = 694;\n",
       "                var nbb_unformatted_code = \"selected_fucci_data = fucci_data.loc[:, selected_gene_set]\\nmean_expression = selected_fucci_data.mean().sort_values(ascending=False)\\nmedian_expression = selected_fucci_data.median().sort_values(ascending=False)\";\n",
       "                var nbb_formatted_code = \"selected_fucci_data = fucci_data.loc[:, selected_gene_set]\\nmean_expression = selected_fucci_data.mean().sort_values(ascending=False)\\nmedian_expression = selected_fucci_data.median().sort_values(ascending=False)\";\n",
       "                var nbb_cells = Jupyter.notebook.get_cells();\n",
       "                for (var i = 0; i < nbb_cells.length; ++i) {\n",
       "                    if (nbb_cells[i].input_prompt_number == nbb_cell_id) {\n",
       "                        if (nbb_cells[i].get_text() == nbb_unformatted_code) {\n",
       "                             nbb_cells[i].set_text(nbb_formatted_code);\n",
       "                        }\n",
       "                        break;\n",
       "                    }\n",
       "                }\n",
       "            }, 500);\n",
       "            "
      ],
      "text/plain": [
       "<IPython.core.display.Javascript object>"
      ]
     },
     "metadata": {},
     "output_type": "display_data"
    }
   ],
   "source": [
    "selected_fucci_data = fucci_data.loc[:, selected_gene_set]\n",
    "mean_expression = selected_fucci_data.mean().sort_values(ascending=False)\n",
    "median_expression = selected_fucci_data.median().sort_values(ascending=False)"
   ]
  },
  {
   "cell_type": "code",
   "execution_count": 692,
   "id": "9ba0c2f9",
   "metadata": {},
   "outputs": [
    {
     "data": {
      "image/png": "[encoded data removed]",
      "text/plain": [
       "<Figure size 504x360 with 1 Axes>"
      ]
     },
     "metadata": {
      "needs_background": "light"
     },
     "output_type": "display_data"
    },
    {
     "data": {
      "application/javascript": [
       "\n",
       "            setTimeout(function() {\n",
       "                var nbb_cell_id = 692;\n",
       "                var nbb_unformatted_code = \"plt.figure(figsize=[7, 5])\\nsns.histplot(x=np.array(mean_expression), bins=100)\\nplt.title(\\\"Histogram of the average gene expression\\\")\\nplt.xlabel(\\\"log2(expr + 1)\\\")\\nplt.ylabel(\\\"Counts\\\")\\nplt.show()\";\n",
       "                var nbb_formatted_code = \"plt.figure(figsize=[7, 5])\\nsns.histplot(x=np.array(mean_expression), bins=100)\\nplt.title(\\\"Histogram of the average gene expression\\\")\\nplt.xlabel(\\\"log2(expr + 1)\\\")\\nplt.ylabel(\\\"Counts\\\")\\nplt.show()\";\n",
       "                var nbb_cells = Jupyter.notebook.get_cells();\n",
       "                for (var i = 0; i < nbb_cells.length; ++i) {\n",
       "                    if (nbb_cells[i].input_prompt_number == nbb_cell_id) {\n",
       "                        if (nbb_cells[i].get_text() == nbb_unformatted_code) {\n",
       "                             nbb_cells[i].set_text(nbb_formatted_code);\n",
       "                        }\n",
       "                        break;\n",
       "                    }\n",
       "                }\n",
       "            }, 500);\n",
       "            "
      ],
      "text/plain": [
       "<IPython.core.display.Javascript object>"
      ]
     },
     "metadata": {},
     "output_type": "display_data"
    }
   ],
   "source": [
    "plt.figure(figsize=[7, 5])\n",
    "sns.histplot(x=np.array(mean_expression), bins=100)\n",
    "plt.title(\"Histogram of the average gene expression\")\n",
    "plt.xlabel(\"log2(expr + 1)\")\n",
    "plt.ylabel(\"Counts\")\n",
    "plt.show()"
   ]
  },
  {
   "cell_type": "code",
   "execution_count": 695,
   "id": "21515ecf",
   "metadata": {},
   "outputs": [
    {
     "data": {
      "image/png": "[encoded data removed]",
      "text/plain": [
       "<Figure size 504x360 with 1 Axes>"
      ]
     },
     "metadata": {
      "needs_background": "light"
     },
     "output_type": "display_data"
    },
    {
     "data": {
      "application/javascript": [
       "\n",
       "            setTimeout(function() {\n",
       "                var nbb_cell_id = 695;\n",
       "                var nbb_unformatted_code = \"plt.figure(figsize=[7, 5])\\nsns.histplot(x=np.array(median_expression), bins=100)\\nplt.title(\\\"Histogram of the median gene expression\\\")\\nplt.xlabel(\\\"log2(expr + 1)\\\")\\nplt.ylabel(\\\"Counts\\\")\\nplt.show()\";\n",
       "                var nbb_formatted_code = \"plt.figure(figsize=[7, 5])\\nsns.histplot(x=np.array(median_expression), bins=100)\\nplt.title(\\\"Histogram of the median gene expression\\\")\\nplt.xlabel(\\\"log2(expr + 1)\\\")\\nplt.ylabel(\\\"Counts\\\")\\nplt.show()\";\n",
       "                var nbb_cells = Jupyter.notebook.get_cells();\n",
       "                for (var i = 0; i < nbb_cells.length; ++i) {\n",
       "                    if (nbb_cells[i].input_prompt_number == nbb_cell_id) {\n",
       "                        if (nbb_cells[i].get_text() == nbb_unformatted_code) {\n",
       "                             nbb_cells[i].set_text(nbb_formatted_code);\n",
       "                        }\n",
       "                        break;\n",
       "                    }\n",
       "                }\n",
       "            }, 500);\n",
       "            "
      ],
      "text/plain": [
       "<IPython.core.display.Javascript object>"
      ]
     },
     "metadata": {},
     "output_type": "display_data"
    }
   ],
   "source": [
    "plt.figure(figsize=[7, 5])\n",
    "sns.histplot(x=np.array(median_expression), bins=100)\n",
    "plt.title(\"Histogram of the median gene expression\")\n",
    "plt.xlabel(\"log2(expr + 1)\")\n",
    "plt.ylabel(\"Counts\")\n",
    "plt.show()"
   ]
  },
  {
   "cell_type": "code",
   "execution_count": 693,
   "id": "dc903375",
   "metadata": {},
   "outputs": [
    {
     "data": {
      "image/png": "[encoded data removed]",
      "text/plain": [
       "<Figure size 360x288 with 1 Axes>"
      ]
     },
     "metadata": {
      "needs_background": "light"
     },
     "output_type": "display_data"
    },
    {
     "data": {
      "application/javascript": [
       "\n",
       "            setTimeout(function() {\n",
       "                var nbb_cell_id = 693;\n",
       "                var nbb_unformatted_code = \"plt.figure(figsize=[5, 4])\\nplt.plot(list(range(len(mean_expression))), np.array(mean_expression))\\nplt.title(\\\"Average gene expression\\\")\\nplt.ylabel(\\\"log2(expr + 1)\\\")\\nplt.xlabel(\\\"GeneID\\\")\\nplt.show()\";\n",
       "                var nbb_formatted_code = \"plt.figure(figsize=[5, 4])\\nplt.plot(list(range(len(mean_expression))), np.array(mean_expression))\\nplt.title(\\\"Average gene expression\\\")\\nplt.ylabel(\\\"log2(expr + 1)\\\")\\nplt.xlabel(\\\"GeneID\\\")\\nplt.show()\";\n",
       "                var nbb_cells = Jupyter.notebook.get_cells();\n",
       "                for (var i = 0; i < nbb_cells.length; ++i) {\n",
       "                    if (nbb_cells[i].input_prompt_number == nbb_cell_id) {\n",
       "                        if (nbb_cells[i].get_text() == nbb_unformatted_code) {\n",
       "                             nbb_cells[i].set_text(nbb_formatted_code);\n",
       "                        }\n",
       "                        break;\n",
       "                    }\n",
       "                }\n",
       "            }, 500);\n",
       "            "
      ],
      "text/plain": [
       "<IPython.core.display.Javascript object>"
      ]
     },
     "metadata": {},
     "output_type": "display_data"
    }
   ],
   "source": [
    "plt.figure(figsize=[5, 4])\n",
    "plt.plot(list(range(len(mean_expression))), np.array(mean_expression))\n",
    "plt.title(\"Average gene expression\")\n",
    "plt.ylabel(\"log2(expr + 1)\")\n",
    "plt.xlabel(\"GeneID\")\n",
    "plt.show()"
   ]
  },
  {
   "cell_type": "code",
   "execution_count": 697,
   "id": "e4b5173d",
   "metadata": {},
   "outputs": [
    {
     "data": {
      "image/png": "[encoded data removed]",
      "text/plain": [
       "<Figure size 360x288 with 1 Axes>"
      ]
     },
     "metadata": {
      "needs_background": "light"
     },
     "output_type": "display_data"
    },
    {
     "data": {
      "application/javascript": [
       "\n",
       "            setTimeout(function() {\n",
       "                var nbb_cell_id = 697;\n",
       "                var nbb_unformatted_code = \"plt.figure(figsize=[5, 4])\\nplt.plot(list(range(len(median_expression))), np.array(median_expression))\\nplt.title(\\\"Median gene expression\\\")\\nplt.ylabel(\\\"log2(expr + 1)\\\")\\nplt.xlabel(\\\"GeneID\\\")\\nplt.show()\";\n",
       "                var nbb_formatted_code = \"plt.figure(figsize=[5, 4])\\nplt.plot(list(range(len(median_expression))), np.array(median_expression))\\nplt.title(\\\"Median gene expression\\\")\\nplt.ylabel(\\\"log2(expr + 1)\\\")\\nplt.xlabel(\\\"GeneID\\\")\\nplt.show()\";\n",
       "                var nbb_cells = Jupyter.notebook.get_cells();\n",
       "                for (var i = 0; i < nbb_cells.length; ++i) {\n",
       "                    if (nbb_cells[i].input_prompt_number == nbb_cell_id) {\n",
       "                        if (nbb_cells[i].get_text() == nbb_unformatted_code) {\n",
       "                             nbb_cells[i].set_text(nbb_formatted_code);\n",
       "                        }\n",
       "                        break;\n",
       "                    }\n",
       "                }\n",
       "            }, 500);\n",
       "            "
      ],
      "text/plain": [
       "<IPython.core.display.Javascript object>"
      ]
     },
     "metadata": {},
     "output_type": "display_data"
    }
   ],
   "source": [
    "plt.figure(figsize=[5, 4])\n",
    "plt.plot(list(range(len(median_expression))), np.array(median_expression))\n",
    "plt.title(\"Median gene expression\")\n",
    "plt.ylabel(\"log2(expr + 1)\")\n",
    "plt.xlabel(\"GeneID\")\n",
    "plt.show()"
   ]
  },
  {
   "cell_type": "markdown",
   "id": "9b4e80f5",
   "metadata": {},
   "source": [
    "The empirical distribution of the average gene expression seems to follow roughly a bi-modal distribution. Going forward we are less interested in genes that are very lowly expressed. The intuition is that a) for genes that are low expressed there is greater level of measurement noise (Sha et al., 2015) and b) these are expected to play a less important role in the functional regulation of the cell.\n",
    "\n",
    "Thus, we will filter out such lowly expressed genes which we define as those with being predicted to be part of the background distribution that is of the component with smaller mean of a two-component Gaussian mixture model that we fit to the average gene expression values."
   ]
  },
  {
   "cell_type": "code",
   "execution_count": 681,
   "id": "2033e68f",
   "metadata": {},
   "outputs": [
    {
     "data": {
      "application/javascript": [
       "\n",
       "            setTimeout(function() {\n",
       "                var nbb_cell_id = 681;\n",
       "                var nbb_unformatted_code = \"gmm = GaussianMixture(n_components=2, random_state=seed)\\nfitted_gmm = gmm.fit(np.array(mean_expression).reshape(-1, 1))\\npreds = fitted_gmm.predict(np.array(mean_expression).reshape(-1, 1))\\npred_labels = []\\nfor pred in preds:\\n    if pred == 0:\\n        pred_labels.append(\\\"low expressed\\\")\\n    else:\\n        pred_labels.append(\\\"other\\\")\";\n",
       "                var nbb_formatted_code = \"gmm = GaussianMixture(n_components=2, random_state=seed)\\nfitted_gmm = gmm.fit(np.array(mean_expression).reshape(-1, 1))\\npreds = fitted_gmm.predict(np.array(mean_expression).reshape(-1, 1))\\npred_labels = []\\nfor pred in preds:\\n    if pred == 0:\\n        pred_labels.append(\\\"low expressed\\\")\\n    else:\\n        pred_labels.append(\\\"other\\\")\";\n",
       "                var nbb_cells = Jupyter.notebook.get_cells();\n",
       "                for (var i = 0; i < nbb_cells.length; ++i) {\n",
       "                    if (nbb_cells[i].input_prompt_number == nbb_cell_id) {\n",
       "                        if (nbb_cells[i].get_text() == nbb_unformatted_code) {\n",
       "                             nbb_cells[i].set_text(nbb_formatted_code);\n",
       "                        }\n",
       "                        break;\n",
       "                    }\n",
       "                }\n",
       "            }, 500);\n",
       "            "
      ],
      "text/plain": [
       "<IPython.core.display.Javascript object>"
      ]
     },
     "metadata": {},
     "output_type": "display_data"
    }
   ],
   "source": [
    "gmm = GaussianMixture(n_components=2, random_state=seed)\n",
    "fitted_gmm = gmm.fit(np.array(mean_expression).reshape(-1, 1))\n",
    "preds = fitted_gmm.predict(np.array(mean_expression).reshape(-1, 1))\n",
    "pred_labels = []\n",
    "for pred in preds:\n",
    "    if pred == 0:\n",
    "        pred_labels.append(\"low expressed\")\n",
    "    else:\n",
    "        pred_labels.append(\"other\")"
   ]
  },
  {
   "cell_type": "code",
   "execution_count": 682,
   "id": "da7e8a14",
   "metadata": {},
   "outputs": [
    {
     "data": {
      "image/png": "[encoded data removed]",
      "text/plain": [
       "<Figure size 504x360 with 1 Axes>"
      ]
     },
     "metadata": {
      "needs_background": "light"
     },
     "output_type": "display_data"
    },
    {
     "data": {
      "application/javascript": [
       "\n",
       "            setTimeout(function() {\n",
       "                var nbb_cell_id = 682;\n",
       "                var nbb_unformatted_code = \"plt.figure(figsize=[7, 5])\\nsns.histplot(x=np.array(mean_expression), bins=100, hue=pred_labels)\\nplt.title(\\\"Histogram of the average gene expression\\\")\\nplt.xlabel(\\\"log2(expr + 1)\\\")\\nplt.ylabel(\\\"Counts\\\")\\nplt.show()\";\n",
       "                var nbb_formatted_code = \"plt.figure(figsize=[7, 5])\\nsns.histplot(x=np.array(mean_expression), bins=100, hue=pred_labels)\\nplt.title(\\\"Histogram of the average gene expression\\\")\\nplt.xlabel(\\\"log2(expr + 1)\\\")\\nplt.ylabel(\\\"Counts\\\")\\nplt.show()\";\n",
       "                var nbb_cells = Jupyter.notebook.get_cells();\n",
       "                for (var i = 0; i < nbb_cells.length; ++i) {\n",
       "                    if (nbb_cells[i].input_prompt_number == nbb_cell_id) {\n",
       "                        if (nbb_cells[i].get_text() == nbb_unformatted_code) {\n",
       "                             nbb_cells[i].set_text(nbb_formatted_code);\n",
       "                        }\n",
       "                        break;\n",
       "                    }\n",
       "                }\n",
       "            }, 500);\n",
       "            "
      ],
      "text/plain": [
       "<IPython.core.display.Javascript object>"
      ]
     },
     "metadata": {},
     "output_type": "display_data"
    }
   ],
   "source": [
    "plt.figure(figsize=[7, 5])\n",
    "sns.histplot(x=np.array(mean_expression), bins=100, hue=pred_labels)\n",
    "plt.title(\"Histogram of the average gene expression\")\n",
    "plt.xlabel(\"log2(expr + 1)\")\n",
    "plt.ylabel(\"Counts\")\n",
    "plt.show()"
   ]
  },
  {
   "cell_type": "code",
   "execution_count": 698,
   "id": "c28f011e",
   "metadata": {},
   "outputs": [
    {
     "data": {
      "application/javascript": [
       "\n",
       "            setTimeout(function() {\n",
       "                var nbb_cell_id = 698;\n",
       "                var nbb_unformatted_code = \"gmm = GaussianMixture(n_components=2, random_state=seed)\\nfitted_gmm = gmm.fit(np.array(median_expression).reshape(-1, 1))\\npreds = fitted_gmm.predict(np.array(median_expression).reshape(-1, 1))\\npred_labels = []\\nfor pred in preds:\\n    if pred == 0:\\n        pred_labels.append(\\\"low expressed\\\")\\n    else:\\n        pred_labels.append(\\\"other\\\")\";\n",
       "                var nbb_formatted_code = \"gmm = GaussianMixture(n_components=2, random_state=seed)\\nfitted_gmm = gmm.fit(np.array(median_expression).reshape(-1, 1))\\npreds = fitted_gmm.predict(np.array(median_expression).reshape(-1, 1))\\npred_labels = []\\nfor pred in preds:\\n    if pred == 0:\\n        pred_labels.append(\\\"low expressed\\\")\\n    else:\\n        pred_labels.append(\\\"other\\\")\";\n",
       "                var nbb_cells = Jupyter.notebook.get_cells();\n",
       "                for (var i = 0; i < nbb_cells.length; ++i) {\n",
       "                    if (nbb_cells[i].input_prompt_number == nbb_cell_id) {\n",
       "                        if (nbb_cells[i].get_text() == nbb_unformatted_code) {\n",
       "                             nbb_cells[i].set_text(nbb_formatted_code);\n",
       "                        }\n",
       "                        break;\n",
       "                    }\n",
       "                }\n",
       "            }, 500);\n",
       "            "
      ],
      "text/plain": [
       "<IPython.core.display.Javascript object>"
      ]
     },
     "metadata": {},
     "output_type": "display_data"
    }
   ],
   "source": [
    "gmm = GaussianMixture(n_components=2, random_state=seed)\n",
    "fitted_gmm = gmm.fit(np.array(median_expression).reshape(-1, 1))\n",
    "preds = fitted_gmm.predict(np.array(median_expression).reshape(-1, 1))\n",
    "pred_labels = []\n",
    "for pred in preds:\n",
    "    if pred == 0:\n",
    "        pred_labels.append(\"low expressed\")\n",
    "    else:\n",
    "        pred_labels.append(\"other\")"
   ]
  },
  {
   "cell_type": "code",
   "execution_count": 699,
   "id": "89e3ef06",
   "metadata": {},
   "outputs": [
    {
     "data": {
      "image/png": "[encoded data removed]",
      "text/plain": [
       "<Figure size 504x360 with 1 Axes>"
      ]
     },
     "metadata": {
      "needs_background": "light"
     },
     "output_type": "display_data"
    },
    {
     "data": {
      "application/javascript": [
       "\n",
       "            setTimeout(function() {\n",
       "                var nbb_cell_id = 699;\n",
       "                var nbb_unformatted_code = \"plt.figure(figsize=[7, 5])\\nsns.histplot(x=np.array(median_expression), bins=100, hue=pred_labels)\\nplt.title(\\\"Histogram of the median gene expression\\\")\\nplt.xlabel(\\\"log2(expr + 1)\\\")\\nplt.ylabel(\\\"Counts\\\")\\nplt.show()\";\n",
       "                var nbb_formatted_code = \"plt.figure(figsize=[7, 5])\\nsns.histplot(x=np.array(median_expression), bins=100, hue=pred_labels)\\nplt.title(\\\"Histogram of the median gene expression\\\")\\nplt.xlabel(\\\"log2(expr + 1)\\\")\\nplt.ylabel(\\\"Counts\\\")\\nplt.show()\";\n",
       "                var nbb_cells = Jupyter.notebook.get_cells();\n",
       "                for (var i = 0; i < nbb_cells.length; ++i) {\n",
       "                    if (nbb_cells[i].input_prompt_number == nbb_cell_id) {\n",
       "                        if (nbb_cells[i].get_text() == nbb_unformatted_code) {\n",
       "                             nbb_cells[i].set_text(nbb_formatted_code);\n",
       "                        }\n",
       "                        break;\n",
       "                    }\n",
       "                }\n",
       "            }, 500);\n",
       "            "
      ],
      "text/plain": [
       "<IPython.core.display.Javascript object>"
      ]
     },
     "metadata": {},
     "output_type": "display_data"
    }
   ],
   "source": [
    "plt.figure(figsize=[7, 5])\n",
    "sns.histplot(x=np.array(median_expression), bins=100, hue=pred_labels)\n",
    "plt.title(\"Histogram of the median gene expression\")\n",
    "plt.xlabel(\"log2(expr + 1)\")\n",
    "plt.ylabel(\"Counts\")\n",
    "plt.show()"
   ]
  },
  {
   "cell_type": "markdown",
   "id": "048f87cf",
   "metadata": {},
   "source": [
    "We estimate a cutoff for the mean gene expression that has been log+1-transformed after scaling to each gene expression profile to unit length for each cell to account for varying sequencing depth of 0.3417. "
   ]
  },
  {
   "cell_type": "code",
   "execution_count": 683,
   "id": "24d69909",
   "metadata": {},
   "outputs": [
    {
     "data": {
      "text/plain": [
       "0.0"
      ]
     },
     "execution_count": 683,
     "metadata": {},
     "output_type": "execute_result"
    },
    {
     "data": {
      "application/javascript": [
       "\n",
       "            setTimeout(function() {\n",
       "                var nbb_cell_id = 683;\n",
       "                var nbb_unformatted_code = \"avg_gex_threshold = (np.array(mean_expression)[preds == 0]).max()\\navg_gex_threshold\";\n",
       "                var nbb_formatted_code = \"avg_gex_threshold = (np.array(mean_expression)[preds == 0]).max()\\navg_gex_threshold\";\n",
       "                var nbb_cells = Jupyter.notebook.get_cells();\n",
       "                for (var i = 0; i < nbb_cells.length; ++i) {\n",
       "                    if (nbb_cells[i].input_prompt_number == nbb_cell_id) {\n",
       "                        if (nbb_cells[i].get_text() == nbb_unformatted_code) {\n",
       "                             nbb_cells[i].set_text(nbb_formatted_code);\n",
       "                        }\n",
       "                        break;\n",
       "                    }\n",
       "                }\n",
       "            }, 500);\n",
       "            "
      ],
      "text/plain": [
       "<IPython.core.display.Javascript object>"
      ]
     },
     "metadata": {},
     "output_type": "display_data"
    }
   ],
   "source": [
    "avg_gex_threshold = (np.array(mean_expression)[preds == 0]).max()\n",
    "avg_gex_threshold"
   ]
  },
  {
   "cell_type": "code",
   "execution_count": 686,
   "id": "b3e8fd51",
   "metadata": {},
   "outputs": [
    {
     "data": {
      "text/plain": [
       "(4084, 8984)"
      ]
     },
     "execution_count": 686,
     "metadata": {},
     "output_type": "execute_result"
    },
    {
     "data": {
      "application/javascript": [
       "\n",
       "            setTimeout(function() {\n",
       "                var nbb_cell_id = 686;\n",
       "                var nbb_unformatted_code = \"background_genes = set(mean_expression.loc[mean_expression <= avg_gex_threshold].index)\\nforeground_genes = set(mean_expression.loc[mean_expression > avg_gex_threshold].index)\\nlen(background_genes), len(foreground_genes)\";\n",
       "                var nbb_formatted_code = \"background_genes = set(mean_expression.loc[mean_expression <= avg_gex_threshold].index)\\nforeground_genes = set(mean_expression.loc[mean_expression > avg_gex_threshold].index)\\nlen(background_genes), len(foreground_genes)\";\n",
       "                var nbb_cells = Jupyter.notebook.get_cells();\n",
       "                for (var i = 0; i < nbb_cells.length; ++i) {\n",
       "                    if (nbb_cells[i].input_prompt_number == nbb_cell_id) {\n",
       "                        if (nbb_cells[i].get_text() == nbb_unformatted_code) {\n",
       "                             nbb_cells[i].set_text(nbb_formatted_code);\n",
       "                        }\n",
       "                        break;\n",
       "                    }\n",
       "                }\n",
       "            }, 500);\n",
       "            "
      ],
      "text/plain": [
       "<IPython.core.display.Javascript object>"
      ]
     },
     "metadata": {},
     "output_type": "display_data"
    }
   ],
   "source": [
    "background_genes = set(mean_expression.loc[mean_expression <= avg_gex_threshold].index)\n",
    "foreground_genes = set(mean_expression.loc[mean_expression > avg_gex_threshold].index)\n",
    "len(background_genes), len(foreground_genes)"
   ]
  },
  {
   "cell_type": "markdown",
   "id": "998e0746",
   "metadata": {},
   "source": [
    "Thereby, we remove 2590 genes that we classify as lowly expressed among which are 276 human transcription factors."
   ]
  },
  {
   "cell_type": "code",
   "execution_count": 687,
   "id": "b10d5c8e",
   "metadata": {},
   "outputs": [
    {
     "data": {
      "text/plain": [
       "543"
      ]
     },
     "execution_count": 687,
     "metadata": {},
     "output_type": "execute_result"
    },
    {
     "data": {
      "application/javascript": [
       "\n",
       "            setTimeout(function() {\n",
       "                var nbb_cell_id = 687;\n",
       "                var nbb_unformatted_code = \"len(background_genes.intersection(human_tfs))\";\n",
       "                var nbb_formatted_code = \"len(background_genes.intersection(human_tfs))\";\n",
       "                var nbb_cells = Jupyter.notebook.get_cells();\n",
       "                for (var i = 0; i < nbb_cells.length; ++i) {\n",
       "                    if (nbb_cells[i].input_prompt_number == nbb_cell_id) {\n",
       "                        if (nbb_cells[i].get_text() == nbb_unformatted_code) {\n",
       "                             nbb_cells[i].set_text(nbb_formatted_code);\n",
       "                        }\n",
       "                        break;\n",
       "                    }\n",
       "                }\n",
       "            }, 500);\n",
       "            "
      ],
      "text/plain": [
       "<IPython.core.display.Javascript object>"
      ]
     },
     "metadata": {},
     "output_type": "display_data"
    }
   ],
   "source": [
    "len(background_genes.intersection(human_tfs))"
   ]
  },
  {
   "cell_type": "markdown",
   "id": "0f739c30",
   "metadata": {},
   "source": [
    "We are thus left with 10'478 genes after that filtering step including 1'162 transcription factors and 177/190 ORF targets."
   ]
  },
  {
   "cell_type": "code",
   "execution_count": 688,
   "id": "e20f4117",
   "metadata": {},
   "outputs": [
    {
     "data": {
      "image/png": "[encoded data removed]",
      "text/plain": [
       "<Figure size 576x576 with 1 Axes>"
      ]
     },
     "metadata": {},
     "output_type": "display_data"
    },
    {
     "data": {
      "application/javascript": [
       "\n",
       "            setTimeout(function() {\n",
       "                var nbb_cell_id = 688;\n",
       "                var nbb_unformatted_code = \"ax = venn.venn(\\n    dict(\\n        zip(\\n            [\\\"ORF targets\\\", \\\"Medium/High expressed genes\\\", \\\"Human TFs\\\"],\\n            [orf_targets, foreground_genes, human_tfs],\\n        )\\n    )\\n)\";\n",
       "                var nbb_formatted_code = \"ax = venn.venn(\\n    dict(\\n        zip(\\n            [\\\"ORF targets\\\", \\\"Medium/High expressed genes\\\", \\\"Human TFs\\\"],\\n            [orf_targets, foreground_genes, human_tfs],\\n        )\\n    )\\n)\";\n",
       "                var nbb_cells = Jupyter.notebook.get_cells();\n",
       "                for (var i = 0; i < nbb_cells.length; ++i) {\n",
       "                    if (nbb_cells[i].input_prompt_number == nbb_cell_id) {\n",
       "                        if (nbb_cells[i].get_text() == nbb_unformatted_code) {\n",
       "                             nbb_cells[i].set_text(nbb_formatted_code);\n",
       "                        }\n",
       "                        break;\n",
       "                    }\n",
       "                }\n",
       "            }, 500);\n",
       "            "
      ],
      "text/plain": [
       "<IPython.core.display.Javascript object>"
      ]
     },
     "metadata": {},
     "output_type": "display_data"
    }
   ],
   "source": [
    "ax = venn.venn(\n",
    "    dict(\n",
    "        zip(\n",
    "            [\"ORF targets\", \"Medium/High expressed genes\", \"Human TFs\"],\n",
    "            [orf_targets, foreground_genes, human_tfs],\n",
    "        )\n",
    "    )\n",
    ")"
   ]
  },
  {
   "cell_type": "code",
   "execution_count": 701,
   "id": "cd168107",
   "metadata": {},
   "outputs": [
    {
     "data": {
      "image/png": "[encoded data removed]",
      "text/plain": [
       "<Figure size 576x576 with 1 Axes>"
      ]
     },
     "metadata": {},
     "output_type": "display_data"
    },
    {
     "data": {
      "application/javascript": [
       "\n",
       "            setTimeout(function() {\n",
       "                var nbb_cell_id = 701;\n",
       "                var nbb_unformatted_code = \"median_foreground = set(median_expression.loc[median_expression > 0].index)\\nmedian_background = set(median_expression.loc[median_expression <= 0].index)\\nax = venn.venn(\\n    dict(\\n        zip(\\n            [\\\"ORF targets\\\", \\\"Medium/High expressed genes\\\", \\\"Human TFs\\\"],\\n            [orf_targets, median_foreground, human_tfs],\\n        )\\n    )\\n)\";\n",
       "                var nbb_formatted_code = \"median_foreground = set(median_expression.loc[median_expression > 0].index)\\nmedian_background = set(median_expression.loc[median_expression <= 0].index)\\nax = venn.venn(\\n    dict(\\n        zip(\\n            [\\\"ORF targets\\\", \\\"Medium/High expressed genes\\\", \\\"Human TFs\\\"],\\n            [orf_targets, median_foreground, human_tfs],\\n        )\\n    )\\n)\";\n",
       "                var nbb_cells = Jupyter.notebook.get_cells();\n",
       "                for (var i = 0; i < nbb_cells.length; ++i) {\n",
       "                    if (nbb_cells[i].input_prompt_number == nbb_cell_id) {\n",
       "                        if (nbb_cells[i].get_text() == nbb_unformatted_code) {\n",
       "                             nbb_cells[i].set_text(nbb_formatted_code);\n",
       "                        }\n",
       "                        break;\n",
       "                    }\n",
       "                }\n",
       "            }, 500);\n",
       "            "
      ],
      "text/plain": [
       "<IPython.core.display.Javascript object>"
      ]
     },
     "metadata": {},
     "output_type": "display_data"
    }
   ],
   "source": [
    "median_foreground = set(median_expression.loc[median_expression > 0].index)\n",
    "median_background = set(median_expression.loc[median_expression <= 0].index)\n",
    "ax = venn.venn(\n",
    "    dict(\n",
    "        zip(\n",
    "            [\"ORF targets\", \"Medium/High expressed genes\", \"Human TFs\"],\n",
    "            [orf_targets, median_foreground, human_tfs],\n",
    "        )\n",
    "    )\n",
    ")"
   ]
  },
  {
   "cell_type": "markdown",
   "id": "8af87dd4",
   "metadata": {},
   "source": [
    "However, when having a closer look at the ORF targets that were identified to be background genes based on their low expression, we find that e.g. CEBPA (avg. log-expr: 0.08453) is among them which showed a drastic change in the cellular morphology upon over-expression. We would not want exclude such genes from our analyses.\n",
    "\n",
    "We could pursue an approach where we only remove low-expressed genes that are not ORF targets, however it is likely that expression of these are co-regulated with certain other genes that upon over-expression lead to the drastic morphological changes. Thus, it might be desirable to include also low-expressed genes in the analyses to not also capture important signaling pathways that are turned off in wildtype U2OS cells but lead to significant structural changes in the cell upon activation via overexpression."
   ]
  },
  {
   "cell_type": "code",
   "execution_count": 702,
   "id": "d4cbc256",
   "metadata": {},
   "outputs": [
    {
     "data": {
      "text/plain": [
       "{'AXIN2',\n",
       " 'BAMBI',\n",
       " 'BMP2',\n",
       " 'BMPR1B',\n",
       " 'CEBPA',\n",
       " 'CXXC4',\n",
       " 'DEPTOR',\n",
       " 'DKK1',\n",
       " 'DLL1',\n",
       " 'ERG',\n",
       " 'FGFR3',\n",
       " 'FOXO1',\n",
       " 'GLI1',\n",
       " 'JAK2',\n",
       " 'MAP3K5',\n",
       " 'MAP3K8',\n",
       " 'MAPK13',\n",
       " 'MKNK1',\n",
       " 'PHLPP1',\n",
       " 'PPARGC1A',\n",
       " 'SMAD7',\n",
       " 'TNFAIP3',\n",
       " 'VEGFC',\n",
       " 'WNT5A'}"
      ]
     },
     "execution_count": 702,
     "metadata": {},
     "output_type": "execute_result"
    },
    {
     "data": {
      "application/javascript": [
       "\n",
       "            setTimeout(function() {\n",
       "                var nbb_cell_id = 702;\n",
       "                var nbb_unformatted_code = \"orf_targets.intersection(median_background)\";\n",
       "                var nbb_formatted_code = \"orf_targets.intersection(median_background)\";\n",
       "                var nbb_cells = Jupyter.notebook.get_cells();\n",
       "                for (var i = 0; i < nbb_cells.length; ++i) {\n",
       "                    if (nbb_cells[i].input_prompt_number == nbb_cell_id) {\n",
       "                        if (nbb_cells[i].get_text() == nbb_unformatted_code) {\n",
       "                             nbb_cells[i].set_text(nbb_formatted_code);\n",
       "                        }\n",
       "                        break;\n",
       "                    }\n",
       "                }\n",
       "            }, 500);\n",
       "            "
      ],
      "text/plain": [
       "<IPython.core.display.Javascript object>"
      ]
     },
     "metadata": {},
     "output_type": "display_data"
    }
   ],
   "source": [
    "orf_targets.intersection(median_background)"
   ]
  },
  {
   "cell_type": "markdown",
   "id": "14dce4a8",
   "metadata": {},
   "source": [
    "---"
   ]
  },
  {
   "cell_type": "markdown",
   "id": "0aadd128",
   "metadata": {},
   "source": [
    "### 2b. Identification of U2OS marker genes\n",
    "\n",
    "The set of genes that we identified as not being moderately expressed in U2OS cells forms one possible subset of genes of interest for the derivation of the cell-type specific interactome.\n",
    "\n",
    "One alternative approach is to define a marker gene set for the given cell type by finding those genes that are significantly overexpressed in U2OS cell compared to other cell types. To identify such a set we will focus on the CCLE data spanning over 1300 different cancer cell lines. Note that this will likely lead to a selection of genes that are highly specific to that cell type due to the comparison to other cancer cell lines only."
   ]
  },
  {
   "cell_type": "markdown",
   "id": "6779e7ef",
   "metadata": {},
   "source": [
    "To identify a the markers, we will run a screen testing for every gene if the mean expression of all other cancer cell lines is significantly smaller than the expression of that respective gene for U2OS cells using the bulk RNAseq data. In particular, we will test the following for each gene:"
   ]
  },
  {
   "cell_type": "markdown",
   "id": "b1f54af5",
   "metadata": {},
   "source": [
    "$$\n",
    "H_A: \\quad \\bar{x}_i < x_{i,U2OS}, \\quad \\textrm{with} \\ \\bar{x}_i=\\frac{1}{N-1}\\sum\\limits_{j\\neq U2OS}x_{i,j}\n",
    "$$\n",
    "where $x_{i,j}$ is the transformed expression of gene $i$ in cell type $j$."
   ]
  },
  {
   "cell_type": "code",
   "execution_count": 666,
   "id": "673c87a4",
   "metadata": {},
   "outputs": [
    {
     "data": {
      "application/javascript": [
       "\n",
       "            setTimeout(function() {\n",
       "                var nbb_cell_id = 666;\n",
       "                var nbb_unformatted_code = \"marker_results = find_markers(\\n    ccle_data,\\n    target=\\\"U2OS\\\",\\n    avg_log_fc=0.0,\\n    min_pct=0,\\n)\";\n",
       "                var nbb_formatted_code = \"marker_results = find_markers(\\n    ccle_data,\\n    target=\\\"U2OS\\\",\\n    avg_log_fc=0.0,\\n    min_pct=0,\\n)\";\n",
       "                var nbb_cells = Jupyter.notebook.get_cells();\n",
       "                for (var i = 0; i < nbb_cells.length; ++i) {\n",
       "                    if (nbb_cells[i].input_prompt_number == nbb_cell_id) {\n",
       "                        if (nbb_cells[i].get_text() == nbb_unformatted_code) {\n",
       "                             nbb_cells[i].set_text(nbb_formatted_code);\n",
       "                        }\n",
       "                        break;\n",
       "                    }\n",
       "                }\n",
       "            }, 500);\n",
       "            "
      ],
      "text/plain": [
       "<IPython.core.display.Javascript object>"
      ]
     },
     "metadata": {},
     "output_type": "display_data"
    }
   ],
   "source": [
    "marker_results = find_markers(\n",
    "    ccle_data,\n",
    "    target=\"U2OS\",\n",
    "    avg_log_fc=0.0,\n",
    "    min_pct=0,\n",
    ")"
   ]
  },
  {
   "cell_type": "code",
   "execution_count": 667,
   "id": "8cd43d88",
   "metadata": {},
   "outputs": [
    {
     "data": {
      "text/html": [
       "<div>\n",
       "<style scoped>\n",
       "    .dataframe tbody tr th:only-of-type {\n",
       "        vertical-align: middle;\n",
       "    }\n",
       "\n",
       "    .dataframe tbody tr th {\n",
       "        vertical-align: top;\n",
       "    }\n",
       "\n",
       "    .dataframe thead th {\n",
       "        text-align: right;\n",
       "    }\n",
       "</style>\n",
       "<table border=\"1\" class=\"dataframe\">\n",
       "  <thead>\n",
       "    <tr style=\"text-align: right;\">\n",
       "      <th></th>\n",
       "      <th>log_expr_target</th>\n",
       "      <th>avg_log_expr_other</th>\n",
       "      <th>log_fc</th>\n",
       "      <th>pval</th>\n",
       "      <th>fdr</th>\n",
       "    </tr>\n",
       "  </thead>\n",
       "  <tbody>\n",
       "    <tr>\n",
       "      <th>DHRS2</th>\n",
       "      <td>10.913937</td>\n",
       "      <td>2.265074</td>\n",
       "      <td>8.648862</td>\n",
       "      <td>0.000000e+00</td>\n",
       "      <td>0.000000e+00</td>\n",
       "    </tr>\n",
       "    <tr>\n",
       "      <th>TUBA3C</th>\n",
       "      <td>8.172977</td>\n",
       "      <td>0.363201</td>\n",
       "      <td>7.809776</td>\n",
       "      <td>0.000000e+00</td>\n",
       "      <td>0.000000e+00</td>\n",
       "    </tr>\n",
       "    <tr>\n",
       "      <th>XAGE1B</th>\n",
       "      <td>9.351337</td>\n",
       "      <td>1.736868</td>\n",
       "      <td>7.614469</td>\n",
       "      <td>0.000000e+00</td>\n",
       "      <td>0.000000e+00</td>\n",
       "    </tr>\n",
       "    <tr>\n",
       "      <th>PAGE2</th>\n",
       "      <td>7.891055</td>\n",
       "      <td>0.447193</td>\n",
       "      <td>7.443861</td>\n",
       "      <td>0.000000e+00</td>\n",
       "      <td>0.000000e+00</td>\n",
       "    </tr>\n",
       "    <tr>\n",
       "      <th>PAGE2B</th>\n",
       "      <td>7.760687</td>\n",
       "      <td>0.404266</td>\n",
       "      <td>7.356420</td>\n",
       "      <td>0.000000e+00</td>\n",
       "      <td>0.000000e+00</td>\n",
       "    </tr>\n",
       "    <tr>\n",
       "      <th>...</th>\n",
       "      <td>...</td>\n",
       "      <td>...</td>\n",
       "      <td>...</td>\n",
       "      <td>...</td>\n",
       "      <td>...</td>\n",
       "    </tr>\n",
       "    <tr>\n",
       "      <th>SMIM21</th>\n",
       "      <td>0.014355</td>\n",
       "      <td>0.007807</td>\n",
       "      <td>0.006548</td>\n",
       "      <td>1.162283e-09</td>\n",
       "      <td>1.327671e-09</td>\n",
       "    </tr>\n",
       "    <tr>\n",
       "      <th>PIWIL3</th>\n",
       "      <td>0.028569</td>\n",
       "      <td>0.022119</td>\n",
       "      <td>0.006450</td>\n",
       "      <td>3.728848e-02</td>\n",
       "      <td>3.900598e-02</td>\n",
       "    </tr>\n",
       "    <tr>\n",
       "      <th>GOLGA6L6</th>\n",
       "      <td>0.014355</td>\n",
       "      <td>0.008126</td>\n",
       "      <td>0.006230</td>\n",
       "      <td>4.286195e-02</td>\n",
       "      <td>4.476221e-02</td>\n",
       "    </tr>\n",
       "    <tr>\n",
       "      <th>HEATR9</th>\n",
       "      <td>0.028569</td>\n",
       "      <td>0.022395</td>\n",
       "      <td>0.006174</td>\n",
       "      <td>9.802144e-03</td>\n",
       "      <td>1.037052e-02</td>\n",
       "    </tr>\n",
       "    <tr>\n",
       "      <th>MRGPRX2</th>\n",
       "      <td>0.014355</td>\n",
       "      <td>0.009228</td>\n",
       "      <td>0.005127</td>\n",
       "      <td>2.800936e-04</td>\n",
       "      <td>3.036769e-04</td>\n",
       "    </tr>\n",
       "  </tbody>\n",
       "</table>\n",
       "<p>10316 rows × 5 columns</p>\n",
       "</div>"
      ],
      "text/plain": [
       "          log_expr_target  avg_log_expr_other    log_fc          pval  \\\n",
       "DHRS2           10.913937            2.265074  8.648862  0.000000e+00   \n",
       "TUBA3C           8.172977            0.363201  7.809776  0.000000e+00   \n",
       "XAGE1B           9.351337            1.736868  7.614469  0.000000e+00   \n",
       "PAGE2            7.891055            0.447193  7.443861  0.000000e+00   \n",
       "PAGE2B           7.760687            0.404266  7.356420  0.000000e+00   \n",
       "...                   ...                 ...       ...           ...   \n",
       "SMIM21           0.014355            0.007807  0.006548  1.162283e-09   \n",
       "PIWIL3           0.028569            0.022119  0.006450  3.728848e-02   \n",
       "GOLGA6L6         0.014355            0.008126  0.006230  4.286195e-02   \n",
       "HEATR9           0.028569            0.022395  0.006174  9.802144e-03   \n",
       "MRGPRX2          0.014355            0.009228  0.005127  2.800936e-04   \n",
       "\n",
       "                   fdr  \n",
       "DHRS2     0.000000e+00  \n",
       "TUBA3C    0.000000e+00  \n",
       "XAGE1B    0.000000e+00  \n",
       "PAGE2     0.000000e+00  \n",
       "PAGE2B    0.000000e+00  \n",
       "...                ...  \n",
       "SMIM21    1.327671e-09  \n",
       "PIWIL3    3.900598e-02  \n",
       "GOLGA6L6  4.476221e-02  \n",
       "HEATR9    1.037052e-02  \n",
       "MRGPRX2   3.036769e-04  \n",
       "\n",
       "[10316 rows x 5 columns]"
      ]
     },
     "execution_count": 667,
     "metadata": {},
     "output_type": "execute_result"
    },
    {
     "data": {
      "application/javascript": [
       "\n",
       "            setTimeout(function() {\n",
       "                var nbb_cell_id = 667;\n",
       "                var nbb_unformatted_code = \"marker_results.loc[(marker_results[\\\"fdr\\\"] < 0.05)].sort_values(\\n    \\\"log_fc\\\", ascending=False\\n)\";\n",
       "                var nbb_formatted_code = \"marker_results.loc[(marker_results[\\\"fdr\\\"] < 0.05)].sort_values(\\n    \\\"log_fc\\\", ascending=False\\n)\";\n",
       "                var nbb_cells = Jupyter.notebook.get_cells();\n",
       "                for (var i = 0; i < nbb_cells.length; ++i) {\n",
       "                    if (nbb_cells[i].input_prompt_number == nbb_cell_id) {\n",
       "                        if (nbb_cells[i].get_text() == nbb_unformatted_code) {\n",
       "                             nbb_cells[i].set_text(nbb_formatted_code);\n",
       "                        }\n",
       "                        break;\n",
       "                    }\n",
       "                }\n",
       "            }, 500);\n",
       "            "
      ],
      "text/plain": [
       "<IPython.core.display.Javascript object>"
      ]
     },
     "metadata": {},
     "output_type": "display_data"
    }
   ],
   "source": [
    "marker_results.loc[(marker_results[\"fdr\"] < 0.05)].sort_values(\n",
    "    \"log_fc\", ascending=False\n",
    ")"
   ]
  },
  {
   "cell_type": "markdown",
   "id": "6db6dd25",
   "metadata": {},
   "source": [
    "When we look at the log-fold changes of those genes that are overexpressed in U2OS cells compared to the other cell lines we find that those are decaying exponentially."
   ]
  },
  {
   "cell_type": "code",
   "execution_count": 713,
   "id": "8df24b46",
   "metadata": {},
   "outputs": [
    {
     "data": {
      "image/png": "[encoded data removed]",
      "text/plain": [
       "<Figure size 432x288 with 1 Axes>"
      ]
     },
     "metadata": {
      "needs_background": "light"
     },
     "output_type": "display_data"
    },
    {
     "data": {
      "application/javascript": [
       "\n",
       "            setTimeout(function() {\n",
       "                var nbb_cell_id = 713;\n",
       "                var nbb_unformatted_code = \"plt.figure()\\nplt.plot(\\n    list(range(len(marker_results))),\\n    np.array(marker_results.sort_values(\\\"log_fc\\\", ascending=False).loc[:, \\\"log_fc\\\"]),\\n)\\nplt.ylabel(\\\"Log-fold change\\\")\\nplt.xlabel(\\\"Gene ID\\\")\\nplt.title(\\\"Log-fold change of the expression in U2OS cells vs. other cancer cells\\\")\\nplt.show()\";\n",
       "                var nbb_formatted_code = \"plt.figure()\\nplt.plot(\\n    list(range(len(marker_results))),\\n    np.array(marker_results.sort_values(\\\"log_fc\\\", ascending=False).loc[:, \\\"log_fc\\\"]),\\n)\\nplt.ylabel(\\\"Log-fold change\\\")\\nplt.xlabel(\\\"Gene ID\\\")\\nplt.title(\\\"Log-fold change of the expression in U2OS cells vs. other cancer cells\\\")\\nplt.show()\";\n",
       "                var nbb_cells = Jupyter.notebook.get_cells();\n",
       "                for (var i = 0; i < nbb_cells.length; ++i) {\n",
       "                    if (nbb_cells[i].input_prompt_number == nbb_cell_id) {\n",
       "                        if (nbb_cells[i].get_text() == nbb_unformatted_code) {\n",
       "                             nbb_cells[i].set_text(nbb_formatted_code);\n",
       "                        }\n",
       "                        break;\n",
       "                    }\n",
       "                }\n",
       "            }, 500);\n",
       "            "
      ],
      "text/plain": [
       "<IPython.core.display.Javascript object>"
      ]
     },
     "metadata": {},
     "output_type": "display_data"
    }
   ],
   "source": [
    "plt.figure()\n",
    "plt.plot(\n",
    "    list(range(len(marker_results))),\n",
    "    np.array(marker_results.sort_values(\"log_fc\", ascending=False).loc[:, \"log_fc\"]),\n",
    ")\n",
    "plt.ylabel(\"Log-fold change\")\n",
    "plt.xlabel(\"Gene ID\")\n",
    "plt.title(\"Log-fold change of the expression in U2OS cells vs. other cancer cells\")\n",
    "plt.show()"
   ]
  },
  {
   "cell_type": "markdown",
   "id": "beafed16",
   "metadata": {},
   "source": [
    "When looking at the plot of the distribution of the log-fold change of the expression in U2OS cells, we see that it levels off after approx. 1'000 of the most overexpressed genes in U2OS cells. We propose to conservatively choose those genes that are overexpressed with a log-fold change of at least 1 in U2OS cells compared to other cancer cell lines from the CCLE."
   ]
  },
  {
   "cell_type": "markdown",
   "id": "209c75d2",
   "metadata": {},
   "source": [
    "However, when we look at the log-fold change of the ORF targets, we see that many of these show a log-fold change below 1 and many of these however show an important structural response when overexpressed by ORF constructs like CASP8 which is highly toxic upon overexpression."
   ]
  },
  {
   "cell_type": "code",
   "execution_count": 717,
   "id": "dacff4a1",
   "metadata": {},
   "outputs": [
    {
     "data": {
      "image/png": "[encoded data removed]",
      "text/plain": [
       "<Figure size 1008x432 with 1 Axes>"
      ]
     },
     "metadata": {
      "needs_background": "light"
     },
     "output_type": "display_data"
    },
    {
     "data": {
      "application/javascript": [
       "\n",
       "            setTimeout(function() {\n",
       "                var nbb_cell_id = 717;\n",
       "                var nbb_unformatted_code = \"orf_log_fc = marker_results.loc[\\n    set(list(marker_results.index)).intersection(orf_targets), \\\"log_fc\\\"\\n]\\norf_log_fc.sort_index().iloc[52:].plot.bar(figsize=[14, 6], color=\\\"tab:green\\\")\\nplt.ylabel(\\\"log fold-change\\\")\\nplt.title(\\n    \\\"Log-fold change of the ORF targets comparing U2OS against other cancer cell lines\\\"\\n)\\nplt.show()\";\n",
       "                var nbb_formatted_code = \"orf_log_fc = marker_results.loc[\\n    set(list(marker_results.index)).intersection(orf_targets), \\\"log_fc\\\"\\n]\\norf_log_fc.sort_index().iloc[52:].plot.bar(figsize=[14, 6], color=\\\"tab:green\\\")\\nplt.ylabel(\\\"log fold-change\\\")\\nplt.title(\\n    \\\"Log-fold change of the ORF targets comparing U2OS against other cancer cell lines\\\"\\n)\\nplt.show()\";\n",
       "                var nbb_cells = Jupyter.notebook.get_cells();\n",
       "                for (var i = 0; i < nbb_cells.length; ++i) {\n",
       "                    if (nbb_cells[i].input_prompt_number == nbb_cell_id) {\n",
       "                        if (nbb_cells[i].get_text() == nbb_unformatted_code) {\n",
       "                             nbb_cells[i].set_text(nbb_formatted_code);\n",
       "                        }\n",
       "                        break;\n",
       "                    }\n",
       "                }\n",
       "            }, 500);\n",
       "            "
      ],
      "text/plain": [
       "<IPython.core.display.Javascript object>"
      ]
     },
     "metadata": {},
     "output_type": "display_data"
    }
   ],
   "source": [
    "orf_log_fc = marker_results.loc[\n",
    "    set(list(marker_results.index)).intersection(orf_targets), \"log_fc\"\n",
    "]\n",
    "orf_log_fc.sort_index().iloc[52:].plot.bar(figsize=[14, 6], color=\"tab:green\")\n",
    "plt.ylabel(\"log fold-change\")\n",
    "plt.title(\n",
    "    \"Log-fold change of the ORF targets comparing U2OS against other cancer cell lines\"\n",
    ")\n",
    "plt.show()"
   ]
  },
  {
   "cell_type": "markdown",
   "id": "4cfa699b",
   "metadata": {},
   "source": [
    "Thus, we suggest to add all ORF targets covered by the scRNA-seq and iRefIndexDB v14 to those genes that are overexpressed with a log-fold change of at least 1."
   ]
  },
  {
   "cell_type": "markdown",
   "id": "85e4d32d",
   "metadata": {},
   "source": [
    "This set of genes importantly includes 103/190 ORF targets and 730/1839 known transcripton factors. 87 ORF targets including 17 transcription factors are not selected."
   ]
  },
  {
   "cell_type": "code",
   "execution_count": 670,
   "id": "3502f43c",
   "metadata": {},
   "outputs": [
    {
     "data": {
      "text/plain": [
       "2753"
      ]
     },
     "execution_count": 670,
     "metadata": {},
     "output_type": "execute_result"
    },
    {
     "data": {
      "application/javascript": [
       "\n",
       "            setTimeout(function() {\n",
       "                var nbb_cell_id = 670;\n",
       "                var nbb_unformatted_code = \"selected_gene_set = set(marker_results.loc[marker_results[\\\"log_fc\\\"] >= 1].index)\\nselected_gene_set = (\\n    (selected_gene_set.union(orf_targets))\\n    .intersection(fucci_gene_set)\\n    .intersection(ppi_gene_set)\\n)\\nlen(selected_gene_set)\";\n",
       "                var nbb_formatted_code = \"selected_gene_set = set(marker_results.loc[marker_results[\\\"log_fc\\\"] >= 1].index)\\nselected_gene_set = (\\n    (selected_gene_set.union(orf_targets))\\n    .intersection(fucci_gene_set)\\n    .intersection(ppi_gene_set)\\n)\\nlen(selected_gene_set)\";\n",
       "                var nbb_cells = Jupyter.notebook.get_cells();\n",
       "                for (var i = 0; i < nbb_cells.length; ++i) {\n",
       "                    if (nbb_cells[i].input_prompt_number == nbb_cell_id) {\n",
       "                        if (nbb_cells[i].get_text() == nbb_unformatted_code) {\n",
       "                             nbb_cells[i].set_text(nbb_formatted_code);\n",
       "                        }\n",
       "                        break;\n",
       "                    }\n",
       "                }\n",
       "            }, 500);\n",
       "            "
      ],
      "text/plain": [
       "<IPython.core.display.Javascript object>"
      ]
     },
     "metadata": {},
     "output_type": "display_data"
    }
   ],
   "source": [
    "selected_gene_set = set(marker_results.loc[marker_results[\"log_fc\"] >= 1].index)\n",
    "selected_gene_set = (\n",
    "    (selected_gene_set.union(orf_targets))\n",
    "    .intersection(fucci_gene_set)\n",
    "    .intersection(ppi_gene_set)\n",
    ")\n",
    "len(selected_gene_set)"
   ]
  },
  {
   "cell_type": "code",
   "execution_count": 571,
   "id": "c99e7c13",
   "metadata": {},
   "outputs": [
    {
     "data": {
      "image/png": "[encoded data removed]",
      "text/plain": [
       "<Figure size 576x576 with 1 Axes>"
      ]
     },
     "metadata": {},
     "output_type": "display_data"
    },
    {
     "data": {
      "application/javascript": [
       "\n",
       "            setTimeout(function() {\n",
       "                var nbb_cell_id = 571;\n",
       "                var nbb_unformatted_code = \"ax = venn.venn(\\n    dict(\\n        zip(\\n            [\\n                \\\"ORF targets\\\",\\n                \\\"selected gene set\\\",\\n                \\\"scRNA-seq (FUCCI) data\\\",\\n                \\\"iRefIndexDB v14\\\",\\n                \\\"Human TFs\\\",\\n            ],\\n            [\\n                orf_targets,\\n                selected_gene_set,\\n                fucci_gene_set,\\n                ppi_gene_set,\\n                human_tfs,\\n            ],\\n        )\\n    )\\n)\";\n",
       "                var nbb_formatted_code = \"ax = venn.venn(\\n    dict(\\n        zip(\\n            [\\n                \\\"ORF targets\\\",\\n                \\\"selected gene set\\\",\\n                \\\"scRNA-seq (FUCCI) data\\\",\\n                \\\"iRefIndexDB v14\\\",\\n                \\\"Human TFs\\\",\\n            ],\\n            [\\n                orf_targets,\\n                selected_gene_set,\\n                fucci_gene_set,\\n                ppi_gene_set,\\n                human_tfs,\\n            ],\\n        )\\n    )\\n)\";\n",
       "                var nbb_cells = Jupyter.notebook.get_cells();\n",
       "                for (var i = 0; i < nbb_cells.length; ++i) {\n",
       "                    if (nbb_cells[i].input_prompt_number == nbb_cell_id) {\n",
       "                        if (nbb_cells[i].get_text() == nbb_unformatted_code) {\n",
       "                             nbb_cells[i].set_text(nbb_formatted_code);\n",
       "                        }\n",
       "                        break;\n",
       "                    }\n",
       "                }\n",
       "            }, 500);\n",
       "            "
      ],
      "text/plain": [
       "<IPython.core.display.Javascript object>"
      ]
     },
     "metadata": {},
     "output_type": "display_data"
    }
   ],
   "source": [
    "ax = venn.venn(\n",
    "    dict(\n",
    "        zip(\n",
    "            [\n",
    "                \"ORF targets\",\n",
    "                \"selected gene set\",\n",
    "                \"scRNA-seq (FUCCI) data\",\n",
    "                \"iRefIndexDB v14\",\n",
    "                \"Human TFs\",\n",
    "            ],\n",
    "            [\n",
    "                orf_targets,\n",
    "                selected_gene_set,\n",
    "                fucci_gene_set,\n",
    "                ppi_gene_set,\n",
    "                human_tfs,\n",
    "            ],\n",
    "        )\n",
    "    )\n",
    ")"
   ]
  },
  {
   "cell_type": "markdown",
   "id": "a7ee6b01",
   "metadata": {},
   "source": [
    "The selected gene set consists of 2'753 genes including 329 human transcription factor and 185 of the ORF targets (only not including CSNK1E, IRGM, MEK1 and PRKACG)."
   ]
  },
  {
   "cell_type": "markdown",
   "id": "ee7c9ef8",
   "metadata": {},
   "source": [
    "---\n",
    "\n",
    "## 3. Preprocessing the PPI"
   ]
  },
  {
   "cell_type": "markdown",
   "id": "986af1b9",
   "metadata": {},
   "source": [
    "In the following we will prune the PPI to remove low-confidence edges and respective disconnected components. To this end, we first aim to find a cut-off for the given edge costs that correspond to a measure of uncertainty for the existance of an interaction in the PPI between any pair of nodes.\n",
    "\n",
    "The plots below illustrate the number of nodes, number of edges the average degree and the number of covered ORF targets for different cutoff values for the certainty of the respective edges of the subgraph of the human PPI induced by selecting only those gene covered by the scRNA-seq data set."
   ]
  },
  {
   "cell_type": "code",
   "execution_count": 520,
   "id": "65218f16",
   "metadata": {},
   "outputs": [
    {
     "name": "stdout",
     "output_type": "stream",
     "text": [
      "Name: \n",
      "Type: Graph\n",
      "Number of nodes: 13129\n",
      "Number of edges: 154269\n",
      "Average degree:  23.5005\n"
     ]
    },
    {
     "data": {
      "application/javascript": [
       "\n",
       "            setTimeout(function() {\n",
       "                var nbb_cell_id = 520;\n",
       "                var nbb_unformatted_code = \"filtered_ppi = iref_ppi.subgraph(fucci_gene_set)\\nprint(nx.info(filtered_ppi))\";\n",
       "                var nbb_formatted_code = \"filtered_ppi = iref_ppi.subgraph(fucci_gene_set)\\nprint(nx.info(filtered_ppi))\";\n",
       "                var nbb_cells = Jupyter.notebook.get_cells();\n",
       "                for (var i = 0; i < nbb_cells.length; ++i) {\n",
       "                    if (nbb_cells[i].input_prompt_number == nbb_cell_id) {\n",
       "                        if (nbb_cells[i].get_text() == nbb_unformatted_code) {\n",
       "                             nbb_cells[i].set_text(nbb_formatted_code);\n",
       "                        }\n",
       "                        break;\n",
       "                    }\n",
       "                }\n",
       "            }, 500);\n",
       "            "
      ],
      "text/plain": [
       "<IPython.core.display.Javascript object>"
      ]
     },
     "metadata": {},
     "output_type": "display_data"
    }
   ],
   "source": [
    "filtered_ppi = iref_ppi.subgraph(fucci_gene_set)\n",
    "print(nx.info(filtered_ppi))"
   ]
  },
  {
   "cell_type": "code",
   "execution_count": 521,
   "id": "13185456",
   "metadata": {},
   "outputs": [
    {
     "name": "stderr",
     "output_type": "stream",
     "text": [
      "100%|██████████| 1000/1000 [01:42<00:00,  9.78it/s]\n"
     ]
    },
    {
     "data": {
      "application/javascript": [
       "\n",
       "            setTimeout(function() {\n",
       "                var nbb_cell_id = 521;\n",
       "                var nbb_unformatted_code = \"confidence_cutoff_search_results = search_for_confidence_cutoff(\\n    filtered_ppi, targets=orf_targets\\n)\";\n",
       "                var nbb_formatted_code = \"confidence_cutoff_search_results = search_for_confidence_cutoff(\\n    filtered_ppi, targets=orf_targets\\n)\";\n",
       "                var nbb_cells = Jupyter.notebook.get_cells();\n",
       "                for (var i = 0; i < nbb_cells.length; ++i) {\n",
       "                    if (nbb_cells[i].input_prompt_number == nbb_cell_id) {\n",
       "                        if (nbb_cells[i].get_text() == nbb_unformatted_code) {\n",
       "                             nbb_cells[i].set_text(nbb_formatted_code);\n",
       "                        }\n",
       "                        break;\n",
       "                    }\n",
       "                }\n",
       "            }, 500);\n",
       "            "
      ],
      "text/plain": [
       "<IPython.core.display.Javascript object>"
      ]
     },
     "metadata": {},
     "output_type": "display_data"
    }
   ],
   "source": [
    "confidence_cutoff_search_results = search_for_confidence_cutoff(\n",
    "    filtered_ppi, targets=orf_targets\n",
    ")"
   ]
  },
  {
   "cell_type": "code",
   "execution_count": 522,
   "id": "3ee4c27b",
   "metadata": {},
   "outputs": [
    {
     "data": {
      "image/png": "[encoded data removed]",
      "text/plain": [
       "<Figure size 720x576 with 4 Axes>"
      ]
     },
     "metadata": {
      "needs_background": "light"
     },
     "output_type": "display_data"
    },
    {
     "data": {
      "application/javascript": [
       "\n",
       "            setTimeout(function() {\n",
       "                var nbb_cell_id = 522;\n",
       "                var nbb_unformatted_code = \"fig, ax = plt.subplots(nrows=2, ncols=2, figsize=[10, 8])\\nax = ax.flatten()\\nsns.lineplot(data=confidence_cutoff_search_results, x=\\\"cutoff\\\", y=\\\"n_nodes\\\", ax=ax[0])\\nsns.lineplot(data=confidence_cutoff_search_results, x=\\\"cutoff\\\", y=\\\"n_edges\\\", ax=ax[1])\\nsns.lineplot(data=confidence_cutoff_search_results, x=\\\"cutoff\\\", y=\\\"n_targets\\\", ax=ax[2])\\nsns.lineplot(\\n    data=confidence_cutoff_search_results, x=\\\"cutoff\\\", y=\\\"avg_degree\\\", ax=ax[3]\\n)\\nplt.show()\";\n",
       "                var nbb_formatted_code = \"fig, ax = plt.subplots(nrows=2, ncols=2, figsize=[10, 8])\\nax = ax.flatten()\\nsns.lineplot(data=confidence_cutoff_search_results, x=\\\"cutoff\\\", y=\\\"n_nodes\\\", ax=ax[0])\\nsns.lineplot(data=confidence_cutoff_search_results, x=\\\"cutoff\\\", y=\\\"n_edges\\\", ax=ax[1])\\nsns.lineplot(data=confidence_cutoff_search_results, x=\\\"cutoff\\\", y=\\\"n_targets\\\", ax=ax[2])\\nsns.lineplot(\\n    data=confidence_cutoff_search_results, x=\\\"cutoff\\\", y=\\\"avg_degree\\\", ax=ax[3]\\n)\\nplt.show()\";\n",
       "                var nbb_cells = Jupyter.notebook.get_cells();\n",
       "                for (var i = 0; i < nbb_cells.length; ++i) {\n",
       "                    if (nbb_cells[i].input_prompt_number == nbb_cell_id) {\n",
       "                        if (nbb_cells[i].get_text() == nbb_unformatted_code) {\n",
       "                             nbb_cells[i].set_text(nbb_formatted_code);\n",
       "                        }\n",
       "                        break;\n",
       "                    }\n",
       "                }\n",
       "            }, 500);\n",
       "            "
      ],
      "text/plain": [
       "<IPython.core.display.Javascript object>"
      ]
     },
     "metadata": {},
     "output_type": "display_data"
    }
   ],
   "source": [
    "fig, ax = plt.subplots(nrows=2, ncols=2, figsize=[10, 8])\n",
    "ax = ax.flatten()\n",
    "sns.lineplot(data=confidence_cutoff_search_results, x=\"cutoff\", y=\"n_nodes\", ax=ax[0])\n",
    "sns.lineplot(data=confidence_cutoff_search_results, x=\"cutoff\", y=\"n_edges\", ax=ax[1])\n",
    "sns.lineplot(data=confidence_cutoff_search_results, x=\"cutoff\", y=\"n_targets\", ax=ax[2])\n",
    "sns.lineplot(\n",
    "    data=confidence_cutoff_search_results, x=\"cutoff\", y=\"avg_degree\", ax=ax[3]\n",
    ")\n",
    "plt.show()"
   ]
  },
  {
   "cell_type": "markdown",
   "id": "813dc82c",
   "metadata": {},
   "source": [
    "We see that the average degree and the number of edges jumps at a level around 0.6. Importantly, at this point all 185 ORF targets are already included in the graph. Thus, we will prune the network to remove all edges with a cost higher than the highest edge prize connecting any of the targets, i.e. the minimum cutoff value for which the number of targets that are covered in the respective subgraph are 185."
   ]
  },
  {
   "cell_type": "code",
   "execution_count": 523,
   "id": "58f83b53",
   "metadata": {},
   "outputs": [
    {
     "data": {
      "text/html": [
       "<div>\n",
       "<style scoped>\n",
       "    .dataframe tbody tr th:only-of-type {\n",
       "        vertical-align: middle;\n",
       "    }\n",
       "\n",
       "    .dataframe tbody tr th {\n",
       "        vertical-align: top;\n",
       "    }\n",
       "\n",
       "    .dataframe thead th {\n",
       "        text-align: right;\n",
       "    }\n",
       "</style>\n",
       "<table border=\"1\" class=\"dataframe\">\n",
       "  <thead>\n",
       "    <tr style=\"text-align: right;\">\n",
       "      <th></th>\n",
       "      <th>cutoff</th>\n",
       "      <th>n_nodes</th>\n",
       "      <th>n_targets</th>\n",
       "      <th>n_edges</th>\n",
       "      <th>avg_degree</th>\n",
       "    </tr>\n",
       "  </thead>\n",
       "  <tbody>\n",
       "    <tr>\n",
       "      <th>562</th>\n",
       "      <td>0.562</td>\n",
       "      <td>10900</td>\n",
       "      <td>185</td>\n",
       "      <td>54582</td>\n",
       "      <td>10.015046</td>\n",
       "    </tr>\n",
       "  </tbody>\n",
       "</table>\n",
       "</div>"
      ],
      "text/plain": [
       "     cutoff  n_nodes  n_targets  n_edges  avg_degree\n",
       "562   0.562    10900        185    54582   10.015046"
      ]
     },
     "execution_count": 523,
     "metadata": {},
     "output_type": "execute_result"
    },
    {
     "data": {
      "application/javascript": [
       "\n",
       "            setTimeout(function() {\n",
       "                var nbb_cell_id = 523;\n",
       "                var nbb_unformatted_code = \"confidence_cutoff_search_results.loc[\\n    confidence_cutoff_search_results[\\\"n_targets\\\"] == 185\\n].sort_values(\\\"cutoff\\\").head(1)\";\n",
       "                var nbb_formatted_code = \"confidence_cutoff_search_results.loc[\\n    confidence_cutoff_search_results[\\\"n_targets\\\"] == 185\\n].sort_values(\\\"cutoff\\\").head(1)\";\n",
       "                var nbb_cells = Jupyter.notebook.get_cells();\n",
       "                for (var i = 0; i < nbb_cells.length; ++i) {\n",
       "                    if (nbb_cells[i].input_prompt_number == nbb_cell_id) {\n",
       "                        if (nbb_cells[i].get_text() == nbb_unformatted_code) {\n",
       "                             nbb_cells[i].set_text(nbb_formatted_code);\n",
       "                        }\n",
       "                        break;\n",
       "                    }\n",
       "                }\n",
       "            }, 500);\n",
       "            "
      ],
      "text/plain": [
       "<IPython.core.display.Javascript object>"
      ]
     },
     "metadata": {},
     "output_type": "display_data"
    }
   ],
   "source": [
    "confidence_cutoff_search_results.loc[\n",
    "    confidence_cutoff_search_results[\"n_targets\"] == 185\n",
    "].sort_values(\"cutoff\").head(1)"
   ]
  },
  {
   "cell_type": "markdown",
   "id": "e182dd7e",
   "metadata": {},
   "source": [
    "That is the case for a cutoff of 0.562. At this point the induced subgraph consists of 10'900 nodes and 54'592 edges and an average node degree of 10.02."
   ]
  },
  {
   "cell_type": "code",
   "execution_count": 524,
   "id": "a3fab51a",
   "metadata": {},
   "outputs": [
    {
     "data": {
      "application/javascript": [
       "\n",
       "            setTimeout(function() {\n",
       "                var nbb_cell_id = 524;\n",
       "                var nbb_unformatted_code = \"filtered_ppi_edge_list = nx.to_pandas_edgelist(filtered_ppi)\\npruned_ppi = nx.nx.from_pandas_edgelist(\\n    filtered_ppi_edge_list.loc[filtered_ppi_edge_list[\\\"cost\\\"] < 0.562, :]\\n)\";\n",
       "                var nbb_formatted_code = \"filtered_ppi_edge_list = nx.to_pandas_edgelist(filtered_ppi)\\npruned_ppi = nx.nx.from_pandas_edgelist(\\n    filtered_ppi_edge_list.loc[filtered_ppi_edge_list[\\\"cost\\\"] < 0.562, :]\\n)\";\n",
       "                var nbb_cells = Jupyter.notebook.get_cells();\n",
       "                for (var i = 0; i < nbb_cells.length; ++i) {\n",
       "                    if (nbb_cells[i].input_prompt_number == nbb_cell_id) {\n",
       "                        if (nbb_cells[i].get_text() == nbb_unformatted_code) {\n",
       "                             nbb_cells[i].set_text(nbb_formatted_code);\n",
       "                        }\n",
       "                        break;\n",
       "                    }\n",
       "                }\n",
       "            }, 500);\n",
       "            "
      ],
      "text/plain": [
       "<IPython.core.display.Javascript object>"
      ]
     },
     "metadata": {},
     "output_type": "display_data"
    }
   ],
   "source": [
    "filtered_ppi_edge_list = nx.to_pandas_edgelist(filtered_ppi)\n",
    "pruned_ppi = nx.nx.from_pandas_edgelist(\n",
    "    filtered_ppi_edge_list.loc[filtered_ppi_edge_list[\"cost\"] < 0.562, :]\n",
    ")"
   ]
  },
  {
   "cell_type": "markdown",
   "id": "ef06f6f3",
   "metadata": {},
   "source": [
    "The pruned PPI consists of 28 connected components: one large component connecting 10'841 nodes, 5 tripplets and and 22 doublets. Importantly, all 185 ORF targets are covered in the largest connected component."
   ]
  },
  {
   "cell_type": "code",
   "execution_count": 525,
   "id": "29660067",
   "metadata": {},
   "outputs": [
    {
     "data": {
      "image/png": "[encoded data removed]",
      "text/plain": [
       "<Figure size 576x576 with 1 Axes>"
      ]
     },
     "metadata": {},
     "output_type": "display_data"
    },
    {
     "data": {
      "application/javascript": [
       "\n",
       "            setTimeout(function() {\n",
       "                var nbb_cell_id = 525;\n",
       "                var nbb_unformatted_code = \"ccomps = [pruned_ppi.subgraph(c).copy() for c in nx.connected_components(pruned_ppi)]\\nlargest_ccomp = ccomps[0]\\nax = venn.venn(\\n    dict(\\n        zip(\\n            [\\n                \\\"ORF targets\\\",\\n                \\\"Largest connected component\\\",\\n            ],\\n            [orf_targets, set(largest_ccomp.nodes())],\\n        )\\n    ),\\n    legend_loc=\\\"upper center\\\",\\n)\";\n",
       "                var nbb_formatted_code = \"ccomps = [pruned_ppi.subgraph(c).copy() for c in nx.connected_components(pruned_ppi)]\\nlargest_ccomp = ccomps[0]\\nax = venn.venn(\\n    dict(\\n        zip(\\n            [\\n                \\\"ORF targets\\\",\\n                \\\"Largest connected component\\\",\\n            ],\\n            [orf_targets, set(largest_ccomp.nodes())],\\n        )\\n    ),\\n    legend_loc=\\\"upper center\\\",\\n)\";\n",
       "                var nbb_cells = Jupyter.notebook.get_cells();\n",
       "                for (var i = 0; i < nbb_cells.length; ++i) {\n",
       "                    if (nbb_cells[i].input_prompt_number == nbb_cell_id) {\n",
       "                        if (nbb_cells[i].get_text() == nbb_unformatted_code) {\n",
       "                             nbb_cells[i].set_text(nbb_formatted_code);\n",
       "                        }\n",
       "                        break;\n",
       "                    }\n",
       "                }\n",
       "            }, 500);\n",
       "            "
      ],
      "text/plain": [
       "<IPython.core.display.Javascript object>"
      ]
     },
     "metadata": {},
     "output_type": "display_data"
    }
   ],
   "source": [
    "ccomps = [pruned_ppi.subgraph(c).copy() for c in nx.connected_components(pruned_ppi)]\n",
    "largest_ccomp = ccomps[0]\n",
    "ax = venn.venn(\n",
    "    dict(\n",
    "        zip(\n",
    "            [\n",
    "                \"ORF targets\",\n",
    "                \"Largest connected component\",\n",
    "            ],\n",
    "            [orf_targets, set(largest_ccomp.nodes())],\n",
    "        )\n",
    "    ),\n",
    "    legend_loc=\"upper center\",\n",
    ")"
   ]
  },
  {
   "cell_type": "markdown",
   "id": "5dc75fe5",
   "metadata": {},
   "source": [
    "In the following we will only work with that component."
   ]
  },
  {
   "cell_type": "code",
   "execution_count": 526,
   "id": "91a26ad3",
   "metadata": {},
   "outputs": [
    {
     "data": {
      "application/javascript": [
       "\n",
       "            setTimeout(function() {\n",
       "                var nbb_cell_id = 526;\n",
       "                var nbb_unformatted_code = \"pruned_ppi = largest_ccomp\";\n",
       "                var nbb_formatted_code = \"pruned_ppi = largest_ccomp\";\n",
       "                var nbb_cells = Jupyter.notebook.get_cells();\n",
       "                for (var i = 0; i < nbb_cells.length; ++i) {\n",
       "                    if (nbb_cells[i].input_prompt_number == nbb_cell_id) {\n",
       "                        if (nbb_cells[i].get_text() == nbb_unformatted_code) {\n",
       "                             nbb_cells[i].set_text(nbb_formatted_code);\n",
       "                        }\n",
       "                        break;\n",
       "                    }\n",
       "                }\n",
       "            }, 500);\n",
       "            "
      ],
      "text/plain": [
       "<IPython.core.display.Javascript object>"
      ]
     },
     "metadata": {},
     "output_type": "display_data"
    }
   ],
   "source": [
    "pruned_ppi = largest_ccomp"
   ]
  },
  {
   "cell_type": "markdown",
   "id": "d15004d0",
   "metadata": {},
   "source": [
    "This component covers 2'271/2'753 genes that we previously selected based on the their over-expression with a log-fold change of at least 1 compared to other cancer cell lines on the basis of the CCLE data set."
   ]
  },
  {
   "cell_type": "code",
   "execution_count": 527,
   "id": "e7bf58b3",
   "metadata": {},
   "outputs": [
    {
     "data": {
      "image/png": "[encoded data removed]",
      "text/plain": [
       "<Figure size 576x576 with 1 Axes>"
      ]
     },
     "metadata": {},
     "output_type": "display_data"
    },
    {
     "data": {
      "application/javascript": [
       "\n",
       "            setTimeout(function() {\n",
       "                var nbb_cell_id = 527;\n",
       "                var nbb_unformatted_code = \"ax = venn.venn(\\n    dict(\\n        zip(\\n            [\\n                \\\"Pruned PPI\\\",\\n                \\\"OE genes\\\",\\n                \\\"low expressed genes\\\",\\n                \\\"medium/high expressed genes\\\",\\n            ],\\n            [\\n                set(pruned_ppi.nodes()),\\n                selected_gene_set,\\n                background_genes,\\n                foreground_genes,\\n            ],\\n        )\\n    ),\\n    legend_loc=\\\"upper center\\\",\\n)\";\n",
       "                var nbb_formatted_code = \"ax = venn.venn(\\n    dict(\\n        zip(\\n            [\\n                \\\"Pruned PPI\\\",\\n                \\\"OE genes\\\",\\n                \\\"low expressed genes\\\",\\n                \\\"medium/high expressed genes\\\",\\n            ],\\n            [\\n                set(pruned_ppi.nodes()),\\n                selected_gene_set,\\n                background_genes,\\n                foreground_genes,\\n            ],\\n        )\\n    ),\\n    legend_loc=\\\"upper center\\\",\\n)\";\n",
       "                var nbb_cells = Jupyter.notebook.get_cells();\n",
       "                for (var i = 0; i < nbb_cells.length; ++i) {\n",
       "                    if (nbb_cells[i].input_prompt_number == nbb_cell_id) {\n",
       "                        if (nbb_cells[i].get_text() == nbb_unformatted_code) {\n",
       "                             nbb_cells[i].set_text(nbb_formatted_code);\n",
       "                        }\n",
       "                        break;\n",
       "                    }\n",
       "                }\n",
       "            }, 500);\n",
       "            "
      ],
      "text/plain": [
       "<IPython.core.display.Javascript object>"
      ]
     },
     "metadata": {},
     "output_type": "display_data"
    }
   ],
   "source": [
    "ax = venn.venn(\n",
    "    dict(\n",
    "        zip(\n",
    "            [\n",
    "                \"Pruned PPI\",\n",
    "                \"OE genes\",\n",
    "                \"low expressed genes\",\n",
    "                \"medium/high expressed genes\",\n",
    "            ],\n",
    "            [\n",
    "                set(pruned_ppi.nodes()),\n",
    "                selected_gene_set,\n",
    "                background_genes,\n",
    "                foreground_genes,\n",
    "            ],\n",
    "        )\n",
    "    ),\n",
    "    legend_loc=\"upper center\",\n",
    ")"
   ]
  },
  {
   "cell_type": "markdown",
   "id": "56016d68",
   "metadata": {},
   "source": [
    "Among those 2'271 genes, 141 correspond to the ones we identified as being low-expressed in the scRNA-seq data set and 2'130 as being high expressed."
   ]
  },
  {
   "cell_type": "markdown",
   "id": "5dacf587",
   "metadata": {},
   "source": [
    "However, we will not yet select the network that spans those only those genes, but further prune the PPI by removing any low-expressed genes if they are not part of the ORF targets."
   ]
  },
  {
   "cell_type": "code",
   "execution_count": 528,
   "id": "6e563b31",
   "metadata": {},
   "outputs": [
    {
     "name": "stdout",
     "output_type": "stream",
     "text": [
      "Name: \n",
      "Type: Graph\n",
      "Number of nodes: 9068\n",
      "Number of edges: 45530\n",
      "Average degree:  10.0419\n"
     ]
    },
    {
     "data": {
      "application/javascript": [
       "\n",
       "            setTimeout(function() {\n",
       "                var nbb_cell_id = 528;\n",
       "                var nbb_unformatted_code = \"selected_ppi = pruned_ppi.subgraph(\\n    set(pruned_ppi.nodes()).intersection(foreground_genes.union(orf_targets))\\n)\\nprint(nx.info(selected_ppi))\";\n",
       "                var nbb_formatted_code = \"selected_ppi = pruned_ppi.subgraph(\\n    set(pruned_ppi.nodes()).intersection(foreground_genes.union(orf_targets))\\n)\\nprint(nx.info(selected_ppi))\";\n",
       "                var nbb_cells = Jupyter.notebook.get_cells();\n",
       "                for (var i = 0; i < nbb_cells.length; ++i) {\n",
       "                    if (nbb_cells[i].input_prompt_number == nbb_cell_id) {\n",
       "                        if (nbb_cells[i].get_text() == nbb_unformatted_code) {\n",
       "                             nbb_cells[i].set_text(nbb_formatted_code);\n",
       "                        }\n",
       "                        break;\n",
       "                    }\n",
       "                }\n",
       "            }, 500);\n",
       "            "
      ],
      "text/plain": [
       "<IPython.core.display.Javascript object>"
      ]
     },
     "metadata": {},
     "output_type": "display_data"
    }
   ],
   "source": [
    "selected_ppi = pruned_ppi.subgraph(\n",
    "    set(pruned_ppi.nodes()).intersection(foreground_genes.union(orf_targets))\n",
    ")\n",
    "print(nx.info(selected_ppi))"
   ]
  },
  {
   "cell_type": "markdown",
   "id": "193db41f",
   "metadata": {},
   "source": [
    "The induced subgraph spanning those 9'068 genes consists of 90 connected components, most of them being singeltons and doublets. The largest connected component spanning 8'976 genes including 185/190 ORF targets of which 8 are low expressed in wildtype U2OS cells (corresponding to ORF targets) and the remaining ones highly expressed."
   ]
  },
  {
   "cell_type": "code",
   "execution_count": 529,
   "id": "6f5b1ca7",
   "metadata": {},
   "outputs": [
    {
     "data": {
      "image/png": "[encoded data removed]",
      "text/plain": [
       "<Figure size 432x288 with 1 Axes>"
      ]
     },
     "metadata": {
      "needs_background": "light"
     },
     "output_type": "display_data"
    },
    {
     "data": {
      "application/javascript": [
       "\n",
       "            setTimeout(function() {\n",
       "                var nbb_cell_id = 529;\n",
       "                var nbb_unformatted_code = \"len_selected_ppi = [\\n    len(c) for c in sorted(nx.connected_components(selected_ppi), key=len, reverse=True)\\n]\\nplt.hist(len_selected_ppi)\\nplt.yscale(\\\"log\\\")\";\n",
       "                var nbb_formatted_code = \"len_selected_ppi = [\\n    len(c) for c in sorted(nx.connected_components(selected_ppi), key=len, reverse=True)\\n]\\nplt.hist(len_selected_ppi)\\nplt.yscale(\\\"log\\\")\";\n",
       "                var nbb_cells = Jupyter.notebook.get_cells();\n",
       "                for (var i = 0; i < nbb_cells.length; ++i) {\n",
       "                    if (nbb_cells[i].input_prompt_number == nbb_cell_id) {\n",
       "                        if (nbb_cells[i].get_text() == nbb_unformatted_code) {\n",
       "                             nbb_cells[i].set_text(nbb_formatted_code);\n",
       "                        }\n",
       "                        break;\n",
       "                    }\n",
       "                }\n",
       "            }, 500);\n",
       "            "
      ],
      "text/plain": [
       "<IPython.core.display.Javascript object>"
      ]
     },
     "metadata": {},
     "output_type": "display_data"
    }
   ],
   "source": [
    "len_selected_ppi = [\n",
    "    len(c) for c in sorted(nx.connected_components(selected_ppi), key=len, reverse=True)\n",
    "]\n",
    "plt.hist(len_selected_ppi)\n",
    "plt.yscale(\"log\")"
   ]
  },
  {
   "cell_type": "code",
   "execution_count": 530,
   "id": "dc68e21f",
   "metadata": {},
   "outputs": [
    {
     "data": {
      "text/plain": [
       "Counter({8976: 1, 3: 1, 2: 1, 1: 87})"
      ]
     },
     "execution_count": 530,
     "metadata": {},
     "output_type": "execute_result"
    },
    {
     "data": {
      "application/javascript": [
       "\n",
       "            setTimeout(function() {\n",
       "                var nbb_cell_id = 530;\n",
       "                var nbb_unformatted_code = \"Counter(len_selected_ppi)\";\n",
       "                var nbb_formatted_code = \"Counter(len_selected_ppi)\";\n",
       "                var nbb_cells = Jupyter.notebook.get_cells();\n",
       "                for (var i = 0; i < nbb_cells.length; ++i) {\n",
       "                    if (nbb_cells[i].input_prompt_number == nbb_cell_id) {\n",
       "                        if (nbb_cells[i].get_text() == nbb_unformatted_code) {\n",
       "                             nbb_cells[i].set_text(nbb_formatted_code);\n",
       "                        }\n",
       "                        break;\n",
       "                    }\n",
       "                }\n",
       "            }, 500);\n",
       "            "
      ],
      "text/plain": [
       "<IPython.core.display.Javascript object>"
      ]
     },
     "metadata": {},
     "output_type": "display_data"
    }
   ],
   "source": [
    "Counter(len_selected_ppi)"
   ]
  },
  {
   "cell_type": "code",
   "execution_count": 531,
   "id": "46f4e793",
   "metadata": {},
   "outputs": [
    {
     "data": {
      "image/png": "[encoded data removed]",
      "text/plain": [
       "<Figure size 576x576 with 1 Axes>"
      ]
     },
     "metadata": {},
     "output_type": "display_data"
    },
    {
     "data": {
      "application/javascript": [
       "\n",
       "            setTimeout(function() {\n",
       "                var nbb_cell_id = 531;\n",
       "                var nbb_unformatted_code = \"ccomps = [\\n    selected_ppi.subgraph(c).copy() for c in nx.connected_components(selected_ppi)\\n]\\nlargest_ccomp = ccomps[0]\\nax = venn.venn(\\n    dict(\\n        zip(\\n            [\\n                \\\"ORF targets\\\",\\n                \\\"Largest connected component\\\",\\n                \\\"low expressed genes\\\",\\n                \\\"medium/high expressed genes\\\",\\n            ],\\n            [\\n                orf_targets,\\n                set(largest_ccomp.nodes()),\\n                background_genes,\\n                foreground_genes,\\n            ],\\n        )\\n    ),\\n    legend_loc=\\\"upper center\\\",\\n)\";\n",
       "                var nbb_formatted_code = \"ccomps = [\\n    selected_ppi.subgraph(c).copy() for c in nx.connected_components(selected_ppi)\\n]\\nlargest_ccomp = ccomps[0]\\nax = venn.venn(\\n    dict(\\n        zip(\\n            [\\n                \\\"ORF targets\\\",\\n                \\\"Largest connected component\\\",\\n                \\\"low expressed genes\\\",\\n                \\\"medium/high expressed genes\\\",\\n            ],\\n            [\\n                orf_targets,\\n                set(largest_ccomp.nodes()),\\n                background_genes,\\n                foreground_genes,\\n            ],\\n        )\\n    ),\\n    legend_loc=\\\"upper center\\\",\\n)\";\n",
       "                var nbb_cells = Jupyter.notebook.get_cells();\n",
       "                for (var i = 0; i < nbb_cells.length; ++i) {\n",
       "                    if (nbb_cells[i].input_prompt_number == nbb_cell_id) {\n",
       "                        if (nbb_cells[i].get_text() == nbb_unformatted_code) {\n",
       "                             nbb_cells[i].set_text(nbb_formatted_code);\n",
       "                        }\n",
       "                        break;\n",
       "                    }\n",
       "                }\n",
       "            }, 500);\n",
       "            "
      ],
      "text/plain": [
       "<IPython.core.display.Javascript object>"
      ]
     },
     "metadata": {},
     "output_type": "display_data"
    }
   ],
   "source": [
    "ccomps = [\n",
    "    selected_ppi.subgraph(c).copy() for c in nx.connected_components(selected_ppi)\n",
    "]\n",
    "largest_ccomp = ccomps[0]\n",
    "ax = venn.venn(\n",
    "    dict(\n",
    "        zip(\n",
    "            [\n",
    "                \"ORF targets\",\n",
    "                \"Largest connected component\",\n",
    "                \"low expressed genes\",\n",
    "                \"medium/high expressed genes\",\n",
    "            ],\n",
    "            [\n",
    "                orf_targets,\n",
    "                set(largest_ccomp.nodes()),\n",
    "                background_genes,\n",
    "                foreground_genes,\n",
    "            ],\n",
    "        )\n",
    "    ),\n",
    "    legend_loc=\"upper center\",\n",
    ")"
   ]
  },
  {
   "cell_type": "markdown",
   "id": "303ac9a2",
   "metadata": {},
   "source": [
    "The selected subnetwork of the human PPI would describe 1'352 genes including 179 ORF targets of which 79 were identified as being low expressed in wildtype U2OS cells and 1'273 were identified as being medium or high expressed."
   ]
  },
  {
   "cell_type": "markdown",
   "id": "7eb87086",
   "metadata": {},
   "source": [
    "However, an alternative network could be given by simply the largest component of the PPI pruned to remove low-confidence edges. In order to obtain a network that is then specific with respect to the U2OS cell-type one could use the Prize-collecting steiner tree approach by assigning appropriate edge weights and node prizes."
   ]
  },
  {
   "cell_type": "markdown",
   "id": "6519419d",
   "metadata": {},
   "source": [
    "---\n",
    "\n",
    "## 4. Relationship strength of the between the selected genes"
   ]
  },
  {
   "cell_type": "markdown",
   "id": "e31f2912",
   "metadata": {},
   "source": [
    "In this section we will look at ways to define the edge costs for the Prize-collecting Steiner tree inference-based derivation of the U2OS-specific interactome. To this end, we will look at three different measures that are often used to describe the association of genes to guide the derivation of regulatory networks and interactomes, namely the Pearson correlation, the Spearman correlation and the normalized mutual information. Since, we want to assign higher costs to for relationships between any pair of genes that we have little evidence for as measured by the three previously mentioned metrics, we compute these as\n",
    "\n",
    "$$\n",
    "w_{i,j} = 1-|a_{i,j}|,\n",
    "$$\n",
    "\n",
    "where $w_{i,j}$ is the edge weight and $a_{i,j}$ is the respective association of the genes $i$ and $j$ as measured by the metrics."
   ]
  },
  {
   "cell_type": "markdown",
   "id": "f86618be",
   "metadata": {},
   "source": [
    "Those metrics are sensitive to outliers. This is another explanation why we focused on highly expressed genes in the derivation of the base PPI."
   ]
  },
  {
   "cell_type": "markdown",
   "id": "74389e69",
   "metadata": {},
   "source": [
    "We will now compute the respective edge weights for any edge in the base PPI and visualize their distribution."
   ]
  },
  {
   "cell_type": "code",
   "execution_count": 596,
   "id": "e23a3ec5",
   "metadata": {},
   "outputs": [
    {
     "name": "stderr",
     "output_type": "stream",
     "text": [
      "Compute edge weights for pearsonr: 100%|██████████| 54550/54550 [00:07<00:00, 7199.07it/s]\n",
      "Compute edge weights for spearmanr: 100%|██████████| 54550/54550 [00:37<00:00, 1456.97it/s]\n",
      "Compute edge weights for pearsonp: 100%|██████████| 54550/54550 [11:36<00:00, 78.29it/s]\n",
      "Compute edge weights for spearmanp: 100%|██████████| 54550/54550 [57:37<00:00, 15.78it/s] \n"
     ]
    },
    {
     "data": {
      "application/javascript": [
       "\n",
       "            setTimeout(function() {\n",
       "                var nbb_cell_id = 596;\n",
       "                var nbb_unformatted_code = \"selected_ppi = compute_edge_weights(pruned_ppi, fucci_data, b=100)\";\n",
       "                var nbb_formatted_code = \"selected_ppi = compute_edge_weights(pruned_ppi, fucci_data, b=100)\";\n",
       "                var nbb_cells = Jupyter.notebook.get_cells();\n",
       "                for (var i = 0; i < nbb_cells.length; ++i) {\n",
       "                    if (nbb_cells[i].input_prompt_number == nbb_cell_id) {\n",
       "                        if (nbb_cells[i].get_text() == nbb_unformatted_code) {\n",
       "                             nbb_cells[i].set_text(nbb_formatted_code);\n",
       "                        }\n",
       "                        break;\n",
       "                    }\n",
       "                }\n",
       "            }, 500);\n",
       "            "
      ],
      "text/plain": [
       "<IPython.core.display.Javascript object>"
      ]
     },
     "metadata": {},
     "output_type": "display_data"
    }
   ],
   "source": [
    "selected_ppi = compute_edge_weights(pruned_ppi, fucci_data, b=100)"
   ]
  },
  {
   "cell_type": "code",
   "execution_count": 752,
   "id": "0437a0de",
   "metadata": {},
   "outputs": [
    {
     "name": "stderr",
     "output_type": "stream",
     "text": [
      "Compute edge weights for mi: 100%|██████████| 54550/54550 [00:35<00:00, 1550.55it/s]\n"
     ]
    },
    {
     "data": {
      "application/javascript": [
       "\n",
       "            setTimeout(function() {\n",
       "                var nbb_cell_id = 752;\n",
       "                var nbb_unformatted_code = \"other_ppi = compute_edge_weights(pruned_ppi, fucci_data, metrics=[\\\"mi\\\"])\";\n",
       "                var nbb_formatted_code = \"other_ppi = compute_edge_weights(pruned_ppi, fucci_data, metrics=[\\\"mi\\\"])\";\n",
       "                var nbb_cells = Jupyter.notebook.get_cells();\n",
       "                for (var i = 0; i < nbb_cells.length; ++i) {\n",
       "                    if (nbb_cells[i].input_prompt_number == nbb_cell_id) {\n",
       "                        if (nbb_cells[i].get_text() == nbb_unformatted_code) {\n",
       "                             nbb_cells[i].set_text(nbb_formatted_code);\n",
       "                        }\n",
       "                        break;\n",
       "                    }\n",
       "                }\n",
       "            }, 500);\n",
       "            "
      ],
      "text/plain": [
       "<IPython.core.display.Javascript object>"
      ]
     },
     "metadata": {},
     "output_type": "display_data"
    }
   ],
   "source": [
    "other_ppi = compute_edge_weights(pruned_ppi, fucci_data, metrics=[\"mi\"])"
   ]
  },
  {
   "cell_type": "markdown",
   "id": "b55fc72f",
   "metadata": {},
   "source": [
    "### 4.1. Pearson correlation-based edge weights"
   ]
  },
  {
   "cell_type": "code",
   "execution_count": 725,
   "id": "83fae706",
   "metadata": {},
   "outputs": [
    {
     "data": {
      "application/javascript": [
       "\n",
       "            setTimeout(function() {\n",
       "                var nbb_cell_id = 725;\n",
       "                var nbb_unformatted_code = \"pearsonr_weights = np.array(\\n    list(nx.get_edge_attributes(selected_ppi, \\\"pearson\\\").values())\\n)\";\n",
       "                var nbb_formatted_code = \"pearsonr_weights = np.array(\\n    list(nx.get_edge_attributes(selected_ppi, \\\"pearson\\\").values())\\n)\";\n",
       "                var nbb_cells = Jupyter.notebook.get_cells();\n",
       "                for (var i = 0; i < nbb_cells.length; ++i) {\n",
       "                    if (nbb_cells[i].input_prompt_number == nbb_cell_id) {\n",
       "                        if (nbb_cells[i].get_text() == nbb_unformatted_code) {\n",
       "                             nbb_cells[i].set_text(nbb_formatted_code);\n",
       "                        }\n",
       "                        break;\n",
       "                    }\n",
       "                }\n",
       "            }, 500);\n",
       "            "
      ],
      "text/plain": [
       "<IPython.core.display.Javascript object>"
      ]
     },
     "metadata": {},
     "output_type": "display_data"
    }
   ],
   "source": [
    "pearsonr_weights = np.array(\n",
    "    list(nx.get_edge_attributes(selected_ppi, \"pearson\").values())\n",
    ")"
   ]
  },
  {
   "cell_type": "code",
   "execution_count": 726,
   "id": "e58302bd",
   "metadata": {},
   "outputs": [
    {
     "data": {
      "image/png": "[encoded data removed]",
      "text/plain": [
       "<Figure size 360x360 with 1 Axes>"
      ]
     },
     "metadata": {
      "needs_background": "light"
     },
     "output_type": "display_data"
    },
    {
     "data": {
      "application/javascript": [
       "\n",
       "            setTimeout(function() {\n",
       "                var nbb_cell_id = 726;\n",
       "                var nbb_unformatted_code = \"plt.figure(figsize=[5, 5])\\nsns.histplot(pearsonr_weights)\\nplt.title(\\\"Distribution of the Pearson r edge weights\\\")\\nplt.xlabel(\\\"1-|r|\\\")\\nplt.show()\";\n",
       "                var nbb_formatted_code = \"plt.figure(figsize=[5, 5])\\nsns.histplot(pearsonr_weights)\\nplt.title(\\\"Distribution of the Pearson r edge weights\\\")\\nplt.xlabel(\\\"1-|r|\\\")\\nplt.show()\";\n",
       "                var nbb_cells = Jupyter.notebook.get_cells();\n",
       "                for (var i = 0; i < nbb_cells.length; ++i) {\n",
       "                    if (nbb_cells[i].input_prompt_number == nbb_cell_id) {\n",
       "                        if (nbb_cells[i].get_text() == nbb_unformatted_code) {\n",
       "                             nbb_cells[i].set_text(nbb_formatted_code);\n",
       "                        }\n",
       "                        break;\n",
       "                    }\n",
       "                }\n",
       "            }, 500);\n",
       "            "
      ],
      "text/plain": [
       "<IPython.core.display.Javascript object>"
      ]
     },
     "metadata": {},
     "output_type": "display_data"
    }
   ],
   "source": [
    "plt.figure(figsize=[5, 5])\n",
    "sns.histplot(pearsonr_weights)\n",
    "plt.title(\"Distribution of the Pearson r edge weights\")\n",
    "plt.xlabel(\"1-|r|\")\n",
    "plt.show()"
   ]
  },
  {
   "cell_type": "code",
   "execution_count": 616,
   "id": "90945431",
   "metadata": {},
   "outputs": [
    {
     "data": {
      "application/javascript": [
       "\n",
       "            setTimeout(function() {\n",
       "                var nbb_cell_id = 616;\n",
       "                var nbb_unformatted_code = \"pearsonp_weights = np.array(\\n    list(nx.get_edge_attributes(pruned_ppi, \\\"pearsonp\\\").values())\\n)\";\n",
       "                var nbb_formatted_code = \"pearsonp_weights = np.array(\\n    list(nx.get_edge_attributes(pruned_ppi, \\\"pearsonp\\\").values())\\n)\";\n",
       "                var nbb_cells = Jupyter.notebook.get_cells();\n",
       "                for (var i = 0; i < nbb_cells.length; ++i) {\n",
       "                    if (nbb_cells[i].input_prompt_number == nbb_cell_id) {\n",
       "                        if (nbb_cells[i].get_text() == nbb_unformatted_code) {\n",
       "                             nbb_cells[i].set_text(nbb_formatted_code);\n",
       "                        }\n",
       "                        break;\n",
       "                    }\n",
       "                }\n",
       "            }, 500);\n",
       "            "
      ],
      "text/plain": [
       "<IPython.core.display.Javascript object>"
      ]
     },
     "metadata": {},
     "output_type": "display_data"
    }
   ],
   "source": [
    "pearsonp_weights = np.array(\n",
    "    list(nx.get_edge_attributes(pruned_ppi, \"pearsonp\").values())\n",
    ")"
   ]
  },
  {
   "cell_type": "code",
   "execution_count": 625,
   "id": "b0983f7e",
   "metadata": {},
   "outputs": [
    {
     "data": {
      "image/png": "[encoded data removed]",
      "text/plain": [
       "<Figure size 360x360 with 1 Axes>"
      ]
     },
     "metadata": {
      "needs_background": "light"
     },
     "output_type": "display_data"
    },
    {
     "data": {
      "application/javascript": [
       "\n",
       "            setTimeout(function() {\n",
       "                var nbb_cell_id = 625;\n",
       "                var nbb_unformatted_code = \"plt.figure(figsize=[5, 5])\\nsns.histplot(pearsonp_weights)\\nplt.title(\\\"Distribution of the Pearson bootstrap p edge weights\\\")\\nplt.xlabel(\\\"p\\\")\\nplt.show()\";\n",
       "                var nbb_formatted_code = \"plt.figure(figsize=[5, 5])\\nsns.histplot(pearsonp_weights)\\nplt.title(\\\"Distribution of the Pearson bootstrap p edge weights\\\")\\nplt.xlabel(\\\"p\\\")\\nplt.show()\";\n",
       "                var nbb_cells = Jupyter.notebook.get_cells();\n",
       "                for (var i = 0; i < nbb_cells.length; ++i) {\n",
       "                    if (nbb_cells[i].input_prompt_number == nbb_cell_id) {\n",
       "                        if (nbb_cells[i].get_text() == nbb_unformatted_code) {\n",
       "                             nbb_cells[i].set_text(nbb_formatted_code);\n",
       "                        }\n",
       "                        break;\n",
       "                    }\n",
       "                }\n",
       "            }, 500);\n",
       "            "
      ],
      "text/plain": [
       "<IPython.core.display.Javascript object>"
      ]
     },
     "metadata": {},
     "output_type": "display_data"
    }
   ],
   "source": [
    "plt.figure(figsize=[5, 5])\n",
    "sns.histplot(pearsonp_weights)\n",
    "plt.title(\"Distribution of the Pearson bootstrap p edge weights\")\n",
    "plt.xlabel(\"p\")\n",
    "plt.show()"
   ]
  },
  {
   "cell_type": "markdown",
   "id": "85fe2584",
   "metadata": {},
   "source": [
    "### 4.2. Spearman correlation-based edge weights"
   ]
  },
  {
   "cell_type": "code",
   "execution_count": 727,
   "id": "ed76eab3",
   "metadata": {},
   "outputs": [
    {
     "data": {
      "application/javascript": [
       "\n",
       "            setTimeout(function() {\n",
       "                var nbb_cell_id = 727;\n",
       "                var nbb_unformatted_code = \"spearmanr_weights = np.array(\\n    list(nx.get_edge_attributes(selected_ppi, \\\"spearman\\\").values())\\n)\";\n",
       "                var nbb_formatted_code = \"spearmanr_weights = np.array(\\n    list(nx.get_edge_attributes(selected_ppi, \\\"spearman\\\").values())\\n)\";\n",
       "                var nbb_cells = Jupyter.notebook.get_cells();\n",
       "                for (var i = 0; i < nbb_cells.length; ++i) {\n",
       "                    if (nbb_cells[i].input_prompt_number == nbb_cell_id) {\n",
       "                        if (nbb_cells[i].get_text() == nbb_unformatted_code) {\n",
       "                             nbb_cells[i].set_text(nbb_formatted_code);\n",
       "                        }\n",
       "                        break;\n",
       "                    }\n",
       "                }\n",
       "            }, 500);\n",
       "            "
      ],
      "text/plain": [
       "<IPython.core.display.Javascript object>"
      ]
     },
     "metadata": {},
     "output_type": "display_data"
    }
   ],
   "source": [
    "spearmanr_weights = np.array(\n",
    "    list(nx.get_edge_attributes(selected_ppi, \"spearman\").values())\n",
    ")"
   ]
  },
  {
   "cell_type": "code",
   "execution_count": 728,
   "id": "40112455",
   "metadata": {},
   "outputs": [
    {
     "data": {
      "image/png": "[encoded data removed]",
      "text/plain": [
       "<Figure size 360x360 with 1 Axes>"
      ]
     },
     "metadata": {
      "needs_background": "light"
     },
     "output_type": "display_data"
    },
    {
     "data": {
      "application/javascript": [
       "\n",
       "            setTimeout(function() {\n",
       "                var nbb_cell_id = 728;\n",
       "                var nbb_unformatted_code = \"plt.figure(figsize=[5, 5])\\nsns.histplot(spearmanr_weights)\\nplt.title(\\\"Distribution of the Spearman r edge weights\\\")\\nplt.xlabel(\\\"1-|r|\\\")\\nplt.show()\";\n",
       "                var nbb_formatted_code = \"plt.figure(figsize=[5, 5])\\nsns.histplot(spearmanr_weights)\\nplt.title(\\\"Distribution of the Spearman r edge weights\\\")\\nplt.xlabel(\\\"1-|r|\\\")\\nplt.show()\";\n",
       "                var nbb_cells = Jupyter.notebook.get_cells();\n",
       "                for (var i = 0; i < nbb_cells.length; ++i) {\n",
       "                    if (nbb_cells[i].input_prompt_number == nbb_cell_id) {\n",
       "                        if (nbb_cells[i].get_text() == nbb_unformatted_code) {\n",
       "                             nbb_cells[i].set_text(nbb_formatted_code);\n",
       "                        }\n",
       "                        break;\n",
       "                    }\n",
       "                }\n",
       "            }, 500);\n",
       "            "
      ],
      "text/plain": [
       "<IPython.core.display.Javascript object>"
      ]
     },
     "metadata": {},
     "output_type": "display_data"
    }
   ],
   "source": [
    "plt.figure(figsize=[5, 5])\n",
    "sns.histplot(spearmanr_weights)\n",
    "plt.title(\"Distribution of the Spearman r edge weights\")\n",
    "plt.xlabel(\"1-|r|\")\n",
    "plt.show()"
   ]
  },
  {
   "cell_type": "code",
   "execution_count": 729,
   "id": "54db08d3",
   "metadata": {},
   "outputs": [
    {
     "data": {
      "application/javascript": [
       "\n",
       "            setTimeout(function() {\n",
       "                var nbb_cell_id = 729;\n",
       "                var nbb_unformatted_code = \"spearmanp_weights = np.array(\\n    list(nx.get_edge_attributes(selected_ppi, \\\"spearmanp\\\").values())\\n)\";\n",
       "                var nbb_formatted_code = \"spearmanp_weights = np.array(\\n    list(nx.get_edge_attributes(selected_ppi, \\\"spearmanp\\\").values())\\n)\";\n",
       "                var nbb_cells = Jupyter.notebook.get_cells();\n",
       "                for (var i = 0; i < nbb_cells.length; ++i) {\n",
       "                    if (nbb_cells[i].input_prompt_number == nbb_cell_id) {\n",
       "                        if (nbb_cells[i].get_text() == nbb_unformatted_code) {\n",
       "                             nbb_cells[i].set_text(nbb_formatted_code);\n",
       "                        }\n",
       "                        break;\n",
       "                    }\n",
       "                }\n",
       "            }, 500);\n",
       "            "
      ],
      "text/plain": [
       "<IPython.core.display.Javascript object>"
      ]
     },
     "metadata": {},
     "output_type": "display_data"
    }
   ],
   "source": [
    "spearmanp_weights = np.array(\n",
    "    list(nx.get_edge_attributes(selected_ppi, \"spearmanp\").values())\n",
    ")"
   ]
  },
  {
   "cell_type": "code",
   "execution_count": 730,
   "id": "d10f82f4",
   "metadata": {},
   "outputs": [
    {
     "data": {
      "image/png": "[encoded data removed]",
      "text/plain": [
       "<Figure size 360x360 with 1 Axes>"
      ]
     },
     "metadata": {
      "needs_background": "light"
     },
     "output_type": "display_data"
    },
    {
     "data": {
      "application/javascript": [
       "\n",
       "            setTimeout(function() {\n",
       "                var nbb_cell_id = 730;\n",
       "                var nbb_unformatted_code = \"plt.figure(figsize=[5, 5])\\nsns.histplot(spearmanp_weights)\\nplt.title(\\\"Distribution of the Spearman bootstrap p edge weights\\\")\\nplt.xlabel(\\\"bootstrap p\\\")\\nplt.show()\";\n",
       "                var nbb_formatted_code = \"plt.figure(figsize=[5, 5])\\nsns.histplot(spearmanp_weights)\\nplt.title(\\\"Distribution of the Spearman bootstrap p edge weights\\\")\\nplt.xlabel(\\\"bootstrap p\\\")\\nplt.show()\";\n",
       "                var nbb_cells = Jupyter.notebook.get_cells();\n",
       "                for (var i = 0; i < nbb_cells.length; ++i) {\n",
       "                    if (nbb_cells[i].input_prompt_number == nbb_cell_id) {\n",
       "                        if (nbb_cells[i].get_text() == nbb_unformatted_code) {\n",
       "                             nbb_cells[i].set_text(nbb_formatted_code);\n",
       "                        }\n",
       "                        break;\n",
       "                    }\n",
       "                }\n",
       "            }, 500);\n",
       "            "
      ],
      "text/plain": [
       "<IPython.core.display.Javascript object>"
      ]
     },
     "metadata": {},
     "output_type": "display_data"
    }
   ],
   "source": [
    "plt.figure(figsize=[5, 5])\n",
    "sns.histplot(spearmanp_weights)\n",
    "plt.title(\"Distribution of the Spearman bootstrap p edge weights\")\n",
    "plt.xlabel(\"bootstrap p\")\n",
    "plt.show()"
   ]
  },
  {
   "cell_type": "code",
   "execution_count": 753,
   "id": "506bbbb0",
   "metadata": {},
   "outputs": [
    {
     "data": {
      "application/javascript": [
       "\n",
       "            setTimeout(function() {\n",
       "                var nbb_cell_id = 753;\n",
       "                var nbb_unformatted_code = \"mi_weights = np.array(list(nx.get_edge_attributes(other_ppi, \\\"mi\\\").values()))\";\n",
       "                var nbb_formatted_code = \"mi_weights = np.array(list(nx.get_edge_attributes(other_ppi, \\\"mi\\\").values()))\";\n",
       "                var nbb_cells = Jupyter.notebook.get_cells();\n",
       "                for (var i = 0; i < nbb_cells.length; ++i) {\n",
       "                    if (nbb_cells[i].input_prompt_number == nbb_cell_id) {\n",
       "                        if (nbb_cells[i].get_text() == nbb_unformatted_code) {\n",
       "                             nbb_cells[i].set_text(nbb_formatted_code);\n",
       "                        }\n",
       "                        break;\n",
       "                    }\n",
       "                }\n",
       "            }, 500);\n",
       "            "
      ],
      "text/plain": [
       "<IPython.core.display.Javascript object>"
      ]
     },
     "metadata": {},
     "output_type": "display_data"
    }
   ],
   "source": [
    "mi_weights = np.array(list(nx.get_edge_attributes(other_ppi, \"mi\").values()))"
   ]
  },
  {
   "cell_type": "code",
   "execution_count": 754,
   "id": "2155e8f4",
   "metadata": {},
   "outputs": [
    {
     "data": {
      "image/png": "[encoded data removed]",
      "text/plain": [
       "<Figure size 360x360 with 1 Axes>"
      ]
     },
     "metadata": {
      "needs_background": "light"
     },
     "output_type": "display_data"
    },
    {
     "data": {
      "application/javascript": [
       "\n",
       "            setTimeout(function() {\n",
       "                var nbb_cell_id = 754;\n",
       "                var nbb_unformatted_code = \"plt.figure(figsize=[5, 5])\\nsns.histplot(np.max(mi_weights) - (mi_weights))\\nplt.title(\\\"Distribution of the MI edge weights (100 bins)\\\")\\nplt.xlabel(\\\"max(m)-m\\\")\\nplt.show()\";\n",
       "                var nbb_formatted_code = \"plt.figure(figsize=[5, 5])\\nsns.histplot(np.max(mi_weights) - (mi_weights))\\nplt.title(\\\"Distribution of the MI edge weights (100 bins)\\\")\\nplt.xlabel(\\\"max(m)-m\\\")\\nplt.show()\";\n",
       "                var nbb_cells = Jupyter.notebook.get_cells();\n",
       "                for (var i = 0; i < nbb_cells.length; ++i) {\n",
       "                    if (nbb_cells[i].input_prompt_number == nbb_cell_id) {\n",
       "                        if (nbb_cells[i].get_text() == nbb_unformatted_code) {\n",
       "                             nbb_cells[i].set_text(nbb_formatted_code);\n",
       "                        }\n",
       "                        break;\n",
       "                    }\n",
       "                }\n",
       "            }, 500);\n",
       "            "
      ],
      "text/plain": [
       "<IPython.core.display.Javascript object>"
      ]
     },
     "metadata": {},
     "output_type": "display_data"
    }
   ],
   "source": [
    "plt.figure(figsize=[5, 5])\n",
    "sns.histplot(np.max(mi_weights) - (mi_weights))\n",
    "plt.title(\"Distribution of the MI edge weights (100 bins)\")\n",
    "plt.xlabel(\"max(m)-m\")\n",
    "plt.show()"
   ]
  }
 ],
 "metadata": {
  "kernelspec": {
   "display_name": "Python 3",
   "language": "python",
   "name": "python3"
  },
  "language_info": {
   "codemirror_mode": {
    "name": "ipython",
    "version": 3
   },
   "file_extension": ".py",
   "mimetype": "text/x-python",
   "name": "python",
   "nbconvert_exporter": "python",
   "pygments_lexer": "ipython3",
   "version": "3.8.10"
  }
 },
 "nbformat": 4,
 "nbformat_minor": 5
}
