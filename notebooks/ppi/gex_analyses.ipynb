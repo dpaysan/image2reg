{
 "cells": [
  {
   "cell_type": "markdown",
   "id": "f9727180",
   "metadata": {},
   "source": [
    "# Analyses of available gene expression data sets\n",
    "\n",
    "In order to model the regulatory space we will use a combination of protein-protein interaction data, bulk and single-cell gene expression data. In this notebook, we provide initial, exploratory data analyses of the existing data sets. The final goal of the analyses is to identify an applicable gene expression data set that can be used to guide the derivation of the regulatory space spanned by a set of regulators that include the gene targets of the perturbations of the imaging dataset and additional important genes.\n",
    "\n",
    "---"
   ]
  },
  {
   "cell_type": "markdown",
   "id": "af63ddab",
   "metadata": {},
   "source": [
    "## 0. Environmental setup"
   ]
  },
  {
   "cell_type": "code",
   "execution_count": 2,
   "id": "2ed6f8f2",
   "metadata": {},
   "outputs": [
    {
     "name": "stdout",
     "output_type": "stream",
     "text": [
      "The nb_black extension is already loaded. To reload it, use:\n",
      "  %reload_ext nb_black\n"
     ]
    },
    {
     "data": {
      "application/javascript": [
       "\n",
       "            setTimeout(function() {\n",
       "                var nbb_cell_id = 2;\n",
       "                var nbb_unformatted_code = \"import pandas as pd\\nimport scanpy as sc\\nimport numpy as np\\nimport os\\nimport seaborn as sns\\nimport matplotlib.pyplot as plt\\nimport networkx as nx\\nimport mygene\\nimport copy\\n\\nimport matplotlib.pyplot as plt\\nfrom matplotlib_venn import venn3, venn3_unweighted\\n\\n%load_ext nb_black\";\n",
       "                var nbb_formatted_code = \"import pandas as pd\\nimport scanpy as sc\\nimport numpy as np\\nimport os\\nimport seaborn as sns\\nimport matplotlib.pyplot as plt\\nimport networkx as nx\\nimport mygene\\nimport copy\\n\\nimport matplotlib.pyplot as plt\\nfrom matplotlib_venn import venn3, venn3_unweighted\\n\\n%load_ext nb_black\";\n",
       "                var nbb_cells = Jupyter.notebook.get_cells();\n",
       "                for (var i = 0; i < nbb_cells.length; ++i) {\n",
       "                    if (nbb_cells[i].input_prompt_number == nbb_cell_id) {\n",
       "                        if (nbb_cells[i].get_text() == nbb_unformatted_code) {\n",
       "                             nbb_cells[i].set_text(nbb_formatted_code);\n",
       "                        }\n",
       "                        break;\n",
       "                    }\n",
       "                }\n",
       "            }, 500);\n",
       "            "
      ],
      "text/plain": [
       "<IPython.core.display.Javascript object>"
      ]
     },
     "metadata": {},
     "output_type": "display_data"
    }
   ],
   "source": [
    "import pandas as pd\n",
    "import scanpy as sc\n",
    "import numpy as np\n",
    "import os\n",
    "import seaborn as sns\n",
    "import matplotlib.pyplot as plt\n",
    "import networkx as nx\n",
    "import mygene\n",
    "import copy\n",
    "\n",
    "import matplotlib.pyplot as plt\n",
    "from matplotlib_venn import venn3, venn3_unweighted\n",
    "\n",
    "%load_ext nb_black"
   ]
  },
  {
   "cell_type": "code",
   "execution_count": 3,
   "id": "e3880c3a",
   "metadata": {},
   "outputs": [
    {
     "data": {
      "application/javascript": [
       "\n",
       "            setTimeout(function() {\n",
       "                var nbb_cell_id = 3;\n",
       "                var nbb_unformatted_code = \"def plot_target_intersection_size(adata, targets, figsize=[10, 8], title=\\\"\\\"):\\n    targets = set(targets)\\n    intersection_size = []\\n    sorted_var_data = adata.var.sort_values(\\\"dispersions_norm\\\", ascending=False)\\n    for i in range(len(adata.var.index)):\\n        mvg = set(list(sorted_var_data.index)[:i])\\n        intersection_size.append(len(mvg.intersection(targets)))\\n    data = pd.DataFrame.from_dict(\\n        {\\n            \\\"MVG set size\\\": list(range(len(intersection_size))),\\n            \\\"Intersection size with targets\\\": intersection_size,\\n        }\\n    )\\n    ax = sns.lineplot(data=data, x=\\\"MVG set size\\\", y=\\\"Intersection size with targets\\\")\\n    ax.set_title(title)\\n    plt.show()\";\n",
       "                var nbb_formatted_code = \"def plot_target_intersection_size(adata, targets, figsize=[10, 8], title=\\\"\\\"):\\n    targets = set(targets)\\n    intersection_size = []\\n    sorted_var_data = adata.var.sort_values(\\\"dispersions_norm\\\", ascending=False)\\n    for i in range(len(adata.var.index)):\\n        mvg = set(list(sorted_var_data.index)[:i])\\n        intersection_size.append(len(mvg.intersection(targets)))\\n    data = pd.DataFrame.from_dict(\\n        {\\n            \\\"MVG set size\\\": list(range(len(intersection_size))),\\n            \\\"Intersection size with targets\\\": intersection_size,\\n        }\\n    )\\n    ax = sns.lineplot(data=data, x=\\\"MVG set size\\\", y=\\\"Intersection size with targets\\\")\\n    ax.set_title(title)\\n    plt.show()\";\n",
       "                var nbb_cells = Jupyter.notebook.get_cells();\n",
       "                for (var i = 0; i < nbb_cells.length; ++i) {\n",
       "                    if (nbb_cells[i].input_prompt_number == nbb_cell_id) {\n",
       "                        if (nbb_cells[i].get_text() == nbb_unformatted_code) {\n",
       "                             nbb_cells[i].set_text(nbb_formatted_code);\n",
       "                        }\n",
       "                        break;\n",
       "                    }\n",
       "                }\n",
       "            }, 500);\n",
       "            "
      ],
      "text/plain": [
       "<IPython.core.display.Javascript object>"
      ]
     },
     "metadata": {},
     "output_type": "display_data"
    }
   ],
   "source": [
    "def plot_target_intersection_size(adata, targets, figsize=[10, 8], title=\"\"):\n",
    "    targets = set(targets)\n",
    "    intersection_size = []\n",
    "    sorted_var_data = adata.var.sort_values(\"dispersions_norm\", ascending=False)\n",
    "    for i in range(len(adata.var.index)):\n",
    "        mvg = set(list(sorted_var_data.index)[:i])\n",
    "        intersection_size.append(len(mvg.intersection(targets)))\n",
    "    data = pd.DataFrame.from_dict(\n",
    "        {\n",
    "            \"MVG set size\": list(range(len(intersection_size))),\n",
    "            \"Intersection size with targets\": intersection_size,\n",
    "        }\n",
    "    )\n",
    "    ax = sns.lineplot(data=data, x=\"MVG set size\", y=\"Intersection size with targets\")\n",
    "    ax.set_title(title)\n",
    "    plt.show()"
   ]
  },
  {
   "cell_type": "code",
   "execution_count": 4,
   "id": "ed32c564",
   "metadata": {},
   "outputs": [
    {
     "data": {
      "application/javascript": [
       "\n",
       "            setTimeout(function() {\n",
       "                var nbb_cell_id = 4;\n",
       "                var nbb_unformatted_code = \"def plot_mvgs_intersection_size(adata_1, adata_2, figsize=[10, 8], title=\\\"\\\"):\\n    intersection_size = []\\n    sorted_var_data_1 = adata_1.var.sort_values(\\\"dispersions_norm\\\", ascending=False)\\n    sorted_var_data_2 = adata_2.var.sort_values(\\\"dispersions_norm\\\", ascending=False)\\n    for i in range(min(len(adata_1.var.index), len(adata_2.var.index))):\\n        mvg_1 = set(list(sorted_var_data_1.index)[:i])\\n        mvg_2 = set(list(sorted_var_data_2.index)[:i])\\n        intersection_size.append(len(mvg_1.intersection(mvg_2)))\\n    data = pd.DataFrame.from_dict(\\n        {\\n            \\\"MVG set size\\\": list(range(len(intersection_size))),\\n            \\\"Intersection size\\\": intersection_size,\\n        }\\n    )\\n    ax = sns.lineplot(data=data, x=\\\"MVG set size\\\", y=\\\"Intersection size\\\")\\n    ax.set_title(title)\\n    plt.show()\";\n",
       "                var nbb_formatted_code = \"def plot_mvgs_intersection_size(adata_1, adata_2, figsize=[10, 8], title=\\\"\\\"):\\n    intersection_size = []\\n    sorted_var_data_1 = adata_1.var.sort_values(\\\"dispersions_norm\\\", ascending=False)\\n    sorted_var_data_2 = adata_2.var.sort_values(\\\"dispersions_norm\\\", ascending=False)\\n    for i in range(min(len(adata_1.var.index), len(adata_2.var.index))):\\n        mvg_1 = set(list(sorted_var_data_1.index)[:i])\\n        mvg_2 = set(list(sorted_var_data_2.index)[:i])\\n        intersection_size.append(len(mvg_1.intersection(mvg_2)))\\n    data = pd.DataFrame.from_dict(\\n        {\\n            \\\"MVG set size\\\": list(range(len(intersection_size))),\\n            \\\"Intersection size\\\": intersection_size,\\n        }\\n    )\\n    ax = sns.lineplot(data=data, x=\\\"MVG set size\\\", y=\\\"Intersection size\\\")\\n    ax.set_title(title)\\n    plt.show()\";\n",
       "                var nbb_cells = Jupyter.notebook.get_cells();\n",
       "                for (var i = 0; i < nbb_cells.length; ++i) {\n",
       "                    if (nbb_cells[i].input_prompt_number == nbb_cell_id) {\n",
       "                        if (nbb_cells[i].get_text() == nbb_unformatted_code) {\n",
       "                             nbb_cells[i].set_text(nbb_formatted_code);\n",
       "                        }\n",
       "                        break;\n",
       "                    }\n",
       "                }\n",
       "            }, 500);\n",
       "            "
      ],
      "text/plain": [
       "<IPython.core.display.Javascript object>"
      ]
     },
     "metadata": {},
     "output_type": "display_data"
    }
   ],
   "source": [
    "def plot_mvgs_intersection_size(adata_1, adata_2, figsize=[10, 8], title=\"\"):\n",
    "    intersection_size = []\n",
    "    sorted_var_data_1 = adata_1.var.sort_values(\"dispersions_norm\", ascending=False)\n",
    "    sorted_var_data_2 = adata_2.var.sort_values(\"dispersions_norm\", ascending=False)\n",
    "    for i in range(min(len(adata_1.var.index), len(adata_2.var.index))):\n",
    "        mvg_1 = set(list(sorted_var_data_1.index)[:i])\n",
    "        mvg_2 = set(list(sorted_var_data_2.index)[:i])\n",
    "        intersection_size.append(len(mvg_1.intersection(mvg_2)))\n",
    "    data = pd.DataFrame.from_dict(\n",
    "        {\n",
    "            \"MVG set size\": list(range(len(intersection_size))),\n",
    "            \"Intersection size\": intersection_size,\n",
    "        }\n",
    "    )\n",
    "    ax = sns.lineplot(data=data, x=\"MVG set size\", y=\"Intersection size\")\n",
    "    ax.set_title(title)\n",
    "    plt.show()"
   ]
  },
  {
   "cell_type": "markdown",
   "id": "a797ebff",
   "metadata": {},
   "source": [
    "---"
   ]
  },
  {
   "cell_type": "markdown",
   "id": "59425c0c",
   "metadata": {},
   "source": [
    "## 1. MerFISH data (Xia et al. 2019)\n",
    "\n",
    "The first data set that we analyze is a single-gene expression data set from Xia et al (2019). The authors measured the expression of 12,903 genes for 1,368 U2OS cells using MerFISH."
   ]
  },
  {
   "cell_type": "markdown",
   "id": "6c19e345",
   "metadata": {},
   "source": [
    "### 1a. Read in data"
   ]
  },
  {
   "cell_type": "code",
   "execution_count": 5,
   "id": "a2548c40",
   "metadata": {},
   "outputs": [
    {
     "data": {
      "text/plain": [
       "AnnData object with n_obs × n_vars = 1368 × 12903"
      ]
     },
     "execution_count": 5,
     "metadata": {},
     "output_type": "execute_result"
    },
    {
     "data": {
      "application/javascript": [
       "\n",
       "            setTimeout(function() {\n",
       "                var nbb_cell_id = 5;\n",
       "                var nbb_unformatted_code = \"merfish_adata = sc.read_csv(\\\"../../data/gex/pnas.1912459116.sd12.csv\\\").transpose()\\nmerfish_adata\";\n",
       "                var nbb_formatted_code = \"merfish_adata = sc.read_csv(\\\"../../data/gex/pnas.1912459116.sd12.csv\\\").transpose()\\nmerfish_adata\";\n",
       "                var nbb_cells = Jupyter.notebook.get_cells();\n",
       "                for (var i = 0; i < nbb_cells.length; ++i) {\n",
       "                    if (nbb_cells[i].input_prompt_number == nbb_cell_id) {\n",
       "                        if (nbb_cells[i].get_text() == nbb_unformatted_code) {\n",
       "                             nbb_cells[i].set_text(nbb_formatted_code);\n",
       "                        }\n",
       "                        break;\n",
       "                    }\n",
       "                }\n",
       "            }, 500);\n",
       "            "
      ],
      "text/plain": [
       "<IPython.core.display.Javascript object>"
      ]
     },
     "metadata": {},
     "output_type": "display_data"
    }
   ],
   "source": [
    "merfish_adata = sc.read_csv(\"../../data/gex/pnas.1912459116.sd12.csv\").transpose()\n",
    "merfish_adata"
   ]
  },
  {
   "cell_type": "markdown",
   "id": "79a202d6",
   "metadata": {},
   "source": [
    "### 1b. Preprocessing\n",
    "\n",
    "We run a standard preprocessing pipeline on the raw data to filter out genes that are expressed in less than 10 cells and cells that do not express at least 500 genes. This is done in order to exclude samples and features with little support that constitute outliers."
   ]
  },
  {
   "cell_type": "code",
   "execution_count": 6,
   "id": "4dae94b4",
   "metadata": {},
   "outputs": [
    {
     "data": {
      "application/javascript": [
       "\n",
       "            setTimeout(function() {\n",
       "                var nbb_cell_id = 6;\n",
       "                var nbb_unformatted_code = \"merfish_adata.var[\\\"n_cells_per_gene\\\"] = np.sum(\\n    (np.array(merfish_adata.to_df()) > 0), axis=0\\n)\\nmerfish_adata.obs[\\\"n_genes_per_cell\\\"] = np.sum(\\n    (np.array(merfish_adata.to_df())) > 0, axis=1\\n)\";\n",
       "                var nbb_formatted_code = \"merfish_adata.var[\\\"n_cells_per_gene\\\"] = np.sum(\\n    (np.array(merfish_adata.to_df()) > 0), axis=0\\n)\\nmerfish_adata.obs[\\\"n_genes_per_cell\\\"] = np.sum(\\n    (np.array(merfish_adata.to_df())) > 0, axis=1\\n)\";\n",
       "                var nbb_cells = Jupyter.notebook.get_cells();\n",
       "                for (var i = 0; i < nbb_cells.length; ++i) {\n",
       "                    if (nbb_cells[i].input_prompt_number == nbb_cell_id) {\n",
       "                        if (nbb_cells[i].get_text() == nbb_unformatted_code) {\n",
       "                             nbb_cells[i].set_text(nbb_formatted_code);\n",
       "                        }\n",
       "                        break;\n",
       "                    }\n",
       "                }\n",
       "            }, 500);\n",
       "            "
      ],
      "text/plain": [
       "<IPython.core.display.Javascript object>"
      ]
     },
     "metadata": {},
     "output_type": "display_data"
    }
   ],
   "source": [
    "merfish_adata.var[\"n_cells_per_gene\"] = np.sum(\n",
    "    (np.array(merfish_adata.to_df()) > 0), axis=0\n",
    ")\n",
    "merfish_adata.obs[\"n_genes_per_cell\"] = np.sum(\n",
    "    (np.array(merfish_adata.to_df())) > 0, axis=1\n",
    ")"
   ]
  },
  {
   "cell_type": "code",
   "execution_count": 7,
   "id": "8d29fe47",
   "metadata": {},
   "outputs": [
    {
     "data": {
      "image/png": "[encoded data removed]",
      "text/plain": [
       "<Figure size 720x216 with 3 Axes>"
      ]
     },
     "metadata": {
      "needs_background": "light"
     },
     "output_type": "display_data"
    },
    {
     "data": {
      "application/javascript": [
       "\n",
       "            setTimeout(function() {\n",
       "                var nbb_cell_id = 7;\n",
       "                var nbb_unformatted_code = \"fig, ax = plt.subplots(1, 3, figsize=[10, 3])\\nax = ax.flatten()\\nsns.histplot(merfish_adata.obs[\\\"n_genes_per_cell\\\"], ax=ax[0])\\nax[0].set_title(\\\"#Genes expressed per cell\\\")\\n\\nsns.histplot(merfish_adata.obs[\\\"n_genes_per_cell\\\"], ax=ax[1])\\nax[1].set_title(\\\"#Genes expressed per cell\\\")\\n\\nsns.histplot(merfish_adata.var[\\\"n_cells_per_gene\\\"], ax=ax[2])\\nax[2].set_title(\\\"#Cells expressing a gene\\\")\\nplt.show()\";\n",
       "                var nbb_formatted_code = \"fig, ax = plt.subplots(1, 3, figsize=[10, 3])\\nax = ax.flatten()\\nsns.histplot(merfish_adata.obs[\\\"n_genes_per_cell\\\"], ax=ax[0])\\nax[0].set_title(\\\"#Genes expressed per cell\\\")\\n\\nsns.histplot(merfish_adata.obs[\\\"n_genes_per_cell\\\"], ax=ax[1])\\nax[1].set_title(\\\"#Genes expressed per cell\\\")\\n\\nsns.histplot(merfish_adata.var[\\\"n_cells_per_gene\\\"], ax=ax[2])\\nax[2].set_title(\\\"#Cells expressing a gene\\\")\\nplt.show()\";\n",
       "                var nbb_cells = Jupyter.notebook.get_cells();\n",
       "                for (var i = 0; i < nbb_cells.length; ++i) {\n",
       "                    if (nbb_cells[i].input_prompt_number == nbb_cell_id) {\n",
       "                        if (nbb_cells[i].get_text() == nbb_unformatted_code) {\n",
       "                             nbb_cells[i].set_text(nbb_formatted_code);\n",
       "                        }\n",
       "                        break;\n",
       "                    }\n",
       "                }\n",
       "            }, 500);\n",
       "            "
      ],
      "text/plain": [
       "<IPython.core.display.Javascript object>"
      ]
     },
     "metadata": {},
     "output_type": "display_data"
    }
   ],
   "source": [
    "fig, ax = plt.subplots(1, 3, figsize=[10, 3])\n",
    "ax = ax.flatten()\n",
    "sns.histplot(merfish_adata.obs[\"n_genes_per_cell\"], ax=ax[0])\n",
    "ax[0].set_title(\"#Genes expressed per cell\")\n",
    "\n",
    "sns.histplot(merfish_adata.obs[\"n_genes_per_cell\"], ax=ax[1])\n",
    "ax[1].set_title(\"#Genes expressed per cell\")\n",
    "\n",
    "sns.histplot(merfish_adata.var[\"n_cells_per_gene\"], ax=ax[2])\n",
    "ax[2].set_title(\"#Cells expressing a gene\")\n",
    "plt.show()"
   ]
  },
  {
   "cell_type": "markdown",
   "id": "77cc1f5f",
   "metadata": {},
   "source": [
    "Using those parameters no sample of gene gets filtered out. We finally normalize the data to account for the variable sequencing depth for the individual cells and log-transform the data."
   ]
  },
  {
   "cell_type": "code",
   "execution_count": 8,
   "id": "d8a56695",
   "metadata": {},
   "outputs": [
    {
     "data": {
      "application/javascript": [
       "\n",
       "            setTimeout(function() {\n",
       "                var nbb_cell_id = 8;\n",
       "                var nbb_unformatted_code = \"sc.pp.normalize_total(merfish_adata, target_sum=1e6)\\nsc.pp.log1p(merfish_adata)\";\n",
       "                var nbb_formatted_code = \"sc.pp.normalize_total(merfish_adata, target_sum=1e6)\\nsc.pp.log1p(merfish_adata)\";\n",
       "                var nbb_cells = Jupyter.notebook.get_cells();\n",
       "                for (var i = 0; i < nbb_cells.length; ++i) {\n",
       "                    if (nbb_cells[i].input_prompt_number == nbb_cell_id) {\n",
       "                        if (nbb_cells[i].get_text() == nbb_unformatted_code) {\n",
       "                             nbb_cells[i].set_text(nbb_formatted_code);\n",
       "                        }\n",
       "                        break;\n",
       "                    }\n",
       "                }\n",
       "            }, 500);\n",
       "            "
      ],
      "text/plain": [
       "<IPython.core.display.Javascript object>"
      ]
     },
     "metadata": {},
     "output_type": "display_data"
    }
   ],
   "source": [
    "sc.pp.normalize_total(merfish_adata, target_sum=1e6)\n",
    "sc.pp.log1p(merfish_adata)"
   ]
  },
  {
   "cell_type": "markdown",
   "id": "4cbdd012",
   "metadata": {},
   "source": [
    "Next, we compute the normalized variance of the individual genes as described in Stuart et al. (2019)."
   ]
  },
  {
   "cell_type": "code",
   "execution_count": 9,
   "id": "ff166664",
   "metadata": {},
   "outputs": [
    {
     "data": {
      "application/javascript": [
       "\n",
       "            setTimeout(function() {\n",
       "                var nbb_cell_id = 9;\n",
       "                var nbb_unformatted_code = \"sc.pp.highly_variable_genes(\\n    merfish_adata, flavor=\\\"seurat\\\", n_top_genes=merfish_adata.n_vars\\n)\";\n",
       "                var nbb_formatted_code = \"sc.pp.highly_variable_genes(\\n    merfish_adata, flavor=\\\"seurat\\\", n_top_genes=merfish_adata.n_vars\\n)\";\n",
       "                var nbb_cells = Jupyter.notebook.get_cells();\n",
       "                for (var i = 0; i < nbb_cells.length; ++i) {\n",
       "                    if (nbb_cells[i].input_prompt_number == nbb_cell_id) {\n",
       "                        if (nbb_cells[i].get_text() == nbb_unformatted_code) {\n",
       "                             nbb_cells[i].set_text(nbb_formatted_code);\n",
       "                        }\n",
       "                        break;\n",
       "                    }\n",
       "                }\n",
       "            }, 500);\n",
       "            "
      ],
      "text/plain": [
       "<IPython.core.display.Javascript object>"
      ]
     },
     "metadata": {},
     "output_type": "display_data"
    }
   ],
   "source": [
    "sc.pp.highly_variable_genes(\n",
    "    merfish_adata, flavor=\"seurat\", n_top_genes=merfish_adata.n_vars\n",
    ")"
   ]
  },
  {
   "cell_type": "code",
   "execution_count": 10,
   "id": "acfbccad",
   "metadata": {},
   "outputs": [
    {
     "data": {
      "text/html": [
       "<div>\n",
       "<style scoped>\n",
       "    .dataframe tbody tr th:only-of-type {\n",
       "        vertical-align: middle;\n",
       "    }\n",
       "\n",
       "    .dataframe tbody tr th {\n",
       "        vertical-align: top;\n",
       "    }\n",
       "\n",
       "    .dataframe thead th {\n",
       "        text-align: right;\n",
       "    }\n",
       "</style>\n",
       "<table border=\"1\" class=\"dataframe\">\n",
       "  <thead>\n",
       "    <tr style=\"text-align: right;\">\n",
       "      <th></th>\n",
       "      <th>n_cells_per_gene</th>\n",
       "      <th>highly_variable</th>\n",
       "      <th>means</th>\n",
       "      <th>dispersions</th>\n",
       "      <th>dispersions_norm</th>\n",
       "    </tr>\n",
       "  </thead>\n",
       "  <tbody>\n",
       "    <tr>\n",
       "      <th>A1CF</th>\n",
       "      <td>188</td>\n",
       "      <td>True</td>\n",
       "      <td>0.962251</td>\n",
       "      <td>2.467203</td>\n",
       "      <td>-0.624936</td>\n",
       "    </tr>\n",
       "    <tr>\n",
       "      <th>A2M</th>\n",
       "      <td>819</td>\n",
       "      <td>True</td>\n",
       "      <td>3.091791</td>\n",
       "      <td>4.901508</td>\n",
       "      <td>4.166767</td>\n",
       "    </tr>\n",
       "    <tr>\n",
       "      <th>A2ML1</th>\n",
       "      <td>134</td>\n",
       "      <td>True</td>\n",
       "      <td>0.741775</td>\n",
       "      <td>2.451442</td>\n",
       "      <td>-0.737021</td>\n",
       "    </tr>\n",
       "    <tr>\n",
       "      <th>A4GALT</th>\n",
       "      <td>1128</td>\n",
       "      <td>True</td>\n",
       "      <td>3.261995</td>\n",
       "      <td>2.903776</td>\n",
       "      <td>-0.018543</td>\n",
       "    </tr>\n",
       "    <tr>\n",
       "      <th>AACS</th>\n",
       "      <td>1368</td>\n",
       "      <td>True</td>\n",
       "      <td>5.408722</td>\n",
       "      <td>3.210440</td>\n",
       "      <td>-0.645476</td>\n",
       "    </tr>\n",
       "    <tr>\n",
       "      <th>...</th>\n",
       "      <td>...</td>\n",
       "      <td>...</td>\n",
       "      <td>...</td>\n",
       "      <td>...</td>\n",
       "      <td>...</td>\n",
       "    </tr>\n",
       "    <tr>\n",
       "      <th>ZYG11A</th>\n",
       "      <td>109</td>\n",
       "      <td>True</td>\n",
       "      <td>0.676425</td>\n",
       "      <td>2.887991</td>\n",
       "      <td>3.619676</td>\n",
       "    </tr>\n",
       "    <tr>\n",
       "      <th>ZYG11B</th>\n",
       "      <td>1366</td>\n",
       "      <td>True</td>\n",
       "      <td>5.144206</td>\n",
       "      <td>3.159242</td>\n",
       "      <td>-0.493262</td>\n",
       "    </tr>\n",
       "    <tr>\n",
       "      <th>ZZEF1</th>\n",
       "      <td>1345</td>\n",
       "      <td>True</td>\n",
       "      <td>4.156298</td>\n",
       "      <td>2.676982</td>\n",
       "      <td>-1.082418</td>\n",
       "    </tr>\n",
       "    <tr>\n",
       "      <th>ZZZ3</th>\n",
       "      <td>1368</td>\n",
       "      <td>True</td>\n",
       "      <td>5.779430</td>\n",
       "      <td>3.289328</td>\n",
       "      <td>-0.508418</td>\n",
       "    </tr>\n",
       "    <tr>\n",
       "      <th>pk</th>\n",
       "      <td>1368</td>\n",
       "      <td>True</td>\n",
       "      <td>6.287472</td>\n",
       "      <td>3.974315</td>\n",
       "      <td>-0.303560</td>\n",
       "    </tr>\n",
       "  </tbody>\n",
       "</table>\n",
       "<p>12903 rows × 5 columns</p>\n",
       "</div>"
      ],
      "text/plain": [
       "        n_cells_per_gene  highly_variable     means  dispersions  \\\n",
       "A1CF                 188             True  0.962251     2.467203   \n",
       "A2M                  819             True  3.091791     4.901508   \n",
       "A2ML1                134             True  0.741775     2.451442   \n",
       "A4GALT              1128             True  3.261995     2.903776   \n",
       "AACS                1368             True  5.408722     3.210440   \n",
       "...                  ...              ...       ...          ...   \n",
       "ZYG11A               109             True  0.676425     2.887991   \n",
       "ZYG11B              1366             True  5.144206     3.159242   \n",
       "ZZEF1               1345             True  4.156298     2.676982   \n",
       "ZZZ3                1368             True  5.779430     3.289328   \n",
       "pk                  1368             True  6.287472     3.974315   \n",
       "\n",
       "        dispersions_norm  \n",
       "A1CF           -0.624936  \n",
       "A2M             4.166767  \n",
       "A2ML1          -0.737021  \n",
       "A4GALT         -0.018543  \n",
       "AACS           -0.645476  \n",
       "...                  ...  \n",
       "ZYG11A          3.619676  \n",
       "ZYG11B         -0.493262  \n",
       "ZZEF1          -1.082418  \n",
       "ZZZ3           -0.508418  \n",
       "pk             -0.303560  \n",
       "\n",
       "[12903 rows x 5 columns]"
      ]
     },
     "execution_count": 10,
     "metadata": {},
     "output_type": "execute_result"
    },
    {
     "data": {
      "application/javascript": [
       "\n",
       "            setTimeout(function() {\n",
       "                var nbb_cell_id = 10;\n",
       "                var nbb_unformatted_code = \"merfish_adata.var\";\n",
       "                var nbb_formatted_code = \"merfish_adata.var\";\n",
       "                var nbb_cells = Jupyter.notebook.get_cells();\n",
       "                for (var i = 0; i < nbb_cells.length; ++i) {\n",
       "                    if (nbb_cells[i].input_prompt_number == nbb_cell_id) {\n",
       "                        if (nbb_cells[i].get_text() == nbb_unformatted_code) {\n",
       "                             nbb_cells[i].set_text(nbb_formatted_code);\n",
       "                        }\n",
       "                        break;\n",
       "                    }\n",
       "                }\n",
       "            }, 500);\n",
       "            "
      ],
      "text/plain": [
       "<IPython.core.display.Javascript object>"
      ]
     },
     "metadata": {},
     "output_type": "display_data"
    }
   ],
   "source": [
    "merfish_adata.var"
   ]
  },
  {
   "cell_type": "markdown",
   "id": "f1e092dc",
   "metadata": {},
   "source": [
    "---\n",
    "\n",
    "## 2. FUCCI scRNA-seq data (Mahdessian et al. 2021)"
   ]
  },
  {
   "cell_type": "markdown",
   "id": "b59ee8c8",
   "metadata": {},
   "source": [
    "The second data set consists of 1,152 U2OS FUCCI cells that were sorted by FACS and sequenced at single-cell resolution using SMART-seq2 chemistry. In total 42'728 genes were captured."
   ]
  },
  {
   "cell_type": "markdown",
   "id": "2f09d4ef",
   "metadata": {},
   "source": [
    "### 2a. Read in data"
   ]
  },
  {
   "cell_type": "code",
   "execution_count": 11,
   "id": "f169c1c7",
   "metadata": {},
   "outputs": [
    {
     "data": {
      "text/plain": [
       "AnnData object with n_obs × n_vars = 1152 × 42728"
      ]
     },
     "execution_count": 11,
     "metadata": {},
     "output_type": "execute_result"
    },
    {
     "data": {
      "application/javascript": [
       "\n",
       "            setTimeout(function() {\n",
       "                var nbb_cell_id = 11;\n",
       "                var nbb_unformatted_code = \"fucci_adata = sc.read_csv(\\n    \\\"/home/paysan_d/PycharmProjects/image2reg/data/gex/GSE146773_Counts.csv\\\"\\n)\\nfucci_adata\";\n",
       "                var nbb_formatted_code = \"fucci_adata = sc.read_csv(\\n    \\\"/home/paysan_d/PycharmProjects/image2reg/data/gex/GSE146773_Counts.csv\\\"\\n)\\nfucci_adata\";\n",
       "                var nbb_cells = Jupyter.notebook.get_cells();\n",
       "                for (var i = 0; i < nbb_cells.length; ++i) {\n",
       "                    if (nbb_cells[i].input_prompt_number == nbb_cell_id) {\n",
       "                        if (nbb_cells[i].get_text() == nbb_unformatted_code) {\n",
       "                             nbb_cells[i].set_text(nbb_formatted_code);\n",
       "                        }\n",
       "                        break;\n",
       "                    }\n",
       "                }\n",
       "            }, 500);\n",
       "            "
      ],
      "text/plain": [
       "<IPython.core.display.Javascript object>"
      ]
     },
     "metadata": {},
     "output_type": "display_data"
    }
   ],
   "source": [
    "fucci_adata = sc.read_csv(\n",
    "    \"/home/paysan_d/PycharmProjects/image2reg/data/gex/GSE146773_Counts.csv\"\n",
    ")\n",
    "fucci_adata"
   ]
  },
  {
   "cell_type": "markdown",
   "id": "017f450e",
   "metadata": {},
   "source": [
    "Before we can continue we need to translate the Ensemble IDs to their respective gene names for consistency purposes."
   ]
  },
  {
   "cell_type": "code",
   "execution_count": 13,
   "id": "c1efd06b",
   "metadata": {
    "scrolled": true
   },
   "outputs": [
    {
     "name": "stdout",
     "output_type": "stream",
     "text": [
      "querying 1-1000...done.\n",
      "querying 1001-2000...done.\n",
      "querying 2001-3000...done.\n",
      "querying 3001-4000...done.\n",
      "querying 4001-5000...done.\n",
      "querying 5001-6000...done.\n",
      "querying 6001-7000...done.\n",
      "querying 7001-8000...done.\n",
      "querying 8001-9000...done.\n",
      "querying 9001-10000...done.\n",
      "querying 10001-11000...done.\n",
      "querying 11001-12000...done.\n",
      "querying 12001-13000...done.\n",
      "querying 13001-14000...done.\n",
      "querying 14001-15000...done.\n",
      "querying 15001-16000...done.\n",
      "querying 16001-17000...done.\n",
      "querying 17001-18000...done.\n",
      "querying 18001-19000...done.\n",
      "querying 19001-20000...done.\n",
      "querying 20001-21000...done.\n",
      "querying 21001-22000...done.\n",
      "querying 22001-23000...done.\n",
      "querying 23001-24000...done.\n",
      "querying 24001-25000...done.\n",
      "querying 25001-26000...done.\n",
      "querying 26001-27000...done.\n",
      "querying 27001-28000...done.\n",
      "querying 28001-29000...done.\n",
      "querying 29001-30000...done.\n",
      "querying 30001-31000...done.\n",
      "querying 31001-32000...done.\n",
      "querying 32001-33000...done.\n",
      "querying 33001-34000...done.\n",
      "querying 34001-35000...done.\n",
      "querying 35001-36000...done.\n",
      "querying 36001-37000...done.\n",
      "querying 37001-38000...done.\n",
      "querying 38001-39000...done.\n",
      "querying 39001-40000...done.\n",
      "querying 40001-41000...done.\n",
      "querying 41001-42000...done.\n",
      "querying 42001-42728...done.\n",
      "Finished.\n",
      "96 input query terms found no hit:\n",
      "\t['ENSG00000130489', 'ENSG00000130723', 'ENSG00000168078', 'ENSG00000170152', 'ENSG00000170165', 'ENS\n",
      "Pass \"returnall=True\" to return complete lists of duplicate or missing query terms.\n"
     ]
    },
    {
     "data": {
      "application/javascript": [
       "\n",
       "            setTimeout(function() {\n",
       "                var nbb_cell_id = 13;\n",
       "                var nbb_unformatted_code = \"mg = mygene.MyGeneInfo()\\nfucci_gene_list = list(fucci_adata.var.index)\\nfucci_query_results = mg.querymany(\\n    fucci_gene_list, scopes=\\\"ensembl.gene\\\", fields=\\\"symbol\\\", species=\\\"human\\\"\\n)\";\n",
       "                var nbb_formatted_code = \"mg = mygene.MyGeneInfo()\\nfucci_gene_list = list(fucci_adata.var.index)\\nfucci_query_results = mg.querymany(\\n    fucci_gene_list, scopes=\\\"ensembl.gene\\\", fields=\\\"symbol\\\", species=\\\"human\\\"\\n)\";\n",
       "                var nbb_cells = Jupyter.notebook.get_cells();\n",
       "                for (var i = 0; i < nbb_cells.length; ++i) {\n",
       "                    if (nbb_cells[i].input_prompt_number == nbb_cell_id) {\n",
       "                        if (nbb_cells[i].get_text() == nbb_unformatted_code) {\n",
       "                             nbb_cells[i].set_text(nbb_formatted_code);\n",
       "                        }\n",
       "                        break;\n",
       "                    }\n",
       "                }\n",
       "            }, 500);\n",
       "            "
      ],
      "text/plain": [
       "<IPython.core.display.Javascript object>"
      ]
     },
     "metadata": {},
     "output_type": "display_data"
    }
   ],
   "source": [
    "mg = mygene.MyGeneInfo()\n",
    "fucci_gene_list = list(fucci_adata.var.index)\n",
    "fucci_query_results = mg.querymany(\n",
    "    fucci_gene_list, scopes=\"ensembl.gene\", fields=\"symbol\", species=\"human\"\n",
    ")"
   ]
  },
  {
   "cell_type": "code",
   "execution_count": 14,
   "id": "2c944201",
   "metadata": {},
   "outputs": [
    {
     "data": {
      "text/plain": [
       "6803"
      ]
     },
     "execution_count": 14,
     "metadata": {},
     "output_type": "execute_result"
    },
    {
     "data": {
      "application/javascript": [
       "\n",
       "            setTimeout(function() {\n",
       "                var nbb_cell_id = 14;\n",
       "                var nbb_unformatted_code = \"fucci_gene_symbs = []\\nfucci_gene_ensid = []\\nmissing_duplicate_symbs = []\\nfor query_result in fucci_query_results:\\n    try:\\n        fucci_gene_symbs.append(query_result[\\\"symbol\\\"])\\n        fucci_gene_ensid.append(query_result[\\\"query\\\"])\\n    except KeyError:\\n        missing_duplicate_symbs.append(query_result[\\\"query\\\"])\\nlen(missing_duplicate_symbs)\";\n",
       "                var nbb_formatted_code = \"fucci_gene_symbs = []\\nfucci_gene_ensid = []\\nmissing_duplicate_symbs = []\\nfor query_result in fucci_query_results:\\n    try:\\n        fucci_gene_symbs.append(query_result[\\\"symbol\\\"])\\n        fucci_gene_ensid.append(query_result[\\\"query\\\"])\\n    except KeyError:\\n        missing_duplicate_symbs.append(query_result[\\\"query\\\"])\\nlen(missing_duplicate_symbs)\";\n",
       "                var nbb_cells = Jupyter.notebook.get_cells();\n",
       "                for (var i = 0; i < nbb_cells.length; ++i) {\n",
       "                    if (nbb_cells[i].input_prompt_number == nbb_cell_id) {\n",
       "                        if (nbb_cells[i].get_text() == nbb_unformatted_code) {\n",
       "                             nbb_cells[i].set_text(nbb_formatted_code);\n",
       "                        }\n",
       "                        break;\n",
       "                    }\n",
       "                }\n",
       "            }, 500);\n",
       "            "
      ],
      "text/plain": [
       "<IPython.core.display.Javascript object>"
      ]
     },
     "metadata": {},
     "output_type": "display_data"
    }
   ],
   "source": [
    "fucci_gene_symbs = []\n",
    "fucci_gene_ensid = []\n",
    "missing_duplicate_symbs = []\n",
    "for query_result in fucci_query_results:\n",
    "    try:\n",
    "        fucci_gene_symbs.append(query_result[\"symbol\"])\n",
    "        fucci_gene_ensid.append(query_result[\"query\"])\n",
    "    except KeyError:\n",
    "        missing_duplicate_symbs.append(query_result[\"query\"])\n",
    "len(missing_duplicate_symbs)"
   ]
  },
  {
   "cell_type": "markdown",
   "id": "0a9c6ebf",
   "metadata": {},
   "source": [
    "There are 6803 ensemble ID that were not found in the reference data set. We will remove those 6803 genes from our analyses."
   ]
  },
  {
   "cell_type": "code",
   "execution_count": 15,
   "id": "4fade179",
   "metadata": {},
   "outputs": [
    {
     "data": {
      "text/plain": [
       "View of AnnData object with n_obs × n_vars = 1152 × 35925"
      ]
     },
     "execution_count": 15,
     "metadata": {},
     "output_type": "execute_result"
    },
    {
     "data": {
      "application/javascript": [
       "\n",
       "            setTimeout(function() {\n",
       "                var nbb_cell_id = 15;\n",
       "                var nbb_unformatted_code = \"fucci_adata = fucci_adata[:, fucci_gene_ensid]\\nfucci_adata\";\n",
       "                var nbb_formatted_code = \"fucci_adata = fucci_adata[:, fucci_gene_ensid]\\nfucci_adata\";\n",
       "                var nbb_cells = Jupyter.notebook.get_cells();\n",
       "                for (var i = 0; i < nbb_cells.length; ++i) {\n",
       "                    if (nbb_cells[i].input_prompt_number == nbb_cell_id) {\n",
       "                        if (nbb_cells[i].get_text() == nbb_unformatted_code) {\n",
       "                             nbb_cells[i].set_text(nbb_formatted_code);\n",
       "                        }\n",
       "                        break;\n",
       "                    }\n",
       "                }\n",
       "            }, 500);\n",
       "            "
      ],
      "text/plain": [
       "<IPython.core.display.Javascript object>"
      ]
     },
     "metadata": {},
     "output_type": "display_data"
    }
   ],
   "source": [
    "fucci_adata = fucci_adata[:, fucci_gene_ensid]\n",
    "fucci_adata"
   ]
  },
  {
   "cell_type": "code",
   "execution_count": 17,
   "id": "d46a9001",
   "metadata": {},
   "outputs": [
    {
     "data": {
      "application/javascript": [
       "\n",
       "            setTimeout(function() {\n",
       "                var nbb_cell_id = 17;\n",
       "                var nbb_unformatted_code = \"fucci_adata.var.loc[:,\\\"gene_symbol\\\"] = fucci_gene_symbs\";\n",
       "                var nbb_formatted_code = \"fucci_adata.var.loc[:, \\\"gene_symbol\\\"] = fucci_gene_symbs\";\n",
       "                var nbb_cells = Jupyter.notebook.get_cells();\n",
       "                for (var i = 0; i < nbb_cells.length; ++i) {\n",
       "                    if (nbb_cells[i].input_prompt_number == nbb_cell_id) {\n",
       "                        if (nbb_cells[i].get_text() == nbb_unformatted_code) {\n",
       "                             nbb_cells[i].set_text(nbb_formatted_code);\n",
       "                        }\n",
       "                        break;\n",
       "                    }\n",
       "                }\n",
       "            }, 500);\n",
       "            "
      ],
      "text/plain": [
       "<IPython.core.display.Javascript object>"
      ]
     },
     "metadata": {},
     "output_type": "display_data"
    }
   ],
   "source": [
    "fucci_adata.var.loc[:, \"gene_symbol\"] = fucci_gene_symbs"
   ]
  },
  {
   "cell_type": "markdown",
   "id": "687c62f1",
   "metadata": {},
   "source": [
    "We are left with 35'925 genes."
   ]
  },
  {
   "cell_type": "markdown",
   "id": "b09c70c6",
   "metadata": {},
   "source": [
    "### 2b. Preprocessing\n",
    "\n",
    "We will now run a similar preprocessing pipeline as for the previously described MerFISH data set."
   ]
  },
  {
   "cell_type": "code",
   "execution_count": 18,
   "id": "c21e8b79",
   "metadata": {},
   "outputs": [
    {
     "data": {
      "application/javascript": [
       "\n",
       "            setTimeout(function() {\n",
       "                var nbb_cell_id = 18;\n",
       "                var nbb_unformatted_code = \"fucci_adata.var[\\\"n_cells_per_gene\\\"] = np.sum(\\n    (np.array(fucci_adata.to_df()) > 0), axis=0\\n)\\nfucci_adata.obs[\\\"n_genes_per_cell\\\"] = np.sum(\\n    (np.array(fucci_adata.to_df())) > 0, axis=1\\n)\";\n",
       "                var nbb_formatted_code = \"fucci_adata.var[\\\"n_cells_per_gene\\\"] = np.sum(\\n    (np.array(fucci_adata.to_df()) > 0), axis=0\\n)\\nfucci_adata.obs[\\\"n_genes_per_cell\\\"] = np.sum(\\n    (np.array(fucci_adata.to_df())) > 0, axis=1\\n)\";\n",
       "                var nbb_cells = Jupyter.notebook.get_cells();\n",
       "                for (var i = 0; i < nbb_cells.length; ++i) {\n",
       "                    if (nbb_cells[i].input_prompt_number == nbb_cell_id) {\n",
       "                        if (nbb_cells[i].get_text() == nbb_unformatted_code) {\n",
       "                             nbb_cells[i].set_text(nbb_formatted_code);\n",
       "                        }\n",
       "                        break;\n",
       "                    }\n",
       "                }\n",
       "            }, 500);\n",
       "            "
      ],
      "text/plain": [
       "<IPython.core.display.Javascript object>"
      ]
     },
     "metadata": {},
     "output_type": "display_data"
    }
   ],
   "source": [
    "fucci_adata.var[\"n_cells_per_gene\"] = np.sum(\n",
    "    (np.array(fucci_adata.to_df()) > 0), axis=0\n",
    ")\n",
    "fucci_adata.obs[\"n_genes_per_cell\"] = np.sum(\n",
    "    (np.array(fucci_adata.to_df())) > 0, axis=1\n",
    ")"
   ]
  },
  {
   "cell_type": "code",
   "execution_count": 19,
   "id": "3e6364b8",
   "metadata": {},
   "outputs": [
    {
     "data": {
      "image/png": "[encoded data removed]",
      "text/plain": [
       "<Figure size 720x216 with 3 Axes>"
      ]
     },
     "metadata": {
      "needs_background": "light"
     },
     "output_type": "display_data"
    },
    {
     "data": {
      "application/javascript": [
       "\n",
       "            setTimeout(function() {\n",
       "                var nbb_cell_id = 19;\n",
       "                var nbb_unformatted_code = \"fig, ax = plt.subplots(1, 3, figsize=[10, 3])\\nax = ax.flatten()\\nsns.histplot(fucci_adata.obs[\\\"n_genes_per_cell\\\"], ax=ax[0])\\nax[0].set_title(\\\"#Genes expressed per cell\\\")\\n\\nsns.histplot(fucci_adata.obs[\\\"n_genes_per_cell\\\"], ax=ax[1])\\nax[1].set_title(\\\"#Genes expressed per cell\\\")\\n\\nsns.histplot(fucci_adata.var[\\\"n_cells_per_gene\\\"], ax=ax[2])\\nax[2].set_title(\\\"#Cells expressing a gene\\\")\\nplt.show()\";\n",
       "                var nbb_formatted_code = \"fig, ax = plt.subplots(1, 3, figsize=[10, 3])\\nax = ax.flatten()\\nsns.histplot(fucci_adata.obs[\\\"n_genes_per_cell\\\"], ax=ax[0])\\nax[0].set_title(\\\"#Genes expressed per cell\\\")\\n\\nsns.histplot(fucci_adata.obs[\\\"n_genes_per_cell\\\"], ax=ax[1])\\nax[1].set_title(\\\"#Genes expressed per cell\\\")\\n\\nsns.histplot(fucci_adata.var[\\\"n_cells_per_gene\\\"], ax=ax[2])\\nax[2].set_title(\\\"#Cells expressing a gene\\\")\\nplt.show()\";\n",
       "                var nbb_cells = Jupyter.notebook.get_cells();\n",
       "                for (var i = 0; i < nbb_cells.length; ++i) {\n",
       "                    if (nbb_cells[i].input_prompt_number == nbb_cell_id) {\n",
       "                        if (nbb_cells[i].get_text() == nbb_unformatted_code) {\n",
       "                             nbb_cells[i].set_text(nbb_formatted_code);\n",
       "                        }\n",
       "                        break;\n",
       "                    }\n",
       "                }\n",
       "            }, 500);\n",
       "            "
      ],
      "text/plain": [
       "<IPython.core.display.Javascript object>"
      ]
     },
     "metadata": {},
     "output_type": "display_data"
    }
   ],
   "source": [
    "fig, ax = plt.subplots(1, 3, figsize=[10, 3])\n",
    "ax = ax.flatten()\n",
    "sns.histplot(fucci_adata.obs[\"n_genes_per_cell\"], ax=ax[0])\n",
    "ax[0].set_title(\"#Genes expressed per cell\")\n",
    "\n",
    "sns.histplot(fucci_adata.obs[\"n_genes_per_cell\"], ax=ax[1])\n",
    "ax[1].set_title(\"#Genes expressed per cell\")\n",
    "\n",
    "sns.histplot(fucci_adata.var[\"n_cells_per_gene\"], ax=ax[2])\n",
    "ax[2].set_title(\"#Cells expressing a gene\")\n",
    "plt.show()"
   ]
  },
  {
   "cell_type": "markdown",
   "id": "1b0a21c5",
   "metadata": {},
   "source": [
    "We filter out cells for which not at least transcripts from 8'000 different genes were measured and genes that are expressed in less than 10 cells. The cut-offs were chosen under consideration of the corresponding empirical distributions to remove outlier."
   ]
  },
  {
   "cell_type": "code",
   "execution_count": 20,
   "id": "685ff027",
   "metadata": {},
   "outputs": [
    {
     "data": {
      "text/plain": [
       "AnnData object with n_obs × n_vars = 1126 × 21722\n",
       "    obs: 'n_genes_per_cell', 'n_genes'\n",
       "    var: 'gene_symbol', 'n_cells_per_gene', 'n_cells'"
      ]
     },
     "execution_count": 20,
     "metadata": {},
     "output_type": "execute_result"
    },
    {
     "data": {
      "application/javascript": [
       "\n",
       "            setTimeout(function() {\n",
       "                var nbb_cell_id = 20;\n",
       "                var nbb_unformatted_code = \"sc.pp.filter_cells(fucci_adata, min_genes=8000)\\nsc.pp.filter_genes(fucci_adata, min_cells=10)\\nfucci_adata\";\n",
       "                var nbb_formatted_code = \"sc.pp.filter_cells(fucci_adata, min_genes=8000)\\nsc.pp.filter_genes(fucci_adata, min_cells=10)\\nfucci_adata\";\n",
       "                var nbb_cells = Jupyter.notebook.get_cells();\n",
       "                for (var i = 0; i < nbb_cells.length; ++i) {\n",
       "                    if (nbb_cells[i].input_prompt_number == nbb_cell_id) {\n",
       "                        if (nbb_cells[i].get_text() == nbb_unformatted_code) {\n",
       "                             nbb_cells[i].set_text(nbb_formatted_code);\n",
       "                        }\n",
       "                        break;\n",
       "                    }\n",
       "                }\n",
       "            }, 500);\n",
       "            "
      ],
      "text/plain": [
       "<IPython.core.display.Javascript object>"
      ]
     },
     "metadata": {},
     "output_type": "display_data"
    }
   ],
   "source": [
    "sc.pp.filter_cells(fucci_adata, min_genes=8000)\n",
    "sc.pp.filter_genes(fucci_adata, min_cells=10)\n",
    "fucci_adata"
   ]
  },
  {
   "cell_type": "markdown",
   "id": "142786ed",
   "metadata": {},
   "source": [
    "This filtering step reduces the dimensionality of the data set to 1'126 cells for which 21'722 genes were measured."
   ]
  },
  {
   "cell_type": "code",
   "execution_count": 21,
   "id": "ad7bac83",
   "metadata": {},
   "outputs": [
    {
     "data": {
      "application/javascript": [
       "\n",
       "            setTimeout(function() {\n",
       "                var nbb_cell_id = 21;\n",
       "                var nbb_unformatted_code = \"sc.pp.normalize_total(fucci_adata, target_sum=1e6)\\nsc.pp.log1p(fucci_adata)\";\n",
       "                var nbb_formatted_code = \"sc.pp.normalize_total(fucci_adata, target_sum=1e6)\\nsc.pp.log1p(fucci_adata)\";\n",
       "                var nbb_cells = Jupyter.notebook.get_cells();\n",
       "                for (var i = 0; i < nbb_cells.length; ++i) {\n",
       "                    if (nbb_cells[i].input_prompt_number == nbb_cell_id) {\n",
       "                        if (nbb_cells[i].get_text() == nbb_unformatted_code) {\n",
       "                             nbb_cells[i].set_text(nbb_formatted_code);\n",
       "                        }\n",
       "                        break;\n",
       "                    }\n",
       "                }\n",
       "            }, 500);\n",
       "            "
      ],
      "text/plain": [
       "<IPython.core.display.Javascript object>"
      ]
     },
     "metadata": {},
     "output_type": "display_data"
    }
   ],
   "source": [
    "sc.pp.normalize_total(fucci_adata, target_sum=1e6)\n",
    "sc.pp.log1p(fucci_adata)"
   ]
  },
  {
   "cell_type": "code",
   "execution_count": 22,
   "id": "2f59c48d",
   "metadata": {},
   "outputs": [
    {
     "data": {
      "application/javascript": [
       "\n",
       "            setTimeout(function() {\n",
       "                var nbb_cell_id = 22;\n",
       "                var nbb_unformatted_code = \"sc.pp.highly_variable_genes(\\n    fucci_adata, flavor=\\\"seurat\\\", n_top_genes=fucci_adata.n_vars\\n)\";\n",
       "                var nbb_formatted_code = \"sc.pp.highly_variable_genes(\\n    fucci_adata, flavor=\\\"seurat\\\", n_top_genes=fucci_adata.n_vars\\n)\";\n",
       "                var nbb_cells = Jupyter.notebook.get_cells();\n",
       "                for (var i = 0; i < nbb_cells.length; ++i) {\n",
       "                    if (nbb_cells[i].input_prompt_number == nbb_cell_id) {\n",
       "                        if (nbb_cells[i].get_text() == nbb_unformatted_code) {\n",
       "                             nbb_cells[i].set_text(nbb_formatted_code);\n",
       "                        }\n",
       "                        break;\n",
       "                    }\n",
       "                }\n",
       "            }, 500);\n",
       "            "
      ],
      "text/plain": [
       "<IPython.core.display.Javascript object>"
      ]
     },
     "metadata": {},
     "output_type": "display_data"
    }
   ],
   "source": [
    "sc.pp.highly_variable_genes(\n",
    "    fucci_adata, flavor=\"seurat\", n_top_genes=fucci_adata.n_vars\n",
    ")"
   ]
  },
  {
   "cell_type": "code",
   "execution_count": 23,
   "id": "591f6962",
   "metadata": {},
   "outputs": [
    {
     "data": {
      "text/html": [
       "<div>\n",
       "<style scoped>\n",
       "    .dataframe tbody tr th:only-of-type {\n",
       "        vertical-align: middle;\n",
       "    }\n",
       "\n",
       "    .dataframe tbody tr th {\n",
       "        vertical-align: top;\n",
       "    }\n",
       "\n",
       "    .dataframe thead th {\n",
       "        text-align: right;\n",
       "    }\n",
       "</style>\n",
       "<table border=\"1\" class=\"dataframe\">\n",
       "  <thead>\n",
       "    <tr style=\"text-align: right;\">\n",
       "      <th></th>\n",
       "      <th>gene_symbol</th>\n",
       "      <th>n_cells_per_gene</th>\n",
       "      <th>n_cells</th>\n",
       "      <th>highly_variable</th>\n",
       "      <th>means</th>\n",
       "      <th>dispersions</th>\n",
       "      <th>dispersions_norm</th>\n",
       "    </tr>\n",
       "  </thead>\n",
       "  <tbody>\n",
       "    <tr>\n",
       "      <th>ENSG00000000003</th>\n",
       "      <td>TSPAN6</td>\n",
       "      <td>1133</td>\n",
       "      <td>1125</td>\n",
       "      <td>True</td>\n",
       "      <td>4.382218</td>\n",
       "      <td>3.006060</td>\n",
       "      <td>0.029404</td>\n",
       "    </tr>\n",
       "    <tr>\n",
       "      <th>ENSG00000000419</th>\n",
       "      <td>DPM1</td>\n",
       "      <td>1135</td>\n",
       "      <td>1125</td>\n",
       "      <td>True</td>\n",
       "      <td>4.193527</td>\n",
       "      <td>2.342898</td>\n",
       "      <td>-1.553842</td>\n",
       "    </tr>\n",
       "    <tr>\n",
       "      <th>ENSG00000000457</th>\n",
       "      <td>SCYL3</td>\n",
       "      <td>554</td>\n",
       "      <td>554</td>\n",
       "      <td>True</td>\n",
       "      <td>1.867044</td>\n",
       "      <td>2.760401</td>\n",
       "      <td>0.285047</td>\n",
       "    </tr>\n",
       "    <tr>\n",
       "      <th>ENSG00000000460</th>\n",
       "      <td>C1orf112</td>\n",
       "      <td>1003</td>\n",
       "      <td>1001</td>\n",
       "      <td>True</td>\n",
       "      <td>3.713721</td>\n",
       "      <td>3.198679</td>\n",
       "      <td>0.854284</td>\n",
       "    </tr>\n",
       "    <tr>\n",
       "      <th>ENSG00000000971</th>\n",
       "      <td>CFH</td>\n",
       "      <td>77</td>\n",
       "      <td>76</td>\n",
       "      <td>True</td>\n",
       "      <td>0.548075</td>\n",
       "      <td>2.909802</td>\n",
       "      <td>1.825815</td>\n",
       "    </tr>\n",
       "    <tr>\n",
       "      <th>...</th>\n",
       "      <td>...</td>\n",
       "      <td>...</td>\n",
       "      <td>...</td>\n",
       "      <td>...</td>\n",
       "      <td>...</td>\n",
       "      <td>...</td>\n",
       "      <td>...</td>\n",
       "    </tr>\n",
       "    <tr>\n",
       "      <th>ENSG00000286190</th>\n",
       "      <td>LOC728392</td>\n",
       "      <td>253</td>\n",
       "      <td>253</td>\n",
       "      <td>True</td>\n",
       "      <td>0.763107</td>\n",
       "      <td>2.014953</td>\n",
       "      <td>-0.526220</td>\n",
       "    </tr>\n",
       "    <tr>\n",
       "      <th>ENSG00000286219</th>\n",
       "      <td>NOTCH2NLC</td>\n",
       "      <td>921</td>\n",
       "      <td>917</td>\n",
       "      <td>True</td>\n",
       "      <td>2.971488</td>\n",
       "      <td>2.892829</td>\n",
       "      <td>0.351673</td>\n",
       "    </tr>\n",
       "    <tr>\n",
       "      <th>ENSG00000286228</th>\n",
       "      <td>SPDYE11</td>\n",
       "      <td>701</td>\n",
       "      <td>699</td>\n",
       "      <td>True</td>\n",
       "      <td>0.961447</td>\n",
       "      <td>0.911072</td>\n",
       "      <td>-2.171877</td>\n",
       "    </tr>\n",
       "    <tr>\n",
       "      <th>ENSG00000286237</th>\n",
       "      <td>ARMCX5-GPRASP2</td>\n",
       "      <td>129</td>\n",
       "      <td>129</td>\n",
       "      <td>True</td>\n",
       "      <td>0.801016</td>\n",
       "      <td>2.667029</td>\n",
       "      <td>0.445889</td>\n",
       "    </tr>\n",
       "    <tr>\n",
       "      <th>ENSG00000286264</th>\n",
       "      <td>LOC114841035</td>\n",
       "      <td>69</td>\n",
       "      <td>69</td>\n",
       "      <td>True</td>\n",
       "      <td>0.380425</td>\n",
       "      <td>2.187541</td>\n",
       "      <td>0.830213</td>\n",
       "    </tr>\n",
       "  </tbody>\n",
       "</table>\n",
       "<p>21722 rows × 7 columns</p>\n",
       "</div>"
      ],
      "text/plain": [
       "                    gene_symbol  n_cells_per_gene  n_cells  highly_variable  \\\n",
       "ENSG00000000003          TSPAN6              1133     1125             True   \n",
       "ENSG00000000419            DPM1              1135     1125             True   \n",
       "ENSG00000000457           SCYL3               554      554             True   \n",
       "ENSG00000000460        C1orf112              1003     1001             True   \n",
       "ENSG00000000971             CFH                77       76             True   \n",
       "...                         ...               ...      ...              ...   \n",
       "ENSG00000286190       LOC728392               253      253             True   \n",
       "ENSG00000286219       NOTCH2NLC               921      917             True   \n",
       "ENSG00000286228         SPDYE11               701      699             True   \n",
       "ENSG00000286237  ARMCX5-GPRASP2               129      129             True   \n",
       "ENSG00000286264    LOC114841035                69       69             True   \n",
       "\n",
       "                    means  dispersions  dispersions_norm  \n",
       "ENSG00000000003  4.382218     3.006060          0.029404  \n",
       "ENSG00000000419  4.193527     2.342898         -1.553842  \n",
       "ENSG00000000457  1.867044     2.760401          0.285047  \n",
       "ENSG00000000460  3.713721     3.198679          0.854284  \n",
       "ENSG00000000971  0.548075     2.909802          1.825815  \n",
       "...                   ...          ...               ...  \n",
       "ENSG00000286190  0.763107     2.014953         -0.526220  \n",
       "ENSG00000286219  2.971488     2.892829          0.351673  \n",
       "ENSG00000286228  0.961447     0.911072         -2.171877  \n",
       "ENSG00000286237  0.801016     2.667029          0.445889  \n",
       "ENSG00000286264  0.380425     2.187541          0.830213  \n",
       "\n",
       "[21722 rows x 7 columns]"
      ]
     },
     "execution_count": 23,
     "metadata": {},
     "output_type": "execute_result"
    },
    {
     "data": {
      "application/javascript": [
       "\n",
       "            setTimeout(function() {\n",
       "                var nbb_cell_id = 23;\n",
       "                var nbb_unformatted_code = \"fucci_adata.var\";\n",
       "                var nbb_formatted_code = \"fucci_adata.var\";\n",
       "                var nbb_cells = Jupyter.notebook.get_cells();\n",
       "                for (var i = 0; i < nbb_cells.length; ++i) {\n",
       "                    if (nbb_cells[i].input_prompt_number == nbb_cell_id) {\n",
       "                        if (nbb_cells[i].get_text() == nbb_unformatted_code) {\n",
       "                             nbb_cells[i].set_text(nbb_formatted_code);\n",
       "                        }\n",
       "                        break;\n",
       "                    }\n",
       "                }\n",
       "            }, 500);\n",
       "            "
      ],
      "text/plain": [
       "<IPython.core.display.Javascript object>"
      ]
     },
     "metadata": {},
     "output_type": "display_data"
    }
   ],
   "source": [
    "fucci_adata.var"
   ]
  },
  {
   "cell_type": "markdown",
   "id": "15ad7ffc",
   "metadata": {},
   "source": [
    "---\n",
    "\n",
    "## 3. Comparison of the data sets"
   ]
  },
  {
   "cell_type": "markdown",
   "id": "6f4a4e63",
   "metadata": {},
   "source": [
    "We will now compare the two data sets to a) identify similarities between the two data sets that should exists as they describe the same cell population and b) identify the one that might be better suited for our downstream task of inferring the cell-type specific interactome and learn the regulatory space of U2OS cells."
   ]
  },
  {
   "cell_type": "markdown",
   "id": "444c92ce",
   "metadata": {},
   "source": [
    "### 3a. Read in overexpression data set\n",
    "\n",
    "To this end, we will first read in the overexpression data set to identify the respective gene targets of the perturbation study that we want to have included in the derived interactome."
   ]
  },
  {
   "cell_type": "code",
   "execution_count": 24,
   "id": "7539e015",
   "metadata": {},
   "outputs": [
    {
     "data": {
      "text/html": [
       "<div>\n",
       "<style scoped>\n",
       "    .dataframe tbody tr th:only-of-type {\n",
       "        vertical-align: middle;\n",
       "    }\n",
       "\n",
       "    .dataframe tbody tr th {\n",
       "        vertical-align: top;\n",
       "    }\n",
       "\n",
       "    .dataframe thead th {\n",
       "        text-align: right;\n",
       "    }\n",
       "</style>\n",
       "<table border=\"1\" class=\"dataframe\">\n",
       "  <thead>\n",
       "    <tr style=\"text-align: right;\">\n",
       "      <th></th>\n",
       "      <th>ImageNumber</th>\n",
       "      <th>Image_Metadata_Plate</th>\n",
       "      <th>Image_Metadata_Well</th>\n",
       "      <th>Image_FileName_OrigHoechst</th>\n",
       "      <th>Image_FileName_IllumHoechst</th>\n",
       "      <th>Image_FileName_NucleiOutlines</th>\n",
       "      <th>Image_Count_Nuclei</th>\n",
       "      <th>Image_Metadata_GeneID</th>\n",
       "      <th>Image_Metadata_GeneSymbol</th>\n",
       "      <th>Image_Metadata_IsLandmark</th>\n",
       "      <th>...</th>\n",
       "      <th>Image_Metadata_IntendedOrfMismatch</th>\n",
       "      <th>Image_Metadata_OpenOrClosed</th>\n",
       "      <th>Image_Metadata_RNAiVirusPlateName</th>\n",
       "      <th>Image_Metadata_Site</th>\n",
       "      <th>Image_Metadata_TimePoint_Hours</th>\n",
       "      <th>Image_Metadata_Type</th>\n",
       "      <th>Image_Metadata_Virus_Vol_ul</th>\n",
       "      <th>Image_Metadata_ASSAY_WELL_ROLE</th>\n",
       "      <th>Image_Metadata_QCFlag_isBlurry</th>\n",
       "      <th>Image_Metadata_QCFlag_isSaturated</th>\n",
       "    </tr>\n",
       "  </thead>\n",
       "  <tbody>\n",
       "    <tr>\n",
       "      <th>0</th>\n",
       "      <td>2347</td>\n",
       "      <td>41744</td>\n",
       "      <td>k21</td>\n",
       "      <td>taoe005-u2os-72h-cp-a-au00044859_k21_s7_w10efe...</td>\n",
       "      <td>taoe005-u2os-72h-cp-a-au00044859_k21_s7_w10efe...</td>\n",
       "      <td>k21_s7_NucleiOutlines.png</td>\n",
       "      <td>60</td>\n",
       "      <td>1977.0</td>\n",
       "      <td>EIF4E</td>\n",
       "      <td>0.0</td>\n",
       "      <td>...</td>\n",
       "      <td>NaN</td>\n",
       "      <td>open</td>\n",
       "      <td>ORA11.12.13.18A</td>\n",
       "      <td>7</td>\n",
       "      <td>72H</td>\n",
       "      <td>ORF OE</td>\n",
       "      <td>1</td>\n",
       "      <td>Treated</td>\n",
       "      <td>0</td>\n",
       "      <td>0</td>\n",
       "    </tr>\n",
       "    <tr>\n",
       "      <th>1</th>\n",
       "      <td>1840</td>\n",
       "      <td>41744</td>\n",
       "      <td>i13</td>\n",
       "      <td>taoe005-u2os-72h-cp-a-au00044859_i13_s4_w13be2...</td>\n",
       "      <td>taoe005-u2os-72h-cp-a-au00044859_i13_s4_w13be2...</td>\n",
       "      <td>i13_s4_NucleiOutlines.png</td>\n",
       "      <td>69</td>\n",
       "      <td>22943.0</td>\n",
       "      <td>DKK1</td>\n",
       "      <td>0.0</td>\n",
       "      <td>...</td>\n",
       "      <td>NaN</td>\n",
       "      <td>open</td>\n",
       "      <td>ORA11.12.13.18A</td>\n",
       "      <td>4</td>\n",
       "      <td>72H</td>\n",
       "      <td>ORF OE</td>\n",
       "      <td>1</td>\n",
       "      <td>Treated</td>\n",
       "      <td>0</td>\n",
       "      <td>0</td>\n",
       "    </tr>\n",
       "    <tr>\n",
       "      <th>2</th>\n",
       "      <td>2088</td>\n",
       "      <td>41744</td>\n",
       "      <td>j16</td>\n",
       "      <td>taoe005-u2os-72h-cp-a-au00044859_j16_s9_w1b03e...</td>\n",
       "      <td>taoe005-u2os-72h-cp-a-au00044859_j16_s9_w1b03e...</td>\n",
       "      <td>j16_s9_NucleiOutlines.png</td>\n",
       "      <td>48</td>\n",
       "      <td>22926.0</td>\n",
       "      <td>ATF6</td>\n",
       "      <td>1.0</td>\n",
       "      <td>...</td>\n",
       "      <td>NaN</td>\n",
       "      <td>open</td>\n",
       "      <td>ORA11.12.13.18A</td>\n",
       "      <td>9</td>\n",
       "      <td>72H</td>\n",
       "      <td>ORF OE</td>\n",
       "      <td>1</td>\n",
       "      <td>Treated</td>\n",
       "      <td>0</td>\n",
       "      <td>0</td>\n",
       "    </tr>\n",
       "    <tr>\n",
       "      <th>3</th>\n",
       "      <td>2651</td>\n",
       "      <td>41744</td>\n",
       "      <td>m07</td>\n",
       "      <td>taoe005-u2os-72h-cp-a-au00044859_m07_s5_w1226d...</td>\n",
       "      <td>taoe005-u2os-72h-cp-a-au00044859_m07_s5_w1226d...</td>\n",
       "      <td>m07_s5_NucleiOutlines.png</td>\n",
       "      <td>57</td>\n",
       "      <td>5045.0</td>\n",
       "      <td>FURIN</td>\n",
       "      <td>0.0</td>\n",
       "      <td>...</td>\n",
       "      <td>NaN</td>\n",
       "      <td>open</td>\n",
       "      <td>ORA11.12.13.18A</td>\n",
       "      <td>5</td>\n",
       "      <td>72H</td>\n",
       "      <td>ORF OE</td>\n",
       "      <td>1</td>\n",
       "      <td>Treated</td>\n",
       "      <td>0</td>\n",
       "      <td>0</td>\n",
       "    </tr>\n",
       "    <tr>\n",
       "      <th>4</th>\n",
       "      <td>1760</td>\n",
       "      <td>41744</td>\n",
       "      <td>i04</td>\n",
       "      <td>taoe005-u2os-72h-cp-a-au00044859_i04_s5_w1f731...</td>\n",
       "      <td>taoe005-u2os-72h-cp-a-au00044859_i04_s5_w1f731...</td>\n",
       "      <td>i04_s5_NucleiOutlines.png</td>\n",
       "      <td>51</td>\n",
       "      <td>5599.0</td>\n",
       "      <td>MAPK8</td>\n",
       "      <td>0.0</td>\n",
       "      <td>...</td>\n",
       "      <td>NaN</td>\n",
       "      <td>open</td>\n",
       "      <td>ORA11.12.13.18A</td>\n",
       "      <td>5</td>\n",
       "      <td>72H</td>\n",
       "      <td>ORF OE</td>\n",
       "      <td>1</td>\n",
       "      <td>Treated</td>\n",
       "      <td>0</td>\n",
       "      <td>0</td>\n",
       "    </tr>\n",
       "  </tbody>\n",
       "</table>\n",
       "<p>5 rows × 24 columns</p>\n",
       "</div>"
      ],
      "text/plain": [
       "   ImageNumber  Image_Metadata_Plate Image_Metadata_Well  \\\n",
       "0         2347                 41744                 k21   \n",
       "1         1840                 41744                 i13   \n",
       "2         2088                 41744                 j16   \n",
       "3         2651                 41744                 m07   \n",
       "4         1760                 41744                 i04   \n",
       "\n",
       "                          Image_FileName_OrigHoechst  \\\n",
       "0  taoe005-u2os-72h-cp-a-au00044859_k21_s7_w10efe...   \n",
       "1  taoe005-u2os-72h-cp-a-au00044859_i13_s4_w13be2...   \n",
       "2  taoe005-u2os-72h-cp-a-au00044859_j16_s9_w1b03e...   \n",
       "3  taoe005-u2os-72h-cp-a-au00044859_m07_s5_w1226d...   \n",
       "4  taoe005-u2os-72h-cp-a-au00044859_i04_s5_w1f731...   \n",
       "\n",
       "                         Image_FileName_IllumHoechst  \\\n",
       "0  taoe005-u2os-72h-cp-a-au00044859_k21_s7_w10efe...   \n",
       "1  taoe005-u2os-72h-cp-a-au00044859_i13_s4_w13be2...   \n",
       "2  taoe005-u2os-72h-cp-a-au00044859_j16_s9_w1b03e...   \n",
       "3  taoe005-u2os-72h-cp-a-au00044859_m07_s5_w1226d...   \n",
       "4  taoe005-u2os-72h-cp-a-au00044859_i04_s5_w1f731...   \n",
       "\n",
       "  Image_FileName_NucleiOutlines  Image_Count_Nuclei  Image_Metadata_GeneID  \\\n",
       "0     k21_s7_NucleiOutlines.png                  60                 1977.0   \n",
       "1     i13_s4_NucleiOutlines.png                  69                22943.0   \n",
       "2     j16_s9_NucleiOutlines.png                  48                22926.0   \n",
       "3     m07_s5_NucleiOutlines.png                  57                 5045.0   \n",
       "4     i04_s5_NucleiOutlines.png                  51                 5599.0   \n",
       "\n",
       "  Image_Metadata_GeneSymbol  Image_Metadata_IsLandmark  ...  \\\n",
       "0                     EIF4E                        0.0  ...   \n",
       "1                      DKK1                        0.0  ...   \n",
       "2                      ATF6                        1.0  ...   \n",
       "3                     FURIN                        0.0  ...   \n",
       "4                     MAPK8                        0.0  ...   \n",
       "\n",
       "  Image_Metadata_IntendedOrfMismatch Image_Metadata_OpenOrClosed  \\\n",
       "0                                NaN                        open   \n",
       "1                                NaN                        open   \n",
       "2                                NaN                        open   \n",
       "3                                NaN                        open   \n",
       "4                                NaN                        open   \n",
       "\n",
       "  Image_Metadata_RNAiVirusPlateName  Image_Metadata_Site  \\\n",
       "0                   ORA11.12.13.18A                    7   \n",
       "1                   ORA11.12.13.18A                    4   \n",
       "2                   ORA11.12.13.18A                    9   \n",
       "3                   ORA11.12.13.18A                    5   \n",
       "4                   ORA11.12.13.18A                    5   \n",
       "\n",
       "  Image_Metadata_TimePoint_Hours Image_Metadata_Type  \\\n",
       "0                            72H              ORF OE   \n",
       "1                            72H              ORF OE   \n",
       "2                            72H              ORF OE   \n",
       "3                            72H              ORF OE   \n",
       "4                            72H              ORF OE   \n",
       "\n",
       "  Image_Metadata_Virus_Vol_ul  Image_Metadata_ASSAY_WELL_ROLE  \\\n",
       "0                           1                         Treated   \n",
       "1                           1                         Treated   \n",
       "2                           1                         Treated   \n",
       "3                           1                         Treated   \n",
       "4                           1                         Treated   \n",
       "\n",
       "  Image_Metadata_QCFlag_isBlurry Image_Metadata_QCFlag_isSaturated  \n",
       "0                              0                                 0  \n",
       "1                              0                                 0  \n",
       "2                              0                                 0  \n",
       "3                              0                                 0  \n",
       "4                              0                                 0  \n",
       "\n",
       "[5 rows x 24 columns]"
      ]
     },
     "execution_count": 24,
     "metadata": {},
     "output_type": "execute_result"
    },
    {
     "data": {
      "application/javascript": [
       "\n",
       "            setTimeout(function() {\n",
       "                var nbb_cell_id = 24;\n",
       "                var nbb_unformatted_code = \"orf_data = pd.read_csv(\\n    \\\"../../data/experiments/image_preprocessing/full_pipeline/filtered_image_metadata.csv\\\",\\n    index_col=0,\\n)\\norf_data.head()\";\n",
       "                var nbb_formatted_code = \"orf_data = pd.read_csv(\\n    \\\"../../data/experiments/image_preprocessing/full_pipeline/filtered_image_metadata.csv\\\",\\n    index_col=0,\\n)\\norf_data.head()\";\n",
       "                var nbb_cells = Jupyter.notebook.get_cells();\n",
       "                for (var i = 0; i < nbb_cells.length; ++i) {\n",
       "                    if (nbb_cells[i].input_prompt_number == nbb_cell_id) {\n",
       "                        if (nbb_cells[i].get_text() == nbb_unformatted_code) {\n",
       "                             nbb_cells[i].set_text(nbb_formatted_code);\n",
       "                        }\n",
       "                        break;\n",
       "                    }\n",
       "                }\n",
       "            }, 500);\n",
       "            "
      ],
      "text/plain": [
       "<IPython.core.display.Javascript object>"
      ]
     },
     "metadata": {},
     "output_type": "display_data"
    }
   ],
   "source": [
    "orf_data = pd.read_csv(\n",
    "    \"../../data/experiments/image_preprocessing/full_pipeline/filtered_image_metadata.csv\",\n",
    "    index_col=0,\n",
    ")\n",
    "orf_data.head()"
   ]
  },
  {
   "cell_type": "markdown",
   "id": "8a653afa",
   "metadata": {},
   "source": [
    "### 3b. Coverage of the ORF targets"
   ]
  },
  {
   "cell_type": "code",
   "execution_count": 25,
   "id": "bdcd872a",
   "metadata": {},
   "outputs": [
    {
     "data": {
      "text/plain": [
       "190"
      ]
     },
     "execution_count": 25,
     "metadata": {},
     "output_type": "execute_result"
    },
    {
     "data": {
      "application/javascript": [
       "\n",
       "            setTimeout(function() {\n",
       "                var nbb_cell_id = 25;\n",
       "                var nbb_unformatted_code = \"target_set = set(orf_data.loc[:, \\\"Image_Metadata_GeneSymbol\\\"])\\ntarget_set.remove(\\\"EMPTY\\\")\\ntarget_set.remove(\\\"eGFP\\\")\\ntarget_set.remove(\\\"Luciferase\\\")\\ntarget_set.remove(\\\"LacZ\\\")\\nlen(target_set)\";\n",
       "                var nbb_formatted_code = \"target_set = set(orf_data.loc[:, \\\"Image_Metadata_GeneSymbol\\\"])\\ntarget_set.remove(\\\"EMPTY\\\")\\ntarget_set.remove(\\\"eGFP\\\")\\ntarget_set.remove(\\\"Luciferase\\\")\\ntarget_set.remove(\\\"LacZ\\\")\\nlen(target_set)\";\n",
       "                var nbb_cells = Jupyter.notebook.get_cells();\n",
       "                for (var i = 0; i < nbb_cells.length; ++i) {\n",
       "                    if (nbb_cells[i].input_prompt_number == nbb_cell_id) {\n",
       "                        if (nbb_cells[i].get_text() == nbb_unformatted_code) {\n",
       "                             nbb_cells[i].set_text(nbb_formatted_code);\n",
       "                        }\n",
       "                        break;\n",
       "                    }\n",
       "                }\n",
       "            }, 500);\n",
       "            "
      ],
      "text/plain": [
       "<IPython.core.display.Javascript object>"
      ]
     },
     "metadata": {},
     "output_type": "display_data"
    }
   ],
   "source": [
    "target_set = set(orf_data.loc[:, \"Image_Metadata_GeneSymbol\"])\n",
    "target_set.remove(\"EMPTY\")\n",
    "target_set.remove(\"eGFP\")\n",
    "target_set.remove(\"Luciferase\")\n",
    "target_set.remove(\"LacZ\")\n",
    "len(target_set)"
   ]
  },
  {
   "cell_type": "code",
   "execution_count": 26,
   "id": "9f4cb199",
   "metadata": {},
   "outputs": [
    {
     "data": {
      "application/javascript": [
       "\n",
       "            setTimeout(function() {\n",
       "                var nbb_cell_id = 26;\n",
       "                var nbb_unformatted_code = \"merfish_gene_set = set(list(merfish_adata.var.index))\\nfucci_gene_set = set(list(fucci_adata.var.gene_symbol))\";\n",
       "                var nbb_formatted_code = \"merfish_gene_set = set(list(merfish_adata.var.index))\\nfucci_gene_set = set(list(fucci_adata.var.gene_symbol))\";\n",
       "                var nbb_cells = Jupyter.notebook.get_cells();\n",
       "                for (var i = 0; i < nbb_cells.length; ++i) {\n",
       "                    if (nbb_cells[i].input_prompt_number == nbb_cell_id) {\n",
       "                        if (nbb_cells[i].get_text() == nbb_unformatted_code) {\n",
       "                             nbb_cells[i].set_text(nbb_formatted_code);\n",
       "                        }\n",
       "                        break;\n",
       "                    }\n",
       "                }\n",
       "            }, 500);\n",
       "            "
      ],
      "text/plain": [
       "<IPython.core.display.Javascript object>"
      ]
     },
     "metadata": {},
     "output_type": "display_data"
    }
   ],
   "source": [
    "merfish_gene_set = set(list(merfish_adata.var.index))\n",
    "fucci_gene_set = set(list(fucci_adata.var.gene_symbol))"
   ]
  },
  {
   "cell_type": "markdown",
   "id": "f7a6c527",
   "metadata": {},
   "source": [
    "There are 190 different gene targets. We will now first look at how many of those targets are in the two data sets."
   ]
  },
  {
   "cell_type": "code",
   "execution_count": 27,
   "id": "450b8085",
   "metadata": {},
   "outputs": [
    {
     "data": {
      "image/png": "[encoded data removed]",
      "text/plain": [
       "<Figure size 576x576 with 1 Axes>"
      ]
     },
     "metadata": {},
     "output_type": "display_data"
    },
    {
     "data": {
      "application/javascript": [
       "\n",
       "            setTimeout(function() {\n",
       "                var nbb_cell_id = 27;\n",
       "                var nbb_unformatted_code = \"plt.figure(figsize=[8, 8])\\nvenn3_unweighted(\\n    [\\n        target_set,\\n        merfish_gene_set,\\n        fucci_gene_set,\\n    ],\\n    [\\\"ORF targets\\\", \\\"MerFISH data\\\", \\\"FUCCI data\\\"],\\n)\\nplt.title(\\n    \\\"Venn diagram of the gene sets defined by the ORF targets and the two data sets\\\"\\n)\\nplt.show()\";\n",
       "                var nbb_formatted_code = \"plt.figure(figsize=[8, 8])\\nvenn3_unweighted(\\n    [\\n        target_set,\\n        merfish_gene_set,\\n        fucci_gene_set,\\n    ],\\n    [\\\"ORF targets\\\", \\\"MerFISH data\\\", \\\"FUCCI data\\\"],\\n)\\nplt.title(\\n    \\\"Venn diagram of the gene sets defined by the ORF targets and the two data sets\\\"\\n)\\nplt.show()\";\n",
       "                var nbb_cells = Jupyter.notebook.get_cells();\n",
       "                for (var i = 0; i < nbb_cells.length; ++i) {\n",
       "                    if (nbb_cells[i].input_prompt_number == nbb_cell_id) {\n",
       "                        if (nbb_cells[i].get_text() == nbb_unformatted_code) {\n",
       "                             nbb_cells[i].set_text(nbb_formatted_code);\n",
       "                        }\n",
       "                        break;\n",
       "                    }\n",
       "                }\n",
       "            }, 500);\n",
       "            "
      ],
      "text/plain": [
       "<IPython.core.display.Javascript object>"
      ]
     },
     "metadata": {},
     "output_type": "display_data"
    }
   ],
   "source": [
    "plt.figure(figsize=[8, 8])\n",
    "venn3_unweighted(\n",
    "    [\n",
    "        target_set,\n",
    "        merfish_gene_set,\n",
    "        fucci_gene_set,\n",
    "    ],\n",
    "    [\"ORF targets\", \"MerFISH data\", \"FUCCI data\"],\n",
    ")\n",
    "plt.title(\n",
    "    \"Venn diagram of the gene sets defined by the ORF targets and the two data sets\"\n",
    ")\n",
    "plt.show()"
   ]
  },
  {
   "cell_type": "markdown",
   "id": "0b4371eb",
   "metadata": {},
   "source": [
    "We see that in the FUCCI U2OS data set from Mahdessian et al. (2021) even after our filtering steps 187/190 of the ORF target genes are present, where as for the MerFISH data set only 120/190 ORF targets are measured. There is only a single ORF target that is present in the MerFISH data set but not in the FUCCI data set.\n",
    "The three genes that are not in the FUCCI data set are MEK1, MOS and PRKACG."
   ]
  },
  {
   "cell_type": "code",
   "execution_count": 28,
   "id": "799aeadc",
   "metadata": {},
   "outputs": [
    {
     "data": {
      "text/plain": [
       "{'MEK1', 'MOS', 'PRKACG'}"
      ]
     },
     "execution_count": 28,
     "metadata": {},
     "output_type": "execute_result"
    },
    {
     "data": {
      "application/javascript": [
       "\n",
       "            setTimeout(function() {\n",
       "                var nbb_cell_id = 28;\n",
       "                var nbb_unformatted_code = \"target_set - fucci_gene_set\";\n",
       "                var nbb_formatted_code = \"target_set - fucci_gene_set\";\n",
       "                var nbb_cells = Jupyter.notebook.get_cells();\n",
       "                for (var i = 0; i < nbb_cells.length; ++i) {\n",
       "                    if (nbb_cells[i].input_prompt_number == nbb_cell_id) {\n",
       "                        if (nbb_cells[i].get_text() == nbb_unformatted_code) {\n",
       "                             nbb_cells[i].set_text(nbb_formatted_code);\n",
       "                        }\n",
       "                        break;\n",
       "                    }\n",
       "                }\n",
       "            }, 500);\n",
       "            "
      ],
      "text/plain": [
       "<IPython.core.display.Javascript object>"
      ]
     },
     "metadata": {},
     "output_type": "display_data"
    }
   ],
   "source": [
    "target_set - fucci_gene_set"
   ]
  },
  {
   "cell_type": "code",
   "execution_count": 38,
   "id": "694e74de",
   "metadata": {},
   "outputs": [
    {
     "data": {
      "application/javascript": [
       "\n",
       "            setTimeout(function() {\n",
       "                var nbb_cell_id = 38;\n",
       "                var nbb_unformatted_code = \"fucci_adata.var[\\\"ensmbl_id\\\"] = list(copy.deepcopy(fucci_adata.var.index))\\nfucci_adata.var.index = list(fucci_adata.var.gene_symbol)\\nfucci_adata.var.index = [str.upper(str.strip(gene)) for gene in list(fucci_adata.var.index)]\";\n",
       "                var nbb_formatted_code = \"fucci_adata.var[\\\"ensmbl_id\\\"] = list(copy.deepcopy(fucci_adata.var.index))\\nfucci_adata.var.index = list(fucci_adata.var.gene_symbol)\\nfucci_adata.var.index = [\\n    str.upper(str.strip(gene)) for gene in list(fucci_adata.var.index)\\n]\";\n",
       "                var nbb_cells = Jupyter.notebook.get_cells();\n",
       "                for (var i = 0; i < nbb_cells.length; ++i) {\n",
       "                    if (nbb_cells[i].input_prompt_number == nbb_cell_id) {\n",
       "                        if (nbb_cells[i].get_text() == nbb_unformatted_code) {\n",
       "                             nbb_cells[i].set_text(nbb_formatted_code);\n",
       "                        }\n",
       "                        break;\n",
       "                    }\n",
       "                }\n",
       "            }, 500);\n",
       "            "
      ],
      "text/plain": [
       "<IPython.core.display.Javascript object>"
      ]
     },
     "metadata": {},
     "output_type": "display_data"
    }
   ],
   "source": [
    "fucci_adata.var[\"ensmbl_id\"] = list(copy.deepcopy(fucci_adata.var.index))\n",
    "fucci_adata.var.index = list(fucci_adata.var.gene_symbol)\n",
    "fucci_adata.var.index = [\n",
    "    str.upper(str.strip(gene)) for gene in list(fucci_adata.var.index)\n",
    "]"
   ]
  },
  {
   "cell_type": "code",
   "execution_count": 39,
   "id": "cf4a3478",
   "metadata": {},
   "outputs": [
    {
     "data": {
      "text/html": [
       "<div>\n",
       "<style scoped>\n",
       "    .dataframe tbody tr th:only-of-type {\n",
       "        vertical-align: middle;\n",
       "    }\n",
       "\n",
       "    .dataframe tbody tr th {\n",
       "        vertical-align: top;\n",
       "    }\n",
       "\n",
       "    .dataframe thead th {\n",
       "        text-align: right;\n",
       "    }\n",
       "</style>\n",
       "<table border=\"1\" class=\"dataframe\">\n",
       "  <thead>\n",
       "    <tr style=\"text-align: right;\">\n",
       "      <th></th>\n",
       "      <th>gene_symbol</th>\n",
       "      <th>n_cells_per_gene</th>\n",
       "      <th>n_cells</th>\n",
       "      <th>highly_variable</th>\n",
       "      <th>means</th>\n",
       "      <th>dispersions</th>\n",
       "      <th>dispersions_norm</th>\n",
       "      <th>ensmbl_id</th>\n",
       "    </tr>\n",
       "  </thead>\n",
       "  <tbody>\n",
       "    <tr>\n",
       "      <th>TSPAN6</th>\n",
       "      <td>TSPAN6</td>\n",
       "      <td>1133</td>\n",
       "      <td>1125</td>\n",
       "      <td>True</td>\n",
       "      <td>4.382218</td>\n",
       "      <td>3.006060</td>\n",
       "      <td>0.029404</td>\n",
       "      <td>TSPAN6</td>\n",
       "    </tr>\n",
       "    <tr>\n",
       "      <th>DPM1</th>\n",
       "      <td>DPM1</td>\n",
       "      <td>1135</td>\n",
       "      <td>1125</td>\n",
       "      <td>True</td>\n",
       "      <td>4.193527</td>\n",
       "      <td>2.342898</td>\n",
       "      <td>-1.553842</td>\n",
       "      <td>DPM1</td>\n",
       "    </tr>\n",
       "    <tr>\n",
       "      <th>SCYL3</th>\n",
       "      <td>SCYL3</td>\n",
       "      <td>554</td>\n",
       "      <td>554</td>\n",
       "      <td>True</td>\n",
       "      <td>1.867044</td>\n",
       "      <td>2.760401</td>\n",
       "      <td>0.285047</td>\n",
       "      <td>SCYL3</td>\n",
       "    </tr>\n",
       "    <tr>\n",
       "      <th>C1ORF112</th>\n",
       "      <td>C1orf112</td>\n",
       "      <td>1003</td>\n",
       "      <td>1001</td>\n",
       "      <td>True</td>\n",
       "      <td>3.713721</td>\n",
       "      <td>3.198679</td>\n",
       "      <td>0.854284</td>\n",
       "      <td>C1orf112</td>\n",
       "    </tr>\n",
       "    <tr>\n",
       "      <th>CFH</th>\n",
       "      <td>CFH</td>\n",
       "      <td>77</td>\n",
       "      <td>76</td>\n",
       "      <td>True</td>\n",
       "      <td>0.548075</td>\n",
       "      <td>2.909802</td>\n",
       "      <td>1.825815</td>\n",
       "      <td>CFH</td>\n",
       "    </tr>\n",
       "    <tr>\n",
       "      <th>...</th>\n",
       "      <td>...</td>\n",
       "      <td>...</td>\n",
       "      <td>...</td>\n",
       "      <td>...</td>\n",
       "      <td>...</td>\n",
       "      <td>...</td>\n",
       "      <td>...</td>\n",
       "      <td>...</td>\n",
       "    </tr>\n",
       "    <tr>\n",
       "      <th>LOC728392</th>\n",
       "      <td>LOC728392</td>\n",
       "      <td>253</td>\n",
       "      <td>253</td>\n",
       "      <td>True</td>\n",
       "      <td>0.763107</td>\n",
       "      <td>2.014953</td>\n",
       "      <td>-0.526220</td>\n",
       "      <td>LOC728392</td>\n",
       "    </tr>\n",
       "    <tr>\n",
       "      <th>NOTCH2NLC</th>\n",
       "      <td>NOTCH2NLC</td>\n",
       "      <td>921</td>\n",
       "      <td>917</td>\n",
       "      <td>True</td>\n",
       "      <td>2.971488</td>\n",
       "      <td>2.892829</td>\n",
       "      <td>0.351673</td>\n",
       "      <td>NOTCH2NLC</td>\n",
       "    </tr>\n",
       "    <tr>\n",
       "      <th>SPDYE11</th>\n",
       "      <td>SPDYE11</td>\n",
       "      <td>701</td>\n",
       "      <td>699</td>\n",
       "      <td>True</td>\n",
       "      <td>0.961447</td>\n",
       "      <td>0.911072</td>\n",
       "      <td>-2.171877</td>\n",
       "      <td>SPDYE11</td>\n",
       "    </tr>\n",
       "    <tr>\n",
       "      <th>ARMCX5-GPRASP2</th>\n",
       "      <td>ARMCX5-GPRASP2</td>\n",
       "      <td>129</td>\n",
       "      <td>129</td>\n",
       "      <td>True</td>\n",
       "      <td>0.801016</td>\n",
       "      <td>2.667029</td>\n",
       "      <td>0.445889</td>\n",
       "      <td>ARMCX5-GPRASP2</td>\n",
       "    </tr>\n",
       "    <tr>\n",
       "      <th>LOC114841035</th>\n",
       "      <td>LOC114841035</td>\n",
       "      <td>69</td>\n",
       "      <td>69</td>\n",
       "      <td>True</td>\n",
       "      <td>0.380425</td>\n",
       "      <td>2.187541</td>\n",
       "      <td>0.830213</td>\n",
       "      <td>LOC114841035</td>\n",
       "    </tr>\n",
       "  </tbody>\n",
       "</table>\n",
       "<p>21722 rows × 8 columns</p>\n",
       "</div>"
      ],
      "text/plain": [
       "                   gene_symbol  n_cells_per_gene  n_cells  highly_variable  \\\n",
       "TSPAN6                  TSPAN6              1133     1125             True   \n",
       "DPM1                      DPM1              1135     1125             True   \n",
       "SCYL3                    SCYL3               554      554             True   \n",
       "C1ORF112              C1orf112              1003     1001             True   \n",
       "CFH                        CFH                77       76             True   \n",
       "...                        ...               ...      ...              ...   \n",
       "LOC728392            LOC728392               253      253             True   \n",
       "NOTCH2NLC            NOTCH2NLC               921      917             True   \n",
       "SPDYE11                SPDYE11               701      699             True   \n",
       "ARMCX5-GPRASP2  ARMCX5-GPRASP2               129      129             True   \n",
       "LOC114841035      LOC114841035                69       69             True   \n",
       "\n",
       "                   means  dispersions  dispersions_norm       ensmbl_id  \n",
       "TSPAN6          4.382218     3.006060          0.029404          TSPAN6  \n",
       "DPM1            4.193527     2.342898         -1.553842            DPM1  \n",
       "SCYL3           1.867044     2.760401          0.285047           SCYL3  \n",
       "C1ORF112        3.713721     3.198679          0.854284        C1orf112  \n",
       "CFH             0.548075     2.909802          1.825815             CFH  \n",
       "...                  ...          ...               ...             ...  \n",
       "LOC728392       0.763107     2.014953         -0.526220       LOC728392  \n",
       "NOTCH2NLC       2.971488     2.892829          0.351673       NOTCH2NLC  \n",
       "SPDYE11         0.961447     0.911072         -2.171877         SPDYE11  \n",
       "ARMCX5-GPRASP2  0.801016     2.667029          0.445889  ARMCX5-GPRASP2  \n",
       "LOC114841035    0.380425     2.187541          0.830213    LOC114841035  \n",
       "\n",
       "[21722 rows x 8 columns]"
      ]
     },
     "execution_count": 39,
     "metadata": {},
     "output_type": "execute_result"
    },
    {
     "data": {
      "application/javascript": [
       "\n",
       "            setTimeout(function() {\n",
       "                var nbb_cell_id = 39;\n",
       "                var nbb_unformatted_code = \"fucci_adata.var\";\n",
       "                var nbb_formatted_code = \"fucci_adata.var\";\n",
       "                var nbb_cells = Jupyter.notebook.get_cells();\n",
       "                for (var i = 0; i < nbb_cells.length; ++i) {\n",
       "                    if (nbb_cells[i].input_prompt_number == nbb_cell_id) {\n",
       "                        if (nbb_cells[i].get_text() == nbb_unformatted_code) {\n",
       "                             nbb_cells[i].set_text(nbb_formatted_code);\n",
       "                        }\n",
       "                        break;\n",
       "                    }\n",
       "                }\n",
       "            }, 500);\n",
       "            "
      ],
      "text/plain": [
       "<IPython.core.display.Javascript object>"
      ]
     },
     "metadata": {},
     "output_type": "display_data"
    }
   ],
   "source": [
    "fucci_adata.var"
   ]
  },
  {
   "cell_type": "markdown",
   "id": "a3de26d0",
   "metadata": {},
   "source": [
    "### 3c. Variability of the ORF targets\n",
    "\n",
    "Next, we will check how variable the ORF target genes are in the two data sets as we would favor a data set, where those ORF targets show high variability. To this end, we will plot the size of the intersection of the most variable genes in each of the two data sets and the targets for an increasing size of the set of the most variable genes."
   ]
  },
  {
   "cell_type": "code",
   "execution_count": 40,
   "id": "4d072100",
   "metadata": {},
   "outputs": [
    {
     "data": {
      "image/png": "[encoded data removed]",
      "text/plain": [
       "<Figure size 432x288 with 1 Axes>"
      ]
     },
     "metadata": {
      "needs_background": "light"
     },
     "output_type": "display_data"
    },
    {
     "data": {
      "application/javascript": [
       "\n",
       "            setTimeout(function() {\n",
       "                var nbb_cell_id = 40;\n",
       "                var nbb_unformatted_code = \"plot_target_intersection_size(merfish_adata, target_set, title=\\\"MerFISH data set\\\")\";\n",
       "                var nbb_formatted_code = \"plot_target_intersection_size(merfish_adata, target_set, title=\\\"MerFISH data set\\\")\";\n",
       "                var nbb_cells = Jupyter.notebook.get_cells();\n",
       "                for (var i = 0; i < nbb_cells.length; ++i) {\n",
       "                    if (nbb_cells[i].input_prompt_number == nbb_cell_id) {\n",
       "                        if (nbb_cells[i].get_text() == nbb_unformatted_code) {\n",
       "                             nbb_cells[i].set_text(nbb_formatted_code);\n",
       "                        }\n",
       "                        break;\n",
       "                    }\n",
       "                }\n",
       "            }, 500);\n",
       "            "
      ],
      "text/plain": [
       "<IPython.core.display.Javascript object>"
      ]
     },
     "metadata": {},
     "output_type": "display_data"
    }
   ],
   "source": [
    "plot_target_intersection_size(merfish_adata, target_set, title=\"MerFISH data set\")"
   ]
  },
  {
   "cell_type": "code",
   "execution_count": 41,
   "id": "15ee140b",
   "metadata": {},
   "outputs": [
    {
     "data": {
      "image/png": "[encoded data removed]",
      "text/plain": [
       "<Figure size 432x288 with 1 Axes>"
      ]
     },
     "metadata": {
      "needs_background": "light"
     },
     "output_type": "display_data"
    },
    {
     "data": {
      "application/javascript": [
       "\n",
       "            setTimeout(function() {\n",
       "                var nbb_cell_id = 41;\n",
       "                var nbb_unformatted_code = \"plot_target_intersection_size(fucci_adata, target_set, title=\\\"FUCCI data set\\\")\";\n",
       "                var nbb_formatted_code = \"plot_target_intersection_size(fucci_adata, target_set, title=\\\"FUCCI data set\\\")\";\n",
       "                var nbb_cells = Jupyter.notebook.get_cells();\n",
       "                for (var i = 0; i < nbb_cells.length; ++i) {\n",
       "                    if (nbb_cells[i].input_prompt_number == nbb_cell_id) {\n",
       "                        if (nbb_cells[i].get_text() == nbb_unformatted_code) {\n",
       "                             nbb_cells[i].set_text(nbb_formatted_code);\n",
       "                        }\n",
       "                        break;\n",
       "                    }\n",
       "                }\n",
       "            }, 500);\n",
       "            "
      ],
      "text/plain": [
       "<IPython.core.display.Javascript object>"
      ]
     },
     "metadata": {},
     "output_type": "display_data"
    }
   ],
   "source": [
    "plot_target_intersection_size(fucci_adata, target_set, title=\"FUCCI data set\")"
   ]
  },
  {
   "cell_type": "markdown",
   "id": "75e09c82",
   "metadata": {},
   "source": [
    "We see that the target genes show higher variability in the MerFISH data as the rate of increase of the size of the intersection set is greater. However, as mentioned previously the FUCCI data set covers more of the target genes than the MerFISH one 188/190 vs 125/190. Nonetheless, it is somewhat surprising that the many of the target genes seem to be not variable in both datasets.\n",
    "\n",
    "\n",
    "### 3d. Comparison of the variable gene sets\n",
    "\n",
    "To further check the agreement of the two data sets we will now plot the intersection of the sets of the most variable genes for the two data sets for an increasing size of the respective most-variable gene sets."
   ]
  },
  {
   "cell_type": "code",
   "execution_count": 42,
   "id": "d8f5d932",
   "metadata": {},
   "outputs": [
    {
     "data": {
      "image/png": "[encoded data removed]",
      "text/plain": [
       "<Figure size 432x288 with 1 Axes>"
      ]
     },
     "metadata": {
      "needs_background": "light"
     },
     "output_type": "display_data"
    },
    {
     "data": {
      "application/javascript": [
       "\n",
       "            setTimeout(function() {\n",
       "                var nbb_cell_id = 42;\n",
       "                var nbb_unformatted_code = \"plot_mvgs_intersection_size(\\n    merfish_adata, fucci_adata, title=\\\"MVG of MerFISH and FUCCI data set\\\"\\n)\";\n",
       "                var nbb_formatted_code = \"plot_mvgs_intersection_size(\\n    merfish_adata, fucci_adata, title=\\\"MVG of MerFISH and FUCCI data set\\\"\\n)\";\n",
       "                var nbb_cells = Jupyter.notebook.get_cells();\n",
       "                for (var i = 0; i < nbb_cells.length; ++i) {\n",
       "                    if (nbb_cells[i].input_prompt_number == nbb_cell_id) {\n",
       "                        if (nbb_cells[i].get_text() == nbb_unformatted_code) {\n",
       "                             nbb_cells[i].set_text(nbb_formatted_code);\n",
       "                        }\n",
       "                        break;\n",
       "                    }\n",
       "                }\n",
       "            }, 500);\n",
       "            "
      ],
      "text/plain": [
       "<IPython.core.display.Javascript object>"
      ]
     },
     "metadata": {},
     "output_type": "display_data"
    }
   ],
   "source": [
    "plot_mvgs_intersection_size(\n",
    "    merfish_adata, fucci_adata, title=\"MVG of MerFISH and FUCCI data set\"\n",
    ")"
   ]
  },
  {
   "cell_type": "markdown",
   "id": "3f21b3dd",
   "metadata": {},
   "source": [
    "We see that there intersection size seems to be roughly 1/3 of the size of the MVG for this size being smaller than 2'000. This can be explained by the different sample preparation and GEX measuring techniques."
   ]
  },
  {
   "cell_type": "markdown",
   "id": "bc764650",
   "metadata": {},
   "source": [
    "---\n",
    "\n",
    "## 4. Summary\n",
    "\n",
    "The previous results can be summarized as follows:\n",
    "1. The FUCCI data set due its better coverage of gene captures more of the ORF targets 188/190 than the MerFISH data set.\n",
    "2. The ORF targets do not coincide with the most variable genes for both data sets as for instance to have 50% of the ORF targets (95) included in the most variable gene set of size k, k must be chosen to be roughly 10'000 for both data sets.\n",
    "3. The two gene expression data sets show an overlap of their most variable genes that increase approx. linearly with a rate of 1/3 for k < 2000.\n",
    "\n",
    "Thus, if one has to choose potentially the FUCCI data set is more suited simply due to its higher coverage of the ORF targets. The fact, that the ORF targets show only limited variability in both data set can be explained by the fact that those were selected based on a study by Kim et al. (2016) looking at over 5'000 different tumors to identify alleles of genes that are mutated in 27 different cancers. The 220 ORF constructs targeting the 190 different genes are those among the 384 mutated alleles that were found for which an ORF construct existed in the hORF library. As a consequence, those genes while important in cancer in general are a) not guaranteed to be important in osteosarcoma cells and b) might not show large heterogeneity in a cell population of cancer cells."
   ]
  },
  {
   "cell_type": "markdown",
   "id": "6dc2fa78",
   "metadata": {},
   "source": [
    "Finally, we save the two analyzed data sets and the gene target list to disk."
   ]
  },
  {
   "cell_type": "code",
   "execution_count": 35,
   "id": "f4c4b540",
   "metadata": {},
   "outputs": [
    {
     "name": "stderr",
     "output_type": "stream",
     "text": [
      "... storing 'gene_symbol' as categorical\n"
     ]
    },
    {
     "data": {
      "application/javascript": [
       "\n",
       "            setTimeout(function() {\n",
       "                var nbb_cell_id = 35;\n",
       "                var nbb_unformatted_code = \"fucci_adata_fname = \\\"../../data/gex/fucci_adata.h5\\\"\\nfucci_adata.write(fucci_adata_fname)\";\n",
       "                var nbb_formatted_code = \"fucci_adata_fname = \\\"../../data/gex/fucci_adata.h5\\\"\\nfucci_adata.write(fucci_adata_fname)\";\n",
       "                var nbb_cells = Jupyter.notebook.get_cells();\n",
       "                for (var i = 0; i < nbb_cells.length; ++i) {\n",
       "                    if (nbb_cells[i].input_prompt_number == nbb_cell_id) {\n",
       "                        if (nbb_cells[i].get_text() == nbb_unformatted_code) {\n",
       "                             nbb_cells[i].set_text(nbb_formatted_code);\n",
       "                        }\n",
       "                        break;\n",
       "                    }\n",
       "                }\n",
       "            }, 500);\n",
       "            "
      ],
      "text/plain": [
       "<IPython.core.display.Javascript object>"
      ]
     },
     "metadata": {},
     "output_type": "display_data"
    }
   ],
   "source": [
    "fucci_adata_fname = \"../../data/gex/fucci_adata.h5\"\n",
    "fucci_adata.write(fucci_adata_fname)"
   ]
  },
  {
   "cell_type": "code",
   "execution_count": 36,
   "id": "80dd6758",
   "metadata": {},
   "outputs": [
    {
     "data": {
      "application/javascript": [
       "\n",
       "            setTimeout(function() {\n",
       "                var nbb_cell_id = 36;\n",
       "                var nbb_unformatted_code = \"merfish_adata_fname = \\\"../../data/gex/merfish_adata.h5\\\"\\nmerfish_adata.write(merfish_adata_fname)\";\n",
       "                var nbb_formatted_code = \"merfish_adata_fname = \\\"../../data/gex/merfish_adata.h5\\\"\\nmerfish_adata.write(merfish_adata_fname)\";\n",
       "                var nbb_cells = Jupyter.notebook.get_cells();\n",
       "                for (var i = 0; i < nbb_cells.length; ++i) {\n",
       "                    if (nbb_cells[i].input_prompt_number == nbb_cell_id) {\n",
       "                        if (nbb_cells[i].get_text() == nbb_unformatted_code) {\n",
       "                             nbb_cells[i].set_text(nbb_formatted_code);\n",
       "                        }\n",
       "                        break;\n",
       "                    }\n",
       "                }\n",
       "            }, 500);\n",
       "            "
      ],
      "text/plain": [
       "<IPython.core.display.Javascript object>"
      ]
     },
     "metadata": {},
     "output_type": "display_data"
    }
   ],
   "source": [
    "merfish_adata_fname = \"../../data/gex/merfish_adata.h5\"\n",
    "merfish_adata.write(merfish_adata_fname)"
   ]
  },
  {
   "cell_type": "code",
   "execution_count": 37,
   "id": "cc2a37a8",
   "metadata": {},
   "outputs": [
    {
     "data": {
      "application/javascript": [
       "\n",
       "            setTimeout(function() {\n",
       "                var nbb_cell_id = 37;\n",
       "                var nbb_unformatted_code = \"gene_targets = pd.DataFrame(list(target_set), columns=[\\\"gene\\\"])\\ngene_targets.to_csv(\\\"../../data/gex/gene_target_list.txt\\\", index=False, header=False)\";\n",
       "                var nbb_formatted_code = \"gene_targets = pd.DataFrame(list(target_set), columns=[\\\"gene\\\"])\\ngene_targets.to_csv(\\\"../../data/gex/gene_target_list.txt\\\", index=False, header=False)\";\n",
       "                var nbb_cells = Jupyter.notebook.get_cells();\n",
       "                for (var i = 0; i < nbb_cells.length; ++i) {\n",
       "                    if (nbb_cells[i].input_prompt_number == nbb_cell_id) {\n",
       "                        if (nbb_cells[i].get_text() == nbb_unformatted_code) {\n",
       "                             nbb_cells[i].set_text(nbb_formatted_code);\n",
       "                        }\n",
       "                        break;\n",
       "                    }\n",
       "                }\n",
       "            }, 500);\n",
       "            "
      ],
      "text/plain": [
       "<IPython.core.display.Javascript object>"
      ]
     },
     "metadata": {},
     "output_type": "display_data"
    }
   ],
   "source": [
    "gene_targets = pd.DataFrame(list(target_set), columns=[\"gene\"])\n",
    "gene_targets.to_csv(\"../../data/gex/gene_target_list.txt\", index=False, header=False)"
   ]
  },
  {
   "cell_type": "code",
   "execution_count": null,
   "id": "5889ccf1",
   "metadata": {},
   "outputs": [],
   "source": []
  }
 ],
 "metadata": {
  "kernelspec": {
   "display_name": "Python 3",
   "language": "python",
   "name": "python3"
  },
  "language_info": {
   "codemirror_mode": {
    "name": "ipython",
    "version": 3
   },
   "file_extension": ".py",
   "mimetype": "text/x-python",
   "name": "python",
   "nbconvert_exporter": "python",
   "pygments_lexer": "ipython3",
   "version": "3.8.10"
  }
 },
 "nbformat": 4,
 "nbformat_minor": 5
}
