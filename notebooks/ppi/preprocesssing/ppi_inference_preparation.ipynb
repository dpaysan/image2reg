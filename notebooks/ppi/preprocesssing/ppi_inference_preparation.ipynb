{
 "cells": [
  {
   "cell_type": "markdown",
   "id": "db92a0f9",
   "metadata": {},
   "source": [
    "# Prepraring the interactome inference\n",
    "\n",
    "---\n",
    "\n",
    "This notebook will be used to set the stage for the inference of the cell type specific interactome. To this end, we will be analyzing data from a scRNA-seq study, bulk sequencing data from the CCLE data set, curated gene sets e.g. from the Reactome data base and protein-protein interaction data curated in the iRefIndex data base. Additionally, we will use information regarding the specificity of the genes targeted in the overexpression study by Rohban et al. (2017). Such information are derived from preceeding analyses working on the imaging data. We will explain the used data sets further at a later stage.\n",
    "\n",
    "---"
   ]
  },
  {
   "cell_type": "markdown",
   "id": "b5448180",
   "metadata": {},
   "source": [
    "## 0. Environmental setup"
   ]
  },
  {
   "cell_type": "code",
   "execution_count": 3,
   "id": "53e897b9",
   "metadata": {},
   "outputs": [
    {
     "name": "stdout",
     "output_type": "stream",
     "text": [
      "The nb_black extension is already loaded. To reload it, use:\n",
      "  %reload_ext nb_black\n"
     ]
    },
    {
     "data": {
      "application/javascript": [
       "\n",
       "            setTimeout(function() {\n",
       "                var nbb_cell_id = 3;\n",
       "                var nbb_unformatted_code = \"import pandas as pd\\nimport scanpy as sc\\nimport numpy as np\\nimport matplotlib.pyplot as plt\\nimport seaborn as sns\\nfrom matplotlib_venn import venn3, venn3_unweighted\\nimport venn\\nimport networkx as nx\\nfrom sklearn.mixture import GaussianMixture\\nfrom scipy.stats import ttest_1samp, pearsonr, spearmanr\\nfrom statsmodels.stats.multitest import fdrcorrection\\nfrom tqdm import tqdm\\nfrom collections import Counter\\nfrom sklearn.metrics import mutual_info_score\\nimport matplotlib.cm as cm\\n\\nimport sys\\n\\nsys.path.append(\\\"../../..\\\")\\n\\nfrom src.utils.notebooks.ppi.preprocessing import *\\n\\nseed = 1234\\n\\n%load_ext nb_black\";\n",
       "                var nbb_formatted_code = \"import pandas as pd\\nimport scanpy as sc\\nimport numpy as np\\nimport matplotlib.pyplot as plt\\nimport seaborn as sns\\nfrom matplotlib_venn import venn3, venn3_unweighted\\nimport venn\\nimport networkx as nx\\nfrom sklearn.mixture import GaussianMixture\\nfrom scipy.stats import ttest_1samp, pearsonr, spearmanr\\nfrom statsmodels.stats.multitest import fdrcorrection\\nfrom tqdm import tqdm\\nfrom collections import Counter\\nfrom sklearn.metrics import mutual_info_score\\nimport matplotlib.cm as cm\\n\\nimport sys\\n\\nsys.path.append(\\\"../../..\\\")\\n\\nfrom src.utils.notebooks.ppi.preprocessing import *\\n\\nseed = 1234\\n\\n%load_ext nb_black\";\n",
       "                var nbb_cells = Jupyter.notebook.get_cells();\n",
       "                for (var i = 0; i < nbb_cells.length; ++i) {\n",
       "                    if (nbb_cells[i].input_prompt_number == nbb_cell_id) {\n",
       "                        if (nbb_cells[i].get_text() == nbb_unformatted_code) {\n",
       "                             nbb_cells[i].set_text(nbb_formatted_code);\n",
       "                        }\n",
       "                        break;\n",
       "                    }\n",
       "                }\n",
       "            }, 500);\n",
       "            "
      ],
      "text/plain": [
       "<IPython.core.display.Javascript object>"
      ]
     },
     "metadata": {},
     "output_type": "display_data"
    }
   ],
   "source": [
    "import pandas as pd\n",
    "import scanpy as sc\n",
    "import numpy as np\n",
    "import matplotlib.pyplot as plt\n",
    "import seaborn as sns\n",
    "from matplotlib_venn import venn3, venn3_unweighted\n",
    "import venn\n",
    "import networkx as nx\n",
    "from sklearn.mixture import GaussianMixture\n",
    "from scipy.stats import ttest_1samp, pearsonr, spearmanr\n",
    "from statsmodels.stats.multitest import fdrcorrection\n",
    "from tqdm import tqdm\n",
    "from collections import Counter\n",
    "from sklearn.metrics import mutual_info_score\n",
    "import matplotlib.cm as cm\n",
    "\n",
    "import sys\n",
    "\n",
    "sys.path.append(\"../../..\")\n",
    "\n",
    "from src.utils.notebooks.ppi.preprocessing import *\n",
    "\n",
    "seed = 1234\n",
    "\n",
    "%load_ext nb_black"
   ]
  },
  {
   "cell_type": "markdown",
   "id": "b3bf4c3a",
   "metadata": {},
   "source": [
    "---\n",
    "\n",
    "## 1. Read in data"
   ]
  },
  {
   "cell_type": "markdown",
   "id": "171322b3",
   "metadata": {},
   "source": [
    "We will read in a number of different data sets that we will use for our analyses: a) the single-cell gene expression data from Mahdessian et al. (2021), b) the most recent version of the CCLE expression data set, c) the list of ORF gene targets from the study by Rohban et al. (2017) and finally d) the Human PPI network as defined by the iRefIndexDB v14, e) a number of curated gene sets and f) the results of our image-based preceeding specificity screen.\n",
    "\n",
    "The gene sets we read in are those describing the Reactome pathways related to the DNA damage repair, cell cycle, chromating organization as well as the list of human transcription factors and the set corresponding to the KEGG regulation of actin cytoskeleton pathway."
   ]
  },
  {
   "cell_type": "code",
   "execution_count": 4,
   "id": "7dda020d",
   "metadata": {},
   "outputs": [
    {
     "data": {
      "text/html": [
       "<div>\n",
       "<style scoped>\n",
       "    .dataframe tbody tr th:only-of-type {\n",
       "        vertical-align: middle;\n",
       "    }\n",
       "\n",
       "    .dataframe tbody tr th {\n",
       "        vertical-align: top;\n",
       "    }\n",
       "\n",
       "    .dataframe thead th {\n",
       "        text-align: right;\n",
       "    }\n",
       "</style>\n",
       "<table border=\"1\" class=\"dataframe\">\n",
       "  <thead>\n",
       "    <tr style=\"text-align: right;\">\n",
       "      <th></th>\n",
       "      <th>TSPAN6</th>\n",
       "      <th>DPM1</th>\n",
       "      <th>SCYL3</th>\n",
       "      <th>C1ORF112</th>\n",
       "      <th>CFH</th>\n",
       "      <th>FUCA2</th>\n",
       "      <th>GCLC</th>\n",
       "      <th>NFYA</th>\n",
       "      <th>STPG1</th>\n",
       "      <th>NIPAL3</th>\n",
       "      <th>...</th>\n",
       "      <th>NOTCH2NLR</th>\n",
       "      <th>SPDYE14</th>\n",
       "      <th>DERPC</th>\n",
       "      <th>BMS1P23</th>\n",
       "      <th>LOC107986257</th>\n",
       "      <th>LOC728392</th>\n",
       "      <th>NOTCH2NLC</th>\n",
       "      <th>SPDYE11</th>\n",
       "      <th>ARMCX5-GPRASP2</th>\n",
       "      <th>LOC114841035</th>\n",
       "    </tr>\n",
       "  </thead>\n",
       "  <tbody>\n",
       "    <tr>\n",
       "      <th>A10_355</th>\n",
       "      <td>4.084212</td>\n",
       "      <td>4.450537</td>\n",
       "      <td>2.539949</td>\n",
       "      <td>3.306074</td>\n",
       "      <td>0.0</td>\n",
       "      <td>3.924660</td>\n",
       "      <td>2.747193</td>\n",
       "      <td>3.980721</td>\n",
       "      <td>3.192863</td>\n",
       "      <td>3.306074</td>\n",
       "      <td>...</td>\n",
       "      <td>0.000000</td>\n",
       "      <td>0.0</td>\n",
       "      <td>0.000000</td>\n",
       "      <td>0.000000</td>\n",
       "      <td>0.000000</td>\n",
       "      <td>0.0</td>\n",
       "      <td>3.111745</td>\n",
       "      <td>0.000000</td>\n",
       "      <td>0.0</td>\n",
       "      <td>0.0</td>\n",
       "    </tr>\n",
       "    <tr>\n",
       "      <th>A10_356</th>\n",
       "      <td>4.416176</td>\n",
       "      <td>3.408068</td>\n",
       "      <td>0.000000</td>\n",
       "      <td>3.341437</td>\n",
       "      <td>0.0</td>\n",
       "      <td>3.109879</td>\n",
       "      <td>3.637463</td>\n",
       "      <td>2.683064</td>\n",
       "      <td>2.919073</td>\n",
       "      <td>4.264037</td>\n",
       "      <td>...</td>\n",
       "      <td>0.000000</td>\n",
       "      <td>0.0</td>\n",
       "      <td>2.540241</td>\n",
       "      <td>2.038441</td>\n",
       "      <td>1.584074</td>\n",
       "      <td>0.0</td>\n",
       "      <td>0.328890</td>\n",
       "      <td>1.336015</td>\n",
       "      <td>0.0</td>\n",
       "      <td>0.0</td>\n",
       "    </tr>\n",
       "    <tr>\n",
       "      <th>A10_357</th>\n",
       "      <td>2.784883</td>\n",
       "      <td>4.266762</td>\n",
       "      <td>0.000000</td>\n",
       "      <td>3.756405</td>\n",
       "      <td>0.0</td>\n",
       "      <td>4.676425</td>\n",
       "      <td>4.027002</td>\n",
       "      <td>4.154050</td>\n",
       "      <td>3.560914</td>\n",
       "      <td>4.211993</td>\n",
       "      <td>...</td>\n",
       "      <td>3.527433</td>\n",
       "      <td>0.0</td>\n",
       "      <td>3.144496</td>\n",
       "      <td>0.000000</td>\n",
       "      <td>0.000000</td>\n",
       "      <td>0.0</td>\n",
       "      <td>3.733050</td>\n",
       "      <td>0.000000</td>\n",
       "      <td>0.0</td>\n",
       "      <td>0.0</td>\n",
       "    </tr>\n",
       "    <tr>\n",
       "      <th>A11_355</th>\n",
       "      <td>3.995154</td>\n",
       "      <td>4.196535</td>\n",
       "      <td>1.325398</td>\n",
       "      <td>3.543870</td>\n",
       "      <td>0.0</td>\n",
       "      <td>3.015254</td>\n",
       "      <td>3.015254</td>\n",
       "      <td>4.159373</td>\n",
       "      <td>0.000000</td>\n",
       "      <td>3.481722</td>\n",
       "      <td>...</td>\n",
       "      <td>0.000000</td>\n",
       "      <td>0.0</td>\n",
       "      <td>3.219861</td>\n",
       "      <td>1.930217</td>\n",
       "      <td>0.000000</td>\n",
       "      <td>0.0</td>\n",
       "      <td>2.597980</td>\n",
       "      <td>1.435097</td>\n",
       "      <td>0.0</td>\n",
       "      <td>0.0</td>\n",
       "    </tr>\n",
       "    <tr>\n",
       "      <th>A11_356</th>\n",
       "      <td>5.384314</td>\n",
       "      <td>3.358004</td>\n",
       "      <td>2.851447</td>\n",
       "      <td>2.519226</td>\n",
       "      <td>0.0</td>\n",
       "      <td>4.309559</td>\n",
       "      <td>3.807653</td>\n",
       "      <td>3.807653</td>\n",
       "      <td>3.843228</td>\n",
       "      <td>3.843228</td>\n",
       "      <td>...</td>\n",
       "      <td>0.000000</td>\n",
       "      <td>0.0</td>\n",
       "      <td>3.926349</td>\n",
       "      <td>0.000000</td>\n",
       "      <td>0.000000</td>\n",
       "      <td>0.0</td>\n",
       "      <td>0.000000</td>\n",
       "      <td>1.948682</td>\n",
       "      <td>0.0</td>\n",
       "      <td>0.0</td>\n",
       "    </tr>\n",
       "  </tbody>\n",
       "</table>\n",
       "<p>5 rows × 21445 columns</p>\n",
       "</div>"
      ],
      "text/plain": [
       "           TSPAN6      DPM1     SCYL3  C1ORF112  CFH     FUCA2      GCLC  \\\n",
       "A10_355  4.084212  4.450537  2.539949  3.306074  0.0  3.924660  2.747193   \n",
       "A10_356  4.416176  3.408068  0.000000  3.341437  0.0  3.109879  3.637463   \n",
       "A10_357  2.784883  4.266762  0.000000  3.756405  0.0  4.676425  4.027002   \n",
       "A11_355  3.995154  4.196535  1.325398  3.543870  0.0  3.015254  3.015254   \n",
       "A11_356  5.384314  3.358004  2.851447  2.519226  0.0  4.309559  3.807653   \n",
       "\n",
       "             NFYA     STPG1    NIPAL3  ...  NOTCH2NLR  SPDYE14     DERPC  \\\n",
       "A10_355  3.980721  3.192863  3.306074  ...   0.000000      0.0  0.000000   \n",
       "A10_356  2.683064  2.919073  4.264037  ...   0.000000      0.0  2.540241   \n",
       "A10_357  4.154050  3.560914  4.211993  ...   3.527433      0.0  3.144496   \n",
       "A11_355  4.159373  0.000000  3.481722  ...   0.000000      0.0  3.219861   \n",
       "A11_356  3.807653  3.843228  3.843228  ...   0.000000      0.0  3.926349   \n",
       "\n",
       "          BMS1P23  LOC107986257  LOC728392  NOTCH2NLC   SPDYE11  \\\n",
       "A10_355  0.000000      0.000000        0.0   3.111745  0.000000   \n",
       "A10_356  2.038441      1.584074        0.0   0.328890  1.336015   \n",
       "A10_357  0.000000      0.000000        0.0   3.733050  0.000000   \n",
       "A11_355  1.930217      0.000000        0.0   2.597980  1.435097   \n",
       "A11_356  0.000000      0.000000        0.0   0.000000  1.948682   \n",
       "\n",
       "         ARMCX5-GPRASP2  LOC114841035  \n",
       "A10_355             0.0           0.0  \n",
       "A10_356             0.0           0.0  \n",
       "A10_357             0.0           0.0  \n",
       "A11_355             0.0           0.0  \n",
       "A11_356             0.0           0.0  \n",
       "\n",
       "[5 rows x 21445 columns]"
      ]
     },
     "execution_count": 4,
     "metadata": {},
     "output_type": "execute_result"
    },
    {
     "data": {
      "application/javascript": [
       "\n",
       "            setTimeout(function() {\n",
       "                var nbb_cell_id = 4;\n",
       "                var nbb_unformatted_code = \"fucci_adata = sc.read(\\\"../../../data/gex/scrnaseq/fucci_adata.h5\\\")\\nfucci_adata.var_names_make_unique()\\nfucci_data = pd.DataFrame(\\n    fucci_adata.X, columns=fucci_adata.var_names, index=fucci_adata.obs_names\\n)\\nfucci_data.columns = [c.upper() for c in fucci_data.columns]\\nfucci_data.head()\";\n",
       "                var nbb_formatted_code = \"fucci_adata = sc.read(\\\"../../../data/gex/scrnaseq/fucci_adata.h5\\\")\\nfucci_adata.var_names_make_unique()\\nfucci_data = pd.DataFrame(\\n    fucci_adata.X, columns=fucci_adata.var_names, index=fucci_adata.obs_names\\n)\\nfucci_data.columns = [c.upper() for c in fucci_data.columns]\\nfucci_data.head()\";\n",
       "                var nbb_cells = Jupyter.notebook.get_cells();\n",
       "                for (var i = 0; i < nbb_cells.length; ++i) {\n",
       "                    if (nbb_cells[i].input_prompt_number == nbb_cell_id) {\n",
       "                        if (nbb_cells[i].get_text() == nbb_unformatted_code) {\n",
       "                             nbb_cells[i].set_text(nbb_formatted_code);\n",
       "                        }\n",
       "                        break;\n",
       "                    }\n",
       "                }\n",
       "            }, 500);\n",
       "            "
      ],
      "text/plain": [
       "<IPython.core.display.Javascript object>"
      ]
     },
     "metadata": {},
     "output_type": "display_data"
    }
   ],
   "source": [
    "fucci_adata = sc.read(\"../../../data/gex/scrnaseq/fucci_adata.h5\")\n",
    "fucci_adata.var_names_make_unique()\n",
    "fucci_data = pd.DataFrame(\n",
    "    fucci_adata.X, columns=fucci_adata.var_names, index=fucci_adata.obs_names\n",
    ")\n",
    "fucci_data.columns = [c.upper() for c in fucci_data.columns]\n",
    "fucci_data.head()"
   ]
  },
  {
   "cell_type": "code",
   "execution_count": 5,
   "id": "09075d2a",
   "metadata": {},
   "outputs": [
    {
     "data": {
      "application/javascript": [
       "\n",
       "            setTimeout(function() {\n",
       "                var nbb_cell_id = 5;\n",
       "                var nbb_unformatted_code = \"fucci_gene_set = set(fucci_data.columns)\";\n",
       "                var nbb_formatted_code = \"fucci_gene_set = set(fucci_data.columns)\";\n",
       "                var nbb_cells = Jupyter.notebook.get_cells();\n",
       "                for (var i = 0; i < nbb_cells.length; ++i) {\n",
       "                    if (nbb_cells[i].input_prompt_number == nbb_cell_id) {\n",
       "                        if (nbb_cells[i].get_text() == nbb_unformatted_code) {\n",
       "                             nbb_cells[i].set_text(nbb_formatted_code);\n",
       "                        }\n",
       "                        break;\n",
       "                    }\n",
       "                }\n",
       "            }, 500);\n",
       "            "
      ],
      "text/plain": [
       "<IPython.core.display.Javascript object>"
      ]
     },
     "metadata": {},
     "output_type": "display_data"
    }
   ],
   "source": [
    "fucci_gene_set = set(fucci_data.columns)"
   ]
  },
  {
   "cell_type": "markdown",
   "id": "6be95af4",
   "metadata": {},
   "source": [
    "The single-cell gene expression data from Mahdessian et al. (2021) to which we in the following refer to as FUCCI data set consists of 1'126 cells a 21'445."
   ]
  },
  {
   "cell_type": "code",
   "execution_count": 6,
   "id": "3099b325",
   "metadata": {},
   "outputs": [
    {
     "data": {
      "text/html": [
       "<div>\n",
       "<style scoped>\n",
       "    .dataframe tbody tr th:only-of-type {\n",
       "        vertical-align: middle;\n",
       "    }\n",
       "\n",
       "    .dataframe tbody tr th {\n",
       "        vertical-align: top;\n",
       "    }\n",
       "\n",
       "    .dataframe thead th {\n",
       "        text-align: right;\n",
       "    }\n",
       "</style>\n",
       "<table border=\"1\" class=\"dataframe\">\n",
       "  <thead>\n",
       "    <tr style=\"text-align: right;\">\n",
       "      <th></th>\n",
       "      <th>TSPAN6</th>\n",
       "      <th>TNMD</th>\n",
       "      <th>DPM1</th>\n",
       "      <th>SCYL3</th>\n",
       "      <th>C1ORF112</th>\n",
       "      <th>FGR</th>\n",
       "      <th>CFH</th>\n",
       "      <th>FUCA2</th>\n",
       "      <th>GCLC</th>\n",
       "      <th>NFYA</th>\n",
       "      <th>...</th>\n",
       "      <th>ARHGAP11B</th>\n",
       "      <th>AC004593.2</th>\n",
       "      <th>AC090517.4</th>\n",
       "      <th>AL160269.1</th>\n",
       "      <th>ABCF2-H2BE1</th>\n",
       "      <th>POLR2J3</th>\n",
       "      <th>H2BE1</th>\n",
       "      <th>AL445238.1</th>\n",
       "      <th>GET1-SH3BGR</th>\n",
       "      <th>AC113348.1</th>\n",
       "    </tr>\n",
       "    <tr>\n",
       "      <th>stripped_cell_line_name</th>\n",
       "      <th></th>\n",
       "      <th></th>\n",
       "      <th></th>\n",
       "      <th></th>\n",
       "      <th></th>\n",
       "      <th></th>\n",
       "      <th></th>\n",
       "      <th></th>\n",
       "      <th></th>\n",
       "      <th></th>\n",
       "      <th></th>\n",
       "      <th></th>\n",
       "      <th></th>\n",
       "      <th></th>\n",
       "      <th></th>\n",
       "      <th></th>\n",
       "      <th></th>\n",
       "      <th></th>\n",
       "      <th></th>\n",
       "      <th></th>\n",
       "      <th></th>\n",
       "    </tr>\n",
       "  </thead>\n",
       "  <tbody>\n",
       "    <tr>\n",
       "      <th>C4I</th>\n",
       "      <td>5.345183</td>\n",
       "      <td>0.0</td>\n",
       "      <td>6.833017</td>\n",
       "      <td>1.682573</td>\n",
       "      <td>2.883621</td>\n",
       "      <td>0.070389</td>\n",
       "      <td>2.885574</td>\n",
       "      <td>6.036943</td>\n",
       "      <td>4.647315</td>\n",
       "      <td>4.001802</td>\n",
       "      <td>...</td>\n",
       "      <td>1.959770</td>\n",
       "      <td>0.042644</td>\n",
       "      <td>0.014355</td>\n",
       "      <td>0.056584</td>\n",
       "      <td>2.778209</td>\n",
       "      <td>4.027685</td>\n",
       "      <td>0.0</td>\n",
       "      <td>0.000000</td>\n",
       "      <td>1.464668</td>\n",
       "      <td>0.000000</td>\n",
       "    </tr>\n",
       "    <tr>\n",
       "      <th>BICR16</th>\n",
       "      <td>3.740928</td>\n",
       "      <td>0.0</td>\n",
       "      <td>5.726559</td>\n",
       "      <td>1.201634</td>\n",
       "      <td>2.389567</td>\n",
       "      <td>0.163499</td>\n",
       "      <td>2.010780</td>\n",
       "      <td>5.120186</td>\n",
       "      <td>5.267910</td>\n",
       "      <td>3.285402</td>\n",
       "      <td>...</td>\n",
       "      <td>1.344828</td>\n",
       "      <td>0.042644</td>\n",
       "      <td>0.000000</td>\n",
       "      <td>0.000000</td>\n",
       "      <td>2.070389</td>\n",
       "      <td>4.813525</td>\n",
       "      <td>0.0</td>\n",
       "      <td>0.000000</td>\n",
       "      <td>0.321928</td>\n",
       "      <td>0.084064</td>\n",
       "    </tr>\n",
       "    <tr>\n",
       "      <th>HCC15</th>\n",
       "      <td>5.019257</td>\n",
       "      <td>0.0</td>\n",
       "      <td>5.390599</td>\n",
       "      <td>2.307429</td>\n",
       "      <td>4.485427</td>\n",
       "      <td>0.000000</td>\n",
       "      <td>5.663914</td>\n",
       "      <td>7.492815</td>\n",
       "      <td>8.900535</td>\n",
       "      <td>4.434295</td>\n",
       "      <td>...</td>\n",
       "      <td>3.512227</td>\n",
       "      <td>0.097611</td>\n",
       "      <td>0.137504</td>\n",
       "      <td>0.238787</td>\n",
       "      <td>2.843984</td>\n",
       "      <td>4.282440</td>\n",
       "      <td>0.0</td>\n",
       "      <td>0.000000</td>\n",
       "      <td>0.505891</td>\n",
       "      <td>0.000000</td>\n",
       "    </tr>\n",
       "    <tr>\n",
       "      <th>PL21</th>\n",
       "      <td>0.124328</td>\n",
       "      <td>0.0</td>\n",
       "      <td>5.624978</td>\n",
       "      <td>2.370164</td>\n",
       "      <td>4.130107</td>\n",
       "      <td>6.326969</td>\n",
       "      <td>0.150560</td>\n",
       "      <td>5.422906</td>\n",
       "      <td>4.765535</td>\n",
       "      <td>4.852498</td>\n",
       "      <td>...</td>\n",
       "      <td>3.308885</td>\n",
       "      <td>0.000000</td>\n",
       "      <td>0.042644</td>\n",
       "      <td>0.000000</td>\n",
       "      <td>4.022368</td>\n",
       "      <td>6.208283</td>\n",
       "      <td>0.0</td>\n",
       "      <td>0.000000</td>\n",
       "      <td>0.263034</td>\n",
       "      <td>0.000000</td>\n",
       "    </tr>\n",
       "    <tr>\n",
       "      <th>OVTOKO</th>\n",
       "      <td>4.779785</td>\n",
       "      <td>0.0</td>\n",
       "      <td>6.009661</td>\n",
       "      <td>1.286881</td>\n",
       "      <td>2.833902</td>\n",
       "      <td>0.014355</td>\n",
       "      <td>0.443607</td>\n",
       "      <td>6.091488</td>\n",
       "      <td>4.277241</td>\n",
       "      <td>3.211012</td>\n",
       "      <td>...</td>\n",
       "      <td>0.495695</td>\n",
       "      <td>0.070389</td>\n",
       "      <td>0.028569</td>\n",
       "      <td>0.000000</td>\n",
       "      <td>0.887525</td>\n",
       "      <td>4.072963</td>\n",
       "      <td>0.0</td>\n",
       "      <td>0.056584</td>\n",
       "      <td>0.432959</td>\n",
       "      <td>0.000000</td>\n",
       "    </tr>\n",
       "  </tbody>\n",
       "</table>\n",
       "<p>5 rows × 19177 columns</p>\n",
       "</div>"
      ],
      "text/plain": [
       "                           TSPAN6  TNMD      DPM1     SCYL3  C1ORF112  \\\n",
       "stripped_cell_line_name                                                 \n",
       "C4I                      5.345183   0.0  6.833017  1.682573  2.883621   \n",
       "BICR16                   3.740928   0.0  5.726559  1.201634  2.389567   \n",
       "HCC15                    5.019257   0.0  5.390599  2.307429  4.485427   \n",
       "PL21                     0.124328   0.0  5.624978  2.370164  4.130107   \n",
       "OVTOKO                   4.779785   0.0  6.009661  1.286881  2.833902   \n",
       "\n",
       "                              FGR       CFH     FUCA2      GCLC      NFYA  \\\n",
       "stripped_cell_line_name                                                     \n",
       "C4I                      0.070389  2.885574  6.036943  4.647315  4.001802   \n",
       "BICR16                   0.163499  2.010780  5.120186  5.267910  3.285402   \n",
       "HCC15                    0.000000  5.663914  7.492815  8.900535  4.434295   \n",
       "PL21                     6.326969  0.150560  5.422906  4.765535  4.852498   \n",
       "OVTOKO                   0.014355  0.443607  6.091488  4.277241  3.211012   \n",
       "\n",
       "                         ...  ARHGAP11B  AC004593.2  AC090517.4  AL160269.1  \\\n",
       "stripped_cell_line_name  ...                                                  \n",
       "C4I                      ...   1.959770    0.042644    0.014355    0.056584   \n",
       "BICR16                   ...   1.344828    0.042644    0.000000    0.000000   \n",
       "HCC15                    ...   3.512227    0.097611    0.137504    0.238787   \n",
       "PL21                     ...   3.308885    0.000000    0.042644    0.000000   \n",
       "OVTOKO                   ...   0.495695    0.070389    0.028569    0.000000   \n",
       "\n",
       "                         ABCF2-H2BE1   POLR2J3  H2BE1  AL445238.1  \\\n",
       "stripped_cell_line_name                                             \n",
       "C4I                         2.778209  4.027685    0.0    0.000000   \n",
       "BICR16                      2.070389  4.813525    0.0    0.000000   \n",
       "HCC15                       2.843984  4.282440    0.0    0.000000   \n",
       "PL21                        4.022368  6.208283    0.0    0.000000   \n",
       "OVTOKO                      0.887525  4.072963    0.0    0.056584   \n",
       "\n",
       "                         GET1-SH3BGR  AC113348.1  \n",
       "stripped_cell_line_name                           \n",
       "C4I                         1.464668    0.000000  \n",
       "BICR16                      0.321928    0.084064  \n",
       "HCC15                       0.505891    0.000000  \n",
       "PL21                        0.263034    0.000000  \n",
       "OVTOKO                      0.432959    0.000000  \n",
       "\n",
       "[5 rows x 19177 columns]"
      ]
     },
     "execution_count": 6,
     "metadata": {},
     "output_type": "execute_result"
    },
    {
     "data": {
      "application/javascript": [
       "\n",
       "            setTimeout(function() {\n",
       "                var nbb_cell_id = 6;\n",
       "                var nbb_unformatted_code = \"ccle_data = pd.read_csv(\\\"../../../data/gex/ccle/CCLE_expression.csv\\\", index_col=0)\\nccle_sample_info = pd.read_csv(\\n    \\\"../../../data/gex/ccle/CCLE_expression_sample_info.csv\\\", index_col=0\\n)\\nmatched_ids = set(ccle_sample_info.index).intersection(ccle_data.index)\\nccle_data = ccle_data.loc[list(matched_ids)]\\nccle_data.index = ccle_sample_info.loc[ccle_data.index, \\\"stripped_cell_line_name\\\"]\\nccle_data.columns = [c.split(\\\" \\\")[0].upper() for c in ccle_data.columns]\\nccle_data.head()\";\n",
       "                var nbb_formatted_code = \"ccle_data = pd.read_csv(\\\"../../../data/gex/ccle/CCLE_expression.csv\\\", index_col=0)\\nccle_sample_info = pd.read_csv(\\n    \\\"../../../data/gex/ccle/CCLE_expression_sample_info.csv\\\", index_col=0\\n)\\nmatched_ids = set(ccle_sample_info.index).intersection(ccle_data.index)\\nccle_data = ccle_data.loc[list(matched_ids)]\\nccle_data.index = ccle_sample_info.loc[ccle_data.index, \\\"stripped_cell_line_name\\\"]\\nccle_data.columns = [c.split(\\\" \\\")[0].upper() for c in ccle_data.columns]\\nccle_data.head()\";\n",
       "                var nbb_cells = Jupyter.notebook.get_cells();\n",
       "                for (var i = 0; i < nbb_cells.length; ++i) {\n",
       "                    if (nbb_cells[i].input_prompt_number == nbb_cell_id) {\n",
       "                        if (nbb_cells[i].get_text() == nbb_unformatted_code) {\n",
       "                             nbb_cells[i].set_text(nbb_formatted_code);\n",
       "                        }\n",
       "                        break;\n",
       "                    }\n",
       "                }\n",
       "            }, 500);\n",
       "            "
      ],
      "text/plain": [
       "<IPython.core.display.Javascript object>"
      ]
     },
     "metadata": {},
     "output_type": "display_data"
    }
   ],
   "source": [
    "ccle_data = pd.read_csv(\"../../../data/gex/ccle/CCLE_expression.csv\", index_col=0)\n",
    "ccle_sample_info = pd.read_csv(\n",
    "    \"../../../data/gex/ccle/CCLE_expression_sample_info.csv\", index_col=0\n",
    ")\n",
    "matched_ids = set(ccle_sample_info.index).intersection(ccle_data.index)\n",
    "ccle_data = ccle_data.loc[list(matched_ids)]\n",
    "ccle_data.index = ccle_sample_info.loc[ccle_data.index, \"stripped_cell_line_name\"]\n",
    "ccle_data.columns = [c.split(\" \")[0].upper() for c in ccle_data.columns]\n",
    "ccle_data.head()"
   ]
  },
  {
   "cell_type": "code",
   "execution_count": 7,
   "id": "39b73c00",
   "metadata": {},
   "outputs": [
    {
     "data": {
      "application/javascript": [
       "\n",
       "            setTimeout(function() {\n",
       "                var nbb_cell_id = 7;\n",
       "                var nbb_unformatted_code = \"ccle_gene_set = set(ccle_data.columns)\";\n",
       "                var nbb_formatted_code = \"ccle_gene_set = set(ccle_data.columns)\";\n",
       "                var nbb_cells = Jupyter.notebook.get_cells();\n",
       "                for (var i = 0; i < nbb_cells.length; ++i) {\n",
       "                    if (nbb_cells[i].input_prompt_number == nbb_cell_id) {\n",
       "                        if (nbb_cells[i].get_text() == nbb_unformatted_code) {\n",
       "                             nbb_cells[i].set_text(nbb_formatted_code);\n",
       "                        }\n",
       "                        break;\n",
       "                    }\n",
       "                }\n",
       "            }, 500);\n",
       "            "
      ],
      "text/plain": [
       "<IPython.core.display.Javascript object>"
      ]
     },
     "metadata": {},
     "output_type": "display_data"
    }
   ],
   "source": [
    "ccle_gene_set = set(ccle_data.columns)"
   ]
  },
  {
   "cell_type": "markdown",
   "id": "b5194c97",
   "metadata": {},
   "source": [
    "The second data set from the CCLE study consist of 1'378 cancer cell lines for which we obtain the expression of roughly 19'177 genes."
   ]
  },
  {
   "cell_type": "markdown",
   "id": "03613aad",
   "metadata": {},
   "source": [
    "Next, we load the previously mentioned gene sets."
   ]
  },
  {
   "cell_type": "code",
   "execution_count": 8,
   "id": "d99137d2",
   "metadata": {},
   "outputs": [
    {
     "data": {
      "application/javascript": [
       "\n",
       "            setTimeout(function() {\n",
       "                var nbb_cell_id = 8;\n",
       "                var nbb_unformatted_code = \"cell_cycle_genes = set(\\n    pd.read_csv(\\n        \\\"../../../data/other/reactome_cell_cycle.txt\\\", index_col=0, header=None\\n    ).index\\n)\";\n",
       "                var nbb_formatted_code = \"cell_cycle_genes = set(\\n    pd.read_csv(\\n        \\\"../../../data/other/reactome_cell_cycle.txt\\\", index_col=0, header=None\\n    ).index\\n)\";\n",
       "                var nbb_cells = Jupyter.notebook.get_cells();\n",
       "                for (var i = 0; i < nbb_cells.length; ++i) {\n",
       "                    if (nbb_cells[i].input_prompt_number == nbb_cell_id) {\n",
       "                        if (nbb_cells[i].get_text() == nbb_unformatted_code) {\n",
       "                             nbb_cells[i].set_text(nbb_formatted_code);\n",
       "                        }\n",
       "                        break;\n",
       "                    }\n",
       "                }\n",
       "            }, 500);\n",
       "            "
      ],
      "text/plain": [
       "<IPython.core.display.Javascript object>"
      ]
     },
     "metadata": {},
     "output_type": "display_data"
    }
   ],
   "source": [
    "cell_cycle_genes = set(\n",
    "    pd.read_csv(\n",
    "        \"../../../data/other/reactome_cell_cycle.txt\", index_col=0, header=None\n",
    "    ).index\n",
    ")"
   ]
  },
  {
   "cell_type": "code",
   "execution_count": 9,
   "id": "2dba635a",
   "metadata": {},
   "outputs": [
    {
     "data": {
      "application/javascript": [
       "\n",
       "            setTimeout(function() {\n",
       "                var nbb_cell_id = 9;\n",
       "                var nbb_unformatted_code = \"chrom_org_genes = set(\\n    pd.read_csv(\\n        \\\"../../../data/other/reactome_chrom_org.txt\\\", index_col=0, header=None\\n    ).index\\n)\";\n",
       "                var nbb_formatted_code = \"chrom_org_genes = set(\\n    pd.read_csv(\\n        \\\"../../../data/other/reactome_chrom_org.txt\\\", index_col=0, header=None\\n    ).index\\n)\";\n",
       "                var nbb_cells = Jupyter.notebook.get_cells();\n",
       "                for (var i = 0; i < nbb_cells.length; ++i) {\n",
       "                    if (nbb_cells[i].input_prompt_number == nbb_cell_id) {\n",
       "                        if (nbb_cells[i].get_text() == nbb_unformatted_code) {\n",
       "                             nbb_cells[i].set_text(nbb_formatted_code);\n",
       "                        }\n",
       "                        break;\n",
       "                    }\n",
       "                }\n",
       "            }, 500);\n",
       "            "
      ],
      "text/plain": [
       "<IPython.core.display.Javascript object>"
      ]
     },
     "metadata": {},
     "output_type": "display_data"
    }
   ],
   "source": [
    "chrom_org_genes = set(\n",
    "    pd.read_csv(\n",
    "        \"../../../data/other/reactome_chrom_org.txt\", index_col=0, header=None\n",
    "    ).index\n",
    ")"
   ]
  },
  {
   "cell_type": "code",
   "execution_count": 10,
   "id": "77f1be36",
   "metadata": {},
   "outputs": [
    {
     "data": {
      "application/javascript": [
       "\n",
       "            setTimeout(function() {\n",
       "                var nbb_cell_id = 10;\n",
       "                var nbb_unformatted_code = \"dna_repair_genes = set(\\n    pd.read_csv(\\n        \\\"../../../data/other/reactome_dna_repair.txt\\\", index_col=0, header=None\\n    ).index\\n)\";\n",
       "                var nbb_formatted_code = \"dna_repair_genes = set(\\n    pd.read_csv(\\n        \\\"../../../data/other/reactome_dna_repair.txt\\\", index_col=0, header=None\\n    ).index\\n)\";\n",
       "                var nbb_cells = Jupyter.notebook.get_cells();\n",
       "                for (var i = 0; i < nbb_cells.length; ++i) {\n",
       "                    if (nbb_cells[i].input_prompt_number == nbb_cell_id) {\n",
       "                        if (nbb_cells[i].get_text() == nbb_unformatted_code) {\n",
       "                             nbb_cells[i].set_text(nbb_formatted_code);\n",
       "                        }\n",
       "                        break;\n",
       "                    }\n",
       "                }\n",
       "            }, 500);\n",
       "            "
      ],
      "text/plain": [
       "<IPython.core.display.Javascript object>"
      ]
     },
     "metadata": {},
     "output_type": "display_data"
    }
   ],
   "source": [
    "dna_repair_genes = set(\n",
    "    pd.read_csv(\n",
    "        \"../../../data/other/reactome_dna_repair.txt\", index_col=0, header=None\n",
    "    ).index\n",
    ")"
   ]
  },
  {
   "cell_type": "code",
   "execution_count": 11,
   "id": "139116b5",
   "metadata": {},
   "outputs": [
    {
     "data": {
      "application/javascript": [
       "\n",
       "            setTimeout(function() {\n",
       "                var nbb_cell_id = 11;\n",
       "                var nbb_unformatted_code = \"reg_actin_cytoskeleton_genes = set(\\n    pd.read_csv(\\n        \\\"../../../data/other/kegg_reg_act_cytoskeleton.txt\\\", index_col=0, header=None\\n    ).index\\n)\";\n",
       "                var nbb_formatted_code = \"reg_actin_cytoskeleton_genes = set(\\n    pd.read_csv(\\n        \\\"../../../data/other/kegg_reg_act_cytoskeleton.txt\\\", index_col=0, header=None\\n    ).index\\n)\";\n",
       "                var nbb_cells = Jupyter.notebook.get_cells();\n",
       "                for (var i = 0; i < nbb_cells.length; ++i) {\n",
       "                    if (nbb_cells[i].input_prompt_number == nbb_cell_id) {\n",
       "                        if (nbb_cells[i].get_text() == nbb_unformatted_code) {\n",
       "                             nbb_cells[i].set_text(nbb_formatted_code);\n",
       "                        }\n",
       "                        break;\n",
       "                    }\n",
       "                }\n",
       "            }, 500);\n",
       "            "
      ],
      "text/plain": [
       "<IPython.core.display.Javascript object>"
      ]
     },
     "metadata": {},
     "output_type": "display_data"
    }
   ],
   "source": [
    "reg_actin_cytoskeleton_genes = set(\n",
    "    pd.read_csv(\n",
    "        \"../../../data/other/kegg_reg_act_cytoskeleton.txt\", index_col=0, header=None\n",
    "    ).index\n",
    ")"
   ]
  },
  {
   "cell_type": "code",
   "execution_count": 12,
   "id": "7bb22f51",
   "metadata": {},
   "outputs": [
    {
     "data": {
      "application/javascript": [
       "\n",
       "            setTimeout(function() {\n",
       "                var nbb_cell_id = 12;\n",
       "                var nbb_unformatted_code = \"human_tfs = set(\\n    list(\\n        pd.read_csv(\\n            \\\"../../../data/other/human_tf_list.txt\\\", index_col=0, header=None\\n        ).index\\n    )\\n)\";\n",
       "                var nbb_formatted_code = \"human_tfs = set(\\n    list(\\n        pd.read_csv(\\n            \\\"../../../data/other/human_tf_list.txt\\\", index_col=0, header=None\\n        ).index\\n    )\\n)\";\n",
       "                var nbb_cells = Jupyter.notebook.get_cells();\n",
       "                for (var i = 0; i < nbb_cells.length; ++i) {\n",
       "                    if (nbb_cells[i].input_prompt_number == nbb_cell_id) {\n",
       "                        if (nbb_cells[i].get_text() == nbb_unformatted_code) {\n",
       "                             nbb_cells[i].set_text(nbb_formatted_code);\n",
       "                        }\n",
       "                        break;\n",
       "                    }\n",
       "                }\n",
       "            }, 500);\n",
       "            "
      ],
      "text/plain": [
       "<IPython.core.display.Javascript object>"
      ]
     },
     "metadata": {},
     "output_type": "display_data"
    }
   ],
   "source": [
    "human_tfs = set(\n",
    "    list(\n",
    "        pd.read_csv(\n",
    "            \"../../../data/other/human_tf_list.txt\", index_col=0, header=None\n",
    "        ).index\n",
    "    )\n",
    ")"
   ]
  },
  {
   "cell_type": "code",
   "execution_count": 13,
   "id": "6ca32f99",
   "metadata": {},
   "outputs": [
    {
     "data": {
      "text/html": [
       "<div>\n",
       "<style scoped>\n",
       "    .dataframe tbody tr th:only-of-type {\n",
       "        vertical-align: middle;\n",
       "    }\n",
       "\n",
       "    .dataframe tbody tr th {\n",
       "        vertical-align: top;\n",
       "    }\n",
       "\n",
       "    .dataframe thead th {\n",
       "        text-align: right;\n",
       "    }\n",
       "</style>\n",
       "<table border=\"1\" class=\"dataframe\">\n",
       "  <thead>\n",
       "    <tr style=\"text-align: right;\">\n",
       "      <th></th>\n",
       "      <th>multi_image_spec_score</th>\n",
       "      <th>nuclei_image_spec_score</th>\n",
       "      <th>spec_score</th>\n",
       "      <th>rohban_selected</th>\n",
       "      <th>pathways_of_interest</th>\n",
       "      <th>selected</th>\n",
       "    </tr>\n",
       "  </thead>\n",
       "  <tbody>\n",
       "    <tr>\n",
       "      <th>MAPK13</th>\n",
       "      <td>0.586119</td>\n",
       "      <td>0.547602</td>\n",
       "      <td>0.586119</td>\n",
       "      <td>False</td>\n",
       "      <td>False</td>\n",
       "      <td>False</td>\n",
       "    </tr>\n",
       "    <tr>\n",
       "      <th>AKT2</th>\n",
       "      <td>0.604911</td>\n",
       "      <td>0.547991</td>\n",
       "      <td>0.604911</td>\n",
       "      <td>False</td>\n",
       "      <td>True</td>\n",
       "      <td>False</td>\n",
       "    </tr>\n",
       "    <tr>\n",
       "      <th>MAP3K7</th>\n",
       "      <td>0.468750</td>\n",
       "      <td>0.530357</td>\n",
       "      <td>0.530357</td>\n",
       "      <td>True</td>\n",
       "      <td>False</td>\n",
       "      <td>False</td>\n",
       "    </tr>\n",
       "    <tr>\n",
       "      <th>IKBKB</th>\n",
       "      <td>0.685855</td>\n",
       "      <td>0.607730</td>\n",
       "      <td>0.685855</td>\n",
       "      <td>False</td>\n",
       "      <td>False</td>\n",
       "      <td>True</td>\n",
       "    </tr>\n",
       "    <tr>\n",
       "      <th>IRAK1</th>\n",
       "      <td>0.620404</td>\n",
       "      <td>0.538603</td>\n",
       "      <td>0.620404</td>\n",
       "      <td>False</td>\n",
       "      <td>False</td>\n",
       "      <td>False</td>\n",
       "    </tr>\n",
       "  </tbody>\n",
       "</table>\n",
       "</div>"
      ],
      "text/plain": [
       "        multi_image_spec_score  nuclei_image_spec_score  spec_score  \\\n",
       "MAPK13                0.586119                 0.547602    0.586119   \n",
       "AKT2                  0.604911                 0.547991    0.604911   \n",
       "MAP3K7                0.468750                 0.530357    0.530357   \n",
       "IKBKB                 0.685855                 0.607730    0.685855   \n",
       "IRAK1                 0.620404                 0.538603    0.620404   \n",
       "\n",
       "        rohban_selected  pathways_of_interest  selected  \n",
       "MAPK13            False                 False     False  \n",
       "AKT2              False                  True     False  \n",
       "MAP3K7             True                 False     False  \n",
       "IKBKB             False                 False      True  \n",
       "IRAK1             False                 False     False  "
      ]
     },
     "execution_count": 13,
     "metadata": {},
     "output_type": "execute_result"
    },
    {
     "data": {
      "application/javascript": [
       "\n",
       "            setTimeout(function() {\n",
       "                var nbb_cell_id = 13;\n",
       "                var nbb_unformatted_code = \"specificity_screen_results = pd.read_csv(\\n    \\\"../../..//data/other/specificity_screen_results.csv\\\", index_col=0\\n)\\nspecificity_screen_results.head()\";\n",
       "                var nbb_formatted_code = \"specificity_screen_results = pd.read_csv(\\n    \\\"../../..//data/other/specificity_screen_results.csv\\\", index_col=0\\n)\\nspecificity_screen_results.head()\";\n",
       "                var nbb_cells = Jupyter.notebook.get_cells();\n",
       "                for (var i = 0; i < nbb_cells.length; ++i) {\n",
       "                    if (nbb_cells[i].input_prompt_number == nbb_cell_id) {\n",
       "                        if (nbb_cells[i].get_text() == nbb_unformatted_code) {\n",
       "                             nbb_cells[i].set_text(nbb_formatted_code);\n",
       "                        }\n",
       "                        break;\n",
       "                    }\n",
       "                }\n",
       "            }, 500);\n",
       "            "
      ],
      "text/plain": [
       "<IPython.core.display.Javascript object>"
      ]
     },
     "metadata": {},
     "output_type": "display_data"
    }
   ],
   "source": [
    "specificity_screen_results = pd.read_csv(\n",
    "    \"../../..//data/other/specificity_screen_results.csv\", index_col=0\n",
    ")\n",
    "specificity_screen_results.head()"
   ]
  },
  {
   "cell_type": "code",
   "execution_count": 14,
   "id": "7494a524",
   "metadata": {},
   "outputs": [
    {
     "data": {
      "application/javascript": [
       "\n",
       "            setTimeout(function() {\n",
       "                var nbb_cell_id = 14;\n",
       "                var nbb_unformatted_code = \"specific_targets = set(\\n    specificity_screen_results.loc[specificity_screen_results[\\\"selected\\\"] == True].index\\n)\\norf_targets = set(specificity_screen_results.index)\";\n",
       "                var nbb_formatted_code = \"specific_targets = set(\\n    specificity_screen_results.loc[specificity_screen_results[\\\"selected\\\"] == True].index\\n)\\norf_targets = set(specificity_screen_results.index)\";\n",
       "                var nbb_cells = Jupyter.notebook.get_cells();\n",
       "                for (var i = 0; i < nbb_cells.length; ++i) {\n",
       "                    if (nbb_cells[i].input_prompt_number == nbb_cell_id) {\n",
       "                        if (nbb_cells[i].get_text() == nbb_unformatted_code) {\n",
       "                             nbb_cells[i].set_text(nbb_formatted_code);\n",
       "                        }\n",
       "                        break;\n",
       "                    }\n",
       "                }\n",
       "            }, 500);\n",
       "            "
      ],
      "text/plain": [
       "<IPython.core.display.Javascript object>"
      ]
     },
     "metadata": {},
     "output_type": "display_data"
    }
   ],
   "source": [
    "specific_targets = set(\n",
    "    specificity_screen_results.loc[specificity_screen_results[\"selected\"] == True].index\n",
    ")\n",
    "orf_targets = set(specificity_screen_results.index)"
   ]
  },
  {
   "cell_type": "markdown",
   "id": "6973d263",
   "metadata": {},
   "source": [
    "Finally we load the human PPI as curated in the iRefIndexDB v14."
   ]
  },
  {
   "cell_type": "code",
   "execution_count": 15,
   "id": "2ad62cdd",
   "metadata": {},
   "outputs": [
    {
     "data": {
      "application/javascript": [
       "\n",
       "            setTimeout(function() {\n",
       "                var nbb_cell_id = 15;\n",
       "                var nbb_unformatted_code = \"ppi_file = \\\"../../../data/ppi/iRefIndex_v14_MIScore_interactome_C9.costs.txt\\\"\\niref_ppi = nx.convert_matrix.from_pandas_edgelist(\\n    pd.read_csv(ppi_file, sep=\\\"\\\\t\\\"),\\n    source=\\\"protein1\\\",\\n    target=\\\"protein2\\\",\\n    edge_attr=\\\"cost\\\",\\n)\\niref_ppi.remove_edges_from(nx.selfloop_edges(iref_ppi))\\niref_ppi.name = \\\"human PPI\\\"\";\n",
       "                var nbb_formatted_code = \"ppi_file = \\\"../../../data/ppi/iRefIndex_v14_MIScore_interactome_C9.costs.txt\\\"\\niref_ppi = nx.convert_matrix.from_pandas_edgelist(\\n    pd.read_csv(ppi_file, sep=\\\"\\\\t\\\"),\\n    source=\\\"protein1\\\",\\n    target=\\\"protein2\\\",\\n    edge_attr=\\\"cost\\\",\\n)\\niref_ppi.remove_edges_from(nx.selfloop_edges(iref_ppi))\\niref_ppi.name = \\\"human PPI\\\"\";\n",
       "                var nbb_cells = Jupyter.notebook.get_cells();\n",
       "                for (var i = 0; i < nbb_cells.length; ++i) {\n",
       "                    if (nbb_cells[i].input_prompt_number == nbb_cell_id) {\n",
       "                        if (nbb_cells[i].get_text() == nbb_unformatted_code) {\n",
       "                             nbb_cells[i].set_text(nbb_formatted_code);\n",
       "                        }\n",
       "                        break;\n",
       "                    }\n",
       "                }\n",
       "            }, 500);\n",
       "            "
      ],
      "text/plain": [
       "<IPython.core.display.Javascript object>"
      ]
     },
     "metadata": {},
     "output_type": "display_data"
    }
   ],
   "source": [
    "ppi_file = \"../../../data/ppi/iRefIndex_v14_MIScore_interactome_C9.costs.txt\"\n",
    "iref_ppi = nx.convert_matrix.from_pandas_edgelist(\n",
    "    pd.read_csv(ppi_file, sep=\"\\t\"),\n",
    "    source=\"protein1\",\n",
    "    target=\"protein2\",\n",
    "    edge_attr=\"cost\",\n",
    ")\n",
    "iref_ppi.remove_edges_from(nx.selfloop_edges(iref_ppi))\n",
    "iref_ppi.name = \"human PPI\""
   ]
  },
  {
   "cell_type": "code",
   "execution_count": 16,
   "id": "0916c0b6",
   "metadata": {},
   "outputs": [
    {
     "data": {
      "application/javascript": [
       "\n",
       "            setTimeout(function() {\n",
       "                var nbb_cell_id = 16;\n",
       "                var nbb_unformatted_code = \"ppi_gene_set = set(list(iref_ppi.nodes()))\";\n",
       "                var nbb_formatted_code = \"ppi_gene_set = set(list(iref_ppi.nodes()))\";\n",
       "                var nbb_cells = Jupyter.notebook.get_cells();\n",
       "                for (var i = 0; i < nbb_cells.length; ++i) {\n",
       "                    if (nbb_cells[i].input_prompt_number == nbb_cell_id) {\n",
       "                        if (nbb_cells[i].get_text() == nbb_unformatted_code) {\n",
       "                             nbb_cells[i].set_text(nbb_formatted_code);\n",
       "                        }\n",
       "                        break;\n",
       "                    }\n",
       "                }\n",
       "            }, 500);\n",
       "            "
      ],
      "text/plain": [
       "<IPython.core.display.Javascript object>"
      ]
     },
     "metadata": {},
     "output_type": "display_data"
    }
   ],
   "source": [
    "ppi_gene_set = set(list(iref_ppi.nodes()))"
   ]
  },
  {
   "cell_type": "code",
   "execution_count": 17,
   "id": "1c44450f",
   "metadata": {},
   "outputs": [
    {
     "name": "stdout",
     "output_type": "stream",
     "text": [
      "Name: human PPI\n",
      "Type: Graph\n",
      "Number of nodes: 15759\n",
      "Number of edges: 181955\n",
      "Average degree:  23.0922\n"
     ]
    },
    {
     "data": {
      "application/javascript": [
       "\n",
       "            setTimeout(function() {\n",
       "                var nbb_cell_id = 17;\n",
       "                var nbb_unformatted_code = \"print(nx.info(iref_ppi))\";\n",
       "                var nbb_formatted_code = \"print(nx.info(iref_ppi))\";\n",
       "                var nbb_cells = Jupyter.notebook.get_cells();\n",
       "                for (var i = 0; i < nbb_cells.length; ++i) {\n",
       "                    if (nbb_cells[i].input_prompt_number == nbb_cell_id) {\n",
       "                        if (nbb_cells[i].get_text() == nbb_unformatted_code) {\n",
       "                             nbb_cells[i].set_text(nbb_formatted_code);\n",
       "                        }\n",
       "                        break;\n",
       "                    }\n",
       "                }\n",
       "            }, 500);\n",
       "            "
      ],
      "text/plain": [
       "<IPython.core.display.Javascript object>"
      ]
     },
     "metadata": {},
     "output_type": "display_data"
    }
   ],
   "source": [
    "print(nx.info(iref_ppi))"
   ]
  },
  {
   "cell_type": "markdown",
   "id": "54ad278a",
   "metadata": {},
   "source": [
    "The network consists of 15'759 nodes and 181'955 edges with an average node degree of 23.0922."
   ]
  },
  {
   "cell_type": "markdown",
   "id": "53cb1d43",
   "metadata": {},
   "source": [
    "---\n",
    "\n",
    "## 2. Preliminary analyses\n",
    "\n",
    "Next, we will analyze the data to i.a. define the gene set that we want to focus on in the remainder of the study."
   ]
  },
  {
   "cell_type": "markdown",
   "id": "6db0ef3b",
   "metadata": {},
   "source": [
    "The Venn diagram below shows the overlap of the two gene sets with the 190 ORF targets from the study by Rohban et al. (2017) as well as with the ones from iRefIndexDB v14. That we will use later on as a basis to derive the interactome specific to the U2OS cells."
   ]
  },
  {
   "cell_type": "code",
   "execution_count": 18,
   "id": "86d601fa",
   "metadata": {},
   "outputs": [
    {
     "data": {
      "image/png": "[encoded data removed]",
      "text/plain": [
       "<Figure size 576x576 with 1 Axes>"
      ]
     },
     "metadata": {},
     "output_type": "display_data"
    },
    {
     "data": {
      "application/javascript": [
       "\n",
       "            setTimeout(function() {\n",
       "                var nbb_cell_id = 18;\n",
       "                var nbb_unformatted_code = \"ax = venn.venn(\\n    dict(\\n        zip(\\n            [\\n                \\\"ORF targets\\\",\\n                \\\"scRNAseq (FUCCI) data\\\",\\n                \\\"CCLE bulk RNAseq data\\\",\\n                \\\"iRefIndexDB v14\\\",\\n            ],\\n            [\\n                orf_targets,\\n                fucci_gene_set,\\n                ccle_gene_set,\\n                ppi_gene_set,\\n            ],\\n        )\\n    )\\n)\";\n",
       "                var nbb_formatted_code = \"ax = venn.venn(\\n    dict(\\n        zip(\\n            [\\n                \\\"ORF targets\\\",\\n                \\\"scRNAseq (FUCCI) data\\\",\\n                \\\"CCLE bulk RNAseq data\\\",\\n                \\\"iRefIndexDB v14\\\",\\n            ],\\n            [\\n                orf_targets,\\n                fucci_gene_set,\\n                ccle_gene_set,\\n                ppi_gene_set,\\n            ],\\n        )\\n    )\\n)\";\n",
       "                var nbb_cells = Jupyter.notebook.get_cells();\n",
       "                for (var i = 0; i < nbb_cells.length; ++i) {\n",
       "                    if (nbb_cells[i].input_prompt_number == nbb_cell_id) {\n",
       "                        if (nbb_cells[i].get_text() == nbb_unformatted_code) {\n",
       "                             nbb_cells[i].set_text(nbb_formatted_code);\n",
       "                        }\n",
       "                        break;\n",
       "                    }\n",
       "                }\n",
       "            }, 500);\n",
       "            "
      ],
      "text/plain": [
       "<IPython.core.display.Javascript object>"
      ]
     },
     "metadata": {},
     "output_type": "display_data"
    }
   ],
   "source": [
    "ax = venn.venn(\n",
    "    dict(\n",
    "        zip(\n",
    "            [\n",
    "                \"ORF targets\",\n",
    "                \"scRNAseq (FUCCI) data\",\n",
    "                \"CCLE bulk RNAseq data\",\n",
    "                \"iRefIndexDB v14\",\n",
    "            ],\n",
    "            [\n",
    "                orf_targets,\n",
    "                fucci_gene_set,\n",
    "                ccle_gene_set,\n",
    "                ppi_gene_set,\n",
    "            ],\n",
    "        )\n",
    "    )\n",
    ")"
   ]
  },
  {
   "cell_type": "code",
   "execution_count": 19,
   "id": "31eea9eb",
   "metadata": {},
   "outputs": [
    {
     "data": {
      "application/javascript": [
       "\n",
       "            setTimeout(function() {\n",
       "                var nbb_cell_id = 19;\n",
       "                var nbb_unformatted_code = \"selected_orf_targets = orf_targets.intersection(fucci_gene_set).intersection(\\n    ppi_gene_set\\n)\\n# pd.DataFrame(list(selected_orf_targets)).to_csv(\\n#     \\\"../../../data/other/selected_orf_targets.txt\\\", header=False, index=False\\n# )\";\n",
       "                var nbb_formatted_code = \"selected_orf_targets = orf_targets.intersection(fucci_gene_set).intersection(\\n    ppi_gene_set\\n)\\n# pd.DataFrame(list(selected_orf_targets)).to_csv(\\n#     \\\"../../../data/other/selected_orf_targets.txt\\\", header=False, index=False\\n# )\";\n",
       "                var nbb_cells = Jupyter.notebook.get_cells();\n",
       "                for (var i = 0; i < nbb_cells.length; ++i) {\n",
       "                    if (nbb_cells[i].input_prompt_number == nbb_cell_id) {\n",
       "                        if (nbb_cells[i].get_text() == nbb_unformatted_code) {\n",
       "                             nbb_cells[i].set_text(nbb_formatted_code);\n",
       "                        }\n",
       "                        break;\n",
       "                    }\n",
       "                }\n",
       "            }, 500);\n",
       "            "
      ],
      "text/plain": [
       "<IPython.core.display.Javascript object>"
      ]
     },
     "metadata": {},
     "output_type": "display_data"
    }
   ],
   "source": [
    "selected_orf_targets = orf_targets.intersection(fucci_gene_set).intersection(\n",
    "    ppi_gene_set\n",
    ")\n",
    "# pd.DataFrame(list(selected_orf_targets)).to_csv(\n",
    "#     \"../../../data/other/selected_orf_targets.txt\", header=False, index=False\n",
    "# )"
   ]
  },
  {
   "cell_type": "markdown",
   "id": "1681dc75",
   "metadata": {},
   "source": [
    "Going forward, we will focus on the intersection of the genes that are covered in the scRNAseq (FUCCI) data set, the CCLE bulk RNAseq data set and the iRefIndexDB v14. While we will have not yet decided to use the bulk-sequencing data restricting us to those genes also covered by this gene expression data set only removes 61 genes including four known transcription factors (NFE4, ZNF286B, ZNF658B, ZNF702P) transcription factor nor any of the ORF targets, which are shown below."
   ]
  },
  {
   "cell_type": "code",
   "execution_count": 20,
   "id": "a19dc9a4",
   "metadata": {},
   "outputs": [
    {
     "data": {
      "application/javascript": [
       "\n",
       "            setTimeout(function() {\n",
       "                var nbb_cell_id = 20;\n",
       "                var nbb_unformatted_code = \"selected_gene_set = fucci_gene_set.intersection(ppi_gene_set).intersection(\\n    ccle_gene_set\\n)\";\n",
       "                var nbb_formatted_code = \"selected_gene_set = fucci_gene_set.intersection(ppi_gene_set).intersection(\\n    ccle_gene_set\\n)\";\n",
       "                var nbb_cells = Jupyter.notebook.get_cells();\n",
       "                for (var i = 0; i < nbb_cells.length; ++i) {\n",
       "                    if (nbb_cells[i].input_prompt_number == nbb_cell_id) {\n",
       "                        if (nbb_cells[i].get_text() == nbb_unformatted_code) {\n",
       "                             nbb_cells[i].set_text(nbb_formatted_code);\n",
       "                        }\n",
       "                        break;\n",
       "                    }\n",
       "                }\n",
       "            }, 500);\n",
       "            "
      ],
      "text/plain": [
       "<IPython.core.display.Javascript object>"
      ]
     },
     "metadata": {},
     "output_type": "display_data"
    }
   ],
   "source": [
    "selected_gene_set = fucci_gene_set.intersection(ppi_gene_set).intersection(\n",
    "    ccle_gene_set\n",
    ")"
   ]
  },
  {
   "cell_type": "markdown",
   "id": "8df1413c",
   "metadata": {},
   "source": [
    "The selected gene set consists of 13'068 genes all of which are covered in either of the two RNAseq data sets and the human PPI."
   ]
  },
  {
   "cell_type": "markdown",
   "id": "2984c5ae",
   "metadata": {},
   "source": [
    "---\n",
    "\n",
    "## 2. Identification of U2OS gene set\n",
    "\n",
    "In total we have 13'068 genes that we selected for further analyses. However, we have to yet identify those that are particularly important in the functional and thus regulatory programs of our cell type: human osteosarcoma (U2OS) cells."
   ]
  },
  {
   "cell_type": "markdown",
   "id": "c35c07de",
   "metadata": {},
   "source": [
    "### 2a. CCLE data marker screen"
   ]
  },
  {
   "cell_type": "markdown",
   "id": "6779e7ef",
   "metadata": {},
   "source": [
    "To identify the markers, we use the CCLE bulk RNAseq data set.\n",
    "This data set provides the average expression for roughly 20'000 genes for 1'378 different cancer cell lines including U2OS cells.\n",
    "\n",
    "Inspired by we identify those genes that are differentially expressed (regulated) in U2OS cells when comparing those to the background distribution from the remaining 1'377 cancer cell lines in the data set. To identify those we test for every gene if the mean expression of all other cancer cell lines is significantly different than the expression of that respective gene for U2OS cells using the bulk RNAseq data. In particular, we will test the following for each gene:"
   ]
  },
  {
   "cell_type": "markdown",
   "id": "b1f54af5",
   "metadata": {},
   "source": [
    "$$\n",
    "H_A: \\quad \\bar{x}_i = x_{i,U2OS}, \\quad \\textrm{with} \\ \\bar{x}_i=\\frac{1}{N-1}\\sum\\limits_{j\\neq U2OS}x_{i,j}\n",
    "$$\n",
    "where $x_{i,j}$ is the transformed expression of gene $i$ in cell type $j$. Note that due to the large sample size we will assume the log-transformed gene expression for each gene to approximately follow a standard normal distribution. Thus, we will perform a one sample t-test to assess the significance of any under-or overexpression."
   ]
  },
  {
   "cell_type": "markdown",
   "id": "efaeb95b",
   "metadata": {},
   "source": [
    "Note that we subset the gene set to those that are also present in both the scRNAseq data set and the human PPI."
   ]
  },
  {
   "cell_type": "code",
   "execution_count": 21,
   "id": "8c0e9bfd",
   "metadata": {},
   "outputs": [
    {
     "data": {
      "application/javascript": [
       "\n",
       "            setTimeout(function() {\n",
       "                var nbb_cell_id = 21;\n",
       "                var nbb_unformatted_code = \"ccle_data = ccle_data.loc[:, selected_gene_set]\";\n",
       "                var nbb_formatted_code = \"ccle_data = ccle_data.loc[:, selected_gene_set]\";\n",
       "                var nbb_cells = Jupyter.notebook.get_cells();\n",
       "                for (var i = 0; i < nbb_cells.length; ++i) {\n",
       "                    if (nbb_cells[i].input_prompt_number == nbb_cell_id) {\n",
       "                        if (nbb_cells[i].get_text() == nbb_unformatted_code) {\n",
       "                             nbb_cells[i].set_text(nbb_formatted_code);\n",
       "                        }\n",
       "                        break;\n",
       "                    }\n",
       "                }\n",
       "            }, 500);\n",
       "            "
      ],
      "text/plain": [
       "<IPython.core.display.Javascript object>"
      ]
     },
     "metadata": {},
     "output_type": "display_data"
    }
   ],
   "source": [
    "ccle_data = ccle_data.loc[:, selected_gene_set]"
   ]
  },
  {
   "cell_type": "code",
   "execution_count": 22,
   "id": "673c87a4",
   "metadata": {},
   "outputs": [
    {
     "data": {
      "application/javascript": [
       "\n",
       "            setTimeout(function() {\n",
       "                var nbb_cell_id = 22;\n",
       "                var nbb_unformatted_code = \"marker_results = find_markers(\\n    ccle_data,\\n    target=\\\"U2OS\\\",\\n    avg_log_fc=0.0,\\n    min_pct=0,\\n)\";\n",
       "                var nbb_formatted_code = \"marker_results = find_markers(\\n    ccle_data,\\n    target=\\\"U2OS\\\",\\n    avg_log_fc=0.0,\\n    min_pct=0,\\n)\";\n",
       "                var nbb_cells = Jupyter.notebook.get_cells();\n",
       "                for (var i = 0; i < nbb_cells.length; ++i) {\n",
       "                    if (nbb_cells[i].input_prompt_number == nbb_cell_id) {\n",
       "                        if (nbb_cells[i].get_text() == nbb_unformatted_code) {\n",
       "                             nbb_cells[i].set_text(nbb_formatted_code);\n",
       "                        }\n",
       "                        break;\n",
       "                    }\n",
       "                }\n",
       "            }, 500);\n",
       "            "
      ],
      "text/plain": [
       "<IPython.core.display.Javascript object>"
      ]
     },
     "metadata": {},
     "output_type": "display_data"
    }
   ],
   "source": [
    "marker_results = find_markers(\n",
    "    ccle_data,\n",
    "    target=\"U2OS\",\n",
    "    avg_log_fc=0.0,\n",
    "    min_pct=0,\n",
    ")"
   ]
  },
  {
   "cell_type": "markdown",
   "id": "2c11ee8a",
   "metadata": {},
   "source": [
    "The table below shows the top 10 genes that show the largest absolute log-fold change when comparing U2OS cells vs. the other cancer cell lines of the CCLE data set."
   ]
  },
  {
   "cell_type": "code",
   "execution_count": 23,
   "id": "8cd43d88",
   "metadata": {},
   "outputs": [
    {
     "data": {
      "text/html": [
       "<div>\n",
       "<style scoped>\n",
       "    .dataframe tbody tr th:only-of-type {\n",
       "        vertical-align: middle;\n",
       "    }\n",
       "\n",
       "    .dataframe tbody tr th {\n",
       "        vertical-align: top;\n",
       "    }\n",
       "\n",
       "    .dataframe thead th {\n",
       "        text-align: right;\n",
       "    }\n",
       "</style>\n",
       "<table border=\"1\" class=\"dataframe\">\n",
       "  <thead>\n",
       "    <tr style=\"text-align: right;\">\n",
       "      <th></th>\n",
       "      <th>log_expr_target</th>\n",
       "      <th>avg_log_expr_other</th>\n",
       "      <th>log_fc</th>\n",
       "      <th>abs_log_fc</th>\n",
       "      <th>pval</th>\n",
       "      <th>fdr</th>\n",
       "    </tr>\n",
       "  </thead>\n",
       "  <tbody>\n",
       "    <tr>\n",
       "      <th>DHRS2</th>\n",
       "      <td>10.913937</td>\n",
       "      <td>2.265074</td>\n",
       "      <td>8.648862</td>\n",
       "      <td>8.648862</td>\n",
       "      <td>0.0</td>\n",
       "      <td>0.0</td>\n",
       "    </tr>\n",
       "    <tr>\n",
       "      <th>PAGE2</th>\n",
       "      <td>7.891055</td>\n",
       "      <td>0.447193</td>\n",
       "      <td>7.443861</td>\n",
       "      <td>7.443861</td>\n",
       "      <td>0.0</td>\n",
       "      <td>0.0</td>\n",
       "    </tr>\n",
       "    <tr>\n",
       "      <th>HAPLN1</th>\n",
       "      <td>7.514122</td>\n",
       "      <td>0.537060</td>\n",
       "      <td>6.977062</td>\n",
       "      <td>6.977062</td>\n",
       "      <td>0.0</td>\n",
       "      <td>0.0</td>\n",
       "    </tr>\n",
       "    <tr>\n",
       "      <th>KRT81</th>\n",
       "      <td>9.080338</td>\n",
       "      <td>2.109525</td>\n",
       "      <td>6.970813</td>\n",
       "      <td>6.970813</td>\n",
       "      <td>0.0</td>\n",
       "      <td>0.0</td>\n",
       "    </tr>\n",
       "    <tr>\n",
       "      <th>PCLO</th>\n",
       "      <td>8.285310</td>\n",
       "      <td>1.510797</td>\n",
       "      <td>6.774512</td>\n",
       "      <td>6.774512</td>\n",
       "      <td>0.0</td>\n",
       "      <td>0.0</td>\n",
       "    </tr>\n",
       "    <tr>\n",
       "      <th>KRT17</th>\n",
       "      <td>9.705892</td>\n",
       "      <td>2.965366</td>\n",
       "      <td>6.740525</td>\n",
       "      <td>6.740525</td>\n",
       "      <td>0.0</td>\n",
       "      <td>0.0</td>\n",
       "    </tr>\n",
       "    <tr>\n",
       "      <th>CXCL14</th>\n",
       "      <td>6.953382</td>\n",
       "      <td>0.699980</td>\n",
       "      <td>6.253402</td>\n",
       "      <td>6.253402</td>\n",
       "      <td>0.0</td>\n",
       "      <td>0.0</td>\n",
       "    </tr>\n",
       "    <tr>\n",
       "      <th>TNNC1</th>\n",
       "      <td>7.932451</td>\n",
       "      <td>1.779374</td>\n",
       "      <td>6.153077</td>\n",
       "      <td>6.153077</td>\n",
       "      <td>0.0</td>\n",
       "      <td>0.0</td>\n",
       "    </tr>\n",
       "    <tr>\n",
       "      <th>MAGEA1</th>\n",
       "      <td>7.011898</td>\n",
       "      <td>0.922583</td>\n",
       "      <td>6.089315</td>\n",
       "      <td>6.089315</td>\n",
       "      <td>0.0</td>\n",
       "      <td>0.0</td>\n",
       "    </tr>\n",
       "    <tr>\n",
       "      <th>KRT75</th>\n",
       "      <td>6.136068</td>\n",
       "      <td>0.190374</td>\n",
       "      <td>5.945694</td>\n",
       "      <td>5.945694</td>\n",
       "      <td>0.0</td>\n",
       "      <td>0.0</td>\n",
       "    </tr>\n",
       "  </tbody>\n",
       "</table>\n",
       "</div>"
      ],
      "text/plain": [
       "        log_expr_target  avg_log_expr_other    log_fc  abs_log_fc  pval  fdr\n",
       "DHRS2         10.913937            2.265074  8.648862    8.648862   0.0  0.0\n",
       "PAGE2          7.891055            0.447193  7.443861    7.443861   0.0  0.0\n",
       "HAPLN1         7.514122            0.537060  6.977062    6.977062   0.0  0.0\n",
       "KRT81          9.080338            2.109525  6.970813    6.970813   0.0  0.0\n",
       "PCLO           8.285310            1.510797  6.774512    6.774512   0.0  0.0\n",
       "KRT17          9.705892            2.965366  6.740525    6.740525   0.0  0.0\n",
       "CXCL14         6.953382            0.699980  6.253402    6.253402   0.0  0.0\n",
       "TNNC1          7.932451            1.779374  6.153077    6.153077   0.0  0.0\n",
       "MAGEA1         7.011898            0.922583  6.089315    6.089315   0.0  0.0\n",
       "KRT75          6.136068            0.190374  5.945694    5.945694   0.0  0.0"
      ]
     },
     "execution_count": 23,
     "metadata": {},
     "output_type": "execute_result"
    },
    {
     "data": {
      "application/javascript": [
       "\n",
       "            setTimeout(function() {\n",
       "                var nbb_cell_id = 23;\n",
       "                var nbb_unformatted_code = \"marker_results.loc[(marker_results[\\\"fdr\\\"] < 0.05)].sort_values(\\n    \\\"abs_log_fc\\\", ascending=False\\n).head(10)\";\n",
       "                var nbb_formatted_code = \"marker_results.loc[(marker_results[\\\"fdr\\\"] < 0.05)].sort_values(\\n    \\\"abs_log_fc\\\", ascending=False\\n).head(10)\";\n",
       "                var nbb_cells = Jupyter.notebook.get_cells();\n",
       "                for (var i = 0; i < nbb_cells.length; ++i) {\n",
       "                    if (nbb_cells[i].input_prompt_number == nbb_cell_id) {\n",
       "                        if (nbb_cells[i].get_text() == nbb_unformatted_code) {\n",
       "                             nbb_cells[i].set_text(nbb_formatted_code);\n",
       "                        }\n",
       "                        break;\n",
       "                    }\n",
       "                }\n",
       "            }, 500);\n",
       "            "
      ],
      "text/plain": [
       "<IPython.core.display.Javascript object>"
      ]
     },
     "metadata": {},
     "output_type": "display_data"
    }
   ],
   "source": [
    "marker_results.loc[(marker_results[\"fdr\"] < 0.05)].sort_values(\n",
    "    \"abs_log_fc\", ascending=False\n",
    ").head(10)"
   ]
  },
  {
   "cell_type": "markdown",
   "id": "4aaea0f2",
   "metadata": {},
   "source": [
    "The absolute log-fold change for those roughly 13k genes exponentially decays with the maximum being 8.649. The figure below shows the absolute log-fold change for each gene in decreasing order."
   ]
  },
  {
   "cell_type": "code",
   "execution_count": 24,
   "id": "8df24b46",
   "metadata": {},
   "outputs": [
    {
     "data": {
      "image/png": "[encoded data removed]",
      "text/plain": [
       "<Figure size 432x288 with 1 Axes>"
      ]
     },
     "metadata": {
      "needs_background": "light"
     },
     "output_type": "display_data"
    },
    {
     "data": {
      "application/javascript": [
       "\n",
       "            setTimeout(function() {\n",
       "                var nbb_cell_id = 24;\n",
       "                var nbb_unformatted_code = \"plt.figure()\\nplt.plot(\\n    list(range(len(marker_results))),\\n    np.array(\\n        marker_results.sort_values(\\\"abs_log_fc\\\", ascending=False).loc[:, \\\"abs_log_fc\\\"]\\n    ),\\n)\\nplt.ylabel(\\\"Absolute logFC\\\")\\nplt.xlabel(\\\"Gene ID\\\")\\nplt.title(\\\"Absolute logFC of the expression in U2OS cells vs. other cancer cells\\\")\\nplt.show()\";\n",
       "                var nbb_formatted_code = \"plt.figure()\\nplt.plot(\\n    list(range(len(marker_results))),\\n    np.array(\\n        marker_results.sort_values(\\\"abs_log_fc\\\", ascending=False).loc[:, \\\"abs_log_fc\\\"]\\n    ),\\n)\\nplt.ylabel(\\\"Absolute logFC\\\")\\nplt.xlabel(\\\"Gene ID\\\")\\nplt.title(\\\"Absolute logFC of the expression in U2OS cells vs. other cancer cells\\\")\\nplt.show()\";\n",
       "                var nbb_cells = Jupyter.notebook.get_cells();\n",
       "                for (var i = 0; i < nbb_cells.length; ++i) {\n",
       "                    if (nbb_cells[i].input_prompt_number == nbb_cell_id) {\n",
       "                        if (nbb_cells[i].get_text() == nbb_unformatted_code) {\n",
       "                             nbb_cells[i].set_text(nbb_formatted_code);\n",
       "                        }\n",
       "                        break;\n",
       "                    }\n",
       "                }\n",
       "            }, 500);\n",
       "            "
      ],
      "text/plain": [
       "<IPython.core.display.Javascript object>"
      ]
     },
     "metadata": {},
     "output_type": "display_data"
    }
   ],
   "source": [
    "plt.figure()\n",
    "plt.plot(\n",
    "    list(range(len(marker_results))),\n",
    "    np.array(\n",
    "        marker_results.sort_values(\"abs_log_fc\", ascending=False).loc[:, \"abs_log_fc\"]\n",
    "    ),\n",
    ")\n",
    "plt.ylabel(\"Absolute logFC\")\n",
    "plt.xlabel(\"Gene ID\")\n",
    "plt.title(\"Absolute logFC of the expression in U2OS cells vs. other cancer cells\")\n",
    "plt.show()"
   ]
  },
  {
   "cell_type": "markdown",
   "id": "8b409f27",
   "metadata": {},
   "source": [
    "\n",
    "---\n",
    "\n",
    "### 2b. The ORF targets as U2OS marker"
   ]
  },
  {
   "cell_type": "markdown",
   "id": "e9e17a4d",
   "metadata": {},
   "source": [
    "Next, we look a little bit more in depth at the genes that were targeted in the image-based over-expression screen by Rohban et al (2017). Those genes are of particular interest for our study. Even more important are those genes that showed a specific structural phenotype different from the control setting upon over-expression. This has been evaluated in our preceeding specificity screen. Please refer to the corresponding notebook for further explanation on this step."
   ]
  },
  {
   "cell_type": "markdown",
   "id": "209c75d2",
   "metadata": {},
   "source": [
    "The plots below show the previously computed absolute log-fold change for the 185 ORF targets that are covered by the human PPI and both RNAseq data sets."
   ]
  },
  {
   "cell_type": "code",
   "execution_count": 25,
   "id": "dacff4a1",
   "metadata": {},
   "outputs": [
    {
     "data": {
      "image/png": "[encoded data removed]",
      "text/plain": [
       "<Figure size 1008x432 with 1 Axes>"
      ]
     },
     "metadata": {
      "needs_background": "light"
     },
     "output_type": "display_data"
    },
    {
     "data": {
      "application/javascript": [
       "\n",
       "            setTimeout(function() {\n",
       "                var nbb_cell_id = 25;\n",
       "                var nbb_unformatted_code = \"orf_log_fc = marker_results.loc[\\n    set(list(marker_results.index)).intersection(orf_targets), \\\"log_fc\\\"\\n]\\norf_log_fc.sort_index().iloc[:60].plot.bar(figsize=[14, 6], color=\\\"tab:green\\\")\\nplt.ylabel(\\\"log fold-change\\\")\\nplt.title(\\n    \\\"Log-fold change of the ORF targets comparing U2OS against other cancer cell lines\\\"\\n)\\nplt.show()\";\n",
       "                var nbb_formatted_code = \"orf_log_fc = marker_results.loc[\\n    set(list(marker_results.index)).intersection(orf_targets), \\\"log_fc\\\"\\n]\\norf_log_fc.sort_index().iloc[:60].plot.bar(figsize=[14, 6], color=\\\"tab:green\\\")\\nplt.ylabel(\\\"log fold-change\\\")\\nplt.title(\\n    \\\"Log-fold change of the ORF targets comparing U2OS against other cancer cell lines\\\"\\n)\\nplt.show()\";\n",
       "                var nbb_cells = Jupyter.notebook.get_cells();\n",
       "                for (var i = 0; i < nbb_cells.length; ++i) {\n",
       "                    if (nbb_cells[i].input_prompt_number == nbb_cell_id) {\n",
       "                        if (nbb_cells[i].get_text() == nbb_unformatted_code) {\n",
       "                             nbb_cells[i].set_text(nbb_formatted_code);\n",
       "                        }\n",
       "                        break;\n",
       "                    }\n",
       "                }\n",
       "            }, 500);\n",
       "            "
      ],
      "text/plain": [
       "<IPython.core.display.Javascript object>"
      ]
     },
     "metadata": {},
     "output_type": "display_data"
    }
   ],
   "source": [
    "orf_log_fc = marker_results.loc[\n",
    "    set(list(marker_results.index)).intersection(orf_targets), \"log_fc\"\n",
    "]\n",
    "orf_log_fc.sort_index().iloc[:60].plot.bar(figsize=[14, 6], color=\"tab:green\")\n",
    "plt.ylabel(\"log fold-change\")\n",
    "plt.title(\n",
    "    \"Log-fold change of the ORF targets comparing U2OS against other cancer cell lines\"\n",
    ")\n",
    "plt.show()"
   ]
  },
  {
   "cell_type": "code",
   "execution_count": 26,
   "id": "eb84a8aa",
   "metadata": {},
   "outputs": [
    {
     "data": {
      "image/png": "[encoded data removed]",
      "text/plain": [
       "<Figure size 1008x432 with 1 Axes>"
      ]
     },
     "metadata": {
      "needs_background": "light"
     },
     "output_type": "display_data"
    },
    {
     "data": {
      "application/javascript": [
       "\n",
       "            setTimeout(function() {\n",
       "                var nbb_cell_id = 26;\n",
       "                var nbb_unformatted_code = \"orf_log_fc.sort_index().iloc[60:120].plot.bar(figsize=[14, 6], color=\\\"tab:green\\\")\\nplt.ylabel(\\\"log fold-change\\\")\\nplt.title(\\n    \\\"Log-fold change of the ORF targets comparing U2OS against other cancer cell lines\\\"\\n)\\nplt.show()\";\n",
       "                var nbb_formatted_code = \"orf_log_fc.sort_index().iloc[60:120].plot.bar(figsize=[14, 6], color=\\\"tab:green\\\")\\nplt.ylabel(\\\"log fold-change\\\")\\nplt.title(\\n    \\\"Log-fold change of the ORF targets comparing U2OS against other cancer cell lines\\\"\\n)\\nplt.show()\";\n",
       "                var nbb_cells = Jupyter.notebook.get_cells();\n",
       "                for (var i = 0; i < nbb_cells.length; ++i) {\n",
       "                    if (nbb_cells[i].input_prompt_number == nbb_cell_id) {\n",
       "                        if (nbb_cells[i].get_text() == nbb_unformatted_code) {\n",
       "                             nbb_cells[i].set_text(nbb_formatted_code);\n",
       "                        }\n",
       "                        break;\n",
       "                    }\n",
       "                }\n",
       "            }, 500);\n",
       "            "
      ],
      "text/plain": [
       "<IPython.core.display.Javascript object>"
      ]
     },
     "metadata": {},
     "output_type": "display_data"
    }
   ],
   "source": [
    "orf_log_fc.sort_index().iloc[60:120].plot.bar(figsize=[14, 6], color=\"tab:green\")\n",
    "plt.ylabel(\"log fold-change\")\n",
    "plt.title(\n",
    "    \"Log-fold change of the ORF targets comparing U2OS against other cancer cell lines\"\n",
    ")\n",
    "plt.show()"
   ]
  },
  {
   "cell_type": "code",
   "execution_count": 27,
   "id": "f4feab89",
   "metadata": {},
   "outputs": [
    {
     "data": {
      "image/png": "[encoded data removed]",
      "text/plain": [
       "<Figure size 1008x432 with 1 Axes>"
      ]
     },
     "metadata": {
      "needs_background": "light"
     },
     "output_type": "display_data"
    },
    {
     "data": {
      "application/javascript": [
       "\n",
       "            setTimeout(function() {\n",
       "                var nbb_cell_id = 27;\n",
       "                var nbb_unformatted_code = \"orf_log_fc.sort_index().iloc[120:].plot.bar(figsize=[14, 6], color=\\\"tab:green\\\")\\nplt.ylabel(\\\"log fold-change\\\")\\nplt.title(\\n    \\\"Log-fold change of the ORF targets comparing U2OS against other cancer cell lines\\\"\\n)\\nplt.show()\";\n",
       "                var nbb_formatted_code = \"orf_log_fc.sort_index().iloc[120:].plot.bar(figsize=[14, 6], color=\\\"tab:green\\\")\\nplt.ylabel(\\\"log fold-change\\\")\\nplt.title(\\n    \\\"Log-fold change of the ORF targets comparing U2OS against other cancer cell lines\\\"\\n)\\nplt.show()\";\n",
       "                var nbb_cells = Jupyter.notebook.get_cells();\n",
       "                for (var i = 0; i < nbb_cells.length; ++i) {\n",
       "                    if (nbb_cells[i].input_prompt_number == nbb_cell_id) {\n",
       "                        if (nbb_cells[i].get_text() == nbb_unformatted_code) {\n",
       "                             nbb_cells[i].set_text(nbb_formatted_code);\n",
       "                        }\n",
       "                        break;\n",
       "                    }\n",
       "                }\n",
       "            }, 500);\n",
       "            "
      ],
      "text/plain": [
       "<IPython.core.display.Javascript object>"
      ]
     },
     "metadata": {},
     "output_type": "display_data"
    }
   ],
   "source": [
    "orf_log_fc.sort_index().iloc[120:].plot.bar(figsize=[14, 6], color=\"tab:green\")\n",
    "plt.ylabel(\"log fold-change\")\n",
    "plt.title(\n",
    "    \"Log-fold change of the ORF targets comparing U2OS against other cancer cell lines\"\n",
    ")\n",
    "plt.show()"
   ]
  },
  {
   "cell_type": "markdown",
   "id": "4cfa699b",
   "metadata": {},
   "source": [
    "We see a quite heterogenous distribution of the absolute log-fold change for the individual ORF targets as also visualized in the histogram below."
   ]
  },
  {
   "cell_type": "code",
   "execution_count": 28,
   "id": "224045c9",
   "metadata": {},
   "outputs": [
    {
     "data": {
      "image/png": "[encoded data removed]",
      "text/plain": [
       "<Figure size 432x288 with 1 Axes>"
      ]
     },
     "metadata": {
      "needs_background": "light"
     },
     "output_type": "display_data"
    },
    {
     "data": {
      "application/javascript": [
       "\n",
       "            setTimeout(function() {\n",
       "                var nbb_cell_id = 28;\n",
       "                var nbb_unformatted_code = \"orf_abs_log_fc = marker_results.loc[\\n    set(list(marker_results.index)).intersection(orf_targets), \\\"abs_log_fc\\\"\\n]\\nfig = plt.figure()\\nsns.histplot(data=orf_abs_log_fc, bins=20)\\nplt.title(\\\"Distribution of the abs. logFC for the ORF targets\\\")\\nplt.show()\";\n",
       "                var nbb_formatted_code = \"orf_abs_log_fc = marker_results.loc[\\n    set(list(marker_results.index)).intersection(orf_targets), \\\"abs_log_fc\\\"\\n]\\nfig = plt.figure()\\nsns.histplot(data=orf_abs_log_fc, bins=20)\\nplt.title(\\\"Distribution of the abs. logFC for the ORF targets\\\")\\nplt.show()\";\n",
       "                var nbb_cells = Jupyter.notebook.get_cells();\n",
       "                for (var i = 0; i < nbb_cells.length; ++i) {\n",
       "                    if (nbb_cells[i].input_prompt_number == nbb_cell_id) {\n",
       "                        if (nbb_cells[i].get_text() == nbb_unformatted_code) {\n",
       "                             nbb_cells[i].set_text(nbb_formatted_code);\n",
       "                        }\n",
       "                        break;\n",
       "                    }\n",
       "                }\n",
       "            }, 500);\n",
       "            "
      ],
      "text/plain": [
       "<IPython.core.display.Javascript object>"
      ]
     },
     "metadata": {},
     "output_type": "display_data"
    }
   ],
   "source": [
    "orf_abs_log_fc = marker_results.loc[\n",
    "    set(list(marker_results.index)).intersection(orf_targets), \"abs_log_fc\"\n",
    "]\n",
    "fig = plt.figure()\n",
    "sns.histplot(data=orf_abs_log_fc, bins=20)\n",
    "plt.title(\"Distribution of the abs. logFC for the ORF targets\")\n",
    "plt.show()"
   ]
  },
  {
   "cell_type": "markdown",
   "id": "d3ba60e7",
   "metadata": {},
   "source": [
    "Importantly, we see that many ORF targets are not strongly differentially regulated in U2OS cells when compared to other cancer cell lines. This also holds true for those target genes that yielded a specific structural phenotype upon overexpression in the image-based study."
   ]
  },
  {
   "cell_type": "code",
   "execution_count": 29,
   "id": "c8426dc8",
   "metadata": {},
   "outputs": [
    {
     "data": {
      "image/png": "[encoded data removed]",
      "text/plain": [
       "<Figure size 1008x432 with 1 Axes>"
      ]
     },
     "metadata": {
      "needs_background": "light"
     },
     "output_type": "display_data"
    },
    {
     "data": {
      "application/javascript": [
       "\n",
       "            setTimeout(function() {\n",
       "                var nbb_cell_id = 29;\n",
       "                var nbb_unformatted_code = \"specific_targets_abs_log_fc = marker_results.loc[\\n    set(list(marker_results.index)).intersection(specific_targets), \\\"log_fc\\\"\\n]\\nspecific_targets_abs_log_fc.sort_index().plot.bar(figsize=[14, 6], color=\\\"tab:green\\\")\\nplt.ylabel(\\\"log fold-change\\\")\\nplt.title(\\n    \\\"Log-fold change of the specific ORF targets comparing U2OS against other cancer cell lines\\\"\\n)\\nplt.show()\";\n",
       "                var nbb_formatted_code = \"specific_targets_abs_log_fc = marker_results.loc[\\n    set(list(marker_results.index)).intersection(specific_targets), \\\"log_fc\\\"\\n]\\nspecific_targets_abs_log_fc.sort_index().plot.bar(figsize=[14, 6], color=\\\"tab:green\\\")\\nplt.ylabel(\\\"log fold-change\\\")\\nplt.title(\\n    \\\"Log-fold change of the specific ORF targets comparing U2OS against other cancer cell lines\\\"\\n)\\nplt.show()\";\n",
       "                var nbb_cells = Jupyter.notebook.get_cells();\n",
       "                for (var i = 0; i < nbb_cells.length; ++i) {\n",
       "                    if (nbb_cells[i].input_prompt_number == nbb_cell_id) {\n",
       "                        if (nbb_cells[i].get_text() == nbb_unformatted_code) {\n",
       "                             nbb_cells[i].set_text(nbb_formatted_code);\n",
       "                        }\n",
       "                        break;\n",
       "                    }\n",
       "                }\n",
       "            }, 500);\n",
       "            "
      ],
      "text/plain": [
       "<IPython.core.display.Javascript object>"
      ]
     },
     "metadata": {},
     "output_type": "display_data"
    }
   ],
   "source": [
    "specific_targets_abs_log_fc = marker_results.loc[\n",
    "    set(list(marker_results.index)).intersection(specific_targets), \"log_fc\"\n",
    "]\n",
    "specific_targets_abs_log_fc.sort_index().plot.bar(figsize=[14, 6], color=\"tab:green\")\n",
    "plt.ylabel(\"log fold-change\")\n",
    "plt.title(\n",
    "    \"Log-fold change of the specific ORF targets comparing U2OS against other cancer cell lines\"\n",
    ")\n",
    "plt.show()"
   ]
  },
  {
   "cell_type": "markdown",
   "id": "8f336d4f",
   "metadata": {},
   "source": [
    "Importantly, with the exception of CEBPA all of those genes are fairly high expressed in wild-type U2OS cells."
   ]
  },
  {
   "cell_type": "code",
   "execution_count": 30,
   "id": "1114382c",
   "metadata": {},
   "outputs": [
    {
     "data": {
      "image/png": "[encoded data removed]",
      "text/plain": [
       "<Figure size 1008x432 with 1 Axes>"
      ]
     },
     "metadata": {
      "needs_background": "light"
     },
     "output_type": "display_data"
    },
    {
     "data": {
      "application/javascript": [
       "\n",
       "            setTimeout(function() {\n",
       "                var nbb_cell_id = 30;\n",
       "                var nbb_unformatted_code = \"fucci_data.loc[:, sorted(specific_targets)].mean().plot.bar(figsize=[14, 6])\\nplt.ylabel(\\\"log(x+1) expression\\\")\\nplt.title(\\\"Gene expression of the specific ORF targets in the wildtype setting\\\")\\nplt.show()\";\n",
       "                var nbb_formatted_code = \"fucci_data.loc[:, sorted(specific_targets)].mean().plot.bar(figsize=[14, 6])\\nplt.ylabel(\\\"log(x+1) expression\\\")\\nplt.title(\\\"Gene expression of the specific ORF targets in the wildtype setting\\\")\\nplt.show()\";\n",
       "                var nbb_cells = Jupyter.notebook.get_cells();\n",
       "                for (var i = 0; i < nbb_cells.length; ++i) {\n",
       "                    if (nbb_cells[i].input_prompt_number == nbb_cell_id) {\n",
       "                        if (nbb_cells[i].get_text() == nbb_unformatted_code) {\n",
       "                             nbb_cells[i].set_text(nbb_formatted_code);\n",
       "                        }\n",
       "                        break;\n",
       "                    }\n",
       "                }\n",
       "            }, 500);\n",
       "            "
      ],
      "text/plain": [
       "<IPython.core.display.Javascript object>"
      ]
     },
     "metadata": {},
     "output_type": "display_data"
    }
   ],
   "source": [
    "fucci_data.loc[:, sorted(specific_targets)].mean().plot.bar(figsize=[14, 6])\n",
    "plt.ylabel(\"log(x+1) expression\")\n",
    "plt.title(\"Gene expression of the specific ORF targets in the wildtype setting\")\n",
    "plt.show()"
   ]
  },
  {
   "cell_type": "markdown",
   "id": "c5d3a260",
   "metadata": {},
   "source": [
    "We will keep that in mind for later."
   ]
  },
  {
   "cell_type": "markdown",
   "id": "ee7c9ef8",
   "metadata": {},
   "source": [
    "---\n",
    "\n",
    "## 3. Preprocessing the PPI"
   ]
  },
  {
   "cell_type": "markdown",
   "id": "a31e497e",
   "metadata": {},
   "source": [
    "After assessing the importance of each of the genes in our selected gene set as markers of U2OS cells when comparing them to other cancer cell lines, we will now turn to the human PPI. The human PPI as curated in the iRefIndex data base is constructed based on many different data sources and thus provides a rather general description of the interactive relationships of proteins respective the genes that code for those in human cell lines."
   ]
  },
  {
   "cell_type": "markdown",
   "id": "dbdfb133",
   "metadata": {},
   "source": [
    "To derive a subnetwork that is specific to U2OS cells and well capture the specific regulatory relationships of our selected gene sets in those cells, we will perform a number of preprocessing steps. \n",
    "\n",
    "\n",
    "### 3.1. Remove uncovered genes\n",
    "\n",
    "As an initial step we will focus on the subnetwork that we obtain by filtering out all genes that are not covered in both of the RNAseq data sets."
   ]
  },
  {
   "cell_type": "code",
   "execution_count": 31,
   "id": "d3ab3dd6",
   "metadata": {},
   "outputs": [
    {
     "name": "stdout",
     "output_type": "stream",
     "text": [
      "Name: filtered PPI\n",
      "Type: Graph\n",
      "Number of nodes: 13068\n",
      "Number of edges: 153980\n",
      "Average degree:  23.5660\n"
     ]
    },
    {
     "data": {
      "application/javascript": [
       "\n",
       "            setTimeout(function() {\n",
       "                var nbb_cell_id = 31;\n",
       "                var nbb_unformatted_code = \"filtered_ppi = iref_ppi.subgraph(selected_gene_set)\\nfiltered_ppi.name = \\\"filtered PPI\\\"\\nprint(nx.info(filtered_ppi))\";\n",
       "                var nbb_formatted_code = \"filtered_ppi = iref_ppi.subgraph(selected_gene_set)\\nfiltered_ppi.name = \\\"filtered PPI\\\"\\nprint(nx.info(filtered_ppi))\";\n",
       "                var nbb_cells = Jupyter.notebook.get_cells();\n",
       "                for (var i = 0; i < nbb_cells.length; ++i) {\n",
       "                    if (nbb_cells[i].input_prompt_number == nbb_cell_id) {\n",
       "                        if (nbb_cells[i].get_text() == nbb_unformatted_code) {\n",
       "                             nbb_cells[i].set_text(nbb_formatted_code);\n",
       "                        }\n",
       "                        break;\n",
       "                    }\n",
       "                }\n",
       "            }, 500);\n",
       "            "
      ],
      "text/plain": [
       "<IPython.core.display.Javascript object>"
      ]
     },
     "metadata": {},
     "output_type": "display_data"
    }
   ],
   "source": [
    "filtered_ppi = iref_ppi.subgraph(selected_gene_set)\n",
    "filtered_ppi.name = \"filtered PPI\"\n",
    "print(nx.info(filtered_ppi))"
   ]
  },
  {
   "cell_type": "markdown",
   "id": "144eb8da",
   "metadata": {},
   "source": [
    "The corresponding network consists of 13'068 nodes describing individual genes and 153'980 describing the interactive relationships between these genes."
   ]
  },
  {
   "cell_type": "markdown",
   "id": "be57dfd8",
   "metadata": {},
   "source": [
    "Note that this splits the human PPI into 110 disconnected components. However importantly the largest connected component spans all ORF targets."
   ]
  },
  {
   "cell_type": "code",
   "execution_count": 32,
   "id": "9017c189",
   "metadata": {},
   "outputs": [
    {
     "name": "stdout",
     "output_type": "stream",
     "text": [
      "Name: filtered PPI\n",
      "Type: Graph\n",
      "Number of nodes: 12956\n",
      "Number of edges: 153977\n",
      "Average degree:  23.7692\n"
     ]
    },
    {
     "data": {
      "application/javascript": [
       "\n",
       "            setTimeout(function() {\n",
       "                var nbb_cell_id = 32;\n",
       "                var nbb_unformatted_code = \"ccomps = [\\n    filtered_ppi.subgraph(c).copy() for c in nx.connected_components(filtered_ppi)\\n]\\nfiltered_ppi = ccomps[0]\\n\\nprint(nx.info(filtered_ppi))\";\n",
       "                var nbb_formatted_code = \"ccomps = [\\n    filtered_ppi.subgraph(c).copy() for c in nx.connected_components(filtered_ppi)\\n]\\nfiltered_ppi = ccomps[0]\\n\\nprint(nx.info(filtered_ppi))\";\n",
       "                var nbb_cells = Jupyter.notebook.get_cells();\n",
       "                for (var i = 0; i < nbb_cells.length; ++i) {\n",
       "                    if (nbb_cells[i].input_prompt_number == nbb_cell_id) {\n",
       "                        if (nbb_cells[i].get_text() == nbb_unformatted_code) {\n",
       "                             nbb_cells[i].set_text(nbb_formatted_code);\n",
       "                        }\n",
       "                        break;\n",
       "                    }\n",
       "                }\n",
       "            }, 500);\n",
       "            "
      ],
      "text/plain": [
       "<IPython.core.display.Javascript object>"
      ]
     },
     "metadata": {},
     "output_type": "display_data"
    }
   ],
   "source": [
    "ccomps = [\n",
    "    filtered_ppi.subgraph(c).copy() for c in nx.connected_components(filtered_ppi)\n",
    "]\n",
    "filtered_ppi = ccomps[0]\n",
    "\n",
    "print(nx.info(filtered_ppi))"
   ]
  },
  {
   "cell_type": "markdown",
   "id": "8aa6479e",
   "metadata": {},
   "source": [
    "This network consists of 12'956 nodes and 153'977 edges with an average degree of 23.76 ."
   ]
  },
  {
   "cell_type": "markdown",
   "id": "0a2b2558",
   "metadata": {},
   "source": [
    "---\n",
    "\n",
    "### 3.2. Removing of low-confidence edges"
   ]
  },
  {
   "cell_type": "markdown",
   "id": "b734a38f",
   "metadata": {},
   "source": [
    "The iRefIndex data base does also contain information regarding the uncertainty of the existance of an edge between any two nodes in form of the so called MIscore."
   ]
  },
  {
   "cell_type": "markdown",
   "id": "986af1b9",
   "metadata": {},
   "source": [
    "In the following we will prune the PPI to remove low-confidence edges and respective disconnected components. To this end, we first aim to find a cut-off for the given edge costs that correspond to a measure of uncertainty for the existance of an interaction in the PPI between any pair of nodes."
   ]
  },
  {
   "cell_type": "code",
   "execution_count": 33,
   "id": "13185456",
   "metadata": {},
   "outputs": [
    {
     "name": "stderr",
     "output_type": "stream",
     "text": [
      "100%|██████████| 1000/1000 [01:40<00:00,  9.95it/s]\n"
     ]
    },
    {
     "data": {
      "application/javascript": [
       "\n",
       "            setTimeout(function() {\n",
       "                var nbb_cell_id = 33;\n",
       "                var nbb_unformatted_code = \"confidence_cutoff_search_results = search_for_confidence_cutoff(\\n    filtered_ppi, targets=orf_targets\\n)\";\n",
       "                var nbb_formatted_code = \"confidence_cutoff_search_results = search_for_confidence_cutoff(\\n    filtered_ppi, targets=orf_targets\\n)\";\n",
       "                var nbb_cells = Jupyter.notebook.get_cells();\n",
       "                for (var i = 0; i < nbb_cells.length; ++i) {\n",
       "                    if (nbb_cells[i].input_prompt_number == nbb_cell_id) {\n",
       "                        if (nbb_cells[i].get_text() == nbb_unformatted_code) {\n",
       "                             nbb_cells[i].set_text(nbb_formatted_code);\n",
       "                        }\n",
       "                        break;\n",
       "                    }\n",
       "                }\n",
       "            }, 500);\n",
       "            "
      ],
      "text/plain": [
       "<IPython.core.display.Javascript object>"
      ]
     },
     "metadata": {},
     "output_type": "display_data"
    }
   ],
   "source": [
    "confidence_cutoff_search_results = search_for_confidence_cutoff(\n",
    "    filtered_ppi, targets=orf_targets\n",
    ")"
   ]
  },
  {
   "cell_type": "markdown",
   "id": "dbc0e5ce",
   "metadata": {},
   "source": [
    "The plots below illustrate the number of nodes, number of edges the average degree and the number of covered ORF targets for different cutoff values for the certainty of the respective edges of the subgraph of the human PPI induced by selecting only those gene covered by the scRNA-seq data set."
   ]
  },
  {
   "cell_type": "code",
   "execution_count": 34,
   "id": "3ee4c27b",
   "metadata": {},
   "outputs": [
    {
     "data": {
      "image/png": "[encoded data removed]",
      "text/plain": [
       "<Figure size 720x576 with 4 Axes>"
      ]
     },
     "metadata": {
      "needs_background": "light"
     },
     "output_type": "display_data"
    },
    {
     "data": {
      "application/javascript": [
       "\n",
       "            setTimeout(function() {\n",
       "                var nbb_cell_id = 34;\n",
       "                var nbb_unformatted_code = \"fig, ax = plt.subplots(nrows=2, ncols=2, figsize=[10, 8])\\nax = ax.flatten()\\nsns.lineplot(data=confidence_cutoff_search_results, x=\\\"cutoff\\\", y=\\\"n_nodes\\\", ax=ax[0])\\nax[0].axvline(x=0.562, color=\\\"r\\\")\\nsns.lineplot(data=confidence_cutoff_search_results, x=\\\"cutoff\\\", y=\\\"n_edges\\\", ax=ax[1])\\nax[1].axvline(x=0.562, color=\\\"r\\\")\\nsns.lineplot(data=confidence_cutoff_search_results, x=\\\"cutoff\\\", y=\\\"n_targets\\\", ax=ax[2])\\nax[2].axvline(x=0.562, color=\\\"r\\\")\\nsns.lineplot(\\n    data=confidence_cutoff_search_results, x=\\\"cutoff\\\", y=\\\"avg_degree\\\", ax=ax[3]\\n)\\nax[3].axvline(x=0.562, color=\\\"r\\\")\\nplt.show()\";\n",
       "                var nbb_formatted_code = \"fig, ax = plt.subplots(nrows=2, ncols=2, figsize=[10, 8])\\nax = ax.flatten()\\nsns.lineplot(data=confidence_cutoff_search_results, x=\\\"cutoff\\\", y=\\\"n_nodes\\\", ax=ax[0])\\nax[0].axvline(x=0.562, color=\\\"r\\\")\\nsns.lineplot(data=confidence_cutoff_search_results, x=\\\"cutoff\\\", y=\\\"n_edges\\\", ax=ax[1])\\nax[1].axvline(x=0.562, color=\\\"r\\\")\\nsns.lineplot(data=confidence_cutoff_search_results, x=\\\"cutoff\\\", y=\\\"n_targets\\\", ax=ax[2])\\nax[2].axvline(x=0.562, color=\\\"r\\\")\\nsns.lineplot(\\n    data=confidence_cutoff_search_results, x=\\\"cutoff\\\", y=\\\"avg_degree\\\", ax=ax[3]\\n)\\nax[3].axvline(x=0.562, color=\\\"r\\\")\\nplt.show()\";\n",
       "                var nbb_cells = Jupyter.notebook.get_cells();\n",
       "                for (var i = 0; i < nbb_cells.length; ++i) {\n",
       "                    if (nbb_cells[i].input_prompt_number == nbb_cell_id) {\n",
       "                        if (nbb_cells[i].get_text() == nbb_unformatted_code) {\n",
       "                             nbb_cells[i].set_text(nbb_formatted_code);\n",
       "                        }\n",
       "                        break;\n",
       "                    }\n",
       "                }\n",
       "            }, 500);\n",
       "            "
      ],
      "text/plain": [
       "<IPython.core.display.Javascript object>"
      ]
     },
     "metadata": {},
     "output_type": "display_data"
    }
   ],
   "source": [
    "fig, ax = plt.subplots(nrows=2, ncols=2, figsize=[10, 8])\n",
    "ax = ax.flatten()\n",
    "sns.lineplot(data=confidence_cutoff_search_results, x=\"cutoff\", y=\"n_nodes\", ax=ax[0])\n",
    "ax[0].axvline(x=0.562, color=\"r\")\n",
    "sns.lineplot(data=confidence_cutoff_search_results, x=\"cutoff\", y=\"n_edges\", ax=ax[1])\n",
    "ax[1].axvline(x=0.562, color=\"r\")\n",
    "sns.lineplot(data=confidence_cutoff_search_results, x=\"cutoff\", y=\"n_targets\", ax=ax[2])\n",
    "ax[2].axvline(x=0.562, color=\"r\")\n",
    "sns.lineplot(\n",
    "    data=confidence_cutoff_search_results, x=\"cutoff\", y=\"avg_degree\", ax=ax[3]\n",
    ")\n",
    "ax[3].axvline(x=0.562, color=\"r\")\n",
    "plt.show()"
   ]
  },
  {
   "cell_type": "markdown",
   "id": "813dc82c",
   "metadata": {},
   "source": [
    "We see that the average degree and the number of edges jumps at a level around 0.6. Importantly, at this point all 185 ORF targets are already included in the graph. Thus, we will prune the network to remove all edges with a cost higher than the highest edge prize connecting any of the targets, i.e. the minimum cutoff value for which the number of targets that are covered in the respective subgraph are 185."
   ]
  },
  {
   "cell_type": "code",
   "execution_count": 35,
   "id": "58f83b53",
   "metadata": {},
   "outputs": [
    {
     "data": {
      "text/html": [
       "<div>\n",
       "<style scoped>\n",
       "    .dataframe tbody tr th:only-of-type {\n",
       "        vertical-align: middle;\n",
       "    }\n",
       "\n",
       "    .dataframe tbody tr th {\n",
       "        vertical-align: top;\n",
       "    }\n",
       "\n",
       "    .dataframe thead th {\n",
       "        text-align: right;\n",
       "    }\n",
       "</style>\n",
       "<table border=\"1\" class=\"dataframe\">\n",
       "  <thead>\n",
       "    <tr style=\"text-align: right;\">\n",
       "      <th></th>\n",
       "      <th>cutoff</th>\n",
       "      <th>n_nodes</th>\n",
       "      <th>n_targets</th>\n",
       "      <th>n_edges</th>\n",
       "      <th>avg_degree</th>\n",
       "    </tr>\n",
       "  </thead>\n",
       "  <tbody>\n",
       "    <tr>\n",
       "      <th>562</th>\n",
       "      <td>0.562</td>\n",
       "      <td>10864</td>\n",
       "      <td>185</td>\n",
       "      <td>54485</td>\n",
       "      <td>10.030376</td>\n",
       "    </tr>\n",
       "  </tbody>\n",
       "</table>\n",
       "</div>"
      ],
      "text/plain": [
       "     cutoff  n_nodes  n_targets  n_edges  avg_degree\n",
       "562   0.562    10864        185    54485   10.030376"
      ]
     },
     "execution_count": 35,
     "metadata": {},
     "output_type": "execute_result"
    },
    {
     "data": {
      "application/javascript": [
       "\n",
       "            setTimeout(function() {\n",
       "                var nbb_cell_id = 35;\n",
       "                var nbb_unformatted_code = \"confidence_cutoff_search_results.loc[\\n    confidence_cutoff_search_results[\\\"n_targets\\\"] == 185\\n].sort_values(\\\"cutoff\\\").head(1)\";\n",
       "                var nbb_formatted_code = \"confidence_cutoff_search_results.loc[\\n    confidence_cutoff_search_results[\\\"n_targets\\\"] == 185\\n].sort_values(\\\"cutoff\\\").head(1)\";\n",
       "                var nbb_cells = Jupyter.notebook.get_cells();\n",
       "                for (var i = 0; i < nbb_cells.length; ++i) {\n",
       "                    if (nbb_cells[i].input_prompt_number == nbb_cell_id) {\n",
       "                        if (nbb_cells[i].get_text() == nbb_unformatted_code) {\n",
       "                             nbb_cells[i].set_text(nbb_formatted_code);\n",
       "                        }\n",
       "                        break;\n",
       "                    }\n",
       "                }\n",
       "            }, 500);\n",
       "            "
      ],
      "text/plain": [
       "<IPython.core.display.Javascript object>"
      ]
     },
     "metadata": {},
     "output_type": "display_data"
    }
   ],
   "source": [
    "confidence_cutoff_search_results.loc[\n",
    "    confidence_cutoff_search_results[\"n_targets\"] == 185\n",
    "].sort_values(\"cutoff\").head(1)"
   ]
  },
  {
   "cell_type": "markdown",
   "id": "e182dd7e",
   "metadata": {},
   "source": [
    "That is the case for a cutoff of 0.562. At this point the induced subgraph consists of 10'900 nodes and 54'592 edges and an average node degree of 10.02."
   ]
  },
  {
   "cell_type": "code",
   "execution_count": 36,
   "id": "a3fab51a",
   "metadata": {},
   "outputs": [
    {
     "data": {
      "application/javascript": [
       "\n",
       "            setTimeout(function() {\n",
       "                var nbb_cell_id = 36;\n",
       "                var nbb_unformatted_code = \"filtered_ppi_edge_list = nx.to_pandas_edgelist(filtered_ppi)\\nfiltered_ppi_edge_list.loc[:, \\\"mi_score\\\"] = np.array(filtered_ppi_edge_list[\\\"cost\\\"])\\npruned_ppi = nx.from_pandas_edgelist(\\n    filtered_ppi_edge_list.loc[filtered_ppi_edge_list[\\\"cost\\\"] < 0.562, :],\\n    edge_attr=\\\"mi_score\\\",\\n)\";\n",
       "                var nbb_formatted_code = \"filtered_ppi_edge_list = nx.to_pandas_edgelist(filtered_ppi)\\nfiltered_ppi_edge_list.loc[:, \\\"mi_score\\\"] = np.array(filtered_ppi_edge_list[\\\"cost\\\"])\\npruned_ppi = nx.from_pandas_edgelist(\\n    filtered_ppi_edge_list.loc[filtered_ppi_edge_list[\\\"cost\\\"] < 0.562, :],\\n    edge_attr=\\\"mi_score\\\",\\n)\";\n",
       "                var nbb_cells = Jupyter.notebook.get_cells();\n",
       "                for (var i = 0; i < nbb_cells.length; ++i) {\n",
       "                    if (nbb_cells[i].input_prompt_number == nbb_cell_id) {\n",
       "                        if (nbb_cells[i].get_text() == nbb_unformatted_code) {\n",
       "                             nbb_cells[i].set_text(nbb_formatted_code);\n",
       "                        }\n",
       "                        break;\n",
       "                    }\n",
       "                }\n",
       "            }, 500);\n",
       "            "
      ],
      "text/plain": [
       "<IPython.core.display.Javascript object>"
      ]
     },
     "metadata": {},
     "output_type": "display_data"
    }
   ],
   "source": [
    "filtered_ppi_edge_list = nx.to_pandas_edgelist(filtered_ppi)\n",
    "filtered_ppi_edge_list.loc[:, \"mi_score\"] = np.array(filtered_ppi_edge_list[\"cost\"])\n",
    "pruned_ppi = nx.from_pandas_edgelist(\n",
    "    filtered_ppi_edge_list.loc[filtered_ppi_edge_list[\"cost\"] < 0.562, :],\n",
    "    edge_attr=\"mi_score\",\n",
    ")"
   ]
  },
  {
   "cell_type": "markdown",
   "id": "ef06f6f3",
   "metadata": {},
   "source": [
    "The pruned PPI consists of 26 connected components. Importantly, all 185 ORF targets are covered in the largest connected component that spans 10'809 nodes and 54'455 edges."
   ]
  },
  {
   "cell_type": "code",
   "execution_count": 57,
   "id": "29660067",
   "metadata": {},
   "outputs": [
    {
     "name": "stdout",
     "output_type": "stream",
     "text": [
      "Number of connected components: 1\n",
      "Name: Largest connected component\n",
      "Type: Graph\n",
      "Number of nodes: 10809\n",
      "Number of edges: 54455\n",
      "Average degree:  10.0759\n"
     ]
    },
    {
     "data": {
      "image/png": "[encoded data removed]",
      "text/plain": [
       "<Figure size 576x576 with 1 Axes>"
      ]
     },
     "metadata": {},
     "output_type": "display_data"
    },
    {
     "data": {
      "application/javascript": [
       "\n",
       "            setTimeout(function() {\n",
       "                var nbb_cell_id = 57;\n",
       "                var nbb_unformatted_code = \"ccomps = [pruned_ppi.subgraph(c).copy() for c in nx.connected_components(pruned_ppi)]\\nprint(\\\"Number of connected components:\\\", len(ccomps))\\nlargest_ccomp = ccomps[0]\\nlargest_ccomp.name = \\\"Largest connected component\\\"\\nax = venn.venn(\\n    dict(\\n        zip(\\n            [\\n                \\\"ORF targets\\\",\\n                \\\"Specific ORF targets\\\",\\n                \\\"Largest connected component\\\",\\n                \\\"TFs\\\",\\n            ],\\n            [orf_targets, specific_targets, set(largest_ccomp.nodes()), human_tfs],\\n        )\\n    ),\\n    legend_loc=\\\"upper center\\\",\\n)\\nprint(nx.info(largest_ccomp))\";\n",
       "                var nbb_formatted_code = \"ccomps = [pruned_ppi.subgraph(c).copy() for c in nx.connected_components(pruned_ppi)]\\nprint(\\\"Number of connected components:\\\", len(ccomps))\\nlargest_ccomp = ccomps[0]\\nlargest_ccomp.name = \\\"Largest connected component\\\"\\nax = venn.venn(\\n    dict(\\n        zip(\\n            [\\n                \\\"ORF targets\\\",\\n                \\\"Specific ORF targets\\\",\\n                \\\"Largest connected component\\\",\\n                \\\"TFs\\\",\\n            ],\\n            [orf_targets, specific_targets, set(largest_ccomp.nodes()), human_tfs],\\n        )\\n    ),\\n    legend_loc=\\\"upper center\\\",\\n)\\nprint(nx.info(largest_ccomp))\";\n",
       "                var nbb_cells = Jupyter.notebook.get_cells();\n",
       "                for (var i = 0; i < nbb_cells.length; ++i) {\n",
       "                    if (nbb_cells[i].input_prompt_number == nbb_cell_id) {\n",
       "                        if (nbb_cells[i].get_text() == nbb_unformatted_code) {\n",
       "                             nbb_cells[i].set_text(nbb_formatted_code);\n",
       "                        }\n",
       "                        break;\n",
       "                    }\n",
       "                }\n",
       "            }, 500);\n",
       "            "
      ],
      "text/plain": [
       "<IPython.core.display.Javascript object>"
      ]
     },
     "metadata": {},
     "output_type": "display_data"
    }
   ],
   "source": [
    "ccomps = [pruned_ppi.subgraph(c).copy() for c in nx.connected_components(pruned_ppi)]\n",
    "print(\"Number of connected components:\", len(ccomps))\n",
    "largest_ccomp = ccomps[0]\n",
    "largest_ccomp.name = \"Largest connected component\"\n",
    "ax = venn.venn(\n",
    "    dict(\n",
    "        zip(\n",
    "            [\n",
    "                \"ORF targets\",\n",
    "                \"Specific ORF targets\",\n",
    "                \"Largest connected component\",\n",
    "                \"TFs\",\n",
    "            ],\n",
    "            [orf_targets, specific_targets, set(largest_ccomp.nodes()), human_tfs],\n",
    "        )\n",
    "    ),\n",
    "    legend_loc=\"upper center\",\n",
    ")\n",
    "print(nx.info(largest_ccomp))"
   ]
  },
  {
   "cell_type": "markdown",
   "id": "93894f4d",
   "metadata": {},
   "source": [
    "Note that this largest component however does no longer include the gene CSNK1E that yields a specific structural phenotype upon overexpression according to our preceeding study."
   ]
  },
  {
   "cell_type": "code",
   "execution_count": 64,
   "id": "31490890",
   "metadata": {},
   "outputs": [
    {
     "data": {
      "text/plain": [
       "{'CSNK1E'}"
      ]
     },
     "execution_count": 64,
     "metadata": {},
     "output_type": "execute_result"
    },
    {
     "data": {
      "application/javascript": [
       "\n",
       "            setTimeout(function() {\n",
       "                var nbb_cell_id = 64;\n",
       "                var nbb_unformatted_code = \"specific_targets - set(largest_ccomp.nodes())\";\n",
       "                var nbb_formatted_code = \"specific_targets - set(largest_ccomp.nodes())\";\n",
       "                var nbb_cells = Jupyter.notebook.get_cells();\n",
       "                for (var i = 0; i < nbb_cells.length; ++i) {\n",
       "                    if (nbb_cells[i].input_prompt_number == nbb_cell_id) {\n",
       "                        if (nbb_cells[i].get_text() == nbb_unformatted_code) {\n",
       "                             nbb_cells[i].set_text(nbb_formatted_code);\n",
       "                        }\n",
       "                        break;\n",
       "                    }\n",
       "                }\n",
       "            }, 500);\n",
       "            "
      ],
      "text/plain": [
       "<IPython.core.display.Javascript object>"
      ]
     },
     "metadata": {},
     "output_type": "display_data"
    }
   ],
   "source": [
    "specific_targets - set(largest_ccomp.nodes())"
   ]
  },
  {
   "cell_type": "markdown",
   "id": "5dc75fe5",
   "metadata": {},
   "source": [
    "Nonetheless, we will continue to work with that largest component for the consecutive analyses."
   ]
  },
  {
   "cell_type": "code",
   "execution_count": 38,
   "id": "91a26ad3",
   "metadata": {},
   "outputs": [
    {
     "data": {
      "application/javascript": [
       "\n",
       "            setTimeout(function() {\n",
       "                var nbb_cell_id = 38;\n",
       "                var nbb_unformatted_code = \"pruned_ppi = largest_ccomp\\npruned_ppi.name = \\\"confidence_pruned_ppi\\\"\";\n",
       "                var nbb_formatted_code = \"pruned_ppi = largest_ccomp\\npruned_ppi.name = \\\"confidence_pruned_ppi\\\"\";\n",
       "                var nbb_cells = Jupyter.notebook.get_cells();\n",
       "                for (var i = 0; i < nbb_cells.length; ++i) {\n",
       "                    if (nbb_cells[i].input_prompt_number == nbb_cell_id) {\n",
       "                        if (nbb_cells[i].get_text() == nbb_unformatted_code) {\n",
       "                             nbb_cells[i].set_text(nbb_formatted_code);\n",
       "                        }\n",
       "                        break;\n",
       "                    }\n",
       "                }\n",
       "            }, 500);\n",
       "            "
      ],
      "text/plain": [
       "<IPython.core.display.Javascript object>"
      ]
     },
     "metadata": {},
     "output_type": "display_data"
    }
   ],
   "source": [
    "pruned_ppi = largest_ccomp\n",
    "pruned_ppi.name = \"confidence_pruned_ppi\""
   ]
  },
  {
   "cell_type": "markdown",
   "id": "a936fcca",
   "metadata": {},
   "source": [
    "---\n",
    "\n",
    "### 3.3 Remove hub nodes"
   ]
  },
  {
   "cell_type": "markdown",
   "id": "d15004d0",
   "metadata": {},
   "source": [
    "Next, we will further analyze the network and aim to reduce its connectivity by excluding large hub-nodes that are of less interest for our further analyses and might disguise important indirect links between certain targets.\n",
    "Thus, let us look at the distribution of the degrees of the nodes in the network."
   ]
  },
  {
   "cell_type": "code",
   "execution_count": 39,
   "id": "e7bf58b3",
   "metadata": {},
   "outputs": [
    {
     "data": {
      "image/png": "[encoded data removed]",
      "text/plain": [
       "<Figure size 432x288 with 1 Axes>"
      ]
     },
     "metadata": {
      "needs_background": "light"
     },
     "output_type": "display_data"
    },
    {
     "data": {
      "application/javascript": [
       "\n",
       "            setTimeout(function() {\n",
       "                var nbb_cell_id = 39;\n",
       "                var nbb_unformatted_code = \"degree_freq = nx.degree_histogram(pruned_ppi)\\ndegrees = range(len(degree_freq))\\nplt.loglog(degrees, degree_freq)\\nplt.xlabel(\\\"Degree\\\")\\nplt.ylabel(\\\"Frequency\\\")\\nplt.title(\\\"Log-log plot of the degree distribution\\\")\\nplt.show()\";\n",
       "                var nbb_formatted_code = \"degree_freq = nx.degree_histogram(pruned_ppi)\\ndegrees = range(len(degree_freq))\\nplt.loglog(degrees, degree_freq)\\nplt.xlabel(\\\"Degree\\\")\\nplt.ylabel(\\\"Frequency\\\")\\nplt.title(\\\"Log-log plot of the degree distribution\\\")\\nplt.show()\";\n",
       "                var nbb_cells = Jupyter.notebook.get_cells();\n",
       "                for (var i = 0; i < nbb_cells.length; ++i) {\n",
       "                    if (nbb_cells[i].input_prompt_number == nbb_cell_id) {\n",
       "                        if (nbb_cells[i].get_text() == nbb_unformatted_code) {\n",
       "                             nbb_cells[i].set_text(nbb_formatted_code);\n",
       "                        }\n",
       "                        break;\n",
       "                    }\n",
       "                }\n",
       "            }, 500);\n",
       "            "
      ],
      "text/plain": [
       "<IPython.core.display.Javascript object>"
      ]
     },
     "metadata": {},
     "output_type": "display_data"
    }
   ],
   "source": [
    "degree_freq = nx.degree_histogram(pruned_ppi)\n",
    "degrees = range(len(degree_freq))\n",
    "plt.loglog(degrees, degree_freq)\n",
    "plt.xlabel(\"Degree\")\n",
    "plt.ylabel(\"Frequency\")\n",
    "plt.title(\"Log-log plot of the degree distribution\")\n",
    "plt.show()"
   ]
  },
  {
   "cell_type": "markdown",
   "id": "d9bb84b5",
   "metadata": {},
   "source": [
    "We see that there are a few nodes with extreme high degrees. In order to avoid a bias for those nodes in the downstream task of inferring the U2OS specific interactome, we will remove some of such hub nodes from the interactome. This is further motivated by the fact that we would like to emphasize the differences between individual pathways in which our observed ORF targets are included."
   ]
  },
  {
   "cell_type": "code",
   "execution_count": 40,
   "id": "b77b19fd",
   "metadata": {},
   "outputs": [
    {
     "data": {
      "application/javascript": [
       "\n",
       "            setTimeout(function() {\n",
       "                var nbb_cell_id = 40;\n",
       "                var nbb_unformatted_code = \"degrees_dict = dict(pruned_ppi.degree())\\ndegrees_dict = {\\n    k: v\\n    for k, v in sorted(degrees_dict.items(), key=lambda item: item[1], reverse=True)\\n}\\nnodes = np.array(list(degrees_dict.keys()))\\ndegrees = np.array(list(degrees_dict.values()))\";\n",
       "                var nbb_formatted_code = \"degrees_dict = dict(pruned_ppi.degree())\\ndegrees_dict = {\\n    k: v\\n    for k, v in sorted(degrees_dict.items(), key=lambda item: item[1], reverse=True)\\n}\\nnodes = np.array(list(degrees_dict.keys()))\\ndegrees = np.array(list(degrees_dict.values()))\";\n",
       "                var nbb_cells = Jupyter.notebook.get_cells();\n",
       "                for (var i = 0; i < nbb_cells.length; ++i) {\n",
       "                    if (nbb_cells[i].input_prompt_number == nbb_cell_id) {\n",
       "                        if (nbb_cells[i].get_text() == nbb_unformatted_code) {\n",
       "                             nbb_cells[i].set_text(nbb_formatted_code);\n",
       "                        }\n",
       "                        break;\n",
       "                    }\n",
       "                }\n",
       "            }, 500);\n",
       "            "
      ],
      "text/plain": [
       "<IPython.core.display.Javascript object>"
      ]
     },
     "metadata": {},
     "output_type": "display_data"
    }
   ],
   "source": [
    "degrees_dict = dict(pruned_ppi.degree())\n",
    "degrees_dict = {\n",
    "    k: v\n",
    "    for k, v in sorted(degrees_dict.items(), key=lambda item: item[1], reverse=True)\n",
    "}\n",
    "nodes = np.array(list(degrees_dict.keys()))\n",
    "degrees = np.array(list(degrees_dict.values()))"
   ]
  },
  {
   "cell_type": "markdown",
   "id": "519b30a1",
   "metadata": {},
   "source": [
    "To determine an appropriate cutoff of for degree of the nodes to identify those hubnodes that we do not want to take into further consideration, we look at the number of ORF targets that are included in the selected gene set, when using different percentile-cutoffs for the node degree."
   ]
  },
  {
   "cell_type": "code",
   "execution_count": null,
   "id": "b76a759f",
   "metadata": {},
   "outputs": [
    {
     "name": "stderr",
     "output_type": "stream",
     "text": [
      "Screen cutoffs:  77%|███████▋  | 3863/5000 [12:50<04:26,  4.26it/s]"
     ]
    }
   ],
   "source": [
    "cutoffs = np.arange(0.5, 1.0, 0.0001)\n",
    "hub_node_cutoff_screen = run_hub_node_cutoff_analyses(\n",
    "    pruned_ppi,\n",
    "    cutoffs=cutoffs,\n",
    "    targets=orf_targets,\n",
    "    keep_targets=False,\n",
    "    specific_targets=specific_targets,\n",
    ")"
   ]
  },
  {
   "cell_type": "markdown",
   "id": "3ef88528",
   "metadata": {},
   "source": [
    "To this end, we will plot the number of connected components, the size of the largest connected component, the number of edges of the largest connected component, the average degree in the largest connected component, the number of all/specific ORF targets in the largest connected component."
   ]
  },
  {
   "cell_type": "code",
   "execution_count": 54,
   "id": "3d901a22",
   "metadata": {},
   "outputs": [
    {
     "data": {
      "image/png": "[encoded data removed]",
      "text/plain": [
       "<Figure size 1152x1152 with 6 Axes>"
      ]
     },
     "metadata": {
      "needs_background": "light"
     },
     "output_type": "display_data"
    },
    {
     "data": {
      "application/javascript": [
       "\n",
       "            setTimeout(function() {\n",
       "                var nbb_cell_id = 54;\n",
       "                var nbb_unformatted_code = \"fig, ax = plt.subplots(figsize=[16, 16], nrows=3, ncols=2)\\nax = ax.flatten()\\n\\nax[0] = sns.lineplot(\\n    data=hub_node_cutoff_screen, x=\\\"cutoff\\\", y=\\\"n_connected_components\\\", ax=ax[0]\\n)\\nax[0].set_title(\\\"Number of connected components\\\")\\n\\nax[1] = sns.lineplot(\\n    data=hub_node_cutoff_screen, x=\\\"cutoff\\\", y=\\\"n_nodes_largest_comp\\\", ax=ax[1]\\n)\\nax[1].set_title(\\\"Number of nodes in largest component\\\")\\n\\nax[2] = sns.lineplot(\\n    data=hub_node_cutoff_screen, x=\\\"cutoff\\\", y=\\\"n_edges_largest_comp\\\", ax=ax[2]\\n)\\nax[2].set_title(\\\"Number of edges in largest component\\\")\\n\\nax[3] = sns.lineplot(\\n    data=hub_node_cutoff_screen, x=\\\"cutoff\\\", y=\\\"avg_degree_largest_comp\\\", ax=ax[3]\\n)\\nax[3].set_title(\\\"Average degree in largest component\\\")\\n\\nax[4] = sns.lineplot(\\n    data=hub_node_cutoff_screen, x=\\\"cutoff\\\", y=\\\"n_targets_largest_comp\\\", ax=ax[4]\\n)\\nax[4].set_title(\\\"Number of ORF targets in largest component\\\")\\n\\nax[5] = sns.lineplot(\\n    data=hub_node_cutoff_screen, x=\\\"cutoff\\\", y=\\\"specific_targets\\\", ax=ax[5]\\n)\\nax[5].set_ylabel(\\\"n_specific_targets_largest_comp\\\")\\nax[5].set_title(\\\"Number of specific ORF targets in largest component\\\")\\n\\nplt.show()\";\n",
       "                var nbb_formatted_code = \"fig, ax = plt.subplots(figsize=[16, 16], nrows=3, ncols=2)\\nax = ax.flatten()\\n\\nax[0] = sns.lineplot(\\n    data=hub_node_cutoff_screen, x=\\\"cutoff\\\", y=\\\"n_connected_components\\\", ax=ax[0]\\n)\\nax[0].set_title(\\\"Number of connected components\\\")\\n\\nax[1] = sns.lineplot(\\n    data=hub_node_cutoff_screen, x=\\\"cutoff\\\", y=\\\"n_nodes_largest_comp\\\", ax=ax[1]\\n)\\nax[1].set_title(\\\"Number of nodes in largest component\\\")\\n\\nax[2] = sns.lineplot(\\n    data=hub_node_cutoff_screen, x=\\\"cutoff\\\", y=\\\"n_edges_largest_comp\\\", ax=ax[2]\\n)\\nax[2].set_title(\\\"Number of edges in largest component\\\")\\n\\nax[3] = sns.lineplot(\\n    data=hub_node_cutoff_screen, x=\\\"cutoff\\\", y=\\\"avg_degree_largest_comp\\\", ax=ax[3]\\n)\\nax[3].set_title(\\\"Average degree in largest component\\\")\\n\\nax[4] = sns.lineplot(\\n    data=hub_node_cutoff_screen, x=\\\"cutoff\\\", y=\\\"n_targets_largest_comp\\\", ax=ax[4]\\n)\\nax[4].set_title(\\\"Number of ORF targets in largest component\\\")\\n\\nax[5] = sns.lineplot(\\n    data=hub_node_cutoff_screen, x=\\\"cutoff\\\", y=\\\"specific_targets\\\", ax=ax[5]\\n)\\nax[5].set_ylabel(\\\"n_specific_targets_largest_comp\\\")\\nax[5].set_title(\\\"Number of specific ORF targets in largest component\\\")\\n\\nplt.show()\";\n",
       "                var nbb_cells = Jupyter.notebook.get_cells();\n",
       "                for (var i = 0; i < nbb_cells.length; ++i) {\n",
       "                    if (nbb_cells[i].input_prompt_number == nbb_cell_id) {\n",
       "                        if (nbb_cells[i].get_text() == nbb_unformatted_code) {\n",
       "                             nbb_cells[i].set_text(nbb_formatted_code);\n",
       "                        }\n",
       "                        break;\n",
       "                    }\n",
       "                }\n",
       "            }, 500);\n",
       "            "
      ],
      "text/plain": [
       "<IPython.core.display.Javascript object>"
      ]
     },
     "metadata": {},
     "output_type": "display_data"
    }
   ],
   "source": [
    "fig, ax = plt.subplots(figsize=[16, 16], nrows=3, ncols=2)\n",
    "ax = ax.flatten()\n",
    "\n",
    "ax[0] = sns.lineplot(\n",
    "    data=hub_node_cutoff_screen, x=\"cutoff\", y=\"n_connected_components\", ax=ax[0]\n",
    ")\n",
    "ax[0].set_title(\"Number of connected components\")\n",
    "\n",
    "ax[1] = sns.lineplot(\n",
    "    data=hub_node_cutoff_screen, x=\"cutoff\", y=\"n_nodes_largest_comp\", ax=ax[1]\n",
    ")\n",
    "ax[1].set_title(\"Number of nodes in largest component\")\n",
    "\n",
    "ax[2] = sns.lineplot(\n",
    "    data=hub_node_cutoff_screen, x=\"cutoff\", y=\"n_edges_largest_comp\", ax=ax[2]\n",
    ")\n",
    "ax[2].set_title(\"Number of edges in largest component\")\n",
    "\n",
    "ax[3] = sns.lineplot(\n",
    "    data=hub_node_cutoff_screen, x=\"cutoff\", y=\"avg_degree_largest_comp\", ax=ax[3]\n",
    ")\n",
    "ax[3].set_title(\"Average degree in largest component\")\n",
    "\n",
    "ax[4] = sns.lineplot(\n",
    "    data=hub_node_cutoff_screen, x=\"cutoff\", y=\"n_targets_largest_comp\", ax=ax[4]\n",
    ")\n",
    "ax[4].set_title(\"Number of ORF targets in largest component\")\n",
    "\n",
    "ax[5] = sns.lineplot(\n",
    "    data=hub_node_cutoff_screen, x=\"cutoff\", y=\"specific_targets\", ax=ax[5]\n",
    ")\n",
    "ax[5].set_ylabel(\"n_specific_targets_largest_comp\")\n",
    "ax[5].set_title(\"Number of specific ORF targets in largest component\")\n",
    "\n",
    "plt.show()"
   ]
  },
  {
   "cell_type": "code",
   "execution_count": 55,
   "id": "b22e7152",
   "metadata": {},
   "outputs": [
    {
     "data": {
      "text/html": [
       "<div>\n",
       "<style scoped>\n",
       "    .dataframe tbody tr th:only-of-type {\n",
       "        vertical-align: middle;\n",
       "    }\n",
       "\n",
       "    .dataframe tbody tr th {\n",
       "        vertical-align: top;\n",
       "    }\n",
       "\n",
       "    .dataframe thead th {\n",
       "        text-align: right;\n",
       "    }\n",
       "</style>\n",
       "<table border=\"1\" class=\"dataframe\">\n",
       "  <thead>\n",
       "    <tr style=\"text-align: right;\">\n",
       "      <th></th>\n",
       "      <th>cutoff</th>\n",
       "      <th>n_connected_components</th>\n",
       "      <th>n_nodes_largest_comp</th>\n",
       "      <th>n_targets_largest_comp</th>\n",
       "      <th>n_edges_largest_comp</th>\n",
       "      <th>avg_degree_largest_comp</th>\n",
       "      <th>specific_targets</th>\n",
       "    </tr>\n",
       "  </thead>\n",
       "  <tbody>\n",
       "    <tr>\n",
       "      <th>499</th>\n",
       "      <td>0.999</td>\n",
       "      <td>1697</td>\n",
       "      <td>9077</td>\n",
       "      <td>183</td>\n",
       "      <td>43481</td>\n",
       "      <td>9.580478</td>\n",
       "      <td>42</td>\n",
       "    </tr>\n",
       "    <tr>\n",
       "      <th>498</th>\n",
       "      <td>0.998</td>\n",
       "      <td>1797</td>\n",
       "      <td>8960</td>\n",
       "      <td>181</td>\n",
       "      <td>41343</td>\n",
       "      <td>9.228348</td>\n",
       "      <td>42</td>\n",
       "    </tr>\n",
       "    <tr>\n",
       "      <th>497</th>\n",
       "      <td>0.997</td>\n",
       "      <td>1904</td>\n",
       "      <td>8838</td>\n",
       "      <td>176</td>\n",
       "      <td>39599</td>\n",
       "      <td>8.961077</td>\n",
       "      <td>41</td>\n",
       "    </tr>\n",
       "    <tr>\n",
       "      <th>496</th>\n",
       "      <td>0.996</td>\n",
       "      <td>1989</td>\n",
       "      <td>8741</td>\n",
       "      <td>173</td>\n",
       "      <td>38203</td>\n",
       "      <td>8.741105</td>\n",
       "      <td>40</td>\n",
       "    </tr>\n",
       "    <tr>\n",
       "      <th>495</th>\n",
       "      <td>0.995</td>\n",
       "      <td>2051</td>\n",
       "      <td>8665</td>\n",
       "      <td>167</td>\n",
       "      <td>36706</td>\n",
       "      <td>8.472245</td>\n",
       "      <td>36</td>\n",
       "    </tr>\n",
       "  </tbody>\n",
       "</table>\n",
       "</div>"
      ],
      "text/plain": [
       "     cutoff  n_connected_components  n_nodes_largest_comp  \\\n",
       "499   0.999                    1697                  9077   \n",
       "498   0.998                    1797                  8960   \n",
       "497   0.997                    1904                  8838   \n",
       "496   0.996                    1989                  8741   \n",
       "495   0.995                    2051                  8665   \n",
       "\n",
       "     n_targets_largest_comp  n_edges_largest_comp  avg_degree_largest_comp  \\\n",
       "499                     183                 43481                 9.580478   \n",
       "498                     181                 41343                 9.228348   \n",
       "497                     176                 39599                 8.961077   \n",
       "496                     173                 38203                 8.741105   \n",
       "495                     167                 36706                 8.472245   \n",
       "\n",
       "     specific_targets  \n",
       "499                42  \n",
       "498                42  \n",
       "497                41  \n",
       "496                40  \n",
       "495                36  "
      ]
     },
     "execution_count": 55,
     "metadata": {},
     "output_type": "execute_result"
    },
    {
     "data": {
      "application/javascript": [
       "\n",
       "            setTimeout(function() {\n",
       "                var nbb_cell_id = 55;\n",
       "                var nbb_unformatted_code = \"hub_node_cutoff_screen.sort_values(\\\"specific_targets\\\", ascending=False).head()\";\n",
       "                var nbb_formatted_code = \"hub_node_cutoff_screen.sort_values(\\\"specific_targets\\\", ascending=False).head()\";\n",
       "                var nbb_cells = Jupyter.notebook.get_cells();\n",
       "                for (var i = 0; i < nbb_cells.length; ++i) {\n",
       "                    if (nbb_cells[i].input_prompt_number == nbb_cell_id) {\n",
       "                        if (nbb_cells[i].get_text() == nbb_unformatted_code) {\n",
       "                             nbb_cells[i].set_text(nbb_formatted_code);\n",
       "                        }\n",
       "                        break;\n",
       "                    }\n",
       "                }\n",
       "            }, 500);\n",
       "            "
      ],
      "text/plain": [
       "<IPython.core.display.Javascript object>"
      ]
     },
     "metadata": {},
     "output_type": "display_data"
    }
   ],
   "source": [
    "hub_node_cutoff_screen.sort_values(\"specific_targets\", ascending=False).head()"
   ]
  },
  {
   "cell_type": "markdown",
   "id": "c10fe2d2",
   "metadata": {},
   "source": [
    "We see that by removing the even the top 0.1% nodes with the highest degree already leads to the exclusion of two ORF targets. One of those is TP53 that has a degree of 395, i.e. it is connected to roughly 3.65% of all nodes in the network. However, we see that thereby also one specific ORF target, namely CXXC4 becomes disconnected. Thus, we will instead only remove the top 3\n",
    "\n",
    "We will thus conservatively choose to only remove the top 0.1% nodes with the highest degree but "
   ]
  },
  {
   "cell_type": "code",
   "execution_count": 85,
   "id": "eed8692e",
   "metadata": {},
   "outputs": [
    {
     "data": {
      "application/javascript": [
       "\n",
       "            setTimeout(function() {\n",
       "                var nbb_cell_id = 85;\n",
       "                var nbb_unformatted_code = \"hub_cutoff = 0.9998\\ndegree_cutoff = np.quantile(list(dict(pruned_ppi.degree()).values()), hub_cutoff)\\nhubnodes = nodes[degrees >= degree_cutoff]\\nnon_hubnodes = nodes[degrees < degree_cutoff]\";\n",
       "                var nbb_formatted_code = \"hub_cutoff = 0.9998\\ndegree_cutoff = np.quantile(list(dict(pruned_ppi.degree()).values()), hub_cutoff)\\nhubnodes = nodes[degrees >= degree_cutoff]\\nnon_hubnodes = nodes[degrees < degree_cutoff]\";\n",
       "                var nbb_cells = Jupyter.notebook.get_cells();\n",
       "                for (var i = 0; i < nbb_cells.length; ++i) {\n",
       "                    if (nbb_cells[i].input_prompt_number == nbb_cell_id) {\n",
       "                        if (nbb_cells[i].get_text() == nbb_unformatted_code) {\n",
       "                             nbb_cells[i].set_text(nbb_formatted_code);\n",
       "                        }\n",
       "                        break;\n",
       "                    }\n",
       "                }\n",
       "            }, 500);\n",
       "            "
      ],
      "text/plain": [
       "<IPython.core.display.Javascript object>"
      ]
     },
     "metadata": {},
     "output_type": "display_data"
    }
   ],
   "source": [
    "hub_cutoff = 0.9998\n",
    "degree_cutoff = np.quantile(list(dict(pruned_ppi.degree()).values()), hub_cutoff)\n",
    "hubnodes = nodes[degrees >= degree_cutoff]\n",
    "non_hubnodes = nodes[degrees < degree_cutoff]"
   ]
  },
  {
   "cell_type": "code",
   "execution_count": 84,
   "id": "ee13151c",
   "metadata": {},
   "outputs": [
    {
     "data": {
      "text/plain": [
       "[<matplotlib.lines.Line2D at 0x7f0f8dbc8c40>]"
      ]
     },
     "execution_count": 84,
     "metadata": {},
     "output_type": "execute_result"
    },
    {
     "data": {
      "image/png": "[encoded data removed]",
      "text/plain": [
       "<Figure size 432x288 with 1 Axes>"
      ]
     },
     "metadata": {
      "needs_background": "light"
     },
     "output_type": "display_data"
    },
    {
     "data": {
      "application/javascript": [
       "\n",
       "            setTimeout(function() {\n",
       "                var nbb_cell_id = 84;\n",
       "                var nbb_unformatted_code = \"plt.plot(sorted(list(degrees_dict.values()))[::-1])\";\n",
       "                var nbb_formatted_code = \"plt.plot(sorted(list(degrees_dict.values()))[::-1])\";\n",
       "                var nbb_cells = Jupyter.notebook.get_cells();\n",
       "                for (var i = 0; i < nbb_cells.length; ++i) {\n",
       "                    if (nbb_cells[i].input_prompt_number == nbb_cell_id) {\n",
       "                        if (nbb_cells[i].get_text() == nbb_unformatted_code) {\n",
       "                             nbb_cells[i].set_text(nbb_formatted_code);\n",
       "                        }\n",
       "                        break;\n",
       "                    }\n",
       "                }\n",
       "            }, 500);\n",
       "            "
      ],
      "text/plain": [
       "<IPython.core.display.Javascript object>"
      ]
     },
     "metadata": {},
     "output_type": "display_data"
    }
   ],
   "source": [
    "plt.plot(sorted(list(degrees_dict.values()))[::-1])"
   ]
  },
  {
   "cell_type": "code",
   "execution_count": 83,
   "id": "b6b52369",
   "metadata": {},
   "outputs": [
    {
     "name": "stdout",
     "output_type": "stream",
     "text": [
      "Node: UBC ( 6477 )\n",
      "Node: APP ( 1684 )\n",
      "Node: SUMO2 ( 630 )\n",
      "Node: TP53 ( 395 )\n"
     ]
    },
    {
     "data": {
      "application/javascript": [
       "\n",
       "            setTimeout(function() {\n",
       "                var nbb_cell_id = 83;\n",
       "                var nbb_unformatted_code = \"for n in hubnodes:\\n    print(\\\"Node:\\\", n, \\\"(\\\", degrees_dict[n], \\\")\\\")\";\n",
       "                var nbb_formatted_code = \"for n in hubnodes:\\n    print(\\\"Node:\\\", n, \\\"(\\\", degrees_dict[n], \\\")\\\")\";\n",
       "                var nbb_cells = Jupyter.notebook.get_cells();\n",
       "                for (var i = 0; i < nbb_cells.length; ++i) {\n",
       "                    if (nbb_cells[i].input_prompt_number == nbb_cell_id) {\n",
       "                        if (nbb_cells[i].get_text() == nbb_unformatted_code) {\n",
       "                             nbb_cells[i].set_text(nbb_formatted_code);\n",
       "                        }\n",
       "                        break;\n",
       "                    }\n",
       "                }\n",
       "            }, 500);\n",
       "            "
      ],
      "text/plain": [
       "<IPython.core.display.Javascript object>"
      ]
     },
     "metadata": {},
     "output_type": "display_data"
    }
   ],
   "source": [
    "for n in hubnodes:\n",
    "    print(\"Node:\", n, \"(\", degrees_dict[n], \")\")"
   ]
  },
  {
   "cell_type": "markdown",
   "id": "805fe6e4",
   "metadata": {},
   "source": [
    "The hubnodes that will be filtered out are listed above.\n",
    "\n",
    "We will now derive the subgraph that only spans the nodes not classified as hubnodes by our previous analyses."
   ]
  },
  {
   "cell_type": "markdown",
   "id": "012ba6b2",
   "metadata": {},
   "source": [
    "Importantly, the subgraph induced by removing the identified hubnodes from the network does not remain fully connected and importantly one of the ORF targets that was shown to yield a specific structural phenotype upon overexpression becomes disconnected from the largest connected component that spans all other ORF targets."
   ]
  },
  {
   "cell_type": "code",
   "execution_count": 69,
   "id": "b92e3815",
   "metadata": {},
   "outputs": [
    {
     "name": "stdout",
     "output_type": "stream",
     "text": [
      "Name: confidence_hub_pruned_ppi\n",
      "Type: Graph\n",
      "Number of nodes: 10798\n",
      "Number of edges: 43506\n",
      "Average degree:   8.0582\n"
     ]
    },
    {
     "data": {
      "application/javascript": [
       "\n",
       "            setTimeout(function() {\n",
       "                var nbb_cell_id = 69;\n",
       "                var nbb_unformatted_code = \"selected_ppi = nx.Graph(pruned_ppi.subgraph(non_hubnodes))\\nselected_ppi.name = \\\"confidence_hub_pruned_ppi\\\"\\nprint(nx.info(selected_ppi))\";\n",
       "                var nbb_formatted_code = \"selected_ppi = nx.Graph(pruned_ppi.subgraph(non_hubnodes))\\nselected_ppi.name = \\\"confidence_hub_pruned_ppi\\\"\\nprint(nx.info(selected_ppi))\";\n",
       "                var nbb_cells = Jupyter.notebook.get_cells();\n",
       "                for (var i = 0; i < nbb_cells.length; ++i) {\n",
       "                    if (nbb_cells[i].input_prompt_number == nbb_cell_id) {\n",
       "                        if (nbb_cells[i].get_text() == nbb_unformatted_code) {\n",
       "                             nbb_cells[i].set_text(nbb_formatted_code);\n",
       "                        }\n",
       "                        break;\n",
       "                    }\n",
       "                }\n",
       "            }, 500);\n",
       "            "
      ],
      "text/plain": [
       "<IPython.core.display.Javascript object>"
      ]
     },
     "metadata": {},
     "output_type": "display_data"
    }
   ],
   "source": [
    "selected_ppi = nx.Graph(pruned_ppi.subgraph(non_hubnodes))\n",
    "selected_ppi.name = \"confidence_hub_pruned_ppi\"\n",
    "print(nx.info(selected_ppi))"
   ]
  },
  {
   "cell_type": "code",
   "execution_count": 70,
   "id": "61c57e77",
   "metadata": {},
   "outputs": [
    {
     "name": "stdout",
     "output_type": "stream",
     "text": [
      "Name: confidence_hub_pruned_ppi\n",
      "Type: Graph\n",
      "Number of nodes: 9077\n",
      "Number of edges: 43481\n",
      "Average degree:   9.5805\n",
      "183\n",
      "{'NFKBIE', 'ADAM17', 'APC', 'RELB', 'ARAF', 'SMAD7', 'BCL2L1', 'SDHA', 'MKNK1', 'TGFB1', 'AKT2', 'XIAP', 'SMURF2', 'PRKAA1', 'EGLN1', 'SMO', 'PKIA', 'CREB1', 'MAP3K7', 'ELK1', 'WNT5A', 'MAP3K8', 'GRB10', 'BECN1', 'IRAK1', 'RIPK1', 'NFKBIB', 'MAP2K4', 'DLL1', 'PER1', 'JAK2', 'MAPK8', 'IRS1', 'HSP90B1', 'RPS6KB1', 'DKK1', 'LRPPRC', 'NFKB2', 'ATG16L1', 'DVL3', 'SGK3', 'BCL2L11', 'SMAD4', 'STK3', 'MAP3K5', 'MAPK13', 'SRC', 'EIF2A', 'DVL2', 'VHL', 'BAMBI', 'ATG5', 'DDIT3', 'RB1', 'AKT1S1', 'CDC42', 'AKT1', 'ERG', 'PRKCA', 'HIF1AN', 'MLST8', 'REL', 'PIK3R1', 'PAK1', 'TRAF5', 'TSC1', 'TRAF2', 'PIK3CB', 'MAPK3', 'CSNK1A1', 'CDKN1A', 'DDIT4', 'FGFR3', 'CDK2', 'NFKBIA', 'TSC2', 'SREBF1', 'MAP2K1', 'XBP1', 'BAX', 'PSENEN', 'PDPK1', 'MAP3K11', 'ATF4', 'TBK1', 'CARD11', 'RPTOR', 'JAG1', 'EIF4E', 'NOTCH2', 'STAT1', 'PTEN', 'ERN1', 'CRY1', 'BMPR1B', 'IKBKB', 'HSP90AA1', 'PRKCE', 'PIK3R2', 'PPARGC1A', 'PIK3CD', 'VEGFC', 'AKT3', 'EIF4EBP1', 'MYD88', 'PHLPP1', 'IRAK4', 'FH', 'RELA', 'IKBKE', 'STAT3', 'CCNE1', 'TNFAIP3', 'MAPKAP1', 'MAPK7', 'DUSP1', 'STK11', 'ERBB2', 'YAP1', 'HRAS', 'ATM', 'ATF2', 'FOXO1', 'PRKACA', 'MCL1', 'JUN', 'PPP2R5C', 'TGFBR1', 'MAPK14', 'BMP2', 'NOTCH1', 'PRKCZ', 'APAF1', 'BTRC', 'RICTOR', 'ATF6', 'MAP2K3', 'AXIN2', 'RBPJ', 'CYLD', 'GLI1', 'CLOCK', 'CASP8', 'RAC1', 'TRAF6', 'DVL1', 'CREBBP', 'GSK3B', 'DIABLO', 'PRKACB', 'BRAF', 'RAF1', 'TRAF3', 'ARNTL', 'MAPK1', 'NFKB1', 'PIK3CA', 'CTNNB1', 'BRCA1', 'SOCS3', 'MAP3K9', 'E2F1', 'WWTR1', 'SLIRP', 'FURIN', 'RHOA', 'CASP9', 'HSPA5', 'ACVR1B', 'KRAS', 'MAP3K2', 'SMAD5', 'TGFBR2', 'TCF4', 'CCND1', 'SMAD3', 'MAPK9', 'HIF1A', 'CHUK', 'RHEB', 'CDK4', 'DEPTOR', 'CEBPA'}\n",
      "Name: confidence_hub_pruned_ppi\n",
      "Type: Graph\n",
      "Number of nodes: 1\n",
      "Number of edges: 0\n",
      "Average degree:   0.0000\n",
      "1\n",
      "{'CXXC4'}\n"
     ]
    },
    {
     "data": {
      "application/javascript": [
       "\n",
       "            setTimeout(function() {\n",
       "                var nbb_cell_id = 70;\n",
       "                var nbb_unformatted_code = \"ccomps = [\\n    selected_ppi.subgraph(c).copy() for c in nx.connected_components(selected_ppi)\\n]\\nfor comp in ccomps:\\n    if len(orf_targets.intersection(comp.nodes())) > 0:\\n        print(nx.info(comp))\\n        print(len(orf_targets.intersection(comp.nodes())))\\n        print(orf_targets.intersection(comp.nodes()))\";\n",
       "                var nbb_formatted_code = \"ccomps = [\\n    selected_ppi.subgraph(c).copy() for c in nx.connected_components(selected_ppi)\\n]\\nfor comp in ccomps:\\n    if len(orf_targets.intersection(comp.nodes())) > 0:\\n        print(nx.info(comp))\\n        print(len(orf_targets.intersection(comp.nodes())))\\n        print(orf_targets.intersection(comp.nodes()))\";\n",
       "                var nbb_cells = Jupyter.notebook.get_cells();\n",
       "                for (var i = 0; i < nbb_cells.length; ++i) {\n",
       "                    if (nbb_cells[i].input_prompt_number == nbb_cell_id) {\n",
       "                        if (nbb_cells[i].get_text() == nbb_unformatted_code) {\n",
       "                             nbb_cells[i].set_text(nbb_formatted_code);\n",
       "                        }\n",
       "                        break;\n",
       "                    }\n",
       "                }\n",
       "            }, 500);\n",
       "            "
      ],
      "text/plain": [
       "<IPython.core.display.Javascript object>"
      ]
     },
     "metadata": {},
     "output_type": "display_data"
    }
   ],
   "source": [
    "ccomps = [\n",
    "    selected_ppi.subgraph(c).copy() for c in nx.connected_components(selected_ppi)\n",
    "]\n",
    "for comp in ccomps:\n",
    "    if len(orf_targets.intersection(comp.nodes())) > 0:\n",
    "        print(nx.info(comp))\n",
    "        print(len(orf_targets.intersection(comp.nodes())))\n",
    "        print(orf_targets.intersection(comp.nodes()))"
   ]
  },
  {
   "cell_type": "markdown",
   "id": "04364db5",
   "metadata": {},
   "source": [
    "Since, at a single-nuclei level the structural response to the overexpression was however relatively weak, we will for now continue using only the largest connected component."
   ]
  },
  {
   "cell_type": "code",
   "execution_count": 71,
   "id": "3311ed42",
   "metadata": {},
   "outputs": [
    {
     "data": {
      "application/javascript": [
       "\n",
       "            setTimeout(function() {\n",
       "                var nbb_cell_id = 71;\n",
       "                var nbb_unformatted_code = \"selected_ppi = ccomps[0]\";\n",
       "                var nbb_formatted_code = \"selected_ppi = ccomps[0]\";\n",
       "                var nbb_cells = Jupyter.notebook.get_cells();\n",
       "                for (var i = 0; i < nbb_cells.length; ++i) {\n",
       "                    if (nbb_cells[i].input_prompt_number == nbb_cell_id) {\n",
       "                        if (nbb_cells[i].get_text() == nbb_unformatted_code) {\n",
       "                             nbb_cells[i].set_text(nbb_formatted_code);\n",
       "                        }\n",
       "                        break;\n",
       "                    }\n",
       "                }\n",
       "            }, 500);\n",
       "            "
      ],
      "text/plain": [
       "<IPython.core.display.Javascript object>"
      ]
     },
     "metadata": {},
     "output_type": "display_data"
    }
   ],
   "source": [
    "selected_ppi = ccomps[0]"
   ]
  },
  {
   "cell_type": "markdown",
   "id": "193db41f",
   "metadata": {},
   "source": [
    "The induced subgraph spans 9077 nodes including 183/185 ORF targets and is fully connected with an average degree of 9.58 stemming from 43'481 edges."
   ]
  },
  {
   "cell_type": "markdown",
   "id": "6519419d",
   "metadata": {},
   "source": [
    "---\n",
    "\n",
    "## 4. Relationship strength of the between the selected genes"
   ]
  },
  {
   "cell_type": "markdown",
   "id": "e31f2912",
   "metadata": {},
   "source": [
    "In this section we will look at ways to define the edge costs for the Prize-collecting Steiner tree inference-based derivation of the U2OS-specific interactome. To this end, we will look at three different measures that are often used to describe the association of genes to guide the derivation of regulatory networks and interactomes, namely the Pearson correlation, the Spearman correlation and the normalized mutual information. Since, we want to assign higher costs to for relationships between any pair of genes that we have little evidence for as measured by the three previously mentioned metrics, we compute these as\n",
    "\n",
    "$$\n",
    "w_{i,j} = 1-|a_{i,j}|,\n",
    "$$\n",
    "\n",
    "where $w_{i,j}$ is the edge weight and $a_{i,j}$ is the respective association of the genes $i$ and $j$ as measured by the metrics."
   ]
  },
  {
   "cell_type": "markdown",
   "id": "74389e69",
   "metadata": {},
   "source": [
    "We will now compute the respective edge weights for any edge in the base PPI and visualize their distribution."
   ]
  },
  {
   "cell_type": "code",
   "execution_count": 73,
   "id": "e23a3ec5",
   "metadata": {},
   "outputs": [
    {
     "name": "stderr",
     "output_type": "stream",
     "text": [
      "Compute edge weights for pearsonr: 100%|██████████| 43481/43481 [00:07<00:00, 5451.42it/s]\n",
      "Compute edge weights for spearmanr: 100%|██████████| 43481/43481 [00:38<00:00, 1116.56it/s]\n",
      "Compute edge weights for mi: 100%|██████████| 43481/43481 [00:30<00:00, 1412.79it/s]\n"
     ]
    },
    {
     "data": {
      "application/javascript": [
       "\n",
       "            setTimeout(function() {\n",
       "                var nbb_cell_id = 73;\n",
       "                var nbb_unformatted_code = \"selected_ppi = compute_edge_weights(\\n    selected_ppi, fucci_data, b=100, metrics=[\\\"pearsonr\\\", \\\"spearmanr\\\", \\\"mi\\\"]\\n)\";\n",
       "                var nbb_formatted_code = \"selected_ppi = compute_edge_weights(\\n    selected_ppi, fucci_data, b=100, metrics=[\\\"pearsonr\\\", \\\"spearmanr\\\", \\\"mi\\\"]\\n)\";\n",
       "                var nbb_cells = Jupyter.notebook.get_cells();\n",
       "                for (var i = 0; i < nbb_cells.length; ++i) {\n",
       "                    if (nbb_cells[i].input_prompt_number == nbb_cell_id) {\n",
       "                        if (nbb_cells[i].get_text() == nbb_unformatted_code) {\n",
       "                             nbb_cells[i].set_text(nbb_formatted_code);\n",
       "                        }\n",
       "                        break;\n",
       "                    }\n",
       "                }\n",
       "            }, 500);\n",
       "            "
      ],
      "text/plain": [
       "<IPython.core.display.Javascript object>"
      ]
     },
     "metadata": {},
     "output_type": "display_data"
    }
   ],
   "source": [
    "selected_ppi = compute_edge_weights(\n",
    "    selected_ppi, fucci_data, b=100, metrics=[\"pearsonr\", \"spearmanr\", \"mi\"]\n",
    ")"
   ]
  },
  {
   "cell_type": "markdown",
   "id": "b55fc72f",
   "metadata": {},
   "source": [
    "### 4.1. Pearson correlation-based edge weights"
   ]
  },
  {
   "cell_type": "code",
   "execution_count": 74,
   "id": "83fae706",
   "metadata": {},
   "outputs": [
    {
     "data": {
      "application/javascript": [
       "\n",
       "            setTimeout(function() {\n",
       "                var nbb_cell_id = 74;\n",
       "                var nbb_unformatted_code = \"pearsonr_weights = np.array(\\n    list(nx.get_edge_attributes(selected_ppi, \\\"pearsonr\\\").values())\\n)\";\n",
       "                var nbb_formatted_code = \"pearsonr_weights = np.array(\\n    list(nx.get_edge_attributes(selected_ppi, \\\"pearsonr\\\").values())\\n)\";\n",
       "                var nbb_cells = Jupyter.notebook.get_cells();\n",
       "                for (var i = 0; i < nbb_cells.length; ++i) {\n",
       "                    if (nbb_cells[i].input_prompt_number == nbb_cell_id) {\n",
       "                        if (nbb_cells[i].get_text() == nbb_unformatted_code) {\n",
       "                             nbb_cells[i].set_text(nbb_formatted_code);\n",
       "                        }\n",
       "                        break;\n",
       "                    }\n",
       "                }\n",
       "            }, 500);\n",
       "            "
      ],
      "text/plain": [
       "<IPython.core.display.Javascript object>"
      ]
     },
     "metadata": {},
     "output_type": "display_data"
    }
   ],
   "source": [
    "pearsonr_weights = np.array(\n",
    "    list(nx.get_edge_attributes(selected_ppi, \"pearsonr\").values())\n",
    ")"
   ]
  },
  {
   "cell_type": "code",
   "execution_count": 75,
   "id": "e58302bd",
   "metadata": {},
   "outputs": [
    {
     "data": {
      "image/png": "[encoded data removed]",
      "text/plain": [
       "<Figure size 360x360 with 1 Axes>"
      ]
     },
     "metadata": {
      "needs_background": "light"
     },
     "output_type": "display_data"
    },
    {
     "data": {
      "application/javascript": [
       "\n",
       "            setTimeout(function() {\n",
       "                var nbb_cell_id = 75;\n",
       "                var nbb_unformatted_code = \"plt.figure(figsize=[5, 5])\\nsns.histplot(pearsonr_weights)\\nplt.title(\\\"Distribution of the Pearson r edge weights\\\")\\nplt.xlabel(\\\"1-|r|\\\")\\nplt.show()\";\n",
       "                var nbb_formatted_code = \"plt.figure(figsize=[5, 5])\\nsns.histplot(pearsonr_weights)\\nplt.title(\\\"Distribution of the Pearson r edge weights\\\")\\nplt.xlabel(\\\"1-|r|\\\")\\nplt.show()\";\n",
       "                var nbb_cells = Jupyter.notebook.get_cells();\n",
       "                for (var i = 0; i < nbb_cells.length; ++i) {\n",
       "                    if (nbb_cells[i].input_prompt_number == nbb_cell_id) {\n",
       "                        if (nbb_cells[i].get_text() == nbb_unformatted_code) {\n",
       "                             nbb_cells[i].set_text(nbb_formatted_code);\n",
       "                        }\n",
       "                        break;\n",
       "                    }\n",
       "                }\n",
       "            }, 500);\n",
       "            "
      ],
      "text/plain": [
       "<IPython.core.display.Javascript object>"
      ]
     },
     "metadata": {},
     "output_type": "display_data"
    }
   ],
   "source": [
    "plt.figure(figsize=[5, 5])\n",
    "sns.histplot(pearsonr_weights)\n",
    "plt.title(\"Distribution of the Pearson r edge weights\")\n",
    "plt.xlabel(\"1-|r|\")\n",
    "plt.show()"
   ]
  },
  {
   "cell_type": "markdown",
   "id": "85fe2584",
   "metadata": {},
   "source": [
    "### 4.2. Spearman correlation-based edge weights"
   ]
  },
  {
   "cell_type": "code",
   "execution_count": 76,
   "id": "ed76eab3",
   "metadata": {},
   "outputs": [
    {
     "data": {
      "application/javascript": [
       "\n",
       "            setTimeout(function() {\n",
       "                var nbb_cell_id = 76;\n",
       "                var nbb_unformatted_code = \"spearmanr_weights = np.array(\\n    list(nx.get_edge_attributes(selected_ppi, \\\"spearmanr\\\").values())\\n)\";\n",
       "                var nbb_formatted_code = \"spearmanr_weights = np.array(\\n    list(nx.get_edge_attributes(selected_ppi, \\\"spearmanr\\\").values())\\n)\";\n",
       "                var nbb_cells = Jupyter.notebook.get_cells();\n",
       "                for (var i = 0; i < nbb_cells.length; ++i) {\n",
       "                    if (nbb_cells[i].input_prompt_number == nbb_cell_id) {\n",
       "                        if (nbb_cells[i].get_text() == nbb_unformatted_code) {\n",
       "                             nbb_cells[i].set_text(nbb_formatted_code);\n",
       "                        }\n",
       "                        break;\n",
       "                    }\n",
       "                }\n",
       "            }, 500);\n",
       "            "
      ],
      "text/plain": [
       "<IPython.core.display.Javascript object>"
      ]
     },
     "metadata": {},
     "output_type": "display_data"
    }
   ],
   "source": [
    "spearmanr_weights = np.array(\n",
    "    list(nx.get_edge_attributes(selected_ppi, \"spearmanr\").values())\n",
    ")"
   ]
  },
  {
   "cell_type": "code",
   "execution_count": 77,
   "id": "40112455",
   "metadata": {},
   "outputs": [
    {
     "data": {
      "image/png": "[encoded data removed]",
      "text/plain": [
       "<Figure size 360x360 with 1 Axes>"
      ]
     },
     "metadata": {
      "needs_background": "light"
     },
     "output_type": "display_data"
    },
    {
     "data": {
      "application/javascript": [
       "\n",
       "            setTimeout(function() {\n",
       "                var nbb_cell_id = 77;\n",
       "                var nbb_unformatted_code = \"plt.figure(figsize=[5, 5])\\nsns.histplot(spearmanr_weights)\\nplt.title(\\\"Distribution of the Spearman r edge weights\\\")\\nplt.xlabel(\\\"1-|r|\\\")\\nplt.show()\";\n",
       "                var nbb_formatted_code = \"plt.figure(figsize=[5, 5])\\nsns.histplot(spearmanr_weights)\\nplt.title(\\\"Distribution of the Spearman r edge weights\\\")\\nplt.xlabel(\\\"1-|r|\\\")\\nplt.show()\";\n",
       "                var nbb_cells = Jupyter.notebook.get_cells();\n",
       "                for (var i = 0; i < nbb_cells.length; ++i) {\n",
       "                    if (nbb_cells[i].input_prompt_number == nbb_cell_id) {\n",
       "                        if (nbb_cells[i].get_text() == nbb_unformatted_code) {\n",
       "                             nbb_cells[i].set_text(nbb_formatted_code);\n",
       "                        }\n",
       "                        break;\n",
       "                    }\n",
       "                }\n",
       "            }, 500);\n",
       "            "
      ],
      "text/plain": [
       "<IPython.core.display.Javascript object>"
      ]
     },
     "metadata": {},
     "output_type": "display_data"
    }
   ],
   "source": [
    "plt.figure(figsize=[5, 5])\n",
    "sns.histplot(spearmanr_weights)\n",
    "plt.title(\"Distribution of the Spearman r edge weights\")\n",
    "plt.xlabel(\"1-|r|\")\n",
    "plt.show()"
   ]
  },
  {
   "cell_type": "markdown",
   "id": "a4177f77",
   "metadata": {},
   "source": [
    "### 4.3. Mutual information-based edge weights"
   ]
  },
  {
   "cell_type": "code",
   "execution_count": 78,
   "id": "506bbbb0",
   "metadata": {},
   "outputs": [
    {
     "data": {
      "application/javascript": [
       "\n",
       "            setTimeout(function() {\n",
       "                var nbb_cell_id = 78;\n",
       "                var nbb_unformatted_code = \"mi_weights = np.array(list(nx.get_edge_attributes(selected_ppi, \\\"mi\\\").values()))\";\n",
       "                var nbb_formatted_code = \"mi_weights = np.array(list(nx.get_edge_attributes(selected_ppi, \\\"mi\\\").values()))\";\n",
       "                var nbb_cells = Jupyter.notebook.get_cells();\n",
       "                for (var i = 0; i < nbb_cells.length; ++i) {\n",
       "                    if (nbb_cells[i].input_prompt_number == nbb_cell_id) {\n",
       "                        if (nbb_cells[i].get_text() == nbb_unformatted_code) {\n",
       "                             nbb_cells[i].set_text(nbb_formatted_code);\n",
       "                        }\n",
       "                        break;\n",
       "                    }\n",
       "                }\n",
       "            }, 500);\n",
       "            "
      ],
      "text/plain": [
       "<IPython.core.display.Javascript object>"
      ]
     },
     "metadata": {},
     "output_type": "display_data"
    }
   ],
   "source": [
    "mi_weights = np.array(list(nx.get_edge_attributes(selected_ppi, \"mi\").values()))"
   ]
  },
  {
   "cell_type": "code",
   "execution_count": 79,
   "id": "2155e8f4",
   "metadata": {},
   "outputs": [
    {
     "data": {
      "image/png": "[encoded data removed]",
      "text/plain": [
       "<Figure size 360x360 with 1 Axes>"
      ]
     },
     "metadata": {
      "needs_background": "light"
     },
     "output_type": "display_data"
    },
    {
     "data": {
      "application/javascript": [
       "\n",
       "            setTimeout(function() {\n",
       "                var nbb_cell_id = 79;\n",
       "                var nbb_unformatted_code = \"plt.figure(figsize=[5, 5])\\nsns.histplot(np.max(mi_weights) - (mi_weights))\\nplt.title(\\\"Distribution of the MI edge weights (100 bins)\\\")\\nplt.xlabel(\\\"max(m)-m\\\")\\nplt.show()\";\n",
       "                var nbb_formatted_code = \"plt.figure(figsize=[5, 5])\\nsns.histplot(np.max(mi_weights) - (mi_weights))\\nplt.title(\\\"Distribution of the MI edge weights (100 bins)\\\")\\nplt.xlabel(\\\"max(m)-m\\\")\\nplt.show()\";\n",
       "                var nbb_cells = Jupyter.notebook.get_cells();\n",
       "                for (var i = 0; i < nbb_cells.length; ++i) {\n",
       "                    if (nbb_cells[i].input_prompt_number == nbb_cell_id) {\n",
       "                        if (nbb_cells[i].get_text() == nbb_unformatted_code) {\n",
       "                             nbb_cells[i].set_text(nbb_formatted_code);\n",
       "                        }\n",
       "                        break;\n",
       "                    }\n",
       "                }\n",
       "            }, 500);\n",
       "            "
      ],
      "text/plain": [
       "<IPython.core.display.Javascript object>"
      ]
     },
     "metadata": {},
     "output_type": "display_data"
    }
   ],
   "source": [
    "plt.figure(figsize=[5, 5])\n",
    "sns.histplot(np.max(mi_weights) - (mi_weights))\n",
    "plt.title(\"Distribution of the MI edge weights (100 bins)\")\n",
    "plt.xlabel(\"max(m)-m\")\n",
    "plt.show()"
   ]
  },
  {
   "cell_type": "markdown",
   "id": "2e97b1b4",
   "metadata": {},
   "source": [
    "----\n",
    "\n",
    "## 5. PCST preprocessing\n",
    "\n",
    "After having computed the respective metrics we will now construct different version of the PPI with associated edge weights and node prizes for the inference of the PCST algorithm."
   ]
  },
  {
   "cell_type": "markdown",
   "id": "832e5a46",
   "metadata": {},
   "source": [
    "### 5a. Version 1\n",
    "\n",
    "In the first version, we will use the human PPI that was pruned to remove low-confidence edges and includes only nodes corresponding to genes covered by the scRNAseq data set.\n",
    "\n",
    "We will define the node prizes as given by the absolute log-fold change when comparing the U20S cells with other cells from the CCLE cancer dataset. Missing values are replaced by zeros.\n",
    "\n",
    "The chosen edge weights are given by $1-|r_{spearman}|$."
   ]
  },
  {
   "cell_type": "code",
   "execution_count": 200,
   "id": "d6c736bb",
   "metadata": {},
   "outputs": [
    {
     "data": {
      "application/javascript": [
       "\n",
       "            setTimeout(function() {\n",
       "                var nbb_cell_id = 200;\n",
       "                var nbb_unformatted_code = \"ppi_version_1 = selected_ppi.copy()\\n\\nabs_log_fc = marker_results.loc[:, \\\"abs_log_fc\\\"]\\n\\n## Set node prizes\\nprize_dict = dict()\\nfor node in ppi_version_1.nodes(data=True):\\n    try:\\n        node[-1][\\\"prize\\\"] = abs_log_fc[node[0]]\\n    except KeyError:\\n        node[-1][\\\"prize\\\"] = 0\\n\\n\\n## Set edge weights\\nfor edge in ppi_version_1.edges(data=True):\\n    edge[-1][\\\"cost\\\"] = edge[-1][\\\"spearmanr\\\"]\\n\\n## Save network\\nnx.write_gpickle(\\n    ppi_version_1,\\n    \\\"../../../data/ppi/ppi_confidence_0542_hub_230_pruned_ccle_abslogfc_spearmanr.pkl\\\",\\n)\";\n",
       "                var nbb_formatted_code = \"ppi_version_1 = selected_ppi.copy()\\n\\nabs_log_fc = marker_results.loc[:, \\\"abs_log_fc\\\"]\\n\\n## Set node prizes\\nprize_dict = dict()\\nfor node in ppi_version_1.nodes(data=True):\\n    try:\\n        node[-1][\\\"prize\\\"] = abs_log_fc[node[0]]\\n    except KeyError:\\n        node[-1][\\\"prize\\\"] = 0\\n\\n\\n## Set edge weights\\nfor edge in ppi_version_1.edges(data=True):\\n    edge[-1][\\\"cost\\\"] = edge[-1][\\\"spearmanr\\\"]\\n\\n## Save network\\nnx.write_gpickle(\\n    ppi_version_1,\\n    \\\"../../../data/ppi/ppi_confidence_0542_hub_230_pruned_ccle_abslogfc_spearmanr.pkl\\\",\\n)\";\n",
       "                var nbb_cells = Jupyter.notebook.get_cells();\n",
       "                for (var i = 0; i < nbb_cells.length; ++i) {\n",
       "                    if (nbb_cells[i].input_prompt_number == nbb_cell_id) {\n",
       "                        if (nbb_cells[i].get_text() == nbb_unformatted_code) {\n",
       "                             nbb_cells[i].set_text(nbb_formatted_code);\n",
       "                        }\n",
       "                        break;\n",
       "                    }\n",
       "                }\n",
       "            }, 500);\n",
       "            "
      ],
      "text/plain": [
       "<IPython.core.display.Javascript object>"
      ]
     },
     "metadata": {},
     "output_type": "display_data"
    }
   ],
   "source": [
    "ppi_version_1 = selected_ppi.copy()\n",
    "\n",
    "abs_log_fc = marker_results.loc[:, \"abs_log_fc\"]\n",
    "\n",
    "## Set node prizes\n",
    "prize_dict = dict()\n",
    "for node in ppi_version_1.nodes(data=True):\n",
    "    try:\n",
    "        node[-1][\"prize\"] = abs_log_fc[node[0]]\n",
    "    except KeyError:\n",
    "        node[-1][\"prize\"] = 0\n",
    "\n",
    "\n",
    "## Set edge weights\n",
    "for edge in ppi_version_1.edges(data=True):\n",
    "    edge[-1][\"cost\"] = edge[-1][\"spearmanr\"]\n",
    "\n",
    "## Save network\n",
    "nx.write_gpickle(\n",
    "    ppi_version_1,\n",
    "    \"../../../data/ppi/ppi_confidence_0542_hub_230_pruned_ccle_abslogfc_spearmanr.pkl\",\n",
    ")"
   ]
  },
  {
   "cell_type": "markdown",
   "id": "1e1d51a4",
   "metadata": {},
   "source": [
    "---\n",
    "\n",
    "### 5b. Version 2\n",
    "\n",
    "Alternatively, we will construct a second version that uses the same node prizes as before and the same underlying skeleton but rather uses the p-value for a non-zero Spearman correlation as edge weights."
   ]
  },
  {
   "cell_type": "code",
   "execution_count": 201,
   "id": "ea2544ce",
   "metadata": {},
   "outputs": [
    {
     "data": {
      "application/javascript": [
       "\n",
       "            setTimeout(function() {\n",
       "                var nbb_cell_id = 201;\n",
       "                var nbb_unformatted_code = \"# ppi_version_2 = selected_ppi.copy()\\n\\n# abs_log_fc = marker_results.loc[:, \\\"abs_log_fc\\\"]\\n\\n# ## Set node prizes\\n# prize_dict = dict()\\n# for node in ppi_version_2.nodes(data=True):\\n#     try:\\n#         node[-1][\\\"prize\\\"] = abs_log_fc[node[0]]\\n#     except KeyError:\\n#         node[-1][\\\"prize\\\"] = 0\\n\\n\\n# ## Set edge weights\\n# for edge in ppi_version_2.edges(data=True):\\n#     edge[-1][\\\"cost\\\"] = edge[-1][\\\"spearmanp\\\"]\\n\\n# ## Save network\\n# nx.write_gpickle(\\n#     ppi_version_2,\\n#     \\\"../../../data/ppi/ppi_confidence_0542_hub_230_pruned_ccle_abslogfc_spearmanp.pkl\\\",\\n# )\";\n",
       "                var nbb_formatted_code = \"# ppi_version_2 = selected_ppi.copy()\\n\\n# abs_log_fc = marker_results.loc[:, \\\"abs_log_fc\\\"]\\n\\n# ## Set node prizes\\n# prize_dict = dict()\\n# for node in ppi_version_2.nodes(data=True):\\n#     try:\\n#         node[-1][\\\"prize\\\"] = abs_log_fc[node[0]]\\n#     except KeyError:\\n#         node[-1][\\\"prize\\\"] = 0\\n\\n\\n# ## Set edge weights\\n# for edge in ppi_version_2.edges(data=True):\\n#     edge[-1][\\\"cost\\\"] = edge[-1][\\\"spearmanp\\\"]\\n\\n# ## Save network\\n# nx.write_gpickle(\\n#     ppi_version_2,\\n#     \\\"../../../data/ppi/ppi_confidence_0542_hub_230_pruned_ccle_abslogfc_spearmanp.pkl\\\",\\n# )\";\n",
       "                var nbb_cells = Jupyter.notebook.get_cells();\n",
       "                for (var i = 0; i < nbb_cells.length; ++i) {\n",
       "                    if (nbb_cells[i].input_prompt_number == nbb_cell_id) {\n",
       "                        if (nbb_cells[i].get_text() == nbb_unformatted_code) {\n",
       "                             nbb_cells[i].set_text(nbb_formatted_code);\n",
       "                        }\n",
       "                        break;\n",
       "                    }\n",
       "                }\n",
       "            }, 500);\n",
       "            "
      ],
      "text/plain": [
       "<IPython.core.display.Javascript object>"
      ]
     },
     "metadata": {},
     "output_type": "display_data"
    }
   ],
   "source": [
    "# ppi_version_2 = selected_ppi.copy()\n",
    "\n",
    "# abs_log_fc = marker_results.loc[:, \"abs_log_fc\"]\n",
    "\n",
    "# ## Set node prizes\n",
    "# prize_dict = dict()\n",
    "# for node in ppi_version_2.nodes(data=True):\n",
    "#     try:\n",
    "#         node[-1][\"prize\"] = abs_log_fc[node[0]]\n",
    "#     except KeyError:\n",
    "#         node[-1][\"prize\"] = 0\n",
    "\n",
    "\n",
    "# ## Set edge weights\n",
    "# for edge in ppi_version_2.edges(data=True):\n",
    "#     edge[-1][\"cost\"] = edge[-1][\"spearmanp\"]\n",
    "\n",
    "# ## Save network\n",
    "# nx.write_gpickle(\n",
    "#     ppi_version_2,\n",
    "#     \"../../../data/ppi/ppi_confidence_0542_hub_230_pruned_ccle_abslogfc_spearmanp.pkl\",\n",
    "# )"
   ]
  },
  {
   "cell_type": "markdown",
   "id": "93bd9276",
   "metadata": {},
   "source": [
    "---\n",
    "\n",
    "### 5c. Version 3/4\n",
    "\n",
    "To enforce the PCST to span the ORF targets we follow the strategy proposed by and set the prizes of the ORF targets to 10 that is larger than the maximum prize of any other node."
   ]
  },
  {
   "cell_type": "code",
   "execution_count": 202,
   "id": "1ffef1ec",
   "metadata": {},
   "outputs": [
    {
     "data": {
      "application/javascript": [
       "\n",
       "            setTimeout(function() {\n",
       "                var nbb_cell_id = 202;\n",
       "                var nbb_unformatted_code = \"ppi_version_3 = selected_ppi.copy()\\n\\nabs_log_fc = marker_results.loc[:, \\\"abs_log_fc\\\"]\\n\\n## Set node prizes\\nfor node in ppi_version_3.nodes(data=True):\\n    if node[0] in orf_targets:\\n        node[-1][\\\"prize\\\"] = np.max(abs_log_fc)\\n    else:\\n        try:\\n            node[-1][\\\"prize\\\"] = abs_log_fc[node[0]]\\n        except KeyError:\\n            node[-1][\\\"prize\\\"] = 0\\n\\n\\n## Set edge weights\\nfor edge in ppi_version_3.edges(data=True):\\n    edge[-1][\\\"cost\\\"] = edge[-1][\\\"spearmanr\\\"]\\n\\n## Save network\\nnx.write_gpickle(\\n    ppi_version_3,\\n    \\\"../../../data/ppi/ppi_confidence_0542_hub_230_pruned_ccle_abslogfc_orf_maxp_spearmanr.pkl\\\",\\n)\";\n",
       "                var nbb_formatted_code = \"ppi_version_3 = selected_ppi.copy()\\n\\nabs_log_fc = marker_results.loc[:, \\\"abs_log_fc\\\"]\\n\\n## Set node prizes\\nfor node in ppi_version_3.nodes(data=True):\\n    if node[0] in orf_targets:\\n        node[-1][\\\"prize\\\"] = np.max(abs_log_fc)\\n    else:\\n        try:\\n            node[-1][\\\"prize\\\"] = abs_log_fc[node[0]]\\n        except KeyError:\\n            node[-1][\\\"prize\\\"] = 0\\n\\n\\n## Set edge weights\\nfor edge in ppi_version_3.edges(data=True):\\n    edge[-1][\\\"cost\\\"] = edge[-1][\\\"spearmanr\\\"]\\n\\n## Save network\\nnx.write_gpickle(\\n    ppi_version_3,\\n    \\\"../../../data/ppi/ppi_confidence_0542_hub_230_pruned_ccle_abslogfc_orf_maxp_spearmanr.pkl\\\",\\n)\";\n",
       "                var nbb_cells = Jupyter.notebook.get_cells();\n",
       "                for (var i = 0; i < nbb_cells.length; ++i) {\n",
       "                    if (nbb_cells[i].input_prompt_number == nbb_cell_id) {\n",
       "                        if (nbb_cells[i].get_text() == nbb_unformatted_code) {\n",
       "                             nbb_cells[i].set_text(nbb_formatted_code);\n",
       "                        }\n",
       "                        break;\n",
       "                    }\n",
       "                }\n",
       "            }, 500);\n",
       "            "
      ],
      "text/plain": [
       "<IPython.core.display.Javascript object>"
      ]
     },
     "metadata": {},
     "output_type": "display_data"
    }
   ],
   "source": [
    "ppi_version_3 = selected_ppi.copy()\n",
    "\n",
    "abs_log_fc = marker_results.loc[:, \"abs_log_fc\"]\n",
    "\n",
    "## Set node prizes\n",
    "for node in ppi_version_3.nodes(data=True):\n",
    "    if node[0] in orf_targets:\n",
    "        node[-1][\"prize\"] = np.max(abs_log_fc)\n",
    "    else:\n",
    "        try:\n",
    "            node[-1][\"prize\"] = abs_log_fc[node[0]]\n",
    "        except KeyError:\n",
    "            node[-1][\"prize\"] = 0\n",
    "\n",
    "\n",
    "## Set edge weights\n",
    "for edge in ppi_version_3.edges(data=True):\n",
    "    edge[-1][\"cost\"] = edge[-1][\"spearmanr\"]\n",
    "\n",
    "## Save network\n",
    "nx.write_gpickle(\n",
    "    ppi_version_3,\n",
    "    \"../../../data/ppi/ppi_confidence_0542_hub_230_pruned_ccle_abslogfc_orf_maxp_spearmanr.pkl\",\n",
    ")"
   ]
  },
  {
   "cell_type": "code",
   "execution_count": 203,
   "id": "3405c91f",
   "metadata": {},
   "outputs": [
    {
     "data": {
      "application/javascript": [
       "\n",
       "            setTimeout(function() {\n",
       "                var nbb_cell_id = 203;\n",
       "                var nbb_unformatted_code = \"# ppi_version_4 = selected_ppi.copy()\\n\\n# abs_log_fc = marker_results.loc[:, \\\"abs_log_fc\\\"]\\n\\n# ## Set node prizes\\n# for node in ppi_version_4.nodes(data=True):\\n#     if node[0] in orf_targets:\\n#         node[-1][\\\"prize\\\"] = np.max(abs_log_fc)\\n#     else:\\n#         try:\\n#             node[-1][\\\"prize\\\"] = abs_log_fc[node[0]]\\n#         except KeyError:\\n#             node[-1][\\\"prize\\\"] = 0\\n\\n\\n# ## Set edge weights\\n# for edge in ppi_version_4.edges(data=True):\\n#     edge[-1][\\\"cost\\\"] = edge[-1][\\\"spearmanp\\\"]\\n\\n# ## Save network\\n# nx.write_gpickle(\\n#     ppi_version_4,\\n#     \\\"../../../data/ppi/ppi_confidence_0542_hub_230_pruned_ccle_abslogfc_orf_maxp_spearmanp.pkl\\\",\\n# )\";\n",
       "                var nbb_formatted_code = \"# ppi_version_4 = selected_ppi.copy()\\n\\n# abs_log_fc = marker_results.loc[:, \\\"abs_log_fc\\\"]\\n\\n# ## Set node prizes\\n# for node in ppi_version_4.nodes(data=True):\\n#     if node[0] in orf_targets:\\n#         node[-1][\\\"prize\\\"] = np.max(abs_log_fc)\\n#     else:\\n#         try:\\n#             node[-1][\\\"prize\\\"] = abs_log_fc[node[0]]\\n#         except KeyError:\\n#             node[-1][\\\"prize\\\"] = 0\\n\\n\\n# ## Set edge weights\\n# for edge in ppi_version_4.edges(data=True):\\n#     edge[-1][\\\"cost\\\"] = edge[-1][\\\"spearmanp\\\"]\\n\\n# ## Save network\\n# nx.write_gpickle(\\n#     ppi_version_4,\\n#     \\\"../../../data/ppi/ppi_confidence_0542_hub_230_pruned_ccle_abslogfc_orf_maxp_spearmanp.pkl\\\",\\n# )\";\n",
       "                var nbb_cells = Jupyter.notebook.get_cells();\n",
       "                for (var i = 0; i < nbb_cells.length; ++i) {\n",
       "                    if (nbb_cells[i].input_prompt_number == nbb_cell_id) {\n",
       "                        if (nbb_cells[i].get_text() == nbb_unformatted_code) {\n",
       "                             nbb_cells[i].set_text(nbb_formatted_code);\n",
       "                        }\n",
       "                        break;\n",
       "                    }\n",
       "                }\n",
       "            }, 500);\n",
       "            "
      ],
      "text/plain": [
       "<IPython.core.display.Javascript object>"
      ]
     },
     "metadata": {},
     "output_type": "display_data"
    }
   ],
   "source": [
    "# ppi_version_4 = selected_ppi.copy()\n",
    "\n",
    "# abs_log_fc = marker_results.loc[:, \"abs_log_fc\"]\n",
    "\n",
    "# ## Set node prizes\n",
    "# for node in ppi_version_4.nodes(data=True):\n",
    "#     if node[0] in orf_targets:\n",
    "#         node[-1][\"prize\"] = np.max(abs_log_fc)\n",
    "#     else:\n",
    "#         try:\n",
    "#             node[-1][\"prize\"] = abs_log_fc[node[0]]\n",
    "#         except KeyError:\n",
    "#             node[-1][\"prize\"] = 0\n",
    "\n",
    "\n",
    "# ## Set edge weights\n",
    "# for edge in ppi_version_4.edges(data=True):\n",
    "#     edge[-1][\"cost\"] = edge[-1][\"spearmanp\"]\n",
    "\n",
    "# ## Save network\n",
    "# nx.write_gpickle(\n",
    "#     ppi_version_4,\n",
    "#     \"../../../data/ppi/ppi_confidence_0542_hub_230_pruned_ccle_abslogfc_orf_maxp_spearmanp.pkl\",\n",
    "# )"
   ]
  },
  {
   "cell_type": "markdown",
   "id": "cc70ea5e",
   "metadata": {},
   "source": [
    "---\n",
    "\n",
    "## 6. Analyses of the PCST preprocessed graphs\n",
    "\n",
    "To get a better understanding of the input graphs that we constructed for the PCST driven inference we will plot some basic characteristics of the input graph. For that we will first focus on the 3rd version that we constructed for which the edge weights are given by $1-|r_{Spearman}|$ and the prizes by the absolute log fold-change with the ones of the ORF targets constantly set to the maximum log fold-change."
   ]
  },
  {
   "cell_type": "code",
   "execution_count": 204,
   "id": "9b24a5bc",
   "metadata": {},
   "outputs": [
    {
     "data": {
      "application/javascript": [
       "\n",
       "            setTimeout(function() {\n",
       "                var nbb_cell_id = 204;\n",
       "                var nbb_unformatted_code = \"graph = ppi_version_3\\nprizes = dict(nx.get_node_attributes(graph, \\\"prize\\\"))\\ncosts = dict(nx.get_edge_attributes(graph, \\\"cost\\\"))\";\n",
       "                var nbb_formatted_code = \"graph = ppi_version_3\\nprizes = dict(nx.get_node_attributes(graph, \\\"prize\\\"))\\ncosts = dict(nx.get_edge_attributes(graph, \\\"cost\\\"))\";\n",
       "                var nbb_cells = Jupyter.notebook.get_cells();\n",
       "                for (var i = 0; i < nbb_cells.length; ++i) {\n",
       "                    if (nbb_cells[i].input_prompt_number == nbb_cell_id) {\n",
       "                        if (nbb_cells[i].get_text() == nbb_unformatted_code) {\n",
       "                             nbb_cells[i].set_text(nbb_formatted_code);\n",
       "                        }\n",
       "                        break;\n",
       "                    }\n",
       "                }\n",
       "            }, 500);\n",
       "            "
      ],
      "text/plain": [
       "<IPython.core.display.Javascript object>"
      ]
     },
     "metadata": {},
     "output_type": "display_data"
    }
   ],
   "source": [
    "graph = ppi_version_3\n",
    "prizes = dict(nx.get_node_attributes(graph, \"prize\"))\n",
    "costs = dict(nx.get_edge_attributes(graph, \"cost\"))"
   ]
  },
  {
   "cell_type": "code",
   "execution_count": 255,
   "id": "01a6cdf6",
   "metadata": {},
   "outputs": [
    {
     "data": {
      "image/png": "[encoded data removed]",
      "text/plain": [
       "<Figure size 864x288 with 2 Axes>"
      ]
     },
     "metadata": {
      "needs_background": "light"
     },
     "output_type": "display_data"
    },
    {
     "data": {
      "application/javascript": [
       "\n",
       "            setTimeout(function() {\n",
       "                var nbb_cell_id = 255;\n",
       "                var nbb_unformatted_code = \"fig, ax = plt.subplots(nrows=1, ncols=2, figsize=[12, 4])\\nax = ax.flatten()\\nax[0] = sns.histplot(prizes.values(), ax=ax[0], legend=False)\\nax[0].set_title(\\\"Prize distribution\\\")\\nax[0].set_xlabel(\\\"Prize\\\")\\nax[1] = sns.histplot(costs.values(), ax=ax[1], legend=False)\\nax[1].set_title(\\\"Cost distribution\\\")\\nax[1].set_xlabel(\\\"Cost\\\")\\nplt.show()\\nplt.show()\";\n",
       "                var nbb_formatted_code = \"fig, ax = plt.subplots(nrows=1, ncols=2, figsize=[12, 4])\\nax = ax.flatten()\\nax[0] = sns.histplot(prizes.values(), ax=ax[0], legend=False)\\nax[0].set_title(\\\"Prize distribution\\\")\\nax[0].set_xlabel(\\\"Prize\\\")\\nax[1] = sns.histplot(costs.values(), ax=ax[1], legend=False)\\nax[1].set_title(\\\"Cost distribution\\\")\\nax[1].set_xlabel(\\\"Cost\\\")\\nplt.show()\\nplt.show()\";\n",
       "                var nbb_cells = Jupyter.notebook.get_cells();\n",
       "                for (var i = 0; i < nbb_cells.length; ++i) {\n",
       "                    if (nbb_cells[i].input_prompt_number == nbb_cell_id) {\n",
       "                        if (nbb_cells[i].get_text() == nbb_unformatted_code) {\n",
       "                             nbb_cells[i].set_text(nbb_formatted_code);\n",
       "                        }\n",
       "                        break;\n",
       "                    }\n",
       "                }\n",
       "            }, 500);\n",
       "            "
      ],
      "text/plain": [
       "<IPython.core.display.Javascript object>"
      ]
     },
     "metadata": {},
     "output_type": "display_data"
    }
   ],
   "source": [
    "fig, ax = plt.subplots(nrows=1, ncols=2, figsize=[12, 4])\n",
    "ax = ax.flatten()\n",
    "ax[0] = sns.histplot(prizes.values(), ax=ax[0], legend=False)\n",
    "ax[0].set_title(\"Prize distribution\")\n",
    "ax[0].set_xlabel(\"Prize\")\n",
    "ax[1] = sns.histplot(costs.values(), ax=ax[1], legend=False)\n",
    "ax[1].set_title(\"Cost distribution\")\n",
    "ax[1].set_xlabel(\"Cost\")\n",
    "plt.show()\n",
    "plt.show()"
   ]
  },
  {
   "cell_type": "markdown",
   "id": "3c577d27",
   "metadata": {},
   "source": [
    "We are now interested if there is a relationship between the prizes and edge costs and the corresponding nodes i.e. those that the edges associated with the costs connect to. To this end, we will plot the prizes by the corresponding edge degree and as well as the edge costs."
   ]
  },
  {
   "cell_type": "code",
   "execution_count": 228,
   "id": "69f8050b",
   "metadata": {},
   "outputs": [
    {
     "data": {
      "application/javascript": [
       "\n",
       "            setTimeout(function() {\n",
       "                var nbb_cell_id = 228;\n",
       "                var nbb_unformatted_code = \"degrees = dict(graph.degree())\\ndegrees = {k: v for k, v in sorted(degrees.items())}\\nprizes = {k: v for k, v in sorted(prizes.items())}\\norf_target_colors = []\\nfor k in prizes:\\n    orf_target_colors.append(k in orf_targets)\";\n",
       "                var nbb_formatted_code = \"degrees = dict(graph.degree())\\ndegrees = {k: v for k, v in sorted(degrees.items())}\\nprizes = {k: v for k, v in sorted(prizes.items())}\\norf_target_colors = []\\nfor k in prizes:\\n    orf_target_colors.append(k in orf_targets)\";\n",
       "                var nbb_cells = Jupyter.notebook.get_cells();\n",
       "                for (var i = 0; i < nbb_cells.length; ++i) {\n",
       "                    if (nbb_cells[i].input_prompt_number == nbb_cell_id) {\n",
       "                        if (nbb_cells[i].get_text() == nbb_unformatted_code) {\n",
       "                             nbb_cells[i].set_text(nbb_formatted_code);\n",
       "                        }\n",
       "                        break;\n",
       "                    }\n",
       "                }\n",
       "            }, 500);\n",
       "            "
      ],
      "text/plain": [
       "<IPython.core.display.Javascript object>"
      ]
     },
     "metadata": {},
     "output_type": "display_data"
    }
   ],
   "source": [
    "degrees = dict(graph.degree())\n",
    "degrees = {k: v for k, v in sorted(degrees.items())}\n",
    "prizes = {k: v for k, v in sorted(prizes.items())}\n",
    "orf_target_colors = []\n",
    "for k in prizes:\n",
    "    orf_target_colors.append(k in orf_targets)"
   ]
  },
  {
   "cell_type": "code",
   "execution_count": 227,
   "id": "320aff39",
   "metadata": {},
   "outputs": [
    {
     "data": {
      "application/javascript": [
       "\n",
       "            setTimeout(function() {\n",
       "                var nbb_cell_id = 227;\n",
       "                var nbb_unformatted_code = \"mean_node_cost = []\\nstd_node_cost = []\\nnode_degrees = []\\nnode_orf_target_colors = []\\nfor node in graph.nodes():\\n    node_orf_target_colors.append(node in orf_targets)\\n    node_degrees.append(graph.degree(node))\\n    edges = graph.edges(node, data=True)\\n    node_cost = []\\n    for edge in edges:\\n        node_cost.append(edge[-1][\\\"cost\\\"])\\n    mean_node_cost.append(np.mean(node_cost))\\n    std_node_cost.append(np.std(node_cost))\";\n",
       "                var nbb_formatted_code = \"mean_node_cost = []\\nstd_node_cost = []\\nnode_degrees = []\\nnode_orf_target_colors = []\\nfor node in graph.nodes():\\n    node_orf_target_colors.append(node in orf_targets)\\n    node_degrees.append(graph.degree(node))\\n    edges = graph.edges(node, data=True)\\n    node_cost = []\\n    for edge in edges:\\n        node_cost.append(edge[-1][\\\"cost\\\"])\\n    mean_node_cost.append(np.mean(node_cost))\\n    std_node_cost.append(np.std(node_cost))\";\n",
       "                var nbb_cells = Jupyter.notebook.get_cells();\n",
       "                for (var i = 0; i < nbb_cells.length; ++i) {\n",
       "                    if (nbb_cells[i].input_prompt_number == nbb_cell_id) {\n",
       "                        if (nbb_cells[i].get_text() == nbb_unformatted_code) {\n",
       "                             nbb_cells[i].set_text(nbb_formatted_code);\n",
       "                        }\n",
       "                        break;\n",
       "                    }\n",
       "                }\n",
       "            }, 500);\n",
       "            "
      ],
      "text/plain": [
       "<IPython.core.display.Javascript object>"
      ]
     },
     "metadata": {},
     "output_type": "display_data"
    }
   ],
   "source": [
    "mean_node_cost = []\n",
    "std_node_cost = []\n",
    "node_degrees = []\n",
    "node_orf_target_colors = []\n",
    "for node in graph.nodes():\n",
    "    node_orf_target_colors.append(node in orf_targets)\n",
    "    node_degrees.append(graph.degree(node))\n",
    "    edges = graph.edges(node, data=True)\n",
    "    node_cost = []\n",
    "    for edge in edges:\n",
    "        node_cost.append(edge[-1][\"cost\"])\n",
    "    mean_node_cost.append(np.mean(node_cost))\n",
    "    std_node_cost.append(np.std(node_cost))"
   ]
  },
  {
   "cell_type": "code",
   "execution_count": 253,
   "id": "3951c377",
   "metadata": {},
   "outputs": [
    {
     "data": {
      "image/png": "[encoded data removed]",
      "text/plain": [
       "<Figure size 1728x432 with 3 Axes>"
      ]
     },
     "metadata": {
      "needs_background": "light"
     },
     "output_type": "display_data"
    },
    {
     "data": {
      "application/javascript": [
       "\n",
       "            setTimeout(function() {\n",
       "                var nbb_cell_id = 253;\n",
       "                var nbb_unformatted_code = \"fig, ax = plt.subplots(nrows=1, ncols=3, figsize=[24, 6])\\nax = ax.flatten()\\nax[0].scatter(\\n    degrees.values(),\\n    prizes.values(),\\n    c=orf_target_colors,\\n    s=10,\\n    cmap=\\\"bwr\\\",\\n    alpha=0.6,\\n)\\nax[0].set_xlabel(\\\"Degree\\\")\\nax[0].set_ylabel(\\\"Prize\\\")\\nax[0].set_title(\\\"Prize vs. Degree\\\")\\n\\nax[1].scatter(\\n    node_degrees, mean_node_cost, c=node_orf_target_colors, s=10, cmap=\\\"bwr\\\", alpha=0.6\\n)\\nax[1].set_xlabel(\\\"Degree\\\")\\nax[1].set_ylabel(\\\"Mean cost\\\")\\nax[1].set_title(\\\"Mean cost vs. Degree\\\")\\n\\nax[2].scatter(\\n    node_degrees, std_node_cost, c=node_orf_target_colors, s=10, cmap=\\\"bwr\\\", alpha=0.6\\n)\\nax[2].set_xlabel(\\\"Degree\\\")\\nax[2].set_ylabel(\\\"Std cost\\\")\\nax[2].set_title(\\\"Std cost vs. Degree\\\")\\nplt.show()\";\n",
       "                var nbb_formatted_code = \"fig, ax = plt.subplots(nrows=1, ncols=3, figsize=[24, 6])\\nax = ax.flatten()\\nax[0].scatter(\\n    degrees.values(),\\n    prizes.values(),\\n    c=orf_target_colors,\\n    s=10,\\n    cmap=\\\"bwr\\\",\\n    alpha=0.6,\\n)\\nax[0].set_xlabel(\\\"Degree\\\")\\nax[0].set_ylabel(\\\"Prize\\\")\\nax[0].set_title(\\\"Prize vs. Degree\\\")\\n\\nax[1].scatter(\\n    node_degrees, mean_node_cost, c=node_orf_target_colors, s=10, cmap=\\\"bwr\\\", alpha=0.6\\n)\\nax[1].set_xlabel(\\\"Degree\\\")\\nax[1].set_ylabel(\\\"Mean cost\\\")\\nax[1].set_title(\\\"Mean cost vs. Degree\\\")\\n\\nax[2].scatter(\\n    node_degrees, std_node_cost, c=node_orf_target_colors, s=10, cmap=\\\"bwr\\\", alpha=0.6\\n)\\nax[2].set_xlabel(\\\"Degree\\\")\\nax[2].set_ylabel(\\\"Std cost\\\")\\nax[2].set_title(\\\"Std cost vs. Degree\\\")\\nplt.show()\";\n",
       "                var nbb_cells = Jupyter.notebook.get_cells();\n",
       "                for (var i = 0; i < nbb_cells.length; ++i) {\n",
       "                    if (nbb_cells[i].input_prompt_number == nbb_cell_id) {\n",
       "                        if (nbb_cells[i].get_text() == nbb_unformatted_code) {\n",
       "                             nbb_cells[i].set_text(nbb_formatted_code);\n",
       "                        }\n",
       "                        break;\n",
       "                    }\n",
       "                }\n",
       "            }, 500);\n",
       "            "
      ],
      "text/plain": [
       "<IPython.core.display.Javascript object>"
      ]
     },
     "metadata": {},
     "output_type": "display_data"
    }
   ],
   "source": [
    "fig, ax = plt.subplots(nrows=1, ncols=3, figsize=[24, 6])\n",
    "ax = ax.flatten()\n",
    "ax[0].scatter(\n",
    "    degrees.values(),\n",
    "    prizes.values(),\n",
    "    c=orf_target_colors,\n",
    "    s=10,\n",
    "    cmap=\"bwr\",\n",
    "    alpha=0.6,\n",
    ")\n",
    "ax[0].set_xlabel(\"Degree\")\n",
    "ax[0].set_ylabel(\"Prize\")\n",
    "ax[0].set_title(\"Prize vs. Degree\")\n",
    "\n",
    "ax[1].scatter(\n",
    "    node_degrees, mean_node_cost, c=node_orf_target_colors, s=10, cmap=\"bwr\", alpha=0.6\n",
    ")\n",
    "ax[1].set_xlabel(\"Degree\")\n",
    "ax[1].set_ylabel(\"Mean cost\")\n",
    "ax[1].set_title(\"Mean cost vs. Degree\")\n",
    "\n",
    "ax[2].scatter(\n",
    "    node_degrees, std_node_cost, c=node_orf_target_colors, s=10, cmap=\"bwr\", alpha=0.6\n",
    ")\n",
    "ax[2].set_xlabel(\"Degree\")\n",
    "ax[2].set_ylabel(\"Std cost\")\n",
    "ax[2].set_title(\"Std cost vs. Degree\")\n",
    "plt.show()"
   ]
  },
  {
   "cell_type": "markdown",
   "id": "52c3279e",
   "metadata": {},
   "source": [
    "The above plots illustrate that the most of nodes with a very high degree get relatively low yet non-zero prizes. Note, that due to the manual inflation of the prizes for the ORF targets that does not apply to those (marked in red). Additionally, most nodes with high-degrees are connected to many high cost edges as shown by the mean cost. Recalling the histogram of the overall edge cost distribution this is not surprising. The variance of the edge cost also decreases with increasing degree on average."
   ]
  },
  {
   "cell_type": "markdown",
   "id": "ead2734b",
   "metadata": {},
   "source": [
    "Jointly, this suggest that we might want to exclude even more high-degree nodes. However, this will also likely cause the largest connected component of the induced subgraph to span less of the ORF targets. Thus, it would be important to either manually include these as long as they can be connected to the largest connected component or that the ORF targets that are filtered out are of no special interest for the downstream analyses."
   ]
  },
  {
   "cell_type": "code",
   "execution_count": 274,
   "id": "54d0f39c",
   "metadata": {},
   "outputs": [
    {
     "data": {
      "application/javascript": [
       "\n",
       "            setTimeout(function() {\n",
       "                var nbb_cell_id = 274;\n",
       "                var nbb_unformatted_code = \"targets = [\\\"CASP8\\\", \\\"CASP9\\\", \\\"BCL2L11\\\", \\\"DDIT3\\\", \\\"GRB10\\\"]\\ndist = np.zeros([5, 5])\\ncollect = np.zeros([5,5])\\nfor i in range(5):\\n    for j in range(5):\\n        dist[i, j] = nx.shortest_path_length(\\n            graph, source=targets[i], target=targets[j], weight=\\\"cost\\\"\\n        )\\n        sp = nx.shortest_path(\\n            graph, source=targets[i], target=targets[j], weight=\\\"cost\\\")\\n        collect[i,j] = np.sum([prizes[n] for n in sp]) - dist[i,j]\\ndist = pd.DataFrame(dist, index=targets, columns=targets)\";\n",
       "                var nbb_formatted_code = \"targets = [\\\"CASP8\\\", \\\"CASP9\\\", \\\"BCL2L11\\\", \\\"DDIT3\\\", \\\"GRB10\\\"]\\ndist = np.zeros([5, 5])\\ncollect = np.zeros([5, 5])\\nfor i in range(5):\\n    for j in range(5):\\n        dist[i, j] = nx.shortest_path_length(\\n            graph, source=targets[i], target=targets[j], weight=\\\"cost\\\"\\n        )\\n        sp = nx.shortest_path(\\n            graph, source=targets[i], target=targets[j], weight=\\\"cost\\\"\\n        )\\n        collect[i, j] = np.sum([prizes[n] for n in sp]) - dist[i, j]\\ndist = pd.DataFrame(dist, index=targets, columns=targets)\";\n",
       "                var nbb_cells = Jupyter.notebook.get_cells();\n",
       "                for (var i = 0; i < nbb_cells.length; ++i) {\n",
       "                    if (nbb_cells[i].input_prompt_number == nbb_cell_id) {\n",
       "                        if (nbb_cells[i].get_text() == nbb_unformatted_code) {\n",
       "                             nbb_cells[i].set_text(nbb_formatted_code);\n",
       "                        }\n",
       "                        break;\n",
       "                    }\n",
       "                }\n",
       "            }, 500);\n",
       "            "
      ],
      "text/plain": [
       "<IPython.core.display.Javascript object>"
      ]
     },
     "metadata": {},
     "output_type": "display_data"
    }
   ],
   "source": [
    "targets = [\"CASP8\", \"CASP9\", \"BCL2L11\", \"DDIT3\", \"GRB10\"]\n",
    "dist = np.zeros([5, 5])\n",
    "collect = np.zeros([5, 5])\n",
    "for i in range(5):\n",
    "    for j in range(5):\n",
    "        dist[i, j] = nx.shortest_path_length(\n",
    "            graph, source=targets[i], target=targets[j], weight=\"cost\"\n",
    "        )\n",
    "        sp = nx.shortest_path(\n",
    "            graph, source=targets[i], target=targets[j], weight=\"cost\"\n",
    "        )\n",
    "        collect[i, j] = np.sum([prizes[n] for n in sp]) - dist[i, j]\n",
    "dist = pd.DataFrame(dist, index=targets, columns=targets)\n",
    "collect = pd.DataFrame(collect, index=targets, columns=targets)"
   ]
  },
  {
   "cell_type": "code",
   "execution_count": 284,
   "id": "8aeafbfe",
   "metadata": {},
   "outputs": [
    {
     "data": {
      "image/png": "[encoded data removed]",
      "text/plain": [
       "<Figure size 864x288 with 4 Axes>"
      ]
     },
     "metadata": {
      "needs_background": "light"
     },
     "output_type": "display_data"
    },
    {
     "data": {
      "application/javascript": [
       "\n",
       "            setTimeout(function() {\n",
       "                var nbb_cell_id = 284;\n",
       "                var nbb_unformatted_code = \"fig, ax = plt.subplots(nrows=1, ncols=2, figsize=[12, 4])\\nax = ax.flatten()\\nax[0] = sns.heatmap(dist, annot=True, ax=ax[0], fmt=\\\".2f\\\")\\nax[0].set_title(\\\"Shortest path cost\\\")\\nax[1] = sns.heatmap(collect, annot=True, ax=ax[1], fmt=\\\".2f\\\")\\nax[1].set_title(\\\"PCST objective on shortest path\\\")\\nplt.show()\";\n",
       "                var nbb_formatted_code = \"fig, ax = plt.subplots(nrows=1, ncols=2, figsize=[12, 4])\\nax = ax.flatten()\\nax[0] = sns.heatmap(dist, annot=True, ax=ax[0], fmt=\\\".2f\\\")\\nax[0].set_title(\\\"Shortest path cost\\\")\\nax[1] = sns.heatmap(collect, annot=True, ax=ax[1], fmt=\\\".2f\\\")\\nax[1].set_title(\\\"PCST objective on shortest path\\\")\\nplt.show()\";\n",
       "                var nbb_cells = Jupyter.notebook.get_cells();\n",
       "                for (var i = 0; i < nbb_cells.length; ++i) {\n",
       "                    if (nbb_cells[i].input_prompt_number == nbb_cell_id) {\n",
       "                        if (nbb_cells[i].get_text() == nbb_unformatted_code) {\n",
       "                             nbb_cells[i].set_text(nbb_formatted_code);\n",
       "                        }\n",
       "                        break;\n",
       "                    }\n",
       "                }\n",
       "            }, 500);\n",
       "            "
      ],
      "text/plain": [
       "<IPython.core.display.Javascript object>"
      ]
     },
     "metadata": {},
     "output_type": "display_data"
    }
   ],
   "source": [
    "fig, ax = plt.subplots(nrows=1, ncols=2, figsize=[12, 4])\n",
    "ax = ax.flatten()\n",
    "ax[0] = sns.heatmap(dist, annot=True, ax=ax[0], fmt=\".2f\")\n",
    "ax[0].set_title(\"Shortest path cost\")\n",
    "ax[1] = sns.heatmap(collect, annot=True, ax=ax[1], fmt=\".2f\")\n",
    "ax[1].set_title(\"PCST objective on shortest path\")\n",
    "plt.show()"
   ]
  }
 ],
 "metadata": {
  "kernelspec": {
   "display_name": "Python 3",
   "language": "python",
   "name": "python3"
  },
  "language_info": {
   "codemirror_mode": {
    "name": "ipython",
    "version": 3
   },
   "file_extension": ".py",
   "mimetype": "text/x-python",
   "name": "python",
   "nbconvert_exporter": "python",
   "pygments_lexer": "ipython3",
   "version": "3.8.8"
  }
 },
 "nbformat": 4,
 "nbformat_minor": 5
}
