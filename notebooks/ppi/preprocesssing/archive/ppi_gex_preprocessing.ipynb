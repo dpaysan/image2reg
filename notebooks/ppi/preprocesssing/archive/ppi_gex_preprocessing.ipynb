{
 "cells": [
  {
   "cell_type": "markdown",
   "id": "db92a0f9",
   "metadata": {},
   "source": [
    "# GEX preprocessing for PPI inference\n",
    "\n",
    "This notebook will work on the filtered single-cell gene expression data from Mahdessian et al. to define appropriate edge costs and node prizes for the Prize-collecting Steiner analyses.\n",
    "\n",
    "---"
   ]
  },
  {
   "cell_type": "markdown",
   "id": "b5448180",
   "metadata": {},
   "source": [
    "## 0. Environmental setup"
   ]
  },
  {
   "cell_type": "code",
   "execution_count": 1,
   "id": "53e897b9",
   "metadata": {},
   "outputs": [
    {
     "data": {
      "application/javascript": [
       "\n",
       "            setTimeout(function() {\n",
       "                var nbb_cell_id = 1;\n",
       "                var nbb_unformatted_code = \"import pandas as pd\\nimport scanpy as sc\\nimport numpy as np\\nimport matplotlib.pyplot as plt\\nimport seaborn as sns\\nfrom matplotlib_venn import venn3, venn3_unweighted\\nimport venn\\nimport networkx as nx\\nfrom sklearn.mixture import GaussianMixture\\nfrom scipy.stats import ttest_1samp, pearsonr, spearmanr\\nfrom statsmodels.stats.multitest import fdrcorrection\\nfrom tqdm import tqdm\\nfrom collections import Counter\\nfrom sklearn.metrics import mutual_info_score\\nimport matplotlib.cm as cm\\n\\nseed = 1234\\n\\n%load_ext nb_black\";\n",
       "                var nbb_formatted_code = \"import pandas as pd\\nimport scanpy as sc\\nimport numpy as np\\nimport matplotlib.pyplot as plt\\nimport seaborn as sns\\nfrom matplotlib_venn import venn3, venn3_unweighted\\nimport venn\\nimport networkx as nx\\nfrom sklearn.mixture import GaussianMixture\\nfrom scipy.stats import ttest_1samp, pearsonr, spearmanr\\nfrom statsmodels.stats.multitest import fdrcorrection\\nfrom tqdm import tqdm\\nfrom collections import Counter\\nfrom sklearn.metrics import mutual_info_score\\nimport matplotlib.cm as cm\\n\\nseed = 1234\\n\\n%load_ext nb_black\";\n",
       "                var nbb_cells = Jupyter.notebook.get_cells();\n",
       "                for (var i = 0; i < nbb_cells.length; ++i) {\n",
       "                    if (nbb_cells[i].input_prompt_number == nbb_cell_id) {\n",
       "                        if (nbb_cells[i].get_text() == nbb_unformatted_code) {\n",
       "                             nbb_cells[i].set_text(nbb_formatted_code);\n",
       "                        }\n",
       "                        break;\n",
       "                    }\n",
       "                }\n",
       "            }, 500);\n",
       "            "
      ],
      "text/plain": [
       "<IPython.core.display.Javascript object>"
      ]
     },
     "metadata": {},
     "output_type": "display_data"
    }
   ],
   "source": [
    "import pandas as pd\n",
    "import scanpy as sc\n",
    "import numpy as np\n",
    "import matplotlib.pyplot as plt\n",
    "import seaborn as sns\n",
    "from matplotlib_venn import venn3, venn3_unweighted\n",
    "import venn\n",
    "import networkx as nx\n",
    "from sklearn.mixture import GaussianMixture\n",
    "from scipy.stats import ttest_1samp, pearsonr, spearmanr\n",
    "from statsmodels.stats.multitest import fdrcorrection\n",
    "from tqdm import tqdm\n",
    "from collections import Counter\n",
    "from sklearn.metrics import mutual_info_score\n",
    "import matplotlib.cm as cm\n",
    "\n",
    "seed = 1234\n",
    "\n",
    "%load_ext nb_black"
   ]
  },
  {
   "cell_type": "code",
   "execution_count": 2,
   "id": "cf0128c7",
   "metadata": {},
   "outputs": [
    {
     "data": {
      "application/javascript": [
       "\n",
       "            setTimeout(function() {\n",
       "                var nbb_cell_id = 2;\n",
       "                var nbb_unformatted_code = \"def find_markers(data, target, avg_log_fc=0.25, min_pct=0.1):\\n    target_data = data.loc[target]\\n    other_data = data.drop([target], axis=0)\\n    results = {\\n        \\\"log_expr_target\\\": [],\\n        \\\"avg_log_expr_other\\\": [],\\n        \\\"log_fc\\\": [],\\n        \\\"abs_log_fc\\\": [],\\n        \\\"pval\\\": [],\\n    }\\n    genes = list(data.columns)\\n    selected_genes = []\\n    for gene in genes:\\n        log_other_expr = np.array(other_data.loc[:, gene])\\n        avg_log_expr_other = log_other_expr.mean()\\n        log_expr_target = target_data.loc[gene]\\n        log_fc = log_expr_target - avg_log_expr_other\\n        # if log_fc > avg_log_fc and np.mean(log_other_expr == 0) <= (1 - min_pct):\\n        if (\\n            avg_log_fc < np.abs(log_fc)\\n            and np.mean(log_other_expr == 0) <= (1 - min_pct)\\n            and np.mean(log_expr_target == 0) <= (1 - min_pct)\\n        ):\\n            results[\\\"log_expr_target\\\"].append(log_expr_target)\\n            results[\\\"avg_log_expr_other\\\"].append(avg_log_expr_other)\\n            results[\\\"log_fc\\\"].append(log_fc)\\n            results[\\\"abs_log_fc\\\"].append(np.abs(log_fc))\\n            results[\\\"pval\\\"].append(ttest_1samp(log_other_expr, log_expr_target)[1])\\n            selected_genes.append(gene)\\n    results[\\\"fdr\\\"] = fdrcorrection(results[\\\"pval\\\"])[1]\\n    results = pd.DataFrame.from_dict(results)\\n    results.index = selected_genes\\n    return results\";\n",
       "                var nbb_formatted_code = \"def find_markers(data, target, avg_log_fc=0.25, min_pct=0.1):\\n    target_data = data.loc[target]\\n    other_data = data.drop([target], axis=0)\\n    results = {\\n        \\\"log_expr_target\\\": [],\\n        \\\"avg_log_expr_other\\\": [],\\n        \\\"log_fc\\\": [],\\n        \\\"abs_log_fc\\\": [],\\n        \\\"pval\\\": [],\\n    }\\n    genes = list(data.columns)\\n    selected_genes = []\\n    for gene in genes:\\n        log_other_expr = np.array(other_data.loc[:, gene])\\n        avg_log_expr_other = log_other_expr.mean()\\n        log_expr_target = target_data.loc[gene]\\n        log_fc = log_expr_target - avg_log_expr_other\\n        # if log_fc > avg_log_fc and np.mean(log_other_expr == 0) <= (1 - min_pct):\\n        if (\\n            avg_log_fc < np.abs(log_fc)\\n            and np.mean(log_other_expr == 0) <= (1 - min_pct)\\n            and np.mean(log_expr_target == 0) <= (1 - min_pct)\\n        ):\\n            results[\\\"log_expr_target\\\"].append(log_expr_target)\\n            results[\\\"avg_log_expr_other\\\"].append(avg_log_expr_other)\\n            results[\\\"log_fc\\\"].append(log_fc)\\n            results[\\\"abs_log_fc\\\"].append(np.abs(log_fc))\\n            results[\\\"pval\\\"].append(ttest_1samp(log_other_expr, log_expr_target)[1])\\n            selected_genes.append(gene)\\n    results[\\\"fdr\\\"] = fdrcorrection(results[\\\"pval\\\"])[1]\\n    results = pd.DataFrame.from_dict(results)\\n    results.index = selected_genes\\n    return results\";\n",
       "                var nbb_cells = Jupyter.notebook.get_cells();\n",
       "                for (var i = 0; i < nbb_cells.length; ++i) {\n",
       "                    if (nbb_cells[i].input_prompt_number == nbb_cell_id) {\n",
       "                        if (nbb_cells[i].get_text() == nbb_unformatted_code) {\n",
       "                             nbb_cells[i].set_text(nbb_formatted_code);\n",
       "                        }\n",
       "                        break;\n",
       "                    }\n",
       "                }\n",
       "            }, 500);\n",
       "            "
      ],
      "text/plain": [
       "<IPython.core.display.Javascript object>"
      ]
     },
     "metadata": {},
     "output_type": "display_data"
    }
   ],
   "source": [
    "def find_markers(data, target, avg_log_fc=0.25, min_pct=0.1):\n",
    "    target_data = data.loc[target]\n",
    "    other_data = data.drop([target], axis=0)\n",
    "    results = {\n",
    "        \"log_expr_target\": [],\n",
    "        \"avg_log_expr_other\": [],\n",
    "        \"log_fc\": [],\n",
    "        \"abs_log_fc\": [],\n",
    "        \"pval\": [],\n",
    "    }\n",
    "    genes = list(data.columns)\n",
    "    selected_genes = []\n",
    "    for gene in genes:\n",
    "        log_other_expr = np.array(other_data.loc[:, gene])\n",
    "        avg_log_expr_other = log_other_expr.mean()\n",
    "        log_expr_target = target_data.loc[gene]\n",
    "        log_fc = log_expr_target - avg_log_expr_other\n",
    "        # if log_fc > avg_log_fc and np.mean(log_other_expr == 0) <= (1 - min_pct):\n",
    "        if (\n",
    "            avg_log_fc < np.abs(log_fc)\n",
    "            and np.mean(log_other_expr == 0) <= (1 - min_pct)\n",
    "            and np.mean(log_expr_target == 0) <= (1 - min_pct)\n",
    "        ):\n",
    "            results[\"log_expr_target\"].append(log_expr_target)\n",
    "            results[\"avg_log_expr_other\"].append(avg_log_expr_other)\n",
    "            results[\"log_fc\"].append(log_fc)\n",
    "            results[\"abs_log_fc\"].append(np.abs(log_fc))\n",
    "            results[\"pval\"].append(ttest_1samp(log_other_expr, log_expr_target)[1])\n",
    "            selected_genes.append(gene)\n",
    "    results[\"fdr\"] = fdrcorrection(results[\"pval\"])[1]\n",
    "    results = pd.DataFrame.from_dict(results)\n",
    "    results.index = selected_genes\n",
    "    return results"
   ]
  },
  {
   "cell_type": "code",
   "execution_count": 3,
   "id": "b461594c",
   "metadata": {},
   "outputs": [
    {
     "data": {
      "application/javascript": [
       "\n",
       "            setTimeout(function() {\n",
       "                var nbb_cell_id = 3;\n",
       "                var nbb_unformatted_code = \"def search_for_confidence_cutoff(ppi, targets, uncertainty=\\\"cost\\\"):\\n    n_edges = []\\n    avg_degrees = []\\n    n_nodes = []\\n    n_targets = []\\n    cutoffs = list(np.arange(0, 1, 0.001))\\n    ppi_edge_list = nx.to_pandas_edgelist(ppi)\\n    for cutoff in tqdm(cutoffs):\\n        graph = nx.from_pandas_edgelist(\\n            ppi_edge_list.loc[ppi_edge_list[\\\"cost\\\"] < cutoff, :],\\n        )\\n        n_edges.append(len(graph.edges()))\\n        n_nodes.append(len(graph.nodes()))\\n        n_targets.append(len((targets).intersection(set(list((graph.nodes()))))))\\n        degrees = [val for (node, val) in graph.degree()]\\n        if len(graph.nodes()) > 0:\\n            avg_degrees.append(sum(degrees) / len(graph.nodes()))\\n        else:\\n            avg_degrees.append(0)\\n    edge_cost_overview = pd.DataFrame.from_dict(\\n        {\\n            \\\"cutoff\\\": cutoffs,\\n            \\\"n_nodes\\\": n_nodes,\\n            \\\"n_targets\\\": n_targets,\\n            \\\"n_edges\\\": n_edges,\\n            \\\"avg_degree\\\": avg_degrees,\\n        }\\n    )\\n    return edge_cost_overview\";\n",
       "                var nbb_formatted_code = \"def search_for_confidence_cutoff(ppi, targets, uncertainty=\\\"cost\\\"):\\n    n_edges = []\\n    avg_degrees = []\\n    n_nodes = []\\n    n_targets = []\\n    cutoffs = list(np.arange(0, 1, 0.001))\\n    ppi_edge_list = nx.to_pandas_edgelist(ppi)\\n    for cutoff in tqdm(cutoffs):\\n        graph = nx.from_pandas_edgelist(\\n            ppi_edge_list.loc[ppi_edge_list[\\\"cost\\\"] < cutoff, :],\\n        )\\n        n_edges.append(len(graph.edges()))\\n        n_nodes.append(len(graph.nodes()))\\n        n_targets.append(len((targets).intersection(set(list((graph.nodes()))))))\\n        degrees = [val for (node, val) in graph.degree()]\\n        if len(graph.nodes()) > 0:\\n            avg_degrees.append(sum(degrees) / len(graph.nodes()))\\n        else:\\n            avg_degrees.append(0)\\n    edge_cost_overview = pd.DataFrame.from_dict(\\n        {\\n            \\\"cutoff\\\": cutoffs,\\n            \\\"n_nodes\\\": n_nodes,\\n            \\\"n_targets\\\": n_targets,\\n            \\\"n_edges\\\": n_edges,\\n            \\\"avg_degree\\\": avg_degrees,\\n        }\\n    )\\n    return edge_cost_overview\";\n",
       "                var nbb_cells = Jupyter.notebook.get_cells();\n",
       "                for (var i = 0; i < nbb_cells.length; ++i) {\n",
       "                    if (nbb_cells[i].input_prompt_number == nbb_cell_id) {\n",
       "                        if (nbb_cells[i].get_text() == nbb_unformatted_code) {\n",
       "                             nbb_cells[i].set_text(nbb_formatted_code);\n",
       "                        }\n",
       "                        break;\n",
       "                    }\n",
       "                }\n",
       "            }, 500);\n",
       "            "
      ],
      "text/plain": [
       "<IPython.core.display.Javascript object>"
      ]
     },
     "metadata": {},
     "output_type": "display_data"
    }
   ],
   "source": [
    "def search_for_confidence_cutoff(ppi, targets, uncertainty=\"cost\"):\n",
    "    n_edges = []\n",
    "    avg_degrees = []\n",
    "    n_nodes = []\n",
    "    n_targets = []\n",
    "    cutoffs = list(np.arange(0, 1, 0.001))\n",
    "    ppi_edge_list = nx.to_pandas_edgelist(ppi)\n",
    "    for cutoff in tqdm(cutoffs):\n",
    "        graph = nx.from_pandas_edgelist(\n",
    "            ppi_edge_list.loc[ppi_edge_list[\"cost\"] < cutoff, :],\n",
    "        )\n",
    "        n_edges.append(len(graph.edges()))\n",
    "        n_nodes.append(len(graph.nodes()))\n",
    "        n_targets.append(len((targets).intersection(set(list((graph.nodes()))))))\n",
    "        degrees = [val for (node, val) in graph.degree()]\n",
    "        if len(graph.nodes()) > 0:\n",
    "            avg_degrees.append(sum(degrees) / len(graph.nodes()))\n",
    "        else:\n",
    "            avg_degrees.append(0)\n",
    "    edge_cost_overview = pd.DataFrame.from_dict(\n",
    "        {\n",
    "            \"cutoff\": cutoffs,\n",
    "            \"n_nodes\": n_nodes,\n",
    "            \"n_targets\": n_targets,\n",
    "            \"n_edges\": n_edges,\n",
    "            \"avg_degree\": avg_degrees,\n",
    "        }\n",
    "    )\n",
    "    return edge_cost_overview"
   ]
  },
  {
   "cell_type": "code",
   "execution_count": 4,
   "id": "76ffb0b0",
   "metadata": {},
   "outputs": [
    {
     "data": {
      "application/javascript": [
       "\n",
       "            setTimeout(function() {\n",
       "                var nbb_cell_id = 4;\n",
       "                var nbb_unformatted_code = \"def compute_bootstrap_p(x, y, metric, b=1000, random_state=1234):\\n    np.random.seed(random_state)\\n    bootstrap_metrics = []\\n    if metric == \\\"pearson\\\":\\n        sample_metric = pearsonr(x, y)[0]\\n    elif metric == \\\"spearman\\\":\\n        sample_metric = spearmanr(x, y)[0]\\n    else:\\n        raise NotImplementedError(\\\"Unknown metric provided: {}\\\".format(metric))\\n    for i in range(b):\\n        x_boot = np.random.choice(x, size=len(x), replace=True)\\n        y_boot = np.random.choice(y, size=len(y), replace=True)\\n        if metric == \\\"pearson\\\":\\n            bootstrap_metric = pearsonr(x_boot, y_boot)[0]\\n        elif metric == \\\"spearman\\\":\\n            bootstrap_metric = spearmanr(x_boot, y_boot)[0]\\n        else:\\n            raise NotImplementedError(\\\"Unknown metric provided: {}\\\".format(metric))\\n        bootstrap_metrics.append(bootstrap_metric)\\n    p_boot = (1 / b) * np.sum(bootstrap_metrics <= sample_metric)\\n    return p_boot\";\n",
       "                var nbb_formatted_code = \"def compute_bootstrap_p(x, y, metric, b=1000, random_state=1234):\\n    np.random.seed(random_state)\\n    bootstrap_metrics = []\\n    if metric == \\\"pearson\\\":\\n        sample_metric = pearsonr(x, y)[0]\\n    elif metric == \\\"spearman\\\":\\n        sample_metric = spearmanr(x, y)[0]\\n    else:\\n        raise NotImplementedError(\\\"Unknown metric provided: {}\\\".format(metric))\\n    for i in range(b):\\n        x_boot = np.random.choice(x, size=len(x), replace=True)\\n        y_boot = np.random.choice(y, size=len(y), replace=True)\\n        if metric == \\\"pearson\\\":\\n            bootstrap_metric = pearsonr(x_boot, y_boot)[0]\\n        elif metric == \\\"spearman\\\":\\n            bootstrap_metric = spearmanr(x_boot, y_boot)[0]\\n        else:\\n            raise NotImplementedError(\\\"Unknown metric provided: {}\\\".format(metric))\\n        bootstrap_metrics.append(bootstrap_metric)\\n    p_boot = (1 / b) * np.sum(bootstrap_metrics <= sample_metric)\\n    return p_boot\";\n",
       "                var nbb_cells = Jupyter.notebook.get_cells();\n",
       "                for (var i = 0; i < nbb_cells.length; ++i) {\n",
       "                    if (nbb_cells[i].input_prompt_number == nbb_cell_id) {\n",
       "                        if (nbb_cells[i].get_text() == nbb_unformatted_code) {\n",
       "                             nbb_cells[i].set_text(nbb_formatted_code);\n",
       "                        }\n",
       "                        break;\n",
       "                    }\n",
       "                }\n",
       "            }, 500);\n",
       "            "
      ],
      "text/plain": [
       "<IPython.core.display.Javascript object>"
      ]
     },
     "metadata": {},
     "output_type": "display_data"
    }
   ],
   "source": [
    "def compute_bootstrap_p(x, y, metric, b=1000, random_state=1234):\n",
    "    np.random.seed(random_state)\n",
    "    bootstrap_metrics = []\n",
    "    if metric == \"pearson\":\n",
    "        sample_metric = pearsonr(x, y)[0]\n",
    "    elif metric == \"spearman\":\n",
    "        sample_metric = spearmanr(x, y)[0]\n",
    "    else:\n",
    "        raise NotImplementedError(\"Unknown metric provided: {}\".format(metric))\n",
    "    for i in range(b):\n",
    "        x_boot = np.random.choice(x, size=len(x), replace=True)\n",
    "        y_boot = np.random.choice(y, size=len(y), replace=True)\n",
    "        if metric == \"pearson\":\n",
    "            bootstrap_metric = pearsonr(x_boot, y_boot)[0]\n",
    "        elif metric == \"spearman\":\n",
    "            bootstrap_metric = spearmanr(x_boot, y_boot)[0]\n",
    "        else:\n",
    "            raise NotImplementedError(\"Unknown metric provided: {}\".format(metric))\n",
    "        bootstrap_metrics.append(bootstrap_metric)\n",
    "    p_boot = (1 / b) * np.sum(bootstrap_metrics <= sample_metric)\n",
    "    return p_boot"
   ]
  },
  {
   "cell_type": "code",
   "execution_count": 5,
   "id": "aa97f5de",
   "metadata": {},
   "outputs": [
    {
     "data": {
      "application/javascript": [
       "\n",
       "            setTimeout(function() {\n",
       "                var nbb_cell_id = 5;\n",
       "                var nbb_unformatted_code = \"def compute_mi_score(x, y, bins):\\n    c_xy = np.histogram2d(x, y, bins)[0]\\n    mi = mutual_info_score(None, None, contingency=c_xy)\\n    return mi\";\n",
       "                var nbb_formatted_code = \"def compute_mi_score(x, y, bins):\\n    c_xy = np.histogram2d(x, y, bins)[0]\\n    mi = mutual_info_score(None, None, contingency=c_xy)\\n    return mi\";\n",
       "                var nbb_cells = Jupyter.notebook.get_cells();\n",
       "                for (var i = 0; i < nbb_cells.length; ++i) {\n",
       "                    if (nbb_cells[i].input_prompt_number == nbb_cell_id) {\n",
       "                        if (nbb_cells[i].get_text() == nbb_unformatted_code) {\n",
       "                             nbb_cells[i].set_text(nbb_formatted_code);\n",
       "                        }\n",
       "                        break;\n",
       "                    }\n",
       "                }\n",
       "            }, 500);\n",
       "            "
      ],
      "text/plain": [
       "<IPython.core.display.Javascript object>"
      ]
     },
     "metadata": {},
     "output_type": "display_data"
    }
   ],
   "source": [
    "def compute_mi_score(x, y, bins):\n",
    "    c_xy = np.histogram2d(x, y, bins)[0]\n",
    "    mi = mutual_info_score(None, None, contingency=c_xy)\n",
    "    return mi"
   ]
  },
  {
   "cell_type": "code",
   "execution_count": 6,
   "id": "f17b6a74",
   "metadata": {},
   "outputs": [
    {
     "data": {
      "application/javascript": [
       "\n",
       "            setTimeout(function() {\n",
       "                var nbb_cell_id = 6;\n",
       "                var nbb_unformatted_code = \"def compute_edge_weights(\\n    ppi,\\n    data,\\n    metrics=[\\\"pearsonr\\\", \\\"spearmanr\\\", \\\"mi\\\", \\\"pearsonp\\\", \\\"spearmanp\\\"],\\n    b=1000,\\n    random_state=1234,\\n):\\n    for metric in metrics:\\n        for (u, v) in tqdm(\\n            ppi.edges(), desc=\\\"Compute edge weights for {}\\\".format(metric)\\n        ):\\n            x = np.array(data.loc[:, u])\\n            y = np.array(data.loc[:, v])\\n            if metric == \\\"pearsonr\\\":\\n                association = pearsonr(x, y)[0]\\n                cost = 1 - np.abs(association)\\n            elif metric == \\\"spearmanr\\\":\\n                association = spearmanr(x, y)[0]\\n                cost = 1 - np.abs(association)\\n            elif metric == \\\"mi\\\":\\n                cost = compute_mi_score(x, y, 100)\\n            elif metric == \\\"pearsonp\\\":\\n                association = compute_bootstrap_p(\\n                    x, y, metric=\\\"pearson\\\", b=b, random_state=random_state\\n                )\\n                cost = association\\n            elif metric == \\\"spearmanp\\\":\\n                association = compute_bootstrap_p(\\n                    x, y, metric=\\\"spearman\\\", b=b, random_state=random_state\\n                )\\n                cost = association\\n            else:\\n                raise NotImplementedError(\\\"Unknown metric provided: {}\\\".format(metric))\\n            ppi.edges[u, v][metric] = cost\\n    return ppi\";\n",
       "                var nbb_formatted_code = \"def compute_edge_weights(\\n    ppi,\\n    data,\\n    metrics=[\\\"pearsonr\\\", \\\"spearmanr\\\", \\\"mi\\\", \\\"pearsonp\\\", \\\"spearmanp\\\"],\\n    b=1000,\\n    random_state=1234,\\n):\\n    for metric in metrics:\\n        for (u, v) in tqdm(\\n            ppi.edges(), desc=\\\"Compute edge weights for {}\\\".format(metric)\\n        ):\\n            x = np.array(data.loc[:, u])\\n            y = np.array(data.loc[:, v])\\n            if metric == \\\"pearsonr\\\":\\n                association = pearsonr(x, y)[0]\\n                cost = 1 - np.abs(association)\\n            elif metric == \\\"spearmanr\\\":\\n                association = spearmanr(x, y)[0]\\n                cost = 1 - np.abs(association)\\n            elif metric == \\\"mi\\\":\\n                cost = compute_mi_score(x, y, 100)\\n            elif metric == \\\"pearsonp\\\":\\n                association = compute_bootstrap_p(\\n                    x, y, metric=\\\"pearson\\\", b=b, random_state=random_state\\n                )\\n                cost = association\\n            elif metric == \\\"spearmanp\\\":\\n                association = compute_bootstrap_p(\\n                    x, y, metric=\\\"spearman\\\", b=b, random_state=random_state\\n                )\\n                cost = association\\n            else:\\n                raise NotImplementedError(\\\"Unknown metric provided: {}\\\".format(metric))\\n            ppi.edges[u, v][metric] = cost\\n    return ppi\";\n",
       "                var nbb_cells = Jupyter.notebook.get_cells();\n",
       "                for (var i = 0; i < nbb_cells.length; ++i) {\n",
       "                    if (nbb_cells[i].input_prompt_number == nbb_cell_id) {\n",
       "                        if (nbb_cells[i].get_text() == nbb_unformatted_code) {\n",
       "                             nbb_cells[i].set_text(nbb_formatted_code);\n",
       "                        }\n",
       "                        break;\n",
       "                    }\n",
       "                }\n",
       "            }, 500);\n",
       "            "
      ],
      "text/plain": [
       "<IPython.core.display.Javascript object>"
      ]
     },
     "metadata": {},
     "output_type": "display_data"
    }
   ],
   "source": [
    "def compute_edge_weights(\n",
    "    ppi,\n",
    "    data,\n",
    "    metrics=[\"pearsonr\", \"spearmanr\", \"mi\", \"pearsonp\", \"spearmanp\"],\n",
    "    b=1000,\n",
    "    random_state=1234,\n",
    "):\n",
    "    for metric in metrics:\n",
    "        for (u, v) in tqdm(\n",
    "            ppi.edges(), desc=\"Compute edge weights for {}\".format(metric)\n",
    "        ):\n",
    "            x = np.array(data.loc[:, u])\n",
    "            y = np.array(data.loc[:, v])\n",
    "            if metric == \"pearsonr\":\n",
    "                association = pearsonr(x, y)[0]\n",
    "                cost = 1 - np.abs(association)\n",
    "            elif metric == \"spearmanr\":\n",
    "                association = spearmanr(x, y)[0]\n",
    "                cost = 1 - np.abs(association)\n",
    "            elif metric == \"mi\":\n",
    "                cost = compute_mi_score(x, y, 100)\n",
    "            elif metric == \"pearsonp\":\n",
    "                association = compute_bootstrap_p(\n",
    "                    x, y, metric=\"pearson\", b=b, random_state=random_state\n",
    "                )\n",
    "                cost = association\n",
    "            elif metric == \"spearmanp\":\n",
    "                association = compute_bootstrap_p(\n",
    "                    x, y, metric=\"spearman\", b=b, random_state=random_state\n",
    "                )\n",
    "                cost = association\n",
    "            else:\n",
    "                raise NotImplementedError(\"Unknown metric provided: {}\".format(metric))\n",
    "            ppi.edges[u, v][metric] = cost\n",
    "    return ppi"
   ]
  },
  {
   "cell_type": "markdown",
   "id": "b3bf4c3a",
   "metadata": {},
   "source": [
    "---\n",
    "\n",
    "## 1. Read in data"
   ]
  },
  {
   "cell_type": "markdown",
   "id": "171322b3",
   "metadata": {},
   "source": [
    "We will read in a number of different data sets that we will use for our analyses: a) the single-cell gene expression data from Mahdessian et al. (2021), b) the most recent version of the CCLE expression data set, c) the list of ORF gene targets from the study by Rohban et al. (2017) and finally d) the Human PPI network as defined by the iRefIndexDB v14."
   ]
  },
  {
   "cell_type": "code",
   "execution_count": 7,
   "id": "7dda020d",
   "metadata": {},
   "outputs": [
    {
     "data": {
      "text/html": [
       "<div>\n",
       "<style scoped>\n",
       "    .dataframe tbody tr th:only-of-type {\n",
       "        vertical-align: middle;\n",
       "    }\n",
       "\n",
       "    .dataframe tbody tr th {\n",
       "        vertical-align: top;\n",
       "    }\n",
       "\n",
       "    .dataframe thead th {\n",
       "        text-align: right;\n",
       "    }\n",
       "</style>\n",
       "<table border=\"1\" class=\"dataframe\">\n",
       "  <thead>\n",
       "    <tr style=\"text-align: right;\">\n",
       "      <th></th>\n",
       "      <th>TSPAN6</th>\n",
       "      <th>DPM1</th>\n",
       "      <th>SCYL3</th>\n",
       "      <th>C1ORF112</th>\n",
       "      <th>CFH</th>\n",
       "      <th>FUCA2</th>\n",
       "      <th>GCLC</th>\n",
       "      <th>NFYA</th>\n",
       "      <th>STPG1</th>\n",
       "      <th>NIPAL3</th>\n",
       "      <th>...</th>\n",
       "      <th>NOTCH2NLR</th>\n",
       "      <th>SPDYE14</th>\n",
       "      <th>DERPC</th>\n",
       "      <th>BMS1P23</th>\n",
       "      <th>LOC107986257</th>\n",
       "      <th>LOC728392</th>\n",
       "      <th>NOTCH2NLC</th>\n",
       "      <th>SPDYE11</th>\n",
       "      <th>ARMCX5-GPRASP2</th>\n",
       "      <th>LOC114841035</th>\n",
       "    </tr>\n",
       "  </thead>\n",
       "  <tbody>\n",
       "    <tr>\n",
       "      <th>A10_355</th>\n",
       "      <td>4.084212</td>\n",
       "      <td>4.450537</td>\n",
       "      <td>2.539949</td>\n",
       "      <td>3.306074</td>\n",
       "      <td>0.0</td>\n",
       "      <td>3.924660</td>\n",
       "      <td>2.747193</td>\n",
       "      <td>3.980721</td>\n",
       "      <td>3.192863</td>\n",
       "      <td>3.306074</td>\n",
       "      <td>...</td>\n",
       "      <td>0.000000</td>\n",
       "      <td>0.0</td>\n",
       "      <td>0.000000</td>\n",
       "      <td>0.000000</td>\n",
       "      <td>0.000000</td>\n",
       "      <td>0.0</td>\n",
       "      <td>3.111745</td>\n",
       "      <td>0.000000</td>\n",
       "      <td>0.0</td>\n",
       "      <td>0.0</td>\n",
       "    </tr>\n",
       "    <tr>\n",
       "      <th>A10_356</th>\n",
       "      <td>4.416176</td>\n",
       "      <td>3.408068</td>\n",
       "      <td>0.000000</td>\n",
       "      <td>3.341437</td>\n",
       "      <td>0.0</td>\n",
       "      <td>3.109879</td>\n",
       "      <td>3.637463</td>\n",
       "      <td>2.683064</td>\n",
       "      <td>2.919073</td>\n",
       "      <td>4.264037</td>\n",
       "      <td>...</td>\n",
       "      <td>0.000000</td>\n",
       "      <td>0.0</td>\n",
       "      <td>2.540241</td>\n",
       "      <td>2.038441</td>\n",
       "      <td>1.584074</td>\n",
       "      <td>0.0</td>\n",
       "      <td>0.328890</td>\n",
       "      <td>1.336015</td>\n",
       "      <td>0.0</td>\n",
       "      <td>0.0</td>\n",
       "    </tr>\n",
       "    <tr>\n",
       "      <th>A10_357</th>\n",
       "      <td>2.784883</td>\n",
       "      <td>4.266762</td>\n",
       "      <td>0.000000</td>\n",
       "      <td>3.756405</td>\n",
       "      <td>0.0</td>\n",
       "      <td>4.676425</td>\n",
       "      <td>4.027002</td>\n",
       "      <td>4.154050</td>\n",
       "      <td>3.560914</td>\n",
       "      <td>4.211993</td>\n",
       "      <td>...</td>\n",
       "      <td>3.527433</td>\n",
       "      <td>0.0</td>\n",
       "      <td>3.144496</td>\n",
       "      <td>0.000000</td>\n",
       "      <td>0.000000</td>\n",
       "      <td>0.0</td>\n",
       "      <td>3.733050</td>\n",
       "      <td>0.000000</td>\n",
       "      <td>0.0</td>\n",
       "      <td>0.0</td>\n",
       "    </tr>\n",
       "    <tr>\n",
       "      <th>A11_355</th>\n",
       "      <td>3.995154</td>\n",
       "      <td>4.196535</td>\n",
       "      <td>1.325398</td>\n",
       "      <td>3.543870</td>\n",
       "      <td>0.0</td>\n",
       "      <td>3.015254</td>\n",
       "      <td>3.015254</td>\n",
       "      <td>4.159373</td>\n",
       "      <td>0.000000</td>\n",
       "      <td>3.481722</td>\n",
       "      <td>...</td>\n",
       "      <td>0.000000</td>\n",
       "      <td>0.0</td>\n",
       "      <td>3.219861</td>\n",
       "      <td>1.930217</td>\n",
       "      <td>0.000000</td>\n",
       "      <td>0.0</td>\n",
       "      <td>2.597980</td>\n",
       "      <td>1.435097</td>\n",
       "      <td>0.0</td>\n",
       "      <td>0.0</td>\n",
       "    </tr>\n",
       "    <tr>\n",
       "      <th>A11_356</th>\n",
       "      <td>5.384314</td>\n",
       "      <td>3.358004</td>\n",
       "      <td>2.851447</td>\n",
       "      <td>2.519226</td>\n",
       "      <td>0.0</td>\n",
       "      <td>4.309559</td>\n",
       "      <td>3.807653</td>\n",
       "      <td>3.807653</td>\n",
       "      <td>3.843228</td>\n",
       "      <td>3.843228</td>\n",
       "      <td>...</td>\n",
       "      <td>0.000000</td>\n",
       "      <td>0.0</td>\n",
       "      <td>3.926349</td>\n",
       "      <td>0.000000</td>\n",
       "      <td>0.000000</td>\n",
       "      <td>0.0</td>\n",
       "      <td>0.000000</td>\n",
       "      <td>1.948682</td>\n",
       "      <td>0.0</td>\n",
       "      <td>0.0</td>\n",
       "    </tr>\n",
       "  </tbody>\n",
       "</table>\n",
       "<p>5 rows × 21445 columns</p>\n",
       "</div>"
      ],
      "text/plain": [
       "           TSPAN6      DPM1     SCYL3  C1ORF112  CFH     FUCA2      GCLC  \\\n",
       "A10_355  4.084212  4.450537  2.539949  3.306074  0.0  3.924660  2.747193   \n",
       "A10_356  4.416176  3.408068  0.000000  3.341437  0.0  3.109879  3.637463   \n",
       "A10_357  2.784883  4.266762  0.000000  3.756405  0.0  4.676425  4.027002   \n",
       "A11_355  3.995154  4.196535  1.325398  3.543870  0.0  3.015254  3.015254   \n",
       "A11_356  5.384314  3.358004  2.851447  2.519226  0.0  4.309559  3.807653   \n",
       "\n",
       "             NFYA     STPG1    NIPAL3  ...  NOTCH2NLR  SPDYE14     DERPC  \\\n",
       "A10_355  3.980721  3.192863  3.306074  ...   0.000000      0.0  0.000000   \n",
       "A10_356  2.683064  2.919073  4.264037  ...   0.000000      0.0  2.540241   \n",
       "A10_357  4.154050  3.560914  4.211993  ...   3.527433      0.0  3.144496   \n",
       "A11_355  4.159373  0.000000  3.481722  ...   0.000000      0.0  3.219861   \n",
       "A11_356  3.807653  3.843228  3.843228  ...   0.000000      0.0  3.926349   \n",
       "\n",
       "          BMS1P23  LOC107986257  LOC728392  NOTCH2NLC   SPDYE11  \\\n",
       "A10_355  0.000000      0.000000        0.0   3.111745  0.000000   \n",
       "A10_356  2.038441      1.584074        0.0   0.328890  1.336015   \n",
       "A10_357  0.000000      0.000000        0.0   3.733050  0.000000   \n",
       "A11_355  1.930217      0.000000        0.0   2.597980  1.435097   \n",
       "A11_356  0.000000      0.000000        0.0   0.000000  1.948682   \n",
       "\n",
       "         ARMCX5-GPRASP2  LOC114841035  \n",
       "A10_355             0.0           0.0  \n",
       "A10_356             0.0           0.0  \n",
       "A10_357             0.0           0.0  \n",
       "A11_355             0.0           0.0  \n",
       "A11_356             0.0           0.0  \n",
       "\n",
       "[5 rows x 21445 columns]"
      ]
     },
     "execution_count": 7,
     "metadata": {},
     "output_type": "execute_result"
    },
    {
     "data": {
      "application/javascript": [
       "\n",
       "            setTimeout(function() {\n",
       "                var nbb_cell_id = 7;\n",
       "                var nbb_unformatted_code = \"fucci_adata = sc.read(\\\"../../../data/gex/scrnaseq/fucci_adata.h5\\\")\\nfucci_adata.var_names_make_unique()\\nfucci_data = pd.DataFrame(\\n    fucci_adata.X, columns=fucci_adata.var_names, index=fucci_adata.obs_names\\n)\\nfucci_data.columns = [c.upper() for c in fucci_data.columns]\\nfucci_data.head()\";\n",
       "                var nbb_formatted_code = \"fucci_adata = sc.read(\\\"../../../data/gex/scrnaseq/fucci_adata.h5\\\")\\nfucci_adata.var_names_make_unique()\\nfucci_data = pd.DataFrame(\\n    fucci_adata.X, columns=fucci_adata.var_names, index=fucci_adata.obs_names\\n)\\nfucci_data.columns = [c.upper() for c in fucci_data.columns]\\nfucci_data.head()\";\n",
       "                var nbb_cells = Jupyter.notebook.get_cells();\n",
       "                for (var i = 0; i < nbb_cells.length; ++i) {\n",
       "                    if (nbb_cells[i].input_prompt_number == nbb_cell_id) {\n",
       "                        if (nbb_cells[i].get_text() == nbb_unformatted_code) {\n",
       "                             nbb_cells[i].set_text(nbb_formatted_code);\n",
       "                        }\n",
       "                        break;\n",
       "                    }\n",
       "                }\n",
       "            }, 500);\n",
       "            "
      ],
      "text/plain": [
       "<IPython.core.display.Javascript object>"
      ]
     },
     "metadata": {},
     "output_type": "display_data"
    }
   ],
   "source": [
    "fucci_adata = sc.read(\"../../../data/gex/scrnaseq/fucci_adata.h5\")\n",
    "fucci_adata.var_names_make_unique()\n",
    "fucci_data = pd.DataFrame(\n",
    "    fucci_adata.X, columns=fucci_adata.var_names, index=fucci_adata.obs_names\n",
    ")\n",
    "fucci_data.columns = [c.upper() for c in fucci_data.columns]\n",
    "fucci_data.head()"
   ]
  },
  {
   "cell_type": "code",
   "execution_count": 8,
   "id": "09075d2a",
   "metadata": {},
   "outputs": [
    {
     "data": {
      "application/javascript": [
       "\n",
       "            setTimeout(function() {\n",
       "                var nbb_cell_id = 8;\n",
       "                var nbb_unformatted_code = \"fucci_gene_set = set(fucci_data.columns)\";\n",
       "                var nbb_formatted_code = \"fucci_gene_set = set(fucci_data.columns)\";\n",
       "                var nbb_cells = Jupyter.notebook.get_cells();\n",
       "                for (var i = 0; i < nbb_cells.length; ++i) {\n",
       "                    if (nbb_cells[i].input_prompt_number == nbb_cell_id) {\n",
       "                        if (nbb_cells[i].get_text() == nbb_unformatted_code) {\n",
       "                             nbb_cells[i].set_text(nbb_formatted_code);\n",
       "                        }\n",
       "                        break;\n",
       "                    }\n",
       "                }\n",
       "            }, 500);\n",
       "            "
      ],
      "text/plain": [
       "<IPython.core.display.Javascript object>"
      ]
     },
     "metadata": {},
     "output_type": "display_data"
    }
   ],
   "source": [
    "fucci_gene_set = set(fucci_data.columns)"
   ]
  },
  {
   "cell_type": "markdown",
   "id": "6be95af4",
   "metadata": {},
   "source": [
    "The single-cell gene expression data from MAhdessian et al. (2021) to which we in the following refer to as FUCCI data set consists of 1'126 cells a 21'445."
   ]
  },
  {
   "cell_type": "code",
   "execution_count": 9,
   "id": "3099b325",
   "metadata": {},
   "outputs": [
    {
     "data": {
      "text/html": [
       "<div>\n",
       "<style scoped>\n",
       "    .dataframe tbody tr th:only-of-type {\n",
       "        vertical-align: middle;\n",
       "    }\n",
       "\n",
       "    .dataframe tbody tr th {\n",
       "        vertical-align: top;\n",
       "    }\n",
       "\n",
       "    .dataframe thead th {\n",
       "        text-align: right;\n",
       "    }\n",
       "</style>\n",
       "<table border=\"1\" class=\"dataframe\">\n",
       "  <thead>\n",
       "    <tr style=\"text-align: right;\">\n",
       "      <th></th>\n",
       "      <th>TSPAN6</th>\n",
       "      <th>TNMD</th>\n",
       "      <th>DPM1</th>\n",
       "      <th>SCYL3</th>\n",
       "      <th>C1ORF112</th>\n",
       "      <th>FGR</th>\n",
       "      <th>CFH</th>\n",
       "      <th>FUCA2</th>\n",
       "      <th>GCLC</th>\n",
       "      <th>NFYA</th>\n",
       "      <th>...</th>\n",
       "      <th>ARHGAP11B</th>\n",
       "      <th>AC004593.2</th>\n",
       "      <th>AC090517.4</th>\n",
       "      <th>AL160269.1</th>\n",
       "      <th>ABCF2-H2BE1</th>\n",
       "      <th>POLR2J3</th>\n",
       "      <th>H2BE1</th>\n",
       "      <th>AL445238.1</th>\n",
       "      <th>GET1-SH3BGR</th>\n",
       "      <th>AC113348.1</th>\n",
       "    </tr>\n",
       "    <tr>\n",
       "      <th>stripped_cell_line_name</th>\n",
       "      <th></th>\n",
       "      <th></th>\n",
       "      <th></th>\n",
       "      <th></th>\n",
       "      <th></th>\n",
       "      <th></th>\n",
       "      <th></th>\n",
       "      <th></th>\n",
       "      <th></th>\n",
       "      <th></th>\n",
       "      <th></th>\n",
       "      <th></th>\n",
       "      <th></th>\n",
       "      <th></th>\n",
       "      <th></th>\n",
       "      <th></th>\n",
       "      <th></th>\n",
       "      <th></th>\n",
       "      <th></th>\n",
       "      <th></th>\n",
       "      <th></th>\n",
       "    </tr>\n",
       "  </thead>\n",
       "  <tbody>\n",
       "    <tr>\n",
       "      <th>HOP92</th>\n",
       "      <td>4.296457</td>\n",
       "      <td>0.000000</td>\n",
       "      <td>5.646739</td>\n",
       "      <td>2.053111</td>\n",
       "      <td>2.841973</td>\n",
       "      <td>0.097611</td>\n",
       "      <td>1.049631</td>\n",
       "      <td>6.586314</td>\n",
       "      <td>3.849999</td>\n",
       "      <td>4.167519</td>\n",
       "      <td>...</td>\n",
       "      <td>0.871844</td>\n",
       "      <td>0.367371</td>\n",
       "      <td>0.137504</td>\n",
       "      <td>0.475085</td>\n",
       "      <td>3.990955</td>\n",
       "      <td>5.524816</td>\n",
       "      <td>0.0</td>\n",
       "      <td>0.176323</td>\n",
       "      <td>1.356144</td>\n",
       "      <td>0.000000</td>\n",
       "    </tr>\n",
       "    <tr>\n",
       "      <th>CME1</th>\n",
       "      <td>5.166314</td>\n",
       "      <td>0.344828</td>\n",
       "      <td>6.743353</td>\n",
       "      <td>2.361768</td>\n",
       "      <td>3.904966</td>\n",
       "      <td>0.000000</td>\n",
       "      <td>1.000000</td>\n",
       "      <td>0.150560</td>\n",
       "      <td>4.148121</td>\n",
       "      <td>4.385431</td>\n",
       "      <td>...</td>\n",
       "      <td>1.063503</td>\n",
       "      <td>0.000000</td>\n",
       "      <td>0.333424</td>\n",
       "      <td>0.042644</td>\n",
       "      <td>1.604071</td>\n",
       "      <td>5.768184</td>\n",
       "      <td>0.0</td>\n",
       "      <td>0.000000</td>\n",
       "      <td>0.565597</td>\n",
       "      <td>0.070389</td>\n",
       "    </tr>\n",
       "    <tr>\n",
       "      <th>HPBALL</th>\n",
       "      <td>0.084064</td>\n",
       "      <td>0.000000</td>\n",
       "      <td>5.373648</td>\n",
       "      <td>2.531069</td>\n",
       "      <td>4.713696</td>\n",
       "      <td>7.763412</td>\n",
       "      <td>0.226509</td>\n",
       "      <td>3.460743</td>\n",
       "      <td>4.576522</td>\n",
       "      <td>5.583158</td>\n",
       "      <td>...</td>\n",
       "      <td>2.277985</td>\n",
       "      <td>0.176323</td>\n",
       "      <td>0.214125</td>\n",
       "      <td>0.000000</td>\n",
       "      <td>2.528571</td>\n",
       "      <td>5.669877</td>\n",
       "      <td>0.0</td>\n",
       "      <td>0.000000</td>\n",
       "      <td>0.985500</td>\n",
       "      <td>0.028569</td>\n",
       "    </tr>\n",
       "    <tr>\n",
       "      <th>OVKATE</th>\n",
       "      <td>4.853497</td>\n",
       "      <td>0.028569</td>\n",
       "      <td>6.474598</td>\n",
       "      <td>3.001802</td>\n",
       "      <td>4.100137</td>\n",
       "      <td>0.895303</td>\n",
       "      <td>4.165912</td>\n",
       "      <td>4.721373</td>\n",
       "      <td>3.450221</td>\n",
       "      <td>3.757023</td>\n",
       "      <td>...</td>\n",
       "      <td>2.922198</td>\n",
       "      <td>0.084064</td>\n",
       "      <td>0.042644</td>\n",
       "      <td>0.963474</td>\n",
       "      <td>2.704872</td>\n",
       "      <td>5.831877</td>\n",
       "      <td>0.0</td>\n",
       "      <td>0.000000</td>\n",
       "      <td>1.104337</td>\n",
       "      <td>0.000000</td>\n",
       "    </tr>\n",
       "    <tr>\n",
       "      <th>SNU1033</th>\n",
       "      <td>5.353323</td>\n",
       "      <td>0.124328</td>\n",
       "      <td>6.436295</td>\n",
       "      <td>2.462052</td>\n",
       "      <td>3.964399</td>\n",
       "      <td>0.014355</td>\n",
       "      <td>2.695994</td>\n",
       "      <td>6.900625</td>\n",
       "      <td>4.862451</td>\n",
       "      <td>3.408712</td>\n",
       "      <td>...</td>\n",
       "      <td>0.910733</td>\n",
       "      <td>0.214125</td>\n",
       "      <td>0.000000</td>\n",
       "      <td>0.000000</td>\n",
       "      <td>2.648465</td>\n",
       "      <td>4.734439</td>\n",
       "      <td>0.0</td>\n",
       "      <td>0.000000</td>\n",
       "      <td>0.214125</td>\n",
       "      <td>0.000000</td>\n",
       "    </tr>\n",
       "  </tbody>\n",
       "</table>\n",
       "<p>5 rows × 19177 columns</p>\n",
       "</div>"
      ],
      "text/plain": [
       "                           TSPAN6      TNMD      DPM1     SCYL3  C1ORF112  \\\n",
       "stripped_cell_line_name                                                     \n",
       "HOP92                    4.296457  0.000000  5.646739  2.053111  2.841973   \n",
       "CME1                     5.166314  0.344828  6.743353  2.361768  3.904966   \n",
       "HPBALL                   0.084064  0.000000  5.373648  2.531069  4.713696   \n",
       "OVKATE                   4.853497  0.028569  6.474598  3.001802  4.100137   \n",
       "SNU1033                  5.353323  0.124328  6.436295  2.462052  3.964399   \n",
       "\n",
       "                              FGR       CFH     FUCA2      GCLC      NFYA  \\\n",
       "stripped_cell_line_name                                                     \n",
       "HOP92                    0.097611  1.049631  6.586314  3.849999  4.167519   \n",
       "CME1                     0.000000  1.000000  0.150560  4.148121  4.385431   \n",
       "HPBALL                   7.763412  0.226509  3.460743  4.576522  5.583158   \n",
       "OVKATE                   0.895303  4.165912  4.721373  3.450221  3.757023   \n",
       "SNU1033                  0.014355  2.695994  6.900625  4.862451  3.408712   \n",
       "\n",
       "                         ...  ARHGAP11B  AC004593.2  AC090517.4  AL160269.1  \\\n",
       "stripped_cell_line_name  ...                                                  \n",
       "HOP92                    ...   0.871844    0.367371    0.137504    0.475085   \n",
       "CME1                     ...   1.063503    0.000000    0.333424    0.042644   \n",
       "HPBALL                   ...   2.277985    0.176323    0.214125    0.000000   \n",
       "OVKATE                   ...   2.922198    0.084064    0.042644    0.963474   \n",
       "SNU1033                  ...   0.910733    0.214125    0.000000    0.000000   \n",
       "\n",
       "                         ABCF2-H2BE1   POLR2J3  H2BE1  AL445238.1  \\\n",
       "stripped_cell_line_name                                             \n",
       "HOP92                       3.990955  5.524816    0.0    0.176323   \n",
       "CME1                        1.604071  5.768184    0.0    0.000000   \n",
       "HPBALL                      2.528571  5.669877    0.0    0.000000   \n",
       "OVKATE                      2.704872  5.831877    0.0    0.000000   \n",
       "SNU1033                     2.648465  4.734439    0.0    0.000000   \n",
       "\n",
       "                         GET1-SH3BGR  AC113348.1  \n",
       "stripped_cell_line_name                           \n",
       "HOP92                       1.356144    0.000000  \n",
       "CME1                        0.565597    0.070389  \n",
       "HPBALL                      0.985500    0.028569  \n",
       "OVKATE                      1.104337    0.000000  \n",
       "SNU1033                     0.214125    0.000000  \n",
       "\n",
       "[5 rows x 19177 columns]"
      ]
     },
     "execution_count": 9,
     "metadata": {},
     "output_type": "execute_result"
    },
    {
     "data": {
      "application/javascript": [
       "\n",
       "            setTimeout(function() {\n",
       "                var nbb_cell_id = 9;\n",
       "                var nbb_unformatted_code = \"ccle_data = pd.read_csv(\\\"../../../data/gex/ccle/CCLE_expression.csv\\\", index_col=0)\\nccle_sample_info = pd.read_csv(\\n    \\\"../../../data/gex/ccle/CCLE_expression_sample_info.csv\\\", index_col=0\\n)\\nmatched_ids = set(ccle_sample_info.index).intersection(ccle_data.index)\\nccle_data = ccle_data.loc[list(matched_ids)]\\nccle_data.index = ccle_sample_info.loc[ccle_data.index, \\\"stripped_cell_line_name\\\"]\\nccle_data.columns = [c.split(\\\" \\\")[0].upper() for c in ccle_data.columns]\\nccle_data.head()\";\n",
       "                var nbb_formatted_code = \"ccle_data = pd.read_csv(\\\"../../../data/gex/ccle/CCLE_expression.csv\\\", index_col=0)\\nccle_sample_info = pd.read_csv(\\n    \\\"../../../data/gex/ccle/CCLE_expression_sample_info.csv\\\", index_col=0\\n)\\nmatched_ids = set(ccle_sample_info.index).intersection(ccle_data.index)\\nccle_data = ccle_data.loc[list(matched_ids)]\\nccle_data.index = ccle_sample_info.loc[ccle_data.index, \\\"stripped_cell_line_name\\\"]\\nccle_data.columns = [c.split(\\\" \\\")[0].upper() for c in ccle_data.columns]\\nccle_data.head()\";\n",
       "                var nbb_cells = Jupyter.notebook.get_cells();\n",
       "                for (var i = 0; i < nbb_cells.length; ++i) {\n",
       "                    if (nbb_cells[i].input_prompt_number == nbb_cell_id) {\n",
       "                        if (nbb_cells[i].get_text() == nbb_unformatted_code) {\n",
       "                             nbb_cells[i].set_text(nbb_formatted_code);\n",
       "                        }\n",
       "                        break;\n",
       "                    }\n",
       "                }\n",
       "            }, 500);\n",
       "            "
      ],
      "text/plain": [
       "<IPython.core.display.Javascript object>"
      ]
     },
     "metadata": {},
     "output_type": "display_data"
    }
   ],
   "source": [
    "ccle_data = pd.read_csv(\"../../../data/gex/ccle/CCLE_expression.csv\", index_col=0)\n",
    "ccle_sample_info = pd.read_csv(\n",
    "    \"../../../data/gex/ccle/CCLE_expression_sample_info.csv\", index_col=0\n",
    ")\n",
    "matched_ids = set(ccle_sample_info.index).intersection(ccle_data.index)\n",
    "ccle_data = ccle_data.loc[list(matched_ids)]\n",
    "ccle_data.index = ccle_sample_info.loc[ccle_data.index, \"stripped_cell_line_name\"]\n",
    "ccle_data.columns = [c.split(\" \")[0].upper() for c in ccle_data.columns]\n",
    "ccle_data.head()"
   ]
  },
  {
   "cell_type": "code",
   "execution_count": 10,
   "id": "39b73c00",
   "metadata": {},
   "outputs": [
    {
     "data": {
      "application/javascript": [
       "\n",
       "            setTimeout(function() {\n",
       "                var nbb_cell_id = 10;\n",
       "                var nbb_unformatted_code = \"ccle_gene_set = set(ccle_data.columns)\";\n",
       "                var nbb_formatted_code = \"ccle_gene_set = set(ccle_data.columns)\";\n",
       "                var nbb_cells = Jupyter.notebook.get_cells();\n",
       "                for (var i = 0; i < nbb_cells.length; ++i) {\n",
       "                    if (nbb_cells[i].input_prompt_number == nbb_cell_id) {\n",
       "                        if (nbb_cells[i].get_text() == nbb_unformatted_code) {\n",
       "                             nbb_cells[i].set_text(nbb_formatted_code);\n",
       "                        }\n",
       "                        break;\n",
       "                    }\n",
       "                }\n",
       "            }, 500);\n",
       "            "
      ],
      "text/plain": [
       "<IPython.core.display.Javascript object>"
      ]
     },
     "metadata": {},
     "output_type": "display_data"
    }
   ],
   "source": [
    "ccle_gene_set = set(ccle_data.columns)"
   ]
  },
  {
   "cell_type": "markdown",
   "id": "b5194c97",
   "metadata": {},
   "source": [
    "The second data set from the CCLE study consist of 1'378 cancer cell lines for which we obtain the expression of roughly 19'177 genes."
   ]
  },
  {
   "cell_type": "code",
   "execution_count": 11,
   "id": "3177e68e",
   "metadata": {},
   "outputs": [
    {
     "data": {
      "application/javascript": [
       "\n",
       "            setTimeout(function() {\n",
       "                var nbb_cell_id = 11;\n",
       "                var nbb_unformatted_code = \"orf_targets = set(\\n    pd.read_csv(\\n        \\\"../../../data/other/gene_target_list.txt\\\", index_col=0, header=None\\n    ).index\\n)\";\n",
       "                var nbb_formatted_code = \"orf_targets = set(\\n    pd.read_csv(\\n        \\\"../../../data/other/gene_target_list.txt\\\", index_col=0, header=None\\n    ).index\\n)\";\n",
       "                var nbb_cells = Jupyter.notebook.get_cells();\n",
       "                for (var i = 0; i < nbb_cells.length; ++i) {\n",
       "                    if (nbb_cells[i].input_prompt_number == nbb_cell_id) {\n",
       "                        if (nbb_cells[i].get_text() == nbb_unformatted_code) {\n",
       "                             nbb_cells[i].set_text(nbb_formatted_code);\n",
       "                        }\n",
       "                        break;\n",
       "                    }\n",
       "                }\n",
       "            }, 500);\n",
       "            "
      ],
      "text/plain": [
       "<IPython.core.display.Javascript object>"
      ]
     },
     "metadata": {},
     "output_type": "display_data"
    }
   ],
   "source": [
    "orf_targets = set(\n",
    "    pd.read_csv(\n",
    "        \"../../../data/other/gene_target_list.txt\", index_col=0, header=None\n",
    "    ).index\n",
    ")"
   ]
  },
  {
   "cell_type": "code",
   "execution_count": 12,
   "id": "d99137d2",
   "metadata": {},
   "outputs": [
    {
     "data": {
      "application/javascript": [
       "\n",
       "            setTimeout(function() {\n",
       "                var nbb_cell_id = 12;\n",
       "                var nbb_unformatted_code = \"cell_cycle_genes = set(\\n    pd.read_csv(\\n        \\\"../../../data/other/reactome_cell_cycle.txt\\\", index_col=0, header=None\\n    ).index\\n)\";\n",
       "                var nbb_formatted_code = \"cell_cycle_genes = set(\\n    pd.read_csv(\\n        \\\"../../../data/other/reactome_cell_cycle.txt\\\", index_col=0, header=None\\n    ).index\\n)\";\n",
       "                var nbb_cells = Jupyter.notebook.get_cells();\n",
       "                for (var i = 0; i < nbb_cells.length; ++i) {\n",
       "                    if (nbb_cells[i].input_prompt_number == nbb_cell_id) {\n",
       "                        if (nbb_cells[i].get_text() == nbb_unformatted_code) {\n",
       "                             nbb_cells[i].set_text(nbb_formatted_code);\n",
       "                        }\n",
       "                        break;\n",
       "                    }\n",
       "                }\n",
       "            }, 500);\n",
       "            "
      ],
      "text/plain": [
       "<IPython.core.display.Javascript object>"
      ]
     },
     "metadata": {},
     "output_type": "display_data"
    }
   ],
   "source": [
    "cell_cycle_genes = set(\n",
    "    pd.read_csv(\n",
    "        \"../../../data/other/reactome_cell_cycle.txt\", index_col=0, header=None\n",
    "    ).index\n",
    ")"
   ]
  },
  {
   "cell_type": "code",
   "execution_count": 13,
   "id": "2dba635a",
   "metadata": {},
   "outputs": [
    {
     "data": {
      "application/javascript": [
       "\n",
       "            setTimeout(function() {\n",
       "                var nbb_cell_id = 13;\n",
       "                var nbb_unformatted_code = \"chrom_org_genes = set(\\n    pd.read_csv(\\n        \\\"../../../data/other/reactome_chrom_org.txt\\\", index_col=0, header=None\\n    ).index\\n)\";\n",
       "                var nbb_formatted_code = \"chrom_org_genes = set(\\n    pd.read_csv(\\n        \\\"../../../data/other/reactome_chrom_org.txt\\\", index_col=0, header=None\\n    ).index\\n)\";\n",
       "                var nbb_cells = Jupyter.notebook.get_cells();\n",
       "                for (var i = 0; i < nbb_cells.length; ++i) {\n",
       "                    if (nbb_cells[i].input_prompt_number == nbb_cell_id) {\n",
       "                        if (nbb_cells[i].get_text() == nbb_unformatted_code) {\n",
       "                             nbb_cells[i].set_text(nbb_formatted_code);\n",
       "                        }\n",
       "                        break;\n",
       "                    }\n",
       "                }\n",
       "            }, 500);\n",
       "            "
      ],
      "text/plain": [
       "<IPython.core.display.Javascript object>"
      ]
     },
     "metadata": {},
     "output_type": "display_data"
    }
   ],
   "source": [
    "chrom_org_genes = set(\n",
    "    pd.read_csv(\n",
    "        \"../../../data/other/reactome_chrom_org.txt\", index_col=0, header=None\n",
    "    ).index\n",
    ")"
   ]
  },
  {
   "cell_type": "code",
   "execution_count": 14,
   "id": "77f1be36",
   "metadata": {},
   "outputs": [
    {
     "data": {
      "application/javascript": [
       "\n",
       "            setTimeout(function() {\n",
       "                var nbb_cell_id = 14;\n",
       "                var nbb_unformatted_code = \"dna_repair_genes = set(\\n    pd.read_csv(\\n        \\\"../../../data/other/reactome_dna_repair.txt\\\", index_col=0, header=None\\n    ).index\\n)\";\n",
       "                var nbb_formatted_code = \"dna_repair_genes = set(\\n    pd.read_csv(\\n        \\\"../../../data/other/reactome_dna_repair.txt\\\", index_col=0, header=None\\n    ).index\\n)\";\n",
       "                var nbb_cells = Jupyter.notebook.get_cells();\n",
       "                for (var i = 0; i < nbb_cells.length; ++i) {\n",
       "                    if (nbb_cells[i].input_prompt_number == nbb_cell_id) {\n",
       "                        if (nbb_cells[i].get_text() == nbb_unformatted_code) {\n",
       "                             nbb_cells[i].set_text(nbb_formatted_code);\n",
       "                        }\n",
       "                        break;\n",
       "                    }\n",
       "                }\n",
       "            }, 500);\n",
       "            "
      ],
      "text/plain": [
       "<IPython.core.display.Javascript object>"
      ]
     },
     "metadata": {},
     "output_type": "display_data"
    }
   ],
   "source": [
    "dna_repair_genes = set(\n",
    "    pd.read_csv(\n",
    "        \"../../../data/other/reactome_dna_repair.txt\", index_col=0, header=None\n",
    "    ).index\n",
    ")"
   ]
  },
  {
   "cell_type": "code",
   "execution_count": 15,
   "id": "139116b5",
   "metadata": {},
   "outputs": [
    {
     "data": {
      "application/javascript": [
       "\n",
       "            setTimeout(function() {\n",
       "                var nbb_cell_id = 15;\n",
       "                var nbb_unformatted_code = \"reg_actin_cytoskeleton_genes = set(\\n    pd.read_csv(\\n        \\\"../../../data/other/kegg_reg_act_cytoskeleton.txt\\\", index_col=0, header=None\\n    ).index\\n)\";\n",
       "                var nbb_formatted_code = \"reg_actin_cytoskeleton_genes = set(\\n    pd.read_csv(\\n        \\\"../../../data/other/kegg_reg_act_cytoskeleton.txt\\\", index_col=0, header=None\\n    ).index\\n)\";\n",
       "                var nbb_cells = Jupyter.notebook.get_cells();\n",
       "                for (var i = 0; i < nbb_cells.length; ++i) {\n",
       "                    if (nbb_cells[i].input_prompt_number == nbb_cell_id) {\n",
       "                        if (nbb_cells[i].get_text() == nbb_unformatted_code) {\n",
       "                             nbb_cells[i].set_text(nbb_formatted_code);\n",
       "                        }\n",
       "                        break;\n",
       "                    }\n",
       "                }\n",
       "            }, 500);\n",
       "            "
      ],
      "text/plain": [
       "<IPython.core.display.Javascript object>"
      ]
     },
     "metadata": {},
     "output_type": "display_data"
    }
   ],
   "source": [
    "reg_actin_cytoskeleton_genes = set(\n",
    "    pd.read_csv(\n",
    "        \"../../../data/other/kegg_reg_act_cytoskeleton.txt\", index_col=0, header=None\n",
    "    ).index\n",
    ")"
   ]
  },
  {
   "cell_type": "code",
   "execution_count": 16,
   "id": "6ca32f99",
   "metadata": {},
   "outputs": [
    {
     "data": {
      "text/html": [
       "<div>\n",
       "<style scoped>\n",
       "    .dataframe tbody tr th:only-of-type {\n",
       "        vertical-align: middle;\n",
       "    }\n",
       "\n",
       "    .dataframe tbody tr th {\n",
       "        vertical-align: top;\n",
       "    }\n",
       "\n",
       "    .dataframe thead th {\n",
       "        text-align: right;\n",
       "    }\n",
       "</style>\n",
       "<table border=\"1\" class=\"dataframe\">\n",
       "  <thead>\n",
       "    <tr style=\"text-align: right;\">\n",
       "      <th></th>\n",
       "      <th>multi_image_spec_score</th>\n",
       "      <th>nuclei_image_spec_score</th>\n",
       "      <th>spec_score</th>\n",
       "      <th>rohban_selected</th>\n",
       "      <th>pathways_of_interest</th>\n",
       "      <th>selected</th>\n",
       "    </tr>\n",
       "  </thead>\n",
       "  <tbody>\n",
       "    <tr>\n",
       "      <th>MAPK13</th>\n",
       "      <td>0.586119</td>\n",
       "      <td>0.547602</td>\n",
       "      <td>0.586119</td>\n",
       "      <td>False</td>\n",
       "      <td>False</td>\n",
       "      <td>False</td>\n",
       "    </tr>\n",
       "    <tr>\n",
       "      <th>AKT2</th>\n",
       "      <td>0.604911</td>\n",
       "      <td>0.547991</td>\n",
       "      <td>0.604911</td>\n",
       "      <td>False</td>\n",
       "      <td>True</td>\n",
       "      <td>False</td>\n",
       "    </tr>\n",
       "    <tr>\n",
       "      <th>MAP3K7</th>\n",
       "      <td>0.468750</td>\n",
       "      <td>0.530357</td>\n",
       "      <td>0.530357</td>\n",
       "      <td>True</td>\n",
       "      <td>False</td>\n",
       "      <td>False</td>\n",
       "    </tr>\n",
       "    <tr>\n",
       "      <th>IKBKB</th>\n",
       "      <td>0.685855</td>\n",
       "      <td>0.607730</td>\n",
       "      <td>0.685855</td>\n",
       "      <td>False</td>\n",
       "      <td>False</td>\n",
       "      <td>True</td>\n",
       "    </tr>\n",
       "    <tr>\n",
       "      <th>IRAK1</th>\n",
       "      <td>0.620404</td>\n",
       "      <td>0.538603</td>\n",
       "      <td>0.620404</td>\n",
       "      <td>False</td>\n",
       "      <td>False</td>\n",
       "      <td>False</td>\n",
       "    </tr>\n",
       "  </tbody>\n",
       "</table>\n",
       "</div>"
      ],
      "text/plain": [
       "        multi_image_spec_score  nuclei_image_spec_score  spec_score  \\\n",
       "MAPK13                0.586119                 0.547602    0.586119   \n",
       "AKT2                  0.604911                 0.547991    0.604911   \n",
       "MAP3K7                0.468750                 0.530357    0.530357   \n",
       "IKBKB                 0.685855                 0.607730    0.685855   \n",
       "IRAK1                 0.620404                 0.538603    0.620404   \n",
       "\n",
       "        rohban_selected  pathways_of_interest  selected  \n",
       "MAPK13            False                 False     False  \n",
       "AKT2              False                  True     False  \n",
       "MAP3K7             True                 False     False  \n",
       "IKBKB             False                 False      True  \n",
       "IRAK1             False                 False     False  "
      ]
     },
     "execution_count": 16,
     "metadata": {},
     "output_type": "execute_result"
    },
    {
     "data": {
      "application/javascript": [
       "\n",
       "            setTimeout(function() {\n",
       "                var nbb_cell_id = 16;\n",
       "                var nbb_unformatted_code = \"specificity_screen_results = pd.read_csv(\\n    \\\"../../..//data/other/specificity_screen_results.csv\\\", index_col=0\\n)\\nspecificity_screen_results.head()\";\n",
       "                var nbb_formatted_code = \"specificity_screen_results = pd.read_csv(\\n    \\\"../../..//data/other/specificity_screen_results.csv\\\", index_col=0\\n)\\nspecificity_screen_results.head()\";\n",
       "                var nbb_cells = Jupyter.notebook.get_cells();\n",
       "                for (var i = 0; i < nbb_cells.length; ++i) {\n",
       "                    if (nbb_cells[i].input_prompt_number == nbb_cell_id) {\n",
       "                        if (nbb_cells[i].get_text() == nbb_unformatted_code) {\n",
       "                             nbb_cells[i].set_text(nbb_formatted_code);\n",
       "                        }\n",
       "                        break;\n",
       "                    }\n",
       "                }\n",
       "            }, 500);\n",
       "            "
      ],
      "text/plain": [
       "<IPython.core.display.Javascript object>"
      ]
     },
     "metadata": {},
     "output_type": "display_data"
    }
   ],
   "source": [
    "specificity_screen_results = pd.read_csv(\n",
    "    \"../../..//data/other/specificity_screen_results.csv\", index_col=0\n",
    ")\n",
    "specificity_screen_results.head()"
   ]
  },
  {
   "cell_type": "code",
   "execution_count": 17,
   "id": "7494a524",
   "metadata": {},
   "outputs": [
    {
     "data": {
      "application/javascript": [
       "\n",
       "            setTimeout(function() {\n",
       "                var nbb_cell_id = 17;\n",
       "                var nbb_unformatted_code = \"specific_targets = set(\\n    specificity_screen_results.loc[specificity_screen_results[\\\"selected\\\"] == True].index\\n)\";\n",
       "                var nbb_formatted_code = \"specific_targets = set(\\n    specificity_screen_results.loc[specificity_screen_results[\\\"selected\\\"] == True].index\\n)\";\n",
       "                var nbb_cells = Jupyter.notebook.get_cells();\n",
       "                for (var i = 0; i < nbb_cells.length; ++i) {\n",
       "                    if (nbb_cells[i].input_prompt_number == nbb_cell_id) {\n",
       "                        if (nbb_cells[i].get_text() == nbb_unformatted_code) {\n",
       "                             nbb_cells[i].set_text(nbb_formatted_code);\n",
       "                        }\n",
       "                        break;\n",
       "                    }\n",
       "                }\n",
       "            }, 500);\n",
       "            "
      ],
      "text/plain": [
       "<IPython.core.display.Javascript object>"
      ]
     },
     "metadata": {},
     "output_type": "display_data"
    }
   ],
   "source": [
    "specific_targets = set(\n",
    "    specificity_screen_results.loc[specificity_screen_results[\"selected\"] == True].index\n",
    ")"
   ]
  },
  {
   "cell_type": "code",
   "execution_count": 18,
   "id": "2ad62cdd",
   "metadata": {},
   "outputs": [
    {
     "data": {
      "application/javascript": [
       "\n",
       "            setTimeout(function() {\n",
       "                var nbb_cell_id = 18;\n",
       "                var nbb_unformatted_code = \"ppi_file = \\\"../../../data/ppi/iRefIndex_v14_MIScore_interactome_C9.costs.txt\\\"\\niref_ppi = nx.convert_matrix.from_pandas_edgelist(\\n    pd.read_csv(ppi_file, sep=\\\"\\\\t\\\"),\\n    source=\\\"protein1\\\",\\n    target=\\\"protein2\\\",\\n    edge_attr=\\\"cost\\\",\\n)\\niref_ppi.remove_edges_from(nx.selfloop_edges(iref_ppi))\";\n",
       "                var nbb_formatted_code = \"ppi_file = \\\"../../../data/ppi/iRefIndex_v14_MIScore_interactome_C9.costs.txt\\\"\\niref_ppi = nx.convert_matrix.from_pandas_edgelist(\\n    pd.read_csv(ppi_file, sep=\\\"\\\\t\\\"),\\n    source=\\\"protein1\\\",\\n    target=\\\"protein2\\\",\\n    edge_attr=\\\"cost\\\",\\n)\\niref_ppi.remove_edges_from(nx.selfloop_edges(iref_ppi))\";\n",
       "                var nbb_cells = Jupyter.notebook.get_cells();\n",
       "                for (var i = 0; i < nbb_cells.length; ++i) {\n",
       "                    if (nbb_cells[i].input_prompt_number == nbb_cell_id) {\n",
       "                        if (nbb_cells[i].get_text() == nbb_unformatted_code) {\n",
       "                             nbb_cells[i].set_text(nbb_formatted_code);\n",
       "                        }\n",
       "                        break;\n",
       "                    }\n",
       "                }\n",
       "            }, 500);\n",
       "            "
      ],
      "text/plain": [
       "<IPython.core.display.Javascript object>"
      ]
     },
     "metadata": {},
     "output_type": "display_data"
    }
   ],
   "source": [
    "ppi_file = \"../../../data/ppi/iRefIndex_v14_MIScore_interactome_C9.costs.txt\"\n",
    "iref_ppi = nx.convert_matrix.from_pandas_edgelist(\n",
    "    pd.read_csv(ppi_file, sep=\"\\t\"),\n",
    "    source=\"protein1\",\n",
    "    target=\"protein2\",\n",
    "    edge_attr=\"cost\",\n",
    ")\n",
    "iref_ppi.remove_edges_from(nx.selfloop_edges(iref_ppi))"
   ]
  },
  {
   "cell_type": "code",
   "execution_count": 19,
   "id": "0916c0b6",
   "metadata": {},
   "outputs": [
    {
     "data": {
      "application/javascript": [
       "\n",
       "            setTimeout(function() {\n",
       "                var nbb_cell_id = 19;\n",
       "                var nbb_unformatted_code = \"ppi_gene_set = set(list(iref_ppi.nodes()))\";\n",
       "                var nbb_formatted_code = \"ppi_gene_set = set(list(iref_ppi.nodes()))\";\n",
       "                var nbb_cells = Jupyter.notebook.get_cells();\n",
       "                for (var i = 0; i < nbb_cells.length; ++i) {\n",
       "                    if (nbb_cells[i].input_prompt_number == nbb_cell_id) {\n",
       "                        if (nbb_cells[i].get_text() == nbb_unformatted_code) {\n",
       "                             nbb_cells[i].set_text(nbb_formatted_code);\n",
       "                        }\n",
       "                        break;\n",
       "                    }\n",
       "                }\n",
       "            }, 500);\n",
       "            "
      ],
      "text/plain": [
       "<IPython.core.display.Javascript object>"
      ]
     },
     "metadata": {},
     "output_type": "display_data"
    }
   ],
   "source": [
    "ppi_gene_set = set(list(iref_ppi.nodes()))"
   ]
  },
  {
   "cell_type": "markdown",
   "id": "6db0ef3b",
   "metadata": {},
   "source": [
    "The Venn diagram below shows the overlap of the two gene sets with the 190 ORF targets from the study by Rohban et al. (2017) as well as with the ones from iRefIndexDB v14. That we will use later on as a basis to derive the interactome specific to the U2OS cells."
   ]
  },
  {
   "cell_type": "code",
   "execution_count": 21,
   "id": "86d601fa",
   "metadata": {},
   "outputs": [
    {
     "data": {
      "image/png": "[encoded data removed]",
      "text/plain": [
       "<Figure size 576x576 with 1 Axes>"
      ]
     },
     "metadata": {},
     "output_type": "display_data"
    },
    {
     "data": {
      "application/javascript": [
       "\n",
       "            setTimeout(function() {\n",
       "                var nbb_cell_id = 21;\n",
       "                var nbb_unformatted_code = \"ax = venn.venn(\\n    dict(\\n        zip(\\n            [\\n                \\\"ORF targets\\\",\\n                \\\"scRNAseq (FUCCI) data\\\",\\n                \\\"CCLE bulk RNAseq data\\\",\\n                \\\"iRefIndexDB v14\\\",\\n            ],\\n            [\\n                orf_targets,\\n                fucci_gene_set,\\n                specific_targets,\\n                ppi_gene_set,\\n            ],\\n        )\\n    )\\n)\";\n",
       "                var nbb_formatted_code = \"ax = venn.venn(\\n    dict(\\n        zip(\\n            [\\n                \\\"ORF targets\\\",\\n                \\\"scRNAseq (FUCCI) data\\\",\\n                \\\"CCLE bulk RNAseq data\\\",\\n                \\\"iRefIndexDB v14\\\",\\n            ],\\n            [\\n                orf_targets,\\n                fucci_gene_set,\\n                specific_targets,\\n                ppi_gene_set,\\n            ],\\n        )\\n    )\\n)\";\n",
       "                var nbb_cells = Jupyter.notebook.get_cells();\n",
       "                for (var i = 0; i < nbb_cells.length; ++i) {\n",
       "                    if (nbb_cells[i].input_prompt_number == nbb_cell_id) {\n",
       "                        if (nbb_cells[i].get_text() == nbb_unformatted_code) {\n",
       "                             nbb_cells[i].set_text(nbb_formatted_code);\n",
       "                        }\n",
       "                        break;\n",
       "                    }\n",
       "                }\n",
       "            }, 500);\n",
       "            "
      ],
      "text/plain": [
       "<IPython.core.display.Javascript object>"
      ]
     },
     "metadata": {},
     "output_type": "display_data"
    }
   ],
   "source": [
    "ax = venn.venn(\n",
    "    dict(\n",
    "        zip(\n",
    "            [\n",
    "                \"ORF targets\",\n",
    "                \"scRNAseq (FUCCI) data\",\n",
    "                \"CCLE bulk RNAseq data\",\n",
    "                \"iRefIndexDB v14\",\n",
    "            ],\n",
    "            [\n",
    "                orf_targets,\n",
    "                fucci_gene_set,\n",
    "                ccle_gene_set,\n",
    "                ppi_gene_set,\n",
    "            ],\n",
    "        )\n",
    "    )\n",
    ")"
   ]
  },
  {
   "cell_type": "code",
   "execution_count": 35,
   "id": "31eea9eb",
   "metadata": {},
   "outputs": [
    {
     "data": {
      "application/javascript": [
       "\n",
       "            setTimeout(function() {\n",
       "                var nbb_cell_id = 35;\n",
       "                var nbb_unformatted_code = \"selected_orf_targets = orf_targets.intersection(fucci_gene_set).intersection(\\n    ppi_gene_set\\n)\\npd.DataFrame(list(selected_orf_targets)).to_csv(\\n    \\\"../../../data/other/selected_orf_targets.txt\\\", header=False, index=False\\n)\";\n",
       "                var nbb_formatted_code = \"selected_orf_targets = orf_targets.intersection(fucci_gene_set).intersection(\\n    ppi_gene_set\\n)\\npd.DataFrame(list(selected_orf_targets)).to_csv(\\n    \\\"../../../data/other/selected_orf_targets.txt\\\", header=False, index=False\\n)\";\n",
       "                var nbb_cells = Jupyter.notebook.get_cells();\n",
       "                for (var i = 0; i < nbb_cells.length; ++i) {\n",
       "                    if (nbb_cells[i].input_prompt_number == nbb_cell_id) {\n",
       "                        if (nbb_cells[i].get_text() == nbb_unformatted_code) {\n",
       "                             nbb_cells[i].set_text(nbb_formatted_code);\n",
       "                        }\n",
       "                        break;\n",
       "                    }\n",
       "                }\n",
       "            }, 500);\n",
       "            "
      ],
      "text/plain": [
       "<IPython.core.display.Javascript object>"
      ]
     },
     "metadata": {},
     "output_type": "display_data"
    }
   ],
   "source": [
    "selected_orf_targets = orf_targets.intersection(fucci_gene_set).intersection(\n",
    "    ppi_gene_set\n",
    ")\n",
    "# pd.DataFrame(list(selected_orf_targets)).to_csv(\n",
    "#     \"../../../data/other/selected_orf_targets.txt\", header=False, index=False\n",
    "# )"
   ]
  },
  {
   "cell_type": "markdown",
   "id": "1681dc75",
   "metadata": {},
   "source": [
    "Going forward, we will focus on the intersection of the genes that are covered in the scRNAseq (FUCCI) data set, the CCLE bulk RNAseq data set and the iRefIndexDB v14. While we will have not yet decided to use the bulk-sequencing data restricting us to those genes also covered by this gene expression data set only removes 61 genes including four known transcription factors (NFE4, ZNF286B, ZNF658B, ZNF702P) transcription factor nor any of the ORF targets, which are shown below."
   ]
  },
  {
   "cell_type": "code",
   "execution_count": 22,
   "id": "aeb85ba8",
   "metadata": {},
   "outputs": [
    {
     "data": {
      "application/javascript": [
       "\n",
       "            setTimeout(function() {\n",
       "                var nbb_cell_id = 22;\n",
       "                var nbb_unformatted_code = \"human_tfs = set(\\n    list(\\n        pd.read_csv(\\n            \\\"../../../data/other/human_tf_list.txt\\\", index_col=0, header=None\\n        ).index\\n    )\\n)\";\n",
       "                var nbb_formatted_code = \"human_tfs = set(\\n    list(\\n        pd.read_csv(\\n            \\\"../../../data/other/human_tf_list.txt\\\", index_col=0, header=None\\n        ).index\\n    )\\n)\";\n",
       "                var nbb_cells = Jupyter.notebook.get_cells();\n",
       "                for (var i = 0; i < nbb_cells.length; ++i) {\n",
       "                    if (nbb_cells[i].input_prompt_number == nbb_cell_id) {\n",
       "                        if (nbb_cells[i].get_text() == nbb_unformatted_code) {\n",
       "                             nbb_cells[i].set_text(nbb_formatted_code);\n",
       "                        }\n",
       "                        break;\n",
       "                    }\n",
       "                }\n",
       "            }, 500);\n",
       "            "
      ],
      "text/plain": [
       "<IPython.core.display.Javascript object>"
      ]
     },
     "metadata": {},
     "output_type": "display_data"
    }
   ],
   "source": [
    "human_tfs = set(\n",
    "    list(\n",
    "        pd.read_csv(\n",
    "            \"../../../data/other/human_tf_list.txt\", index_col=0, header=None\n",
    "        ).index\n",
    "    )\n",
    ")"
   ]
  },
  {
   "cell_type": "code",
   "execution_count": 37,
   "id": "8576c9c5",
   "metadata": {},
   "outputs": [
    {
     "data": {
      "text/plain": [
       "{'NFE4', 'ZNF286B', 'ZNF658B', 'ZNF702P'}"
      ]
     },
     "execution_count": 37,
     "metadata": {},
     "output_type": "execute_result"
    },
    {
     "data": {
      "application/javascript": [
       "\n",
       "            setTimeout(function() {\n",
       "                var nbb_cell_id = 37;\n",
       "                var nbb_unformatted_code = \"(\\n    fucci_gene_set.intersection(ppi_gene_set)\\n    - set(fucci_data.columns).intersection(ppi_gene_set).intersection(ccle_gene_set)\\n).intersection(human_tfs)\";\n",
       "                var nbb_formatted_code = \"(\\n    fucci_gene_set.intersection(ppi_gene_set)\\n    - set(fucci_data.columns).intersection(ppi_gene_set).intersection(ccle_gene_set)\\n).intersection(human_tfs)\";\n",
       "                var nbb_cells = Jupyter.notebook.get_cells();\n",
       "                for (var i = 0; i < nbb_cells.length; ++i) {\n",
       "                    if (nbb_cells[i].input_prompt_number == nbb_cell_id) {\n",
       "                        if (nbb_cells[i].get_text() == nbb_unformatted_code) {\n",
       "                             nbb_cells[i].set_text(nbb_formatted_code);\n",
       "                        }\n",
       "                        break;\n",
       "                    }\n",
       "                }\n",
       "            }, 500);\n",
       "            "
      ],
      "text/plain": [
       "<IPython.core.display.Javascript object>"
      ]
     },
     "metadata": {},
     "output_type": "display_data"
    }
   ],
   "source": [
    "(\n",
    "    fucci_gene_set.intersection(ppi_gene_set)\n",
    "    - set(fucci_data.columns).intersection(ppi_gene_set).intersection(ccle_gene_set)\n",
    ").intersection(human_tfs)"
   ]
  },
  {
   "cell_type": "code",
   "execution_count": 38,
   "id": "a19dc9a4",
   "metadata": {},
   "outputs": [
    {
     "data": {
      "text/plain": [
       "13068"
      ]
     },
     "execution_count": 38,
     "metadata": {},
     "output_type": "execute_result"
    },
    {
     "data": {
      "application/javascript": [
       "\n",
       "            setTimeout(function() {\n",
       "                var nbb_cell_id = 38;\n",
       "                var nbb_unformatted_code = \"selected_gene_set = fucci_gene_set.intersection(ppi_gene_set).intersection(\\n    ccle_gene_set\\n)\\nlen(selected_gene_set)\";\n",
       "                var nbb_formatted_code = \"selected_gene_set = fucci_gene_set.intersection(ppi_gene_set).intersection(\\n    ccle_gene_set\\n)\\nlen(selected_gene_set)\";\n",
       "                var nbb_cells = Jupyter.notebook.get_cells();\n",
       "                for (var i = 0; i < nbb_cells.length; ++i) {\n",
       "                    if (nbb_cells[i].input_prompt_number == nbb_cell_id) {\n",
       "                        if (nbb_cells[i].get_text() == nbb_unformatted_code) {\n",
       "                             nbb_cells[i].set_text(nbb_formatted_code);\n",
       "                        }\n",
       "                        break;\n",
       "                    }\n",
       "                }\n",
       "            }, 500);\n",
       "            "
      ],
      "text/plain": [
       "<IPython.core.display.Javascript object>"
      ]
     },
     "metadata": {},
     "output_type": "display_data"
    }
   ],
   "source": [
    "selected_gene_set = fucci_gene_set.intersection(ppi_gene_set).intersection(\n",
    "    ccle_gene_set\n",
    ")\n",
    "len(selected_gene_set)"
   ]
  },
  {
   "cell_type": "markdown",
   "id": "2984c5ae",
   "metadata": {},
   "source": [
    "---\n",
    "\n",
    "## 2. Identification of U2OS gene set\n",
    "\n",
    "In total we have 13'068 genes that we selected for further analyses. However, we have to yet identify those that are particularly important in the functional and thus regulatory programs of our cell type: human osteosarcoma (U2OS) cells."
   ]
  },
  {
   "cell_type": "markdown",
   "id": "69afb446",
   "metadata": {},
   "source": [
    "### 2a. Filtering out lowly expressed genes"
   ]
  },
  {
   "cell_type": "markdown",
   "id": "43b0866d",
   "metadata": {},
   "source": [
    "First, we are interested in finding those genes that are highly expressed in the given cell type to this end, we will first plot the average gene expression for each individual gene of our scRNA-seq data set for the subset of genes that we selected as discussed previously. For better visualization we will order them according to their mean expression."
   ]
  },
  {
   "cell_type": "code",
   "execution_count": 39,
   "id": "a48b8b07",
   "metadata": {},
   "outputs": [
    {
     "data": {
      "application/javascript": [
       "\n",
       "            setTimeout(function() {\n",
       "                var nbb_cell_id = 39;\n",
       "                var nbb_unformatted_code = \"selected_fucci_data = fucci_data.loc[:, selected_gene_set]\\n# mean_expression = selected_fucci_data.mean().sort_values(ascending=False)\\nmedian_expression = selected_fucci_data.median().sort_values(ascending=False)\";\n",
       "                var nbb_formatted_code = \"selected_fucci_data = fucci_data.loc[:, selected_gene_set]\\n# mean_expression = selected_fucci_data.mean().sort_values(ascending=False)\\nmedian_expression = selected_fucci_data.median().sort_values(ascending=False)\";\n",
       "                var nbb_cells = Jupyter.notebook.get_cells();\n",
       "                for (var i = 0; i < nbb_cells.length; ++i) {\n",
       "                    if (nbb_cells[i].input_prompt_number == nbb_cell_id) {\n",
       "                        if (nbb_cells[i].get_text() == nbb_unformatted_code) {\n",
       "                             nbb_cells[i].set_text(nbb_formatted_code);\n",
       "                        }\n",
       "                        break;\n",
       "                    }\n",
       "                }\n",
       "            }, 500);\n",
       "            "
      ],
      "text/plain": [
       "<IPython.core.display.Javascript object>"
      ]
     },
     "metadata": {},
     "output_type": "display_data"
    }
   ],
   "source": [
    "selected_fucci_data = fucci_data.loc[:, selected_gene_set]\n",
    "# mean_expression = selected_fucci_data.mean().sort_values(ascending=False)\n",
    "median_expression = selected_fucci_data.median().sort_values(ascending=False)"
   ]
  },
  {
   "cell_type": "code",
   "execution_count": 40,
   "id": "21515ecf",
   "metadata": {},
   "outputs": [
    {
     "data": {
      "image/png": "[encoded data removed]",
      "text/plain": [
       "<Figure size 504x360 with 1 Axes>"
      ]
     },
     "metadata": {
      "needs_background": "light"
     },
     "output_type": "display_data"
    },
    {
     "data": {
      "application/javascript": [
       "\n",
       "            setTimeout(function() {\n",
       "                var nbb_cell_id = 40;\n",
       "                var nbb_unformatted_code = \"plt.figure(figsize=[7, 5])\\nsns.histplot(x=np.array(median_expression), bins=100)\\nplt.title(\\\"Histogram of the median gene expression\\\")\\nplt.xlabel(\\\"log2(expr + 1)\\\")\\nplt.ylabel(\\\"Counts\\\")\\nplt.show()\";\n",
       "                var nbb_formatted_code = \"plt.figure(figsize=[7, 5])\\nsns.histplot(x=np.array(median_expression), bins=100)\\nplt.title(\\\"Histogram of the median gene expression\\\")\\nplt.xlabel(\\\"log2(expr + 1)\\\")\\nplt.ylabel(\\\"Counts\\\")\\nplt.show()\";\n",
       "                var nbb_cells = Jupyter.notebook.get_cells();\n",
       "                for (var i = 0; i < nbb_cells.length; ++i) {\n",
       "                    if (nbb_cells[i].input_prompt_number == nbb_cell_id) {\n",
       "                        if (nbb_cells[i].get_text() == nbb_unformatted_code) {\n",
       "                             nbb_cells[i].set_text(nbb_formatted_code);\n",
       "                        }\n",
       "                        break;\n",
       "                    }\n",
       "                }\n",
       "            }, 500);\n",
       "            "
      ],
      "text/plain": [
       "<IPython.core.display.Javascript object>"
      ]
     },
     "metadata": {},
     "output_type": "display_data"
    }
   ],
   "source": [
    "plt.figure(figsize=[7, 5])\n",
    "sns.histplot(x=np.array(median_expression), bins=100)\n",
    "plt.title(\"Histogram of the median gene expression\")\n",
    "plt.xlabel(\"log2(expr + 1)\")\n",
    "plt.ylabel(\"Counts\")\n",
    "plt.show()"
   ]
  },
  {
   "cell_type": "code",
   "execution_count": 41,
   "id": "e4b5173d",
   "metadata": {},
   "outputs": [
    {
     "data": {
      "image/png": "[encoded data removed]",
      "text/plain": [
       "<Figure size 360x288 with 1 Axes>"
      ]
     },
     "metadata": {
      "needs_background": "light"
     },
     "output_type": "display_data"
    },
    {
     "data": {
      "application/javascript": [
       "\n",
       "            setTimeout(function() {\n",
       "                var nbb_cell_id = 41;\n",
       "                var nbb_unformatted_code = \"plt.figure(figsize=[5, 4])\\nplt.plot(list(range(len(median_expression))), np.array(median_expression))\\nplt.title(\\\"Median gene expression\\\")\\nplt.ylabel(\\\"log2(expr + 1)\\\")\\nplt.xlabel(\\\"GeneID\\\")\\nplt.show()\";\n",
       "                var nbb_formatted_code = \"plt.figure(figsize=[5, 4])\\nplt.plot(list(range(len(median_expression))), np.array(median_expression))\\nplt.title(\\\"Median gene expression\\\")\\nplt.ylabel(\\\"log2(expr + 1)\\\")\\nplt.xlabel(\\\"GeneID\\\")\\nplt.show()\";\n",
       "                var nbb_cells = Jupyter.notebook.get_cells();\n",
       "                for (var i = 0; i < nbb_cells.length; ++i) {\n",
       "                    if (nbb_cells[i].input_prompt_number == nbb_cell_id) {\n",
       "                        if (nbb_cells[i].get_text() == nbb_unformatted_code) {\n",
       "                             nbb_cells[i].set_text(nbb_formatted_code);\n",
       "                        }\n",
       "                        break;\n",
       "                    }\n",
       "                }\n",
       "            }, 500);\n",
       "            "
      ],
      "text/plain": [
       "<IPython.core.display.Javascript object>"
      ]
     },
     "metadata": {},
     "output_type": "display_data"
    }
   ],
   "source": [
    "plt.figure(figsize=[5, 4])\n",
    "plt.plot(list(range(len(median_expression))), np.array(median_expression))\n",
    "plt.title(\"Median gene expression\")\n",
    "plt.ylabel(\"log2(expr + 1)\")\n",
    "plt.xlabel(\"GeneID\")\n",
    "plt.show()"
   ]
  },
  {
   "cell_type": "markdown",
   "id": "9b4e80f5",
   "metadata": {},
   "source": [
    "The empirical distribution of the median gene expression seems to follow roughly a bi-modal distribution. Going forward we are less interested in genes that are very lowly expressed. The intuition is that a) for genes that are low expressed there is greater level of measurement noise (Sha et al., 2015) and b) these are expected to play a less important role in the functional regulation of the cell.\n",
    "\n",
    "Thus, we will filter out such lowly expressed genes which we define as those with being predicted to be part of the background distribution that is of the component with smaller mean of a two-component Gaussian mixture model that we fit to the average gene expression values."
   ]
  },
  {
   "cell_type": "code",
   "execution_count": 42,
   "id": "c28f011e",
   "metadata": {},
   "outputs": [
    {
     "data": {
      "application/javascript": [
       "\n",
       "            setTimeout(function() {\n",
       "                var nbb_cell_id = 42;\n",
       "                var nbb_unformatted_code = \"gmm = GaussianMixture(n_components=2, random_state=seed)\\nfitted_gmm = gmm.fit(np.array(median_expression).reshape(-1, 1))\\npreds_median = fitted_gmm.predict(np.array(median_expression).reshape(-1, 1))\\npred_median_labels = []\\nfor pred in preds_median:\\n    if pred == 0:\\n        pred_median_labels.append(\\\"low expressed\\\")\\n    else:\\n        pred_median_labels.append(\\\"other\\\")\";\n",
       "                var nbb_formatted_code = \"gmm = GaussianMixture(n_components=2, random_state=seed)\\nfitted_gmm = gmm.fit(np.array(median_expression).reshape(-1, 1))\\npreds_median = fitted_gmm.predict(np.array(median_expression).reshape(-1, 1))\\npred_median_labels = []\\nfor pred in preds_median:\\n    if pred == 0:\\n        pred_median_labels.append(\\\"low expressed\\\")\\n    else:\\n        pred_median_labels.append(\\\"other\\\")\";\n",
       "                var nbb_cells = Jupyter.notebook.get_cells();\n",
       "                for (var i = 0; i < nbb_cells.length; ++i) {\n",
       "                    if (nbb_cells[i].input_prompt_number == nbb_cell_id) {\n",
       "                        if (nbb_cells[i].get_text() == nbb_unformatted_code) {\n",
       "                             nbb_cells[i].set_text(nbb_formatted_code);\n",
       "                        }\n",
       "                        break;\n",
       "                    }\n",
       "                }\n",
       "            }, 500);\n",
       "            "
      ],
      "text/plain": [
       "<IPython.core.display.Javascript object>"
      ]
     },
     "metadata": {},
     "output_type": "display_data"
    }
   ],
   "source": [
    "gmm = GaussianMixture(n_components=2, random_state=seed)\n",
    "fitted_gmm = gmm.fit(np.array(median_expression).reshape(-1, 1))\n",
    "preds_median = fitted_gmm.predict(np.array(median_expression).reshape(-1, 1))\n",
    "pred_median_labels = []\n",
    "for pred in preds_median:\n",
    "    if pred == 0:\n",
    "        pred_median_labels.append(\"low expressed\")\n",
    "    else:\n",
    "        pred_median_labels.append(\"other\")"
   ]
  },
  {
   "cell_type": "code",
   "execution_count": 43,
   "id": "89e3ef06",
   "metadata": {},
   "outputs": [
    {
     "data": {
      "image/png": "[encoded data removed]",
      "text/plain": [
       "<Figure size 504x360 with 1 Axes>"
      ]
     },
     "metadata": {
      "needs_background": "light"
     },
     "output_type": "display_data"
    },
    {
     "data": {
      "application/javascript": [
       "\n",
       "            setTimeout(function() {\n",
       "                var nbb_cell_id = 43;\n",
       "                var nbb_unformatted_code = \"plt.figure(figsize=[7, 5])\\nsns.histplot(x=np.array(median_expression), bins=100, hue=pred_median_labels)\\nplt.title(\\\"Histogram of the median gene expression\\\")\\nplt.xlabel(\\\"log2(expr + 1)\\\")\\nplt.ylabel(\\\"Counts\\\")\\nplt.show()\";\n",
       "                var nbb_formatted_code = \"plt.figure(figsize=[7, 5])\\nsns.histplot(x=np.array(median_expression), bins=100, hue=pred_median_labels)\\nplt.title(\\\"Histogram of the median gene expression\\\")\\nplt.xlabel(\\\"log2(expr + 1)\\\")\\nplt.ylabel(\\\"Counts\\\")\\nplt.show()\";\n",
       "                var nbb_cells = Jupyter.notebook.get_cells();\n",
       "                for (var i = 0; i < nbb_cells.length; ++i) {\n",
       "                    if (nbb_cells[i].input_prompt_number == nbb_cell_id) {\n",
       "                        if (nbb_cells[i].get_text() == nbb_unformatted_code) {\n",
       "                             nbb_cells[i].set_text(nbb_formatted_code);\n",
       "                        }\n",
       "                        break;\n",
       "                    }\n",
       "                }\n",
       "            }, 500);\n",
       "            "
      ],
      "text/plain": [
       "<IPython.core.display.Javascript object>"
      ]
     },
     "metadata": {},
     "output_type": "display_data"
    }
   ],
   "source": [
    "plt.figure(figsize=[7, 5])\n",
    "sns.histplot(x=np.array(median_expression), bins=100, hue=pred_median_labels)\n",
    "plt.title(\"Histogram of the median gene expression\")\n",
    "plt.xlabel(\"log2(expr + 1)\")\n",
    "plt.ylabel(\"Counts\")\n",
    "plt.show()"
   ]
  },
  {
   "cell_type": "markdown",
   "id": "048f87cf",
   "metadata": {},
   "source": [
    "We estimate a cutoff for the mean gene expression that has been log+1-transformed after scaling to each gene expression profile to unit length for each cell to account for varying sequencing depth of 0.3417. "
   ]
  },
  {
   "cell_type": "code",
   "execution_count": 44,
   "id": "24d69909",
   "metadata": {},
   "outputs": [
    {
     "data": {
      "text/plain": [
       "0.0"
      ]
     },
     "execution_count": 44,
     "metadata": {},
     "output_type": "execute_result"
    },
    {
     "data": {
      "application/javascript": [
       "\n",
       "            setTimeout(function() {\n",
       "                var nbb_cell_id = 44;\n",
       "                var nbb_unformatted_code = \"med_gex_threshold = (np.array(median_expression)[preds_median == 0]).max()\\nmed_gex_threshold\";\n",
       "                var nbb_formatted_code = \"med_gex_threshold = (np.array(median_expression)[preds_median == 0]).max()\\nmed_gex_threshold\";\n",
       "                var nbb_cells = Jupyter.notebook.get_cells();\n",
       "                for (var i = 0; i < nbb_cells.length; ++i) {\n",
       "                    if (nbb_cells[i].input_prompt_number == nbb_cell_id) {\n",
       "                        if (nbb_cells[i].get_text() == nbb_unformatted_code) {\n",
       "                             nbb_cells[i].set_text(nbb_formatted_code);\n",
       "                        }\n",
       "                        break;\n",
       "                    }\n",
       "                }\n",
       "            }, 500);\n",
       "            "
      ],
      "text/plain": [
       "<IPython.core.display.Javascript object>"
      ]
     },
     "metadata": {},
     "output_type": "display_data"
    }
   ],
   "source": [
    "med_gex_threshold = (np.array(median_expression)[preds_median == 0]).max()\n",
    "med_gex_threshold"
   ]
  },
  {
   "cell_type": "code",
   "execution_count": 45,
   "id": "b3e8fd51",
   "metadata": {},
   "outputs": [
    {
     "data": {
      "text/plain": [
       "(4084, 8984)"
      ]
     },
     "execution_count": 45,
     "metadata": {},
     "output_type": "execute_result"
    },
    {
     "data": {
      "application/javascript": [
       "\n",
       "            setTimeout(function() {\n",
       "                var nbb_cell_id = 45;\n",
       "                var nbb_unformatted_code = \"background_genes = set(\\n    median_expression.loc[median_expression <= med_gex_threshold].index\\n)\\nforeground_genes = set(\\n    median_expression.loc[median_expression > med_gex_threshold].index\\n)\\nlen(background_genes), len(foreground_genes)\";\n",
       "                var nbb_formatted_code = \"background_genes = set(\\n    median_expression.loc[median_expression <= med_gex_threshold].index\\n)\\nforeground_genes = set(\\n    median_expression.loc[median_expression > med_gex_threshold].index\\n)\\nlen(background_genes), len(foreground_genes)\";\n",
       "                var nbb_cells = Jupyter.notebook.get_cells();\n",
       "                for (var i = 0; i < nbb_cells.length; ++i) {\n",
       "                    if (nbb_cells[i].input_prompt_number == nbb_cell_id) {\n",
       "                        if (nbb_cells[i].get_text() == nbb_unformatted_code) {\n",
       "                             nbb_cells[i].set_text(nbb_formatted_code);\n",
       "                        }\n",
       "                        break;\n",
       "                    }\n",
       "                }\n",
       "            }, 500);\n",
       "            "
      ],
      "text/plain": [
       "<IPython.core.display.Javascript object>"
      ]
     },
     "metadata": {},
     "output_type": "display_data"
    }
   ],
   "source": [
    "background_genes = set(\n",
    "    median_expression.loc[median_expression <= med_gex_threshold].index\n",
    ")\n",
    "foreground_genes = set(\n",
    "    median_expression.loc[median_expression > med_gex_threshold].index\n",
    ")\n",
    "len(background_genes), len(foreground_genes)"
   ]
  },
  {
   "cell_type": "markdown",
   "id": "998e0746",
   "metadata": {},
   "source": [
    "Thereby, we find 4084 genes that we classify as lowly expressed among which are 543 human transcription factors."
   ]
  },
  {
   "cell_type": "code",
   "execution_count": 46,
   "id": "b10d5c8e",
   "metadata": {},
   "outputs": [
    {
     "data": {
      "text/plain": [
       "543"
      ]
     },
     "execution_count": 46,
     "metadata": {},
     "output_type": "execute_result"
    },
    {
     "data": {
      "application/javascript": [
       "\n",
       "            setTimeout(function() {\n",
       "                var nbb_cell_id = 46;\n",
       "                var nbb_unformatted_code = \"len(background_genes.intersection(human_tfs))\";\n",
       "                var nbb_formatted_code = \"len(background_genes.intersection(human_tfs))\";\n",
       "                var nbb_cells = Jupyter.notebook.get_cells();\n",
       "                for (var i = 0; i < nbb_cells.length; ++i) {\n",
       "                    if (nbb_cells[i].input_prompt_number == nbb_cell_id) {\n",
       "                        if (nbb_cells[i].get_text() == nbb_unformatted_code) {\n",
       "                             nbb_cells[i].set_text(nbb_formatted_code);\n",
       "                        }\n",
       "                        break;\n",
       "                    }\n",
       "                }\n",
       "            }, 500);\n",
       "            "
      ],
      "text/plain": [
       "<IPython.core.display.Javascript object>"
      ]
     },
     "metadata": {},
     "output_type": "display_data"
    }
   ],
   "source": [
    "len(background_genes.intersection(human_tfs))"
   ]
  },
  {
   "cell_type": "markdown",
   "id": "0f739c30",
   "metadata": {},
   "source": [
    "We are thus left with 10'478 genes after that filtering step including 1'162 transcription factors and 177/190 ORF targets."
   ]
  },
  {
   "cell_type": "code",
   "execution_count": 47,
   "id": "e20f4117",
   "metadata": {},
   "outputs": [
    {
     "data": {
      "image/png": "[encoded data removed]",
      "text/plain": [
       "<Figure size 576x576 with 1 Axes>"
      ]
     },
     "metadata": {},
     "output_type": "display_data"
    },
    {
     "data": {
      "application/javascript": [
       "\n",
       "            setTimeout(function() {\n",
       "                var nbb_cell_id = 47;\n",
       "                var nbb_unformatted_code = \"ax = venn.venn(\\n    dict(\\n        zip(\\n            [\\\"ORF targets\\\", \\\"Medium/High expressed genes\\\", \\\"Human TFs\\\"],\\n            [orf_targets, foreground_genes, human_tfs],\\n        )\\n    )\\n)\";\n",
       "                var nbb_formatted_code = \"ax = venn.venn(\\n    dict(\\n        zip(\\n            [\\\"ORF targets\\\", \\\"Medium/High expressed genes\\\", \\\"Human TFs\\\"],\\n            [orf_targets, foreground_genes, human_tfs],\\n        )\\n    )\\n)\";\n",
       "                var nbb_cells = Jupyter.notebook.get_cells();\n",
       "                for (var i = 0; i < nbb_cells.length; ++i) {\n",
       "                    if (nbb_cells[i].input_prompt_number == nbb_cell_id) {\n",
       "                        if (nbb_cells[i].get_text() == nbb_unformatted_code) {\n",
       "                             nbb_cells[i].set_text(nbb_formatted_code);\n",
       "                        }\n",
       "                        break;\n",
       "                    }\n",
       "                }\n",
       "            }, 500);\n",
       "            "
      ],
      "text/plain": [
       "<IPython.core.display.Javascript object>"
      ]
     },
     "metadata": {},
     "output_type": "display_data"
    }
   ],
   "source": [
    "ax = venn.venn(\n",
    "    dict(\n",
    "        zip(\n",
    "            [\"ORF targets\", \"Medium/High expressed genes\", \"Human TFs\"],\n",
    "            [orf_targets, foreground_genes, human_tfs],\n",
    "        )\n",
    "    )\n",
    ")"
   ]
  },
  {
   "cell_type": "markdown",
   "id": "6112fd7e",
   "metadata": {},
   "source": [
    "Among those background genes are also 23 ORF targets. We hypothesized that the background genes might correspond to pathways that are typical silent in the wild-type setting but might be imported in an overexpression setting such as toxic interventions leading to apoptosis."
   ]
  },
  {
   "cell_type": "code",
   "execution_count": 48,
   "id": "a5cdfd47",
   "metadata": {},
   "outputs": [
    {
     "data": {
      "application/javascript": [
       "\n",
       "            setTimeout(function() {\n",
       "                var nbb_cell_id = 48;\n",
       "                var nbb_unformatted_code = \"death_genes = list(\\n    pd.read_csv(\\\"../../../data/other/reactome_cell_death.tsv\\\", index_col=0, sep=\\\"\\\\t\\\")[\\n        \\\"MoleculeName\\\"\\n    ]\\n)\\ndeath_genes = set([gene.split(\\\" \\\")[-1] for gene in death_genes])\";\n",
       "                var nbb_formatted_code = \"death_genes = list(\\n    pd.read_csv(\\\"../../../data/other/reactome_cell_death.tsv\\\", index_col=0, sep=\\\"\\\\t\\\")[\\n        \\\"MoleculeName\\\"\\n    ]\\n)\\ndeath_genes = set([gene.split(\\\" \\\")[-1] for gene in death_genes])\";\n",
       "                var nbb_cells = Jupyter.notebook.get_cells();\n",
       "                for (var i = 0; i < nbb_cells.length; ++i) {\n",
       "                    if (nbb_cells[i].input_prompt_number == nbb_cell_id) {\n",
       "                        if (nbb_cells[i].get_text() == nbb_unformatted_code) {\n",
       "                             nbb_cells[i].set_text(nbb_formatted_code);\n",
       "                        }\n",
       "                        break;\n",
       "                    }\n",
       "                }\n",
       "            }, 500);\n",
       "            "
      ],
      "text/plain": [
       "<IPython.core.display.Javascript object>"
      ]
     },
     "metadata": {},
     "output_type": "display_data"
    }
   ],
   "source": [
    "death_genes = list(\n",
    "    pd.read_csv(\"../../../data/other/reactome_cell_death.tsv\", index_col=0, sep=\"\\t\")[\n",
    "        \"MoleculeName\"\n",
    "    ]\n",
    ")\n",
    "death_genes = set([gene.split(\" \")[-1] for gene in death_genes])"
   ]
  },
  {
   "cell_type": "code",
   "execution_count": 49,
   "id": "908457a2",
   "metadata": {},
   "outputs": [
    {
     "data": {
      "image/png": "[encoded data removed]",
      "text/plain": [
       "<Figure size 576x576 with 1 Axes>"
      ]
     },
     "metadata": {},
     "output_type": "display_data"
    },
    {
     "data": {
      "application/javascript": [
       "\n",
       "            setTimeout(function() {\n",
       "                var nbb_cell_id = 49;\n",
       "                var nbb_unformatted_code = \"ax = venn.venn(\\n    dict(\\n        zip(\\n            [\\n                \\\"ORF targets\\\",\\n                \\\"Reactome Apoptosis\\\",\\n                \\\"Medium/High expressed genes\\\",\\n                \\\"Low expressed genes\\\",\\n            ],\\n            [orf_targets, death_genes, foreground_genes, background_genes],\\n        )\\n    )\\n)\";\n",
       "                var nbb_formatted_code = \"ax = venn.venn(\\n    dict(\\n        zip(\\n            [\\n                \\\"ORF targets\\\",\\n                \\\"Reactome Apoptosis\\\",\\n                \\\"Medium/High expressed genes\\\",\\n                \\\"Low expressed genes\\\",\\n            ],\\n            [orf_targets, death_genes, foreground_genes, background_genes],\\n        )\\n    )\\n)\";\n",
       "                var nbb_cells = Jupyter.notebook.get_cells();\n",
       "                for (var i = 0; i < nbb_cells.length; ++i) {\n",
       "                    if (nbb_cells[i].input_prompt_number == nbb_cell_id) {\n",
       "                        if (nbb_cells[i].get_text() == nbb_unformatted_code) {\n",
       "                             nbb_cells[i].set_text(nbb_formatted_code);\n",
       "                        }\n",
       "                        break;\n",
       "                    }\n",
       "                }\n",
       "            }, 500);\n",
       "            "
      ],
      "text/plain": [
       "<IPython.core.display.Javascript object>"
      ]
     },
     "metadata": {},
     "output_type": "display_data"
    }
   ],
   "source": [
    "ax = venn.venn(\n",
    "    dict(\n",
    "        zip(\n",
    "            [\n",
    "                \"ORF targets\",\n",
    "                \"Reactome Apoptosis\",\n",
    "                \"Medium/High expressed genes\",\n",
    "                \"Low expressed genes\",\n",
    "            ],\n",
    "            [orf_targets, death_genes, foreground_genes, background_genes],\n",
    "        )\n",
    "    )\n",
    ")"
   ]
  },
  {
   "cell_type": "markdown",
   "id": "c8fb3bdf",
   "metadata": {},
   "source": [
    "When looking at the Reactome geneset for apoptosis we however see that those genes are actually significantly under-represented in the background gene set contradicting our hypothesis."
   ]
  },
  {
   "cell_type": "markdown",
   "id": "8af87dd4",
   "metadata": {},
   "source": [
    "However, when having a closer look at the ORF targets (see below) that were identified to be background genes based on their low expression, we find that e.g. CEBPA (median. log-expr: 0.0) is among them which showed a drastic change in the cellular morphology upon over-expression. We would not want exclude such genes from our analyses.\n",
    "\n",
    "We could pursue an approach where we only remove low-expressed genes that are not ORF targets, however it is likely that expression of these are co-regulated with certain other genes that upon over-expression lead to the drastic morphological changes. Thus, it is desirable to include also low-expressed genes in the analyses to not also capture important signaling pathways that are turned off in wildtype U2OS cells but lead to significant structural changes in the cell upon activation via overexpression."
   ]
  },
  {
   "cell_type": "code",
   "execution_count": 50,
   "id": "d4cbc256",
   "metadata": {},
   "outputs": [
    {
     "data": {
      "text/plain": [
       "{'AXIN2',\n",
       " 'BAMBI',\n",
       " 'BMP2',\n",
       " 'BMPR1B',\n",
       " 'CEBPA',\n",
       " 'CXXC4',\n",
       " 'DEPTOR',\n",
       " 'DKK1',\n",
       " 'DLL1',\n",
       " 'ERG',\n",
       " 'FGFR3',\n",
       " 'FOXO1',\n",
       " 'GLI1',\n",
       " 'JAK2',\n",
       " 'MAP3K5',\n",
       " 'MAP3K8',\n",
       " 'MAPK13',\n",
       " 'MKNK1',\n",
       " 'PHLPP1',\n",
       " 'PPARGC1A',\n",
       " 'SMAD7',\n",
       " 'TNFAIP3',\n",
       " 'VEGFC',\n",
       " 'WNT5A'}"
      ]
     },
     "execution_count": 50,
     "metadata": {},
     "output_type": "execute_result"
    },
    {
     "data": {
      "application/javascript": [
       "\n",
       "            setTimeout(function() {\n",
       "                var nbb_cell_id = 50;\n",
       "                var nbb_unformatted_code = \"orf_targets.intersection(background_genes)\";\n",
       "                var nbb_formatted_code = \"orf_targets.intersection(background_genes)\";\n",
       "                var nbb_cells = Jupyter.notebook.get_cells();\n",
       "                for (var i = 0; i < nbb_cells.length; ++i) {\n",
       "                    if (nbb_cells[i].input_prompt_number == nbb_cell_id) {\n",
       "                        if (nbb_cells[i].get_text() == nbb_unformatted_code) {\n",
       "                             nbb_cells[i].set_text(nbb_formatted_code);\n",
       "                        }\n",
       "                        break;\n",
       "                    }\n",
       "                }\n",
       "            }, 500);\n",
       "            "
      ],
      "text/plain": [
       "<IPython.core.display.Javascript object>"
      ]
     },
     "metadata": {},
     "output_type": "display_data"
    }
   ],
   "source": [
    "orf_targets.intersection(background_genes)"
   ]
  },
  {
   "cell_type": "markdown",
   "id": "14dce4a8",
   "metadata": {},
   "source": [
    "---"
   ]
  },
  {
   "cell_type": "markdown",
   "id": "0aadd128",
   "metadata": {},
   "source": [
    "### 2b. Identification of U2OS marker genes\n",
    "\n",
    "The set of genes that we identified as not being moderately expressed in U2OS cells forms one possible subset of genes of interest for the derivation of the cell-type specific interactome.\n",
    "\n",
    "One alternative approach is to define a marker gene set for the given cell type by finding those genes that are significantly overexpressed in U2OS cell compared to other cell types. To identify such a set we will focus on the CCLE data spanning over 1300 different cancer cell lines. Note that this will likely lead to a selection of genes that are highly specific to that cell type due to the comparison to other cancer cell lines only."
   ]
  },
  {
   "cell_type": "markdown",
   "id": "6779e7ef",
   "metadata": {},
   "source": [
    "To identify a the markers, we will run a screen testing for every gene if the mean expression of all other cancer cell lines is significantly smaller than the expression of that respective gene for U2OS cells using the bulk RNAseq data. In particular, we will test the following for each gene:"
   ]
  },
  {
   "cell_type": "markdown",
   "id": "b1f54af5",
   "metadata": {},
   "source": [
    "$$\n",
    "H_A: \\quad \\bar{x}_i < x_{i,U2OS}, \\quad \\textrm{with} \\ \\bar{x}_i=\\frac{1}{N-1}\\sum\\limits_{j\\neq U2OS}x_{i,j}\n",
    "$$\n",
    "where $x_{i,j}$ is the transformed expression of gene $i$ in cell type $j$."
   ]
  },
  {
   "cell_type": "code",
   "execution_count": 51,
   "id": "673c87a4",
   "metadata": {},
   "outputs": [
    {
     "data": {
      "application/javascript": [
       "\n",
       "            setTimeout(function() {\n",
       "                var nbb_cell_id = 51;\n",
       "                var nbb_unformatted_code = \"marker_results = find_markers(\\n    ccle_data,\\n    target=\\\"U2OS\\\",\\n    avg_log_fc=0.0,\\n    min_pct=0,\\n)\";\n",
       "                var nbb_formatted_code = \"marker_results = find_markers(\\n    ccle_data,\\n    target=\\\"U2OS\\\",\\n    avg_log_fc=0.0,\\n    min_pct=0,\\n)\";\n",
       "                var nbb_cells = Jupyter.notebook.get_cells();\n",
       "                for (var i = 0; i < nbb_cells.length; ++i) {\n",
       "                    if (nbb_cells[i].input_prompt_number == nbb_cell_id) {\n",
       "                        if (nbb_cells[i].get_text() == nbb_unformatted_code) {\n",
       "                             nbb_cells[i].set_text(nbb_formatted_code);\n",
       "                        }\n",
       "                        break;\n",
       "                    }\n",
       "                }\n",
       "            }, 500);\n",
       "            "
      ],
      "text/plain": [
       "<IPython.core.display.Javascript object>"
      ]
     },
     "metadata": {},
     "output_type": "display_data"
    }
   ],
   "source": [
    "marker_results = find_markers(\n",
    "    ccle_data,\n",
    "    target=\"U2OS\",\n",
    "    avg_log_fc=0.0,\n",
    "    min_pct=0,\n",
    ")"
   ]
  },
  {
   "cell_type": "markdown",
   "id": "2c11ee8a",
   "metadata": {},
   "source": [
    "The table below shows the top 10 genes that show the largest absolute log-fold change when comparing U2OS cells vs. the other cancer cell lines of the CCLE data set."
   ]
  },
  {
   "cell_type": "code",
   "execution_count": 52,
   "id": "8cd43d88",
   "metadata": {},
   "outputs": [
    {
     "data": {
      "text/html": [
       "<div>\n",
       "<style scoped>\n",
       "    .dataframe tbody tr th:only-of-type {\n",
       "        vertical-align: middle;\n",
       "    }\n",
       "\n",
       "    .dataframe tbody tr th {\n",
       "        vertical-align: top;\n",
       "    }\n",
       "\n",
       "    .dataframe thead th {\n",
       "        text-align: right;\n",
       "    }\n",
       "</style>\n",
       "<table border=\"1\" class=\"dataframe\">\n",
       "  <thead>\n",
       "    <tr style=\"text-align: right;\">\n",
       "      <th></th>\n",
       "      <th>log_expr_target</th>\n",
       "      <th>avg_log_expr_other</th>\n",
       "      <th>log_fc</th>\n",
       "      <th>abs_log_fc</th>\n",
       "      <th>pval</th>\n",
       "      <th>fdr</th>\n",
       "    </tr>\n",
       "  </thead>\n",
       "  <tbody>\n",
       "    <tr>\n",
       "      <th>DHRS2</th>\n",
       "      <td>10.913937</td>\n",
       "      <td>2.265074</td>\n",
       "      <td>8.648862</td>\n",
       "      <td>8.648862</td>\n",
       "      <td>0.0</td>\n",
       "      <td>0.0</td>\n",
       "    </tr>\n",
       "    <tr>\n",
       "      <th>TUBA3C</th>\n",
       "      <td>8.172977</td>\n",
       "      <td>0.363201</td>\n",
       "      <td>7.809776</td>\n",
       "      <td>7.809776</td>\n",
       "      <td>0.0</td>\n",
       "      <td>0.0</td>\n",
       "    </tr>\n",
       "    <tr>\n",
       "      <th>XAGE1B</th>\n",
       "      <td>9.351337</td>\n",
       "      <td>1.736868</td>\n",
       "      <td>7.614469</td>\n",
       "      <td>7.614469</td>\n",
       "      <td>0.0</td>\n",
       "      <td>0.0</td>\n",
       "    </tr>\n",
       "    <tr>\n",
       "      <th>PAGE2</th>\n",
       "      <td>7.891055</td>\n",
       "      <td>0.447193</td>\n",
       "      <td>7.443861</td>\n",
       "      <td>7.443861</td>\n",
       "      <td>0.0</td>\n",
       "      <td>0.0</td>\n",
       "    </tr>\n",
       "    <tr>\n",
       "      <th>PAGE2B</th>\n",
       "      <td>7.760687</td>\n",
       "      <td>0.404266</td>\n",
       "      <td>7.356420</td>\n",
       "      <td>7.356420</td>\n",
       "      <td>0.0</td>\n",
       "      <td>0.0</td>\n",
       "    </tr>\n",
       "    <tr>\n",
       "      <th>HAPLN1</th>\n",
       "      <td>7.514122</td>\n",
       "      <td>0.537060</td>\n",
       "      <td>6.977062</td>\n",
       "      <td>6.977062</td>\n",
       "      <td>0.0</td>\n",
       "      <td>0.0</td>\n",
       "    </tr>\n",
       "    <tr>\n",
       "      <th>KRT81</th>\n",
       "      <td>9.080338</td>\n",
       "      <td>2.109525</td>\n",
       "      <td>6.970813</td>\n",
       "      <td>6.970813</td>\n",
       "      <td>0.0</td>\n",
       "      <td>0.0</td>\n",
       "    </tr>\n",
       "    <tr>\n",
       "      <th>PCLO</th>\n",
       "      <td>8.285310</td>\n",
       "      <td>1.510797</td>\n",
       "      <td>6.774512</td>\n",
       "      <td>6.774512</td>\n",
       "      <td>0.0</td>\n",
       "      <td>0.0</td>\n",
       "    </tr>\n",
       "    <tr>\n",
       "      <th>KRT17</th>\n",
       "      <td>9.705892</td>\n",
       "      <td>2.965366</td>\n",
       "      <td>6.740525</td>\n",
       "      <td>6.740525</td>\n",
       "      <td>0.0</td>\n",
       "      <td>0.0</td>\n",
       "    </tr>\n",
       "    <tr>\n",
       "      <th>XAGE1A</th>\n",
       "      <td>7.796364</td>\n",
       "      <td>1.283182</td>\n",
       "      <td>6.513182</td>\n",
       "      <td>6.513182</td>\n",
       "      <td>0.0</td>\n",
       "      <td>0.0</td>\n",
       "    </tr>\n",
       "  </tbody>\n",
       "</table>\n",
       "</div>"
      ],
      "text/plain": [
       "        log_expr_target  avg_log_expr_other    log_fc  abs_log_fc  pval  fdr\n",
       "DHRS2         10.913937            2.265074  8.648862    8.648862   0.0  0.0\n",
       "TUBA3C         8.172977            0.363201  7.809776    7.809776   0.0  0.0\n",
       "XAGE1B         9.351337            1.736868  7.614469    7.614469   0.0  0.0\n",
       "PAGE2          7.891055            0.447193  7.443861    7.443861   0.0  0.0\n",
       "PAGE2B         7.760687            0.404266  7.356420    7.356420   0.0  0.0\n",
       "HAPLN1         7.514122            0.537060  6.977062    6.977062   0.0  0.0\n",
       "KRT81          9.080338            2.109525  6.970813    6.970813   0.0  0.0\n",
       "PCLO           8.285310            1.510797  6.774512    6.774512   0.0  0.0\n",
       "KRT17          9.705892            2.965366  6.740525    6.740525   0.0  0.0\n",
       "XAGE1A         7.796364            1.283182  6.513182    6.513182   0.0  0.0"
      ]
     },
     "execution_count": 52,
     "metadata": {},
     "output_type": "execute_result"
    },
    {
     "data": {
      "application/javascript": [
       "\n",
       "            setTimeout(function() {\n",
       "                var nbb_cell_id = 52;\n",
       "                var nbb_unformatted_code = \"marker_results.loc[(marker_results[\\\"fdr\\\"] < 0.05)].sort_values(\\n    \\\"abs_log_fc\\\", ascending=False\\n).head(10)\";\n",
       "                var nbb_formatted_code = \"marker_results.loc[(marker_results[\\\"fdr\\\"] < 0.05)].sort_values(\\n    \\\"abs_log_fc\\\", ascending=False\\n).head(10)\";\n",
       "                var nbb_cells = Jupyter.notebook.get_cells();\n",
       "                for (var i = 0; i < nbb_cells.length; ++i) {\n",
       "                    if (nbb_cells[i].input_prompt_number == nbb_cell_id) {\n",
       "                        if (nbb_cells[i].get_text() == nbb_unformatted_code) {\n",
       "                             nbb_cells[i].set_text(nbb_formatted_code);\n",
       "                        }\n",
       "                        break;\n",
       "                    }\n",
       "                }\n",
       "            }, 500);\n",
       "            "
      ],
      "text/plain": [
       "<IPython.core.display.Javascript object>"
      ]
     },
     "metadata": {},
     "output_type": "display_data"
    }
   ],
   "source": [
    "marker_results.loc[(marker_results[\"fdr\"] < 0.05)].sort_values(\n",
    "    \"abs_log_fc\", ascending=False\n",
    ").head(10)"
   ]
  },
  {
   "cell_type": "markdown",
   "id": "6db6dd25",
   "metadata": {},
   "source": [
    "The figure below shows the exponential decay of the absolute logFC values for the roughly 18k genes in the CCLE data set."
   ]
  },
  {
   "cell_type": "code",
   "execution_count": 53,
   "id": "8df24b46",
   "metadata": {},
   "outputs": [
    {
     "data": {
      "image/png": "[encoded data removed]",
      "text/plain": [
       "<Figure size 432x288 with 1 Axes>"
      ]
     },
     "metadata": {
      "needs_background": "light"
     },
     "output_type": "display_data"
    },
    {
     "data": {
      "application/javascript": [
       "\n",
       "            setTimeout(function() {\n",
       "                var nbb_cell_id = 53;\n",
       "                var nbb_unformatted_code = \"plt.figure()\\nplt.plot(\\n    list(range(len(marker_results))),\\n    np.array(\\n        marker_results.sort_values(\\\"abs_log_fc\\\", ascending=False).loc[:, \\\"abs_log_fc\\\"]\\n    ),\\n)\\nplt.ylabel(\\\"Absolute logFC\\\")\\nplt.xlabel(\\\"Gene ID\\\")\\nplt.title(\\\"Absolute logFC of the expression in U2OS cells vs. other cancer cells\\\")\\nplt.show()\";\n",
       "                var nbb_formatted_code = \"plt.figure()\\nplt.plot(\\n    list(range(len(marker_results))),\\n    np.array(\\n        marker_results.sort_values(\\\"abs_log_fc\\\", ascending=False).loc[:, \\\"abs_log_fc\\\"]\\n    ),\\n)\\nplt.ylabel(\\\"Absolute logFC\\\")\\nplt.xlabel(\\\"Gene ID\\\")\\nplt.title(\\\"Absolute logFC of the expression in U2OS cells vs. other cancer cells\\\")\\nplt.show()\";\n",
       "                var nbb_cells = Jupyter.notebook.get_cells();\n",
       "                for (var i = 0; i < nbb_cells.length; ++i) {\n",
       "                    if (nbb_cells[i].input_prompt_number == nbb_cell_id) {\n",
       "                        if (nbb_cells[i].get_text() == nbb_unformatted_code) {\n",
       "                             nbb_cells[i].set_text(nbb_formatted_code);\n",
       "                        }\n",
       "                        break;\n",
       "                    }\n",
       "                }\n",
       "            }, 500);\n",
       "            "
      ],
      "text/plain": [
       "<IPython.core.display.Javascript object>"
      ]
     },
     "metadata": {},
     "output_type": "display_data"
    }
   ],
   "source": [
    "plt.figure()\n",
    "plt.plot(\n",
    "    list(range(len(marker_results))),\n",
    "    np.array(\n",
    "        marker_results.sort_values(\"abs_log_fc\", ascending=False).loc[:, \"abs_log_fc\"]\n",
    "    ),\n",
    ")\n",
    "plt.ylabel(\"Absolute logFC\")\n",
    "plt.xlabel(\"Gene ID\")\n",
    "plt.title(\"Absolute logFC of the expression in U2OS cells vs. other cancer cells\")\n",
    "plt.show()"
   ]
  },
  {
   "cell_type": "markdown",
   "id": "209c75d2",
   "metadata": {},
   "source": [
    "When we look at the log-fold change of the ORF targets, we see that many of these show a log-fold change below 1. Importantly, many of these however show an important structural response when overexpressed by ORF constructs like CASP8 which is highly toxic upon overexpression."
   ]
  },
  {
   "cell_type": "code",
   "execution_count": 54,
   "id": "dacff4a1",
   "metadata": {},
   "outputs": [
    {
     "data": {
      "image/png": "[encoded data removed]",
      "text/plain": [
       "<Figure size 1008x432 with 1 Axes>"
      ]
     },
     "metadata": {
      "needs_background": "light"
     },
     "output_type": "display_data"
    },
    {
     "data": {
      "application/javascript": [
       "\n",
       "            setTimeout(function() {\n",
       "                var nbb_cell_id = 54;\n",
       "                var nbb_unformatted_code = \"orf_log_fc = marker_results.loc[\\n    set(list(marker_results.index)).intersection(orf_targets), \\\"log_fc\\\"\\n]\\norf_log_fc.sort_index().iloc[:60].plot.bar(figsize=[14, 6], color=\\\"tab:green\\\")\\nplt.ylabel(\\\"log fold-change\\\")\\nplt.title(\\n    \\\"Log-fold change of the ORF targets comparing U2OS against other cancer cell lines\\\"\\n)\\nplt.show()\";\n",
       "                var nbb_formatted_code = \"orf_log_fc = marker_results.loc[\\n    set(list(marker_results.index)).intersection(orf_targets), \\\"log_fc\\\"\\n]\\norf_log_fc.sort_index().iloc[:60].plot.bar(figsize=[14, 6], color=\\\"tab:green\\\")\\nplt.ylabel(\\\"log fold-change\\\")\\nplt.title(\\n    \\\"Log-fold change of the ORF targets comparing U2OS against other cancer cell lines\\\"\\n)\\nplt.show()\";\n",
       "                var nbb_cells = Jupyter.notebook.get_cells();\n",
       "                for (var i = 0; i < nbb_cells.length; ++i) {\n",
       "                    if (nbb_cells[i].input_prompt_number == nbb_cell_id) {\n",
       "                        if (nbb_cells[i].get_text() == nbb_unformatted_code) {\n",
       "                             nbb_cells[i].set_text(nbb_formatted_code);\n",
       "                        }\n",
       "                        break;\n",
       "                    }\n",
       "                }\n",
       "            }, 500);\n",
       "            "
      ],
      "text/plain": [
       "<IPython.core.display.Javascript object>"
      ]
     },
     "metadata": {},
     "output_type": "display_data"
    }
   ],
   "source": [
    "orf_log_fc = marker_results.loc[\n",
    "    set(list(marker_results.index)).intersection(orf_targets), \"log_fc\"\n",
    "]\n",
    "orf_log_fc.sort_index().iloc[:60].plot.bar(figsize=[14, 6], color=\"tab:green\")\n",
    "plt.ylabel(\"log fold-change\")\n",
    "plt.title(\n",
    "    \"Log-fold change of the ORF targets comparing U2OS against other cancer cell lines\"\n",
    ")\n",
    "plt.show()"
   ]
  },
  {
   "cell_type": "code",
   "execution_count": 55,
   "id": "eb84a8aa",
   "metadata": {},
   "outputs": [
    {
     "data": {
      "image/png": "[encoded data removed]",
      "text/plain": [
       "<Figure size 1008x432 with 1 Axes>"
      ]
     },
     "metadata": {
      "needs_background": "light"
     },
     "output_type": "display_data"
    },
    {
     "data": {
      "application/javascript": [
       "\n",
       "            setTimeout(function() {\n",
       "                var nbb_cell_id = 55;\n",
       "                var nbb_unformatted_code = \"orf_log_fc.sort_index().iloc[60:120].plot.bar(figsize=[14, 6], color=\\\"tab:green\\\")\\nplt.ylabel(\\\"log fold-change\\\")\\nplt.title(\\n    \\\"Log-fold change of the ORF targets comparing U2OS against other cancer cell lines\\\"\\n)\\nplt.show()\";\n",
       "                var nbb_formatted_code = \"orf_log_fc.sort_index().iloc[60:120].plot.bar(figsize=[14, 6], color=\\\"tab:green\\\")\\nplt.ylabel(\\\"log fold-change\\\")\\nplt.title(\\n    \\\"Log-fold change of the ORF targets comparing U2OS against other cancer cell lines\\\"\\n)\\nplt.show()\";\n",
       "                var nbb_cells = Jupyter.notebook.get_cells();\n",
       "                for (var i = 0; i < nbb_cells.length; ++i) {\n",
       "                    if (nbb_cells[i].input_prompt_number == nbb_cell_id) {\n",
       "                        if (nbb_cells[i].get_text() == nbb_unformatted_code) {\n",
       "                             nbb_cells[i].set_text(nbb_formatted_code);\n",
       "                        }\n",
       "                        break;\n",
       "                    }\n",
       "                }\n",
       "            }, 500);\n",
       "            "
      ],
      "text/plain": [
       "<IPython.core.display.Javascript object>"
      ]
     },
     "metadata": {},
     "output_type": "display_data"
    }
   ],
   "source": [
    "orf_log_fc.sort_index().iloc[60:120].plot.bar(figsize=[14, 6], color=\"tab:green\")\n",
    "plt.ylabel(\"log fold-change\")\n",
    "plt.title(\n",
    "    \"Log-fold change of the ORF targets comparing U2OS against other cancer cell lines\"\n",
    ")\n",
    "plt.show()"
   ]
  },
  {
   "cell_type": "code",
   "execution_count": 56,
   "id": "f4feab89",
   "metadata": {},
   "outputs": [
    {
     "data": {
      "image/png": "[encoded data removed]",
      "text/plain": [
       "<Figure size 1008x432 with 1 Axes>"
      ]
     },
     "metadata": {
      "needs_background": "light"
     },
     "output_type": "display_data"
    },
    {
     "data": {
      "application/javascript": [
       "\n",
       "            setTimeout(function() {\n",
       "                var nbb_cell_id = 56;\n",
       "                var nbb_unformatted_code = \"orf_log_fc.sort_index().iloc[120:].plot.bar(figsize=[14, 6], color=\\\"tab:green\\\")\\nplt.ylabel(\\\"log fold-change\\\")\\nplt.title(\\n    \\\"Log-fold change of the ORF targets comparing U2OS against other cancer cell lines\\\"\\n)\\nplt.show()\";\n",
       "                var nbb_formatted_code = \"orf_log_fc.sort_index().iloc[120:].plot.bar(figsize=[14, 6], color=\\\"tab:green\\\")\\nplt.ylabel(\\\"log fold-change\\\")\\nplt.title(\\n    \\\"Log-fold change of the ORF targets comparing U2OS against other cancer cell lines\\\"\\n)\\nplt.show()\";\n",
       "                var nbb_cells = Jupyter.notebook.get_cells();\n",
       "                for (var i = 0; i < nbb_cells.length; ++i) {\n",
       "                    if (nbb_cells[i].input_prompt_number == nbb_cell_id) {\n",
       "                        if (nbb_cells[i].get_text() == nbb_unformatted_code) {\n",
       "                             nbb_cells[i].set_text(nbb_formatted_code);\n",
       "                        }\n",
       "                        break;\n",
       "                    }\n",
       "                }\n",
       "            }, 500);\n",
       "            "
      ],
      "text/plain": [
       "<IPython.core.display.Javascript object>"
      ]
     },
     "metadata": {},
     "output_type": "display_data"
    }
   ],
   "source": [
    "orf_log_fc.sort_index().iloc[120:].plot.bar(figsize=[14, 6], color=\"tab:green\")\n",
    "plt.ylabel(\"log fold-change\")\n",
    "plt.title(\n",
    "    \"Log-fold change of the ORF targets comparing U2OS against other cancer cell lines\"\n",
    ")\n",
    "plt.show()"
   ]
  },
  {
   "cell_type": "markdown",
   "id": "4cfa699b",
   "metadata": {},
   "source": [
    "This is important to keep in mind for the later inference."
   ]
  },
  {
   "cell_type": "markdown",
   "id": "ee7c9ef8",
   "metadata": {},
   "source": [
    "---\n",
    "\n",
    "## 3. Preprocessing the PPI"
   ]
  },
  {
   "cell_type": "markdown",
   "id": "986af1b9",
   "metadata": {},
   "source": [
    "In the following we will prune the PPI to remove low-confidence edges and respective disconnected components. To this end, we first aim to find a cut-off for the given edge costs that correspond to a measure of uncertainty for the existance of an interaction in the PPI between any pair of nodes.\n",
    "\n",
    "The plots below illustrate the number of nodes, number of edges the average degree and the number of covered ORF targets for different cutoff values for the certainty of the respective edges of the subgraph of the human PPI induced by selecting only those gene covered by the scRNA-seq data set."
   ]
  },
  {
   "cell_type": "code",
   "execution_count": 57,
   "id": "65218f16",
   "metadata": {},
   "outputs": [
    {
     "name": "stdout",
     "output_type": "stream",
     "text": [
      "Name: \n",
      "Type: Graph\n",
      "Number of nodes: 13129\n",
      "Number of edges: 154269\n",
      "Average degree:  23.5005\n"
     ]
    },
    {
     "data": {
      "application/javascript": [
       "\n",
       "            setTimeout(function() {\n",
       "                var nbb_cell_id = 57;\n",
       "                var nbb_unformatted_code = \"filtered_ppi = iref_ppi.subgraph(fucci_gene_set)\\nprint(nx.info(filtered_ppi))\";\n",
       "                var nbb_formatted_code = \"filtered_ppi = iref_ppi.subgraph(fucci_gene_set)\\nprint(nx.info(filtered_ppi))\";\n",
       "                var nbb_cells = Jupyter.notebook.get_cells();\n",
       "                for (var i = 0; i < nbb_cells.length; ++i) {\n",
       "                    if (nbb_cells[i].input_prompt_number == nbb_cell_id) {\n",
       "                        if (nbb_cells[i].get_text() == nbb_unformatted_code) {\n",
       "                             nbb_cells[i].set_text(nbb_formatted_code);\n",
       "                        }\n",
       "                        break;\n",
       "                    }\n",
       "                }\n",
       "            }, 500);\n",
       "            "
      ],
      "text/plain": [
       "<IPython.core.display.Javascript object>"
      ]
     },
     "metadata": {},
     "output_type": "display_data"
    }
   ],
   "source": [
    "filtered_ppi = iref_ppi.subgraph(fucci_gene_set)\n",
    "print(nx.info(filtered_ppi))"
   ]
  },
  {
   "cell_type": "code",
   "execution_count": 58,
   "id": "13185456",
   "metadata": {},
   "outputs": [
    {
     "name": "stderr",
     "output_type": "stream",
     "text": [
      "100%|██████████| 1000/1000 [02:05<00:00,  7.97it/s]\n"
     ]
    },
    {
     "data": {
      "application/javascript": [
       "\n",
       "            setTimeout(function() {\n",
       "                var nbb_cell_id = 58;\n",
       "                var nbb_unformatted_code = \"confidence_cutoff_search_results = search_for_confidence_cutoff(\\n    filtered_ppi, targets=orf_targets\\n)\";\n",
       "                var nbb_formatted_code = \"confidence_cutoff_search_results = search_for_confidence_cutoff(\\n    filtered_ppi, targets=orf_targets\\n)\";\n",
       "                var nbb_cells = Jupyter.notebook.get_cells();\n",
       "                for (var i = 0; i < nbb_cells.length; ++i) {\n",
       "                    if (nbb_cells[i].input_prompt_number == nbb_cell_id) {\n",
       "                        if (nbb_cells[i].get_text() == nbb_unformatted_code) {\n",
       "                             nbb_cells[i].set_text(nbb_formatted_code);\n",
       "                        }\n",
       "                        break;\n",
       "                    }\n",
       "                }\n",
       "            }, 500);\n",
       "            "
      ],
      "text/plain": [
       "<IPython.core.display.Javascript object>"
      ]
     },
     "metadata": {},
     "output_type": "display_data"
    }
   ],
   "source": [
    "confidence_cutoff_search_results = search_for_confidence_cutoff(\n",
    "    filtered_ppi, targets=orf_targets\n",
    ")"
   ]
  },
  {
   "cell_type": "code",
   "execution_count": 59,
   "id": "3ee4c27b",
   "metadata": {},
   "outputs": [
    {
     "data": {
      "image/png": "[encoded data removed]",
      "text/plain": [
       "<Figure size 720x576 with 4 Axes>"
      ]
     },
     "metadata": {
      "needs_background": "light"
     },
     "output_type": "display_data"
    },
    {
     "data": {
      "application/javascript": [
       "\n",
       "            setTimeout(function() {\n",
       "                var nbb_cell_id = 59;\n",
       "                var nbb_unformatted_code = \"fig, ax = plt.subplots(nrows=2, ncols=2, figsize=[10, 8])\\nax = ax.flatten()\\nsns.lineplot(data=confidence_cutoff_search_results, x=\\\"cutoff\\\", y=\\\"n_nodes\\\", ax=ax[0])\\nax[0].axvline(x=0.562, color=\\\"r\\\")\\nsns.lineplot(data=confidence_cutoff_search_results, x=\\\"cutoff\\\", y=\\\"n_edges\\\", ax=ax[1])\\nax[1].axvline(x=0.562, color=\\\"r\\\")\\nsns.lineplot(data=confidence_cutoff_search_results, x=\\\"cutoff\\\", y=\\\"n_targets\\\", ax=ax[2])\\nax[2].axvline(x=0.562, color=\\\"r\\\")\\nsns.lineplot(\\n    data=confidence_cutoff_search_results, x=\\\"cutoff\\\", y=\\\"avg_degree\\\", ax=ax[3]\\n)\\nax[3].axvline(x=0.562, color=\\\"r\\\")\\nplt.show()\";\n",
       "                var nbb_formatted_code = \"fig, ax = plt.subplots(nrows=2, ncols=2, figsize=[10, 8])\\nax = ax.flatten()\\nsns.lineplot(data=confidence_cutoff_search_results, x=\\\"cutoff\\\", y=\\\"n_nodes\\\", ax=ax[0])\\nax[0].axvline(x=0.562, color=\\\"r\\\")\\nsns.lineplot(data=confidence_cutoff_search_results, x=\\\"cutoff\\\", y=\\\"n_edges\\\", ax=ax[1])\\nax[1].axvline(x=0.562, color=\\\"r\\\")\\nsns.lineplot(data=confidence_cutoff_search_results, x=\\\"cutoff\\\", y=\\\"n_targets\\\", ax=ax[2])\\nax[2].axvline(x=0.562, color=\\\"r\\\")\\nsns.lineplot(\\n    data=confidence_cutoff_search_results, x=\\\"cutoff\\\", y=\\\"avg_degree\\\", ax=ax[3]\\n)\\nax[3].axvline(x=0.562, color=\\\"r\\\")\\nplt.show()\";\n",
       "                var nbb_cells = Jupyter.notebook.get_cells();\n",
       "                for (var i = 0; i < nbb_cells.length; ++i) {\n",
       "                    if (nbb_cells[i].input_prompt_number == nbb_cell_id) {\n",
       "                        if (nbb_cells[i].get_text() == nbb_unformatted_code) {\n",
       "                             nbb_cells[i].set_text(nbb_formatted_code);\n",
       "                        }\n",
       "                        break;\n",
       "                    }\n",
       "                }\n",
       "            }, 500);\n",
       "            "
      ],
      "text/plain": [
       "<IPython.core.display.Javascript object>"
      ]
     },
     "metadata": {},
     "output_type": "display_data"
    }
   ],
   "source": [
    "fig, ax = plt.subplots(nrows=2, ncols=2, figsize=[10, 8])\n",
    "ax = ax.flatten()\n",
    "sns.lineplot(data=confidence_cutoff_search_results, x=\"cutoff\", y=\"n_nodes\", ax=ax[0])\n",
    "ax[0].axvline(x=0.562, color=\"r\")\n",
    "sns.lineplot(data=confidence_cutoff_search_results, x=\"cutoff\", y=\"n_edges\", ax=ax[1])\n",
    "ax[1].axvline(x=0.562, color=\"r\")\n",
    "sns.lineplot(data=confidence_cutoff_search_results, x=\"cutoff\", y=\"n_targets\", ax=ax[2])\n",
    "ax[2].axvline(x=0.562, color=\"r\")\n",
    "sns.lineplot(\n",
    "    data=confidence_cutoff_search_results, x=\"cutoff\", y=\"avg_degree\", ax=ax[3]\n",
    ")\n",
    "ax[3].axvline(x=0.562, color=\"r\")\n",
    "plt.show()"
   ]
  },
  {
   "cell_type": "markdown",
   "id": "813dc82c",
   "metadata": {},
   "source": [
    "We see that the average degree and the number of edges jumps at a level around 0.6. Importantly, at this point all 185 ORF targets are already included in the graph. Thus, we will prune the network to remove all edges with a cost higher than the highest edge prize connecting any of the targets, i.e. the minimum cutoff value for which the number of targets that are covered in the respective subgraph are 185."
   ]
  },
  {
   "cell_type": "code",
   "execution_count": 60,
   "id": "58f83b53",
   "metadata": {},
   "outputs": [
    {
     "data": {
      "text/html": [
       "<div>\n",
       "<style scoped>\n",
       "    .dataframe tbody tr th:only-of-type {\n",
       "        vertical-align: middle;\n",
       "    }\n",
       "\n",
       "    .dataframe tbody tr th {\n",
       "        vertical-align: top;\n",
       "    }\n",
       "\n",
       "    .dataframe thead th {\n",
       "        text-align: right;\n",
       "    }\n",
       "</style>\n",
       "<table border=\"1\" class=\"dataframe\">\n",
       "  <thead>\n",
       "    <tr style=\"text-align: right;\">\n",
       "      <th></th>\n",
       "      <th>cutoff</th>\n",
       "      <th>n_nodes</th>\n",
       "      <th>n_targets</th>\n",
       "      <th>n_edges</th>\n",
       "      <th>avg_degree</th>\n",
       "    </tr>\n",
       "  </thead>\n",
       "  <tbody>\n",
       "    <tr>\n",
       "      <th>562</th>\n",
       "      <td>0.562</td>\n",
       "      <td>10900</td>\n",
       "      <td>185</td>\n",
       "      <td>54582</td>\n",
       "      <td>10.015046</td>\n",
       "    </tr>\n",
       "  </tbody>\n",
       "</table>\n",
       "</div>"
      ],
      "text/plain": [
       "     cutoff  n_nodes  n_targets  n_edges  avg_degree\n",
       "562   0.562    10900        185    54582   10.015046"
      ]
     },
     "execution_count": 60,
     "metadata": {},
     "output_type": "execute_result"
    },
    {
     "data": {
      "application/javascript": [
       "\n",
       "            setTimeout(function() {\n",
       "                var nbb_cell_id = 60;\n",
       "                var nbb_unformatted_code = \"confidence_cutoff_search_results.loc[\\n    confidence_cutoff_search_results[\\\"n_targets\\\"] == 185\\n].sort_values(\\\"cutoff\\\").head(1)\";\n",
       "                var nbb_formatted_code = \"confidence_cutoff_search_results.loc[\\n    confidence_cutoff_search_results[\\\"n_targets\\\"] == 185\\n].sort_values(\\\"cutoff\\\").head(1)\";\n",
       "                var nbb_cells = Jupyter.notebook.get_cells();\n",
       "                for (var i = 0; i < nbb_cells.length; ++i) {\n",
       "                    if (nbb_cells[i].input_prompt_number == nbb_cell_id) {\n",
       "                        if (nbb_cells[i].get_text() == nbb_unformatted_code) {\n",
       "                             nbb_cells[i].set_text(nbb_formatted_code);\n",
       "                        }\n",
       "                        break;\n",
       "                    }\n",
       "                }\n",
       "            }, 500);\n",
       "            "
      ],
      "text/plain": [
       "<IPython.core.display.Javascript object>"
      ]
     },
     "metadata": {},
     "output_type": "display_data"
    }
   ],
   "source": [
    "confidence_cutoff_search_results.loc[\n",
    "    confidence_cutoff_search_results[\"n_targets\"] == 185\n",
    "].sort_values(\"cutoff\").head(1)"
   ]
  },
  {
   "cell_type": "markdown",
   "id": "e182dd7e",
   "metadata": {},
   "source": [
    "That is the case for a cutoff of 0.562. At this point the induced subgraph consists of 10'900 nodes and 54'592 edges and an average node degree of 10.02."
   ]
  },
  {
   "cell_type": "code",
   "execution_count": 61,
   "id": "a3fab51a",
   "metadata": {},
   "outputs": [
    {
     "data": {
      "application/javascript": [
       "\n",
       "            setTimeout(function() {\n",
       "                var nbb_cell_id = 61;\n",
       "                var nbb_unformatted_code = \"filtered_ppi_edge_list = nx.to_pandas_edgelist(filtered_ppi)\\npruned_ppi = nx.nx.from_pandas_edgelist(\\n    filtered_ppi_edge_list.loc[filtered_ppi_edge_list[\\\"cost\\\"] < 0.562, :]\\n)\";\n",
       "                var nbb_formatted_code = \"filtered_ppi_edge_list = nx.to_pandas_edgelist(filtered_ppi)\\npruned_ppi = nx.nx.from_pandas_edgelist(\\n    filtered_ppi_edge_list.loc[filtered_ppi_edge_list[\\\"cost\\\"] < 0.562, :]\\n)\";\n",
       "                var nbb_cells = Jupyter.notebook.get_cells();\n",
       "                for (var i = 0; i < nbb_cells.length; ++i) {\n",
       "                    if (nbb_cells[i].input_prompt_number == nbb_cell_id) {\n",
       "                        if (nbb_cells[i].get_text() == nbb_unformatted_code) {\n",
       "                             nbb_cells[i].set_text(nbb_formatted_code);\n",
       "                        }\n",
       "                        break;\n",
       "                    }\n",
       "                }\n",
       "            }, 500);\n",
       "            "
      ],
      "text/plain": [
       "<IPython.core.display.Javascript object>"
      ]
     },
     "metadata": {},
     "output_type": "display_data"
    }
   ],
   "source": [
    "filtered_ppi_edge_list = nx.to_pandas_edgelist(filtered_ppi)\n",
    "pruned_ppi = nx.nx.from_pandas_edgelist(\n",
    "    filtered_ppi_edge_list.loc[filtered_ppi_edge_list[\"cost\"] < 0.562, :]\n",
    ")"
   ]
  },
  {
   "cell_type": "code",
   "execution_count": 62,
   "id": "f787f57a",
   "metadata": {},
   "outputs": [
    {
     "data": {
      "application/javascript": [
       "\n",
       "            setTimeout(function() {\n",
       "                var nbb_cell_id = 62;\n",
       "                var nbb_unformatted_code = \"covered_orf_target_df = pd.read_csv(\\n    \\\"/home/paysan_d/Desktop/covered_orf_targets.csv\\\", index_col=0\\n)\\ncovered_orf_target_df.loc[\\n    set(covered_orf_target_df.index).intersection(cell_cycle_genes),\\n    \\\"reactome_cell_cyle\\\",\\n] = 1\\ncovered_orf_target_df.loc[\\n    set(covered_orf_target_df.index).intersection(reg_actin_cytoskeleton_genes),\\n    \\\"kegg_cytoskeleton\\\",\\n] = 1\\ncovered_orf_target_df.loc[\\n    set(covered_orf_target_df.index).intersection(chrom_org_genes), \\\"reactome_chrom_org\\\"\\n] = 1\\ncovered_orf_target_df.loc[\\n    set(covered_orf_target_df.index).intersection(dna_repair_genes),\\n    \\\"reactome_dna_repair\\\",\\n]\\ncovered_orf_target_df.loc[\\n    set(covered_orf_target_df.index).intersection(human_tfs), \\\"transcription_factor\\\"\\n] = 1\\ncovered_orf_target_df.to_csv(\\\"../../../data/other/covered_orf_target_analyses.csv\\\")\";\n",
       "                var nbb_formatted_code = \"covered_orf_target_df = pd.read_csv(\\n    \\\"/home/paysan_d/Desktop/covered_orf_targets.csv\\\", index_col=0\\n)\\ncovered_orf_target_df.loc[\\n    set(covered_orf_target_df.index).intersection(cell_cycle_genes),\\n    \\\"reactome_cell_cyle\\\",\\n] = 1\\ncovered_orf_target_df.loc[\\n    set(covered_orf_target_df.index).intersection(reg_actin_cytoskeleton_genes),\\n    \\\"kegg_cytoskeleton\\\",\\n] = 1\\ncovered_orf_target_df.loc[\\n    set(covered_orf_target_df.index).intersection(chrom_org_genes), \\\"reactome_chrom_org\\\"\\n] = 1\\ncovered_orf_target_df.loc[\\n    set(covered_orf_target_df.index).intersection(dna_repair_genes),\\n    \\\"reactome_dna_repair\\\",\\n]\\ncovered_orf_target_df.loc[\\n    set(covered_orf_target_df.index).intersection(human_tfs), \\\"transcription_factor\\\"\\n] = 1\\ncovered_orf_target_df.to_csv(\\\"../../../data/other/covered_orf_target_analyses.csv\\\")\";\n",
       "                var nbb_cells = Jupyter.notebook.get_cells();\n",
       "                for (var i = 0; i < nbb_cells.length; ++i) {\n",
       "                    if (nbb_cells[i].input_prompt_number == nbb_cell_id) {\n",
       "                        if (nbb_cells[i].get_text() == nbb_unformatted_code) {\n",
       "                             nbb_cells[i].set_text(nbb_formatted_code);\n",
       "                        }\n",
       "                        break;\n",
       "                    }\n",
       "                }\n",
       "            }, 500);\n",
       "            "
      ],
      "text/plain": [
       "<IPython.core.display.Javascript object>"
      ]
     },
     "metadata": {},
     "output_type": "display_data"
    }
   ],
   "source": [
    "covered_orf_target_df = pd.read_csv(\n",
    "    \"/home/paysan_d/Desktop/covered_orf_targets.csv\", index_col=0\n",
    ")\n",
    "covered_orf_target_df.loc[\n",
    "    set(covered_orf_target_df.index).intersection(cell_cycle_genes),\n",
    "    \"reactome_cell_cyle\",\n",
    "] = 1\n",
    "covered_orf_target_df.loc[\n",
    "    set(covered_orf_target_df.index).intersection(reg_actin_cytoskeleton_genes),\n",
    "    \"kegg_cytoskeleton\",\n",
    "] = 1\n",
    "covered_orf_target_df.loc[\n",
    "    set(covered_orf_target_df.index).intersection(chrom_org_genes), \"reactome_chrom_org\"\n",
    "] = 1\n",
    "covered_orf_target_df.loc[\n",
    "    set(covered_orf_target_df.index).intersection(dna_repair_genes),\n",
    "    \"reactome_dna_repair\",\n",
    "]\n",
    "covered_orf_target_df.loc[\n",
    "    set(covered_orf_target_df.index).intersection(human_tfs), \"transcription_factor\"\n",
    "] = 1\n",
    "covered_orf_target_df.to_csv(\"../../../data/other/covered_orf_target_analyses.csv\")"
   ]
  },
  {
   "cell_type": "markdown",
   "id": "ef06f6f3",
   "metadata": {},
   "source": [
    "The pruned PPI consists of 28 connected components: one large component connecting 10'841 nodes, 5 tripplets and and 22 doublets. Importantly, all 185 ORF targets are covered in the largest connected component."
   ]
  },
  {
   "cell_type": "code",
   "execution_count": 63,
   "id": "29660067",
   "metadata": {},
   "outputs": [
    {
     "data": {
      "image/png": "[encoded data removed]",
      "text/plain": [
       "<Figure size 576x576 with 1 Axes>"
      ]
     },
     "metadata": {},
     "output_type": "display_data"
    },
    {
     "data": {
      "application/javascript": [
       "\n",
       "            setTimeout(function() {\n",
       "                var nbb_cell_id = 63;\n",
       "                var nbb_unformatted_code = \"ccomps = [pruned_ppi.subgraph(c).copy() for c in nx.connected_components(pruned_ppi)]\\nlargest_ccomp = ccomps[0]\\nax = venn.venn(\\n    dict(\\n        zip(\\n            [\\\"ORF targets\\\", \\\"Largest connected component\\\", \\\"TFs\\\"],\\n            [orf_targets, set(largest_ccomp.nodes()), human_tfs],\\n        )\\n    ),\\n    legend_loc=\\\"upper center\\\",\\n)\";\n",
       "                var nbb_formatted_code = \"ccomps = [pruned_ppi.subgraph(c).copy() for c in nx.connected_components(pruned_ppi)]\\nlargest_ccomp = ccomps[0]\\nax = venn.venn(\\n    dict(\\n        zip(\\n            [\\\"ORF targets\\\", \\\"Largest connected component\\\", \\\"TFs\\\"],\\n            [orf_targets, set(largest_ccomp.nodes()), human_tfs],\\n        )\\n    ),\\n    legend_loc=\\\"upper center\\\",\\n)\";\n",
       "                var nbb_cells = Jupyter.notebook.get_cells();\n",
       "                for (var i = 0; i < nbb_cells.length; ++i) {\n",
       "                    if (nbb_cells[i].input_prompt_number == nbb_cell_id) {\n",
       "                        if (nbb_cells[i].get_text() == nbb_unformatted_code) {\n",
       "                             nbb_cells[i].set_text(nbb_formatted_code);\n",
       "                        }\n",
       "                        break;\n",
       "                    }\n",
       "                }\n",
       "            }, 500);\n",
       "            "
      ],
      "text/plain": [
       "<IPython.core.display.Javascript object>"
      ]
     },
     "metadata": {},
     "output_type": "display_data"
    }
   ],
   "source": [
    "ccomps = [pruned_ppi.subgraph(c).copy() for c in nx.connected_components(pruned_ppi)]\n",
    "largest_ccomp = ccomps[0]\n",
    "ax = venn.venn(\n",
    "    dict(\n",
    "        zip(\n",
    "            [\"ORF targets\", \"Largest connected component\", \"TFs\"],\n",
    "            [orf_targets, set(largest_ccomp.nodes()), human_tfs],\n",
    "        )\n",
    "    ),\n",
    "    legend_loc=\"upper center\",\n",
    ")"
   ]
  },
  {
   "cell_type": "markdown",
   "id": "5dc75fe5",
   "metadata": {},
   "source": [
    "In the following we will only work with that component."
   ]
  },
  {
   "cell_type": "code",
   "execution_count": 64,
   "id": "91a26ad3",
   "metadata": {},
   "outputs": [
    {
     "data": {
      "application/javascript": [
       "\n",
       "            setTimeout(function() {\n",
       "                var nbb_cell_id = 64;\n",
       "                var nbb_unformatted_code = \"pruned_ppi = largest_ccomp\";\n",
       "                var nbb_formatted_code = \"pruned_ppi = largest_ccomp\";\n",
       "                var nbb_cells = Jupyter.notebook.get_cells();\n",
       "                for (var i = 0; i < nbb_cells.length; ++i) {\n",
       "                    if (nbb_cells[i].input_prompt_number == nbb_cell_id) {\n",
       "                        if (nbb_cells[i].get_text() == nbb_unformatted_code) {\n",
       "                             nbb_cells[i].set_text(nbb_formatted_code);\n",
       "                        }\n",
       "                        break;\n",
       "                    }\n",
       "                }\n",
       "            }, 500);\n",
       "            "
      ],
      "text/plain": [
       "<IPython.core.display.Javascript object>"
      ]
     },
     "metadata": {},
     "output_type": "display_data"
    }
   ],
   "source": [
    "pruned_ppi = largest_ccomp"
   ]
  },
  {
   "cell_type": "markdown",
   "id": "e6a0592a",
   "metadata": {},
   "source": [
    "As intermediate step let us save the induced subgraph that we refer to as the confidence pruned PPI."
   ]
  },
  {
   "cell_type": "code",
   "execution_count": 65,
   "id": "e41a9637",
   "metadata": {},
   "outputs": [
    {
     "data": {
      "application/javascript": [
       "\n",
       "            setTimeout(function() {\n",
       "                var nbb_cell_id = 65;\n",
       "                var nbb_unformatted_code = \"pd.DataFrame(list(set(pruned_ppi).intersection(fucci_gene_set))).to_csv(\\n    \\\"../../../data/ppi/selected_ppi_nodes.csv\\\", header=False, index=False\\n)\";\n",
       "                var nbb_formatted_code = \"pd.DataFrame(list(set(pruned_ppi).intersection(fucci_gene_set))).to_csv(\\n    \\\"../../../data/ppi/selected_ppi_nodes.csv\\\", header=False, index=False\\n)\";\n",
       "                var nbb_cells = Jupyter.notebook.get_cells();\n",
       "                for (var i = 0; i < nbb_cells.length; ++i) {\n",
       "                    if (nbb_cells[i].input_prompt_number == nbb_cell_id) {\n",
       "                        if (nbb_cells[i].get_text() == nbb_unformatted_code) {\n",
       "                             nbb_cells[i].set_text(nbb_formatted_code);\n",
       "                        }\n",
       "                        break;\n",
       "                    }\n",
       "                }\n",
       "            }, 500);\n",
       "            "
      ],
      "text/plain": [
       "<IPython.core.display.Javascript object>"
      ]
     },
     "metadata": {},
     "output_type": "display_data"
    }
   ],
   "source": [
    "pd.DataFrame(list(set(pruned_ppi).intersection(fucci_gene_set))).to_csv(\n",
    "    \"../../../data/ppi/selected_ppi_nodes.csv\", header=False, index=False\n",
    ")"
   ]
  },
  {
   "cell_type": "markdown",
   "id": "d15004d0",
   "metadata": {},
   "source": [
    "Next, we will further analyze the network and aim to reduce its connectivity by excluding large hub-nodes that are of less interest for our further analyses and might disguise important indirect links between certain targets.\n",
    "Thus, let us look at the distribution of the degrees of the nodes in the network."
   ]
  },
  {
   "cell_type": "code",
   "execution_count": 66,
   "id": "e7bf58b3",
   "metadata": {},
   "outputs": [
    {
     "data": {
      "image/png": "[encoded data removed]",
      "text/plain": [
       "<Figure size 432x288 with 1 Axes>"
      ]
     },
     "metadata": {
      "needs_background": "light"
     },
     "output_type": "display_data"
    },
    {
     "data": {
      "application/javascript": [
       "\n",
       "            setTimeout(function() {\n",
       "                var nbb_cell_id = 66;\n",
       "                var nbb_unformatted_code = \"degree_freq = nx.degree_histogram(pruned_ppi)\\ndegrees = range(len(degree_freq))\\nplt.loglog(degrees, degree_freq)\\nplt.xlabel(\\\"Degree\\\")\\nplt.ylabel(\\\"Frequency\\\")\\nplt.title(\\\"Log-log plot of the degree distribution\\\")\\nplt.show()\";\n",
       "                var nbb_formatted_code = \"degree_freq = nx.degree_histogram(pruned_ppi)\\ndegrees = range(len(degree_freq))\\nplt.loglog(degrees, degree_freq)\\nplt.xlabel(\\\"Degree\\\")\\nplt.ylabel(\\\"Frequency\\\")\\nplt.title(\\\"Log-log plot of the degree distribution\\\")\\nplt.show()\";\n",
       "                var nbb_cells = Jupyter.notebook.get_cells();\n",
       "                for (var i = 0; i < nbb_cells.length; ++i) {\n",
       "                    if (nbb_cells[i].input_prompt_number == nbb_cell_id) {\n",
       "                        if (nbb_cells[i].get_text() == nbb_unformatted_code) {\n",
       "                             nbb_cells[i].set_text(nbb_formatted_code);\n",
       "                        }\n",
       "                        break;\n",
       "                    }\n",
       "                }\n",
       "            }, 500);\n",
       "            "
      ],
      "text/plain": [
       "<IPython.core.display.Javascript object>"
      ]
     },
     "metadata": {},
     "output_type": "display_data"
    }
   ],
   "source": [
    "degree_freq = nx.degree_histogram(pruned_ppi)\n",
    "degrees = range(len(degree_freq))\n",
    "plt.loglog(degrees, degree_freq)\n",
    "plt.xlabel(\"Degree\")\n",
    "plt.ylabel(\"Frequency\")\n",
    "plt.title(\"Log-log plot of the degree distribution\")\n",
    "plt.show()"
   ]
  },
  {
   "cell_type": "markdown",
   "id": "d9bb84b5",
   "metadata": {},
   "source": [
    "We see that there are a few nodes with extreme high degrees. In order to avoid a bias for those nodes in the downstream task of inferring the U2OS specific interactome, we will remove some of such hub nodes from the interactome. This is further motivated by the fact that we would like to emphasize the differences between individual pathways in which our observed ORF targets are included."
   ]
  },
  {
   "cell_type": "code",
   "execution_count": 67,
   "id": "b77b19fd",
   "metadata": {},
   "outputs": [
    {
     "data": {
      "application/javascript": [
       "\n",
       "            setTimeout(function() {\n",
       "                var nbb_cell_id = 67;\n",
       "                var nbb_unformatted_code = \"degrees_dict = dict(pruned_ppi.degree())\\ndegrees_dict = {\\n    k: v\\n    for k, v in sorted(degrees_dict.items(), key=lambda item: item[1], reverse=True)\\n}\\nnodes = np.array(list(degrees_dict.keys()))\\ndegrees = np.array(list(degrees_dict.values()))\";\n",
       "                var nbb_formatted_code = \"degrees_dict = dict(pruned_ppi.degree())\\ndegrees_dict = {\\n    k: v\\n    for k, v in sorted(degrees_dict.items(), key=lambda item: item[1], reverse=True)\\n}\\nnodes = np.array(list(degrees_dict.keys()))\\ndegrees = np.array(list(degrees_dict.values()))\";\n",
       "                var nbb_cells = Jupyter.notebook.get_cells();\n",
       "                for (var i = 0; i < nbb_cells.length; ++i) {\n",
       "                    if (nbb_cells[i].input_prompt_number == nbb_cell_id) {\n",
       "                        if (nbb_cells[i].get_text() == nbb_unformatted_code) {\n",
       "                             nbb_cells[i].set_text(nbb_formatted_code);\n",
       "                        }\n",
       "                        break;\n",
       "                    }\n",
       "                }\n",
       "            }, 500);\n",
       "            "
      ],
      "text/plain": [
       "<IPython.core.display.Javascript object>"
      ]
     },
     "metadata": {},
     "output_type": "display_data"
    }
   ],
   "source": [
    "degrees_dict = dict(pruned_ppi.degree())\n",
    "degrees_dict = {\n",
    "    k: v\n",
    "    for k, v in sorted(degrees_dict.items(), key=lambda item: item[1], reverse=True)\n",
    "}\n",
    "nodes = np.array(list(degrees_dict.keys()))\n",
    "degrees = np.array(list(degrees_dict.values()))"
   ]
  },
  {
   "cell_type": "markdown",
   "id": "519b30a1",
   "metadata": {},
   "source": [
    "To determine an appropriate cutoff of for degree of the nodes to identify those hubnodes that we do not want to take into further consideration, we look at the number of ORF targets that are included in the selected gene set, when using different percentile-cutoffs for the node degree."
   ]
  },
  {
   "cell_type": "code",
   "execution_count": 68,
   "id": "157c54f5",
   "metadata": {},
   "outputs": [
    {
     "data": {
      "application/javascript": [
       "\n",
       "            setTimeout(function() {\n",
       "                var nbb_cell_id = 68;\n",
       "                var nbb_unformatted_code = \"def run_hub_node_cutoff_analyses(ppi, cutoffs, targets, keep_targets=True, specific_targets=None):\\n    degree_dict = dict(ppi.degree())\\n    nodes = np.array(list(degree_dict.keys()))\\n    degrees = np.array(list(degree_dict.values()))\\n\\n    results = {\\n        \\\"cutoff\\\": [],\\n        \\\"n_connected_components\\\": [],\\n        \\\"n_nodes_largest_comp\\\": [],\\n        \\\"n_targets_largest_comp\\\": [],\\n        \\\"n_edges_largest_comp\\\": [],\\n        \\\"avg_degree_largest_comp\\\": [],\\n    }\\n    if specific_targets is not None:\\n        results[\\\"specific_targets\\\"] = []\\n    for cutoff in tqdm(cutoffs, desc=\\\"Screen cutoffs\\\"):\\n        results[\\\"cutoff\\\"].append(cutoff)\\n        selected_nodes = set(list(nodes[degrees <= np.quantile(degrees, cutoff)]))\\n        if keep_targets:\\n            selected_nodes = selected_nodes.union(\\n                targets.intersection(set(list(nodes)))\\n            )\\n        s_ppi = ppi.subgraph(selected_nodes)\\n        ccomps = [s_ppi.subgraph(c).copy() for c in nx.connected_components(s_ppi)]\\n        largest_comp = max(ccomps, key=len)\\n        results[\\\"n_connected_components\\\"].append(len(ccomps))\\n        results[\\\"n_nodes_largest_comp\\\"].append(len(largest_comp.nodes()))\\n        results[\\\"n_edges_largest_comp\\\"].append(len(largest_comp.edges()))\\n        results[\\\"avg_degree_largest_comp\\\"].append(\\n            np.mean(list(dict(largest_comp.degree()).values()))\\n        )\\n        results[\\\"n_targets_largest_comp\\\"].append(\\n            len(targets.intersection(largest_comp.nodes()))\\n        )\\n        if specific_targets is not None:\\n            results[\\\"specific_targets\\\"].append(len(specific.targets.intersection(largest_comp.nodes())))\\n    return pd.DataFrame(results)\";\n",
       "                var nbb_formatted_code = \"def run_hub_node_cutoff_analyses(\\n    ppi, cutoffs, targets, keep_targets=True, specific_targets=None\\n):\\n    degree_dict = dict(ppi.degree())\\n    nodes = np.array(list(degree_dict.keys()))\\n    degrees = np.array(list(degree_dict.values()))\\n\\n    results = {\\n        \\\"cutoff\\\": [],\\n        \\\"n_connected_components\\\": [],\\n        \\\"n_nodes_largest_comp\\\": [],\\n        \\\"n_targets_largest_comp\\\": [],\\n        \\\"n_edges_largest_comp\\\": [],\\n        \\\"avg_degree_largest_comp\\\": [],\\n    }\\n    if specific_targets is not None:\\n        results[\\\"specific_targets\\\"] = []\\n    for cutoff in tqdm(cutoffs, desc=\\\"Screen cutoffs\\\"):\\n        results[\\\"cutoff\\\"].append(cutoff)\\n        selected_nodes = set(list(nodes[degrees <= np.quantile(degrees, cutoff)]))\\n        if keep_targets:\\n            selected_nodes = selected_nodes.union(\\n                targets.intersection(set(list(nodes)))\\n            )\\n        s_ppi = ppi.subgraph(selected_nodes)\\n        ccomps = [s_ppi.subgraph(c).copy() for c in nx.connected_components(s_ppi)]\\n        largest_comp = max(ccomps, key=len)\\n        results[\\\"n_connected_components\\\"].append(len(ccomps))\\n        results[\\\"n_nodes_largest_comp\\\"].append(len(largest_comp.nodes()))\\n        results[\\\"n_edges_largest_comp\\\"].append(len(largest_comp.edges()))\\n        results[\\\"avg_degree_largest_comp\\\"].append(\\n            np.mean(list(dict(largest_comp.degree()).values()))\\n        )\\n        results[\\\"n_targets_largest_comp\\\"].append(\\n            len(targets.intersection(largest_comp.nodes()))\\n        )\\n        if specific_targets is not None:\\n            results[\\\"specific_targets\\\"].append(\\n                len(specific.targets.intersection(largest_comp.nodes()))\\n            )\\n    return pd.DataFrame(results)\";\n",
       "                var nbb_cells = Jupyter.notebook.get_cells();\n",
       "                for (var i = 0; i < nbb_cells.length; ++i) {\n",
       "                    if (nbb_cells[i].input_prompt_number == nbb_cell_id) {\n",
       "                        if (nbb_cells[i].get_text() == nbb_unformatted_code) {\n",
       "                             nbb_cells[i].set_text(nbb_formatted_code);\n",
       "                        }\n",
       "                        break;\n",
       "                    }\n",
       "                }\n",
       "            }, 500);\n",
       "            "
      ],
      "text/plain": [
       "<IPython.core.display.Javascript object>"
      ]
     },
     "metadata": {},
     "output_type": "display_data"
    }
   ],
   "source": [
    "def run_hub_node_cutoff_analyses(\n",
    "    ppi, cutoffs, targets, keep_targets=True, specific_targets=None\n",
    "):\n",
    "    degree_dict = dict(ppi.degree())\n",
    "    nodes = np.array(list(degree_dict.keys()))\n",
    "    degrees = np.array(list(degree_dict.values()))\n",
    "\n",
    "    results = {\n",
    "        \"cutoff\": [],\n",
    "        \"n_connected_components\": [],\n",
    "        \"n_nodes_largest_comp\": [],\n",
    "        \"n_targets_largest_comp\": [],\n",
    "        \"n_edges_largest_comp\": [],\n",
    "        \"avg_degree_largest_comp\": [],\n",
    "    }\n",
    "    if specific_targets is not None:\n",
    "        results[\"specific_targets\"] = []\n",
    "    for cutoff in tqdm(cutoffs, desc=\"Screen cutoffs\"):\n",
    "        results[\"cutoff\"].append(cutoff)\n",
    "        selected_nodes = set(list(nodes[degrees <= np.quantile(degrees, cutoff)]))\n",
    "        if keep_targets:\n",
    "            selected_nodes = selected_nodes.union(\n",
    "                targets.intersection(set(list(nodes)))\n",
    "            )\n",
    "        s_ppi = ppi.subgraph(selected_nodes)\n",
    "        ccomps = [s_ppi.subgraph(c).copy() for c in nx.connected_components(s_ppi)]\n",
    "        largest_comp = max(ccomps, key=len)\n",
    "        results[\"n_connected_components\"].append(len(ccomps))\n",
    "        results[\"n_nodes_largest_comp\"].append(len(largest_comp.nodes()))\n",
    "        results[\"n_edges_largest_comp\"].append(len(largest_comp.edges()))\n",
    "        results[\"avg_degree_largest_comp\"].append(\n",
    "            np.mean(list(dict(largest_comp.degree()).values()))\n",
    "        )\n",
    "        results[\"n_targets_largest_comp\"].append(\n",
    "            len(targets.intersection(largest_comp.nodes()))\n",
    "        )\n",
    "        if specific_targets is not None:\n",
    "            results[\"specific_targets\"].append(\n",
    "                len(specific.targets.intersection(largest_comp.nodes()))\n",
    "            )\n",
    "    return pd.DataFrame(results)"
   ]
  },
  {
   "cell_type": "code",
   "execution_count": 69,
   "id": "b76a759f",
   "metadata": {},
   "outputs": [
    {
     "name": "stderr",
     "output_type": "stream",
     "text": [
      "Screen cutoffs: 100%|██████████| 1000/1000 [02:54<00:00,  5.72it/s]\n"
     ]
    },
    {
     "data": {
      "application/javascript": [
       "\n",
       "            setTimeout(function() {\n",
       "                var nbb_cell_id = 69;\n",
       "                var nbb_unformatted_code = \"cutoffs = np.arange(0, 1, 0.001)\\nhub_node_cutoff_screen = run_hub_node_cutoff_analyses(\\n    pruned_ppi, cutoffs=cutoffs, targets=orf_targets, keep_targets=False\\n)\";\n",
       "                var nbb_formatted_code = \"cutoffs = np.arange(0, 1, 0.001)\\nhub_node_cutoff_screen = run_hub_node_cutoff_analyses(\\n    pruned_ppi, cutoffs=cutoffs, targets=orf_targets, keep_targets=False\\n)\";\n",
       "                var nbb_cells = Jupyter.notebook.get_cells();\n",
       "                for (var i = 0; i < nbb_cells.length; ++i) {\n",
       "                    if (nbb_cells[i].input_prompt_number == nbb_cell_id) {\n",
       "                        if (nbb_cells[i].get_text() == nbb_unformatted_code) {\n",
       "                             nbb_cells[i].set_text(nbb_formatted_code);\n",
       "                        }\n",
       "                        break;\n",
       "                    }\n",
       "                }\n",
       "            }, 500);\n",
       "            "
      ],
      "text/plain": [
       "<IPython.core.display.Javascript object>"
      ]
     },
     "metadata": {},
     "output_type": "display_data"
    }
   ],
   "source": [
    "cutoffs = np.arange(0, 1, 0.001)\n",
    "hub_node_cutoff_screen = run_hub_node_cutoff_analyses(\n",
    "    pruned_ppi, cutoffs=cutoffs, targets=orf_targets, keep_targets=False\n",
    ")"
   ]
  },
  {
   "cell_type": "code",
   "execution_count": 70,
   "id": "583719cc",
   "metadata": {
    "scrolled": false
   },
   "outputs": [
    {
     "data": {
      "text/html": [
       "<div>\n",
       "<style scoped>\n",
       "    .dataframe tbody tr th:only-of-type {\n",
       "        vertical-align: middle;\n",
       "    }\n",
       "\n",
       "    .dataframe tbody tr th {\n",
       "        vertical-align: top;\n",
       "    }\n",
       "\n",
       "    .dataframe thead th {\n",
       "        text-align: right;\n",
       "    }\n",
       "</style>\n",
       "<table border=\"1\" class=\"dataframe\">\n",
       "  <thead>\n",
       "    <tr style=\"text-align: right;\">\n",
       "      <th></th>\n",
       "      <th>cutoff</th>\n",
       "      <th>n_connected_components</th>\n",
       "      <th>n_nodes_largest_comp</th>\n",
       "      <th>n_targets_largest_comp</th>\n",
       "      <th>n_edges_largest_comp</th>\n",
       "      <th>avg_degree_largest_comp</th>\n",
       "    </tr>\n",
       "  </thead>\n",
       "  <tbody>\n",
       "    <tr>\n",
       "      <th>0</th>\n",
       "      <td>0.000</td>\n",
       "      <td>2615</td>\n",
       "      <td>1</td>\n",
       "      <td>0</td>\n",
       "      <td>0</td>\n",
       "      <td>0.000000</td>\n",
       "    </tr>\n",
       "    <tr>\n",
       "      <th>1</th>\n",
       "      <td>0.001</td>\n",
       "      <td>2615</td>\n",
       "      <td>1</td>\n",
       "      <td>0</td>\n",
       "      <td>0</td>\n",
       "      <td>0.000000</td>\n",
       "    </tr>\n",
       "    <tr>\n",
       "      <th>2</th>\n",
       "      <td>0.002</td>\n",
       "      <td>2615</td>\n",
       "      <td>1</td>\n",
       "      <td>0</td>\n",
       "      <td>0</td>\n",
       "      <td>0.000000</td>\n",
       "    </tr>\n",
       "    <tr>\n",
       "      <th>3</th>\n",
       "      <td>0.003</td>\n",
       "      <td>2615</td>\n",
       "      <td>1</td>\n",
       "      <td>0</td>\n",
       "      <td>0</td>\n",
       "      <td>0.000000</td>\n",
       "    </tr>\n",
       "    <tr>\n",
       "      <th>4</th>\n",
       "      <td>0.004</td>\n",
       "      <td>2615</td>\n",
       "      <td>1</td>\n",
       "      <td>0</td>\n",
       "      <td>0</td>\n",
       "      <td>0.000000</td>\n",
       "    </tr>\n",
       "    <tr>\n",
       "      <th>...</th>\n",
       "      <td>...</td>\n",
       "      <td>...</td>\n",
       "      <td>...</td>\n",
       "      <td>...</td>\n",
       "      <td>...</td>\n",
       "      <td>...</td>\n",
       "    </tr>\n",
       "    <tr>\n",
       "      <th>995</th>\n",
       "      <td>0.995</td>\n",
       "      <td>2059</td>\n",
       "      <td>8689</td>\n",
       "      <td>167</td>\n",
       "      <td>36777</td>\n",
       "      <td>8.465186</td>\n",
       "    </tr>\n",
       "    <tr>\n",
       "      <th>996</th>\n",
       "      <td>0.996</td>\n",
       "      <td>2000</td>\n",
       "      <td>8761</td>\n",
       "      <td>173</td>\n",
       "      <td>38141</td>\n",
       "      <td>8.706997</td>\n",
       "    </tr>\n",
       "    <tr>\n",
       "      <th>997</th>\n",
       "      <td>0.997</td>\n",
       "      <td>1912</td>\n",
       "      <td>8862</td>\n",
       "      <td>176</td>\n",
       "      <td>39675</td>\n",
       "      <td>8.953961</td>\n",
       "    </tr>\n",
       "    <tr>\n",
       "      <th>998</th>\n",
       "      <td>0.998</td>\n",
       "      <td>1803</td>\n",
       "      <td>8986</td>\n",
       "      <td>181</td>\n",
       "      <td>41422</td>\n",
       "      <td>9.219230</td>\n",
       "    </tr>\n",
       "    <tr>\n",
       "      <th>999</th>\n",
       "      <td>0.999</td>\n",
       "      <td>1703</td>\n",
       "      <td>9103</td>\n",
       "      <td>183</td>\n",
       "      <td>43563</td>\n",
       "      <td>9.571130</td>\n",
       "    </tr>\n",
       "  </tbody>\n",
       "</table>\n",
       "<p>1000 rows × 6 columns</p>\n",
       "</div>"
      ],
      "text/plain": [
       "     cutoff  n_connected_components  n_nodes_largest_comp  \\\n",
       "0     0.000                    2615                     1   \n",
       "1     0.001                    2615                     1   \n",
       "2     0.002                    2615                     1   \n",
       "3     0.003                    2615                     1   \n",
       "4     0.004                    2615                     1   \n",
       "..      ...                     ...                   ...   \n",
       "995   0.995                    2059                  8689   \n",
       "996   0.996                    2000                  8761   \n",
       "997   0.997                    1912                  8862   \n",
       "998   0.998                    1803                  8986   \n",
       "999   0.999                    1703                  9103   \n",
       "\n",
       "     n_targets_largest_comp  n_edges_largest_comp  avg_degree_largest_comp  \n",
       "0                         0                     0                 0.000000  \n",
       "1                         0                     0                 0.000000  \n",
       "2                         0                     0                 0.000000  \n",
       "3                         0                     0                 0.000000  \n",
       "4                         0                     0                 0.000000  \n",
       "..                      ...                   ...                      ...  \n",
       "995                     167                 36777                 8.465186  \n",
       "996                     173                 38141                 8.706997  \n",
       "997                     176                 39675                 8.953961  \n",
       "998                     181                 41422                 9.219230  \n",
       "999                     183                 43563                 9.571130  \n",
       "\n",
       "[1000 rows x 6 columns]"
      ]
     },
     "execution_count": 70,
     "metadata": {},
     "output_type": "execute_result"
    },
    {
     "data": {
      "application/javascript": [
       "\n",
       "            setTimeout(function() {\n",
       "                var nbb_cell_id = 70;\n",
       "                var nbb_unformatted_code = \"hub_node_cutoff_screen\";\n",
       "                var nbb_formatted_code = \"hub_node_cutoff_screen\";\n",
       "                var nbb_cells = Jupyter.notebook.get_cells();\n",
       "                for (var i = 0; i < nbb_cells.length; ++i) {\n",
       "                    if (nbb_cells[i].input_prompt_number == nbb_cell_id) {\n",
       "                        if (nbb_cells[i].get_text() == nbb_unformatted_code) {\n",
       "                             nbb_cells[i].set_text(nbb_formatted_code);\n",
       "                        }\n",
       "                        break;\n",
       "                    }\n",
       "                }\n",
       "            }, 500);\n",
       "            "
      ],
      "text/plain": [
       "<IPython.core.display.Javascript object>"
      ]
     },
     "metadata": {},
     "output_type": "display_data"
    }
   ],
   "source": [
    "hub_node_cutoff_screen"
   ]
  },
  {
   "cell_type": "code",
   "execution_count": 71,
   "id": "3d901a22",
   "metadata": {},
   "outputs": [
    {
     "data": {
      "image/png": "[encoded data removed]",
      "text/plain": [
       "<Figure size 432x288 with 1 Axes>"
      ]
     },
     "metadata": {
      "needs_background": "light"
     },
     "output_type": "display_data"
    },
    {
     "data": {
      "application/javascript": [
       "\n",
       "            setTimeout(function() {\n",
       "                var nbb_cell_id = 71;\n",
       "                var nbb_unformatted_code = \"fig, ax = plt.subplots(figsize=[6, 4])\\nax = sns.lineplot(\\n    data=hub_node_cutoff_screen, x=\\\"cutoff\\\", y=\\\"n_connected_components\\\", ax=ax\\n)\\nplt.title(\\\"Number of connected components\\\")\\nplt.show()\";\n",
       "                var nbb_formatted_code = \"fig, ax = plt.subplots(figsize=[6, 4])\\nax = sns.lineplot(\\n    data=hub_node_cutoff_screen, x=\\\"cutoff\\\", y=\\\"n_connected_components\\\", ax=ax\\n)\\nplt.title(\\\"Number of connected components\\\")\\nplt.show()\";\n",
       "                var nbb_cells = Jupyter.notebook.get_cells();\n",
       "                for (var i = 0; i < nbb_cells.length; ++i) {\n",
       "                    if (nbb_cells[i].input_prompt_number == nbb_cell_id) {\n",
       "                        if (nbb_cells[i].get_text() == nbb_unformatted_code) {\n",
       "                             nbb_cells[i].set_text(nbb_formatted_code);\n",
       "                        }\n",
       "                        break;\n",
       "                    }\n",
       "                }\n",
       "            }, 500);\n",
       "            "
      ],
      "text/plain": [
       "<IPython.core.display.Javascript object>"
      ]
     },
     "metadata": {},
     "output_type": "display_data"
    }
   ],
   "source": [
    "fig, ax = plt.subplots(figsize=[6, 4])\n",
    "ax = sns.lineplot(\n",
    "    data=hub_node_cutoff_screen, x=\"cutoff\", y=\"n_connected_components\", ax=ax\n",
    ")\n",
    "plt.title(\"Number of connected components\")\n",
    "plt.show()"
   ]
  },
  {
   "cell_type": "code",
   "execution_count": 72,
   "id": "d310a704",
   "metadata": {},
   "outputs": [
    {
     "data": {
      "image/png": "[encoded data removed]",
      "text/plain": [
       "<Figure size 432x288 with 1 Axes>"
      ]
     },
     "metadata": {
      "needs_background": "light"
     },
     "output_type": "display_data"
    },
    {
     "data": {
      "application/javascript": [
       "\n",
       "            setTimeout(function() {\n",
       "                var nbb_cell_id = 72;\n",
       "                var nbb_unformatted_code = \"fig, ax = plt.subplots(figsize=[6, 4])\\nax = sns.lineplot(\\n    data=hub_node_cutoff_screen, x=\\\"cutoff\\\", y=\\\"n_nodes_largest_comp\\\", ax=ax\\n)\\nplt.title(\\\"Number of nodes in largest component\\\")\\nplt.show()\";\n",
       "                var nbb_formatted_code = \"fig, ax = plt.subplots(figsize=[6, 4])\\nax = sns.lineplot(\\n    data=hub_node_cutoff_screen, x=\\\"cutoff\\\", y=\\\"n_nodes_largest_comp\\\", ax=ax\\n)\\nplt.title(\\\"Number of nodes in largest component\\\")\\nplt.show()\";\n",
       "                var nbb_cells = Jupyter.notebook.get_cells();\n",
       "                for (var i = 0; i < nbb_cells.length; ++i) {\n",
       "                    if (nbb_cells[i].input_prompt_number == nbb_cell_id) {\n",
       "                        if (nbb_cells[i].get_text() == nbb_unformatted_code) {\n",
       "                             nbb_cells[i].set_text(nbb_formatted_code);\n",
       "                        }\n",
       "                        break;\n",
       "                    }\n",
       "                }\n",
       "            }, 500);\n",
       "            "
      ],
      "text/plain": [
       "<IPython.core.display.Javascript object>"
      ]
     },
     "metadata": {},
     "output_type": "display_data"
    }
   ],
   "source": [
    "fig, ax = plt.subplots(figsize=[6, 4])\n",
    "ax = sns.lineplot(\n",
    "    data=hub_node_cutoff_screen, x=\"cutoff\", y=\"n_nodes_largest_comp\", ax=ax\n",
    ")\n",
    "plt.title(\"Number of nodes in largest component\")\n",
    "plt.show()"
   ]
  },
  {
   "cell_type": "code",
   "execution_count": 73,
   "id": "77261272",
   "metadata": {},
   "outputs": [
    {
     "data": {
      "image/png": "[encoded data removed]",
      "text/plain": [
       "<Figure size 432x288 with 1 Axes>"
      ]
     },
     "metadata": {
      "needs_background": "light"
     },
     "output_type": "display_data"
    },
    {
     "data": {
      "application/javascript": [
       "\n",
       "            setTimeout(function() {\n",
       "                var nbb_cell_id = 73;\n",
       "                var nbb_unformatted_code = \"fig, ax = plt.subplots(figsize=[6, 4])\\nax = sns.lineplot(\\n    data=hub_node_cutoff_screen, x=\\\"cutoff\\\", y=\\\"n_edges_largest_comp\\\", ax=ax\\n)\\nplt.title(\\\"Number of edges in largest component\\\")\\nplt.show()\";\n",
       "                var nbb_formatted_code = \"fig, ax = plt.subplots(figsize=[6, 4])\\nax = sns.lineplot(\\n    data=hub_node_cutoff_screen, x=\\\"cutoff\\\", y=\\\"n_edges_largest_comp\\\", ax=ax\\n)\\nplt.title(\\\"Number of edges in largest component\\\")\\nplt.show()\";\n",
       "                var nbb_cells = Jupyter.notebook.get_cells();\n",
       "                for (var i = 0; i < nbb_cells.length; ++i) {\n",
       "                    if (nbb_cells[i].input_prompt_number == nbb_cell_id) {\n",
       "                        if (nbb_cells[i].get_text() == nbb_unformatted_code) {\n",
       "                             nbb_cells[i].set_text(nbb_formatted_code);\n",
       "                        }\n",
       "                        break;\n",
       "                    }\n",
       "                }\n",
       "            }, 500);\n",
       "            "
      ],
      "text/plain": [
       "<IPython.core.display.Javascript object>"
      ]
     },
     "metadata": {},
     "output_type": "display_data"
    }
   ],
   "source": [
    "fig, ax = plt.subplots(figsize=[6, 4])\n",
    "ax = sns.lineplot(\n",
    "    data=hub_node_cutoff_screen, x=\"cutoff\", y=\"n_edges_largest_comp\", ax=ax\n",
    ")\n",
    "plt.title(\"Number of edges in largest component\")\n",
    "plt.show()"
   ]
  },
  {
   "cell_type": "code",
   "execution_count": 74,
   "id": "a525b3ab",
   "metadata": {},
   "outputs": [
    {
     "data": {
      "image/png": "[encoded data removed]",
      "text/plain": [
       "<Figure size 432x288 with 1 Axes>"
      ]
     },
     "metadata": {
      "needs_background": "light"
     },
     "output_type": "display_data"
    },
    {
     "data": {
      "application/javascript": [
       "\n",
       "            setTimeout(function() {\n",
       "                var nbb_cell_id = 74;\n",
       "                var nbb_unformatted_code = \"fig, ax = plt.subplots(figsize=[6, 4])\\nax = sns.lineplot(\\n    data=hub_node_cutoff_screen, x=\\\"cutoff\\\", y=\\\"avg_degree_largest_comp\\\", ax=ax\\n)\\nplt.title(\\\"Average degree in largest component\\\")\\nplt.show()\";\n",
       "                var nbb_formatted_code = \"fig, ax = plt.subplots(figsize=[6, 4])\\nax = sns.lineplot(\\n    data=hub_node_cutoff_screen, x=\\\"cutoff\\\", y=\\\"avg_degree_largest_comp\\\", ax=ax\\n)\\nplt.title(\\\"Average degree in largest component\\\")\\nplt.show()\";\n",
       "                var nbb_cells = Jupyter.notebook.get_cells();\n",
       "                for (var i = 0; i < nbb_cells.length; ++i) {\n",
       "                    if (nbb_cells[i].input_prompt_number == nbb_cell_id) {\n",
       "                        if (nbb_cells[i].get_text() == nbb_unformatted_code) {\n",
       "                             nbb_cells[i].set_text(nbb_formatted_code);\n",
       "                        }\n",
       "                        break;\n",
       "                    }\n",
       "                }\n",
       "            }, 500);\n",
       "            "
      ],
      "text/plain": [
       "<IPython.core.display.Javascript object>"
      ]
     },
     "metadata": {},
     "output_type": "display_data"
    }
   ],
   "source": [
    "fig, ax = plt.subplots(figsize=[6, 4])\n",
    "ax = sns.lineplot(\n",
    "    data=hub_node_cutoff_screen, x=\"cutoff\", y=\"avg_degree_largest_comp\", ax=ax\n",
    ")\n",
    "plt.title(\"Average degree in largest component\")\n",
    "plt.show()"
   ]
  },
  {
   "cell_type": "code",
   "execution_count": 75,
   "id": "8b514615",
   "metadata": {},
   "outputs": [
    {
     "data": {
      "image/png": "[encoded data removed]",
      "text/plain": [
       "<Figure size 432x288 with 1 Axes>"
      ]
     },
     "metadata": {
      "needs_background": "light"
     },
     "output_type": "display_data"
    },
    {
     "data": {
      "application/javascript": [
       "\n",
       "            setTimeout(function() {\n",
       "                var nbb_cell_id = 75;\n",
       "                var nbb_unformatted_code = \"fig, ax = plt.subplots(figsize=[6, 4])\\nax = sns.lineplot(\\n    data=hub_node_cutoff_screen, x=\\\"cutoff\\\", y=\\\"n_targets_largest_comp\\\", ax=ax\\n)\\nplt.title(\\\"Number of ORF targets in largest component\\\")\\nplt.show()\";\n",
       "                var nbb_formatted_code = \"fig, ax = plt.subplots(figsize=[6, 4])\\nax = sns.lineplot(\\n    data=hub_node_cutoff_screen, x=\\\"cutoff\\\", y=\\\"n_targets_largest_comp\\\", ax=ax\\n)\\nplt.title(\\\"Number of ORF targets in largest component\\\")\\nplt.show()\";\n",
       "                var nbb_cells = Jupyter.notebook.get_cells();\n",
       "                for (var i = 0; i < nbb_cells.length; ++i) {\n",
       "                    if (nbb_cells[i].input_prompt_number == nbb_cell_id) {\n",
       "                        if (nbb_cells[i].get_text() == nbb_unformatted_code) {\n",
       "                             nbb_cells[i].set_text(nbb_formatted_code);\n",
       "                        }\n",
       "                        break;\n",
       "                    }\n",
       "                }\n",
       "            }, 500);\n",
       "            "
      ],
      "text/plain": [
       "<IPython.core.display.Javascript object>"
      ]
     },
     "metadata": {},
     "output_type": "display_data"
    }
   ],
   "source": [
    "fig, ax = plt.subplots(figsize=[6, 4])\n",
    "ax = sns.lineplot(\n",
    "    data=hub_node_cutoff_screen, x=\"cutoff\", y=\"n_targets_largest_comp\", ax=ax\n",
    ")\n",
    "plt.title(\"Number of ORF targets in largest component\")\n",
    "plt.show()"
   ]
  },
  {
   "cell_type": "code",
   "execution_count": 61,
   "id": "67456dac",
   "metadata": {},
   "outputs": [
    {
     "ename": "NameError",
     "evalue": "name 'orf_target_degrees' is not defined",
     "output_type": "error",
     "traceback": [
      "\u001b[0;31m---------------------------------------------------------------------------\u001b[0m",
      "\u001b[0;31mNameError\u001b[0m                                 Traceback (most recent call last)",
      "\u001b[0;32m<ipython-input-61-a22b2804b3c4>\u001b[0m in \u001b[0;36m<module>\u001b[0;34m\u001b[0m\n\u001b[1;32m      2\u001b[0m \u001b[0mhubnodes\u001b[0m \u001b[0;34m=\u001b[0m \u001b[0mnodes\u001b[0m\u001b[0;34m[\u001b[0m\u001b[0mdegrees\u001b[0m \u001b[0;34m>=\u001b[0m \u001b[0mdegree_cutoff\u001b[0m\u001b[0;34m]\u001b[0m\u001b[0;34m\u001b[0m\u001b[0;34m\u001b[0m\u001b[0m\n\u001b[1;32m      3\u001b[0m \u001b[0mnon_hubnodes\u001b[0m \u001b[0;34m=\u001b[0m \u001b[0mnodes\u001b[0m\u001b[0;34m[\u001b[0m\u001b[0mdegrees\u001b[0m \u001b[0;34m<\u001b[0m \u001b[0mdegree_cutoff\u001b[0m\u001b[0;34m]\u001b[0m\u001b[0;34m\u001b[0m\u001b[0;34m\u001b[0m\u001b[0m\n\u001b[0;32m----> 4\u001b[0;31m \u001b[0mnp\u001b[0m\u001b[0;34m.\u001b[0m\u001b[0msum\u001b[0m\u001b[0;34m(\u001b[0m\u001b[0morf_target_degrees\u001b[0m \u001b[0;34m<=\u001b[0m \u001b[0mdegree_cutoff\u001b[0m\u001b[0;34m)\u001b[0m\u001b[0;34m\u001b[0m\u001b[0;34m\u001b[0m\u001b[0m\n\u001b[0m",
      "\u001b[0;31mNameError\u001b[0m: name 'orf_target_degrees' is not defined"
     ]
    },
    {
     "data": {
      "application/javascript": [
       "\n",
       "            setTimeout(function() {\n",
       "                var nbb_cell_id = 61;\n",
       "                var nbb_unformatted_code = \"degree_cutoff = np.quantile(list(dict(pruned_ppi.degree()).values()), 0.999)\\nhubnodes = nodes[degrees >= degree_cutoff]\\nnon_hubnodes = nodes[degrees < degree_cutoff]\\nnp.sum(orf_target_degrees <= degree_cutoff)\";\n",
       "                var nbb_formatted_code = \"degree_cutoff = np.quantile(list(dict(pruned_ppi.degree()).values()), 0.999)\\nhubnodes = nodes[degrees >= degree_cutoff]\\nnon_hubnodes = nodes[degrees < degree_cutoff]\\nnp.sum(orf_target_degrees <= degree_cutoff)\";\n",
       "                var nbb_cells = Jupyter.notebook.get_cells();\n",
       "                for (var i = 0; i < nbb_cells.length; ++i) {\n",
       "                    if (nbb_cells[i].input_prompt_number == nbb_cell_id) {\n",
       "                        if (nbb_cells[i].get_text() == nbb_unformatted_code) {\n",
       "                             nbb_cells[i].set_text(nbb_formatted_code);\n",
       "                        }\n",
       "                        break;\n",
       "                    }\n",
       "                }\n",
       "            }, 500);\n",
       "            "
      ],
      "text/plain": [
       "<IPython.core.display.Javascript object>"
      ]
     },
     "metadata": {},
     "output_type": "display_data"
    }
   ],
   "source": [
    "degree_cutoff = np.quantile(list(dict(pruned_ppi.degree()).values()), 0.999)\n",
    "hubnodes = nodes[degrees >= degree_cutoff]\n",
    "non_hubnodes = nodes[degrees < degree_cutoff]\n",
    "np.sum(orf_target_degrees <= degree_cutoff)"
   ]
  },
  {
   "cell_type": "markdown",
   "id": "c10fe2d2",
   "metadata": {},
   "source": [
    "We see that there are 72, 162, 184 of the ORF targets selected when we chose 0.9, 0.99 or 0.999 as a cutoff. The nodes in the upper 0.1-percentile of the degree distribution are the following 11 that all have a degree larger than 232."
   ]
  },
  {
   "cell_type": "code",
   "execution_count": null,
   "id": "e81a9740",
   "metadata": {},
   "outputs": [],
   "source": [
    "for n in hubnodes:\n",
    "    print(\"Node:\", n, \"(\", degrees_dict[n], \")\")"
   ]
  },
  {
   "cell_type": "markdown",
   "id": "c037e8cf",
   "metadata": {},
   "source": [
    "Among those genes there is one ORF target namely the tumor protein P53 (TP53)."
   ]
  },
  {
   "cell_type": "markdown",
   "id": "db9dce32",
   "metadata": {},
   "source": [
    "To further guide the selection of an appropriate cutoff we will additionally look at the results of the specificity screen, where we trained a classifier for each ORF target on separating between the treatment and the negative control condition on a balanced data set of pairs of single nuclei and FoV images. The balance was obtained by randomly subsampling samples from the control condition."
   ]
  },
  {
   "cell_type": "markdown",
   "id": "b9a38dcf",
   "metadata": {},
   "source": [
    "The following plot shows the degree of the single ORF targets vs the minimum of the validation and testing accuracy of the results of the specificity screen. The reasoning for not only looking at the testing accuracy is due to reduce the effect of outliers where the distribution of the test set by chance was significantly closer to the training set distribution than those of the validation, i.e. to account for the uncertainty of the testing performance of the model."
   ]
  },
  {
   "cell_type": "code",
   "execution_count": null,
   "id": "5d142077",
   "metadata": {},
   "outputs": [],
   "source": [
    "spec_screen_results = pd.read_csv(\n",
    "    \"../../../data/experiments/image_embeddings/nuclei_screen/screen_results.csv\",\n",
    "    index_col=0,\n",
    ")\n",
    "spec_screen_results.index = spec_screen_results.loc[:, \"target\"]\n",
    "\n",
    "spec_comp_dict = {\"target\": [], \"min_val_test_acc\": [], \"degree\": []}\n",
    "for target in orf_targets.intersection(pruned_ppi.nodes()):\n",
    "    spec_comp_dict[\"target\"].append(target)\n",
    "    spec_comp_dict[\"min_val_test_acc\"].append(\n",
    "        spec_screen_results.loc[target, \"min_val_test_acc\"]\n",
    "    )\n",
    "    spec_comp_dict[\"degree\"].append(degrees_dict[target])\n",
    "spec_comp_df = pd.DataFrame.from_dict(spec_comp_dict)\n",
    "spec_comp_df.index = spec_comp_df.target\n",
    "spec_comp_df = spec_comp_df.drop(columns=[\"target\"])"
   ]
  },
  {
   "cell_type": "code",
   "execution_count": null,
   "id": "9823db26",
   "metadata": {},
   "outputs": [],
   "source": [
    "ax = sns.scatterplot(data=spec_degree_df, x=\"degree\", y=\"min_val_test_acc\", alpha=0.6)\n",
    "plt.title(\"Specificity score vs degree\")\n",
    "plt.show()"
   ]
  },
  {
   "cell_type": "code",
   "execution_count": null,
   "id": "4d7c3528",
   "metadata": {},
   "outputs": [],
   "source": [
    "spec_comp_df.sort_values(\"degree\", ascending=False).head(10)"
   ]
  },
  {
   "cell_type": "code",
   "execution_count": null,
   "id": "c7d72fb8",
   "metadata": {},
   "outputs": [],
   "source": [
    "spec_comp_df[\"abs_logfc_ccle\"] = np.array(\n",
    "    marker_results.loc[spec_comp_df.index, \"abs_log_fc\"]\n",
    ")"
   ]
  },
  {
   "cell_type": "code",
   "execution_count": null,
   "id": "79bcf835",
   "metadata": {},
   "outputs": [],
   "source": [
    "ax = sns.scatterplot(\n",
    "    data=spec_comp_df,\n",
    "    x=\"abs_logfc_ccle\",\n",
    "    y=\"min_val_test_acc\",\n",
    "    color=\"tab:green\",\n",
    "    alpha=0.6,\n",
    ")\n",
    "plt.title(\"Specificity score vs abs logFC CCLE data\")\n",
    "plt.show()"
   ]
  },
  {
   "cell_type": "code",
   "execution_count": null,
   "id": "98f466d4",
   "metadata": {},
   "outputs": [],
   "source": [
    "spec_comp_df.sort_values(\"abs_logfc_ccle\", ascending=False).head(10)"
   ]
  },
  {
   "cell_type": "code",
   "execution_count": null,
   "id": "848e9cda",
   "metadata": {},
   "outputs": [],
   "source": [
    "spec_comp_df[\"PoI\"] = np.array(spec_comp_df.index.isin(poi_genes))"
   ]
  },
  {
   "cell_type": "code",
   "execution_count": null,
   "id": "18146ef5",
   "metadata": {},
   "outputs": [],
   "source": [
    "sns.histplot(data=spec_comp_df, x=\"min_val_test_acc\", hue=\"PoI\")\n",
    "plt.show()"
   ]
  },
  {
   "cell_type": "markdown",
   "id": "012ba6b2",
   "metadata": {},
   "source": [
    "Importantly, the subgraph induced by removing the identified hubnodes from the network remains fully connected."
   ]
  },
  {
   "cell_type": "code",
   "execution_count": 176,
   "id": "b92e3815",
   "metadata": {},
   "outputs": [
    {
     "name": "stdout",
     "output_type": "stream",
     "text": [
      "Name: Confidence and hubnode pruned PPI\n",
      "Type: Graph\n",
      "Number of nodes: 10830\n",
      "Number of edges: 43588\n",
      "Average degree:   8.0495\n"
     ]
    },
    {
     "data": {
      "application/javascript": [
       "\n",
       "            setTimeout(function() {\n",
       "                var nbb_cell_id = 176;\n",
       "                var nbb_unformatted_code = \"selected_ppi = nx.Graph(pruned_ppi.subgraph(non_hubnodes))\\nselected_ppi.name = \\\"Confidence and hubnode pruned PPI\\\"\\nprint(nx.info(selected_ppi))\";\n",
       "                var nbb_formatted_code = \"selected_ppi = nx.Graph(pruned_ppi.subgraph(non_hubnodes))\\nselected_ppi.name = \\\"Confidence and hubnode pruned PPI\\\"\\nprint(nx.info(selected_ppi))\";\n",
       "                var nbb_cells = Jupyter.notebook.get_cells();\n",
       "                for (var i = 0; i < nbb_cells.length; ++i) {\n",
       "                    if (nbb_cells[i].input_prompt_number == nbb_cell_id) {\n",
       "                        if (nbb_cells[i].get_text() == nbb_unformatted_code) {\n",
       "                             nbb_cells[i].set_text(nbb_formatted_code);\n",
       "                        }\n",
       "                        break;\n",
       "                    }\n",
       "                }\n",
       "            }, 500);\n",
       "            "
      ],
      "text/plain": [
       "<IPython.core.display.Javascript object>"
      ]
     },
     "metadata": {},
     "output_type": "display_data"
    }
   ],
   "source": [
    "selected_ppi = nx.Graph(pruned_ppi.subgraph(non_hubnodes))\n",
    "selected_ppi.name = \"Confidence and hubnode pruned PPI\"\n",
    "print(nx.info(selected_ppi))"
   ]
  },
  {
   "cell_type": "code",
   "execution_count": 177,
   "id": "61c57e77",
   "metadata": {},
   "outputs": [
    {
     "name": "stdout",
     "output_type": "stream",
     "text": [
      "Name: Confidence and hubnode pruned PPI\n",
      "Type: Graph\n",
      "Number of nodes: 9103\n",
      "Number of edges: 43563\n",
      "Average degree:   9.5711\n",
      "183\n",
      "{'SMURF2', 'VEGFC', 'RELB', 'IKBKE', 'CASP8', 'PPARGC1A', 'DVL2', 'PTEN', 'CASP9', 'XIAP', 'CCND1', 'MAPK13', 'MAPK7', 'CARD11', 'MAP3K7', 'MAP3K8', 'MAPK3', 'TRAF5', 'PIK3R2', 'NOTCH1', 'ERN1', 'DKK1', 'SOCS3', 'FGFR3', 'SMAD3', 'RELA', 'PRKAA1', 'HIF1AN', 'PIK3CD', 'MYD88', 'TNFAIP3', 'PKIA', 'CRY1', 'RAC1', 'TSC1', 'EGLN1', 'RHEB', 'BMP2', 'SGK3', 'ERBB2', 'CSNK1A1', 'ELK1', 'MAPK14', 'BCL2L11', 'MAP3K11', 'NFKB2', 'RPS6KB1', 'PRKACB', 'ATG5', 'ERG', 'CDK2', 'BRAF', 'JAK2', 'RB1', 'TBK1', 'AKT3', 'WNT5A', 'MAPK8', 'DEPTOR', 'PRKCE', 'RIPK1', 'TRAF6', 'SRC', 'DDIT3', 'PPP2R5C', 'EIF4E', 'SLIRP', 'APC', 'NFKBIE', 'MAPK1', 'ARNTL', 'NFKBIA', 'KRAS', 'PAK1', 'MAP2K3', 'GSK3B', 'VHL', 'TGFB1', 'CDK4', 'MAP2K4', 'PRKCA', 'EIF4EBP1', 'HIF1A', 'CDC42', 'CEBPA', 'REL', 'BTRC', 'BAX', 'NFKB1', 'HSP90B1', 'RPTOR', 'CREBBP', 'MAP3K2', 'ATG16L1', 'DUSP1', 'BRCA1', 'TSC2', 'NFKBIB', 'MAP3K9', 'PRKCZ', 'BECN1', 'TRAF2', 'ATM', 'AKT2', 'MKNK1', 'CDKN1A', 'RAF1', 'WWTR1', 'HRAS', 'TGFBR2', 'MCL1', 'SMAD5', 'ATF6', 'ADAM17', 'IKBKB', 'RICTOR', 'IRS1', 'MAPKAP1', 'DVL1', 'DVL3', 'FURIN', 'NOTCH2', 'MAP3K5', 'PSENEN', 'DIABLO', 'AKT1', 'CCNE1', 'CYLD', 'GRB10', 'CREB1', 'CLOCK', 'ATF4', 'AXIN2', 'IRAK1', 'MAP2K1', 'JUN', 'SMO', 'ATF2', 'PHLPP1', 'HSPA5', 'JAG1', 'CHUK', 'TCF4', 'STAT1', 'TGFBR1', 'IRAK4', 'PIK3CB', 'APAF1', 'GLI1', 'PER1', 'DLL1', 'DDIT4', 'STK3', 'E2F1', 'ARAF', 'EIF2A', 'LRPPRC', 'MAPK9', 'PIK3R1', 'STAT3', 'BCL2L1', 'BMPR1B', 'CTNNB1', 'STK11', 'YAP1', 'BAMBI', 'FOXO1', 'RHOA', 'TRAF3', 'ACVR1B', 'FH', 'MLST8', 'XBP1', 'AKT1S1', 'RBPJ', 'SREBF1', 'HSP90AA1', 'SDHA', 'SMAD4', 'SMAD7', 'PDPK1', 'PRKACA', 'PIK3CA'}\n",
      "Name: Confidence and hubnode pruned PPI\n",
      "Type: Graph\n",
      "Number of nodes: 1\n",
      "Number of edges: 0\n",
      "Average degree:   0.0000\n",
      "1\n",
      "{'CXXC4'}\n"
     ]
    },
    {
     "data": {
      "application/javascript": [
       "\n",
       "            setTimeout(function() {\n",
       "                var nbb_cell_id = 177;\n",
       "                var nbb_unformatted_code = \"ccomps = [\\n    selected_ppi.subgraph(c).copy() for c in nx.connected_components(selected_ppi)\\n]\\nfor comp in ccomps:\\n    if len(orf_targets.intersection(comp.nodes())) > 0:\\n        print(nx.info(comp))\\n        print(len(orf_targets.intersection(comp.nodes())))\\n        print(orf_targets.intersection(comp.nodes()))\";\n",
       "                var nbb_formatted_code = \"ccomps = [\\n    selected_ppi.subgraph(c).copy() for c in nx.connected_components(selected_ppi)\\n]\\nfor comp in ccomps:\\n    if len(orf_targets.intersection(comp.nodes())) > 0:\\n        print(nx.info(comp))\\n        print(len(orf_targets.intersection(comp.nodes())))\\n        print(orf_targets.intersection(comp.nodes()))\";\n",
       "                var nbb_cells = Jupyter.notebook.get_cells();\n",
       "                for (var i = 0; i < nbb_cells.length; ++i) {\n",
       "                    if (nbb_cells[i].input_prompt_number == nbb_cell_id) {\n",
       "                        if (nbb_cells[i].get_text() == nbb_unformatted_code) {\n",
       "                             nbb_cells[i].set_text(nbb_formatted_code);\n",
       "                        }\n",
       "                        break;\n",
       "                    }\n",
       "                }\n",
       "            }, 500);\n",
       "            "
      ],
      "text/plain": [
       "<IPython.core.display.Javascript object>"
      ]
     },
     "metadata": {},
     "output_type": "display_data"
    }
   ],
   "source": [
    "ccomps = [\n",
    "    selected_ppi.subgraph(c).copy() for c in nx.connected_components(selected_ppi)\n",
    "]\n",
    "for comp in ccomps:\n",
    "    if len(orf_targets.intersection(comp.nodes())) > 0:\n",
    "        print(nx.info(comp))\n",
    "        print(len(orf_targets.intersection(comp.nodes())))\n",
    "        print(orf_targets.intersection(comp.nodes()))"
   ]
  },
  {
   "cell_type": "code",
   "execution_count": 178,
   "id": "3311ed42",
   "metadata": {},
   "outputs": [
    {
     "data": {
      "application/javascript": [
       "\n",
       "            setTimeout(function() {\n",
       "                var nbb_cell_id = 178;\n",
       "                var nbb_unformatted_code = \"selected_ppi = ccomps[0]\";\n",
       "                var nbb_formatted_code = \"selected_ppi = ccomps[0]\";\n",
       "                var nbb_cells = Jupyter.notebook.get_cells();\n",
       "                for (var i = 0; i < nbb_cells.length; ++i) {\n",
       "                    if (nbb_cells[i].input_prompt_number == nbb_cell_id) {\n",
       "                        if (nbb_cells[i].get_text() == nbb_unformatted_code) {\n",
       "                             nbb_cells[i].set_text(nbb_formatted_code);\n",
       "                        }\n",
       "                        break;\n",
       "                    }\n",
       "                }\n",
       "            }, 500);\n",
       "            "
      ],
      "text/plain": [
       "<IPython.core.display.Javascript object>"
      ]
     },
     "metadata": {},
     "output_type": "display_data"
    }
   ],
   "source": [
    "selected_ppi = ccomps[0]"
   ]
  },
  {
   "cell_type": "markdown",
   "id": "193db41f",
   "metadata": {},
   "source": [
    "The induced subgraph spans 10'830 nodes including 184/185 ORF targets and is fully connected with an average degree of 8.05 stemming from 43'588 edges."
   ]
  },
  {
   "cell_type": "markdown",
   "id": "6519419d",
   "metadata": {},
   "source": [
    "---\n",
    "\n",
    "## 4. Relationship strength of the between the selected genes"
   ]
  },
  {
   "cell_type": "markdown",
   "id": "e31f2912",
   "metadata": {},
   "source": [
    "In this section we will look at ways to define the edge costs for the Prize-collecting Steiner tree inference-based derivation of the U2OS-specific interactome. To this end, we will look at three different measures that are often used to describe the association of genes to guide the derivation of regulatory networks and interactomes, namely the Pearson correlation, the Spearman correlation and the normalized mutual information. Since, we want to assign higher costs to for relationships between any pair of genes that we have little evidence for as measured by the three previously mentioned metrics, we compute these as\n",
    "\n",
    "$$\n",
    "w_{i,j} = 1-|a_{i,j}|,\n",
    "$$\n",
    "\n",
    "where $w_{i,j}$ is the edge weight and $a_{i,j}$ is the respective association of the genes $i$ and $j$ as measured by the metrics."
   ]
  },
  {
   "cell_type": "markdown",
   "id": "f86618be",
   "metadata": {},
   "source": [
    "Those metrics are sensitive to outliers. This is another explanation why we focused on highly expressed genes in the derivation of the base PPI."
   ]
  },
  {
   "cell_type": "markdown",
   "id": "74389e69",
   "metadata": {},
   "source": [
    "We will now compute the respective edge weights for any edge in the base PPI and visualize their distribution."
   ]
  },
  {
   "cell_type": "code",
   "execution_count": 180,
   "id": "e23a3ec5",
   "metadata": {},
   "outputs": [
    {
     "name": "stderr",
     "output_type": "stream",
     "text": [
      "Compute edge weights for pearsonr: 100%|██████████| 43563/43563 [00:06<00:00, 6684.92it/s]\n",
      "Compute edge weights for spearmanr: 100%|██████████| 43563/43563 [00:33<00:00, 1295.07it/s]\n",
      "Compute edge weights for mi: 100%|██████████| 43563/43563 [00:29<00:00, 1501.34it/s]\n"
     ]
    },
    {
     "data": {
      "application/javascript": [
       "\n",
       "            setTimeout(function() {\n",
       "                var nbb_cell_id = 180;\n",
       "                var nbb_unformatted_code = \"selected_ppi = compute_edge_weights(selected_ppi, fucci_data, b=100, metrics=[\\\"pearsonr\\\", \\\"spearmanr\\\", \\\"mi\\\"])\";\n",
       "                var nbb_formatted_code = \"selected_ppi = compute_edge_weights(\\n    selected_ppi, fucci_data, b=100, metrics=[\\\"pearsonr\\\", \\\"spearmanr\\\", \\\"mi\\\"]\\n)\";\n",
       "                var nbb_cells = Jupyter.notebook.get_cells();\n",
       "                for (var i = 0; i < nbb_cells.length; ++i) {\n",
       "                    if (nbb_cells[i].input_prompt_number == nbb_cell_id) {\n",
       "                        if (nbb_cells[i].get_text() == nbb_unformatted_code) {\n",
       "                             nbb_cells[i].set_text(nbb_formatted_code);\n",
       "                        }\n",
       "                        break;\n",
       "                    }\n",
       "                }\n",
       "            }, 500);\n",
       "            "
      ],
      "text/plain": [
       "<IPython.core.display.Javascript object>"
      ]
     },
     "metadata": {},
     "output_type": "display_data"
    }
   ],
   "source": [
    "selected_ppi = compute_edge_weights(\n",
    "    selected_ppi, fucci_data, b=100, metrics=[\"pearsonr\", \"spearmanr\", \"mi\"]\n",
    ")"
   ]
  },
  {
   "cell_type": "markdown",
   "id": "b55fc72f",
   "metadata": {},
   "source": [
    "### 4.1. Pearson correlation-based edge weights"
   ]
  },
  {
   "cell_type": "code",
   "execution_count": 181,
   "id": "83fae706",
   "metadata": {},
   "outputs": [
    {
     "data": {
      "application/javascript": [
       "\n",
       "            setTimeout(function() {\n",
       "                var nbb_cell_id = 181;\n",
       "                var nbb_unformatted_code = \"pearsonr_weights = np.array(\\n    list(nx.get_edge_attributes(selected_ppi, \\\"pearsonr\\\").values())\\n)\";\n",
       "                var nbb_formatted_code = \"pearsonr_weights = np.array(\\n    list(nx.get_edge_attributes(selected_ppi, \\\"pearsonr\\\").values())\\n)\";\n",
       "                var nbb_cells = Jupyter.notebook.get_cells();\n",
       "                for (var i = 0; i < nbb_cells.length; ++i) {\n",
       "                    if (nbb_cells[i].input_prompt_number == nbb_cell_id) {\n",
       "                        if (nbb_cells[i].get_text() == nbb_unformatted_code) {\n",
       "                             nbb_cells[i].set_text(nbb_formatted_code);\n",
       "                        }\n",
       "                        break;\n",
       "                    }\n",
       "                }\n",
       "            }, 500);\n",
       "            "
      ],
      "text/plain": [
       "<IPython.core.display.Javascript object>"
      ]
     },
     "metadata": {},
     "output_type": "display_data"
    }
   ],
   "source": [
    "pearsonr_weights = np.array(\n",
    "    list(nx.get_edge_attributes(selected_ppi, \"pearsonr\").values())\n",
    ")"
   ]
  },
  {
   "cell_type": "code",
   "execution_count": 182,
   "id": "e58302bd",
   "metadata": {},
   "outputs": [
    {
     "data": {
      "image/png": "[encoded data removed]",
      "text/plain": [
       "<Figure size 360x360 with 1 Axes>"
      ]
     },
     "metadata": {
      "needs_background": "light"
     },
     "output_type": "display_data"
    },
    {
     "data": {
      "application/javascript": [
       "\n",
       "            setTimeout(function() {\n",
       "                var nbb_cell_id = 182;\n",
       "                var nbb_unformatted_code = \"plt.figure(figsize=[5, 5])\\nsns.histplot(pearsonr_weights)\\nplt.title(\\\"Distribution of the Pearson r edge weights\\\")\\nplt.xlabel(\\\"1-|r|\\\")\\nplt.show()\";\n",
       "                var nbb_formatted_code = \"plt.figure(figsize=[5, 5])\\nsns.histplot(pearsonr_weights)\\nplt.title(\\\"Distribution of the Pearson r edge weights\\\")\\nplt.xlabel(\\\"1-|r|\\\")\\nplt.show()\";\n",
       "                var nbb_cells = Jupyter.notebook.get_cells();\n",
       "                for (var i = 0; i < nbb_cells.length; ++i) {\n",
       "                    if (nbb_cells[i].input_prompt_number == nbb_cell_id) {\n",
       "                        if (nbb_cells[i].get_text() == nbb_unformatted_code) {\n",
       "                             nbb_cells[i].set_text(nbb_formatted_code);\n",
       "                        }\n",
       "                        break;\n",
       "                    }\n",
       "                }\n",
       "            }, 500);\n",
       "            "
      ],
      "text/plain": [
       "<IPython.core.display.Javascript object>"
      ]
     },
     "metadata": {},
     "output_type": "display_data"
    }
   ],
   "source": [
    "plt.figure(figsize=[5, 5])\n",
    "sns.histplot(pearsonr_weights)\n",
    "plt.title(\"Distribution of the Pearson r edge weights\")\n",
    "plt.xlabel(\"1-|r|\")\n",
    "plt.show()"
   ]
  },
  {
   "cell_type": "code",
   "execution_count": 192,
   "id": "90945431",
   "metadata": {},
   "outputs": [
    {
     "data": {
      "application/javascript": [
       "\n",
       "            setTimeout(function() {\n",
       "                var nbb_cell_id = 192;\n",
       "                var nbb_unformatted_code = \"# pearsonp_weights = np.array(\\n#     list(nx.get_edge_attributes(selected_ppi, \\\"pearsonp\\\").values())\\n# )\";\n",
       "                var nbb_formatted_code = \"# pearsonp_weights = np.array(\\n#     list(nx.get_edge_attributes(selected_ppi, \\\"pearsonp\\\").values())\\n# )\";\n",
       "                var nbb_cells = Jupyter.notebook.get_cells();\n",
       "                for (var i = 0; i < nbb_cells.length; ++i) {\n",
       "                    if (nbb_cells[i].input_prompt_number == nbb_cell_id) {\n",
       "                        if (nbb_cells[i].get_text() == nbb_unformatted_code) {\n",
       "                             nbb_cells[i].set_text(nbb_formatted_code);\n",
       "                        }\n",
       "                        break;\n",
       "                    }\n",
       "                }\n",
       "            }, 500);\n",
       "            "
      ],
      "text/plain": [
       "<IPython.core.display.Javascript object>"
      ]
     },
     "metadata": {},
     "output_type": "display_data"
    }
   ],
   "source": [
    "# pearsonp_weights = np.array(\n",
    "#     list(nx.get_edge_attributes(selected_ppi, \"pearsonp\").values())\n",
    "# )"
   ]
  },
  {
   "cell_type": "code",
   "execution_count": 193,
   "id": "b0983f7e",
   "metadata": {},
   "outputs": [
    {
     "data": {
      "application/javascript": [
       "\n",
       "            setTimeout(function() {\n",
       "                var nbb_cell_id = 193;\n",
       "                var nbb_unformatted_code = \"# plt.figure(figsize=[5, 5])\\n# sns.histplot(pearsonp_weights)\\n# plt.title(\\\"Distribution of the Pearson bootstrap p edge weights\\\")\\n# plt.xlabel(\\\"p\\\")\\n# plt.show()\";\n",
       "                var nbb_formatted_code = \"# plt.figure(figsize=[5, 5])\\n# sns.histplot(pearsonp_weights)\\n# plt.title(\\\"Distribution of the Pearson bootstrap p edge weights\\\")\\n# plt.xlabel(\\\"p\\\")\\n# plt.show()\";\n",
       "                var nbb_cells = Jupyter.notebook.get_cells();\n",
       "                for (var i = 0; i < nbb_cells.length; ++i) {\n",
       "                    if (nbb_cells[i].input_prompt_number == nbb_cell_id) {\n",
       "                        if (nbb_cells[i].get_text() == nbb_unformatted_code) {\n",
       "                             nbb_cells[i].set_text(nbb_formatted_code);\n",
       "                        }\n",
       "                        break;\n",
       "                    }\n",
       "                }\n",
       "            }, 500);\n",
       "            "
      ],
      "text/plain": [
       "<IPython.core.display.Javascript object>"
      ]
     },
     "metadata": {},
     "output_type": "display_data"
    }
   ],
   "source": [
    "# plt.figure(figsize=[5, 5])\n",
    "# sns.histplot(pearsonp_weights)\n",
    "# plt.title(\"Distribution of the Pearson bootstrap p edge weights\")\n",
    "# plt.xlabel(\"p\")\n",
    "# plt.show()"
   ]
  },
  {
   "cell_type": "markdown",
   "id": "85fe2584",
   "metadata": {},
   "source": [
    "### 4.2. Spearman correlation-based edge weights"
   ]
  },
  {
   "cell_type": "code",
   "execution_count": 194,
   "id": "ed76eab3",
   "metadata": {},
   "outputs": [
    {
     "data": {
      "application/javascript": [
       "\n",
       "            setTimeout(function() {\n",
       "                var nbb_cell_id = 194;\n",
       "                var nbb_unformatted_code = \"spearmanr_weights = np.array(\\n    list(nx.get_edge_attributes(selected_ppi, \\\"spearmanr\\\").values())\\n)\";\n",
       "                var nbb_formatted_code = \"spearmanr_weights = np.array(\\n    list(nx.get_edge_attributes(selected_ppi, \\\"spearmanr\\\").values())\\n)\";\n",
       "                var nbb_cells = Jupyter.notebook.get_cells();\n",
       "                for (var i = 0; i < nbb_cells.length; ++i) {\n",
       "                    if (nbb_cells[i].input_prompt_number == nbb_cell_id) {\n",
       "                        if (nbb_cells[i].get_text() == nbb_unformatted_code) {\n",
       "                             nbb_cells[i].set_text(nbb_formatted_code);\n",
       "                        }\n",
       "                        break;\n",
       "                    }\n",
       "                }\n",
       "            }, 500);\n",
       "            "
      ],
      "text/plain": [
       "<IPython.core.display.Javascript object>"
      ]
     },
     "metadata": {},
     "output_type": "display_data"
    }
   ],
   "source": [
    "spearmanr_weights = np.array(\n",
    "    list(nx.get_edge_attributes(selected_ppi, \"spearmanr\").values())\n",
    ")"
   ]
  },
  {
   "cell_type": "code",
   "execution_count": 195,
   "id": "40112455",
   "metadata": {},
   "outputs": [
    {
     "data": {
      "image/png": "[encoded data removed]",
      "text/plain": [
       "<Figure size 360x360 with 1 Axes>"
      ]
     },
     "metadata": {
      "needs_background": "light"
     },
     "output_type": "display_data"
    },
    {
     "data": {
      "application/javascript": [
       "\n",
       "            setTimeout(function() {\n",
       "                var nbb_cell_id = 195;\n",
       "                var nbb_unformatted_code = \"plt.figure(figsize=[5, 5])\\nsns.histplot(spearmanr_weights)\\nplt.title(\\\"Distribution of the Spearman r edge weights\\\")\\nplt.xlabel(\\\"1-|r|\\\")\\nplt.show()\";\n",
       "                var nbb_formatted_code = \"plt.figure(figsize=[5, 5])\\nsns.histplot(spearmanr_weights)\\nplt.title(\\\"Distribution of the Spearman r edge weights\\\")\\nplt.xlabel(\\\"1-|r|\\\")\\nplt.show()\";\n",
       "                var nbb_cells = Jupyter.notebook.get_cells();\n",
       "                for (var i = 0; i < nbb_cells.length; ++i) {\n",
       "                    if (nbb_cells[i].input_prompt_number == nbb_cell_id) {\n",
       "                        if (nbb_cells[i].get_text() == nbb_unformatted_code) {\n",
       "                             nbb_cells[i].set_text(nbb_formatted_code);\n",
       "                        }\n",
       "                        break;\n",
       "                    }\n",
       "                }\n",
       "            }, 500);\n",
       "            "
      ],
      "text/plain": [
       "<IPython.core.display.Javascript object>"
      ]
     },
     "metadata": {},
     "output_type": "display_data"
    }
   ],
   "source": [
    "plt.figure(figsize=[5, 5])\n",
    "sns.histplot(spearmanr_weights)\n",
    "plt.title(\"Distribution of the Spearman r edge weights\")\n",
    "plt.xlabel(\"1-|r|\")\n",
    "plt.show()"
   ]
  },
  {
   "cell_type": "code",
   "execution_count": 196,
   "id": "54db08d3",
   "metadata": {},
   "outputs": [
    {
     "data": {
      "application/javascript": [
       "\n",
       "            setTimeout(function() {\n",
       "                var nbb_cell_id = 196;\n",
       "                var nbb_unformatted_code = \"# spearmanp_weights = np.array(\\n#     list(nx.get_edge_attributes(selected_ppi, \\\"spearmanp\\\").values())\\n# )\";\n",
       "                var nbb_formatted_code = \"# spearmanp_weights = np.array(\\n#     list(nx.get_edge_attributes(selected_ppi, \\\"spearmanp\\\").values())\\n# )\";\n",
       "                var nbb_cells = Jupyter.notebook.get_cells();\n",
       "                for (var i = 0; i < nbb_cells.length; ++i) {\n",
       "                    if (nbb_cells[i].input_prompt_number == nbb_cell_id) {\n",
       "                        if (nbb_cells[i].get_text() == nbb_unformatted_code) {\n",
       "                             nbb_cells[i].set_text(nbb_formatted_code);\n",
       "                        }\n",
       "                        break;\n",
       "                    }\n",
       "                }\n",
       "            }, 500);\n",
       "            "
      ],
      "text/plain": [
       "<IPython.core.display.Javascript object>"
      ]
     },
     "metadata": {},
     "output_type": "display_data"
    }
   ],
   "source": [
    "# spearmanp_weights = np.array(\n",
    "#     list(nx.get_edge_attributes(selected_ppi, \"spearmanp\").values())\n",
    "# )"
   ]
  },
  {
   "cell_type": "code",
   "execution_count": 197,
   "id": "d10f82f4",
   "metadata": {},
   "outputs": [
    {
     "data": {
      "application/javascript": [
       "\n",
       "            setTimeout(function() {\n",
       "                var nbb_cell_id = 197;\n",
       "                var nbb_unformatted_code = \"# plt.figure(figsize=[5, 5])\\n# sns.histplot(spearmanp_weights)\\n# plt.title(\\\"Distribution of the Spearman bootstrap p edge weights\\\")\\n# plt.xlabel(\\\"bootstrap p\\\")\\n# plt.show()\";\n",
       "                var nbb_formatted_code = \"# plt.figure(figsize=[5, 5])\\n# sns.histplot(spearmanp_weights)\\n# plt.title(\\\"Distribution of the Spearman bootstrap p edge weights\\\")\\n# plt.xlabel(\\\"bootstrap p\\\")\\n# plt.show()\";\n",
       "                var nbb_cells = Jupyter.notebook.get_cells();\n",
       "                for (var i = 0; i < nbb_cells.length; ++i) {\n",
       "                    if (nbb_cells[i].input_prompt_number == nbb_cell_id) {\n",
       "                        if (nbb_cells[i].get_text() == nbb_unformatted_code) {\n",
       "                             nbb_cells[i].set_text(nbb_formatted_code);\n",
       "                        }\n",
       "                        break;\n",
       "                    }\n",
       "                }\n",
       "            }, 500);\n",
       "            "
      ],
      "text/plain": [
       "<IPython.core.display.Javascript object>"
      ]
     },
     "metadata": {},
     "output_type": "display_data"
    }
   ],
   "source": [
    "# plt.figure(figsize=[5, 5])\n",
    "# sns.histplot(spearmanp_weights)\n",
    "# plt.title(\"Distribution of the Spearman bootstrap p edge weights\")\n",
    "# plt.xlabel(\"bootstrap p\")\n",
    "# plt.show()"
   ]
  },
  {
   "cell_type": "markdown",
   "id": "a4177f77",
   "metadata": {},
   "source": [
    "### 4.3. Mutual information-based edge weights"
   ]
  },
  {
   "cell_type": "code",
   "execution_count": 198,
   "id": "506bbbb0",
   "metadata": {},
   "outputs": [
    {
     "data": {
      "application/javascript": [
       "\n",
       "            setTimeout(function() {\n",
       "                var nbb_cell_id = 198;\n",
       "                var nbb_unformatted_code = \"mi_weights = np.array(list(nx.get_edge_attributes(selected_ppi, \\\"mi\\\").values()))\";\n",
       "                var nbb_formatted_code = \"mi_weights = np.array(list(nx.get_edge_attributes(selected_ppi, \\\"mi\\\").values()))\";\n",
       "                var nbb_cells = Jupyter.notebook.get_cells();\n",
       "                for (var i = 0; i < nbb_cells.length; ++i) {\n",
       "                    if (nbb_cells[i].input_prompt_number == nbb_cell_id) {\n",
       "                        if (nbb_cells[i].get_text() == nbb_unformatted_code) {\n",
       "                             nbb_cells[i].set_text(nbb_formatted_code);\n",
       "                        }\n",
       "                        break;\n",
       "                    }\n",
       "                }\n",
       "            }, 500);\n",
       "            "
      ],
      "text/plain": [
       "<IPython.core.display.Javascript object>"
      ]
     },
     "metadata": {},
     "output_type": "display_data"
    }
   ],
   "source": [
    "mi_weights = np.array(list(nx.get_edge_attributes(selected_ppi, \"mi\").values()))"
   ]
  },
  {
   "cell_type": "code",
   "execution_count": 199,
   "id": "2155e8f4",
   "metadata": {},
   "outputs": [
    {
     "data": {
      "image/png": "[encoded data removed]",
      "text/plain": [
       "<Figure size 360x360 with 1 Axes>"
      ]
     },
     "metadata": {
      "needs_background": "light"
     },
     "output_type": "display_data"
    },
    {
     "data": {
      "application/javascript": [
       "\n",
       "            setTimeout(function() {\n",
       "                var nbb_cell_id = 199;\n",
       "                var nbb_unformatted_code = \"plt.figure(figsize=[5, 5])\\nsns.histplot(np.max(mi_weights) - (mi_weights))\\nplt.title(\\\"Distribution of the MI edge weights (100 bins)\\\")\\nplt.xlabel(\\\"max(m)-m\\\")\\nplt.show()\";\n",
       "                var nbb_formatted_code = \"plt.figure(figsize=[5, 5])\\nsns.histplot(np.max(mi_weights) - (mi_weights))\\nplt.title(\\\"Distribution of the MI edge weights (100 bins)\\\")\\nplt.xlabel(\\\"max(m)-m\\\")\\nplt.show()\";\n",
       "                var nbb_cells = Jupyter.notebook.get_cells();\n",
       "                for (var i = 0; i < nbb_cells.length; ++i) {\n",
       "                    if (nbb_cells[i].input_prompt_number == nbb_cell_id) {\n",
       "                        if (nbb_cells[i].get_text() == nbb_unformatted_code) {\n",
       "                             nbb_cells[i].set_text(nbb_formatted_code);\n",
       "                        }\n",
       "                        break;\n",
       "                    }\n",
       "                }\n",
       "            }, 500);\n",
       "            "
      ],
      "text/plain": [
       "<IPython.core.display.Javascript object>"
      ]
     },
     "metadata": {},
     "output_type": "display_data"
    }
   ],
   "source": [
    "plt.figure(figsize=[5, 5])\n",
    "sns.histplot(np.max(mi_weights) - (mi_weights))\n",
    "plt.title(\"Distribution of the MI edge weights (100 bins)\")\n",
    "plt.xlabel(\"max(m)-m\")\n",
    "plt.show()"
   ]
  },
  {
   "cell_type": "markdown",
   "id": "2e97b1b4",
   "metadata": {},
   "source": [
    "----\n",
    "\n",
    "## 5. PCST preprocessing\n",
    "\n",
    "After having computed the respective metrics we will now construct different version of the PPI with associated edge weights and node prizes for the inference of the PCST algorithm."
   ]
  },
  {
   "cell_type": "markdown",
   "id": "832e5a46",
   "metadata": {},
   "source": [
    "### 5a. Version 1\n",
    "\n",
    "In the first version, we will use the human PPI that was pruned to remove low-confidence edges and includes only nodes corresponding to genes covered by the scRNAseq data set.\n",
    "\n",
    "We will define the node prizes as given by the absolute log-fold change when comparing the U20S cells with other cells from the CCLE cancer dataset. Missing values are replaced by zeros.\n",
    "\n",
    "The chosen edge weights are given by $1-|r_{spearman}|$."
   ]
  },
  {
   "cell_type": "code",
   "execution_count": 200,
   "id": "d6c736bb",
   "metadata": {},
   "outputs": [
    {
     "data": {
      "application/javascript": [
       "\n",
       "            setTimeout(function() {\n",
       "                var nbb_cell_id = 200;\n",
       "                var nbb_unformatted_code = \"ppi_version_1 = selected_ppi.copy()\\n\\nabs_log_fc = marker_results.loc[:, \\\"abs_log_fc\\\"]\\n\\n## Set node prizes\\nprize_dict = dict()\\nfor node in ppi_version_1.nodes(data=True):\\n    try:\\n        node[-1][\\\"prize\\\"] = abs_log_fc[node[0]]\\n    except KeyError:\\n        node[-1][\\\"prize\\\"] = 0\\n\\n\\n## Set edge weights\\nfor edge in ppi_version_1.edges(data=True):\\n    edge[-1][\\\"cost\\\"] = edge[-1][\\\"spearmanr\\\"]\\n\\n## Save network\\nnx.write_gpickle(\\n    ppi_version_1,\\n    \\\"../../../data/ppi/ppi_confidence_0542_hub_230_pruned_ccle_abslogfc_spearmanr.pkl\\\",\\n)\";\n",
       "                var nbb_formatted_code = \"ppi_version_1 = selected_ppi.copy()\\n\\nabs_log_fc = marker_results.loc[:, \\\"abs_log_fc\\\"]\\n\\n## Set node prizes\\nprize_dict = dict()\\nfor node in ppi_version_1.nodes(data=True):\\n    try:\\n        node[-1][\\\"prize\\\"] = abs_log_fc[node[0]]\\n    except KeyError:\\n        node[-1][\\\"prize\\\"] = 0\\n\\n\\n## Set edge weights\\nfor edge in ppi_version_1.edges(data=True):\\n    edge[-1][\\\"cost\\\"] = edge[-1][\\\"spearmanr\\\"]\\n\\n## Save network\\nnx.write_gpickle(\\n    ppi_version_1,\\n    \\\"../../../data/ppi/ppi_confidence_0542_hub_230_pruned_ccle_abslogfc_spearmanr.pkl\\\",\\n)\";\n",
       "                var nbb_cells = Jupyter.notebook.get_cells();\n",
       "                for (var i = 0; i < nbb_cells.length; ++i) {\n",
       "                    if (nbb_cells[i].input_prompt_number == nbb_cell_id) {\n",
       "                        if (nbb_cells[i].get_text() == nbb_unformatted_code) {\n",
       "                             nbb_cells[i].set_text(nbb_formatted_code);\n",
       "                        }\n",
       "                        break;\n",
       "                    }\n",
       "                }\n",
       "            }, 500);\n",
       "            "
      ],
      "text/plain": [
       "<IPython.core.display.Javascript object>"
      ]
     },
     "metadata": {},
     "output_type": "display_data"
    }
   ],
   "source": [
    "ppi_version_1 = selected_ppi.copy()\n",
    "\n",
    "abs_log_fc = marker_results.loc[:, \"abs_log_fc\"]\n",
    "\n",
    "## Set node prizes\n",
    "prize_dict = dict()\n",
    "for node in ppi_version_1.nodes(data=True):\n",
    "    try:\n",
    "        node[-1][\"prize\"] = abs_log_fc[node[0]]\n",
    "    except KeyError:\n",
    "        node[-1][\"prize\"] = 0\n",
    "\n",
    "\n",
    "## Set edge weights\n",
    "for edge in ppi_version_1.edges(data=True):\n",
    "    edge[-1][\"cost\"] = edge[-1][\"spearmanr\"]\n",
    "\n",
    "## Save network\n",
    "nx.write_gpickle(\n",
    "    ppi_version_1,\n",
    "    \"../../../data/ppi/ppi_confidence_0542_hub_230_pruned_ccle_abslogfc_spearmanr.pkl\",\n",
    ")"
   ]
  },
  {
   "cell_type": "markdown",
   "id": "1e1d51a4",
   "metadata": {},
   "source": [
    "---\n",
    "\n",
    "### 5b. Version 2\n",
    "\n",
    "Alternatively, we will construct a second version that uses the same node prizes as before and the same underlying skeleton but rather uses the p-value for a non-zero Spearman correlation as edge weights."
   ]
  },
  {
   "cell_type": "code",
   "execution_count": 201,
   "id": "ea2544ce",
   "metadata": {},
   "outputs": [
    {
     "data": {
      "application/javascript": [
       "\n",
       "            setTimeout(function() {\n",
       "                var nbb_cell_id = 201;\n",
       "                var nbb_unformatted_code = \"# ppi_version_2 = selected_ppi.copy()\\n\\n# abs_log_fc = marker_results.loc[:, \\\"abs_log_fc\\\"]\\n\\n# ## Set node prizes\\n# prize_dict = dict()\\n# for node in ppi_version_2.nodes(data=True):\\n#     try:\\n#         node[-1][\\\"prize\\\"] = abs_log_fc[node[0]]\\n#     except KeyError:\\n#         node[-1][\\\"prize\\\"] = 0\\n\\n\\n# ## Set edge weights\\n# for edge in ppi_version_2.edges(data=True):\\n#     edge[-1][\\\"cost\\\"] = edge[-1][\\\"spearmanp\\\"]\\n\\n# ## Save network\\n# nx.write_gpickle(\\n#     ppi_version_2,\\n#     \\\"../../../data/ppi/ppi_confidence_0542_hub_230_pruned_ccle_abslogfc_spearmanp.pkl\\\",\\n# )\";\n",
       "                var nbb_formatted_code = \"# ppi_version_2 = selected_ppi.copy()\\n\\n# abs_log_fc = marker_results.loc[:, \\\"abs_log_fc\\\"]\\n\\n# ## Set node prizes\\n# prize_dict = dict()\\n# for node in ppi_version_2.nodes(data=True):\\n#     try:\\n#         node[-1][\\\"prize\\\"] = abs_log_fc[node[0]]\\n#     except KeyError:\\n#         node[-1][\\\"prize\\\"] = 0\\n\\n\\n# ## Set edge weights\\n# for edge in ppi_version_2.edges(data=True):\\n#     edge[-1][\\\"cost\\\"] = edge[-1][\\\"spearmanp\\\"]\\n\\n# ## Save network\\n# nx.write_gpickle(\\n#     ppi_version_2,\\n#     \\\"../../../data/ppi/ppi_confidence_0542_hub_230_pruned_ccle_abslogfc_spearmanp.pkl\\\",\\n# )\";\n",
       "                var nbb_cells = Jupyter.notebook.get_cells();\n",
       "                for (var i = 0; i < nbb_cells.length; ++i) {\n",
       "                    if (nbb_cells[i].input_prompt_number == nbb_cell_id) {\n",
       "                        if (nbb_cells[i].get_text() == nbb_unformatted_code) {\n",
       "                             nbb_cells[i].set_text(nbb_formatted_code);\n",
       "                        }\n",
       "                        break;\n",
       "                    }\n",
       "                }\n",
       "            }, 500);\n",
       "            "
      ],
      "text/plain": [
       "<IPython.core.display.Javascript object>"
      ]
     },
     "metadata": {},
     "output_type": "display_data"
    }
   ],
   "source": [
    "# ppi_version_2 = selected_ppi.copy()\n",
    "\n",
    "# abs_log_fc = marker_results.loc[:, \"abs_log_fc\"]\n",
    "\n",
    "# ## Set node prizes\n",
    "# prize_dict = dict()\n",
    "# for node in ppi_version_2.nodes(data=True):\n",
    "#     try:\n",
    "#         node[-1][\"prize\"] = abs_log_fc[node[0]]\n",
    "#     except KeyError:\n",
    "#         node[-1][\"prize\"] = 0\n",
    "\n",
    "\n",
    "# ## Set edge weights\n",
    "# for edge in ppi_version_2.edges(data=True):\n",
    "#     edge[-1][\"cost\"] = edge[-1][\"spearmanp\"]\n",
    "\n",
    "# ## Save network\n",
    "# nx.write_gpickle(\n",
    "#     ppi_version_2,\n",
    "#     \"../../../data/ppi/ppi_confidence_0542_hub_230_pruned_ccle_abslogfc_spearmanp.pkl\",\n",
    "# )"
   ]
  },
  {
   "cell_type": "markdown",
   "id": "93bd9276",
   "metadata": {},
   "source": [
    "---\n",
    "\n",
    "### 5c. Version 3/4\n",
    "\n",
    "To enforce the PCST to span the ORF targets we follow the strategy proposed by and set the prizes of the ORF targets to 10 that is larger than the maximum prize of any other node."
   ]
  },
  {
   "cell_type": "code",
   "execution_count": 202,
   "id": "1ffef1ec",
   "metadata": {},
   "outputs": [
    {
     "data": {
      "application/javascript": [
       "\n",
       "            setTimeout(function() {\n",
       "                var nbb_cell_id = 202;\n",
       "                var nbb_unformatted_code = \"ppi_version_3 = selected_ppi.copy()\\n\\nabs_log_fc = marker_results.loc[:, \\\"abs_log_fc\\\"]\\n\\n## Set node prizes\\nfor node in ppi_version_3.nodes(data=True):\\n    if node[0] in orf_targets:\\n        node[-1][\\\"prize\\\"] = np.max(abs_log_fc)\\n    else:\\n        try:\\n            node[-1][\\\"prize\\\"] = abs_log_fc[node[0]]\\n        except KeyError:\\n            node[-1][\\\"prize\\\"] = 0\\n\\n\\n## Set edge weights\\nfor edge in ppi_version_3.edges(data=True):\\n    edge[-1][\\\"cost\\\"] = edge[-1][\\\"spearmanr\\\"]\\n\\n## Save network\\nnx.write_gpickle(\\n    ppi_version_3,\\n    \\\"../../../data/ppi/ppi_confidence_0542_hub_230_pruned_ccle_abslogfc_orf_maxp_spearmanr.pkl\\\",\\n)\";\n",
       "                var nbb_formatted_code = \"ppi_version_3 = selected_ppi.copy()\\n\\nabs_log_fc = marker_results.loc[:, \\\"abs_log_fc\\\"]\\n\\n## Set node prizes\\nfor node in ppi_version_3.nodes(data=True):\\n    if node[0] in orf_targets:\\n        node[-1][\\\"prize\\\"] = np.max(abs_log_fc)\\n    else:\\n        try:\\n            node[-1][\\\"prize\\\"] = abs_log_fc[node[0]]\\n        except KeyError:\\n            node[-1][\\\"prize\\\"] = 0\\n\\n\\n## Set edge weights\\nfor edge in ppi_version_3.edges(data=True):\\n    edge[-1][\\\"cost\\\"] = edge[-1][\\\"spearmanr\\\"]\\n\\n## Save network\\nnx.write_gpickle(\\n    ppi_version_3,\\n    \\\"../../../data/ppi/ppi_confidence_0542_hub_230_pruned_ccle_abslogfc_orf_maxp_spearmanr.pkl\\\",\\n)\";\n",
       "                var nbb_cells = Jupyter.notebook.get_cells();\n",
       "                for (var i = 0; i < nbb_cells.length; ++i) {\n",
       "                    if (nbb_cells[i].input_prompt_number == nbb_cell_id) {\n",
       "                        if (nbb_cells[i].get_text() == nbb_unformatted_code) {\n",
       "                             nbb_cells[i].set_text(nbb_formatted_code);\n",
       "                        }\n",
       "                        break;\n",
       "                    }\n",
       "                }\n",
       "            }, 500);\n",
       "            "
      ],
      "text/plain": [
       "<IPython.core.display.Javascript object>"
      ]
     },
     "metadata": {},
     "output_type": "display_data"
    }
   ],
   "source": [
    "ppi_version_3 = selected_ppi.copy()\n",
    "\n",
    "abs_log_fc = marker_results.loc[:, \"abs_log_fc\"]\n",
    "\n",
    "## Set node prizes\n",
    "for node in ppi_version_3.nodes(data=True):\n",
    "    if node[0] in orf_targets:\n",
    "        node[-1][\"prize\"] = np.max(abs_log_fc)\n",
    "    else:\n",
    "        try:\n",
    "            node[-1][\"prize\"] = abs_log_fc[node[0]]\n",
    "        except KeyError:\n",
    "            node[-1][\"prize\"] = 0\n",
    "\n",
    "\n",
    "## Set edge weights\n",
    "for edge in ppi_version_3.edges(data=True):\n",
    "    edge[-1][\"cost\"] = edge[-1][\"spearmanr\"]\n",
    "\n",
    "## Save network\n",
    "nx.write_gpickle(\n",
    "    ppi_version_3,\n",
    "    \"../../../data/ppi/ppi_confidence_0542_hub_230_pruned_ccle_abslogfc_orf_maxp_spearmanr.pkl\",\n",
    ")"
   ]
  },
  {
   "cell_type": "code",
   "execution_count": 203,
   "id": "3405c91f",
   "metadata": {},
   "outputs": [
    {
     "data": {
      "application/javascript": [
       "\n",
       "            setTimeout(function() {\n",
       "                var nbb_cell_id = 203;\n",
       "                var nbb_unformatted_code = \"# ppi_version_4 = selected_ppi.copy()\\n\\n# abs_log_fc = marker_results.loc[:, \\\"abs_log_fc\\\"]\\n\\n# ## Set node prizes\\n# for node in ppi_version_4.nodes(data=True):\\n#     if node[0] in orf_targets:\\n#         node[-1][\\\"prize\\\"] = np.max(abs_log_fc)\\n#     else:\\n#         try:\\n#             node[-1][\\\"prize\\\"] = abs_log_fc[node[0]]\\n#         except KeyError:\\n#             node[-1][\\\"prize\\\"] = 0\\n\\n\\n# ## Set edge weights\\n# for edge in ppi_version_4.edges(data=True):\\n#     edge[-1][\\\"cost\\\"] = edge[-1][\\\"spearmanp\\\"]\\n\\n# ## Save network\\n# nx.write_gpickle(\\n#     ppi_version_4,\\n#     \\\"../../../data/ppi/ppi_confidence_0542_hub_230_pruned_ccle_abslogfc_orf_maxp_spearmanp.pkl\\\",\\n# )\";\n",
       "                var nbb_formatted_code = \"# ppi_version_4 = selected_ppi.copy()\\n\\n# abs_log_fc = marker_results.loc[:, \\\"abs_log_fc\\\"]\\n\\n# ## Set node prizes\\n# for node in ppi_version_4.nodes(data=True):\\n#     if node[0] in orf_targets:\\n#         node[-1][\\\"prize\\\"] = np.max(abs_log_fc)\\n#     else:\\n#         try:\\n#             node[-1][\\\"prize\\\"] = abs_log_fc[node[0]]\\n#         except KeyError:\\n#             node[-1][\\\"prize\\\"] = 0\\n\\n\\n# ## Set edge weights\\n# for edge in ppi_version_4.edges(data=True):\\n#     edge[-1][\\\"cost\\\"] = edge[-1][\\\"spearmanp\\\"]\\n\\n# ## Save network\\n# nx.write_gpickle(\\n#     ppi_version_4,\\n#     \\\"../../../data/ppi/ppi_confidence_0542_hub_230_pruned_ccle_abslogfc_orf_maxp_spearmanp.pkl\\\",\\n# )\";\n",
       "                var nbb_cells = Jupyter.notebook.get_cells();\n",
       "                for (var i = 0; i < nbb_cells.length; ++i) {\n",
       "                    if (nbb_cells[i].input_prompt_number == nbb_cell_id) {\n",
       "                        if (nbb_cells[i].get_text() == nbb_unformatted_code) {\n",
       "                             nbb_cells[i].set_text(nbb_formatted_code);\n",
       "                        }\n",
       "                        break;\n",
       "                    }\n",
       "                }\n",
       "            }, 500);\n",
       "            "
      ],
      "text/plain": [
       "<IPython.core.display.Javascript object>"
      ]
     },
     "metadata": {},
     "output_type": "display_data"
    }
   ],
   "source": [
    "# ppi_version_4 = selected_ppi.copy()\n",
    "\n",
    "# abs_log_fc = marker_results.loc[:, \"abs_log_fc\"]\n",
    "\n",
    "# ## Set node prizes\n",
    "# for node in ppi_version_4.nodes(data=True):\n",
    "#     if node[0] in orf_targets:\n",
    "#         node[-1][\"prize\"] = np.max(abs_log_fc)\n",
    "#     else:\n",
    "#         try:\n",
    "#             node[-1][\"prize\"] = abs_log_fc[node[0]]\n",
    "#         except KeyError:\n",
    "#             node[-1][\"prize\"] = 0\n",
    "\n",
    "\n",
    "# ## Set edge weights\n",
    "# for edge in ppi_version_4.edges(data=True):\n",
    "#     edge[-1][\"cost\"] = edge[-1][\"spearmanp\"]\n",
    "\n",
    "# ## Save network\n",
    "# nx.write_gpickle(\n",
    "#     ppi_version_4,\n",
    "#     \"../../../data/ppi/ppi_confidence_0542_hub_230_pruned_ccle_abslogfc_orf_maxp_spearmanp.pkl\",\n",
    "# )"
   ]
  },
  {
   "cell_type": "markdown",
   "id": "cc70ea5e",
   "metadata": {},
   "source": [
    "---\n",
    "\n",
    "## 6. Analyses of the PCST preprocessed graphs\n",
    "\n",
    "To get a better understanding of the input graphs that we constructed for the PCST driven inference we will plot some basic characteristics of the input graph. For that we will first focus on the 3rd version that we constructed for which the edge weights are given by $1-|r_{Spearman}|$ and the prizes by the absolute log fold-change with the ones of the ORF targets constantly set to the maximum log fold-change."
   ]
  },
  {
   "cell_type": "code",
   "execution_count": 204,
   "id": "9b24a5bc",
   "metadata": {},
   "outputs": [
    {
     "data": {
      "application/javascript": [
       "\n",
       "            setTimeout(function() {\n",
       "                var nbb_cell_id = 204;\n",
       "                var nbb_unformatted_code = \"graph = ppi_version_3\\nprizes = dict(nx.get_node_attributes(graph, \\\"prize\\\"))\\ncosts = dict(nx.get_edge_attributes(graph, \\\"cost\\\"))\";\n",
       "                var nbb_formatted_code = \"graph = ppi_version_3\\nprizes = dict(nx.get_node_attributes(graph, \\\"prize\\\"))\\ncosts = dict(nx.get_edge_attributes(graph, \\\"cost\\\"))\";\n",
       "                var nbb_cells = Jupyter.notebook.get_cells();\n",
       "                for (var i = 0; i < nbb_cells.length; ++i) {\n",
       "                    if (nbb_cells[i].input_prompt_number == nbb_cell_id) {\n",
       "                        if (nbb_cells[i].get_text() == nbb_unformatted_code) {\n",
       "                             nbb_cells[i].set_text(nbb_formatted_code);\n",
       "                        }\n",
       "                        break;\n",
       "                    }\n",
       "                }\n",
       "            }, 500);\n",
       "            "
      ],
      "text/plain": [
       "<IPython.core.display.Javascript object>"
      ]
     },
     "metadata": {},
     "output_type": "display_data"
    }
   ],
   "source": [
    "graph = ppi_version_3\n",
    "prizes = dict(nx.get_node_attributes(graph, \"prize\"))\n",
    "costs = dict(nx.get_edge_attributes(graph, \"cost\"))"
   ]
  },
  {
   "cell_type": "code",
   "execution_count": 255,
   "id": "01a6cdf6",
   "metadata": {},
   "outputs": [
    {
     "data": {
      "image/png": "[encoded data removed]",
      "text/plain": [
       "<Figure size 864x288 with 2 Axes>"
      ]
     },
     "metadata": {
      "needs_background": "light"
     },
     "output_type": "display_data"
    },
    {
     "data": {
      "application/javascript": [
       "\n",
       "            setTimeout(function() {\n",
       "                var nbb_cell_id = 255;\n",
       "                var nbb_unformatted_code = \"fig, ax = plt.subplots(nrows=1, ncols=2, figsize=[12, 4])\\nax = ax.flatten()\\nax[0] = sns.histplot(prizes.values(), ax=ax[0], legend=False)\\nax[0].set_title(\\\"Prize distribution\\\")\\nax[0].set_xlabel(\\\"Prize\\\")\\nax[1] = sns.histplot(costs.values(), ax=ax[1], legend=False)\\nax[1].set_title(\\\"Cost distribution\\\")\\nax[1].set_xlabel(\\\"Cost\\\")\\nplt.show()\\nplt.show()\";\n",
       "                var nbb_formatted_code = \"fig, ax = plt.subplots(nrows=1, ncols=2, figsize=[12, 4])\\nax = ax.flatten()\\nax[0] = sns.histplot(prizes.values(), ax=ax[0], legend=False)\\nax[0].set_title(\\\"Prize distribution\\\")\\nax[0].set_xlabel(\\\"Prize\\\")\\nax[1] = sns.histplot(costs.values(), ax=ax[1], legend=False)\\nax[1].set_title(\\\"Cost distribution\\\")\\nax[1].set_xlabel(\\\"Cost\\\")\\nplt.show()\\nplt.show()\";\n",
       "                var nbb_cells = Jupyter.notebook.get_cells();\n",
       "                for (var i = 0; i < nbb_cells.length; ++i) {\n",
       "                    if (nbb_cells[i].input_prompt_number == nbb_cell_id) {\n",
       "                        if (nbb_cells[i].get_text() == nbb_unformatted_code) {\n",
       "                             nbb_cells[i].set_text(nbb_formatted_code);\n",
       "                        }\n",
       "                        break;\n",
       "                    }\n",
       "                }\n",
       "            }, 500);\n",
       "            "
      ],
      "text/plain": [
       "<IPython.core.display.Javascript object>"
      ]
     },
     "metadata": {},
     "output_type": "display_data"
    }
   ],
   "source": [
    "fig, ax = plt.subplots(nrows=1, ncols=2, figsize=[12, 4])\n",
    "ax = ax.flatten()\n",
    "ax[0] = sns.histplot(prizes.values(), ax=ax[0], legend=False)\n",
    "ax[0].set_title(\"Prize distribution\")\n",
    "ax[0].set_xlabel(\"Prize\")\n",
    "ax[1] = sns.histplot(costs.values(), ax=ax[1], legend=False)\n",
    "ax[1].set_title(\"Cost distribution\")\n",
    "ax[1].set_xlabel(\"Cost\")\n",
    "plt.show()\n",
    "plt.show()"
   ]
  },
  {
   "cell_type": "markdown",
   "id": "3c577d27",
   "metadata": {},
   "source": [
    "We are now interested if there is a relationship between the prizes and edge costs and the corresponding nodes i.e. those that the edges associated with the costs connect to. To this end, we will plot the prizes by the corresponding edge degree and as well as the edge costs."
   ]
  },
  {
   "cell_type": "code",
   "execution_count": 228,
   "id": "69f8050b",
   "metadata": {},
   "outputs": [
    {
     "data": {
      "application/javascript": [
       "\n",
       "            setTimeout(function() {\n",
       "                var nbb_cell_id = 228;\n",
       "                var nbb_unformatted_code = \"degrees = dict(graph.degree())\\ndegrees = {k: v for k, v in sorted(degrees.items())}\\nprizes = {k: v for k, v in sorted(prizes.items())}\\norf_target_colors = []\\nfor k in prizes:\\n    orf_target_colors.append(k in orf_targets)\";\n",
       "                var nbb_formatted_code = \"degrees = dict(graph.degree())\\ndegrees = {k: v for k, v in sorted(degrees.items())}\\nprizes = {k: v for k, v in sorted(prizes.items())}\\norf_target_colors = []\\nfor k in prizes:\\n    orf_target_colors.append(k in orf_targets)\";\n",
       "                var nbb_cells = Jupyter.notebook.get_cells();\n",
       "                for (var i = 0; i < nbb_cells.length; ++i) {\n",
       "                    if (nbb_cells[i].input_prompt_number == nbb_cell_id) {\n",
       "                        if (nbb_cells[i].get_text() == nbb_unformatted_code) {\n",
       "                             nbb_cells[i].set_text(nbb_formatted_code);\n",
       "                        }\n",
       "                        break;\n",
       "                    }\n",
       "                }\n",
       "            }, 500);\n",
       "            "
      ],
      "text/plain": [
       "<IPython.core.display.Javascript object>"
      ]
     },
     "metadata": {},
     "output_type": "display_data"
    }
   ],
   "source": [
    "degrees = dict(graph.degree())\n",
    "degrees = {k: v for k, v in sorted(degrees.items())}\n",
    "prizes = {k: v for k, v in sorted(prizes.items())}\n",
    "orf_target_colors = []\n",
    "for k in prizes:\n",
    "    orf_target_colors.append(k in orf_targets)"
   ]
  },
  {
   "cell_type": "code",
   "execution_count": 227,
   "id": "320aff39",
   "metadata": {},
   "outputs": [
    {
     "data": {
      "application/javascript": [
       "\n",
       "            setTimeout(function() {\n",
       "                var nbb_cell_id = 227;\n",
       "                var nbb_unformatted_code = \"mean_node_cost = []\\nstd_node_cost = []\\nnode_degrees = []\\nnode_orf_target_colors = []\\nfor node in graph.nodes():\\n    node_orf_target_colors.append(node in orf_targets)\\n    node_degrees.append(graph.degree(node))\\n    edges = graph.edges(node, data=True)\\n    node_cost = []\\n    for edge in edges:\\n        node_cost.append(edge[-1][\\\"cost\\\"])\\n    mean_node_cost.append(np.mean(node_cost))\\n    std_node_cost.append(np.std(node_cost))\";\n",
       "                var nbb_formatted_code = \"mean_node_cost = []\\nstd_node_cost = []\\nnode_degrees = []\\nnode_orf_target_colors = []\\nfor node in graph.nodes():\\n    node_orf_target_colors.append(node in orf_targets)\\n    node_degrees.append(graph.degree(node))\\n    edges = graph.edges(node, data=True)\\n    node_cost = []\\n    for edge in edges:\\n        node_cost.append(edge[-1][\\\"cost\\\"])\\n    mean_node_cost.append(np.mean(node_cost))\\n    std_node_cost.append(np.std(node_cost))\";\n",
       "                var nbb_cells = Jupyter.notebook.get_cells();\n",
       "                for (var i = 0; i < nbb_cells.length; ++i) {\n",
       "                    if (nbb_cells[i].input_prompt_number == nbb_cell_id) {\n",
       "                        if (nbb_cells[i].get_text() == nbb_unformatted_code) {\n",
       "                             nbb_cells[i].set_text(nbb_formatted_code);\n",
       "                        }\n",
       "                        break;\n",
       "                    }\n",
       "                }\n",
       "            }, 500);\n",
       "            "
      ],
      "text/plain": [
       "<IPython.core.display.Javascript object>"
      ]
     },
     "metadata": {},
     "output_type": "display_data"
    }
   ],
   "source": [
    "mean_node_cost = []\n",
    "std_node_cost = []\n",
    "node_degrees = []\n",
    "node_orf_target_colors = []\n",
    "for node in graph.nodes():\n",
    "    node_orf_target_colors.append(node in orf_targets)\n",
    "    node_degrees.append(graph.degree(node))\n",
    "    edges = graph.edges(node, data=True)\n",
    "    node_cost = []\n",
    "    for edge in edges:\n",
    "        node_cost.append(edge[-1][\"cost\"])\n",
    "    mean_node_cost.append(np.mean(node_cost))\n",
    "    std_node_cost.append(np.std(node_cost))"
   ]
  },
  {
   "cell_type": "code",
   "execution_count": 253,
   "id": "3951c377",
   "metadata": {},
   "outputs": [
    {
     "data": {
      "image/png": "[encoded data removed]",
      "text/plain": [
       "<Figure size 1728x432 with 3 Axes>"
      ]
     },
     "metadata": {
      "needs_background": "light"
     },
     "output_type": "display_data"
    },
    {
     "data": {
      "application/javascript": [
       "\n",
       "            setTimeout(function() {\n",
       "                var nbb_cell_id = 253;\n",
       "                var nbb_unformatted_code = \"fig, ax = plt.subplots(nrows=1, ncols=3, figsize=[24, 6])\\nax = ax.flatten()\\nax[0].scatter(\\n    degrees.values(),\\n    prizes.values(),\\n    c=orf_target_colors,\\n    s=10,\\n    cmap=\\\"bwr\\\",\\n    alpha=0.6,\\n)\\nax[0].set_xlabel(\\\"Degree\\\")\\nax[0].set_ylabel(\\\"Prize\\\")\\nax[0].set_title(\\\"Prize vs. Degree\\\")\\n\\nax[1].scatter(\\n    node_degrees, mean_node_cost, c=node_orf_target_colors, s=10, cmap=\\\"bwr\\\", alpha=0.6\\n)\\nax[1].set_xlabel(\\\"Degree\\\")\\nax[1].set_ylabel(\\\"Mean cost\\\")\\nax[1].set_title(\\\"Mean cost vs. Degree\\\")\\n\\nax[2].scatter(\\n    node_degrees, std_node_cost, c=node_orf_target_colors, s=10, cmap=\\\"bwr\\\", alpha=0.6\\n)\\nax[2].set_xlabel(\\\"Degree\\\")\\nax[2].set_ylabel(\\\"Std cost\\\")\\nax[2].set_title(\\\"Std cost vs. Degree\\\")\\nplt.show()\";\n",
       "                var nbb_formatted_code = \"fig, ax = plt.subplots(nrows=1, ncols=3, figsize=[24, 6])\\nax = ax.flatten()\\nax[0].scatter(\\n    degrees.values(),\\n    prizes.values(),\\n    c=orf_target_colors,\\n    s=10,\\n    cmap=\\\"bwr\\\",\\n    alpha=0.6,\\n)\\nax[0].set_xlabel(\\\"Degree\\\")\\nax[0].set_ylabel(\\\"Prize\\\")\\nax[0].set_title(\\\"Prize vs. Degree\\\")\\n\\nax[1].scatter(\\n    node_degrees, mean_node_cost, c=node_orf_target_colors, s=10, cmap=\\\"bwr\\\", alpha=0.6\\n)\\nax[1].set_xlabel(\\\"Degree\\\")\\nax[1].set_ylabel(\\\"Mean cost\\\")\\nax[1].set_title(\\\"Mean cost vs. Degree\\\")\\n\\nax[2].scatter(\\n    node_degrees, std_node_cost, c=node_orf_target_colors, s=10, cmap=\\\"bwr\\\", alpha=0.6\\n)\\nax[2].set_xlabel(\\\"Degree\\\")\\nax[2].set_ylabel(\\\"Std cost\\\")\\nax[2].set_title(\\\"Std cost vs. Degree\\\")\\nplt.show()\";\n",
       "                var nbb_cells = Jupyter.notebook.get_cells();\n",
       "                for (var i = 0; i < nbb_cells.length; ++i) {\n",
       "                    if (nbb_cells[i].input_prompt_number == nbb_cell_id) {\n",
       "                        if (nbb_cells[i].get_text() == nbb_unformatted_code) {\n",
       "                             nbb_cells[i].set_text(nbb_formatted_code);\n",
       "                        }\n",
       "                        break;\n",
       "                    }\n",
       "                }\n",
       "            }, 500);\n",
       "            "
      ],
      "text/plain": [
       "<IPython.core.display.Javascript object>"
      ]
     },
     "metadata": {},
     "output_type": "display_data"
    }
   ],
   "source": [
    "fig, ax = plt.subplots(nrows=1, ncols=3, figsize=[24, 6])\n",
    "ax = ax.flatten()\n",
    "ax[0].scatter(\n",
    "    degrees.values(),\n",
    "    prizes.values(),\n",
    "    c=orf_target_colors,\n",
    "    s=10,\n",
    "    cmap=\"bwr\",\n",
    "    alpha=0.6,\n",
    ")\n",
    "ax[0].set_xlabel(\"Degree\")\n",
    "ax[0].set_ylabel(\"Prize\")\n",
    "ax[0].set_title(\"Prize vs. Degree\")\n",
    "\n",
    "ax[1].scatter(\n",
    "    node_degrees, mean_node_cost, c=node_orf_target_colors, s=10, cmap=\"bwr\", alpha=0.6\n",
    ")\n",
    "ax[1].set_xlabel(\"Degree\")\n",
    "ax[1].set_ylabel(\"Mean cost\")\n",
    "ax[1].set_title(\"Mean cost vs. Degree\")\n",
    "\n",
    "ax[2].scatter(\n",
    "    node_degrees, std_node_cost, c=node_orf_target_colors, s=10, cmap=\"bwr\", alpha=0.6\n",
    ")\n",
    "ax[2].set_xlabel(\"Degree\")\n",
    "ax[2].set_ylabel(\"Std cost\")\n",
    "ax[2].set_title(\"Std cost vs. Degree\")\n",
    "plt.show()"
   ]
  },
  {
   "cell_type": "markdown",
   "id": "52c3279e",
   "metadata": {},
   "source": [
    "The above plots illustrate that the most of nodes with a very high degree get relatively low yet non-zero prizes. Note, that due to the manual inflation of the prizes for the ORF targets that does not apply to those (marked in red). Additionally, most nodes with high-degrees are connected to many high cost edges as shown by the mean cost. Recalling the histogram of the overall edge cost distribution this is not surprising. The variance of the edge cost also decreases with increasing degree on average."
   ]
  },
  {
   "cell_type": "markdown",
   "id": "ead2734b",
   "metadata": {},
   "source": [
    "Jointly, this suggest that we might want to exclude even more high-degree nodes. However, this will also likely cause the largest connected component of the induced subgraph to span less of the ORF targets. Thus, it would be important to either manually include these as long as they can be connected to the largest connected component or that the ORF targets that are filtered out are of no special interest for the downstream analyses."
   ]
  },
  {
   "cell_type": "code",
   "execution_count": 274,
   "id": "54d0f39c",
   "metadata": {},
   "outputs": [
    {
     "data": {
      "application/javascript": [
       "\n",
       "            setTimeout(function() {\n",
       "                var nbb_cell_id = 274;\n",
       "                var nbb_unformatted_code = \"targets = [\\\"CASP8\\\", \\\"CASP9\\\", \\\"BCL2L11\\\", \\\"DDIT3\\\", \\\"GRB10\\\"]\\ndist = np.zeros([5, 5])\\ncollect = np.zeros([5,5])\\nfor i in range(5):\\n    for j in range(5):\\n        dist[i, j] = nx.shortest_path_length(\\n            graph, source=targets[i], target=targets[j], weight=\\\"cost\\\"\\n        )\\n        sp = nx.shortest_path(\\n            graph, source=targets[i], target=targets[j], weight=\\\"cost\\\")\\n        collect[i,j] = np.sum([prizes[n] for n in sp]) - dist[i,j]\\ndist = pd.DataFrame(dist, index=targets, columns=targets)\";\n",
       "                var nbb_formatted_code = \"targets = [\\\"CASP8\\\", \\\"CASP9\\\", \\\"BCL2L11\\\", \\\"DDIT3\\\", \\\"GRB10\\\"]\\ndist = np.zeros([5, 5])\\ncollect = np.zeros([5, 5])\\nfor i in range(5):\\n    for j in range(5):\\n        dist[i, j] = nx.shortest_path_length(\\n            graph, source=targets[i], target=targets[j], weight=\\\"cost\\\"\\n        )\\n        sp = nx.shortest_path(\\n            graph, source=targets[i], target=targets[j], weight=\\\"cost\\\"\\n        )\\n        collect[i, j] = np.sum([prizes[n] for n in sp]) - dist[i, j]\\ndist = pd.DataFrame(dist, index=targets, columns=targets)\";\n",
       "                var nbb_cells = Jupyter.notebook.get_cells();\n",
       "                for (var i = 0; i < nbb_cells.length; ++i) {\n",
       "                    if (nbb_cells[i].input_prompt_number == nbb_cell_id) {\n",
       "                        if (nbb_cells[i].get_text() == nbb_unformatted_code) {\n",
       "                             nbb_cells[i].set_text(nbb_formatted_code);\n",
       "                        }\n",
       "                        break;\n",
       "                    }\n",
       "                }\n",
       "            }, 500);\n",
       "            "
      ],
      "text/plain": [
       "<IPython.core.display.Javascript object>"
      ]
     },
     "metadata": {},
     "output_type": "display_data"
    }
   ],
   "source": [
    "targets = [\"CASP8\", \"CASP9\", \"BCL2L11\", \"DDIT3\", \"GRB10\"]\n",
    "dist = np.zeros([5, 5])\n",
    "collect = np.zeros([5, 5])\n",
    "for i in range(5):\n",
    "    for j in range(5):\n",
    "        dist[i, j] = nx.shortest_path_length(\n",
    "            graph, source=targets[i], target=targets[j], weight=\"cost\"\n",
    "        )\n",
    "        sp = nx.shortest_path(\n",
    "            graph, source=targets[i], target=targets[j], weight=\"cost\"\n",
    "        )\n",
    "        collect[i, j] = np.sum([prizes[n] for n in sp]) - dist[i, j]\n",
    "dist = pd.DataFrame(dist, index=targets, columns=targets)\n",
    "collect = pd.DataFrame(collect, index=targets, columns=targets)"
   ]
  },
  {
   "cell_type": "code",
   "execution_count": 284,
   "id": "8aeafbfe",
   "metadata": {},
   "outputs": [
    {
     "data": {
      "image/png": "[encoded data removed]",
      "text/plain": [
       "<Figure size 864x288 with 4 Axes>"
      ]
     },
     "metadata": {
      "needs_background": "light"
     },
     "output_type": "display_data"
    },
    {
     "data": {
      "application/javascript": [
       "\n",
       "            setTimeout(function() {\n",
       "                var nbb_cell_id = 284;\n",
       "                var nbb_unformatted_code = \"fig, ax = plt.subplots(nrows=1, ncols=2, figsize=[12, 4])\\nax = ax.flatten()\\nax[0] = sns.heatmap(dist, annot=True, ax=ax[0], fmt=\\\".2f\\\")\\nax[0].set_title(\\\"Shortest path cost\\\")\\nax[1] = sns.heatmap(collect, annot=True, ax=ax[1], fmt=\\\".2f\\\")\\nax[1].set_title(\\\"PCST objective on shortest path\\\")\\nplt.show()\";\n",
       "                var nbb_formatted_code = \"fig, ax = plt.subplots(nrows=1, ncols=2, figsize=[12, 4])\\nax = ax.flatten()\\nax[0] = sns.heatmap(dist, annot=True, ax=ax[0], fmt=\\\".2f\\\")\\nax[0].set_title(\\\"Shortest path cost\\\")\\nax[1] = sns.heatmap(collect, annot=True, ax=ax[1], fmt=\\\".2f\\\")\\nax[1].set_title(\\\"PCST objective on shortest path\\\")\\nplt.show()\";\n",
       "                var nbb_cells = Jupyter.notebook.get_cells();\n",
       "                for (var i = 0; i < nbb_cells.length; ++i) {\n",
       "                    if (nbb_cells[i].input_prompt_number == nbb_cell_id) {\n",
       "                        if (nbb_cells[i].get_text() == nbb_unformatted_code) {\n",
       "                             nbb_cells[i].set_text(nbb_formatted_code);\n",
       "                        }\n",
       "                        break;\n",
       "                    }\n",
       "                }\n",
       "            }, 500);\n",
       "            "
      ],
      "text/plain": [
       "<IPython.core.display.Javascript object>"
      ]
     },
     "metadata": {},
     "output_type": "display_data"
    }
   ],
   "source": [
    "fig, ax = plt.subplots(nrows=1, ncols=2, figsize=[12, 4])\n",
    "ax = ax.flatten()\n",
    "ax[0] = sns.heatmap(dist, annot=True, ax=ax[0], fmt=\".2f\")\n",
    "ax[0].set_title(\"Shortest path cost\")\n",
    "ax[1] = sns.heatmap(collect, annot=True, ax=ax[1], fmt=\".2f\")\n",
    "ax[1].set_title(\"PCST objective on shortest path\")\n",
    "plt.show()"
   ]
  }
 ],
 "metadata": {
  "kernelspec": {
   "display_name": "Python 3",
   "language": "python",
   "name": "python3"
  },
  "language_info": {
   "codemirror_mode": {
    "name": "ipython",
    "version": 3
   },
   "file_extension": ".py",
   "mimetype": "text/x-python",
   "name": "python",
   "nbconvert_exporter": "python",
   "pygments_lexer": "ipython3",
   "version": "3.8.10"
  }
 },
 "nbformat": 4,
 "nbformat_minor": 5
}
