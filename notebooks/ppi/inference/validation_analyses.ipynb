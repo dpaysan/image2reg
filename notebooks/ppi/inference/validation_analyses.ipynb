{
 "cells": [
  {
   "cell_type": "markdown",
   "id": "59362442",
   "metadata": {},
   "source": [
    "# Validation of the inferred interactome\n",
    "\n",
    "---"
   ]
  },
  {
   "cell_type": "markdown",
   "id": "79c9c4b0",
   "metadata": {},
   "source": [
    "## 0. Environmental setup"
   ]
  },
  {
   "cell_type": "code",
   "execution_count": 137,
   "id": "732a750b",
   "metadata": {},
   "outputs": [],
   "source": [
    "import numpy as np\n",
    "import pandas as pd\n",
    "import networkx as nx\n",
    "import community\n",
    "from sklearn.preprocessing import MinMaxScaler\n",
    "from sklearn.cluster import AgglomerativeClustering\n",
    "from sklearn.metrics import adjusted_rand_score, rand_score, adjusted_mutual_info_score\n",
    "from tqdm import tqdm\n",
    "seed = 1234\n",
    "np.random.seed(seed)\n",
    "import seaborn as sns\n",
    "\n",
    "import random\n",
    "random.seed(1234)"
   ]
  },
  {
   "cell_type": "code",
   "execution_count": 82,
   "id": "42dee85a",
   "metadata": {},
   "outputs": [],
   "source": [
    "def compute_adjusted_randidx_matrix(signature_clusters, graph_clusters):\n",
    "    adjusted_randidx = np.zeros([len(signature_clusters), len(graph_clusters)])\n",
    "    for i in tqdm(range(len(signature_clusters)), desc=\"Compute adj.RandIndex\"):\n",
    "        for j in range(len(graph_clusters)):\n",
    "            signature_cluster = list(signature_clusters.values())[i]\n",
    "            graph_cluster = list(graph_clusters.values())[j]\n",
    "            adjusted_randidx[i,j] = adjusted_rand_score(signature_cluster, graph_cluster)\n",
    "    return adjusted_randidx"
   ]
  },
  {
   "cell_type": "markdown",
   "id": "2a40d6c4",
   "metadata": {},
   "source": [
    "## 1. Read in data"
   ]
  },
  {
   "cell_type": "code",
   "execution_count": 122,
   "id": "2fd52f17",
   "metadata": {},
   "outputs": [],
   "source": [
    "morph_embs = pd.read_csv(\"../../../data/images/metadata/nuclei_profiles_hoechst_cleaned.csv\", index_col = 0)"
   ]
  },
  {
   "cell_type": "code",
   "execution_count": 149,
   "id": "5f8d2b7b",
   "metadata": {},
   "outputs": [],
   "source": [
    "median_profiles = morph_embs.groupby(\"labels\").mean().drop(\"EMPTY\")"
   ]
  },
  {
   "cell_type": "code",
   "execution_count": 170,
   "id": "de4f5407",
   "metadata": {},
   "outputs": [
    {
     "data": {
      "text/html": [
       "<div>\n",
       "<style scoped>\n",
       "    .dataframe tbody tr th:only-of-type {\n",
       "        vertical-align: middle;\n",
       "    }\n",
       "\n",
       "    .dataframe tbody tr th {\n",
       "        vertical-align: top;\n",
       "    }\n",
       "\n",
       "    .dataframe thead th {\n",
       "        text-align: right;\n",
       "    }\n",
       "</style>\n",
       "<table border=\"1\" class=\"dataframe\">\n",
       "  <thead>\n",
       "    <tr style=\"text-align: right;\">\n",
       "      <th></th>\n",
       "      <th>CAMSAP2</th>\n",
       "      <th>PPP2R5A</th>\n",
       "      <th>CISD1</th>\n",
       "      <th>AKAP8</th>\n",
       "      <th>TMEM109</th>\n",
       "      <th>CHAC1</th>\n",
       "      <th>FOS</th>\n",
       "      <th>ORC1</th>\n",
       "      <th>AARS</th>\n",
       "      <th>MLLT11</th>\n",
       "      <th>...</th>\n",
       "      <th>ABCF1</th>\n",
       "      <th>SERPINE1</th>\n",
       "      <th>HLA-DMA</th>\n",
       "      <th>STK10</th>\n",
       "      <th>BLCAP</th>\n",
       "      <th>ASCC3</th>\n",
       "      <th>KDELR2</th>\n",
       "      <th>HIST2H2BE</th>\n",
       "      <th>MELK</th>\n",
       "      <th>SMARCA4</th>\n",
       "    </tr>\n",
       "    <tr>\n",
       "      <th>target</th>\n",
       "      <th></th>\n",
       "      <th></th>\n",
       "      <th></th>\n",
       "      <th></th>\n",
       "      <th></th>\n",
       "      <th></th>\n",
       "      <th></th>\n",
       "      <th></th>\n",
       "      <th></th>\n",
       "      <th></th>\n",
       "      <th></th>\n",
       "      <th></th>\n",
       "      <th></th>\n",
       "      <th></th>\n",
       "      <th></th>\n",
       "      <th></th>\n",
       "      <th></th>\n",
       "      <th></th>\n",
       "      <th></th>\n",
       "      <th></th>\n",
       "      <th></th>\n",
       "    </tr>\n",
       "  </thead>\n",
       "  <tbody>\n",
       "    <tr>\n",
       "      <th>ACVR1B</th>\n",
       "      <td>-0.655167</td>\n",
       "      <td>-0.396750</td>\n",
       "      <td>0.331467</td>\n",
       "      <td>0.210683</td>\n",
       "      <td>0.514150</td>\n",
       "      <td>-0.159000</td>\n",
       "      <td>0.624683</td>\n",
       "      <td>-0.190117</td>\n",
       "      <td>-0.085033</td>\n",
       "      <td>0.303417</td>\n",
       "      <td>...</td>\n",
       "      <td>0.199633</td>\n",
       "      <td>0.505433</td>\n",
       "      <td>0.127283</td>\n",
       "      <td>-0.197517</td>\n",
       "      <td>0.116783</td>\n",
       "      <td>0.468083</td>\n",
       "      <td>-0.115700</td>\n",
       "      <td>-0.703183</td>\n",
       "      <td>1.093517</td>\n",
       "      <td>0.179967</td>\n",
       "    </tr>\n",
       "    <tr>\n",
       "      <th>ADAM17</th>\n",
       "      <td>0.254800</td>\n",
       "      <td>0.040200</td>\n",
       "      <td>-0.251950</td>\n",
       "      <td>-0.434400</td>\n",
       "      <td>0.077000</td>\n",
       "      <td>-0.014950</td>\n",
       "      <td>-0.036950</td>\n",
       "      <td>-1.055250</td>\n",
       "      <td>0.300150</td>\n",
       "      <td>0.283800</td>\n",
       "      <td>...</td>\n",
       "      <td>0.217550</td>\n",
       "      <td>-0.172350</td>\n",
       "      <td>-0.335450</td>\n",
       "      <td>-0.569100</td>\n",
       "      <td>-0.741500</td>\n",
       "      <td>0.278500</td>\n",
       "      <td>-0.040350</td>\n",
       "      <td>0.719400</td>\n",
       "      <td>-0.134250</td>\n",
       "      <td>0.859750</td>\n",
       "    </tr>\n",
       "    <tr>\n",
       "      <th>AKT1</th>\n",
       "      <td>-0.316983</td>\n",
       "      <td>-1.004300</td>\n",
       "      <td>0.054283</td>\n",
       "      <td>-0.170033</td>\n",
       "      <td>0.121950</td>\n",
       "      <td>-0.199067</td>\n",
       "      <td>-0.306967</td>\n",
       "      <td>-0.229017</td>\n",
       "      <td>-0.404150</td>\n",
       "      <td>0.809800</td>\n",
       "      <td>...</td>\n",
       "      <td>0.043800</td>\n",
       "      <td>0.421250</td>\n",
       "      <td>0.863717</td>\n",
       "      <td>-0.351917</td>\n",
       "      <td>0.348333</td>\n",
       "      <td>0.346150</td>\n",
       "      <td>0.200217</td>\n",
       "      <td>-0.373067</td>\n",
       "      <td>-0.345750</td>\n",
       "      <td>0.461600</td>\n",
       "    </tr>\n",
       "    <tr>\n",
       "      <th>AKT1S1</th>\n",
       "      <td>-0.279350</td>\n",
       "      <td>-1.578925</td>\n",
       "      <td>-0.231600</td>\n",
       "      <td>0.484600</td>\n",
       "      <td>-0.066150</td>\n",
       "      <td>-0.453650</td>\n",
       "      <td>-0.468950</td>\n",
       "      <td>0.062200</td>\n",
       "      <td>-1.380075</td>\n",
       "      <td>-0.571250</td>\n",
       "      <td>...</td>\n",
       "      <td>-0.044450</td>\n",
       "      <td>1.642675</td>\n",
       "      <td>-0.222175</td>\n",
       "      <td>2.352925</td>\n",
       "      <td>-0.783325</td>\n",
       "      <td>0.478025</td>\n",
       "      <td>-0.321900</td>\n",
       "      <td>-0.508475</td>\n",
       "      <td>0.145675</td>\n",
       "      <td>1.385150</td>\n",
       "    </tr>\n",
       "    <tr>\n",
       "      <th>AKT2</th>\n",
       "      <td>-1.120450</td>\n",
       "      <td>0.011550</td>\n",
       "      <td>0.044450</td>\n",
       "      <td>1.121250</td>\n",
       "      <td>0.783850</td>\n",
       "      <td>-0.329950</td>\n",
       "      <td>-0.623600</td>\n",
       "      <td>-0.507700</td>\n",
       "      <td>-0.070500</td>\n",
       "      <td>1.409200</td>\n",
       "      <td>...</td>\n",
       "      <td>0.031650</td>\n",
       "      <td>1.131150</td>\n",
       "      <td>0.135300</td>\n",
       "      <td>1.086600</td>\n",
       "      <td>-0.540200</td>\n",
       "      <td>-0.258800</td>\n",
       "      <td>1.202250</td>\n",
       "      <td>-0.479050</td>\n",
       "      <td>0.251100</td>\n",
       "      <td>0.092850</td>\n",
       "    </tr>\n",
       "    <tr>\n",
       "      <th>...</th>\n",
       "      <td>...</td>\n",
       "      <td>...</td>\n",
       "      <td>...</td>\n",
       "      <td>...</td>\n",
       "      <td>...</td>\n",
       "      <td>...</td>\n",
       "      <td>...</td>\n",
       "      <td>...</td>\n",
       "      <td>...</td>\n",
       "      <td>...</td>\n",
       "      <td>...</td>\n",
       "      <td>...</td>\n",
       "      <td>...</td>\n",
       "      <td>...</td>\n",
       "      <td>...</td>\n",
       "      <td>...</td>\n",
       "      <td>...</td>\n",
       "      <td>...</td>\n",
       "      <td>...</td>\n",
       "      <td>...</td>\n",
       "      <td>...</td>\n",
       "    </tr>\n",
       "    <tr>\n",
       "      <th>VHL</th>\n",
       "      <td>-0.502725</td>\n",
       "      <td>-0.113050</td>\n",
       "      <td>-0.291275</td>\n",
       "      <td>-0.217225</td>\n",
       "      <td>0.385100</td>\n",
       "      <td>0.217425</td>\n",
       "      <td>1.646875</td>\n",
       "      <td>-0.902000</td>\n",
       "      <td>0.434925</td>\n",
       "      <td>-0.120350</td>\n",
       "      <td>...</td>\n",
       "      <td>0.002075</td>\n",
       "      <td>0.539775</td>\n",
       "      <td>0.200750</td>\n",
       "      <td>-0.185000</td>\n",
       "      <td>0.727400</td>\n",
       "      <td>0.230875</td>\n",
       "      <td>0.156575</td>\n",
       "      <td>-0.303300</td>\n",
       "      <td>0.091225</td>\n",
       "      <td>-0.333700</td>\n",
       "    </tr>\n",
       "    <tr>\n",
       "      <th>WWTR1</th>\n",
       "      <td>-1.703150</td>\n",
       "      <td>0.548250</td>\n",
       "      <td>-0.748500</td>\n",
       "      <td>0.202400</td>\n",
       "      <td>-0.669150</td>\n",
       "      <td>-0.449450</td>\n",
       "      <td>-0.785300</td>\n",
       "      <td>-0.334300</td>\n",
       "      <td>-0.990450</td>\n",
       "      <td>0.369600</td>\n",
       "      <td>...</td>\n",
       "      <td>-0.371200</td>\n",
       "      <td>-0.655400</td>\n",
       "      <td>0.337250</td>\n",
       "      <td>-0.421750</td>\n",
       "      <td>0.015400</td>\n",
       "      <td>0.365000</td>\n",
       "      <td>0.486250</td>\n",
       "      <td>-0.554250</td>\n",
       "      <td>0.632500</td>\n",
       "      <td>1.310250</td>\n",
       "    </tr>\n",
       "    <tr>\n",
       "      <th>XBP1</th>\n",
       "      <td>0.375625</td>\n",
       "      <td>-0.952575</td>\n",
       "      <td>0.676050</td>\n",
       "      <td>0.653825</td>\n",
       "      <td>-0.211475</td>\n",
       "      <td>-0.128275</td>\n",
       "      <td>0.201275</td>\n",
       "      <td>0.601525</td>\n",
       "      <td>0.375450</td>\n",
       "      <td>0.826475</td>\n",
       "      <td>...</td>\n",
       "      <td>-0.196100</td>\n",
       "      <td>-0.027050</td>\n",
       "      <td>-0.292575</td>\n",
       "      <td>0.332575</td>\n",
       "      <td>-0.223800</td>\n",
       "      <td>-0.703625</td>\n",
       "      <td>0.691350</td>\n",
       "      <td>0.388600</td>\n",
       "      <td>0.238750</td>\n",
       "      <td>-0.030825</td>\n",
       "    </tr>\n",
       "    <tr>\n",
       "      <th>XIAP</th>\n",
       "      <td>-0.518200</td>\n",
       "      <td>0.242450</td>\n",
       "      <td>1.412300</td>\n",
       "      <td>1.172100</td>\n",
       "      <td>0.047300</td>\n",
       "      <td>-0.891700</td>\n",
       "      <td>-0.196500</td>\n",
       "      <td>-0.840400</td>\n",
       "      <td>0.315550</td>\n",
       "      <td>0.295050</td>\n",
       "      <td>...</td>\n",
       "      <td>-0.786700</td>\n",
       "      <td>0.195850</td>\n",
       "      <td>-0.040600</td>\n",
       "      <td>-0.468200</td>\n",
       "      <td>1.007500</td>\n",
       "      <td>0.394450</td>\n",
       "      <td>0.075600</td>\n",
       "      <td>-0.627700</td>\n",
       "      <td>0.105450</td>\n",
       "      <td>0.436200</td>\n",
       "    </tr>\n",
       "    <tr>\n",
       "      <th>YAP1</th>\n",
       "      <td>-0.132450</td>\n",
       "      <td>-0.318487</td>\n",
       "      <td>0.346100</td>\n",
       "      <td>0.579225</td>\n",
       "      <td>0.665262</td>\n",
       "      <td>-0.229238</td>\n",
       "      <td>0.989125</td>\n",
       "      <td>0.010338</td>\n",
       "      <td>-0.376938</td>\n",
       "      <td>-0.417637</td>\n",
       "      <td>...</td>\n",
       "      <td>0.121125</td>\n",
       "      <td>0.811525</td>\n",
       "      <td>0.460275</td>\n",
       "      <td>-0.314337</td>\n",
       "      <td>0.996775</td>\n",
       "      <td>0.308687</td>\n",
       "      <td>0.490175</td>\n",
       "      <td>-0.795312</td>\n",
       "      <td>0.567225</td>\n",
       "      <td>-0.002263</td>\n",
       "    </tr>\n",
       "  </tbody>\n",
       "</table>\n",
       "<p>164 rows × 978 columns</p>\n",
       "</div>"
      ],
      "text/plain": [
       "         CAMSAP2   PPP2R5A     CISD1     AKAP8   TMEM109     CHAC1       FOS  \\\n",
       "target                                                                         \n",
       "ACVR1B -0.655167 -0.396750  0.331467  0.210683  0.514150 -0.159000  0.624683   \n",
       "ADAM17  0.254800  0.040200 -0.251950 -0.434400  0.077000 -0.014950 -0.036950   \n",
       "AKT1   -0.316983 -1.004300  0.054283 -0.170033  0.121950 -0.199067 -0.306967   \n",
       "AKT1S1 -0.279350 -1.578925 -0.231600  0.484600 -0.066150 -0.453650 -0.468950   \n",
       "AKT2   -1.120450  0.011550  0.044450  1.121250  0.783850 -0.329950 -0.623600   \n",
       "...          ...       ...       ...       ...       ...       ...       ...   \n",
       "VHL    -0.502725 -0.113050 -0.291275 -0.217225  0.385100  0.217425  1.646875   \n",
       "WWTR1  -1.703150  0.548250 -0.748500  0.202400 -0.669150 -0.449450 -0.785300   \n",
       "XBP1    0.375625 -0.952575  0.676050  0.653825 -0.211475 -0.128275  0.201275   \n",
       "XIAP   -0.518200  0.242450  1.412300  1.172100  0.047300 -0.891700 -0.196500   \n",
       "YAP1   -0.132450 -0.318487  0.346100  0.579225  0.665262 -0.229238  0.989125   \n",
       "\n",
       "            ORC1      AARS    MLLT11  ...     ABCF1  SERPINE1   HLA-DMA  \\\n",
       "target                                ...                                 \n",
       "ACVR1B -0.190117 -0.085033  0.303417  ...  0.199633  0.505433  0.127283   \n",
       "ADAM17 -1.055250  0.300150  0.283800  ...  0.217550 -0.172350 -0.335450   \n",
       "AKT1   -0.229017 -0.404150  0.809800  ...  0.043800  0.421250  0.863717   \n",
       "AKT1S1  0.062200 -1.380075 -0.571250  ... -0.044450  1.642675 -0.222175   \n",
       "AKT2   -0.507700 -0.070500  1.409200  ...  0.031650  1.131150  0.135300   \n",
       "...          ...       ...       ...  ...       ...       ...       ...   \n",
       "VHL    -0.902000  0.434925 -0.120350  ...  0.002075  0.539775  0.200750   \n",
       "WWTR1  -0.334300 -0.990450  0.369600  ... -0.371200 -0.655400  0.337250   \n",
       "XBP1    0.601525  0.375450  0.826475  ... -0.196100 -0.027050 -0.292575   \n",
       "XIAP   -0.840400  0.315550  0.295050  ... -0.786700  0.195850 -0.040600   \n",
       "YAP1    0.010338 -0.376938 -0.417637  ...  0.121125  0.811525  0.460275   \n",
       "\n",
       "           STK10     BLCAP     ASCC3    KDELR2  HIST2H2BE      MELK   SMARCA4  \n",
       "target                                                                         \n",
       "ACVR1B -0.197517  0.116783  0.468083 -0.115700  -0.703183  1.093517  0.179967  \n",
       "ADAM17 -0.569100 -0.741500  0.278500 -0.040350   0.719400 -0.134250  0.859750  \n",
       "AKT1   -0.351917  0.348333  0.346150  0.200217  -0.373067 -0.345750  0.461600  \n",
       "AKT1S1  2.352925 -0.783325  0.478025 -0.321900  -0.508475  0.145675  1.385150  \n",
       "AKT2    1.086600 -0.540200 -0.258800  1.202250  -0.479050  0.251100  0.092850  \n",
       "...          ...       ...       ...       ...        ...       ...       ...  \n",
       "VHL    -0.185000  0.727400  0.230875  0.156575  -0.303300  0.091225 -0.333700  \n",
       "WWTR1  -0.421750  0.015400  0.365000  0.486250  -0.554250  0.632500  1.310250  \n",
       "XBP1    0.332575 -0.223800 -0.703625  0.691350   0.388600  0.238750 -0.030825  \n",
       "XIAP   -0.468200  1.007500  0.394450  0.075600  -0.627700  0.105450  0.436200  \n",
       "YAP1   -0.314337  0.996775  0.308687  0.490175  -0.795312  0.567225 -0.002263  \n",
       "\n",
       "[164 rows x 978 columns]"
      ]
     },
     "execution_count": 170,
     "metadata": {},
     "output_type": "execute_result"
    }
   ],
   "source": [
    "l5_signatures = pd.read_csv(\"../../../data/gex/cmap/filtered_l5_data_u2os.csv\", index_col=0)\n",
    "l5_signatures = l5_signatures.loc[l5_signatures[\"target\"]!=\"UnTrt\"]\n",
    "l5_signatures = l5_signatures.groupby(\"target\").mean()\n",
    "l5_signatures"
   ]
  },
  {
   "cell_type": "code",
   "execution_count": 172,
   "id": "bda76f63",
   "metadata": {},
   "outputs": [],
   "source": [
    "targets = list(l5_signatures.index)"
   ]
  },
  {
   "cell_type": "code",
   "execution_count": 175,
   "id": "5b1588ba",
   "metadata": {},
   "outputs": [
    {
     "name": "stdout",
     "output_type": "stream",
     "text": [
      "Name: Confidence_Pruned_CCLE_absLogFC_ORF_max_Spearman_p_b_1\n",
      "Type: Graph\n",
      "Number of nodes: 3408\n",
      "Number of edges: 3407\n",
      "Average degree:   1.9994\n"
     ]
    }
   ],
   "source": [
    "pcst = nx.read_gpickle(\"../../../data/ppi/pcst_ccle_abslogfc_orf_max_spearman_r_b_1.pkl\")\n",
    "print(nx.info(pcst))"
   ]
  },
  {
   "cell_type": "code",
   "execution_count": 176,
   "id": "0829b232",
   "metadata": {},
   "outputs": [],
   "source": [
    "median_profiles= median_profiles.loc[targets]"
   ]
  },
  {
   "cell_type": "code",
   "execution_count": 177,
   "id": "e5e15d90",
   "metadata": {},
   "outputs": [],
   "source": [
    "def compute_target_dist_mtx(pcst, targets):\n",
    "    n = len(targets)\n",
    "    dist_mtx = np.zeros([n,n])\n",
    "    for i in tqdm(range(0, n-1)):\n",
    "        for j in range(i+1, n):\n",
    "            dist_mtx[i,j]=nx.shortest_path_length(pcst, targets[i], targets[j], weight=\"spearmanr\")\n",
    "    dist_mtx = dist_mtx + dist_mtx.transpose()\n",
    "    return dist_mtx"
   ]
  },
  {
   "cell_type": "code",
   "execution_count": 178,
   "id": "09da2d53",
   "metadata": {},
   "outputs": [
    {
     "name": "stderr",
     "output_type": "stream",
     "text": [
      "100%|██████████| 163/163 [00:53<00:00,  3.05it/s]\n"
     ]
    }
   ],
   "source": [
    "pcst_dist_mtx = compute_target_dist_mtx(pcst, targets)"
   ]
  },
  {
   "cell_type": "markdown",
   "id": "4a22c277",
   "metadata": {},
   "source": [
    "---\n",
    "\n",
    "## 2. Clustering"
   ]
  },
  {
   "cell_type": "markdown",
   "id": "810eff5d",
   "metadata": {},
   "source": [
    "### Agglomerative correlation similarity"
   ]
  },
  {
   "cell_type": "code",
   "execution_count": 179,
   "id": "059e874c",
   "metadata": {},
   "outputs": [
    {
     "name": "stderr",
     "output_type": "stream",
     "text": [
      "Compute signature clusters: 100%|██████████| 164/164 [03:44<00:00,  1.37s/it]\n"
     ]
    }
   ],
   "source": [
    "signature_clusters = dict()\n",
    "for i in tqdm(range(1, len(l5_signatures)+1), desc=\"Compute signature clusters\"):\n",
    "    ac = AgglomerativeClustering(linkage='average', n_clusters=i, affinity=pearson_affinity)\n",
    "    signature_clusters[i] = ac.fit_predict(l5_signatures.iloc[:,:-1])"
   ]
  },
  {
   "cell_type": "markdown",
   "id": "2c5de192",
   "metadata": {},
   "source": [
    "### Agglomerative shortest path similarity"
   ]
  },
  {
   "cell_type": "code",
   "execution_count": 180,
   "id": "8a29f06d",
   "metadata": {},
   "outputs": [
    {
     "name": "stderr",
     "output_type": "stream",
     "text": [
      "Compute graph clusters: 100%|██████████| 164/164 [00:00<00:00, 1125.62it/s]\n"
     ]
    }
   ],
   "source": [
    "graph_clusters = dict()\n",
    "for i in tqdm(range(1, len(l5_signatures) +1), desc=\"Compute graph clusters\"):\n",
    "    ac = AgglomerativeClustering(linkage=\"average\", n_clusters=i, affinity=\"precomputed\")\n",
    "    graph_clusters[i] = ac.fit_predict(pcst_dist_mtx)"
   ]
  },
  {
   "cell_type": "markdown",
   "id": "e65b2378",
   "metadata": {},
   "source": [
    "### Agglomerative morph similarity"
   ]
  },
  {
   "cell_type": "code",
   "execution_count": 181,
   "id": "d61872fb",
   "metadata": {
    "scrolled": true
   },
   "outputs": [
    {
     "ename": "KeyError",
     "evalue": "\"['Nuclei_AreaShape_Center_X' 'Nuclei_AreaShape_Center_Y'\\n 'Nuclei_Location_CenterMassIntensity_X_Hoechst'\\n 'Nuclei_Location_CenterMassIntensity_Y_Hoechst'\\n 'Nuclei_Location_Center_X' 'Nuclei_Location_Center_Y'\\n 'Nuclei_Location_MaxIntensity_X_Hoechst'\\n 'Nuclei_Location_MaxIntensity_X_Hoechst'\\n 'Nuclei_Neighbors_FirstClosestObjectNumber_1'\\n 'Nuclei_Neighbors_SecondClosestObjectNumber_1'\\n 'Nuclei_AreaShape_Orientation'] not found in axis\"",
     "output_type": "error",
     "traceback": [
      "\u001b[0;31m---------------------------------------------------------------------------\u001b[0m",
      "\u001b[0;31mKeyError\u001b[0m                                  Traceback (most recent call last)",
      "\u001b[0;32m<ipython-input-181-68453717c453>\u001b[0m in \u001b[0;36m<module>\u001b[0;34m\u001b[0m\n\u001b[1;32m     12\u001b[0m     \u001b[0;34m\"Nuclei_AreaShape_Orientation\"\u001b[0m\u001b[0;34m,\u001b[0m\u001b[0;34m\u001b[0m\u001b[0;34m\u001b[0m\u001b[0m\n\u001b[1;32m     13\u001b[0m ]\n\u001b[0;32m---> 14\u001b[0;31m \u001b[0mmedian_profiles\u001b[0m \u001b[0;34m=\u001b[0m \u001b[0mmedian_profiles\u001b[0m\u001b[0;34m.\u001b[0m\u001b[0mdrop\u001b[0m\u001b[0;34m(\u001b[0m\u001b[0mcolumns\u001b[0m\u001b[0;34m=\u001b[0m\u001b[0mdrop_columns\u001b[0m\u001b[0;34m)\u001b[0m\u001b[0;34m\u001b[0m\u001b[0;34m\u001b[0m\u001b[0m\n\u001b[0m",
      "\u001b[0;32m~/miniconda3/envs/image2reg/lib/python3.8/site-packages/pandas/core/frame.py\u001b[0m in \u001b[0;36mdrop\u001b[0;34m(self, labels, axis, index, columns, level, inplace, errors)\u001b[0m\n\u001b[1;32m   4306\u001b[0m                 \u001b[0mweight\u001b[0m  \u001b[0;36m1.0\u001b[0m     \u001b[0;36m0.8\u001b[0m\u001b[0;34m\u001b[0m\u001b[0;34m\u001b[0m\u001b[0m\n\u001b[1;32m   4307\u001b[0m         \"\"\"\n\u001b[0;32m-> 4308\u001b[0;31m         return super().drop(\n\u001b[0m\u001b[1;32m   4309\u001b[0m             \u001b[0mlabels\u001b[0m\u001b[0;34m=\u001b[0m\u001b[0mlabels\u001b[0m\u001b[0;34m,\u001b[0m\u001b[0;34m\u001b[0m\u001b[0;34m\u001b[0m\u001b[0m\n\u001b[1;32m   4310\u001b[0m             \u001b[0maxis\u001b[0m\u001b[0;34m=\u001b[0m\u001b[0maxis\u001b[0m\u001b[0;34m,\u001b[0m\u001b[0;34m\u001b[0m\u001b[0;34m\u001b[0m\u001b[0m\n",
      "\u001b[0;32m~/miniconda3/envs/image2reg/lib/python3.8/site-packages/pandas/core/generic.py\u001b[0m in \u001b[0;36mdrop\u001b[0;34m(self, labels, axis, index, columns, level, inplace, errors)\u001b[0m\n\u001b[1;32m   4151\u001b[0m         \u001b[0;32mfor\u001b[0m \u001b[0maxis\u001b[0m\u001b[0;34m,\u001b[0m \u001b[0mlabels\u001b[0m \u001b[0;32min\u001b[0m \u001b[0maxes\u001b[0m\u001b[0;34m.\u001b[0m\u001b[0mitems\u001b[0m\u001b[0;34m(\u001b[0m\u001b[0;34m)\u001b[0m\u001b[0;34m:\u001b[0m\u001b[0;34m\u001b[0m\u001b[0;34m\u001b[0m\u001b[0m\n\u001b[1;32m   4152\u001b[0m             \u001b[0;32mif\u001b[0m \u001b[0mlabels\u001b[0m \u001b[0;32mis\u001b[0m \u001b[0;32mnot\u001b[0m \u001b[0;32mNone\u001b[0m\u001b[0;34m:\u001b[0m\u001b[0;34m\u001b[0m\u001b[0;34m\u001b[0m\u001b[0m\n\u001b[0;32m-> 4153\u001b[0;31m                 \u001b[0mobj\u001b[0m \u001b[0;34m=\u001b[0m \u001b[0mobj\u001b[0m\u001b[0;34m.\u001b[0m\u001b[0m_drop_axis\u001b[0m\u001b[0;34m(\u001b[0m\u001b[0mlabels\u001b[0m\u001b[0;34m,\u001b[0m \u001b[0maxis\u001b[0m\u001b[0;34m,\u001b[0m \u001b[0mlevel\u001b[0m\u001b[0;34m=\u001b[0m\u001b[0mlevel\u001b[0m\u001b[0;34m,\u001b[0m \u001b[0merrors\u001b[0m\u001b[0;34m=\u001b[0m\u001b[0merrors\u001b[0m\u001b[0;34m)\u001b[0m\u001b[0;34m\u001b[0m\u001b[0;34m\u001b[0m\u001b[0m\n\u001b[0m\u001b[1;32m   4154\u001b[0m \u001b[0;34m\u001b[0m\u001b[0m\n\u001b[1;32m   4155\u001b[0m         \u001b[0;32mif\u001b[0m \u001b[0minplace\u001b[0m\u001b[0;34m:\u001b[0m\u001b[0;34m\u001b[0m\u001b[0;34m\u001b[0m\u001b[0m\n",
      "\u001b[0;32m~/miniconda3/envs/image2reg/lib/python3.8/site-packages/pandas/core/generic.py\u001b[0m in \u001b[0;36m_drop_axis\u001b[0;34m(self, labels, axis, level, errors)\u001b[0m\n\u001b[1;32m   4186\u001b[0m                 \u001b[0mnew_axis\u001b[0m \u001b[0;34m=\u001b[0m \u001b[0maxis\u001b[0m\u001b[0;34m.\u001b[0m\u001b[0mdrop\u001b[0m\u001b[0;34m(\u001b[0m\u001b[0mlabels\u001b[0m\u001b[0;34m,\u001b[0m \u001b[0mlevel\u001b[0m\u001b[0;34m=\u001b[0m\u001b[0mlevel\u001b[0m\u001b[0;34m,\u001b[0m \u001b[0merrors\u001b[0m\u001b[0;34m=\u001b[0m\u001b[0merrors\u001b[0m\u001b[0;34m)\u001b[0m\u001b[0;34m\u001b[0m\u001b[0;34m\u001b[0m\u001b[0m\n\u001b[1;32m   4187\u001b[0m             \u001b[0;32melse\u001b[0m\u001b[0;34m:\u001b[0m\u001b[0;34m\u001b[0m\u001b[0;34m\u001b[0m\u001b[0m\n\u001b[0;32m-> 4188\u001b[0;31m                 \u001b[0mnew_axis\u001b[0m \u001b[0;34m=\u001b[0m \u001b[0maxis\u001b[0m\u001b[0;34m.\u001b[0m\u001b[0mdrop\u001b[0m\u001b[0;34m(\u001b[0m\u001b[0mlabels\u001b[0m\u001b[0;34m,\u001b[0m \u001b[0merrors\u001b[0m\u001b[0;34m=\u001b[0m\u001b[0merrors\u001b[0m\u001b[0;34m)\u001b[0m\u001b[0;34m\u001b[0m\u001b[0;34m\u001b[0m\u001b[0m\n\u001b[0m\u001b[1;32m   4189\u001b[0m             \u001b[0mresult\u001b[0m \u001b[0;34m=\u001b[0m \u001b[0mself\u001b[0m\u001b[0;34m.\u001b[0m\u001b[0mreindex\u001b[0m\u001b[0;34m(\u001b[0m\u001b[0;34m**\u001b[0m\u001b[0;34m{\u001b[0m\u001b[0maxis_name\u001b[0m\u001b[0;34m:\u001b[0m \u001b[0mnew_axis\u001b[0m\u001b[0;34m}\u001b[0m\u001b[0;34m)\u001b[0m\u001b[0;34m\u001b[0m\u001b[0;34m\u001b[0m\u001b[0m\n\u001b[1;32m   4190\u001b[0m \u001b[0;34m\u001b[0m\u001b[0m\n",
      "\u001b[0;32m~/miniconda3/envs/image2reg/lib/python3.8/site-packages/pandas/core/indexes/base.py\u001b[0m in \u001b[0;36mdrop\u001b[0;34m(self, labels, errors)\u001b[0m\n\u001b[1;32m   5589\u001b[0m         \u001b[0;32mif\u001b[0m \u001b[0mmask\u001b[0m\u001b[0;34m.\u001b[0m\u001b[0many\u001b[0m\u001b[0;34m(\u001b[0m\u001b[0;34m)\u001b[0m\u001b[0;34m:\u001b[0m\u001b[0;34m\u001b[0m\u001b[0;34m\u001b[0m\u001b[0m\n\u001b[1;32m   5590\u001b[0m             \u001b[0;32mif\u001b[0m \u001b[0merrors\u001b[0m \u001b[0;34m!=\u001b[0m \u001b[0;34m\"ignore\"\u001b[0m\u001b[0;34m:\u001b[0m\u001b[0;34m\u001b[0m\u001b[0;34m\u001b[0m\u001b[0m\n\u001b[0;32m-> 5591\u001b[0;31m                 \u001b[0;32mraise\u001b[0m \u001b[0mKeyError\u001b[0m\u001b[0;34m(\u001b[0m\u001b[0;34mf\"{labels[mask]} not found in axis\"\u001b[0m\u001b[0;34m)\u001b[0m\u001b[0;34m\u001b[0m\u001b[0;34m\u001b[0m\u001b[0m\n\u001b[0m\u001b[1;32m   5592\u001b[0m             \u001b[0mindexer\u001b[0m \u001b[0;34m=\u001b[0m \u001b[0mindexer\u001b[0m\u001b[0;34m[\u001b[0m\u001b[0;34m~\u001b[0m\u001b[0mmask\u001b[0m\u001b[0;34m]\u001b[0m\u001b[0;34m\u001b[0m\u001b[0;34m\u001b[0m\u001b[0m\n\u001b[1;32m   5593\u001b[0m         \u001b[0;32mreturn\u001b[0m \u001b[0mself\u001b[0m\u001b[0;34m.\u001b[0m\u001b[0mdelete\u001b[0m\u001b[0;34m(\u001b[0m\u001b[0mindexer\u001b[0m\u001b[0;34m)\u001b[0m\u001b[0;34m\u001b[0m\u001b[0;34m\u001b[0m\u001b[0m\n",
      "\u001b[0;31mKeyError\u001b[0m: \"['Nuclei_AreaShape_Center_X' 'Nuclei_AreaShape_Center_Y'\\n 'Nuclei_Location_CenterMassIntensity_X_Hoechst'\\n 'Nuclei_Location_CenterMassIntensity_Y_Hoechst'\\n 'Nuclei_Location_Center_X' 'Nuclei_Location_Center_Y'\\n 'Nuclei_Location_MaxIntensity_X_Hoechst'\\n 'Nuclei_Location_MaxIntensity_X_Hoechst'\\n 'Nuclei_Neighbors_FirstClosestObjectNumber_1'\\n 'Nuclei_Neighbors_SecondClosestObjectNumber_1'\\n 'Nuclei_AreaShape_Orientation'] not found in axis\""
     ]
    }
   ],
   "source": [
    "drop_columns = [\n",
    "    \"Nuclei_AreaShape_Center_X\",\n",
    "    \"Nuclei_AreaShape_Center_Y\",\n",
    "    \"Nuclei_Location_CenterMassIntensity_X_Hoechst\",\n",
    "    \"Nuclei_Location_CenterMassIntensity_Y_Hoechst\",\n",
    "    \"Nuclei_Location_Center_X\",\n",
    "    \"Nuclei_Location_Center_Y\",\n",
    "    \"Nuclei_Location_MaxIntensity_X_Hoechst\",\n",
    "    \"Nuclei_Location_MaxIntensity_X_Hoechst\",\n",
    "    \"Nuclei_Neighbors_FirstClosestObjectNumber_1\",\n",
    "    \"Nuclei_Neighbors_SecondClosestObjectNumber_1\",\n",
    "    \"Nuclei_AreaShape_Orientation\",\n",
    "]\n",
    "median_profiles = median_profiles.drop(columns=drop_columns)"
   ]
  },
  {
   "cell_type": "code",
   "execution_count": null,
   "id": "1992e5a5",
   "metadata": {},
   "outputs": [],
   "source": [
    "from scipy.stats import pearsonr\n",
    "def pearson_affinity(M):\n",
    "    return 1 - np.array([[pearsonr(a,b)[0] for a in M] for b in M])"
   ]
  },
  {
   "cell_type": "code",
   "execution_count": 182,
   "id": "14676b66",
   "metadata": {},
   "outputs": [
    {
     "name": "stderr",
     "output_type": "stream",
     "text": [
      "Compute morph clusters: 100%|██████████| 164/164 [02:48<00:00,  1.03s/it]\n"
     ]
    }
   ],
   "source": [
    "morph_clusters = dict()\n",
    "for i in tqdm(range(1, len(median_profiles)+1), desc=\"Compute morph clusters\"):\n",
    "    ac = AgglomerativeClustering(linkage='average', n_clusters=i, affinity=pearson_affinity)\n",
    "    morph_clusters[i] = ac.fit_predict(MinMaxScaler().fit_transform(median_profiles.iloc[:,:-1]))"
   ]
  },
  {
   "cell_type": "markdown",
   "id": "6f4810df",
   "metadata": {},
   "source": [
    "### Compute adjusted RandIndex"
   ]
  },
  {
   "cell_type": "code",
   "execution_count": 183,
   "id": "e6b5dae8",
   "metadata": {},
   "outputs": [
    {
     "name": "stderr",
     "output_type": "stream",
     "text": [
      "Compute adj.RandIndex: 100%|██████████| 164/164 [00:11<00:00, 14.14it/s]\n"
     ]
    }
   ],
   "source": [
    "adjusted_randidx_matrix = compute_adjusted_randidx_matrix(signature_clusters, morph_clusters)"
   ]
  },
  {
   "cell_type": "code",
   "execution_count": null,
   "id": "220fa4a2",
   "metadata": {},
   "outputs": [],
   "source": []
  },
  {
   "cell_type": "code",
   "execution_count": 184,
   "id": "493d83f5",
   "metadata": {},
   "outputs": [
    {
     "data": {
      "text/plain": [
       "<AxesSubplot:>"
      ]
     },
     "execution_count": 184,
     "metadata": {},
     "output_type": "execute_result"
    },
    {
     "data": {
      "image/png": "[encoded data removed]",
      "text/plain": [
       "<Figure size 432x288 with 2 Axes>"
      ]
     },
     "metadata": {
      "needs_background": "light"
     },
     "output_type": "display_data"
    }
   ],
   "source": [
    "sns.heatmap(adjusted_randidx_matrix)"
   ]
  },
  {
   "cell_type": "code",
   "execution_count": 190,
   "id": "03fd6ef8",
   "metadata": {},
   "outputs": [
    {
     "data": {
      "text/plain": [
       "True"
      ]
     },
     "execution_count": 190,
     "metadata": {},
     "output_type": "execute_result"
    }
   ],
   "source": [
    "\"BCL2L1\" in targets"
   ]
  },
  {
   "cell_type": "code",
   "execution_count": 193,
   "id": "3bffe649",
   "metadata": {},
   "outputs": [
    {
     "ename": "IndexError",
     "evalue": "too many indices for array: array is 0-dimensional, but 1 were indexed",
     "output_type": "error",
     "traceback": [
      "\u001b[0;31m---------------------------------------------------------------------------\u001b[0m",
      "\u001b[0;31mIndexError\u001b[0m                                Traceback (most recent call last)",
      "\u001b[0;32m<ipython-input-193-6bf2c9db2ca8>\u001b[0m in \u001b[0;36m<module>\u001b[0;34m\u001b[0m\n\u001b[0;32m----> 1\u001b[0;31m \u001b[0msns\u001b[0m\u001b[0;34m.\u001b[0m\u001b[0mheatmap\u001b[0m\u001b[0;34m(\u001b[0m\u001b[0mpearson_affinity\u001b[0m\u001b[0;34m(\u001b[0m\u001b[0ml5_signatures\u001b[0m\u001b[0;34m.\u001b[0m\u001b[0mloc\u001b[0m\u001b[0;34m[\u001b[0m\u001b[0;34m[\u001b[0m\u001b[0;34m\"BCL2L1\"\u001b[0m\u001b[0;34m,\u001b[0m \u001b[0;34m\"BCL2L11\"\u001b[0m\u001b[0;34m,\u001b[0m \u001b[0;34m\"DDIT3\"\u001b[0m\u001b[0;34m,\u001b[0m \u001b[0;34m\"GRB10\"\u001b[0m\u001b[0;34m]\u001b[0m\u001b[0;34m]\u001b[0m\u001b[0;34m)\u001b[0m\u001b[0;34m)\u001b[0m\u001b[0;34m\u001b[0m\u001b[0;34m\u001b[0m\u001b[0m\n\u001b[0m",
      "\u001b[0;32m<ipython-input-164-f170b75de406>\u001b[0m in \u001b[0;36mpearson_affinity\u001b[0;34m(M)\u001b[0m\n\u001b[1;32m      1\u001b[0m \u001b[0;32mfrom\u001b[0m \u001b[0mscipy\u001b[0m\u001b[0;34m.\u001b[0m\u001b[0mstats\u001b[0m \u001b[0;32mimport\u001b[0m \u001b[0mpearsonr\u001b[0m\u001b[0;34m\u001b[0m\u001b[0;34m\u001b[0m\u001b[0m\n\u001b[1;32m      2\u001b[0m \u001b[0;32mdef\u001b[0m \u001b[0mpearson_affinity\u001b[0m\u001b[0;34m(\u001b[0m\u001b[0mM\u001b[0m\u001b[0;34m)\u001b[0m\u001b[0;34m:\u001b[0m\u001b[0;34m\u001b[0m\u001b[0;34m\u001b[0m\u001b[0m\n\u001b[0;32m----> 3\u001b[0;31m     \u001b[0;32mreturn\u001b[0m \u001b[0;36m1\u001b[0m \u001b[0;34m-\u001b[0m \u001b[0mnp\u001b[0m\u001b[0;34m.\u001b[0m\u001b[0marray\u001b[0m\u001b[0;34m(\u001b[0m\u001b[0;34m[\u001b[0m\u001b[0;34m[\u001b[0m\u001b[0mpearsonr\u001b[0m\u001b[0;34m(\u001b[0m\u001b[0ma\u001b[0m\u001b[0;34m,\u001b[0m\u001b[0mb\u001b[0m\u001b[0;34m)\u001b[0m\u001b[0;34m[\u001b[0m\u001b[0;36m0\u001b[0m\u001b[0;34m]\u001b[0m \u001b[0;32mfor\u001b[0m \u001b[0ma\u001b[0m \u001b[0;32min\u001b[0m \u001b[0mM\u001b[0m\u001b[0;34m]\u001b[0m \u001b[0;32mfor\u001b[0m \u001b[0mb\u001b[0m \u001b[0;32min\u001b[0m \u001b[0mM\u001b[0m\u001b[0;34m]\u001b[0m\u001b[0;34m)\u001b[0m\u001b[0;34m\u001b[0m\u001b[0;34m\u001b[0m\u001b[0m\n\u001b[0m",
      "\u001b[0;32m<ipython-input-164-f170b75de406>\u001b[0m in \u001b[0;36m<listcomp>\u001b[0;34m(.0)\u001b[0m\n\u001b[1;32m      1\u001b[0m \u001b[0;32mfrom\u001b[0m \u001b[0mscipy\u001b[0m\u001b[0;34m.\u001b[0m\u001b[0mstats\u001b[0m \u001b[0;32mimport\u001b[0m \u001b[0mpearsonr\u001b[0m\u001b[0;34m\u001b[0m\u001b[0;34m\u001b[0m\u001b[0m\n\u001b[1;32m      2\u001b[0m \u001b[0;32mdef\u001b[0m \u001b[0mpearson_affinity\u001b[0m\u001b[0;34m(\u001b[0m\u001b[0mM\u001b[0m\u001b[0;34m)\u001b[0m\u001b[0;34m:\u001b[0m\u001b[0;34m\u001b[0m\u001b[0;34m\u001b[0m\u001b[0m\n\u001b[0;32m----> 3\u001b[0;31m     \u001b[0;32mreturn\u001b[0m \u001b[0;36m1\u001b[0m \u001b[0;34m-\u001b[0m \u001b[0mnp\u001b[0m\u001b[0;34m.\u001b[0m\u001b[0marray\u001b[0m\u001b[0;34m(\u001b[0m\u001b[0;34m[\u001b[0m\u001b[0;34m[\u001b[0m\u001b[0mpearsonr\u001b[0m\u001b[0;34m(\u001b[0m\u001b[0ma\u001b[0m\u001b[0;34m,\u001b[0m\u001b[0mb\u001b[0m\u001b[0;34m)\u001b[0m\u001b[0;34m[\u001b[0m\u001b[0;36m0\u001b[0m\u001b[0;34m]\u001b[0m \u001b[0;32mfor\u001b[0m \u001b[0ma\u001b[0m \u001b[0;32min\u001b[0m \u001b[0mM\u001b[0m\u001b[0;34m]\u001b[0m \u001b[0;32mfor\u001b[0m \u001b[0mb\u001b[0m \u001b[0;32min\u001b[0m \u001b[0mM\u001b[0m\u001b[0;34m]\u001b[0m\u001b[0;34m)\u001b[0m\u001b[0;34m\u001b[0m\u001b[0;34m\u001b[0m\u001b[0m\n\u001b[0m",
      "\u001b[0;32m<ipython-input-164-f170b75de406>\u001b[0m in \u001b[0;36m<listcomp>\u001b[0;34m(.0)\u001b[0m\n\u001b[1;32m      1\u001b[0m \u001b[0;32mfrom\u001b[0m \u001b[0mscipy\u001b[0m\u001b[0;34m.\u001b[0m\u001b[0mstats\u001b[0m \u001b[0;32mimport\u001b[0m \u001b[0mpearsonr\u001b[0m\u001b[0;34m\u001b[0m\u001b[0;34m\u001b[0m\u001b[0m\n\u001b[1;32m      2\u001b[0m \u001b[0;32mdef\u001b[0m \u001b[0mpearson_affinity\u001b[0m\u001b[0;34m(\u001b[0m\u001b[0mM\u001b[0m\u001b[0;34m)\u001b[0m\u001b[0;34m:\u001b[0m\u001b[0;34m\u001b[0m\u001b[0;34m\u001b[0m\u001b[0m\n\u001b[0;32m----> 3\u001b[0;31m     \u001b[0;32mreturn\u001b[0m \u001b[0;36m1\u001b[0m \u001b[0;34m-\u001b[0m \u001b[0mnp\u001b[0m\u001b[0;34m.\u001b[0m\u001b[0marray\u001b[0m\u001b[0;34m(\u001b[0m\u001b[0;34m[\u001b[0m\u001b[0;34m[\u001b[0m\u001b[0mpearsonr\u001b[0m\u001b[0;34m(\u001b[0m\u001b[0ma\u001b[0m\u001b[0;34m,\u001b[0m\u001b[0mb\u001b[0m\u001b[0;34m)\u001b[0m\u001b[0;34m[\u001b[0m\u001b[0;36m0\u001b[0m\u001b[0;34m]\u001b[0m \u001b[0;32mfor\u001b[0m \u001b[0ma\u001b[0m \u001b[0;32min\u001b[0m \u001b[0mM\u001b[0m\u001b[0;34m]\u001b[0m \u001b[0;32mfor\u001b[0m \u001b[0mb\u001b[0m \u001b[0;32min\u001b[0m \u001b[0mM\u001b[0m\u001b[0;34m]\u001b[0m\u001b[0;34m)\u001b[0m\u001b[0;34m\u001b[0m\u001b[0;34m\u001b[0m\u001b[0m\n\u001b[0m",
      "\u001b[0;32m~/miniconda3/envs/image2reg/lib/python3.8/site-packages/scipy/stats/stats.py\u001b[0m in \u001b[0;36mpearsonr\u001b[0;34m(x, y)\u001b[0m\n\u001b[1;32m   3910\u001b[0m \u001b[0;34m\u001b[0m\u001b[0m\n\u001b[1;32m   3911\u001b[0m     \u001b[0;31m# If an input is constant, the correlation coefficient is not defined.\u001b[0m\u001b[0;34m\u001b[0m\u001b[0;34m\u001b[0m\u001b[0;34m\u001b[0m\u001b[0m\n\u001b[0;32m-> 3912\u001b[0;31m     \u001b[0;32mif\u001b[0m \u001b[0;34m(\u001b[0m\u001b[0mx\u001b[0m \u001b[0;34m==\u001b[0m \u001b[0mx\u001b[0m\u001b[0;34m[\u001b[0m\u001b[0;36m0\u001b[0m\u001b[0;34m]\u001b[0m\u001b[0;34m)\u001b[0m\u001b[0;34m.\u001b[0m\u001b[0mall\u001b[0m\u001b[0;34m(\u001b[0m\u001b[0;34m)\u001b[0m \u001b[0;32mor\u001b[0m \u001b[0;34m(\u001b[0m\u001b[0my\u001b[0m \u001b[0;34m==\u001b[0m \u001b[0my\u001b[0m\u001b[0;34m[\u001b[0m\u001b[0;36m0\u001b[0m\u001b[0;34m]\u001b[0m\u001b[0;34m)\u001b[0m\u001b[0;34m.\u001b[0m\u001b[0mall\u001b[0m\u001b[0;34m(\u001b[0m\u001b[0;34m)\u001b[0m\u001b[0;34m:\u001b[0m\u001b[0;34m\u001b[0m\u001b[0;34m\u001b[0m\u001b[0m\n\u001b[0m\u001b[1;32m   3913\u001b[0m         \u001b[0mwarnings\u001b[0m\u001b[0;34m.\u001b[0m\u001b[0mwarn\u001b[0m\u001b[0;34m(\u001b[0m\u001b[0mPearsonRConstantInputWarning\u001b[0m\u001b[0;34m(\u001b[0m\u001b[0;34m)\u001b[0m\u001b[0;34m)\u001b[0m\u001b[0;34m\u001b[0m\u001b[0;34m\u001b[0m\u001b[0m\n\u001b[1;32m   3914\u001b[0m         \u001b[0;32mreturn\u001b[0m \u001b[0mnp\u001b[0m\u001b[0;34m.\u001b[0m\u001b[0mnan\u001b[0m\u001b[0;34m,\u001b[0m \u001b[0mnp\u001b[0m\u001b[0;34m.\u001b[0m\u001b[0mnan\u001b[0m\u001b[0;34m\u001b[0m\u001b[0;34m\u001b[0m\u001b[0m\n",
      "\u001b[0;31mIndexError\u001b[0m: too many indices for array: array is 0-dimensional, but 1 were indexed"
     ]
    }
   ],
   "source": [
    "sns.heatmap(pearson_affinity(l5_signatures.loc[[\"BCL2L1\", \"BCL2L11\", \"DDIT3\", \"GRB10\"]]))"
   ]
  },
  {
   "cell_type": "code",
   "execution_count": 210,
   "id": "7aa35c21",
   "metadata": {},
   "outputs": [],
   "source": [
    "import matplotlib.pyplot as plt"
   ]
  },
  {
   "cell_type": "code",
   "execution_count": 212,
   "id": "a943c4f2",
   "metadata": {},
   "outputs": [
    {
     "data": {
      "image/png": "[encoded data removed]",
      "text/plain": [
       "<Figure size 432x288 with 2 Axes>"
      ]
     },
     "metadata": {
      "needs_background": "light"
     },
     "output_type": "display_data"
    }
   ],
   "source": [
    "sns.heatmap(1 - l5_signatures.loc[[\"BAX\", \"BCL2L11\", \"DDIT3\", \"GRB10\"]].transpose().corr(method=\"spearman\").abs(), annot=True)\n",
    "plt.title(\"1-Spearman correlation DEG signatures\")\n",
    "plt.show()"
   ]
  },
  {
   "cell_type": "code",
   "execution_count": 205,
   "id": "2a4a2bf3",
   "metadata": {},
   "outputs": [
    {
     "data": {
      "text/plain": [
       "<AxesSubplot:>"
      ]
     },
     "execution_count": 205,
     "metadata": {},
     "output_type": "execute_result"
    },
    {
     "data": {
      "image/png": "[encoded data removed]",
      "text/plain": [
       "<Figure size 432x288 with 2 Axes>"
      ]
     },
     "metadata": {
      "needs_background": "light"
     },
     "output_type": "display_data"
    }
   ],
   "source": [
    "from sklearn.metrics.pairwise import cosine_similarity\n",
    "sns.heatmap(pd.DataFrame(1-cosine_similarity(l5_signatures.loc[[\"BAX\", \"BCL2L11\", \"DDIT3\", \"GRB10\"]]), index=[\"BAX\", \"BCL2L11\", \"DDIT3\", \"GRB10\"], columns=[\"BAX\", \"BCL2L11\", \"DDIT3\", \"GRB10\"]), annot=True)"
   ]
  },
  {
   "cell_type": "code",
   "execution_count": null,
   "id": "e1bc5490",
   "metadata": {},
   "outputs": [],
   "source": []
  }
 ],
 "metadata": {
  "kernelspec": {
   "display_name": "Python 3",
   "language": "python",
   "name": "python3"
  },
  "language_info": {
   "codemirror_mode": {
    "name": "ipython",
    "version": 3
   },
   "file_extension": ".py",
   "mimetype": "text/x-python",
   "name": "python",
   "nbconvert_exporter": "python",
   "pygments_lexer": "ipython3",
   "version": "3.8.10"
  }
 },
 "nbformat": 4,
 "nbformat_minor": 5
}
