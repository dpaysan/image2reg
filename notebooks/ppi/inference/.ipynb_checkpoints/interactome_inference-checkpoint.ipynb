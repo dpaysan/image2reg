{
 "cells": [
  {
   "cell_type": "markdown",
   "id": "bd5b8950",
   "metadata": {},
   "source": [
    "# Inference of the U2OS interactome\n",
    "\n",
    "---\n",
    "\n",
    "This notebook will build up on previous analyses and aims to derive the interactome of the population of U2OS cells. To this end, we will examine different configurations of input graphs, prize assignment and edge weights used in a sensititivity analysis procedure. For each different configuration we will infer the Prize collecting Steiner tree to identify Steiner and terminal nodes which will define the space of the cell-type specific interactome.\n",
    "\n",
    "---"
   ]
  },
  {
   "cell_type": "markdown",
   "id": "6e09368f",
   "metadata": {},
   "source": [
    "## 0. Environmental setup"
   ]
  },
  {
   "cell_type": "code",
   "execution_count": 2,
   "id": "ac17144c",
   "metadata": {},
   "outputs": [
    {
     "name": "stdout",
     "output_type": "stream",
     "text": [
      "The nb_black extension is already loaded. To reload it, use:\n",
      "  %reload_ext nb_black\n"
     ]
    },
    {
     "data": {
      "application/javascript": [
       "\n",
       "            setTimeout(function() {\n",
       "                var nbb_cell_id = 2;\n",
       "                var nbb_unformatted_code = \"import numpy as np\\nimport pandas as pd\\nfrom pcst_fast import pcst_fast\\nimport networkx as nx\\nimport random\\nfrom tqdm import tqdm\\nimport community\\nimport matplotlib.pyplot as plt\\nimport seaborn as sns\\nimport matplotlib.cm as cm\\nimport sys\\nimport os\\n\\nsys.path.append(\\\"../../..\\\")\\nfrom src.utils.notebooks.ppi.inference import *\\n\\nseed = 1234\\nnp.random.seed(seed)\\nrandom.seed(seed)\\n\\n%load_ext nb_black\";\n",
       "                var nbb_formatted_code = \"import numpy as np\\nimport pandas as pd\\nfrom pcst_fast import pcst_fast\\nimport networkx as nx\\nimport random\\nfrom tqdm import tqdm\\nimport community\\nimport matplotlib.pyplot as plt\\nimport seaborn as sns\\nimport matplotlib.cm as cm\\nimport sys\\nimport os\\n\\nsys.path.append(\\\"../../..\\\")\\nfrom src.utils.notebooks.ppi.inference import *\\n\\nseed = 1234\\nnp.random.seed(seed)\\nrandom.seed(seed)\\n\\n%load_ext nb_black\";\n",
       "                var nbb_cells = Jupyter.notebook.get_cells();\n",
       "                for (var i = 0; i < nbb_cells.length; ++i) {\n",
       "                    if (nbb_cells[i].input_prompt_number == nbb_cell_id) {\n",
       "                        if (nbb_cells[i].get_text() == nbb_unformatted_code) {\n",
       "                             nbb_cells[i].set_text(nbb_formatted_code);\n",
       "                        }\n",
       "                        break;\n",
       "                    }\n",
       "                }\n",
       "            }, 500);\n",
       "            "
      ],
      "text/plain": [
       "<IPython.core.display.Javascript object>"
      ]
     },
     "metadata": {},
     "output_type": "display_data"
    }
   ],
   "source": [
    "import numpy as np\n",
    "import pandas as pd\n",
    "from pcst_fast import pcst_fast\n",
    "import networkx as nx\n",
    "import random\n",
    "from tqdm import tqdm\n",
    "import community\n",
    "import matplotlib.pyplot as plt\n",
    "import seaborn as sns\n",
    "import matplotlib.cm as cm\n",
    "import sys\n",
    "import os\n",
    "\n",
    "sys.path.append(\"../../..\")\n",
    "from src.utils.notebooks.ppi.inference import *\n",
    "\n",
    "seed = 1234\n",
    "np.random.seed(seed)\n",
    "random.seed(seed)\n",
    "\n",
    "%load_ext nb_black"
   ]
  },
  {
   "cell_type": "markdown",
   "id": "4bcc69b3",
   "metadata": {},
   "source": [
    "---\n",
    "\n",
    "## 1. Read in data"
   ]
  },
  {
   "cell_type": "markdown",
   "id": "69b402d7",
   "metadata": {},
   "source": [
    "First, we will read in the different prepared PPI networks. In particular we will load:\n",
    "1. ``conf_hub_ppi``: Protein-Protein network were we removed low-confidence edges setting a threshold on 1-MINT-inspired score equal to 0.562. Additionally, we pruned the network to remove the nodes that were in the upper 0.24-percentile of the degree distribution in the confidence pruned PPI. This leads to a network that spanned 181/185 (41/44 specific) ORF targets. The prizes were assigned to be absolute log-fold change when comparing the expression in U2OS cells against 1'377 other cancer cell lines from the CCLE data set. The specific ORF targets were assigned the maximum prize to ensure their inclusion in the derived networks.\n",
    "2. ``hub_ppi``: Similar setup as for ``conf_hub_ppi`` but this time we did not removed low-confidence edges. Instead, we will use the uncertainty measures for the edges as respective edge weights to focus on high-confidence edges when computing the PCST solution. Additionally, we only removed the nodes in the upper 0.1-percentile of the degree distribution.\n",
    "3. ``conf_hub3_ppi``: Similar setup as for ``conf_hub_ppi`` but this time we did not removed the nodes in the upper 0.24 percentile of the degree distribution, but only the top-3 hub nodes which corresponds to a selection based on elbow of the degree distribution.\n",
    "4. ``conf_hub3_mu_ppi``: Similar setup as for ``conf_hub3_ppi`` but this time we additionaly reduced the prizes by 0.0005 * degree of the individual nodes inspired by the work of Akhmedov et al. (2017)."
   ]
  },
  {
   "cell_type": "code",
   "execution_count": 4,
   "id": "447aac00",
   "metadata": {},
   "outputs": [
    {
     "name": "stdout",
     "output_type": "stream",
     "text": [
      "Name: conf_hub_ppi\n",
      "Type: Graph\n",
      "Number of nodes: 9062\n",
      "Number of edges: 43029\n",
      "Average degree:   9.4966\n",
      " \n",
      "Name: hub_ppi\n",
      "Type: Graph\n",
      "Number of nodes: 12943\n",
      "Number of edges: 133995\n",
      "Average degree:  20.7054\n",
      " \n",
      "Name: conf_hub3_ppi\n",
      "Type: Graph\n",
      "Number of nodes: 9142\n",
      "Number of edges: 45642\n",
      "Average degree:   9.9851\n",
      " \n",
      "Name: conf_hub3_mu_ppi\n",
      "Type: Graph\n",
      "Number of nodes: 9142\n",
      "Number of edges: 45642\n",
      "Average degree:   9.9851\n"
     ]
    },
    {
     "data": {
      "application/javascript": [
       "\n",
       "            setTimeout(function() {\n",
       "                var nbb_cell_id = 4;\n",
       "                var nbb_unformatted_code = \"conf_hub_ppi = nx.read_gpickle(\\n    \\\"../../../data/ppi/preprocessing/cv/ppi_confidence_0562_hub_9988_pruned_ccle_abslogfc_orf_maxp_spearmanr_cv.pkl\\\"\\n)\\nconf_hub_ppi.name = \\\"conf_hub_ppi\\\"\\nprint(nx.info(conf_hub_ppi))\\n\\nprint(\\\" \\\")\\nhub_ppi = nx.read_gpickle(\\n    \\\"../../../data/ppi/preprocessing/cv/ppi_hub_999_pruned_ccle_abslogfc_orf_maxp_spearmanr_cv.pkl\\\"\\n)\\nhub_ppi.name = \\\"hub_ppi\\\"\\nprint(nx.info(hub_ppi))\\n\\nprint(\\\" \\\")\\nconf_hub3_ppi = nx.read_gpickle(\\n    \\\"../../../data/ppi/preprocessing/cv/ppi_confidence_0562_hub_top3_pruned_ccle_abslogfc_orf_maxp_spearmanr_mu0_cv.pkl\\\"\\n)\\nconf_hub3_ppi.name = \\\"conf_hub3_ppi\\\"\\nprint(nx.info(conf_hub3_ppi))\\n\\nprint(\\\" \\\")\\nconf_hub3_mu_ppi = nx.read_gpickle(\\n    \\\"../../../data/ppi/preprocessing/cv/ppi_confidence_0562_hub_top3_pruned_ccle_abslogfc_orf_maxp_spearmanr_mu5e-4_cv.pkl\\\"\\n)\\nconf_hub3_mu_ppi.name = \\\"conf_hub3_mu_ppi\\\"\\nprint(nx.info(conf_hub3_mu_ppi))\";\n",
       "                var nbb_formatted_code = \"conf_hub_ppi = nx.read_gpickle(\\n    \\\"../../../data/ppi/preprocessing/cv/ppi_confidence_0562_hub_9988_pruned_ccle_abslogfc_orf_maxp_spearmanr_cv.pkl\\\"\\n)\\nconf_hub_ppi.name = \\\"conf_hub_ppi\\\"\\nprint(nx.info(conf_hub_ppi))\\n\\nprint(\\\" \\\")\\nhub_ppi = nx.read_gpickle(\\n    \\\"../../../data/ppi/preprocessing/cv/ppi_hub_999_pruned_ccle_abslogfc_orf_maxp_spearmanr_cv.pkl\\\"\\n)\\nhub_ppi.name = \\\"hub_ppi\\\"\\nprint(nx.info(hub_ppi))\\n\\nprint(\\\" \\\")\\nconf_hub3_ppi = nx.read_gpickle(\\n    \\\"../../../data/ppi/preprocessing/cv/ppi_confidence_0562_hub_top3_pruned_ccle_abslogfc_orf_maxp_spearmanr_mu0_cv.pkl\\\"\\n)\\nconf_hub3_ppi.name = \\\"conf_hub3_ppi\\\"\\nprint(nx.info(conf_hub3_ppi))\\n\\nprint(\\\" \\\")\\nconf_hub3_mu_ppi = nx.read_gpickle(\\n    \\\"../../../data/ppi/preprocessing/cv/ppi_confidence_0562_hub_top3_pruned_ccle_abslogfc_orf_maxp_spearmanr_mu5e-4_cv.pkl\\\"\\n)\\nconf_hub3_mu_ppi.name = \\\"conf_hub3_mu_ppi\\\"\\nprint(nx.info(conf_hub3_mu_ppi))\";\n",
       "                var nbb_cells = Jupyter.notebook.get_cells();\n",
       "                for (var i = 0; i < nbb_cells.length; ++i) {\n",
       "                    if (nbb_cells[i].input_prompt_number == nbb_cell_id) {\n",
       "                        if (nbb_cells[i].get_text() == nbb_unformatted_code) {\n",
       "                             nbb_cells[i].set_text(nbb_formatted_code);\n",
       "                        }\n",
       "                        break;\n",
       "                    }\n",
       "                }\n",
       "            }, 500);\n",
       "            "
      ],
      "text/plain": [
       "<IPython.core.display.Javascript object>"
      ]
     },
     "metadata": {},
     "output_type": "display_data"
    }
   ],
   "source": [
    "conf_hub_ppi = nx.read_gpickle(\n",
    "    \"../../../data/ppi/preprocessing/cv/ppi_confidence_0562_hub_9988_pruned_ccle_abslogfc_orf_maxp_spearmanr_cv.pkl\"\n",
    ")\n",
    "conf_hub_ppi.name = \"conf_hub_ppi\"\n",
    "print(nx.info(conf_hub_ppi))\n",
    "\n",
    "print(\" \")\n",
    "hub_ppi = nx.read_gpickle(\n",
    "    \"../../../data/ppi/preprocessing/cv/ppi_hub_999_pruned_ccle_abslogfc_orf_maxp_spearmanr_cv.pkl\"\n",
    ")\n",
    "hub_ppi.name = \"hub_ppi\"\n",
    "print(nx.info(hub_ppi))\n",
    "\n",
    "print(\" \")\n",
    "conf_hub3_ppi = nx.read_gpickle(\n",
    "    \"../../../data/ppi/preprocessing/cv/ppi_confidence_0562_hub_top3_pruned_ccle_abslogfc_orf_maxp_spearmanr_mu0_cv.pkl\"\n",
    ")\n",
    "conf_hub3_ppi.name = \"conf_hub3_ppi\"\n",
    "print(nx.info(conf_hub3_ppi))\n",
    "\n",
    "print(\" \")\n",
    "conf_hub3_mu_ppi = nx.read_gpickle(\n",
    "    \"../../../data/ppi/preprocessing/cv/ppi_confidence_0562_hub_top3_pruned_ccle_abslogfc_orf_maxp_spearmanr_mu5e-4_cv.pkl\"\n",
    ")\n",
    "conf_hub3_mu_ppi.name = \"conf_hub3_mu_ppi\"\n",
    "print(nx.info(conf_hub3_mu_ppi))"
   ]
  },
  {
   "cell_type": "code",
   "execution_count": 5,
   "id": "9078ec48",
   "metadata": {},
   "outputs": [
    {
     "data": {
      "application/javascript": [
       "\n",
       "            setTimeout(function() {\n",
       "                var nbb_cell_id = 5;\n",
       "                var nbb_unformatted_code = \"spec_results = pd.read_csv(\\n    \\\"../../../data/other/specificity_screen_results_cv.csv\\\", index_col=0\\n)\\norf_targets = set(spec_results.index)\\nspecific_targets = set(spec_results.loc[spec_results[\\\"selected\\\"]].index)\";\n",
       "                var nbb_formatted_code = \"spec_results = pd.read_csv(\\n    \\\"../../../data/other/specificity_screen_results_cv.csv\\\", index_col=0\\n)\\norf_targets = set(spec_results.index)\\nspecific_targets = set(spec_results.loc[spec_results[\\\"selected\\\"]].index)\";\n",
       "                var nbb_cells = Jupyter.notebook.get_cells();\n",
       "                for (var i = 0; i < nbb_cells.length; ++i) {\n",
       "                    if (nbb_cells[i].input_prompt_number == nbb_cell_id) {\n",
       "                        if (nbb_cells[i].get_text() == nbb_unformatted_code) {\n",
       "                             nbb_cells[i].set_text(nbb_formatted_code);\n",
       "                        }\n",
       "                        break;\n",
       "                    }\n",
       "                }\n",
       "            }, 500);\n",
       "            "
      ],
      "text/plain": [
       "<IPython.core.display.Javascript object>"
      ]
     },
     "metadata": {},
     "output_type": "display_data"
    }
   ],
   "source": [
    "spec_results = pd.read_csv(\n",
    "    \"../../../data/other/specificity_screen_results_cv.csv\", index_col=0\n",
    ")\n",
    "orf_targets = set(spec_results.index)\n",
    "specific_targets = set(spec_results.loc[spec_results[\"selected\"]].index)"
   ]
  },
  {
   "cell_type": "markdown",
   "id": "504b21bf",
   "metadata": {},
   "source": [
    "---\n",
    "\n",
    "## 2. Run PCST-based inference\n",
    "\n",
    "Using the above data, we will approximately solve the PCST problem for different choice of $\\beta$ in the PCST objectives, i.e. the prize factor. We aim to identify a stable subgraph from the confidence pruned humna PPI that describes the cell-type specific interactome of U2OS cells best.\n",
    "\n",
    "We will vary the hyperparameter of beta from 0 to 10 by 0.1 to have a good trade-off of sufficient coverage and run-time."
   ]
  },
  {
   "cell_type": "code",
   "execution_count": 9,
   "id": "7580e844",
   "metadata": {},
   "outputs": [
    {
     "data": {
      "application/javascript": [
       "\n",
       "            setTimeout(function() {\n",
       "                var nbb_cell_id = 9;\n",
       "                var nbb_unformatted_code = \"bs = np.arange(0.1, 10, 0.1)\";\n",
       "                var nbb_formatted_code = \"bs = np.arange(0.1, 10, 0.1)\";\n",
       "                var nbb_cells = Jupyter.notebook.get_cells();\n",
       "                for (var i = 0; i < nbb_cells.length; ++i) {\n",
       "                    if (nbb_cells[i].input_prompt_number == nbb_cell_id) {\n",
       "                        if (nbb_cells[i].get_text() == nbb_unformatted_code) {\n",
       "                             nbb_cells[i].set_text(nbb_formatted_code);\n",
       "                        }\n",
       "                        break;\n",
       "                    }\n",
       "                }\n",
       "            }, 500);\n",
       "            "
      ],
      "text/plain": [
       "<IPython.core.display.Javascript object>"
      ]
     },
     "metadata": {},
     "output_type": "display_data"
    }
   ],
   "source": [
    "bs = np.arange(0.1, 10, 0.1)"
   ]
  },
  {
   "cell_type": "markdown",
   "id": "eca9b3ad",
   "metadata": {},
   "source": [
    "### 2.1. Confidence-hub network\n",
    "\n",
    "The first input graph that we will run the PCST sensitivity analyses on is the ``conf_hub_ppi``. We will use different metrics for the edge weights, namely the Mint-inspired score-derived edge costs, the costs based on the Spearman correlation from the scRNAseq data set as well as those based on the Pearson correlation."
   ]
  },
  {
   "cell_type": "markdown",
   "id": "64e2b46c",
   "metadata": {},
   "source": [
    "#### 2.1.a. MINT inspired edge costs"
   ]
  },
  {
   "cell_type": "code",
   "execution_count": 10,
   "id": "a8f16b5b",
   "metadata": {},
   "outputs": [
    {
     "name": "stderr",
     "output_type": "stream",
     "text": [
      "Compute PCSTs: 100%|██████████| 99/99 [00:06<00:00, 15.35it/s]\n"
     ]
    },
    {
     "data": {
      "application/javascript": [
       "\n",
       "            setTimeout(function() {\n",
       "                var nbb_cell_id = 10;\n",
       "                var nbb_unformatted_code = \"(\\n    conf_hub_pcst_mis_dict,\\n    augmented_conf_hub_pcst_mis_dict,\\n) = run_pcst_sensitivity_analyses(\\n    graph=conf_hub_ppi,\\n    bs=bs,\\n    prize_key=\\\"prize\\\",\\n    weight_key=\\\"mi_score\\\",\\n    minmax_scale=True,\\n)\";\n",
       "                var nbb_formatted_code = \"(\\n    conf_hub_pcst_mis_dict,\\n    augmented_conf_hub_pcst_mis_dict,\\n) = run_pcst_sensitivity_analyses(\\n    graph=conf_hub_ppi,\\n    bs=bs,\\n    prize_key=\\\"prize\\\",\\n    weight_key=\\\"mi_score\\\",\\n    minmax_scale=True,\\n)\";\n",
       "                var nbb_cells = Jupyter.notebook.get_cells();\n",
       "                for (var i = 0; i < nbb_cells.length; ++i) {\n",
       "                    if (nbb_cells[i].input_prompt_number == nbb_cell_id) {\n",
       "                        if (nbb_cells[i].get_text() == nbb_unformatted_code) {\n",
       "                             nbb_cells[i].set_text(nbb_formatted_code);\n",
       "                        }\n",
       "                        break;\n",
       "                    }\n",
       "                }\n",
       "            }, 500);\n",
       "            "
      ],
      "text/plain": [
       "<IPython.core.display.Javascript object>"
      ]
     },
     "metadata": {},
     "output_type": "display_data"
    }
   ],
   "source": [
    "(\n",
    "    conf_hub_pcst_mis_dict,\n",
    "    augmented_conf_hub_pcst_mis_dict,\n",
    ") = run_pcst_sensitivity_analyses(\n",
    "    graph=conf_hub_ppi,\n",
    "    bs=bs,\n",
    "    prize_key=\"prize\",\n",
    "    weight_key=\"mi_score\",\n",
    "    minmax_scale=True,\n",
    ")"
   ]
  },
  {
   "cell_type": "markdown",
   "id": "32f5069a",
   "metadata": {},
   "source": [
    "The function outputs the derived PCST solutions as well as the subgraphs of the input network induced by node set of the PCST solution. "
   ]
  },
  {
   "cell_type": "markdown",
   "id": "ed9b71c7",
   "metadata": {},
   "source": [
    "We will now analyze the different trees that were constructed for the varying parameter $\\beta$."
   ]
  },
  {
   "cell_type": "code",
   "execution_count": 11,
   "id": "4ef531e8",
   "metadata": {},
   "outputs": [
    {
     "name": "stderr",
     "output_type": "stream",
     "text": [
      "Analyze tree: 100%|██████████| 99/99 [00:36<00:00,  2.75it/s]\n"
     ]
    },
    {
     "data": {
      "text/html": [
       "<div>\n",
       "<style scoped>\n",
       "    .dataframe tbody tr th:only-of-type {\n",
       "        vertical-align: middle;\n",
       "    }\n",
       "\n",
       "    .dataframe tbody tr th {\n",
       "        vertical-align: top;\n",
       "    }\n",
       "\n",
       "    .dataframe thead th {\n",
       "        text-align: right;\n",
       "    }\n",
       "</style>\n",
       "<table border=\"1\" class=\"dataframe\">\n",
       "  <thead>\n",
       "    <tr style=\"text-align: right;\">\n",
       "      <th></th>\n",
       "      <th>beta</th>\n",
       "      <th>n_nodes</th>\n",
       "      <th>n_edges</th>\n",
       "      <th>n_connected_components</th>\n",
       "      <th>n_louvain_clusters</th>\n",
       "      <th>avg_node_degree</th>\n",
       "      <th>std_node_degree</th>\n",
       "      <th>n_leaf_nodes</th>\n",
       "      <th>n_target_nodes</th>\n",
       "      <th>n_spec_target_nodes</th>\n",
       "      <th>n_spec_target_leafs</th>\n",
       "      <th>avg_spec_target_degree</th>\n",
       "      <th>std_spec_target_degree</th>\n",
       "    </tr>\n",
       "  </thead>\n",
       "  <tbody>\n",
       "    <tr>\n",
       "      <th>conf_hub_ppi_b_0.6</th>\n",
       "      <td>0.6</td>\n",
       "      <td>356</td>\n",
       "      <td>355</td>\n",
       "      <td>1</td>\n",
       "      <td>19</td>\n",
       "      <td>1.994382</td>\n",
       "      <td>1.565058</td>\n",
       "      <td>179</td>\n",
       "      <td>103</td>\n",
       "      <td>43</td>\n",
       "      <td>30</td>\n",
       "      <td>1.720930</td>\n",
       "      <td>1.514666</td>\n",
       "    </tr>\n",
       "    <tr>\n",
       "      <th>conf_hub_ppi_b_0.7</th>\n",
       "      <td>0.7</td>\n",
       "      <td>432</td>\n",
       "      <td>431</td>\n",
       "      <td>1</td>\n",
       "      <td>22</td>\n",
       "      <td>1.995370</td>\n",
       "      <td>1.585518</td>\n",
       "      <td>222</td>\n",
       "      <td>108</td>\n",
       "      <td>43</td>\n",
       "      <td>30</td>\n",
       "      <td>1.813953</td>\n",
       "      <td>1.617575</td>\n",
       "    </tr>\n",
       "    <tr>\n",
       "      <th>conf_hub_ppi_b_0.8</th>\n",
       "      <td>0.8</td>\n",
       "      <td>529</td>\n",
       "      <td>528</td>\n",
       "      <td>1</td>\n",
       "      <td>25</td>\n",
       "      <td>1.996219</td>\n",
       "      <td>1.601035</td>\n",
       "      <td>277</td>\n",
       "      <td>111</td>\n",
       "      <td>43</td>\n",
       "      <td>29</td>\n",
       "      <td>1.860465</td>\n",
       "      <td>1.622249</td>\n",
       "    </tr>\n",
       "    <tr>\n",
       "      <th>conf_hub_ppi_b_0.9</th>\n",
       "      <td>0.9</td>\n",
       "      <td>624</td>\n",
       "      <td>623</td>\n",
       "      <td>1</td>\n",
       "      <td>27</td>\n",
       "      <td>1.996795</td>\n",
       "      <td>1.632008</td>\n",
       "      <td>320</td>\n",
       "      <td>114</td>\n",
       "      <td>43</td>\n",
       "      <td>28</td>\n",
       "      <td>1.930233</td>\n",
       "      <td>1.662099</td>\n",
       "    </tr>\n",
       "    <tr>\n",
       "      <th>conf_hub_ppi_b_1.0</th>\n",
       "      <td>1.0</td>\n",
       "      <td>725</td>\n",
       "      <td>724</td>\n",
       "      <td>1</td>\n",
       "      <td>29</td>\n",
       "      <td>1.997241</td>\n",
       "      <td>1.691355</td>\n",
       "      <td>377</td>\n",
       "      <td>116</td>\n",
       "      <td>43</td>\n",
       "      <td>28</td>\n",
       "      <td>2.093023</td>\n",
       "      <td>1.986161</td>\n",
       "    </tr>\n",
       "    <tr>\n",
       "      <th>...</th>\n",
       "      <td>...</td>\n",
       "      <td>...</td>\n",
       "      <td>...</td>\n",
       "      <td>...</td>\n",
       "      <td>...</td>\n",
       "      <td>...</td>\n",
       "      <td>...</td>\n",
       "      <td>...</td>\n",
       "      <td>...</td>\n",
       "      <td>...</td>\n",
       "      <td>...</td>\n",
       "      <td>...</td>\n",
       "      <td>...</td>\n",
       "    </tr>\n",
       "    <tr>\n",
       "      <th>conf_hub_ppi_b_9.5</th>\n",
       "      <td>9.5</td>\n",
       "      <td>6421</td>\n",
       "      <td>6420</td>\n",
       "      <td>1</td>\n",
       "      <td>80</td>\n",
       "      <td>1.999689</td>\n",
       "      <td>2.499213</td>\n",
       "      <td>3987</td>\n",
       "      <td>177</td>\n",
       "      <td>43</td>\n",
       "      <td>13</td>\n",
       "      <td>5.581395</td>\n",
       "      <td>7.260061</td>\n",
       "    </tr>\n",
       "    <tr>\n",
       "      <th>conf_hub_ppi_b_9.6</th>\n",
       "      <td>9.6</td>\n",
       "      <td>6440</td>\n",
       "      <td>6439</td>\n",
       "      <td>1</td>\n",
       "      <td>81</td>\n",
       "      <td>1.999689</td>\n",
       "      <td>2.488171</td>\n",
       "      <td>3989</td>\n",
       "      <td>177</td>\n",
       "      <td>43</td>\n",
       "      <td>13</td>\n",
       "      <td>5.558140</td>\n",
       "      <td>7.320892</td>\n",
       "    </tr>\n",
       "    <tr>\n",
       "      <th>conf_hub_ppi_b_9.7</th>\n",
       "      <td>9.7</td>\n",
       "      <td>6468</td>\n",
       "      <td>6467</td>\n",
       "      <td>1</td>\n",
       "      <td>76</td>\n",
       "      <td>1.999691</td>\n",
       "      <td>2.469542</td>\n",
       "      <td>3989</td>\n",
       "      <td>177</td>\n",
       "      <td>43</td>\n",
       "      <td>14</td>\n",
       "      <td>5.488372</td>\n",
       "      <td>7.189696</td>\n",
       "    </tr>\n",
       "    <tr>\n",
       "      <th>conf_hub_ppi_b_9.8</th>\n",
       "      <td>9.8</td>\n",
       "      <td>6484</td>\n",
       "      <td>6483</td>\n",
       "      <td>1</td>\n",
       "      <td>83</td>\n",
       "      <td>1.999692</td>\n",
       "      <td>2.522692</td>\n",
       "      <td>4049</td>\n",
       "      <td>177</td>\n",
       "      <td>43</td>\n",
       "      <td>14</td>\n",
       "      <td>5.604651</td>\n",
       "      <td>7.740379</td>\n",
       "    </tr>\n",
       "    <tr>\n",
       "      <th>conf_hub_ppi_b_9.9</th>\n",
       "      <td>9.9</td>\n",
       "      <td>6492</td>\n",
       "      <td>6491</td>\n",
       "      <td>1</td>\n",
       "      <td>80</td>\n",
       "      <td>1.999692</td>\n",
       "      <td>2.548362</td>\n",
       "      <td>4085</td>\n",
       "      <td>177</td>\n",
       "      <td>43</td>\n",
       "      <td>14</td>\n",
       "      <td>5.511628</td>\n",
       "      <td>7.196162</td>\n",
       "    </tr>\n",
       "  </tbody>\n",
       "</table>\n",
       "<p>94 rows × 13 columns</p>\n",
       "</div>"
      ],
      "text/plain": [
       "                    beta  n_nodes  n_edges  n_connected_components  \\\n",
       "conf_hub_ppi_b_0.6   0.6      356      355                       1   \n",
       "conf_hub_ppi_b_0.7   0.7      432      431                       1   \n",
       "conf_hub_ppi_b_0.8   0.8      529      528                       1   \n",
       "conf_hub_ppi_b_0.9   0.9      624      623                       1   \n",
       "conf_hub_ppi_b_1.0   1.0      725      724                       1   \n",
       "...                  ...      ...      ...                     ...   \n",
       "conf_hub_ppi_b_9.5   9.5     6421     6420                       1   \n",
       "conf_hub_ppi_b_9.6   9.6     6440     6439                       1   \n",
       "conf_hub_ppi_b_9.7   9.7     6468     6467                       1   \n",
       "conf_hub_ppi_b_9.8   9.8     6484     6483                       1   \n",
       "conf_hub_ppi_b_9.9   9.9     6492     6491                       1   \n",
       "\n",
       "                    n_louvain_clusters  avg_node_degree  std_node_degree  \\\n",
       "conf_hub_ppi_b_0.6                  19         1.994382         1.565058   \n",
       "conf_hub_ppi_b_0.7                  22         1.995370         1.585518   \n",
       "conf_hub_ppi_b_0.8                  25         1.996219         1.601035   \n",
       "conf_hub_ppi_b_0.9                  27         1.996795         1.632008   \n",
       "conf_hub_ppi_b_1.0                  29         1.997241         1.691355   \n",
       "...                                ...              ...              ...   \n",
       "conf_hub_ppi_b_9.5                  80         1.999689         2.499213   \n",
       "conf_hub_ppi_b_9.6                  81         1.999689         2.488171   \n",
       "conf_hub_ppi_b_9.7                  76         1.999691         2.469542   \n",
       "conf_hub_ppi_b_9.8                  83         1.999692         2.522692   \n",
       "conf_hub_ppi_b_9.9                  80         1.999692         2.548362   \n",
       "\n",
       "                    n_leaf_nodes  n_target_nodes  n_spec_target_nodes  \\\n",
       "conf_hub_ppi_b_0.6           179             103                   43   \n",
       "conf_hub_ppi_b_0.7           222             108                   43   \n",
       "conf_hub_ppi_b_0.8           277             111                   43   \n",
       "conf_hub_ppi_b_0.9           320             114                   43   \n",
       "conf_hub_ppi_b_1.0           377             116                   43   \n",
       "...                          ...             ...                  ...   \n",
       "conf_hub_ppi_b_9.5          3987             177                   43   \n",
       "conf_hub_ppi_b_9.6          3989             177                   43   \n",
       "conf_hub_ppi_b_9.7          3989             177                   43   \n",
       "conf_hub_ppi_b_9.8          4049             177                   43   \n",
       "conf_hub_ppi_b_9.9          4085             177                   43   \n",
       "\n",
       "                    n_spec_target_leafs  avg_spec_target_degree  \\\n",
       "conf_hub_ppi_b_0.6                   30                1.720930   \n",
       "conf_hub_ppi_b_0.7                   30                1.813953   \n",
       "conf_hub_ppi_b_0.8                   29                1.860465   \n",
       "conf_hub_ppi_b_0.9                   28                1.930233   \n",
       "conf_hub_ppi_b_1.0                   28                2.093023   \n",
       "...                                 ...                     ...   \n",
       "conf_hub_ppi_b_9.5                   13                5.581395   \n",
       "conf_hub_ppi_b_9.6                   13                5.558140   \n",
       "conf_hub_ppi_b_9.7                   14                5.488372   \n",
       "conf_hub_ppi_b_9.8                   14                5.604651   \n",
       "conf_hub_ppi_b_9.9                   14                5.511628   \n",
       "\n",
       "                    std_spec_target_degree  \n",
       "conf_hub_ppi_b_0.6                1.514666  \n",
       "conf_hub_ppi_b_0.7                1.617575  \n",
       "conf_hub_ppi_b_0.8                1.622249  \n",
       "conf_hub_ppi_b_0.9                1.662099  \n",
       "conf_hub_ppi_b_1.0                1.986161  \n",
       "...                                    ...  \n",
       "conf_hub_ppi_b_9.5                7.260061  \n",
       "conf_hub_ppi_b_9.6                7.320892  \n",
       "conf_hub_ppi_b_9.7                7.189696  \n",
       "conf_hub_ppi_b_9.8                7.740379  \n",
       "conf_hub_ppi_b_9.9                7.196162  \n",
       "\n",
       "[94 rows x 13 columns]"
      ]
     },
     "execution_count": 11,
     "metadata": {},
     "output_type": "execute_result"
    },
    {
     "data": {
      "application/javascript": [
       "\n",
       "            setTimeout(function() {\n",
       "                var nbb_cell_id = 11;\n",
       "                var nbb_unformatted_code = \"conf_hub_pcst_mis_results = analyze_pcst_sensitivity_analyses_results(\\n    conf_hub_pcst_mis_dict, target_nodes=orf_targets, spec_targets=specific_targets\\n)\\nconf_hub_pcst_mis_results.loc[\\n    conf_hub_pcst_mis_results[\\\"n_spec_target_nodes\\\"]\\n    == np.max(conf_hub_pcst_mis_results[\\\"n_spec_target_nodes\\\"])\\n].sort_values(\\\"beta\\\")\";\n",
       "                var nbb_formatted_code = \"conf_hub_pcst_mis_results = analyze_pcst_sensitivity_analyses_results(\\n    conf_hub_pcst_mis_dict, target_nodes=orf_targets, spec_targets=specific_targets\\n)\\nconf_hub_pcst_mis_results.loc[\\n    conf_hub_pcst_mis_results[\\\"n_spec_target_nodes\\\"]\\n    == np.max(conf_hub_pcst_mis_results[\\\"n_spec_target_nodes\\\"])\\n].sort_values(\\\"beta\\\")\";\n",
       "                var nbb_cells = Jupyter.notebook.get_cells();\n",
       "                for (var i = 0; i < nbb_cells.length; ++i) {\n",
       "                    if (nbb_cells[i].input_prompt_number == nbb_cell_id) {\n",
       "                        if (nbb_cells[i].get_text() == nbb_unformatted_code) {\n",
       "                             nbb_cells[i].set_text(nbb_formatted_code);\n",
       "                        }\n",
       "                        break;\n",
       "                    }\n",
       "                }\n",
       "            }, 500);\n",
       "            "
      ],
      "text/plain": [
       "<IPython.core.display.Javascript object>"
      ]
     },
     "metadata": {},
     "output_type": "display_data"
    }
   ],
   "source": [
    "conf_hub_pcst_mis_results = analyze_pcst_sensitivity_analyses_results(\n",
    "    conf_hub_pcst_mis_dict, target_nodes=orf_targets, spec_targets=specific_targets\n",
    ")\n",
    "conf_hub_pcst_mis_results.loc[\n",
    "    conf_hub_pcst_mis_results[\"n_spec_target_nodes\"]\n",
    "    == np.max(conf_hub_pcst_mis_results[\"n_spec_target_nodes\"])\n",
    "].sort_values(\"beta\")"
   ]
  },
  {
   "cell_type": "markdown",
   "id": "5d17dc54",
   "metadata": {},
   "source": [
    "We see that for $\\beta\\geq 0.6$ we the PCST solution covers all specific 40 ORF targets that are covered in the input graph. We will not look into those solution in too much detail as we expect the interactome to not follow a tree structure. Thus, we will instead look at the augmented tree solutions that are the subgraph induced by the node set of the PCST solutions."
   ]
  },
  {
   "cell_type": "code",
   "execution_count": 12,
   "id": "705b9551",
   "metadata": {},
   "outputs": [
    {
     "name": "stderr",
     "output_type": "stream",
     "text": [
      "Analyze tree: 100%|██████████| 99/99 [01:21<00:00,  1.21it/s]\n"
     ]
    },
    {
     "data": {
      "text/html": [
       "<div>\n",
       "<style scoped>\n",
       "    .dataframe tbody tr th:only-of-type {\n",
       "        vertical-align: middle;\n",
       "    }\n",
       "\n",
       "    .dataframe tbody tr th {\n",
       "        vertical-align: top;\n",
       "    }\n",
       "\n",
       "    .dataframe thead th {\n",
       "        text-align: right;\n",
       "    }\n",
       "</style>\n",
       "<table border=\"1\" class=\"dataframe\">\n",
       "  <thead>\n",
       "    <tr style=\"text-align: right;\">\n",
       "      <th></th>\n",
       "      <th>beta</th>\n",
       "      <th>n_nodes</th>\n",
       "      <th>n_edges</th>\n",
       "      <th>n_connected_components</th>\n",
       "      <th>n_louvain_clusters</th>\n",
       "      <th>avg_node_degree</th>\n",
       "      <th>std_node_degree</th>\n",
       "      <th>n_leaf_nodes</th>\n",
       "      <th>n_target_nodes</th>\n",
       "      <th>n_spec_target_nodes</th>\n",
       "      <th>n_spec_target_leafs</th>\n",
       "      <th>avg_spec_target_degree</th>\n",
       "      <th>std_spec_target_degree</th>\n",
       "    </tr>\n",
       "  </thead>\n",
       "  <tbody>\n",
       "    <tr>\n",
       "      <th>augmented_conf_hub_ppi_b_0.6</th>\n",
       "      <td>0.6</td>\n",
       "      <td>356</td>\n",
       "      <td>2267</td>\n",
       "      <td>1</td>\n",
       "      <td>7</td>\n",
       "      <td>12.735955</td>\n",
       "      <td>10.117731</td>\n",
       "      <td>10</td>\n",
       "      <td>103</td>\n",
       "      <td>43</td>\n",
       "      <td>3</td>\n",
       "      <td>12.372093</td>\n",
       "      <td>11.239513</td>\n",
       "    </tr>\n",
       "    <tr>\n",
       "      <th>augmented_conf_hub_ppi_b_0.7</th>\n",
       "      <td>0.7</td>\n",
       "      <td>432</td>\n",
       "      <td>2818</td>\n",
       "      <td>1</td>\n",
       "      <td>10</td>\n",
       "      <td>13.046296</td>\n",
       "      <td>10.823187</td>\n",
       "      <td>10</td>\n",
       "      <td>108</td>\n",
       "      <td>43</td>\n",
       "      <td>3</td>\n",
       "      <td>13.232558</td>\n",
       "      <td>12.269905</td>\n",
       "    </tr>\n",
       "    <tr>\n",
       "      <th>augmented_conf_hub_ppi_b_0.8</th>\n",
       "      <td>0.8</td>\n",
       "      <td>529</td>\n",
       "      <td>3521</td>\n",
       "      <td>1</td>\n",
       "      <td>10</td>\n",
       "      <td>13.311909</td>\n",
       "      <td>11.715075</td>\n",
       "      <td>21</td>\n",
       "      <td>111</td>\n",
       "      <td>43</td>\n",
       "      <td>2</td>\n",
       "      <td>14.581395</td>\n",
       "      <td>13.418544</td>\n",
       "    </tr>\n",
       "    <tr>\n",
       "      <th>augmented_conf_hub_ppi_b_0.9</th>\n",
       "      <td>0.9</td>\n",
       "      <td>624</td>\n",
       "      <td>4187</td>\n",
       "      <td>1</td>\n",
       "      <td>10</td>\n",
       "      <td>13.419872</td>\n",
       "      <td>12.132680</td>\n",
       "      <td>28</td>\n",
       "      <td>114</td>\n",
       "      <td>43</td>\n",
       "      <td>2</td>\n",
       "      <td>15.395349</td>\n",
       "      <td>14.201440</td>\n",
       "    </tr>\n",
       "    <tr>\n",
       "      <th>augmented_conf_hub_ppi_b_1.0</th>\n",
       "      <td>1.0</td>\n",
       "      <td>725</td>\n",
       "      <td>4791</td>\n",
       "      <td>1</td>\n",
       "      <td>10</td>\n",
       "      <td>13.216552</td>\n",
       "      <td>12.388593</td>\n",
       "      <td>39</td>\n",
       "      <td>116</td>\n",
       "      <td>43</td>\n",
       "      <td>2</td>\n",
       "      <td>16.372093</td>\n",
       "      <td>15.136623</td>\n",
       "    </tr>\n",
       "    <tr>\n",
       "      <th>...</th>\n",
       "      <td>...</td>\n",
       "      <td>...</td>\n",
       "      <td>...</td>\n",
       "      <td>...</td>\n",
       "      <td>...</td>\n",
       "      <td>...</td>\n",
       "      <td>...</td>\n",
       "      <td>...</td>\n",
       "      <td>...</td>\n",
       "      <td>...</td>\n",
       "      <td>...</td>\n",
       "      <td>...</td>\n",
       "      <td>...</td>\n",
       "    </tr>\n",
       "    <tr>\n",
       "      <th>augmented_conf_hub_ppi_b_9.5</th>\n",
       "      <td>9.5</td>\n",
       "      <td>6421</td>\n",
       "      <td>33000</td>\n",
       "      <td>1</td>\n",
       "      <td>27</td>\n",
       "      <td>10.278773</td>\n",
       "      <td>16.293098</td>\n",
       "      <td>1224</td>\n",
       "      <td>177</td>\n",
       "      <td>43</td>\n",
       "      <td>1</td>\n",
       "      <td>39.674419</td>\n",
       "      <td>39.057930</td>\n",
       "    </tr>\n",
       "    <tr>\n",
       "      <th>augmented_conf_hub_ppi_b_9.6</th>\n",
       "      <td>9.6</td>\n",
       "      <td>6440</td>\n",
       "      <td>32922</td>\n",
       "      <td>1</td>\n",
       "      <td>21</td>\n",
       "      <td>10.224224</td>\n",
       "      <td>16.279766</td>\n",
       "      <td>1233</td>\n",
       "      <td>177</td>\n",
       "      <td>43</td>\n",
       "      <td>1</td>\n",
       "      <td>39.581395</td>\n",
       "      <td>38.879798</td>\n",
       "    </tr>\n",
       "    <tr>\n",
       "      <th>augmented_conf_hub_ppi_b_9.7</th>\n",
       "      <td>9.7</td>\n",
       "      <td>6468</td>\n",
       "      <td>33118</td>\n",
       "      <td>1</td>\n",
       "      <td>24</td>\n",
       "      <td>10.240569</td>\n",
       "      <td>16.287678</td>\n",
       "      <td>1232</td>\n",
       "      <td>177</td>\n",
       "      <td>43</td>\n",
       "      <td>1</td>\n",
       "      <td>39.697674</td>\n",
       "      <td>39.104235</td>\n",
       "    </tr>\n",
       "    <tr>\n",
       "      <th>augmented_conf_hub_ppi_b_9.8</th>\n",
       "      <td>9.8</td>\n",
       "      <td>6484</td>\n",
       "      <td>33144</td>\n",
       "      <td>1</td>\n",
       "      <td>23</td>\n",
       "      <td>10.223319</td>\n",
       "      <td>16.288882</td>\n",
       "      <td>1245</td>\n",
       "      <td>177</td>\n",
       "      <td>43</td>\n",
       "      <td>1</td>\n",
       "      <td>39.720930</td>\n",
       "      <td>39.144530</td>\n",
       "    </tr>\n",
       "    <tr>\n",
       "      <th>augmented_conf_hub_ppi_b_9.9</th>\n",
       "      <td>9.9</td>\n",
       "      <td>6492</td>\n",
       "      <td>33086</td>\n",
       "      <td>1</td>\n",
       "      <td>25</td>\n",
       "      <td>10.192853</td>\n",
       "      <td>16.294202</td>\n",
       "      <td>1266</td>\n",
       "      <td>177</td>\n",
       "      <td>43</td>\n",
       "      <td>1</td>\n",
       "      <td>39.744186</td>\n",
       "      <td>39.159835</td>\n",
       "    </tr>\n",
       "  </tbody>\n",
       "</table>\n",
       "<p>94 rows × 13 columns</p>\n",
       "</div>"
      ],
      "text/plain": [
       "                              beta  n_nodes  n_edges  n_connected_components  \\\n",
       "augmented_conf_hub_ppi_b_0.6   0.6      356     2267                       1   \n",
       "augmented_conf_hub_ppi_b_0.7   0.7      432     2818                       1   \n",
       "augmented_conf_hub_ppi_b_0.8   0.8      529     3521                       1   \n",
       "augmented_conf_hub_ppi_b_0.9   0.9      624     4187                       1   \n",
       "augmented_conf_hub_ppi_b_1.0   1.0      725     4791                       1   \n",
       "...                            ...      ...      ...                     ...   \n",
       "augmented_conf_hub_ppi_b_9.5   9.5     6421    33000                       1   \n",
       "augmented_conf_hub_ppi_b_9.6   9.6     6440    32922                       1   \n",
       "augmented_conf_hub_ppi_b_9.7   9.7     6468    33118                       1   \n",
       "augmented_conf_hub_ppi_b_9.8   9.8     6484    33144                       1   \n",
       "augmented_conf_hub_ppi_b_9.9   9.9     6492    33086                       1   \n",
       "\n",
       "                              n_louvain_clusters  avg_node_degree  \\\n",
       "augmented_conf_hub_ppi_b_0.6                   7        12.735955   \n",
       "augmented_conf_hub_ppi_b_0.7                  10        13.046296   \n",
       "augmented_conf_hub_ppi_b_0.8                  10        13.311909   \n",
       "augmented_conf_hub_ppi_b_0.9                  10        13.419872   \n",
       "augmented_conf_hub_ppi_b_1.0                  10        13.216552   \n",
       "...                                          ...              ...   \n",
       "augmented_conf_hub_ppi_b_9.5                  27        10.278773   \n",
       "augmented_conf_hub_ppi_b_9.6                  21        10.224224   \n",
       "augmented_conf_hub_ppi_b_9.7                  24        10.240569   \n",
       "augmented_conf_hub_ppi_b_9.8                  23        10.223319   \n",
       "augmented_conf_hub_ppi_b_9.9                  25        10.192853   \n",
       "\n",
       "                              std_node_degree  n_leaf_nodes  n_target_nodes  \\\n",
       "augmented_conf_hub_ppi_b_0.6        10.117731            10             103   \n",
       "augmented_conf_hub_ppi_b_0.7        10.823187            10             108   \n",
       "augmented_conf_hub_ppi_b_0.8        11.715075            21             111   \n",
       "augmented_conf_hub_ppi_b_0.9        12.132680            28             114   \n",
       "augmented_conf_hub_ppi_b_1.0        12.388593            39             116   \n",
       "...                                       ...           ...             ...   \n",
       "augmented_conf_hub_ppi_b_9.5        16.293098          1224             177   \n",
       "augmented_conf_hub_ppi_b_9.6        16.279766          1233             177   \n",
       "augmented_conf_hub_ppi_b_9.7        16.287678          1232             177   \n",
       "augmented_conf_hub_ppi_b_9.8        16.288882          1245             177   \n",
       "augmented_conf_hub_ppi_b_9.9        16.294202          1266             177   \n",
       "\n",
       "                              n_spec_target_nodes  n_spec_target_leafs  \\\n",
       "augmented_conf_hub_ppi_b_0.6                   43                    3   \n",
       "augmented_conf_hub_ppi_b_0.7                   43                    3   \n",
       "augmented_conf_hub_ppi_b_0.8                   43                    2   \n",
       "augmented_conf_hub_ppi_b_0.9                   43                    2   \n",
       "augmented_conf_hub_ppi_b_1.0                   43                    2   \n",
       "...                                           ...                  ...   \n",
       "augmented_conf_hub_ppi_b_9.5                   43                    1   \n",
       "augmented_conf_hub_ppi_b_9.6                   43                    1   \n",
       "augmented_conf_hub_ppi_b_9.7                   43                    1   \n",
       "augmented_conf_hub_ppi_b_9.8                   43                    1   \n",
       "augmented_conf_hub_ppi_b_9.9                   43                    1   \n",
       "\n",
       "                              avg_spec_target_degree  std_spec_target_degree  \n",
       "augmented_conf_hub_ppi_b_0.6               12.372093               11.239513  \n",
       "augmented_conf_hub_ppi_b_0.7               13.232558               12.269905  \n",
       "augmented_conf_hub_ppi_b_0.8               14.581395               13.418544  \n",
       "augmented_conf_hub_ppi_b_0.9               15.395349               14.201440  \n",
       "augmented_conf_hub_ppi_b_1.0               16.372093               15.136623  \n",
       "...                                              ...                     ...  \n",
       "augmented_conf_hub_ppi_b_9.5               39.674419               39.057930  \n",
       "augmented_conf_hub_ppi_b_9.6               39.581395               38.879798  \n",
       "augmented_conf_hub_ppi_b_9.7               39.697674               39.104235  \n",
       "augmented_conf_hub_ppi_b_9.8               39.720930               39.144530  \n",
       "augmented_conf_hub_ppi_b_9.9               39.744186               39.159835  \n",
       "\n",
       "[94 rows x 13 columns]"
      ]
     },
     "execution_count": 12,
     "metadata": {},
     "output_type": "execute_result"
    },
    {
     "data": {
      "application/javascript": [
       "\n",
       "            setTimeout(function() {\n",
       "                var nbb_cell_id = 12;\n",
       "                var nbb_unformatted_code = \"conf_hub_augmented_pcst_mis_results = analyze_pcst_sensitivity_analyses_results(\\n    augmented_conf_hub_pcst_mis_dict,\\n    target_nodes=orf_targets,\\n    spec_targets=specific_targets,\\n)\\nconf_hub_augmented_pcst_mis_results.loc[\\n    conf_hub_augmented_pcst_mis_results[\\\"n_spec_target_nodes\\\"]\\n    == np.max(conf_hub_augmented_pcst_mis_results[\\\"n_spec_target_nodes\\\"])\\n].sort_values(\\\"beta\\\")\";\n",
       "                var nbb_formatted_code = \"conf_hub_augmented_pcst_mis_results = analyze_pcst_sensitivity_analyses_results(\\n    augmented_conf_hub_pcst_mis_dict,\\n    target_nodes=orf_targets,\\n    spec_targets=specific_targets,\\n)\\nconf_hub_augmented_pcst_mis_results.loc[\\n    conf_hub_augmented_pcst_mis_results[\\\"n_spec_target_nodes\\\"]\\n    == np.max(conf_hub_augmented_pcst_mis_results[\\\"n_spec_target_nodes\\\"])\\n].sort_values(\\\"beta\\\")\";\n",
       "                var nbb_cells = Jupyter.notebook.get_cells();\n",
       "                for (var i = 0; i < nbb_cells.length; ++i) {\n",
       "                    if (nbb_cells[i].input_prompt_number == nbb_cell_id) {\n",
       "                        if (nbb_cells[i].get_text() == nbb_unformatted_code) {\n",
       "                             nbb_cells[i].set_text(nbb_formatted_code);\n",
       "                        }\n",
       "                        break;\n",
       "                    }\n",
       "                }\n",
       "            }, 500);\n",
       "            "
      ],
      "text/plain": [
       "<IPython.core.display.Javascript object>"
      ]
     },
     "metadata": {},
     "output_type": "display_data"
    }
   ],
   "source": [
    "conf_hub_augmented_pcst_mis_results = analyze_pcst_sensitivity_analyses_results(\n",
    "    augmented_conf_hub_pcst_mis_dict,\n",
    "    target_nodes=orf_targets,\n",
    "    spec_targets=specific_targets,\n",
    ")\n",
    "conf_hub_augmented_pcst_mis_results.loc[\n",
    "    conf_hub_augmented_pcst_mis_results[\"n_spec_target_nodes\"]\n",
    "    == np.max(conf_hub_augmented_pcst_mis_results[\"n_spec_target_nodes\"])\n",
    "].sort_values(\"beta\")"
   ]
  },
  {
   "cell_type": "markdown",
   "id": "ee59db98",
   "metadata": {},
   "source": [
    "As exprected the number of nodes of the augmented trees remains unchanged however the number of edges that were selected largely increases. To better identify an appropriate cutoff we will now look at different metrics as a function of the hyperparameter $\\beta$ for the augmented tree solution of our ``conf_hub_ppi`` input graph with the prizes being scaled to the ranges of [0,1]."
   ]
  },
  {
   "cell_type": "code",
   "execution_count": 14,
   "id": "6cb7884c",
   "metadata": {},
   "outputs": [
    {
     "data": {
      "image/png": "[encoded data removed]",
      "text/plain": [
       "<Figure size 864x720 with 6 Axes>"
      ]
     },
     "metadata": {
      "needs_background": "light"
     },
     "output_type": "display_data"
    },
    {
     "data": {
      "application/javascript": [
       "\n",
       "            setTimeout(function() {\n",
       "                var nbb_cell_id = 14;\n",
       "                var nbb_unformatted_code = \"summarize_analyses_results_visually(conf_hub_augmented_pcst_mis_results)\";\n",
       "                var nbb_formatted_code = \"summarize_analyses_results_visually(conf_hub_augmented_pcst_mis_results)\";\n",
       "                var nbb_cells = Jupyter.notebook.get_cells();\n",
       "                for (var i = 0; i < nbb_cells.length; ++i) {\n",
       "                    if (nbb_cells[i].input_prompt_number == nbb_cell_id) {\n",
       "                        if (nbb_cells[i].get_text() == nbb_unformatted_code) {\n",
       "                             nbb_cells[i].set_text(nbb_formatted_code);\n",
       "                        }\n",
       "                        break;\n",
       "                    }\n",
       "                }\n",
       "            }, 500);\n",
       "            "
      ],
      "text/plain": [
       "<IPython.core.display.Javascript object>"
      ]
     },
     "metadata": {},
     "output_type": "display_data"
    }
   ],
   "source": [
    "summarize_analyses_results_visually(conf_hub_augmented_pcst_mis_results)"
   ]
  },
  {
   "cell_type": "markdown",
   "id": "e6621bc2",
   "metadata": {},
   "source": [
    "Since we aim to simply learn the interactome that describe the individual specific ORF targets we choose the smallest graph solution that spans all those targets, which is obtained at $\\beta$=0.6."
   ]
  },
  {
   "cell_type": "code",
   "execution_count": 15,
   "id": "f7f9ce47",
   "metadata": {},
   "outputs": [
    {
     "name": "stdout",
     "output_type": "stream",
     "text": [
      "Name: conf_hub_mis_sol\n",
      "Type: Graph\n",
      "Number of nodes: 356\n",
      "Number of edges: 2267\n",
      "Average degree:  12.7360\n"
     ]
    },
    {
     "data": {
      "application/javascript": [
       "\n",
       "            setTimeout(function() {\n",
       "                var nbb_cell_id = 15;\n",
       "                var nbb_unformatted_code = \"conf_hub_mis_sol = augmented_conf_hub_pcst_mis_dict[\\n    \\\"augmented_conf_hub_ppi_b_0.6\\\"\\n].copy()\\nconf_hub_mis_sol.name = \\\"conf_hub_mis_sol\\\"\\nprint(nx.info(conf_hub_mis_sol))\";\n",
       "                var nbb_formatted_code = \"conf_hub_mis_sol = augmented_conf_hub_pcst_mis_dict[\\n    \\\"augmented_conf_hub_ppi_b_0.6\\\"\\n].copy()\\nconf_hub_mis_sol.name = \\\"conf_hub_mis_sol\\\"\\nprint(nx.info(conf_hub_mis_sol))\";\n",
       "                var nbb_cells = Jupyter.notebook.get_cells();\n",
       "                for (var i = 0; i < nbb_cells.length; ++i) {\n",
       "                    if (nbb_cells[i].input_prompt_number == nbb_cell_id) {\n",
       "                        if (nbb_cells[i].get_text() == nbb_unformatted_code) {\n",
       "                             nbb_cells[i].set_text(nbb_formatted_code);\n",
       "                        }\n",
       "                        break;\n",
       "                    }\n",
       "                }\n",
       "            }, 500);\n",
       "            "
      ],
      "text/plain": [
       "<IPython.core.display.Javascript object>"
      ]
     },
     "metadata": {},
     "output_type": "display_data"
    }
   ],
   "source": [
    "conf_hub_mis_sol = augmented_conf_hub_pcst_mis_dict[\n",
    "    \"augmented_conf_hub_ppi_b_0.6\"\n",
    "].copy()\n",
    "conf_hub_mis_sol.name = \"conf_hub_mis_sol\"\n",
    "print(nx.info(conf_hub_mis_sol))"
   ]
  },
  {
   "cell_type": "markdown",
   "id": "ec661ea5",
   "metadata": {},
   "source": [
    "The corresponding network consists of 356 nodes with an average degree of 12.74 stemming from 2'267 edges. The network covers all 43 structural regulator genes covered in the input graph."
   ]
  },
  {
   "cell_type": "markdown",
   "id": "01e51af8",
   "metadata": {},
   "source": [
    "The above network is relatively small. After embedding the network we will be only able to predict alterations of the regulatory structure within in the space spanned by the genes covered in this network. Thus, we will also provide a larger network that is obtained by choosing exactly two times the minimum required $\\beta$ to further outgrow the network and thus not only span the minimal network to cover the 40 specific ORF targets."
   ]
  },
  {
   "cell_type": "code",
   "execution_count": 16,
   "id": "f7cd289c",
   "metadata": {},
   "outputs": [
    {
     "name": "stdout",
     "output_type": "stream",
     "text": [
      "Name: conf_hub_mis_sol_ext\n",
      "Type: Graph\n",
      "Number of nodes: 917\n",
      "Number of edges: 5881\n",
      "Average degree:  12.8266\n"
     ]
    },
    {
     "data": {
      "application/javascript": [
       "\n",
       "            setTimeout(function() {\n",
       "                var nbb_cell_id = 16;\n",
       "                var nbb_unformatted_code = \"conf_hub_mis_sol_ext = augmented_conf_hub_pcst_mis_dict[\\n    \\\"augmented_conf_hub_ppi_b_1.2\\\"\\n].copy()\\nconf_hub_mis_sol_ext.name = \\\"conf_hub_mis_sol_ext\\\"\\nprint(nx.info(conf_hub_mis_sol_ext))\";\n",
       "                var nbb_formatted_code = \"conf_hub_mis_sol_ext = augmented_conf_hub_pcst_mis_dict[\\n    \\\"augmented_conf_hub_ppi_b_1.2\\\"\\n].copy()\\nconf_hub_mis_sol_ext.name = \\\"conf_hub_mis_sol_ext\\\"\\nprint(nx.info(conf_hub_mis_sol_ext))\";\n",
       "                var nbb_cells = Jupyter.notebook.get_cells();\n",
       "                for (var i = 0; i < nbb_cells.length; ++i) {\n",
       "                    if (nbb_cells[i].input_prompt_number == nbb_cell_id) {\n",
       "                        if (nbb_cells[i].get_text() == nbb_unformatted_code) {\n",
       "                             nbb_cells[i].set_text(nbb_formatted_code);\n",
       "                        }\n",
       "                        break;\n",
       "                    }\n",
       "                }\n",
       "            }, 500);\n",
       "            "
      ],
      "text/plain": [
       "<IPython.core.display.Javascript object>"
      ]
     },
     "metadata": {},
     "output_type": "display_data"
    }
   ],
   "source": [
    "conf_hub_mis_sol_ext = augmented_conf_hub_pcst_mis_dict[\n",
    "    \"augmented_conf_hub_ppi_b_1.2\"\n",
    "].copy()\n",
    "conf_hub_mis_sol_ext.name = \"conf_hub_mis_sol_ext\"\n",
    "print(nx.info(conf_hub_mis_sol_ext))"
   ]
  },
  {
   "cell_type": "markdown",
   "id": "70aafab3",
   "metadata": {},
   "source": [
    "---\n",
    "\n",
    "#### 2.1.b. Spearman correlation edge weights\n",
    "\n",
    "After having inferred the solution for the ``conf_hub_ppi`` input using the MINT-score inspired edge costs, we will now rerun the analyses using $1-r_{Spearman}$ as an alternative edge weight defintion. The intuition is that this will further guide the derivation of the interactome to focus on links that are specific to our cell-type of interest. On the flip side the metric were computed on noisy scRNAseq data which might limit the descriptive power of this metric to evaluate the strength of a regulatory link."
   ]
  },
  {
   "cell_type": "markdown",
   "id": "d1c9b1f2",
   "metadata": {},
   "source": [
    "Since the Spearman-based edge weights are in the range of [0,1] compared to those previously used for MINT score based ones [0,0.562], we will run the screen for $\\beta \\in$ [0,20]."
   ]
  },
  {
   "cell_type": "code",
   "execution_count": 18,
   "id": "7ec17561",
   "metadata": {},
   "outputs": [
    {
     "data": {
      "application/javascript": [
       "\n",
       "            setTimeout(function() {\n",
       "                var nbb_cell_id = 18;\n",
       "                var nbb_unformatted_code = \"bs = np.arange(0.1, 20, 0.1)\";\n",
       "                var nbb_formatted_code = \"bs = np.arange(0.1, 20, 0.1)\";\n",
       "                var nbb_cells = Jupyter.notebook.get_cells();\n",
       "                for (var i = 0; i < nbb_cells.length; ++i) {\n",
       "                    if (nbb_cells[i].input_prompt_number == nbb_cell_id) {\n",
       "                        if (nbb_cells[i].get_text() == nbb_unformatted_code) {\n",
       "                             nbb_cells[i].set_text(nbb_formatted_code);\n",
       "                        }\n",
       "                        break;\n",
       "                    }\n",
       "                }\n",
       "            }, 500);\n",
       "            "
      ],
      "text/plain": [
       "<IPython.core.display.Javascript object>"
      ]
     },
     "metadata": {},
     "output_type": "display_data"
    }
   ],
   "source": [
    "bs = np.arange(0.1, 20, 0.1)"
   ]
  },
  {
   "cell_type": "code",
   "execution_count": 19,
   "id": "46ac59bd",
   "metadata": {},
   "outputs": [
    {
     "name": "stderr",
     "output_type": "stream",
     "text": [
      "Compute PCSTs: 100%|██████████| 199/199 [00:13<00:00, 15.08it/s]\n"
     ]
    },
    {
     "data": {
      "application/javascript": [
       "\n",
       "            setTimeout(function() {\n",
       "                var nbb_cell_id = 19;\n",
       "                var nbb_unformatted_code = \"(\\n    conf_hub_pcst_spearman_dict,\\n    augmented_conf_hub_pcst_spearman_dict,\\n) = run_pcst_sensitivity_analyses(\\n    graph=conf_hub_ppi,\\n    bs=bs,\\n    prize_key=\\\"prize\\\",\\n    weight_key=\\\"spearmanr\\\",\\n    minmax_scale=True,\\n)\";\n",
       "                var nbb_formatted_code = \"(\\n    conf_hub_pcst_spearman_dict,\\n    augmented_conf_hub_pcst_spearman_dict,\\n) = run_pcst_sensitivity_analyses(\\n    graph=conf_hub_ppi,\\n    bs=bs,\\n    prize_key=\\\"prize\\\",\\n    weight_key=\\\"spearmanr\\\",\\n    minmax_scale=True,\\n)\";\n",
       "                var nbb_cells = Jupyter.notebook.get_cells();\n",
       "                for (var i = 0; i < nbb_cells.length; ++i) {\n",
       "                    if (nbb_cells[i].input_prompt_number == nbb_cell_id) {\n",
       "                        if (nbb_cells[i].get_text() == nbb_unformatted_code) {\n",
       "                             nbb_cells[i].set_text(nbb_formatted_code);\n",
       "                        }\n",
       "                        break;\n",
       "                    }\n",
       "                }\n",
       "            }, 500);\n",
       "            "
      ],
      "text/plain": [
       "<IPython.core.display.Javascript object>"
      ]
     },
     "metadata": {},
     "output_type": "display_data"
    }
   ],
   "source": [
    "(\n",
    "    conf_hub_pcst_spearman_dict,\n",
    "    augmented_conf_hub_pcst_spearman_dict,\n",
    ") = run_pcst_sensitivity_analyses(\n",
    "    graph=conf_hub_ppi,\n",
    "    bs=bs,\n",
    "    prize_key=\"prize\",\n",
    "    weight_key=\"spearmanr\",\n",
    "    minmax_scale=True,\n",
    ")"
   ]
  },
  {
   "cell_type": "code",
   "execution_count": 20,
   "id": "c20ff70b",
   "metadata": {},
   "outputs": [
    {
     "name": "stderr",
     "output_type": "stream",
     "text": [
      "Analyze tree:   0%|          | 0/199 [00:00<?, ?it/s]/home/paysan_d/miniconda3/envs/image2reg/lib/python3.8/site-packages/numpy/core/fromnumeric.py:3372: RuntimeWarning: Mean of empty slice.\n",
      "  return _methods._mean(a, axis=axis, dtype=dtype,\n",
      "/home/paysan_d/miniconda3/envs/image2reg/lib/python3.8/site-packages/numpy/core/_methods.py:170: RuntimeWarning: invalid value encountered in double_scalars\n",
      "  ret = ret.dtype.type(ret / rcount)\n",
      "/home/paysan_d/miniconda3/envs/image2reg/lib/python3.8/site-packages/numpy/core/_methods.py:233: RuntimeWarning: Degrees of freedom <= 0 for slice\n",
      "  ret = _var(a, axis=axis, dtype=dtype, out=out, ddof=ddof,\n",
      "/home/paysan_d/miniconda3/envs/image2reg/lib/python3.8/site-packages/numpy/core/_methods.py:194: RuntimeWarning: invalid value encountered in true_divide\n",
      "  arrmean = um.true_divide(\n",
      "/home/paysan_d/miniconda3/envs/image2reg/lib/python3.8/site-packages/numpy/core/_methods.py:226: RuntimeWarning: invalid value encountered in double_scalars\n",
      "  ret = ret.dtype.type(ret / rcount)\n",
      "Analyze tree: 100%|██████████| 199/199 [01:45<00:00,  1.89it/s]\n"
     ]
    },
    {
     "data": {
      "text/html": [
       "<div>\n",
       "<style scoped>\n",
       "    .dataframe tbody tr th:only-of-type {\n",
       "        vertical-align: middle;\n",
       "    }\n",
       "\n",
       "    .dataframe tbody tr th {\n",
       "        vertical-align: top;\n",
       "    }\n",
       "\n",
       "    .dataframe thead th {\n",
       "        text-align: right;\n",
       "    }\n",
       "</style>\n",
       "<table border=\"1\" class=\"dataframe\">\n",
       "  <thead>\n",
       "    <tr style=\"text-align: right;\">\n",
       "      <th></th>\n",
       "      <th>beta</th>\n",
       "      <th>n_nodes</th>\n",
       "      <th>n_edges</th>\n",
       "      <th>n_connected_components</th>\n",
       "      <th>n_louvain_clusters</th>\n",
       "      <th>avg_node_degree</th>\n",
       "      <th>std_node_degree</th>\n",
       "      <th>n_leaf_nodes</th>\n",
       "      <th>n_target_nodes</th>\n",
       "      <th>n_spec_target_nodes</th>\n",
       "      <th>n_spec_target_leafs</th>\n",
       "      <th>avg_spec_target_degree</th>\n",
       "      <th>std_spec_target_degree</th>\n",
       "    </tr>\n",
       "  </thead>\n",
       "  <tbody>\n",
       "    <tr>\n",
       "      <th>augmented_conf_hub_ppi_b_2.6</th>\n",
       "      <td>2.6</td>\n",
       "      <td>244</td>\n",
       "      <td>521</td>\n",
       "      <td>1</td>\n",
       "      <td>9</td>\n",
       "      <td>4.270492</td>\n",
       "      <td>4.080214</td>\n",
       "      <td>54</td>\n",
       "      <td>51</td>\n",
       "      <td>43</td>\n",
       "      <td>9</td>\n",
       "      <td>5.116279</td>\n",
       "      <td>4.789569</td>\n",
       "    </tr>\n",
       "    <tr>\n",
       "      <th>augmented_conf_hub_ppi_b_2.7</th>\n",
       "      <td>2.7</td>\n",
       "      <td>270</td>\n",
       "      <td>576</td>\n",
       "      <td>1</td>\n",
       "      <td>9</td>\n",
       "      <td>4.266667</td>\n",
       "      <td>4.146752</td>\n",
       "      <td>61</td>\n",
       "      <td>52</td>\n",
       "      <td>43</td>\n",
       "      <td>8</td>\n",
       "      <td>5.372093</td>\n",
       "      <td>4.997782</td>\n",
       "    </tr>\n",
       "    <tr>\n",
       "      <th>augmented_conf_hub_ppi_b_2.8</th>\n",
       "      <td>2.8</td>\n",
       "      <td>297</td>\n",
       "      <td>663</td>\n",
       "      <td>1</td>\n",
       "      <td>12</td>\n",
       "      <td>4.464646</td>\n",
       "      <td>4.303267</td>\n",
       "      <td>67</td>\n",
       "      <td>53</td>\n",
       "      <td>43</td>\n",
       "      <td>7</td>\n",
       "      <td>5.767442</td>\n",
       "      <td>5.433904</td>\n",
       "    </tr>\n",
       "    <tr>\n",
       "      <th>augmented_conf_hub_ppi_b_2.9</th>\n",
       "      <td>2.9</td>\n",
       "      <td>323</td>\n",
       "      <td>746</td>\n",
       "      <td>1</td>\n",
       "      <td>11</td>\n",
       "      <td>4.619195</td>\n",
       "      <td>4.386216</td>\n",
       "      <td>72</td>\n",
       "      <td>53</td>\n",
       "      <td>43</td>\n",
       "      <td>7</td>\n",
       "      <td>6.023256</td>\n",
       "      <td>5.546792</td>\n",
       "    </tr>\n",
       "    <tr>\n",
       "      <th>augmented_conf_hub_ppi_b_3.0</th>\n",
       "      <td>3.0</td>\n",
       "      <td>342</td>\n",
       "      <td>766</td>\n",
       "      <td>1</td>\n",
       "      <td>10</td>\n",
       "      <td>4.479532</td>\n",
       "      <td>4.303323</td>\n",
       "      <td>77</td>\n",
       "      <td>54</td>\n",
       "      <td>43</td>\n",
       "      <td>8</td>\n",
       "      <td>6.023256</td>\n",
       "      <td>5.736413</td>\n",
       "    </tr>\n",
       "    <tr>\n",
       "      <th>...</th>\n",
       "      <td>...</td>\n",
       "      <td>...</td>\n",
       "      <td>...</td>\n",
       "      <td>...</td>\n",
       "      <td>...</td>\n",
       "      <td>...</td>\n",
       "      <td>...</td>\n",
       "      <td>...</td>\n",
       "      <td>...</td>\n",
       "      <td>...</td>\n",
       "      <td>...</td>\n",
       "      <td>...</td>\n",
       "      <td>...</td>\n",
       "    </tr>\n",
       "    <tr>\n",
       "      <th>augmented_conf_hub_ppi_b_19.5</th>\n",
       "      <td>19.5</td>\n",
       "      <td>5751</td>\n",
       "      <td>25988</td>\n",
       "      <td>1</td>\n",
       "      <td>25</td>\n",
       "      <td>9.037733</td>\n",
       "      <td>14.608951</td>\n",
       "      <td>1272</td>\n",
       "      <td>150</td>\n",
       "      <td>43</td>\n",
       "      <td>1</td>\n",
       "      <td>34.465116</td>\n",
       "      <td>33.789601</td>\n",
       "    </tr>\n",
       "    <tr>\n",
       "      <th>augmented_conf_hub_ppi_b_19.6</th>\n",
       "      <td>19.6</td>\n",
       "      <td>5766</td>\n",
       "      <td>26134</td>\n",
       "      <td>1</td>\n",
       "      <td>21</td>\n",
       "      <td>9.064863</td>\n",
       "      <td>14.672478</td>\n",
       "      <td>1272</td>\n",
       "      <td>151</td>\n",
       "      <td>43</td>\n",
       "      <td>1</td>\n",
       "      <td>34.534884</td>\n",
       "      <td>33.898171</td>\n",
       "    </tr>\n",
       "    <tr>\n",
       "      <th>augmented_conf_hub_ppi_b_19.7</th>\n",
       "      <td>19.7</td>\n",
       "      <td>5776</td>\n",
       "      <td>26179</td>\n",
       "      <td>1</td>\n",
       "      <td>23</td>\n",
       "      <td>9.064751</td>\n",
       "      <td>14.674255</td>\n",
       "      <td>1274</td>\n",
       "      <td>151</td>\n",
       "      <td>43</td>\n",
       "      <td>1</td>\n",
       "      <td>34.581395</td>\n",
       "      <td>33.941285</td>\n",
       "    </tr>\n",
       "    <tr>\n",
       "      <th>augmented_conf_hub_ppi_b_19.8</th>\n",
       "      <td>19.8</td>\n",
       "      <td>5791</td>\n",
       "      <td>26270</td>\n",
       "      <td>1</td>\n",
       "      <td>25</td>\n",
       "      <td>9.072699</td>\n",
       "      <td>14.688396</td>\n",
       "      <td>1279</td>\n",
       "      <td>152</td>\n",
       "      <td>43</td>\n",
       "      <td>1</td>\n",
       "      <td>34.581395</td>\n",
       "      <td>33.941285</td>\n",
       "    </tr>\n",
       "    <tr>\n",
       "      <th>augmented_conf_hub_ppi_b_19.9</th>\n",
       "      <td>19.9</td>\n",
       "      <td>5804</td>\n",
       "      <td>26356</td>\n",
       "      <td>1</td>\n",
       "      <td>24</td>\n",
       "      <td>9.082012</td>\n",
       "      <td>14.699113</td>\n",
       "      <td>1279</td>\n",
       "      <td>152</td>\n",
       "      <td>43</td>\n",
       "      <td>1</td>\n",
       "      <td>34.604651</td>\n",
       "      <td>33.967933</td>\n",
       "    </tr>\n",
       "  </tbody>\n",
       "</table>\n",
       "<p>174 rows × 13 columns</p>\n",
       "</div>"
      ],
      "text/plain": [
       "                               beta  n_nodes  n_edges  n_connected_components  \\\n",
       "augmented_conf_hub_ppi_b_2.6    2.6      244      521                       1   \n",
       "augmented_conf_hub_ppi_b_2.7    2.7      270      576                       1   \n",
       "augmented_conf_hub_ppi_b_2.8    2.8      297      663                       1   \n",
       "augmented_conf_hub_ppi_b_2.9    2.9      323      746                       1   \n",
       "augmented_conf_hub_ppi_b_3.0    3.0      342      766                       1   \n",
       "...                             ...      ...      ...                     ...   \n",
       "augmented_conf_hub_ppi_b_19.5  19.5     5751    25988                       1   \n",
       "augmented_conf_hub_ppi_b_19.6  19.6     5766    26134                       1   \n",
       "augmented_conf_hub_ppi_b_19.7  19.7     5776    26179                       1   \n",
       "augmented_conf_hub_ppi_b_19.8  19.8     5791    26270                       1   \n",
       "augmented_conf_hub_ppi_b_19.9  19.9     5804    26356                       1   \n",
       "\n",
       "                               n_louvain_clusters  avg_node_degree  \\\n",
       "augmented_conf_hub_ppi_b_2.6                    9         4.270492   \n",
       "augmented_conf_hub_ppi_b_2.7                    9         4.266667   \n",
       "augmented_conf_hub_ppi_b_2.8                   12         4.464646   \n",
       "augmented_conf_hub_ppi_b_2.9                   11         4.619195   \n",
       "augmented_conf_hub_ppi_b_3.0                   10         4.479532   \n",
       "...                                           ...              ...   \n",
       "augmented_conf_hub_ppi_b_19.5                  25         9.037733   \n",
       "augmented_conf_hub_ppi_b_19.6                  21         9.064863   \n",
       "augmented_conf_hub_ppi_b_19.7                  23         9.064751   \n",
       "augmented_conf_hub_ppi_b_19.8                  25         9.072699   \n",
       "augmented_conf_hub_ppi_b_19.9                  24         9.082012   \n",
       "\n",
       "                               std_node_degree  n_leaf_nodes  n_target_nodes  \\\n",
       "augmented_conf_hub_ppi_b_2.6          4.080214            54              51   \n",
       "augmented_conf_hub_ppi_b_2.7          4.146752            61              52   \n",
       "augmented_conf_hub_ppi_b_2.8          4.303267            67              53   \n",
       "augmented_conf_hub_ppi_b_2.9          4.386216            72              53   \n",
       "augmented_conf_hub_ppi_b_3.0          4.303323            77              54   \n",
       "...                                        ...           ...             ...   \n",
       "augmented_conf_hub_ppi_b_19.5        14.608951          1272             150   \n",
       "augmented_conf_hub_ppi_b_19.6        14.672478          1272             151   \n",
       "augmented_conf_hub_ppi_b_19.7        14.674255          1274             151   \n",
       "augmented_conf_hub_ppi_b_19.8        14.688396          1279             152   \n",
       "augmented_conf_hub_ppi_b_19.9        14.699113          1279             152   \n",
       "\n",
       "                               n_spec_target_nodes  n_spec_target_leafs  \\\n",
       "augmented_conf_hub_ppi_b_2.6                    43                    9   \n",
       "augmented_conf_hub_ppi_b_2.7                    43                    8   \n",
       "augmented_conf_hub_ppi_b_2.8                    43                    7   \n",
       "augmented_conf_hub_ppi_b_2.9                    43                    7   \n",
       "augmented_conf_hub_ppi_b_3.0                    43                    8   \n",
       "...                                            ...                  ...   \n",
       "augmented_conf_hub_ppi_b_19.5                   43                    1   \n",
       "augmented_conf_hub_ppi_b_19.6                   43                    1   \n",
       "augmented_conf_hub_ppi_b_19.7                   43                    1   \n",
       "augmented_conf_hub_ppi_b_19.8                   43                    1   \n",
       "augmented_conf_hub_ppi_b_19.9                   43                    1   \n",
       "\n",
       "                               avg_spec_target_degree  std_spec_target_degree  \n",
       "augmented_conf_hub_ppi_b_2.6                 5.116279                4.789569  \n",
       "augmented_conf_hub_ppi_b_2.7                 5.372093                4.997782  \n",
       "augmented_conf_hub_ppi_b_2.8                 5.767442                5.433904  \n",
       "augmented_conf_hub_ppi_b_2.9                 6.023256                5.546792  \n",
       "augmented_conf_hub_ppi_b_3.0                 6.023256                5.736413  \n",
       "...                                               ...                     ...  \n",
       "augmented_conf_hub_ppi_b_19.5               34.465116               33.789601  \n",
       "augmented_conf_hub_ppi_b_19.6               34.534884               33.898171  \n",
       "augmented_conf_hub_ppi_b_19.7               34.581395               33.941285  \n",
       "augmented_conf_hub_ppi_b_19.8               34.581395               33.941285  \n",
       "augmented_conf_hub_ppi_b_19.9               34.604651               33.967933  \n",
       "\n",
       "[174 rows x 13 columns]"
      ]
     },
     "execution_count": 20,
     "metadata": {},
     "output_type": "execute_result"
    },
    {
     "data": {
      "application/javascript": [
       "\n",
       "            setTimeout(function() {\n",
       "                var nbb_cell_id = 20;\n",
       "                var nbb_unformatted_code = \"conf_hub_augmented_pcst_spearman_results = analyze_pcst_sensitivity_analyses_results(\\n    augmented_conf_hub_pcst_spearman_dict,\\n    target_nodes=orf_targets,\\n    spec_targets=specific_targets,\\n)\\nconf_hub_augmented_pcst_spearman_results.loc[\\n    conf_hub_augmented_pcst_spearman_results[\\\"n_spec_target_nodes\\\"]\\n    == np.max(conf_hub_augmented_pcst_spearman_results[\\\"n_spec_target_nodes\\\"])\\n].sort_values(\\\"beta\\\")\";\n",
       "                var nbb_formatted_code = \"conf_hub_augmented_pcst_spearman_results = analyze_pcst_sensitivity_analyses_results(\\n    augmented_conf_hub_pcst_spearman_dict,\\n    target_nodes=orf_targets,\\n    spec_targets=specific_targets,\\n)\\nconf_hub_augmented_pcst_spearman_results.loc[\\n    conf_hub_augmented_pcst_spearman_results[\\\"n_spec_target_nodes\\\"]\\n    == np.max(conf_hub_augmented_pcst_spearman_results[\\\"n_spec_target_nodes\\\"])\\n].sort_values(\\\"beta\\\")\";\n",
       "                var nbb_cells = Jupyter.notebook.get_cells();\n",
       "                for (var i = 0; i < nbb_cells.length; ++i) {\n",
       "                    if (nbb_cells[i].input_prompt_number == nbb_cell_id) {\n",
       "                        if (nbb_cells[i].get_text() == nbb_unformatted_code) {\n",
       "                             nbb_cells[i].set_text(nbb_formatted_code);\n",
       "                        }\n",
       "                        break;\n",
       "                    }\n",
       "                }\n",
       "            }, 500);\n",
       "            "
      ],
      "text/plain": [
       "<IPython.core.display.Javascript object>"
      ]
     },
     "metadata": {},
     "output_type": "display_data"
    }
   ],
   "source": [
    "conf_hub_augmented_pcst_spearman_results = analyze_pcst_sensitivity_analyses_results(\n",
    "    augmented_conf_hub_pcst_spearman_dict,\n",
    "    target_nodes=orf_targets,\n",
    "    spec_targets=specific_targets,\n",
    ")\n",
    "conf_hub_augmented_pcst_spearman_results.loc[\n",
    "    conf_hub_augmented_pcst_spearman_results[\"n_spec_target_nodes\"]\n",
    "    == np.max(conf_hub_augmented_pcst_spearman_results[\"n_spec_target_nodes\"])\n",
    "].sort_values(\"beta\")"
   ]
  },
  {
   "cell_type": "code",
   "execution_count": 21,
   "id": "01fefd67",
   "metadata": {},
   "outputs": [
    {
     "data": {
      "image/png": "[encoded data removed]",
      "text/plain": [
       "<Figure size 864x720 with 6 Axes>"
      ]
     },
     "metadata": {
      "needs_background": "light"
     },
     "output_type": "display_data"
    },
    {
     "data": {
      "application/javascript": [
       "\n",
       "            setTimeout(function() {\n",
       "                var nbb_cell_id = 21;\n",
       "                var nbb_unformatted_code = \"summarize_analyses_results_visually(conf_hub_augmented_pcst_spearman_results)\";\n",
       "                var nbb_formatted_code = \"summarize_analyses_results_visually(conf_hub_augmented_pcst_spearman_results)\";\n",
       "                var nbb_cells = Jupyter.notebook.get_cells();\n",
       "                for (var i = 0; i < nbb_cells.length; ++i) {\n",
       "                    if (nbb_cells[i].input_prompt_number == nbb_cell_id) {\n",
       "                        if (nbb_cells[i].get_text() == nbb_unformatted_code) {\n",
       "                             nbb_cells[i].set_text(nbb_formatted_code);\n",
       "                        }\n",
       "                        break;\n",
       "                    }\n",
       "                }\n",
       "            }, 500);\n",
       "            "
      ],
      "text/plain": [
       "<IPython.core.display.Javascript object>"
      ]
     },
     "metadata": {},
     "output_type": "display_data"
    }
   ],
   "source": [
    "summarize_analyses_results_visually(conf_hub_augmented_pcst_spearman_results)"
   ]
  },
  {
   "cell_type": "markdown",
   "id": "132aa5e9",
   "metadata": {},
   "source": [
    "Using the Spearman-correlation based ede weights we see much smaller rate of increase of the number of edges and nodes for the different choices of $\\beta$. This can be explained by the heavily left-skewed distribution of the Spearman edge weights when compared to the more uniformly distributed MINT score based edge weights used previously. We see that for a choice of $\\beta \\geq 2.6$ all 43 specific ORF targets are covered. Thus, we choose the corresponding graph as the solution of this setup."
   ]
  },
  {
   "cell_type": "code",
   "execution_count": 22,
   "id": "0f0e287c",
   "metadata": {},
   "outputs": [
    {
     "name": "stdout",
     "output_type": "stream",
     "text": [
      "Name: conf_hub_spearman_sol\n",
      "Type: Graph\n",
      "Number of nodes: 244\n",
      "Number of edges: 521\n",
      "Average degree:   4.2705\n"
     ]
    },
    {
     "data": {
      "application/javascript": [
       "\n",
       "            setTimeout(function() {\n",
       "                var nbb_cell_id = 22;\n",
       "                var nbb_unformatted_code = \"conf_hub_spearman_sol = augmented_conf_hub_pcst_spearman_dict[\\n    \\\"augmented_conf_hub_ppi_b_2.6\\\"\\n].copy()\\nconf_hub_spearman_sol.name = \\\"conf_hub_spearman_sol\\\"\\nprint(nx.info(conf_hub_spearman_sol))\";\n",
       "                var nbb_formatted_code = \"conf_hub_spearman_sol = augmented_conf_hub_pcst_spearman_dict[\\n    \\\"augmented_conf_hub_ppi_b_2.6\\\"\\n].copy()\\nconf_hub_spearman_sol.name = \\\"conf_hub_spearman_sol\\\"\\nprint(nx.info(conf_hub_spearman_sol))\";\n",
       "                var nbb_cells = Jupyter.notebook.get_cells();\n",
       "                for (var i = 0; i < nbb_cells.length; ++i) {\n",
       "                    if (nbb_cells[i].input_prompt_number == nbb_cell_id) {\n",
       "                        if (nbb_cells[i].get_text() == nbb_unformatted_code) {\n",
       "                             nbb_cells[i].set_text(nbb_formatted_code);\n",
       "                        }\n",
       "                        break;\n",
       "                    }\n",
       "                }\n",
       "            }, 500);\n",
       "            "
      ],
      "text/plain": [
       "<IPython.core.display.Javascript object>"
      ]
     },
     "metadata": {},
     "output_type": "display_data"
    }
   ],
   "source": [
    "conf_hub_spearman_sol = augmented_conf_hub_pcst_spearman_dict[\n",
    "    \"augmented_conf_hub_ppi_b_2.6\"\n",
    "].copy()\n",
    "conf_hub_spearman_sol.name = \"conf_hub_spearman_sol\"\n",
    "print(nx.info(conf_hub_spearman_sol))"
   ]
  },
  {
   "cell_type": "markdown",
   "id": "d5a38ea1",
   "metadata": {},
   "source": [
    "The selected network consists of 224 nodes with an average degree of 4.27 stemming from 521 edges. It is much sparser compared to the solution obtained by using the MIscore edge weights."
   ]
  },
  {
   "cell_type": "markdown",
   "id": "4e401cd5",
   "metadata": {},
   "source": [
    "Similar as previously we also derive a network that is further outgrown by selecting the network obtained for two times the minimum $\\beta$ value to span all 43 specific ORF targets."
   ]
  },
  {
   "cell_type": "code",
   "execution_count": 23,
   "id": "c9e967f9",
   "metadata": {},
   "outputs": [
    {
     "name": "stdout",
     "output_type": "stream",
     "text": [
      "Name: conf_hub_spearman_sol_ext\n",
      "Type: Graph\n",
      "Number of nodes: 1276\n",
      "Number of edges: 3718\n",
      "Average degree:   5.8276\n"
     ]
    },
    {
     "data": {
      "application/javascript": [
       "\n",
       "            setTimeout(function() {\n",
       "                var nbb_cell_id = 23;\n",
       "                var nbb_unformatted_code = \"conf_hub_spearman_sol_ext = augmented_conf_hub_pcst_spearman_dict[\\n    \\\"augmented_conf_hub_ppi_b_5.2\\\"\\n].copy()\\nconf_hub_spearman_sol_ext.name = \\\"conf_hub_spearman_sol_ext\\\"\\nprint(nx.info(conf_hub_spearman_sol_ext))\";\n",
       "                var nbb_formatted_code = \"conf_hub_spearman_sol_ext = augmented_conf_hub_pcst_spearman_dict[\\n    \\\"augmented_conf_hub_ppi_b_5.2\\\"\\n].copy()\\nconf_hub_spearman_sol_ext.name = \\\"conf_hub_spearman_sol_ext\\\"\\nprint(nx.info(conf_hub_spearman_sol_ext))\";\n",
       "                var nbb_cells = Jupyter.notebook.get_cells();\n",
       "                for (var i = 0; i < nbb_cells.length; ++i) {\n",
       "                    if (nbb_cells[i].input_prompt_number == nbb_cell_id) {\n",
       "                        if (nbb_cells[i].get_text() == nbb_unformatted_code) {\n",
       "                             nbb_cells[i].set_text(nbb_formatted_code);\n",
       "                        }\n",
       "                        break;\n",
       "                    }\n",
       "                }\n",
       "            }, 500);\n",
       "            "
      ],
      "text/plain": [
       "<IPython.core.display.Javascript object>"
      ]
     },
     "metadata": {},
     "output_type": "display_data"
    }
   ],
   "source": [
    "conf_hub_spearman_sol_ext = augmented_conf_hub_pcst_spearman_dict[\n",
    "    \"augmented_conf_hub_ppi_b_5.2\"\n",
    "].copy()\n",
    "conf_hub_spearman_sol_ext.name = \"conf_hub_spearman_sol_ext\"\n",
    "print(nx.info(conf_hub_spearman_sol_ext))"
   ]
  },
  {
   "cell_type": "markdown",
   "id": "95bda755",
   "metadata": {},
   "source": [
    "---\n",
    "\n",
    "#### 2.1.c. Comparison of the MIscore and Spearman edge cost solutions\n",
    "\n",
    "To compare the solutions with the ones obtained previously for the MINT score based edge weights, we will look at the IoU of the nodes set of those two for the different choices of $\\beta$."
   ]
  },
  {
   "cell_type": "code",
   "execution_count": 24,
   "id": "e0166008",
   "metadata": {},
   "outputs": [
    {
     "name": "stderr",
     "output_type": "stream",
     "text": [
      "100%|██████████| 99/99 [01:43<00:00,  1.05s/it]\n"
     ]
    },
    {
     "data": {
      "image/png": "[encoded data removed]",
      "text/plain": [
       "<Figure size 864x576 with 2 Axes>"
      ]
     },
     "metadata": {
      "needs_background": "light"
     },
     "output_type": "display_data"
    },
    {
     "data": {
      "application/javascript": [
       "\n",
       "            setTimeout(function() {\n",
       "                var nbb_cell_id = 24;\n",
       "                var nbb_unformatted_code = \"fig, ax, mis_spearman_node_ious = plot_solution_node_ious(\\n    augmented_conf_hub_pcst_mis_dict,\\n    augmented_conf_hub_pcst_spearman_dict,\\n    xlabel=\\\"Networks Spearman (10beta)\\\",\\n    ylabel=\\\"Networks MIscore (10beta)\\\",\\n)\\nplt.show()\";\n",
       "                var nbb_formatted_code = \"fig, ax, mis_spearman_node_ious = plot_solution_node_ious(\\n    augmented_conf_hub_pcst_mis_dict,\\n    augmented_conf_hub_pcst_spearman_dict,\\n    xlabel=\\\"Networks Spearman (10beta)\\\",\\n    ylabel=\\\"Networks MIscore (10beta)\\\",\\n)\\nplt.show()\";\n",
       "                var nbb_cells = Jupyter.notebook.get_cells();\n",
       "                for (var i = 0; i < nbb_cells.length; ++i) {\n",
       "                    if (nbb_cells[i].input_prompt_number == nbb_cell_id) {\n",
       "                        if (nbb_cells[i].get_text() == nbb_unformatted_code) {\n",
       "                             nbb_cells[i].set_text(nbb_formatted_code);\n",
       "                        }\n",
       "                        break;\n",
       "                    }\n",
       "                }\n",
       "            }, 500);\n",
       "            "
      ],
      "text/plain": [
       "<IPython.core.display.Javascript object>"
      ]
     },
     "metadata": {},
     "output_type": "display_data"
    }
   ],
   "source": [
    "fig, ax, mis_spearman_node_ious = plot_solution_node_ious(\n",
    "    augmented_conf_hub_pcst_mis_dict,\n",
    "    augmented_conf_hub_pcst_spearman_dict,\n",
    "    xlabel=\"Networks Spearman (10beta)\",\n",
    "    ylabel=\"Networks MIscore (10beta)\",\n",
    ")\n",
    "plt.show()"
   ]
  },
  {
   "cell_type": "markdown",
   "id": "a39e6f51",
   "metadata": {},
   "source": [
    "As seen in the above plot the IoU is becomes relatively high for large $\\beta$ values, i.e. for $\\beta \\geq (4,12)$ for the MIscore based edge weights and the Spearman edge weights respectively. The networks associated with those span 3892 respectively 4109 out 8902 nodes of the ``conf_hub_ppi``. Additionally it covers roughly 50% respectively 40% of all edges in the input graph."
   ]
  },
  {
   "cell_type": "code",
   "execution_count": 26,
   "id": "2cfed829",
   "metadata": {},
   "outputs": [
    {
     "data": {
      "image/png": "[encoded data removed]",
      "text/plain": [
       "<Figure size 1152x288 with 2 Axes>"
      ]
     },
     "metadata": {
      "needs_background": "light"
     },
     "output_type": "display_data"
    },
    {
     "data": {
      "application/javascript": [
       "\n",
       "            setTimeout(function() {\n",
       "                var nbb_cell_id = 26;\n",
       "                var nbb_unformatted_code = \"fig, ax = plt.subplots(ncols=2, figsize=[16, 4])\\nax = ax.flatten()\\nax[0].plot(np.arange(0.1, 10, 0.1), np.max(mis_spearman_node_ious, axis=1))\\nax[0].set_xlabel(\\\"beta\\\")\\nax[0].set_ylabel(\\\"Max IoU\\\")\\nax[0].set_title(\\\"Max. IoU of MIscore cost networks with Spearman cost networks\\\")\\nax[1].plot(np.arange(0.1, 20, 0.1), np.max(mis_spearman_node_ious, axis=0))\\nax[1].set_xlabel(\\\"beta\\\")\\nax[1].set_ylabel(\\\"Max IoU\\\")\\nax[1].set_title(\\\"Max. IoU of Spearman cost networks with MIscore cost networks\\\")\\nplt.show()\";\n",
       "                var nbb_formatted_code = \"fig, ax = plt.subplots(ncols=2, figsize=[16, 4])\\nax = ax.flatten()\\nax[0].plot(np.arange(0.1, 10, 0.1), np.max(mis_spearman_node_ious, axis=1))\\nax[0].set_xlabel(\\\"beta\\\")\\nax[0].set_ylabel(\\\"Max IoU\\\")\\nax[0].set_title(\\\"Max. IoU of MIscore cost networks with Spearman cost networks\\\")\\nax[1].plot(np.arange(0.1, 20, 0.1), np.max(mis_spearman_node_ious, axis=0))\\nax[1].set_xlabel(\\\"beta\\\")\\nax[1].set_ylabel(\\\"Max IoU\\\")\\nax[1].set_title(\\\"Max. IoU of Spearman cost networks with MIscore cost networks\\\")\\nplt.show()\";\n",
       "                var nbb_cells = Jupyter.notebook.get_cells();\n",
       "                for (var i = 0; i < nbb_cells.length; ++i) {\n",
       "                    if (nbb_cells[i].input_prompt_number == nbb_cell_id) {\n",
       "                        if (nbb_cells[i].get_text() == nbb_unformatted_code) {\n",
       "                             nbb_cells[i].set_text(nbb_formatted_code);\n",
       "                        }\n",
       "                        break;\n",
       "                    }\n",
       "                }\n",
       "            }, 500);\n",
       "            "
      ],
      "text/plain": [
       "<IPython.core.display.Javascript object>"
      ]
     },
     "metadata": {},
     "output_type": "display_data"
    }
   ],
   "source": [
    "fig, ax = plt.subplots(ncols=2, figsize=[16, 4])\n",
    "ax = ax.flatten()\n",
    "ax[0].plot(np.arange(0.1, 10, 0.1), np.max(mis_spearman_node_ious, axis=1))\n",
    "ax[0].set_xlabel(\"beta\")\n",
    "ax[0].set_ylabel(\"Max IoU\")\n",
    "ax[0].set_title(\"Max. IoU of MIscore cost networks with Spearman cost networks\")\n",
    "ax[1].plot(np.arange(0.1, 20, 0.1), np.max(mis_spearman_node_ious, axis=0))\n",
    "ax[1].set_xlabel(\"beta\")\n",
    "ax[1].set_ylabel(\"Max IoU\")\n",
    "ax[1].set_title(\"Max. IoU of Spearman cost networks with MIscore cost networks\")\n",
    "plt.show()"
   ]
  },
  {
   "cell_type": "markdown",
   "id": "0435c9b1",
   "metadata": {},
   "source": [
    "The plots above also indicate that for choices of $\\beta \\leq (2.1, 5.9)$ the IoU of the node sets is upper bounded by 0.5."
   ]
  },
  {
   "cell_type": "markdown",
   "id": "aec639b6",
   "metadata": {},
   "source": [
    "This shows, that the PCST solutions for moderate choices of $\\beta$ are quite different. Thus, we will consider both solutions in our further anlayses, i.e. the networks obtained for a choice of $\\beta=0.6$ for the MIscore edge cost network and $\\beta=2.6$ for the Spearman correlation edge cost network."
   ]
  },
  {
   "cell_type": "markdown",
   "id": "eddfbc7b",
   "metadata": {},
   "source": [
    "---\n",
    "\n",
    "### 2.2 Confidence-hub3 network\n",
    "\n",
    "Next, we analyze perform a similar set of analyses but using the ``conf_hub3_ppi`` as an input graph that relates to less conservative hub-node prunning."
   ]
  },
  {
   "cell_type": "markdown",
   "id": "5292a1ff",
   "metadata": {},
   "source": [
    "#### 2.2.a. MINT score edge weights"
   ]
  },
  {
   "cell_type": "code",
   "execution_count": 27,
   "id": "184aa9b0",
   "metadata": {},
   "outputs": [
    {
     "data": {
      "application/javascript": [
       "\n",
       "            setTimeout(function() {\n",
       "                var nbb_cell_id = 27;\n",
       "                var nbb_unformatted_code = \"bs = np.arange(0.1, 10, 0.1)\";\n",
       "                var nbb_formatted_code = \"bs = np.arange(0.1, 10, 0.1)\";\n",
       "                var nbb_cells = Jupyter.notebook.get_cells();\n",
       "                for (var i = 0; i < nbb_cells.length; ++i) {\n",
       "                    if (nbb_cells[i].input_prompt_number == nbb_cell_id) {\n",
       "                        if (nbb_cells[i].get_text() == nbb_unformatted_code) {\n",
       "                             nbb_cells[i].set_text(nbb_formatted_code);\n",
       "                        }\n",
       "                        break;\n",
       "                    }\n",
       "                }\n",
       "            }, 500);\n",
       "            "
      ],
      "text/plain": [
       "<IPython.core.display.Javascript object>"
      ]
     },
     "metadata": {},
     "output_type": "display_data"
    }
   ],
   "source": [
    "bs = np.arange(0.1, 10, 0.1)"
   ]
  },
  {
   "cell_type": "code",
   "execution_count": 28,
   "id": "fd6c7726",
   "metadata": {},
   "outputs": [
    {
     "name": "stderr",
     "output_type": "stream",
     "text": [
      "Compute PCSTs: 100%|██████████| 99/99 [00:06<00:00, 15.03it/s]\n"
     ]
    },
    {
     "data": {
      "application/javascript": [
       "\n",
       "            setTimeout(function() {\n",
       "                var nbb_cell_id = 28;\n",
       "                var nbb_unformatted_code = \"(\\n    conf_hub3_pcst_mis_dict,\\n    augmented_conf_hub3_pcst_mis_dict,\\n) = run_pcst_sensitivity_analyses(\\n    graph=conf_hub3_ppi,\\n    bs=bs,\\n    prize_key=\\\"prize\\\",\\n    weight_key=\\\"mi_score\\\",\\n    minmax_scale=True,\\n)\";\n",
       "                var nbb_formatted_code = \"(\\n    conf_hub3_pcst_mis_dict,\\n    augmented_conf_hub3_pcst_mis_dict,\\n) = run_pcst_sensitivity_analyses(\\n    graph=conf_hub3_ppi,\\n    bs=bs,\\n    prize_key=\\\"prize\\\",\\n    weight_key=\\\"mi_score\\\",\\n    minmax_scale=True,\\n)\";\n",
       "                var nbb_cells = Jupyter.notebook.get_cells();\n",
       "                for (var i = 0; i < nbb_cells.length; ++i) {\n",
       "                    if (nbb_cells[i].input_prompt_number == nbb_cell_id) {\n",
       "                        if (nbb_cells[i].get_text() == nbb_unformatted_code) {\n",
       "                             nbb_cells[i].set_text(nbb_formatted_code);\n",
       "                        }\n",
       "                        break;\n",
       "                    }\n",
       "                }\n",
       "            }, 500);\n",
       "            "
      ],
      "text/plain": [
       "<IPython.core.display.Javascript object>"
      ]
     },
     "metadata": {},
     "output_type": "display_data"
    }
   ],
   "source": [
    "(\n",
    "    conf_hub3_pcst_mis_dict,\n",
    "    augmented_conf_hub3_pcst_mis_dict,\n",
    ") = run_pcst_sensitivity_analyses(\n",
    "    graph=conf_hub3_ppi,\n",
    "    bs=bs,\n",
    "    prize_key=\"prize\",\n",
    "    weight_key=\"mi_score\",\n",
    "    minmax_scale=True,\n",
    ")"
   ]
  },
  {
   "cell_type": "code",
   "execution_count": 29,
   "id": "5d1f3279",
   "metadata": {},
   "outputs": [
    {
     "name": "stderr",
     "output_type": "stream",
     "text": [
      "Analyze tree: 100%|██████████| 99/99 [01:24<00:00,  1.17it/s]\n"
     ]
    },
    {
     "data": {
      "text/html": [
       "<div>\n",
       "<style scoped>\n",
       "    .dataframe tbody tr th:only-of-type {\n",
       "        vertical-align: middle;\n",
       "    }\n",
       "\n",
       "    .dataframe tbody tr th {\n",
       "        vertical-align: top;\n",
       "    }\n",
       "\n",
       "    .dataframe thead th {\n",
       "        text-align: right;\n",
       "    }\n",
       "</style>\n",
       "<table border=\"1\" class=\"dataframe\">\n",
       "  <thead>\n",
       "    <tr style=\"text-align: right;\">\n",
       "      <th></th>\n",
       "      <th>beta</th>\n",
       "      <th>n_nodes</th>\n",
       "      <th>n_edges</th>\n",
       "      <th>n_connected_components</th>\n",
       "      <th>n_louvain_clusters</th>\n",
       "      <th>avg_node_degree</th>\n",
       "      <th>std_node_degree</th>\n",
       "      <th>n_leaf_nodes</th>\n",
       "      <th>n_target_nodes</th>\n",
       "      <th>n_spec_target_nodes</th>\n",
       "      <th>n_spec_target_leafs</th>\n",
       "      <th>avg_spec_target_degree</th>\n",
       "      <th>std_spec_target_degree</th>\n",
       "    </tr>\n",
       "  </thead>\n",
       "  <tbody>\n",
       "    <tr>\n",
       "      <th>augmented_conf_hub3_ppi_b_0.6</th>\n",
       "      <td>0.6</td>\n",
       "      <td>376</td>\n",
       "      <td>2884</td>\n",
       "      <td>1</td>\n",
       "      <td>7</td>\n",
       "      <td>15.340426</td>\n",
       "      <td>13.344696</td>\n",
       "      <td>8</td>\n",
       "      <td>105</td>\n",
       "      <td>43</td>\n",
       "      <td>3</td>\n",
       "      <td>13.837209</td>\n",
       "      <td>12.632425</td>\n",
       "    </tr>\n",
       "    <tr>\n",
       "      <th>augmented_conf_hub3_ppi_b_0.7</th>\n",
       "      <td>0.7</td>\n",
       "      <td>449</td>\n",
       "      <td>3535</td>\n",
       "      <td>1</td>\n",
       "      <td>9</td>\n",
       "      <td>15.746102</td>\n",
       "      <td>14.072597</td>\n",
       "      <td>7</td>\n",
       "      <td>110</td>\n",
       "      <td>43</td>\n",
       "      <td>3</td>\n",
       "      <td>14.860465</td>\n",
       "      <td>13.712295</td>\n",
       "    </tr>\n",
       "    <tr>\n",
       "      <th>augmented_conf_hub3_ppi_b_0.8</th>\n",
       "      <td>0.8</td>\n",
       "      <td>562</td>\n",
       "      <td>4398</td>\n",
       "      <td>1</td>\n",
       "      <td>10</td>\n",
       "      <td>15.651246</td>\n",
       "      <td>14.986212</td>\n",
       "      <td>19</td>\n",
       "      <td>113</td>\n",
       "      <td>43</td>\n",
       "      <td>2</td>\n",
       "      <td>16.279070</td>\n",
       "      <td>14.826635</td>\n",
       "    </tr>\n",
       "    <tr>\n",
       "      <th>augmented_conf_hub3_ppi_b_0.9</th>\n",
       "      <td>0.9</td>\n",
       "      <td>659</td>\n",
       "      <td>5121</td>\n",
       "      <td>1</td>\n",
       "      <td>9</td>\n",
       "      <td>15.541730</td>\n",
       "      <td>15.504447</td>\n",
       "      <td>26</td>\n",
       "      <td>115</td>\n",
       "      <td>43</td>\n",
       "      <td>2</td>\n",
       "      <td>16.976744</td>\n",
       "      <td>15.461112</td>\n",
       "    </tr>\n",
       "    <tr>\n",
       "      <th>augmented_conf_hub3_ppi_b_1.0</th>\n",
       "      <td>1.0</td>\n",
       "      <td>755</td>\n",
       "      <td>5796</td>\n",
       "      <td>1</td>\n",
       "      <td>9</td>\n",
       "      <td>15.353642</td>\n",
       "      <td>15.957335</td>\n",
       "      <td>35</td>\n",
       "      <td>118</td>\n",
       "      <td>43</td>\n",
       "      <td>2</td>\n",
       "      <td>17.930233</td>\n",
       "      <td>16.666908</td>\n",
       "    </tr>\n",
       "    <tr>\n",
       "      <th>...</th>\n",
       "      <td>...</td>\n",
       "      <td>...</td>\n",
       "      <td>...</td>\n",
       "      <td>...</td>\n",
       "      <td>...</td>\n",
       "      <td>...</td>\n",
       "      <td>...</td>\n",
       "      <td>...</td>\n",
       "      <td>...</td>\n",
       "      <td>...</td>\n",
       "      <td>...</td>\n",
       "      <td>...</td>\n",
       "      <td>...</td>\n",
       "    </tr>\n",
       "    <tr>\n",
       "      <th>augmented_conf_hub3_ppi_b_9.5</th>\n",
       "      <td>9.5</td>\n",
       "      <td>6488</td>\n",
       "      <td>35223</td>\n",
       "      <td>1</td>\n",
       "      <td>28</td>\n",
       "      <td>10.857891</td>\n",
       "      <td>18.771933</td>\n",
       "      <td>1215</td>\n",
       "      <td>178</td>\n",
       "      <td>43</td>\n",
       "      <td>1</td>\n",
       "      <td>40.744186</td>\n",
       "      <td>39.836347</td>\n",
       "    </tr>\n",
       "    <tr>\n",
       "      <th>augmented_conf_hub3_ppi_b_9.6</th>\n",
       "      <td>9.6</td>\n",
       "      <td>6483</td>\n",
       "      <td>35174</td>\n",
       "      <td>1</td>\n",
       "      <td>30</td>\n",
       "      <td>10.851149</td>\n",
       "      <td>18.804618</td>\n",
       "      <td>1230</td>\n",
       "      <td>179</td>\n",
       "      <td>43</td>\n",
       "      <td>1</td>\n",
       "      <td>40.837209</td>\n",
       "      <td>40.016235</td>\n",
       "    </tr>\n",
       "    <tr>\n",
       "      <th>augmented_conf_hub3_ppi_b_9.7</th>\n",
       "      <td>9.7</td>\n",
       "      <td>6514</td>\n",
       "      <td>35323</td>\n",
       "      <td>1</td>\n",
       "      <td>24</td>\n",
       "      <td>10.845256</td>\n",
       "      <td>18.802424</td>\n",
       "      <td>1232</td>\n",
       "      <td>178</td>\n",
       "      <td>43</td>\n",
       "      <td>1</td>\n",
       "      <td>40.837209</td>\n",
       "      <td>40.072568</td>\n",
       "    </tr>\n",
       "    <tr>\n",
       "      <th>augmented_conf_hub3_ppi_b_9.8</th>\n",
       "      <td>9.8</td>\n",
       "      <td>6522</td>\n",
       "      <td>35299</td>\n",
       "      <td>1</td>\n",
       "      <td>22</td>\n",
       "      <td>10.824594</td>\n",
       "      <td>18.780856</td>\n",
       "      <td>1244</td>\n",
       "      <td>178</td>\n",
       "      <td>43</td>\n",
       "      <td>1</td>\n",
       "      <td>40.860465</td>\n",
       "      <td>40.113549</td>\n",
       "    </tr>\n",
       "    <tr>\n",
       "      <th>augmented_conf_hub3_ppi_b_9.9</th>\n",
       "      <td>9.9</td>\n",
       "      <td>6561</td>\n",
       "      <td>35479</td>\n",
       "      <td>1</td>\n",
       "      <td>26</td>\n",
       "      <td>10.815120</td>\n",
       "      <td>18.783092</td>\n",
       "      <td>1254</td>\n",
       "      <td>178</td>\n",
       "      <td>43</td>\n",
       "      <td>1</td>\n",
       "      <td>40.860465</td>\n",
       "      <td>40.137312</td>\n",
       "    </tr>\n",
       "  </tbody>\n",
       "</table>\n",
       "<p>94 rows × 13 columns</p>\n",
       "</div>"
      ],
      "text/plain": [
       "                               beta  n_nodes  n_edges  n_connected_components  \\\n",
       "augmented_conf_hub3_ppi_b_0.6   0.6      376     2884                       1   \n",
       "augmented_conf_hub3_ppi_b_0.7   0.7      449     3535                       1   \n",
       "augmented_conf_hub3_ppi_b_0.8   0.8      562     4398                       1   \n",
       "augmented_conf_hub3_ppi_b_0.9   0.9      659     5121                       1   \n",
       "augmented_conf_hub3_ppi_b_1.0   1.0      755     5796                       1   \n",
       "...                             ...      ...      ...                     ...   \n",
       "augmented_conf_hub3_ppi_b_9.5   9.5     6488    35223                       1   \n",
       "augmented_conf_hub3_ppi_b_9.6   9.6     6483    35174                       1   \n",
       "augmented_conf_hub3_ppi_b_9.7   9.7     6514    35323                       1   \n",
       "augmented_conf_hub3_ppi_b_9.8   9.8     6522    35299                       1   \n",
       "augmented_conf_hub3_ppi_b_9.9   9.9     6561    35479                       1   \n",
       "\n",
       "                               n_louvain_clusters  avg_node_degree  \\\n",
       "augmented_conf_hub3_ppi_b_0.6                   7        15.340426   \n",
       "augmented_conf_hub3_ppi_b_0.7                   9        15.746102   \n",
       "augmented_conf_hub3_ppi_b_0.8                  10        15.651246   \n",
       "augmented_conf_hub3_ppi_b_0.9                   9        15.541730   \n",
       "augmented_conf_hub3_ppi_b_1.0                   9        15.353642   \n",
       "...                                           ...              ...   \n",
       "augmented_conf_hub3_ppi_b_9.5                  28        10.857891   \n",
       "augmented_conf_hub3_ppi_b_9.6                  30        10.851149   \n",
       "augmented_conf_hub3_ppi_b_9.7                  24        10.845256   \n",
       "augmented_conf_hub3_ppi_b_9.8                  22        10.824594   \n",
       "augmented_conf_hub3_ppi_b_9.9                  26        10.815120   \n",
       "\n",
       "                               std_node_degree  n_leaf_nodes  n_target_nodes  \\\n",
       "augmented_conf_hub3_ppi_b_0.6        13.344696             8             105   \n",
       "augmented_conf_hub3_ppi_b_0.7        14.072597             7             110   \n",
       "augmented_conf_hub3_ppi_b_0.8        14.986212            19             113   \n",
       "augmented_conf_hub3_ppi_b_0.9        15.504447            26             115   \n",
       "augmented_conf_hub3_ppi_b_1.0        15.957335            35             118   \n",
       "...                                        ...           ...             ...   \n",
       "augmented_conf_hub3_ppi_b_9.5        18.771933          1215             178   \n",
       "augmented_conf_hub3_ppi_b_9.6        18.804618          1230             179   \n",
       "augmented_conf_hub3_ppi_b_9.7        18.802424          1232             178   \n",
       "augmented_conf_hub3_ppi_b_9.8        18.780856          1244             178   \n",
       "augmented_conf_hub3_ppi_b_9.9        18.783092          1254             178   \n",
       "\n",
       "                               n_spec_target_nodes  n_spec_target_leafs  \\\n",
       "augmented_conf_hub3_ppi_b_0.6                   43                    3   \n",
       "augmented_conf_hub3_ppi_b_0.7                   43                    3   \n",
       "augmented_conf_hub3_ppi_b_0.8                   43                    2   \n",
       "augmented_conf_hub3_ppi_b_0.9                   43                    2   \n",
       "augmented_conf_hub3_ppi_b_1.0                   43                    2   \n",
       "...                                            ...                  ...   \n",
       "augmented_conf_hub3_ppi_b_9.5                   43                    1   \n",
       "augmented_conf_hub3_ppi_b_9.6                   43                    1   \n",
       "augmented_conf_hub3_ppi_b_9.7                   43                    1   \n",
       "augmented_conf_hub3_ppi_b_9.8                   43                    1   \n",
       "augmented_conf_hub3_ppi_b_9.9                   43                    1   \n",
       "\n",
       "                               avg_spec_target_degree  std_spec_target_degree  \n",
       "augmented_conf_hub3_ppi_b_0.6               13.837209               12.632425  \n",
       "augmented_conf_hub3_ppi_b_0.7               14.860465               13.712295  \n",
       "augmented_conf_hub3_ppi_b_0.8               16.279070               14.826635  \n",
       "augmented_conf_hub3_ppi_b_0.9               16.976744               15.461112  \n",
       "augmented_conf_hub3_ppi_b_1.0               17.930233               16.666908  \n",
       "...                                               ...                     ...  \n",
       "augmented_conf_hub3_ppi_b_9.5               40.744186               39.836347  \n",
       "augmented_conf_hub3_ppi_b_9.6               40.837209               40.016235  \n",
       "augmented_conf_hub3_ppi_b_9.7               40.837209               40.072568  \n",
       "augmented_conf_hub3_ppi_b_9.8               40.860465               40.113549  \n",
       "augmented_conf_hub3_ppi_b_9.9               40.860465               40.137312  \n",
       "\n",
       "[94 rows x 13 columns]"
      ]
     },
     "execution_count": 29,
     "metadata": {},
     "output_type": "execute_result"
    },
    {
     "data": {
      "application/javascript": [
       "\n",
       "            setTimeout(function() {\n",
       "                var nbb_cell_id = 29;\n",
       "                var nbb_unformatted_code = \"conf_hub3_augmented_pcst_mis_results = analyze_pcst_sensitivity_analyses_results(\\n    augmented_conf_hub3_pcst_mis_dict,\\n    target_nodes=orf_targets,\\n    spec_targets=specific_targets,\\n)\\nconf_hub3_augmented_pcst_mis_results.loc[\\n    conf_hub3_augmented_pcst_mis_results[\\\"n_spec_target_nodes\\\"]\\n    == np.max(conf_hub3_augmented_pcst_mis_results[\\\"n_spec_target_nodes\\\"])\\n].sort_values(\\\"beta\\\")\";\n",
       "                var nbb_formatted_code = \"conf_hub3_augmented_pcst_mis_results = analyze_pcst_sensitivity_analyses_results(\\n    augmented_conf_hub3_pcst_mis_dict,\\n    target_nodes=orf_targets,\\n    spec_targets=specific_targets,\\n)\\nconf_hub3_augmented_pcst_mis_results.loc[\\n    conf_hub3_augmented_pcst_mis_results[\\\"n_spec_target_nodes\\\"]\\n    == np.max(conf_hub3_augmented_pcst_mis_results[\\\"n_spec_target_nodes\\\"])\\n].sort_values(\\\"beta\\\")\";\n",
       "                var nbb_cells = Jupyter.notebook.get_cells();\n",
       "                for (var i = 0; i < nbb_cells.length; ++i) {\n",
       "                    if (nbb_cells[i].input_prompt_number == nbb_cell_id) {\n",
       "                        if (nbb_cells[i].get_text() == nbb_unformatted_code) {\n",
       "                             nbb_cells[i].set_text(nbb_formatted_code);\n",
       "                        }\n",
       "                        break;\n",
       "                    }\n",
       "                }\n",
       "            }, 500);\n",
       "            "
      ],
      "text/plain": [
       "<IPython.core.display.Javascript object>"
      ]
     },
     "metadata": {},
     "output_type": "display_data"
    }
   ],
   "source": [
    "conf_hub3_augmented_pcst_mis_results = analyze_pcst_sensitivity_analyses_results(\n",
    "    augmented_conf_hub3_pcst_mis_dict,\n",
    "    target_nodes=orf_targets,\n",
    "    spec_targets=specific_targets,\n",
    ")\n",
    "conf_hub3_augmented_pcst_mis_results.loc[\n",
    "    conf_hub3_augmented_pcst_mis_results[\"n_spec_target_nodes\"]\n",
    "    == np.max(conf_hub3_augmented_pcst_mis_results[\"n_spec_target_nodes\"])\n",
    "].sort_values(\"beta\")"
   ]
  },
  {
   "cell_type": "code",
   "execution_count": 30,
   "id": "7717e3da",
   "metadata": {},
   "outputs": [
    {
     "data": {
      "image/png": "[encoded data removed]",
      "text/plain": [
       "<Figure size 864x720 with 6 Axes>"
      ]
     },
     "metadata": {
      "needs_background": "light"
     },
     "output_type": "display_data"
    },
    {
     "data": {
      "application/javascript": [
       "\n",
       "            setTimeout(function() {\n",
       "                var nbb_cell_id = 30;\n",
       "                var nbb_unformatted_code = \"summarize_analyses_results_visually(conf_hub3_augmented_pcst_mis_results)\";\n",
       "                var nbb_formatted_code = \"summarize_analyses_results_visually(conf_hub3_augmented_pcst_mis_results)\";\n",
       "                var nbb_cells = Jupyter.notebook.get_cells();\n",
       "                for (var i = 0; i < nbb_cells.length; ++i) {\n",
       "                    if (nbb_cells[i].input_prompt_number == nbb_cell_id) {\n",
       "                        if (nbb_cells[i].get_text() == nbb_unformatted_code) {\n",
       "                             nbb_cells[i].set_text(nbb_formatted_code);\n",
       "                        }\n",
       "                        break;\n",
       "                    }\n",
       "                }\n",
       "            }, 500);\n",
       "            "
      ],
      "text/plain": [
       "<IPython.core.display.Javascript object>"
      ]
     },
     "metadata": {},
     "output_type": "display_data"
    }
   ],
   "source": [
    "summarize_analyses_results_visually(conf_hub3_augmented_pcst_mis_results)"
   ]
  },
  {
   "cell_type": "markdown",
   "id": "d0782fe7",
   "metadata": {},
   "source": [
    "The analyses results look very similar to the ones we obtained for input network were we have pruned away more of the hubnodes. To quantify this we once again look at the IoU of the node sets for the two solution sets."
   ]
  },
  {
   "cell_type": "code",
   "execution_count": 31,
   "id": "cbb37141",
   "metadata": {},
   "outputs": [
    {
     "name": "stderr",
     "output_type": "stream",
     "text": [
      "100%|██████████| 99/99 [01:06<00:00,  1.48it/s]\n"
     ]
    },
    {
     "data": {
      "image/png": "[encoded data removed]",
      "text/plain": [
       "<Figure size 864x576 with 2 Axes>"
      ]
     },
     "metadata": {
      "needs_background": "light"
     },
     "output_type": "display_data"
    },
    {
     "data": {
      "application/javascript": [
       "\n",
       "            setTimeout(function() {\n",
       "                var nbb_cell_id = 31;\n",
       "                var nbb_unformatted_code = \"fig, ax, mis_hub_hub3_node_ious = plot_solution_node_ious(\\n    augmented_conf_hub_pcst_mis_dict,\\n    augmented_conf_hub3_pcst_mis_dict,\\n    xlabel=\\\"Networks Hub3 (10beta)\\\",\\n    ylabel=\\\"Networks Hub (10beta)\\\",\\n)\\nplt.show()\";\n",
       "                var nbb_formatted_code = \"fig, ax, mis_hub_hub3_node_ious = plot_solution_node_ious(\\n    augmented_conf_hub_pcst_mis_dict,\\n    augmented_conf_hub3_pcst_mis_dict,\\n    xlabel=\\\"Networks Hub3 (10beta)\\\",\\n    ylabel=\\\"Networks Hub (10beta)\\\",\\n)\\nplt.show()\";\n",
       "                var nbb_cells = Jupyter.notebook.get_cells();\n",
       "                for (var i = 0; i < nbb_cells.length; ++i) {\n",
       "                    if (nbb_cells[i].input_prompt_number == nbb_cell_id) {\n",
       "                        if (nbb_cells[i].get_text() == nbb_unformatted_code) {\n",
       "                             nbb_cells[i].set_text(nbb_formatted_code);\n",
       "                        }\n",
       "                        break;\n",
       "                    }\n",
       "                }\n",
       "            }, 500);\n",
       "            "
      ],
      "text/plain": [
       "<IPython.core.display.Javascript object>"
      ]
     },
     "metadata": {},
     "output_type": "display_data"
    }
   ],
   "source": [
    "fig, ax, mis_hub_hub3_node_ious = plot_solution_node_ious(\n",
    "    augmented_conf_hub_pcst_mis_dict,\n",
    "    augmented_conf_hub3_pcst_mis_dict,\n",
    "    xlabel=\"Networks Hub3 (10beta)\",\n",
    "    ylabel=\"Networks Hub (10beta)\",\n",
    ")\n",
    "plt.show()"
   ]
  },
  {
   "cell_type": "code",
   "execution_count": 33,
   "id": "019cb3da",
   "metadata": {},
   "outputs": [
    {
     "data": {
      "image/png": "[encoded data removed]",
      "text/plain": [
       "<Figure size 1152x288 with 2 Axes>"
      ]
     },
     "metadata": {
      "needs_background": "light"
     },
     "output_type": "display_data"
    },
    {
     "data": {
      "application/javascript": [
       "\n",
       "            setTimeout(function() {\n",
       "                var nbb_cell_id = 33;\n",
       "                var nbb_unformatted_code = \"fig, ax = plt.subplots(ncols=2, figsize=[16, 4])\\nax = ax.flatten()\\nax[0].plot(np.arange(0.1, 10, 0.1), np.max(mis_hub_hub3_node_ious, axis=1))\\nax[0].set_xlabel(\\\"beta\\\")\\nax[0].set_ylabel(\\\"Max IoU\\\")\\nax[0].set_title(\\\"Max. IoU of Hub MI networks with Hub3 MI networks\\\")\\nax[1].plot(np.arange(0.1, 10, 0.1), np.max(mis_hub_hub3_node_ious, axis=0))\\nax[1].set_xlabel(\\\"beta\\\")\\nax[1].set_ylabel(\\\"Max IoU\\\")\\nax[1].set_title(\\\"Max. IoU of Hub3 networks with Hub networks\\\")\\nplt.show()\";\n",
       "                var nbb_formatted_code = \"fig, ax = plt.subplots(ncols=2, figsize=[16, 4])\\nax = ax.flatten()\\nax[0].plot(np.arange(0.1, 10, 0.1), np.max(mis_hub_hub3_node_ious, axis=1))\\nax[0].set_xlabel(\\\"beta\\\")\\nax[0].set_ylabel(\\\"Max IoU\\\")\\nax[0].set_title(\\\"Max. IoU of Hub MI networks with Hub3 MI networks\\\")\\nax[1].plot(np.arange(0.1, 10, 0.1), np.max(mis_hub_hub3_node_ious, axis=0))\\nax[1].set_xlabel(\\\"beta\\\")\\nax[1].set_ylabel(\\\"Max IoU\\\")\\nax[1].set_title(\\\"Max. IoU of Hub3 networks with Hub networks\\\")\\nplt.show()\";\n",
       "                var nbb_cells = Jupyter.notebook.get_cells();\n",
       "                for (var i = 0; i < nbb_cells.length; ++i) {\n",
       "                    if (nbb_cells[i].input_prompt_number == nbb_cell_id) {\n",
       "                        if (nbb_cells[i].get_text() == nbb_unformatted_code) {\n",
       "                             nbb_cells[i].set_text(nbb_formatted_code);\n",
       "                        }\n",
       "                        break;\n",
       "                    }\n",
       "                }\n",
       "            }, 500);\n",
       "            "
      ],
      "text/plain": [
       "<IPython.core.display.Javascript object>"
      ]
     },
     "metadata": {},
     "output_type": "display_data"
    }
   ],
   "source": [
    "fig, ax = plt.subplots(ncols=2, figsize=[16, 4])\n",
    "ax = ax.flatten()\n",
    "ax[0].plot(np.arange(0.1, 10, 0.1), np.max(mis_hub_hub3_node_ious, axis=1))\n",
    "ax[0].set_xlabel(\"beta\")\n",
    "ax[0].set_ylabel(\"Max IoU\")\n",
    "ax[0].set_title(\"Max. IoU of Hub MI networks with Hub3 MI networks\")\n",
    "ax[1].plot(np.arange(0.1, 10, 0.1), np.max(mis_hub_hub3_node_ious, axis=0))\n",
    "ax[1].set_xlabel(\"beta\")\n",
    "ax[1].set_ylabel(\"Max IoU\")\n",
    "ax[1].set_title(\"Max. IoU of Hub3 networks with Hub networks\")\n",
    "plt.show()"
   ]
  },
  {
   "cell_type": "markdown",
   "id": "8d7a5596",
   "metadata": {},
   "source": [
    "We see that indeed the solutions seem to dependvery little on whether or not we pruned away only the top 3 nodes or the ones in the 0.28-percentile of the degree distribution for the confidence pruned input graph."
   ]
  },
  {
   "cell_type": "markdown",
   "id": "08985fd4",
   "metadata": {},
   "source": [
    "Note that the overlap of the node set is not a perfect proxy for the similarity of the subnetworks as for a stricter hubnode prunning we might have also removed more edges from the input graph that consequently will not be selected.\n",
    "\n",
    "For simplicity we again choose $\\beta=0.6$ which yields us a network spanning 375 nodes with an average degree of 13.85 stemming from 2'872 edges. The network covers 43/44 ORF targets."
   ]
  },
  {
   "cell_type": "code",
   "execution_count": 34,
   "id": "e8bb2819",
   "metadata": {},
   "outputs": [
    {
     "data": {
      "text/plain": [
       "beta                         0.600000\n",
       "n_nodes                    376.000000\n",
       "n_edges                   2884.000000\n",
       "n_connected_components       1.000000\n",
       "n_louvain_clusters           7.000000\n",
       "avg_node_degree             15.340426\n",
       "std_node_degree             13.344696\n",
       "n_leaf_nodes                 8.000000\n",
       "n_target_nodes             105.000000\n",
       "n_spec_target_nodes         43.000000\n",
       "n_spec_target_leafs          3.000000\n",
       "avg_spec_target_degree      13.837209\n",
       "std_spec_target_degree      12.632425\n",
       "Name: augmented_conf_hub3_ppi_b_0.6, dtype: float64"
      ]
     },
     "execution_count": 34,
     "metadata": {},
     "output_type": "execute_result"
    },
    {
     "data": {
      "application/javascript": [
       "\n",
       "            setTimeout(function() {\n",
       "                var nbb_cell_id = 34;\n",
       "                var nbb_unformatted_code = \"conf_hub3_augmented_pcst_mis_results.loc[\\\"augmented_conf_hub3_ppi_b_0.6\\\"]\";\n",
       "                var nbb_formatted_code = \"conf_hub3_augmented_pcst_mis_results.loc[\\\"augmented_conf_hub3_ppi_b_0.6\\\"]\";\n",
       "                var nbb_cells = Jupyter.notebook.get_cells();\n",
       "                for (var i = 0; i < nbb_cells.length; ++i) {\n",
       "                    if (nbb_cells[i].input_prompt_number == nbb_cell_id) {\n",
       "                        if (nbb_cells[i].get_text() == nbb_unformatted_code) {\n",
       "                             nbb_cells[i].set_text(nbb_formatted_code);\n",
       "                        }\n",
       "                        break;\n",
       "                    }\n",
       "                }\n",
       "            }, 500);\n",
       "            "
      ],
      "text/plain": [
       "<IPython.core.display.Javascript object>"
      ]
     },
     "metadata": {},
     "output_type": "display_data"
    }
   ],
   "source": [
    "conf_hub3_augmented_pcst_mis_results.loc[\"augmented_conf_hub3_ppi_b_0.6\"]"
   ]
  },
  {
   "cell_type": "markdown",
   "id": "2fc661b3",
   "metadata": {},
   "source": [
    "---\n",
    "\n",
    "#### 2.2.b. Spearman network"
   ]
  },
  {
   "cell_type": "code",
   "execution_count": 36,
   "id": "2240e066",
   "metadata": {},
   "outputs": [
    {
     "data": {
      "application/javascript": [
       "\n",
       "            setTimeout(function() {\n",
       "                var nbb_cell_id = 36;\n",
       "                var nbb_unformatted_code = \"bs = np.arange(0.1, 20, 0.1)\";\n",
       "                var nbb_formatted_code = \"bs = np.arange(0.1, 20, 0.1)\";\n",
       "                var nbb_cells = Jupyter.notebook.get_cells();\n",
       "                for (var i = 0; i < nbb_cells.length; ++i) {\n",
       "                    if (nbb_cells[i].input_prompt_number == nbb_cell_id) {\n",
       "                        if (nbb_cells[i].get_text() == nbb_unformatted_code) {\n",
       "                             nbb_cells[i].set_text(nbb_formatted_code);\n",
       "                        }\n",
       "                        break;\n",
       "                    }\n",
       "                }\n",
       "            }, 500);\n",
       "            "
      ],
      "text/plain": [
       "<IPython.core.display.Javascript object>"
      ]
     },
     "metadata": {},
     "output_type": "display_data"
    }
   ],
   "source": [
    "bs = np.arange(0.1, 20, 0.1)"
   ]
  },
  {
   "cell_type": "code",
   "execution_count": 37,
   "id": "d9e8561a",
   "metadata": {},
   "outputs": [
    {
     "name": "stderr",
     "output_type": "stream",
     "text": [
      "Compute PCSTs: 100%|██████████| 199/199 [00:14<00:00, 14.08it/s]\n"
     ]
    },
    {
     "data": {
      "application/javascript": [
       "\n",
       "            setTimeout(function() {\n",
       "                var nbb_cell_id = 37;\n",
       "                var nbb_unformatted_code = \"(\\n    conf_hub3_pcst_spearman_dict,\\n    augmented_conf_hub3_pcst_spearman_dict,\\n) = run_pcst_sensitivity_analyses(\\n    graph=conf_hub3_ppi,\\n    bs=bs,\\n    prize_key=\\\"prize\\\",\\n    weight_key=\\\"spearmanr\\\",\\n    minmax_scale=True,\\n)\";\n",
       "                var nbb_formatted_code = \"(\\n    conf_hub3_pcst_spearman_dict,\\n    augmented_conf_hub3_pcst_spearman_dict,\\n) = run_pcst_sensitivity_analyses(\\n    graph=conf_hub3_ppi,\\n    bs=bs,\\n    prize_key=\\\"prize\\\",\\n    weight_key=\\\"spearmanr\\\",\\n    minmax_scale=True,\\n)\";\n",
       "                var nbb_cells = Jupyter.notebook.get_cells();\n",
       "                for (var i = 0; i < nbb_cells.length; ++i) {\n",
       "                    if (nbb_cells[i].input_prompt_number == nbb_cell_id) {\n",
       "                        if (nbb_cells[i].get_text() == nbb_unformatted_code) {\n",
       "                             nbb_cells[i].set_text(nbb_formatted_code);\n",
       "                        }\n",
       "                        break;\n",
       "                    }\n",
       "                }\n",
       "            }, 500);\n",
       "            "
      ],
      "text/plain": [
       "<IPython.core.display.Javascript object>"
      ]
     },
     "metadata": {},
     "output_type": "display_data"
    }
   ],
   "source": [
    "(\n",
    "    conf_hub3_pcst_spearman_dict,\n",
    "    augmented_conf_hub3_pcst_spearman_dict,\n",
    ") = run_pcst_sensitivity_analyses(\n",
    "    graph=conf_hub3_ppi,\n",
    "    bs=bs,\n",
    "    prize_key=\"prize\",\n",
    "    weight_key=\"spearmanr\",\n",
    "    minmax_scale=True,\n",
    ")"
   ]
  },
  {
   "cell_type": "code",
   "execution_count": null,
   "id": "1b3159e5",
   "metadata": {},
   "outputs": [
    {
     "name": "stderr",
     "output_type": "stream",
     "text": [
      "Analyze tree:   0%|          | 0/199 [00:00<?, ?it/s]/home/paysan_d/miniconda3/envs/image2reg/lib/python3.8/site-packages/numpy/core/fromnumeric.py:3372: RuntimeWarning: Mean of empty slice.\n",
      "  return _methods._mean(a, axis=axis, dtype=dtype,\n",
      "/home/paysan_d/miniconda3/envs/image2reg/lib/python3.8/site-packages/numpy/core/_methods.py:170: RuntimeWarning: invalid value encountered in double_scalars\n",
      "  ret = ret.dtype.type(ret / rcount)\n",
      "/home/paysan_d/miniconda3/envs/image2reg/lib/python3.8/site-packages/numpy/core/_methods.py:233: RuntimeWarning: Degrees of freedom <= 0 for slice\n",
      "  ret = _var(a, axis=axis, dtype=dtype, out=out, ddof=ddof,\n",
      "/home/paysan_d/miniconda3/envs/image2reg/lib/python3.8/site-packages/numpy/core/_methods.py:194: RuntimeWarning: invalid value encountered in true_divide\n",
      "  arrmean = um.true_divide(\n",
      "/home/paysan_d/miniconda3/envs/image2reg/lib/python3.8/site-packages/numpy/core/_methods.py:226: RuntimeWarning: invalid value encountered in double_scalars\n",
      "  ret = ret.dtype.type(ret / rcount)\n",
      "Analyze tree:  99%|█████████▉| 197/199 [01:49<00:02,  1.06s/it]"
     ]
    }
   ],
   "source": [
    "conf_hub3_augmented_pcst_spearman_results = analyze_pcst_sensitivity_analyses_results(\n",
    "    augmented_conf_hub3_pcst_spearman_dict,\n",
    "    target_nodes=orf_targets,\n",
    "    spec_targets=specific_targets,\n",
    ")\n",
    "conf_hub3_augmented_pcst_spearman_results.loc[\n",
    "    conf_hub3_augmented_pcst_spearman_results[\"n_spec_target_nodes\"]\n",
    "    == np.max(conf_hub3_augmented_pcst_spearman_results[\"n_spec_target_nodes\"])\n",
    "].sort_values(\"beta\")"
   ]
  },
  {
   "cell_type": "code",
   "execution_count": null,
   "id": "a6db5f0d",
   "metadata": {},
   "outputs": [],
   "source": [
    "summarize_analyses_results_visually(conf_hub3_augmented_pcst_spearman_results)"
   ]
  },
  {
   "cell_type": "markdown",
   "id": "04b49525",
   "metadata": {},
   "source": [
    "Again the results look highly similar to the ones using the ``conf_hub_ppi`` as input. We further illustrate that by looking at the node IoU for the two setups."
   ]
  },
  {
   "cell_type": "code",
   "execution_count": null,
   "id": "a9f231f8",
   "metadata": {},
   "outputs": [],
   "source": [
    "fig, ax, spearman_hub_hub3_node_ious = plot_solution_node_ious(\n",
    "    augmented_conf_hub_pcst_spearman_dict,\n",
    "    augmented_conf_hub3_pcst_spearman_dict,\n",
    "    xlabel=\"Networks Hub3 (10beta)\",\n",
    "    ylabel=\"Networks Hub (10beta)\",\n",
    ")\n",
    "plt.show()"
   ]
  },
  {
   "cell_type": "code",
   "execution_count": null,
   "id": "9630ffcb",
   "metadata": {},
   "outputs": [],
   "source": [
    "fig, ax = plt.subplots(ncols=2, figsize=[16, 4])\n",
    "ax = ax.flatten()\n",
    "ax[0].plot(np.arange(0.1, 20, 0.1), np.max(spearman_hub_hub3_node_ious, axis=1))\n",
    "ax[0].set_xlabel(\"beta\")\n",
    "ax[0].set_ylabel(\"Max IoU\")\n",
    "ax[0].set_title(\"Max. IoU of Hub cost networks with Hub3 networks\")\n",
    "ax[1].plot(np.arange(0.1, 20, 0.1), np.max(spearman_hub_hub3_node_ious, axis=0))\n",
    "ax[1].set_xlabel(\"beta\")\n",
    "ax[1].set_ylabel(\"Max IoU\")\n",
    "ax[1].set_title(\"Max. IoU of Hub3 networks with Hub networks\")\n",
    "plt.show()"
   ]
  },
  {
   "cell_type": "markdown",
   "id": "f162aeea",
   "metadata": {},
   "source": [
    "We see that for Spearman correlation based networks the selected node sets are even more similar as for the networks computed based on the two different input graphs using the MIscore -based edge weights."
   ]
  },
  {
   "cell_type": "markdown",
   "id": "c359a793",
   "metadata": {},
   "source": [
    "---\n",
    "\n",
    "### 2.3. Hub network"
   ]
  },
  {
   "cell_type": "markdown",
   "id": "59678736",
   "metadata": {},
   "source": [
    "#### 2.3.a.  MIscore edge weights"
   ]
  },
  {
   "cell_type": "code",
   "execution_count": null,
   "id": "371d43d6",
   "metadata": {},
   "outputs": [],
   "source": [
    "bs = np.arange(0.1, 10, 0.1)"
   ]
  },
  {
   "cell_type": "code",
   "execution_count": null,
   "id": "0758658f",
   "metadata": {},
   "outputs": [],
   "source": [
    "(hub_pcst_mis_dict, augmented_hub_pcst_mis_dict,) = run_pcst_sensitivity_analyses(\n",
    "    graph=hub_ppi,\n",
    "    bs=bs,\n",
    "    prize_key=\"prize\",\n",
    "    weight_key=\"mi_score\",\n",
    "    minmax_scale=True,\n",
    ")"
   ]
  },
  {
   "cell_type": "code",
   "execution_count": null,
   "id": "afe90990",
   "metadata": {},
   "outputs": [],
   "source": [
    "hub_augmented_pcst_mis_results = analyze_pcst_sensitivity_analyses_results(\n",
    "    augmented_hub_pcst_mis_dict,\n",
    "    target_nodes=orf_targets,\n",
    "    spec_targets=specific_targets,\n",
    ")\n",
    "hub_augmented_pcst_mis_results.loc[\n",
    "    hub_augmented_pcst_mis_results[\"n_spec_target_nodes\"]\n",
    "    == np.max(hub_augmented_pcst_mis_results[\"n_spec_target_nodes\"])\n",
    "].sort_values(\"beta\")"
   ]
  },
  {
   "cell_type": "code",
   "execution_count": null,
   "id": "0d42fbf3",
   "metadata": {},
   "outputs": [],
   "source": [
    "summarize_analyses_results_visually(hub_augmented_pcst_mis_results)"
   ]
  },
  {
   "cell_type": "markdown",
   "id": "3fb43405",
   "metadata": {},
   "source": [
    "#### 2.3.b. Comparison with the ``conf_hub_ppi`` solution"
   ]
  },
  {
   "cell_type": "markdown",
   "id": "f37dbe07",
   "metadata": {},
   "source": [
    "For that configuration we do not aim to infer the network using the Spearman correlation as an edge weight as this will likely capture low-confidence edges which we do not want to include in the solution. Instead, we are directly looking at the similarity of the derived networks with the ones we obtained using the ``conf_hub_ppi`` as input."
   ]
  },
  {
   "cell_type": "code",
   "execution_count": null,
   "id": "1ff3f8f5",
   "metadata": {},
   "outputs": [],
   "source": [
    "fig, ax, mis_conf_hub_hub_node_ious = plot_solution_node_ious(\n",
    "    augmented_conf_hub_pcst_mis_dict,\n",
    "    augmented_hub_pcst_mis_dict,\n",
    "    xlabel=\"Networks Conf_Hub (10beta)\",\n",
    "    ylabel=\"Networks Hub (10beta)\",\n",
    ")\n",
    "plt.show()"
   ]
  },
  {
   "cell_type": "code",
   "execution_count": null,
   "id": "5560ec39",
   "metadata": {},
   "outputs": [],
   "source": [
    "fig, ax = plt.subplots(ncols=2, figsize=[16, 4])\n",
    "ax = ax.flatten()\n",
    "ax[0].plot(np.arange(0.1, 10, 0.1), np.max(mis_conf_hub_hub_node_ious, axis=1))\n",
    "ax[0].set_xlabel(\"beta\")\n",
    "ax[0].set_ylabel(\"Max IoU\")\n",
    "ax[0].set_title(\"Max. IoU of Conf Hub cost networks with Hub networks\")\n",
    "ax[1].plot(np.arange(0.1, 10, 0.1), np.max(mis_conf_hub_hub_node_ious, axis=0))\n",
    "ax[1].set_xlabel(\"beta\")\n",
    "ax[1].set_ylabel(\"Max IoU\")\n",
    "ax[1].set_title(\"Max. IoU of Hub networks with Conf Hub networks\")\n",
    "plt.show()"
   ]
  },
  {
   "cell_type": "markdown",
   "id": "805b298c",
   "metadata": {},
   "source": [
    "We see that again for moderate sizes of $\\beta$ the agreement of the node sets is very high for the different input graphs. This suggests that are derived network for our choice of $\\beta=0.6$ using the ``conf_hub_ppi`` as input is relatively stable for different choices of input graphs. We will thus proceed focussing on that network."
   ]
  },
  {
   "cell_type": "markdown",
   "id": "23c5596c",
   "metadata": {},
   "source": [
    "---\n",
    "\n",
    "## 3. Output U2OS interactome candidate"
   ]
  },
  {
   "cell_type": "markdown",
   "id": "88964a64",
   "metadata": {},
   "source": [
    "Based on our previous analyses, we select our four interactome candidates.\n",
    "\n",
    "The first network is the one that we obtained by that we obtained for $\\beta=0.6$ by running the PCST using the ``conf_hub_ppi`` as the input graph with the prizes being the min-max scaled absolute log fold-changes from the marker screen based on the CCLE data set and the edge weights being given by the $1-m(e)$ where $m(e)$ is the MINT-inspired score for the interaction of the nodes connected by edge $e$.\n",
    "\n",
    "The second network is the one that we obtained for the same setup but selecting $\\beta=1.2$ to further outgrow the network.\n",
    "\n",
    "The third and forth network are obtained by a similar setup but the edge weights are here given by $1-m(e)$ where $(e)$ is the absolute Spearman correlation of the scRNAseq data between the two genes."
   ]
  },
  {
   "cell_type": "code",
   "execution_count": null,
   "id": "d1184cbf",
   "metadata": {},
   "outputs": [],
   "source": [
    "print(nx.info(conf_hub_mis_sol))\n",
    "\n",
    "print(\"\")\n",
    "print(nx.info(conf_hub_spearman_sol))"
   ]
  },
  {
   "cell_type": "code",
   "execution_count": null,
   "id": "7e69c5f8",
   "metadata": {},
   "outputs": [],
   "source": [
    "output_dir = \"../../../data/ppi/inference_results/\"\n",
    "os.makedirs(output_dir, exist_ok=True)\n",
    "nx.write_graphml(\n",
    "    conf_hub_mis_sol,\n",
    "    os.path.join(output_dir, \"{}_cv.graphml\".format(conf_hub_mis_sol.name)),\n",
    ")\n",
    "nx.write_gpickle(\n",
    "    conf_hub_mis_sol,\n",
    "    os.path.join(output_dir, \"{}_cv.pkl\".format(conf_hub_mis_sol.name)),\n",
    ")"
   ]
  },
  {
   "cell_type": "code",
   "execution_count": null,
   "id": "72147999",
   "metadata": {},
   "outputs": [],
   "source": [
    "nx.write_graphml(\n",
    "    conf_hub_spearman_sol,\n",
    "    os.path.join(output_dir, \"{}_cv.graphml\".format(conf_hub_spearman_sol.name)),\n",
    ")\n",
    "nx.write_gpickle(\n",
    "    conf_hub_spearman_sol,\n",
    "    os.path.join(output_dir, \"{}_cv.pkl\".format(conf_hub_spearman_sol.name)),\n",
    ")"
   ]
  },
  {
   "cell_type": "code",
   "execution_count": null,
   "id": "fc4c1c96",
   "metadata": {},
   "outputs": [],
   "source": [
    "nx.write_graphml(\n",
    "    conf_hub_spearman_sol_ext,\n",
    "    os.path.join(output_dir, \"{}_cv.graphml\".format(conf_hub_spearman_sol_ext.name)),\n",
    ")\n",
    "nx.write_gpickle(\n",
    "    conf_hub_spearman_sol_ext,\n",
    "    os.path.join(output_dir, \"{}_cv.pkl\".format(conf_hub_spearman_sol_ext.name)),\n",
    ")"
   ]
  },
  {
   "cell_type": "code",
   "execution_count": null,
   "id": "ed9ae04f",
   "metadata": {},
   "outputs": [],
   "source": [
    "nx.write_graphml(\n",
    "    conf_hub_mis_sol_ext,\n",
    "    os.path.join(output_dir, \"{}_cv.graphml\".format(conf_hub_mis_sol_ext.name)),\n",
    ")\n",
    "nx.write_gpickle(\n",
    "    conf_hub_mis_sol_ext,\n",
    "    os.path.join(output_dir, \"{}_cv.pkl\".format(conf_hub_mis_sol_ext.name)),\n",
    ")"
   ]
  },
  {
   "cell_type": "code",
   "execution_count": null,
   "id": "cc2632ba",
   "metadata": {},
   "outputs": [],
   "source": []
  }
 ],
 "metadata": {
  "kernelspec": {
   "display_name": "Python 3",
   "language": "python",
   "name": "python3"
  },
  "language_info": {
   "codemirror_mode": {
    "name": "ipython",
    "version": 3
   },
   "file_extension": ".py",
   "mimetype": "text/x-python",
   "name": "python",
   "nbconvert_exporter": "python",
   "pygments_lexer": "ipython3",
   "version": "3.8.10"
  }
 },
 "nbformat": 4,
 "nbformat_minor": 5
}
