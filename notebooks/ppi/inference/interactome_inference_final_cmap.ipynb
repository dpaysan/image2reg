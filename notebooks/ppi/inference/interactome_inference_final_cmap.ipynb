{
 "cells": [
  {
   "cell_type": "markdown",
   "id": "bd5b8950",
   "metadata": {},
   "source": [
    "# Inference of the U2OS interactome\n",
    "\n",
    "---\n",
    "\n",
    "This notebook will build up on previous analyses and aims to derive the interactome of the population of U2OS cells. To this end, we will examine different configurations of input graphs, prize assignment and edge weights used in a sensititivity analysis procedure. For each different configuration we will infer the Prize collecting Steiner tree to identify Steiner and terminal nodes which will define the space of the cell-type specific interactome.\n",
    "\n",
    "---"
   ]
  },
  {
   "cell_type": "markdown",
   "id": "6e09368f",
   "metadata": {},
   "source": [
    "## 0. Environmental setup"
   ]
  },
  {
   "cell_type": "code",
   "execution_count": 1,
   "id": "ac17144c",
   "metadata": {},
   "outputs": [
    {
     "data": {
      "application/javascript": [
       "\n",
       "            setTimeout(function() {\n",
       "                var nbb_cell_id = 1;\n",
       "                var nbb_unformatted_code = \"import numpy as np\\nimport pandas as pd\\nfrom pcst_fast import pcst_fast\\nimport networkx as nx\\nimport random\\nfrom tqdm import tqdm\\nimport community\\nimport matplotlib.pyplot as plt\\nimport seaborn as sns\\nimport matplotlib.cm as cm\\nimport sys\\nimport os\\n\\nsys.path.append(\\\"../../..\\\")\\nfrom src.utils.notebooks.ppi.inference import *\\n\\nseed = 1234\\nnp.random.seed(seed)\\nrandom.seed(seed)\\n\\n%load_ext nb_black\";\n",
       "                var nbb_formatted_code = \"import numpy as np\\nimport pandas as pd\\nfrom pcst_fast import pcst_fast\\nimport networkx as nx\\nimport random\\nfrom tqdm import tqdm\\nimport community\\nimport matplotlib.pyplot as plt\\nimport seaborn as sns\\nimport matplotlib.cm as cm\\nimport sys\\nimport os\\n\\nsys.path.append(\\\"../../..\\\")\\nfrom src.utils.notebooks.ppi.inference import *\\n\\nseed = 1234\\nnp.random.seed(seed)\\nrandom.seed(seed)\\n\\n%load_ext nb_black\";\n",
       "                var nbb_cells = Jupyter.notebook.get_cells();\n",
       "                for (var i = 0; i < nbb_cells.length; ++i) {\n",
       "                    if (nbb_cells[i].input_prompt_number == nbb_cell_id) {\n",
       "                        if (nbb_cells[i].get_text() == nbb_unformatted_code) {\n",
       "                             nbb_cells[i].set_text(nbb_formatted_code);\n",
       "                        }\n",
       "                        break;\n",
       "                    }\n",
       "                }\n",
       "            }, 500);\n",
       "            "
      ],
      "text/plain": [
       "<IPython.core.display.Javascript object>"
      ]
     },
     "metadata": {},
     "output_type": "display_data"
    }
   ],
   "source": [
    "import numpy as np\n",
    "import pandas as pd\n",
    "from pcst_fast import pcst_fast\n",
    "import networkx as nx\n",
    "import random\n",
    "from tqdm import tqdm\n",
    "import community\n",
    "import matplotlib.pyplot as plt\n",
    "import seaborn as sns\n",
    "import matplotlib.cm as cm\n",
    "import sys\n",
    "import os\n",
    "\n",
    "sys.path.append(\"../../..\")\n",
    "from src.utils.notebooks.ppi.inference import *\n",
    "\n",
    "seed = 1234\n",
    "np.random.seed(seed)\n",
    "random.seed(seed)\n",
    "\n",
    "%load_ext nb_black"
   ]
  },
  {
   "cell_type": "code",
   "execution_count": 2,
   "id": "68b4f233",
   "metadata": {},
   "outputs": [
    {
     "data": {
      "application/javascript": [
       "\n",
       "            setTimeout(function() {\n",
       "                var nbb_cell_id = 2;\n",
       "                var nbb_unformatted_code = \"def filter_edges(graph, edge_attr, threshold, mode=\\\"smaller\\\"):\\n    selected_edges = []\\n    for edge in graph.edges(data=True):\\n        source = edge[0]\\n        target = edge[1]\\n        if mode == \\\"smaller\\\" and edge[-1][edge_attr] < threshold:\\n            selected_edges.append((source, target))\\n        elif mode == \\\"greater\\\" and edge[1][edge_attr] > threshold:\\n            selected_edges.append((source, target))\\n    filtered_graph = graph.edge_subgraph(selected_edges).copy()\\n    filtered_graph.name = \\\"filtered_\\\" + graph.name\\n    return filtered_graph\";\n",
       "                var nbb_formatted_code = \"def filter_edges(graph, edge_attr, threshold, mode=\\\"smaller\\\"):\\n    selected_edges = []\\n    for edge in graph.edges(data=True):\\n        source = edge[0]\\n        target = edge[1]\\n        if mode == \\\"smaller\\\" and edge[-1][edge_attr] < threshold:\\n            selected_edges.append((source, target))\\n        elif mode == \\\"greater\\\" and edge[1][edge_attr] > threshold:\\n            selected_edges.append((source, target))\\n    filtered_graph = graph.edge_subgraph(selected_edges).copy()\\n    filtered_graph.name = \\\"filtered_\\\" + graph.name\\n    return filtered_graph\";\n",
       "                var nbb_cells = Jupyter.notebook.get_cells();\n",
       "                for (var i = 0; i < nbb_cells.length; ++i) {\n",
       "                    if (nbb_cells[i].input_prompt_number == nbb_cell_id) {\n",
       "                        if (nbb_cells[i].get_text() == nbb_unformatted_code) {\n",
       "                             nbb_cells[i].set_text(nbb_formatted_code);\n",
       "                        }\n",
       "                        break;\n",
       "                    }\n",
       "                }\n",
       "            }, 500);\n",
       "            "
      ],
      "text/plain": [
       "<IPython.core.display.Javascript object>"
      ]
     },
     "metadata": {},
     "output_type": "display_data"
    }
   ],
   "source": [
    "def filter_edges(graph, edge_attr, threshold, mode=\"smaller\"):\n",
    "    selected_edges = []\n",
    "    for edge in graph.edges(data=True):\n",
    "        source = edge[0]\n",
    "        target = edge[1]\n",
    "        if mode == \"smaller\" and edge[-1][edge_attr] < threshold:\n",
    "            selected_edges.append((source, target))\n",
    "        elif mode == \"greater\" and edge[1][edge_attr] > threshold:\n",
    "            selected_edges.append((source, target))\n",
    "    filtered_graph = graph.edge_subgraph(selected_edges).copy()\n",
    "    filtered_graph.name = \"filtered_\" + graph.name\n",
    "    return filtered_graph"
   ]
  },
  {
   "cell_type": "markdown",
   "id": "4bcc69b3",
   "metadata": {},
   "source": [
    "---\n",
    "\n",
    "## 1. Read in data"
   ]
  },
  {
   "cell_type": "markdown",
   "id": "65a6cec4",
   "metadata": {},
   "source": [
    "First, we load in the preprocessed protein-protein interactome graph."
   ]
  },
  {
   "cell_type": "code",
   "execution_count": 3,
   "id": "1b619543",
   "metadata": {},
   "outputs": [
    {
     "data": {
      "application/javascript": [
       "\n",
       "            setTimeout(function() {\n",
       "                var nbb_cell_id = 3;\n",
       "                var nbb_unformatted_code = \"ppi = nx.read_gpickle(\\n    \\\"../../../data/ppi/preprocessing/ppi_confidence_0599_hub_998_pruned_ccle_cmap_data_cv.pkl\\\"\\n)\";\n",
       "                var nbb_formatted_code = \"ppi = nx.read_gpickle(\\n    \\\"../../../data/ppi/preprocessing/ppi_confidence_0599_hub_998_pruned_ccle_cmap_data_cv.pkl\\\"\\n)\";\n",
       "                var nbb_cells = Jupyter.notebook.get_cells();\n",
       "                for (var i = 0; i < nbb_cells.length; ++i) {\n",
       "                    if (nbb_cells[i].input_prompt_number == nbb_cell_id) {\n",
       "                        if (nbb_cells[i].get_text() == nbb_unformatted_code) {\n",
       "                             nbb_cells[i].set_text(nbb_formatted_code);\n",
       "                        }\n",
       "                        break;\n",
       "                    }\n",
       "                }\n",
       "            }, 500);\n",
       "            "
      ],
      "text/plain": [
       "<IPython.core.display.Javascript object>"
      ]
     },
     "metadata": {},
     "output_type": "display_data"
    }
   ],
   "source": [
    "ppi = nx.read_gpickle(\n",
    "    \"../../../data/ppi/preprocessing/ppi_confidence_0599_hub_998_pruned_ccle_cmap_data_cv.pkl\"\n",
    ")"
   ]
  },
  {
   "cell_type": "code",
   "execution_count": 4,
   "id": "0c9e8701",
   "metadata": {},
   "outputs": [
    {
     "data": {
      "text/plain": [
       "{'ccle_abslogfc': 8.648862234019651, 'cmap_abssig': 10.0}"
      ]
     },
     "execution_count": 4,
     "metadata": {},
     "output_type": "execute_result"
    },
    {
     "data": {
      "application/javascript": [
       "\n",
       "            setTimeout(function() {\n",
       "                var nbb_cell_id = 4;\n",
       "                var nbb_unformatted_code = \"ppi.nodes()[\\\"TRAF2\\\"]\";\n",
       "                var nbb_formatted_code = \"ppi.nodes()[\\\"TRAF2\\\"]\";\n",
       "                var nbb_cells = Jupyter.notebook.get_cells();\n",
       "                for (var i = 0; i < nbb_cells.length; ++i) {\n",
       "                    if (nbb_cells[i].input_prompt_number == nbb_cell_id) {\n",
       "                        if (nbb_cells[i].get_text() == nbb_unformatted_code) {\n",
       "                             nbb_cells[i].set_text(nbb_formatted_code);\n",
       "                        }\n",
       "                        break;\n",
       "                    }\n",
       "                }\n",
       "            }, 500);\n",
       "            "
      ],
      "text/plain": [
       "<IPython.core.display.Javascript object>"
      ]
     },
     "metadata": {},
     "output_type": "display_data"
    }
   ],
   "source": [
    "ppi.nodes()[\"TRAF2\"]"
   ]
  },
  {
   "cell_type": "code",
   "execution_count": 45,
   "id": "9078ec48",
   "metadata": {},
   "outputs": [
    {
     "data": {
      "application/javascript": [
       "\n",
       "            setTimeout(function() {\n",
       "                var nbb_cell_id = 45;\n",
       "                var nbb_unformatted_code = \"spec_results = pd.read_csv(\\n    \\\"../../../data/other/specificity_results/specificity_screen_results_cv.csv\\\",\\n    index_col=0,\\n)\\norf_targets = set(spec_results.index)\\nspecific_targets = set(spec_results.loc[spec_results[\\\"selected\\\"]].index)\";\n",
       "                var nbb_formatted_code = \"spec_results = pd.read_csv(\\n    \\\"../../../data/other/specificity_results/specificity_screen_results_cv.csv\\\",\\n    index_col=0,\\n)\\norf_targets = set(spec_results.index)\\nspecific_targets = set(spec_results.loc[spec_results[\\\"selected\\\"]].index)\";\n",
       "                var nbb_cells = Jupyter.notebook.get_cells();\n",
       "                for (var i = 0; i < nbb_cells.length; ++i) {\n",
       "                    if (nbb_cells[i].input_prompt_number == nbb_cell_id) {\n",
       "                        if (nbb_cells[i].get_text() == nbb_unformatted_code) {\n",
       "                             nbb_cells[i].set_text(nbb_formatted_code);\n",
       "                        }\n",
       "                        break;\n",
       "                    }\n",
       "                }\n",
       "            }, 500);\n",
       "            "
      ],
      "text/plain": [
       "<IPython.core.display.Javascript object>"
      ]
     },
     "metadata": {},
     "output_type": "display_data"
    }
   ],
   "source": [
    "spec_results = pd.read_csv(\n",
    "    \"../../../data/other/specificity_results/specificity_screen_results_cv.csv\",\n",
    "    index_col=0,\n",
    ")\n",
    "orf_targets = set(spec_results.index)\n",
    "specific_targets = set(spec_results.loc[spec_results[\"selected\"]].index)"
   ]
  },
  {
   "cell_type": "code",
   "execution_count": 46,
   "id": "392e9e1c",
   "metadata": {},
   "outputs": [
    {
     "data": {
      "application/javascript": [
       "\n",
       "            setTimeout(function() {\n",
       "                var nbb_cell_id = 46;\n",
       "                var nbb_unformatted_code = \"l1000_genes = set(\\n    list(\\n        pd.read_csv(\\n            \\\"../../../data/other/genesets/l1000.txt\\\", index_col=0, header=None\\n        ).index\\n    )\\n)\";\n",
       "                var nbb_formatted_code = \"l1000_genes = set(\\n    list(\\n        pd.read_csv(\\n            \\\"../../../data/other/genesets/l1000.txt\\\", index_col=0, header=None\\n        ).index\\n    )\\n)\";\n",
       "                var nbb_cells = Jupyter.notebook.get_cells();\n",
       "                for (var i = 0; i < nbb_cells.length; ++i) {\n",
       "                    if (nbb_cells[i].input_prompt_number == nbb_cell_id) {\n",
       "                        if (nbb_cells[i].get_text() == nbb_unformatted_code) {\n",
       "                             nbb_cells[i].set_text(nbb_formatted_code);\n",
       "                        }\n",
       "                        break;\n",
       "                    }\n",
       "                }\n",
       "            }, 500);\n",
       "            "
      ],
      "text/plain": [
       "<IPython.core.display.Javascript object>"
      ]
     },
     "metadata": {},
     "output_type": "display_data"
    }
   ],
   "source": [
    "l1000_genes = set(\n",
    "    list(\n",
    "        pd.read_csv(\n",
    "            \"../../../data/other/genesets/l1000.txt\", index_col=0, header=None\n",
    "        ).index\n",
    "    )\n",
    ")"
   ]
  },
  {
   "cell_type": "markdown",
   "id": "504b21bf",
   "metadata": {},
   "source": [
    "---\n",
    "\n",
    "## 2. Run PCST-based inference\n",
    "\n",
    "Using the above data, we will approximately solve the PCST problem for different choice of $\\beta$ in the PCST objectives, i.e. the prize factor. We aim to identify a stable subgraph from the confidence pruned humna PPI that describes the cell-type specific interactome of U2OS cells best.\n",
    "\n",
    "We will vary the hyperparameter of beta from 0 to 10 by 0.1 to have a good trade-off of sufficient coverage and run-time."
   ]
  },
  {
   "cell_type": "code",
   "execution_count": 47,
   "id": "7580e844",
   "metadata": {},
   "outputs": [
    {
     "data": {
      "application/javascript": [
       "\n",
       "            setTimeout(function() {\n",
       "                var nbb_cell_id = 47;\n",
       "                var nbb_unformatted_code = \"bs = np.arange(0.05, 5, 0.05)\";\n",
       "                var nbb_formatted_code = \"bs = np.arange(0.05, 5, 0.05)\";\n",
       "                var nbb_cells = Jupyter.notebook.get_cells();\n",
       "                for (var i = 0; i < nbb_cells.length; ++i) {\n",
       "                    if (nbb_cells[i].input_prompt_number == nbb_cell_id) {\n",
       "                        if (nbb_cells[i].get_text() == nbb_unformatted_code) {\n",
       "                             nbb_cells[i].set_text(nbb_formatted_code);\n",
       "                        }\n",
       "                        break;\n",
       "                    }\n",
       "                }\n",
       "            }, 500);\n",
       "            "
      ],
      "text/plain": [
       "<IPython.core.display.Javascript object>"
      ]
     },
     "metadata": {},
     "output_type": "display_data"
    }
   ],
   "source": [
    "bs = np.arange(0.05, 5, 0.05)"
   ]
  },
  {
   "cell_type": "markdown",
   "id": "eca9b3ad",
   "metadata": {},
   "source": [
    "We will use different metrics for the edge weights, namely the Mint-inspired score-derived edge costs, the costs based on the Spearman correlation from the scRNAseq data set as well as those based on the Pearson correlation."
   ]
  },
  {
   "cell_type": "markdown",
   "id": "64e2b46c",
   "metadata": {},
   "source": [
    "### 2.1. MINT inspired edge costs"
   ]
  },
  {
   "cell_type": "code",
   "execution_count": 48,
   "id": "a8f16b5b",
   "metadata": {},
   "outputs": [
    {
     "name": "stderr",
     "output_type": "stream",
     "text": [
      "Compute PCSTs: 100%|██████████| 99/99 [00:06<00:00, 15.21it/s]\n"
     ]
    },
    {
     "data": {
      "application/javascript": [
       "\n",
       "            setTimeout(function() {\n",
       "                var nbb_cell_id = 48;\n",
       "                var nbb_unformatted_code = \"(pcst_mis_dict, augmented_pcst_mis_dict,) = run_pcst_sensitivity_analyses(\\n    graph=ppi,\\n    bs=bs,\\n    prize_key=\\\"cmap_abssig\\\",\\n    weight_key=\\\"mi_score\\\",\\n    minmax_scale=True,\\n)\";\n",
       "                var nbb_formatted_code = \"(pcst_mis_dict, augmented_pcst_mis_dict,) = run_pcst_sensitivity_analyses(\\n    graph=ppi,\\n    bs=bs,\\n    prize_key=\\\"cmap_abssig\\\",\\n    weight_key=\\\"mi_score\\\",\\n    minmax_scale=True,\\n)\";\n",
       "                var nbb_cells = Jupyter.notebook.get_cells();\n",
       "                for (var i = 0; i < nbb_cells.length; ++i) {\n",
       "                    if (nbb_cells[i].input_prompt_number == nbb_cell_id) {\n",
       "                        if (nbb_cells[i].get_text() == nbb_unformatted_code) {\n",
       "                             nbb_cells[i].set_text(nbb_formatted_code);\n",
       "                        }\n",
       "                        break;\n",
       "                    }\n",
       "                }\n",
       "            }, 500);\n",
       "            "
      ],
      "text/plain": [
       "<IPython.core.display.Javascript object>"
      ]
     },
     "metadata": {},
     "output_type": "display_data"
    }
   ],
   "source": [
    "(pcst_mis_dict, augmented_pcst_mis_dict,) = run_pcst_sensitivity_analyses(\n",
    "    graph=ppi,\n",
    "    bs=bs,\n",
    "    prize_key=\"cmap_abssig\",\n",
    "    weight_key=\"mi_score\",\n",
    "    minmax_scale=True,\n",
    ")"
   ]
  },
  {
   "cell_type": "markdown",
   "id": "32f5069a",
   "metadata": {},
   "source": [
    "The function outputs the derived PCST solutions as well as the subgraphs of the input network induced by node set of the PCST solution. "
   ]
  },
  {
   "cell_type": "code",
   "execution_count": 49,
   "id": "705b9551",
   "metadata": {},
   "outputs": [
    {
     "name": "stderr",
     "output_type": "stream",
     "text": [
      "Analyze tree: 100%|██████████| 99/99 [02:36<00:00,  1.59s/it]\n"
     ]
    },
    {
     "data": {
      "text/html": [
       "<div>\n",
       "<style scoped>\n",
       "    .dataframe tbody tr th:only-of-type {\n",
       "        vertical-align: middle;\n",
       "    }\n",
       "\n",
       "    .dataframe tbody tr th {\n",
       "        vertical-align: top;\n",
       "    }\n",
       "\n",
       "    .dataframe thead th {\n",
       "        text-align: right;\n",
       "    }\n",
       "</style>\n",
       "<table border=\"1\" class=\"dataframe\">\n",
       "  <thead>\n",
       "    <tr style=\"text-align: right;\">\n",
       "      <th></th>\n",
       "      <th>beta</th>\n",
       "      <th>n_nodes</th>\n",
       "      <th>n_edges</th>\n",
       "      <th>n_connected_components</th>\n",
       "      <th>n_louvain_clusters</th>\n",
       "      <th>avg_node_degree</th>\n",
       "      <th>std_node_degree</th>\n",
       "      <th>n_leaf_nodes</th>\n",
       "      <th>n_target_nodes</th>\n",
       "      <th>n_spec_target_nodes</th>\n",
       "      <th>n_spec_target_leafs</th>\n",
       "      <th>avg_spec_target_degree</th>\n",
       "      <th>std_spec_target_degree</th>\n",
       "    </tr>\n",
       "  </thead>\n",
       "  <tbody>\n",
       "    <tr>\n",
       "      <th>augmented_ppi_confidence_0599_hub_998_pruned_ccle_cmap_data_cv_b_0.5</th>\n",
       "      <td>0.50</td>\n",
       "      <td>792</td>\n",
       "      <td>6150</td>\n",
       "      <td>1</td>\n",
       "      <td>12</td>\n",
       "      <td>15.530303</td>\n",
       "      <td>13.514362</td>\n",
       "      <td>14</td>\n",
       "      <td>124</td>\n",
       "      <td>38</td>\n",
       "      <td>2</td>\n",
       "      <td>20.315789</td>\n",
       "      <td>18.663369</td>\n",
       "    </tr>\n",
       "    <tr>\n",
       "      <th>augmented_ppi_confidence_0599_hub_998_pruned_ccle_cmap_data_cv_b_0.55</th>\n",
       "      <td>0.55</td>\n",
       "      <td>886</td>\n",
       "      <td>6899</td>\n",
       "      <td>1</td>\n",
       "      <td>12</td>\n",
       "      <td>15.573363</td>\n",
       "      <td>13.801590</td>\n",
       "      <td>15</td>\n",
       "      <td>128</td>\n",
       "      <td>38</td>\n",
       "      <td>2</td>\n",
       "      <td>21.289474</td>\n",
       "      <td>19.504261</td>\n",
       "    </tr>\n",
       "    <tr>\n",
       "      <th>augmented_ppi_confidence_0599_hub_998_pruned_ccle_cmap_data_cv_b_0.6</th>\n",
       "      <td>0.60</td>\n",
       "      <td>1009</td>\n",
       "      <td>7954</td>\n",
       "      <td>1</td>\n",
       "      <td>12</td>\n",
       "      <td>15.766105</td>\n",
       "      <td>14.145667</td>\n",
       "      <td>17</td>\n",
       "      <td>130</td>\n",
       "      <td>38</td>\n",
       "      <td>2</td>\n",
       "      <td>22.657895</td>\n",
       "      <td>20.473701</td>\n",
       "    </tr>\n",
       "    <tr>\n",
       "      <th>augmented_ppi_confidence_0599_hub_998_pruned_ccle_cmap_data_cv_b_0.65</th>\n",
       "      <td>0.65</td>\n",
       "      <td>1098</td>\n",
       "      <td>8586</td>\n",
       "      <td>1</td>\n",
       "      <td>13</td>\n",
       "      <td>15.639344</td>\n",
       "      <td>14.351722</td>\n",
       "      <td>25</td>\n",
       "      <td>132</td>\n",
       "      <td>38</td>\n",
       "      <td>2</td>\n",
       "      <td>23.289474</td>\n",
       "      <td>21.052451</td>\n",
       "    </tr>\n",
       "    <tr>\n",
       "      <th>augmented_ppi_confidence_0599_hub_998_pruned_ccle_cmap_data_cv_b_0.7</th>\n",
       "      <td>0.70</td>\n",
       "      <td>1199</td>\n",
       "      <td>9327</td>\n",
       "      <td>1</td>\n",
       "      <td>14</td>\n",
       "      <td>15.557965</td>\n",
       "      <td>14.436936</td>\n",
       "      <td>32</td>\n",
       "      <td>136</td>\n",
       "      <td>38</td>\n",
       "      <td>2</td>\n",
       "      <td>24.105263</td>\n",
       "      <td>21.550173</td>\n",
       "    </tr>\n",
       "    <tr>\n",
       "      <th>...</th>\n",
       "      <td>...</td>\n",
       "      <td>...</td>\n",
       "      <td>...</td>\n",
       "      <td>...</td>\n",
       "      <td>...</td>\n",
       "      <td>...</td>\n",
       "      <td>...</td>\n",
       "      <td>...</td>\n",
       "      <td>...</td>\n",
       "      <td>...</td>\n",
       "      <td>...</td>\n",
       "      <td>...</td>\n",
       "      <td>...</td>\n",
       "    </tr>\n",
       "    <tr>\n",
       "      <th>augmented_ppi_confidence_0599_hub_998_pruned_ccle_cmap_data_cv_b_4.75</th>\n",
       "      <td>4.75</td>\n",
       "      <td>7641</td>\n",
       "      <td>41507</td>\n",
       "      <td>1</td>\n",
       "      <td>21</td>\n",
       "      <td>10.864285</td>\n",
       "      <td>17.331296</td>\n",
       "      <td>1367</td>\n",
       "      <td>173</td>\n",
       "      <td>38</td>\n",
       "      <td>1</td>\n",
       "      <td>47.947368</td>\n",
       "      <td>44.227847</td>\n",
       "    </tr>\n",
       "    <tr>\n",
       "      <th>augmented_ppi_confidence_0599_hub_998_pruned_ccle_cmap_data_cv_b_4.8</th>\n",
       "      <td>4.80</td>\n",
       "      <td>7642</td>\n",
       "      <td>41508</td>\n",
       "      <td>1</td>\n",
       "      <td>21</td>\n",
       "      <td>10.863125</td>\n",
       "      <td>17.330466</td>\n",
       "      <td>1368</td>\n",
       "      <td>173</td>\n",
       "      <td>38</td>\n",
       "      <td>1</td>\n",
       "      <td>47.947368</td>\n",
       "      <td>44.227847</td>\n",
       "    </tr>\n",
       "    <tr>\n",
       "      <th>augmented_ppi_confidence_0599_hub_998_pruned_ccle_cmap_data_cv_b_4.85</th>\n",
       "      <td>4.85</td>\n",
       "      <td>7642</td>\n",
       "      <td>41508</td>\n",
       "      <td>1</td>\n",
       "      <td>21</td>\n",
       "      <td>10.863125</td>\n",
       "      <td>17.330466</td>\n",
       "      <td>1368</td>\n",
       "      <td>173</td>\n",
       "      <td>38</td>\n",
       "      <td>1</td>\n",
       "      <td>47.947368</td>\n",
       "      <td>44.227847</td>\n",
       "    </tr>\n",
       "    <tr>\n",
       "      <th>augmented_ppi_confidence_0599_hub_998_pruned_ccle_cmap_data_cv_b_4.9</th>\n",
       "      <td>4.90</td>\n",
       "      <td>7645</td>\n",
       "      <td>41527</td>\n",
       "      <td>1</td>\n",
       "      <td>20</td>\n",
       "      <td>10.863833</td>\n",
       "      <td>17.332313</td>\n",
       "      <td>1368</td>\n",
       "      <td>173</td>\n",
       "      <td>38</td>\n",
       "      <td>1</td>\n",
       "      <td>47.947368</td>\n",
       "      <td>44.227847</td>\n",
       "    </tr>\n",
       "    <tr>\n",
       "      <th>augmented_ppi_confidence_0599_hub_998_pruned_ccle_cmap_data_cv_b_4.95</th>\n",
       "      <td>4.95</td>\n",
       "      <td>7645</td>\n",
       "      <td>41527</td>\n",
       "      <td>1</td>\n",
       "      <td>20</td>\n",
       "      <td>10.863833</td>\n",
       "      <td>17.332313</td>\n",
       "      <td>1368</td>\n",
       "      <td>173</td>\n",
       "      <td>38</td>\n",
       "      <td>1</td>\n",
       "      <td>47.947368</td>\n",
       "      <td>44.227847</td>\n",
       "    </tr>\n",
       "  </tbody>\n",
       "</table>\n",
       "<p>90 rows × 13 columns</p>\n",
       "</div>"
      ],
      "text/plain": [
       "                                                    beta  n_nodes  n_edges  \\\n",
       "augmented_ppi_confidence_0599_hub_998_pruned_cc...  0.50      792     6150   \n",
       "augmented_ppi_confidence_0599_hub_998_pruned_cc...  0.55      886     6899   \n",
       "augmented_ppi_confidence_0599_hub_998_pruned_cc...  0.60     1009     7954   \n",
       "augmented_ppi_confidence_0599_hub_998_pruned_cc...  0.65     1098     8586   \n",
       "augmented_ppi_confidence_0599_hub_998_pruned_cc...  0.70     1199     9327   \n",
       "...                                                  ...      ...      ...   \n",
       "augmented_ppi_confidence_0599_hub_998_pruned_cc...  4.75     7641    41507   \n",
       "augmented_ppi_confidence_0599_hub_998_pruned_cc...  4.80     7642    41508   \n",
       "augmented_ppi_confidence_0599_hub_998_pruned_cc...  4.85     7642    41508   \n",
       "augmented_ppi_confidence_0599_hub_998_pruned_cc...  4.90     7645    41527   \n",
       "augmented_ppi_confidence_0599_hub_998_pruned_cc...  4.95     7645    41527   \n",
       "\n",
       "                                                    n_connected_components  \\\n",
       "augmented_ppi_confidence_0599_hub_998_pruned_cc...                       1   \n",
       "augmented_ppi_confidence_0599_hub_998_pruned_cc...                       1   \n",
       "augmented_ppi_confidence_0599_hub_998_pruned_cc...                       1   \n",
       "augmented_ppi_confidence_0599_hub_998_pruned_cc...                       1   \n",
       "augmented_ppi_confidence_0599_hub_998_pruned_cc...                       1   \n",
       "...                                                                    ...   \n",
       "augmented_ppi_confidence_0599_hub_998_pruned_cc...                       1   \n",
       "augmented_ppi_confidence_0599_hub_998_pruned_cc...                       1   \n",
       "augmented_ppi_confidence_0599_hub_998_pruned_cc...                       1   \n",
       "augmented_ppi_confidence_0599_hub_998_pruned_cc...                       1   \n",
       "augmented_ppi_confidence_0599_hub_998_pruned_cc...                       1   \n",
       "\n",
       "                                                    n_louvain_clusters  \\\n",
       "augmented_ppi_confidence_0599_hub_998_pruned_cc...                  12   \n",
       "augmented_ppi_confidence_0599_hub_998_pruned_cc...                  12   \n",
       "augmented_ppi_confidence_0599_hub_998_pruned_cc...                  12   \n",
       "augmented_ppi_confidence_0599_hub_998_pruned_cc...                  13   \n",
       "augmented_ppi_confidence_0599_hub_998_pruned_cc...                  14   \n",
       "...                                                                ...   \n",
       "augmented_ppi_confidence_0599_hub_998_pruned_cc...                  21   \n",
       "augmented_ppi_confidence_0599_hub_998_pruned_cc...                  21   \n",
       "augmented_ppi_confidence_0599_hub_998_pruned_cc...                  21   \n",
       "augmented_ppi_confidence_0599_hub_998_pruned_cc...                  20   \n",
       "augmented_ppi_confidence_0599_hub_998_pruned_cc...                  20   \n",
       "\n",
       "                                                    avg_node_degree  \\\n",
       "augmented_ppi_confidence_0599_hub_998_pruned_cc...        15.530303   \n",
       "augmented_ppi_confidence_0599_hub_998_pruned_cc...        15.573363   \n",
       "augmented_ppi_confidence_0599_hub_998_pruned_cc...        15.766105   \n",
       "augmented_ppi_confidence_0599_hub_998_pruned_cc...        15.639344   \n",
       "augmented_ppi_confidence_0599_hub_998_pruned_cc...        15.557965   \n",
       "...                                                             ...   \n",
       "augmented_ppi_confidence_0599_hub_998_pruned_cc...        10.864285   \n",
       "augmented_ppi_confidence_0599_hub_998_pruned_cc...        10.863125   \n",
       "augmented_ppi_confidence_0599_hub_998_pruned_cc...        10.863125   \n",
       "augmented_ppi_confidence_0599_hub_998_pruned_cc...        10.863833   \n",
       "augmented_ppi_confidence_0599_hub_998_pruned_cc...        10.863833   \n",
       "\n",
       "                                                    std_node_degree  \\\n",
       "augmented_ppi_confidence_0599_hub_998_pruned_cc...        13.514362   \n",
       "augmented_ppi_confidence_0599_hub_998_pruned_cc...        13.801590   \n",
       "augmented_ppi_confidence_0599_hub_998_pruned_cc...        14.145667   \n",
       "augmented_ppi_confidence_0599_hub_998_pruned_cc...        14.351722   \n",
       "augmented_ppi_confidence_0599_hub_998_pruned_cc...        14.436936   \n",
       "...                                                             ...   \n",
       "augmented_ppi_confidence_0599_hub_998_pruned_cc...        17.331296   \n",
       "augmented_ppi_confidence_0599_hub_998_pruned_cc...        17.330466   \n",
       "augmented_ppi_confidence_0599_hub_998_pruned_cc...        17.330466   \n",
       "augmented_ppi_confidence_0599_hub_998_pruned_cc...        17.332313   \n",
       "augmented_ppi_confidence_0599_hub_998_pruned_cc...        17.332313   \n",
       "\n",
       "                                                    n_leaf_nodes  \\\n",
       "augmented_ppi_confidence_0599_hub_998_pruned_cc...            14   \n",
       "augmented_ppi_confidence_0599_hub_998_pruned_cc...            15   \n",
       "augmented_ppi_confidence_0599_hub_998_pruned_cc...            17   \n",
       "augmented_ppi_confidence_0599_hub_998_pruned_cc...            25   \n",
       "augmented_ppi_confidence_0599_hub_998_pruned_cc...            32   \n",
       "...                                                          ...   \n",
       "augmented_ppi_confidence_0599_hub_998_pruned_cc...          1367   \n",
       "augmented_ppi_confidence_0599_hub_998_pruned_cc...          1368   \n",
       "augmented_ppi_confidence_0599_hub_998_pruned_cc...          1368   \n",
       "augmented_ppi_confidence_0599_hub_998_pruned_cc...          1368   \n",
       "augmented_ppi_confidence_0599_hub_998_pruned_cc...          1368   \n",
       "\n",
       "                                                    n_target_nodes  \\\n",
       "augmented_ppi_confidence_0599_hub_998_pruned_cc...             124   \n",
       "augmented_ppi_confidence_0599_hub_998_pruned_cc...             128   \n",
       "augmented_ppi_confidence_0599_hub_998_pruned_cc...             130   \n",
       "augmented_ppi_confidence_0599_hub_998_pruned_cc...             132   \n",
       "augmented_ppi_confidence_0599_hub_998_pruned_cc...             136   \n",
       "...                                                            ...   \n",
       "augmented_ppi_confidence_0599_hub_998_pruned_cc...             173   \n",
       "augmented_ppi_confidence_0599_hub_998_pruned_cc...             173   \n",
       "augmented_ppi_confidence_0599_hub_998_pruned_cc...             173   \n",
       "augmented_ppi_confidence_0599_hub_998_pruned_cc...             173   \n",
       "augmented_ppi_confidence_0599_hub_998_pruned_cc...             173   \n",
       "\n",
       "                                                    n_spec_target_nodes  \\\n",
       "augmented_ppi_confidence_0599_hub_998_pruned_cc...                   38   \n",
       "augmented_ppi_confidence_0599_hub_998_pruned_cc...                   38   \n",
       "augmented_ppi_confidence_0599_hub_998_pruned_cc...                   38   \n",
       "augmented_ppi_confidence_0599_hub_998_pruned_cc...                   38   \n",
       "augmented_ppi_confidence_0599_hub_998_pruned_cc...                   38   \n",
       "...                                                                 ...   \n",
       "augmented_ppi_confidence_0599_hub_998_pruned_cc...                   38   \n",
       "augmented_ppi_confidence_0599_hub_998_pruned_cc...                   38   \n",
       "augmented_ppi_confidence_0599_hub_998_pruned_cc...                   38   \n",
       "augmented_ppi_confidence_0599_hub_998_pruned_cc...                   38   \n",
       "augmented_ppi_confidence_0599_hub_998_pruned_cc...                   38   \n",
       "\n",
       "                                                    n_spec_target_leafs  \\\n",
       "augmented_ppi_confidence_0599_hub_998_pruned_cc...                    2   \n",
       "augmented_ppi_confidence_0599_hub_998_pruned_cc...                    2   \n",
       "augmented_ppi_confidence_0599_hub_998_pruned_cc...                    2   \n",
       "augmented_ppi_confidence_0599_hub_998_pruned_cc...                    2   \n",
       "augmented_ppi_confidence_0599_hub_998_pruned_cc...                    2   \n",
       "...                                                                 ...   \n",
       "augmented_ppi_confidence_0599_hub_998_pruned_cc...                    1   \n",
       "augmented_ppi_confidence_0599_hub_998_pruned_cc...                    1   \n",
       "augmented_ppi_confidence_0599_hub_998_pruned_cc...                    1   \n",
       "augmented_ppi_confidence_0599_hub_998_pruned_cc...                    1   \n",
       "augmented_ppi_confidence_0599_hub_998_pruned_cc...                    1   \n",
       "\n",
       "                                                    avg_spec_target_degree  \\\n",
       "augmented_ppi_confidence_0599_hub_998_pruned_cc...               20.315789   \n",
       "augmented_ppi_confidence_0599_hub_998_pruned_cc...               21.289474   \n",
       "augmented_ppi_confidence_0599_hub_998_pruned_cc...               22.657895   \n",
       "augmented_ppi_confidence_0599_hub_998_pruned_cc...               23.289474   \n",
       "augmented_ppi_confidence_0599_hub_998_pruned_cc...               24.105263   \n",
       "...                                                                    ...   \n",
       "augmented_ppi_confidence_0599_hub_998_pruned_cc...               47.947368   \n",
       "augmented_ppi_confidence_0599_hub_998_pruned_cc...               47.947368   \n",
       "augmented_ppi_confidence_0599_hub_998_pruned_cc...               47.947368   \n",
       "augmented_ppi_confidence_0599_hub_998_pruned_cc...               47.947368   \n",
       "augmented_ppi_confidence_0599_hub_998_pruned_cc...               47.947368   \n",
       "\n",
       "                                                    std_spec_target_degree  \n",
       "augmented_ppi_confidence_0599_hub_998_pruned_cc...               18.663369  \n",
       "augmented_ppi_confidence_0599_hub_998_pruned_cc...               19.504261  \n",
       "augmented_ppi_confidence_0599_hub_998_pruned_cc...               20.473701  \n",
       "augmented_ppi_confidence_0599_hub_998_pruned_cc...               21.052451  \n",
       "augmented_ppi_confidence_0599_hub_998_pruned_cc...               21.550173  \n",
       "...                                                                    ...  \n",
       "augmented_ppi_confidence_0599_hub_998_pruned_cc...               44.227847  \n",
       "augmented_ppi_confidence_0599_hub_998_pruned_cc...               44.227847  \n",
       "augmented_ppi_confidence_0599_hub_998_pruned_cc...               44.227847  \n",
       "augmented_ppi_confidence_0599_hub_998_pruned_cc...               44.227847  \n",
       "augmented_ppi_confidence_0599_hub_998_pruned_cc...               44.227847  \n",
       "\n",
       "[90 rows x 13 columns]"
      ]
     },
     "execution_count": 49,
     "metadata": {},
     "output_type": "execute_result"
    },
    {
     "data": {
      "application/javascript": [
       "\n",
       "            setTimeout(function() {\n",
       "                var nbb_cell_id = 49;\n",
       "                var nbb_unformatted_code = \"augmented_pcst_mis_results = analyze_pcst_sensitivity_analyses_results(\\n    augmented_pcst_mis_dict,\\n    target_nodes=orf_targets,\\n    spec_targets=specific_targets,\\n)\\naugmented_pcst_mis_results.loc[\\n    augmented_pcst_mis_results[\\\"n_spec_target_nodes\\\"]\\n    == np.max(augmented_pcst_mis_results[\\\"n_spec_target_nodes\\\"])\\n].sort_values(\\\"beta\\\")\";\n",
       "                var nbb_formatted_code = \"augmented_pcst_mis_results = analyze_pcst_sensitivity_analyses_results(\\n    augmented_pcst_mis_dict,\\n    target_nodes=orf_targets,\\n    spec_targets=specific_targets,\\n)\\naugmented_pcst_mis_results.loc[\\n    augmented_pcst_mis_results[\\\"n_spec_target_nodes\\\"]\\n    == np.max(augmented_pcst_mis_results[\\\"n_spec_target_nodes\\\"])\\n].sort_values(\\\"beta\\\")\";\n",
       "                var nbb_cells = Jupyter.notebook.get_cells();\n",
       "                for (var i = 0; i < nbb_cells.length; ++i) {\n",
       "                    if (nbb_cells[i].input_prompt_number == nbb_cell_id) {\n",
       "                        if (nbb_cells[i].get_text() == nbb_unformatted_code) {\n",
       "                             nbb_cells[i].set_text(nbb_formatted_code);\n",
       "                        }\n",
       "                        break;\n",
       "                    }\n",
       "                }\n",
       "            }, 500);\n",
       "            "
      ],
      "text/plain": [
       "<IPython.core.display.Javascript object>"
      ]
     },
     "metadata": {},
     "output_type": "display_data"
    }
   ],
   "source": [
    "augmented_pcst_mis_results = analyze_pcst_sensitivity_analyses_results(\n",
    "    augmented_pcst_mis_dict,\n",
    "    target_nodes=orf_targets,\n",
    "    spec_targets=specific_targets,\n",
    ")\n",
    "augmented_pcst_mis_results.loc[\n",
    "    augmented_pcst_mis_results[\"n_spec_target_nodes\"]\n",
    "    == np.max(augmented_pcst_mis_results[\"n_spec_target_nodes\"])\n",
    "].sort_values(\"beta\")"
   ]
  },
  {
   "cell_type": "code",
   "execution_count": 50,
   "id": "6cb7884c",
   "metadata": {},
   "outputs": [
    {
     "data": {
      "image/png": "[encoded data removed]",
      "text/plain": [
       "<Figure size 864x720 with 6 Axes>"
      ]
     },
     "metadata": {
      "needs_background": "light"
     },
     "output_type": "display_data"
    },
    {
     "data": {
      "application/javascript": [
       "\n",
       "            setTimeout(function() {\n",
       "                var nbb_cell_id = 50;\n",
       "                var nbb_unformatted_code = \"summarize_analyses_results_visually(augmented_pcst_mis_results)\";\n",
       "                var nbb_formatted_code = \"summarize_analyses_results_visually(augmented_pcst_mis_results)\";\n",
       "                var nbb_cells = Jupyter.notebook.get_cells();\n",
       "                for (var i = 0; i < nbb_cells.length; ++i) {\n",
       "                    if (nbb_cells[i].input_prompt_number == nbb_cell_id) {\n",
       "                        if (nbb_cells[i].get_text() == nbb_unformatted_code) {\n",
       "                             nbb_cells[i].set_text(nbb_formatted_code);\n",
       "                        }\n",
       "                        break;\n",
       "                    }\n",
       "                }\n",
       "            }, 500);\n",
       "            "
      ],
      "text/plain": [
       "<IPython.core.display.Javascript object>"
      ]
     },
     "metadata": {},
     "output_type": "display_data"
    }
   ],
   "source": [
    "summarize_analyses_results_visually(augmented_pcst_mis_results)"
   ]
  },
  {
   "cell_type": "markdown",
   "id": "e6621bc2",
   "metadata": {},
   "source": [
    "Since we aim to simply learn the interactome that describe the individual specific ORF targets we choose the smallest graph solution that spans all those targets, which is obtained at $\\beta$=0.6."
   ]
  },
  {
   "cell_type": "code",
   "execution_count": 51,
   "id": "f7f9ce47",
   "metadata": {},
   "outputs": [
    {
     "name": "stdout",
     "output_type": "stream",
     "text": [
      "Graph named 'cmap_abssig_mis_sol' with 792 nodes and 6150 edges\n"
     ]
    },
    {
     "name": "stderr",
     "output_type": "stream",
     "text": [
      "<ipython-input-51-00e252472536>:5: DeprecationWarning: info is deprecated and will be removed in version 3.0.\n",
      "\n",
      "  print(nx.info(mis_sol))\n"
     ]
    },
    {
     "data": {
      "application/javascript": [
       "\n",
       "            setTimeout(function() {\n",
       "                var nbb_cell_id = 51;\n",
       "                var nbb_unformatted_code = \"mis_sol = augmented_pcst_mis_dict[\\n    \\\"augmented_ppi_confidence_0599_hub_998_pruned_ccle_cmap_data_cv_b_0.5\\\"\\n].copy()\\nmis_sol.name = \\\"cmap_abssig_mis_sol\\\"\\nprint(nx.info(mis_sol))\";\n",
       "                var nbb_formatted_code = \"mis_sol = augmented_pcst_mis_dict[\\n    \\\"augmented_ppi_confidence_0599_hub_998_pruned_ccle_cmap_data_cv_b_0.5\\\"\\n].copy()\\nmis_sol.name = \\\"cmap_abssig_mis_sol\\\"\\nprint(nx.info(mis_sol))\";\n",
       "                var nbb_cells = Jupyter.notebook.get_cells();\n",
       "                for (var i = 0; i < nbb_cells.length; ++i) {\n",
       "                    if (nbb_cells[i].input_prompt_number == nbb_cell_id) {\n",
       "                        if (nbb_cells[i].get_text() == nbb_unformatted_code) {\n",
       "                             nbb_cells[i].set_text(nbb_formatted_code);\n",
       "                        }\n",
       "                        break;\n",
       "                    }\n",
       "                }\n",
       "            }, 500);\n",
       "            "
      ],
      "text/plain": [
       "<IPython.core.display.Javascript object>"
      ]
     },
     "metadata": {},
     "output_type": "display_data"
    }
   ],
   "source": [
    "mis_sol = augmented_pcst_mis_dict[\n",
    "    \"augmented_ppi_confidence_0599_hub_998_pruned_ccle_cmap_data_cv_b_0.5\"\n",
    "].copy()\n",
    "mis_sol.name = \"cmap_abssig_mis_sol\"\n",
    "print(nx.info(mis_sol))"
   ]
  },
  {
   "cell_type": "markdown",
   "id": "ec661ea5",
   "metadata": {},
   "source": [
    "The corresponding network consists of 575 nodes and 4'392. The network covers all 38 structural regulator genes covered in the input graph."
   ]
  },
  {
   "cell_type": "markdown",
   "id": "70aafab3",
   "metadata": {},
   "source": [
    "---\n",
    "\n",
    "### 2.2. Spearman correlation edge weights\n",
    "\n",
    "After having inferred the solution using the MINT-score inspired edge costs, we will now rerun the analyses using $1-r_{Spearman}$ as an alternative edge weight defintion. The intuition is that this will further guide the derivation of the interactome to focus on links that are specific to our cell-type of interest. On the flip side the metric were computed on noisy scRNAseq data which might limit the descriptive power of this metric to evaluate the strength of a regulatory link."
   ]
  },
  {
   "cell_type": "markdown",
   "id": "d1c9b1f2",
   "metadata": {},
   "source": [
    "Since the Spearman-based edge weights are in the range of [0,1] compared to those previously used for MINT score based ones [0,0.594], we will run the screen for $\\beta \\in$ [0,20]."
   ]
  },
  {
   "cell_type": "code",
   "execution_count": 52,
   "id": "7ec17561",
   "metadata": {},
   "outputs": [
    {
     "data": {
      "application/javascript": [
       "\n",
       "            setTimeout(function() {\n",
       "                var nbb_cell_id = 52;\n",
       "                var nbb_unformatted_code = \"bs = np.arange(0.1, 10, 0.1)\";\n",
       "                var nbb_formatted_code = \"bs = np.arange(0.1, 10, 0.1)\";\n",
       "                var nbb_cells = Jupyter.notebook.get_cells();\n",
       "                for (var i = 0; i < nbb_cells.length; ++i) {\n",
       "                    if (nbb_cells[i].input_prompt_number == nbb_cell_id) {\n",
       "                        if (nbb_cells[i].get_text() == nbb_unformatted_code) {\n",
       "                             nbb_cells[i].set_text(nbb_formatted_code);\n",
       "                        }\n",
       "                        break;\n",
       "                    }\n",
       "                }\n",
       "            }, 500);\n",
       "            "
      ],
      "text/plain": [
       "<IPython.core.display.Javascript object>"
      ]
     },
     "metadata": {},
     "output_type": "display_data"
    }
   ],
   "source": [
    "bs = np.arange(0.1, 10, 0.1)"
   ]
  },
  {
   "cell_type": "code",
   "execution_count": 54,
   "id": "46ac59bd",
   "metadata": {},
   "outputs": [
    {
     "name": "stderr",
     "output_type": "stream",
     "text": [
      "Compute PCSTs: 100%|██████████| 99/99 [00:06<00:00, 14.42it/s]\n"
     ]
    },
    {
     "data": {
      "application/javascript": [
       "\n",
       "            setTimeout(function() {\n",
       "                var nbb_cell_id = 54;\n",
       "                var nbb_unformatted_code = \"(pcst_spearman_dict, augmented_pcst_spearman_dict,) = run_pcst_sensitivity_analyses(\\n    graph=ppi,\\n    bs=bs,\\n    prize_key=\\\"cmap_abssig\\\",\\n    weight_key=\\\"scgex_spearmanr\\\",\\n    minmax_scale=True,\\n)\";\n",
       "                var nbb_formatted_code = \"(pcst_spearman_dict, augmented_pcst_spearman_dict,) = run_pcst_sensitivity_analyses(\\n    graph=ppi,\\n    bs=bs,\\n    prize_key=\\\"cmap_abssig\\\",\\n    weight_key=\\\"scgex_spearmanr\\\",\\n    minmax_scale=True,\\n)\";\n",
       "                var nbb_cells = Jupyter.notebook.get_cells();\n",
       "                for (var i = 0; i < nbb_cells.length; ++i) {\n",
       "                    if (nbb_cells[i].input_prompt_number == nbb_cell_id) {\n",
       "                        if (nbb_cells[i].get_text() == nbb_unformatted_code) {\n",
       "                             nbb_cells[i].set_text(nbb_formatted_code);\n",
       "                        }\n",
       "                        break;\n",
       "                    }\n",
       "                }\n",
       "            }, 500);\n",
       "            "
      ],
      "text/plain": [
       "<IPython.core.display.Javascript object>"
      ]
     },
     "metadata": {},
     "output_type": "display_data"
    }
   ],
   "source": [
    "(pcst_spearman_dict, augmented_pcst_spearman_dict,) = run_pcst_sensitivity_analyses(\n",
    "    graph=ppi,\n",
    "    bs=bs,\n",
    "    prize_key=\"cmap_abssig\",\n",
    "    weight_key=\"scgex_spearmanr\",\n",
    "    minmax_scale=True,\n",
    ")"
   ]
  },
  {
   "cell_type": "code",
   "execution_count": 55,
   "id": "c20ff70b",
   "metadata": {
    "scrolled": true
   },
   "outputs": [
    {
     "name": "stderr",
     "output_type": "stream",
     "text": [
      "Analyze tree:   0%|          | 0/99 [00:00<?, ?it/s]/home/paysan_d/miniconda3/envs/image2reg/lib/python3.8/site-packages/numpy/core/fromnumeric.py:3474: RuntimeWarning: Mean of empty slice.\n",
      "  return _methods._mean(a, axis=axis, dtype=dtype,\n",
      "/home/paysan_d/miniconda3/envs/image2reg/lib/python3.8/site-packages/numpy/core/_methods.py:189: RuntimeWarning: invalid value encountered in double_scalars\n",
      "  ret = ret.dtype.type(ret / rcount)\n",
      "/home/paysan_d/miniconda3/envs/image2reg/lib/python3.8/site-packages/numpy/core/_methods.py:264: RuntimeWarning: Degrees of freedom <= 0 for slice\n",
      "  ret = _var(a, axis=axis, dtype=dtype, out=out, ddof=ddof,\n",
      "/home/paysan_d/miniconda3/envs/image2reg/lib/python3.8/site-packages/numpy/core/_methods.py:222: RuntimeWarning: invalid value encountered in true_divide\n",
      "  arrmean = um.true_divide(arrmean, div, out=arrmean, casting='unsafe',\n",
      "/home/paysan_d/miniconda3/envs/image2reg/lib/python3.8/site-packages/numpy/core/_methods.py:256: RuntimeWarning: invalid value encountered in double_scalars\n",
      "  ret = ret.dtype.type(ret / rcount)\n",
      "Analyze tree: 100%|██████████| 99/99 [02:09<00:00,  1.31s/it] \n"
     ]
    },
    {
     "data": {
      "text/html": [
       "<div>\n",
       "<style scoped>\n",
       "    .dataframe tbody tr th:only-of-type {\n",
       "        vertical-align: middle;\n",
       "    }\n",
       "\n",
       "    .dataframe tbody tr th {\n",
       "        vertical-align: top;\n",
       "    }\n",
       "\n",
       "    .dataframe thead th {\n",
       "        text-align: right;\n",
       "    }\n",
       "</style>\n",
       "<table border=\"1\" class=\"dataframe\">\n",
       "  <thead>\n",
       "    <tr style=\"text-align: right;\">\n",
       "      <th></th>\n",
       "      <th>beta</th>\n",
       "      <th>n_nodes</th>\n",
       "      <th>n_edges</th>\n",
       "      <th>n_connected_components</th>\n",
       "      <th>n_louvain_clusters</th>\n",
       "      <th>avg_node_degree</th>\n",
       "      <th>std_node_degree</th>\n",
       "      <th>n_leaf_nodes</th>\n",
       "      <th>n_target_nodes</th>\n",
       "      <th>n_spec_target_nodes</th>\n",
       "      <th>n_spec_target_leafs</th>\n",
       "      <th>avg_spec_target_degree</th>\n",
       "      <th>std_spec_target_degree</th>\n",
       "    </tr>\n",
       "  </thead>\n",
       "  <tbody>\n",
       "    <tr>\n",
       "      <th>augmented_ppi_confidence_0599_hub_998_pruned_ccle_cmap_data_cv_b_2.1</th>\n",
       "      <td>2.1</td>\n",
       "      <td>357</td>\n",
       "      <td>1138</td>\n",
       "      <td>1</td>\n",
       "      <td>11</td>\n",
       "      <td>6.375350</td>\n",
       "      <td>5.906295</td>\n",
       "      <td>45</td>\n",
       "      <td>59</td>\n",
       "      <td>38</td>\n",
       "      <td>3</td>\n",
       "      <td>8.473684</td>\n",
       "      <td>6.911991</td>\n",
       "    </tr>\n",
       "    <tr>\n",
       "      <th>augmented_ppi_confidence_0599_hub_998_pruned_ccle_cmap_data_cv_b_2.2</th>\n",
       "      <td>2.2</td>\n",
       "      <td>425</td>\n",
       "      <td>1458</td>\n",
       "      <td>1</td>\n",
       "      <td>13</td>\n",
       "      <td>6.861176</td>\n",
       "      <td>6.471441</td>\n",
       "      <td>51</td>\n",
       "      <td>67</td>\n",
       "      <td>38</td>\n",
       "      <td>3</td>\n",
       "      <td>9.342105</td>\n",
       "      <td>7.841443</td>\n",
       "    </tr>\n",
       "    <tr>\n",
       "      <th>augmented_ppi_confidence_0599_hub_998_pruned_ccle_cmap_data_cv_b_2.3</th>\n",
       "      <td>2.3</td>\n",
       "      <td>502</td>\n",
       "      <td>1761</td>\n",
       "      <td>1</td>\n",
       "      <td>15</td>\n",
       "      <td>7.015936</td>\n",
       "      <td>6.636233</td>\n",
       "      <td>57</td>\n",
       "      <td>70</td>\n",
       "      <td>38</td>\n",
       "      <td>3</td>\n",
       "      <td>9.947368</td>\n",
       "      <td>8.657055</td>\n",
       "    </tr>\n",
       "    <tr>\n",
       "      <th>augmented_ppi_confidence_0599_hub_998_pruned_ccle_cmap_data_cv_b_2.4</th>\n",
       "      <td>2.4</td>\n",
       "      <td>555</td>\n",
       "      <td>2021</td>\n",
       "      <td>1</td>\n",
       "      <td>13</td>\n",
       "      <td>7.282883</td>\n",
       "      <td>6.933219</td>\n",
       "      <td>69</td>\n",
       "      <td>71</td>\n",
       "      <td>38</td>\n",
       "      <td>3</td>\n",
       "      <td>10.578947</td>\n",
       "      <td>9.100699</td>\n",
       "    </tr>\n",
       "    <tr>\n",
       "      <th>augmented_ppi_confidence_0599_hub_998_pruned_ccle_cmap_data_cv_b_2.5</th>\n",
       "      <td>2.5</td>\n",
       "      <td>644</td>\n",
       "      <td>2550</td>\n",
       "      <td>1</td>\n",
       "      <td>15</td>\n",
       "      <td>7.919255</td>\n",
       "      <td>7.792316</td>\n",
       "      <td>83</td>\n",
       "      <td>74</td>\n",
       "      <td>38</td>\n",
       "      <td>3</td>\n",
       "      <td>11.894737</td>\n",
       "      <td>10.143158</td>\n",
       "    </tr>\n",
       "    <tr>\n",
       "      <th>...</th>\n",
       "      <td>...</td>\n",
       "      <td>...</td>\n",
       "      <td>...</td>\n",
       "      <td>...</td>\n",
       "      <td>...</td>\n",
       "      <td>...</td>\n",
       "      <td>...</td>\n",
       "      <td>...</td>\n",
       "      <td>...</td>\n",
       "      <td>...</td>\n",
       "      <td>...</td>\n",
       "      <td>...</td>\n",
       "      <td>...</td>\n",
       "    </tr>\n",
       "    <tr>\n",
       "      <th>augmented_ppi_confidence_0599_hub_998_pruned_ccle_cmap_data_cv_b_9.5</th>\n",
       "      <td>9.5</td>\n",
       "      <td>7650</td>\n",
       "      <td>41533</td>\n",
       "      <td>1</td>\n",
       "      <td>21</td>\n",
       "      <td>10.858301</td>\n",
       "      <td>17.328425</td>\n",
       "      <td>1375</td>\n",
       "      <td>173</td>\n",
       "      <td>38</td>\n",
       "      <td>1</td>\n",
       "      <td>47.973684</td>\n",
       "      <td>44.328610</td>\n",
       "    </tr>\n",
       "    <tr>\n",
       "      <th>augmented_ppi_confidence_0599_hub_998_pruned_ccle_cmap_data_cv_b_9.6</th>\n",
       "      <td>9.6</td>\n",
       "      <td>7650</td>\n",
       "      <td>41533</td>\n",
       "      <td>1</td>\n",
       "      <td>20</td>\n",
       "      <td>10.858301</td>\n",
       "      <td>17.328425</td>\n",
       "      <td>1375</td>\n",
       "      <td>173</td>\n",
       "      <td>38</td>\n",
       "      <td>1</td>\n",
       "      <td>47.973684</td>\n",
       "      <td>44.328610</td>\n",
       "    </tr>\n",
       "    <tr>\n",
       "      <th>augmented_ppi_confidence_0599_hub_998_pruned_ccle_cmap_data_cv_b_9.7</th>\n",
       "      <td>9.7</td>\n",
       "      <td>7650</td>\n",
       "      <td>41533</td>\n",
       "      <td>1</td>\n",
       "      <td>24</td>\n",
       "      <td>10.858301</td>\n",
       "      <td>17.328425</td>\n",
       "      <td>1375</td>\n",
       "      <td>173</td>\n",
       "      <td>38</td>\n",
       "      <td>1</td>\n",
       "      <td>47.973684</td>\n",
       "      <td>44.328610</td>\n",
       "    </tr>\n",
       "    <tr>\n",
       "      <th>augmented_ppi_confidence_0599_hub_998_pruned_ccle_cmap_data_cv_b_9.8</th>\n",
       "      <td>9.8</td>\n",
       "      <td>7653</td>\n",
       "      <td>41627</td>\n",
       "      <td>1</td>\n",
       "      <td>21</td>\n",
       "      <td>10.878610</td>\n",
       "      <td>17.367009</td>\n",
       "      <td>1372</td>\n",
       "      <td>173</td>\n",
       "      <td>38</td>\n",
       "      <td>1</td>\n",
       "      <td>48.052632</td>\n",
       "      <td>44.387615</td>\n",
       "    </tr>\n",
       "    <tr>\n",
       "      <th>augmented_ppi_confidence_0599_hub_998_pruned_ccle_cmap_data_cv_b_9.9</th>\n",
       "      <td>9.9</td>\n",
       "      <td>7653</td>\n",
       "      <td>41627</td>\n",
       "      <td>1</td>\n",
       "      <td>23</td>\n",
       "      <td>10.878610</td>\n",
       "      <td>17.367009</td>\n",
       "      <td>1372</td>\n",
       "      <td>173</td>\n",
       "      <td>38</td>\n",
       "      <td>1</td>\n",
       "      <td>48.052632</td>\n",
       "      <td>44.387615</td>\n",
       "    </tr>\n",
       "  </tbody>\n",
       "</table>\n",
       "<p>79 rows × 13 columns</p>\n",
       "</div>"
      ],
      "text/plain": [
       "                                                    beta  n_nodes  n_edges  \\\n",
       "augmented_ppi_confidence_0599_hub_998_pruned_cc...   2.1      357     1138   \n",
       "augmented_ppi_confidence_0599_hub_998_pruned_cc...   2.2      425     1458   \n",
       "augmented_ppi_confidence_0599_hub_998_pruned_cc...   2.3      502     1761   \n",
       "augmented_ppi_confidence_0599_hub_998_pruned_cc...   2.4      555     2021   \n",
       "augmented_ppi_confidence_0599_hub_998_pruned_cc...   2.5      644     2550   \n",
       "...                                                  ...      ...      ...   \n",
       "augmented_ppi_confidence_0599_hub_998_pruned_cc...   9.5     7650    41533   \n",
       "augmented_ppi_confidence_0599_hub_998_pruned_cc...   9.6     7650    41533   \n",
       "augmented_ppi_confidence_0599_hub_998_pruned_cc...   9.7     7650    41533   \n",
       "augmented_ppi_confidence_0599_hub_998_pruned_cc...   9.8     7653    41627   \n",
       "augmented_ppi_confidence_0599_hub_998_pruned_cc...   9.9     7653    41627   \n",
       "\n",
       "                                                    n_connected_components  \\\n",
       "augmented_ppi_confidence_0599_hub_998_pruned_cc...                       1   \n",
       "augmented_ppi_confidence_0599_hub_998_pruned_cc...                       1   \n",
       "augmented_ppi_confidence_0599_hub_998_pruned_cc...                       1   \n",
       "augmented_ppi_confidence_0599_hub_998_pruned_cc...                       1   \n",
       "augmented_ppi_confidence_0599_hub_998_pruned_cc...                       1   \n",
       "...                                                                    ...   \n",
       "augmented_ppi_confidence_0599_hub_998_pruned_cc...                       1   \n",
       "augmented_ppi_confidence_0599_hub_998_pruned_cc...                       1   \n",
       "augmented_ppi_confidence_0599_hub_998_pruned_cc...                       1   \n",
       "augmented_ppi_confidence_0599_hub_998_pruned_cc...                       1   \n",
       "augmented_ppi_confidence_0599_hub_998_pruned_cc...                       1   \n",
       "\n",
       "                                                    n_louvain_clusters  \\\n",
       "augmented_ppi_confidence_0599_hub_998_pruned_cc...                  11   \n",
       "augmented_ppi_confidence_0599_hub_998_pruned_cc...                  13   \n",
       "augmented_ppi_confidence_0599_hub_998_pruned_cc...                  15   \n",
       "augmented_ppi_confidence_0599_hub_998_pruned_cc...                  13   \n",
       "augmented_ppi_confidence_0599_hub_998_pruned_cc...                  15   \n",
       "...                                                                ...   \n",
       "augmented_ppi_confidence_0599_hub_998_pruned_cc...                  21   \n",
       "augmented_ppi_confidence_0599_hub_998_pruned_cc...                  20   \n",
       "augmented_ppi_confidence_0599_hub_998_pruned_cc...                  24   \n",
       "augmented_ppi_confidence_0599_hub_998_pruned_cc...                  21   \n",
       "augmented_ppi_confidence_0599_hub_998_pruned_cc...                  23   \n",
       "\n",
       "                                                    avg_node_degree  \\\n",
       "augmented_ppi_confidence_0599_hub_998_pruned_cc...         6.375350   \n",
       "augmented_ppi_confidence_0599_hub_998_pruned_cc...         6.861176   \n",
       "augmented_ppi_confidence_0599_hub_998_pruned_cc...         7.015936   \n",
       "augmented_ppi_confidence_0599_hub_998_pruned_cc...         7.282883   \n",
       "augmented_ppi_confidence_0599_hub_998_pruned_cc...         7.919255   \n",
       "...                                                             ...   \n",
       "augmented_ppi_confidence_0599_hub_998_pruned_cc...        10.858301   \n",
       "augmented_ppi_confidence_0599_hub_998_pruned_cc...        10.858301   \n",
       "augmented_ppi_confidence_0599_hub_998_pruned_cc...        10.858301   \n",
       "augmented_ppi_confidence_0599_hub_998_pruned_cc...        10.878610   \n",
       "augmented_ppi_confidence_0599_hub_998_pruned_cc...        10.878610   \n",
       "\n",
       "                                                    std_node_degree  \\\n",
       "augmented_ppi_confidence_0599_hub_998_pruned_cc...         5.906295   \n",
       "augmented_ppi_confidence_0599_hub_998_pruned_cc...         6.471441   \n",
       "augmented_ppi_confidence_0599_hub_998_pruned_cc...         6.636233   \n",
       "augmented_ppi_confidence_0599_hub_998_pruned_cc...         6.933219   \n",
       "augmented_ppi_confidence_0599_hub_998_pruned_cc...         7.792316   \n",
       "...                                                             ...   \n",
       "augmented_ppi_confidence_0599_hub_998_pruned_cc...        17.328425   \n",
       "augmented_ppi_confidence_0599_hub_998_pruned_cc...        17.328425   \n",
       "augmented_ppi_confidence_0599_hub_998_pruned_cc...        17.328425   \n",
       "augmented_ppi_confidence_0599_hub_998_pruned_cc...        17.367009   \n",
       "augmented_ppi_confidence_0599_hub_998_pruned_cc...        17.367009   \n",
       "\n",
       "                                                    n_leaf_nodes  \\\n",
       "augmented_ppi_confidence_0599_hub_998_pruned_cc...            45   \n",
       "augmented_ppi_confidence_0599_hub_998_pruned_cc...            51   \n",
       "augmented_ppi_confidence_0599_hub_998_pruned_cc...            57   \n",
       "augmented_ppi_confidence_0599_hub_998_pruned_cc...            69   \n",
       "augmented_ppi_confidence_0599_hub_998_pruned_cc...            83   \n",
       "...                                                          ...   \n",
       "augmented_ppi_confidence_0599_hub_998_pruned_cc...          1375   \n",
       "augmented_ppi_confidence_0599_hub_998_pruned_cc...          1375   \n",
       "augmented_ppi_confidence_0599_hub_998_pruned_cc...          1375   \n",
       "augmented_ppi_confidence_0599_hub_998_pruned_cc...          1372   \n",
       "augmented_ppi_confidence_0599_hub_998_pruned_cc...          1372   \n",
       "\n",
       "                                                    n_target_nodes  \\\n",
       "augmented_ppi_confidence_0599_hub_998_pruned_cc...              59   \n",
       "augmented_ppi_confidence_0599_hub_998_pruned_cc...              67   \n",
       "augmented_ppi_confidence_0599_hub_998_pruned_cc...              70   \n",
       "augmented_ppi_confidence_0599_hub_998_pruned_cc...              71   \n",
       "augmented_ppi_confidence_0599_hub_998_pruned_cc...              74   \n",
       "...                                                            ...   \n",
       "augmented_ppi_confidence_0599_hub_998_pruned_cc...             173   \n",
       "augmented_ppi_confidence_0599_hub_998_pruned_cc...             173   \n",
       "augmented_ppi_confidence_0599_hub_998_pruned_cc...             173   \n",
       "augmented_ppi_confidence_0599_hub_998_pruned_cc...             173   \n",
       "augmented_ppi_confidence_0599_hub_998_pruned_cc...             173   \n",
       "\n",
       "                                                    n_spec_target_nodes  \\\n",
       "augmented_ppi_confidence_0599_hub_998_pruned_cc...                   38   \n",
       "augmented_ppi_confidence_0599_hub_998_pruned_cc...                   38   \n",
       "augmented_ppi_confidence_0599_hub_998_pruned_cc...                   38   \n",
       "augmented_ppi_confidence_0599_hub_998_pruned_cc...                   38   \n",
       "augmented_ppi_confidence_0599_hub_998_pruned_cc...                   38   \n",
       "...                                                                 ...   \n",
       "augmented_ppi_confidence_0599_hub_998_pruned_cc...                   38   \n",
       "augmented_ppi_confidence_0599_hub_998_pruned_cc...                   38   \n",
       "augmented_ppi_confidence_0599_hub_998_pruned_cc...                   38   \n",
       "augmented_ppi_confidence_0599_hub_998_pruned_cc...                   38   \n",
       "augmented_ppi_confidence_0599_hub_998_pruned_cc...                   38   \n",
       "\n",
       "                                                    n_spec_target_leafs  \\\n",
       "augmented_ppi_confidence_0599_hub_998_pruned_cc...                    3   \n",
       "augmented_ppi_confidence_0599_hub_998_pruned_cc...                    3   \n",
       "augmented_ppi_confidence_0599_hub_998_pruned_cc...                    3   \n",
       "augmented_ppi_confidence_0599_hub_998_pruned_cc...                    3   \n",
       "augmented_ppi_confidence_0599_hub_998_pruned_cc...                    3   \n",
       "...                                                                 ...   \n",
       "augmented_ppi_confidence_0599_hub_998_pruned_cc...                    1   \n",
       "augmented_ppi_confidence_0599_hub_998_pruned_cc...                    1   \n",
       "augmented_ppi_confidence_0599_hub_998_pruned_cc...                    1   \n",
       "augmented_ppi_confidence_0599_hub_998_pruned_cc...                    1   \n",
       "augmented_ppi_confidence_0599_hub_998_pruned_cc...                    1   \n",
       "\n",
       "                                                    avg_spec_target_degree  \\\n",
       "augmented_ppi_confidence_0599_hub_998_pruned_cc...                8.473684   \n",
       "augmented_ppi_confidence_0599_hub_998_pruned_cc...                9.342105   \n",
       "augmented_ppi_confidence_0599_hub_998_pruned_cc...                9.947368   \n",
       "augmented_ppi_confidence_0599_hub_998_pruned_cc...               10.578947   \n",
       "augmented_ppi_confidence_0599_hub_998_pruned_cc...               11.894737   \n",
       "...                                                                    ...   \n",
       "augmented_ppi_confidence_0599_hub_998_pruned_cc...               47.973684   \n",
       "augmented_ppi_confidence_0599_hub_998_pruned_cc...               47.973684   \n",
       "augmented_ppi_confidence_0599_hub_998_pruned_cc...               47.973684   \n",
       "augmented_ppi_confidence_0599_hub_998_pruned_cc...               48.052632   \n",
       "augmented_ppi_confidence_0599_hub_998_pruned_cc...               48.052632   \n",
       "\n",
       "                                                    std_spec_target_degree  \n",
       "augmented_ppi_confidence_0599_hub_998_pruned_cc...                6.911991  \n",
       "augmented_ppi_confidence_0599_hub_998_pruned_cc...                7.841443  \n",
       "augmented_ppi_confidence_0599_hub_998_pruned_cc...                8.657055  \n",
       "augmented_ppi_confidence_0599_hub_998_pruned_cc...                9.100699  \n",
       "augmented_ppi_confidence_0599_hub_998_pruned_cc...               10.143158  \n",
       "...                                                                    ...  \n",
       "augmented_ppi_confidence_0599_hub_998_pruned_cc...               44.328610  \n",
       "augmented_ppi_confidence_0599_hub_998_pruned_cc...               44.328610  \n",
       "augmented_ppi_confidence_0599_hub_998_pruned_cc...               44.328610  \n",
       "augmented_ppi_confidence_0599_hub_998_pruned_cc...               44.387615  \n",
       "augmented_ppi_confidence_0599_hub_998_pruned_cc...               44.387615  \n",
       "\n",
       "[79 rows x 13 columns]"
      ]
     },
     "execution_count": 55,
     "metadata": {},
     "output_type": "execute_result"
    },
    {
     "data": {
      "application/javascript": [
       "\n",
       "            setTimeout(function() {\n",
       "                var nbb_cell_id = 55;\n",
       "                var nbb_unformatted_code = \"augmented_pcst_spearman_results = analyze_pcst_sensitivity_analyses_results(\\n    augmented_pcst_spearman_dict,\\n    target_nodes=orf_targets,\\n    spec_targets=specific_targets,\\n)\\naugmented_pcst_spearman_results.loc[\\n    augmented_pcst_spearman_results[\\\"n_spec_target_nodes\\\"]\\n    == np.max(augmented_pcst_spearman_results[\\\"n_spec_target_nodes\\\"])\\n].sort_values(\\\"beta\\\")\";\n",
       "                var nbb_formatted_code = \"augmented_pcst_spearman_results = analyze_pcst_sensitivity_analyses_results(\\n    augmented_pcst_spearman_dict,\\n    target_nodes=orf_targets,\\n    spec_targets=specific_targets,\\n)\\naugmented_pcst_spearman_results.loc[\\n    augmented_pcst_spearman_results[\\\"n_spec_target_nodes\\\"]\\n    == np.max(augmented_pcst_spearman_results[\\\"n_spec_target_nodes\\\"])\\n].sort_values(\\\"beta\\\")\";\n",
       "                var nbb_cells = Jupyter.notebook.get_cells();\n",
       "                for (var i = 0; i < nbb_cells.length; ++i) {\n",
       "                    if (nbb_cells[i].input_prompt_number == nbb_cell_id) {\n",
       "                        if (nbb_cells[i].get_text() == nbb_unformatted_code) {\n",
       "                             nbb_cells[i].set_text(nbb_formatted_code);\n",
       "                        }\n",
       "                        break;\n",
       "                    }\n",
       "                }\n",
       "            }, 500);\n",
       "            "
      ],
      "text/plain": [
       "<IPython.core.display.Javascript object>"
      ]
     },
     "metadata": {},
     "output_type": "display_data"
    }
   ],
   "source": [
    "augmented_pcst_spearman_results = analyze_pcst_sensitivity_analyses_results(\n",
    "    augmented_pcst_spearman_dict,\n",
    "    target_nodes=orf_targets,\n",
    "    spec_targets=specific_targets,\n",
    ")\n",
    "augmented_pcst_spearman_results.loc[\n",
    "    augmented_pcst_spearman_results[\"n_spec_target_nodes\"]\n",
    "    == np.max(augmented_pcst_spearman_results[\"n_spec_target_nodes\"])\n",
    "].sort_values(\"beta\")"
   ]
  },
  {
   "cell_type": "code",
   "execution_count": 59,
   "id": "634cb2a7",
   "metadata": {},
   "outputs": [
    {
     "data": {
      "image/png": "[encoded data removed]",
      "text/plain": [
       "<Figure size 864x288 with 2 Axes>"
      ]
     },
     "metadata": {
      "needs_background": "light"
     },
     "output_type": "display_data"
    },
    {
     "data": {
      "application/javascript": [
       "\n",
       "            setTimeout(function() {\n",
       "                var nbb_cell_id = 59;\n",
       "                var nbb_unformatted_code = \"cmap_spearmanr_weights = np.array(\\n    list(nx.get_edge_attributes(spearman_sol, \\\"cmap_spearmanp\\\").values())\\n)\\nscgex_spearmanr_weights = np.array(\\n    list(nx.get_edge_attributes(spearman_sol, \\\"scgex_spearmanp\\\").values())\\n)\\nfig, ax = plt.subplots(figsize=[12, 4], ncols=2)\\nax = ax.flatten()\\nax[0] = sns.histplot(cmap_spearmanr_weights, ax=ax[0])\\nax[0].set_title(\\\"Distribution of the CMAP Spearman r edge weights\\\")\\nax[0].set_xlabel(\\\"1-|r|\\\")\\nax[1] = sns.histplot(scgex_spearmanr_weights, ax=ax[1])\\nax[1].set_title(\\\"Distribution of the scRNAseq Spearman r edge weights\\\")\\nax[1].set_xlabel(\\\"1-|r|\\\")\\nplt.show()\";\n",
       "                var nbb_formatted_code = \"cmap_spearmanr_weights = np.array(\\n    list(nx.get_edge_attributes(spearman_sol, \\\"cmap_spearmanp\\\").values())\\n)\\nscgex_spearmanr_weights = np.array(\\n    list(nx.get_edge_attributes(spearman_sol, \\\"scgex_spearmanp\\\").values())\\n)\\nfig, ax = plt.subplots(figsize=[12, 4], ncols=2)\\nax = ax.flatten()\\nax[0] = sns.histplot(cmap_spearmanr_weights, ax=ax[0])\\nax[0].set_title(\\\"Distribution of the CMAP Spearman r edge weights\\\")\\nax[0].set_xlabel(\\\"1-|r|\\\")\\nax[1] = sns.histplot(scgex_spearmanr_weights, ax=ax[1])\\nax[1].set_title(\\\"Distribution of the scRNAseq Spearman r edge weights\\\")\\nax[1].set_xlabel(\\\"1-|r|\\\")\\nplt.show()\";\n",
       "                var nbb_cells = Jupyter.notebook.get_cells();\n",
       "                for (var i = 0; i < nbb_cells.length; ++i) {\n",
       "                    if (nbb_cells[i].input_prompt_number == nbb_cell_id) {\n",
       "                        if (nbb_cells[i].get_text() == nbb_unformatted_code) {\n",
       "                             nbb_cells[i].set_text(nbb_formatted_code);\n",
       "                        }\n",
       "                        break;\n",
       "                    }\n",
       "                }\n",
       "            }, 500);\n",
       "            "
      ],
      "text/plain": [
       "<IPython.core.display.Javascript object>"
      ]
     },
     "metadata": {},
     "output_type": "display_data"
    }
   ],
   "source": [
    "cmap_spearmanr_weights = np.array(\n",
    "    list(nx.get_edge_attributes(spearman_sol, \"cmap_spearmanp\").values())\n",
    ")\n",
    "scgex_spearmanr_weights = np.array(\n",
    "    list(nx.get_edge_attributes(spearman_sol, \"scgex_spearmanp\").values())\n",
    ")\n",
    "fig, ax = plt.subplots(figsize=[12, 4], ncols=2)\n",
    "ax = ax.flatten()\n",
    "ax[0] = sns.histplot(cmap_spearmanr_weights, ax=ax[0])\n",
    "ax[0].set_title(\"Distribution of the CMAP Spearman r edge weights\")\n",
    "ax[0].set_xlabel(\"1-|r|\")\n",
    "ax[1] = sns.histplot(scgex_spearmanr_weights, ax=ax[1])\n",
    "ax[1].set_title(\"Distribution of the scRNAseq Spearman r edge weights\")\n",
    "ax[1].set_xlabel(\"1-|r|\")\n",
    "plt.show()"
   ]
  },
  {
   "cell_type": "code",
   "execution_count": 56,
   "id": "01fefd67",
   "metadata": {},
   "outputs": [
    {
     "data": {
      "image/png": "[encoded data removed]",
      "text/plain": [
       "<Figure size 864x720 with 6 Axes>"
      ]
     },
     "metadata": {
      "needs_background": "light"
     },
     "output_type": "display_data"
    },
    {
     "data": {
      "application/javascript": [
       "\n",
       "            setTimeout(function() {\n",
       "                var nbb_cell_id = 56;\n",
       "                var nbb_unformatted_code = \"summarize_analyses_results_visually(augmented_pcst_spearman_results)\";\n",
       "                var nbb_formatted_code = \"summarize_analyses_results_visually(augmented_pcst_spearman_results)\";\n",
       "                var nbb_cells = Jupyter.notebook.get_cells();\n",
       "                for (var i = 0; i < nbb_cells.length; ++i) {\n",
       "                    if (nbb_cells[i].input_prompt_number == nbb_cell_id) {\n",
       "                        if (nbb_cells[i].get_text() == nbb_unformatted_code) {\n",
       "                             nbb_cells[i].set_text(nbb_formatted_code);\n",
       "                        }\n",
       "                        break;\n",
       "                    }\n",
       "                }\n",
       "            }, 500);\n",
       "            "
      ],
      "text/plain": [
       "<IPython.core.display.Javascript object>"
      ]
     },
     "metadata": {},
     "output_type": "display_data"
    }
   ],
   "source": [
    "summarize_analyses_results_visually(augmented_pcst_spearman_results)"
   ]
  },
  {
   "cell_type": "markdown",
   "id": "132aa5e9",
   "metadata": {},
   "source": [
    "Using the Spearman-correlation based ede weights we see much smaller rate of increase of the number of edges and nodes for the different choices of $\\beta$. This can be explained by the heavily left-skewed distribution of the Spearman edge weights when compared to the more uniformly distributed MINT score based edge weights used previously. We see that for a choice of $\\beta \\geq 2.6$ all 43 specific ORF targets are covered. Thus, we choose the corresponding graph as the solution of this setup."
   ]
  },
  {
   "cell_type": "code",
   "execution_count": 132,
   "id": "0f0e287c",
   "metadata": {},
   "outputs": [
    {
     "name": "stdout",
     "output_type": "stream",
     "text": [
      "Graph named 'cmap_abssig_ccle_spearmanr_sol' with 357 nodes and 1138 edges\n"
     ]
    },
    {
     "name": "stderr",
     "output_type": "stream",
     "text": [
      "<ipython-input-132-53a8212256ff>:5: DeprecationWarning: info is deprecated and will be removed in version 3.0.\n",
      "\n",
      "  print(nx.info(spearman_sol))\n"
     ]
    },
    {
     "data": {
      "application/javascript": [
       "\n",
       "            setTimeout(function() {\n",
       "                var nbb_cell_id = 132;\n",
       "                var nbb_unformatted_code = \"spearman_sol = augmented_pcst_spearman_dict[\\n    \\\"augmented_ppi_confidence_0599_hub_998_pruned_ccle_cmap_data_cv_b_2.1\\\"\\n].copy()\\nspearman_sol.name = \\\"cmap_abssig_ccle_spearmanr_sol\\\"\\nprint(nx.info(spearman_sol))\";\n",
       "                var nbb_formatted_code = \"spearman_sol = augmented_pcst_spearman_dict[\\n    \\\"augmented_ppi_confidence_0599_hub_998_pruned_ccle_cmap_data_cv_b_2.1\\\"\\n].copy()\\nspearman_sol.name = \\\"cmap_abssig_ccle_spearmanr_sol\\\"\\nprint(nx.info(spearman_sol))\";\n",
       "                var nbb_cells = Jupyter.notebook.get_cells();\n",
       "                for (var i = 0; i < nbb_cells.length; ++i) {\n",
       "                    if (nbb_cells[i].input_prompt_number == nbb_cell_id) {\n",
       "                        if (nbb_cells[i].get_text() == nbb_unformatted_code) {\n",
       "                             nbb_cells[i].set_text(nbb_formatted_code);\n",
       "                        }\n",
       "                        break;\n",
       "                    }\n",
       "                }\n",
       "            }, 500);\n",
       "            "
      ],
      "text/plain": [
       "<IPython.core.display.Javascript object>"
      ]
     },
     "metadata": {},
     "output_type": "display_data"
    }
   ],
   "source": [
    "spearman_sol = augmented_pcst_spearman_dict[\n",
    "    \"augmented_ppi_confidence_0599_hub_998_pruned_ccle_cmap_data_cv_b_2.1\"\n",
    "].copy()\n",
    "spearman_sol.name = \"cmap_abssig_ccle_spearmanr_sol\"\n",
    "print(nx.info(spearman_sol))"
   ]
  },
  {
   "cell_type": "code",
   "execution_count": null,
   "id": "e0248097",
   "metadata": {},
   "outputs": [],
   "source": [
    "nx.single_graph"
   ]
  },
  {
   "cell_type": "markdown",
   "id": "ac60be5f",
   "metadata": {},
   "source": [
    "#### Filter out edges"
   ]
  },
  {
   "cell_type": "code",
   "execution_count": 125,
   "id": "cf4de3ee",
   "metadata": {},
   "outputs": [
    {
     "name": "stdout",
     "output_type": "stream",
     "text": [
      "Graph named 'filtered_cmap_abssig_ccle_spearmanr_sol' with 348 nodes and 907 edges\n"
     ]
    },
    {
     "data": {
      "application/javascript": [
       "\n",
       "            setTimeout(function() {\n",
       "                var nbb_cell_id = 125;\n",
       "                var nbb_unformatted_code = \"alpha = 0.10\\n\\nccle_filtered_spearman_sol = filter_edges(\\n    spearman_sol, edge_attr=\\\"scgex_spearmanp\\\", threshold=alpha\\n)\\ncmap_filtered_spearman_sol = filter_edges(\\n    spearman_sol, edge_attr=\\\"cmap_spearmanp\\\", threshold=alpha\\n)\\n\\nspearman_sol = spearman_sol.edge_subgraph(\\n    set(ccle_filtered_spearman_sol.edges()).union(\\n        set(cmap_filtered_spearman_sol.edges())\\n    )\\n).copy()\\nspearman_sol.name = \\\"filtered_\\\" + spearman_sol.name\\nprint(spearman_sol)\";\n",
       "                var nbb_formatted_code = \"alpha = 0.10\\n\\nccle_filtered_spearman_sol = filter_edges(\\n    spearman_sol, edge_attr=\\\"scgex_spearmanp\\\", threshold=alpha\\n)\\ncmap_filtered_spearman_sol = filter_edges(\\n    spearman_sol, edge_attr=\\\"cmap_spearmanp\\\", threshold=alpha\\n)\\n\\nspearman_sol = spearman_sol.edge_subgraph(\\n    set(ccle_filtered_spearman_sol.edges()).union(\\n        set(cmap_filtered_spearman_sol.edges())\\n    )\\n).copy()\\nspearman_sol.name = \\\"filtered_\\\" + spearman_sol.name\\nprint(spearman_sol)\";\n",
       "                var nbb_cells = Jupyter.notebook.get_cells();\n",
       "                for (var i = 0; i < nbb_cells.length; ++i) {\n",
       "                    if (nbb_cells[i].input_prompt_number == nbb_cell_id) {\n",
       "                        if (nbb_cells[i].get_text() == nbb_unformatted_code) {\n",
       "                             nbb_cells[i].set_text(nbb_formatted_code);\n",
       "                        }\n",
       "                        break;\n",
       "                    }\n",
       "                }\n",
       "            }, 500);\n",
       "            "
      ],
      "text/plain": [
       "<IPython.core.display.Javascript object>"
      ]
     },
     "metadata": {},
     "output_type": "display_data"
    }
   ],
   "source": [
    "alpha = 0.10\n",
    "\n",
    "ccle_filtered_spearman_sol = filter_edges(\n",
    "    spearman_sol, edge_attr=\"scgex_spearmanp\", threshold=alpha\n",
    ")\n",
    "cmap_filtered_spearman_sol = filter_edges(\n",
    "    spearman_sol, edge_attr=\"cmap_spearmanp\", threshold=alpha\n",
    ")\n",
    "\n",
    "spearman_sol = spearman_sol.edge_subgraph(\n",
    "    set(ccle_filtered_spearman_sol.edges()).union(\n",
    "        set(cmap_filtered_spearman_sol.edges())\n",
    "    )\n",
    ").copy()\n",
    "spearman_sol.name = \"filtered_\" + spearman_sol.name\n",
    "print(spearman_sol)"
   ]
  },
  {
   "cell_type": "code",
   "execution_count": 140,
   "id": "1b53ad44",
   "metadata": {},
   "outputs": [
    {
     "data": {
      "text/plain": [
       "['BRAF', 'RAF1']"
      ]
     },
     "execution_count": 140,
     "metadata": {},
     "output_type": "execute_result"
    },
    {
     "data": {
      "application/javascript": [
       "\n",
       "            setTimeout(function() {\n",
       "                var nbb_cell_id = 140;\n",
       "                var nbb_unformatted_code = \"nx.shortest_path(spearman_sol, source=\\\"BRAF\\\", target=\\\"RAF1\\\", weight=\\\"mi_score\\\")\";\n",
       "                var nbb_formatted_code = \"nx.shortest_path(spearman_sol, source=\\\"BRAF\\\", target=\\\"RAF1\\\", weight=\\\"mi_score\\\")\";\n",
       "                var nbb_cells = Jupyter.notebook.get_cells();\n",
       "                for (var i = 0; i < nbb_cells.length; ++i) {\n",
       "                    if (nbb_cells[i].input_prompt_number == nbb_cell_id) {\n",
       "                        if (nbb_cells[i].get_text() == nbb_unformatted_code) {\n",
       "                             nbb_cells[i].set_text(nbb_formatted_code);\n",
       "                        }\n",
       "                        break;\n",
       "                    }\n",
       "                }\n",
       "            }, 500);\n",
       "            "
      ],
      "text/plain": [
       "<IPython.core.display.Javascript object>"
      ]
     },
     "metadata": {},
     "output_type": "display_data"
    }
   ],
   "source": [
    "nx.shortest_path(spearman_sol, source=\"BRAF\", target=\"RAF1\", weight=\"mi_score\")"
   ]
  },
  {
   "cell_type": "code",
   "execution_count": 141,
   "id": "6eca3e87",
   "metadata": {},
   "outputs": [
    {
     "data": {
      "text/plain": [
       "['BRAF', 'RAF1']"
      ]
     },
     "execution_count": 141,
     "metadata": {},
     "output_type": "execute_result"
    },
    {
     "data": {
      "application/javascript": [
       "\n",
       "            setTimeout(function() {\n",
       "                var nbb_cell_id = 141;\n",
       "                var nbb_unformatted_code = \"nx.shortest_path(spearman_sol, source=\\\"BRAF\\\", target=\\\"RAF1\\\", weight=\\\"scgex_spearmanr\\\")\";\n",
       "                var nbb_formatted_code = \"nx.shortest_path(spearman_sol, source=\\\"BRAF\\\", target=\\\"RAF1\\\", weight=\\\"scgex_spearmanr\\\")\";\n",
       "                var nbb_cells = Jupyter.notebook.get_cells();\n",
       "                for (var i = 0; i < nbb_cells.length; ++i) {\n",
       "                    if (nbb_cells[i].input_prompt_number == nbb_cell_id) {\n",
       "                        if (nbb_cells[i].get_text() == nbb_unformatted_code) {\n",
       "                             nbb_cells[i].set_text(nbb_formatted_code);\n",
       "                        }\n",
       "                        break;\n",
       "                    }\n",
       "                }\n",
       "            }, 500);\n",
       "            "
      ],
      "text/plain": [
       "<IPython.core.display.Javascript object>"
      ]
     },
     "metadata": {},
     "output_type": "display_data"
    }
   ],
   "source": [
    "nx.shortest_path(spearman_sol, source=\"BRAF\", target=\"RAF1\", weight=\"scgex_spearmanr\")"
   ]
  },
  {
   "cell_type": "code",
   "execution_count": 133,
   "id": "b8cbed77",
   "metadata": {},
   "outputs": [
    {
     "data": {
      "text/plain": [
       "['CEBPA',\n",
       " 'ATF4',\n",
       " 'CDKN1A',\n",
       " 'MAPK8',\n",
       " 'CEBPG',\n",
       " 'RB1',\n",
       " 'SMAD3',\n",
       " 'SMAD4',\n",
       " 'ATF3',\n",
       " 'C1QBP',\n",
       " 'SKP2',\n",
       " 'UBE3A']"
      ]
     },
     "execution_count": 133,
     "metadata": {},
     "output_type": "execute_result"
    },
    {
     "data": {
      "application/javascript": [
       "\n",
       "            setTimeout(function() {\n",
       "                var nbb_cell_id = 133;\n",
       "                var nbb_unformatted_code = \"list(nx.single_source_shortest_path_length(spearman_sol, \\\"CEBPA\\\", cutoff=1).keys())\";\n",
       "                var nbb_formatted_code = \"list(nx.single_source_shortest_path_length(spearman_sol, \\\"CEBPA\\\", cutoff=1).keys())\";\n",
       "                var nbb_cells = Jupyter.notebook.get_cells();\n",
       "                for (var i = 0; i < nbb_cells.length; ++i) {\n",
       "                    if (nbb_cells[i].input_prompt_number == nbb_cell_id) {\n",
       "                        if (nbb_cells[i].get_text() == nbb_unformatted_code) {\n",
       "                             nbb_cells[i].set_text(nbb_formatted_code);\n",
       "                        }\n",
       "                        break;\n",
       "                    }\n",
       "                }\n",
       "            }, 500);\n",
       "            "
      ],
      "text/plain": [
       "<IPython.core.display.Javascript object>"
      ]
     },
     "metadata": {},
     "output_type": "display_data"
    }
   ],
   "source": [
    "list(nx.single_source_shortest_path_length(spearman_sol, \"CEBPA\", cutoff=1).keys())"
   ]
  },
  {
   "cell_type": "code",
   "execution_count": 136,
   "id": "87147312",
   "metadata": {},
   "outputs": [
    {
     "data": {
      "text/plain": [
       "EdgeDataView([('JUN', 'CSNK2B', {'mi_score': 0.561127, 'cmap_pearsonr': 0.8776612576720393, 'cmap_spearmanr': 0.9374001051097421, 'scgex_pearsonr': 0.9328137193749649, 'scgex_spearmanr': 0.962848508521728, 'cmap_pearsonp': 0.09442076902907325, 'cmap_spearmanp': 0.393415656593353, 'scgex_pearsonp': 0.024162127133390984, 'scgex_spearmanp': 0.21287528757848065}), ('JUN', 'CEBPG', {'mi_score': 0.561127, 'cmap_pearsonr': 0.9682542009198771, 'cmap_spearmanr': 0.9802530852296796, 'scgex_pearsonr': 0.9198565054335005, 'scgex_spearmanr': 0.995708520853769, 'cmap_pearsonp': 0.6653907790868611, 'cmap_spearmanp': 0.7879477559975302, 'scgex_pearsonp': 0.007131704845700913, 'scgex_spearmanp': 0.8856226594274255}), ('JUN', 'ERG', {'mi_score': 0.561127, 'cmap_pearsonr': 0.911378456276019, 'cmap_spearmanr': 0.8754792697220732, 'scgex_pearsonr': 0.9705465248647913, 'scgex_spearmanr': 0.9646903326702454, 'cmap_pearsonp': 0.22651135406890086, 'cmap_spearmanp': 0.08864515608113704, 'scgex_pearsonp': 0.32341961126229596, 'scgex_spearmanp': 0.23645198944713647}), ('JUN', 'GATA2', {'mi_score': 0.561127, 'cmap_pearsonr': 0.8035672418241868, 'cmap_spearmanr': 0.7843968019187043, 'scgex_pearsonr': 0.9946692272062432, 'scgex_spearmanr': 0.9962059380221091, 'cmap_pearsonp': 0.00689733067088086, 'cmap_spearmanp': 0.002963348779992631, 'scgex_pearsonp': 0.8581877224577515, 'scgex_spearmanp': 0.8988040245592267}), ('JUN', 'ETS1', {'mi_score': 0.376967, 'cmap_pearsonr': 0.9694649812479107, 'cmap_spearmanr': 0.9608258519397443, 'scgex_pearsonr': 0.94511302731778, 'scgex_spearmanr': 0.9947343424301254, 'cmap_pearsonp': 0.6774247757786903, 'cmap_spearmanp': 0.5935134749502148, 'scgex_pearsonp': 0.06560319022798751, 'scgex_spearmanp': 0.8599019551113537}), ('JUN', 'MAPK8', {'mi_score': 0.0050492, 'cmap_pearsonr': 0.8487198750498977, 'cmap_spearmanr': 0.9267012728307825, 'scgex_pearsonr': 0.9360598740127153, 'scgex_spearmanr': 0.8988726005643725, 'cmap_pearsonp': 0.03823216806945724, 'cmap_spearmanp': 0.3174731025718404, 'scgex_pearsonp': 0.03192228081637055, 'scgex_spearmanp': 0.0006778879449527851}), ('JUN', 'RB1', {'mi_score': 0.261191, 'cmap_pearsonr': 0.8702649413662633, 'cmap_spearmanr': 0.9029829855862397, 'scgex_pearsonr': 0.997068883998302, 'scgex_spearmanr': 0.9738572027252534, 'cmap_pearsonp': 0.0759836613267858, 'cmap_spearmanp': 0.18534199460554215, 'scgex_pearsonp': 0.9217359465821542, 'scgex_spearmanp': 0.3808011286019217}), ('JUN', 'HSPA8', {'mi_score': 0.561127, 'cmap_pearsonr': 0.9071217062236354, 'cmap_spearmanr': 0.9681419381404053, 'scgex_pearsonr': 0.9192641053140603, 'scgex_spearmanr': 0.8986354172931842, 'cmap_pearsonp': 0.20489375125690923, 'cmap_spearmanp': 0.6642792546315088, 'scgex_pearsonp': 0.006716477311384131, 'scgex_spearmanp': 0.000658301777653599}), ('JUN', 'ATF3', {'mi_score': 0.155477, 'cmap_pearsonr': 0.7337329506110393, 'cmap_spearmanr': 0.7389901157110169, 'scgex_pearsonr': 0.7504703920229213, 'scgex_spearmanr': 0.7586272616177564, 'cmap_pearsonp': 0.00022125588927096476, 'cmap_spearmanp': 0.0002970770752374624, 'scgex_pearsonp': 1.917502040573283e-17, 'scgex_spearmanp': 2.171557012151516e-16}), ('JUN', 'SKI', {'mi_score': 0.571676, 'cmap_pearsonr': 0.9530905825444975, 'cmap_spearmanr': 0.9613784907902555, 'scgex_pearsonr': 0.9868567881112814, 'scgex_spearmanr': 0.987394058770612, 'cmap_pearsonp': 0.5226590736766167, 'cmap_spearmanp': 0.5987380864963562, 'scgex_pearsonp': 0.6595302704828823, 'scgex_spearmanp': 0.6726229119863874}), ('JUN', 'SMAD3', {'mi_score': 0.123965, 'cmap_pearsonr': 0.8715833874056458, 'cmap_spearmanr': 0.8950148724867123, 'scgex_pearsonr': 0.9260398239904212, 'scgex_spearmanr': 0.8646354522214427, 'cmap_pearsonp': 0.07903791519703118, 'cmap_spearmanp': 0.15161548458068752, 'scgex_pearsonp': 0.01304838487735571, 'scgex_spearmanp': 5.158594976614451e-06}), ('JUN', 'RUNX1', {'mi_score': 0.323872, 'cmap_pearsonr': 0.8686216876194471, 'cmap_spearmanr': 0.8586364268466897, 'scgex_pearsonr': 0.9464323213325687, 'scgex_spearmanr': 0.9763824999743728, 'cmap_pearsonp': 0.07231143257282463, 'cmap_spearmanp': 0.05298031315064846, 'scgex_pearsonp': 0.07236632796292332, 'scgex_spearmanp': 0.4285139129749749}), ('JUN', 'RELA', {'mi_score': 0.594442, 'cmap_pearsonr': 0.8801779315167926, 'cmap_spearmanr': 0.8721182863861212, 'scgex_pearsonr': 0.9804651895378823, 'scgex_spearmanr': 0.9550889358698338, 'cmap_pearsonp': 0.10144954798560962, 'cmap_spearmanp': 0.08030494920094944, 'scgex_pearsonp': 0.5125688281221329, 'scgex_spearmanp': 0.13203679532237547}), ('JUN', 'NCOA1', {'mi_score': 0.24053, 'cmap_pearsonr': 0.9518904679469969, 'cmap_spearmanr': 0.9422185379632189, 'scgex_pearsonr': 0.9480054171966596, 'scgex_spearmanr': 0.9348884255112093, 'cmap_pearsonp': 0.5120654114824534, 'cmap_spearmanp': 0.430910842289405, 'scgex_pearsonp': 0.08116465537276071, 'scgex_spearmanp': 0.02890564733617082}), ('JUN', 'MACF1', {'mi_score': 0.594442, 'cmap_pearsonr': 0.789511085832004, 'cmap_spearmanr': 0.8323210651120538, 'scgex_pearsonr': 0.9885431080170335, 'scgex_spearmanr': 0.9995767008224321, 'cmap_pearsonp': 0.0037389584737103436, 'cmap_spearmanp': 0.02144406014931055, 'scgex_pearsonp': 0.700954587455231, 'scgex_spearmanp': 0.9886796593882841}), ('JUN', 'HSP90AA1', {'mi_score': 0.393241, 'cmap_pearsonr': 0.9292722179823633, 'cmap_spearmanr': 0.9851672454926522, 'scgex_pearsonr': 0.9945403739927544, 'scgex_spearmanr': 0.9558866814103483, 'cmap_pearsonp': 0.334789673027195, 'cmap_spearmanp': 0.8398923288055411, 'scgex_pearsonp': 0.8547974894103237, 'scgex_spearmanp': 0.13904968586598312}), ('JUN', 'ATF4', {'mi_score': 0.1715, 'cmap_pearsonr': 0.8018221019313879, 'cmap_spearmanr': 0.832345370541339, 'scgex_pearsonr': 0.9488499825487603, 'scgex_spearmanr': 0.9014133407405939, 'cmap_pearsonp': 0.006405860167482656, 'cmap_spearmanp': 0.021463224856168715, 'scgex_pearsonp': 0.08623476946276507, 'scgex_spearmanp': 0.0009244478960275734}), ('JUN', 'COPS6', {'mi_score': 0.561127, 'cmap_pearsonr': 0.9300307678164207, 'cmap_spearmanr': 0.9688102191231103, 'scgex_pearsonr': 0.9592563637179302, 'scgex_spearmanr': 0.9867937407661188, 'cmap_pearsonp': 0.34001209047116665, 'cmap_spearmanp': 0.6709066864948461, 'scgex_pearsonp': 0.17186391779500967, 'scgex_spearmanp': 0.6580005913518099}), ('JUN', 'STAT1', {'mi_score': 0.585069, 'cmap_pearsonr': 0.9931547378903501, 'cmap_spearmanr': 0.9685013915301776, 'scgex_pearsonr': 0.8741951401878612, 'scgex_spearmanr': 0.8767644340702558, 'cmap_pearsonp': 0.9257187552746181, 'cmap_spearmanp': 0.6678408066835957, 'scgex_pearsonp': 2.2993891453206126e-05, 'scgex_spearmanp': 3.3758892544492055e-05}), ('JUN', 'DDIT3', {'mi_score': 0.318993, 'cmap_pearsonr': 0.913283118625547, 'cmap_spearmanr': 0.9365133545358827, 'scgex_pearsonr': 0.8921965994281192, 'scgex_spearmanr': 0.8903971725859348, 'cmap_pearsonp': 0.23668927561267455, 'cmap_spearmanp': 0.3867353332622123, 'scgex_pearsonp': 0.0002900921402973928, 'scgex_spearmanp': 0.00022884157648609988}), ('JUN', 'TRAF2', {'mi_score': 0.561127, 'cmap_pearsonr': 0.91253047641158, 'cmap_spearmanr': 0.9612340100450238, 'scgex_pearsonr': 0.9988405457086863, 'scgex_spearmanr': 0.9673480672531436, 'cmap_pearsonp': 0.2326297203769877, 'cmap_spearmanp': 0.5973701784992724, 'scgex_pearsonp': 0.9689993295008296, 'scgex_spearmanp': 0.2736302475736224})])"
      ]
     },
     "execution_count": 136,
     "metadata": {},
     "output_type": "execute_result"
    },
    {
     "data": {
      "application/javascript": [
       "\n",
       "            setTimeout(function() {\n",
       "                var nbb_cell_id = 136;\n",
       "                var nbb_unformatted_code = \"spearman_sol.edges(\\\"JUN\\\", data=True)\";\n",
       "                var nbb_formatted_code = \"spearman_sol.edges(\\\"JUN\\\", data=True)\";\n",
       "                var nbb_cells = Jupyter.notebook.get_cells();\n",
       "                for (var i = 0; i < nbb_cells.length; ++i) {\n",
       "                    if (nbb_cells[i].input_prompt_number == nbb_cell_id) {\n",
       "                        if (nbb_cells[i].get_text() == nbb_unformatted_code) {\n",
       "                             nbb_cells[i].set_text(nbb_formatted_code);\n",
       "                        }\n",
       "                        break;\n",
       "                    }\n",
       "                }\n",
       "            }, 500);\n",
       "            "
      ],
      "text/plain": [
       "<IPython.core.display.Javascript object>"
      ]
     },
     "metadata": {},
     "output_type": "display_data"
    }
   ],
   "source": [
    "spearman_sol.edges(\"JUN\", data=True)"
   ]
  },
  {
   "cell_type": "markdown",
   "id": "d5a38ea1",
   "metadata": {},
   "source": [
    "The selected network consists of 386 nodes with an average degree of 6.58 stemming from 1'270 edges. It is much sparser compared to the solution obtained by using the MIscore edge weights."
   ]
  },
  {
   "cell_type": "markdown",
   "id": "95bda755",
   "metadata": {},
   "source": [
    "---\n",
    "\n",
    "### 2.3 Comparison of the MIscore and Spearman edge cost solutions\n",
    "\n",
    "To compare the solutions with the ones obtained previously for the MINT score based edge weights, we will look at the IoU of the nodes set of those two for the different choices of $\\beta$."
   ]
  },
  {
   "cell_type": "code",
   "execution_count": 31,
   "id": "e0166008",
   "metadata": {
    "scrolled": false
   },
   "outputs": [
    {
     "name": "stderr",
     "output_type": "stream",
     "text": [
      "100%|██████████| 99/99 [01:12<00:00,  1.37it/s]\n"
     ]
    },
    {
     "data": {
      "image/png": "[encoded data removed]",
      "text/plain": [
       "<Figure size 864x576 with 2 Axes>"
      ]
     },
     "metadata": {
      "needs_background": "light"
     },
     "output_type": "display_data"
    },
    {
     "data": {
      "application/javascript": [
       "\n",
       "            setTimeout(function() {\n",
       "                var nbb_cell_id = 31;\n",
       "                var nbb_unformatted_code = \"fig, ax, mis_spearman_node_ious = plot_solution_node_ious(\\n    augmented_pcst_mis_dict,\\n    augmented_pcst_spearman_dict,\\n    xlabel=\\\"Networks Spearman (10beta)\\\",\\n    ylabel=\\\"Networks MIscore (10beta)\\\",\\n)\\nplt.show()\";\n",
       "                var nbb_formatted_code = \"fig, ax, mis_spearman_node_ious = plot_solution_node_ious(\\n    augmented_pcst_mis_dict,\\n    augmented_pcst_spearman_dict,\\n    xlabel=\\\"Networks Spearman (10beta)\\\",\\n    ylabel=\\\"Networks MIscore (10beta)\\\",\\n)\\nplt.show()\";\n",
       "                var nbb_cells = Jupyter.notebook.get_cells();\n",
       "                for (var i = 0; i < nbb_cells.length; ++i) {\n",
       "                    if (nbb_cells[i].input_prompt_number == nbb_cell_id) {\n",
       "                        if (nbb_cells[i].get_text() == nbb_unformatted_code) {\n",
       "                             nbb_cells[i].set_text(nbb_formatted_code);\n",
       "                        }\n",
       "                        break;\n",
       "                    }\n",
       "                }\n",
       "            }, 500);\n",
       "            "
      ],
      "text/plain": [
       "<IPython.core.display.Javascript object>"
      ]
     },
     "metadata": {},
     "output_type": "display_data"
    }
   ],
   "source": [
    "fig, ax, mis_spearman_node_ious = plot_solution_node_ious(\n",
    "    augmented_pcst_mis_dict,\n",
    "    augmented_pcst_spearman_dict,\n",
    "    xlabel=\"Networks Spearman (10beta)\",\n",
    "    ylabel=\"Networks MIscore (10beta)\",\n",
    ")\n",
    "plt.show()"
   ]
  },
  {
   "cell_type": "markdown",
   "id": "a39e6f51",
   "metadata": {},
   "source": [
    "As seen in the above plot the IoU remains relatively low for moderate choices of $\\beta$ values."
   ]
  },
  {
   "cell_type": "code",
   "execution_count": 32,
   "id": "2cfed829",
   "metadata": {},
   "outputs": [
    {
     "data": {
      "image/png": "[encoded data removed]",
      "text/plain": [
       "<Figure size 1152x288 with 2 Axes>"
      ]
     },
     "metadata": {
      "needs_background": "light"
     },
     "output_type": "display_data"
    },
    {
     "data": {
      "application/javascript": [
       "\n",
       "            setTimeout(function() {\n",
       "                var nbb_cell_id = 32;\n",
       "                var nbb_unformatted_code = \"fig, ax = plt.subplots(ncols=2, figsize=[16, 4])\\nax = ax.flatten()\\nax[0].plot(np.arange(0.05, 5, 0.05), np.max(mis_spearman_node_ious, axis=1))\\nax[0].set_xlabel(\\\"beta\\\")\\nax[0].set_ylabel(\\\"Max IoU\\\")\\nax[0].set_title(\\\"Max. IoU of MIscore cost networks with Spearman cost networks\\\")\\nax[1].plot(np.arange(0.1, 10, 0.1), np.max(mis_spearman_node_ious, axis=0))\\nax[1].set_xlabel(\\\"beta\\\")\\nax[1].set_ylabel(\\\"Max IoU\\\")\\nax[1].set_title(\\\"Max. IoU of Spearman cost networks with MIscore cost networks\\\")\\nplt.show()\";\n",
       "                var nbb_formatted_code = \"fig, ax = plt.subplots(ncols=2, figsize=[16, 4])\\nax = ax.flatten()\\nax[0].plot(np.arange(0.05, 5, 0.05), np.max(mis_spearman_node_ious, axis=1))\\nax[0].set_xlabel(\\\"beta\\\")\\nax[0].set_ylabel(\\\"Max IoU\\\")\\nax[0].set_title(\\\"Max. IoU of MIscore cost networks with Spearman cost networks\\\")\\nax[1].plot(np.arange(0.1, 10, 0.1), np.max(mis_spearman_node_ious, axis=0))\\nax[1].set_xlabel(\\\"beta\\\")\\nax[1].set_ylabel(\\\"Max IoU\\\")\\nax[1].set_title(\\\"Max. IoU of Spearman cost networks with MIscore cost networks\\\")\\nplt.show()\";\n",
       "                var nbb_cells = Jupyter.notebook.get_cells();\n",
       "                for (var i = 0; i < nbb_cells.length; ++i) {\n",
       "                    if (nbb_cells[i].input_prompt_number == nbb_cell_id) {\n",
       "                        if (nbb_cells[i].get_text() == nbb_unformatted_code) {\n",
       "                             nbb_cells[i].set_text(nbb_formatted_code);\n",
       "                        }\n",
       "                        break;\n",
       "                    }\n",
       "                }\n",
       "            }, 500);\n",
       "            "
      ],
      "text/plain": [
       "<IPython.core.display.Javascript object>"
      ]
     },
     "metadata": {},
     "output_type": "display_data"
    }
   ],
   "source": [
    "fig, ax = plt.subplots(ncols=2, figsize=[16, 4])\n",
    "ax = ax.flatten()\n",
    "ax[0].plot(np.arange(0.05, 5, 0.05), np.max(mis_spearman_node_ious, axis=1))\n",
    "ax[0].set_xlabel(\"beta\")\n",
    "ax[0].set_ylabel(\"Max IoU\")\n",
    "ax[0].set_title(\"Max. IoU of MIscore cost networks with Spearman cost networks\")\n",
    "ax[1].plot(np.arange(0.1, 10, 0.1), np.max(mis_spearman_node_ious, axis=0))\n",
    "ax[1].set_xlabel(\"beta\")\n",
    "ax[1].set_ylabel(\"Max IoU\")\n",
    "ax[1].set_title(\"Max. IoU of Spearman cost networks with MIscore cost networks\")\n",
    "plt.show()"
   ]
  },
  {
   "cell_type": "markdown",
   "id": "0435c9b1",
   "metadata": {},
   "source": [
    "The plots above also indicate that for choices of $\\beta \\leq (2.1, 5.9)$ the IoU of the node sets is upper bounded by 0.5."
   ]
  },
  {
   "cell_type": "markdown",
   "id": "aec639b6",
   "metadata": {},
   "source": [
    "This shows, that the PCST solutions for moderate choices of $\\beta$ are quite different. Thus, we will consider both solutions in our further anlayses, i.e. the networks obtained for a choice of $\\beta=0.6$ for the MIscore edge cost network and $\\beta=2.6$ for the Spearman correlation edge cost network."
   ]
  },
  {
   "cell_type": "markdown",
   "id": "23c5596c",
   "metadata": {},
   "source": [
    "---\n",
    "\n",
    "## 3. Output U2OS interactome candidate"
   ]
  },
  {
   "cell_type": "markdown",
   "id": "88964a64",
   "metadata": {},
   "source": [
    "Based on our previous analyses, we select our four interactome candidates.\n",
    "\n",
    "The first network is the one that we obtained by that we obtained for $\\beta=0.6$ by running the PCST using the ``conf_hub_ppi`` as the input graph with the prizes being the min-max scaled absolute log fold-changes from the marker screen based on the CCLE data set and the edge weights being given by the $1-m(e)$ where $m(e)$ is the MINT-inspired score for the interaction of the nodes connected by edge $e$.\n",
    "\n",
    "The second network is the one that we obtained for the same setup but selecting $\\beta=1.2$ to further outgrow the network.\n",
    "\n",
    "The third and forth network are obtained by a similar setup but the edge weights are here given by $1-m(e)$ where $(e)$ is the absolute Spearman correlation of the scRNAseq data between the two genes."
   ]
  },
  {
   "cell_type": "code",
   "execution_count": 33,
   "id": "d1184cbf",
   "metadata": {},
   "outputs": [
    {
     "name": "stdout",
     "output_type": "stream",
     "text": [
      "Graph named 'cmap_abssig_mis_sol' with 792 nodes and 6150 edges\n",
      "\n",
      "Graph named 'cmap_abssig_ccle_spearmanr_sol' with 357 nodes and 1138 edges\n"
     ]
    },
    {
     "name": "stderr",
     "output_type": "stream",
     "text": [
      "<ipython-input-33-63ab7b6a457c>:1: DeprecationWarning: info is deprecated and will be removed in version 3.0.\n",
      "\n",
      "  print(nx.info(mis_sol))\n",
      "<ipython-input-33-63ab7b6a457c>:4: DeprecationWarning: info is deprecated and will be removed in version 3.0.\n",
      "\n",
      "  print(nx.info(spearman_sol))\n"
     ]
    },
    {
     "data": {
      "application/javascript": [
       "\n",
       "            setTimeout(function() {\n",
       "                var nbb_cell_id = 33;\n",
       "                var nbb_unformatted_code = \"print(nx.info(mis_sol))\\n\\nprint(\\\"\\\")\\nprint(nx.info(spearman_sol))\";\n",
       "                var nbb_formatted_code = \"print(nx.info(mis_sol))\\n\\nprint(\\\"\\\")\\nprint(nx.info(spearman_sol))\";\n",
       "                var nbb_cells = Jupyter.notebook.get_cells();\n",
       "                for (var i = 0; i < nbb_cells.length; ++i) {\n",
       "                    if (nbb_cells[i].input_prompt_number == nbb_cell_id) {\n",
       "                        if (nbb_cells[i].get_text() == nbb_unformatted_code) {\n",
       "                             nbb_cells[i].set_text(nbb_formatted_code);\n",
       "                        }\n",
       "                        break;\n",
       "                    }\n",
       "                }\n",
       "            }, 500);\n",
       "            "
      ],
      "text/plain": [
       "<IPython.core.display.Javascript object>"
      ]
     },
     "metadata": {},
     "output_type": "display_data"
    }
   ],
   "source": [
    "print(nx.info(mis_sol))\n",
    "\n",
    "print(\"\")\n",
    "print(nx.info(spearman_sol))"
   ]
  },
  {
   "cell_type": "code",
   "execution_count": 34,
   "id": "7e69c5f8",
   "metadata": {},
   "outputs": [
    {
     "data": {
      "application/javascript": [
       "\n",
       "            setTimeout(function() {\n",
       "                var nbb_cell_id = 34;\n",
       "                var nbb_unformatted_code = \"output_dir = \\\"../../../data/ppi/inference_results/\\\"\\nos.makedirs(output_dir, exist_ok=True)\\nnx.write_graphml(\\n    mis_sol,\\n    os.path.join(output_dir, \\\"{}_cv.graphml\\\".format(mis_sol.name)),\\n)\\nnx.write_gpickle(\\n    mis_sol,\\n    os.path.join(output_dir, \\\"{}_cv.pkl\\\".format(mis_sol.name)),\\n)\";\n",
       "                var nbb_formatted_code = \"output_dir = \\\"../../../data/ppi/inference_results/\\\"\\nos.makedirs(output_dir, exist_ok=True)\\nnx.write_graphml(\\n    mis_sol,\\n    os.path.join(output_dir, \\\"{}_cv.graphml\\\".format(mis_sol.name)),\\n)\\nnx.write_gpickle(\\n    mis_sol,\\n    os.path.join(output_dir, \\\"{}_cv.pkl\\\".format(mis_sol.name)),\\n)\";\n",
       "                var nbb_cells = Jupyter.notebook.get_cells();\n",
       "                for (var i = 0; i < nbb_cells.length; ++i) {\n",
       "                    if (nbb_cells[i].input_prompt_number == nbb_cell_id) {\n",
       "                        if (nbb_cells[i].get_text() == nbb_unformatted_code) {\n",
       "                             nbb_cells[i].set_text(nbb_formatted_code);\n",
       "                        }\n",
       "                        break;\n",
       "                    }\n",
       "                }\n",
       "            }, 500);\n",
       "            "
      ],
      "text/plain": [
       "<IPython.core.display.Javascript object>"
      ]
     },
     "metadata": {},
     "output_type": "display_data"
    }
   ],
   "source": [
    "output_dir = \"../../../data/ppi/inference_results/\"\n",
    "os.makedirs(output_dir, exist_ok=True)\n",
    "nx.write_graphml(\n",
    "    mis_sol,\n",
    "    os.path.join(output_dir, \"{}_cv.graphml\".format(mis_sol.name)),\n",
    ")\n",
    "nx.write_gpickle(\n",
    "    mis_sol,\n",
    "    os.path.join(output_dir, \"{}_cv.pkl\".format(mis_sol.name)),\n",
    ")"
   ]
  },
  {
   "cell_type": "code",
   "execution_count": 88,
   "id": "72147999",
   "metadata": {},
   "outputs": [
    {
     "data": {
      "application/javascript": [
       "\n",
       "            setTimeout(function() {\n",
       "                var nbb_cell_id = 88;\n",
       "                var nbb_unformatted_code = \"nx.write_graphml(\\n    spearman_sol,\\n    os.path.join(output_dir, \\\"{}_cv.graphml\\\".format(spearman_sol.name)),\\n)\\nnx.write_gpickle(\\n    spearman_sol,\\n    os.path.join(output_dir, \\\"{}_cv.pkl\\\".format(spearman_sol.name)),\\n)\";\n",
       "                var nbb_formatted_code = \"nx.write_graphml(\\n    spearman_sol,\\n    os.path.join(output_dir, \\\"{}_cv.graphml\\\".format(spearman_sol.name)),\\n)\\nnx.write_gpickle(\\n    spearman_sol,\\n    os.path.join(output_dir, \\\"{}_cv.pkl\\\".format(spearman_sol.name)),\\n)\";\n",
       "                var nbb_cells = Jupyter.notebook.get_cells();\n",
       "                for (var i = 0; i < nbb_cells.length; ++i) {\n",
       "                    if (nbb_cells[i].input_prompt_number == nbb_cell_id) {\n",
       "                        if (nbb_cells[i].get_text() == nbb_unformatted_code) {\n",
       "                             nbb_cells[i].set_text(nbb_formatted_code);\n",
       "                        }\n",
       "                        break;\n",
       "                    }\n",
       "                }\n",
       "            }, 500);\n",
       "            "
      ],
      "text/plain": [
       "<IPython.core.display.Javascript object>"
      ]
     },
     "metadata": {},
     "output_type": "display_data"
    }
   ],
   "source": [
    "nx.write_graphml(\n",
    "    spearman_sol,\n",
    "    os.path.join(output_dir, \"{}_cv.graphml\".format(spearman_sol.name)),\n",
    ")\n",
    "nx.write_gpickle(\n",
    "    spearman_sol,\n",
    "    os.path.join(output_dir, \"{}_cv.pkl\".format(spearman_sol.name)),\n",
    ")"
   ]
  },
  {
   "cell_type": "code",
   "execution_count": 36,
   "id": "e59f5f9b",
   "metadata": {},
   "outputs": [
    {
     "name": "stdout",
     "output_type": "stream",
     "text": [
      "['ABCC5', 'ABL2', 'ADAM10', 'ADGRG1', 'ADRB2', 'ADRM1', 'AGR2', 'AHSA1', 'AKT1', 'ALDOC', 'AMDHD2', 'APEX2', 'ARHGDIA', 'ARHGEF2', 'ASAH1', 'ATAD2', 'ATAD5', 'ATF3', 'ATF4', 'AURKA', 'AURKB', 'AXIN1', 'BAG2', 'BAX', 'BCL2', 'BCL2L11', 'BIRC5', 'BORA', 'BRAF', 'BUB1', 'BUB1B', 'BUB3', 'C1QBP', 'CALR', 'CAPN1', 'CASP8', 'CCNA2', 'CCNB1', 'CCNB2', 'CCND1', 'CCND3', 'CCNE1', 'CCP110', 'CCT2', 'CDC20', 'CDC25A', 'CDC42', 'CDC42EP1', 'CDC45', 'CDC6', 'CDCA3', 'CDCA8', 'CDK1', 'CDK19', 'CDKN1A', 'CEBPA', 'CEBPG', 'CENPA', 'CENPE', 'CFLAR', 'CHAF1A', 'CHEK1', 'CHEK2', 'CKS1B', 'CKS2', 'CLIC2', 'CLSPN', 'CNBP', 'COPS6', 'CREB1', 'CREG1', 'CRMP1', 'CSAD', 'CSNK1A1', 'CSNK2B', 'CYLD', 'DDIT3', 'DDIT4', 'DEF6', 'DIABLO', 'DKC1', 'DNAJA1', 'DSG2', 'DSN1', 'DTL', 'DUSP4', 'DYRK3', 'E2F1', 'E2F2', 'EAPP', 'EBNA1BP2', 'ECT2', 'EEF1A1', 'EIF3E', 'EIF6', 'ELK1', 'EPHB2', 'ERG', 'ESPL1', 'ETS1', 'EVL', 'EXO1', 'EXOSC4', 'EXOSC5', 'EZR', 'FANCA', 'FANCG', 'FAS', 'FBL', 'FBXO11', 'FBXO5', 'FEN1', 'FGFR3', 'FHL2', 'FHL3', 'FOXM1', 'FOXO1', 'FOXO3', 'FOXO4', 'FTH1', 'FTL', 'FYN', 'FZR1', 'GATA2', 'GATA3', 'GCC1', 'GINS3', 'GLI1', 'GRB10', 'GRN', 'GTPBP4', 'GTSE1', 'HADH', 'HDAC5', 'HES1', 'HJURP', 'HMMR', 'HMOX1', 'HNF4A', 'HNRNPD', 'HNRNPU', 'HOXA5', 'HRAS', 'HSP90AA1', 'HSP90AB1', 'HSPA4', 'HSPA8', 'ICAM1', 'ICMT', 'IL16', 'IRAK1', 'IRAK4', 'JUN', 'JUP', 'KCNJ2', 'KCTD13', 'KIF11', 'KIF2C', 'KIF4A', 'KIF5C', 'KLHL20', 'KLHL21', 'KRT18', 'LAGE3', 'LMNA', 'LMO2', 'LRP1', 'LYN', 'MACF1', 'MAD2L1', 'MAF', 'MAP2K3', 'MAP2K5', 'MAP3K2', 'MAP3K5', 'MAP3K9', 'MAPK7', 'MAPK8', 'MARK2', 'MAST2', 'MBD1', 'MCC', 'MCM2', 'MCM3', 'MCM4', 'MCM5', 'MCM6', 'MCM7', 'MDK', 'MDM4', 'MED12', 'MED7', 'MEF2C', 'MKI67', 'MPP1', 'MSH2', 'MUC1', 'MYB', 'MYBL2', 'MYC', 'MYCBP', 'MYCBP2', 'MYD88', 'MYLK', 'NCAPG', 'NCAPH', 'NCL', 'NCOA1', 'NCOA3', 'NDC80', 'NEDD4L', 'NEK2', 'NF2', 'NFATC3', 'NFIL3', 'NFKB2', 'NFKBIA', 'NFKBIB', 'NOP56', 'NOS3', 'NPDC1', 'NPM1', 'NTRK2', 'OSGEP', 'PA2G4', 'PAK1', 'PASK', 'PCNA', 'PDIA3', 'PDIA4', 'PFKL', 'PHB2', 'PIH1D1', 'PIK3R2', 'PIK3R3', 'PLK1', 'PLSCR1', 'PLSCR3', 'PMAIP1', 'PPARD', 'PRC1', 'PRKACA', 'PRKCD', 'PRKCE', 'PROX1', 'PSMD2', 'PTCH1', 'PTTG1', 'RAB11FIP2', 'RAB27A', 'RABAC1', 'RAC2', 'RACGAP1', 'RAD1', 'RAD17', 'RAD21', 'RAF1', 'RASSF1', 'RB1', 'RBBP4', 'RBL1', 'RELA', 'RELB', 'RFC4', 'RFC5', 'RGS2', 'RHEB', 'RHOA', 'RPA2', 'RPL13', 'RPL19', 'RPL23A', 'RPL7A', 'RPLP0', 'RPLP1', 'RPLP2', 'RPS10', 'RPS11', 'RPS14', 'RPS15A', 'RPS16', 'RPS19', 'RPS20', 'RPS21', 'RPS24', 'RPS25', 'RPS28', 'RPS3', 'RPS5', 'RPS7', 'RRM2', 'RUNX1', 'RUVBL1', 'SCP2', 'SELENBP1', 'SETDB1', 'SFN', 'SIRT3', 'SKA1', 'SKI', 'SKIL', 'SKIV2L', 'SKP2', 'SMAD3', 'SMAD4', 'SMC2', 'SMC4', 'SMO', 'SNCA', 'SNRPB', 'SNRPE', 'SNRPG', 'SPC25', 'SPP1', 'SQSTM1', 'SRC', 'SREBF1', 'STAT1', 'STIP1', 'SUV39H1', 'TACC3', 'TCTA', 'TERF1', 'TGFBR2', 'TK1', 'TLR4', 'TLX1', 'TONSL', 'TPT1', 'TPX2', 'TRAF2', 'TRAK2', 'TRIP13', 'TSC2', 'TSC22D4', 'TTF2', 'TTK', 'TXNIP', 'UBA52', 'UBE2C', 'UBE2L6', 'UBE2S', 'UBE3A', 'USP1', 'USP7', 'VAV3', 'VPS28', 'WDR77', 'WEE1', 'WWTR1', 'YWHAB', 'YWHAH', 'YWHAZ', 'ZFP36', 'ZMIZ1', 'ZW10', 'ZWINT']\n"
     ]
    },
    {
     "data": {
      "application/javascript": [
       "\n",
       "            setTimeout(function() {\n",
       "                var nbb_cell_id = 36;\n",
       "                var nbb_unformatted_code = \"print(sorted(list(spearman_sol.nodes())))\";\n",
       "                var nbb_formatted_code = \"print(sorted(list(spearman_sol.nodes())))\";\n",
       "                var nbb_cells = Jupyter.notebook.get_cells();\n",
       "                for (var i = 0; i < nbb_cells.length; ++i) {\n",
       "                    if (nbb_cells[i].input_prompt_number == nbb_cell_id) {\n",
       "                        if (nbb_cells[i].get_text() == nbb_unformatted_code) {\n",
       "                             nbb_cells[i].set_text(nbb_formatted_code);\n",
       "                        }\n",
       "                        break;\n",
       "                    }\n",
       "                }\n",
       "            }, 500);\n",
       "            "
      ],
      "text/plain": [
       "<IPython.core.display.Javascript object>"
      ]
     },
     "metadata": {},
     "output_type": "display_data"
    }
   ],
   "source": [
    "print(sorted(list(spearman_sol.nodes())))"
   ]
  },
  {
   "cell_type": "code",
   "execution_count": null,
   "id": "a96717b9",
   "metadata": {},
   "outputs": [],
   "source": []
  }
 ],
 "metadata": {
  "kernelspec": {
   "display_name": "Python 3",
   "language": "python",
   "name": "python3"
  },
  "language_info": {
   "codemirror_mode": {
    "name": "ipython",
    "version": 3
   },
   "file_extension": ".py",
   "mimetype": "text/x-python",
   "name": "python",
   "nbconvert_exporter": "python",
   "pygments_lexer": "ipython3",
   "version": "3.8.10"
  }
 },
 "nbformat": 4,
 "nbformat_minor": 5
}
