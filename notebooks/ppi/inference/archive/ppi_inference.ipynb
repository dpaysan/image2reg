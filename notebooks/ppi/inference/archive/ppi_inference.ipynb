{
 "cells": [
  {
   "cell_type": "markdown",
   "id": "bd5b8950",
   "metadata": {},
   "source": [
    "# Inference of the U2OS interactome\n",
    "\n",
    "---\n",
    "In this notebook we will derive the interactome of U2OS cells using the Prize-collecting Steiner tree algorithm.\n",
    "\n",
    "---"
   ]
  },
  {
   "cell_type": "markdown",
   "id": "6e09368f",
   "metadata": {},
   "source": [
    "## 0. Environmental setup"
   ]
  },
  {
   "cell_type": "code",
   "execution_count": 1,
   "id": "ac17144c",
   "metadata": {},
   "outputs": [
    {
     "data": {
      "application/javascript": [
       "\n",
       "            setTimeout(function() {\n",
       "                var nbb_cell_id = 1;\n",
       "                var nbb_unformatted_code = \"import numpy as np\\nimport pandas as pd\\nfrom pcst_fast import pcst_fast\\nimport networkx as nx\\nimport random\\nfrom tqdm import tqdm\\nimport community\\nimport matplotlib.pyplot as plt\\nimport seaborn as sns\\nimport matplotlib.cm as cm\\n\\nseed = 1234\\nnp.random.seed(seed)\\nrandom.seed(seed)\\n\\n%load_ext nb_black\";\n",
       "                var nbb_formatted_code = \"import numpy as np\\nimport pandas as pd\\nfrom pcst_fast import pcst_fast\\nimport networkx as nx\\nimport random\\nfrom tqdm import tqdm\\nimport community\\nimport matplotlib.pyplot as plt\\nimport seaborn as sns\\nimport matplotlib.cm as cm\\n\\nseed = 1234\\nnp.random.seed(seed)\\nrandom.seed(seed)\\n\\n%load_ext nb_black\";\n",
       "                var nbb_cells = Jupyter.notebook.get_cells();\n",
       "                for (var i = 0; i < nbb_cells.length; ++i) {\n",
       "                    if (nbb_cells[i].input_prompt_number == nbb_cell_id) {\n",
       "                        if (nbb_cells[i].get_text() == nbb_unformatted_code) {\n",
       "                             nbb_cells[i].set_text(nbb_formatted_code);\n",
       "                        }\n",
       "                        break;\n",
       "                    }\n",
       "                }\n",
       "            }, 500);\n",
       "            "
      ],
      "text/plain": [
       "<IPython.core.display.Javascript object>"
      ]
     },
     "metadata": {},
     "output_type": "display_data"
    }
   ],
   "source": [
    "import numpy as np\n",
    "import pandas as pd\n",
    "from pcst_fast import pcst_fast\n",
    "import networkx as nx\n",
    "import random\n",
    "from tqdm import tqdm\n",
    "import community\n",
    "import matplotlib.pyplot as plt\n",
    "import seaborn as sns\n",
    "import matplotlib.cm as cm\n",
    "\n",
    "seed = 1234\n",
    "np.random.seed(seed)\n",
    "random.seed(seed)\n",
    "\n",
    "%load_ext nb_black"
   ]
  },
  {
   "cell_type": "code",
   "execution_count": 2,
   "id": "54a3663d",
   "metadata": {},
   "outputs": [
    {
     "data": {
      "application/javascript": [
       "\n",
       "            setTimeout(function() {\n",
       "                var nbb_cell_id = 2;\n",
       "                var nbb_unformatted_code = \"def run_pcst_sensitivity_analyses(\\n    graph,\\n    bs,\\n    prize_key: str = \\\"prize\\\",\\n    weight_key: str = \\\"mi_score\\\",\\n    minmax_scale: bool = False,\\n):\\n    node_dict = dict(zip(list(graph.nodes()), list(range(len(graph.nodes())))))\\n    inv_edge_dict = dict(zip(list(range(len(graph.edges()))), list(graph.edges())))\\n\\n    vertices = list(node_dict.values())\\n    edges = []\\n    prizes = []\\n    costs = []\\n    for node in graph.nodes(data=True):\\n        prizes.append(node[-1][prize_key])\\n    for edge in graph.edges(data=True):\\n        edges.append((node_dict[edge[0]], node_dict[edge[1]]))\\n        costs.append(edge[-1][weight_key])\\n\\n    edges = np.array(edges)\\n    prizes = np.array(prizes)\\n    if minmax_scale:\\n        prizes = (prizes - prizes.min()) / (prizes.max() - prizes.min())\\n    costs = np.array(costs)\\n\\n    pcs_tree_dict = {}\\n    augmented_pcs_tree_dict = {}\\n\\n    for b in tqdm(bs, desc=\\\"Compute PCSTs\\\"):\\n        v_idc, e_idc = pcst_fast(edges, prizes * b, costs, -1, 1, \\\"strong\\\", 0)\\n        selected_edges = [inv_edge_dict[e_idx] for e_idx in e_idc]\\n        # print(selected_edges)\\n        pcs_tree = graph.edge_subgraph(selected_edges)\\n        augmented_pcs_tree = graph.subgraph(pcs_tree.nodes())\\n        pcst_name = graph.name + \\\"_b_{}\\\".format(b)\\n        pcs_tree_dict[pcst_name] = pcs_tree\\n        augmented_pcs_tree_dict[\\\"augmented_\\\" + pcst_name] = augmented_pcs_tree\\n    return pcs_tree_dict, augmented_pcs_tree_dict\";\n",
       "                var nbb_formatted_code = \"def run_pcst_sensitivity_analyses(\\n    graph,\\n    bs,\\n    prize_key: str = \\\"prize\\\",\\n    weight_key: str = \\\"mi_score\\\",\\n    minmax_scale: bool = False,\\n):\\n    node_dict = dict(zip(list(graph.nodes()), list(range(len(graph.nodes())))))\\n    inv_edge_dict = dict(zip(list(range(len(graph.edges()))), list(graph.edges())))\\n\\n    vertices = list(node_dict.values())\\n    edges = []\\n    prizes = []\\n    costs = []\\n    for node in graph.nodes(data=True):\\n        prizes.append(node[-1][prize_key])\\n    for edge in graph.edges(data=True):\\n        edges.append((node_dict[edge[0]], node_dict[edge[1]]))\\n        costs.append(edge[-1][weight_key])\\n\\n    edges = np.array(edges)\\n    prizes = np.array(prizes)\\n    if minmax_scale:\\n        prizes = (prizes - prizes.min()) / (prizes.max() - prizes.min())\\n    costs = np.array(costs)\\n\\n    pcs_tree_dict = {}\\n    augmented_pcs_tree_dict = {}\\n\\n    for b in tqdm(bs, desc=\\\"Compute PCSTs\\\"):\\n        v_idc, e_idc = pcst_fast(edges, prizes * b, costs, -1, 1, \\\"strong\\\", 0)\\n        selected_edges = [inv_edge_dict[e_idx] for e_idx in e_idc]\\n        # print(selected_edges)\\n        pcs_tree = graph.edge_subgraph(selected_edges)\\n        augmented_pcs_tree = graph.subgraph(pcs_tree.nodes())\\n        pcst_name = graph.name + \\\"_b_{}\\\".format(b)\\n        pcs_tree_dict[pcst_name] = pcs_tree\\n        augmented_pcs_tree_dict[\\\"augmented_\\\" + pcst_name] = augmented_pcs_tree\\n    return pcs_tree_dict, augmented_pcs_tree_dict\";\n",
       "                var nbb_cells = Jupyter.notebook.get_cells();\n",
       "                for (var i = 0; i < nbb_cells.length; ++i) {\n",
       "                    if (nbb_cells[i].input_prompt_number == nbb_cell_id) {\n",
       "                        if (nbb_cells[i].get_text() == nbb_unformatted_code) {\n",
       "                             nbb_cells[i].set_text(nbb_formatted_code);\n",
       "                        }\n",
       "                        break;\n",
       "                    }\n",
       "                }\n",
       "            }, 500);\n",
       "            "
      ],
      "text/plain": [
       "<IPython.core.display.Javascript object>"
      ]
     },
     "metadata": {},
     "output_type": "display_data"
    }
   ],
   "source": [
    "def run_pcst_sensitivity_analyses(\n",
    "    graph,\n",
    "    bs,\n",
    "    prize_key: str = \"prize\",\n",
    "    weight_key: str = \"mi_score\",\n",
    "    minmax_scale: bool = False,\n",
    "):\n",
    "    node_dict = dict(zip(list(graph.nodes()), list(range(len(graph.nodes())))))\n",
    "    inv_edge_dict = dict(zip(list(range(len(graph.edges()))), list(graph.edges())))\n",
    "\n",
    "    vertices = list(node_dict.values())\n",
    "    edges = []\n",
    "    prizes = []\n",
    "    costs = []\n",
    "    for node in graph.nodes(data=True):\n",
    "        prizes.append(node[-1][prize_key])\n",
    "    for edge in graph.edges(data=True):\n",
    "        edges.append((node_dict[edge[0]], node_dict[edge[1]]))\n",
    "        costs.append(edge[-1][weight_key])\n",
    "\n",
    "    edges = np.array(edges)\n",
    "    prizes = np.array(prizes)\n",
    "    if minmax_scale:\n",
    "        prizes = (prizes - prizes.min()) / (prizes.max() - prizes.min())\n",
    "    costs = np.array(costs)\n",
    "\n",
    "    pcs_tree_dict = {}\n",
    "    augmented_pcs_tree_dict = {}\n",
    "\n",
    "    for b in tqdm(bs, desc=\"Compute PCSTs\"):\n",
    "        v_idc, e_idc = pcst_fast(edges, prizes * b, costs, -1, 1, \"strong\", 0)\n",
    "        selected_edges = [inv_edge_dict[e_idx] for e_idx in e_idc]\n",
    "        # print(selected_edges)\n",
    "        pcs_tree = graph.edge_subgraph(selected_edges)\n",
    "        augmented_pcs_tree = graph.subgraph(pcs_tree.nodes())\n",
    "        pcst_name = graph.name + \"_b_{}\".format(b)\n",
    "        pcs_tree_dict[pcst_name] = pcs_tree\n",
    "        augmented_pcs_tree_dict[\"augmented_\" + pcst_name] = augmented_pcs_tree\n",
    "    return pcs_tree_dict, augmented_pcs_tree_dict"
   ]
  },
  {
   "cell_type": "code",
   "execution_count": 3,
   "id": "f2703fbb",
   "metadata": {},
   "outputs": [
    {
     "data": {
      "application/javascript": [
       "\n",
       "            setTimeout(function() {\n",
       "                var nbb_cell_id = 3;\n",
       "                var nbb_unformatted_code = \"def analyze_pcst_sensitivity_analyses_results(trees_dict, target_nodes, death_nodes):\\n    data = {\\n        \\\"beta\\\": [],\\n        \\\"n_nodes\\\": [],\\n        \\\"n_edges\\\": [],\\n        \\\"n_connected_components\\\": [],\\n        \\\"n_louvain_clusters\\\": [],\\n        \\\"avg_node_degree\\\": [],\\n        \\\"std_node_degree\\\": [],\\n        \\\"n_leaf_nodes\\\": [],\\n        \\\"n_target_nodes\\\": [],\\n        \\\"n_target_leafs\\\": [],\\n        \\\"avg_target_degree\\\": [],\\n        \\\"std_target_degree\\\": [],\\n        \\\"n_death_nodes\\\": [],\\n    }\\n    keys = []\\n    for key, tree in tqdm(trees_dict.items(), desc=\\\"Analyze tree\\\"):\\n        keys.append(key)\\n        splitted = key.split(\\\"_\\\")\\n        beta = splitted[-1]\\n\\n        n_nodes = len(tree.nodes())\\n        n_edges = len(tree.edges())\\n        n_connected_components = nx.number_connected_components(tree)\\n        n_louvain_clusters = len(\\n            np.unique(list(community.best_partition(tree).values()))\\n        )\\n        node_degrees = []\\n        target_degrees = []\\n        leaf_nodes = []\\n        for node in tree.nodes():\\n            node_degree = tree.degree(node)\\n            node_degrees.append(node_degree)\\n            if node_degree == 1:\\n                leaf_nodes.append(node)\\n            if node in target_nodes:\\n                target_degrees.append(node_degree)\\n        avg_node_degree = np.mean(node_degrees)\\n        std_node_degree = np.std(node_degrees)\\n        avg_target_degree = np.mean(target_degrees)\\n        std_target_degree = np.std(target_degrees)\\n        n_target_leafs = len(set(target_nodes).intersection(set(leaf_nodes)))\\n        n_leaf_nodes = len(leaf_nodes)\\n        n_target_nodes = len(set(target_nodes).intersection(set(list(tree.nodes()))))\\n        n_death_nodes = len(set(death_nodes).intersection(set(list(tree.nodes()))))\\n\\n        data[\\\"beta\\\"].append(float(beta))\\n        data[\\\"n_nodes\\\"].append(n_nodes)\\n        data[\\\"n_edges\\\"].append(n_edges)\\n        data[\\\"n_connected_components\\\"].append(n_connected_components)\\n        data[\\\"n_louvain_clusters\\\"].append(n_louvain_clusters)\\n        data[\\\"avg_node_degree\\\"].append(avg_node_degree)\\n        data[\\\"std_node_degree\\\"].append(std_node_degree)\\n        data[\\\"n_leaf_nodes\\\"].append(n_leaf_nodes)\\n        data[\\\"n_target_nodes\\\"].append(n_target_nodes)\\n        data[\\\"n_target_leafs\\\"].append(n_target_leafs)\\n        data[\\\"avg_target_degree\\\"].append(avg_target_degree)\\n        data[\\\"std_target_degree\\\"].append(std_target_degree)\\n        data[\\\"n_death_nodes\\\"].append(n_death_nodes)\\n\\n    data = pd.DataFrame.from_dict(data)\\n    data.index = keys\\n    return data\";\n",
       "                var nbb_formatted_code = \"def analyze_pcst_sensitivity_analyses_results(trees_dict, target_nodes, death_nodes):\\n    data = {\\n        \\\"beta\\\": [],\\n        \\\"n_nodes\\\": [],\\n        \\\"n_edges\\\": [],\\n        \\\"n_connected_components\\\": [],\\n        \\\"n_louvain_clusters\\\": [],\\n        \\\"avg_node_degree\\\": [],\\n        \\\"std_node_degree\\\": [],\\n        \\\"n_leaf_nodes\\\": [],\\n        \\\"n_target_nodes\\\": [],\\n        \\\"n_target_leafs\\\": [],\\n        \\\"avg_target_degree\\\": [],\\n        \\\"std_target_degree\\\": [],\\n        \\\"n_death_nodes\\\": [],\\n    }\\n    keys = []\\n    for key, tree in tqdm(trees_dict.items(), desc=\\\"Analyze tree\\\"):\\n        keys.append(key)\\n        splitted = key.split(\\\"_\\\")\\n        beta = splitted[-1]\\n\\n        n_nodes = len(tree.nodes())\\n        n_edges = len(tree.edges())\\n        n_connected_components = nx.number_connected_components(tree)\\n        n_louvain_clusters = len(\\n            np.unique(list(community.best_partition(tree).values()))\\n        )\\n        node_degrees = []\\n        target_degrees = []\\n        leaf_nodes = []\\n        for node in tree.nodes():\\n            node_degree = tree.degree(node)\\n            node_degrees.append(node_degree)\\n            if node_degree == 1:\\n                leaf_nodes.append(node)\\n            if node in target_nodes:\\n                target_degrees.append(node_degree)\\n        avg_node_degree = np.mean(node_degrees)\\n        std_node_degree = np.std(node_degrees)\\n        avg_target_degree = np.mean(target_degrees)\\n        std_target_degree = np.std(target_degrees)\\n        n_target_leafs = len(set(target_nodes).intersection(set(leaf_nodes)))\\n        n_leaf_nodes = len(leaf_nodes)\\n        n_target_nodes = len(set(target_nodes).intersection(set(list(tree.nodes()))))\\n        n_death_nodes = len(set(death_nodes).intersection(set(list(tree.nodes()))))\\n\\n        data[\\\"beta\\\"].append(float(beta))\\n        data[\\\"n_nodes\\\"].append(n_nodes)\\n        data[\\\"n_edges\\\"].append(n_edges)\\n        data[\\\"n_connected_components\\\"].append(n_connected_components)\\n        data[\\\"n_louvain_clusters\\\"].append(n_louvain_clusters)\\n        data[\\\"avg_node_degree\\\"].append(avg_node_degree)\\n        data[\\\"std_node_degree\\\"].append(std_node_degree)\\n        data[\\\"n_leaf_nodes\\\"].append(n_leaf_nodes)\\n        data[\\\"n_target_nodes\\\"].append(n_target_nodes)\\n        data[\\\"n_target_leafs\\\"].append(n_target_leafs)\\n        data[\\\"avg_target_degree\\\"].append(avg_target_degree)\\n        data[\\\"std_target_degree\\\"].append(std_target_degree)\\n        data[\\\"n_death_nodes\\\"].append(n_death_nodes)\\n\\n    data = pd.DataFrame.from_dict(data)\\n    data.index = keys\\n    return data\";\n",
       "                var nbb_cells = Jupyter.notebook.get_cells();\n",
       "                for (var i = 0; i < nbb_cells.length; ++i) {\n",
       "                    if (nbb_cells[i].input_prompt_number == nbb_cell_id) {\n",
       "                        if (nbb_cells[i].get_text() == nbb_unformatted_code) {\n",
       "                             nbb_cells[i].set_text(nbb_formatted_code);\n",
       "                        }\n",
       "                        break;\n",
       "                    }\n",
       "                }\n",
       "            }, 500);\n",
       "            "
      ],
      "text/plain": [
       "<IPython.core.display.Javascript object>"
      ]
     },
     "metadata": {},
     "output_type": "display_data"
    }
   ],
   "source": [
    "def analyze_pcst_sensitivity_analyses_results(trees_dict, target_nodes, death_nodes):\n",
    "    data = {\n",
    "        \"beta\": [],\n",
    "        \"n_nodes\": [],\n",
    "        \"n_edges\": [],\n",
    "        \"n_connected_components\": [],\n",
    "        \"n_louvain_clusters\": [],\n",
    "        \"avg_node_degree\": [],\n",
    "        \"std_node_degree\": [],\n",
    "        \"n_leaf_nodes\": [],\n",
    "        \"n_target_nodes\": [],\n",
    "        \"n_target_leafs\": [],\n",
    "        \"avg_target_degree\": [],\n",
    "        \"std_target_degree\": [],\n",
    "        \"n_death_nodes\": [],\n",
    "    }\n",
    "    keys = []\n",
    "    for key, tree in tqdm(trees_dict.items(), desc=\"Analyze tree\"):\n",
    "        keys.append(key)\n",
    "        splitted = key.split(\"_\")\n",
    "        beta = splitted[-1]\n",
    "\n",
    "        n_nodes = len(tree.nodes())\n",
    "        n_edges = len(tree.edges())\n",
    "        n_connected_components = nx.number_connected_components(tree)\n",
    "        n_louvain_clusters = len(\n",
    "            np.unique(list(community.best_partition(tree).values()))\n",
    "        )\n",
    "        node_degrees = []\n",
    "        target_degrees = []\n",
    "        leaf_nodes = []\n",
    "        for node in tree.nodes():\n",
    "            node_degree = tree.degree(node)\n",
    "            node_degrees.append(node_degree)\n",
    "            if node_degree == 1:\n",
    "                leaf_nodes.append(node)\n",
    "            if node in target_nodes:\n",
    "                target_degrees.append(node_degree)\n",
    "        avg_node_degree = np.mean(node_degrees)\n",
    "        std_node_degree = np.std(node_degrees)\n",
    "        avg_target_degree = np.mean(target_degrees)\n",
    "        std_target_degree = np.std(target_degrees)\n",
    "        n_target_leafs = len(set(target_nodes).intersection(set(leaf_nodes)))\n",
    "        n_leaf_nodes = len(leaf_nodes)\n",
    "        n_target_nodes = len(set(target_nodes).intersection(set(list(tree.nodes()))))\n",
    "        n_death_nodes = len(set(death_nodes).intersection(set(list(tree.nodes()))))\n",
    "\n",
    "        data[\"beta\"].append(float(beta))\n",
    "        data[\"n_nodes\"].append(n_nodes)\n",
    "        data[\"n_edges\"].append(n_edges)\n",
    "        data[\"n_connected_components\"].append(n_connected_components)\n",
    "        data[\"n_louvain_clusters\"].append(n_louvain_clusters)\n",
    "        data[\"avg_node_degree\"].append(avg_node_degree)\n",
    "        data[\"std_node_degree\"].append(std_node_degree)\n",
    "        data[\"n_leaf_nodes\"].append(n_leaf_nodes)\n",
    "        data[\"n_target_nodes\"].append(n_target_nodes)\n",
    "        data[\"n_target_leafs\"].append(n_target_leafs)\n",
    "        data[\"avg_target_degree\"].append(avg_target_degree)\n",
    "        data[\"std_target_degree\"].append(std_target_degree)\n",
    "        data[\"n_death_nodes\"].append(n_death_nodes)\n",
    "\n",
    "    data = pd.DataFrame.from_dict(data)\n",
    "    data.index = keys\n",
    "    return data"
   ]
  },
  {
   "cell_type": "code",
   "execution_count": 4,
   "id": "36d47624",
   "metadata": {},
   "outputs": [
    {
     "data": {
      "application/javascript": [
       "\n",
       "            setTimeout(function() {\n",
       "                var nbb_cell_id = 4;\n",
       "                var nbb_unformatted_code = \"def plot_node_ious(pcst_dict):\\n    fig, ax = plt.subplots(figsize=[6, 4])\\n    n = len(pcst_dict)\\n    node_ious = np.zeros([n, n])\\n    trees = list(pcst_dict.values())\\n    for i in tqdm(range(n - 1)):\\n        for j in range(i + 1, n):\\n            nodes_i = set(list(trees[i].nodes()))\\n            nodes_j = set(list(trees[j].nodes()))\\n\\n            if len(nodes_i.union(nodes_j)) == 0:\\n                node_ious[i, j] = 0\\n            else:\\n                node_ious[i, j] = len(nodes_i.intersection(nodes_j)) / len(\\n                    nodes_i.union(nodes_j)\\n                )\\n    node_ious = node_ious + np.transpose(node_ious) + np.diag(np.ones(n))\\n    ax = sns.heatmap(node_ious, ax=ax, cmap=\\\"viridis\\\")\\n    ax.set_xlabel(\\\"trees\\\")\\n    ax.set_ylabel(\\\"trees\\\")\\n    plt.title(\\\"IoU of nodes in the tree solutions\\\")\\n    plt.show()\\n    plt.close()\";\n",
       "                var nbb_formatted_code = \"def plot_node_ious(pcst_dict):\\n    fig, ax = plt.subplots(figsize=[6, 4])\\n    n = len(pcst_dict)\\n    node_ious = np.zeros([n, n])\\n    trees = list(pcst_dict.values())\\n    for i in tqdm(range(n - 1)):\\n        for j in range(i + 1, n):\\n            nodes_i = set(list(trees[i].nodes()))\\n            nodes_j = set(list(trees[j].nodes()))\\n\\n            if len(nodes_i.union(nodes_j)) == 0:\\n                node_ious[i, j] = 0\\n            else:\\n                node_ious[i, j] = len(nodes_i.intersection(nodes_j)) / len(\\n                    nodes_i.union(nodes_j)\\n                )\\n    node_ious = node_ious + np.transpose(node_ious) + np.diag(np.ones(n))\\n    ax = sns.heatmap(node_ious, ax=ax, cmap=\\\"viridis\\\")\\n    ax.set_xlabel(\\\"trees\\\")\\n    ax.set_ylabel(\\\"trees\\\")\\n    plt.title(\\\"IoU of nodes in the tree solutions\\\")\\n    plt.show()\\n    plt.close()\";\n",
       "                var nbb_cells = Jupyter.notebook.get_cells();\n",
       "                for (var i = 0; i < nbb_cells.length; ++i) {\n",
       "                    if (nbb_cells[i].input_prompt_number == nbb_cell_id) {\n",
       "                        if (nbb_cells[i].get_text() == nbb_unformatted_code) {\n",
       "                             nbb_cells[i].set_text(nbb_formatted_code);\n",
       "                        }\n",
       "                        break;\n",
       "                    }\n",
       "                }\n",
       "            }, 500);\n",
       "            "
      ],
      "text/plain": [
       "<IPython.core.display.Javascript object>"
      ]
     },
     "metadata": {},
     "output_type": "display_data"
    }
   ],
   "source": [
    "def plot_node_ious(pcst_dict):\n",
    "    fig, ax = plt.subplots(figsize=[6, 4])\n",
    "    n = len(pcst_dict)\n",
    "    node_ious = np.zeros([n, n])\n",
    "    trees = list(pcst_dict.values())\n",
    "    for i in tqdm(range(n - 1)):\n",
    "        for j in range(i + 1, n):\n",
    "            nodes_i = set(list(trees[i].nodes()))\n",
    "            nodes_j = set(list(trees[j].nodes()))\n",
    "\n",
    "            if len(nodes_i.union(nodes_j)) == 0:\n",
    "                node_ious[i, j] = 0\n",
    "            else:\n",
    "                node_ious[i, j] = len(nodes_i.intersection(nodes_j)) / len(\n",
    "                    nodes_i.union(nodes_j)\n",
    "                )\n",
    "    node_ious = node_ious + np.transpose(node_ious) + np.diag(np.ones(n))\n",
    "    ax = sns.heatmap(node_ious, ax=ax, cmap=\"viridis\")\n",
    "    ax.set_xlabel(\"trees\")\n",
    "    ax.set_ylabel(\"trees\")\n",
    "    plt.title(\"IoU of nodes in the tree solutions\")\n",
    "    plt.show()\n",
    "    plt.close()"
   ]
  },
  {
   "cell_type": "markdown",
   "id": "4bcc69b3",
   "metadata": {},
   "source": [
    "---\n",
    "\n",
    "## 1. Read in data"
   ]
  },
  {
   "cell_type": "code",
   "execution_count": 6,
   "id": "4eb80b23",
   "metadata": {},
   "outputs": [
    {
     "ename": "FileNotFoundError",
     "evalue": "[Errno 2] No such file or directory: '../../../data/ppi/preprocessing/ppi_confidence_pruned_0542_ccle_abslogfc_spearmanr.pkl'",
     "output_type": "error",
     "traceback": [
      "\u001b[0;31m---------------------------------------------------------------------------\u001b[0m",
      "\u001b[0;31mFileNotFoundError\u001b[0m                         Traceback (most recent call last)",
      "\u001b[0;32m<ipython-input-6-a9ee45f0e984>\u001b[0m in \u001b[0;36m<module>\u001b[0;34m\u001b[0m\n\u001b[1;32m      1\u001b[0m \u001b[0;31m## Version 1: Prizes = absolute logFC in CCLE data set, Weights = 1-|Spearman correlation|\u001b[0m\u001b[0;34m\u001b[0m\u001b[0;34m\u001b[0m\u001b[0;34m\u001b[0m\u001b[0m\n\u001b[0;32m----> 2\u001b[0;31m ppi_v1 = nx.read_gpickle(\n\u001b[0m\u001b[1;32m      3\u001b[0m     \u001b[0;34m\"../../../data/ppi/preprocessing/ppi_confidence_pruned_0542_ccle_abslogfc_spearmanr.pkl\"\u001b[0m\u001b[0;34m\u001b[0m\u001b[0;34m\u001b[0m\u001b[0m\n\u001b[1;32m      4\u001b[0m )\n\u001b[1;32m      5\u001b[0m \u001b[0mppi_v1\u001b[0m\u001b[0;34m.\u001b[0m\u001b[0mname\u001b[0m \u001b[0;34m=\u001b[0m \u001b[0;34m\"Confidence_Pruned_CCLE_absLogFC_Spearman_r\"\u001b[0m\u001b[0;34m\u001b[0m\u001b[0;34m\u001b[0m\u001b[0m\n",
      "\u001b[0;32m~/miniconda3/envs/image2reg/lib/python3.8/site-packages/decorator.py\u001b[0m in \u001b[0;36mfun\u001b[0;34m(*args, **kw)\u001b[0m\n\u001b[1;32m    230\u001b[0m             \u001b[0;32mif\u001b[0m \u001b[0;32mnot\u001b[0m \u001b[0mkwsyntax\u001b[0m\u001b[0;34m:\u001b[0m\u001b[0;34m\u001b[0m\u001b[0;34m\u001b[0m\u001b[0m\n\u001b[1;32m    231\u001b[0m                 \u001b[0margs\u001b[0m\u001b[0;34m,\u001b[0m \u001b[0mkw\u001b[0m \u001b[0;34m=\u001b[0m \u001b[0mfix\u001b[0m\u001b[0;34m(\u001b[0m\u001b[0margs\u001b[0m\u001b[0;34m,\u001b[0m \u001b[0mkw\u001b[0m\u001b[0;34m,\u001b[0m \u001b[0msig\u001b[0m\u001b[0;34m)\u001b[0m\u001b[0;34m\u001b[0m\u001b[0;34m\u001b[0m\u001b[0m\n\u001b[0;32m--> 232\u001b[0;31m             \u001b[0;32mreturn\u001b[0m \u001b[0mcaller\u001b[0m\u001b[0;34m(\u001b[0m\u001b[0mfunc\u001b[0m\u001b[0;34m,\u001b[0m \u001b[0;34m*\u001b[0m\u001b[0;34m(\u001b[0m\u001b[0mextras\u001b[0m \u001b[0;34m+\u001b[0m \u001b[0margs\u001b[0m\u001b[0;34m)\u001b[0m\u001b[0;34m,\u001b[0m \u001b[0;34m**\u001b[0m\u001b[0mkw\u001b[0m\u001b[0;34m)\u001b[0m\u001b[0;34m\u001b[0m\u001b[0;34m\u001b[0m\u001b[0m\n\u001b[0m\u001b[1;32m    233\u001b[0m     \u001b[0mfun\u001b[0m\u001b[0;34m.\u001b[0m\u001b[0m__name__\u001b[0m \u001b[0;34m=\u001b[0m \u001b[0mfunc\u001b[0m\u001b[0;34m.\u001b[0m\u001b[0m__name__\u001b[0m\u001b[0;34m\u001b[0m\u001b[0;34m\u001b[0m\u001b[0m\n\u001b[1;32m    234\u001b[0m     \u001b[0mfun\u001b[0m\u001b[0;34m.\u001b[0m\u001b[0m__doc__\u001b[0m \u001b[0;34m=\u001b[0m \u001b[0mfunc\u001b[0m\u001b[0;34m.\u001b[0m\u001b[0m__doc__\u001b[0m\u001b[0;34m\u001b[0m\u001b[0;34m\u001b[0m\u001b[0m\n",
      "\u001b[0;32m~/miniconda3/envs/image2reg/lib/python3.8/site-packages/networkx/utils/decorators.py\u001b[0m in \u001b[0;36m_open_file\u001b[0;34m(func_to_be_decorated, *args, **kwargs)\u001b[0m\n\u001b[1;32m    211\u001b[0m         \u001b[0;32mif\u001b[0m \u001b[0misinstance\u001b[0m\u001b[0;34m(\u001b[0m\u001b[0mpath\u001b[0m\u001b[0;34m,\u001b[0m \u001b[0mstr\u001b[0m\u001b[0;34m)\u001b[0m\u001b[0;34m:\u001b[0m\u001b[0;34m\u001b[0m\u001b[0;34m\u001b[0m\u001b[0m\n\u001b[1;32m    212\u001b[0m             \u001b[0mext\u001b[0m \u001b[0;34m=\u001b[0m \u001b[0msplitext\u001b[0m\u001b[0;34m(\u001b[0m\u001b[0mpath\u001b[0m\u001b[0;34m)\u001b[0m\u001b[0;34m[\u001b[0m\u001b[0;36m1\u001b[0m\u001b[0;34m]\u001b[0m\u001b[0;34m\u001b[0m\u001b[0;34m\u001b[0m\u001b[0m\n\u001b[0;32m--> 213\u001b[0;31m             \u001b[0mfobj\u001b[0m \u001b[0;34m=\u001b[0m \u001b[0m_dispatch_dict\u001b[0m\u001b[0;34m[\u001b[0m\u001b[0mext\u001b[0m\u001b[0;34m]\u001b[0m\u001b[0;34m(\u001b[0m\u001b[0mpath\u001b[0m\u001b[0;34m,\u001b[0m \u001b[0mmode\u001b[0m\u001b[0;34m=\u001b[0m\u001b[0mmode\u001b[0m\u001b[0;34m)\u001b[0m\u001b[0;34m\u001b[0m\u001b[0;34m\u001b[0m\u001b[0m\n\u001b[0m\u001b[1;32m    214\u001b[0m             \u001b[0mclose_fobj\u001b[0m \u001b[0;34m=\u001b[0m \u001b[0;32mTrue\u001b[0m\u001b[0;34m\u001b[0m\u001b[0;34m\u001b[0m\u001b[0m\n\u001b[1;32m    215\u001b[0m         \u001b[0;32melif\u001b[0m \u001b[0mhasattr\u001b[0m\u001b[0;34m(\u001b[0m\u001b[0mpath\u001b[0m\u001b[0;34m,\u001b[0m \u001b[0;34m\"read\"\u001b[0m\u001b[0;34m)\u001b[0m\u001b[0;34m:\u001b[0m\u001b[0;34m\u001b[0m\u001b[0;34m\u001b[0m\u001b[0m\n",
      "\u001b[0;31mFileNotFoundError\u001b[0m: [Errno 2] No such file or directory: '../../../data/ppi/preprocessing/ppi_confidence_pruned_0542_ccle_abslogfc_spearmanr.pkl'"
     ]
    },
    {
     "data": {
      "application/javascript": [
       "\n",
       "            setTimeout(function() {\n",
       "                var nbb_cell_id = 6;\n",
       "                var nbb_unformatted_code = \"## Version 1: Prizes = absolute logFC in CCLE data set, Weights = 1-|Spearman correlation|\\nppi_v1 = nx.read_gpickle(\\n    \\\"../../../data/ppi/preprocessing/ppi_confidence_pruned_0542_ccle_abslogfc_spearmanr.pkl\\\"\\n)\\nppi_v1.name = \\\"Confidence_Pruned_CCLE_absLogFC_Spearman_r\\\"\\nprint(nx.info(ppi_v1))\\n\\n## Version 1: Prizes = absolute logFC in CCLE data set, Weights = bootstrap p-value of non-zero Spearman correlation\\nppi_v2 = nx.read_gpickle(\\n    \\\"../../../data/ppi/ppi_confidence_pruned_0542_ccle_abslogfc_spearmanp.pkl\\\"\\n)\\nppi_v2.name = \\\"Confidence_Pruned_CCLE_absLogFC_Spearman_p\\\"\\nprint(nx.info(ppi_v2))\\n\\n## Version 3: Prizes = absolute logFC in CCLE data set or max absolute logFC if ORF target,\\n## Weights = 1-|Spearman correlation|\\nppi_v3 = nx.read_gpickle(\\n    \\\"../../../data/ppi/ppi_confidence_0562_hub_9976_pruned_ccle_abslogfc_orf_maxp_spearmanr.pkl\\\"\\n)\\nppi_v3.name = \\\"Confidence_Pruned_CCLE_absLogFC_ORF_max_Spearman_r\\\"\\nprint(nx.info(ppi_v3))\\n\\n## Version 4: Prizes = absolute logFC in CCLE data set or max absolute logFCif ORF target,\\n## Weights = bootstrap p-value of non-zero Spearman correlation\\nppi_v4 = nx.read_gpickle(\\n    \\\"../../../data/ppi/ppi_confidence_pruned_0542_ccle_abslogfc_orf_maxp_spearmanp.pkl\\\"\\n)\\nppi_v4.name = \\\"Confidence_Pruned_CCLE_absLogFC__ORF_max_Spearman_p\\\"\\nprint(nx.info(ppi_v4))\";\n",
       "                var nbb_formatted_code = \"## Version 1: Prizes = absolute logFC in CCLE data set, Weights = 1-|Spearman correlation|\\nppi_v1 = nx.read_gpickle(\\n    \\\"../../../data/ppi/preprocessing/ppi_confidence_pruned_0542_ccle_abslogfc_spearmanr.pkl\\\"\\n)\\nppi_v1.name = \\\"Confidence_Pruned_CCLE_absLogFC_Spearman_r\\\"\\nprint(nx.info(ppi_v1))\\n\\n## Version 1: Prizes = absolute logFC in CCLE data set, Weights = bootstrap p-value of non-zero Spearman correlation\\nppi_v2 = nx.read_gpickle(\\n    \\\"../../../data/ppi/ppi_confidence_pruned_0542_ccle_abslogfc_spearmanp.pkl\\\"\\n)\\nppi_v2.name = \\\"Confidence_Pruned_CCLE_absLogFC_Spearman_p\\\"\\nprint(nx.info(ppi_v2))\\n\\n## Version 3: Prizes = absolute logFC in CCLE data set or max absolute logFC if ORF target,\\n## Weights = 1-|Spearman correlation|\\nppi_v3 = nx.read_gpickle(\\n    \\\"../../../data/ppi/ppi_confidence_0562_hub_9976_pruned_ccle_abslogfc_orf_maxp_spearmanr.pkl\\\"\\n)\\nppi_v3.name = \\\"Confidence_Pruned_CCLE_absLogFC_ORF_max_Spearman_r\\\"\\nprint(nx.info(ppi_v3))\\n\\n## Version 4: Prizes = absolute logFC in CCLE data set or max absolute logFCif ORF target,\\n## Weights = bootstrap p-value of non-zero Spearman correlation\\nppi_v4 = nx.read_gpickle(\\n    \\\"../../../data/ppi/ppi_confidence_pruned_0542_ccle_abslogfc_orf_maxp_spearmanp.pkl\\\"\\n)\\nppi_v4.name = \\\"Confidence_Pruned_CCLE_absLogFC__ORF_max_Spearman_p\\\"\\nprint(nx.info(ppi_v4))\";\n",
       "                var nbb_cells = Jupyter.notebook.get_cells();\n",
       "                for (var i = 0; i < nbb_cells.length; ++i) {\n",
       "                    if (nbb_cells[i].input_prompt_number == nbb_cell_id) {\n",
       "                        if (nbb_cells[i].get_text() == nbb_unformatted_code) {\n",
       "                             nbb_cells[i].set_text(nbb_formatted_code);\n",
       "                        }\n",
       "                        break;\n",
       "                    }\n",
       "                }\n",
       "            }, 500);\n",
       "            "
      ],
      "text/plain": [
       "<IPython.core.display.Javascript object>"
      ]
     },
     "metadata": {},
     "output_type": "display_data"
    }
   ],
   "source": [
    "## Version 1: Prizes = absolute logFC in CCLE data set, Weights = 1-|Spearman correlation|\n",
    "ppi_v1 = nx.read_gpickle(\n",
    "    \"../../../data/ppi/preprocessing/ppi_confidence_pruned_0542_ccle_abslogfc_spearmanr.pkl\"\n",
    ")\n",
    "ppi_v1.name = \"Confidence_Pruned_CCLE_absLogFC_Spearman_r\"\n",
    "print(nx.info(ppi_v1))\n",
    "\n",
    "## Version 1: Prizes = absolute logFC in CCLE data set, Weights = bootstrap p-value of non-zero Spearman correlation\n",
    "ppi_v2 = nx.read_gpickle(\n",
    "    \"../../../data/ppi/ppi_confidence_pruned_0542_ccle_abslogfc_spearmanp.pkl\"\n",
    ")\n",
    "ppi_v2.name = \"Confidence_Pruned_CCLE_absLogFC_Spearman_p\"\n",
    "print(nx.info(ppi_v2))\n",
    "\n",
    "## Version 3: Prizes = absolute logFC in CCLE data set or max absolute logFC if ORF target,\n",
    "## Weights = 1-|Spearman correlation|\n",
    "ppi_v3 = nx.read_gpickle(\n",
    "    \"../../../data/ppi/ppi_confidence_0562_hub_9976_pruned_ccle_abslogfc_orf_maxp_spearmanr.pkl\"\n",
    ")\n",
    "ppi_v3.name = \"Confidence_Pruned_CCLE_absLogFC_ORF_max_Spearman_r\"\n",
    "print(nx.info(ppi_v3))\n",
    "\n",
    "## Version 4: Prizes = absolute logFC in CCLE data set or max absolute logFCif ORF target,\n",
    "## Weights = bootstrap p-value of non-zero Spearman correlation\n",
    "ppi_v4 = nx.read_gpickle(\n",
    "    \"../../../data/ppi/ppi_confidence_pruned_0542_ccle_abslogfc_orf_maxp_spearmanp.pkl\"\n",
    ")\n",
    "ppi_v4.name = \"Confidence_Pruned_CCLE_absLogFC__ORF_max_Spearman_p\"\n",
    "print(nx.info(ppi_v4))\n"
   ]
  },
  {
   "cell_type": "code",
   "execution_count": 7,
   "id": "9078ec48",
   "metadata": {},
   "outputs": [
    {
     "data": {
      "application/javascript": [
       "\n",
       "            setTimeout(function() {\n",
       "                var nbb_cell_id = 7;\n",
       "                var nbb_unformatted_code = \"orf_targets = set(\\n    pd.read_csv(\\n        \\\"../../../data/other/selected_orf_targets.txt\\\", index_col=0, header=None\\n    ).index\\n)\\ndeath_genes = list(\\n    pd.read_csv(\\\"../../../data/other/reactome_cell_death.tsv\\\", index_col=0, sep=\\\"\\\\t\\\")[\\n        \\\"MoleculeName\\\"\\n    ]\\n)\\ndeath_genes = set([gene.split(\\\" \\\")[-1] for gene in death_genes])\";\n",
       "                var nbb_formatted_code = \"orf_targets = set(\\n    pd.read_csv(\\n        \\\"../../../data/other/selected_orf_targets.txt\\\", index_col=0, header=None\\n    ).index\\n)\\ndeath_genes = list(\\n    pd.read_csv(\\\"../../../data/other/reactome_cell_death.tsv\\\", index_col=0, sep=\\\"\\\\t\\\")[\\n        \\\"MoleculeName\\\"\\n    ]\\n)\\ndeath_genes = set([gene.split(\\\" \\\")[-1] for gene in death_genes])\";\n",
       "                var nbb_cells = Jupyter.notebook.get_cells();\n",
       "                for (var i = 0; i < nbb_cells.length; ++i) {\n",
       "                    if (nbb_cells[i].input_prompt_number == nbb_cell_id) {\n",
       "                        if (nbb_cells[i].get_text() == nbb_unformatted_code) {\n",
       "                             nbb_cells[i].set_text(nbb_formatted_code);\n",
       "                        }\n",
       "                        break;\n",
       "                    }\n",
       "                }\n",
       "            }, 500);\n",
       "            "
      ],
      "text/plain": [
       "<IPython.core.display.Javascript object>"
      ]
     },
     "metadata": {},
     "output_type": "display_data"
    }
   ],
   "source": [
    "orf_targets = set(\n",
    "    pd.read_csv(\n",
    "        \"../../../data/other/selected_orf_targets.txt\", index_col=0, header=None\n",
    "    ).index\n",
    ")\n",
    "death_genes = list(\n",
    "    pd.read_csv(\"../../../data/other/reactome_cell_death.tsv\", index_col=0, sep=\"\\t\")[\n",
    "        \"MoleculeName\"\n",
    "    ]\n",
    ")\n",
    "death_genes = set([gene.split(\" \")[-1] for gene in death_genes])"
   ]
  },
  {
   "cell_type": "markdown",
   "id": "504b21bf",
   "metadata": {},
   "source": [
    "---\n",
    "\n",
    "## 2. Run PCST-based inference\n",
    "\n",
    "Using the above data, we will approximately solve the PCST problem for different choice of $\\beta$ in the PCST objectives, i.e. the prize factor. We aim to identify a stable subgraph from the confidence pruned humna PPI that describes the cell-type specific interactome of U2OS cells best.\n",
    "\n",
    "### 2a. Interactome version 1\n",
    "\n",
    "We will first infer the interactome for the first choice of input network, i.e. where the node prizes are given by the absolute logFC comparing U2OS cells against over 1300 other cancer cell lines in the CCLE data set and the edge weights are given by $1-|r_{Spearman}|$."
   ]
  },
  {
   "cell_type": "code",
   "execution_count": 9,
   "id": "613bdb6f",
   "metadata": {},
   "outputs": [
    {
     "data": {
      "application/javascript": [
       "\n",
       "            setTimeout(function() {\n",
       "                var nbb_cell_id = 9;\n",
       "                var nbb_unformatted_code = \"bs = np.arange(0, 10, 0.1)\";\n",
       "                var nbb_formatted_code = \"bs = np.arange(0, 10, 0.1)\";\n",
       "                var nbb_cells = Jupyter.notebook.get_cells();\n",
       "                for (var i = 0; i < nbb_cells.length; ++i) {\n",
       "                    if (nbb_cells[i].input_prompt_number == nbb_cell_id) {\n",
       "                        if (nbb_cells[i].get_text() == nbb_unformatted_code) {\n",
       "                             nbb_cells[i].set_text(nbb_formatted_code);\n",
       "                        }\n",
       "                        break;\n",
       "                    }\n",
       "                }\n",
       "            }, 500);\n",
       "            "
      ],
      "text/plain": [
       "<IPython.core.display.Javascript object>"
      ]
     },
     "metadata": {},
     "output_type": "display_data"
    }
   ],
   "source": [
    "bs = np.arange(0, 10, 0.1)"
   ]
  },
  {
   "cell_type": "code",
   "execution_count": 40,
   "id": "a8f16b5b",
   "metadata": {},
   "outputs": [
    {
     "ename": "KeyError",
     "evalue": "'mi_score'",
     "output_type": "error",
     "traceback": [
      "\u001b[0;31m---------------------------------------------------------------------------\u001b[0m",
      "\u001b[0;31mKeyError\u001b[0m                                  Traceback (most recent call last)",
      "\u001b[0;32m<ipython-input-40-fe40f982de9a>\u001b[0m in \u001b[0;36m<module>\u001b[0;34m\u001b[0m\n\u001b[0;32m----> 1\u001b[0;31m pcst_dict_v1, augmented_pcst_dict_v1 = run_pcst_sensitivity_analyses(\n\u001b[0m\u001b[1;32m      2\u001b[0m     \u001b[0mgraph\u001b[0m\u001b[0;34m=\u001b[0m\u001b[0mppi_v1\u001b[0m\u001b[0;34m,\u001b[0m \u001b[0mbs\u001b[0m\u001b[0;34m=\u001b[0m\u001b[0mbs\u001b[0m\u001b[0;34m\u001b[0m\u001b[0;34m\u001b[0m\u001b[0m\n\u001b[1;32m      3\u001b[0m )\n\u001b[1;32m      4\u001b[0m pcst_results_v1 = analyze_pcst_sensitivity_analyses_results(\n\u001b[1;32m      5\u001b[0m     \u001b[0mpcst_dict_v1\u001b[0m\u001b[0;34m,\u001b[0m \u001b[0mtarget_nodes\u001b[0m\u001b[0;34m=\u001b[0m\u001b[0morf_targets\u001b[0m\u001b[0;34m,\u001b[0m \u001b[0mdeath_nodes\u001b[0m\u001b[0;34m=\u001b[0m\u001b[0mdeath_genes\u001b[0m\u001b[0;34m\u001b[0m\u001b[0;34m\u001b[0m\u001b[0m\n",
      "\u001b[0;32m<ipython-input-39-7f9d705af5e8>\u001b[0m in \u001b[0;36mrun_pcst_sensitivity_analyses\u001b[0;34m(graph, bs, prize_key, weight_key, minmax_scale)\u001b[0m\n\u001b[1;32m     17\u001b[0m     \u001b[0;32mfor\u001b[0m \u001b[0medge\u001b[0m \u001b[0;32min\u001b[0m \u001b[0mgraph\u001b[0m\u001b[0;34m.\u001b[0m\u001b[0medges\u001b[0m\u001b[0;34m(\u001b[0m\u001b[0mdata\u001b[0m\u001b[0;34m=\u001b[0m\u001b[0;32mTrue\u001b[0m\u001b[0;34m)\u001b[0m\u001b[0;34m:\u001b[0m\u001b[0;34m\u001b[0m\u001b[0;34m\u001b[0m\u001b[0m\n\u001b[1;32m     18\u001b[0m         \u001b[0medges\u001b[0m\u001b[0;34m.\u001b[0m\u001b[0mappend\u001b[0m\u001b[0;34m(\u001b[0m\u001b[0;34m(\u001b[0m\u001b[0mnode_dict\u001b[0m\u001b[0;34m[\u001b[0m\u001b[0medge\u001b[0m\u001b[0;34m[\u001b[0m\u001b[0;36m0\u001b[0m\u001b[0;34m]\u001b[0m\u001b[0;34m]\u001b[0m\u001b[0;34m,\u001b[0m \u001b[0mnode_dict\u001b[0m\u001b[0;34m[\u001b[0m\u001b[0medge\u001b[0m\u001b[0;34m[\u001b[0m\u001b[0;36m1\u001b[0m\u001b[0;34m]\u001b[0m\u001b[0;34m]\u001b[0m\u001b[0;34m)\u001b[0m\u001b[0;34m)\u001b[0m\u001b[0;34m\u001b[0m\u001b[0;34m\u001b[0m\u001b[0m\n\u001b[0;32m---> 19\u001b[0;31m         \u001b[0mcosts\u001b[0m\u001b[0;34m.\u001b[0m\u001b[0mappend\u001b[0m\u001b[0;34m(\u001b[0m\u001b[0medge\u001b[0m\u001b[0;34m[\u001b[0m\u001b[0;34m-\u001b[0m\u001b[0;36m1\u001b[0m\u001b[0;34m]\u001b[0m\u001b[0;34m[\u001b[0m\u001b[0mweight_key\u001b[0m\u001b[0;34m]\u001b[0m\u001b[0;34m)\u001b[0m\u001b[0;34m\u001b[0m\u001b[0;34m\u001b[0m\u001b[0m\n\u001b[0m\u001b[1;32m     20\u001b[0m \u001b[0;34m\u001b[0m\u001b[0m\n\u001b[1;32m     21\u001b[0m     \u001b[0medges\u001b[0m \u001b[0;34m=\u001b[0m \u001b[0mnp\u001b[0m\u001b[0;34m.\u001b[0m\u001b[0marray\u001b[0m\u001b[0;34m(\u001b[0m\u001b[0medges\u001b[0m\u001b[0;34m)\u001b[0m\u001b[0;34m\u001b[0m\u001b[0;34m\u001b[0m\u001b[0m\n",
      "\u001b[0;31mKeyError\u001b[0m: 'mi_score'"
     ]
    },
    {
     "data": {
      "application/javascript": [
       "\n",
       "            setTimeout(function() {\n",
       "                var nbb_cell_id = 40;\n",
       "                var nbb_unformatted_code = \"pcst_dict_v1, augmented_pcst_dict_v1 = run_pcst_sensitivity_analyses(\\n    graph=ppi_v1, bs=bs\\n)\\npcst_results_v1 = analyze_pcst_sensitivity_analyses_results(\\n    pcst_dict_v1, target_nodes=orf_targets, death_nodes=death_genes\\n)\";\n",
       "                var nbb_formatted_code = \"pcst_dict_v1, augmented_pcst_dict_v1 = run_pcst_sensitivity_analyses(\\n    graph=ppi_v1, bs=bs\\n)\\npcst_results_v1 = analyze_pcst_sensitivity_analyses_results(\\n    pcst_dict_v1, target_nodes=orf_targets, death_nodes=death_genes\\n)\";\n",
       "                var nbb_cells = Jupyter.notebook.get_cells();\n",
       "                for (var i = 0; i < nbb_cells.length; ++i) {\n",
       "                    if (nbb_cells[i].input_prompt_number == nbb_cell_id) {\n",
       "                        if (nbb_cells[i].get_text() == nbb_unformatted_code) {\n",
       "                             nbb_cells[i].set_text(nbb_formatted_code);\n",
       "                        }\n",
       "                        break;\n",
       "                    }\n",
       "                }\n",
       "            }, 500);\n",
       "            "
      ],
      "text/plain": [
       "<IPython.core.display.Javascript object>"
      ]
     },
     "metadata": {},
     "output_type": "display_data"
    }
   ],
   "source": [
    "pcst_dict_v1, augmented_pcst_dict_v1 = run_pcst_sensitivity_analyses(\n",
    "    graph=ppi_v1, bs=bs\n",
    ")\n",
    "pcst_results_v1 = analyze_pcst_sensitivity_analyses_results(\n",
    "    pcst_dict_v1, target_nodes=orf_targets, death_nodes=death_genes\n",
    ")"
   ]
  },
  {
   "cell_type": "code",
   "execution_count": 9,
   "id": "50730d9c",
   "metadata": {},
   "outputs": [
    {
     "name": "stderr",
     "output_type": "stream",
     "text": [
      "100%|██████████| 99/99 [01:11<00:00,  1.38it/s]\n"
     ]
    },
    {
     "data": {
      "image/png": "[encoded data removed]",
      "text/plain": [
       "<Figure size 432x288 with 2 Axes>"
      ]
     },
     "metadata": {
      "needs_background": "light"
     },
     "output_type": "display_data"
    },
    {
     "data": {
      "application/javascript": [
       "\n",
       "            setTimeout(function() {\n",
       "                var nbb_cell_id = 9;\n",
       "                var nbb_unformatted_code = \"plot_node_ious(pcst_dict_v1)\";\n",
       "                var nbb_formatted_code = \"plot_node_ious(pcst_dict_v1)\";\n",
       "                var nbb_cells = Jupyter.notebook.get_cells();\n",
       "                for (var i = 0; i < nbb_cells.length; ++i) {\n",
       "                    if (nbb_cells[i].input_prompt_number == nbb_cell_id) {\n",
       "                        if (nbb_cells[i].get_text() == nbb_unformatted_code) {\n",
       "                             nbb_cells[i].set_text(nbb_formatted_code);\n",
       "                        }\n",
       "                        break;\n",
       "                    }\n",
       "                }\n",
       "            }, 500);\n",
       "            "
      ],
      "text/plain": [
       "<IPython.core.display.Javascript object>"
      ]
     },
     "metadata": {},
     "output_type": "display_data"
    }
   ],
   "source": [
    "plot_node_ious(pcst_dict_v1)"
   ]
  },
  {
   "cell_type": "markdown",
   "id": "ab1010bd",
   "metadata": {},
   "source": [
    "### 2b. Interactome version 3\n",
    "\n",
    "The only difference in the setup of version 3 is that we set the prize for all ORF targets to the maximum of the other prizes promote solutions that include those targets as we are interested in finding the interactome spanning those nodes and thus describing their regulatory relationships."
   ]
  },
  {
   "cell_type": "code",
   "execution_count": 41,
   "id": "4883291c",
   "metadata": {},
   "outputs": [
    {
     "name": "stderr",
     "output_type": "stream",
     "text": [
      "Compute PCSTs: 100%|██████████| 100/100 [00:09<00:00, 10.47it/s]\n",
      "Analyze tree:   0%|          | 0/100 [00:00<?, ?it/s]/home/paysan_d/miniconda3/envs/image2reg/lib/python3.8/site-packages/numpy/core/fromnumeric.py:3419: RuntimeWarning: Mean of empty slice.\n",
      "  return _methods._mean(a, axis=axis, dtype=dtype,\n",
      "/home/paysan_d/miniconda3/envs/image2reg/lib/python3.8/site-packages/numpy/core/_methods.py:188: RuntimeWarning: invalid value encountered in double_scalars\n",
      "  ret = ret.dtype.type(ret / rcount)\n",
      "/home/paysan_d/miniconda3/envs/image2reg/lib/python3.8/site-packages/numpy/core/_methods.py:261: RuntimeWarning: Degrees of freedom <= 0 for slice\n",
      "  ret = _var(a, axis=axis, dtype=dtype, out=out, ddof=ddof,\n",
      "/home/paysan_d/miniconda3/envs/image2reg/lib/python3.8/site-packages/numpy/core/_methods.py:221: RuntimeWarning: invalid value encountered in true_divide\n",
      "  arrmean = um.true_divide(arrmean, div, out=arrmean, casting='unsafe',\n",
      "/home/paysan_d/miniconda3/envs/image2reg/lib/python3.8/site-packages/numpy/core/_methods.py:253: RuntimeWarning: invalid value encountered in double_scalars\n",
      "  ret = ret.dtype.type(ret / rcount)\n",
      "Analyze tree: 100%|██████████| 100/100 [03:28<00:00,  2.09s/it]\n"
     ]
    },
    {
     "data": {
      "application/javascript": [
       "\n",
       "            setTimeout(function() {\n",
       "                var nbb_cell_id = 41;\n",
       "                var nbb_unformatted_code = \"pcst_dict_v3, augmented_pcst_dict_v3 = run_pcst_sensitivity_analyses(\\n    graph=ppi_v3, bs=bs\\n)\\npcst_results_v3 = analyze_pcst_sensitivity_analyses_results(\\n    augmented_pcst_dict_v3, target_nodes=orf_targets, death_nodes=death_genes\\n)\";\n",
       "                var nbb_formatted_code = \"pcst_dict_v3, augmented_pcst_dict_v3 = run_pcst_sensitivity_analyses(\\n    graph=ppi_v3, bs=bs\\n)\\npcst_results_v3 = analyze_pcst_sensitivity_analyses_results(\\n    augmented_pcst_dict_v3, target_nodes=orf_targets, death_nodes=death_genes\\n)\";\n",
       "                var nbb_cells = Jupyter.notebook.get_cells();\n",
       "                for (var i = 0; i < nbb_cells.length; ++i) {\n",
       "                    if (nbb_cells[i].input_prompt_number == nbb_cell_id) {\n",
       "                        if (nbb_cells[i].get_text() == nbb_unformatted_code) {\n",
       "                             nbb_cells[i].set_text(nbb_formatted_code);\n",
       "                        }\n",
       "                        break;\n",
       "                    }\n",
       "                }\n",
       "            }, 500);\n",
       "            "
      ],
      "text/plain": [
       "<IPython.core.display.Javascript object>"
      ]
     },
     "metadata": {},
     "output_type": "display_data"
    }
   ],
   "source": [
    "pcst_dict_v3, augmented_pcst_dict_v3 = run_pcst_sensitivity_analyses(\n",
    "    graph=ppi_v3, bs=bs\n",
    ")\n",
    "pcst_results_v3 = analyze_pcst_sensitivity_analyses_results(\n",
    "    augmented_pcst_dict_v3, target_nodes=orf_targets, death_nodes=death_genes\n",
    ")"
   ]
  },
  {
   "cell_type": "code",
   "execution_count": 43,
   "id": "7bf366b1",
   "metadata": {},
   "outputs": [
    {
     "data": {
      "text/html": [
       "<div>\n",
       "<style scoped>\n",
       "    .dataframe tbody tr th:only-of-type {\n",
       "        vertical-align: middle;\n",
       "    }\n",
       "\n",
       "    .dataframe tbody tr th {\n",
       "        vertical-align: top;\n",
       "    }\n",
       "\n",
       "    .dataframe thead th {\n",
       "        text-align: right;\n",
       "    }\n",
       "</style>\n",
       "<table border=\"1\" class=\"dataframe\">\n",
       "  <thead>\n",
       "    <tr style=\"text-align: right;\">\n",
       "      <th></th>\n",
       "      <th>beta</th>\n",
       "      <th>n_nodes</th>\n",
       "      <th>n_edges</th>\n",
       "      <th>n_connected_components</th>\n",
       "      <th>n_louvain_clusters</th>\n",
       "      <th>avg_node_degree</th>\n",
       "      <th>std_node_degree</th>\n",
       "      <th>n_leaf_nodes</th>\n",
       "      <th>n_target_nodes</th>\n",
       "      <th>n_target_leafs</th>\n",
       "      <th>avg_target_degree</th>\n",
       "      <th>std_target_degree</th>\n",
       "      <th>n_death_nodes</th>\n",
       "    </tr>\n",
       "  </thead>\n",
       "  <tbody>\n",
       "    <tr>\n",
       "      <th>augmented_Confidence_Pruned_CCLE_absLogFC_ORF_max_Spearman_r_b_1_b_0.0</th>\n",
       "      <td>0.0</td>\n",
       "      <td>0</td>\n",
       "      <td>0</td>\n",
       "      <td>0</td>\n",
       "      <td>0</td>\n",
       "      <td>NaN</td>\n",
       "      <td>NaN</td>\n",
       "      <td>0</td>\n",
       "      <td>0</td>\n",
       "      <td>0</td>\n",
       "      <td>NaN</td>\n",
       "      <td>NaN</td>\n",
       "      <td>0</td>\n",
       "    </tr>\n",
       "    <tr>\n",
       "      <th>augmented_Confidence_Pruned_CCLE_absLogFC_ORF_max_Spearman_r_b_1_b_0.1</th>\n",
       "      <td>0.1</td>\n",
       "      <td>580</td>\n",
       "      <td>3556</td>\n",
       "      <td>1</td>\n",
       "      <td>10</td>\n",
       "      <td>12.262069</td>\n",
       "      <td>10.640048</td>\n",
       "      <td>30</td>\n",
       "      <td>109</td>\n",
       "      <td>4</td>\n",
       "      <td>17.605505</td>\n",
       "      <td>14.368683</td>\n",
       "      <td>48</td>\n",
       "    </tr>\n",
       "    <tr>\n",
       "      <th>augmented_Confidence_Pruned_CCLE_absLogFC_ORF_max_Spearman_r_b_1_b_0.2</th>\n",
       "      <td>0.2</td>\n",
       "      <td>1542</td>\n",
       "      <td>8905</td>\n",
       "      <td>1</td>\n",
       "      <td>16</td>\n",
       "      <td>11.549935</td>\n",
       "      <td>12.561590</td>\n",
       "      <td>150</td>\n",
       "      <td>133</td>\n",
       "      <td>3</td>\n",
       "      <td>24.428571</td>\n",
       "      <td>20.281584</td>\n",
       "      <td>82</td>\n",
       "    </tr>\n",
       "    <tr>\n",
       "      <th>augmented_Confidence_Pruned_CCLE_absLogFC_ORF_max_Spearman_r_b_1_b_0.30000000000000004</th>\n",
       "      <td>0.3</td>\n",
       "      <td>2556</td>\n",
       "      <td>13843</td>\n",
       "      <td>1</td>\n",
       "      <td>18</td>\n",
       "      <td>10.831768</td>\n",
       "      <td>13.120419</td>\n",
       "      <td>348</td>\n",
       "      <td>144</td>\n",
       "      <td>4</td>\n",
       "      <td>27.645833</td>\n",
       "      <td>23.614811</td>\n",
       "      <td>105</td>\n",
       "    </tr>\n",
       "    <tr>\n",
       "      <th>augmented_Confidence_Pruned_CCLE_absLogFC_ORF_max_Spearman_r_b_1_b_0.4</th>\n",
       "      <td>0.4</td>\n",
       "      <td>3423</td>\n",
       "      <td>18238</td>\n",
       "      <td>1</td>\n",
       "      <td>20</td>\n",
       "      <td>10.656150</td>\n",
       "      <td>13.804193</td>\n",
       "      <td>522</td>\n",
       "      <td>150</td>\n",
       "      <td>4</td>\n",
       "      <td>29.906667</td>\n",
       "      <td>26.622383</td>\n",
       "      <td>110</td>\n",
       "    </tr>\n",
       "    <tr>\n",
       "      <th>...</th>\n",
       "      <td>...</td>\n",
       "      <td>...</td>\n",
       "      <td>...</td>\n",
       "      <td>...</td>\n",
       "      <td>...</td>\n",
       "      <td>...</td>\n",
       "      <td>...</td>\n",
       "      <td>...</td>\n",
       "      <td>...</td>\n",
       "      <td>...</td>\n",
       "      <td>...</td>\n",
       "      <td>...</td>\n",
       "      <td>...</td>\n",
       "    </tr>\n",
       "    <tr>\n",
       "      <th>augmented_Confidence_Pruned_CCLE_absLogFC_ORF_max_Spearman_r_b_1_b_9.5</th>\n",
       "      <td>9.5</td>\n",
       "      <td>8573</td>\n",
       "      <td>39461</td>\n",
       "      <td>1</td>\n",
       "      <td>28</td>\n",
       "      <td>9.205879</td>\n",
       "      <td>15.144375</td>\n",
       "      <td>1896</td>\n",
       "      <td>179</td>\n",
       "      <td>4</td>\n",
       "      <td>35.949721</td>\n",
       "      <td>35.869452</td>\n",
       "      <td>175</td>\n",
       "    </tr>\n",
       "    <tr>\n",
       "      <th>augmented_Confidence_Pruned_CCLE_absLogFC_ORF_max_Spearman_r_b_1_b_9.600000000000001</th>\n",
       "      <td>9.6</td>\n",
       "      <td>8578</td>\n",
       "      <td>39480</td>\n",
       "      <td>1</td>\n",
       "      <td>26</td>\n",
       "      <td>9.204943</td>\n",
       "      <td>15.143495</td>\n",
       "      <td>1898</td>\n",
       "      <td>179</td>\n",
       "      <td>4</td>\n",
       "      <td>35.955307</td>\n",
       "      <td>35.874988</td>\n",
       "      <td>175</td>\n",
       "    </tr>\n",
       "    <tr>\n",
       "      <th>augmented_Confidence_Pruned_CCLE_absLogFC_ORF_max_Spearman_r_b_1_b_9.700000000000001</th>\n",
       "      <td>9.7</td>\n",
       "      <td>8580</td>\n",
       "      <td>39483</td>\n",
       "      <td>1</td>\n",
       "      <td>29</td>\n",
       "      <td>9.203497</td>\n",
       "      <td>15.142735</td>\n",
       "      <td>1899</td>\n",
       "      <td>179</td>\n",
       "      <td>4</td>\n",
       "      <td>35.960894</td>\n",
       "      <td>35.879588</td>\n",
       "      <td>175</td>\n",
       "    </tr>\n",
       "    <tr>\n",
       "      <th>augmented_Confidence_Pruned_CCLE_absLogFC_ORF_max_Spearman_r_b_1_b_9.8</th>\n",
       "      <td>9.8</td>\n",
       "      <td>8581</td>\n",
       "      <td>39484</td>\n",
       "      <td>1</td>\n",
       "      <td>29</td>\n",
       "      <td>9.202657</td>\n",
       "      <td>15.142167</td>\n",
       "      <td>1900</td>\n",
       "      <td>179</td>\n",
       "      <td>4</td>\n",
       "      <td>35.960894</td>\n",
       "      <td>35.879588</td>\n",
       "      <td>175</td>\n",
       "    </tr>\n",
       "    <tr>\n",
       "      <th>augmented_Confidence_Pruned_CCLE_absLogFC_ORF_max_Spearman_r_b_1_b_9.9</th>\n",
       "      <td>9.9</td>\n",
       "      <td>8584</td>\n",
       "      <td>39490</td>\n",
       "      <td>1</td>\n",
       "      <td>30</td>\n",
       "      <td>9.200839</td>\n",
       "      <td>15.140580</td>\n",
       "      <td>1901</td>\n",
       "      <td>179</td>\n",
       "      <td>4</td>\n",
       "      <td>35.966480</td>\n",
       "      <td>35.874844</td>\n",
       "      <td>175</td>\n",
       "    </tr>\n",
       "  </tbody>\n",
       "</table>\n",
       "<p>100 rows × 13 columns</p>\n",
       "</div>"
      ],
      "text/plain": [
       "                                                    beta  n_nodes  n_edges  \\\n",
       "augmented_Confidence_Pruned_CCLE_absLogFC_ORF_m...   0.0        0        0   \n",
       "augmented_Confidence_Pruned_CCLE_absLogFC_ORF_m...   0.1      580     3556   \n",
       "augmented_Confidence_Pruned_CCLE_absLogFC_ORF_m...   0.2     1542     8905   \n",
       "augmented_Confidence_Pruned_CCLE_absLogFC_ORF_m...   0.3     2556    13843   \n",
       "augmented_Confidence_Pruned_CCLE_absLogFC_ORF_m...   0.4     3423    18238   \n",
       "...                                                  ...      ...      ...   \n",
       "augmented_Confidence_Pruned_CCLE_absLogFC_ORF_m...   9.5     8573    39461   \n",
       "augmented_Confidence_Pruned_CCLE_absLogFC_ORF_m...   9.6     8578    39480   \n",
       "augmented_Confidence_Pruned_CCLE_absLogFC_ORF_m...   9.7     8580    39483   \n",
       "augmented_Confidence_Pruned_CCLE_absLogFC_ORF_m...   9.8     8581    39484   \n",
       "augmented_Confidence_Pruned_CCLE_absLogFC_ORF_m...   9.9     8584    39490   \n",
       "\n",
       "                                                    n_connected_components  \\\n",
       "augmented_Confidence_Pruned_CCLE_absLogFC_ORF_m...                       0   \n",
       "augmented_Confidence_Pruned_CCLE_absLogFC_ORF_m...                       1   \n",
       "augmented_Confidence_Pruned_CCLE_absLogFC_ORF_m...                       1   \n",
       "augmented_Confidence_Pruned_CCLE_absLogFC_ORF_m...                       1   \n",
       "augmented_Confidence_Pruned_CCLE_absLogFC_ORF_m...                       1   \n",
       "...                                                                    ...   \n",
       "augmented_Confidence_Pruned_CCLE_absLogFC_ORF_m...                       1   \n",
       "augmented_Confidence_Pruned_CCLE_absLogFC_ORF_m...                       1   \n",
       "augmented_Confidence_Pruned_CCLE_absLogFC_ORF_m...                       1   \n",
       "augmented_Confidence_Pruned_CCLE_absLogFC_ORF_m...                       1   \n",
       "augmented_Confidence_Pruned_CCLE_absLogFC_ORF_m...                       1   \n",
       "\n",
       "                                                    n_louvain_clusters  \\\n",
       "augmented_Confidence_Pruned_CCLE_absLogFC_ORF_m...                   0   \n",
       "augmented_Confidence_Pruned_CCLE_absLogFC_ORF_m...                  10   \n",
       "augmented_Confidence_Pruned_CCLE_absLogFC_ORF_m...                  16   \n",
       "augmented_Confidence_Pruned_CCLE_absLogFC_ORF_m...                  18   \n",
       "augmented_Confidence_Pruned_CCLE_absLogFC_ORF_m...                  20   \n",
       "...                                                                ...   \n",
       "augmented_Confidence_Pruned_CCLE_absLogFC_ORF_m...                  28   \n",
       "augmented_Confidence_Pruned_CCLE_absLogFC_ORF_m...                  26   \n",
       "augmented_Confidence_Pruned_CCLE_absLogFC_ORF_m...                  29   \n",
       "augmented_Confidence_Pruned_CCLE_absLogFC_ORF_m...                  29   \n",
       "augmented_Confidence_Pruned_CCLE_absLogFC_ORF_m...                  30   \n",
       "\n",
       "                                                    avg_node_degree  \\\n",
       "augmented_Confidence_Pruned_CCLE_absLogFC_ORF_m...              NaN   \n",
       "augmented_Confidence_Pruned_CCLE_absLogFC_ORF_m...        12.262069   \n",
       "augmented_Confidence_Pruned_CCLE_absLogFC_ORF_m...        11.549935   \n",
       "augmented_Confidence_Pruned_CCLE_absLogFC_ORF_m...        10.831768   \n",
       "augmented_Confidence_Pruned_CCLE_absLogFC_ORF_m...        10.656150   \n",
       "...                                                             ...   \n",
       "augmented_Confidence_Pruned_CCLE_absLogFC_ORF_m...         9.205879   \n",
       "augmented_Confidence_Pruned_CCLE_absLogFC_ORF_m...         9.204943   \n",
       "augmented_Confidence_Pruned_CCLE_absLogFC_ORF_m...         9.203497   \n",
       "augmented_Confidence_Pruned_CCLE_absLogFC_ORF_m...         9.202657   \n",
       "augmented_Confidence_Pruned_CCLE_absLogFC_ORF_m...         9.200839   \n",
       "\n",
       "                                                    std_node_degree  \\\n",
       "augmented_Confidence_Pruned_CCLE_absLogFC_ORF_m...              NaN   \n",
       "augmented_Confidence_Pruned_CCLE_absLogFC_ORF_m...        10.640048   \n",
       "augmented_Confidence_Pruned_CCLE_absLogFC_ORF_m...        12.561590   \n",
       "augmented_Confidence_Pruned_CCLE_absLogFC_ORF_m...        13.120419   \n",
       "augmented_Confidence_Pruned_CCLE_absLogFC_ORF_m...        13.804193   \n",
       "...                                                             ...   \n",
       "augmented_Confidence_Pruned_CCLE_absLogFC_ORF_m...        15.144375   \n",
       "augmented_Confidence_Pruned_CCLE_absLogFC_ORF_m...        15.143495   \n",
       "augmented_Confidence_Pruned_CCLE_absLogFC_ORF_m...        15.142735   \n",
       "augmented_Confidence_Pruned_CCLE_absLogFC_ORF_m...        15.142167   \n",
       "augmented_Confidence_Pruned_CCLE_absLogFC_ORF_m...        15.140580   \n",
       "\n",
       "                                                    n_leaf_nodes  \\\n",
       "augmented_Confidence_Pruned_CCLE_absLogFC_ORF_m...             0   \n",
       "augmented_Confidence_Pruned_CCLE_absLogFC_ORF_m...            30   \n",
       "augmented_Confidence_Pruned_CCLE_absLogFC_ORF_m...           150   \n",
       "augmented_Confidence_Pruned_CCLE_absLogFC_ORF_m...           348   \n",
       "augmented_Confidence_Pruned_CCLE_absLogFC_ORF_m...           522   \n",
       "...                                                          ...   \n",
       "augmented_Confidence_Pruned_CCLE_absLogFC_ORF_m...          1896   \n",
       "augmented_Confidence_Pruned_CCLE_absLogFC_ORF_m...          1898   \n",
       "augmented_Confidence_Pruned_CCLE_absLogFC_ORF_m...          1899   \n",
       "augmented_Confidence_Pruned_CCLE_absLogFC_ORF_m...          1900   \n",
       "augmented_Confidence_Pruned_CCLE_absLogFC_ORF_m...          1901   \n",
       "\n",
       "                                                    n_target_nodes  \\\n",
       "augmented_Confidence_Pruned_CCLE_absLogFC_ORF_m...               0   \n",
       "augmented_Confidence_Pruned_CCLE_absLogFC_ORF_m...             109   \n",
       "augmented_Confidence_Pruned_CCLE_absLogFC_ORF_m...             133   \n",
       "augmented_Confidence_Pruned_CCLE_absLogFC_ORF_m...             144   \n",
       "augmented_Confidence_Pruned_CCLE_absLogFC_ORF_m...             150   \n",
       "...                                                            ...   \n",
       "augmented_Confidence_Pruned_CCLE_absLogFC_ORF_m...             179   \n",
       "augmented_Confidence_Pruned_CCLE_absLogFC_ORF_m...             179   \n",
       "augmented_Confidence_Pruned_CCLE_absLogFC_ORF_m...             179   \n",
       "augmented_Confidence_Pruned_CCLE_absLogFC_ORF_m...             179   \n",
       "augmented_Confidence_Pruned_CCLE_absLogFC_ORF_m...             179   \n",
       "\n",
       "                                                    n_target_leafs  \\\n",
       "augmented_Confidence_Pruned_CCLE_absLogFC_ORF_m...               0   \n",
       "augmented_Confidence_Pruned_CCLE_absLogFC_ORF_m...               4   \n",
       "augmented_Confidence_Pruned_CCLE_absLogFC_ORF_m...               3   \n",
       "augmented_Confidence_Pruned_CCLE_absLogFC_ORF_m...               4   \n",
       "augmented_Confidence_Pruned_CCLE_absLogFC_ORF_m...               4   \n",
       "...                                                            ...   \n",
       "augmented_Confidence_Pruned_CCLE_absLogFC_ORF_m...               4   \n",
       "augmented_Confidence_Pruned_CCLE_absLogFC_ORF_m...               4   \n",
       "augmented_Confidence_Pruned_CCLE_absLogFC_ORF_m...               4   \n",
       "augmented_Confidence_Pruned_CCLE_absLogFC_ORF_m...               4   \n",
       "augmented_Confidence_Pruned_CCLE_absLogFC_ORF_m...               4   \n",
       "\n",
       "                                                    avg_target_degree  \\\n",
       "augmented_Confidence_Pruned_CCLE_absLogFC_ORF_m...                NaN   \n",
       "augmented_Confidence_Pruned_CCLE_absLogFC_ORF_m...          17.605505   \n",
       "augmented_Confidence_Pruned_CCLE_absLogFC_ORF_m...          24.428571   \n",
       "augmented_Confidence_Pruned_CCLE_absLogFC_ORF_m...          27.645833   \n",
       "augmented_Confidence_Pruned_CCLE_absLogFC_ORF_m...          29.906667   \n",
       "...                                                               ...   \n",
       "augmented_Confidence_Pruned_CCLE_absLogFC_ORF_m...          35.949721   \n",
       "augmented_Confidence_Pruned_CCLE_absLogFC_ORF_m...          35.955307   \n",
       "augmented_Confidence_Pruned_CCLE_absLogFC_ORF_m...          35.960894   \n",
       "augmented_Confidence_Pruned_CCLE_absLogFC_ORF_m...          35.960894   \n",
       "augmented_Confidence_Pruned_CCLE_absLogFC_ORF_m...          35.966480   \n",
       "\n",
       "                                                    std_target_degree  \\\n",
       "augmented_Confidence_Pruned_CCLE_absLogFC_ORF_m...                NaN   \n",
       "augmented_Confidence_Pruned_CCLE_absLogFC_ORF_m...          14.368683   \n",
       "augmented_Confidence_Pruned_CCLE_absLogFC_ORF_m...          20.281584   \n",
       "augmented_Confidence_Pruned_CCLE_absLogFC_ORF_m...          23.614811   \n",
       "augmented_Confidence_Pruned_CCLE_absLogFC_ORF_m...          26.622383   \n",
       "...                                                               ...   \n",
       "augmented_Confidence_Pruned_CCLE_absLogFC_ORF_m...          35.869452   \n",
       "augmented_Confidence_Pruned_CCLE_absLogFC_ORF_m...          35.874988   \n",
       "augmented_Confidence_Pruned_CCLE_absLogFC_ORF_m...          35.879588   \n",
       "augmented_Confidence_Pruned_CCLE_absLogFC_ORF_m...          35.879588   \n",
       "augmented_Confidence_Pruned_CCLE_absLogFC_ORF_m...          35.874844   \n",
       "\n",
       "                                                    n_death_nodes  \n",
       "augmented_Confidence_Pruned_CCLE_absLogFC_ORF_m...              0  \n",
       "augmented_Confidence_Pruned_CCLE_absLogFC_ORF_m...             48  \n",
       "augmented_Confidence_Pruned_CCLE_absLogFC_ORF_m...             82  \n",
       "augmented_Confidence_Pruned_CCLE_absLogFC_ORF_m...            105  \n",
       "augmented_Confidence_Pruned_CCLE_absLogFC_ORF_m...            110  \n",
       "...                                                           ...  \n",
       "augmented_Confidence_Pruned_CCLE_absLogFC_ORF_m...            175  \n",
       "augmented_Confidence_Pruned_CCLE_absLogFC_ORF_m...            175  \n",
       "augmented_Confidence_Pruned_CCLE_absLogFC_ORF_m...            175  \n",
       "augmented_Confidence_Pruned_CCLE_absLogFC_ORF_m...            175  \n",
       "augmented_Confidence_Pruned_CCLE_absLogFC_ORF_m...            175  \n",
       "\n",
       "[100 rows x 13 columns]"
      ]
     },
     "execution_count": 43,
     "metadata": {},
     "output_type": "execute_result"
    },
    {
     "data": {
      "application/javascript": [
       "\n",
       "            setTimeout(function() {\n",
       "                var nbb_cell_id = 43;\n",
       "                var nbb_unformatted_code = \"pcst_results_v3\";\n",
       "                var nbb_formatted_code = \"pcst_results_v3\";\n",
       "                var nbb_cells = Jupyter.notebook.get_cells();\n",
       "                for (var i = 0; i < nbb_cells.length; ++i) {\n",
       "                    if (nbb_cells[i].input_prompt_number == nbb_cell_id) {\n",
       "                        if (nbb_cells[i].get_text() == nbb_unformatted_code) {\n",
       "                             nbb_cells[i].set_text(nbb_formatted_code);\n",
       "                        }\n",
       "                        break;\n",
       "                    }\n",
       "                }\n",
       "            }, 500);\n",
       "            "
      ],
      "text/plain": [
       "<IPython.core.display.Javascript object>"
      ]
     },
     "metadata": {},
     "output_type": "display_data"
    }
   ],
   "source": [
    "pcst_results_v3"
   ]
  },
  {
   "cell_type": "code",
   "execution_count": 42,
   "id": "bb6030e7",
   "metadata": {},
   "outputs": [
    {
     "data": {
      "text/plain": [
       "{'augmented_Confidence_Pruned_CCLE_absLogFC_ORF_max_Spearman_r_b_1_b_0.0': <networkx.classes.graph.Graph at 0x7f5cefd79760>,\n",
       " 'augmented_Confidence_Pruned_CCLE_absLogFC_ORF_max_Spearman_r_b_1_b_0.1': <networkx.classes.graph.Graph at 0x7f5cefd792b0>,\n",
       " 'augmented_Confidence_Pruned_CCLE_absLogFC_ORF_max_Spearman_r_b_1_b_0.2': <networkx.classes.graph.Graph at 0x7f5cefd79b80>,\n",
       " 'augmented_Confidence_Pruned_CCLE_absLogFC_ORF_max_Spearman_r_b_1_b_0.30000000000000004': <networkx.classes.graph.Graph at 0x7f5cf2311a30>,\n",
       " 'augmented_Confidence_Pruned_CCLE_absLogFC_ORF_max_Spearman_r_b_1_b_0.4': <networkx.classes.graph.Graph at 0x7f5cf23114c0>,\n",
       " 'augmented_Confidence_Pruned_CCLE_absLogFC_ORF_max_Spearman_r_b_1_b_0.5': <networkx.classes.graph.Graph at 0x7f5cf2311df0>,\n",
       " 'augmented_Confidence_Pruned_CCLE_absLogFC_ORF_max_Spearman_r_b_1_b_0.6000000000000001': <networkx.classes.graph.Graph at 0x7f5cf1f13130>,\n",
       " 'augmented_Confidence_Pruned_CCLE_absLogFC_ORF_max_Spearman_r_b_1_b_0.7000000000000001': <networkx.classes.graph.Graph at 0x7f5cf1f13f70>,\n",
       " 'augmented_Confidence_Pruned_CCLE_absLogFC_ORF_max_Spearman_r_b_1_b_0.8': <networkx.classes.graph.Graph at 0x7f5cf1f13d90>,\n",
       " 'augmented_Confidence_Pruned_CCLE_absLogFC_ORF_max_Spearman_r_b_1_b_0.9': <networkx.classes.graph.Graph at 0x7f5cf1f13d00>,\n",
       " 'augmented_Confidence_Pruned_CCLE_absLogFC_ORF_max_Spearman_r_b_1_b_1.0': <networkx.classes.graph.Graph at 0x7f5cf1f137f0>,\n",
       " 'augmented_Confidence_Pruned_CCLE_absLogFC_ORF_max_Spearman_r_b_1_b_1.1': <networkx.classes.graph.Graph at 0x7f5cf22d2220>,\n",
       " 'augmented_Confidence_Pruned_CCLE_absLogFC_ORF_max_Spearman_r_b_1_b_1.2000000000000002': <networkx.classes.graph.Graph at 0x7f5cf22d28e0>,\n",
       " 'augmented_Confidence_Pruned_CCLE_absLogFC_ORF_max_Spearman_r_b_1_b_1.3': <networkx.classes.graph.Graph at 0x7f5cefd1bee0>,\n",
       " 'augmented_Confidence_Pruned_CCLE_absLogFC_ORF_max_Spearman_r_b_1_b_1.4000000000000001': <networkx.classes.graph.Graph at 0x7f5cf1b50b20>,\n",
       " 'augmented_Confidence_Pruned_CCLE_absLogFC_ORF_max_Spearman_r_b_1_b_1.5': <networkx.classes.graph.Graph at 0x7f5cf2180a90>,\n",
       " 'augmented_Confidence_Pruned_CCLE_absLogFC_ORF_max_Spearman_r_b_1_b_1.6': <networkx.classes.graph.Graph at 0x7f5cf1bdad30>,\n",
       " 'augmented_Confidence_Pruned_CCLE_absLogFC_ORF_max_Spearman_r_b_1_b_1.7000000000000002': <networkx.classes.graph.Graph at 0x7f5cf22393d0>,\n",
       " 'augmented_Confidence_Pruned_CCLE_absLogFC_ORF_max_Spearman_r_b_1_b_1.8': <networkx.classes.graph.Graph at 0x7f5cefa523d0>,\n",
       " 'augmented_Confidence_Pruned_CCLE_absLogFC_ORF_max_Spearman_r_b_1_b_1.9000000000000001': <networkx.classes.graph.Graph at 0x7f5cefa529d0>,\n",
       " 'augmented_Confidence_Pruned_CCLE_absLogFC_ORF_max_Spearman_r_b_1_b_2.0': <networkx.classes.graph.Graph at 0x7f5cefa52280>,\n",
       " 'augmented_Confidence_Pruned_CCLE_absLogFC_ORF_max_Spearman_r_b_1_b_2.1': <networkx.classes.graph.Graph at 0x7f5cefa521f0>,\n",
       " 'augmented_Confidence_Pruned_CCLE_absLogFC_ORF_max_Spearman_r_b_1_b_2.2': <networkx.classes.graph.Graph at 0x7f5cefa52f70>,\n",
       " 'augmented_Confidence_Pruned_CCLE_absLogFC_ORF_max_Spearman_r_b_1_b_2.3000000000000003': <networkx.classes.graph.Graph at 0x7f5cefb72cd0>,\n",
       " 'augmented_Confidence_Pruned_CCLE_absLogFC_ORF_max_Spearman_r_b_1_b_2.4000000000000004': <networkx.classes.graph.Graph at 0x7f5cefb72c70>,\n",
       " 'augmented_Confidence_Pruned_CCLE_absLogFC_ORF_max_Spearman_r_b_1_b_2.5': <networkx.classes.graph.Graph at 0x7f5cefb72a60>,\n",
       " 'augmented_Confidence_Pruned_CCLE_absLogFC_ORF_max_Spearman_r_b_1_b_2.6': <networkx.classes.graph.Graph at 0x7f5cefb72280>,\n",
       " 'augmented_Confidence_Pruned_CCLE_absLogFC_ORF_max_Spearman_r_b_1_b_2.7': <networkx.classes.graph.Graph at 0x7f5cec3d1160>,\n",
       " 'augmented_Confidence_Pruned_CCLE_absLogFC_ORF_max_Spearman_r_b_1_b_2.8000000000000003': <networkx.classes.graph.Graph at 0x7f5cec3d12e0>,\n",
       " 'augmented_Confidence_Pruned_CCLE_absLogFC_ORF_max_Spearman_r_b_1_b_2.9000000000000004': <networkx.classes.graph.Graph at 0x7f5cec3d17c0>,\n",
       " 'augmented_Confidence_Pruned_CCLE_absLogFC_ORF_max_Spearman_r_b_1_b_3.0': <networkx.classes.graph.Graph at 0x7f5cec3d1970>,\n",
       " 'augmented_Confidence_Pruned_CCLE_absLogFC_ORF_max_Spearman_r_b_1_b_3.1': <networkx.classes.graph.Graph at 0x7f5cec3d1c70>,\n",
       " 'augmented_Confidence_Pruned_CCLE_absLogFC_ORF_max_Spearman_r_b_1_b_3.2': <networkx.classes.graph.Graph at 0x7f5cec3d1f40>,\n",
       " 'augmented_Confidence_Pruned_CCLE_absLogFC_ORF_max_Spearman_r_b_1_b_3.3000000000000003': <networkx.classes.graph.Graph at 0x7f5ce9ae34f0>,\n",
       " 'augmented_Confidence_Pruned_CCLE_absLogFC_ORF_max_Spearman_r_b_1_b_3.4000000000000004': <networkx.classes.graph.Graph at 0x7f5ce9ae3670>,\n",
       " 'augmented_Confidence_Pruned_CCLE_absLogFC_ORF_max_Spearman_r_b_1_b_3.5': <networkx.classes.graph.Graph at 0x7f5ce9ae38b0>,\n",
       " 'augmented_Confidence_Pruned_CCLE_absLogFC_ORF_max_Spearman_r_b_1_b_3.6': <networkx.classes.graph.Graph at 0x7f5ce9ae3c70>,\n",
       " 'augmented_Confidence_Pruned_CCLE_absLogFC_ORF_max_Spearman_r_b_1_b_3.7': <networkx.classes.graph.Graph at 0x7f5ce9ae3eb0>,\n",
       " 'augmented_Confidence_Pruned_CCLE_absLogFC_ORF_max_Spearman_r_b_1_b_3.8000000000000003': <networkx.classes.graph.Graph at 0x7f5ce9d3e2e0>,\n",
       " 'augmented_Confidence_Pruned_CCLE_absLogFC_ORF_max_Spearman_r_b_1_b_3.9000000000000004': <networkx.classes.graph.Graph at 0x7f5ce9d3e520>,\n",
       " 'augmented_Confidence_Pruned_CCLE_absLogFC_ORF_max_Spearman_r_b_1_b_4.0': <networkx.classes.graph.Graph at 0x7f5ce9d3e910>,\n",
       " 'augmented_Confidence_Pruned_CCLE_absLogFC_ORF_max_Spearman_r_b_1_b_4.1000000000000005': <networkx.classes.graph.Graph at 0x7f5ce9d3eb50>,\n",
       " 'augmented_Confidence_Pruned_CCLE_absLogFC_ORF_max_Spearman_r_b_1_b_4.2': <networkx.classes.graph.Graph at 0x7f5ce9d3efa0>,\n",
       " 'augmented_Confidence_Pruned_CCLE_absLogFC_ORF_max_Spearman_r_b_1_b_4.3': <networkx.classes.graph.Graph at 0x7f5ce3558550>,\n",
       " 'augmented_Confidence_Pruned_CCLE_absLogFC_ORF_max_Spearman_r_b_1_b_4.4': <networkx.classes.graph.Graph at 0x7f5ce3558700>,\n",
       " 'augmented_Confidence_Pruned_CCLE_absLogFC_ORF_max_Spearman_r_b_1_b_4.5': <networkx.classes.graph.Graph at 0x7f5ce3558bb0>,\n",
       " 'augmented_Confidence_Pruned_CCLE_absLogFC_ORF_max_Spearman_r_b_1_b_4.6000000000000005': <networkx.classes.graph.Graph at 0x7f5ce3558d30>,\n",
       " 'augmented_Confidence_Pruned_CCLE_absLogFC_ORF_max_Spearman_r_b_1_b_4.7': <networkx.classes.graph.Graph at 0x7f5ce37cd1c0>,\n",
       " 'augmented_Confidence_Pruned_CCLE_absLogFC_ORF_max_Spearman_r_b_1_b_4.800000000000001': <networkx.classes.graph.Graph at 0x7f5ce37cd3d0>,\n",
       " 'augmented_Confidence_Pruned_CCLE_absLogFC_ORF_max_Spearman_r_b_1_b_4.9': <networkx.classes.graph.Graph at 0x7f5ce37cd880>,\n",
       " 'augmented_Confidence_Pruned_CCLE_absLogFC_ORF_max_Spearman_r_b_1_b_5.0': <networkx.classes.graph.Graph at 0x7f5ce37cda00>,\n",
       " 'augmented_Confidence_Pruned_CCLE_absLogFC_ORF_max_Spearman_r_b_1_b_5.1000000000000005': <networkx.classes.graph.Graph at 0x7f5ce37cd9d0>,\n",
       " 'augmented_Confidence_Pruned_CCLE_absLogFC_ORF_max_Spearman_r_b_1_b_5.2': <networkx.classes.graph.Graph at 0x7f5cea7e4040>,\n",
       " 'augmented_Confidence_Pruned_CCLE_absLogFC_ORF_max_Spearman_r_b_1_b_5.300000000000001': <networkx.classes.graph.Graph at 0x7f5cea7e43a0>,\n",
       " 'augmented_Confidence_Pruned_CCLE_absLogFC_ORF_max_Spearman_r_b_1_b_5.4': <networkx.classes.graph.Graph at 0x7f5cea7e4670>,\n",
       " 'augmented_Confidence_Pruned_CCLE_absLogFC_ORF_max_Spearman_r_b_1_b_5.5': <networkx.classes.graph.Graph at 0x7f5cea7e4c10>,\n",
       " 'augmented_Confidence_Pruned_CCLE_absLogFC_ORF_max_Spearman_r_b_1_b_5.6000000000000005': <networkx.classes.graph.Graph at 0x7f5cea7e4d90>,\n",
       " 'augmented_Confidence_Pruned_CCLE_absLogFC_ORF_max_Spearman_r_b_1_b_5.7': <networkx.classes.graph.Graph at 0x7f5cea5ae0d0>,\n",
       " 'augmented_Confidence_Pruned_CCLE_absLogFC_ORF_max_Spearman_r_b_1_b_5.800000000000001': <networkx.classes.graph.Graph at 0x7f5cea5ae3d0>,\n",
       " 'augmented_Confidence_Pruned_CCLE_absLogFC_ORF_max_Spearman_r_b_1_b_5.9': <networkx.classes.graph.Graph at 0x7f5cea5ae910>,\n",
       " 'augmented_Confidence_Pruned_CCLE_absLogFC_ORF_max_Spearman_r_b_1_b_6.0': <networkx.classes.graph.Graph at 0x7f5cea5aeac0>,\n",
       " 'augmented_Confidence_Pruned_CCLE_absLogFC_ORF_max_Spearman_r_b_1_b_6.1000000000000005': <networkx.classes.graph.Graph at 0x7f5cea5aef70>,\n",
       " 'augmented_Confidence_Pruned_CCLE_absLogFC_ORF_max_Spearman_r_b_1_b_6.2': <networkx.classes.graph.Graph at 0x7f5cea106130>,\n",
       " 'augmented_Confidence_Pruned_CCLE_absLogFC_ORF_max_Spearman_r_b_1_b_6.300000000000001': <networkx.classes.graph.Graph at 0x7f5cea1062b0>,\n",
       " 'augmented_Confidence_Pruned_CCLE_absLogFC_ORF_max_Spearman_r_b_1_b_6.4': <networkx.classes.graph.Graph at 0x7f5cea106730>,\n",
       " 'augmented_Confidence_Pruned_CCLE_absLogFC_ORF_max_Spearman_r_b_1_b_6.5': <networkx.classes.graph.Graph at 0x7f5cea106a30>,\n",
       " 'augmented_Confidence_Pruned_CCLE_absLogFC_ORF_max_Spearman_r_b_1_b_6.6000000000000005': <networkx.classes.graph.Graph at 0x7f5cea106d30>,\n",
       " 'augmented_Confidence_Pruned_CCLE_absLogFC_ORF_max_Spearman_r_b_1_b_6.7': <networkx.classes.graph.Graph at 0x7f5ce9c27310>,\n",
       " 'augmented_Confidence_Pruned_CCLE_absLogFC_ORF_max_Spearman_r_b_1_b_6.800000000000001': <networkx.classes.graph.Graph at 0x7f5ce9c27490>,\n",
       " 'augmented_Confidence_Pruned_CCLE_absLogFC_ORF_max_Spearman_r_b_1_b_6.9': <networkx.classes.graph.Graph at 0x7f5ce9c27970>,\n",
       " 'augmented_Confidence_Pruned_CCLE_absLogFC_ORF_max_Spearman_r_b_1_b_7.0': <networkx.classes.graph.Graph at 0x7f5ce9c27b20>,\n",
       " 'augmented_Confidence_Pruned_CCLE_absLogFC_ORF_max_Spearman_r_b_1_b_7.1000000000000005': <networkx.classes.graph.Graph at 0x7f5ce9c27fd0>,\n",
       " 'augmented_Confidence_Pruned_CCLE_absLogFC_ORF_max_Spearman_r_b_1_b_7.2': <networkx.classes.graph.Graph at 0x7f5ce8dc9190>,\n",
       " 'augmented_Confidence_Pruned_CCLE_absLogFC_ORF_max_Spearman_r_b_1_b_7.300000000000001': <networkx.classes.graph.Graph at 0x7f5ce8dc93d0>,\n",
       " 'augmented_Confidence_Pruned_CCLE_absLogFC_ORF_max_Spearman_r_b_1_b_7.4': <networkx.classes.graph.Graph at 0x7f5ce8dc9790>,\n",
       " 'augmented_Confidence_Pruned_CCLE_absLogFC_ORF_max_Spearman_r_b_1_b_7.5': <networkx.classes.graph.Graph at 0x7f5ce8dc9cd0>,\n",
       " 'augmented_Confidence_Pruned_CCLE_absLogFC_ORF_max_Spearman_r_b_1_b_7.6000000000000005': <networkx.classes.graph.Graph at 0x7f5ce8dc9e80>,\n",
       " 'augmented_Confidence_Pruned_CCLE_absLogFC_ORF_max_Spearman_r_b_1_b_7.7': <networkx.classes.graph.Graph at 0x7f5ce82ad370>,\n",
       " 'augmented_Confidence_Pruned_CCLE_absLogFC_ORF_max_Spearman_r_b_1_b_7.800000000000001': <networkx.classes.graph.Graph at 0x7f5ce82ad4f0>,\n",
       " 'augmented_Confidence_Pruned_CCLE_absLogFC_ORF_max_Spearman_r_b_1_b_7.9': <networkx.classes.graph.Graph at 0x7f5ce82ad9d0>,\n",
       " 'augmented_Confidence_Pruned_CCLE_absLogFC_ORF_max_Spearman_r_b_1_b_8.0': <networkx.classes.graph.Graph at 0x7f5ce82adb80>,\n",
       " 'augmented_Confidence_Pruned_CCLE_absLogFC_ORF_max_Spearman_r_b_1_b_8.1': <networkx.classes.graph.Graph at 0x7f5ce3f9c070>,\n",
       " 'augmented_Confidence_Pruned_CCLE_absLogFC_ORF_max_Spearman_r_b_1_b_8.200000000000001': <networkx.classes.graph.Graph at 0x7f5ce3f9c1f0>,\n",
       " 'augmented_Confidence_Pruned_CCLE_absLogFC_ORF_max_Spearman_r_b_1_b_8.3': <networkx.classes.graph.Graph at 0x7f5ce3f9c1c0>,\n",
       " 'augmented_Confidence_Pruned_CCLE_absLogFC_ORF_max_Spearman_r_b_1_b_8.4': <networkx.classes.graph.Graph at 0x7f5ce3f9c7f0>,\n",
       " 'augmented_Confidence_Pruned_CCLE_absLogFC_ORF_max_Spearman_r_b_1_b_8.5': <networkx.classes.graph.Graph at 0x7f5ce3f9cb80>,\n",
       " 'augmented_Confidence_Pruned_CCLE_absLogFC_ORF_max_Spearman_r_b_1_b_8.6': <networkx.classes.graph.Graph at 0x7f5ce3f9ce50>,\n",
       " 'augmented_Confidence_Pruned_CCLE_absLogFC_ORF_max_Spearman_r_b_1_b_8.700000000000001': <networkx.classes.graph.Graph at 0x7f5ce3bcd1c0>,\n",
       " 'augmented_Confidence_Pruned_CCLE_absLogFC_ORF_max_Spearman_r_b_1_b_8.8': <networkx.classes.graph.Graph at 0x7f5ce3bcd4c0>,\n",
       " 'augmented_Confidence_Pruned_CCLE_absLogFC_ORF_max_Spearman_r_b_1_b_8.9': <networkx.classes.graph.Graph at 0x7f5ce3bcd880>,\n",
       " 'augmented_Confidence_Pruned_CCLE_absLogFC_ORF_max_Spearman_r_b_1_b_9.0': <networkx.classes.graph.Graph at 0x7f5ce3bcdb50>,\n",
       " 'augmented_Confidence_Pruned_CCLE_absLogFC_ORF_max_Spearman_r_b_1_b_9.1': <networkx.classes.graph.Graph at 0x7f5ce3971040>,\n",
       " 'augmented_Confidence_Pruned_CCLE_absLogFC_ORF_max_Spearman_r_b_1_b_9.200000000000001': <networkx.classes.graph.Graph at 0x7f5ce3971250>,\n",
       " 'augmented_Confidence_Pruned_CCLE_absLogFC_ORF_max_Spearman_r_b_1_b_9.3': <networkx.classes.graph.Graph at 0x7f5ce3971730>,\n",
       " 'augmented_Confidence_Pruned_CCLE_absLogFC_ORF_max_Spearman_r_b_1_b_9.4': <networkx.classes.graph.Graph at 0x7f5ce39718b0>,\n",
       " 'augmented_Confidence_Pruned_CCLE_absLogFC_ORF_max_Spearman_r_b_1_b_9.5': <networkx.classes.graph.Graph at 0x7f5ce3971bb0>,\n",
       " 'augmented_Confidence_Pruned_CCLE_absLogFC_ORF_max_Spearman_r_b_1_b_9.600000000000001': <networkx.classes.graph.Graph at 0x7f5ce3971eb0>,\n",
       " 'augmented_Confidence_Pruned_CCLE_absLogFC_ORF_max_Spearman_r_b_1_b_9.700000000000001': <networkx.classes.graph.Graph at 0x7f5ce361c430>,\n",
       " 'augmented_Confidence_Pruned_CCLE_absLogFC_ORF_max_Spearman_r_b_1_b_9.8': <networkx.classes.graph.Graph at 0x7f5ce361c5b0>,\n",
       " 'augmented_Confidence_Pruned_CCLE_absLogFC_ORF_max_Spearman_r_b_1_b_9.9': <networkx.classes.graph.Graph at 0x7f5ce361c8e0>}"
      ]
     },
     "execution_count": 42,
     "metadata": {},
     "output_type": "execute_result"
    },
    {
     "data": {
      "application/javascript": [
       "\n",
       "            setTimeout(function() {\n",
       "                var nbb_cell_id = 42;\n",
       "                var nbb_unformatted_code = \"augmented_pcst_dict_v3\";\n",
       "                var nbb_formatted_code = \"augmented_pcst_dict_v3\";\n",
       "                var nbb_cells = Jupyter.notebook.get_cells();\n",
       "                for (var i = 0; i < nbb_cells.length; ++i) {\n",
       "                    if (nbb_cells[i].input_prompt_number == nbb_cell_id) {\n",
       "                        if (nbb_cells[i].get_text() == nbb_unformatted_code) {\n",
       "                             nbb_cells[i].set_text(nbb_formatted_code);\n",
       "                        }\n",
       "                        break;\n",
       "                    }\n",
       "                }\n",
       "            }, 500);\n",
       "            "
      ],
      "text/plain": [
       "<IPython.core.display.Javascript object>"
      ]
     },
     "metadata": {},
     "output_type": "display_data"
    }
   ],
   "source": [
    "augmented_pcst_dict_v3"
   ]
  },
  {
   "cell_type": "code",
   "execution_count": 11,
   "id": "4343cddf",
   "metadata": {},
   "outputs": [
    {
     "name": "stderr",
     "output_type": "stream",
     "text": [
      " 40%|████      | 40/99 [00:35<00:52,  1.13it/s]\n"
     ]
    },
    {
     "ename": "KeyboardInterrupt",
     "evalue": "",
     "output_type": "error",
     "traceback": [
      "\u001b[0;31m---------------------------------------------------------------------------\u001b[0m",
      "\u001b[0;31mKeyboardInterrupt\u001b[0m                         Traceback (most recent call last)",
      "\u001b[0;32m<ipython-input-11-865a755b62c1>\u001b[0m in \u001b[0;36m<module>\u001b[0;34m\u001b[0m\n\u001b[0;32m----> 1\u001b[0;31m \u001b[0mplot_node_ious\u001b[0m\u001b[0;34m(\u001b[0m\u001b[0mpcst_dict_v3\u001b[0m\u001b[0;34m)\u001b[0m\u001b[0;34m\u001b[0m\u001b[0;34m\u001b[0m\u001b[0m\n\u001b[0m",
      "\u001b[0;32m<ipython-input-4-c472dfc884fa>\u001b[0m in \u001b[0;36mplot_node_ious\u001b[0;34m(pcst_dict)\u001b[0m\n\u001b[1;32m      9\u001b[0m             \u001b[0mnodes_j\u001b[0m \u001b[0;34m=\u001b[0m \u001b[0mset\u001b[0m\u001b[0;34m(\u001b[0m\u001b[0mlist\u001b[0m\u001b[0;34m(\u001b[0m\u001b[0mtrees\u001b[0m\u001b[0;34m[\u001b[0m\u001b[0mj\u001b[0m\u001b[0;34m]\u001b[0m\u001b[0;34m.\u001b[0m\u001b[0mnodes\u001b[0m\u001b[0;34m(\u001b[0m\u001b[0;34m)\u001b[0m\u001b[0;34m)\u001b[0m\u001b[0;34m)\u001b[0m\u001b[0;34m\u001b[0m\u001b[0;34m\u001b[0m\u001b[0m\n\u001b[1;32m     10\u001b[0m \u001b[0;34m\u001b[0m\u001b[0m\n\u001b[0;32m---> 11\u001b[0;31m             \u001b[0;32mif\u001b[0m \u001b[0mlen\u001b[0m\u001b[0;34m(\u001b[0m\u001b[0mnodes_i\u001b[0m\u001b[0;34m.\u001b[0m\u001b[0munion\u001b[0m\u001b[0;34m(\u001b[0m\u001b[0mnodes_j\u001b[0m\u001b[0;34m)\u001b[0m\u001b[0;34m)\u001b[0m \u001b[0;34m==\u001b[0m \u001b[0;36m0\u001b[0m\u001b[0;34m:\u001b[0m\u001b[0;34m\u001b[0m\u001b[0;34m\u001b[0m\u001b[0m\n\u001b[0m\u001b[1;32m     12\u001b[0m                 \u001b[0mnode_ious\u001b[0m\u001b[0;34m[\u001b[0m\u001b[0mi\u001b[0m\u001b[0;34m,\u001b[0m \u001b[0mj\u001b[0m\u001b[0;34m]\u001b[0m \u001b[0;34m=\u001b[0m \u001b[0;36m0\u001b[0m\u001b[0;34m\u001b[0m\u001b[0;34m\u001b[0m\u001b[0m\n\u001b[1;32m     13\u001b[0m             \u001b[0;32melse\u001b[0m\u001b[0;34m:\u001b[0m\u001b[0;34m\u001b[0m\u001b[0;34m\u001b[0m\u001b[0m\n",
      "\u001b[0;31mKeyboardInterrupt\u001b[0m: "
     ]
    },
    {
     "data": {
      "image/png": "[encoded data removed]",
      "text/plain": [
       "<Figure size 432x288 with 1 Axes>"
      ]
     },
     "metadata": {
      "needs_background": "light"
     },
     "output_type": "display_data"
    },
    {
     "data": {
      "application/javascript": [
       "\n",
       "            setTimeout(function() {\n",
       "                var nbb_cell_id = 11;\n",
       "                var nbb_unformatted_code = \"plot_node_ious(pcst_dict_v3)\";\n",
       "                var nbb_formatted_code = \"plot_node_ious(pcst_dict_v3)\";\n",
       "                var nbb_cells = Jupyter.notebook.get_cells();\n",
       "                for (var i = 0; i < nbb_cells.length; ++i) {\n",
       "                    if (nbb_cells[i].input_prompt_number == nbb_cell_id) {\n",
       "                        if (nbb_cells[i].get_text() == nbb_unformatted_code) {\n",
       "                             nbb_cells[i].set_text(nbb_formatted_code);\n",
       "                        }\n",
       "                        break;\n",
       "                    }\n",
       "                }\n",
       "            }, 500);\n",
       "            "
      ],
      "text/plain": [
       "<IPython.core.display.Javascript object>"
      ]
     },
     "metadata": {},
     "output_type": "display_data"
    }
   ],
   "source": [
    "plot_node_ious(pcst_dict_v3)"
   ]
  },
  {
   "cell_type": "markdown",
   "id": "8bfeb4dc",
   "metadata": {},
   "source": [
    "### 2c. Interactome version 2\n",
    "\n",
    "The setup is as in version 1 but this time the edge weight is given by the bootstrap p-value for testing for zero Spearman correlation."
   ]
  },
  {
   "cell_type": "code",
   "execution_count": 167,
   "id": "c5e0e883",
   "metadata": {},
   "outputs": [
    {
     "name": "stderr",
     "output_type": "stream",
     "text": [
      "Compute PCSTs: 100%|██████████| 100/100 [00:14<00:00,  6.79it/s]\n",
      "Analyze tree: 100%|██████████| 100/100 [02:05<00:00,  1.25s/it]\n"
     ]
    },
    {
     "data": {
      "application/javascript": [
       "\n",
       "            setTimeout(function() {\n",
       "                var nbb_cell_id = 167;\n",
       "                var nbb_unformatted_code = \"pcst_dict_v2, augmented_pcst_dict_v2 = run_pcst_sensitivity_analyses(graph=ppi_v2, bs=bs)\\npcst_results_v2 = analyze_pcst_sensitivity_analyses_results(pcst_dict_v2, target_nodes=orf_targets, death_nodes=death_genes)\";\n",
       "                var nbb_formatted_code = \"pcst_dict_v2, augmented_pcst_dict_v2 = run_pcst_sensitivity_analyses(\\n    graph=ppi_v2, bs=bs\\n)\\npcst_results_v2 = analyze_pcst_sensitivity_analyses_results(\\n    pcst_dict_v2, target_nodes=orf_targets, death_nodes=death_genes\\n)\";\n",
       "                var nbb_cells = Jupyter.notebook.get_cells();\n",
       "                for (var i = 0; i < nbb_cells.length; ++i) {\n",
       "                    if (nbb_cells[i].input_prompt_number == nbb_cell_id) {\n",
       "                        if (nbb_cells[i].get_text() == nbb_unformatted_code) {\n",
       "                             nbb_cells[i].set_text(nbb_formatted_code);\n",
       "                        }\n",
       "                        break;\n",
       "                    }\n",
       "                }\n",
       "            }, 500);\n",
       "            "
      ],
      "text/plain": [
       "<IPython.core.display.Javascript object>"
      ]
     },
     "metadata": {},
     "output_type": "display_data"
    }
   ],
   "source": [
    "pcst_dict_v2, augmented_pcst_dict_v2 = run_pcst_sensitivity_analyses(\n",
    "    graph=ppi_v2, bs=bs\n",
    ")\n",
    "pcst_results_v2 = analyze_pcst_sensitivity_analyses_results(\n",
    "    pcst_dict_v2, target_nodes=orf_targets, death_nodes=death_genes\n",
    ")"
   ]
  },
  {
   "cell_type": "code",
   "execution_count": 213,
   "id": "fb17bfb3",
   "metadata": {},
   "outputs": [
    {
     "name": "stderr",
     "output_type": "stream",
     "text": [
      "100%|██████████| 99/99 [01:51<00:00,  1.13s/it]\n"
     ]
    },
    {
     "data": {
      "image/png": "[encoded data removed]",
      "text/plain": [
       "<Figure size 432x288 with 2 Axes>"
      ]
     },
     "metadata": {
      "needs_background": "light"
     },
     "output_type": "display_data"
    },
    {
     "data": {
      "application/javascript": [
       "\n",
       "            setTimeout(function() {\n",
       "                var nbb_cell_id = 213;\n",
       "                var nbb_unformatted_code = \"plot_node_ious(pcst_dict_v2)\";\n",
       "                var nbb_formatted_code = \"plot_node_ious(pcst_dict_v2)\";\n",
       "                var nbb_cells = Jupyter.notebook.get_cells();\n",
       "                for (var i = 0; i < nbb_cells.length; ++i) {\n",
       "                    if (nbb_cells[i].input_prompt_number == nbb_cell_id) {\n",
       "                        if (nbb_cells[i].get_text() == nbb_unformatted_code) {\n",
       "                             nbb_cells[i].set_text(nbb_formatted_code);\n",
       "                        }\n",
       "                        break;\n",
       "                    }\n",
       "                }\n",
       "            }, 500);\n",
       "            "
      ],
      "text/plain": [
       "<IPython.core.display.Javascript object>"
      ]
     },
     "metadata": {},
     "output_type": "display_data"
    }
   ],
   "source": [
    "plot_node_ious(pcst_dict_v2)"
   ]
  },
  {
   "cell_type": "markdown",
   "id": "49bca7da",
   "metadata": {},
   "source": [
    "### 2d. Interactome version 4\n",
    "\n",
    "As in version two but with ORF prizes set to the maximum abs logFC."
   ]
  },
  {
   "cell_type": "code",
   "execution_count": 34,
   "id": "ca245f36",
   "metadata": {},
   "outputs": [
    {
     "name": "stderr",
     "output_type": "stream",
     "text": [
      "Compute PCSTs: 100%|██████████| 100/100 [00:15<00:00,  6.61it/s]\n",
      "Analyze tree: 100%|██████████| 100/100 [01:56<00:00,  1.17s/it]\n"
     ]
    },
    {
     "data": {
      "application/javascript": [
       "\n",
       "            setTimeout(function() {\n",
       "                var nbb_cell_id = 34;\n",
       "                var nbb_unformatted_code = \"pcst_dict_v4, augmented_pcst_dict_v4 = run_pcst_sensitivity_analyses(\\n    graph=ppi_v4, bs=bs\\n)\\npcst_results_v4 = analyze_pcst_sensitivity_analyses_results(\\n    pcst_dict_v4, target_nodes=orf_targets, death_nodes=death_genes\\n)\";\n",
       "                var nbb_formatted_code = \"pcst_dict_v4, augmented_pcst_dict_v4 = run_pcst_sensitivity_analyses(\\n    graph=ppi_v4, bs=bs\\n)\\npcst_results_v4 = analyze_pcst_sensitivity_analyses_results(\\n    pcst_dict_v4, target_nodes=orf_targets, death_nodes=death_genes\\n)\";\n",
       "                var nbb_cells = Jupyter.notebook.get_cells();\n",
       "                for (var i = 0; i < nbb_cells.length; ++i) {\n",
       "                    if (nbb_cells[i].input_prompt_number == nbb_cell_id) {\n",
       "                        if (nbb_cells[i].get_text() == nbb_unformatted_code) {\n",
       "                             nbb_cells[i].set_text(nbb_formatted_code);\n",
       "                        }\n",
       "                        break;\n",
       "                    }\n",
       "                }\n",
       "            }, 500);\n",
       "            "
      ],
      "text/plain": [
       "<IPython.core.display.Javascript object>"
      ]
     },
     "metadata": {},
     "output_type": "display_data"
    }
   ],
   "source": [
    "pcst_dict_v4, augmented_pcst_dict_v4 = run_pcst_sensitivity_analyses(\n",
    "    graph=ppi_v4, bs=bs\n",
    ")\n",
    "pcst_results_v4 = analyze_pcst_sensitivity_analyses_results(\n",
    "    pcst_dict_v4, target_nodes=orf_targets, death_nodes=death_genes\n",
    ")"
   ]
  },
  {
   "cell_type": "code",
   "execution_count": 35,
   "id": "a1dcec09",
   "metadata": {},
   "outputs": [
    {
     "name": "stderr",
     "output_type": "stream",
     "text": [
      "100%|██████████| 99/99 [01:49<00:00,  1.10s/it]\n"
     ]
    },
    {
     "data": {
      "image/png": "[encoded data removed]",
      "text/plain": [
       "<Figure size 432x288 with 2 Axes>"
      ]
     },
     "metadata": {
      "needs_background": "light"
     },
     "output_type": "display_data"
    },
    {
     "data": {
      "application/javascript": [
       "\n",
       "            setTimeout(function() {\n",
       "                var nbb_cell_id = 35;\n",
       "                var nbb_unformatted_code = \"plot_node_ious(pcst_dict_v4)\";\n",
       "                var nbb_formatted_code = \"plot_node_ious(pcst_dict_v4)\";\n",
       "                var nbb_cells = Jupyter.notebook.get_cells();\n",
       "                for (var i = 0; i < nbb_cells.length; ++i) {\n",
       "                    if (nbb_cells[i].input_prompt_number == nbb_cell_id) {\n",
       "                        if (nbb_cells[i].get_text() == nbb_unformatted_code) {\n",
       "                             nbb_cells[i].set_text(nbb_formatted_code);\n",
       "                        }\n",
       "                        break;\n",
       "                    }\n",
       "                }\n",
       "            }, 500);\n",
       "            "
      ],
      "text/plain": [
       "<IPython.core.display.Javascript object>"
      ]
     },
     "metadata": {},
     "output_type": "display_data"
    }
   ],
   "source": [
    "plot_node_ious(pcst_dict_v4)"
   ]
  },
  {
   "cell_type": "markdown",
   "id": "0a29cc93",
   "metadata": {},
   "source": [
    "---\n",
    "\n",
    "### 2e. Visualization of the results"
   ]
  },
  {
   "cell_type": "code",
   "execution_count": 171,
   "id": "d58533b7",
   "metadata": {},
   "outputs": [
    {
     "data": {
      "image/png": "[encoded data removed]",
      "text/plain": [
       "<Figure size 432x288 with 1 Axes>"
      ]
     },
     "metadata": {
      "needs_background": "light"
     },
     "output_type": "display_data"
    },
    {
     "data": {
      "application/javascript": [
       "\n",
       "            setTimeout(function() {\n",
       "                var nbb_cell_id = 171;\n",
       "                var nbb_unformatted_code = \"fig, ax = plt.subplots()\\nsns.lineplot(data=pcst_results_v1_scaled, x=\\\"beta\\\", y=\\\"n_nodes\\\", ax=ax, label=ppi_v1.name)\\nsns.lineplot(data=pcst_results_v2_scaled, x=\\\"beta\\\", y=\\\"n_nodes\\\", ax=ax, label=ppi_v2.name)\\nsns.lineplot(data=pcst_results_v3_scaled, x=\\\"beta\\\", y=\\\"n_nodes\\\", ax=ax, label=ppi_v3.name)\\nsns.lineplot(data=pcst_results_v4_scaled, x=\\\"beta\\\", y=\\\"n_nodes\\\", ax=ax, label=ppi_v4.name)\\nplt.legend(bbox_to_anchor=(-0.1, -0.2), loc=2, borderaxespad=0, ncol=1, prop={\\\"size\\\": 12})\\nplt.show()\";\n",
       "                var nbb_formatted_code = \"fig, ax = plt.subplots()\\nsns.lineplot(\\n    data=pcst_results_v1_scaled, x=\\\"beta\\\", y=\\\"n_nodes\\\", ax=ax, label=ppi_v1.name\\n)\\nsns.lineplot(\\n    data=pcst_results_v2_scaled, x=\\\"beta\\\", y=\\\"n_nodes\\\", ax=ax, label=ppi_v2.name\\n)\\nsns.lineplot(\\n    data=pcst_results_v3_scaled, x=\\\"beta\\\", y=\\\"n_nodes\\\", ax=ax, label=ppi_v3.name\\n)\\nsns.lineplot(\\n    data=pcst_results_v4_scaled, x=\\\"beta\\\", y=\\\"n_nodes\\\", ax=ax, label=ppi_v4.name\\n)\\nplt.legend(\\n    bbox_to_anchor=(-0.1, -0.2), loc=2, borderaxespad=0, ncol=1, prop={\\\"size\\\": 12}\\n)\\nplt.show()\";\n",
       "                var nbb_cells = Jupyter.notebook.get_cells();\n",
       "                for (var i = 0; i < nbb_cells.length; ++i) {\n",
       "                    if (nbb_cells[i].input_prompt_number == nbb_cell_id) {\n",
       "                        if (nbb_cells[i].get_text() == nbb_unformatted_code) {\n",
       "                             nbb_cells[i].set_text(nbb_formatted_code);\n",
       "                        }\n",
       "                        break;\n",
       "                    }\n",
       "                }\n",
       "            }, 500);\n",
       "            "
      ],
      "text/plain": [
       "<IPython.core.display.Javascript object>"
      ]
     },
     "metadata": {},
     "output_type": "display_data"
    }
   ],
   "source": [
    "fig, ax = plt.subplots()\n",
    "sns.lineplot(\n",
    "    data=pcst_results_v1_scaled, x=\"beta\", y=\"n_nodes\", ax=ax, label=ppi_v1.name\n",
    ")\n",
    "sns.lineplot(\n",
    "    data=pcst_results_v2_scaled, x=\"beta\", y=\"n_nodes\", ax=ax, label=ppi_v2.name\n",
    ")\n",
    "sns.lineplot(\n",
    "    data=pcst_results_v3_scaled, x=\"beta\", y=\"n_nodes\", ax=ax, label=ppi_v3.name\n",
    ")\n",
    "sns.lineplot(\n",
    "    data=pcst_results_v4_scaled, x=\"beta\", y=\"n_nodes\", ax=ax, label=ppi_v4.name\n",
    ")\n",
    "plt.legend(\n",
    "    bbox_to_anchor=(-0.1, -0.2), loc=2, borderaxespad=0, ncol=1, prop={\"size\": 12}\n",
    ")\n",
    "plt.show()"
   ]
  },
  {
   "cell_type": "code",
   "execution_count": 175,
   "id": "7de44c1c",
   "metadata": {},
   "outputs": [
    {
     "data": {
      "image/png": "[encoded data removed]",
      "text/plain": [
       "<Figure size 432x288 with 1 Axes>"
      ]
     },
     "metadata": {
      "needs_background": "light"
     },
     "output_type": "display_data"
    },
    {
     "data": {
      "application/javascript": [
       "\n",
       "            setTimeout(function() {\n",
       "                var nbb_cell_id = 175;\n",
       "                var nbb_unformatted_code = \"fig, ax = plt.subplots()\\nsns.lineplot(data=pcst_results_v1, x=\\\"beta\\\", y=\\\"n_nodes\\\", ax=ax, label=ppi_v1.name)\\nsns.lineplot(data=pcst_results_v2, x=\\\"beta\\\", y=\\\"n_nodes\\\", ax=ax, label=ppi_v2.name)\\nsns.lineplot(data=pcst_results_v3, x=\\\"beta\\\", y=\\\"n_nodes\\\", ax=ax, label=ppi_v3.name)\\nsns.lineplot(data=pcst_results_v4, x=\\\"beta\\\", y=\\\"n_nodes\\\", ax=ax, label=ppi_v4.name)\\nplt.legend(bbox_to_anchor=(-0.1, -0.2), loc=2, borderaxespad=0, ncol=1, prop={\\\"size\\\": 12})\\nplt.show()\";\n",
       "                var nbb_formatted_code = \"fig, ax = plt.subplots()\\nsns.lineplot(data=pcst_results_v1, x=\\\"beta\\\", y=\\\"n_nodes\\\", ax=ax, label=ppi_v1.name)\\nsns.lineplot(data=pcst_results_v2, x=\\\"beta\\\", y=\\\"n_nodes\\\", ax=ax, label=ppi_v2.name)\\nsns.lineplot(data=pcst_results_v3, x=\\\"beta\\\", y=\\\"n_nodes\\\", ax=ax, label=ppi_v3.name)\\nsns.lineplot(data=pcst_results_v4, x=\\\"beta\\\", y=\\\"n_nodes\\\", ax=ax, label=ppi_v4.name)\\nplt.legend(\\n    bbox_to_anchor=(-0.1, -0.2), loc=2, borderaxespad=0, ncol=1, prop={\\\"size\\\": 12}\\n)\\nplt.show()\";\n",
       "                var nbb_cells = Jupyter.notebook.get_cells();\n",
       "                for (var i = 0; i < nbb_cells.length; ++i) {\n",
       "                    if (nbb_cells[i].input_prompt_number == nbb_cell_id) {\n",
       "                        if (nbb_cells[i].get_text() == nbb_unformatted_code) {\n",
       "                             nbb_cells[i].set_text(nbb_formatted_code);\n",
       "                        }\n",
       "                        break;\n",
       "                    }\n",
       "                }\n",
       "            }, 500);\n",
       "            "
      ],
      "text/plain": [
       "<IPython.core.display.Javascript object>"
      ]
     },
     "metadata": {},
     "output_type": "display_data"
    }
   ],
   "source": [
    "fig, ax = plt.subplots()\n",
    "sns.lineplot(data=pcst_results_v1, x=\"beta\", y=\"n_nodes\", ax=ax, label=ppi_v1.name)\n",
    "sns.lineplot(data=pcst_results_v2, x=\"beta\", y=\"n_nodes\", ax=ax, label=ppi_v2.name)\n",
    "sns.lineplot(data=pcst_results_v3, x=\"beta\", y=\"n_nodes\", ax=ax, label=ppi_v3.name)\n",
    "sns.lineplot(data=pcst_results_v4, x=\"beta\", y=\"n_nodes\", ax=ax, label=ppi_v4.name)\n",
    "plt.legend(\n",
    "    bbox_to_anchor=(-0.1, -0.2), loc=2, borderaxespad=0, ncol=1, prop={\"size\": 12}\n",
    ")\n",
    "plt.show()"
   ]
  },
  {
   "cell_type": "code",
   "execution_count": 176,
   "id": "ee53805d",
   "metadata": {},
   "outputs": [
    {
     "data": {
      "image/png": "[encoded data removed]",
      "text/plain": [
       "<Figure size 432x288 with 1 Axes>"
      ]
     },
     "metadata": {
      "needs_background": "light"
     },
     "output_type": "display_data"
    },
    {
     "data": {
      "application/javascript": [
       "\n",
       "            setTimeout(function() {\n",
       "                var nbb_cell_id = 176;\n",
       "                var nbb_unformatted_code = \"fig, ax = plt.subplots()\\nsns.lineplot(data=pcst_results_v1, x=\\\"beta\\\", y=\\\"avg_node_degree\\\", ax=ax, label=ppi_v1.name)\\nsns.lineplot(data=pcst_results_v2, x=\\\"beta\\\", y=\\\"avg_node_degree\\\", ax=ax, label=ppi_v2.name)\\nsns.lineplot(data=pcst_results_v3, x=\\\"beta\\\", y=\\\"avg_node_degree\\\", ax=ax, label=ppi_v3.name)\\nsns.lineplot(data=pcst_results_v4, x=\\\"beta\\\", y=\\\"avg_node_degree\\\", ax=ax, label=ppi_v4.name)\\nplt.legend(bbox_to_anchor=(-0.1, -0.2), loc=2, borderaxespad=0, ncol=1, prop={\\\"size\\\": 12})\\nplt.show()\";\n",
       "                var nbb_formatted_code = \"fig, ax = plt.subplots()\\nsns.lineplot(\\n    data=pcst_results_v1, x=\\\"beta\\\", y=\\\"avg_node_degree\\\", ax=ax, label=ppi_v1.name\\n)\\nsns.lineplot(\\n    data=pcst_results_v2, x=\\\"beta\\\", y=\\\"avg_node_degree\\\", ax=ax, label=ppi_v2.name\\n)\\nsns.lineplot(\\n    data=pcst_results_v3, x=\\\"beta\\\", y=\\\"avg_node_degree\\\", ax=ax, label=ppi_v3.name\\n)\\nsns.lineplot(\\n    data=pcst_results_v4, x=\\\"beta\\\", y=\\\"avg_node_degree\\\", ax=ax, label=ppi_v4.name\\n)\\nplt.legend(\\n    bbox_to_anchor=(-0.1, -0.2), loc=2, borderaxespad=0, ncol=1, prop={\\\"size\\\": 12}\\n)\\nplt.show()\";\n",
       "                var nbb_cells = Jupyter.notebook.get_cells();\n",
       "                for (var i = 0; i < nbb_cells.length; ++i) {\n",
       "                    if (nbb_cells[i].input_prompt_number == nbb_cell_id) {\n",
       "                        if (nbb_cells[i].get_text() == nbb_unformatted_code) {\n",
       "                             nbb_cells[i].set_text(nbb_formatted_code);\n",
       "                        }\n",
       "                        break;\n",
       "                    }\n",
       "                }\n",
       "            }, 500);\n",
       "            "
      ],
      "text/plain": [
       "<IPython.core.display.Javascript object>"
      ]
     },
     "metadata": {},
     "output_type": "display_data"
    }
   ],
   "source": [
    "fig, ax = plt.subplots()\n",
    "sns.lineplot(\n",
    "    data=pcst_results_v1, x=\"beta\", y=\"avg_node_degree\", ax=ax, label=ppi_v1.name\n",
    ")\n",
    "sns.lineplot(\n",
    "    data=pcst_results_v2, x=\"beta\", y=\"avg_node_degree\", ax=ax, label=ppi_v2.name\n",
    ")\n",
    "sns.lineplot(\n",
    "    data=pcst_results_v3, x=\"beta\", y=\"avg_node_degree\", ax=ax, label=ppi_v3.name\n",
    ")\n",
    "sns.lineplot(\n",
    "    data=pcst_results_v4, x=\"beta\", y=\"avg_node_degree\", ax=ax, label=ppi_v4.name\n",
    ")\n",
    "plt.legend(\n",
    "    bbox_to_anchor=(-0.1, -0.2), loc=2, borderaxespad=0, ncol=1, prop={\"size\": 12}\n",
    ")\n",
    "plt.show()"
   ]
  },
  {
   "cell_type": "code",
   "execution_count": 177,
   "id": "30229397",
   "metadata": {},
   "outputs": [
    {
     "data": {
      "image/png": "[encoded data removed]",
      "text/plain": [
       "<Figure size 432x288 with 1 Axes>"
      ]
     },
     "metadata": {
      "needs_background": "light"
     },
     "output_type": "display_data"
    },
    {
     "data": {
      "application/javascript": [
       "\n",
       "            setTimeout(function() {\n",
       "                var nbb_cell_id = 177;\n",
       "                var nbb_unformatted_code = \"fig, ax = plt.subplots()\\nsns.lineplot(data=pcst_results_v1, x=\\\"beta\\\", y=\\\"n_target_nodes\\\", ax=ax, label=ppi_v1.name)\\nsns.lineplot(data=pcst_results_v2, x=\\\"beta\\\", y=\\\"n_target_nodes\\\", ax=ax, label=ppi_v2.name)\\nsns.lineplot(data=pcst_results_v3, x=\\\"beta\\\", y=\\\"n_target_nodes\\\", ax=ax, label=ppi_v3.name)\\nsns.lineplot(data=pcst_results_v4, x=\\\"beta\\\", y=\\\"n_target_nodes\\\", ax=ax, label=ppi_v4.name)\\nplt.legend(bbox_to_anchor=(-0.1, -0.2), loc=2, borderaxespad=0, ncol=1, prop={\\\"size\\\": 12})\\nplt.show()\";\n",
       "                var nbb_formatted_code = \"fig, ax = plt.subplots()\\nsns.lineplot(\\n    data=pcst_results_v1, x=\\\"beta\\\", y=\\\"n_target_nodes\\\", ax=ax, label=ppi_v1.name\\n)\\nsns.lineplot(\\n    data=pcst_results_v2, x=\\\"beta\\\", y=\\\"n_target_nodes\\\", ax=ax, label=ppi_v2.name\\n)\\nsns.lineplot(\\n    data=pcst_results_v3, x=\\\"beta\\\", y=\\\"n_target_nodes\\\", ax=ax, label=ppi_v3.name\\n)\\nsns.lineplot(\\n    data=pcst_results_v4, x=\\\"beta\\\", y=\\\"n_target_nodes\\\", ax=ax, label=ppi_v4.name\\n)\\nplt.legend(\\n    bbox_to_anchor=(-0.1, -0.2), loc=2, borderaxespad=0, ncol=1, prop={\\\"size\\\": 12}\\n)\\nplt.show()\";\n",
       "                var nbb_cells = Jupyter.notebook.get_cells();\n",
       "                for (var i = 0; i < nbb_cells.length; ++i) {\n",
       "                    if (nbb_cells[i].input_prompt_number == nbb_cell_id) {\n",
       "                        if (nbb_cells[i].get_text() == nbb_unformatted_code) {\n",
       "                             nbb_cells[i].set_text(nbb_formatted_code);\n",
       "                        }\n",
       "                        break;\n",
       "                    }\n",
       "                }\n",
       "            }, 500);\n",
       "            "
      ],
      "text/plain": [
       "<IPython.core.display.Javascript object>"
      ]
     },
     "metadata": {},
     "output_type": "display_data"
    }
   ],
   "source": [
    "fig, ax = plt.subplots()\n",
    "sns.lineplot(\n",
    "    data=pcst_results_v1, x=\"beta\", y=\"n_target_nodes\", ax=ax, label=ppi_v1.name\n",
    ")\n",
    "sns.lineplot(\n",
    "    data=pcst_results_v2, x=\"beta\", y=\"n_target_nodes\", ax=ax, label=ppi_v2.name\n",
    ")\n",
    "sns.lineplot(\n",
    "    data=pcst_results_v3, x=\"beta\", y=\"n_target_nodes\", ax=ax, label=ppi_v3.name\n",
    ")\n",
    "sns.lineplot(\n",
    "    data=pcst_results_v4, x=\"beta\", y=\"n_target_nodes\", ax=ax, label=ppi_v4.name\n",
    ")\n",
    "plt.legend(\n",
    "    bbox_to_anchor=(-0.1, -0.2), loc=2, borderaxespad=0, ncol=1, prop={\"size\": 12}\n",
    ")\n",
    "plt.show()"
   ]
  },
  {
   "cell_type": "code",
   "execution_count": 178,
   "id": "3b7f9e38",
   "metadata": {},
   "outputs": [
    {
     "data": {
      "image/png": "[encoded data removed]",
      "text/plain": [
       "<Figure size 432x288 with 1 Axes>"
      ]
     },
     "metadata": {
      "needs_background": "light"
     },
     "output_type": "display_data"
    },
    {
     "data": {
      "application/javascript": [
       "\n",
       "            setTimeout(function() {\n",
       "                var nbb_cell_id = 178;\n",
       "                var nbb_unformatted_code = \"fig, ax = plt.subplots()\\nsns.lineplot(data=pcst_results_v1, x=\\\"beta\\\", y=\\\"n_death_nodes\\\", ax=ax, label=ppi_v1.name)\\nsns.lineplot(data=pcst_results_v2, x=\\\"beta\\\", y=\\\"n_death_nodes\\\", ax=ax, label=ppi_v2.name)\\nsns.lineplot(data=pcst_results_v3, x=\\\"beta\\\", y=\\\"n_death_nodes\\\", ax=ax, label=ppi_v3.name)\\nsns.lineplot(data=pcst_results_v4, x=\\\"beta\\\", y=\\\"n_death_nodes\\\", ax=ax, label=ppi_v4.name)\\nplt.legend(bbox_to_anchor=(-0.1, -0.2), loc=2, borderaxespad=0, ncol=1, prop={\\\"size\\\": 12})\\nplt.show()\";\n",
       "                var nbb_formatted_code = \"fig, ax = plt.subplots()\\nsns.lineplot(\\n    data=pcst_results_v1, x=\\\"beta\\\", y=\\\"n_death_nodes\\\", ax=ax, label=ppi_v1.name\\n)\\nsns.lineplot(\\n    data=pcst_results_v2, x=\\\"beta\\\", y=\\\"n_death_nodes\\\", ax=ax, label=ppi_v2.name\\n)\\nsns.lineplot(\\n    data=pcst_results_v3, x=\\\"beta\\\", y=\\\"n_death_nodes\\\", ax=ax, label=ppi_v3.name\\n)\\nsns.lineplot(\\n    data=pcst_results_v4, x=\\\"beta\\\", y=\\\"n_death_nodes\\\", ax=ax, label=ppi_v4.name\\n)\\nplt.legend(\\n    bbox_to_anchor=(-0.1, -0.2), loc=2, borderaxespad=0, ncol=1, prop={\\\"size\\\": 12}\\n)\\nplt.show()\";\n",
       "                var nbb_cells = Jupyter.notebook.get_cells();\n",
       "                for (var i = 0; i < nbb_cells.length; ++i) {\n",
       "                    if (nbb_cells[i].input_prompt_number == nbb_cell_id) {\n",
       "                        if (nbb_cells[i].get_text() == nbb_unformatted_code) {\n",
       "                             nbb_cells[i].set_text(nbb_formatted_code);\n",
       "                        }\n",
       "                        break;\n",
       "                    }\n",
       "                }\n",
       "            }, 500);\n",
       "            "
      ],
      "text/plain": [
       "<IPython.core.display.Javascript object>"
      ]
     },
     "metadata": {},
     "output_type": "display_data"
    }
   ],
   "source": [
    "fig, ax = plt.subplots()\n",
    "sns.lineplot(\n",
    "    data=pcst_results_v1, x=\"beta\", y=\"n_death_nodes\", ax=ax, label=ppi_v1.name\n",
    ")\n",
    "sns.lineplot(\n",
    "    data=pcst_results_v2, x=\"beta\", y=\"n_death_nodes\", ax=ax, label=ppi_v2.name\n",
    ")\n",
    "sns.lineplot(\n",
    "    data=pcst_results_v3, x=\"beta\", y=\"n_death_nodes\", ax=ax, label=ppi_v3.name\n",
    ")\n",
    "sns.lineplot(\n",
    "    data=pcst_results_v4, x=\"beta\", y=\"n_death_nodes\", ax=ax, label=ppi_v4.name\n",
    ")\n",
    "plt.legend(\n",
    "    bbox_to_anchor=(-0.1, -0.2), loc=2, borderaxespad=0, ncol=1, prop={\"size\": 12}\n",
    ")\n",
    "plt.show()"
   ]
  },
  {
   "cell_type": "code",
   "execution_count": 179,
   "id": "3dd28895",
   "metadata": {},
   "outputs": [
    {
     "data": {
      "image/png": "[encoded data removed]",
      "text/plain": [
       "<Figure size 432x288 with 1 Axes>"
      ]
     },
     "metadata": {
      "needs_background": "light"
     },
     "output_type": "display_data"
    },
    {
     "data": {
      "application/javascript": [
       "\n",
       "            setTimeout(function() {\n",
       "                var nbb_cell_id = 179;\n",
       "                var nbb_unformatted_code = \"fig, ax = plt.subplots()\\nsns.lineplot(data=pcst_results_v1, x=\\\"beta\\\", y=\\\"n_target_leafs\\\", ax=ax, label=ppi_v1.name)\\nsns.lineplot(data=pcst_results_v2, x=\\\"beta\\\", y=\\\"n_target_leafs\\\", ax=ax, label=ppi_v2.name)\\nsns.lineplot(data=pcst_results_v3, x=\\\"beta\\\", y=\\\"n_target_leafs\\\", ax=ax, label=ppi_v3.name)\\nsns.lineplot(data=pcst_results_v4, x=\\\"beta\\\", y=\\\"n_target_leafs\\\", ax=ax, label=ppi_v4.name)\\nplt.legend(bbox_to_anchor=(-0.1, -0.2), loc=2, borderaxespad=0, ncol=1, prop={\\\"size\\\": 12})\\nplt.show()\";\n",
       "                var nbb_formatted_code = \"fig, ax = plt.subplots()\\nsns.lineplot(\\n    data=pcst_results_v1, x=\\\"beta\\\", y=\\\"n_target_leafs\\\", ax=ax, label=ppi_v1.name\\n)\\nsns.lineplot(\\n    data=pcst_results_v2, x=\\\"beta\\\", y=\\\"n_target_leafs\\\", ax=ax, label=ppi_v2.name\\n)\\nsns.lineplot(\\n    data=pcst_results_v3, x=\\\"beta\\\", y=\\\"n_target_leafs\\\", ax=ax, label=ppi_v3.name\\n)\\nsns.lineplot(\\n    data=pcst_results_v4, x=\\\"beta\\\", y=\\\"n_target_leafs\\\", ax=ax, label=ppi_v4.name\\n)\\nplt.legend(\\n    bbox_to_anchor=(-0.1, -0.2), loc=2, borderaxespad=0, ncol=1, prop={\\\"size\\\": 12}\\n)\\nplt.show()\";\n",
       "                var nbb_cells = Jupyter.notebook.get_cells();\n",
       "                for (var i = 0; i < nbb_cells.length; ++i) {\n",
       "                    if (nbb_cells[i].input_prompt_number == nbb_cell_id) {\n",
       "                        if (nbb_cells[i].get_text() == nbb_unformatted_code) {\n",
       "                             nbb_cells[i].set_text(nbb_formatted_code);\n",
       "                        }\n",
       "                        break;\n",
       "                    }\n",
       "                }\n",
       "            }, 500);\n",
       "            "
      ],
      "text/plain": [
       "<IPython.core.display.Javascript object>"
      ]
     },
     "metadata": {},
     "output_type": "display_data"
    }
   ],
   "source": [
    "fig, ax = plt.subplots()\n",
    "sns.lineplot(\n",
    "    data=pcst_results_v1, x=\"beta\", y=\"n_target_leafs\", ax=ax, label=ppi_v1.name\n",
    ")\n",
    "sns.lineplot(\n",
    "    data=pcst_results_v2, x=\"beta\", y=\"n_target_leafs\", ax=ax, label=ppi_v2.name\n",
    ")\n",
    "sns.lineplot(\n",
    "    data=pcst_results_v3, x=\"beta\", y=\"n_target_leafs\", ax=ax, label=ppi_v3.name\n",
    ")\n",
    "sns.lineplot(\n",
    "    data=pcst_results_v4, x=\"beta\", y=\"n_target_leafs\", ax=ax, label=ppi_v4.name\n",
    ")\n",
    "plt.legend(\n",
    "    bbox_to_anchor=(-0.1, -0.2), loc=2, borderaxespad=0, ncol=1, prop={\"size\": 12}\n",
    ")\n",
    "plt.show()"
   ]
  },
  {
   "cell_type": "code",
   "execution_count": 180,
   "id": "4cd83638",
   "metadata": {},
   "outputs": [
    {
     "data": {
      "image/png": "[encoded data removed]",
      "text/plain": [
       "<Figure size 432x288 with 1 Axes>"
      ]
     },
     "metadata": {
      "needs_background": "light"
     },
     "output_type": "display_data"
    },
    {
     "data": {
      "application/javascript": [
       "\n",
       "            setTimeout(function() {\n",
       "                var nbb_cell_id = 180;\n",
       "                var nbb_unformatted_code = \"fig, ax = plt.subplots()\\nsns.lineplot(data=pcst_results_v1, x=\\\"beta\\\", y=\\\"avg_target_degree\\\", ax=ax, label=ppi_v1.name)\\nsns.lineplot(data=pcst_results_v2, x=\\\"beta\\\", y=\\\"avg_target_degree\\\", ax=ax, label=ppi_v2.name)\\nsns.lineplot(data=pcst_results_v3, x=\\\"beta\\\", y=\\\"avg_target_degree\\\", ax=ax, label=ppi_v3.name)\\nsns.lineplot(data=pcst_results_v4, x=\\\"beta\\\", y=\\\"avg_target_degree\\\", ax=ax, label=ppi_v4.name)\\nplt.legend(bbox_to_anchor=(-0.1, -0.2), loc=2, borderaxespad=0, ncol=1, prop={\\\"size\\\": 12})\\nplt.show()\";\n",
       "                var nbb_formatted_code = \"fig, ax = plt.subplots()\\nsns.lineplot(\\n    data=pcst_results_v1, x=\\\"beta\\\", y=\\\"avg_target_degree\\\", ax=ax, label=ppi_v1.name\\n)\\nsns.lineplot(\\n    data=pcst_results_v2, x=\\\"beta\\\", y=\\\"avg_target_degree\\\", ax=ax, label=ppi_v2.name\\n)\\nsns.lineplot(\\n    data=pcst_results_v3, x=\\\"beta\\\", y=\\\"avg_target_degree\\\", ax=ax, label=ppi_v3.name\\n)\\nsns.lineplot(\\n    data=pcst_results_v4, x=\\\"beta\\\", y=\\\"avg_target_degree\\\", ax=ax, label=ppi_v4.name\\n)\\nplt.legend(\\n    bbox_to_anchor=(-0.1, -0.2), loc=2, borderaxespad=0, ncol=1, prop={\\\"size\\\": 12}\\n)\\nplt.show()\";\n",
       "                var nbb_cells = Jupyter.notebook.get_cells();\n",
       "                for (var i = 0; i < nbb_cells.length; ++i) {\n",
       "                    if (nbb_cells[i].input_prompt_number == nbb_cell_id) {\n",
       "                        if (nbb_cells[i].get_text() == nbb_unformatted_code) {\n",
       "                             nbb_cells[i].set_text(nbb_formatted_code);\n",
       "                        }\n",
       "                        break;\n",
       "                    }\n",
       "                }\n",
       "            }, 500);\n",
       "            "
      ],
      "text/plain": [
       "<IPython.core.display.Javascript object>"
      ]
     },
     "metadata": {},
     "output_type": "display_data"
    }
   ],
   "source": [
    "fig, ax = plt.subplots()\n",
    "sns.lineplot(\n",
    "    data=pcst_results_v1, x=\"beta\", y=\"avg_target_degree\", ax=ax, label=ppi_v1.name\n",
    ")\n",
    "sns.lineplot(\n",
    "    data=pcst_results_v2, x=\"beta\", y=\"avg_target_degree\", ax=ax, label=ppi_v2.name\n",
    ")\n",
    "sns.lineplot(\n",
    "    data=pcst_results_v3, x=\"beta\", y=\"avg_target_degree\", ax=ax, label=ppi_v3.name\n",
    ")\n",
    "sns.lineplot(\n",
    "    data=pcst_results_v4, x=\"beta\", y=\"avg_target_degree\", ax=ax, label=ppi_v4.name\n",
    ")\n",
    "plt.legend(\n",
    "    bbox_to_anchor=(-0.1, -0.2), loc=2, borderaxespad=0, ncol=1, prop={\"size\": 12}\n",
    ")\n",
    "plt.show()"
   ]
  },
  {
   "cell_type": "code",
   "execution_count": 181,
   "id": "fab78bf1",
   "metadata": {},
   "outputs": [
    {
     "data": {
      "image/png": "[encoded data removed]",
      "text/plain": [
       "<Figure size 432x288 with 1 Axes>"
      ]
     },
     "metadata": {
      "needs_background": "light"
     },
     "output_type": "display_data"
    },
    {
     "data": {
      "application/javascript": [
       "\n",
       "            setTimeout(function() {\n",
       "                var nbb_cell_id = 181;\n",
       "                var nbb_unformatted_code = \"fig, ax = plt.subplots()\\nsns.lineplot(data=pcst_results_v1, x=\\\"beta\\\", y=\\\"n_louvain_clusters\\\", ax=ax, label=ppi_v1.name)\\nsns.lineplot(data=pcst_results_v2, x=\\\"beta\\\", y=\\\"n_louvain_clusters\\\", ax=ax, label=ppi_v2.name)\\nsns.lineplot(data=pcst_results_v3, x=\\\"beta\\\", y=\\\"n_louvain_clusters\\\", ax=ax, label=ppi_v3.name)\\nsns.lineplot(data=pcst_results_v4, x=\\\"beta\\\", y=\\\"n_louvain_clusters\\\", ax=ax, label=ppi_v4.name)\\nplt.legend(bbox_to_anchor=(-0.1, -0.2), loc=2, borderaxespad=0, ncol=1, prop={\\\"size\\\": 12})\\nplt.show()\";\n",
       "                var nbb_formatted_code = \"fig, ax = plt.subplots()\\nsns.lineplot(\\n    data=pcst_results_v1, x=\\\"beta\\\", y=\\\"n_louvain_clusters\\\", ax=ax, label=ppi_v1.name\\n)\\nsns.lineplot(\\n    data=pcst_results_v2, x=\\\"beta\\\", y=\\\"n_louvain_clusters\\\", ax=ax, label=ppi_v2.name\\n)\\nsns.lineplot(\\n    data=pcst_results_v3, x=\\\"beta\\\", y=\\\"n_louvain_clusters\\\", ax=ax, label=ppi_v3.name\\n)\\nsns.lineplot(\\n    data=pcst_results_v4, x=\\\"beta\\\", y=\\\"n_louvain_clusters\\\", ax=ax, label=ppi_v4.name\\n)\\nplt.legend(\\n    bbox_to_anchor=(-0.1, -0.2), loc=2, borderaxespad=0, ncol=1, prop={\\\"size\\\": 12}\\n)\\nplt.show()\";\n",
       "                var nbb_cells = Jupyter.notebook.get_cells();\n",
       "                for (var i = 0; i < nbb_cells.length; ++i) {\n",
       "                    if (nbb_cells[i].input_prompt_number == nbb_cell_id) {\n",
       "                        if (nbb_cells[i].get_text() == nbb_unformatted_code) {\n",
       "                             nbb_cells[i].set_text(nbb_formatted_code);\n",
       "                        }\n",
       "                        break;\n",
       "                    }\n",
       "                }\n",
       "            }, 500);\n",
       "            "
      ],
      "text/plain": [
       "<IPython.core.display.Javascript object>"
      ]
     },
     "metadata": {},
     "output_type": "display_data"
    }
   ],
   "source": [
    "fig, ax = plt.subplots()\n",
    "sns.lineplot(\n",
    "    data=pcst_results_v1, x=\"beta\", y=\"n_louvain_clusters\", ax=ax, label=ppi_v1.name\n",
    ")\n",
    "sns.lineplot(\n",
    "    data=pcst_results_v2, x=\"beta\", y=\"n_louvain_clusters\", ax=ax, label=ppi_v2.name\n",
    ")\n",
    "sns.lineplot(\n",
    "    data=pcst_results_v3, x=\"beta\", y=\"n_louvain_clusters\", ax=ax, label=ppi_v3.name\n",
    ")\n",
    "sns.lineplot(\n",
    "    data=pcst_results_v4, x=\"beta\", y=\"n_louvain_clusters\", ax=ax, label=ppi_v4.name\n",
    ")\n",
    "plt.legend(\n",
    "    bbox_to_anchor=(-0.1, -0.2), loc=2, borderaxespad=0, ncol=1, prop={\"size\": 12}\n",
    ")\n",
    "plt.show()"
   ]
  },
  {
   "cell_type": "markdown",
   "id": "70d136b0",
   "metadata": {},
   "source": [
    "---\n",
    "\n",
    "## 3. Extended analyses of the resulting tree solution"
   ]
  },
  {
   "cell_type": "code",
   "execution_count": 44,
   "id": "dfc42c16",
   "metadata": {},
   "outputs": [
    {
     "name": "stdout",
     "output_type": "stream",
     "text": [
      "Name: Confidence_Pruned_CCLE_absLogFC_ORF_max_Spearman_r_b_1\n",
      "Type: Graph\n",
      "Number of nodes: 2556\n",
      "Number of edges: 13843\n",
      "Average degree:  10.8318\n"
     ]
    },
    {
     "data": {
      "application/javascript": [
       "\n",
       "            setTimeout(function() {\n",
       "                var nbb_cell_id = 44;\n",
       "                var nbb_unformatted_code = \"pcst = augmented_pcst_dict_v3[\\n    \\\"augmented_Confidence_Pruned_CCLE_absLogFC_ORF_max_Spearman_r_b_1_b_0.30000000000000004\\\"\\n]\\nprint(nx.info(pcst))\";\n",
       "                var nbb_formatted_code = \"pcst = augmented_pcst_dict_v3[\\n    \\\"augmented_Confidence_Pruned_CCLE_absLogFC_ORF_max_Spearman_r_b_1_b_0.30000000000000004\\\"\\n]\\nprint(nx.info(pcst))\";\n",
       "                var nbb_cells = Jupyter.notebook.get_cells();\n",
       "                for (var i = 0; i < nbb_cells.length; ++i) {\n",
       "                    if (nbb_cells[i].input_prompt_number == nbb_cell_id) {\n",
       "                        if (nbb_cells[i].get_text() == nbb_unformatted_code) {\n",
       "                             nbb_cells[i].set_text(nbb_formatted_code);\n",
       "                        }\n",
       "                        break;\n",
       "                    }\n",
       "                }\n",
       "            }, 500);\n",
       "            "
      ],
      "text/plain": [
       "<IPython.core.display.Javascript object>"
      ]
     },
     "metadata": {},
     "output_type": "display_data"
    }
   ],
   "source": [
    "pcst = augmented_pcst_dict_v3[\n",
    "    \"augmented_Confidence_Pruned_CCLE_absLogFC_ORF_max_Spearman_r_b_1_b_0.30000000000000004\"\n",
    "]\n",
    "print(nx.info(pcst))"
   ]
  },
  {
   "cell_type": "code",
   "execution_count": 45,
   "id": "c1d12551",
   "metadata": {},
   "outputs": [
    {
     "data": {
      "application/javascript": [
       "\n",
       "            setTimeout(function() {\n",
       "                var nbb_cell_id = 45;\n",
       "                var nbb_unformatted_code = \"pcst.name = \\\"Confidence_Pruned_CCLE_absLogFC_ORF_max_Spearman_r_b_03\\\"\";\n",
       "                var nbb_formatted_code = \"pcst.name = \\\"Confidence_Pruned_CCLE_absLogFC_ORF_max_Spearman_r_b_03\\\"\";\n",
       "                var nbb_cells = Jupyter.notebook.get_cells();\n",
       "                for (var i = 0; i < nbb_cells.length; ++i) {\n",
       "                    if (nbb_cells[i].input_prompt_number == nbb_cell_id) {\n",
       "                        if (nbb_cells[i].get_text() == nbb_unformatted_code) {\n",
       "                             nbb_cells[i].set_text(nbb_formatted_code);\n",
       "                        }\n",
       "                        break;\n",
       "                    }\n",
       "                }\n",
       "            }, 500);\n",
       "            "
      ],
      "text/plain": [
       "<IPython.core.display.Javascript object>"
      ]
     },
     "metadata": {},
     "output_type": "display_data"
    }
   ],
   "source": [
    "pcst.name = \"Confidence_Pruned_CCLE_absLogFC_ORF_max_Spearman_r_b_03\""
   ]
  },
  {
   "cell_type": "code",
   "execution_count": 46,
   "id": "e2ec5bbd",
   "metadata": {},
   "outputs": [
    {
     "data": {
      "text/plain": [
       "{'MDFI': 160,\n",
       " 'SRC': 159,\n",
       " 'IKBKG': 156,\n",
       " 'MYC': 155,\n",
       " 'REL': 154,\n",
       " 'KRT31': 151,\n",
       " 'CTNNB1': 149,\n",
       " 'RELA': 147,\n",
       " 'HSP90AA1': 144,\n",
       " 'PIN1': 143,\n",
       " 'RB1': 142,\n",
       " 'UBE2D2': 141,\n",
       " 'YWHAZ': 139,\n",
       " 'AKT1': 139,\n",
       " 'LNX1': 138,\n",
       " 'PPP1CA': 137,\n",
       " 'KDM1A': 137,\n",
       " 'SDCBP': 135,\n",
       " 'LZTS2': 134,\n",
       " 'MTUS2': 132,\n",
       " 'ZDHHC17': 131,\n",
       " 'TRAF6': 131,\n",
       " 'TRAF1': 125,\n",
       " 'UBE2D1': 125,\n",
       " 'TCF4': 124,\n",
       " 'CDKN1A': 123,\n",
       " 'SMAD3': 123,\n",
       " 'MAPK1': 122,\n",
       " 'JUN': 122,\n",
       " 'YWHAB': 122,\n",
       " 'SUMO3': 118,\n",
       " 'CDK2': 118,\n",
       " 'SMAD2': 118,\n",
       " 'HDAC2': 116,\n",
       " 'HGS': 114,\n",
       " 'UBE2D3': 114,\n",
       " 'SP1': 112,\n",
       " 'PCNA': 112,\n",
       " 'CEP70': 111,\n",
       " 'NEDD4L': 109,\n",
       " 'SIAH1': 107,\n",
       " 'ABL1': 106,\n",
       " 'UBQLN4': 105,\n",
       " 'TRIM54': 103,\n",
       " 'VCP': 102,\n",
       " 'RBPMS': 102,\n",
       " 'CBL': 101,\n",
       " 'FAM9B': 101,\n",
       " 'COPS6': 101,\n",
       " 'CALCOCO2': 100,\n",
       " 'TRIM23': 100,\n",
       " 'COPS5': 100,\n",
       " 'HSP90AB1': 99,\n",
       " 'UBQLN1': 99,\n",
       " 'CCDC85B': 98,\n",
       " 'ERBB2': 97,\n",
       " 'POLR2A': 96,\n",
       " 'CDK1': 95,\n",
       " 'UCHL5': 94,\n",
       " 'CSNK2B': 94,\n",
       " 'HDAC3': 94,\n",
       " 'VHL': 93,\n",
       " 'XRCC6': 93,\n",
       " 'STUB1': 93,\n",
       " 'CUL3': 93,\n",
       " 'NEDD8': 93,\n",
       " 'MAPK6': 92,\n",
       " 'USHBP1': 92,\n",
       " 'SMAD4': 92,\n",
       " 'TBP': 92,\n",
       " 'KAT2B': 92,\n",
       " 'CDC42': 91,\n",
       " 'SMN2': 88,\n",
       " 'CUL1': 88,\n",
       " 'MID2': 86,\n",
       " 'PNMA1': 86,\n",
       " 'KRT15': 85,\n",
       " 'TK1': 84,\n",
       " 'CDK6': 84,\n",
       " 'SKP1': 83,\n",
       " 'FYN': 83,\n",
       " 'HTT': 83,\n",
       " 'TFIP11': 83,\n",
       " 'EEF1A1': 83,\n",
       " 'SIRT1': 83,\n",
       " 'UBA52': 82,\n",
       " 'ITCH': 82,\n",
       " 'PSMA1': 82,\n",
       " 'KAT5': 81,\n",
       " 'CASP3': 80,\n",
       " 'GSK3B': 79,\n",
       " 'SFN': 79,\n",
       " 'PIK3R1': 79,\n",
       " 'UBE2E1': 78,\n",
       " 'PSMA3': 77,\n",
       " 'SUV39H1': 77,\n",
       " 'USP7': 77,\n",
       " 'RAF1': 76,\n",
       " 'YWHAE': 76,\n",
       " 'PML': 76,\n",
       " 'SIN3A': 76,\n",
       " 'BTRC': 76,\n",
       " 'FOS': 75,\n",
       " 'MET': 75,\n",
       " 'NR3C1': 74,\n",
       " 'RXRA': 74,\n",
       " 'RAC1': 73,\n",
       " 'PPP2CA': 73,\n",
       " 'PRKDC': 73,\n",
       " 'HDAC4': 73,\n",
       " 'SMAD1': 73,\n",
       " 'HNRNPK': 72,\n",
       " 'IKBKB': 72,\n",
       " 'VIM': 72,\n",
       " 'PLCG1': 71,\n",
       " 'HSPA4': 71,\n",
       " 'UBE2N': 71,\n",
       " 'TRIP6': 71,\n",
       " 'MAPK8': 71,\n",
       " 'SMARCA4': 70,\n",
       " 'MAPK3': 70,\n",
       " 'KIFC3': 70,\n",
       " 'XIAP': 69,\n",
       " 'STAT3': 69,\n",
       " 'PARP1': 69,\n",
       " 'PLK1': 69,\n",
       " 'NCOR1': 68,\n",
       " 'RARA': 68,\n",
       " 'SSX2IP': 67,\n",
       " 'TRIM28': 67,\n",
       " 'FXR2': 67,\n",
       " 'UBE2D4': 67,\n",
       " 'FBXO25': 66,\n",
       " 'SNCA': 66,\n",
       " 'CDC37': 66,\n",
       " 'ATM': 66,\n",
       " 'MAP1LC3B': 65,\n",
       " 'CHUK': 65,\n",
       " 'RHOA': 64,\n",
       " 'MAPK14': 64,\n",
       " 'UBE3A': 64,\n",
       " 'PPARG': 64,\n",
       " 'PLSCR1': 64,\n",
       " 'NFKB1': 64,\n",
       " 'BARD1': 64,\n",
       " 'KRTAP5-9': 64,\n",
       " 'GABARAPL2': 63,\n",
       " 'FHL3': 63,\n",
       " 'SQSTM1': 62,\n",
       " 'IKZF3': 62,\n",
       " 'CDK9': 62,\n",
       " 'CDK4': 62,\n",
       " 'CDC5L': 62,\n",
       " 'FHL2': 62,\n",
       " 'RNF2': 62,\n",
       " 'RBX1': 62,\n",
       " 'MLH1': 61,\n",
       " 'NFKBIA': 61,\n",
       " 'PRKCA': 60,\n",
       " 'PTN': 60,\n",
       " 'IKZF1': 60,\n",
       " 'SMARCE1': 59,\n",
       " 'COIL': 59,\n",
       " 'HSPA8': 59,\n",
       " 'HDAC6': 59,\n",
       " 'SGTA': 59,\n",
       " 'CCNDBP1': 59,\n",
       " 'APPBP2': 59,\n",
       " 'LMO2': 59,\n",
       " 'GABARAPL1': 58,\n",
       " 'HIF1A': 58,\n",
       " 'LCK': 58,\n",
       " 'UNC119': 58,\n",
       " 'E2F1': 58,\n",
       " 'NCK2': 58,\n",
       " 'MAGEA11': 58,\n",
       " 'GORASP2': 58,\n",
       " 'ACTB': 57,\n",
       " 'ERG': 57,\n",
       " 'HSPB1': 57,\n",
       " 'BCL2': 57,\n",
       " 'CUL4A': 57,\n",
       " 'MAPT': 57,\n",
       " 'YY1': 57,\n",
       " 'ADAMTSL4': 57,\n",
       " 'PSMD4': 56,\n",
       " 'DDB1': 56,\n",
       " 'CRK': 56,\n",
       " 'PHC2': 56,\n",
       " 'RUVBL2': 55,\n",
       " 'RPA1': 55,\n",
       " 'HAUS1': 55,\n",
       " 'CTBP1': 55,\n",
       " 'RNPS1': 55,\n",
       " 'CDKN1B': 55,\n",
       " 'LYN': 55,\n",
       " 'BIRC2': 55,\n",
       " 'TSG101': 55,\n",
       " 'APBB1': 55,\n",
       " 'BYSL': 55,\n",
       " 'UBE2E3': 55,\n",
       " 'MAGED1': 54,\n",
       " 'CUL2': 54,\n",
       " 'BANP': 54,\n",
       " 'NCOR2': 54,\n",
       " 'CEP57L1': 54,\n",
       " 'FAM161A': 54,\n",
       " 'PRMT6': 54,\n",
       " 'UBE2L3': 53,\n",
       " 'EEF1G': 53,\n",
       " 'PRPF40A': 52,\n",
       " 'HMGA1': 52,\n",
       " 'NUP62': 52,\n",
       " 'DAXX': 52,\n",
       " 'ATXN1': 52,\n",
       " 'ESR2': 52,\n",
       " 'PRKACA': 52,\n",
       " 'GAB1': 52,\n",
       " 'SPRY2': 51,\n",
       " 'MTOR': 51,\n",
       " 'SKP2': 51,\n",
       " 'NIF3L1': 51,\n",
       " 'ZNF417': 51,\n",
       " 'TLE1': 51,\n",
       " 'SAT1': 51,\n",
       " 'SHC1': 51,\n",
       " 'NCK1': 51,\n",
       " 'HDAC5': 51,\n",
       " 'NCOA6': 50,\n",
       " 'GABARAP': 50,\n",
       " 'PPP1CC': 50,\n",
       " 'CBX5': 50,\n",
       " 'CCNB1': 50,\n",
       " 'MED1': 50,\n",
       " 'KHDRBS1': 49,\n",
       " 'MCM7': 49,\n",
       " 'PRMT1': 49,\n",
       " 'C1ORF94': 49,\n",
       " 'AGTRAP': 49,\n",
       " 'CAV1': 49,\n",
       " 'AURKA': 49,\n",
       " 'NCOA1': 49,\n",
       " 'MED28': 49,\n",
       " 'LDOC1': 49,\n",
       " 'NDRG1': 48,\n",
       " 'DAZAP2': 48,\n",
       " 'HSPA1B': 48,\n",
       " 'PABPC1': 48,\n",
       " 'STX11': 48,\n",
       " 'CASP8': 48,\n",
       " 'FZR1': 48,\n",
       " 'STAT1': 48,\n",
       " 'CCDC136': 47,\n",
       " 'CARD9': 47,\n",
       " 'CDC20': 47,\n",
       " 'NCOA3': 47,\n",
       " 'TFCP2': 47,\n",
       " 'RAD23A': 46,\n",
       " 'CCHCR1': 46,\n",
       " 'PSMC5': 46,\n",
       " 'KPNA2': 46,\n",
       " 'HAP1': 46,\n",
       " 'PRKAA1': 45,\n",
       " 'CLTC': 45,\n",
       " 'XRCC5': 45,\n",
       " 'MORF4L1': 45,\n",
       " 'ABI2': 45,\n",
       " 'UBE2E2': 45,\n",
       " 'MAP3K7': 45,\n",
       " 'VDR': 44,\n",
       " 'PPP2R1A': 44,\n",
       " 'PLEKHF2': 44,\n",
       " 'RNF11': 44,\n",
       " 'ATF2': 44,\n",
       " 'TAF9': 44,\n",
       " 'DDIT3': 44,\n",
       " 'YWHAH': 44,\n",
       " 'PSMD14': 44,\n",
       " 'CDK8': 44,\n",
       " 'RUVBL1': 43,\n",
       " 'ATXN7': 43,\n",
       " 'PSMD2': 43,\n",
       " 'CUL5': 43,\n",
       " 'RIPK1': 43,\n",
       " 'AURKB': 43,\n",
       " 'BCL2L1': 43,\n",
       " 'PSMA2': 43,\n",
       " 'GMCL1': 43,\n",
       " 'SNW1': 43,\n",
       " 'PSMD11': 43,\n",
       " 'MAP3K5': 43,\n",
       " 'SMAD7': 43,\n",
       " 'SYK': 43,\n",
       " 'AMOTL2': 43,\n",
       " 'DAB1': 43,\n",
       " 'PRNP': 43,\n",
       " 'PRKCD': 42,\n",
       " 'TUBA1A': 42,\n",
       " 'VPS52': 42,\n",
       " 'CCDC102B': 42,\n",
       " 'FBXW11': 42,\n",
       " 'PIAS1': 42,\n",
       " 'TNIP1': 42,\n",
       " 'ATF4': 42,\n",
       " 'ITGB1': 42,\n",
       " 'JAK2': 42,\n",
       " 'INSR': 42,\n",
       " 'MED19': 42,\n",
       " 'MED26': 42,\n",
       " 'RPA2': 41,\n",
       " 'LRRK1': 41,\n",
       " 'RPS3': 41,\n",
       " 'RPS3A': 41,\n",
       " 'CCND1': 41,\n",
       " 'TP53BP2': 41,\n",
       " 'KEAP1': 41,\n",
       " 'MBP': 41,\n",
       " 'PIAS4': 41,\n",
       " 'HNF4A': 41,\n",
       " 'TXLNA': 41,\n",
       " 'GTF2B': 41,\n",
       " 'WBP4': 41,\n",
       " 'ERBB3': 41,\n",
       " 'PDGFRB': 41,\n",
       " 'SMURF2': 41,\n",
       " 'PARP2': 41,\n",
       " 'MFAP1': 41,\n",
       " 'LMO4': 41,\n",
       " 'HMBOX1': 41,\n",
       " 'HSF1': 40,\n",
       " 'HNRNPA1': 40,\n",
       " 'RGS2': 40,\n",
       " 'TRIM39': 40,\n",
       " 'CDC23': 40,\n",
       " 'RBBP4': 40,\n",
       " 'CDH1': 40,\n",
       " 'PTK2': 40,\n",
       " 'CDC34': 40,\n",
       " 'GAPDH': 40,\n",
       " 'CEP55': 40,\n",
       " 'DLG4': 40,\n",
       " 'KPNB1': 40,\n",
       " 'MAGEA6': 40,\n",
       " 'TRIM41': 40,\n",
       " 'ADRB2': 40,\n",
       " 'XPO1': 40,\n",
       " 'PRPF31': 40,\n",
       " 'PAK1': 40,\n",
       " 'VAV1': 40,\n",
       " 'THAP1': 40,\n",
       " 'CEP76': 40,\n",
       " 'GADD45G': 40,\n",
       " 'A2M': 40,\n",
       " 'TRAF4': 39,\n",
       " 'SF3A2': 39,\n",
       " 'ABI1': 39,\n",
       " 'KAT2A': 39,\n",
       " 'PTPN11': 39,\n",
       " 'AMFR': 39,\n",
       " 'DVL3': 39,\n",
       " 'MAPK9': 39,\n",
       " 'NXF1': 39,\n",
       " 'TSC22D4': 39,\n",
       " 'HOXA1': 39,\n",
       " 'NECAB2': 39,\n",
       " 'NRIP1': 38,\n",
       " 'SF3B4': 38,\n",
       " 'HSPA5': 38,\n",
       " 'SMARCB1': 38,\n",
       " 'FSD2': 38,\n",
       " 'OPTN': 38,\n",
       " 'SH3KBP1': 38,\n",
       " 'NDC80': 38,\n",
       " 'SH3GL2': 38,\n",
       " 'TRAF3': 38,\n",
       " 'TP73': 38,\n",
       " 'SMURF1': 38,\n",
       " 'ARRB1': 38,\n",
       " 'WDR5': 38,\n",
       " 'HRAS': 38,\n",
       " 'CEBPA': 38,\n",
       " 'MKRN3': 38,\n",
       " 'CBX8': 38,\n",
       " 'SYNE4': 38,\n",
       " 'RPS6': 37,\n",
       " 'CDK7': 37,\n",
       " 'TNFRSF1A': 37,\n",
       " 'USP15': 37,\n",
       " 'FN1': 37,\n",
       " 'MCM2': 37,\n",
       " 'ATR': 37,\n",
       " 'CDC27': 37,\n",
       " 'PTPN1': 37,\n",
       " 'TRIP13': 37,\n",
       " 'CTBP2': 37,\n",
       " 'CDC6': 37,\n",
       " 'CCNA2': 37,\n",
       " 'MED31': 37,\n",
       " 'CASP7': 36,\n",
       " 'DDX5': 36,\n",
       " 'DNMT1': 36,\n",
       " 'NPM1': 36,\n",
       " 'RANBP9': 36,\n",
       " 'SH2D4A': 36,\n",
       " 'RABAC1': 36,\n",
       " 'MED4': 36,\n",
       " 'BCL6': 36,\n",
       " 'SNRPB': 36,\n",
       " 'CEBPB': 36,\n",
       " 'LATS1': 36,\n",
       " 'COPS2': 36,\n",
       " 'SIAH2': 36,\n",
       " 'C1ORF109': 36,\n",
       " 'CRKL': 36,\n",
       " 'EZH2': 36,\n",
       " 'STK3': 36,\n",
       " 'RBM48': 36,\n",
       " 'WASL': 35,\n",
       " 'TNK2': 35,\n",
       " 'PPP2CB': 35,\n",
       " 'BLZF1': 35,\n",
       " 'YBX1': 35,\n",
       " 'TBK1': 35,\n",
       " 'COMMD3-BMI1': 35,\n",
       " 'NCL': 35,\n",
       " 'ILK': 35,\n",
       " 'PXN': 35,\n",
       " 'PSMC3': 35,\n",
       " 'PIAS2': 35,\n",
       " 'RAN': 35,\n",
       " 'UBA1': 35,\n",
       " 'CHEK2': 35,\n",
       " 'KLHL12': 35,\n",
       " 'FLNA': 35,\n",
       " 'POLR2C': 35,\n",
       " 'MED12': 35,\n",
       " 'NCOA2': 35,\n",
       " 'YAP1': 35,\n",
       " 'U2AF2': 35,\n",
       " 'PTPN6': 35,\n",
       " 'THRA': 35,\n",
       " 'PSTPIP1': 35,\n",
       " 'RUNX1T1': 35,\n",
       " 'SPI1': 35,\n",
       " 'STK16': 35,\n",
       " 'NMI': 34,\n",
       " 'ACTN1': 34,\n",
       " 'CFTR': 34,\n",
       " 'ATP13A2': 34,\n",
       " 'NDEL1': 34,\n",
       " 'HCFC1': 34,\n",
       " 'ZNF512B': 34,\n",
       " 'USP2': 34,\n",
       " 'BLM': 34,\n",
       " 'SMARCC1': 34,\n",
       " 'PRKAA2': 34,\n",
       " 'RUNX1': 34,\n",
       " 'SMARCA2': 34,\n",
       " 'ZBTB14': 34,\n",
       " 'TRIM37': 34,\n",
       " 'PRMT5': 34,\n",
       " 'CTDP1': 34,\n",
       " 'PSMA6': 34,\n",
       " 'CEP44': 34,\n",
       " 'MRFAP1L1': 34,\n",
       " 'FEZ1': 34,\n",
       " 'MOB4': 34,\n",
       " 'SRF': 34,\n",
       " 'GOPC': 34,\n",
       " 'DVL2': 33,\n",
       " 'LIG4': 33,\n",
       " 'DZIP3': 33,\n",
       " 'CUL4B': 33,\n",
       " 'PRKCZ': 33,\n",
       " 'TGFBR1': 33,\n",
       " 'ARAF': 33,\n",
       " 'PSMC1': 33,\n",
       " 'PTEN': 33,\n",
       " 'AXIN1': 33,\n",
       " 'CDK5': 33,\n",
       " 'CCDC57': 33,\n",
       " 'TEX11': 33,\n",
       " 'MAP3K3': 33,\n",
       " 'ZHX1': 33,\n",
       " 'FBF1': 33,\n",
       " 'CDT1': 33,\n",
       " 'MORF4L2': 33,\n",
       " 'MAPRE1': 33,\n",
       " 'RPS16': 33,\n",
       " 'IRS1': 33,\n",
       " 'TAX1BP1': 33,\n",
       " 'PTPRC': 33,\n",
       " 'CSK': 33,\n",
       " 'EZR': 33,\n",
       " 'PEX5': 33,\n",
       " 'MAP3K1': 33,\n",
       " 'SET': 33,\n",
       " 'GTF2F1': 33,\n",
       " 'PSMA7': 33,\n",
       " 'WWP2': 33,\n",
       " 'BCAR1': 33,\n",
       " 'ZBTB8A': 33,\n",
       " 'VAC14': 33,\n",
       " 'MAP1LC3C': 32,\n",
       " 'PRKCB': 32,\n",
       " 'MTA1': 32,\n",
       " 'EFEMP2': 32,\n",
       " 'GATA1': 32,\n",
       " 'STAMBP': 32,\n",
       " 'PTK2B': 32,\n",
       " 'PRKAB2': 32,\n",
       " 'CCNE1': 32,\n",
       " 'RPS4X': 32,\n",
       " 'RPS2': 32,\n",
       " 'HCK': 32,\n",
       " 'STX4': 32,\n",
       " 'YES1': 32,\n",
       " 'MED10': 32,\n",
       " 'TCERG1': 32,\n",
       " 'STAT5A': 32,\n",
       " 'EIF4E2': 32,\n",
       " 'BHLHE40': 32,\n",
       " 'RINT1': 32,\n",
       " 'EIF3E': 32,\n",
       " 'THRB': 32,\n",
       " 'LATS2': 32,\n",
       " 'CRX': 31,\n",
       " 'HNRNPU': 31,\n",
       " 'EMD': 31,\n",
       " 'CRYAB': 31,\n",
       " 'TUBB': 31,\n",
       " 'PAXIP1': 31,\n",
       " 'DHX9': 31,\n",
       " 'CHEK1': 31,\n",
       " 'TNNT1': 31,\n",
       " 'SF3B2': 31,\n",
       " 'KRT13': 31,\n",
       " 'RPTOR': 31,\n",
       " 'SPG21': 31,\n",
       " 'ARL6IP1': 31,\n",
       " 'TRIM32': 31,\n",
       " 'CASK': 31,\n",
       " 'POU2F1': 31,\n",
       " 'ALAS1': 31,\n",
       " 'ARIH2': 31,\n",
       " 'SLC9A3R1': 31,\n",
       " 'PSMC2': 31,\n",
       " 'DYNLL1': 31,\n",
       " 'RNF5': 31,\n",
       " 'KMT2A': 31,\n",
       " 'PTPRJ': 31,\n",
       " 'TCF3': 31,\n",
       " 'TCF12': 31,\n",
       " 'UTP14A': 31,\n",
       " 'EPS8': 31,\n",
       " 'SORBS3': 31,\n",
       " 'FBXW7': 31,\n",
       " 'NINL': 31,\n",
       " 'VAV2': 30,\n",
       " 'FADD': 30,\n",
       " 'RPS6KA1': 30,\n",
       " 'TPM3': 30,\n",
       " 'PFDN1': 30,\n",
       " 'SMARCD1': 30,\n",
       " 'CREB1': 30,\n",
       " 'NONO': 30,\n",
       " 'CD2BP2': 30,\n",
       " 'PPP1R18': 30,\n",
       " 'TSGA10': 30,\n",
       " 'PSMD6': 30,\n",
       " 'PSEN1': 30,\n",
       " 'NFE2L2': 30,\n",
       " 'CHAF1A': 30,\n",
       " 'DTX2': 30,\n",
       " 'RASA1': 30,\n",
       " 'NOTCH3': 30,\n",
       " 'GHR': 30,\n",
       " 'UPF1': 30,\n",
       " 'EHMT2': 30,\n",
       " 'RPS8': 30,\n",
       " 'JAK1': 30,\n",
       " 'NOTCH1': 30,\n",
       " 'RCHY1': 30,\n",
       " 'SMAD5': 30,\n",
       " 'WWOX': 30,\n",
       " 'CLU': 30,\n",
       " 'RNF8': 30,\n",
       " 'USP21': 30,\n",
       " 'SDCBP2': 30,\n",
       " 'ZNF587': 30,\n",
       " 'CCT2': 29,\n",
       " 'MCM3': 29,\n",
       " 'IRAK1': 29,\n",
       " 'CSNK2A2': 29,\n",
       " 'EPAS1': 29,\n",
       " 'IKBKE': 29,\n",
       " 'KRT19': 29,\n",
       " 'RASSF5': 29,\n",
       " 'HIPK2': 29,\n",
       " 'KRT18': 29,\n",
       " 'USP8': 29,\n",
       " 'PCBP1': 29,\n",
       " 'BIRC3': 29,\n",
       " 'GNB1': 29,\n",
       " 'ARRB2': 29,\n",
       " 'COMMD1': 29,\n",
       " 'PDIA3': 29,\n",
       " 'CBX3': 29,\n",
       " 'RPS14': 29,\n",
       " 'EIF3A': 29,\n",
       " 'GLRX3': 29,\n",
       " 'PRKAR1A': 29,\n",
       " 'KPNA1': 29,\n",
       " 'NUDT21': 29,\n",
       " 'PSMB1': 29,\n",
       " 'HTRA2': 29,\n",
       " 'TERF1': 29,\n",
       " 'CDC73': 29,\n",
       " 'RPS6KB1': 29,\n",
       " 'SREBF1': 29,\n",
       " 'PAK2': 29,\n",
       " 'UHRF2': 29,\n",
       " 'C8ORF33': 29,\n",
       " 'APC': 29,\n",
       " 'SRA1': 29,\n",
       " 'PTPN12': 29,\n",
       " 'MAX': 29,\n",
       " 'BLOC1S6': 29,\n",
       " 'ZCCHC10': 29,\n",
       " 'TADA2A': 29,\n",
       " 'CARM1': 28,\n",
       " 'HDAC7': 28,\n",
       " 'PSMC6': 28,\n",
       " 'PDE4DIP': 28,\n",
       " 'SPAG5': 28,\n",
       " 'SRRM2': 28,\n",
       " 'EIF2AK2': 28,\n",
       " 'STK11': 28,\n",
       " 'PRKCE': 28,\n",
       " 'SFPQ': 28,\n",
       " 'ATXN3': 28,\n",
       " 'TXN2': 28,\n",
       " 'USP4': 28,\n",
       " 'UBE2V1': 28,\n",
       " 'EPS15': 28,\n",
       " 'EIF4A3': 28,\n",
       " 'SREBF2': 28,\n",
       " 'MED21': 28,\n",
       " 'LRP1': 28,\n",
       " 'HMGB1': 28,\n",
       " 'COPS3': 28,\n",
       " 'RPS19': 28,\n",
       " 'WDR77': 28,\n",
       " 'VPS37C': 28,\n",
       " 'PSMD1': 28,\n",
       " 'CDCA7L': 28,\n",
       " 'TAB2': 28,\n",
       " 'EWSR1': 28,\n",
       " 'PEX19': 28,\n",
       " 'SOCS3': 28,\n",
       " 'SF3B3': 28,\n",
       " 'PSMD7': 28,\n",
       " 'PRPF3': 28,\n",
       " 'RBM39': 28,\n",
       " 'DLG1': 28,\n",
       " 'BRCA2': 28,\n",
       " 'PSMB5': 28,\n",
       " 'TOLLIP': 28,\n",
       " 'NEK6': 28,\n",
       " 'EIF1B': 27,\n",
       " 'PPP4C': 27,\n",
       " 'ISG15': 27,\n",
       " 'PRKCI': 27,\n",
       " 'USP28': 27,\n",
       " 'DNAJA3': 27,\n",
       " 'OTUB1': 27,\n",
       " 'PPP1CB': 27,\n",
       " 'WWP1': 27,\n",
       " 'TRIM21': 27,\n",
       " 'UBB': 27,\n",
       " 'EIF4A2': 27,\n",
       " 'TP53BP1': 27,\n",
       " 'RAD51': 27,\n",
       " 'ATF3': 27,\n",
       " 'RBL2': 27,\n",
       " 'TNFAIP3': 27,\n",
       " 'CCNC': 27,\n",
       " 'HUWE1': 27,\n",
       " 'IGF1R': 27,\n",
       " 'RELB': 27,\n",
       " 'PDCD6IP': 27,\n",
       " 'ING5': 27,\n",
       " 'RING1': 27,\n",
       " 'TRAF5': 27,\n",
       " 'MSH2': 27,\n",
       " 'JUNB': 27,\n",
       " 'MED14': 27,\n",
       " 'MAVS': 27,\n",
       " 'RPS13': 27,\n",
       " 'RBBP7': 27,\n",
       " 'PSMC4': 27,\n",
       " 'MCL1': 27,\n",
       " 'MARK2': 27,\n",
       " 'EXOSC8': 27,\n",
       " 'BCL10': 27,\n",
       " 'EFHC2': 27,\n",
       " 'MAPKAPK2': 27,\n",
       " 'CCDC146': 27,\n",
       " 'CLK2': 27,\n",
       " 'AQP1': 27,\n",
       " 'PLG': 26,\n",
       " 'AIMP2': 26,\n",
       " 'BAG3': 26,\n",
       " 'HNRNPD': 26,\n",
       " 'AHR': 26,\n",
       " 'MBD3': 26,\n",
       " 'RASSF1': 26,\n",
       " 'STK4': 26,\n",
       " 'PARK7': 26,\n",
       " 'LMNA': 26,\n",
       " 'MDC1': 26,\n",
       " 'BAX': 26,\n",
       " 'DNMT3A': 26,\n",
       " 'MDM4': 26,\n",
       " 'UBE2K': 26,\n",
       " 'RBL1': 26,\n",
       " 'MEN1': 26,\n",
       " 'RPS9': 26,\n",
       " 'RUNX2': 26,\n",
       " 'RALBP1': 26,\n",
       " 'RPS23': 26,\n",
       " 'UBE2S': 26,\n",
       " 'COPS4': 26,\n",
       " 'PKN1': 26,\n",
       " 'PSMD13': 26,\n",
       " 'GGA1': 26,\n",
       " 'BAD': 26,\n",
       " 'TBXA2R': 26,\n",
       " 'SOS1': 26,\n",
       " 'INCA1': 26,\n",
       " 'TAF10': 26,\n",
       " 'NUDT18': 26,\n",
       " 'AMOT': 25,\n",
       " 'RBMX': 25,\n",
       " 'PPARA': 25,\n",
       " 'NTRK1': 25,\n",
       " 'TRIM8': 25,\n",
       " 'ERBB4': 25,\n",
       " 'ZNF581': 25,\n",
       " 'TAL1': 25,\n",
       " 'GDF9': 25,\n",
       " 'ETS1': 25,\n",
       " 'LYAR': 25,\n",
       " 'PSMD3': 25,\n",
       " 'MBIP': 25,\n",
       " 'ACTN2': 25,\n",
       " 'PIAS3': 25,\n",
       " 'PPARGC1A': 25,\n",
       " 'ADAM15': 25,\n",
       " 'PSMD10': 25,\n",
       " 'CAPN1': 25,\n",
       " 'COPS7A': 25,\n",
       " 'UPF2': 25,\n",
       " 'MCM6': 25,\n",
       " 'DDX56': 25,\n",
       " 'SNRPA': 25,\n",
       " 'EIF3F': 25,\n",
       " 'NEDD9': 25,\n",
       " 'MAP2K4': 25,\n",
       " 'MCM10': 25,\n",
       " 'TNKS2': 25,\n",
       " 'PICK1': 25,\n",
       " 'ENKD1': 25,\n",
       " 'GEM': 25,\n",
       " 'CCNH': 25,\n",
       " 'MIPOL1': 25,\n",
       " 'IQGAP1': 24,\n",
       " 'CTTN': 24,\n",
       " 'NUDT3': 24,\n",
       " 'LSM2': 24,\n",
       " 'FAF1': 24,\n",
       " 'BAG6': 24,\n",
       " 'CKS1B': 24,\n",
       " 'GSK3A': 24,\n",
       " 'BTK': 24,\n",
       " 'MTA2': 24,\n",
       " 'ZBTB24': 24,\n",
       " 'EIF6': 24,\n",
       " 'EED': 24,\n",
       " 'ZFYVE9': 24,\n",
       " 'BUB1B': 24,\n",
       " 'DNMT3B': 24,\n",
       " 'JUP': 24,\n",
       " 'NR4A1': 24,\n",
       " 'C1QBP': 24,\n",
       " 'MED6': 24,\n",
       " 'PDPK1': 24,\n",
       " 'MED29': 24,\n",
       " 'BCL3': 24,\n",
       " 'CCNT1': 24,\n",
       " 'MED18': 24,\n",
       " 'RPS10': 24,\n",
       " 'STAM2': 24,\n",
       " 'PJA1': 24,\n",
       " 'PHB2': 24,\n",
       " 'PSMB4': 24,\n",
       " 'ARF6': 24,\n",
       " 'AP1M1': 24,\n",
       " 'PRPF8': 24,\n",
       " 'GCC1': 24,\n",
       " 'RPS25': 24,\n",
       " 'RAD18': 24,\n",
       " 'ASH2L': 24,\n",
       " 'FUS': 24,\n",
       " 'APPL1': 24,\n",
       " 'GGA2': 24,\n",
       " 'HDAC9': 24,\n",
       " 'PTPRB': 24,\n",
       " 'LENG1': 24,\n",
       " 'MCC': 24,\n",
       " 'KXD1': 24,\n",
       " 'LMO1': 24,\n",
       " 'LSM3': 24,\n",
       " 'ACTA1': 23,\n",
       " 'FANCL': 23,\n",
       " 'SNRPC': 23,\n",
       " 'BCR': 23,\n",
       " 'PIM1': 23,\n",
       " 'TGFBR2': 23,\n",
       " 'BRAF': 23,\n",
       " 'MCM5': 23,\n",
       " 'SNAI1': 23,\n",
       " 'CCND3': 23,\n",
       " 'RPLP1': 23,\n",
       " 'RPL23A': 23,\n",
       " 'MAD2L2': 23,\n",
       " 'UBTF': 23,\n",
       " 'RNF31': 23,\n",
       " 'PSMB7': 23,\n",
       " 'SNAP23': 23,\n",
       " 'CDC25A': 23,\n",
       " 'TRRAP': 23,\n",
       " 'RPS15A': 23,\n",
       " 'GNAI2': 23,\n",
       " 'EXOC5': 23,\n",
       " 'DCUN1D1': 23,\n",
       " 'RBM8A': 23,\n",
       " 'CAMK2D': 23,\n",
       " 'USF1': 23,\n",
       " 'RBCK1': 23,\n",
       " 'ANAPC4': 23,\n",
       " 'RPS24': 23,\n",
       " 'CHD4': 23,\n",
       " 'HOMEZ': 23,\n",
       " 'LONRF1': 23,\n",
       " 'THBS1': 23,\n",
       " 'BEND7': 23,\n",
       " 'GFAP': 23,\n",
       " 'TCEA2': 23,\n",
       " 'MED9': 23,\n",
       " 'SNAP25': 23,\n",
       " 'ZNF250': 23,\n",
       " 'LSM8': 23,\n",
       " 'ACTG1': 22,\n",
       " 'EHHADH': 22,\n",
       " 'CFL1': 22,\n",
       " 'EIF3D': 22,\n",
       " 'HNRNPF': 22,\n",
       " 'CSNK1A1': 22,\n",
       " 'POLR2E': 22,\n",
       " 'CHD3': 22,\n",
       " 'CCDC90B': 22,\n",
       " 'FBL': 22,\n",
       " 'STAU1': 22,\n",
       " 'TSC2': 22,\n",
       " 'KCTD9': 22,\n",
       " 'PIK3CA': 22,\n",
       " 'TTN': 22,\n",
       " 'UBE2C': 22,\n",
       " 'DNM1': 22,\n",
       " 'WRN': 22,\n",
       " 'SP100': 22,\n",
       " 'KRT8': 22,\n",
       " 'NOP56': 22,\n",
       " 'RPS26': 22,\n",
       " 'PASK': 22,\n",
       " 'RAB5A': 22,\n",
       " 'PAFAH1B3': 22,\n",
       " 'SH3GL3': 22,\n",
       " 'CDC25C': 22,\n",
       " 'FANCG': 22,\n",
       " 'CBX4': 22,\n",
       " 'RABGEF1': 22,\n",
       " 'PRPF19': 22,\n",
       " 'MID1': 22,\n",
       " 'UBR5': 22,\n",
       " 'SYVN1': 22,\n",
       " 'BCL2L11': 22,\n",
       " 'PSMA4': 22,\n",
       " 'MAD1L1': 22,\n",
       " 'SKI': 22,\n",
       " 'SNRPF': 22,\n",
       " 'PCGF2': 22,\n",
       " 'TERF2': 22,\n",
       " 'SGK1': 22,\n",
       " 'SMARCC2': 22,\n",
       " 'EIF4E': 22,\n",
       " 'KHDRBS2': 22,\n",
       " 'EIF4EBP1': 22,\n",
       " 'SF1': 22,\n",
       " 'SUZ12': 22,\n",
       " 'EPOR': 22,\n",
       " 'STRN': 22,\n",
       " 'GRIN2B': 22,\n",
       " 'MLLT3': 22,\n",
       " 'PRKCG': 22,\n",
       " 'TNFRSF14': 22,\n",
       " 'ZNF24': 22,\n",
       " 'INO80E': 22,\n",
       " 'NUTM1': 22,\n",
       " 'ORC2': 22,\n",
       " 'ANAPC11': 22,\n",
       " 'KLC3': 22,\n",
       " 'ZGPAT': 22,\n",
       " 'ATF7IP': 21,\n",
       " 'ACTN4': 21,\n",
       " 'HNRNPUL1': 21,\n",
       " 'TFG': 21,\n",
       " 'NBN': 21,\n",
       " 'RTN4': 21,\n",
       " 'SNRNP200': 21,\n",
       " 'FANCA': 21,\n",
       " 'NME1': 21,\n",
       " 'DDX58': 21,\n",
       " 'TOM1L1': 21,\n",
       " 'UBE2M': 21,\n",
       " 'NF2': 21,\n",
       " 'HSPD1': 21,\n",
       " 'MYD88': 21,\n",
       " 'DAB2': 21,\n",
       " 'PDE4D': 21,\n",
       " 'POLR2L': 21,\n",
       " 'BRMS1': 21,\n",
       " 'CASP9': 21,\n",
       " 'PSMB3': 21,\n",
       " 'ERCC3': 21,\n",
       " 'EXOSC5': 21,\n",
       " 'CBX1': 21,\n",
       " 'SNAPIN': 21,\n",
       " 'DDX20': 21,\n",
       " 'MED17': 21,\n",
       " 'GTF2H1': 21,\n",
       " 'COL1A1': 21,\n",
       " 'ARF1': 21,\n",
       " 'RBBP5': 21,\n",
       " 'MAP2K7': 21,\n",
       " 'CACNA1A': 21,\n",
       " 'MED25': 21,\n",
       " 'RAD23B': 21,\n",
       " 'CDC7': 21,\n",
       " 'TAF4': 21,\n",
       " 'PIK3R2': 21,\n",
       " 'SORBS2': 21,\n",
       " 'FAM124B': 21,\n",
       " 'TCEANC': 21,\n",
       " 'MAST1': 21,\n",
       " 'STX1A': 21,\n",
       " 'AEN': 21,\n",
       " 'SYCE1': 21,\n",
       " 'GPRASP1': 21,\n",
       " 'TCP1': 20,\n",
       " 'BECN1': 20,\n",
       " 'NGFR': 20,\n",
       " 'TARDBP': 20,\n",
       " 'AGO2': 20,\n",
       " 'PTGES3': 20,\n",
       " 'MAP3K11': 20,\n",
       " 'TYK2': 20,\n",
       " 'AKAP9': 20,\n",
       " 'KIAA0408': 20,\n",
       " 'RCOR3': 20,\n",
       " 'XPA': 20,\n",
       " 'RANBP2': 20,\n",
       " 'MAP2K1': 20,\n",
       " 'RNF4': 20,\n",
       " 'NFKB2': 20,\n",
       " 'CHERP': 20,\n",
       " 'PTPRG': 20,\n",
       " 'OTUB2': 20,\n",
       " 'MMS19': 20,\n",
       " 'PAF1': 20,\n",
       " 'GGA3': 20,\n",
       " 'L3MBTL3': 20,\n",
       " 'POLR2B': 20,\n",
       " 'AMPH': 20,\n",
       " 'CBLB': 20,\n",
       " 'NFYA': 20,\n",
       " 'STK25': 20,\n",
       " 'GRAP2': 20,\n",
       " 'TCEA1': 20,\n",
       " ...}"
      ]
     },
     "execution_count": 46,
     "metadata": {},
     "output_type": "execute_result"
    },
    {
     "data": {
      "application/javascript": [
       "\n",
       "            setTimeout(function() {\n",
       "                var nbb_cell_id = 46;\n",
       "                var nbb_unformatted_code = \"dict(sorted(dict(ppi_v3.degree()).items(), key=lambda item: item[1], reverse=True))\";\n",
       "                var nbb_formatted_code = \"dict(sorted(dict(ppi_v3.degree()).items(), key=lambda item: item[1], reverse=True))\";\n",
       "                var nbb_cells = Jupyter.notebook.get_cells();\n",
       "                for (var i = 0; i < nbb_cells.length; ++i) {\n",
       "                    if (nbb_cells[i].input_prompt_number == nbb_cell_id) {\n",
       "                        if (nbb_cells[i].get_text() == nbb_unformatted_code) {\n",
       "                             nbb_cells[i].set_text(nbb_formatted_code);\n",
       "                        }\n",
       "                        break;\n",
       "                    }\n",
       "                }\n",
       "            }, 500);\n",
       "            "
      ],
      "text/plain": [
       "<IPython.core.display.Javascript object>"
      ]
     },
     "metadata": {},
     "output_type": "display_data"
    }
   ],
   "source": [
    "dict(sorted(dict(ppi_v3.degree()).items(), key=lambda item: item[1], reverse=True))"
   ]
  },
  {
   "cell_type": "code",
   "execution_count": 22,
   "id": "ed1788b5",
   "metadata": {},
   "outputs": [
    {
     "data": {
      "application/javascript": [
       "\n",
       "            setTimeout(function() {\n",
       "                var nbb_cell_id = 22;\n",
       "                var nbb_unformatted_code = \"nx.write_gpickle(\\n    nx.Graph(pcst), \\\"../../../data/ppi/augmented_pcst_ccle_abslogfc_orf_max_spearman_r_b_1.pkl\\\"\\n)\";\n",
       "                var nbb_formatted_code = \"nx.write_gpickle(\\n    nx.Graph(pcst),\\n    \\\"../../../data/ppi/augmented_pcst_ccle_abslogfc_orf_max_spearman_r_b_1.pkl\\\",\\n)\";\n",
       "                var nbb_cells = Jupyter.notebook.get_cells();\n",
       "                for (var i = 0; i < nbb_cells.length; ++i) {\n",
       "                    if (nbb_cells[i].input_prompt_number == nbb_cell_id) {\n",
       "                        if (nbb_cells[i].get_text() == nbb_unformatted_code) {\n",
       "                             nbb_cells[i].set_text(nbb_formatted_code);\n",
       "                        }\n",
       "                        break;\n",
       "                    }\n",
       "                }\n",
       "            }, 500);\n",
       "            "
      ],
      "text/plain": [
       "<IPython.core.display.Javascript object>"
      ]
     },
     "metadata": {},
     "output_type": "display_data"
    }
   ],
   "source": [
    "nx.write_gpickle(\n",
    "    nx.Graph(pcst),\n",
    "    \"../../../data/ppi/augmented_pcst_ccle_abslogfc_orf_max_spearman_r_b_1.pkl\",\n",
    ")"
   ]
  },
  {
   "cell_type": "code",
   "execution_count": 21,
   "id": "24bd4bf7",
   "metadata": {},
   "outputs": [
    {
     "data": {
      "application/javascript": [
       "\n",
       "            setTimeout(function() {\n",
       "                var nbb_cell_id = 21;\n",
       "                var nbb_unformatted_code = \"nx.write_graphml(\\n    pcst, \\\"../../../data/ppi/augmented_pcst_ccle_abslogfc_orf_max_spearman_r_b_1.graphml.gz\\\"\\n)\";\n",
       "                var nbb_formatted_code = \"nx.write_graphml(\\n    pcst,\\n    \\\"../../../data/ppi/augmented_pcst_ccle_abslogfc_orf_max_spearman_r_b_1.graphml.gz\\\",\\n)\";\n",
       "                var nbb_cells = Jupyter.notebook.get_cells();\n",
       "                for (var i = 0; i < nbb_cells.length; ++i) {\n",
       "                    if (nbb_cells[i].input_prompt_number == nbb_cell_id) {\n",
       "                        if (nbb_cells[i].get_text() == nbb_unformatted_code) {\n",
       "                             nbb_cells[i].set_text(nbb_formatted_code);\n",
       "                        }\n",
       "                        break;\n",
       "                    }\n",
       "                }\n",
       "            }, 500);\n",
       "            "
      ],
      "text/plain": [
       "<IPython.core.display.Javascript object>"
      ]
     },
     "metadata": {},
     "output_type": "display_data"
    }
   ],
   "source": [
    "nx.write_graphml(\n",
    "    pcst,\n",
    "    \"../../../data/ppi/augmented_pcst_ccle_abslogfc_orf_max_spearman_r_b_1.graphml.gz\",\n",
    ")"
   ]
  },
  {
   "cell_type": "code",
   "execution_count": 135,
   "id": "cf61f80b",
   "metadata": {},
   "outputs": [
    {
     "data": {
      "application/javascript": [
       "\n",
       "            setTimeout(function() {\n",
       "                var nbb_cell_id = 135;\n",
       "                var nbb_unformatted_code = \"nx.write_graphml(\\n    pcst, \\\"../../../data/ppi/pcst_ccle_abslogfc_orf_max_spearman_p_b_1.graphml.gz\\\"\\n)\";\n",
       "                var nbb_formatted_code = \"nx.write_graphml(\\n    pcst, \\\"../../../data/ppi/pcst_ccle_abslogfc_orf_max_spearman_p_b_1.graphml.gz\\\"\\n)\";\n",
       "                var nbb_cells = Jupyter.notebook.get_cells();\n",
       "                for (var i = 0; i < nbb_cells.length; ++i) {\n",
       "                    if (nbb_cells[i].input_prompt_number == nbb_cell_id) {\n",
       "                        if (nbb_cells[i].get_text() == nbb_unformatted_code) {\n",
       "                             nbb_cells[i].set_text(nbb_formatted_code);\n",
       "                        }\n",
       "                        break;\n",
       "                    }\n",
       "                }\n",
       "            }, 500);\n",
       "            "
      ],
      "text/plain": [
       "<IPython.core.display.Javascript object>"
      ]
     },
     "metadata": {},
     "output_type": "display_data"
    }
   ],
   "source": [
    "nx.write_graphml(\n",
    "    pcst, \"../../../data/ppi/pcst_ccle_abslogfc_orf_max_spearman_p_b_1.graphml.gz\"\n",
    ")"
   ]
  },
  {
   "cell_type": "code",
   "execution_count": 51,
   "id": "a02a5b5d",
   "metadata": {},
   "outputs": [
    {
     "data": {
      "application/javascript": [
       "\n",
       "            setTimeout(function() {\n",
       "                var nbb_cell_id = 51;\n",
       "                var nbb_unformatted_code = \"targets = [\\\"CASP8\\\", \\\"BCL2L11\\\", \\\"DDIT3\\\", \\\"GRB10\\\"]\";\n",
       "                var nbb_formatted_code = \"targets = [\\\"CASP8\\\", \\\"BCL2L11\\\", \\\"DDIT3\\\", \\\"GRB10\\\"]\";\n",
       "                var nbb_cells = Jupyter.notebook.get_cells();\n",
       "                for (var i = 0; i < nbb_cells.length; ++i) {\n",
       "                    if (nbb_cells[i].input_prompt_number == nbb_cell_id) {\n",
       "                        if (nbb_cells[i].get_text() == nbb_unformatted_code) {\n",
       "                             nbb_cells[i].set_text(nbb_formatted_code);\n",
       "                        }\n",
       "                        break;\n",
       "                    }\n",
       "                }\n",
       "            }, 500);\n",
       "            "
      ],
      "text/plain": [
       "<IPython.core.display.Javascript object>"
      ]
     },
     "metadata": {},
     "output_type": "display_data"
    }
   ],
   "source": [
    "targets = [\"CASP8\", \"BCL2L11\", \"DDIT3\", \"GRB10\"]"
   ]
  },
  {
   "cell_type": "code",
   "execution_count": 52,
   "id": "ab21d5b5",
   "metadata": {},
   "outputs": [
    {
     "data": {
      "text/plain": [
       "Text(0.5, 1.0, 'Shortest path length in pruned PPI')"
      ]
     },
     "execution_count": 52,
     "metadata": {},
     "output_type": "execute_result"
    },
    {
     "data": {
      "image/png": "[encoded data removed]",
      "text/plain": [
       "<Figure size 432x288 with 2 Axes>"
      ]
     },
     "metadata": {
      "needs_background": "light"
     },
     "output_type": "display_data"
    },
    {
     "data": {
      "application/javascript": [
       "\n",
       "            setTimeout(function() {\n",
       "                var nbb_cell_id = 52;\n",
       "                var nbb_unformatted_code = \"sp_dist = np.zeros([4, 4])\\nfor i in range(4):\\n    for j in range(4):\\n        sp_dist[i, j] = nx.shortest_path_length(\\n            ppi_v3, targets[i], targets[j], weight=\\\"spearmanr\\\"\\n        )\\nsp_dist = pd.DataFrame(sp_dist, index=targets, columns=targets)\\nsns.heatmap(sp_dist, vmin=1.5, annot=True)\\nplt.title(\\\"Shortest path length in pruned PPI\\\")\";\n",
       "                var nbb_formatted_code = \"sp_dist = np.zeros([4, 4])\\nfor i in range(4):\\n    for j in range(4):\\n        sp_dist[i, j] = nx.shortest_path_length(\\n            ppi_v3, targets[i], targets[j], weight=\\\"spearmanr\\\"\\n        )\\nsp_dist = pd.DataFrame(sp_dist, index=targets, columns=targets)\\nsns.heatmap(sp_dist, vmin=1.5, annot=True)\\nplt.title(\\\"Shortest path length in pruned PPI\\\")\";\n",
       "                var nbb_cells = Jupyter.notebook.get_cells();\n",
       "                for (var i = 0; i < nbb_cells.length; ++i) {\n",
       "                    if (nbb_cells[i].input_prompt_number == nbb_cell_id) {\n",
       "                        if (nbb_cells[i].get_text() == nbb_unformatted_code) {\n",
       "                             nbb_cells[i].set_text(nbb_formatted_code);\n",
       "                        }\n",
       "                        break;\n",
       "                    }\n",
       "                }\n",
       "            }, 500);\n",
       "            "
      ],
      "text/plain": [
       "<IPython.core.display.Javascript object>"
      ]
     },
     "metadata": {},
     "output_type": "display_data"
    }
   ],
   "source": [
    "sp_dist = np.zeros([4, 4])\n",
    "for i in range(4):\n",
    "    for j in range(4):\n",
    "        sp_dist[i, j] = nx.shortest_path_length(\n",
    "            ppi_v3, targets[i], targets[j], weight=\"spearmanr\"\n",
    "        )\n",
    "sp_dist = pd.DataFrame(sp_dist, index=targets, columns=targets)\n",
    "sns.heatmap(sp_dist, vmin=1.5, annot=True)\n",
    "plt.title(\"Shortest path length in pruned PPI\")"
   ]
  },
  {
   "cell_type": "code",
   "execution_count": 49,
   "id": "cc0339ff",
   "metadata": {},
   "outputs": [
    {
     "data": {
      "text/html": [
       "<div>\n",
       "<style scoped>\n",
       "    .dataframe tbody tr th:only-of-type {\n",
       "        vertical-align: middle;\n",
       "    }\n",
       "\n",
       "    .dataframe tbody tr th {\n",
       "        vertical-align: top;\n",
       "    }\n",
       "\n",
       "    .dataframe thead th {\n",
       "        text-align: right;\n",
       "    }\n",
       "</style>\n",
       "<table border=\"1\" class=\"dataframe\">\n",
       "  <thead>\n",
       "    <tr style=\"text-align: right;\">\n",
       "      <th></th>\n",
       "      <th>CASP8</th>\n",
       "      <th>BCL2L11</th>\n",
       "      <th>DDIT3</th>\n",
       "      <th>DDIT4</th>\n",
       "    </tr>\n",
       "  </thead>\n",
       "  <tbody>\n",
       "    <tr>\n",
       "      <th>CASP8</th>\n",
       "      <td>0.000000</td>\n",
       "      <td>1.917486</td>\n",
       "      <td>1.900114</td>\n",
       "      <td>2.753349</td>\n",
       "    </tr>\n",
       "    <tr>\n",
       "      <th>BCL2L11</th>\n",
       "      <td>1.917486</td>\n",
       "      <td>0.000000</td>\n",
       "      <td>2.633024</td>\n",
       "      <td>1.954630</td>\n",
       "    </tr>\n",
       "    <tr>\n",
       "      <th>DDIT3</th>\n",
       "      <td>1.900114</td>\n",
       "      <td>2.633024</td>\n",
       "      <td>0.000000</td>\n",
       "      <td>2.646121</td>\n",
       "    </tr>\n",
       "    <tr>\n",
       "      <th>DDIT4</th>\n",
       "      <td>2.753349</td>\n",
       "      <td>1.954630</td>\n",
       "      <td>2.646121</td>\n",
       "      <td>0.000000</td>\n",
       "    </tr>\n",
       "  </tbody>\n",
       "</table>\n",
       "</div>"
      ],
      "text/plain": [
       "            CASP8   BCL2L11     DDIT3     DDIT4\n",
       "CASP8    0.000000  1.917486  1.900114  2.753349\n",
       "BCL2L11  1.917486  0.000000  2.633024  1.954630\n",
       "DDIT3    1.900114  2.633024  0.000000  2.646121\n",
       "DDIT4    2.753349  1.954630  2.646121  0.000000"
      ]
     },
     "execution_count": 49,
     "metadata": {},
     "output_type": "execute_result"
    },
    {
     "data": {
      "application/javascript": [
       "\n",
       "            setTimeout(function() {\n",
       "                var nbb_cell_id = 49;\n",
       "                var nbb_unformatted_code = \"sp_dist\";\n",
       "                var nbb_formatted_code = \"sp_dist\";\n",
       "                var nbb_cells = Jupyter.notebook.get_cells();\n",
       "                for (var i = 0; i < nbb_cells.length; ++i) {\n",
       "                    if (nbb_cells[i].input_prompt_number == nbb_cell_id) {\n",
       "                        if (nbb_cells[i].get_text() == nbb_unformatted_code) {\n",
       "                             nbb_cells[i].set_text(nbb_formatted_code);\n",
       "                        }\n",
       "                        break;\n",
       "                    }\n",
       "                }\n",
       "            }, 500);\n",
       "            "
      ],
      "text/plain": [
       "<IPython.core.display.Javascript object>"
      ]
     },
     "metadata": {},
     "output_type": "display_data"
    }
   ],
   "source": [
    "sp_dist"
   ]
  },
  {
   "cell_type": "code",
   "execution_count": 60,
   "id": "e711f7c6",
   "metadata": {},
   "outputs": [
    {
     "data": {
      "text/plain": [
       "Text(0.5, 1.0, 'Shortest path length in PCST (max ORF, abs. logFC, MiScore')"
      ]
     },
     "execution_count": 60,
     "metadata": {},
     "output_type": "execute_result"
    },
    {
     "data": {
      "image/png": "[encoded data removed]",
      "text/plain": [
       "<Figure size 432x288 with 2 Axes>"
      ]
     },
     "metadata": {
      "needs_background": "light"
     },
     "output_type": "display_data"
    },
    {
     "data": {
      "application/javascript": [
       "\n",
       "            setTimeout(function() {\n",
       "                var nbb_cell_id = 60;\n",
       "                var nbb_unformatted_code = \"sp_dist = np.zeros([4, 4])\\nfor i in range(4):\\n    for j in range(4):\\n        sp_dist[i, j] = nx.shortest_path_length(\\n            nx.Graph(pcst), targets[i], targets[j], weight=\\\"mi_score\\\"\\n        )\\nsp_dist = pd.DataFrame(sp_dist, index=targets, columns=targets)\\nsns.heatmap(sp_dist, annot=True)\\nplt.title(\\\"Shortest path length in PCST (max ORF, abs. logFC, MiScore\\\")\";\n",
       "                var nbb_formatted_code = \"sp_dist = np.zeros([4, 4])\\nfor i in range(4):\\n    for j in range(4):\\n        sp_dist[i, j] = nx.shortest_path_length(\\n            nx.Graph(pcst), targets[i], targets[j], weight=\\\"mi_score\\\"\\n        )\\nsp_dist = pd.DataFrame(sp_dist, index=targets, columns=targets)\\nsns.heatmap(sp_dist, annot=True)\\nplt.title(\\\"Shortest path length in PCST (max ORF, abs. logFC, MiScore\\\")\";\n",
       "                var nbb_cells = Jupyter.notebook.get_cells();\n",
       "                for (var i = 0; i < nbb_cells.length; ++i) {\n",
       "                    if (nbb_cells[i].input_prompt_number == nbb_cell_id) {\n",
       "                        if (nbb_cells[i].get_text() == nbb_unformatted_code) {\n",
       "                             nbb_cells[i].set_text(nbb_formatted_code);\n",
       "                        }\n",
       "                        break;\n",
       "                    }\n",
       "                }\n",
       "            }, 500);\n",
       "            "
      ],
      "text/plain": [
       "<IPython.core.display.Javascript object>"
      ]
     },
     "metadata": {},
     "output_type": "display_data"
    }
   ],
   "source": [
    "sp_dist = np.zeros([4, 4])\n",
    "for i in range(4):\n",
    "    for j in range(4):\n",
    "        sp_dist[i, j] = nx.shortest_path_length(\n",
    "            nx.Graph(pcst), targets[i], targets[j], weight=\"mi_score\"\n",
    "        )\n",
    "sp_dist = pd.DataFrame(sp_dist, index=targets, columns=targets)\n",
    "sns.heatmap(sp_dist, annot=True)\n",
    "plt.title(\"Shortest path length in PCST (max ORF, abs. logFC, MiScore\")"
   ]
  },
  {
   "cell_type": "code",
   "execution_count": 61,
   "id": "d3e35aba",
   "metadata": {},
   "outputs": [
    {
     "data": {
      "image/png": "[encoded data removed]",
      "text/plain": [
       "<Figure size 432x432 with 1 Axes>"
      ]
     },
     "metadata": {},
     "output_type": "display_data"
    },
    {
     "data": {
      "application/javascript": [
       "\n",
       "            setTimeout(function() {\n",
       "                var nbb_cell_id = 61;\n",
       "                var nbb_unformatted_code = \"plt.figure(figsize=[6, 6])\\nnx.draw(\\n    pcst.subgraph(\\n        [\\n            \\\"CASP8\\\",\\n            \\\"BAX\\\",\\n            \\\"DDIT3\\\",\\n            \\\"GRB10\\\",\\n            \\\"BCL2L11\\\",\\n            \\\"TPT1\\\",\\n            \\\"UBC\\\",\\n            \\\"TPC\\\",\\n            \\\"BCL2\\\",\\n            \\\"BCL2L1\\\",\\n        ]\\n    ),\\n    with_labels=True,\\n    pos=nx.spring_layout(\\n        pcst.subgraph(\\n            [\\n                \\\"CASP8\\\",\\n                \\\"BAX\\\",\\n                \\\"DDIT3\\\",\\n                \\\"GRB10\\\",\\n                \\\"TPT1\\\",\\n                \\\"BCL2L11\\\",\\n                \\\"UBC\\\",\\n                \\\"TPC\\\",\\n                \\\"BCL2\\\",\\n                \\\"BCL2L1\\\",\\n            ]\\n        )\\n    ),\\n)\";\n",
       "                var nbb_formatted_code = \"plt.figure(figsize=[6, 6])\\nnx.draw(\\n    pcst.subgraph(\\n        [\\n            \\\"CASP8\\\",\\n            \\\"BAX\\\",\\n            \\\"DDIT3\\\",\\n            \\\"GRB10\\\",\\n            \\\"BCL2L11\\\",\\n            \\\"TPT1\\\",\\n            \\\"UBC\\\",\\n            \\\"TPC\\\",\\n            \\\"BCL2\\\",\\n            \\\"BCL2L1\\\",\\n        ]\\n    ),\\n    with_labels=True,\\n    pos=nx.spring_layout(\\n        pcst.subgraph(\\n            [\\n                \\\"CASP8\\\",\\n                \\\"BAX\\\",\\n                \\\"DDIT3\\\",\\n                \\\"GRB10\\\",\\n                \\\"TPT1\\\",\\n                \\\"BCL2L11\\\",\\n                \\\"UBC\\\",\\n                \\\"TPC\\\",\\n                \\\"BCL2\\\",\\n                \\\"BCL2L1\\\",\\n            ]\\n        )\\n    ),\\n)\";\n",
       "                var nbb_cells = Jupyter.notebook.get_cells();\n",
       "                for (var i = 0; i < nbb_cells.length; ++i) {\n",
       "                    if (nbb_cells[i].input_prompt_number == nbb_cell_id) {\n",
       "                        if (nbb_cells[i].get_text() == nbb_unformatted_code) {\n",
       "                             nbb_cells[i].set_text(nbb_formatted_code);\n",
       "                        }\n",
       "                        break;\n",
       "                    }\n",
       "                }\n",
       "            }, 500);\n",
       "            "
      ],
      "text/plain": [
       "<IPython.core.display.Javascript object>"
      ]
     },
     "metadata": {},
     "output_type": "display_data"
    }
   ],
   "source": [
    "plt.figure(figsize=[6, 6])\n",
    "nx.draw(\n",
    "    pcst.subgraph(\n",
    "        [\n",
    "            \"CASP8\",\n",
    "            \"BAX\",\n",
    "            \"DDIT3\",\n",
    "            \"GRB10\",\n",
    "            \"BCL2L11\",\n",
    "            \"TPT1\",\n",
    "            \"UBC\",\n",
    "            \"TPC\",\n",
    "            \"BCL2\",\n",
    "            \"BCL2L1\",\n",
    "        ]\n",
    "    ),\n",
    "    with_labels=True,\n",
    "    pos=nx.spring_layout(\n",
    "        pcst.subgraph(\n",
    "            [\n",
    "                \"CASP8\",\n",
    "                \"BAX\",\n",
    "                \"DDIT3\",\n",
    "                \"GRB10\",\n",
    "                \"TPT1\",\n",
    "                \"BCL2L11\",\n",
    "                \"UBC\",\n",
    "                \"TPC\",\n",
    "                \"BCL2\",\n",
    "                \"BCL2L1\",\n",
    "            ]\n",
    "        )\n",
    "    ),\n",
    ")"
   ]
  },
  {
   "cell_type": "code",
   "execution_count": 127,
   "id": "7fa2e157",
   "metadata": {},
   "outputs": [
    {
     "data": {
      "text/plain": [
       "['CASP8',\n",
       " 'SQSTM1',\n",
       " 'CDK1',\n",
       " 'AURKB',\n",
       " 'NDC80',\n",
       " 'AURKA',\n",
       " 'TACC3',\n",
       " 'AKAP9',\n",
       " 'MAGED1',\n",
       " 'HSPB1',\n",
       " 'TPT1',\n",
       " 'BCL2L1',\n",
       " 'BCL2L11']"
      ]
     },
     "execution_count": 127,
     "metadata": {},
     "output_type": "execute_result"
    },
    {
     "data": {
      "application/javascript": [
       "\n",
       "            setTimeout(function() {\n",
       "                var nbb_cell_id = 127;\n",
       "                var nbb_unformatted_code = \"nx.shortest_path(pcst, \\\"CASP8\\\", \\\"BCL2L11\\\", weight=\\\"pearsonp\\\")\";\n",
       "                var nbb_formatted_code = \"nx.shortest_path(pcst, \\\"CASP8\\\", \\\"BCL2L11\\\", weight=\\\"pearsonp\\\")\";\n",
       "                var nbb_cells = Jupyter.notebook.get_cells();\n",
       "                for (var i = 0; i < nbb_cells.length; ++i) {\n",
       "                    if (nbb_cells[i].input_prompt_number == nbb_cell_id) {\n",
       "                        if (nbb_cells[i].get_text() == nbb_unformatted_code) {\n",
       "                             nbb_cells[i].set_text(nbb_formatted_code);\n",
       "                        }\n",
       "                        break;\n",
       "                    }\n",
       "                }\n",
       "            }, 500);\n",
       "            "
      ],
      "text/plain": [
       "<IPython.core.display.Javascript object>"
      ]
     },
     "metadata": {},
     "output_type": "display_data"
    }
   ],
   "source": [
    "nx.shortest_path(pcst, \"CASP8\", \"BCL2L11\", weight=\"pearsonp\")"
   ]
  },
  {
   "cell_type": "code",
   "execution_count": 112,
   "id": "744c491f",
   "metadata": {},
   "outputs": [
    {
     "data": {
      "text/plain": [
       "0.598007563877871"
      ]
     },
     "execution_count": 112,
     "metadata": {},
     "output_type": "execute_result"
    },
    {
     "data": {
      "application/javascript": [
       "\n",
       "            setTimeout(function() {\n",
       "                var nbb_cell_id = 112;\n",
       "                var nbb_unformatted_code = \"ppi_v3.degree(\\\"UBC\\\")/len(ppi_v3.nodes())\";\n",
       "                var nbb_formatted_code = \"ppi_v3.degree(\\\"UBC\\\") / len(ppi_v3.nodes())\";\n",
       "                var nbb_cells = Jupyter.notebook.get_cells();\n",
       "                for (var i = 0; i < nbb_cells.length; ++i) {\n",
       "                    if (nbb_cells[i].input_prompt_number == nbb_cell_id) {\n",
       "                        if (nbb_cells[i].get_text() == nbb_unformatted_code) {\n",
       "                             nbb_cells[i].set_text(nbb_formatted_code);\n",
       "                        }\n",
       "                        break;\n",
       "                    }\n",
       "                }\n",
       "            }, 500);\n",
       "            "
      ],
      "text/plain": [
       "<IPython.core.display.Javascript object>"
      ]
     },
     "metadata": {},
     "output_type": "display_data"
    }
   ],
   "source": [
    "ppi_v3.degree(\"UBC\") / len(ppi_v3.nodes())"
   ]
  },
  {
   "cell_type": "code",
   "execution_count": 114,
   "id": "0a1f2323",
   "metadata": {},
   "outputs": [
    {
     "data": {
      "text/plain": [
       "0.10622065727699531"
      ]
     },
     "execution_count": 114,
     "metadata": {},
     "output_type": "execute_result"
    },
    {
     "data": {
      "application/javascript": [
       "\n",
       "            setTimeout(function() {\n",
       "                var nbb_cell_id = 114;\n",
       "                var nbb_unformatted_code = \"pcst.degree(\\\"UBC\\\") / len(pcst.nodes())\";\n",
       "                var nbb_formatted_code = \"pcst.degree(\\\"UBC\\\") / len(pcst.nodes())\";\n",
       "                var nbb_cells = Jupyter.notebook.get_cells();\n",
       "                for (var i = 0; i < nbb_cells.length; ++i) {\n",
       "                    if (nbb_cells[i].input_prompt_number == nbb_cell_id) {\n",
       "                        if (nbb_cells[i].get_text() == nbb_unformatted_code) {\n",
       "                             nbb_cells[i].set_text(nbb_formatted_code);\n",
       "                        }\n",
       "                        break;\n",
       "                    }\n",
       "                }\n",
       "            }, 500);\n",
       "            "
      ],
      "text/plain": [
       "<IPython.core.display.Javascript object>"
      ]
     },
     "metadata": {},
     "output_type": "display_data"
    }
   ],
   "source": [
    "pcst.degree(\"UBC\") / len(pcst.nodes())"
   ]
  },
  {
   "cell_type": "code",
   "execution_count": 124,
   "id": "051e6498",
   "metadata": {},
   "outputs": [
    {
     "data": {
      "text/plain": [
       "1.8009333297257553"
      ]
     },
     "execution_count": 124,
     "metadata": {},
     "output_type": "execute_result"
    },
    {
     "data": {
      "application/javascript": [
       "\n",
       "            setTimeout(function() {\n",
       "                var nbb_cell_id = 124;\n",
       "                var nbb_unformatted_code = \"nx.shortest_path_length(ppi_v3, \\\"DDIT3\\\", \\\"CASP8\\\", weight=\\\"spearmanr\\\")\";\n",
       "                var nbb_formatted_code = \"nx.shortest_path_length(ppi_v3, \\\"DDIT3\\\", \\\"CASP8\\\", weight=\\\"spearmanr\\\")\";\n",
       "                var nbb_cells = Jupyter.notebook.get_cells();\n",
       "                for (var i = 0; i < nbb_cells.length; ++i) {\n",
       "                    if (nbb_cells[i].input_prompt_number == nbb_cell_id) {\n",
       "                        if (nbb_cells[i].get_text() == nbb_unformatted_code) {\n",
       "                             nbb_cells[i].set_text(nbb_formatted_code);\n",
       "                        }\n",
       "                        break;\n",
       "                    }\n",
       "                }\n",
       "            }, 500);\n",
       "            "
      ],
      "text/plain": [
       "<IPython.core.display.Javascript object>"
      ]
     },
     "metadata": {},
     "output_type": "display_data"
    }
   ],
   "source": [
    "nx.shortest_path_length(ppi_v3, \"DDIT3\", \"CASP8\", weight=\"spearmanr\")"
   ]
  },
  {
   "cell_type": "code",
   "execution_count": 44,
   "id": "fc183cf0",
   "metadata": {},
   "outputs": [
    {
     "data": {
      "text/plain": [
       "1.8009333297257553"
      ]
     },
     "execution_count": 44,
     "metadata": {},
     "output_type": "execute_result"
    },
    {
     "data": {
      "application/javascript": [
       "\n",
       "            setTimeout(function() {\n",
       "                var nbb_cell_id = 44;\n",
       "                var nbb_unformatted_code = \"nx.shortest_path_length(ppi_v3, \\\"DDIT3\\\", \\\"CASP8\\\", weight=\\\"spearmanr\\\")\";\n",
       "                var nbb_formatted_code = \"nx.shortest_path_length(ppi_v3, \\\"DDIT3\\\", \\\"CASP8\\\", weight=\\\"spearmanr\\\")\";\n",
       "                var nbb_cells = Jupyter.notebook.get_cells();\n",
       "                for (var i = 0; i < nbb_cells.length; ++i) {\n",
       "                    if (nbb_cells[i].input_prompt_number == nbb_cell_id) {\n",
       "                        if (nbb_cells[i].get_text() == nbb_unformatted_code) {\n",
       "                             nbb_cells[i].set_text(nbb_formatted_code);\n",
       "                        }\n",
       "                        break;\n",
       "                    }\n",
       "                }\n",
       "            }, 500);\n",
       "            "
      ],
      "text/plain": [
       "<IPython.core.display.Javascript object>"
      ]
     },
     "metadata": {},
     "output_type": "display_data"
    }
   ],
   "source": [
    "nx.shortest_path_length(ppi_v3, \"DDIT3\", \"CASP8\", weight=\"spearmanr\")"
   ]
  },
  {
   "cell_type": "code",
   "execution_count": 45,
   "id": "83506861",
   "metadata": {},
   "outputs": [
    {
     "data": {
      "text/plain": [
       "1.9174856485400475"
      ]
     },
     "execution_count": 45,
     "metadata": {},
     "output_type": "execute_result"
    },
    {
     "data": {
      "application/javascript": [
       "\n",
       "            setTimeout(function() {\n",
       "                var nbb_cell_id = 45;\n",
       "                var nbb_unformatted_code = \"nx.shortest_path_length(ppi_v3, \\\"BCL2L11\\\", \\\"CASP8\\\", weight=\\\"spearmanr\\\")\";\n",
       "                var nbb_formatted_code = \"nx.shortest_path_length(ppi_v3, \\\"BCL2L11\\\", \\\"CASP8\\\", weight=\\\"spearmanr\\\")\";\n",
       "                var nbb_cells = Jupyter.notebook.get_cells();\n",
       "                for (var i = 0; i < nbb_cells.length; ++i) {\n",
       "                    if (nbb_cells[i].input_prompt_number == nbb_cell_id) {\n",
       "                        if (nbb_cells[i].get_text() == nbb_unformatted_code) {\n",
       "                             nbb_cells[i].set_text(nbb_formatted_code);\n",
       "                        }\n",
       "                        break;\n",
       "                    }\n",
       "                }\n",
       "            }, 500);\n",
       "            "
      ],
      "text/plain": [
       "<IPython.core.display.Javascript object>"
      ]
     },
     "metadata": {},
     "output_type": "display_data"
    }
   ],
   "source": [
    "nx.shortest_path_length(ppi_v3, \"BCL2L11\", \"CASP8\", weight=\"spearmanr\")"
   ]
  },
  {
   "cell_type": "code",
   "execution_count": null,
   "id": "a0a90c44",
   "metadata": {},
   "outputs": [],
   "source": []
  },
  {
   "cell_type": "markdown",
   "id": "ab7a1c30",
   "metadata": {},
   "source": [
    "#### Louvain clustering"
   ]
  },
  {
   "cell_type": "code",
   "execution_count": 151,
   "id": "984c15e3",
   "metadata": {},
   "outputs": [],
   "source": [
    "partition = community.best_partition(pcst, resolution=3, randomize=True)"
   ]
  },
  {
   "cell_type": "code",
   "execution_count": 152,
   "id": "dd147b22",
   "metadata": {},
   "outputs": [],
   "source": [
    "cluster_dict = {}\n",
    "for k, v in partition.items():\n",
    "    if v not in cluster_dict:\n",
    "        cluster_dict[v] = [k]\n",
    "    else:\n",
    "        cluster_dict[v].append(k)"
   ]
  },
  {
   "cell_type": "code",
   "execution_count": 153,
   "id": "eb3011a8",
   "metadata": {},
   "outputs": [
    {
     "name": "stdout",
     "output_type": "stream",
     "text": [
      "ORF targets in cluster 0: []\n",
      "ORF targets in cluster 27: ['ATM', 'ELK1', 'EIF2A', 'PPARGC1A', 'MLST8', 'PHLPP1', 'EIF4EBP1', 'CEBPA', 'XIAP', 'AKT1S1', 'REL', 'MAPKAP1']\n",
      "ORF targets in cluster 2: ['TSC1', 'VHL', 'XBP1', 'SDHA', 'E2F1', 'DIABLO', 'RHOA']\n",
      "ORF targets in cluster 3: ['GRB10', 'STAT1', 'CCNE1', 'CDK4', 'SLIRP', 'CDK2']\n",
      "ORF targets in cluster 4: ['CREB1', 'SREBF1', 'PKIA', 'BRCA1', 'SMAD5', 'CCND1', 'DVL3', 'CTNNB1']\n",
      "ORF targets in cluster 5: ['LRPPRC', 'MCL1', 'DUSP1', 'MAPK14', 'RPTOR', 'MAPK9', 'MAPK8', 'RHEB', 'BCL2L1', 'BCL2L11']\n",
      "ORF targets in cluster 6: ['STK3', 'CASP8', 'ATG16L1', 'RB1']\n",
      "ORF targets in cluster 7: ['IKBKB', 'TRAF6', 'HIF1A', 'CDKN1A', 'STAT3', 'TP53', 'PTEN', 'CRY1', 'RELA', 'CARD11', 'MAPK7', 'BAX', 'CYLD', 'SMAD7', 'EGLN1', 'FH']\n",
      "ORF targets in cluster 8: ['VEGFC']\n",
      "ORF targets in cluster 9: ['RPS6KB1', 'ARAF', 'CXXC4']\n",
      "ORF targets in cluster 10: ['BMP2', 'RIPK1']\n",
      "ORF targets in cluster 14: ['APAF1', 'ADAM17', 'CASP9']\n",
      "ORF targets in cluster 12: ['PPP2R5C', 'ATG5', 'SMO', 'APC']\n",
      "ORF targets in cluster 19: ['MKNK1', 'ACVR1B', 'BECN1', 'TGFBR2', 'MAPK1', 'BRAF', 'CHUK', 'IKBKE', 'MAP2K1', 'TBK1', 'TGFB1']\n",
      "ORF targets in cluster 22: ['TCF4', 'PER1']\n",
      "ORF targets in cluster 15: ['PSENEN', 'CLOCK', 'JUN', 'ATF6', 'CREBBP', 'MAP2K4', 'ARNTL']\n",
      "ORF targets in cluster 16: ['AKT3', 'KRAS', 'SGK3', 'BTRC', 'DKK1', 'WNT5A', 'GSK3B', 'RBPJ', 'AXIN2']\n",
      "ORF targets in cluster 17: ['HSP90AA1', 'IRAK4', 'PRKACB', 'PIK3R2', 'ERBB2', 'MAP3K9', 'AKT1', 'PRKAA1', 'IRAK1', 'AKT2', 'FGFR3']\n",
      "ORF targets in cluster 18: ['EIF4E', 'RICTOR']\n",
      "ORF targets in cluster 20: ['RAC1', 'JAG1', 'PRKACA', 'NOTCH2', 'TNFAIP3', 'DEPTOR']\n",
      "ORF targets in cluster 21: []\n",
      "ORF targets in cluster 23: ['NFKB2', 'WWTR1', 'CSNK1A1', 'YAP1', 'RELB', 'MAP3K5', 'HSPA5', 'NFKBIA', 'NFKBIB', 'PIK3R1', 'NFKBIE', 'ERN1', 'PRKCE', 'MAP3K8', 'PRKCZ', 'STK11', 'TSC2', 'DDIT4', 'MAP3K11', 'PIK3CB', 'NFKB1']\n",
      "ORF targets in cluster 24: ['MYD88', 'TRAF2', 'TRAF5', 'TRAF3']\n",
      "ORF targets in cluster 25: ['HIF1AN', 'SRC', 'ATF4', 'GLI1', 'DDIT3']\n",
      "ORF targets in cluster 26: ['MAP3K2', 'ATF2', 'MAP2K3', 'TGFBR1', 'MAPK13', 'SMAD3', 'DVL1', 'BMPR1B', 'SMURF2', 'BAMBI']\n",
      "ORF targets in cluster 28: ['CDC42', 'PIK3CD', 'HRAS', 'FURIN', 'HSP90B1', 'DVL2', 'JAK2']\n",
      "ORF targets in cluster 1: ['RAF1', 'SOCS3']\n",
      "ORF targets in cluster 11: ['DLL1', 'PRKCA', 'MAPK3', 'ERG', 'NOTCH1']\n",
      "ORF targets in cluster 13: ['PAK1', 'SMAD4', 'IRS1', 'MAP3K7', 'PDPK1', 'PIK3CA']\n",
      "ORF targets in cluster 29: ['FOXO1']\n"
     ]
    }
   ],
   "source": [
    "for k,v in cluster_dict.items():\n",
    "    print(\"ORF targets in cluster {}: {}\".format(k, list(set(v).intersection(orf_targets))))"
   ]
  },
  {
   "cell_type": "code",
   "execution_count": 102,
   "id": "92f6884f",
   "metadata": {},
   "outputs": [
    {
     "data": {
      "text/plain": [
       "{'EIF2A', 'ELK1', 'PHLPP1', 'PPARGC1A', 'XIAP'}"
      ]
     },
     "execution_count": 102,
     "metadata": {},
     "output_type": "execute_result"
    }
   ],
   "source": [
    "set(cluster_dict[1]).intersection(orf_targets)"
   ]
  },
  {
   "cell_type": "code",
   "execution_count": 103,
   "id": "ec6778c4",
   "metadata": {},
   "outputs": [
    {
     "data": {
      "text/plain": [
       "{'E2F1', 'VHL', 'XBP1'}"
      ]
     },
     "execution_count": 103,
     "metadata": {},
     "output_type": "execute_result"
    }
   ],
   "source": [
    "set(cluster_dict[2]).intersection(orf_targets)"
   ]
  },
  {
   "cell_type": "code",
   "execution_count": 104,
   "id": "5ddbd1d0",
   "metadata": {},
   "outputs": [
    {
     "data": {
      "text/plain": [
       "{'CCNE1'}"
      ]
     },
     "execution_count": 104,
     "metadata": {},
     "output_type": "execute_result"
    }
   ],
   "source": [
    "set(cluster_dict[3]).intersection(orf_targets)"
   ]
  },
  {
   "cell_type": "code",
   "execution_count": null,
   "id": "066770ab",
   "metadata": {},
   "outputs": [],
   "source": []
  }
 ],
 "metadata": {
  "kernelspec": {
   "display_name": "Python 3",
   "language": "python",
   "name": "python3"
  },
  "language_info": {
   "codemirror_mode": {
    "name": "ipython",
    "version": 3
   },
   "file_extension": ".py",
   "mimetype": "text/x-python",
   "name": "python",
   "nbconvert_exporter": "python",
   "pygments_lexer": "ipython3",
   "version": "3.8.10"
  }
 },
 "nbformat": 4,
 "nbformat_minor": 5
}
