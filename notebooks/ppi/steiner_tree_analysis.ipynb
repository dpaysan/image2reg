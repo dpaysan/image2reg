{
 "cells": [
  {
   "cell_type": "markdown",
   "id": "c7bee1c6",
   "metadata": {},
   "source": [
    "# Prize-collecting Steiner tree analysis\n",
    "\n",
    "---"
   ]
  },
  {
   "cell_type": "markdown",
   "id": "d622d6a9",
   "metadata": {},
   "source": [
    "This notebook can be used to perform the analyses to derive a cell-type specific interactome using a Prize-collecting Steiner tree analyses. The interactome will be used as input to describe the regulatory space of the cells.\n",
    "\n",
    "---"
   ]
  },
  {
   "cell_type": "markdown",
   "id": "ef2be30b",
   "metadata": {},
   "source": [
    "## 0. Environmental setup"
   ]
  },
  {
   "cell_type": "code",
   "execution_count": 466,
   "id": "84452fd2",
   "metadata": {},
   "outputs": [
    {
     "name": "stdout",
     "output_type": "stream",
     "text": [
      "The nb_black extension is already loaded. To reload it, use:\n",
      "  %reload_ext nb_black\n"
     ]
    },
    {
     "data": {
      "application/javascript": [
       "\n",
       "            setTimeout(function() {\n",
       "                var nbb_cell_id = 466;\n",
       "                var nbb_unformatted_code = \"import pandas as pd\\nimport scanpy as sc\\nimport numpy as np\\nimport os\\nimport seaborn as sns\\nimport matplotlib.pyplot as plt\\nimport networkx as nx\\nimport OmicsIntegrator as oi\\nimport scanpy as sc\\nfrom OmicsIntegrator import Graph\\nfrom typing import List\\nfrom pandas import DataFrame\\nfrom scipy import stats\\nfrom tqdm import tqdm\\nfrom pcst_fast import pcst_fast\\n\\nfrom collections import Counter\\nimport matplotlib.pyplot as plt\\nfrom matplotlib_venn import venn3, venn3_unweighted\\nfrom OmicsIntegrator.graph import betweenness, louvain_clustering, annotate_graph_nodes\\n\\n%load_ext nb_black\";\n",
       "                var nbb_formatted_code = \"import pandas as pd\\nimport scanpy as sc\\nimport numpy as np\\nimport os\\nimport seaborn as sns\\nimport matplotlib.pyplot as plt\\nimport networkx as nx\\nimport OmicsIntegrator as oi\\nimport scanpy as sc\\nfrom OmicsIntegrator import Graph\\nfrom typing import List\\nfrom pandas import DataFrame\\nfrom scipy import stats\\nfrom tqdm import tqdm\\nfrom pcst_fast import pcst_fast\\n\\nfrom collections import Counter\\nimport matplotlib.pyplot as plt\\nfrom matplotlib_venn import venn3, venn3_unweighted\\nfrom OmicsIntegrator.graph import betweenness, louvain_clustering, annotate_graph_nodes\\n\\n%load_ext nb_black\";\n",
       "                var nbb_cells = Jupyter.notebook.get_cells();\n",
       "                for (var i = 0; i < nbb_cells.length; ++i) {\n",
       "                    if (nbb_cells[i].input_prompt_number == nbb_cell_id) {\n",
       "                        if (nbb_cells[i].get_text() == nbb_unformatted_code) {\n",
       "                             nbb_cells[i].set_text(nbb_formatted_code);\n",
       "                        }\n",
       "                        break;\n",
       "                    }\n",
       "                }\n",
       "            }, 500);\n",
       "            "
      ],
      "text/plain": [
       "<IPython.core.display.Javascript object>"
      ]
     },
     "metadata": {},
     "output_type": "display_data"
    }
   ],
   "source": [
    "import pandas as pd\n",
    "import scanpy as sc\n",
    "import numpy as np\n",
    "import os\n",
    "import seaborn as sns\n",
    "import matplotlib.pyplot as plt\n",
    "import networkx as nx\n",
    "import OmicsIntegrator as oi\n",
    "import scanpy as sc\n",
    "from OmicsIntegrator import Graph\n",
    "from typing import List\n",
    "from pandas import DataFrame\n",
    "from scipy import stats\n",
    "from tqdm import tqdm\n",
    "from pcst_fast import pcst_fast\n",
    "\n",
    "from collections import Counter\n",
    "import matplotlib.pyplot as plt\n",
    "from matplotlib_venn import venn3, venn3_unweighted\n",
    "from OmicsIntegrator.graph import betweenness, louvain_clustering, annotate_graph_nodes\n",
    "\n",
    "%load_ext nb_black"
   ]
  },
  {
   "cell_type": "code",
   "execution_count": 40,
   "id": "c48fa957",
   "metadata": {},
   "outputs": [
    {
     "data": {
      "application/javascript": [
       "\n",
       "            setTimeout(function() {\n",
       "                var nbb_cell_id = 40;\n",
       "                var nbb_unformatted_code = \"def create_prizes_df(ppi_gene_set, terminals, node_attr_df, prize_col):\\n    terminal_df = node_attr_df.loc[node_attr_df[\\\"name\\\"].isin(terminals)]\\n    terminal_df = terminal_df[[\\\"name\\\", prize_col]]\\n    prizes_df = terminal_df.loc[terminal_df[\\\"name\\\"].isin(ppi_gene_set)]\\n    prizes_df = prizes_df.sort_values(\\\"name\\\")\\n    return prizes_df\";\n",
       "                var nbb_formatted_code = \"def create_prizes_df(ppi_gene_set, terminals, node_attr_df, prize_col):\\n    terminal_df = node_attr_df.loc[node_attr_df[\\\"name\\\"].isin(terminals)]\\n    terminal_df = terminal_df[[\\\"name\\\", prize_col]]\\n    prizes_df = terminal_df.loc[terminal_df[\\\"name\\\"].isin(ppi_gene_set)]\\n    prizes_df = prizes_df.sort_values(\\\"name\\\")\\n    return prizes_df\";\n",
       "                var nbb_cells = Jupyter.notebook.get_cells();\n",
       "                for (var i = 0; i < nbb_cells.length; ++i) {\n",
       "                    if (nbb_cells[i].input_prompt_number == nbb_cell_id) {\n",
       "                        if (nbb_cells[i].get_text() == nbb_unformatted_code) {\n",
       "                             nbb_cells[i].set_text(nbb_formatted_code);\n",
       "                        }\n",
       "                        break;\n",
       "                    }\n",
       "                }\n",
       "            }, 500);\n",
       "            "
      ],
      "text/plain": [
       "<IPython.core.display.Javascript object>"
      ]
     },
     "metadata": {},
     "output_type": "display_data"
    }
   ],
   "source": [
    "def create_prizes_df(ppi_gene_set, terminals, node_attr_df, prize_col):\n",
    "    terminal_df = node_attr_df.loc[node_attr_df[\"name\"].isin(terminals)]\n",
    "    terminal_df = terminal_df[[\"name\", prize_col]]\n",
    "    prizes_df = terminal_df.loc[terminal_df[\"name\"].isin(ppi_gene_set)]\n",
    "    prizes_df = prizes_df.sort_values(\"name\")\n",
    "    return prizes_df"
   ]
  },
  {
   "cell_type": "code",
   "execution_count": 79,
   "id": "a561bc55",
   "metadata": {},
   "outputs": [
    {
     "data": {
      "application/javascript": [
       "\n",
       "            setTimeout(function() {\n",
       "                var nbb_cell_id = 79;\n",
       "                var nbb_unformatted_code = \"def plot_degree_dist(graph, figsize=[8, 6], title=\\\"\\\", smoothing=1):\\n    degree_freq = nx.degree_histogram(graph)\\n    degrees = range(len(degree_freq))\\n    node_degrees = [graph.degree(n) for n in graph.nodes()]\\n    plt.figure(figsize=figsize)\\n    plt.loglog(degrees[::smoothing], degree_freq[::smoothing], \\\"o-\\\")\\n    plt.xlabel(\\\"Degree\\\")\\n    plt.ylabel(\\\"Frequency\\\")\\n    plt.title(title)\\n    return node_degrees\";\n",
       "                var nbb_formatted_code = \"def plot_degree_dist(graph, figsize=[8, 6], title=\\\"\\\", smoothing=1):\\n    degree_freq = nx.degree_histogram(graph)\\n    degrees = range(len(degree_freq))\\n    node_degrees = [graph.degree(n) for n in graph.nodes()]\\n    plt.figure(figsize=figsize)\\n    plt.loglog(degrees[::smoothing], degree_freq[::smoothing], \\\"o-\\\")\\n    plt.xlabel(\\\"Degree\\\")\\n    plt.ylabel(\\\"Frequency\\\")\\n    plt.title(title)\\n    return node_degrees\";\n",
       "                var nbb_cells = Jupyter.notebook.get_cells();\n",
       "                for (var i = 0; i < nbb_cells.length; ++i) {\n",
       "                    if (nbb_cells[i].input_prompt_number == nbb_cell_id) {\n",
       "                        if (nbb_cells[i].get_text() == nbb_unformatted_code) {\n",
       "                             nbb_cells[i].set_text(nbb_formatted_code);\n",
       "                        }\n",
       "                        break;\n",
       "                    }\n",
       "                }\n",
       "            }, 500);\n",
       "            "
      ],
      "text/plain": [
       "<IPython.core.display.Javascript object>"
      ]
     },
     "metadata": {},
     "output_type": "display_data"
    }
   ],
   "source": [
    "def plot_degree_dist(graph, figsize=[8, 6], title=\"\", smoothing=1):\n",
    "    degree_freq = nx.degree_histogram(graph)\n",
    "    degrees = range(len(degree_freq))\n",
    "    node_degrees = [graph.degree(n) for n in graph.nodes()]\n",
    "    plt.figure(figsize=figsize)\n",
    "    plt.loglog(degrees[::smoothing], degree_freq[::smoothing], \"o-\")\n",
    "    plt.xlabel(\"Degree\")\n",
    "    plt.ylabel(\"Frequency\")\n",
    "    plt.title(title)\n",
    "    return node_degrees"
   ]
  },
  {
   "cell_type": "code",
   "execution_count": 203,
   "id": "14aa2536",
   "metadata": {},
   "outputs": [
    {
     "data": {
      "application/javascript": [
       "\n",
       "            setTimeout(function() {\n",
       "                var nbb_cell_id = 203;\n",
       "                var nbb_unformatted_code = \"def plot_degree_dist_for_nodes(\\n    graph, nodes, figsize=[8, 6], title=\\\"\\\", smoothing=1, bins=50\\n):\\n    node_names = []\\n    node_degrees = []\\n    for node in graph.nodes():\\n        if node in nodes:\\n            node_degrees.append(graph.degree(node))\\n            node_names.append(node)\\n    plt.figure(figsize=figsize)\\n    plt.hist(node_degrees, bins=bins)\\n    plt.xlabel(\\\"Degree\\\")\\n    plt.ylabel(\\\"Frequency\\\")\\n    plt.title(title)\\n    return node_degrees, node_names\";\n",
       "                var nbb_formatted_code = \"def plot_degree_dist_for_nodes(\\n    graph, nodes, figsize=[8, 6], title=\\\"\\\", smoothing=1, bins=50\\n):\\n    node_names = []\\n    node_degrees = []\\n    for node in graph.nodes():\\n        if node in nodes:\\n            node_degrees.append(graph.degree(node))\\n            node_names.append(node)\\n    plt.figure(figsize=figsize)\\n    plt.hist(node_degrees, bins=bins)\\n    plt.xlabel(\\\"Degree\\\")\\n    plt.ylabel(\\\"Frequency\\\")\\n    plt.title(title)\\n    return node_degrees, node_names\";\n",
       "                var nbb_cells = Jupyter.notebook.get_cells();\n",
       "                for (var i = 0; i < nbb_cells.length; ++i) {\n",
       "                    if (nbb_cells[i].input_prompt_number == nbb_cell_id) {\n",
       "                        if (nbb_cells[i].get_text() == nbb_unformatted_code) {\n",
       "                             nbb_cells[i].set_text(nbb_formatted_code);\n",
       "                        }\n",
       "                        break;\n",
       "                    }\n",
       "                }\n",
       "            }, 500);\n",
       "            "
      ],
      "text/plain": [
       "<IPython.core.display.Javascript object>"
      ]
     },
     "metadata": {},
     "output_type": "display_data"
    }
   ],
   "source": [
    "def plot_degree_dist_for_nodes(\n",
    "    graph, nodes, figsize=[8, 6], title=\"\", smoothing=1, bins=50\n",
    "):\n",
    "    node_names = []\n",
    "    node_degrees = []\n",
    "    for node in graph.nodes():\n",
    "        if node in nodes:\n",
    "            node_degrees.append(graph.degree(node))\n",
    "            node_names.append(node)\n",
    "    plt.figure(figsize=figsize)\n",
    "    plt.hist(node_degrees, bins=bins)\n",
    "    plt.xlabel(\"Degree\")\n",
    "    plt.ylabel(\"Frequency\")\n",
    "    plt.title(title)\n",
    "    return node_degrees, node_names"
   ]
  },
  {
   "cell_type": "code",
   "execution_count": 180,
   "id": "e08df680",
   "metadata": {},
   "outputs": [
    {
     "data": {
      "application/javascript": [
       "\n",
       "            setTimeout(function() {\n",
       "                var nbb_cell_id = 180;\n",
       "                var nbb_unformatted_code = \"def plot_eigenvector_centrality_dist(graph, figsize=[8, 6], title=\\\"\\\", bins=50):\\n    eigen_cent = nx.eigenvector_centrality(graph)\\n    sns.displot(\\n        np.log10(list(eigen_cent.values())),\\n        height=figsize[1],\\n        aspect=figsize[0] / figsize[1],\\n        kind=\\\"hist\\\",\\n        bins=bins\\n    )\\n    plt.xlabel(\\\"Eigenvector centrality (log10)\\\")\\n    plt.title(title)\";\n",
       "                var nbb_formatted_code = \"def plot_eigenvector_centrality_dist(graph, figsize=[8, 6], title=\\\"\\\", bins=50):\\n    eigen_cent = nx.eigenvector_centrality(graph)\\n    sns.displot(\\n        np.log10(list(eigen_cent.values())),\\n        height=figsize[1],\\n        aspect=figsize[0] / figsize[1],\\n        kind=\\\"hist\\\",\\n        bins=bins,\\n    )\\n    plt.xlabel(\\\"Eigenvector centrality (log10)\\\")\\n    plt.title(title)\";\n",
       "                var nbb_cells = Jupyter.notebook.get_cells();\n",
       "                for (var i = 0; i < nbb_cells.length; ++i) {\n",
       "                    if (nbb_cells[i].input_prompt_number == nbb_cell_id) {\n",
       "                        if (nbb_cells[i].get_text() == nbb_unformatted_code) {\n",
       "                             nbb_cells[i].set_text(nbb_formatted_code);\n",
       "                        }\n",
       "                        break;\n",
       "                    }\n",
       "                }\n",
       "            }, 500);\n",
       "            "
      ],
      "text/plain": [
       "<IPython.core.display.Javascript object>"
      ]
     },
     "metadata": {},
     "output_type": "display_data"
    }
   ],
   "source": [
    "def plot_eigenvector_centrality_dist(graph, figsize=[8, 6], title=\"\", bins=50):\n",
    "    eigen_cent = nx.eigenvector_centrality(graph)\n",
    "    sns.displot(\n",
    "        np.log10(list(eigen_cent.values())),\n",
    "        height=figsize[1],\n",
    "        aspect=figsize[0] / figsize[1],\n",
    "        kind=\"hist\",\n",
    "        bins=bins,\n",
    "    )\n",
    "    plt.xlabel(\"Eigenvector centrality (log10)\")\n",
    "    plt.title(title)"
   ]
  },
  {
   "cell_type": "code",
   "execution_count": 212,
   "id": "1b4c6326",
   "metadata": {},
   "outputs": [
    {
     "data": {
      "application/javascript": [
       "\n",
       "            setTimeout(function() {\n",
       "                var nbb_cell_id = 212;\n",
       "                var nbb_unformatted_code = \"def plot_eigenvector_centrality_dist_nodes(\\n    graph, nodes, figsize=[8, 6], title=\\\"\\\", bins=50\\n):\\n    eigen_cent = []\\n    for node in nodes:\\n        if node in graph.nodes():\\n            eigen_cent.append(nx.eigenvector_centrality(graph, u=node))\\n    sns.displot(\\n        np.log10(list(eigen_cent)),\\n        height=figsize[1],\\n        aspect=figsize[0] / figsize[1],\\n        kind=\\\"hist\\\",\\n        bins=bins,\\n    )\\n    plt.xlabel(\\\"Eigenvector centrality (log10)\\\")\\n    plt.title(title)\";\n",
       "                var nbb_formatted_code = \"def plot_eigenvector_centrality_dist_nodes(\\n    graph, nodes, figsize=[8, 6], title=\\\"\\\", bins=50\\n):\\n    eigen_cent = []\\n    for node in nodes:\\n        if node in graph.nodes():\\n            eigen_cent.append(nx.eigenvector_centrality(graph, u=node))\\n    sns.displot(\\n        np.log10(list(eigen_cent)),\\n        height=figsize[1],\\n        aspect=figsize[0] / figsize[1],\\n        kind=\\\"hist\\\",\\n        bins=bins,\\n    )\\n    plt.xlabel(\\\"Eigenvector centrality (log10)\\\")\\n    plt.title(title)\";\n",
       "                var nbb_cells = Jupyter.notebook.get_cells();\n",
       "                for (var i = 0; i < nbb_cells.length; ++i) {\n",
       "                    if (nbb_cells[i].input_prompt_number == nbb_cell_id) {\n",
       "                        if (nbb_cells[i].get_text() == nbb_unformatted_code) {\n",
       "                             nbb_cells[i].set_text(nbb_formatted_code);\n",
       "                        }\n",
       "                        break;\n",
       "                    }\n",
       "                }\n",
       "            }, 500);\n",
       "            "
      ],
      "text/plain": [
       "<IPython.core.display.Javascript object>"
      ]
     },
     "metadata": {},
     "output_type": "display_data"
    }
   ],
   "source": [
    "def plot_eigenvector_centrality_dist_nodes(\n",
    "    graph, nodes, figsize=[8, 6], title=\"\", bins=50\n",
    "):\n",
    "    eigen_cent = []\n",
    "    for node in nodes:\n",
    "        if node in graph.nodes():\n",
    "            eigen_cent.append(nx.eigenvector_centrality(graph, u=node))\n",
    "    sns.displot(\n",
    "        np.log10(list(eigen_cent)),\n",
    "        height=figsize[1],\n",
    "        aspect=figsize[0] / figsize[1],\n",
    "        kind=\"hist\",\n",
    "        bins=bins,\n",
    "    )\n",
    "    plt.xlabel(\"Eigenvector centrality (log10)\")\n",
    "    plt.title(title)"
   ]
  },
  {
   "cell_type": "code",
   "execution_count": 288,
   "id": "75f9ece9",
   "metadata": {},
   "outputs": [
    {
     "data": {
      "application/javascript": [
       "\n",
       "            setTimeout(function() {\n",
       "                var nbb_cell_id = 288;\n",
       "                var nbb_unformatted_code = \"def plot_closeness_centrality_dist_nodes(\\n    graph, nodes, figsize=[8, 6], title=\\\"\\\", bins=50\\n):\\n    close_cent = []\\n    node_names = []\\n    for node in nodes:\\n        if node in graph.nodes():\\n            close_cent.append(nx.closeness_centrality(graph, u=node))\\n            node_names.append(node)\\n    sns.displot(\\n        list(close_cent),\\n        height=figsize[1],\\n        aspect=figsize[0] / figsize[1],\\n        kind=\\\"hist\\\",\\n        bins=bins,\\n    )\\n    plt.xlabel(\\\"Closeness centrality\\\")\\n    plt.title(title)\\n    return pd.DataFrame(close_cent, columns=[\\\"closeness_centrality\\\"], index=node_names)\";\n",
       "                var nbb_formatted_code = \"def plot_closeness_centrality_dist_nodes(\\n    graph, nodes, figsize=[8, 6], title=\\\"\\\", bins=50\\n):\\n    close_cent = []\\n    node_names = []\\n    for node in nodes:\\n        if node in graph.nodes():\\n            close_cent.append(nx.closeness_centrality(graph, u=node))\\n            node_names.append(node)\\n    sns.displot(\\n        list(close_cent),\\n        height=figsize[1],\\n        aspect=figsize[0] / figsize[1],\\n        kind=\\\"hist\\\",\\n        bins=bins,\\n    )\\n    plt.xlabel(\\\"Closeness centrality\\\")\\n    plt.title(title)\\n    return pd.DataFrame(close_cent, columns=[\\\"closeness_centrality\\\"], index=node_names)\";\n",
       "                var nbb_cells = Jupyter.notebook.get_cells();\n",
       "                for (var i = 0; i < nbb_cells.length; ++i) {\n",
       "                    if (nbb_cells[i].input_prompt_number == nbb_cell_id) {\n",
       "                        if (nbb_cells[i].get_text() == nbb_unformatted_code) {\n",
       "                             nbb_cells[i].set_text(nbb_formatted_code);\n",
       "                        }\n",
       "                        break;\n",
       "                    }\n",
       "                }\n",
       "            }, 500);\n",
       "            "
      ],
      "text/plain": [
       "<IPython.core.display.Javascript object>"
      ]
     },
     "metadata": {},
     "output_type": "display_data"
    }
   ],
   "source": [
    "def plot_closeness_centrality_dist_nodes(\n",
    "    graph, nodes, figsize=[8, 6], title=\"\", bins=50\n",
    "):\n",
    "    close_cent = []\n",
    "    node_names = []\n",
    "    for node in nodes:\n",
    "        if node in graph.nodes():\n",
    "            close_cent.append(nx.closeness_centrality(graph, u=node))\n",
    "            node_names.append(node)\n",
    "    sns.displot(\n",
    "        list(close_cent),\n",
    "        height=figsize[1],\n",
    "        aspect=figsize[0] / figsize[1],\n",
    "        kind=\"hist\",\n",
    "        bins=bins,\n",
    "    )\n",
    "    plt.xlabel(\"Closeness centrality\")\n",
    "    plt.title(title)\n",
    "    return pd.DataFrame(close_cent, columns=[\"closeness_centrality\"], index=node_names)"
   ]
  },
  {
   "cell_type": "code",
   "execution_count": 236,
   "id": "d297cf6d",
   "metadata": {},
   "outputs": [
    {
     "data": {
      "application/javascript": [
       "\n",
       "            setTimeout(function() {\n",
       "                var nbb_cell_id = 236;\n",
       "                var nbb_unformatted_code = \"def plot_average_shortest_path_length_dist_nodes(\\n    graph, nodes, figsize=[8, 6], title=\\\"\\\", bins=50\\n):\\n    avg_spls = []\\n    node_names = []\\n    for source_node in nodes:\\n        if source_node in graph.nodes():\\n            spls = []\\n            for target_node in nodes:\\n                if target_node in graph.nodes() and source_node != target_node:\\n                    spls.append(\\n                        nx.shortest_path_length(\\n                            graph, source=source_node, target=target_node\\n                        )\\n                    )\\n            avg_spls.append(np.mean(spls))\\n            node_names.append(source_node)\\n    sns.displot(\\n        list(avg_spls),\\n        height=figsize[1],\\n        aspect=figsize[0] / figsize[1],\\n        kind=\\\"hist\\\",\\n        bins=bins,\\n    )\\n    plt.xlabel(\\\"Average closest path length between targets\\\")\\n    plt.title(title)\\n    return pd.DataFrame(\\n        avg_spls, columns=[\\\"avg_closest_path_to_target\\\"], index=node_names\\n    )\";\n",
       "                var nbb_formatted_code = \"def plot_average_shortest_path_length_dist_nodes(\\n    graph, nodes, figsize=[8, 6], title=\\\"\\\", bins=50\\n):\\n    avg_spls = []\\n    node_names = []\\n    for source_node in nodes:\\n        if source_node in graph.nodes():\\n            spls = []\\n            for target_node in nodes:\\n                if target_node in graph.nodes() and source_node != target_node:\\n                    spls.append(\\n                        nx.shortest_path_length(\\n                            graph, source=source_node, target=target_node\\n                        )\\n                    )\\n            avg_spls.append(np.mean(spls))\\n            node_names.append(source_node)\\n    sns.displot(\\n        list(avg_spls),\\n        height=figsize[1],\\n        aspect=figsize[0] / figsize[1],\\n        kind=\\\"hist\\\",\\n        bins=bins,\\n    )\\n    plt.xlabel(\\\"Average closest path length between targets\\\")\\n    plt.title(title)\\n    return pd.DataFrame(\\n        avg_spls, columns=[\\\"avg_closest_path_to_target\\\"], index=node_names\\n    )\";\n",
       "                var nbb_cells = Jupyter.notebook.get_cells();\n",
       "                for (var i = 0; i < nbb_cells.length; ++i) {\n",
       "                    if (nbb_cells[i].input_prompt_number == nbb_cell_id) {\n",
       "                        if (nbb_cells[i].get_text() == nbb_unformatted_code) {\n",
       "                             nbb_cells[i].set_text(nbb_formatted_code);\n",
       "                        }\n",
       "                        break;\n",
       "                    }\n",
       "                }\n",
       "            }, 500);\n",
       "            "
      ],
      "text/plain": [
       "<IPython.core.display.Javascript object>"
      ]
     },
     "metadata": {},
     "output_type": "display_data"
    }
   ],
   "source": [
    "def plot_average_shortest_path_length_dist_nodes(\n",
    "    graph, nodes, figsize=[8, 6], title=\"\", bins=50\n",
    "):\n",
    "    avg_spls = []\n",
    "    node_names = []\n",
    "    for source_node in nodes:\n",
    "        if source_node in graph.nodes():\n",
    "            spls = []\n",
    "            for target_node in nodes:\n",
    "                if target_node in graph.nodes() and source_node != target_node:\n",
    "                    spls.append(\n",
    "                        nx.shortest_path_length(\n",
    "                            graph, source=source_node, target=target_node\n",
    "                        )\n",
    "                    )\n",
    "            avg_spls.append(np.mean(spls))\n",
    "            node_names.append(source_node)\n",
    "    sns.displot(\n",
    "        list(avg_spls),\n",
    "        height=figsize[1],\n",
    "        aspect=figsize[0] / figsize[1],\n",
    "        kind=\"hist\",\n",
    "        bins=bins,\n",
    "    )\n",
    "    plt.xlabel(\"Average closest path length between targets\")\n",
    "    plt.title(title)\n",
    "    return pd.DataFrame(\n",
    "        avg_spls, columns=[\"avg_closest_path_to_target\"], index=node_names\n",
    "    )"
   ]
  },
  {
   "cell_type": "code",
   "execution_count": 183,
   "id": "bdcbc3ae",
   "metadata": {},
   "outputs": [
    {
     "data": {
      "application/javascript": [
       "\n",
       "            setTimeout(function() {\n",
       "                var nbb_cell_id = 183;\n",
       "                var nbb_unformatted_code = \"def plot_edge_cost_hist(graph, figsize=[8, 6], title=\\\"\\\", bins=50):\\n    edges = graph.edges(data=True)\\n    costs = [e[-1][\\\"cost\\\"] for e in edges]\\n    g = sns.displot(\\n        costs,\\n        height=figsize[1],\\n        aspect=figsize[0] / figsize[1],\\n        kind=\\\"hist\\\",\\n        bins=bins,\\n    )\\n    plt.yscale(\\\"log\\\")\\n    plt.xlabel(\\\"Edge costs\\\")\\n    plt.title(title)\\n    return costs\";\n",
       "                var nbb_formatted_code = \"def plot_edge_cost_hist(graph, figsize=[8, 6], title=\\\"\\\", bins=50):\\n    edges = graph.edges(data=True)\\n    costs = [e[-1][\\\"cost\\\"] for e in edges]\\n    g = sns.displot(\\n        costs,\\n        height=figsize[1],\\n        aspect=figsize[0] / figsize[1],\\n        kind=\\\"hist\\\",\\n        bins=bins,\\n    )\\n    plt.yscale(\\\"log\\\")\\n    plt.xlabel(\\\"Edge costs\\\")\\n    plt.title(title)\\n    return costs\";\n",
       "                var nbb_cells = Jupyter.notebook.get_cells();\n",
       "                for (var i = 0; i < nbb_cells.length; ++i) {\n",
       "                    if (nbb_cells[i].input_prompt_number == nbb_cell_id) {\n",
       "                        if (nbb_cells[i].get_text() == nbb_unformatted_code) {\n",
       "                             nbb_cells[i].set_text(nbb_formatted_code);\n",
       "                        }\n",
       "                        break;\n",
       "                    }\n",
       "                }\n",
       "            }, 500);\n",
       "            "
      ],
      "text/plain": [
       "<IPython.core.display.Javascript object>"
      ]
     },
     "metadata": {},
     "output_type": "display_data"
    }
   ],
   "source": [
    "def plot_edge_cost_hist(graph, figsize=[8, 6], title=\"\", bins=50):\n",
    "    edges = graph.edges(data=True)\n",
    "    costs = [e[-1][\"cost\"] for e in edges]\n",
    "    g = sns.displot(\n",
    "        costs,\n",
    "        height=figsize[1],\n",
    "        aspect=figsize[0] / figsize[1],\n",
    "        kind=\"hist\",\n",
    "        bins=bins,\n",
    "    )\n",
    "    plt.yscale(\"log\")\n",
    "    plt.xlabel(\"Edge costs\")\n",
    "    plt.title(title)\n",
    "    return costs"
   ]
  },
  {
   "cell_type": "code",
   "execution_count": 249,
   "id": "ad5670fb",
   "metadata": {},
   "outputs": [
    {
     "data": {
      "application/javascript": [
       "\n",
       "            setTimeout(function() {\n",
       "                var nbb_cell_id = 249;\n",
       "                var nbb_unformatted_code = \"def plot_edge_weight_dist_nodes(graph, nodes, figsize=[8, 6], title=\\\"\\\", bins=50):\\n    edges = graph.edges(data=True)\\n    edge_costs = []\\n    for edge in edges:\\n        source = edge[0]\\n        target = edge[1]\\n        cost = edge[-1][\\\"cost\\\"]\\n        if source in nodes:\\n            edge_costs.append(cost)\\n    g = sns.displot(\\n        edge_costs,\\n        height=figsize[1],\\n        aspect=figsize[0] / figsize[1],\\n        kind=\\\"hist\\\",\\n        bins=bins,\\n    )\\n    plt.yscale(\\\"log\\\")\\n    plt.xlabel(\\\"Edge costs\\\")\\n    plt.title(title)\\n    return edge_costs\";\n",
       "                var nbb_formatted_code = \"def plot_edge_weight_dist_nodes(graph, nodes, figsize=[8, 6], title=\\\"\\\", bins=50):\\n    edges = graph.edges(data=True)\\n    edge_costs = []\\n    for edge in edges:\\n        source = edge[0]\\n        target = edge[1]\\n        cost = edge[-1][\\\"cost\\\"]\\n        if source in nodes:\\n            edge_costs.append(cost)\\n    g = sns.displot(\\n        edge_costs,\\n        height=figsize[1],\\n        aspect=figsize[0] / figsize[1],\\n        kind=\\\"hist\\\",\\n        bins=bins,\\n    )\\n    plt.yscale(\\\"log\\\")\\n    plt.xlabel(\\\"Edge costs\\\")\\n    plt.title(title)\\n    return edge_costs\";\n",
       "                var nbb_cells = Jupyter.notebook.get_cells();\n",
       "                for (var i = 0; i < nbb_cells.length; ++i) {\n",
       "                    if (nbb_cells[i].input_prompt_number == nbb_cell_id) {\n",
       "                        if (nbb_cells[i].get_text() == nbb_unformatted_code) {\n",
       "                             nbb_cells[i].set_text(nbb_formatted_code);\n",
       "                        }\n",
       "                        break;\n",
       "                    }\n",
       "                }\n",
       "            }, 500);\n",
       "            "
      ],
      "text/plain": [
       "<IPython.core.display.Javascript object>"
      ]
     },
     "metadata": {},
     "output_type": "display_data"
    }
   ],
   "source": [
    "def plot_edge_weight_dist_nodes(graph, nodes, figsize=[8, 6], title=\"\", bins=50):\n",
    "    edges = graph.edges(data=True)\n",
    "    edge_costs = []\n",
    "    for edge in edges:\n",
    "        source = edge[0]\n",
    "        target = edge[1]\n",
    "        cost = edge[-1][\"cost\"]\n",
    "        if source in nodes:\n",
    "            edge_costs.append(cost)\n",
    "    g = sns.displot(\n",
    "        edge_costs,\n",
    "        height=figsize[1],\n",
    "        aspect=figsize[0] / figsize[1],\n",
    "        kind=\"hist\",\n",
    "        bins=bins,\n",
    "    )\n",
    "    plt.yscale(\"log\")\n",
    "    plt.xlabel(\"Edge costs\")\n",
    "    plt.title(title)\n",
    "    return edge_costs"
   ]
  },
  {
   "cell_type": "code",
   "execution_count": 262,
   "id": "2c957718",
   "metadata": {},
   "outputs": [
    {
     "data": {
      "application/javascript": [
       "\n",
       "            setTimeout(function() {\n",
       "                var nbb_cell_id = 262;\n",
       "                var nbb_unformatted_code = \"def get_node_id_dict(graph):\\n    node_id_dict = dict(zip(list(range(len(graph.nodes()))), list(graph.nodes())))\\n    return node_id_dict\";\n",
       "                var nbb_formatted_code = \"def get_node_id_dict(graph):\\n    node_id_dict = dict(zip(list(range(len(graph.nodes()))), list(graph.nodes())))\\n    return node_id_dict\";\n",
       "                var nbb_cells = Jupyter.notebook.get_cells();\n",
       "                for (var i = 0; i < nbb_cells.length; ++i) {\n",
       "                    if (nbb_cells[i].input_prompt_number == nbb_cell_id) {\n",
       "                        if (nbb_cells[i].get_text() == nbb_unformatted_code) {\n",
       "                             nbb_cells[i].set_text(nbb_formatted_code);\n",
       "                        }\n",
       "                        break;\n",
       "                    }\n",
       "                }\n",
       "            }, 500);\n",
       "            "
      ],
      "text/plain": [
       "<IPython.core.display.Javascript object>"
      ]
     },
     "metadata": {},
     "output_type": "display_data"
    }
   ],
   "source": [
    "def get_node_id_dict(graph):\n",
    "    node_id_dict = dict(zip(list(range(len(graph.nodes()))), list(graph.nodes())))\n",
    "    return node_id_dict"
   ]
  },
  {
   "cell_type": "code",
   "execution_count": 279,
   "id": "a6bf3ce3",
   "metadata": {},
   "outputs": [
    {
     "data": {
      "application/javascript": [
       "\n",
       "            setTimeout(function() {\n",
       "                var nbb_cell_id = 279;\n",
       "                var nbb_unformatted_code = \"def get_edge_array(graph, node_id_dict):\\n    inv_node_id_dict = {v: k for k, v in node_id_dict.items()}\\n    edge_array = []\\n    for edge in graph.edges(data=True):\\n        edge_array.append(\\n            [inv_node_id_dict[edge[0]], inv_node_id_dict[edge[1]], edge[-1][\\\"cost\\\"]]\\n        )\\n    return np.array(edge_array)\";\n",
       "                var nbb_formatted_code = \"def get_edge_array(graph, node_id_dict):\\n    inv_node_id_dict = {v: k for k, v in node_id_dict.items()}\\n    edge_array = []\\n    for edge in graph.edges(data=True):\\n        edge_array.append(\\n            [inv_node_id_dict[edge[0]], inv_node_id_dict[edge[1]], edge[-1][\\\"cost\\\"]]\\n        )\\n    return np.array(edge_array)\";\n",
       "                var nbb_cells = Jupyter.notebook.get_cells();\n",
       "                for (var i = 0; i < nbb_cells.length; ++i) {\n",
       "                    if (nbb_cells[i].input_prompt_number == nbb_cell_id) {\n",
       "                        if (nbb_cells[i].get_text() == nbb_unformatted_code) {\n",
       "                             nbb_cells[i].set_text(nbb_formatted_code);\n",
       "                        }\n",
       "                        break;\n",
       "                    }\n",
       "                }\n",
       "            }, 500);\n",
       "            "
      ],
      "text/plain": [
       "<IPython.core.display.Javascript object>"
      ]
     },
     "metadata": {},
     "output_type": "display_data"
    }
   ],
   "source": [
    "def get_edge_array(graph, node_id_dict):\n",
    "    inv_node_id_dict = {v: k for k, v in node_id_dict.items()}\n",
    "    edge_array = []\n",
    "    for edge in graph.edges(data=True):\n",
    "        edge_array.append(\n",
    "            [inv_node_id_dict[edge[0]], inv_node_id_dict[edge[1]], edge[-1][\"cost\"]]\n",
    "        )\n",
    "    return np.array(edge_array)"
   ]
  },
  {
   "cell_type": "code",
   "execution_count": 284,
   "id": "ae679b85",
   "metadata": {},
   "outputs": [
    {
     "data": {
      "application/javascript": [
       "\n",
       "            setTimeout(function() {\n",
       "                var nbb_cell_id = 284;\n",
       "                var nbb_unformatted_code = \"def compute_node_prize(graph, node, terminals, alpha, beta, k=None):\\n    if k is None:\\n        k = np.infty\\n    min_shortest_path_length = np.infty\\n    for terminal in terminals:\\n        if node == terminal:\\n            terminal_shortest_path_length = 0\\n        else:\\n            terminal_shortest_path_length = nx.shortest_path_length(\\n                graph, source=node, target=terminal\\n            )\\n        min_shortest_path_length = min(\\n            min_shortest_path_length, terminal_shortest_path_length\\n        )\\n    if min_shortest_path_length > k:\\n        node_prize = 0\\n    else:\\n        node_prize = beta * alpha ** (-min_shortest_path_length)\\n    return node_prize\";\n",
       "                var nbb_formatted_code = \"def compute_node_prize(graph, node, terminals, alpha, beta, k=None):\\n    if k is None:\\n        k = np.infty\\n    min_shortest_path_length = np.infty\\n    for terminal in terminals:\\n        if node == terminal:\\n            terminal_shortest_path_length = 0\\n        else:\\n            terminal_shortest_path_length = nx.shortest_path_length(\\n                graph, source=node, target=terminal\\n            )\\n        min_shortest_path_length = min(\\n            min_shortest_path_length, terminal_shortest_path_length\\n        )\\n    if min_shortest_path_length > k:\\n        node_prize = 0\\n    else:\\n        node_prize = beta * alpha ** (-min_shortest_path_length)\\n    return node_prize\";\n",
       "                var nbb_cells = Jupyter.notebook.get_cells();\n",
       "                for (var i = 0; i < nbb_cells.length; ++i) {\n",
       "                    if (nbb_cells[i].input_prompt_number == nbb_cell_id) {\n",
       "                        if (nbb_cells[i].get_text() == nbb_unformatted_code) {\n",
       "                             nbb_cells[i].set_text(nbb_formatted_code);\n",
       "                        }\n",
       "                        break;\n",
       "                    }\n",
       "                }\n",
       "            }, 500);\n",
       "            "
      ],
      "text/plain": [
       "<IPython.core.display.Javascript object>"
      ]
     },
     "metadata": {},
     "output_type": "display_data"
    }
   ],
   "source": [
    "def compute_node_prize(graph, node, terminals, alpha, k=None):\n",
    "    if k is None:\n",
    "        k = np.infty\n",
    "    min_shortest_path_length = np.infty\n",
    "    for terminal in terminals:\n",
    "        if node == terminal:\n",
    "            terminal_shortest_path_length = 0\n",
    "        else:\n",
    "            terminal_shortest_path_length = nx.shortest_path_length(\n",
    "                graph, source=node, target=terminal\n",
    "            )\n",
    "        min_shortest_path_length = min(\n",
    "            min_shortest_path_length, terminal_shortest_path_length\n",
    "        )\n",
    "    if min_shortest_path_length > k:\n",
    "        node_prize = 0\n",
    "    else:\n",
    "        node_prize = * alpha ** (-min_shortest_path_length)\n",
    "    return node_prize"
   ]
  },
  {
   "cell_type": "code",
   "execution_count": 289,
   "id": "3faba9c8",
   "metadata": {},
   "outputs": [
    {
     "data": {
      "application/javascript": [
       "\n",
       "            setTimeout(function() {\n",
       "                var nbb_cell_id = 289;\n",
       "                var nbb_unformatted_code = \"def get_prize_array(graph, terminals, node_id_dict, alpha, beta, k=None):\\n    inv_node_id_dict = {v: k for k, v in node_id_dict.items()}\\n    if k is None:\\n        k = np.infty\\n    prize_array = np.zeros(len(inv_node_id_dict))\\n    for node in tqdm(graph.nodes(), desc=\\\"Compute node prizes\\\"):\\n        prize_array[inv_node_id_dict[node]] = compute_node_prize(\\n            graph, node, terminals, alpha, beta, k\\n        )\\n    return prize_array\";\n",
       "                var nbb_formatted_code = \"def get_prize_array(graph, terminals, node_id_dict, alpha, beta, k=None):\\n    inv_node_id_dict = {v: k for k, v in node_id_dict.items()}\\n    if k is None:\\n        k = np.infty\\n    prize_array = np.zeros(len(inv_node_id_dict))\\n    for node in tqdm(graph.nodes(), desc=\\\"Compute node prizes\\\"):\\n        prize_array[inv_node_id_dict[node]] = compute_node_prize(\\n            graph, node, terminals, alpha, beta, k\\n        )\\n    return prize_array\";\n",
       "                var nbb_cells = Jupyter.notebook.get_cells();\n",
       "                for (var i = 0; i < nbb_cells.length; ++i) {\n",
       "                    if (nbb_cells[i].input_prompt_number == nbb_cell_id) {\n",
       "                        if (nbb_cells[i].get_text() == nbb_unformatted_code) {\n",
       "                             nbb_cells[i].set_text(nbb_formatted_code);\n",
       "                        }\n",
       "                        break;\n",
       "                    }\n",
       "                }\n",
       "            }, 500);\n",
       "            "
      ],
      "text/plain": [
       "<IPython.core.display.Javascript object>"
      ]
     },
     "metadata": {},
     "output_type": "display_data"
    }
   ],
   "source": [
    "def get_prize_array(graph, terminals, node_id_dict, alpha, beta, k=None):\n",
    "    inv_node_id_dict = {v: k for k, v in node_id_dict.items()}\n",
    "    if k is None:\n",
    "        k = np.infty\n",
    "    prize_array = np.zeros(len(inv_node_id_dict))\n",
    "    for node in tqdm(graph.nodes(), desc=\"Compute node prizes\"):\n",
    "        prize_array[inv_node_id_dict[node]] = compute_node_prize(\n",
    "            graph, node, terminals, alpha, k\n",
    "        )\n",
    "    return prize_array"
   ]
  },
  {
   "cell_type": "code",
   "execution_count": 454,
   "id": "63c2c182",
   "metadata": {},
   "outputs": [
    {
     "data": {
      "application/javascript": [
       "\n",
       "            setTimeout(function() {\n",
       "                var nbb_cell_id = 454;\n",
       "                var nbb_unformatted_code = \"def get_prizes_df(graph, terminals, alpha, k=None):\\n    prizes = []\\n    node_names = []\\n    if k is None:\\n        kstr = \\\"None\\\"\\n    else:\\n        kstr = str(k)\\n    for node in tqdm(\\n        graph.interactome_graph.nodes(),\\n        desc=\\\"Compute prizes for (alpha,k)=({},{})\\\".format(alpha, kstr),\\n    ):\\n        node_names.append(node)\\n        prizes.append(\\n            compute_node_prize(graph.interactome_graph, node, terminals, alpha, beta, k)\\n        )\\n    prizes_df = pd.DataFrame(\\n        np.column_stack([node_names, prizes]), columns=[\\\"name\\\", \\\"prize\\\"]\\n    )\\n    prizes_df['prize'] = pd.to_numeric(prizes_df['prize'])\\n    return prizes_df\";\n",
       "                var nbb_formatted_code = \"def get_prizes_df(graph, terminals, alpha, k=None):\\n    prizes = []\\n    node_names = []\\n    if k is None:\\n        kstr = \\\"None\\\"\\n    else:\\n        kstr = str(k)\\n    for node in tqdm(\\n        graph.interactome_graph.nodes(),\\n        desc=\\\"Compute prizes for (alpha,k)=({},{})\\\".format(alpha, kstr),\\n    ):\\n        node_names.append(node)\\n        prizes.append(\\n            compute_node_prize(graph.interactome_graph, node, terminals, alpha, beta, k)\\n        )\\n    prizes_df = pd.DataFrame(\\n        np.column_stack([node_names, prizes]), columns=[\\\"name\\\", \\\"prize\\\"]\\n    )\\n    prizes_df[\\\"prize\\\"] = pd.to_numeric(prizes_df[\\\"prize\\\"])\\n    return prizes_df\";\n",
       "                var nbb_cells = Jupyter.notebook.get_cells();\n",
       "                for (var i = 0; i < nbb_cells.length; ++i) {\n",
       "                    if (nbb_cells[i].input_prompt_number == nbb_cell_id) {\n",
       "                        if (nbb_cells[i].get_text() == nbb_unformatted_code) {\n",
       "                             nbb_cells[i].set_text(nbb_formatted_code);\n",
       "                        }\n",
       "                        break;\n",
       "                    }\n",
       "                }\n",
       "            }, 500);\n",
       "            "
      ],
      "text/plain": [
       "<IPython.core.display.Javascript object>"
      ]
     },
     "metadata": {},
     "output_type": "display_data"
    }
   ],
   "source": [
    "def get_prizes_df(graph, terminals, alpha, k=None):\n",
    "    prizes = []\n",
    "    node_names = []\n",
    "    if k is None:\n",
    "        kstr = \"None\"\n",
    "    else:\n",
    "        kstr = str(k)\n",
    "    for node in tqdm(\n",
    "        graph.interactome_graph.nodes(),\n",
    "        desc=\"Compute prizes for (alpha,k)=({},{})\".format(alpha, kstr),\n",
    "    ):\n",
    "        node_names.append(node)\n",
    "        prizes.append(\n",
    "            compute_node_prize(graph.interactome_graph, node, terminals, alpha, beta, k)\n",
    "        )\n",
    "    prizes_df = pd.DataFrame(\n",
    "        np.column_stack([node_names, prizes]), columns=[\"name\", \"prize\"]\n",
    "    )\n",
    "    prizes_df[\"prize\"] = pd.to_numeric(prizes_df[\"prize\"])\n",
    "    return prizes_df"
   ]
  },
  {
   "cell_type": "code",
   "execution_count": 311,
   "id": "740805e4",
   "metadata": {},
   "outputs": [
    {
     "data": {
      "application/javascript": [
       "\n",
       "            setTimeout(function() {\n",
       "                var nbb_cell_id = 311;\n",
       "                var nbb_unformatted_code = \"def plot_prize_array(prize_array, figsize=[8,6], title=\\\"\\\", bins=50):\\n    g = sns.displot(        prize_array,\\n        height=figsize[1],\\n        aspect=figsize[0] / figsize[1],\\n        kind=\\\"hist\\\",\\n        bins=bins,)\\n    plt.xlabel(\\\"Node prize\\\")\\n    plt.title(title)\\n    \";\n",
       "                var nbb_formatted_code = \"def plot_prize_array(prize_array, figsize=[8, 6], title=\\\"\\\", bins=50):\\n    g = sns.displot(\\n        prize_array,\\n        height=figsize[1],\\n        aspect=figsize[0] / figsize[1],\\n        kind=\\\"hist\\\",\\n        bins=bins,\\n    )\\n    plt.xlabel(\\\"Node prize\\\")\\n    plt.title(title)\";\n",
       "                var nbb_cells = Jupyter.notebook.get_cells();\n",
       "                for (var i = 0; i < nbb_cells.length; ++i) {\n",
       "                    if (nbb_cells[i].input_prompt_number == nbb_cell_id) {\n",
       "                        if (nbb_cells[i].get_text() == nbb_unformatted_code) {\n",
       "                             nbb_cells[i].set_text(nbb_formatted_code);\n",
       "                        }\n",
       "                        break;\n",
       "                    }\n",
       "                }\n",
       "            }, 500);\n",
       "            "
      ],
      "text/plain": [
       "<IPython.core.display.Javascript object>"
      ]
     },
     "metadata": {},
     "output_type": "display_data"
    }
   ],
   "source": [
    "def plot_prize_array(prize_array, figsize=[8, 6], title=\"\", bins=50):\n",
    "    g = sns.displot(\n",
    "        prize_array,\n",
    "        height=figsize[1],\n",
    "        aspect=figsize[0] / figsize[1],\n",
    "        kind=\"hist\",\n",
    "        bins=bins,\n",
    "    )\n",
    "    plt.xlabel(\"Node prize\")\n",
    "    plt.title(title)"
   ]
  },
  {
   "cell_type": "code",
   "execution_count": 479,
   "id": "816b91c2",
   "metadata": {},
   "outputs": [
    {
     "data": {
      "application/javascript": [
       "\n",
       "            setTimeout(function() {\n",
       "                var nbb_cell_id = 479;\n",
       "                var nbb_unformatted_code = \"def output_tree_as_networkx(graph, vertex_indices, edge_indices):\\n    \\\"\\\"\\\"\\n    Adapted from https://fraenkel-lab.github.io/OmicsIntegrator2/html/_modules/graph.html\\n    \\\"\\\"\\\"\\n\\n    if len(vertex_indices) == 0:\\n        logger.warning(\\\"The resulting Tree is empty. Try different parameters.\\\")\\n        return nx.empty_graph(0), nx.empty_graph(0)\\n\\n    # Replace the edge indices with the actual edges (protein1 name, protein2 name) by indexing into the interactome\\n    edges = graph.interactome_dataframe.loc[edge_indices]\\n    tree = nx.from_pandas_edgelist(edges, \\\"protein1\\\", \\\"protein2\\\", edge_attr=True)\\n\\n    # Set all the attributes on graph\\n    nx.set_node_attributes(\\n        tree,\\n        graph.node_attributes.reindex(list(tree.nodes()))\\n        .dropna(how=\\\"all\\\")\\n        .to_dict(orient=\\\"index\\\"),\\n    )\\n    # Set a flag on all the edges which were selected by PCST (before augmenting the tree)\\n    nx.set_edge_attributes(tree, True, name=\\\"in_solution\\\")\\n\\n    # Create a new graph including all edges between all selected nodes, not just those edges selected by PCST.\\n    augmented_tree = nx.compose(graph.interactome_graph.subgraph(tree.nodes()), tree)\\n\\n    # Post-processing\\n    #betweenness(augmented_tree)\\n    #louvain_clustering(augmented_tree)\\n    #annotate_graph_nodes(augmented_tree)\\n\\n    return tree, augmented_tree\";\n",
       "                var nbb_formatted_code = \"def output_tree_as_networkx(graph, vertex_indices, edge_indices):\\n    \\\"\\\"\\\"\\n    Adapted from https://fraenkel-lab.github.io/OmicsIntegrator2/html/_modules/graph.html\\n    \\\"\\\"\\\"\\n\\n    if len(vertex_indices) == 0:\\n        logger.warning(\\\"The resulting Tree is empty. Try different parameters.\\\")\\n        return nx.empty_graph(0), nx.empty_graph(0)\\n\\n    # Replace the edge indices with the actual edges (protein1 name, protein2 name) by indexing into the interactome\\n    edges = graph.interactome_dataframe.loc[edge_indices]\\n    tree = nx.from_pandas_edgelist(edges, \\\"protein1\\\", \\\"protein2\\\", edge_attr=True)\\n\\n    # Set all the attributes on graph\\n    nx.set_node_attributes(\\n        tree,\\n        graph.node_attributes.reindex(list(tree.nodes()))\\n        .dropna(how=\\\"all\\\")\\n        .to_dict(orient=\\\"index\\\"),\\n    )\\n    # Set a flag on all the edges which were selected by PCST (before augmenting the tree)\\n    nx.set_edge_attributes(tree, True, name=\\\"in_solution\\\")\\n\\n    # Create a new graph including all edges between all selected nodes, not just those edges selected by PCST.\\n    augmented_tree = nx.compose(graph.interactome_graph.subgraph(tree.nodes()), tree)\\n\\n    # Post-processing\\n    # betweenness(augmented_tree)\\n    # louvain_clustering(augmented_tree)\\n    # annotate_graph_nodes(augmented_tree)\\n\\n    return tree, augmented_tree\";\n",
       "                var nbb_cells = Jupyter.notebook.get_cells();\n",
       "                for (var i = 0; i < nbb_cells.length; ++i) {\n",
       "                    if (nbb_cells[i].input_prompt_number == nbb_cell_id) {\n",
       "                        if (nbb_cells[i].get_text() == nbb_unformatted_code) {\n",
       "                             nbb_cells[i].set_text(nbb_formatted_code);\n",
       "                        }\n",
       "                        break;\n",
       "                    }\n",
       "                }\n",
       "            }, 500);\n",
       "            "
      ],
      "text/plain": [
       "<IPython.core.display.Javascript object>"
      ]
     },
     "metadata": {},
     "output_type": "display_data"
    }
   ],
   "source": [
    "def output_tree_as_networkx(graph, vertex_indices, edge_indices):\n",
    "    \"\"\"\n",
    "    Adapted from https://fraenkel-lab.github.io/OmicsIntegrator2/html/_modules/graph.html\n",
    "    \"\"\"\n",
    "\n",
    "    if len(vertex_indices) == 0:\n",
    "        logger.warning(\"The resulting Tree is empty. Try different parameters.\")\n",
    "        return nx.empty_graph(0), nx.empty_graph(0)\n",
    "\n",
    "    # Replace the edge indices with the actual edges (protein1 name, protein2 name) by indexing into the interactome\n",
    "    edges = graph.interactome_dataframe.loc[edge_indices]\n",
    "    tree = nx.from_pandas_edgelist(edges, \"protein1\", \"protein2\", edge_attr=True)\n",
    "\n",
    "    # Set all the attributes on graph\n",
    "    nx.set_node_attributes(\n",
    "        tree,\n",
    "        graph.node_attributes.reindex(list(tree.nodes()))\n",
    "        .dropna(how=\"all\")\n",
    "        .to_dict(orient=\"index\"),\n",
    "    )\n",
    "    # Set a flag on all the edges which were selected by PCST (before augmenting the tree)\n",
    "    nx.set_edge_attributes(tree, True, name=\"in_solution\")\n",
    "\n",
    "    # Create a new graph including all edges between all selected nodes, not just those edges selected by PCST.\n",
    "    augmented_tree = nx.compose(graph.interactome_graph.subgraph(tree.nodes()), tree)\n",
    "\n",
    "    # Post-processing\n",
    "    # betweenness(augmented_tree)\n",
    "    # louvain_clustering(augmented_tree)\n",
    "    # annotate_graph_nodes(augmented_tree)\n",
    "\n",
    "    return tree, augmented_tree"
   ]
  },
  {
   "cell_type": "code",
   "execution_count": 472,
   "id": "31c2953f",
   "metadata": {},
   "outputs": [
    {
     "data": {
      "application/javascript": [
       "\n",
       "            setTimeout(function() {\n",
       "                var nbb_cell_id = 472;\n",
       "                var nbb_unformatted_code = \"def run_sensitivity_analyses(graph, terminals, alphas, betas, ks=None):\\n    if ks is None:\\n        ks =[None]\\n    trees_dict= {}\\n    edges = graph.edges\\n    costs = graph.costs\\n    for alpha in alphas:\\n        for k in ks:\\n            prizes_df = get_prizes_df(graph, terminals, alpha, k)\\n            graph.params.b = 1\\n            graph._prepare_prizes(prizes_df)\\n            graph.node_attributes.loc[terminals, \\\"terminals\\\"] = True\\n            graph.terminals = np.where(graph.node_attributes[\\\"terminal\\\"] == True)[0]\\n            graph.prizes = np.array(prizes_df.loc[:, \\\"prize\\\"])\\n            prizes = graph.prizes\\n            for beta in betas:\\n                prizes = beta * prizes\\n                vertex_indices, edge_indices = pcst_fast(edges, prizes, costs, -1, 1, \\\"strong\\\", 0)\\n                tree, augmented_tree = output_tree_as_networkx(graph, vertex_indices, edge_indices)\\n                if k is None:\\n                    kstr = \\\"None\\\"\\n                else:\\n                    kstr = str(k)\\n                tree_id = \\\"tree_alpha_{}_beta_{}_k_{}\\\".format(alpha, beta, kstr)\\n                trees_dict[tree_id] = augmented_tree\\n                \\n    return trees_dict, graph\\n    \";\n",
       "                var nbb_formatted_code = \"def run_sensitivity_analyses(graph, terminals, alphas, betas, ks=None):\\n    if ks is None:\\n        ks = [None]\\n    trees_dict = {}\\n    edges = graph.edges\\n    costs = graph.costs\\n    for alpha in alphas:\\n        for k in ks:\\n            prizes_df = get_prizes_df(graph, terminals, alpha, k)\\n            graph.params.b = 1\\n            graph._prepare_prizes(prizes_df)\\n            graph.node_attributes.loc[terminals, \\\"terminals\\\"] = True\\n            graph.terminals = np.where(graph.node_attributes[\\\"terminal\\\"] == True)[0]\\n            graph.prizes = np.array(prizes_df.loc[:, \\\"prize\\\"])\\n            prizes = graph.prizes\\n            for beta in betas:\\n                prizes = beta * prizes\\n                vertex_indices, edge_indices = pcst_fast(\\n                    edges, prizes, costs, -1, 1, \\\"strong\\\", 0\\n                )\\n                tree, augmented_tree = output_tree_as_networkx(\\n                    graph, vertex_indices, edge_indices\\n                )\\n                if k is None:\\n                    kstr = \\\"None\\\"\\n                else:\\n                    kstr = str(k)\\n                tree_id = \\\"tree_alpha_{}_beta_{}_k_{}\\\".format(alpha, beta, kstr)\\n                trees_dict[tree_id] = augmented_tree\\n\\n    return trees_dict, graph\";\n",
       "                var nbb_cells = Jupyter.notebook.get_cells();\n",
       "                for (var i = 0; i < nbb_cells.length; ++i) {\n",
       "                    if (nbb_cells[i].input_prompt_number == nbb_cell_id) {\n",
       "                        if (nbb_cells[i].get_text() == nbb_unformatted_code) {\n",
       "                             nbb_cells[i].set_text(nbb_formatted_code);\n",
       "                        }\n",
       "                        break;\n",
       "                    }\n",
       "                }\n",
       "            }, 500);\n",
       "            "
      ],
      "text/plain": [
       "<IPython.core.display.Javascript object>"
      ]
     },
     "metadata": {},
     "output_type": "display_data"
    }
   ],
   "source": [
    "def run_sensitivity_analyses(graph, terminals, alphas, betas, ks=None):\n",
    "    if ks is None:\n",
    "        ks =[None]\n",
    "    trees_dict= {}\n",
    "    edges = graph.edges\n",
    "    costs = graph.costs\n",
    "    for alpha in alphas:\n",
    "        for k in ks:\n",
    "            prizes_df = get_prizes_df(graph, terminals, alpha, k)\n",
    "            graph.params.b = 1\n",
    "            graph._prepare_prizes(prizes_df)\n",
    "            graph.node_attributes.loc[terminals, \"terminals\"] = True\n",
    "            graph.terminals = np.where(graph.node_attributes[\"terminal\"] == True)[0]\n",
    "            graph.prizes = np.array(prizes_df.loc[:, \"prize\"])\n",
    "            prizes = graph.prizes\n",
    "            for beta in betas:\n",
    "                prizes = beta * prizes\n",
    "                vertex_indices, edge_indices = pcst_fast(edges, prizes, costs, -1, 1, \"strong\", 0)\n",
    "                tree, augmented_tree = output_tree_as_networkx(graph, vertex_indices, edge_indices)\n",
    "                if k is None:\n",
    "                    kstr = \"None\"\n",
    "                else:\n",
    "                    kstr = str(k)\n",
    "                tree_id = \"tree_alpha_{}_beta_{}_k_{}\".format(alpha, beta, kstr)\n",
    "                trees_dict[tree_id] = augmented_tree\n",
    "                \n",
    "    return trees_dict, graph\n",
    "    \n"
   ]
  },
  {
   "cell_type": "markdown",
   "id": "a8923fba",
   "metadata": {},
   "source": [
    "---\n",
    "\n",
    "## 1. Read in data"
   ]
  },
  {
   "cell_type": "markdown",
   "id": "569156f7",
   "metadata": {},
   "source": [
    "After setting up the environment, we will now load the required data that is the most recent version of human interactome derived from the iRefIndex data base (v14), as well as the sc-RNAseq data set of the U2OS cells that was analyzed previously."
   ]
  },
  {
   "cell_type": "markdown",
   "id": "cf3cbeda",
   "metadata": {},
   "source": [
    "We first load the edge list that defines the PPI as given by the iRefIndexDB v14."
   ]
  },
  {
   "cell_type": "code",
   "execution_count": 41,
   "id": "39e2e47b",
   "metadata": {},
   "outputs": [
    {
     "data": {
      "text/html": [
       "<div>\n",
       "<style scoped>\n",
       "    .dataframe tbody tr th:only-of-type {\n",
       "        vertical-align: middle;\n",
       "    }\n",
       "\n",
       "    .dataframe tbody tr th {\n",
       "        vertical-align: top;\n",
       "    }\n",
       "\n",
       "    .dataframe thead th {\n",
       "        text-align: right;\n",
       "    }\n",
       "</style>\n",
       "<table border=\"1\" class=\"dataframe\">\n",
       "  <thead>\n",
       "    <tr style=\"text-align: right;\">\n",
       "      <th></th>\n",
       "      <th>protein1</th>\n",
       "      <th>protein2</th>\n",
       "      <th>cost</th>\n",
       "    </tr>\n",
       "  </thead>\n",
       "  <tbody>\n",
       "    <tr>\n",
       "      <th>0</th>\n",
       "      <td>C9ORF72</td>\n",
       "      <td>ACTB</td>\n",
       "      <td>0.598835</td>\n",
       "    </tr>\n",
       "    <tr>\n",
       "      <th>1</th>\n",
       "      <td>C9ORF72</td>\n",
       "      <td>ACTN4</td>\n",
       "      <td>0.598835</td>\n",
       "    </tr>\n",
       "    <tr>\n",
       "      <th>2</th>\n",
       "      <td>C9ORF72</td>\n",
       "      <td>ACTR2</td>\n",
       "      <td>0.598835</td>\n",
       "    </tr>\n",
       "    <tr>\n",
       "      <th>3</th>\n",
       "      <td>C9ORF72</td>\n",
       "      <td>ACTR3</td>\n",
       "      <td>0.598835</td>\n",
       "    </tr>\n",
       "    <tr>\n",
       "      <th>4</th>\n",
       "      <td>C9ORF72</td>\n",
       "      <td>ACTR3B</td>\n",
       "      <td>0.598835</td>\n",
       "    </tr>\n",
       "  </tbody>\n",
       "</table>\n",
       "</div>"
      ],
      "text/plain": [
       "  protein1 protein2      cost\n",
       "0  C9ORF72     ACTB  0.598835\n",
       "1  C9ORF72    ACTN4  0.598835\n",
       "2  C9ORF72    ACTR2  0.598835\n",
       "3  C9ORF72    ACTR3  0.598835\n",
       "4  C9ORF72   ACTR3B  0.598835"
      ]
     },
     "execution_count": 41,
     "metadata": {},
     "output_type": "execute_result"
    },
    {
     "data": {
      "application/javascript": [
       "\n",
       "            setTimeout(function() {\n",
       "                var nbb_cell_id = 41;\n",
       "                var nbb_unformatted_code = \"ppi_file = \\\"../../data/ppi/iRefIndex_v14_MIScore_interactome_C9.costs.txt\\\"\\nppi_edge_list = pd.read_csv(ppi_file, sep=\\\"\\\\t\\\")\\nppi_edge_list.head()\";\n",
       "                var nbb_formatted_code = \"ppi_file = \\\"../../data/ppi/iRefIndex_v14_MIScore_interactome_C9.costs.txt\\\"\\nppi_edge_list = pd.read_csv(ppi_file, sep=\\\"\\\\t\\\")\\nppi_edge_list.head()\";\n",
       "                var nbb_cells = Jupyter.notebook.get_cells();\n",
       "                for (var i = 0; i < nbb_cells.length; ++i) {\n",
       "                    if (nbb_cells[i].input_prompt_number == nbb_cell_id) {\n",
       "                        if (nbb_cells[i].get_text() == nbb_unformatted_code) {\n",
       "                             nbb_cells[i].set_text(nbb_formatted_code);\n",
       "                        }\n",
       "                        break;\n",
       "                    }\n",
       "                }\n",
       "            }, 500);\n",
       "            "
      ],
      "text/plain": [
       "<IPython.core.display.Javascript object>"
      ]
     },
     "metadata": {},
     "output_type": "display_data"
    }
   ],
   "source": [
    "ppi_file = \"../../data/ppi/iRefIndex_v14_MIScore_interactome_C9.costs.txt\"\n",
    "ppi_edge_list = pd.read_csv(ppi_file, sep=\"\\t\")\n",
    "ppi_edge_list.head()"
   ]
  },
  {
   "cell_type": "markdown",
   "id": "1af10ab3",
   "metadata": {},
   "source": [
    "The data already defines the edge cost that is computed as $1-m(e)$, where $m(e)$ is the confidence of the edge as computed by the MIScore from the metrics reported by the iRefIndexDB."
   ]
  },
  {
   "cell_type": "markdown",
   "id": "f785be85",
   "metadata": {},
   "source": [
    "Second, we load the preprocessed scRNA-seq data set of the U2Os cells."
   ]
  },
  {
   "cell_type": "code",
   "execution_count": 42,
   "id": "eda9c6c0",
   "metadata": {},
   "outputs": [
    {
     "name": "stderr",
     "output_type": "stream",
     "text": [
      "Variable names are not unique. To make them unique, call `.var_names_make_unique`.\n"
     ]
    },
    {
     "data": {
      "application/javascript": [
       "\n",
       "            setTimeout(function() {\n",
       "                var nbb_cell_id = 42;\n",
       "                var nbb_unformatted_code = \"gex_adata = sc.read(\\\"../../data/gex/fucci_adata.h5\\\")\";\n",
       "                var nbb_formatted_code = \"gex_adata = sc.read(\\\"../../data/gex/fucci_adata.h5\\\")\";\n",
       "                var nbb_cells = Jupyter.notebook.get_cells();\n",
       "                for (var i = 0; i < nbb_cells.length; ++i) {\n",
       "                    if (nbb_cells[i].input_prompt_number == nbb_cell_id) {\n",
       "                        if (nbb_cells[i].get_text() == nbb_unformatted_code) {\n",
       "                             nbb_cells[i].set_text(nbb_formatted_code);\n",
       "                        }\n",
       "                        break;\n",
       "                    }\n",
       "                }\n",
       "            }, 500);\n",
       "            "
      ],
      "text/plain": [
       "<IPython.core.display.Javascript object>"
      ]
     },
     "metadata": {},
     "output_type": "display_data"
    }
   ],
   "source": [
    "gex_adata = sc.read(\"../../data/gex/fucci_adata.h5\")"
   ]
  },
  {
   "cell_type": "code",
   "execution_count": 43,
   "id": "2aedb508",
   "metadata": {},
   "outputs": [
    {
     "data": {
      "application/javascript": [
       "\n",
       "            setTimeout(function() {\n",
       "                var nbb_cell_id = 43;\n",
       "                var nbb_unformatted_code = \"gex_adata.var_names_make_unique()\";\n",
       "                var nbb_formatted_code = \"gex_adata.var_names_make_unique()\";\n",
       "                var nbb_cells = Jupyter.notebook.get_cells();\n",
       "                for (var i = 0; i < nbb_cells.length; ++i) {\n",
       "                    if (nbb_cells[i].input_prompt_number == nbb_cell_id) {\n",
       "                        if (nbb_cells[i].get_text() == nbb_unformatted_code) {\n",
       "                             nbb_cells[i].set_text(nbb_formatted_code);\n",
       "                        }\n",
       "                        break;\n",
       "                    }\n",
       "                }\n",
       "            }, 500);\n",
       "            "
      ],
      "text/plain": [
       "<IPython.core.display.Javascript object>"
      ]
     },
     "metadata": {},
     "output_type": "display_data"
    }
   ],
   "source": [
    "gex_adata.var_names_make_unique()"
   ]
  },
  {
   "cell_type": "markdown",
   "id": "0c7c62dd",
   "metadata": {},
   "source": [
    "Finally, we load in the list of gene targets from the study by Rohban et al. (2017)"
   ]
  },
  {
   "cell_type": "code",
   "execution_count": 44,
   "id": "a56452d6",
   "metadata": {},
   "outputs": [
    {
     "data": {
      "application/javascript": [
       "\n",
       "            setTimeout(function() {\n",
       "                var nbb_cell_id = 44;\n",
       "                var nbb_unformatted_code = \"gene_targets = set(\\n    list(pd.read_csv(\\\"../../data/gex/gene_target_list.txt\\\", header=None).iloc[:, -1])\\n)\";\n",
       "                var nbb_formatted_code = \"gene_targets = set(\\n    list(pd.read_csv(\\\"../../data/gex/gene_target_list.txt\\\", header=None).iloc[:, -1])\\n)\";\n",
       "                var nbb_cells = Jupyter.notebook.get_cells();\n",
       "                for (var i = 0; i < nbb_cells.length; ++i) {\n",
       "                    if (nbb_cells[i].input_prompt_number == nbb_cell_id) {\n",
       "                        if (nbb_cells[i].get_text() == nbb_unformatted_code) {\n",
       "                             nbb_cells[i].set_text(nbb_formatted_code);\n",
       "                        }\n",
       "                        break;\n",
       "                    }\n",
       "                }\n",
       "            }, 500);\n",
       "            "
      ],
      "text/plain": [
       "<IPython.core.display.Javascript object>"
      ]
     },
     "metadata": {},
     "output_type": "display_data"
    }
   ],
   "source": [
    "gene_targets = set(\n",
    "    list(pd.read_csv(\"../../data/gex/gene_target_list.txt\", header=None).iloc[:, -1])\n",
    ")"
   ]
  },
  {
   "cell_type": "markdown",
   "id": "8a21dcd0",
   "metadata": {},
   "source": [
    "---\n",
    "\n",
    "## 2. Data overview"
   ]
  },
  {
   "cell_type": "markdown",
   "id": "77d64736",
   "metadata": {},
   "source": [
    "Before we continue with the derivation of the interactome, we will first quickly check the overlap of the three gene sets defined by the ORF perturbation targets, the covered genes in the scRNA-seq data set and those covered by the PPI from the iRefIndexDB. Note, that since multiple EnsembleIDs mapped to the same HGNC symbol, we added a posfix to duplicate genes in the scRNA-seq data set. Thus, we do not expect a perfect overlap of the set of our U2OS scRNA-seq data set and the gene/protein set of the whole human interactome."
   ]
  },
  {
   "cell_type": "code",
   "execution_count": 45,
   "id": "41d6d5ef",
   "metadata": {},
   "outputs": [
    {
     "data": {
      "application/javascript": [
       "\n",
       "            setTimeout(function() {\n",
       "                var nbb_cell_id = 45;\n",
       "                var nbb_unformatted_code = \"ppi_graph = oi.Graph(ppi_file)\\nppi_genes = ppi_graph.nodes\\nppi_genes = list(ppi_gene_set)\\nppi_genes = [str.upper(str.strip(gene)) for gene in ppi_genes]\\n\\nppi_gene_df = pd.DataFrame(ppi_genes, columns=[\\\"name\\\"])\";\n",
       "                var nbb_formatted_code = \"ppi_graph = oi.Graph(ppi_file)\\nppi_genes = ppi_graph.nodes\\nppi_genes = list(ppi_gene_set)\\nppi_genes = [str.upper(str.strip(gene)) for gene in ppi_genes]\\n\\nppi_gene_df = pd.DataFrame(ppi_genes, columns=[\\\"name\\\"])\";\n",
       "                var nbb_cells = Jupyter.notebook.get_cells();\n",
       "                for (var i = 0; i < nbb_cells.length; ++i) {\n",
       "                    if (nbb_cells[i].input_prompt_number == nbb_cell_id) {\n",
       "                        if (nbb_cells[i].get_text() == nbb_unformatted_code) {\n",
       "                             nbb_cells[i].set_text(nbb_formatted_code);\n",
       "                        }\n",
       "                        break;\n",
       "                    }\n",
       "                }\n",
       "            }, 500);\n",
       "            "
      ],
      "text/plain": [
       "<IPython.core.display.Javascript object>"
      ]
     },
     "metadata": {},
     "output_type": "display_data"
    }
   ],
   "source": [
    "ppi_graph = oi.Graph(ppi_file)\n",
    "ppi_genes = ppi_graph.nodes\n",
    "ppi_genes = list(ppi_gene_set)\n",
    "ppi_genes = [str.upper(str.strip(gene)) for gene in ppi_genes]\n",
    "\n",
    "ppi_gene_df = pd.DataFrame(ppi_genes, columns=[\"name\"])"
   ]
  },
  {
   "cell_type": "code",
   "execution_count": 46,
   "id": "b6509035",
   "metadata": {},
   "outputs": [
    {
     "data": {
      "application/javascript": [
       "\n",
       "            setTimeout(function() {\n",
       "                var nbb_cell_id = 46;\n",
       "                var nbb_unformatted_code = \"ppi_gene_set = set(ppi_genes)\\ngex_gene_set = set(gex_adata.var_names)\";\n",
       "                var nbb_formatted_code = \"ppi_gene_set = set(ppi_genes)\\ngex_gene_set = set(gex_adata.var_names)\";\n",
       "                var nbb_cells = Jupyter.notebook.get_cells();\n",
       "                for (var i = 0; i < nbb_cells.length; ++i) {\n",
       "                    if (nbb_cells[i].input_prompt_number == nbb_cell_id) {\n",
       "                        if (nbb_cells[i].get_text() == nbb_unformatted_code) {\n",
       "                             nbb_cells[i].set_text(nbb_formatted_code);\n",
       "                        }\n",
       "                        break;\n",
       "                    }\n",
       "                }\n",
       "            }, 500);\n",
       "            "
      ],
      "text/plain": [
       "<IPython.core.display.Javascript object>"
      ]
     },
     "metadata": {},
     "output_type": "display_data"
    }
   ],
   "source": [
    "ppi_gene_set = set(ppi_genes)\n",
    "gex_gene_set = set(gex_adata.var_names)"
   ]
  },
  {
   "cell_type": "code",
   "execution_count": 47,
   "id": "740a1e4f",
   "metadata": {},
   "outputs": [
    {
     "data": {
      "image/png": "[encoded data removed]",
      "text/plain": [
       "<Figure size 576x576 with 1 Axes>"
      ]
     },
     "metadata": {},
     "output_type": "display_data"
    },
    {
     "data": {
      "application/javascript": [
       "\n",
       "            setTimeout(function() {\n",
       "                var nbb_cell_id = 47;\n",
       "                var nbb_unformatted_code = \"plt.figure(figsize=[8, 8])\\nvenn3_unweighted(\\n    [\\n        gene_targets,\\n        ppi_gene_set,\\n        gex_gene_set,\\n    ],\\n    [\\\"ORF targets\\\", \\\"iRefIndexDB\\\", \\\"scRNA-seq data\\\"],\\n)\\nplt.title(\\\"Venn diagram of the gene sets covered in the different data sets\\\")\\nplt.show()\";\n",
       "                var nbb_formatted_code = \"plt.figure(figsize=[8, 8])\\nvenn3_unweighted(\\n    [\\n        gene_targets,\\n        ppi_gene_set,\\n        gex_gene_set,\\n    ],\\n    [\\\"ORF targets\\\", \\\"iRefIndexDB\\\", \\\"scRNA-seq data\\\"],\\n)\\nplt.title(\\\"Venn diagram of the gene sets covered in the different data sets\\\")\\nplt.show()\";\n",
       "                var nbb_cells = Jupyter.notebook.get_cells();\n",
       "                for (var i = 0; i < nbb_cells.length; ++i) {\n",
       "                    if (nbb_cells[i].input_prompt_number == nbb_cell_id) {\n",
       "                        if (nbb_cells[i].get_text() == nbb_unformatted_code) {\n",
       "                             nbb_cells[i].set_text(nbb_formatted_code);\n",
       "                        }\n",
       "                        break;\n",
       "                    }\n",
       "                }\n",
       "            }, 500);\n",
       "            "
      ],
      "text/plain": [
       "<IPython.core.display.Javascript object>"
      ]
     },
     "metadata": {},
     "output_type": "display_data"
    }
   ],
   "source": [
    "plt.figure(figsize=[8, 8])\n",
    "venn3_unweighted(\n",
    "    [\n",
    "        gene_targets,\n",
    "        ppi_gene_set,\n",
    "        gex_gene_set,\n",
    "    ],\n",
    "    [\"ORF targets\", \"iRefIndexDB\", \"scRNA-seq data\"],\n",
    ")\n",
    "plt.title(\"Venn diagram of the gene sets covered in the different data sets\")\n",
    "plt.show()"
   ]
  },
  {
   "cell_type": "markdown",
   "id": "f1d6c5e2",
   "metadata": {},
   "source": [
    "We see that 13'007 genes are covered by the PPI and the scRNA-seq data set. Those include 185/190 gene targets of the ORF constructs of the study by Rohban et al. (2017). Out of the remaining 5 targets 2 are present only in the PPI or only in the scRNA-seq data set. We will quickly look at those genes and one is not present in either of the two."
   ]
  },
  {
   "cell_type": "markdown",
   "id": "bb2f526e",
   "metadata": {},
   "source": [
    "The genes that are not present in the scRNAseq data set are: MEK1, MOS and PRKACG. The ones not present in the PPI are CSNK1E, IRGM and MEK1. Thus, MEK1 is the one not present in either of the two."
   ]
  },
  {
   "cell_type": "markdown",
   "id": "a863fe61",
   "metadata": {},
   "source": [
    "Going forward we will focus on the 185 target genes that are present in both the PPI and the scRNA-seq data set."
   ]
  },
  {
   "cell_type": "markdown",
   "id": "318f4d47",
   "metadata": {},
   "source": [
    "---\n",
    "\n",
    "## 3. Exploratory analyses of the interactome"
   ]
  },
  {
   "cell_type": "markdown",
   "id": "2ecb630c",
   "metadata": {},
   "source": [
    "We will use the human PPI obtained from the iRefIndexDB as a basis for the derivation of the interactome of the U2OS cells spanning the 185 different targets. To get a better understanding of the PPI in particular with respect to the neighborhood of our 185 target genes, we first have a deeper look into the PPI data.\n",
    "\n",
    "The PPI consists of 15'759 nodes defining respective proteins and 182'002 edges forming one lare connected component. The average degree of each node in the PPI is 23, i.e. that is each protein was found to interact with 23 other proteins on average."
   ]
  },
  {
   "cell_type": "markdown",
   "id": "38ac3911",
   "metadata": {},
   "source": [
    "### 3a. Node statistics"
   ]
  },
  {
   "cell_type": "code",
   "execution_count": 52,
   "id": "be18050a",
   "metadata": {},
   "outputs": [
    {
     "name": "stdout",
     "output_type": "stream",
     "text": [
      "Name: \n",
      "Type: Graph\n",
      "Number of nodes: 15759\n",
      "Number of edges: 182002\n",
      "Average degree:  23.0982\n"
     ]
    },
    {
     "data": {
      "application/javascript": [
       "\n",
       "            setTimeout(function() {\n",
       "                var nbb_cell_id = 52;\n",
       "                var nbb_unformatted_code = \"print(nx.info(ppi_graph.interactome_graph))\";\n",
       "                var nbb_formatted_code = \"print(nx.info(ppi_graph.interactome_graph))\";\n",
       "                var nbb_cells = Jupyter.notebook.get_cells();\n",
       "                for (var i = 0; i < nbb_cells.length; ++i) {\n",
       "                    if (nbb_cells[i].input_prompt_number == nbb_cell_id) {\n",
       "                        if (nbb_cells[i].get_text() == nbb_unformatted_code) {\n",
       "                             nbb_cells[i].set_text(nbb_formatted_code);\n",
       "                        }\n",
       "                        break;\n",
       "                    }\n",
       "                }\n",
       "            }, 500);\n",
       "            "
      ],
      "text/plain": [
       "<IPython.core.display.Javascript object>"
      ]
     },
     "metadata": {},
     "output_type": "display_data"
    }
   ],
   "source": [
    "print(nx.info(ppi_graph.interactome_graph))"
   ]
  },
  {
   "cell_type": "markdown",
   "id": "d3b8f85d",
   "metadata": {},
   "source": [
    "To get a better understanding of the connectivity of the graph we plot a histogram of the degree for each of the nodes in the PPI."
   ]
  },
  {
   "cell_type": "code",
   "execution_count": 80,
   "id": "3bcdd3cc",
   "metadata": {},
   "outputs": [
    {
     "data": {
      "image/png": "[encoded data removed]",
      "text/plain": [
       "<Figure size 576x432 with 1 Axes>"
      ]
     },
     "metadata": {
      "needs_background": "light"
     },
     "output_type": "display_data"
    },
    {
     "data": {
      "application/javascript": [
       "\n",
       "            setTimeout(function() {\n",
       "                var nbb_cell_id = 80;\n",
       "                var nbb_unformatted_code = \"node_degrees = plot_degree_dist(\\n    ppi_graph.interactome_graph, smoothing=1, title=\\\"Degree distribution of the PPI\\\"\\n)\";\n",
       "                var nbb_formatted_code = \"node_degrees = plot_degree_dist(\\n    ppi_graph.interactome_graph, smoothing=1, title=\\\"Degree distribution of the PPI\\\"\\n)\";\n",
       "                var nbb_cells = Jupyter.notebook.get_cells();\n",
       "                for (var i = 0; i < nbb_cells.length; ++i) {\n",
       "                    if (nbb_cells[i].input_prompt_number == nbb_cell_id) {\n",
       "                        if (nbb_cells[i].get_text() == nbb_unformatted_code) {\n",
       "                             nbb_cells[i].set_text(nbb_formatted_code);\n",
       "                        }\n",
       "                        break;\n",
       "                    }\n",
       "                }\n",
       "            }, 500);\n",
       "            "
      ],
      "text/plain": [
       "<IPython.core.display.Javascript object>"
      ]
     },
     "metadata": {},
     "output_type": "display_data"
    }
   ],
   "source": [
    "node_degrees = plot_degree_dist(\n",
    "    ppi_graph.interactome_graph, smoothing=1, title=\"Degree distribution of the PPI\"\n",
    ")"
   ]
  },
  {
   "cell_type": "code",
   "execution_count": 88,
   "id": "9b577760",
   "metadata": {},
   "outputs": [
    {
     "name": "stdout",
     "output_type": "stream",
     "text": [
      "Node degree distribution stats:  DescribeResult(nobs=15759, minmax=(1, 9796), mean=23.09816612729234, variance=8833.440864132572, skewness=73.3491531944346, kurtosis=7441.827114495689)\n",
      "25/50/75% quantiles of the node degree distribution:  [ 3.  8. 22.]\n"
     ]
    },
    {
     "data": {
      "application/javascript": [
       "\n",
       "            setTimeout(function() {\n",
       "                var nbb_cell_id = 88;\n",
       "                var nbb_unformatted_code = \"print(\\\"Node degree distribution stats: \\\", stats.describe(node_degrees))\\nprint(\\n    \\\"25/50/75% quantiles of the node degree distribution: \\\",\\n    np.quantile(node_degrees, q=[0.25, 0.5, 0.75]),\\n)\";\n",
       "                var nbb_formatted_code = \"print(\\\"Node degree distribution stats: \\\", stats.describe(node_degrees))\\nprint(\\n    \\\"25/50/75% quantiles of the node degree distribution: \\\",\\n    np.quantile(node_degrees, q=[0.25, 0.5, 0.75]),\\n)\";\n",
       "                var nbb_cells = Jupyter.notebook.get_cells();\n",
       "                for (var i = 0; i < nbb_cells.length; ++i) {\n",
       "                    if (nbb_cells[i].input_prompt_number == nbb_cell_id) {\n",
       "                        if (nbb_cells[i].get_text() == nbb_unformatted_code) {\n",
       "                             nbb_cells[i].set_text(nbb_formatted_code);\n",
       "                        }\n",
       "                        break;\n",
       "                    }\n",
       "                }\n",
       "            }, 500);\n",
       "            "
      ],
      "text/plain": [
       "<IPython.core.display.Javascript object>"
      ]
     },
     "metadata": {},
     "output_type": "display_data"
    }
   ],
   "source": [
    "print(\"Node degree distribution stats: \", stats.describe(node_degrees))\n",
    "print(\n",
    "    \"25/50/75% quantiles of the node degree distribution: \",\n",
    "    np.quantile(node_degrees, q=[0.25, 0.5, 0.75]),\n",
    ")"
   ]
  },
  {
   "cell_type": "markdown",
   "id": "703d9ffc",
   "metadata": {},
   "source": [
    "We see that distribution of the degrees of the individual nodes of the PPI is highly variable with an average degree of $23.10 \\ (\\pm 93.98). The degrees range from 1 to 9796 with the lower, median and upper quartile being 1, 8 and 22 respectively."
   ]
  },
  {
   "cell_type": "markdown",
   "id": "30d45de3",
   "metadata": {},
   "source": [
    "Finally, we also look at the distribution of the eigenvector centrality in the graph. The plot below shows the respective empirical distribution of the human PPI."
   ]
  },
  {
   "cell_type": "code",
   "execution_count": 181,
   "id": "82b9d51a",
   "metadata": {},
   "outputs": [
    {
     "data": {
      "image/png": "[encoded data removed]",
      "text/plain": [
       "<Figure size 576x432 with 1 Axes>"
      ]
     },
     "metadata": {
      "needs_background": "light"
     },
     "output_type": "display_data"
    },
    {
     "data": {
      "application/javascript": [
       "\n",
       "            setTimeout(function() {\n",
       "                var nbb_cell_id = 181;\n",
       "                var nbb_unformatted_code = \"plot_eigenvector_centrality_dist(\\n    ppi_graph.interactome_graph, title=\\\"Log10-plot of the eigenvector closeness\\\"\\n)\";\n",
       "                var nbb_formatted_code = \"plot_eigenvector_centrality_dist(\\n    ppi_graph.interactome_graph, title=\\\"Log10-plot of the eigenvector closeness\\\"\\n)\";\n",
       "                var nbb_cells = Jupyter.notebook.get_cells();\n",
       "                for (var i = 0; i < nbb_cells.length; ++i) {\n",
       "                    if (nbb_cells[i].input_prompt_number == nbb_cell_id) {\n",
       "                        if (nbb_cells[i].get_text() == nbb_unformatted_code) {\n",
       "                             nbb_cells[i].set_text(nbb_formatted_code);\n",
       "                        }\n",
       "                        break;\n",
       "                    }\n",
       "                }\n",
       "            }, 500);\n",
       "            "
      ],
      "text/plain": [
       "<IPython.core.display.Javascript object>"
      ]
     },
     "metadata": {},
     "output_type": "display_data"
    }
   ],
   "source": [
    "plot_eigenvector_centrality_dist(\n",
    "    ppi_graph.interactome_graph, title=\"Log10-plot of the eigenvector closeness\"\n",
    ")"
   ]
  },
  {
   "cell_type": "markdown",
   "id": "3b2ca25a",
   "metadata": {},
   "source": [
    "### 3b. Edge statistics"
   ]
  },
  {
   "cell_type": "markdown",
   "id": "3ffcca77",
   "metadata": {},
   "source": [
    "Next, we are interested in the edge distribution in the PPI. Hereby in particular the edge weight, i.e. its cost is of special interest. The histogram below shows the empirical distribution of those edge costs for our PPI."
   ]
  },
  {
   "cell_type": "code",
   "execution_count": 184,
   "id": "20f8dfde",
   "metadata": {},
   "outputs": [
    {
     "data": {
      "image/png": "[encoded data removed]",
      "text/plain": [
       "<Figure size 576x432 with 1 Axes>"
      ]
     },
     "metadata": {
      "needs_background": "light"
     },
     "output_type": "display_data"
    },
    {
     "data": {
      "application/javascript": [
       "\n",
       "            setTimeout(function() {\n",
       "                var nbb_cell_id = 184;\n",
       "                var nbb_unformatted_code = \"edge_costs = plot_edge_cost_hist(\\n    ppi_graph.interactome_graph, title=\\\"Distribution of the edge weights\\\"\\n)\";\n",
       "                var nbb_formatted_code = \"edge_costs = plot_edge_cost_hist(\\n    ppi_graph.interactome_graph, title=\\\"Distribution of the edge weights\\\"\\n)\";\n",
       "                var nbb_cells = Jupyter.notebook.get_cells();\n",
       "                for (var i = 0; i < nbb_cells.length; ++i) {\n",
       "                    if (nbb_cells[i].input_prompt_number == nbb_cell_id) {\n",
       "                        if (nbb_cells[i].get_text() == nbb_unformatted_code) {\n",
       "                             nbb_cells[i].set_text(nbb_formatted_code);\n",
       "                        }\n",
       "                        break;\n",
       "                    }\n",
       "                }\n",
       "            }, 500);\n",
       "            "
      ],
      "text/plain": [
       "<IPython.core.display.Javascript object>"
      ]
     },
     "metadata": {},
     "output_type": "display_data"
    }
   ],
   "source": [
    "edge_costs = plot_edge_cost_hist(\n",
    "    ppi_graph.interactome_graph, title=\"Distribution of the edge weights\"\n",
    ")"
   ]
  },
  {
   "cell_type": "code",
   "execution_count": 186,
   "id": "b4e71ac5",
   "metadata": {},
   "outputs": [
    {
     "name": "stdout",
     "output_type": "stream",
     "text": [
      "Edge cost distribution stats:  DescribeResult(nobs=182002, minmax=(0.000780299, 0.85922), mean=0.5509360403807595, variance=0.020775117085169797, skewness=-0.9879724142264047, kurtosis=2.211429655368792)\n",
      "25/50/75% quantiles of the edge cost distribution:  [0.47326  0.598835 0.598835]\n"
     ]
    },
    {
     "data": {
      "application/javascript": [
       "\n",
       "            setTimeout(function() {\n",
       "                var nbb_cell_id = 186;\n",
       "                var nbb_unformatted_code = \"print(\\\"Edge cost distribution stats: \\\", stats.describe(edge_costs))\\nprint(\\n    \\\"25/50/75% quantiles of the edge cost distribution: \\\",\\n    np.quantile(edge_costs, q=[0.25, 0.5, 0.75]),\\n)\";\n",
       "                var nbb_formatted_code = \"print(\\\"Edge cost distribution stats: \\\", stats.describe(edge_costs))\\nprint(\\n    \\\"25/50/75% quantiles of the edge cost distribution: \\\",\\n    np.quantile(edge_costs, q=[0.25, 0.5, 0.75]),\\n)\";\n",
       "                var nbb_cells = Jupyter.notebook.get_cells();\n",
       "                for (var i = 0; i < nbb_cells.length; ++i) {\n",
       "                    if (nbb_cells[i].input_prompt_number == nbb_cell_id) {\n",
       "                        if (nbb_cells[i].get_text() == nbb_unformatted_code) {\n",
       "                             nbb_cells[i].set_text(nbb_formatted_code);\n",
       "                        }\n",
       "                        break;\n",
       "                    }\n",
       "                }\n",
       "            }, 500);\n",
       "            "
      ],
      "text/plain": [
       "<IPython.core.display.Javascript object>"
      ]
     },
     "metadata": {},
     "output_type": "display_data"
    }
   ],
   "source": [
    "print(\"Edge cost distribution stats: \", stats.describe(edge_costs))\n",
    "print(\n",
    "    \"25/50/75% quantiles of the edge cost distribution: \",\n",
    "    np.quantile(edge_costs, q=[0.25, 0.5, 0.75]),\n",
    ")"
   ]
  },
  {
   "cell_type": "markdown",
   "id": "088e7485",
   "metadata": {},
   "source": [
    "The edge costs take values in $[0.00,0.86)$ with an average cost of $0.5509 \\ (\\pm 0.1441)$. The lower, median and upper quartile are given by $0.47326$, $0.5988$ and $0.5988$ respectively."
   ]
  },
  {
   "cell_type": "markdown",
   "id": "537463b5",
   "metadata": {},
   "source": [
    "### 3c. Target statistics"
   ]
  },
  {
   "cell_type": "markdown",
   "id": "8cbae5e3",
   "metadata": {},
   "source": [
    "Next, we will look more closely at the 185 nodes that define the gene targets of the study of Rohban et al. (2017) and will serve as our terminals for the Prize-collecting Steiner tree-based derivation of the U2OS interactome. In particular we are interested in the connectivity of these notes, their position in the human PPI and their local neighborhoods."
   ]
  },
  {
   "cell_type": "markdown",
   "id": "5aeeb12b",
   "metadata": {},
   "source": [
    "Let us first look at the degrees of these nodes to assess their connectivity in the PPI."
   ]
  },
  {
   "cell_type": "code",
   "execution_count": 256,
   "id": "8f59f162",
   "metadata": {},
   "outputs": [
    {
     "data": {
      "image/png": "[encoded data removed]",
      "text/plain": [
       "<Figure size 576x432 with 1 Axes>"
      ]
     },
     "metadata": {
      "needs_background": "light"
     },
     "output_type": "display_data"
    },
    {
     "data": {
      "application/javascript": [
       "\n",
       "            setTimeout(function() {\n",
       "                var nbb_cell_id = 256;\n",
       "                var nbb_unformatted_code = \"target_node_degrees, target_node_names = plot_degree_dist_for_nodes(\\n    ppi_graph.interactome_graph,\\n    nodes=gene_targets,\\n    title=\\\"Distribution of the degree of the (ORF) target nodes\\\",\\n)\";\n",
       "                var nbb_formatted_code = \"target_node_degrees, target_node_names = plot_degree_dist_for_nodes(\\n    ppi_graph.interactome_graph,\\n    nodes=gene_targets,\\n    title=\\\"Distribution of the degree of the (ORF) target nodes\\\",\\n)\";\n",
       "                var nbb_cells = Jupyter.notebook.get_cells();\n",
       "                for (var i = 0; i < nbb_cells.length; ++i) {\n",
       "                    if (nbb_cells[i].input_prompt_number == nbb_cell_id) {\n",
       "                        if (nbb_cells[i].get_text() == nbb_unformatted_code) {\n",
       "                             nbb_cells[i].set_text(nbb_formatted_code);\n",
       "                        }\n",
       "                        break;\n",
       "                    }\n",
       "                }\n",
       "            }, 500);\n",
       "            "
      ],
      "text/plain": [
       "<IPython.core.display.Javascript object>"
      ]
     },
     "metadata": {},
     "output_type": "display_data"
    }
   ],
   "source": [
    "target_node_degrees, target_node_names = plot_degree_dist_for_nodes(\n",
    "    ppi_graph.interactome_graph,\n",
    "    nodes=gene_targets,\n",
    "    title=\"Distribution of the degree of the (ORF) target nodes\",\n",
    ")"
   ]
  },
  {
   "cell_type": "code",
   "execution_count": 202,
   "id": "000f120d",
   "metadata": {},
   "outputs": [
    {
     "name": "stdout",
     "output_type": "stream",
     "text": [
      "Target nodes' degree distribution stats:  DescribeResult(nobs=187, minmax=(3, 874), mean=115.11764705882354, variance=16953.65275142315, skewness=2.725383884228747, kurtosis=9.808234585088135)\n",
      "25/50/75% quantiles of the target nodes' degree distribution:  [ 33.5  71.  145. ]\n"
     ]
    },
    {
     "data": {
      "application/javascript": [
       "\n",
       "            setTimeout(function() {\n",
       "                var nbb_cell_id = 202;\n",
       "                var nbb_unformatted_code = \"print(\\\"Target nodes' degree distribution stats: \\\", stats.describe(target_node_degrees))\\nprint(\\n    \\\"25/50/75% quantiles of the target nodes' degree distribution: \\\",\\n    np.quantile(target_node_degrees, q=[0.25, 0.5, 0.75]),\\n)\";\n",
       "                var nbb_formatted_code = \"print(\\\"Target nodes' degree distribution stats: \\\", stats.describe(target_node_degrees))\\nprint(\\n    \\\"25/50/75% quantiles of the target nodes' degree distribution: \\\",\\n    np.quantile(target_node_degrees, q=[0.25, 0.5, 0.75]),\\n)\";\n",
       "                var nbb_cells = Jupyter.notebook.get_cells();\n",
       "                for (var i = 0; i < nbb_cells.length; ++i) {\n",
       "                    if (nbb_cells[i].input_prompt_number == nbb_cell_id) {\n",
       "                        if (nbb_cells[i].get_text() == nbb_unformatted_code) {\n",
       "                             nbb_cells[i].set_text(nbb_formatted_code);\n",
       "                        }\n",
       "                        break;\n",
       "                    }\n",
       "                }\n",
       "            }, 500);\n",
       "            "
      ],
      "text/plain": [
       "<IPython.core.display.Javascript object>"
      ]
     },
     "metadata": {},
     "output_type": "display_data"
    }
   ],
   "source": [
    "print(\"Target nodes' degree distribution stats: \", stats.describe(target_node_degrees))\n",
    "print(\n",
    "    \"25/50/75% quantiles of the target nodes' degree distribution: \",\n",
    "    np.quantile(target_node_degrees, q=[0.25, 0.5, 0.75]),\n",
    ")"
   ]
  },
  {
   "cell_type": "markdown",
   "id": "3784e6c8",
   "metadata": {},
   "source": [
    "We see that the 187/190 targeted genes that are featured in the protein protein interaction network have an average degree of $115.12 \\ (\\pm 130.21)$, where their degrees take range in $(3,874)$ and the lower, middle and upper quartile are given by $33.5$, $71$ and $145$ respectively."
   ]
  },
  {
   "cell_type": "markdown",
   "id": "4ce7ffd7",
   "metadata": {},
   "source": [
    "The ten targets with the highest node degree are shown below."
   ]
  },
  {
   "cell_type": "code",
   "execution_count": 223,
   "id": "b5aa66e7",
   "metadata": {},
   "outputs": [
    {
     "data": {
      "text/html": [
       "<div>\n",
       "<style scoped>\n",
       "    .dataframe tbody tr th:only-of-type {\n",
       "        vertical-align: middle;\n",
       "    }\n",
       "\n",
       "    .dataframe tbody tr th {\n",
       "        vertical-align: top;\n",
       "    }\n",
       "\n",
       "    .dataframe thead th {\n",
       "        text-align: right;\n",
       "    }\n",
       "</style>\n",
       "<table border=\"1\" class=\"dataframe\">\n",
       "  <thead>\n",
       "    <tr style=\"text-align: right;\">\n",
       "      <th></th>\n",
       "      <th>node_degree</th>\n",
       "    </tr>\n",
       "  </thead>\n",
       "  <tbody>\n",
       "    <tr>\n",
       "      <th>TP53</th>\n",
       "      <td>874</td>\n",
       "    </tr>\n",
       "    <tr>\n",
       "      <th>HSP90AA1</th>\n",
       "      <td>773</td>\n",
       "    </tr>\n",
       "    <tr>\n",
       "      <th>CDK2</th>\n",
       "      <td>586</td>\n",
       "    </tr>\n",
       "    <tr>\n",
       "      <th>BRCA1</th>\n",
       "      <td>527</td>\n",
       "    </tr>\n",
       "    <tr>\n",
       "      <th>TRAF6</th>\n",
       "      <td>526</td>\n",
       "    </tr>\n",
       "    <tr>\n",
       "      <th>SRC</th>\n",
       "      <td>448</td>\n",
       "    </tr>\n",
       "    <tr>\n",
       "      <th>VHL</th>\n",
       "      <td>424</td>\n",
       "    </tr>\n",
       "    <tr>\n",
       "      <th>IKBKE</th>\n",
       "      <td>373</td>\n",
       "    </tr>\n",
       "    <tr>\n",
       "      <th>CTNNB1</th>\n",
       "      <td>368</td>\n",
       "    </tr>\n",
       "    <tr>\n",
       "      <th>SMAD3</th>\n",
       "      <td>365</td>\n",
       "    </tr>\n",
       "  </tbody>\n",
       "</table>\n",
       "</div>"
      ],
      "text/plain": [
       "          node_degree\n",
       "TP53              874\n",
       "HSP90AA1          773\n",
       "CDK2              586\n",
       "BRCA1             527\n",
       "TRAF6             526\n",
       "SRC               448\n",
       "VHL               424\n",
       "IKBKE             373\n",
       "CTNNB1            368\n",
       "SMAD3             365"
      ]
     },
     "execution_count": 223,
     "metadata": {},
     "output_type": "execute_result"
    },
    {
     "data": {
      "application/javascript": [
       "\n",
       "            setTimeout(function() {\n",
       "                var nbb_cell_id = 223;\n",
       "                var nbb_unformatted_code = \"target_node_stats = pd.DataFrame(\\n    node_degrees, columns=[\\\"node_degree\\\"], index=target_node_names\\n)\\ntarget_node_stats.sort_values(\\\"node_degree\\\", ascending=False).head(10)\";\n",
       "                var nbb_formatted_code = \"target_node_stats = pd.DataFrame(\\n    node_degrees, columns=[\\\"node_degree\\\"], index=target_node_names\\n)\\ntarget_node_stats.sort_values(\\\"node_degree\\\", ascending=False).head(10)\";\n",
       "                var nbb_cells = Jupyter.notebook.get_cells();\n",
       "                for (var i = 0; i < nbb_cells.length; ++i) {\n",
       "                    if (nbb_cells[i].input_prompt_number == nbb_cell_id) {\n",
       "                        if (nbb_cells[i].get_text() == nbb_unformatted_code) {\n",
       "                             nbb_cells[i].set_text(nbb_formatted_code);\n",
       "                        }\n",
       "                        break;\n",
       "                    }\n",
       "                }\n",
       "            }, 500);\n",
       "            "
      ],
      "text/plain": [
       "<IPython.core.display.Javascript object>"
      ]
     },
     "metadata": {},
     "output_type": "display_data"
    }
   ],
   "source": [
    "target_node_stats = pd.DataFrame(\n",
    "    node_degrees, columns=[\"node_degree\"], index=target_node_names\n",
    ")\n",
    "target_node_stats.sort_values(\"node_degree\", ascending=False).head(10)"
   ]
  },
  {
   "cell_type": "markdown",
   "id": "2b492f23",
   "metadata": {},
   "source": [
    "The ones with lowest degree are the following:"
   ]
  },
  {
   "cell_type": "code",
   "execution_count": 206,
   "id": "cdd28f87",
   "metadata": {},
   "outputs": [
    {
     "data": {
      "text/html": [
       "<div>\n",
       "<style scoped>\n",
       "    .dataframe tbody tr th:only-of-type {\n",
       "        vertical-align: middle;\n",
       "    }\n",
       "\n",
       "    .dataframe tbody tr th {\n",
       "        vertical-align: top;\n",
       "    }\n",
       "\n",
       "    .dataframe thead th {\n",
       "        text-align: right;\n",
       "    }\n",
       "</style>\n",
       "<table border=\"1\" class=\"dataframe\">\n",
       "  <thead>\n",
       "    <tr style=\"text-align: right;\">\n",
       "      <th></th>\n",
       "      <th>node_degree</th>\n",
       "    </tr>\n",
       "  </thead>\n",
       "  <tbody>\n",
       "    <tr>\n",
       "      <th>MAP3K9</th>\n",
       "      <td>3</td>\n",
       "    </tr>\n",
       "    <tr>\n",
       "      <th>CXXC4</th>\n",
       "      <td>4</td>\n",
       "    </tr>\n",
       "    <tr>\n",
       "      <th>VEGFC</th>\n",
       "      <td>4</td>\n",
       "    </tr>\n",
       "    <tr>\n",
       "      <th>PKIA</th>\n",
       "      <td>5</td>\n",
       "    </tr>\n",
       "    <tr>\n",
       "      <th>SMO</th>\n",
       "      <td>7</td>\n",
       "    </tr>\n",
       "    <tr>\n",
       "      <th>WNT5A</th>\n",
       "      <td>7</td>\n",
       "    </tr>\n",
       "    <tr>\n",
       "      <th>PRKACG</th>\n",
       "      <td>8</td>\n",
       "    </tr>\n",
       "    <tr>\n",
       "      <th>DKK1</th>\n",
       "      <td>9</td>\n",
       "    </tr>\n",
       "    <tr>\n",
       "      <th>SGK3</th>\n",
       "      <td>10</td>\n",
       "    </tr>\n",
       "    <tr>\n",
       "      <th>PSENEN</th>\n",
       "      <td>10</td>\n",
       "    </tr>\n",
       "  </tbody>\n",
       "</table>\n",
       "</div>"
      ],
      "text/plain": [
       "        node_degree\n",
       "MAP3K9            3\n",
       "CXXC4             4\n",
       "VEGFC             4\n",
       "PKIA              5\n",
       "SMO               7\n",
       "WNT5A             7\n",
       "PRKACG            8\n",
       "DKK1              9\n",
       "SGK3             10\n",
       "PSENEN           10"
      ]
     },
     "execution_count": 206,
     "metadata": {},
     "output_type": "execute_result"
    },
    {
     "data": {
      "application/javascript": [
       "\n",
       "            setTimeout(function() {\n",
       "                var nbb_cell_id = 206;\n",
       "                var nbb_unformatted_code = \"target_node_stats.sort_values(\\\"node_degree\\\", ascending=True).head(10)\";\n",
       "                var nbb_formatted_code = \"target_node_stats.sort_values(\\\"node_degree\\\", ascending=True).head(10)\";\n",
       "                var nbb_cells = Jupyter.notebook.get_cells();\n",
       "                for (var i = 0; i < nbb_cells.length; ++i) {\n",
       "                    if (nbb_cells[i].input_prompt_number == nbb_cell_id) {\n",
       "                        if (nbb_cells[i].get_text() == nbb_unformatted_code) {\n",
       "                             nbb_cells[i].set_text(nbb_formatted_code);\n",
       "                        }\n",
       "                        break;\n",
       "                    }\n",
       "                }\n",
       "            }, 500);\n",
       "            "
      ],
      "text/plain": [
       "<IPython.core.display.Javascript object>"
      ]
     },
     "metadata": {},
     "output_type": "display_data"
    }
   ],
   "source": [
    "target_node_stats.sort_values(\"node_degree\", ascending=True).head(10)"
   ]
  },
  {
   "cell_type": "markdown",
   "id": "08826d40",
   "metadata": {},
   "source": [
    "To assess the relative position of the target nodes in the PPI, we compute the closeness centrality for each of these nodes."
   ]
  },
  {
   "cell_type": "code",
   "execution_count": 255,
   "id": "801c9855",
   "metadata": {},
   "outputs": [
    {
     "data": {
      "image/png": "[encoded data removed]",
      "text/plain": [
       "<Figure size 576x432 with 1 Axes>"
      ]
     },
     "metadata": {
      "needs_background": "light"
     },
     "output_type": "display_data"
    },
    {
     "data": {
      "application/javascript": [
       "\n",
       "            setTimeout(function() {\n",
       "                var nbb_cell_id = 255;\n",
       "                var nbb_unformatted_code = \"closeness_centrality_df = plot_closeness_centrality_dist_nodes(\\n    ppi_graph.interactome_graph, nodes=target_node_names, title=\\\"Closeness centrality of the (ORF) target nodes\\\"\\n)\";\n",
       "                var nbb_formatted_code = \"closeness_centrality_df = plot_closeness_centrality_dist_nodes(\\n    ppi_graph.interactome_graph,\\n    nodes=target_node_names,\\n    title=\\\"Closeness centrality of the (ORF) target nodes\\\",\\n)\";\n",
       "                var nbb_cells = Jupyter.notebook.get_cells();\n",
       "                for (var i = 0; i < nbb_cells.length; ++i) {\n",
       "                    if (nbb_cells[i].input_prompt_number == nbb_cell_id) {\n",
       "                        if (nbb_cells[i].get_text() == nbb_unformatted_code) {\n",
       "                             nbb_cells[i].set_text(nbb_formatted_code);\n",
       "                        }\n",
       "                        break;\n",
       "                    }\n",
       "                }\n",
       "            }, 500);\n",
       "            "
      ],
      "text/plain": [
       "<IPython.core.display.Javascript object>"
      ]
     },
     "metadata": {},
     "output_type": "display_data"
    }
   ],
   "source": [
    "closeness_centrality_df = plot_closeness_centrality_dist_nodes(\n",
    "    ppi_graph.interactome_graph,\n",
    "    nodes=target_node_names,\n",
    "    title=\"Closeness centrality of the (ORF) target nodes\",\n",
    ")"
   ]
  },
  {
   "cell_type": "code",
   "execution_count": 225,
   "id": "01ec38c1",
   "metadata": {},
   "outputs": [
    {
     "name": "stdout",
     "output_type": "stream",
     "text": [
      "Target nodes' closeness centrality distribution stats:  DescribeResult(nobs=187, minmax=(0.30086873508353223, 0.47185291651694816), mean=0.42359146344404935, variance=0.0008120637992734628, skewness=-2.641614818116985, kurtosis=7.080843428766931)\n",
      "25/50/75% quantiles of the target nodes' closeness centrality distribution:  [0.42175985 0.42912775 0.43523774]\n"
     ]
    },
    {
     "data": {
      "application/javascript": [
       "\n",
       "            setTimeout(function() {\n",
       "                var nbb_cell_id = 225;\n",
       "                var nbb_unformatted_code = \"print(\\\"Target nodes' closeness centrality distribution stats: \\\", stats.describe(np.array(closeness_centrality_df.iloc[:,0])))\\nprint(\\n    \\\"25/50/75% quantiles of the target nodes' closeness centrality distribution: \\\",\\n    np.quantile(np.array(closeness_centrality_df.iloc[:,0]), q=[0.25, 0.5, 0.75]),\\n)\";\n",
       "                var nbb_formatted_code = \"print(\\n    \\\"Target nodes' closeness centrality distribution stats: \\\",\\n    stats.describe(np.array(closeness_centrality_df.iloc[:, 0])),\\n)\\nprint(\\n    \\\"25/50/75% quantiles of the target nodes' closeness centrality distribution: \\\",\\n    np.quantile(np.array(closeness_centrality_df.iloc[:, 0]), q=[0.25, 0.5, 0.75]),\\n)\";\n",
       "                var nbb_cells = Jupyter.notebook.get_cells();\n",
       "                for (var i = 0; i < nbb_cells.length; ++i) {\n",
       "                    if (nbb_cells[i].input_prompt_number == nbb_cell_id) {\n",
       "                        if (nbb_cells[i].get_text() == nbb_unformatted_code) {\n",
       "                             nbb_cells[i].set_text(nbb_formatted_code);\n",
       "                        }\n",
       "                        break;\n",
       "                    }\n",
       "                }\n",
       "            }, 500);\n",
       "            "
      ],
      "text/plain": [
       "<IPython.core.display.Javascript object>"
      ]
     },
     "metadata": {},
     "output_type": "display_data"
    }
   ],
   "source": [
    "print(\n",
    "    \"Target nodes' closeness centrality distribution stats: \",\n",
    "    stats.describe(np.array(closeness_centrality_df.iloc[:, 0])),\n",
    ")\n",
    "print(\n",
    "    \"25/50/75% quantiles of the target nodes' closeness centrality distribution: \",\n",
    "    np.quantile(np.array(closeness_centrality_df.iloc[:, 0]), q=[0.25, 0.5, 0.75]),\n",
    ")"
   ]
  },
  {
   "cell_type": "markdown",
   "id": "1cd2d2ee",
   "metadata": {},
   "source": [
    "The closeness centrality of node $u$ describes the inverse of the average closest distance to any other node $v$ of the graph that is reachable from $u$. We see that the average closeness centrality is $0.4236 \\ (\\pm 0.0285)$ and it takes value in $(0.3009, 0.4719)$. That is on average the closest distance to any other node of the PPI of the 187 target genes is roughly $2.3608$, where as the minimal distance is $2.1190$ and the average distance is $3.0000$."
   ]
  },
  {
   "cell_type": "code",
   "execution_count": 224,
   "id": "31f0dbfa",
   "metadata": {},
   "outputs": [
    {
     "data": {
      "text/html": [
       "<div>\n",
       "<style scoped>\n",
       "    .dataframe tbody tr th:only-of-type {\n",
       "        vertical-align: middle;\n",
       "    }\n",
       "\n",
       "    .dataframe tbody tr th {\n",
       "        vertical-align: top;\n",
       "    }\n",
       "\n",
       "    .dataframe thead th {\n",
       "        text-align: right;\n",
       "    }\n",
       "</style>\n",
       "<table border=\"1\" class=\"dataframe\">\n",
       "  <thead>\n",
       "    <tr style=\"text-align: right;\">\n",
       "      <th></th>\n",
       "      <th>node_degree</th>\n",
       "      <th>closeness_centrality</th>\n",
       "    </tr>\n",
       "  </thead>\n",
       "  <tbody>\n",
       "    <tr>\n",
       "      <th>HSP90AA1</th>\n",
       "      <td>773</td>\n",
       "      <td>0.471853</td>\n",
       "    </tr>\n",
       "    <tr>\n",
       "      <th>SDHA</th>\n",
       "      <td>69</td>\n",
       "      <td>0.427486</td>\n",
       "    </tr>\n",
       "    <tr>\n",
       "      <th>MAPK9</th>\n",
       "      <td>96</td>\n",
       "      <td>0.430994</td>\n",
       "    </tr>\n",
       "    <tr>\n",
       "      <th>SRC</th>\n",
       "      <td>448</td>\n",
       "      <td>0.451066</td>\n",
       "    </tr>\n",
       "    <tr>\n",
       "      <th>MAPK1</th>\n",
       "      <td>278</td>\n",
       "      <td>0.443014</td>\n",
       "    </tr>\n",
       "  </tbody>\n",
       "</table>\n",
       "</div>"
      ],
      "text/plain": [
       "          node_degree  closeness_centrality\n",
       "HSP90AA1          773              0.471853\n",
       "SDHA               69              0.427486\n",
       "MAPK9              96              0.430994\n",
       "SRC               448              0.451066\n",
       "MAPK1             278              0.443014"
      ]
     },
     "execution_count": 224,
     "metadata": {},
     "output_type": "execute_result"
    },
    {
     "data": {
      "application/javascript": [
       "\n",
       "            setTimeout(function() {\n",
       "                var nbb_cell_id = 224;\n",
       "                var nbb_unformatted_code = \"target_node_stats = target_node_stats.join(closeness_centrality_df, how=\\\"inner\\\")\\ntarget_node_stats.head()\";\n",
       "                var nbb_formatted_code = \"target_node_stats = target_node_stats.join(closeness_centrality_df, how=\\\"inner\\\")\\ntarget_node_stats.head()\";\n",
       "                var nbb_cells = Jupyter.notebook.get_cells();\n",
       "                for (var i = 0; i < nbb_cells.length; ++i) {\n",
       "                    if (nbb_cells[i].input_prompt_number == nbb_cell_id) {\n",
       "                        if (nbb_cells[i].get_text() == nbb_unformatted_code) {\n",
       "                             nbb_cells[i].set_text(nbb_formatted_code);\n",
       "                        }\n",
       "                        break;\n",
       "                    }\n",
       "                }\n",
       "            }, 500);\n",
       "            "
      ],
      "text/plain": [
       "<IPython.core.display.Javascript object>"
      ]
     },
     "metadata": {},
     "output_type": "display_data"
    }
   ],
   "source": [
    "target_node_stats = target_node_stats.join(closeness_centrality_df, how=\"inner\")"
   ]
  },
  {
   "cell_type": "code",
   "execution_count": 226,
   "id": "b446477e",
   "metadata": {},
   "outputs": [
    {
     "data": {
      "text/html": [
       "<div>\n",
       "<style scoped>\n",
       "    .dataframe tbody tr th:only-of-type {\n",
       "        vertical-align: middle;\n",
       "    }\n",
       "\n",
       "    .dataframe tbody tr th {\n",
       "        vertical-align: top;\n",
       "    }\n",
       "\n",
       "    .dataframe thead th {\n",
       "        text-align: right;\n",
       "    }\n",
       "</style>\n",
       "<table border=\"1\" class=\"dataframe\">\n",
       "  <thead>\n",
       "    <tr style=\"text-align: right;\">\n",
       "      <th></th>\n",
       "      <th>node_degree</th>\n",
       "      <th>closeness_centrality</th>\n",
       "    </tr>\n",
       "  </thead>\n",
       "  <tbody>\n",
       "    <tr>\n",
       "      <th>HSP90AA1</th>\n",
       "      <td>773</td>\n",
       "      <td>0.471853</td>\n",
       "    </tr>\n",
       "    <tr>\n",
       "      <th>TP53</th>\n",
       "      <td>874</td>\n",
       "      <td>0.466848</td>\n",
       "    </tr>\n",
       "    <tr>\n",
       "      <th>CTNNB1</th>\n",
       "      <td>368</td>\n",
       "      <td>0.457403</td>\n",
       "    </tr>\n",
       "    <tr>\n",
       "      <th>TRAF6</th>\n",
       "      <td>526</td>\n",
       "      <td>0.456489</td>\n",
       "    </tr>\n",
       "    <tr>\n",
       "      <th>SMAD3</th>\n",
       "      <td>365</td>\n",
       "      <td>0.454200</td>\n",
       "    </tr>\n",
       "    <tr>\n",
       "      <th>BRCA1</th>\n",
       "      <td>527</td>\n",
       "      <td>0.453090</td>\n",
       "    </tr>\n",
       "    <tr>\n",
       "      <th>AKT1</th>\n",
       "      <td>332</td>\n",
       "      <td>0.452959</td>\n",
       "    </tr>\n",
       "    <tr>\n",
       "      <th>VHL</th>\n",
       "      <td>424</td>\n",
       "      <td>0.452335</td>\n",
       "    </tr>\n",
       "    <tr>\n",
       "      <th>CDK2</th>\n",
       "      <td>586</td>\n",
       "      <td>0.452050</td>\n",
       "    </tr>\n",
       "    <tr>\n",
       "      <th>SRC</th>\n",
       "      <td>448</td>\n",
       "      <td>0.451066</td>\n",
       "    </tr>\n",
       "  </tbody>\n",
       "</table>\n",
       "</div>"
      ],
      "text/plain": [
       "          node_degree  closeness_centrality\n",
       "HSP90AA1          773              0.471853\n",
       "TP53              874              0.466848\n",
       "CTNNB1            368              0.457403\n",
       "TRAF6             526              0.456489\n",
       "SMAD3             365              0.454200\n",
       "BRCA1             527              0.453090\n",
       "AKT1              332              0.452959\n",
       "VHL               424              0.452335\n",
       "CDK2              586              0.452050\n",
       "SRC               448              0.451066"
      ]
     },
     "execution_count": 226,
     "metadata": {},
     "output_type": "execute_result"
    },
    {
     "data": {
      "application/javascript": [
       "\n",
       "            setTimeout(function() {\n",
       "                var nbb_cell_id = 226;\n",
       "                var nbb_unformatted_code = \"target_node_stats.sort_values(\\\"closeness_centrality\\\", ascending=False).head(10)\";\n",
       "                var nbb_formatted_code = \"target_node_stats.sort_values(\\\"closeness_centrality\\\", ascending=False).head(10)\";\n",
       "                var nbb_cells = Jupyter.notebook.get_cells();\n",
       "                for (var i = 0; i < nbb_cells.length; ++i) {\n",
       "                    if (nbb_cells[i].input_prompt_number == nbb_cell_id) {\n",
       "                        if (nbb_cells[i].get_text() == nbb_unformatted_code) {\n",
       "                             nbb_cells[i].set_text(nbb_formatted_code);\n",
       "                        }\n",
       "                        break;\n",
       "                    }\n",
       "                }\n",
       "            }, 500);\n",
       "            "
      ],
      "text/plain": [
       "<IPython.core.display.Javascript object>"
      ]
     },
     "metadata": {},
     "output_type": "display_data"
    }
   ],
   "source": [
    "target_node_stats.sort_values(\"closeness_centrality\", ascending=False).head(10)"
   ]
  },
  {
   "cell_type": "markdown",
   "id": "77d8c677",
   "metadata": {},
   "source": [
    "As expected the set of the most and least central nodes of our target genes shows a high overlap with those that showed the highest resp. lowest node degree."
   ]
  },
  {
   "cell_type": "markdown",
   "id": "9254e1dc",
   "metadata": {},
   "source": [
    "To better understand the relative location of the target genes in the PPI, we are next interested in the distribution of the shortest paths from each of the target genes to any other of these target genes."
   ]
  },
  {
   "cell_type": "code",
   "execution_count": 258,
   "id": "37099ac5",
   "metadata": {},
   "outputs": [
    {
     "data": {
      "image/png": "[encoded data removed]",
      "text/plain": [
       "<Figure size 576x432 with 1 Axes>"
      ]
     },
     "metadata": {
      "needs_background": "light"
     },
     "output_type": "display_data"
    },
    {
     "data": {
      "application/javascript": [
       "\n",
       "            setTimeout(function() {\n",
       "                var nbb_cell_id = 258;\n",
       "                var nbb_unformatted_code = \"avg_spls_targets = plot_average_shortest_path_length_dist_nodes(\\n    ppi_graph.interactome_graph, nodes=target_node_names,\\n    title=\\\"Average length of the shortest path between any pair of (ORF) target nodes\\\"\\n)\";\n",
       "                var nbb_formatted_code = \"avg_spls_targets = plot_average_shortest_path_length_dist_nodes(\\n    ppi_graph.interactome_graph,\\n    nodes=target_node_names,\\n    title=\\\"Average length of the shortest path between any pair of (ORF) target nodes\\\",\\n)\";\n",
       "                var nbb_cells = Jupyter.notebook.get_cells();\n",
       "                for (var i = 0; i < nbb_cells.length; ++i) {\n",
       "                    if (nbb_cells[i].input_prompt_number == nbb_cell_id) {\n",
       "                        if (nbb_cells[i].get_text() == nbb_unformatted_code) {\n",
       "                             nbb_cells[i].set_text(nbb_formatted_code);\n",
       "                        }\n",
       "                        break;\n",
       "                    }\n",
       "                }\n",
       "            }, 500);\n",
       "            "
      ],
      "text/plain": [
       "<IPython.core.display.Javascript object>"
      ]
     },
     "metadata": {},
     "output_type": "display_data"
    }
   ],
   "source": [
    "avg_spls_targets = plot_average_shortest_path_length_dist_nodes(\n",
    "    ppi_graph.interactome_graph,\n",
    "    nodes=target_node_names,\n",
    "    title=\"Average length of the shortest path between any pair of (ORF) target nodes\",\n",
    ")"
   ]
  },
  {
   "cell_type": "code",
   "execution_count": 238,
   "id": "4fb46a03",
   "metadata": {},
   "outputs": [
    {
     "name": "stdout",
     "output_type": "stream",
     "text": [
      "Distribution of the average shortest path length between any two target nodes stats:  DescribeResult(nobs=187, minmax=(1.6666666666666667, 2.9731182795698925), mean=2.008970156977747, variance=0.03374829892856458, skewness=3.1325140229027264, kurtosis=11.826136309945385)\n",
      "25/50/75% quantiles of the distribution of the average shortest path length between any two target nodes:  [1.9327957  1.98924731 2.03225806]\n"
     ]
    },
    {
     "data": {
      "application/javascript": [
       "\n",
       "            setTimeout(function() {\n",
       "                var nbb_cell_id = 238;\n",
       "                var nbb_unformatted_code = \"print(\\n    \\\"Distribution of the average shortest path length between any two target nodes stats: \\\",\\n    stats.describe(np.array(avg_spls_targets.iloc[:, 0])),\\n)\\nprint(\\n    \\\"25/50/75% quantiles of the distribution of the average shortest path length between any two target nodes: \\\",\\n    np.quantile(np.array(avg_spls_targets.iloc[:, 0]), q=[0.25, 0.5, 0.75]),\\n)\";\n",
       "                var nbb_formatted_code = \"print(\\n    \\\"Distribution of the average shortest path length between any two target nodes stats: \\\",\\n    stats.describe(np.array(avg_spls_targets.iloc[:, 0])),\\n)\\nprint(\\n    \\\"25/50/75% quantiles of the distribution of the average shortest path length between any two target nodes: \\\",\\n    np.quantile(np.array(avg_spls_targets.iloc[:, 0]), q=[0.25, 0.5, 0.75]),\\n)\";\n",
       "                var nbb_cells = Jupyter.notebook.get_cells();\n",
       "                for (var i = 0; i < nbb_cells.length; ++i) {\n",
       "                    if (nbb_cells[i].input_prompt_number == nbb_cell_id) {\n",
       "                        if (nbb_cells[i].get_text() == nbb_unformatted_code) {\n",
       "                             nbb_cells[i].set_text(nbb_formatted_code);\n",
       "                        }\n",
       "                        break;\n",
       "                    }\n",
       "                }\n",
       "            }, 500);\n",
       "            "
      ],
      "text/plain": [
       "<IPython.core.display.Javascript object>"
      ]
     },
     "metadata": {},
     "output_type": "display_data"
    }
   ],
   "source": [
    "print(\n",
    "    \"Distribution of the average shortest path length between any two target nodes stats: \",\n",
    "    stats.describe(np.array(avg_spls_targets.iloc[:, 0])),\n",
    ")\n",
    "print(\n",
    "    \"25/50/75% quantiles of the distribution of the average shortest path length between any two target nodes: \",\n",
    "    np.quantile(np.array(avg_spls_targets.iloc[:, 0]), q=[0.25, 0.5, 0.75]),\n",
    ")"
   ]
  },
  {
   "cell_type": "markdown",
   "id": "c97b2cb3",
   "metadata": {},
   "source": [
    "The results above show that on average two targeted genes are on average $2.0090 \\ (\\pm 0.1837)$ apart from each other. This will be important later on as it suggests that to connect these nodes we would expect the Steiner tree solution to consist of roughly the same number of terminal as of Steiner nodes to connect them."
   ]
  },
  {
   "cell_type": "markdown",
   "id": "13008adf",
   "metadata": {},
   "source": [
    "Finally, we are also interested in the distribution of the costs of the edges that connect any of our target nodes (genes). This is because, for our downstream analyses of finding the interactome that describes the regulatory space of the U2OS cells with special focus on the target genes, we do not want these target genes to be leaf nodes. Thus, we will expand the set of terminals to those of the target genes and their adjacent nodes in the PPI. \n",
    "\n",
    "We will have to assign prizes to those such that some, yet not all of these get included in the final solution. The reason, why we do not want to include all of these nodes is due to the fact that as we have seen, they can have up to 874 neighbors. Thus, the distribution of the costs of the edges connecting the target genes with their neighbors will provide guidance for the assignment of the prizes to these neighbor nodes."
   ]
  },
  {
   "cell_type": "code",
   "execution_count": 260,
   "id": "57552b22",
   "metadata": {},
   "outputs": [
    {
     "data": {
      "image/png": "[encoded data removed]",
      "text/plain": [
       "<Figure size 576x432 with 1 Axes>"
      ]
     },
     "metadata": {
      "needs_background": "light"
     },
     "output_type": "display_data"
    },
    {
     "data": {
      "application/javascript": [
       "\n",
       "            setTimeout(function() {\n",
       "                var nbb_cell_id = 260;\n",
       "                var nbb_unformatted_code = \"target_edge_costs = plot_edge_weight_dist_nodes(\\n    ppi_graph.interactome_graph, nodes=target_node_names,\\n    title=\\\"Cost of edges connecting any of the (ORF) target nodes with any other node\\\"\\n)\";\n",
       "                var nbb_formatted_code = \"target_edge_costs = plot_edge_weight_dist_nodes(\\n    ppi_graph.interactome_graph,\\n    nodes=target_node_names,\\n    title=\\\"Cost of edges connecting any of the (ORF) target nodes with any other node\\\",\\n)\";\n",
       "                var nbb_cells = Jupyter.notebook.get_cells();\n",
       "                for (var i = 0; i < nbb_cells.length; ++i) {\n",
       "                    if (nbb_cells[i].input_prompt_number == nbb_cell_id) {\n",
       "                        if (nbb_cells[i].get_text() == nbb_unformatted_code) {\n",
       "                             nbb_cells[i].set_text(nbb_formatted_code);\n",
       "                        }\n",
       "                        break;\n",
       "                    }\n",
       "                }\n",
       "            }, 500);\n",
       "            "
      ],
      "text/plain": [
       "<IPython.core.display.Javascript object>"
      ]
     },
     "metadata": {},
     "output_type": "display_data"
    }
   ],
   "source": [
    "target_edge_costs = plot_edge_weight_dist_nodes(\n",
    "    ppi_graph.interactome_graph,\n",
    "    nodes=target_node_names,\n",
    "    title=\"Cost of edges connecting any of the (ORF) target nodes with any other node\",\n",
    ")"
   ]
  },
  {
   "cell_type": "code",
   "execution_count": 253,
   "id": "6d9418db",
   "metadata": {},
   "outputs": [
    {
     "name": "stdout",
     "output_type": "stream",
     "text": [
      "Target edge cost distribution stats:  DescribeResult(nobs=14862, minmax=(0.0041523, 0.85922), mean=0.5549665146703002, variance=0.026193666529281397, skewness=-0.628739676935095, kurtosis=1.4095773045055742)\n",
      "25/50/75% quantiles of the target edge cost distribution:  [0.45648  0.598835 0.598835]\n"
     ]
    },
    {
     "data": {
      "application/javascript": [
       "\n",
       "            setTimeout(function() {\n",
       "                var nbb_cell_id = 253;\n",
       "                var nbb_unformatted_code = \"print(\\\"Target edge cost distribution stats: \\\", stats.describe(target_edge_costs))\\nprint(\\n    \\\"25/50/75% quantiles of the target edge cost distribution: \\\",\\n    np.quantile(target_edge_costs, q=[0.25, 0.5, 0.75]),\\n)\";\n",
       "                var nbb_formatted_code = \"print(\\\"Target edge cost distribution stats: \\\", stats.describe(target_edge_costs))\\nprint(\\n    \\\"25/50/75% quantiles of the target edge cost distribution: \\\",\\n    np.quantile(target_edge_costs, q=[0.25, 0.5, 0.75]),\\n)\";\n",
       "                var nbb_cells = Jupyter.notebook.get_cells();\n",
       "                for (var i = 0; i < nbb_cells.length; ++i) {\n",
       "                    if (nbb_cells[i].input_prompt_number == nbb_cell_id) {\n",
       "                        if (nbb_cells[i].get_text() == nbb_unformatted_code) {\n",
       "                             nbb_cells[i].set_text(nbb_formatted_code);\n",
       "                        }\n",
       "                        break;\n",
       "                    }\n",
       "                }\n",
       "            }, 500);\n",
       "            "
      ],
      "text/plain": [
       "<IPython.core.display.Javascript object>"
      ]
     },
     "metadata": {},
     "output_type": "display_data"
    }
   ],
   "source": [
    "print(\"Target edge cost distribution stats: \", stats.describe(target_edge_costs))\n",
    "print(\n",
    "    \"25/50/75% quantiles of the target edge cost distribution: \",\n",
    "    np.quantile(target_edge_costs, q=[0.25, 0.5, 0.75]),\n",
    ")"
   ]
  },
  {
   "cell_type": "markdown",
   "id": "e9dc43c5",
   "metadata": {},
   "source": [
    "There are 14'862 edges that connect any of the 187 target gene nodes to other nodes in the PPI. The average edge cost is slighlty higher for those compared to the average cost of all edges (0.5509 vs 0.5549).\n",
    "\n",
    "Interestingly, the median edge cost and the upper quartile both take the same value 0.5988. Thus, one could choose a similar prize for the direct neighbors of our target nodes to ensure that roughly 25% of these will be included as their prize is greater than the edge weight connecting it to the set of target nodes (terminals)."
   ]
  },
  {
   "cell_type": "markdown",
   "id": "83a05ddc",
   "metadata": {},
   "source": [
    "---\n",
    "\n",
    "## 4. Derivation of the interactome"
   ]
  },
  {
   "cell_type": "markdown",
   "id": "7d966a2a",
   "metadata": {},
   "source": [
    "In the following we will use the previously described data to infer an induced subtree of the human PPI that is specific for U2OS cells by solving the Prize-collecting Steiner Tree problem. Hereby, the set of terminal nodes $\\mathcal{T}$ will be given by the gene targets that we would like to be part of the node set of the induced subtree. The edge weights $e_v$ are given by the costs as defined by the PPI which are seen as a negative confidence estimate of the existance of the corresponding interaction. \n",
    "\n",
    "The choice of the prizes is less straight-forward as the usual choice of e.g. absolute logFC in a studied process is not applicable in our scenario. This is because we do not study any progress but are interested in the generic interactome of the cell population. In this case one could use some measure of the variability of the individual genes as prizes such as the normalized dispersion as computed first by Satija et al. (2015). However, it is not given that the ones that are variable in the wildtype are also those that are important for the signal cascade leading to morphological changes upon overexpression of any of our target genes. A final fall-back solution is to assign a prize to the individual node that is chosen such that the nodes that one wants to be included in the solution are more likely to be part of the PCST solution. To this end, one could for instance uniformly assign a prize of $k$ to all terminal nodes and set the prize for all others to 0, i.e.\n",
    "$$\n",
    "p(v)= \\mathbb{1}[v \\in \\mathcal{R}]\n",
    "$$\n",
    "for the PCST objective formally denoted by\n",
    "$$\n",
    "min_{{\\boldsymbol{T}}=(\\mathcal{V}',\\mathcal{E}')} L({\\boldsymbol{T}}) = \\beta \\sum\\limits_{v' \\notin \\mathcal{V}'} p(v) + \\sum\\limits_{e'\\in \\mathcal{E}'} e_v \\quad \\textrm{s.t.} \\ \\mathcal{T} \\subset \\mathcal{V'},\n",
    "$$\n",
    "is not guaranteed to include all terminals but will find a subtree of the graph, i.e. $\\mathcal{V} \\subset \\mathcal{R} \\subset \\mathcal{V}$, where $\\mathcal{R}$ is the set of terminal nodes.\n",
    "\n",
    "The hyperparameter $\\beta$ that trades off the node prizes against the edge costs can be tuned such that each terminal node is included in the solution to the PCST problem. In our use case this is desired as we want to ensure that the regulatory space of the cells represented by their interactome captures all the gene targets such that we have as many data points as possible to learn the mapping from the structural to the regulatory space as described in the paper.\n",
    "\n",
    "Irrespective of the choice of the hyperparameter $\\beta$ the solution to the PCST problem is guaranteed to satisfy the following condition: Suppose the prize of a node $p_v > 0$ if $v \\in \\mathcal{R}$ and $p_v=0$ otherwise and the edge cost $e_v > 0 \\ \\forall v\\in\\mathcal{V}$, then in the tree $\\boldsymbol{T^*}$ that is an optimal solution to the PCST problem for some choice of $\\beta$ it will hold that $\\mathcal{L}=\\{v | \\textrm{degree}(v) = 1\\} \\subset \\mathcal{R}$, where $\\mathcal{L}$ is the set of leafs in the tree $\\boldsymbol{T^*}$.\n",
    "\n",
    "This is because adding a Steiner node $v' \\notin \\mathcal{R}$ to the tree $\\boldsymbol{T^*}$ to one of the leaf terminals via edge $e_{v'}$ which yields tree $\\boldsymbol{T'}$ would increase the value of the PCST objective function as $p_{v'} = 0$ and $e_{v'} > 0$ by definition and hence $L(\\boldsymbol{T'}) > L(\\boldsymbol{T^*})$."
   ]
  },
  {
   "cell_type": "markdown",
   "id": "bd47ff63",
   "metadata": {},
   "source": [
    "However, in some situations it might be desired to ensure that none of the terminal nodes end up as leafs in the optimal solution. There has been some work on the related problem of solving the internal Steiner tree problem that was shown to be SNP hard. While there exists approximative algorithms to solve those problems that scale linearly with the complexity of the algorithms to solve the Steiner tree problem for a given node set, we propose a prize-assigning function that can be tuned to lead to the desired properties of the optimal solution when solving the PCST problem.\n",
    "\n",
    "In particular, we propose to replace $p(v)$ in the objective by the function $p'(v)$ that is defined as\n",
    "$$\n",
    "p'(v) = p(v)\\alpha^{-l_v},\n",
    "$$\n",
    "where $l_v$ is the minimal shortest path distance from node $v$ to any node $u\\in\\mathcal{R}$ and $\\alpha$ is a tunable hyperparameter controlling the rate of the exponential decay of the prizes. Note that the prize still scales linearly with output of the raw prize-assignment function $p(v)$ that e.g. could set the prize to an absolute log fold-change value.\n",
    "\n",
    "In our use case, we will use\n",
    "$$\n",
    "p(v)=\\mathbb{1}[l_v \\leq k],\n",
    "$$\n",
    "that is we assign prize 0 to all nodes with a minimal shortest path length to any of the terminal nodes $\\mathcal{R}$ greater than $k$."
   ]
  },
  {
   "cell_type": "markdown",
   "id": "f1c505f9",
   "metadata": {},
   "source": [
    "The intuition behind that adjusted prize assignment is the following. We aim to derive the interactome spanning all target nodes (terminals). However, we also want to capture their local neighborhoods as given the PPI which potentially describe causal regulating effects of these nodes. For that reason we would like include the parts of the local neighborhood of our terminal nodes in the PCST solution. Thereby the closer neighborhood is deemed to be more important than a more extended one as e.g. direct neighbors linked in the PPI might indicate a direct causal relationship between the respective nodes. As a consequence the prize decays exponentially with increasing distance to any of the terminals. As a consequence the optimal solution is more likely to include nodes with lower order causal relationships with the terminal nodes. Nonetheless, if there exist high-confidence edges, i.e. edges with low weight even high-order causal relationships might be reflected in the solution to the PCST problem as their exponentially decaying prize still outweights the cost for including the required edges. Lastly, the choice of $p(v)$ is motivated by the fact that may want to set an upper limit for the distance of the Steiner nodes in the solution to the PCST problem and the set of terminal nodes thus allowing us to control the maximum depth of the added neighborhoods for the terminal nodes."
   ]
  },
  {
   "cell_type": "markdown",
   "id": "a67e8209",
   "metadata": {},
   "source": [
    "### 3a. Preprocessing"
   ]
  },
  {
   "cell_type": "markdown",
   "id": "78b20584",
   "metadata": {},
   "source": [
    "Before we can run the PCST algorithm, we first need to run a number of preprocessing steps:\n",
    "1. Construction of a 2D array representing the edges of the PPI\n",
    "2. Construction of a 1D array representing the corresponding edge costs\n",
    "3. Construction of a 1D array representing the prizes for the nodes of the PPI\n",
    "\n",
    "Note that for the derivation of the prizes we need to set the hyperparameters $(\\alpha,\\beta)$. Those should be chosen based on a gridsearch to derive a robust solution that satisfies the constraints of e.g. all terminal nodes being internal nodes in the final solution."
   ]
  },
  {
   "cell_type": "code",
   "execution_count": 385,
   "id": "a83fe705",
   "metadata": {},
   "outputs": [
    {
     "data": {
      "application/javascript": [
       "\n",
       "            setTimeout(function() {\n",
       "                var nbb_cell_id = 385;\n",
       "                var nbb_unformatted_code = \"alpha = 5\\nbeta = 1.0\\nterminals = gene_targets.intersection(set(ppi_graph.interactome_graph.nodes()))\";\n",
       "                var nbb_formatted_code = \"alpha = 5\\nbeta = 1.0\\nterminals = gene_targets.intersection(set(ppi_graph.interactome_graph.nodes()))\";\n",
       "                var nbb_cells = Jupyter.notebook.get_cells();\n",
       "                for (var i = 0; i < nbb_cells.length; ++i) {\n",
       "                    if (nbb_cells[i].input_prompt_number == nbb_cell_id) {\n",
       "                        if (nbb_cells[i].get_text() == nbb_unformatted_code) {\n",
       "                             nbb_cells[i].set_text(nbb_formatted_code);\n",
       "                        }\n",
       "                        break;\n",
       "                    }\n",
       "                }\n",
       "            }, 500);\n",
       "            "
      ],
      "text/plain": [
       "<IPython.core.display.Javascript object>"
      ]
     },
     "metadata": {},
     "output_type": "display_data"
    }
   ],
   "source": [
    "alpha = 5\n",
    "beta = 1.0\n",
    "terminals = gene_targets.intersection(set(ppi_graph.interactome_graph.nodes()))"
   ]
  },
  {
   "cell_type": "code",
   "execution_count": 386,
   "id": "ec38e77b",
   "metadata": {},
   "outputs": [
    {
     "name": "stderr",
     "output_type": "stream",
     "text": [
      "Compute node prizes: 100%|██████████| 15759/15759 [02:38<00:00, 99.20it/s] \n"
     ]
    },
    {
     "data": {
      "application/javascript": [
       "\n",
       "            setTimeout(function() {\n",
       "                var nbb_cell_id = 386;\n",
       "                var nbb_unformatted_code = \"node_id_dict = get_node_id_dict(ppi_graph.interactome_graph)\\nedge_array = get_edge_array(ppi_graph.interactome_graph, node_id_dict)\\nprize_array = get_prize_array(\\n    graph=ppi_graph.interactome_graph,\\n    terminals=terminals,\\n    node_id_dict=node_id_dict,\\n    alpha=alpha,\\n    beta=beta,\\n)\";\n",
       "                var nbb_formatted_code = \"node_id_dict = get_node_id_dict(ppi_graph.interactome_graph)\\nedge_array = get_edge_array(ppi_graph.interactome_graph, node_id_dict)\\nprize_array = get_prize_array(\\n    graph=ppi_graph.interactome_graph,\\n    terminals=terminals,\\n    node_id_dict=node_id_dict,\\n    alpha=alpha,\\n    beta=beta,\\n)\";\n",
       "                var nbb_cells = Jupyter.notebook.get_cells();\n",
       "                for (var i = 0; i < nbb_cells.length; ++i) {\n",
       "                    if (nbb_cells[i].input_prompt_number == nbb_cell_id) {\n",
       "                        if (nbb_cells[i].get_text() == nbb_unformatted_code) {\n",
       "                             nbb_cells[i].set_text(nbb_formatted_code);\n",
       "                        }\n",
       "                        break;\n",
       "                    }\n",
       "                }\n",
       "            }, 500);\n",
       "            "
      ],
      "text/plain": [
       "<IPython.core.display.Javascript object>"
      ]
     },
     "metadata": {},
     "output_type": "display_data"
    }
   ],
   "source": [
    "node_id_dict = get_node_id_dict(ppi_graph.interactome_graph)\n",
    "edge_array = get_edge_array(ppi_graph.interactome_graph, node_id_dict)\n",
    "prize_array = get_prize_array(\n",
    "    graph=ppi_graph.interactome_graph,\n",
    "    terminals=terminals,\n",
    "    node_id_dict=node_id_dict,\n",
    "    alpha=alpha,\n",
    "    beta=beta,\n",
    ")"
   ]
  },
  {
   "cell_type": "markdown",
   "id": "a93fefc7",
   "metadata": {},
   "source": [
    "Let us quickly look at the distribution of the assigned node prizes for an example choice of $(\\alpha,\\beta)=(2,1)$."
   ]
  },
  {
   "cell_type": "code",
   "execution_count": 387,
   "id": "80373659",
   "metadata": {},
   "outputs": [
    {
     "data": {
      "image/png": "[encoded data removed]",
      "text/plain": [
       "<Figure size 576x432 with 1 Axes>"
      ]
     },
     "metadata": {
      "needs_background": "light"
     },
     "output_type": "display_data"
    },
    {
     "data": {
      "application/javascript": [
       "\n",
       "            setTimeout(function() {\n",
       "                var nbb_cell_id = 387;\n",
       "                var nbb_unformatted_code = \"plot_prize_array(prize_array)\";\n",
       "                var nbb_formatted_code = \"plot_prize_array(prize_array)\";\n",
       "                var nbb_cells = Jupyter.notebook.get_cells();\n",
       "                for (var i = 0; i < nbb_cells.length; ++i) {\n",
       "                    if (nbb_cells[i].input_prompt_number == nbb_cell_id) {\n",
       "                        if (nbb_cells[i].get_text() == nbb_unformatted_code) {\n",
       "                             nbb_cells[i].set_text(nbb_formatted_code);\n",
       "                        }\n",
       "                        break;\n",
       "                    }\n",
       "                }\n",
       "            }, 500);\n",
       "            "
      ],
      "text/plain": [
       "<IPython.core.display.Javascript object>"
      ]
     },
     "metadata": {},
     "output_type": "display_data"
    }
   ],
   "source": [
    "plot_prize_array(prize_array)"
   ]
  },
  {
   "cell_type": "markdown",
   "id": "b1567541",
   "metadata": {},
   "source": [
    "As seen above our function assigns a prize of 1 to all terminal nodes and a prize that is $2^{-l_v}$ for all other nodes. We also see that the maximum of the minimum distance of any node to one of the terminal nodes (target genes) is 4 as each node gets assigned a prize of at least $2^{-4}$."
   ]
  },
  {
   "cell_type": "markdown",
   "id": "d2488b22",
   "metadata": {},
   "source": [
    "### 3b. Running the PCST algorithm\n",
    "\n",
    "After setting up the required quantatities we can perform a first run of the PCST algorithm to derive the PCST. To this end, we will use the implementation by the pcst_fast package. We will run the algorithm over a grid of values for the hyperparameters $(\\alpha,\\beta)$ to assess the sensitivity of the solution with respect to those parameters."
   ]
  },
  {
   "cell_type": "code",
   "execution_count": 481,
   "id": "51a247e2",
   "metadata": {},
   "outputs": [
    {
     "name": "stderr",
     "output_type": "stream",
     "text": [
      "Compute prizes for (alpha,k)=(1.5,None): 100%|██████████| 15759/15759 [02:38<00:00, 99.53it/s] \n",
      "04:23:10 - OI2: INFO - Duplicated gene symbols in the prize file (we'll keep the max prize):\n",
      "INFO:OmicsIntegrator.graph:Duplicated gene symbols in the prize file (we'll keep the max prize):\n",
      "04:23:10 - OI2: INFO - []\n",
      "INFO:OmicsIntegrator.graph:[]\n",
      "04:23:10 - OI2: INFO - Members of the prize file not present in the interactome:\n",
      "INFO:OmicsIntegrator.graph:Members of the prize file not present in the interactome:\n",
      "04:23:10 - OI2: INFO - []\n",
      "INFO:OmicsIntegrator.graph:[]\n",
      "Compute prizes for (alpha,k)=(1.5,1): 100%|██████████| 15759/15759 [02:35<00:00, 101.44it/s]\n",
      "04:25:51 - OI2: INFO - Duplicated gene symbols in the prize file (we'll keep the max prize):\n",
      "INFO:OmicsIntegrator.graph:Duplicated gene symbols in the prize file (we'll keep the max prize):\n",
      "04:25:51 - OI2: INFO - []\n",
      "INFO:OmicsIntegrator.graph:[]\n",
      "04:25:51 - OI2: INFO - Members of the prize file not present in the interactome:\n",
      "INFO:OmicsIntegrator.graph:Members of the prize file not present in the interactome:\n",
      "04:25:51 - OI2: INFO - []\n",
      "INFO:OmicsIntegrator.graph:[]\n",
      "Compute prizes for (alpha,k)=(1.5,2): 100%|██████████| 15759/15759 [02:34<00:00, 102.31it/s]\n",
      "04:28:30 - OI2: INFO - Duplicated gene symbols in the prize file (we'll keep the max prize):\n",
      "INFO:OmicsIntegrator.graph:Duplicated gene symbols in the prize file (we'll keep the max prize):\n",
      "04:28:30 - OI2: INFO - []\n",
      "INFO:OmicsIntegrator.graph:[]\n",
      "04:28:30 - OI2: INFO - Members of the prize file not present in the interactome:\n",
      "INFO:OmicsIntegrator.graph:Members of the prize file not present in the interactome:\n",
      "04:28:30 - OI2: INFO - []\n",
      "INFO:OmicsIntegrator.graph:[]\n",
      "Compute prizes for (alpha,k)=(1.5,3): 100%|██████████| 15759/15759 [02:33<00:00, 102.99it/s]\n",
      "04:31:08 - OI2: INFO - Duplicated gene symbols in the prize file (we'll keep the max prize):\n",
      "INFO:OmicsIntegrator.graph:Duplicated gene symbols in the prize file (we'll keep the max prize):\n",
      "04:31:08 - OI2: INFO - []\n",
      "INFO:OmicsIntegrator.graph:[]\n",
      "04:31:08 - OI2: INFO - Members of the prize file not present in the interactome:\n",
      "INFO:OmicsIntegrator.graph:Members of the prize file not present in the interactome:\n",
      "04:31:08 - OI2: INFO - []\n",
      "INFO:OmicsIntegrator.graph:[]\n",
      "Compute prizes for (alpha,k)=(2.0,None): 100%|██████████| 15759/15759 [02:34<00:00, 102.08it/s]\n",
      "04:33:47 - OI2: INFO - Duplicated gene symbols in the prize file (we'll keep the max prize):\n",
      "INFO:OmicsIntegrator.graph:Duplicated gene symbols in the prize file (we'll keep the max prize):\n",
      "04:33:47 - OI2: INFO - []\n",
      "INFO:OmicsIntegrator.graph:[]\n",
      "04:33:47 - OI2: INFO - Members of the prize file not present in the interactome:\n",
      "INFO:OmicsIntegrator.graph:Members of the prize file not present in the interactome:\n",
      "04:33:47 - OI2: INFO - []\n",
      "INFO:OmicsIntegrator.graph:[]\n",
      "Compute prizes for (alpha,k)=(2.0,1): 100%|██████████| 15759/15759 [02:34<00:00, 102.25it/s]\n",
      "04:36:27 - OI2: INFO - Duplicated gene symbols in the prize file (we'll keep the max prize):\n",
      "INFO:OmicsIntegrator.graph:Duplicated gene symbols in the prize file (we'll keep the max prize):\n",
      "04:36:27 - OI2: INFO - []\n",
      "INFO:OmicsIntegrator.graph:[]\n",
      "04:36:27 - OI2: INFO - Members of the prize file not present in the interactome:\n",
      "INFO:OmicsIntegrator.graph:Members of the prize file not present in the interactome:\n",
      "04:36:27 - OI2: INFO - []\n",
      "INFO:OmicsIntegrator.graph:[]\n",
      "Compute prizes for (alpha,k)=(2.0,2): 100%|██████████| 15759/15759 [02:34<00:00, 102.15it/s]\n",
      "04:39:05 - OI2: INFO - Duplicated gene symbols in the prize file (we'll keep the max prize):\n",
      "INFO:OmicsIntegrator.graph:Duplicated gene symbols in the prize file (we'll keep the max prize):\n",
      "04:39:06 - OI2: INFO - []\n",
      "INFO:OmicsIntegrator.graph:[]\n",
      "04:39:06 - OI2: INFO - Members of the prize file not present in the interactome:\n",
      "INFO:OmicsIntegrator.graph:Members of the prize file not present in the interactome:\n",
      "04:39:06 - OI2: INFO - []\n",
      "INFO:OmicsIntegrator.graph:[]\n",
      "Compute prizes for (alpha,k)=(2.0,3): 100%|██████████| 15759/15759 [02:33<00:00, 102.46it/s]\n",
      "04:41:44 - OI2: INFO - Duplicated gene symbols in the prize file (we'll keep the max prize):\n",
      "INFO:OmicsIntegrator.graph:Duplicated gene symbols in the prize file (we'll keep the max prize):\n",
      "04:41:44 - OI2: INFO - []\n",
      "INFO:OmicsIntegrator.graph:[]\n",
      "04:41:44 - OI2: INFO - Members of the prize file not present in the interactome:\n",
      "INFO:OmicsIntegrator.graph:Members of the prize file not present in the interactome:\n",
      "04:41:44 - OI2: INFO - []\n",
      "INFO:OmicsIntegrator.graph:[]\n",
      "Compute prizes for (alpha,k)=(2.5,None): 100%|██████████| 15759/15759 [02:32<00:00, 103.40it/s]\n",
      "04:44:22 - OI2: INFO - Duplicated gene symbols in the prize file (we'll keep the max prize):\n",
      "INFO:OmicsIntegrator.graph:Duplicated gene symbols in the prize file (we'll keep the max prize):\n",
      "04:44:22 - OI2: INFO - []\n",
      "INFO:OmicsIntegrator.graph:[]\n",
      "04:44:22 - OI2: INFO - Members of the prize file not present in the interactome:\n",
      "INFO:OmicsIntegrator.graph:Members of the prize file not present in the interactome:\n",
      "04:44:22 - OI2: INFO - []\n",
      "INFO:OmicsIntegrator.graph:[]\n",
      "Compute prizes for (alpha,k)=(2.5,1): 100%|██████████| 15759/15759 [02:32<00:00, 103.58it/s]\n",
      "04:46:59 - OI2: INFO - Duplicated gene symbols in the prize file (we'll keep the max prize):\n",
      "INFO:OmicsIntegrator.graph:Duplicated gene symbols in the prize file (we'll keep the max prize):\n",
      "04:46:59 - OI2: INFO - []\n",
      "INFO:OmicsIntegrator.graph:[]\n",
      "04:46:59 - OI2: INFO - Members of the prize file not present in the interactome:\n",
      "INFO:OmicsIntegrator.graph:Members of the prize file not present in the interactome:\n",
      "04:46:59 - OI2: INFO - []\n",
      "INFO:OmicsIntegrator.graph:[]\n",
      "Compute prizes for (alpha,k)=(2.5,2): 100%|██████████| 15759/15759 [02:30<00:00, 104.87it/s]\n",
      "04:49:32 - OI2: INFO - Duplicated gene symbols in the prize file (we'll keep the max prize):\n",
      "INFO:OmicsIntegrator.graph:Duplicated gene symbols in the prize file (we'll keep the max prize):\n",
      "04:49:32 - OI2: INFO - []\n",
      "INFO:OmicsIntegrator.graph:[]\n",
      "04:49:32 - OI2: INFO - Members of the prize file not present in the interactome:\n",
      "INFO:OmicsIntegrator.graph:Members of the prize file not present in the interactome:\n",
      "04:49:32 - OI2: INFO - []\n",
      "INFO:OmicsIntegrator.graph:[]\n",
      "Compute prizes for (alpha,k)=(2.5,3): 100%|██████████| 15759/15759 [02:32<00:00, 103.10it/s]\n",
      "04:52:10 - OI2: INFO - Duplicated gene symbols in the prize file (we'll keep the max prize):\n",
      "INFO:OmicsIntegrator.graph:Duplicated gene symbols in the prize file (we'll keep the max prize):\n",
      "04:52:10 - OI2: INFO - []\n",
      "INFO:OmicsIntegrator.graph:[]\n",
      "04:52:10 - OI2: INFO - Members of the prize file not present in the interactome:\n",
      "INFO:OmicsIntegrator.graph:Members of the prize file not present in the interactome:\n",
      "04:52:10 - OI2: INFO - []\n",
      "INFO:OmicsIntegrator.graph:[]\n",
      "Compute prizes for (alpha,k)=(3.0,None): 100%|██████████| 15759/15759 [02:32<00:00, 103.54it/s]\n",
      "04:54:49 - OI2: INFO - Duplicated gene symbols in the prize file (we'll keep the max prize):\n",
      "INFO:OmicsIntegrator.graph:Duplicated gene symbols in the prize file (we'll keep the max prize):\n",
      "04:54:49 - OI2: INFO - []\n",
      "INFO:OmicsIntegrator.graph:[]\n",
      "04:54:49 - OI2: INFO - Members of the prize file not present in the interactome:\n",
      "INFO:OmicsIntegrator.graph:Members of the prize file not present in the interactome:\n",
      "04:54:49 - OI2: INFO - []\n",
      "INFO:OmicsIntegrator.graph:[]\n",
      "Compute prizes for (alpha,k)=(3.0,1): 100%|██████████| 15759/15759 [02:33<00:00, 102.87it/s]\n",
      "04:57:26 - OI2: INFO - Duplicated gene symbols in the prize file (we'll keep the max prize):\n",
      "INFO:OmicsIntegrator.graph:Duplicated gene symbols in the prize file (we'll keep the max prize):\n",
      "04:57:26 - OI2: INFO - []\n",
      "INFO:OmicsIntegrator.graph:[]\n",
      "04:57:27 - OI2: INFO - Members of the prize file not present in the interactome:\n",
      "INFO:OmicsIntegrator.graph:Members of the prize file not present in the interactome:\n",
      "04:57:27 - OI2: INFO - []\n",
      "INFO:OmicsIntegrator.graph:[]\n",
      "Compute prizes for (alpha,k)=(3.0,2): 100%|██████████| 15759/15759 [02:31<00:00, 104.28it/s]\n",
      "05:00:01 - OI2: INFO - Duplicated gene symbols in the prize file (we'll keep the max prize):\n",
      "INFO:OmicsIntegrator.graph:Duplicated gene symbols in the prize file (we'll keep the max prize):\n",
      "05:00:01 - OI2: INFO - []\n",
      "INFO:OmicsIntegrator.graph:[]\n"
     ]
    },
    {
     "name": "stderr",
     "output_type": "stream",
     "text": [
      "05:00:01 - OI2: INFO - Members of the prize file not present in the interactome:\n",
      "INFO:OmicsIntegrator.graph:Members of the prize file not present in the interactome:\n",
      "05:00:01 - OI2: INFO - []\n",
      "INFO:OmicsIntegrator.graph:[]\n",
      "Compute prizes for (alpha,k)=(3.0,3): 100%|██████████| 15759/15759 [02:28<00:00, 106.22it/s]\n",
      "05:02:34 - OI2: INFO - Duplicated gene symbols in the prize file (we'll keep the max prize):\n",
      "INFO:OmicsIntegrator.graph:Duplicated gene symbols in the prize file (we'll keep the max prize):\n",
      "05:02:34 - OI2: INFO - []\n",
      "INFO:OmicsIntegrator.graph:[]\n",
      "05:02:34 - OI2: INFO - Members of the prize file not present in the interactome:\n",
      "INFO:OmicsIntegrator.graph:Members of the prize file not present in the interactome:\n",
      "05:02:34 - OI2: INFO - []\n",
      "INFO:OmicsIntegrator.graph:[]\n",
      "Compute prizes for (alpha,k)=(5.0,None): 100%|██████████| 15759/15759 [02:32<00:00, 103.42it/s]\n",
      "05:05:11 - OI2: INFO - Duplicated gene symbols in the prize file (we'll keep the max prize):\n",
      "INFO:OmicsIntegrator.graph:Duplicated gene symbols in the prize file (we'll keep the max prize):\n",
      "05:05:11 - OI2: INFO - []\n",
      "INFO:OmicsIntegrator.graph:[]\n",
      "05:05:11 - OI2: INFO - Members of the prize file not present in the interactome:\n",
      "INFO:OmicsIntegrator.graph:Members of the prize file not present in the interactome:\n",
      "05:05:11 - OI2: INFO - []\n",
      "INFO:OmicsIntegrator.graph:[]\n",
      "Compute prizes for (alpha,k)=(5.0,1): 100%|██████████| 15759/15759 [02:32<00:00, 103.54it/s]\n",
      "05:07:47 - OI2: INFO - Duplicated gene symbols in the prize file (we'll keep the max prize):\n",
      "INFO:OmicsIntegrator.graph:Duplicated gene symbols in the prize file (we'll keep the max prize):\n",
      "05:07:47 - OI2: INFO - []\n",
      "INFO:OmicsIntegrator.graph:[]\n",
      "05:07:47 - OI2: INFO - Members of the prize file not present in the interactome:\n",
      "INFO:OmicsIntegrator.graph:Members of the prize file not present in the interactome:\n",
      "05:07:48 - OI2: INFO - []\n",
      "INFO:OmicsIntegrator.graph:[]\n",
      "Compute prizes for (alpha,k)=(5.0,2): 100%|██████████| 15759/15759 [02:30<00:00, 104.64it/s]\n",
      "05:10:23 - OI2: INFO - Duplicated gene symbols in the prize file (we'll keep the max prize):\n",
      "INFO:OmicsIntegrator.graph:Duplicated gene symbols in the prize file (we'll keep the max prize):\n",
      "05:10:23 - OI2: INFO - []\n",
      "INFO:OmicsIntegrator.graph:[]\n",
      "05:10:23 - OI2: INFO - Members of the prize file not present in the interactome:\n",
      "INFO:OmicsIntegrator.graph:Members of the prize file not present in the interactome:\n",
      "05:10:23 - OI2: INFO - []\n",
      "INFO:OmicsIntegrator.graph:[]\n",
      "Compute prizes for (alpha,k)=(5.0,3): 100%|██████████| 15759/15759 [02:32<00:00, 103.41it/s]\n",
      "05:13:00 - OI2: INFO - Duplicated gene symbols in the prize file (we'll keep the max prize):\n",
      "INFO:OmicsIntegrator.graph:Duplicated gene symbols in the prize file (we'll keep the max prize):\n",
      "05:13:00 - OI2: INFO - []\n",
      "INFO:OmicsIntegrator.graph:[]\n",
      "05:13:00 - OI2: INFO - Members of the prize file not present in the interactome:\n",
      "INFO:OmicsIntegrator.graph:Members of the prize file not present in the interactome:\n",
      "05:13:00 - OI2: INFO - []\n",
      "INFO:OmicsIntegrator.graph:[]\n",
      "Compute prizes for (alpha,k)=(10.0,None): 100%|██████████| 15759/15759 [02:30<00:00, 104.41it/s]\n",
      "05:15:35 - OI2: INFO - Duplicated gene symbols in the prize file (we'll keep the max prize):\n",
      "INFO:OmicsIntegrator.graph:Duplicated gene symbols in the prize file (we'll keep the max prize):\n",
      "05:15:35 - OI2: INFO - []\n",
      "INFO:OmicsIntegrator.graph:[]\n",
      "05:15:35 - OI2: INFO - Members of the prize file not present in the interactome:\n",
      "INFO:OmicsIntegrator.graph:Members of the prize file not present in the interactome:\n",
      "05:15:35 - OI2: INFO - []\n",
      "INFO:OmicsIntegrator.graph:[]\n",
      "Compute prizes for (alpha,k)=(10.0,1): 100%|██████████| 15759/15759 [02:33<00:00, 102.84it/s]\n",
      "05:18:12 - OI2: INFO - Duplicated gene symbols in the prize file (we'll keep the max prize):\n",
      "INFO:OmicsIntegrator.graph:Duplicated gene symbols in the prize file (we'll keep the max prize):\n",
      "05:18:12 - OI2: INFO - []\n",
      "INFO:OmicsIntegrator.graph:[]\n",
      "05:18:12 - OI2: INFO - Members of the prize file not present in the interactome:\n",
      "INFO:OmicsIntegrator.graph:Members of the prize file not present in the interactome:\n",
      "05:18:12 - OI2: INFO - []\n",
      "INFO:OmicsIntegrator.graph:[]\n",
      "Compute prizes for (alpha,k)=(10.0,2): 100%|██████████| 15759/15759 [02:33<00:00, 102.44it/s]\n",
      "05:20:49 - OI2: INFO - Duplicated gene symbols in the prize file (we'll keep the max prize):\n",
      "INFO:OmicsIntegrator.graph:Duplicated gene symbols in the prize file (we'll keep the max prize):\n",
      "05:20:49 - OI2: INFO - []\n",
      "INFO:OmicsIntegrator.graph:[]\n",
      "05:20:49 - OI2: INFO - Members of the prize file not present in the interactome:\n",
      "INFO:OmicsIntegrator.graph:Members of the prize file not present in the interactome:\n",
      "05:20:49 - OI2: INFO - []\n",
      "INFO:OmicsIntegrator.graph:[]\n",
      "Compute prizes for (alpha,k)=(10.0,3): 100%|██████████| 15759/15759 [02:34<00:00, 101.93it/s]\n",
      "05:23:27 - OI2: INFO - Duplicated gene symbols in the prize file (we'll keep the max prize):\n",
      "INFO:OmicsIntegrator.graph:Duplicated gene symbols in the prize file (we'll keep the max prize):\n",
      "05:23:27 - OI2: INFO - []\n",
      "INFO:OmicsIntegrator.graph:[]\n",
      "05:23:27 - OI2: INFO - Members of the prize file not present in the interactome:\n",
      "INFO:OmicsIntegrator.graph:Members of the prize file not present in the interactome:\n",
      "05:23:27 - OI2: INFO - []\n",
      "INFO:OmicsIntegrator.graph:[]\n",
      "Compute prizes for (alpha,k)=(50.0,None): 100%|██████████| 15759/15759 [02:33<00:00, 102.73it/s]\n",
      "05:26:04 - OI2: INFO - Duplicated gene symbols in the prize file (we'll keep the max prize):\n",
      "INFO:OmicsIntegrator.graph:Duplicated gene symbols in the prize file (we'll keep the max prize):\n",
      "05:26:04 - OI2: INFO - []\n",
      "INFO:OmicsIntegrator.graph:[]\n",
      "05:26:04 - OI2: INFO - Members of the prize file not present in the interactome:\n",
      "INFO:OmicsIntegrator.graph:Members of the prize file not present in the interactome:\n",
      "05:26:04 - OI2: INFO - []\n",
      "INFO:OmicsIntegrator.graph:[]\n",
      "Compute prizes for (alpha,k)=(50.0,1): 100%|██████████| 15759/15759 [02:34<00:00, 102.01it/s]\n",
      "05:28:41 - OI2: INFO - Duplicated gene symbols in the prize file (we'll keep the max prize):\n",
      "INFO:OmicsIntegrator.graph:Duplicated gene symbols in the prize file (we'll keep the max prize):\n",
      "05:28:41 - OI2: INFO - []\n",
      "INFO:OmicsIntegrator.graph:[]\n",
      "05:28:41 - OI2: INFO - Members of the prize file not present in the interactome:\n",
      "INFO:OmicsIntegrator.graph:Members of the prize file not present in the interactome:\n",
      "05:28:41 - OI2: INFO - []\n",
      "INFO:OmicsIntegrator.graph:[]\n",
      "Compute prizes for (alpha,k)=(50.0,2): 100%|██████████| 15759/15759 [02:33<00:00, 102.67it/s]\n",
      "05:31:17 - OI2: INFO - Duplicated gene symbols in the prize file (we'll keep the max prize):\n",
      "INFO:OmicsIntegrator.graph:Duplicated gene symbols in the prize file (we'll keep the max prize):\n",
      "05:31:17 - OI2: INFO - []\n",
      "INFO:OmicsIntegrator.graph:[]\n",
      "05:31:17 - OI2: INFO - Members of the prize file not present in the interactome:\n",
      "INFO:OmicsIntegrator.graph:Members of the prize file not present in the interactome:\n",
      "05:31:17 - OI2: INFO - []\n",
      "INFO:OmicsIntegrator.graph:[]\n",
      "Compute prizes for (alpha,k)=(50.0,3): 100%|██████████| 15759/15759 [02:33<00:00, 102.84it/s]\n",
      "05:33:53 - OI2: INFO - Duplicated gene symbols in the prize file (we'll keep the max prize):\n",
      "INFO:OmicsIntegrator.graph:Duplicated gene symbols in the prize file (we'll keep the max prize):\n",
      "05:33:53 - OI2: INFO - []\n",
      "INFO:OmicsIntegrator.graph:[]\n",
      "05:33:53 - OI2: INFO - Members of the prize file not present in the interactome:\n",
      "INFO:OmicsIntegrator.graph:Members of the prize file not present in the interactome:\n",
      "05:33:53 - OI2: INFO - []\n",
      "INFO:OmicsIntegrator.graph:[]\n",
      "Compute prizes for (alpha,k)=(100.0,None): 100%|██████████| 15759/15759 [02:33<00:00, 102.36it/s]\n",
      "05:36:30 - OI2: INFO - Duplicated gene symbols in the prize file (we'll keep the max prize):\n",
      "INFO:OmicsIntegrator.graph:Duplicated gene symbols in the prize file (we'll keep the max prize):\n",
      "05:36:30 - OI2: INFO - []\n",
      "INFO:OmicsIntegrator.graph:[]\n",
      "05:36:30 - OI2: INFO - Members of the prize file not present in the interactome:\n",
      "INFO:OmicsIntegrator.graph:Members of the prize file not present in the interactome:\n",
      "05:36:30 - OI2: INFO - []\n",
      "INFO:OmicsIntegrator.graph:[]\n",
      "Compute prizes for (alpha,k)=(100.0,1): 100%|██████████| 15759/15759 [02:31<00:00, 104.08it/s]\n",
      "05:39:03 - OI2: INFO - Duplicated gene symbols in the prize file (we'll keep the max prize):\n"
     ]
    },
    {
     "name": "stderr",
     "output_type": "stream",
     "text": [
      "INFO:OmicsIntegrator.graph:Duplicated gene symbols in the prize file (we'll keep the max prize):\n",
      "05:39:03 - OI2: INFO - []\n",
      "INFO:OmicsIntegrator.graph:[]\n",
      "05:39:03 - OI2: INFO - Members of the prize file not present in the interactome:\n",
      "INFO:OmicsIntegrator.graph:Members of the prize file not present in the interactome:\n",
      "05:39:03 - OI2: INFO - []\n",
      "INFO:OmicsIntegrator.graph:[]\n",
      "Compute prizes for (alpha,k)=(100.0,2): 100%|██████████| 15759/15759 [02:30<00:00, 105.01it/s]\n",
      "05:41:36 - OI2: INFO - Duplicated gene symbols in the prize file (we'll keep the max prize):\n",
      "INFO:OmicsIntegrator.graph:Duplicated gene symbols in the prize file (we'll keep the max prize):\n",
      "05:41:36 - OI2: INFO - []\n",
      "INFO:OmicsIntegrator.graph:[]\n",
      "05:41:36 - OI2: INFO - Members of the prize file not present in the interactome:\n",
      "INFO:OmicsIntegrator.graph:Members of the prize file not present in the interactome:\n",
      "05:41:36 - OI2: INFO - []\n",
      "INFO:OmicsIntegrator.graph:[]\n",
      "Compute prizes for (alpha,k)=(100.0,3): 100%|██████████| 15759/15759 [02:31<00:00, 104.24it/s]\n",
      "05:44:09 - OI2: INFO - Duplicated gene symbols in the prize file (we'll keep the max prize):\n",
      "INFO:OmicsIntegrator.graph:Duplicated gene symbols in the prize file (we'll keep the max prize):\n",
      "05:44:09 - OI2: INFO - []\n",
      "INFO:OmicsIntegrator.graph:[]\n",
      "05:44:09 - OI2: INFO - Members of the prize file not present in the interactome:\n",
      "INFO:OmicsIntegrator.graph:Members of the prize file not present in the interactome:\n",
      "05:44:09 - OI2: INFO - []\n",
      "INFO:OmicsIntegrator.graph:[]\n"
     ]
    },
    {
     "data": {
      "application/javascript": [
       "\n",
       "            setTimeout(function() {\n",
       "                var nbb_cell_id = 481;\n",
       "                var nbb_unformatted_code = \"trees_dict, graph = run_sensitivity_analyses(\\n    ppi_graph,\\n    terminals,\\n    alphas=[1.5, 2.0, 2.5, 3.0, 5.0, 10.0, 50.0, 100.0],\\n    betas=[1, 2, 3, 4, 5],\\n    ks=[None, 1, 2, 3],\\n)\";\n",
       "                var nbb_formatted_code = \"trees_dict, graph = run_sensitivity_analyses(\\n    ppi_graph,\\n    terminals,\\n    alphas=[1.5, 2.0, 2.5, 3.0, 5.0, 10.0, 50.0, 100.0],\\n    betas=[1, 2, 3, 4, 5],\\n    ks=[None, 1, 2, 3],\\n)\";\n",
       "                var nbb_cells = Jupyter.notebook.get_cells();\n",
       "                for (var i = 0; i < nbb_cells.length; ++i) {\n",
       "                    if (nbb_cells[i].input_prompt_number == nbb_cell_id) {\n",
       "                        if (nbb_cells[i].get_text() == nbb_unformatted_code) {\n",
       "                             nbb_cells[i].set_text(nbb_formatted_code);\n",
       "                        }\n",
       "                        break;\n",
       "                    }\n",
       "                }\n",
       "            }, 500);\n",
       "            "
      ],
      "text/plain": [
       "<IPython.core.display.Javascript object>"
      ]
     },
     "metadata": {},
     "output_type": "display_data"
    }
   ],
   "source": [
    "trees_dict, graph = run_sensitivity_analyses(\n",
    "    ppi_graph,\n",
    "    terminals,\n",
    "    alphas=[1.5, 2.0, 2.5, 3.0, 5.0, 10.0, 50.0, 100.0],\n",
    "    betas=[1, 2, 3, 4, 5],\n",
    "    ks=[None, 1, 2, 3],\n",
    ")"
   ]
  },
  {
   "cell_type": "code",
   "execution_count": 482,
   "id": "c31e3259",
   "metadata": {},
   "outputs": [
    {
     "data": {
      "application/javascript": [
       "\n",
       "            setTimeout(function() {\n",
       "                var nbb_cell_id = 482;\n",
       "                var nbb_unformatted_code = \"import pickle\\nwith open('../../data/ppi/grid_pcs_trees_dict_072421.pkl', 'wb') as handle:\\n    pickle.dump(trees_dict, handle)\";\n",
       "                var nbb_formatted_code = \"import pickle\\n\\nwith open(\\\"../../data/ppi/grid_pcs_trees_dict_072421.pkl\\\", \\\"wb\\\") as handle:\\n    pickle.dump(trees_dict, handle)\";\n",
       "                var nbb_cells = Jupyter.notebook.get_cells();\n",
       "                for (var i = 0; i < nbb_cells.length; ++i) {\n",
       "                    if (nbb_cells[i].input_prompt_number == nbb_cell_id) {\n",
       "                        if (nbb_cells[i].get_text() == nbb_unformatted_code) {\n",
       "                             nbb_cells[i].set_text(nbb_formatted_code);\n",
       "                        }\n",
       "                        break;\n",
       "                    }\n",
       "                }\n",
       "            }, 500);\n",
       "            "
      ],
      "text/plain": [
       "<IPython.core.display.Javascript object>"
      ]
     },
     "metadata": {},
     "output_type": "display_data"
    }
   ],
   "source": [
    "import pickle\n",
    "\n",
    "with open(\"../../data/ppi/grid_pcs_trees_dict_072421.pkl\", \"wb\") as handle:\n",
    "    pickle.dump(trees_dict, handle)"
   ]
  },
  {
   "cell_type": "code",
   "execution_count": 477,
   "id": "6ec18d0e",
   "metadata": {},
   "outputs": [
    {
     "name": "stdout",
     "output_type": "stream",
     "text": [
      "Name: \n",
      "Type: Graph\n",
      "Number of nodes: 5655\n",
      "Number of edges: 84036\n",
      "Average degree:  29.7210\n"
     ]
    },
    {
     "data": {
      "application/javascript": [
       "\n",
       "            setTimeout(function() {\n",
       "                var nbb_cell_id = 477;\n",
       "                var nbb_unformatted_code = \"print(nx.info(trees_dict[\\\"tree_alpha_2_beta_1_k_None\\\"]))\";\n",
       "                var nbb_formatted_code = \"print(nx.info(trees_dict[\\\"tree_alpha_2_beta_1_k_None\\\"]))\";\n",
       "                var nbb_cells = Jupyter.notebook.get_cells();\n",
       "                for (var i = 0; i < nbb_cells.length; ++i) {\n",
       "                    if (nbb_cells[i].input_prompt_number == nbb_cell_id) {\n",
       "                        if (nbb_cells[i].get_text() == nbb_unformatted_code) {\n",
       "                             nbb_cells[i].set_text(nbb_formatted_code);\n",
       "                        }\n",
       "                        break;\n",
       "                    }\n",
       "                }\n",
       "            }, 500);\n",
       "            "
      ],
      "text/plain": [
       "<IPython.core.display.Javascript object>"
      ]
     },
     "metadata": {},
     "output_type": "display_data"
    }
   ],
   "source": [
    "print(nx.info(trees_dict[\"tree_alpha_2_beta_1_k_None\"]))"
   ]
  }
 ],
 "metadata": {
  "kernelspec": {
   "display_name": "Python 3",
   "language": "python",
   "name": "python3"
  },
  "language_info": {
   "codemirror_mode": {
    "name": "ipython",
    "version": 3
   },
   "file_extension": ".py",
   "mimetype": "text/x-python",
   "name": "python",
   "nbconvert_exporter": "python",
   "pygments_lexer": "ipython3",
   "version": "3.8.10"
  }
 },
 "nbformat": 4,
 "nbformat_minor": 5
}
