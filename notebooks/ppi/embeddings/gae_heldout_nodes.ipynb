{
 "cells": [
  {
   "cell_type": "markdown",
   "id": "6c30e378",
   "metadata": {},
   "source": [
    "# Network embedding\n",
    "\n",
    "In this notebook we aim to derive a node embedding for the regulatory network of U2OS cells that we derived in our preceeding analyses. To this end, we will train a Graph-convolutional AutoEncoder. To assess the stability of the embeddings we will experiment with different input features, training objectives and initializations and compare the clustering of the inferred latent spaces i.a. to embeddings obtained from a DeepWalk model. On the basis of those analyses we will finally identify a stable node embedding for the genes in the input regulatory network. Those embeddings will span our estimate of the regulatory state in U2OS cells."
   ]
  },
  {
   "cell_type": "markdown",
   "id": "7ea02e21",
   "metadata": {},
   "source": [
    "---\n",
    "\n",
    "## 0. Environmental setup"
   ]
  },
  {
   "cell_type": "markdown",
   "id": "19add524",
   "metadata": {},
   "source": [
    "First, we will load all required libraries."
   ]
  },
  {
   "cell_type": "code",
   "execution_count": 1,
   "id": "d6fd3697",
   "metadata": {},
   "outputs": [
    {
     "data": {
      "application/javascript": [
       "\n",
       "            setTimeout(function() {\n",
       "                var nbb_cell_id = 1;\n",
       "                var nbb_unformatted_code = \"import pandas as pd\\nimport networkx as nx\\nimport numpy as np\\nimport seaborn as sns\\nimport sys\\nimport os\\nimport random\\nimport torch\\nfrom tqdm import tqdm\\nimport matplotlib.pyplot as plt\\nimport community as community_louvain\\nfrom torch_geometric.data import Data\\nfrom torch import LongTensor, FloatTensor\\nfrom node2vec import Node2Vec\\nfrom torch_geometric.nn import GAE\\nfrom torch_geometric.utils import (\\n    train_test_split_edges,\\n    from_networkx,\\n    negative_sampling,\\n    to_dense_adj,\\n)\\nimport torch_geometric.transforms as T\\nfrom torch_geometric.nn import InnerProductDecoder\\nfrom sklearn.manifold import TSNE\\nfrom sklearn.preprocessing import StandardScaler, RobustScaler, MinMaxScaler\\nimport scanpy as sc\\nfrom sklearn.cluster import AgglomerativeClustering, KMeans\\nfrom sklearn.metrics import adjusted_mutual_info_score\\nfrom scipy.stats import spearmanr, pearsonr\\nfrom sklearn.cluster import KMeans\\nfrom yellowbrick.cluster.elbow import kelbow_visualizer\\nfrom yellowbrick.cluster import KElbowVisualizer\\nfrom sklearn.model_selection import train_test_split\\n\\nfrom scipy.spatial.distance import pdist, squareform\\nimport scipy.spatial as sp, scipy.cluster.hierarchy as hc\\n\\nsys.path.append(\\\"../../../\\\")\\n\\nfrom src.utils.torch.network import *\\nfrom src.utils.notebooks.ppi.embedding import *\\nfrom src.utils.basic.io import get_genesets_from_gmt_file\\nfrom src.models.ae import CustomGAE, GCNEncoder\\n\\nseed = 1234\\n\\nplt.style.use(\\\"default\\\")\\n\\n%load_ext nb_black\";\n",
       "                var nbb_formatted_code = \"import pandas as pd\\nimport networkx as nx\\nimport numpy as np\\nimport seaborn as sns\\nimport sys\\nimport os\\nimport random\\nimport torch\\nfrom tqdm import tqdm\\nimport matplotlib.pyplot as plt\\nimport community as community_louvain\\nfrom torch_geometric.data import Data\\nfrom torch import LongTensor, FloatTensor\\nfrom node2vec import Node2Vec\\nfrom torch_geometric.nn import GAE\\nfrom torch_geometric.utils import (\\n    train_test_split_edges,\\n    from_networkx,\\n    negative_sampling,\\n    to_dense_adj,\\n)\\nimport torch_geometric.transforms as T\\nfrom torch_geometric.nn import InnerProductDecoder\\nfrom sklearn.manifold import TSNE\\nfrom sklearn.preprocessing import StandardScaler, RobustScaler, MinMaxScaler\\nimport scanpy as sc\\nfrom sklearn.cluster import AgglomerativeClustering, KMeans\\nfrom sklearn.metrics import adjusted_mutual_info_score\\nfrom scipy.stats import spearmanr, pearsonr\\nfrom sklearn.cluster import KMeans\\nfrom yellowbrick.cluster.elbow import kelbow_visualizer\\nfrom yellowbrick.cluster import KElbowVisualizer\\nfrom sklearn.model_selection import train_test_split\\n\\nfrom scipy.spatial.distance import pdist, squareform\\nimport scipy.spatial as sp, scipy.cluster.hierarchy as hc\\n\\nsys.path.append(\\\"../../../\\\")\\n\\nfrom src.utils.torch.network import *\\nfrom src.utils.notebooks.ppi.embedding import *\\nfrom src.utils.basic.io import get_genesets_from_gmt_file\\nfrom src.models.ae import CustomGAE, GCNEncoder\\n\\nseed = 1234\\n\\nplt.style.use(\\\"default\\\")\\n\\n%load_ext nb_black\";\n",
       "                var nbb_cells = Jupyter.notebook.get_cells();\n",
       "                for (var i = 0; i < nbb_cells.length; ++i) {\n",
       "                    if (nbb_cells[i].input_prompt_number == nbb_cell_id) {\n",
       "                        if (nbb_cells[i].get_text() == nbb_unformatted_code) {\n",
       "                             nbb_cells[i].set_text(nbb_formatted_code);\n",
       "                        }\n",
       "                        break;\n",
       "                    }\n",
       "                }\n",
       "            }, 500);\n",
       "            "
      ],
      "text/plain": [
       "<IPython.core.display.Javascript object>"
      ]
     },
     "metadata": {},
     "output_type": "display_data"
    }
   ],
   "source": [
    "import pandas as pd\n",
    "import networkx as nx\n",
    "import numpy as np\n",
    "import seaborn as sns\n",
    "import sys\n",
    "import os\n",
    "import random\n",
    "import torch\n",
    "from tqdm import tqdm\n",
    "import matplotlib.pyplot as plt\n",
    "import community as community_louvain\n",
    "from torch_geometric.data import Data\n",
    "from torch import LongTensor, FloatTensor\n",
    "from node2vec import Node2Vec\n",
    "from torch_geometric.nn import GAE\n",
    "from torch_geometric.utils import (\n",
    "    train_test_split_edges,\n",
    "    from_networkx,\n",
    "    negative_sampling,\n",
    "    to_dense_adj,\n",
    ")\n",
    "import torch_geometric.transforms as T\n",
    "from torch_geometric.nn import InnerProductDecoder\n",
    "from sklearn.manifold import TSNE\n",
    "from sklearn.preprocessing import StandardScaler, RobustScaler, MinMaxScaler\n",
    "import scanpy as sc\n",
    "from sklearn.cluster import AgglomerativeClustering, KMeans\n",
    "from sklearn.metrics import adjusted_mutual_info_score\n",
    "from scipy.stats import spearmanr, pearsonr\n",
    "from sklearn.cluster import KMeans\n",
    "from yellowbrick.cluster.elbow import kelbow_visualizer\n",
    "from yellowbrick.cluster import KElbowVisualizer\n",
    "from sklearn.model_selection import train_test_split\n",
    "\n",
    "from scipy.spatial.distance import pdist, squareform\n",
    "import scipy.spatial as sp, scipy.cluster.hierarchy as hc\n",
    "\n",
    "sys.path.append(\"../../../\")\n",
    "\n",
    "from src.utils.torch.network import *\n",
    "from src.utils.notebooks.ppi.embedding import *\n",
    "from src.utils.basic.io import get_genesets_from_gmt_file\n",
    "from src.models.ae import CustomGAE, GCNEncoder\n",
    "\n",
    "seed = 1234\n",
    "\n",
    "plt.style.use(\"default\")\n",
    "\n",
    "%load_ext nb_black"
   ]
  },
  {
   "cell_type": "code",
   "execution_count": 104,
   "id": "dae93430",
   "metadata": {},
   "outputs": [
    {
     "data": {
      "application/javascript": [
       "\n",
       "            setTimeout(function() {\n",
       "                var nbb_cell_id = 104;\n",
       "                var nbb_unformatted_code = \"def add_pos_negative_edge_indices(graph_data, add_pos_edges=True):\\n    selected_nodes = torch.LongTensor(list(range(graph_data.num_nodes)))[\\n        graph_data.node_mask\\n    ]\\n    adj = torch.zeros(graph_data.num_nodes, graph_data.num_nodes, dtype=torch.bool)\\n    adj[graph_data.edge_index[0], graph_data.edge_index[1]] = True\\n    adj = adj[selected_nodes]\\n    adj = adj[:, selected_nodes]\\n    pos_edge_index = adj.nonzero(as_tuple=False).t()\\n    neg_adj = torch.ones(len(adj), len(adj), dtype=torch.bool)\\n    neg_adj[pos_edge_index[0], pos_edge_index[1]] = False\\n    neg_edge_index = neg_adj.nonzero(as_tuple=False).t()\\n    #     all_pos_edge_index = []\\n    #     for idx in graph_data.edge_index.t():\\n    #         all_pos_edge_index.append((idx[0].item(), idx[1].item()))\\n    #     for i in range(graph_data.num_nodes):\\n    #         for j in range(graph_data.num_nodes):\\n    #             if graph_data.node_mask[i] == 1 == graph_data.node_mask[j] and i != j:\\n    #                 if (i, j) in all_pos_edge_index:\\n    #                     pos_edge_index.append((i, j))\\n    #                 else:\\n    #                     neg_edge_index.append((i, j))\\n    if add_pos_edges:\\n        graph_data.pos_edge_index = torch.LongTensor(pos_edge_index)\\n    graph_data.neg_edge_index = torch.LongTensor(neg_edge_index)\\n    return graph_data\";\n",
       "                var nbb_formatted_code = \"def add_pos_negative_edge_indices(graph_data, add_pos_edges=True):\\n    selected_nodes = torch.LongTensor(list(range(graph_data.num_nodes)))[\\n        graph_data.node_mask\\n    ]\\n    adj = torch.zeros(graph_data.num_nodes, graph_data.num_nodes, dtype=torch.bool)\\n    adj[graph_data.edge_index[0], graph_data.edge_index[1]] = True\\n    adj = adj[selected_nodes]\\n    adj = adj[:, selected_nodes]\\n    pos_edge_index = adj.nonzero(as_tuple=False).t()\\n    neg_adj = torch.ones(len(adj), len(adj), dtype=torch.bool)\\n    neg_adj[pos_edge_index[0], pos_edge_index[1]] = False\\n    neg_edge_index = neg_adj.nonzero(as_tuple=False).t()\\n    #     all_pos_edge_index = []\\n    #     for idx in graph_data.edge_index.t():\\n    #         all_pos_edge_index.append((idx[0].item(), idx[1].item()))\\n    #     for i in range(graph_data.num_nodes):\\n    #         for j in range(graph_data.num_nodes):\\n    #             if graph_data.node_mask[i] == 1 == graph_data.node_mask[j] and i != j:\\n    #                 if (i, j) in all_pos_edge_index:\\n    #                     pos_edge_index.append((i, j))\\n    #                 else:\\n    #                     neg_edge_index.append((i, j))\\n    if add_pos_edges:\\n        graph_data.pos_edge_index = torch.LongTensor(pos_edge_index)\\n    graph_data.neg_edge_index = torch.LongTensor(neg_edge_index)\\n    return graph_data\";\n",
       "                var nbb_cells = Jupyter.notebook.get_cells();\n",
       "                for (var i = 0; i < nbb_cells.length; ++i) {\n",
       "                    if (nbb_cells[i].input_prompt_number == nbb_cell_id) {\n",
       "                        if (nbb_cells[i].get_text() == nbb_unformatted_code) {\n",
       "                             nbb_cells[i].set_text(nbb_formatted_code);\n",
       "                        }\n",
       "                        break;\n",
       "                    }\n",
       "                }\n",
       "            }, 500);\n",
       "            "
      ],
      "text/plain": [
       "<IPython.core.display.Javascript object>"
      ]
     },
     "metadata": {},
     "output_type": "display_data"
    }
   ],
   "source": [
    "def add_pos_negative_edge_indices(graph_data, add_pos_edges=True):\n",
    "    selected_nodes = torch.LongTensor(list(range(graph_data.num_nodes)))[\n",
    "        graph_data.node_mask\n",
    "    ]\n",
    "    adj = torch.zeros(graph_data.num_nodes, graph_data.num_nodes, dtype=torch.bool)\n",
    "    adj[graph_data.edge_index[0], graph_data.edge_index[1]] = True\n",
    "    adj = adj[selected_nodes]\n",
    "    adj = adj[:, selected_nodes]\n",
    "    pos_edge_index = adj.nonzero(as_tuple=False).t()\n",
    "    neg_adj = torch.ones(len(adj), len(adj), dtype=torch.bool)\n",
    "    neg_adj[pos_edge_index[0], pos_edge_index[1]] = False\n",
    "    neg_edge_index = neg_adj.nonzero(as_tuple=False).t()\n",
    "    #     all_pos_edge_index = []\n",
    "    #     for idx in graph_data.edge_index.t():\n",
    "    #         all_pos_edge_index.append((idx[0].item(), idx[1].item()))\n",
    "    #     for i in range(graph_data.num_nodes):\n",
    "    #         for j in range(graph_data.num_nodes):\n",
    "    #             if graph_data.node_mask[i] == 1 == graph_data.node_mask[j] and i != j:\n",
    "    #                 if (i, j) in all_pos_edge_index:\n",
    "    #                     pos_edge_index.append((i, j))\n",
    "    #                 else:\n",
    "    #                     neg_edge_index.append((i, j))\n",
    "    if add_pos_edges:\n",
    "        graph_data.pos_edge_index = torch.LongTensor(pos_edge_index)\n",
    "    graph_data.neg_edge_index = torch.LongTensor(neg_edge_index)\n",
    "    return graph_data"
   ]
  },
  {
   "cell_type": "code",
   "execution_count": 3,
   "id": "22abfa5e",
   "metadata": {},
   "outputs": [
    {
     "data": {
      "application/javascript": [
       "\n",
       "            setTimeout(function() {\n",
       "                var nbb_cell_id = 3;\n",
       "                var nbb_unformatted_code = \"def network_train_val_test_split(network, train_val_test_size, random_state=1234):\\n    train_size, val_size, test_size = train_val_test_size\\n    nodes = list(network.nodes())\\n    train_val_nodes, test_nodes = train_test_split(\\n        nodes, test_size=test_size, random_state=random_state\\n    )\\n    train_nodes, val_nodes = train_test_split(\\n        train_val_nodes, test_size=val_size / (1 - test_size), random_state=random_state\\n    )\\n\\n    train_network = nx.Graph(network.subgraph(train_nodes))\\n    for edge in train_network.edges(data=True):\\n        edge[-1][\\\"edge_mask\\\"] = True\\n    for node in train_network.nodes(data=True):\\n        node[-1][\\\"node_mask\\\"] = True\\n    train_network.name = \\\"train_network\\\"\\n\\n    val_network = nx.Graph(network.subgraph(train_nodes + val_nodes))\\n    for edge in val_network.edges(data=True):\\n        edge[-1][\\\"edge_mask\\\"] = edge[0] in val_nodes and edge[1] in val_nodes\\n    for node in val_network.nodes(data=True):\\n        node[-1][\\\"node_mask\\\"] = node[0] in val_nodes\\n    val_network.name = \\\"val_network\\\"\\n\\n    test_network = nx.Graph(network.subgraph(train_nodes + val_nodes + test_nodes))\\n    for edge in test_network.edges(data=True):\\n        edge[-1][\\\"edge_mask\\\"] = edge[0] in test_nodes and edge[1] in test_nodes\\n    for node in test_network.nodes(data=True):\\n        node[-1][\\\"node_mask\\\"] = node[0] in test_nodes\\n    test_network.name = \\\"test_network\\\"\\n\\n    return train_network, val_network, test_network\";\n",
       "                var nbb_formatted_code = \"def network_train_val_test_split(network, train_val_test_size, random_state=1234):\\n    train_size, val_size, test_size = train_val_test_size\\n    nodes = list(network.nodes())\\n    train_val_nodes, test_nodes = train_test_split(\\n        nodes, test_size=test_size, random_state=random_state\\n    )\\n    train_nodes, val_nodes = train_test_split(\\n        train_val_nodes, test_size=val_size / (1 - test_size), random_state=random_state\\n    )\\n\\n    train_network = nx.Graph(network.subgraph(train_nodes))\\n    for edge in train_network.edges(data=True):\\n        edge[-1][\\\"edge_mask\\\"] = True\\n    for node in train_network.nodes(data=True):\\n        node[-1][\\\"node_mask\\\"] = True\\n    train_network.name = \\\"train_network\\\"\\n\\n    val_network = nx.Graph(network.subgraph(train_nodes + val_nodes))\\n    for edge in val_network.edges(data=True):\\n        edge[-1][\\\"edge_mask\\\"] = edge[0] in val_nodes and edge[1] in val_nodes\\n    for node in val_network.nodes(data=True):\\n        node[-1][\\\"node_mask\\\"] = node[0] in val_nodes\\n    val_network.name = \\\"val_network\\\"\\n\\n    test_network = nx.Graph(network.subgraph(train_nodes + val_nodes + test_nodes))\\n    for edge in test_network.edges(data=True):\\n        edge[-1][\\\"edge_mask\\\"] = edge[0] in test_nodes and edge[1] in test_nodes\\n    for node in test_network.nodes(data=True):\\n        node[-1][\\\"node_mask\\\"] = node[0] in test_nodes\\n    test_network.name = \\\"test_network\\\"\\n\\n    return train_network, val_network, test_network\";\n",
       "                var nbb_cells = Jupyter.notebook.get_cells();\n",
       "                for (var i = 0; i < nbb_cells.length; ++i) {\n",
       "                    if (nbb_cells[i].input_prompt_number == nbb_cell_id) {\n",
       "                        if (nbb_cells[i].get_text() == nbb_unformatted_code) {\n",
       "                             nbb_cells[i].set_text(nbb_formatted_code);\n",
       "                        }\n",
       "                        break;\n",
       "                    }\n",
       "                }\n",
       "            }, 500);\n",
       "            "
      ],
      "text/plain": [
       "<IPython.core.display.Javascript object>"
      ]
     },
     "metadata": {},
     "output_type": "display_data"
    }
   ],
   "source": [
    "def network_train_val_test_split(network, train_val_test_size, random_state=1234):\n",
    "    train_size, val_size, test_size = train_val_test_size\n",
    "    nodes = list(network.nodes())\n",
    "    train_val_nodes, test_nodes = train_test_split(\n",
    "        nodes, test_size=test_size, random_state=random_state\n",
    "    )\n",
    "    train_nodes, val_nodes = train_test_split(\n",
    "        train_val_nodes, test_size=val_size / (1 - test_size), random_state=random_state\n",
    "    )\n",
    "\n",
    "    train_network = nx.Graph(network.subgraph(train_nodes))\n",
    "    for edge in train_network.edges(data=True):\n",
    "        edge[-1][\"edge_mask\"] = True\n",
    "    for node in train_network.nodes(data=True):\n",
    "        node[-1][\"node_mask\"] = True\n",
    "    train_network.name = \"train_network\"\n",
    "\n",
    "    val_network = nx.Graph(network.subgraph(train_nodes + val_nodes))\n",
    "    for edge in val_network.edges(data=True):\n",
    "        edge[-1][\"edge_mask\"] = edge[0] in val_nodes and edge[1] in val_nodes\n",
    "    for node in val_network.nodes(data=True):\n",
    "        node[-1][\"node_mask\"] = node[0] in val_nodes\n",
    "    val_network.name = \"val_network\"\n",
    "\n",
    "    test_network = nx.Graph(network.subgraph(train_nodes + val_nodes + test_nodes))\n",
    "    for edge in test_network.edges(data=True):\n",
    "        edge[-1][\"edge_mask\"] = edge[0] in test_nodes and edge[1] in test_nodes\n",
    "    for node in test_network.nodes(data=True):\n",
    "        node[-1][\"node_mask\"] = node[0] in test_nodes\n",
    "    test_network.name = \"test_network\"\n",
    "\n",
    "    return train_network, val_network, test_network"
   ]
  },
  {
   "cell_type": "markdown",
   "id": "6d9745b8",
   "metadata": {},
   "source": [
    "---\n",
    "\n",
    "## 1. Read in data"
   ]
  },
  {
   "cell_type": "markdown",
   "id": "6082efee",
   "metadata": {},
   "source": [
    "Next, we will read in the regulatory graph data along side with a scRNA-seq data set and a number of hallmark geneset information. The latter two will be used to define further node features and update the correlation information for the interactions in the graph."
   ]
  },
  {
   "cell_type": "code",
   "execution_count": 4,
   "id": "1299b5e8",
   "metadata": {},
   "outputs": [
    {
     "name": "stdout",
     "output_type": "stream",
     "text": [
      "Name: conf_hub_spearman_sol\n",
      "Type: Graph\n",
      "Number of nodes: 244\n",
      "Number of edges: 521\n",
      "Average degree:   4.2705\n"
     ]
    },
    {
     "data": {
      "application/javascript": [
       "\n",
       "            setTimeout(function() {\n",
       "                var nbb_cell_id = 4;\n",
       "                var nbb_unformatted_code = \"spearman_interactome = nx.read_gpickle(\\n    \\\"../../../data/ppi/inference_results/cv/conf_hub_spearman_sol_cv.pkl\\\"\\n)\\nprint(nx.info(spearman_interactome))\";\n",
       "                var nbb_formatted_code = \"spearman_interactome = nx.read_gpickle(\\n    \\\"../../../data/ppi/inference_results/cv/conf_hub_spearman_sol_cv.pkl\\\"\\n)\\nprint(nx.info(spearman_interactome))\";\n",
       "                var nbb_cells = Jupyter.notebook.get_cells();\n",
       "                for (var i = 0; i < nbb_cells.length; ++i) {\n",
       "                    if (nbb_cells[i].input_prompt_number == nbb_cell_id) {\n",
       "                        if (nbb_cells[i].get_text() == nbb_unformatted_code) {\n",
       "                             nbb_cells[i].set_text(nbb_formatted_code);\n",
       "                        }\n",
       "                        break;\n",
       "                    }\n",
       "                }\n",
       "            }, 500);\n",
       "            "
      ],
      "text/plain": [
       "<IPython.core.display.Javascript object>"
      ]
     },
     "metadata": {},
     "output_type": "display_data"
    }
   ],
   "source": [
    "spearman_interactome = nx.read_gpickle(\n",
    "    \"../../../data/ppi/inference_results/cv/conf_hub_spearman_sol_cv.pkl\"\n",
    ")\n",
    "print(nx.info(spearman_interactome))"
   ]
  },
  {
   "cell_type": "code",
   "execution_count": 5,
   "id": "8fa2e4e3",
   "metadata": {},
   "outputs": [
    {
     "data": {
      "application/javascript": [
       "\n",
       "            setTimeout(function() {\n",
       "                var nbb_cell_id = 5;\n",
       "                var nbb_unformatted_code = \"gex_adata = sc.read(\\\"../../../data/gex/scrnaseq/fucci_adata.h5\\\")\\ngex_adata.var_names_make_unique()\\ngex_data = pd.DataFrame(\\n    gex_adata.X, columns=gex_adata.var_names, index=gex_adata.obs_names\\n)\\ngex_data.columns = [c.upper() for c in gex_data.columns]\\ngex_data = gex_data.loc[\\n    :, set(spearman_interactome.nodes()).intersection(gex_data.columns)\\n]\";\n",
       "                var nbb_formatted_code = \"gex_adata = sc.read(\\\"../../../data/gex/scrnaseq/fucci_adata.h5\\\")\\ngex_adata.var_names_make_unique()\\ngex_data = pd.DataFrame(\\n    gex_adata.X, columns=gex_adata.var_names, index=gex_adata.obs_names\\n)\\ngex_data.columns = [c.upper() for c in gex_data.columns]\\ngex_data = gex_data.loc[\\n    :, set(spearman_interactome.nodes()).intersection(gex_data.columns)\\n]\";\n",
       "                var nbb_cells = Jupyter.notebook.get_cells();\n",
       "                for (var i = 0; i < nbb_cells.length; ++i) {\n",
       "                    if (nbb_cells[i].input_prompt_number == nbb_cell_id) {\n",
       "                        if (nbb_cells[i].get_text() == nbb_unformatted_code) {\n",
       "                             nbb_cells[i].set_text(nbb_formatted_code);\n",
       "                        }\n",
       "                        break;\n",
       "                    }\n",
       "                }\n",
       "            }, 500);\n",
       "            "
      ],
      "text/plain": [
       "<IPython.core.display.Javascript object>"
      ]
     },
     "metadata": {},
     "output_type": "display_data"
    }
   ],
   "source": [
    "gex_adata = sc.read(\"../../../data/gex/scrnaseq/fucci_adata.h5\")\n",
    "gex_adata.var_names_make_unique()\n",
    "gex_data = pd.DataFrame(\n",
    "    gex_adata.X, columns=gex_adata.var_names, index=gex_adata.obs_names\n",
    ")\n",
    "gex_data.columns = [c.upper() for c in gex_data.columns]\n",
    "gex_data = gex_data.loc[\n",
    "    :, set(spearman_interactome.nodes()).intersection(gex_data.columns)\n",
    "]"
   ]
  },
  {
   "cell_type": "markdown",
   "id": "deb8e8c6",
   "metadata": {},
   "source": [
    "In addition to the 50 Hallmark gene sets, we also load the gene sets corresponding to pathways involved in mechanotransduction: cell cycle control, regulation of chromatin organization and actin cytoskeleton, DNA damage repair, cell death and transcription factors."
   ]
  },
  {
   "cell_type": "code",
   "execution_count": 6,
   "id": "54d91fc9",
   "metadata": {},
   "outputs": [
    {
     "data": {
      "application/javascript": [
       "\n",
       "            setTimeout(function() {\n",
       "                var nbb_cell_id = 6;\n",
       "                var nbb_unformatted_code = \"cc_genes = set(\\n    pd.read_csv(\\\"../../../data/other/reactome_cell_cycle.txt\\\", index_col=0).index\\n)\\nco_genes = set(\\n    pd.read_csv(\\\"../../../data/other/reactome_chrom_org.txt\\\", index_col=0).index\\n)\\ndr_genes = set(\\n    pd.read_csv(\\\"../../../data/other/reactome_dna_repair.txt\\\", index_col=0).index\\n)\\ncd_genes = set(\\n    pd.read_csv(\\\"../../../data/other/reactome_cell_death.txt\\\", index_col=0).index\\n)\\ncr_genes = set(\\n    pd.read_csv(\\\"../../../data/other/kegg_reg_act_cytoskeleton.txt\\\", index_col=0).index\\n)\\ntfs = set(pd.read_csv(\\\"../../../data/other/human_tf_list.txt\\\", index_col=0).index)\\n\\nspec_results = pd.read_csv(\\n    \\\"../../../data/other/specificity_screen_results_cv.csv\\\", index_col=0\\n)\\nspec_results = spec_results.loc[spec_results[\\\"selected\\\"]]\\nspec_orf_targets = set(spec_results.index)\\nhallmark_geneset_dict = get_genesets_from_gmt_file(\\n    \\\"../../../data/other/h.all.v7.4.symbols.gmt\\\"\\n)\";\n",
       "                var nbb_formatted_code = \"cc_genes = set(\\n    pd.read_csv(\\\"../../../data/other/reactome_cell_cycle.txt\\\", index_col=0).index\\n)\\nco_genes = set(\\n    pd.read_csv(\\\"../../../data/other/reactome_chrom_org.txt\\\", index_col=0).index\\n)\\ndr_genes = set(\\n    pd.read_csv(\\\"../../../data/other/reactome_dna_repair.txt\\\", index_col=0).index\\n)\\ncd_genes = set(\\n    pd.read_csv(\\\"../../../data/other/reactome_cell_death.txt\\\", index_col=0).index\\n)\\ncr_genes = set(\\n    pd.read_csv(\\\"../../../data/other/kegg_reg_act_cytoskeleton.txt\\\", index_col=0).index\\n)\\ntfs = set(pd.read_csv(\\\"../../../data/other/human_tf_list.txt\\\", index_col=0).index)\\n\\nspec_results = pd.read_csv(\\n    \\\"../../../data/other/specificity_screen_results_cv.csv\\\", index_col=0\\n)\\nspec_results = spec_results.loc[spec_results[\\\"selected\\\"]]\\nspec_orf_targets = set(spec_results.index)\\nhallmark_geneset_dict = get_genesets_from_gmt_file(\\n    \\\"../../../data/other/h.all.v7.4.symbols.gmt\\\"\\n)\";\n",
       "                var nbb_cells = Jupyter.notebook.get_cells();\n",
       "                for (var i = 0; i < nbb_cells.length; ++i) {\n",
       "                    if (nbb_cells[i].input_prompt_number == nbb_cell_id) {\n",
       "                        if (nbb_cells[i].get_text() == nbb_unformatted_code) {\n",
       "                             nbb_cells[i].set_text(nbb_formatted_code);\n",
       "                        }\n",
       "                        break;\n",
       "                    }\n",
       "                }\n",
       "            }, 500);\n",
       "            "
      ],
      "text/plain": [
       "<IPython.core.display.Javascript object>"
      ]
     },
     "metadata": {},
     "output_type": "display_data"
    }
   ],
   "source": [
    "cc_genes = set(\n",
    "    pd.read_csv(\"../../../data/other/reactome_cell_cycle.txt\", index_col=0).index\n",
    ")\n",
    "co_genes = set(\n",
    "    pd.read_csv(\"../../../data/other/reactome_chrom_org.txt\", index_col=0).index\n",
    ")\n",
    "dr_genes = set(\n",
    "    pd.read_csv(\"../../../data/other/reactome_dna_repair.txt\", index_col=0).index\n",
    ")\n",
    "cd_genes = set(\n",
    "    pd.read_csv(\"../../../data/other/reactome_cell_death.txt\", index_col=0).index\n",
    ")\n",
    "cr_genes = set(\n",
    "    pd.read_csv(\"../../../data/other/kegg_reg_act_cytoskeleton.txt\", index_col=0).index\n",
    ")\n",
    "tfs = set(pd.read_csv(\"../../../data/other/human_tf_list.txt\", index_col=0).index)\n",
    "\n",
    "spec_results = pd.read_csv(\n",
    "    \"../../../data/other/specificity_screen_results_cv.csv\", index_col=0\n",
    ")\n",
    "spec_results = spec_results.loc[spec_results[\"selected\"]]\n",
    "spec_orf_targets = set(spec_results.index)\n",
    "hallmark_geneset_dict = get_genesets_from_gmt_file(\n",
    "    \"../../../data/other/h.all.v7.4.symbols.gmt\"\n",
    ")"
   ]
  },
  {
   "cell_type": "markdown",
   "id": "0dd9ecb2",
   "metadata": {},
   "source": [
    "---\n",
    "---\n",
    "\n",
    "## 2. Preprocessing\n",
    "\n",
    "We will now set the respective node and edge attributes computed based on the previously loaded information. Note, that the single-cell gene expression data is min-max-scaled."
   ]
  },
  {
   "cell_type": "markdown",
   "id": "f3db1268",
   "metadata": {},
   "source": [
    "### 2.1. Attribute setting"
   ]
  },
  {
   "cell_type": "code",
   "execution_count": 7,
   "id": "42c07082",
   "metadata": {},
   "outputs": [
    {
     "data": {
      "application/javascript": [
       "\n",
       "            setTimeout(function() {\n",
       "                var nbb_cell_id = 7;\n",
       "                var nbb_unformatted_code = \"gex_data_z = pd.DataFrame(\\n    MinMaxScaler().fit_transform(gex_data.transpose()),\\n    index=gex_data.transpose().index,\\n    columns=gex_data.transpose().columns,\\n).transpose()\";\n",
       "                var nbb_formatted_code = \"gex_data_z = pd.DataFrame(\\n    MinMaxScaler().fit_transform(gex_data.transpose()),\\n    index=gex_data.transpose().index,\\n    columns=gex_data.transpose().columns,\\n).transpose()\";\n",
       "                var nbb_cells = Jupyter.notebook.get_cells();\n",
       "                for (var i = 0; i < nbb_cells.length; ++i) {\n",
       "                    if (nbb_cells[i].input_prompt_number == nbb_cell_id) {\n",
       "                        if (nbb_cells[i].get_text() == nbb_unformatted_code) {\n",
       "                             nbb_cells[i].set_text(nbb_formatted_code);\n",
       "                        }\n",
       "                        break;\n",
       "                    }\n",
       "                }\n",
       "            }, 500);\n",
       "            "
      ],
      "text/plain": [
       "<IPython.core.display.Javascript object>"
      ]
     },
     "metadata": {},
     "output_type": "display_data"
    }
   ],
   "source": [
    "gex_data_z = pd.DataFrame(\n",
    "    MinMaxScaler().fit_transform(gex_data.transpose()),\n",
    "    index=gex_data.transpose().index,\n",
    "    columns=gex_data.transpose().columns,\n",
    ").transpose()"
   ]
  },
  {
   "cell_type": "code",
   "execution_count": 8,
   "id": "355fa02d",
   "metadata": {},
   "outputs": [
    {
     "data": {
      "application/javascript": [
       "\n",
       "            setTimeout(function() {\n",
       "                var nbb_cell_id = 8;\n",
       "                var nbb_unformatted_code = \"for node in spearman_interactome.nodes(data=True):\\n    node[-1][\\\"sc_gex\\\"] = np.array(gex_data_z.loc[:, node[0]])\\n    node[-1][\\\"sc_gex\\\"] = node[-1][\\\"sc_gex\\\"]\\n    node[-1][\\\"name\\\"] = node[0]\\n    node[-1][\\\"cell_cycle\\\"] = node[0] in cc_genes\\n    node[-1][\\\"chromatin_org\\\"] = node[0] in co_genes\\n    node[-1][\\\"dna_repair\\\"] = node[0] in dr_genes\\n    node[-1][\\\"cytoskeleton_org\\\"] = node[0] in cr_genes\\n    node[-1][\\\"cell_death\\\"] = node[0] in cd_genes\\n    node[-1][\\\"tf\\\"] = node[0] in tfs\\n    node[-1][\\\"spec_target\\\"] = node[0] in spec_orf_targets\\n\\n    gene_memberships = []\\n    for geneset in hallmark_geneset_dict.values():\\n        if node[0] in geneset:\\n            gene_memberships.append(1.0)\\n        else:\\n            gene_memberships.append(0.0)\\n\\n    node[-1][\\\"hallmark\\\"] = np.array(gene_memberships)\\n    node[-1][\\\"sc_gex_hallmark\\\"] = np.concatenate(\\n        [node[-1][\\\"sc_gex\\\"], node[-1][\\\"hallmark\\\"]]\\n    )\\n\\nfor edge in spearman_interactome.edges(data=True):\\n    edge[-1][\\\"spearmanr\\\"] = spearmanr(\\n        gex_data.loc[:, edge[0]], gex_data.loc[:, edge[1]]\\n    )[0]\\n    edge[-1][\\\"pearsonr\\\"] = pearsonr(gex_data.loc[:, edge[0]], gex_data.loc[:, edge[1]])[\\n        0\\n    ]\";\n",
       "                var nbb_formatted_code = \"for node in spearman_interactome.nodes(data=True):\\n    node[-1][\\\"sc_gex\\\"] = np.array(gex_data_z.loc[:, node[0]])\\n    node[-1][\\\"sc_gex\\\"] = node[-1][\\\"sc_gex\\\"]\\n    node[-1][\\\"name\\\"] = node[0]\\n    node[-1][\\\"cell_cycle\\\"] = node[0] in cc_genes\\n    node[-1][\\\"chromatin_org\\\"] = node[0] in co_genes\\n    node[-1][\\\"dna_repair\\\"] = node[0] in dr_genes\\n    node[-1][\\\"cytoskeleton_org\\\"] = node[0] in cr_genes\\n    node[-1][\\\"cell_death\\\"] = node[0] in cd_genes\\n    node[-1][\\\"tf\\\"] = node[0] in tfs\\n    node[-1][\\\"spec_target\\\"] = node[0] in spec_orf_targets\\n\\n    gene_memberships = []\\n    for geneset in hallmark_geneset_dict.values():\\n        if node[0] in geneset:\\n            gene_memberships.append(1.0)\\n        else:\\n            gene_memberships.append(0.0)\\n\\n    node[-1][\\\"hallmark\\\"] = np.array(gene_memberships)\\n    node[-1][\\\"sc_gex_hallmark\\\"] = np.concatenate(\\n        [node[-1][\\\"sc_gex\\\"], node[-1][\\\"hallmark\\\"]]\\n    )\\n\\nfor edge in spearman_interactome.edges(data=True):\\n    edge[-1][\\\"spearmanr\\\"] = spearmanr(\\n        gex_data.loc[:, edge[0]], gex_data.loc[:, edge[1]]\\n    )[0]\\n    edge[-1][\\\"pearsonr\\\"] = pearsonr(gex_data.loc[:, edge[0]], gex_data.loc[:, edge[1]])[\\n        0\\n    ]\";\n",
       "                var nbb_cells = Jupyter.notebook.get_cells();\n",
       "                for (var i = 0; i < nbb_cells.length; ++i) {\n",
       "                    if (nbb_cells[i].input_prompt_number == nbb_cell_id) {\n",
       "                        if (nbb_cells[i].get_text() == nbb_unformatted_code) {\n",
       "                             nbb_cells[i].set_text(nbb_formatted_code);\n",
       "                        }\n",
       "                        break;\n",
       "                    }\n",
       "                }\n",
       "            }, 500);\n",
       "            "
      ],
      "text/plain": [
       "<IPython.core.display.Javascript object>"
      ]
     },
     "metadata": {},
     "output_type": "display_data"
    }
   ],
   "source": [
    "for node in spearman_interactome.nodes(data=True):\n",
    "    node[-1][\"sc_gex\"] = np.array(gex_data_z.loc[:, node[0]])\n",
    "    node[-1][\"sc_gex\"] = node[-1][\"sc_gex\"]\n",
    "    node[-1][\"name\"] = node[0]\n",
    "    node[-1][\"cell_cycle\"] = node[0] in cc_genes\n",
    "    node[-1][\"chromatin_org\"] = node[0] in co_genes\n",
    "    node[-1][\"dna_repair\"] = node[0] in dr_genes\n",
    "    node[-1][\"cytoskeleton_org\"] = node[0] in cr_genes\n",
    "    node[-1][\"cell_death\"] = node[0] in cd_genes\n",
    "    node[-1][\"tf\"] = node[0] in tfs\n",
    "    node[-1][\"spec_target\"] = node[0] in spec_orf_targets\n",
    "\n",
    "    gene_memberships = []\n",
    "    for geneset in hallmark_geneset_dict.values():\n",
    "        if node[0] in geneset:\n",
    "            gene_memberships.append(1.0)\n",
    "        else:\n",
    "            gene_memberships.append(0.0)\n",
    "\n",
    "    node[-1][\"hallmark\"] = np.array(gene_memberships)\n",
    "    node[-1][\"sc_gex_hallmark\"] = np.concatenate(\n",
    "        [node[-1][\"sc_gex\"], node[-1][\"hallmark\"]]\n",
    "    )\n",
    "\n",
    "for edge in spearman_interactome.edges(data=True):\n",
    "    edge[-1][\"spearmanr\"] = spearmanr(\n",
    "        gex_data.loc[:, edge[0]], gex_data.loc[:, edge[1]]\n",
    "    )[0]\n",
    "    edge[-1][\"pearsonr\"] = pearsonr(gex_data.loc[:, edge[0]], gex_data.loc[:, edge[1]])[\n",
    "        0\n",
    "    ]"
   ]
  },
  {
   "cell_type": "markdown",
   "id": "16cd12ee",
   "metadata": {},
   "source": [
    "---\n",
    "\n",
    "\n",
    "### 2.2. Data splitting"
   ]
  },
  {
   "cell_type": "markdown",
   "id": "2944e779",
   "metadata": {},
   "source": [
    "Next, we want split the node set in a training, validation and test set. Using these node sets, we will want to assess the generalizability of the graph autoencoder to unseen nodes. Thus, we propose the following experimental setup:\n",
    "1. Split the node sets randomly into a training, validation and test set.\n",
    "2. Define the training network as the subnetwork induced by the training node set, the validation network as induced by the training and validation node set and the test network as the complete network.\n",
    "3. For each set: Construct an corresponding edge mask that is one only for edge where both nodes connected by the edge are in the corresponding node set\n",
    "    \n",
    "4. Train the GAE using the corresponding input graphs for message passing and the masks to compute the loss."
   ]
  },
  {
   "cell_type": "markdown",
   "id": "fcaa8187",
   "metadata": {},
   "source": [
    "#### Effect of the data splitting"
   ]
  },
  {
   "cell_type": "markdown",
   "id": "278e5340",
   "metadata": {},
   "source": [
    "However, it is important to mention that by that procedure the training and validation network will feature a number of singeltons (disconnected nodes) due to the splitting. This is because there are multiple nodes with a degree of 1 in the network as shown below."
   ]
  },
  {
   "cell_type": "code",
   "execution_count": 9,
   "id": "65f9c0ea",
   "metadata": {},
   "outputs": [
    {
     "data": {
      "image/png": "[encoded data removed]",
      "text/plain": [
       "<Figure size 600x250 with 1 Axes>"
      ]
     },
     "metadata": {},
     "output_type": "display_data"
    },
    {
     "data": {
      "application/javascript": [
       "\n",
       "            setTimeout(function() {\n",
       "                var nbb_cell_id = 9;\n",
       "                var nbb_unformatted_code = \"interactome_degrees = []\\nfor node in spearman_interactome.nodes():\\n    interactome_degrees.append(spearman_interactome.degree(node))\\nplt.figure(figsize=[6, 2.5])\\nplt.hist(interactome_degrees, bins=25)\\nplt.title(\\\"Degrees in the inferred interactome\\\")\\nplt.xlabel(\\\"Degree\\\")\\nplt.ylabel(\\\"Count\\\")\\nplt.show()\";\n",
       "                var nbb_formatted_code = \"interactome_degrees = []\\nfor node in spearman_interactome.nodes():\\n    interactome_degrees.append(spearman_interactome.degree(node))\\nplt.figure(figsize=[6, 2.5])\\nplt.hist(interactome_degrees, bins=25)\\nplt.title(\\\"Degrees in the inferred interactome\\\")\\nplt.xlabel(\\\"Degree\\\")\\nplt.ylabel(\\\"Count\\\")\\nplt.show()\";\n",
       "                var nbb_cells = Jupyter.notebook.get_cells();\n",
       "                for (var i = 0; i < nbb_cells.length; ++i) {\n",
       "                    if (nbb_cells[i].input_prompt_number == nbb_cell_id) {\n",
       "                        if (nbb_cells[i].get_text() == nbb_unformatted_code) {\n",
       "                             nbb_cells[i].set_text(nbb_formatted_code);\n",
       "                        }\n",
       "                        break;\n",
       "                    }\n",
       "                }\n",
       "            }, 500);\n",
       "            "
      ],
      "text/plain": [
       "<IPython.core.display.Javascript object>"
      ]
     },
     "metadata": {},
     "output_type": "display_data"
    }
   ],
   "source": [
    "interactome_degrees = []\n",
    "for node in spearman_interactome.nodes():\n",
    "    interactome_degrees.append(spearman_interactome.degree(node))\n",
    "plt.figure(figsize=[6, 2.5])\n",
    "plt.hist(interactome_degrees, bins=25)\n",
    "plt.title(\"Degrees in the inferred interactome\")\n",
    "plt.xlabel(\"Degree\")\n",
    "plt.ylabel(\"Count\")\n",
    "plt.show()"
   ]
  },
  {
   "cell_type": "markdown",
   "id": "072e036a",
   "metadata": {},
   "source": [
    "In fact we see that 54 nodes in the network are only connected by a single edge. As a consequence selecting any of those for the validation or test set create disconnected nodes in the training network.\n",
    "\n",
    "To show that we perform three different random splits and visualize the degree distributions in both the training and test network. We decide to keep 20% of the nodes for testing and thus infer the corresponding subgraphs after sampling those."
   ]
  },
  {
   "cell_type": "code",
   "execution_count": 10,
   "id": "883f9296",
   "metadata": {},
   "outputs": [
    {
     "data": {
      "image/png": "[encoded data removed]",
      "text/plain": [
       "<Figure size 1000x250 with 2 Axes>"
      ]
     },
     "metadata": {},
     "output_type": "display_data"
    },
    {
     "data": {
      "image/png": "[encoded data removed]",
      "text/plain": [
       "<Figure size 1000x250 with 2 Axes>"
      ]
     },
     "metadata": {},
     "output_type": "display_data"
    },
    {
     "data": {
      "image/png": "[encoded data removed]",
      "text/plain": [
       "<Figure size 1000x250 with 2 Axes>"
      ]
     },
     "metadata": {},
     "output_type": "display_data"
    },
    {
     "data": {
      "application/javascript": [
       "\n",
       "            setTimeout(function() {\n",
       "                var nbb_cell_id = 10;\n",
       "                var nbb_unformatted_code = \"nodes = list(range(len(spearman_interactome)))\\n\\nfor i in range(3):\\n    train_val_nodes, test_nodes = train_test_split(nodes, test_size=0.2)\\n    train_nodes, val_nodes = train_test_split(train_val_nodes, test_size=0.2)\\n    train_interactome = spearman_interactome.subgraph(\\n        np.array(spearman_interactome.nodes())[train_nodes]\\n    )\\n    val_interactome = spearman_interactome.subgraph(\\n        np.array(spearman_interactome.nodes())[val_nodes + train_nodes]\\n    )\\n    train_degrees = []\\n    val_degrees = []\\n    for node in train_interactome.nodes():\\n        train_degrees.append(train_interactome.degree(node))\\n    for node in val_interactome.nodes():\\n        val_degrees.append(val_interactome.degree(node))\\n    fig, ax = plt.subplots(figsize=[10, 2.5], ncols=2)\\n    ax[0].hist(train_degrees, bins=30)\\n    ax[0].set_title(\\\"Degree distribution in the train graph\\\")\\n    ax[0].set_ylabel(\\\"Count\\\")\\n    ax[0].set_xlabel(\\\"Degree\\\")\\n\\n    ax[1].hist(val_degrees, bins=30)\\n    ax[1].set_title(\\\"Degree distribution in the validation graph\\\")\\n    ax[1].set_ylabel(\\\"Count\\\")\\n    ax[1].set_xlabel(\\\"Degree\\\")\\n    plt.show()\";\n",
       "                var nbb_formatted_code = \"nodes = list(range(len(spearman_interactome)))\\n\\nfor i in range(3):\\n    train_val_nodes, test_nodes = train_test_split(nodes, test_size=0.2)\\n    train_nodes, val_nodes = train_test_split(train_val_nodes, test_size=0.2)\\n    train_interactome = spearman_interactome.subgraph(\\n        np.array(spearman_interactome.nodes())[train_nodes]\\n    )\\n    val_interactome = spearman_interactome.subgraph(\\n        np.array(spearman_interactome.nodes())[val_nodes + train_nodes]\\n    )\\n    train_degrees = []\\n    val_degrees = []\\n    for node in train_interactome.nodes():\\n        train_degrees.append(train_interactome.degree(node))\\n    for node in val_interactome.nodes():\\n        val_degrees.append(val_interactome.degree(node))\\n    fig, ax = plt.subplots(figsize=[10, 2.5], ncols=2)\\n    ax[0].hist(train_degrees, bins=30)\\n    ax[0].set_title(\\\"Degree distribution in the train graph\\\")\\n    ax[0].set_ylabel(\\\"Count\\\")\\n    ax[0].set_xlabel(\\\"Degree\\\")\\n\\n    ax[1].hist(val_degrees, bins=30)\\n    ax[1].set_title(\\\"Degree distribution in the validation graph\\\")\\n    ax[1].set_ylabel(\\\"Count\\\")\\n    ax[1].set_xlabel(\\\"Degree\\\")\\n    plt.show()\";\n",
       "                var nbb_cells = Jupyter.notebook.get_cells();\n",
       "                for (var i = 0; i < nbb_cells.length; ++i) {\n",
       "                    if (nbb_cells[i].input_prompt_number == nbb_cell_id) {\n",
       "                        if (nbb_cells[i].get_text() == nbb_unformatted_code) {\n",
       "                             nbb_cells[i].set_text(nbb_formatted_code);\n",
       "                        }\n",
       "                        break;\n",
       "                    }\n",
       "                }\n",
       "            }, 500);\n",
       "            "
      ],
      "text/plain": [
       "<IPython.core.display.Javascript object>"
      ]
     },
     "metadata": {},
     "output_type": "display_data"
    }
   ],
   "source": [
    "nodes = list(range(len(spearman_interactome)))\n",
    "\n",
    "for i in range(3):\n",
    "    train_val_nodes, test_nodes = train_test_split(nodes, test_size=0.2)\n",
    "    train_nodes, val_nodes = train_test_split(train_val_nodes, test_size=0.2)\n",
    "    train_interactome = spearman_interactome.subgraph(\n",
    "        np.array(spearman_interactome.nodes())[train_nodes]\n",
    "    )\n",
    "    val_interactome = spearman_interactome.subgraph(\n",
    "        np.array(spearman_interactome.nodes())[val_nodes + train_nodes]\n",
    "    )\n",
    "    train_degrees = []\n",
    "    val_degrees = []\n",
    "    for node in train_interactome.nodes():\n",
    "        train_degrees.append(train_interactome.degree(node))\n",
    "    for node in val_interactome.nodes():\n",
    "        val_degrees.append(val_interactome.degree(node))\n",
    "    fig, ax = plt.subplots(figsize=[10, 2.5], ncols=2)\n",
    "    ax[0].hist(train_degrees, bins=30)\n",
    "    ax[0].set_title(\"Degree distribution in the train graph\")\n",
    "    ax[0].set_ylabel(\"Count\")\n",
    "    ax[0].set_xlabel(\"Degree\")\n",
    "\n",
    "    ax[1].hist(val_degrees, bins=30)\n",
    "    ax[1].set_title(\"Degree distribution in the validation graph\")\n",
    "    ax[1].set_ylabel(\"Count\")\n",
    "    ax[1].set_xlabel(\"Degree\")\n",
    "    plt.show()"
   ]
  },
  {
   "cell_type": "markdown",
   "id": "62ab7499",
   "metadata": {},
   "source": [
    "We see that we have around 10-20 singeltons in each in random training graph and around 5-15 in the validation set. Note that for those the only supervisory signal will be the feature reconstruction loss backpropagated through the network."
   ]
  },
  {
   "cell_type": "markdown",
   "id": "00dbe8bf",
   "metadata": {},
   "source": [
    "---\n",
    "\n",
    "#### Data splitting\n",
    "\n",
    "Nonetheless we will proceed now to split the data. To this end the node set of the network will be split in 0.8 training, 0.1 validation and 0.1 testing."
   ]
  },
  {
   "cell_type": "code",
   "execution_count": 105,
   "id": "a3297b59",
   "metadata": {},
   "outputs": [
    {
     "name": "stdout",
     "output_type": "stream",
     "text": [
      "Name: train_network\n",
      "Type: Graph\n",
      "Number of nodes: 194\n",
      "Number of edges: 338\n",
      "Average degree:   3.4845\n",
      "Name: val_network\n",
      "Type: Graph\n",
      "Number of nodes: 219\n",
      "Number of edges: 429\n",
      "Average degree:   3.9178\n",
      "Name: test_network\n",
      "Type: Graph\n",
      "Number of nodes: 244\n",
      "Number of edges: 521\n",
      "Average degree:   4.2705\n"
     ]
    },
    {
     "data": {
      "application/javascript": [
       "\n",
       "            setTimeout(function() {\n",
       "                var nbb_cell_id = 105;\n",
       "                var nbb_unformatted_code = \"train_network, val_network, test_network = network_train_val_test_split(\\n    spearman_interactome, train_val_test_size=[0.8, 0.1, 0.1]\\n)\\nprint(nx.info(train_network))\\nprint(nx.info(val_network))\\nprint(nx.info(test_network))\";\n",
       "                var nbb_formatted_code = \"train_network, val_network, test_network = network_train_val_test_split(\\n    spearman_interactome, train_val_test_size=[0.8, 0.1, 0.1]\\n)\\nprint(nx.info(train_network))\\nprint(nx.info(val_network))\\nprint(nx.info(test_network))\";\n",
       "                var nbb_cells = Jupyter.notebook.get_cells();\n",
       "                for (var i = 0; i < nbb_cells.length; ++i) {\n",
       "                    if (nbb_cells[i].input_prompt_number == nbb_cell_id) {\n",
       "                        if (nbb_cells[i].get_text() == nbb_unformatted_code) {\n",
       "                             nbb_cells[i].set_text(nbb_formatted_code);\n",
       "                        }\n",
       "                        break;\n",
       "                    }\n",
       "                }\n",
       "            }, 500);\n",
       "            "
      ],
      "text/plain": [
       "<IPython.core.display.Javascript object>"
      ]
     },
     "metadata": {},
     "output_type": "display_data"
    }
   ],
   "source": [
    "train_network, val_network, test_network = network_train_val_test_split(\n",
    "    spearman_interactome, train_val_test_size=[0.8, 0.1, 0.1]\n",
    ")\n",
    "print(nx.info(train_network))\n",
    "print(nx.info(val_network))\n",
    "print(nx.info(test_network))"
   ]
  },
  {
   "cell_type": "markdown",
   "id": "a24cd5a3",
   "metadata": {},
   "source": [
    "---\n",
    "\n",
    "### 2.2 Data preparation"
   ]
  },
  {
   "cell_type": "markdown",
   "id": "7276c333",
   "metadata": {},
   "source": [
    "Next, we will construct corresponding graph data objects compatible with the pytorch_geometric package from the corresponding subnetworks."
   ]
  },
  {
   "cell_type": "code",
   "execution_count": 106,
   "id": "6187df75",
   "metadata": {},
   "outputs": [
    {
     "data": {
      "application/javascript": [
       "\n",
       "            setTimeout(function() {\n",
       "                var nbb_cell_id = 106;\n",
       "                var nbb_unformatted_code = \"# device = torch.device(\\\"cuda:0\\\" if torch.cuda.is_available() else \\\"cpu\\\")\\ndevice = torch.device(\\\"cpu\\\")\\n\\ntrain_data = from_networkx(train_network)\\ntrain_data = add_pos_negative_edge_indices(train_data, add_pos_edges=False)\\ntrain_data.id = torch.FloatTensor(np.identity(train_data.num_nodes))\\ntrain_data = T.ToDevice(\\n    device,\\n    attrs=[\\n        \\\"id\\\",\\n        \\\"sc_gex\\\",\\n        \\\"pbulk_gex\\\",\\n        \\\"hallmark\\\",\\n        \\\"sc_gex_hallmark\\\",\\n        \\\"pbulk_gex_hallmark\\\",\\n    ],\\n)(train_data)\";\n",
       "                var nbb_formatted_code = \"# device = torch.device(\\\"cuda:0\\\" if torch.cuda.is_available() else \\\"cpu\\\")\\ndevice = torch.device(\\\"cpu\\\")\\n\\ntrain_data = from_networkx(train_network)\\ntrain_data = add_pos_negative_edge_indices(train_data, add_pos_edges=False)\\ntrain_data.id = torch.FloatTensor(np.identity(train_data.num_nodes))\\ntrain_data = T.ToDevice(\\n    device,\\n    attrs=[\\n        \\\"id\\\",\\n        \\\"sc_gex\\\",\\n        \\\"pbulk_gex\\\",\\n        \\\"hallmark\\\",\\n        \\\"sc_gex_hallmark\\\",\\n        \\\"pbulk_gex_hallmark\\\",\\n    ],\\n)(train_data)\";\n",
       "                var nbb_cells = Jupyter.notebook.get_cells();\n",
       "                for (var i = 0; i < nbb_cells.length; ++i) {\n",
       "                    if (nbb_cells[i].input_prompt_number == nbb_cell_id) {\n",
       "                        if (nbb_cells[i].get_text() == nbb_unformatted_code) {\n",
       "                             nbb_cells[i].set_text(nbb_formatted_code);\n",
       "                        }\n",
       "                        break;\n",
       "                    }\n",
       "                }\n",
       "            }, 500);\n",
       "            "
      ],
      "text/plain": [
       "<IPython.core.display.Javascript object>"
      ]
     },
     "metadata": {},
     "output_type": "display_data"
    }
   ],
   "source": [
    "# device = torch.device(\"cuda:0\" if torch.cuda.is_available() else \"cpu\")\n",
    "device = torch.device(\"cpu\")\n",
    "\n",
    "train_data = from_networkx(train_network)\n",
    "train_data = add_pos_negative_edge_indices(train_data, add_pos_edges=False)\n",
    "train_data.id = torch.FloatTensor(np.identity(train_data.num_nodes))\n",
    "train_data = T.ToDevice(\n",
    "    device,\n",
    "    attrs=[\n",
    "        \"id\",\n",
    "        \"sc_gex\",\n",
    "        \"pbulk_gex\",\n",
    "        \"hallmark\",\n",
    "        \"sc_gex_hallmark\",\n",
    "        \"pbulk_gex_hallmark\",\n",
    "    ],\n",
    ")(train_data)"
   ]
  },
  {
   "cell_type": "code",
   "execution_count": 107,
   "id": "bdeaf3fb",
   "metadata": {},
   "outputs": [
    {
     "data": {
      "application/javascript": [
       "\n",
       "            setTimeout(function() {\n",
       "                var nbb_cell_id = 107;\n",
       "                var nbb_unformatted_code = \"val_data = from_networkx(val_network)\\nval_data = add_pos_negative_edge_indices(val_data)\\nval_data.id = torch.FloatTensor(np.identity(val_data.num_nodes))\\nval_data = T.ToDevice(\\n    device,\\n    attrs=[\\n        \\\"id\\\",\\n        \\\"sc_gex\\\",\\n        \\\"pbulk_gex\\\",\\n        \\\"hallmark\\\",\\n        \\\"sc_gex_hallmark\\\",\\n        \\\"pbulk_gex_hallmark\\\",\\n    ],\\n)(val_data)\";\n",
       "                var nbb_formatted_code = \"val_data = from_networkx(val_network)\\nval_data = add_pos_negative_edge_indices(val_data)\\nval_data.id = torch.FloatTensor(np.identity(val_data.num_nodes))\\nval_data = T.ToDevice(\\n    device,\\n    attrs=[\\n        \\\"id\\\",\\n        \\\"sc_gex\\\",\\n        \\\"pbulk_gex\\\",\\n        \\\"hallmark\\\",\\n        \\\"sc_gex_hallmark\\\",\\n        \\\"pbulk_gex_hallmark\\\",\\n    ],\\n)(val_data)\";\n",
       "                var nbb_cells = Jupyter.notebook.get_cells();\n",
       "                for (var i = 0; i < nbb_cells.length; ++i) {\n",
       "                    if (nbb_cells[i].input_prompt_number == nbb_cell_id) {\n",
       "                        if (nbb_cells[i].get_text() == nbb_unformatted_code) {\n",
       "                             nbb_cells[i].set_text(nbb_formatted_code);\n",
       "                        }\n",
       "                        break;\n",
       "                    }\n",
       "                }\n",
       "            }, 500);\n",
       "            "
      ],
      "text/plain": [
       "<IPython.core.display.Javascript object>"
      ]
     },
     "metadata": {},
     "output_type": "display_data"
    }
   ],
   "source": [
    "val_data = from_networkx(val_network)\n",
    "val_data = add_pos_negative_edge_indices(val_data)\n",
    "val_data.id = torch.FloatTensor(np.identity(val_data.num_nodes))\n",
    "val_data = T.ToDevice(\n",
    "    device,\n",
    "    attrs=[\n",
    "        \"id\",\n",
    "        \"sc_gex\",\n",
    "        \"pbulk_gex\",\n",
    "        \"hallmark\",\n",
    "        \"sc_gex_hallmark\",\n",
    "        \"pbulk_gex_hallmark\",\n",
    "    ],\n",
    ")(val_data)"
   ]
  },
  {
   "cell_type": "code",
   "execution_count": 108,
   "id": "a865dbfc",
   "metadata": {},
   "outputs": [
    {
     "data": {
      "application/javascript": [
       "\n",
       "            setTimeout(function() {\n",
       "                var nbb_cell_id = 108;\n",
       "                var nbb_unformatted_code = \"test_data = from_networkx(test_network)\\ntest_data = add_pos_negative_edge_indices(test_data)\\ntest_data.id = torch.FloatTensor(np.identity(test_data.num_nodes))\\ntest_data = T.ToDevice(\\n    device,\\n    attrs=[\\n        \\\"id\\\",\\n        \\\"sc_gex\\\",\\n        \\\"pbulk_gex\\\",\\n        \\\"hallmark\\\",\\n        \\\"sc_gex_hallmark\\\",\\n        \\\"pbulk_gex_hallmark\\\",\\n    ],\\n)(test_data)\";\n",
       "                var nbb_formatted_code = \"test_data = from_networkx(test_network)\\ntest_data = add_pos_negative_edge_indices(test_data)\\ntest_data.id = torch.FloatTensor(np.identity(test_data.num_nodes))\\ntest_data = T.ToDevice(\\n    device,\\n    attrs=[\\n        \\\"id\\\",\\n        \\\"sc_gex\\\",\\n        \\\"pbulk_gex\\\",\\n        \\\"hallmark\\\",\\n        \\\"sc_gex_hallmark\\\",\\n        \\\"pbulk_gex_hallmark\\\",\\n    ],\\n)(test_data)\";\n",
       "                var nbb_cells = Jupyter.notebook.get_cells();\n",
       "                for (var i = 0; i < nbb_cells.length; ++i) {\n",
       "                    if (nbb_cells[i].input_prompt_number == nbb_cell_id) {\n",
       "                        if (nbb_cells[i].get_text() == nbb_unformatted_code) {\n",
       "                             nbb_cells[i].set_text(nbb_formatted_code);\n",
       "                        }\n",
       "                        break;\n",
       "                    }\n",
       "                }\n",
       "            }, 500);\n",
       "            "
      ],
      "text/plain": [
       "<IPython.core.display.Javascript object>"
      ]
     },
     "metadata": {},
     "output_type": "display_data"
    }
   ],
   "source": [
    "test_data = from_networkx(test_network)\n",
    "test_data = add_pos_negative_edge_indices(test_data)\n",
    "test_data.id = torch.FloatTensor(np.identity(test_data.num_nodes))\n",
    "test_data = T.ToDevice(\n",
    "    device,\n",
    "    attrs=[\n",
    "        \"id\",\n",
    "        \"sc_gex\",\n",
    "        \"pbulk_gex\",\n",
    "        \"hallmark\",\n",
    "        \"sc_gex_hallmark\",\n",
    "        \"pbulk_gex_hallmark\",\n",
    "    ],\n",
    ")(test_data)"
   ]
  },
  {
   "cell_type": "code",
   "execution_count": 109,
   "id": "b659d019",
   "metadata": {},
   "outputs": [
    {
     "data": {
      "text/plain": [
       "{'train': Data(edge_index=[2, 676], prize=[194], sc_gex=[194, 1126], name=[194], cell_cycle=[194], chromatin_org=[194], dna_repair=[194], cytoskeleton_org=[194], cell_death=[194], tf=[194], spec_target=[194], hallmark=[194, 50], sc_gex_hallmark=[194, 1176], node_mask=[194], mi_score=[676], pearsonr=[676], spearmanr=[676], mi=[676], cost=[676], edge_mask=[676], num_nodes=194, neg_edge_index=[2, 36960], id=[194, 194]),\n",
       " 'val': Data(edge_index=[2, 858], prize=[219], sc_gex=[219, 1126], name=[219], cell_cycle=[219], chromatin_org=[219], dna_repair=[219], cytoskeleton_org=[219], cell_death=[219], tf=[219], spec_target=[219], hallmark=[219, 50], sc_gex_hallmark=[219, 1176], node_mask=[219], mi_score=[858], pearsonr=[858], spearmanr=[858], mi=[858], cost=[858], edge_mask=[858], num_nodes=219, pos_edge_index=[2, 10], neg_edge_index=[2, 615], id=[219, 219]),\n",
       " 'test': Data(edge_index=[2, 1042], prize=[244], sc_gex=[244, 1126], name=[244], cell_cycle=[244], chromatin_org=[244], dna_repair=[244], cytoskeleton_org=[244], cell_death=[244], tf=[244], spec_target=[244], hallmark=[244, 50], sc_gex_hallmark=[244, 1176], node_mask=[244], mi_score=[1042], pearsonr=[1042], spearmanr=[1042], mi=[1042], cost=[1042], edge_mask=[1042], num_nodes=244, pos_edge_index=[2, 18], neg_edge_index=[2, 607], id=[244, 244])}"
      ]
     },
     "execution_count": 109,
     "metadata": {},
     "output_type": "execute_result"
    },
    {
     "data": {
      "application/javascript": [
       "\n",
       "            setTimeout(function() {\n",
       "                var nbb_cell_id = 109;\n",
       "                var nbb_unformatted_code = \"data_dict = {\\n    \\\"train\\\": train_data,\\n    \\\"val\\\": val_data,\\n    \\\"test\\\": test_data,\\n}\\ndata_dict\";\n",
       "                var nbb_formatted_code = \"data_dict = {\\n    \\\"train\\\": train_data,\\n    \\\"val\\\": val_data,\\n    \\\"test\\\": test_data,\\n}\\ndata_dict\";\n",
       "                var nbb_cells = Jupyter.notebook.get_cells();\n",
       "                for (var i = 0; i < nbb_cells.length; ++i) {\n",
       "                    if (nbb_cells[i].input_prompt_number == nbb_cell_id) {\n",
       "                        if (nbb_cells[i].get_text() == nbb_unformatted_code) {\n",
       "                             nbb_cells[i].set_text(nbb_formatted_code);\n",
       "                        }\n",
       "                        break;\n",
       "                    }\n",
       "                }\n",
       "            }, 500);\n",
       "            "
      ],
      "text/plain": [
       "<IPython.core.display.Javascript object>"
      ]
     },
     "metadata": {},
     "output_type": "display_data"
    }
   ],
   "source": [
    "data_dict = {\n",
    "    \"train\": train_data,\n",
    "    \"val\": val_data,\n",
    "    \"test\": test_data,\n",
    "}\n",
    "data_dict"
   ]
  },
  {
   "cell_type": "markdown",
   "id": "aa77867a",
   "metadata": {},
   "source": [
    "---\n",
    "\n",
    "## 3. Model setup\n",
    "\n",
    "\n",
    "After preparing the data we will define the graph and feature autoencoder model. We decide to use the hallmark gene set membership and the single-cell gene expression data as input features."
   ]
  },
  {
   "cell_type": "code",
   "execution_count": 154,
   "id": "42e3eea8",
   "metadata": {},
   "outputs": [
    {
     "name": "stdout",
     "output_type": "stream",
     "text": [
      "CustomGAE(\n",
      "  (gae): GAE(\n",
      "    (encoder): GCNEncoder(\n",
      "      (model): Sequential(\n",
      "        (0): GCNConv(50, 32)\n",
      "        (1): ReLU()\n",
      "        (2): GCNConv(32, 16)\n",
      "      )\n",
      "    )\n",
      "    (decoder): InnerProductDecoder()\n",
      "  )\n",
      "  (feat_decoder): FeatureDecoder(\n",
      "    (model): Sequential(\n",
      "      (0): Sequential(\n",
      "        (0): Linear(in_features=16, out_features=256, bias=True)\n",
      "        (1): BatchNorm1d(256, eps=1e-05, momentum=0.1, affine=True, track_running_stats=True)\n",
      "        (2): PReLU(num_parameters=1)\n",
      "      )\n",
      "      (1): Sequential(\n",
      "        (0): Linear(in_features=256, out_features=512, bias=True)\n",
      "        (1): BatchNorm1d(512, eps=1e-05, momentum=0.1, affine=True, track_running_stats=True)\n",
      "        (2): PReLU(num_parameters=1)\n",
      "      )\n",
      "      (2): Sequential(\n",
      "        (0): Linear(in_features=512, out_features=1024, bias=True)\n",
      "        (1): BatchNorm1d(1024, eps=1e-05, momentum=0.1, affine=True, track_running_stats=True)\n",
      "        (2): PReLU(num_parameters=1)\n",
      "      )\n",
      "      (3): Linear(in_features=1024, out_features=50, bias=True)\n",
      "    )\n",
      "  )\n",
      "  (feat_loss): MSELoss()\n",
      ")\n"
     ]
    },
    {
     "data": {
      "application/javascript": [
       "\n",
       "            setTimeout(function() {\n",
       "                var nbb_cell_id = 154;\n",
       "                var nbb_unformatted_code = \"feat_decoder = FeatureDecoder(\\n    latent_dim=16, hidden_dims=[256, 512, 1024], output_dim=50\\n)\\ngae = CustomGAE(\\n    encoder=GCNEncoder(\\n        in_channels=50,\\n        hidden_dim=32,\\n        out_channels=16,\\n    ),\\n    adj_decoder=InnerProductDecoder(),\\n    feat_decoder=feat_decoder,\\n    alpha=1,\\n    beta=0,\\n    feat_loss=torch.nn.MSELoss(),\\n)\\nprint(gae)\";\n",
       "                var nbb_formatted_code = \"feat_decoder = FeatureDecoder(\\n    latent_dim=16, hidden_dims=[256, 512, 1024], output_dim=50\\n)\\ngae = CustomGAE(\\n    encoder=GCNEncoder(\\n        in_channels=50,\\n        hidden_dim=32,\\n        out_channels=16,\\n    ),\\n    adj_decoder=InnerProductDecoder(),\\n    feat_decoder=feat_decoder,\\n    alpha=1,\\n    beta=0,\\n    feat_loss=torch.nn.MSELoss(),\\n)\\nprint(gae)\";\n",
       "                var nbb_cells = Jupyter.notebook.get_cells();\n",
       "                for (var i = 0; i < nbb_cells.length; ++i) {\n",
       "                    if (nbb_cells[i].input_prompt_number == nbb_cell_id) {\n",
       "                        if (nbb_cells[i].get_text() == nbb_unformatted_code) {\n",
       "                             nbb_cells[i].set_text(nbb_formatted_code);\n",
       "                        }\n",
       "                        break;\n",
       "                    }\n",
       "                }\n",
       "            }, 500);\n",
       "            "
      ],
      "text/plain": [
       "<IPython.core.display.Javascript object>"
      ]
     },
     "metadata": {},
     "output_type": "display_data"
    }
   ],
   "source": [
    "feat_decoder = FeatureDecoder(\n",
    "    latent_dim=16, hidden_dims=[256, 512, 1024], output_dim=50\n",
    ")\n",
    "gae = CustomGAE(\n",
    "    encoder=GCNEncoder(\n",
    "        in_channels=50,\n",
    "        hidden_dim=32,\n",
    "        out_channels=16,\n",
    "    ),\n",
    "    adj_decoder=InnerProductDecoder(),\n",
    "    feat_decoder=feat_decoder,\n",
    "    alpha=1,\n",
    "    beta=0,\n",
    "    feat_loss=torch.nn.MSELoss(),\n",
    ")\n",
    "print(gae)"
   ]
  },
  {
   "cell_type": "code",
   "execution_count": 159,
   "id": "ed0ba6be",
   "metadata": {},
   "outputs": [
    {
     "data": {
      "application/javascript": [
       "\n",
       "            setTimeout(function() {\n",
       "                var nbb_cell_id = 159;\n",
       "                var nbb_unformatted_code = \"optimizer = torch.optim.Adam(gae.parameters(), lr=0.0001)\";\n",
       "                var nbb_formatted_code = \"optimizer = torch.optim.Adam(gae.parameters(), lr=0.0001)\";\n",
       "                var nbb_cells = Jupyter.notebook.get_cells();\n",
       "                for (var i = 0; i < nbb_cells.length; ++i) {\n",
       "                    if (nbb_cells[i].input_prompt_number == nbb_cell_id) {\n",
       "                        if (nbb_cells[i].get_text() == nbb_unformatted_code) {\n",
       "                             nbb_cells[i].set_text(nbb_formatted_code);\n",
       "                        }\n",
       "                        break;\n",
       "                    }\n",
       "                }\n",
       "            }, 500);\n",
       "            "
      ],
      "text/plain": [
       "<IPython.core.display.Javascript object>"
      ]
     },
     "metadata": {},
     "output_type": "display_data"
    }
   ],
   "source": [
    "optimizer = torch.optim.Adam(gae.parameters(), lr=0.0001)"
   ]
  },
  {
   "cell_type": "code",
   "execution_count": 157,
   "id": "cba0541b",
   "metadata": {},
   "outputs": [
    {
     "data": {
      "application/javascript": [
       "\n",
       "            setTimeout(function() {\n",
       "                var nbb_cell_id = 157;\n",
       "                var nbb_unformatted_code = \"def process_single_epoch_gae(\\n    model,\\n    data,\\n    node_feature_key,\\n    mode,\\n    optimizer,\\n    edge_weight_key=None,\\n    reconstruct_features: bool = False,\\n):\\n    inputs = getattr(data, node_feature_key).float()\\n    if edge_weight_key is not None:\\n        edge_weight = getattr(data, edge_weight_key).float()\\n    else:\\n        edge_weight = None\\n\\n    if mode == \\\"train\\\":\\n        model.train()\\n        optimizer.zero_grad()\\n        latents = model.encode(\\n            inputs,\\n            data.edge_index,\\n            edge_weight=edge_weight,\\n        )\\n        # Negative edges created via negative sampling\\n        if reconstruct_features:\\n            loss = model.recon_loss(inputs, latents, data.edge_index)\\n        else:\\n            loss = model.recon_loss(latents, data.edge_index)\\n        loss.backward()\\n        optimizer.step()\\n    else:\\n        model.eval()\\n        with torch.no_grad():\\n            latents = model.encode(inputs, data.edge_index, edge_weight=edge_weight)\\n            if reconstruct_features:\\n                loss = model.recon_loss(\\n                    inputs[data.node_mask],\\n                    latents[data.node_mask],\\n                    data.pos_edge_index,\\n                    data.neg_edge_index,\\n                )\\n            else:\\n                loss = model.recon_loss(\\n                    latents[data.node_mask], data.pos_edge_index, data.neg_edge_index\\n                )\\n\\n    return loss.item()\";\n",
       "                var nbb_formatted_code = \"def process_single_epoch_gae(\\n    model,\\n    data,\\n    node_feature_key,\\n    mode,\\n    optimizer,\\n    edge_weight_key=None,\\n    reconstruct_features: bool = False,\\n):\\n    inputs = getattr(data, node_feature_key).float()\\n    if edge_weight_key is not None:\\n        edge_weight = getattr(data, edge_weight_key).float()\\n    else:\\n        edge_weight = None\\n\\n    if mode == \\\"train\\\":\\n        model.train()\\n        optimizer.zero_grad()\\n        latents = model.encode(\\n            inputs,\\n            data.edge_index,\\n            edge_weight=edge_weight,\\n        )\\n        # Negative edges created via negative sampling\\n        if reconstruct_features:\\n            loss = model.recon_loss(inputs, latents, data.edge_index)\\n        else:\\n            loss = model.recon_loss(latents, data.edge_index)\\n        loss.backward()\\n        optimizer.step()\\n    else:\\n        model.eval()\\n        with torch.no_grad():\\n            latents = model.encode(inputs, data.edge_index, edge_weight=edge_weight)\\n            if reconstruct_features:\\n                loss = model.recon_loss(\\n                    inputs[data.node_mask],\\n                    latents[data.node_mask],\\n                    data.pos_edge_index,\\n                    data.neg_edge_index,\\n                )\\n            else:\\n                loss = model.recon_loss(\\n                    latents[data.node_mask], data.pos_edge_index, data.neg_edge_index\\n                )\\n\\n    return loss.item()\";\n",
       "                var nbb_cells = Jupyter.notebook.get_cells();\n",
       "                for (var i = 0; i < nbb_cells.length; ++i) {\n",
       "                    if (nbb_cells[i].input_prompt_number == nbb_cell_id) {\n",
       "                        if (nbb_cells[i].get_text() == nbb_unformatted_code) {\n",
       "                             nbb_cells[i].set_text(nbb_formatted_code);\n",
       "                        }\n",
       "                        break;\n",
       "                    }\n",
       "                }\n",
       "            }, 500);\n",
       "            "
      ],
      "text/plain": [
       "<IPython.core.display.Javascript object>"
      ]
     },
     "metadata": {},
     "output_type": "display_data"
    }
   ],
   "source": [
    "def process_single_epoch_gae(\n",
    "    model,\n",
    "    data,\n",
    "    node_feature_key,\n",
    "    mode,\n",
    "    optimizer,\n",
    "    edge_weight_key=None,\n",
    "    reconstruct_features: bool = False,\n",
    "):\n",
    "    inputs = getattr(data, node_feature_key).float()\n",
    "    if edge_weight_key is not None:\n",
    "        edge_weight = getattr(data, edge_weight_key).float()\n",
    "    else:\n",
    "        edge_weight = None\n",
    "\n",
    "    if mode == \"train\":\n",
    "        model.train()\n",
    "        optimizer.zero_grad()\n",
    "        latents = model.encode(\n",
    "            inputs,\n",
    "            data.edge_index,\n",
    "            edge_weight=edge_weight,\n",
    "        )\n",
    "        # Negative edges created via negative sampling\n",
    "        if reconstruct_features:\n",
    "            loss = model.recon_loss(inputs, latents, data.edge_index)\n",
    "        else:\n",
    "            loss = model.recon_loss(latents, data.edge_index)\n",
    "        loss.backward()\n",
    "        optimizer.step()\n",
    "    else:\n",
    "        model.eval()\n",
    "        with torch.no_grad():\n",
    "            latents = model.encode(inputs, data.edge_index, edge_weight=edge_weight)\n",
    "            if reconstruct_features:\n",
    "                loss = model.recon_loss(\n",
    "                    inputs[data.node_mask],\n",
    "                    latents[data.node_mask],\n",
    "                    data.pos_edge_index,\n",
    "                    data.neg_edge_index,\n",
    "                )\n",
    "            else:\n",
    "                loss = model.recon_loss(\n",
    "                    latents[data.node_mask], data.pos_edge_index, data.neg_edge_index\n",
    "                )\n",
    "\n",
    "    return loss.item()"
   ]
  },
  {
   "cell_type": "code",
   "execution_count": 160,
   "id": "1157bf0e",
   "metadata": {},
   "outputs": [
    {
     "name": "stderr",
     "output_type": "stream",
     "text": [
      "100%|██████████| 1000/1000 [00:16<00:00, 59.83it/s]\n"
     ]
    },
    {
     "data": {
      "text/plain": [
       "<AxesSubplot:xlabel='epoch', ylabel='loss'>"
      ]
     },
     "execution_count": 160,
     "metadata": {},
     "output_type": "execute_result"
    },
    {
     "data": {
      "image/png": "[encoded data removed]",
      "text/plain": [
       "<Figure size 640x480 with 1 Axes>"
      ]
     },
     "metadata": {},
     "output_type": "display_data"
    },
    {
     "data": {
      "application/javascript": [
       "\n",
       "            setTimeout(function() {\n",
       "                var nbb_cell_id = 160;\n",
       "                var nbb_unformatted_code = \"loss_hist = {\\\"epoch\\\": [], \\\"loss\\\": [], \\\"mode\\\": []}\\nfor i in tqdm(range(1000)):\\n    for mode in [\\\"train\\\", \\\"val\\\", \\\"test\\\"]:\\n        loss = process_single_epoch_gae(\\n            gae,\\n            data_dict[mode],\\n            node_feature_key=\\\"hallmark\\\",\\n            mode=mode,\\n            optimizer=optimizer,\\n            reconstruct_features=True,\\n        )\\n        loss_hist[\\\"epoch\\\"].append(i + 1)\\n        loss_hist[\\\"loss\\\"].append(loss)\\n        loss_hist[\\\"mode\\\"].append(mode)\\n\\nloss_hist = pd.DataFrame(loss_hist)\\nsns.lineplot(data=loss_hist, x=\\\"epoch\\\", y=\\\"loss\\\", hue=\\\"mode\\\")\";\n",
       "                var nbb_formatted_code = \"loss_hist = {\\\"epoch\\\": [], \\\"loss\\\": [], \\\"mode\\\": []}\\nfor i in tqdm(range(1000)):\\n    for mode in [\\\"train\\\", \\\"val\\\", \\\"test\\\"]:\\n        loss = process_single_epoch_gae(\\n            gae,\\n            data_dict[mode],\\n            node_feature_key=\\\"hallmark\\\",\\n            mode=mode,\\n            optimizer=optimizer,\\n            reconstruct_features=True,\\n        )\\n        loss_hist[\\\"epoch\\\"].append(i + 1)\\n        loss_hist[\\\"loss\\\"].append(loss)\\n        loss_hist[\\\"mode\\\"].append(mode)\\n\\nloss_hist = pd.DataFrame(loss_hist)\\nsns.lineplot(data=loss_hist, x=\\\"epoch\\\", y=\\\"loss\\\", hue=\\\"mode\\\")\";\n",
       "                var nbb_cells = Jupyter.notebook.get_cells();\n",
       "                for (var i = 0; i < nbb_cells.length; ++i) {\n",
       "                    if (nbb_cells[i].input_prompt_number == nbb_cell_id) {\n",
       "                        if (nbb_cells[i].get_text() == nbb_unformatted_code) {\n",
       "                             nbb_cells[i].set_text(nbb_formatted_code);\n",
       "                        }\n",
       "                        break;\n",
       "                    }\n",
       "                }\n",
       "            }, 500);\n",
       "            "
      ],
      "text/plain": [
       "<IPython.core.display.Javascript object>"
      ]
     },
     "metadata": {},
     "output_type": "display_data"
    }
   ],
   "source": [
    "loss_hist = {\"epoch\": [], \"loss\": [], \"mode\": []}\n",
    "for i in tqdm(range(1000)):\n",
    "    for mode in [\"train\", \"val\", \"test\"]:\n",
    "        loss = process_single_epoch_gae(\n",
    "            gae,\n",
    "            data_dict[mode],\n",
    "            node_feature_key=\"hallmark\",\n",
    "            mode=mode,\n",
    "            optimizer=optimizer,\n",
    "            reconstruct_features=True,\n",
    "        )\n",
    "        loss_hist[\"epoch\"].append(i + 1)\n",
    "        loss_hist[\"loss\"].append(loss)\n",
    "        loss_hist[\"mode\"].append(mode)\n",
    "\n",
    "loss_hist = pd.DataFrame(loss_hist)\n",
    "sns.lineplot(data=loss_hist, x=\"epoch\", y=\"loss\", hue=\"mode\")"
   ]
  },
  {
   "cell_type": "code",
   "execution_count": null,
   "id": "a2fcc564",
   "metadata": {},
   "outputs": [],
   "source": []
  }
 ],
 "metadata": {
  "kernelspec": {
   "display_name": "Python 3",
   "language": "python",
   "name": "python3"
  },
  "language_info": {
   "codemirror_mode": {
    "name": "ipython",
    "version": 3
   },
   "file_extension": ".py",
   "mimetype": "text/x-python",
   "name": "python",
   "nbconvert_exporter": "python",
   "pygments_lexer": "ipython3",
   "version": "3.8.10"
  }
 },
 "nbformat": 4,
 "nbformat_minor": 5
}
