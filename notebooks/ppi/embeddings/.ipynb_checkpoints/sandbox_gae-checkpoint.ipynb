{
 "cells": [
  {
   "cell_type": "markdown",
   "id": "6c30e378",
   "metadata": {},
   "source": [
    "# Sandbox: GraphConvAE\n",
    "\n",
    "This notebook can be used for familiarization with the pytorch geometric package to train a GraphConvAE using a PPI as input."
   ]
  },
  {
   "cell_type": "markdown",
   "id": "7ea02e21",
   "metadata": {},
   "source": [
    "---\n",
    "\n",
    "## 0. Environmental setup"
   ]
  },
  {
   "cell_type": "code",
   "execution_count": 1,
   "id": "d6fd3697",
   "metadata": {},
   "outputs": [
    {
     "data": {
      "application/javascript": [
       "\n",
       "            setTimeout(function() {\n",
       "                var nbb_cell_id = 1;\n",
       "                var nbb_unformatted_code = \"import pandas as pd\\nimport networkx as nx\\nimport numpy as np\\nimport seaborn as sns\\nimport sys\\nimport os\\nimport random\\nimport matplotlib.pyplot as plt\\nimport community as community_louvain\\nfrom torch_geometric.data import Data\\nfrom torch import LongTensor, FloatTensor\\nfrom torch_geometric.utils import train_test_split_edges\\nimport torch_geometric.transforms as T\\nimport torch\\nfrom tqdm import tqdm\\nfrom torch_geometric.datasets import PPI, LastFMAsia, Planetoid, KarateClub\\nfrom torch_geometric.nn import GAE, GCNConv\\nfrom sklearn.manifold import TSNE\\nfrom sklearn.preprocessing import StandardScaler\\nimport umap\\nimport umap.plot\\n\\nsys.path.append(\\\"../../../\\\")\\n\\nfrom src.models.ae import GraphConvAE\\nfrom src.utils.basic.visualization import plot_train_val_hist\\n\\nseed = 1234\\nnp.random.seed(seed)\\nrandom.seed(seed)\\n%load_ext nb_black\";\n",
       "                var nbb_formatted_code = \"import pandas as pd\\nimport networkx as nx\\nimport numpy as np\\nimport seaborn as sns\\nimport sys\\nimport os\\nimport random\\nimport matplotlib.pyplot as plt\\nimport community as community_louvain\\nfrom torch_geometric.data import Data\\nfrom torch import LongTensor, FloatTensor\\nfrom torch_geometric.utils import train_test_split_edges\\nimport torch_geometric.transforms as T\\nimport torch\\nfrom tqdm import tqdm\\nfrom torch_geometric.datasets import PPI, LastFMAsia, Planetoid, KarateClub\\nfrom torch_geometric.nn import GAE, GCNConv\\nfrom sklearn.manifold import TSNE\\nfrom sklearn.preprocessing import StandardScaler\\nimport umap\\nimport umap.plot\\n\\nsys.path.append(\\\"../../../\\\")\\n\\nfrom src.models.ae import GraphConvAE\\nfrom src.utils.basic.visualization import plot_train_val_hist\\n\\nseed = 1234\\nnp.random.seed(seed)\\nrandom.seed(seed)\\n%load_ext nb_black\";\n",
       "                var nbb_cells = Jupyter.notebook.get_cells();\n",
       "                for (var i = 0; i < nbb_cells.length; ++i) {\n",
       "                    if (nbb_cells[i].input_prompt_number == nbb_cell_id) {\n",
       "                        if (nbb_cells[i].get_text() == nbb_unformatted_code) {\n",
       "                             nbb_cells[i].set_text(nbb_formatted_code);\n",
       "                        }\n",
       "                        break;\n",
       "                    }\n",
       "                }\n",
       "            }, 500);\n",
       "            "
      ],
      "text/plain": [
       "<IPython.core.display.Javascript object>"
      ]
     },
     "metadata": {},
     "output_type": "display_data"
    }
   ],
   "source": [
    "import pandas as pd\n",
    "import networkx as nx\n",
    "import numpy as np\n",
    "import seaborn as sns\n",
    "import sys\n",
    "import os\n",
    "import random\n",
    "import matplotlib.pyplot as plt\n",
    "import community as community_louvain\n",
    "from torch_geometric.data import Data\n",
    "from torch import LongTensor, FloatTensor\n",
    "from torch_geometric.utils import train_test_split_edges\n",
    "import torch_geometric.transforms as T\n",
    "import torch\n",
    "from tqdm import tqdm\n",
    "from torch_geometric.datasets import PPI, LastFMAsia, Planetoid, KarateClub\n",
    "from torch_geometric.nn import GAE, GCNConv\n",
    "from sklearn.manifold import TSNE\n",
    "from sklearn.preprocessing import StandardScaler\n",
    "import umap\n",
    "import umap.plot\n",
    "\n",
    "sys.path.append(\"../../../\")\n",
    "\n",
    "from src.models.ae import GraphConvAE\n",
    "from src.utils.basic.visualization import plot_train_val_hist\n",
    "\n",
    "seed = 1234\n",
    "np.random.seed(seed)\n",
    "random.seed(seed)\n",
    "%load_ext nb_black"
   ]
  },
  {
   "cell_type": "code",
   "execution_count": 2,
   "id": "be948890",
   "metadata": {},
   "outputs": [
    {
     "data": {
      "application/javascript": [
       "\n",
       "            setTimeout(function() {\n",
       "                var nbb_cell_id = 2;\n",
       "                var nbb_unformatted_code = \"def process_single_epoch(model, data, mode, optimizer):\\n    if mode == \\\"train\\\":\\n        model.train()\\n        optimizer.zero_grad()\\n        latents = model(data.x, data.edge_index)[\\\"latents\\\"]\\n        # Negative edges created via negative sampling\\n        loss = model.loss_function(latents, data.edge_index)\\n        loss.backward()\\n        optimizer.step()\\n    else:\\n        model.eval()\\n        latents = model(data.x, data.edge_index)[\\\"latents\\\"]\\n        loss = model.loss_function(latents, data.edge_index)\\n\\n    return loss.item()\\n\\n\\ndef test_gae(model, data):\\n    model.eval()\\n    latents = model.encode(data.x, data.edge_index)\\n    auc, ap = model.test(latents, data.edge_index, data.neg_edge_index)\\n    return auc, ap\\n\\n\\ndef train_gae(model, data_dict, n_epochs=500, early_stopping=50):\\n    best_val_loss = np.infty\\n    loss_hist = {\\\"train\\\": [], \\\"val\\\": []}\\n    es_counter = 0\\n\\n    best_model_weights = None\\n    best_epoch = -1\\n\\n    for i in range(n_epochs):\\n        print(\\\"---\\\" * 20)\\n        if es_counter < early_stopping:\\n            for mode in [\\\"train\\\", \\\"val\\\"]:\\n                loss = process_single_epoch(model, data_dict[mode], mode, optimizer)\\n                print(\\\"{} loss:\\\".format(mode.upper()), loss)\\n                loss_hist[mode].append(loss)\\n\\n                if mode == \\\"val\\\":\\n                    if loss < best_val_loss:\\n                        es_counter = 0\\n                        best_val_loss = loss\\n                        best_model_weights = model.state_dict()\\n                        best_epoch = i\\n                    else:\\n                        es_counter += 1\\n                    auc, ap = test_gae(model, data_dict[\\\"test\\\"])\\n                    print(\\\"VAL AUC: {} \\\\t AP: {}\\\".format(auc, ap))\\n        else:\\n            print(\\\"Training stopped after {} epochs\\\".format(i + 1))\\n            print(\\\"Best model found at epoch {}\\\".format(best_epoch))\\n            break\\n\\n    print(\\\"---\\\" * 20)\\n    model.load_state_dict(best_model_weights)\\n    auc, ap = test_gae(model, data_dict[\\\"test\\\"])\\n    print(\\\"TEST AUC: {} \\\\t AP: {}\\\".format(auc, ap))\\n    return model, loss_hist\";\n",
       "                var nbb_formatted_code = \"def process_single_epoch(model, data, mode, optimizer):\\n    if mode == \\\"train\\\":\\n        model.train()\\n        optimizer.zero_grad()\\n        latents = model(data.x, data.edge_index)[\\\"latents\\\"]\\n        # Negative edges created via negative sampling\\n        loss = model.loss_function(latents, data.edge_index)\\n        loss.backward()\\n        optimizer.step()\\n    else:\\n        model.eval()\\n        latents = model(data.x, data.edge_index)[\\\"latents\\\"]\\n        loss = model.loss_function(latents, data.edge_index)\\n\\n    return loss.item()\\n\\n\\ndef test_gae(model, data):\\n    model.eval()\\n    latents = model.encode(data.x, data.edge_index)\\n    auc, ap = model.test(latents, data.edge_index, data.neg_edge_index)\\n    return auc, ap\\n\\n\\ndef train_gae(model, data_dict, n_epochs=500, early_stopping=50):\\n    best_val_loss = np.infty\\n    loss_hist = {\\\"train\\\": [], \\\"val\\\": []}\\n    es_counter = 0\\n\\n    best_model_weights = None\\n    best_epoch = -1\\n\\n    for i in range(n_epochs):\\n        print(\\\"---\\\" * 20)\\n        if es_counter < early_stopping:\\n            for mode in [\\\"train\\\", \\\"val\\\"]:\\n                loss = process_single_epoch(model, data_dict[mode], mode, optimizer)\\n                print(\\\"{} loss:\\\".format(mode.upper()), loss)\\n                loss_hist[mode].append(loss)\\n\\n                if mode == \\\"val\\\":\\n                    if loss < best_val_loss:\\n                        es_counter = 0\\n                        best_val_loss = loss\\n                        best_model_weights = model.state_dict()\\n                        best_epoch = i\\n                    else:\\n                        es_counter += 1\\n                    auc, ap = test_gae(model, data_dict[\\\"test\\\"])\\n                    print(\\\"VAL AUC: {} \\\\t AP: {}\\\".format(auc, ap))\\n        else:\\n            print(\\\"Training stopped after {} epochs\\\".format(i + 1))\\n            print(\\\"Best model found at epoch {}\\\".format(best_epoch))\\n            break\\n\\n    print(\\\"---\\\" * 20)\\n    model.load_state_dict(best_model_weights)\\n    auc, ap = test_gae(model, data_dict[\\\"test\\\"])\\n    print(\\\"TEST AUC: {} \\\\t AP: {}\\\".format(auc, ap))\\n    return model, loss_hist\";\n",
       "                var nbb_cells = Jupyter.notebook.get_cells();\n",
       "                for (var i = 0; i < nbb_cells.length; ++i) {\n",
       "                    if (nbb_cells[i].input_prompt_number == nbb_cell_id) {\n",
       "                        if (nbb_cells[i].get_text() == nbb_unformatted_code) {\n",
       "                             nbb_cells[i].set_text(nbb_formatted_code);\n",
       "                        }\n",
       "                        break;\n",
       "                    }\n",
       "                }\n",
       "            }, 500);\n",
       "            "
      ],
      "text/plain": [
       "<IPython.core.display.Javascript object>"
      ]
     },
     "metadata": {},
     "output_type": "display_data"
    }
   ],
   "source": [
    "def process_single_epoch(model, data, mode, optimizer):\n",
    "    if mode == \"train\":\n",
    "        model.train()\n",
    "        optimizer.zero_grad()\n",
    "        latents = model(data.x, data.edge_index)[\"latents\"]\n",
    "        # Negative edges created via negative sampling\n",
    "        loss = model.loss_function(latents, data.edge_index)\n",
    "        loss.backward()\n",
    "        optimizer.step()\n",
    "    else:\n",
    "        model.eval()\n",
    "        latents = model(data.x, data.edge_index)[\"latents\"]\n",
    "        loss = model.loss_function(latents, data.edge_index)\n",
    "\n",
    "    return loss.item()\n",
    "\n",
    "\n",
    "def test_gae(model, data):\n",
    "    model.eval()\n",
    "    latents = model.encode(data.x, data.edge_index)\n",
    "    auc, ap = model.test(latents, data.edge_index, data.neg_edge_index)\n",
    "    return auc, ap\n",
    "\n",
    "\n",
    "def train_gae(model, data_dict, n_epochs=500, early_stopping=50):\n",
    "    best_val_loss = np.infty\n",
    "    loss_hist = {\"train\": [], \"val\": []}\n",
    "    es_counter = 0\n",
    "\n",
    "    best_model_weights = None\n",
    "    best_epoch = -1\n",
    "\n",
    "    for i in range(n_epochs):\n",
    "        print(\"---\" * 20)\n",
    "        if es_counter < early_stopping:\n",
    "            for mode in [\"train\", \"val\"]:\n",
    "                loss = process_single_epoch(model, data_dict[mode], mode, optimizer)\n",
    "                print(\"{} loss:\".format(mode.upper()), loss)\n",
    "                loss_hist[mode].append(loss)\n",
    "\n",
    "                if mode == \"val\":\n",
    "                    if loss < best_val_loss:\n",
    "                        es_counter = 0\n",
    "                        best_val_loss = loss\n",
    "                        best_model_weights = model.state_dict()\n",
    "                        best_epoch = i\n",
    "                    else:\n",
    "                        es_counter += 1\n",
    "                    auc, ap = test_gae(model, data_dict[\"test\"])\n",
    "                    print(\"VAL AUC: {} \\t AP: {}\".format(auc, ap))\n",
    "        else:\n",
    "            print(\"Training stopped after {} epochs\".format(i + 1))\n",
    "            print(\"Best model found at epoch {}\".format(best_epoch))\n",
    "            break\n",
    "\n",
    "    print(\"---\" * 20)\n",
    "    model.load_state_dict(best_model_weights)\n",
    "    auc, ap = test_gae(model, data_dict[\"test\"])\n",
    "    print(\"TEST AUC: {} \\t AP: {}\".format(auc, ap))\n",
    "    return model, loss_hist"
   ]
  },
  {
   "cell_type": "markdown",
   "id": "6d9745b8",
   "metadata": {},
   "source": [
    "---\n",
    "\n",
    "## 1. Simple example"
   ]
  },
  {
   "cell_type": "markdown",
   "id": "6082efee",
   "metadata": {},
   "source": [
    "In the first simple example we will use the famous Zachary's Karate club graph to learn a first embedding."
   ]
  },
  {
   "cell_type": "code",
   "execution_count": 72,
   "id": "8db3f1fe",
   "metadata": {},
   "outputs": [
    {
     "data": {
      "application/javascript": [
       "\n",
       "            setTimeout(function() {\n",
       "                var nbb_cell_id = 72;\n",
       "                var nbb_unformatted_code = \"data = KarateClub(transform=T.NormalizeFeatures())[0]\\ndata.train_mask = data.val_mask = data.test_mask = None\";\n",
       "                var nbb_formatted_code = \"data = KarateClub(transform=T.NormalizeFeatures())[0]\\ndata.train_mask = data.val_mask = data.test_mask = None\";\n",
       "                var nbb_cells = Jupyter.notebook.get_cells();\n",
       "                for (var i = 0; i < nbb_cells.length; ++i) {\n",
       "                    if (nbb_cells[i].input_prompt_number == nbb_cell_id) {\n",
       "                        if (nbb_cells[i].get_text() == nbb_unformatted_code) {\n",
       "                             nbb_cells[i].set_text(nbb_formatted_code);\n",
       "                        }\n",
       "                        break;\n",
       "                    }\n",
       "                }\n",
       "            }, 500);\n",
       "            "
      ],
      "text/plain": [
       "<IPython.core.display.Javascript object>"
      ]
     },
     "metadata": {},
     "output_type": "display_data"
    }
   ],
   "source": [
    "data = KarateClub(transform=T.NormalizeFeatures())[0]\n",
    "data.train_mask = data.val_mask = data.test_mask = None"
   ]
  },
  {
   "cell_type": "markdown",
   "id": "92d78ac9",
   "metadata": {},
   "source": [
    "The plot is visualized below where the vertices are colored by the provided class labels that were obtained by modularity clustering as described in the original publication."
   ]
  },
  {
   "cell_type": "code",
   "execution_count": 73,
   "id": "6c95fc42",
   "metadata": {},
   "outputs": [
    {
     "data": {
      "image/png": "[encoded data removed]",
      "text/plain": [
       "<Figure size 720x360 with 1 Axes>"
      ]
     },
     "metadata": {},
     "output_type": "display_data"
    },
    {
     "data": {
      "application/javascript": [
       "\n",
       "            setTimeout(function() {\n",
       "                var nbb_cell_id = 73;\n",
       "                var nbb_unformatted_code = \"edge_idx = data.edge_index.cpu().numpy().transpose()\\npd_edge_idx = pd.DataFrame(edge_idx, columns=[\\\"source\\\", \\\"target\\\"])\\ngraph = nx.from_pandas_edgelist(pd_edge_idx, source=\\\"source\\\", target=\\\"target\\\")\\n\\nplt.figure(figsize=[10, 5])\\npos = nx.spring_layout(graph, seed=seed)\\nnx.draw_networkx(graph, pos=pos, node_color=list(data.y.cpu().numpy()), cmap=\\\"tab20\\\")\";\n",
       "                var nbb_formatted_code = \"edge_idx = data.edge_index.cpu().numpy().transpose()\\npd_edge_idx = pd.DataFrame(edge_idx, columns=[\\\"source\\\", \\\"target\\\"])\\ngraph = nx.from_pandas_edgelist(pd_edge_idx, source=\\\"source\\\", target=\\\"target\\\")\\n\\nplt.figure(figsize=[10, 5])\\npos = nx.spring_layout(graph, seed=seed)\\nnx.draw_networkx(graph, pos=pos, node_color=list(data.y.cpu().numpy()), cmap=\\\"tab20\\\")\";\n",
       "                var nbb_cells = Jupyter.notebook.get_cells();\n",
       "                for (var i = 0; i < nbb_cells.length; ++i) {\n",
       "                    if (nbb_cells[i].input_prompt_number == nbb_cell_id) {\n",
       "                        if (nbb_cells[i].get_text() == nbb_unformatted_code) {\n",
       "                             nbb_cells[i].set_text(nbb_formatted_code);\n",
       "                        }\n",
       "                        break;\n",
       "                    }\n",
       "                }\n",
       "            }, 500);\n",
       "            "
      ],
      "text/plain": [
       "<IPython.core.display.Javascript object>"
      ]
     },
     "metadata": {},
     "output_type": "display_data"
    }
   ],
   "source": [
    "edge_idx = data.edge_index.cpu().numpy().transpose()\n",
    "pd_edge_idx = pd.DataFrame(edge_idx, columns=[\"source\", \"target\"])\n",
    "graph = nx.from_pandas_edgelist(pd_edge_idx, source=\"source\", target=\"target\")\n",
    "\n",
    "plt.figure(figsize=[10, 5])\n",
    "pos = nx.spring_layout(graph, seed=seed)\n",
    "nx.draw_networkx(graph, pos=pos, node_color=list(data.y.cpu().numpy()), cmap=\"tab20\")"
   ]
  },
  {
   "cell_type": "code",
   "execution_count": 74,
   "id": "37d0b517",
   "metadata": {},
   "outputs": [
    {
     "name": "stdout",
     "output_type": "stream",
     "text": [
      "Name: \n",
      "Type: Graph\n",
      "Number of nodes: 34\n",
      "Number of edges: 78\n",
      "Average degree:   4.5882\n"
     ]
    },
    {
     "data": {
      "application/javascript": [
       "\n",
       "            setTimeout(function() {\n",
       "                var nbb_cell_id = 74;\n",
       "                var nbb_unformatted_code = \"print(nx.info(graph))\";\n",
       "                var nbb_formatted_code = \"print(nx.info(graph))\";\n",
       "                var nbb_cells = Jupyter.notebook.get_cells();\n",
       "                for (var i = 0; i < nbb_cells.length; ++i) {\n",
       "                    if (nbb_cells[i].input_prompt_number == nbb_cell_id) {\n",
       "                        if (nbb_cells[i].get_text() == nbb_unformatted_code) {\n",
       "                             nbb_cells[i].set_text(nbb_formatted_code);\n",
       "                        }\n",
       "                        break;\n",
       "                    }\n",
       "                }\n",
       "            }, 500);\n",
       "            "
      ],
      "text/plain": [
       "<IPython.core.display.Javascript object>"
      ]
     },
     "metadata": {},
     "output_type": "display_data"
    }
   ],
   "source": [
    "print(nx.info(graph))"
   ]
  },
  {
   "cell_type": "markdown",
   "id": "928d19a7",
   "metadata": {},
   "source": [
    "### 1.1. Data setup"
   ]
  },
  {
   "cell_type": "markdown",
   "id": "0ad400a0",
   "metadata": {},
   "source": [
    "Next, we split the data into a training, validation and test set (0.7/0.1/0.2) as a size."
   ]
  },
  {
   "cell_type": "code",
   "execution_count": 75,
   "id": "5e1eaf14",
   "metadata": {},
   "outputs": [
    {
     "data": {
      "text/plain": [
       "Data(test_neg_edge_index=[2, 15], test_pos_edge_index=[2, 15], train_neg_adj_mask=[34, 34], train_pos_edge_index=[2, 112], val_neg_edge_index=[2, 7], val_pos_edge_index=[2, 7], x=[34, 34], y=[34])"
      ]
     },
     "execution_count": 75,
     "metadata": {},
     "output_type": "execute_result"
    },
    {
     "data": {
      "application/javascript": [
       "\n",
       "            setTimeout(function() {\n",
       "                var nbb_cell_id = 75;\n",
       "                var nbb_unformatted_code = \"device = torch.device(\\\"cuda\\\" if torch.cuda.is_available() else \\\"cpu\\\")\\ndata = data.to(device)\\ndata_split = train_test_split_edges(data, val_ratio=0.1, test_ratio=0.2)\\ndata_split\";\n",
       "                var nbb_formatted_code = \"device = torch.device(\\\"cuda\\\" if torch.cuda.is_available() else \\\"cpu\\\")\\ndata = data.to(device)\\ndata_split = train_test_split_edges(data, val_ratio=0.1, test_ratio=0.2)\\ndata_split\";\n",
       "                var nbb_cells = Jupyter.notebook.get_cells();\n",
       "                for (var i = 0; i < nbb_cells.length; ++i) {\n",
       "                    if (nbb_cells[i].input_prompt_number == nbb_cell_id) {\n",
       "                        if (nbb_cells[i].get_text() == nbb_unformatted_code) {\n",
       "                             nbb_cells[i].set_text(nbb_formatted_code);\n",
       "                        }\n",
       "                        break;\n",
       "                    }\n",
       "                }\n",
       "            }, 500);\n",
       "            "
      ],
      "text/plain": [
       "<IPython.core.display.Javascript object>"
      ]
     },
     "metadata": {},
     "output_type": "display_data"
    }
   ],
   "source": [
    "device = torch.device(\"cuda\" if torch.cuda.is_available() else \"cpu\")\n",
    "data = data.to(device)\n",
    "data_split = train_test_split_edges(data, val_ratio=0.1, test_ratio=0.2)\n",
    "data_split"
   ]
  },
  {
   "cell_type": "markdown",
   "id": "82eaecda",
   "metadata": {},
   "source": [
    "Let us construct 3 individual data sets for each portion to make the downstream analyses upwards compatible."
   ]
  },
  {
   "cell_type": "code",
   "execution_count": 76,
   "id": "e5d29259",
   "metadata": {},
   "outputs": [
    {
     "data": {
      "application/javascript": [
       "\n",
       "            setTimeout(function() {\n",
       "                var nbb_cell_id = 76;\n",
       "                var nbb_unformatted_code = \"data_train = Data(x=data_split.x, edge_index=data_split.train_pos_edge_index)\\ndata_train.edge_index = data_train.edge_index\\n\\ndata_val = Data(x=data_split.x, edge_index=data_split.val_pos_edge_index)\\ndata_val.neg_edge_index = data.val_neg_edge_index\\n\\ndata_test = Data(x=data_split.x, edge_index=data_split.test_pos_edge_index)\\ndata_test.neg_edge_index = data.test_neg_edge_index\\n\\ndata_dict = {\\\"train\\\": data_train, \\\"val\\\": data_val, \\\"test\\\": data_test}\";\n",
       "                var nbb_formatted_code = \"data_train = Data(x=data_split.x, edge_index=data_split.train_pos_edge_index)\\ndata_train.edge_index = data_train.edge_index\\n\\ndata_val = Data(x=data_split.x, edge_index=data_split.val_pos_edge_index)\\ndata_val.neg_edge_index = data.val_neg_edge_index\\n\\ndata_test = Data(x=data_split.x, edge_index=data_split.test_pos_edge_index)\\ndata_test.neg_edge_index = data.test_neg_edge_index\\n\\ndata_dict = {\\\"train\\\": data_train, \\\"val\\\": data_val, \\\"test\\\": data_test}\";\n",
       "                var nbb_cells = Jupyter.notebook.get_cells();\n",
       "                for (var i = 0; i < nbb_cells.length; ++i) {\n",
       "                    if (nbb_cells[i].input_prompt_number == nbb_cell_id) {\n",
       "                        if (nbb_cells[i].get_text() == nbb_unformatted_code) {\n",
       "                             nbb_cells[i].set_text(nbb_formatted_code);\n",
       "                        }\n",
       "                        break;\n",
       "                    }\n",
       "                }\n",
       "            }, 500);\n",
       "            "
      ],
      "text/plain": [
       "<IPython.core.display.Javascript object>"
      ]
     },
     "metadata": {},
     "output_type": "display_data"
    }
   ],
   "source": [
    "data_train = Data(x=data_split.x, edge_index=data_split.train_pos_edge_index)\n",
    "data_train.edge_index = data_train.edge_index\n",
    "\n",
    "data_val = Data(x=data_split.x, edge_index=data_split.val_pos_edge_index)\n",
    "data_val.neg_edge_index = data.val_neg_edge_index\n",
    "\n",
    "data_test = Data(x=data_split.x, edge_index=data_split.test_pos_edge_index)\n",
    "data_test.neg_edge_index = data.test_neg_edge_index\n",
    "\n",
    "data_dict = {\"train\": data_train, \"val\": data_val, \"test\": data_test}"
   ]
  },
  {
   "cell_type": "markdown",
   "id": "f46332ce",
   "metadata": {},
   "source": [
    "---\n",
    "\n",
    "### 1.3. Model setup"
   ]
  },
  {
   "cell_type": "markdown",
   "id": "87deb4a3",
   "metadata": {},
   "source": [
    "Next, we set up our Graph-convolutional Autoencoder as defined by Kipf & Welling (2016)."
   ]
  },
  {
   "cell_type": "code",
   "execution_count": 105,
   "id": "347ba571",
   "metadata": {},
   "outputs": [
    {
     "data": {
      "text/plain": [
       "GraphConvAE(\n",
       "  (encoder): GCNEncoder(\n",
       "    (gcn1): GCNConv(34, 4)\n",
       "    (relu): ReLU()\n",
       "    (gcn5): GCNConv(4, 2)\n",
       "  )\n",
       "  (model): GAE(\n",
       "    (encoder): GCNEncoder(\n",
       "      (gcn1): GCNConv(34, 4)\n",
       "      (relu): ReLU()\n",
       "      (gcn5): GCNConv(4, 2)\n",
       "    )\n",
       "    (decoder): InnerProductDecoder()\n",
       "  )\n",
       ")"
      ]
     },
     "execution_count": 105,
     "metadata": {},
     "output_type": "execute_result"
    },
    {
     "data": {
      "application/javascript": [
       "\n",
       "            setTimeout(function() {\n",
       "                var nbb_cell_id = 105;\n",
       "                var nbb_unformatted_code = \"input_channels = data.num_features\\nhidden_dims = 4\\nlatent_dim = 2\\n\\nmodel = GraphConvAE(\\n    input_channels=input_channels, hidden_dims=hidden_dims, latent_dim=latent_dim\\n)\\nmodel\";\n",
       "                var nbb_formatted_code = \"input_channels = data.num_features\\nhidden_dims = 4\\nlatent_dim = 2\\n\\nmodel = GraphConvAE(\\n    input_channels=input_channels, hidden_dims=hidden_dims, latent_dim=latent_dim\\n)\\nmodel\";\n",
       "                var nbb_cells = Jupyter.notebook.get_cells();\n",
       "                for (var i = 0; i < nbb_cells.length; ++i) {\n",
       "                    if (nbb_cells[i].input_prompt_number == nbb_cell_id) {\n",
       "                        if (nbb_cells[i].get_text() == nbb_unformatted_code) {\n",
       "                             nbb_cells[i].set_text(nbb_formatted_code);\n",
       "                        }\n",
       "                        break;\n",
       "                    }\n",
       "                }\n",
       "            }, 500);\n",
       "            "
      ],
      "text/plain": [
       "<IPython.core.display.Javascript object>"
      ]
     },
     "metadata": {},
     "output_type": "display_data"
    }
   ],
   "source": [
    "input_channels = data.num_features\n",
    "hidden_dims = 4\n",
    "latent_dim = 2\n",
    "\n",
    "model = GraphConvAE(\n",
    "    input_channels=input_channels, hidden_dims=hidden_dims, latent_dim=latent_dim\n",
    ")\n",
    "model"
   ]
  },
  {
   "cell_type": "markdown",
   "id": "531fa261",
   "metadata": {},
   "source": [
    "The GAE consists of two-layer graph-convolutional encoder that maps the node embedding from 1-16-8 dimensions. That is the latent space will be given by a euclidean 8 dimensional space. We apply a ReLU activation for nonlinearity after the first GCNConv layer.\n",
    "The decoder is simply an innerproduct decoder that takes the sigmoid of the inner product of the latent embeddings for two nodes in order to compute a probabilistic adjacency matrix."
   ]
  },
  {
   "cell_type": "markdown",
   "id": "7e84a123",
   "metadata": {},
   "source": [
    "Next, we push everything to the GPU and define the Adam optimizer that we will use to train the model."
   ]
  },
  {
   "cell_type": "code",
   "execution_count": 110,
   "id": "3f1d6ad8",
   "metadata": {},
   "outputs": [
    {
     "data": {
      "application/javascript": [
       "\n",
       "            setTimeout(function() {\n",
       "                var nbb_cell_id = 110;\n",
       "                var nbb_unformatted_code = \"model = model.to(device)\\n\\n# inizialize the optimizer\\noptimizer = torch.optim.Adam(model.parameters(), lr=0.01)\";\n",
       "                var nbb_formatted_code = \"model = model.to(device)\\n\\n# inizialize the optimizer\\noptimizer = torch.optim.Adam(model.parameters(), lr=0.01)\";\n",
       "                var nbb_cells = Jupyter.notebook.get_cells();\n",
       "                for (var i = 0; i < nbb_cells.length; ++i) {\n",
       "                    if (nbb_cells[i].input_prompt_number == nbb_cell_id) {\n",
       "                        if (nbb_cells[i].get_text() == nbb_unformatted_code) {\n",
       "                             nbb_cells[i].set_text(nbb_formatted_code);\n",
       "                        }\n",
       "                        break;\n",
       "                    }\n",
       "                }\n",
       "            }, 500);\n",
       "            "
      ],
      "text/plain": [
       "<IPython.core.display.Javascript object>"
      ]
     },
     "metadata": {},
     "output_type": "display_data"
    }
   ],
   "source": [
    "model = model.to(device)\n",
    "\n",
    "# inizialize the optimizer\n",
    "optimizer = torch.optim.Adam(model.parameters(), lr=0.01)"
   ]
  },
  {
   "cell_type": "markdown",
   "id": "2744603d",
   "metadata": {},
   "source": [
    "---\n",
    "\n",
    "### 1.4. Model training"
   ]
  },
  {
   "cell_type": "markdown",
   "id": "a9089972",
   "metadata": {},
   "source": [
    "We will trian the models for a maximum of 300 epochs and trigger early stopping after 20 epochs."
   ]
  },
  {
   "cell_type": "code",
   "execution_count": 111,
   "id": "1acbfd52",
   "metadata": {
    "scrolled": true
   },
   "outputs": [
    {
     "name": "stdout",
     "output_type": "stream",
     "text": [
      "------------------------------------------------------------\n",
      "TRAIN loss: 1.3408654928207397\n",
      "VAL loss: 1.382948398590088\n",
      "VAL AUC: 0.6844444444444445 \t AP: 0.7134896776276087\n",
      "------------------------------------------------------------\n",
      "TRAIN loss: 1.3221817016601562\n",
      "VAL loss: 1.4084017276763916\n",
      "VAL AUC: 0.6711111111111111 \t AP: 0.7017244058623369\n",
      "------------------------------------------------------------\n",
      "TRAIN loss: 1.3240315914154053\n",
      "VAL loss: 1.3491474390029907\n",
      "VAL AUC: 0.6666666666666666 \t AP: 0.6982323423702734\n",
      "------------------------------------------------------------\n",
      "TRAIN loss: 1.3188788890838623\n",
      "VAL loss: 1.368419885635376\n",
      "VAL AUC: 0.6577777777777778 \t AP: 0.690151038053675\n",
      "------------------------------------------------------------\n",
      "TRAIN loss: 1.309028148651123\n",
      "VAL loss: 1.3672170639038086\n",
      "VAL AUC: 0.6488888888888888 \t AP: 0.683130281032918\n",
      "------------------------------------------------------------\n",
      "TRAIN loss: 1.2989522218704224\n",
      "VAL loss: 1.341264247894287\n",
      "VAL AUC: 0.6266666666666667 \t AP: 0.6648501689881\n",
      "------------------------------------------------------------\n",
      "TRAIN loss: 1.288132667541504\n",
      "VAL loss: 1.3695632219314575\n",
      "VAL AUC: 0.6133333333333333 \t AP: 0.6571946602456347\n",
      "------------------------------------------------------------\n",
      "TRAIN loss: 1.295491099357605\n",
      "VAL loss: 1.3678914308547974\n",
      "VAL AUC: 0.6 \t AP: 0.6497078877588622\n",
      "------------------------------------------------------------\n",
      "TRAIN loss: 1.2777594327926636\n",
      "VAL loss: 1.3435477018356323\n",
      "VAL AUC: 0.6 \t AP: 0.6500094750604495\n",
      "------------------------------------------------------------\n",
      "TRAIN loss: 1.2845752239227295\n",
      "VAL loss: 1.359950304031372\n",
      "VAL AUC: 0.5777777777777778 \t AP: 0.6405141151285572\n",
      "------------------------------------------------------------\n",
      "TRAIN loss: 1.2724074125289917\n",
      "VAL loss: 1.3986327648162842\n",
      "VAL AUC: 0.5688888888888889 \t AP: 0.631040502321611\n",
      "------------------------------------------------------------\n",
      "TRAIN loss: 1.2562453746795654\n",
      "VAL loss: 1.4165927171707153\n",
      "VAL AUC: 0.5644444444444444 \t AP: 0.6292944705755792\n",
      "------------------------------------------------------------\n",
      "TRAIN loss: 1.2458949089050293\n",
      "VAL loss: 1.3654391765594482\n",
      "VAL AUC: 0.5466666666666666 \t AP: 0.6201377192808969\n",
      "------------------------------------------------------------\n",
      "TRAIN loss: 1.2468608617782593\n",
      "VAL loss: 1.3535221815109253\n",
      "VAL AUC: 0.5511111111111111 \t AP: 0.6295064696300394\n",
      "------------------------------------------------------------\n",
      "TRAIN loss: 1.2465660572052002\n",
      "VAL loss: 1.393049955368042\n",
      "VAL AUC: 0.5377777777777778 \t AP: 0.6232708694813958\n",
      "------------------------------------------------------------\n",
      "TRAIN loss: 1.2421916723251343\n",
      "VAL loss: 1.343735694885254\n",
      "VAL AUC: 0.5333333333333333 \t AP: 0.6215164835164835\n",
      "------------------------------------------------------------\n",
      "TRAIN loss: 1.2324566841125488\n",
      "VAL loss: 1.3111011981964111\n",
      "VAL AUC: 0.5333333333333333 \t AP: 0.6215164835164835\n",
      "------------------------------------------------------------\n",
      "TRAIN loss: 1.2151129245758057\n",
      "VAL loss: 1.326593041419983\n",
      "VAL AUC: 0.5288888888888889 \t AP: 0.6319843197737934\n",
      "------------------------------------------------------------\n",
      "TRAIN loss: 1.2264233827590942\n",
      "VAL loss: 1.4099764823913574\n",
      "VAL AUC: 0.5244444444444445 \t AP: 0.6260319388214125\n",
      "------------------------------------------------------------\n",
      "TRAIN loss: 1.1883556842803955\n",
      "VAL loss: 1.3101626634597778\n",
      "VAL AUC: 0.5244444444444445 \t AP: 0.6261516795208634\n",
      "------------------------------------------------------------\n",
      "TRAIN loss: 1.2131264209747314\n",
      "VAL loss: 1.3890448808670044\n",
      "VAL AUC: 0.5244444444444445 \t AP: 0.6261516795208634\n",
      "------------------------------------------------------------\n",
      "TRAIN loss: 1.1946659088134766\n",
      "VAL loss: 1.341048240661621\n",
      "VAL AUC: 0.5333333333333333 \t AP: 0.6338584464381566\n",
      "------------------------------------------------------------\n",
      "TRAIN loss: 1.188176155090332\n",
      "VAL loss: 1.3572918176651\n",
      "VAL AUC: 0.5511111111111111 \t AP: 0.6538521725188392\n",
      "------------------------------------------------------------\n",
      "TRAIN loss: 1.1760931015014648\n",
      "VAL loss: 1.3285174369812012\n",
      "VAL AUC: 0.5377777777777778 \t AP: 0.6420104358241613\n",
      "------------------------------------------------------------\n",
      "TRAIN loss: 1.1753101348876953\n",
      "VAL loss: 1.3212890625\n",
      "VAL AUC: 0.5422222222222223 \t AP: 0.6553437691574946\n",
      "------------------------------------------------------------\n",
      "TRAIN loss: 1.161940574645996\n",
      "VAL loss: 1.3481346368789673\n",
      "VAL AUC: 0.5511111111111112 \t AP: 0.6650346630589148\n",
      "------------------------------------------------------------\n",
      "TRAIN loss: 1.128445029258728\n",
      "VAL loss: 1.2884349822998047\n",
      "VAL AUC: 0.5644444444444445 \t AP: 0.6823362503605022\n",
      "------------------------------------------------------------\n",
      "TRAIN loss: 1.11349618434906\n",
      "VAL loss: 1.3372163772583008\n",
      "VAL AUC: 0.5688888888888889 \t AP: 0.6840678520921039\n",
      "------------------------------------------------------------\n",
      "TRAIN loss: 1.1187328100204468\n",
      "VAL loss: 1.3165916204452515\n",
      "VAL AUC: 0.5644444444444444 \t AP: 0.6828332841908693\n",
      "------------------------------------------------------------\n",
      "TRAIN loss: 1.0861327648162842\n",
      "VAL loss: 1.3036959171295166\n",
      "VAL AUC: 0.5644444444444444 \t AP: 0.6828332841908693\n",
      "------------------------------------------------------------\n",
      "TRAIN loss: 1.0822473764419556\n",
      "VAL loss: 1.2931662797927856\n",
      "VAL AUC: 0.5644444444444445 \t AP: 0.6872394144590686\n",
      "------------------------------------------------------------\n",
      "TRAIN loss: 1.0821614265441895\n",
      "VAL loss: 1.2558739185333252\n",
      "VAL AUC: 0.5644444444444445 \t AP: 0.6872394144590686\n",
      "------------------------------------------------------------\n",
      "TRAIN loss: 1.0440664291381836\n",
      "VAL loss: 1.288447618484497\n",
      "VAL AUC: 0.568888888888889 \t AP: 0.689183858903513\n",
      "------------------------------------------------------------\n",
      "TRAIN loss: 1.0379408597946167\n",
      "VAL loss: 1.2761790752410889\n",
      "VAL AUC: 0.5644444444444445 \t AP: 0.678700198772794\n",
      "------------------------------------------------------------\n",
      "TRAIN loss: 1.0250575542449951\n",
      "VAL loss: 1.154968023300171\n",
      "VAL AUC: 0.5733333333333334 \t AP: 0.6714991897141999\n",
      "------------------------------------------------------------\n",
      "TRAIN loss: 1.0150399208068848\n",
      "VAL loss: 1.2792738676071167\n",
      "VAL AUC: 0.5911111111111111 \t AP: 0.6800357680882395\n",
      "------------------------------------------------------------\n",
      "TRAIN loss: 1.0129928588867188\n",
      "VAL loss: 1.3587149381637573\n",
      "VAL AUC: 0.6088888888888889 \t AP: 0.6743070017278943\n",
      "------------------------------------------------------------\n",
      "TRAIN loss: 1.0458433628082275\n",
      "VAL loss: 1.412858009338379\n",
      "VAL AUC: 0.6133333333333334 \t AP: 0.6699202013937255\n",
      "------------------------------------------------------------\n",
      "TRAIN loss: 1.009899616241455\n",
      "VAL loss: 1.423283576965332\n",
      "VAL AUC: 0.6222222222222222 \t AP: 0.6774065556192101\n",
      "------------------------------------------------------------\n",
      "TRAIN loss: 0.9720638990402222\n",
      "VAL loss: 1.350856065750122\n",
      "VAL AUC: 0.6444444444444444 \t AP: 0.6873780213515454\n",
      "------------------------------------------------------------\n",
      "TRAIN loss: 0.9479421377182007\n",
      "VAL loss: 1.2535948753356934\n",
      "VAL AUC: 0.64 \t AP: 0.6838426678161919\n",
      "------------------------------------------------------------\n",
      "TRAIN loss: 0.9657785892486572\n",
      "VAL loss: 1.2819175720214844\n",
      "VAL AUC: 0.6488888888888888 \t AP: 0.6890714259861265\n",
      "------------------------------------------------------------\n",
      "TRAIN loss: 0.9679344296455383\n",
      "VAL loss: 1.3543038368225098\n",
      "VAL AUC: 0.6577777777777778 \t AP: 0.6970512239659244\n",
      "------------------------------------------------------------\n",
      "TRAIN loss: 0.8998126983642578\n",
      "VAL loss: 1.3507447242736816\n",
      "VAL AUC: 0.6622222222222223 \t AP: 0.70260677952148\n",
      "------------------------------------------------------------\n",
      "TRAIN loss: 0.9597426056861877\n",
      "VAL loss: 1.3630151748657227\n",
      "VAL AUC: 0.6622222222222223 \t AP: 0.70260677952148\n",
      "------------------------------------------------------------\n",
      "TRAIN loss: 0.9598380327224731\n",
      "VAL loss: 1.4815782308578491\n",
      "VAL AUC: 0.6533333333333333 \t AP: 0.6973780213515454\n",
      "------------------------------------------------------------\n",
      "TRAIN loss: 1.0029257535934448\n",
      "VAL loss: 1.2154473066329956\n",
      "VAL AUC: 0.6622222222222223 \t AP: 0.7040714259861265\n",
      "------------------------------------------------------------\n",
      "TRAIN loss: 0.8877272009849548\n",
      "VAL loss: 1.2908620834350586\n",
      "VAL AUC: 0.6711111111111111 \t AP: 0.7102680071827078\n",
      "------------------------------------------------------------\n",
      "TRAIN loss: 0.9347734451293945\n",
      "VAL loss: 1.4625966548919678\n",
      "VAL AUC: 0.6755555555555555 \t AP: 0.715453192367893\n",
      "------------------------------------------------------------\n",
      "TRAIN loss: 0.975471556186676\n",
      "VAL loss: 1.3505737781524658\n",
      "VAL AUC: 0.6711111111111112 \t AP: 0.713577290491991\n",
      "------------------------------------------------------------\n",
      "TRAIN loss: 0.8453724980354309\n",
      "VAL loss: 1.395719289779663\n"
     ]
    },
    {
     "name": "stdout",
     "output_type": "stream",
     "text": [
      "VAL AUC: 0.6799999999999999 \t AP: 0.7240168509315514\n",
      "------------------------------------------------------------\n",
      "TRAIN loss: 0.8904356956481934\n",
      "VAL loss: 1.5096168518066406\n",
      "VAL AUC: 0.6711111111111112 \t AP: 0.713577290491991\n",
      "------------------------------------------------------------\n",
      "TRAIN loss: 0.9869815111160278\n",
      "VAL loss: 1.2339496612548828\n",
      "VAL AUC: 0.6533333333333333 \t AP: 0.7016043024663714\n",
      "------------------------------------------------------------\n",
      "TRAIN loss: 0.9568285942077637\n",
      "VAL loss: 1.3450382947921753\n",
      "VAL AUC: 0.6577777777777778 \t AP: 0.7087471596092285\n",
      "------------------------------------------------------------\n",
      "TRAIN loss: 0.8631646037101746\n",
      "VAL loss: 1.2894928455352783\n",
      "VAL AUC: 0.6577777777777778 \t AP: 0.7087471596092285\n",
      "------------------------------------------------------------\n",
      "Training stopped after 56 epochs\n",
      "Best model found at epoch 34\n",
      "------------------------------------------------------------\n",
      "TEST AUC: 0.6577777777777778 \t AP: 0.7087471596092285\n"
     ]
    },
    {
     "data": {
      "application/javascript": [
       "\n",
       "            setTimeout(function() {\n",
       "                var nbb_cell_id = 111;\n",
       "                var nbb_unformatted_code = \"model, loss_hist = train_gae(model, data_dict, n_epochs=100, early_stopping=20)\";\n",
       "                var nbb_formatted_code = \"model, loss_hist = train_gae(model, data_dict, n_epochs=100, early_stopping=20)\";\n",
       "                var nbb_cells = Jupyter.notebook.get_cells();\n",
       "                for (var i = 0; i < nbb_cells.length; ++i) {\n",
       "                    if (nbb_cells[i].input_prompt_number == nbb_cell_id) {\n",
       "                        if (nbb_cells[i].get_text() == nbb_unformatted_code) {\n",
       "                             nbb_cells[i].set_text(nbb_formatted_code);\n",
       "                        }\n",
       "                        break;\n",
       "                    }\n",
       "                }\n",
       "            }, 500);\n",
       "            "
      ],
      "text/plain": [
       "<IPython.core.display.Javascript object>"
      ]
     },
     "metadata": {},
     "output_type": "display_data"
    }
   ],
   "source": [
    "model, loss_hist = train_gae(model, data_dict, n_epochs=100, early_stopping=20)"
   ]
  },
  {
   "cell_type": "markdown",
   "id": "d2bfee32",
   "metadata": {},
   "source": [
    "After training the model we will now plot the embedding space and color it by the labels."
   ]
  },
  {
   "cell_type": "code",
   "execution_count": 108,
   "id": "f8b24700",
   "metadata": {},
   "outputs": [
    {
     "data": {
      "application/javascript": [
       "\n",
       "            setTimeout(function() {\n",
       "                var nbb_cell_id = 108;\n",
       "                var nbb_unformatted_code = \"data_all = KarateClub(transform=T.NormalizeFeatures())[0]\\ndata.train_mask = data.val_mask = data.test_mask = None\\nlatents = model(data_all.x.to(device), data_all.edge_index.to(device))[\\\"latents\\\"]\\n\\nnorm_zs = StandardScaler().fit_transform(latents.detach().cpu().numpy())\";\n",
       "                var nbb_formatted_code = \"data_all = KarateClub(transform=T.NormalizeFeatures())[0]\\ndata.train_mask = data.val_mask = data.test_mask = None\\nlatents = model(data_all.x.to(device), data_all.edge_index.to(device))[\\\"latents\\\"]\\n\\nnorm_zs = StandardScaler().fit_transform(latents.detach().cpu().numpy())\";\n",
       "                var nbb_cells = Jupyter.notebook.get_cells();\n",
       "                for (var i = 0; i < nbb_cells.length; ++i) {\n",
       "                    if (nbb_cells[i].input_prompt_number == nbb_cell_id) {\n",
       "                        if (nbb_cells[i].get_text() == nbb_unformatted_code) {\n",
       "                             nbb_cells[i].set_text(nbb_formatted_code);\n",
       "                        }\n",
       "                        break;\n",
       "                    }\n",
       "                }\n",
       "            }, 500);\n",
       "            "
      ],
      "text/plain": [
       "<IPython.core.display.Javascript object>"
      ]
     },
     "metadata": {},
     "output_type": "display_data"
    }
   ],
   "source": [
    "data_all = KarateClub(transform=T.NormalizeFeatures())[0]\n",
    "data.train_mask = data.val_mask = data.test_mask = None\n",
    "latents = model(data_all.x.to(device), data_all.edge_index.to(device))[\"latents\"]\n",
    "\n",
    "norm_zs = StandardScaler().fit_transform(latents.detach().cpu().numpy())"
   ]
  },
  {
   "cell_type": "code",
   "execution_count": 109,
   "id": "5716d614",
   "metadata": {},
   "outputs": [
    {
     "data": {
      "text/plain": [
       "<AxesSubplot:xlabel='umap-0', ylabel='umap-1'>"
      ]
     },
     "execution_count": 109,
     "metadata": {},
     "output_type": "execute_result"
    },
    {
     "data": {
      "image/png": "[encoded data removed]",
      "text/plain": [
       "<Figure size 432x288 with 1 Axes>"
      ]
     },
     "metadata": {
      "needs_background": "light"
     },
     "output_type": "display_data"
    },
    {
     "data": {
      "application/javascript": [
       "\n",
       "            setTimeout(function() {\n",
       "                var nbb_cell_id = 109;\n",
       "                var nbb_unformatted_code = \"embs = umap.UMAP().fit_transform(norm_zs)\\nembs = pd.DataFrame(embs, columns=[\\\"umap-0\\\", \\\"umap-1\\\"])\\nembs[\\\"label\\\"] = data_all.y.cpu().numpy().astype(\\\"object\\\")\\nsns.scatterplot(data=embs, x=\\\"umap-0\\\", y=\\\"umap-1\\\", hue=\\\"label\\\", cmap=\\\"viridis\\\")\";\n",
       "                var nbb_formatted_code = \"embs = umap.UMAP().fit_transform(norm_zs)\\nembs = pd.DataFrame(embs, columns=[\\\"umap-0\\\", \\\"umap-1\\\"])\\nembs[\\\"label\\\"] = data_all.y.cpu().numpy().astype(\\\"object\\\")\\nsns.scatterplot(data=embs, x=\\\"umap-0\\\", y=\\\"umap-1\\\", hue=\\\"label\\\", cmap=\\\"viridis\\\")\";\n",
       "                var nbb_cells = Jupyter.notebook.get_cells();\n",
       "                for (var i = 0; i < nbb_cells.length; ++i) {\n",
       "                    if (nbb_cells[i].input_prompt_number == nbb_cell_id) {\n",
       "                        if (nbb_cells[i].get_text() == nbb_unformatted_code) {\n",
       "                             nbb_cells[i].set_text(nbb_formatted_code);\n",
       "                        }\n",
       "                        break;\n",
       "                    }\n",
       "                }\n",
       "            }, 500);\n",
       "            "
      ],
      "text/plain": [
       "<IPython.core.display.Javascript object>"
      ]
     },
     "metadata": {},
     "output_type": "display_data"
    }
   ],
   "source": [
    "embs = umap.UMAP().fit_transform(norm_zs)\n",
    "embs = pd.DataFrame(embs, columns=[\"umap-0\", \"umap-1\"])\n",
    "embs[\"label\"] = data_all.y.cpu().numpy().astype(\"object\")\n",
    "sns.scatterplot(data=embs, x=\"umap-0\", y=\"umap-1\", hue=\"label\", cmap=\"viridis\")"
   ]
  },
  {
   "cell_type": "code",
   "execution_count": null,
   "id": "86b60841",
   "metadata": {},
   "outputs": [],
   "source": []
  }
 ],
 "metadata": {
  "kernelspec": {
   "display_name": "Python 3",
   "language": "python",
   "name": "python3"
  },
  "language_info": {
   "codemirror_mode": {
    "name": "ipython",
    "version": 3
   },
   "file_extension": ".py",
   "mimetype": "text/x-python",
   "name": "python",
   "nbconvert_exporter": "python",
   "pygments_lexer": "ipython3",
   "version": "3.8.10"
  }
 },
 "nbformat": 4,
 "nbformat_minor": 5
}
