{
 "cells": [
  {
   "cell_type": "markdown",
   "id": "3df87788",
   "metadata": {},
   "source": [
    "# "
   ]
  },
  {
   "cell_type": "markdown",
   "id": "6a97e8d2",
   "metadata": {
    "scrolled": true
   },
   "source": [
    "# GEX and PPI analysis\n",
    "\n",
    "This notebook will provide preliminary analyses of the human interactome and single-cell gene expression data from U2OS cells with the goal of deriving a cell-type specific interactome network.\n",
    "\n",
    "---"
   ]
  },
  {
   "cell_type": "markdown",
   "id": "2a2d7ecb",
   "metadata": {},
   "source": [
    "## 0. Environmental setup"
   ]
  },
  {
   "cell_type": "code",
   "execution_count": 76,
   "id": "a7ef2d6d",
   "metadata": {
    "scrolled": true
   },
   "outputs": [
    {
     "name": "stdout",
     "output_type": "stream",
     "text": [
      "The nb_black extension is already loaded. To reload it, use:\n",
      "  %reload_ext nb_black\n"
     ]
    },
    {
     "data": {
      "application/javascript": [
       "\n",
       "            setTimeout(function() {\n",
       "                var nbb_cell_id = 76;\n",
       "                var nbb_unformatted_code = \"import pandas as pd\\nimport scanpy as sc\\nimport numpy as np\\nimport os\\nimport urllib.request\\nimport seaborn as sns\\nimport matplotlib.pyplot as plt\\nimport networkx as nx\\n\\nimport matplotlib.pyplot as plt\\nfrom matplotlib_venn import venn3\\nfrom venn import venn\\n\\n%load_ext nb_black\";\n",
       "                var nbb_formatted_code = \"import pandas as pd\\nimport scanpy as sc\\nimport numpy as np\\nimport os\\nimport urllib.request\\nimport seaborn as sns\\nimport matplotlib.pyplot as plt\\nimport networkx as nx\\n\\nimport matplotlib.pyplot as plt\\nfrom matplotlib_venn import venn3\\nfrom venn import venn\\n\\n%load_ext nb_black\";\n",
       "                var nbb_cells = Jupyter.notebook.get_cells();\n",
       "                for (var i = 0; i < nbb_cells.length; ++i) {\n",
       "                    if (nbb_cells[i].input_prompt_number == nbb_cell_id) {\n",
       "                        if (nbb_cells[i].get_text() == nbb_unformatted_code) {\n",
       "                             nbb_cells[i].set_text(nbb_formatted_code);\n",
       "                        }\n",
       "                        break;\n",
       "                    }\n",
       "                }\n",
       "            }, 500);\n",
       "            "
      ],
      "text/plain": [
       "<IPython.core.display.Javascript object>"
      ]
     },
     "metadata": {},
     "output_type": "display_data"
    }
   ],
   "source": [
    "import pandas as pd\n",
    "import scanpy as sc\n",
    "import numpy as np\n",
    "import os\n",
    "import urllib.request\n",
    "import seaborn as sns\n",
    "import matplotlib.pyplot as plt\n",
    "import networkx as nx\n",
    "\n",
    "import matplotlib.pyplot as plt\n",
    "from matplotlib_venn import venn3\n",
    "from venn import venn\n",
    "\n",
    "%load_ext nb_black"
   ]
  },
  {
   "cell_type": "markdown",
   "id": "d45acb6c",
   "metadata": {},
   "source": [
    "---\n",
    "## 1. Read in data\n",
    "\n",
    "### 1a. Interactome data\n",
    "\n",
    "First, we will read in the adjacency matrix defining the human interactome as defined by the iRefIndex database v17."
   ]
  },
  {
   "cell_type": "code",
   "execution_count": 2,
   "id": "8dbc68d0",
   "metadata": {},
   "outputs": [
    {
     "data": {
      "text/html": [
       "<div>\n",
       "<style scoped>\n",
       "    .dataframe tbody tr th:only-of-type {\n",
       "        vertical-align: middle;\n",
       "    }\n",
       "\n",
       "    .dataframe tbody tr th {\n",
       "        vertical-align: top;\n",
       "    }\n",
       "\n",
       "    .dataframe thead th {\n",
       "        text-align: right;\n",
       "    }\n",
       "</style>\n",
       "<table border=\"1\" class=\"dataframe\">\n",
       "  <thead>\n",
       "    <tr style=\"text-align: right;\">\n",
       "      <th></th>\n",
       "      <th>Gene1</th>\n",
       "      <th>Gene2</th>\n",
       "      <th>Score.hpr.max</th>\n",
       "      <th>Score.lpr.max</th>\n",
       "      <th>Score.np.max</th>\n",
       "    </tr>\n",
       "  </thead>\n",
       "  <tbody>\n",
       "    <tr>\n",
       "      <th>0</th>\n",
       "      <td>CDKN1A</td>\n",
       "      <td>A1BG</td>\n",
       "      <td>4356</td>\n",
       "      <td>4356</td>\n",
       "      <td>1</td>\n",
       "    </tr>\n",
       "    <tr>\n",
       "      <th>1</th>\n",
       "      <td>GLIPR1</td>\n",
       "      <td>A1BG</td>\n",
       "      <td>8</td>\n",
       "      <td>8</td>\n",
       "      <td>1</td>\n",
       "    </tr>\n",
       "    <tr>\n",
       "      <th>2</th>\n",
       "      <td>LGALS3</td>\n",
       "      <td>A1BG</td>\n",
       "      <td>19</td>\n",
       "      <td>19</td>\n",
       "      <td>1</td>\n",
       "    </tr>\n",
       "    <tr>\n",
       "      <th>3</th>\n",
       "      <td>PRDX4</td>\n",
       "      <td>A1BG</td>\n",
       "      <td>4904</td>\n",
       "      <td>4904</td>\n",
       "      <td>1</td>\n",
       "    </tr>\n",
       "    <tr>\n",
       "      <th>4</th>\n",
       "      <td>UBR4</td>\n",
       "      <td>A1BG</td>\n",
       "      <td>60871</td>\n",
       "      <td>60871</td>\n",
       "      <td>1</td>\n",
       "    </tr>\n",
       "  </tbody>\n",
       "</table>\n",
       "</div>"
      ],
      "text/plain": [
       "    Gene1 Gene2  Score.hpr.max  Score.lpr.max  Score.np.max\n",
       "0  CDKN1A  A1BG           4356           4356             1\n",
       "1  GLIPR1  A1BG              8              8             1\n",
       "2  LGALS3  A1BG             19             19             1\n",
       "3   PRDX4  A1BG           4904           4904             1\n",
       "4    UBR4  A1BG          60871          60871             1"
      ]
     },
     "execution_count": 2,
     "metadata": {},
     "output_type": "execute_result"
    },
    {
     "data": {
      "application/javascript": [
       "\n",
       "            setTimeout(function() {\n",
       "                var nbb_cell_id = 2;\n",
       "                var nbb_unformatted_code = \"ppi_adj = pd.read_csv(\\n    \\\"/home/daniel/PycharmProjects/image2reg/data/ppi/irefindex_v17/irefindex_v17.csv\\\"\\n)\\nppi_adj.head()\";\n",
       "                var nbb_formatted_code = \"ppi_adj = pd.read_csv(\\n    \\\"/home/daniel/PycharmProjects/image2reg/data/ppi/irefindex_v17/irefindex_v17.csv\\\"\\n)\\nppi_adj.head()\";\n",
       "                var nbb_cells = Jupyter.notebook.get_cells();\n",
       "                for (var i = 0; i < nbb_cells.length; ++i) {\n",
       "                    if (nbb_cells[i].input_prompt_number == nbb_cell_id) {\n",
       "                        if (nbb_cells[i].get_text() == nbb_unformatted_code) {\n",
       "                             nbb_cells[i].set_text(nbb_formatted_code);\n",
       "                        }\n",
       "                        break;\n",
       "                    }\n",
       "                }\n",
       "            }, 500);\n",
       "            "
      ],
      "text/plain": [
       "<IPython.core.display.Javascript object>"
      ]
     },
     "metadata": {},
     "output_type": "display_data"
    }
   ],
   "source": [
    "ppi_adj = pd.read_csv(\n",
    "    \"/home/daniel/PycharmProjects/image2reg/data/ppi/irefindex_v17/irefindex_v17.csv\"\n",
    ")\n",
    "ppi_adj.head()"
   ]
  },
  {
   "cell_type": "code",
   "execution_count": 3,
   "id": "4bd1392b",
   "metadata": {},
   "outputs": [
    {
     "name": "stdout",
     "output_type": "stream",
     "text": [
      "Interactome consist of 17437 unique genes and 396984 interactions.\n"
     ]
    },
    {
     "data": {
      "application/javascript": [
       "\n",
       "            setTimeout(function() {\n",
       "                var nbb_cell_id = 3;\n",
       "                var nbb_unformatted_code = \"print(\\n    \\\"Interactome consist of {} unique genes and {} interactions.\\\".format(\\n        len(np.unique((np.array(ppi_adj.iloc[:, :2])).flatten())), len(ppi_adj)\\n    )\\n)\";\n",
       "                var nbb_formatted_code = \"print(\\n    \\\"Interactome consist of {} unique genes and {} interactions.\\\".format(\\n        len(np.unique((np.array(ppi_adj.iloc[:, :2])).flatten())), len(ppi_adj)\\n    )\\n)\";\n",
       "                var nbb_cells = Jupyter.notebook.get_cells();\n",
       "                for (var i = 0; i < nbb_cells.length; ++i) {\n",
       "                    if (nbb_cells[i].input_prompt_number == nbb_cell_id) {\n",
       "                        if (nbb_cells[i].get_text() == nbb_unformatted_code) {\n",
       "                             nbb_cells[i].set_text(nbb_formatted_code);\n",
       "                        }\n",
       "                        break;\n",
       "                    }\n",
       "                }\n",
       "            }, 500);\n",
       "            "
      ],
      "text/plain": [
       "<IPython.core.display.Javascript object>"
      ]
     },
     "metadata": {},
     "output_type": "display_data"
    }
   ],
   "source": [
    "print(\n",
    "    \"Interactome consist of {} unique genes and {} interactions.\".format(\n",
    "        len(np.unique((np.array(ppi_adj.iloc[:, :2])).flatten())), len(ppi_adj)\n",
    "    )\n",
    ")"
   ]
  },
  {
   "cell_type": "markdown",
   "id": "50a8fdd8",
   "metadata": {},
   "source": [
    "The adjacency matrix defines the gene interactions and provides additional scores that are described [here](http://wodaklab.org/iRefWeb/faq). Those scores could be used to filter out e.g. interactions only supported by few publications respectively only shown in high- or medium-throughput studies."
   ]
  },
  {
   "cell_type": "markdown",
   "id": "b508e104",
   "metadata": {},
   "source": [
    "### 1b. Gene expression data"
   ]
  },
  {
   "cell_type": "markdown",
   "id": "f46346ac",
   "metadata": {},
   "source": [
    "Next, we will load the gene expression data that is obtained by a MerFish experiment of U2OS cells from [Xia et al. (2019)](https://www.pnas.org/content/116/39/19490.abstract)."
   ]
  },
  {
   "cell_type": "code",
   "execution_count": 4,
   "id": "9490c1f1",
   "metadata": {},
   "outputs": [
    {
     "data": {
      "text/plain": [
       "('pnas.1912459116.sd12.csv', <http.client.HTTPMessage at 0x7fee264afca0>)"
      ]
     },
     "execution_count": 4,
     "metadata": {},
     "output_type": "execute_result"
    },
    {
     "data": {
      "application/javascript": [
       "\n",
       "            setTimeout(function() {\n",
       "                var nbb_cell_id = 4;\n",
       "                var nbb_unformatted_code = \"url_counts = \\\"https://www.pnas.org/highwire/filestream/887973/field_highwire_adjunct_files/12/pnas.1912459116.sd12.csv\\\"\\nfilename_counts = \\\"pnas.1912459116.sd12.csv\\\"\\nurllib.request.urlretrieve(url_counts, filename_counts)\";\n",
       "                var nbb_formatted_code = \"url_counts = \\\"https://www.pnas.org/highwire/filestream/887973/field_highwire_adjunct_files/12/pnas.1912459116.sd12.csv\\\"\\nfilename_counts = \\\"pnas.1912459116.sd12.csv\\\"\\nurllib.request.urlretrieve(url_counts, filename_counts)\";\n",
       "                var nbb_cells = Jupyter.notebook.get_cells();\n",
       "                for (var i = 0; i < nbb_cells.length; ++i) {\n",
       "                    if (nbb_cells[i].input_prompt_number == nbb_cell_id) {\n",
       "                        if (nbb_cells[i].get_text() == nbb_unformatted_code) {\n",
       "                             nbb_cells[i].set_text(nbb_formatted_code);\n",
       "                        }\n",
       "                        break;\n",
       "                    }\n",
       "                }\n",
       "            }, 500);\n",
       "            "
      ],
      "text/plain": [
       "<IPython.core.display.Javascript object>"
      ]
     },
     "metadata": {},
     "output_type": "display_data"
    }
   ],
   "source": [
    "url_counts = \"https://www.pnas.org/highwire/filestream/887973/field_highwire_adjunct_files/12/pnas.1912459116.sd12.csv\"\n",
    "filename_counts = \"pnas.1912459116.sd12.csv\"\n",
    "urllib.request.urlretrieve(url_counts, filename_counts)"
   ]
  },
  {
   "cell_type": "code",
   "execution_count": 5,
   "id": "c6192935",
   "metadata": {},
   "outputs": [
    {
     "data": {
      "application/javascript": [
       "\n",
       "            setTimeout(function() {\n",
       "                var nbb_cell_id = 5;\n",
       "                var nbb_unformatted_code = \"counts = sc.read_csv(\\\"./pnas.1912459116.sd12.csv\\\").transpose()\";\n",
       "                var nbb_formatted_code = \"counts = sc.read_csv(\\\"./pnas.1912459116.sd12.csv\\\").transpose()\";\n",
       "                var nbb_cells = Jupyter.notebook.get_cells();\n",
       "                for (var i = 0; i < nbb_cells.length; ++i) {\n",
       "                    if (nbb_cells[i].input_prompt_number == nbb_cell_id) {\n",
       "                        if (nbb_cells[i].get_text() == nbb_unformatted_code) {\n",
       "                             nbb_cells[i].set_text(nbb_formatted_code);\n",
       "                        }\n",
       "                        break;\n",
       "                    }\n",
       "                }\n",
       "            }, 500);\n",
       "            "
      ],
      "text/plain": [
       "<IPython.core.display.Javascript object>"
      ]
     },
     "metadata": {},
     "output_type": "display_data"
    }
   ],
   "source": [
    "counts = sc.read_csv(\"./pnas.1912459116.sd12.csv\").transpose()"
   ]
  },
  {
   "cell_type": "code",
   "execution_count": 6,
   "id": "05d39dc2",
   "metadata": {},
   "outputs": [
    {
     "data": {
      "application/javascript": [
       "\n",
       "            setTimeout(function() {\n",
       "                var nbb_cell_id = 6;\n",
       "                var nbb_unformatted_code = \"adata = counts\";\n",
       "                var nbb_formatted_code = \"adata = counts\";\n",
       "                var nbb_cells = Jupyter.notebook.get_cells();\n",
       "                for (var i = 0; i < nbb_cells.length; ++i) {\n",
       "                    if (nbb_cells[i].input_prompt_number == nbb_cell_id) {\n",
       "                        if (nbb_cells[i].get_text() == nbb_unformatted_code) {\n",
       "                             nbb_cells[i].set_text(nbb_formatted_code);\n",
       "                        }\n",
       "                        break;\n",
       "                    }\n",
       "                }\n",
       "            }, 500);\n",
       "            "
      ],
      "text/plain": [
       "<IPython.core.display.Javascript object>"
      ]
     },
     "metadata": {},
     "output_type": "display_data"
    }
   ],
   "source": [
    "adata = counts"
   ]
  },
  {
   "cell_type": "markdown",
   "id": "89ef4c50",
   "metadata": {},
   "source": [
    "The single-cell gene expression data set consists of 1368 cells for which 12903 gene were measured by barcoded RNA-sequences."
   ]
  },
  {
   "cell_type": "markdown",
   "id": "2348a9d8",
   "metadata": {},
   "source": [
    "### 1c. Target gene set"
   ]
  },
  {
   "cell_type": "markdown",
   "id": "867f0b80",
   "metadata": {},
   "source": [
    "Finally, we will load the gene set that defines the overexpression targets of the image-based high-throughput screen of this cell line from [Rohban et al. (2017)](https://elifesciences.org/articles/24060)."
   ]
  },
  {
   "cell_type": "code",
   "execution_count": 7,
   "id": "08272c61",
   "metadata": {},
   "outputs": [
    {
     "data": {
      "application/javascript": [
       "\n",
       "            setTimeout(function() {\n",
       "                var nbb_cell_id = 7;\n",
       "                var nbb_unformatted_code = \"orf_screen_metadata = pd.read_csv(\\n    \\\"/home/daniel/PycharmProjects/image2reg/data/images/metadata/metadata_images.csv\\\"\\n)\";\n",
       "                var nbb_formatted_code = \"orf_screen_metadata = pd.read_csv(\\n    \\\"/home/daniel/PycharmProjects/image2reg/data/images/metadata/metadata_images.csv\\\"\\n)\";\n",
       "                var nbb_cells = Jupyter.notebook.get_cells();\n",
       "                for (var i = 0; i < nbb_cells.length; ++i) {\n",
       "                    if (nbb_cells[i].input_prompt_number == nbb_cell_id) {\n",
       "                        if (nbb_cells[i].get_text() == nbb_unformatted_code) {\n",
       "                             nbb_cells[i].set_text(nbb_formatted_code);\n",
       "                        }\n",
       "                        break;\n",
       "                    }\n",
       "                }\n",
       "            }, 500);\n",
       "            "
      ],
      "text/plain": [
       "<IPython.core.display.Javascript object>"
      ]
     },
     "metadata": {},
     "output_type": "display_data"
    }
   ],
   "source": [
    "orf_screen_metadata = pd.read_csv(\n",
    "    \"/home/daniel/PycharmProjects/image2reg/data/images/metadata/metadata_images.csv\"\n",
    ")"
   ]
  },
  {
   "cell_type": "code",
   "execution_count": 8,
   "id": "4ce4050b",
   "metadata": {},
   "outputs": [
    {
     "data": {
      "text/plain": [
       "190"
      ]
     },
     "execution_count": 8,
     "metadata": {},
     "output_type": "execute_result"
    },
    {
     "data": {
      "application/javascript": [
       "\n",
       "            setTimeout(function() {\n",
       "                var nbb_cell_id = 8;\n",
       "                var nbb_unformatted_code = \"target_genes_orf = set(\\n    np.unique(orf_screen_metadata.loc[:, \\\"Image_Metadata_GeneSymbol\\\"])\\n)\\ncontrols = set([\\\"eGFP\\\", \\\"EMPTY\\\", \\\"LacZ\\\", \\\"Luciferase\\\"])\\ntarget_genes_orf = list(target_genes_orf - controls)\\nlen(target_genes_orf)\";\n",
       "                var nbb_formatted_code = \"target_genes_orf = set(\\n    np.unique(orf_screen_metadata.loc[:, \\\"Image_Metadata_GeneSymbol\\\"])\\n)\\ncontrols = set([\\\"eGFP\\\", \\\"EMPTY\\\", \\\"LacZ\\\", \\\"Luciferase\\\"])\\ntarget_genes_orf = list(target_genes_orf - controls)\\nlen(target_genes_orf)\";\n",
       "                var nbb_cells = Jupyter.notebook.get_cells();\n",
       "                for (var i = 0; i < nbb_cells.length; ++i) {\n",
       "                    if (nbb_cells[i].input_prompt_number == nbb_cell_id) {\n",
       "                        if (nbb_cells[i].get_text() == nbb_unformatted_code) {\n",
       "                             nbb_cells[i].set_text(nbb_formatted_code);\n",
       "                        }\n",
       "                        break;\n",
       "                    }\n",
       "                }\n",
       "            }, 500);\n",
       "            "
      ],
      "text/plain": [
       "<IPython.core.display.Javascript object>"
      ]
     },
     "metadata": {},
     "output_type": "display_data"
    }
   ],
   "source": [
    "target_genes_orf = set(\n",
    "    np.unique(orf_screen_metadata.loc[:, \"Image_Metadata_GeneSymbol\"])\n",
    ")\n",
    "controls = set([\"eGFP\", \"EMPTY\", \"LacZ\", \"Luciferase\"])\n",
    "target_genes_orf = list(target_genes_orf - controls)\n",
    "len(target_genes_orf)"
   ]
  },
  {
   "cell_type": "markdown",
   "id": "d367b7bf",
   "metadata": {},
   "source": [
    "There are 190 genes in that set."
   ]
  },
  {
   "cell_type": "markdown",
   "id": "8cd5166f",
   "metadata": {},
   "source": [
    "---\n",
    "\n",
    "## 2. Preprocessing"
   ]
  },
  {
   "cell_type": "markdown",
   "id": "8532be10",
   "metadata": {},
   "source": [
    "We will now analyze the gene expression data set to identify the most variable genes. We suspect a subset of these genes to explain the structural heterogeneity that we observe for unperturbed U2OS cells. Thus, we will focus on those genes in our analyses."
   ]
  },
  {
   "cell_type": "markdown",
   "id": "b667f913",
   "metadata": {},
   "source": [
    "We will run a classic single-cell gene expression analyses pipeline to identify those genes."
   ]
  },
  {
   "cell_type": "markdown",
   "id": "2274d0b6",
   "metadata": {},
   "source": [
    "We will first filter out cells that express not at least 200 different genes as well as genes that are not expressed in at least 10 cells."
   ]
  },
  {
   "cell_type": "code",
   "execution_count": 9,
   "id": "7399815e",
   "metadata": {},
   "outputs": [
    {
     "data": {
      "application/javascript": [
       "\n",
       "            setTimeout(function() {\n",
       "                var nbb_cell_id = 9;\n",
       "                var nbb_unformatted_code = \"adata.var[\\\"n_cells_per_gene\\\"] = np.sum((np.array(adata.to_df()) > 0), axis=0)\\nadata.obs[\\\"n_genes_per_cell\\\"] = np.sum((np.array(adata.to_df())) > 0, axis=1)\";\n",
       "                var nbb_formatted_code = \"adata.var[\\\"n_cells_per_gene\\\"] = np.sum((np.array(adata.to_df()) > 0), axis=0)\\nadata.obs[\\\"n_genes_per_cell\\\"] = np.sum((np.array(adata.to_df())) > 0, axis=1)\";\n",
       "                var nbb_cells = Jupyter.notebook.get_cells();\n",
       "                for (var i = 0; i < nbb_cells.length; ++i) {\n",
       "                    if (nbb_cells[i].input_prompt_number == nbb_cell_id) {\n",
       "                        if (nbb_cells[i].get_text() == nbb_unformatted_code) {\n",
       "                             nbb_cells[i].set_text(nbb_formatted_code);\n",
       "                        }\n",
       "                        break;\n",
       "                    }\n",
       "                }\n",
       "            }, 500);\n",
       "            "
      ],
      "text/plain": [
       "<IPython.core.display.Javascript object>"
      ]
     },
     "metadata": {},
     "output_type": "display_data"
    }
   ],
   "source": [
    "adata.var[\"n_cells_per_gene\"] = np.sum((np.array(adata.to_df()) > 0), axis=0)\n",
    "adata.obs[\"n_genes_per_cell\"] = np.sum((np.array(adata.to_df())) > 0, axis=1)"
   ]
  },
  {
   "cell_type": "code",
   "execution_count": 10,
   "id": "b6ca7541",
   "metadata": {},
   "outputs": [
    {
     "data": {
      "image/png": "[encoded data removed]",
      "text/plain": [
       "<Figure size 360x360 with 1 Axes>"
      ]
     },
     "metadata": {
      "needs_background": "light"
     },
     "output_type": "display_data"
    },
    {
     "data": {
      "application/javascript": [
       "\n",
       "            setTimeout(function() {\n",
       "                var nbb_cell_id = 10;\n",
       "                var nbb_unformatted_code = \"sns.displot(adata.obs[\\\"n_genes_per_cell\\\"])\\nplt.title(\\\"#Genes expressed per cell\\\")\\nplt.show()\";\n",
       "                var nbb_formatted_code = \"sns.displot(adata.obs[\\\"n_genes_per_cell\\\"])\\nplt.title(\\\"#Genes expressed per cell\\\")\\nplt.show()\";\n",
       "                var nbb_cells = Jupyter.notebook.get_cells();\n",
       "                for (var i = 0; i < nbb_cells.length; ++i) {\n",
       "                    if (nbb_cells[i].input_prompt_number == nbb_cell_id) {\n",
       "                        if (nbb_cells[i].get_text() == nbb_unformatted_code) {\n",
       "                             nbb_cells[i].set_text(nbb_formatted_code);\n",
       "                        }\n",
       "                        break;\n",
       "                    }\n",
       "                }\n",
       "            }, 500);\n",
       "            "
      ],
      "text/plain": [
       "<IPython.core.display.Javascript object>"
      ]
     },
     "metadata": {},
     "output_type": "display_data"
    }
   ],
   "source": [
    "sns.displot(adata.obs[\"n_genes_per_cell\"])\n",
    "plt.title(\"#Genes expressed per cell\")\n",
    "plt.show()"
   ]
  },
  {
   "cell_type": "code",
   "execution_count": 11,
   "id": "4f2757fe",
   "metadata": {},
   "outputs": [
    {
     "data": {
      "image/png": "[encoded data removed]",
      "text/plain": [
       "<Figure size 360x360 with 1 Axes>"
      ]
     },
     "metadata": {
      "needs_background": "light"
     },
     "output_type": "display_data"
    },
    {
     "data": {
      "application/javascript": [
       "\n",
       "            setTimeout(function() {\n",
       "                var nbb_cell_id = 11;\n",
       "                var nbb_unformatted_code = \"sns.displot(adata.var[\\\"n_cells_per_gene\\\"])\\nplt.title(\\\"#Cells expressing a gene\\\")\\nplt.show()\";\n",
       "                var nbb_formatted_code = \"sns.displot(adata.var[\\\"n_cells_per_gene\\\"])\\nplt.title(\\\"#Cells expressing a gene\\\")\\nplt.show()\";\n",
       "                var nbb_cells = Jupyter.notebook.get_cells();\n",
       "                for (var i = 0; i < nbb_cells.length; ++i) {\n",
       "                    if (nbb_cells[i].input_prompt_number == nbb_cell_id) {\n",
       "                        if (nbb_cells[i].get_text() == nbb_unformatted_code) {\n",
       "                             nbb_cells[i].set_text(nbb_formatted_code);\n",
       "                        }\n",
       "                        break;\n",
       "                    }\n",
       "                }\n",
       "            }, 500);\n",
       "            "
      ],
      "text/plain": [
       "<IPython.core.display.Javascript object>"
      ]
     },
     "metadata": {},
     "output_type": "display_data"
    }
   ],
   "source": [
    "sns.displot(adata.var[\"n_cells_per_gene\"])\n",
    "plt.title(\"#Cells expressing a gene\")\n",
    "plt.show()"
   ]
  },
  {
   "cell_type": "markdown",
   "id": "868db707",
   "metadata": {},
   "source": [
    "The above plots show the distributions of how many genes are expressed per cell respectively how many cells express each gene. The plots suggest some basic filtering removing all genes that are not at least expressed in 10 cells. We will not filter out any cells for now as there are no cells that express less than 3000 genes."
   ]
  },
  {
   "cell_type": "code",
   "execution_count": 12,
   "id": "05b75e24",
   "metadata": {},
   "outputs": [
    {
     "data": {
      "text/plain": [
       "View of AnnData object with n_obs × n_vars = 1368 × 12903\n",
       "    obs: 'n_genes_per_cell'\n",
       "    var: 'n_cells_per_gene'"
      ]
     },
     "execution_count": 12,
     "metadata": {},
     "output_type": "execute_result"
    },
    {
     "data": {
      "application/javascript": [
       "\n",
       "            setTimeout(function() {\n",
       "                var nbb_cell_id = 12;\n",
       "                var nbb_unformatted_code = \"adata = adata[:, adata.var.n_cells_per_gene > 10]\\nadata\";\n",
       "                var nbb_formatted_code = \"adata = adata[:, adata.var.n_cells_per_gene > 10]\\nadata\";\n",
       "                var nbb_cells = Jupyter.notebook.get_cells();\n",
       "                for (var i = 0; i < nbb_cells.length; ++i) {\n",
       "                    if (nbb_cells[i].input_prompt_number == nbb_cell_id) {\n",
       "                        if (nbb_cells[i].get_text() == nbb_unformatted_code) {\n",
       "                             nbb_cells[i].set_text(nbb_formatted_code);\n",
       "                        }\n",
       "                        break;\n",
       "                    }\n",
       "                }\n",
       "            }, 500);\n",
       "            "
      ],
      "text/plain": [
       "<IPython.core.display.Javascript object>"
      ]
     },
     "metadata": {},
     "output_type": "display_data"
    }
   ],
   "source": [
    "adata = adata[:, adata.var.n_cells_per_gene > 10]\n",
    "adata"
   ]
  },
  {
   "cell_type": "markdown",
   "id": "d4dabfc3",
   "metadata": {},
   "source": [
    "We see that there are in fact no genes that fails this filtering step. We will now normalize the data to account for unequal sequencing depth and log1p transform the data."
   ]
  },
  {
   "cell_type": "code",
   "execution_count": 13,
   "id": "9e31d991",
   "metadata": {},
   "outputs": [
    {
     "name": "stderr",
     "output_type": "stream",
     "text": [
      "/usr/share/miniconda3/envs/image2reg/lib/python3.8/site-packages/scanpy/preprocessing/_normalization.py:138: UserWarning: Revieved a view of an AnnData. Making a copy.\n",
      "  view_to_actual(adata)\n"
     ]
    },
    {
     "data": {
      "application/javascript": [
       "\n",
       "            setTimeout(function() {\n",
       "                var nbb_cell_id = 13;\n",
       "                var nbb_unformatted_code = \"sc.pp.normalize_total(adata, target_sum=1e6)\";\n",
       "                var nbb_formatted_code = \"sc.pp.normalize_total(adata, target_sum=1e6)\";\n",
       "                var nbb_cells = Jupyter.notebook.get_cells();\n",
       "                for (var i = 0; i < nbb_cells.length; ++i) {\n",
       "                    if (nbb_cells[i].input_prompt_number == nbb_cell_id) {\n",
       "                        if (nbb_cells[i].get_text() == nbb_unformatted_code) {\n",
       "                             nbb_cells[i].set_text(nbb_formatted_code);\n",
       "                        }\n",
       "                        break;\n",
       "                    }\n",
       "                }\n",
       "            }, 500);\n",
       "            "
      ],
      "text/plain": [
       "<IPython.core.display.Javascript object>"
      ]
     },
     "metadata": {},
     "output_type": "display_data"
    }
   ],
   "source": [
    "sc.pp.normalize_total(adata, target_sum=1e6)"
   ]
  },
  {
   "cell_type": "code",
   "execution_count": 14,
   "id": "278ad8e8",
   "metadata": {},
   "outputs": [
    {
     "data": {
      "application/javascript": [
       "\n",
       "            setTimeout(function() {\n",
       "                var nbb_cell_id = 14;\n",
       "                var nbb_unformatted_code = \"sc.pp.log1p(adata)\";\n",
       "                var nbb_formatted_code = \"sc.pp.log1p(adata)\";\n",
       "                var nbb_cells = Jupyter.notebook.get_cells();\n",
       "                for (var i = 0; i < nbb_cells.length; ++i) {\n",
       "                    if (nbb_cells[i].input_prompt_number == nbb_cell_id) {\n",
       "                        if (nbb_cells[i].get_text() == nbb_unformatted_code) {\n",
       "                             nbb_cells[i].set_text(nbb_formatted_code);\n",
       "                        }\n",
       "                        break;\n",
       "                    }\n",
       "                }\n",
       "            }, 500);\n",
       "            "
      ],
      "text/plain": [
       "<IPython.core.display.Javascript object>"
      ]
     },
     "metadata": {},
     "output_type": "display_data"
    }
   ],
   "source": [
    "sc.pp.log1p(adata)"
   ]
  },
  {
   "cell_type": "markdown",
   "id": "ee8c5295",
   "metadata": {},
   "source": [
    "To identify the highly variable genes using the method described in [Stuart et al. (2019)](https://www.sciencedirect.com/science/article/pii/S0092867419305598). Thereby, the highly variable genes are selected by ranking them according to their variance after transforming the raw data by z-scoring it and scaling it with a regularized standard deviation. We select the 300 most variable genes to limit the complexity of the downstream analyses."
   ]
  },
  {
   "cell_type": "code",
   "execution_count": 15,
   "id": "e06e7d7c",
   "metadata": {},
   "outputs": [
    {
     "name": "stderr",
     "output_type": "stream",
     "text": [
      "/usr/share/miniconda3/envs/image2reg/lib/python3.8/site-packages/scanpy/preprocessing/_highly_variable_genes.py:62: UserWarning: `flavor='seurat_v3'` expects raw count data, but non-integers were found.\n",
      "  warnings.warn(\n"
     ]
    },
    {
     "data": {
      "application/javascript": [
       "\n",
       "            setTimeout(function() {\n",
       "                var nbb_cell_id = 15;\n",
       "                var nbb_unformatted_code = \"sc.pp.highly_variable_genes(adata, n_top_genes=300, flavor=\\\"seurat_v3\\\")\";\n",
       "                var nbb_formatted_code = \"sc.pp.highly_variable_genes(adata, n_top_genes=300, flavor=\\\"seurat_v3\\\")\";\n",
       "                var nbb_cells = Jupyter.notebook.get_cells();\n",
       "                for (var i = 0; i < nbb_cells.length; ++i) {\n",
       "                    if (nbb_cells[i].input_prompt_number == nbb_cell_id) {\n",
       "                        if (nbb_cells[i].get_text() == nbb_unformatted_code) {\n",
       "                             nbb_cells[i].set_text(nbb_formatted_code);\n",
       "                        }\n",
       "                        break;\n",
       "                    }\n",
       "                }\n",
       "            }, 500);\n",
       "            "
      ],
      "text/plain": [
       "<IPython.core.display.Javascript object>"
      ]
     },
     "metadata": {},
     "output_type": "display_data"
    }
   ],
   "source": [
    "sc.pp.highly_variable_genes(adata, n_top_genes=300, flavor=\"seurat_v3\")"
   ]
  },
  {
   "cell_type": "code",
   "execution_count": 16,
   "id": "938dbb93",
   "metadata": {},
   "outputs": [
    {
     "data": {
      "application/javascript": [
       "\n",
       "            setTimeout(function() {\n",
       "                var nbb_cell_id = 16;\n",
       "                var nbb_unformatted_code = \"adata.raw = adata\\nadata = adata[:, adata.var.highly_variable]\";\n",
       "                var nbb_formatted_code = \"adata.raw = adata\\nadata = adata[:, adata.var.highly_variable]\";\n",
       "                var nbb_cells = Jupyter.notebook.get_cells();\n",
       "                for (var i = 0; i < nbb_cells.length; ++i) {\n",
       "                    if (nbb_cells[i].input_prompt_number == nbb_cell_id) {\n",
       "                        if (nbb_cells[i].get_text() == nbb_unformatted_code) {\n",
       "                             nbb_cells[i].set_text(nbb_formatted_code);\n",
       "                        }\n",
       "                        break;\n",
       "                    }\n",
       "                }\n",
       "            }, 500);\n",
       "            "
      ],
      "text/plain": [
       "<IPython.core.display.Javascript object>"
      ]
     },
     "metadata": {},
     "output_type": "display_data"
    }
   ],
   "source": [
    "adata.raw = adata\n",
    "adata = adata[:, adata.var.highly_variable]"
   ]
  },
  {
   "cell_type": "markdown",
   "id": "59150528",
   "metadata": {},
   "source": [
    "The highly variable genes are the following."
   ]
  },
  {
   "cell_type": "code",
   "execution_count": 17,
   "id": "81d6103d",
   "metadata": {},
   "outputs": [
    {
     "data": {
      "text/plain": [
       "{'ABI2',\n",
       " 'ADAMTS12',\n",
       " 'ADGRL2',\n",
       " 'ADRA1B',\n",
       " 'AGRN',\n",
       " 'AHNAK2',\n",
       " 'ALPK2',\n",
       " 'ALPP',\n",
       " 'ANKRD1',\n",
       " 'ANKRD36',\n",
       " 'ANO2',\n",
       " 'ANOS1',\n",
       " 'ANXA2',\n",
       " 'ANXA8L1',\n",
       " 'AQP1',\n",
       " 'ARHGAP29',\n",
       " 'ARID5B',\n",
       " 'ASPM',\n",
       " 'BCAT1',\n",
       " 'BHLHE40',\n",
       " 'BMP4',\n",
       " 'BMP5',\n",
       " 'BMS1P1',\n",
       " 'BORA',\n",
       " 'BRIP1',\n",
       " 'BTG2',\n",
       " 'BUB1B',\n",
       " 'C1orf198',\n",
       " 'CADM4',\n",
       " 'CALM2',\n",
       " 'CAMK2N1',\n",
       " 'CAV1',\n",
       " 'CCDC14',\n",
       " 'CCDC144NL',\n",
       " 'CCND2',\n",
       " 'CCNF',\n",
       " 'CD274',\n",
       " 'CD44',\n",
       " 'CDC20',\n",
       " 'CDC25A',\n",
       " 'CDC6',\n",
       " 'CDH4',\n",
       " 'CDKN2C',\n",
       " 'CENPF',\n",
       " 'CENPI',\n",
       " 'CGN',\n",
       " 'CITED2',\n",
       " 'CKAP2',\n",
       " 'CKAP2L',\n",
       " 'CLDN1',\n",
       " 'COL12A1',\n",
       " 'COL8A1',\n",
       " 'CORO1C',\n",
       " 'CREB5',\n",
       " 'CRMP1',\n",
       " 'CSDC2',\n",
       " 'CTGF',\n",
       " 'DCAF12L1',\n",
       " 'DCBLD1',\n",
       " 'DCBLD2',\n",
       " 'DCHS2',\n",
       " 'DCLK1',\n",
       " 'DDIT4',\n",
       " 'DDX17',\n",
       " 'DDX39B',\n",
       " 'DHRS2',\n",
       " 'DHRS3',\n",
       " 'DLGAP5',\n",
       " 'DPY19L2P1',\n",
       " 'DSCC1',\n",
       " 'DTL',\n",
       " 'DUSP1',\n",
       " 'DUSP5',\n",
       " 'DYNC1LI2',\n",
       " 'E2F1',\n",
       " 'E2F2',\n",
       " 'EDA2R',\n",
       " 'EDN1',\n",
       " 'EFEMP1',\n",
       " 'EFR3B',\n",
       " 'EGFR',\n",
       " 'ELFN1',\n",
       " 'EMP1',\n",
       " 'ENC1',\n",
       " 'ENDOD1',\n",
       " 'ENG',\n",
       " 'EPAS1',\n",
       " 'EPB41L2',\n",
       " 'EPHA2',\n",
       " 'ERRFI1',\n",
       " 'F2R',\n",
       " 'FAM111B',\n",
       " 'FAM20C',\n",
       " 'FAM212B',\n",
       " 'FAM46B',\n",
       " 'FAR2P2',\n",
       " 'FASN',\n",
       " 'FBXO5',\n",
       " 'FGF5',\n",
       " 'FLNB',\n",
       " 'FRMD5',\n",
       " 'FSTL1',\n",
       " 'FUCA1',\n",
       " 'GABARAPL1',\n",
       " 'GALC',\n",
       " 'GAS2L3',\n",
       " 'GLRB',\n",
       " 'GPC1',\n",
       " 'GPC4',\n",
       " 'GPRC5A',\n",
       " 'GPSM2',\n",
       " 'GSG1',\n",
       " 'GTSE1',\n",
       " 'H1F0',\n",
       " 'HBEGF',\n",
       " 'HDAC5',\n",
       " 'HEG1',\n",
       " 'HES1',\n",
       " 'HIST1H2AG',\n",
       " 'HIST2H2BE',\n",
       " 'HK2',\n",
       " 'HOXB9',\n",
       " 'HSPA5',\n",
       " 'IDI1',\n",
       " 'IL2RB',\n",
       " 'IL7R',\n",
       " 'INHBA',\n",
       " 'INSIG1',\n",
       " 'IRS1',\n",
       " 'ITGA2',\n",
       " 'ITGA3',\n",
       " 'ITGA6',\n",
       " 'JAG1',\n",
       " 'JUN',\n",
       " 'KIF11',\n",
       " 'KIF14',\n",
       " 'KIF18A',\n",
       " 'KIF2C',\n",
       " 'KIFC1',\n",
       " 'KITLG',\n",
       " 'KLF10',\n",
       " 'KLF5',\n",
       " 'KLF6',\n",
       " 'KRT75',\n",
       " 'LAMB3',\n",
       " 'LBH',\n",
       " 'LCP1',\n",
       " 'LDLR',\n",
       " 'LENG8',\n",
       " 'LIF',\n",
       " 'LIMCH1',\n",
       " 'LOX',\n",
       " 'LOXL2',\n",
       " 'LOXL4',\n",
       " 'LRRN1',\n",
       " 'LSS',\n",
       " 'LTBP2',\n",
       " 'LUCAT1',\n",
       " 'MALAT1',\n",
       " 'MAOA',\n",
       " 'MARCH4',\n",
       " 'MCAM',\n",
       " 'MCM10',\n",
       " 'MCM6',\n",
       " 'MDM2',\n",
       " 'MET',\n",
       " 'MFAP5',\n",
       " 'MFGE8',\n",
       " 'MISP',\n",
       " 'MITF',\n",
       " 'MKI67P1',\n",
       " 'MMD',\n",
       " 'MMP14',\n",
       " 'MMP24',\n",
       " 'MTCL1',\n",
       " 'MYBL1',\n",
       " 'MYO18B',\n",
       " 'NASP',\n",
       " 'NAV2',\n",
       " 'NAV3',\n",
       " 'NCAPG',\n",
       " 'NCF2',\n",
       " 'NEIL3',\n",
       " 'NES',\n",
       " 'NEURL1B',\n",
       " 'NFYA',\n",
       " 'NOV',\n",
       " 'NR1D2',\n",
       " 'NRP1',\n",
       " 'NUAK1',\n",
       " 'NXN',\n",
       " 'OGT',\n",
       " 'P3H2',\n",
       " 'PABPC1L',\n",
       " 'PAQR4',\n",
       " 'PARD6G',\n",
       " 'PCNAP3',\n",
       " 'PCOLCE',\n",
       " 'PDGFRB',\n",
       " 'PDIA4',\n",
       " 'PGM5',\n",
       " 'PHGDH',\n",
       " 'PHLDB2',\n",
       " 'PIF1',\n",
       " 'PIM1',\n",
       " 'PKM',\n",
       " 'PLAGL1',\n",
       " 'PLAU',\n",
       " 'PLK2',\n",
       " 'PMEPA1',\n",
       " 'PODXL',\n",
       " 'POLR2J3',\n",
       " 'POLR3G',\n",
       " 'POTEI',\n",
       " 'PPAP2B',\n",
       " 'PRICKLE1',\n",
       " 'PSAT1P1',\n",
       " 'PTK2',\n",
       " 'PTPRM',\n",
       " 'PWAR5',\n",
       " 'RASSF3',\n",
       " 'RBM25',\n",
       " 'RBM5',\n",
       " 'RMI2',\n",
       " 'RTKN2',\n",
       " 'RUNX1',\n",
       " 'SAMD4A',\n",
       " 'SAPCD2',\n",
       " 'SCARA3',\n",
       " 'SCEL',\n",
       " 'SDC1',\n",
       " 'SDPR',\n",
       " 'SEMA3C',\n",
       " 'SEMA3E',\n",
       " 'SEMA3F',\n",
       " 'SEMA7A',\n",
       " 'SERPINE1',\n",
       " 'SESN2',\n",
       " 'SFPQ',\n",
       " 'SGOL2',\n",
       " 'SKIL',\n",
       " 'SLC1A3',\n",
       " 'SLC1A4',\n",
       " 'SLC2A1',\n",
       " 'SLC39A14',\n",
       " 'SLC7A11',\n",
       " 'SLC7A2',\n",
       " 'SLC7A5',\n",
       " 'SNAI2',\n",
       " 'SNHG17',\n",
       " 'SNX8',\n",
       " 'SOCS3',\n",
       " 'SOGA1',\n",
       " 'SOX9',\n",
       " 'SPC25',\n",
       " 'SREBF2',\n",
       " 'SRPX2',\n",
       " 'SRSF10',\n",
       " 'SSR3',\n",
       " 'ST3GAL1',\n",
       " 'STMN1',\n",
       " 'SYNE2',\n",
       " 'TAF1D',\n",
       " 'TBC1D8',\n",
       " 'TCF19',\n",
       " 'TGFA',\n",
       " 'TGFB2',\n",
       " 'TGM2',\n",
       " 'THBS1',\n",
       " 'TICRR',\n",
       " 'TIGAR',\n",
       " 'TIMP3',\n",
       " 'TLR4',\n",
       " 'TNFAIP8L1',\n",
       " 'TNFRSF21',\n",
       " 'TNS3',\n",
       " 'TOP2A',\n",
       " 'TPM1',\n",
       " 'TPX2',\n",
       " 'TRIB1',\n",
       " 'TTK',\n",
       " 'TUFT1',\n",
       " 'TXNIP',\n",
       " 'UCA1',\n",
       " 'UNG',\n",
       " 'VEGFC',\n",
       " 'VGF',\n",
       " 'VGLL3',\n",
       " 'VMP1',\n",
       " 'WDR76',\n",
       " 'WEE1',\n",
       " 'ZFP14',\n",
       " 'ZFP30',\n",
       " 'ZFP36L2',\n",
       " 'ZFP82',\n",
       " 'ZNF283',\n",
       " 'ZNF367',\n",
       " 'ZNF395',\n",
       " 'ZNF404',\n",
       " 'ZNF608'}"
      ]
     },
     "execution_count": 17,
     "metadata": {},
     "output_type": "execute_result"
    },
    {
     "data": {
      "application/javascript": [
       "\n",
       "            setTimeout(function() {\n",
       "                var nbb_cell_id = 17;\n",
       "                var nbb_unformatted_code = \"variable_genes = set(adata.var_names)\\nvariable_genes\";\n",
       "                var nbb_formatted_code = \"variable_genes = set(adata.var_names)\\nvariable_genes\";\n",
       "                var nbb_cells = Jupyter.notebook.get_cells();\n",
       "                for (var i = 0; i < nbb_cells.length; ++i) {\n",
       "                    if (nbb_cells[i].input_prompt_number == nbb_cell_id) {\n",
       "                        if (nbb_cells[i].get_text() == nbb_unformatted_code) {\n",
       "                             nbb_cells[i].set_text(nbb_formatted_code);\n",
       "                        }\n",
       "                        break;\n",
       "                    }\n",
       "                }\n",
       "            }, 500);\n",
       "            "
      ],
      "text/plain": [
       "<IPython.core.display.Javascript object>"
      ]
     },
     "metadata": {},
     "output_type": "display_data"
    }
   ],
   "source": [
    "variable_genes = set(adata.var_names)\n",
    "variable_genes"
   ]
  },
  {
   "cell_type": "markdown",
   "id": "89abb6da",
   "metadata": {},
   "source": [
    "The intersection of those with our gene targets spans only 9 genes. Importantly, however all 12k genes that were orginally measured only include 120 of the 190 targets of the ORF screen."
   ]
  },
  {
   "cell_type": "code",
   "execution_count": 18,
   "id": "9236c419",
   "metadata": {},
   "outputs": [
    {
     "data": {
      "text/plain": [
       "{'DDIT4', 'DUSP1', 'E2F1', 'HSPA5', 'IRS1', 'JAG1', 'JUN', 'SOCS3', 'VEGFC'}"
      ]
     },
     "execution_count": 18,
     "metadata": {},
     "output_type": "execute_result"
    },
    {
     "data": {
      "application/javascript": [
       "\n",
       "            setTimeout(function() {\n",
       "                var nbb_cell_id = 18;\n",
       "                var nbb_unformatted_code = \"variable_genes.intersection(target_genes_orf)\";\n",
       "                var nbb_formatted_code = \"variable_genes.intersection(target_genes_orf)\";\n",
       "                var nbb_cells = Jupyter.notebook.get_cells();\n",
       "                for (var i = 0; i < nbb_cells.length; ++i) {\n",
       "                    if (nbb_cells[i].input_prompt_number == nbb_cell_id) {\n",
       "                        if (nbb_cells[i].get_text() == nbb_unformatted_code) {\n",
       "                             nbb_cells[i].set_text(nbb_formatted_code);\n",
       "                        }\n",
       "                        break;\n",
       "                    }\n",
       "                }\n",
       "            }, 500);\n",
       "            "
      ],
      "text/plain": [
       "<IPython.core.display.Javascript object>"
      ]
     },
     "metadata": {},
     "output_type": "display_data"
    }
   ],
   "source": [
    "variable_genes.intersection(target_genes_orf)"
   ]
  },
  {
   "cell_type": "markdown",
   "id": "950134ad",
   "metadata": {},
   "source": [
    "Since we want to include all target genes in the induced subgraph that describes the interactome of U2OS cells, we will refine the PPI by subsetting it to the interactions between any of the 300 most variable genes and the 190 ORF targets. This final gene set consists of 481 genes."
   ]
  },
  {
   "cell_type": "code",
   "execution_count": 19,
   "id": "46d2f4ee",
   "metadata": {},
   "outputs": [
    {
     "data": {
      "text/plain": [
       "481"
      ]
     },
     "execution_count": 19,
     "metadata": {},
     "output_type": "execute_result"
    },
    {
     "data": {
      "application/javascript": [
       "\n",
       "            setTimeout(function() {\n",
       "                var nbb_cell_id = 19;\n",
       "                var nbb_unformatted_code = \"u2os_geneset = variable_genes.union(target_genes_orf)\\nlen(u2os_geneset)\";\n",
       "                var nbb_formatted_code = \"u2os_geneset = variable_genes.union(target_genes_orf)\\nlen(u2os_geneset)\";\n",
       "                var nbb_cells = Jupyter.notebook.get_cells();\n",
       "                for (var i = 0; i < nbb_cells.length; ++i) {\n",
       "                    if (nbb_cells[i].input_prompt_number == nbb_cell_id) {\n",
       "                        if (nbb_cells[i].get_text() == nbb_unformatted_code) {\n",
       "                             nbb_cells[i].set_text(nbb_formatted_code);\n",
       "                        }\n",
       "                        break;\n",
       "                    }\n",
       "                }\n",
       "            }, 500);\n",
       "            "
      ],
      "text/plain": [
       "<IPython.core.display.Javascript object>"
      ]
     },
     "metadata": {},
     "output_type": "display_data"
    }
   ],
   "source": [
    "u2os_geneset = variable_genes.union(target_genes_orf)\n",
    "len(u2os_geneset)"
   ]
  },
  {
   "cell_type": "markdown",
   "id": "3d017126",
   "metadata": {},
   "source": [
    "---\n",
    "\n",
    "## 3. Protein-Protein Interaction network analyses"
   ]
  },
  {
   "cell_type": "markdown",
   "id": "dea5fa99",
   "metadata": {},
   "source": [
    "### 3a. Visualization"
   ]
  },
  {
   "cell_type": "markdown",
   "id": "50da095d",
   "metadata": {},
   "source": [
    "We will derive the subgraph of the human interactome spanning the 481 genes that we previously identified as being highly variable and/or part of the 190 genes that were targeted by the ORF screen."
   ]
  },
  {
   "cell_type": "code",
   "execution_count": 20,
   "id": "18d5d4ea",
   "metadata": {},
   "outputs": [
    {
     "data": {
      "application/javascript": [
       "\n",
       "            setTimeout(function() {\n",
       "                var nbb_cell_id = 20;\n",
       "                var nbb_unformatted_code = \"edgelist = np.array(ppi_adj.iloc[:, :2])\\nhuman_interactome = nx.from_edgelist(edgelist)\";\n",
       "                var nbb_formatted_code = \"edgelist = np.array(ppi_adj.iloc[:, :2])\\nhuman_interactome = nx.from_edgelist(edgelist)\";\n",
       "                var nbb_cells = Jupyter.notebook.get_cells();\n",
       "                for (var i = 0; i < nbb_cells.length; ++i) {\n",
       "                    if (nbb_cells[i].input_prompt_number == nbb_cell_id) {\n",
       "                        if (nbb_cells[i].get_text() == nbb_unformatted_code) {\n",
       "                             nbb_cells[i].set_text(nbb_formatted_code);\n",
       "                        }\n",
       "                        break;\n",
       "                    }\n",
       "                }\n",
       "            }, 500);\n",
       "            "
      ],
      "text/plain": [
       "<IPython.core.display.Javascript object>"
      ]
     },
     "metadata": {},
     "output_type": "display_data"
    }
   ],
   "source": [
    "edgelist = np.array(ppi_adj.iloc[:, :2])\n",
    "human_interactome = nx.from_edgelist(edgelist)"
   ]
  },
  {
   "cell_type": "markdown",
   "id": "7d2844bf",
   "metadata": {},
   "source": [
    "We find that that there is one gene target of the ORF screen that is not in the set of proteins describing the human interactome as defined by the iRefIndex database v17. This gene is MEK1."
   ]
  },
  {
   "cell_type": "code",
   "execution_count": 21,
   "id": "e2ecbffc",
   "metadata": {},
   "outputs": [
    {
     "data": {
      "text/plain": [
       "{'MEK1'}"
      ]
     },
     "execution_count": 21,
     "metadata": {},
     "output_type": "execute_result"
    },
    {
     "data": {
      "application/javascript": [
       "\n",
       "            setTimeout(function() {\n",
       "                var nbb_cell_id = 21;\n",
       "                var nbb_unformatted_code = \"set(target_genes_orf) - set(human_interactome.nodes)\";\n",
       "                var nbb_formatted_code = \"set(target_genes_orf) - set(human_interactome.nodes)\";\n",
       "                var nbb_cells = Jupyter.notebook.get_cells();\n",
       "                for (var i = 0; i < nbb_cells.length; ++i) {\n",
       "                    if (nbb_cells[i].input_prompt_number == nbb_cell_id) {\n",
       "                        if (nbb_cells[i].get_text() == nbb_unformatted_code) {\n",
       "                             nbb_cells[i].set_text(nbb_formatted_code);\n",
       "                        }\n",
       "                        break;\n",
       "                    }\n",
       "                }\n",
       "            }, 500);\n",
       "            "
      ],
      "text/plain": [
       "<IPython.core.display.Javascript object>"
      ]
     },
     "metadata": {},
     "output_type": "display_data"
    }
   ],
   "source": [
    "set(target_genes_orf) - set(human_interactome.nodes)"
   ]
  },
  {
   "cell_type": "markdown",
   "id": "8712caae",
   "metadata": {},
   "source": [
    "We will now derive the subgraph that defines the subset of the highly variable genes and the ORF targets."
   ]
  },
  {
   "cell_type": "code",
   "execution_count": 44,
   "id": "94a1aba1",
   "metadata": {},
   "outputs": [
    {
     "data": {
      "application/javascript": [
       "\n",
       "            setTimeout(function() {\n",
       "                var nbb_cell_id = 44;\n",
       "                var nbb_unformatted_code = \"u2os_interactome = human_interactome.subgraph(list(u2os_geneset))\\nselfloops = nx.selfloop_edges(u2os_interactome)\\nu2os_interactome = u2os_interactome.copy()\";\n",
       "                var nbb_formatted_code = \"u2os_interactome = human_interactome.subgraph(list(u2os_geneset))\\nselfloops = nx.selfloop_edges(u2os_interactome)\\nu2os_interactome = u2os_interactome.copy()\";\n",
       "                var nbb_cells = Jupyter.notebook.get_cells();\n",
       "                for (var i = 0; i < nbb_cells.length; ++i) {\n",
       "                    if (nbb_cells[i].input_prompt_number == nbb_cell_id) {\n",
       "                        if (nbb_cells[i].get_text() == nbb_unformatted_code) {\n",
       "                             nbb_cells[i].set_text(nbb_formatted_code);\n",
       "                        }\n",
       "                        break;\n",
       "                    }\n",
       "                }\n",
       "            }, 500);\n",
       "            "
      ],
      "text/plain": [
       "<IPython.core.display.Javascript object>"
      ]
     },
     "metadata": {},
     "output_type": "display_data"
    }
   ],
   "source": [
    "u2os_interactome = human_interactome.subgraph(list(u2os_geneset))\n",
    "selfloops = nx.selfloop_edges(u2os_interactome)\n",
    "u2os_interactome = u2os_interactome.copy()"
   ]
  },
  {
   "cell_type": "markdown",
   "id": "0f129828",
   "metadata": {},
   "source": [
    "We remove the self-loops."
   ]
  },
  {
   "cell_type": "code",
   "execution_count": 46,
   "id": "297de120",
   "metadata": {},
   "outputs": [
    {
     "data": {
      "application/javascript": [
       "\n",
       "            setTimeout(function() {\n",
       "                var nbb_cell_id = 46;\n",
       "                var nbb_unformatted_code = \"u2os_interactome.remove_edges_from(list(selfloops))\";\n",
       "                var nbb_formatted_code = \"u2os_interactome.remove_edges_from(list(selfloops))\";\n",
       "                var nbb_cells = Jupyter.notebook.get_cells();\n",
       "                for (var i = 0; i < nbb_cells.length; ++i) {\n",
       "                    if (nbb_cells[i].input_prompt_number == nbb_cell_id) {\n",
       "                        if (nbb_cells[i].get_text() == nbb_unformatted_code) {\n",
       "                             nbb_cells[i].set_text(nbb_formatted_code);\n",
       "                        }\n",
       "                        break;\n",
       "                    }\n",
       "                }\n",
       "            }, 500);\n",
       "            "
      ],
      "text/plain": [
       "<IPython.core.display.Javascript object>"
      ]
     },
     "metadata": {},
     "output_type": "display_data"
    }
   ],
   "source": [
    "u2os_interactome.remove_edges_from(list(selfloops))"
   ]
  },
  {
   "cell_type": "code",
   "execution_count": 47,
   "id": "bba59454",
   "metadata": {},
   "outputs": [
    {
     "name": "stdout",
     "output_type": "stream",
     "text": [
      "The subgraph consists of 451 nodes and 2619 edges.\n"
     ]
    },
    {
     "data": {
      "application/javascript": [
       "\n",
       "            setTimeout(function() {\n",
       "                var nbb_cell_id = 47;\n",
       "                var nbb_unformatted_code = \"print(\\n    \\\"The subgraph consists of {} nodes and {} edges.\\\".format(\\n        len(u2os_interactome.nodes), len(u2os_interactome.edges)\\n    )\\n)\";\n",
       "                var nbb_formatted_code = \"print(\\n    \\\"The subgraph consists of {} nodes and {} edges.\\\".format(\\n        len(u2os_interactome.nodes), len(u2os_interactome.edges)\\n    )\\n)\";\n",
       "                var nbb_cells = Jupyter.notebook.get_cells();\n",
       "                for (var i = 0; i < nbb_cells.length; ++i) {\n",
       "                    if (nbb_cells[i].input_prompt_number == nbb_cell_id) {\n",
       "                        if (nbb_cells[i].get_text() == nbb_unformatted_code) {\n",
       "                             nbb_cells[i].set_text(nbb_formatted_code);\n",
       "                        }\n",
       "                        break;\n",
       "                    }\n",
       "                }\n",
       "            }, 500);\n",
       "            "
      ],
      "text/plain": [
       "<IPython.core.display.Javascript object>"
      ]
     },
     "metadata": {},
     "output_type": "display_data"
    }
   ],
   "source": [
    "print(\n",
    "    \"The subgraph consists of {} nodes and {} edges.\".format(\n",
    "        len(u2os_interactome.nodes), len(u2os_interactome.edges)\n",
    "    )\n",
    ")"
   ]
  },
  {
   "cell_type": "code",
   "execution_count": 48,
   "id": "e2a1c63e",
   "metadata": {},
   "outputs": [
    {
     "name": "stdout",
     "output_type": "stream",
     "text": [
      "Name: \n",
      "Type: Graph\n",
      "Number of nodes: 451\n",
      "Number of edges: 2619\n",
      "Average degree:  11.6142\n"
     ]
    },
    {
     "data": {
      "application/javascript": [
       "\n",
       "            setTimeout(function() {\n",
       "                var nbb_cell_id = 48;\n",
       "                var nbb_unformatted_code = \"print(nx.info(u2os_interactome))\";\n",
       "                var nbb_formatted_code = \"print(nx.info(u2os_interactome))\";\n",
       "                var nbb_cells = Jupyter.notebook.get_cells();\n",
       "                for (var i = 0; i < nbb_cells.length; ++i) {\n",
       "                    if (nbb_cells[i].input_prompt_number == nbb_cell_id) {\n",
       "                        if (nbb_cells[i].get_text() == nbb_unformatted_code) {\n",
       "                             nbb_cells[i].set_text(nbb_formatted_code);\n",
       "                        }\n",
       "                        break;\n",
       "                    }\n",
       "                }\n",
       "            }, 500);\n",
       "            "
      ],
      "text/plain": [
       "<IPython.core.display.Javascript object>"
      ]
     },
     "metadata": {},
     "output_type": "display_data"
    }
   ],
   "source": [
    "print(nx.info(u2os_interactome))"
   ]
  },
  {
   "cell_type": "markdown",
   "id": "d9a8bb2d",
   "metadata": {},
   "source": [
    "We see that the subgraph actually only contains 451 of the 481 genes. A possible explanation could be that a) have not been yet studied with respect to their possible interactions, b) the genes were renamed or the corresponding protein name does not 1-to-1 corresponds to the name of the gene."
   ]
  },
  {
   "cell_type": "code",
   "execution_count": 54,
   "id": "26582811",
   "metadata": {},
   "outputs": [
    {
     "name": "stdout",
     "output_type": "stream",
     "text": [
      "The interactome consists of 68 connected components.\n"
     ]
    },
    {
     "data": {
      "application/javascript": [
       "\n",
       "            setTimeout(function() {\n",
       "                var nbb_cell_id = 54;\n",
       "                var nbb_unformatted_code = \"print(\\n    \\\"The interactome consists of {} connected components.\\\".format(\\n        nx.number_connected_components(u2os_interactome)\\n    )\\n)\";\n",
       "                var nbb_formatted_code = \"print(\\n    \\\"The interactome consists of {} connected components.\\\".format(\\n        nx.number_connected_components(u2os_interactome)\\n    )\\n)\";\n",
       "                var nbb_cells = Jupyter.notebook.get_cells();\n",
       "                for (var i = 0; i < nbb_cells.length; ++i) {\n",
       "                    if (nbb_cells[i].input_prompt_number == nbb_cell_id) {\n",
       "                        if (nbb_cells[i].get_text() == nbb_unformatted_code) {\n",
       "                             nbb_cells[i].set_text(nbb_formatted_code);\n",
       "                        }\n",
       "                        break;\n",
       "                    }\n",
       "                }\n",
       "            }, 500);\n",
       "            "
      ],
      "text/plain": [
       "<IPython.core.display.Javascript object>"
      ]
     },
     "metadata": {},
     "output_type": "display_data"
    }
   ],
   "source": [
    "print(\n",
    "    \"The interactome consists of {} connected components.\".format(\n",
    "        nx.number_connected_components(u2os_interactome)\n",
    "    )\n",
    ")"
   ]
  },
  {
   "cell_type": "markdown",
   "id": "55499af0",
   "metadata": {},
   "source": [
    "Out of these connected components one consist of 383 nodes, one of 2 nodes and the remaining ones are singeltons. Importantly, only 3 of the genes of targets of the ORF screen are not part of the largest connected component (one is not featured at all as it is not part of the vertices of the human interactome)."
   ]
  },
  {
   "cell_type": "code",
   "execution_count": 58,
   "id": "aaea3949",
   "metadata": {
    "scrolled": true
   },
   "outputs": [
    {
     "data": {
      "text/plain": [
       "186"
      ]
     },
     "execution_count": 58,
     "metadata": {},
     "output_type": "execute_result"
    },
    {
     "data": {
      "application/javascript": [
       "\n",
       "            setTimeout(function() {\n",
       "                var nbb_cell_id = 58;\n",
       "                var nbb_unformatted_code = \"connected_components = [\\n    c\\n    for c in sorted(nx.connected_components(u2os_interactome), key=len, reverse=True)\\n]\\n\\nlargest_connected_component = connected_components[0]\\nlen(set(largest_connected_component).intersection(target_genes_orf))\";\n",
       "                var nbb_formatted_code = \"connected_components = [\\n    c for c in sorted(nx.connected_components(u2os_interactome), key=len, reverse=True)\\n]\\n\\nlargest_connected_component = connected_components[0]\\nlen(set(largest_connected_component).intersection(target_genes_orf))\";\n",
       "                var nbb_cells = Jupyter.notebook.get_cells();\n",
       "                for (var i = 0; i < nbb_cells.length; ++i) {\n",
       "                    if (nbb_cells[i].input_prompt_number == nbb_cell_id) {\n",
       "                        if (nbb_cells[i].get_text() == nbb_unformatted_code) {\n",
       "                             nbb_cells[i].set_text(nbb_formatted_code);\n",
       "                        }\n",
       "                        break;\n",
       "                    }\n",
       "                }\n",
       "            }, 500);\n",
       "            "
      ],
      "text/plain": [
       "<IPython.core.display.Javascript object>"
      ]
     },
     "metadata": {},
     "output_type": "display_data"
    }
   ],
   "source": [
    "connected_components = [\n",
    "    c\n",
    "    for c in sorted(nx.connected_components(u2os_interactome), key=len, reverse=True)\n",
    "]\n",
    "\n",
    "largest_connected_component = connected_components[0]\n",
    "len(set(largest_connected_component).intersection(target_genes_orf))\n"
   ]
  },
  {
   "cell_type": "code",
   "execution_count": 29,
   "id": "2375500e",
   "metadata": {},
   "outputs": [
    {
     "data": {
      "application/javascript": [
       "\n",
       "            setTimeout(function() {\n",
       "                var nbb_cell_id = 29;\n",
       "                var nbb_unformatted_code = \"nx.to_pandas_edgelist(u2os_interactome).to_csv(\\\"u2os_interactome_edgelist.csv\\\", index=False)\";\n",
       "                var nbb_formatted_code = \"nx.to_pandas_edgelist(u2os_interactome).to_csv(\\n    \\\"u2os_interactome_edgelist.csv\\\", index=False\\n)\";\n",
       "                var nbb_cells = Jupyter.notebook.get_cells();\n",
       "                for (var i = 0; i < nbb_cells.length; ++i) {\n",
       "                    if (nbb_cells[i].input_prompt_number == nbb_cell_id) {\n",
       "                        if (nbb_cells[i].get_text() == nbb_unformatted_code) {\n",
       "                             nbb_cells[i].set_text(nbb_formatted_code);\n",
       "                        }\n",
       "                        break;\n",
       "                    }\n",
       "                }\n",
       "            }, 500);\n",
       "            "
      ],
      "text/plain": [
       "<IPython.core.display.Javascript object>"
      ]
     },
     "metadata": {},
     "output_type": "display_data"
    }
   ],
   "source": [
    "nx.to_pandas_edgelist(u2os_interactome).to_csv(\n",
    "    \"u2os_interactome_edgelist.csv\", index=False\n",
    ")"
   ]
  },
  {
   "cell_type": "code",
   "execution_count": 78,
   "id": "e3bb04f7",
   "metadata": {},
   "outputs": [
    {
     "data": {
      "image/png": "[encoded data removed]",
      "text/plain": [
       "<Figure size 432x288 with 1 Axes>"
      ]
     },
     "metadata": {},
     "output_type": "display_data"
    },
    {
     "data": {
      "application/javascript": [
       "\n",
       "            setTimeout(function() {\n",
       "                var nbb_cell_id = 78;\n",
       "                var nbb_unformatted_code = \"venn3(\\n    [set(target_genes_orf), set(list(u2os_interactome.nodes)), set(variable_genes)],\\n    [\\\"targets\\\", \\\"U2OS interactome\\\", \\\"MVG300\\\"],\\n)\\nplt.show()\";\n",
       "                var nbb_formatted_code = \"venn3(\\n    [set(target_genes_orf), set(list(u2os_interactome.nodes)), set(variable_genes)],\\n    [\\\"targets\\\", \\\"U2OS interactome\\\", \\\"MVG300\\\"],\\n)\\nplt.show()\";\n",
       "                var nbb_cells = Jupyter.notebook.get_cells();\n",
       "                for (var i = 0; i < nbb_cells.length; ++i) {\n",
       "                    if (nbb_cells[i].input_prompt_number == nbb_cell_id) {\n",
       "                        if (nbb_cells[i].get_text() == nbb_unformatted_code) {\n",
       "                             nbb_cells[i].set_text(nbb_formatted_code);\n",
       "                        }\n",
       "                        break;\n",
       "                    }\n",
       "                }\n",
       "            }, 500);\n",
       "            "
      ],
      "text/plain": [
       "<IPython.core.display.Javascript object>"
      ]
     },
     "metadata": {},
     "output_type": "display_data"
    }
   ],
   "source": [
    "venn3(\n",
    "    [set(target_genes_orf), set(list(u2os_interactome.nodes)), set(variable_genes)],\n",
    "    [\"targets\", \"U2OS interactome\", \"MVG300\"],\n",
    ")\n",
    "plt.show()"
   ]
  },
  {
   "cell_type": "code",
   "execution_count": 83,
   "id": "98bad271",
   "metadata": {},
   "outputs": [
    {
     "data": {
      "image/png": "[encoded data removed]",
      "text/plain": [
       "<Figure size 432x288 with 1 Axes>"
      ]
     },
     "metadata": {},
     "output_type": "display_data"
    },
    {
     "data": {
      "application/javascript": [
       "\n",
       "            setTimeout(function() {\n",
       "                var nbb_cell_id = 83;\n",
       "                var nbb_unformatted_code = \"venn3(\\n    [\\n        set(u2os_geneset),\\n        set(list(u2os_interactome.nodes)),\\n        set(list(human_interactome.nodes)),\\n    ],\\n    [\\\"U2OS geneset\\\", \\\"U2OS interactome\\\", \\\"iRefIndexDB v17\\\"],\\n)\\nplt.show()\";\n",
       "                var nbb_formatted_code = \"venn3(\\n    [\\n        set(u2os_geneset),\\n        set(list(u2os_interactome.nodes)),\\n        set(list(human_interactome.nodes)),\\n    ],\\n    [\\\"U2OS geneset\\\", \\\"U2OS interactome\\\", \\\"iRefIndexDB v17\\\"],\\n)\\nplt.show()\";\n",
       "                var nbb_cells = Jupyter.notebook.get_cells();\n",
       "                for (var i = 0; i < nbb_cells.length; ++i) {\n",
       "                    if (nbb_cells[i].input_prompt_number == nbb_cell_id) {\n",
       "                        if (nbb_cells[i].get_text() == nbb_unformatted_code) {\n",
       "                             nbb_cells[i].set_text(nbb_formatted_code);\n",
       "                        }\n",
       "                        break;\n",
       "                    }\n",
       "                }\n",
       "            }, 500);\n",
       "            "
      ],
      "text/plain": [
       "<IPython.core.display.Javascript object>"
      ]
     },
     "metadata": {},
     "output_type": "display_data"
    }
   ],
   "source": [
    "venn3(\n",
    "    [\n",
    "        set(u2os_geneset),\n",
    "        set(list(u2os_interactome.nodes)),\n",
    "        set(list(human_interactome.nodes)),\n",
    "    ],\n",
    "    [\"U2OS geneset\", \"U2OS interactome\", \"iRefIndexDB v17\"],\n",
    ")\n",
    "plt.show()"
   ]
  },
  {
   "cell_type": "code",
   "execution_count": 73,
   "id": "806d05b8",
   "metadata": {},
   "outputs": [
    {
     "data": {
      "text/plain": [
       "['PPP2R5C',\n",
       " 'STAT1',\n",
       " 'PDPK1',\n",
       " 'AKT1S1',\n",
       " 'DLL1',\n",
       " 'CDKN1A',\n",
       " 'FGFR3',\n",
       " 'GRB10',\n",
       " 'RAC1',\n",
       " 'ARAF',\n",
       " 'HIF1AN',\n",
       " 'DVL1',\n",
       " 'HSP90AA1',\n",
       " 'ERN1',\n",
       " 'MAP3K9',\n",
       " 'DUSP1',\n",
       " 'HSP90B1',\n",
       " 'BRAF',\n",
       " 'TSC1',\n",
       " 'STAT3',\n",
       " 'SRC',\n",
       " 'RHOA',\n",
       " 'CDK4',\n",
       " 'IRAK4',\n",
       " 'MLST8',\n",
       " 'FH',\n",
       " 'PTEN',\n",
       " 'SREBF1',\n",
       " 'CTNNB1',\n",
       " 'XBP1',\n",
       " 'RPTOR',\n",
       " 'EIF4EBP1',\n",
       " 'MAP3K8',\n",
       " 'STK11',\n",
       " 'PRKCZ',\n",
       " 'ATG16L1',\n",
       " 'SMAD4',\n",
       " 'PAK1',\n",
       " 'CHUK',\n",
       " 'TSC2',\n",
       " 'IKBKB',\n",
       " 'WWTR1',\n",
       " 'TBK1',\n",
       " 'TGFBR1',\n",
       " 'PPARGC1A',\n",
       " 'DDIT4',\n",
       " 'JAG1',\n",
       " 'PRKACA',\n",
       " 'RELA',\n",
       " 'MEK1',\n",
       " 'DKK1',\n",
       " 'MCL1',\n",
       " 'PER1',\n",
       " 'SMAD7',\n",
       " 'BCL2L11',\n",
       " 'TCF4',\n",
       " 'GLI1',\n",
       " 'MYD88',\n",
       " 'SLIRP',\n",
       " 'TRAF6',\n",
       " 'AKT3',\n",
       " 'MAP2K1',\n",
       " 'PRKACG',\n",
       " 'PRKCE',\n",
       " 'WNT5A',\n",
       " 'CASP8',\n",
       " 'MAP3K5',\n",
       " 'NFKBIE',\n",
       " 'BTRC',\n",
       " 'ERBB2',\n",
       " 'RAF1',\n",
       " 'XIAP',\n",
       " 'MAP2K3',\n",
       " 'TRAF5',\n",
       " 'STK3',\n",
       " 'NOTCH2',\n",
       " 'TP53',\n",
       " 'KRAS',\n",
       " 'CRY1',\n",
       " 'TRAF2',\n",
       " 'E2F1',\n",
       " 'MAPK14',\n",
       " 'MAPK13',\n",
       " 'LRPPRC',\n",
       " 'AXIN2',\n",
       " 'SMAD3',\n",
       " 'MAPK3',\n",
       " 'CREB1',\n",
       " 'IRS1',\n",
       " 'PIK3R2',\n",
       " 'SDHA',\n",
       " 'JAK2',\n",
       " 'MAPKAP1',\n",
       " 'PHLPP1',\n",
       " 'CCNE1',\n",
       " 'RELB',\n",
       " 'DVL2',\n",
       " 'ATF6',\n",
       " 'IRAK1',\n",
       " 'RICTOR',\n",
       " 'SGK3',\n",
       " 'AKT2',\n",
       " 'VHL',\n",
       " 'PKIA',\n",
       " 'BRCA1',\n",
       " 'PIK3R1',\n",
       " 'NFKBIA',\n",
       " 'CSNK1A1',\n",
       " 'CCND1',\n",
       " 'ERG',\n",
       " 'CSNK1E',\n",
       " 'DEPTOR',\n",
       " 'MAP2K4',\n",
       " 'TGFBR2',\n",
       " 'AKT1',\n",
       " 'ELK1',\n",
       " 'DIABLO',\n",
       " 'MAP3K11',\n",
       " 'RB1',\n",
       " 'DDIT3',\n",
       " 'BAMBI',\n",
       " 'CREBBP',\n",
       " 'ACVR1B',\n",
       " 'MAP3K7',\n",
       " 'TNFAIP3',\n",
       " 'TRAF3',\n",
       " 'ATG5',\n",
       " 'IKBKE',\n",
       " 'NFKB2',\n",
       " 'RIPK1',\n",
       " 'SMO',\n",
       " 'CEBPA',\n",
       " 'APC',\n",
       " 'APAF1',\n",
       " 'FOXO1',\n",
       " 'RPS6KB1',\n",
       " 'MKNK1',\n",
       " 'NFKBIB',\n",
       " 'PIK3CB',\n",
       " 'MOS',\n",
       " 'BMPR1B',\n",
       " 'MAPK7',\n",
       " 'DVL3',\n",
       " 'SOCS3',\n",
       " 'ARNTL',\n",
       " 'PIK3CA',\n",
       " 'CXXC4',\n",
       " 'PIK3CD',\n",
       " 'PRKCA',\n",
       " 'PSENEN',\n",
       " 'RHEB',\n",
       " 'REL',\n",
       " 'CDC42',\n",
       " 'ATF4',\n",
       " 'TGFB1',\n",
       " 'JUN',\n",
       " 'PRKACB',\n",
       " 'CDK2',\n",
       " 'EIF4E',\n",
       " 'RBPJ',\n",
       " 'NOTCH1',\n",
       " 'CLOCK',\n",
       " 'FURIN',\n",
       " 'BMP2',\n",
       " 'EIF2A',\n",
       " 'MAPK1',\n",
       " 'YAP1',\n",
       " 'ADAM17',\n",
       " 'MAPK8',\n",
       " 'EGLN1',\n",
       " 'BAX',\n",
       " 'MAPK9',\n",
       " 'NFKB1',\n",
       " 'HRAS',\n",
       " 'SMURF2',\n",
       " 'PRKAA1',\n",
       " 'GSK3B',\n",
       " 'HIF1A',\n",
       " 'ATM',\n",
       " 'VEGFC',\n",
       " 'MAP3K2',\n",
       " 'CARD11',\n",
       " 'IRGM',\n",
       " 'BCL2L1',\n",
       " 'HSPA5',\n",
       " 'BECN1',\n",
       " 'SMAD5',\n",
       " 'ATF2',\n",
       " 'CYLD',\n",
       " 'CASP9']"
      ]
     },
     "execution_count": 73,
     "metadata": {},
     "output_type": "execute_result"
    },
    {
     "data": {
      "application/javascript": [
       "\n",
       "            setTimeout(function() {\n",
       "                var nbb_cell_id = 73;\n",
       "                var nbb_unformatted_code = \"list(target_genes_orf)\";\n",
       "                var nbb_formatted_code = \"list(target_genes_orf)\";\n",
       "                var nbb_cells = Jupyter.notebook.get_cells();\n",
       "                for (var i = 0; i < nbb_cells.length; ++i) {\n",
       "                    if (nbb_cells[i].input_prompt_number == nbb_cell_id) {\n",
       "                        if (nbb_cells[i].get_text() == nbb_unformatted_code) {\n",
       "                             nbb_cells[i].set_text(nbb_formatted_code);\n",
       "                        }\n",
       "                        break;\n",
       "                    }\n",
       "                }\n",
       "            }, 500);\n",
       "            "
      ],
      "text/plain": [
       "<IPython.core.display.Javascript object>"
      ]
     },
     "metadata": {},
     "output_type": "display_data"
    }
   ],
   "source": [
    "list(target_genes_orf)"
   ]
  }
 ],
 "metadata": {
  "kernelspec": {
   "display_name": "Python 3",
   "language": "python",
   "name": "python3"
  },
  "language_info": {
   "codemirror_mode": {
    "name": "ipython",
    "version": 3
   },
   "file_extension": ".py",
   "mimetype": "text/x-python",
   "name": "python",
   "nbconvert_exporter": "python",
   "pygments_lexer": "ipython3",
   "version": "3.8.8"
  }
 },
 "nbformat": 4,
 "nbformat_minor": 5
}
