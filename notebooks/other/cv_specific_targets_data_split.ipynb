{
 "cells": [
  {
   "cell_type": "markdown",
   "id": "4ee533fa",
   "metadata": {},
   "source": [
    "# Data split for the 4-fold CV\n",
    "\n",
    "---\n",
    "\n",
    "This notebook can be used to generate data splits for the screening data to allow for parallel computing of the screens.\n",
    "\n",
    "---"
   ]
  },
  {
   "cell_type": "markdown",
   "id": "20f2592e",
   "metadata": {},
   "source": [
    "## 0. Environmental setup"
   ]
  },
  {
   "cell_type": "code",
   "execution_count": 1,
   "id": "cc24984d",
   "metadata": {},
   "outputs": [
    {
     "data": {
      "application/javascript": [
       "\n",
       "            setTimeout(function() {\n",
       "                var nbb_cell_id = 1;\n",
       "                var nbb_unformatted_code = \"import pandas as pd\\nimport numpy as np\\nfrom sklearn.model_selection import StratifiedGroupKFold, GroupShuffleSplit\\nimport os\\nfrom imblearn.under_sampling import RandomUnderSampler\\nfrom tqdm import tqdm\\nfrom collections import Counter\\n\\n%load_ext nb_black\";\n",
       "                var nbb_formatted_code = \"import pandas as pd\\nimport numpy as np\\nfrom sklearn.model_selection import StratifiedGroupKFold, GroupShuffleSplit\\nimport os\\nfrom imblearn.under_sampling import RandomUnderSampler\\nfrom tqdm import tqdm\\nfrom collections import Counter\\n\\n%load_ext nb_black\";\n",
       "                var nbb_cells = Jupyter.notebook.get_cells();\n",
       "                for (var i = 0; i < nbb_cells.length; ++i) {\n",
       "                    if (nbb_cells[i].input_prompt_number == nbb_cell_id) {\n",
       "                        if (nbb_cells[i].get_text() == nbb_unformatted_code) {\n",
       "                             nbb_cells[i].set_text(nbb_formatted_code);\n",
       "                        }\n",
       "                        break;\n",
       "                    }\n",
       "                }\n",
       "            }, 500);\n",
       "            "
      ],
      "text/plain": [
       "<IPython.core.display.Javascript object>"
      ]
     },
     "metadata": {},
     "output_type": "display_data"
    }
   ],
   "source": [
    "import pandas as pd\n",
    "import numpy as np\n",
    "from sklearn.model_selection import StratifiedGroupKFold, GroupShuffleSplit\n",
    "import os\n",
    "from imblearn.under_sampling import RandomUnderSampler\n",
    "from tqdm import tqdm\n",
    "from collections import Counter\n",
    "\n",
    "%load_ext nb_black"
   ]
  },
  {
   "cell_type": "code",
   "execution_count": 2,
   "id": "bf666810",
   "metadata": {},
   "outputs": [
    {
     "data": {
      "application/javascript": [
       "\n",
       "            setTimeout(function() {\n",
       "                var nbb_cell_id = 2;\n",
       "                var nbb_unformatted_code = \"def get_data_splits_for_label(\\n    data,\\n    label_col,\\n    target_list,\\n    n_folds,\\n    group_col,\\n    random_state=1234,\\n    val_size=0.2,\\n    sample_limit=None,\\n):\\n\\n    # Subsample the data\\n    label_data = data.loc[data.loc[:, label_col].isin(target_list), :]\\n    if \\\"EMPTY\\\" in target_list:\\n        idc = np.array(list(range(len(label_data)))).reshape(-1, 1)\\n        labels = label_data.loc[:, label_col]\\n        sample_count_dict = dict(Counter(labels))\\n        sample_count_dict[\\\"EMPTY\\\"] = 0\\n        if sample_limit is not None:\\n            for k, v in sample_count_dict.items():\\n                sample_count_dict[k] = min(v, sample_limit)\\n        sample_count_dict[\\\"EMPTY\\\"] = np.max(list(sample_count_dict.values()))\\n        print(sample_count_dict)\\n        idc, _ = RandomUnderSampler(\\n            sampling_strategy=sample_count_dict, random_state=random_state\\n        ).fit_resample(idc, labels)\\n        label_data = label_data.iloc[idc.flatten(), :]\\n\\n    # Split in folds\\n    features = np.array(list(range(len(label_data)))).reshape(-1, 1)\\n    labels = np.array(label_data.loc[:, label_col])\\n    groups = np.array(label_data.loc[:, group_col])\\n\\n    fold_data = {\\\"train\\\": [], \\\"val\\\": [], \\\"test\\\": []}\\n    group_kfold = StratifiedGroupKFold(n_splits=n_folds)\\n    for train_index, test_index in group_kfold.split(features, labels, groups=groups):\\n\\n        train_val_fold_data = label_data.iloc[train_index]\\n        train_val_fold_labels = labels[train_index]\\n        train_val_fold_groups = groups[train_index]\\n\\n        train_index, val_index = next(\\n            StratifiedGroupKFold(n_splits=int(1.0 / val_size)).split(\\n                train_val_fold_data, train_val_fold_labels, groups=train_val_fold_groups\\n            )\\n        )\\n        train_fold_data = train_val_fold_data.iloc[train_index]\\n        val_fold_data = train_val_fold_data.iloc[val_index]\\n\\n        test_fold_data = label_data.iloc[test_index]\\n\\n        fold_data[\\\"train\\\"].append(train_fold_data)\\n        fold_data[\\\"val\\\"].append(val_fold_data)\\n        fold_data[\\\"test\\\"].append(test_fold_data)\\n\\n    return fold_data\";\n",
       "                var nbb_formatted_code = \"def get_data_splits_for_label(\\n    data,\\n    label_col,\\n    target_list,\\n    n_folds,\\n    group_col,\\n    random_state=1234,\\n    val_size=0.2,\\n    sample_limit=None,\\n):\\n\\n    # Subsample the data\\n    label_data = data.loc[data.loc[:, label_col].isin(target_list), :]\\n    if \\\"EMPTY\\\" in target_list:\\n        idc = np.array(list(range(len(label_data)))).reshape(-1, 1)\\n        labels = label_data.loc[:, label_col]\\n        sample_count_dict = dict(Counter(labels))\\n        sample_count_dict[\\\"EMPTY\\\"] = 0\\n        if sample_limit is not None:\\n            for k, v in sample_count_dict.items():\\n                sample_count_dict[k] = min(v, sample_limit)\\n        sample_count_dict[\\\"EMPTY\\\"] = np.max(list(sample_count_dict.values()))\\n        print(sample_count_dict)\\n        idc, _ = RandomUnderSampler(\\n            sampling_strategy=sample_count_dict, random_state=random_state\\n        ).fit_resample(idc, labels)\\n        label_data = label_data.iloc[idc.flatten(), :]\\n\\n    # Split in folds\\n    features = np.array(list(range(len(label_data)))).reshape(-1, 1)\\n    labels = np.array(label_data.loc[:, label_col])\\n    groups = np.array(label_data.loc[:, group_col])\\n\\n    fold_data = {\\\"train\\\": [], \\\"val\\\": [], \\\"test\\\": []}\\n    group_kfold = StratifiedGroupKFold(n_splits=n_folds)\\n    for train_index, test_index in group_kfold.split(features, labels, groups=groups):\\n\\n        train_val_fold_data = label_data.iloc[train_index]\\n        train_val_fold_labels = labels[train_index]\\n        train_val_fold_groups = groups[train_index]\\n\\n        train_index, val_index = next(\\n            StratifiedGroupKFold(n_splits=int(1.0 / val_size)).split(\\n                train_val_fold_data, train_val_fold_labels, groups=train_val_fold_groups\\n            )\\n        )\\n        train_fold_data = train_val_fold_data.iloc[train_index]\\n        val_fold_data = train_val_fold_data.iloc[val_index]\\n\\n        test_fold_data = label_data.iloc[test_index]\\n\\n        fold_data[\\\"train\\\"].append(train_fold_data)\\n        fold_data[\\\"val\\\"].append(val_fold_data)\\n        fold_data[\\\"test\\\"].append(test_fold_data)\\n\\n    return fold_data\";\n",
       "                var nbb_cells = Jupyter.notebook.get_cells();\n",
       "                for (var i = 0; i < nbb_cells.length; ++i) {\n",
       "                    if (nbb_cells[i].input_prompt_number == nbb_cell_id) {\n",
       "                        if (nbb_cells[i].get_text() == nbb_unformatted_code) {\n",
       "                             nbb_cells[i].set_text(nbb_formatted_code);\n",
       "                        }\n",
       "                        break;\n",
       "                    }\n",
       "                }\n",
       "            }, 500);\n",
       "            "
      ],
      "text/plain": [
       "<IPython.core.display.Javascript object>"
      ]
     },
     "metadata": {},
     "output_type": "display_data"
    }
   ],
   "source": [
    "def get_data_splits_for_label(\n",
    "    data,\n",
    "    label_col,\n",
    "    target_list,\n",
    "    n_folds,\n",
    "    group_col,\n",
    "    random_state=1234,\n",
    "    val_size=0.2,\n",
    "    sample_limit=None,\n",
    "):\n",
    "\n",
    "    # Subsample the data\n",
    "    label_data = data.loc[data.loc[:, label_col].isin(target_list), :]\n",
    "    if \"EMPTY\" in target_list:\n",
    "        idc = np.array(list(range(len(label_data)))).reshape(-1, 1)\n",
    "        labels = label_data.loc[:, label_col]\n",
    "        sample_count_dict = dict(Counter(labels))\n",
    "        sample_count_dict[\"EMPTY\"] = 0\n",
    "        if sample_limit is not None:\n",
    "            for k, v in sample_count_dict.items():\n",
    "                sample_count_dict[k] = min(v, sample_limit)\n",
    "        sample_count_dict[\"EMPTY\"] = np.max(list(sample_count_dict.values()))\n",
    "        print(sample_count_dict)\n",
    "        idc, _ = RandomUnderSampler(\n",
    "            sampling_strategy=sample_count_dict, random_state=random_state\n",
    "        ).fit_resample(idc, labels)\n",
    "        label_data = label_data.iloc[idc.flatten(), :]\n",
    "\n",
    "    # Split in folds\n",
    "    features = np.array(list(range(len(label_data)))).reshape(-1, 1)\n",
    "    labels = np.array(label_data.loc[:, label_col])\n",
    "    groups = np.array(label_data.loc[:, group_col])\n",
    "\n",
    "    fold_data = {\"train\": [], \"val\": [], \"test\": []}\n",
    "    group_kfold = StratifiedGroupKFold(n_splits=n_folds)\n",
    "    for train_index, test_index in group_kfold.split(features, labels, groups=groups):\n",
    "\n",
    "        train_val_fold_data = label_data.iloc[train_index]\n",
    "        train_val_fold_labels = labels[train_index]\n",
    "        train_val_fold_groups = groups[train_index]\n",
    "\n",
    "        train_index, val_index = next(\n",
    "            StratifiedGroupKFold(n_splits=int(1.0 / val_size)).split(\n",
    "                train_val_fold_data, train_val_fold_labels, groups=train_val_fold_groups\n",
    "            )\n",
    "        )\n",
    "        train_fold_data = train_val_fold_data.iloc[train_index]\n",
    "        val_fold_data = train_val_fold_data.iloc[val_index]\n",
    "\n",
    "        test_fold_data = label_data.iloc[test_index]\n",
    "\n",
    "        fold_data[\"train\"].append(train_fold_data)\n",
    "        fold_data[\"val\"].append(val_fold_data)\n",
    "        fold_data[\"test\"].append(test_fold_data)\n",
    "\n",
    "    return fold_data"
   ]
  },
  {
   "cell_type": "markdown",
   "id": "982ef064",
   "metadata": {},
   "source": [
    "---\n",
    "## 1. Read in data\n",
    "\n",
    "To start we will read in the whole metadata set."
   ]
  },
  {
   "cell_type": "code",
   "execution_count": 3,
   "id": "2b0ae6ed",
   "metadata": {},
   "outputs": [
    {
     "data": {
      "text/html": [
       "<div>\n",
       "<style scoped>\n",
       "    .dataframe tbody tr th:only-of-type {\n",
       "        vertical-align: middle;\n",
       "    }\n",
       "\n",
       "    .dataframe tbody tr th {\n",
       "        vertical-align: top;\n",
       "    }\n",
       "\n",
       "    .dataframe thead th {\n",
       "        text-align: right;\n",
       "    }\n",
       "</style>\n",
       "<table border=\"1\" class=\"dataframe\">\n",
       "  <thead>\n",
       "    <tr style=\"text-align: right;\">\n",
       "      <th></th>\n",
       "      <th>plate</th>\n",
       "      <th>well</th>\n",
       "      <th>image_file</th>\n",
       "      <th>gene_id</th>\n",
       "      <th>gene_symbol</th>\n",
       "      <th>is_landmark</th>\n",
       "      <th>allele</th>\n",
       "      <th>expr_vec</th>\n",
       "      <th>toxicity</th>\n",
       "      <th>ie_blast</th>\n",
       "      <th>...</th>\n",
       "      <th>minor_axis_length</th>\n",
       "      <th>major_axis_length</th>\n",
       "      <th>aspect_ratio</th>\n",
       "      <th>aspect_ratio_cluster</th>\n",
       "      <th>nuclei_count_image</th>\n",
       "      <th>slide_image_name</th>\n",
       "      <th>aspect_ratio_cluster_ratio</th>\n",
       "      <th>centroid_0</th>\n",
       "      <th>centroid_1</th>\n",
       "      <th>allele_symbol</th>\n",
       "    </tr>\n",
       "  </thead>\n",
       "  <tbody>\n",
       "    <tr>\n",
       "      <th>0</th>\n",
       "      <td>41744</td>\n",
       "      <td>k21</td>\n",
       "      <td>taoe005-u2os-72h-cp-a-au00044859_k21_s7_w10efe...</td>\n",
       "      <td>1977.0</td>\n",
       "      <td>EIF4E</td>\n",
       "      <td>0.0</td>\n",
       "      <td>WT.2</td>\n",
       "      <td>pLX304</td>\n",
       "      <td>NaN</td>\n",
       "      <td>0.91</td>\n",
       "      <td>...</td>\n",
       "      <td>15.474579</td>\n",
       "      <td>35.755476</td>\n",
       "      <td>0.432789</td>\n",
       "      <td>1</td>\n",
       "      <td>53</td>\n",
       "      <td>taoe005-u2os-72h-cp-a-au00044859_k21_s7_w10efe...</td>\n",
       "      <td>0.528302</td>\n",
       "      <td>17.675294</td>\n",
       "      <td>19.835294</td>\n",
       "      <td>EIF4E_WT.2</td>\n",
       "    </tr>\n",
       "    <tr>\n",
       "      <th>1</th>\n",
       "      <td>41744</td>\n",
       "      <td>k21</td>\n",
       "      <td>taoe005-u2os-72h-cp-a-au00044859_k21_s7_w10efe...</td>\n",
       "      <td>1977.0</td>\n",
       "      <td>EIF4E</td>\n",
       "      <td>0.0</td>\n",
       "      <td>WT.2</td>\n",
       "      <td>pLX304</td>\n",
       "      <td>NaN</td>\n",
       "      <td>0.91</td>\n",
       "      <td>...</td>\n",
       "      <td>16.074259</td>\n",
       "      <td>48.342010</td>\n",
       "      <td>0.332511</td>\n",
       "      <td>1</td>\n",
       "      <td>53</td>\n",
       "      <td>taoe005-u2os-72h-cp-a-au00044859_k21_s7_w10efe...</td>\n",
       "      <td>0.528302</td>\n",
       "      <td>28.882645</td>\n",
       "      <td>273.150413</td>\n",
       "      <td>EIF4E_WT.2</td>\n",
       "    </tr>\n",
       "    <tr>\n",
       "      <th>2</th>\n",
       "      <td>41744</td>\n",
       "      <td>k21</td>\n",
       "      <td>taoe005-u2os-72h-cp-a-au00044859_k21_s7_w10efe...</td>\n",
       "      <td>1977.0</td>\n",
       "      <td>EIF4E</td>\n",
       "      <td>0.0</td>\n",
       "      <td>WT.2</td>\n",
       "      <td>pLX304</td>\n",
       "      <td>NaN</td>\n",
       "      <td>0.91</td>\n",
       "      <td>...</td>\n",
       "      <td>24.256958</td>\n",
       "      <td>35.030138</td>\n",
       "      <td>0.692460</td>\n",
       "      <td>0</td>\n",
       "      <td>53</td>\n",
       "      <td>taoe005-u2os-72h-cp-a-au00044859_k21_s7_w10efe...</td>\n",
       "      <td>0.528302</td>\n",
       "      <td>149.476762</td>\n",
       "      <td>1002.848576</td>\n",
       "      <td>EIF4E_WT.2</td>\n",
       "    </tr>\n",
       "    <tr>\n",
       "      <th>3</th>\n",
       "      <td>41744</td>\n",
       "      <td>k21</td>\n",
       "      <td>taoe005-u2os-72h-cp-a-au00044859_k21_s7_w10efe...</td>\n",
       "      <td>1977.0</td>\n",
       "      <td>EIF4E</td>\n",
       "      <td>0.0</td>\n",
       "      <td>WT.2</td>\n",
       "      <td>pLX304</td>\n",
       "      <td>NaN</td>\n",
       "      <td>0.91</td>\n",
       "      <td>...</td>\n",
       "      <td>27.689881</td>\n",
       "      <td>51.502812</td>\n",
       "      <td>0.537638</td>\n",
       "      <td>1</td>\n",
       "      <td>53</td>\n",
       "      <td>taoe005-u2os-72h-cp-a-au00044859_k21_s7_w10efe...</td>\n",
       "      <td>0.528302</td>\n",
       "      <td>250.939748</td>\n",
       "      <td>108.973921</td>\n",
       "      <td>EIF4E_WT.2</td>\n",
       "    </tr>\n",
       "    <tr>\n",
       "      <th>4</th>\n",
       "      <td>41744</td>\n",
       "      <td>k21</td>\n",
       "      <td>taoe005-u2os-72h-cp-a-au00044859_k21_s7_w10efe...</td>\n",
       "      <td>1977.0</td>\n",
       "      <td>EIF4E</td>\n",
       "      <td>0.0</td>\n",
       "      <td>WT.2</td>\n",
       "      <td>pLX304</td>\n",
       "      <td>NaN</td>\n",
       "      <td>0.91</td>\n",
       "      <td>...</td>\n",
       "      <td>26.587002</td>\n",
       "      <td>32.592086</td>\n",
       "      <td>0.815750</td>\n",
       "      <td>0</td>\n",
       "      <td>53</td>\n",
       "      <td>taoe005-u2os-72h-cp-a-au00044859_k21_s7_w10efe...</td>\n",
       "      <td>0.528302</td>\n",
       "      <td>252.834328</td>\n",
       "      <td>913.795522</td>\n",
       "      <td>EIF4E_WT.2</td>\n",
       "    </tr>\n",
       "  </tbody>\n",
       "</table>\n",
       "<p>5 rows × 30 columns</p>\n",
       "</div>"
      ],
      "text/plain": [
       "   plate well                                         image_file  gene_id  \\\n",
       "0  41744  k21  taoe005-u2os-72h-cp-a-au00044859_k21_s7_w10efe...   1977.0   \n",
       "1  41744  k21  taoe005-u2os-72h-cp-a-au00044859_k21_s7_w10efe...   1977.0   \n",
       "2  41744  k21  taoe005-u2os-72h-cp-a-au00044859_k21_s7_w10efe...   1977.0   \n",
       "3  41744  k21  taoe005-u2os-72h-cp-a-au00044859_k21_s7_w10efe...   1977.0   \n",
       "4  41744  k21  taoe005-u2os-72h-cp-a-au00044859_k21_s7_w10efe...   1977.0   \n",
       "\n",
       "  gene_symbol  is_landmark allele expr_vec toxicity  ie_blast  ...  \\\n",
       "0       EIF4E          0.0   WT.2   pLX304      NaN      0.91  ...   \n",
       "1       EIF4E          0.0   WT.2   pLX304      NaN      0.91  ...   \n",
       "2       EIF4E          0.0   WT.2   pLX304      NaN      0.91  ...   \n",
       "3       EIF4E          0.0   WT.2   pLX304      NaN      0.91  ...   \n",
       "4       EIF4E          0.0   WT.2   pLX304      NaN      0.91  ...   \n",
       "\n",
       "  minor_axis_length major_axis_length aspect_ratio  aspect_ratio_cluster  \\\n",
       "0         15.474579         35.755476     0.432789                     1   \n",
       "1         16.074259         48.342010     0.332511                     1   \n",
       "2         24.256958         35.030138     0.692460                     0   \n",
       "3         27.689881         51.502812     0.537638                     1   \n",
       "4         26.587002         32.592086     0.815750                     0   \n",
       "\n",
       "  nuclei_count_image                                   slide_image_name  \\\n",
       "0                 53  taoe005-u2os-72h-cp-a-au00044859_k21_s7_w10efe...   \n",
       "1                 53  taoe005-u2os-72h-cp-a-au00044859_k21_s7_w10efe...   \n",
       "2                 53  taoe005-u2os-72h-cp-a-au00044859_k21_s7_w10efe...   \n",
       "3                 53  taoe005-u2os-72h-cp-a-au00044859_k21_s7_w10efe...   \n",
       "4                 53  taoe005-u2os-72h-cp-a-au00044859_k21_s7_w10efe...   \n",
       "\n",
       "  aspect_ratio_cluster_ratio  centroid_0   centroid_1  allele_symbol  \n",
       "0                   0.528302   17.675294    19.835294     EIF4E_WT.2  \n",
       "1                   0.528302   28.882645   273.150413     EIF4E_WT.2  \n",
       "2                   0.528302  149.476762  1002.848576     EIF4E_WT.2  \n",
       "3                   0.528302  250.939748   108.973921     EIF4E_WT.2  \n",
       "4                   0.528302  252.834328   913.795522     EIF4E_WT.2  \n",
       "\n",
       "[5 rows x 30 columns]"
      ]
     },
     "execution_count": 3,
     "metadata": {},
     "output_type": "execute_result"
    },
    {
     "data": {
      "application/javascript": [
       "\n",
       "            setTimeout(function() {\n",
       "                var nbb_cell_id = 3;\n",
       "                var nbb_unformatted_code = \"md = pd.read_csv(\\n    \\\"../../data/experiments/image_preprocessing/full_pipeline/padded_nuclei_metadata.csv.gz\\\",\\n    index_col=0,\\n)\\nmd.head()\";\n",
       "                var nbb_formatted_code = \"md = pd.read_csv(\\n    \\\"../../data/experiments/image_preprocessing/full_pipeline/padded_nuclei_metadata.csv.gz\\\",\\n    index_col=0,\\n)\\nmd.head()\";\n",
       "                var nbb_cells = Jupyter.notebook.get_cells();\n",
       "                for (var i = 0; i < nbb_cells.length; ++i) {\n",
       "                    if (nbb_cells[i].input_prompt_number == nbb_cell_id) {\n",
       "                        if (nbb_cells[i].get_text() == nbb_unformatted_code) {\n",
       "                             nbb_cells[i].set_text(nbb_formatted_code);\n",
       "                        }\n",
       "                        break;\n",
       "                    }\n",
       "                }\n",
       "            }, 500);\n",
       "            "
      ],
      "text/plain": [
       "<IPython.core.display.Javascript object>"
      ]
     },
     "metadata": {},
     "output_type": "display_data"
    }
   ],
   "source": [
    "md = pd.read_csv(\n",
    "    \"../../data/experiments/image_preprocessing/full_pipeline/padded_nuclei_metadata.csv.gz\",\n",
    "    index_col=0,\n",
    ")\n",
    "md.head()"
   ]
  },
  {
   "cell_type": "code",
   "execution_count": 6,
   "id": "a53d432a",
   "metadata": {},
   "outputs": [
    {
     "data": {
      "application/javascript": [
       "\n",
       "            setTimeout(function() {\n",
       "                var nbb_cell_id = 6;\n",
       "                var nbb_unformatted_code = \"spec_results = pd.read_csv(\\n    \\\"../../data/other/specificity_results/specificity_screen_results_cv.csv\\\",\\n    index_col=0,\\n)\\nspec_results = spec_results.loc[spec_results[\\\"selected\\\"]]\\nspec_orf_targets = set(spec_results.index).union(set(\\n    [\\\"CCNE1\\\", \\\"CDK2\\\", \\\"GSK3B\\\", \\\"MAPK8\\\", \\\"PRKCA\\\", \\\"RPS6KB1\\\", \\\"TCF4\\\", \\\"TGFB1\\\"]\\n))\";\n",
       "                var nbb_formatted_code = \"spec_results = pd.read_csv(\\n    \\\"../../data/other/specificity_results/specificity_screen_results_cv.csv\\\",\\n    index_col=0,\\n)\\nspec_results = spec_results.loc[spec_results[\\\"selected\\\"]]\\nspec_orf_targets = set(spec_results.index).union(\\n    set([\\\"CCNE1\\\", \\\"CDK2\\\", \\\"GSK3B\\\", \\\"MAPK8\\\", \\\"PRKCA\\\", \\\"RPS6KB1\\\", \\\"TCF4\\\", \\\"TGFB1\\\"])\\n)\";\n",
       "                var nbb_cells = Jupyter.notebook.get_cells();\n",
       "                for (var i = 0; i < nbb_cells.length; ++i) {\n",
       "                    if (nbb_cells[i].input_prompt_number == nbb_cell_id) {\n",
       "                        if (nbb_cells[i].get_text() == nbb_unformatted_code) {\n",
       "                             nbb_cells[i].set_text(nbb_formatted_code);\n",
       "                        }\n",
       "                        break;\n",
       "                    }\n",
       "                }\n",
       "            }, 500);\n",
       "            "
      ],
      "text/plain": [
       "<IPython.core.display.Javascript object>"
      ]
     },
     "metadata": {},
     "output_type": "display_data"
    }
   ],
   "source": [
    "spec_results = pd.read_csv(\n",
    "    \"../../data/other/specificity_results/specificity_screen_results_cv.csv\",\n",
    "    index_col=0,\n",
    ")\n",
    "spec_results = spec_results.loc[spec_results[\"selected\"]]\n",
    "spec_orf_targets = set(spec_results.index)\n",
    "# .union(\n",
    "#     set([\"CCNE1\", \"CDK2\", \"GSK3B\", \"MAPK8\", \"PRKCA\", \"RPS6KB1\", \"TCF4\", \"TGFB1\"])\n",
    "# )"
   ]
  },
  {
   "cell_type": "markdown",
   "id": "8a2f56a1",
   "metadata": {},
   "source": [
    "---\n",
    "\n",
    "## 2. StratifiedGrouped K-Fold\n",
    "\n",
    "We will now go over each individual gene and add a column to the dataframe that indicates to which fold of the respective gene screen the respective nuclei corresponds to. Thereby, we will ensure that all nuclei from the same slide-image are in the same fold to ensure that the model cannot cheat by focussing on imaging artifacts specific to individual slide images."
   ]
  },
  {
   "cell_type": "code",
   "execution_count": 7,
   "id": "0e1d44fc",
   "metadata": {},
   "outputs": [
    {
     "data": {
      "application/javascript": [
       "\n",
       "            setTimeout(function() {\n",
       "                var nbb_cell_id = 7;\n",
       "                var nbb_unformatted_code = \"output_dir = (\\n    \\\"../../data/experiments/image_preprocessing/specific_targets_cv_stratified_ext/\\\"\\n)\\nos.makedirs(output_dir, exist_ok=True)\";\n",
       "                var nbb_formatted_code = \"output_dir = (\\n    \\\"../../data/experiments/image_preprocessing/specific_targets_cv_stratified_ext/\\\"\\n)\\nos.makedirs(output_dir, exist_ok=True)\";\n",
       "                var nbb_cells = Jupyter.notebook.get_cells();\n",
       "                for (var i = 0; i < nbb_cells.length; ++i) {\n",
       "                    if (nbb_cells[i].input_prompt_number == nbb_cell_id) {\n",
       "                        if (nbb_cells[i].get_text() == nbb_unformatted_code) {\n",
       "                             nbb_cells[i].set_text(nbb_formatted_code);\n",
       "                        }\n",
       "                        break;\n",
       "                    }\n",
       "                }\n",
       "            }, 500);\n",
       "            "
      ],
      "text/plain": [
       "<IPython.core.display.Javascript object>"
      ]
     },
     "metadata": {},
     "output_type": "display_data"
    }
   ],
   "source": [
    "output_dir = (\n",
    "    \"../../data/experiments/image_preprocessing/specific_targets_cv_stratified/\"\n",
    ")\n",
    "os.makedirs(output_dir, exist_ok=True)"
   ]
  },
  {
   "cell_type": "code",
   "execution_count": 8,
   "id": "f2dc58f0",
   "metadata": {},
   "outputs": [
    {
     "data": {
      "application/javascript": [
       "\n",
       "            setTimeout(function() {\n",
       "                var nbb_cell_id = 8;\n",
       "                var nbb_unformatted_code = \"label_col = \\\"gene_symbol\\\"\\ngroup_col = \\\"slide_image_name\\\"\\nrandom_state = 1234\\nn_folds = 4\";\n",
       "                var nbb_formatted_code = \"label_col = \\\"gene_symbol\\\"\\ngroup_col = \\\"slide_image_name\\\"\\nrandom_state = 1234\\nn_folds = 4\";\n",
       "                var nbb_cells = Jupyter.notebook.get_cells();\n",
       "                for (var i = 0; i < nbb_cells.length; ++i) {\n",
       "                    if (nbb_cells[i].input_prompt_number == nbb_cell_id) {\n",
       "                        if (nbb_cells[i].get_text() == nbb_unformatted_code) {\n",
       "                             nbb_cells[i].set_text(nbb_formatted_code);\n",
       "                        }\n",
       "                        break;\n",
       "                    }\n",
       "                }\n",
       "            }, 500);\n",
       "            "
      ],
      "text/plain": [
       "<IPython.core.display.Javascript object>"
      ]
     },
     "metadata": {},
     "output_type": "display_data"
    }
   ],
   "source": [
    "label_col = \"gene_symbol\"\n",
    "group_col = \"slide_image_name\"\n",
    "random_state = 1234\n",
    "n_folds = 4"
   ]
  },
  {
   "cell_type": "code",
   "execution_count": 9,
   "id": "781c0e78",
   "metadata": {},
   "outputs": [
    {
     "name": "stdout",
     "output_type": "stream",
     "text": [
      "['AKT1S1', 'ATF4', 'BAX', 'BCL2L11', 'BRAF', 'CASP8', 'CCNE1', 'CDC42', 'CDK2', 'CDKN1A', 'CEBPA', 'CREB1', 'CXXC4', 'DIABLO', 'E2F1', 'ELK1', 'EMPTY', 'ERG', 'FGFR3', 'FOXO1', 'GLI1', 'GSK3B', 'HRAS', 'IRAK4', 'JUN', 'MAP2K3', 'MAP3K2', 'MAP3K5', 'MAP3K9', 'MAPK7', 'MAPK8', 'MOS', 'MYD88', 'PIK3R2', 'PRKACA', 'PRKCA', 'PRKCE', 'RAF1', 'RELB', 'RHOA', 'RPS6KB1', 'SMAD4', 'SMO', 'SRC', 'SREBF1', 'TCF4', 'TGFB1', 'TRAF2', 'TSC2', 'WWTR1']\n",
      "{'MAPK8': 5904, 'MAP3K9': 2054, 'EMPTY': 10992, 'BRAF': 7695, 'MOS': 5744, 'PRKACA': 2380, 'DIABLO': 2548, 'RAF1': 7705, 'GLI1': 2329, 'AKT1S1': 5190, 'CCNE1': 2219, 'TGFB1': 2561, 'SMO': 5289, 'MYD88': 4420, 'FOXO1': 4916, 'RPS6KB1': 8928, 'PRKCE': 10612, 'TCF4': 4580, 'PRKCA': 10992, 'CDC42': 6062, 'RHOA': 5422, 'SREBF1': 2973, 'MAP3K5': 2439, 'BAX': 3040, 'ATF4': 4727, 'TSC2': 2409, 'IRAK4': 2457, 'CDKN1A': 1303, 'MAP3K2': 4176, 'GSK3B': 5448, 'CDK2': 5808, 'CASP8': 686, 'ELK1': 1737, 'PIK3R2': 2902, 'HRAS': 1562, 'FGFR3': 3078, 'SRC': 2607, 'E2F1': 3421, 'ERG': 3174, 'JUN': 4264, 'CEBPA': 3780, 'RELB': 3077, 'TRAF2': 2383, 'BCL2L11': 860, 'MAPK7': 2575, 'CXXC4': 1497, 'MAP2K3': 2802, 'WWTR1': 3716, 'CREB1': 2195, 'SMAD4': 2048}\n"
     ]
    },
    {
     "data": {
      "application/javascript": [
       "\n",
       "            setTimeout(function() {\n",
       "                var nbb_cell_id = 9;\n",
       "                var nbb_unformatted_code = \"target_list = sorted(list(spec_orf_targets) + [\\\"EMPTY\\\"])\\nprint(target_list)\\nfold_data = get_data_splits_for_label(\\n    data=md,\\n    label_col=label_col,\\n    target_list=target_list,\\n    n_folds=n_folds,\\n    group_col=group_col,\\n    random_state=random_state,\\n)\\nfor k, v in fold_data.items():\\n    for i in range(len(v)):\\n        fold_label_data = fold_data[k][i].to_csv(\\n            os.path.join(output_dir, \\\"nuclei_md_{}_fold_{}.csv\\\".format(k, i))\\n        )\";\n",
       "                var nbb_formatted_code = \"target_list = sorted(list(spec_orf_targets) + [\\\"EMPTY\\\"])\\nprint(target_list)\\nfold_data = get_data_splits_for_label(\\n    data=md,\\n    label_col=label_col,\\n    target_list=target_list,\\n    n_folds=n_folds,\\n    group_col=group_col,\\n    random_state=random_state,\\n)\\nfor k, v in fold_data.items():\\n    for i in range(len(v)):\\n        fold_label_data = fold_data[k][i].to_csv(\\n            os.path.join(output_dir, \\\"nuclei_md_{}_fold_{}.csv\\\".format(k, i))\\n        )\";\n",
       "                var nbb_cells = Jupyter.notebook.get_cells();\n",
       "                for (var i = 0; i < nbb_cells.length; ++i) {\n",
       "                    if (nbb_cells[i].input_prompt_number == nbb_cell_id) {\n",
       "                        if (nbb_cells[i].get_text() == nbb_unformatted_code) {\n",
       "                             nbb_cells[i].set_text(nbb_formatted_code);\n",
       "                        }\n",
       "                        break;\n",
       "                    }\n",
       "                }\n",
       "            }, 500);\n",
       "            "
      ],
      "text/plain": [
       "<IPython.core.display.Javascript object>"
      ]
     },
     "metadata": {},
     "output_type": "display_data"
    }
   ],
   "source": [
    "target_list = sorted(list(spec_orf_targets) + [\"EMPTY\"])\n",
    "print(target_list)\n",
    "fold_data = get_data_splits_for_label(\n",
    "    data=md,\n",
    "    label_col=label_col,\n",
    "    target_list=target_list,\n",
    "    n_folds=n_folds,\n",
    "    group_col=group_col,\n",
    "    random_state=random_state,\n",
    ")\n",
    "for k, v in fold_data.items():\n",
    "    for i in range(len(v)):\n",
    "        fold_label_data = fold_data[k][i].to_csv(\n",
    "            os.path.join(output_dir, \"nuclei_md_{}_fold_{}.csv\".format(k, i))\n",
    "        )"
   ]
  },
  {
   "cell_type": "code",
   "execution_count": 10,
   "id": "f90b8269",
   "metadata": {},
   "outputs": [
    {
     "data": {
      "text/plain": [
       "<AxesSubplot:>"
      ]
     },
     "execution_count": 10,
     "metadata": {},
     "output_type": "execute_result"
    },
    {
     "data": {
      "image/png": "[encoded data removed]",
      "text/plain": [
       "<Figure size 720x288 with 1 Axes>"
      ]
     },
     "metadata": {
      "needs_background": "light"
     },
     "output_type": "display_data"
    },
    {
     "data": {
      "application/javascript": [
       "\n",
       "            setTimeout(function() {\n",
       "                var nbb_cell_id = 10;\n",
       "                var nbb_unformatted_code = \"fold_data[\\\"test\\\"][0].gene_symbol.value_counts().plot(kind=\\\"bar\\\", figsize=(10, 4))\";\n",
       "                var nbb_formatted_code = \"fold_data[\\\"test\\\"][0].gene_symbol.value_counts().plot(kind=\\\"bar\\\", figsize=(10, 4))\";\n",
       "                var nbb_cells = Jupyter.notebook.get_cells();\n",
       "                for (var i = 0; i < nbb_cells.length; ++i) {\n",
       "                    if (nbb_cells[i].input_prompt_number == nbb_cell_id) {\n",
       "                        if (nbb_cells[i].get_text() == nbb_unformatted_code) {\n",
       "                             nbb_cells[i].set_text(nbb_formatted_code);\n",
       "                        }\n",
       "                        break;\n",
       "                    }\n",
       "                }\n",
       "            }, 500);\n",
       "            "
      ],
      "text/plain": [
       "<IPython.core.display.Javascript object>"
      ]
     },
     "metadata": {},
     "output_type": "display_data"
    }
   ],
   "source": [
    "fold_data[\"test\"][0].gene_symbol.value_counts().plot(kind=\"bar\", figsize=(10, 4))"
   ]
  },
  {
   "cell_type": "code",
   "execution_count": 11,
   "id": "d9ddf45f",
   "metadata": {},
   "outputs": [
    {
     "data": {
      "text/plain": [
       "<AxesSubplot:>"
      ]
     },
     "execution_count": 11,
     "metadata": {},
     "output_type": "execute_result"
    },
    {
     "data": {
      "image/png": "[encoded data removed]",
      "text/plain": [
       "<Figure size 720x288 with 1 Axes>"
      ]
     },
     "metadata": {
      "needs_background": "light"
     },
     "output_type": "display_data"
    },
    {
     "data": {
      "application/javascript": [
       "\n",
       "            setTimeout(function() {\n",
       "                var nbb_cell_id = 11;\n",
       "                var nbb_unformatted_code = \"fold_data[\\\"test\\\"][1].gene_symbol.value_counts().plot(kind=\\\"bar\\\", figsize=(10, 4))\";\n",
       "                var nbb_formatted_code = \"fold_data[\\\"test\\\"][1].gene_symbol.value_counts().plot(kind=\\\"bar\\\", figsize=(10, 4))\";\n",
       "                var nbb_cells = Jupyter.notebook.get_cells();\n",
       "                for (var i = 0; i < nbb_cells.length; ++i) {\n",
       "                    if (nbb_cells[i].input_prompt_number == nbb_cell_id) {\n",
       "                        if (nbb_cells[i].get_text() == nbb_unformatted_code) {\n",
       "                             nbb_cells[i].set_text(nbb_formatted_code);\n",
       "                        }\n",
       "                        break;\n",
       "                    }\n",
       "                }\n",
       "            }, 500);\n",
       "            "
      ],
      "text/plain": [
       "<IPython.core.display.Javascript object>"
      ]
     },
     "metadata": {},
     "output_type": "display_data"
    }
   ],
   "source": [
    "fold_data[\"test\"][1].gene_symbol.value_counts().plot(kind=\"bar\", figsize=(10, 4))"
   ]
  },
  {
   "cell_type": "code",
   "execution_count": 12,
   "id": "52e35ceb",
   "metadata": {},
   "outputs": [
    {
     "data": {
      "text/plain": [
       "<AxesSubplot:>"
      ]
     },
     "execution_count": 12,
     "metadata": {},
     "output_type": "execute_result"
    },
    {
     "data": {
      "image/png": "[encoded data removed]",
      "text/plain": [
       "<Figure size 720x288 with 1 Axes>"
      ]
     },
     "metadata": {
      "needs_background": "light"
     },
     "output_type": "display_data"
    },
    {
     "data": {
      "application/javascript": [
       "\n",
       "            setTimeout(function() {\n",
       "                var nbb_cell_id = 12;\n",
       "                var nbb_unformatted_code = \"fold_data[\\\"test\\\"][2].gene_symbol.value_counts().plot(kind=\\\"bar\\\", figsize=(10, 4))\";\n",
       "                var nbb_formatted_code = \"fold_data[\\\"test\\\"][2].gene_symbol.value_counts().plot(kind=\\\"bar\\\", figsize=(10, 4))\";\n",
       "                var nbb_cells = Jupyter.notebook.get_cells();\n",
       "                for (var i = 0; i < nbb_cells.length; ++i) {\n",
       "                    if (nbb_cells[i].input_prompt_number == nbb_cell_id) {\n",
       "                        if (nbb_cells[i].get_text() == nbb_unformatted_code) {\n",
       "                             nbb_cells[i].set_text(nbb_formatted_code);\n",
       "                        }\n",
       "                        break;\n",
       "                    }\n",
       "                }\n",
       "            }, 500);\n",
       "            "
      ],
      "text/plain": [
       "<IPython.core.display.Javascript object>"
      ]
     },
     "metadata": {},
     "output_type": "display_data"
    }
   ],
   "source": [
    "fold_data[\"test\"][2].gene_symbol.value_counts().plot(kind=\"bar\", figsize=(10, 4))"
   ]
  },
  {
   "cell_type": "code",
   "execution_count": 13,
   "id": "9c0a42bd",
   "metadata": {},
   "outputs": [
    {
     "data": {
      "text/plain": [
       "<AxesSubplot:>"
      ]
     },
     "execution_count": 13,
     "metadata": {},
     "output_type": "execute_result"
    },
    {
     "data": {
      "image/png": "[encoded data removed]",
      "text/plain": [
       "<Figure size 720x288 with 1 Axes>"
      ]
     },
     "metadata": {
      "needs_background": "light"
     },
     "output_type": "display_data"
    },
    {
     "data": {
      "application/javascript": [
       "\n",
       "            setTimeout(function() {\n",
       "                var nbb_cell_id = 13;\n",
       "                var nbb_unformatted_code = \"fold_data[\\\"test\\\"][3].gene_symbol.value_counts().plot(kind=\\\"bar\\\", figsize=(10, 4))\";\n",
       "                var nbb_formatted_code = \"fold_data[\\\"test\\\"][3].gene_symbol.value_counts().plot(kind=\\\"bar\\\", figsize=(10, 4))\";\n",
       "                var nbb_cells = Jupyter.notebook.get_cells();\n",
       "                for (var i = 0; i < nbb_cells.length; ++i) {\n",
       "                    if (nbb_cells[i].input_prompt_number == nbb_cell_id) {\n",
       "                        if (nbb_cells[i].get_text() == nbb_unformatted_code) {\n",
       "                             nbb_cells[i].set_text(nbb_formatted_code);\n",
       "                        }\n",
       "                        break;\n",
       "                    }\n",
       "                }\n",
       "            }, 500);\n",
       "            "
      ],
      "text/plain": [
       "<IPython.core.display.Javascript object>"
      ]
     },
     "metadata": {},
     "output_type": "display_data"
    }
   ],
   "source": [
    "fold_data[\"test\"][3].gene_symbol.value_counts().plot(kind=\"bar\", figsize=(10, 4))"
   ]
  },
  {
   "cell_type": "code",
   "execution_count": null,
   "id": "309db791",
   "metadata": {},
   "outputs": [],
   "source": []
  }
 ],
 "metadata": {
  "kernelspec": {
   "display_name": "Python 3",
   "language": "python",
   "name": "python3"
  },
  "language_info": {
   "codemirror_mode": {
    "name": "ipython",
    "version": 3
   },
   "file_extension": ".py",
   "mimetype": "text/x-python",
   "name": "python",
   "nbconvert_exporter": "python",
   "pygments_lexer": "ipython3",
   "version": "3.8.10"
  }
 },
 "nbformat": 4,
 "nbformat_minor": 5
}
