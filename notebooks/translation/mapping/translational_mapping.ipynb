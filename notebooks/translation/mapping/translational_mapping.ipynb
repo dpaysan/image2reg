{
 "cells": [
  {
   "cell_type": "markdown",
   "id": "f9571b7c",
   "metadata": {},
   "source": [
    "# Translational mapping\n",
    "\n",
    "In this notebook we explicitely model the link between the regulatory and structural embeddings of the U2OS cells and evaluate their generalizability.\n",
    "\n",
    "---\n",
    "\n",
    "\n",
    "## 0. Enviromental setup\n",
    "\n",
    "We first load the required packages and define a number of helper functions."
   ]
  },
  {
   "cell_type": "code",
   "execution_count": 1,
   "id": "daeed7c7",
   "metadata": {},
   "outputs": [
    {
     "data": {
      "application/javascript": [
       "\n",
       "            setTimeout(function() {\n",
       "                var nbb_cell_id = 1;\n",
       "                var nbb_unformatted_code = \"import pandas as pd\\nimport numpy as np\\nimport matplotlib.pyplot as plt\\nimport seaborn as sns\\nfrom sklearn.preprocessing import StandardScaler\\nfrom sklearn.model_selection import (\\n    train_test_split,\\n    GroupShuffleSplit,\\n    LeaveOneGroupOut,\\n)\\nfrom torch.utils.data import DataLoader, TensorDataset\\nimport torch\\nfrom torch import nn\\nfrom torch.optim import Adam\\nfrom tqdm import tqdm\\nimport copy\\nfrom sklearn.neighbors import NearestNeighbors\\nfrom collections import Counter\\n\\n\\nseed = 1234\\n\\ndevice = \\\"cpu\\\"\\n\\n%load_ext nb_black\";\n",
       "                var nbb_formatted_code = \"import pandas as pd\\nimport numpy as np\\nimport matplotlib.pyplot as plt\\nimport seaborn as sns\\nfrom sklearn.preprocessing import StandardScaler\\nfrom sklearn.model_selection import (\\n    train_test_split,\\n    GroupShuffleSplit,\\n    LeaveOneGroupOut,\\n)\\nfrom torch.utils.data import DataLoader, TensorDataset\\nimport torch\\nfrom torch import nn\\nfrom torch.optim import Adam\\nfrom tqdm import tqdm\\nimport copy\\nfrom sklearn.neighbors import NearestNeighbors\\nfrom collections import Counter\\n\\n\\nseed = 1234\\n\\ndevice = \\\"cpu\\\"\\n\\n%load_ext nb_black\";\n",
       "                var nbb_cells = Jupyter.notebook.get_cells();\n",
       "                for (var i = 0; i < nbb_cells.length; ++i) {\n",
       "                    if (nbb_cells[i].input_prompt_number == nbb_cell_id) {\n",
       "                        if (nbb_cells[i].get_text() == nbb_unformatted_code) {\n",
       "                             nbb_cells[i].set_text(nbb_formatted_code);\n",
       "                        }\n",
       "                        break;\n",
       "                    }\n",
       "                }\n",
       "            }, 500);\n",
       "            "
      ],
      "text/plain": [
       "<IPython.core.display.Javascript object>"
      ]
     },
     "metadata": {},
     "output_type": "display_data"
    }
   ],
   "source": [
    "import pandas as pd\n",
    "import numpy as np\n",
    "import matplotlib.pyplot as plt\n",
    "import seaborn as sns\n",
    "from sklearn.preprocessing import StandardScaler\n",
    "from sklearn.model_selection import (\n",
    "    train_test_split,\n",
    "    GroupShuffleSplit,\n",
    "    LeaveOneGroupOut,\n",
    ")\n",
    "from torch.utils.data import DataLoader, TensorDataset\n",
    "import torch\n",
    "from torch import nn\n",
    "from torch.optim import Adam\n",
    "from tqdm import tqdm\n",
    "import copy\n",
    "from sklearn.neighbors import NearestNeighbors\n",
    "from collections import Counter\n",
    "\n",
    "\n",
    "seed = 1234\n",
    "\n",
    "device = \"cpu\"\n",
    "\n",
    "%load_ext nb_black"
   ]
  },
  {
   "cell_type": "code",
   "execution_count": 2,
   "id": "26881277",
   "metadata": {},
   "outputs": [
    {
     "data": {
      "application/javascript": [
       "\n",
       "            setTimeout(function() {\n",
       "                var nbb_cell_id = 2;\n",
       "                var nbb_unformatted_code = \"def train_model(\\n    model,\\n    optimizer,\\n    criterion,\\n    data_dict,\\n    n_epochs=1000,\\n    early_stopping=50,\\n    device=\\\"cpu\\\",\\n):\\n\\n    best_val_loss = np.infty\\n    best_epoch = 0\\n    best_model_weights = None\\n    es_counter = 0\\n\\n    for i in range(n_epochs):\\n        if es_counter > early_stopping:\\n            break\\n        for mode in [\\\"train\\\", \\\"val\\\"]:\\n            loss = process_single_epoch(\\n                model=model,\\n                optimizer=optimizer,\\n                criterion=criterion,\\n                data=data_dict[mode],\\n                mode=mode,\\n            )\\n            # print(\\\"{} loss: {}\\\".format(mode.upper(), loss))\\n\\n            if mode == \\\"val\\\":\\n                if loss < best_val_loss:\\n                    best_val_loss = loss\\n                    best_epoch = i\\n                    best_model_weights = copy.deepcopy(model.state_dict())\\n                else:\\n                    es_counter += 1\\n\\n    model.load_state_dict(best_model_weights)\\n\\n    for mode in [\\\"train\\\", \\\"val\\\", \\\"test\\\"]:\\n        loss = process_single_epoch(\\n            model, optimizer, criterion, data_dict[mode], \\\"test\\\"\\n        )\\n        print(\\\"{} loss: {}\\\".format(mode.upper(), loss))\\n\\n    return model\\n\\n\\ndef process_single_epoch(model, optimizer, criterion, data, mode, device=\\\"cpu\\\"):\\n    total_loss = 0\\n    model.to(device)\\n    if mode == \\\"train\\\":\\n        model.train()\\n        optimizer.zero_grad()\\n    else:\\n        model.eval()\\n\\n    for inputs, labels, _ in data:\\n        inputs = inputs.type(torch.FloatTensor).to(device)\\n        labels = labels.type(torch.FloatTensor).to(device)\\n\\n        # zero the parameter gradients\\n        optimizer.zero_grad()\\n\\n        # forward\\n        with torch.set_grad_enabled(mode == \\\"train\\\"):\\n            # Get model outputs and calculate loss\\n            outputs = model(inputs)\\n            loss = criterion(outputs, labels)\\n            total_loss += loss.item() * outputs.size(0)\\n\\n            # backward + optimize only if in training phase\\n        if mode == \\\"train\\\":\\n            loss.backward()\\n            optimizer.step()\\n\\n    total_loss /= len(data.dataset)\\n    return total_loss\";\n",
       "                var nbb_formatted_code = \"def train_model(\\n    model,\\n    optimizer,\\n    criterion,\\n    data_dict,\\n    n_epochs=1000,\\n    early_stopping=50,\\n    device=\\\"cpu\\\",\\n):\\n\\n    best_val_loss = np.infty\\n    best_epoch = 0\\n    best_model_weights = None\\n    es_counter = 0\\n\\n    for i in range(n_epochs):\\n        if es_counter > early_stopping:\\n            break\\n        for mode in [\\\"train\\\", \\\"val\\\"]:\\n            loss = process_single_epoch(\\n                model=model,\\n                optimizer=optimizer,\\n                criterion=criterion,\\n                data=data_dict[mode],\\n                mode=mode,\\n            )\\n            # print(\\\"{} loss: {}\\\".format(mode.upper(), loss))\\n\\n            if mode == \\\"val\\\":\\n                if loss < best_val_loss:\\n                    best_val_loss = loss\\n                    best_epoch = i\\n                    best_model_weights = copy.deepcopy(model.state_dict())\\n                else:\\n                    es_counter += 1\\n\\n    model.load_state_dict(best_model_weights)\\n\\n    for mode in [\\\"train\\\", \\\"val\\\", \\\"test\\\"]:\\n        loss = process_single_epoch(\\n            model, optimizer, criterion, data_dict[mode], \\\"test\\\"\\n        )\\n        print(\\\"{} loss: {}\\\".format(mode.upper(), loss))\\n\\n    return model\\n\\n\\ndef process_single_epoch(model, optimizer, criterion, data, mode, device=\\\"cpu\\\"):\\n    total_loss = 0\\n    model.to(device)\\n    if mode == \\\"train\\\":\\n        model.train()\\n        optimizer.zero_grad()\\n    else:\\n        model.eval()\\n\\n    for inputs, labels, _ in data:\\n        inputs = inputs.type(torch.FloatTensor).to(device)\\n        labels = labels.type(torch.FloatTensor).to(device)\\n\\n        # zero the parameter gradients\\n        optimizer.zero_grad()\\n\\n        # forward\\n        with torch.set_grad_enabled(mode == \\\"train\\\"):\\n            # Get model outputs and calculate loss\\n            outputs = model(inputs)\\n            loss = criterion(outputs, labels)\\n            total_loss += loss.item() * outputs.size(0)\\n\\n            # backward + optimize only if in training phase\\n        if mode == \\\"train\\\":\\n            loss.backward()\\n            optimizer.step()\\n\\n    total_loss /= len(data.dataset)\\n    return total_loss\";\n",
       "                var nbb_cells = Jupyter.notebook.get_cells();\n",
       "                for (var i = 0; i < nbb_cells.length; ++i) {\n",
       "                    if (nbb_cells[i].input_prompt_number == nbb_cell_id) {\n",
       "                        if (nbb_cells[i].get_text() == nbb_unformatted_code) {\n",
       "                             nbb_cells[i].set_text(nbb_formatted_code);\n",
       "                        }\n",
       "                        break;\n",
       "                    }\n",
       "                }\n",
       "            }, 500);\n",
       "            "
      ],
      "text/plain": [
       "<IPython.core.display.Javascript object>"
      ]
     },
     "metadata": {},
     "output_type": "display_data"
    }
   ],
   "source": [
    "def train_model(\n",
    "    model,\n",
    "    optimizer,\n",
    "    criterion,\n",
    "    data_dict,\n",
    "    n_epochs=1000,\n",
    "    early_stopping=50,\n",
    "    device=\"cpu\",\n",
    "):\n",
    "\n",
    "    best_val_loss = np.infty\n",
    "    best_epoch = 0\n",
    "    best_model_weights = None\n",
    "    es_counter = 0\n",
    "\n",
    "    for i in range(n_epochs):\n",
    "        if es_counter > early_stopping:\n",
    "            break\n",
    "        for mode in [\"train\", \"val\"]:\n",
    "            loss = process_single_epoch(\n",
    "                model=model,\n",
    "                optimizer=optimizer,\n",
    "                criterion=criterion,\n",
    "                data=data_dict[mode],\n",
    "                mode=mode,\n",
    "            )\n",
    "            # print(\"{} loss: {}\".format(mode.upper(), loss))\n",
    "\n",
    "            if mode == \"val\":\n",
    "                if loss < best_val_loss:\n",
    "                    best_val_loss = loss\n",
    "                    best_epoch = i\n",
    "                    best_model_weights = copy.deepcopy(model.state_dict())\n",
    "                else:\n",
    "                    es_counter += 1\n",
    "\n",
    "    model.load_state_dict(best_model_weights)\n",
    "\n",
    "    for mode in [\"train\", \"val\", \"test\"]:\n",
    "        loss = process_single_epoch(\n",
    "            model, optimizer, criterion, data_dict[mode], \"test\"\n",
    "        )\n",
    "        print(\"{} loss: {}\".format(mode.upper(), loss))\n",
    "\n",
    "    return model\n",
    "\n",
    "\n",
    "def process_single_epoch(model, optimizer, criterion, data, mode, device=\"cpu\"):\n",
    "    total_loss = 0\n",
    "    model.to(device)\n",
    "    if mode == \"train\":\n",
    "        model.train()\n",
    "        optimizer.zero_grad()\n",
    "    else:\n",
    "        model.eval()\n",
    "\n",
    "    for inputs, labels, _ in data:\n",
    "        inputs = inputs.type(torch.FloatTensor).to(device)\n",
    "        labels = labels.type(torch.FloatTensor).to(device)\n",
    "\n",
    "        # zero the parameter gradients\n",
    "        optimizer.zero_grad()\n",
    "\n",
    "        # forward\n",
    "        with torch.set_grad_enabled(mode == \"train\"):\n",
    "            # Get model outputs and calculate loss\n",
    "            outputs = model(inputs)\n",
    "            loss = criterion(outputs, labels)\n",
    "            total_loss += loss.item() * outputs.size(0)\n",
    "\n",
    "            # backward + optimize only if in training phase\n",
    "        if mode == \"train\":\n",
    "            loss.backward()\n",
    "            optimizer.step()\n",
    "\n",
    "    total_loss /= len(data.dataset)\n",
    "    return total_loss"
   ]
  },
  {
   "cell_type": "code",
   "execution_count": 3,
   "id": "ac07fced",
   "metadata": {},
   "outputs": [
    {
     "data": {
      "application/javascript": [
       "\n",
       "            setTimeout(function() {\n",
       "                var nbb_cell_id = 3;\n",
       "                var nbb_unformatted_code = \"class IndexedTensorDataset(torch.utils.data.Dataset):\\n    def __init__(self, data, labels, groups):\\n        super().__init__()\\n        self.data = data\\n        self.labels = labels\\n        self.groups = groups\\n\\n    def __getitem__(self, idx):\\n        return self.data[idx], self.labels[idx], self.groups[idx]\\n\\n    def __len__(self):\\n        return len(self.groups)\";\n",
       "                var nbb_formatted_code = \"class IndexedTensorDataset(torch.utils.data.Dataset):\\n    def __init__(self, data, labels, groups):\\n        super().__init__()\\n        self.data = data\\n        self.labels = labels\\n        self.groups = groups\\n\\n    def __getitem__(self, idx):\\n        return self.data[idx], self.labels[idx], self.groups[idx]\\n\\n    def __len__(self):\\n        return len(self.groups)\";\n",
       "                var nbb_cells = Jupyter.notebook.get_cells();\n",
       "                for (var i = 0; i < nbb_cells.length; ++i) {\n",
       "                    if (nbb_cells[i].input_prompt_number == nbb_cell_id) {\n",
       "                        if (nbb_cells[i].get_text() == nbb_unformatted_code) {\n",
       "                             nbb_cells[i].set_text(nbb_formatted_code);\n",
       "                        }\n",
       "                        break;\n",
       "                    }\n",
       "                }\n",
       "            }, 500);\n",
       "            "
      ],
      "text/plain": [
       "<IPython.core.display.Javascript object>"
      ]
     },
     "metadata": {},
     "output_type": "display_data"
    }
   ],
   "source": [
    "class IndexedTensorDataset(torch.utils.data.Dataset):\n",
    "    def __init__(self, data, labels, groups):\n",
    "        super().__init__()\n",
    "        self.data = data\n",
    "        self.labels = labels\n",
    "        self.groups = groups\n",
    "\n",
    "    def __getitem__(self, idx):\n",
    "        return self.data[idx], self.labels[idx], self.groups[idx]\n",
    "\n",
    "    def __len__(self):\n",
    "        return len(self.groups)"
   ]
  },
  {
   "cell_type": "code",
   "execution_count": 4,
   "id": "b150c930",
   "metadata": {},
   "outputs": [
    {
     "data": {
      "application/javascript": [
       "\n",
       "            setTimeout(function() {\n",
       "                var nbb_cell_id = 4;\n",
       "                var nbb_unformatted_code = \"def get_data_dict(\\n    data,\\n    labels,\\n    val_test_size=[0.2, 0.2],\\n    batch_size=32,\\n    group_labels=None,\\n    scale_x=True,\\n    scale_y=False,\\n    random_state=1234,\\n):\\n\\n    idc = list(range(len(data)))\\n    if group_labels is None:\\n        train_val_idc, test_idc = train_test_split(\\n            idc, test_size=val_test_size[1], random_state=seed\\n        )\\n        train_idc, val_idc = train_test_split(\\n            train_val_idc, test_size=(val_test_size[0] / (1 - val_test_size[1]))\\n        )\\n    else:\\n        gss = GroupShuffleSplit(\\n            n_splits=2, test_size=val_test_size[1], random_state=random_state\\n        )\\n        train_val_idc, test_idc = next(gss.split(idc, groups=group_labels))\\n        gss = GroupShuffleSplit(\\n            n_splits=2,\\n            test_size=(val_test_size[0] / (1 - val_test_size[1])),\\n            random_state=seed,\\n        )\\n        train_idc, val_idc = next(\\n            gss.split(train_val_idc, groups=group_labels[train_val_idc])\\n        )\\n\\n    train_data, train_labels = data.iloc[train_idc], labels.iloc[train_idc]\\n    val_data, val_labels = data.iloc[val_idc], labels.iloc[val_idc]\\n    test_data, test_labels = data.iloc[test_idc], labels.iloc[test_idc]\\n\\n    if scale_x:\\n        sc = StandardScaler().fit(train_data)\\n        train_data = sc.transform(train_data)\\n        val_data = sc.transform(val_data)\\n        test_data = sc.transform(test_data)\\n\\n    if scale_y:\\n        sc = StandardScaler().fit(train_labels)\\n        train_labels = sc.transform(train_labels)\\n        val_labels = sc.transform(val_labels)\\n        test_labels = sc.transform(test_labels)\\n\\n    train_dataset = IndexedTensorDataset(\\n        torch.FloatTensor(np.array(train_data)),\\n        torch.FloatTensor(np.array(train_labels)),\\n        list(labels.iloc[train_idc].index),\\n    )\\n    train_loader = DataLoader(train_dataset, batch_size=batch_size, shuffle=True)\\n\\n    val_dataset = IndexedTensorDataset(\\n        torch.FloatTensor(np.array(val_data)),\\n        torch.FloatTensor(np.array(val_labels)),\\n        list(labels.iloc[val_idc].index),\\n    )\\n    val_loader = DataLoader(val_dataset, batch_size=batch_size, shuffle=False)\\n\\n    test_dataset = IndexedTensorDataset(\\n        torch.FloatTensor(np.array(test_data)),\\n        torch.FloatTensor(np.array(test_labels)),\\n        list(labels.iloc[test_idc].index),\\n    )\\n    test_loader = DataLoader(test_dataset, batch_size=batch_size, shuffle=False)\\n\\n    return {\\\"train\\\": train_loader, \\\"val\\\": val_loader, \\\"test\\\": test_loader}\";\n",
       "                var nbb_formatted_code = \"def get_data_dict(\\n    data,\\n    labels,\\n    val_test_size=[0.2, 0.2],\\n    batch_size=32,\\n    group_labels=None,\\n    scale_x=True,\\n    scale_y=False,\\n    random_state=1234,\\n):\\n\\n    idc = list(range(len(data)))\\n    if group_labels is None:\\n        train_val_idc, test_idc = train_test_split(\\n            idc, test_size=val_test_size[1], random_state=seed\\n        )\\n        train_idc, val_idc = train_test_split(\\n            train_val_idc, test_size=(val_test_size[0] / (1 - val_test_size[1]))\\n        )\\n    else:\\n        gss = GroupShuffleSplit(\\n            n_splits=2, test_size=val_test_size[1], random_state=random_state\\n        )\\n        train_val_idc, test_idc = next(gss.split(idc, groups=group_labels))\\n        gss = GroupShuffleSplit(\\n            n_splits=2,\\n            test_size=(val_test_size[0] / (1 - val_test_size[1])),\\n            random_state=seed,\\n        )\\n        train_idc, val_idc = next(\\n            gss.split(train_val_idc, groups=group_labels[train_val_idc])\\n        )\\n\\n    train_data, train_labels = data.iloc[train_idc], labels.iloc[train_idc]\\n    val_data, val_labels = data.iloc[val_idc], labels.iloc[val_idc]\\n    test_data, test_labels = data.iloc[test_idc], labels.iloc[test_idc]\\n\\n    if scale_x:\\n        sc = StandardScaler().fit(train_data)\\n        train_data = sc.transform(train_data)\\n        val_data = sc.transform(val_data)\\n        test_data = sc.transform(test_data)\\n\\n    if scale_y:\\n        sc = StandardScaler().fit(train_labels)\\n        train_labels = sc.transform(train_labels)\\n        val_labels = sc.transform(val_labels)\\n        test_labels = sc.transform(test_labels)\\n\\n    train_dataset = IndexedTensorDataset(\\n        torch.FloatTensor(np.array(train_data)),\\n        torch.FloatTensor(np.array(train_labels)),\\n        list(labels.iloc[train_idc].index),\\n    )\\n    train_loader = DataLoader(train_dataset, batch_size=batch_size, shuffle=True)\\n\\n    val_dataset = IndexedTensorDataset(\\n        torch.FloatTensor(np.array(val_data)),\\n        torch.FloatTensor(np.array(val_labels)),\\n        list(labels.iloc[val_idc].index),\\n    )\\n    val_loader = DataLoader(val_dataset, batch_size=batch_size, shuffle=False)\\n\\n    test_dataset = IndexedTensorDataset(\\n        torch.FloatTensor(np.array(test_data)),\\n        torch.FloatTensor(np.array(test_labels)),\\n        list(labels.iloc[test_idc].index),\\n    )\\n    test_loader = DataLoader(test_dataset, batch_size=batch_size, shuffle=False)\\n\\n    return {\\\"train\\\": train_loader, \\\"val\\\": val_loader, \\\"test\\\": test_loader}\";\n",
       "                var nbb_cells = Jupyter.notebook.get_cells();\n",
       "                for (var i = 0; i < nbb_cells.length; ++i) {\n",
       "                    if (nbb_cells[i].input_prompt_number == nbb_cell_id) {\n",
       "                        if (nbb_cells[i].get_text() == nbb_unformatted_code) {\n",
       "                             nbb_cells[i].set_text(nbb_formatted_code);\n",
       "                        }\n",
       "                        break;\n",
       "                    }\n",
       "                }\n",
       "            }, 500);\n",
       "            "
      ],
      "text/plain": [
       "<IPython.core.display.Javascript object>"
      ]
     },
     "metadata": {},
     "output_type": "display_data"
    }
   ],
   "source": [
    "def get_data_dict(\n",
    "    data,\n",
    "    labels,\n",
    "    val_test_size=[0.2, 0.2],\n",
    "    batch_size=32,\n",
    "    group_labels=None,\n",
    "    scale_x=True,\n",
    "    scale_y=False,\n",
    "    random_state=1234,\n",
    "):\n",
    "\n",
    "    idc = list(range(len(data)))\n",
    "    if group_labels is None:\n",
    "        train_val_idc, test_idc = train_test_split(\n",
    "            idc, test_size=val_test_size[1], random_state=seed\n",
    "        )\n",
    "        train_idc, val_idc = train_test_split(\n",
    "            train_val_idc, test_size=(val_test_size[0] / (1 - val_test_size[1]))\n",
    "        )\n",
    "    else:\n",
    "        gss = GroupShuffleSplit(\n",
    "            n_splits=2, test_size=val_test_size[1], random_state=random_state\n",
    "        )\n",
    "        train_val_idc, test_idc = next(gss.split(idc, groups=group_labels))\n",
    "        gss = GroupShuffleSplit(\n",
    "            n_splits=2,\n",
    "            test_size=(val_test_size[0] / (1 - val_test_size[1])),\n",
    "            random_state=seed,\n",
    "        )\n",
    "        train_idc, val_idc = next(\n",
    "            gss.split(train_val_idc, groups=group_labels[train_val_idc])\n",
    "        )\n",
    "\n",
    "    train_data, train_labels = data.iloc[train_idc], labels.iloc[train_idc]\n",
    "    val_data, val_labels = data.iloc[val_idc], labels.iloc[val_idc]\n",
    "    test_data, test_labels = data.iloc[test_idc], labels.iloc[test_idc]\n",
    "\n",
    "    if scale_x:\n",
    "        sc = StandardScaler().fit(train_data)\n",
    "        train_data = sc.transform(train_data)\n",
    "        val_data = sc.transform(val_data)\n",
    "        test_data = sc.transform(test_data)\n",
    "\n",
    "    if scale_y:\n",
    "        sc = StandardScaler().fit(train_labels)\n",
    "        train_labels = sc.transform(train_labels)\n",
    "        val_labels = sc.transform(val_labels)\n",
    "        test_labels = sc.transform(test_labels)\n",
    "\n",
    "    train_dataset = IndexedTensorDataset(\n",
    "        torch.FloatTensor(np.array(train_data)),\n",
    "        torch.FloatTensor(np.array(train_labels)),\n",
    "        list(labels.iloc[train_idc].index),\n",
    "    )\n",
    "    train_loader = DataLoader(train_dataset, batch_size=batch_size, shuffle=True)\n",
    "\n",
    "    val_dataset = IndexedTensorDataset(\n",
    "        torch.FloatTensor(np.array(val_data)),\n",
    "        torch.FloatTensor(np.array(val_labels)),\n",
    "        list(labels.iloc[val_idc].index),\n",
    "    )\n",
    "    val_loader = DataLoader(val_dataset, batch_size=batch_size, shuffle=False)\n",
    "\n",
    "    test_dataset = IndexedTensorDataset(\n",
    "        torch.FloatTensor(np.array(test_data)),\n",
    "        torch.FloatTensor(np.array(test_labels)),\n",
    "        list(labels.iloc[test_idc].index),\n",
    "    )\n",
    "    test_loader = DataLoader(test_dataset, batch_size=batch_size, shuffle=False)\n",
    "\n",
    "    return {\"train\": train_loader, \"val\": val_loader, \"test\": test_loader}"
   ]
  },
  {
   "cell_type": "code",
   "execution_count": 5,
   "id": "e5d40881",
   "metadata": {},
   "outputs": [
    {
     "data": {
      "application/javascript": [
       "\n",
       "            setTimeout(function() {\n",
       "                var nbb_cell_id = 5;\n",
       "                var nbb_unformatted_code = \"def evaluate_top_k_accuracy(preds, labels, node_embs, k=5, random_state=1234):\\n    np.random.seed(random_state)\\n    k_correct = 0\\n    k_baseline_correct = 0\\n    neigh = NearestNeighbors(n_neighbors=k, p=2)\\n    targets = np.array(node_embs.index)\\n    counts = Counter(labels)\\n    most_common = list(sorted(counts, key=counts.get, reverse=True))\\n    # print(most_common)\\n    fitted_neigh = neigh.fit(np.array(node_embs))\\n\\n    neighbor_preds = fitted_neigh.kneighbors(preds, k, return_distance=False)\\n    for i in range(len(neighbor_preds)):\\n        if labels[i] in targets[neighbor_preds[i]]:\\n            k_correct += 1\\n        if labels[i] in np.random.choice(targets, size=k):\\n            k_baseline_correct += 1\\n    return k_correct / len(labels), k_baseline_correct / len(labels)\";\n",
       "                var nbb_formatted_code = \"def evaluate_top_k_accuracy(preds, labels, node_embs, k=5, random_state=1234):\\n    np.random.seed(random_state)\\n    k_correct = 0\\n    k_baseline_correct = 0\\n    neigh = NearestNeighbors(n_neighbors=k, p=2)\\n    targets = np.array(node_embs.index)\\n    counts = Counter(labels)\\n    most_common = list(sorted(counts, key=counts.get, reverse=True))\\n    # print(most_common)\\n    fitted_neigh = neigh.fit(np.array(node_embs))\\n\\n    neighbor_preds = fitted_neigh.kneighbors(preds, k, return_distance=False)\\n    for i in range(len(neighbor_preds)):\\n        if labels[i] in targets[neighbor_preds[i]]:\\n            k_correct += 1\\n        if labels[i] in np.random.choice(targets, size=k):\\n            k_baseline_correct += 1\\n    return k_correct / len(labels), k_baseline_correct / len(labels)\";\n",
       "                var nbb_cells = Jupyter.notebook.get_cells();\n",
       "                for (var i = 0; i < nbb_cells.length; ++i) {\n",
       "                    if (nbb_cells[i].input_prompt_number == nbb_cell_id) {\n",
       "                        if (nbb_cells[i].get_text() == nbb_unformatted_code) {\n",
       "                             nbb_cells[i].set_text(nbb_formatted_code);\n",
       "                        }\n",
       "                        break;\n",
       "                    }\n",
       "                }\n",
       "            }, 500);\n",
       "            "
      ],
      "text/plain": [
       "<IPython.core.display.Javascript object>"
      ]
     },
     "metadata": {},
     "output_type": "display_data"
    }
   ],
   "source": [
    "def evaluate_top_k_accuracy(preds, labels, node_embs, k=5, random_state=1234):\n",
    "    np.random.seed(random_state)\n",
    "    k_correct = 0\n",
    "    k_baseline_correct = 0\n",
    "    neigh = NearestNeighbors(n_neighbors=k, p=2)\n",
    "    targets = np.array(node_embs.index)\n",
    "    counts = Counter(labels)\n",
    "    most_common = list(sorted(counts, key=counts.get, reverse=True))\n",
    "    # print(most_common)\n",
    "    fitted_neigh = neigh.fit(np.array(node_embs))\n",
    "\n",
    "    neighbor_preds = fitted_neigh.kneighbors(preds, k, return_distance=False)\n",
    "    for i in range(len(neighbor_preds)):\n",
    "        if labels[i] in targets[neighbor_preds[i]]:\n",
    "            k_correct += 1\n",
    "        if labels[i] in np.random.choice(targets, size=k):\n",
    "            k_baseline_correct += 1\n",
    "    return k_correct / len(labels), k_baseline_correct / len(labels)"
   ]
  },
  {
   "cell_type": "code",
   "execution_count": 6,
   "id": "bf865155",
   "metadata": {},
   "outputs": [
    {
     "data": {
      "application/javascript": [
       "\n",
       "            setTimeout(function() {\n",
       "                var nbb_cell_id = 6;\n",
       "                var nbb_unformatted_code = \"def get_preds_label_dict(model, data):\\n    preds = []\\n    labels = []\\n\\n    model.eval()\\n\\n    for batch_inputs, _, batch_labels in data:\\n        batch_preds = model(batch_inputs)\\n        preds.extend(list(batch_preds.clone().detach().numpy()))\\n        labels.extend(list(batch_labels))\\n    return np.array(preds), np.array(labels)\";\n",
       "                var nbb_formatted_code = \"def get_preds_label_dict(model, data):\\n    preds = []\\n    labels = []\\n\\n    model.eval()\\n\\n    for batch_inputs, _, batch_labels in data:\\n        batch_preds = model(batch_inputs)\\n        preds.extend(list(batch_preds.clone().detach().numpy()))\\n        labels.extend(list(batch_labels))\\n    return np.array(preds), np.array(labels)\";\n",
       "                var nbb_cells = Jupyter.notebook.get_cells();\n",
       "                for (var i = 0; i < nbb_cells.length; ++i) {\n",
       "                    if (nbb_cells[i].input_prompt_number == nbb_cell_id) {\n",
       "                        if (nbb_cells[i].get_text() == nbb_unformatted_code) {\n",
       "                             nbb_cells[i].set_text(nbb_formatted_code);\n",
       "                        }\n",
       "                        break;\n",
       "                    }\n",
       "                }\n",
       "            }, 500);\n",
       "            "
      ],
      "text/plain": [
       "<IPython.core.display.Javascript object>"
      ]
     },
     "metadata": {},
     "output_type": "display_data"
    }
   ],
   "source": [
    "def get_preds_label_dict(model, data):\n",
    "    preds = []\n",
    "    labels = []\n",
    "\n",
    "    model.eval()\n",
    "\n",
    "    for batch_inputs, _, batch_labels in data:\n",
    "        batch_preds = model(batch_inputs)\n",
    "        preds.extend(list(batch_preds.clone().detach().numpy()))\n",
    "        labels.extend(list(batch_labels))\n",
    "    return np.array(preds), np.array(labels)"
   ]
  },
  {
   "cell_type": "markdown",
   "id": "16f29141",
   "metadata": {},
   "source": [
    "---\n",
    "\n",
    "## 1. Read in data\n",
    "\n",
    "Next, we read in the different data sets that we will use for the modelling and evaluation of the translational mappings. The first data set includes all structural embeddings from data held-out during training as well as the regulatory embeddings of the 244 genes that are part of the inferred interactome."
   ]
  },
  {
   "cell_type": "code",
   "execution_count": 7,
   "id": "89100678",
   "metadata": {},
   "outputs": [
    {
     "data": {
      "text/html": [
       "<div>\n",
       "<style scoped>\n",
       "    .dataframe tbody tr th:only-of-type {\n",
       "        vertical-align: middle;\n",
       "    }\n",
       "\n",
       "    .dataframe tbody tr th {\n",
       "        vertical-align: top;\n",
       "    }\n",
       "\n",
       "    .dataframe thead th {\n",
       "        text-align: right;\n",
       "    }\n",
       "</style>\n",
       "<table border=\"1\" class=\"dataframe\">\n",
       "  <thead>\n",
       "    <tr style=\"text-align: right;\">\n",
       "      <th></th>\n",
       "      <th>0</th>\n",
       "      <th>1</th>\n",
       "      <th>2</th>\n",
       "      <th>3</th>\n",
       "      <th>4</th>\n",
       "      <th>5</th>\n",
       "      <th>6</th>\n",
       "      <th>7</th>\n",
       "      <th>8</th>\n",
       "      <th>9</th>\n",
       "      <th>...</th>\n",
       "      <th>118</th>\n",
       "      <th>119</th>\n",
       "      <th>120</th>\n",
       "      <th>121</th>\n",
       "      <th>122</th>\n",
       "      <th>123</th>\n",
       "      <th>124</th>\n",
       "      <th>125</th>\n",
       "      <th>126</th>\n",
       "      <th>127</th>\n",
       "    </tr>\n",
       "  </thead>\n",
       "  <tbody>\n",
       "    <tr>\n",
       "      <th>CDCA2</th>\n",
       "      <td>-0.046519</td>\n",
       "      <td>-0.049060</td>\n",
       "      <td>-0.065633</td>\n",
       "      <td>0.102739</td>\n",
       "      <td>-0.037012</td>\n",
       "      <td>0.067560</td>\n",
       "      <td>0.070266</td>\n",
       "      <td>-0.008673</td>\n",
       "      <td>0.128273</td>\n",
       "      <td>0.004020</td>\n",
       "      <td>...</td>\n",
       "      <td>-0.071056</td>\n",
       "      <td>-0.156410</td>\n",
       "      <td>0.006000</td>\n",
       "      <td>0.093432</td>\n",
       "      <td>0.034559</td>\n",
       "      <td>0.010527</td>\n",
       "      <td>-0.045864</td>\n",
       "      <td>0.068302</td>\n",
       "      <td>0.115374</td>\n",
       "      <td>-0.101571</td>\n",
       "    </tr>\n",
       "    <tr>\n",
       "      <th>APPBP2</th>\n",
       "      <td>-0.093607</td>\n",
       "      <td>-0.018010</td>\n",
       "      <td>0.060400</td>\n",
       "      <td>-0.022461</td>\n",
       "      <td>0.071339</td>\n",
       "      <td>0.044652</td>\n",
       "      <td>-0.002030</td>\n",
       "      <td>0.008269</td>\n",
       "      <td>-0.100545</td>\n",
       "      <td>-0.035760</td>\n",
       "      <td>...</td>\n",
       "      <td>-0.100010</td>\n",
       "      <td>0.168263</td>\n",
       "      <td>-0.103005</td>\n",
       "      <td>-0.055163</td>\n",
       "      <td>0.053544</td>\n",
       "      <td>-0.075707</td>\n",
       "      <td>0.119875</td>\n",
       "      <td>0.000469</td>\n",
       "      <td>0.004186</td>\n",
       "      <td>0.123274</td>\n",
       "    </tr>\n",
       "    <tr>\n",
       "      <th>TK1</th>\n",
       "      <td>0.023958</td>\n",
       "      <td>0.160870</td>\n",
       "      <td>-0.038898</td>\n",
       "      <td>-0.067761</td>\n",
       "      <td>-0.060810</td>\n",
       "      <td>-0.001184</td>\n",
       "      <td>0.000734</td>\n",
       "      <td>0.029148</td>\n",
       "      <td>0.024501</td>\n",
       "      <td>-0.096013</td>\n",
       "      <td>...</td>\n",
       "      <td>0.057610</td>\n",
       "      <td>-0.050949</td>\n",
       "      <td>-0.017972</td>\n",
       "      <td>0.008282</td>\n",
       "      <td>-0.003922</td>\n",
       "      <td>-0.061075</td>\n",
       "      <td>0.055963</td>\n",
       "      <td>0.034356</td>\n",
       "      <td>0.079510</td>\n",
       "      <td>-0.078223</td>\n",
       "    </tr>\n",
       "    <tr>\n",
       "      <th>MMP2</th>\n",
       "      <td>-0.036499</td>\n",
       "      <td>-0.147354</td>\n",
       "      <td>0.082521</td>\n",
       "      <td>0.133464</td>\n",
       "      <td>0.180986</td>\n",
       "      <td>-0.040401</td>\n",
       "      <td>0.066718</td>\n",
       "      <td>-0.040661</td>\n",
       "      <td>-0.171430</td>\n",
       "      <td>0.154789</td>\n",
       "      <td>...</td>\n",
       "      <td>-0.090356</td>\n",
       "      <td>0.352892</td>\n",
       "      <td>0.012735</td>\n",
       "      <td>-0.153441</td>\n",
       "      <td>-0.086582</td>\n",
       "      <td>0.092603</td>\n",
       "      <td>0.052464</td>\n",
       "      <td>0.000355</td>\n",
       "      <td>-0.323068</td>\n",
       "      <td>0.277830</td>\n",
       "    </tr>\n",
       "    <tr>\n",
       "      <th>PRKACA</th>\n",
       "      <td>0.021894</td>\n",
       "      <td>0.071289</td>\n",
       "      <td>0.021641</td>\n",
       "      <td>-0.079990</td>\n",
       "      <td>0.044919</td>\n",
       "      <td>-0.082366</td>\n",
       "      <td>0.013962</td>\n",
       "      <td>-0.063172</td>\n",
       "      <td>-0.081244</td>\n",
       "      <td>-0.032706</td>\n",
       "      <td>...</td>\n",
       "      <td>0.062312</td>\n",
       "      <td>0.063952</td>\n",
       "      <td>-0.050152</td>\n",
       "      <td>0.112115</td>\n",
       "      <td>-0.041111</td>\n",
       "      <td>0.073021</td>\n",
       "      <td>0.032152</td>\n",
       "      <td>-0.068759</td>\n",
       "      <td>-0.117734</td>\n",
       "      <td>0.067075</td>\n",
       "    </tr>\n",
       "  </tbody>\n",
       "</table>\n",
       "<p>5 rows × 128 columns</p>\n",
       "</div>"
      ],
      "text/plain": [
       "               0         1         2         3         4         5         6  \\\n",
       "CDCA2  -0.046519 -0.049060 -0.065633  0.102739 -0.037012  0.067560  0.070266   \n",
       "APPBP2 -0.093607 -0.018010  0.060400 -0.022461  0.071339  0.044652 -0.002030   \n",
       "TK1     0.023958  0.160870 -0.038898 -0.067761 -0.060810 -0.001184  0.000734   \n",
       "MMP2   -0.036499 -0.147354  0.082521  0.133464  0.180986 -0.040401  0.066718   \n",
       "PRKACA  0.021894  0.071289  0.021641 -0.079990  0.044919 -0.082366  0.013962   \n",
       "\n",
       "               7         8         9  ...       118       119       120  \\\n",
       "CDCA2  -0.008673  0.128273  0.004020  ... -0.071056 -0.156410  0.006000   \n",
       "APPBP2  0.008269 -0.100545 -0.035760  ... -0.100010  0.168263 -0.103005   \n",
       "TK1     0.029148  0.024501 -0.096013  ...  0.057610 -0.050949 -0.017972   \n",
       "MMP2   -0.040661 -0.171430  0.154789  ... -0.090356  0.352892  0.012735   \n",
       "PRKACA -0.063172 -0.081244 -0.032706  ...  0.062312  0.063952 -0.050152   \n",
       "\n",
       "             121       122       123       124       125       126       127  \n",
       "CDCA2   0.093432  0.034559  0.010527 -0.045864  0.068302  0.115374 -0.101571  \n",
       "APPBP2 -0.055163  0.053544 -0.075707  0.119875  0.000469  0.004186  0.123274  \n",
       "TK1     0.008282 -0.003922 -0.061075  0.055963  0.034356  0.079510 -0.078223  \n",
       "MMP2   -0.153441 -0.086582  0.092603  0.052464  0.000355 -0.323068  0.277830  \n",
       "PRKACA  0.112115 -0.041111  0.073021  0.032152 -0.068759 -0.117734  0.067075  \n",
       "\n",
       "[5 rows x 128 columns]"
      ]
     },
     "execution_count": 7,
     "metadata": {},
     "output_type": "execute_result"
    },
    {
     "data": {
      "application/javascript": [
       "\n",
       "            setTimeout(function() {\n",
       "                var nbb_cell_id = 7;\n",
       "                var nbb_unformatted_code = \"node_embs = pd.read_csv(\\n    \\\"../../../data/ppi/embedding/node_embeddings_cv.csv\\\", index_col=0\\n)\\nnode_embs.head()\";\n",
       "                var nbb_formatted_code = \"node_embs = pd.read_csv(\\n    \\\"../../../data/ppi/embedding/node_embeddings_cv.csv\\\", index_col=0\\n)\\nnode_embs.head()\";\n",
       "                var nbb_cells = Jupyter.notebook.get_cells();\n",
       "                for (var i = 0; i < nbb_cells.length; ++i) {\n",
       "                    if (nbb_cells[i].input_prompt_number == nbb_cell_id) {\n",
       "                        if (nbb_cells[i].get_text() == nbb_unformatted_code) {\n",
       "                             nbb_cells[i].set_text(nbb_formatted_code);\n",
       "                        }\n",
       "                        break;\n",
       "                    }\n",
       "                }\n",
       "            }, 500);\n",
       "            "
      ],
      "text/plain": [
       "<IPython.core.display.Javascript object>"
      ]
     },
     "metadata": {},
     "output_type": "display_data"
    }
   ],
   "source": [
    "node_embs = pd.read_csv(\n",
    "    \"../../../data/ppi/embedding/node_embeddings_cv.csv\", index_col=0\n",
    ")\n",
    "node_embs.head()"
   ]
  },
  {
   "cell_type": "markdown",
   "id": "797e82dd",
   "metadata": {},
   "source": [
    "After having loaded the regulatory embeddings, we will now load the structural embeddings defined by the embeddings of the images held-out during the different folds of the cross-validation. Note that we do not group the data of the individual folds as the inferred models map to different latent spaces. We will also decode the numerical labels."
   ]
  },
  {
   "cell_type": "code",
   "execution_count": 8,
   "id": "7cf54c60",
   "metadata": {},
   "outputs": [
    {
     "data": {
      "application/javascript": [
       "\n",
       "            setTimeout(function() {\n",
       "                var nbb_cell_id = 8;\n",
       "                var nbb_unformatted_code = \"label_dict = {\\n    \\\"AKT1S1\\\": 0,\\n    \\\"APC\\\": 1,\\n    \\\"ATF4\\\": 2,\\n    \\\"BAX\\\": 3,\\n    \\\"BCL2L11\\\": 4,\\n    \\\"BRAF\\\": 5,\\n    \\\"CASP8\\\": 6,\\n    \\\"CDC42\\\": 7,\\n    \\\"CDKN1A\\\": 8,\\n    \\\"CEBPA\\\": 9,\\n    \\\"CREB1\\\": 10,\\n    \\\"CSNK1E\\\": 11,\\n    \\\"CXXC4\\\": 12,\\n    \\\"DIABLO\\\": 13,\\n    \\\"E2F1\\\": 14,\\n    \\\"ELK1\\\": 15,\\n    \\\"EMPTY\\\": 16,\\n    \\\"ERG\\\": 17,\\n    \\\"FGFR3\\\": 18,\\n    \\\"FOXO1\\\": 19,\\n    \\\"GLI1\\\": 20,\\n    \\\"HRAS\\\": 21,\\n    \\\"IRAK4\\\": 22,\\n    \\\"JUN\\\": 23,\\n    \\\"KRAS\\\": 24,\\n    \\\"MAP2K3\\\": 25,\\n    \\\"MAP3K2\\\": 26,\\n    \\\"MAP3K5\\\": 27,\\n    \\\"MAP3K9\\\": 28,\\n    \\\"MAPK7\\\": 29,\\n    \\\"MOS\\\": 30,\\n    \\\"MYD88\\\": 31,\\n    \\\"PIK3R2\\\": 32,\\n    \\\"PKIA\\\": 33,\\n    \\\"PRKACA\\\": 34,\\n    \\\"PRKCE\\\": 35,\\n    \\\"RAF1\\\": 36,\\n    \\\"RELB\\\": 37,\\n    \\\"RHOA\\\": 38,\\n    \\\"SMAD3\\\": 39,\\n    \\\"SMAD4\\\": 40,\\n    \\\"SMO\\\": 41,\\n    \\\"SRC\\\": 42,\\n    \\\"SREBF1\\\": 43,\\n    \\\"TRAF2\\\": 44,\\n    \\\"TSC2\\\": 45,\\n    \\\"WWTR1\\\": 46,\\n}\\n\\nlabel_dict = {v: k for k, v in label_dict.items()}\\n\\n\\nimg_embs_dict = {}\\nfor i in range(4):\\n    img_embs = pd.read_hdf(\\n        \\\"../../../data/experiments/image_embeddings/specificity_target_emb_cv_strat/final_1024/fold_{}/test_latents.h5\\\".format(\\n            i\\n        )\\n    )\\n    img_embs.iloc[:, -1] = img_embs.iloc[:, -1].map(label_dict)\\n    img_embs_dict[\\\"fold{}\\\".format(i)] = img_embs\";\n",
       "                var nbb_formatted_code = \"label_dict = {\\n    \\\"AKT1S1\\\": 0,\\n    \\\"APC\\\": 1,\\n    \\\"ATF4\\\": 2,\\n    \\\"BAX\\\": 3,\\n    \\\"BCL2L11\\\": 4,\\n    \\\"BRAF\\\": 5,\\n    \\\"CASP8\\\": 6,\\n    \\\"CDC42\\\": 7,\\n    \\\"CDKN1A\\\": 8,\\n    \\\"CEBPA\\\": 9,\\n    \\\"CREB1\\\": 10,\\n    \\\"CSNK1E\\\": 11,\\n    \\\"CXXC4\\\": 12,\\n    \\\"DIABLO\\\": 13,\\n    \\\"E2F1\\\": 14,\\n    \\\"ELK1\\\": 15,\\n    \\\"EMPTY\\\": 16,\\n    \\\"ERG\\\": 17,\\n    \\\"FGFR3\\\": 18,\\n    \\\"FOXO1\\\": 19,\\n    \\\"GLI1\\\": 20,\\n    \\\"HRAS\\\": 21,\\n    \\\"IRAK4\\\": 22,\\n    \\\"JUN\\\": 23,\\n    \\\"KRAS\\\": 24,\\n    \\\"MAP2K3\\\": 25,\\n    \\\"MAP3K2\\\": 26,\\n    \\\"MAP3K5\\\": 27,\\n    \\\"MAP3K9\\\": 28,\\n    \\\"MAPK7\\\": 29,\\n    \\\"MOS\\\": 30,\\n    \\\"MYD88\\\": 31,\\n    \\\"PIK3R2\\\": 32,\\n    \\\"PKIA\\\": 33,\\n    \\\"PRKACA\\\": 34,\\n    \\\"PRKCE\\\": 35,\\n    \\\"RAF1\\\": 36,\\n    \\\"RELB\\\": 37,\\n    \\\"RHOA\\\": 38,\\n    \\\"SMAD3\\\": 39,\\n    \\\"SMAD4\\\": 40,\\n    \\\"SMO\\\": 41,\\n    \\\"SRC\\\": 42,\\n    \\\"SREBF1\\\": 43,\\n    \\\"TRAF2\\\": 44,\\n    \\\"TSC2\\\": 45,\\n    \\\"WWTR1\\\": 46,\\n}\\n\\nlabel_dict = {v: k for k, v in label_dict.items()}\\n\\n\\nimg_embs_dict = {}\\nfor i in range(4):\\n    img_embs = pd.read_hdf(\\n        \\\"../../../data/experiments/image_embeddings/specificity_target_emb_cv_strat/final_1024/fold_{}/test_latents.h5\\\".format(\\n            i\\n        )\\n    )\\n    img_embs.iloc[:, -1] = img_embs.iloc[:, -1].map(label_dict)\\n    img_embs_dict[\\\"fold{}\\\".format(i)] = img_embs\";\n",
       "                var nbb_cells = Jupyter.notebook.get_cells();\n",
       "                for (var i = 0; i < nbb_cells.length; ++i) {\n",
       "                    if (nbb_cells[i].input_prompt_number == nbb_cell_id) {\n",
       "                        if (nbb_cells[i].get_text() == nbb_unformatted_code) {\n",
       "                             nbb_cells[i].set_text(nbb_formatted_code);\n",
       "                        }\n",
       "                        break;\n",
       "                    }\n",
       "                }\n",
       "            }, 500);\n",
       "            "
      ],
      "text/plain": [
       "<IPython.core.display.Javascript object>"
      ]
     },
     "metadata": {},
     "output_type": "display_data"
    }
   ],
   "source": [
    "label_dict = {\n",
    "    \"AKT1S1\": 0,\n",
    "    \"APC\": 1,\n",
    "    \"ATF4\": 2,\n",
    "    \"BAX\": 3,\n",
    "    \"BCL2L11\": 4,\n",
    "    \"BRAF\": 5,\n",
    "    \"CASP8\": 6,\n",
    "    \"CDC42\": 7,\n",
    "    \"CDKN1A\": 8,\n",
    "    \"CEBPA\": 9,\n",
    "    \"CREB1\": 10,\n",
    "    \"CSNK1E\": 11,\n",
    "    \"CXXC4\": 12,\n",
    "    \"DIABLO\": 13,\n",
    "    \"E2F1\": 14,\n",
    "    \"ELK1\": 15,\n",
    "    \"EMPTY\": 16,\n",
    "    \"ERG\": 17,\n",
    "    \"FGFR3\": 18,\n",
    "    \"FOXO1\": 19,\n",
    "    \"GLI1\": 20,\n",
    "    \"HRAS\": 21,\n",
    "    \"IRAK4\": 22,\n",
    "    \"JUN\": 23,\n",
    "    \"KRAS\": 24,\n",
    "    \"MAP2K3\": 25,\n",
    "    \"MAP3K2\": 26,\n",
    "    \"MAP3K5\": 27,\n",
    "    \"MAP3K9\": 28,\n",
    "    \"MAPK7\": 29,\n",
    "    \"MOS\": 30,\n",
    "    \"MYD88\": 31,\n",
    "    \"PIK3R2\": 32,\n",
    "    \"PKIA\": 33,\n",
    "    \"PRKACA\": 34,\n",
    "    \"PRKCE\": 35,\n",
    "    \"RAF1\": 36,\n",
    "    \"RELB\": 37,\n",
    "    \"RHOA\": 38,\n",
    "    \"SMAD3\": 39,\n",
    "    \"SMAD4\": 40,\n",
    "    \"SMO\": 41,\n",
    "    \"SRC\": 42,\n",
    "    \"SREBF1\": 43,\n",
    "    \"TRAF2\": 44,\n",
    "    \"TSC2\": 45,\n",
    "    \"WWTR1\": 46,\n",
    "}\n",
    "\n",
    "label_dict = {v: k for k, v in label_dict.items()}\n",
    "\n",
    "\n",
    "img_embs_dict = {}\n",
    "for i in range(4):\n",
    "    img_embs = pd.read_hdf(\n",
    "        \"../../../data/experiments/image_embeddings/specificity_target_emb_cv_strat/final_1024/fold_{}/test_latents.h5\".format(\n",
    "            i\n",
    "        )\n",
    "    )\n",
    "    img_embs.iloc[:, -1] = img_embs.iloc[:, -1].map(label_dict)\n",
    "    img_embs_dict[\"fold{}\".format(i)] = img_embs"
   ]
  },
  {
   "cell_type": "code",
   "execution_count": 9,
   "id": "adb0e0bb",
   "metadata": {},
   "outputs": [
    {
     "data": {
      "application/javascript": [
       "\n",
       "            setTimeout(function() {\n",
       "                var nbb_cell_id = 9;\n",
       "                var nbb_unformatted_code = \"img_node_embs_dict = {}\\nshared_targets = set(node_embs.index).intersection(label_dict.values())\\nfor i in range(4):\\n    filtered_img_embs = img_embs_dict[\\\"fold{}\\\".format(i)]\\n    filtered_img_embs = filtered_img_embs.loc[\\n        filtered_img_embs.labels.isin(shared_targets)\\n    ]\\n    filtered_node_embs = node_embs.loc[filtered_img_embs.labels]\\n    filtered_img_embs = filtered_img_embs.iloc[:, :-1]\\n    img_node_embs_dict[\\\"fold{}\\\".format(i)] = filtered_img_embs, filtered_node_embs\";\n",
       "                var nbb_formatted_code = \"img_node_embs_dict = {}\\nshared_targets = set(node_embs.index).intersection(label_dict.values())\\nfor i in range(4):\\n    filtered_img_embs = img_embs_dict[\\\"fold{}\\\".format(i)]\\n    filtered_img_embs = filtered_img_embs.loc[\\n        filtered_img_embs.labels.isin(shared_targets)\\n    ]\\n    filtered_node_embs = node_embs.loc[filtered_img_embs.labels]\\n    filtered_img_embs = filtered_img_embs.iloc[:, :-1]\\n    img_node_embs_dict[\\\"fold{}\\\".format(i)] = filtered_img_embs, filtered_node_embs\";\n",
       "                var nbb_cells = Jupyter.notebook.get_cells();\n",
       "                for (var i = 0; i < nbb_cells.length; ++i) {\n",
       "                    if (nbb_cells[i].input_prompt_number == nbb_cell_id) {\n",
       "                        if (nbb_cells[i].get_text() == nbb_unformatted_code) {\n",
       "                             nbb_cells[i].set_text(nbb_formatted_code);\n",
       "                        }\n",
       "                        break;\n",
       "                    }\n",
       "                }\n",
       "            }, 500);\n",
       "            "
      ],
      "text/plain": [
       "<IPython.core.display.Javascript object>"
      ]
     },
     "metadata": {},
     "output_type": "display_data"
    }
   ],
   "source": [
    "img_node_embs_dict = {}\n",
    "shared_targets = set(node_embs.index).intersection(label_dict.values())\n",
    "for i in range(4):\n",
    "    filtered_img_embs = img_embs_dict[\"fold{}\".format(i)]\n",
    "    filtered_img_embs = filtered_img_embs.loc[\n",
    "        filtered_img_embs.labels.isin(shared_targets)\n",
    "    ]\n",
    "    filtered_node_embs = node_embs.loc[filtered_img_embs.labels]\n",
    "    filtered_img_embs = filtered_img_embs.iloc[:, :-1]\n",
    "    img_node_embs_dict[\"fold{}\".format(i)] = filtered_img_embs, filtered_node_embs"
   ]
  },
  {
   "cell_type": "markdown",
   "id": "20317fe7",
   "metadata": {},
   "source": [
    "---\n",
    "\n",
    "## 3. Exploratory data analysis"
   ]
  },
  {
   "cell_type": "markdown",
   "id": "f81b58f4",
   "metadata": {},
   "source": [
    "As a first step, we will look at the distribution of the labels in the held-out data of the different folds to better understand how the distribution varies across folds. Note that the data was split in a stratified manner such that the total number of nuclei is roughly the same across folds yet nuclei from the same image are guaranteed to end up in the same image. Thus, we expect some class imbalance across the different folds."
   ]
  },
  {
   "cell_type": "code",
   "execution_count": 10,
   "id": "b04b05ae",
   "metadata": {},
   "outputs": [
    {
     "data": {
      "application/javascript": [
       "\n",
       "            setTimeout(function() {\n",
       "                var nbb_cell_id = 10;\n",
       "                var nbb_unformatted_code = \"label_counts = []\\nlabels = []\\nfolds = []\\nfold_keys = list(img_embs_dict.keys())\\nfor i in range(len(fold_keys)):\\n    label_count = img_embs_dict[fold_keys[i]][\\\"labels\\\"].value_counts()\\n    folds.extend([str(i)] * len(label_count))\\n    label_counts.append(label_count)\\n    labels.extend(list(label_count.index))\\nlabel_counts = pd.DataFrame(np.array(pd.concat(label_counts)), columns=[\\\"count\\\"])\\nlabel_counts[\\\"label\\\"] = list(labels)\\nlabel_counts[\\\"fold\\\"] = folds\";\n",
       "                var nbb_formatted_code = \"label_counts = []\\nlabels = []\\nfolds = []\\nfold_keys = list(img_embs_dict.keys())\\nfor i in range(len(fold_keys)):\\n    label_count = img_embs_dict[fold_keys[i]][\\\"labels\\\"].value_counts()\\n    folds.extend([str(i)] * len(label_count))\\n    label_counts.append(label_count)\\n    labels.extend(list(label_count.index))\\nlabel_counts = pd.DataFrame(np.array(pd.concat(label_counts)), columns=[\\\"count\\\"])\\nlabel_counts[\\\"label\\\"] = list(labels)\\nlabel_counts[\\\"fold\\\"] = folds\";\n",
       "                var nbb_cells = Jupyter.notebook.get_cells();\n",
       "                for (var i = 0; i < nbb_cells.length; ++i) {\n",
       "                    if (nbb_cells[i].input_prompt_number == nbb_cell_id) {\n",
       "                        if (nbb_cells[i].get_text() == nbb_unformatted_code) {\n",
       "                             nbb_cells[i].set_text(nbb_formatted_code);\n",
       "                        }\n",
       "                        break;\n",
       "                    }\n",
       "                }\n",
       "            }, 500);\n",
       "            "
      ],
      "text/plain": [
       "<IPython.core.display.Javascript object>"
      ]
     },
     "metadata": {},
     "output_type": "display_data"
    }
   ],
   "source": [
    "label_counts = []\n",
    "labels = []\n",
    "folds = []\n",
    "fold_keys = list(img_embs_dict.keys())\n",
    "for i in range(len(fold_keys)):\n",
    "    label_count = img_embs_dict[fold_keys[i]][\"labels\"].value_counts()\n",
    "    folds.extend([str(i)] * len(label_count))\n",
    "    label_counts.append(label_count)\n",
    "    labels.extend(list(label_count.index))\n",
    "label_counts = pd.DataFrame(np.array(pd.concat(label_counts)), columns=[\"count\"])\n",
    "label_counts[\"label\"] = list(labels)\n",
    "label_counts[\"fold\"] = folds"
   ]
  },
  {
   "cell_type": "code",
   "execution_count": 11,
   "id": "8ee0f10d",
   "metadata": {},
   "outputs": [
    {
     "data": {
      "image/png": "[encoded data removed]",
      "text/plain": [
       "<Figure size 1080x576 with 1 Axes>"
      ]
     },
     "metadata": {
      "needs_background": "light"
     },
     "output_type": "display_data"
    },
    {
     "data": {
      "application/javascript": [
       "\n",
       "            setTimeout(function() {\n",
       "                var nbb_cell_id = 11;\n",
       "                var nbb_unformatted_code = \"fig, ax = plt.subplots(figsize=[15, 8])\\nax = sns.scatterplot(data=label_counts, x=\\\"label\\\", y=\\\"count\\\", hue=\\\"fold\\\", ax=ax)\\nplt.xticks(rotation=90)\\nplt.show()\";\n",
       "                var nbb_formatted_code = \"fig, ax = plt.subplots(figsize=[15, 8])\\nax = sns.scatterplot(data=label_counts, x=\\\"label\\\", y=\\\"count\\\", hue=\\\"fold\\\", ax=ax)\\nplt.xticks(rotation=90)\\nplt.show()\";\n",
       "                var nbb_cells = Jupyter.notebook.get_cells();\n",
       "                for (var i = 0; i < nbb_cells.length; ++i) {\n",
       "                    if (nbb_cells[i].input_prompt_number == nbb_cell_id) {\n",
       "                        if (nbb_cells[i].get_text() == nbb_unformatted_code) {\n",
       "                             nbb_cells[i].set_text(nbb_formatted_code);\n",
       "                        }\n",
       "                        break;\n",
       "                    }\n",
       "                }\n",
       "            }, 500);\n",
       "            "
      ],
      "text/plain": [
       "<IPython.core.display.Javascript object>"
      ]
     },
     "metadata": {},
     "output_type": "display_data"
    }
   ],
   "source": [
    "fig, ax = plt.subplots(figsize=[15, 8])\n",
    "ax = sns.scatterplot(data=label_counts, x=\"label\", y=\"count\", hue=\"fold\", ax=ax)\n",
    "plt.xticks(rotation=90)\n",
    "plt.show()"
   ]
  },
  {
   "cell_type": "markdown",
   "id": "4d0352bd",
   "metadata": {},
   "source": [
    "As mentioned earlier there is quite some variance in the relative distribution of the individual conditions. For instance we have roughly 2700 samples of MAP3K5 as the majority class in fold 2 and just 1600-1800 in the remaining folds. We are working on improving that."
   ]
  },
  {
   "cell_type": "markdown",
   "id": "9e4a88f0",
   "metadata": {},
   "source": [
    "---\n",
    "\n",
    "## 4. Translational analyses\n",
    "\n",
    "We will now use the different embeddings of the three different folds in order to model the link between the regulatory and structural space, by given a structural embedding predict the corresponding regulatory embedding. To this end, we will train a linear model for each held-out fold data. To assess the performance, we will evaluate the mapping in three distinct settings:\n",
    "1. Split the data on a single-nuclei basis, i.e. samples of the same overexpression condition might end up in both the training, validation and test set.\n",
    "2. Split the data on a OE condition level, i.e. samples of the a certain overexpression condition will be ending up in either of the training, validation and test set.\n",
    "3. Leave-one-target out cross-validation"
   ]
  },
  {
   "cell_type": "markdown",
   "id": "aebd8d1e",
   "metadata": {},
   "source": [
    "We will quickly setup the linear model as well as the corresponding optimizer used for that inference."
   ]
  },
  {
   "cell_type": "code",
   "execution_count": 27,
   "id": "1483b8ad",
   "metadata": {},
   "outputs": [
    {
     "data": {
      "application/javascript": [
       "\n",
       "            setTimeout(function() {\n",
       "                var nbb_cell_id = 27;\n",
       "                var nbb_unformatted_code = \"model = nn.Sequential(\\n    nn.Linear(1024, 1024),\\n    nn.PReLU(),\\n    nn.BatchNorm1d(1024),\\n    nn.Linear(1024, 128),\\n)\\noptimizer = Adam(model.parameters(), lr=1e-4)\\ncriterion = nn.MSELoss()\";\n",
       "                var nbb_formatted_code = \"model = nn.Sequential(\\n    nn.Linear(1024, 1024),\\n    nn.PReLU(),\\n    nn.BatchNorm1d(1024),\\n    nn.Linear(1024, 128),\\n)\\noptimizer = Adam(model.parameters(), lr=1e-4)\\ncriterion = nn.MSELoss()\";\n",
       "                var nbb_cells = Jupyter.notebook.get_cells();\n",
       "                for (var i = 0; i < nbb_cells.length; ++i) {\n",
       "                    if (nbb_cells[i].input_prompt_number == nbb_cell_id) {\n",
       "                        if (nbb_cells[i].get_text() == nbb_unformatted_code) {\n",
       "                             nbb_cells[i].set_text(nbb_formatted_code);\n",
       "                        }\n",
       "                        break;\n",
       "                    }\n",
       "                }\n",
       "            }, 500);\n",
       "            "
      ],
      "text/plain": [
       "<IPython.core.display.Javascript object>"
      ]
     },
     "metadata": {},
     "output_type": "display_data"
    }
   ],
   "source": [
    "model = nn.Sequential(\n",
    "    #nn.Linear(1024, 1024),\n",
    "    #nn.PReLU(),\n",
    "    nn.BatchNorm1d(1024),\n",
    "    nn.Linear(1024, 128),\n",
    ")\n",
    "optimizer = Adam(model.parameters(), lr=1e-4)\n",
    "criterion = nn.MSELoss()"
   ]
  },
  {
   "cell_type": "markdown",
   "id": "9d816694",
   "metadata": {},
   "source": [
    "---\n",
    "\n",
    "### 4.1. Baseline prediction: Nuclei split"
   ]
  },
  {
   "cell_type": "markdown",
   "id": "667d6396",
   "metadata": {},
   "source": [
    "We start of with splitting the data into a training, validation and testing set without distinguishing between OE conditions. This will serve as a baseline of how well we can translate between the two spaces within sample."
   ]
  },
  {
   "cell_type": "code",
   "execution_count": 13,
   "id": "ee2ef041",
   "metadata": {},
   "outputs": [
    {
     "data": {
      "application/javascript": [
       "\n",
       "            setTimeout(function() {\n",
       "                var nbb_cell_id = 13;\n",
       "                var nbb_unformatted_code = \"img_embs_fold0, node_embs_fold0 = img_node_embs_dict[\\\"fold3\\\"]\";\n",
       "                var nbb_formatted_code = \"img_embs_fold0, node_embs_fold0 = img_node_embs_dict[\\\"fold3\\\"]\";\n",
       "                var nbb_cells = Jupyter.notebook.get_cells();\n",
       "                for (var i = 0; i < nbb_cells.length; ++i) {\n",
       "                    if (nbb_cells[i].input_prompt_number == nbb_cell_id) {\n",
       "                        if (nbb_cells[i].get_text() == nbb_unformatted_code) {\n",
       "                             nbb_cells[i].set_text(nbb_formatted_code);\n",
       "                        }\n",
       "                        break;\n",
       "                    }\n",
       "                }\n",
       "            }, 500);\n",
       "            "
      ],
      "text/plain": [
       "<IPython.core.display.Javascript object>"
      ]
     },
     "metadata": {},
     "output_type": "display_data"
    }
   ],
   "source": [
    "img_embs_fold0, node_embs_fold0 = img_node_embs_dict[\"fold3\"]"
   ]
  },
  {
   "cell_type": "code",
   "execution_count": 59,
   "id": "0a350e1b",
   "metadata": {},
   "outputs": [
    {
     "data": {
      "application/javascript": [
       "\n",
       "            setTimeout(function() {\n",
       "                var nbb_cell_id = 59;\n",
       "                var nbb_unformatted_code = \"data_dict = get_data_dict(\\n    data=img_embs_fold0,\\n    labels=node_embs_fold0,\\n    val_test_size=[0.2, 0.2],\\n    group_labels=None,\\n    batch_size=128,\\n)\";\n",
       "                var nbb_formatted_code = \"data_dict = get_data_dict(\\n    data=img_embs_fold0,\\n    labels=node_embs_fold0,\\n    val_test_size=[0.2, 0.2],\\n    group_labels=None,\\n    batch_size=128,\\n)\";\n",
       "                var nbb_cells = Jupyter.notebook.get_cells();\n",
       "                for (var i = 0; i < nbb_cells.length; ++i) {\n",
       "                    if (nbb_cells[i].input_prompt_number == nbb_cell_id) {\n",
       "                        if (nbb_cells[i].get_text() == nbb_unformatted_code) {\n",
       "                             nbb_cells[i].set_text(nbb_formatted_code);\n",
       "                        }\n",
       "                        break;\n",
       "                    }\n",
       "                }\n",
       "            }, 500);\n",
       "            "
      ],
      "text/plain": [
       "<IPython.core.display.Javascript object>"
      ]
     },
     "metadata": {},
     "output_type": "display_data"
    }
   ],
   "source": [
    "data_dict = get_data_dict(\n",
    "    data=img_embs_fold0,\n",
    "    labels=node_embs_fold0,\n",
    "    val_test_size=[0.2, 0.2],\n",
    "    group_labels=None,\n",
    "    batch_size=128,\n",
    ")"
   ]
  },
  {
   "cell_type": "code",
   "execution_count": 30,
   "id": "3918f4a3",
   "metadata": {
    "scrolled": true
   },
   "outputs": [
    {
     "name": "stderr",
     "output_type": "stream",
     "text": [
      "  5%|▌         | 53/1000 [01:30<26:51,  1.70s/it]\n"
     ]
    },
    {
     "name": "stdout",
     "output_type": "stream",
     "text": [
      "TRAIN loss: 0.00192393100237769\n",
      "VAL loss: 0.002300289320209842\n",
      "TEST loss: 0.002309364414966968\n"
     ]
    },
    {
     "data": {
      "application/javascript": [
       "\n",
       "            setTimeout(function() {\n",
       "                var nbb_cell_id = 30;\n",
       "                var nbb_unformatted_code = \"fitted_model = train_model(\\n    model=model,\\n    data_dict=data_dict,\\n    optimizer=optimizer,\\n    criterion=criterion,\\n    n_epochs=1000,\\n    early_stopping=20,\\n)\";\n",
       "                var nbb_formatted_code = \"fitted_model = train_model(\\n    model=model,\\n    data_dict=data_dict,\\n    optimizer=optimizer,\\n    criterion=criterion,\\n    n_epochs=1000,\\n    early_stopping=20,\\n)\";\n",
       "                var nbb_cells = Jupyter.notebook.get_cells();\n",
       "                for (var i = 0; i < nbb_cells.length; ++i) {\n",
       "                    if (nbb_cells[i].input_prompt_number == nbb_cell_id) {\n",
       "                        if (nbb_cells[i].get_text() == nbb_unformatted_code) {\n",
       "                             nbb_cells[i].set_text(nbb_formatted_code);\n",
       "                        }\n",
       "                        break;\n",
       "                    }\n",
       "                }\n",
       "            }, 500);\n",
       "            "
      ],
      "text/plain": [
       "<IPython.core.display.Javascript object>"
      ]
     },
     "metadata": {},
     "output_type": "display_data"
    }
   ],
   "source": [
    "fitted_model = train_model(\n",
    "    model=model,\n",
    "    data_dict=data_dict,\n",
    "    optimizer=optimizer,\n",
    "    criterion=criterion,\n",
    "    n_epochs=1000,\n",
    "    early_stopping=20,\n",
    ")"
   ]
  },
  {
   "cell_type": "code",
   "execution_count": 36,
   "id": "2f1d98e6",
   "metadata": {},
   "outputs": [
    {
     "name": "stdout",
     "output_type": "stream",
     "text": [
      "TRAIN top-[1, 3, 5, 10, 20, 50] accuracies: [0.1757 0.2801 0.3376 0.4263 0.5289 0.7108]\n",
      "TRAIN top-[1, 3, 5, 10, 20, 50] baseline accuracies: [0.0047 0.0121 0.0204 0.0395 0.0767 0.1834]\n",
      " \n",
      "VAL top-[1, 3, 5, 10, 20, 50] accuracies: [0.1415 0.2257 0.2772 0.3636 0.4638 0.6373]\n",
      "VAL top-[1, 3, 5, 10, 20, 50] baseline accuracies: [0.0033 0.0131 0.0182 0.0396 0.0763 0.1769]\n",
      " \n",
      "TEST top-[1, 3, 5, 10, 20, 50] accuracies: [0.13   0.2163 0.2689 0.351  0.4474 0.6358]\n",
      "TEST top-[1, 3, 5, 10, 20, 50] baseline accuracies: [0.0056 0.0111 0.0247 0.0402 0.078  0.1813]\n",
      " \n"
     ]
    },
    {
     "data": {
      "application/javascript": [
       "\n",
       "            setTimeout(function() {\n",
       "                var nbb_cell_id = 36;\n",
       "                var nbb_unformatted_code = \"ks = [1, 3, 5, 10, 20, 50]\\nfor mode in [\\\"train\\\", \\\"val\\\", \\\"test\\\"]:\\n    topk_accs = []\\n    topk_base_accs = []\\n    preds, labels = get_preds_label_dict(fitted_model, data_dict[mode])\\n    for k in ks:\\n        topk_acc, topk_base_acc = evaluate_top_k_accuracy(preds, labels, node_embs, k=k)\\n        topk_accs.append(topk_acc)\\n        topk_base_accs.append(topk_base_acc)\\n    print(\\\"{} top-{} accuracies: {}\\\".format(mode.upper(), ks, np.round(topk_accs, 4)))\\n    print(\\n        \\\"{} top-{} baseline accuracies: {}\\\".format(\\n            mode.upper(), ks, np.round(topk_base_accs, 4)\\n        )\\n    )\\n    print(\\\" \\\")\";\n",
       "                var nbb_formatted_code = \"ks = [1, 3, 5, 10, 20, 50]\\nfor mode in [\\\"train\\\", \\\"val\\\", \\\"test\\\"]:\\n    topk_accs = []\\n    topk_base_accs = []\\n    preds, labels = get_preds_label_dict(fitted_model, data_dict[mode])\\n    for k in ks:\\n        topk_acc, topk_base_acc = evaluate_top_k_accuracy(preds, labels, node_embs, k=k)\\n        topk_accs.append(topk_acc)\\n        topk_base_accs.append(topk_base_acc)\\n    print(\\\"{} top-{} accuracies: {}\\\".format(mode.upper(), ks, np.round(topk_accs, 4)))\\n    print(\\n        \\\"{} top-{} baseline accuracies: {}\\\".format(\\n            mode.upper(), ks, np.round(topk_base_accs, 4)\\n        )\\n    )\\n    print(\\\" \\\")\";\n",
       "                var nbb_cells = Jupyter.notebook.get_cells();\n",
       "                for (var i = 0; i < nbb_cells.length; ++i) {\n",
       "                    if (nbb_cells[i].input_prompt_number == nbb_cell_id) {\n",
       "                        if (nbb_cells[i].get_text() == nbb_unformatted_code) {\n",
       "                             nbb_cells[i].set_text(nbb_formatted_code);\n",
       "                        }\n",
       "                        break;\n",
       "                    }\n",
       "                }\n",
       "            }, 500);\n",
       "            "
      ],
      "text/plain": [
       "<IPython.core.display.Javascript object>"
      ]
     },
     "metadata": {},
     "output_type": "display_data"
    }
   ],
   "source": [
    "ks = [1, 3, 5, 10, 20, 50]\n",
    "for mode in [\"train\", \"val\", \"test\"]:\n",
    "    topk_accs = []\n",
    "    topk_base_accs = []\n",
    "    preds, labels = get_preds_label_dict(fitted_model, data_dict[mode])\n",
    "    for k in ks:\n",
    "        topk_acc, topk_base_acc = evaluate_top_k_accuracy(preds, labels, node_embs, k=k)\n",
    "        topk_accs.append(topk_acc)\n",
    "        topk_base_accs.append(topk_base_acc)\n",
    "    print(\"{} top-{} accuracies: {}\".format(mode.upper(), ks, np.round(topk_accs, 4)))\n",
    "    print(\n",
    "        \"{} top-{} baseline accuracies: {}\".format(\n",
    "            mode.upper(), ks, np.round(topk_base_accs, 4)\n",
    "        )\n",
    "    )\n",
    "    print(\" \")"
   ]
  },
  {
   "cell_type": "markdown",
   "id": "74ca390a",
   "metadata": {},
   "source": [
    "We see that the top-k accuracy suggest indeed a prediction that is better than naive baseline that simply predicts the k-most frequent targets for k<20 for larger k we see that the baseline outperforms the fitted model. The performances of the model on the training, validation and test set are highly comparable."
   ]
  },
  {
   "cell_type": "markdown",
   "id": "1a0e80a1",
   "metadata": {},
   "source": [
    "---\n",
    "\n",
    "### 4.2. Out-of-sample prediction"
   ]
  },
  {
   "cell_type": "code",
   "execution_count": 14,
   "id": "de19e595",
   "metadata": {},
   "outputs": [
    {
     "data": {
      "application/javascript": [
       "\n",
       "            setTimeout(function() {\n",
       "                var nbb_cell_id = 14;\n",
       "                var nbb_unformatted_code = \"data_dict = get_data_dict(\\n    data=img_embs_fold0,\\n    labels=node_embs_fold0,\\n    val_test_size=[0.2, 0.2],\\n    group_labels=np.array(list(node_embs_fold0.index)),\\n    batch_size=128,\\n)\";\n",
       "                var nbb_formatted_code = \"data_dict = get_data_dict(\\n    data=img_embs_fold0,\\n    labels=node_embs_fold0,\\n    val_test_size=[0.2, 0.2],\\n    group_labels=np.array(list(node_embs_fold0.index)),\\n    batch_size=128,\\n)\";\n",
       "                var nbb_cells = Jupyter.notebook.get_cells();\n",
       "                for (var i = 0; i < nbb_cells.length; ++i) {\n",
       "                    if (nbb_cells[i].input_prompt_number == nbb_cell_id) {\n",
       "                        if (nbb_cells[i].get_text() == nbb_unformatted_code) {\n",
       "                             nbb_cells[i].set_text(nbb_formatted_code);\n",
       "                        }\n",
       "                        break;\n",
       "                    }\n",
       "                }\n",
       "            }, 500);\n",
       "            "
      ],
      "text/plain": [
       "<IPython.core.display.Javascript object>"
      ]
     },
     "metadata": {},
     "output_type": "display_data"
    }
   ],
   "source": [
    "data_dict = get_data_dict(\n",
    "    data=img_embs_fold0,\n",
    "    labels=node_embs_fold0,\n",
    "    val_test_size=[0.2, 0.2],\n",
    "    group_labels=np.array(list(node_embs_fold0.index)),\n",
    "    batch_size=128,\n",
    ")"
   ]
  },
  {
   "cell_type": "code",
   "execution_count": 19,
   "id": "2870c519",
   "metadata": {},
   "outputs": [
    {
     "name": "stdout",
     "output_type": "stream",
     "text": [
      "Counter({'KRAS': 1961, 'SMO': 1320, 'WWTR1': 923, 'ERG': 800, 'SREBF1': 739, 'CREB1': 548, 'MAP3K9': 507, 'CDKN1A': 324, 'BCL2L11': 215})\n"
     ]
    },
    {
     "data": {
      "application/javascript": [
       "\n",
       "            setTimeout(function() {\n",
       "                var nbb_cell_id = 19;\n",
       "                var nbb_unformatted_code = \"labels = []\\nfor _, _, label in data_dict[\\\"test\\\"].dataset:\\n    labels.append(label)\\nprint(Counter(labels))\";\n",
       "                var nbb_formatted_code = \"labels = []\\nfor _, _, label in data_dict[\\\"test\\\"].dataset:\\n    labels.append(label)\\nprint(Counter(labels))\";\n",
       "                var nbb_cells = Jupyter.notebook.get_cells();\n",
       "                for (var i = 0; i < nbb_cells.length; ++i) {\n",
       "                    if (nbb_cells[i].input_prompt_number == nbb_cell_id) {\n",
       "                        if (nbb_cells[i].get_text() == nbb_unformatted_code) {\n",
       "                             nbb_cells[i].set_text(nbb_formatted_code);\n",
       "                        }\n",
       "                        break;\n",
       "                    }\n",
       "                }\n",
       "            }, 500);\n",
       "            "
      ],
      "text/plain": [
       "<IPython.core.display.Javascript object>"
      ]
     },
     "metadata": {},
     "output_type": "display_data"
    }
   ],
   "source": [
    "labels = []\n",
    "for _, _, label in data_dict[\"test\"].dataset:\n",
    "    labels.append(label)\n",
    "print(Counter(labels))"
   ]
  },
  {
   "cell_type": "code",
   "execution_count": 21,
   "id": "2d55c52f",
   "metadata": {},
   "outputs": [
    {
     "name": "stdout",
     "output_type": "stream",
     "text": [
      "Counter({'BRAF': 1714, 'AKT1S1': 1309, 'CEBPA': 942, 'JUN': 938, 'PRKCE': 771, 'FGFR3': 661, 'APC': 637, 'CDKN1A': 324, 'FOXO1': 313, 'BCL2L11': 215, 'CDC42': 215, 'IRAK4': 112, 'CREB1': 97})\n"
     ]
    },
    {
     "data": {
      "application/javascript": [
       "\n",
       "            setTimeout(function() {\n",
       "                var nbb_cell_id = 21;\n",
       "                var nbb_unformatted_code = \"labels = []\\nfor _, _, label in data_dict[\\\"val\\\"].dataset:\\n    labels.append(label)\\nprint(Counter(labels))\";\n",
       "                var nbb_formatted_code = \"labels = []\\nfor _, _, label in data_dict[\\\"val\\\"].dataset:\\n    labels.append(label)\\nprint(Counter(labels))\";\n",
       "                var nbb_cells = Jupyter.notebook.get_cells();\n",
       "                for (var i = 0; i < nbb_cells.length; ++i) {\n",
       "                    if (nbb_cells[i].input_prompt_number == nbb_cell_id) {\n",
       "                        if (nbb_cells[i].get_text() == nbb_unformatted_code) {\n",
       "                             nbb_cells[i].set_text(nbb_formatted_code);\n",
       "                        }\n",
       "                        break;\n",
       "                    }\n",
       "                }\n",
       "            }, 500);\n",
       "            "
      ],
      "text/plain": [
       "<IPython.core.display.Javascript object>"
      ]
     },
     "metadata": {},
     "output_type": "display_data"
    }
   ],
   "source": [
    "labels = []\n",
    "for _, _, label in data_dict[\"val\"].dataset:\n",
    "    labels.append(label)\n",
    "print(Counter(labels))"
   ]
  },
  {
   "cell_type": "code",
   "execution_count": 38,
   "id": "324cfcad",
   "metadata": {},
   "outputs": [
    {
     "data": {
      "application/javascript": [
       "\n",
       "            setTimeout(function() {\n",
       "                var nbb_cell_id = 38;\n",
       "                var nbb_unformatted_code = \"model = nn.Sequential(\\n    nn.Linear(1024, 1024),\\n    nn.PReLU(),\\n    nn.BatchNorm1d(1024),\\n    nn.Linear(1024, 128),\\n)\\noptimizer = Adam(model.parameters(), lr=1e-4)\\ncriterion = nn.MSELoss()\";\n",
       "                var nbb_formatted_code = \"model = nn.Sequential(\\n    nn.Linear(1024, 1024),\\n    nn.PReLU(),\\n    nn.BatchNorm1d(1024),\\n    nn.Linear(1024, 128),\\n)\\noptimizer = Adam(model.parameters(), lr=1e-4)\\ncriterion = nn.MSELoss()\";\n",
       "                var nbb_cells = Jupyter.notebook.get_cells();\n",
       "                for (var i = 0; i < nbb_cells.length; ++i) {\n",
       "                    if (nbb_cells[i].input_prompt_number == nbb_cell_id) {\n",
       "                        if (nbb_cells[i].get_text() == nbb_unformatted_code) {\n",
       "                             nbb_cells[i].set_text(nbb_formatted_code);\n",
       "                        }\n",
       "                        break;\n",
       "                    }\n",
       "                }\n",
       "            }, 500);\n",
       "            "
      ],
      "text/plain": [
       "<IPython.core.display.Javascript object>"
      ]
     },
     "metadata": {},
     "output_type": "display_data"
    }
   ],
   "source": [
    "model = nn.Sequential(\n",
    "    nn.Linear(1024, 1024),\n",
    "    nn.PReLU(),\n",
    "    nn.BatchNorm1d(1024),\n",
    "    nn.Linear(1024, 128),\n",
    ")\n",
    "optimizer = Adam(model.parameters(), lr=1e-4)\n",
    "criterion = nn.MSELoss()"
   ]
  },
  {
   "cell_type": "code",
   "execution_count": 39,
   "id": "c2c8ed9a",
   "metadata": {},
   "outputs": [
    {
     "name": "stderr",
     "output_type": "stream",
     "text": [
      "  4%|▍         | 39/1000 [01:03<25:56,  1.62s/it]\n"
     ]
    },
    {
     "name": "stdout",
     "output_type": "stream",
     "text": [
      "TRAIN loss: 0.001627825389069915\n",
      "VAL loss: 0.0034684356953167635\n",
      "TEST loss: 0.0046605971444239275\n"
     ]
    },
    {
     "data": {
      "application/javascript": [
       "\n",
       "            setTimeout(function() {\n",
       "                var nbb_cell_id = 39;\n",
       "                var nbb_unformatted_code = \"fitted_model = train_model(\\n    model=model,\\n    data_dict=data_dict,\\n    optimizer=optimizer,\\n    criterion=criterion,\\n    n_epochs=1000,\\n    early_stopping=20,\\n)\";\n",
       "                var nbb_formatted_code = \"fitted_model = train_model(\\n    model=model,\\n    data_dict=data_dict,\\n    optimizer=optimizer,\\n    criterion=criterion,\\n    n_epochs=1000,\\n    early_stopping=20,\\n)\";\n",
       "                var nbb_cells = Jupyter.notebook.get_cells();\n",
       "                for (var i = 0; i < nbb_cells.length; ++i) {\n",
       "                    if (nbb_cells[i].input_prompt_number == nbb_cell_id) {\n",
       "                        if (nbb_cells[i].get_text() == nbb_unformatted_code) {\n",
       "                             nbb_cells[i].set_text(nbb_formatted_code);\n",
       "                        }\n",
       "                        break;\n",
       "                    }\n",
       "                }\n",
       "            }, 500);\n",
       "            "
      ],
      "text/plain": [
       "<IPython.core.display.Javascript object>"
      ]
     },
     "metadata": {},
     "output_type": "display_data"
    }
   ],
   "source": [
    "fitted_model = train_model(\n",
    "    model=model,\n",
    "    data_dict=data_dict,\n",
    "    optimizer=optimizer,\n",
    "    criterion=criterion,\n",
    "    n_epochs=1000,\n",
    "    early_stopping=20,\n",
    ")"
   ]
  },
  {
   "cell_type": "code",
   "execution_count": 40,
   "id": "58e98536",
   "metadata": {},
   "outputs": [
    {
     "name": "stdout",
     "output_type": "stream",
     "text": [
      "TRAIN top-[1, 3, 5, 10, 20, 50] accuracies: [0.2155 0.3367 0.3991 0.4903 0.5938 0.7714]\n",
      " \n",
      "VAL top-[1, 3, 5, 10, 20, 50] accuracies: [0.1278 0.2168 0.2718 0.3541 0.4439 0.5656]\n",
      " \n",
      "TEST top-[1, 3, 5, 10, 20, 50] accuracies: [0.152  0.2255 0.2622 0.3252 0.396  0.5117]\n",
      " \n"
     ]
    },
    {
     "data": {
      "application/javascript": [
       "\n",
       "            setTimeout(function() {\n",
       "                var nbb_cell_id = 40;\n",
       "                var nbb_unformatted_code = \"ks = [1, 3, 5, 10, 20, 50]\\nfor mode in [\\\"train\\\", \\\"val\\\", \\\"test\\\"]:\\n    topk_accs = []\\n    topk_base_accs = []\\n    preds, labels = get_preds_label_dict(fitted_model, data_dict[mode])\\n    for k in ks:\\n        topk_acc, topk_base_acc = evaluate_top_k_accuracy(preds, labels, node_embs, k=k)\\n        topk_accs.append(topk_acc)\\n        topk_base_accs.append(topk_base_acc)\\n    print(\\\"{} top-{} accuracies: {}\\\".format(mode.upper(), ks, np.round(topk_accs, 4)))\\n    #     print(\\n    #         \\\"{} top-{} baseline accuracies: {}\\\".format(\\n    #             mode.upper(), ks, np.round(topk_base_accs, 4)\\n    #         )\\n    #     )\\n    print(\\\" \\\")\";\n",
       "                var nbb_formatted_code = \"ks = [1, 3, 5, 10, 20, 50]\\nfor mode in [\\\"train\\\", \\\"val\\\", \\\"test\\\"]:\\n    topk_accs = []\\n    topk_base_accs = []\\n    preds, labels = get_preds_label_dict(fitted_model, data_dict[mode])\\n    for k in ks:\\n        topk_acc, topk_base_acc = evaluate_top_k_accuracy(preds, labels, node_embs, k=k)\\n        topk_accs.append(topk_acc)\\n        topk_base_accs.append(topk_base_acc)\\n    print(\\\"{} top-{} accuracies: {}\\\".format(mode.upper(), ks, np.round(topk_accs, 4)))\\n    #     print(\\n    #         \\\"{} top-{} baseline accuracies: {}\\\".format(\\n    #             mode.upper(), ks, np.round(topk_base_accs, 4)\\n    #         )\\n    #     )\\n    print(\\\" \\\")\";\n",
       "                var nbb_cells = Jupyter.notebook.get_cells();\n",
       "                for (var i = 0; i < nbb_cells.length; ++i) {\n",
       "                    if (nbb_cells[i].input_prompt_number == nbb_cell_id) {\n",
       "                        if (nbb_cells[i].get_text() == nbb_unformatted_code) {\n",
       "                             nbb_cells[i].set_text(nbb_formatted_code);\n",
       "                        }\n",
       "                        break;\n",
       "                    }\n",
       "                }\n",
       "            }, 500);\n",
       "            "
      ],
      "text/plain": [
       "<IPython.core.display.Javascript object>"
      ]
     },
     "metadata": {},
     "output_type": "display_data"
    }
   ],
   "source": [
    "ks = [1, 3, 5, 10, 20, 50]\n",
    "for mode in [\"train\", \"val\", \"test\"]:\n",
    "    topk_accs = []\n",
    "    topk_base_accs = []\n",
    "    preds, labels = get_preds_label_dict(fitted_model, data_dict[mode])\n",
    "    for k in ks:\n",
    "        topk_acc, topk_base_acc = evaluate_top_k_accuracy(preds, labels, node_embs, k=k)\n",
    "        topk_accs.append(topk_acc)\n",
    "        topk_base_accs.append(topk_base_acc)\n",
    "    print(\"{} top-{} accuracies: {}\".format(mode.upper(), ks, np.round(topk_accs, 4)))\n",
    "    print(\" \")"
   ]
  },
  {
   "cell_type": "markdown",
   "id": "9e5dab2e",
   "metadata": {},
   "source": [
    "Note that for the held-out configuration the baseline accuracies are not reliable as those correspond to the most frequent classes in the corresponding data set."
   ]
  },
  {
   "cell_type": "markdown",
   "id": "a5ce4738",
   "metadata": {},
   "source": [
    "---\n",
    "\n",
    "### 4.3. Leave-one-out cross-validation"
   ]
  },
  {
   "cell_type": "markdown",
   "id": "bf9d443e",
   "metadata": {},
   "source": [
    "Finally, we will apply leave-one-target out crossvalidation."
   ]
  },
  {
   "cell_type": "code",
   "execution_count": 41,
   "id": "7c1575d6",
   "metadata": {},
   "outputs": [
    {
     "data": {
      "application/javascript": [
       "\n",
       "            setTimeout(function() {\n",
       "                var nbb_cell_id = 41;\n",
       "                var nbb_unformatted_code = \"def get_logo_data_dicts(\\n    data,\\n    labels,\\n    group_labels,\\n    val_size=0.1,\\n    batch_size=128,\\n    random_state=1234,\\n    scale_x=True,\\n    scale_y=False,\\n):\\n    logo = LeaveOneGroupOut()\\n    data_dicts = []\\n    idc = list(range(len(labels)))\\n    for train_val_idc, test_idc in logo.split(idc, groups=group_labels):\\n        gss = gss = GroupShuffleSplit(\\n            n_splits=2, test_size=val_size, random_state=random_state\\n        )\\n        train_idc, val_idc = next(\\n            gss.split(train_val_idc, groups=group_labels[train_val_idc])\\n        )\\n\\n        train_data, train_labels = data.iloc[train_idc], labels.iloc[train_idc]\\n        val_data, val_labels = data.iloc[val_idc], labels.iloc[val_idc]\\n        test_data, test_labels = data.iloc[test_idc], labels.iloc[test_idc]\\n\\n        if scale_x:\\n            sc = StandardScaler().fit(train_data)\\n            train_data = sc.transform(train_data)\\n            val_data = sc.transform(val_data)\\n            test_data = sc.transform(test_data)\\n\\n        if scale_y:\\n            sc = StandardScaler().fit(train_labels)\\n            train_labels = sc.transform(train_labels)\\n            val_labels = sc.transform(val_labels)\\n            test_labels = sc.transform(test_labels)\\n\\n        train_dataset = IndexedTensorDataset(\\n            torch.FloatTensor(np.array(train_data)),\\n            torch.FloatTensor(np.array(train_labels)),\\n            list(labels.iloc[train_idc].index),\\n        )\\n        train_loader = DataLoader(train_dataset, batch_size=batch_size, shuffle=True)\\n\\n        val_dataset = IndexedTensorDataset(\\n            torch.FloatTensor(np.array(val_data)),\\n            torch.FloatTensor(np.array(val_labels)),\\n            list(labels.iloc[val_idc].index),\\n        )\\n        val_loader = DataLoader(val_dataset, batch_size=batch_size, shuffle=False)\\n\\n        test_dataset = IndexedTensorDataset(\\n            torch.FloatTensor(np.array(test_data)),\\n            torch.FloatTensor(np.array(test_labels)),\\n            list(labels.iloc[test_idc].index),\\n        )\\n        test_loader = DataLoader(test_dataset, batch_size=batch_size, shuffle=False)\\n\\n        data_dict = {\\\"train\\\": train_loader, \\\"val\\\": val_loader, \\\"test\\\": test_loader}\\n        data_dicts.append(data_dict)\\n    return data_dicts\";\n",
       "                var nbb_formatted_code = \"def get_logo_data_dicts(\\n    data,\\n    labels,\\n    group_labels,\\n    val_size=0.1,\\n    batch_size=128,\\n    random_state=1234,\\n    scale_x=True,\\n    scale_y=False,\\n):\\n    logo = LeaveOneGroupOut()\\n    data_dicts = []\\n    idc = list(range(len(labels)))\\n    for train_val_idc, test_idc in logo.split(idc, groups=group_labels):\\n        gss = gss = GroupShuffleSplit(\\n            n_splits=2, test_size=val_size, random_state=random_state\\n        )\\n        train_idc, val_idc = next(\\n            gss.split(train_val_idc, groups=group_labels[train_val_idc])\\n        )\\n\\n        train_data, train_labels = data.iloc[train_idc], labels.iloc[train_idc]\\n        val_data, val_labels = data.iloc[val_idc], labels.iloc[val_idc]\\n        test_data, test_labels = data.iloc[test_idc], labels.iloc[test_idc]\\n\\n        if scale_x:\\n            sc = StandardScaler().fit(train_data)\\n            train_data = sc.transform(train_data)\\n            val_data = sc.transform(val_data)\\n            test_data = sc.transform(test_data)\\n\\n        if scale_y:\\n            sc = StandardScaler().fit(train_labels)\\n            train_labels = sc.transform(train_labels)\\n            val_labels = sc.transform(val_labels)\\n            test_labels = sc.transform(test_labels)\\n\\n        train_dataset = IndexedTensorDataset(\\n            torch.FloatTensor(np.array(train_data)),\\n            torch.FloatTensor(np.array(train_labels)),\\n            list(labels.iloc[train_idc].index),\\n        )\\n        train_loader = DataLoader(train_dataset, batch_size=batch_size, shuffle=True)\\n\\n        val_dataset = IndexedTensorDataset(\\n            torch.FloatTensor(np.array(val_data)),\\n            torch.FloatTensor(np.array(val_labels)),\\n            list(labels.iloc[val_idc].index),\\n        )\\n        val_loader = DataLoader(val_dataset, batch_size=batch_size, shuffle=False)\\n\\n        test_dataset = IndexedTensorDataset(\\n            torch.FloatTensor(np.array(test_data)),\\n            torch.FloatTensor(np.array(test_labels)),\\n            list(labels.iloc[test_idc].index),\\n        )\\n        test_loader = DataLoader(test_dataset, batch_size=batch_size, shuffle=False)\\n\\n        data_dict = {\\\"train\\\": train_loader, \\\"val\\\": val_loader, \\\"test\\\": test_loader}\\n        data_dicts.append(data_dict)\\n    return data_dicts\";\n",
       "                var nbb_cells = Jupyter.notebook.get_cells();\n",
       "                for (var i = 0; i < nbb_cells.length; ++i) {\n",
       "                    if (nbb_cells[i].input_prompt_number == nbb_cell_id) {\n",
       "                        if (nbb_cells[i].get_text() == nbb_unformatted_code) {\n",
       "                             nbb_cells[i].set_text(nbb_formatted_code);\n",
       "                        }\n",
       "                        break;\n",
       "                    }\n",
       "                }\n",
       "            }, 500);\n",
       "            "
      ],
      "text/plain": [
       "<IPython.core.display.Javascript object>"
      ]
     },
     "metadata": {},
     "output_type": "display_data"
    }
   ],
   "source": [
    "def get_logo_data_dicts(\n",
    "    data,\n",
    "    labels,\n",
    "    group_labels,\n",
    "    val_size=0.1,\n",
    "    batch_size=128,\n",
    "    random_state=1234,\n",
    "    scale_x=True,\n",
    "    scale_y=False,\n",
    "):\n",
    "    logo = LeaveOneGroupOut()\n",
    "    data_dicts = []\n",
    "    idc = list(range(len(labels)))\n",
    "    for train_val_idc, test_idc in logo.split(idc, groups=group_labels):\n",
    "        gss = gss = GroupShuffleSplit(\n",
    "            n_splits=2, test_size=val_size, random_state=random_state\n",
    "        )\n",
    "        train_idc, val_idc = next(\n",
    "            gss.split(train_val_idc, groups=group_labels[train_val_idc])\n",
    "        )\n",
    "\n",
    "        train_data, train_labels = data.iloc[train_idc], labels.iloc[train_idc]\n",
    "        val_data, val_labels = data.iloc[val_idc], labels.iloc[val_idc]\n",
    "        test_data, test_labels = data.iloc[test_idc], labels.iloc[test_idc]\n",
    "\n",
    "        if scale_x:\n",
    "            sc = StandardScaler().fit(train_data)\n",
    "            train_data = sc.transform(train_data)\n",
    "            val_data = sc.transform(val_data)\n",
    "            test_data = sc.transform(test_data)\n",
    "\n",
    "        if scale_y:\n",
    "            sc = StandardScaler().fit(train_labels)\n",
    "            train_labels = sc.transform(train_labels)\n",
    "            val_labels = sc.transform(val_labels)\n",
    "            test_labels = sc.transform(test_labels)\n",
    "\n",
    "        train_dataset = IndexedTensorDataset(\n",
    "            torch.FloatTensor(np.array(train_data)),\n",
    "            torch.FloatTensor(np.array(train_labels)),\n",
    "            list(labels.iloc[train_idc].index),\n",
    "        )\n",
    "        train_loader = DataLoader(train_dataset, batch_size=batch_size, shuffle=True)\n",
    "\n",
    "        val_dataset = IndexedTensorDataset(\n",
    "            torch.FloatTensor(np.array(val_data)),\n",
    "            torch.FloatTensor(np.array(val_labels)),\n",
    "            list(labels.iloc[val_idc].index),\n",
    "        )\n",
    "        val_loader = DataLoader(val_dataset, batch_size=batch_size, shuffle=False)\n",
    "\n",
    "        test_dataset = IndexedTensorDataset(\n",
    "            torch.FloatTensor(np.array(test_data)),\n",
    "            torch.FloatTensor(np.array(test_labels)),\n",
    "            list(labels.iloc[test_idc].index),\n",
    "        )\n",
    "        test_loader = DataLoader(test_dataset, batch_size=batch_size, shuffle=False)\n",
    "\n",
    "        data_dict = {\"train\": train_loader, \"val\": val_loader, \"test\": test_loader}\n",
    "        data_dicts.append(data_dict)\n",
    "    return data_dicts"
   ]
  },
  {
   "cell_type": "code",
   "execution_count": 60,
   "id": "d7cb850f",
   "metadata": {},
   "outputs": [
    {
     "data": {
      "application/javascript": [
       "\n",
       "            setTimeout(function() {\n",
       "                var nbb_cell_id = 60;\n",
       "                var nbb_unformatted_code = \"data_dicts = get_logo_data_dicts(\\n    data=img_embs_fold0,\\n    labels=node_embs_fold0,\\n    val_size=0.1,\\n    group_labels=np.array(list(node_embs_fold0.index)),\\n    batch_size=128,\\n)\";\n",
       "                var nbb_formatted_code = \"data_dicts = get_logo_data_dicts(\\n    data=img_embs_fold0,\\n    labels=node_embs_fold0,\\n    val_size=0.1,\\n    group_labels=np.array(list(node_embs_fold0.index)),\\n    batch_size=128,\\n)\";\n",
       "                var nbb_cells = Jupyter.notebook.get_cells();\n",
       "                for (var i = 0; i < nbb_cells.length; ++i) {\n",
       "                    if (nbb_cells[i].input_prompt_number == nbb_cell_id) {\n",
       "                        if (nbb_cells[i].get_text() == nbb_unformatted_code) {\n",
       "                             nbb_cells[i].set_text(nbb_formatted_code);\n",
       "                        }\n",
       "                        break;\n",
       "                    }\n",
       "                }\n",
       "            }, 500);\n",
       "            "
      ],
      "text/plain": [
       "<IPython.core.display.Javascript object>"
      ]
     },
     "metadata": {},
     "output_type": "display_data"
    }
   ],
   "source": [
    "data_dicts = get_logo_data_dicts(\n",
    "    data=img_embs_fold0,\n",
    "    labels=node_embs_fold0,\n",
    "    val_size=0.1,\n",
    "    group_labels=np.array(list(node_embs_fold0.index)),\n",
    "    batch_size=128,\n",
    ")"
   ]
  },
  {
   "cell_type": "code",
   "execution_count": 61,
   "id": "90ce9795",
   "metadata": {
    "scrolled": true
   },
   "outputs": [
    {
     "name": "stderr",
     "output_type": "stream",
     "text": [
      "\r",
      "  0%|          | 0/43 [00:00<?, ?it/s]"
     ]
    },
    {
     "name": "stdout",
     "output_type": "stream",
     "text": [
      "TRAIN loss: 0.0022206754788144756\n",
      "VAL loss: 0.0023525729130581905\n",
      "TEST loss: 0.0008149518446592689\n",
      "TRAIN top-[1, 3, 5, 10, 20, 50] accuracies: [0.1454 0.2376 0.2935 0.3843 0.4866 0.6644]\n",
      "---\n",
      "VAL top-[1, 3, 5, 10, 20, 50] accuracies: [0.08   0.1316 0.1608 0.2178 0.2881 0.4789]\n",
      "---\n",
      "Left-out label: AKT1S1\n"
     ]
    },
    {
     "name": "stderr",
     "output_type": "stream",
     "text": [
      "\r",
      "  2%|▏         | 1/43 [00:51<36:22, 51.97s/it]"
     ]
    },
    {
     "name": "stdout",
     "output_type": "stream",
     "text": [
      "TEST top-[1, 3, 5, 10, 20, 50] accuracies: [0.4576 0.6631 0.8067 0.9312 0.9878 1.    ]\n",
      "---\n",
      "TRAIN loss: 0.0021711638674846837\n",
      "VAL loss: 0.00548465034798354\n",
      "TEST loss: 0.005221507965266892\n",
      "TRAIN top-[1, 3, 5, 10, 20, 50] accuracies: [0.1483 0.2487 0.3026 0.3888 0.4839 0.659 ]\n",
      "---\n"
     ]
    },
    {
     "name": "stderr",
     "output_type": "stream",
     "text": [
      "\r",
      "  5%|▍         | 2/43 [01:30<30:04, 44.02s/it]"
     ]
    },
    {
     "name": "stdout",
     "output_type": "stream",
     "text": [
      "VAL top-[1, 3, 5, 10, 20, 50] accuracies: [0.0361 0.0746 0.0955 0.1382 0.1836 0.3577]\n",
      "---\n",
      "Left-out label: APC\n",
      "TEST top-[1, 3, 5, 10, 20, 50] accuracies: [0.0063 0.0078 0.0235 0.0502 0.0848 0.1476]\n",
      "---\n",
      "TRAIN loss: 0.002196851609405037\n",
      "VAL loss: 0.0026375435890006057\n",
      "TEST loss: 0.0017127389128551768\n",
      "TRAIN top-[1, 3, 5, 10, 20, 50] accuracies: [0.1465 0.2446 0.2976 0.3829 0.4832 0.6562]\n",
      "---\n",
      "VAL top-[1, 3, 5, 10, 20, 50] accuracies: [0.0537 0.1059 0.1399 0.2024 0.2808 0.4627]\n",
      "---\n",
      "Left-out label: ATF4\n"
     ]
    },
    {
     "name": "stderr",
     "output_type": "stream",
     "text": [
      "\r",
      "  7%|▋         | 3/43 [02:18<30:43, 46.10s/it]"
     ]
    },
    {
     "name": "stdout",
     "output_type": "stream",
     "text": [
      "TEST top-[1, 3, 5, 10, 20, 50] accuracies: [0.0633 0.108  0.1418 0.2135 0.3966 0.719 ]\n",
      "---\n",
      "TRAIN loss: 0.002188226283102135\n",
      "VAL loss: 0.004991355762682024\n",
      "TEST loss: 0.001903041773414836\n",
      "TRAIN top-[1, 3, 5, 10, 20, 50] accuracies: [0.1519 0.2439 0.295  0.3808 0.4789 0.6581]\n",
      "---\n",
      "VAL top-[1, 3, 5, 10, 20, 50] accuracies: [0.0344 0.0682 0.0924 0.139  0.1974 0.4043]\n",
      "---\n",
      "Left-out label: BAX\n"
     ]
    },
    {
     "name": "stderr",
     "output_type": "stream",
     "text": [
      "\r",
      "  9%|▉         | 4/43 [02:59<28:36, 44.02s/it]"
     ]
    },
    {
     "name": "stdout",
     "output_type": "stream",
     "text": [
      "TEST top-[1, 3, 5, 10, 20, 50] accuracies: [0.1124 0.1529 0.1856 0.2562 0.3503 0.5908]\n",
      "---\n",
      "TRAIN loss: 0.002585948020969944\n",
      "VAL loss: 0.005957239478906161\n",
      "TEST loss: 0.0024448357847367606\n",
      "TRAIN top-[1, 3, 5, 10, 20, 50] accuracies: [0.1274 0.216  0.2716 0.3648 0.4725 0.6599]\n",
      "---\n"
     ]
    },
    {
     "name": "stderr",
     "output_type": "stream",
     "text": [
      "\r",
      " 12%|█▏        | 5/43 [03:35<25:52, 40.87s/it]"
     ]
    },
    {
     "name": "stdout",
     "output_type": "stream",
     "text": [
      "VAL top-[1, 3, 5, 10, 20, 50] accuracies: [0.0192 0.0413 0.0672 0.1038 0.1504 0.2672]\n",
      "---\n",
      "Left-out label: BCL2L11\n",
      "TEST top-[1, 3, 5, 10, 20, 50] accuracies: [0.     0.     0.     0.     0.0279 0.5116]\n",
      "---\n",
      "TRAIN loss: 0.0024408231513153244\n",
      "VAL loss: 0.004981612612663673\n",
      "TEST loss: 0.002018320657956926\n",
      "TRAIN top-[1, 3, 5, 10, 20, 50] accuracies: [0.133  0.2258 0.2774 0.3636 0.4625 0.6417]\n",
      "---\n",
      "VAL top-[1, 3, 5, 10, 20, 50] accuracies: [0.038  0.08   0.1126 0.1698 0.2563 0.4316]\n",
      "---\n",
      "Left-out label: BRAF\n"
     ]
    },
    {
     "name": "stderr",
     "output_type": "stream",
     "text": [
      "\r",
      " 14%|█▍        | 6/43 [04:11<24:20, 39.47s/it]"
     ]
    },
    {
     "name": "stdout",
     "output_type": "stream",
     "text": [
      "TEST top-[1, 3, 5, 10, 20, 50] accuracies: [0.182  0.2654 0.2986 0.3582 0.4526 0.6159]\n",
      "---\n",
      "TRAIN loss: 0.002046635064595447\n",
      "VAL loss: 0.0056564024743577575\n",
      "TEST loss: 0.002093468126732596\n",
      "TRAIN top-[1, 3, 5, 10, 20, 50] accuracies: [0.1529 0.2479 0.3033 0.3922 0.4924 0.684 ]\n",
      "---\n"
     ]
    },
    {
     "name": "stderr",
     "output_type": "stream",
     "text": [
      "\r",
      " 16%|█▋        | 7/43 [04:55<24:32, 40.90s/it]"
     ]
    },
    {
     "name": "stdout",
     "output_type": "stream",
     "text": [
      "VAL top-[1, 3, 5, 10, 20, 50] accuracies: [0.02   0.0504 0.0734 0.1214 0.1827 0.2876]\n",
      "---\n",
      "Left-out label: CASP8\n",
      "TEST top-[1, 3, 5, 10, 20, 50] accuracies: [0.0291 0.0407 0.0698 0.1105 0.1977 0.4651]\n",
      "---\n",
      "TRAIN loss: 0.0023309111493266363\n",
      "VAL loss: 0.002561701254282067\n",
      "TEST loss: 0.0018114819552176086\n",
      "TRAIN top-[1, 3, 5, 10, 20, 50] accuracies: [0.1306 0.2183 0.2701 0.3566 0.4574 0.6451]\n",
      "---\n",
      "VAL top-[1, 3, 5, 10, 20, 50] accuracies: [0.0496 0.1038 0.1297 0.1848 0.2634 0.4337]\n",
      "---\n",
      "Left-out label: CDC42\n"
     ]
    },
    {
     "name": "stderr",
     "output_type": "stream",
     "text": [
      "\r",
      " 19%|█▊        | 8/43 [05:38<24:18, 41.66s/it]"
     ]
    },
    {
     "name": "stdout",
     "output_type": "stream",
     "text": [
      "TEST top-[1, 3, 5, 10, 20, 50] accuracies: [0.0911 0.1744 0.2087 0.2688 0.3587 0.6565]\n",
      "---\n",
      "TRAIN loss: 0.0023808927952430896\n",
      "VAL loss: 0.005927400012232912\n",
      "TEST loss: 0.02497429356990773\n",
      "TRAIN top-[1, 3, 5, 10, 20, 50] accuracies: [0.1355 0.2266 0.2779 0.3684 0.4753 0.6581]\n",
      "---\n"
     ]
    },
    {
     "name": "stderr",
     "output_type": "stream",
     "text": [
      "\r",
      " 21%|██        | 9/43 [06:17<23:01, 40.64s/it]"
     ]
    },
    {
     "name": "stdout",
     "output_type": "stream",
     "text": [
      "VAL top-[1, 3, 5, 10, 20, 50] accuracies: [0.0451 0.08   0.1029 0.1449 0.2088 0.3492]\n",
      "---\n",
      "Left-out label: CDKN1A\n",
      "TEST top-[1, 3, 5, 10, 20, 50] accuracies: [0. 0. 0. 0. 0. 0.]\n",
      "---\n",
      "TRAIN loss: 0.002218699841388083\n",
      "VAL loss: 0.0051024315343601405\n",
      "TEST loss: 0.001859280419429159\n",
      "TRAIN top-[1, 3, 5, 10, 20, 50] accuracies: [0.1404 0.2311 0.2856 0.3737 0.4757 0.6537]\n",
      "---\n",
      "VAL top-[1, 3, 5, 10, 20, 50] accuracies: [0.0395 0.0813 0.1139 0.1779 0.2514 0.4385]\n",
      "---\n",
      "Left-out label: CEBPA\n"
     ]
    },
    {
     "name": "stderr",
     "output_type": "stream",
     "text": [
      "\r",
      " 23%|██▎       | 10/43 [07:02<23:08, 42.07s/it]"
     ]
    },
    {
     "name": "stdout",
     "output_type": "stream",
     "text": [
      "TEST top-[1, 3, 5, 10, 20, 50] accuracies: [0.1008 0.224  0.311  0.4066 0.5403 0.7314]\n",
      "---\n",
      "TRAIN loss: 0.002066996979245394\n",
      "VAL loss: 0.006617807387011354\n",
      "TEST loss: 0.002878174318313381\n",
      "TRAIN top-[1, 3, 5, 10, 20, 50] accuracies: [0.1505 0.2433 0.2989 0.3925 0.4963 0.6813]\n",
      "---\n"
     ]
    },
    {
     "name": "stderr",
     "output_type": "stream",
     "text": [
      "\r",
      " 26%|██▌       | 11/43 [07:45<22:31, 42.25s/it]"
     ]
    },
    {
     "name": "stdout",
     "output_type": "stream",
     "text": [
      "VAL top-[1, 3, 5, 10, 20, 50] accuracies: [0.0047 0.0103 0.0156 0.0387 0.0643 0.1462]\n",
      "---\n",
      "Left-out label: CREB1\n",
      "TEST top-[1, 3, 5, 10, 20, 50] accuracies: [0.    0.    0.    0.    0.    0.042]\n",
      "---\n",
      "TRAIN loss: 0.0020261342503192542\n",
      "VAL loss: 0.006032856063253871\n",
      "TEST loss: 0.0028092528183786374\n",
      "TRAIN top-[1, 3, 5, 10, 20, 50] accuracies: [0.1563 0.2602 0.3186 0.415  0.5168 0.6856]\n",
      "---\n"
     ]
    },
    {
     "name": "stderr",
     "output_type": "stream",
     "text": [
      "\r",
      " 28%|██▊       | 12/43 [08:34<22:55, 44.36s/it]"
     ]
    },
    {
     "name": "stdout",
     "output_type": "stream",
     "text": [
      "VAL top-[1, 3, 5, 10, 20, 50] accuracies: [0.008  0.0234 0.0371 0.0682 0.1087 0.2063]\n",
      "---\n",
      "Left-out label: DIABLO\n",
      "TEST top-[1, 3, 5, 10, 20, 50] accuracies: [0.0142 0.0487 0.0849 0.1352 0.195  0.3553]\n",
      "---\n",
      "TRAIN loss: 0.0023377628380796853\n",
      "VAL loss: 0.00570832661216968\n",
      "TEST loss: 0.004174623163944145\n",
      "TRAIN top-[1, 3, 5, 10, 20, 50] accuracies: [0.1454 0.2385 0.2939 0.3805 0.477  0.653 ]\n",
      "---\n",
      "VAL top-[1, 3, 5, 10, 20, 50] accuracies: [0.0123 0.0325 0.0482 0.0836 0.127  0.3008]\n",
      "---\n",
      "Left-out label: E2F1\n"
     ]
    },
    {
     "name": "stderr",
     "output_type": "stream",
     "text": [
      "\r",
      " 30%|███       | 13/43 [09:16<21:46, 43.56s/it]"
     ]
    },
    {
     "name": "stdout",
     "output_type": "stream",
     "text": [
      "TEST top-[1, 3, 5, 10, 20, 50] accuracies: [0.0507 0.1238 0.171  0.2205 0.283  0.4127]\n",
      "---\n",
      "TRAIN loss: 0.0026986368147625364\n",
      "VAL loss: 0.008068504475363314\n",
      "TEST loss: 0.0015933134164618642\n",
      "TRAIN top-[1, 3, 5, 10, 20, 50] accuracies: [0.119  0.2102 0.2652 0.3649 0.4833 0.6737]\n",
      "---\n"
     ]
    },
    {
     "name": "stderr",
     "output_type": "stream",
     "text": [
      "\r",
      " 33%|███▎      | 14/43 [09:51<19:53, 41.17s/it]"
     ]
    },
    {
     "name": "stdout",
     "output_type": "stream",
     "text": [
      "VAL top-[1, 3, 5, 10, 20, 50] accuracies: [0.006  0.0194 0.026  0.0417 0.0656 0.1478]\n",
      "---\n",
      "Left-out label: ELK1\n",
      "TEST top-[1, 3, 5, 10, 20, 50] accuracies: [0.1027 0.3265 0.4726 0.6416 0.7922 1.    ]\n",
      "---\n",
      "TRAIN loss: 0.002178471987430142\n",
      "VAL loss: 0.005517745757322401\n",
      "TEST loss: 0.0028632112964987757\n",
      "TRAIN top-[1, 3, 5, 10, 20, 50] accuracies: [0.1509 0.2483 0.301  0.3865 0.4843 0.6635]\n",
      "---\n",
      "VAL top-[1, 3, 5, 10, 20, 50] accuracies: [0.0128 0.0303 0.0411 0.0791 0.119  0.2939]\n",
      "---\n",
      "Left-out label: ERG\n"
     ]
    },
    {
     "name": "stderr",
     "output_type": "stream",
     "text": [
      "\r",
      " 35%|███▍      | 15/43 [10:35<19:35, 42.00s/it]"
     ]
    },
    {
     "name": "stdout",
     "output_type": "stream",
     "text": [
      "TEST top-[1, 3, 5, 10, 20, 50] accuracies: [0.16   0.1962 0.2188 0.25   0.29   0.4112]\n",
      "---\n",
      "TRAIN loss: 0.0021190002196490227\n",
      "VAL loss: 0.005887616415121103\n",
      "TEST loss: 0.0032806518878028992\n",
      "TRAIN top-[1, 3, 5, 10, 20, 50] accuracies: [0.1524 0.2522 0.3077 0.3959 0.4954 0.6672]\n",
      "---\n"
     ]
    },
    {
     "name": "stderr",
     "output_type": "stream",
     "text": [
      "\r",
      " 37%|███▋      | 16/43 [11:19<19:05, 42.44s/it]"
     ]
    },
    {
     "name": "stdout",
     "output_type": "stream",
     "text": [
      "VAL top-[1, 3, 5, 10, 20, 50] accuracies: [0.0137 0.0325 0.0451 0.0785 0.1247 0.286 ]\n",
      "---\n",
      "Left-out label: FGFR3\n",
      "TEST top-[1, 3, 5, 10, 20, 50] accuracies: [0.     0.0013 0.0013 0.0013 0.0079 0.0933]\n",
      "---\n",
      "TRAIN loss: 0.002182349311630044\n",
      "VAL loss: 0.0049228825309785874\n",
      "TEST loss: 0.0015022731955857496\n",
      "TRAIN top-[1, 3, 5, 10, 20, 50] accuracies: [0.1504 0.2488 0.3004 0.3864 0.4856 0.6578]\n",
      "---\n",
      "VAL top-[1, 3, 5, 10, 20, 50] accuracies: [0.0111 0.0268 0.0425 0.0799 0.1221 0.2511]\n",
      "---\n",
      "Left-out label: FOXO1\n"
     ]
    },
    {
     "name": "stderr",
     "output_type": "stream",
     "text": [
      "\r",
      " 40%|███▉      | 17/43 [12:00<18:11, 41.97s/it]"
     ]
    },
    {
     "name": "stdout",
     "output_type": "stream",
     "text": [
      "TEST top-[1, 3, 5, 10, 20, 50] accuracies: [0.0498 0.1232 0.1941 0.3597 0.562  0.9029]\n",
      "---\n",
      "TRAIN loss: 0.0026118180041185147\n",
      "VAL loss: 0.006861219805618535\n",
      "TEST loss: 0.007548688532004499\n",
      "TRAIN top-[1, 3, 5, 10, 20, 50] accuracies: [0.1265 0.223  0.2796 0.3672 0.4745 0.6516]\n",
      "---\n"
     ]
    },
    {
     "name": "stderr",
     "output_type": "stream",
     "text": [
      "\r",
      " 42%|████▏     | 18/43 [12:33<16:25, 39.43s/it]"
     ]
    },
    {
     "name": "stdout",
     "output_type": "stream",
     "text": [
      "VAL top-[1, 3, 5, 10, 20, 50] accuracies: [0.0128 0.0325 0.0477 0.0759 0.1139 0.2394]\n",
      "---\n",
      "Left-out label: GLI1\n",
      "TEST top-[1, 3, 5, 10, 20, 50] accuracies: [0.     0.     0.     0.     0.     0.0017]\n",
      "---\n",
      "TRAIN loss: 0.002397782714331441\n",
      "VAL loss: 0.007330003368190011\n",
      "TEST loss: 0.0017293234455104736\n",
      "TRAIN top-[1, 3, 5, 10, 20, 50] accuracies: [0.137  0.2255 0.2812 0.3778 0.4876 0.6706]\n",
      "---\n"
     ]
    },
    {
     "name": "stderr",
     "output_type": "stream",
     "text": [
      "\r",
      " 44%|████▍     | 19/43 [13:10<15:31, 38.81s/it]"
     ]
    },
    {
     "name": "stdout",
     "output_type": "stream",
     "text": [
      "VAL top-[1, 3, 5, 10, 20, 50] accuracies: [0.0141 0.0338 0.0514 0.0786 0.0968 0.2068]\n",
      "---\n",
      "Left-out label: HRAS\n",
      "TEST top-[1, 3, 5, 10, 20, 50] accuracies: [0.2416 0.3599 0.4499 0.5913 0.7095 0.9075]\n",
      "---\n",
      "TRAIN loss: 0.0021971694809040446\n",
      "VAL loss: 0.006652443378005882\n",
      "TEST loss: 0.002025677176539366\n",
      "TRAIN top-[1, 3, 5, 10, 20, 50] accuracies: [0.1501 0.2451 0.3013 0.3876 0.487  0.6679]\n",
      "---\n"
     ]
    },
    {
     "name": "stderr",
     "output_type": "stream",
     "text": [
      "\r",
      " 47%|████▋     | 20/43 [13:52<15:10, 39.60s/it]"
     ]
    },
    {
     "name": "stdout",
     "output_type": "stream",
     "text": [
      "VAL top-[1, 3, 5, 10, 20, 50] accuracies: [0.0057 0.0149 0.0227 0.0357 0.0538 0.1614]\n",
      "---\n",
      "Left-out label: IRAK4\n",
      "TEST top-[1, 3, 5, 10, 20, 50] accuracies: [0.1454 0.1961 0.2141 0.2778 0.3807 0.6422]\n",
      "---\n",
      "TRAIN loss: 0.002089834502602636\n",
      "VAL loss: 0.005656910189679144\n",
      "TEST loss: 0.0015300189113633623\n",
      "TRAIN top-[1, 3, 5, 10, 20, 50] accuracies: [0.1418 0.2391 0.2978 0.389  0.4922 0.6702]\n",
      "---\n",
      "VAL top-[1, 3, 5, 10, 20, 50] accuracies: [0.0035 0.0132 0.0241 0.0522 0.0849 0.2008]\n",
      "---\n",
      "Left-out label: JUN\n"
     ]
    },
    {
     "name": "stderr",
     "output_type": "stream",
     "text": [
      "\r",
      " 49%|████▉     | 21/43 [14:37<15:05, 41.14s/it]"
     ]
    },
    {
     "name": "stdout",
     "output_type": "stream",
     "text": [
      "TEST top-[1, 3, 5, 10, 20, 50] accuracies: [0.1446 0.3396 0.4366 0.569  0.6968 0.8974]\n",
      "---\n",
      "TRAIN loss: 0.002126008826084321\n",
      "VAL loss: 0.006114176403529741\n",
      "TEST loss: 0.0014064654280241124\n",
      "TRAIN top-[1, 3, 5, 10, 20, 50] accuracies: [0.1437 0.2424 0.2988 0.3934 0.4982 0.6866]\n",
      "---\n",
      "VAL top-[1, 3, 5, 10, 20, 50] accuracies: [0.0119 0.0435 0.0686 0.1054 0.1546 0.2335]\n",
      "---\n",
      "Left-out label: KRAS\n"
     ]
    },
    {
     "name": "stderr",
     "output_type": "stream",
     "text": [
      "\r",
      " 51%|█████     | 22/43 [15:15<14:03, 40.18s/it]"
     ]
    },
    {
     "name": "stdout",
     "output_type": "stream",
     "text": [
      "TEST top-[1, 3, 5, 10, 20, 50] accuracies: [0.0316 0.128  0.2091 0.3896 0.617  0.973 ]\n",
      "---\n",
      "TRAIN loss: 0.0021257522268001675\n",
      "VAL loss: 0.006419906475757425\n",
      "TEST loss: 0.0010910401585118403\n",
      "TRAIN top-[1, 3, 5, 10, 20, 50] accuracies: [0.1303 0.228  0.2872 0.3784 0.4841 0.6683]\n",
      "---\n"
     ]
    },
    {
     "name": "stderr",
     "output_type": "stream",
     "text": [
      "\r",
      " 53%|█████▎    | 23/43 [15:55<13:22, 40.13s/it]"
     ]
    },
    {
     "name": "stdout",
     "output_type": "stream",
     "text": [
      "VAL top-[1, 3, 5, 10, 20, 50] accuracies: [0.0078 0.0176 0.0289 0.0576 0.0905 0.2497]\n",
      "---\n",
      "Left-out label: MAP2K3\n",
      "TEST top-[1, 3, 5, 10, 20, 50] accuracies: [0.1693 0.394  0.5349 0.7582 0.9161 1.    ]\n",
      "---\n",
      "TRAIN loss: 0.002037137940500136\n",
      "VAL loss: 0.0056065850579053965\n",
      "TEST loss: 0.0011475620571789998\n",
      "TRAIN top-[1, 3, 5, 10, 20, 50] accuracies: [0.1437 0.245  0.3055 0.4016 0.5055 0.6796]\n",
      "---\n",
      "VAL top-[1, 3, 5, 10, 20, 50] accuracies: [0.0046 0.0149 0.0257 0.0478 0.0832 0.2405]\n",
      "---\n",
      "Left-out label: MAP3K2\n"
     ]
    },
    {
     "name": "stderr",
     "output_type": "stream",
     "text": [
      "\r",
      " 56%|█████▌    | 24/43 [16:39<13:07, 41.47s/it]"
     ]
    },
    {
     "name": "stdout",
     "output_type": "stream",
     "text": [
      "TEST top-[1, 3, 5, 10, 20, 50] accuracies: [0.1105 0.2514 0.3914 0.6381 0.8295 0.9752]\n",
      "---\n",
      "TRAIN loss: 0.0021440957440117016\n",
      "VAL loss: 0.006703276102607314\n",
      "TEST loss: 0.0008572320407026338\n",
      "TRAIN top-[1, 3, 5, 10, 20, 50] accuracies: [0.1432 0.246  0.3034 0.3966 0.5038 0.6819]\n",
      "---\n",
      "VAL top-[1, 3, 5, 10, 20, 50] accuracies: [0.0241 0.0441 0.0624 0.0951 0.1286 0.2105]\n",
      "---\n",
      "Left-out label: MAP3K5\n"
     ]
    },
    {
     "name": "stderr",
     "output_type": "stream",
     "text": [
      "\r",
      " 58%|█████▊    | 25/43 [17:16<12:03, 40.19s/it]"
     ]
    },
    {
     "name": "stdout",
     "output_type": "stream",
     "text": [
      "TEST top-[1, 3, 5, 10, 20, 50] accuracies: [0.4498 0.7595 0.8221 0.9012 0.9769 1.    ]\n",
      "---\n",
      "TRAIN loss: 0.0022497498523411834\n",
      "VAL loss: 0.006679935366469058\n",
      "TEST loss: 0.0030149106387254696\n",
      "TRAIN top-[1, 3, 5, 10, 20, 50] accuracies: [0.1529 0.2443 0.3026 0.3956 0.4979 0.6721]\n",
      "---\n"
     ]
    },
    {
     "name": "stderr",
     "output_type": "stream",
     "text": [
      "\r",
      " 60%|██████    | 26/43 [18:00<11:41, 41.27s/it]"
     ]
    },
    {
     "name": "stdout",
     "output_type": "stream",
     "text": [
      "VAL top-[1, 3, 5, 10, 20, 50] accuracies: [0.01   0.0205 0.0314 0.063  0.1016 0.2224]\n",
      "---\n",
      "Left-out label: MAP3K9\n",
      "TEST top-[1, 3, 5, 10, 20, 50] accuracies: [0.1657 0.2249 0.2387 0.2702 0.3116 0.4438]\n",
      "---\n",
      "TRAIN loss: 0.0021554844831887074\n",
      "VAL loss: 0.0066006609324265175\n",
      "TEST loss: 0.0023762720803435318\n",
      "TRAIN top-[1, 3, 5, 10, 20, 50] accuracies: [0.1485 0.247  0.3028 0.3955 0.496  0.6702]\n",
      "---\n"
     ]
    },
    {
     "name": "stderr",
     "output_type": "stream",
     "text": [
      "\r",
      " 63%|██████▎   | 27/43 [18:41<10:57, 41.10s/it]"
     ]
    },
    {
     "name": "stdout",
     "output_type": "stream",
     "text": [
      "VAL top-[1, 3, 5, 10, 20, 50] accuracies: [0.0095 0.0227 0.0338 0.057  0.083  0.1862]\n",
      "---\n",
      "Left-out label: MAPK7\n",
      "TEST top-[1, 3, 5, 10, 20, 50] accuracies: [0.0705 0.1567 0.1834 0.2461 0.3166 0.4875]\n",
      "---\n",
      "TRAIN loss: 0.00210350628419626\n",
      "VAL loss: 0.005754965437525833\n",
      "TEST loss: 0.0026777099132107482\n",
      "TRAIN top-[1, 3, 5, 10, 20, 50] accuracies: [0.1452 0.2425 0.2985 0.3898 0.4942 0.6668]\n",
      "---\n",
      "VAL top-[1, 3, 5, 10, 20, 50] accuracies: [0.0038 0.0124 0.0186 0.0319 0.0519 0.1811]\n",
      "---\n",
      "Left-out label: MYD88\n"
     ]
    },
    {
     "name": "stderr",
     "output_type": "stream",
     "text": [
      "\r",
      " 65%|██████▌   | 28/43 [19:22<10:18, 41.24s/it]"
     ]
    },
    {
     "name": "stdout",
     "output_type": "stream",
     "text": [
      "TEST top-[1, 3, 5, 10, 20, 50] accuracies: [0.0054 0.0208 0.0235 0.0307 0.0542 0.2094]\n",
      "---\n",
      "TRAIN loss: 0.0021611339032256314\n",
      "VAL loss: 0.006387857902493026\n",
      "TEST loss: 0.0013044584110113128\n",
      "TRAIN top-[1, 3, 5, 10, 20, 50] accuracies: [0.1451 0.2488 0.3042 0.3977 0.5049 0.6838]\n",
      "---\n",
      "VAL top-[1, 3, 5, 10, 20, 50] accuracies: [0.0122 0.0278 0.0395 0.0605 0.0916 0.2024]\n",
      "---\n",
      "Left-out label: PIK3R2\n"
     ]
    },
    {
     "name": "stderr",
     "output_type": "stream",
     "text": [
      "\r",
      " 67%|██████▋   | 29/43 [20:02<09:30, 40.72s/it]"
     ]
    },
    {
     "name": "stdout",
     "output_type": "stream",
     "text": [
      "TEST top-[1, 3, 5, 10, 20, 50] accuracies: [0.0453 0.1291 0.2225 0.3942 0.6525 0.9739]\n",
      "---\n",
      "TRAIN loss: 0.001963029463920092\n",
      "VAL loss: 0.0065330356543229235\n",
      "TEST loss: 0.005647892075892646\n",
      "TRAIN top-[1, 3, 5, 10, 20, 50] accuracies: [0.158  0.2533 0.3114 0.3982 0.4988 0.6782]\n",
      "---\n"
     ]
    },
    {
     "name": "stderr",
     "output_type": "stream",
     "text": [
      "\r",
      " 70%|██████▉   | 30/43 [20:43<08:51, 40.89s/it]"
     ]
    },
    {
     "name": "stdout",
     "output_type": "stream",
     "text": [
      "VAL top-[1, 3, 5, 10, 20, 50] accuracies: [0.0054 0.0159 0.0251 0.0519 0.0862 0.1989]\n",
      "---\n",
      "Left-out label: PKIA\n",
      "TEST top-[1, 3, 5, 10, 20, 50] accuracies: [0.0015 0.0046 0.0061 0.0108 0.0138 0.0399]\n",
      "---\n",
      "TRAIN loss: 0.0025793835627228702\n",
      "VAL loss: 0.007112774906831014\n",
      "TEST loss: 0.004797103642400236\n",
      "TRAIN top-[1, 3, 5, 10, 20, 50] accuracies: [0.1332 0.2295 0.2851 0.3744 0.477  0.6601]\n",
      "---\n"
     ]
    },
    {
     "name": "stderr",
     "output_type": "stream",
     "text": [
      "\r",
      " 72%|███████▏  | 31/43 [21:14<07:34, 37.88s/it]"
     ]
    },
    {
     "name": "stdout",
     "output_type": "stream",
     "text": [
      "VAL top-[1, 3, 5, 10, 20, 50] accuracies: [0.0092 0.0316 0.0495 0.0773 0.1138 0.2103]\n",
      "---\n",
      "Left-out label: PRKACA\n",
      "TEST top-[1, 3, 5, 10, 20, 50] accuracies: [0.0268 0.0369 0.0369 0.0486 0.062  0.0921]\n",
      "---\n",
      "TRAIN loss: 0.002257828905157966\n",
      "VAL loss: 0.006228568387041624\n",
      "TEST loss: 0.001385342245640868\n",
      "TRAIN top-[1, 3, 5, 10, 20, 50] accuracies: [0.1414 0.233  0.2881 0.3861 0.5009 0.6752]\n",
      "---\n",
      "VAL top-[1, 3, 5, 10, 20, 50] accuracies: [0.0124 0.0392 0.0527 0.0846 0.1149 0.1919]\n",
      "---\n",
      "Left-out label: PRKCE\n"
     ]
    },
    {
     "name": "stderr",
     "output_type": "stream",
     "text": [
      "\r",
      " 74%|███████▍  | 32/43 [21:51<06:53, 37.64s/it]"
     ]
    },
    {
     "name": "stdout",
     "output_type": "stream",
     "text": [
      "TEST top-[1, 3, 5, 10, 20, 50] accuracies: [0.1921 0.3307 0.4185 0.5793 0.7375 0.8942]\n",
      "---\n",
      "TRAIN loss: 0.0022148590455886154\n",
      "VAL loss: 0.006176270445103983\n",
      "TEST loss: 0.0023337878907720246\n",
      "TRAIN top-[1, 3, 5, 10, 20, 50] accuracies: [0.1375 0.2303 0.2827 0.3687 0.4707 0.663 ]\n",
      "---\n",
      "VAL top-[1, 3, 5, 10, 20, 50] accuracies: [0.0319 0.0589 0.0749 0.107  0.137  0.2186]\n",
      "---\n",
      "Left-out label: RAF1\n"
     ]
    },
    {
     "name": "stderr",
     "output_type": "stream",
     "text": [
      "\r",
      " 77%|███████▋  | 33/43 [22:29<06:17, 37.70s/it]"
     ]
    },
    {
     "name": "stdout",
     "output_type": "stream",
     "text": [
      "TEST top-[1, 3, 5, 10, 20, 50] accuracies: [0.1375 0.2062 0.2385 0.312  0.4068 0.5906]\n",
      "---\n",
      "TRAIN loss: 0.002084799583748335\n",
      "VAL loss: 0.0062008620461298\n",
      "TEST loss: 0.0012861491631216402\n",
      "TRAIN top-[1, 3, 5, 10, 20, 50] accuracies: [0.1389 0.2414 0.2965 0.3877 0.49   0.6723]\n",
      "---\n",
      "VAL top-[1, 3, 5, 10, 20, 50] accuracies: [0.0076 0.0211 0.0281 0.0527 0.0805 0.2292]\n",
      "---\n",
      "Left-out label: RELB\n"
     ]
    },
    {
     "name": "stderr",
     "output_type": "stream",
     "text": [
      "\r",
      " 79%|███████▉  | 34/43 [23:14<05:58, 39.80s/it]"
     ]
    },
    {
     "name": "stdout",
     "output_type": "stream",
     "text": [
      "TEST top-[1, 3, 5, 10, 20, 50] accuracies: [0.2296 0.3696 0.4319 0.5642 0.6926 0.93  ]\n",
      "---\n",
      "TRAIN loss: 0.0021946741903549932\n",
      "VAL loss: 0.005744902645741162\n",
      "TEST loss: 0.0016363153260223193\n",
      "TRAIN top-[1, 3, 5, 10, 20, 50] accuracies: [0.1308 0.2276 0.2826 0.3734 0.476  0.6587]\n",
      "---\n",
      "VAL top-[1, 3, 5, 10, 20, 50] accuracies: [0.0095 0.0157 0.0216 0.0332 0.0532 0.1911]\n",
      "---\n",
      "Left-out label: RHOA\n"
     ]
    },
    {
     "name": "stderr",
     "output_type": "stream",
     "text": [
      "\r",
      " 81%|████████▏ | 35/43 [23:52<05:13, 39.22s/it]"
     ]
    },
    {
     "name": "stdout",
     "output_type": "stream",
     "text": [
      "TEST top-[1, 3, 5, 10, 20, 50] accuracies: [0.0162 0.0501 0.0907 0.1858 0.3577 0.7928]\n",
      "---\n",
      "TRAIN loss: 0.002156945288469806\n",
      "VAL loss: 0.005670817433478865\n",
      "TEST loss: 0.0043764963223636745\n",
      "TRAIN top-[1, 3, 5, 10, 20, 50] accuracies: [0.1556 0.2515 0.3068 0.3949 0.5003 0.6804]\n",
      "---\n",
      "VAL top-[1, 3, 5, 10, 20, 50] accuracies: [0.0303 0.0438 0.0535 0.0638 0.077  0.1446]\n",
      "---\n",
      "Left-out label: SMAD3\n"
     ]
    },
    {
     "name": "stderr",
     "output_type": "stream",
     "text": [
      "\r",
      " 84%|████████▎ | 36/43 [24:32<04:36, 39.57s/it]"
     ]
    },
    {
     "name": "stdout",
     "output_type": "stream",
     "text": [
      "TEST top-[1, 3, 5, 10, 20, 50] accuracies: [0.     0.     0.0007 0.0047 0.014  0.0646]\n",
      "---\n",
      "TRAIN loss: 0.0023058588566915294\n",
      "VAL loss: 0.0069389572548302445\n",
      "TEST loss: 0.0026481367560224857\n",
      "TRAIN top-[1, 3, 5, 10, 20, 50] accuracies: [0.1377 0.2352 0.2927 0.3889 0.4925 0.6648]\n",
      "---\n"
     ]
    },
    {
     "name": "stderr",
     "output_type": "stream",
     "text": [
      "\r",
      " 86%|████████▌ | 37/43 [25:09<03:52, 38.73s/it]"
     ]
    },
    {
     "name": "stdout",
     "output_type": "stream",
     "text": [
      "VAL top-[1, 3, 5, 10, 20, 50] accuracies: [0.0095 0.0303 0.0432 0.0727 0.1049 0.1646]\n",
      "---\n",
      "Left-out label: SMAD4\n",
      "TEST top-[1, 3, 5, 10, 20, 50] accuracies: [0.     0.     0.     0.0038 0.0057 0.1533]\n",
      "---\n",
      "TRAIN loss: 0.0023168729996694572\n",
      "VAL loss: 0.006195252615384639\n",
      "TEST loss: 0.006645443905709368\n",
      "TRAIN top-[1, 3, 5, 10, 20, 50] accuracies: [0.1321 0.2214 0.277  0.3723 0.4749 0.6516]\n",
      "---\n",
      "VAL top-[1, 3, 5, 10, 20, 50] accuracies: [0.011  0.0221 0.0296 0.0469 0.0648 0.2557]\n",
      "---\n",
      "Left-out label: SMO\n"
     ]
    },
    {
     "name": "stderr",
     "output_type": "stream",
     "text": [
      "\r",
      " 88%|████████▊ | 38/43 [25:47<03:12, 38.52s/it]"
     ]
    },
    {
     "name": "stdout",
     "output_type": "stream",
     "text": [
      "TEST top-[1, 3, 5, 10, 20, 50] accuracies: [0.0182 0.0379 0.0477 0.0583 0.0689 0.1152]\n",
      "---\n",
      "TRAIN loss: 0.0023529811288209904\n",
      "VAL loss: 0.006000907859154595\n",
      "TEST loss: 0.003319242799660361\n",
      "TRAIN top-[1, 3, 5, 10, 20, 50] accuracies: [0.1345 0.2351 0.2915 0.3822 0.479  0.6532]\n",
      "---\n",
      "VAL top-[1, 3, 5, 10, 20, 50] accuracies: [0.0227 0.052  0.0772 0.1203 0.1516 0.2609]\n",
      "---\n",
      "Left-out label: SRC\n"
     ]
    },
    {
     "name": "stderr",
     "output_type": "stream",
     "text": [
      "\r",
      " 91%|█████████ | 39/43 [26:31<02:41, 40.27s/it]"
     ]
    },
    {
     "name": "stdout",
     "output_type": "stream",
     "text": [
      "TEST top-[1, 3, 5, 10, 20, 50] accuracies: [0.     0.     0.     0.0155 0.0464 0.204 ]\n",
      "---\n",
      "TRAIN loss: 0.0021687944291111177\n",
      "VAL loss: 0.006208917723620743\n",
      "TEST loss: 0.0012064005383095012\n",
      "TRAIN top-[1, 3, 5, 10, 20, 50] accuracies: [0.1245 0.2162 0.2718 0.3645 0.4711 0.6619]\n",
      "---\n"
     ]
    },
    {
     "name": "stderr",
     "output_type": "stream",
     "text": [
      "\r",
      " 93%|█████████▎| 40/43 [27:18<02:06, 42.11s/it]"
     ]
    },
    {
     "name": "stdout",
     "output_type": "stream",
     "text": [
      "VAL top-[1, 3, 5, 10, 20, 50] accuracies: [0.0024 0.0076 0.0155 0.0376 0.0744 0.2133]\n",
      "---\n",
      "Left-out label: SREBF1\n",
      "TEST top-[1, 3, 5, 10, 20, 50] accuracies: [0.1231 0.23   0.3072 0.456  0.6563 0.9323]\n",
      "---\n",
      "TRAIN loss: 0.002255128659368807\n",
      "VAL loss: 0.006425932476901643\n",
      "TEST loss: 0.0018795886773184823\n",
      "TRAIN top-[1, 3, 5, 10, 20, 50] accuracies: [0.1192 0.2076 0.2637 0.3548 0.4591 0.6465]\n",
      "---\n"
     ]
    },
    {
     "name": "stderr",
     "output_type": "stream",
     "text": [
      "\r",
      " 95%|█████████▌| 41/43 [27:58<01:23, 41.74s/it]"
     ]
    },
    {
     "name": "stdout",
     "output_type": "stream",
     "text": [
      "VAL top-[1, 3, 5, 10, 20, 50] accuracies: [0.0062 0.0238 0.0376 0.0644 0.1092 0.2905]\n",
      "---\n",
      "Left-out label: TRAF2\n",
      "TEST top-[1, 3, 5, 10, 20, 50] accuracies: [0.0066 0.0082 0.0082 0.0197 0.0558 0.6256]\n",
      "---\n",
      "TRAIN loss: 0.002180894427786013\n",
      "VAL loss: 0.006255682869117931\n",
      "TEST loss: 0.0015302575510135153\n",
      "TRAIN top-[1, 3, 5, 10, 20, 50] accuracies: [0.1525 0.2483 0.303  0.3874 0.4833 0.6584]\n",
      "---\n"
     ]
    },
    {
     "name": "stderr",
     "output_type": "stream",
     "text": [
      "\r",
      " 98%|█████████▊| 42/43 [28:44<00:42, 42.82s/it]"
     ]
    },
    {
     "name": "stdout",
     "output_type": "stream",
     "text": [
      "VAL top-[1, 3, 5, 10, 20, 50] accuracies: [0.0093 0.0248 0.0441 0.07   0.1123 0.2567]\n",
      "---\n",
      "Left-out label: TSC2\n",
      "TEST top-[1, 3, 5, 10, 20, 50] accuracies: [0.0451 0.1202 0.2137 0.3389 0.5426 0.9215]\n",
      "---\n",
      "TRAIN loss: 0.0020888211813591346\n",
      "VAL loss: 0.006315982995299757\n",
      "TEST loss: 0.004028403033216848\n",
      "TRAIN top-[1, 3, 5, 10, 20, 50] accuracies: [0.1333 0.2259 0.2798 0.3726 0.4837 0.6694]\n",
      "---\n",
      "VAL top-[1, 3, 5, 10, 20, 50] accuracies: [0.0167 0.0388 0.0555 0.0912 0.1416 0.3848]\n",
      "---\n",
      "Left-out label: WWTR1\n"
     ]
    },
    {
     "name": "stderr",
     "output_type": "stream",
     "text": [
      "100%|██████████| 43/43 [29:32<00:00, 41.22s/it]"
     ]
    },
    {
     "name": "stdout",
     "output_type": "stream",
     "text": [
      "TEST top-[1, 3, 5, 10, 20, 50] accuracies: [0.     0.     0.     0.     0.     0.0141]\n",
      "---\n"
     ]
    },
    {
     "name": "stderr",
     "output_type": "stream",
     "text": [
      "\n"
     ]
    },
    {
     "data": {
      "application/javascript": [
       "\n",
       "            setTimeout(function() {\n",
       "                var nbb_cell_id = 61;\n",
       "                var nbb_unformatted_code = \"topk_test_accs = []\\nlo_labels = []\\nfor i in tqdm(range(len(data_dicts))):\\n    data_dict = data_dicts[i]\\n\\n    model = nn.Sequential(\\n        nn.Linear(1024, 1024),\\n        nn.PReLU(),\\n        nn.BatchNorm1d(1024),\\n        nn.Linear(1024, 128),\\n    )\\n    optimizer = Adam(model.parameters(), lr=1e-4)\\n    criterion = nn.MSELoss()\\n\\n    fitted_model = train_model(\\n        model=model,\\n        data_dict=data_dict,\\n        optimizer=optimizer,\\n        criterion=criterion,\\n        n_epochs=100,\\n        early_stopping=5,\\n    )\\n\\n    ks = [1, 3, 5, 10, 20, 50]\\n    for mode in [\\\"train\\\", \\\"val\\\", \\\"test\\\"]:\\n        topk_accs = []\\n        preds, labels = get_preds_label_dict(fitted_model, data_dict[mode])\\n        if mode == \\\"test\\\":\\n            lo_label = np.unique(labels)[0]\\n            lo_labels.append(lo_label)\\n            print(\\\"Left-out label: {}\\\".format(lo_label))\\n        for k in ks:\\n            topk_acc, _ = evaluate_top_k_accuracy(preds, labels, node_embs, k=k)\\n            topk_accs.append(topk_acc)\\n        print(\\n            \\\"{} top-{} accuracies: {}\\\".format(mode.upper(), ks, np.round(topk_accs, 4))\\n        )\\n        print(\\\"---\\\")\\n    topk_test_accs.append(np.array(topk_accs))\";\n",
       "                var nbb_formatted_code = \"topk_test_accs = []\\nlo_labels = []\\nfor i in tqdm(range(len(data_dicts))):\\n    data_dict = data_dicts[i]\\n\\n    model = nn.Sequential(\\n        nn.Linear(1024, 1024),\\n        nn.PReLU(),\\n        nn.BatchNorm1d(1024),\\n        nn.Linear(1024, 128),\\n    )\\n    optimizer = Adam(model.parameters(), lr=1e-4)\\n    criterion = nn.MSELoss()\\n\\n    fitted_model = train_model(\\n        model=model,\\n        data_dict=data_dict,\\n        optimizer=optimizer,\\n        criterion=criterion,\\n        n_epochs=100,\\n        early_stopping=5,\\n    )\\n\\n    ks = [1, 3, 5, 10, 20, 50]\\n    for mode in [\\\"train\\\", \\\"val\\\", \\\"test\\\"]:\\n        topk_accs = []\\n        preds, labels = get_preds_label_dict(fitted_model, data_dict[mode])\\n        if mode == \\\"test\\\":\\n            lo_label = np.unique(labels)[0]\\n            lo_labels.append(lo_label)\\n            print(\\\"Left-out label: {}\\\".format(lo_label))\\n        for k in ks:\\n            topk_acc, _ = evaluate_top_k_accuracy(preds, labels, node_embs, k=k)\\n            topk_accs.append(topk_acc)\\n        print(\\n            \\\"{} top-{} accuracies: {}\\\".format(mode.upper(), ks, np.round(topk_accs, 4))\\n        )\\n        print(\\\"---\\\")\\n    topk_test_accs.append(np.array(topk_accs))\";\n",
       "                var nbb_cells = Jupyter.notebook.get_cells();\n",
       "                for (var i = 0; i < nbb_cells.length; ++i) {\n",
       "                    if (nbb_cells[i].input_prompt_number == nbb_cell_id) {\n",
       "                        if (nbb_cells[i].get_text() == nbb_unformatted_code) {\n",
       "                             nbb_cells[i].set_text(nbb_formatted_code);\n",
       "                        }\n",
       "                        break;\n",
       "                    }\n",
       "                }\n",
       "            }, 500);\n",
       "            "
      ],
      "text/plain": [
       "<IPython.core.display.Javascript object>"
      ]
     },
     "metadata": {},
     "output_type": "display_data"
    }
   ],
   "source": [
    "topk_test_accs = []\n",
    "lo_labels = []\n",
    "for i in tqdm(range(len(data_dicts))):\n",
    "    data_dict = data_dicts[i]\n",
    "\n",
    "    model = nn.Sequential(\n",
    "        nn.Linear(1024, 1024),\n",
    "        nn.PReLU(),\n",
    "        nn.BatchNorm1d(1024),\n",
    "        nn.Linear(1024, 128),\n",
    "    )\n",
    "    optimizer = Adam(model.parameters(), lr=1e-4)\n",
    "    criterion = nn.MSELoss()\n",
    "\n",
    "    fitted_model = train_model(\n",
    "        model=model,\n",
    "        data_dict=data_dict,\n",
    "        optimizer=optimizer,\n",
    "        criterion=criterion,\n",
    "        n_epochs=100,\n",
    "        early_stopping=5,\n",
    "    )\n",
    "\n",
    "    ks = [1, 3, 5, 10, 20, 50]\n",
    "    for mode in [\"train\", \"val\", \"test\"]:\n",
    "        topk_accs = []\n",
    "        preds, labels = get_preds_label_dict(fitted_model, data_dict[mode])\n",
    "        if mode == \"test\":\n",
    "            lo_label = np.unique(labels)[0]\n",
    "            lo_labels.append(lo_label)\n",
    "            print(\"Left-out label: {}\".format(lo_label))\n",
    "        for k in ks:\n",
    "            topk_acc, _ = evaluate_top_k_accuracy(preds, labels, node_embs, k=k)\n",
    "            topk_accs.append(topk_acc)\n",
    "        print(\n",
    "            \"{} top-{} accuracies: {}\".format(mode.upper(), ks, np.round(topk_accs, 4))\n",
    "        )\n",
    "        print(\"---\")\n",
    "    topk_test_accs.append(np.array(topk_accs))"
   ]
  },
  {
   "cell_type": "code",
   "execution_count": 62,
   "id": "fd7455f9",
   "metadata": {
    "scrolled": true
   },
   "outputs": [
    {
     "data": {
      "text/plain": [
       "{'AKT1S1': array([0.45760122, 0.6631016 , 0.80672269, 0.93124523, 0.98777693,\n",
       "        1.        ]),\n",
       " 'APC': array([0.00627943, 0.00784929, 0.02354788, 0.05023548, 0.08477237,\n",
       "        0.14756672]),\n",
       " 'ATF4': array([0.06329114, 0.10801688, 0.14177215, 0.21350211, 0.39662447,\n",
       "        0.71898734]),\n",
       " 'BAX': array([0.1124183 , 0.15294118, 0.18562092, 0.25620915, 0.3503268 ,\n",
       "        0.59084967]),\n",
       " 'BCL2L11': array([0.        , 0.        , 0.        , 0.        , 0.02790698,\n",
       "        0.51162791]),\n",
       " 'BRAF': array([0.18195956, 0.2654225 , 0.29860031, 0.35821669, 0.4525661 ,\n",
       "        0.61586314]),\n",
       " 'CASP8': array([0.02906977, 0.04069767, 0.06976744, 0.11046512, 0.19767442,\n",
       "        0.46511628]),\n",
       " 'CDC42': array([0.09114927, 0.17437252, 0.20871863, 0.26882431, 0.35865258,\n",
       "        0.65653897]),\n",
       " 'CDKN1A': array([0., 0., 0., 0., 0., 0.]),\n",
       " 'CEBPA': array([0.10084926, 0.22399151, 0.31104034, 0.40658174, 0.5403397 ,\n",
       "        0.73142251]),\n",
       " 'CREB1': array([0.       , 0.       , 0.       , 0.       , 0.       , 0.0419708]),\n",
       " 'DIABLO': array([0.01415094, 0.04874214, 0.08490566, 0.13522013, 0.19496855,\n",
       "        0.35534591]),\n",
       " 'E2F1': array([0.05070755, 0.12382075, 0.17099057, 0.22051887, 0.28301887,\n",
       "        0.41273585]),\n",
       " 'ELK1': array([0.10273973, 0.32648402, 0.47260274, 0.64155251, 0.79223744,\n",
       "        1.        ]),\n",
       " 'ERG': array([0.16   , 0.19625, 0.21875, 0.25   , 0.29   , 0.41125]),\n",
       " 'FGFR3': array([0.        , 0.00131406, 0.00131406, 0.00131406, 0.00788436,\n",
       "        0.09329829]),\n",
       " 'FOXO1': array([0.0497553 , 0.12316476, 0.19412724, 0.35970636, 0.56199021,\n",
       "        0.90293638]),\n",
       " 'GLI1': array([0.       , 0.       , 0.       , 0.       , 0.       , 0.0017094]),\n",
       " 'HRAS': array([0.24164524, 0.35989717, 0.44987147, 0.59125964, 0.70951157,\n",
       "        0.90745501]),\n",
       " 'IRAK4': array([0.14542484, 0.19607843, 0.21405229, 0.27777778, 0.38071895,\n",
       "        0.64215686]),\n",
       " 'JUN': array([0.14458955, 0.33955224, 0.43656716, 0.56902985, 0.69682836,\n",
       "        0.89738806]),\n",
       " 'KRAS': array([0.03161652, 0.12799592, 0.209077  , 0.38959714, 0.61703213,\n",
       "        0.97297297]),\n",
       " 'MAP2K3': array([0.16927454, 0.3940256 , 0.53485064, 0.75817923, 0.91607397,\n",
       "        1.        ]),\n",
       " 'MAP3K2': array([0.11047619, 0.25142857, 0.39142857, 0.63809524, 0.82952381,\n",
       "        0.9752381 ]),\n",
       " 'MAP3K5': array([0.44975288, 0.75947282, 0.82207578, 0.90115321, 0.97693575,\n",
       "        1.        ]),\n",
       " 'MAP3K9': array([0.16568047, 0.22485207, 0.23865878, 0.27021696, 0.31163708,\n",
       "        0.44378698]),\n",
       " 'MAPK7': array([0.07053292, 0.15673981, 0.18338558, 0.2460815 , 0.31661442,\n",
       "        0.48746082]),\n",
       " 'MYD88': array([0.00541516, 0.02075812, 0.0234657 , 0.03068592, 0.05415162,\n",
       "        0.20938628]),\n",
       " 'PIK3R2': array([0.04532967, 0.12912088, 0.22252747, 0.39423077, 0.65247253,\n",
       "        0.9739011 ]),\n",
       " 'PKIA': array([0.0015361 , 0.00460829, 0.00614439, 0.01075269, 0.01382488,\n",
       "        0.03993856]),\n",
       " 'PRKACA': array([0.02680067, 0.03685092, 0.03685092, 0.04857621, 0.06197655,\n",
       "        0.0921273 ]),\n",
       " 'PRKCE': array([0.1920904 , 0.3306968 , 0.41845574, 0.57928437, 0.73747646,\n",
       "        0.89416196]),\n",
       " 'RAF1': array([0.1375    , 0.20625   , 0.23854167, 0.31197917, 0.40677083,\n",
       "        0.590625  ]),\n",
       " 'RELB': array([0.22957198, 0.36964981, 0.43190661, 0.56420233, 0.692607  ,\n",
       "        0.92996109]),\n",
       " 'RHOA': array([0.01622419, 0.05014749, 0.09070796, 0.18584071, 0.35766962,\n",
       "        0.79277286]),\n",
       " 'SMAD3': array([0.        , 0.        , 0.00066622, 0.00466356, 0.01399067,\n",
       "        0.06462358]),\n",
       " 'SMAD4': array([0.        , 0.        , 0.        , 0.00383142, 0.00574713,\n",
       "        0.1532567 ]),\n",
       " 'SMO': array([0.01818182, 0.03787879, 0.04772727, 0.05833333, 0.06893939,\n",
       "        0.11515152]),\n",
       " 'SRC': array([0.        , 0.        , 0.        , 0.01545595, 0.04636785,\n",
       "        0.20401855]),\n",
       " 'SREBF1': array([0.12313938, 0.2300406 , 0.30717185, 0.45602165, 0.65629229,\n",
       "        0.932341  ]),\n",
       " 'TRAF2': array([0.00656814, 0.00821018, 0.00821018, 0.01970443, 0.05582923,\n",
       "        0.62561576]),\n",
       " 'TSC2': array([0.04507513, 0.12020033, 0.21368948, 0.33889816, 0.54257095,\n",
       "        0.92153589]),\n",
       " 'WWTR1': array([0.        , 0.        , 0.        , 0.        , 0.        ,\n",
       "        0.01408451])}"
      ]
     },
     "execution_count": 62,
     "metadata": {},
     "output_type": "execute_result"
    },
    {
     "data": {
      "application/javascript": [
       "\n",
       "            setTimeout(function() {\n",
       "                var nbb_cell_id = 62;\n",
       "                var nbb_unformatted_code = \"logo_results = dict(zip(lo_labels, topk_test_accs))\\nlogo_results\";\n",
       "                var nbb_formatted_code = \"logo_results = dict(zip(lo_labels, topk_test_accs))\\nlogo_results\";\n",
       "                var nbb_cells = Jupyter.notebook.get_cells();\n",
       "                for (var i = 0; i < nbb_cells.length; ++i) {\n",
       "                    if (nbb_cells[i].input_prompt_number == nbb_cell_id) {\n",
       "                        if (nbb_cells[i].get_text() == nbb_unformatted_code) {\n",
       "                             nbb_cells[i].set_text(nbb_formatted_code);\n",
       "                        }\n",
       "                        break;\n",
       "                    }\n",
       "                }\n",
       "            }, 500);\n",
       "            "
      ],
      "text/plain": [
       "<IPython.core.display.Javascript object>"
      ]
     },
     "metadata": {},
     "output_type": "display_data"
    }
   ],
   "source": [
    "logo_results = dict(zip(lo_labels, topk_test_accs))\n",
    "logo_results"
   ]
  },
  {
   "cell_type": "code",
   "execution_count": 63,
   "id": "fe87eaa3",
   "metadata": {},
   "outputs": [
    {
     "data": {
      "text/html": [
       "<div>\n",
       "<style scoped>\n",
       "    .dataframe tbody tr th:only-of-type {\n",
       "        vertical-align: middle;\n",
       "    }\n",
       "\n",
       "    .dataframe tbody tr th {\n",
       "        vertical-align: top;\n",
       "    }\n",
       "\n",
       "    .dataframe thead th {\n",
       "        text-align: right;\n",
       "    }\n",
       "</style>\n",
       "<table border=\"1\" class=\"dataframe\">\n",
       "  <thead>\n",
       "    <tr style=\"text-align: right;\">\n",
       "      <th></th>\n",
       "      <th>top1</th>\n",
       "      <th>top3</th>\n",
       "      <th>top5</th>\n",
       "      <th>top10</th>\n",
       "      <th>top20</th>\n",
       "      <th>top50</th>\n",
       "    </tr>\n",
       "  </thead>\n",
       "  <tbody>\n",
       "    <tr>\n",
       "      <th>AKT1S1</th>\n",
       "      <td>0.457601</td>\n",
       "      <td>0.663102</td>\n",
       "      <td>0.806723</td>\n",
       "      <td>0.931245</td>\n",
       "      <td>0.987777</td>\n",
       "      <td>1.000000</td>\n",
       "    </tr>\n",
       "    <tr>\n",
       "      <th>APC</th>\n",
       "      <td>0.006279</td>\n",
       "      <td>0.007849</td>\n",
       "      <td>0.023548</td>\n",
       "      <td>0.050235</td>\n",
       "      <td>0.084772</td>\n",
       "      <td>0.147567</td>\n",
       "    </tr>\n",
       "    <tr>\n",
       "      <th>ATF4</th>\n",
       "      <td>0.063291</td>\n",
       "      <td>0.108017</td>\n",
       "      <td>0.141772</td>\n",
       "      <td>0.213502</td>\n",
       "      <td>0.396624</td>\n",
       "      <td>0.718987</td>\n",
       "    </tr>\n",
       "    <tr>\n",
       "      <th>BAX</th>\n",
       "      <td>0.112418</td>\n",
       "      <td>0.152941</td>\n",
       "      <td>0.185621</td>\n",
       "      <td>0.256209</td>\n",
       "      <td>0.350327</td>\n",
       "      <td>0.590850</td>\n",
       "    </tr>\n",
       "    <tr>\n",
       "      <th>BCL2L11</th>\n",
       "      <td>0.000000</td>\n",
       "      <td>0.000000</td>\n",
       "      <td>0.000000</td>\n",
       "      <td>0.000000</td>\n",
       "      <td>0.027907</td>\n",
       "      <td>0.511628</td>\n",
       "    </tr>\n",
       "  </tbody>\n",
       "</table>\n",
       "</div>"
      ],
      "text/plain": [
       "             top1      top3      top5     top10     top20     top50\n",
       "AKT1S1   0.457601  0.663102  0.806723  0.931245  0.987777  1.000000\n",
       "APC      0.006279  0.007849  0.023548  0.050235  0.084772  0.147567\n",
       "ATF4     0.063291  0.108017  0.141772  0.213502  0.396624  0.718987\n",
       "BAX      0.112418  0.152941  0.185621  0.256209  0.350327  0.590850\n",
       "BCL2L11  0.000000  0.000000  0.000000  0.000000  0.027907  0.511628"
      ]
     },
     "execution_count": 63,
     "metadata": {},
     "output_type": "execute_result"
    },
    {
     "data": {
      "application/javascript": [
       "\n",
       "            setTimeout(function() {\n",
       "                var nbb_cell_id = 63;\n",
       "                var nbb_unformatted_code = \"logo_results_df = pd.DataFrame(logo_results)\\nlogo_results_df = logo_results_df.transpose()\\nlogo_results_df.columns = [\\\"top1\\\", \\\"top3\\\", \\\"top5\\\", \\\"top10\\\", \\\"top20\\\", \\\"top50\\\"]\\nlogo_results_df.head()\";\n",
       "                var nbb_formatted_code = \"logo_results_df = pd.DataFrame(logo_results)\\nlogo_results_df = logo_results_df.transpose()\\nlogo_results_df.columns = [\\\"top1\\\", \\\"top3\\\", \\\"top5\\\", \\\"top10\\\", \\\"top20\\\", \\\"top50\\\"]\\nlogo_results_df.head()\";\n",
       "                var nbb_cells = Jupyter.notebook.get_cells();\n",
       "                for (var i = 0; i < nbb_cells.length; ++i) {\n",
       "                    if (nbb_cells[i].input_prompt_number == nbb_cell_id) {\n",
       "                        if (nbb_cells[i].get_text() == nbb_unformatted_code) {\n",
       "                             nbb_cells[i].set_text(nbb_formatted_code);\n",
       "                        }\n",
       "                        break;\n",
       "                    }\n",
       "                }\n",
       "            }, 500);\n",
       "            "
      ],
      "text/plain": [
       "<IPython.core.display.Javascript object>"
      ]
     },
     "metadata": {},
     "output_type": "display_data"
    }
   ],
   "source": [
    "logo_results_df = pd.DataFrame(logo_results)\n",
    "logo_results_df = logo_results_df.transpose()\n",
    "logo_results_df.columns = [\"top1\", \"top3\", \"top5\", \"top10\", \"top20\", \"top50\"]\n",
    "logo_results_df.head()"
   ]
  },
  {
   "cell_type": "code",
   "execution_count": 64,
   "id": "5075ce1e",
   "metadata": {},
   "outputs": [
    {
     "data": {
      "text/plain": [
       "top1     0.088288\n",
       "top3     0.158387\n",
       "top5     0.202663\n",
       "top10    0.275987\n",
       "top20    0.363914\n",
       "top50    0.547376\n",
       "dtype: float64"
      ]
     },
     "execution_count": 64,
     "metadata": {},
     "output_type": "execute_result"
    },
    {
     "data": {
      "application/javascript": [
       "\n",
       "            setTimeout(function() {\n",
       "                var nbb_cell_id = 64;\n",
       "                var nbb_unformatted_code = \"logo_results_df.mean(axis=0)\";\n",
       "                var nbb_formatted_code = \"logo_results_df.mean(axis=0)\";\n",
       "                var nbb_cells = Jupyter.notebook.get_cells();\n",
       "                for (var i = 0; i < nbb_cells.length; ++i) {\n",
       "                    if (nbb_cells[i].input_prompt_number == nbb_cell_id) {\n",
       "                        if (nbb_cells[i].get_text() == nbb_unformatted_code) {\n",
       "                             nbb_cells[i].set_text(nbb_formatted_code);\n",
       "                        }\n",
       "                        break;\n",
       "                    }\n",
       "                }\n",
       "            }, 500);\n",
       "            "
      ],
      "text/plain": [
       "<IPython.core.display.Javascript object>"
      ]
     },
     "metadata": {},
     "output_type": "display_data"
    }
   ],
   "source": [
    "logo_results_df.mean(axis=0)"
   ]
  },
  {
   "cell_type": "code",
   "execution_count": 65,
   "id": "6ef13b05",
   "metadata": {},
   "outputs": [
    {
     "data": {
      "text/plain": [
       "top1     0.108111\n",
       "top3     0.174249\n",
       "top5     0.208639\n",
       "top10    0.260752\n",
       "top20    0.310837\n",
       "top50    0.356212\n",
       "dtype: float64"
      ]
     },
     "execution_count": 65,
     "metadata": {},
     "output_type": "execute_result"
    },
    {
     "data": {
      "application/javascript": [
       "\n",
       "            setTimeout(function() {\n",
       "                var nbb_cell_id = 65;\n",
       "                var nbb_unformatted_code = \"logo_results_df.std(axis=0)\";\n",
       "                var nbb_formatted_code = \"logo_results_df.std(axis=0)\";\n",
       "                var nbb_cells = Jupyter.notebook.get_cells();\n",
       "                for (var i = 0; i < nbb_cells.length; ++i) {\n",
       "                    if (nbb_cells[i].input_prompt_number == nbb_cell_id) {\n",
       "                        if (nbb_cells[i].get_text() == nbb_unformatted_code) {\n",
       "                             nbb_cells[i].set_text(nbb_formatted_code);\n",
       "                        }\n",
       "                        break;\n",
       "                    }\n",
       "                }\n",
       "            }, 500);\n",
       "            "
      ],
      "text/plain": [
       "<IPython.core.display.Javascript object>"
      ]
     },
     "metadata": {},
     "output_type": "display_data"
    }
   ],
   "source": [
    "logo_results_df.std(axis=0)"
   ]
  },
  {
   "cell_type": "code",
   "execution_count": 66,
   "id": "410a8b00",
   "metadata": {},
   "outputs": [
    {
     "data": {
      "image/png": "[encoded data removed]",
      "text/plain": [
       "<Figure size 720x288 with 1 Axes>"
      ]
     },
     "metadata": {
      "needs_background": "light"
     },
     "output_type": "display_data"
    },
    {
     "data": {
      "application/javascript": [
       "\n",
       "            setTimeout(function() {\n",
       "                var nbb_cell_id = 66;\n",
       "                var nbb_unformatted_code = \"ax = logo_results_df.sort_values(\\\"top1\\\", ascending=False).top1.plot(\\n    kind=\\\"bar\\\", figsize=[10, 4]\\n)\\nax.set_title(\\\"Top-1 accuracy of logo-CV\\\")\\nplt.show()\";\n",
       "                var nbb_formatted_code = \"ax = logo_results_df.sort_values(\\\"top1\\\", ascending=False).top1.plot(\\n    kind=\\\"bar\\\", figsize=[10, 4]\\n)\\nax.set_title(\\\"Top-1 accuracy of logo-CV\\\")\\nplt.show()\";\n",
       "                var nbb_cells = Jupyter.notebook.get_cells();\n",
       "                for (var i = 0; i < nbb_cells.length; ++i) {\n",
       "                    if (nbb_cells[i].input_prompt_number == nbb_cell_id) {\n",
       "                        if (nbb_cells[i].get_text() == nbb_unformatted_code) {\n",
       "                             nbb_cells[i].set_text(nbb_formatted_code);\n",
       "                        }\n",
       "                        break;\n",
       "                    }\n",
       "                }\n",
       "            }, 500);\n",
       "            "
      ],
      "text/plain": [
       "<IPython.core.display.Javascript object>"
      ]
     },
     "metadata": {},
     "output_type": "display_data"
    }
   ],
   "source": [
    "ax = logo_results_df.sort_values(\"top1\", ascending=False).top1.plot(\n",
    "    kind=\"bar\", figsize=[10, 4]\n",
    ")\n",
    "ax.set_title(\"Top-1 accuracy of logo-CV\")\n",
    "plt.show()"
   ]
  },
  {
   "cell_type": "code",
   "execution_count": 67,
   "id": "dbc7cdc2",
   "metadata": {},
   "outputs": [
    {
     "data": {
      "image/png": "[encoded data removed]",
      "text/plain": [
       "<Figure size 720x288 with 1 Axes>"
      ]
     },
     "metadata": {
      "needs_background": "light"
     },
     "output_type": "display_data"
    },
    {
     "data": {
      "application/javascript": [
       "\n",
       "            setTimeout(function() {\n",
       "                var nbb_cell_id = 67;\n",
       "                var nbb_unformatted_code = \"ax = logo_results_df.sort_values(\\\"top3\\\", ascending=False).top3.plot(\\n    kind=\\\"bar\\\", figsize=[10, 4]\\n)\\nax.set_title(\\\"Top-3 accuracy of logo-CV\\\")\\nplt.show()\";\n",
       "                var nbb_formatted_code = \"ax = logo_results_df.sort_values(\\\"top3\\\", ascending=False).top3.plot(\\n    kind=\\\"bar\\\", figsize=[10, 4]\\n)\\nax.set_title(\\\"Top-3 accuracy of logo-CV\\\")\\nplt.show()\";\n",
       "                var nbb_cells = Jupyter.notebook.get_cells();\n",
       "                for (var i = 0; i < nbb_cells.length; ++i) {\n",
       "                    if (nbb_cells[i].input_prompt_number == nbb_cell_id) {\n",
       "                        if (nbb_cells[i].get_text() == nbb_unformatted_code) {\n",
       "                             nbb_cells[i].set_text(nbb_formatted_code);\n",
       "                        }\n",
       "                        break;\n",
       "                    }\n",
       "                }\n",
       "            }, 500);\n",
       "            "
      ],
      "text/plain": [
       "<IPython.core.display.Javascript object>"
      ]
     },
     "metadata": {},
     "output_type": "display_data"
    }
   ],
   "source": [
    "ax = logo_results_df.sort_values(\"top3\", ascending=False).top3.plot(\n",
    "    kind=\"bar\", figsize=[10, 4]\n",
    ")\n",
    "ax.set_title(\"Top-3 accuracy of logo-CV\")\n",
    "plt.show()"
   ]
  },
  {
   "cell_type": "code",
   "execution_count": 52,
   "id": "f6ec9022",
   "metadata": {},
   "outputs": [
    {
     "data": {
      "image/png": "[encoded data removed]",
      "text/plain": [
       "<Figure size 720x288 with 1 Axes>"
      ]
     },
     "metadata": {
      "needs_background": "light"
     },
     "output_type": "display_data"
    },
    {
     "data": {
      "application/javascript": [
       "\n",
       "            setTimeout(function() {\n",
       "                var nbb_cell_id = 52;\n",
       "                var nbb_unformatted_code = \"ax = logo_results_df.sort_values(\\\"top5\\\", ascending=False).top5.plot(\\n    kind=\\\"bar\\\", figsize=[10, 4]\\n)\\nax.set_title(\\\"Top-5 accuracy of logo-CV\\\")\\nplt.show()\";\n",
       "                var nbb_formatted_code = \"ax = logo_results_df.sort_values(\\\"top5\\\", ascending=False).top5.plot(\\n    kind=\\\"bar\\\", figsize=[10, 4]\\n)\\nax.set_title(\\\"Top-5 accuracy of logo-CV\\\")\\nplt.show()\";\n",
       "                var nbb_cells = Jupyter.notebook.get_cells();\n",
       "                for (var i = 0; i < nbb_cells.length; ++i) {\n",
       "                    if (nbb_cells[i].input_prompt_number == nbb_cell_id) {\n",
       "                        if (nbb_cells[i].get_text() == nbb_unformatted_code) {\n",
       "                             nbb_cells[i].set_text(nbb_formatted_code);\n",
       "                        }\n",
       "                        break;\n",
       "                    }\n",
       "                }\n",
       "            }, 500);\n",
       "            "
      ],
      "text/plain": [
       "<IPython.core.display.Javascript object>"
      ]
     },
     "metadata": {},
     "output_type": "display_data"
    }
   ],
   "source": [
    "ax = logo_results_df.sort_values(\"top5\", ascending=False).top5.plot(\n",
    "    kind=\"bar\", figsize=[10, 4]\n",
    ")\n",
    "ax.set_title(\"Top-5 accuracy of logo-CV\")\n",
    "plt.show()"
   ]
  },
  {
   "cell_type": "code",
   "execution_count": 53,
   "id": "67033e4c",
   "metadata": {},
   "outputs": [
    {
     "data": {
      "image/png": "[encoded data removed]",
      "text/plain": [
       "<Figure size 720x288 with 1 Axes>"
      ]
     },
     "metadata": {
      "needs_background": "light"
     },
     "output_type": "display_data"
    },
    {
     "data": {
      "application/javascript": [
       "\n",
       "            setTimeout(function() {\n",
       "                var nbb_cell_id = 53;\n",
       "                var nbb_unformatted_code = \"ax = logo_results_df.sort_values(\\\"top10\\\", ascending=False).top10.plot(\\n    kind=\\\"bar\\\", figsize=[10, 4]\\n)\\nax.set_title(\\\"Top-10 accuracy of logo-CV\\\")\\nplt.show()\";\n",
       "                var nbb_formatted_code = \"ax = logo_results_df.sort_values(\\\"top10\\\", ascending=False).top10.plot(\\n    kind=\\\"bar\\\", figsize=[10, 4]\\n)\\nax.set_title(\\\"Top-10 accuracy of logo-CV\\\")\\nplt.show()\";\n",
       "                var nbb_cells = Jupyter.notebook.get_cells();\n",
       "                for (var i = 0; i < nbb_cells.length; ++i) {\n",
       "                    if (nbb_cells[i].input_prompt_number == nbb_cell_id) {\n",
       "                        if (nbb_cells[i].get_text() == nbb_unformatted_code) {\n",
       "                             nbb_cells[i].set_text(nbb_formatted_code);\n",
       "                        }\n",
       "                        break;\n",
       "                    }\n",
       "                }\n",
       "            }, 500);\n",
       "            "
      ],
      "text/plain": [
       "<IPython.core.display.Javascript object>"
      ]
     },
     "metadata": {},
     "output_type": "display_data"
    }
   ],
   "source": [
    "ax = logo_results_df.sort_values(\"top10\", ascending=False).top10.plot(\n",
    "    kind=\"bar\", figsize=[10, 4]\n",
    ")\n",
    "ax.set_title(\"Top-10 accuracy of logo-CV\")\n",
    "plt.show()"
   ]
  },
  {
   "cell_type": "code",
   "execution_count": 54,
   "id": "1cdd3b64",
   "metadata": {},
   "outputs": [
    {
     "data": {
      "image/png": "[encoded data removed]",
      "text/plain": [
       "<Figure size 720x288 with 1 Axes>"
      ]
     },
     "metadata": {
      "needs_background": "light"
     },
     "output_type": "display_data"
    },
    {
     "data": {
      "application/javascript": [
       "\n",
       "            setTimeout(function() {\n",
       "                var nbb_cell_id = 54;\n",
       "                var nbb_unformatted_code = \"ax = logo_results_df.sort_values(\\\"top20\\\", ascending=False).top20.plot(\\n    kind=\\\"bar\\\", figsize=[10, 4]\\n)\\nax.set_title(\\\"Top-20 accuracy of logo-CV\\\")\\nplt.show()\";\n",
       "                var nbb_formatted_code = \"ax = logo_results_df.sort_values(\\\"top20\\\", ascending=False).top20.plot(\\n    kind=\\\"bar\\\", figsize=[10, 4]\\n)\\nax.set_title(\\\"Top-20 accuracy of logo-CV\\\")\\nplt.show()\";\n",
       "                var nbb_cells = Jupyter.notebook.get_cells();\n",
       "                for (var i = 0; i < nbb_cells.length; ++i) {\n",
       "                    if (nbb_cells[i].input_prompt_number == nbb_cell_id) {\n",
       "                        if (nbb_cells[i].get_text() == nbb_unformatted_code) {\n",
       "                             nbb_cells[i].set_text(nbb_formatted_code);\n",
       "                        }\n",
       "                        break;\n",
       "                    }\n",
       "                }\n",
       "            }, 500);\n",
       "            "
      ],
      "text/plain": [
       "<IPython.core.display.Javascript object>"
      ]
     },
     "metadata": {},
     "output_type": "display_data"
    }
   ],
   "source": [
    "ax = logo_results_df.sort_values(\"top20\", ascending=False).top20.plot(\n",
    "    kind=\"bar\", figsize=[10, 4]\n",
    ")\n",
    "ax.set_title(\"Top-20 accuracy of logo-CV\")\n",
    "plt.show()"
   ]
  },
  {
   "cell_type": "code",
   "execution_count": 55,
   "id": "83b1b2a1",
   "metadata": {},
   "outputs": [
    {
     "data": {
      "image/png": "[encoded data removed]",
      "text/plain": [
       "<Figure size 720x288 with 1 Axes>"
      ]
     },
     "metadata": {
      "needs_background": "light"
     },
     "output_type": "display_data"
    },
    {
     "data": {
      "application/javascript": [
       "\n",
       "            setTimeout(function() {\n",
       "                var nbb_cell_id = 55;\n",
       "                var nbb_unformatted_code = \"ax = logo_results_df.sort_values(\\\"top50\\\", ascending=False).top50.plot(\\n    kind=\\\"bar\\\", figsize=[10, 4]\\n)\\nax.set_title(\\\"Top-50 accuracy of logo-CV\\\")\\nplt.show()\";\n",
       "                var nbb_formatted_code = \"ax = logo_results_df.sort_values(\\\"top50\\\", ascending=False).top50.plot(\\n    kind=\\\"bar\\\", figsize=[10, 4]\\n)\\nax.set_title(\\\"Top-50 accuracy of logo-CV\\\")\\nplt.show()\";\n",
       "                var nbb_cells = Jupyter.notebook.get_cells();\n",
       "                for (var i = 0; i < nbb_cells.length; ++i) {\n",
       "                    if (nbb_cells[i].input_prompt_number == nbb_cell_id) {\n",
       "                        if (nbb_cells[i].get_text() == nbb_unformatted_code) {\n",
       "                             nbb_cells[i].set_text(nbb_formatted_code);\n",
       "                        }\n",
       "                        break;\n",
       "                    }\n",
       "                }\n",
       "            }, 500);\n",
       "            "
      ],
      "text/plain": [
       "<IPython.core.display.Javascript object>"
      ]
     },
     "metadata": {},
     "output_type": "display_data"
    }
   ],
   "source": [
    "ax = logo_results_df.sort_values(\"top50\", ascending=False).top50.plot(\n",
    "    kind=\"bar\", figsize=[10, 4]\n",
    ")\n",
    "ax.set_title(\"Top-50 accuracy of logo-CV\")\n",
    "plt.show()"
   ]
  },
  {
   "cell_type": "code",
   "execution_count": null,
   "id": "827d2e49",
   "metadata": {},
   "outputs": [],
   "source": []
  }
 ],
 "metadata": {
  "kernelspec": {
   "display_name": "Python 3",
   "language": "python",
   "name": "python3"
  },
  "language_info": {
   "codemirror_mode": {
    "name": "ipython",
    "version": 3
   },
   "file_extension": ".py",
   "mimetype": "text/x-python",
   "name": "python",
   "nbconvert_exporter": "python",
   "pygments_lexer": "ipython3",
   "version": "3.8.10"
  }
 },
 "nbformat": 4,
 "nbformat_minor": 5
}
