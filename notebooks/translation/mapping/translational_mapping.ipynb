{
 "cells": [
  {
   "cell_type": "markdown",
   "id": "f9571b7c",
   "metadata": {},
   "source": [
    "# Translational mapping\n",
    "\n",
    "In this notebook we explicitely model the link between the regulatory and structural embeddings of the U2OS cells and evaluate their generalizability.\n",
    "\n",
    "---\n",
    "\n",
    "\n",
    "## 0. Enviromental setup\n",
    "\n",
    "We first load the required packages and define a number of helper functions."
   ]
  },
  {
   "cell_type": "code",
   "execution_count": 31,
   "id": "daeed7c7",
   "metadata": {},
   "outputs": [
    {
     "name": "stdout",
     "output_type": "stream",
     "text": [
      "The nb_black extension is already loaded. To reload it, use:\n",
      "  %reload_ext nb_black\n"
     ]
    },
    {
     "data": {
      "application/javascript": [
       "\n",
       "            setTimeout(function() {\n",
       "                var nbb_cell_id = 31;\n",
       "                var nbb_unformatted_code = \"import pandas as pd\\nimport numpy as np\\nimport matplotlib.pyplot as plt\\nimport seaborn as sns\\nfrom sklearn.preprocessing import StandardScaler\\nfrom sklearn.model_selection import train_test_split, GroupShuffleSplit, LeaveOneGroupOut\\nfrom torch.utils.data import DataLoader, TensorDataset\\nimport torch\\nfrom torch import nn\\nfrom torch.optim import Adam\\nfrom tqdm import tqdm\\nimport copy\\nfrom sklearn.neighbors import NearestNeighbors\\nfrom collections import Counter\\n\\n\\nseed = 1234\\n\\ndevice = \\\"cpu\\\"\\n\\n%load_ext nb_black\";\n",
       "                var nbb_formatted_code = \"import pandas as pd\\nimport numpy as np\\nimport matplotlib.pyplot as plt\\nimport seaborn as sns\\nfrom sklearn.preprocessing import StandardScaler\\nfrom sklearn.model_selection import (\\n    train_test_split,\\n    GroupShuffleSplit,\\n    LeaveOneGroupOut,\\n)\\nfrom torch.utils.data import DataLoader, TensorDataset\\nimport torch\\nfrom torch import nn\\nfrom torch.optim import Adam\\nfrom tqdm import tqdm\\nimport copy\\nfrom sklearn.neighbors import NearestNeighbors\\nfrom collections import Counter\\n\\n\\nseed = 1234\\n\\ndevice = \\\"cpu\\\"\\n\\n%load_ext nb_black\";\n",
       "                var nbb_cells = Jupyter.notebook.get_cells();\n",
       "                for (var i = 0; i < nbb_cells.length; ++i) {\n",
       "                    if (nbb_cells[i].input_prompt_number == nbb_cell_id) {\n",
       "                        if (nbb_cells[i].get_text() == nbb_unformatted_code) {\n",
       "                             nbb_cells[i].set_text(nbb_formatted_code);\n",
       "                        }\n",
       "                        break;\n",
       "                    }\n",
       "                }\n",
       "            }, 500);\n",
       "            "
      ],
      "text/plain": [
       "<IPython.core.display.Javascript object>"
      ]
     },
     "metadata": {},
     "output_type": "display_data"
    }
   ],
   "source": [
    "import pandas as pd\n",
    "import numpy as np\n",
    "import matplotlib.pyplot as plt\n",
    "import seaborn as sns\n",
    "from sklearn.preprocessing import StandardScaler\n",
    "from sklearn.model_selection import (\n",
    "    train_test_split,\n",
    "    GroupShuffleSplit,\n",
    "    LeaveOneGroupOut,\n",
    ")\n",
    "from torch.utils.data import DataLoader, TensorDataset\n",
    "import torch\n",
    "from torch import nn\n",
    "from torch.optim import Adam\n",
    "from tqdm import tqdm\n",
    "import copy\n",
    "from sklearn.neighbors import NearestNeighbors\n",
    "from collections import Counter\n",
    "\n",
    "\n",
    "seed = 1234\n",
    "\n",
    "device = \"cpu\"\n",
    "\n",
    "%load_ext nb_black"
   ]
  },
  {
   "cell_type": "code",
   "execution_count": 53,
   "id": "26881277",
   "metadata": {},
   "outputs": [
    {
     "data": {
      "application/javascript": [
       "\n",
       "            setTimeout(function() {\n",
       "                var nbb_cell_id = 53;\n",
       "                var nbb_unformatted_code = \"def train_model(\\n    model,\\n    optimizer,\\n    criterion,\\n    data_dict,\\n    n_epochs=1000,\\n    early_stopping=50,\\n    device=\\\"cpu\\\",\\n):\\n\\n    best_val_loss = np.infty\\n    best_epoch = 0\\n    best_model_weights = None\\n    es_counter = 0\\n\\n    for i in range(n_epochs):\\n        if es_counter > early_stopping:\\n            break\\n        for mode in [\\\"train\\\", \\\"val\\\"]:\\n            loss = process_single_epoch(\\n                model=model,\\n                optimizer=optimizer,\\n                criterion=criterion,\\n                data=data_dict[mode],\\n                mode=mode,\\n            )\\n            #print(\\\"{} loss: {}\\\".format(mode.upper(), loss))\\n\\n            if mode == \\\"val\\\":\\n                if loss < best_val_loss:\\n                    best_val_loss = loss\\n                    best_epoch = i\\n                    best_model_weights = copy.deepcopy(model.state_dict())\\n                else:\\n                    es_counter += 1\\n\\n    model.load_state_dict(best_model_weights)\\n\\n    for mode in [\\\"train\\\", \\\"val\\\", \\\"test\\\"]:\\n        loss = process_single_epoch(\\n            model, optimizer, criterion, data_dict[mode], \\\"test\\\"\\n        )\\n        print(\\\"{} loss: {}\\\".format(mode.upper(), loss))\\n\\n    return model\\n\\n\\ndef process_single_epoch(model, optimizer, criterion, data, mode, device=\\\"cpu\\\"):\\n    total_loss = 0\\n    model.to(device)\\n    if mode == \\\"train\\\":\\n        model.train()\\n        optimizer.zero_grad()\\n    else:\\n        model.eval()\\n\\n    for inputs, labels, _ in data:\\n        inputs = inputs.type(torch.FloatTensor).to(device)\\n        labels = labels.type(torch.FloatTensor).to(device)\\n\\n        # zero the parameter gradients\\n        optimizer.zero_grad()\\n\\n        # forward\\n        with torch.set_grad_enabled(mode == \\\"train\\\"):\\n            # Get model outputs and calculate loss\\n            outputs = model(inputs)\\n            loss = criterion(outputs, labels)\\n            total_loss += loss.item() * outputs.size(0)\\n\\n            # backward + optimize only if in training phase\\n        if mode == \\\"train\\\":\\n            loss.backward()\\n            optimizer.step()\\n\\n    total_loss /= len(data.dataset)\\n    return total_loss\";\n",
       "                var nbb_formatted_code = \"def train_model(\\n    model,\\n    optimizer,\\n    criterion,\\n    data_dict,\\n    n_epochs=1000,\\n    early_stopping=50,\\n    device=\\\"cpu\\\",\\n):\\n\\n    best_val_loss = np.infty\\n    best_epoch = 0\\n    best_model_weights = None\\n    es_counter = 0\\n\\n    for i in range(n_epochs):\\n        if es_counter > early_stopping:\\n            break\\n        for mode in [\\\"train\\\", \\\"val\\\"]:\\n            loss = process_single_epoch(\\n                model=model,\\n                optimizer=optimizer,\\n                criterion=criterion,\\n                data=data_dict[mode],\\n                mode=mode,\\n            )\\n            # print(\\\"{} loss: {}\\\".format(mode.upper(), loss))\\n\\n            if mode == \\\"val\\\":\\n                if loss < best_val_loss:\\n                    best_val_loss = loss\\n                    best_epoch = i\\n                    best_model_weights = copy.deepcopy(model.state_dict())\\n                else:\\n                    es_counter += 1\\n\\n    model.load_state_dict(best_model_weights)\\n\\n    for mode in [\\\"train\\\", \\\"val\\\", \\\"test\\\"]:\\n        loss = process_single_epoch(\\n            model, optimizer, criterion, data_dict[mode], \\\"test\\\"\\n        )\\n        print(\\\"{} loss: {}\\\".format(mode.upper(), loss))\\n\\n    return model\\n\\n\\ndef process_single_epoch(model, optimizer, criterion, data, mode, device=\\\"cpu\\\"):\\n    total_loss = 0\\n    model.to(device)\\n    if mode == \\\"train\\\":\\n        model.train()\\n        optimizer.zero_grad()\\n    else:\\n        model.eval()\\n\\n    for inputs, labels, _ in data:\\n        inputs = inputs.type(torch.FloatTensor).to(device)\\n        labels = labels.type(torch.FloatTensor).to(device)\\n\\n        # zero the parameter gradients\\n        optimizer.zero_grad()\\n\\n        # forward\\n        with torch.set_grad_enabled(mode == \\\"train\\\"):\\n            # Get model outputs and calculate loss\\n            outputs = model(inputs)\\n            loss = criterion(outputs, labels)\\n            total_loss += loss.item() * outputs.size(0)\\n\\n            # backward + optimize only if in training phase\\n        if mode == \\\"train\\\":\\n            loss.backward()\\n            optimizer.step()\\n\\n    total_loss /= len(data.dataset)\\n    return total_loss\";\n",
       "                var nbb_cells = Jupyter.notebook.get_cells();\n",
       "                for (var i = 0; i < nbb_cells.length; ++i) {\n",
       "                    if (nbb_cells[i].input_prompt_number == nbb_cell_id) {\n",
       "                        if (nbb_cells[i].get_text() == nbb_unformatted_code) {\n",
       "                             nbb_cells[i].set_text(nbb_formatted_code);\n",
       "                        }\n",
       "                        break;\n",
       "                    }\n",
       "                }\n",
       "            }, 500);\n",
       "            "
      ],
      "text/plain": [
       "<IPython.core.display.Javascript object>"
      ]
     },
     "metadata": {},
     "output_type": "display_data"
    }
   ],
   "source": [
    "def train_model(\n",
    "    model,\n",
    "    optimizer,\n",
    "    criterion,\n",
    "    data_dict,\n",
    "    n_epochs=1000,\n",
    "    early_stopping=50,\n",
    "    device=\"cpu\",\n",
    "):\n",
    "\n",
    "    best_val_loss = np.infty\n",
    "    best_epoch = 0\n",
    "    best_model_weights = None\n",
    "    es_counter = 0\n",
    "\n",
    "    for i in range(n_epochs):\n",
    "        if es_counter > early_stopping:\n",
    "            break\n",
    "        for mode in [\"train\", \"val\"]:\n",
    "            loss = process_single_epoch(\n",
    "                model=model,\n",
    "                optimizer=optimizer,\n",
    "                criterion=criterion,\n",
    "                data=data_dict[mode],\n",
    "                mode=mode,\n",
    "            )\n",
    "            # print(\"{} loss: {}\".format(mode.upper(), loss))\n",
    "\n",
    "            if mode == \"val\":\n",
    "                if loss < best_val_loss:\n",
    "                    best_val_loss = loss\n",
    "                    best_epoch = i\n",
    "                    best_model_weights = copy.deepcopy(model.state_dict())\n",
    "                else:\n",
    "                    es_counter += 1\n",
    "\n",
    "    model.load_state_dict(best_model_weights)\n",
    "\n",
    "    for mode in [\"train\", \"val\", \"test\"]:\n",
    "        loss = process_single_epoch(\n",
    "            model, optimizer, criterion, data_dict[mode], \"test\"\n",
    "        )\n",
    "        print(\"{} loss: {}\".format(mode.upper(), loss))\n",
    "\n",
    "    return model\n",
    "\n",
    "\n",
    "def process_single_epoch(model, optimizer, criterion, data, mode, device=\"cpu\"):\n",
    "    total_loss = 0\n",
    "    model.to(device)\n",
    "    if mode == \"train\":\n",
    "        model.train()\n",
    "        optimizer.zero_grad()\n",
    "    else:\n",
    "        model.eval()\n",
    "\n",
    "    for inputs, labels, _ in data:\n",
    "        inputs = inputs.type(torch.FloatTensor).to(device)\n",
    "        labels = labels.type(torch.FloatTensor).to(device)\n",
    "\n",
    "        # zero the parameter gradients\n",
    "        optimizer.zero_grad()\n",
    "\n",
    "        # forward\n",
    "        with torch.set_grad_enabled(mode == \"train\"):\n",
    "            # Get model outputs and calculate loss\n",
    "            outputs = model(inputs)\n",
    "            loss = criterion(outputs, labels)\n",
    "            total_loss += loss.item() * outputs.size(0)\n",
    "\n",
    "            # backward + optimize only if in training phase\n",
    "        if mode == \"train\":\n",
    "            loss.backward()\n",
    "            optimizer.step()\n",
    "\n",
    "    total_loss /= len(data.dataset)\n",
    "    return total_loss"
   ]
  },
  {
   "cell_type": "code",
   "execution_count": 3,
   "id": "ac07fced",
   "metadata": {},
   "outputs": [
    {
     "data": {
      "application/javascript": [
       "\n",
       "            setTimeout(function() {\n",
       "                var nbb_cell_id = 3;\n",
       "                var nbb_unformatted_code = \"class IndexedTensorDataset(torch.utils.data.Dataset):\\n    def __init__(self, data, labels, groups):\\n        super().__init__()\\n        self.data = data\\n        self.labels = labels\\n        self.groups = groups\\n\\n    def __getitem__(self, idx):\\n        return self.data[idx], self.labels[idx], self.groups[idx]\\n\\n    def __len__(self):\\n        return len(self.groups)\";\n",
       "                var nbb_formatted_code = \"class IndexedTensorDataset(torch.utils.data.Dataset):\\n    def __init__(self, data, labels, groups):\\n        super().__init__()\\n        self.data = data\\n        self.labels = labels\\n        self.groups = groups\\n\\n    def __getitem__(self, idx):\\n        return self.data[idx], self.labels[idx], self.groups[idx]\\n\\n    def __len__(self):\\n        return len(self.groups)\";\n",
       "                var nbb_cells = Jupyter.notebook.get_cells();\n",
       "                for (var i = 0; i < nbb_cells.length; ++i) {\n",
       "                    if (nbb_cells[i].input_prompt_number == nbb_cell_id) {\n",
       "                        if (nbb_cells[i].get_text() == nbb_unformatted_code) {\n",
       "                             nbb_cells[i].set_text(nbb_formatted_code);\n",
       "                        }\n",
       "                        break;\n",
       "                    }\n",
       "                }\n",
       "            }, 500);\n",
       "            "
      ],
      "text/plain": [
       "<IPython.core.display.Javascript object>"
      ]
     },
     "metadata": {},
     "output_type": "display_data"
    }
   ],
   "source": [
    "class IndexedTensorDataset(torch.utils.data.Dataset):\n",
    "    def __init__(self, data, labels, groups):\n",
    "        super().__init__()\n",
    "        self.data = data\n",
    "        self.labels = labels\n",
    "        self.groups = groups\n",
    "\n",
    "    def __getitem__(self, idx):\n",
    "        return self.data[idx], self.labels[idx], self.groups[idx]\n",
    "\n",
    "    def __len__(self):\n",
    "        return len(self.groups)"
   ]
  },
  {
   "cell_type": "code",
   "execution_count": 37,
   "id": "b150c930",
   "metadata": {},
   "outputs": [
    {
     "data": {
      "application/javascript": [
       "\n",
       "            setTimeout(function() {\n",
       "                var nbb_cell_id = 37;\n",
       "                var nbb_unformatted_code = \"def get_data_dict(\\n    data,\\n    labels,\\n    val_test_size=[0.2, 0.2],\\n    batch_size=32,\\n    group_labels=None,\\n    scale_x=True,\\n    scale_y=False,\\n    random_state=1234\\n):\\n\\n    idc = list(range(len(data)))\\n    if group_labels is None:\\n        train_val_idc, test_idc = train_test_split(\\n            idc, test_size=val_test_size[1], random_state=seed\\n        )\\n        train_idc, val_idc = train_test_split(\\n            train_val_idc, test_size=(val_test_size[0] / (1 - val_test_size[1]))\\n        )\\n    else:\\n        gss = GroupShuffleSplit(\\n            n_splits=2, test_size=val_test_size[1], random_state=random_state\\n        )\\n        train_val_idc, test_idc = next(gss.split(idc, groups=group_labels))\\n        gss = GroupShuffleSplit(\\n            n_splits=2,\\n            test_size=(val_test_size[0] / (1 - val_test_size[1])),\\n            random_state=seed,\\n        )\\n        train_idc, val_idc = next(\\n            gss.split(train_val_idc, groups=group_labels[train_val_idc])\\n        )\\n\\n    train_data, train_labels = data.iloc[train_idc], labels.iloc[train_idc]\\n    val_data, val_labels = data.iloc[val_idc], labels.iloc[val_idc]\\n    test_data, test_labels = data.iloc[test_idc], labels.iloc[test_idc]\\n\\n    if scale_x:\\n        sc = StandardScaler().fit(train_data)\\n        train_data = sc.transform(train_data)\\n        val_data = sc.transform(val_data)\\n        test_data = sc.transform(test_data)\\n\\n    if scale_y:\\n        sc = StandardScaler().fit(train_labels)\\n        train_labels = sc.transform(train_labels)\\n        val_labels = sc.transform(val_labels)\\n        test_labels = sc.transform(test_labels)\\n\\n    train_dataset = IndexedTensorDataset(\\n        torch.FloatTensor(np.array(train_data)),\\n        torch.FloatTensor(np.array(train_labels)),\\n        list(labels.iloc[train_idc].index),\\n    )\\n    train_loader = DataLoader(train_dataset, batch_size=batch_size, shuffle=True)\\n\\n    val_dataset = IndexedTensorDataset(\\n        torch.FloatTensor(np.array(val_data)),\\n        torch.FloatTensor(np.array(val_labels)),\\n        list(labels.iloc[val_idc].index),\\n    )\\n    val_loader = DataLoader(val_dataset, batch_size=batch_size, shuffle=False)\\n\\n    test_dataset = IndexedTensorDataset(\\n        torch.FloatTensor(np.array(test_data)),\\n        torch.FloatTensor(np.array(test_labels)),\\n        list(labels.iloc[test_idc].index),\\n    )\\n    test_loader = DataLoader(test_dataset, batch_size=batch_size, shuffle=False)\\n\\n    return {\\\"train\\\": train_loader, \\\"val\\\": val_loader, \\\"test\\\": test_loader}\";\n",
       "                var nbb_formatted_code = \"def get_data_dict(\\n    data,\\n    labels,\\n    val_test_size=[0.2, 0.2],\\n    batch_size=32,\\n    group_labels=None,\\n    scale_x=True,\\n    scale_y=False,\\n    random_state=1234,\\n):\\n\\n    idc = list(range(len(data)))\\n    if group_labels is None:\\n        train_val_idc, test_idc = train_test_split(\\n            idc, test_size=val_test_size[1], random_state=seed\\n        )\\n        train_idc, val_idc = train_test_split(\\n            train_val_idc, test_size=(val_test_size[0] / (1 - val_test_size[1]))\\n        )\\n    else:\\n        gss = GroupShuffleSplit(\\n            n_splits=2, test_size=val_test_size[1], random_state=random_state\\n        )\\n        train_val_idc, test_idc = next(gss.split(idc, groups=group_labels))\\n        gss = GroupShuffleSplit(\\n            n_splits=2,\\n            test_size=(val_test_size[0] / (1 - val_test_size[1])),\\n            random_state=seed,\\n        )\\n        train_idc, val_idc = next(\\n            gss.split(train_val_idc, groups=group_labels[train_val_idc])\\n        )\\n\\n    train_data, train_labels = data.iloc[train_idc], labels.iloc[train_idc]\\n    val_data, val_labels = data.iloc[val_idc], labels.iloc[val_idc]\\n    test_data, test_labels = data.iloc[test_idc], labels.iloc[test_idc]\\n\\n    if scale_x:\\n        sc = StandardScaler().fit(train_data)\\n        train_data = sc.transform(train_data)\\n        val_data = sc.transform(val_data)\\n        test_data = sc.transform(test_data)\\n\\n    if scale_y:\\n        sc = StandardScaler().fit(train_labels)\\n        train_labels = sc.transform(train_labels)\\n        val_labels = sc.transform(val_labels)\\n        test_labels = sc.transform(test_labels)\\n\\n    train_dataset = IndexedTensorDataset(\\n        torch.FloatTensor(np.array(train_data)),\\n        torch.FloatTensor(np.array(train_labels)),\\n        list(labels.iloc[train_idc].index),\\n    )\\n    train_loader = DataLoader(train_dataset, batch_size=batch_size, shuffle=True)\\n\\n    val_dataset = IndexedTensorDataset(\\n        torch.FloatTensor(np.array(val_data)),\\n        torch.FloatTensor(np.array(val_labels)),\\n        list(labels.iloc[val_idc].index),\\n    )\\n    val_loader = DataLoader(val_dataset, batch_size=batch_size, shuffle=False)\\n\\n    test_dataset = IndexedTensorDataset(\\n        torch.FloatTensor(np.array(test_data)),\\n        torch.FloatTensor(np.array(test_labels)),\\n        list(labels.iloc[test_idc].index),\\n    )\\n    test_loader = DataLoader(test_dataset, batch_size=batch_size, shuffle=False)\\n\\n    return {\\\"train\\\": train_loader, \\\"val\\\": val_loader, \\\"test\\\": test_loader}\";\n",
       "                var nbb_cells = Jupyter.notebook.get_cells();\n",
       "                for (var i = 0; i < nbb_cells.length; ++i) {\n",
       "                    if (nbb_cells[i].input_prompt_number == nbb_cell_id) {\n",
       "                        if (nbb_cells[i].get_text() == nbb_unformatted_code) {\n",
       "                             nbb_cells[i].set_text(nbb_formatted_code);\n",
       "                        }\n",
       "                        break;\n",
       "                    }\n",
       "                }\n",
       "            }, 500);\n",
       "            "
      ],
      "text/plain": [
       "<IPython.core.display.Javascript object>"
      ]
     },
     "metadata": {},
     "output_type": "display_data"
    }
   ],
   "source": [
    "def get_data_dict(\n",
    "    data,\n",
    "    labels,\n",
    "    val_test_size=[0.2, 0.2],\n",
    "    batch_size=32,\n",
    "    group_labels=None,\n",
    "    scale_x=True,\n",
    "    scale_y=False,\n",
    "    random_state=1234,\n",
    "):\n",
    "\n",
    "    idc = list(range(len(data)))\n",
    "    if group_labels is None:\n",
    "        train_val_idc, test_idc = train_test_split(\n",
    "            idc, test_size=val_test_size[1], random_state=seed\n",
    "        )\n",
    "        train_idc, val_idc = train_test_split(\n",
    "            train_val_idc, test_size=(val_test_size[0] / (1 - val_test_size[1]))\n",
    "        )\n",
    "    else:\n",
    "        gss = GroupShuffleSplit(\n",
    "            n_splits=2, test_size=val_test_size[1], random_state=random_state\n",
    "        )\n",
    "        train_val_idc, test_idc = next(gss.split(idc, groups=group_labels))\n",
    "        gss = GroupShuffleSplit(\n",
    "            n_splits=2,\n",
    "            test_size=(val_test_size[0] / (1 - val_test_size[1])),\n",
    "            random_state=seed,\n",
    "        )\n",
    "        train_idc, val_idc = next(\n",
    "            gss.split(train_val_idc, groups=group_labels[train_val_idc])\n",
    "        )\n",
    "\n",
    "    train_data, train_labels = data.iloc[train_idc], labels.iloc[train_idc]\n",
    "    val_data, val_labels = data.iloc[val_idc], labels.iloc[val_idc]\n",
    "    test_data, test_labels = data.iloc[test_idc], labels.iloc[test_idc]\n",
    "\n",
    "    if scale_x:\n",
    "        sc = StandardScaler().fit(train_data)\n",
    "        train_data = sc.transform(train_data)\n",
    "        val_data = sc.transform(val_data)\n",
    "        test_data = sc.transform(test_data)\n",
    "\n",
    "    if scale_y:\n",
    "        sc = StandardScaler().fit(train_labels)\n",
    "        train_labels = sc.transform(train_labels)\n",
    "        val_labels = sc.transform(val_labels)\n",
    "        test_labels = sc.transform(test_labels)\n",
    "\n",
    "    train_dataset = IndexedTensorDataset(\n",
    "        torch.FloatTensor(np.array(train_data)),\n",
    "        torch.FloatTensor(np.array(train_labels)),\n",
    "        list(labels.iloc[train_idc].index),\n",
    "    )\n",
    "    train_loader = DataLoader(train_dataset, batch_size=batch_size, shuffle=True)\n",
    "\n",
    "    val_dataset = IndexedTensorDataset(\n",
    "        torch.FloatTensor(np.array(val_data)),\n",
    "        torch.FloatTensor(np.array(val_labels)),\n",
    "        list(labels.iloc[val_idc].index),\n",
    "    )\n",
    "    val_loader = DataLoader(val_dataset, batch_size=batch_size, shuffle=False)\n",
    "\n",
    "    test_dataset = IndexedTensorDataset(\n",
    "        torch.FloatTensor(np.array(test_data)),\n",
    "        torch.FloatTensor(np.array(test_labels)),\n",
    "        list(labels.iloc[test_idc].index),\n",
    "    )\n",
    "    test_loader = DataLoader(test_dataset, batch_size=batch_size, shuffle=False)\n",
    "\n",
    "    return {\"train\": train_loader, \"val\": val_loader, \"test\": test_loader}"
   ]
  },
  {
   "cell_type": "code",
   "execution_count": 5,
   "id": "e5d40881",
   "metadata": {},
   "outputs": [
    {
     "data": {
      "application/javascript": [
       "\n",
       "            setTimeout(function() {\n",
       "                var nbb_cell_id = 5;\n",
       "                var nbb_unformatted_code = \"def evaluate_top_k_accuracy(preds, labels, node_embs, k=5):\\n    k_correct = 0\\n    k_baseline_correct = 0\\n    neigh = NearestNeighbors(n_neighbors=k, p=2)\\n    targets = np.array(node_embs.index)\\n    counts = Counter(labels)\\n    most_common = sorted(counts, key=counts.get, reverse=True)\\n    fitted_neigh = neigh.fit(np.array(node_embs))\\n\\n    neighbor_preds = fitted_neigh.kneighbors(preds, k, return_distance=False)\\n    for i in range(len(neighbor_preds)):\\n        if labels[i] in targets[neighbor_preds[i]]:\\n            k_correct += 1\\n        if labels[i] in most_common[:k]:\\n            k_baseline_correct += 1\\n    return k_correct / len(labels), k_baseline_correct / len(labels)\";\n",
       "                var nbb_formatted_code = \"def evaluate_top_k_accuracy(preds, labels, node_embs, k=5):\\n    k_correct = 0\\n    k_baseline_correct = 0\\n    neigh = NearestNeighbors(n_neighbors=k, p=2)\\n    targets = np.array(node_embs.index)\\n    counts = Counter(labels)\\n    most_common = sorted(counts, key=counts.get, reverse=True)\\n    fitted_neigh = neigh.fit(np.array(node_embs))\\n\\n    neighbor_preds = fitted_neigh.kneighbors(preds, k, return_distance=False)\\n    for i in range(len(neighbor_preds)):\\n        if labels[i] in targets[neighbor_preds[i]]:\\n            k_correct += 1\\n        if labels[i] in most_common[:k]:\\n            k_baseline_correct += 1\\n    return k_correct / len(labels), k_baseline_correct / len(labels)\";\n",
       "                var nbb_cells = Jupyter.notebook.get_cells();\n",
       "                for (var i = 0; i < nbb_cells.length; ++i) {\n",
       "                    if (nbb_cells[i].input_prompt_number == nbb_cell_id) {\n",
       "                        if (nbb_cells[i].get_text() == nbb_unformatted_code) {\n",
       "                             nbb_cells[i].set_text(nbb_formatted_code);\n",
       "                        }\n",
       "                        break;\n",
       "                    }\n",
       "                }\n",
       "            }, 500);\n",
       "            "
      ],
      "text/plain": [
       "<IPython.core.display.Javascript object>"
      ]
     },
     "metadata": {},
     "output_type": "display_data"
    }
   ],
   "source": [
    "def evaluate_top_k_accuracy(preds, labels, node_embs, k=5):\n",
    "    k_correct = 0\n",
    "    k_baseline_correct = 0\n",
    "    neigh = NearestNeighbors(n_neighbors=k, p=2)\n",
    "    targets = np.array(node_embs.index)\n",
    "    counts = Counter(labels)\n",
    "    most_common = sorted(counts, key=counts.get, reverse=True)\n",
    "    fitted_neigh = neigh.fit(np.array(node_embs))\n",
    "\n",
    "    neighbor_preds = fitted_neigh.kneighbors(preds, k, return_distance=False)\n",
    "    for i in range(len(neighbor_preds)):\n",
    "        if labels[i] in targets[neighbor_preds[i]]:\n",
    "            k_correct += 1\n",
    "        if labels[i] in most_common[:k]:\n",
    "            k_baseline_correct += 1\n",
    "    return k_correct / len(labels), k_baseline_correct / len(labels)"
   ]
  },
  {
   "cell_type": "code",
   "execution_count": 6,
   "id": "bf865155",
   "metadata": {},
   "outputs": [
    {
     "data": {
      "application/javascript": [
       "\n",
       "            setTimeout(function() {\n",
       "                var nbb_cell_id = 6;\n",
       "                var nbb_unformatted_code = \"def get_preds_label_dict(model, data):\\n    preds = []\\n    labels = []\\n\\n    model.eval()\\n\\n    for batch_inputs, _, batch_labels in data:\\n        batch_preds = model(batch_inputs)\\n        preds.extend(list(batch_preds.clone().detach().numpy()))\\n        labels.extend(list(batch_labels))\\n    return np.array(preds), np.array(labels)\";\n",
       "                var nbb_formatted_code = \"def get_preds_label_dict(model, data):\\n    preds = []\\n    labels = []\\n\\n    model.eval()\\n\\n    for batch_inputs, _, batch_labels in data:\\n        batch_preds = model(batch_inputs)\\n        preds.extend(list(batch_preds.clone().detach().numpy()))\\n        labels.extend(list(batch_labels))\\n    return np.array(preds), np.array(labels)\";\n",
       "                var nbb_cells = Jupyter.notebook.get_cells();\n",
       "                for (var i = 0; i < nbb_cells.length; ++i) {\n",
       "                    if (nbb_cells[i].input_prompt_number == nbb_cell_id) {\n",
       "                        if (nbb_cells[i].get_text() == nbb_unformatted_code) {\n",
       "                             nbb_cells[i].set_text(nbb_formatted_code);\n",
       "                        }\n",
       "                        break;\n",
       "                    }\n",
       "                }\n",
       "            }, 500);\n",
       "            "
      ],
      "text/plain": [
       "<IPython.core.display.Javascript object>"
      ]
     },
     "metadata": {},
     "output_type": "display_data"
    }
   ],
   "source": [
    "def get_preds_label_dict(model, data):\n",
    "    preds = []\n",
    "    labels = []\n",
    "\n",
    "    model.eval()\n",
    "\n",
    "    for batch_inputs, _, batch_labels in data:\n",
    "        batch_preds = model(batch_inputs)\n",
    "        preds.extend(list(batch_preds.clone().detach().numpy()))\n",
    "        labels.extend(list(batch_labels))\n",
    "    return np.array(preds), np.array(labels)"
   ]
  },
  {
   "cell_type": "markdown",
   "id": "16f29141",
   "metadata": {},
   "source": [
    "---\n",
    "\n",
    "## 1. Read in data\n",
    "\n",
    "Next, we read in the different data sets that we will use for the modelling and evaluation of the translational mappings. The first data set includes all structural embeddings from data held-out during training as well as the regulatory embeddings of the 244 genes that are part of the inferred interactome."
   ]
  },
  {
   "cell_type": "code",
   "execution_count": 7,
   "id": "89100678",
   "metadata": {},
   "outputs": [
    {
     "data": {
      "text/html": [
       "<div>\n",
       "<style scoped>\n",
       "    .dataframe tbody tr th:only-of-type {\n",
       "        vertical-align: middle;\n",
       "    }\n",
       "\n",
       "    .dataframe tbody tr th {\n",
       "        vertical-align: top;\n",
       "    }\n",
       "\n",
       "    .dataframe thead th {\n",
       "        text-align: right;\n",
       "    }\n",
       "</style>\n",
       "<table border=\"1\" class=\"dataframe\">\n",
       "  <thead>\n",
       "    <tr style=\"text-align: right;\">\n",
       "      <th></th>\n",
       "      <th>0</th>\n",
       "      <th>1</th>\n",
       "      <th>2</th>\n",
       "      <th>3</th>\n",
       "      <th>4</th>\n",
       "      <th>5</th>\n",
       "      <th>6</th>\n",
       "      <th>7</th>\n",
       "      <th>8</th>\n",
       "      <th>9</th>\n",
       "      <th>...</th>\n",
       "      <th>118</th>\n",
       "      <th>119</th>\n",
       "      <th>120</th>\n",
       "      <th>121</th>\n",
       "      <th>122</th>\n",
       "      <th>123</th>\n",
       "      <th>124</th>\n",
       "      <th>125</th>\n",
       "      <th>126</th>\n",
       "      <th>127</th>\n",
       "    </tr>\n",
       "  </thead>\n",
       "  <tbody>\n",
       "    <tr>\n",
       "      <th>CDCA2</th>\n",
       "      <td>-0.046519</td>\n",
       "      <td>-0.049060</td>\n",
       "      <td>-0.065633</td>\n",
       "      <td>0.102739</td>\n",
       "      <td>-0.037012</td>\n",
       "      <td>0.067560</td>\n",
       "      <td>0.070266</td>\n",
       "      <td>-0.008673</td>\n",
       "      <td>0.128273</td>\n",
       "      <td>0.004020</td>\n",
       "      <td>...</td>\n",
       "      <td>-0.071056</td>\n",
       "      <td>-0.156410</td>\n",
       "      <td>0.006000</td>\n",
       "      <td>0.093432</td>\n",
       "      <td>0.034559</td>\n",
       "      <td>0.010527</td>\n",
       "      <td>-0.045864</td>\n",
       "      <td>0.068302</td>\n",
       "      <td>0.115374</td>\n",
       "      <td>-0.101571</td>\n",
       "    </tr>\n",
       "    <tr>\n",
       "      <th>APPBP2</th>\n",
       "      <td>-0.093607</td>\n",
       "      <td>-0.018010</td>\n",
       "      <td>0.060400</td>\n",
       "      <td>-0.022461</td>\n",
       "      <td>0.071339</td>\n",
       "      <td>0.044652</td>\n",
       "      <td>-0.002030</td>\n",
       "      <td>0.008269</td>\n",
       "      <td>-0.100545</td>\n",
       "      <td>-0.035760</td>\n",
       "      <td>...</td>\n",
       "      <td>-0.100010</td>\n",
       "      <td>0.168263</td>\n",
       "      <td>-0.103005</td>\n",
       "      <td>-0.055163</td>\n",
       "      <td>0.053544</td>\n",
       "      <td>-0.075707</td>\n",
       "      <td>0.119875</td>\n",
       "      <td>0.000469</td>\n",
       "      <td>0.004186</td>\n",
       "      <td>0.123274</td>\n",
       "    </tr>\n",
       "    <tr>\n",
       "      <th>TK1</th>\n",
       "      <td>0.023958</td>\n",
       "      <td>0.160870</td>\n",
       "      <td>-0.038898</td>\n",
       "      <td>-0.067761</td>\n",
       "      <td>-0.060810</td>\n",
       "      <td>-0.001184</td>\n",
       "      <td>0.000734</td>\n",
       "      <td>0.029148</td>\n",
       "      <td>0.024501</td>\n",
       "      <td>-0.096013</td>\n",
       "      <td>...</td>\n",
       "      <td>0.057610</td>\n",
       "      <td>-0.050949</td>\n",
       "      <td>-0.017972</td>\n",
       "      <td>0.008282</td>\n",
       "      <td>-0.003922</td>\n",
       "      <td>-0.061075</td>\n",
       "      <td>0.055963</td>\n",
       "      <td>0.034356</td>\n",
       "      <td>0.079510</td>\n",
       "      <td>-0.078223</td>\n",
       "    </tr>\n",
       "    <tr>\n",
       "      <th>MMP2</th>\n",
       "      <td>-0.036499</td>\n",
       "      <td>-0.147354</td>\n",
       "      <td>0.082521</td>\n",
       "      <td>0.133464</td>\n",
       "      <td>0.180986</td>\n",
       "      <td>-0.040401</td>\n",
       "      <td>0.066718</td>\n",
       "      <td>-0.040661</td>\n",
       "      <td>-0.171430</td>\n",
       "      <td>0.154789</td>\n",
       "      <td>...</td>\n",
       "      <td>-0.090356</td>\n",
       "      <td>0.352892</td>\n",
       "      <td>0.012735</td>\n",
       "      <td>-0.153441</td>\n",
       "      <td>-0.086582</td>\n",
       "      <td>0.092603</td>\n",
       "      <td>0.052464</td>\n",
       "      <td>0.000355</td>\n",
       "      <td>-0.323068</td>\n",
       "      <td>0.277830</td>\n",
       "    </tr>\n",
       "    <tr>\n",
       "      <th>PRKACA</th>\n",
       "      <td>0.021894</td>\n",
       "      <td>0.071289</td>\n",
       "      <td>0.021641</td>\n",
       "      <td>-0.079990</td>\n",
       "      <td>0.044919</td>\n",
       "      <td>-0.082366</td>\n",
       "      <td>0.013962</td>\n",
       "      <td>-0.063172</td>\n",
       "      <td>-0.081244</td>\n",
       "      <td>-0.032706</td>\n",
       "      <td>...</td>\n",
       "      <td>0.062312</td>\n",
       "      <td>0.063952</td>\n",
       "      <td>-0.050152</td>\n",
       "      <td>0.112115</td>\n",
       "      <td>-0.041111</td>\n",
       "      <td>0.073021</td>\n",
       "      <td>0.032152</td>\n",
       "      <td>-0.068759</td>\n",
       "      <td>-0.117734</td>\n",
       "      <td>0.067075</td>\n",
       "    </tr>\n",
       "  </tbody>\n",
       "</table>\n",
       "<p>5 rows × 128 columns</p>\n",
       "</div>"
      ],
      "text/plain": [
       "               0         1         2         3         4         5         6  \\\n",
       "CDCA2  -0.046519 -0.049060 -0.065633  0.102739 -0.037012  0.067560  0.070266   \n",
       "APPBP2 -0.093607 -0.018010  0.060400 -0.022461  0.071339  0.044652 -0.002030   \n",
       "TK1     0.023958  0.160870 -0.038898 -0.067761 -0.060810 -0.001184  0.000734   \n",
       "MMP2   -0.036499 -0.147354  0.082521  0.133464  0.180986 -0.040401  0.066718   \n",
       "PRKACA  0.021894  0.071289  0.021641 -0.079990  0.044919 -0.082366  0.013962   \n",
       "\n",
       "               7         8         9  ...       118       119       120  \\\n",
       "CDCA2  -0.008673  0.128273  0.004020  ... -0.071056 -0.156410  0.006000   \n",
       "APPBP2  0.008269 -0.100545 -0.035760  ... -0.100010  0.168263 -0.103005   \n",
       "TK1     0.029148  0.024501 -0.096013  ...  0.057610 -0.050949 -0.017972   \n",
       "MMP2   -0.040661 -0.171430  0.154789  ... -0.090356  0.352892  0.012735   \n",
       "PRKACA -0.063172 -0.081244 -0.032706  ...  0.062312  0.063952 -0.050152   \n",
       "\n",
       "             121       122       123       124       125       126       127  \n",
       "CDCA2   0.093432  0.034559  0.010527 -0.045864  0.068302  0.115374 -0.101571  \n",
       "APPBP2 -0.055163  0.053544 -0.075707  0.119875  0.000469  0.004186  0.123274  \n",
       "TK1     0.008282 -0.003922 -0.061075  0.055963  0.034356  0.079510 -0.078223  \n",
       "MMP2   -0.153441 -0.086582  0.092603  0.052464  0.000355 -0.323068  0.277830  \n",
       "PRKACA  0.112115 -0.041111  0.073021  0.032152 -0.068759 -0.117734  0.067075  \n",
       "\n",
       "[5 rows x 128 columns]"
      ]
     },
     "execution_count": 7,
     "metadata": {},
     "output_type": "execute_result"
    },
    {
     "data": {
      "application/javascript": [
       "\n",
       "            setTimeout(function() {\n",
       "                var nbb_cell_id = 7;\n",
       "                var nbb_unformatted_code = \"node_embs = pd.read_csv(\\n    \\\"../../../data/ppi/embedding/node_embeddings_cv.csv\\\", index_col=0\\n)\\nnode_embs.head()\";\n",
       "                var nbb_formatted_code = \"node_embs = pd.read_csv(\\n    \\\"../../../data/ppi/embedding/node_embeddings_cv.csv\\\", index_col=0\\n)\\nnode_embs.head()\";\n",
       "                var nbb_cells = Jupyter.notebook.get_cells();\n",
       "                for (var i = 0; i < nbb_cells.length; ++i) {\n",
       "                    if (nbb_cells[i].input_prompt_number == nbb_cell_id) {\n",
       "                        if (nbb_cells[i].get_text() == nbb_unformatted_code) {\n",
       "                             nbb_cells[i].set_text(nbb_formatted_code);\n",
       "                        }\n",
       "                        break;\n",
       "                    }\n",
       "                }\n",
       "            }, 500);\n",
       "            "
      ],
      "text/plain": [
       "<IPython.core.display.Javascript object>"
      ]
     },
     "metadata": {},
     "output_type": "display_data"
    }
   ],
   "source": [
    "node_embs = pd.read_csv(\n",
    "    \"../../../data/ppi/embedding/node_embeddings_cv.csv\", index_col=0\n",
    ")\n",
    "node_embs.head()"
   ]
  },
  {
   "cell_type": "markdown",
   "id": "797e82dd",
   "metadata": {},
   "source": [
    "After having loaded the regulatory embeddings, we will now load the structural embeddings defined by the embeddings of the images held-out during the different folds of the cross-validation. Note that we do not group the data of the individual folds as the inferred models map to different latent spaces. We will also decode the numerical labels."
   ]
  },
  {
   "cell_type": "code",
   "execution_count": 8,
   "id": "7cf54c60",
   "metadata": {},
   "outputs": [
    {
     "data": {
      "application/javascript": [
       "\n",
       "            setTimeout(function() {\n",
       "                var nbb_cell_id = 8;\n",
       "                var nbb_unformatted_code = \"label_dict = {\\n    \\\"AKT1S1\\\": 0,\\n    \\\"APC\\\": 1,\\n    \\\"ATF4\\\": 2,\\n    \\\"BAX\\\": 3,\\n    \\\"BCL2L11\\\": 4,\\n    \\\"BRAF\\\": 5,\\n    \\\"CASP8\\\": 6,\\n    \\\"CDC42\\\": 7,\\n    \\\"CDKN1A\\\": 8,\\n    \\\"CEBPA\\\": 9,\\n    \\\"CREB1\\\": 10,\\n    \\\"CSNK1E\\\": 11,\\n    \\\"CXXC4\\\": 12,\\n    \\\"DIABLO\\\": 13,\\n    \\\"E2F1\\\": 14,\\n    \\\"ELK1\\\": 15,\\n    \\\"EMPTY\\\": 16,\\n    \\\"ERG\\\": 17,\\n    \\\"FGFR3\\\": 18,\\n    \\\"FOXO1\\\": 19,\\n    \\\"GLI1\\\": 20,\\n    \\\"HRAS\\\": 21,\\n    \\\"IRAK4\\\": 22,\\n    \\\"JUN\\\": 23,\\n    \\\"KRAS\\\": 24,\\n    \\\"MAP2K3\\\": 25,\\n    \\\"MAP3K2\\\": 26,\\n    \\\"MAP3K5\\\": 27,\\n    \\\"MAP3K9\\\": 28,\\n    \\\"MAPK7\\\": 29,\\n    \\\"MOS\\\": 30,\\n    \\\"MYD88\\\": 31,\\n    \\\"PIK3R2\\\": 32,\\n    \\\"PKIA\\\": 33,\\n    \\\"PRKACA\\\": 34,\\n    \\\"PRKCE\\\": 35,\\n    \\\"RAF1\\\": 36,\\n    \\\"RELB\\\": 37,\\n    \\\"RHOA\\\": 38,\\n    \\\"SMAD3\\\": 39,\\n    \\\"SMAD4\\\": 40,\\n    \\\"SMO\\\": 41,\\n    \\\"SRC\\\": 42,\\n    \\\"SREBF1\\\": 43,\\n    \\\"TRAF2\\\": 44,\\n    \\\"TSC2\\\": 45,\\n    \\\"WWTR1\\\": 46,\\n}\\n\\nlabel_dict = {v: k for k, v in label_dict.items()}\\n\\n\\nimg_embs_dict = {}\\nfor i in range(4):\\n    img_embs = pd.read_hdf(\\n        \\\"../../../data/experiments/image_embeddings/specificity_target_emb_cv/final_1024/fold_{}/test_latents.h5\\\".format(\\n            i\\n        )\\n    )\\n    img_embs.iloc[:, -1] = img_embs.iloc[:, -1].map(label_dict)\\n    img_embs_dict[\\\"fold{}\\\".format(i)] = img_embs\";\n",
       "                var nbb_formatted_code = \"label_dict = {\\n    \\\"AKT1S1\\\": 0,\\n    \\\"APC\\\": 1,\\n    \\\"ATF4\\\": 2,\\n    \\\"BAX\\\": 3,\\n    \\\"BCL2L11\\\": 4,\\n    \\\"BRAF\\\": 5,\\n    \\\"CASP8\\\": 6,\\n    \\\"CDC42\\\": 7,\\n    \\\"CDKN1A\\\": 8,\\n    \\\"CEBPA\\\": 9,\\n    \\\"CREB1\\\": 10,\\n    \\\"CSNK1E\\\": 11,\\n    \\\"CXXC4\\\": 12,\\n    \\\"DIABLO\\\": 13,\\n    \\\"E2F1\\\": 14,\\n    \\\"ELK1\\\": 15,\\n    \\\"EMPTY\\\": 16,\\n    \\\"ERG\\\": 17,\\n    \\\"FGFR3\\\": 18,\\n    \\\"FOXO1\\\": 19,\\n    \\\"GLI1\\\": 20,\\n    \\\"HRAS\\\": 21,\\n    \\\"IRAK4\\\": 22,\\n    \\\"JUN\\\": 23,\\n    \\\"KRAS\\\": 24,\\n    \\\"MAP2K3\\\": 25,\\n    \\\"MAP3K2\\\": 26,\\n    \\\"MAP3K5\\\": 27,\\n    \\\"MAP3K9\\\": 28,\\n    \\\"MAPK7\\\": 29,\\n    \\\"MOS\\\": 30,\\n    \\\"MYD88\\\": 31,\\n    \\\"PIK3R2\\\": 32,\\n    \\\"PKIA\\\": 33,\\n    \\\"PRKACA\\\": 34,\\n    \\\"PRKCE\\\": 35,\\n    \\\"RAF1\\\": 36,\\n    \\\"RELB\\\": 37,\\n    \\\"RHOA\\\": 38,\\n    \\\"SMAD3\\\": 39,\\n    \\\"SMAD4\\\": 40,\\n    \\\"SMO\\\": 41,\\n    \\\"SRC\\\": 42,\\n    \\\"SREBF1\\\": 43,\\n    \\\"TRAF2\\\": 44,\\n    \\\"TSC2\\\": 45,\\n    \\\"WWTR1\\\": 46,\\n}\\n\\nlabel_dict = {v: k for k, v in label_dict.items()}\\n\\n\\nimg_embs_dict = {}\\nfor i in range(4):\\n    img_embs = pd.read_hdf(\\n        \\\"../../../data/experiments/image_embeddings/specificity_target_emb_cv/final_1024/fold_{}/test_latents.h5\\\".format(\\n            i\\n        )\\n    )\\n    img_embs.iloc[:, -1] = img_embs.iloc[:, -1].map(label_dict)\\n    img_embs_dict[\\\"fold{}\\\".format(i)] = img_embs\";\n",
       "                var nbb_cells = Jupyter.notebook.get_cells();\n",
       "                for (var i = 0; i < nbb_cells.length; ++i) {\n",
       "                    if (nbb_cells[i].input_prompt_number == nbb_cell_id) {\n",
       "                        if (nbb_cells[i].get_text() == nbb_unformatted_code) {\n",
       "                             nbb_cells[i].set_text(nbb_formatted_code);\n",
       "                        }\n",
       "                        break;\n",
       "                    }\n",
       "                }\n",
       "            }, 500);\n",
       "            "
      ],
      "text/plain": [
       "<IPython.core.display.Javascript object>"
      ]
     },
     "metadata": {},
     "output_type": "display_data"
    }
   ],
   "source": [
    "label_dict = {\n",
    "    \"AKT1S1\": 0,\n",
    "    \"APC\": 1,\n",
    "    \"ATF4\": 2,\n",
    "    \"BAX\": 3,\n",
    "    \"BCL2L11\": 4,\n",
    "    \"BRAF\": 5,\n",
    "    \"CASP8\": 6,\n",
    "    \"CDC42\": 7,\n",
    "    \"CDKN1A\": 8,\n",
    "    \"CEBPA\": 9,\n",
    "    \"CREB1\": 10,\n",
    "    \"CSNK1E\": 11,\n",
    "    \"CXXC4\": 12,\n",
    "    \"DIABLO\": 13,\n",
    "    \"E2F1\": 14,\n",
    "    \"ELK1\": 15,\n",
    "    \"EMPTY\": 16,\n",
    "    \"ERG\": 17,\n",
    "    \"FGFR3\": 18,\n",
    "    \"FOXO1\": 19,\n",
    "    \"GLI1\": 20,\n",
    "    \"HRAS\": 21,\n",
    "    \"IRAK4\": 22,\n",
    "    \"JUN\": 23,\n",
    "    \"KRAS\": 24,\n",
    "    \"MAP2K3\": 25,\n",
    "    \"MAP3K2\": 26,\n",
    "    \"MAP3K5\": 27,\n",
    "    \"MAP3K9\": 28,\n",
    "    \"MAPK7\": 29,\n",
    "    \"MOS\": 30,\n",
    "    \"MYD88\": 31,\n",
    "    \"PIK3R2\": 32,\n",
    "    \"PKIA\": 33,\n",
    "    \"PRKACA\": 34,\n",
    "    \"PRKCE\": 35,\n",
    "    \"RAF1\": 36,\n",
    "    \"RELB\": 37,\n",
    "    \"RHOA\": 38,\n",
    "    \"SMAD3\": 39,\n",
    "    \"SMAD4\": 40,\n",
    "    \"SMO\": 41,\n",
    "    \"SRC\": 42,\n",
    "    \"SREBF1\": 43,\n",
    "    \"TRAF2\": 44,\n",
    "    \"TSC2\": 45,\n",
    "    \"WWTR1\": 46,\n",
    "}\n",
    "\n",
    "label_dict = {v: k for k, v in label_dict.items()}\n",
    "\n",
    "\n",
    "img_embs_dict = {}\n",
    "for i in range(4):\n",
    "    img_embs = pd.read_hdf(\n",
    "        \"../../../data/experiments/image_embeddings/specificity_target_emb_cv/final_1024/fold_{}/test_latents.h5\".format(\n",
    "            i\n",
    "        )\n",
    "    )\n",
    "    img_embs.iloc[:, -1] = img_embs.iloc[:, -1].map(label_dict)\n",
    "    img_embs_dict[\"fold{}\".format(i)] = img_embs"
   ]
  },
  {
   "cell_type": "code",
   "execution_count": 9,
   "id": "adb0e0bb",
   "metadata": {},
   "outputs": [
    {
     "data": {
      "application/javascript": [
       "\n",
       "            setTimeout(function() {\n",
       "                var nbb_cell_id = 9;\n",
       "                var nbb_unformatted_code = \"img_node_embs_dict = {}\\nshared_targets = set(node_embs.index).intersection(label_dict.values())\\nfor i in range(4):\\n    filtered_img_embs = img_embs_dict[\\\"fold{}\\\".format(i)]\\n    filtered_img_embs = filtered_img_embs.loc[\\n        filtered_img_embs.labels.isin(shared_targets)\\n    ]\\n    filtered_node_embs = node_embs.loc[filtered_img_embs.labels]\\n    filtered_img_embs = filtered_img_embs.iloc[:, :-1]\\n    img_node_embs_dict[\\\"fold{}\\\".format(i)] = filtered_img_embs, filtered_node_embs\";\n",
       "                var nbb_formatted_code = \"img_node_embs_dict = {}\\nshared_targets = set(node_embs.index).intersection(label_dict.values())\\nfor i in range(4):\\n    filtered_img_embs = img_embs_dict[\\\"fold{}\\\".format(i)]\\n    filtered_img_embs = filtered_img_embs.loc[\\n        filtered_img_embs.labels.isin(shared_targets)\\n    ]\\n    filtered_node_embs = node_embs.loc[filtered_img_embs.labels]\\n    filtered_img_embs = filtered_img_embs.iloc[:, :-1]\\n    img_node_embs_dict[\\\"fold{}\\\".format(i)] = filtered_img_embs, filtered_node_embs\";\n",
       "                var nbb_cells = Jupyter.notebook.get_cells();\n",
       "                for (var i = 0; i < nbb_cells.length; ++i) {\n",
       "                    if (nbb_cells[i].input_prompt_number == nbb_cell_id) {\n",
       "                        if (nbb_cells[i].get_text() == nbb_unformatted_code) {\n",
       "                             nbb_cells[i].set_text(nbb_formatted_code);\n",
       "                        }\n",
       "                        break;\n",
       "                    }\n",
       "                }\n",
       "            }, 500);\n",
       "            "
      ],
      "text/plain": [
       "<IPython.core.display.Javascript object>"
      ]
     },
     "metadata": {},
     "output_type": "display_data"
    }
   ],
   "source": [
    "img_node_embs_dict = {}\n",
    "shared_targets = set(node_embs.index).intersection(label_dict.values())\n",
    "for i in range(4):\n",
    "    filtered_img_embs = img_embs_dict[\"fold{}\".format(i)]\n",
    "    filtered_img_embs = filtered_img_embs.loc[\n",
    "        filtered_img_embs.labels.isin(shared_targets)\n",
    "    ]\n",
    "    filtered_node_embs = node_embs.loc[filtered_img_embs.labels]\n",
    "    filtered_img_embs = filtered_img_embs.iloc[:, :-1]\n",
    "    img_node_embs_dict[\"fold{}\".format(i)] = filtered_img_embs, filtered_node_embs"
   ]
  },
  {
   "cell_type": "markdown",
   "id": "20317fe7",
   "metadata": {},
   "source": [
    "---\n",
    "\n",
    "## 3. Exploratory data analysis"
   ]
  },
  {
   "cell_type": "markdown",
   "id": "f81b58f4",
   "metadata": {},
   "source": [
    "As a first step, we will look at the distribution of the labels in the held-out data of the different folds to better understand how the distribution varies across folds. Note that the data was split in a stratified manner such that the total number of nuclei is roughly the same across folds yet nuclei from the same image are guaranteed to end up in the same image. Thus, we expect some class imbalance across the different folds."
   ]
  },
  {
   "cell_type": "code",
   "execution_count": 20,
   "id": "b04b05ae",
   "metadata": {},
   "outputs": [
    {
     "data": {
      "application/javascript": [
       "\n",
       "            setTimeout(function() {\n",
       "                var nbb_cell_id = 20;\n",
       "                var nbb_unformatted_code = \"label_counts = []\\nlabels = []\\nfolds = []\\nfold_keys = list(img_embs_dict.keys())\\nfor i in range(len(fold_keys)):\\n    label_count = img_embs_dict[fold_keys[i]][\\\"labels\\\"].value_counts()\\n    folds.extend([str(i)] * len(label_count))\\n    label_counts.append(label_count)\\n    labels.extend(list(label_count.index))\\nlabel_counts = pd.DataFrame(np.array(pd.concat(label_counts)), columns=[\\\"count\\\"])\\nlabel_counts[\\\"label\\\"] = list(labels)\\nlabel_counts[\\\"fold\\\"] = folds\";\n",
       "                var nbb_formatted_code = \"label_counts = []\\nlabels = []\\nfolds = []\\nfold_keys = list(img_embs_dict.keys())\\nfor i in range(len(fold_keys)):\\n    label_count = img_embs_dict[fold_keys[i]][\\\"labels\\\"].value_counts()\\n    folds.extend([str(i)] * len(label_count))\\n    label_counts.append(label_count)\\n    labels.extend(list(label_count.index))\\nlabel_counts = pd.DataFrame(np.array(pd.concat(label_counts)), columns=[\\\"count\\\"])\\nlabel_counts[\\\"label\\\"] = list(labels)\\nlabel_counts[\\\"fold\\\"] = folds\";\n",
       "                var nbb_cells = Jupyter.notebook.get_cells();\n",
       "                for (var i = 0; i < nbb_cells.length; ++i) {\n",
       "                    if (nbb_cells[i].input_prompt_number == nbb_cell_id) {\n",
       "                        if (nbb_cells[i].get_text() == nbb_unformatted_code) {\n",
       "                             nbb_cells[i].set_text(nbb_formatted_code);\n",
       "                        }\n",
       "                        break;\n",
       "                    }\n",
       "                }\n",
       "            }, 500);\n",
       "            "
      ],
      "text/plain": [
       "<IPython.core.display.Javascript object>"
      ]
     },
     "metadata": {},
     "output_type": "display_data"
    }
   ],
   "source": [
    "label_counts = []\n",
    "labels = []\n",
    "folds = []\n",
    "fold_keys = list(img_embs_dict.keys())\n",
    "for i in range(len(fold_keys)):\n",
    "    label_count = img_embs_dict[fold_keys[i]][\"labels\"].value_counts()\n",
    "    folds.extend([str(i)] * len(label_count))\n",
    "    label_counts.append(label_count)\n",
    "    labels.extend(list(label_count.index))\n",
    "label_counts = pd.DataFrame(np.array(pd.concat(label_counts)), columns=[\"count\"])\n",
    "label_counts[\"label\"] = list(labels)\n",
    "label_counts[\"fold\"] = folds"
   ]
  },
  {
   "cell_type": "code",
   "execution_count": 21,
   "id": "8ee0f10d",
   "metadata": {},
   "outputs": [
    {
     "data": {
      "image/png": "[encoded data removed]",
      "text/plain": [
       "<Figure size 1080x576 with 1 Axes>"
      ]
     },
     "metadata": {
      "needs_background": "light"
     },
     "output_type": "display_data"
    },
    {
     "data": {
      "application/javascript": [
       "\n",
       "            setTimeout(function() {\n",
       "                var nbb_cell_id = 21;\n",
       "                var nbb_unformatted_code = \"fig, ax = plt.subplots(figsize=[15, 8])\\nax = sns.scatterplot(data=label_counts, x=\\\"label\\\", y=\\\"count\\\", hue=\\\"fold\\\", ax=ax)\\nplt.xticks(rotation=90)\\nplt.show()\";\n",
       "                var nbb_formatted_code = \"fig, ax = plt.subplots(figsize=[15, 8])\\nax = sns.scatterplot(data=label_counts, x=\\\"label\\\", y=\\\"count\\\", hue=\\\"fold\\\", ax=ax)\\nplt.xticks(rotation=90)\\nplt.show()\";\n",
       "                var nbb_cells = Jupyter.notebook.get_cells();\n",
       "                for (var i = 0; i < nbb_cells.length; ++i) {\n",
       "                    if (nbb_cells[i].input_prompt_number == nbb_cell_id) {\n",
       "                        if (nbb_cells[i].get_text() == nbb_unformatted_code) {\n",
       "                             nbb_cells[i].set_text(nbb_formatted_code);\n",
       "                        }\n",
       "                        break;\n",
       "                    }\n",
       "                }\n",
       "            }, 500);\n",
       "            "
      ],
      "text/plain": [
       "<IPython.core.display.Javascript object>"
      ]
     },
     "metadata": {},
     "output_type": "display_data"
    }
   ],
   "source": [
    "fig, ax = plt.subplots(figsize=[15, 8])\n",
    "ax = sns.scatterplot(data=label_counts, x=\"label\", y=\"count\", hue=\"fold\", ax=ax)\n",
    "plt.xticks(rotation=90)\n",
    "plt.show()"
   ]
  },
  {
   "cell_type": "markdown",
   "id": "4d0352bd",
   "metadata": {},
   "source": [
    "As mentioned earlier there is quite some variance in the relative distribution of the individual conditions. For instance we have roughly 2700 samples of MAP3K5 as the majority class in fold 2 and just 1600-1800 in the remaining folds. We are working on improving that."
   ]
  },
  {
   "cell_type": "markdown",
   "id": "9e4a88f0",
   "metadata": {},
   "source": [
    "---\n",
    "\n",
    "## 4. Translational analyses\n",
    "\n",
    "We will now use the different embeddings of the three different folds in order to model the link between the regulatory and structural space, by given a structural embedding predict the corresponding regulatory embedding. To this end, we will train a linear model for each held-out fold data. To assess the performance, we will evaluate the mapping in three distinct settings:\n",
    "1. Split the data on a single-nuclei basis, i.e. samples of the same overexpression condition might end up in both the training, validation and test set.\n",
    "2. Split the data on a OE condition level, i.e. samples of the a certain overexpression condition will be ending up in either of the training, validation and test set.\n",
    "3. Leave-one-target out cross-validation"
   ]
  },
  {
   "cell_type": "markdown",
   "id": "aebd8d1e",
   "metadata": {},
   "source": [
    "We will quickly setup the linear model as well as the corresponding optimizer used for that inference."
   ]
  },
  {
   "cell_type": "code",
   "execution_count": 12,
   "id": "1483b8ad",
   "metadata": {},
   "outputs": [
    {
     "data": {
      "application/javascript": [
       "\n",
       "            setTimeout(function() {\n",
       "                var nbb_cell_id = 12;\n",
       "                var nbb_unformatted_code = \"model = nn.Sequential(\\n    nn.Linear(1024, 1024),\\n    nn.PReLU(),\\n    nn.BatchNorm1d(1024),\\n    nn.Linear(1024, 128),\\n)\\noptimizer = Adam(model.parameters(), lr=1e-4)\\ncriterion = nn.MSELoss()\";\n",
       "                var nbb_formatted_code = \"model = nn.Sequential(\\n    nn.Linear(1024, 1024),\\n    nn.PReLU(),\\n    nn.BatchNorm1d(1024),\\n    nn.Linear(1024, 128),\\n)\\noptimizer = Adam(model.parameters(), lr=1e-4)\\ncriterion = nn.MSELoss()\";\n",
       "                var nbb_cells = Jupyter.notebook.get_cells();\n",
       "                for (var i = 0; i < nbb_cells.length; ++i) {\n",
       "                    if (nbb_cells[i].input_prompt_number == nbb_cell_id) {\n",
       "                        if (nbb_cells[i].get_text() == nbb_unformatted_code) {\n",
       "                             nbb_cells[i].set_text(nbb_formatted_code);\n",
       "                        }\n",
       "                        break;\n",
       "                    }\n",
       "                }\n",
       "            }, 500);\n",
       "            "
      ],
      "text/plain": [
       "<IPython.core.display.Javascript object>"
      ]
     },
     "metadata": {},
     "output_type": "display_data"
    }
   ],
   "source": [
    "model = nn.Sequential(\n",
    "    nn.Linear(1024, 1024),\n",
    "    nn.PReLU(),\n",
    "    nn.BatchNorm1d(1024),\n",
    "    nn.Linear(1024, 128),\n",
    ")\n",
    "optimizer = Adam(model.parameters(), lr=1e-4)\n",
    "criterion = nn.MSELoss()"
   ]
  },
  {
   "cell_type": "markdown",
   "id": "9d816694",
   "metadata": {},
   "source": [
    "---\n",
    "\n",
    "### 4.1. Baseline prediction: Nuclei split"
   ]
  },
  {
   "cell_type": "markdown",
   "id": "667d6396",
   "metadata": {},
   "source": [
    "We start of with splitting the data into a training, validation and testing set without distinguishing between OE conditions. This will serve as a baseline of how well we can translate between the two spaces within sample."
   ]
  },
  {
   "cell_type": "code",
   "execution_count": 13,
   "id": "ee2ef041",
   "metadata": {},
   "outputs": [
    {
     "data": {
      "application/javascript": [
       "\n",
       "            setTimeout(function() {\n",
       "                var nbb_cell_id = 13;\n",
       "                var nbb_unformatted_code = \"img_embs_fold0, node_embs_fold0 = img_node_embs_dict[\\\"fold0\\\"]\";\n",
       "                var nbb_formatted_code = \"img_embs_fold0, node_embs_fold0 = img_node_embs_dict[\\\"fold0\\\"]\";\n",
       "                var nbb_cells = Jupyter.notebook.get_cells();\n",
       "                for (var i = 0; i < nbb_cells.length; ++i) {\n",
       "                    if (nbb_cells[i].input_prompt_number == nbb_cell_id) {\n",
       "                        if (nbb_cells[i].get_text() == nbb_unformatted_code) {\n",
       "                             nbb_cells[i].set_text(nbb_formatted_code);\n",
       "                        }\n",
       "                        break;\n",
       "                    }\n",
       "                }\n",
       "            }, 500);\n",
       "            "
      ],
      "text/plain": [
       "<IPython.core.display.Javascript object>"
      ]
     },
     "metadata": {},
     "output_type": "display_data"
    }
   ],
   "source": [
    "img_embs_fold0, node_embs_fold0 = img_node_embs_dict[\"fold0\"]"
   ]
  },
  {
   "cell_type": "code",
   "execution_count": 14,
   "id": "0a350e1b",
   "metadata": {},
   "outputs": [
    {
     "data": {
      "application/javascript": [
       "\n",
       "            setTimeout(function() {\n",
       "                var nbb_cell_id = 14;\n",
       "                var nbb_unformatted_code = \"data_dict = get_data_dict(\\n    data=img_embs_fold0,\\n    labels=node_embs_fold0,\\n    val_test_size=[0.2, 0.2],\\n    group_labels=None,\\n    batch_size=128,\\n)\";\n",
       "                var nbb_formatted_code = \"data_dict = get_data_dict(\\n    data=img_embs_fold0,\\n    labels=node_embs_fold0,\\n    val_test_size=[0.2, 0.2],\\n    group_labels=None,\\n    batch_size=128,\\n)\";\n",
       "                var nbb_cells = Jupyter.notebook.get_cells();\n",
       "                for (var i = 0; i < nbb_cells.length; ++i) {\n",
       "                    if (nbb_cells[i].input_prompt_number == nbb_cell_id) {\n",
       "                        if (nbb_cells[i].get_text() == nbb_unformatted_code) {\n",
       "                             nbb_cells[i].set_text(nbb_formatted_code);\n",
       "                        }\n",
       "                        break;\n",
       "                    }\n",
       "                }\n",
       "            }, 500);\n",
       "            "
      ],
      "text/plain": [
       "<IPython.core.display.Javascript object>"
      ]
     },
     "metadata": {},
     "output_type": "display_data"
    }
   ],
   "source": [
    "data_dict = get_data_dict(\n",
    "    data=img_embs_fold0,\n",
    "    labels=node_embs_fold0,\n",
    "    val_test_size=[0.2, 0.2],\n",
    "    group_labels=None,\n",
    "    batch_size=128,\n",
    ")"
   ]
  },
  {
   "cell_type": "code",
   "execution_count": 15,
   "id": "3918f4a3",
   "metadata": {
    "scrolled": true
   },
   "outputs": [
    {
     "name": "stderr",
     "output_type": "stream",
     "text": [
      "  0%|          | 1/1000 [00:01<31:10,  1.87s/it]"
     ]
    },
    {
     "name": "stdout",
     "output_type": "stream",
     "text": [
      "TRAIN loss: 0.052119517866038294\n",
      "VAL loss: 0.019470873430328852\n"
     ]
    },
    {
     "name": "stderr",
     "output_type": "stream",
     "text": [
      "\r",
      "  0%|          | 2/1000 [00:03<31:42,  1.91s/it]"
     ]
    },
    {
     "name": "stdout",
     "output_type": "stream",
     "text": [
      "TRAIN loss: 0.014443312501841\n",
      "VAL loss: 0.01078849582668416\n"
     ]
    },
    {
     "name": "stderr",
     "output_type": "stream",
     "text": [
      "\r",
      "  0%|          | 3/1000 [00:05<31:42,  1.91s/it]"
     ]
    },
    {
     "name": "stdout",
     "output_type": "stream",
     "text": [
      "TRAIN loss: 0.009172621843919308\n",
      "VAL loss: 0.007848860575414186\n"
     ]
    },
    {
     "name": "stderr",
     "output_type": "stream",
     "text": [
      "\r",
      "  0%|          | 4/1000 [00:07<31:35,  1.90s/it]"
     ]
    },
    {
     "name": "stdout",
     "output_type": "stream",
     "text": [
      "TRAIN loss: 0.007039153284309433\n",
      "VAL loss: 0.006010003718097894\n"
     ]
    },
    {
     "name": "stderr",
     "output_type": "stream",
     "text": [
      "\r",
      "  0%|          | 5/1000 [00:09<31:32,  1.90s/it]"
     ]
    },
    {
     "name": "stdout",
     "output_type": "stream",
     "text": [
      "TRAIN loss: 0.00579849780060718\n",
      "VAL loss: 0.005126610592006673\n"
     ]
    },
    {
     "name": "stderr",
     "output_type": "stream",
     "text": [
      "\r",
      "  1%|          | 6/1000 [00:11<31:32,  1.90s/it]"
     ]
    },
    {
     "name": "stdout",
     "output_type": "stream",
     "text": [
      "TRAIN loss: 0.005020587860376532\n",
      "VAL loss: 0.0045548914063798076\n"
     ]
    },
    {
     "name": "stderr",
     "output_type": "stream",
     "text": [
      "\r",
      "  1%|          | 7/1000 [00:13<31:29,  1.90s/it]"
     ]
    },
    {
     "name": "stdout",
     "output_type": "stream",
     "text": [
      "TRAIN loss: 0.004462940346810281\n",
      "VAL loss: 0.004107995371500846\n"
     ]
    },
    {
     "name": "stderr",
     "output_type": "stream",
     "text": [
      "\r",
      "  1%|          | 8/1000 [00:15<31:25,  1.90s/it]"
     ]
    },
    {
     "name": "stdout",
     "output_type": "stream",
     "text": [
      "TRAIN loss: 0.0040668684187837745\n",
      "VAL loss: 0.003932225458500432\n"
     ]
    },
    {
     "name": "stderr",
     "output_type": "stream",
     "text": [
      "\r",
      "  1%|          | 9/1000 [00:17<31:19,  1.90s/it]"
     ]
    },
    {
     "name": "stdout",
     "output_type": "stream",
     "text": [
      "TRAIN loss: 0.003783945320202225\n",
      "VAL loss: 0.003615500465160322\n"
     ]
    },
    {
     "name": "stderr",
     "output_type": "stream",
     "text": [
      "\r",
      "  1%|          | 10/1000 [00:18<31:12,  1.89s/it]"
     ]
    },
    {
     "name": "stdout",
     "output_type": "stream",
     "text": [
      "TRAIN loss: 0.003534509139432018\n",
      "VAL loss: 0.0033786456292187023\n"
     ]
    },
    {
     "name": "stderr",
     "output_type": "stream",
     "text": [
      "\r",
      "  1%|          | 11/1000 [00:20<31:14,  1.90s/it]"
     ]
    },
    {
     "name": "stdout",
     "output_type": "stream",
     "text": [
      "TRAIN loss: 0.0033320450816335316\n",
      "VAL loss: 0.0034479050399938566\n"
     ]
    },
    {
     "name": "stderr",
     "output_type": "stream",
     "text": [
      "\r",
      "  1%|          | 12/1000 [00:22<31:13,  1.90s/it]"
     ]
    },
    {
     "name": "stdout",
     "output_type": "stream",
     "text": [
      "TRAIN loss: 0.0031971978922504334\n",
      "VAL loss: 0.0033181081384945003\n"
     ]
    },
    {
     "name": "stderr",
     "output_type": "stream",
     "text": [
      "\r",
      "  1%|▏         | 13/1000 [00:24<31:23,  1.91s/it]"
     ]
    },
    {
     "name": "stdout",
     "output_type": "stream",
     "text": [
      "TRAIN loss: 0.003075360824864376\n",
      "VAL loss: 0.0032292897875102274\n"
     ]
    },
    {
     "name": "stderr",
     "output_type": "stream",
     "text": [
      "\r",
      "  1%|▏         | 14/1000 [00:26<31:51,  1.94s/it]"
     ]
    },
    {
     "name": "stdout",
     "output_type": "stream",
     "text": [
      "TRAIN loss: 0.0029417443729596983\n",
      "VAL loss: 0.0031349451039198602\n"
     ]
    },
    {
     "name": "stderr",
     "output_type": "stream",
     "text": [
      "\r",
      "  2%|▏         | 15/1000 [00:28<31:43,  1.93s/it]"
     ]
    },
    {
     "name": "stdout",
     "output_type": "stream",
     "text": [
      "TRAIN loss: 0.0028480204008977717\n",
      "VAL loss: 0.0029290180377046925\n"
     ]
    },
    {
     "name": "stderr",
     "output_type": "stream",
     "text": [
      "\r",
      "  2%|▏         | 16/1000 [00:30<31:55,  1.95s/it]"
     ]
    },
    {
     "name": "stdout",
     "output_type": "stream",
     "text": [
      "TRAIN loss: 0.0027655347845728373\n",
      "VAL loss: 0.002876249919921534\n"
     ]
    },
    {
     "name": "stderr",
     "output_type": "stream",
     "text": [
      "\r",
      "  2%|▏         | 17/1000 [00:32<32:01,  1.95s/it]"
     ]
    },
    {
     "name": "stdout",
     "output_type": "stream",
     "text": [
      "TRAIN loss: 0.00269550349812404\n",
      "VAL loss: 0.0028585409274849865\n"
     ]
    },
    {
     "name": "stderr",
     "output_type": "stream",
     "text": [
      "\r",
      "  2%|▏         | 18/1000 [00:34<32:14,  1.97s/it]"
     ]
    },
    {
     "name": "stdout",
     "output_type": "stream",
     "text": [
      "TRAIN loss: 0.002643467490131768\n",
      "VAL loss: 0.002851233789429682\n"
     ]
    },
    {
     "name": "stderr",
     "output_type": "stream",
     "text": [
      "\r",
      "  2%|▏         | 19/1000 [00:36<32:25,  1.98s/it]"
     ]
    },
    {
     "name": "stdout",
     "output_type": "stream",
     "text": [
      "TRAIN loss: 0.0026190809680754733\n",
      "VAL loss: 0.0029671371095591286\n"
     ]
    },
    {
     "name": "stderr",
     "output_type": "stream",
     "text": [
      "\r",
      "  2%|▏         | 20/1000 [00:38<32:35,  2.00s/it]"
     ]
    },
    {
     "name": "stdout",
     "output_type": "stream",
     "text": [
      "TRAIN loss: 0.002592564838748679\n",
      "VAL loss: 0.0027548814934482855\n"
     ]
    },
    {
     "name": "stderr",
     "output_type": "stream",
     "text": [
      "\r",
      "  2%|▏         | 21/1000 [00:40<32:11,  1.97s/it]"
     ]
    },
    {
     "name": "stdout",
     "output_type": "stream",
     "text": [
      "TRAIN loss: 0.0025100431983458085\n",
      "VAL loss: 0.0027798442349031686\n"
     ]
    },
    {
     "name": "stderr",
     "output_type": "stream",
     "text": [
      "\r",
      "  2%|▏         | 22/1000 [00:42<31:46,  1.95s/it]"
     ]
    },
    {
     "name": "stdout",
     "output_type": "stream",
     "text": [
      "TRAIN loss: 0.002488873024818351\n",
      "VAL loss: 0.002729275414164229\n"
     ]
    },
    {
     "name": "stderr",
     "output_type": "stream",
     "text": [
      "\r",
      "  2%|▏         | 23/1000 [00:44<31:26,  1.93s/it]"
     ]
    },
    {
     "name": "stdout",
     "output_type": "stream",
     "text": [
      "TRAIN loss: 0.0024523450604849936\n",
      "VAL loss: 0.0026729429465432394\n"
     ]
    },
    {
     "name": "stderr",
     "output_type": "stream",
     "text": [
      "\r",
      "  2%|▏         | 24/1000 [00:46<31:16,  1.92s/it]"
     ]
    },
    {
     "name": "stdout",
     "output_type": "stream",
     "text": [
      "TRAIN loss: 0.002410120205345051\n",
      "VAL loss: 0.0026524694402729394\n"
     ]
    },
    {
     "name": "stderr",
     "output_type": "stream",
     "text": [
      "\r",
      "  2%|▎         | 25/1000 [00:48<31:17,  1.93s/it]"
     ]
    },
    {
     "name": "stdout",
     "output_type": "stream",
     "text": [
      "TRAIN loss: 0.002402919352138012\n",
      "VAL loss: 0.0025369308344294623\n"
     ]
    },
    {
     "name": "stderr",
     "output_type": "stream",
     "text": [
      "\r",
      "  3%|▎         | 26/1000 [00:50<31:11,  1.92s/it]"
     ]
    },
    {
     "name": "stdout",
     "output_type": "stream",
     "text": [
      "TRAIN loss: 0.002376840376157006\n",
      "VAL loss: 0.002719910605491141\n"
     ]
    },
    {
     "name": "stderr",
     "output_type": "stream",
     "text": [
      "\r",
      "  3%|▎         | 27/1000 [00:52<31:15,  1.93s/it]"
     ]
    },
    {
     "name": "stdout",
     "output_type": "stream",
     "text": [
      "TRAIN loss: 0.0023404986839328404\n",
      "VAL loss: 0.0027819222090401793\n"
     ]
    },
    {
     "name": "stderr",
     "output_type": "stream",
     "text": [
      "\r",
      "  3%|▎         | 28/1000 [00:53<31:09,  1.92s/it]"
     ]
    },
    {
     "name": "stdout",
     "output_type": "stream",
     "text": [
      "TRAIN loss: 0.002353811048553717\n",
      "VAL loss: 0.0026757179781984526\n"
     ]
    },
    {
     "name": "stderr",
     "output_type": "stream",
     "text": [
      "\r",
      "  3%|▎         | 29/1000 [00:55<30:59,  1.92s/it]"
     ]
    },
    {
     "name": "stdout",
     "output_type": "stream",
     "text": [
      "TRAIN loss: 0.0023297488490967083\n",
      "VAL loss: 0.0025511771525368924\n"
     ]
    },
    {
     "name": "stderr",
     "output_type": "stream",
     "text": [
      "\r",
      "  3%|▎         | 30/1000 [00:57<30:48,  1.91s/it]"
     ]
    },
    {
     "name": "stdout",
     "output_type": "stream",
     "text": [
      "TRAIN loss: 0.002280017453502095\n",
      "VAL loss: 0.0025480943607803365\n"
     ]
    },
    {
     "name": "stderr",
     "output_type": "stream",
     "text": [
      "\r",
      "  3%|▎         | 31/1000 [00:59<31:27,  1.95s/it]"
     ]
    },
    {
     "name": "stdout",
     "output_type": "stream",
     "text": [
      "TRAIN loss: 0.002259527683019862\n",
      "VAL loss: 0.002613312679668635\n"
     ]
    },
    {
     "name": "stderr",
     "output_type": "stream",
     "text": [
      "\r",
      "  3%|▎         | 32/1000 [01:01<31:12,  1.93s/it]"
     ]
    },
    {
     "name": "stdout",
     "output_type": "stream",
     "text": [
      "TRAIN loss: 0.002255144916432709\n",
      "VAL loss: 0.0026074990833507487\n"
     ]
    },
    {
     "name": "stderr",
     "output_type": "stream",
     "text": [
      "\r",
      "  3%|▎         | 33/1000 [01:03<31:38,  1.96s/it]"
     ]
    },
    {
     "name": "stdout",
     "output_type": "stream",
     "text": [
      "TRAIN loss: 0.002227752533207607\n",
      "VAL loss: 0.002770983081524591\n"
     ]
    },
    {
     "name": "stderr",
     "output_type": "stream",
     "text": [
      "\r",
      "  3%|▎         | 34/1000 [01:05<33:10,  2.06s/it]"
     ]
    },
    {
     "name": "stdout",
     "output_type": "stream",
     "text": [
      "TRAIN loss: 0.0022335813915751895\n",
      "VAL loss: 0.0025113207552559845\n"
     ]
    },
    {
     "name": "stderr",
     "output_type": "stream",
     "text": [
      "\r",
      "  4%|▎         | 35/1000 [01:07<32:36,  2.03s/it]"
     ]
    },
    {
     "name": "stdout",
     "output_type": "stream",
     "text": [
      "TRAIN loss: 0.002191087851298907\n",
      "VAL loss: 0.0025225436132195822\n"
     ]
    },
    {
     "name": "stderr",
     "output_type": "stream",
     "text": [
      "\r",
      "  4%|▎         | 36/1000 [01:09<32:03,  2.00s/it]"
     ]
    },
    {
     "name": "stdout",
     "output_type": "stream",
     "text": [
      "TRAIN loss: 0.002196906139227594\n",
      "VAL loss: 0.0026828249308410595\n"
     ]
    },
    {
     "name": "stderr",
     "output_type": "stream",
     "text": [
      "\r",
      "  4%|▎         | 37/1000 [01:11<31:11,  1.94s/it]"
     ]
    },
    {
     "name": "stdout",
     "output_type": "stream",
     "text": [
      "TRAIN loss: 0.0022141647834768934\n",
      "VAL loss: 0.002584794037783706\n"
     ]
    },
    {
     "name": "stderr",
     "output_type": "stream",
     "text": [
      "\r",
      "  4%|▍         | 38/1000 [01:13<31:23,  1.96s/it]"
     ]
    },
    {
     "name": "stdout",
     "output_type": "stream",
     "text": [
      "TRAIN loss: 0.002148264181238532\n",
      "VAL loss: 0.002827062474410868\n"
     ]
    },
    {
     "name": "stderr",
     "output_type": "stream",
     "text": [
      "\r",
      "  4%|▍         | 39/1000 [01:15<31:42,  1.98s/it]"
     ]
    },
    {
     "name": "stdout",
     "output_type": "stream",
     "text": [
      "TRAIN loss: 0.0021662472748511913\n",
      "VAL loss: 0.0025230153320213032\n"
     ]
    },
    {
     "name": "stderr",
     "output_type": "stream",
     "text": [
      "\r",
      "  4%|▍         | 40/1000 [01:17<31:21,  1.96s/it]"
     ]
    },
    {
     "name": "stdout",
     "output_type": "stream",
     "text": [
      "TRAIN loss: 0.0021177952117590795\n",
      "VAL loss: 0.0026149821159466733\n"
     ]
    },
    {
     "name": "stderr",
     "output_type": "stream",
     "text": [
      "\r",
      "  4%|▍         | 41/1000 [01:19<30:45,  1.92s/it]"
     ]
    },
    {
     "name": "stdout",
     "output_type": "stream",
     "text": [
      "TRAIN loss: 0.0021245028832333466\n",
      "VAL loss: 0.0028000830271511057\n"
     ]
    },
    {
     "name": "stderr",
     "output_type": "stream",
     "text": [
      "\r",
      "  4%|▍         | 42/1000 [01:21<30:38,  1.92s/it]"
     ]
    },
    {
     "name": "stdout",
     "output_type": "stream",
     "text": [
      "TRAIN loss: 0.002121474710564338\n",
      "VAL loss: 0.0023749346003816814\n"
     ]
    },
    {
     "name": "stderr",
     "output_type": "stream",
     "text": [
      "\r",
      "  4%|▍         | 43/1000 [01:23<30:32,  1.92s/it]"
     ]
    },
    {
     "name": "stdout",
     "output_type": "stream",
     "text": [
      "TRAIN loss: 0.002092367580940177\n",
      "VAL loss: 0.0024155226668452403\n"
     ]
    },
    {
     "name": "stderr",
     "output_type": "stream",
     "text": [
      "\r",
      "  4%|▍         | 44/1000 [01:25<30:28,  1.91s/it]"
     ]
    },
    {
     "name": "stdout",
     "output_type": "stream",
     "text": [
      "TRAIN loss: 0.002070600740987329\n",
      "VAL loss: 0.002633469528729569\n",
      "TRAIN loss: 0.0020626644368927716\n",
      "VAL loss: 0.002554027336535562\n"
     ]
    },
    {
     "name": "stderr",
     "output_type": "stream",
     "text": [
      "  4%|▍         | 45/1000 [01:27<30:51,  1.94s/it]\n"
     ]
    },
    {
     "name": "stdout",
     "output_type": "stream",
     "text": [
      "TRAIN loss: 0.0020085895017321596\n",
      "VAL loss: 0.0023749346003816814\n",
      "TEST loss: 0.0023711997983818563\n"
     ]
    },
    {
     "data": {
      "application/javascript": [
       "\n",
       "            setTimeout(function() {\n",
       "                var nbb_cell_id = 15;\n",
       "                var nbb_unformatted_code = \"fitted_model = train_model(\\n    model=model,\\n    data_dict=data_dict,\\n    optimizer=optimizer,\\n    criterion=criterion,\\n    n_epochs=1000,\\n    early_stopping=20,\\n)\";\n",
       "                var nbb_formatted_code = \"fitted_model = train_model(\\n    model=model,\\n    data_dict=data_dict,\\n    optimizer=optimizer,\\n    criterion=criterion,\\n    n_epochs=1000,\\n    early_stopping=20,\\n)\";\n",
       "                var nbb_cells = Jupyter.notebook.get_cells();\n",
       "                for (var i = 0; i < nbb_cells.length; ++i) {\n",
       "                    if (nbb_cells[i].input_prompt_number == nbb_cell_id) {\n",
       "                        if (nbb_cells[i].get_text() == nbb_unformatted_code) {\n",
       "                             nbb_cells[i].set_text(nbb_formatted_code);\n",
       "                        }\n",
       "                        break;\n",
       "                    }\n",
       "                }\n",
       "            }, 500);\n",
       "            "
      ],
      "text/plain": [
       "<IPython.core.display.Javascript object>"
      ]
     },
     "metadata": {},
     "output_type": "display_data"
    }
   ],
   "source": [
    "fitted_model = train_model(\n",
    "    model=model,\n",
    "    data_dict=data_dict,\n",
    "    optimizer=optimizer,\n",
    "    criterion=criterion,\n",
    "    n_epochs=1000,\n",
    "    early_stopping=20,\n",
    ")"
   ]
  },
  {
   "cell_type": "code",
   "execution_count": 16,
   "id": "2f1d98e6",
   "metadata": {},
   "outputs": [
    {
     "name": "stdout",
     "output_type": "stream",
     "text": [
      "TRAIN top-[1, 3, 5, 10, 20, 50] accuracies: [0.1755 0.2782 0.3314 0.4206 0.5253 0.7141]\n",
      "TRAIN top-[1, 3, 5, 10, 20, 50] baseline accuracies: [0.0714 0.1891 0.2728 0.4457 0.6835 1.    ]\n",
      " \n",
      "VAL top-[1, 3, 5, 10, 20, 50] accuracies: [0.1404 0.2228 0.2703 0.355  0.4559 0.6496]\n",
      "VAL top-[1, 3, 5, 10, 20, 50] baseline accuracies: [0.0761 0.1917 0.277  0.4522 0.6875 1.    ]\n",
      " \n",
      "TEST top-[1, 3, 5, 10, 20, 50] accuracies: [0.138  0.2171 0.2666 0.3473 0.4504 0.6442]\n",
      "TEST top-[1, 3, 5, 10, 20, 50] baseline accuracies: [0.0717 0.1866 0.2765 0.4583 0.6949 1.    ]\n",
      " \n"
     ]
    },
    {
     "data": {
      "application/javascript": [
       "\n",
       "            setTimeout(function() {\n",
       "                var nbb_cell_id = 16;\n",
       "                var nbb_unformatted_code = \"ks = [1, 3, 5, 10, 20, 50]\\nfor mode in [\\\"train\\\", \\\"val\\\", \\\"test\\\"]:\\n    topk_accs = []\\n    topk_base_accs = []\\n    preds, labels = get_preds_label_dict(fitted_model, data_dict[mode])\\n    for k in ks:\\n        topk_acc, topk_base_acc = evaluate_top_k_accuracy(preds, labels, node_embs, k=k)\\n        topk_accs.append(topk_acc)\\n        topk_base_accs.append(topk_base_acc)\\n    print(\\\"{} top-{} accuracies: {}\\\".format(mode.upper(), ks, np.round(topk_accs, 4)))\\n    print(\\n        \\\"{} top-{} baseline accuracies: {}\\\".format(\\n            mode.upper(), ks, np.round(topk_base_accs, 4)\\n        )\\n    )\\n    print(\\\" \\\")\";\n",
       "                var nbb_formatted_code = \"ks = [1, 3, 5, 10, 20, 50]\\nfor mode in [\\\"train\\\", \\\"val\\\", \\\"test\\\"]:\\n    topk_accs = []\\n    topk_base_accs = []\\n    preds, labels = get_preds_label_dict(fitted_model, data_dict[mode])\\n    for k in ks:\\n        topk_acc, topk_base_acc = evaluate_top_k_accuracy(preds, labels, node_embs, k=k)\\n        topk_accs.append(topk_acc)\\n        topk_base_accs.append(topk_base_acc)\\n    print(\\\"{} top-{} accuracies: {}\\\".format(mode.upper(), ks, np.round(topk_accs, 4)))\\n    print(\\n        \\\"{} top-{} baseline accuracies: {}\\\".format(\\n            mode.upper(), ks, np.round(topk_base_accs, 4)\\n        )\\n    )\\n    print(\\\" \\\")\";\n",
       "                var nbb_cells = Jupyter.notebook.get_cells();\n",
       "                for (var i = 0; i < nbb_cells.length; ++i) {\n",
       "                    if (nbb_cells[i].input_prompt_number == nbb_cell_id) {\n",
       "                        if (nbb_cells[i].get_text() == nbb_unformatted_code) {\n",
       "                             nbb_cells[i].set_text(nbb_formatted_code);\n",
       "                        }\n",
       "                        break;\n",
       "                    }\n",
       "                }\n",
       "            }, 500);\n",
       "            "
      ],
      "text/plain": [
       "<IPython.core.display.Javascript object>"
      ]
     },
     "metadata": {},
     "output_type": "display_data"
    }
   ],
   "source": [
    "ks = [1, 3, 5, 10, 20, 50]\n",
    "for mode in [\"train\", \"val\", \"test\"]:\n",
    "    topk_accs = []\n",
    "    topk_base_accs = []\n",
    "    preds, labels = get_preds_label_dict(fitted_model, data_dict[mode])\n",
    "    for k in ks:\n",
    "        topk_acc, topk_base_acc = evaluate_top_k_accuracy(preds, labels, node_embs, k=k)\n",
    "        topk_accs.append(topk_acc)\n",
    "        topk_base_accs.append(topk_base_acc)\n",
    "    print(\"{} top-{} accuracies: {}\".format(mode.upper(), ks, np.round(topk_accs, 4)))\n",
    "    print(\n",
    "        \"{} top-{} baseline accuracies: {}\".format(\n",
    "            mode.upper(), ks, np.round(topk_base_accs, 4)\n",
    "        )\n",
    "    )\n",
    "    print(\" \")"
   ]
  },
  {
   "cell_type": "markdown",
   "id": "74ca390a",
   "metadata": {},
   "source": [
    "We see that the top-k accuracy suggest indeed a prediction that is better than naive baseline that simply predicts the k-most frequent targets for k<20 for larger k we see that the baseline outperforms the fitted model. The performances of the model on the training, validation and test set are highly comparable."
   ]
  },
  {
   "cell_type": "markdown",
   "id": "1a0e80a1",
   "metadata": {},
   "source": [
    "---\n",
    "\n",
    "### 4.2. Out-of-sample prediction"
   ]
  },
  {
   "cell_type": "code",
   "execution_count": 25,
   "id": "de19e595",
   "metadata": {},
   "outputs": [
    {
     "data": {
      "application/javascript": [
       "\n",
       "            setTimeout(function() {\n",
       "                var nbb_cell_id = 25;\n",
       "                var nbb_unformatted_code = \"data_dict = get_data_dict(\\n    data=img_embs_fold0,\\n    labels=node_embs_fold0,\\n    val_test_size=[0.2, 0.2],\\n    group_labels=np.array(list(node_embs_fold0.index)),\\n    batch_size=128,\\n)\";\n",
       "                var nbb_formatted_code = \"data_dict = get_data_dict(\\n    data=img_embs_fold0,\\n    labels=node_embs_fold0,\\n    val_test_size=[0.2, 0.2],\\n    group_labels=np.array(list(node_embs_fold0.index)),\\n    batch_size=128,\\n)\";\n",
       "                var nbb_cells = Jupyter.notebook.get_cells();\n",
       "                for (var i = 0; i < nbb_cells.length; ++i) {\n",
       "                    if (nbb_cells[i].input_prompt_number == nbb_cell_id) {\n",
       "                        if (nbb_cells[i].get_text() == nbb_unformatted_code) {\n",
       "                             nbb_cells[i].set_text(nbb_formatted_code);\n",
       "                        }\n",
       "                        break;\n",
       "                    }\n",
       "                }\n",
       "            }, 500);\n",
       "            "
      ],
      "text/plain": [
       "<IPython.core.display.Javascript object>"
      ]
     },
     "metadata": {},
     "output_type": "display_data"
    }
   ],
   "source": [
    "data_dict = get_data_dict(\n",
    "    data=img_embs_fold0,\n",
    "    labels=node_embs_fold0,\n",
    "    val_test_size=[0.2, 0.2],\n",
    "    group_labels=np.array(list(node_embs_fold0.index)),\n",
    "    batch_size=128,\n",
    ")"
   ]
  },
  {
   "cell_type": "code",
   "execution_count": 27,
   "id": "324cfcad",
   "metadata": {},
   "outputs": [
    {
     "data": {
      "application/javascript": [
       "\n",
       "            setTimeout(function() {\n",
       "                var nbb_cell_id = 27;\n",
       "                var nbb_unformatted_code = \"model = nn.Sequential(\\n    nn.Linear(1024, 1024),\\n    nn.PReLU(),\\n    nn.BatchNorm1d(1024),\\n    nn.Linear(1024, 128),\\n)\\noptimizer = Adam(model.parameters(), lr=1e-4)\\ncriterion = nn.MSELoss()\";\n",
       "                var nbb_formatted_code = \"model = nn.Sequential(\\n    nn.Linear(1024, 1024),\\n    nn.PReLU(),\\n    nn.BatchNorm1d(1024),\\n    nn.Linear(1024, 128),\\n)\\noptimizer = Adam(model.parameters(), lr=1e-4)\\ncriterion = nn.MSELoss()\";\n",
       "                var nbb_cells = Jupyter.notebook.get_cells();\n",
       "                for (var i = 0; i < nbb_cells.length; ++i) {\n",
       "                    if (nbb_cells[i].input_prompt_number == nbb_cell_id) {\n",
       "                        if (nbb_cells[i].get_text() == nbb_unformatted_code) {\n",
       "                             nbb_cells[i].set_text(nbb_formatted_code);\n",
       "                        }\n",
       "                        break;\n",
       "                    }\n",
       "                }\n",
       "            }, 500);\n",
       "            "
      ],
      "text/plain": [
       "<IPython.core.display.Javascript object>"
      ]
     },
     "metadata": {},
     "output_type": "display_data"
    }
   ],
   "source": [
    "model = nn.Sequential(\n",
    "    nn.Linear(1024, 1024),\n",
    "    nn.PReLU(),\n",
    "    nn.BatchNorm1d(1024),\n",
    "    nn.Linear(1024, 128),\n",
    ")\n",
    "optimizer = Adam(model.parameters(), lr=1e-4)\n",
    "criterion = nn.MSELoss()"
   ]
  },
  {
   "cell_type": "code",
   "execution_count": 28,
   "id": "c2c8ed9a",
   "metadata": {},
   "outputs": [
    {
     "name": "stderr",
     "output_type": "stream",
     "text": [
      "  0%|          | 1/1000 [00:01<31:42,  1.90s/it]"
     ]
    },
    {
     "name": "stdout",
     "output_type": "stream",
     "text": [
      "TRAIN loss: 0.05153900090753767\n",
      "VAL loss: 0.021213453760211352\n"
     ]
    },
    {
     "name": "stderr",
     "output_type": "stream",
     "text": [
      "\r",
      "  0%|          | 2/1000 [00:03<32:04,  1.93s/it]"
     ]
    },
    {
     "name": "stdout",
     "output_type": "stream",
     "text": [
      "TRAIN loss: 0.013752677181743759\n",
      "VAL loss: 0.011203583337301953\n"
     ]
    },
    {
     "name": "stderr",
     "output_type": "stream",
     "text": [
      "\r",
      "  0%|          | 3/1000 [00:05<32:16,  1.94s/it]"
     ]
    },
    {
     "name": "stdout",
     "output_type": "stream",
     "text": [
      "TRAIN loss: 0.008618749280813472\n",
      "VAL loss: 0.008212178904457015\n"
     ]
    },
    {
     "name": "stderr",
     "output_type": "stream",
     "text": [
      "\r",
      "  0%|          | 4/1000 [00:07<32:31,  1.96s/it]"
     ]
    },
    {
     "name": "stdout",
     "output_type": "stream",
     "text": [
      "TRAIN loss: 0.006468091472044348\n",
      "VAL loss: 0.006859901134741794\n"
     ]
    },
    {
     "name": "stderr",
     "output_type": "stream",
     "text": [
      "\r",
      "  0%|          | 5/1000 [00:09<32:34,  1.96s/it]"
     ]
    },
    {
     "name": "stdout",
     "output_type": "stream",
     "text": [
      "TRAIN loss: 0.005283115644277022\n",
      "VAL loss: 0.006100466759423027\n"
     ]
    },
    {
     "name": "stderr",
     "output_type": "stream",
     "text": [
      "\r",
      "  1%|          | 6/1000 [00:11<32:40,  1.97s/it]"
     ]
    },
    {
     "name": "stdout",
     "output_type": "stream",
     "text": [
      "TRAIN loss: 0.004545568982020532\n",
      "VAL loss: 0.005370264296342597\n"
     ]
    },
    {
     "name": "stderr",
     "output_type": "stream",
     "text": [
      "\r",
      "  1%|          | 7/1000 [00:13<32:29,  1.96s/it]"
     ]
    },
    {
     "name": "stdout",
     "output_type": "stream",
     "text": [
      "TRAIN loss: 0.0039564580877420805\n",
      "VAL loss: 0.004824942794179513\n",
      "TRAIN loss: 0.0035607276926272282\n",
      "VAL loss: 0.00466220999030394\n"
     ]
    },
    {
     "name": "stderr",
     "output_type": "stream",
     "text": [
      "  1%|          | 9/1000 [00:17<33:21,  2.02s/it]"
     ]
    },
    {
     "name": "stdout",
     "output_type": "stream",
     "text": [
      "TRAIN loss: 0.0032584929512890584\n",
      "VAL loss: 0.00455332531113653\n"
     ]
    },
    {
     "name": "stderr",
     "output_type": "stream",
     "text": [
      "\r",
      "  1%|          | 10/1000 [00:19<32:58,  2.00s/it]"
     ]
    },
    {
     "name": "stdout",
     "output_type": "stream",
     "text": [
      "TRAIN loss: 0.003021478082367695\n",
      "VAL loss: 0.0042423568341403255\n"
     ]
    },
    {
     "name": "stderr",
     "output_type": "stream",
     "text": [
      "\r",
      "  1%|          | 11/1000 [00:21<32:42,  1.98s/it]"
     ]
    },
    {
     "name": "stdout",
     "output_type": "stream",
     "text": [
      "TRAIN loss: 0.0028371454288152755\n",
      "VAL loss: 0.004093128966820765\n"
     ]
    },
    {
     "name": "stderr",
     "output_type": "stream",
     "text": [
      "\r",
      "  1%|          | 12/1000 [00:23<32:26,  1.97s/it]"
     ]
    },
    {
     "name": "stdout",
     "output_type": "stream",
     "text": [
      "TRAIN loss: 0.0026744301072422192\n",
      "VAL loss: 0.003885721709651935\n"
     ]
    },
    {
     "name": "stderr",
     "output_type": "stream",
     "text": [
      "\r",
      "  1%|▏         | 13/1000 [00:25<32:18,  1.96s/it]"
     ]
    },
    {
     "name": "stdout",
     "output_type": "stream",
     "text": [
      "TRAIN loss: 0.002548213412306697\n",
      "VAL loss: 0.0038977025455277058\n",
      "TRAIN loss: 0.002460434597961817\n"
     ]
    },
    {
     "name": "stderr",
     "output_type": "stream",
     "text": [
      "\r",
      "  1%|▏         | 14/1000 [00:27<33:02,  2.01s/it]"
     ]
    },
    {
     "name": "stdout",
     "output_type": "stream",
     "text": [
      "VAL loss: 0.0038331392738458043\n"
     ]
    },
    {
     "name": "stderr",
     "output_type": "stream",
     "text": [
      "\r",
      "  2%|▏         | 15/1000 [00:29<32:45,  2.00s/it]"
     ]
    },
    {
     "name": "stdout",
     "output_type": "stream",
     "text": [
      "TRAIN loss: 0.002367572914729331\n",
      "VAL loss: 0.0038131926872604785\n"
     ]
    },
    {
     "name": "stderr",
     "output_type": "stream",
     "text": [
      "\r",
      "  2%|▏         | 16/1000 [00:31<32:26,  1.98s/it]"
     ]
    },
    {
     "name": "stdout",
     "output_type": "stream",
     "text": [
      "TRAIN loss: 0.0022842762263925293\n",
      "VAL loss: 0.0036396876197940724\n",
      "TRAIN loss: 0.00221702444183583\n"
     ]
    },
    {
     "name": "stderr",
     "output_type": "stream",
     "text": [
      "\r",
      "  2%|▏         | 17/1000 [00:33<32:49,  2.00s/it]"
     ]
    },
    {
     "name": "stdout",
     "output_type": "stream",
     "text": [
      "VAL loss: 0.003733669389345103\n"
     ]
    },
    {
     "name": "stderr",
     "output_type": "stream",
     "text": [
      "\r",
      "  2%|▏         | 18/1000 [00:35<32:29,  1.99s/it]"
     ]
    },
    {
     "name": "stdout",
     "output_type": "stream",
     "text": [
      "TRAIN loss: 0.0021656221931195085\n",
      "VAL loss: 0.003538104918637674\n"
     ]
    },
    {
     "name": "stderr",
     "output_type": "stream",
     "text": [
      "\r",
      "  2%|▏         | 19/1000 [00:37<32:18,  1.98s/it]"
     ]
    },
    {
     "name": "stdout",
     "output_type": "stream",
     "text": [
      "TRAIN loss: 0.002115107133489112\n",
      "VAL loss: 0.00363555522947174\n"
     ]
    },
    {
     "name": "stderr",
     "output_type": "stream",
     "text": [
      "\r",
      "  2%|▏         | 20/1000 [00:39<32:34,  1.99s/it]"
     ]
    },
    {
     "name": "stdout",
     "output_type": "stream",
     "text": [
      "TRAIN loss: 0.0020698788835799456\n",
      "VAL loss: 0.003625390221638307\n"
     ]
    },
    {
     "name": "stderr",
     "output_type": "stream",
     "text": [
      "\r",
      "  2%|▏         | 21/1000 [00:41<32:40,  2.00s/it]"
     ]
    },
    {
     "name": "stdout",
     "output_type": "stream",
     "text": [
      "TRAIN loss: 0.0020487384309043166\n",
      "VAL loss: 0.0036469649918183518\n"
     ]
    },
    {
     "name": "stderr",
     "output_type": "stream",
     "text": [
      "\r",
      "  2%|▏         | 22/1000 [00:43<32:30,  1.99s/it]"
     ]
    },
    {
     "name": "stdout",
     "output_type": "stream",
     "text": [
      "TRAIN loss: 0.001995780275071143\n",
      "VAL loss: 0.003608580728585438\n"
     ]
    },
    {
     "name": "stderr",
     "output_type": "stream",
     "text": [
      "\r",
      "  2%|▏         | 23/1000 [00:45<32:52,  2.02s/it]"
     ]
    },
    {
     "name": "stdout",
     "output_type": "stream",
     "text": [
      "TRAIN loss: 0.001964980658156693\n",
      "VAL loss: 0.0036087838914406934\n",
      "TRAIN loss: 0.0019334026456141688\n"
     ]
    },
    {
     "name": "stderr",
     "output_type": "stream",
     "text": [
      "\r",
      "  2%|▏         | 24/1000 [00:47<33:09,  2.04s/it]"
     ]
    },
    {
     "name": "stdout",
     "output_type": "stream",
     "text": [
      "VAL loss: 0.0035023760427045723\n"
     ]
    },
    {
     "name": "stderr",
     "output_type": "stream",
     "text": [
      "\r",
      "  2%|▎         | 25/1000 [00:49<33:19,  2.05s/it]"
     ]
    },
    {
     "name": "stdout",
     "output_type": "stream",
     "text": [
      "TRAIN loss: 0.001920290433973211\n",
      "VAL loss: 0.0035276314373216978\n"
     ]
    },
    {
     "name": "stderr",
     "output_type": "stream",
     "text": [
      "\r",
      "  3%|▎         | 26/1000 [00:51<33:15,  2.05s/it]"
     ]
    },
    {
     "name": "stdout",
     "output_type": "stream",
     "text": [
      "TRAIN loss: 0.0018990153250153846\n",
      "VAL loss: 0.0035104972874697256\n"
     ]
    },
    {
     "name": "stderr",
     "output_type": "stream",
     "text": [
      "\r",
      "  3%|▎         | 27/1000 [00:53<32:59,  2.03s/it]"
     ]
    },
    {
     "name": "stdout",
     "output_type": "stream",
     "text": [
      "TRAIN loss: 0.0018576078255988808\n",
      "VAL loss: 0.0035470576537801864\n"
     ]
    },
    {
     "name": "stderr",
     "output_type": "stream",
     "text": [
      "\r",
      "  3%|▎         | 28/1000 [00:55<32:20,  2.00s/it]"
     ]
    },
    {
     "name": "stdout",
     "output_type": "stream",
     "text": [
      "TRAIN loss: 0.0018526195647474888\n",
      "VAL loss: 0.003598537348681666\n",
      "TRAIN loss: 0.0018495904546064303\n"
     ]
    },
    {
     "name": "stderr",
     "output_type": "stream",
     "text": [
      "\r",
      "  3%|▎         | 29/1000 [00:57<32:12,  1.99s/it]"
     ]
    },
    {
     "name": "stdout",
     "output_type": "stream",
     "text": [
      "VAL loss: 0.0035630710603313837\n"
     ]
    },
    {
     "name": "stderr",
     "output_type": "stream",
     "text": [
      "\r",
      "  3%|▎         | 30/1000 [00:59<32:30,  2.01s/it]"
     ]
    },
    {
     "name": "stdout",
     "output_type": "stream",
     "text": [
      "TRAIN loss: 0.0018059704222160326\n",
      "VAL loss: 0.0034173011642741097\n"
     ]
    },
    {
     "name": "stderr",
     "output_type": "stream",
     "text": [
      "\r",
      "  3%|▎         | 31/1000 [01:01<32:35,  2.02s/it]"
     ]
    },
    {
     "name": "stdout",
     "output_type": "stream",
     "text": [
      "TRAIN loss: 0.0017852244459515513\n",
      "VAL loss: 0.0032941027487745876\n",
      "TRAIN loss: 0.001788279420543627\n"
     ]
    },
    {
     "name": "stderr",
     "output_type": "stream",
     "text": [
      "\r",
      "  3%|▎         | 32/1000 [01:04<33:02,  2.05s/it]"
     ]
    },
    {
     "name": "stdout",
     "output_type": "stream",
     "text": [
      "VAL loss: 0.0032978170406237207\n"
     ]
    },
    {
     "name": "stderr",
     "output_type": "stream",
     "text": [
      "\r",
      "  3%|▎         | 33/1000 [01:05<32:05,  1.99s/it]"
     ]
    },
    {
     "name": "stdout",
     "output_type": "stream",
     "text": [
      "TRAIN loss: 0.0017485892502359533\n",
      "VAL loss: 0.003371961660036307\n",
      "TRAIN loss: 0.0017387729931398598\n"
     ]
    },
    {
     "name": "stderr",
     "output_type": "stream",
     "text": [
      "\r",
      "  3%|▎         | 34/1000 [01:07<32:37,  2.03s/it]"
     ]
    },
    {
     "name": "stdout",
     "output_type": "stream",
     "text": [
      "VAL loss: 0.0033685290111838163\n"
     ]
    },
    {
     "name": "stderr",
     "output_type": "stream",
     "text": [
      "\r",
      "  4%|▎         | 35/1000 [01:10<33:01,  2.05s/it]"
     ]
    },
    {
     "name": "stdout",
     "output_type": "stream",
     "text": [
      "TRAIN loss: 0.0017305061621786255\n",
      "VAL loss: 0.003422048422011698\n"
     ]
    },
    {
     "name": "stderr",
     "output_type": "stream",
     "text": [
      "\r",
      "  4%|▎         | 36/1000 [01:12<32:53,  2.05s/it]"
     ]
    },
    {
     "name": "stdout",
     "output_type": "stream",
     "text": [
      "TRAIN loss: 0.0017023758599746788\n",
      "VAL loss: 0.0034819537107549986\n",
      "TRAIN loss: 0.001705525503036209\n"
     ]
    },
    {
     "name": "stderr",
     "output_type": "stream",
     "text": [
      "\r",
      "  4%|▎         | 37/1000 [01:14<33:10,  2.07s/it]"
     ]
    },
    {
     "name": "stdout",
     "output_type": "stream",
     "text": [
      "VAL loss: 0.0032970075641817597\n"
     ]
    },
    {
     "name": "stderr",
     "output_type": "stream",
     "text": [
      "\r",
      "  4%|▍         | 38/1000 [01:16<32:36,  2.03s/it]"
     ]
    },
    {
     "name": "stdout",
     "output_type": "stream",
     "text": [
      "TRAIN loss: 0.0016888415574165903\n",
      "VAL loss: 0.003402272814926905\n"
     ]
    },
    {
     "name": "stderr",
     "output_type": "stream",
     "text": [
      "\r",
      "  4%|▍         | 39/1000 [01:17<31:21,  1.96s/it]"
     ]
    },
    {
     "name": "stdout",
     "output_type": "stream",
     "text": [
      "TRAIN loss: 0.0016959114666692129\n",
      "VAL loss: 0.0035797798255680054\n"
     ]
    },
    {
     "name": "stderr",
     "output_type": "stream",
     "text": [
      "  4%|▍         | 40/1000 [01:20<32:00,  2.00s/it]"
     ]
    },
    {
     "name": "stdout",
     "output_type": "stream",
     "text": [
      "TRAIN loss: 0.0016592237571489874\n",
      "VAL loss: 0.003420898009869449\n"
     ]
    },
    {
     "name": "stderr",
     "output_type": "stream",
     "text": [
      "\n"
     ]
    },
    {
     "name": "stdout",
     "output_type": "stream",
     "text": [
      "TRAIN loss: 0.001678404423776567\n",
      "VAL loss: 0.0032941027487745876\n",
      "TEST loss: 0.004975452041843656\n"
     ]
    },
    {
     "data": {
      "application/javascript": [
       "\n",
       "            setTimeout(function() {\n",
       "                var nbb_cell_id = 28;\n",
       "                var nbb_unformatted_code = \"fitted_model = train_model(\\n    model=model,\\n    data_dict=data_dict,\\n    optimizer=optimizer,\\n    criterion=criterion,\\n    n_epochs=1000,\\n    early_stopping=20,\\n)\";\n",
       "                var nbb_formatted_code = \"fitted_model = train_model(\\n    model=model,\\n    data_dict=data_dict,\\n    optimizer=optimizer,\\n    criterion=criterion,\\n    n_epochs=1000,\\n    early_stopping=20,\\n)\";\n",
       "                var nbb_cells = Jupyter.notebook.get_cells();\n",
       "                for (var i = 0; i < nbb_cells.length; ++i) {\n",
       "                    if (nbb_cells[i].input_prompt_number == nbb_cell_id) {\n",
       "                        if (nbb_cells[i].get_text() == nbb_unformatted_code) {\n",
       "                             nbb_cells[i].set_text(nbb_formatted_code);\n",
       "                        }\n",
       "                        break;\n",
       "                    }\n",
       "                }\n",
       "            }, 500);\n",
       "            "
      ],
      "text/plain": [
       "<IPython.core.display.Javascript object>"
      ]
     },
     "metadata": {},
     "output_type": "display_data"
    }
   ],
   "source": [
    "fitted_model = train_model(\n",
    "    model=model,\n",
    "    data_dict=data_dict,\n",
    "    optimizer=optimizer,\n",
    "    criterion=criterion,\n",
    "    n_epochs=1000,\n",
    "    early_stopping=20,\n",
    ")"
   ]
  },
  {
   "cell_type": "code",
   "execution_count": 30,
   "id": "58e98536",
   "metadata": {},
   "outputs": [
    {
     "name": "stdout",
     "output_type": "stream",
     "text": [
      "TRAIN top-[1, 3, 5, 10, 20, 50] accuracies: [0.2057 0.3159 0.3755 0.4716 0.5822 0.7633]\n",
      " \n",
      "VAL top-[1, 3, 5, 10, 20, 50] accuracies: [0.1186 0.2009 0.2502 0.331  0.4218 0.5646]\n",
      " \n",
      "TEST top-[1, 3, 5, 10, 20, 50] accuracies: [0.0998 0.155  0.1871 0.2487 0.3213 0.4465]\n",
      " \n"
     ]
    },
    {
     "data": {
      "application/javascript": [
       "\n",
       "            setTimeout(function() {\n",
       "                var nbb_cell_id = 30;\n",
       "                var nbb_unformatted_code = \"ks = [1, 3, 5, 10, 20, 50]\\nfor mode in [\\\"train\\\", \\\"val\\\", \\\"test\\\"]:\\n    topk_accs = []\\n    topk_base_accs = []\\n    preds, labels = get_preds_label_dict(fitted_model, data_dict[mode])\\n    for k in ks:\\n        topk_acc, topk_base_acc = evaluate_top_k_accuracy(preds, labels, node_embs, k=k)\\n        topk_accs.append(topk_acc)\\n        topk_base_accs.append(topk_base_acc)\\n    print(\\\"{} top-{} accuracies: {}\\\".format(mode.upper(), ks, np.round(topk_accs, 4)))\\n#     print(\\n#         \\\"{} top-{} baseline accuracies: {}\\\".format(\\n#             mode.upper(), ks, np.round(topk_base_accs, 4)\\n#         )\\n#     )\\n    print(\\\" \\\")\";\n",
       "                var nbb_formatted_code = \"ks = [1, 3, 5, 10, 20, 50]\\nfor mode in [\\\"train\\\", \\\"val\\\", \\\"test\\\"]:\\n    topk_accs = []\\n    topk_base_accs = []\\n    preds, labels = get_preds_label_dict(fitted_model, data_dict[mode])\\n    for k in ks:\\n        topk_acc, topk_base_acc = evaluate_top_k_accuracy(preds, labels, node_embs, k=k)\\n        topk_accs.append(topk_acc)\\n        topk_base_accs.append(topk_base_acc)\\n    print(\\\"{} top-{} accuracies: {}\\\".format(mode.upper(), ks, np.round(topk_accs, 4)))\\n    #     print(\\n    #         \\\"{} top-{} baseline accuracies: {}\\\".format(\\n    #             mode.upper(), ks, np.round(topk_base_accs, 4)\\n    #         )\\n    #     )\\n    print(\\\" \\\")\";\n",
       "                var nbb_cells = Jupyter.notebook.get_cells();\n",
       "                for (var i = 0; i < nbb_cells.length; ++i) {\n",
       "                    if (nbb_cells[i].input_prompt_number == nbb_cell_id) {\n",
       "                        if (nbb_cells[i].get_text() == nbb_unformatted_code) {\n",
       "                             nbb_cells[i].set_text(nbb_formatted_code);\n",
       "                        }\n",
       "                        break;\n",
       "                    }\n",
       "                }\n",
       "            }, 500);\n",
       "            "
      ],
      "text/plain": [
       "<IPython.core.display.Javascript object>"
      ]
     },
     "metadata": {},
     "output_type": "display_data"
    }
   ],
   "source": [
    "ks = [1, 3, 5, 10, 20, 50]\n",
    "for mode in [\"train\", \"val\", \"test\"]:\n",
    "    topk_accs = []\n",
    "    topk_base_accs = []\n",
    "    preds, labels = get_preds_label_dict(fitted_model, data_dict[mode])\n",
    "    for k in ks:\n",
    "        topk_acc, topk_base_acc = evaluate_top_k_accuracy(preds, labels, node_embs, k=k)\n",
    "        topk_accs.append(topk_acc)\n",
    "        topk_base_accs.append(topk_base_acc)\n",
    "    print(\"{} top-{} accuracies: {}\".format(mode.upper(), ks, np.round(topk_accs, 4)))\n",
    "    #     print(\n",
    "    #         \"{} top-{} baseline accuracies: {}\".format(\n",
    "    #             mode.upper(), ks, np.round(topk_base_accs, 4)\n",
    "    #         )\n",
    "    #     )\n",
    "    print(\" \")"
   ]
  },
  {
   "cell_type": "markdown",
   "id": "9e5dab2e",
   "metadata": {},
   "source": [
    "Note that for the held-out configuration the baseline accuracies are not reliable as those correspond to the most frequent classes in the corresponding data set."
   ]
  },
  {
   "cell_type": "markdown",
   "id": "a5ce4738",
   "metadata": {},
   "source": [
    "---\n",
    "\n",
    "### 4.3. Leave-one-out cross-validation"
   ]
  },
  {
   "cell_type": "markdown",
   "id": "bf9d443e",
   "metadata": {},
   "source": [
    "Finally, we will apply leave-one-target out crossvalidation."
   ]
  },
  {
   "cell_type": "code",
   "execution_count": 48,
   "id": "7c1575d6",
   "metadata": {},
   "outputs": [
    {
     "data": {
      "application/javascript": [
       "\n",
       "            setTimeout(function() {\n",
       "                var nbb_cell_id = 48;\n",
       "                var nbb_unformatted_code = \"def get_logo_data_dicts(\\n    data,\\n    labels,\\n    group_labels,\\n    val_size=0.1,\\n    batch_size=128,\\n    random_state=1234,\\n    scale_x=True,\\n    scale_y=False,\\n):\\n    logo = LeaveOneGroupOut()\\n    data_dicts = []\\n    idc = list(range(len(labels)))\\n    for train_val_idc, test_idc in logo.split(idc, groups=group_labels):\\n        gss = gss = GroupShuffleSplit(\\n            n_splits=2, test_size=val_size, random_state=random_state\\n        )\\n        train_idc, val_idc = next(\\n            gss.split(train_val_idc, groups=group_labels[train_val_idc])\\n        )\\n\\n        train_data, train_labels = data.iloc[train_idc], labels.iloc[train_idc]\\n        val_data, val_labels = data.iloc[val_idc], labels.iloc[val_idc]\\n        test_data, test_labels = data.iloc[test_idc], labels.iloc[test_idc]\\n\\n        if scale_x:\\n            sc = StandardScaler().fit(train_data)\\n            train_data = sc.transform(train_data)\\n            val_data = sc.transform(val_data)\\n            test_data = sc.transform(test_data)\\n\\n        if scale_y:\\n            sc = StandardScaler().fit(train_labels)\\n            train_labels = sc.transform(train_labels)\\n            val_labels = sc.transform(val_labels)\\n            test_labels = sc.transform(test_labels)\\n\\n        train_dataset = IndexedTensorDataset(\\n            torch.FloatTensor(np.array(train_data)),\\n            torch.FloatTensor(np.array(train_labels)),\\n            list(labels.iloc[train_idc].index),\\n        )\\n        train_loader = DataLoader(train_dataset, batch_size=batch_size, shuffle=True)\\n\\n        val_dataset = IndexedTensorDataset(\\n            torch.FloatTensor(np.array(val_data)),\\n            torch.FloatTensor(np.array(val_labels)),\\n            list(labels.iloc[val_idc].index),\\n        )\\n        val_loader = DataLoader(val_dataset, batch_size=batch_size, shuffle=False)\\n\\n        test_dataset = IndexedTensorDataset(\\n            torch.FloatTensor(np.array(test_data)),\\n            torch.FloatTensor(np.array(test_labels)),\\n            list(labels.iloc[test_idc].index),\\n        )\\n        test_loader = DataLoader(test_dataset, batch_size=batch_size, shuffle=False)\\n\\n        data_dict = {\\\"train\\\": train_loader, \\\"val\\\": val_loader, \\\"test\\\": test_loader}\\n        data_dicts.append(data_dict)\\n    return data_dicts\";\n",
       "                var nbb_formatted_code = \"def get_logo_data_dicts(\\n    data,\\n    labels,\\n    group_labels,\\n    val_size=0.1,\\n    batch_size=128,\\n    random_state=1234,\\n    scale_x=True,\\n    scale_y=False,\\n):\\n    logo = LeaveOneGroupOut()\\n    data_dicts = []\\n    idc = list(range(len(labels)))\\n    for train_val_idc, test_idc in logo.split(idc, groups=group_labels):\\n        gss = gss = GroupShuffleSplit(\\n            n_splits=2, test_size=val_size, random_state=random_state\\n        )\\n        train_idc, val_idc = next(\\n            gss.split(train_val_idc, groups=group_labels[train_val_idc])\\n        )\\n\\n        train_data, train_labels = data.iloc[train_idc], labels.iloc[train_idc]\\n        val_data, val_labels = data.iloc[val_idc], labels.iloc[val_idc]\\n        test_data, test_labels = data.iloc[test_idc], labels.iloc[test_idc]\\n\\n        if scale_x:\\n            sc = StandardScaler().fit(train_data)\\n            train_data = sc.transform(train_data)\\n            val_data = sc.transform(val_data)\\n            test_data = sc.transform(test_data)\\n\\n        if scale_y:\\n            sc = StandardScaler().fit(train_labels)\\n            train_labels = sc.transform(train_labels)\\n            val_labels = sc.transform(val_labels)\\n            test_labels = sc.transform(test_labels)\\n\\n        train_dataset = IndexedTensorDataset(\\n            torch.FloatTensor(np.array(train_data)),\\n            torch.FloatTensor(np.array(train_labels)),\\n            list(labels.iloc[train_idc].index),\\n        )\\n        train_loader = DataLoader(train_dataset, batch_size=batch_size, shuffle=True)\\n\\n        val_dataset = IndexedTensorDataset(\\n            torch.FloatTensor(np.array(val_data)),\\n            torch.FloatTensor(np.array(val_labels)),\\n            list(labels.iloc[val_idc].index),\\n        )\\n        val_loader = DataLoader(val_dataset, batch_size=batch_size, shuffle=False)\\n\\n        test_dataset = IndexedTensorDataset(\\n            torch.FloatTensor(np.array(test_data)),\\n            torch.FloatTensor(np.array(test_labels)),\\n            list(labels.iloc[test_idc].index),\\n        )\\n        test_loader = DataLoader(test_dataset, batch_size=batch_size, shuffle=False)\\n\\n        data_dict = {\\\"train\\\": train_loader, \\\"val\\\": val_loader, \\\"test\\\": test_loader}\\n        data_dicts.append(data_dict)\\n    return data_dicts\";\n",
       "                var nbb_cells = Jupyter.notebook.get_cells();\n",
       "                for (var i = 0; i < nbb_cells.length; ++i) {\n",
       "                    if (nbb_cells[i].input_prompt_number == nbb_cell_id) {\n",
       "                        if (nbb_cells[i].get_text() == nbb_unformatted_code) {\n",
       "                             nbb_cells[i].set_text(nbb_formatted_code);\n",
       "                        }\n",
       "                        break;\n",
       "                    }\n",
       "                }\n",
       "            }, 500);\n",
       "            "
      ],
      "text/plain": [
       "<IPython.core.display.Javascript object>"
      ]
     },
     "metadata": {},
     "output_type": "display_data"
    }
   ],
   "source": [
    "def get_logo_data_dicts(\n",
    "    data,\n",
    "    labels,\n",
    "    group_labels,\n",
    "    val_size=0.1,\n",
    "    batch_size=128,\n",
    "    random_state=1234,\n",
    "    scale_x=True,\n",
    "    scale_y=False,\n",
    "):\n",
    "    logo = LeaveOneGroupOut()\n",
    "    data_dicts = []\n",
    "    idc = list(range(len(labels)))\n",
    "    for train_val_idc, test_idc in logo.split(idc, groups=group_labels):\n",
    "        gss = gss = GroupShuffleSplit(\n",
    "            n_splits=2, test_size=val_size, random_state=random_state\n",
    "        )\n",
    "        train_idc, val_idc = next(\n",
    "            gss.split(train_val_idc, groups=group_labels[train_val_idc])\n",
    "        )\n",
    "\n",
    "        train_data, train_labels = data.iloc[train_idc], labels.iloc[train_idc]\n",
    "        val_data, val_labels = data.iloc[val_idc], labels.iloc[val_idc]\n",
    "        test_data, test_labels = data.iloc[test_idc], labels.iloc[test_idc]\n",
    "\n",
    "        if scale_x:\n",
    "            sc = StandardScaler().fit(train_data)\n",
    "            train_data = sc.transform(train_data)\n",
    "            val_data = sc.transform(val_data)\n",
    "            test_data = sc.transform(test_data)\n",
    "\n",
    "        if scale_y:\n",
    "            sc = StandardScaler().fit(train_labels)\n",
    "            train_labels = sc.transform(train_labels)\n",
    "            val_labels = sc.transform(val_labels)\n",
    "            test_labels = sc.transform(test_labels)\n",
    "\n",
    "        train_dataset = IndexedTensorDataset(\n",
    "            torch.FloatTensor(np.array(train_data)),\n",
    "            torch.FloatTensor(np.array(train_labels)),\n",
    "            list(labels.iloc[train_idc].index),\n",
    "        )\n",
    "        train_loader = DataLoader(train_dataset, batch_size=batch_size, shuffle=True)\n",
    "\n",
    "        val_dataset = IndexedTensorDataset(\n",
    "            torch.FloatTensor(np.array(val_data)),\n",
    "            torch.FloatTensor(np.array(val_labels)),\n",
    "            list(labels.iloc[val_idc].index),\n",
    "        )\n",
    "        val_loader = DataLoader(val_dataset, batch_size=batch_size, shuffle=False)\n",
    "\n",
    "        test_dataset = IndexedTensorDataset(\n",
    "            torch.FloatTensor(np.array(test_data)),\n",
    "            torch.FloatTensor(np.array(test_labels)),\n",
    "            list(labels.iloc[test_idc].index),\n",
    "        )\n",
    "        test_loader = DataLoader(test_dataset, batch_size=batch_size, shuffle=False)\n",
    "\n",
    "        data_dict = {\"train\": train_loader, \"val\": val_loader, \"test\": test_loader}\n",
    "        data_dicts.append(data_dict)\n",
    "    return data_dicts"
   ]
  },
  {
   "cell_type": "code",
   "execution_count": 49,
   "id": "d7cb850f",
   "metadata": {},
   "outputs": [
    {
     "data": {
      "application/javascript": [
       "\n",
       "            setTimeout(function() {\n",
       "                var nbb_cell_id = 49;\n",
       "                var nbb_unformatted_code = \"data_dicts = get_logo_data_dicts(\\n    data=img_embs_fold0,\\n    labels=node_embs_fold0,\\n    val_size=0.1,\\n    group_labels=np.array(list(node_embs_fold0.index)),\\n    batch_size=128,\\n)\";\n",
       "                var nbb_formatted_code = \"data_dicts = get_logo_data_dicts(\\n    data=img_embs_fold0,\\n    labels=node_embs_fold0,\\n    val_size=0.1,\\n    group_labels=np.array(list(node_embs_fold0.index)),\\n    batch_size=128,\\n)\";\n",
       "                var nbb_cells = Jupyter.notebook.get_cells();\n",
       "                for (var i = 0; i < nbb_cells.length; ++i) {\n",
       "                    if (nbb_cells[i].input_prompt_number == nbb_cell_id) {\n",
       "                        if (nbb_cells[i].get_text() == nbb_unformatted_code) {\n",
       "                             nbb_cells[i].set_text(nbb_formatted_code);\n",
       "                        }\n",
       "                        break;\n",
       "                    }\n",
       "                }\n",
       "            }, 500);\n",
       "            "
      ],
      "text/plain": [
       "<IPython.core.display.Javascript object>"
      ]
     },
     "metadata": {},
     "output_type": "display_data"
    }
   ],
   "source": [
    "data_dicts = get_logo_data_dicts(\n",
    "    data=img_embs_fold0,\n",
    "    labels=node_embs_fold0,\n",
    "    val_size=0.1,\n",
    "    group_labels=np.array(list(node_embs_fold0.index)),\n",
    "    batch_size=128,\n",
    ")"
   ]
  },
  {
   "cell_type": "code",
   "execution_count": 59,
   "id": "90ce9795",
   "metadata": {
    "scrolled": true
   },
   "outputs": [
    {
     "name": "stderr",
     "output_type": "stream",
     "text": [
      "\r",
      "  0%|          | 0/43 [00:00<?, ?it/s]"
     ]
    },
    {
     "name": "stdout",
     "output_type": "stream",
     "text": [
      "TRAIN loss: 0.002368250949839358\n",
      "VAL loss: 0.0037462071118761165\n",
      "TEST loss: 0.000957269584349717\n",
      "TRAIN top-[1, 3, 5, 10, 20, 50] accuracies: [0.145  0.238  0.2902 0.3767 0.4814 0.6707]\n",
      " \n",
      "VAL top-[1, 3, 5, 10, 20, 50] accuracies: [0.044  0.0742 0.0941 0.1289 0.182  0.3807]\n",
      " \n",
      "Left-out label: AKT1S1\n"
     ]
    },
    {
     "name": "stderr",
     "output_type": "stream",
     "text": [
      "\r",
      "  2%|▏         | 1/43 [00:58<40:48, 58.29s/it]"
     ]
    },
    {
     "name": "stdout",
     "output_type": "stream",
     "text": [
      "TEST top-[1, 3, 5, 10, 20, 50] accuracies: [0.3441 0.6314 0.79   0.9326 0.9839 1.    ]\n",
      " \n",
      "TRAIN loss: 0.0022714127204746123\n",
      "VAL loss: 0.0065110403086239875\n",
      "TEST loss: 0.00624244865821863\n",
      "TRAIN top-[1, 3, 5, 10, 20, 50] accuracies: [0.1325 0.2203 0.275  0.3626 0.4686 0.6654]\n",
      " \n"
     ]
    },
    {
     "name": "stderr",
     "output_type": "stream",
     "text": [
      "\r",
      "  5%|▍         | 2/43 [01:48<36:45, 53.80s/it]"
     ]
    },
    {
     "name": "stdout",
     "output_type": "stream",
     "text": [
      "VAL top-[1, 3, 5, 10, 20, 50] accuracies: [0.0298 0.0613 0.0777 0.1108 0.1438 0.2627]\n",
      " \n",
      "Left-out label: APC\n",
      "TEST top-[1, 3, 5, 10, 20, 50] accuracies: [0.     0.     0.002  0.0061 0.0243 0.0526]\n",
      " \n",
      "TRAIN loss: 0.0022424969523594327\n",
      "VAL loss: 0.0035594913195346875\n",
      "TEST loss: 0.0014246443801327203\n",
      "TRAIN top-[1, 3, 5, 10, 20, 50] accuracies: [0.1614 0.2506 0.299  0.3862 0.4862 0.6735]\n",
      " \n",
      "VAL top-[1, 3, 5, 10, 20, 50] accuracies: [0.0601 0.1006 0.1316 0.1706 0.2309 0.3931]\n",
      " \n",
      "Left-out label: ATF4\n"
     ]
    },
    {
     "name": "stderr",
     "output_type": "stream",
     "text": [
      "\r",
      "  7%|▋         | 3/43 [02:53<39:13, 58.84s/it]"
     ]
    },
    {
     "name": "stdout",
     "output_type": "stream",
     "text": [
      "TEST top-[1, 3, 5, 10, 20, 50] accuracies: [0.2977 0.3527 0.3949 0.4921 0.6157 0.8448]\n",
      " \n",
      "TRAIN loss: 0.002303326461378584\n",
      "VAL loss: 0.002965224821521522\n",
      "TEST loss: 0.0017138289455161022\n",
      "TRAIN top-[1, 3, 5, 10, 20, 50] accuracies: [0.1504 0.2403 0.2897 0.3754 0.4786 0.6628]\n",
      " \n",
      "VAL top-[1, 3, 5, 10, 20, 50] accuracies: [0.0623 0.1227 0.1547 0.2158 0.2873 0.4952]\n",
      " \n",
      "Left-out label: BAX\n"
     ]
    },
    {
     "name": "stderr",
     "output_type": "stream",
     "text": [
      "\r",
      "  9%|▉         | 4/43 [03:47<36:57, 56.86s/it]"
     ]
    },
    {
     "name": "stdout",
     "output_type": "stream",
     "text": [
      "TEST top-[1, 3, 5, 10, 20, 50] accuracies: [0.1919 0.2346 0.2544 0.3026 0.3871 0.6623]\n",
      " \n",
      "TRAIN loss: 0.0020505842486042733\n",
      "VAL loss: 0.006610062697380578\n",
      "TEST loss: 0.002075924311586971\n",
      "TRAIN top-[1, 3, 5, 10, 20, 50] accuracies: [0.1571 0.253  0.307  0.3973 0.5043 0.6939]\n",
      " \n"
     ]
    },
    {
     "name": "stderr",
     "output_type": "stream",
     "text": [
      "\r",
      " 12%|█▏        | 5/43 [05:05<40:54, 64.58s/it]"
     ]
    },
    {
     "name": "stdout",
     "output_type": "stream",
     "text": [
      "VAL top-[1, 3, 5, 10, 20, 50] accuracies: [0.0181 0.0345 0.0454 0.069  0.0983 0.1944]\n",
      " \n",
      "Left-out label: BCL2L11\n",
      "TEST top-[1, 3, 5, 10, 20, 50] accuracies: [0.0545 0.0778 0.1012 0.1323 0.1946 0.4319]\n",
      " \n",
      "TRAIN loss: 0.00266708830120884\n",
      "VAL loss: 0.002995565734264356\n",
      "TEST loss: 0.0021782946251129626\n",
      "TRAIN top-[1, 3, 5, 10, 20, 50] accuracies: [0.1296 0.2169 0.2667 0.3457 0.4505 0.6425]\n",
      " \n",
      "VAL top-[1, 3, 5, 10, 20, 50] accuracies: [0.0422 0.0805 0.1008 0.1547 0.2376 0.4443]\n",
      " \n",
      "Left-out label: BRAF\n"
     ]
    },
    {
     "name": "stderr",
     "output_type": "stream",
     "text": [
      "\r",
      " 14%|█▍        | 6/43 [06:34<44:47, 72.62s/it]"
     ]
    },
    {
     "name": "stdout",
     "output_type": "stream",
     "text": [
      "TEST top-[1, 3, 5, 10, 20, 50] accuracies: [0.1792 0.2361 0.2693 0.331  0.4358 0.6349]\n",
      " \n",
      "TRAIN loss: 0.0022335568099627148\n",
      "VAL loss: 0.006148018528942527\n",
      "TEST loss: 0.002114036882465536\n",
      "TRAIN top-[1, 3, 5, 10, 20, 50] accuracies: [0.1495 0.2451 0.3008 0.3853 0.49   0.677 ]\n",
      " \n"
     ]
    },
    {
     "name": "stderr",
     "output_type": "stream",
     "text": [
      "\r",
      " 16%|█▋        | 7/43 [07:19<38:18, 63.85s/it]"
     ]
    },
    {
     "name": "stdout",
     "output_type": "stream",
     "text": [
      "VAL top-[1, 3, 5, 10, 20, 50] accuracies: [0.0209 0.0422 0.0643 0.0959 0.1338 0.2463]\n",
      " \n",
      "Left-out label: CASP8\n",
      "TEST top-[1, 3, 5, 10, 20, 50] accuracies: [0.0372 0.0413 0.062  0.0909 0.157  0.5041]\n",
      " \n",
      "TRAIN loss: 0.0021689702655543312\n",
      "VAL loss: 0.0047562784410787404\n",
      "TEST loss: 0.0016327697508545084\n",
      "TRAIN top-[1, 3, 5, 10, 20, 50] accuracies: [0.1488 0.2448 0.2968 0.3815 0.4834 0.6687]\n",
      " \n",
      "VAL top-[1, 3, 5, 10, 20, 50] accuracies: [0.0427 0.0815 0.0988 0.1294 0.1731 0.3042]\n",
      " \n",
      "Left-out label: CDC42\n"
     ]
    },
    {
     "name": "stderr",
     "output_type": "stream",
     "text": [
      "\r",
      " 19%|█▊        | 8/43 [08:17<35:59, 61.71s/it]"
     ]
    },
    {
     "name": "stdout",
     "output_type": "stream",
     "text": [
      "TEST top-[1, 3, 5, 10, 20, 50] accuracies: [0.1313 0.2279 0.2784 0.3504 0.4741 0.774 ]\n",
      " \n",
      "TRAIN loss: 0.002030169908471231\n",
      "VAL loss: 0.007004758082459738\n",
      "TEST loss: 0.026828353517229044\n",
      "TRAIN top-[1, 3, 5, 10, 20, 50] accuracies: [0.1602 0.2584 0.3094 0.3931 0.4971 0.6871]\n",
      " \n"
     ]
    },
    {
     "name": "stderr",
     "output_type": "stream",
     "text": [
      "\r",
      " 21%|██        | 9/43 [09:05<32:42, 57.71s/it]"
     ]
    },
    {
     "name": "stdout",
     "output_type": "stream",
     "text": [
      "VAL top-[1, 3, 5, 10, 20, 50] accuracies: [0.0219 0.0412 0.0517 0.0718 0.105  0.2106]\n",
      " \n",
      "Left-out label: CDKN1A\n",
      "TEST top-[1, 3, 5, 10, 20, 50] accuracies: [0. 0. 0. 0. 0. 0.]\n",
      " \n",
      "TRAIN loss: 0.0020948097875683643\n",
      "VAL loss: 0.006235390031446282\n",
      "TEST loss: 0.0019406014944120756\n",
      "TRAIN top-[1, 3, 5, 10, 20, 50] accuracies: [0.1705 0.2654 0.3197 0.4072 0.5081 0.6815]\n",
      " \n"
     ]
    },
    {
     "name": "stderr",
     "output_type": "stream",
     "text": [
      "\r",
      " 23%|██▎       | 10/43 [09:58<30:47, 56.00s/it]"
     ]
    },
    {
     "name": "stdout",
     "output_type": "stream",
     "text": [
      "VAL top-[1, 3, 5, 10, 20, 50] accuracies: [0.0066 0.0145 0.0211 0.0438 0.0855 0.1763]\n",
      " \n",
      "Left-out label: CEBPA\n",
      "TEST top-[1, 3, 5, 10, 20, 50] accuracies: [0.0253 0.1227 0.2401 0.37   0.5162 0.731 ]\n",
      " \n",
      "TRAIN loss: 0.002025749936609515\n",
      "VAL loss: 0.006582453683784095\n",
      "TEST loss: 0.0026616432237503026\n",
      "TRAIN top-[1, 3, 5, 10, 20, 50] accuracies: [0.1716 0.2672 0.3218 0.4125 0.5179 0.7037]\n",
      " \n"
     ]
    },
    {
     "name": "stderr",
     "output_type": "stream",
     "text": [
      "\r",
      " 26%|██▌       | 11/43 [10:51<29:30, 55.32s/it]"
     ]
    },
    {
     "name": "stdout",
     "output_type": "stream",
     "text": [
      "VAL top-[1, 3, 5, 10, 20, 50] accuracies: [0.0179 0.0256 0.034  0.0509 0.0823 0.1771]\n",
      " \n",
      "Left-out label: CREB1\n",
      "TEST top-[1, 3, 5, 10, 20, 50] accuracies: [0.     0.     0.     0.     0.0019 0.0801]\n",
      " \n",
      "TRAIN loss: 0.0021130588377388055\n",
      "VAL loss: 0.005886470300128961\n",
      "TEST loss: 0.0031181789996561435\n",
      "TRAIN top-[1, 3, 5, 10, 20, 50] accuracies: [0.156  0.2546 0.3064 0.3939 0.4946 0.6749]\n",
      " \n"
     ]
    },
    {
     "name": "stderr",
     "output_type": "stream",
     "text": [
      "\r",
      " 28%|██▊       | 12/43 [11:49<28:52, 55.89s/it]"
     ]
    },
    {
     "name": "stdout",
     "output_type": "stream",
     "text": [
      "VAL top-[1, 3, 5, 10, 20, 50] accuracies: [0.018  0.0351 0.0469 0.0778 0.1183 0.2908]\n",
      " \n",
      "Left-out label: DIABLO\n",
      "TEST top-[1, 3, 5, 10, 20, 50] accuracies: [0.     0.0013 0.0091 0.0326 0.0717 0.2334]\n",
      " \n",
      "TRAIN loss: 0.002096760941855544\n",
      "VAL loss: 0.00522824192166341\n",
      "TEST loss: 0.004444232547241119\n",
      "TRAIN top-[1, 3, 5, 10, 20, 50] accuracies: [0.1566 0.2534 0.3059 0.3917 0.4925 0.675 ]\n",
      " \n",
      "VAL top-[1, 3, 5, 10, 20, 50] accuracies: [0.032  0.0613 0.079  0.1135 0.1602 0.3307]\n",
      " \n",
      "Left-out label: E2F1\n"
     ]
    },
    {
     "name": "stderr",
     "output_type": "stream",
     "text": [
      "\r",
      " 30%|███       | 13/43 [12:51<28:53, 57.77s/it]"
     ]
    },
    {
     "name": "stdout",
     "output_type": "stream",
     "text": [
      "TEST top-[1, 3, 5, 10, 20, 50] accuracies: [0.0256 0.0788 0.1044 0.1491 0.196  0.3003]\n",
      " \n",
      "TRAIN loss: 0.002178936307762564\n",
      "VAL loss: 0.007441637306033217\n",
      "TEST loss: 0.001154966336408896\n",
      "TRAIN top-[1, 3, 5, 10, 20, 50] accuracies: [0.168  0.2649 0.3165 0.4001 0.496  0.6811]\n",
      " \n"
     ]
    },
    {
     "name": "stderr",
     "output_type": "stream",
     "text": [
      "\r",
      " 33%|███▎      | 14/43 [13:42<26:58, 55.82s/it]"
     ]
    },
    {
     "name": "stdout",
     "output_type": "stream",
     "text": [
      "VAL top-[1, 3, 5, 10, 20, 50] accuracies: [0.0087 0.0169 0.0225 0.0346 0.0596 0.193 ]\n",
      " \n",
      "Left-out label: ELK1\n",
      "TEST top-[1, 3, 5, 10, 20, 50] accuracies: [0.1257 0.3943 0.5286 0.74   0.8657 1.    ]\n",
      " \n",
      "TRAIN loss: 0.0021968899152679327\n",
      "VAL loss: 0.005986038621998622\n",
      "TEST loss: 0.003185962707820264\n",
      "TRAIN top-[1, 3, 5, 10, 20, 50] accuracies: [0.1361 0.2179 0.2678 0.3528 0.4612 0.6552]\n",
      " \n",
      "VAL top-[1, 3, 5, 10, 20, 50] accuracies: [0.0289 0.0615 0.0837 0.1304 0.1779 0.3158]\n",
      " \n",
      "Left-out label: ERG\n"
     ]
    },
    {
     "name": "stderr",
     "output_type": "stream",
     "text": [
      "\r",
      " 35%|███▍      | 15/43 [14:36<25:48, 55.29s/it]"
     ]
    },
    {
     "name": "stdout",
     "output_type": "stream",
     "text": [
      "TEST top-[1, 3, 5, 10, 20, 50] accuracies: [0.1378 0.1619 0.1761 0.2088 0.2415 0.3523]\n",
      " \n",
      "TRAIN loss: 0.002218105375376989\n",
      "VAL loss: 0.006112366589479699\n",
      "TEST loss: 0.0032352609376488962\n",
      "TRAIN top-[1, 3, 5, 10, 20, 50] accuracies: [0.1599 0.2615 0.3148 0.3997 0.4847 0.6587]\n",
      " \n",
      "VAL top-[1, 3, 5, 10, 20, 50] accuracies: [0.0155 0.0326 0.0452 0.0806 0.1278 0.2706]\n",
      " \n",
      "Left-out label: FGFR3\n"
     ]
    },
    {
     "name": "stderr",
     "output_type": "stream",
     "text": [
      "\r",
      " 37%|███▋      | 16/43 [15:30<24:44, 54.97s/it]"
     ]
    },
    {
     "name": "stdout",
     "output_type": "stream",
     "text": [
      "TEST top-[1, 3, 5, 10, 20, 50] accuracies: [0.     0.0013 0.0013 0.0053 0.0134 0.1268]\n",
      " \n",
      "TRAIN loss: 0.00239616823329898\n",
      "VAL loss: 0.006518207698742236\n",
      "TEST loss: 0.001248290262124452\n",
      "TRAIN top-[1, 3, 5, 10, 20, 50] accuracies: [0.1427 0.2309 0.2849 0.3711 0.477  0.6636]\n",
      " \n"
     ]
    },
    {
     "name": "stderr",
     "output_type": "stream",
     "text": [
      "\r",
      " 40%|███▉      | 17/43 [16:11<21:57, 50.66s/it]"
     ]
    },
    {
     "name": "stdout",
     "output_type": "stream",
     "text": [
      "VAL top-[1, 3, 5, 10, 20, 50] accuracies: [0.0135 0.0312 0.0413 0.0708 0.1099 0.2374]\n",
      " \n",
      "Left-out label: FOXO1\n",
      "TEST top-[1, 3, 5, 10, 20, 50] accuracies: [0.1634 0.348  0.4493 0.6309 0.8139 0.9955]\n",
      " \n",
      "TRAIN loss: 0.0021673696963193244\n",
      "VAL loss: 0.006216927201048285\n",
      "TEST loss: 0.006354116168687073\n",
      "TRAIN top-[1, 3, 5, 10, 20, 50] accuracies: [0.1512 0.2498 0.3011 0.3882 0.4883 0.673 ]\n",
      " \n"
     ]
    },
    {
     "name": "stderr",
     "output_type": "stream",
     "text": [
      "\r",
      " 42%|████▏     | 18/43 [17:07<21:48, 52.34s/it]"
     ]
    },
    {
     "name": "stdout",
     "output_type": "stream",
     "text": [
      "VAL top-[1, 3, 5, 10, 20, 50] accuracies: [0.018  0.0419 0.0621 0.0958 0.1366 0.261 ]\n",
      " \n",
      "Left-out label: GLI1\n",
      "TEST top-[1, 3, 5, 10, 20, 50] accuracies: [0.     0.     0.     0.0017 0.005  0.0269]\n",
      " \n",
      "TRAIN loss: 0.001965650145491979\n",
      "VAL loss: 0.007497003576566094\n",
      "TEST loss: 0.0011289394775541404\n",
      "TRAIN top-[1, 3, 5, 10, 20, 50] accuracies: [0.1652 0.261  0.3162 0.4139 0.5238 0.7066]\n",
      " \n"
     ]
    },
    {
     "name": "stderr",
     "output_type": "stream",
     "text": [
      "\r",
      " 44%|████▍     | 19/43 [19:17<30:15, 75.64s/it]"
     ]
    },
    {
     "name": "stdout",
     "output_type": "stream",
     "text": [
      "VAL top-[1, 3, 5, 10, 20, 50] accuracies: [0.0154 0.0282 0.0382 0.0565 0.0698 0.1584]\n",
      " \n",
      "Left-out label: HRAS\n",
      "TEST top-[1, 3, 5, 10, 20, 50] accuracies: [0.3252 0.4468 0.5471 0.7416 0.8997 0.9818]\n",
      " \n",
      "TRAIN loss: 0.0020373394845796785\n",
      "VAL loss: 0.005897947834025508\n",
      "TEST loss: 0.002572566975098808\n",
      "TRAIN top-[1, 3, 5, 10, 20, 50] accuracies: [0.156  0.2583 0.315  0.4065 0.5127 0.695 ]\n",
      " \n",
      "VAL top-[1, 3, 5, 10, 20, 50] accuracies: [0.0191 0.0335 0.0444 0.0675 0.0944 0.2552]\n",
      " \n",
      "Left-out label: IRAK4\n"
     ]
    },
    {
     "name": "stderr",
     "output_type": "stream",
     "text": [
      "\r",
      " 47%|████▋     | 20/43 [20:16<27:06, 70.71s/it]"
     ]
    },
    {
     "name": "stdout",
     "output_type": "stream",
     "text": [
      "TEST top-[1, 3, 5, 10, 20, 50] accuracies: [0.0517 0.1013 0.121  0.1675 0.2192 0.4012]\n",
      " \n",
      "TRAIN loss: 0.0018714750547436565\n",
      "VAL loss: 0.006218116445576443\n",
      "TEST loss: 0.0010060800424247836\n",
      "TRAIN top-[1, 3, 5, 10, 20, 50] accuracies: [0.1824 0.2848 0.3407 0.4279 0.5297 0.7124]\n",
      " \n",
      "VAL top-[1, 3, 5, 10, 20, 50] accuracies: [0.035  0.0515 0.0607 0.0805 0.1108 0.2455]\n",
      " \n",
      "Left-out label: JUN\n"
     ]
    },
    {
     "name": "stderr",
     "output_type": "stream",
     "text": [
      "\r",
      " 49%|████▉     | 21/43 [21:24<25:34, 69.76s/it]"
     ]
    },
    {
     "name": "stdout",
     "output_type": "stream",
     "text": [
      "TEST top-[1, 3, 5, 10, 20, 50] accuracies: [0.4729 0.6273 0.7069 0.8106 0.8745 0.9614]\n",
      " \n",
      "TRAIN loss: 0.0021544176064468585\n",
      "VAL loss: 0.005993506940191283\n",
      "TEST loss: 0.0011514213788966525\n",
      "TRAIN top-[1, 3, 5, 10, 20, 50] accuracies: [0.1613 0.2566 0.311  0.4009 0.5034 0.6876]\n",
      " \n",
      "VAL top-[1, 3, 5, 10, 20, 50] accuracies: [0.0052 0.0136 0.0204 0.0353 0.0617 0.1814]\n",
      " \n",
      "Left-out label: KRAS\n"
     ]
    },
    {
     "name": "stderr",
     "output_type": "stream",
     "text": [
      "\r",
      " 51%|█████     | 22/43 [22:15<22:30, 64.30s/it]"
     ]
    },
    {
     "name": "stdout",
     "output_type": "stream",
     "text": [
      "TEST top-[1, 3, 5, 10, 20, 50] accuracies: [0.1797 0.3466 0.4532 0.6417 0.815  0.9854]\n",
      " \n",
      "TRAIN loss: 0.0022501410299373345\n",
      "VAL loss: 0.007078139330412633\n",
      "TEST loss: 0.0013943629306075829\n",
      "TRAIN top-[1, 3, 5, 10, 20, 50] accuracies: [0.1464 0.2396 0.2935 0.3799 0.4884 0.6747]\n",
      " \n"
     ]
    },
    {
     "name": "stderr",
     "output_type": "stream",
     "text": [
      "\r",
      " 53%|█████▎    | 23/43 [23:00<19:24, 58.25s/it]"
     ]
    },
    {
     "name": "stdout",
     "output_type": "stream",
     "text": [
      "VAL top-[1, 3, 5, 10, 20, 50] accuracies: [0.0157 0.0361 0.0497 0.0795 0.1103 0.2073]\n",
      " \n",
      "Left-out label: MAP2K3\n",
      "TEST top-[1, 3, 5, 10, 20, 50] accuracies: [0.0821 0.2089 0.3286 0.55   0.8232 0.9982]\n",
      " \n",
      "TRAIN loss: 0.002091574103753779\n",
      "VAL loss: 0.005903125894834208\n",
      "TEST loss: 0.0011637187544834013\n",
      "TRAIN top-[1, 3, 5, 10, 20, 50] accuracies: [0.1754 0.2685 0.3222 0.4115 0.5181 0.7006]\n",
      " \n",
      "VAL top-[1, 3, 5, 10, 20, 50] accuracies: [0.0285 0.0437 0.0515 0.0661 0.0907 0.2259]\n",
      " \n",
      "Left-out label: MAP3K2\n"
     ]
    },
    {
     "name": "stderr",
     "output_type": "stream",
     "text": [
      "\r",
      " 56%|█████▌    | 24/43 [23:51<17:47, 56.17s/it]"
     ]
    },
    {
     "name": "stdout",
     "output_type": "stream",
     "text": [
      "TEST top-[1, 3, 5, 10, 20, 50] accuracies: [0.2151 0.3634 0.4767 0.6773 0.8556 0.9797]\n",
      " \n",
      "TRAIN loss: 0.0021201160563482464\n",
      "VAL loss: 0.006316393232399148\n",
      "TEST loss: 0.0008580055592361224\n",
      "TRAIN top-[1, 3, 5, 10, 20, 50] accuracies: [0.1713 0.2702 0.3247 0.412  0.5121 0.6905]\n",
      " \n",
      "VAL top-[1, 3, 5, 10, 20, 50] accuracies: [0.017  0.0275 0.0337 0.0507 0.0797 0.2005]\n",
      " \n",
      "Left-out label: MAP3K5\n"
     ]
    },
    {
     "name": "stderr",
     "output_type": "stream",
     "text": [
      "\r",
      " 58%|█████▊    | 25/43 [24:43<16:29, 54.95s/it]"
     ]
    },
    {
     "name": "stdout",
     "output_type": "stream",
     "text": [
      "TEST top-[1, 3, 5, 10, 20, 50] accuracies: [0.4768 0.7773 0.8585 0.9281 0.978  1.    ]\n",
      " \n",
      "TRAIN loss: 0.0021665986137696007\n",
      "VAL loss: 0.00705298631129409\n",
      "TEST loss: 0.0031026557363194865\n",
      "TRAIN top-[1, 3, 5, 10, 20, 50] accuracies: [0.1394 0.2355 0.2882 0.3769 0.4889 0.6759]\n",
      " \n"
     ]
    },
    {
     "name": "stderr",
     "output_type": "stream",
     "text": [
      "\r",
      " 60%|██████    | 26/43 [25:34<15:14, 53.78s/it]"
     ]
    },
    {
     "name": "stdout",
     "output_type": "stream",
     "text": [
      "VAL top-[1, 3, 5, 10, 20, 50] accuracies: [0.0165 0.0322 0.0424 0.063  0.0863 0.1995]\n",
      " \n",
      "Left-out label: MAP3K9\n",
      "TEST top-[1, 3, 5, 10, 20, 50] accuracies: [0.1384 0.1593 0.1782 0.2034 0.2558 0.3585]\n",
      " \n",
      "TRAIN loss: 0.0025391433892955713\n",
      "VAL loss: 0.006869516853924865\n",
      "TEST loss: 0.0022875573104755896\n",
      "TRAIN top-[1, 3, 5, 10, 20, 50] accuracies: [0.1213 0.2096 0.2621 0.3494 0.4619 0.6572]\n",
      " \n",
      "VAL top-[1, 3, 5, 10, 20, 50] accuracies: [0.0285 0.0486 0.0682 0.0999 0.1367 0.2648]\n",
      " \n",
      "Left-out label: MAPK7\n"
     ]
    },
    {
     "name": "stderr",
     "output_type": "stream",
     "text": [
      "\r",
      " 63%|██████▎   | 27/43 [26:21<13:45, 51.61s/it]"
     ]
    },
    {
     "name": "stdout",
     "output_type": "stream",
     "text": [
      "TEST top-[1, 3, 5, 10, 20, 50] accuracies: [0.1518 0.2197 0.257  0.3196 0.4008 0.6165]\n",
      " \n",
      "TRAIN loss: 0.0022066643714209115\n",
      "VAL loss: 0.006021125559128967\n",
      "TEST loss: 0.0027933003873976594\n",
      "TRAIN top-[1, 3, 5, 10, 20, 50] accuracies: [0.1581 0.2559 0.3107 0.3968 0.4971 0.6789]\n",
      " \n",
      "VAL top-[1, 3, 5, 10, 20, 50] accuracies: [0.0118 0.0361 0.0531 0.0763 0.1085 0.2944]\n",
      " \n",
      "Left-out label: MYD88\n"
     ]
    },
    {
     "name": "stderr",
     "output_type": "stream",
     "text": [
      "\r",
      " 65%|██████▌   | 28/43 [27:14<13:00, 52.05s/it]"
     ]
    },
    {
     "name": "stdout",
     "output_type": "stream",
     "text": [
      "TEST top-[1, 3, 5, 10, 20, 50] accuracies: [0.0042 0.0315 0.0389 0.0557 0.082  0.2324]\n",
      " \n",
      "TRAIN loss: 0.0020590157413823626\n",
      "VAL loss: 0.006115636882901776\n",
      "TEST loss: 0.0010373032515432945\n",
      "TRAIN top-[1, 3, 5, 10, 20, 50] accuracies: [0.1665 0.2623 0.3158 0.4028 0.5002 0.6843]\n",
      " \n"
     ]
    },
    {
     "name": "stderr",
     "output_type": "stream",
     "text": [
      "\r",
      " 67%|██████▋   | 29/43 [28:09<12:21, 52.98s/it]"
     ]
    },
    {
     "name": "stdout",
     "output_type": "stream",
     "text": [
      "VAL top-[1, 3, 5, 10, 20, 50] accuracies: [0.0136 0.0314 0.041  0.0724 0.108  0.2586]\n",
      " \n",
      "Left-out label: PIK3R2\n",
      "TEST top-[1, 3, 5, 10, 20, 50] accuracies: [0.095  0.324  0.4592 0.6565 0.866  0.9963]\n",
      " \n",
      "TRAIN loss: 0.002120280717098209\n",
      "VAL loss: 0.006422980585579876\n",
      "TEST loss: 0.0055795720849415595\n",
      "TRAIN top-[1, 3, 5, 10, 20, 50] accuracies: [0.148  0.2441 0.3014 0.3957 0.499  0.6829]\n",
      " \n",
      "VAL top-[1, 3, 5, 10, 20, 50] accuracies: [0.0102 0.0301 0.0421 0.0719 0.1082 0.2196]\n",
      " \n",
      "Left-out label: PKIA\n"
     ]
    },
    {
     "name": "stderr",
     "output_type": "stream",
     "text": [
      "\r",
      " 70%|██████▉   | 30/43 [29:02<11:30, 53.14s/it]"
     ]
    },
    {
     "name": "stdout",
     "output_type": "stream",
     "text": [
      "TEST top-[1, 3, 5, 10, 20, 50] accuracies: [0.0044 0.022  0.0293 0.0411 0.0528 0.1056]\n",
      " \n",
      "TRAIN loss: 0.002078411934410639\n",
      "VAL loss: 0.007284882962460222\n",
      "TEST loss: 0.0041701565577257505\n",
      "TRAIN top-[1, 3, 5, 10, 20, 50] accuracies: [0.1624 0.2598 0.314  0.3998 0.5062 0.6988]\n",
      " \n"
     ]
    },
    {
     "name": "stderr",
     "output_type": "stream",
     "text": [
      "\r",
      " 72%|███████▏  | 31/43 [29:51<10:22, 51.84s/it]"
     ]
    },
    {
     "name": "stdout",
     "output_type": "stream",
     "text": [
      "VAL top-[1, 3, 5, 10, 20, 50] accuracies: [0.0144 0.022  0.029  0.0458 0.0703 0.149 ]\n",
      " \n",
      "Left-out label: PRKACA\n",
      "TEST top-[1, 3, 5, 10, 20, 50] accuracies: [0.0281 0.0368 0.0433 0.0498 0.0736 0.1385]\n",
      " \n",
      "TRAIN loss: 0.002499027049640789\n",
      "VAL loss: 0.006546900758544117\n",
      "TEST loss: 0.0014371315514624886\n",
      "TRAIN top-[1, 3, 5, 10, 20, 50] accuracies: [0.126  0.2191 0.2761 0.3714 0.4867 0.6722]\n",
      " \n",
      "VAL top-[1, 3, 5, 10, 20, 50] accuracies: [0.0058 0.0089 0.0146 0.0298 0.0575 0.2073]\n",
      " \n",
      "Left-out label: PRKCE\n"
     ]
    },
    {
     "name": "stderr",
     "output_type": "stream",
     "text": [
      "\r",
      " 74%|███████▍  | 32/43 [30:59<10:24, 56.78s/it]"
     ]
    },
    {
     "name": "stdout",
     "output_type": "stream",
     "text": [
      "TEST top-[1, 3, 5, 10, 20, 50] accuracies: [0.2505 0.4067 0.4936 0.644  0.7959 0.9353]\n",
      " \n",
      "TRAIN loss: 0.0022253988835673694\n",
      "VAL loss: 0.005820272203193966\n",
      "TEST loss: 0.0019971237622419618\n",
      "TRAIN top-[1, 3, 5, 10, 20, 50] accuracies: [0.1632 0.2645 0.3215 0.4127 0.5123 0.6896]\n",
      " \n",
      "VAL top-[1, 3, 5, 10, 20, 50] accuracies: [0.0178 0.0421 0.0557 0.0831 0.1252 0.2635]\n",
      " \n",
      "Left-out label: RAF1\n"
     ]
    },
    {
     "name": "stderr",
     "output_type": "stream",
     "text": [
      "\r",
      " 77%|███████▋  | 33/43 [32:38<11:33, 69.34s/it]"
     ]
    },
    {
     "name": "stdout",
     "output_type": "stream",
     "text": [
      "TEST top-[1, 3, 5, 10, 20, 50] accuracies: [0.351  0.4356 0.4673 0.534  0.5994 0.727 ]\n",
      " \n",
      "TRAIN loss: 0.002030366470703398\n",
      "VAL loss: 0.006049351759583634\n",
      "TEST loss: 0.001161336534298788\n",
      "TRAIN top-[1, 3, 5, 10, 20, 50] accuracies: [0.1819 0.2787 0.3323 0.422  0.5213 0.6953]\n",
      " \n",
      "VAL top-[1, 3, 5, 10, 20, 50] accuracies: [0.0217 0.0358 0.0471 0.0682 0.1085 0.2371]\n",
      " \n",
      "Left-out label: RELB\n"
     ]
    },
    {
     "name": "stderr",
     "output_type": "stream",
     "text": [
      "\r",
      " 79%|███████▉  | 34/43 [33:34<09:48, 65.42s/it]"
     ]
    },
    {
     "name": "stdout",
     "output_type": "stream",
     "text": [
      "TEST top-[1, 3, 5, 10, 20, 50] accuracies: [0.2802 0.4102 0.4893 0.6215 0.7819 0.9627]\n",
      " \n",
      "TRAIN loss: 0.002223716611064511\n",
      "VAL loss: 0.005787580035279925\n",
      "TEST loss: 0.001603180453576185\n",
      "TRAIN top-[1, 3, 5, 10, 20, 50] accuracies: [0.1629 0.2628 0.3168 0.4049 0.504  0.6755]\n",
      " \n",
      "VAL top-[1, 3, 5, 10, 20, 50] accuracies: [0.0089 0.0254 0.0387 0.0612 0.0824 0.2013]\n",
      " \n",
      "Left-out label: RHOA\n"
     ]
    },
    {
     "name": "stderr",
     "output_type": "stream",
     "text": [
      "\r",
      " 81%|████████▏ | 35/43 [34:26<08:09, 61.18s/it]"
     ]
    },
    {
     "name": "stdout",
     "output_type": "stream",
     "text": [
      "TEST top-[1, 3, 5, 10, 20, 50] accuracies: [0.0568 0.1469 0.2037 0.3606 0.525  0.7972]\n",
      " \n",
      "TRAIN loss: 0.002550007228801946\n",
      "VAL loss: 0.006003473279754224\n",
      "TEST loss: 0.005128615632616352\n",
      "TRAIN top-[1, 3, 5, 10, 20, 50] accuracies: [0.1479 0.2326 0.2836 0.3707 0.479  0.6598]\n",
      " \n",
      "VAL top-[1, 3, 5, 10, 20, 50] accuracies: [0.0133 0.0196 0.0243 0.0335 0.0489 0.1684]\n",
      " \n",
      "Left-out label: SMAD3\n"
     ]
    },
    {
     "name": "stderr",
     "output_type": "stream",
     "text": [
      "\r",
      " 84%|████████▎ | 36/43 [35:17<06:47, 58.24s/it]"
     ]
    },
    {
     "name": "stdout",
     "output_type": "stream",
     "text": [
      "TEST top-[1, 3, 5, 10, 20, 50] accuracies: [0.0007 0.0013 0.004  0.0099 0.031  0.0746]\n",
      " \n",
      "TRAIN loss: 0.0020280320131368062\n",
      "VAL loss: 0.0076237019645719745\n",
      "TEST loss: 0.0025911398796023615\n",
      "TRAIN top-[1, 3, 5, 10, 20, 50] accuracies: [0.1559 0.2428 0.2994 0.3961 0.5057 0.6889]\n",
      " \n"
     ]
    },
    {
     "name": "stderr",
     "output_type": "stream",
     "text": [
      "\r",
      " 86%|████████▌ | 37/43 [36:06<05:33, 55.55s/it]"
     ]
    },
    {
     "name": "stdout",
     "output_type": "stream",
     "text": [
      "VAL top-[1, 3, 5, 10, 20, 50] accuracies: [0.0115 0.0238 0.0298 0.0416 0.0539 0.1218]\n",
      " \n",
      "Left-out label: SMAD4\n",
      "TEST top-[1, 3, 5, 10, 20, 50] accuracies: [0.     0.0035 0.007  0.0141 0.0211 0.3662]\n",
      " \n",
      "TRAIN loss: 0.0022733868579425673\n",
      "VAL loss: 0.006668712142749215\n",
      "TEST loss: 0.006591470408451163\n",
      "TRAIN top-[1, 3, 5, 10, 20, 50] accuracies: [0.1568 0.2495 0.3001 0.3866 0.4902 0.6632]\n",
      " \n",
      "VAL top-[1, 3, 5, 10, 20, 50] accuracies: [0.0082 0.0156 0.0216 0.0335 0.0484 0.1652]\n",
      " \n",
      "Left-out label: SMO\n"
     ]
    },
    {
     "name": "stderr",
     "output_type": "stream",
     "text": [
      "\r",
      " 88%|████████▊ | 38/43 [36:53<04:24, 52.88s/it]"
     ]
    },
    {
     "name": "stdout",
     "output_type": "stream",
     "text": [
      "TEST top-[1, 3, 5, 10, 20, 50] accuracies: [0.0323 0.0612 0.0682 0.0802 0.0963 0.1449]\n",
      " \n",
      "TRAIN loss: 0.0023260426111578075\n",
      "VAL loss: 0.006362923861758185\n",
      "TEST loss: 0.003928550860388706\n",
      "TRAIN top-[1, 3, 5, 10, 20, 50] accuracies: [0.1336 0.2209 0.272  0.3594 0.4699 0.6531]\n",
      " \n"
     ]
    },
    {
     "name": "stderr",
     "output_type": "stream",
     "text": [
      "\r",
      " 91%|█████████ | 39/43 [37:42<03:26, 51.71s/it]"
     ]
    },
    {
     "name": "stdout",
     "output_type": "stream",
     "text": [
      "VAL top-[1, 3, 5, 10, 20, 50] accuracies: [0.0298 0.0573 0.0681 0.0912 0.1243 0.2252]\n",
      " \n",
      "Left-out label: SRC\n",
      "TEST top-[1, 3, 5, 10, 20, 50] accuracies: [0.     0.0023 0.0047 0.0094 0.0211 0.1358]\n",
      " \n",
      "TRAIN loss: 0.0021027185024726463\n",
      "VAL loss: 0.006512746897154874\n",
      "TEST loss: 0.0012131446050200776\n",
      "TRAIN top-[1, 3, 5, 10, 20, 50] accuracies: [0.1595 0.2559 0.3064 0.3927 0.4982 0.689 ]\n",
      " \n"
     ]
    },
    {
     "name": "stderr",
     "output_type": "stream",
     "text": [
      "\r",
      " 93%|█████████▎| 40/43 [38:38<02:38, 52.97s/it]"
     ]
    },
    {
     "name": "stdout",
     "output_type": "stream",
     "text": [
      "VAL top-[1, 3, 5, 10, 20, 50] accuracies: [0.0041 0.0141 0.0231 0.0428 0.0808 0.2118]\n",
      " \n",
      "Left-out label: SREBF1\n",
      "TEST top-[1, 3, 5, 10, 20, 50] accuracies: [0.2099 0.3492 0.425  0.5256 0.7002 0.9383]\n",
      " \n",
      "TRAIN loss: 0.0021319000809432915\n",
      "VAL loss: 0.006365781953051592\n",
      "TEST loss: 0.0019318628239157881\n",
      "TRAIN top-[1, 3, 5, 10, 20, 50] accuracies: [0.1574 0.246  0.2965 0.3816 0.4841 0.6715]\n",
      " \n",
      "VAL top-[1, 3, 5, 10, 20, 50] accuracies: [0.013  0.0346 0.0484 0.0767 0.1217 0.3067]\n",
      " \n",
      "Left-out label: TRAF2\n"
     ]
    },
    {
     "name": "stderr",
     "output_type": "stream",
     "text": [
      "\r",
      " 95%|█████████▌| 41/43 [39:34<01:47, 53.88s/it]"
     ]
    },
    {
     "name": "stdout",
     "output_type": "stream",
     "text": [
      "TEST top-[1, 3, 5, 10, 20, 50] accuracies: [0.0132 0.0277 0.0462 0.0673 0.1517 0.6148]\n",
      " \n",
      "TRAIN loss: 0.0022011408144381067\n",
      "VAL loss: 0.006606168646897786\n",
      "TEST loss: 0.0022936883637071264\n",
      "TRAIN top-[1, 3, 5, 10, 20, 50] accuracies: [0.1654 0.2574 0.3092 0.3955 0.4983 0.6871]\n",
      " \n",
      "VAL top-[1, 3, 5, 10, 20, 50] accuracies: [0.0037 0.0104 0.019  0.0372 0.0655 0.1794]\n",
      " \n",
      "Left-out label: TSC2\n"
     ]
    },
    {
     "name": "stderr",
     "output_type": "stream",
     "text": [
      "\r",
      " 98%|█████████▊| 42/43 [40:26<00:53, 53.40s/it]"
     ]
    },
    {
     "name": "stdout",
     "output_type": "stream",
     "text": [
      "TEST top-[1, 3, 5, 10, 20, 50] accuracies: [0.017  0.0458 0.0815 0.1613 0.275  0.6129]\n",
      " \n",
      "TRAIN loss: 0.0022783489800800383\n",
      "VAL loss: 0.006887736121567351\n",
      "TEST loss: 0.0034954088588893726\n",
      "TRAIN top-[1, 3, 5, 10, 20, 50] accuracies: [0.1461 0.2392 0.2873 0.3725 0.4721 0.6648]\n",
      " \n"
     ]
    },
    {
     "name": "stderr",
     "output_type": "stream",
     "text": [
      "100%|██████████| 43/43 [41:18<00:00, 57.64s/it]"
     ]
    },
    {
     "name": "stdout",
     "output_type": "stream",
     "text": [
      "VAL top-[1, 3, 5, 10, 20, 50] accuracies: [0.0022 0.0108 0.0168 0.0405 0.0737 0.2417]\n",
      " \n",
      "Left-out label: WWTR1\n",
      "TEST top-[1, 3, 5, 10, 20, 50] accuracies: [0.     0.     0.     0.0042 0.0157 0.0869]\n",
      " \n"
     ]
    },
    {
     "name": "stderr",
     "output_type": "stream",
     "text": [
      "\n"
     ]
    },
    {
     "data": {
      "application/javascript": [
       "\n",
       "            setTimeout(function() {\n",
       "                var nbb_cell_id = 59;\n",
       "                var nbb_unformatted_code = \"topk_test_accs = []\\nlo_labels = []\\nfor i in tqdm(range(len(data_dicts))):\\n    data_dict = data_dicts[i]\\n\\n    model = nn.Sequential(\\n        nn.Linear(1024, 1024),\\n        nn.PReLU(),\\n        nn.BatchNorm1d(1024),\\n        nn.Linear(1024, 128),\\n    )\\n    optimizer = Adam(model.parameters(), lr=1e-4)\\n    criterion = nn.MSELoss()\\n\\n    fitted_model = train_model(\\n        model=model,\\n        data_dict=data_dict,\\n        optimizer=optimizer,\\n        criterion=criterion,\\n        n_epochs=100,\\n        early_stopping=5,\\n    )\\n\\n    ks = [1, 3, 5, 10, 20, 50]\\n    for mode in [\\\"train\\\", \\\"val\\\", \\\"test\\\"]:\\n        topk_accs = []\\n        preds, labels = get_preds_label_dict(fitted_model, data_dict[mode])\\n        if mode == \\\"test\\\":\\n            lo_label = np.unique(labels)[0]\\n            lo_labels.append(lo_label)\\n            print(\\\"Left-out label: {}\\\".format(lo_label))\\n        for k in ks:\\n            topk_acc, _ = evaluate_top_k_accuracy(preds, labels, node_embs, k=k)\\n            topk_accs.append(topk_acc)\\n        print(\\n            \\\"{} top-{} accuracies: {}\\\".format(mode.upper(), ks, np.round(topk_accs, 4))\\n        )\\n        print(\\\" \\\")\\n    topk_test_accs.append(np.array(topk_accs))\";\n",
       "                var nbb_formatted_code = \"topk_test_accs = []\\nlo_labels = []\\nfor i in tqdm(range(len(data_dicts))):\\n    data_dict = data_dicts[i]\\n\\n    model = nn.Sequential(\\n        nn.Linear(1024, 1024),\\n        nn.PReLU(),\\n        nn.BatchNorm1d(1024),\\n        nn.Linear(1024, 128),\\n    )\\n    optimizer = Adam(model.parameters(), lr=1e-4)\\n    criterion = nn.MSELoss()\\n\\n    fitted_model = train_model(\\n        model=model,\\n        data_dict=data_dict,\\n        optimizer=optimizer,\\n        criterion=criterion,\\n        n_epochs=100,\\n        early_stopping=5,\\n    )\\n\\n    ks = [1, 3, 5, 10, 20, 50]\\n    for mode in [\\\"train\\\", \\\"val\\\", \\\"test\\\"]:\\n        topk_accs = []\\n        preds, labels = get_preds_label_dict(fitted_model, data_dict[mode])\\n        if mode == \\\"test\\\":\\n            lo_label = np.unique(labels)[0]\\n            lo_labels.append(lo_label)\\n            print(\\\"Left-out label: {}\\\".format(lo_label))\\n        for k in ks:\\n            topk_acc, _ = evaluate_top_k_accuracy(preds, labels, node_embs, k=k)\\n            topk_accs.append(topk_acc)\\n        print(\\n            \\\"{} top-{} accuracies: {}\\\".format(mode.upper(), ks, np.round(topk_accs, 4))\\n        )\\n        print(\\\" \\\")\\n    topk_test_accs.append(np.array(topk_accs))\";\n",
       "                var nbb_cells = Jupyter.notebook.get_cells();\n",
       "                for (var i = 0; i < nbb_cells.length; ++i) {\n",
       "                    if (nbb_cells[i].input_prompt_number == nbb_cell_id) {\n",
       "                        if (nbb_cells[i].get_text() == nbb_unformatted_code) {\n",
       "                             nbb_cells[i].set_text(nbb_formatted_code);\n",
       "                        }\n",
       "                        break;\n",
       "                    }\n",
       "                }\n",
       "            }, 500);\n",
       "            "
      ],
      "text/plain": [
       "<IPython.core.display.Javascript object>"
      ]
     },
     "metadata": {},
     "output_type": "display_data"
    }
   ],
   "source": [
    "topk_test_accs = []\n",
    "lo_labels = []\n",
    "for i in tqdm(range(len(data_dicts))):\n",
    "    data_dict = data_dicts[i]\n",
    "\n",
    "    model = nn.Sequential(\n",
    "        nn.Linear(1024, 1024),\n",
    "        nn.PReLU(),\n",
    "        nn.BatchNorm1d(1024),\n",
    "        nn.Linear(1024, 128),\n",
    "    )\n",
    "    optimizer = Adam(model.parameters(), lr=1e-4)\n",
    "    criterion = nn.MSELoss()\n",
    "\n",
    "    fitted_model = train_model(\n",
    "        model=model,\n",
    "        data_dict=data_dict,\n",
    "        optimizer=optimizer,\n",
    "        criterion=criterion,\n",
    "        n_epochs=100,\n",
    "        early_stopping=5,\n",
    "    )\n",
    "\n",
    "    ks = [1, 3, 5, 10, 20, 50]\n",
    "    for mode in [\"train\", \"val\", \"test\"]:\n",
    "        topk_accs = []\n",
    "        preds, labels = get_preds_label_dict(fitted_model, data_dict[mode])\n",
    "        if mode == \"test\":\n",
    "            lo_label = np.unique(labels)[0]\n",
    "            lo_labels.append(lo_label)\n",
    "            print(\"Left-out label: {}\".format(lo_label))\n",
    "        for k in ks:\n",
    "            topk_acc, _ = evaluate_top_k_accuracy(preds, labels, node_embs, k=k)\n",
    "            topk_accs.append(topk_acc)\n",
    "        print(\n",
    "            \"{} top-{} accuracies: {}\".format(mode.upper(), ks, np.round(topk_accs, 4))\n",
    "        )\n",
    "        print(\"---\")\n",
    "    topk_test_accs.append(np.array(topk_accs))"
   ]
  },
  {
   "cell_type": "code",
   "execution_count": 61,
   "id": "fd7455f9",
   "metadata": {
    "scrolled": true
   },
   "outputs": [
    {
     "data": {
      "text/plain": [
       "{'AKT1S1': array([0.3440613 , 0.63141762, 0.79003831, 0.93256705, 0.98390805,\n",
       "        1.        ]),\n",
       " 'APC': array([0.        , 0.        , 0.00202429, 0.00607287, 0.0242915 ,\n",
       "        0.05263158]),\n",
       " 'ATF4': array([0.2976639 , 0.35267521, 0.39487566, 0.49208742, 0.61567445,\n",
       "        0.84476262]),\n",
       " 'BAX': array([0.19188596, 0.23464912, 0.25438596, 0.30263158, 0.3870614 ,\n",
       "        0.6622807 ]),\n",
       " 'BCL2L11': array([0.05447471, 0.07782101, 0.10116732, 0.13229572, 0.19455253,\n",
       "        0.43190661]),\n",
       " 'BRAF': array([0.17923186, 0.23613087, 0.26932195, 0.33096254, 0.43575154,\n",
       "        0.63489806]),\n",
       " 'CASP8': array([0.03719008, 0.04132231, 0.06198347, 0.09090909, 0.15702479,\n",
       "        0.50413223]),\n",
       " 'CDC42': array([0.13131313, 0.22790404, 0.27840909, 0.35037879, 0.47411616,\n",
       "        0.7739899 ]),\n",
       " 'CDKN1A': array([0., 0., 0., 0., 0., 0.]),\n",
       " 'CEBPA': array([0.02527076, 0.12274368, 0.2400722 , 0.3700361 , 0.51624549,\n",
       "        0.73104693]),\n",
       " 'CREB1': array([0.        , 0.        , 0.        , 0.        , 0.0018622 ,\n",
       "        0.08007449]),\n",
       " 'DIABLO': array([0.        , 0.00130378, 0.00912647, 0.03259452, 0.07170795,\n",
       "        0.23337679]),\n",
       " 'E2F1': array([0.02555911, 0.07880724, 0.10436635, 0.14909478, 0.19595314,\n",
       "        0.30031949]),\n",
       " 'ELK1': array([0.12571429, 0.39428571, 0.52857143, 0.74      , 0.86571429,\n",
       "        1.        ]),\n",
       " 'ERG': array([0.13778409, 0.16193182, 0.17613636, 0.20880682, 0.24147727,\n",
       "        0.35227273]),\n",
       " 'FGFR3': array([0.        , 0.00133511, 0.00133511, 0.00534045, 0.01335113,\n",
       "        0.12683578]),\n",
       " 'FOXO1': array([0.1633888 , 0.34795764, 0.44931921, 0.63086233, 0.81391831,\n",
       "        0.99546142]),\n",
       " 'GLI1': array([0.        , 0.        , 0.        , 0.00168067, 0.00504202,\n",
       "        0.02689076]),\n",
       " 'HRAS': array([0.32522796, 0.44680851, 0.54711246, 0.74164134, 0.89969605,\n",
       "        0.98176292]),\n",
       " 'IRAK4': array([0.05170631, 0.10134436, 0.12099276, 0.16752844, 0.21923475,\n",
       "        0.40124095]),\n",
       " 'JUN': array([0.47285887, 0.62726176, 0.70687575, 0.8106152 , 0.87454765,\n",
       "        0.96139928]),\n",
       " 'KRAS': array([0.17974239, 0.34660422, 0.45316159, 0.64168618, 0.81498829,\n",
       "        0.985363  ]),\n",
       " 'MAP2K3': array([0.08214286, 0.20892857, 0.32857143, 0.55      , 0.82321429,\n",
       "        0.99821429]),\n",
       " 'MAP3K2': array([0.21511628, 0.36337209, 0.47674419, 0.67732558, 0.85562016,\n",
       "        0.97965116]),\n",
       " 'MAP3K5': array([0.47679814, 0.77726218, 0.85846868, 0.92807425, 0.97795824,\n",
       "        1.        ]),\n",
       " 'MAP3K9': array([0.13836478, 0.15932914, 0.17819706, 0.2033543 , 0.2557652 ,\n",
       "        0.35849057]),\n",
       " 'MAPK7': array([0.1517976 , 0.21970706, 0.25699068, 0.3195739 , 0.40079893,\n",
       "        0.61651132]),\n",
       " 'MYD88': array([0.0042061 , 0.03154574, 0.03890641, 0.05573081, 0.08201893,\n",
       "        0.23238696]),\n",
       " 'PIK3R2': array([0.09500609, 0.32399513, 0.4591961 , 0.65651644, 0.86601705,\n",
       "        0.99634592]),\n",
       " 'PKIA': array([0.00439883, 0.02199413, 0.02932551, 0.04105572, 0.05278592,\n",
       "        0.10557185]),\n",
       " 'PRKACA': array([0.02813853, 0.03679654, 0.04329004, 0.04978355, 0.07359307,\n",
       "        0.13852814]),\n",
       " 'PRKCE': array([0.2505361 , 0.40671909, 0.49356683, 0.64403145, 0.79592566,\n",
       "        0.93531094]),\n",
       " 'RAF1': array([0.35097957, 0.43559817, 0.46727803, 0.53397249, 0.59941642,\n",
       "        0.72696957]),\n",
       " 'RELB': array([0.28022599, 0.41016949, 0.48926554, 0.62146893, 0.7819209 ,\n",
       "        0.96271186]),\n",
       " 'RHOA': array([0.05676127, 0.14691152, 0.20367279, 0.360601  , 0.52504174,\n",
       "        0.79716194]),\n",
       " 'SMAD3': array([0.00066007, 0.00132013, 0.0039604 , 0.00990099, 0.0310231 ,\n",
       "        0.07458746]),\n",
       " 'SMAD4': array([0.        , 0.00352113, 0.00704225, 0.01408451, 0.02112676,\n",
       "        0.36619718]),\n",
       " 'SMO': array([0.0323488 , 0.06118143, 0.06821378, 0.08016878, 0.09634318,\n",
       "        0.14486639]),\n",
       " 'SRC': array([0.        , 0.00234192, 0.00468384, 0.00936768, 0.02107728,\n",
       "        0.13583138]),\n",
       " 'SREBF1': array([0.20987654, 0.34920635, 0.42504409, 0.52557319, 0.70017637,\n",
       "        0.9382716 ]),\n",
       " 'TRAF2': array([0.01319261, 0.02770449, 0.04617414, 0.06728232, 0.15171504,\n",
       "        0.61477573]),\n",
       " 'TSC2': array([0.01697793, 0.04584041, 0.08149406, 0.16129032, 0.27504244,\n",
       "        0.61290323]),\n",
       " 'WWTR1': array([0.        , 0.        , 0.        , 0.00418848, 0.01570681,\n",
       "        0.08691099])}"
      ]
     },
     "execution_count": 61,
     "metadata": {},
     "output_type": "execute_result"
    },
    {
     "data": {
      "application/javascript": [
       "\n",
       "            setTimeout(function() {\n",
       "                var nbb_cell_id = 61;\n",
       "                var nbb_unformatted_code = \"logo_results = dict(zip(lo_labels, topk_test_accs))\\nlogo_results\";\n",
       "                var nbb_formatted_code = \"logo_results = dict(zip(lo_labels, topk_test_accs))\\nlogo_results\";\n",
       "                var nbb_cells = Jupyter.notebook.get_cells();\n",
       "                for (var i = 0; i < nbb_cells.length; ++i) {\n",
       "                    if (nbb_cells[i].input_prompt_number == nbb_cell_id) {\n",
       "                        if (nbb_cells[i].get_text() == nbb_unformatted_code) {\n",
       "                             nbb_cells[i].set_text(nbb_formatted_code);\n",
       "                        }\n",
       "                        break;\n",
       "                    }\n",
       "                }\n",
       "            }, 500);\n",
       "            "
      ],
      "text/plain": [
       "<IPython.core.display.Javascript object>"
      ]
     },
     "metadata": {},
     "output_type": "display_data"
    }
   ],
   "source": [
    "logo_results = dict(zip(lo_labels, topk_test_accs))\n",
    "logo_results"
   ]
  },
  {
   "cell_type": "code",
   "execution_count": 68,
   "id": "fe87eaa3",
   "metadata": {},
   "outputs": [
    {
     "data": {
      "text/html": [
       "<div>\n",
       "<style scoped>\n",
       "    .dataframe tbody tr th:only-of-type {\n",
       "        vertical-align: middle;\n",
       "    }\n",
       "\n",
       "    .dataframe tbody tr th {\n",
       "        vertical-align: top;\n",
       "    }\n",
       "\n",
       "    .dataframe thead th {\n",
       "        text-align: right;\n",
       "    }\n",
       "</style>\n",
       "<table border=\"1\" class=\"dataframe\">\n",
       "  <thead>\n",
       "    <tr style=\"text-align: right;\">\n",
       "      <th></th>\n",
       "      <th>top1</th>\n",
       "      <th>top3</th>\n",
       "      <th>top5</th>\n",
       "      <th>top10</th>\n",
       "      <th>top20</th>\n",
       "      <th>top50</th>\n",
       "    </tr>\n",
       "  </thead>\n",
       "  <tbody>\n",
       "    <tr>\n",
       "      <th>AKT1S1</th>\n",
       "      <td>0.344061</td>\n",
       "      <td>0.631418</td>\n",
       "      <td>0.790038</td>\n",
       "      <td>0.932567</td>\n",
       "      <td>0.983908</td>\n",
       "      <td>1.000000</td>\n",
       "    </tr>\n",
       "    <tr>\n",
       "      <th>APC</th>\n",
       "      <td>0.000000</td>\n",
       "      <td>0.000000</td>\n",
       "      <td>0.002024</td>\n",
       "      <td>0.006073</td>\n",
       "      <td>0.024291</td>\n",
       "      <td>0.052632</td>\n",
       "    </tr>\n",
       "    <tr>\n",
       "      <th>ATF4</th>\n",
       "      <td>0.297664</td>\n",
       "      <td>0.352675</td>\n",
       "      <td>0.394876</td>\n",
       "      <td>0.492087</td>\n",
       "      <td>0.615674</td>\n",
       "      <td>0.844763</td>\n",
       "    </tr>\n",
       "    <tr>\n",
       "      <th>BAX</th>\n",
       "      <td>0.191886</td>\n",
       "      <td>0.234649</td>\n",
       "      <td>0.254386</td>\n",
       "      <td>0.302632</td>\n",
       "      <td>0.387061</td>\n",
       "      <td>0.662281</td>\n",
       "    </tr>\n",
       "    <tr>\n",
       "      <th>BCL2L11</th>\n",
       "      <td>0.054475</td>\n",
       "      <td>0.077821</td>\n",
       "      <td>0.101167</td>\n",
       "      <td>0.132296</td>\n",
       "      <td>0.194553</td>\n",
       "      <td>0.431907</td>\n",
       "    </tr>\n",
       "  </tbody>\n",
       "</table>\n",
       "</div>"
      ],
      "text/plain": [
       "             top1      top3      top5     top10     top20     top50\n",
       "AKT1S1   0.344061  0.631418  0.790038  0.932567  0.983908  1.000000\n",
       "APC      0.000000  0.000000  0.002024  0.006073  0.024291  0.052632\n",
       "ATF4     0.297664  0.352675  0.394876  0.492087  0.615674  0.844763\n",
       "BAX      0.191886  0.234649  0.254386  0.302632  0.387061  0.662281\n",
       "BCL2L11  0.054475  0.077821  0.101167  0.132296  0.194553  0.431907"
      ]
     },
     "execution_count": 68,
     "metadata": {},
     "output_type": "execute_result"
    },
    {
     "data": {
      "application/javascript": [
       "\n",
       "            setTimeout(function() {\n",
       "                var nbb_cell_id = 68;\n",
       "                var nbb_unformatted_code = \"logo_results_df = pd.DataFrame(logo_results)\\nlogo_results_df = logo_results_df.transpose()\\nlogo_results_df.columns = [\\\"top1\\\", \\\"top3\\\", \\\"top5\\\", \\\"top10\\\", \\\"top20\\\", \\\"top50\\\"]\\nlogo_results_df.head()\";\n",
       "                var nbb_formatted_code = \"logo_results_df = pd.DataFrame(logo_results)\\nlogo_results_df = logo_results_df.transpose()\\nlogo_results_df.columns = [\\\"top1\\\", \\\"top3\\\", \\\"top5\\\", \\\"top10\\\", \\\"top20\\\", \\\"top50\\\"]\\nlogo_results_df.head()\";\n",
       "                var nbb_cells = Jupyter.notebook.get_cells();\n",
       "                for (var i = 0; i < nbb_cells.length; ++i) {\n",
       "                    if (nbb_cells[i].input_prompt_number == nbb_cell_id) {\n",
       "                        if (nbb_cells[i].get_text() == nbb_unformatted_code) {\n",
       "                             nbb_cells[i].set_text(nbb_formatted_code);\n",
       "                        }\n",
       "                        break;\n",
       "                    }\n",
       "                }\n",
       "            }, 500);\n",
       "            "
      ],
      "text/plain": [
       "<IPython.core.display.Javascript object>"
      ]
     },
     "metadata": {},
     "output_type": "display_data"
    }
   ],
   "source": [
    "logo_results_df = pd.DataFrame(logo_results)\n",
    "logo_results_df = logo_results_df.transpose()\n",
    "logo_results_df.columns = [\"top1\", \"top3\", \"top5\", \"top10\", \"top20\", \"top50\"]\n",
    "logo_results_df.head()"
   ]
  },
  {
   "cell_type": "code",
   "execution_count": 69,
   "id": "5075ce1e",
   "metadata": {},
   "outputs": [
    {
     "data": {
      "text/plain": [
       "top1     0.119781\n",
       "top3     0.196878\n",
       "top5     0.243008\n",
       "top10    0.317468\n",
       "top20    0.400195\n",
       "top50    0.555880\n",
       "dtype: float64"
      ]
     },
     "execution_count": 69,
     "metadata": {},
     "output_type": "execute_result"
    },
    {
     "data": {
      "application/javascript": [
       "\n",
       "            setTimeout(function() {\n",
       "                var nbb_cell_id = 69;\n",
       "                var nbb_unformatted_code = \"logo_results_df.mean(axis=0)\";\n",
       "                var nbb_formatted_code = \"logo_results_df.mean(axis=0)\";\n",
       "                var nbb_cells = Jupyter.notebook.get_cells();\n",
       "                for (var i = 0; i < nbb_cells.length; ++i) {\n",
       "                    if (nbb_cells[i].input_prompt_number == nbb_cell_id) {\n",
       "                        if (nbb_cells[i].get_text() == nbb_unformatted_code) {\n",
       "                             nbb_cells[i].set_text(nbb_formatted_code);\n",
       "                        }\n",
       "                        break;\n",
       "                    }\n",
       "                }\n",
       "            }, 500);\n",
       "            "
      ],
      "text/plain": [
       "<IPython.core.display.Javascript object>"
      ]
     },
     "metadata": {},
     "output_type": "display_data"
    }
   ],
   "source": [
    "logo_results_df.mean(axis=0)"
   ]
  },
  {
   "cell_type": "code",
   "execution_count": 82,
   "id": "410a8b00",
   "metadata": {},
   "outputs": [
    {
     "data": {
      "image/png": "[encoded data removed]",
      "text/plain": [
       "<Figure size 720x288 with 1 Axes>"
      ]
     },
     "metadata": {
      "needs_background": "light"
     },
     "output_type": "display_data"
    },
    {
     "data": {
      "application/javascript": [
       "\n",
       "            setTimeout(function() {\n",
       "                var nbb_cell_id = 82;\n",
       "                var nbb_unformatted_code = \"ax = logo_results_df.sort_values(\\\"top1\\\", ascending=False).top1.plot(\\n    kind=\\\"bar\\\", figsize=[10, 4]\\n)\\nax.set_title(\\\"Top-1 accuracy of logo-CV\\\")\\nplt.show()\";\n",
       "                var nbb_formatted_code = \"ax = logo_results_df.sort_values(\\\"top1\\\", ascending=False).top1.plot(\\n    kind=\\\"bar\\\", figsize=[10, 4]\\n)\\nax.set_title(\\\"Top-1 accuracy of logo-CV\\\")\\nplt.show()\";\n",
       "                var nbb_cells = Jupyter.notebook.get_cells();\n",
       "                for (var i = 0; i < nbb_cells.length; ++i) {\n",
       "                    if (nbb_cells[i].input_prompt_number == nbb_cell_id) {\n",
       "                        if (nbb_cells[i].get_text() == nbb_unformatted_code) {\n",
       "                             nbb_cells[i].set_text(nbb_formatted_code);\n",
       "                        }\n",
       "                        break;\n",
       "                    }\n",
       "                }\n",
       "            }, 500);\n",
       "            "
      ],
      "text/plain": [
       "<IPython.core.display.Javascript object>"
      ]
     },
     "metadata": {},
     "output_type": "display_data"
    }
   ],
   "source": [
    "ax = logo_results_df.sort_values(\"top1\", ascending=False).top1.plot(\n",
    "    kind=\"bar\", figsize=[10, 4]\n",
    ")\n",
    "ax.set_title(\"Top-1 accuracy of logo-CV\")\n",
    "plt.show()"
   ]
  },
  {
   "cell_type": "code",
   "execution_count": 83,
   "id": "dbc7cdc2",
   "metadata": {},
   "outputs": [
    {
     "data": {
      "image/png": "[encoded data removed]",
      "text/plain": [
       "<Figure size 720x288 with 1 Axes>"
      ]
     },
     "metadata": {
      "needs_background": "light"
     },
     "output_type": "display_data"
    },
    {
     "data": {
      "application/javascript": [
       "\n",
       "            setTimeout(function() {\n",
       "                var nbb_cell_id = 83;\n",
       "                var nbb_unformatted_code = \"ax = logo_results_df.sort_values(\\\"top3\\\", ascending=False).top3.plot(\\n    kind=\\\"bar\\\", figsize=[10, 4]\\n)\\nax.set_title(\\\"Top-3 accuracy of logo-CV\\\")\\nplt.show()\";\n",
       "                var nbb_formatted_code = \"ax = logo_results_df.sort_values(\\\"top3\\\", ascending=False).top3.plot(\\n    kind=\\\"bar\\\", figsize=[10, 4]\\n)\\nax.set_title(\\\"Top-3 accuracy of logo-CV\\\")\\nplt.show()\";\n",
       "                var nbb_cells = Jupyter.notebook.get_cells();\n",
       "                for (var i = 0; i < nbb_cells.length; ++i) {\n",
       "                    if (nbb_cells[i].input_prompt_number == nbb_cell_id) {\n",
       "                        if (nbb_cells[i].get_text() == nbb_unformatted_code) {\n",
       "                             nbb_cells[i].set_text(nbb_formatted_code);\n",
       "                        }\n",
       "                        break;\n",
       "                    }\n",
       "                }\n",
       "            }, 500);\n",
       "            "
      ],
      "text/plain": [
       "<IPython.core.display.Javascript object>"
      ]
     },
     "metadata": {},
     "output_type": "display_data"
    }
   ],
   "source": [
    "ax = logo_results_df.sort_values(\"top3\", ascending=False).top3.plot(\n",
    "    kind=\"bar\", figsize=[10, 4]\n",
    ")\n",
    "ax.set_title(\"Top-3 accuracy of logo-CV\")\n",
    "plt.show()"
   ]
  },
  {
   "cell_type": "code",
   "execution_count": 84,
   "id": "f6ec9022",
   "metadata": {},
   "outputs": [
    {
     "data": {
      "image/png": "[encoded data removed]",
      "text/plain": [
       "<Figure size 720x288 with 1 Axes>"
      ]
     },
     "metadata": {
      "needs_background": "light"
     },
     "output_type": "display_data"
    },
    {
     "data": {
      "application/javascript": [
       "\n",
       "            setTimeout(function() {\n",
       "                var nbb_cell_id = 84;\n",
       "                var nbb_unformatted_code = \"ax = logo_results_df.sort_values(\\\"top5\\\", ascending=False).top5.plot(\\n    kind=\\\"bar\\\", figsize=[10, 4]\\n)\\nax.set_title(\\\"Top-5 accuracy of logo-CV\\\")\\nplt.show()\";\n",
       "                var nbb_formatted_code = \"ax = logo_results_df.sort_values(\\\"top5\\\", ascending=False).top5.plot(\\n    kind=\\\"bar\\\", figsize=[10, 4]\\n)\\nax.set_title(\\\"Top-5 accuracy of logo-CV\\\")\\nplt.show()\";\n",
       "                var nbb_cells = Jupyter.notebook.get_cells();\n",
       "                for (var i = 0; i < nbb_cells.length; ++i) {\n",
       "                    if (nbb_cells[i].input_prompt_number == nbb_cell_id) {\n",
       "                        if (nbb_cells[i].get_text() == nbb_unformatted_code) {\n",
       "                             nbb_cells[i].set_text(nbb_formatted_code);\n",
       "                        }\n",
       "                        break;\n",
       "                    }\n",
       "                }\n",
       "            }, 500);\n",
       "            "
      ],
      "text/plain": [
       "<IPython.core.display.Javascript object>"
      ]
     },
     "metadata": {},
     "output_type": "display_data"
    }
   ],
   "source": [
    "ax = logo_results_df.sort_values(\"top5\", ascending=False).top5.plot(\n",
    "    kind=\"bar\", figsize=[10, 4]\n",
    ")\n",
    "ax.set_title(\"Top-5 accuracy of logo-CV\")\n",
    "plt.show()"
   ]
  },
  {
   "cell_type": "code",
   "execution_count": 85,
   "id": "67033e4c",
   "metadata": {},
   "outputs": [
    {
     "data": {
      "image/png": "[encoded data removed]",
      "text/plain": [
       "<Figure size 720x288 with 1 Axes>"
      ]
     },
     "metadata": {
      "needs_background": "light"
     },
     "output_type": "display_data"
    },
    {
     "data": {
      "application/javascript": [
       "\n",
       "            setTimeout(function() {\n",
       "                var nbb_cell_id = 85;\n",
       "                var nbb_unformatted_code = \"ax = logo_results_df.sort_values(\\\"top10\\\", ascending=False).top10.plot(\\n    kind=\\\"bar\\\", figsize=[10, 4]\\n)\\nax.set_title(\\\"Top-10 accuracy of logo-CV\\\")\\nplt.show()\";\n",
       "                var nbb_formatted_code = \"ax = logo_results_df.sort_values(\\\"top10\\\", ascending=False).top10.plot(\\n    kind=\\\"bar\\\", figsize=[10, 4]\\n)\\nax.set_title(\\\"Top-10 accuracy of logo-CV\\\")\\nplt.show()\";\n",
       "                var nbb_cells = Jupyter.notebook.get_cells();\n",
       "                for (var i = 0; i < nbb_cells.length; ++i) {\n",
       "                    if (nbb_cells[i].input_prompt_number == nbb_cell_id) {\n",
       "                        if (nbb_cells[i].get_text() == nbb_unformatted_code) {\n",
       "                             nbb_cells[i].set_text(nbb_formatted_code);\n",
       "                        }\n",
       "                        break;\n",
       "                    }\n",
       "                }\n",
       "            }, 500);\n",
       "            "
      ],
      "text/plain": [
       "<IPython.core.display.Javascript object>"
      ]
     },
     "metadata": {},
     "output_type": "display_data"
    }
   ],
   "source": [
    "ax = logo_results_df.sort_values(\"top10\", ascending=False).top10.plot(\n",
    "    kind=\"bar\", figsize=[10, 4]\n",
    ")\n",
    "ax.set_title(\"Top-10 accuracy of logo-CV\")\n",
    "plt.show()"
   ]
  },
  {
   "cell_type": "code",
   "execution_count": 86,
   "id": "1cdd3b64",
   "metadata": {},
   "outputs": [
    {
     "data": {
      "image/png": "[encoded data removed]",
      "text/plain": [
       "<Figure size 720x288 with 1 Axes>"
      ]
     },
     "metadata": {
      "needs_background": "light"
     },
     "output_type": "display_data"
    },
    {
     "data": {
      "application/javascript": [
       "\n",
       "            setTimeout(function() {\n",
       "                var nbb_cell_id = 86;\n",
       "                var nbb_unformatted_code = \"ax = logo_results_df.sort_values(\\\"top20\\\", ascending=False).top20.plot(\\n    kind=\\\"bar\\\", figsize=[10, 4]\\n)\\nax.set_title(\\\"Top-20 accuracy of logo-CV\\\")\\nplt.show()\";\n",
       "                var nbb_formatted_code = \"ax = logo_results_df.sort_values(\\\"top20\\\", ascending=False).top20.plot(\\n    kind=\\\"bar\\\", figsize=[10, 4]\\n)\\nax.set_title(\\\"Top-20 accuracy of logo-CV\\\")\\nplt.show()\";\n",
       "                var nbb_cells = Jupyter.notebook.get_cells();\n",
       "                for (var i = 0; i < nbb_cells.length; ++i) {\n",
       "                    if (nbb_cells[i].input_prompt_number == nbb_cell_id) {\n",
       "                        if (nbb_cells[i].get_text() == nbb_unformatted_code) {\n",
       "                             nbb_cells[i].set_text(nbb_formatted_code);\n",
       "                        }\n",
       "                        break;\n",
       "                    }\n",
       "                }\n",
       "            }, 500);\n",
       "            "
      ],
      "text/plain": [
       "<IPython.core.display.Javascript object>"
      ]
     },
     "metadata": {},
     "output_type": "display_data"
    }
   ],
   "source": [
    "ax = logo_results_df.sort_values(\"top20\", ascending=False).top20.plot(\n",
    "    kind=\"bar\", figsize=[10, 4]\n",
    ")\n",
    "ax.set_title(\"Top-20 accuracy of logo-CV\")\n",
    "plt.show()"
   ]
  },
  {
   "cell_type": "code",
   "execution_count": 87,
   "id": "83b1b2a1",
   "metadata": {},
   "outputs": [
    {
     "data": {
      "image/png": "[encoded data removed]",
      "text/plain": [
       "<Figure size 720x288 with 1 Axes>"
      ]
     },
     "metadata": {
      "needs_background": "light"
     },
     "output_type": "display_data"
    },
    {
     "data": {
      "application/javascript": [
       "\n",
       "            setTimeout(function() {\n",
       "                var nbb_cell_id = 87;\n",
       "                var nbb_unformatted_code = \"ax = logo_results_df.sort_values(\\\"top50\\\", ascending=False).top50.plot(\\n    kind=\\\"bar\\\", figsize=[10, 4]\\n)\\nax.set_title(\\\"Top-50 accuracy of logo-CV\\\")\\nplt.show()\";\n",
       "                var nbb_formatted_code = \"ax = logo_results_df.sort_values(\\\"top50\\\", ascending=False).top50.plot(\\n    kind=\\\"bar\\\", figsize=[10, 4]\\n)\\nax.set_title(\\\"Top-50 accuracy of logo-CV\\\")\\nplt.show()\";\n",
       "                var nbb_cells = Jupyter.notebook.get_cells();\n",
       "                for (var i = 0; i < nbb_cells.length; ++i) {\n",
       "                    if (nbb_cells[i].input_prompt_number == nbb_cell_id) {\n",
       "                        if (nbb_cells[i].get_text() == nbb_unformatted_code) {\n",
       "                             nbb_cells[i].set_text(nbb_formatted_code);\n",
       "                        }\n",
       "                        break;\n",
       "                    }\n",
       "                }\n",
       "            }, 500);\n",
       "            "
      ],
      "text/plain": [
       "<IPython.core.display.Javascript object>"
      ]
     },
     "metadata": {},
     "output_type": "display_data"
    }
   ],
   "source": [
    "ax = logo_results_df.sort_values(\"top50\", ascending=False).top50.plot(\n",
    "    kind=\"bar\", figsize=[10, 4]\n",
    ")\n",
    "ax.set_title(\"Top-50 accuracy of logo-CV\")\n",
    "plt.show()"
   ]
  },
  {
   "cell_type": "code",
   "execution_count": null,
   "id": "827d2e49",
   "metadata": {},
   "outputs": [],
   "source": []
  }
 ],
 "metadata": {
  "kernelspec": {
   "display_name": "Python 3",
   "language": "python",
   "name": "python3"
  },
  "language_info": {
   "codemirror_mode": {
    "name": "ipython",
    "version": 3
   },
   "file_extension": ".py",
   "mimetype": "text/x-python",
   "name": "python",
   "nbconvert_exporter": "python",
   "pygments_lexer": "ipython3",
   "version": "3.8.10"
  }
 },
 "nbformat": 4,
 "nbformat_minor": 5
}
