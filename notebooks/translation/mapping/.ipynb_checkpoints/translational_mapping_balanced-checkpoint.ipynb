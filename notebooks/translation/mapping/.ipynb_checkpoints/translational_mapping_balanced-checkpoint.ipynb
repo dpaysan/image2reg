{
 "cells": [
  {
   "cell_type": "markdown",
   "id": "f9571b7c",
   "metadata": {},
   "source": [
    "# Translational mapping\n",
    "\n",
    "In this notebook we explicitely model the link between the regulatory and structural embeddings of the U2OS cells and evaluate their generalizability.\n",
    "\n",
    "---\n",
    "\n",
    "\n",
    "## 0. Enviromental setup\n",
    "\n",
    "We first load the required packages and define a number of helper functions."
   ]
  },
  {
   "cell_type": "code",
   "execution_count": 120,
   "id": "daeed7c7",
   "metadata": {},
   "outputs": [
    {
     "name": "stdout",
     "output_type": "stream",
     "text": [
      "The nb_black extension is already loaded. To reload it, use:\n",
      "  %reload_ext nb_black\n"
     ]
    },
    {
     "data": {
      "application/javascript": [
       "\n",
       "            setTimeout(function() {\n",
       "                var nbb_cell_id = 120;\n",
       "                var nbb_unformatted_code = \"import pandas as pd\\nimport numpy as np\\nimport matplotlib.pyplot as plt\\nimport seaborn as sns\\nfrom sklearn.preprocessing import StandardScaler\\nfrom sklearn.model_selection import (\\n    train_test_split,\\n    GroupShuffleSplit,\\n    LeaveOneGroupOut,\\n    GroupKFold\\n)\\nfrom torch.utils.data import DataLoader, TensorDataset\\nimport torch\\nfrom torch import nn\\nfrom torch.optim import Adam\\nfrom tqdm import tqdm\\nimport copy\\nfrom sklearn.neighbors import NearestNeighbors\\nfrom collections import Counter\\nfrom imblearn.under_sampling import RandomUnderSampler\\n\\n\\nseed = 1234\\n\\ndevice = \\\"cpu\\\"\\n\\n%load_ext nb_black\";\n",
       "                var nbb_formatted_code = \"import pandas as pd\\nimport numpy as np\\nimport matplotlib.pyplot as plt\\nimport seaborn as sns\\nfrom sklearn.preprocessing import StandardScaler\\nfrom sklearn.model_selection import (\\n    train_test_split,\\n    GroupShuffleSplit,\\n    LeaveOneGroupOut,\\n    GroupKFold,\\n)\\nfrom torch.utils.data import DataLoader, TensorDataset\\nimport torch\\nfrom torch import nn\\nfrom torch.optim import Adam\\nfrom tqdm import tqdm\\nimport copy\\nfrom sklearn.neighbors import NearestNeighbors\\nfrom collections import Counter\\nfrom imblearn.under_sampling import RandomUnderSampler\\n\\n\\nseed = 1234\\n\\ndevice = \\\"cpu\\\"\\n\\n%load_ext nb_black\";\n",
       "                var nbb_cells = Jupyter.notebook.get_cells();\n",
       "                for (var i = 0; i < nbb_cells.length; ++i) {\n",
       "                    if (nbb_cells[i].input_prompt_number == nbb_cell_id) {\n",
       "                        if (nbb_cells[i].get_text() == nbb_unformatted_code) {\n",
       "                             nbb_cells[i].set_text(nbb_formatted_code);\n",
       "                        }\n",
       "                        break;\n",
       "                    }\n",
       "                }\n",
       "            }, 500);\n",
       "            "
      ],
      "text/plain": [
       "<IPython.core.display.Javascript object>"
      ]
     },
     "metadata": {},
     "output_type": "display_data"
    }
   ],
   "source": [
    "import pandas as pd\n",
    "import numpy as np\n",
    "import matplotlib.pyplot as plt\n",
    "import seaborn as sns\n",
    "from sklearn.preprocessing import StandardScaler\n",
    "from sklearn.model_selection import (\n",
    "    train_test_split,\n",
    "    GroupShuffleSplit,\n",
    "    LeaveOneGroupOut,\n",
    "    GroupKFold,\n",
    ")\n",
    "from torch.utils.data import DataLoader, TensorDataset\n",
    "import torch\n",
    "from torch import nn\n",
    "from torch.optim import Adam\n",
    "from tqdm import tqdm\n",
    "import copy\n",
    "from sklearn.neighbors import NearestNeighbors\n",
    "from collections import Counter\n",
    "from imblearn.under_sampling import RandomUnderSampler\n",
    "\n",
    "\n",
    "seed = 1234\n",
    "\n",
    "device = \"cpu\"\n",
    "\n",
    "%load_ext nb_black"
   ]
  },
  {
   "cell_type": "code",
   "execution_count": 14,
   "id": "26881277",
   "metadata": {},
   "outputs": [
    {
     "data": {
      "application/javascript": [
       "\n",
       "            setTimeout(function() {\n",
       "                var nbb_cell_id = 14;\n",
       "                var nbb_unformatted_code = \"def train_model(\\n    model,\\n    optimizer,\\n    criterion,\\n    data_dict,\\n    n_epochs=1000,\\n    early_stopping=50,\\n    device=\\\"cpu\\\",\\n):\\n\\n    best_val_loss = np.infty\\n    best_epoch = 0\\n    best_model_weights = None\\n    es_counter = 0\\n\\n    for i in range(n_epochs):\\n        if es_counter > early_stopping:\\n            break\\n        for mode in [\\\"train\\\", \\\"val\\\"]:\\n            loss = process_single_epoch(\\n                model=model,\\n                optimizer=optimizer,\\n                criterion=criterion,\\n                data=data_dict[mode],\\n                mode=mode,\\n            )\\n            # print(\\\"{} loss: {}\\\".format(mode.upper(), loss))\\n\\n            if mode == \\\"val\\\":\\n                if loss < best_val_loss:\\n                    best_val_loss = loss\\n                    best_epoch = i\\n                    best_model_weights = copy.deepcopy(model.state_dict())\\n                else:\\n                    es_counter += 1\\n\\n    model.load_state_dict(best_model_weights)\\n\\n    for mode in [\\\"train\\\", \\\"val\\\", \\\"test\\\"]:\\n        loss = process_single_epoch(\\n            model, optimizer, criterion, data_dict[mode], \\\"test\\\"\\n        )\\n        print(\\\"{} loss: {}\\\".format(mode.upper(), loss))\\n\\n    return model\\n\\n\\ndef process_single_epoch(model, optimizer, criterion, data, mode, device=\\\"cpu\\\"):\\n    total_loss = 0\\n    model.to(device)\\n    if mode == \\\"train\\\":\\n        model.train()\\n        optimizer.zero_grad()\\n    else:\\n        model.eval()\\n\\n    for inputs, labels, _ in data:\\n        inputs = inputs.type(torch.FloatTensor).to(device)\\n        labels = labels.type(torch.FloatTensor).to(device)\\n\\n        # zero the parameter gradients\\n        optimizer.zero_grad()\\n\\n        # forward\\n        with torch.set_grad_enabled(mode == \\\"train\\\"):\\n            # Get model outputs and calculate loss\\n            outputs = model(inputs)\\n            loss = criterion(outputs, labels)\\n            total_loss += loss.item() * outputs.size(0)\\n\\n            # backward + optimize only if in training phase\\n        if mode == \\\"train\\\":\\n            loss.backward()\\n            optimizer.step()\\n\\n    total_loss /= len(data.dataset)\\n    return total_loss\";\n",
       "                var nbb_formatted_code = \"def train_model(\\n    model,\\n    optimizer,\\n    criterion,\\n    data_dict,\\n    n_epochs=1000,\\n    early_stopping=50,\\n    device=\\\"cpu\\\",\\n):\\n\\n    best_val_loss = np.infty\\n    best_epoch = 0\\n    best_model_weights = None\\n    es_counter = 0\\n\\n    for i in range(n_epochs):\\n        if es_counter > early_stopping:\\n            break\\n        for mode in [\\\"train\\\", \\\"val\\\"]:\\n            loss = process_single_epoch(\\n                model=model,\\n                optimizer=optimizer,\\n                criterion=criterion,\\n                data=data_dict[mode],\\n                mode=mode,\\n            )\\n            # print(\\\"{} loss: {}\\\".format(mode.upper(), loss))\\n\\n            if mode == \\\"val\\\":\\n                if loss < best_val_loss:\\n                    best_val_loss = loss\\n                    best_epoch = i\\n                    best_model_weights = copy.deepcopy(model.state_dict())\\n                else:\\n                    es_counter += 1\\n\\n    model.load_state_dict(best_model_weights)\\n\\n    for mode in [\\\"train\\\", \\\"val\\\", \\\"test\\\"]:\\n        loss = process_single_epoch(\\n            model, optimizer, criterion, data_dict[mode], \\\"test\\\"\\n        )\\n        print(\\\"{} loss: {}\\\".format(mode.upper(), loss))\\n\\n    return model\\n\\n\\ndef process_single_epoch(model, optimizer, criterion, data, mode, device=\\\"cpu\\\"):\\n    total_loss = 0\\n    model.to(device)\\n    if mode == \\\"train\\\":\\n        model.train()\\n        optimizer.zero_grad()\\n    else:\\n        model.eval()\\n\\n    for inputs, labels, _ in data:\\n        inputs = inputs.type(torch.FloatTensor).to(device)\\n        labels = labels.type(torch.FloatTensor).to(device)\\n\\n        # zero the parameter gradients\\n        optimizer.zero_grad()\\n\\n        # forward\\n        with torch.set_grad_enabled(mode == \\\"train\\\"):\\n            # Get model outputs and calculate loss\\n            outputs = model(inputs)\\n            loss = criterion(outputs, labels)\\n            total_loss += loss.item() * outputs.size(0)\\n\\n            # backward + optimize only if in training phase\\n        if mode == \\\"train\\\":\\n            loss.backward()\\n            optimizer.step()\\n\\n    total_loss /= len(data.dataset)\\n    return total_loss\";\n",
       "                var nbb_cells = Jupyter.notebook.get_cells();\n",
       "                for (var i = 0; i < nbb_cells.length; ++i) {\n",
       "                    if (nbb_cells[i].input_prompt_number == nbb_cell_id) {\n",
       "                        if (nbb_cells[i].get_text() == nbb_unformatted_code) {\n",
       "                             nbb_cells[i].set_text(nbb_formatted_code);\n",
       "                        }\n",
       "                        break;\n",
       "                    }\n",
       "                }\n",
       "            }, 500);\n",
       "            "
      ],
      "text/plain": [
       "<IPython.core.display.Javascript object>"
      ]
     },
     "metadata": {},
     "output_type": "display_data"
    }
   ],
   "source": [
    "def train_model(\n",
    "    model,\n",
    "    optimizer,\n",
    "    criterion,\n",
    "    data_dict,\n",
    "    n_epochs=1000,\n",
    "    early_stopping=50,\n",
    "    device=\"cpu\",\n",
    "):\n",
    "\n",
    "    best_val_loss = np.infty\n",
    "    best_epoch = 0\n",
    "    best_model_weights = None\n",
    "    es_counter = 0\n",
    "\n",
    "    for i in range(n_epochs):\n",
    "        if es_counter > early_stopping:\n",
    "            break\n",
    "        for mode in [\"train\", \"val\"]:\n",
    "            loss = process_single_epoch(\n",
    "                model=model,\n",
    "                optimizer=optimizer,\n",
    "                criterion=criterion,\n",
    "                data=data_dict[mode],\n",
    "                mode=mode,\n",
    "            )\n",
    "            # print(\"{} loss: {}\".format(mode.upper(), loss))\n",
    "\n",
    "            if mode == \"val\":\n",
    "                if loss < best_val_loss:\n",
    "                    best_val_loss = loss\n",
    "                    best_epoch = i\n",
    "                    best_model_weights = copy.deepcopy(model.state_dict())\n",
    "                else:\n",
    "                    es_counter += 1\n",
    "\n",
    "    model.load_state_dict(best_model_weights)\n",
    "\n",
    "    for mode in [\"train\", \"val\", \"test\"]:\n",
    "        loss = process_single_epoch(\n",
    "            model, optimizer, criterion, data_dict[mode], \"test\"\n",
    "        )\n",
    "        print(\"{} loss: {}\".format(mode.upper(), loss))\n",
    "\n",
    "    return model\n",
    "\n",
    "\n",
    "def process_single_epoch(model, optimizer, criterion, data, mode, device=\"cpu\"):\n",
    "    total_loss = 0\n",
    "    model.to(device)\n",
    "    if mode == \"train\":\n",
    "        model.train()\n",
    "        optimizer.zero_grad()\n",
    "    else:\n",
    "        model.eval()\n",
    "\n",
    "    for inputs, labels, _ in data:\n",
    "        inputs = inputs.type(torch.FloatTensor).to(device)\n",
    "        labels = labels.type(torch.FloatTensor).to(device)\n",
    "\n",
    "        # zero the parameter gradients\n",
    "        optimizer.zero_grad()\n",
    "\n",
    "        # forward\n",
    "        with torch.set_grad_enabled(mode == \"train\"):\n",
    "            # Get model outputs and calculate loss\n",
    "            outputs = model(inputs)\n",
    "            loss = criterion(outputs, labels)\n",
    "            total_loss += loss.item() * outputs.size(0)\n",
    "\n",
    "            # backward + optimize only if in training phase\n",
    "        if mode == \"train\":\n",
    "            loss.backward()\n",
    "            optimizer.step()\n",
    "\n",
    "    total_loss /= len(data.dataset)\n",
    "    return total_loss"
   ]
  },
  {
   "cell_type": "code",
   "execution_count": 15,
   "id": "ac07fced",
   "metadata": {},
   "outputs": [
    {
     "data": {
      "application/javascript": [
       "\n",
       "            setTimeout(function() {\n",
       "                var nbb_cell_id = 15;\n",
       "                var nbb_unformatted_code = \"class IndexedTensorDataset(torch.utils.data.Dataset):\\n    def __init__(self, data, labels, groups):\\n        super().__init__()\\n        self.data = data\\n        self.labels = labels\\n        self.groups = groups\\n\\n    def __getitem__(self, idx):\\n        return self.data[idx], self.labels[idx], self.groups[idx]\\n\\n    def __len__(self):\\n        return len(self.groups)\";\n",
       "                var nbb_formatted_code = \"class IndexedTensorDataset(torch.utils.data.Dataset):\\n    def __init__(self, data, labels, groups):\\n        super().__init__()\\n        self.data = data\\n        self.labels = labels\\n        self.groups = groups\\n\\n    def __getitem__(self, idx):\\n        return self.data[idx], self.labels[idx], self.groups[idx]\\n\\n    def __len__(self):\\n        return len(self.groups)\";\n",
       "                var nbb_cells = Jupyter.notebook.get_cells();\n",
       "                for (var i = 0; i < nbb_cells.length; ++i) {\n",
       "                    if (nbb_cells[i].input_prompt_number == nbb_cell_id) {\n",
       "                        if (nbb_cells[i].get_text() == nbb_unformatted_code) {\n",
       "                             nbb_cells[i].set_text(nbb_formatted_code);\n",
       "                        }\n",
       "                        break;\n",
       "                    }\n",
       "                }\n",
       "            }, 500);\n",
       "            "
      ],
      "text/plain": [
       "<IPython.core.display.Javascript object>"
      ]
     },
     "metadata": {},
     "output_type": "display_data"
    }
   ],
   "source": [
    "class IndexedTensorDataset(torch.utils.data.Dataset):\n",
    "    def __init__(self, data, labels, groups):\n",
    "        super().__init__()\n",
    "        self.data = data\n",
    "        self.labels = labels\n",
    "        self.groups = groups\n",
    "\n",
    "    def __getitem__(self, idx):\n",
    "        return self.data[idx], self.labels[idx], self.groups[idx]\n",
    "\n",
    "    def __len__(self):\n",
    "        return len(self.groups)"
   ]
  },
  {
   "cell_type": "code",
   "execution_count": 216,
   "id": "b150c930",
   "metadata": {},
   "outputs": [
    {
     "data": {
      "application/javascript": [
       "\n",
       "            setTimeout(function() {\n",
       "                var nbb_cell_id = 216;\n",
       "                var nbb_unformatted_code = \"def get_data_dict(\\n    data,\\n    labels,\\n    val_test_size=[0.2, 0.2],\\n    batch_size=32,\\n    group_labels=None,\\n    scale_x=True,\\n    scale_y=False,\\n    random_state=1234,\\n    balanced=False,\\n):\\n\\n    idc = np.array(list(range(len(data))))\\n    if balanced:\\n        idc, _ = RandomUnderSampler(random_state=random_state).fit_resample(\\n            idc.reshape(-1, 1), list(labels.index)\\n        )\\n        idc = idc.ravel()\\n\\n    if group_labels is None:\\n        train_val_idc, test_idc = train_test_split(\\n            idc, test_size=val_test_size[1], random_state=seed\\n        )\\n        train_idc, val_idc = train_test_split(\\n            train_val_idc, test_size=(val_test_size[0] / (1 - val_test_size[1]))\\n        )\\n    else:\\n        group_labels = group_labels[idc]\\n        gss = GroupShuffleSplit(\\n            n_splits=2, test_size=val_test_size[1], random_state=random_state\\n        )\\n        train_val_idc, test_idc = next(gss.split(idc, groups=group_labels))\\n        gss = GroupShuffleSplit(\\n            n_splits=2,\\n            test_size=(val_test_size[0] / (1 - val_test_size[1])),\\n            random_state=seed,\\n        )\\n        train_val_groups = group_labels[train_val_idc]\\n        train_val_idc = idc[train_val_idc]\\n        test_idc = idc[test_idc]\\n        train_idc, val_idc = next(\\n            gss.split(train_val_idc, groups=train_val_groups)\\n        )\\n        train_idc = train_val_idc[train_idc]\\n        val_idc = train_val_idc[val_idc]\\n\\n    train_data, train_labels = data.iloc[train_idc], labels.iloc[train_idc]\\n    val_data, val_labels = data.iloc[val_idc], labels.iloc[val_idc]\\n    test_data, test_labels = data.iloc[test_idc], labels.iloc[test_idc]\\n\\n    if scale_x:\\n        sc = StandardScaler().fit(train_data)\\n        train_data = sc.transform(train_data)\\n        val_data = sc.transform(val_data)\\n        test_data = sc.transform(test_data)\\n\\n    if scale_y:\\n        sc = StandardScaler().fit(train_labels)\\n        train_labels = sc.transform(train_labels)\\n        val_labels = sc.transform(val_labels)\\n        test_labels = sc.transform(test_labels)\\n\\n    train_dataset = IndexedTensorDataset(\\n        torch.FloatTensor(np.array(train_data)),\\n        torch.FloatTensor(np.array(train_labels)),\\n        list(labels.iloc[train_idc].index),\\n    )\\n    train_loader = DataLoader(train_dataset, batch_size=batch_size, shuffle=True)\\n\\n    val_dataset = IndexedTensorDataset(\\n        torch.FloatTensor(np.array(val_data)),\\n        torch.FloatTensor(np.array(val_labels)),\\n        list(labels.iloc[val_idc].index),\\n    )\\n    val_loader = DataLoader(val_dataset, batch_size=batch_size, shuffle=False)\\n\\n    test_dataset = IndexedTensorDataset(\\n        torch.FloatTensor(np.array(test_data)),\\n        torch.FloatTensor(np.array(test_labels)),\\n        list(labels.iloc[test_idc].index),\\n    )\\n    test_loader = DataLoader(test_dataset, batch_size=batch_size, shuffle=False)\\n\\n    return {\\\"train\\\": train_loader, \\\"val\\\": val_loader, \\\"test\\\": test_loader}\";\n",
       "                var nbb_formatted_code = \"def get_data_dict(\\n    data,\\n    labels,\\n    val_test_size=[0.2, 0.2],\\n    batch_size=32,\\n    group_labels=None,\\n    scale_x=True,\\n    scale_y=False,\\n    random_state=1234,\\n    balanced=False,\\n):\\n\\n    idc = np.array(list(range(len(data))))\\n    if balanced:\\n        idc, _ = RandomUnderSampler(random_state=random_state).fit_resample(\\n            idc.reshape(-1, 1), list(labels.index)\\n        )\\n        idc = idc.ravel()\\n\\n    if group_labels is None:\\n        train_val_idc, test_idc = train_test_split(\\n            idc, test_size=val_test_size[1], random_state=seed\\n        )\\n        train_idc, val_idc = train_test_split(\\n            train_val_idc, test_size=(val_test_size[0] / (1 - val_test_size[1]))\\n        )\\n    else:\\n        group_labels = group_labels[idc]\\n        gss = GroupShuffleSplit(\\n            n_splits=2, test_size=val_test_size[1], random_state=random_state\\n        )\\n        train_val_idc, test_idc = next(gss.split(idc, groups=group_labels))\\n        gss = GroupShuffleSplit(\\n            n_splits=2,\\n            test_size=(val_test_size[0] / (1 - val_test_size[1])),\\n            random_state=seed,\\n        )\\n        train_val_groups = group_labels[train_val_idc]\\n        train_val_idc = idc[train_val_idc]\\n        test_idc = idc[test_idc]\\n        train_idc, val_idc = next(gss.split(train_val_idc, groups=train_val_groups))\\n        train_idc = train_val_idc[train_idc]\\n        val_idc = train_val_idc[val_idc]\\n\\n    train_data, train_labels = data.iloc[train_idc], labels.iloc[train_idc]\\n    val_data, val_labels = data.iloc[val_idc], labels.iloc[val_idc]\\n    test_data, test_labels = data.iloc[test_idc], labels.iloc[test_idc]\\n\\n    if scale_x:\\n        sc = StandardScaler().fit(train_data)\\n        train_data = sc.transform(train_data)\\n        val_data = sc.transform(val_data)\\n        test_data = sc.transform(test_data)\\n\\n    if scale_y:\\n        sc = StandardScaler().fit(train_labels)\\n        train_labels = sc.transform(train_labels)\\n        val_labels = sc.transform(val_labels)\\n        test_labels = sc.transform(test_labels)\\n\\n    train_dataset = IndexedTensorDataset(\\n        torch.FloatTensor(np.array(train_data)),\\n        torch.FloatTensor(np.array(train_labels)),\\n        list(labels.iloc[train_idc].index),\\n    )\\n    train_loader = DataLoader(train_dataset, batch_size=batch_size, shuffle=True)\\n\\n    val_dataset = IndexedTensorDataset(\\n        torch.FloatTensor(np.array(val_data)),\\n        torch.FloatTensor(np.array(val_labels)),\\n        list(labels.iloc[val_idc].index),\\n    )\\n    val_loader = DataLoader(val_dataset, batch_size=batch_size, shuffle=False)\\n\\n    test_dataset = IndexedTensorDataset(\\n        torch.FloatTensor(np.array(test_data)),\\n        torch.FloatTensor(np.array(test_labels)),\\n        list(labels.iloc[test_idc].index),\\n    )\\n    test_loader = DataLoader(test_dataset, batch_size=batch_size, shuffle=False)\\n\\n    return {\\\"train\\\": train_loader, \\\"val\\\": val_loader, \\\"test\\\": test_loader}\";\n",
       "                var nbb_cells = Jupyter.notebook.get_cells();\n",
       "                for (var i = 0; i < nbb_cells.length; ++i) {\n",
       "                    if (nbb_cells[i].input_prompt_number == nbb_cell_id) {\n",
       "                        if (nbb_cells[i].get_text() == nbb_unformatted_code) {\n",
       "                             nbb_cells[i].set_text(nbb_formatted_code);\n",
       "                        }\n",
       "                        break;\n",
       "                    }\n",
       "                }\n",
       "            }, 500);\n",
       "            "
      ],
      "text/plain": [
       "<IPython.core.display.Javascript object>"
      ]
     },
     "metadata": {},
     "output_type": "display_data"
    }
   ],
   "source": [
    "def get_data_dict(\n",
    "    data,\n",
    "    labels,\n",
    "    val_test_size=[0.2, 0.2],\n",
    "    batch_size=32,\n",
    "    group_labels=None,\n",
    "    scale_x=True,\n",
    "    scale_y=False,\n",
    "    random_state=1234,\n",
    "    balanced=False,\n",
    "):\n",
    "\n",
    "    idc = np.array(list(range(len(data))))\n",
    "    if balanced:\n",
    "        idc, _ = RandomUnderSampler(random_state=random_state).fit_resample(\n",
    "            idc.reshape(-1, 1), list(labels.index)\n",
    "        )\n",
    "        idc = idc.ravel()\n",
    "\n",
    "    if group_labels is None:\n",
    "        train_val_idc, test_idc = train_test_split(\n",
    "            idc, test_size=val_test_size[1], random_state=seed\n",
    "        )\n",
    "        train_idc, val_idc = train_test_split(\n",
    "            train_val_idc, test_size=(val_test_size[0] / (1 - val_test_size[1]))\n",
    "        )\n",
    "    else:\n",
    "        group_labels = group_labels[idc]\n",
    "        gss = GroupShuffleSplit(\n",
    "            n_splits=2, test_size=val_test_size[1], random_state=random_state\n",
    "        )\n",
    "        train_val_idc, test_idc = next(gss.split(idc, groups=group_labels))\n",
    "        gss = GroupShuffleSplit(\n",
    "            n_splits=2,\n",
    "            test_size=(val_test_size[0] / (1 - val_test_size[1])),\n",
    "            random_state=seed,\n",
    "        )\n",
    "        train_val_groups = group_labels[train_val_idc]\n",
    "        train_val_idc = idc[train_val_idc]\n",
    "        test_idc = idc[test_idc]\n",
    "        train_idc, val_idc = next(gss.split(train_val_idc, groups=train_val_groups))\n",
    "        train_idc = train_val_idc[train_idc]\n",
    "        val_idc = train_val_idc[val_idc]\n",
    "\n",
    "    train_data, train_labels = data.iloc[train_idc], labels.iloc[train_idc]\n",
    "    val_data, val_labels = data.iloc[val_idc], labels.iloc[val_idc]\n",
    "    test_data, test_labels = data.iloc[test_idc], labels.iloc[test_idc]\n",
    "\n",
    "    if scale_x:\n",
    "        sc = StandardScaler().fit(train_data)\n",
    "        train_data = sc.transform(train_data)\n",
    "        val_data = sc.transform(val_data)\n",
    "        test_data = sc.transform(test_data)\n",
    "\n",
    "    if scale_y:\n",
    "        sc = StandardScaler().fit(train_labels)\n",
    "        train_labels = sc.transform(train_labels)\n",
    "        val_labels = sc.transform(val_labels)\n",
    "        test_labels = sc.transform(test_labels)\n",
    "\n",
    "    train_dataset = IndexedTensorDataset(\n",
    "        torch.FloatTensor(np.array(train_data)),\n",
    "        torch.FloatTensor(np.array(train_labels)),\n",
    "        list(labels.iloc[train_idc].index),\n",
    "    )\n",
    "    train_loader = DataLoader(train_dataset, batch_size=batch_size, shuffle=True)\n",
    "\n",
    "    val_dataset = IndexedTensorDataset(\n",
    "        torch.FloatTensor(np.array(val_data)),\n",
    "        torch.FloatTensor(np.array(val_labels)),\n",
    "        list(labels.iloc[val_idc].index),\n",
    "    )\n",
    "    val_loader = DataLoader(val_dataset, batch_size=batch_size, shuffle=False)\n",
    "\n",
    "    test_dataset = IndexedTensorDataset(\n",
    "        torch.FloatTensor(np.array(test_data)),\n",
    "        torch.FloatTensor(np.array(test_labels)),\n",
    "        list(labels.iloc[test_idc].index),\n",
    "    )\n",
    "    test_loader = DataLoader(test_dataset, batch_size=batch_size, shuffle=False)\n",
    "\n",
    "    return {\"train\": train_loader, \"val\": val_loader, \"test\": test_loader}"
   ]
  },
  {
   "cell_type": "code",
   "execution_count": 197,
   "id": "e5d40881",
   "metadata": {},
   "outputs": [
    {
     "data": {
      "application/javascript": [
       "\n",
       "            setTimeout(function() {\n",
       "                var nbb_cell_id = 197;\n",
       "                var nbb_unformatted_code = \"def evaluate_top_k_accuracy(preds, labels, node_embs, k=5, random_state=1234):\\n    np.random.seed(random_state)\\n    k_correct = 0\\n    k_baseline_correct = 0\\n    neigh = NearestNeighbors(n_neighbors=k, p=2)\\n    targets = np.array(node_embs.index)\\n    counts = Counter(labels)\\n    # print(counts)\\n    most_common = list(sorted(counts, key=counts.get, reverse=True))\\n    # print(most_common)\\n    fitted_neigh = neigh.fit(np.array(node_embs))\\n\\n    neighbor_preds = fitted_neigh.kneighbors(preds, k, return_distance=False)\\n    for i in range(len(neighbor_preds)):\\n        #print(\\\"Label\\\", labels[i])\\n        #print(\\\"Pred\\\", targets[neighbor_preds[i]])\\n        if labels[i] in targets[neighbor_preds[i]]:\\n            k_correct += 1\\n        if labels[i] in np.random.choice(targets, size=k):\\n            k_baseline_correct += 1\\n    return k_correct / len(labels), k_baseline_correct / len(labels)\";\n",
       "                var nbb_formatted_code = \"def evaluate_top_k_accuracy(preds, labels, node_embs, k=5, random_state=1234):\\n    np.random.seed(random_state)\\n    k_correct = 0\\n    k_baseline_correct = 0\\n    neigh = NearestNeighbors(n_neighbors=k, p=2)\\n    targets = np.array(node_embs.index)\\n    counts = Counter(labels)\\n    # print(counts)\\n    most_common = list(sorted(counts, key=counts.get, reverse=True))\\n    # print(most_common)\\n    fitted_neigh = neigh.fit(np.array(node_embs))\\n\\n    neighbor_preds = fitted_neigh.kneighbors(preds, k, return_distance=False)\\n    for i in range(len(neighbor_preds)):\\n        # print(\\\"Label\\\", labels[i])\\n        # print(\\\"Pred\\\", targets[neighbor_preds[i]])\\n        if labels[i] in targets[neighbor_preds[i]]:\\n            k_correct += 1\\n        if labels[i] in np.random.choice(targets, size=k):\\n            k_baseline_correct += 1\\n    return k_correct / len(labels), k_baseline_correct / len(labels)\";\n",
       "                var nbb_cells = Jupyter.notebook.get_cells();\n",
       "                for (var i = 0; i < nbb_cells.length; ++i) {\n",
       "                    if (nbb_cells[i].input_prompt_number == nbb_cell_id) {\n",
       "                        if (nbb_cells[i].get_text() == nbb_unformatted_code) {\n",
       "                             nbb_cells[i].set_text(nbb_formatted_code);\n",
       "                        }\n",
       "                        break;\n",
       "                    }\n",
       "                }\n",
       "            }, 500);\n",
       "            "
      ],
      "text/plain": [
       "<IPython.core.display.Javascript object>"
      ]
     },
     "metadata": {},
     "output_type": "display_data"
    }
   ],
   "source": [
    "def evaluate_top_k_accuracy(preds, labels, node_embs, k=5, random_state=1234):\n",
    "    np.random.seed(random_state)\n",
    "    k_correct = 0\n",
    "    k_baseline_correct = 0\n",
    "    neigh = NearestNeighbors(n_neighbors=k, p=2)\n",
    "    targets = np.array(node_embs.index)\n",
    "    counts = Counter(labels)\n",
    "    # print(counts)\n",
    "    most_common = list(sorted(counts, key=counts.get, reverse=True))\n",
    "    # print(most_common)\n",
    "    fitted_neigh = neigh.fit(np.array(node_embs))\n",
    "\n",
    "    neighbor_preds = fitted_neigh.kneighbors(preds, k, return_distance=False)\n",
    "    for i in range(len(neighbor_preds)):\n",
    "        # print(\"Label\", labels[i])\n",
    "        # print(\"Pred\", targets[neighbor_preds[i]])\n",
    "        if labels[i] in targets[neighbor_preds[i]]:\n",
    "            k_correct += 1\n",
    "        if labels[i] in np.random.choice(targets, size=k):\n",
    "            k_baseline_correct += 1\n",
    "    return k_correct / len(labels), k_baseline_correct / len(labels)"
   ]
  },
  {
   "cell_type": "code",
   "execution_count": 18,
   "id": "bf865155",
   "metadata": {},
   "outputs": [
    {
     "data": {
      "application/javascript": [
       "\n",
       "            setTimeout(function() {\n",
       "                var nbb_cell_id = 18;\n",
       "                var nbb_unformatted_code = \"def get_preds_label_dict(model, data):\\n    preds = []\\n    labels = []\\n\\n    model.eval()\\n\\n    for batch_inputs, _, batch_labels in data:\\n        batch_preds = model(batch_inputs)\\n        preds.extend(list(batch_preds.clone().detach().numpy()))\\n        labels.extend(list(batch_labels))\\n    return np.array(preds), np.array(labels)\";\n",
       "                var nbb_formatted_code = \"def get_preds_label_dict(model, data):\\n    preds = []\\n    labels = []\\n\\n    model.eval()\\n\\n    for batch_inputs, _, batch_labels in data:\\n        batch_preds = model(batch_inputs)\\n        preds.extend(list(batch_preds.clone().detach().numpy()))\\n        labels.extend(list(batch_labels))\\n    return np.array(preds), np.array(labels)\";\n",
       "                var nbb_cells = Jupyter.notebook.get_cells();\n",
       "                for (var i = 0; i < nbb_cells.length; ++i) {\n",
       "                    if (nbb_cells[i].input_prompt_number == nbb_cell_id) {\n",
       "                        if (nbb_cells[i].get_text() == nbb_unformatted_code) {\n",
       "                             nbb_cells[i].set_text(nbb_formatted_code);\n",
       "                        }\n",
       "                        break;\n",
       "                    }\n",
       "                }\n",
       "            }, 500);\n",
       "            "
      ],
      "text/plain": [
       "<IPython.core.display.Javascript object>"
      ]
     },
     "metadata": {},
     "output_type": "display_data"
    }
   ],
   "source": [
    "def get_preds_label_dict(model, data):\n",
    "    preds = []\n",
    "    labels = []\n",
    "\n",
    "    model.eval()\n",
    "\n",
    "    for batch_inputs, _, batch_labels in data:\n",
    "        batch_preds = model(batch_inputs)\n",
    "        preds.extend(list(batch_preds.clone().detach().numpy()))\n",
    "        labels.extend(list(batch_labels))\n",
    "    return np.array(preds), np.array(labels)"
   ]
  },
  {
   "cell_type": "markdown",
   "id": "16f29141",
   "metadata": {},
   "source": [
    "---\n",
    "\n",
    "## 1. Read in data\n",
    "\n",
    "Next, we read in the different data sets that we will use for the modelling and evaluation of the translational mappings. The first data set includes all structural embeddings from data held-out during training as well as the regulatory embeddings of the 244 genes that are part of the inferred interactome."
   ]
  },
  {
   "cell_type": "code",
   "execution_count": 19,
   "id": "89100678",
   "metadata": {},
   "outputs": [
    {
     "data": {
      "text/html": [
       "<div>\n",
       "<style scoped>\n",
       "    .dataframe tbody tr th:only-of-type {\n",
       "        vertical-align: middle;\n",
       "    }\n",
       "\n",
       "    .dataframe tbody tr th {\n",
       "        vertical-align: top;\n",
       "    }\n",
       "\n",
       "    .dataframe thead th {\n",
       "        text-align: right;\n",
       "    }\n",
       "</style>\n",
       "<table border=\"1\" class=\"dataframe\">\n",
       "  <thead>\n",
       "    <tr style=\"text-align: right;\">\n",
       "      <th></th>\n",
       "      <th>0</th>\n",
       "      <th>1</th>\n",
       "      <th>2</th>\n",
       "      <th>3</th>\n",
       "      <th>4</th>\n",
       "      <th>5</th>\n",
       "      <th>6</th>\n",
       "      <th>7</th>\n",
       "      <th>8</th>\n",
       "      <th>9</th>\n",
       "      <th>...</th>\n",
       "      <th>118</th>\n",
       "      <th>119</th>\n",
       "      <th>120</th>\n",
       "      <th>121</th>\n",
       "      <th>122</th>\n",
       "      <th>123</th>\n",
       "      <th>124</th>\n",
       "      <th>125</th>\n",
       "      <th>126</th>\n",
       "      <th>127</th>\n",
       "    </tr>\n",
       "  </thead>\n",
       "  <tbody>\n",
       "    <tr>\n",
       "      <th>CDCA2</th>\n",
       "      <td>-0.046519</td>\n",
       "      <td>-0.049060</td>\n",
       "      <td>-0.065633</td>\n",
       "      <td>0.102739</td>\n",
       "      <td>-0.037012</td>\n",
       "      <td>0.067560</td>\n",
       "      <td>0.070266</td>\n",
       "      <td>-0.008673</td>\n",
       "      <td>0.128273</td>\n",
       "      <td>0.004020</td>\n",
       "      <td>...</td>\n",
       "      <td>-0.071056</td>\n",
       "      <td>-0.156410</td>\n",
       "      <td>0.006000</td>\n",
       "      <td>0.093432</td>\n",
       "      <td>0.034559</td>\n",
       "      <td>0.010527</td>\n",
       "      <td>-0.045864</td>\n",
       "      <td>0.068302</td>\n",
       "      <td>0.115374</td>\n",
       "      <td>-0.101571</td>\n",
       "    </tr>\n",
       "    <tr>\n",
       "      <th>APPBP2</th>\n",
       "      <td>-0.093607</td>\n",
       "      <td>-0.018010</td>\n",
       "      <td>0.060400</td>\n",
       "      <td>-0.022461</td>\n",
       "      <td>0.071339</td>\n",
       "      <td>0.044652</td>\n",
       "      <td>-0.002030</td>\n",
       "      <td>0.008269</td>\n",
       "      <td>-0.100545</td>\n",
       "      <td>-0.035760</td>\n",
       "      <td>...</td>\n",
       "      <td>-0.100010</td>\n",
       "      <td>0.168263</td>\n",
       "      <td>-0.103005</td>\n",
       "      <td>-0.055163</td>\n",
       "      <td>0.053544</td>\n",
       "      <td>-0.075707</td>\n",
       "      <td>0.119875</td>\n",
       "      <td>0.000469</td>\n",
       "      <td>0.004186</td>\n",
       "      <td>0.123274</td>\n",
       "    </tr>\n",
       "    <tr>\n",
       "      <th>TK1</th>\n",
       "      <td>0.023958</td>\n",
       "      <td>0.160870</td>\n",
       "      <td>-0.038898</td>\n",
       "      <td>-0.067761</td>\n",
       "      <td>-0.060810</td>\n",
       "      <td>-0.001184</td>\n",
       "      <td>0.000734</td>\n",
       "      <td>0.029148</td>\n",
       "      <td>0.024501</td>\n",
       "      <td>-0.096013</td>\n",
       "      <td>...</td>\n",
       "      <td>0.057610</td>\n",
       "      <td>-0.050949</td>\n",
       "      <td>-0.017972</td>\n",
       "      <td>0.008282</td>\n",
       "      <td>-0.003922</td>\n",
       "      <td>-0.061075</td>\n",
       "      <td>0.055963</td>\n",
       "      <td>0.034356</td>\n",
       "      <td>0.079510</td>\n",
       "      <td>-0.078223</td>\n",
       "    </tr>\n",
       "    <tr>\n",
       "      <th>MMP2</th>\n",
       "      <td>-0.036499</td>\n",
       "      <td>-0.147354</td>\n",
       "      <td>0.082521</td>\n",
       "      <td>0.133464</td>\n",
       "      <td>0.180986</td>\n",
       "      <td>-0.040401</td>\n",
       "      <td>0.066718</td>\n",
       "      <td>-0.040661</td>\n",
       "      <td>-0.171430</td>\n",
       "      <td>0.154789</td>\n",
       "      <td>...</td>\n",
       "      <td>-0.090356</td>\n",
       "      <td>0.352892</td>\n",
       "      <td>0.012735</td>\n",
       "      <td>-0.153441</td>\n",
       "      <td>-0.086582</td>\n",
       "      <td>0.092603</td>\n",
       "      <td>0.052464</td>\n",
       "      <td>0.000355</td>\n",
       "      <td>-0.323068</td>\n",
       "      <td>0.277830</td>\n",
       "    </tr>\n",
       "    <tr>\n",
       "      <th>PRKACA</th>\n",
       "      <td>0.021894</td>\n",
       "      <td>0.071289</td>\n",
       "      <td>0.021641</td>\n",
       "      <td>-0.079990</td>\n",
       "      <td>0.044919</td>\n",
       "      <td>-0.082366</td>\n",
       "      <td>0.013962</td>\n",
       "      <td>-0.063172</td>\n",
       "      <td>-0.081244</td>\n",
       "      <td>-0.032706</td>\n",
       "      <td>...</td>\n",
       "      <td>0.062312</td>\n",
       "      <td>0.063952</td>\n",
       "      <td>-0.050152</td>\n",
       "      <td>0.112115</td>\n",
       "      <td>-0.041111</td>\n",
       "      <td>0.073021</td>\n",
       "      <td>0.032152</td>\n",
       "      <td>-0.068759</td>\n",
       "      <td>-0.117734</td>\n",
       "      <td>0.067075</td>\n",
       "    </tr>\n",
       "  </tbody>\n",
       "</table>\n",
       "<p>5 rows × 128 columns</p>\n",
       "</div>"
      ],
      "text/plain": [
       "               0         1         2         3         4         5         6  \\\n",
       "CDCA2  -0.046519 -0.049060 -0.065633  0.102739 -0.037012  0.067560  0.070266   \n",
       "APPBP2 -0.093607 -0.018010  0.060400 -0.022461  0.071339  0.044652 -0.002030   \n",
       "TK1     0.023958  0.160870 -0.038898 -0.067761 -0.060810 -0.001184  0.000734   \n",
       "MMP2   -0.036499 -0.147354  0.082521  0.133464  0.180986 -0.040401  0.066718   \n",
       "PRKACA  0.021894  0.071289  0.021641 -0.079990  0.044919 -0.082366  0.013962   \n",
       "\n",
       "               7         8         9  ...       118       119       120  \\\n",
       "CDCA2  -0.008673  0.128273  0.004020  ... -0.071056 -0.156410  0.006000   \n",
       "APPBP2  0.008269 -0.100545 -0.035760  ... -0.100010  0.168263 -0.103005   \n",
       "TK1     0.029148  0.024501 -0.096013  ...  0.057610 -0.050949 -0.017972   \n",
       "MMP2   -0.040661 -0.171430  0.154789  ... -0.090356  0.352892  0.012735   \n",
       "PRKACA -0.063172 -0.081244 -0.032706  ...  0.062312  0.063952 -0.050152   \n",
       "\n",
       "             121       122       123       124       125       126       127  \n",
       "CDCA2   0.093432  0.034559  0.010527 -0.045864  0.068302  0.115374 -0.101571  \n",
       "APPBP2 -0.055163  0.053544 -0.075707  0.119875  0.000469  0.004186  0.123274  \n",
       "TK1     0.008282 -0.003922 -0.061075  0.055963  0.034356  0.079510 -0.078223  \n",
       "MMP2   -0.153441 -0.086582  0.092603  0.052464  0.000355 -0.323068  0.277830  \n",
       "PRKACA  0.112115 -0.041111  0.073021  0.032152 -0.068759 -0.117734  0.067075  \n",
       "\n",
       "[5 rows x 128 columns]"
      ]
     },
     "execution_count": 19,
     "metadata": {},
     "output_type": "execute_result"
    },
    {
     "data": {
      "application/javascript": [
       "\n",
       "            setTimeout(function() {\n",
       "                var nbb_cell_id = 19;\n",
       "                var nbb_unformatted_code = \"node_embs = pd.read_csv(\\n    \\\"../../../data/ppi/embedding/node_embeddings_cv.csv\\\", index_col=0\\n)\\nnode_embs.head()\";\n",
       "                var nbb_formatted_code = \"node_embs = pd.read_csv(\\n    \\\"../../../data/ppi/embedding/node_embeddings_cv.csv\\\", index_col=0\\n)\\nnode_embs.head()\";\n",
       "                var nbb_cells = Jupyter.notebook.get_cells();\n",
       "                for (var i = 0; i < nbb_cells.length; ++i) {\n",
       "                    if (nbb_cells[i].input_prompt_number == nbb_cell_id) {\n",
       "                        if (nbb_cells[i].get_text() == nbb_unformatted_code) {\n",
       "                             nbb_cells[i].set_text(nbb_formatted_code);\n",
       "                        }\n",
       "                        break;\n",
       "                    }\n",
       "                }\n",
       "            }, 500);\n",
       "            "
      ],
      "text/plain": [
       "<IPython.core.display.Javascript object>"
      ]
     },
     "metadata": {},
     "output_type": "display_data"
    }
   ],
   "source": [
    "node_embs = pd.read_csv(\n",
    "    \"../../../data/ppi/embedding/node_embeddings_cv.csv\", index_col=0\n",
    ")\n",
    "node_embs.head()"
   ]
  },
  {
   "cell_type": "markdown",
   "id": "797e82dd",
   "metadata": {},
   "source": [
    "After having loaded the regulatory embeddings, we will now load the structural embeddings defined by the embeddings of the images held-out during the different folds of the cross-validation. Note that we do not group the data of the individual folds as the inferred models map to different latent spaces. We will also decode the numerical labels."
   ]
  },
  {
   "cell_type": "code",
   "execution_count": 20,
   "id": "7cf54c60",
   "metadata": {},
   "outputs": [
    {
     "data": {
      "application/javascript": [
       "\n",
       "            setTimeout(function() {\n",
       "                var nbb_cell_id = 20;\n",
       "                var nbb_unformatted_code = \"label_dict = {\\n    \\\"AKT1S1\\\": 0,\\n    \\\"APC\\\": 1,\\n    \\\"ATF4\\\": 2,\\n    \\\"BAX\\\": 3,\\n    \\\"BCL2L11\\\": 4,\\n    \\\"BRAF\\\": 5,\\n    \\\"CASP8\\\": 6,\\n    \\\"CDC42\\\": 7,\\n    \\\"CDKN1A\\\": 8,\\n    \\\"CEBPA\\\": 9,\\n    \\\"CREB1\\\": 10,\\n    \\\"CSNK1E\\\": 11,\\n    \\\"CXXC4\\\": 12,\\n    \\\"DIABLO\\\": 13,\\n    \\\"E2F1\\\": 14,\\n    \\\"ELK1\\\": 15,\\n    \\\"EMPTY\\\": 16,\\n    \\\"ERG\\\": 17,\\n    \\\"FGFR3\\\": 18,\\n    \\\"FOXO1\\\": 19,\\n    \\\"GLI1\\\": 20,\\n    \\\"HRAS\\\": 21,\\n    \\\"IRAK4\\\": 22,\\n    \\\"JUN\\\": 23,\\n    \\\"KRAS\\\": 24,\\n    \\\"MAP2K3\\\": 25,\\n    \\\"MAP3K2\\\": 26,\\n    \\\"MAP3K5\\\": 27,\\n    \\\"MAP3K9\\\": 28,\\n    \\\"MAPK7\\\": 29,\\n    \\\"MOS\\\": 30,\\n    \\\"MYD88\\\": 31,\\n    \\\"PIK3R2\\\": 32,\\n    \\\"PKIA\\\": 33,\\n    \\\"PRKACA\\\": 34,\\n    \\\"PRKCE\\\": 35,\\n    \\\"RAF1\\\": 36,\\n    \\\"RELB\\\": 37,\\n    \\\"RHOA\\\": 38,\\n    \\\"SMAD3\\\": 39,\\n    \\\"SMAD4\\\": 40,\\n    \\\"SMO\\\": 41,\\n    \\\"SRC\\\": 42,\\n    \\\"SREBF1\\\": 43,\\n    \\\"TRAF2\\\": 44,\\n    \\\"TSC2\\\": 45,\\n    \\\"WWTR1\\\": 46,\\n}\\n\\nlabel_dict = {v: k for k, v in label_dict.items()}\\n\\n\\nimg_embs_dict = {}\\nfor i in range(4):\\n    img_embs = pd.read_hdf(\\n        \\\"../../../data/experiments/image_embeddings/specificity_target_emb_cv_strat/final_1024/fold_{}/test_latents.h5\\\".format(\\n            i\\n        )\\n    )\\n    img_embs.iloc[:, -1] = img_embs.iloc[:, -1].map(label_dict)\\n    img_embs_dict[\\\"fold{}\\\".format(i)] = img_embs\";\n",
       "                var nbb_formatted_code = \"label_dict = {\\n    \\\"AKT1S1\\\": 0,\\n    \\\"APC\\\": 1,\\n    \\\"ATF4\\\": 2,\\n    \\\"BAX\\\": 3,\\n    \\\"BCL2L11\\\": 4,\\n    \\\"BRAF\\\": 5,\\n    \\\"CASP8\\\": 6,\\n    \\\"CDC42\\\": 7,\\n    \\\"CDKN1A\\\": 8,\\n    \\\"CEBPA\\\": 9,\\n    \\\"CREB1\\\": 10,\\n    \\\"CSNK1E\\\": 11,\\n    \\\"CXXC4\\\": 12,\\n    \\\"DIABLO\\\": 13,\\n    \\\"E2F1\\\": 14,\\n    \\\"ELK1\\\": 15,\\n    \\\"EMPTY\\\": 16,\\n    \\\"ERG\\\": 17,\\n    \\\"FGFR3\\\": 18,\\n    \\\"FOXO1\\\": 19,\\n    \\\"GLI1\\\": 20,\\n    \\\"HRAS\\\": 21,\\n    \\\"IRAK4\\\": 22,\\n    \\\"JUN\\\": 23,\\n    \\\"KRAS\\\": 24,\\n    \\\"MAP2K3\\\": 25,\\n    \\\"MAP3K2\\\": 26,\\n    \\\"MAP3K5\\\": 27,\\n    \\\"MAP3K9\\\": 28,\\n    \\\"MAPK7\\\": 29,\\n    \\\"MOS\\\": 30,\\n    \\\"MYD88\\\": 31,\\n    \\\"PIK3R2\\\": 32,\\n    \\\"PKIA\\\": 33,\\n    \\\"PRKACA\\\": 34,\\n    \\\"PRKCE\\\": 35,\\n    \\\"RAF1\\\": 36,\\n    \\\"RELB\\\": 37,\\n    \\\"RHOA\\\": 38,\\n    \\\"SMAD3\\\": 39,\\n    \\\"SMAD4\\\": 40,\\n    \\\"SMO\\\": 41,\\n    \\\"SRC\\\": 42,\\n    \\\"SREBF1\\\": 43,\\n    \\\"TRAF2\\\": 44,\\n    \\\"TSC2\\\": 45,\\n    \\\"WWTR1\\\": 46,\\n}\\n\\nlabel_dict = {v: k for k, v in label_dict.items()}\\n\\n\\nimg_embs_dict = {}\\nfor i in range(4):\\n    img_embs = pd.read_hdf(\\n        \\\"../../../data/experiments/image_embeddings/specificity_target_emb_cv_strat/final_1024/fold_{}/test_latents.h5\\\".format(\\n            i\\n        )\\n    )\\n    img_embs.iloc[:, -1] = img_embs.iloc[:, -1].map(label_dict)\\n    img_embs_dict[\\\"fold{}\\\".format(i)] = img_embs\";\n",
       "                var nbb_cells = Jupyter.notebook.get_cells();\n",
       "                for (var i = 0; i < nbb_cells.length; ++i) {\n",
       "                    if (nbb_cells[i].input_prompt_number == nbb_cell_id) {\n",
       "                        if (nbb_cells[i].get_text() == nbb_unformatted_code) {\n",
       "                             nbb_cells[i].set_text(nbb_formatted_code);\n",
       "                        }\n",
       "                        break;\n",
       "                    }\n",
       "                }\n",
       "            }, 500);\n",
       "            "
      ],
      "text/plain": [
       "<IPython.core.display.Javascript object>"
      ]
     },
     "metadata": {},
     "output_type": "display_data"
    }
   ],
   "source": [
    "label_dict = {\n",
    "    \"AKT1S1\": 0,\n",
    "    \"APC\": 1,\n",
    "    \"ATF4\": 2,\n",
    "    \"BAX\": 3,\n",
    "    \"BCL2L11\": 4,\n",
    "    \"BRAF\": 5,\n",
    "    \"CASP8\": 6,\n",
    "    \"CDC42\": 7,\n",
    "    \"CDKN1A\": 8,\n",
    "    \"CEBPA\": 9,\n",
    "    \"CREB1\": 10,\n",
    "    \"CSNK1E\": 11,\n",
    "    \"CXXC4\": 12,\n",
    "    \"DIABLO\": 13,\n",
    "    \"E2F1\": 14,\n",
    "    \"ELK1\": 15,\n",
    "    \"EMPTY\": 16,\n",
    "    \"ERG\": 17,\n",
    "    \"FGFR3\": 18,\n",
    "    \"FOXO1\": 19,\n",
    "    \"GLI1\": 20,\n",
    "    \"HRAS\": 21,\n",
    "    \"IRAK4\": 22,\n",
    "    \"JUN\": 23,\n",
    "    \"KRAS\": 24,\n",
    "    \"MAP2K3\": 25,\n",
    "    \"MAP3K2\": 26,\n",
    "    \"MAP3K5\": 27,\n",
    "    \"MAP3K9\": 28,\n",
    "    \"MAPK7\": 29,\n",
    "    \"MOS\": 30,\n",
    "    \"MYD88\": 31,\n",
    "    \"PIK3R2\": 32,\n",
    "    \"PKIA\": 33,\n",
    "    \"PRKACA\": 34,\n",
    "    \"PRKCE\": 35,\n",
    "    \"RAF1\": 36,\n",
    "    \"RELB\": 37,\n",
    "    \"RHOA\": 38,\n",
    "    \"SMAD3\": 39,\n",
    "    \"SMAD4\": 40,\n",
    "    \"SMO\": 41,\n",
    "    \"SRC\": 42,\n",
    "    \"SREBF1\": 43,\n",
    "    \"TRAF2\": 44,\n",
    "    \"TSC2\": 45,\n",
    "    \"WWTR1\": 46,\n",
    "}\n",
    "\n",
    "label_dict = {v: k for k, v in label_dict.items()}\n",
    "\n",
    "\n",
    "img_embs_dict = {}\n",
    "for i in range(4):\n",
    "    img_embs = pd.read_hdf(\n",
    "        \"../../../data/experiments/image_embeddings/specificity_target_emb_cv_strat/final_1024/fold_{}/test_latents.h5\".format(\n",
    "            i\n",
    "        )\n",
    "    )\n",
    "    img_embs.iloc[:, -1] = img_embs.iloc[:, -1].map(label_dict)\n",
    "    img_embs_dict[\"fold{}\".format(i)] = img_embs"
   ]
  },
  {
   "cell_type": "code",
   "execution_count": 21,
   "id": "adb0e0bb",
   "metadata": {},
   "outputs": [
    {
     "data": {
      "application/javascript": [
       "\n",
       "            setTimeout(function() {\n",
       "                var nbb_cell_id = 21;\n",
       "                var nbb_unformatted_code = \"img_node_embs_dict = {}\\nshared_targets = set(node_embs.index).intersection(label_dict.values())\\nfor i in range(4):\\n    filtered_img_embs = img_embs_dict[\\\"fold{}\\\".format(i)]\\n    filtered_img_embs = filtered_img_embs.loc[\\n        filtered_img_embs.labels.isin(shared_targets)\\n    ]\\n    filtered_node_embs = node_embs.loc[filtered_img_embs.labels]\\n    filtered_img_embs = filtered_img_embs.iloc[:, :-1]\\n    img_node_embs_dict[\\\"fold{}\\\".format(i)] = filtered_img_embs, filtered_node_embs\";\n",
       "                var nbb_formatted_code = \"img_node_embs_dict = {}\\nshared_targets = set(node_embs.index).intersection(label_dict.values())\\nfor i in range(4):\\n    filtered_img_embs = img_embs_dict[\\\"fold{}\\\".format(i)]\\n    filtered_img_embs = filtered_img_embs.loc[\\n        filtered_img_embs.labels.isin(shared_targets)\\n    ]\\n    filtered_node_embs = node_embs.loc[filtered_img_embs.labels]\\n    filtered_img_embs = filtered_img_embs.iloc[:, :-1]\\n    img_node_embs_dict[\\\"fold{}\\\".format(i)] = filtered_img_embs, filtered_node_embs\";\n",
       "                var nbb_cells = Jupyter.notebook.get_cells();\n",
       "                for (var i = 0; i < nbb_cells.length; ++i) {\n",
       "                    if (nbb_cells[i].input_prompt_number == nbb_cell_id) {\n",
       "                        if (nbb_cells[i].get_text() == nbb_unformatted_code) {\n",
       "                             nbb_cells[i].set_text(nbb_formatted_code);\n",
       "                        }\n",
       "                        break;\n",
       "                    }\n",
       "                }\n",
       "            }, 500);\n",
       "            "
      ],
      "text/plain": [
       "<IPython.core.display.Javascript object>"
      ]
     },
     "metadata": {},
     "output_type": "display_data"
    }
   ],
   "source": [
    "img_node_embs_dict = {}\n",
    "shared_targets = set(node_embs.index).intersection(label_dict.values())\n",
    "for i in range(4):\n",
    "    filtered_img_embs = img_embs_dict[\"fold{}\".format(i)]\n",
    "    filtered_img_embs = filtered_img_embs.loc[\n",
    "        filtered_img_embs.labels.isin(shared_targets)\n",
    "    ]\n",
    "    filtered_node_embs = node_embs.loc[filtered_img_embs.labels]\n",
    "    filtered_img_embs = filtered_img_embs.iloc[:, :-1]\n",
    "    img_node_embs_dict[\"fold{}\".format(i)] = filtered_img_embs, filtered_node_embs"
   ]
  },
  {
   "cell_type": "markdown",
   "id": "20317fe7",
   "metadata": {},
   "source": [
    "---\n",
    "\n",
    "## 3. Exploratory data analysis"
   ]
  },
  {
   "cell_type": "markdown",
   "id": "f81b58f4",
   "metadata": {},
   "source": [
    "As a first step, we will look at the distribution of the labels in the held-out data of the different folds to better understand how the distribution varies across folds. Note that the data was split in a stratified manner such that the total number of nuclei is roughly the same across folds yet nuclei from the same image are guaranteed to end up in the same image. Thus, we expect some class imbalance across the different folds."
   ]
  },
  {
   "cell_type": "code",
   "execution_count": 22,
   "id": "b04b05ae",
   "metadata": {},
   "outputs": [
    {
     "data": {
      "application/javascript": [
       "\n",
       "            setTimeout(function() {\n",
       "                var nbb_cell_id = 22;\n",
       "                var nbb_unformatted_code = \"label_counts = []\\nlabels = []\\nfolds = []\\nfold_keys = list(img_embs_dict.keys())\\nfor i in range(len(fold_keys)):\\n    label_count = img_embs_dict[fold_keys[i]][\\\"labels\\\"].value_counts()\\n    folds.extend([str(i)] * len(label_count))\\n    label_counts.append(label_count)\\n    labels.extend(list(label_count.index))\\nlabel_counts = pd.DataFrame(np.array(pd.concat(label_counts)), columns=[\\\"count\\\"])\\nlabel_counts[\\\"label\\\"] = list(labels)\\nlabel_counts[\\\"fold\\\"] = folds\";\n",
       "                var nbb_formatted_code = \"label_counts = []\\nlabels = []\\nfolds = []\\nfold_keys = list(img_embs_dict.keys())\\nfor i in range(len(fold_keys)):\\n    label_count = img_embs_dict[fold_keys[i]][\\\"labels\\\"].value_counts()\\n    folds.extend([str(i)] * len(label_count))\\n    label_counts.append(label_count)\\n    labels.extend(list(label_count.index))\\nlabel_counts = pd.DataFrame(np.array(pd.concat(label_counts)), columns=[\\\"count\\\"])\\nlabel_counts[\\\"label\\\"] = list(labels)\\nlabel_counts[\\\"fold\\\"] = folds\";\n",
       "                var nbb_cells = Jupyter.notebook.get_cells();\n",
       "                for (var i = 0; i < nbb_cells.length; ++i) {\n",
       "                    if (nbb_cells[i].input_prompt_number == nbb_cell_id) {\n",
       "                        if (nbb_cells[i].get_text() == nbb_unformatted_code) {\n",
       "                             nbb_cells[i].set_text(nbb_formatted_code);\n",
       "                        }\n",
       "                        break;\n",
       "                    }\n",
       "                }\n",
       "            }, 500);\n",
       "            "
      ],
      "text/plain": [
       "<IPython.core.display.Javascript object>"
      ]
     },
     "metadata": {},
     "output_type": "display_data"
    }
   ],
   "source": [
    "label_counts = []\n",
    "labels = []\n",
    "folds = []\n",
    "fold_keys = list(img_embs_dict.keys())\n",
    "for i in range(len(fold_keys)):\n",
    "    label_count = img_embs_dict[fold_keys[i]][\"labels\"].value_counts()\n",
    "    folds.extend([str(i)] * len(label_count))\n",
    "    label_counts.append(label_count)\n",
    "    labels.extend(list(label_count.index))\n",
    "label_counts = pd.DataFrame(np.array(pd.concat(label_counts)), columns=[\"count\"])\n",
    "label_counts[\"label\"] = list(labels)\n",
    "label_counts[\"fold\"] = folds"
   ]
  },
  {
   "cell_type": "code",
   "execution_count": 23,
   "id": "8ee0f10d",
   "metadata": {},
   "outputs": [
    {
     "data": {
      "image/png": "[encoded data removed]",
      "text/plain": [
       "<Figure size 1080x576 with 1 Axes>"
      ]
     },
     "metadata": {
      "needs_background": "light"
     },
     "output_type": "display_data"
    },
    {
     "data": {
      "application/javascript": [
       "\n",
       "            setTimeout(function() {\n",
       "                var nbb_cell_id = 23;\n",
       "                var nbb_unformatted_code = \"fig, ax = plt.subplots(figsize=[15, 8])\\nax = sns.scatterplot(data=label_counts, x=\\\"label\\\", y=\\\"count\\\", hue=\\\"fold\\\", ax=ax)\\nplt.xticks(rotation=90)\\nplt.show()\";\n",
       "                var nbb_formatted_code = \"fig, ax = plt.subplots(figsize=[15, 8])\\nax = sns.scatterplot(data=label_counts, x=\\\"label\\\", y=\\\"count\\\", hue=\\\"fold\\\", ax=ax)\\nplt.xticks(rotation=90)\\nplt.show()\";\n",
       "                var nbb_cells = Jupyter.notebook.get_cells();\n",
       "                for (var i = 0; i < nbb_cells.length; ++i) {\n",
       "                    if (nbb_cells[i].input_prompt_number == nbb_cell_id) {\n",
       "                        if (nbb_cells[i].get_text() == nbb_unformatted_code) {\n",
       "                             nbb_cells[i].set_text(nbb_formatted_code);\n",
       "                        }\n",
       "                        break;\n",
       "                    }\n",
       "                }\n",
       "            }, 500);\n",
       "            "
      ],
      "text/plain": [
       "<IPython.core.display.Javascript object>"
      ]
     },
     "metadata": {},
     "output_type": "display_data"
    }
   ],
   "source": [
    "fig, ax = plt.subplots(figsize=[15, 8])\n",
    "ax = sns.scatterplot(data=label_counts, x=\"label\", y=\"count\", hue=\"fold\", ax=ax)\n",
    "plt.xticks(rotation=90)\n",
    "plt.show()"
   ]
  },
  {
   "cell_type": "markdown",
   "id": "4d0352bd",
   "metadata": {},
   "source": [
    "As mentioned earlier there is quite some variance in the relative distribution of the individual conditions. For instance we have roughly 2700 samples of MAP3K5 as the majority class in fold 2 and just 1600-1800 in the remaining folds. We are working on improving that."
   ]
  },
  {
   "cell_type": "markdown",
   "id": "9e4a88f0",
   "metadata": {},
   "source": [
    "---\n",
    "\n",
    "## 4. Translational analyses\n",
    "\n",
    "We will now use the different embeddings of the three different folds in order to model the link between the regulatory and structural space, by given a structural embedding predict the corresponding regulatory embedding. To this end, we will train a linear model for each held-out fold data. To assess the performance, we will evaluate the mapping in three distinct settings:\n",
    "1. Split the data on a single-nuclei basis, i.e. samples of the same overexpression condition might end up in both the training, validation and test set.\n",
    "2. Split the data on a OE condition level, i.e. samples of the a certain overexpression condition will be ending up in either of the training, validation and test set.\n",
    "3. Leave-one-target out cross-validation"
   ]
  },
  {
   "cell_type": "markdown",
   "id": "aebd8d1e",
   "metadata": {},
   "source": [
    "We will quickly setup the linear model as well as the corresponding optimizer used for that inference."
   ]
  },
  {
   "cell_type": "code",
   "execution_count": 24,
   "id": "1483b8ad",
   "metadata": {},
   "outputs": [
    {
     "data": {
      "application/javascript": [
       "\n",
       "            setTimeout(function() {\n",
       "                var nbb_cell_id = 24;\n",
       "                var nbb_unformatted_code = \"model = nn.Sequential(\\n    #nn.Linear(1024, 1024),\\n    #nn.PReLU(),\\n    nn.BatchNorm1d(1024),\\n    nn.Linear(1024, 128),\\n)\\noptimizer = Adam(model.parameters(), lr=1e-4)\\ncriterion = nn.MSELoss()\";\n",
       "                var nbb_formatted_code = \"model = nn.Sequential(\\n    # nn.Linear(1024, 1024),\\n    # nn.PReLU(),\\n    nn.BatchNorm1d(1024),\\n    nn.Linear(1024, 128),\\n)\\noptimizer = Adam(model.parameters(), lr=1e-4)\\ncriterion = nn.MSELoss()\";\n",
       "                var nbb_cells = Jupyter.notebook.get_cells();\n",
       "                for (var i = 0; i < nbb_cells.length; ++i) {\n",
       "                    if (nbb_cells[i].input_prompt_number == nbb_cell_id) {\n",
       "                        if (nbb_cells[i].get_text() == nbb_unformatted_code) {\n",
       "                             nbb_cells[i].set_text(nbb_formatted_code);\n",
       "                        }\n",
       "                        break;\n",
       "                    }\n",
       "                }\n",
       "            }, 500);\n",
       "            "
      ],
      "text/plain": [
       "<IPython.core.display.Javascript object>"
      ]
     },
     "metadata": {},
     "output_type": "display_data"
    }
   ],
   "source": [
    "model = nn.Sequential(\n",
    "    # nn.Linear(1024, 1024),\n",
    "    # nn.PReLU(),\n",
    "    nn.BatchNorm1d(1024),\n",
    "    nn.Linear(1024, 128),\n",
    ")\n",
    "optimizer = Adam(model.parameters(), lr=1e-4)\n",
    "criterion = nn.MSELoss()"
   ]
  },
  {
   "cell_type": "markdown",
   "id": "9d816694",
   "metadata": {},
   "source": [
    "---\n",
    "\n",
    "### 4.1. Baseline prediction: Nuclei split"
   ]
  },
  {
   "cell_type": "markdown",
   "id": "667d6396",
   "metadata": {},
   "source": [
    "We start of with splitting the data into a training, validation and testing set without distinguishing between OE conditions. This will serve as a baseline of how well we can translate between the two spaces within sample."
   ]
  },
  {
   "cell_type": "code",
   "execution_count": 26,
   "id": "ee2ef041",
   "metadata": {},
   "outputs": [
    {
     "data": {
      "application/javascript": [
       "\n",
       "            setTimeout(function() {\n",
       "                var nbb_cell_id = 26;\n",
       "                var nbb_unformatted_code = \"img_embs_fold0, node_embs_fold0 = img_node_embs_dict[\\\"fold0\\\"]\";\n",
       "                var nbb_formatted_code = \"img_embs_fold0, node_embs_fold0 = img_node_embs_dict[\\\"fold0\\\"]\";\n",
       "                var nbb_cells = Jupyter.notebook.get_cells();\n",
       "                for (var i = 0; i < nbb_cells.length; ++i) {\n",
       "                    if (nbb_cells[i].input_prompt_number == nbb_cell_id) {\n",
       "                        if (nbb_cells[i].get_text() == nbb_unformatted_code) {\n",
       "                             nbb_cells[i].set_text(nbb_formatted_code);\n",
       "                        }\n",
       "                        break;\n",
       "                    }\n",
       "                }\n",
       "            }, 500);\n",
       "            "
      ],
      "text/plain": [
       "<IPython.core.display.Javascript object>"
      ]
     },
     "metadata": {},
     "output_type": "display_data"
    }
   ],
   "source": [
    "img_embs_fold0, node_embs_fold0 = img_node_embs_dict[\"fold0\"]"
   ]
  },
  {
   "cell_type": "code",
   "execution_count": 187,
   "id": "0a350e1b",
   "metadata": {},
   "outputs": [
    {
     "data": {
      "application/javascript": [
       "\n",
       "            setTimeout(function() {\n",
       "                var nbb_cell_id = 187;\n",
       "                var nbb_unformatted_code = \"data_dict = get_data_dict(\\n    data=img_embs_fold0,\\n    labels=node_embs_fold0,\\n    val_test_size=[0.2, 0.2],\\n    group_labels=None,\\n    batch_size=128,\\n    balanced=True,\\n)\";\n",
       "                var nbb_formatted_code = \"data_dict = get_data_dict(\\n    data=img_embs_fold0,\\n    labels=node_embs_fold0,\\n    val_test_size=[0.2, 0.2],\\n    group_labels=None,\\n    batch_size=128,\\n    balanced=True,\\n)\";\n",
       "                var nbb_cells = Jupyter.notebook.get_cells();\n",
       "                for (var i = 0; i < nbb_cells.length; ++i) {\n",
       "                    if (nbb_cells[i].input_prompt_number == nbb_cell_id) {\n",
       "                        if (nbb_cells[i].get_text() == nbb_unformatted_code) {\n",
       "                             nbb_cells[i].set_text(nbb_formatted_code);\n",
       "                        }\n",
       "                        break;\n",
       "                    }\n",
       "                }\n",
       "            }, 500);\n",
       "            "
      ],
      "text/plain": [
       "<IPython.core.display.Javascript object>"
      ]
     },
     "metadata": {},
     "output_type": "display_data"
    }
   ],
   "source": [
    "data_dict = get_data_dict(\n",
    "    data=img_embs_fold0,\n",
    "    labels=node_embs_fold0,\n",
    "    val_test_size=[0.2, 0.2],\n",
    "    group_labels=None,\n",
    "    batch_size=128,\n",
    "    balanced=True,\n",
    ")"
   ]
  },
  {
   "cell_type": "code",
   "execution_count": 194,
   "id": "0108903e",
   "metadata": {},
   "outputs": [
    {
     "name": "stdout",
     "output_type": "stream",
     "text": [
      "Counter({'MAP3K9': 48, 'MAP3K2': 45, 'FGFR3': 43, 'ERG': 42, 'JUN': 41, 'E2F1': 40, 'RAF1': 39, 'ELK1': 39, 'PRKACA': 39, 'DIABLO': 38, 'MYD88': 37, 'MAPK7': 37, 'BCL2L11': 37, 'CDKN1A': 37, 'AKT1S1': 37, 'PIK3R2': 36, 'CREB1': 36, 'SMAD4': 35, 'ATF4': 35, 'IRAK4': 35, 'WWTR1': 35, 'PKIA': 34, 'SMAD3': 33, 'HRAS': 33, 'TRAF2': 33, 'KRAS': 33, 'MAP3K5': 32, 'GLI1': 32, 'BAX': 32, 'PRKCE': 32, 'APC': 32, 'SREBF1': 31, 'RHOA': 31, 'CEBPA': 31, 'BRAF': 30, 'CASP8': 29, 'FOXO1': 28, 'RELB': 28, 'TSC2': 27, 'CDC42': 27, 'SMO': 26, 'SRC': 25, 'MAP2K3': 21})\n"
     ]
    },
    {
     "data": {
      "application/javascript": [
       "\n",
       "            setTimeout(function() {\n",
       "                var nbb_cell_id = 194;\n",
       "                var nbb_unformatted_code = \"labels = []\\nfor _, _, label in data_dict[\\\"val\\\"].dataset:\\n    labels.append(label)\\nprint(Counter(labels))\";\n",
       "                var nbb_formatted_code = \"labels = []\\nfor _, _, label in data_dict[\\\"val\\\"].dataset:\\n    labels.append(label)\\nprint(Counter(labels))\";\n",
       "                var nbb_cells = Jupyter.notebook.get_cells();\n",
       "                for (var i = 0; i < nbb_cells.length; ++i) {\n",
       "                    if (nbb_cells[i].input_prompt_number == nbb_cell_id) {\n",
       "                        if (nbb_cells[i].get_text() == nbb_unformatted_code) {\n",
       "                             nbb_cells[i].set_text(nbb_formatted_code);\n",
       "                        }\n",
       "                        break;\n",
       "                    }\n",
       "                }\n",
       "            }, 500);\n",
       "            "
      ],
      "text/plain": [
       "<IPython.core.display.Javascript object>"
      ]
     },
     "metadata": {},
     "output_type": "display_data"
    }
   ],
   "source": [
    "labels = []\n",
    "for _, _, label in data_dict[\"val\"].dataset:\n",
    "    labels.append(label)\n",
    "print(Counter(labels))"
   ]
  },
  {
   "cell_type": "code",
   "execution_count": 195,
   "id": "3918f4a3",
   "metadata": {
    "scrolled": true
   },
   "outputs": [
    {
     "name": "stdout",
     "output_type": "stream",
     "text": [
      "TRAIN loss: 0.0026954151394943163\n",
      "VAL loss: 0.0028371215802076052\n",
      "TEST loss: 0.0028391370907828546\n"
     ]
    },
    {
     "data": {
      "application/javascript": [
       "\n",
       "            setTimeout(function() {\n",
       "                var nbb_cell_id = 195;\n",
       "                var nbb_unformatted_code = \"fitted_model = train_model(\\n    model=model,\\n    data_dict=data_dict,\\n    optimizer=optimizer,\\n    criterion=criterion,\\n    n_epochs=1000,\\n    early_stopping=20,\\n)\";\n",
       "                var nbb_formatted_code = \"fitted_model = train_model(\\n    model=model,\\n    data_dict=data_dict,\\n    optimizer=optimizer,\\n    criterion=criterion,\\n    n_epochs=1000,\\n    early_stopping=20,\\n)\";\n",
       "                var nbb_cells = Jupyter.notebook.get_cells();\n",
       "                for (var i = 0; i < nbb_cells.length; ++i) {\n",
       "                    if (nbb_cells[i].input_prompt_number == nbb_cell_id) {\n",
       "                        if (nbb_cells[i].get_text() == nbb_unformatted_code) {\n",
       "                             nbb_cells[i].set_text(nbb_formatted_code);\n",
       "                        }\n",
       "                        break;\n",
       "                    }\n",
       "                }\n",
       "            }, 500);\n",
       "            "
      ],
      "text/plain": [
       "<IPython.core.display.Javascript object>"
      ]
     },
     "metadata": {},
     "output_type": "display_data"
    }
   ],
   "source": [
    "fitted_model = train_model(\n",
    "    model=model,\n",
    "    data_dict=data_dict,\n",
    "    optimizer=optimizer,\n",
    "    criterion=criterion,\n",
    "    n_epochs=1000,\n",
    "    early_stopping=20,\n",
    ")"
   ]
  },
  {
   "cell_type": "code",
   "execution_count": 209,
   "id": "2f1d98e6",
   "metadata": {},
   "outputs": [
    {
     "name": "stdout",
     "output_type": "stream",
     "text": [
      "TRAIN top-[1, 3, 5, 10, 20, 50] accuracies: [0.7766 0.8461 0.8842 0.9233 0.9579 0.9878]\n",
      "TRAIN top-[1, 3, 5, 10, 20, 50] baseline accuracies: [0.004  0.0145 0.022  0.04   0.0819 0.182 ]\n",
      " \n",
      "VAL top-[1, 3, 5, 10, 20, 50] accuracies: [0.5471 0.6452 0.7005 0.7732 0.8291 0.9051]\n",
      "VAL top-[1, 3, 5, 10, 20, 50] baseline accuracies: [0.0058 0.0182 0.0188 0.0435 0.0747 0.1826]\n",
      " \n",
      "TEST top-[1, 3, 5, 10, 20, 50] accuracies: [0.3853 0.4496 0.5133 0.6407 0.7609 0.8915]\n",
      "TEST top-[1, 3, 5, 10, 20, 50] baseline accuracies: [0.0052 0.0104 0.0214 0.0468 0.0845 0.1696]\n",
      " \n"
     ]
    },
    {
     "data": {
      "application/javascript": [
       "\n",
       "            setTimeout(function() {\n",
       "                var nbb_cell_id = 209;\n",
       "                var nbb_unformatted_code = \"ks = [1, 3, 5, 10, 20, 50]\\nfor mode in [\\\"train\\\", \\\"val\\\", \\\"test\\\"]:\\n    topk_accs = []\\n    topk_base_accs = []\\n    preds, labels = get_preds_label_dict(fitted_model, data_dict[mode])\\n    for k in ks:\\n        topk_acc, topk_base_acc = evaluate_top_k_accuracy(preds, labels, node_embs, k=k)\\n        topk_accs.append(topk_acc)\\n        topk_base_accs.append(topk_base_acc)\\n    print(\\\"{} top-{} accuracies: {}\\\".format(mode.upper(), ks, np.round(topk_accs, 4)))\\n    print(\\n        \\\"{} top-{} baseline accuracies: {}\\\".format(\\n            mode.upper(), ks, np.round(topk_base_accs, 4)\\n        )\\n    )\\n    print(\\\" \\\")\";\n",
       "                var nbb_formatted_code = \"ks = [1, 3, 5, 10, 20, 50]\\nfor mode in [\\\"train\\\", \\\"val\\\", \\\"test\\\"]:\\n    topk_accs = []\\n    topk_base_accs = []\\n    preds, labels = get_preds_label_dict(fitted_model, data_dict[mode])\\n    for k in ks:\\n        topk_acc, topk_base_acc = evaluate_top_k_accuracy(preds, labels, node_embs, k=k)\\n        topk_accs.append(topk_acc)\\n        topk_base_accs.append(topk_base_acc)\\n    print(\\\"{} top-{} accuracies: {}\\\".format(mode.upper(), ks, np.round(topk_accs, 4)))\\n    print(\\n        \\\"{} top-{} baseline accuracies: {}\\\".format(\\n            mode.upper(), ks, np.round(topk_base_accs, 4)\\n        )\\n    )\\n    print(\\\" \\\")\";\n",
       "                var nbb_cells = Jupyter.notebook.get_cells();\n",
       "                for (var i = 0; i < nbb_cells.length; ++i) {\n",
       "                    if (nbb_cells[i].input_prompt_number == nbb_cell_id) {\n",
       "                        if (nbb_cells[i].get_text() == nbb_unformatted_code) {\n",
       "                             nbb_cells[i].set_text(nbb_formatted_code);\n",
       "                        }\n",
       "                        break;\n",
       "                    }\n",
       "                }\n",
       "            }, 500);\n",
       "            "
      ],
      "text/plain": [
       "<IPython.core.display.Javascript object>"
      ]
     },
     "metadata": {},
     "output_type": "display_data"
    }
   ],
   "source": [
    "ks = [1, 3, 5, 10, 20, 50]\n",
    "for mode in [\"train\", \"val\", \"test\"]:\n",
    "    topk_accs = []\n",
    "    topk_base_accs = []\n",
    "    preds, labels = get_preds_label_dict(fitted_model, data_dict[mode])\n",
    "    for k in ks:\n",
    "        topk_acc, topk_base_acc = evaluate_top_k_accuracy(preds, labels, node_embs, k=k)\n",
    "        topk_accs.append(topk_acc)\n",
    "        topk_base_accs.append(topk_base_acc)\n",
    "    print(\"{} top-{} accuracies: {}\".format(mode.upper(), ks, np.round(topk_accs, 4)))\n",
    "    print(\n",
    "        \"{} top-{} baseline accuracies: {}\".format(\n",
    "            mode.upper(), ks, np.round(topk_base_accs, 4)\n",
    "        )\n",
    "    )\n",
    "    print(\" \")"
   ]
  },
  {
   "cell_type": "markdown",
   "id": "74ca390a",
   "metadata": {},
   "source": [
    "We see that the top-k accuracy suggest indeed a prediction that is better than naive baseline that simply predicts the k-most frequent targets for k<20 for larger k we see that the baseline outperforms the fitted model. The performances of the model on the training, validation and test set are highly comparable."
   ]
  },
  {
   "cell_type": "markdown",
   "id": "1a0e80a1",
   "metadata": {},
   "source": [
    "---\n",
    "\n",
    "### 4.2. Out-of-sample prediction"
   ]
  },
  {
   "cell_type": "code",
   "execution_count": 217,
   "id": "de19e595",
   "metadata": {},
   "outputs": [
    {
     "data": {
      "application/javascript": [
       "\n",
       "            setTimeout(function() {\n",
       "                var nbb_cell_id = 217;\n",
       "                var nbb_unformatted_code = \"data_dict = get_data_dict(\\n    data=img_embs_fold0,\\n    labels=node_embs_fold0,\\n    val_test_size=[0.2, 0.2],\\n    group_labels=np.array(list(node_embs_fold0.index)),\\n    batch_size=128,\\n    balanced=True,\\n)\";\n",
       "                var nbb_formatted_code = \"data_dict = get_data_dict(\\n    data=img_embs_fold0,\\n    labels=node_embs_fold0,\\n    val_test_size=[0.2, 0.2],\\n    group_labels=np.array(list(node_embs_fold0.index)),\\n    batch_size=128,\\n    balanced=True,\\n)\";\n",
       "                var nbb_cells = Jupyter.notebook.get_cells();\n",
       "                for (var i = 0; i < nbb_cells.length; ++i) {\n",
       "                    if (nbb_cells[i].input_prompt_number == nbb_cell_id) {\n",
       "                        if (nbb_cells[i].get_text() == nbb_unformatted_code) {\n",
       "                             nbb_cells[i].set_text(nbb_formatted_code);\n",
       "                        }\n",
       "                        break;\n",
       "                    }\n",
       "                }\n",
       "            }, 500);\n",
       "            "
      ],
      "text/plain": [
       "<IPython.core.display.Javascript object>"
      ]
     },
     "metadata": {},
     "output_type": "display_data"
    }
   ],
   "source": [
    "data_dict = get_data_dict(\n",
    "    data=img_embs_fold0,\n",
    "    labels=node_embs_fold0,\n",
    "    val_test_size=[0.2, 0.2],\n",
    "    group_labels=np.array(list(node_embs_fold0.index)),\n",
    "    batch_size=128,\n",
    "    balanced=True,\n",
    ")"
   ]
  },
  {
   "cell_type": "code",
   "execution_count": 220,
   "id": "122ea629",
   "metadata": {},
   "outputs": [
    {
     "name": "stdout",
     "output_type": "stream",
     "text": [
      "Counter({'AKT1S1': 171, 'APC': 171, 'BRAF': 171, 'CEBPA': 171, 'DIABLO': 171, 'GLI1': 171, 'HRAS': 171, 'MAP3K2': 171, 'RELB': 171})\n"
     ]
    },
    {
     "data": {
      "application/javascript": [
       "\n",
       "            setTimeout(function() {\n",
       "                var nbb_cell_id = 220;\n",
       "                var nbb_unformatted_code = \"labels = []\\nfor _, _, label in data_dict[\\\"val\\\"].dataset:\\n    labels.append(label)\\nprint(Counter(labels))\";\n",
       "                var nbb_formatted_code = \"labels = []\\nfor _, _, label in data_dict[\\\"val\\\"].dataset:\\n    labels.append(label)\\nprint(Counter(labels))\";\n",
       "                var nbb_cells = Jupyter.notebook.get_cells();\n",
       "                for (var i = 0; i < nbb_cells.length; ++i) {\n",
       "                    if (nbb_cells[i].input_prompt_number == nbb_cell_id) {\n",
       "                        if (nbb_cells[i].get_text() == nbb_unformatted_code) {\n",
       "                             nbb_cells[i].set_text(nbb_formatted_code);\n",
       "                        }\n",
       "                        break;\n",
       "                    }\n",
       "                }\n",
       "            }, 500);\n",
       "            "
      ],
      "text/plain": [
       "<IPython.core.display.Javascript object>"
      ]
     },
     "metadata": {},
     "output_type": "display_data"
    }
   ],
   "source": [
    "labels = []\n",
    "for _, _, label in data_dict[\"val\"].dataset:\n",
    "    labels.append(label)\n",
    "print(Counter(labels))"
   ]
  },
  {
   "cell_type": "code",
   "execution_count": 221,
   "id": "324cfcad",
   "metadata": {},
   "outputs": [
    {
     "data": {
      "application/javascript": [
       "\n",
       "            setTimeout(function() {\n",
       "                var nbb_cell_id = 221;\n",
       "                var nbb_unformatted_code = \"model = nn.Sequential(\\n    nn.Linear(1024, 1024),\\n    nn.PReLU(),\\n    nn.BatchNorm1d(1024),\\n    nn.Linear(1024, 128),\\n)\\noptimizer = Adam(model.parameters(), lr=1e-4)\\ncriterion = nn.MSELoss()\";\n",
       "                var nbb_formatted_code = \"model = nn.Sequential(\\n    nn.Linear(1024, 1024),\\n    nn.PReLU(),\\n    nn.BatchNorm1d(1024),\\n    nn.Linear(1024, 128),\\n)\\noptimizer = Adam(model.parameters(), lr=1e-4)\\ncriterion = nn.MSELoss()\";\n",
       "                var nbb_cells = Jupyter.notebook.get_cells();\n",
       "                for (var i = 0; i < nbb_cells.length; ++i) {\n",
       "                    if (nbb_cells[i].input_prompt_number == nbb_cell_id) {\n",
       "                        if (nbb_cells[i].get_text() == nbb_unformatted_code) {\n",
       "                             nbb_cells[i].set_text(nbb_formatted_code);\n",
       "                        }\n",
       "                        break;\n",
       "                    }\n",
       "                }\n",
       "            }, 500);\n",
       "            "
      ],
      "text/plain": [
       "<IPython.core.display.Javascript object>"
      ]
     },
     "metadata": {},
     "output_type": "display_data"
    }
   ],
   "source": [
    "model = nn.Sequential(\n",
    "    nn.Linear(1024, 1024),\n",
    "    nn.PReLU(),\n",
    "    nn.BatchNorm1d(1024),\n",
    "    nn.Linear(1024, 128),\n",
    ")\n",
    "optimizer = Adam(model.parameters(), lr=1e-4)\n",
    "criterion = nn.MSELoss()"
   ]
  },
  {
   "cell_type": "code",
   "execution_count": 222,
   "id": "c2c8ed9a",
   "metadata": {},
   "outputs": [
    {
     "name": "stdout",
     "output_type": "stream",
     "text": [
      "TRAIN loss: 0.0017617567725294427\n",
      "VAL loss: 0.0048543604216680575\n",
      "TEST loss: 0.008442990443426595\n"
     ]
    },
    {
     "data": {
      "application/javascript": [
       "\n",
       "            setTimeout(function() {\n",
       "                var nbb_cell_id = 222;\n",
       "                var nbb_unformatted_code = \"fitted_model = train_model(\\n    model=model,\\n    data_dict=data_dict,\\n    optimizer=optimizer,\\n    criterion=criterion,\\n    n_epochs=1000,\\n    early_stopping=20,\\n)\";\n",
       "                var nbb_formatted_code = \"fitted_model = train_model(\\n    model=model,\\n    data_dict=data_dict,\\n    optimizer=optimizer,\\n    criterion=criterion,\\n    n_epochs=1000,\\n    early_stopping=20,\\n)\";\n",
       "                var nbb_cells = Jupyter.notebook.get_cells();\n",
       "                for (var i = 0; i < nbb_cells.length; ++i) {\n",
       "                    if (nbb_cells[i].input_prompt_number == nbb_cell_id) {\n",
       "                        if (nbb_cells[i].get_text() == nbb_unformatted_code) {\n",
       "                             nbb_cells[i].set_text(nbb_formatted_code);\n",
       "                        }\n",
       "                        break;\n",
       "                    }\n",
       "                }\n",
       "            }, 500);\n",
       "            "
      ],
      "text/plain": [
       "<IPython.core.display.Javascript object>"
      ]
     },
     "metadata": {},
     "output_type": "display_data"
    }
   ],
   "source": [
    "fitted_model = train_model(\n",
    "    model=model,\n",
    "    data_dict=data_dict,\n",
    "    optimizer=optimizer,\n",
    "    criterion=criterion,\n",
    "    n_epochs=1000,\n",
    "    early_stopping=20,\n",
    ")"
   ]
  },
  {
   "cell_type": "code",
   "execution_count": 223,
   "id": "58e98536",
   "metadata": {},
   "outputs": [
    {
     "name": "stdout",
     "output_type": "stream",
     "text": [
      "TRAIN top-[1, 3, 5, 10, 20, 50] accuracies: [0.3277 0.4676 0.5235 0.6098 0.7074 0.8639]\n",
      "VAL top-[1, 3, 5, 10, 20, 50] accuracies: [0.0344 0.0994 0.1514 0.2463 0.3522 0.514 ]\n",
      "TEST top-[1, 3, 5, 10, 20, 50] accuracies: [0.0013 0.0013 0.0039 0.0214 0.0669 0.2151]\n"
     ]
    },
    {
     "data": {
      "application/javascript": [
       "\n",
       "            setTimeout(function() {\n",
       "                var nbb_cell_id = 223;\n",
       "                var nbb_unformatted_code = \"ks = [1, 3, 5, 10, 20, 50]\\nfor mode in [\\\"train\\\", \\\"val\\\", \\\"test\\\"]:\\n    topk_accs = []\\n    topk_base_accs = []\\n    preds, labels = get_preds_label_dict(fitted_model, data_dict[mode])\\n    for k in ks:\\n        topk_acc, topk_base_acc = evaluate_top_k_accuracy(preds, labels, node_embs, k=k)\\n        topk_accs.append(topk_acc)\\n        topk_base_accs.append(topk_base_acc)\\n    print(\\\"{} top-{} accuracies: {}\\\".format(mode.upper(), ks, np.round(topk_accs, 4)))\";\n",
       "                var nbb_formatted_code = \"ks = [1, 3, 5, 10, 20, 50]\\nfor mode in [\\\"train\\\", \\\"val\\\", \\\"test\\\"]:\\n    topk_accs = []\\n    topk_base_accs = []\\n    preds, labels = get_preds_label_dict(fitted_model, data_dict[mode])\\n    for k in ks:\\n        topk_acc, topk_base_acc = evaluate_top_k_accuracy(preds, labels, node_embs, k=k)\\n        topk_accs.append(topk_acc)\\n        topk_base_accs.append(topk_base_acc)\\n    print(\\\"{} top-{} accuracies: {}\\\".format(mode.upper(), ks, np.round(topk_accs, 4)))\";\n",
       "                var nbb_cells = Jupyter.notebook.get_cells();\n",
       "                for (var i = 0; i < nbb_cells.length; ++i) {\n",
       "                    if (nbb_cells[i].input_prompt_number == nbb_cell_id) {\n",
       "                        if (nbb_cells[i].get_text() == nbb_unformatted_code) {\n",
       "                             nbb_cells[i].set_text(nbb_formatted_code);\n",
       "                        }\n",
       "                        break;\n",
       "                    }\n",
       "                }\n",
       "            }, 500);\n",
       "            "
      ],
      "text/plain": [
       "<IPython.core.display.Javascript object>"
      ]
     },
     "metadata": {},
     "output_type": "display_data"
    }
   ],
   "source": [
    "ks = [1, 3, 5, 10, 20, 50]\n",
    "for mode in [\"train\", \"val\", \"test\"]:\n",
    "    topk_accs = []\n",
    "    topk_base_accs = []\n",
    "    preds, labels = get_preds_label_dict(fitted_model, data_dict[mode])\n",
    "    for k in ks:\n",
    "        topk_acc, topk_base_acc = evaluate_top_k_accuracy(preds, labels, node_embs, k=k)\n",
    "        topk_accs.append(topk_acc)\n",
    "        topk_base_accs.append(topk_base_acc)\n",
    "    print(\"{} top-{} accuracies: {}\".format(mode.upper(), ks, np.round(topk_accs, 4)))"
   ]
  },
  {
   "cell_type": "markdown",
   "id": "9e5dab2e",
   "metadata": {},
   "source": [
    "Note that for the held-out configuration the baseline accuracies are not reliable as those correspond to the most frequent classes in the corresponding data set."
   ]
  },
  {
   "cell_type": "markdown",
   "id": "a5ce4738",
   "metadata": {},
   "source": [
    "---\n",
    "\n",
    "### 4.3. Leave-one-out cross-validation"
   ]
  },
  {
   "cell_type": "markdown",
   "id": "bf9d443e",
   "metadata": {},
   "source": [
    "Finally, we will apply leave-one-target out crossvalidation."
   ]
  },
  {
   "cell_type": "code",
   "execution_count": 166,
   "id": "7c1575d6",
   "metadata": {},
   "outputs": [
    {
     "data": {
      "application/javascript": [
       "\n",
       "            setTimeout(function() {\n",
       "                var nbb_cell_id = 166;\n",
       "                var nbb_unformatted_code = \"def get_logo_data_dicts(\\n    data,\\n    labels,\\n    group_labels,\\n    val_size=0.05,\\n    batch_size=128,\\n    random_state=1234,\\n    scale_x=True,\\n    scale_y=False,\\n    balanced=False,\\n):\\n    logo = LeaveOneGroupOut()\\n    data_dicts = []\\n\\n    idc = np.array(list(range(len(data))))\\n    if balanced:\\n        idc, _ = RandomUnderSampler(random_state=random_state).fit_resample(\\n            idc.reshape(-1, 1), list(labels.index)\\n        )\\n        idc = list(idc.ravel())\\n        group_labels = group_labels[idc]\\n        data = data.iloc[idc]\\n        labels = labels.iloc[idc]\\n        group_labels = np.array(labels.index)\\n        idc = list(range(len(data)))\\n\\n    for train_val_idc, test_idc in logo.split(idc, groups=group_labels):\\n\\n        test_data, test_labels = data.iloc[test_idc], labels.iloc[test_idc]\\n        train_val_data, train_val_labels = (\\n            data.iloc[train_val_idc],\\n            labels.iloc[train_val_idc],\\n        )\\n        train_val_idc = list(range(len(train_val_data)))\\n        train_val_group_labels = group_labels[train_val_idc]\\n        gss = GroupKFold(n_splits=int(1 / val_size))\\n        train_val_group_labels = group_labels[train_val_idc]\\n        train_idc, val_idc = next(\\n            gss.split(train_val_idc, groups=train_val_group_labels)\\n        )\\n\\n        train_data, train_labels = (\\n            train_val_data.iloc[train_idc],\\n            train_val_labels.iloc[train_idc],\\n        )\\n        val_data, val_labels = (\\n            train_val_data.iloc[val_idc],\\n            train_val_labels.iloc[val_idc],\\n        )\\n        print(Counter(test_labels.index))\\n        print(Counter(train_labels.index))\\n        print(Counter(val_labels.index))\\n        print(\\\" \\\")\\n\\n        if scale_x:\\n            sc = StandardScaler().fit(train_data)\\n            train_data = sc.transform(train_data)\\n            val_data = sc.transform(val_data)\\n            test_data = sc.transform(test_data)\\n\\n        if scale_y:\\n            sc = StandardScaler().fit(train_labels)\\n            train_labels = sc.transform(train_labels)\\n            val_labels = sc.transform(val_labels)\\n            test_labels = sc.transform(test_labels)\\n\\n        train_dataset = IndexedTensorDataset(\\n            torch.FloatTensor(np.array(train_data)),\\n            torch.FloatTensor(np.array(train_labels)),\\n            list(train_labels.index),\\n        )\\n        train_loader = DataLoader(train_dataset, batch_size=batch_size, shuffle=True)\\n\\n        val_dataset = IndexedTensorDataset(\\n            torch.FloatTensor(np.array(val_data)),\\n            torch.FloatTensor(np.array(val_labels)),\\n            list(val_labels.index),\\n        )\\n        val_loader = DataLoader(val_dataset, batch_size=batch_size, shuffle=False)\\n\\n        test_dataset = IndexedTensorDataset(\\n            torch.FloatTensor(np.array(test_data)),\\n            torch.FloatTensor(np.array(test_labels)),\\n            list(test_labels.index),\\n        )\\n        test_loader = DataLoader(test_dataset, batch_size=batch_size, shuffle=False)\\n\\n        data_dict = {\\\"train\\\": train_loader, \\\"val\\\": val_loader, \\\"test\\\": test_loader}\\n        data_dicts.append(data_dict)\\n    return data_dicts\";\n",
       "                var nbb_formatted_code = \"def get_logo_data_dicts(\\n    data,\\n    labels,\\n    group_labels,\\n    val_size=0.05,\\n    batch_size=128,\\n    random_state=1234,\\n    scale_x=True,\\n    scale_y=False,\\n    balanced=False,\\n):\\n    logo = LeaveOneGroupOut()\\n    data_dicts = []\\n\\n    idc = np.array(list(range(len(data))))\\n    if balanced:\\n        idc, _ = RandomUnderSampler(random_state=random_state).fit_resample(\\n            idc.reshape(-1, 1), list(labels.index)\\n        )\\n        idc = list(idc.ravel())\\n        group_labels = group_labels[idc]\\n        data = data.iloc[idc]\\n        labels = labels.iloc[idc]\\n        group_labels = np.array(labels.index)\\n        idc = list(range(len(data)))\\n\\n    for train_val_idc, test_idc in logo.split(idc, groups=group_labels):\\n\\n        test_data, test_labels = data.iloc[test_idc], labels.iloc[test_idc]\\n        train_val_data, train_val_labels = (\\n            data.iloc[train_val_idc],\\n            labels.iloc[train_val_idc],\\n        )\\n        train_val_idc = list(range(len(train_val_data)))\\n        train_val_group_labels = group_labels[train_val_idc]\\n        gss = GroupKFold(n_splits=int(1 / val_size))\\n        train_val_group_labels = group_labels[train_val_idc]\\n        train_idc, val_idc = next(\\n            gss.split(train_val_idc, groups=train_val_group_labels)\\n        )\\n\\n        train_data, train_labels = (\\n            train_val_data.iloc[train_idc],\\n            train_val_labels.iloc[train_idc],\\n        )\\n        val_data, val_labels = (\\n            train_val_data.iloc[val_idc],\\n            train_val_labels.iloc[val_idc],\\n        )\\n        print(Counter(test_labels.index))\\n        print(Counter(train_labels.index))\\n        print(Counter(val_labels.index))\\n        print(\\\" \\\")\\n\\n        if scale_x:\\n            sc = StandardScaler().fit(train_data)\\n            train_data = sc.transform(train_data)\\n            val_data = sc.transform(val_data)\\n            test_data = sc.transform(test_data)\\n\\n        if scale_y:\\n            sc = StandardScaler().fit(train_labels)\\n            train_labels = sc.transform(train_labels)\\n            val_labels = sc.transform(val_labels)\\n            test_labels = sc.transform(test_labels)\\n\\n        train_dataset = IndexedTensorDataset(\\n            torch.FloatTensor(np.array(train_data)),\\n            torch.FloatTensor(np.array(train_labels)),\\n            list(train_labels.index),\\n        )\\n        train_loader = DataLoader(train_dataset, batch_size=batch_size, shuffle=True)\\n\\n        val_dataset = IndexedTensorDataset(\\n            torch.FloatTensor(np.array(val_data)),\\n            torch.FloatTensor(np.array(val_labels)),\\n            list(val_labels.index),\\n        )\\n        val_loader = DataLoader(val_dataset, batch_size=batch_size, shuffle=False)\\n\\n        test_dataset = IndexedTensorDataset(\\n            torch.FloatTensor(np.array(test_data)),\\n            torch.FloatTensor(np.array(test_labels)),\\n            list(test_labels.index),\\n        )\\n        test_loader = DataLoader(test_dataset, batch_size=batch_size, shuffle=False)\\n\\n        data_dict = {\\\"train\\\": train_loader, \\\"val\\\": val_loader, \\\"test\\\": test_loader}\\n        data_dicts.append(data_dict)\\n    return data_dicts\";\n",
       "                var nbb_cells = Jupyter.notebook.get_cells();\n",
       "                for (var i = 0; i < nbb_cells.length; ++i) {\n",
       "                    if (nbb_cells[i].input_prompt_number == nbb_cell_id) {\n",
       "                        if (nbb_cells[i].get_text() == nbb_unformatted_code) {\n",
       "                             nbb_cells[i].set_text(nbb_formatted_code);\n",
       "                        }\n",
       "                        break;\n",
       "                    }\n",
       "                }\n",
       "            }, 500);\n",
       "            "
      ],
      "text/plain": [
       "<IPython.core.display.Javascript object>"
      ]
     },
     "metadata": {},
     "output_type": "display_data"
    }
   ],
   "source": [
    "def get_logo_data_dicts(\n",
    "    data,\n",
    "    labels,\n",
    "    group_labels,\n",
    "    val_size=0.05,\n",
    "    batch_size=128,\n",
    "    random_state=1234,\n",
    "    scale_x=True,\n",
    "    scale_y=False,\n",
    "    balanced=False,\n",
    "):\n",
    "    logo = LeaveOneGroupOut()\n",
    "    data_dicts = []\n",
    "\n",
    "    idc = np.array(list(range(len(data))))\n",
    "    if balanced:\n",
    "        idc, _ = RandomUnderSampler(random_state=random_state).fit_resample(\n",
    "            idc.reshape(-1, 1), list(labels.index)\n",
    "        )\n",
    "        idc = list(idc.ravel())\n",
    "        group_labels = group_labels[idc]\n",
    "        data = data.iloc[idc]\n",
    "        labels = labels.iloc[idc]\n",
    "        group_labels = np.array(labels.index)\n",
    "        idc = list(range(len(data)))\n",
    "\n",
    "    for train_val_idc, test_idc in logo.split(idc, groups=group_labels):\n",
    "\n",
    "        test_data, test_labels = data.iloc[test_idc], labels.iloc[test_idc]\n",
    "        train_val_data, train_val_labels = (\n",
    "            data.iloc[train_val_idc],\n",
    "            labels.iloc[train_val_idc],\n",
    "        )\n",
    "        train_val_idc = list(range(len(train_val_data)))\n",
    "        train_val_group_labels = group_labels[train_val_idc]\n",
    "        gss = GroupKFold(n_splits=int(1 / val_size))\n",
    "        train_val_group_labels = group_labels[train_val_idc]\n",
    "        train_idc, val_idc = next(\n",
    "            gss.split(train_val_idc, groups=train_val_group_labels)\n",
    "        )\n",
    "\n",
    "        train_data, train_labels = (\n",
    "            train_val_data.iloc[train_idc],\n",
    "            train_val_labels.iloc[train_idc],\n",
    "        )\n",
    "        val_data, val_labels = (\n",
    "            train_val_data.iloc[val_idc],\n",
    "            train_val_labels.iloc[val_idc],\n",
    "        )\n",
    "        print(Counter(test_labels.index))\n",
    "        print(Counter(train_labels.index))\n",
    "        print(Counter(val_labels.index))\n",
    "        print(\" \")\n",
    "\n",
    "        if scale_x:\n",
    "            sc = StandardScaler().fit(train_data)\n",
    "            train_data = sc.transform(train_data)\n",
    "            val_data = sc.transform(val_data)\n",
    "            test_data = sc.transform(test_data)\n",
    "\n",
    "        if scale_y:\n",
    "            sc = StandardScaler().fit(train_labels)\n",
    "            train_labels = sc.transform(train_labels)\n",
    "            val_labels = sc.transform(val_labels)\n",
    "            test_labels = sc.transform(test_labels)\n",
    "\n",
    "        train_dataset = IndexedTensorDataset(\n",
    "            torch.FloatTensor(np.array(train_data)),\n",
    "            torch.FloatTensor(np.array(train_labels)),\n",
    "            list(train_labels.index),\n",
    "        )\n",
    "        train_loader = DataLoader(train_dataset, batch_size=batch_size, shuffle=True)\n",
    "\n",
    "        val_dataset = IndexedTensorDataset(\n",
    "            torch.FloatTensor(np.array(val_data)),\n",
    "            torch.FloatTensor(np.array(val_labels)),\n",
    "            list(val_labels.index),\n",
    "        )\n",
    "        val_loader = DataLoader(val_dataset, batch_size=batch_size, shuffle=False)\n",
    "\n",
    "        test_dataset = IndexedTensorDataset(\n",
    "            torch.FloatTensor(np.array(test_data)),\n",
    "            torch.FloatTensor(np.array(test_labels)),\n",
    "            list(test_labels.index),\n",
    "        )\n",
    "        test_loader = DataLoader(test_dataset, batch_size=batch_size, shuffle=False)\n",
    "\n",
    "        data_dict = {\"train\": train_loader, \"val\": val_loader, \"test\": test_loader}\n",
    "        data_dicts.append(data_dict)\n",
    "    return data_dicts"
   ]
  },
  {
   "cell_type": "code",
   "execution_count": 224,
   "id": "d7cb850f",
   "metadata": {
    "scrolled": true
   },
   "outputs": [
    {
     "name": "stdout",
     "output_type": "stream",
     "text": [
      "Counter({'AKT1S1': 171})\n",
      "Counter({'APC': 171, 'ATF4': 171, 'BAX': 171, 'BCL2L11': 171, 'BRAF': 171, 'CDC42': 171, 'CDKN1A': 171, 'CEBPA': 171, 'DIABLO': 171, 'E2F1': 171, 'ELK1': 171, 'ERG': 171, 'FGFR3': 171, 'GLI1': 171, 'HRAS': 171, 'IRAK4': 171, 'KRAS': 171, 'MAP2K3': 171, 'MAP3K2': 171, 'MAP3K9': 171, 'MAPK7': 171, 'MYD88': 171, 'PIK3R2': 171, 'PRKACA': 171, 'PRKCE': 171, 'RAF1': 171, 'RELB': 171, 'SMAD3': 171, 'SMAD4': 171, 'SMO': 171, 'SRC': 171, 'TRAF2': 171, 'TSC2': 171})\n",
      "Counter({'CASP8': 171, 'CREB1': 171, 'FOXO1': 171, 'JUN': 171, 'MAP3K5': 171, 'PKIA': 171, 'RHOA': 171, 'SREBF1': 171, 'WWTR1': 171})\n",
      " \n",
      "Counter({'APC': 171})\n",
      "Counter({'AKT1S1': 171, 'ATF4': 171, 'BAX': 171, 'BCL2L11': 171, 'BRAF': 171, 'CDC42': 171, 'CDKN1A': 171, 'CEBPA': 171, 'DIABLO': 171, 'E2F1': 171, 'ELK1': 171, 'ERG': 171, 'FGFR3': 171, 'GLI1': 171, 'HRAS': 171, 'IRAK4': 171, 'KRAS': 171, 'MAP2K3': 171, 'MAP3K2': 171, 'MAP3K9': 171, 'MAPK7': 171, 'MYD88': 171, 'PIK3R2': 171, 'PRKACA': 171, 'PRKCE': 171, 'RAF1': 171, 'RELB': 171, 'SMAD3': 171, 'SMAD4': 171, 'SMO': 171, 'SRC': 171, 'TRAF2': 171, 'TSC2': 171})\n",
      "Counter({'CASP8': 171, 'CREB1': 171, 'FOXO1': 171, 'JUN': 171, 'MAP3K5': 171, 'PKIA': 171, 'RHOA': 171, 'SREBF1': 171, 'WWTR1': 171})\n",
      " \n",
      "Counter({'ATF4': 171})\n",
      "Counter({'AKT1S1': 171, 'APC': 171, 'BAX': 171, 'BCL2L11': 171, 'BRAF': 171, 'CDC42': 171, 'CDKN1A': 171, 'CEBPA': 171, 'DIABLO': 171, 'E2F1': 171, 'ELK1': 171, 'ERG': 171, 'FGFR3': 171, 'GLI1': 171, 'HRAS': 171, 'IRAK4': 171, 'KRAS': 171, 'MAP2K3': 171, 'MAP3K2': 171, 'MAP3K9': 171, 'MAPK7': 171, 'MYD88': 171, 'PIK3R2': 171, 'PRKACA': 171, 'PRKCE': 171, 'RAF1': 171, 'RELB': 171, 'SMAD3': 171, 'SMAD4': 171, 'SMO': 171, 'SRC': 171, 'TRAF2': 171, 'TSC2': 171})\n",
      "Counter({'CASP8': 171, 'CREB1': 171, 'FOXO1': 171, 'JUN': 171, 'MAP3K5': 171, 'PKIA': 171, 'RHOA': 171, 'SREBF1': 171, 'WWTR1': 171})\n",
      " \n",
      "Counter({'BAX': 171})\n",
      "Counter({'AKT1S1': 171, 'APC': 171, 'ATF4': 171, 'BCL2L11': 171, 'BRAF': 171, 'CDC42': 171, 'CDKN1A': 171, 'CEBPA': 171, 'DIABLO': 171, 'E2F1': 171, 'ELK1': 171, 'ERG': 171, 'FGFR3': 171, 'GLI1': 171, 'HRAS': 171, 'IRAK4': 171, 'KRAS': 171, 'MAP2K3': 171, 'MAP3K2': 171, 'MAP3K9': 171, 'MAPK7': 171, 'MYD88': 171, 'PIK3R2': 171, 'PRKACA': 171, 'PRKCE': 171, 'RAF1': 171, 'RELB': 171, 'SMAD3': 171, 'SMAD4': 171, 'SMO': 171, 'SRC': 171, 'TRAF2': 171, 'TSC2': 171})\n",
      "Counter({'CASP8': 171, 'CREB1': 171, 'FOXO1': 171, 'JUN': 171, 'MAP3K5': 171, 'PKIA': 171, 'RHOA': 171, 'SREBF1': 171, 'WWTR1': 171})\n",
      " \n",
      "Counter({'BCL2L11': 171})\n",
      "Counter({'AKT1S1': 171, 'APC': 171, 'ATF4': 171, 'BAX': 171, 'BRAF': 171, 'CDC42': 171, 'CDKN1A': 171, 'CEBPA': 171, 'DIABLO': 171, 'E2F1': 171, 'ELK1': 171, 'ERG': 171, 'FGFR3': 171, 'GLI1': 171, 'HRAS': 171, 'IRAK4': 171, 'KRAS': 171, 'MAP2K3': 171, 'MAP3K2': 171, 'MAP3K9': 171, 'MAPK7': 171, 'MYD88': 171, 'PIK3R2': 171, 'PRKACA': 171, 'PRKCE': 171, 'RAF1': 171, 'RELB': 171, 'SMAD3': 171, 'SMAD4': 171, 'SMO': 171, 'SRC': 171, 'TRAF2': 171, 'TSC2': 171})\n",
      "Counter({'CASP8': 171, 'CREB1': 171, 'FOXO1': 171, 'JUN': 171, 'MAP3K5': 171, 'PKIA': 171, 'RHOA': 171, 'SREBF1': 171, 'WWTR1': 171})\n",
      " \n",
      "Counter({'BRAF': 171})\n",
      "Counter({'AKT1S1': 171, 'APC': 171, 'ATF4': 171, 'BAX': 171, 'BCL2L11': 171, 'CDC42': 171, 'CDKN1A': 171, 'CEBPA': 171, 'DIABLO': 171, 'E2F1': 171, 'ELK1': 171, 'ERG': 171, 'FGFR3': 171, 'GLI1': 171, 'HRAS': 171, 'IRAK4': 171, 'KRAS': 171, 'MAP2K3': 171, 'MAP3K2': 171, 'MAP3K9': 171, 'MAPK7': 171, 'MYD88': 171, 'PIK3R2': 171, 'PRKACA': 171, 'PRKCE': 171, 'RAF1': 171, 'RELB': 171, 'SMAD3': 171, 'SMAD4': 171, 'SMO': 171, 'SRC': 171, 'TRAF2': 171, 'TSC2': 171})\n",
      "Counter({'CASP8': 171, 'CREB1': 171, 'FOXO1': 171, 'JUN': 171, 'MAP3K5': 171, 'PKIA': 171, 'RHOA': 171, 'SREBF1': 171, 'WWTR1': 171})\n",
      " \n",
      "Counter({'CASP8': 171})\n",
      "Counter({'AKT1S1': 171, 'APC': 171, 'ATF4': 171, 'BAX': 171, 'BCL2L11': 171, 'CDC42': 171, 'CDKN1A': 171, 'CEBPA': 171, 'DIABLO': 171, 'E2F1': 171, 'ELK1': 171, 'ERG': 171, 'FGFR3': 171, 'GLI1': 171, 'HRAS': 171, 'IRAK4': 171, 'KRAS': 171, 'MAP2K3': 171, 'MAP3K2': 171, 'MAP3K9': 171, 'MAPK7': 171, 'MYD88': 171, 'PIK3R2': 171, 'PRKACA': 171, 'PRKCE': 171, 'RAF1': 171, 'RELB': 171, 'SMAD3': 171, 'SMAD4': 171, 'SMO': 171, 'SRC': 171, 'TRAF2': 171, 'TSC2': 171})\n",
      "Counter({'BRAF': 171, 'CREB1': 171, 'FOXO1': 171, 'JUN': 171, 'MAP3K5': 171, 'PKIA': 171, 'RHOA': 171, 'SREBF1': 171, 'WWTR1': 171})\n",
      " \n",
      "Counter({'CDC42': 171})\n",
      "Counter({'AKT1S1': 171, 'APC': 171, 'ATF4': 171, 'BAX': 171, 'BCL2L11': 171, 'CASP8': 171, 'CDKN1A': 171, 'CEBPA': 171, 'DIABLO': 171, 'E2F1': 171, 'ELK1': 171, 'ERG': 171, 'FGFR3': 171, 'GLI1': 171, 'HRAS': 171, 'IRAK4': 171, 'KRAS': 171, 'MAP2K3': 171, 'MAP3K2': 171, 'MAP3K9': 171, 'MAPK7': 171, 'MYD88': 171, 'PIK3R2': 171, 'PRKACA': 171, 'PRKCE': 171, 'RAF1': 171, 'RELB': 171, 'SMAD3': 171, 'SMAD4': 171, 'SMO': 171, 'SRC': 171, 'TRAF2': 171, 'TSC2': 171})\n",
      "Counter({'BRAF': 171, 'CREB1': 171, 'FOXO1': 171, 'JUN': 171, 'MAP3K5': 171, 'PKIA': 171, 'RHOA': 171, 'SREBF1': 171, 'WWTR1': 171})\n",
      " \n",
      "Counter({'CDKN1A': 171})\n",
      "Counter({'AKT1S1': 171, 'APC': 171, 'ATF4': 171, 'BAX': 171, 'BCL2L11': 171, 'CASP8': 171, 'CDC42': 171, 'CEBPA': 171, 'DIABLO': 171, 'E2F1': 171, 'ELK1': 171, 'ERG': 171, 'FGFR3': 171, 'GLI1': 171, 'HRAS': 171, 'IRAK4': 171, 'KRAS': 171, 'MAP2K3': 171, 'MAP3K2': 171, 'MAP3K9': 171, 'MAPK7': 171, 'MYD88': 171, 'PIK3R2': 171, 'PRKACA': 171, 'PRKCE': 171, 'RAF1': 171, 'RELB': 171, 'SMAD3': 171, 'SMAD4': 171, 'SMO': 171, 'SRC': 171, 'TRAF2': 171, 'TSC2': 171})\n",
      "Counter({'BRAF': 171, 'CREB1': 171, 'FOXO1': 171, 'JUN': 171, 'MAP3K5': 171, 'PKIA': 171, 'RHOA': 171, 'SREBF1': 171, 'WWTR1': 171})\n",
      " \n",
      "Counter({'CEBPA': 171})\n",
      "Counter({'AKT1S1': 171, 'APC': 171, 'ATF4': 171, 'BAX': 171, 'BCL2L11': 171, 'CASP8': 171, 'CDC42': 171, 'CDKN1A': 171, 'DIABLO': 171, 'E2F1': 171, 'ELK1': 171, 'ERG': 171, 'FGFR3': 171, 'GLI1': 171, 'HRAS': 171, 'IRAK4': 171, 'KRAS': 171, 'MAP2K3': 171, 'MAP3K2': 171, 'MAP3K9': 171, 'MAPK7': 171, 'MYD88': 171, 'PIK3R2': 171, 'PRKACA': 171, 'PRKCE': 171, 'RAF1': 171, 'RELB': 171, 'SMAD3': 171, 'SMAD4': 171, 'SMO': 171, 'SRC': 171, 'TRAF2': 171, 'TSC2': 171})\n",
      "Counter({'BRAF': 171, 'CREB1': 171, 'FOXO1': 171, 'JUN': 171, 'MAP3K5': 171, 'PKIA': 171, 'RHOA': 171, 'SREBF1': 171, 'WWTR1': 171})\n",
      " \n",
      "Counter({'CREB1': 171})\n",
      "Counter({'AKT1S1': 171, 'APC': 171, 'ATF4': 171, 'BAX': 171, 'BCL2L11': 171, 'CASP8': 171, 'CDC42': 171, 'CDKN1A': 171, 'DIABLO': 171, 'E2F1': 171, 'ELK1': 171, 'ERG': 171, 'FGFR3': 171, 'GLI1': 171, 'HRAS': 171, 'IRAK4': 171, 'KRAS': 171, 'MAP2K3': 171, 'MAP3K2': 171, 'MAP3K9': 171, 'MAPK7': 171, 'MYD88': 171, 'PIK3R2': 171, 'PRKACA': 171, 'PRKCE': 171, 'RAF1': 171, 'RELB': 171, 'SMAD3': 171, 'SMAD4': 171, 'SMO': 171, 'SRC': 171, 'TRAF2': 171, 'TSC2': 171})\n",
      "Counter({'BRAF': 171, 'CEBPA': 171, 'FOXO1': 171, 'JUN': 171, 'MAP3K5': 171, 'PKIA': 171, 'RHOA': 171, 'SREBF1': 171, 'WWTR1': 171})\n",
      " \n",
      "Counter({'DIABLO': 171})\n",
      "Counter({'AKT1S1': 171, 'APC': 171, 'ATF4': 171, 'BAX': 171, 'BCL2L11': 171, 'CASP8': 171, 'CDC42': 171, 'CDKN1A': 171, 'CREB1': 171, 'E2F1': 171, 'ELK1': 171, 'ERG': 171, 'FGFR3': 171, 'GLI1': 171, 'HRAS': 171, 'IRAK4': 171, 'KRAS': 171, 'MAP2K3': 171, 'MAP3K2': 171, 'MAP3K9': 171, 'MAPK7': 171, 'MYD88': 171, 'PIK3R2': 171, 'PRKACA': 171, 'PRKCE': 171, 'RAF1': 171, 'RELB': 171, 'SMAD3': 171, 'SMAD4': 171, 'SMO': 171, 'SRC': 171, 'TRAF2': 171, 'TSC2': 171})\n",
      "Counter({'BRAF': 171, 'CEBPA': 171, 'FOXO1': 171, 'JUN': 171, 'MAP3K5': 171, 'PKIA': 171, 'RHOA': 171, 'SREBF1': 171, 'WWTR1': 171})\n",
      " \n",
      "Counter({'E2F1': 171})\n",
      "Counter({'AKT1S1': 171, 'APC': 171, 'ATF4': 171, 'BAX': 171, 'BCL2L11': 171, 'CASP8': 171, 'CDC42': 171, 'CDKN1A': 171, 'CREB1': 171, 'DIABLO': 171, 'ELK1': 171, 'ERG': 171, 'FGFR3': 171, 'GLI1': 171, 'HRAS': 171, 'IRAK4': 171, 'KRAS': 171, 'MAP2K3': 171, 'MAP3K2': 171, 'MAP3K9': 171, 'MAPK7': 171, 'MYD88': 171, 'PIK3R2': 171, 'PRKACA': 171, 'PRKCE': 171, 'RAF1': 171, 'RELB': 171, 'SMAD3': 171, 'SMAD4': 171, 'SMO': 171, 'SRC': 171, 'TRAF2': 171, 'TSC2': 171})\n",
      "Counter({'BRAF': 171, 'CEBPA': 171, 'FOXO1': 171, 'JUN': 171, 'MAP3K5': 171, 'PKIA': 171, 'RHOA': 171, 'SREBF1': 171, 'WWTR1': 171})\n",
      " \n",
      "Counter({'ELK1': 171})\n",
      "Counter({'AKT1S1': 171, 'APC': 171, 'ATF4': 171, 'BAX': 171, 'BCL2L11': 171, 'CASP8': 171, 'CDC42': 171, 'CDKN1A': 171, 'CREB1': 171, 'DIABLO': 171, 'E2F1': 171, 'ERG': 171, 'FGFR3': 171, 'GLI1': 171, 'HRAS': 171, 'IRAK4': 171, 'KRAS': 171, 'MAP2K3': 171, 'MAP3K2': 171, 'MAP3K9': 171, 'MAPK7': 171, 'MYD88': 171, 'PIK3R2': 171, 'PRKACA': 171, 'PRKCE': 171, 'RAF1': 171, 'RELB': 171, 'SMAD3': 171, 'SMAD4': 171, 'SMO': 171, 'SRC': 171, 'TRAF2': 171, 'TSC2': 171})\n",
      "Counter({'BRAF': 171, 'CEBPA': 171, 'FOXO1': 171, 'JUN': 171, 'MAP3K5': 171, 'PKIA': 171, 'RHOA': 171, 'SREBF1': 171, 'WWTR1': 171})\n",
      " \n",
      "Counter({'ERG': 171})\n",
      "Counter({'AKT1S1': 171, 'APC': 171, 'ATF4': 171, 'BAX': 171, 'BCL2L11': 171, 'CASP8': 171, 'CDC42': 171, 'CDKN1A': 171, 'CREB1': 171, 'DIABLO': 171, 'E2F1': 171, 'ELK1': 171, 'FGFR3': 171, 'GLI1': 171, 'HRAS': 171, 'IRAK4': 171, 'KRAS': 171, 'MAP2K3': 171, 'MAP3K2': 171, 'MAP3K9': 171, 'MAPK7': 171, 'MYD88': 171, 'PIK3R2': 171, 'PRKACA': 171, 'PRKCE': 171, 'RAF1': 171, 'RELB': 171, 'SMAD3': 171, 'SMAD4': 171, 'SMO': 171, 'SRC': 171, 'TRAF2': 171, 'TSC2': 171})\n",
      "Counter({'BRAF': 171, 'CEBPA': 171, 'FOXO1': 171, 'JUN': 171, 'MAP3K5': 171, 'PKIA': 171, 'RHOA': 171, 'SREBF1': 171, 'WWTR1': 171})\n",
      " \n"
     ]
    },
    {
     "name": "stdout",
     "output_type": "stream",
     "text": [
      "Counter({'FGFR3': 171})\n",
      "Counter({'AKT1S1': 171, 'APC': 171, 'ATF4': 171, 'BAX': 171, 'BCL2L11': 171, 'CASP8': 171, 'CDC42': 171, 'CDKN1A': 171, 'CREB1': 171, 'DIABLO': 171, 'E2F1': 171, 'ELK1': 171, 'ERG': 171, 'GLI1': 171, 'HRAS': 171, 'IRAK4': 171, 'KRAS': 171, 'MAP2K3': 171, 'MAP3K2': 171, 'MAP3K9': 171, 'MAPK7': 171, 'MYD88': 171, 'PIK3R2': 171, 'PRKACA': 171, 'PRKCE': 171, 'RAF1': 171, 'RELB': 171, 'SMAD3': 171, 'SMAD4': 171, 'SMO': 171, 'SRC': 171, 'TRAF2': 171, 'TSC2': 171})\n",
      "Counter({'BRAF': 171, 'CEBPA': 171, 'FOXO1': 171, 'JUN': 171, 'MAP3K5': 171, 'PKIA': 171, 'RHOA': 171, 'SREBF1': 171, 'WWTR1': 171})\n",
      " \n",
      "Counter({'FOXO1': 171})\n",
      "Counter({'AKT1S1': 171, 'APC': 171, 'ATF4': 171, 'BAX': 171, 'BCL2L11': 171, 'CASP8': 171, 'CDC42': 171, 'CDKN1A': 171, 'CREB1': 171, 'DIABLO': 171, 'E2F1': 171, 'ELK1': 171, 'ERG': 171, 'GLI1': 171, 'HRAS': 171, 'IRAK4': 171, 'KRAS': 171, 'MAP2K3': 171, 'MAP3K2': 171, 'MAP3K9': 171, 'MAPK7': 171, 'MYD88': 171, 'PIK3R2': 171, 'PRKACA': 171, 'PRKCE': 171, 'RAF1': 171, 'RELB': 171, 'SMAD3': 171, 'SMAD4': 171, 'SMO': 171, 'SRC': 171, 'TRAF2': 171, 'TSC2': 171})\n",
      "Counter({'BRAF': 171, 'CEBPA': 171, 'FGFR3': 171, 'JUN': 171, 'MAP3K5': 171, 'PKIA': 171, 'RHOA': 171, 'SREBF1': 171, 'WWTR1': 171})\n",
      " \n",
      "Counter({'GLI1': 171})\n",
      "Counter({'AKT1S1': 171, 'APC': 171, 'ATF4': 171, 'BAX': 171, 'BCL2L11': 171, 'CASP8': 171, 'CDC42': 171, 'CDKN1A': 171, 'CREB1': 171, 'DIABLO': 171, 'E2F1': 171, 'ELK1': 171, 'ERG': 171, 'FOXO1': 171, 'HRAS': 171, 'IRAK4': 171, 'KRAS': 171, 'MAP2K3': 171, 'MAP3K2': 171, 'MAP3K9': 171, 'MAPK7': 171, 'MYD88': 171, 'PIK3R2': 171, 'PRKACA': 171, 'PRKCE': 171, 'RAF1': 171, 'RELB': 171, 'SMAD3': 171, 'SMAD4': 171, 'SMO': 171, 'SRC': 171, 'TRAF2': 171, 'TSC2': 171})\n",
      "Counter({'BRAF': 171, 'CEBPA': 171, 'FGFR3': 171, 'JUN': 171, 'MAP3K5': 171, 'PKIA': 171, 'RHOA': 171, 'SREBF1': 171, 'WWTR1': 171})\n",
      " \n",
      "Counter({'HRAS': 171})\n",
      "Counter({'AKT1S1': 171, 'APC': 171, 'ATF4': 171, 'BAX': 171, 'BCL2L11': 171, 'CASP8': 171, 'CDC42': 171, 'CDKN1A': 171, 'CREB1': 171, 'DIABLO': 171, 'E2F1': 171, 'ELK1': 171, 'ERG': 171, 'FOXO1': 171, 'GLI1': 171, 'IRAK4': 171, 'KRAS': 171, 'MAP2K3': 171, 'MAP3K2': 171, 'MAP3K9': 171, 'MAPK7': 171, 'MYD88': 171, 'PIK3R2': 171, 'PRKACA': 171, 'PRKCE': 171, 'RAF1': 171, 'RELB': 171, 'SMAD3': 171, 'SMAD4': 171, 'SMO': 171, 'SRC': 171, 'TRAF2': 171, 'TSC2': 171})\n",
      "Counter({'BRAF': 171, 'CEBPA': 171, 'FGFR3': 171, 'JUN': 171, 'MAP3K5': 171, 'PKIA': 171, 'RHOA': 171, 'SREBF1': 171, 'WWTR1': 171})\n",
      " \n",
      "Counter({'IRAK4': 171})\n",
      "Counter({'AKT1S1': 171, 'APC': 171, 'ATF4': 171, 'BAX': 171, 'BCL2L11': 171, 'CASP8': 171, 'CDC42': 171, 'CDKN1A': 171, 'CREB1': 171, 'DIABLO': 171, 'E2F1': 171, 'ELK1': 171, 'ERG': 171, 'FOXO1': 171, 'GLI1': 171, 'HRAS': 171, 'KRAS': 171, 'MAP2K3': 171, 'MAP3K2': 171, 'MAP3K9': 171, 'MAPK7': 171, 'MYD88': 171, 'PIK3R2': 171, 'PRKACA': 171, 'PRKCE': 171, 'RAF1': 171, 'RELB': 171, 'SMAD3': 171, 'SMAD4': 171, 'SMO': 171, 'SRC': 171, 'TRAF2': 171, 'TSC2': 171})\n",
      "Counter({'BRAF': 171, 'CEBPA': 171, 'FGFR3': 171, 'JUN': 171, 'MAP3K5': 171, 'PKIA': 171, 'RHOA': 171, 'SREBF1': 171, 'WWTR1': 171})\n",
      " \n",
      "Counter({'JUN': 171})\n",
      "Counter({'AKT1S1': 171, 'APC': 171, 'ATF4': 171, 'BAX': 171, 'BCL2L11': 171, 'CASP8': 171, 'CDC42': 171, 'CDKN1A': 171, 'CREB1': 171, 'DIABLO': 171, 'E2F1': 171, 'ELK1': 171, 'ERG': 171, 'FOXO1': 171, 'GLI1': 171, 'HRAS': 171, 'KRAS': 171, 'MAP2K3': 171, 'MAP3K2': 171, 'MAP3K9': 171, 'MAPK7': 171, 'MYD88': 171, 'PIK3R2': 171, 'PRKACA': 171, 'PRKCE': 171, 'RAF1': 171, 'RELB': 171, 'SMAD3': 171, 'SMAD4': 171, 'SMO': 171, 'SRC': 171, 'TRAF2': 171, 'TSC2': 171})\n",
      "Counter({'BRAF': 171, 'CEBPA': 171, 'FGFR3': 171, 'IRAK4': 171, 'MAP3K5': 171, 'PKIA': 171, 'RHOA': 171, 'SREBF1': 171, 'WWTR1': 171})\n",
      " \n",
      "Counter({'KRAS': 171})\n",
      "Counter({'AKT1S1': 171, 'APC': 171, 'ATF4': 171, 'BAX': 171, 'BCL2L11': 171, 'CASP8': 171, 'CDC42': 171, 'CDKN1A': 171, 'CREB1': 171, 'DIABLO': 171, 'E2F1': 171, 'ELK1': 171, 'ERG': 171, 'FOXO1': 171, 'GLI1': 171, 'HRAS': 171, 'JUN': 171, 'MAP2K3': 171, 'MAP3K2': 171, 'MAP3K9': 171, 'MAPK7': 171, 'MYD88': 171, 'PIK3R2': 171, 'PRKACA': 171, 'PRKCE': 171, 'RAF1': 171, 'RELB': 171, 'SMAD3': 171, 'SMAD4': 171, 'SMO': 171, 'SRC': 171, 'TRAF2': 171, 'TSC2': 171})\n",
      "Counter({'BRAF': 171, 'CEBPA': 171, 'FGFR3': 171, 'IRAK4': 171, 'MAP3K5': 171, 'PKIA': 171, 'RHOA': 171, 'SREBF1': 171, 'WWTR1': 171})\n",
      " \n",
      "Counter({'MAP2K3': 171})\n",
      "Counter({'AKT1S1': 171, 'APC': 171, 'ATF4': 171, 'BAX': 171, 'BCL2L11': 171, 'CASP8': 171, 'CDC42': 171, 'CDKN1A': 171, 'CREB1': 171, 'DIABLO': 171, 'E2F1': 171, 'ELK1': 171, 'ERG': 171, 'FOXO1': 171, 'GLI1': 171, 'HRAS': 171, 'JUN': 171, 'KRAS': 171, 'MAP3K2': 171, 'MAP3K9': 171, 'MAPK7': 171, 'MYD88': 171, 'PIK3R2': 171, 'PRKACA': 171, 'PRKCE': 171, 'RAF1': 171, 'RELB': 171, 'SMAD3': 171, 'SMAD4': 171, 'SMO': 171, 'SRC': 171, 'TRAF2': 171, 'TSC2': 171})\n",
      "Counter({'BRAF': 171, 'CEBPA': 171, 'FGFR3': 171, 'IRAK4': 171, 'MAP3K5': 171, 'PKIA': 171, 'RHOA': 171, 'SREBF1': 171, 'WWTR1': 171})\n",
      " \n",
      "Counter({'MAP3K2': 171})\n",
      "Counter({'AKT1S1': 171, 'APC': 171, 'ATF4': 171, 'BAX': 171, 'BCL2L11': 171, 'CASP8': 171, 'CDC42': 171, 'CDKN1A': 171, 'CREB1': 171, 'DIABLO': 171, 'E2F1': 171, 'ELK1': 171, 'ERG': 171, 'FOXO1': 171, 'GLI1': 171, 'HRAS': 171, 'JUN': 171, 'KRAS': 171, 'MAP2K3': 171, 'MAP3K9': 171, 'MAPK7': 171, 'MYD88': 171, 'PIK3R2': 171, 'PRKACA': 171, 'PRKCE': 171, 'RAF1': 171, 'RELB': 171, 'SMAD3': 171, 'SMAD4': 171, 'SMO': 171, 'SRC': 171, 'TRAF2': 171, 'TSC2': 171})\n",
      "Counter({'BRAF': 171, 'CEBPA': 171, 'FGFR3': 171, 'IRAK4': 171, 'MAP3K5': 171, 'PKIA': 171, 'RHOA': 171, 'SREBF1': 171, 'WWTR1': 171})\n",
      " \n",
      "Counter({'MAP3K5': 171})\n",
      "Counter({'AKT1S1': 171, 'APC': 171, 'ATF4': 171, 'BAX': 171, 'BCL2L11': 171, 'CASP8': 171, 'CDC42': 171, 'CDKN1A': 171, 'CREB1': 171, 'DIABLO': 171, 'E2F1': 171, 'ELK1': 171, 'ERG': 171, 'FOXO1': 171, 'GLI1': 171, 'HRAS': 171, 'JUN': 171, 'KRAS': 171, 'MAP2K3': 171, 'MAP3K9': 171, 'MAPK7': 171, 'MYD88': 171, 'PIK3R2': 171, 'PRKACA': 171, 'PRKCE': 171, 'RAF1': 171, 'RELB': 171, 'SMAD3': 171, 'SMAD4': 171, 'SMO': 171, 'SRC': 171, 'TRAF2': 171, 'TSC2': 171})\n",
      "Counter({'BRAF': 171, 'CEBPA': 171, 'FGFR3': 171, 'IRAK4': 171, 'MAP3K2': 171, 'PKIA': 171, 'RHOA': 171, 'SREBF1': 171, 'WWTR1': 171})\n",
      " \n",
      "Counter({'MAP3K9': 171})\n",
      "Counter({'AKT1S1': 171, 'APC': 171, 'ATF4': 171, 'BAX': 171, 'BCL2L11': 171, 'CASP8': 171, 'CDC42': 171, 'CDKN1A': 171, 'CREB1': 171, 'DIABLO': 171, 'E2F1': 171, 'ELK1': 171, 'ERG': 171, 'FOXO1': 171, 'GLI1': 171, 'HRAS': 171, 'JUN': 171, 'KRAS': 171, 'MAP2K3': 171, 'MAP3K5': 171, 'MAPK7': 171, 'MYD88': 171, 'PIK3R2': 171, 'PRKACA': 171, 'PRKCE': 171, 'RAF1': 171, 'RELB': 171, 'SMAD3': 171, 'SMAD4': 171, 'SMO': 171, 'SRC': 171, 'TRAF2': 171, 'TSC2': 171})\n",
      "Counter({'BRAF': 171, 'CEBPA': 171, 'FGFR3': 171, 'IRAK4': 171, 'MAP3K2': 171, 'PKIA': 171, 'RHOA': 171, 'SREBF1': 171, 'WWTR1': 171})\n",
      " \n",
      "Counter({'MAPK7': 171})\n",
      "Counter({'AKT1S1': 171, 'APC': 171, 'ATF4': 171, 'BAX': 171, 'BCL2L11': 171, 'CASP8': 171, 'CDC42': 171, 'CDKN1A': 171, 'CREB1': 171, 'DIABLO': 171, 'E2F1': 171, 'ELK1': 171, 'ERG': 171, 'FOXO1': 171, 'GLI1': 171, 'HRAS': 171, 'JUN': 171, 'KRAS': 171, 'MAP2K3': 171, 'MAP3K5': 171, 'MAP3K9': 171, 'MYD88': 171, 'PIK3R2': 171, 'PRKACA': 171, 'PRKCE': 171, 'RAF1': 171, 'RELB': 171, 'SMAD3': 171, 'SMAD4': 171, 'SMO': 171, 'SRC': 171, 'TRAF2': 171, 'TSC2': 171})\n",
      "Counter({'BRAF': 171, 'CEBPA': 171, 'FGFR3': 171, 'IRAK4': 171, 'MAP3K2': 171, 'PKIA': 171, 'RHOA': 171, 'SREBF1': 171, 'WWTR1': 171})\n",
      " \n",
      "Counter({'MYD88': 171})\n",
      "Counter({'AKT1S1': 171, 'APC': 171, 'ATF4': 171, 'BAX': 171, 'BCL2L11': 171, 'CASP8': 171, 'CDC42': 171, 'CDKN1A': 171, 'CREB1': 171, 'DIABLO': 171, 'E2F1': 171, 'ELK1': 171, 'ERG': 171, 'FOXO1': 171, 'GLI1': 171, 'HRAS': 171, 'JUN': 171, 'KRAS': 171, 'MAP2K3': 171, 'MAP3K5': 171, 'MAP3K9': 171, 'MAPK7': 171, 'PIK3R2': 171, 'PRKACA': 171, 'PRKCE': 171, 'RAF1': 171, 'RELB': 171, 'SMAD3': 171, 'SMAD4': 171, 'SMO': 171, 'SRC': 171, 'TRAF2': 171, 'TSC2': 171})\n",
      "Counter({'BRAF': 171, 'CEBPA': 171, 'FGFR3': 171, 'IRAK4': 171, 'MAP3K2': 171, 'PKIA': 171, 'RHOA': 171, 'SREBF1': 171, 'WWTR1': 171})\n",
      " \n",
      "Counter({'PIK3R2': 171})\n",
      "Counter({'AKT1S1': 171, 'APC': 171, 'ATF4': 171, 'BAX': 171, 'BCL2L11': 171, 'CASP8': 171, 'CDC42': 171, 'CDKN1A': 171, 'CREB1': 171, 'DIABLO': 171, 'E2F1': 171, 'ELK1': 171, 'ERG': 171, 'FOXO1': 171, 'GLI1': 171, 'HRAS': 171, 'JUN': 171, 'KRAS': 171, 'MAP2K3': 171, 'MAP3K5': 171, 'MAP3K9': 171, 'MAPK7': 171, 'MYD88': 171, 'PRKACA': 171, 'PRKCE': 171, 'RAF1': 171, 'RELB': 171, 'SMAD3': 171, 'SMAD4': 171, 'SMO': 171, 'SRC': 171, 'TRAF2': 171, 'TSC2': 171})\n",
      "Counter({'BRAF': 171, 'CEBPA': 171, 'FGFR3': 171, 'IRAK4': 171, 'MAP3K2': 171, 'PKIA': 171, 'RHOA': 171, 'SREBF1': 171, 'WWTR1': 171})\n",
      " \n",
      "Counter({'PKIA': 171})\n",
      "Counter({'AKT1S1': 171, 'APC': 171, 'ATF4': 171, 'BAX': 171, 'BCL2L11': 171, 'CASP8': 171, 'CDC42': 171, 'CDKN1A': 171, 'CREB1': 171, 'DIABLO': 171, 'E2F1': 171, 'ELK1': 171, 'ERG': 171, 'FOXO1': 171, 'GLI1': 171, 'HRAS': 171, 'JUN': 171, 'KRAS': 171, 'MAP2K3': 171, 'MAP3K5': 171, 'MAP3K9': 171, 'MAPK7': 171, 'MYD88': 171, 'PRKACA': 171, 'PRKCE': 171, 'RAF1': 171, 'RELB': 171, 'SMAD3': 171, 'SMAD4': 171, 'SMO': 171, 'SRC': 171, 'TRAF2': 171, 'TSC2': 171})\n",
      "Counter({'BRAF': 171, 'CEBPA': 171, 'FGFR3': 171, 'IRAK4': 171, 'MAP3K2': 171, 'PIK3R2': 171, 'RHOA': 171, 'SREBF1': 171, 'WWTR1': 171})\n",
      " \n"
     ]
    },
    {
     "name": "stdout",
     "output_type": "stream",
     "text": [
      "Counter({'PRKACA': 171})\n",
      "Counter({'AKT1S1': 171, 'APC': 171, 'ATF4': 171, 'BAX': 171, 'BCL2L11': 171, 'CASP8': 171, 'CDC42': 171, 'CDKN1A': 171, 'CREB1': 171, 'DIABLO': 171, 'E2F1': 171, 'ELK1': 171, 'ERG': 171, 'FOXO1': 171, 'GLI1': 171, 'HRAS': 171, 'JUN': 171, 'KRAS': 171, 'MAP2K3': 171, 'MAP3K5': 171, 'MAP3K9': 171, 'MAPK7': 171, 'MYD88': 171, 'PKIA': 171, 'PRKCE': 171, 'RAF1': 171, 'RELB': 171, 'SMAD3': 171, 'SMAD4': 171, 'SMO': 171, 'SRC': 171, 'TRAF2': 171, 'TSC2': 171})\n",
      "Counter({'BRAF': 171, 'CEBPA': 171, 'FGFR3': 171, 'IRAK4': 171, 'MAP3K2': 171, 'PIK3R2': 171, 'RHOA': 171, 'SREBF1': 171, 'WWTR1': 171})\n",
      " \n",
      "Counter({'PRKCE': 171})\n",
      "Counter({'AKT1S1': 171, 'APC': 171, 'ATF4': 171, 'BAX': 171, 'BCL2L11': 171, 'CASP8': 171, 'CDC42': 171, 'CDKN1A': 171, 'CREB1': 171, 'DIABLO': 171, 'E2F1': 171, 'ELK1': 171, 'ERG': 171, 'FOXO1': 171, 'GLI1': 171, 'HRAS': 171, 'JUN': 171, 'KRAS': 171, 'MAP2K3': 171, 'MAP3K5': 171, 'MAP3K9': 171, 'MAPK7': 171, 'MYD88': 171, 'PKIA': 171, 'PRKACA': 171, 'RAF1': 171, 'RELB': 171, 'SMAD3': 171, 'SMAD4': 171, 'SMO': 171, 'SRC': 171, 'TRAF2': 171, 'TSC2': 171})\n",
      "Counter({'BRAF': 171, 'CEBPA': 171, 'FGFR3': 171, 'IRAK4': 171, 'MAP3K2': 171, 'PIK3R2': 171, 'RHOA': 171, 'SREBF1': 171, 'WWTR1': 171})\n",
      " \n",
      "Counter({'RAF1': 171})\n",
      "Counter({'AKT1S1': 171, 'APC': 171, 'ATF4': 171, 'BAX': 171, 'BCL2L11': 171, 'CASP8': 171, 'CDC42': 171, 'CDKN1A': 171, 'CREB1': 171, 'DIABLO': 171, 'E2F1': 171, 'ELK1': 171, 'ERG': 171, 'FOXO1': 171, 'GLI1': 171, 'HRAS': 171, 'JUN': 171, 'KRAS': 171, 'MAP2K3': 171, 'MAP3K5': 171, 'MAP3K9': 171, 'MAPK7': 171, 'MYD88': 171, 'PKIA': 171, 'PRKACA': 171, 'PRKCE': 171, 'RELB': 171, 'SMAD3': 171, 'SMAD4': 171, 'SMO': 171, 'SRC': 171, 'TRAF2': 171, 'TSC2': 171})\n",
      "Counter({'BRAF': 171, 'CEBPA': 171, 'FGFR3': 171, 'IRAK4': 171, 'MAP3K2': 171, 'PIK3R2': 171, 'RHOA': 171, 'SREBF1': 171, 'WWTR1': 171})\n",
      " \n",
      "Counter({'RELB': 171})\n",
      "Counter({'AKT1S1': 171, 'APC': 171, 'ATF4': 171, 'BAX': 171, 'BCL2L11': 171, 'CASP8': 171, 'CDC42': 171, 'CDKN1A': 171, 'CREB1': 171, 'DIABLO': 171, 'E2F1': 171, 'ELK1': 171, 'ERG': 171, 'FOXO1': 171, 'GLI1': 171, 'HRAS': 171, 'JUN': 171, 'KRAS': 171, 'MAP2K3': 171, 'MAP3K5': 171, 'MAP3K9': 171, 'MAPK7': 171, 'MYD88': 171, 'PKIA': 171, 'PRKACA': 171, 'PRKCE': 171, 'RAF1': 171, 'SMAD3': 171, 'SMAD4': 171, 'SMO': 171, 'SRC': 171, 'TRAF2': 171, 'TSC2': 171})\n",
      "Counter({'BRAF': 171, 'CEBPA': 171, 'FGFR3': 171, 'IRAK4': 171, 'MAP3K2': 171, 'PIK3R2': 171, 'RHOA': 171, 'SREBF1': 171, 'WWTR1': 171})\n",
      " \n",
      "Counter({'RHOA': 171})\n",
      "Counter({'AKT1S1': 171, 'APC': 171, 'ATF4': 171, 'BAX': 171, 'BCL2L11': 171, 'CASP8': 171, 'CDC42': 171, 'CDKN1A': 171, 'CREB1': 171, 'DIABLO': 171, 'E2F1': 171, 'ELK1': 171, 'ERG': 171, 'FOXO1': 171, 'GLI1': 171, 'HRAS': 171, 'JUN': 171, 'KRAS': 171, 'MAP2K3': 171, 'MAP3K5': 171, 'MAP3K9': 171, 'MAPK7': 171, 'MYD88': 171, 'PKIA': 171, 'PRKACA': 171, 'PRKCE': 171, 'RAF1': 171, 'SMAD3': 171, 'SMAD4': 171, 'SMO': 171, 'SRC': 171, 'TRAF2': 171, 'TSC2': 171})\n",
      "Counter({'BRAF': 171, 'CEBPA': 171, 'FGFR3': 171, 'IRAK4': 171, 'MAP3K2': 171, 'PIK3R2': 171, 'RELB': 171, 'SREBF1': 171, 'WWTR1': 171})\n",
      " \n",
      "Counter({'SMAD3': 171})\n",
      "Counter({'AKT1S1': 171, 'APC': 171, 'ATF4': 171, 'BAX': 171, 'BCL2L11': 171, 'CASP8': 171, 'CDC42': 171, 'CDKN1A': 171, 'CREB1': 171, 'DIABLO': 171, 'E2F1': 171, 'ELK1': 171, 'ERG': 171, 'FOXO1': 171, 'GLI1': 171, 'HRAS': 171, 'JUN': 171, 'KRAS': 171, 'MAP2K3': 171, 'MAP3K5': 171, 'MAP3K9': 171, 'MAPK7': 171, 'MYD88': 171, 'PKIA': 171, 'PRKACA': 171, 'PRKCE': 171, 'RAF1': 171, 'RHOA': 171, 'SMAD4': 171, 'SMO': 171, 'SRC': 171, 'TRAF2': 171, 'TSC2': 171})\n",
      "Counter({'BRAF': 171, 'CEBPA': 171, 'FGFR3': 171, 'IRAK4': 171, 'MAP3K2': 171, 'PIK3R2': 171, 'RELB': 171, 'SREBF1': 171, 'WWTR1': 171})\n",
      " \n",
      "Counter({'SMAD4': 171})\n",
      "Counter({'AKT1S1': 171, 'APC': 171, 'ATF4': 171, 'BAX': 171, 'BCL2L11': 171, 'CASP8': 171, 'CDC42': 171, 'CDKN1A': 171, 'CREB1': 171, 'DIABLO': 171, 'E2F1': 171, 'ELK1': 171, 'ERG': 171, 'FOXO1': 171, 'GLI1': 171, 'HRAS': 171, 'JUN': 171, 'KRAS': 171, 'MAP2K3': 171, 'MAP3K5': 171, 'MAP3K9': 171, 'MAPK7': 171, 'MYD88': 171, 'PKIA': 171, 'PRKACA': 171, 'PRKCE': 171, 'RAF1': 171, 'RHOA': 171, 'SMAD3': 171, 'SMO': 171, 'SRC': 171, 'TRAF2': 171, 'TSC2': 171})\n",
      "Counter({'BRAF': 171, 'CEBPA': 171, 'FGFR3': 171, 'IRAK4': 171, 'MAP3K2': 171, 'PIK3R2': 171, 'RELB': 171, 'SREBF1': 171, 'WWTR1': 171})\n",
      " \n",
      "Counter({'SMO': 171})\n",
      "Counter({'AKT1S1': 171, 'APC': 171, 'ATF4': 171, 'BAX': 171, 'BCL2L11': 171, 'CASP8': 171, 'CDC42': 171, 'CDKN1A': 171, 'CREB1': 171, 'DIABLO': 171, 'E2F1': 171, 'ELK1': 171, 'ERG': 171, 'FOXO1': 171, 'GLI1': 171, 'HRAS': 171, 'JUN': 171, 'KRAS': 171, 'MAP2K3': 171, 'MAP3K5': 171, 'MAP3K9': 171, 'MAPK7': 171, 'MYD88': 171, 'PKIA': 171, 'PRKACA': 171, 'PRKCE': 171, 'RAF1': 171, 'RHOA': 171, 'SMAD3': 171, 'SMAD4': 171, 'SRC': 171, 'TRAF2': 171, 'TSC2': 171})\n",
      "Counter({'BRAF': 171, 'CEBPA': 171, 'FGFR3': 171, 'IRAK4': 171, 'MAP3K2': 171, 'PIK3R2': 171, 'RELB': 171, 'SREBF1': 171, 'WWTR1': 171})\n",
      " \n",
      "Counter({'SRC': 171})\n",
      "Counter({'AKT1S1': 171, 'APC': 171, 'ATF4': 171, 'BAX': 171, 'BCL2L11': 171, 'CASP8': 171, 'CDC42': 171, 'CDKN1A': 171, 'CREB1': 171, 'DIABLO': 171, 'E2F1': 171, 'ELK1': 171, 'ERG': 171, 'FOXO1': 171, 'GLI1': 171, 'HRAS': 171, 'JUN': 171, 'KRAS': 171, 'MAP2K3': 171, 'MAP3K5': 171, 'MAP3K9': 171, 'MAPK7': 171, 'MYD88': 171, 'PKIA': 171, 'PRKACA': 171, 'PRKCE': 171, 'RAF1': 171, 'RHOA': 171, 'SMAD3': 171, 'SMAD4': 171, 'SMO': 171, 'TRAF2': 171, 'TSC2': 171})\n",
      "Counter({'BRAF': 171, 'CEBPA': 171, 'FGFR3': 171, 'IRAK4': 171, 'MAP3K2': 171, 'PIK3R2': 171, 'RELB': 171, 'SREBF1': 171, 'WWTR1': 171})\n",
      " \n",
      "Counter({'SREBF1': 171})\n",
      "Counter({'AKT1S1': 171, 'APC': 171, 'ATF4': 171, 'BAX': 171, 'BCL2L11': 171, 'CASP8': 171, 'CDC42': 171, 'CDKN1A': 171, 'CREB1': 171, 'DIABLO': 171, 'E2F1': 171, 'ELK1': 171, 'ERG': 171, 'FOXO1': 171, 'GLI1': 171, 'HRAS': 171, 'JUN': 171, 'KRAS': 171, 'MAP2K3': 171, 'MAP3K5': 171, 'MAP3K9': 171, 'MAPK7': 171, 'MYD88': 171, 'PKIA': 171, 'PRKACA': 171, 'PRKCE': 171, 'RAF1': 171, 'RHOA': 171, 'SMAD3': 171, 'SMAD4': 171, 'SMO': 171, 'TRAF2': 171, 'TSC2': 171})\n",
      "Counter({'BRAF': 171, 'CEBPA': 171, 'FGFR3': 171, 'IRAK4': 171, 'MAP3K2': 171, 'PIK3R2': 171, 'RELB': 171, 'SRC': 171, 'WWTR1': 171})\n",
      " \n",
      "Counter({'TRAF2': 171})\n",
      "Counter({'AKT1S1': 171, 'APC': 171, 'ATF4': 171, 'BAX': 171, 'BCL2L11': 171, 'CASP8': 171, 'CDC42': 171, 'CDKN1A': 171, 'CREB1': 171, 'DIABLO': 171, 'E2F1': 171, 'ELK1': 171, 'ERG': 171, 'FOXO1': 171, 'GLI1': 171, 'HRAS': 171, 'JUN': 171, 'KRAS': 171, 'MAP2K3': 171, 'MAP3K5': 171, 'MAP3K9': 171, 'MAPK7': 171, 'MYD88': 171, 'PKIA': 171, 'PRKACA': 171, 'PRKCE': 171, 'RAF1': 171, 'RHOA': 171, 'SMAD3': 171, 'SMAD4': 171, 'SMO': 171, 'SREBF1': 171, 'TSC2': 171})\n",
      "Counter({'BRAF': 171, 'CEBPA': 171, 'FGFR3': 171, 'IRAK4': 171, 'MAP3K2': 171, 'PIK3R2': 171, 'RELB': 171, 'SRC': 171, 'WWTR1': 171})\n",
      " \n",
      "Counter({'TSC2': 171})\n",
      "Counter({'AKT1S1': 171, 'APC': 171, 'ATF4': 171, 'BAX': 171, 'BCL2L11': 171, 'CASP8': 171, 'CDC42': 171, 'CDKN1A': 171, 'CREB1': 171, 'DIABLO': 171, 'E2F1': 171, 'ELK1': 171, 'ERG': 171, 'FOXO1': 171, 'GLI1': 171, 'HRAS': 171, 'JUN': 171, 'KRAS': 171, 'MAP2K3': 171, 'MAP3K5': 171, 'MAP3K9': 171, 'MAPK7': 171, 'MYD88': 171, 'PKIA': 171, 'PRKACA': 171, 'PRKCE': 171, 'RAF1': 171, 'RHOA': 171, 'SMAD3': 171, 'SMAD4': 171, 'SMO': 171, 'SREBF1': 171, 'TRAF2': 171})\n",
      "Counter({'BRAF': 171, 'CEBPA': 171, 'FGFR3': 171, 'IRAK4': 171, 'MAP3K2': 171, 'PIK3R2': 171, 'RELB': 171, 'SRC': 171, 'WWTR1': 171})\n",
      " \n",
      "Counter({'WWTR1': 171})\n",
      "Counter({'AKT1S1': 171, 'APC': 171, 'ATF4': 171, 'BAX': 171, 'BCL2L11': 171, 'CASP8': 171, 'CDC42': 171, 'CDKN1A': 171, 'CREB1': 171, 'DIABLO': 171, 'E2F1': 171, 'ELK1': 171, 'ERG': 171, 'FOXO1': 171, 'GLI1': 171, 'HRAS': 171, 'JUN': 171, 'KRAS': 171, 'MAP2K3': 171, 'MAP3K5': 171, 'MAP3K9': 171, 'MAPK7': 171, 'MYD88': 171, 'PKIA': 171, 'PRKACA': 171, 'PRKCE': 171, 'RAF1': 171, 'RHOA': 171, 'SMAD3': 171, 'SMAD4': 171, 'SMO': 171, 'SREBF1': 171, 'TRAF2': 171})\n",
      "Counter({'BRAF': 171, 'CEBPA': 171, 'FGFR3': 171, 'IRAK4': 171, 'MAP3K2': 171, 'PIK3R2': 171, 'RELB': 171, 'SRC': 171, 'TSC2': 171})\n",
      " \n"
     ]
    },
    {
     "data": {
      "application/javascript": [
       "\n",
       "            setTimeout(function() {\n",
       "                var nbb_cell_id = 224;\n",
       "                var nbb_unformatted_code = \"data_dicts = get_logo_data_dicts(\\n    data=img_embs_fold0,\\n    labels=node_embs_fold0,\\n    val_size=0.2,\\n    group_labels=np.array(list(node_embs_fold0.index)),\\n    batch_size=128,\\n    balanced=True,\\n)\";\n",
       "                var nbb_formatted_code = \"data_dicts = get_logo_data_dicts(\\n    data=img_embs_fold0,\\n    labels=node_embs_fold0,\\n    val_size=0.2,\\n    group_labels=np.array(list(node_embs_fold0.index)),\\n    batch_size=128,\\n    balanced=True,\\n)\";\n",
       "                var nbb_cells = Jupyter.notebook.get_cells();\n",
       "                for (var i = 0; i < nbb_cells.length; ++i) {\n",
       "                    if (nbb_cells[i].input_prompt_number == nbb_cell_id) {\n",
       "                        if (nbb_cells[i].get_text() == nbb_unformatted_code) {\n",
       "                             nbb_cells[i].set_text(nbb_formatted_code);\n",
       "                        }\n",
       "                        break;\n",
       "                    }\n",
       "                }\n",
       "            }, 500);\n",
       "            "
      ],
      "text/plain": [
       "<IPython.core.display.Javascript object>"
      ]
     },
     "metadata": {},
     "output_type": "display_data"
    }
   ],
   "source": [
    "data_dicts = get_logo_data_dicts(\n",
    "    data=img_embs_fold0,\n",
    "    labels=node_embs_fold0,\n",
    "    val_size=0.2,\n",
    "    group_labels=np.array(list(node_embs_fold0.index)),\n",
    "    batch_size=128,\n",
    "    balanced=True,\n",
    ")"
   ]
  },
  {
   "cell_type": "code",
   "execution_count": 225,
   "id": "05e4369d",
   "metadata": {},
   "outputs": [
    {
     "name": "stdout",
     "output_type": "stream",
     "text": [
      "Counter({'AKT1S1': 171})\n"
     ]
    },
    {
     "data": {
      "application/javascript": [
       "\n",
       "            setTimeout(function() {\n",
       "                var nbb_cell_id = 225;\n",
       "                var nbb_unformatted_code = \"data_dict = data_dicts[0]\\n\\nlabels = []\\nfor _, _, label in data_dict[\\\"test\\\"].dataset:\\n    labels.append(label)\\nprint(Counter(labels))\";\n",
       "                var nbb_formatted_code = \"data_dict = data_dicts[0]\\n\\nlabels = []\\nfor _, _, label in data_dict[\\\"test\\\"].dataset:\\n    labels.append(label)\\nprint(Counter(labels))\";\n",
       "                var nbb_cells = Jupyter.notebook.get_cells();\n",
       "                for (var i = 0; i < nbb_cells.length; ++i) {\n",
       "                    if (nbb_cells[i].input_prompt_number == nbb_cell_id) {\n",
       "                        if (nbb_cells[i].get_text() == nbb_unformatted_code) {\n",
       "                             nbb_cells[i].set_text(nbb_formatted_code);\n",
       "                        }\n",
       "                        break;\n",
       "                    }\n",
       "                }\n",
       "            }, 500);\n",
       "            "
      ],
      "text/plain": [
       "<IPython.core.display.Javascript object>"
      ]
     },
     "metadata": {},
     "output_type": "display_data"
    }
   ],
   "source": [
    "data_dict = data_dicts[0]\n",
    "\n",
    "labels = []\n",
    "for _, _, label in data_dict[\"test\"].dataset:\n",
    "    labels.append(label)\n",
    "print(Counter(labels))"
   ]
  },
  {
   "cell_type": "code",
   "execution_count": 226,
   "id": "90ce9795",
   "metadata": {
    "scrolled": true
   },
   "outputs": [
    {
     "name": "stderr",
     "output_type": "stream",
     "text": [
      "\r",
      "  0%|          | 0/43 [00:00<?, ?it/s]"
     ]
    },
    {
     "name": "stdout",
     "output_type": "stream",
     "text": [
      "TRAIN loss: 0.0033069755780937562\n",
      "VAL loss: 0.003841956364822376\n",
      "TEST loss: 0.001816103870065458\n",
      "TRAIN top-[1, 3, 5, 10, 20, 50] accuracies: [0.0845 0.148  0.1854 0.2484 0.3386 0.541 ]\n",
      "---\n"
     ]
    },
    {
     "name": "stderr",
     "output_type": "stream",
     "text": [
      "\r",
      "  2%|▏         | 1/43 [00:08<06:11,  8.84s/it]"
     ]
    },
    {
     "name": "stdout",
     "output_type": "stream",
     "text": [
      "VAL top-[1, 3, 5, 10, 20, 50] accuracies: [0.0149 0.0507 0.091  0.1657 0.2404 0.46  ]\n",
      "---\n",
      "['AKT1S1']\n",
      "Left-out label: AKT1S1\n",
      "TEST top-[1, 3, 5, 10, 20, 50] accuracies: [0.0819 0.2047 0.3275 0.5614 0.8538 1.    ]\n",
      "---\n",
      "TRAIN loss: 0.0031702147280834\n",
      "VAL loss: 0.003799048875252183\n",
      "TEST loss: 0.008036056457207216\n",
      "TRAIN top-[1, 3, 5, 10, 20, 50] accuracies: [0.1037 0.166  0.2031 0.2692 0.3677 0.5603]\n",
      "---\n"
     ]
    },
    {
     "name": "stderr",
     "output_type": "stream",
     "text": [
      "\r",
      "  5%|▍         | 2/43 [00:17<05:56,  8.70s/it]"
     ]
    },
    {
     "name": "stdout",
     "output_type": "stream",
     "text": [
      "VAL top-[1, 3, 5, 10, 20, 50] accuracies: [0.0169 0.0604 0.1111 0.178  0.2755 0.4639]\n",
      "---\n",
      "['APC']\n",
      "Left-out label: APC\n",
      "TEST top-[1, 3, 5, 10, 20, 50] accuracies: [0.     0.     0.     0.     0.     0.0117]\n",
      "---\n",
      "TRAIN loss: 0.003445885588173843\n",
      "VAL loss: 0.003924682981027817\n",
      "TEST loss: 0.0038812325801700354\n",
      "TRAIN top-[1, 3, 5, 10, 20, 50] accuracies: [0.0895 0.1558 0.1935 0.2582 0.3534 0.5439]\n",
      "---\n"
     ]
    },
    {
     "name": "stderr",
     "output_type": "stream",
     "text": [
      "\r",
      "  7%|▋         | 3/43 [00:25<05:40,  8.51s/it]"
     ]
    },
    {
     "name": "stdout",
     "output_type": "stream",
     "text": [
      "VAL top-[1, 3, 5, 10, 20, 50] accuracies: [0.0162 0.0604 0.1053 0.1735 0.2716 0.4873]\n",
      "---\n",
      "['ATF4']\n",
      "Left-out label: ATF4\n",
      "TEST top-[1, 3, 5, 10, 20, 50] accuracies: [0.     0.     0.     0.0292 0.0702 0.3041]\n",
      "---\n",
      "TRAIN loss: 0.0034095657104436503\n",
      "VAL loss: 0.0038823247268430458\n",
      "TEST loss: 0.005648733410788209\n",
      "TRAIN top-[1, 3, 5, 10, 20, 50] accuracies: [0.0936 0.1643 0.2047 0.2754 0.3705 0.5639]\n",
      "---\n"
     ]
    },
    {
     "name": "stderr",
     "output_type": "stream",
     "text": [
      "\r",
      "  9%|▉         | 4/43 [00:33<05:20,  8.21s/it]"
     ]
    },
    {
     "name": "stdout",
     "output_type": "stream",
     "text": [
      "VAL top-[1, 3, 5, 10, 20, 50] accuracies: [0.0188 0.0611 0.0968 0.165  0.2567 0.4964]\n",
      "---\n",
      "['BAX']\n",
      "Left-out label: BAX\n",
      "TEST top-[1, 3, 5, 10, 20, 50] accuracies: [0.     0.     0.     0.     0.0058 0.0234]\n",
      "---\n",
      "TRAIN loss: 0.003438615746005258\n",
      "VAL loss: 0.004011315001323674\n",
      "TEST loss: 0.004918881471415884\n",
      "TRAIN top-[1, 3, 5, 10, 20, 50] accuracies: [0.0829 0.152  0.1903 0.2601 0.3594 0.5577]\n",
      "---\n"
     ]
    },
    {
     "name": "stderr",
     "output_type": "stream",
     "text": [
      "\r",
      " 12%|█▏        | 5/43 [00:41<05:09,  8.16s/it]"
     ]
    },
    {
     "name": "stdout",
     "output_type": "stream",
     "text": [
      "VAL top-[1, 3, 5, 10, 20, 50] accuracies: [0.0156 0.0682 0.1189 0.1839 0.2729 0.475 ]\n",
      "---\n",
      "['BCL2L11']\n",
      "Left-out label: BCL2L11\n",
      "TEST top-[1, 3, 5, 10, 20, 50] accuracies: [0.     0.     0.     0.     0.     0.0409]\n",
      "---\n",
      "TRAIN loss: 0.003154291585599401\n",
      "VAL loss: 0.00370332728278635\n",
      "TEST loss: 0.003970731068838235\n",
      "TRAIN top-[1, 3, 5, 10, 20, 50] accuracies: [0.096  0.1652 0.2047 0.2722 0.3732 0.5678]\n",
      "---\n"
     ]
    },
    {
     "name": "stderr",
     "output_type": "stream",
     "text": [
      "\r",
      " 14%|█▍        | 6/43 [00:50<05:11,  8.42s/it]"
     ]
    },
    {
     "name": "stdout",
     "output_type": "stream",
     "text": [
      "VAL top-[1, 3, 5, 10, 20, 50] accuracies: [0.0175 0.0598 0.0975 0.1722 0.2736 0.4893]\n",
      "---\n",
      "['BRAF']\n",
      "Left-out label: BRAF\n",
      "TEST top-[1, 3, 5, 10, 20, 50] accuracies: [0.0234 0.0234 0.0409 0.0585 0.0936 0.2515]\n",
      "---\n",
      "TRAIN loss: 0.0033472118348486612\n",
      "VAL loss: 0.003931379934519898\n",
      "TEST loss: 0.00394985055256831\n",
      "TRAIN top-[1, 3, 5, 10, 20, 50] accuracies: [0.101  0.1627 0.1979 0.2656 0.3613 0.5564]\n",
      "---\n"
     ]
    },
    {
     "name": "stderr",
     "output_type": "stream",
     "text": [
      "\r",
      " 16%|█▋        | 7/43 [00:58<04:59,  8.32s/it]"
     ]
    },
    {
     "name": "stdout",
     "output_type": "stream",
     "text": [
      "VAL top-[1, 3, 5, 10, 20, 50] accuracies: [0.0208 0.0734 0.1144 0.1858 0.2781 0.4919]\n",
      "---\n",
      "['CASP8']\n",
      "Left-out label: CASP8\n",
      "TEST top-[1, 3, 5, 10, 20, 50] accuracies: [0.     0.     0.     0.     0.0058 0.1287]\n",
      "---\n",
      "TRAIN loss: 0.003186222986609797\n",
      "VAL loss: 0.0038441971903261404\n",
      "TEST loss: 0.0033739222981558556\n",
      "TRAIN top-[1, 3, 5, 10, 20, 50] accuracies: [0.1008 0.1669 0.2065 0.272  0.3659 0.5641]\n",
      "---\n"
     ]
    },
    {
     "name": "stderr",
     "output_type": "stream",
     "text": [
      "\r",
      " 19%|█▊        | 8/43 [01:07<04:58,  8.53s/it]"
     ]
    },
    {
     "name": "stdout",
     "output_type": "stream",
     "text": [
      "VAL top-[1, 3, 5, 10, 20, 50] accuracies: [0.0169 0.0663 0.1066 0.1741 0.2671 0.4769]\n",
      "---\n",
      "['CDC42']\n",
      "Left-out label: CDC42\n",
      "TEST top-[1, 3, 5, 10, 20, 50] accuracies: [0.     0.0058 0.0234 0.0409 0.1345 0.4854]\n",
      "---\n",
      "TRAIN loss: 0.002809032083147532\n",
      "VAL loss: 0.003574058764340033\n",
      "TEST loss: 0.02970541232641329\n",
      "TRAIN top-[1, 3, 5, 10, 20, 50] accuracies: [0.11   0.1816 0.2222 0.2936 0.3826 0.5798]\n",
      "---\n"
     ]
    },
    {
     "name": "stderr",
     "output_type": "stream",
     "text": [
      "\r",
      " 21%|██        | 9/43 [01:16<04:56,  8.73s/it]"
     ]
    },
    {
     "name": "stdout",
     "output_type": "stream",
     "text": [
      "VAL top-[1, 3, 5, 10, 20, 50] accuracies: [0.0214 0.0669 0.1072 0.1715 0.2859 0.4971]\n",
      "---\n",
      "['CDKN1A']\n",
      "Left-out label: CDKN1A\n",
      "TEST top-[1, 3, 5, 10, 20, 50] accuracies: [0. 0. 0. 0. 0. 0.]\n",
      "---\n",
      "TRAIN loss: 0.003155965179197679\n",
      "VAL loss: 0.0037602547028472936\n",
      "TEST loss: 0.0035726258051935692\n",
      "TRAIN top-[1, 3, 5, 10, 20, 50] accuracies: [0.0893 0.1524 0.1912 0.2561 0.3518 0.5545]\n",
      "---\n"
     ]
    },
    {
     "name": "stderr",
     "output_type": "stream",
     "text": [
      "\r",
      " 23%|██▎       | 10/43 [01:25<04:51,  8.82s/it]"
     ]
    },
    {
     "name": "stdout",
     "output_type": "stream",
     "text": [
      "VAL top-[1, 3, 5, 10, 20, 50] accuracies: [0.0169 0.063  0.1098 0.1761 0.2736 0.4873]\n",
      "---\n",
      "['CEBPA']\n",
      "Left-out label: CEBPA\n",
      "TEST top-[1, 3, 5, 10, 20, 50] accuracies: [0.0351 0.1053 0.1228 0.193  0.2164 0.3099]\n",
      "---\n",
      "TRAIN loss: 0.0035236471047667525\n",
      "VAL loss: 0.0041928026435474365\n",
      "TEST loss: 0.0035214107755941956\n",
      "TRAIN top-[1, 3, 5, 10, 20, 50] accuracies: [0.0868 0.1536 0.1901 0.2555 0.3537 0.5587]\n",
      "---\n"
     ]
    },
    {
     "name": "stderr",
     "output_type": "stream",
     "text": [
      "\r",
      " 26%|██▌       | 11/43 [01:33<04:35,  8.61s/it]"
     ]
    },
    {
     "name": "stdout",
     "output_type": "stream",
     "text": [
      "VAL top-[1, 3, 5, 10, 20, 50] accuracies: [0.0136 0.0611 0.104  0.1754 0.2664 0.436 ]\n",
      "---\n",
      "['CREB1']\n",
      "Left-out label: CREB1\n",
      "TEST top-[1, 3, 5, 10, 20, 50] accuracies: [0.     0.     0.0058 0.0117 0.0643 0.4269]\n",
      "---\n",
      "TRAIN loss: 0.003496212563078884\n",
      "VAL loss: 0.00426572525590571\n",
      "TEST loss: 0.005381967183420358\n",
      "TRAIN top-[1, 3, 5, 10, 20, 50] accuracies: [0.1008 0.1662 0.2034 0.2736 0.3732 0.5664]\n",
      "---\n"
     ]
    },
    {
     "name": "stderr",
     "output_type": "stream",
     "text": [
      "\r",
      " 28%|██▊       | 12/43 [01:41<04:13,  8.18s/it]"
     ]
    },
    {
     "name": "stdout",
     "output_type": "stream",
     "text": [
      "VAL top-[1, 3, 5, 10, 20, 50] accuracies: [0.0143 0.0617 0.1014 0.1637 0.2632 0.425 ]\n",
      "---\n",
      "['DIABLO']\n",
      "Left-out label: DIABLO\n",
      "TEST top-[1, 3, 5, 10, 20, 50] accuracies: [0.     0.     0.     0.     0.     0.0351]\n",
      "---\n",
      "TRAIN loss: 0.0033606948497606633\n",
      "VAL loss: 0.00414963752664311\n",
      "TEST loss: 0.009360960978818568\n",
      "TRAIN top-[1, 3, 5, 10, 20, 50] accuracies: [0.092  0.1598 0.1999 0.2685 0.364  0.5802]\n",
      "---\n"
     ]
    },
    {
     "name": "stderr",
     "output_type": "stream",
     "text": [
      "\r",
      " 30%|███       | 13/43 [01:48<04:01,  8.06s/it]"
     ]
    },
    {
     "name": "stdout",
     "output_type": "stream",
     "text": [
      "VAL top-[1, 3, 5, 10, 20, 50] accuracies: [0.0227 0.0708 0.1085 0.1741 0.2515 0.4217]\n",
      "---\n",
      "['E2F1']\n",
      "Left-out label: E2F1\n",
      "TEST top-[1, 3, 5, 10, 20, 50] accuracies: [0. 0. 0. 0. 0. 0.]\n",
      "---\n",
      "TRAIN loss: 0.003470858714645443\n",
      "VAL loss: 0.004259822912552939\n",
      "TEST loss: 0.0022987068878563\n",
      "TRAIN top-[1, 3, 5, 10, 20, 50] accuracies: [0.0923 0.1474 0.1861 0.2515 0.3555 0.5632]\n",
      "---\n"
     ]
    },
    {
     "name": "stderr",
     "output_type": "stream",
     "text": [
      "\r",
      " 33%|███▎      | 14/43 [01:56<03:50,  7.95s/it]"
     ]
    },
    {
     "name": "stdout",
     "output_type": "stream",
     "text": [
      "VAL top-[1, 3, 5, 10, 20, 50] accuracies: [0.0182 0.0617 0.1001 0.1741 0.2567 0.4152]\n",
      "---\n",
      "['ELK1']\n",
      "Left-out label: ELK1\n",
      "TEST top-[1, 3, 5, 10, 20, 50] accuracies: [0.0526 0.2281 0.3275 0.4795 0.7135 0.9708]\n",
      "---\n",
      "TRAIN loss: 0.003305758482619959\n",
      "VAL loss: 0.0038589081397767846\n",
      "TEST loss: 0.007202152045694185\n",
      "TRAIN top-[1, 3, 5, 10, 20, 50] accuracies: [0.0891 0.1593 0.2022 0.2766 0.3808 0.5809]\n",
      "---\n"
     ]
    },
    {
     "name": "stderr",
     "output_type": "stream",
     "text": [
      "\r",
      " 35%|███▍      | 15/43 [02:04<03:42,  7.94s/it]"
     ]
    },
    {
     "name": "stdout",
     "output_type": "stream",
     "text": [
      "VAL top-[1, 3, 5, 10, 20, 50] accuracies: [0.0214 0.0689 0.117  0.1813 0.2898 0.499 ]\n",
      "---\n",
      "['ERG']\n",
      "Left-out label: ERG\n",
      "TEST top-[1, 3, 5, 10, 20, 50] accuracies: [0. 0. 0. 0. 0. 0.]\n",
      "---\n",
      "TRAIN loss: 0.003391235270787472\n",
      "VAL loss: 0.004124477326257555\n",
      "TEST loss: 0.0050321830796045165\n",
      "TRAIN top-[1, 3, 5, 10, 20, 50] accuracies: [0.0957 0.1634 0.205  0.2791 0.3831 0.586 ]\n",
      "---\n"
     ]
    },
    {
     "name": "stderr",
     "output_type": "stream",
     "text": [
      "\r",
      " 37%|███▋      | 16/43 [02:12<03:33,  7.92s/it]"
     ]
    },
    {
     "name": "stdout",
     "output_type": "stream",
     "text": [
      "VAL top-[1, 3, 5, 10, 20, 50] accuracies: [0.0266 0.0773 0.1137 0.1956 0.2853 0.4711]\n",
      "---\n",
      "['FGFR3']\n",
      "Left-out label: FGFR3\n",
      "TEST top-[1, 3, 5, 10, 20, 50] accuracies: [0. 0. 0. 0. 0. 0.]\n",
      "---\n",
      "TRAIN loss: 0.0031948559129441985\n",
      "VAL loss: 0.004143599259362709\n",
      "TEST loss: 0.002464595335203479\n",
      "TRAIN top-[1, 3, 5, 10, 20, 50] accuracies: [0.0918 0.1611 0.2024 0.2694 0.376  0.5871]\n",
      "---\n"
     ]
    },
    {
     "name": "stderr",
     "output_type": "stream",
     "text": [
      "\r",
      " 40%|███▉      | 17/43 [02:21<03:32,  8.15s/it]"
     ]
    },
    {
     "name": "stdout",
     "output_type": "stream",
     "text": [
      "VAL top-[1, 3, 5, 10, 20, 50] accuracies: [0.0253 0.0617 0.0994 0.1468 0.217  0.3626]\n",
      "---\n",
      "['FOXO1']\n",
      "Left-out label: FOXO1\n",
      "TEST top-[1, 3, 5, 10, 20, 50] accuracies: [0.0175 0.1579 0.2632 0.4094 0.6491 0.9298]\n",
      "---\n",
      "TRAIN loss: 0.003262321820544337\n",
      "VAL loss: 0.004399688527426156\n",
      "TEST loss: 0.00862398971830718\n",
      "TRAIN top-[1, 3, 5, 10, 20, 50] accuracies: [0.1035 0.1765 0.2212 0.2986 0.4085 0.6208]\n",
      "---\n"
     ]
    },
    {
     "name": "stderr",
     "output_type": "stream",
     "text": [
      "\r",
      " 42%|████▏     | 18/43 [02:28<03:19,  7.98s/it]"
     ]
    },
    {
     "name": "stdout",
     "output_type": "stream",
     "text": [
      "VAL top-[1, 3, 5, 10, 20, 50] accuracies: [0.0182 0.0474 0.0721 0.117  0.1793 0.3242]\n",
      "---\n",
      "['GLI1']\n",
      "Left-out label: GLI1\n",
      "TEST top-[1, 3, 5, 10, 20, 50] accuracies: [0. 0. 0. 0. 0. 0.]\n",
      "---\n",
      "TRAIN loss: 0.0035133486238659623\n",
      "VAL loss: 0.004528509409368386\n",
      "TEST loss: 0.004675623963516184\n",
      "TRAIN top-[1, 3, 5, 10, 20, 50] accuracies: [0.0911 0.1632 0.2065 0.2795 0.3831 0.5804]\n",
      "---\n"
     ]
    },
    {
     "name": "stderr",
     "output_type": "stream",
     "text": [
      "\r",
      " 44%|████▍     | 19/43 [02:36<03:08,  7.87s/it]"
     ]
    },
    {
     "name": "stdout",
     "output_type": "stream",
     "text": [
      "VAL top-[1, 3, 5, 10, 20, 50] accuracies: [0.0188 0.0578 0.0858 0.1358 0.2027 0.3522]\n",
      "---\n",
      "['HRAS']\n",
      "Left-out label: HRAS\n",
      "TEST top-[1, 3, 5, 10, 20, 50] accuracies: [0.0117 0.0117 0.0175 0.0175 0.0526 0.462 ]\n",
      "---\n",
      "TRAIN loss: 0.0031750234848688134\n",
      "VAL loss: 0.004295384072316805\n",
      "TEST loss: 0.005525248242291616\n",
      "TRAIN top-[1, 3, 5, 10, 20, 50] accuracies: [0.1046 0.182  0.2304 0.3057 0.4129 0.6169]\n",
      "---\n"
     ]
    },
    {
     "name": "stderr",
     "output_type": "stream",
     "text": [
      "\r",
      " 47%|████▋     | 20/43 [02:44<03:03,  7.98s/it]"
     ]
    },
    {
     "name": "stdout",
     "output_type": "stream",
     "text": [
      "VAL top-[1, 3, 5, 10, 20, 50] accuracies: [0.0175 0.0526 0.0832 0.1202 0.1943 0.3372]\n",
      "---\n",
      "['IRAK4']\n",
      "Left-out label: IRAK4\n",
      "TEST top-[1, 3, 5, 10, 20, 50] accuracies: [0.     0.     0.     0.     0.0058 0.0351]\n",
      "---\n",
      "TRAIN loss: 0.0031977833088833313\n",
      "VAL loss: 0.00452540853515248\n",
      "TEST loss: 0.0034028847445870002\n",
      "TRAIN top-[1, 3, 5, 10, 20, 50] accuracies: [0.109  0.1738 0.2178 0.2922 0.3925 0.6057]\n",
      "---\n"
     ]
    },
    {
     "name": "stderr",
     "output_type": "stream",
     "text": [
      "\r",
      " 49%|████▉     | 21/43 [02:52<02:55,  7.99s/it]"
     ]
    },
    {
     "name": "stdout",
     "output_type": "stream",
     "text": [
      "VAL top-[1, 3, 5, 10, 20, 50] accuracies: [0.0136 0.0513 0.0747 0.1228 0.1832 0.2982]\n",
      "---\n",
      "['JUN']\n",
      "Left-out label: JUN\n",
      "TEST top-[1, 3, 5, 10, 20, 50] accuracies: [0.     0.0058 0.0175 0.0234 0.1228 0.4561]\n",
      "---\n",
      "TRAIN loss: 0.003181806997130832\n",
      "VAL loss: 0.004376416198686588\n",
      "TEST loss: 0.0024592162529278915\n",
      "TRAIN top-[1, 3, 5, 10, 20, 50] accuracies: [0.1152 0.1901 0.2334 0.306  0.4074 0.5995]\n",
      "---\n"
     ]
    },
    {
     "name": "stderr",
     "output_type": "stream",
     "text": [
      "\r",
      " 51%|█████     | 22/43 [03:00<02:49,  8.08s/it]"
     ]
    },
    {
     "name": "stdout",
     "output_type": "stream",
     "text": [
      "VAL top-[1, 3, 5, 10, 20, 50] accuracies: [0.0253 0.0591 0.0825 0.1287 0.1806 0.3086]\n",
      "---\n",
      "['KRAS']\n",
      "Left-out label: KRAS\n",
      "TEST top-[1, 3, 5, 10, 20, 50] accuracies: [0.0175 0.0526 0.0819 0.1754 0.4152 0.8421]\n",
      "---\n",
      "TRAIN loss: 0.0035856386402616253\n",
      "VAL loss: 0.00480811926188302\n",
      "TEST loss: 0.0031914271125624404\n",
      "TRAIN top-[1, 3, 5, 10, 20, 50] accuracies: [0.1026 0.1753 0.2189 0.2924 0.3946 0.6027]\n",
      "---\n"
     ]
    },
    {
     "name": "stderr",
     "output_type": "stream",
     "text": [
      "\r",
      " 53%|█████▎    | 23/43 [03:07<02:33,  7.70s/it]"
     ]
    },
    {
     "name": "stdout",
     "output_type": "stream",
     "text": [
      "VAL top-[1, 3, 5, 10, 20, 50] accuracies: [0.0227 0.0559 0.0838 0.1358 0.1936 0.3171]\n",
      "---\n",
      "['MAP2K3']\n",
      "Left-out label: MAP2K3\n",
      "TEST top-[1, 3, 5, 10, 20, 50] accuracies: [0.0117 0.0292 0.0526 0.1287 0.3275 0.9357]\n",
      "---\n",
      "TRAIN loss: 0.0033888336790181945\n",
      "VAL loss: 0.004783412651295027\n",
      "TEST loss: 0.0030661182360974147\n",
      "TRAIN top-[1, 3, 5, 10, 20, 50] accuracies: [0.1131 0.1845 0.2268 0.3036 0.4088 0.6155]\n",
      "---\n"
     ]
    },
    {
     "name": "stderr",
     "output_type": "stream",
     "text": [
      "\r",
      " 56%|█████▌    | 24/43 [03:14<02:24,  7.59s/it]"
     ]
    },
    {
     "name": "stdout",
     "output_type": "stream",
     "text": [
      "VAL top-[1, 3, 5, 10, 20, 50] accuracies: [0.0143 0.0487 0.0786 0.1287 0.1865 0.3054]\n",
      "---\n",
      "['MAP3K2']\n",
      "Left-out label: MAP3K2\n",
      "TEST top-[1, 3, 5, 10, 20, 50] accuracies: [0.0117 0.0292 0.0409 0.1345 0.3099 0.7719]\n",
      "---\n",
      "TRAIN loss: 0.003696300465197372\n",
      "VAL loss: 0.004961649688170125\n",
      "TEST loss: 0.002724451646045373\n",
      "TRAIN top-[1, 3, 5, 10, 20, 50] accuracies: [0.1024 0.1834 0.2263 0.2956 0.3888 0.596 ]\n",
      "---\n"
     ]
    },
    {
     "name": "stderr",
     "output_type": "stream",
     "text": [
      "\r",
      " 58%|█████▊    | 25/43 [03:21<02:11,  7.32s/it]"
     ]
    },
    {
     "name": "stdout",
     "output_type": "stream",
     "text": [
      "VAL top-[1, 3, 5, 10, 20, 50] accuracies: [0.011  0.0318 0.0461 0.0806 0.1345 0.2937]\n",
      "---\n",
      "['MAP3K5']\n",
      "Left-out label: MAP3K5\n",
      "TEST top-[1, 3, 5, 10, 20, 50] accuracies: [0.0643 0.193  0.3275 0.4971 0.7427 0.9883]\n",
      "---\n",
      "TRAIN loss: 0.003197964202160758\n",
      "VAL loss: 0.004575215886716741\n",
      "TEST loss: 0.008129135498570072\n",
      "TRAIN top-[1, 3, 5, 10, 20, 50] accuracies: [0.1143 0.201  0.2444 0.317  0.4145 0.6119]\n",
      "---\n"
     ]
    },
    {
     "name": "stderr",
     "output_type": "stream",
     "text": [
      "\r",
      " 60%|██████    | 26/43 [03:29<02:09,  7.63s/it]"
     ]
    },
    {
     "name": "stdout",
     "output_type": "stream",
     "text": [
      "VAL top-[1, 3, 5, 10, 20, 50] accuracies: [0.0084 0.0221 0.0435 0.091  0.1579 0.3099]\n",
      "---\n",
      "['MAP3K9']\n",
      "Left-out label: MAP3K9\n",
      "TEST top-[1, 3, 5, 10, 20, 50] accuracies: [0.     0.     0.     0.     0.     0.0175]\n",
      "---\n",
      "TRAIN loss: 0.003133484677687398\n",
      "VAL loss: 0.004559012959257998\n",
      "TEST loss: 0.0039777585103759295\n",
      "TRAIN top-[1, 3, 5, 10, 20, 50] accuracies: [0.1256 0.2033 0.2531 0.3294 0.4329 0.6181]\n",
      "---\n"
     ]
    },
    {
     "name": "stderr",
     "output_type": "stream",
     "text": [
      "\r",
      " 63%|██████▎   | 27/43 [03:38<02:06,  7.88s/it]"
     ]
    },
    {
     "name": "stdout",
     "output_type": "stream",
     "text": [
      "VAL top-[1, 3, 5, 10, 20, 50] accuracies: [0.0071 0.0156 0.0292 0.0773 0.1332 0.2833]\n",
      "---\n",
      "['MAPK7']\n",
      "Left-out label: MAPK7\n",
      "TEST top-[1, 3, 5, 10, 20, 50] accuracies: [0.     0.0058 0.0058 0.0351 0.076  0.2807]\n",
      "---\n",
      "TRAIN loss: 0.003146116253050962\n",
      "VAL loss: 0.004531266558987995\n",
      "TEST loss: 0.004527209253099404\n",
      "TRAIN top-[1, 3, 5, 10, 20, 50] accuracies: [0.117  0.1997 0.244  0.3243 0.4241 0.6234]\n",
      "---\n"
     ]
    },
    {
     "name": "stderr",
     "output_type": "stream",
     "text": [
      "\r",
      " 65%|██████▌   | 28/43 [03:46<01:59,  7.94s/it]"
     ]
    },
    {
     "name": "stdout",
     "output_type": "stream",
     "text": [
      "VAL top-[1, 3, 5, 10, 20, 50] accuracies: [0.011  0.026  0.0442 0.0734 0.1339 0.2853]\n",
      "---\n",
      "['MYD88']\n",
      "Left-out label: MYD88\n",
      "TEST top-[1, 3, 5, 10, 20, 50] accuracies: [0.     0.     0.     0.     0.     0.0058]\n",
      "---\n",
      "TRAIN loss: 0.003218557073809134\n",
      "VAL loss: 0.004434891077771522\n",
      "TEST loss: 0.002671903402310366\n",
      "TRAIN top-[1, 3, 5, 10, 20, 50] accuracies: [0.1024 0.1804 0.2263 0.3021 0.4021 0.6022]\n",
      "---\n"
     ]
    },
    {
     "name": "stderr",
     "output_type": "stream",
     "text": [
      "\r",
      " 67%|██████▋   | 29/43 [03:54<01:51,  7.99s/it]"
     ]
    },
    {
     "name": "stdout",
     "output_type": "stream",
     "text": [
      "VAL top-[1, 3, 5, 10, 20, 50] accuracies: [0.0136 0.0292 0.0487 0.0955 0.1605 0.3249]\n",
      "---\n",
      "['PIK3R2']\n",
      "Left-out label: PIK3R2\n",
      "TEST top-[1, 3, 5, 10, 20, 50] accuracies: [0.     0.0058 0.0117 0.0292 0.1404 0.7251]\n",
      "---\n",
      "TRAIN loss: 0.003215781434020085\n",
      "VAL loss: 0.003924178086944975\n",
      "TEST loss: 0.009421321661456636\n",
      "TRAIN top-[1, 3, 5, 10, 20, 50] accuracies: [0.1186 0.2018 0.2486 0.322  0.4235 0.611 ]\n",
      "---\n"
     ]
    },
    {
     "name": "stderr",
     "output_type": "stream",
     "text": [
      "\r",
      " 70%|██████▉   | 30/43 [04:03<01:46,  8.21s/it]"
     ]
    },
    {
     "name": "stdout",
     "output_type": "stream",
     "text": [
      "VAL top-[1, 3, 5, 10, 20, 50] accuracies: [0.013  0.0325 0.0442 0.0747 0.1566 0.3788]\n",
      "---\n",
      "['PKIA']\n",
      "Left-out label: PKIA\n",
      "TEST top-[1, 3, 5, 10, 20, 50] accuracies: [0. 0. 0. 0. 0. 0.]\n",
      "---\n",
      "TRAIN loss: 0.003307003007177478\n",
      "VAL loss: 0.0038443593023304934\n",
      "TEST loss: 0.006419128022151209\n",
      "TRAIN top-[1, 3, 5, 10, 20, 50] accuracies: [0.1209 0.1995 0.249  0.3234 0.4164 0.6009]\n",
      "---\n"
     ]
    },
    {
     "name": "stderr",
     "output_type": "stream",
     "text": [
      "\r",
      " 72%|███████▏  | 31/43 [04:11<01:38,  8.22s/it]"
     ]
    },
    {
     "name": "stdout",
     "output_type": "stream",
     "text": [
      "VAL top-[1, 3, 5, 10, 20, 50] accuracies: [0.0052 0.0247 0.0364 0.0708 0.1624 0.3834]\n",
      "---\n",
      "['PRKACA']\n",
      "Left-out label: PRKACA\n",
      "TEST top-[1, 3, 5, 10, 20, 50] accuracies: [0. 0. 0. 0. 0. 0.]\n",
      "---\n",
      "TRAIN loss: 0.00322025483558306\n",
      "VAL loss: 0.003709597372685337\n",
      "TEST loss: 0.0029309788454672573\n",
      "TRAIN top-[1, 3, 5, 10, 20, 50] accuracies: [0.1159 0.1955 0.2454 0.3114 0.4028 0.5866]\n",
      "---\n"
     ]
    },
    {
     "name": "stderr",
     "output_type": "stream",
     "text": [
      "\r",
      " 74%|███████▍  | 32/43 [04:20<01:32,  8.43s/it]"
     ]
    },
    {
     "name": "stdout",
     "output_type": "stream",
     "text": [
      "VAL top-[1, 3, 5, 10, 20, 50] accuracies: [0.013  0.0403 0.0559 0.1046 0.1793 0.3938]\n",
      "---\n",
      "['PRKCE']\n",
      "Left-out label: PRKCE\n",
      "TEST top-[1, 3, 5, 10, 20, 50] accuracies: [0.     0.     0.0058 0.0292 0.1287 0.5322]\n",
      "---\n",
      "TRAIN loss: 0.0035363536267177436\n",
      "VAL loss: 0.004076133126331235\n",
      "TEST loss: 0.007729950734027471\n",
      "TRAIN top-[1, 3, 5, 10, 20, 50] accuracies: [0.1232 0.2022 0.2467 0.3206 0.4113 0.5942]\n",
      "---\n"
     ]
    },
    {
     "name": "stderr",
     "output_type": "stream",
     "text": [
      "\r",
      " 77%|███████▋  | 33/43 [04:28<01:21,  8.20s/it]"
     ]
    },
    {
     "name": "stdout",
     "output_type": "stream",
     "text": [
      "VAL top-[1, 3, 5, 10, 20, 50] accuracies: [0.013  0.0331 0.0435 0.0812 0.1488 0.3574]\n",
      "---\n",
      "['RAF1']\n",
      "Left-out label: RAF1\n",
      "TEST top-[1, 3, 5, 10, 20, 50] accuracies: [0.     0.     0.     0.     0.     0.0058]\n",
      "---\n",
      "TRAIN loss: 0.0032196345629892423\n",
      "VAL loss: 0.0037010626584809466\n",
      "TEST loss: 0.0022479963491599986\n",
      "TRAIN top-[1, 3, 5, 10, 20, 50] accuracies: [0.1143 0.19   0.2332 0.3013 0.4014 0.5887]\n",
      "---\n"
     ]
    },
    {
     "name": "stderr",
     "output_type": "stream",
     "text": [
      "\r",
      " 79%|███████▉  | 34/43 [04:37<01:15,  8.39s/it]"
     ]
    },
    {
     "name": "stdout",
     "output_type": "stream",
     "text": [
      "VAL top-[1, 3, 5, 10, 20, 50] accuracies: [0.0123 0.0286 0.0468 0.0845 0.1579 0.3795]\n",
      "---\n",
      "['RELB']\n",
      "Left-out label: RELB\n",
      "TEST top-[1, 3, 5, 10, 20, 50] accuracies: [0.0643 0.1754 0.2573 0.4094 0.614  0.9006]\n",
      "---\n",
      "TRAIN loss: 0.00344239192079517\n",
      "VAL loss: 0.003941696449748741\n",
      "TEST loss: 0.003405071228568317\n",
      "TRAIN top-[1, 3, 5, 10, 20, 50] accuracies: [0.1113 0.1854 0.229  0.2997 0.3906 0.574 ]\n",
      "---\n"
     ]
    },
    {
     "name": "stderr",
     "output_type": "stream",
     "text": [
      "\r",
      " 81%|████████▏ | 35/43 [04:44<01:05,  8.23s/it]"
     ]
    },
    {
     "name": "stdout",
     "output_type": "stream",
     "text": [
      "VAL top-[1, 3, 5, 10, 20, 50] accuracies: [0.0117 0.0364 0.0598 0.1137 0.2118 0.4301]\n",
      "---\n",
      "['RHOA']\n",
      "Left-out label: RHOA\n",
      "TEST top-[1, 3, 5, 10, 20, 50] accuracies: [0.     0.0058 0.0117 0.0234 0.0643 0.2924]\n",
      "---\n",
      "TRAIN loss: 0.0032533784565287566\n",
      "VAL loss: 0.0036655369125756835\n",
      "TEST loss: 0.006412362802381578\n",
      "TRAIN top-[1, 3, 5, 10, 20, 50] accuracies: [0.103  0.177  0.2219 0.2945 0.3959 0.5951]\n",
      "---\n"
     ]
    },
    {
     "name": "stderr",
     "output_type": "stream",
     "text": [
      "\r",
      " 84%|████████▎ | 36/43 [04:52<00:57,  8.20s/it]"
     ]
    },
    {
     "name": "stdout",
     "output_type": "stream",
     "text": [
      "VAL top-[1, 3, 5, 10, 20, 50] accuracies: [0.013  0.0481 0.0708 0.1261 0.2177 0.4529]\n",
      "---\n",
      "['SMAD3']\n",
      "Left-out label: SMAD3\n",
      "TEST top-[1, 3, 5, 10, 20, 50] accuracies: [0.     0.     0.     0.     0.0117 0.0409]\n",
      "---\n",
      "TRAIN loss: 0.0033834201352904818\n",
      "VAL loss: 0.003789559187025045\n",
      "TEST loss: 0.003653452407612264\n",
      "TRAIN top-[1, 3, 5, 10, 20, 50] accuracies: [0.1067 0.1694 0.2112 0.2848 0.3861 0.5774]\n",
      "---\n"
     ]
    },
    {
     "name": "stderr",
     "output_type": "stream",
     "text": [
      "\r",
      " 86%|████████▌ | 37/43 [05:01<00:49,  8.22s/it]"
     ]
    },
    {
     "name": "stdout",
     "output_type": "stream",
     "text": [
      "VAL top-[1, 3, 5, 10, 20, 50] accuracies: [0.011  0.0396 0.0559 0.1124 0.1982 0.4405]\n",
      "---\n",
      "['SMAD4']\n",
      "Left-out label: SMAD4\n",
      "TEST top-[1, 3, 5, 10, 20, 50] accuracies: [0.     0.     0.     0.0351 0.1345 0.4503]\n",
      "---\n",
      "TRAIN loss: 0.00320882692120424\n",
      "VAL loss: 0.0037984338696728944\n",
      "TEST loss: 0.01187738336688071\n",
      "TRAIN top-[1, 3, 5, 10, 20, 50] accuracies: [0.1093 0.1841 0.2295 0.3002 0.4017 0.5958]\n",
      "---\n"
     ]
    },
    {
     "name": "stderr",
     "output_type": "stream",
     "text": [
      "\r",
      " 88%|████████▊ | 38/43 [05:09<00:40,  8.12s/it]"
     ]
    },
    {
     "name": "stdout",
     "output_type": "stream",
     "text": [
      "VAL top-[1, 3, 5, 10, 20, 50] accuracies: [0.0084 0.0273 0.05   0.0981 0.2001 0.4295]\n",
      "---\n",
      "['SMO']\n",
      "Left-out label: SMO\n",
      "TEST top-[1, 3, 5, 10, 20, 50] accuracies: [0. 0. 0. 0. 0. 0.]\n",
      "---\n",
      "TRAIN loss: 0.0032418786044127418\n",
      "VAL loss: 0.003591118449111644\n",
      "TEST loss: 0.006258169589400815\n",
      "TRAIN top-[1, 3, 5, 10, 20, 50] accuracies: [0.1106 0.1797 0.2302 0.3052 0.4023 0.5958]\n",
      "---\n"
     ]
    },
    {
     "name": "stderr",
     "output_type": "stream",
     "text": [
      "\r",
      " 91%|█████████ | 39/43 [05:17<00:32,  8.18s/it]"
     ]
    },
    {
     "name": "stdout",
     "output_type": "stream",
     "text": [
      "VAL top-[1, 3, 5, 10, 20, 50] accuracies: [0.0234 0.05   0.0825 0.1313 0.217  0.4405]\n",
      "---\n",
      "['SRC']\n",
      "Left-out label: SRC\n",
      "TEST top-[1, 3, 5, 10, 20, 50] accuracies: [0. 0. 0. 0. 0. 0.]\n",
      "---\n",
      "TRAIN loss: 0.0031953738994425058\n",
      "VAL loss: 0.0041070442569282935\n",
      "TEST loss: 0.0023429406553572207\n",
      "TRAIN top-[1, 3, 5, 10, 20, 50] accuracies: [0.1024 0.1749 0.2144 0.2965 0.3957 0.5981]\n",
      "---\n"
     ]
    },
    {
     "name": "stderr",
     "output_type": "stream",
     "text": [
      "\r",
      " 93%|█████████▎| 40/43 [05:26<00:25,  8.34s/it]"
     ]
    },
    {
     "name": "stdout",
     "output_type": "stream",
     "text": [
      "VAL top-[1, 3, 5, 10, 20, 50] accuracies: [0.0045 0.0195 0.0403 0.0793 0.1592 0.3405]\n",
      "---\n",
      "['SREBF1']\n",
      "Left-out label: SREBF1\n",
      "TEST top-[1, 3, 5, 10, 20, 50] accuracies: [0.0468 0.0877 0.1287 0.2222 0.4094 0.7368]\n",
      "---\n",
      "TRAIN loss: 0.003187147818395847\n",
      "VAL loss: 0.004097882177755769\n",
      "TEST loss: 0.0036303945680895046\n",
      "TRAIN top-[1, 3, 5, 10, 20, 50] accuracies: [0.1161 0.1919 0.2417 0.3227 0.4212 0.6085]\n",
      "---\n"
     ]
    },
    {
     "name": "stderr",
     "output_type": "stream",
     "text": [
      "\r",
      " 95%|█████████▌| 41/43 [05:34<00:16,  8.41s/it]"
     ]
    },
    {
     "name": "stdout",
     "output_type": "stream",
     "text": [
      "VAL top-[1, 3, 5, 10, 20, 50] accuracies: [0.0104 0.0273 0.0429 0.0819 0.1527 0.3405]\n",
      "---\n",
      "['TRAF2']\n",
      "Left-out label: TRAF2\n",
      "TEST top-[1, 3, 5, 10, 20, 50] accuracies: [0.     0.     0.     0.     0.     0.0643]\n",
      "---\n",
      "TRAIN loss: 0.00316268787059148\n",
      "VAL loss: 0.003989213351717024\n",
      "TEST loss: 0.002785261612853896\n",
      "TRAIN top-[1, 3, 5, 10, 20, 50] accuracies: [0.1155 0.1944 0.2378 0.3126 0.415  0.6082]\n",
      "---\n"
     ]
    },
    {
     "name": "stderr",
     "output_type": "stream",
     "text": [
      "\r",
      " 98%|█████████▊| 42/43 [05:43<00:08,  8.53s/it]"
     ]
    },
    {
     "name": "stdout",
     "output_type": "stream",
     "text": [
      "VAL top-[1, 3, 5, 10, 20, 50] accuracies: [0.0104 0.039  0.0578 0.0962 0.1748 0.358 ]\n",
      "---\n",
      "['TSC2']\n",
      "Left-out label: TSC2\n",
      "TEST top-[1, 3, 5, 10, 20, 50] accuracies: [0.0936 0.2105 0.2515 0.3509 0.4737 0.7193]\n",
      "---\n",
      "TRAIN loss: 0.003302020243504871\n",
      "VAL loss: 0.00386912105096682\n",
      "TEST loss: 0.00492259581186618\n",
      "TRAIN top-[1, 3, 5, 10, 20, 50] accuracies: [0.1166 0.1937 0.2387 0.3115 0.4007 0.5956]\n",
      "---\n"
     ]
    },
    {
     "name": "stderr",
     "output_type": "stream",
     "text": [
      "100%|██████████| 43/43 [05:51<00:00,  8.18s/it]"
     ]
    },
    {
     "name": "stdout",
     "output_type": "stream",
     "text": [
      "VAL top-[1, 3, 5, 10, 20, 50] accuracies: [0.026  0.0617 0.0949 0.1566 0.2261 0.4373]\n",
      "---\n",
      "['WWTR1']\n",
      "Left-out label: WWTR1\n",
      "TEST top-[1, 3, 5, 10, 20, 50] accuracies: [0.     0.     0.     0.     0.0058 0.0468]\n",
      "---\n"
     ]
    },
    {
     "name": "stderr",
     "output_type": "stream",
     "text": [
      "\n"
     ]
    },
    {
     "data": {
      "application/javascript": [
       "\n",
       "            setTimeout(function() {\n",
       "                var nbb_cell_id = 226;\n",
       "                var nbb_unformatted_code = \"topk_test_accs = []\\nlo_labels = []\\nfor i in tqdm(range(len(data_dicts))):\\n    data_dict = data_dicts[i]\\n\\n    model = nn.Sequential(\\n        # nn.Linear(1024, 1024),\\n        # nn.PReLU(),\\n        # nn.BatchNorm1d(1024),\\n        nn.Linear(1024, 128),\\n    )\\n    optimizer = Adam(model.parameters(), lr=1e-4)\\n    criterion = nn.MSELoss()\\n\\n    fitted_model = train_model(\\n        model=model,\\n        data_dict=data_dict,\\n        optimizer=optimizer,\\n        criterion=criterion,\\n        n_epochs=100,\\n        early_stopping=10,\\n    )\\n\\n    ks = [1, 3, 5, 10, 20, 50]\\n    for mode in [\\\"train\\\", \\\"val\\\", \\\"test\\\"]:\\n        topk_accs = []\\n        preds, labels = get_preds_label_dict(fitted_model, data_dict[mode])\\n        if mode == \\\"test\\\":\\n            print(np.unique(labels))\\n            lo_label = np.unique(labels)[0]\\n            lo_labels.append(lo_label)\\n            print(\\\"Left-out label: {}\\\".format(lo_label))\\n        for k in ks:\\n            topk_acc, _ = evaluate_top_k_accuracy(preds, labels, node_embs, k=k)\\n            topk_accs.append(topk_acc)\\n        print(\\n            \\\"{} top-{} accuracies: {}\\\".format(mode.upper(), ks, np.round(topk_accs, 4))\\n        )\\n        print(\\\"---\\\")\\n    topk_test_accs.append(np.array(topk_accs))\";\n",
       "                var nbb_formatted_code = \"topk_test_accs = []\\nlo_labels = []\\nfor i in tqdm(range(len(data_dicts))):\\n    data_dict = data_dicts[i]\\n\\n    model = nn.Sequential(\\n        # nn.Linear(1024, 1024),\\n        # nn.PReLU(),\\n        # nn.BatchNorm1d(1024),\\n        nn.Linear(1024, 128),\\n    )\\n    optimizer = Adam(model.parameters(), lr=1e-4)\\n    criterion = nn.MSELoss()\\n\\n    fitted_model = train_model(\\n        model=model,\\n        data_dict=data_dict,\\n        optimizer=optimizer,\\n        criterion=criterion,\\n        n_epochs=100,\\n        early_stopping=10,\\n    )\\n\\n    ks = [1, 3, 5, 10, 20, 50]\\n    for mode in [\\\"train\\\", \\\"val\\\", \\\"test\\\"]:\\n        topk_accs = []\\n        preds, labels = get_preds_label_dict(fitted_model, data_dict[mode])\\n        if mode == \\\"test\\\":\\n            print(np.unique(labels))\\n            lo_label = np.unique(labels)[0]\\n            lo_labels.append(lo_label)\\n            print(\\\"Left-out label: {}\\\".format(lo_label))\\n        for k in ks:\\n            topk_acc, _ = evaluate_top_k_accuracy(preds, labels, node_embs, k=k)\\n            topk_accs.append(topk_acc)\\n        print(\\n            \\\"{} top-{} accuracies: {}\\\".format(mode.upper(), ks, np.round(topk_accs, 4))\\n        )\\n        print(\\\"---\\\")\\n    topk_test_accs.append(np.array(topk_accs))\";\n",
       "                var nbb_cells = Jupyter.notebook.get_cells();\n",
       "                for (var i = 0; i < nbb_cells.length; ++i) {\n",
       "                    if (nbb_cells[i].input_prompt_number == nbb_cell_id) {\n",
       "                        if (nbb_cells[i].get_text() == nbb_unformatted_code) {\n",
       "                             nbb_cells[i].set_text(nbb_formatted_code);\n",
       "                        }\n",
       "                        break;\n",
       "                    }\n",
       "                }\n",
       "            }, 500);\n",
       "            "
      ],
      "text/plain": [
       "<IPython.core.display.Javascript object>"
      ]
     },
     "metadata": {},
     "output_type": "display_data"
    }
   ],
   "source": [
    "topk_test_accs = []\n",
    "lo_labels = []\n",
    "for i in tqdm(range(len(data_dicts))):\n",
    "    data_dict = data_dicts[i]\n",
    "\n",
    "    model = nn.Sequential(\n",
    "        # nn.Linear(1024, 1024),\n",
    "        # nn.PReLU(),\n",
    "        # nn.BatchNorm1d(1024),\n",
    "        nn.Linear(1024, 128),\n",
    "    )\n",
    "    optimizer = Adam(model.parameters(), lr=1e-4)\n",
    "    criterion = nn.MSELoss()\n",
    "\n",
    "    fitted_model = train_model(\n",
    "        model=model,\n",
    "        data_dict=data_dict,\n",
    "        optimizer=optimizer,\n",
    "        criterion=criterion,\n",
    "        n_epochs=100,\n",
    "        early_stopping=10,\n",
    "    )\n",
    "\n",
    "    ks = [1, 3, 5, 10, 20, 50]\n",
    "    for mode in [\"train\", \"val\", \"test\"]:\n",
    "        topk_accs = []\n",
    "        preds, labels = get_preds_label_dict(fitted_model, data_dict[mode])\n",
    "        if mode == \"test\":\n",
    "            print(np.unique(labels))\n",
    "            lo_label = np.unique(labels)[0]\n",
    "            lo_labels.append(lo_label)\n",
    "            print(\"Left-out label: {}\".format(lo_label))\n",
    "        for k in ks:\n",
    "            topk_acc, _ = evaluate_top_k_accuracy(preds, labels, node_embs, k=k)\n",
    "            topk_accs.append(topk_acc)\n",
    "        print(\n",
    "            \"{} top-{} accuracies: {}\".format(mode.upper(), ks, np.round(topk_accs, 4))\n",
    "        )\n",
    "        print(\"---\")\n",
    "    topk_test_accs.append(np.array(topk_accs))"
   ]
  },
  {
   "cell_type": "code",
   "execution_count": 227,
   "id": "fd7455f9",
   "metadata": {
    "scrolled": true
   },
   "outputs": [
    {
     "data": {
      "text/plain": [
       "{'AKT1S1': array([0.08187135, 0.20467836, 0.32748538, 0.56140351, 0.85380117,\n",
       "        1.        ]),\n",
       " 'APC': array([0.        , 0.        , 0.        , 0.        , 0.        ,\n",
       "        0.01169591]),\n",
       " 'ATF4': array([0.        , 0.        , 0.        , 0.02923977, 0.07017544,\n",
       "        0.30409357]),\n",
       " 'BAX': array([0.        , 0.        , 0.        , 0.        , 0.00584795,\n",
       "        0.02339181]),\n",
       " 'BCL2L11': array([0.        , 0.        , 0.        , 0.        , 0.        ,\n",
       "        0.04093567]),\n",
       " 'BRAF': array([0.02339181, 0.02339181, 0.04093567, 0.05847953, 0.09356725,\n",
       "        0.25146199]),\n",
       " 'CASP8': array([0.        , 0.        , 0.        , 0.        , 0.00584795,\n",
       "        0.12865497]),\n",
       " 'CDC42': array([0.        , 0.00584795, 0.02339181, 0.04093567, 0.13450292,\n",
       "        0.48538012]),\n",
       " 'CDKN1A': array([0., 0., 0., 0., 0., 0.]),\n",
       " 'CEBPA': array([0.03508772, 0.10526316, 0.12280702, 0.19298246, 0.21637427,\n",
       "        0.30994152]),\n",
       " 'CREB1': array([0.        , 0.        , 0.00584795, 0.01169591, 0.06432749,\n",
       "        0.42690058]),\n",
       " 'DIABLO': array([0.        , 0.        , 0.        , 0.        , 0.        ,\n",
       "        0.03508772]),\n",
       " 'E2F1': array([0., 0., 0., 0., 0., 0.]),\n",
       " 'ELK1': array([0.05263158, 0.22807018, 0.32748538, 0.47953216, 0.71345029,\n",
       "        0.97076023]),\n",
       " 'ERG': array([0., 0., 0., 0., 0., 0.]),\n",
       " 'FGFR3': array([0., 0., 0., 0., 0., 0.]),\n",
       " 'FOXO1': array([0.01754386, 0.15789474, 0.26315789, 0.40935673, 0.64912281,\n",
       "        0.92982456]),\n",
       " 'GLI1': array([0., 0., 0., 0., 0., 0.]),\n",
       " 'HRAS': array([0.01169591, 0.01169591, 0.01754386, 0.01754386, 0.05263158,\n",
       "        0.4619883 ]),\n",
       " 'IRAK4': array([0.        , 0.        , 0.        , 0.        , 0.00584795,\n",
       "        0.03508772]),\n",
       " 'JUN': array([0.        , 0.00584795, 0.01754386, 0.02339181, 0.12280702,\n",
       "        0.45614035]),\n",
       " 'KRAS': array([0.01754386, 0.05263158, 0.08187135, 0.1754386 , 0.41520468,\n",
       "        0.84210526]),\n",
       " 'MAP2K3': array([0.01169591, 0.02923977, 0.05263158, 0.12865497, 0.32748538,\n",
       "        0.93567251]),\n",
       " 'MAP3K2': array([0.01169591, 0.02923977, 0.04093567, 0.13450292, 0.30994152,\n",
       "        0.77192982]),\n",
       " 'MAP3K5': array([0.06432749, 0.19298246, 0.32748538, 0.49707602, 0.74269006,\n",
       "        0.98830409]),\n",
       " 'MAP3K9': array([0.        , 0.        , 0.        , 0.        , 0.        ,\n",
       "        0.01754386]),\n",
       " 'MAPK7': array([0.        , 0.00584795, 0.00584795, 0.03508772, 0.07602339,\n",
       "        0.28070175]),\n",
       " 'MYD88': array([0.        , 0.        , 0.        , 0.        , 0.        ,\n",
       "        0.00584795]),\n",
       " 'PIK3R2': array([0.        , 0.00584795, 0.01169591, 0.02923977, 0.14035088,\n",
       "        0.7251462 ]),\n",
       " 'PKIA': array([0., 0., 0., 0., 0., 0.]),\n",
       " 'PRKACA': array([0., 0., 0., 0., 0., 0.]),\n",
       " 'PRKCE': array([0.        , 0.        , 0.00584795, 0.02923977, 0.12865497,\n",
       "        0.53216374]),\n",
       " 'RAF1': array([0.        , 0.        , 0.        , 0.        , 0.        ,\n",
       "        0.00584795]),\n",
       " 'RELB': array([0.06432749, 0.1754386 , 0.25730994, 0.40935673, 0.61403509,\n",
       "        0.9005848 ]),\n",
       " 'RHOA': array([0.        , 0.00584795, 0.01169591, 0.02339181, 0.06432749,\n",
       "        0.29239766]),\n",
       " 'SMAD3': array([0.        , 0.        , 0.        , 0.        , 0.01169591,\n",
       "        0.04093567]),\n",
       " 'SMAD4': array([0.        , 0.        , 0.        , 0.03508772, 0.13450292,\n",
       "        0.4502924 ]),\n",
       " 'SMO': array([0., 0., 0., 0., 0., 0.]),\n",
       " 'SRC': array([0., 0., 0., 0., 0., 0.]),\n",
       " 'SREBF1': array([0.04678363, 0.0877193 , 0.12865497, 0.22222222, 0.40935673,\n",
       "        0.73684211]),\n",
       " 'TRAF2': array([0.        , 0.        , 0.        , 0.        , 0.        ,\n",
       "        0.06432749]),\n",
       " 'TSC2': array([0.09356725, 0.21052632, 0.25146199, 0.35087719, 0.47368421,\n",
       "        0.71929825]),\n",
       " 'WWTR1': array([0.        , 0.        , 0.        , 0.        , 0.00584795,\n",
       "        0.04678363])}"
      ]
     },
     "execution_count": 227,
     "metadata": {},
     "output_type": "execute_result"
    },
    {
     "data": {
      "application/javascript": [
       "\n",
       "            setTimeout(function() {\n",
       "                var nbb_cell_id = 227;\n",
       "                var nbb_unformatted_code = \"logo_results = dict(zip(lo_labels, topk_test_accs))\\nlogo_results\";\n",
       "                var nbb_formatted_code = \"logo_results = dict(zip(lo_labels, topk_test_accs))\\nlogo_results\";\n",
       "                var nbb_cells = Jupyter.notebook.get_cells();\n",
       "                for (var i = 0; i < nbb_cells.length; ++i) {\n",
       "                    if (nbb_cells[i].input_prompt_number == nbb_cell_id) {\n",
       "                        if (nbb_cells[i].get_text() == nbb_unformatted_code) {\n",
       "                             nbb_cells[i].set_text(nbb_formatted_code);\n",
       "                        }\n",
       "                        break;\n",
       "                    }\n",
       "                }\n",
       "            }, 500);\n",
       "            "
      ],
      "text/plain": [
       "<IPython.core.display.Javascript object>"
      ]
     },
     "metadata": {},
     "output_type": "display_data"
    }
   ],
   "source": [
    "logo_results = dict(zip(lo_labels, topk_test_accs))\n",
    "logo_results"
   ]
  },
  {
   "cell_type": "code",
   "execution_count": 228,
   "id": "fe87eaa3",
   "metadata": {},
   "outputs": [
    {
     "data": {
      "text/html": [
       "<div>\n",
       "<style scoped>\n",
       "    .dataframe tbody tr th:only-of-type {\n",
       "        vertical-align: middle;\n",
       "    }\n",
       "\n",
       "    .dataframe tbody tr th {\n",
       "        vertical-align: top;\n",
       "    }\n",
       "\n",
       "    .dataframe thead th {\n",
       "        text-align: right;\n",
       "    }\n",
       "</style>\n",
       "<table border=\"1\" class=\"dataframe\">\n",
       "  <thead>\n",
       "    <tr style=\"text-align: right;\">\n",
       "      <th></th>\n",
       "      <th>top1</th>\n",
       "      <th>top3</th>\n",
       "      <th>top5</th>\n",
       "      <th>top10</th>\n",
       "      <th>top20</th>\n",
       "      <th>top50</th>\n",
       "    </tr>\n",
       "  </thead>\n",
       "  <tbody>\n",
       "    <tr>\n",
       "      <th>AKT1S1</th>\n",
       "      <td>0.081871</td>\n",
       "      <td>0.204678</td>\n",
       "      <td>0.327485</td>\n",
       "      <td>0.561404</td>\n",
       "      <td>0.853801</td>\n",
       "      <td>1.000000</td>\n",
       "    </tr>\n",
       "    <tr>\n",
       "      <th>APC</th>\n",
       "      <td>0.000000</td>\n",
       "      <td>0.000000</td>\n",
       "      <td>0.000000</td>\n",
       "      <td>0.000000</td>\n",
       "      <td>0.000000</td>\n",
       "      <td>0.011696</td>\n",
       "    </tr>\n",
       "    <tr>\n",
       "      <th>ATF4</th>\n",
       "      <td>0.000000</td>\n",
       "      <td>0.000000</td>\n",
       "      <td>0.000000</td>\n",
       "      <td>0.029240</td>\n",
       "      <td>0.070175</td>\n",
       "      <td>0.304094</td>\n",
       "    </tr>\n",
       "    <tr>\n",
       "      <th>BAX</th>\n",
       "      <td>0.000000</td>\n",
       "      <td>0.000000</td>\n",
       "      <td>0.000000</td>\n",
       "      <td>0.000000</td>\n",
       "      <td>0.005848</td>\n",
       "      <td>0.023392</td>\n",
       "    </tr>\n",
       "    <tr>\n",
       "      <th>BCL2L11</th>\n",
       "      <td>0.000000</td>\n",
       "      <td>0.000000</td>\n",
       "      <td>0.000000</td>\n",
       "      <td>0.000000</td>\n",
       "      <td>0.000000</td>\n",
       "      <td>0.040936</td>\n",
       "    </tr>\n",
       "  </tbody>\n",
       "</table>\n",
       "</div>"
      ],
      "text/plain": [
       "             top1      top3      top5     top10     top20     top50\n",
       "AKT1S1   0.081871  0.204678  0.327485  0.561404  0.853801  1.000000\n",
       "APC      0.000000  0.000000  0.000000  0.000000  0.000000  0.011696\n",
       "ATF4     0.000000  0.000000  0.000000  0.029240  0.070175  0.304094\n",
       "BAX      0.000000  0.000000  0.000000  0.000000  0.005848  0.023392\n",
       "BCL2L11  0.000000  0.000000  0.000000  0.000000  0.000000  0.040936"
      ]
     },
     "execution_count": 228,
     "metadata": {},
     "output_type": "execute_result"
    },
    {
     "data": {
      "application/javascript": [
       "\n",
       "            setTimeout(function() {\n",
       "                var nbb_cell_id = 228;\n",
       "                var nbb_unformatted_code = \"logo_results_df = pd.DataFrame(logo_results)\\nlogo_results_df = logo_results_df.transpose()\\nlogo_results_df.columns = [\\\"top1\\\", \\\"top3\\\", \\\"top5\\\", \\\"top10\\\", \\\"top20\\\", \\\"top50\\\"]\\nlogo_results_df.head()\";\n",
       "                var nbb_formatted_code = \"logo_results_df = pd.DataFrame(logo_results)\\nlogo_results_df = logo_results_df.transpose()\\nlogo_results_df.columns = [\\\"top1\\\", \\\"top3\\\", \\\"top5\\\", \\\"top10\\\", \\\"top20\\\", \\\"top50\\\"]\\nlogo_results_df.head()\";\n",
       "                var nbb_cells = Jupyter.notebook.get_cells();\n",
       "                for (var i = 0; i < nbb_cells.length; ++i) {\n",
       "                    if (nbb_cells[i].input_prompt_number == nbb_cell_id) {\n",
       "                        if (nbb_cells[i].get_text() == nbb_unformatted_code) {\n",
       "                             nbb_cells[i].set_text(nbb_formatted_code);\n",
       "                        }\n",
       "                        break;\n",
       "                    }\n",
       "                }\n",
       "            }, 500);\n",
       "            "
      ],
      "text/plain": [
       "<IPython.core.display.Javascript object>"
      ]
     },
     "metadata": {},
     "output_type": "display_data"
    }
   ],
   "source": [
    "logo_results_df = pd.DataFrame(logo_results)\n",
    "logo_results_df = logo_results_df.transpose()\n",
    "logo_results_df.columns = [\"top1\", \"top3\", \"top5\", \"top10\", \"top20\", \"top50\"]\n",
    "logo_results_df.head()"
   ]
  },
  {
   "cell_type": "code",
   "execution_count": 229,
   "id": "5075ce1e",
   "metadata": {},
   "outputs": [
    {
     "data": {
      "text/plain": [
       "top1     0.012376\n",
       "top3     0.035768\n",
       "top5     0.053992\n",
       "top10    0.090575\n",
       "top20    0.159119\n",
       "top50    0.330885\n",
       "dtype: float64"
      ]
     },
     "execution_count": 229,
     "metadata": {},
     "output_type": "execute_result"
    },
    {
     "data": {
      "application/javascript": [
       "\n",
       "            setTimeout(function() {\n",
       "                var nbb_cell_id = 229;\n",
       "                var nbb_unformatted_code = \"logo_results_df.mean(axis=0)\";\n",
       "                var nbb_formatted_code = \"logo_results_df.mean(axis=0)\";\n",
       "                var nbb_cells = Jupyter.notebook.get_cells();\n",
       "                for (var i = 0; i < nbb_cells.length; ++i) {\n",
       "                    if (nbb_cells[i].input_prompt_number == nbb_cell_id) {\n",
       "                        if (nbb_cells[i].get_text() == nbb_unformatted_code) {\n",
       "                             nbb_cells[i].set_text(nbb_formatted_code);\n",
       "                        }\n",
       "                        break;\n",
       "                    }\n",
       "                }\n",
       "            }, 500);\n",
       "            "
      ],
      "text/plain": [
       "<IPython.core.display.Javascript object>"
      ]
     },
     "metadata": {},
     "output_type": "display_data"
    }
   ],
   "source": [
    "logo_results_df.mean(axis=0)"
   ]
  },
  {
   "cell_type": "code",
   "execution_count": 230,
   "id": "6ef13b05",
   "metadata": {},
   "outputs": [
    {
     "data": {
      "text/plain": [
       "top1     0.024354\n",
       "top3     0.069055\n",
       "top5     0.102479\n",
       "top10    0.158971\n",
       "top20    0.240636\n",
       "top50    0.359386\n",
       "dtype: float64"
      ]
     },
     "execution_count": 230,
     "metadata": {},
     "output_type": "execute_result"
    },
    {
     "data": {
      "application/javascript": [
       "\n",
       "            setTimeout(function() {\n",
       "                var nbb_cell_id = 230;\n",
       "                var nbb_unformatted_code = \"logo_results_df.std(axis=0)\";\n",
       "                var nbb_formatted_code = \"logo_results_df.std(axis=0)\";\n",
       "                var nbb_cells = Jupyter.notebook.get_cells();\n",
       "                for (var i = 0; i < nbb_cells.length; ++i) {\n",
       "                    if (nbb_cells[i].input_prompt_number == nbb_cell_id) {\n",
       "                        if (nbb_cells[i].get_text() == nbb_unformatted_code) {\n",
       "                             nbb_cells[i].set_text(nbb_formatted_code);\n",
       "                        }\n",
       "                        break;\n",
       "                    }\n",
       "                }\n",
       "            }, 500);\n",
       "            "
      ],
      "text/plain": [
       "<IPython.core.display.Javascript object>"
      ]
     },
     "metadata": {},
     "output_type": "display_data"
    }
   ],
   "source": [
    "logo_results_df.std(axis=0)"
   ]
  },
  {
   "cell_type": "code",
   "execution_count": 231,
   "id": "410a8b00",
   "metadata": {},
   "outputs": [
    {
     "data": {
      "image/png": "[encoded data removed]",
      "text/plain": [
       "<Figure size 720x288 with 1 Axes>"
      ]
     },
     "metadata": {
      "needs_background": "light"
     },
     "output_type": "display_data"
    },
    {
     "data": {
      "application/javascript": [
       "\n",
       "            setTimeout(function() {\n",
       "                var nbb_cell_id = 231;\n",
       "                var nbb_unformatted_code = \"ax = logo_results_df.sort_values(\\\"top1\\\", ascending=False).top1.plot(\\n    kind=\\\"bar\\\", figsize=[10, 4]\\n)\\nax.set_title(\\\"Top-1 accuracy of logo-CV\\\")\\nplt.show()\";\n",
       "                var nbb_formatted_code = \"ax = logo_results_df.sort_values(\\\"top1\\\", ascending=False).top1.plot(\\n    kind=\\\"bar\\\", figsize=[10, 4]\\n)\\nax.set_title(\\\"Top-1 accuracy of logo-CV\\\")\\nplt.show()\";\n",
       "                var nbb_cells = Jupyter.notebook.get_cells();\n",
       "                for (var i = 0; i < nbb_cells.length; ++i) {\n",
       "                    if (nbb_cells[i].input_prompt_number == nbb_cell_id) {\n",
       "                        if (nbb_cells[i].get_text() == nbb_unformatted_code) {\n",
       "                             nbb_cells[i].set_text(nbb_formatted_code);\n",
       "                        }\n",
       "                        break;\n",
       "                    }\n",
       "                }\n",
       "            }, 500);\n",
       "            "
      ],
      "text/plain": [
       "<IPython.core.display.Javascript object>"
      ]
     },
     "metadata": {},
     "output_type": "display_data"
    }
   ],
   "source": [
    "ax = logo_results_df.sort_values(\"top1\", ascending=False).top1.plot(\n",
    "    kind=\"bar\", figsize=[10, 4]\n",
    ")\n",
    "ax.set_title(\"Top-1 accuracy of logo-CV\")\n",
    "plt.show()"
   ]
  },
  {
   "cell_type": "code",
   "execution_count": 232,
   "id": "dbc7cdc2",
   "metadata": {},
   "outputs": [
    {
     "data": {
      "image/png": "[encoded data removed]",
      "text/plain": [
       "<Figure size 720x288 with 1 Axes>"
      ]
     },
     "metadata": {
      "needs_background": "light"
     },
     "output_type": "display_data"
    },
    {
     "data": {
      "application/javascript": [
       "\n",
       "            setTimeout(function() {\n",
       "                var nbb_cell_id = 232;\n",
       "                var nbb_unformatted_code = \"ax = logo_results_df.sort_values(\\\"top3\\\", ascending=False).top3.plot(\\n    kind=\\\"bar\\\", figsize=[10, 4]\\n)\\nax.set_title(\\\"Top-3 accuracy of logo-CV\\\")\\nplt.show()\";\n",
       "                var nbb_formatted_code = \"ax = logo_results_df.sort_values(\\\"top3\\\", ascending=False).top3.plot(\\n    kind=\\\"bar\\\", figsize=[10, 4]\\n)\\nax.set_title(\\\"Top-3 accuracy of logo-CV\\\")\\nplt.show()\";\n",
       "                var nbb_cells = Jupyter.notebook.get_cells();\n",
       "                for (var i = 0; i < nbb_cells.length; ++i) {\n",
       "                    if (nbb_cells[i].input_prompt_number == nbb_cell_id) {\n",
       "                        if (nbb_cells[i].get_text() == nbb_unformatted_code) {\n",
       "                             nbb_cells[i].set_text(nbb_formatted_code);\n",
       "                        }\n",
       "                        break;\n",
       "                    }\n",
       "                }\n",
       "            }, 500);\n",
       "            "
      ],
      "text/plain": [
       "<IPython.core.display.Javascript object>"
      ]
     },
     "metadata": {},
     "output_type": "display_data"
    }
   ],
   "source": [
    "ax = logo_results_df.sort_values(\"top3\", ascending=False).top3.plot(\n",
    "    kind=\"bar\", figsize=[10, 4]\n",
    ")\n",
    "ax.set_title(\"Top-3 accuracy of logo-CV\")\n",
    "plt.show()"
   ]
  },
  {
   "cell_type": "code",
   "execution_count": 233,
   "id": "f6ec9022",
   "metadata": {},
   "outputs": [
    {
     "data": {
      "image/png": "[encoded data removed]",
      "text/plain": [
       "<Figure size 720x288 with 1 Axes>"
      ]
     },
     "metadata": {
      "needs_background": "light"
     },
     "output_type": "display_data"
    },
    {
     "data": {
      "application/javascript": [
       "\n",
       "            setTimeout(function() {\n",
       "                var nbb_cell_id = 233;\n",
       "                var nbb_unformatted_code = \"ax = logo_results_df.sort_values(\\\"top5\\\", ascending=False).top5.plot(\\n    kind=\\\"bar\\\", figsize=[10, 4]\\n)\\nax.set_title(\\\"Top-5 accuracy of logo-CV\\\")\\nplt.show()\";\n",
       "                var nbb_formatted_code = \"ax = logo_results_df.sort_values(\\\"top5\\\", ascending=False).top5.plot(\\n    kind=\\\"bar\\\", figsize=[10, 4]\\n)\\nax.set_title(\\\"Top-5 accuracy of logo-CV\\\")\\nplt.show()\";\n",
       "                var nbb_cells = Jupyter.notebook.get_cells();\n",
       "                for (var i = 0; i < nbb_cells.length; ++i) {\n",
       "                    if (nbb_cells[i].input_prompt_number == nbb_cell_id) {\n",
       "                        if (nbb_cells[i].get_text() == nbb_unformatted_code) {\n",
       "                             nbb_cells[i].set_text(nbb_formatted_code);\n",
       "                        }\n",
       "                        break;\n",
       "                    }\n",
       "                }\n",
       "            }, 500);\n",
       "            "
      ],
      "text/plain": [
       "<IPython.core.display.Javascript object>"
      ]
     },
     "metadata": {},
     "output_type": "display_data"
    }
   ],
   "source": [
    "ax = logo_results_df.sort_values(\"top5\", ascending=False).top5.plot(\n",
    "    kind=\"bar\", figsize=[10, 4]\n",
    ")\n",
    "ax.set_title(\"Top-5 accuracy of logo-CV\")\n",
    "plt.show()"
   ]
  },
  {
   "cell_type": "code",
   "execution_count": 234,
   "id": "67033e4c",
   "metadata": {},
   "outputs": [
    {
     "data": {
      "image/png": "[encoded data removed]",
      "text/plain": [
       "<Figure size 720x288 with 1 Axes>"
      ]
     },
     "metadata": {
      "needs_background": "light"
     },
     "output_type": "display_data"
    },
    {
     "data": {
      "application/javascript": [
       "\n",
       "            setTimeout(function() {\n",
       "                var nbb_cell_id = 234;\n",
       "                var nbb_unformatted_code = \"ax = logo_results_df.sort_values(\\\"top10\\\", ascending=False).top10.plot(\\n    kind=\\\"bar\\\", figsize=[10, 4]\\n)\\nax.set_title(\\\"Top-10 accuracy of logo-CV\\\")\\nplt.show()\";\n",
       "                var nbb_formatted_code = \"ax = logo_results_df.sort_values(\\\"top10\\\", ascending=False).top10.plot(\\n    kind=\\\"bar\\\", figsize=[10, 4]\\n)\\nax.set_title(\\\"Top-10 accuracy of logo-CV\\\")\\nplt.show()\";\n",
       "                var nbb_cells = Jupyter.notebook.get_cells();\n",
       "                for (var i = 0; i < nbb_cells.length; ++i) {\n",
       "                    if (nbb_cells[i].input_prompt_number == nbb_cell_id) {\n",
       "                        if (nbb_cells[i].get_text() == nbb_unformatted_code) {\n",
       "                             nbb_cells[i].set_text(nbb_formatted_code);\n",
       "                        }\n",
       "                        break;\n",
       "                    }\n",
       "                }\n",
       "            }, 500);\n",
       "            "
      ],
      "text/plain": [
       "<IPython.core.display.Javascript object>"
      ]
     },
     "metadata": {},
     "output_type": "display_data"
    }
   ],
   "source": [
    "ax = logo_results_df.sort_values(\"top10\", ascending=False).top10.plot(\n",
    "    kind=\"bar\", figsize=[10, 4]\n",
    ")\n",
    "ax.set_title(\"Top-10 accuracy of logo-CV\")\n",
    "plt.show()"
   ]
  },
  {
   "cell_type": "code",
   "execution_count": 235,
   "id": "1cdd3b64",
   "metadata": {},
   "outputs": [
    {
     "data": {
      "image/png": "[encoded data removed]",
      "text/plain": [
       "<Figure size 720x288 with 1 Axes>"
      ]
     },
     "metadata": {
      "needs_background": "light"
     },
     "output_type": "display_data"
    },
    {
     "data": {
      "application/javascript": [
       "\n",
       "            setTimeout(function() {\n",
       "                var nbb_cell_id = 235;\n",
       "                var nbb_unformatted_code = \"ax = logo_results_df.sort_values(\\\"top20\\\", ascending=False).top20.plot(\\n    kind=\\\"bar\\\", figsize=[10, 4]\\n)\\nax.set_title(\\\"Top-20 accuracy of logo-CV\\\")\\nplt.show()\";\n",
       "                var nbb_formatted_code = \"ax = logo_results_df.sort_values(\\\"top20\\\", ascending=False).top20.plot(\\n    kind=\\\"bar\\\", figsize=[10, 4]\\n)\\nax.set_title(\\\"Top-20 accuracy of logo-CV\\\")\\nplt.show()\";\n",
       "                var nbb_cells = Jupyter.notebook.get_cells();\n",
       "                for (var i = 0; i < nbb_cells.length; ++i) {\n",
       "                    if (nbb_cells[i].input_prompt_number == nbb_cell_id) {\n",
       "                        if (nbb_cells[i].get_text() == nbb_unformatted_code) {\n",
       "                             nbb_cells[i].set_text(nbb_formatted_code);\n",
       "                        }\n",
       "                        break;\n",
       "                    }\n",
       "                }\n",
       "            }, 500);\n",
       "            "
      ],
      "text/plain": [
       "<IPython.core.display.Javascript object>"
      ]
     },
     "metadata": {},
     "output_type": "display_data"
    }
   ],
   "source": [
    "ax = logo_results_df.sort_values(\"top20\", ascending=False).top20.plot(\n",
    "    kind=\"bar\", figsize=[10, 4]\n",
    ")\n",
    "ax.set_title(\"Top-20 accuracy of logo-CV\")\n",
    "plt.show()"
   ]
  },
  {
   "cell_type": "code",
   "execution_count": 236,
   "id": "83b1b2a1",
   "metadata": {},
   "outputs": [
    {
     "data": {
      "image/png": "[encoded data removed]",
      "text/plain": [
       "<Figure size 720x288 with 1 Axes>"
      ]
     },
     "metadata": {
      "needs_background": "light"
     },
     "output_type": "display_data"
    },
    {
     "data": {
      "application/javascript": [
       "\n",
       "            setTimeout(function() {\n",
       "                var nbb_cell_id = 236;\n",
       "                var nbb_unformatted_code = \"ax = logo_results_df.sort_values(\\\"top50\\\", ascending=False).top50.plot(\\n    kind=\\\"bar\\\", figsize=[10, 4]\\n)\\nax.set_title(\\\"Top-50 accuracy of logo-CV\\\")\\nplt.show()\";\n",
       "                var nbb_formatted_code = \"ax = logo_results_df.sort_values(\\\"top50\\\", ascending=False).top50.plot(\\n    kind=\\\"bar\\\", figsize=[10, 4]\\n)\\nax.set_title(\\\"Top-50 accuracy of logo-CV\\\")\\nplt.show()\";\n",
       "                var nbb_cells = Jupyter.notebook.get_cells();\n",
       "                for (var i = 0; i < nbb_cells.length; ++i) {\n",
       "                    if (nbb_cells[i].input_prompt_number == nbb_cell_id) {\n",
       "                        if (nbb_cells[i].get_text() == nbb_unformatted_code) {\n",
       "                             nbb_cells[i].set_text(nbb_formatted_code);\n",
       "                        }\n",
       "                        break;\n",
       "                    }\n",
       "                }\n",
       "            }, 500);\n",
       "            "
      ],
      "text/plain": [
       "<IPython.core.display.Javascript object>"
      ]
     },
     "metadata": {},
     "output_type": "display_data"
    }
   ],
   "source": [
    "ax = logo_results_df.sort_values(\"top50\", ascending=False).top50.plot(\n",
    "    kind=\"bar\", figsize=[10, 4]\n",
    ")\n",
    "ax.set_title(\"Top-50 accuracy of logo-CV\")\n",
    "plt.show()"
   ]
  },
  {
   "cell_type": "code",
   "execution_count": null,
   "id": "827d2e49",
   "metadata": {},
   "outputs": [],
   "source": []
  }
 ],
 "metadata": {
  "kernelspec": {
   "display_name": "Python 3",
   "language": "python",
   "name": "python3"
  },
  "language_info": {
   "codemirror_mode": {
    "name": "ipython",
    "version": 3
   },
   "file_extension": ".py",
   "mimetype": "text/x-python",
   "name": "python",
   "nbconvert_exporter": "python",
   "pygments_lexer": "ipython3",
   "version": "3.8.10"
  }
 },
 "nbformat": 4,
 "nbformat_minor": 5
}
