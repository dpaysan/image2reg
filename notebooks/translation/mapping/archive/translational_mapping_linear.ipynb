{
 "cells": [
  {
   "cell_type": "markdown",
   "id": "f9571b7c",
   "metadata": {},
   "source": [
    "# Translational mapping\n",
    "\n",
    "In this notebook we explicitely model the link between the regulatory and structural embeddings of the U2OS cells and evaluate their generalizability.\n",
    "\n",
    "---\n",
    "\n",
    "\n",
    "## 0. Enviromental setup\n",
    "\n",
    "We first load the required packages and define a number of helper functions."
   ]
  },
  {
   "cell_type": "code",
   "execution_count": 1,
   "id": "daeed7c7",
   "metadata": {},
   "outputs": [
    {
     "data": {
      "application/javascript": [
       "\n",
       "            setTimeout(function() {\n",
       "                var nbb_cell_id = 1;\n",
       "                var nbb_unformatted_code = \"import pandas as pd\\nimport numpy as np\\nimport matplotlib.pyplot as plt\\nimport seaborn as sns\\nfrom sklearn.preprocessing import StandardScaler\\nfrom sklearn.model_selection import (\\n    train_test_split,\\n    GroupShuffleSplit,\\n    LeaveOneGroupOut,\\n)\\nfrom torch.utils.data import DataLoader, TensorDataset\\nimport torch\\nfrom torch import nn\\nfrom torch.optim import Adam\\nfrom tqdm import tqdm\\nimport copy\\nfrom sklearn.neighbors import NearestNeighbors\\nfrom collections import Counter\\n\\n\\nseed = 1234\\n\\ndevice = \\\"cpu\\\"\\n\\n%load_ext nb_black\";\n",
       "                var nbb_formatted_code = \"import pandas as pd\\nimport numpy as np\\nimport matplotlib.pyplot as plt\\nimport seaborn as sns\\nfrom sklearn.preprocessing import StandardScaler\\nfrom sklearn.model_selection import (\\n    train_test_split,\\n    GroupShuffleSplit,\\n    LeaveOneGroupOut,\\n)\\nfrom torch.utils.data import DataLoader, TensorDataset\\nimport torch\\nfrom torch import nn\\nfrom torch.optim import Adam\\nfrom tqdm import tqdm\\nimport copy\\nfrom sklearn.neighbors import NearestNeighbors\\nfrom collections import Counter\\n\\n\\nseed = 1234\\n\\ndevice = \\\"cpu\\\"\\n\\n%load_ext nb_black\";\n",
       "                var nbb_cells = Jupyter.notebook.get_cells();\n",
       "                for (var i = 0; i < nbb_cells.length; ++i) {\n",
       "                    if (nbb_cells[i].input_prompt_number == nbb_cell_id) {\n",
       "                        if (nbb_cells[i].get_text() == nbb_unformatted_code) {\n",
       "                             nbb_cells[i].set_text(nbb_formatted_code);\n",
       "                        }\n",
       "                        break;\n",
       "                    }\n",
       "                }\n",
       "            }, 500);\n",
       "            "
      ],
      "text/plain": [
       "<IPython.core.display.Javascript object>"
      ]
     },
     "metadata": {},
     "output_type": "display_data"
    }
   ],
   "source": [
    "import pandas as pd\n",
    "import numpy as np\n",
    "import matplotlib.pyplot as plt\n",
    "import seaborn as sns\n",
    "from sklearn.preprocessing import StandardScaler\n",
    "from sklearn.model_selection import (\n",
    "    train_test_split,\n",
    "    GroupShuffleSplit,\n",
    "    LeaveOneGroupOut,\n",
    ")\n",
    "from torch.utils.data import DataLoader, TensorDataset\n",
    "import torch\n",
    "from torch import nn\n",
    "from torch.optim import Adam\n",
    "from tqdm import tqdm\n",
    "import copy\n",
    "from sklearn.neighbors import NearestNeighbors\n",
    "from collections import Counter\n",
    "\n",
    "\n",
    "seed = 1234\n",
    "\n",
    "device = \"cpu\"\n",
    "\n",
    "%load_ext nb_black"
   ]
  },
  {
   "cell_type": "code",
   "execution_count": 2,
   "id": "26881277",
   "metadata": {},
   "outputs": [
    {
     "data": {
      "application/javascript": [
       "\n",
       "            setTimeout(function() {\n",
       "                var nbb_cell_id = 2;\n",
       "                var nbb_unformatted_code = \"def train_model(\\n    model,\\n    optimizer,\\n    criterion,\\n    data_dict,\\n    n_epochs=1000,\\n    early_stopping=50,\\n    device=\\\"cpu\\\",\\n):\\n\\n    best_val_loss = np.infty\\n    best_epoch = 0\\n    best_model_weights = None\\n    es_counter = 0\\n\\n    for i in range(n_epochs):\\n        if es_counter > early_stopping:\\n            break\\n        for mode in [\\\"train\\\", \\\"val\\\"]:\\n            loss = process_single_epoch(\\n                model=model,\\n                optimizer=optimizer,\\n                criterion=criterion,\\n                data=data_dict[mode],\\n                mode=mode,\\n            )\\n            # print(\\\"{} loss: {}\\\".format(mode.upper(), loss))\\n\\n            if mode == \\\"val\\\":\\n                if loss < best_val_loss:\\n                    best_val_loss = loss\\n                    best_epoch = i\\n                    best_model_weights = copy.deepcopy(model.state_dict())\\n                else:\\n                    es_counter += 1\\n\\n    model.load_state_dict(best_model_weights)\\n\\n    for mode in [\\\"train\\\", \\\"val\\\", \\\"test\\\"]:\\n        loss = process_single_epoch(\\n            model, optimizer, criterion, data_dict[mode], \\\"test\\\"\\n        )\\n        print(\\\"{} loss: {}\\\".format(mode.upper(), loss))\\n\\n    return model\\n\\n\\ndef process_single_epoch(model, optimizer, criterion, data, mode, device=\\\"cpu\\\"):\\n    total_loss = 0\\n    model.to(device)\\n    if mode == \\\"train\\\":\\n        model.train()\\n        optimizer.zero_grad()\\n    else:\\n        model.eval()\\n\\n    for inputs, labels, _ in data:\\n        inputs = inputs.type(torch.FloatTensor).to(device)\\n        labels = labels.type(torch.FloatTensor).to(device)\\n\\n        # zero the parameter gradients\\n        optimizer.zero_grad()\\n\\n        # forward\\n        with torch.set_grad_enabled(mode == \\\"train\\\"):\\n            # Get model outputs and calculate loss\\n            outputs = model(inputs)\\n            loss = criterion(outputs, labels)\\n            total_loss += loss.item() * outputs.size(0)\\n\\n            # backward + optimize only if in training phase\\n        if mode == \\\"train\\\":\\n            loss.backward()\\n            optimizer.step()\\n\\n    total_loss /= len(data.dataset)\\n    return total_loss\";\n",
       "                var nbb_formatted_code = \"def train_model(\\n    model,\\n    optimizer,\\n    criterion,\\n    data_dict,\\n    n_epochs=1000,\\n    early_stopping=50,\\n    device=\\\"cpu\\\",\\n):\\n\\n    best_val_loss = np.infty\\n    best_epoch = 0\\n    best_model_weights = None\\n    es_counter = 0\\n\\n    for i in range(n_epochs):\\n        if es_counter > early_stopping:\\n            break\\n        for mode in [\\\"train\\\", \\\"val\\\"]:\\n            loss = process_single_epoch(\\n                model=model,\\n                optimizer=optimizer,\\n                criterion=criterion,\\n                data=data_dict[mode],\\n                mode=mode,\\n            )\\n            # print(\\\"{} loss: {}\\\".format(mode.upper(), loss))\\n\\n            if mode == \\\"val\\\":\\n                if loss < best_val_loss:\\n                    best_val_loss = loss\\n                    best_epoch = i\\n                    best_model_weights = copy.deepcopy(model.state_dict())\\n                else:\\n                    es_counter += 1\\n\\n    model.load_state_dict(best_model_weights)\\n\\n    for mode in [\\\"train\\\", \\\"val\\\", \\\"test\\\"]:\\n        loss = process_single_epoch(\\n            model, optimizer, criterion, data_dict[mode], \\\"test\\\"\\n        )\\n        print(\\\"{} loss: {}\\\".format(mode.upper(), loss))\\n\\n    return model\\n\\n\\ndef process_single_epoch(model, optimizer, criterion, data, mode, device=\\\"cpu\\\"):\\n    total_loss = 0\\n    model.to(device)\\n    if mode == \\\"train\\\":\\n        model.train()\\n        optimizer.zero_grad()\\n    else:\\n        model.eval()\\n\\n    for inputs, labels, _ in data:\\n        inputs = inputs.type(torch.FloatTensor).to(device)\\n        labels = labels.type(torch.FloatTensor).to(device)\\n\\n        # zero the parameter gradients\\n        optimizer.zero_grad()\\n\\n        # forward\\n        with torch.set_grad_enabled(mode == \\\"train\\\"):\\n            # Get model outputs and calculate loss\\n            outputs = model(inputs)\\n            loss = criterion(outputs, labels)\\n            total_loss += loss.item() * outputs.size(0)\\n\\n            # backward + optimize only if in training phase\\n        if mode == \\\"train\\\":\\n            loss.backward()\\n            optimizer.step()\\n\\n    total_loss /= len(data.dataset)\\n    return total_loss\";\n",
       "                var nbb_cells = Jupyter.notebook.get_cells();\n",
       "                for (var i = 0; i < nbb_cells.length; ++i) {\n",
       "                    if (nbb_cells[i].input_prompt_number == nbb_cell_id) {\n",
       "                        if (nbb_cells[i].get_text() == nbb_unformatted_code) {\n",
       "                             nbb_cells[i].set_text(nbb_formatted_code);\n",
       "                        }\n",
       "                        break;\n",
       "                    }\n",
       "                }\n",
       "            }, 500);\n",
       "            "
      ],
      "text/plain": [
       "<IPython.core.display.Javascript object>"
      ]
     },
     "metadata": {},
     "output_type": "display_data"
    }
   ],
   "source": [
    "def train_model(\n",
    "    model,\n",
    "    optimizer,\n",
    "    criterion,\n",
    "    data_dict,\n",
    "    n_epochs=1000,\n",
    "    early_stopping=50,\n",
    "    device=\"cpu\",\n",
    "):\n",
    "\n",
    "    best_val_loss = np.infty\n",
    "    best_epoch = 0\n",
    "    best_model_weights = None\n",
    "    es_counter = 0\n",
    "\n",
    "    for i in range(n_epochs):\n",
    "        if es_counter > early_stopping:\n",
    "            break\n",
    "        for mode in [\"train\", \"val\"]:\n",
    "            loss = process_single_epoch(\n",
    "                model=model,\n",
    "                optimizer=optimizer,\n",
    "                criterion=criterion,\n",
    "                data=data_dict[mode],\n",
    "                mode=mode,\n",
    "            )\n",
    "            # print(\"{} loss: {}\".format(mode.upper(), loss))\n",
    "\n",
    "            if mode == \"val\":\n",
    "                if loss < best_val_loss:\n",
    "                    best_val_loss = loss\n",
    "                    best_epoch = i\n",
    "                    best_model_weights = copy.deepcopy(model.state_dict())\n",
    "                else:\n",
    "                    es_counter += 1\n",
    "\n",
    "    model.load_state_dict(best_model_weights)\n",
    "\n",
    "    for mode in [\"train\", \"val\", \"test\"]:\n",
    "        loss = process_single_epoch(\n",
    "            model, optimizer, criterion, data_dict[mode], \"test\"\n",
    "        )\n",
    "        print(\"{} loss: {}\".format(mode.upper(), loss))\n",
    "\n",
    "    return model\n",
    "\n",
    "\n",
    "def process_single_epoch(model, optimizer, criterion, data, mode, device=\"cpu\"):\n",
    "    total_loss = 0\n",
    "    model.to(device)\n",
    "    if mode == \"train\":\n",
    "        model.train()\n",
    "        optimizer.zero_grad()\n",
    "    else:\n",
    "        model.eval()\n",
    "\n",
    "    for inputs, labels, _ in data:\n",
    "        inputs = inputs.type(torch.FloatTensor).to(device)\n",
    "        labels = labels.type(torch.FloatTensor).to(device)\n",
    "\n",
    "        # zero the parameter gradients\n",
    "        optimizer.zero_grad()\n",
    "\n",
    "        # forward\n",
    "        with torch.set_grad_enabled(mode == \"train\"):\n",
    "            # Get model outputs and calculate loss\n",
    "            outputs = model(inputs)\n",
    "            loss = criterion(outputs, labels)\n",
    "            total_loss += loss.item() * outputs.size(0)\n",
    "\n",
    "            # backward + optimize only if in training phase\n",
    "        if mode == \"train\":\n",
    "            loss.backward()\n",
    "            optimizer.step()\n",
    "\n",
    "    total_loss /= len(data.dataset)\n",
    "    return total_loss"
   ]
  },
  {
   "cell_type": "code",
   "execution_count": 3,
   "id": "ac07fced",
   "metadata": {},
   "outputs": [
    {
     "data": {
      "application/javascript": [
       "\n",
       "            setTimeout(function() {\n",
       "                var nbb_cell_id = 3;\n",
       "                var nbb_unformatted_code = \"class IndexedTensorDataset(torch.utils.data.Dataset):\\n    def __init__(self, data, labels, groups):\\n        super().__init__()\\n        self.data = data\\n        self.labels = labels\\n        self.groups = groups\\n\\n    def __getitem__(self, idx):\\n        return self.data[idx], self.labels[idx], self.groups[idx]\\n\\n    def __len__(self):\\n        return len(self.groups)\";\n",
       "                var nbb_formatted_code = \"class IndexedTensorDataset(torch.utils.data.Dataset):\\n    def __init__(self, data, labels, groups):\\n        super().__init__()\\n        self.data = data\\n        self.labels = labels\\n        self.groups = groups\\n\\n    def __getitem__(self, idx):\\n        return self.data[idx], self.labels[idx], self.groups[idx]\\n\\n    def __len__(self):\\n        return len(self.groups)\";\n",
       "                var nbb_cells = Jupyter.notebook.get_cells();\n",
       "                for (var i = 0; i < nbb_cells.length; ++i) {\n",
       "                    if (nbb_cells[i].input_prompt_number == nbb_cell_id) {\n",
       "                        if (nbb_cells[i].get_text() == nbb_unformatted_code) {\n",
       "                             nbb_cells[i].set_text(nbb_formatted_code);\n",
       "                        }\n",
       "                        break;\n",
       "                    }\n",
       "                }\n",
       "            }, 500);\n",
       "            "
      ],
      "text/plain": [
       "<IPython.core.display.Javascript object>"
      ]
     },
     "metadata": {},
     "output_type": "display_data"
    }
   ],
   "source": [
    "class IndexedTensorDataset(torch.utils.data.Dataset):\n",
    "    def __init__(self, data, labels, groups):\n",
    "        super().__init__()\n",
    "        self.data = data\n",
    "        self.labels = labels\n",
    "        self.groups = groups\n",
    "\n",
    "    def __getitem__(self, idx):\n",
    "        return self.data[idx], self.labels[idx], self.groups[idx]\n",
    "\n",
    "    def __len__(self):\n",
    "        return len(self.groups)"
   ]
  },
  {
   "cell_type": "code",
   "execution_count": 4,
   "id": "b150c930",
   "metadata": {},
   "outputs": [
    {
     "data": {
      "application/javascript": [
       "\n",
       "            setTimeout(function() {\n",
       "                var nbb_cell_id = 4;\n",
       "                var nbb_unformatted_code = \"def get_data_dict(\\n    data,\\n    labels,\\n    val_test_size=[0.2, 0.2],\\n    batch_size=32,\\n    group_labels=None,\\n    scale_x=True,\\n    scale_y=False,\\n    random_state=1234,\\n):\\n\\n    idc = list(range(len(data)))\\n    if group_labels is None:\\n        train_val_idc, test_idc = train_test_split(\\n            idc, test_size=val_test_size[1], random_state=seed\\n        )\\n        train_idc, val_idc = train_test_split(\\n            train_val_idc, test_size=(val_test_size[0] / (1 - val_test_size[1]))\\n        )\\n    else:\\n        gss = GroupShuffleSplit(\\n            n_splits=2, test_size=val_test_size[1], random_state=random_state\\n        )\\n        train_val_idc, test_idc = next(gss.split(idc, groups=group_labels))\\n        gss = GroupShuffleSplit(\\n            n_splits=2,\\n            test_size=(val_test_size[0] / (1 - val_test_size[1])),\\n            random_state=seed,\\n        )\\n        train_idc, val_idc = next(\\n            gss.split(train_val_idc, groups=group_labels[train_val_idc])\\n        )\\n\\n    train_data, train_labels = data.iloc[train_idc], labels.iloc[train_idc]\\n    val_data, val_labels = data.iloc[val_idc], labels.iloc[val_idc]\\n    test_data, test_labels = data.iloc[test_idc], labels.iloc[test_idc]\\n\\n    if scale_x:\\n        sc = StandardScaler().fit(train_data)\\n        train_data = sc.transform(train_data)\\n        val_data = sc.transform(val_data)\\n        test_data = sc.transform(test_data)\\n\\n    if scale_y:\\n        sc = StandardScaler().fit(train_labels)\\n        train_labels = sc.transform(train_labels)\\n        val_labels = sc.transform(val_labels)\\n        test_labels = sc.transform(test_labels)\\n\\n    train_dataset = IndexedTensorDataset(\\n        torch.FloatTensor(np.array(train_data)),\\n        torch.FloatTensor(np.array(train_labels)),\\n        list(labels.iloc[train_idc].index),\\n    )\\n    train_loader = DataLoader(train_dataset, batch_size=batch_size, shuffle=True)\\n\\n    val_dataset = IndexedTensorDataset(\\n        torch.FloatTensor(np.array(val_data)),\\n        torch.FloatTensor(np.array(val_labels)),\\n        list(labels.iloc[val_idc].index),\\n    )\\n    val_loader = DataLoader(val_dataset, batch_size=batch_size, shuffle=False)\\n\\n    test_dataset = IndexedTensorDataset(\\n        torch.FloatTensor(np.array(test_data)),\\n        torch.FloatTensor(np.array(test_labels)),\\n        list(labels.iloc[test_idc].index),\\n    )\\n    test_loader = DataLoader(test_dataset, batch_size=batch_size, shuffle=False)\\n\\n    return {\\\"train\\\": train_loader, \\\"val\\\": val_loader, \\\"test\\\": test_loader}\";\n",
       "                var nbb_formatted_code = \"def get_data_dict(\\n    data,\\n    labels,\\n    val_test_size=[0.2, 0.2],\\n    batch_size=32,\\n    group_labels=None,\\n    scale_x=True,\\n    scale_y=False,\\n    random_state=1234,\\n):\\n\\n    idc = list(range(len(data)))\\n    if group_labels is None:\\n        train_val_idc, test_idc = train_test_split(\\n            idc, test_size=val_test_size[1], random_state=seed\\n        )\\n        train_idc, val_idc = train_test_split(\\n            train_val_idc, test_size=(val_test_size[0] / (1 - val_test_size[1]))\\n        )\\n    else:\\n        gss = GroupShuffleSplit(\\n            n_splits=2, test_size=val_test_size[1], random_state=random_state\\n        )\\n        train_val_idc, test_idc = next(gss.split(idc, groups=group_labels))\\n        gss = GroupShuffleSplit(\\n            n_splits=2,\\n            test_size=(val_test_size[0] / (1 - val_test_size[1])),\\n            random_state=seed,\\n        )\\n        train_idc, val_idc = next(\\n            gss.split(train_val_idc, groups=group_labels[train_val_idc])\\n        )\\n\\n    train_data, train_labels = data.iloc[train_idc], labels.iloc[train_idc]\\n    val_data, val_labels = data.iloc[val_idc], labels.iloc[val_idc]\\n    test_data, test_labels = data.iloc[test_idc], labels.iloc[test_idc]\\n\\n    if scale_x:\\n        sc = StandardScaler().fit(train_data)\\n        train_data = sc.transform(train_data)\\n        val_data = sc.transform(val_data)\\n        test_data = sc.transform(test_data)\\n\\n    if scale_y:\\n        sc = StandardScaler().fit(train_labels)\\n        train_labels = sc.transform(train_labels)\\n        val_labels = sc.transform(val_labels)\\n        test_labels = sc.transform(test_labels)\\n\\n    train_dataset = IndexedTensorDataset(\\n        torch.FloatTensor(np.array(train_data)),\\n        torch.FloatTensor(np.array(train_labels)),\\n        list(labels.iloc[train_idc].index),\\n    )\\n    train_loader = DataLoader(train_dataset, batch_size=batch_size, shuffle=True)\\n\\n    val_dataset = IndexedTensorDataset(\\n        torch.FloatTensor(np.array(val_data)),\\n        torch.FloatTensor(np.array(val_labels)),\\n        list(labels.iloc[val_idc].index),\\n    )\\n    val_loader = DataLoader(val_dataset, batch_size=batch_size, shuffle=False)\\n\\n    test_dataset = IndexedTensorDataset(\\n        torch.FloatTensor(np.array(test_data)),\\n        torch.FloatTensor(np.array(test_labels)),\\n        list(labels.iloc[test_idc].index),\\n    )\\n    test_loader = DataLoader(test_dataset, batch_size=batch_size, shuffle=False)\\n\\n    return {\\\"train\\\": train_loader, \\\"val\\\": val_loader, \\\"test\\\": test_loader}\";\n",
       "                var nbb_cells = Jupyter.notebook.get_cells();\n",
       "                for (var i = 0; i < nbb_cells.length; ++i) {\n",
       "                    if (nbb_cells[i].input_prompt_number == nbb_cell_id) {\n",
       "                        if (nbb_cells[i].get_text() == nbb_unformatted_code) {\n",
       "                             nbb_cells[i].set_text(nbb_formatted_code);\n",
       "                        }\n",
       "                        break;\n",
       "                    }\n",
       "                }\n",
       "            }, 500);\n",
       "            "
      ],
      "text/plain": [
       "<IPython.core.display.Javascript object>"
      ]
     },
     "metadata": {},
     "output_type": "display_data"
    }
   ],
   "source": [
    "def get_data_dict(\n",
    "    data,\n",
    "    labels,\n",
    "    val_test_size=[0.2, 0.2],\n",
    "    batch_size=32,\n",
    "    group_labels=None,\n",
    "    scale_x=True,\n",
    "    scale_y=False,\n",
    "    random_state=1234,\n",
    "):\n",
    "\n",
    "    idc = list(range(len(data)))\n",
    "    if group_labels is None:\n",
    "        train_val_idc, test_idc = train_test_split(\n",
    "            idc, test_size=val_test_size[1], random_state=seed\n",
    "        )\n",
    "        train_idc, val_idc = train_test_split(\n",
    "            train_val_idc, test_size=(val_test_size[0] / (1 - val_test_size[1]))\n",
    "        )\n",
    "    else:\n",
    "        gss = GroupShuffleSplit(\n",
    "            n_splits=2, test_size=val_test_size[1], random_state=random_state\n",
    "        )\n",
    "        train_val_idc, test_idc = next(gss.split(idc, groups=group_labels))\n",
    "        gss = GroupShuffleSplit(\n",
    "            n_splits=2,\n",
    "            test_size=(val_test_size[0] / (1 - val_test_size[1])),\n",
    "            random_state=seed,\n",
    "        )\n",
    "        train_idc, val_idc = next(\n",
    "            gss.split(train_val_idc, groups=group_labels[train_val_idc])\n",
    "        )\n",
    "\n",
    "    train_data, train_labels = data.iloc[train_idc], labels.iloc[train_idc]\n",
    "    val_data, val_labels = data.iloc[val_idc], labels.iloc[val_idc]\n",
    "    test_data, test_labels = data.iloc[test_idc], labels.iloc[test_idc]\n",
    "\n",
    "    if scale_x:\n",
    "        sc = StandardScaler().fit(train_data)\n",
    "        train_data = sc.transform(train_data)\n",
    "        val_data = sc.transform(val_data)\n",
    "        test_data = sc.transform(test_data)\n",
    "\n",
    "    if scale_y:\n",
    "        sc = StandardScaler().fit(train_labels)\n",
    "        train_labels = sc.transform(train_labels)\n",
    "        val_labels = sc.transform(val_labels)\n",
    "        test_labels = sc.transform(test_labels)\n",
    "\n",
    "    train_dataset = IndexedTensorDataset(\n",
    "        torch.FloatTensor(np.array(train_data)),\n",
    "        torch.FloatTensor(np.array(train_labels)),\n",
    "        list(labels.iloc[train_idc].index),\n",
    "    )\n",
    "    train_loader = DataLoader(train_dataset, batch_size=batch_size, shuffle=True)\n",
    "\n",
    "    val_dataset = IndexedTensorDataset(\n",
    "        torch.FloatTensor(np.array(val_data)),\n",
    "        torch.FloatTensor(np.array(val_labels)),\n",
    "        list(labels.iloc[val_idc].index),\n",
    "    )\n",
    "    val_loader = DataLoader(val_dataset, batch_size=batch_size, shuffle=False)\n",
    "\n",
    "    test_dataset = IndexedTensorDataset(\n",
    "        torch.FloatTensor(np.array(test_data)),\n",
    "        torch.FloatTensor(np.array(test_labels)),\n",
    "        list(labels.iloc[test_idc].index),\n",
    "    )\n",
    "    test_loader = DataLoader(test_dataset, batch_size=batch_size, shuffle=False)\n",
    "\n",
    "    return {\"train\": train_loader, \"val\": val_loader, \"test\": test_loader}"
   ]
  },
  {
   "cell_type": "code",
   "execution_count": 5,
   "id": "e5d40881",
   "metadata": {},
   "outputs": [
    {
     "data": {
      "application/javascript": [
       "\n",
       "            setTimeout(function() {\n",
       "                var nbb_cell_id = 5;\n",
       "                var nbb_unformatted_code = \"def evaluate_top_k_accuracy(preds, labels, node_embs, k=5, random_state=1234):\\n    np.random.seed(random_state)\\n    k_correct = 0\\n    k_baseline_correct = 0\\n    neigh = NearestNeighbors(n_neighbors=k, p=2)\\n    targets = np.array(node_embs.index)\\n    counts = Counter(labels)\\n    most_common = list(sorted(counts, key=counts.get, reverse=True))\\n    # print(most_common)\\n    fitted_neigh = neigh.fit(np.array(node_embs))\\n\\n    neighbor_preds = fitted_neigh.kneighbors(preds, k, return_distance=False)\\n    for i in range(len(neighbor_preds)):\\n        if labels[i] in targets[neighbor_preds[i]]:\\n            k_correct += 1\\n        if labels[i] in np.random.choice(targets, size=k):\\n            k_baseline_correct += 1\\n    return k_correct / len(labels), k_baseline_correct / len(labels)\";\n",
       "                var nbb_formatted_code = \"def evaluate_top_k_accuracy(preds, labels, node_embs, k=5, random_state=1234):\\n    np.random.seed(random_state)\\n    k_correct = 0\\n    k_baseline_correct = 0\\n    neigh = NearestNeighbors(n_neighbors=k, p=2)\\n    targets = np.array(node_embs.index)\\n    counts = Counter(labels)\\n    most_common = list(sorted(counts, key=counts.get, reverse=True))\\n    # print(most_common)\\n    fitted_neigh = neigh.fit(np.array(node_embs))\\n\\n    neighbor_preds = fitted_neigh.kneighbors(preds, k, return_distance=False)\\n    for i in range(len(neighbor_preds)):\\n        if labels[i] in targets[neighbor_preds[i]]:\\n            k_correct += 1\\n        if labels[i] in np.random.choice(targets, size=k):\\n            k_baseline_correct += 1\\n    return k_correct / len(labels), k_baseline_correct / len(labels)\";\n",
       "                var nbb_cells = Jupyter.notebook.get_cells();\n",
       "                for (var i = 0; i < nbb_cells.length; ++i) {\n",
       "                    if (nbb_cells[i].input_prompt_number == nbb_cell_id) {\n",
       "                        if (nbb_cells[i].get_text() == nbb_unformatted_code) {\n",
       "                             nbb_cells[i].set_text(nbb_formatted_code);\n",
       "                        }\n",
       "                        break;\n",
       "                    }\n",
       "                }\n",
       "            }, 500);\n",
       "            "
      ],
      "text/plain": [
       "<IPython.core.display.Javascript object>"
      ]
     },
     "metadata": {},
     "output_type": "display_data"
    }
   ],
   "source": [
    "def evaluate_top_k_accuracy(preds, labels, node_embs, k=5, random_state=1234):\n",
    "    np.random.seed(random_state)\n",
    "    k_correct = 0\n",
    "    k_baseline_correct = 0\n",
    "    neigh = NearestNeighbors(n_neighbors=k, p=2)\n",
    "    targets = np.array(node_embs.index)\n",
    "    counts = Counter(labels)\n",
    "    most_common = list(sorted(counts, key=counts.get, reverse=True))\n",
    "    # print(most_common)\n",
    "    fitted_neigh = neigh.fit(np.array(node_embs))\n",
    "\n",
    "    neighbor_preds = fitted_neigh.kneighbors(preds, k, return_distance=False)\n",
    "    for i in range(len(neighbor_preds)):\n",
    "        if labels[i] in targets[neighbor_preds[i]]:\n",
    "            k_correct += 1\n",
    "        if labels[i] in np.random.choice(targets, size=k):\n",
    "            k_baseline_correct += 1\n",
    "    return k_correct / len(labels), k_baseline_correct / len(labels)"
   ]
  },
  {
   "cell_type": "code",
   "execution_count": 6,
   "id": "bf865155",
   "metadata": {},
   "outputs": [
    {
     "data": {
      "application/javascript": [
       "\n",
       "            setTimeout(function() {\n",
       "                var nbb_cell_id = 6;\n",
       "                var nbb_unformatted_code = \"def get_preds_label_dict(model, data):\\n    preds = []\\n    labels = []\\n\\n    model.eval()\\n\\n    for batch_inputs, _, batch_labels in data:\\n        batch_preds = model(batch_inputs)\\n        preds.extend(list(batch_preds.clone().detach().numpy()))\\n        labels.extend(list(batch_labels))\\n    return np.array(preds), np.array(labels)\";\n",
       "                var nbb_formatted_code = \"def get_preds_label_dict(model, data):\\n    preds = []\\n    labels = []\\n\\n    model.eval()\\n\\n    for batch_inputs, _, batch_labels in data:\\n        batch_preds = model(batch_inputs)\\n        preds.extend(list(batch_preds.clone().detach().numpy()))\\n        labels.extend(list(batch_labels))\\n    return np.array(preds), np.array(labels)\";\n",
       "                var nbb_cells = Jupyter.notebook.get_cells();\n",
       "                for (var i = 0; i < nbb_cells.length; ++i) {\n",
       "                    if (nbb_cells[i].input_prompt_number == nbb_cell_id) {\n",
       "                        if (nbb_cells[i].get_text() == nbb_unformatted_code) {\n",
       "                             nbb_cells[i].set_text(nbb_formatted_code);\n",
       "                        }\n",
       "                        break;\n",
       "                    }\n",
       "                }\n",
       "            }, 500);\n",
       "            "
      ],
      "text/plain": [
       "<IPython.core.display.Javascript object>"
      ]
     },
     "metadata": {},
     "output_type": "display_data"
    }
   ],
   "source": [
    "def get_preds_label_dict(model, data):\n",
    "    preds = []\n",
    "    labels = []\n",
    "\n",
    "    model.eval()\n",
    "\n",
    "    for batch_inputs, _, batch_labels in data:\n",
    "        batch_preds = model(batch_inputs)\n",
    "        preds.extend(list(batch_preds.clone().detach().numpy()))\n",
    "        labels.extend(list(batch_labels))\n",
    "    return np.array(preds), np.array(labels)"
   ]
  },
  {
   "cell_type": "code",
   "execution_count": 21,
   "id": "63197208",
   "metadata": {},
   "outputs": [
    {
     "data": {
      "application/javascript": [
       "\n",
       "            setTimeout(function() {\n",
       "                var nbb_cell_id = 21;\n",
       "                var nbb_unformatted_code = \"def get_logo_data_dicts(\\n    data,\\n    labels,\\n    group_labels,\\n    val_size=0.1,\\n    batch_size=128,\\n    random_state=1234,\\n    scale_x=True,\\n    scale_y=False,\\n):\\n    logo = LeaveOneGroupOut()\\n    data_dicts = []\\n    idc = list(range(len(labels)))\\n    for train_val_idc, test_idc in logo.split(idc, groups=group_labels):\\n        gss = gss = GroupShuffleSplit(\\n            n_splits=2, test_size=val_size, random_state=random_state\\n        )\\n        train_idc, val_idc = next(\\n            gss.split(train_val_idc, groups=group_labels[train_val_idc])\\n        )\\n\\n        train_data, train_labels = data.iloc[train_idc], labels.iloc[train_idc]\\n        val_data, val_labels = data.iloc[val_idc], labels.iloc[val_idc]\\n        test_data, test_labels = data.iloc[test_idc], labels.iloc[test_idc]\\n\\n        if scale_x:\\n            sc = StandardScaler().fit(train_data)\\n            train_data = sc.transform(train_data)\\n            val_data = sc.transform(val_data)\\n            test_data = sc.transform(test_data)\\n\\n        if scale_y:\\n            sc = StandardScaler().fit(train_labels)\\n            train_labels = sc.transform(train_labels)\\n            val_labels = sc.transform(val_labels)\\n            test_labels = sc.transform(test_labels)\\n\\n        train_dataset = IndexedTensorDataset(\\n            torch.FloatTensor(np.array(train_data)),\\n            torch.FloatTensor(np.array(train_labels)),\\n            list(labels.iloc[train_idc].index),\\n        )\\n        train_loader = DataLoader(train_dataset, batch_size=batch_size, shuffle=True)\\n\\n        val_dataset = IndexedTensorDataset(\\n            torch.FloatTensor(np.array(val_data)),\\n            torch.FloatTensor(np.array(val_labels)),\\n            list(labels.iloc[val_idc].index),\\n        )\\n        val_loader = DataLoader(val_dataset, batch_size=batch_size, shuffle=False)\\n\\n        test_dataset = IndexedTensorDataset(\\n            torch.FloatTensor(np.array(test_data)),\\n            torch.FloatTensor(np.array(test_labels)),\\n            list(labels.iloc[test_idc].index),\\n        )\\n        test_loader = DataLoader(test_dataset, batch_size=batch_size, shuffle=False)\\n\\n        data_dict = {\\\"train\\\": train_loader, \\\"val\\\": val_loader, \\\"test\\\": test_loader}\\n        data_dicts.append(data_dict)\\n    return data_dicts\";\n",
       "                var nbb_formatted_code = \"def get_logo_data_dicts(\\n    data,\\n    labels,\\n    group_labels,\\n    val_size=0.1,\\n    batch_size=128,\\n    random_state=1234,\\n    scale_x=True,\\n    scale_y=False,\\n):\\n    logo = LeaveOneGroupOut()\\n    data_dicts = []\\n    idc = list(range(len(labels)))\\n    for train_val_idc, test_idc in logo.split(idc, groups=group_labels):\\n        gss = gss = GroupShuffleSplit(\\n            n_splits=2, test_size=val_size, random_state=random_state\\n        )\\n        train_idc, val_idc = next(\\n            gss.split(train_val_idc, groups=group_labels[train_val_idc])\\n        )\\n\\n        train_data, train_labels = data.iloc[train_idc], labels.iloc[train_idc]\\n        val_data, val_labels = data.iloc[val_idc], labels.iloc[val_idc]\\n        test_data, test_labels = data.iloc[test_idc], labels.iloc[test_idc]\\n\\n        if scale_x:\\n            sc = StandardScaler().fit(train_data)\\n            train_data = sc.transform(train_data)\\n            val_data = sc.transform(val_data)\\n            test_data = sc.transform(test_data)\\n\\n        if scale_y:\\n            sc = StandardScaler().fit(train_labels)\\n            train_labels = sc.transform(train_labels)\\n            val_labels = sc.transform(val_labels)\\n            test_labels = sc.transform(test_labels)\\n\\n        train_dataset = IndexedTensorDataset(\\n            torch.FloatTensor(np.array(train_data)),\\n            torch.FloatTensor(np.array(train_labels)),\\n            list(labels.iloc[train_idc].index),\\n        )\\n        train_loader = DataLoader(train_dataset, batch_size=batch_size, shuffle=True)\\n\\n        val_dataset = IndexedTensorDataset(\\n            torch.FloatTensor(np.array(val_data)),\\n            torch.FloatTensor(np.array(val_labels)),\\n            list(labels.iloc[val_idc].index),\\n        )\\n        val_loader = DataLoader(val_dataset, batch_size=batch_size, shuffle=False)\\n\\n        test_dataset = IndexedTensorDataset(\\n            torch.FloatTensor(np.array(test_data)),\\n            torch.FloatTensor(np.array(test_labels)),\\n            list(labels.iloc[test_idc].index),\\n        )\\n        test_loader = DataLoader(test_dataset, batch_size=batch_size, shuffle=False)\\n\\n        data_dict = {\\\"train\\\": train_loader, \\\"val\\\": val_loader, \\\"test\\\": test_loader}\\n        data_dicts.append(data_dict)\\n    return data_dicts\";\n",
       "                var nbb_cells = Jupyter.notebook.get_cells();\n",
       "                for (var i = 0; i < nbb_cells.length; ++i) {\n",
       "                    if (nbb_cells[i].input_prompt_number == nbb_cell_id) {\n",
       "                        if (nbb_cells[i].get_text() == nbb_unformatted_code) {\n",
       "                             nbb_cells[i].set_text(nbb_formatted_code);\n",
       "                        }\n",
       "                        break;\n",
       "                    }\n",
       "                }\n",
       "            }, 500);\n",
       "            "
      ],
      "text/plain": [
       "<IPython.core.display.Javascript object>"
      ]
     },
     "metadata": {},
     "output_type": "display_data"
    }
   ],
   "source": [
    "def get_logo_data_dicts(\n",
    "    data,\n",
    "    labels,\n",
    "    group_labels,\n",
    "    val_size=0.1,\n",
    "    batch_size=128,\n",
    "    random_state=1234,\n",
    "    scale_x=True,\n",
    "    scale_y=False,\n",
    "):\n",
    "    logo = LeaveOneGroupOut()\n",
    "    data_dicts = []\n",
    "    idc = list(range(len(labels)))\n",
    "    for train_val_idc, test_idc in logo.split(idc, groups=group_labels):\n",
    "        gss = gss = GroupShuffleSplit(\n",
    "            n_splits=2, test_size=val_size, random_state=random_state\n",
    "        )\n",
    "        train_idc, val_idc = next(\n",
    "            gss.split(train_val_idc, groups=group_labels[train_val_idc])\n",
    "        )\n",
    "\n",
    "        train_data, train_labels = data.iloc[train_idc], labels.iloc[train_idc]\n",
    "        val_data, val_labels = data.iloc[val_idc], labels.iloc[val_idc]\n",
    "        test_data, test_labels = data.iloc[test_idc], labels.iloc[test_idc]\n",
    "\n",
    "        if scale_x:\n",
    "            sc = StandardScaler().fit(train_data)\n",
    "            train_data = sc.transform(train_data)\n",
    "            val_data = sc.transform(val_data)\n",
    "            test_data = sc.transform(test_data)\n",
    "\n",
    "        if scale_y:\n",
    "            sc = StandardScaler().fit(train_labels)\n",
    "            train_labels = sc.transform(train_labels)\n",
    "            val_labels = sc.transform(val_labels)\n",
    "            test_labels = sc.transform(test_labels)\n",
    "\n",
    "        train_dataset = IndexedTensorDataset(\n",
    "            torch.FloatTensor(np.array(train_data)),\n",
    "            torch.FloatTensor(np.array(train_labels)),\n",
    "            list(labels.iloc[train_idc].index),\n",
    "        )\n",
    "        train_loader = DataLoader(train_dataset, batch_size=batch_size, shuffle=True)\n",
    "\n",
    "        val_dataset = IndexedTensorDataset(\n",
    "            torch.FloatTensor(np.array(val_data)),\n",
    "            torch.FloatTensor(np.array(val_labels)),\n",
    "            list(labels.iloc[val_idc].index),\n",
    "        )\n",
    "        val_loader = DataLoader(val_dataset, batch_size=batch_size, shuffle=False)\n",
    "\n",
    "        test_dataset = IndexedTensorDataset(\n",
    "            torch.FloatTensor(np.array(test_data)),\n",
    "            torch.FloatTensor(np.array(test_labels)),\n",
    "            list(labels.iloc[test_idc].index),\n",
    "        )\n",
    "        test_loader = DataLoader(test_dataset, batch_size=batch_size, shuffle=False)\n",
    "\n",
    "        data_dict = {\"train\": train_loader, \"val\": val_loader, \"test\": test_loader}\n",
    "        data_dicts.append(data_dict)\n",
    "    return data_dicts"
   ]
  },
  {
   "cell_type": "markdown",
   "id": "16f29141",
   "metadata": {},
   "source": [
    "---\n",
    "\n",
    "## 1. Read in data\n",
    "\n",
    "Next, we read in the different data sets that we will use for the modelling and evaluation of the translational mappings. The first data set includes all structural embeddings from data held-out during training as well as the regulatory embeddings of the 244 genes that are part of the inferred interactome."
   ]
  },
  {
   "cell_type": "code",
   "execution_count": 7,
   "id": "89100678",
   "metadata": {},
   "outputs": [
    {
     "data": {
      "text/html": [
       "<div>\n",
       "<style scoped>\n",
       "    .dataframe tbody tr th:only-of-type {\n",
       "        vertical-align: middle;\n",
       "    }\n",
       "\n",
       "    .dataframe tbody tr th {\n",
       "        vertical-align: top;\n",
       "    }\n",
       "\n",
       "    .dataframe thead th {\n",
       "        text-align: right;\n",
       "    }\n",
       "</style>\n",
       "<table border=\"1\" class=\"dataframe\">\n",
       "  <thead>\n",
       "    <tr style=\"text-align: right;\">\n",
       "      <th></th>\n",
       "      <th>0</th>\n",
       "      <th>1</th>\n",
       "      <th>2</th>\n",
       "      <th>3</th>\n",
       "      <th>4</th>\n",
       "      <th>5</th>\n",
       "      <th>6</th>\n",
       "      <th>7</th>\n",
       "      <th>8</th>\n",
       "      <th>9</th>\n",
       "      <th>...</th>\n",
       "      <th>118</th>\n",
       "      <th>119</th>\n",
       "      <th>120</th>\n",
       "      <th>121</th>\n",
       "      <th>122</th>\n",
       "      <th>123</th>\n",
       "      <th>124</th>\n",
       "      <th>125</th>\n",
       "      <th>126</th>\n",
       "      <th>127</th>\n",
       "    </tr>\n",
       "  </thead>\n",
       "  <tbody>\n",
       "    <tr>\n",
       "      <th>CDCA2</th>\n",
       "      <td>-0.046519</td>\n",
       "      <td>-0.049060</td>\n",
       "      <td>-0.065633</td>\n",
       "      <td>0.102739</td>\n",
       "      <td>-0.037012</td>\n",
       "      <td>0.067560</td>\n",
       "      <td>0.070266</td>\n",
       "      <td>-0.008673</td>\n",
       "      <td>0.128273</td>\n",
       "      <td>0.004020</td>\n",
       "      <td>...</td>\n",
       "      <td>-0.071056</td>\n",
       "      <td>-0.156410</td>\n",
       "      <td>0.006000</td>\n",
       "      <td>0.093432</td>\n",
       "      <td>0.034559</td>\n",
       "      <td>0.010527</td>\n",
       "      <td>-0.045864</td>\n",
       "      <td>0.068302</td>\n",
       "      <td>0.115374</td>\n",
       "      <td>-0.101571</td>\n",
       "    </tr>\n",
       "    <tr>\n",
       "      <th>APPBP2</th>\n",
       "      <td>-0.093607</td>\n",
       "      <td>-0.018010</td>\n",
       "      <td>0.060400</td>\n",
       "      <td>-0.022461</td>\n",
       "      <td>0.071339</td>\n",
       "      <td>0.044652</td>\n",
       "      <td>-0.002030</td>\n",
       "      <td>0.008269</td>\n",
       "      <td>-0.100545</td>\n",
       "      <td>-0.035760</td>\n",
       "      <td>...</td>\n",
       "      <td>-0.100010</td>\n",
       "      <td>0.168263</td>\n",
       "      <td>-0.103005</td>\n",
       "      <td>-0.055163</td>\n",
       "      <td>0.053544</td>\n",
       "      <td>-0.075707</td>\n",
       "      <td>0.119875</td>\n",
       "      <td>0.000469</td>\n",
       "      <td>0.004186</td>\n",
       "      <td>0.123274</td>\n",
       "    </tr>\n",
       "    <tr>\n",
       "      <th>TK1</th>\n",
       "      <td>0.023958</td>\n",
       "      <td>0.160870</td>\n",
       "      <td>-0.038898</td>\n",
       "      <td>-0.067761</td>\n",
       "      <td>-0.060810</td>\n",
       "      <td>-0.001184</td>\n",
       "      <td>0.000734</td>\n",
       "      <td>0.029148</td>\n",
       "      <td>0.024501</td>\n",
       "      <td>-0.096013</td>\n",
       "      <td>...</td>\n",
       "      <td>0.057610</td>\n",
       "      <td>-0.050949</td>\n",
       "      <td>-0.017972</td>\n",
       "      <td>0.008282</td>\n",
       "      <td>-0.003922</td>\n",
       "      <td>-0.061075</td>\n",
       "      <td>0.055963</td>\n",
       "      <td>0.034356</td>\n",
       "      <td>0.079510</td>\n",
       "      <td>-0.078223</td>\n",
       "    </tr>\n",
       "    <tr>\n",
       "      <th>MMP2</th>\n",
       "      <td>-0.036499</td>\n",
       "      <td>-0.147354</td>\n",
       "      <td>0.082521</td>\n",
       "      <td>0.133464</td>\n",
       "      <td>0.180986</td>\n",
       "      <td>-0.040401</td>\n",
       "      <td>0.066718</td>\n",
       "      <td>-0.040661</td>\n",
       "      <td>-0.171430</td>\n",
       "      <td>0.154789</td>\n",
       "      <td>...</td>\n",
       "      <td>-0.090356</td>\n",
       "      <td>0.352892</td>\n",
       "      <td>0.012735</td>\n",
       "      <td>-0.153441</td>\n",
       "      <td>-0.086582</td>\n",
       "      <td>0.092603</td>\n",
       "      <td>0.052464</td>\n",
       "      <td>0.000355</td>\n",
       "      <td>-0.323068</td>\n",
       "      <td>0.277830</td>\n",
       "    </tr>\n",
       "    <tr>\n",
       "      <th>PRKACA</th>\n",
       "      <td>0.021894</td>\n",
       "      <td>0.071289</td>\n",
       "      <td>0.021641</td>\n",
       "      <td>-0.079990</td>\n",
       "      <td>0.044919</td>\n",
       "      <td>-0.082366</td>\n",
       "      <td>0.013962</td>\n",
       "      <td>-0.063172</td>\n",
       "      <td>-0.081244</td>\n",
       "      <td>-0.032706</td>\n",
       "      <td>...</td>\n",
       "      <td>0.062312</td>\n",
       "      <td>0.063952</td>\n",
       "      <td>-0.050152</td>\n",
       "      <td>0.112115</td>\n",
       "      <td>-0.041111</td>\n",
       "      <td>0.073021</td>\n",
       "      <td>0.032152</td>\n",
       "      <td>-0.068759</td>\n",
       "      <td>-0.117734</td>\n",
       "      <td>0.067075</td>\n",
       "    </tr>\n",
       "  </tbody>\n",
       "</table>\n",
       "<p>5 rows × 128 columns</p>\n",
       "</div>"
      ],
      "text/plain": [
       "               0         1         2         3         4         5         6  \\\n",
       "CDCA2  -0.046519 -0.049060 -0.065633  0.102739 -0.037012  0.067560  0.070266   \n",
       "APPBP2 -0.093607 -0.018010  0.060400 -0.022461  0.071339  0.044652 -0.002030   \n",
       "TK1     0.023958  0.160870 -0.038898 -0.067761 -0.060810 -0.001184  0.000734   \n",
       "MMP2   -0.036499 -0.147354  0.082521  0.133464  0.180986 -0.040401  0.066718   \n",
       "PRKACA  0.021894  0.071289  0.021641 -0.079990  0.044919 -0.082366  0.013962   \n",
       "\n",
       "               7         8         9  ...       118       119       120  \\\n",
       "CDCA2  -0.008673  0.128273  0.004020  ... -0.071056 -0.156410  0.006000   \n",
       "APPBP2  0.008269 -0.100545 -0.035760  ... -0.100010  0.168263 -0.103005   \n",
       "TK1     0.029148  0.024501 -0.096013  ...  0.057610 -0.050949 -0.017972   \n",
       "MMP2   -0.040661 -0.171430  0.154789  ... -0.090356  0.352892  0.012735   \n",
       "PRKACA -0.063172 -0.081244 -0.032706  ...  0.062312  0.063952 -0.050152   \n",
       "\n",
       "             121       122       123       124       125       126       127  \n",
       "CDCA2   0.093432  0.034559  0.010527 -0.045864  0.068302  0.115374 -0.101571  \n",
       "APPBP2 -0.055163  0.053544 -0.075707  0.119875  0.000469  0.004186  0.123274  \n",
       "TK1     0.008282 -0.003922 -0.061075  0.055963  0.034356  0.079510 -0.078223  \n",
       "MMP2   -0.153441 -0.086582  0.092603  0.052464  0.000355 -0.323068  0.277830  \n",
       "PRKACA  0.112115 -0.041111  0.073021  0.032152 -0.068759 -0.117734  0.067075  \n",
       "\n",
       "[5 rows x 128 columns]"
      ]
     },
     "execution_count": 7,
     "metadata": {},
     "output_type": "execute_result"
    },
    {
     "data": {
      "application/javascript": [
       "\n",
       "            setTimeout(function() {\n",
       "                var nbb_cell_id = 7;\n",
       "                var nbb_unformatted_code = \"node_embs = pd.read_csv(\\n    \\\"../../../data/ppi/embedding/node_embeddings_cv.csv\\\", index_col=0\\n)\\nnode_embs.head()\";\n",
       "                var nbb_formatted_code = \"node_embs = pd.read_csv(\\n    \\\"../../../data/ppi/embedding/node_embeddings_cv.csv\\\", index_col=0\\n)\\nnode_embs.head()\";\n",
       "                var nbb_cells = Jupyter.notebook.get_cells();\n",
       "                for (var i = 0; i < nbb_cells.length; ++i) {\n",
       "                    if (nbb_cells[i].input_prompt_number == nbb_cell_id) {\n",
       "                        if (nbb_cells[i].get_text() == nbb_unformatted_code) {\n",
       "                             nbb_cells[i].set_text(nbb_formatted_code);\n",
       "                        }\n",
       "                        break;\n",
       "                    }\n",
       "                }\n",
       "            }, 500);\n",
       "            "
      ],
      "text/plain": [
       "<IPython.core.display.Javascript object>"
      ]
     },
     "metadata": {},
     "output_type": "display_data"
    }
   ],
   "source": [
    "node_embs = pd.read_csv(\n",
    "    \"../../../data/ppi/embedding/node_embeddings_cv.csv\", index_col=0\n",
    ")\n",
    "node_embs.head()"
   ]
  },
  {
   "cell_type": "markdown",
   "id": "797e82dd",
   "metadata": {},
   "source": [
    "After having loaded the regulatory embeddings, we will now load the structural embeddings defined by the embeddings of the images held-out during the different folds of the cross-validation. Note that we do not group the data of the individual folds as the inferred models map to different latent spaces. We will also decode the numerical labels."
   ]
  },
  {
   "cell_type": "code",
   "execution_count": 8,
   "id": "7cf54c60",
   "metadata": {},
   "outputs": [
    {
     "data": {
      "application/javascript": [
       "\n",
       "            setTimeout(function() {\n",
       "                var nbb_cell_id = 8;\n",
       "                var nbb_unformatted_code = \"label_dict = {\\n    \\\"AKT1S1\\\": 0,\\n    \\\"APC\\\": 1,\\n    \\\"ATF4\\\": 2,\\n    \\\"BAX\\\": 3,\\n    \\\"BCL2L11\\\": 4,\\n    \\\"BRAF\\\": 5,\\n    \\\"CASP8\\\": 6,\\n    \\\"CDC42\\\": 7,\\n    \\\"CDKN1A\\\": 8,\\n    \\\"CEBPA\\\": 9,\\n    \\\"CREB1\\\": 10,\\n    \\\"CSNK1E\\\": 11,\\n    \\\"CXXC4\\\": 12,\\n    \\\"DIABLO\\\": 13,\\n    \\\"E2F1\\\": 14,\\n    \\\"ELK1\\\": 15,\\n    \\\"EMPTY\\\": 16,\\n    \\\"ERG\\\": 17,\\n    \\\"FGFR3\\\": 18,\\n    \\\"FOXO1\\\": 19,\\n    \\\"GLI1\\\": 20,\\n    \\\"HRAS\\\": 21,\\n    \\\"IRAK4\\\": 22,\\n    \\\"JUN\\\": 23,\\n    \\\"KRAS\\\": 24,\\n    \\\"MAP2K3\\\": 25,\\n    \\\"MAP3K2\\\": 26,\\n    \\\"MAP3K5\\\": 27,\\n    \\\"MAP3K9\\\": 28,\\n    \\\"MAPK7\\\": 29,\\n    \\\"MOS\\\": 30,\\n    \\\"MYD88\\\": 31,\\n    \\\"PIK3R2\\\": 32,\\n    \\\"PKIA\\\": 33,\\n    \\\"PRKACA\\\": 34,\\n    \\\"PRKCE\\\": 35,\\n    \\\"RAF1\\\": 36,\\n    \\\"RELB\\\": 37,\\n    \\\"RHOA\\\": 38,\\n    \\\"SMAD3\\\": 39,\\n    \\\"SMAD4\\\": 40,\\n    \\\"SMO\\\": 41,\\n    \\\"SRC\\\": 42,\\n    \\\"SREBF1\\\": 43,\\n    \\\"TRAF2\\\": 44,\\n    \\\"TSC2\\\": 45,\\n    \\\"WWTR1\\\": 46,\\n}\\n\\nlabel_dict = {v: k for k, v in label_dict.items()}\\n\\n\\nimg_embs_dict = {}\\nfor i in range(4):\\n    img_embs = pd.read_hdf(\\n        \\\"../../../data/experiments/image_embeddings/specificity_target_emb_cv_strat/final_1024/fold_{}/test_latents.h5\\\".format(\\n            i\\n        )\\n    )\\n    img_embs.iloc[:, -1] = img_embs.iloc[:, -1].map(label_dict)\\n    img_embs_dict[\\\"fold{}\\\".format(i)] = img_embs\";\n",
       "                var nbb_formatted_code = \"label_dict = {\\n    \\\"AKT1S1\\\": 0,\\n    \\\"APC\\\": 1,\\n    \\\"ATF4\\\": 2,\\n    \\\"BAX\\\": 3,\\n    \\\"BCL2L11\\\": 4,\\n    \\\"BRAF\\\": 5,\\n    \\\"CASP8\\\": 6,\\n    \\\"CDC42\\\": 7,\\n    \\\"CDKN1A\\\": 8,\\n    \\\"CEBPA\\\": 9,\\n    \\\"CREB1\\\": 10,\\n    \\\"CSNK1E\\\": 11,\\n    \\\"CXXC4\\\": 12,\\n    \\\"DIABLO\\\": 13,\\n    \\\"E2F1\\\": 14,\\n    \\\"ELK1\\\": 15,\\n    \\\"EMPTY\\\": 16,\\n    \\\"ERG\\\": 17,\\n    \\\"FGFR3\\\": 18,\\n    \\\"FOXO1\\\": 19,\\n    \\\"GLI1\\\": 20,\\n    \\\"HRAS\\\": 21,\\n    \\\"IRAK4\\\": 22,\\n    \\\"JUN\\\": 23,\\n    \\\"KRAS\\\": 24,\\n    \\\"MAP2K3\\\": 25,\\n    \\\"MAP3K2\\\": 26,\\n    \\\"MAP3K5\\\": 27,\\n    \\\"MAP3K9\\\": 28,\\n    \\\"MAPK7\\\": 29,\\n    \\\"MOS\\\": 30,\\n    \\\"MYD88\\\": 31,\\n    \\\"PIK3R2\\\": 32,\\n    \\\"PKIA\\\": 33,\\n    \\\"PRKACA\\\": 34,\\n    \\\"PRKCE\\\": 35,\\n    \\\"RAF1\\\": 36,\\n    \\\"RELB\\\": 37,\\n    \\\"RHOA\\\": 38,\\n    \\\"SMAD3\\\": 39,\\n    \\\"SMAD4\\\": 40,\\n    \\\"SMO\\\": 41,\\n    \\\"SRC\\\": 42,\\n    \\\"SREBF1\\\": 43,\\n    \\\"TRAF2\\\": 44,\\n    \\\"TSC2\\\": 45,\\n    \\\"WWTR1\\\": 46,\\n}\\n\\nlabel_dict = {v: k for k, v in label_dict.items()}\\n\\n\\nimg_embs_dict = {}\\nfor i in range(4):\\n    img_embs = pd.read_hdf(\\n        \\\"../../../data/experiments/image_embeddings/specificity_target_emb_cv_strat/final_1024/fold_{}/test_latents.h5\\\".format(\\n            i\\n        )\\n    )\\n    img_embs.iloc[:, -1] = img_embs.iloc[:, -1].map(label_dict)\\n    img_embs_dict[\\\"fold{}\\\".format(i)] = img_embs\";\n",
       "                var nbb_cells = Jupyter.notebook.get_cells();\n",
       "                for (var i = 0; i < nbb_cells.length; ++i) {\n",
       "                    if (nbb_cells[i].input_prompt_number == nbb_cell_id) {\n",
       "                        if (nbb_cells[i].get_text() == nbb_unformatted_code) {\n",
       "                             nbb_cells[i].set_text(nbb_formatted_code);\n",
       "                        }\n",
       "                        break;\n",
       "                    }\n",
       "                }\n",
       "            }, 500);\n",
       "            "
      ],
      "text/plain": [
       "<IPython.core.display.Javascript object>"
      ]
     },
     "metadata": {},
     "output_type": "display_data"
    }
   ],
   "source": [
    "label_dict = {\n",
    "    \"AKT1S1\": 0,\n",
    "    \"APC\": 1,\n",
    "    \"ATF4\": 2,\n",
    "    \"BAX\": 3,\n",
    "    \"BCL2L11\": 4,\n",
    "    \"BRAF\": 5,\n",
    "    \"CASP8\": 6,\n",
    "    \"CDC42\": 7,\n",
    "    \"CDKN1A\": 8,\n",
    "    \"CEBPA\": 9,\n",
    "    \"CREB1\": 10,\n",
    "    \"CSNK1E\": 11,\n",
    "    \"CXXC4\": 12,\n",
    "    \"DIABLO\": 13,\n",
    "    \"E2F1\": 14,\n",
    "    \"ELK1\": 15,\n",
    "    \"EMPTY\": 16,\n",
    "    \"ERG\": 17,\n",
    "    \"FGFR3\": 18,\n",
    "    \"FOXO1\": 19,\n",
    "    \"GLI1\": 20,\n",
    "    \"HRAS\": 21,\n",
    "    \"IRAK4\": 22,\n",
    "    \"JUN\": 23,\n",
    "    \"KRAS\": 24,\n",
    "    \"MAP2K3\": 25,\n",
    "    \"MAP3K2\": 26,\n",
    "    \"MAP3K5\": 27,\n",
    "    \"MAP3K9\": 28,\n",
    "    \"MAPK7\": 29,\n",
    "    \"MOS\": 30,\n",
    "    \"MYD88\": 31,\n",
    "    \"PIK3R2\": 32,\n",
    "    \"PKIA\": 33,\n",
    "    \"PRKACA\": 34,\n",
    "    \"PRKCE\": 35,\n",
    "    \"RAF1\": 36,\n",
    "    \"RELB\": 37,\n",
    "    \"RHOA\": 38,\n",
    "    \"SMAD3\": 39,\n",
    "    \"SMAD4\": 40,\n",
    "    \"SMO\": 41,\n",
    "    \"SRC\": 42,\n",
    "    \"SREBF1\": 43,\n",
    "    \"TRAF2\": 44,\n",
    "    \"TSC2\": 45,\n",
    "    \"WWTR1\": 46,\n",
    "}\n",
    "\n",
    "label_dict = {v: k for k, v in label_dict.items()}\n",
    "\n",
    "\n",
    "img_embs_dict = {}\n",
    "for i in range(4):\n",
    "    img_embs = pd.read_hdf(\n",
    "        \"../../../data/experiments/image_embeddings/specificity_target_emb_cv_strat/final_1024/fold_{}/test_latents.h5\".format(\n",
    "            i\n",
    "        )\n",
    "    )\n",
    "    img_embs.iloc[:, -1] = img_embs.iloc[:, -1].map(label_dict)\n",
    "    img_embs_dict[\"fold{}\".format(i)] = img_embs"
   ]
  },
  {
   "cell_type": "code",
   "execution_count": 9,
   "id": "adb0e0bb",
   "metadata": {},
   "outputs": [
    {
     "data": {
      "application/javascript": [
       "\n",
       "            setTimeout(function() {\n",
       "                var nbb_cell_id = 9;\n",
       "                var nbb_unformatted_code = \"img_node_embs_dict = {}\\nshared_targets = set(node_embs.index).intersection(label_dict.values())\\nfor i in range(4):\\n    filtered_img_embs = img_embs_dict[\\\"fold{}\\\".format(i)]\\n    filtered_img_embs = filtered_img_embs.loc[\\n        filtered_img_embs.labels.isin(shared_targets)\\n    ]\\n    filtered_node_embs = node_embs.loc[filtered_img_embs.labels]\\n    filtered_img_embs = filtered_img_embs.iloc[:, :-1]\\n    img_node_embs_dict[\\\"fold{}\\\".format(i)] = filtered_img_embs, filtered_node_embs\";\n",
       "                var nbb_formatted_code = \"img_node_embs_dict = {}\\nshared_targets = set(node_embs.index).intersection(label_dict.values())\\nfor i in range(4):\\n    filtered_img_embs = img_embs_dict[\\\"fold{}\\\".format(i)]\\n    filtered_img_embs = filtered_img_embs.loc[\\n        filtered_img_embs.labels.isin(shared_targets)\\n    ]\\n    filtered_node_embs = node_embs.loc[filtered_img_embs.labels]\\n    filtered_img_embs = filtered_img_embs.iloc[:, :-1]\\n    img_node_embs_dict[\\\"fold{}\\\".format(i)] = filtered_img_embs, filtered_node_embs\";\n",
       "                var nbb_cells = Jupyter.notebook.get_cells();\n",
       "                for (var i = 0; i < nbb_cells.length; ++i) {\n",
       "                    if (nbb_cells[i].input_prompt_number == nbb_cell_id) {\n",
       "                        if (nbb_cells[i].get_text() == nbb_unformatted_code) {\n",
       "                             nbb_cells[i].set_text(nbb_formatted_code);\n",
       "                        }\n",
       "                        break;\n",
       "                    }\n",
       "                }\n",
       "            }, 500);\n",
       "            "
      ],
      "text/plain": [
       "<IPython.core.display.Javascript object>"
      ]
     },
     "metadata": {},
     "output_type": "display_data"
    }
   ],
   "source": [
    "img_node_embs_dict = {}\n",
    "shared_targets = set(node_embs.index).intersection(label_dict.values())\n",
    "for i in range(4):\n",
    "    filtered_img_embs = img_embs_dict[\"fold{}\".format(i)]\n",
    "    filtered_img_embs = filtered_img_embs.loc[\n",
    "        filtered_img_embs.labels.isin(shared_targets)\n",
    "    ]\n",
    "    filtered_node_embs = node_embs.loc[filtered_img_embs.labels]\n",
    "    filtered_img_embs = filtered_img_embs.iloc[:, :-1]\n",
    "    img_node_embs_dict[\"fold{}\".format(i)] = filtered_img_embs, filtered_node_embs"
   ]
  },
  {
   "cell_type": "markdown",
   "id": "20317fe7",
   "metadata": {},
   "source": [
    "---\n",
    "\n",
    "## 3. Exploratory data analysis"
   ]
  },
  {
   "cell_type": "markdown",
   "id": "f81b58f4",
   "metadata": {},
   "source": [
    "As a first step, we will look at the distribution of the labels in the held-out data of the different folds to better understand how the distribution varies across folds. Note that the data was split in a stratified manner such that the total number of nuclei is roughly the same across folds yet nuclei from the same image are guaranteed to end up in the same image. Thus, we expect some class imbalance across the different folds."
   ]
  },
  {
   "cell_type": "code",
   "execution_count": 10,
   "id": "b04b05ae",
   "metadata": {},
   "outputs": [
    {
     "data": {
      "application/javascript": [
       "\n",
       "            setTimeout(function() {\n",
       "                var nbb_cell_id = 10;\n",
       "                var nbb_unformatted_code = \"label_counts = []\\nlabels = []\\nfolds = []\\nfold_keys = list(img_embs_dict.keys())\\nfor i in range(len(fold_keys)):\\n    label_count = img_embs_dict[fold_keys[i]][\\\"labels\\\"].value_counts()\\n    folds.extend([str(i)] * len(label_count))\\n    label_counts.append(label_count)\\n    labels.extend(list(label_count.index))\\nlabel_counts = pd.DataFrame(np.array(pd.concat(label_counts)), columns=[\\\"count\\\"])\\nlabel_counts[\\\"label\\\"] = list(labels)\\nlabel_counts[\\\"fold\\\"] = folds\";\n",
       "                var nbb_formatted_code = \"label_counts = []\\nlabels = []\\nfolds = []\\nfold_keys = list(img_embs_dict.keys())\\nfor i in range(len(fold_keys)):\\n    label_count = img_embs_dict[fold_keys[i]][\\\"labels\\\"].value_counts()\\n    folds.extend([str(i)] * len(label_count))\\n    label_counts.append(label_count)\\n    labels.extend(list(label_count.index))\\nlabel_counts = pd.DataFrame(np.array(pd.concat(label_counts)), columns=[\\\"count\\\"])\\nlabel_counts[\\\"label\\\"] = list(labels)\\nlabel_counts[\\\"fold\\\"] = folds\";\n",
       "                var nbb_cells = Jupyter.notebook.get_cells();\n",
       "                for (var i = 0; i < nbb_cells.length; ++i) {\n",
       "                    if (nbb_cells[i].input_prompt_number == nbb_cell_id) {\n",
       "                        if (nbb_cells[i].get_text() == nbb_unformatted_code) {\n",
       "                             nbb_cells[i].set_text(nbb_formatted_code);\n",
       "                        }\n",
       "                        break;\n",
       "                    }\n",
       "                }\n",
       "            }, 500);\n",
       "            "
      ],
      "text/plain": [
       "<IPython.core.display.Javascript object>"
      ]
     },
     "metadata": {},
     "output_type": "display_data"
    }
   ],
   "source": [
    "label_counts = []\n",
    "labels = []\n",
    "folds = []\n",
    "fold_keys = list(img_embs_dict.keys())\n",
    "for i in range(len(fold_keys)):\n",
    "    label_count = img_embs_dict[fold_keys[i]][\"labels\"].value_counts()\n",
    "    folds.extend([str(i)] * len(label_count))\n",
    "    label_counts.append(label_count)\n",
    "    labels.extend(list(label_count.index))\n",
    "label_counts = pd.DataFrame(np.array(pd.concat(label_counts)), columns=[\"count\"])\n",
    "label_counts[\"label\"] = list(labels)\n",
    "label_counts[\"fold\"] = folds"
   ]
  },
  {
   "cell_type": "code",
   "execution_count": 11,
   "id": "8ee0f10d",
   "metadata": {},
   "outputs": [
    {
     "data": {
      "image/png": "[encoded data removed]",
      "text/plain": [
       "<Figure size 1080x576 with 1 Axes>"
      ]
     },
     "metadata": {
      "needs_background": "light"
     },
     "output_type": "display_data"
    },
    {
     "data": {
      "application/javascript": [
       "\n",
       "            setTimeout(function() {\n",
       "                var nbb_cell_id = 11;\n",
       "                var nbb_unformatted_code = \"fig, ax = plt.subplots(figsize=[15, 8])\\nax = sns.scatterplot(data=label_counts, x=\\\"label\\\", y=\\\"count\\\", hue=\\\"fold\\\", ax=ax)\\nplt.xticks(rotation=90)\\nplt.show()\";\n",
       "                var nbb_formatted_code = \"fig, ax = plt.subplots(figsize=[15, 8])\\nax = sns.scatterplot(data=label_counts, x=\\\"label\\\", y=\\\"count\\\", hue=\\\"fold\\\", ax=ax)\\nplt.xticks(rotation=90)\\nplt.show()\";\n",
       "                var nbb_cells = Jupyter.notebook.get_cells();\n",
       "                for (var i = 0; i < nbb_cells.length; ++i) {\n",
       "                    if (nbb_cells[i].input_prompt_number == nbb_cell_id) {\n",
       "                        if (nbb_cells[i].get_text() == nbb_unformatted_code) {\n",
       "                             nbb_cells[i].set_text(nbb_formatted_code);\n",
       "                        }\n",
       "                        break;\n",
       "                    }\n",
       "                }\n",
       "            }, 500);\n",
       "            "
      ],
      "text/plain": [
       "<IPython.core.display.Javascript object>"
      ]
     },
     "metadata": {},
     "output_type": "display_data"
    }
   ],
   "source": [
    "fig, ax = plt.subplots(figsize=[15, 8])\n",
    "ax = sns.scatterplot(data=label_counts, x=\"label\", y=\"count\", hue=\"fold\", ax=ax)\n",
    "plt.xticks(rotation=90)\n",
    "plt.show()"
   ]
  },
  {
   "cell_type": "markdown",
   "id": "4d0352bd",
   "metadata": {},
   "source": [
    "As mentioned earlier there is quite some variance in the relative distribution of the individual conditions. For instance we have roughly 2700 samples of MAP3K5 as the majority class in fold 2 and just 1600-1800 in the remaining folds. We are working on improving that."
   ]
  },
  {
   "cell_type": "markdown",
   "id": "9e4a88f0",
   "metadata": {},
   "source": [
    "---\n",
    "\n",
    "## 4. Translational analyses\n",
    "\n",
    "We will now use the different embeddings of the three different folds in order to model the link between the regulatory and structural space, by given a structural embedding predict the corresponding regulatory embedding. To this end, we will train a linear model for each held-out fold data. To assess the performance, we will evaluate the mapping in three distinct settings:\n",
    "1. Split the data on a single-nuclei basis, i.e. samples of the same overexpression condition might end up in both the training, validation and test set.\n",
    "2. Split the data on a OE condition level, i.e. samples of the a certain overexpression condition will be ending up in either of the training, validation and test set.\n",
    "3. Leave-one-target out cross-validation"
   ]
  },
  {
   "cell_type": "markdown",
   "id": "aebd8d1e",
   "metadata": {},
   "source": [
    "We will quickly setup the linear model as well as the corresponding optimizer used for that inference."
   ]
  },
  {
   "cell_type": "code",
   "execution_count": 12,
   "id": "1483b8ad",
   "metadata": {},
   "outputs": [
    {
     "data": {
      "application/javascript": [
       "\n",
       "            setTimeout(function() {\n",
       "                var nbb_cell_id = 12;\n",
       "                var nbb_unformatted_code = \"model = nn.Sequential(\\n    #nn.Linear(1024, 1024),\\n    #nn.PReLU(),\\n    #nn.BatchNorm1d(1024),\\n    nn.Linear(1024, 128),\\n)\\noptimizer = Adam(model.parameters(), lr=1e-4)\\ncriterion = nn.MSELoss()\";\n",
       "                var nbb_formatted_code = \"model = nn.Sequential(\\n    # nn.Linear(1024, 1024),\\n    # nn.PReLU(),\\n    # nn.BatchNorm1d(1024),\\n    nn.Linear(1024, 128),\\n)\\noptimizer = Adam(model.parameters(), lr=1e-4)\\ncriterion = nn.MSELoss()\";\n",
       "                var nbb_cells = Jupyter.notebook.get_cells();\n",
       "                for (var i = 0; i < nbb_cells.length; ++i) {\n",
       "                    if (nbb_cells[i].input_prompt_number == nbb_cell_id) {\n",
       "                        if (nbb_cells[i].get_text() == nbb_unformatted_code) {\n",
       "                             nbb_cells[i].set_text(nbb_formatted_code);\n",
       "                        }\n",
       "                        break;\n",
       "                    }\n",
       "                }\n",
       "            }, 500);\n",
       "            "
      ],
      "text/plain": [
       "<IPython.core.display.Javascript object>"
      ]
     },
     "metadata": {},
     "output_type": "display_data"
    }
   ],
   "source": [
    "model = nn.Sequential(\n",
    "    # nn.Linear(1024, 1024),\n",
    "    # nn.PReLU(),\n",
    "    # nn.BatchNorm1d(1024),\n",
    "    nn.Linear(1024, 128),\n",
    ")\n",
    "optimizer = Adam(model.parameters(), lr=1e-4)\n",
    "criterion = nn.MSELoss()"
   ]
  },
  {
   "cell_type": "markdown",
   "id": "9d816694",
   "metadata": {},
   "source": [
    "---\n",
    "\n",
    "### 4.1. Baseline prediction: Nuclei split"
   ]
  },
  {
   "cell_type": "markdown",
   "id": "667d6396",
   "metadata": {},
   "source": [
    "We start of with splitting the data into a training, validation and testing set without distinguishing between OE conditions. This will serve as a baseline of how well we can translate between the two spaces within sample."
   ]
  },
  {
   "cell_type": "code",
   "execution_count": 13,
   "id": "ee2ef041",
   "metadata": {},
   "outputs": [
    {
     "data": {
      "application/javascript": [
       "\n",
       "            setTimeout(function() {\n",
       "                var nbb_cell_id = 13;\n",
       "                var nbb_unformatted_code = \"img_embs_fold0, node_embs_fold0 = img_node_embs_dict[\\\"fold0\\\"]\";\n",
       "                var nbb_formatted_code = \"img_embs_fold0, node_embs_fold0 = img_node_embs_dict[\\\"fold0\\\"]\";\n",
       "                var nbb_cells = Jupyter.notebook.get_cells();\n",
       "                for (var i = 0; i < nbb_cells.length; ++i) {\n",
       "                    if (nbb_cells[i].input_prompt_number == nbb_cell_id) {\n",
       "                        if (nbb_cells[i].get_text() == nbb_unformatted_code) {\n",
       "                             nbb_cells[i].set_text(nbb_formatted_code);\n",
       "                        }\n",
       "                        break;\n",
       "                    }\n",
       "                }\n",
       "            }, 500);\n",
       "            "
      ],
      "text/plain": [
       "<IPython.core.display.Javascript object>"
      ]
     },
     "metadata": {},
     "output_type": "display_data"
    }
   ],
   "source": [
    "img_embs_fold0, node_embs_fold0 = img_node_embs_dict[\"fold0\"]"
   ]
  },
  {
   "cell_type": "code",
   "execution_count": 14,
   "id": "0a350e1b",
   "metadata": {},
   "outputs": [
    {
     "data": {
      "application/javascript": [
       "\n",
       "            setTimeout(function() {\n",
       "                var nbb_cell_id = 14;\n",
       "                var nbb_unformatted_code = \"data_dict = get_data_dict(\\n    data=img_embs_fold0,\\n    labels=node_embs_fold0,\\n    val_test_size=[0.2, 0.2],\\n    group_labels=None,\\n    batch_size=128,\\n)\";\n",
       "                var nbb_formatted_code = \"data_dict = get_data_dict(\\n    data=img_embs_fold0,\\n    labels=node_embs_fold0,\\n    val_test_size=[0.2, 0.2],\\n    group_labels=None,\\n    batch_size=128,\\n)\";\n",
       "                var nbb_cells = Jupyter.notebook.get_cells();\n",
       "                for (var i = 0; i < nbb_cells.length; ++i) {\n",
       "                    if (nbb_cells[i].input_prompt_number == nbb_cell_id) {\n",
       "                        if (nbb_cells[i].get_text() == nbb_unformatted_code) {\n",
       "                             nbb_cells[i].set_text(nbb_formatted_code);\n",
       "                        }\n",
       "                        break;\n",
       "                    }\n",
       "                }\n",
       "            }, 500);\n",
       "            "
      ],
      "text/plain": [
       "<IPython.core.display.Javascript object>"
      ]
     },
     "metadata": {},
     "output_type": "display_data"
    }
   ],
   "source": [
    "data_dict = get_data_dict(\n",
    "    data=img_embs_fold0,\n",
    "    labels=node_embs_fold0,\n",
    "    val_test_size=[0.2, 0.2],\n",
    "    group_labels=None,\n",
    "    batch_size=128,\n",
    ")"
   ]
  },
  {
   "cell_type": "code",
   "execution_count": 15,
   "id": "3918f4a3",
   "metadata": {
    "scrolled": true
   },
   "outputs": [
    {
     "name": "stdout",
     "output_type": "stream",
     "text": [
      "TRAIN loss: 0.0024089843958433046\n",
      "VAL loss: 0.0025845410981688833\n",
      "TEST loss: 0.002549888309453173\n"
     ]
    },
    {
     "data": {
      "application/javascript": [
       "\n",
       "            setTimeout(function() {\n",
       "                var nbb_cell_id = 15;\n",
       "                var nbb_unformatted_code = \"fitted_model = train_model(\\n    model=model,\\n    data_dict=data_dict,\\n    optimizer=optimizer,\\n    criterion=criterion,\\n    n_epochs=1000,\\n    early_stopping=20,\\n)\";\n",
       "                var nbb_formatted_code = \"fitted_model = train_model(\\n    model=model,\\n    data_dict=data_dict,\\n    optimizer=optimizer,\\n    criterion=criterion,\\n    n_epochs=1000,\\n    early_stopping=20,\\n)\";\n",
       "                var nbb_cells = Jupyter.notebook.get_cells();\n",
       "                for (var i = 0; i < nbb_cells.length; ++i) {\n",
       "                    if (nbb_cells[i].input_prompt_number == nbb_cell_id) {\n",
       "                        if (nbb_cells[i].get_text() == nbb_unformatted_code) {\n",
       "                             nbb_cells[i].set_text(nbb_formatted_code);\n",
       "                        }\n",
       "                        break;\n",
       "                    }\n",
       "                }\n",
       "            }, 500);\n",
       "            "
      ],
      "text/plain": [
       "<IPython.core.display.Javascript object>"
      ]
     },
     "metadata": {},
     "output_type": "display_data"
    }
   ],
   "source": [
    "fitted_model = train_model(\n",
    "    model=model,\n",
    "    data_dict=data_dict,\n",
    "    optimizer=optimizer,\n",
    "    criterion=criterion,\n",
    "    n_epochs=1000,\n",
    "    early_stopping=20,\n",
    ")"
   ]
  },
  {
   "cell_type": "code",
   "execution_count": 16,
   "id": "2f1d98e6",
   "metadata": {},
   "outputs": [
    {
     "name": "stdout",
     "output_type": "stream",
     "text": [
      "TRAIN top-[1, 3, 5, 10, 20, 50] accuracies: [0.0847 0.1519 0.1962 0.2717 0.3681 0.5607]\n",
      "TRAIN top-[1, 3, 5, 10, 20, 50] baseline accuracies: [0.0038 0.012  0.0212 0.0409 0.0782 0.1843]\n",
      " \n",
      "VAL top-[1, 3, 5, 10, 20, 50] accuracies: [0.0712 0.1322 0.1739 0.2421 0.3375 0.5339]\n",
      "VAL top-[1, 3, 5, 10, 20, 50] baseline accuracies: [0.0044 0.012  0.0204 0.0438 0.0776 0.1824]\n",
      " \n",
      "TEST top-[1, 3, 5, 10, 20, 50] accuracies: [0.0794 0.1396 0.1803 0.2492 0.3458 0.5359]\n",
      "TEST top-[1, 3, 5, 10, 20, 50] baseline accuracies: [0.0056 0.0111 0.0247 0.0402 0.078  0.1813]\n",
      " \n"
     ]
    },
    {
     "data": {
      "application/javascript": [
       "\n",
       "            setTimeout(function() {\n",
       "                var nbb_cell_id = 16;\n",
       "                var nbb_unformatted_code = \"ks = [1, 3, 5, 10, 20, 50]\\nfor mode in [\\\"train\\\", \\\"val\\\", \\\"test\\\"]:\\n    topk_accs = []\\n    topk_base_accs = []\\n    preds, labels = get_preds_label_dict(fitted_model, data_dict[mode])\\n    for k in ks:\\n        topk_acc, topk_base_acc = evaluate_top_k_accuracy(preds, labels, node_embs, k=k)\\n        topk_accs.append(topk_acc)\\n        topk_base_accs.append(topk_base_acc)\\n    print(\\\"{} top-{} accuracies: {}\\\".format(mode.upper(), ks, np.round(topk_accs, 4)))\\n    print(\\n        \\\"{} top-{} baseline accuracies: {}\\\".format(\\n            mode.upper(), ks, np.round(topk_base_accs, 4)\\n        )\\n    )\\n    print(\\\" \\\")\";\n",
       "                var nbb_formatted_code = \"ks = [1, 3, 5, 10, 20, 50]\\nfor mode in [\\\"train\\\", \\\"val\\\", \\\"test\\\"]:\\n    topk_accs = []\\n    topk_base_accs = []\\n    preds, labels = get_preds_label_dict(fitted_model, data_dict[mode])\\n    for k in ks:\\n        topk_acc, topk_base_acc = evaluate_top_k_accuracy(preds, labels, node_embs, k=k)\\n        topk_accs.append(topk_acc)\\n        topk_base_accs.append(topk_base_acc)\\n    print(\\\"{} top-{} accuracies: {}\\\".format(mode.upper(), ks, np.round(topk_accs, 4)))\\n    print(\\n        \\\"{} top-{} baseline accuracies: {}\\\".format(\\n            mode.upper(), ks, np.round(topk_base_accs, 4)\\n        )\\n    )\\n    print(\\\" \\\")\";\n",
       "                var nbb_cells = Jupyter.notebook.get_cells();\n",
       "                for (var i = 0; i < nbb_cells.length; ++i) {\n",
       "                    if (nbb_cells[i].input_prompt_number == nbb_cell_id) {\n",
       "                        if (nbb_cells[i].get_text() == nbb_unformatted_code) {\n",
       "                             nbb_cells[i].set_text(nbb_formatted_code);\n",
       "                        }\n",
       "                        break;\n",
       "                    }\n",
       "                }\n",
       "            }, 500);\n",
       "            "
      ],
      "text/plain": [
       "<IPython.core.display.Javascript object>"
      ]
     },
     "metadata": {},
     "output_type": "display_data"
    }
   ],
   "source": [
    "ks = [1, 3, 5, 10, 20, 50]\n",
    "for mode in [\"train\", \"val\", \"test\"]:\n",
    "    topk_accs = []\n",
    "    topk_base_accs = []\n",
    "    preds, labels = get_preds_label_dict(fitted_model, data_dict[mode])\n",
    "    for k in ks:\n",
    "        topk_acc, topk_base_acc = evaluate_top_k_accuracy(preds, labels, node_embs, k=k)\n",
    "        topk_accs.append(topk_acc)\n",
    "        topk_base_accs.append(topk_base_acc)\n",
    "    print(\"{} top-{} accuracies: {}\".format(mode.upper(), ks, np.round(topk_accs, 4)))\n",
    "    print(\n",
    "        \"{} top-{} baseline accuracies: {}\".format(\n",
    "            mode.upper(), ks, np.round(topk_base_accs, 4)\n",
    "        )\n",
    "    )\n",
    "    print(\" \")"
   ]
  },
  {
   "cell_type": "markdown",
   "id": "74ca390a",
   "metadata": {},
   "source": [
    "We see that the top-k accuracy suggest indeed a prediction that is better than naive baseline that simply predicts the k-most frequent targets for k<20 for larger k we see that the baseline outperforms the fitted model. The performances of the model on the training, validation and test set are highly comparable."
   ]
  },
  {
   "cell_type": "markdown",
   "id": "1a0e80a1",
   "metadata": {},
   "source": [
    "---\n",
    "\n",
    "### 4.2. Out-of-sample prediction"
   ]
  },
  {
   "cell_type": "code",
   "execution_count": 17,
   "id": "de19e595",
   "metadata": {},
   "outputs": [
    {
     "data": {
      "application/javascript": [
       "\n",
       "            setTimeout(function() {\n",
       "                var nbb_cell_id = 17;\n",
       "                var nbb_unformatted_code = \"data_dict = get_data_dict(\\n    data=img_embs_fold0,\\n    labels=node_embs_fold0,\\n    val_test_size=[0.2, 0.2],\\n    group_labels=np.array(list(node_embs_fold0.index)),\\n    batch_size=128,\\n)\";\n",
       "                var nbb_formatted_code = \"data_dict = get_data_dict(\\n    data=img_embs_fold0,\\n    labels=node_embs_fold0,\\n    val_test_size=[0.2, 0.2],\\n    group_labels=np.array(list(node_embs_fold0.index)),\\n    batch_size=128,\\n)\";\n",
       "                var nbb_cells = Jupyter.notebook.get_cells();\n",
       "                for (var i = 0; i < nbb_cells.length; ++i) {\n",
       "                    if (nbb_cells[i].input_prompt_number == nbb_cell_id) {\n",
       "                        if (nbb_cells[i].get_text() == nbb_unformatted_code) {\n",
       "                             nbb_cells[i].set_text(nbb_formatted_code);\n",
       "                        }\n",
       "                        break;\n",
       "                    }\n",
       "                }\n",
       "            }, 500);\n",
       "            "
      ],
      "text/plain": [
       "<IPython.core.display.Javascript object>"
      ]
     },
     "metadata": {},
     "output_type": "display_data"
    }
   ],
   "source": [
    "data_dict = get_data_dict(\n",
    "    data=img_embs_fold0,\n",
    "    labels=node_embs_fold0,\n",
    "    val_test_size=[0.2, 0.2],\n",
    "    group_labels=np.array(list(node_embs_fold0.index)),\n",
    "    batch_size=128,\n",
    ")"
   ]
  },
  {
   "cell_type": "code",
   "execution_count": 18,
   "id": "324cfcad",
   "metadata": {},
   "outputs": [
    {
     "data": {
      "application/javascript": [
       "\n",
       "            setTimeout(function() {\n",
       "                var nbb_cell_id = 18;\n",
       "                var nbb_unformatted_code = \"model = nn.Sequential(\\n    #nn.Linear(1024, 1024),\\n    #nn.PReLU(),\\n    #nn.BatchNorm1d(1024),\\n    nn.Linear(1024, 128),\\n)\\noptimizer = Adam(model.parameters(), lr=1e-4)\\ncriterion = nn.MSELoss()\";\n",
       "                var nbb_formatted_code = \"model = nn.Sequential(\\n    # nn.Linear(1024, 1024),\\n    # nn.PReLU(),\\n    # nn.BatchNorm1d(1024),\\n    nn.Linear(1024, 128),\\n)\\noptimizer = Adam(model.parameters(), lr=1e-4)\\ncriterion = nn.MSELoss()\";\n",
       "                var nbb_cells = Jupyter.notebook.get_cells();\n",
       "                for (var i = 0; i < nbb_cells.length; ++i) {\n",
       "                    if (nbb_cells[i].input_prompt_number == nbb_cell_id) {\n",
       "                        if (nbb_cells[i].get_text() == nbb_unformatted_code) {\n",
       "                             nbb_cells[i].set_text(nbb_formatted_code);\n",
       "                        }\n",
       "                        break;\n",
       "                    }\n",
       "                }\n",
       "            }, 500);\n",
       "            "
      ],
      "text/plain": [
       "<IPython.core.display.Javascript object>"
      ]
     },
     "metadata": {},
     "output_type": "display_data"
    }
   ],
   "source": [
    "model = nn.Sequential(\n",
    "    # nn.Linear(1024, 1024),\n",
    "    # nn.PReLU(),\n",
    "    # nn.BatchNorm1d(1024),\n",
    "    nn.Linear(1024, 128),\n",
    ")\n",
    "optimizer = Adam(model.parameters(), lr=1e-4)\n",
    "criterion = nn.MSELoss()"
   ]
  },
  {
   "cell_type": "code",
   "execution_count": 19,
   "id": "c2c8ed9a",
   "metadata": {},
   "outputs": [
    {
     "name": "stdout",
     "output_type": "stream",
     "text": [
      "TRAIN loss: 0.002073925910697071\n",
      "VAL loss: 0.0033777658469031787\n",
      "TEST loss: 0.004834068350213575\n"
     ]
    },
    {
     "data": {
      "application/javascript": [
       "\n",
       "            setTimeout(function() {\n",
       "                var nbb_cell_id = 19;\n",
       "                var nbb_unformatted_code = \"fitted_model = train_model(\\n    model=model,\\n    data_dict=data_dict,\\n    optimizer=optimizer,\\n    criterion=criterion,\\n    n_epochs=1000,\\n    early_stopping=20,\\n)\";\n",
       "                var nbb_formatted_code = \"fitted_model = train_model(\\n    model=model,\\n    data_dict=data_dict,\\n    optimizer=optimizer,\\n    criterion=criterion,\\n    n_epochs=1000,\\n    early_stopping=20,\\n)\";\n",
       "                var nbb_cells = Jupyter.notebook.get_cells();\n",
       "                for (var i = 0; i < nbb_cells.length; ++i) {\n",
       "                    if (nbb_cells[i].input_prompt_number == nbb_cell_id) {\n",
       "                        if (nbb_cells[i].get_text() == nbb_unformatted_code) {\n",
       "                             nbb_cells[i].set_text(nbb_formatted_code);\n",
       "                        }\n",
       "                        break;\n",
       "                    }\n",
       "                }\n",
       "            }, 500);\n",
       "            "
      ],
      "text/plain": [
       "<IPython.core.display.Javascript object>"
      ]
     },
     "metadata": {},
     "output_type": "display_data"
    }
   ],
   "source": [
    "fitted_model = train_model(\n",
    "    model=model,\n",
    "    data_dict=data_dict,\n",
    "    optimizer=optimizer,\n",
    "    criterion=criterion,\n",
    "    n_epochs=1000,\n",
    "    early_stopping=20,\n",
    ")"
   ]
  },
  {
   "cell_type": "code",
   "execution_count": 20,
   "id": "58e98536",
   "metadata": {},
   "outputs": [
    {
     "name": "stdout",
     "output_type": "stream",
     "text": [
      "TRAIN top-[1, 3, 5, 10, 20, 50] accuracies: [0.1165 0.1938 0.2416 0.3298 0.4473 0.6495]\n",
      " \n",
      "VAL top-[1, 3, 5, 10, 20, 50] accuracies: [0.0865 0.1671 0.22   0.3028 0.3893 0.5264]\n",
      " \n",
      "TEST top-[1, 3, 5, 10, 20, 50] accuracies: [0.0672 0.1127 0.1487 0.224  0.3208 0.4723]\n",
      " \n"
     ]
    },
    {
     "data": {
      "application/javascript": [
       "\n",
       "            setTimeout(function() {\n",
       "                var nbb_cell_id = 20;\n",
       "                var nbb_unformatted_code = \"ks = [1, 3, 5, 10, 20, 50]\\nfor mode in [\\\"train\\\", \\\"val\\\", \\\"test\\\"]:\\n    topk_accs = []\\n    topk_base_accs = []\\n    preds, labels = get_preds_label_dict(fitted_model, data_dict[mode])\\n    for k in ks:\\n        topk_acc, topk_base_acc = evaluate_top_k_accuracy(preds, labels, node_embs, k=k)\\n        topk_accs.append(topk_acc)\\n        topk_base_accs.append(topk_base_acc)\\n    print(\\\"{} top-{} accuracies: {}\\\".format(mode.upper(), ks, np.round(topk_accs, 4)))\\n    #     print(\\n    #         \\\"{} top-{} baseline accuracies: {}\\\".format(\\n    #             mode.upper(), ks, np.round(topk_base_accs, 4)\\n    #         )\\n    #     )\\n    print(\\\" \\\")\";\n",
       "                var nbb_formatted_code = \"ks = [1, 3, 5, 10, 20, 50]\\nfor mode in [\\\"train\\\", \\\"val\\\", \\\"test\\\"]:\\n    topk_accs = []\\n    topk_base_accs = []\\n    preds, labels = get_preds_label_dict(fitted_model, data_dict[mode])\\n    for k in ks:\\n        topk_acc, topk_base_acc = evaluate_top_k_accuracy(preds, labels, node_embs, k=k)\\n        topk_accs.append(topk_acc)\\n        topk_base_accs.append(topk_base_acc)\\n    print(\\\"{} top-{} accuracies: {}\\\".format(mode.upper(), ks, np.round(topk_accs, 4)))\\n    #     print(\\n    #         \\\"{} top-{} baseline accuracies: {}\\\".format(\\n    #             mode.upper(), ks, np.round(topk_base_accs, 4)\\n    #         )\\n    #     )\\n    print(\\\" \\\")\";\n",
       "                var nbb_cells = Jupyter.notebook.get_cells();\n",
       "                for (var i = 0; i < nbb_cells.length; ++i) {\n",
       "                    if (nbb_cells[i].input_prompt_number == nbb_cell_id) {\n",
       "                        if (nbb_cells[i].get_text() == nbb_unformatted_code) {\n",
       "                             nbb_cells[i].set_text(nbb_formatted_code);\n",
       "                        }\n",
       "                        break;\n",
       "                    }\n",
       "                }\n",
       "            }, 500);\n",
       "            "
      ],
      "text/plain": [
       "<IPython.core.display.Javascript object>"
      ]
     },
     "metadata": {},
     "output_type": "display_data"
    }
   ],
   "source": [
    "ks = [1, 3, 5, 10, 20, 50]\n",
    "for mode in [\"train\", \"val\", \"test\"]:\n",
    "    topk_accs = []\n",
    "    topk_base_accs = []\n",
    "    preds, labels = get_preds_label_dict(fitted_model, data_dict[mode])\n",
    "    for k in ks:\n",
    "        topk_acc, topk_base_acc = evaluate_top_k_accuracy(preds, labels, node_embs, k=k)\n",
    "        topk_accs.append(topk_acc)\n",
    "        topk_base_accs.append(topk_base_acc)\n",
    "    print(\"{} top-{} accuracies: {}\".format(mode.upper(), ks, np.round(topk_accs, 4)))\n",
    "    print(\" \")"
   ]
  },
  {
   "cell_type": "markdown",
   "id": "9e5dab2e",
   "metadata": {},
   "source": [
    "Note that for the held-out configuration the baseline accuracies are not reliable as those correspond to the most frequent classes in the corresponding data set."
   ]
  },
  {
   "cell_type": "markdown",
   "id": "a5ce4738",
   "metadata": {},
   "source": [
    "---\n",
    "\n",
    "### 4.3. Leave-one-out cross-validation"
   ]
  },
  {
   "cell_type": "markdown",
   "id": "bf9d443e",
   "metadata": {},
   "source": [
    "Finally, we will apply leave-one-target out crossvalidation."
   ]
  },
  {
   "cell_type": "code",
   "execution_count": 22,
   "id": "d7cb850f",
   "metadata": {},
   "outputs": [
    {
     "data": {
      "application/javascript": [
       "\n",
       "            setTimeout(function() {\n",
       "                var nbb_cell_id = 22;\n",
       "                var nbb_unformatted_code = \"data_dicts = get_logo_data_dicts(\\n    data=img_embs_fold0,\\n    labels=node_embs_fold0,\\n    val_size=0.1,\\n    group_labels=np.array(list(node_embs_fold0.index)),\\n    batch_size=128,\\n)\";\n",
       "                var nbb_formatted_code = \"data_dicts = get_logo_data_dicts(\\n    data=img_embs_fold0,\\n    labels=node_embs_fold0,\\n    val_size=0.1,\\n    group_labels=np.array(list(node_embs_fold0.index)),\\n    batch_size=128,\\n)\";\n",
       "                var nbb_cells = Jupyter.notebook.get_cells();\n",
       "                for (var i = 0; i < nbb_cells.length; ++i) {\n",
       "                    if (nbb_cells[i].input_prompt_number == nbb_cell_id) {\n",
       "                        if (nbb_cells[i].get_text() == nbb_unformatted_code) {\n",
       "                             nbb_cells[i].set_text(nbb_formatted_code);\n",
       "                        }\n",
       "                        break;\n",
       "                    }\n",
       "                }\n",
       "            }, 500);\n",
       "            "
      ],
      "text/plain": [
       "<IPython.core.display.Javascript object>"
      ]
     },
     "metadata": {},
     "output_type": "display_data"
    }
   ],
   "source": [
    "data_dicts = get_logo_data_dicts(\n",
    "    data=img_embs_fold0,\n",
    "    labels=node_embs_fold0,\n",
    "    val_size=0.1,\n",
    "    group_labels=np.array(list(node_embs_fold0.index)),\n",
    "    batch_size=128,\n",
    ")"
   ]
  },
  {
   "cell_type": "code",
   "execution_count": 23,
   "id": "90ce9795",
   "metadata": {
    "scrolled": true
   },
   "outputs": [
    {
     "name": "stderr",
     "output_type": "stream",
     "text": [
      "\r",
      "  0%|          | 0/43 [00:00<?, ?it/s]"
     ]
    },
    {
     "name": "stdout",
     "output_type": "stream",
     "text": [
      "TRAIN loss: 0.002674380767116989\n",
      "VAL loss: 0.0023540252707464323\n",
      "TEST loss: 0.0007934269860363853\n",
      "TRAIN top-[1, 3, 5, 10, 20, 50] accuracies: [0.0893 0.1593 0.2037 0.2826 0.3788 0.5604]\n",
      "---\n",
      "VAL top-[1, 3, 5, 10, 20, 50] accuracies: [0.049  0.1027 0.1359 0.1924 0.2678 0.464 ]\n",
      "---\n",
      "Left-out label: AKT1S1\n"
     ]
    },
    {
     "name": "stderr",
     "output_type": "stream",
     "text": [
      "\r",
      "  2%|▏         | 1/43 [00:25<17:35, 25.14s/it]"
     ]
    },
    {
     "name": "stdout",
     "output_type": "stream",
     "text": [
      "TEST top-[1, 3, 5, 10, 20, 50] accuracies: [0.4336 0.6698 0.7971 0.9429 0.9907 1.    ]\n",
      "---\n",
      "TRAIN loss: 0.002366954278554439\n",
      "VAL loss: 0.005698320985887089\n",
      "TEST loss: 0.005367566192496329\n",
      "TRAIN top-[1, 3, 5, 10, 20, 50] accuracies: [0.103  0.1813 0.2266 0.3072 0.4043 0.5872]\n",
      "---\n"
     ]
    },
    {
     "name": "stderr",
     "output_type": "stream",
     "text": [
      "\r",
      "  5%|▍         | 2/43 [00:48<16:16, 23.83s/it]"
     ]
    },
    {
     "name": "stdout",
     "output_type": "stream",
     "text": [
      "VAL top-[1, 3, 5, 10, 20, 50] accuracies: [0.0236 0.0488 0.0626 0.0959 0.138  0.2857]\n",
      "---\n",
      "Left-out label: APC\n",
      "TEST top-[1, 3, 5, 10, 20, 50] accuracies: [0.0016 0.0047 0.011  0.033  0.0424 0.0911]\n",
      "---\n",
      "TRAIN loss: 0.002558244854473387\n",
      "VAL loss: 0.0026467685921980114\n",
      "TEST loss: 0.0019208511538049088\n",
      "TRAIN top-[1, 3, 5, 10, 20, 50] accuracies: [0.0911 0.1616 0.2069 0.2836 0.3774 0.5553]\n",
      "---\n",
      "VAL top-[1, 3, 5, 10, 20, 50] accuracies: [0.0546 0.1119 0.1448 0.2028 0.268  0.4468]\n",
      "---\n",
      "Left-out label: ATF4\n"
     ]
    },
    {
     "name": "stderr",
     "output_type": "stream",
     "text": [
      "\r",
      "  7%|▋         | 3/43 [01:16<17:11, 25.78s/it]"
     ]
    },
    {
     "name": "stdout",
     "output_type": "stream",
     "text": [
      "TEST top-[1, 3, 5, 10, 20, 50] accuracies: [0.0135 0.0422 0.054  0.092  0.2076 0.5722]\n",
      "---\n",
      "TRAIN loss: 0.0023964676466645234\n",
      "VAL loss: 0.005039473445020051\n",
      "TEST loss: 0.002474043370251566\n",
      "TRAIN top-[1, 3, 5, 10, 20, 50] accuracies: [0.0979 0.1765 0.2225 0.3026 0.3987 0.5778]\n",
      "---\n",
      "VAL top-[1, 3, 5, 10, 20, 50] accuracies: [0.0337 0.0669 0.0944 0.1326 0.1839 0.329 ]\n",
      "---\n",
      "Left-out label: BAX\n"
     ]
    },
    {
     "name": "stderr",
     "output_type": "stream",
     "text": [
      "\r",
      "  9%|▉         | 4/43 [01:41<16:38, 25.61s/it]"
     ]
    },
    {
     "name": "stdout",
     "output_type": "stream",
     "text": [
      "TEST top-[1, 3, 5, 10, 20, 50] accuracies: [0.0831 0.1082 0.1266 0.1425 0.1741 0.2968]\n",
      "---\n",
      "TRAIN loss: 0.002594062267248387\n",
      "VAL loss: 0.006368750876962465\n",
      "TEST loss: 0.002946458609644757\n",
      "TRAIN top-[1, 3, 5, 10, 20, 50] accuracies: [0.0972 0.1701 0.216  0.297  0.3994 0.5927]\n",
      "---\n"
     ]
    },
    {
     "name": "stderr",
     "output_type": "stream",
     "text": [
      "\r",
      " 12%|█▏        | 5/43 [02:01<14:51, 23.45s/it]"
     ]
    },
    {
     "name": "stdout",
     "output_type": "stream",
     "text": [
      "VAL top-[1, 3, 5, 10, 20, 50] accuracies: [0.0309 0.0695 0.0916 0.1248 0.1696 0.2612]\n",
      "---\n",
      "Left-out label: BCL2L11\n",
      "TEST top-[1, 3, 5, 10, 20, 50] accuracies: [0.     0.     0.     0.     0.     0.0698]\n",
      "---\n",
      "TRAIN loss: 0.0026854045472337515\n",
      "VAL loss: 0.0044517353236512075\n",
      "TEST loss: 0.0021468435142115495\n",
      "TRAIN top-[1, 3, 5, 10, 20, 50] accuracies: [0.0944 0.1655 0.2091 0.2863 0.378  0.5592]\n",
      "---\n",
      "VAL top-[1, 3, 5, 10, 20, 50] accuracies: [0.0535 0.0966 0.1234 0.1762 0.2398 0.4091]\n",
      "---\n",
      "Left-out label: BRAF\n"
     ]
    },
    {
     "name": "stderr",
     "output_type": "stream",
     "text": [
      "\r",
      " 14%|█▍        | 6/43 [02:23<14:08, 22.94s/it]"
     ]
    },
    {
     "name": "stdout",
     "output_type": "stream",
     "text": [
      "TEST top-[1, 3, 5, 10, 20, 50] accuracies: [0.1324 0.209  0.2507 0.3142 0.3846 0.5487]\n",
      "---\n",
      "TRAIN loss: 0.0022750476847769427\n",
      "VAL loss: 0.005872402757689623\n",
      "TEST loss: 0.002127908714856321\n",
      "TRAIN top-[1, 3, 5, 10, 20, 50] accuracies: [0.1093 0.1868 0.2337 0.3137 0.4148 0.6063]\n",
      "---\n"
     ]
    },
    {
     "name": "stderr",
     "output_type": "stream",
     "text": [
      "\r",
      " 16%|█▋        | 7/43 [02:46<13:52, 23.12s/it]"
     ]
    },
    {
     "name": "stdout",
     "output_type": "stream",
     "text": [
      "VAL top-[1, 3, 5, 10, 20, 50] accuracies: [0.0146 0.0299 0.0502 0.0921 0.1359 0.2369]\n",
      "---\n",
      "Left-out label: CASP8\n",
      "TEST top-[1, 3, 5, 10, 20, 50] accuracies: [0.0117 0.0292 0.0526 0.0936 0.193  0.4854]\n",
      "---\n",
      "TRAIN loss: 0.0027608809431997083\n",
      "VAL loss: 0.002285915519471894\n",
      "TEST loss: 0.0016588938179815178\n",
      "TRAIN top-[1, 3, 5, 10, 20, 50] accuracies: [0.0912 0.1637 0.2056 0.2802 0.3714 0.5501]\n",
      "---\n",
      "VAL top-[1, 3, 5, 10, 20, 50] accuracies: [0.0525 0.1281 0.1642 0.2244 0.3137 0.5233]\n",
      "---\n",
      "Left-out label: CDC42\n"
     ]
    },
    {
     "name": "stderr",
     "output_type": "stream",
     "text": [
      "\r",
      " 19%|█▊        | 8/43 [03:11<13:45, 23.58s/it]"
     ]
    },
    {
     "name": "stdout",
     "output_type": "stream",
     "text": [
      "TEST top-[1, 3, 5, 10, 20, 50] accuracies: [0.125  0.244  0.3142 0.3862 0.5093 0.7493]\n",
      "---\n",
      "TRAIN loss: 0.0023067020787500164\n",
      "VAL loss: 0.006647056756844701\n",
      "TEST loss: 0.026030961010191176\n",
      "TRAIN top-[1, 3, 5, 10, 20, 50] accuracies: [0.1049 0.1827 0.2291 0.3094 0.4063 0.5943]\n",
      "---\n"
     ]
    },
    {
     "name": "stderr",
     "output_type": "stream",
     "text": [
      "\r",
      " 21%|██        | 9/43 [03:32<12:57, 22.86s/it]"
     ]
    },
    {
     "name": "stdout",
     "output_type": "stream",
     "text": [
      "VAL top-[1, 3, 5, 10, 20, 50] accuracies: [0.0273 0.0513 0.0683 0.1006 0.1408 0.2475]\n",
      "---\n",
      "Left-out label: CDKN1A\n",
      "TEST top-[1, 3, 5, 10, 20, 50] accuracies: [0. 0. 0. 0. 0. 0.]\n",
      "---\n",
      "TRAIN loss: 0.0024886073714616005\n",
      "VAL loss: 0.004839403485070082\n",
      "TEST loss: 0.0018758442997342368\n",
      "TRAIN top-[1, 3, 5, 10, 20, 50] accuracies: [0.094  0.1705 0.2189 0.2987 0.3943 0.5701]\n",
      "---\n",
      "VAL top-[1, 3, 5, 10, 20, 50] accuracies: [0.0364 0.0778 0.101  0.151  0.2238 0.4195]\n",
      "---\n",
      "Left-out label: CEBPA\n"
     ]
    },
    {
     "name": "stderr",
     "output_type": "stream",
     "text": [
      "\r",
      " 23%|██▎       | 10/43 [03:55<12:35, 22.90s/it]"
     ]
    },
    {
     "name": "stdout",
     "output_type": "stream",
     "text": [
      "TEST top-[1, 3, 5, 10, 20, 50] accuracies: [0.0781 0.1616 0.2091 0.2883 0.4203 0.6272]\n",
      "---\n",
      "TRAIN loss: 0.0023058252403759154\n",
      "VAL loss: 0.006968569166530587\n",
      "TEST loss: 0.002878327366142046\n",
      "TRAIN top-[1, 3, 5, 10, 20, 50] accuracies: [0.0924 0.1649 0.214  0.2961 0.4008 0.6001]\n",
      "---\n"
     ]
    },
    {
     "name": "stderr",
     "output_type": "stream",
     "text": [
      "\r",
      " 26%|██▌       | 11/43 [04:17<12:09, 22.80s/it]"
     ]
    },
    {
     "name": "stdout",
     "output_type": "stream",
     "text": [
      "VAL top-[1, 3, 5, 10, 20, 50] accuracies: [0.0041 0.0121 0.019  0.0373 0.0621 0.1518]\n",
      "---\n",
      "Left-out label: CREB1\n",
      "TEST top-[1, 3, 5, 10, 20, 50] accuracies: [0.     0.     0.     0.     0.     0.0604]\n",
      "---\n",
      "TRAIN loss: 0.0023720440918198965\n",
      "VAL loss: 0.006438122275057403\n",
      "TEST loss: 0.003372234277684921\n",
      "TRAIN top-[1, 3, 5, 10, 20, 50] accuracies: [0.1005 0.1828 0.2309 0.3125 0.4086 0.5902]\n",
      "---\n"
     ]
    },
    {
     "name": "stderr",
     "output_type": "stream",
     "text": [
      "\r",
      " 28%|██▊       | 12/43 [04:39<11:39, 22.55s/it]"
     ]
    },
    {
     "name": "stdout",
     "output_type": "stream",
     "text": [
      "VAL top-[1, 3, 5, 10, 20, 50] accuracies: [0.0076 0.017  0.0249 0.047  0.0708 0.184 ]\n",
      "---\n",
      "Left-out label: DIABLO\n",
      "TEST top-[1, 3, 5, 10, 20, 50] accuracies: [0.     0.0016 0.011  0.0267 0.0503 0.1682]\n",
      "---\n",
      "TRAIN loss: 0.002620005100130636\n",
      "VAL loss: 0.005726009937350688\n",
      "TEST loss: 0.004658806138841466\n",
      "TRAIN top-[1, 3, 5, 10, 20, 50] accuracies: [0.0876 0.1618 0.2069 0.2878 0.3921 0.5719]\n",
      "---\n",
      "VAL top-[1, 3, 5, 10, 20, 50] accuracies: [0.0102 0.0425 0.0609 0.0962 0.1378 0.2952]\n",
      "---\n",
      "Left-out label: E2F1\n"
     ]
    },
    {
     "name": "stderr",
     "output_type": "stream",
     "text": [
      "\r",
      " 30%|███       | 13/43 [05:00<11:02, 22.08s/it]"
     ]
    },
    {
     "name": "stdout",
     "output_type": "stream",
     "text": [
      "TEST top-[1, 3, 5, 10, 20, 50] accuracies: [0.013  0.0402 0.0544 0.0768 0.1277 0.2589]\n",
      "---\n",
      "TRAIN loss: 0.0023722932449086174\n",
      "VAL loss: 0.007441947707722368\n",
      "TEST loss: 0.0012291621160371582\n",
      "TRAIN top-[1, 3, 5, 10, 20, 50] accuracies: [0.1079 0.188  0.2338 0.3128 0.4058 0.588 ]\n",
      "---\n"
     ]
    },
    {
     "name": "stderr",
     "output_type": "stream",
     "text": [
      "\r",
      " 33%|███▎      | 14/43 [05:24<10:48, 22.38s/it]"
     ]
    },
    {
     "name": "stdout",
     "output_type": "stream",
     "text": [
      "VAL top-[1, 3, 5, 10, 20, 50] accuracies: [0.004  0.0105 0.0136 0.0269 0.0413 0.1353]\n",
      "---\n",
      "Left-out label: ELK1\n",
      "TEST top-[1, 3, 5, 10, 20, 50] accuracies: [0.0484 0.2327 0.3825 0.5276 0.7189 0.9977]\n",
      "---\n",
      "TRAIN loss: 0.002438719359855981\n",
      "VAL loss: 0.005737341053366341\n",
      "TEST loss: 0.0030782742380239115\n",
      "TRAIN top-[1, 3, 5, 10, 20, 50] accuracies: [0.0919 0.1664 0.2133 0.2944 0.3913 0.5775]\n",
      "---\n",
      "VAL top-[1, 3, 5, 10, 20, 50] accuracies: [0.0144 0.0456 0.0643 0.1095 0.1506 0.2658]\n",
      "---\n",
      "Left-out label: ERG\n"
     ]
    },
    {
     "name": "stderr",
     "output_type": "stream",
     "text": [
      "\r",
      " 35%|███▍      | 15/43 [05:48<10:40, 22.89s/it]"
     ]
    },
    {
     "name": "stdout",
     "output_type": "stream",
     "text": [
      "TEST top-[1, 3, 5, 10, 20, 50] accuracies: [0.1309 0.1639 0.1792 0.197  0.2402 0.371 ]\n",
      "---\n",
      "TRAIN loss: 0.0023978739812988725\n",
      "VAL loss: 0.005584095693289592\n",
      "TEST loss: 0.003796618453588445\n",
      "TRAIN top-[1, 3, 5, 10, 20, 50] accuracies: [0.0954 0.1703 0.2173 0.3034 0.4055 0.5895]\n",
      "---\n",
      "VAL top-[1, 3, 5, 10, 20, 50] accuracies: [0.0184 0.0447 0.0637 0.0943 0.1444 0.2748]\n",
      "---\n",
      "Left-out label: FGFR3\n"
     ]
    },
    {
     "name": "stderr",
     "output_type": "stream",
     "text": [
      "\r",
      " 37%|███▋      | 16/43 [06:11<10:22, 23.06s/it]"
     ]
    },
    {
     "name": "stdout",
     "output_type": "stream",
     "text": [
      "TEST top-[1, 3, 5, 10, 20, 50] accuracies: [0.     0.     0.     0.0013 0.0013 0.019 ]\n",
      "---\n",
      "TRAIN loss: 0.002605298520939129\n",
      "VAL loss: 0.004910530565104094\n",
      "TEST loss: 0.0011672416381392774\n",
      "TRAIN top-[1, 3, 5, 10, 20, 50] accuracies: [0.0864 0.1581 0.2036 0.2824 0.3807 0.564 ]\n",
      "---\n",
      "VAL top-[1, 3, 5, 10, 20, 50] accuracies: [0.0241 0.0538 0.0736 0.1016 0.1347 0.2867]\n",
      "---\n",
      "Left-out label: FOXO1\n"
     ]
    },
    {
     "name": "stderr",
     "output_type": "stream",
     "text": [
      "\r",
      " 40%|███▉      | 17/43 [06:34<10:01, 23.15s/it]"
     ]
    },
    {
     "name": "stdout",
     "output_type": "stream",
     "text": [
      "TEST top-[1, 3, 5, 10, 20, 50] accuracies: [0.1469 0.3295 0.4424 0.6136 0.776  0.9951]\n",
      "---\n",
      "TRAIN loss: 0.002468781540865531\n",
      "VAL loss: 0.007103570691999728\n",
      "TEST loss: 0.007860698322210596\n",
      "TRAIN top-[1, 3, 5, 10, 20, 50] accuracies: [0.1065 0.1864 0.234  0.313  0.4092 0.5927]\n",
      "---\n"
     ]
    },
    {
     "name": "stderr",
     "output_type": "stream",
     "text": [
      "\r",
      " 42%|████▏     | 18/43 [06:55<09:19, 22.37s/it]"
     ]
    },
    {
     "name": "stdout",
     "output_type": "stream",
     "text": [
      "VAL top-[1, 3, 5, 10, 20, 50] accuracies: [0.0119 0.0306 0.0402 0.0609 0.0852 0.1687]\n",
      "---\n",
      "Left-out label: GLI1\n",
      "TEST top-[1, 3, 5, 10, 20, 50] accuracies: [0. 0. 0. 0. 0. 0.]\n",
      "---\n",
      "TRAIN loss: 0.00231936842607036\n",
      "VAL loss: 0.007431767185930584\n",
      "TEST loss: 0.0015753052249531862\n",
      "TRAIN top-[1, 3, 5, 10, 20, 50] accuracies: [0.0903 0.1701 0.2213 0.3085 0.4121 0.6002]\n",
      "---\n"
     ]
    },
    {
     "name": "stderr",
     "output_type": "stream",
     "text": [
      "\r",
      " 44%|████▍     | 19/43 [07:16<08:46, 21.94s/it]"
     ]
    },
    {
     "name": "stdout",
     "output_type": "stream",
     "text": [
      "VAL top-[1, 3, 5, 10, 20, 50] accuracies: [0.0059 0.0172 0.0261 0.0411 0.061  0.1659]\n",
      "---\n",
      "Left-out label: HRAS\n",
      "TEST top-[1, 3, 5, 10, 20, 50] accuracies: [0.084  0.1832 0.2545 0.4326 0.6234 0.9186]\n",
      "---\n",
      "TRAIN loss: 0.0023401948735813404\n",
      "VAL loss: 0.007011524257298962\n",
      "TEST loss: 0.0029542513057243132\n",
      "TRAIN top-[1, 3, 5, 10, 20, 50] accuracies: [0.0916 0.1645 0.2135 0.3001 0.4094 0.6021]\n",
      "---\n",
      "VAL top-[1, 3, 5, 10, 20, 50] accuracies: [0.003  0.0108 0.0172 0.0395 0.0683 0.1788]\n",
      "---\n",
      "Left-out label: IRAK4\n"
     ]
    },
    {
     "name": "stderr",
     "output_type": "stream",
     "text": [
      "\r",
      " 47%|████▋     | 20/43 [07:38<08:25, 21.99s/it]"
     ]
    },
    {
     "name": "stdout",
     "output_type": "stream",
     "text": [
      "TEST top-[1, 3, 5, 10, 20, 50] accuracies: [0.0016 0.0049 0.0049 0.0114 0.0359 0.1876]\n",
      "---\n",
      "TRAIN loss: 0.0023341860253368414\n",
      "VAL loss: 0.005902709707161489\n",
      "TEST loss: 0.001369518948249743\n",
      "TRAIN top-[1, 3, 5, 10, 20, 50] accuracies: [0.1061 0.1867 0.2348 0.315  0.4094 0.5899]\n",
      "---\n",
      "VAL top-[1, 3, 5, 10, 20, 50] accuracies: [0.0086 0.0177 0.022  0.0374 0.0629 0.2006]\n",
      "---\n",
      "Left-out label: JUN\n"
     ]
    },
    {
     "name": "stderr",
     "output_type": "stream",
     "text": [
      "\r",
      " 49%|████▉     | 21/43 [08:02<08:20, 22.73s/it]"
     ]
    },
    {
     "name": "stdout",
     "output_type": "stream",
     "text": [
      "TEST top-[1, 3, 5, 10, 20, 50] accuracies: [0.1823 0.3195 0.4276 0.5564 0.687  0.8487]\n",
      "---\n",
      "TRAIN loss: 0.0026435024016184757\n",
      "VAL loss: 0.005901496654937836\n",
      "TEST loss: 0.0014846330589367723\n",
      "TRAIN top-[1, 3, 5, 10, 20, 50] accuracies: [0.1017 0.1779 0.2223 0.304  0.4059 0.588 ]\n",
      "---\n",
      "VAL top-[1, 3, 5, 10, 20, 50] accuracies: [0.0019 0.0075 0.0118 0.0309 0.0688 0.189 ]\n",
      "---\n",
      "Left-out label: KRAS\n"
     ]
    },
    {
     "name": "stderr",
     "output_type": "stream",
     "text": [
      "\r",
      " 51%|█████     | 22/43 [08:22<07:40, 21.92s/it]"
     ]
    },
    {
     "name": "stdout",
     "output_type": "stream",
     "text": [
      "TEST top-[1, 3, 5, 10, 20, 50] accuracies: [0.048  0.1515 0.2418 0.4602 0.7276 0.9801]\n",
      "---\n",
      "TRAIN loss: 0.002311602659623531\n",
      "VAL loss: 0.006575467829893284\n",
      "TEST loss: 0.0012174568850966978\n",
      "TRAIN top-[1, 3, 5, 10, 20, 50] accuracies: [0.0967 0.1729 0.2198 0.3032 0.4048 0.5928]\n",
      "---\n"
     ]
    },
    {
     "name": "stderr",
     "output_type": "stream",
     "text": [
      "\r",
      " 53%|█████▎    | 23/43 [08:46<07:26, 22.31s/it]"
     ]
    },
    {
     "name": "stdout",
     "output_type": "stream",
     "text": [
      "VAL top-[1, 3, 5, 10, 20, 50] accuracies: [0.0078 0.0245 0.0331 0.0562 0.085  0.2046]\n",
      "---\n",
      "Left-out label: MAP2K3\n",
      "TEST top-[1, 3, 5, 10, 20, 50] accuracies: [0.078  0.1951 0.2861 0.5159 0.7587 0.9971]\n",
      "---\n",
      "TRAIN loss: 0.0024043702404391736\n",
      "VAL loss: 0.005742037074664684\n",
      "TEST loss: 0.0011334864175784709\n",
      "TRAIN top-[1, 3, 5, 10, 20, 50] accuracies: [0.1031 0.1805 0.2316 0.3137 0.4131 0.5924]\n",
      "---\n",
      "VAL top-[1, 3, 5, 10, 20, 50] accuracies: [0.0024 0.0108 0.0196 0.0395 0.068  0.1775]\n",
      "---\n",
      "Left-out label: MAP3K2\n"
     ]
    },
    {
     "name": "stderr",
     "output_type": "stream",
     "text": [
      "\r",
      " 56%|█████▌    | 24/43 [09:06<06:54, 21.80s/it]"
     ]
    },
    {
     "name": "stdout",
     "output_type": "stream",
     "text": [
      "TEST top-[1, 3, 5, 10, 20, 50] accuracies: [0.1467 0.2627 0.4036 0.6127 0.8015 0.9923]\n",
      "---\n",
      "TRAIN loss: 0.0022659021725681652\n",
      "VAL loss: 0.006634901039819222\n",
      "TEST loss: 0.0007990523155112535\n",
      "TRAIN top-[1, 3, 5, 10, 20, 50] accuracies: [0.0982 0.1781 0.2287 0.313  0.4121 0.5955]\n",
      "---\n"
     ]
    },
    {
     "name": "stderr",
     "output_type": "stream",
     "text": [
      "\r",
      " 58%|█████▊    | 25/43 [09:31<06:46, 22.59s/it]"
     ]
    },
    {
     "name": "stdout",
     "output_type": "stream",
     "text": [
      "VAL top-[1, 3, 5, 10, 20, 50] accuracies: [0.0067 0.0199 0.028  0.0489 0.0731 0.1664]\n",
      "---\n",
      "Left-out label: MAP3K5\n",
      "TEST top-[1, 3, 5, 10, 20, 50] accuracies: [0.3808 0.6921 0.803  0.9222 0.995  1.    ]\n",
      "---\n",
      "TRAIN loss: 0.002290630900428129\n",
      "VAL loss: 0.0073243289018707445\n",
      "TEST loss: 0.003243535278443669\n",
      "TRAIN top-[1, 3, 5, 10, 20, 50] accuracies: [0.087  0.1654 0.2168 0.3012 0.4128 0.6036]\n",
      "---\n",
      "VAL top-[1, 3, 5, 10, 20, 50] accuracies: [0.0086 0.0183 0.0272 0.0462 0.0745 0.1573]\n",
      "---\n",
      "Left-out label: MAP3K9\n"
     ]
    },
    {
     "name": "stderr",
     "output_type": "stream",
     "text": [
      "\r",
      " 60%|██████    | 26/43 [09:54<06:26, 22.75s/it]"
     ]
    },
    {
     "name": "stdout",
     "output_type": "stream",
     "text": [
      "TEST top-[1, 3, 5, 10, 20, 50] accuracies: [0.0902 0.1132 0.1228 0.1363 0.1689 0.2514]\n",
      "---\n",
      "TRAIN loss: 0.0023623575748987612\n",
      "VAL loss: 0.006421216490094253\n",
      "TEST loss: 0.0025078715900374742\n",
      "TRAIN top-[1, 3, 5, 10, 20, 50] accuracies: [0.096  0.1723 0.219  0.3022 0.4068 0.5959]\n",
      "---\n"
     ]
    },
    {
     "name": "stderr",
     "output_type": "stream",
     "text": [
      "\r",
      " 63%|██████▎   | 27/43 [10:19<06:13, 23.35s/it]"
     ]
    },
    {
     "name": "stdout",
     "output_type": "stream",
     "text": [
      "VAL top-[1, 3, 5, 10, 20, 50] accuracies: [0.0091 0.0226 0.0323 0.0559 0.0858 0.2073]\n",
      "---\n",
      "Left-out label: MAPK7\n",
      "TEST top-[1, 3, 5, 10, 20, 50] accuracies: [0.0359 0.0905 0.1092 0.156  0.2309 0.429 ]\n",
      "---\n",
      "TRAIN loss: 0.0025123400389721394\n",
      "VAL loss: 0.005916928845232603\n",
      "TEST loss: 0.0029980669277247744\n",
      "TRAIN top-[1, 3, 5, 10, 20, 50] accuracies: [0.1027 0.1805 0.2288 0.3093 0.4095 0.595 ]\n",
      "---\n",
      "VAL top-[1, 3, 5, 10, 20, 50] accuracies: [0.0013 0.0067 0.0121 0.0231 0.0444 0.1823]\n",
      "---\n",
      "Left-out label: MYD88\n"
     ]
    },
    {
     "name": "stderr",
     "output_type": "stream",
     "text": [
      "\r",
      " 65%|██████▌   | 28/43 [10:40<05:43, 22.88s/it]"
     ]
    },
    {
     "name": "stdout",
     "output_type": "stream",
     "text": [
      "TEST top-[1, 3, 5, 10, 20, 50] accuracies: [0.     0.     0.     0.0045 0.0109 0.067 ]\n",
      "---\n",
      "TRAIN loss: 0.00230036279469775\n",
      "VAL loss: 0.006696729636449356\n",
      "TEST loss: 0.0012343637685167548\n",
      "TRAIN top-[1, 3, 5, 10, 20, 50] accuracies: [0.1002 0.1815 0.2309 0.3154 0.4189 0.6021]\n",
      "---\n",
      "VAL top-[1, 3, 5, 10, 20, 50] accuracies: [0.0035 0.0121 0.0177 0.0333 0.0583 0.1664]\n",
      "---\n",
      "Left-out label: PIK3R2\n"
     ]
    },
    {
     "name": "stderr",
     "output_type": "stream",
     "text": [
      "\r",
      " 67%|██████▋   | 29/43 [11:04<05:22, 23.02s/it]"
     ]
    },
    {
     "name": "stdout",
     "output_type": "stream",
     "text": [
      "TEST top-[1, 3, 5, 10, 20, 50] accuracies: [0.0604 0.1893 0.2716 0.4074 0.6351 0.9451]\n",
      "---\n",
      "TRAIN loss: 0.0023166733866096852\n",
      "VAL loss: 0.00680688770616121\n",
      "TEST loss: 0.005853036929561053\n",
      "TRAIN top-[1, 3, 5, 10, 20, 50] accuracies: [0.1048 0.1862 0.2357 0.3167 0.4163 0.5981]\n",
      "---\n"
     ]
    },
    {
     "name": "stderr",
     "output_type": "stream",
     "text": [
      "\r",
      " 70%|██████▉   | 30/43 [11:27<05:00, 23.08s/it]"
     ]
    },
    {
     "name": "stdout",
     "output_type": "stream",
     "text": [
      "VAL top-[1, 3, 5, 10, 20, 50] accuracies: [0.0056 0.0194 0.0285 0.0468 0.0713 0.1683]\n",
      "---\n",
      "Left-out label: PKIA\n",
      "TEST top-[1, 3, 5, 10, 20, 50] accuracies: [0.     0.     0.0046 0.0046 0.0077 0.0216]\n",
      "---\n",
      "TRAIN loss: 0.002480516730353109\n",
      "VAL loss: 0.00717347783619264\n",
      "TEST loss: 0.004961157178424725\n",
      "TRAIN top-[1, 3, 5, 10, 20, 50] accuracies: [0.1039 0.1875 0.2388 0.3263 0.4264 0.6072]\n",
      "---\n"
     ]
    },
    {
     "name": "stderr",
     "output_type": "stream",
     "text": [
      "\r",
      " 72%|███████▏  | 31/43 [11:48<04:29, 22.45s/it]"
     ]
    },
    {
     "name": "stdout",
     "output_type": "stream",
     "text": [
      "VAL top-[1, 3, 5, 10, 20, 50] accuracies: [0.0046 0.0177 0.0253 0.0446 0.0688 0.1503]\n",
      "---\n",
      "Left-out label: PRKACA\n",
      "TEST top-[1, 3, 5, 10, 20, 50] accuracies: [0.     0.     0.     0.     0.0034 0.0067]\n",
      "---\n",
      "TRAIN loss: 0.002485779144427473\n",
      "VAL loss: 0.006006306190127329\n",
      "TEST loss: 0.0014956258137276337\n",
      "TRAIN top-[1, 3, 5, 10, 20, 50] accuracies: [0.0996 0.1833 0.2363 0.3208 0.4195 0.5996]\n",
      "---\n",
      "VAL top-[1, 3, 5, 10, 20, 50] accuracies: [0.0016 0.0089 0.0132 0.0229 0.0473 0.1928]\n",
      "---\n",
      "Left-out label: PRKCE\n"
     ]
    },
    {
     "name": "stderr",
     "output_type": "stream",
     "text": [
      "\r",
      " 74%|███████▍  | 32/43 [12:09<04:01, 21.97s/it]"
     ]
    },
    {
     "name": "stdout",
     "output_type": "stream",
     "text": [
      "TEST top-[1, 3, 5, 10, 20, 50] accuracies: [0.0882 0.1723 0.2262 0.3428 0.5437 0.8643]\n",
      "---\n",
      "TRAIN loss: 0.0025072070706432786\n",
      "VAL loss: 0.005677779852486515\n",
      "TEST loss: 0.003215924735548445\n",
      "TRAIN top-[1, 3, 5, 10, 20, 50] accuracies: [0.0996 0.1786 0.2253 0.3072 0.4072 0.5872]\n",
      "---\n",
      "VAL top-[1, 3, 5, 10, 20, 50] accuracies: [0.0065 0.0169 0.0274 0.0524 0.0957 0.2248]\n",
      "---\n",
      "Left-out label: RAF1\n"
     ]
    },
    {
     "name": "stderr",
     "output_type": "stream",
     "text": [
      "\r",
      " 77%|███████▋  | 33/43 [12:31<03:41, 22.15s/it]"
     ]
    },
    {
     "name": "stdout",
     "output_type": "stream",
     "text": [
      "TEST top-[1, 3, 5, 10, 20, 50] accuracies: [0.0316 0.0886 0.1026 0.1379 0.1928 0.3281]\n",
      "---\n",
      "TRAIN loss: 0.002348647464975555\n",
      "VAL loss: 0.006489596700255238\n",
      "TEST loss: 0.0012305570925745342\n",
      "TRAIN top-[1, 3, 5, 10, 20, 50] accuracies: [0.1039 0.1836 0.2352 0.3155 0.4167 0.5988]\n",
      "---\n",
      "VAL top-[1, 3, 5, 10, 20, 50] accuracies: [0.0054 0.0194 0.0264 0.0428 0.0683 0.1831]\n",
      "---\n",
      "Left-out label: RELB\n"
     ]
    },
    {
     "name": "stderr",
     "output_type": "stream",
     "text": [
      "\r",
      " 79%|███████▉  | 34/43 [12:53<03:17, 21.99s/it]"
     ]
    },
    {
     "name": "stdout",
     "output_type": "stream",
     "text": [
      "TEST top-[1, 3, 5, 10, 20, 50] accuracies: [0.2265 0.3912 0.444  0.5586 0.7143 0.9356]\n",
      "---\n",
      "TRAIN loss: 0.0024481971866511278\n",
      "VAL loss: 0.005395025628131573\n",
      "TEST loss: 0.0017611201630898397\n",
      "TRAIN top-[1, 3, 5, 10, 20, 50] accuracies: [0.1089 0.184  0.2298 0.3105 0.4108 0.5909]\n",
      "---\n",
      "VAL top-[1, 3, 5, 10, 20, 50] accuracies: [0.0043 0.0121 0.0169 0.0285 0.0516 0.1581]\n",
      "---\n",
      "Left-out label: RHOA\n"
     ]
    },
    {
     "name": "stderr",
     "output_type": "stream",
     "text": [
      "\r",
      " 81%|████████▏ | 35/43 [13:17<03:01, 22.68s/it]"
     ]
    },
    {
     "name": "stdout",
     "output_type": "stream",
     "text": [
      "TEST top-[1, 3, 5, 10, 20, 50] accuracies: [0.0044 0.0118 0.0229 0.0827 0.1963 0.6443]\n",
      "---\n",
      "TRAIN loss: 0.0025740779234137996\n",
      "VAL loss: 0.005759360969927323\n",
      "TEST loss: 0.00370069091794141\n",
      "TRAIN top-[1, 3, 5, 10, 20, 50] accuracies: [0.0976 0.1698 0.2145 0.2995 0.4032 0.5939]\n",
      "---\n",
      "VAL top-[1, 3, 5, 10, 20, 50] accuracies: [0.0091 0.0202 0.0285 0.0497 0.0836 0.1963]\n",
      "---\n",
      "Left-out label: SMAD3\n"
     ]
    },
    {
     "name": "stderr",
     "output_type": "stream",
     "text": [
      "\r",
      " 84%|████████▎ | 36/43 [13:39<02:36, 22.37s/it]"
     ]
    },
    {
     "name": "stdout",
     "output_type": "stream",
     "text": [
      "TEST top-[1, 3, 5, 10, 20, 50] accuracies: [0.002  0.0113 0.0206 0.0372 0.0624 0.1427]\n",
      "---\n",
      "TRAIN loss: 0.002341243760317735\n",
      "VAL loss: 0.007408304604443512\n",
      "TEST loss: 0.002910389340129392\n",
      "TRAIN top-[1, 3, 5, 10, 20, 50] accuracies: [0.0955 0.1695 0.218  0.3059 0.4129 0.6083]\n",
      "---\n"
     ]
    },
    {
     "name": "stderr",
     "output_type": "stream",
     "text": [
      "\r",
      " 86%|████████▌ | 37/43 [14:01<02:13, 22.32s/it]"
     ]
    },
    {
     "name": "stdout",
     "output_type": "stream",
     "text": [
      "VAL top-[1, 3, 5, 10, 20, 50] accuracies: [0.0051 0.0132 0.0194 0.0317 0.053  0.1301]\n",
      "---\n",
      "Left-out label: SMAD4\n",
      "TEST top-[1, 3, 5, 10, 20, 50] accuracies: [0.     0.     0.     0.     0.     0.0728]\n",
      "---\n",
      "TRAIN loss: 0.0025074108671825166\n",
      "VAL loss: 0.006176871728868537\n",
      "TEST loss: 0.008213562279773016\n",
      "TRAIN top-[1, 3, 5, 10, 20, 50] accuracies: [0.1    0.1743 0.2209 0.3027 0.3991 0.5781]\n",
      "---\n",
      "VAL top-[1, 3, 5, 10, 20, 50] accuracies: [0.0014 0.0079 0.0137 0.025  0.0414 0.1523]\n",
      "---\n",
      "Left-out label: SMO\n"
     ]
    },
    {
     "name": "stderr",
     "output_type": "stream",
     "text": [
      "\r",
      " 88%|████████▊ | 38/43 [14:25<01:53, 22.63s/it]"
     ]
    },
    {
     "name": "stdout",
     "output_type": "stream",
     "text": [
      "TEST top-[1, 3, 5, 10, 20, 50] accuracies: [0.     0.0015 0.003  0.0038 0.0061 0.0197]\n",
      "---\n",
      "TRAIN loss: 0.002527521524537772\n",
      "VAL loss: 0.006204531392915089\n",
      "TEST loss: 0.0039213992385794105\n",
      "TRAIN top-[1, 3, 5, 10, 20, 50] accuracies: [0.092  0.1695 0.2196 0.301  0.4001 0.58  ]\n",
      "---\n",
      "VAL top-[1, 3, 5, 10, 20, 50] accuracies: [0.0092 0.026  0.0376 0.0739 0.1099 0.2324]\n",
      "---\n",
      "Left-out label: SRC\n"
     ]
    },
    {
     "name": "stderr",
     "output_type": "stream",
     "text": [
      "\r",
      " 91%|█████████ | 39/43 [14:46<01:29, 22.44s/it]"
     ]
    },
    {
     "name": "stdout",
     "output_type": "stream",
     "text": [
      "TEST top-[1, 3, 5, 10, 20, 50] accuracies: [0.     0.003  0.0045 0.006  0.009  0.063 ]\n",
      "---\n",
      "TRAIN loss: 0.0024291554470364913\n",
      "VAL loss: 0.006225979469096942\n",
      "TEST loss: 0.0015250702513979195\n",
      "TRAIN top-[1, 3, 5, 10, 20, 50] accuracies: [0.0859 0.1615 0.2082 0.2909 0.3933 0.5788]\n",
      "---\n"
     ]
    },
    {
     "name": "stderr",
     "output_type": "stream",
     "text": [
      "\r",
      " 93%|█████████▎| 40/43 [15:10<01:08, 22.90s/it]"
     ]
    },
    {
     "name": "stdout",
     "output_type": "stream",
     "text": [
      "VAL top-[1, 3, 5, 10, 20, 50] accuracies: [0.0092 0.025  0.0352 0.0602 0.089  0.2108]\n",
      "---\n",
      "Left-out label: SREBF1\n",
      "TEST top-[1, 3, 5, 10, 20, 50] accuracies: [0.0528 0.1353 0.1759 0.3004 0.4777 0.8268]\n",
      "---\n",
      "TRAIN loss: 0.0025541074267747973\n",
      "VAL loss: 0.006430732090603675\n",
      "TEST loss: 0.0020410363124730145\n",
      "TRAIN top-[1, 3, 5, 10, 20, 50] accuracies: [0.0806 0.1538 0.1996 0.2822 0.3871 0.5817]\n",
      "---\n"
     ]
    },
    {
     "name": "stderr",
     "output_type": "stream",
     "text": [
      "\r",
      " 95%|█████████▌| 41/43 [15:34<00:46, 23.12s/it]"
     ]
    },
    {
     "name": "stdout",
     "output_type": "stream",
     "text": [
      "VAL top-[1, 3, 5, 10, 20, 50] accuracies: [0.0034 0.013  0.0168 0.0397 0.0743 0.1899]\n",
      "---\n",
      "Left-out label: TRAF2\n",
      "TEST top-[1, 3, 5, 10, 20, 50] accuracies: [0.     0.005  0.0117 0.0234 0.0568 0.4975]\n",
      "---\n",
      "TRAIN loss: 0.002483488055925245\n",
      "VAL loss: 0.006233134121786418\n",
      "TEST loss: 0.0018177206607979555\n",
      "TRAIN top-[1, 3, 5, 10, 20, 50] accuracies: [0.0985 0.1733 0.2187 0.2964 0.3915 0.5716]\n",
      "---\n"
     ]
    },
    {
     "name": "stderr",
     "output_type": "stream",
     "text": [
      "\r",
      " 98%|█████████▊| 42/43 [15:58<00:23, 23.25s/it]"
     ]
    },
    {
     "name": "stdout",
     "output_type": "stream",
     "text": [
      "VAL top-[1, 3, 5, 10, 20, 50] accuracies: [0.0062 0.0171 0.0284 0.0507 0.0815 0.2245]\n",
      "---\n",
      "Left-out label: TSC2\n",
      "TEST top-[1, 3, 5, 10, 20, 50] accuracies: [0.0298 0.0828 0.1374 0.2434 0.3874 0.7997]\n",
      "---\n",
      "TRAIN loss: 0.002664277592595752\n",
      "VAL loss: 0.007003603249119179\n",
      "TEST loss: 0.004373046950966935\n",
      "TRAIN top-[1, 3, 5, 10, 20, 50] accuracies: [0.0912 0.1643 0.2102 0.289  0.3908 0.5823]\n",
      "---\n",
      "VAL top-[1, 3, 5, 10, 20, 50] accuracies: [0.     0.0058 0.0109 0.0268 0.0633 0.1837]\n",
      "---\n",
      "Left-out label: WWTR1\n"
     ]
    },
    {
     "name": "stderr",
     "output_type": "stream",
     "text": [
      "100%|██████████| 43/43 [16:19<00:00, 22.78s/it]"
     ]
    },
    {
     "name": "stdout",
     "output_type": "stream",
     "text": [
      "TEST top-[1, 3, 5, 10, 20, 50] accuracies: [0.     0.     0.     0.     0.     0.0042]\n",
      "---\n"
     ]
    },
    {
     "name": "stderr",
     "output_type": "stream",
     "text": [
      "\n"
     ]
    },
    {
     "data": {
      "application/javascript": [
       "\n",
       "            setTimeout(function() {\n",
       "                var nbb_cell_id = 23;\n",
       "                var nbb_unformatted_code = \"topk_test_accs = []\\nlo_labels = []\\nfor i in tqdm(range(len(data_dicts))):\\n    data_dict = data_dicts[i]\\n\\n    model = nn.Sequential(\\n        #nn.Linear(1024, 1024),\\n        #nn.PReLU(),\\n        #nn.BatchNorm1d(1024),\\n        nn.Linear(1024, 128),\\n    )\\n    optimizer = Adam(model.parameters(), lr=1e-4)\\n    criterion = nn.MSELoss()\\n\\n    fitted_model = train_model(\\n        model=model,\\n        data_dict=data_dict,\\n        optimizer=optimizer,\\n        criterion=criterion,\\n        n_epochs=100,\\n        early_stopping=5,\\n    )\\n\\n    ks = [1, 3, 5, 10, 20, 50]\\n    for mode in [\\\"train\\\", \\\"val\\\", \\\"test\\\"]:\\n        topk_accs = []\\n        preds, labels = get_preds_label_dict(fitted_model, data_dict[mode])\\n        if mode == \\\"test\\\":\\n            lo_label = np.unique(labels)[0]\\n            lo_labels.append(lo_label)\\n            print(\\\"Left-out label: {}\\\".format(lo_label))\\n        for k in ks:\\n            topk_acc, _ = evaluate_top_k_accuracy(preds, labels, node_embs, k=k)\\n            topk_accs.append(topk_acc)\\n        print(\\n            \\\"{} top-{} accuracies: {}\\\".format(mode.upper(), ks, np.round(topk_accs, 4))\\n        )\\n        print(\\\"---\\\")\\n    topk_test_accs.append(np.array(topk_accs))\";\n",
       "                var nbb_formatted_code = \"topk_test_accs = []\\nlo_labels = []\\nfor i in tqdm(range(len(data_dicts))):\\n    data_dict = data_dicts[i]\\n\\n    model = nn.Sequential(\\n        # nn.Linear(1024, 1024),\\n        # nn.PReLU(),\\n        # nn.BatchNorm1d(1024),\\n        nn.Linear(1024, 128),\\n    )\\n    optimizer = Adam(model.parameters(), lr=1e-4)\\n    criterion = nn.MSELoss()\\n\\n    fitted_model = train_model(\\n        model=model,\\n        data_dict=data_dict,\\n        optimizer=optimizer,\\n        criterion=criterion,\\n        n_epochs=100,\\n        early_stopping=5,\\n    )\\n\\n    ks = [1, 3, 5, 10, 20, 50]\\n    for mode in [\\\"train\\\", \\\"val\\\", \\\"test\\\"]:\\n        topk_accs = []\\n        preds, labels = get_preds_label_dict(fitted_model, data_dict[mode])\\n        if mode == \\\"test\\\":\\n            lo_label = np.unique(labels)[0]\\n            lo_labels.append(lo_label)\\n            print(\\\"Left-out label: {}\\\".format(lo_label))\\n        for k in ks:\\n            topk_acc, _ = evaluate_top_k_accuracy(preds, labels, node_embs, k=k)\\n            topk_accs.append(topk_acc)\\n        print(\\n            \\\"{} top-{} accuracies: {}\\\".format(mode.upper(), ks, np.round(topk_accs, 4))\\n        )\\n        print(\\\"---\\\")\\n    topk_test_accs.append(np.array(topk_accs))\";\n",
       "                var nbb_cells = Jupyter.notebook.get_cells();\n",
       "                for (var i = 0; i < nbb_cells.length; ++i) {\n",
       "                    if (nbb_cells[i].input_prompt_number == nbb_cell_id) {\n",
       "                        if (nbb_cells[i].get_text() == nbb_unformatted_code) {\n",
       "                             nbb_cells[i].set_text(nbb_formatted_code);\n",
       "                        }\n",
       "                        break;\n",
       "                    }\n",
       "                }\n",
       "            }, 500);\n",
       "            "
      ],
      "text/plain": [
       "<IPython.core.display.Javascript object>"
      ]
     },
     "metadata": {},
     "output_type": "display_data"
    }
   ],
   "source": [
    "topk_test_accs = []\n",
    "lo_labels = []\n",
    "for i in tqdm(range(len(data_dicts))):\n",
    "    data_dict = data_dicts[i]\n",
    "\n",
    "    model = nn.Sequential(\n",
    "        # nn.Linear(1024, 1024),\n",
    "        # nn.PReLU(),\n",
    "        # nn.BatchNorm1d(1024),\n",
    "        nn.Linear(1024, 128),\n",
    "    )\n",
    "    optimizer = Adam(model.parameters(), lr=1e-4)\n",
    "    criterion = nn.MSELoss()\n",
    "\n",
    "    fitted_model = train_model(\n",
    "        model=model,\n",
    "        data_dict=data_dict,\n",
    "        optimizer=optimizer,\n",
    "        criterion=criterion,\n",
    "        n_epochs=100,\n",
    "        early_stopping=5,\n",
    "    )\n",
    "\n",
    "    ks = [1, 3, 5, 10, 20, 50]\n",
    "    for mode in [\"train\", \"val\", \"test\"]:\n",
    "        topk_accs = []\n",
    "        preds, labels = get_preds_label_dict(fitted_model, data_dict[mode])\n",
    "        if mode == \"test\":\n",
    "            lo_label = np.unique(labels)[0]\n",
    "            lo_labels.append(lo_label)\n",
    "            print(\"Left-out label: {}\".format(lo_label))\n",
    "        for k in ks:\n",
    "            topk_acc, _ = evaluate_top_k_accuracy(preds, labels, node_embs, k=k)\n",
    "            topk_accs.append(topk_acc)\n",
    "        print(\n",
    "            \"{} top-{} accuracies: {}\".format(mode.upper(), ks, np.round(topk_accs, 4))\n",
    "        )\n",
    "        print(\"---\")\n",
    "    topk_test_accs.append(np.array(topk_accs))"
   ]
  },
  {
   "cell_type": "code",
   "execution_count": 24,
   "id": "fd7455f9",
   "metadata": {
    "scrolled": true
   },
   "outputs": [
    {
     "data": {
      "text/plain": [
       "{'AKT1S1': array([0.43364198, 0.66975309, 0.7970679 , 0.94290123, 0.99074074,\n",
       "        1.        ]),\n",
       " 'APC': array([0.00156986, 0.00470958, 0.01098901, 0.03296703, 0.04238619,\n",
       "        0.09105181]),\n",
       " 'ATF4': array([0.01350211, 0.04219409, 0.05400844, 0.09198312, 0.20759494,\n",
       "        0.5721519 ]),\n",
       " 'BAX': array([0.08311346, 0.10817942, 0.12664908, 0.14248021, 0.17414248,\n",
       "        0.29683377]),\n",
       " 'BCL2L11': array([0.        , 0.        , 0.        , 0.        , 0.        ,\n",
       "        0.06976744]),\n",
       " 'BRAF': array([0.1323606 , 0.208963  , 0.25065138, 0.31422616, 0.3845753 ,\n",
       "        0.54872329]),\n",
       " 'CASP8': array([0.01169591, 0.02923977, 0.05263158, 0.09356725, 0.19298246,\n",
       "        0.48538012]),\n",
       " 'CDC42': array([0.125     , 0.24404762, 0.31415344, 0.38624339, 0.50925926,\n",
       "        0.74933862]),\n",
       " 'CDKN1A': array([0., 0., 0., 0., 0., 0.]),\n",
       " 'CEBPA': array([0.0781415 , 0.16156283, 0.20908131, 0.28827878, 0.42027455,\n",
       "        0.62724393]),\n",
       " 'CREB1': array([0.        , 0.        , 0.        , 0.        , 0.        ,\n",
       "        0.06043956]),\n",
       " 'DIABLO': array([0.        , 0.00157233, 0.01100629, 0.02672956, 0.05031447,\n",
       "        0.16823899]),\n",
       " 'E2F1': array([0.01300236, 0.04018913, 0.05437352, 0.07683215, 0.12765957,\n",
       "        0.25886525]),\n",
       " 'ELK1': array([0.0483871 , 0.23271889, 0.38248848, 0.52764977, 0.71889401,\n",
       "        0.99769585]),\n",
       " 'ERG': array([0.13087675, 0.1639136 , 0.17916137, 0.19695044, 0.24015248,\n",
       "        0.37102922]),\n",
       " 'FGFR3': array([0.        , 0.        , 0.        , 0.00126422, 0.00126422,\n",
       "        0.01896334]),\n",
       " 'FOXO1': array([0.14691558, 0.32954545, 0.44237013, 0.61363636, 0.77597403,\n",
       "        0.99512987]),\n",
       " 'GLI1': array([0., 0., 0., 0., 0., 0.]),\n",
       " 'HRAS': array([0.08396947, 0.18320611, 0.25445293, 0.43256997, 0.62340967,\n",
       "        0.91857506]),\n",
       " 'IRAK4': array([0.00163132, 0.00489396, 0.00489396, 0.01141925, 0.03588907,\n",
       "        0.18760196]),\n",
       " 'JUN': array([0.18233083, 0.31954887, 0.42763158, 0.55639098, 0.68703008,\n",
       "        0.84868421]),\n",
       " 'KRAS': array([0.04795918, 0.15153061, 0.24183673, 0.46020408, 0.72755102,\n",
       "        0.98010204]),\n",
       " 'MAP2K3': array([0.07803468, 0.19508671, 0.28612717, 0.51589595, 0.75867052,\n",
       "        0.99710983]),\n",
       " 'MAP3K2': array([0.14669223, 0.26270374, 0.40364334, 0.6126558 , 0.80153404,\n",
       "        0.99232982]),\n",
       " 'MAP3K5': array([0.3807947 , 0.69205298, 0.80298013, 0.92218543, 0.99503311,\n",
       "        1.        ]),\n",
       " 'MAP3K9': array([0.09021113, 0.11324376, 0.12284069, 0.13627639, 0.16890595,\n",
       "        0.25143954]),\n",
       " 'MAPK7': array([0.03588144, 0.09048362, 0.10920437, 0.15600624, 0.23088924,\n",
       "        0.42901716]),\n",
       " 'MYD88': array([0.        , 0.        , 0.        , 0.00452899, 0.01086957,\n",
       "        0.06702899]),\n",
       " 'PIK3R2': array([0.06035665, 0.18930041, 0.27160494, 0.40740741, 0.6351166 ,\n",
       "        0.94513032]),\n",
       " 'PKIA': array([0.        , 0.        , 0.00463679, 0.00463679, 0.00772798,\n",
       "        0.02163833]),\n",
       " 'PRKACA': array([0.        , 0.        , 0.        , 0.        , 0.003367  ,\n",
       "        0.00673401]),\n",
       " 'PRKCE': array([0.08823529, 0.17232278, 0.22624434, 0.34276018, 0.54374057,\n",
       "        0.86425339]),\n",
       " 'RAF1': array([0.0316226 , 0.08864697, 0.10264386, 0.13789528, 0.19284603,\n",
       "        0.3281493 ]),\n",
       " 'RELB': array([0.22651223, 0.39124839, 0.44401544, 0.55855856, 0.71428571,\n",
       "        0.93564994]),\n",
       " 'RHOA': array([0.00442804, 0.01180812, 0.02287823, 0.08265683, 0.19630996,\n",
       "        0.64428044]),\n",
       " 'SMAD3': array([0.00199071, 0.01128069, 0.02057067, 0.03715992, 0.06237558,\n",
       "        0.14266755]),\n",
       " 'SMAD4': array([0.        , 0.        , 0.        , 0.        , 0.        ,\n",
       "        0.07279693]),\n",
       " 'SMO': array([0.        , 0.0015163 , 0.0030326 , 0.00379075, 0.0060652 ,\n",
       "        0.0197119 ]),\n",
       " 'SRC': array([0.        , 0.0029985 , 0.00449775, 0.005997  , 0.0089955 ,\n",
       "        0.06296852]),\n",
       " 'SREBF1': array([0.05277402, 0.135318  , 0.1759134 , 0.30040595, 0.47767253,\n",
       "        0.82679296]),\n",
       " 'TRAF2': array([0.        , 0.00500835, 0.01168614, 0.02337229, 0.05676127,\n",
       "        0.49749583]),\n",
       " 'TSC2': array([0.02980132, 0.08278146, 0.13741722, 0.24337748, 0.38741722,\n",
       "        0.79966887]),\n",
       " 'WWTR1': array([0.       , 0.       , 0.       , 0.       , 0.       , 0.0042061])}"
      ]
     },
     "execution_count": 24,
     "metadata": {},
     "output_type": "execute_result"
    },
    {
     "data": {
      "application/javascript": [
       "\n",
       "            setTimeout(function() {\n",
       "                var nbb_cell_id = 24;\n",
       "                var nbb_unformatted_code = \"logo_results = dict(zip(lo_labels, topk_test_accs))\\nlogo_results\";\n",
       "                var nbb_formatted_code = \"logo_results = dict(zip(lo_labels, topk_test_accs))\\nlogo_results\";\n",
       "                var nbb_cells = Jupyter.notebook.get_cells();\n",
       "                for (var i = 0; i < nbb_cells.length; ++i) {\n",
       "                    if (nbb_cells[i].input_prompt_number == nbb_cell_id) {\n",
       "                        if (nbb_cells[i].get_text() == nbb_unformatted_code) {\n",
       "                             nbb_cells[i].set_text(nbb_formatted_code);\n",
       "                        }\n",
       "                        break;\n",
       "                    }\n",
       "                }\n",
       "            }, 500);\n",
       "            "
      ],
      "text/plain": [
       "<IPython.core.display.Javascript object>"
      ]
     },
     "metadata": {},
     "output_type": "display_data"
    }
   ],
   "source": [
    "logo_results = dict(zip(lo_labels, topk_test_accs))\n",
    "logo_results"
   ]
  },
  {
   "cell_type": "code",
   "execution_count": 25,
   "id": "fe87eaa3",
   "metadata": {},
   "outputs": [
    {
     "data": {
      "text/html": [
       "<div>\n",
       "<style scoped>\n",
       "    .dataframe tbody tr th:only-of-type {\n",
       "        vertical-align: middle;\n",
       "    }\n",
       "\n",
       "    .dataframe tbody tr th {\n",
       "        vertical-align: top;\n",
       "    }\n",
       "\n",
       "    .dataframe thead th {\n",
       "        text-align: right;\n",
       "    }\n",
       "</style>\n",
       "<table border=\"1\" class=\"dataframe\">\n",
       "  <thead>\n",
       "    <tr style=\"text-align: right;\">\n",
       "      <th></th>\n",
       "      <th>top1</th>\n",
       "      <th>top3</th>\n",
       "      <th>top5</th>\n",
       "      <th>top10</th>\n",
       "      <th>top20</th>\n",
       "      <th>top50</th>\n",
       "    </tr>\n",
       "  </thead>\n",
       "  <tbody>\n",
       "    <tr>\n",
       "      <th>AKT1S1</th>\n",
       "      <td>0.433642</td>\n",
       "      <td>0.669753</td>\n",
       "      <td>0.797068</td>\n",
       "      <td>0.942901</td>\n",
       "      <td>0.990741</td>\n",
       "      <td>1.000000</td>\n",
       "    </tr>\n",
       "    <tr>\n",
       "      <th>APC</th>\n",
       "      <td>0.001570</td>\n",
       "      <td>0.004710</td>\n",
       "      <td>0.010989</td>\n",
       "      <td>0.032967</td>\n",
       "      <td>0.042386</td>\n",
       "      <td>0.091052</td>\n",
       "    </tr>\n",
       "    <tr>\n",
       "      <th>ATF4</th>\n",
       "      <td>0.013502</td>\n",
       "      <td>0.042194</td>\n",
       "      <td>0.054008</td>\n",
       "      <td>0.091983</td>\n",
       "      <td>0.207595</td>\n",
       "      <td>0.572152</td>\n",
       "    </tr>\n",
       "    <tr>\n",
       "      <th>BAX</th>\n",
       "      <td>0.083113</td>\n",
       "      <td>0.108179</td>\n",
       "      <td>0.126649</td>\n",
       "      <td>0.142480</td>\n",
       "      <td>0.174142</td>\n",
       "      <td>0.296834</td>\n",
       "    </tr>\n",
       "    <tr>\n",
       "      <th>BCL2L11</th>\n",
       "      <td>0.000000</td>\n",
       "      <td>0.000000</td>\n",
       "      <td>0.000000</td>\n",
       "      <td>0.000000</td>\n",
       "      <td>0.000000</td>\n",
       "      <td>0.069767</td>\n",
       "    </tr>\n",
       "  </tbody>\n",
       "</table>\n",
       "</div>"
      ],
      "text/plain": [
       "             top1      top3      top5     top10     top20     top50\n",
       "AKT1S1   0.433642  0.669753  0.797068  0.942901  0.990741  1.000000\n",
       "APC      0.001570  0.004710  0.010989  0.032967  0.042386  0.091052\n",
       "ATF4     0.013502  0.042194  0.054008  0.091983  0.207595  0.572152\n",
       "BAX      0.083113  0.108179  0.126649  0.142480  0.174142  0.296834\n",
       "BCL2L11  0.000000  0.000000  0.000000  0.000000  0.000000  0.069767"
      ]
     },
     "execution_count": 25,
     "metadata": {},
     "output_type": "execute_result"
    },
    {
     "data": {
      "application/javascript": [
       "\n",
       "            setTimeout(function() {\n",
       "                var nbb_cell_id = 25;\n",
       "                var nbb_unformatted_code = \"logo_results_df = pd.DataFrame(logo_results)\\nlogo_results_df = logo_results_df.transpose()\\nlogo_results_df.columns = [\\\"top1\\\", \\\"top3\\\", \\\"top5\\\", \\\"top10\\\", \\\"top20\\\", \\\"top50\\\"]\\nlogo_results_df.head()\";\n",
       "                var nbb_formatted_code = \"logo_results_df = pd.DataFrame(logo_results)\\nlogo_results_df = logo_results_df.transpose()\\nlogo_results_df.columns = [\\\"top1\\\", \\\"top3\\\", \\\"top5\\\", \\\"top10\\\", \\\"top20\\\", \\\"top50\\\"]\\nlogo_results_df.head()\";\n",
       "                var nbb_cells = Jupyter.notebook.get_cells();\n",
       "                for (var i = 0; i < nbb_cells.length; ++i) {\n",
       "                    if (nbb_cells[i].input_prompt_number == nbb_cell_id) {\n",
       "                        if (nbb_cells[i].get_text() == nbb_unformatted_code) {\n",
       "                             nbb_cells[i].set_text(nbb_formatted_code);\n",
       "                        }\n",
       "                        break;\n",
       "                    }\n",
       "                }\n",
       "            }, 500);\n",
       "            "
      ],
      "text/plain": [
       "<IPython.core.display.Javascript object>"
      ]
     },
     "metadata": {},
     "output_type": "display_data"
    }
   ],
   "source": [
    "logo_results_df = pd.DataFrame(logo_results)\n",
    "logo_results_df = logo_results_df.transpose()\n",
    "logo_results_df.columns = [\"top1\", \"top3\", \"top5\", \"top10\", \"top20\", \"top50\"]\n",
    "logo_results_df.head()"
   ]
  },
  {
   "cell_type": "code",
   "execution_count": 27,
   "id": "5075ce1e",
   "metadata": {},
   "outputs": [
    {
     "data": {
      "text/plain": [
       "top1     0.064219\n",
       "top3     0.124223\n",
       "top5     0.161939\n",
       "top10    0.225392\n",
       "top20    0.306248\n",
       "top50    0.468718\n",
       "dtype: float64"
      ]
     },
     "execution_count": 27,
     "metadata": {},
     "output_type": "execute_result"
    },
    {
     "data": {
      "application/javascript": [
       "\n",
       "            setTimeout(function() {\n",
       "                var nbb_cell_id = 27;\n",
       "                var nbb_unformatted_code = \"logo_results_df.mean(axis=0)\";\n",
       "                var nbb_formatted_code = \"logo_results_df.mean(axis=0)\";\n",
       "                var nbb_cells = Jupyter.notebook.get_cells();\n",
       "                for (var i = 0; i < nbb_cells.length; ++i) {\n",
       "                    if (nbb_cells[i].input_prompt_number == nbb_cell_id) {\n",
       "                        if (nbb_cells[i].get_text() == nbb_unformatted_code) {\n",
       "                             nbb_cells[i].set_text(nbb_formatted_code);\n",
       "                        }\n",
       "                        break;\n",
       "                    }\n",
       "                }\n",
       "            }, 500);\n",
       "            "
      ],
      "text/plain": [
       "<IPython.core.display.Javascript object>"
      ]
     },
     "metadata": {},
     "output_type": "display_data"
    }
   ],
   "source": [
    "logo_results_df.mean(axis=0)"
   ]
  },
  {
   "cell_type": "code",
   "execution_count": 28,
   "id": "5a109567",
   "metadata": {},
   "outputs": [
    {
     "data": {
      "text/plain": [
       "top1     0.096422\n",
       "top3     0.164575\n",
       "top5     0.202263\n",
       "top10    0.257776\n",
       "top20    0.315939\n",
       "top50    0.381914\n",
       "dtype: float64"
      ]
     },
     "execution_count": 28,
     "metadata": {},
     "output_type": "execute_result"
    },
    {
     "data": {
      "application/javascript": [
       "\n",
       "            setTimeout(function() {\n",
       "                var nbb_cell_id = 28;\n",
       "                var nbb_unformatted_code = \"logo_results_df.std(axis=0)\";\n",
       "                var nbb_formatted_code = \"logo_results_df.std(axis=0)\";\n",
       "                var nbb_cells = Jupyter.notebook.get_cells();\n",
       "                for (var i = 0; i < nbb_cells.length; ++i) {\n",
       "                    if (nbb_cells[i].input_prompt_number == nbb_cell_id) {\n",
       "                        if (nbb_cells[i].get_text() == nbb_unformatted_code) {\n",
       "                             nbb_cells[i].set_text(nbb_formatted_code);\n",
       "                        }\n",
       "                        break;\n",
       "                    }\n",
       "                }\n",
       "            }, 500);\n",
       "            "
      ],
      "text/plain": [
       "<IPython.core.display.Javascript object>"
      ]
     },
     "metadata": {},
     "output_type": "display_data"
    }
   ],
   "source": [
    "logo_results_df.std(axis=0)"
   ]
  },
  {
   "cell_type": "code",
   "execution_count": 50,
   "id": "410a8b00",
   "metadata": {},
   "outputs": [
    {
     "data": {
      "image/png": "[encoded data removed]",
      "text/plain": [
       "<Figure size 720x288 with 1 Axes>"
      ]
     },
     "metadata": {
      "needs_background": "light"
     },
     "output_type": "display_data"
    },
    {
     "data": {
      "application/javascript": [
       "\n",
       "            setTimeout(function() {\n",
       "                var nbb_cell_id = 50;\n",
       "                var nbb_unformatted_code = \"ax = logo_results_df.sort_values(\\\"top1\\\", ascending=False).top1.plot(\\n    kind=\\\"bar\\\", figsize=[10, 4]\\n)\\nax.set_title(\\\"Top-1 accuracy of logo-CV\\\")\\nplt.show()\";\n",
       "                var nbb_formatted_code = \"ax = logo_results_df.sort_values(\\\"top1\\\", ascending=False).top1.plot(\\n    kind=\\\"bar\\\", figsize=[10, 4]\\n)\\nax.set_title(\\\"Top-1 accuracy of logo-CV\\\")\\nplt.show()\";\n",
       "                var nbb_cells = Jupyter.notebook.get_cells();\n",
       "                for (var i = 0; i < nbb_cells.length; ++i) {\n",
       "                    if (nbb_cells[i].input_prompt_number == nbb_cell_id) {\n",
       "                        if (nbb_cells[i].get_text() == nbb_unformatted_code) {\n",
       "                             nbb_cells[i].set_text(nbb_formatted_code);\n",
       "                        }\n",
       "                        break;\n",
       "                    }\n",
       "                }\n",
       "            }, 500);\n",
       "            "
      ],
      "text/plain": [
       "<IPython.core.display.Javascript object>"
      ]
     },
     "metadata": {},
     "output_type": "display_data"
    }
   ],
   "source": [
    "ax = logo_results_df.sort_values(\"top1\", ascending=False).top1.plot(\n",
    "    kind=\"bar\", figsize=[10, 4]\n",
    ")\n",
    "ax.set_title(\"Top-1 accuracy of logo-CV\")\n",
    "plt.show()"
   ]
  },
  {
   "cell_type": "code",
   "execution_count": 51,
   "id": "dbc7cdc2",
   "metadata": {},
   "outputs": [
    {
     "data": {
      "image/png": "[encoded data removed]",
      "text/plain": [
       "<Figure size 720x288 with 1 Axes>"
      ]
     },
     "metadata": {
      "needs_background": "light"
     },
     "output_type": "display_data"
    },
    {
     "data": {
      "application/javascript": [
       "\n",
       "            setTimeout(function() {\n",
       "                var nbb_cell_id = 51;\n",
       "                var nbb_unformatted_code = \"ax = logo_results_df.sort_values(\\\"top3\\\", ascending=False).top3.plot(\\n    kind=\\\"bar\\\", figsize=[10, 4]\\n)\\nax.set_title(\\\"Top-3 accuracy of logo-CV\\\")\\nplt.show()\";\n",
       "                var nbb_formatted_code = \"ax = logo_results_df.sort_values(\\\"top3\\\", ascending=False).top3.plot(\\n    kind=\\\"bar\\\", figsize=[10, 4]\\n)\\nax.set_title(\\\"Top-3 accuracy of logo-CV\\\")\\nplt.show()\";\n",
       "                var nbb_cells = Jupyter.notebook.get_cells();\n",
       "                for (var i = 0; i < nbb_cells.length; ++i) {\n",
       "                    if (nbb_cells[i].input_prompt_number == nbb_cell_id) {\n",
       "                        if (nbb_cells[i].get_text() == nbb_unformatted_code) {\n",
       "                             nbb_cells[i].set_text(nbb_formatted_code);\n",
       "                        }\n",
       "                        break;\n",
       "                    }\n",
       "                }\n",
       "            }, 500);\n",
       "            "
      ],
      "text/plain": [
       "<IPython.core.display.Javascript object>"
      ]
     },
     "metadata": {},
     "output_type": "display_data"
    }
   ],
   "source": [
    "ax = logo_results_df.sort_values(\"top3\", ascending=False).top3.plot(\n",
    "    kind=\"bar\", figsize=[10, 4]\n",
    ")\n",
    "ax.set_title(\"Top-3 accuracy of logo-CV\")\n",
    "plt.show()"
   ]
  },
  {
   "cell_type": "code",
   "execution_count": 52,
   "id": "f6ec9022",
   "metadata": {},
   "outputs": [
    {
     "data": {
      "image/png": "[encoded data removed]",
      "text/plain": [
       "<Figure size 720x288 with 1 Axes>"
      ]
     },
     "metadata": {
      "needs_background": "light"
     },
     "output_type": "display_data"
    },
    {
     "data": {
      "application/javascript": [
       "\n",
       "            setTimeout(function() {\n",
       "                var nbb_cell_id = 52;\n",
       "                var nbb_unformatted_code = \"ax = logo_results_df.sort_values(\\\"top5\\\", ascending=False).top5.plot(\\n    kind=\\\"bar\\\", figsize=[10, 4]\\n)\\nax.set_title(\\\"Top-5 accuracy of logo-CV\\\")\\nplt.show()\";\n",
       "                var nbb_formatted_code = \"ax = logo_results_df.sort_values(\\\"top5\\\", ascending=False).top5.plot(\\n    kind=\\\"bar\\\", figsize=[10, 4]\\n)\\nax.set_title(\\\"Top-5 accuracy of logo-CV\\\")\\nplt.show()\";\n",
       "                var nbb_cells = Jupyter.notebook.get_cells();\n",
       "                for (var i = 0; i < nbb_cells.length; ++i) {\n",
       "                    if (nbb_cells[i].input_prompt_number == nbb_cell_id) {\n",
       "                        if (nbb_cells[i].get_text() == nbb_unformatted_code) {\n",
       "                             nbb_cells[i].set_text(nbb_formatted_code);\n",
       "                        }\n",
       "                        break;\n",
       "                    }\n",
       "                }\n",
       "            }, 500);\n",
       "            "
      ],
      "text/plain": [
       "<IPython.core.display.Javascript object>"
      ]
     },
     "metadata": {},
     "output_type": "display_data"
    }
   ],
   "source": [
    "ax = logo_results_df.sort_values(\"top5\", ascending=False).top5.plot(\n",
    "    kind=\"bar\", figsize=[10, 4]\n",
    ")\n",
    "ax.set_title(\"Top-5 accuracy of logo-CV\")\n",
    "plt.show()"
   ]
  },
  {
   "cell_type": "code",
   "execution_count": 53,
   "id": "67033e4c",
   "metadata": {},
   "outputs": [
    {
     "data": {
      "image/png": "[encoded data removed]",
      "text/plain": [
       "<Figure size 720x288 with 1 Axes>"
      ]
     },
     "metadata": {
      "needs_background": "light"
     },
     "output_type": "display_data"
    },
    {
     "data": {
      "application/javascript": [
       "\n",
       "            setTimeout(function() {\n",
       "                var nbb_cell_id = 53;\n",
       "                var nbb_unformatted_code = \"ax = logo_results_df.sort_values(\\\"top10\\\", ascending=False).top10.plot(\\n    kind=\\\"bar\\\", figsize=[10, 4]\\n)\\nax.set_title(\\\"Top-10 accuracy of logo-CV\\\")\\nplt.show()\";\n",
       "                var nbb_formatted_code = \"ax = logo_results_df.sort_values(\\\"top10\\\", ascending=False).top10.plot(\\n    kind=\\\"bar\\\", figsize=[10, 4]\\n)\\nax.set_title(\\\"Top-10 accuracy of logo-CV\\\")\\nplt.show()\";\n",
       "                var nbb_cells = Jupyter.notebook.get_cells();\n",
       "                for (var i = 0; i < nbb_cells.length; ++i) {\n",
       "                    if (nbb_cells[i].input_prompt_number == nbb_cell_id) {\n",
       "                        if (nbb_cells[i].get_text() == nbb_unformatted_code) {\n",
       "                             nbb_cells[i].set_text(nbb_formatted_code);\n",
       "                        }\n",
       "                        break;\n",
       "                    }\n",
       "                }\n",
       "            }, 500);\n",
       "            "
      ],
      "text/plain": [
       "<IPython.core.display.Javascript object>"
      ]
     },
     "metadata": {},
     "output_type": "display_data"
    }
   ],
   "source": [
    "ax = logo_results_df.sort_values(\"top10\", ascending=False).top10.plot(\n",
    "    kind=\"bar\", figsize=[10, 4]\n",
    ")\n",
    "ax.set_title(\"Top-10 accuracy of logo-CV\")\n",
    "plt.show()"
   ]
  },
  {
   "cell_type": "code",
   "execution_count": 54,
   "id": "1cdd3b64",
   "metadata": {},
   "outputs": [
    {
     "data": {
      "image/png": "[encoded data removed]",
      "text/plain": [
       "<Figure size 720x288 with 1 Axes>"
      ]
     },
     "metadata": {
      "needs_background": "light"
     },
     "output_type": "display_data"
    },
    {
     "data": {
      "application/javascript": [
       "\n",
       "            setTimeout(function() {\n",
       "                var nbb_cell_id = 54;\n",
       "                var nbb_unformatted_code = \"ax = logo_results_df.sort_values(\\\"top20\\\", ascending=False).top20.plot(\\n    kind=\\\"bar\\\", figsize=[10, 4]\\n)\\nax.set_title(\\\"Top-20 accuracy of logo-CV\\\")\\nplt.show()\";\n",
       "                var nbb_formatted_code = \"ax = logo_results_df.sort_values(\\\"top20\\\", ascending=False).top20.plot(\\n    kind=\\\"bar\\\", figsize=[10, 4]\\n)\\nax.set_title(\\\"Top-20 accuracy of logo-CV\\\")\\nplt.show()\";\n",
       "                var nbb_cells = Jupyter.notebook.get_cells();\n",
       "                for (var i = 0; i < nbb_cells.length; ++i) {\n",
       "                    if (nbb_cells[i].input_prompt_number == nbb_cell_id) {\n",
       "                        if (nbb_cells[i].get_text() == nbb_unformatted_code) {\n",
       "                             nbb_cells[i].set_text(nbb_formatted_code);\n",
       "                        }\n",
       "                        break;\n",
       "                    }\n",
       "                }\n",
       "            }, 500);\n",
       "            "
      ],
      "text/plain": [
       "<IPython.core.display.Javascript object>"
      ]
     },
     "metadata": {},
     "output_type": "display_data"
    }
   ],
   "source": [
    "ax = logo_results_df.sort_values(\"top20\", ascending=False).top20.plot(\n",
    "    kind=\"bar\", figsize=[10, 4]\n",
    ")\n",
    "ax.set_title(\"Top-20 accuracy of logo-CV\")\n",
    "plt.show()"
   ]
  },
  {
   "cell_type": "code",
   "execution_count": 55,
   "id": "83b1b2a1",
   "metadata": {},
   "outputs": [
    {
     "data": {
      "image/png": "[encoded data removed]",
      "text/plain": [
       "<Figure size 720x288 with 1 Axes>"
      ]
     },
     "metadata": {
      "needs_background": "light"
     },
     "output_type": "display_data"
    },
    {
     "data": {
      "application/javascript": [
       "\n",
       "            setTimeout(function() {\n",
       "                var nbb_cell_id = 55;\n",
       "                var nbb_unformatted_code = \"ax = logo_results_df.sort_values(\\\"top50\\\", ascending=False).top50.plot(\\n    kind=\\\"bar\\\", figsize=[10, 4]\\n)\\nax.set_title(\\\"Top-50 accuracy of logo-CV\\\")\\nplt.show()\";\n",
       "                var nbb_formatted_code = \"ax = logo_results_df.sort_values(\\\"top50\\\", ascending=False).top50.plot(\\n    kind=\\\"bar\\\", figsize=[10, 4]\\n)\\nax.set_title(\\\"Top-50 accuracy of logo-CV\\\")\\nplt.show()\";\n",
       "                var nbb_cells = Jupyter.notebook.get_cells();\n",
       "                for (var i = 0; i < nbb_cells.length; ++i) {\n",
       "                    if (nbb_cells[i].input_prompt_number == nbb_cell_id) {\n",
       "                        if (nbb_cells[i].get_text() == nbb_unformatted_code) {\n",
       "                             nbb_cells[i].set_text(nbb_formatted_code);\n",
       "                        }\n",
       "                        break;\n",
       "                    }\n",
       "                }\n",
       "            }, 500);\n",
       "            "
      ],
      "text/plain": [
       "<IPython.core.display.Javascript object>"
      ]
     },
     "metadata": {},
     "output_type": "display_data"
    }
   ],
   "source": [
    "ax = logo_results_df.sort_values(\"top50\", ascending=False).top50.plot(\n",
    "    kind=\"bar\", figsize=[10, 4]\n",
    ")\n",
    "ax.set_title(\"Top-50 accuracy of logo-CV\")\n",
    "plt.show()"
   ]
  },
  {
   "cell_type": "code",
   "execution_count": null,
   "id": "827d2e49",
   "metadata": {},
   "outputs": [],
   "source": []
  }
 ],
 "metadata": {
  "kernelspec": {
   "display_name": "Python 3",
   "language": "python",
   "name": "python3"
  },
  "language_info": {
   "codemirror_mode": {
    "name": "ipython",
    "version": 3
   },
   "file_extension": ".py",
   "mimetype": "text/x-python",
   "name": "python",
   "nbconvert_exporter": "python",
   "pygments_lexer": "ipython3",
   "version": "3.8.10"
  }
 },
 "nbformat": 4,
 "nbformat_minor": 5
}
