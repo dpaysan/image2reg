{
 "cells": [
  {
   "cell_type": "markdown",
   "id": "8b31e834",
   "metadata": {},
   "source": [
    "# Analyses of the inferred embeddings of the structural regualtors\n",
    "\n",
    "In this notebook we assess the inferred image embeddings for the previosuly determined structural embeddings. To this end, we will use the embeddings computed during the training of the ResNet ensemble in the 4-fold Group CV setup.\n",
    "\n",
    "---\n",
    "\n",
    "## 0. Environmental setup"
   ]
  },
  {
   "cell_type": "markdown",
   "id": "b85e1300",
   "metadata": {},
   "source": [
    "First, we read in the required software packages and libraries."
   ]
  },
  {
   "cell_type": "code",
   "execution_count": 1,
   "id": "31bf3f96",
   "metadata": {},
   "outputs": [
    {
     "data": {
      "application/javascript": [
       "\n",
       "            setTimeout(function() {\n",
       "                var nbb_cell_id = 1;\n",
       "                var nbb_unformatted_code = \"import matplotlib.pyplot as plt\\nimport numpy as np\\nimport pandas as pd\\nfrom umap import UMAP\\nfrom sklearn.preprocessing import StandardScaler\\nfrom sklearn.manifold import TSNE\\nimport seaborn as sns\\nfrom sklearn.cluster import KMeans\\nfrom scipy.cluster import hierarchy as hc\\nfrom scipy.spatial.distance import pdist, euclidean, cosine\\nfrom tqdm import tqdm\\nfrom scipy.spatial.distance import squareform\\nimport sys\\nfrom sklearn.metrics import (\\n    mutual_info_score,\\n    adjusted_mutual_info_score,\\n    adjusted_rand_score,\\n    rand_score,\\n    v_measure_score,\\n    normalized_mutual_info_score,\\n)\\nimport matplotlib as mpl\\nfrom collections import Counter\\nfrom yellowbrick.cluster.elbow import kelbow_visualizer\\nfrom yellowbrick.cluster import KElbowVisualizer\\nfrom IPython.display import Image\\nfrom statannot import add_stat_annotation\\nimport ot\\n\\nsys.path.append(\\\"../../..\\\")\\nfrom src.utils.notebooks.ppi.embedding import *\\nfrom src.utils.notebooks.images.embedding import *\\nfrom src.utils.notebooks.translation.analysis import *\\nfrom src.utils.basic.io import get_genesets_from_gmt_file\\n\\nmpl.rcParams[\\\"figure.dpi\\\"] = 600\\n\\nseed = 1234\\n\\n%reload_ext nb_black\";\n",
       "                var nbb_formatted_code = \"import matplotlib.pyplot as plt\\nimport numpy as np\\nimport pandas as pd\\nfrom umap import UMAP\\nfrom sklearn.preprocessing import StandardScaler\\nfrom sklearn.manifold import TSNE\\nimport seaborn as sns\\nfrom sklearn.cluster import KMeans\\nfrom scipy.cluster import hierarchy as hc\\nfrom scipy.spatial.distance import pdist, euclidean, cosine\\nfrom tqdm import tqdm\\nfrom scipy.spatial.distance import squareform\\nimport sys\\nfrom sklearn.metrics import (\\n    mutual_info_score,\\n    adjusted_mutual_info_score,\\n    adjusted_rand_score,\\n    rand_score,\\n    v_measure_score,\\n    normalized_mutual_info_score,\\n)\\nimport matplotlib as mpl\\nfrom collections import Counter\\nfrom yellowbrick.cluster.elbow import kelbow_visualizer\\nfrom yellowbrick.cluster import KElbowVisualizer\\nfrom IPython.display import Image\\nfrom statannot import add_stat_annotation\\nimport ot\\n\\nsys.path.append(\\\"../../..\\\")\\nfrom src.utils.notebooks.ppi.embedding import *\\nfrom src.utils.notebooks.images.embedding import *\\nfrom src.utils.notebooks.translation.analysis import *\\nfrom src.utils.basic.io import get_genesets_from_gmt_file\\n\\nmpl.rcParams[\\\"figure.dpi\\\"] = 600\\n\\nseed = 1234\\n\\n%reload_ext nb_black\";\n",
       "                var nbb_cells = Jupyter.notebook.get_cells();\n",
       "                for (var i = 0; i < nbb_cells.length; ++i) {\n",
       "                    if (nbb_cells[i].input_prompt_number == nbb_cell_id) {\n",
       "                        if (nbb_cells[i].get_text() == nbb_unformatted_code) {\n",
       "                             nbb_cells[i].set_text(nbb_formatted_code);\n",
       "                        }\n",
       "                        break;\n",
       "                    }\n",
       "                }\n",
       "            }, 500);\n",
       "            "
      ],
      "text/plain": [
       "<IPython.core.display.Javascript object>"
      ]
     },
     "metadata": {},
     "output_type": "display_data"
    }
   ],
   "source": [
    "import matplotlib.pyplot as plt\n",
    "import numpy as np\n",
    "import pandas as pd\n",
    "from umap import UMAP\n",
    "from sklearn.preprocessing import StandardScaler\n",
    "from sklearn.manifold import TSNE\n",
    "import seaborn as sns\n",
    "from sklearn.cluster import KMeans\n",
    "from scipy.cluster import hierarchy as hc\n",
    "from scipy.spatial.distance import pdist, euclidean, cosine\n",
    "from tqdm import tqdm\n",
    "from scipy.spatial.distance import squareform\n",
    "import sys\n",
    "from sklearn.metrics import (\n",
    "    mutual_info_score,\n",
    "    adjusted_mutual_info_score,\n",
    "    adjusted_rand_score,\n",
    "    rand_score,\n",
    "    v_measure_score,\n",
    "    normalized_mutual_info_score,\n",
    ")\n",
    "import matplotlib as mpl\n",
    "from collections import Counter\n",
    "from yellowbrick.cluster.elbow import kelbow_visualizer\n",
    "from yellowbrick.cluster import KElbowVisualizer\n",
    "from IPython.display import Image\n",
    "from statannot import add_stat_annotation\n",
    "import ot\n",
    "\n",
    "sys.path.append(\"../../..\")\n",
    "from src.utils.notebooks.ppi.embedding import *\n",
    "from src.utils.notebooks.images.embedding import *\n",
    "from src.utils.notebooks.translation.analysis import *\n",
    "from src.utils.basic.io import get_genesets_from_gmt_file\n",
    "\n",
    "mpl.rcParams[\"figure.dpi\"] = 600\n",
    "\n",
    "seed = 1234\n",
    "\n",
    "%reload_ext nb_black"
   ]
  },
  {
   "cell_type": "code",
   "execution_count": 2,
   "id": "d95728d1",
   "metadata": {},
   "outputs": [
    {
     "data": {
      "application/javascript": [
       "\n",
       "            setTimeout(function() {\n",
       "                var nbb_cell_id = 2;\n",
       "                var nbb_unformatted_code = \"def assess_cluster_topk(reg_nn_dict, struct_nn_dict, cluster_df):\\n    struct_topks = []\\n    reg_topks = []\\n    samples = []\\n    for sample in reg_nn_dict.keys():\\n        reg_nns = reg_nn_dict[sample]\\n        struct_nns = struct_nn_dict[sample]\\n        cluster = np.array(cluster_df.loc[sample])[0]\\n        n_cluster_samples = len(cluster_df.loc[cluster_df.cluster == cluster])\\n        if n_cluster_samples < 2:\\n            continue\\n        samples.append(sample)\\n        sample_struct_topks = [0]\\n        sample_reg_topks = [0]\\n        for i in range(1, len(reg_nns)):\\n            reg_nn_cluster = np.array(cluster_df.loc[reg_nns[i]])[0]\\n            struct_nn_cluster = np.array(cluster_df.loc[struct_nns[i]])[0]\\n            sample_struct_topks.append(\\n                sample_struct_topks[-1] + int(struct_nn_cluster == cluster)\\n            )\\n            sample_reg_topks.append(\\n                sample_reg_topks[-1] + int(reg_nn_cluster == cluster)\\n            )\\n        struct_topks.append(np.array(sample_struct_topks[1:]) / (n_cluster_samples - 1))\\n        reg_topks.append(np.array(sample_reg_topks[1:]) / (n_cluster_samples - 1))\\n    return samples, np.array(struct_topks), np.array(reg_topks)\";\n",
       "                var nbb_formatted_code = \"def assess_cluster_topk(reg_nn_dict, struct_nn_dict, cluster_df):\\n    struct_topks = []\\n    reg_topks = []\\n    samples = []\\n    for sample in reg_nn_dict.keys():\\n        reg_nns = reg_nn_dict[sample]\\n        struct_nns = struct_nn_dict[sample]\\n        cluster = np.array(cluster_df.loc[sample])[0]\\n        n_cluster_samples = len(cluster_df.loc[cluster_df.cluster == cluster])\\n        if n_cluster_samples < 2:\\n            continue\\n        samples.append(sample)\\n        sample_struct_topks = [0]\\n        sample_reg_topks = [0]\\n        for i in range(1, len(reg_nns)):\\n            reg_nn_cluster = np.array(cluster_df.loc[reg_nns[i]])[0]\\n            struct_nn_cluster = np.array(cluster_df.loc[struct_nns[i]])[0]\\n            sample_struct_topks.append(\\n                sample_struct_topks[-1] + int(struct_nn_cluster == cluster)\\n            )\\n            sample_reg_topks.append(\\n                sample_reg_topks[-1] + int(reg_nn_cluster == cluster)\\n            )\\n        struct_topks.append(np.array(sample_struct_topks[1:]) / (n_cluster_samples - 1))\\n        reg_topks.append(np.array(sample_reg_topks[1:]) / (n_cluster_samples - 1))\\n    return samples, np.array(struct_topks), np.array(reg_topks)\";\n",
       "                var nbb_cells = Jupyter.notebook.get_cells();\n",
       "                for (var i = 0; i < nbb_cells.length; ++i) {\n",
       "                    if (nbb_cells[i].input_prompt_number == nbb_cell_id) {\n",
       "                        if (nbb_cells[i].get_text() == nbb_unformatted_code) {\n",
       "                             nbb_cells[i].set_text(nbb_formatted_code);\n",
       "                        }\n",
       "                        break;\n",
       "                    }\n",
       "                }\n",
       "            }, 500);\n",
       "            "
      ],
      "text/plain": [
       "<IPython.core.display.Javascript object>"
      ]
     },
     "metadata": {},
     "output_type": "display_data"
    }
   ],
   "source": [
    "def assess_cluster_topk(reg_nn_dict, struct_nn_dict, cluster_df):\n",
    "    struct_topks = []\n",
    "    reg_topks = []\n",
    "    samples = []\n",
    "    for sample in reg_nn_dict.keys():\n",
    "        reg_nns = reg_nn_dict[sample]\n",
    "        struct_nns = struct_nn_dict[sample]\n",
    "        cluster = np.array(cluster_df.loc[sample])[0]\n",
    "        n_cluster_samples = len(cluster_df.loc[cluster_df.cluster == cluster])\n",
    "        if n_cluster_samples < 2:\n",
    "            continue\n",
    "        samples.append(sample)\n",
    "        sample_struct_topks = [0]\n",
    "        sample_reg_topks = [0]\n",
    "        for i in range(1, len(reg_nns)):\n",
    "            reg_nn_cluster = np.array(cluster_df.loc[reg_nns[i]])[0]\n",
    "            struct_nn_cluster = np.array(cluster_df.loc[struct_nns[i]])[0]\n",
    "            sample_struct_topks.append(\n",
    "                sample_struct_topks[-1] + int(struct_nn_cluster == cluster)\n",
    "            )\n",
    "            sample_reg_topks.append(\n",
    "                sample_reg_topks[-1] + int(reg_nn_cluster == cluster)\n",
    "            )\n",
    "        struct_topks.append(np.array(sample_struct_topks[1:]) / (n_cluster_samples - 1))\n",
    "        reg_topks.append(np.array(sample_reg_topks[1:]) / (n_cluster_samples - 1))\n",
    "    return samples, np.array(struct_topks), np.array(reg_topks)"
   ]
  },
  {
   "cell_type": "code",
   "execution_count": 3,
   "id": "dd66c63d",
   "metadata": {},
   "outputs": [
    {
     "data": {
      "application/javascript": [
       "\n",
       "            setTimeout(function() {\n",
       "                var nbb_cell_id = 3;\n",
       "                var nbb_unformatted_code = \"def get_neighbor_dict(data, metric=\\\"euclidean\\\"):\\n    samples = np.array(data.index)\\n    nn = NearestNeighbors(n_neighbors=len(data), metric=metric)\\n    sample_neighbor_dict = {}\\n    nn.fit(np.array(data))\\n    for sample in samples:\\n        if metric == \\\"precomputed\\\":\\n            query = np.zeros((1, len(data)))\\n            query[0, np.where(samples == sample)[0]] = 1\\n            pred_idx = nn.kneighbors(query, return_distance=False)[0]\\n        pred_idx = nn.kneighbors(\\n            np.array(data.loc[sample]).reshape(1, -1), return_distance=False\\n        )[0]\\n        sample_neighbor_dict[sample] = samples[pred_idx]\\n    return sample_neighbor_dict\";\n",
       "                var nbb_formatted_code = \"def get_neighbor_dict(data, metric=\\\"euclidean\\\"):\\n    samples = np.array(data.index)\\n    nn = NearestNeighbors(n_neighbors=len(data), metric=metric)\\n    sample_neighbor_dict = {}\\n    nn.fit(np.array(data))\\n    for sample in samples:\\n        if metric == \\\"precomputed\\\":\\n            query = np.zeros((1, len(data)))\\n            query[0, np.where(samples == sample)[0]] = 1\\n            pred_idx = nn.kneighbors(query, return_distance=False)[0]\\n        pred_idx = nn.kneighbors(\\n            np.array(data.loc[sample]).reshape(1, -1), return_distance=False\\n        )[0]\\n        sample_neighbor_dict[sample] = samples[pred_idx]\\n    return sample_neighbor_dict\";\n",
       "                var nbb_cells = Jupyter.notebook.get_cells();\n",
       "                for (var i = 0; i < nbb_cells.length; ++i) {\n",
       "                    if (nbb_cells[i].input_prompt_number == nbb_cell_id) {\n",
       "                        if (nbb_cells[i].get_text() == nbb_unformatted_code) {\n",
       "                             nbb_cells[i].set_text(nbb_formatted_code);\n",
       "                        }\n",
       "                        break;\n",
       "                    }\n",
       "                }\n",
       "            }, 500);\n",
       "            "
      ],
      "text/plain": [
       "<IPython.core.display.Javascript object>"
      ]
     },
     "metadata": {},
     "output_type": "display_data"
    }
   ],
   "source": [
    "def get_neighbor_dict(data, metric=\"euclidean\"):\n",
    "    samples = np.array(data.index)\n",
    "    nn = NearestNeighbors(n_neighbors=len(data), metric=metric)\n",
    "    sample_neighbor_dict = {}\n",
    "    nn.fit(np.array(data))\n",
    "    for sample in samples:\n",
    "        if metric == \"precomputed\":\n",
    "            query = np.zeros((1, len(data)))\n",
    "            query[0, np.where(samples == sample)[0]] = 1\n",
    "            pred_idx = nn.kneighbors(query, return_distance=False)[0]\n",
    "        pred_idx = nn.kneighbors(\n",
    "            np.array(data.loc[sample]).reshape(1, -1), return_distance=False\n",
    "        )[0]\n",
    "        sample_neighbor_dict[sample] = samples[pred_idx]\n",
    "    return sample_neighbor_dict"
   ]
  },
  {
   "cell_type": "code",
   "execution_count": 4,
   "id": "27683856",
   "metadata": {},
   "outputs": [
    {
     "data": {
      "application/javascript": [
       "\n",
       "            setTimeout(function() {\n",
       "                var nbb_cell_id = 4;\n",
       "                var nbb_unformatted_code = \"def get_emd_for_embs(embs, label_col, metric=\\\"euclidean\\\"):\\n    targets = np.unique(embs.loc[:, label_col])\\n    n_targets = len(targets)\\n    wd_mtx = np.infty * np.ones((n_targets, n_targets))\\n    for i in tqdm(range(n_targets), desc=\\\"Compute EMD\\\"):\\n        source = targets[i]\\n        xs = np.array(embs.loc[embs.loc[:, label_col] == source]._get_numeric_data())\\n        ns = len(xs)\\n        ps = np.ones((ns,)) / ns\\n        for j in range(i, n_targets):\\n            target = targets[j]\\n            if source == target:\\n                wd_st = 0\\n            else:\\n                xt = np.array(\\n                    embs.loc[embs.loc[:, label_col] == target]._get_numeric_data()\\n                )\\n                nt = len(xt)\\n                pt = np.ones((nt,)) / nt\\n                m = ot.dist(xs, xt, metric=metric)\\n                m = m / m.max()\\n                wd_st = ot.emd2(ps, pt, m, numItermax=1e9)\\n            wd_mtx[i, j] = wd_st\\n            wd_mtx[j, i] = wd_st\\n    wd_df = pd.DataFrame(wd_mtx, columns=list(targets), index=list(targets))\\n    return wd_df\";\n",
       "                var nbb_formatted_code = \"def get_emd_for_embs(embs, label_col, metric=\\\"euclidean\\\"):\\n    targets = np.unique(embs.loc[:, label_col])\\n    n_targets = len(targets)\\n    wd_mtx = np.infty * np.ones((n_targets, n_targets))\\n    for i in tqdm(range(n_targets), desc=\\\"Compute EMD\\\"):\\n        source = targets[i]\\n        xs = np.array(embs.loc[embs.loc[:, label_col] == source]._get_numeric_data())\\n        ns = len(xs)\\n        ps = np.ones((ns,)) / ns\\n        for j in range(i, n_targets):\\n            target = targets[j]\\n            if source == target:\\n                wd_st = 0\\n            else:\\n                xt = np.array(\\n                    embs.loc[embs.loc[:, label_col] == target]._get_numeric_data()\\n                )\\n                nt = len(xt)\\n                pt = np.ones((nt,)) / nt\\n                m = ot.dist(xs, xt, metric=metric)\\n                m = m / m.max()\\n                wd_st = ot.emd2(ps, pt, m, numItermax=1e9)\\n            wd_mtx[i, j] = wd_st\\n            wd_mtx[j, i] = wd_st\\n    wd_df = pd.DataFrame(wd_mtx, columns=list(targets), index=list(targets))\\n    return wd_df\";\n",
       "                var nbb_cells = Jupyter.notebook.get_cells();\n",
       "                for (var i = 0; i < nbb_cells.length; ++i) {\n",
       "                    if (nbb_cells[i].input_prompt_number == nbb_cell_id) {\n",
       "                        if (nbb_cells[i].get_text() == nbb_unformatted_code) {\n",
       "                             nbb_cells[i].set_text(nbb_formatted_code);\n",
       "                        }\n",
       "                        break;\n",
       "                    }\n",
       "                }\n",
       "            }, 500);\n",
       "            "
      ],
      "text/plain": [
       "<IPython.core.display.Javascript object>"
      ]
     },
     "metadata": {},
     "output_type": "display_data"
    }
   ],
   "source": [
    "def get_emd_for_embs(embs, label_col, metric=\"euclidean\"):\n",
    "    targets = np.unique(embs.loc[:, label_col])\n",
    "    n_targets = len(targets)\n",
    "    wd_mtx = np.infty * np.ones((n_targets, n_targets))\n",
    "    for i in tqdm(range(n_targets), desc=\"Compute EMD\"):\n",
    "        source = targets[i]\n",
    "        xs = np.array(embs.loc[embs.loc[:, label_col] == source]._get_numeric_data())\n",
    "        ns = len(xs)\n",
    "        ps = np.ones((ns,)) / ns\n",
    "        for j in range(i, n_targets):\n",
    "            target = targets[j]\n",
    "            if source == target:\n",
    "                wd_st = 0\n",
    "            else:\n",
    "                xt = np.array(\n",
    "                    embs.loc[embs.loc[:, label_col] == target]._get_numeric_data()\n",
    "                )\n",
    "                nt = len(xt)\n",
    "                pt = np.ones((nt,)) / nt\n",
    "                m = ot.dist(xs, xt, metric=metric)\n",
    "                m = m / m.max()\n",
    "                wd_st = ot.emd2(ps, pt, m, numItermax=1e9)\n",
    "            wd_mtx[i, j] = wd_st\n",
    "            wd_mtx[j, i] = wd_st\n",
    "    wd_df = pd.DataFrame(wd_mtx, columns=list(targets), index=list(targets))\n",
    "    return wd_df"
   ]
  },
  {
   "cell_type": "markdown",
   "id": "692c1c0f",
   "metadata": {},
   "source": [
    "---\n",
    "\n",
    "## 1. Read in data"
   ]
  },
  {
   "cell_type": "markdown",
   "id": "c3e19a5a",
   "metadata": {},
   "source": [
    "Second, we read in the data that describes the latent embeddings of the individual images part of the respective held-out sets in the CV setting."
   ]
  },
  {
   "cell_type": "code",
   "execution_count": 6,
   "id": "a4b3c48f",
   "metadata": {},
   "outputs": [
    {
     "name": "stdout",
     "output_type": "stream",
     "text": [
      "Read in latent embeddings of shape: (154866, 1026)\n"
     ]
    },
    {
     "data": {
      "application/javascript": [
       "\n",
       "            setTimeout(function() {\n",
       "                var nbb_cell_id = 6;\n",
       "                var nbb_unformatted_code = \"root_dir = \\\"../../../data/experiments/image_embeddings/specificity_target_emb_cv_strat/final_1024/\\\"\\n\\nall_latents = []\\n\\nfor i in range(4):\\n    latents = pd.read_hdf(root_dir + \\\"fold_{}/\\\".format(i) + \\\"test_latents.h5\\\")\\n    latents[\\\"fold\\\"] = \\\"fold_{}\\\".format(i)\\n    all_latents.append(latents)\\nlatents = pd.concat(all_latents)\\nprint(\\\"Read in latent embeddings of shape: {}\\\".format(np.array(latents).shape))\";\n",
       "                var nbb_formatted_code = \"root_dir = \\\"../../../data/experiments/image_embeddings/specificity_target_emb_cv_strat/final_1024/\\\"\\n\\nall_latents = []\\n\\nfor i in range(4):\\n    latents = pd.read_hdf(root_dir + \\\"fold_{}/\\\".format(i) + \\\"test_latents.h5\\\")\\n    latents[\\\"fold\\\"] = \\\"fold_{}\\\".format(i)\\n    all_latents.append(latents)\\nlatents = pd.concat(all_latents)\\nprint(\\\"Read in latent embeddings of shape: {}\\\".format(np.array(latents).shape))\";\n",
       "                var nbb_cells = Jupyter.notebook.get_cells();\n",
       "                for (var i = 0; i < nbb_cells.length; ++i) {\n",
       "                    if (nbb_cells[i].input_prompt_number == nbb_cell_id) {\n",
       "                        if (nbb_cells[i].get_text() == nbb_unformatted_code) {\n",
       "                             nbb_cells[i].set_text(nbb_formatted_code);\n",
       "                        }\n",
       "                        break;\n",
       "                    }\n",
       "                }\n",
       "            }, 500);\n",
       "            "
      ],
      "text/plain": [
       "<IPython.core.display.Javascript object>"
      ]
     },
     "metadata": {},
     "output_type": "display_data"
    }
   ],
   "source": [
    "root_dir = \"../../../data/experiments/image_embeddings/specificity_target_emb_cv_strat/final_1024/\"\n",
    "\n",
    "all_latents = []\n",
    "\n",
    "for i in range(4):\n",
    "    latents = pd.read_hdf(root_dir + \"fold_{}/\".format(i) + \"test_latents.h5\")\n",
    "    latents[\"fold\"] = \"fold_{}\".format(i)\n",
    "    all_latents.append(latents)\n",
    "latents = pd.concat(all_latents)\n",
    "print(\"Read in latent embeddings of shape: {}\".format(np.array(latents).shape))"
   ]
  },
  {
   "cell_type": "code",
   "execution_count": null,
   "id": "69e9e5ad",
   "metadata": {},
   "outputs": [],
   "source": [
    "oe_targets = pd.read_csv(\"../../../data/other/target_lists/covered_oe_targets.csv\")"
   ]
  },
  {
   "cell_type": "markdown",
   "id": "d753dd42",
   "metadata": {},
   "source": [
    "We will decode the numeric class labels to identify which regulator each embedding corresponds to."
   ]
  },
  {
   "cell_type": "code",
   "execution_count": null,
   "id": "362af25e",
   "metadata": {},
   "outputs": [],
   "source": [
    "label_dict = {\n",
    "    \"AKT1S1\": 0,\n",
    "    \"ATF4\": 1,\n",
    "    \"BAX\": 2,\n",
    "    \"BCL2L11\": 3,\n",
    "    \"BRAF\": 4,\n",
    "    \"CASP8\": 5,\n",
    "    \"CDC42\": 6,\n",
    "    \"CDKN1A\": 7,\n",
    "    \"CEBPA\": 8,\n",
    "    \"CREB1\": 9,\n",
    "    \"CXXC4\": 10,\n",
    "    \"DIABLO\": 11,\n",
    "    \"E2F1\": 12,\n",
    "    \"ELK1\": 13,\n",
    "    \"EMPTY\": 14,\n",
    "    \"ERG\": 15,\n",
    "    \"FGFR3\": 16,\n",
    "    \"FOXO1\": 17,\n",
    "    \"GLI1\": 18,\n",
    "    \"HRAS\": 19,\n",
    "    \"IRAK4\": 20,\n",
    "    \"JUN\": 21,\n",
    "    \"MAP2K3\": 22,\n",
    "    \"MAP3K2\": 23,\n",
    "    \"MAP3K5\": 24,\n",
    "    \"MAP3K9\": 25,\n",
    "    \"MAPK7\": 26,\n",
    "    \"MOS\": 27,\n",
    "    \"MYD88\": 28,\n",
    "    \"PIK3R2\": 29,\n",
    "    \"PRKACA\": 30,\n",
    "    \"PRKCE\": 31,\n",
    "    \"RAF1\": 32,\n",
    "    \"RELB\": 33,\n",
    "    \"RHOA\": 34,\n",
    "    \"SMAD4\": 35,\n",
    "    \"SMO\": 36,\n",
    "    \"SRC\": 37,\n",
    "    \"SREBF1\": 38,\n",
    "    \"TRAF2\": 39,\n",
    "    \"TSC2\": 40,\n",
    "    \"WWTR1\": 41,\n",
    "}\n",
    "label_dict = dict(zip(list(label_dict.values()), list(label_dict.keys())))\n",
    "latents.loc[:, \"labels\"] = latents.loc[:, \"labels\"].map(label_dict)"
   ]
  },
  {
   "cell_type": "code",
   "execution_count": null,
   "id": "8686178a",
   "metadata": {},
   "outputs": [],
   "source": [
    "cyto_skeleton_genes = list(\n",
    "    pd.read_csv(\n",
    "        \"../../../data/other/genesets/kegg_reg_act_cytoskeleton.txt\",\n",
    "        header=None,\n",
    "        index_col=0,\n",
    "    ).index\n",
    ")\n",
    "cell_cycle_genes = list(\n",
    "    pd.read_csv(\n",
    "        \"../../../data/other/genesets/reactome_cell_cycle.txt\", header=None, index_col=0\n",
    "    ).index\n",
    ")\n",
    "chrom_org_genes = list(\n",
    "    pd.read_csv(\n",
    "        \"../../../data/other/genesets/reactome_chrom_org.txt\", header=None, index_col=0\n",
    "    ).index\n",
    ")\n",
    "dna_repair_genes = list(\n",
    "    pd.read_csv(\n",
    "        \"../../../data/other/genesets/reactome_dna_repair.txt\", header=None, index_col=0\n",
    "    ).index\n",
    ")\n",
    "apoptosis_genes = list(\n",
    "    pd.read_csv(\n",
    "        \"../../../data/other/genesets/reactome_cell_death.txt\", header=None, index_col=0\n",
    "    ).index\n",
    ")\n",
    "human_tfs = list(\n",
    "    pd.read_csv(\n",
    "        \"../../../data/other/genesets/human_tf_list.txt\", header=None, index_col=0\n",
    "    ).index\n",
    ")"
   ]
  },
  {
   "cell_type": "markdown",
   "id": "b55e7194",
   "metadata": {},
   "source": [
    "---\n",
    "\n",
    "## 2. Visualization of the embeddings\n",
    "\n",
    "Next, we will visualize the individual embeddings. To this end, we will use UMAP to compute a 2D representation of the individual embeddings."
   ]
  },
  {
   "cell_type": "markdown",
   "id": "de695aa6",
   "metadata": {},
   "source": [
    "### 2.1. Overview of the joint latent spaces"
   ]
  },
  {
   "cell_type": "markdown",
   "id": "25fdc1e5",
   "metadata": {},
   "source": [
    "As a first step we show that as expected the embeddings cluster by their corresponding folds. This is shown by the plots below shoing each individual regulator OE conditions vs all other conditions and color each data point by the fold where it was part of the held-out set. One can clearly see the individual point clouds corresponding to the different embeddings obtained from the different models trained in the 4-fold CV procedure and evaluated on the held-out folds."
   ]
  },
  {
   "cell_type": "code",
   "execution_count": null,
   "id": "b9c02058",
   "metadata": {
    "scrolled": true
   },
   "outputs": [],
   "source": [
    "embs = plot_struct_embs_cv(latents, random_state=1234, normalize_all=True)"
   ]
  },
  {
   "cell_type": "markdown",
   "id": "f5b13d25",
   "metadata": {},
   "source": [
    "---\n",
    "\n",
    "### 2.2. Overview of the individual latent spaces"
   ]
  },
  {
   "cell_type": "markdown",
   "id": "3750b0bc",
   "metadata": {},
   "source": [
    "#### 2.2.a. Fold-wise comparison"
   ]
  },
  {
   "cell_type": "markdown",
   "id": "2ada480d",
   "metadata": {},
   "source": [
    "We will now look also individually at each fold to first visually assess if the structure in the inferred latent space between the different targets is comparable."
   ]
  },
  {
   "cell_type": "markdown",
   "id": "22454bde",
   "metadata": {},
   "source": [
    "##### Fold 0"
   ]
  },
  {
   "cell_type": "code",
   "execution_count": null,
   "id": "77ec430c",
   "metadata": {
    "scrolled": true
   },
   "outputs": [],
   "source": [
    "embs_0 = plot_struct_embs_cv(latents, random_state=1234, folds=[\"fold_0\"])"
   ]
  },
  {
   "cell_type": "markdown",
   "id": "b6fc451d",
   "metadata": {},
   "source": [
    "##### Fold 1"
   ]
  },
  {
   "cell_type": "code",
   "execution_count": null,
   "id": "6fab666d",
   "metadata": {},
   "outputs": [],
   "source": [
    "embs_1 = plot_struct_embs_cv(latents, random_state=1234, folds=[\"fold_1\"])"
   ]
  },
  {
   "cell_type": "markdown",
   "id": "566d9028",
   "metadata": {},
   "source": [
    "##### Fold 2"
   ]
  },
  {
   "cell_type": "code",
   "execution_count": null,
   "id": "408db843",
   "metadata": {},
   "outputs": [],
   "source": [
    "embs_2 = plot_struct_embs_cv(latents, random_state=1234, folds=[\"fold_2\"])"
   ]
  },
  {
   "cell_type": "markdown",
   "id": "e582a1aa",
   "metadata": {},
   "source": [
    "##### Fold 3"
   ]
  },
  {
   "cell_type": "code",
   "execution_count": null,
   "id": "fe48f401",
   "metadata": {
    "scrolled": true
   },
   "outputs": [],
   "source": [
    "embs_3 = plot_struct_embs_cv(latents, random_state=1234, folds=[\"fold_3\"])"
   ]
  },
  {
   "cell_type": "markdown",
   "id": "f4612feb",
   "metadata": {},
   "source": [
    "---\n",
    "\n",
    "#### 2.2.b. Gene set visualization\n",
    "\n",
    "After having looked at each target plotted against the rest for each fold, we will have a look at the colocalization of the structural embeddings for a number of pre-defined gene sets."
   ]
  },
  {
   "cell_type": "code",
   "execution_count": null,
   "id": "f4699975",
   "metadata": {},
   "outputs": [],
   "source": [
    "np.random.seed(1234)\n",
    "selected_oe_targets = np.random.choice(np.unique(embs_0.label), size=9, replace=False)\n",
    "sorted(selected_oe_targets)"
   ]
  },
  {
   "cell_type": "code",
   "execution_count": null,
   "id": "07d7dbeb",
   "metadata": {},
   "outputs": [],
   "source": [
    "geneset = [\"RAF1\"]\n",
    "mpl.style.use(\"default\")\n",
    "mpl.rcParams[\"figure.dpi\"] = 600\n",
    "\n",
    "fig, ax = plt.subplots(figsize=[8, 6])\n",
    "ax.scatter(\n",
    "    np.array(embs_0.loc[~embs_0.label.isin(geneset), \"umap_0\"]),\n",
    "    np.array(embs_0.loc[~embs_0.label.isin(geneset), \"umap_1\"]),\n",
    "    c=\"silver\",\n",
    "    alpha=0.1,\n",
    "    label=\"other\",\n",
    "    s=3,\n",
    ")\n",
    "ax.scatter(\n",
    "    np.array(embs_0.loc[embs_0.label.isin(geneset), \"umap_0\"]),\n",
    "    np.array(embs_0.loc[embs_0.label.isin(geneset), \"umap_1\"]),\n",
    "    # label=geneset[0],\n",
    "    s=3,\n",
    "    alpha=1,\n",
    "    color=\"black\",\n",
    "    label=\"RAF1\",\n",
    ")\n",
    "# ax.legend(loc=\"lower right\")\n",
    "# handles, labels = ax.get_legend_handles_labels()\n",
    "# ax.legend(\n",
    "#     handles=list(handles)[::-1],\n",
    "#     labels=list(labels)[::-1],\n",
    "#     loc=\"lower right\",\n",
    "#     prop=dict(size=18),\n",
    "# )\n",
    "# for lh in ax.get_legend().legendHandles:\n",
    "#     lh.set_alpha(1)\n",
    "#     lh._sizes = [140]\n",
    "# ax.get_legend().set_title(\"Condition\", prop={\"size\": \"20\"})\n",
    "# ax.get_legend().set_title(\"\")\n",
    "# ax.set_xlabel(\"umap_0\", size=18)\n",
    "# ax.set_ylabel(\"umap_1\", size=18)\n",
    "ax.set_xlabel(\"\")\n",
    "ax.set_ylabel(\"\")\n",
    "plt.xticks(size=14)\n",
    "plt.yticks(size=14)\n",
    "plt.show()"
   ]
  },
  {
   "cell_type": "code",
   "execution_count": null,
   "id": "1aebc7fd",
   "metadata": {
    "scrolled": false
   },
   "outputs": [],
   "source": [
    "mpl.style.use(\"default\")\n",
    "mpl.rcParams[\"figure.dpi\"] = 600\n",
    "\n",
    "for gene in np.unique(embs_0.label):\n",
    "    geneset = [gene]\n",
    "\n",
    "    fig, ax = plt.subplots(figsize=[8, 6])\n",
    "    ax.scatter(\n",
    "        np.array(embs_0.loc[~embs_0.label.isin(geneset), \"umap_0\"]),\n",
    "        np.array(embs_0.loc[~embs_0.label.isin(geneset), \"umap_1\"]),\n",
    "        c=\"tab:gray\",\n",
    "        alpha=0.1,\n",
    "        label=\"other\",\n",
    "        s=3,\n",
    "    )\n",
    "    ax.scatter(\n",
    "        np.array(embs_0.loc[embs_0.label.isin(geneset), \"umap_0\"]),\n",
    "        np.array(embs_0.loc[embs_0.label.isin(geneset), \"umap_1\"]),\n",
    "        # label=geneset[0],\n",
    "        s=3,\n",
    "        alpha=1,\n",
    "        color=\"darkmagenta\",\n",
    "        label=gene,\n",
    "    )\n",
    "    ax.legend(loc=\"lower right\")\n",
    "    handles, labels = ax.get_legend_handles_labels()\n",
    "    ax.legend(\n",
    "        handles=list(handles)[::-1],\n",
    "        labels=list(labels)[::-1],\n",
    "        loc=\"lower right\",\n",
    "        prop=dict(size=18),\n",
    "    )\n",
    "    for lh in ax.get_legend().legendHandles:\n",
    "        lh.set_alpha(1)\n",
    "        lh._sizes = [140]\n",
    "    # ax.get_legend().set_title(\"Condition\", prop={\"size\": \"20\"})\n",
    "    ax.get_legend().set_title(\"\")\n",
    "    # ax.set_xlabel(\"umap_0\", size=18)\n",
    "    # ax.set_ylabel(\"umap_1\", size=18)\n",
    "    ax.set_xlabel(\"\")\n",
    "    ax.set_ylabel(\"\")\n",
    "    plt.xticks(size=14)\n",
    "    plt.yticks(size=14)\n",
    "    plt.show()\n",
    "    plt.close()"
   ]
  },
  {
   "cell_type": "markdown",
   "id": "64e89aae",
   "metadata": {},
   "source": [
    "---\n",
    "\n",
    "## 3. Analyses\n",
    "\n",
    "### 3.1. Co-clustering analyses of the fold-embeddings"
   ]
  },
  {
   "cell_type": "markdown",
   "id": "00775da5",
   "metadata": {},
   "source": [
    "\n",
    "To quantitatively assess whether the embeddings of the different folds share a common structure, we cluster each of the inferred latent spaces corresponding to the individual folds individually using agglomerative clustering with average linkage applied to the Wasserstein distances of the induced cell state distributions in the different stages.\n",
    "\n",
    "Next, we assess the co-clustering for a varying number of clusters (1-30) using the adjusted mutual information between any of the fold-specific embeddings. We expect scores close to 1 especially in proximity to the diagnol of the resulting matrices as this would indicate that the structure of which targets group together in the latent space are the similar between the different inferred latent spaces."
   ]
  },
  {
   "cell_type": "markdown",
   "id": "7fe37a03",
   "metadata": {},
   "source": [
    "#### 3.1.a. Computing Wasserstein distances\n",
    "\n",
    "For each fold we will compute a distance matrix that defines the pairwise Wasserstein-2 distances between any overexpression condition in the inferred structural space. To this end, we will use the implementation of the POT package."
   ]
  },
  {
   "cell_type": "markdown",
   "id": "24d9093b",
   "metadata": {},
   "source": [
    "##### Fold 0"
   ]
  },
  {
   "cell_type": "code",
   "execution_count": null,
   "id": "3a9cbb46",
   "metadata": {
    "scrolled": true
   },
   "outputs": [],
   "source": [
    "latents_fold0 = all_latents[0].copy()\n",
    "latents_fold0.loc[:, \"labels\"] = latents_fold0.loc[:, \"labels\"].map(label_dict)"
   ]
  },
  {
   "cell_type": "code",
   "execution_count": null,
   "id": "3e91cc25",
   "metadata": {},
   "outputs": [],
   "source": [
    "wdist_fold0 = get_emd_for_embs(embs=latents_fold0, label_col=\"labels\")"
   ]
  },
  {
   "cell_type": "code",
   "execution_count": null,
   "id": "da3cd3ab",
   "metadata": {
    "scrolled": true
   },
   "outputs": [],
   "source": [
    "model = AgglomerativeClustering(affinity=\"precomputed\", linkage=\"complete\")\n",
    "# model = KMeans(random_state=1234)\n",
    "visualizer = KElbowVisualizer(\n",
    "    model, k=20, metric=\"silhouette\", timings=False, locate_elbow=False\n",
    ")\n",
    "\n",
    "visualizer.fit(wdist_fold0)\n",
    "ax = visualizer.show()\n",
    "\n",
    "visualizer = KElbowVisualizer(\n",
    "    model, k=20, metric=\"distortion\", timings=False, locate_elbow=False\n",
    ")\n",
    "\n",
    "visualizer.fit(wdist_fold0)\n",
    "ax = visualizer.show()\n",
    "\n",
    "visualizer = KElbowVisualizer(\n",
    "    model, k=20, metric=\"calinski_harabasz\", timings=False, locate_elbow=False\n",
    ")\n",
    "\n",
    "visualizer.fit(wdist_fold0)\n",
    "ax = visualizer.show()"
   ]
  },
  {
   "cell_type": "code",
   "execution_count": null,
   "id": "e3b90623",
   "metadata": {},
   "outputs": [],
   "source": [
    "model = AgglomerativeClustering(\n",
    "    n_clusters=4, affinity=\"precomputed\", linkage=\"complete\"\n",
    ")\n",
    "struct_cluster_labels = model.fit_predict(wdist_fold0)\n",
    "struct_clusters = pd.DataFrame(\n",
    "    struct_cluster_labels,\n",
    "    index=wdist_fold0.index,\n",
    "    columns=[\"cluster\"],\n",
    ")\n",
    "lut = dict(\n",
    "    zip(\n",
    "        list(np.unique(struct_cluster_labels)),\n",
    "        [\n",
    "            \"tab:blue\",\n",
    "            \"tab:red\",\n",
    "            \"tab:green\",\n",
    "            \"tab:orange\",\n",
    "            \"tab:pink\",\n",
    "            \"tab:purple\",\n",
    "            \"tab:brown\",\n",
    "            \"tab:gray\",\n",
    "            \"tab:olive\",\n",
    "            \"tab:cyan\",\n",
    "        ],\n",
    "    )\n",
    ")\n",
    "struct_colors = pd.Series(\n",
    "    struct_cluster_labels,\n",
    "    index=wdist_fold0.index,\n",
    ").map(lut)"
   ]
  },
  {
   "cell_type": "code",
   "execution_count": null,
   "id": "fd63fd4c",
   "metadata": {
    "scrolled": false
   },
   "outputs": [],
   "source": [
    "linkage = hc.linkage(squareform(wdist_fold0), method=\"complete\")\n",
    "ax = sns.clustermap(\n",
    "    wdist_fold0,\n",
    "    row_linkage=linkage,\n",
    "    col_linkage=linkage,\n",
    "    figsize=[15, 12],\n",
    "    cmap=\"seismic\",\n",
    "    vmin=0.25,\n",
    "    col_colors=np.array(struct_colors),\n",
    "    row_colors=np.array(struct_colors),\n",
    ")\n",
    "ax.ax_heatmap.set_xticklabels(\n",
    "    ax.ax_heatmap.get_xmajorticklabels(), fontsize=14, fontweight=\"bold\"\n",
    ")\n",
    "ax.ax_heatmap.set_yticklabels(\n",
    "    ax.ax_heatmap.get_ymajorticklabels(), fontsize=14, fontweight=\"bold\"\n",
    ")\n",
    "print(\"Wasserstein distance matrix of the structural space (fold 0)\")\n",
    "plt.show()"
   ]
  },
  {
   "cell_type": "markdown",
   "id": "8d8e7de1",
   "metadata": {},
   "source": [
    "---\n",
    "\n",
    "##### Fold 1"
   ]
  },
  {
   "cell_type": "code",
   "execution_count": null,
   "id": "a7d24458",
   "metadata": {
    "scrolled": true
   },
   "outputs": [],
   "source": [
    "latents_fold1 = all_latents[1].copy()\n",
    "latents_fold1.loc[:, \"labels\"] = latents_fold1.loc[:, \"labels\"].map(label_dict)"
   ]
  },
  {
   "cell_type": "code",
   "execution_count": null,
   "id": "f72c896d",
   "metadata": {},
   "outputs": [],
   "source": [
    "wdist_fold1 = get_emd_for_embs(embs=latents_fold1, label_col=\"labels\")"
   ]
  },
  {
   "cell_type": "code",
   "execution_count": null,
   "id": "d1fbbaed",
   "metadata": {},
   "outputs": [],
   "source": [
    "linkage = hc.linkage(squareform(wdist_fold1), method=\"average\")\n",
    "ax = sns.clustermap(\n",
    "    wdist_fold1,\n",
    "    row_linkage=linkage,\n",
    "    col_linkage=linkage,\n",
    "    figsize=[12, 12],\n",
    "    cmap=\"seismic\",\n",
    "    vmin=0.25,\n",
    ")\n",
    "print(\"Wasserstein distance matrix of the structural space (fold 1)\")\n",
    "plt.show()"
   ]
  },
  {
   "cell_type": "markdown",
   "id": "ffe75b9c",
   "metadata": {},
   "source": [
    "---\n",
    "\n",
    "##### Fold 2"
   ]
  },
  {
   "cell_type": "code",
   "execution_count": null,
   "id": "1cbf0614",
   "metadata": {
    "scrolled": true
   },
   "outputs": [],
   "source": [
    "latents_fold2 = all_latents[2].copy()\n",
    "latents_fold2.loc[:, \"labels\"] = latents_fold2.loc[:, \"labels\"].map(label_dict)"
   ]
  },
  {
   "cell_type": "code",
   "execution_count": null,
   "id": "85676807",
   "metadata": {},
   "outputs": [],
   "source": [
    "wdist_fold2 = get_emd_for_embs(embs=latents_fold2, label_col=\"labels\")"
   ]
  },
  {
   "cell_type": "code",
   "execution_count": null,
   "id": "35794a08",
   "metadata": {},
   "outputs": [],
   "source": [
    "linkage = hc.linkage(squareform(wdist_fold2), method=\"average\")\n",
    "ax = sns.clustermap(\n",
    "    wdist_fold2,\n",
    "    row_linkage=linkage,\n",
    "    col_linkage=linkage,\n",
    "    figsize=[12, 12],\n",
    "    cmap=\"seismic\",\n",
    "    vmin=0.25,\n",
    ")\n",
    "print(\"Wasserstein distance matrix of the structural space (fold 2)\")\n",
    "plt.show()"
   ]
  },
  {
   "cell_type": "markdown",
   "id": "5cdc5c2c",
   "metadata": {},
   "source": [
    "---\n",
    "\n",
    "##### Fold 3"
   ]
  },
  {
   "cell_type": "code",
   "execution_count": null,
   "id": "7a13d910",
   "metadata": {
    "scrolled": true
   },
   "outputs": [],
   "source": [
    "latents_fold3 = all_latents[3].copy()\n",
    "latents_fold3.loc[:, \"labels\"] = latents_fold3.loc[:, \"labels\"].map(label_dict)"
   ]
  },
  {
   "cell_type": "code",
   "execution_count": null,
   "id": "9e589eda",
   "metadata": {
    "scrolled": true
   },
   "outputs": [],
   "source": [
    "wdist_fold3 = get_emd_for_embs(embs=latents_fold3, label_col=\"labels\")"
   ]
  },
  {
   "cell_type": "code",
   "execution_count": null,
   "id": "6d6d1ae5",
   "metadata": {},
   "outputs": [],
   "source": [
    "linkage = hc.linkage(squareform(wdist_fold3), method=\"average\")\n",
    "ax = sns.clustermap(\n",
    "    wdist_fold3,\n",
    "    row_linkage=linkage,\n",
    "    col_linkage=linkage,\n",
    "    figsize=[12, 12],\n",
    "    cmap=\"seismic\",\n",
    "    vmin=0.25,\n",
    ")\n",
    "print(\"Wasserstein distance matrix of the structural space (fold 3)\")\n",
    "plt.show()"
   ]
  },
  {
   "cell_type": "markdown",
   "id": "991c0473",
   "metadata": {},
   "source": [
    "---"
   ]
  },
  {
   "cell_type": "markdown",
   "id": "36d5f850",
   "metadata": {},
   "source": [
    "#### 3.1.b. Co-cluster analysis"
   ]
  },
  {
   "cell_type": "markdown",
   "id": "6632034e",
   "metadata": {},
   "source": [
    "To better assess the structural differences in the inferred physical spaces for the different held-out folds, we co-cluster structure the different latent spaces hierarchically using average linkage and the pre-computed Wasserstein distances."
   ]
  },
  {
   "cell_type": "markdown",
   "id": "f45ef739",
   "metadata": {},
   "source": [
    "##### Average linkage clustering"
   ]
  },
  {
   "cell_type": "code",
   "execution_count": null,
   "id": "d699b4fc",
   "metadata": {},
   "outputs": [],
   "source": [
    "avg_amis = []\n",
    "names = []\n",
    "wdists = [wdist_fold0, wdist_fold1, wdist_fold2, wdist_fold3]\n",
    "for i in tqdm(range(len(wdists))):\n",
    "    names.append(\"fold_{}\".format(i))\n",
    "    for j in range(len(wdists)):\n",
    "        avg_amis.append(\n",
    "            compute_ami_matrix(\n",
    "                wdists[i],\n",
    "                wdists[j],\n",
    "                affinity=\"precomputed\",\n",
    "                n_max_clusters=30,\n",
    "                linkage=\"average\",\n",
    "            )\n",
    "        )"
   ]
  },
  {
   "cell_type": "code",
   "execution_count": null,
   "id": "3f1cc0b0",
   "metadata": {
    "scrolled": false
   },
   "outputs": [],
   "source": [
    "plot_amis_matrices(names, avg_amis)"
   ]
  },
  {
   "cell_type": "markdown",
   "id": "93871c26",
   "metadata": {},
   "source": [
    "The above plots suggest a fair heterogeneity between the differently inferred spaces which is likely due to the relatively small sample size with respect to the observed heterogeneity in the response of the cells for some of the conditions."
   ]
  },
  {
   "cell_type": "markdown",
   "id": "91def622",
   "metadata": {},
   "source": [
    "---\n",
    "\n",
    "### 3.2. Individual cluster analyses"
   ]
  },
  {
   "cell_type": "markdown",
   "id": "53ff48fb",
   "metadata": {},
   "source": [
    "After having assessed the shared structure between the different fold embeddings, we now will look at each fold individually and aim to better understand the observed cluster of those."
   ]
  },
  {
   "cell_type": "markdown",
   "id": "095f8fc8",
   "metadata": {},
   "source": [
    "#### 3.2.a. EMD-based clustering\n",
    "\n",
    "To this end, we will first cluster each fold embedding hierarchicallly using euclidean distances and average/complete linkage. We will thereby describe each gene embedding by the mean embedding of the individual cells where the corresponding gene was targeted."
   ]
  },
  {
   "cell_type": "markdown",
   "id": "8dd55811",
   "metadata": {},
   "source": [
    "---\n",
    "\n",
    "#### Fold 0"
   ]
  },
  {
   "cell_type": "markdown",
   "id": "80c3e3fe",
   "metadata": {},
   "source": [
    "We cluster the inferred physical space as before using hierarchical clustering with average linkage on the pre-computed Wasserstein distances. To identify the optimal number of clusters, we look at three commonly used metrics namely the Silhouette, distortion and Calinski-Harabasz score."
   ]
  },
  {
   "cell_type": "code",
   "execution_count": null,
   "id": "01b444b6",
   "metadata": {},
   "outputs": [],
   "source": [
    "model = AgglomerativeClustering(affinity=\"precomputed\", linkage=\"average\")"
   ]
  },
  {
   "cell_type": "code",
   "execution_count": null,
   "id": "c97fd57b",
   "metadata": {},
   "outputs": [],
   "source": [
    "visualizer = KElbowVisualizer(\n",
    "    model, k=10, metric=\"silhouette\", timings=False, locate_elbow=False\n",
    ")\n",
    "\n",
    "visualizer.fit(wdist_fold0)\n",
    "ax = visualizer.show()"
   ]
  },
  {
   "cell_type": "code",
   "execution_count": null,
   "id": "12b4c77b",
   "metadata": {},
   "outputs": [],
   "source": [
    "visualizer = KElbowVisualizer(\n",
    "    model, k=10, metric=\"distortion\", timings=False, locate_elbow=False\n",
    ")\n",
    "\n",
    "visualizer.fit(wdist_fold0)\n",
    "ax = visualizer.show()"
   ]
  },
  {
   "cell_type": "code",
   "execution_count": null,
   "id": "c4d7124c",
   "metadata": {},
   "outputs": [],
   "source": [
    "visualizer = KElbowVisualizer(\n",
    "    model, k=10, metric=\"calinski_harabasz\", timings=False, locate_elbow=False\n",
    ")\n",
    "\n",
    "visualizer.fit(wdist_fold0)\n",
    "ax = visualizer.show()"
   ]
  },
  {
   "cell_type": "markdown",
   "id": "9a6900a6",
   "metadata": {},
   "source": [
    "The plots above indicate that a clustering solution of 6 clusters might be optimal as it maximizes the Calinski-Harabsz score, is a local optima of the Silhoutte score and roughly coincides with the elbow of the distortion score. Thus, we decide to use 6 clusters."
   ]
  },
  {
   "cell_type": "code",
   "execution_count": null,
   "id": "8074045c",
   "metadata": {},
   "outputs": [],
   "source": [
    "model = AgglomerativeClustering(\n",
    "    n_clusters=6, affinity=\"precomputed\", linkage=\"complete\"\n",
    ")\n",
    "cluster_labels = model.fit_predict(wdist_fold0)\n",
    "cluster_dict = {}\n",
    "for cluster_label in np.unique(cluster_labels):\n",
    "    cluster_dict[cluster_label] = list(\n",
    "        np.array(list(wdist_fold0.index))[cluster_labels == cluster_label]\n",
    "    )\n",
    "for k, v in cluster_dict.items():\n",
    "    print(\"Cluster {}: {}\".format(k, v))\n",
    "    print(\"\")"
   ]
  },
  {
   "cell_type": "markdown",
   "id": "421ceb4b",
   "metadata": {},
   "source": [
    "To visualize the clustering, we plot the mean embeddings for each target in a tSNE plot colored by the different identified clusters."
   ]
  },
  {
   "cell_type": "code",
   "execution_count": null,
   "id": "245b7f85",
   "metadata": {},
   "outputs": [],
   "source": [
    "mean_fold0_latents = latents_fold0.groupby(\"labels\").mean()"
   ]
  },
  {
   "cell_type": "code",
   "execution_count": null,
   "id": "9a821268",
   "metadata": {},
   "outputs": [],
   "source": [
    "reg_embs_clusters = pd.read_csv(\n",
    "    \"../../../data/ppi/embedding/node_embeddings_cv_1024_2gexrecon_1graph_recon_mask_loss_newnodeset_clusters.csv\",\n",
    "    index_col=0,\n",
    ")\n",
    "cluster_labels = np.array(reg_embs_clusters.loc[shared_nodes]).ravel()"
   ]
  },
  {
   "cell_type": "code",
   "execution_count": null,
   "id": "7fc1b90f",
   "metadata": {},
   "outputs": [],
   "source": [
    "fig, ax = plt.subplots(figsize=[12, 9])\n",
    "ax = plot_tsne_embs(\n",
    "    mean_fold0_latents.loc[shared_nodes],\n",
    "    ax=ax,\n",
    "    perplexity=8,\n",
    "    random_state=1234,\n",
    "    hue=np.array(cluster_labels).astype(str),\n",
    "    hue_order=[\n",
    "        \"ECM interactions\",\n",
    "        \"Cell cycle control\",\n",
    "        \"Signal transduction\",\n",
    "        \"Cytoskeletal organization\",\n",
    "        \"DNA damage response\",\n",
    "    ],\n",
    "    palette={\n",
    "        \"ECM interactions\": \"tab:blue\",\n",
    "        \"Cell cycle control\": \"tab:orange\",\n",
    "        \"Signal transduction\": \"tab:green\",\n",
    "        \"Cytoskeletal organization\": \"tab:red\",\n",
    "        \"DNA damage response\": \"tab:purple\",\n",
    "    },\n",
    ")\n",
    "ax.set_title(\"Structural space mean embeddings (fold 0)\")\n",
    "ax.legend(title=\"Cluster\", loc=\"upper left\")\n",
    "# ax.set_xlim([-40, 50])\n",
    "plt.show()"
   ]
  },
  {
   "cell_type": "code",
   "execution_count": null,
   "id": "e8ffb7aa",
   "metadata": {},
   "outputs": [],
   "source": [
    "fig, ax = plt.subplots(figsize=[12, 9])\n",
    "ax = plot_mds_embs(\n",
    "    wdist_fold0.loc[shared_nodes, shared_nodes],\n",
    "    ax=ax,\n",
    "    dissimilarity=\"precomputed\",\n",
    "    hue=np.array(cluster_labels).astype(str),\n",
    "    hue_order=[\n",
    "        \"ECM interactions\",\n",
    "        \"Cell cycle control\",\n",
    "        \"Signal transduction\",\n",
    "        \"Cytoskeletal organization\",\n",
    "        \"DNA damage response\",\n",
    "    ],\n",
    "    palette={\n",
    "        \"ECM interactions\": \"tab:blue\",\n",
    "        \"Cell cycle control\": \"tab:orange\",\n",
    "        \"Signal transduction\": \"tab:green\",\n",
    "        \"Cytoskeletal organization\": \"tab:red\",\n",
    "        \"DNA damage response\": \"tab:purple\",\n",
    "    },\n",
    ")\n",
    "ax.set_title(\"Structural space mean embeddings (fold 0)\")\n",
    "ax.legend(title=\"Cluster\", loc=\"lower right\")\n",
    "ax.set_xlim([-0.4, 0.5])\n",
    "plt.show()"
   ]
  },
  {
   "cell_type": "markdown",
   "id": "a646121c",
   "metadata": {},
   "source": [
    "---\n",
    "\n",
    "##### Fold 1\n",
    "\n",
    "We repeat the above process for the other folds as well."
   ]
  },
  {
   "cell_type": "code",
   "execution_count": null,
   "id": "bdffb5c2",
   "metadata": {},
   "outputs": [],
   "source": [
    "model = AgglomerativeClustering(affinity=\"precomputed\", linkage=\"average\")\n",
    "visualizer = KElbowVisualizer(\n",
    "    model, k=10, metric=\"silhouette\", timings=False, locate_elbow=False\n",
    ")\n",
    "\n",
    "visualizer.fit(wdist_fold1)\n",
    "ax = visualizer.show()\n",
    "\n",
    "visualizer = KElbowVisualizer(\n",
    "    model, k=10, metric=\"distortion\", timings=False, locate_elbow=False\n",
    ")\n",
    "\n",
    "visualizer.fit(wdist_fold1)\n",
    "ax = visualizer.show()\n",
    "\n",
    "visualizer = KElbowVisualizer(\n",
    "    model, k=10, metric=\"calinski_harabasz\", timings=False, locate_elbow=False\n",
    ")\n",
    "\n",
    "visualizer.fit(wdist_fold1)\n",
    "ax = visualizer.show()"
   ]
  },
  {
   "cell_type": "markdown",
   "id": "d77c73d7",
   "metadata": {},
   "source": [
    "We find the optimal number of clusters to be four as this solution maximizes the Calinski-Harabasz score."
   ]
  },
  {
   "cell_type": "code",
   "execution_count": null,
   "id": "cd0bc8b8",
   "metadata": {},
   "outputs": [],
   "source": [
    "model = AgglomerativeClustering(n_clusters=4, affinity=\"precomputed\", linkage=\"average\")\n",
    "cluster_labels = model.fit_predict(wdist_fold1)\n",
    "cluster_dict = {}\n",
    "for cluster_label in np.unique(cluster_labels):\n",
    "    cluster_dict[cluster_label] = list(\n",
    "        np.array(list(wdist_fold0.index))[cluster_labels == cluster_label]\n",
    "    )\n",
    "for k, v in cluster_dict.items():\n",
    "    print(\"Cluster {}: {}\".format(k, v))\n",
    "    print(\"\")"
   ]
  },
  {
   "cell_type": "code",
   "execution_count": null,
   "id": "2c47c4a7",
   "metadata": {},
   "outputs": [],
   "source": [
    "mean_fold1_latents = latents_fold1.groupby(\"labels\").mean()\n",
    "fig, ax = plt.subplots(figsize=[10, 6])\n",
    "ax = plot_tsne_embs(\n",
    "    mean_fold1_latents,\n",
    "    ax=ax,\n",
    "    perplexity=10,\n",
    "    random_state=1234,\n",
    "    hue=np.array(cluster_labels).astype(str),\n",
    "    hue_order=np.unique(cluster_labels).astype(str),\n",
    ")\n",
    "ax.set_title(\"Structural space mean embeddings (fold 1)\")\n",
    "ax.set_xlim([-10, 12.5])\n",
    "ax.legend(title=\"Cluster\", loc=\"lower right\")\n",
    "plt.show()"
   ]
  },
  {
   "cell_type": "markdown",
   "id": "bca26232",
   "metadata": {},
   "source": [
    "---\n",
    "\n",
    "##### Fold 2"
   ]
  },
  {
   "cell_type": "code",
   "execution_count": null,
   "id": "acb55b61",
   "metadata": {},
   "outputs": [],
   "source": [
    "model = AgglomerativeClustering(affinity=\"precomputed\", linkage=\"average\")\n",
    "visualizer = KElbowVisualizer(\n",
    "    model, k=10, metric=\"silhouette\", timings=False, locate_elbow=False\n",
    ")\n",
    "\n",
    "visualizer.fit(wdist_fold2)\n",
    "ax = visualizer.show()\n",
    "\n",
    "visualizer = KElbowVisualizer(\n",
    "    model, k=10, metric=\"distortion\", timings=False, locate_elbow=False\n",
    ")\n",
    "\n",
    "visualizer.fit(wdist_fold2)\n",
    "ax = visualizer.show()\n",
    "\n",
    "visualizer = KElbowVisualizer(\n",
    "    model, k=10, metric=\"calinski_harabasz\", timings=False, locate_elbow=False\n",
    ")\n",
    "\n",
    "visualizer.fit(wdist_fold2)\n",
    "ax = visualizer.show()"
   ]
  },
  {
   "cell_type": "markdown",
   "id": "8bf42c05",
   "metadata": {},
   "source": [
    "We find the optimal number of clusters to be four as this solution maximizes the Calinski-Harabasz score."
   ]
  },
  {
   "cell_type": "code",
   "execution_count": null,
   "id": "0db6464c",
   "metadata": {},
   "outputs": [],
   "source": [
    "model = AgglomerativeClustering(n_clusters=4, affinity=\"precomputed\", linkage=\"average\")\n",
    "cluster_labels = model.fit_predict(wdist_fold2)\n",
    "cluster_dict = {}\n",
    "for cluster_label in np.unique(cluster_labels):\n",
    "    cluster_dict[cluster_label] = list(\n",
    "        np.array(list(wdist_fold0.index))[cluster_labels == cluster_label]\n",
    "    )\n",
    "for k, v in cluster_dict.items():\n",
    "    print(\"Cluster {}: {}\".format(k, v))\n",
    "    print(\"\")"
   ]
  },
  {
   "cell_type": "code",
   "execution_count": null,
   "id": "70e8c133",
   "metadata": {
    "scrolled": false
   },
   "outputs": [],
   "source": [
    "mean_fold2_latents = latents_fold2.groupby(\"labels\").mean()\n",
    "fig, ax = plt.subplots(figsize=[10, 6])\n",
    "ax = plot_tsne_embs(\n",
    "    mean_fold2_latents,\n",
    "    ax=ax,\n",
    "    perplexity=10,\n",
    "    random_state=1234,\n",
    "    hue=np.array(cluster_labels).astype(str),\n",
    "    hue_order=np.unique(cluster_labels).astype(str),\n",
    ")\n",
    "ax.set_title(\"Structural space mean embeddings (fold 2)\")\n",
    "ax.set_xlim([-20, 20])\n",
    "ax.legend(title=\"Cluster\", loc=\"lower right\")\n",
    "plt.show()"
   ]
  },
  {
   "cell_type": "markdown",
   "id": "5f4f5324",
   "metadata": {},
   "source": [
    "---\n",
    "\n",
    "##### Fold 3"
   ]
  },
  {
   "cell_type": "code",
   "execution_count": null,
   "id": "87e2e591",
   "metadata": {},
   "outputs": [],
   "source": [
    "model = AgglomerativeClustering(affinity=\"precomputed\", linkage=\"average\")\n",
    "visualizer = KElbowVisualizer(\n",
    "    model, k=10, metric=\"silhouette\", timings=False, locate_elbow=False\n",
    ")\n",
    "\n",
    "visualizer.fit(wdist_fold3)\n",
    "ax = visualizer.show()\n",
    "\n",
    "visualizer = KElbowVisualizer(\n",
    "    model, k=10, metric=\"distortion\", timings=False, locate_elbow=False\n",
    ")\n",
    "\n",
    "visualizer.fit(wdist_fold3)\n",
    "ax = visualizer.show()\n",
    "\n",
    "visualizer = KElbowVisualizer(\n",
    "    model, k=10, metric=\"calinski_harabasz\", timings=False, locate_elbow=False\n",
    ")\n",
    "\n",
    "visualizer.fit(wdist_fold3)\n",
    "ax = visualizer.show()"
   ]
  },
  {
   "cell_type": "markdown",
   "id": "23a3fccb",
   "metadata": {},
   "source": [
    "We find the optimal number of clusters to be three as this solution maximizes the Calinski-Harabasz score."
   ]
  },
  {
   "cell_type": "code",
   "execution_count": null,
   "id": "9bb5c9bf",
   "metadata": {},
   "outputs": [],
   "source": [
    "model = AgglomerativeClustering(n_clusters=3, affinity=\"precomputed\", linkage=\"average\")\n",
    "cluster_labels = model.fit_predict(wdist_fold3)\n",
    "cluster_dict = {}\n",
    "for cluster_label in np.unique(cluster_labels):\n",
    "    cluster_dict[cluster_label] = list(\n",
    "        np.array(list(wdist_fold0.index))[cluster_labels == cluster_label]\n",
    "    )\n",
    "for k, v in cluster_dict.items():\n",
    "    print(\"Cluster {}: {}\".format(k, v))\n",
    "    print(\"\")"
   ]
  },
  {
   "cell_type": "code",
   "execution_count": null,
   "id": "0bece4cc",
   "metadata": {
    "scrolled": false
   },
   "outputs": [],
   "source": [
    "mean_fold3_latents = latents_fold3.groupby(\"labels\").mean()\n",
    "fig, ax = plt.subplots(figsize=[10, 6])\n",
    "ax = plot_tsne_embs(\n",
    "    mean_fold3_latents,\n",
    "    ax=ax,\n",
    "    perplexity=10,\n",
    "    random_state=1234,\n",
    "    hue=np.array(cluster_labels).astype(str),\n",
    "    hue_order=np.unique(cluster_labels).astype(str),\n",
    ")\n",
    "ax.set_title(\"Structural space mean embeddings (fold 3)\")\n",
    "ax.set_xlim([-50, 60])\n",
    "ax.legend(title=\"Cluster\", loc=\"lower right\")\n",
    "plt.show()"
   ]
  },
  {
   "cell_type": "markdown",
   "id": "b4d5b837",
   "metadata": {},
   "source": [
    "---"
   ]
  },
  {
   "cell_type": "markdown",
   "id": "25d0d818",
   "metadata": {},
   "source": [
    "---"
   ]
  },
  {
   "cell_type": "markdown",
   "id": "c2ca1d22",
   "metadata": {},
   "source": [
    "\n",
    "\n",
    "### 3.3 Co-clustering of structural and regulatory spaces."
   ]
  },
  {
   "cell_type": "markdown",
   "id": "6fd27c14",
   "metadata": {},
   "source": [
    "As shown above while the co-clustering is clearly not random as expected there are some difference of which regulators co-cluster depending on which held-out data set we assess."
   ]
  },
  {
   "cell_type": "markdown",
   "id": "d99cf942",
   "metadata": {},
   "source": [
    "We are interested in understanding how those different embeddings co-cluster with the regulatory space that we inferred from scRNA-seq and interactome data. To this end, we load the respective data and the previously identified cluster labels."
   ]
  },
  {
   "cell_type": "code",
   "execution_count": null,
   "id": "94a4906c",
   "metadata": {},
   "outputs": [],
   "source": [
    "reg_embs = pd.read_csv(\n",
    "    \"../../../data/ppi/embedding/node_embeddings_cv_1024_2gexrecon_1graphrecon_mask_loss_newnodeset.csv\",\n",
    "    index_col=0,\n",
    ")\n",
    "reg_embs_clusters = pd.read_csv(\n",
    "    \"../../../data/ppi/embedding/node_embeddings_cv_1024_2gexrecon_1graph_recon_mask_loss_newnodeset_clusters.csv\",\n",
    "    index_col=0,\n",
    ")\n",
    "shared_nodes = set(reg_embs.index).intersection(wdist_fold0.index)\n",
    "filtered_reg_embs = reg_embs.loc[shared_nodes]\n",
    "filtered_wdist_fold0 = wdist_fold0.loc[shared_nodes, shared_nodes]\n",
    "filtered_reg_embs_clusters = reg_embs_clusters.loc[shared_nodes]"
   ]
  },
  {
   "cell_type": "markdown",
   "id": "e9008153",
   "metadata": {},
   "source": [
    "We are interested in understanding how similar the structure of the latent spaces is. To this end, we will look at the local neighborhoods for each gene in the two neighborhoods and assess whether or not those are part of the same cluster that is identified in the regulatory space. The corresponding \"topk cluster agreement score\" will be baselined using a permutation test, where we randomly distribute the cluster labels in both spaces.\n",
    "\n",
    "Note that we restrict both spaces to the subset of genes that is covered in both for the consecutive analysis."
   ]
  },
  {
   "cell_type": "markdown",
   "id": "4e84579b",
   "metadata": {},
   "source": [
    "As a first step we compute the set of k-nearest neighbors for each gene covered in both spaces."
   ]
  },
  {
   "cell_type": "code",
   "execution_count": null,
   "id": "c1587640",
   "metadata": {},
   "outputs": [],
   "source": [
    "reg_neighbor_dict = get_neighbor_dict(filtered_reg_embs)\n",
    "struct_neighbor_dict = get_neighbor_dict(filtered_wdist_fold0, metric=\"precomputed\")\n",
    "# struct_neighbor_dict = get_neighbor_dict(mean_fold3_latents.loc[shared_nodes])"
   ]
  },
  {
   "cell_type": "code",
   "execution_count": null,
   "id": "6b50bd60",
   "metadata": {},
   "outputs": [],
   "source": [
    "samples, struct_topks, reg_topks = assess_cluster_topk(\n",
    "    reg_neighbor_dict, struct_neighbor_dict, filtered_reg_embs_clusters\n",
    ")"
   ]
  },
  {
   "cell_type": "code",
   "execution_count": null,
   "id": "b16896e1",
   "metadata": {},
   "outputs": [],
   "source": [
    "perm_struct_topks = []\n",
    "np.random.seed(1234)\n",
    "for i in tqdm(range(1000)):\n",
    "    perm_cluster_labels = np.random.permutation(np.array(filtered_reg_embs_clusters))\n",
    "    perm_clusters = pd.DataFrame(\n",
    "        perm_cluster_labels, index=filtered_reg_embs_clusters.index, columns=[\"cluster\"]\n",
    "    )\n",
    "    _, struct_topks, _ = assess_cluster_topk(\n",
    "        reg_neighbor_dict, struct_neighbor_dict, perm_clusters\n",
    "    )\n",
    "    perm_struct_topks.append(struct_topks.mean(axis=0))"
   ]
  },
  {
   "cell_type": "code",
   "execution_count": null,
   "id": "7911861e",
   "metadata": {},
   "outputs": [],
   "source": [
    "fig, ax = plt.subplots(figsize=[6, 4])\n",
    "ax.plot(\n",
    "    list(range(1, len(reg_topks) + 1)), reg_topks.mean(axis=0), label=\"regulatory space\"\n",
    ")\n",
    "ax.plot(\n",
    "    list(range(1, len(struct_topks) + 1)),\n",
    "    struct_topks.mean(axis=0),\n",
    "    label=\"structural space\",\n",
    ")\n",
    "ax.plot(\n",
    "    list(range(1, len(struct_topks) + 1)),\n",
    "    np.array(perm_struct_topks).mean(axis=0),\n",
    "    label=\"random structural space\",\n",
    ")\n",
    "ax.legend()\n",
    "ax.set_xlabel(\"k-nearest neighbors\")\n",
    "ax.set_ylabel(\"Relative cluster coverage\")\n",
    "ax.set_title(\"Average coverage of the regulatory clusters in k-neighborhood\")\n",
    "plt.show()"
   ]
  },
  {
   "cell_type": "markdown",
   "id": "397f6f72",
   "metadata": {},
   "source": [
    "---"
   ]
  },
  {
   "cell_type": "markdown",
   "id": "cfd3834e",
   "metadata": {},
   "source": [
    "We will compute the co-clustering performance as measured by the mutual information and adjusted mutual information for each fold as well a corresponding background distribution established via permuting the cluster labels for both the network and structural embeddings randomly 100 times. This will be used as a Monte-Carlo approximation of the null hypothesis were the cluster assignments given a fixed number of clusters and cluster frequency in each space are completely independent as described in [Frank & Witten (1998)](https://researchcommons.waikato.ac.nz/handle/10289/1506)."
   ]
  },
  {
   "cell_type": "markdown",
   "id": "863908e8",
   "metadata": {},
   "source": [
    "##### Mutual information"
   ]
  },
  {
   "cell_type": "code",
   "execution_count": null,
   "id": "24926114",
   "metadata": {},
   "outputs": [],
   "source": [
    "mi_test_results = get_perm_test_results(\n",
    "    fold_latents, node_embs_128, shared_nodes, score=\"mi\"\n",
    ")"
   ]
  },
  {
   "cell_type": "markdown",
   "id": "54613611",
   "metadata": {},
   "source": [
    "The figures below show the co-clustering as assessed by the MC p-values for each fold individually."
   ]
  },
  {
   "cell_type": "code",
   "execution_count": null,
   "id": "eb718e16",
   "metadata": {
    "scrolled": true
   },
   "outputs": [],
   "source": [
    "for i in range(len(mi_test_results[\"pval\"])):\n",
    "    plot_cc_score(\n",
    "        mi_test_results[\"pval\"][i],\n",
    "        \"Co-clustering of the structural and regulatory (128) space in fold {}\".format(\n",
    "            i\n",
    "        ),\n",
    "        \"MC p-value of the MI\",\n",
    "        space_names=[\"Regulatory space\", \"Structural space\"],\n",
    "        figsize=[12, 8],\n",
    "    )"
   ]
  },
  {
   "cell_type": "markdown",
   "id": "5c6a79eb",
   "metadata": {},
   "source": [
    "We see that there is quite some variation of the p-values for the co-clustering suggesting a significant dependence of the clustering of the imaging space dependent on which data was held-out for validation. Nonetheless, we also observe a large number of significant p-values for different co-clustering solutions. Note, that those p values are not corrected for multiple testing."
   ]
  },
  {
   "cell_type": "markdown",
   "id": "5fce7093",
   "metadata": {},
   "source": [
    "##### Adjusted Mutual Information"
   ]
  },
  {
   "cell_type": "code",
   "execution_count": null,
   "id": "0da2bbae",
   "metadata": {},
   "outputs": [],
   "source": [
    "ami_test_results = get_perm_test_results(\n",
    "    fold_latents, node_embs_128, shared_nodes, score=\"ami\"\n",
    ")"
   ]
  },
  {
   "cell_type": "markdown",
   "id": "5d4d73d1",
   "metadata": {},
   "source": [
    "We observe a fairly similar picture when using the adjusted mutual information, which is not surprising as the AMI is simply a transformed version of the MI adjusted for chance. To jointly summarize the strength of the co-clustering in the different folds, we look at the average adjusted mutual information for varying numbers of clusters across the four different held-out data sets."
   ]
  },
  {
   "cell_type": "code",
   "execution_count": null,
   "id": "523cc3f2",
   "metadata": {
    "scrolled": true
   },
   "outputs": [],
   "source": [
    "for i in range(len(ami_test_results[\"pval\"])):\n",
    "    plot_cc_score(\n",
    "        ami_test_results[\"pval\"][i],\n",
    "        \"Co-clustering of the structural and regulatory space (128) in fold {}\".format(\n",
    "            i\n",
    "        ),\n",
    "        \"MC p-value of the AMI\",\n",
    "        space_names=[\"regulatory space\", \"structural space\"],\n",
    "    )"
   ]
  },
  {
   "cell_type": "markdown",
   "id": "7dba4b4a",
   "metadata": {},
   "source": [
    "Note that the p-values define the approximate probability of the (adjusted) MI to be at least as large as in the observed co-clustering structure given the number of clusters and their relative frequencies. In practice this conditioning might be too strong for our use case as while the number of clusters differ an agreement in the relative cluster frequencies provide some information about the structure of the latent space that might or might not be present and thus is rather a characteristic that should be varied by chance as well.\n",
    "\n",
    "\n",
    "---"
   ]
  },
  {
   "cell_type": "code",
   "execution_count": null,
   "id": "45c14116",
   "metadata": {},
   "outputs": [],
   "source": []
  }
 ],
 "metadata": {
  "kernelspec": {
   "display_name": "Python 3",
   "language": "python",
   "name": "python3"
  },
  "language_info": {
   "codemirror_mode": {
    "name": "ipython",
    "version": 3
   },
   "file_extension": ".py",
   "mimetype": "text/x-python",
   "name": "python",
   "nbconvert_exporter": "python",
   "pygments_lexer": "ipython3",
   "version": "3.8.10"
  }
 },
 "nbformat": 4,
 "nbformat_minor": 5
}
