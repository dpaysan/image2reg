{
 "cells": [
  {
   "cell_type": "code",
   "execution_count": 27,
   "id": "32bec128",
   "metadata": {},
   "outputs": [
    {
     "data": {
      "application/javascript": [
       "\n",
       "            setTimeout(function() {\n",
       "                var nbb_cell_id = 27;\n",
       "                var nbb_unformatted_code = \"import pandas as pd\\nimport seaborn as sns\\nimport numpy as np\\nimport matplotlib.pyplot as plt\\n\\n%reload_ext nb_black\";\n",
       "                var nbb_formatted_code = \"import pandas as pd\\nimport seaborn as sns\\nimport numpy as np\\nimport matplotlib.pyplot as plt\\n\\n%reload_ext nb_black\";\n",
       "                var nbb_cells = Jupyter.notebook.get_cells();\n",
       "                for (var i = 0; i < nbb_cells.length; ++i) {\n",
       "                    if (nbb_cells[i].input_prompt_number == nbb_cell_id) {\n",
       "                        if (nbb_cells[i].get_text() == nbb_unformatted_code) {\n",
       "                             nbb_cells[i].set_text(nbb_formatted_code);\n",
       "                        }\n",
       "                        break;\n",
       "                    }\n",
       "                }\n",
       "            }, 500);\n",
       "            "
      ],
      "text/plain": [
       "<IPython.core.display.Javascript object>"
      ]
     },
     "metadata": {},
     "output_type": "display_data"
    },
    {
     "data": {
      "application/javascript": [
       "\n",
       "            setTimeout(function() {\n",
       "                var nbb_cell_id = 27;\n",
       "                var nbb_unformatted_code = \"import pandas as pd\\nimport seaborn as sns\\nimport numpy as np\\nimport matplotlib.pyplot as plt\\n\\n%reload_ext nb_black\";\n",
       "                var nbb_formatted_code = \"import pandas as pd\\nimport seaborn as sns\\nimport numpy as np\\nimport matplotlib.pyplot as plt\\n\\n%reload_ext nb_black\";\n",
       "                var nbb_cells = Jupyter.notebook.get_cells();\n",
       "                for (var i = 0; i < nbb_cells.length; ++i) {\n",
       "                    if (nbb_cells[i].input_prompt_number == nbb_cell_id) {\n",
       "                        if (nbb_cells[i].get_text() == nbb_unformatted_code) {\n",
       "                             nbb_cells[i].set_text(nbb_formatted_code);\n",
       "                        }\n",
       "                        break;\n",
       "                    }\n",
       "                }\n",
       "            }, 500);\n",
       "            "
      ],
      "text/plain": [
       "<IPython.core.display.Javascript object>"
      ]
     },
     "metadata": {},
     "output_type": "display_data"
    },
    {
     "data": {
      "application/javascript": [
       "\n",
       "            setTimeout(function() {\n",
       "                var nbb_cell_id = 27;\n",
       "                var nbb_unformatted_code = \"import pandas as pd\\nimport seaborn as sns\\nimport numpy as np\\nimport matplotlib.pyplot as plt\\n\\n%reload_ext nb_black\";\n",
       "                var nbb_formatted_code = \"import pandas as pd\\nimport seaborn as sns\\nimport numpy as np\\nimport matplotlib.pyplot as plt\\n\\n%reload_ext nb_black\";\n",
       "                var nbb_cells = Jupyter.notebook.get_cells();\n",
       "                for (var i = 0; i < nbb_cells.length; ++i) {\n",
       "                    if (nbb_cells[i].input_prompt_number == nbb_cell_id) {\n",
       "                        if (nbb_cells[i].get_text() == nbb_unformatted_code) {\n",
       "                             nbb_cells[i].set_text(nbb_formatted_code);\n",
       "                        }\n",
       "                        break;\n",
       "                    }\n",
       "                }\n",
       "            }, 500);\n",
       "            "
      ],
      "text/plain": [
       "<IPython.core.display.Javascript object>"
      ]
     },
     "metadata": {},
     "output_type": "display_data"
    }
   ],
   "source": [
    "import pandas as pd\n",
    "import seaborn as sns\n",
    "import numpy as np\n",
    "import matplotlib.pyplot as plt\n",
    "\n",
    "%reload_ext nb_black"
   ]
  },
  {
   "cell_type": "markdown",
   "id": "4bd04cfb",
   "metadata": {},
   "source": [
    "Test matrices"
   ]
  },
  {
   "cell_type": "code",
   "execution_count": 9,
   "id": "2e3aa617",
   "metadata": {},
   "outputs": [
    {
     "data": {
      "application/javascript": [
       "\n",
       "            setTimeout(function() {\n",
       "                var nbb_cell_id = 9;\n",
       "                var nbb_unformatted_code = \"test_cmatrix_0 = pd.read_csv(\\n    \\\"../../../data/experiments/image_embeddings/specificity_target_emb_cv_strat/final_1024/fold_0/test_cmatrix.csv\\\", index_col=0\\n)\\ntest_cmatrix_1 = pd.read_csv(\\n    \\\"../../../data/experiments/image_embeddings/specificity_target_emb_cv_strat/final_1024/fold_1/test_cmatrix.csv\\\", index_col=0\\n)\\n\\ntest_cmatrix_2 = pd.read_csv(\\n    \\\"../../../data/experiments/image_embeddings/specificity_target_emb_cv_strat/final_1024/fold_2/test_cmatrix.csv\\\", index_col=0\\n)\\n\\ntest_cmatrix_3 = pd.read_csv(\\n    \\\"../../../data/experiments/image_embeddings/specificity_target_emb_cv_strat/final_1024/fold_3/test_cmatrix.csv\\\", index_col=0\\n)\";\n",
       "                var nbb_formatted_code = \"test_cmatrix_0 = pd.read_csv(\\n    \\\"../../../data/experiments/image_embeddings/specificity_target_emb_cv_strat/final_1024/fold_0/test_cmatrix.csv\\\",\\n    index_col=0,\\n)\\ntest_cmatrix_1 = pd.read_csv(\\n    \\\"../../../data/experiments/image_embeddings/specificity_target_emb_cv_strat/final_1024/fold_1/test_cmatrix.csv\\\",\\n    index_col=0,\\n)\\n\\ntest_cmatrix_2 = pd.read_csv(\\n    \\\"../../../data/experiments/image_embeddings/specificity_target_emb_cv_strat/final_1024/fold_2/test_cmatrix.csv\\\",\\n    index_col=0,\\n)\\n\\ntest_cmatrix_3 = pd.read_csv(\\n    \\\"../../../data/experiments/image_embeddings/specificity_target_emb_cv_strat/final_1024/fold_3/test_cmatrix.csv\\\",\\n    index_col=0,\\n)\";\n",
       "                var nbb_cells = Jupyter.notebook.get_cells();\n",
       "                for (var i = 0; i < nbb_cells.length; ++i) {\n",
       "                    if (nbb_cells[i].input_prompt_number == nbb_cell_id) {\n",
       "                        if (nbb_cells[i].get_text() == nbb_unformatted_code) {\n",
       "                             nbb_cells[i].set_text(nbb_formatted_code);\n",
       "                        }\n",
       "                        break;\n",
       "                    }\n",
       "                }\n",
       "            }, 500);\n",
       "            "
      ],
      "text/plain": [
       "<IPython.core.display.Javascript object>"
      ]
     },
     "metadata": {},
     "output_type": "display_data"
    }
   ],
   "source": [
    "test_cmatrix_0 = pd.read_csv(\n",
    "    \"../../../data/experiments/image_embeddings/specificity_target_emb_cv_strat/final_1024/fold_0/test_cmatrix.csv\", index_col=0\n",
    ")\n",
    "test_cmatrix_1 = pd.read_csv(\n",
    "    \"../../../data/experiments/image_embeddings/specificity_target_emb_cv_strat/final_1024/fold_1/test_cmatrix.csv\", index_col=0\n",
    ")\n",
    "\n",
    "test_cmatrix_2 = pd.read_csv(\n",
    "    \"../../../data/experiments/image_embeddings/specificity_target_emb_cv_strat/final_1024/fold_2/test_cmatrix.csv\", index_col=0\n",
    ")\n",
    "\n",
    "test_cmatrix_3 = pd.read_csv(\n",
    "    \"../../../data/experiments/image_embeddings/specificity_target_emb_cv_strat/final_1024/fold_3/test_cmatrix.csv\", index_col=0\n",
    ")\n"
   ]
  },
  {
   "cell_type": "code",
   "execution_count": 23,
   "id": "6a434c4f",
   "metadata": {},
   "outputs": [
    {
     "data": {
      "application/javascript": [
       "\n",
       "            setTimeout(function() {\n",
       "                var nbb_cell_id = 23;\n",
       "                var nbb_unformatted_code = \"targets = []\\naccs = []\\nfor i in range(len(test_cmatrix_0)):\\n    targets.append(list(test_cmatrix_0.index)[i])\\n    targets.append(list(test_cmatrix_1.index)[i])\\n    targets.append(list(test_cmatrix_2.index)[i])\\n    targets.append(list(test_cmatrix_3.index)[i])\\n\\n    accs.append(float(test_cmatrix_0.iloc[i, i]))\\n    accs.append(float(test_cmatrix_1.iloc[i, i]))\\n    accs.append(float(test_cmatrix_2.iloc[i, i]))\\n    accs.append(float(test_cmatrix_3.iloc[i, i]))\\nacc_df = pd.DataFrame(np.array(targets), columns=[\\\"target\\\"])\\nacc_df[\\\"test_acc\\\"] = np.array(accs)\";\n",
       "                var nbb_formatted_code = \"targets = []\\naccs = []\\nfor i in range(len(test_cmatrix_0)):\\n    targets.append(list(test_cmatrix_0.index)[i])\\n    targets.append(list(test_cmatrix_1.index)[i])\\n    targets.append(list(test_cmatrix_2.index)[i])\\n    targets.append(list(test_cmatrix_3.index)[i])\\n\\n    accs.append(float(test_cmatrix_0.iloc[i, i]))\\n    accs.append(float(test_cmatrix_1.iloc[i, i]))\\n    accs.append(float(test_cmatrix_2.iloc[i, i]))\\n    accs.append(float(test_cmatrix_3.iloc[i, i]))\\nacc_df = pd.DataFrame(np.array(targets), columns=[\\\"target\\\"])\\nacc_df[\\\"test_acc\\\"] = np.array(accs)\";\n",
       "                var nbb_cells = Jupyter.notebook.get_cells();\n",
       "                for (var i = 0; i < nbb_cells.length; ++i) {\n",
       "                    if (nbb_cells[i].input_prompt_number == nbb_cell_id) {\n",
       "                        if (nbb_cells[i].get_text() == nbb_unformatted_code) {\n",
       "                             nbb_cells[i].set_text(nbb_formatted_code);\n",
       "                        }\n",
       "                        break;\n",
       "                    }\n",
       "                }\n",
       "            }, 500);\n",
       "            "
      ],
      "text/plain": [
       "<IPython.core.display.Javascript object>"
      ]
     },
     "metadata": {},
     "output_type": "display_data"
    },
    {
     "data": {
      "application/javascript": [
       "\n",
       "            setTimeout(function() {\n",
       "                var nbb_cell_id = 23;\n",
       "                var nbb_unformatted_code = \"targets = []\\naccs = []\\nfor i in range(len(test_cmatrix_0)):\\n    targets.append(list(test_cmatrix_0.index)[i])\\n    targets.append(list(test_cmatrix_1.index)[i])\\n    targets.append(list(test_cmatrix_2.index)[i])\\n    targets.append(list(test_cmatrix_3.index)[i])\\n\\n    accs.append(float(test_cmatrix_0.iloc[i, i]))\\n    accs.append(float(test_cmatrix_1.iloc[i, i]))\\n    accs.append(float(test_cmatrix_2.iloc[i, i]))\\n    accs.append(float(test_cmatrix_3.iloc[i, i]))\\nacc_df = pd.DataFrame(np.array(targets), columns=[\\\"target\\\"])\\nacc_df[\\\"test_acc\\\"] = np.array(accs)\";\n",
       "                var nbb_formatted_code = \"targets = []\\naccs = []\\nfor i in range(len(test_cmatrix_0)):\\n    targets.append(list(test_cmatrix_0.index)[i])\\n    targets.append(list(test_cmatrix_1.index)[i])\\n    targets.append(list(test_cmatrix_2.index)[i])\\n    targets.append(list(test_cmatrix_3.index)[i])\\n\\n    accs.append(float(test_cmatrix_0.iloc[i, i]))\\n    accs.append(float(test_cmatrix_1.iloc[i, i]))\\n    accs.append(float(test_cmatrix_2.iloc[i, i]))\\n    accs.append(float(test_cmatrix_3.iloc[i, i]))\\nacc_df = pd.DataFrame(np.array(targets), columns=[\\\"target\\\"])\\nacc_df[\\\"test_acc\\\"] = np.array(accs)\";\n",
       "                var nbb_cells = Jupyter.notebook.get_cells();\n",
       "                for (var i = 0; i < nbb_cells.length; ++i) {\n",
       "                    if (nbb_cells[i].input_prompt_number == nbb_cell_id) {\n",
       "                        if (nbb_cells[i].get_text() == nbb_unformatted_code) {\n",
       "                             nbb_cells[i].set_text(nbb_formatted_code);\n",
       "                        }\n",
       "                        break;\n",
       "                    }\n",
       "                }\n",
       "            }, 500);\n",
       "            "
      ],
      "text/plain": [
       "<IPython.core.display.Javascript object>"
      ]
     },
     "metadata": {},
     "output_type": "display_data"
    }
   ],
   "source": [
    "targets = []\n",
    "accs = []\n",
    "for i in range(len(test_cmatrix_0)):\n",
    "    targets.append(list(test_cmatrix_0.index)[i])\n",
    "    targets.append(list(test_cmatrix_1.index)[i])\n",
    "    targets.append(list(test_cmatrix_2.index)[i])\n",
    "    targets.append(list(test_cmatrix_3.index)[i])\n",
    "\n",
    "    accs.append(float(test_cmatrix_0.iloc[i, i]))\n",
    "    accs.append(float(test_cmatrix_1.iloc[i, i]))\n",
    "    accs.append(float(test_cmatrix_2.iloc[i, i]))\n",
    "    accs.append(float(test_cmatrix_3.iloc[i, i]))\n",
    "acc_df = pd.DataFrame(np.array(targets), columns=[\"target\"])\n",
    "acc_df[\"test_acc\"] = np.array(accs)"
   ]
  },
  {
   "cell_type": "code",
   "execution_count": 32,
   "id": "56880e1a",
   "metadata": {},
   "outputs": [
    {
     "data": {
      "application/javascript": [
       "\n",
       "            setTimeout(function() {\n",
       "                var nbb_cell_id = 32;\n",
       "                var nbb_unformatted_code = \"order = list(\\n    acc_df.groupby(\\\"target\\\")\\n    .mean()\\n    .sort_values(\\\"test_acc\\\", ascending=False)\\n    .index\\n)\";\n",
       "                var nbb_formatted_code = \"order = list(\\n    acc_df.groupby(\\\"target\\\").mean().sort_values(\\\"test_acc\\\", ascending=False).index\\n)\";\n",
       "                var nbb_cells = Jupyter.notebook.get_cells();\n",
       "                for (var i = 0; i < nbb_cells.length; ++i) {\n",
       "                    if (nbb_cells[i].input_prompt_number == nbb_cell_id) {\n",
       "                        if (nbb_cells[i].get_text() == nbb_unformatted_code) {\n",
       "                             nbb_cells[i].set_text(nbb_formatted_code);\n",
       "                        }\n",
       "                        break;\n",
       "                    }\n",
       "                }\n",
       "            }, 500);\n",
       "            "
      ],
      "text/plain": [
       "<IPython.core.display.Javascript object>"
      ]
     },
     "metadata": {},
     "output_type": "display_data"
    },
    {
     "data": {
      "application/javascript": [
       "\n",
       "            setTimeout(function() {\n",
       "                var nbb_cell_id = 32;\n",
       "                var nbb_unformatted_code = \"order = list(\\n    acc_df.groupby(\\\"target\\\")\\n    .mean()\\n    .sort_values(\\\"test_acc\\\", ascending=False)\\n    .index\\n)\";\n",
       "                var nbb_formatted_code = \"order = list(\\n    acc_df.groupby(\\\"target\\\").mean().sort_values(\\\"test_acc\\\", ascending=False).index\\n)\";\n",
       "                var nbb_cells = Jupyter.notebook.get_cells();\n",
       "                for (var i = 0; i < nbb_cells.length; ++i) {\n",
       "                    if (nbb_cells[i].input_prompt_number == nbb_cell_id) {\n",
       "                        if (nbb_cells[i].get_text() == nbb_unformatted_code) {\n",
       "                             nbb_cells[i].set_text(nbb_formatted_code);\n",
       "                        }\n",
       "                        break;\n",
       "                    }\n",
       "                }\n",
       "            }, 500);\n",
       "            "
      ],
      "text/plain": [
       "<IPython.core.display.Javascript object>"
      ]
     },
     "metadata": {},
     "output_type": "display_data"
    },
    {
     "data": {
      "application/javascript": [
       "\n",
       "            setTimeout(function() {\n",
       "                var nbb_cell_id = 32;\n",
       "                var nbb_unformatted_code = \"order = list(\\n    acc_df.groupby(\\\"target\\\")\\n    .mean()\\n    .sort_values(\\\"test_acc\\\", ascending=False)\\n    .index\\n)\";\n",
       "                var nbb_formatted_code = \"order = list(\\n    acc_df.groupby(\\\"target\\\").mean().sort_values(\\\"test_acc\\\", ascending=False).index\\n)\";\n",
       "                var nbb_cells = Jupyter.notebook.get_cells();\n",
       "                for (var i = 0; i < nbb_cells.length; ++i) {\n",
       "                    if (nbb_cells[i].input_prompt_number == nbb_cell_id) {\n",
       "                        if (nbb_cells[i].get_text() == nbb_unformatted_code) {\n",
       "                             nbb_cells[i].set_text(nbb_formatted_code);\n",
       "                        }\n",
       "                        break;\n",
       "                    }\n",
       "                }\n",
       "            }, 500);\n",
       "            "
      ],
      "text/plain": [
       "<IPython.core.display.Javascript object>"
      ]
     },
     "metadata": {},
     "output_type": "display_data"
    }
   ],
   "source": [
    "order = list(\n",
    "    acc_df.groupby(\"target\").mean().sort_values(\"test_acc\", ascending=False).index\n",
    ")"
   ]
  },
  {
   "cell_type": "code",
   "execution_count": 36,
   "id": "f806b0f0",
   "metadata": {},
   "outputs": [
    {
     "data": {
      "image/png": "[encoded data removed]",
      "text/plain": [
       "<Figure size 864x288 with 1 Axes>"
      ]
     },
     "metadata": {
      "needs_background": "light"
     },
     "output_type": "display_data"
    },
    {
     "data": {
      "application/javascript": [
       "\n",
       "            setTimeout(function() {\n",
       "                var nbb_cell_id = 36;\n",
       "                var nbb_unformatted_code = \"fig, ax = plt.subplots(figsize=[12, 4])\\nax = sns.barplot(\\n    data=acc_df,\\n    x=\\\"target\\\",\\n    y=\\\"test_acc\\\",\\n    ci=\\\"sd\\\",\\n    color=\\\"lightgray\\\",\\n    ax=ax,\\n    order=order,\\n)\\nax.set_xticklabels(order, rotation=90, fontsize=10, fontweight=\\\"bold\\\")\\nax.set_ylabel(\\\"CV class accuracy\\\")\\nax.set_xlabel(\\\"\\\")\\nplt.show()\";\n",
       "                var nbb_formatted_code = \"fig, ax = plt.subplots(figsize=[12, 4])\\nax = sns.barplot(\\n    data=acc_df,\\n    x=\\\"target\\\",\\n    y=\\\"test_acc\\\",\\n    ci=\\\"sd\\\",\\n    color=\\\"lightgray\\\",\\n    ax=ax,\\n    order=order,\\n)\\nax.set_xticklabels(order, rotation=90, fontsize=10, fontweight=\\\"bold\\\")\\nax.set_ylabel(\\\"CV class accuracy\\\")\\nax.set_xlabel(\\\"\\\")\\nplt.show()\";\n",
       "                var nbb_cells = Jupyter.notebook.get_cells();\n",
       "                for (var i = 0; i < nbb_cells.length; ++i) {\n",
       "                    if (nbb_cells[i].input_prompt_number == nbb_cell_id) {\n",
       "                        if (nbb_cells[i].get_text() == nbb_unformatted_code) {\n",
       "                             nbb_cells[i].set_text(nbb_formatted_code);\n",
       "                        }\n",
       "                        break;\n",
       "                    }\n",
       "                }\n",
       "            }, 500);\n",
       "            "
      ],
      "text/plain": [
       "<IPython.core.display.Javascript object>"
      ]
     },
     "metadata": {},
     "output_type": "display_data"
    },
    {
     "data": {
      "application/javascript": [
       "\n",
       "            setTimeout(function() {\n",
       "                var nbb_cell_id = 36;\n",
       "                var nbb_unformatted_code = \"fig, ax = plt.subplots(figsize=[12, 4])\\nax = sns.barplot(\\n    data=acc_df,\\n    x=\\\"target\\\",\\n    y=\\\"test_acc\\\",\\n    ci=\\\"sd\\\",\\n    color=\\\"lightgray\\\",\\n    ax=ax,\\n    order=order,\\n)\\nax.set_xticklabels(order, rotation=90, fontsize=10, fontweight=\\\"bold\\\")\\nax.set_ylabel(\\\"CV class accuracy\\\")\\nax.set_xlabel(\\\"\\\")\\nplt.show()\";\n",
       "                var nbb_formatted_code = \"fig, ax = plt.subplots(figsize=[12, 4])\\nax = sns.barplot(\\n    data=acc_df,\\n    x=\\\"target\\\",\\n    y=\\\"test_acc\\\",\\n    ci=\\\"sd\\\",\\n    color=\\\"lightgray\\\",\\n    ax=ax,\\n    order=order,\\n)\\nax.set_xticklabels(order, rotation=90, fontsize=10, fontweight=\\\"bold\\\")\\nax.set_ylabel(\\\"CV class accuracy\\\")\\nax.set_xlabel(\\\"\\\")\\nplt.show()\";\n",
       "                var nbb_cells = Jupyter.notebook.get_cells();\n",
       "                for (var i = 0; i < nbb_cells.length; ++i) {\n",
       "                    if (nbb_cells[i].input_prompt_number == nbb_cell_id) {\n",
       "                        if (nbb_cells[i].get_text() == nbb_unformatted_code) {\n",
       "                             nbb_cells[i].set_text(nbb_formatted_code);\n",
       "                        }\n",
       "                        break;\n",
       "                    }\n",
       "                }\n",
       "            }, 500);\n",
       "            "
      ],
      "text/plain": [
       "<IPython.core.display.Javascript object>"
      ]
     },
     "metadata": {},
     "output_type": "display_data"
    },
    {
     "data": {
      "application/javascript": [
       "\n",
       "            setTimeout(function() {\n",
       "                var nbb_cell_id = 36;\n",
       "                var nbb_unformatted_code = \"fig, ax = plt.subplots(figsize=[12, 4])\\nax = sns.barplot(\\n    data=acc_df,\\n    x=\\\"target\\\",\\n    y=\\\"test_acc\\\",\\n    ci=\\\"sd\\\",\\n    color=\\\"lightgray\\\",\\n    ax=ax,\\n    order=order,\\n)\\nax.set_xticklabels(order, rotation=90, fontsize=10, fontweight=\\\"bold\\\")\\nax.set_ylabel(\\\"CV class accuracy\\\")\\nax.set_xlabel(\\\"\\\")\\nplt.show()\";\n",
       "                var nbb_formatted_code = \"fig, ax = plt.subplots(figsize=[12, 4])\\nax = sns.barplot(\\n    data=acc_df,\\n    x=\\\"target\\\",\\n    y=\\\"test_acc\\\",\\n    ci=\\\"sd\\\",\\n    color=\\\"lightgray\\\",\\n    ax=ax,\\n    order=order,\\n)\\nax.set_xticklabels(order, rotation=90, fontsize=10, fontweight=\\\"bold\\\")\\nax.set_ylabel(\\\"CV class accuracy\\\")\\nax.set_xlabel(\\\"\\\")\\nplt.show()\";\n",
       "                var nbb_cells = Jupyter.notebook.get_cells();\n",
       "                for (var i = 0; i < nbb_cells.length; ++i) {\n",
       "                    if (nbb_cells[i].input_prompt_number == nbb_cell_id) {\n",
       "                        if (nbb_cells[i].get_text() == nbb_unformatted_code) {\n",
       "                             nbb_cells[i].set_text(nbb_formatted_code);\n",
       "                        }\n",
       "                        break;\n",
       "                    }\n",
       "                }\n",
       "            }, 500);\n",
       "            "
      ],
      "text/plain": [
       "<IPython.core.display.Javascript object>"
      ]
     },
     "metadata": {},
     "output_type": "display_data"
    }
   ],
   "source": [
    "fig, ax = plt.subplots(figsize=[12, 4])\n",
    "ax = sns.barplot(\n",
    "    data=acc_df,\n",
    "    x=\"target\",\n",
    "    y=\"test_acc\",\n",
    "    ci=\"sd\",\n",
    "    color=\"lightgray\",\n",
    "    ax=ax,\n",
    "    order=order,\n",
    ")\n",
    "ax.set_xticklabels(order, rotation=90, fontsize=10, fontweight=\"bold\")\n",
    "ax.set_ylabel(\"CV class accuracy\")\n",
    "ax.set_xlabel(\"\")\n",
    "plt.show()"
   ]
  }
 ],
 "metadata": {
  "kernelspec": {
   "display_name": "Python 3",
   "language": "python",
   "name": "python3"
  },
  "language_info": {
   "codemirror_mode": {
    "name": "ipython",
    "version": 3
   },
   "file_extension": ".py",
   "mimetype": "text/x-python",
   "name": "python",
   "nbconvert_exporter": "python",
   "pygments_lexer": "ipython3",
   "version": "3.8.10"
  }
 },
 "nbformat": 4,
 "nbformat_minor": 5
}
