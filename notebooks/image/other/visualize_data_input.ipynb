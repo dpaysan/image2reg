{
 "cells": [
  {
   "cell_type": "code",
   "execution_count": 1,
   "id": "5d40da36",
   "metadata": {},
   "outputs": [],
   "source": [
    "import matplotlib.pyplot as plt\n",
    "from tifffile import imread, imwrite\n",
    "import sys\n",
    "import pandas as pd\n",
    "import numpy as np\n",
    "\n",
    "sys.path.append(\"../../..\")\n",
    "\n",
    "from src.data.datasets import TorchMultiImageSlideDataset\n",
    "from src.utils.torch.transforms import (\n",
    "    ToRGBTensor,\n",
    "    CustomCenteredCrop,\n",
    "    CustomResize,\n",
    "    CustomRandomHorizontalFlip,\n",
    "    CustomRandomVerticalFlip,\n",
    "    CustomCompose,\n",
    "    CustomNormalize,\n",
    ")\n",
    "from torchvision import transforms"
   ]
  },
  {
   "cell_type": "code",
   "execution_count": 14,
   "id": "304e58bf",
   "metadata": {},
   "outputs": [],
   "source": [
    "md = pd.read_csv(\"../../../data/experiments/image_preprocessing/full_pipeline/padded_nuclei_metadata.csv.gz\", index_col=0)"
   ]
  },
  {
   "cell_type": "code",
   "execution_count": 15,
   "id": "bc7c5623",
   "metadata": {},
   "outputs": [],
   "source": [
    "md = md.loc[md.plate == 41754]"
   ]
  },
  {
   "cell_type": "code",
   "execution_count": 16,
   "id": "30c59d40",
   "metadata": {},
   "outputs": [],
   "source": [
    "md = md.loc[md.slide_image_name.isin([\"taoe005-u2os-72h-cp-a-au00044858_a02_s5_w18fd55173-4238-452c-b231-5a4560c30084_illum_corrected.tif\", \"taoe005-u2os-72h-cp-a-au00044858_m10_s3_w1cad3a0c5-b3ea-464f-9cc2-ac58c5174c58_illum_corrected.tif\", \"taoe005-u2os-72h-cp-a-au00044858_f21_s6_w11f14aa4e-b82b-477d-8701-b87286b889f2_illum_corrected.tif\", \"taoe005-u2os-72h-cp-a-au00044858_b16_s5_w1e7749bb3-671e-4a9c-8d6b-875926c8f349_illum_corrected.tif\"])]\n",
    "md.to_csv(\"/home/paysan_d/Desktop/filtered_md_data_visualization.csv\")"
   ]
  },
  {
   "cell_type": "code",
   "execution_count": 17,
   "id": "986db0e8",
   "metadata": {},
   "outputs": [],
   "source": [
    "dataset = TorchMultiImageSlideDataset(nuclei_image_dir=\"../../../data/experiments/image_preprocessing/full_pipeline/padded_nuclei\", nuclei_metadata_file= \"/home/paysan_d/Desktop/filtered_md_data_visualization.csv\", slide_image_dir = \"../../../data/experiments/image_preprocessing/full_pipeline/filtered\", pseudo_rgb=True)"
   ]
  },
  {
   "cell_type": "code",
   "execution_count": 18,
   "id": "a5da898a",
   "metadata": {},
   "outputs": [],
   "source": [
    "nuc_transforms =  transforms.Resize(224)\n",
    "slide_transforms = CustomCompose([CustomCenteredCrop(448),CustomResize(224)])"
   ]
  },
  {
   "cell_type": "code",
   "execution_count": 19,
   "id": "5aa1bc82",
   "metadata": {},
   "outputs": [],
   "source": [
    "dataset.set_transform_pipeline([nuc_transforms, slide_transforms])"
   ]
  },
  {
   "cell_type": "code",
   "execution_count": 20,
   "id": "22e20114",
   "metadata": {},
   "outputs": [],
   "source": [
    "import os\n",
    "import tifffile\n",
    "os.makedirs(\"/home/paysan_d/Desktop/images_data\", exist_ok=True)\n",
    "for i in range(len(dataset)):\n",
    "    sample = dataset[i]\n",
    "    ids = sample[\"image_file\"]\n",
    "    nuc_img = sample[\"nuclei_image\"]\n",
    "    slide_img = sample[\"slide_image\"]\n",
    "    os.makedirs(os.path.join(\"/home/paysan_d/Desktop/images_data\", \"slide\"), exist_ok=True)\n",
    "    os.makedirs(os.path.join(\"/home/paysan_d/Desktop/images_data\", \"nuc\"),exist_ok=True)\n",
    "    tifffile.imwrite( os.path.join(\"/home/paysan_d/Desktop/images_data\",\"nuc\", ids), np.array(nuc_img))\n",
    "    tifffile.imwrite( os.path.join(\"/home/paysan_d/Desktop/images_data\",\"slide\", ids), np.array(slide_img))"
   ]
  },
  {
   "cell_type": "code",
   "execution_count": null,
   "id": "c30c2a0a",
   "metadata": {},
   "outputs": [],
   "source": []
  }
 ],
 "metadata": {
  "kernelspec": {
   "display_name": "Python 3",
   "language": "python",
   "name": "python3"
  },
  "language_info": {
   "codemirror_mode": {
    "name": "ipython",
    "version": 3
   },
   "file_extension": ".py",
   "mimetype": "text/x-python",
   "name": "python",
   "nbconvert_exporter": "python",
   "pygments_lexer": "ipython3",
   "version": "3.8.10"
  }
 },
 "nbformat": 4,
 "nbformat_minor": 5
}
