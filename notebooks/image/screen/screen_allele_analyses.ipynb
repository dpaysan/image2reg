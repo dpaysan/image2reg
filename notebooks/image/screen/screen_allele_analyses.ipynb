{
 "cells": [
  {
   "cell_type": "markdown",
   "id": "9897fffb",
   "metadata": {},
   "source": [
    "# Analysis of the allele screening results\n",
    "---\n",
    "\n",
    "This notebook evaluates the results of the specificity screen on an allele-level. For the screen we trained an Ensemble of two Resnet18 pretrained on the Imagenet data set that processed the individual single-nuclei images as well as whole FoV images. The latter model can use the whole FoV images to also derive distributional information like e.g. the cell density that might be helpful to distinguish the negative control setting from the OE condition.\n",
    "\n",
    "We ran the specificity screen for "
   ]
  },
  {
   "cell_type": "markdown",
   "id": "6ffa9682",
   "metadata": {},
   "source": [
    "## 0. Environmental setup"
   ]
  },
  {
   "cell_type": "code",
   "execution_count": 92,
   "id": "c7f18645",
   "metadata": {},
   "outputs": [
    {
     "name": "stdout",
     "output_type": "stream",
     "text": [
      "The nb_black extension is already loaded. To reload it, use:\n",
      "  %reload_ext nb_black\n"
     ]
    },
    {
     "data": {
      "application/javascript": [
       "IPython.notebook.set_autosave_interval(60000)"
      ]
     },
     "metadata": {},
     "output_type": "display_data"
    },
    {
     "name": "stdout",
     "output_type": "stream",
     "text": [
      "Autosaving every 60 seconds\n"
     ]
    },
    {
     "data": {
      "application/javascript": [
       "\n",
       "            setTimeout(function() {\n",
       "                var nbb_cell_id = 92;\n",
       "                var nbb_unformatted_code = \"import numpy as np\\nimport pandas as pd\\nimport seaborn as sns\\nimport matplotlib.pyplot as plt\\nfrom tqdm import tqdm\\nimport venn\\nfrom typing import List\\nfrom umap import UMAP\\nimport os\\nfrom scipy.stats import pearsonr\\nfrom kneed import KneeLocator\\nfrom loess import loess_1d\\n\\nfrom sklearn.preprocessing import StandardScaler\\nfrom sklearn.manifold import TSNE\\n\\nfrom statannot import add_stat_annotation\\n\\nimport sys\\n\\nsys.path.append(\\\"../../../\\\")\\n\\nfrom src.utils.basic.io import get_file_list\\nfrom src.utils.notebooks.images.exp_evaluation import analyze_screen_results\\n\\n%load_ext nb_black\\n%autosave 60\";\n",
       "                var nbb_formatted_code = \"import numpy as np\\nimport pandas as pd\\nimport seaborn as sns\\nimport matplotlib.pyplot as plt\\nfrom tqdm import tqdm\\nimport venn\\nfrom typing import List\\nfrom umap import UMAP\\nimport os\\nfrom scipy.stats import pearsonr\\nfrom kneed import KneeLocator\\nfrom loess import loess_1d\\n\\nfrom sklearn.preprocessing import StandardScaler\\nfrom sklearn.manifold import TSNE\\n\\nfrom statannot import add_stat_annotation\\n\\nimport sys\\n\\nsys.path.append(\\\"../../../\\\")\\n\\nfrom src.utils.basic.io import get_file_list\\nfrom src.utils.notebooks.images.exp_evaluation import analyze_screen_results\\n\\n%load_ext nb_black\\n%autosave 60\";\n",
       "                var nbb_cells = Jupyter.notebook.get_cells();\n",
       "                for (var i = 0; i < nbb_cells.length; ++i) {\n",
       "                    if (nbb_cells[i].input_prompt_number == nbb_cell_id) {\n",
       "                        if (nbb_cells[i].get_text() == nbb_unformatted_code) {\n",
       "                             nbb_cells[i].set_text(nbb_formatted_code);\n",
       "                        }\n",
       "                        break;\n",
       "                    }\n",
       "                }\n",
       "            }, 500);\n",
       "            "
      ],
      "text/plain": [
       "<IPython.core.display.Javascript object>"
      ]
     },
     "metadata": {},
     "output_type": "display_data"
    }
   ],
   "source": [
    "import numpy as np\n",
    "import pandas as pd\n",
    "import seaborn as sns\n",
    "import matplotlib.pyplot as plt\n",
    "from tqdm import tqdm\n",
    "import venn\n",
    "from typing import List\n",
    "from umap import UMAP\n",
    "import os\n",
    "from scipy.stats import pearsonr\n",
    "from kneed import KneeLocator\n",
    "from loess import loess_1d\n",
    "\n",
    "from sklearn.preprocessing import StandardScaler\n",
    "from sklearn.manifold import TSNE\n",
    "\n",
    "from statannot import add_stat_annotation\n",
    "\n",
    "import sys\n",
    "\n",
    "sys.path.append(\"../../../\")\n",
    "\n",
    "from src.utils.basic.io import get_file_list\n",
    "from src.utils.notebooks.images.exp_evaluation import analyze_screen_results\n",
    "\n",
    "%load_ext nb_black\n",
    "%autosave 60"
   ]
  },
  {
   "cell_type": "code",
   "execution_count": 93,
   "id": "8b1fc3b5",
   "metadata": {},
   "outputs": [
    {
     "data": {
      "application/javascript": [
       "\n",
       "            setTimeout(function() {\n",
       "                var nbb_cell_id = 93;\n",
       "                var nbb_unformatted_code = \"def plot_spec_screen_results(\\n    root_dir: str,\\n    dataset_types: List[str],\\n    score_df: pd.DataFrame,\\n    label_col: str = \\\"labels\\\",\\n    figsize=[12, 6],\\n    filter_targets=None,\\n):\\n    subdirs = sorted(os.listdir(root_dir))\\n    for subdir in tqdm(subdirs, desc=\\\"Visualize latent spaces\\\"):\\n        if filter_targets is None or subdir in filter_targets:\\n            fig, ax = plt.subplots(ncols=len(dataset_types), figsize=figsize)\\n            ax = ax.flatten()\\n            all_latents = []\\n            all_labels = []\\n            dataset_labels = []\\n            for i in range(len(dataset_types)):\\n                dataset_type = dataset_types[i]\\n                latents = pd.read_hdf(\\n                    os.path.join(root_dir, subdir, dataset_type + \\\"_latents.h5\\\")\\n                )\\n                all_labels.append(\\n                    np.array(\\n                        latents.loc[:, \\\"labels\\\"].map(\\n                            dict(zip([0, 1], sorted([\\\"EMPTY\\\", subdir.upper()])))\\n                        )\\n                    )\\n                )\\n                all_latents.append(np.array(latents.drop(columns=[label_col])))\\n                dataset_labels.extend([dataset_type] * len(latents))\\n\\n            all_latents = np.concatenate(all_latents)\\n            all_labels = np.concatenate(all_labels)\\n            all_embs = TSNE(random_state=1234).fit_transform(all_latents)\\n            all_embs = pd.DataFrame(all_embs, columns=[\\\"tsne_0\\\", \\\"tsne_1\\\"])\\n            all_embs[\\\"label\\\"] = all_labels\\n            all_embs[\\\"dataset_type\\\"] = np.array(dataset_labels)\\n\\n            for i in range(len(dataset_types)):\\n                dataset_type = dataset_types[i]\\n                ax[i] = sns.scatterplot(\\n                    data=all_embs.loc[all_embs[\\\"dataset_type\\\"] == dataset_type],\\n                    x=\\\"tsne_0\\\",\\n                    y=\\\"tsne_1\\\",\\n                    hue=\\\"label\\\",\\n                    ax=ax[i],\\n                    hue_order=[\\\"EMPTY\\\", subdir.upper()],\\n                    s=4,\\n                )\\n                score = score_df.loc[subdir.upper(), \\\"{}_acc\\\".format(dataset_type)]\\n                ax[i].set_title(\\\"{} data, acc: {:.4f}\\\".format(dataset_type, score))\\n                ax[i].set_xlim([all_embs.tsne_0.min() - 20, all_embs.tsne_0.max() + 20])\\n                ax[i].set_ylim([all_embs.tsne_1.min() - 20, all_embs.tsne_1.max() + 20])\\n\\n            fig.suptitle(\\\"Latent embeddings for {}\\\".format(subdir))\\n            plt.show()\\n            plt.close()\";\n",
       "                var nbb_formatted_code = \"def plot_spec_screen_results(\\n    root_dir: str,\\n    dataset_types: List[str],\\n    score_df: pd.DataFrame,\\n    label_col: str = \\\"labels\\\",\\n    figsize=[12, 6],\\n    filter_targets=None,\\n):\\n    subdirs = sorted(os.listdir(root_dir))\\n    for subdir in tqdm(subdirs, desc=\\\"Visualize latent spaces\\\"):\\n        if filter_targets is None or subdir in filter_targets:\\n            fig, ax = plt.subplots(ncols=len(dataset_types), figsize=figsize)\\n            ax = ax.flatten()\\n            all_latents = []\\n            all_labels = []\\n            dataset_labels = []\\n            for i in range(len(dataset_types)):\\n                dataset_type = dataset_types[i]\\n                latents = pd.read_hdf(\\n                    os.path.join(root_dir, subdir, dataset_type + \\\"_latents.h5\\\")\\n                )\\n                all_labels.append(\\n                    np.array(\\n                        latents.loc[:, \\\"labels\\\"].map(\\n                            dict(zip([0, 1], sorted([\\\"EMPTY\\\", subdir.upper()])))\\n                        )\\n                    )\\n                )\\n                all_latents.append(np.array(latents.drop(columns=[label_col])))\\n                dataset_labels.extend([dataset_type] * len(latents))\\n\\n            all_latents = np.concatenate(all_latents)\\n            all_labels = np.concatenate(all_labels)\\n            all_embs = TSNE(random_state=1234).fit_transform(all_latents)\\n            all_embs = pd.DataFrame(all_embs, columns=[\\\"tsne_0\\\", \\\"tsne_1\\\"])\\n            all_embs[\\\"label\\\"] = all_labels\\n            all_embs[\\\"dataset_type\\\"] = np.array(dataset_labels)\\n\\n            for i in range(len(dataset_types)):\\n                dataset_type = dataset_types[i]\\n                ax[i] = sns.scatterplot(\\n                    data=all_embs.loc[all_embs[\\\"dataset_type\\\"] == dataset_type],\\n                    x=\\\"tsne_0\\\",\\n                    y=\\\"tsne_1\\\",\\n                    hue=\\\"label\\\",\\n                    ax=ax[i],\\n                    hue_order=[\\\"EMPTY\\\", subdir.upper()],\\n                    s=4,\\n                )\\n                score = score_df.loc[subdir.upper(), \\\"{}_acc\\\".format(dataset_type)]\\n                ax[i].set_title(\\\"{} data, acc: {:.4f}\\\".format(dataset_type, score))\\n                ax[i].set_xlim([all_embs.tsne_0.min() - 20, all_embs.tsne_0.max() + 20])\\n                ax[i].set_ylim([all_embs.tsne_1.min() - 20, all_embs.tsne_1.max() + 20])\\n\\n            fig.suptitle(\\\"Latent embeddings for {}\\\".format(subdir))\\n            plt.show()\\n            plt.close()\";\n",
       "                var nbb_cells = Jupyter.notebook.get_cells();\n",
       "                for (var i = 0; i < nbb_cells.length; ++i) {\n",
       "                    if (nbb_cells[i].input_prompt_number == nbb_cell_id) {\n",
       "                        if (nbb_cells[i].get_text() == nbb_unformatted_code) {\n",
       "                             nbb_cells[i].set_text(nbb_formatted_code);\n",
       "                        }\n",
       "                        break;\n",
       "                    }\n",
       "                }\n",
       "            }, 500);\n",
       "            "
      ],
      "text/plain": [
       "<IPython.core.display.Javascript object>"
      ]
     },
     "metadata": {},
     "output_type": "display_data"
    }
   ],
   "source": [
    "def plot_spec_screen_results(\n",
    "    root_dir: str,\n",
    "    dataset_types: List[str],\n",
    "    score_df: pd.DataFrame,\n",
    "    label_col: str = \"labels\",\n",
    "    figsize=[12, 6],\n",
    "    filter_targets=None,\n",
    "):\n",
    "    subdirs = sorted(os.listdir(root_dir))\n",
    "    for subdir in tqdm(subdirs, desc=\"Visualize latent spaces\"):\n",
    "        if filter_targets is None or subdir in filter_targets:\n",
    "            fig, ax = plt.subplots(ncols=len(dataset_types), figsize=figsize)\n",
    "            ax = ax.flatten()\n",
    "            all_latents = []\n",
    "            all_labels = []\n",
    "            dataset_labels = []\n",
    "            for i in range(len(dataset_types)):\n",
    "                dataset_type = dataset_types[i]\n",
    "                latents = pd.read_hdf(\n",
    "                    os.path.join(root_dir, subdir, dataset_type + \"_latents.h5\")\n",
    "                )\n",
    "                all_labels.append(\n",
    "                    np.array(\n",
    "                        latents.loc[:, \"labels\"].map(\n",
    "                            dict(zip([0, 1], sorted([\"EMPTY\", subdir.upper()])))\n",
    "                        )\n",
    "                    )\n",
    "                )\n",
    "                all_latents.append(np.array(latents.drop(columns=[label_col])))\n",
    "                dataset_labels.extend([dataset_type] * len(latents))\n",
    "\n",
    "            all_latents = np.concatenate(all_latents)\n",
    "            all_labels = np.concatenate(all_labels)\n",
    "            all_embs = TSNE(random_state=1234).fit_transform(all_latents)\n",
    "            all_embs = pd.DataFrame(all_embs, columns=[\"tsne_0\", \"tsne_1\"])\n",
    "            all_embs[\"label\"] = all_labels\n",
    "            all_embs[\"dataset_type\"] = np.array(dataset_labels)\n",
    "\n",
    "            for i in range(len(dataset_types)):\n",
    "                dataset_type = dataset_types[i]\n",
    "                ax[i] = sns.scatterplot(\n",
    "                    data=all_embs.loc[all_embs[\"dataset_type\"] == dataset_type],\n",
    "                    x=\"tsne_0\",\n",
    "                    y=\"tsne_1\",\n",
    "                    hue=\"label\",\n",
    "                    ax=ax[i],\n",
    "                    hue_order=[\"EMPTY\", subdir.upper()],\n",
    "                    s=4,\n",
    "                )\n",
    "                score = score_df.loc[subdir.upper(), \"{}_acc\".format(dataset_type)]\n",
    "                ax[i].set_title(\"{} data, acc: {:.4f}\".format(dataset_type, score))\n",
    "                ax[i].set_xlim([all_embs.tsne_0.min() - 20, all_embs.tsne_0.max() + 20])\n",
    "                ax[i].set_ylim([all_embs.tsne_1.min() - 20, all_embs.tsne_1.max() + 20])\n",
    "\n",
    "            fig.suptitle(\"Latent embeddings for {}\".format(subdir))\n",
    "            plt.show()\n",
    "            plt.close()"
   ]
  },
  {
   "cell_type": "code",
   "execution_count": 94,
   "id": "b5679871",
   "metadata": {},
   "outputs": [
    {
     "data": {
      "application/javascript": [
       "\n",
       "            setTimeout(function() {\n",
       "                var nbb_cell_id = 94;\n",
       "                var nbb_unformatted_code = \"cell_cycle_genes = set(\\n    pd.read_csv(\\n        \\\"../../../data/other/reactome_cell_cycle.txt\\\", index_col=0, header=None\\n    ).index\\n)\\nchrom_org_genes = set(\\n    pd.read_csv(\\n        \\\"../../../data/other/reactome_chrom_org.txt\\\", index_col=0, header=None\\n    ).index\\n)\\ndna_repair_genes = set(\\n    pd.read_csv(\\n        \\\"../../../data/other/reactome_dna_repair.txt\\\", index_col=0, header=None\\n    ).index\\n)\\nreg_actin_cytoskeleton_genes = set(\\n    pd.read_csv(\\n        \\\"../../../data/other/kegg_reg_act_cytoskeleton.txt\\\", index_col=0, header=None\\n    ).index\\n)\\nhuman_tfs = set(\\n    list(\\n        pd.read_csv(\\n            \\\"../../../data/other/human_tf_list.txt\\\", index_col=0, header=None\\n        ).index\\n    )\\n)\\ncurated_gene_sets = (\\n    cell_cycle_genes.union(chrom_org_genes)\\n    .union(dna_repair_genes)\\n    .union(reg_actin_cytoskeleton_genes)\\n    .union(human_tfs)\\n)\";\n",
       "                var nbb_formatted_code = \"cell_cycle_genes = set(\\n    pd.read_csv(\\n        \\\"../../../data/other/reactome_cell_cycle.txt\\\", index_col=0, header=None\\n    ).index\\n)\\nchrom_org_genes = set(\\n    pd.read_csv(\\n        \\\"../../../data/other/reactome_chrom_org.txt\\\", index_col=0, header=None\\n    ).index\\n)\\ndna_repair_genes = set(\\n    pd.read_csv(\\n        \\\"../../../data/other/reactome_dna_repair.txt\\\", index_col=0, header=None\\n    ).index\\n)\\nreg_actin_cytoskeleton_genes = set(\\n    pd.read_csv(\\n        \\\"../../../data/other/kegg_reg_act_cytoskeleton.txt\\\", index_col=0, header=None\\n    ).index\\n)\\nhuman_tfs = set(\\n    list(\\n        pd.read_csv(\\n            \\\"../../../data/other/human_tf_list.txt\\\", index_col=0, header=None\\n        ).index\\n    )\\n)\\ncurated_gene_sets = (\\n    cell_cycle_genes.union(chrom_org_genes)\\n    .union(dna_repair_genes)\\n    .union(reg_actin_cytoskeleton_genes)\\n    .union(human_tfs)\\n)\";\n",
       "                var nbb_cells = Jupyter.notebook.get_cells();\n",
       "                for (var i = 0; i < nbb_cells.length; ++i) {\n",
       "                    if (nbb_cells[i].input_prompt_number == nbb_cell_id) {\n",
       "                        if (nbb_cells[i].get_text() == nbb_unformatted_code) {\n",
       "                             nbb_cells[i].set_text(nbb_formatted_code);\n",
       "                        }\n",
       "                        break;\n",
       "                    }\n",
       "                }\n",
       "            }, 500);\n",
       "            "
      ],
      "text/plain": [
       "<IPython.core.display.Javascript object>"
      ]
     },
     "metadata": {},
     "output_type": "display_data"
    }
   ],
   "source": [
    "cell_cycle_genes = set(\n",
    "    pd.read_csv(\n",
    "        \"../../../data/other/reactome_cell_cycle.txt\", index_col=0, header=None\n",
    "    ).index\n",
    ")\n",
    "chrom_org_genes = set(\n",
    "    pd.read_csv(\n",
    "        \"../../../data/other/reactome_chrom_org.txt\", index_col=0, header=None\n",
    "    ).index\n",
    ")\n",
    "dna_repair_genes = set(\n",
    "    pd.read_csv(\n",
    "        \"../../../data/other/reactome_dna_repair.txt\", index_col=0, header=None\n",
    "    ).index\n",
    ")\n",
    "reg_actin_cytoskeleton_genes = set(\n",
    "    pd.read_csv(\n",
    "        \"../../../data/other/kegg_reg_act_cytoskeleton.txt\", index_col=0, header=None\n",
    "    ).index\n",
    ")\n",
    "human_tfs = set(\n",
    "    list(\n",
    "        pd.read_csv(\n",
    "            \"../../../data/other/human_tf_list.txt\", index_col=0, header=None\n",
    "        ).index\n",
    "    )\n",
    ")\n",
    "curated_gene_sets = (\n",
    "    cell_cycle_genes.union(chrom_org_genes)\n",
    "    .union(dna_repair_genes)\n",
    "    .union(reg_actin_cytoskeleton_genes)\n",
    "    .union(human_tfs)\n",
    ")"
   ]
  },
  {
   "cell_type": "code",
   "execution_count": 95,
   "id": "145eeb57",
   "metadata": {},
   "outputs": [
    {
     "data": {
      "application/javascript": [
       "\n",
       "            setTimeout(function() {\n",
       "                var nbb_cell_id = 95;\n",
       "                var nbb_unformatted_code = \"rohban_target_set = pd.read_csv(\\n    \\\"../../../data/other/rhoban_specific_orf_targets_alleles.csv\\\", index_col=0\\n)\\nrohban_targets = set(rohban_target_set.index)\";\n",
       "                var nbb_formatted_code = \"rohban_target_set = pd.read_csv(\\n    \\\"../../../data/other/rhoban_specific_orf_targets_alleles.csv\\\", index_col=0\\n)\\nrohban_targets = set(rohban_target_set.index)\";\n",
       "                var nbb_cells = Jupyter.notebook.get_cells();\n",
       "                for (var i = 0; i < nbb_cells.length; ++i) {\n",
       "                    if (nbb_cells[i].input_prompt_number == nbb_cell_id) {\n",
       "                        if (nbb_cells[i].get_text() == nbb_unformatted_code) {\n",
       "                             nbb_cells[i].set_text(nbb_formatted_code);\n",
       "                        }\n",
       "                        break;\n",
       "                    }\n",
       "                }\n",
       "            }, 500);\n",
       "            "
      ],
      "text/plain": [
       "<IPython.core.display.Javascript object>"
      ]
     },
     "metadata": {},
     "output_type": "display_data"
    }
   ],
   "source": [
    "rohban_target_set = pd.read_csv(\n",
    "    \"../../../data/other/rhoban_specific_orf_targets_alleles.csv\", index_col=0\n",
    ")\n",
    "rohban_targets = set(rohban_target_set.index)"
   ]
  },
  {
   "cell_type": "markdown",
   "id": "552be9e0",
   "metadata": {},
   "source": [
    "---\n",
    "\n",
    "## 1. Read in data"
   ]
  },
  {
   "cell_type": "markdown",
   "id": "9c4f4dba",
   "metadata": {},
   "source": [
    "First, we will read in the data which automatically scans the given directories of the individual screens for the corresponding log-files and extract the different scores from those."
   ]
  },
  {
   "cell_type": "code",
   "execution_count": 96,
   "id": "2a762174",
   "metadata": {},
   "outputs": [
    {
     "data": {
      "application/javascript": [
       "\n",
       "            setTimeout(function() {\n",
       "                var nbb_cell_id = 96;\n",
       "                var nbb_unformatted_code = \"screen_results = analyze_screen_results(\\n    \\\"../../../data/experiments/image_embeddings/specificity_screen_alleles\\\"\\n)\";\n",
       "                var nbb_formatted_code = \"screen_results = analyze_screen_results(\\n    \\\"../../../data/experiments/image_embeddings/specificity_screen_alleles\\\"\\n)\";\n",
       "                var nbb_cells = Jupyter.notebook.get_cells();\n",
       "                for (var i = 0; i < nbb_cells.length; ++i) {\n",
       "                    if (nbb_cells[i].input_prompt_number == nbb_cell_id) {\n",
       "                        if (nbb_cells[i].get_text() == nbb_unformatted_code) {\n",
       "                             nbb_cells[i].set_text(nbb_formatted_code);\n",
       "                        }\n",
       "                        break;\n",
       "                    }\n",
       "                }\n",
       "            }, 500);\n",
       "            "
      ],
      "text/plain": [
       "<IPython.core.display.Javascript object>"
      ]
     },
     "metadata": {},
     "output_type": "display_data"
    }
   ],
   "source": [
    "screen_results = analyze_screen_results(\n",
    "    \"../../../data/experiments/image_embeddings/specificity_screen_alleles\"\n",
    ")"
   ]
  },
  {
   "cell_type": "markdown",
   "id": "5cc63fa6",
   "metadata": {},
   "source": [
    "---\n",
    "\n",
    "## 2. Analyses\n",
    "\n",
    "### 2.1. Exploratory analyses"
   ]
  },
  {
   "cell_type": "markdown",
   "id": "4d208383",
   "metadata": {},
   "source": [
    "After having read in the data, we will first compute specificity score for each target that is given by the minimum of the validation and testing accuracy."
   ]
  },
  {
   "cell_type": "code",
   "execution_count": 97,
   "id": "7ee85924",
   "metadata": {},
   "outputs": [
    {
     "data": {
      "application/javascript": [
       "\n",
       "            setTimeout(function() {\n",
       "                var nbb_cell_id = 97;\n",
       "                var nbb_unformatted_code = \"screen_results[\\\"min_val_test_acc\\\"] = [\\n    np.min(screen_results.iloc[i, -2:]) for i in range(len(screen_results))\\n]\";\n",
       "                var nbb_formatted_code = \"screen_results[\\\"min_val_test_acc\\\"] = [\\n    np.min(screen_results.iloc[i, -2:]) for i in range(len(screen_results))\\n]\";\n",
       "                var nbb_cells = Jupyter.notebook.get_cells();\n",
       "                for (var i = 0; i < nbb_cells.length; ++i) {\n",
       "                    if (nbb_cells[i].input_prompt_number == nbb_cell_id) {\n",
       "                        if (nbb_cells[i].get_text() == nbb_unformatted_code) {\n",
       "                             nbb_cells[i].set_text(nbb_formatted_code);\n",
       "                        }\n",
       "                        break;\n",
       "                    }\n",
       "                }\n",
       "            }, 500);\n",
       "            "
      ],
      "text/plain": [
       "<IPython.core.display.Javascript object>"
      ]
     },
     "metadata": {},
     "output_type": "display_data"
    }
   ],
   "source": [
    "screen_results[\"min_val_test_acc\"] = [\n",
    "    np.min(screen_results.iloc[i, -2:]) for i in range(len(screen_results))\n",
    "]"
   ]
  },
  {
   "cell_type": "code",
   "execution_count": 98,
   "id": "b9eb7013",
   "metadata": {},
   "outputs": [
    {
     "data": {
      "text/plain": [
       "322"
      ]
     },
     "execution_count": 98,
     "metadata": {},
     "output_type": "execute_result"
    },
    {
     "data": {
      "application/javascript": [
       "\n",
       "            setTimeout(function() {\n",
       "                var nbb_cell_id = 98;\n",
       "                var nbb_unformatted_code = \"len(\\n    np.array(\\n        screen_results.sort_values(\\\"min_val_test_acc\\\", ascending=False).min_val_test_acc\\n    )\\n)\";\n",
       "                var nbb_formatted_code = \"len(\\n    np.array(\\n        screen_results.sort_values(\\\"min_val_test_acc\\\", ascending=False).min_val_test_acc\\n    )\\n)\";\n",
       "                var nbb_cells = Jupyter.notebook.get_cells();\n",
       "                for (var i = 0; i < nbb_cells.length; ++i) {\n",
       "                    if (nbb_cells[i].input_prompt_number == nbb_cell_id) {\n",
       "                        if (nbb_cells[i].get_text() == nbb_unformatted_code) {\n",
       "                             nbb_cells[i].set_text(nbb_formatted_code);\n",
       "                        }\n",
       "                        break;\n",
       "                    }\n",
       "                }\n",
       "            }, 500);\n",
       "            "
      ],
      "text/plain": [
       "<IPython.core.display.Javascript object>"
      ]
     },
     "metadata": {},
     "output_type": "display_data"
    }
   ],
   "source": [
    "len(\n",
    "    np.array(\n",
    "        screen_results.sort_values(\"min_val_test_acc\", ascending=False).min_val_test_acc\n",
    "    )\n",
    ")"
   ]
  },
  {
   "cell_type": "markdown",
   "id": "288f9c13",
   "metadata": {},
   "source": [
    "Since, the input data was balanced by randomly undersampling the majority class, we expect a specificity score of around 0.5 to reflect random chance and hence no reproducible or no specific signal for the respective overexpression."
   ]
  },
  {
   "cell_type": "markdown",
   "id": "abaab57f",
   "metadata": {},
   "source": [
    "The plot below shows a rapid decrease in the specificity score for each of the different screening models using the morphological embeddings computed by Rohban et al. (2017), and the ResNet18 taking in the single nuclei images respectively a tuple of the single nuclei image and a patch centered at the single-nuclei location."
   ]
  },
  {
   "cell_type": "code",
   "execution_count": 99,
   "id": "caf4622e",
   "metadata": {},
   "outputs": [
    {
     "data": {
      "image/png": "[encoded data removed]",
      "text/plain": [
       "<Figure size 576x432 with 1 Axes>"
      ]
     },
     "metadata": {
      "needs_background": "light"
     },
     "output_type": "display_data"
    },
    {
     "data": {
      "application/javascript": [
       "\n",
       "            setTimeout(function() {\n",
       "                var nbb_cell_id = 99;\n",
       "                var nbb_unformatted_code = \"fig, ax = plt.subplots(figsize=[8, 6])\\n\\n\\nspec_scores = np.array(\\n    screen_results.sort_values(\\\"min_val_test_acc\\\", ascending=False).min_val_test_acc\\n)\\nidx = np.array(list(range(len(spec_scores))))\\n\\nplt.plot(idx, spec_scores, label=\\\"multi_image\\\")\\nplt.title(\\\"Specificity scores of the ORF targets\\\")\\nplt.xticks(np.arange(0, len(spec_scores), 20))\\nplt.yticks(np.arange(40, 105, 5) / 100)\\nplt.ylabel(\\\"Specificity score\\\")\\nplt.legend()\\nplt.show()\";\n",
       "                var nbb_formatted_code = \"fig, ax = plt.subplots(figsize=[8, 6])\\n\\n\\nspec_scores = np.array(\\n    screen_results.sort_values(\\\"min_val_test_acc\\\", ascending=False).min_val_test_acc\\n)\\nidx = np.array(list(range(len(spec_scores))))\\n\\nplt.plot(idx, spec_scores, label=\\\"multi_image\\\")\\nplt.title(\\\"Specificity scores of the ORF targets\\\")\\nplt.xticks(np.arange(0, len(spec_scores), 20))\\nplt.yticks(np.arange(40, 105, 5) / 100)\\nplt.ylabel(\\\"Specificity score\\\")\\nplt.legend()\\nplt.show()\";\n",
       "                var nbb_cells = Jupyter.notebook.get_cells();\n",
       "                for (var i = 0; i < nbb_cells.length; ++i) {\n",
       "                    if (nbb_cells[i].input_prompt_number == nbb_cell_id) {\n",
       "                        if (nbb_cells[i].get_text() == nbb_unformatted_code) {\n",
       "                             nbb_cells[i].set_text(nbb_formatted_code);\n",
       "                        }\n",
       "                        break;\n",
       "                    }\n",
       "                }\n",
       "            }, 500);\n",
       "            "
      ],
      "text/plain": [
       "<IPython.core.display.Javascript object>"
      ]
     },
     "metadata": {},
     "output_type": "display_data"
    }
   ],
   "source": [
    "fig, ax = plt.subplots(figsize=[8, 6])\n",
    "\n",
    "\n",
    "spec_scores = np.array(\n",
    "    screen_results.sort_values(\"min_val_test_acc\", ascending=False).min_val_test_acc\n",
    ")\n",
    "idx = np.array(list(range(len(spec_scores))))\n",
    "\n",
    "plt.plot(idx, spec_scores, label=\"multi_image\")\n",
    "plt.title(\"Specificity scores of the ORF targets\")\n",
    "plt.xticks(np.arange(0, len(spec_scores), 20))\n",
    "plt.yticks(np.arange(40, 105, 5) / 100)\n",
    "plt.ylabel(\"Specificity score\")\n",
    "plt.legend()\n",
    "plt.show()"
   ]
  },
  {
   "cell_type": "markdown",
   "id": "3d537900",
   "metadata": {},
   "source": [
    "We see that all of the curves show a fairly similar shape while the multi-image setup yields on average significantly higher scores. The comparability of the scores is also apparent when looking at the correlation of the individual specificity scores for any pair of the screening models."
   ]
  },
  {
   "cell_type": "markdown",
   "id": "c8a30f2b",
   "metadata": {},
   "source": [
    "---\n",
    "\n",
    "## 3. Validation of the specificity scores\n",
    "\n",
    "Before we proceed further, we aim to validate our definition of the specifity score. To this end, we will look at the distribution of the respective score (from now on focussing on the multi-image input model-based screen) in different gene sets, i.e. one that describes the 110 alleles that were identified as yielding specific and reproducible structural phenotypes upon overexpression of corresponding alleles in the study by Rohban et al. (2017) as well as a set obtained from the curation of multiple pathways that are expected to modulate the chromatin organization and cellular morphology."
   ]
  },
  {
   "cell_type": "code",
   "execution_count": 100,
   "id": "4c825d79",
   "metadata": {},
   "outputs": [
    {
     "data": {
      "application/javascript": [
       "\n",
       "            setTimeout(function() {\n",
       "                var nbb_cell_id = 100;\n",
       "                var nbb_unformatted_code = \"spec_results = screen_results.copy()\\nspec_results.index = spec_results.target\\nspec_results[\\\"spec_score\\\"] = spec_results.min_val_test_acc\";\n",
       "                var nbb_formatted_code = \"spec_results = screen_results.copy()\\nspec_results.index = spec_results.target\\nspec_results[\\\"spec_score\\\"] = spec_results.min_val_test_acc\";\n",
       "                var nbb_cells = Jupyter.notebook.get_cells();\n",
       "                for (var i = 0; i < nbb_cells.length; ++i) {\n",
       "                    if (nbb_cells[i].input_prompt_number == nbb_cell_id) {\n",
       "                        if (nbb_cells[i].get_text() == nbb_unformatted_code) {\n",
       "                             nbb_cells[i].set_text(nbb_formatted_code);\n",
       "                        }\n",
       "                        break;\n",
       "                    }\n",
       "                }\n",
       "            }, 500);\n",
       "            "
      ],
      "text/plain": [
       "<IPython.core.display.Javascript object>"
      ]
     },
     "metadata": {},
     "output_type": "display_data"
    }
   ],
   "source": [
    "spec_results = screen_results.copy()\n",
    "spec_results.index = spec_results.target\n",
    "spec_results[\"spec_score\"] = spec_results.min_val_test_acc"
   ]
  },
  {
   "cell_type": "code",
   "execution_count": 101,
   "id": "7206be0c",
   "metadata": {},
   "outputs": [
    {
     "data": {
      "application/javascript": [
       "\n",
       "            setTimeout(function() {\n",
       "                var nbb_cell_id = 101;\n",
       "                var nbb_unformatted_code = \"spec_results[\\\"rohban_selected\\\"] = np.array(\\n    spec_results.index.isin(rohban_targets)\\n).astype(\\\"str\\\")\\n\\nfor allele in spec_results.index:\\n    spec_results.loc[allele, \\\"mechano_pathways\\\"] = (\\n        allele.split(\\\"-\\\")[0] in curated_gene_sets\\n    )\\nspec_results[\\\"mechano_pathways\\\"] = np.array(spec_results.mechano_pathways).astype(str)\";\n",
       "                var nbb_formatted_code = \"spec_results[\\\"rohban_selected\\\"] = np.array(\\n    spec_results.index.isin(rohban_targets)\\n).astype(\\\"str\\\")\\n\\nfor allele in spec_results.index:\\n    spec_results.loc[allele, \\\"mechano_pathways\\\"] = (\\n        allele.split(\\\"-\\\")[0] in curated_gene_sets\\n    )\\nspec_results[\\\"mechano_pathways\\\"] = np.array(spec_results.mechano_pathways).astype(str)\";\n",
       "                var nbb_cells = Jupyter.notebook.get_cells();\n",
       "                for (var i = 0; i < nbb_cells.length; ++i) {\n",
       "                    if (nbb_cells[i].input_prompt_number == nbb_cell_id) {\n",
       "                        if (nbb_cells[i].get_text() == nbb_unformatted_code) {\n",
       "                             nbb_cells[i].set_text(nbb_formatted_code);\n",
       "                        }\n",
       "                        break;\n",
       "                    }\n",
       "                }\n",
       "            }, 500);\n",
       "            "
      ],
      "text/plain": [
       "<IPython.core.display.Javascript object>"
      ]
     },
     "metadata": {},
     "output_type": "display_data"
    }
   ],
   "source": [
    "spec_results[\"rohban_selected\"] = np.array(\n",
    "    spec_results.index.isin(rohban_targets)\n",
    ").astype(\"str\")\n",
    "\n",
    "for allele in spec_results.index:\n",
    "    spec_results.loc[allele, \"mechano_pathways\"] = (\n",
    "        allele.split(\"-\")[0] in curated_gene_sets\n",
    "    )\n",
    "spec_results[\"mechano_pathways\"] = np.array(spec_results.mechano_pathways).astype(str)"
   ]
  },
  {
   "cell_type": "code",
   "execution_count": 102,
   "id": "172b5293",
   "metadata": {},
   "outputs": [
    {
     "name": "stdout",
     "output_type": "stream",
     "text": [
      "False v.s. True: Mann-Whitney-Wilcoxon test smaller with Bonferroni correction, P_val=1.236e-10 U_stat=6.605e+03\n",
      "False v.s. True: Mann-Whitney-Wilcoxon test smaller with Bonferroni correction, P_val=2.397e-04 U_stat=9.900e+03\n"
     ]
    },
    {
     "data": {
      "image/png": "[encoded data removed]",
      "text/plain": [
       "<Figure size 864x288 with 2 Axes>"
      ]
     },
     "metadata": {
      "needs_background": "light"
     },
     "output_type": "display_data"
    },
    {
     "data": {
      "application/javascript": [
       "\n",
       "            setTimeout(function() {\n",
       "                var nbb_cell_id = 102;\n",
       "                var nbb_unformatted_code = \"fig, ax = plt.subplots(ncols=2, figsize=[12, 4])\\nax = ax.flatten()\\nax[0] = sns.boxplot(\\n    data=spec_results,\\n    y=\\\"spec_score\\\",\\n    x=\\\"rohban_selected\\\",\\n    ax=ax[0],\\n    order=[\\\"False\\\", \\\"True\\\"],\\n)\\nadd_stat_annotation(\\n    ax[0],\\n    data=spec_results,\\n    x=\\\"rohban_selected\\\",\\n    y=\\\"spec_score\\\",\\n    box_pairs=[(\\\"True\\\", \\\"False\\\")],\\n    test=\\\"Mann-Whitney-ls\\\",\\n    text_format=\\\"full\\\",\\n    loc=\\\"inside\\\",\\n    order=[\\\"False\\\", \\\"True\\\"],\\n)\\nax[1] = sns.boxplot(\\n    data=spec_results,\\n    y=\\\"spec_score\\\",\\n    x=\\\"mechano_pathways\\\",\\n    ax=ax[1],\\n    order=[\\\"False\\\", \\\"True\\\"],\\n)\\nadd_stat_annotation(\\n    ax[1],\\n    data=spec_results,\\n    x=\\\"mechano_pathways\\\",\\n    y=\\\"spec_score\\\",\\n    box_pairs=[(\\\"False\\\", \\\"True\\\")],\\n    test=\\\"Mann-Whitney-ls\\\",\\n    loc=\\\"inside\\\",\\n    text_format=\\\"full\\\",\\n    order=[\\\"False\\\", \\\"True\\\"],\\n)\\nfig.suptitle(\\\"Specificity score by target for different allele sets\\\")\\nplt.show()\";\n",
       "                var nbb_formatted_code = \"fig, ax = plt.subplots(ncols=2, figsize=[12, 4])\\nax = ax.flatten()\\nax[0] = sns.boxplot(\\n    data=spec_results,\\n    y=\\\"spec_score\\\",\\n    x=\\\"rohban_selected\\\",\\n    ax=ax[0],\\n    order=[\\\"False\\\", \\\"True\\\"],\\n)\\nadd_stat_annotation(\\n    ax[0],\\n    data=spec_results,\\n    x=\\\"rohban_selected\\\",\\n    y=\\\"spec_score\\\",\\n    box_pairs=[(\\\"True\\\", \\\"False\\\")],\\n    test=\\\"Mann-Whitney-ls\\\",\\n    text_format=\\\"full\\\",\\n    loc=\\\"inside\\\",\\n    order=[\\\"False\\\", \\\"True\\\"],\\n)\\nax[1] = sns.boxplot(\\n    data=spec_results,\\n    y=\\\"spec_score\\\",\\n    x=\\\"mechano_pathways\\\",\\n    ax=ax[1],\\n    order=[\\\"False\\\", \\\"True\\\"],\\n)\\nadd_stat_annotation(\\n    ax[1],\\n    data=spec_results,\\n    x=\\\"mechano_pathways\\\",\\n    y=\\\"spec_score\\\",\\n    box_pairs=[(\\\"False\\\", \\\"True\\\")],\\n    test=\\\"Mann-Whitney-ls\\\",\\n    loc=\\\"inside\\\",\\n    text_format=\\\"full\\\",\\n    order=[\\\"False\\\", \\\"True\\\"],\\n)\\nfig.suptitle(\\\"Specificity score by target for different allele sets\\\")\\nplt.show()\";\n",
       "                var nbb_cells = Jupyter.notebook.get_cells();\n",
       "                for (var i = 0; i < nbb_cells.length; ++i) {\n",
       "                    if (nbb_cells[i].input_prompt_number == nbb_cell_id) {\n",
       "                        if (nbb_cells[i].get_text() == nbb_unformatted_code) {\n",
       "                             nbb_cells[i].set_text(nbb_formatted_code);\n",
       "                        }\n",
       "                        break;\n",
       "                    }\n",
       "                }\n",
       "            }, 500);\n",
       "            "
      ],
      "text/plain": [
       "<IPython.core.display.Javascript object>"
      ]
     },
     "metadata": {},
     "output_type": "display_data"
    }
   ],
   "source": [
    "fig, ax = plt.subplots(ncols=2, figsize=[12, 4])\n",
    "ax = ax.flatten()\n",
    "ax[0] = sns.boxplot(\n",
    "    data=spec_results,\n",
    "    y=\"spec_score\",\n",
    "    x=\"rohban_selected\",\n",
    "    ax=ax[0],\n",
    "    order=[\"False\", \"True\"],\n",
    ")\n",
    "add_stat_annotation(\n",
    "    ax[0],\n",
    "    data=spec_results,\n",
    "    x=\"rohban_selected\",\n",
    "    y=\"spec_score\",\n",
    "    box_pairs=[(\"True\", \"False\")],\n",
    "    test=\"Mann-Whitney-ls\",\n",
    "    text_format=\"full\",\n",
    "    loc=\"inside\",\n",
    "    order=[\"False\", \"True\"],\n",
    ")\n",
    "ax[1] = sns.boxplot(\n",
    "    data=spec_results,\n",
    "    y=\"spec_score\",\n",
    "    x=\"mechano_pathways\",\n",
    "    ax=ax[1],\n",
    "    order=[\"False\", \"True\"],\n",
    ")\n",
    "add_stat_annotation(\n",
    "    ax[1],\n",
    "    data=spec_results,\n",
    "    x=\"mechano_pathways\",\n",
    "    y=\"spec_score\",\n",
    "    box_pairs=[(\"False\", \"True\")],\n",
    "    test=\"Mann-Whitney-ls\",\n",
    "    loc=\"inside\",\n",
    "    text_format=\"full\",\n",
    "    order=[\"False\", \"True\"],\n",
    ")\n",
    "fig.suptitle(\"Specificity score by target for different allele sets\")\n",
    "plt.show()"
   ]
  },
  {
   "cell_type": "markdown",
   "id": "4f1f144a",
   "metadata": {},
   "source": [
    "As seen above the specificity score is significantly higher for targets that are part of the mechano-transduction pathways and for the targets selected in Rohban et al. 2017."
   ]
  },
  {
   "cell_type": "markdown",
   "id": "f64c0f28",
   "metadata": {},
   "source": [
    "However, we will further assess the set of targets that Rohban selected and look at the respective specificity scores for those."
   ]
  },
  {
   "cell_type": "code",
   "execution_count": 103,
   "id": "e9b97011",
   "metadata": {},
   "outputs": [
    {
     "data": {
      "image/png": "[encoded data removed]",
      "text/plain": [
       "<Figure size 1440x288 with 1 Axes>"
      ]
     },
     "metadata": {
      "needs_background": "light"
     },
     "output_type": "display_data"
    },
    {
     "data": {
      "application/javascript": [
       "\n",
       "            setTimeout(function() {\n",
       "                var nbb_cell_id = 103;\n",
       "                var nbb_unformatted_code = \"spec_rohban = spec_results.loc[spec_results.rohban_selected == \\\"True\\\", :]\\n\\nax = spec_rohban.sort_values(\\\"spec_score\\\", ascending=False).spec_score.plot.bar(\\n    figsize=[20, 4], color=\\\"tab:orange\\\"\\n)\\nax.set_ylim([0.5, 1.05])\\nplt.show()\";\n",
       "                var nbb_formatted_code = \"spec_rohban = spec_results.loc[spec_results.rohban_selected == \\\"True\\\", :]\\n\\nax = spec_rohban.sort_values(\\\"spec_score\\\", ascending=False).spec_score.plot.bar(\\n    figsize=[20, 4], color=\\\"tab:orange\\\"\\n)\\nax.set_ylim([0.5, 1.05])\\nplt.show()\";\n",
       "                var nbb_cells = Jupyter.notebook.get_cells();\n",
       "                for (var i = 0; i < nbb_cells.length; ++i) {\n",
       "                    if (nbb_cells[i].input_prompt_number == nbb_cell_id) {\n",
       "                        if (nbb_cells[i].get_text() == nbb_unformatted_code) {\n",
       "                             nbb_cells[i].set_text(nbb_formatted_code);\n",
       "                        }\n",
       "                        break;\n",
       "                    }\n",
       "                }\n",
       "            }, 500);\n",
       "            "
      ],
      "text/plain": [
       "<IPython.core.display.Javascript object>"
      ]
     },
     "metadata": {},
     "output_type": "display_data"
    }
   ],
   "source": [
    "spec_rohban = spec_results.loc[spec_results.rohban_selected == \"True\", :]\n",
    "\n",
    "ax = spec_rohban.sort_values(\"spec_score\", ascending=False).spec_score.plot.bar(\n",
    "    figsize=[20, 4], color=\"tab:orange\"\n",
    ")\n",
    "ax.set_ylim([0.5, 1.05])\n",
    "plt.show()"
   ]
  },
  {
   "cell_type": "code",
   "execution_count": 104,
   "id": "279bbbed",
   "metadata": {},
   "outputs": [
    {
     "data": {
      "image/png": "[encoded data removed]",
      "text/plain": [
       "<Figure size 576x432 with 1 Axes>"
      ]
     },
     "metadata": {
      "needs_background": "light"
     },
     "output_type": "display_data"
    },
    {
     "data": {
      "application/javascript": [
       "\n",
       "            setTimeout(function() {\n",
       "                var nbb_cell_id = 104;\n",
       "                var nbb_unformatted_code = \"fig, ax = plt.subplots(figsize=[8, 6])\\n\\n\\nspec_scores_rohban = np.array(\\n    spec_rohban.sort_values(\\\"min_val_test_acc\\\", ascending=False).spec_score\\n)\\nidx = np.array(list(range(len(spec_scores_rohban))))\\n\\nplt.plot(idx, spec_scores_rohban)\\nplt.title(\\\"Specificity scores of Rohban's ORF targets\\\")\\nplt.xticks(np.arange(0, len(spec_scores_rohban) + 5, 10))\\nplt.yticks(np.arange(50, 105, 5) / 100)\\nplt.ylabel(\\\"Specificity score\\\")\\nplt.show()\";\n",
       "                var nbb_formatted_code = \"fig, ax = plt.subplots(figsize=[8, 6])\\n\\n\\nspec_scores_rohban = np.array(\\n    spec_rohban.sort_values(\\\"min_val_test_acc\\\", ascending=False).spec_score\\n)\\nidx = np.array(list(range(len(spec_scores_rohban))))\\n\\nplt.plot(idx, spec_scores_rohban)\\nplt.title(\\\"Specificity scores of Rohban's ORF targets\\\")\\nplt.xticks(np.arange(0, len(spec_scores_rohban) + 5, 10))\\nplt.yticks(np.arange(50, 105, 5) / 100)\\nplt.ylabel(\\\"Specificity score\\\")\\nplt.show()\";\n",
       "                var nbb_cells = Jupyter.notebook.get_cells();\n",
       "                for (var i = 0; i < nbb_cells.length; ++i) {\n",
       "                    if (nbb_cells[i].input_prompt_number == nbb_cell_id) {\n",
       "                        if (nbb_cells[i].get_text() == nbb_unformatted_code) {\n",
       "                             nbb_cells[i].set_text(nbb_formatted_code);\n",
       "                        }\n",
       "                        break;\n",
       "                    }\n",
       "                }\n",
       "            }, 500);\n",
       "            "
      ],
      "text/plain": [
       "<IPython.core.display.Javascript object>"
      ]
     },
     "metadata": {},
     "output_type": "display_data"
    }
   ],
   "source": [
    "fig, ax = plt.subplots(figsize=[8, 6])\n",
    "\n",
    "\n",
    "spec_scores_rohban = np.array(\n",
    "    spec_rohban.sort_values(\"min_val_test_acc\", ascending=False).spec_score\n",
    ")\n",
    "idx = np.array(list(range(len(spec_scores_rohban))))\n",
    "\n",
    "plt.plot(idx, spec_scores_rohban)\n",
    "plt.title(\"Specificity scores of Rohban's ORF targets\")\n",
    "plt.xticks(np.arange(0, len(spec_scores_rohban) + 5, 10))\n",
    "plt.yticks(np.arange(50, 105, 5) / 100)\n",
    "plt.ylabel(\"Specificity score\")\n",
    "plt.show()"
   ]
  },
  {
   "cell_type": "markdown",
   "id": "c7f2d5f2",
   "metadata": {},
   "source": [
    "We see that for most of the ORF targets we obtain relatively high specificity scores as e.g. 85/110 (77.98%) of the OE conditions yield a specificity score of above 0.6. However, there are also a few targets that do not yield high specifity scores. This can be explained that in the study by Rohban et al. not only the DNA images but also fluorescent images of the same cells providing information regarding e.g. the mitochondria, the cell membrane or the Golgi were used. In the publication the fact that features computed from those channels are the most important ones for one chosen cluster suggest that this might be the explanation why e.g. we do not see any significant change in the nuclear geometry or chromatin organization when looking at e.g. DDIT4 overexpression of the wildtype allele 1."
   ]
  },
  {
   "cell_type": "code",
   "execution_count": 105,
   "id": "50601f71",
   "metadata": {},
   "outputs": [
    {
     "data": {
      "text/plain": [
       "85"
      ]
     },
     "execution_count": 105,
     "metadata": {},
     "output_type": "execute_result"
    },
    {
     "data": {
      "application/javascript": [
       "\n",
       "            setTimeout(function() {\n",
       "                var nbb_cell_id = 105;\n",
       "                var nbb_unformatted_code = \"np.sum(spec_rohban.spec_score >= 0.6)\";\n",
       "                var nbb_formatted_code = \"np.sum(spec_rohban.spec_score >= 0.6)\";\n",
       "                var nbb_cells = Jupyter.notebook.get_cells();\n",
       "                for (var i = 0; i < nbb_cells.length; ++i) {\n",
       "                    if (nbb_cells[i].input_prompt_number == nbb_cell_id) {\n",
       "                        if (nbb_cells[i].get_text() == nbb_unformatted_code) {\n",
       "                             nbb_cells[i].set_text(nbb_formatted_code);\n",
       "                        }\n",
       "                        break;\n",
       "                    }\n",
       "                }\n",
       "            }, 500);\n",
       "            "
      ],
      "text/plain": [
       "<IPython.core.display.Javascript object>"
      ]
     },
     "metadata": {},
     "output_type": "display_data"
    }
   ],
   "source": [
    "np.sum(spec_rohban.spec_score >= 0.6)"
   ]
  },
  {
   "cell_type": "code",
   "execution_count": null,
   "id": "523e7b46",
   "metadata": {},
   "outputs": [],
   "source": []
  }
 ],
 "metadata": {
  "kernelspec": {
   "display_name": "Python 3",
   "language": "python",
   "name": "python3"
  },
  "language_info": {
   "codemirror_mode": {
    "name": "ipython",
    "version": 3
   },
   "file_extension": ".py",
   "mimetype": "text/x-python",
   "name": "python",
   "nbconvert_exporter": "python",
   "pygments_lexer": "ipython3",
   "version": "3.8.10"
  }
 },
 "nbformat": 4,
 "nbformat_minor": 5
}
