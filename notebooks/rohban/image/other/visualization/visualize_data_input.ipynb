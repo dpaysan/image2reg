{
 "cells": [
  {
   "cell_type": "code",
   "execution_count": 6,
   "id": "5d40da36",
   "metadata": {},
   "outputs": [],
   "source": [
    "import matplotlib.pyplot as plt\n",
    "from tifffile import imread, imwrite\n",
    "import sys\n",
    "import pandas as pd\n",
    "import numpy as np\n",
    "\n",
    "sys.path.append(\"../../..\")\n",
    "\n",
    "from src.data.datasets import TorchMultiImageSlideDataset\n",
    "from src.utils.torch.transforms import (\n",
    "    ToRGBTensor,\n",
    "    CustomCenteredCrop,\n",
    "    CustomResize,\n",
    "    CustomRandomHorizontalFlip,\n",
    "    CustomRandomVerticalFlip,\n",
    "    CustomCompose,\n",
    "    CustomNormalize,\n",
    "    CustomBinarize\n",
    ")\n",
    "from torchvision import transforms"
   ]
  },
  {
   "cell_type": "code",
   "execution_count": 30,
   "id": "304e58bf",
   "metadata": {},
   "outputs": [
    {
     "name": "stderr",
     "output_type": "stream",
     "text": [
      "<ipython-input-30-166d29fabfcf>:1: DtypeWarning: Columns (11) have mixed types. Specify dtype option on import or set low_memory=False.\n",
      "  md = pd.read_csv(\"/home/paysan_d/PycharmProjects/image2reg/data/experiments/image_preprocessing/rohban/specific_targets_cv_stratified/nuclei_md_test_fold_0.csv\", index_col=0)\n"
     ]
    }
   ],
   "source": [
    "md = pd.read_csv(\"/home/paysan_d/PycharmProjects/image2reg/data/experiments/image_preprocessing/rohban/specific_targets_cv_stratified/nuclei_md_test_fold_0.csv\", index_col=0)"
   ]
  },
  {
   "cell_type": "code",
   "execution_count": 4,
   "id": "bc7c5623",
   "metadata": {},
   "outputs": [],
   "source": [
    "md = md.loc[md.gene_symbol == \"EMPTY\"]"
   ]
  },
  {
   "cell_type": "code",
   "execution_count": 39,
   "id": "daad9f6f",
   "metadata": {},
   "outputs": [
    {
     "data": {
      "text/plain": [
       "toxicity\n",
       "PotentiallyToxic                      [CEBPA, CXXC4, ERG, JUN]\n",
       "Toxic               [ATF4, BCL2L11, CASP8, ELK1, PRKACA, RHOA]\n",
       "Name: gene_symbol, dtype: object"
      ]
     },
     "execution_count": 39,
     "metadata": {},
     "output_type": "execute_result"
    }
   ],
   "source": [
    "md.groupby(\"toxicity\").gene_symbol.unique()"
   ]
  },
  {
   "cell_type": "code",
   "execution_count": 26,
   "id": "193e47bf",
   "metadata": {},
   "outputs": [
    {
     "data": {
      "text/plain": [
       "array(['l04', 'j13', 'l09', 'l18', 'k08', 'j02', 'm11', 'o22', 'p22',\n",
       "       'o23', 'p23', 'p24', 'l17', 'o01', 'o24', 'p21', 'o21', 'h07',\n",
       "       'm16', 'h19', 'a01', 'a02', 'b01', 'b02', 'b14', 'c03', 'c14',\n",
       "       'd08', 'e12', 'e16', 'e17', 'f13', 'g15', 'i06', 'i23'],\n",
       "      dtype=object)"
      ]
     },
     "execution_count": 26,
     "metadata": {},
     "output_type": "execute_result"
    }
   ],
   "source": [
    "md.loc[md.plate==41744].well.unique()"
   ]
  },
  {
   "cell_type": "code",
   "execution_count": 5,
   "id": "30c59d40",
   "metadata": {},
   "outputs": [],
   "source": [
    "#md = md.loc[md.slide_image_name.isin([\"taoe005-u2os-72h-cp-a-au00044858_a02_s5_w18fd55173-4238-452c-b231-5a4560c30084_illum_corrected.tif\", \"taoe005-u2os-72h-cp-a-au00044858_m10_s3_w1cad3a0c5-b3ea-464f-9cc2-ac58c5174c58_illum_corrected.tif\", \"taoe005-u2os-72h-cp-a-au00044858_f21_s6_w11f14aa4e-b82b-477d-8701-b87286b889f2_illum_corrected.tif\", \"taoe005-u2os-72h-cp-a-au00044858_b16_s5_w1e7749bb3-671e-4a9c-8d6b-875926c8f349_illum_corrected.tif\"])]\n",
    "md.to_csv(\"/home/paysan_d/Desktop/filtered_md_data_visualization2.csv\")"
   ]
  },
  {
   "cell_type": "code",
   "execution_count": 16,
   "id": "986db0e8",
   "metadata": {},
   "outputs": [],
   "source": [
    "dataset = TorchMultiImageSlideDataset(nuclei_image_dir=\"../../../data/experiments/image_preprocessing/rohban/full_pipeline/padded_nuclei\", nuclei_metadata_file= \"/home/paysan_d/Desktop/filtered_md_data_visualization2.csv\", slide_image_dir = \"../../../data/experiments/image_preprocessing/rohban/unet_segmentation/\", pseudo_rgb=True)"
   ]
  },
  {
   "cell_type": "code",
   "execution_count": 20,
   "id": "a5da898a",
   "metadata": {},
   "outputs": [],
   "source": [
    "nuc_transforms =  transforms.Compose([#CustomBinarize(),\n",
    "                                      transforms.Resize(224)])\n",
    "slide_transforms = CustomCompose([CustomBinarize(), CustomCenteredCrop(448),CustomResize(224)])"
   ]
  },
  {
   "cell_type": "code",
   "execution_count": 22,
   "id": "5aa1bc82",
   "metadata": {},
   "outputs": [],
   "source": [
    "dataset.set_transform_pipeline([nuc_transforms, slide_transforms])"
   ]
  },
  {
   "cell_type": "code",
   "execution_count": 23,
   "id": "22e20114",
   "metadata": {},
   "outputs": [],
   "source": [
    "import os\n",
    "import tifffile\n",
    "output_dir = \"/home/paysan_d/Desktop/images_data/nuc_bin_region\"\n",
    "os.makedirs(output_dir, exist_ok=True)\n",
    "for i in range(100):\n",
    "    sample = dataset[i]\n",
    "    ids = sample[\"image_file\"]\n",
    "    nuc_img = sample[\"nuclei_image\"]\n",
    "    slide_img = sample[\"slide_image\"]\n",
    "    os.makedirs(os.path.join(output_dir, \"slide\"), exist_ok=True)\n",
    "    os.makedirs(os.path.join(output_dir, \"nuc\"),exist_ok=True)\n",
    "    tifffile.imwrite( os.path.join(output_dir,\"nuc\", ids), np.array(nuc_img))\n",
    "    tifffile.imwrite( os.path.join(output_dir,\"slide\", ids), np.array(slide_img))"
   ]
  },
  {
   "cell_type": "code",
   "execution_count": null,
   "id": "c30c2a0a",
   "metadata": {},
   "outputs": [],
   "source": []
  }
 ],
 "metadata": {
  "kernelspec": {
   "display_name": "Python 3",
   "language": "python",
   "name": "python3"
  },
  "language_info": {
   "codemirror_mode": {
    "name": "ipython",
    "version": 3
   },
   "file_extension": ".py",
   "mimetype": "text/x-python",
   "name": "python",
   "nbconvert_exporter": "python",
   "pygments_lexer": "ipython3",
   "version": "3.8.10"
  },
  "toc": {
   "base_numbering": 1,
   "nav_menu": {},
   "number_sections": true,
   "sideBar": true,
   "skip_h1_title": false,
   "title_cell": "Table of Contents",
   "title_sidebar": "Contents",
   "toc_cell": false,
   "toc_position": {},
   "toc_section_display": true,
   "toc_window_display": false
  }
 },
 "nbformat": 4,
 "nbformat_minor": 5
}
