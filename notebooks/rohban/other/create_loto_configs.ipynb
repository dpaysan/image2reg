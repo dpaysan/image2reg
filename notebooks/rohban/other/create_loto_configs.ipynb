{
 "cells": [
  {
   "cell_type": "markdown",
   "id": "af6e90b7",
   "metadata": {},
   "source": [
    "## Create screen config file\n",
    "\n",
    "This notebook allows to easily generate config files for a specificity screen given a list of targets for the screen."
   ]
  },
  {
   "cell_type": "code",
   "execution_count": 3,
   "id": "30088d4a",
   "metadata": {},
   "outputs": [],
   "source": [
    "import os\n",
    "import pandas as pd\n",
    "import numpy as np"
   ]
  },
  {
   "cell_type": "markdown",
   "id": "e5a5b8ab",
   "metadata": {},
   "source": [
    "#### Read in target list"
   ]
  },
  {
   "cell_type": "code",
   "execution_count": 4,
   "id": "916726a0",
   "metadata": {},
   "outputs": [],
   "source": [
    "targets = sorted(os.listdir(\"../../../data/experiments/rohban/images/preprocessing/loto_cv_stratified\"))"
   ]
  },
  {
   "cell_type": "markdown",
   "id": "33d0109b",
   "metadata": {},
   "source": [
    "---\n",
    "\n",
    "#### Create config files"
   ]
  },
  {
   "cell_type": "code",
   "execution_count": 7,
   "id": "8b060651",
   "metadata": {},
   "outputs": [],
   "source": [
    "template_file = \"../../../config/image_embedding/specific_targets/loto/train_resnet/train_resnet_loto_template.yml\""
   ]
  },
  {
   "cell_type": "code",
   "execution_count": 8,
   "id": "119e4d5f",
   "metadata": {},
   "outputs": [],
   "source": [
    "output_dir = \"../../../config/image_embedding/specific_targets/loto/train_resnet/new\"\n",
    "os.makedirs(output_dir, exist_ok=True)\n",
    "for target in targets:\n",
    "    with open(template_file, \"r\") as file:\n",
    "        filedata = file.read()\n",
    "    filedata = filedata.replace(\"GENE\", target)\n",
    "    with open(os.path.join(output_dir, target+\".yml\"), \"w\") as file:\n",
    "        file.write(filedata)"
   ]
  },
  {
   "cell_type": "markdown",
   "id": "cbbd175c",
   "metadata": {},
   "source": [
    "----\n"
   ]
  },
  {
   "cell_type": "code",
   "execution_count": 47,
   "id": "31ab5e40",
   "metadata": {},
   "outputs": [],
   "source": [
    "template_file = \"../../config/image_embedding/specific_targets/loto/analyze_loto_exp/extract_loto_latents_template.yml\""
   ]
  },
  {
   "cell_type": "code",
   "execution_count": 48,
   "id": "249f5a87",
   "metadata": {},
   "outputs": [],
   "source": [
    "targets = sorted(os.listdir(\"../../data/experiments/image_embeddings/specificity_target_emb_loto/complete\"))"
   ]
  },
  {
   "cell_type": "code",
   "execution_count": 49,
   "id": "eb84638c",
   "metadata": {},
   "outputs": [],
   "source": [
    "output_dir = \"../../config/image_embedding/specific_targets/loto/analyze_loto_exp/extract_loto_latents/todo\"\n",
    "os.makedirs(output_dir, exist_ok=True)\n",
    "for target in targets:\n",
    "    with open(template_file, \"r\") as file:\n",
    "        filedata = file.read()\n",
    "    filedata = filedata.replace(\"GENE\", target)\n",
    "    with open(os.path.join(output_dir, target+\".yml\"), \"w\") as file:\n",
    "        file.write(filedata)"
   ]
  },
  {
   "cell_type": "markdown",
   "id": "b927ad6f",
   "metadata": {},
   "source": [
    "---"
   ]
  },
  {
   "cell_type": "code",
   "execution_count": 13,
   "id": "cd36b917",
   "metadata": {},
   "outputs": [],
   "source": [
    "template_file = \"../../config/image_embedding/specific_targets/loto/analyze_loto_exp/resnet_analyses_template.yml\""
   ]
  },
  {
   "cell_type": "code",
   "execution_count": 14,
   "id": "39cf1669",
   "metadata": {},
   "outputs": [],
   "source": [
    "targets=[\"CDC42\", \"MAP3K9\", \"MAPK7\", \"MOS\", \"MYD88\"]"
   ]
  },
  {
   "cell_type": "code",
   "execution_count": 15,
   "id": "757cf2b1",
   "metadata": {},
   "outputs": [],
   "source": [
    "output_dir = \"../../config/image_embedding/specific_targets/loto/analyze_loto_exp/resnet_analyses\"\n",
    "os.makedirs(output_dir, exist_ok=True)\n",
    "for target in targets:\n",
    "    with open(template_file, \"r\") as file:\n",
    "        filedata = file.read()\n",
    "    filedata = filedata.replace(\"GENE\", target)\n",
    "    with open(os.path.join(output_dir, target+\".yml\"), \"w\") as file:\n",
    "        file.write(filedata)"
   ]
  },
  {
   "cell_type": "code",
   "execution_count": null,
   "id": "38acf44e",
   "metadata": {},
   "outputs": [],
   "source": []
  }
 ],
 "metadata": {
  "kernelspec": {
   "display_name": "Python 3",
   "language": "python",
   "name": "python3"
  },
  "language_info": {
   "codemirror_mode": {
    "name": "ipython",
    "version": 3
   },
   "file_extension": ".py",
   "mimetype": "text/x-python",
   "name": "python",
   "nbconvert_exporter": "python",
   "pygments_lexer": "ipython3",
   "version": "3.8.10"
  },
  "toc": {
   "base_numbering": 1,
   "nav_menu": {},
   "number_sections": true,
   "sideBar": true,
   "skip_h1_title": false,
   "title_cell": "Table of Contents",
   "title_sidebar": "Contents",
   "toc_cell": false,
   "toc_position": {},
   "toc_section_display": true,
   "toc_window_display": false
  }
 },
 "nbformat": 4,
 "nbformat_minor": 5
}
