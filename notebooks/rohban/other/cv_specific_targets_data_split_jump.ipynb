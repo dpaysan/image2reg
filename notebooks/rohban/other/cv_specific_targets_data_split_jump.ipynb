{
 "cells": [
  {
   "cell_type": "markdown",
   "id": "4ee533fa",
   "metadata": {},
   "source": [
    "# Data split for the 4-fold CV\n",
    "\n",
    "---\n",
    "\n",
    "This notebook can be used to generate data splits for the screening data to allow for parallel computing of the screens.\n",
    "\n",
    "---"
   ]
  },
  {
   "cell_type": "markdown",
   "id": "20f2592e",
   "metadata": {},
   "source": [
    "## 0. Environmental setup"
   ]
  },
  {
   "cell_type": "code",
   "execution_count": 1,
   "id": "cc24984d",
   "metadata": {},
   "outputs": [
    {
     "data": {
      "application/javascript": [
       "\n",
       "            setTimeout(function() {\n",
       "                var nbb_cell_id = 1;\n",
       "                var nbb_unformatted_code = \"import pandas as pd\\nimport numpy as np\\nfrom sklearn.model_selection import StratifiedGroupKFold, GroupShuffleSplit\\nimport os\\nfrom imblearn.under_sampling import RandomUnderSampler\\nfrom tqdm import tqdm\\nfrom collections import Counter\\n\\n%load_ext nb_black\";\n",
       "                var nbb_formatted_code = \"import pandas as pd\\nimport numpy as np\\nfrom sklearn.model_selection import StratifiedGroupKFold, GroupShuffleSplit\\nimport os\\nfrom imblearn.under_sampling import RandomUnderSampler\\nfrom tqdm import tqdm\\nfrom collections import Counter\\n\\n%load_ext nb_black\";\n",
       "                var nbb_cells = Jupyter.notebook.get_cells();\n",
       "                for (var i = 0; i < nbb_cells.length; ++i) {\n",
       "                    if (nbb_cells[i].input_prompt_number == nbb_cell_id) {\n",
       "                        if (nbb_cells[i].get_text() == nbb_unformatted_code) {\n",
       "                             nbb_cells[i].set_text(nbb_formatted_code);\n",
       "                        }\n",
       "                        break;\n",
       "                    }\n",
       "                }\n",
       "            }, 500);\n",
       "            "
      ],
      "text/plain": [
       "<IPython.core.display.Javascript object>"
      ]
     },
     "metadata": {},
     "output_type": "display_data"
    }
   ],
   "source": [
    "import pandas as pd\n",
    "import numpy as np\n",
    "from sklearn.model_selection import StratifiedGroupKFold, GroupShuffleSplit\n",
    "import os\n",
    "from imblearn.under_sampling import RandomUnderSampler\n",
    "from tqdm import tqdm\n",
    "from collections import Counter\n",
    "\n",
    "%load_ext nb_black"
   ]
  },
  {
   "cell_type": "code",
   "execution_count": 2,
   "id": "bf666810",
   "metadata": {},
   "outputs": [
    {
     "data": {
      "application/javascript": [
       "\n",
       "            setTimeout(function() {\n",
       "                var nbb_cell_id = 2;\n",
       "                var nbb_unformatted_code = \"def get_data_splits_for_label(\\n    data,\\n    label_col,\\n    target_list,\\n    n_folds,\\n    group_col,\\n    random_state=1234,\\n    val_size=0.2,\\n    sample_limit=None,\\n):\\n\\n    # Subsample the data\\n    label_data = data.loc[data.loc[:, label_col].isin(target_list), :]\\n    if \\\"EMPTY\\\" in target_list:\\n        idc = np.array(list(range(len(label_data)))).reshape(-1, 1)\\n        labels = label_data.loc[:, label_col]\\n        sample_count_dict = dict(Counter(labels))\\n        sample_count_dict[\\\"EMPTY\\\"] = 0\\n        if sample_limit is not None:\\n            for k, v in sample_count_dict.items():\\n                sample_count_dict[k] = min(v, sample_limit)\\n        sample_count_dict[\\\"EMPTY\\\"] = np.max(list(sample_count_dict.values()))\\n        print(sample_count_dict)\\n        idc, _ = RandomUnderSampler(\\n            sampling_strategy=sample_count_dict, random_state=random_state\\n        ).fit_resample(idc, labels)\\n        label_data = label_data.iloc[idc.flatten(), :]\\n\\n    # Split in folds\\n    features = np.array(list(range(len(label_data)))).reshape(-1, 1)\\n    labels = np.array(label_data.loc[:, label_col])\\n    groups = np.array(label_data.loc[:, group_col])\\n\\n    fold_data = {\\\"train\\\": [], \\\"val\\\": [], \\\"test\\\": []}\\n    group_kfold = StratifiedGroupKFold(n_splits=n_folds)\\n    for train_index, test_index in group_kfold.split(features, labels, groups=groups):\\n\\n        train_val_fold_data = label_data.iloc[train_index]\\n        train_val_fold_labels = labels[train_index]\\n        train_val_fold_groups = groups[train_index]\\n\\n        train_index, val_index = next(\\n            StratifiedGroupKFold(n_splits=int(1.0 / val_size)).split(\\n                train_val_fold_data, train_val_fold_labels, groups=train_val_fold_groups\\n            )\\n        )\\n        train_fold_data = train_val_fold_data.iloc[train_index]\\n        val_fold_data = train_val_fold_data.iloc[val_index]\\n\\n        test_fold_data = label_data.iloc[test_index]\\n\\n        fold_data[\\\"train\\\"].append(train_fold_data)\\n        fold_data[\\\"val\\\"].append(val_fold_data)\\n        fold_data[\\\"test\\\"].append(test_fold_data)\\n\\n    return fold_data\";\n",
       "                var nbb_formatted_code = \"def get_data_splits_for_label(\\n    data,\\n    label_col,\\n    target_list,\\n    n_folds,\\n    group_col,\\n    random_state=1234,\\n    val_size=0.2,\\n    sample_limit=None,\\n):\\n\\n    # Subsample the data\\n    label_data = data.loc[data.loc[:, label_col].isin(target_list), :]\\n    if \\\"EMPTY\\\" in target_list:\\n        idc = np.array(list(range(len(label_data)))).reshape(-1, 1)\\n        labels = label_data.loc[:, label_col]\\n        sample_count_dict = dict(Counter(labels))\\n        sample_count_dict[\\\"EMPTY\\\"] = 0\\n        if sample_limit is not None:\\n            for k, v in sample_count_dict.items():\\n                sample_count_dict[k] = min(v, sample_limit)\\n        sample_count_dict[\\\"EMPTY\\\"] = np.max(list(sample_count_dict.values()))\\n        print(sample_count_dict)\\n        idc, _ = RandomUnderSampler(\\n            sampling_strategy=sample_count_dict, random_state=random_state\\n        ).fit_resample(idc, labels)\\n        label_data = label_data.iloc[idc.flatten(), :]\\n\\n    # Split in folds\\n    features = np.array(list(range(len(label_data)))).reshape(-1, 1)\\n    labels = np.array(label_data.loc[:, label_col])\\n    groups = np.array(label_data.loc[:, group_col])\\n\\n    fold_data = {\\\"train\\\": [], \\\"val\\\": [], \\\"test\\\": []}\\n    group_kfold = StratifiedGroupKFold(n_splits=n_folds)\\n    for train_index, test_index in group_kfold.split(features, labels, groups=groups):\\n\\n        train_val_fold_data = label_data.iloc[train_index]\\n        train_val_fold_labels = labels[train_index]\\n        train_val_fold_groups = groups[train_index]\\n\\n        train_index, val_index = next(\\n            StratifiedGroupKFold(n_splits=int(1.0 / val_size)).split(\\n                train_val_fold_data, train_val_fold_labels, groups=train_val_fold_groups\\n            )\\n        )\\n        train_fold_data = train_val_fold_data.iloc[train_index]\\n        val_fold_data = train_val_fold_data.iloc[val_index]\\n\\n        test_fold_data = label_data.iloc[test_index]\\n\\n        fold_data[\\\"train\\\"].append(train_fold_data)\\n        fold_data[\\\"val\\\"].append(val_fold_data)\\n        fold_data[\\\"test\\\"].append(test_fold_data)\\n\\n    return fold_data\";\n",
       "                var nbb_cells = Jupyter.notebook.get_cells();\n",
       "                for (var i = 0; i < nbb_cells.length; ++i) {\n",
       "                    if (nbb_cells[i].input_prompt_number == nbb_cell_id) {\n",
       "                        if (nbb_cells[i].get_text() == nbb_unformatted_code) {\n",
       "                             nbb_cells[i].set_text(nbb_formatted_code);\n",
       "                        }\n",
       "                        break;\n",
       "                    }\n",
       "                }\n",
       "            }, 500);\n",
       "            "
      ],
      "text/plain": [
       "<IPython.core.display.Javascript object>"
      ]
     },
     "metadata": {},
     "output_type": "display_data"
    }
   ],
   "source": [
    "def get_data_splits_for_label(\n",
    "    data,\n",
    "    label_col,\n",
    "    target_list,\n",
    "    n_folds,\n",
    "    group_col,\n",
    "    random_state=1234,\n",
    "    val_size=0.2,\n",
    "    sample_limit=None,\n",
    "):\n",
    "\n",
    "    # Subsample the data\n",
    "    label_data = data.loc[data.loc[:, label_col].isin(target_list), :]\n",
    "    if \"EMPTY\" in target_list:\n",
    "        idc = np.array(list(range(len(label_data)))).reshape(-1, 1)\n",
    "        labels = label_data.loc[:, label_col]\n",
    "        sample_count_dict = dict(Counter(labels))\n",
    "        sample_count_dict[\"EMPTY\"] = 0\n",
    "        if sample_limit is not None:\n",
    "            for k, v in sample_count_dict.items():\n",
    "                sample_count_dict[k] = min(v, sample_limit)\n",
    "        sample_count_dict[\"EMPTY\"] = np.max(list(sample_count_dict.values()))\n",
    "        print(sample_count_dict)\n",
    "        idc, _ = RandomUnderSampler(\n",
    "            sampling_strategy=sample_count_dict, random_state=random_state\n",
    "        ).fit_resample(idc, labels)\n",
    "        label_data = label_data.iloc[idc.flatten(), :]\n",
    "\n",
    "    # Split in folds\n",
    "    features = np.array(list(range(len(label_data)))).reshape(-1, 1)\n",
    "    labels = np.array(label_data.loc[:, label_col])\n",
    "    groups = np.array(label_data.loc[:, group_col])\n",
    "\n",
    "    fold_data = {\"train\": [], \"val\": [], \"test\": []}\n",
    "    group_kfold = StratifiedGroupKFold(n_splits=n_folds)\n",
    "    for train_index, test_index in group_kfold.split(features, labels, groups=groups):\n",
    "\n",
    "        train_val_fold_data = label_data.iloc[train_index]\n",
    "        train_val_fold_labels = labels[train_index]\n",
    "        train_val_fold_groups = groups[train_index]\n",
    "\n",
    "        train_index, val_index = next(\n",
    "            StratifiedGroupKFold(n_splits=int(1.0 / val_size)).split(\n",
    "                train_val_fold_data, train_val_fold_labels, groups=train_val_fold_groups\n",
    "            )\n",
    "        )\n",
    "        train_fold_data = train_val_fold_data.iloc[train_index]\n",
    "        val_fold_data = train_val_fold_data.iloc[val_index]\n",
    "\n",
    "        test_fold_data = label_data.iloc[test_index]\n",
    "\n",
    "        fold_data[\"train\"].append(train_fold_data)\n",
    "        fold_data[\"val\"].append(val_fold_data)\n",
    "        fold_data[\"test\"].append(test_fold_data)\n",
    "\n",
    "    return fold_data"
   ]
  },
  {
   "cell_type": "markdown",
   "id": "982ef064",
   "metadata": {},
   "source": [
    "---\n",
    "## 1. Read in data\n",
    "\n",
    "To start we will read in the whole metadata set."
   ]
  },
  {
   "cell_type": "code",
   "execution_count": 23,
   "id": "2b0ae6ed",
   "metadata": {},
   "outputs": [
    {
     "data": {
      "text/html": [
       "<div>\n",
       "<style scoped>\n",
       "    .dataframe tbody tr th:only-of-type {\n",
       "        vertical-align: middle;\n",
       "    }\n",
       "\n",
       "    .dataframe tbody tr th {\n",
       "        vertical-align: top;\n",
       "    }\n",
       "\n",
       "    .dataframe thead th {\n",
       "        text-align: right;\n",
       "    }\n",
       "</style>\n",
       "<table border=\"1\" class=\"dataframe\">\n",
       "  <thead>\n",
       "    <tr style=\"text-align: right;\">\n",
       "      <th></th>\n",
       "      <th>source</th>\n",
       "      <th>batch</th>\n",
       "      <th>plate</th>\n",
       "      <th>well</th>\n",
       "      <th>site</th>\n",
       "      <th>image_file</th>\n",
       "      <th>gene_symbol</th>\n",
       "      <th>bb_width</th>\n",
       "      <th>bb_height</th>\n",
       "      <th>minor_axis_length</th>\n",
       "      <th>major_axis_length</th>\n",
       "      <th>aspect_ratio</th>\n",
       "      <th>aspect_ratio_cluster</th>\n",
       "      <th>nuclei_count_image</th>\n",
       "      <th>slide_image_name</th>\n",
       "      <th>aspect_ratio_cluster_ratio</th>\n",
       "      <th>centroid_0</th>\n",
       "      <th>centroid_1</th>\n",
       "    </tr>\n",
       "  </thead>\n",
       "  <tbody>\n",
       "    <tr>\n",
       "      <th>0</th>\n",
       "      <td>source_4</td>\n",
       "      <td>2021_04_26_Batch1</td>\n",
       "      <td>BR00117037</td>\n",
       "      <td>H23</td>\n",
       "      <td>1</td>\n",
       "      <td>source_4_2021_04_26_Batch1_BR00117037_H23_1_CL...</td>\n",
       "      <td>CLSPN</td>\n",
       "      <td>47</td>\n",
       "      <td>23</td>\n",
       "      <td>21.925599</td>\n",
       "      <td>49.968617</td>\n",
       "      <td>0.438787</td>\n",
       "      <td>0</td>\n",
       "      <td>69</td>\n",
       "      <td>source_4_2021_04_26_Batch1_BR00117037_H23_1_CL...</td>\n",
       "      <td>0.550725</td>\n",
       "      <td>39.171765</td>\n",
       "      <td>159.556471</td>\n",
       "    </tr>\n",
       "    <tr>\n",
       "      <th>1</th>\n",
       "      <td>source_4</td>\n",
       "      <td>2021_04_26_Batch1</td>\n",
       "      <td>BR00117037</td>\n",
       "      <td>H23</td>\n",
       "      <td>1</td>\n",
       "      <td>source_4_2021_04_26_Batch1_BR00117037_H23_1_CL...</td>\n",
       "      <td>CLSPN</td>\n",
       "      <td>44</td>\n",
       "      <td>36</td>\n",
       "      <td>33.116876</td>\n",
       "      <td>45.945014</td>\n",
       "      <td>0.720794</td>\n",
       "      <td>1</td>\n",
       "      <td>69</td>\n",
       "      <td>source_4_2021_04_26_Batch1_BR00117037_H23_1_CL...</td>\n",
       "      <td>0.550725</td>\n",
       "      <td>134.533390</td>\n",
       "      <td>439.564666</td>\n",
       "    </tr>\n",
       "    <tr>\n",
       "      <th>2</th>\n",
       "      <td>source_4</td>\n",
       "      <td>2021_04_26_Batch1</td>\n",
       "      <td>BR00117037</td>\n",
       "      <td>H23</td>\n",
       "      <td>1</td>\n",
       "      <td>source_4_2021_04_26_Batch1_BR00117037_H23_1_CL...</td>\n",
       "      <td>CLSPN</td>\n",
       "      <td>39</td>\n",
       "      <td>27</td>\n",
       "      <td>22.341385</td>\n",
       "      <td>42.243903</td>\n",
       "      <td>0.528866</td>\n",
       "      <td>0</td>\n",
       "      <td>69</td>\n",
       "      <td>source_4_2021_04_26_Batch1_BR00117037_H23_1_CL...</td>\n",
       "      <td>0.550725</td>\n",
       "      <td>146.990463</td>\n",
       "      <td>281.208447</td>\n",
       "    </tr>\n",
       "    <tr>\n",
       "      <th>3</th>\n",
       "      <td>source_4</td>\n",
       "      <td>2021_04_26_Batch1</td>\n",
       "      <td>BR00117037</td>\n",
       "      <td>H23</td>\n",
       "      <td>1</td>\n",
       "      <td>source_4_2021_04_26_Batch1_BR00117037_H23_1_CL...</td>\n",
       "      <td>CLSPN</td>\n",
       "      <td>27</td>\n",
       "      <td>35</td>\n",
       "      <td>18.349110</td>\n",
       "      <td>39.813112</td>\n",
       "      <td>0.460881</td>\n",
       "      <td>0</td>\n",
       "      <td>69</td>\n",
       "      <td>source_4_2021_04_26_Batch1_BR00117037_H23_1_CL...</td>\n",
       "      <td>0.550725</td>\n",
       "      <td>255.562937</td>\n",
       "      <td>289.620629</td>\n",
       "    </tr>\n",
       "    <tr>\n",
       "      <th>4</th>\n",
       "      <td>source_4</td>\n",
       "      <td>2021_04_26_Batch1</td>\n",
       "      <td>BR00117037</td>\n",
       "      <td>H23</td>\n",
       "      <td>1</td>\n",
       "      <td>source_4_2021_04_26_Batch1_BR00117037_H23_1_CL...</td>\n",
       "      <td>CLSPN</td>\n",
       "      <td>24</td>\n",
       "      <td>50</td>\n",
       "      <td>23.026534</td>\n",
       "      <td>51.550483</td>\n",
       "      <td>0.446679</td>\n",
       "      <td>0</td>\n",
       "      <td>69</td>\n",
       "      <td>source_4_2021_04_26_Batch1_BR00117037_H23_1_CL...</td>\n",
       "      <td>0.550725</td>\n",
       "      <td>261.302997</td>\n",
       "      <td>161.822420</td>\n",
       "    </tr>\n",
       "  </tbody>\n",
       "</table>\n",
       "</div>"
      ],
      "text/plain": [
       "     source              batch       plate well  site  \\\n",
       "0  source_4  2021_04_26_Batch1  BR00117037  H23     1   \n",
       "1  source_4  2021_04_26_Batch1  BR00117037  H23     1   \n",
       "2  source_4  2021_04_26_Batch1  BR00117037  H23     1   \n",
       "3  source_4  2021_04_26_Batch1  BR00117037  H23     1   \n",
       "4  source_4  2021_04_26_Batch1  BR00117037  H23     1   \n",
       "\n",
       "                                          image_file gene_symbol  bb_width  \\\n",
       "0  source_4_2021_04_26_Batch1_BR00117037_H23_1_CL...       CLSPN        47   \n",
       "1  source_4_2021_04_26_Batch1_BR00117037_H23_1_CL...       CLSPN        44   \n",
       "2  source_4_2021_04_26_Batch1_BR00117037_H23_1_CL...       CLSPN        39   \n",
       "3  source_4_2021_04_26_Batch1_BR00117037_H23_1_CL...       CLSPN        27   \n",
       "4  source_4_2021_04_26_Batch1_BR00117037_H23_1_CL...       CLSPN        24   \n",
       "\n",
       "   bb_height  minor_axis_length  major_axis_length  aspect_ratio  \\\n",
       "0         23          21.925599          49.968617      0.438787   \n",
       "1         36          33.116876          45.945014      0.720794   \n",
       "2         27          22.341385          42.243903      0.528866   \n",
       "3         35          18.349110          39.813112      0.460881   \n",
       "4         50          23.026534          51.550483      0.446679   \n",
       "\n",
       "   aspect_ratio_cluster  nuclei_count_image  \\\n",
       "0                     0                  69   \n",
       "1                     1                  69   \n",
       "2                     0                  69   \n",
       "3                     0                  69   \n",
       "4                     0                  69   \n",
       "\n",
       "                                    slide_image_name  \\\n",
       "0  source_4_2021_04_26_Batch1_BR00117037_H23_1_CL...   \n",
       "1  source_4_2021_04_26_Batch1_BR00117037_H23_1_CL...   \n",
       "2  source_4_2021_04_26_Batch1_BR00117037_H23_1_CL...   \n",
       "3  source_4_2021_04_26_Batch1_BR00117037_H23_1_CL...   \n",
       "4  source_4_2021_04_26_Batch1_BR00117037_H23_1_CL...   \n",
       "\n",
       "   aspect_ratio_cluster_ratio  centroid_0  centroid_1  \n",
       "0                    0.550725   39.171765  159.556471  \n",
       "1                    0.550725  134.533390  439.564666  \n",
       "2                    0.550725  146.990463  281.208447  \n",
       "3                    0.550725  255.562937  289.620629  \n",
       "4                    0.550725  261.302997  161.822420  "
      ]
     },
     "execution_count": 23,
     "metadata": {},
     "output_type": "execute_result"
    },
    {
     "data": {
      "application/javascript": [
       "\n",
       "            setTimeout(function() {\n",
       "                var nbb_cell_id = 23;\n",
       "                var nbb_unformatted_code = \"md = pd.read_csv(\\n    \\\"../../data/experiments/image_preprocessing/jump/full_pipeline/padded_nuclei_metadata.csv.gz\\\",\\n    index_col=0,\\n)\\nmd.head()\";\n",
       "                var nbb_formatted_code = \"md = pd.read_csv(\\n    \\\"../../data/experiments/image_preprocessing/jump/full_pipeline/padded_nuclei_metadata.csv.gz\\\",\\n    index_col=0,\\n)\\nmd.head()\";\n",
       "                var nbb_cells = Jupyter.notebook.get_cells();\n",
       "                for (var i = 0; i < nbb_cells.length; ++i) {\n",
       "                    if (nbb_cells[i].input_prompt_number == nbb_cell_id) {\n",
       "                        if (nbb_cells[i].get_text() == nbb_unformatted_code) {\n",
       "                             nbb_cells[i].set_text(nbb_formatted_code);\n",
       "                        }\n",
       "                        break;\n",
       "                    }\n",
       "                }\n",
       "            }, 500);\n",
       "            "
      ],
      "text/plain": [
       "<IPython.core.display.Javascript object>"
      ]
     },
     "metadata": {},
     "output_type": "display_data"
    }
   ],
   "source": [
    "md = pd.read_csv(\n",
    "    \"../../../data/experiments/jump/images/preprocessing//full_pipeline/padded_nuclei_metadata.csv.gz\",\n",
    "    index_col=0,\n",
    ")\n",
    "md.head()"
   ]
  },
  {
   "cell_type": "markdown",
   "id": "1a31bdb3",
   "metadata": {},
   "source": [
    "We decide to filter out the batches 3 and 4 from the data set."
   ]
  },
  {
   "cell_type": "code",
   "execution_count": 24,
   "id": "2cb36d32",
   "metadata": {},
   "outputs": [
    {
     "data": {
      "text/plain": [
       "array(['2021_04_26_Batch1', '2021_05_10_Batch3', '2021_05_17_Batch4',\n",
       "       '2021_05_31_Batch2', '2021_06_07_Batch5', '2021_06_14_Batch6',\n",
       "       '2021_06_21_Batch7', '2021_07_12_Batch8', '2021_07_26_Batch9',\n",
       "       '2021_08_02_Batch10', '2021_08_09_Batch11', '2021_08_23_Batch12',\n",
       "       '2021_08_30_Batch13'], dtype=object)"
      ]
     },
     "execution_count": 24,
     "metadata": {},
     "output_type": "execute_result"
    },
    {
     "data": {
      "application/javascript": [
       "\n",
       "            setTimeout(function() {\n",
       "                var nbb_cell_id = 24;\n",
       "                var nbb_unformatted_code = \"batches = np.unique(md.loc[:, \\\"batch\\\"])\\n\\nbatches\";\n",
       "                var nbb_formatted_code = \"batches = np.unique(md.loc[:, \\\"batch\\\"])\\n\\nbatches\";\n",
       "                var nbb_cells = Jupyter.notebook.get_cells();\n",
       "                for (var i = 0; i < nbb_cells.length; ++i) {\n",
       "                    if (nbb_cells[i].input_prompt_number == nbb_cell_id) {\n",
       "                        if (nbb_cells[i].get_text() == nbb_unformatted_code) {\n",
       "                             nbb_cells[i].set_text(nbb_formatted_code);\n",
       "                        }\n",
       "                        break;\n",
       "                    }\n",
       "                }\n",
       "            }, 500);\n",
       "            "
      ],
      "text/plain": [
       "<IPython.core.display.Javascript object>"
      ]
     },
     "metadata": {},
     "output_type": "display_data"
    }
   ],
   "source": [
    "batches = np.unique(md.loc[:, \"batch\"])\n",
    "\n",
    "batches"
   ]
  },
  {
   "cell_type": "code",
   "execution_count": 26,
   "id": "a53d432a",
   "metadata": {},
   "outputs": [
    {
     "data": {
      "application/javascript": [
       "\n",
       "            setTimeout(function() {\n",
       "                var nbb_cell_id = 26;\n",
       "                var nbb_unformatted_code = \"spec_results = pd.read_csv(\\n    \\\"../../data/other/specificity_results/specificity_screen_results_cv.csv\\\",\\n    index_col=0,\\n)\\nspec_results = spec_results.loc[spec_results[\\\"selected\\\"]]\\nspec_orf_targets = set(spec_results.index)\\n# .union(\\n#     set([\\\"CCNE1\\\", \\\"CDK2\\\", \\\"GSK3B\\\", \\\"MAPK8\\\", \\\"PRKCA\\\", \\\"RPS6KB1\\\", \\\"TCF4\\\", \\\"TGFB1\\\"])\\n# )\";\n",
       "                var nbb_formatted_code = \"spec_results = pd.read_csv(\\n    \\\"../../data/other/specificity_results/specificity_screen_results_cv.csv\\\",\\n    index_col=0,\\n)\\nspec_results = spec_results.loc[spec_results[\\\"selected\\\"]]\\nspec_orf_targets = set(spec_results.index)\\n# .union(\\n#     set([\\\"CCNE1\\\", \\\"CDK2\\\", \\\"GSK3B\\\", \\\"MAPK8\\\", \\\"PRKCA\\\", \\\"RPS6KB1\\\", \\\"TCF4\\\", \\\"TGFB1\\\"])\\n# )\";\n",
       "                var nbb_cells = Jupyter.notebook.get_cells();\n",
       "                for (var i = 0; i < nbb_cells.length; ++i) {\n",
       "                    if (nbb_cells[i].input_prompt_number == nbb_cell_id) {\n",
       "                        if (nbb_cells[i].get_text() == nbb_unformatted_code) {\n",
       "                             nbb_cells[i].set_text(nbb_formatted_code);\n",
       "                        }\n",
       "                        break;\n",
       "                    }\n",
       "                }\n",
       "            }, 500);\n",
       "            "
      ],
      "text/plain": [
       "<IPython.core.display.Javascript object>"
      ]
     },
     "metadata": {},
     "output_type": "display_data"
    }
   ],
   "source": [
    "spec_results = pd.read_csv(\n",
    "    \"../../../data/experiments/rohban/images/screen/nuclei_region/specificity_screen_results_cv.csv\",\n",
    "    index_col=0,\n",
    ")\n",
    "spec_results = spec_results.loc[spec_results[\"selected\"]]\n",
    "spec_orf_targets = set(spec_results.index)\n",
    "# .union(\n",
    "#     set([\"CCNE1\", \"CDK2\", \"GSK3B\", \"MAPK8\", \"PRKCA\", \"RPS6KB1\", \"TCF4\", \"TGFB1\"])\n",
    "# )"
   ]
  },
  {
   "cell_type": "markdown",
   "id": "8a2f56a1",
   "metadata": {},
   "source": [
    "---\n",
    "\n",
    "## 2. StratifiedGrouped K-Fold\n",
    "\n",
    "We will now go over each individual gene and add a column to the dataframe that indicates to which fold of the respective gene screen the respective nuclei corresponds to. Thereby, we will ensure that all nuclei from the same slide-image are in the same fold to ensure that the model cannot cheat by focussing on imaging artifacts specific to individual slide images."
   ]
  },
  {
   "cell_type": "code",
   "execution_count": 27,
   "id": "0e1d44fc",
   "metadata": {},
   "outputs": [
    {
     "data": {
      "application/javascript": [
       "\n",
       "            setTimeout(function() {\n",
       "                var nbb_cell_id = 27;\n",
       "                var nbb_unformatted_code = \"output_dir = \\\"../../data/experiments/image_preprocessing/jump/specific_targets_cv_stratified_o_batch1_2/\\\"\\nos.makedirs(output_dir, exist_ok=True)\";\n",
       "                var nbb_formatted_code = \"output_dir = \\\"../../data/experiments/image_preprocessing/jump/specific_targets_cv_stratified_o_batch1_2/\\\"\\nos.makedirs(output_dir, exist_ok=True)\";\n",
       "                var nbb_cells = Jupyter.notebook.get_cells();\n",
       "                for (var i = 0; i < nbb_cells.length; ++i) {\n",
       "                    if (nbb_cells[i].input_prompt_number == nbb_cell_id) {\n",
       "                        if (nbb_cells[i].get_text() == nbb_unformatted_code) {\n",
       "                             nbb_cells[i].set_text(nbb_formatted_code);\n",
       "                        }\n",
       "                        break;\n",
       "                    }\n",
       "                }\n",
       "            }, 500);\n",
       "            "
      ],
      "text/plain": [
       "<IPython.core.display.Javascript object>"
      ]
     },
     "metadata": {},
     "output_type": "display_data"
    }
   ],
   "source": [
    "output_dir = \"../../../data/experiments/jump/images/preprocessing/specific_targets_cv_stratified/\"\n",
    "os.makedirs(output_dir, exist_ok=True)"
   ]
  },
  {
   "cell_type": "code",
   "execution_count": 28,
   "id": "f2dc58f0",
   "metadata": {},
   "outputs": [
    {
     "data": {
      "application/javascript": [
       "\n",
       "            setTimeout(function() {\n",
       "                var nbb_cell_id = 28;\n",
       "                var nbb_unformatted_code = \"label_col = \\\"gene_symbol\\\"\\ngroup_col = \\\"slide_image_name\\\"\\nrandom_state = 1234\\nn_folds = 4\";\n",
       "                var nbb_formatted_code = \"label_col = \\\"gene_symbol\\\"\\ngroup_col = \\\"slide_image_name\\\"\\nrandom_state = 1234\\nn_folds = 4\";\n",
       "                var nbb_cells = Jupyter.notebook.get_cells();\n",
       "                for (var i = 0; i < nbb_cells.length; ++i) {\n",
       "                    if (nbb_cells[i].input_prompt_number == nbb_cell_id) {\n",
       "                        if (nbb_cells[i].get_text() == nbb_unformatted_code) {\n",
       "                             nbb_cells[i].set_text(nbb_formatted_code);\n",
       "                        }\n",
       "                        break;\n",
       "                    }\n",
       "                }\n",
       "            }, 500);\n",
       "            "
      ],
      "text/plain": [
       "<IPython.core.display.Javascript object>"
      ]
     },
     "metadata": {},
     "output_type": "display_data"
    }
   ],
   "source": [
    "label_col = \"gene_symbol\"\n",
    "group_col = \"slide_image_name\"\n",
    "random_state = 1234\n",
    "n_folds = 4"
   ]
  },
  {
   "cell_type": "code",
   "execution_count": 29,
   "id": "781c0e78",
   "metadata": {},
   "outputs": [
    {
     "name": "stdout",
     "output_type": "stream",
     "text": [
      "['AKT1S1', 'ATF4', 'BAX', 'BCL2L11', 'BRAF', 'CASP8', 'CDC42', 'CDKN1A', 'CEBPA', 'CREB1', 'CXXC4', 'DIABLO', 'E2F1', 'ELK1', 'EMPTY', 'ERG', 'FGFR3', 'FOXO1', 'GLI1', 'HRAS', 'IRAK4', 'JUN', 'MAP2K3', 'MAP3K2', 'MAP3K5', 'MAP3K9', 'MAPK7', 'MOS', 'MYD88', 'PIK3R2', 'PRKACA', 'PRKCE', 'RAF1', 'RELB', 'RHOA', 'SMAD4', 'SMO', 'SRC', 'SREBF1', 'TRAF2', 'TSC2', 'WWTR1']\n",
      "{'CREB1': 4877, 'ELK1': 3369, 'EMPTY': 6593, 'ERG': 3798, 'SMAD4': 3124, 'TSC2': 4552, 'WWTR1': 4497, 'CDKN1A': 4086, 'RAF1': 6021, 'SRC': 6593}\n"
     ]
    },
    {
     "data": {
      "application/javascript": [
       "\n",
       "            setTimeout(function() {\n",
       "                var nbb_cell_id = 29;\n",
       "                var nbb_unformatted_code = \"target_list = sorted(list(spec_orf_targets) + [\\\"EMPTY\\\"])\\nprint(target_list)\\nfold_data = get_data_splits_for_label(\\n    data=md,\\n    label_col=label_col,\\n    target_list=target_list,\\n    n_folds=n_folds,\\n    group_col=group_col,\\n    random_state=random_state,\\n)\\nfor k, v in fold_data.items():\\n    for i in range(len(v)):\\n        fold_label_data = fold_data[k][i].to_csv(\\n            os.path.join(output_dir, \\\"nuclei_md_{}_fold_{}.csv\\\".format(k, i))\\n        )\";\n",
       "                var nbb_formatted_code = \"target_list = sorted(list(spec_orf_targets) + [\\\"EMPTY\\\"])\\nprint(target_list)\\nfold_data = get_data_splits_for_label(\\n    data=md,\\n    label_col=label_col,\\n    target_list=target_list,\\n    n_folds=n_folds,\\n    group_col=group_col,\\n    random_state=random_state,\\n)\\nfor k, v in fold_data.items():\\n    for i in range(len(v)):\\n        fold_label_data = fold_data[k][i].to_csv(\\n            os.path.join(output_dir, \\\"nuclei_md_{}_fold_{}.csv\\\".format(k, i))\\n        )\";\n",
       "                var nbb_cells = Jupyter.notebook.get_cells();\n",
       "                for (var i = 0; i < nbb_cells.length; ++i) {\n",
       "                    if (nbb_cells[i].input_prompt_number == nbb_cell_id) {\n",
       "                        if (nbb_cells[i].get_text() == nbb_unformatted_code) {\n",
       "                             nbb_cells[i].set_text(nbb_formatted_code);\n",
       "                        }\n",
       "                        break;\n",
       "                    }\n",
       "                }\n",
       "            }, 500);\n",
       "            "
      ],
      "text/plain": [
       "<IPython.core.display.Javascript object>"
      ]
     },
     "metadata": {},
     "output_type": "display_data"
    }
   ],
   "source": [
    "target_list = sorted(list(spec_orf_targets) + [\"EMPTY\"])\n",
    "print(target_list)\n",
    "fold_data = get_data_splits_for_label(\n",
    "    data=md,\n",
    "    label_col=label_col,\n",
    "    target_list=target_list,\n",
    "    n_folds=n_folds,\n",
    "    group_col=group_col,\n",
    "    random_state=random_state,\n",
    ")\n",
    "for k, v in fold_data.items():\n",
    "    for i in range(len(v)):\n",
    "        fold_label_data = fold_data[k][i].to_csv(\n",
    "            os.path.join(output_dir, \"nuclei_md_{}_fold_{}.csv\".format(k, i))\n",
    "        )"
   ]
  },
  {
   "cell_type": "code",
   "execution_count": 30,
   "id": "e674df2b",
   "metadata": {},
   "outputs": [
    {
     "data": {
      "text/plain": [
       "10"
      ]
     },
     "execution_count": 30,
     "metadata": {},
     "output_type": "execute_result"
    },
    {
     "data": {
      "application/javascript": [
       "\n",
       "            setTimeout(function() {\n",
       "                var nbb_cell_id = 30;\n",
       "                var nbb_unformatted_code = \"len(set(fold_data[\\\"test\\\"][0].gene_symbol))\";\n",
       "                var nbb_formatted_code = \"len(set(fold_data[\\\"test\\\"][0].gene_symbol))\";\n",
       "                var nbb_cells = Jupyter.notebook.get_cells();\n",
       "                for (var i = 0; i < nbb_cells.length; ++i) {\n",
       "                    if (nbb_cells[i].input_prompt_number == nbb_cell_id) {\n",
       "                        if (nbb_cells[i].get_text() == nbb_unformatted_code) {\n",
       "                             nbb_cells[i].set_text(nbb_formatted_code);\n",
       "                        }\n",
       "                        break;\n",
       "                    }\n",
       "                }\n",
       "            }, 500);\n",
       "            "
      ],
      "text/plain": [
       "<IPython.core.display.Javascript object>"
      ]
     },
     "metadata": {},
     "output_type": "display_data"
    }
   ],
   "source": [
    "len(set(fold_data[\"test\"][0].gene_symbol))"
   ]
  },
  {
   "cell_type": "code",
   "execution_count": 31,
   "id": "f90b8269",
   "metadata": {},
   "outputs": [
    {
     "data": {
      "text/plain": [
       "<AxesSubplot:>"
      ]
     },
     "execution_count": 31,
     "metadata": {},
     "output_type": "execute_result"
    },
    {
     "data": {
      "image/png": "[encoded data removed]",
      "text/plain": [
       "<Figure size 720x288 with 1 Axes>"
      ]
     },
     "metadata": {
      "needs_background": "light"
     },
     "output_type": "display_data"
    },
    {
     "data": {
      "application/javascript": [
       "\n",
       "            setTimeout(function() {\n",
       "                var nbb_cell_id = 31;\n",
       "                var nbb_unformatted_code = \"fold_data[\\\"test\\\"][0].gene_symbol.value_counts().plot(kind=\\\"bar\\\", figsize=(10, 4))\";\n",
       "                var nbb_formatted_code = \"fold_data[\\\"test\\\"][0].gene_symbol.value_counts().plot(kind=\\\"bar\\\", figsize=(10, 4))\";\n",
       "                var nbb_cells = Jupyter.notebook.get_cells();\n",
       "                for (var i = 0; i < nbb_cells.length; ++i) {\n",
       "                    if (nbb_cells[i].input_prompt_number == nbb_cell_id) {\n",
       "                        if (nbb_cells[i].get_text() == nbb_unformatted_code) {\n",
       "                             nbb_cells[i].set_text(nbb_formatted_code);\n",
       "                        }\n",
       "                        break;\n",
       "                    }\n",
       "                }\n",
       "            }, 500);\n",
       "            "
      ],
      "text/plain": [
       "<IPython.core.display.Javascript object>"
      ]
     },
     "metadata": {},
     "output_type": "display_data"
    }
   ],
   "source": [
    "fold_data[\"test\"][0].gene_symbol.value_counts().plot(kind=\"bar\", figsize=(10, 4))"
   ]
  },
  {
   "cell_type": "code",
   "execution_count": 15,
   "id": "d9ddf45f",
   "metadata": {},
   "outputs": [
    {
     "data": {
      "text/plain": [
       "<AxesSubplot:>"
      ]
     },
     "execution_count": 15,
     "metadata": {},
     "output_type": "execute_result"
    },
    {
     "data": {
      "image/png": "[encoded data removed]",
      "text/plain": [
       "<Figure size 720x288 with 1 Axes>"
      ]
     },
     "metadata": {
      "needs_background": "light"
     },
     "output_type": "display_data"
    },
    {
     "data": {
      "application/javascript": [
       "\n",
       "            setTimeout(function() {\n",
       "                var nbb_cell_id = 15;\n",
       "                var nbb_unformatted_code = \"fold_data[\\\"test\\\"][1].gene_symbol.value_counts().plot(kind=\\\"bar\\\", figsize=(10, 4))\";\n",
       "                var nbb_formatted_code = \"fold_data[\\\"test\\\"][1].gene_symbol.value_counts().plot(kind=\\\"bar\\\", figsize=(10, 4))\";\n",
       "                var nbb_cells = Jupyter.notebook.get_cells();\n",
       "                for (var i = 0; i < nbb_cells.length; ++i) {\n",
       "                    if (nbb_cells[i].input_prompt_number == nbb_cell_id) {\n",
       "                        if (nbb_cells[i].get_text() == nbb_unformatted_code) {\n",
       "                             nbb_cells[i].set_text(nbb_formatted_code);\n",
       "                        }\n",
       "                        break;\n",
       "                    }\n",
       "                }\n",
       "            }, 500);\n",
       "            "
      ],
      "text/plain": [
       "<IPython.core.display.Javascript object>"
      ]
     },
     "metadata": {},
     "output_type": "display_data"
    }
   ],
   "source": [
    "fold_data[\"test\"][1].gene_symbol.value_counts().plot(kind=\"bar\", figsize=(10, 4))"
   ]
  },
  {
   "cell_type": "code",
   "execution_count": 16,
   "id": "52e35ceb",
   "metadata": {},
   "outputs": [
    {
     "data": {
      "text/plain": [
       "<AxesSubplot:>"
      ]
     },
     "execution_count": 16,
     "metadata": {},
     "output_type": "execute_result"
    },
    {
     "data": {
      "image/png": "[encoded data removed]",
      "text/plain": [
       "<Figure size 720x288 with 1 Axes>"
      ]
     },
     "metadata": {
      "needs_background": "light"
     },
     "output_type": "display_data"
    },
    {
     "data": {
      "application/javascript": [
       "\n",
       "            setTimeout(function() {\n",
       "                var nbb_cell_id = 16;\n",
       "                var nbb_unformatted_code = \"fold_data[\\\"test\\\"][2].gene_symbol.value_counts().plot(kind=\\\"bar\\\", figsize=(10, 4))\";\n",
       "                var nbb_formatted_code = \"fold_data[\\\"test\\\"][2].gene_symbol.value_counts().plot(kind=\\\"bar\\\", figsize=(10, 4))\";\n",
       "                var nbb_cells = Jupyter.notebook.get_cells();\n",
       "                for (var i = 0; i < nbb_cells.length; ++i) {\n",
       "                    if (nbb_cells[i].input_prompt_number == nbb_cell_id) {\n",
       "                        if (nbb_cells[i].get_text() == nbb_unformatted_code) {\n",
       "                             nbb_cells[i].set_text(nbb_formatted_code);\n",
       "                        }\n",
       "                        break;\n",
       "                    }\n",
       "                }\n",
       "            }, 500);\n",
       "            "
      ],
      "text/plain": [
       "<IPython.core.display.Javascript object>"
      ]
     },
     "metadata": {},
     "output_type": "display_data"
    }
   ],
   "source": [
    "fold_data[\"test\"][2].gene_symbol.value_counts().plot(kind=\"bar\", figsize=(10, 4))"
   ]
  },
  {
   "cell_type": "code",
   "execution_count": 17,
   "id": "9c0a42bd",
   "metadata": {},
   "outputs": [
    {
     "data": {
      "text/plain": [
       "<AxesSubplot:>"
      ]
     },
     "execution_count": 17,
     "metadata": {},
     "output_type": "execute_result"
    },
    {
     "data": {
      "image/png": "[encoded data removed]",
      "text/plain": [
       "<Figure size 720x288 with 1 Axes>"
      ]
     },
     "metadata": {
      "needs_background": "light"
     },
     "output_type": "display_data"
    },
    {
     "data": {
      "application/javascript": [
       "\n",
       "            setTimeout(function() {\n",
       "                var nbb_cell_id = 17;\n",
       "                var nbb_unformatted_code = \"fold_data[\\\"test\\\"][3].gene_symbol.value_counts().plot(kind=\\\"bar\\\", figsize=(10, 4))\";\n",
       "                var nbb_formatted_code = \"fold_data[\\\"test\\\"][3].gene_symbol.value_counts().plot(kind=\\\"bar\\\", figsize=(10, 4))\";\n",
       "                var nbb_cells = Jupyter.notebook.get_cells();\n",
       "                for (var i = 0; i < nbb_cells.length; ++i) {\n",
       "                    if (nbb_cells[i].input_prompt_number == nbb_cell_id) {\n",
       "                        if (nbb_cells[i].get_text() == nbb_unformatted_code) {\n",
       "                             nbb_cells[i].set_text(nbb_formatted_code);\n",
       "                        }\n",
       "                        break;\n",
       "                    }\n",
       "                }\n",
       "            }, 500);\n",
       "            "
      ],
      "text/plain": [
       "<IPython.core.display.Javascript object>"
      ]
     },
     "metadata": {},
     "output_type": "display_data"
    }
   ],
   "source": [
    "fold_data[\"test\"][3].gene_symbol.value_counts().plot(kind=\"bar\", figsize=(10, 4))"
   ]
  },
  {
   "cell_type": "code",
   "execution_count": null,
   "id": "309db791",
   "metadata": {},
   "outputs": [],
   "source": []
  },
  {
   "cell_type": "code",
   "execution_count": null,
   "id": "c588b911",
   "metadata": {},
   "outputs": [],
   "source": []
  }
 ],
 "metadata": {
  "kernelspec": {
   "display_name": "Python 3",
   "language": "python",
   "name": "python3"
  },
  "language_info": {
   "codemirror_mode": {
    "name": "ipython",
    "version": 3
   },
   "file_extension": ".py",
   "mimetype": "text/x-python",
   "name": "python",
   "nbconvert_exporter": "python",
   "pygments_lexer": "ipython3",
   "version": "3.8.10"
  },
  "toc": {
   "base_numbering": 1,
   "nav_menu": {},
   "number_sections": true,
   "sideBar": true,
   "skip_h1_title": false,
   "title_cell": "Table of Contents",
   "title_sidebar": "Contents",
   "toc_cell": false,
   "toc_position": {
    "height": "626.667px",
    "left": "56px",
    "top": "141px",
    "width": "308px"
   },
   "toc_section_display": true,
   "toc_window_display": true
  }
 },
 "nbformat": 4,
 "nbformat_minor": 5
}
