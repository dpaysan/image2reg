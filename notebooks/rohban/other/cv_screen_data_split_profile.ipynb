{
 "cells": [
  {
   "cell_type": "markdown",
   "id": "4ee533fa",
   "metadata": {
    "pycharm": {
     "name": "#%% md\n"
    }
   },
   "source": [
    "# Data split for the 4-fold CV\n",
    "\n",
    "---\n",
    "\n",
    "This notebook can be used to generate data splits for the screening data to allow for parallel computing of the screens.\n",
    "\n",
    "---"
   ]
  },
  {
   "cell_type": "markdown",
   "id": "20f2592e",
   "metadata": {
    "pycharm": {
     "name": "#%% md\n"
    }
   },
   "source": [
    "## 0. Environmental setup"
   ]
  },
  {
   "cell_type": "code",
   "execution_count": 1,
   "id": "cc24984d",
   "metadata": {
    "pycharm": {
     "name": "#%%\n"
    }
   },
   "outputs": [
    {
     "data": {
      "application/javascript": [
       "\n",
       "            setTimeout(function() {\n",
       "                var nbb_cell_id = 1;\n",
       "                var nbb_unformatted_code = \"import pandas as pd\\nimport numpy as np\\nfrom sklearn.model_selection import GroupKFold, GroupShuffleSplit\\nimport os\\nfrom imblearn.under_sampling import RandomUnderSampler\\nfrom tqdm import tqdm\\n\\n%load_ext nb_black\";\n",
       "                var nbb_formatted_code = \"import pandas as pd\\nimport numpy as np\\nfrom sklearn.model_selection import GroupKFold, GroupShuffleSplit\\nimport os\\nfrom imblearn.under_sampling import RandomUnderSampler\\nfrom tqdm import tqdm\\n\\n%load_ext nb_black\";\n",
       "                var nbb_cells = Jupyter.notebook.get_cells();\n",
       "                for (var i = 0; i < nbb_cells.length; ++i) {\n",
       "                    if (nbb_cells[i].input_prompt_number == nbb_cell_id) {\n",
       "                        if (nbb_cells[i].get_text() == nbb_unformatted_code) {\n",
       "                             nbb_cells[i].set_text(nbb_formatted_code);\n",
       "                        }\n",
       "                        break;\n",
       "                    }\n",
       "                }\n",
       "            }, 500);\n",
       "            "
      ],
      "text/plain": [
       "<IPython.core.display.Javascript object>"
      ]
     },
     "metadata": {},
     "output_type": "display_data"
    }
   ],
   "source": [
    "import pandas as pd\n",
    "import numpy as np\n",
    "from sklearn.model_selection import GroupKFold, GroupShuffleSplit\n",
    "import os\n",
    "from imblearn.under_sampling import RandomUnderSampler\n",
    "from tqdm import tqdm\n",
    "\n",
    "%load_ext nb_black"
   ]
  },
  {
   "cell_type": "markdown",
   "id": "982ef064",
   "metadata": {
    "pycharm": {
     "name": "#%% md\n"
    }
   },
   "source": [
    "---\n",
    "## 1. Read in data\n",
    "\n",
    "To start we will read in the whole metadata set."
   ]
  },
  {
   "cell_type": "code",
   "execution_count": 2,
   "id": "2b0ae6ed",
   "metadata": {
    "pycharm": {
     "name": "#%%\n"
    }
   },
   "outputs": [
    {
     "data": {
      "text/html": [
       "<div>\n",
       "<style scoped>\n",
       "    .dataframe tbody tr th:only-of-type {\n",
       "        vertical-align: middle;\n",
       "    }\n",
       "\n",
       "    .dataframe tbody tr th {\n",
       "        vertical-align: top;\n",
       "    }\n",
       "\n",
       "    .dataframe thead th {\n",
       "        text-align: right;\n",
       "    }\n",
       "</style>\n",
       "<table border=\"1\" class=\"dataframe\">\n",
       "  <thead>\n",
       "    <tr style=\"text-align: right;\">\n",
       "      <th></th>\n",
       "      <th>ImageNumber</th>\n",
       "      <th>Nuclei_AreaShape_Area</th>\n",
       "      <th>Nuclei_AreaShape_Center_X</th>\n",
       "      <th>Nuclei_AreaShape_Center_Y</th>\n",
       "      <th>Nuclei_AreaShape_Compactness</th>\n",
       "      <th>Nuclei_AreaShape_Eccentricity</th>\n",
       "      <th>Nuclei_AreaShape_EulerNumber</th>\n",
       "      <th>Nuclei_AreaShape_Extent</th>\n",
       "      <th>Nuclei_AreaShape_FormFactor</th>\n",
       "      <th>Nuclei_AreaShape_MajorAxisLength</th>\n",
       "      <th>...</th>\n",
       "      <th>Nuclei_Texture_SumEntropy_Hoechst_10_0</th>\n",
       "      <th>Nuclei_Texture_SumEntropy_Hoechst_3_0</th>\n",
       "      <th>Nuclei_Texture_SumEntropy_Hoechst_5_0</th>\n",
       "      <th>Nuclei_Texture_SumVariance_Hoechst_10_0</th>\n",
       "      <th>Nuclei_Texture_SumVariance_Hoechst_3_0</th>\n",
       "      <th>Nuclei_Texture_SumVariance_Hoechst_5_0</th>\n",
       "      <th>Nuclei_Texture_Variance_Hoechst_10_0</th>\n",
       "      <th>Nuclei_Texture_Variance_Hoechst_3_0</th>\n",
       "      <th>Nuclei_Texture_Variance_Hoechst_5_0</th>\n",
       "      <th>labels</th>\n",
       "    </tr>\n",
       "  </thead>\n",
       "  <tbody>\n",
       "    <tr>\n",
       "      <th>0</th>\n",
       "      <td>1959</td>\n",
       "      <td>1055</td>\n",
       "      <td>505</td>\n",
       "      <td>897</td>\n",
       "      <td>1.05076</td>\n",
       "      <td>0.582823</td>\n",
       "      <td>1</td>\n",
       "      <td>0.775735</td>\n",
       "      <td>0.829029</td>\n",
       "      <td>41.2344</td>\n",
       "      <td>...</td>\n",
       "      <td>2.28077</td>\n",
       "      <td>2.46149</td>\n",
       "      <td>2.39829</td>\n",
       "      <td>6.95743</td>\n",
       "      <td>10.10310</td>\n",
       "      <td>8.70054</td>\n",
       "      <td>3.17906</td>\n",
       "      <td>2.92942</td>\n",
       "      <td>2.91259</td>\n",
       "      <td>EMPTY</td>\n",
       "    </tr>\n",
       "    <tr>\n",
       "      <th>1</th>\n",
       "      <td>2621</td>\n",
       "      <td>692</td>\n",
       "      <td>1048</td>\n",
       "      <td>833</td>\n",
       "      <td>1.02947</td>\n",
       "      <td>0.487037</td>\n",
       "      <td>1</td>\n",
       "      <td>0.697581</td>\n",
       "      <td>0.865848</td>\n",
       "      <td>32.1004</td>\n",
       "      <td>...</td>\n",
       "      <td>2.22891</td>\n",
       "      <td>2.50667</td>\n",
       "      <td>2.39297</td>\n",
       "      <td>6.23979</td>\n",
       "      <td>11.40350</td>\n",
       "      <td>8.74462</td>\n",
       "      <td>4.92492</td>\n",
       "      <td>3.89204</td>\n",
       "      <td>4.06769</td>\n",
       "      <td>PRKACA</td>\n",
       "    </tr>\n",
       "    <tr>\n",
       "      <th>2</th>\n",
       "      <td>1959</td>\n",
       "      <td>1130</td>\n",
       "      <td>254</td>\n",
       "      <td>912</td>\n",
       "      <td>1.12291</td>\n",
       "      <td>0.778182</td>\n",
       "      <td>1</td>\n",
       "      <td>0.713384</td>\n",
       "      <td>0.823856</td>\n",
       "      <td>48.1280</td>\n",
       "      <td>...</td>\n",
       "      <td>2.09847</td>\n",
       "      <td>2.20948</td>\n",
       "      <td>2.15659</td>\n",
       "      <td>4.90396</td>\n",
       "      <td>7.23318</td>\n",
       "      <td>5.97824</td>\n",
       "      <td>2.78244</td>\n",
       "      <td>2.50232</td>\n",
       "      <td>2.56194</td>\n",
       "      <td>EMPTY</td>\n",
       "    </tr>\n",
       "    <tr>\n",
       "      <th>3</th>\n",
       "      <td>2621</td>\n",
       "      <td>945</td>\n",
       "      <td>1025</td>\n",
       "      <td>768</td>\n",
       "      <td>1.03030</td>\n",
       "      <td>0.562608</td>\n",
       "      <td>1</td>\n",
       "      <td>0.751192</td>\n",
       "      <td>0.888179</td>\n",
       "      <td>38.3836</td>\n",
       "      <td>...</td>\n",
       "      <td>2.09782</td>\n",
       "      <td>2.30247</td>\n",
       "      <td>2.21613</td>\n",
       "      <td>4.87518</td>\n",
       "      <td>7.33326</td>\n",
       "      <td>6.19254</td>\n",
       "      <td>2.48965</td>\n",
       "      <td>2.36182</td>\n",
       "      <td>2.38637</td>\n",
       "      <td>PRKACA</td>\n",
       "    </tr>\n",
       "    <tr>\n",
       "      <th>4</th>\n",
       "      <td>1959</td>\n",
       "      <td>1131</td>\n",
       "      <td>316</td>\n",
       "      <td>926</td>\n",
       "      <td>1.03167</td>\n",
       "      <td>0.581268</td>\n",
       "      <td>1</td>\n",
       "      <td>0.764189</td>\n",
       "      <td>0.880571</td>\n",
       "      <td>42.2784</td>\n",
       "      <td>...</td>\n",
       "      <td>2.34390</td>\n",
       "      <td>2.49636</td>\n",
       "      <td>2.44547</td>\n",
       "      <td>7.31812</td>\n",
       "      <td>10.24960</td>\n",
       "      <td>9.03631</td>\n",
       "      <td>2.87705</td>\n",
       "      <td>2.95287</td>\n",
       "      <td>2.82690</td>\n",
       "      <td>EMPTY</td>\n",
       "    </tr>\n",
       "  </tbody>\n",
       "</table>\n",
       "<p>5 rows × 137 columns</p>\n",
       "</div>"
      ],
      "text/plain": [
       "   ImageNumber  Nuclei_AreaShape_Area  Nuclei_AreaShape_Center_X  \\\n",
       "0         1959                   1055                        505   \n",
       "1         2621                    692                       1048   \n",
       "2         1959                   1130                        254   \n",
       "3         2621                    945                       1025   \n",
       "4         1959                   1131                        316   \n",
       "\n",
       "   Nuclei_AreaShape_Center_Y  Nuclei_AreaShape_Compactness  \\\n",
       "0                        897                       1.05076   \n",
       "1                        833                       1.02947   \n",
       "2                        912                       1.12291   \n",
       "3                        768                       1.03030   \n",
       "4                        926                       1.03167   \n",
       "\n",
       "   Nuclei_AreaShape_Eccentricity  Nuclei_AreaShape_EulerNumber  \\\n",
       "0                       0.582823                             1   \n",
       "1                       0.487037                             1   \n",
       "2                       0.778182                             1   \n",
       "3                       0.562608                             1   \n",
       "4                       0.581268                             1   \n",
       "\n",
       "   Nuclei_AreaShape_Extent  Nuclei_AreaShape_FormFactor  \\\n",
       "0                 0.775735                     0.829029   \n",
       "1                 0.697581                     0.865848   \n",
       "2                 0.713384                     0.823856   \n",
       "3                 0.751192                     0.888179   \n",
       "4                 0.764189                     0.880571   \n",
       "\n",
       "   Nuclei_AreaShape_MajorAxisLength  ...  \\\n",
       "0                           41.2344  ...   \n",
       "1                           32.1004  ...   \n",
       "2                           48.1280  ...   \n",
       "3                           38.3836  ...   \n",
       "4                           42.2784  ...   \n",
       "\n",
       "   Nuclei_Texture_SumEntropy_Hoechst_10_0  \\\n",
       "0                                 2.28077   \n",
       "1                                 2.22891   \n",
       "2                                 2.09847   \n",
       "3                                 2.09782   \n",
       "4                                 2.34390   \n",
       "\n",
       "   Nuclei_Texture_SumEntropy_Hoechst_3_0  \\\n",
       "0                                2.46149   \n",
       "1                                2.50667   \n",
       "2                                2.20948   \n",
       "3                                2.30247   \n",
       "4                                2.49636   \n",
       "\n",
       "   Nuclei_Texture_SumEntropy_Hoechst_5_0  \\\n",
       "0                                2.39829   \n",
       "1                                2.39297   \n",
       "2                                2.15659   \n",
       "3                                2.21613   \n",
       "4                                2.44547   \n",
       "\n",
       "   Nuclei_Texture_SumVariance_Hoechst_10_0  \\\n",
       "0                                  6.95743   \n",
       "1                                  6.23979   \n",
       "2                                  4.90396   \n",
       "3                                  4.87518   \n",
       "4                                  7.31812   \n",
       "\n",
       "   Nuclei_Texture_SumVariance_Hoechst_3_0  \\\n",
       "0                                10.10310   \n",
       "1                                11.40350   \n",
       "2                                 7.23318   \n",
       "3                                 7.33326   \n",
       "4                                10.24960   \n",
       "\n",
       "   Nuclei_Texture_SumVariance_Hoechst_5_0  \\\n",
       "0                                 8.70054   \n",
       "1                                 8.74462   \n",
       "2                                 5.97824   \n",
       "3                                 6.19254   \n",
       "4                                 9.03631   \n",
       "\n",
       "   Nuclei_Texture_Variance_Hoechst_10_0  Nuclei_Texture_Variance_Hoechst_3_0  \\\n",
       "0                               3.17906                              2.92942   \n",
       "1                               4.92492                              3.89204   \n",
       "2                               2.78244                              2.50232   \n",
       "3                               2.48965                              2.36182   \n",
       "4                               2.87705                              2.95287   \n",
       "\n",
       "   Nuclei_Texture_Variance_Hoechst_5_0  labels  \n",
       "0                              2.91259   EMPTY  \n",
       "1                              4.06769  PRKACA  \n",
       "2                              2.56194   EMPTY  \n",
       "3                              2.38637  PRKACA  \n",
       "4                              2.82690   EMPTY  \n",
       "\n",
       "[5 rows x 137 columns]"
      ]
     },
     "execution_count": 2,
     "metadata": {},
     "output_type": "execute_result"
    },
    {
     "data": {
      "application/javascript": [
       "\n",
       "            setTimeout(function() {\n",
       "                var nbb_cell_id = 2;\n",
       "                var nbb_unformatted_code = \"md = pd.read_csv(\\n    \\\"../../data/images/metadata/nuclei_profiles_hoechst_cleaned.csv\\\",\\n    index_col=0,\\n)\\nmd.head()\";\n",
       "                var nbb_formatted_code = \"md = pd.read_csv(\\n    \\\"../../data/images/metadata/nuclei_profiles_hoechst_cleaned.csv\\\",\\n    index_col=0,\\n)\\nmd.head()\";\n",
       "                var nbb_cells = Jupyter.notebook.get_cells();\n",
       "                for (var i = 0; i < nbb_cells.length; ++i) {\n",
       "                    if (nbb_cells[i].input_prompt_number == nbb_cell_id) {\n",
       "                        if (nbb_cells[i].get_text() == nbb_unformatted_code) {\n",
       "                             nbb_cells[i].set_text(nbb_formatted_code);\n",
       "                        }\n",
       "                        break;\n",
       "                    }\n",
       "                }\n",
       "            }, 500);\n",
       "            "
      ],
      "text/plain": [
       "<IPython.core.display.Javascript object>"
      ]
     },
     "metadata": {},
     "output_type": "display_data"
    }
   ],
   "source": [
    "md = pd.read_csv(\n",
    "    \"../../../data/resources/images/rohban/profiles/nuclei_profiles_hoechst_cleaned.csv\",\n",
    "    index_col=0,\n",
    ")\n",
    "md.head()"
   ]
  },
  {
   "cell_type": "markdown",
   "id": "8a2f56a1",
   "metadata": {
    "pycharm": {
     "name": "#%% md\n"
    }
   },
   "source": [
    "---\n",
    "\n",
    "## 2. Grouped K-Fold\n",
    "\n",
    "We will now go over each individual gene and add a column to the dataframe that indicates to which fold of the respective gene screen the respective nuclei corresponds to. Thereby, we will ensure that all nuclei from the same slide-image are in the same fold to ensure that the model cannot cheat by focussing on imaging artifacts specific to individual slide images."
   ]
  },
  {
   "cell_type": "code",
   "execution_count": 3,
   "id": "b77e5662",
   "metadata": {
    "pycharm": {
     "name": "#%%\n"
    }
   },
   "outputs": [
    {
     "data": {
      "application/javascript": [
       "\n",
       "            setTimeout(function() {\n",
       "                var nbb_cell_id = 3;\n",
       "                var nbb_unformatted_code = \"def get_data_splits_for_label(\\n    data,\\n    label_col,\\n    target_list,\\n    n_folds,\\n    group_col,\\n    random_state=1234,\\n    val_size=0.2,\\n):\\n\\n    # Subsample the data\\n    label_data = data.loc[data.loc[:, label_col].isin(target_list), :]\\n    if \\\"EMPTY\\\" in target_list:\\n        idc = np.array(list(range(len(label_data)))).reshape(-1, 1)\\n        labels = label_data.loc[:, label_col]\\n        idc, _ = RandomUnderSampler(\\n            sampling_strategy=\\\"majority\\\", random_state=random_state\\n        ).fit_resample(idc, labels)\\n        label_data = label_data.iloc[idc.flatten(), :]\\n\\n    # Split in folds\\n    features = np.array(list(range(len(label_data)))).reshape(-1, 1)\\n    labels = np.array(label_data.loc[:, label_col])\\n    groups = np.array(label_data.loc[:, group_col])\\n\\n    fold_data = {\\\"train\\\": [], \\\"val\\\": [], \\\"test\\\": []}\\n    group_kfold = GroupKFold(n_splits=n_folds)\\n    for train_index, test_index in group_kfold.split(features, labels, groups=groups):\\n\\n        train_val_fold_data = label_data.iloc[train_index]\\n        train_val_fold_labels = labels[train_index]\\n        train_val_fold_groups = groups[train_index]\\n\\n        train_index, val_index = next(\\n            GroupShuffleSplit(\\n                test_size=val_size, n_splits=2, random_state=random_state\\n            ).split(\\n                train_val_fold_data, train_val_fold_labels, groups=train_val_fold_groups\\n            )\\n        )\\n        train_fold_data = train_val_fold_data.iloc[train_index]\\n        val_fold_data = train_val_fold_data.iloc[val_index]\\n\\n        test_fold_data = label_data.iloc[test_index]\\n\\n        fold_data[\\\"train\\\"].append(train_fold_data)\\n        fold_data[\\\"val\\\"].append(val_fold_data)\\n        fold_data[\\\"test\\\"].append(test_fold_data)\\n\\n    return fold_data\";\n",
       "                var nbb_formatted_code = \"def get_data_splits_for_label(\\n    data,\\n    label_col,\\n    target_list,\\n    n_folds,\\n    group_col,\\n    random_state=1234,\\n    val_size=0.2,\\n):\\n\\n    # Subsample the data\\n    label_data = data.loc[data.loc[:, label_col].isin(target_list), :]\\n    if \\\"EMPTY\\\" in target_list:\\n        idc = np.array(list(range(len(label_data)))).reshape(-1, 1)\\n        labels = label_data.loc[:, label_col]\\n        idc, _ = RandomUnderSampler(\\n            sampling_strategy=\\\"majority\\\", random_state=random_state\\n        ).fit_resample(idc, labels)\\n        label_data = label_data.iloc[idc.flatten(), :]\\n\\n    # Split in folds\\n    features = np.array(list(range(len(label_data)))).reshape(-1, 1)\\n    labels = np.array(label_data.loc[:, label_col])\\n    groups = np.array(label_data.loc[:, group_col])\\n\\n    fold_data = {\\\"train\\\": [], \\\"val\\\": [], \\\"test\\\": []}\\n    group_kfold = GroupKFold(n_splits=n_folds)\\n    for train_index, test_index in group_kfold.split(features, labels, groups=groups):\\n\\n        train_val_fold_data = label_data.iloc[train_index]\\n        train_val_fold_labels = labels[train_index]\\n        train_val_fold_groups = groups[train_index]\\n\\n        train_index, val_index = next(\\n            GroupShuffleSplit(\\n                test_size=val_size, n_splits=2, random_state=random_state\\n            ).split(\\n                train_val_fold_data, train_val_fold_labels, groups=train_val_fold_groups\\n            )\\n        )\\n        train_fold_data = train_val_fold_data.iloc[train_index]\\n        val_fold_data = train_val_fold_data.iloc[val_index]\\n\\n        test_fold_data = label_data.iloc[test_index]\\n\\n        fold_data[\\\"train\\\"].append(train_fold_data)\\n        fold_data[\\\"val\\\"].append(val_fold_data)\\n        fold_data[\\\"test\\\"].append(test_fold_data)\\n\\n    return fold_data\";\n",
       "                var nbb_cells = Jupyter.notebook.get_cells();\n",
       "                for (var i = 0; i < nbb_cells.length; ++i) {\n",
       "                    if (nbb_cells[i].input_prompt_number == nbb_cell_id) {\n",
       "                        if (nbb_cells[i].get_text() == nbb_unformatted_code) {\n",
       "                             nbb_cells[i].set_text(nbb_formatted_code);\n",
       "                        }\n",
       "                        break;\n",
       "                    }\n",
       "                }\n",
       "            }, 500);\n",
       "            "
      ],
      "text/plain": [
       "<IPython.core.display.Javascript object>"
      ]
     },
     "metadata": {},
     "output_type": "display_data"
    }
   ],
   "source": [
    "def get_data_splits_for_label(\n",
    "    data,\n",
    "    label_col,\n",
    "    target_list,\n",
    "    n_folds,\n",
    "    group_col,\n",
    "    random_state=1234,\n",
    "    val_size=0.2,\n",
    "):\n",
    "\n",
    "    # Subsample the data\n",
    "    label_data = data.loc[data.loc[:, label_col].isin(target_list), :]\n",
    "    if \"EMPTY\" in target_list:\n",
    "        idc = np.array(list(range(len(label_data)))).reshape(-1, 1)\n",
    "        labels = label_data.loc[:, label_col]\n",
    "        idc, _ = RandomUnderSampler(\n",
    "            sampling_strategy=\"majority\", random_state=random_state\n",
    "        ).fit_resample(idc, labels)\n",
    "        label_data = label_data.iloc[idc.flatten(), :]\n",
    "\n",
    "    # Split in folds\n",
    "    features = np.array(list(range(len(label_data)))).reshape(-1, 1)\n",
    "    labels = np.array(label_data.loc[:, label_col])\n",
    "    groups = np.array(label_data.loc[:, group_col])\n",
    "\n",
    "    fold_data = {\"train\": [], \"val\": [], \"test\": []}\n",
    "    group_kfold = GroupKFold(n_splits=n_folds)\n",
    "    for train_index, test_index in group_kfold.split(features, labels, groups=groups):\n",
    "\n",
    "        train_val_fold_data = label_data.iloc[train_index]\n",
    "        train_val_fold_labels = labels[train_index]\n",
    "        train_val_fold_groups = groups[train_index]\n",
    "\n",
    "        train_index, val_index = next(\n",
    "            GroupShuffleSplit(\n",
    "                test_size=val_size, n_splits=2, random_state=random_state\n",
    "            ).split(\n",
    "                train_val_fold_data, train_val_fold_labels, groups=train_val_fold_groups\n",
    "            )\n",
    "        )\n",
    "        train_fold_data = train_val_fold_data.iloc[train_index]\n",
    "        val_fold_data = train_val_fold_data.iloc[val_index]\n",
    "\n",
    "        test_fold_data = label_data.iloc[test_index]\n",
    "\n",
    "        fold_data[\"train\"].append(train_fold_data)\n",
    "        fold_data[\"val\"].append(val_fold_data)\n",
    "        fold_data[\"test\"].append(test_fold_data)\n",
    "\n",
    "    return fold_data"
   ]
  },
  {
   "cell_type": "code",
   "execution_count": 4,
   "id": "0e1d44fc",
   "metadata": {
    "pycharm": {
     "name": "#%%\n"
    }
   },
   "outputs": [
    {
     "data": {
      "application/javascript": [
       "\n",
       "            setTimeout(function() {\n",
       "                var nbb_cell_id = 4;\n",
       "                var nbb_unformatted_code = \"output_dir = \\\"/media/paysan_d/wd_datastore/image2reg/data/experiments/profile_preprocessing/screen_splits/\\\"\\nos.makedirs(output_dir)\";\n",
       "                var nbb_formatted_code = \"output_dir = \\\"/media/paysan_d/wd_datastore/image2reg/data/experiments/profile_preprocessing/screen_splits/\\\"\\nos.makedirs(output_dir)\";\n",
       "                var nbb_cells = Jupyter.notebook.get_cells();\n",
       "                for (var i = 0; i < nbb_cells.length; ++i) {\n",
       "                    if (nbb_cells[i].input_prompt_number == nbb_cell_id) {\n",
       "                        if (nbb_cells[i].get_text() == nbb_unformatted_code) {\n",
       "                             nbb_cells[i].set_text(nbb_formatted_code);\n",
       "                        }\n",
       "                        break;\n",
       "                    }\n",
       "                }\n",
       "            }, 500);\n",
       "            "
      ],
      "text/plain": [
       "<IPython.core.display.Javascript object>"
      ]
     },
     "metadata": {},
     "output_type": "display_data"
    }
   ],
   "source": [
    "output_dir = \"../../../data/experiments/rohban/images/screen/mroph_profiles/screen_splits/\"\n",
    "os.makedirs(output_dir)"
   ]
  },
  {
   "cell_type": "code",
   "execution_count": 5,
   "id": "f2dc58f0",
   "metadata": {
    "pycharm": {
     "name": "#%%\n"
    }
   },
   "outputs": [
    {
     "data": {
      "application/javascript": [
       "\n",
       "            setTimeout(function() {\n",
       "                var nbb_cell_id = 5;\n",
       "                var nbb_unformatted_code = \"label_col = \\\"labels\\\"\\ngroup_col = \\\"ImageNumber\\\"\\nrandom_state = 1234\\nn_folds = 4\";\n",
       "                var nbb_formatted_code = \"label_col = \\\"labels\\\"\\ngroup_col = \\\"ImageNumber\\\"\\nrandom_state = 1234\\nn_folds = 4\";\n",
       "                var nbb_cells = Jupyter.notebook.get_cells();\n",
       "                for (var i = 0; i < nbb_cells.length; ++i) {\n",
       "                    if (nbb_cells[i].input_prompt_number == nbb_cell_id) {\n",
       "                        if (nbb_cells[i].get_text() == nbb_unformatted_code) {\n",
       "                             nbb_cells[i].set_text(nbb_formatted_code);\n",
       "                        }\n",
       "                        break;\n",
       "                    }\n",
       "                }\n",
       "            }, 500);\n",
       "            "
      ],
      "text/plain": [
       "<IPython.core.display.Javascript object>"
      ]
     },
     "metadata": {},
     "output_type": "display_data"
    }
   ],
   "source": [
    "label_col = \"labels\"\n",
    "group_col = \"ImageNumber\"\n",
    "random_state = 1234\n",
    "n_folds = 4"
   ]
  },
  {
   "cell_type": "code",
   "execution_count": 9,
   "id": "781c0e78",
   "metadata": {
    "pycharm": {
     "name": "#%%\n"
    }
   },
   "outputs": [
    {
     "name": "stderr",
     "output_type": "stream",
     "text": [
      "100%|██████████| 193/193 [25:55<00:00,  8.06s/it]\n"
     ]
    },
    {
     "data": {
      "application/javascript": [
       "\n",
       "            setTimeout(function() {\n",
       "                var nbb_cell_id = 9;\n",
       "                var nbb_unformatted_code = \"labels = set(md.loc[:, label_col]) - set([\\\"EMPTY\\\"])\\nfor label in tqdm(labels):\\n    fold_data = get_data_splits_for_label(\\n        data=md,\\n        label_col=label_col,\\n        target_list=[label, \\\"EMPTY\\\"],\\n        n_folds=n_folds,\\n        group_col=group_col,\\n        random_state=random_state,\\n    )\\n    label_output_dir = os.path.join(output_dir, label)\\n    os.makedirs(label_output_dir, exist_ok=True)\\n    for k, v in fold_data.items():\\n        for i in range(len(v)):\\n            fold_label_data = fold_data[k][i].to_csv(\\n                os.path.join(\\n                    label_output_dir, \\\"morph_md_{}_fold_{}.csv.gz\\\".format(k, i)\\n                )\\n            )\";\n",
       "                var nbb_formatted_code = \"labels = set(md.loc[:, label_col]) - set([\\\"EMPTY\\\"])\\nfor label in tqdm(labels):\\n    fold_data = get_data_splits_for_label(\\n        data=md,\\n        label_col=label_col,\\n        target_list=[label, \\\"EMPTY\\\"],\\n        n_folds=n_folds,\\n        group_col=group_col,\\n        random_state=random_state,\\n    )\\n    label_output_dir = os.path.join(output_dir, label)\\n    os.makedirs(label_output_dir, exist_ok=True)\\n    for k, v in fold_data.items():\\n        for i in range(len(v)):\\n            fold_label_data = fold_data[k][i].to_csv(\\n                os.path.join(\\n                    label_output_dir, \\\"morph_md_{}_fold_{}.csv.gz\\\".format(k, i)\\n                )\\n            )\";\n",
       "                var nbb_cells = Jupyter.notebook.get_cells();\n",
       "                for (var i = 0; i < nbb_cells.length; ++i) {\n",
       "                    if (nbb_cells[i].input_prompt_number == nbb_cell_id) {\n",
       "                        if (nbb_cells[i].get_text() == nbb_unformatted_code) {\n",
       "                             nbb_cells[i].set_text(nbb_formatted_code);\n",
       "                        }\n",
       "                        break;\n",
       "                    }\n",
       "                }\n",
       "            }, 500);\n",
       "            "
      ],
      "text/plain": [
       "<IPython.core.display.Javascript object>"
      ]
     },
     "metadata": {},
     "output_type": "display_data"
    }
   ],
   "source": [
    "labels = set(md.loc[:, label_col]) - set([\"EMPTY\"])\n",
    "for label in tqdm(labels):\n",
    "    fold_data = get_data_splits_for_label(\n",
    "        data=md,\n",
    "        label_col=label_col,\n",
    "        target_list=[label, \"EMPTY\"],\n",
    "        n_folds=n_folds,\n",
    "        group_col=group_col,\n",
    "        random_state=random_state,\n",
    "    )\n",
    "    label_output_dir = os.path.join(output_dir, label)\n",
    "    os.makedirs(label_output_dir, exist_ok=True)\n",
    "    for k, v in fold_data.items():\n",
    "        for i in range(len(v)):\n",
    "            fold_label_data = fold_data[k][i].to_csv(\n",
    "                os.path.join(\n",
    "                    label_output_dir, \"morph_md_{}_fold_{}.csv.gz\".format(k, i)\n",
    "                )\n",
    "            )"
   ]
  },
  {
   "cell_type": "code",
   "execution_count": 11,
   "id": "2967cc7e",
   "metadata": {
    "pycharm": {
     "name": "#%%\n"
    }
   },
   "outputs": [
    {
     "data": {
      "application/javascript": [
       "\n",
       "            setTimeout(function() {\n",
       "                var nbb_cell_id = 11;\n",
       "                var nbb_unformatted_code = \"casp8_fold_data = get_data_splits_for_label(\\n    data=md,\\n    label_col=\\\"labels\\\",\\n    target_list=[\\\"MAPK9\\\", \\\"EMPTY\\\"],\\n    n_folds=4,\\n    group_col=\\\"ImageNumber\\\",\\n    random_state=1234,\\n)\";\n",
       "                var nbb_formatted_code = \"casp8_fold_data = get_data_splits_for_label(\\n    data=md,\\n    label_col=\\\"labels\\\",\\n    target_list=[\\\"MAPK9\\\", \\\"EMPTY\\\"],\\n    n_folds=4,\\n    group_col=\\\"ImageNumber\\\",\\n    random_state=1234,\\n)\";\n",
       "                var nbb_cells = Jupyter.notebook.get_cells();\n",
       "                for (var i = 0; i < nbb_cells.length; ++i) {\n",
       "                    if (nbb_cells[i].input_prompt_number == nbb_cell_id) {\n",
       "                        if (nbb_cells[i].get_text() == nbb_unformatted_code) {\n",
       "                             nbb_cells[i].set_text(nbb_formatted_code);\n",
       "                        }\n",
       "                        break;\n",
       "                    }\n",
       "                }\n",
       "            }, 500);\n",
       "            "
      ],
      "text/plain": [
       "<IPython.core.display.Javascript object>"
      ]
     },
     "metadata": {},
     "output_type": "display_data"
    }
   ],
   "source": [
    "casp8_fold_data = get_data_splits_for_label(\n",
    "    data=md,\n",
    "    label_col=\"labels\",\n",
    "    target_list=[\"MAPK9\", \"EMPTY\"],\n",
    "    n_folds=4,\n",
    "    group_col=\"ImageNumber\",\n",
    "    random_state=1234,\n",
    ")"
   ]
  },
  {
   "cell_type": "code",
   "execution_count": 13,
   "id": "d76786a0",
   "metadata": {
    "pycharm": {
     "name": "#%%\n"
    }
   },
   "outputs": [
    {
     "name": "stdout",
     "output_type": "stream",
     "text": [
      "564 142 234\n"
     ]
    },
    {
     "data": {
      "application/javascript": [
       "\n",
       "            setTimeout(function() {\n",
       "                var nbb_cell_id = 13;\n",
       "                var nbb_unformatted_code = \"print(\\n    len(set(casp8_fold_data[\\\"train\\\"][0].ImageNumber)),\\n    len(set(casp8_fold_data[\\\"val\\\"][0].ImageNumber)),\\n    len(set(casp8_fold_data[\\\"test\\\"][0].ImageNumber)),\\n)\";\n",
       "                var nbb_formatted_code = \"print(\\n    len(set(casp8_fold_data[\\\"train\\\"][0].ImageNumber)),\\n    len(set(casp8_fold_data[\\\"val\\\"][0].ImageNumber)),\\n    len(set(casp8_fold_data[\\\"test\\\"][0].ImageNumber)),\\n)\";\n",
       "                var nbb_cells = Jupyter.notebook.get_cells();\n",
       "                for (var i = 0; i < nbb_cells.length; ++i) {\n",
       "                    if (nbb_cells[i].input_prompt_number == nbb_cell_id) {\n",
       "                        if (nbb_cells[i].get_text() == nbb_unformatted_code) {\n",
       "                             nbb_cells[i].set_text(nbb_formatted_code);\n",
       "                        }\n",
       "                        break;\n",
       "                    }\n",
       "                }\n",
       "            }, 500);\n",
       "            "
      ],
      "text/plain": [
       "<IPython.core.display.Javascript object>"
      ]
     },
     "metadata": {},
     "output_type": "display_data"
    }
   ],
   "source": [
    "print(\n",
    "    len(set(casp8_fold_data[\"train\"][0].ImageNumber)),\n",
    "    len(set(casp8_fold_data[\"val\"][0].ImageNumber)),\n",
    "    len(set(casp8_fold_data[\"test\"][0].ImageNumber)),\n",
    ")"
   ]
  },
  {
   "cell_type": "code",
   "execution_count": 14,
   "id": "54ebe484",
   "metadata": {
    "pycharm": {
     "name": "#%%\n"
    }
   },
   "outputs": [
    {
     "name": "stdout",
     "output_type": "stream",
     "text": [
      "Counter({'EMPTY': 2607, 'MAPK9': 2359}) Counter({'MAPK9': 925, 'EMPTY': 700}) Counter({'MAPK9': 1110, 'EMPTY': 1087})\n"
     ]
    },
    {
     "data": {
      "application/javascript": [
       "\n",
       "            setTimeout(function() {\n",
       "                var nbb_cell_id = 14;\n",
       "                var nbb_unformatted_code = \"from collections import Counter\\n\\nprint(\\n    Counter(casp8_fold_data[\\\"train\\\"][0].labels),\\n    Counter(casp8_fold_data[\\\"val\\\"][0].labels),\\n    Counter(casp8_fold_data[\\\"test\\\"][0].labels),\\n)\";\n",
       "                var nbb_formatted_code = \"from collections import Counter\\n\\nprint(\\n    Counter(casp8_fold_data[\\\"train\\\"][0].labels),\\n    Counter(casp8_fold_data[\\\"val\\\"][0].labels),\\n    Counter(casp8_fold_data[\\\"test\\\"][0].labels),\\n)\";\n",
       "                var nbb_cells = Jupyter.notebook.get_cells();\n",
       "                for (var i = 0; i < nbb_cells.length; ++i) {\n",
       "                    if (nbb_cells[i].input_prompt_number == nbb_cell_id) {\n",
       "                        if (nbb_cells[i].get_text() == nbb_unformatted_code) {\n",
       "                             nbb_cells[i].set_text(nbb_formatted_code);\n",
       "                        }\n",
       "                        break;\n",
       "                    }\n",
       "                }\n",
       "            }, 500);\n",
       "            "
      ],
      "text/plain": [
       "<IPython.core.display.Javascript object>"
      ]
     },
     "metadata": {},
     "output_type": "display_data"
    }
   ],
   "source": [
    "from collections import Counter\n",
    "\n",
    "print(\n",
    "    Counter(casp8_fold_data[\"train\"][0].labels),\n",
    "    Counter(casp8_fold_data[\"val\"][0].labels),\n",
    "    Counter(casp8_fold_data[\"test\"][0].labels),\n",
    ")"
   ]
  }
 ],
 "metadata": {
  "kernelspec": {
   "display_name": "Python 3",
   "language": "python",
   "name": "python3"
  },
  "language_info": {
   "codemirror_mode": {
    "name": "ipython",
    "version": 3
   },
   "file_extension": ".py",
   "mimetype": "text/x-python",
   "name": "python",
   "nbconvert_exporter": "python",
   "pygments_lexer": "ipython3",
   "version": "3.8.10"
  }
 },
 "nbformat": 4,
 "nbformat_minor": 5
}
