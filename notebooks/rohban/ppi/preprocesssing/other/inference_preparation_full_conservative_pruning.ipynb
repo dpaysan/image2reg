{
 "cells": [
  {
   "cell_type": "markdown",
   "id": "db92a0f9",
   "metadata": {},
   "source": [
    "# Prepraring the interactome inference\n",
    "\n",
    "---\n",
    "\n",
    "This notebook will be used to set the stage for the inference of the cell type specific interactome. To this end, we will be analyzing data from a scRNA-seq study, bulk sequencing data from the CCLE data set, curated gene sets e.g. from the Reactome data base and protein-protein interaction data curated in the iRefIndex data base. Additionally, we will use information regarding the specificity of the genes targeted in the overexpression study by Rohban et al. (2017). Such information are derived from preceeding analyses working on the imaging data. We will explain the used data sets further at a later stage.\n",
    "\n",
    "---"
   ]
  },
  {
   "cell_type": "markdown",
   "id": "b5448180",
   "metadata": {},
   "source": [
    "## 0. Environmental setup"
   ]
  },
  {
   "cell_type": "code",
   "execution_count": 1,
   "id": "53e897b9",
   "metadata": {},
   "outputs": [
    {
     "data": {
      "application/javascript": [
       "\n",
       "            setTimeout(function() {\n",
       "                var nbb_cell_id = 1;\n",
       "                var nbb_unformatted_code = \"import pandas as pd\\nimport scanpy as sc\\nimport numpy as np\\nimport matplotlib.pyplot as plt\\nimport seaborn as sns\\nfrom matplotlib_venn import venn3, venn3_unweighted\\nimport venn\\nimport networkx as nx\\nfrom sklearn.mixture import GaussianMixture\\nfrom scipy.stats import ttest_1samp, pearsonr, spearmanr\\nfrom statsmodels.stats.multitest import fdrcorrection\\nfrom tqdm import tqdm\\nfrom collections import Counter\\nfrom sklearn.metrics import mutual_info_score\\nimport matplotlib.cm as cm\\n\\nimport sys\\n\\nsys.path.append(\\\"../../..\\\")\\n\\nfrom src.utils.notebooks.ppi.preprocessing import *\\n\\nseed = 1234\\n\\n%load_ext nb_black\";\n",
       "                var nbb_formatted_code = \"import pandas as pd\\nimport scanpy as sc\\nimport numpy as np\\nimport matplotlib.pyplot as plt\\nimport seaborn as sns\\nfrom matplotlib_venn import venn3, venn3_unweighted\\nimport venn\\nimport networkx as nx\\nfrom sklearn.mixture import GaussianMixture\\nfrom scipy.stats import ttest_1samp, pearsonr, spearmanr\\nfrom statsmodels.stats.multitest import fdrcorrection\\nfrom tqdm import tqdm\\nfrom collections import Counter\\nfrom sklearn.metrics import mutual_info_score\\nimport matplotlib.cm as cm\\n\\nimport sys\\n\\nsys.path.append(\\\"../../..\\\")\\n\\nfrom src.utils.notebooks.ppi.preprocessing import *\\n\\nseed = 1234\\n\\n%load_ext nb_black\";\n",
       "                var nbb_cells = Jupyter.notebook.get_cells();\n",
       "                for (var i = 0; i < nbb_cells.length; ++i) {\n",
       "                    if (nbb_cells[i].input_prompt_number == nbb_cell_id) {\n",
       "                        if (nbb_cells[i].get_text() == nbb_unformatted_code) {\n",
       "                             nbb_cells[i].set_text(nbb_formatted_code);\n",
       "                        }\n",
       "                        break;\n",
       "                    }\n",
       "                }\n",
       "            }, 500);\n",
       "            "
      ],
      "text/plain": [
       "<IPython.core.display.Javascript object>"
      ]
     },
     "metadata": {},
     "output_type": "display_data"
    }
   ],
   "source": [
    "import pandas as pd\n",
    "import scanpy as sc\n",
    "import numpy as np\n",
    "import matplotlib.pyplot as plt\n",
    "import seaborn as sns\n",
    "from matplotlib_venn import venn3, venn3_unweighted\n",
    "import venn\n",
    "import networkx as nx\n",
    "from sklearn.mixture import GaussianMixture\n",
    "from scipy.stats import ttest_1samp, pearsonr, spearmanr\n",
    "from statsmodels.stats.multitest import fdrcorrection\n",
    "from tqdm import tqdm\n",
    "from collections import Counter\n",
    "from sklearn.metrics import mutual_info_score\n",
    "import matplotlib.cm as cm\n",
    "\n",
    "import sys\n",
    "\n",
    "sys.path.append(\"../../..\")\n",
    "\n",
    "from src.utils.notebooks.ppi.preprocessing import *\n",
    "\n",
    "seed = 1234\n",
    "\n",
    "%load_ext nb_black"
   ]
  },
  {
   "cell_type": "markdown",
   "id": "b3bf4c3a",
   "metadata": {},
   "source": [
    "---\n",
    "\n",
    "## 1. Read in data"
   ]
  },
  {
   "cell_type": "markdown",
   "id": "171322b3",
   "metadata": {},
   "source": [
    "We will read in a number of different data sets that we will use for our analyses: a) the single-cell gene expression data from Mahdessian et al. (2021), b) the most recent version of the CCLE expression data set, c) the list of ORF gene targets from the study by Rohban et al. (2017) and finally d) the Human PPI network as defined by the iRefIndexDB v14, e) a number of curated gene sets and f) the results of our image-based preceeding specificity screen.\n",
    "\n",
    "The gene sets we read in are those describing the Reactome pathways related to the DNA damage repair, cell cycle, chromating organization as well as the list of human transcription factors and the set corresponding to the KEGG regulation of actin cytoskeleton pathway."
   ]
  },
  {
   "cell_type": "code",
   "execution_count": 2,
   "id": "7dda020d",
   "metadata": {},
   "outputs": [
    {
     "data": {
      "text/html": [
       "<div>\n",
       "<style scoped>\n",
       "    .dataframe tbody tr th:only-of-type {\n",
       "        vertical-align: middle;\n",
       "    }\n",
       "\n",
       "    .dataframe tbody tr th {\n",
       "        vertical-align: top;\n",
       "    }\n",
       "\n",
       "    .dataframe thead th {\n",
       "        text-align: right;\n",
       "    }\n",
       "</style>\n",
       "<table border=\"1\" class=\"dataframe\">\n",
       "  <thead>\n",
       "    <tr style=\"text-align: right;\">\n",
       "      <th></th>\n",
       "      <th>TSPAN6</th>\n",
       "      <th>DPM1</th>\n",
       "      <th>SCYL3</th>\n",
       "      <th>C1ORF112</th>\n",
       "      <th>CFH</th>\n",
       "      <th>FUCA2</th>\n",
       "      <th>GCLC</th>\n",
       "      <th>NFYA</th>\n",
       "      <th>STPG1</th>\n",
       "      <th>NIPAL3</th>\n",
       "      <th>...</th>\n",
       "      <th>NOTCH2NLR</th>\n",
       "      <th>SPDYE14</th>\n",
       "      <th>DERPC</th>\n",
       "      <th>BMS1P23</th>\n",
       "      <th>LOC107986257</th>\n",
       "      <th>LOC728392</th>\n",
       "      <th>NOTCH2NLC</th>\n",
       "      <th>SPDYE11</th>\n",
       "      <th>ARMCX5-GPRASP2</th>\n",
       "      <th>LOC114841035</th>\n",
       "    </tr>\n",
       "  </thead>\n",
       "  <tbody>\n",
       "    <tr>\n",
       "      <th>A10_355</th>\n",
       "      <td>4.084212</td>\n",
       "      <td>4.450537</td>\n",
       "      <td>2.539949</td>\n",
       "      <td>3.306074</td>\n",
       "      <td>0.0</td>\n",
       "      <td>3.924660</td>\n",
       "      <td>2.747193</td>\n",
       "      <td>3.980721</td>\n",
       "      <td>3.192863</td>\n",
       "      <td>3.306074</td>\n",
       "      <td>...</td>\n",
       "      <td>0.000000</td>\n",
       "      <td>0.0</td>\n",
       "      <td>0.000000</td>\n",
       "      <td>0.000000</td>\n",
       "      <td>0.000000</td>\n",
       "      <td>0.0</td>\n",
       "      <td>3.111745</td>\n",
       "      <td>0.000000</td>\n",
       "      <td>0.0</td>\n",
       "      <td>0.0</td>\n",
       "    </tr>\n",
       "    <tr>\n",
       "      <th>A10_356</th>\n",
       "      <td>4.416176</td>\n",
       "      <td>3.408068</td>\n",
       "      <td>0.000000</td>\n",
       "      <td>3.341437</td>\n",
       "      <td>0.0</td>\n",
       "      <td>3.109879</td>\n",
       "      <td>3.637463</td>\n",
       "      <td>2.683064</td>\n",
       "      <td>2.919073</td>\n",
       "      <td>4.264037</td>\n",
       "      <td>...</td>\n",
       "      <td>0.000000</td>\n",
       "      <td>0.0</td>\n",
       "      <td>2.540241</td>\n",
       "      <td>2.038441</td>\n",
       "      <td>1.584074</td>\n",
       "      <td>0.0</td>\n",
       "      <td>0.328890</td>\n",
       "      <td>1.336015</td>\n",
       "      <td>0.0</td>\n",
       "      <td>0.0</td>\n",
       "    </tr>\n",
       "    <tr>\n",
       "      <th>A10_357</th>\n",
       "      <td>2.784883</td>\n",
       "      <td>4.266762</td>\n",
       "      <td>0.000000</td>\n",
       "      <td>3.756405</td>\n",
       "      <td>0.0</td>\n",
       "      <td>4.676425</td>\n",
       "      <td>4.027002</td>\n",
       "      <td>4.154050</td>\n",
       "      <td>3.560914</td>\n",
       "      <td>4.211993</td>\n",
       "      <td>...</td>\n",
       "      <td>3.527433</td>\n",
       "      <td>0.0</td>\n",
       "      <td>3.144496</td>\n",
       "      <td>0.000000</td>\n",
       "      <td>0.000000</td>\n",
       "      <td>0.0</td>\n",
       "      <td>3.733050</td>\n",
       "      <td>0.000000</td>\n",
       "      <td>0.0</td>\n",
       "      <td>0.0</td>\n",
       "    </tr>\n",
       "    <tr>\n",
       "      <th>A11_355</th>\n",
       "      <td>3.995154</td>\n",
       "      <td>4.196535</td>\n",
       "      <td>1.325398</td>\n",
       "      <td>3.543870</td>\n",
       "      <td>0.0</td>\n",
       "      <td>3.015254</td>\n",
       "      <td>3.015254</td>\n",
       "      <td>4.159373</td>\n",
       "      <td>0.000000</td>\n",
       "      <td>3.481722</td>\n",
       "      <td>...</td>\n",
       "      <td>0.000000</td>\n",
       "      <td>0.0</td>\n",
       "      <td>3.219861</td>\n",
       "      <td>1.930217</td>\n",
       "      <td>0.000000</td>\n",
       "      <td>0.0</td>\n",
       "      <td>2.597980</td>\n",
       "      <td>1.435097</td>\n",
       "      <td>0.0</td>\n",
       "      <td>0.0</td>\n",
       "    </tr>\n",
       "    <tr>\n",
       "      <th>A11_356</th>\n",
       "      <td>5.384314</td>\n",
       "      <td>3.358004</td>\n",
       "      <td>2.851447</td>\n",
       "      <td>2.519226</td>\n",
       "      <td>0.0</td>\n",
       "      <td>4.309559</td>\n",
       "      <td>3.807653</td>\n",
       "      <td>3.807653</td>\n",
       "      <td>3.843228</td>\n",
       "      <td>3.843228</td>\n",
       "      <td>...</td>\n",
       "      <td>0.000000</td>\n",
       "      <td>0.0</td>\n",
       "      <td>3.926349</td>\n",
       "      <td>0.000000</td>\n",
       "      <td>0.000000</td>\n",
       "      <td>0.0</td>\n",
       "      <td>0.000000</td>\n",
       "      <td>1.948682</td>\n",
       "      <td>0.0</td>\n",
       "      <td>0.0</td>\n",
       "    </tr>\n",
       "  </tbody>\n",
       "</table>\n",
       "<p>5 rows × 21445 columns</p>\n",
       "</div>"
      ],
      "text/plain": [
       "           TSPAN6      DPM1     SCYL3  C1ORF112  CFH     FUCA2      GCLC  \\\n",
       "A10_355  4.084212  4.450537  2.539949  3.306074  0.0  3.924660  2.747193   \n",
       "A10_356  4.416176  3.408068  0.000000  3.341437  0.0  3.109879  3.637463   \n",
       "A10_357  2.784883  4.266762  0.000000  3.756405  0.0  4.676425  4.027002   \n",
       "A11_355  3.995154  4.196535  1.325398  3.543870  0.0  3.015254  3.015254   \n",
       "A11_356  5.384314  3.358004  2.851447  2.519226  0.0  4.309559  3.807653   \n",
       "\n",
       "             NFYA     STPG1    NIPAL3  ...  NOTCH2NLR  SPDYE14     DERPC  \\\n",
       "A10_355  3.980721  3.192863  3.306074  ...   0.000000      0.0  0.000000   \n",
       "A10_356  2.683064  2.919073  4.264037  ...   0.000000      0.0  2.540241   \n",
       "A10_357  4.154050  3.560914  4.211993  ...   3.527433      0.0  3.144496   \n",
       "A11_355  4.159373  0.000000  3.481722  ...   0.000000      0.0  3.219861   \n",
       "A11_356  3.807653  3.843228  3.843228  ...   0.000000      0.0  3.926349   \n",
       "\n",
       "          BMS1P23  LOC107986257  LOC728392  NOTCH2NLC   SPDYE11  \\\n",
       "A10_355  0.000000      0.000000        0.0   3.111745  0.000000   \n",
       "A10_356  2.038441      1.584074        0.0   0.328890  1.336015   \n",
       "A10_357  0.000000      0.000000        0.0   3.733050  0.000000   \n",
       "A11_355  1.930217      0.000000        0.0   2.597980  1.435097   \n",
       "A11_356  0.000000      0.000000        0.0   0.000000  1.948682   \n",
       "\n",
       "         ARMCX5-GPRASP2  LOC114841035  \n",
       "A10_355             0.0           0.0  \n",
       "A10_356             0.0           0.0  \n",
       "A10_357             0.0           0.0  \n",
       "A11_355             0.0           0.0  \n",
       "A11_356             0.0           0.0  \n",
       "\n",
       "[5 rows x 21445 columns]"
      ]
     },
     "execution_count": 2,
     "metadata": {},
     "output_type": "execute_result"
    },
    {
     "data": {
      "application/javascript": [
       "\n",
       "            setTimeout(function() {\n",
       "                var nbb_cell_id = 2;\n",
       "                var nbb_unformatted_code = \"fucci_adata = sc.read(\\\"../../../data/gex/scrnaseq/fucci_adata.h5\\\")\\nfucci_adata.var_names_make_unique()\\nfucci_data = pd.DataFrame(\\n    fucci_adata.X, columns=fucci_adata.var_names, index=fucci_adata.obs_names\\n)\\nfucci_data.columns = [c.upper() for c in fucci_data.columns]\\nfucci_data.head()\";\n",
       "                var nbb_formatted_code = \"fucci_adata = sc.read(\\\"../../../data/gex/scrnaseq/fucci_adata.h5\\\")\\nfucci_adata.var_names_make_unique()\\nfucci_data = pd.DataFrame(\\n    fucci_adata.X, columns=fucci_adata.var_names, index=fucci_adata.obs_names\\n)\\nfucci_data.columns = [c.upper() for c in fucci_data.columns]\\nfucci_data.head()\";\n",
       "                var nbb_cells = Jupyter.notebook.get_cells();\n",
       "                for (var i = 0; i < nbb_cells.length; ++i) {\n",
       "                    if (nbb_cells[i].input_prompt_number == nbb_cell_id) {\n",
       "                        if (nbb_cells[i].get_text() == nbb_unformatted_code) {\n",
       "                             nbb_cells[i].set_text(nbb_formatted_code);\n",
       "                        }\n",
       "                        break;\n",
       "                    }\n",
       "                }\n",
       "            }, 500);\n",
       "            "
      ],
      "text/plain": [
       "<IPython.core.display.Javascript object>"
      ]
     },
     "metadata": {},
     "output_type": "display_data"
    }
   ],
   "source": [
    "fucci_adata = sc.read(\"../../../data/gex/scrnaseq/fucci_adata.h5\")\n",
    "fucci_adata.var_names_make_unique()\n",
    "fucci_data = pd.DataFrame(\n",
    "    fucci_adata.X, columns=fucci_adata.var_names, index=fucci_adata.obs_names\n",
    ")\n",
    "fucci_data.columns = [c.upper() for c in fucci_data.columns]\n",
    "fucci_data.head()"
   ]
  },
  {
   "cell_type": "code",
   "execution_count": 3,
   "id": "09075d2a",
   "metadata": {},
   "outputs": [
    {
     "data": {
      "application/javascript": [
       "\n",
       "            setTimeout(function() {\n",
       "                var nbb_cell_id = 3;\n",
       "                var nbb_unformatted_code = \"fucci_gene_set = set(fucci_data.columns)\";\n",
       "                var nbb_formatted_code = \"fucci_gene_set = set(fucci_data.columns)\";\n",
       "                var nbb_cells = Jupyter.notebook.get_cells();\n",
       "                for (var i = 0; i < nbb_cells.length; ++i) {\n",
       "                    if (nbb_cells[i].input_prompt_number == nbb_cell_id) {\n",
       "                        if (nbb_cells[i].get_text() == nbb_unformatted_code) {\n",
       "                             nbb_cells[i].set_text(nbb_formatted_code);\n",
       "                        }\n",
       "                        break;\n",
       "                    }\n",
       "                }\n",
       "            }, 500);\n",
       "            "
      ],
      "text/plain": [
       "<IPython.core.display.Javascript object>"
      ]
     },
     "metadata": {},
     "output_type": "display_data"
    }
   ],
   "source": [
    "fucci_gene_set = set(fucci_data.columns)"
   ]
  },
  {
   "cell_type": "markdown",
   "id": "6be95af4",
   "metadata": {},
   "source": [
    "The single-cell gene expression data from Mahdessian et al. (2021) to which we in the following refer to as FUCCI data set consists of 1'126 cells a 21'445."
   ]
  },
  {
   "cell_type": "code",
   "execution_count": 4,
   "id": "3099b325",
   "metadata": {},
   "outputs": [
    {
     "data": {
      "text/html": [
       "<div>\n",
       "<style scoped>\n",
       "    .dataframe tbody tr th:only-of-type {\n",
       "        vertical-align: middle;\n",
       "    }\n",
       "\n",
       "    .dataframe tbody tr th {\n",
       "        vertical-align: top;\n",
       "    }\n",
       "\n",
       "    .dataframe thead th {\n",
       "        text-align: right;\n",
       "    }\n",
       "</style>\n",
       "<table border=\"1\" class=\"dataframe\">\n",
       "  <thead>\n",
       "    <tr style=\"text-align: right;\">\n",
       "      <th></th>\n",
       "      <th>TSPAN6</th>\n",
       "      <th>TNMD</th>\n",
       "      <th>DPM1</th>\n",
       "      <th>SCYL3</th>\n",
       "      <th>C1ORF112</th>\n",
       "      <th>FGR</th>\n",
       "      <th>CFH</th>\n",
       "      <th>FUCA2</th>\n",
       "      <th>GCLC</th>\n",
       "      <th>NFYA</th>\n",
       "      <th>...</th>\n",
       "      <th>ARHGAP11B</th>\n",
       "      <th>AC004593.2</th>\n",
       "      <th>AC090517.4</th>\n",
       "      <th>AL160269.1</th>\n",
       "      <th>ABCF2-H2BE1</th>\n",
       "      <th>POLR2J3</th>\n",
       "      <th>H2BE1</th>\n",
       "      <th>AL445238.1</th>\n",
       "      <th>GET1-SH3BGR</th>\n",
       "      <th>AC113348.1</th>\n",
       "    </tr>\n",
       "    <tr>\n",
       "      <th>stripped_cell_line_name</th>\n",
       "      <th></th>\n",
       "      <th></th>\n",
       "      <th></th>\n",
       "      <th></th>\n",
       "      <th></th>\n",
       "      <th></th>\n",
       "      <th></th>\n",
       "      <th></th>\n",
       "      <th></th>\n",
       "      <th></th>\n",
       "      <th></th>\n",
       "      <th></th>\n",
       "      <th></th>\n",
       "      <th></th>\n",
       "      <th></th>\n",
       "      <th></th>\n",
       "      <th></th>\n",
       "      <th></th>\n",
       "      <th></th>\n",
       "      <th></th>\n",
       "      <th></th>\n",
       "    </tr>\n",
       "  </thead>\n",
       "  <tbody>\n",
       "    <tr>\n",
       "      <th>RPE1SS48</th>\n",
       "      <td>4.894818</td>\n",
       "      <td>0.000000</td>\n",
       "      <td>6.528571</td>\n",
       "      <td>2.226509</td>\n",
       "      <td>3.839960</td>\n",
       "      <td>0.000000</td>\n",
       "      <td>6.717951</td>\n",
       "      <td>6.866413</td>\n",
       "      <td>3.553361</td>\n",
       "      <td>4.172327</td>\n",
       "      <td>...</td>\n",
       "      <td>1.056584</td>\n",
       "      <td>0.014355</td>\n",
       "      <td>0.042644</td>\n",
       "      <td>0.097611</td>\n",
       "      <td>1.459432</td>\n",
       "      <td>4.562548</td>\n",
       "      <td>0.000000</td>\n",
       "      <td>0.000000</td>\n",
       "      <td>1.028569</td>\n",
       "      <td>0.0</td>\n",
       "    </tr>\n",
       "    <tr>\n",
       "      <th>HS821T</th>\n",
       "      <td>3.778209</td>\n",
       "      <td>0.084064</td>\n",
       "      <td>5.902556</td>\n",
       "      <td>2.090853</td>\n",
       "      <td>2.691534</td>\n",
       "      <td>0.028569</td>\n",
       "      <td>5.683977</td>\n",
       "      <td>6.285957</td>\n",
       "      <td>4.023255</td>\n",
       "      <td>3.624101</td>\n",
       "      <td>...</td>\n",
       "      <td>1.084064</td>\n",
       "      <td>0.028569</td>\n",
       "      <td>0.238787</td>\n",
       "      <td>0.000000</td>\n",
       "      <td>2.555816</td>\n",
       "      <td>5.545660</td>\n",
       "      <td>0.000000</td>\n",
       "      <td>0.000000</td>\n",
       "      <td>0.150560</td>\n",
       "      <td>0.0</td>\n",
       "    </tr>\n",
       "    <tr>\n",
       "      <th>HEC1B</th>\n",
       "      <td>3.733354</td>\n",
       "      <td>0.000000</td>\n",
       "      <td>5.951168</td>\n",
       "      <td>1.970854</td>\n",
       "      <td>3.471187</td>\n",
       "      <td>0.000000</td>\n",
       "      <td>1.405992</td>\n",
       "      <td>5.138733</td>\n",
       "      <td>5.219556</td>\n",
       "      <td>4.100137</td>\n",
       "      <td>...</td>\n",
       "      <td>2.182692</td>\n",
       "      <td>0.000000</td>\n",
       "      <td>0.137504</td>\n",
       "      <td>0.189034</td>\n",
       "      <td>2.632268</td>\n",
       "      <td>5.130107</td>\n",
       "      <td>0.084064</td>\n",
       "      <td>0.137504</td>\n",
       "      <td>1.063503</td>\n",
       "      <td>0.0</td>\n",
       "    </tr>\n",
       "    <tr>\n",
       "      <th>NCO2</th>\n",
       "      <td>0.238787</td>\n",
       "      <td>0.000000</td>\n",
       "      <td>5.635754</td>\n",
       "      <td>2.280956</td>\n",
       "      <td>4.106013</td>\n",
       "      <td>0.028569</td>\n",
       "      <td>5.629065</td>\n",
       "      <td>6.176123</td>\n",
       "      <td>5.450221</td>\n",
       "      <td>4.958379</td>\n",
       "      <td>...</td>\n",
       "      <td>2.272023</td>\n",
       "      <td>0.042644</td>\n",
       "      <td>0.070389</td>\n",
       "      <td>0.000000</td>\n",
       "      <td>3.163499</td>\n",
       "      <td>3.751678</td>\n",
       "      <td>0.000000</td>\n",
       "      <td>0.000000</td>\n",
       "      <td>0.659925</td>\n",
       "      <td>0.0</td>\n",
       "    </tr>\n",
       "    <tr>\n",
       "      <th>THP1</th>\n",
       "      <td>1.263034</td>\n",
       "      <td>0.000000</td>\n",
       "      <td>5.808642</td>\n",
       "      <td>2.505891</td>\n",
       "      <td>4.253989</td>\n",
       "      <td>3.023255</td>\n",
       "      <td>0.084064</td>\n",
       "      <td>5.982309</td>\n",
       "      <td>3.755956</td>\n",
       "      <td>5.360715</td>\n",
       "      <td>...</td>\n",
       "      <td>2.849999</td>\n",
       "      <td>0.070389</td>\n",
       "      <td>0.163499</td>\n",
       "      <td>0.226509</td>\n",
       "      <td>3.673556</td>\n",
       "      <td>5.983906</td>\n",
       "      <td>0.124328</td>\n",
       "      <td>0.056584</td>\n",
       "      <td>0.422233</td>\n",
       "      <td>0.0</td>\n",
       "    </tr>\n",
       "  </tbody>\n",
       "</table>\n",
       "<p>5 rows × 19177 columns</p>\n",
       "</div>"
      ],
      "text/plain": [
       "                           TSPAN6      TNMD      DPM1     SCYL3  C1ORF112  \\\n",
       "stripped_cell_line_name                                                     \n",
       "RPE1SS48                 4.894818  0.000000  6.528571  2.226509  3.839960   \n",
       "HS821T                   3.778209  0.084064  5.902556  2.090853  2.691534   \n",
       "HEC1B                    3.733354  0.000000  5.951168  1.970854  3.471187   \n",
       "NCO2                     0.238787  0.000000  5.635754  2.280956  4.106013   \n",
       "THP1                     1.263034  0.000000  5.808642  2.505891  4.253989   \n",
       "\n",
       "                              FGR       CFH     FUCA2      GCLC      NFYA  \\\n",
       "stripped_cell_line_name                                                     \n",
       "RPE1SS48                 0.000000  6.717951  6.866413  3.553361  4.172327   \n",
       "HS821T                   0.028569  5.683977  6.285957  4.023255  3.624101   \n",
       "HEC1B                    0.000000  1.405992  5.138733  5.219556  4.100137   \n",
       "NCO2                     0.028569  5.629065  6.176123  5.450221  4.958379   \n",
       "THP1                     3.023255  0.084064  5.982309  3.755956  5.360715   \n",
       "\n",
       "                         ...  ARHGAP11B  AC004593.2  AC090517.4  AL160269.1  \\\n",
       "stripped_cell_line_name  ...                                                  \n",
       "RPE1SS48                 ...   1.056584    0.014355    0.042644    0.097611   \n",
       "HS821T                   ...   1.084064    0.028569    0.238787    0.000000   \n",
       "HEC1B                    ...   2.182692    0.000000    0.137504    0.189034   \n",
       "NCO2                     ...   2.272023    0.042644    0.070389    0.000000   \n",
       "THP1                     ...   2.849999    0.070389    0.163499    0.226509   \n",
       "\n",
       "                         ABCF2-H2BE1   POLR2J3     H2BE1  AL445238.1  \\\n",
       "stripped_cell_line_name                                                \n",
       "RPE1SS48                    1.459432  4.562548  0.000000    0.000000   \n",
       "HS821T                      2.555816  5.545660  0.000000    0.000000   \n",
       "HEC1B                       2.632268  5.130107  0.084064    0.137504   \n",
       "NCO2                        3.163499  3.751678  0.000000    0.000000   \n",
       "THP1                        3.673556  5.983906  0.124328    0.056584   \n",
       "\n",
       "                         GET1-SH3BGR  AC113348.1  \n",
       "stripped_cell_line_name                           \n",
       "RPE1SS48                    1.028569         0.0  \n",
       "HS821T                      0.150560         0.0  \n",
       "HEC1B                       1.063503         0.0  \n",
       "NCO2                        0.659925         0.0  \n",
       "THP1                        0.422233         0.0  \n",
       "\n",
       "[5 rows x 19177 columns]"
      ]
     },
     "execution_count": 4,
     "metadata": {},
     "output_type": "execute_result"
    },
    {
     "data": {
      "application/javascript": [
       "\n",
       "            setTimeout(function() {\n",
       "                var nbb_cell_id = 4;\n",
       "                var nbb_unformatted_code = \"ccle_data = pd.read_csv(\\\"../../../data/gex/ccle/CCLE_expression.csv\\\", index_col=0)\\nccle_sample_info = pd.read_csv(\\n    \\\"../../../data/gex/ccle/CCLE_expression_sample_info.csv\\\", index_col=0\\n)\\nmatched_ids = set(ccle_sample_info.index).intersection(ccle_data.index)\\nccle_data = ccle_data.loc[list(matched_ids)]\\nccle_data.index = ccle_sample_info.loc[ccle_data.index, \\\"stripped_cell_line_name\\\"]\\nccle_data.columns = [c.split(\\\" \\\")[0].upper() for c in ccle_data.columns]\\nccle_data.head()\";\n",
       "                var nbb_formatted_code = \"ccle_data = pd.read_csv(\\\"../../../data/gex/ccle/CCLE_expression.csv\\\", index_col=0)\\nccle_sample_info = pd.read_csv(\\n    \\\"../../../data/gex/ccle/CCLE_expression_sample_info.csv\\\", index_col=0\\n)\\nmatched_ids = set(ccle_sample_info.index).intersection(ccle_data.index)\\nccle_data = ccle_data.loc[list(matched_ids)]\\nccle_data.index = ccle_sample_info.loc[ccle_data.index, \\\"stripped_cell_line_name\\\"]\\nccle_data.columns = [c.split(\\\" \\\")[0].upper() for c in ccle_data.columns]\\nccle_data.head()\";\n",
       "                var nbb_cells = Jupyter.notebook.get_cells();\n",
       "                for (var i = 0; i < nbb_cells.length; ++i) {\n",
       "                    if (nbb_cells[i].input_prompt_number == nbb_cell_id) {\n",
       "                        if (nbb_cells[i].get_text() == nbb_unformatted_code) {\n",
       "                             nbb_cells[i].set_text(nbb_formatted_code);\n",
       "                        }\n",
       "                        break;\n",
       "                    }\n",
       "                }\n",
       "            }, 500);\n",
       "            "
      ],
      "text/plain": [
       "<IPython.core.display.Javascript object>"
      ]
     },
     "metadata": {},
     "output_type": "display_data"
    }
   ],
   "source": [
    "ccle_data = pd.read_csv(\"../../../data/gex/ccle/CCLE_expression.csv\", index_col=0)\n",
    "ccle_sample_info = pd.read_csv(\n",
    "    \"../../../data/gex/ccle/CCLE_expression_sample_info.csv\", index_col=0\n",
    ")\n",
    "matched_ids = set(ccle_sample_info.index).intersection(ccle_data.index)\n",
    "ccle_data = ccle_data.loc[list(matched_ids)]\n",
    "ccle_data.index = ccle_sample_info.loc[ccle_data.index, \"stripped_cell_line_name\"]\n",
    "ccle_data.columns = [c.split(\" \")[0].upper() for c in ccle_data.columns]\n",
    "ccle_data.head()"
   ]
  },
  {
   "cell_type": "code",
   "execution_count": 5,
   "id": "39b73c00",
   "metadata": {},
   "outputs": [
    {
     "data": {
      "application/javascript": [
       "\n",
       "            setTimeout(function() {\n",
       "                var nbb_cell_id = 5;\n",
       "                var nbb_unformatted_code = \"ccle_gene_set = set(ccle_data.columns)\";\n",
       "                var nbb_formatted_code = \"ccle_gene_set = set(ccle_data.columns)\";\n",
       "                var nbb_cells = Jupyter.notebook.get_cells();\n",
       "                for (var i = 0; i < nbb_cells.length; ++i) {\n",
       "                    if (nbb_cells[i].input_prompt_number == nbb_cell_id) {\n",
       "                        if (nbb_cells[i].get_text() == nbb_unformatted_code) {\n",
       "                             nbb_cells[i].set_text(nbb_formatted_code);\n",
       "                        }\n",
       "                        break;\n",
       "                    }\n",
       "                }\n",
       "            }, 500);\n",
       "            "
      ],
      "text/plain": [
       "<IPython.core.display.Javascript object>"
      ]
     },
     "metadata": {},
     "output_type": "display_data"
    }
   ],
   "source": [
    "ccle_gene_set = set(ccle_data.columns)"
   ]
  },
  {
   "cell_type": "markdown",
   "id": "b5194c97",
   "metadata": {},
   "source": [
    "The second data set from the CCLE study consist of 1'378 cancer cell lines for which we obtain the expression of roughly 19'177 genes."
   ]
  },
  {
   "cell_type": "markdown",
   "id": "03613aad",
   "metadata": {},
   "source": [
    "Next, we load the previously mentioned gene sets."
   ]
  },
  {
   "cell_type": "code",
   "execution_count": 6,
   "id": "d99137d2",
   "metadata": {},
   "outputs": [
    {
     "data": {
      "application/javascript": [
       "\n",
       "            setTimeout(function() {\n",
       "                var nbb_cell_id = 6;\n",
       "                var nbb_unformatted_code = \"cell_cycle_genes = set(\\n    pd.read_csv(\\n        \\\"../../../data/other/reactome_cell_cycle.txt\\\", index_col=0, header=None\\n    ).index\\n)\";\n",
       "                var nbb_formatted_code = \"cell_cycle_genes = set(\\n    pd.read_csv(\\n        \\\"../../../data/other/reactome_cell_cycle.txt\\\", index_col=0, header=None\\n    ).index\\n)\";\n",
       "                var nbb_cells = Jupyter.notebook.get_cells();\n",
       "                for (var i = 0; i < nbb_cells.length; ++i) {\n",
       "                    if (nbb_cells[i].input_prompt_number == nbb_cell_id) {\n",
       "                        if (nbb_cells[i].get_text() == nbb_unformatted_code) {\n",
       "                             nbb_cells[i].set_text(nbb_formatted_code);\n",
       "                        }\n",
       "                        break;\n",
       "                    }\n",
       "                }\n",
       "            }, 500);\n",
       "            "
      ],
      "text/plain": [
       "<IPython.core.display.Javascript object>"
      ]
     },
     "metadata": {},
     "output_type": "display_data"
    }
   ],
   "source": [
    "cell_cycle_genes = set(\n",
    "    pd.read_csv(\n",
    "        \"../../../data/other/reactome_cell_cycle.txt\", index_col=0, header=None\n",
    "    ).index\n",
    ")"
   ]
  },
  {
   "cell_type": "code",
   "execution_count": 7,
   "id": "2dba635a",
   "metadata": {},
   "outputs": [
    {
     "data": {
      "application/javascript": [
       "\n",
       "            setTimeout(function() {\n",
       "                var nbb_cell_id = 7;\n",
       "                var nbb_unformatted_code = \"chrom_org_genes = set(\\n    pd.read_csv(\\n        \\\"../../../data/other/reactome_chrom_org.txt\\\", index_col=0, header=None\\n    ).index\\n)\";\n",
       "                var nbb_formatted_code = \"chrom_org_genes = set(\\n    pd.read_csv(\\n        \\\"../../../data/other/reactome_chrom_org.txt\\\", index_col=0, header=None\\n    ).index\\n)\";\n",
       "                var nbb_cells = Jupyter.notebook.get_cells();\n",
       "                for (var i = 0; i < nbb_cells.length; ++i) {\n",
       "                    if (nbb_cells[i].input_prompt_number == nbb_cell_id) {\n",
       "                        if (nbb_cells[i].get_text() == nbb_unformatted_code) {\n",
       "                             nbb_cells[i].set_text(nbb_formatted_code);\n",
       "                        }\n",
       "                        break;\n",
       "                    }\n",
       "                }\n",
       "            }, 500);\n",
       "            "
      ],
      "text/plain": [
       "<IPython.core.display.Javascript object>"
      ]
     },
     "metadata": {},
     "output_type": "display_data"
    }
   ],
   "source": [
    "chrom_org_genes = set(\n",
    "    pd.read_csv(\n",
    "        \"../../../data/other/reactome_chrom_org.txt\", index_col=0, header=None\n",
    "    ).index\n",
    ")"
   ]
  },
  {
   "cell_type": "code",
   "execution_count": 8,
   "id": "77f1be36",
   "metadata": {},
   "outputs": [
    {
     "data": {
      "application/javascript": [
       "\n",
       "            setTimeout(function() {\n",
       "                var nbb_cell_id = 8;\n",
       "                var nbb_unformatted_code = \"dna_repair_genes = set(\\n    pd.read_csv(\\n        \\\"../../../data/other/reactome_dna_repair.txt\\\", index_col=0, header=None\\n    ).index\\n)\";\n",
       "                var nbb_formatted_code = \"dna_repair_genes = set(\\n    pd.read_csv(\\n        \\\"../../../data/other/reactome_dna_repair.txt\\\", index_col=0, header=None\\n    ).index\\n)\";\n",
       "                var nbb_cells = Jupyter.notebook.get_cells();\n",
       "                for (var i = 0; i < nbb_cells.length; ++i) {\n",
       "                    if (nbb_cells[i].input_prompt_number == nbb_cell_id) {\n",
       "                        if (nbb_cells[i].get_text() == nbb_unformatted_code) {\n",
       "                             nbb_cells[i].set_text(nbb_formatted_code);\n",
       "                        }\n",
       "                        break;\n",
       "                    }\n",
       "                }\n",
       "            }, 500);\n",
       "            "
      ],
      "text/plain": [
       "<IPython.core.display.Javascript object>"
      ]
     },
     "metadata": {},
     "output_type": "display_data"
    }
   ],
   "source": [
    "dna_repair_genes = set(\n",
    "    pd.read_csv(\n",
    "        \"../../../data/other/reactome_dna_repair.txt\", index_col=0, header=None\n",
    "    ).index\n",
    ")"
   ]
  },
  {
   "cell_type": "code",
   "execution_count": 9,
   "id": "139116b5",
   "metadata": {},
   "outputs": [
    {
     "data": {
      "application/javascript": [
       "\n",
       "            setTimeout(function() {\n",
       "                var nbb_cell_id = 9;\n",
       "                var nbb_unformatted_code = \"reg_actin_cytoskeleton_genes = set(\\n    pd.read_csv(\\n        \\\"../../../data/other/kegg_reg_act_cytoskeleton.txt\\\", index_col=0, header=None\\n    ).index\\n)\";\n",
       "                var nbb_formatted_code = \"reg_actin_cytoskeleton_genes = set(\\n    pd.read_csv(\\n        \\\"../../../data/other/kegg_reg_act_cytoskeleton.txt\\\", index_col=0, header=None\\n    ).index\\n)\";\n",
       "                var nbb_cells = Jupyter.notebook.get_cells();\n",
       "                for (var i = 0; i < nbb_cells.length; ++i) {\n",
       "                    if (nbb_cells[i].input_prompt_number == nbb_cell_id) {\n",
       "                        if (nbb_cells[i].get_text() == nbb_unformatted_code) {\n",
       "                             nbb_cells[i].set_text(nbb_formatted_code);\n",
       "                        }\n",
       "                        break;\n",
       "                    }\n",
       "                }\n",
       "            }, 500);\n",
       "            "
      ],
      "text/plain": [
       "<IPython.core.display.Javascript object>"
      ]
     },
     "metadata": {},
     "output_type": "display_data"
    }
   ],
   "source": [
    "reg_actin_cytoskeleton_genes = set(\n",
    "    pd.read_csv(\n",
    "        \"../../../data/other/kegg_reg_act_cytoskeleton.txt\", index_col=0, header=None\n",
    "    ).index\n",
    ")"
   ]
  },
  {
   "cell_type": "code",
   "execution_count": 10,
   "id": "7bb22f51",
   "metadata": {},
   "outputs": [
    {
     "data": {
      "application/javascript": [
       "\n",
       "            setTimeout(function() {\n",
       "                var nbb_cell_id = 10;\n",
       "                var nbb_unformatted_code = \"human_tfs = set(\\n    list(\\n        pd.read_csv(\\n            \\\"../../../data/other/human_tf_list.txt\\\", index_col=0, header=None\\n        ).index\\n    )\\n)\";\n",
       "                var nbb_formatted_code = \"human_tfs = set(\\n    list(\\n        pd.read_csv(\\n            \\\"../../../data/other/human_tf_list.txt\\\", index_col=0, header=None\\n        ).index\\n    )\\n)\";\n",
       "                var nbb_cells = Jupyter.notebook.get_cells();\n",
       "                for (var i = 0; i < nbb_cells.length; ++i) {\n",
       "                    if (nbb_cells[i].input_prompt_number == nbb_cell_id) {\n",
       "                        if (nbb_cells[i].get_text() == nbb_unformatted_code) {\n",
       "                             nbb_cells[i].set_text(nbb_formatted_code);\n",
       "                        }\n",
       "                        break;\n",
       "                    }\n",
       "                }\n",
       "            }, 500);\n",
       "            "
      ],
      "text/plain": [
       "<IPython.core.display.Javascript object>"
      ]
     },
     "metadata": {},
     "output_type": "display_data"
    }
   ],
   "source": [
    "human_tfs = set(\n",
    "    list(\n",
    "        pd.read_csv(\n",
    "            \"../../../data/other/human_tf_list.txt\", index_col=0, header=None\n",
    "        ).index\n",
    "    )\n",
    ")"
   ]
  },
  {
   "cell_type": "code",
   "execution_count": 23,
   "id": "6ca32f99",
   "metadata": {},
   "outputs": [
    {
     "data": {
      "text/html": [
       "<div>\n",
       "<style scoped>\n",
       "    .dataframe tbody tr th:only-of-type {\n",
       "        vertical-align: middle;\n",
       "    }\n",
       "\n",
       "    .dataframe tbody tr th {\n",
       "        vertical-align: top;\n",
       "    }\n",
       "\n",
       "    .dataframe thead th {\n",
       "        text-align: right;\n",
       "    }\n",
       "</style>\n",
       "<table border=\"1\" class=\"dataframe\">\n",
       "  <thead>\n",
       "    <tr style=\"text-align: right;\">\n",
       "      <th></th>\n",
       "      <th>train_loss</th>\n",
       "      <th>val_loss</th>\n",
       "      <th>test_loss</th>\n",
       "      <th>train_acc</th>\n",
       "      <th>val_acc</th>\n",
       "      <th>test_acc</th>\n",
       "      <th>train_bacc</th>\n",
       "      <th>val_bacc</th>\n",
       "      <th>test_bacc</th>\n",
       "      <th>mean_balanced_accuracy</th>\n",
       "      <th>rohban_selected</th>\n",
       "      <th>mechano_pathways</th>\n",
       "      <th>selected</th>\n",
       "    </tr>\n",
       "    <tr>\n",
       "      <th>target</th>\n",
       "      <th></th>\n",
       "      <th></th>\n",
       "      <th></th>\n",
       "      <th></th>\n",
       "      <th></th>\n",
       "      <th></th>\n",
       "      <th></th>\n",
       "      <th></th>\n",
       "      <th></th>\n",
       "      <th></th>\n",
       "      <th></th>\n",
       "      <th></th>\n",
       "      <th></th>\n",
       "    </tr>\n",
       "  </thead>\n",
       "  <tbody>\n",
       "    <tr>\n",
       "      <th>ACVR1B</th>\n",
       "      <td>0.544189</td>\n",
       "      <td>0.833747</td>\n",
       "      <td>0.840600</td>\n",
       "      <td>0.691729</td>\n",
       "      <td>0.546542</td>\n",
       "      <td>0.535706</td>\n",
       "      <td>0.692468</td>\n",
       "      <td>0.542970</td>\n",
       "      <td>0.535460</td>\n",
       "      <td>0.535460</td>\n",
       "      <td>False</td>\n",
       "      <td>False</td>\n",
       "      <td>False</td>\n",
       "    </tr>\n",
       "    <tr>\n",
       "      <th>ADAM17</th>\n",
       "      <td>0.491044</td>\n",
       "      <td>0.895316</td>\n",
       "      <td>0.840601</td>\n",
       "      <td>0.760460</td>\n",
       "      <td>0.520837</td>\n",
       "      <td>0.537946</td>\n",
       "      <td>0.760125</td>\n",
       "      <td>0.545684</td>\n",
       "      <td>0.539397</td>\n",
       "      <td>0.539397</td>\n",
       "      <td>False</td>\n",
       "      <td>False</td>\n",
       "      <td>False</td>\n",
       "    </tr>\n",
       "    <tr>\n",
       "      <th>AKT1</th>\n",
       "      <td>0.464380</td>\n",
       "      <td>0.738612</td>\n",
       "      <td>0.757043</td>\n",
       "      <td>0.748430</td>\n",
       "      <td>0.666825</td>\n",
       "      <td>0.638988</td>\n",
       "      <td>0.748774</td>\n",
       "      <td>0.665762</td>\n",
       "      <td>0.638762</td>\n",
       "      <td>0.638762</td>\n",
       "      <td>True</td>\n",
       "      <td>True</td>\n",
       "      <td>False</td>\n",
       "    </tr>\n",
       "    <tr>\n",
       "      <th>AKT1S1</th>\n",
       "      <td>0.255587</td>\n",
       "      <td>0.619633</td>\n",
       "      <td>0.727752</td>\n",
       "      <td>0.892443</td>\n",
       "      <td>0.749870</td>\n",
       "      <td>0.707755</td>\n",
       "      <td>0.892200</td>\n",
       "      <td>0.750665</td>\n",
       "      <td>0.707602</td>\n",
       "      <td>0.707602</td>\n",
       "      <td>True</td>\n",
       "      <td>False</td>\n",
       "      <td>True</td>\n",
       "    </tr>\n",
       "    <tr>\n",
       "      <th>AKT2</th>\n",
       "      <td>0.534798</td>\n",
       "      <td>0.614510</td>\n",
       "      <td>0.714037</td>\n",
       "      <td>0.712890</td>\n",
       "      <td>0.698162</td>\n",
       "      <td>0.605114</td>\n",
       "      <td>0.717228</td>\n",
       "      <td>0.685532</td>\n",
       "      <td>0.608857</td>\n",
       "      <td>0.608857</td>\n",
       "      <td>False</td>\n",
       "      <td>True</td>\n",
       "      <td>False</td>\n",
       "    </tr>\n",
       "  </tbody>\n",
       "</table>\n",
       "</div>"
      ],
      "text/plain": [
       "        train_loss  val_loss  test_loss  train_acc   val_acc  test_acc  \\\n",
       "target                                                                   \n",
       "ACVR1B    0.544189  0.833747   0.840600   0.691729  0.546542  0.535706   \n",
       "ADAM17    0.491044  0.895316   0.840601   0.760460  0.520837  0.537946   \n",
       "AKT1      0.464380  0.738612   0.757043   0.748430  0.666825  0.638988   \n",
       "AKT1S1    0.255587  0.619633   0.727752   0.892443  0.749870  0.707755   \n",
       "AKT2      0.534798  0.614510   0.714037   0.712890  0.698162  0.605114   \n",
       "\n",
       "        train_bacc  val_bacc  test_bacc  mean_balanced_accuracy  \\\n",
       "target                                                            \n",
       "ACVR1B    0.692468  0.542970   0.535460                0.535460   \n",
       "ADAM17    0.760125  0.545684   0.539397                0.539397   \n",
       "AKT1      0.748774  0.665762   0.638762                0.638762   \n",
       "AKT1S1    0.892200  0.750665   0.707602                0.707602   \n",
       "AKT2      0.717228  0.685532   0.608857                0.608857   \n",
       "\n",
       "        rohban_selected  mechano_pathways  selected  \n",
       "target                                               \n",
       "ACVR1B            False             False     False  \n",
       "ADAM17            False             False     False  \n",
       "AKT1               True              True     False  \n",
       "AKT1S1             True             False      True  \n",
       "AKT2              False              True     False  "
      ]
     },
     "execution_count": 23,
     "metadata": {},
     "output_type": "execute_result"
    },
    {
     "data": {
      "application/javascript": [
       "\n",
       "            setTimeout(function() {\n",
       "                var nbb_cell_id = 23;\n",
       "                var nbb_unformatted_code = \"specificity_screen_results = pd.read_csv(\\n    \\\"../../..//data/other/specificity_screen_results_cv.csv\\\", index_col=0\\n)\\nspecificity_screen_results.head()\";\n",
       "                var nbb_formatted_code = \"specificity_screen_results = pd.read_csv(\\n    \\\"../../..//data/other/specificity_screen_results_cv.csv\\\", index_col=0\\n)\\nspecificity_screen_results.head()\";\n",
       "                var nbb_cells = Jupyter.notebook.get_cells();\n",
       "                for (var i = 0; i < nbb_cells.length; ++i) {\n",
       "                    if (nbb_cells[i].input_prompt_number == nbb_cell_id) {\n",
       "                        if (nbb_cells[i].get_text() == nbb_unformatted_code) {\n",
       "                             nbb_cells[i].set_text(nbb_formatted_code);\n",
       "                        }\n",
       "                        break;\n",
       "                    }\n",
       "                }\n",
       "            }, 500);\n",
       "            "
      ],
      "text/plain": [
       "<IPython.core.display.Javascript object>"
      ]
     },
     "metadata": {},
     "output_type": "display_data"
    }
   ],
   "source": [
    "specificity_screen_results = pd.read_csv(\n",
    "    \"../../..//data/other/specificity_screen_results_cv.csv\", index_col=0\n",
    ")\n",
    "specificity_screen_results.head()"
   ]
  },
  {
   "cell_type": "code",
   "execution_count": 24,
   "id": "7494a524",
   "metadata": {},
   "outputs": [
    {
     "data": {
      "application/javascript": [
       "\n",
       "            setTimeout(function() {\n",
       "                var nbb_cell_id = 24;\n",
       "                var nbb_unformatted_code = \"specific_targets = set(\\n    specificity_screen_results.loc[specificity_screen_results[\\\"selected\\\"] == True].index\\n)\";\n",
       "                var nbb_formatted_code = \"specific_targets = set(\\n    specificity_screen_results.loc[specificity_screen_results[\\\"selected\\\"] == True].index\\n)\";\n",
       "                var nbb_cells = Jupyter.notebook.get_cells();\n",
       "                for (var i = 0; i < nbb_cells.length; ++i) {\n",
       "                    if (nbb_cells[i].input_prompt_number == nbb_cell_id) {\n",
       "                        if (nbb_cells[i].get_text() == nbb_unformatted_code) {\n",
       "                             nbb_cells[i].set_text(nbb_formatted_code);\n",
       "                        }\n",
       "                        break;\n",
       "                    }\n",
       "                }\n",
       "            }, 500);\n",
       "            "
      ],
      "text/plain": [
       "<IPython.core.display.Javascript object>"
      ]
     },
     "metadata": {},
     "output_type": "display_data"
    }
   ],
   "source": [
    "specific_targets = set(\n",
    "    specificity_screen_results.loc[specificity_screen_results[\"selected\"] == True].index\n",
    ")"
   ]
  },
  {
   "cell_type": "markdown",
   "id": "6973d263",
   "metadata": {},
   "source": [
    "Finally we load the human PPI as curated in the iRefIndexDB v14."
   ]
  },
  {
   "cell_type": "code",
   "execution_count": 13,
   "id": "2ad62cdd",
   "metadata": {},
   "outputs": [
    {
     "data": {
      "application/javascript": [
       "\n",
       "            setTimeout(function() {\n",
       "                var nbb_cell_id = 13;\n",
       "                var nbb_unformatted_code = \"ppi_file = \\\"../../../data/ppi/input/iRefIndex_v14_MIScore_interactome_C9.costs.txt\\\"\\niref_ppi = nx.convert_matrix.from_pandas_edgelist(\\n    pd.read_csv(ppi_file, sep=\\\"\\\\t\\\"),\\n    source=\\\"protein1\\\",\\n    target=\\\"protein2\\\",\\n    edge_attr=\\\"cost\\\",\\n)\\niref_ppi.remove_edges_from(nx.selfloop_edges(iref_ppi))\\niref_ppi.name = \\\"human PPI\\\"\";\n",
       "                var nbb_formatted_code = \"ppi_file = \\\"../../../data/ppi/input/iRefIndex_v14_MIScore_interactome_C9.costs.txt\\\"\\niref_ppi = nx.convert_matrix.from_pandas_edgelist(\\n    pd.read_csv(ppi_file, sep=\\\"\\\\t\\\"),\\n    source=\\\"protein1\\\",\\n    target=\\\"protein2\\\",\\n    edge_attr=\\\"cost\\\",\\n)\\niref_ppi.remove_edges_from(nx.selfloop_edges(iref_ppi))\\niref_ppi.name = \\\"human PPI\\\"\";\n",
       "                var nbb_cells = Jupyter.notebook.get_cells();\n",
       "                for (var i = 0; i < nbb_cells.length; ++i) {\n",
       "                    if (nbb_cells[i].input_prompt_number == nbb_cell_id) {\n",
       "                        if (nbb_cells[i].get_text() == nbb_unformatted_code) {\n",
       "                             nbb_cells[i].set_text(nbb_formatted_code);\n",
       "                        }\n",
       "                        break;\n",
       "                    }\n",
       "                }\n",
       "            }, 500);\n",
       "            "
      ],
      "text/plain": [
       "<IPython.core.display.Javascript object>"
      ]
     },
     "metadata": {},
     "output_type": "display_data"
    }
   ],
   "source": [
    "ppi_file = \"../../../data/ppi/input/iRefIndex_v14_MIScore_interactome_C9.costs.txt\"\n",
    "iref_ppi = nx.convert_matrix.from_pandas_edgelist(\n",
    "    pd.read_csv(ppi_file, sep=\"\\t\"),\n",
    "    source=\"protein1\",\n",
    "    target=\"protein2\",\n",
    "    edge_attr=\"cost\",\n",
    ")\n",
    "iref_ppi.remove_edges_from(nx.selfloop_edges(iref_ppi))\n",
    "iref_ppi.name = \"human PPI\""
   ]
  },
  {
   "cell_type": "code",
   "execution_count": 14,
   "id": "9005bede",
   "metadata": {},
   "outputs": [
    {
     "data": {
      "application/javascript": [
       "\n",
       "            setTimeout(function() {\n",
       "                var nbb_cell_id = 14;\n",
       "                var nbb_unformatted_code = \"for edge in iref_ppi.edges(data=True):\\n    edge[-1][\\\"mi_score\\\"] = edge[-1][\\\"cost\\\"]\";\n",
       "                var nbb_formatted_code = \"for edge in iref_ppi.edges(data=True):\\n    edge[-1][\\\"mi_score\\\"] = edge[-1][\\\"cost\\\"]\";\n",
       "                var nbb_cells = Jupyter.notebook.get_cells();\n",
       "                for (var i = 0; i < nbb_cells.length; ++i) {\n",
       "                    if (nbb_cells[i].input_prompt_number == nbb_cell_id) {\n",
       "                        if (nbb_cells[i].get_text() == nbb_unformatted_code) {\n",
       "                             nbb_cells[i].set_text(nbb_formatted_code);\n",
       "                        }\n",
       "                        break;\n",
       "                    }\n",
       "                }\n",
       "            }, 500);\n",
       "            "
      ],
      "text/plain": [
       "<IPython.core.display.Javascript object>"
      ]
     },
     "metadata": {},
     "output_type": "display_data"
    }
   ],
   "source": [
    "for edge in iref_ppi.edges(data=True):\n",
    "    edge[-1][\"mi_score\"] = edge[-1][\"cost\"]"
   ]
  },
  {
   "cell_type": "code",
   "execution_count": 15,
   "id": "0916c0b6",
   "metadata": {},
   "outputs": [
    {
     "data": {
      "application/javascript": [
       "\n",
       "            setTimeout(function() {\n",
       "                var nbb_cell_id = 15;\n",
       "                var nbb_unformatted_code = \"ppi_gene_set = set(list(iref_ppi.nodes()))\";\n",
       "                var nbb_formatted_code = \"ppi_gene_set = set(list(iref_ppi.nodes()))\";\n",
       "                var nbb_cells = Jupyter.notebook.get_cells();\n",
       "                for (var i = 0; i < nbb_cells.length; ++i) {\n",
       "                    if (nbb_cells[i].input_prompt_number == nbb_cell_id) {\n",
       "                        if (nbb_cells[i].get_text() == nbb_unformatted_code) {\n",
       "                             nbb_cells[i].set_text(nbb_formatted_code);\n",
       "                        }\n",
       "                        break;\n",
       "                    }\n",
       "                }\n",
       "            }, 500);\n",
       "            "
      ],
      "text/plain": [
       "<IPython.core.display.Javascript object>"
      ]
     },
     "metadata": {},
     "output_type": "display_data"
    }
   ],
   "source": [
    "ppi_gene_set = set(list(iref_ppi.nodes()))"
   ]
  },
  {
   "cell_type": "code",
   "execution_count": 16,
   "id": "1c44450f",
   "metadata": {},
   "outputs": [
    {
     "name": "stdout",
     "output_type": "stream",
     "text": [
      "Name: human PPI\n",
      "Type: Graph\n",
      "Number of nodes: 15759\n",
      "Number of edges: 181955\n",
      "Average degree:  23.0922\n"
     ]
    },
    {
     "data": {
      "application/javascript": [
       "\n",
       "            setTimeout(function() {\n",
       "                var nbb_cell_id = 16;\n",
       "                var nbb_unformatted_code = \"print(nx.info(iref_ppi))\";\n",
       "                var nbb_formatted_code = \"print(nx.info(iref_ppi))\";\n",
       "                var nbb_cells = Jupyter.notebook.get_cells();\n",
       "                for (var i = 0; i < nbb_cells.length; ++i) {\n",
       "                    if (nbb_cells[i].input_prompt_number == nbb_cell_id) {\n",
       "                        if (nbb_cells[i].get_text() == nbb_unformatted_code) {\n",
       "                             nbb_cells[i].set_text(nbb_formatted_code);\n",
       "                        }\n",
       "                        break;\n",
       "                    }\n",
       "                }\n",
       "            }, 500);\n",
       "            "
      ],
      "text/plain": [
       "<IPython.core.display.Javascript object>"
      ]
     },
     "metadata": {},
     "output_type": "display_data"
    }
   ],
   "source": [
    "print(nx.info(iref_ppi))"
   ]
  },
  {
   "cell_type": "markdown",
   "id": "54ad278a",
   "metadata": {},
   "source": [
    "The network consists of 15'759 nodes and 181'955 edges with an average node degree of 23.0922."
   ]
  },
  {
   "cell_type": "markdown",
   "id": "53cb1d43",
   "metadata": {},
   "source": [
    "---\n",
    "\n",
    "## 2. Preliminary analyses\n",
    "\n",
    "Next, we will analyze the data to i.a. define the gene set that we want to focus on in the remainder of the study."
   ]
  },
  {
   "cell_type": "markdown",
   "id": "6db0ef3b",
   "metadata": {},
   "source": [
    "The Venn diagram below shows the overlap of the two gene sets with the 43 specific ORF targets from the study by Rohban et al. (2017) as well as with the ones from iRefIndexDB v14. That we will use later on as a basis to derive the interactome specific to the U2OS cells."
   ]
  },
  {
   "cell_type": "code",
   "execution_count": 20,
   "id": "86d601fa",
   "metadata": {},
   "outputs": [
    {
     "data": {
      "image/png": "[encoded data removed]",
      "text/plain": [
       "<Figure size 576x576 with 1 Axes>"
      ]
     },
     "metadata": {},
     "output_type": "display_data"
    },
    {
     "data": {
      "application/javascript": [
       "\n",
       "            setTimeout(function() {\n",
       "                var nbb_cell_id = 20;\n",
       "                var nbb_unformatted_code = \"ax = venn.venn(\\n    dict(\\n        zip(\\n            [\\n                \\\"Specific ORF targets\\\",\\n                \\\"scRNAseq (FUCCI) data\\\",\\n                \\\"CCLE bulk RNAseq data\\\",\\n                \\\"iRefIndexDB v14\\\",\\n            ],\\n            [\\n                specific_targets,\\n                fucci_gene_set,\\n                ccle_gene_set,\\n                ppi_gene_set,\\n            ],\\n        )\\n    )\\n)\";\n",
       "                var nbb_formatted_code = \"ax = venn.venn(\\n    dict(\\n        zip(\\n            [\\n                \\\"Specific ORF targets\\\",\\n                \\\"scRNAseq (FUCCI) data\\\",\\n                \\\"CCLE bulk RNAseq data\\\",\\n                \\\"iRefIndexDB v14\\\",\\n            ],\\n            [\\n                specific_targets,\\n                fucci_gene_set,\\n                ccle_gene_set,\\n                ppi_gene_set,\\n            ],\\n        )\\n    )\\n)\";\n",
       "                var nbb_cells = Jupyter.notebook.get_cells();\n",
       "                for (var i = 0; i < nbb_cells.length; ++i) {\n",
       "                    if (nbb_cells[i].input_prompt_number == nbb_cell_id) {\n",
       "                        if (nbb_cells[i].get_text() == nbb_unformatted_code) {\n",
       "                             nbb_cells[i].set_text(nbb_formatted_code);\n",
       "                        }\n",
       "                        break;\n",
       "                    }\n",
       "                }\n",
       "            }, 500);\n",
       "            "
      ],
      "text/plain": [
       "<IPython.core.display.Javascript object>"
      ]
     },
     "metadata": {},
     "output_type": "display_data"
    }
   ],
   "source": [
    "ax = venn.venn(\n",
    "    dict(\n",
    "        zip(\n",
    "            [\n",
    "                \"Specific ORF targets\",\n",
    "                \"scRNAseq (FUCCI) data\",\n",
    "                \"CCLE bulk RNAseq data\",\n",
    "                \"iRefIndexDB v14\",\n",
    "            ],\n",
    "            [\n",
    "                specific_targets,\n",
    "                fucci_gene_set,\n",
    "                ccle_gene_set,\n",
    "                ppi_gene_set,\n",
    "            ],\n",
    "        )\n",
    "    )\n",
    ")"
   ]
  },
  {
   "cell_type": "markdown",
   "id": "1681dc75",
   "metadata": {},
   "source": [
    "Going forward, we will focus on the intersection of the genes that are covered in the scRNAseq (FUCCI) data set, the CCLE bulk RNAseq data set and the iRefIndexDB v14. Note that this set does not include any ribosomal genes."
   ]
  },
  {
   "cell_type": "code",
   "execution_count": 21,
   "id": "a19dc9a4",
   "metadata": {},
   "outputs": [
    {
     "data": {
      "application/javascript": [
       "\n",
       "            setTimeout(function() {\n",
       "                var nbb_cell_id = 21;\n",
       "                var nbb_unformatted_code = \"selected_gene_set = fucci_gene_set.intersection(ppi_gene_set).intersection(\\n    ccle_gene_set\\n)\";\n",
       "                var nbb_formatted_code = \"selected_gene_set = fucci_gene_set.intersection(ppi_gene_set).intersection(\\n    ccle_gene_set\\n)\";\n",
       "                var nbb_cells = Jupyter.notebook.get_cells();\n",
       "                for (var i = 0; i < nbb_cells.length; ++i) {\n",
       "                    if (nbb_cells[i].input_prompt_number == nbb_cell_id) {\n",
       "                        if (nbb_cells[i].get_text() == nbb_unformatted_code) {\n",
       "                             nbb_cells[i].set_text(nbb_formatted_code);\n",
       "                        }\n",
       "                        break;\n",
       "                    }\n",
       "                }\n",
       "            }, 500);\n",
       "            "
      ],
      "text/plain": [
       "<IPython.core.display.Javascript object>"
      ]
     },
     "metadata": {},
     "output_type": "display_data"
    }
   ],
   "source": [
    "selected_gene_set = fucci_gene_set.intersection(ppi_gene_set).intersection(\n",
    "    ccle_gene_set\n",
    ")"
   ]
  },
  {
   "cell_type": "code",
   "execution_count": 26,
   "id": "a0fa81cb",
   "metadata": {},
   "outputs": [
    {
     "name": "stdout",
     "output_type": "stream",
     "text": [
      "{'MOS', 'CSNK1E'}\n"
     ]
    },
    {
     "data": {
      "application/javascript": [
       "\n",
       "            setTimeout(function() {\n",
       "                var nbb_cell_id = 26;\n",
       "                var nbb_unformatted_code = \"print(specific_targets - selected_gene_set)\\nspecific_targets = specific_targets.intersection(selected_gene_set)\";\n",
       "                var nbb_formatted_code = \"print(specific_targets - selected_gene_set)\\nspecific_targets = specific_targets.intersection(selected_gene_set)\";\n",
       "                var nbb_cells = Jupyter.notebook.get_cells();\n",
       "                for (var i = 0; i < nbb_cells.length; ++i) {\n",
       "                    if (nbb_cells[i].input_prompt_number == nbb_cell_id) {\n",
       "                        if (nbb_cells[i].get_text() == nbb_unformatted_code) {\n",
       "                             nbb_cells[i].set_text(nbb_formatted_code);\n",
       "                        }\n",
       "                        break;\n",
       "                    }\n",
       "                }\n",
       "            }, 500);\n",
       "            "
      ],
      "text/plain": [
       "<IPython.core.display.Javascript object>"
      ]
     },
     "metadata": {},
     "output_type": "display_data"
    }
   ],
   "source": [
    "print(specific_targets - selected_gene_set)\n",
    "specific_targets = specific_targets.intersection(selected_gene_set)"
   ]
  },
  {
   "cell_type": "markdown",
   "id": "8df1413c",
   "metadata": {},
   "source": [
    "The selected gene set consists of 13'068 genes all of which are covered in either of the two RNAseq data sets and the human PPI. Similarly, we remove MOS and CSNK1E from the set of specific ORF targets as the gene is not covered by the scRNA-seq data set or in the human PPI respectively. Thus 44/46 targets remain."
   ]
  },
  {
   "cell_type": "markdown",
   "id": "2984c5ae",
   "metadata": {},
   "source": [
    "---\n",
    "\n",
    "## 2. Identification of U2OS gene set\n",
    "\n",
    "In total we have 13'068 genes that we selected for further analyses. However, we have to yet identify those that are particularly important in the functional and thus regulatory programs of our cell type: human osteosarcoma (U2OS) cells."
   ]
  },
  {
   "cell_type": "markdown",
   "id": "c35c07de",
   "metadata": {},
   "source": [
    "### 2a. CCLE data marker screen"
   ]
  },
  {
   "cell_type": "markdown",
   "id": "6779e7ef",
   "metadata": {},
   "source": [
    "To identify the markers, we use the CCLE bulk RNAseq data set.\n",
    "This data set provides the average expression for roughly 20'000 genes for 1'378 different cancer cell lines including U2OS cells.\n",
    "\n",
    "Inspired by we identify those genes that are differentially expressed (regulated) in U2OS cells when comparing those to the background distribution from the remaining 1'377 cancer cell lines in the data set. To identify those we test for every gene if the mean expression of all other cancer cell lines is significantly different than the expression of that respective gene for U2OS cells using the bulk RNAseq data. In particular, we will test the following for each gene:"
   ]
  },
  {
   "cell_type": "markdown",
   "id": "b1f54af5",
   "metadata": {},
   "source": [
    "$$\n",
    "H_A: \\quad \\bar{x}_i = x_{i,U2OS}, \\quad \\textrm{with} \\ \\bar{x}_i=\\frac{1}{N-1}\\sum\\limits_{j\\neq U2OS}x_{i,j}\n",
    "$$\n",
    "where $x_{i,j}$ is the transformed expression of gene $i$ in cell type $j$. Note that due to the large sample size we will assume the log-transformed gene expression for each gene to approximately follow a standard normal distribution. Thus, we will perform a one sample t-test to assess the significance of any under-or overexpression."
   ]
  },
  {
   "cell_type": "markdown",
   "id": "efaeb95b",
   "metadata": {},
   "source": [
    "Note that we subset the gene set to those that are also present in both the scRNAseq data set and the human PPI."
   ]
  },
  {
   "cell_type": "code",
   "execution_count": 27,
   "id": "8c0e9bfd",
   "metadata": {},
   "outputs": [
    {
     "data": {
      "application/javascript": [
       "\n",
       "            setTimeout(function() {\n",
       "                var nbb_cell_id = 27;\n",
       "                var nbb_unformatted_code = \"ccle_data = ccle_data.loc[:, selected_gene_set]\";\n",
       "                var nbb_formatted_code = \"ccle_data = ccle_data.loc[:, selected_gene_set]\";\n",
       "                var nbb_cells = Jupyter.notebook.get_cells();\n",
       "                for (var i = 0; i < nbb_cells.length; ++i) {\n",
       "                    if (nbb_cells[i].input_prompt_number == nbb_cell_id) {\n",
       "                        if (nbb_cells[i].get_text() == nbb_unformatted_code) {\n",
       "                             nbb_cells[i].set_text(nbb_formatted_code);\n",
       "                        }\n",
       "                        break;\n",
       "                    }\n",
       "                }\n",
       "            }, 500);\n",
       "            "
      ],
      "text/plain": [
       "<IPython.core.display.Javascript object>"
      ]
     },
     "metadata": {},
     "output_type": "display_data"
    }
   ],
   "source": [
    "ccle_data = ccle_data.loc[:, selected_gene_set]"
   ]
  },
  {
   "cell_type": "code",
   "execution_count": 28,
   "id": "673c87a4",
   "metadata": {},
   "outputs": [
    {
     "data": {
      "application/javascript": [
       "\n",
       "            setTimeout(function() {\n",
       "                var nbb_cell_id = 28;\n",
       "                var nbb_unformatted_code = \"marker_results = find_markers(\\n    ccle_data,\\n    target=\\\"U2OS\\\",\\n    avg_log_fc=0.0,\\n    min_pct=0,\\n)\";\n",
       "                var nbb_formatted_code = \"marker_results = find_markers(\\n    ccle_data,\\n    target=\\\"U2OS\\\",\\n    avg_log_fc=0.0,\\n    min_pct=0,\\n)\";\n",
       "                var nbb_cells = Jupyter.notebook.get_cells();\n",
       "                for (var i = 0; i < nbb_cells.length; ++i) {\n",
       "                    if (nbb_cells[i].input_prompt_number == nbb_cell_id) {\n",
       "                        if (nbb_cells[i].get_text() == nbb_unformatted_code) {\n",
       "                             nbb_cells[i].set_text(nbb_formatted_code);\n",
       "                        }\n",
       "                        break;\n",
       "                    }\n",
       "                }\n",
       "            }, 500);\n",
       "            "
      ],
      "text/plain": [
       "<IPython.core.display.Javascript object>"
      ]
     },
     "metadata": {},
     "output_type": "display_data"
    }
   ],
   "source": [
    "marker_results = find_markers(\n",
    "    ccle_data,\n",
    "    target=\"U2OS\",\n",
    "    avg_log_fc=0.0,\n",
    "    min_pct=0,\n",
    ")"
   ]
  },
  {
   "cell_type": "markdown",
   "id": "2c11ee8a",
   "metadata": {},
   "source": [
    "The table below shows the top 10 genes that show the largest absolute log-fold change when comparing U2OS cells vs. the other cancer cell lines of the CCLE data set."
   ]
  },
  {
   "cell_type": "code",
   "execution_count": 29,
   "id": "8cd43d88",
   "metadata": {},
   "outputs": [
    {
     "data": {
      "text/html": [
       "<div>\n",
       "<style scoped>\n",
       "    .dataframe tbody tr th:only-of-type {\n",
       "        vertical-align: middle;\n",
       "    }\n",
       "\n",
       "    .dataframe tbody tr th {\n",
       "        vertical-align: top;\n",
       "    }\n",
       "\n",
       "    .dataframe thead th {\n",
       "        text-align: right;\n",
       "    }\n",
       "</style>\n",
       "<table border=\"1\" class=\"dataframe\">\n",
       "  <thead>\n",
       "    <tr style=\"text-align: right;\">\n",
       "      <th></th>\n",
       "      <th>log_expr_target</th>\n",
       "      <th>avg_log_expr_other</th>\n",
       "      <th>log_fc</th>\n",
       "      <th>abs_log_fc</th>\n",
       "      <th>pval</th>\n",
       "      <th>fdr</th>\n",
       "    </tr>\n",
       "  </thead>\n",
       "  <tbody>\n",
       "    <tr>\n",
       "      <th>DHRS2</th>\n",
       "      <td>10.913937</td>\n",
       "      <td>2.265074</td>\n",
       "      <td>8.648862</td>\n",
       "      <td>8.648862</td>\n",
       "      <td>0.0</td>\n",
       "      <td>0.0</td>\n",
       "    </tr>\n",
       "    <tr>\n",
       "      <th>PAGE2</th>\n",
       "      <td>7.891055</td>\n",
       "      <td>0.447193</td>\n",
       "      <td>7.443861</td>\n",
       "      <td>7.443861</td>\n",
       "      <td>0.0</td>\n",
       "      <td>0.0</td>\n",
       "    </tr>\n",
       "    <tr>\n",
       "      <th>HAPLN1</th>\n",
       "      <td>7.514122</td>\n",
       "      <td>0.537060</td>\n",
       "      <td>6.977062</td>\n",
       "      <td>6.977062</td>\n",
       "      <td>0.0</td>\n",
       "      <td>0.0</td>\n",
       "    </tr>\n",
       "    <tr>\n",
       "      <th>KRT81</th>\n",
       "      <td>9.080338</td>\n",
       "      <td>2.109525</td>\n",
       "      <td>6.970813</td>\n",
       "      <td>6.970813</td>\n",
       "      <td>0.0</td>\n",
       "      <td>0.0</td>\n",
       "    </tr>\n",
       "    <tr>\n",
       "      <th>PCLO</th>\n",
       "      <td>8.285310</td>\n",
       "      <td>1.510797</td>\n",
       "      <td>6.774512</td>\n",
       "      <td>6.774512</td>\n",
       "      <td>0.0</td>\n",
       "      <td>0.0</td>\n",
       "    </tr>\n",
       "    <tr>\n",
       "      <th>KRT17</th>\n",
       "      <td>9.705892</td>\n",
       "      <td>2.965366</td>\n",
       "      <td>6.740525</td>\n",
       "      <td>6.740525</td>\n",
       "      <td>0.0</td>\n",
       "      <td>0.0</td>\n",
       "    </tr>\n",
       "    <tr>\n",
       "      <th>CXCL14</th>\n",
       "      <td>6.953382</td>\n",
       "      <td>0.699980</td>\n",
       "      <td>6.253402</td>\n",
       "      <td>6.253402</td>\n",
       "      <td>0.0</td>\n",
       "      <td>0.0</td>\n",
       "    </tr>\n",
       "    <tr>\n",
       "      <th>TNNC1</th>\n",
       "      <td>7.932451</td>\n",
       "      <td>1.779374</td>\n",
       "      <td>6.153077</td>\n",
       "      <td>6.153077</td>\n",
       "      <td>0.0</td>\n",
       "      <td>0.0</td>\n",
       "    </tr>\n",
       "    <tr>\n",
       "      <th>MAGEA1</th>\n",
       "      <td>7.011898</td>\n",
       "      <td>0.922583</td>\n",
       "      <td>6.089315</td>\n",
       "      <td>6.089315</td>\n",
       "      <td>0.0</td>\n",
       "      <td>0.0</td>\n",
       "    </tr>\n",
       "    <tr>\n",
       "      <th>KRT75</th>\n",
       "      <td>6.136068</td>\n",
       "      <td>0.190374</td>\n",
       "      <td>5.945694</td>\n",
       "      <td>5.945694</td>\n",
       "      <td>0.0</td>\n",
       "      <td>0.0</td>\n",
       "    </tr>\n",
       "  </tbody>\n",
       "</table>\n",
       "</div>"
      ],
      "text/plain": [
       "        log_expr_target  avg_log_expr_other    log_fc  abs_log_fc  pval  fdr\n",
       "DHRS2         10.913937            2.265074  8.648862    8.648862   0.0  0.0\n",
       "PAGE2          7.891055            0.447193  7.443861    7.443861   0.0  0.0\n",
       "HAPLN1         7.514122            0.537060  6.977062    6.977062   0.0  0.0\n",
       "KRT81          9.080338            2.109525  6.970813    6.970813   0.0  0.0\n",
       "PCLO           8.285310            1.510797  6.774512    6.774512   0.0  0.0\n",
       "KRT17          9.705892            2.965366  6.740525    6.740525   0.0  0.0\n",
       "CXCL14         6.953382            0.699980  6.253402    6.253402   0.0  0.0\n",
       "TNNC1          7.932451            1.779374  6.153077    6.153077   0.0  0.0\n",
       "MAGEA1         7.011898            0.922583  6.089315    6.089315   0.0  0.0\n",
       "KRT75          6.136068            0.190374  5.945694    5.945694   0.0  0.0"
      ]
     },
     "execution_count": 29,
     "metadata": {},
     "output_type": "execute_result"
    },
    {
     "data": {
      "application/javascript": [
       "\n",
       "            setTimeout(function() {\n",
       "                var nbb_cell_id = 29;\n",
       "                var nbb_unformatted_code = \"marker_results.loc[(marker_results[\\\"fdr\\\"] < 0.05)].sort_values(\\n    \\\"abs_log_fc\\\", ascending=False\\n).head(10)\";\n",
       "                var nbb_formatted_code = \"marker_results.loc[(marker_results[\\\"fdr\\\"] < 0.05)].sort_values(\\n    \\\"abs_log_fc\\\", ascending=False\\n).head(10)\";\n",
       "                var nbb_cells = Jupyter.notebook.get_cells();\n",
       "                for (var i = 0; i < nbb_cells.length; ++i) {\n",
       "                    if (nbb_cells[i].input_prompt_number == nbb_cell_id) {\n",
       "                        if (nbb_cells[i].get_text() == nbb_unformatted_code) {\n",
       "                             nbb_cells[i].set_text(nbb_formatted_code);\n",
       "                        }\n",
       "                        break;\n",
       "                    }\n",
       "                }\n",
       "            }, 500);\n",
       "            "
      ],
      "text/plain": [
       "<IPython.core.display.Javascript object>"
      ]
     },
     "metadata": {},
     "output_type": "display_data"
    }
   ],
   "source": [
    "marker_results.loc[(marker_results[\"fdr\"] < 0.05)].sort_values(\n",
    "    \"abs_log_fc\", ascending=False\n",
    ").head(10)"
   ]
  },
  {
   "cell_type": "markdown",
   "id": "4aaea0f2",
   "metadata": {},
   "source": [
    "The absolute log-fold change for those roughly 13k genes exponentially decays with the maximum being 8.649. The figure below shows the absolute log-fold change for each gene in decreasing order."
   ]
  },
  {
   "cell_type": "code",
   "execution_count": 30,
   "id": "8df24b46",
   "metadata": {},
   "outputs": [
    {
     "data": {
      "image/png": "[encoded data removed]",
      "text/plain": [
       "<Figure size 432x288 with 1 Axes>"
      ]
     },
     "metadata": {
      "needs_background": "light"
     },
     "output_type": "display_data"
    },
    {
     "data": {
      "application/javascript": [
       "\n",
       "            setTimeout(function() {\n",
       "                var nbb_cell_id = 30;\n",
       "                var nbb_unformatted_code = \"plt.figure()\\nplt.plot(\\n    list(range(len(marker_results))),\\n    np.array(\\n        marker_results.sort_values(\\\"abs_log_fc\\\", ascending=False).loc[:, \\\"abs_log_fc\\\"]\\n    ),\\n)\\nplt.ylabel(\\\"Absolute logFC\\\")\\nplt.xlabel(\\\"Gene ID\\\")\\nplt.title(\\\"Absolute logFC of the expression in U2OS cells vs. other cancer cells\\\")\\nplt.show()\";\n",
       "                var nbb_formatted_code = \"plt.figure()\\nplt.plot(\\n    list(range(len(marker_results))),\\n    np.array(\\n        marker_results.sort_values(\\\"abs_log_fc\\\", ascending=False).loc[:, \\\"abs_log_fc\\\"]\\n    ),\\n)\\nplt.ylabel(\\\"Absolute logFC\\\")\\nplt.xlabel(\\\"Gene ID\\\")\\nplt.title(\\\"Absolute logFC of the expression in U2OS cells vs. other cancer cells\\\")\\nplt.show()\";\n",
       "                var nbb_cells = Jupyter.notebook.get_cells();\n",
       "                for (var i = 0; i < nbb_cells.length; ++i) {\n",
       "                    if (nbb_cells[i].input_prompt_number == nbb_cell_id) {\n",
       "                        if (nbb_cells[i].get_text() == nbb_unformatted_code) {\n",
       "                             nbb_cells[i].set_text(nbb_formatted_code);\n",
       "                        }\n",
       "                        break;\n",
       "                    }\n",
       "                }\n",
       "            }, 500);\n",
       "            "
      ],
      "text/plain": [
       "<IPython.core.display.Javascript object>"
      ]
     },
     "metadata": {},
     "output_type": "display_data"
    }
   ],
   "source": [
    "plt.figure()\n",
    "plt.plot(\n",
    "    list(range(len(marker_results))),\n",
    "    np.array(\n",
    "        marker_results.sort_values(\"abs_log_fc\", ascending=False).loc[:, \"abs_log_fc\"]\n",
    "    ),\n",
    ")\n",
    "plt.ylabel(\"Absolute logFC\")\n",
    "plt.xlabel(\"Gene ID\")\n",
    "plt.title(\"Absolute logFC of the expression in U2OS cells vs. other cancer cells\")\n",
    "plt.show()"
   ]
  },
  {
   "cell_type": "markdown",
   "id": "8b409f27",
   "metadata": {},
   "source": [
    "\n",
    "---\n",
    "\n",
    "### 2b. The specific ORF targets as U2OS marker"
   ]
  },
  {
   "cell_type": "markdown",
   "id": "e9e17a4d",
   "metadata": {},
   "source": [
    "Next, we look a little bit more in depth at specific ORF target genes that we obtained from the data of the image-based over-expression screen by Rohban et al (2017). Those genes are of particular interest for our study. Please refer to the corresponding (screen analyses) notebook for further explanation on this step."
   ]
  },
  {
   "cell_type": "markdown",
   "id": "209c75d2",
   "metadata": {},
   "source": [
    "The plots below show the previously computed absolute log-fold change for the 41 remaining specific target genes."
   ]
  },
  {
   "cell_type": "code",
   "execution_count": 31,
   "id": "dacff4a1",
   "metadata": {},
   "outputs": [
    {
     "data": {
      "image/png": "[encoded data removed]",
      "text/plain": [
       "<Figure size 720x288 with 1 Axes>"
      ]
     },
     "metadata": {
      "needs_background": "light"
     },
     "output_type": "display_data"
    },
    {
     "data": {
      "application/javascript": [
       "\n",
       "            setTimeout(function() {\n",
       "                var nbb_cell_id = 31;\n",
       "                var nbb_unformatted_code = \"orf_log_fc = marker_results.loc[\\n    set(list(marker_results.index)).intersection(specific_targets), \\\"log_fc\\\"\\n]\\norf_log_fc.sort_index().plot.bar(figsize=[10, 4], color=\\\"tab:green\\\")\\nplt.ylabel(\\\"log fold-change\\\")\\nplt.title(\\n    \\\"Log-fold change of the specific ORF targets comparing U2OS against other cancer cell lines\\\"\\n)\\nplt.show()\";\n",
       "                var nbb_formatted_code = \"orf_log_fc = marker_results.loc[\\n    set(list(marker_results.index)).intersection(specific_targets), \\\"log_fc\\\"\\n]\\norf_log_fc.sort_index().plot.bar(figsize=[10, 4], color=\\\"tab:green\\\")\\nplt.ylabel(\\\"log fold-change\\\")\\nplt.title(\\n    \\\"Log-fold change of the specific ORF targets comparing U2OS against other cancer cell lines\\\"\\n)\\nplt.show()\";\n",
       "                var nbb_cells = Jupyter.notebook.get_cells();\n",
       "                for (var i = 0; i < nbb_cells.length; ++i) {\n",
       "                    if (nbb_cells[i].input_prompt_number == nbb_cell_id) {\n",
       "                        if (nbb_cells[i].get_text() == nbb_unformatted_code) {\n",
       "                             nbb_cells[i].set_text(nbb_formatted_code);\n",
       "                        }\n",
       "                        break;\n",
       "                    }\n",
       "                }\n",
       "            }, 500);\n",
       "            "
      ],
      "text/plain": [
       "<IPython.core.display.Javascript object>"
      ]
     },
     "metadata": {},
     "output_type": "display_data"
    }
   ],
   "source": [
    "orf_log_fc = marker_results.loc[\n",
    "    set(list(marker_results.index)).intersection(specific_targets), \"log_fc\"\n",
    "]\n",
    "orf_log_fc.sort_index().plot.bar(figsize=[10, 4], color=\"tab:green\")\n",
    "plt.ylabel(\"log fold-change\")\n",
    "plt.title(\n",
    "    \"Log-fold change of the specific ORF targets comparing U2OS against other cancer cell lines\"\n",
    ")\n",
    "plt.show()"
   ]
  },
  {
   "cell_type": "markdown",
   "id": "fb5b3977",
   "metadata": {},
   "source": [
    "Importantly, we see that many of the specific ORF targets are not strongly differentially regulated in U2OS cells when compared to other cancer cell lines. This also holds true for those target genes that yielded a specific structural phenotype upon overexpression in the image-based study such as e.g. CASP8."
   ]
  },
  {
   "cell_type": "markdown",
   "id": "4cfa699b",
   "metadata": {},
   "source": [
    "We see a quite heterogenous distribution of the absolute log-fold change for the individual ORF targets as also visualized in the histogram below."
   ]
  },
  {
   "cell_type": "code",
   "execution_count": 32,
   "id": "224045c9",
   "metadata": {},
   "outputs": [
    {
     "data": {
      "image/png": "[encoded data removed]",
      "text/plain": [
       "<Figure size 432x288 with 1 Axes>"
      ]
     },
     "metadata": {
      "needs_background": "light"
     },
     "output_type": "display_data"
    },
    {
     "data": {
      "application/javascript": [
       "\n",
       "            setTimeout(function() {\n",
       "                var nbb_cell_id = 32;\n",
       "                var nbb_unformatted_code = \"orf_abs_log_fc = marker_results.loc[specific_targets, \\\"abs_log_fc\\\"]\\nfig = plt.figure()\\nsns.histplot(data=orf_abs_log_fc, bins=20)\\nplt.title(\\\"Distribution of the abs. logFC for the ORF targets\\\")\\nplt.show()\";\n",
       "                var nbb_formatted_code = \"orf_abs_log_fc = marker_results.loc[specific_targets, \\\"abs_log_fc\\\"]\\nfig = plt.figure()\\nsns.histplot(data=orf_abs_log_fc, bins=20)\\nplt.title(\\\"Distribution of the abs. logFC for the ORF targets\\\")\\nplt.show()\";\n",
       "                var nbb_cells = Jupyter.notebook.get_cells();\n",
       "                for (var i = 0; i < nbb_cells.length; ++i) {\n",
       "                    if (nbb_cells[i].input_prompt_number == nbb_cell_id) {\n",
       "                        if (nbb_cells[i].get_text() == nbb_unformatted_code) {\n",
       "                             nbb_cells[i].set_text(nbb_formatted_code);\n",
       "                        }\n",
       "                        break;\n",
       "                    }\n",
       "                }\n",
       "            }, 500);\n",
       "            "
      ],
      "text/plain": [
       "<IPython.core.display.Javascript object>"
      ]
     },
     "metadata": {},
     "output_type": "display_data"
    }
   ],
   "source": [
    "orf_abs_log_fc = marker_results.loc[specific_targets, \"abs_log_fc\"]\n",
    "fig = plt.figure()\n",
    "sns.histplot(data=orf_abs_log_fc, bins=20)\n",
    "plt.title(\"Distribution of the abs. logFC for the ORF targets\")\n",
    "plt.show()"
   ]
  },
  {
   "cell_type": "markdown",
   "id": "8f336d4f",
   "metadata": {},
   "source": [
    "Importantly, with the exception of CEBPA and FGFR3 all of those genes are fairly high expressed in wild-type U2OS cells."
   ]
  },
  {
   "cell_type": "code",
   "execution_count": 26,
   "id": "1114382c",
   "metadata": {},
   "outputs": [
    {
     "data": {
      "image/png": "[encoded data removed]",
      "text/plain": [
       "<Figure size 720x288 with 1 Axes>"
      ]
     },
     "metadata": {
      "needs_background": "light"
     },
     "output_type": "display_data"
    },
    {
     "data": {
      "application/javascript": [
       "\n",
       "            setTimeout(function() {\n",
       "                var nbb_cell_id = 26;\n",
       "                var nbb_unformatted_code = \"fucci_data.loc[:, sorted(set(specific_targets))].mean().plot.bar(figsize=[10, 4])\\nplt.ylabel(\\\"log(x+1) expression\\\")\\nplt.title(\\\"Gene expression of the specific ORF targets in the wildtype setting\\\")\\nplt.show()\";\n",
       "                var nbb_formatted_code = \"fucci_data.loc[:, sorted(set(specific_targets))].mean().plot.bar(figsize=[10, 4])\\nplt.ylabel(\\\"log(x+1) expression\\\")\\nplt.title(\\\"Gene expression of the specific ORF targets in the wildtype setting\\\")\\nplt.show()\";\n",
       "                var nbb_cells = Jupyter.notebook.get_cells();\n",
       "                for (var i = 0; i < nbb_cells.length; ++i) {\n",
       "                    if (nbb_cells[i].input_prompt_number == nbb_cell_id) {\n",
       "                        if (nbb_cells[i].get_text() == nbb_unformatted_code) {\n",
       "                             nbb_cells[i].set_text(nbb_formatted_code);\n",
       "                        }\n",
       "                        break;\n",
       "                    }\n",
       "                }\n",
       "            }, 500);\n",
       "            "
      ],
      "text/plain": [
       "<IPython.core.display.Javascript object>"
      ]
     },
     "metadata": {},
     "output_type": "display_data"
    }
   ],
   "source": [
    "fucci_data.loc[:, sorted(set(specific_targets))].mean().plot.bar(figsize=[10, 4])\n",
    "plt.ylabel(\"log(x+1) expression\")\n",
    "plt.title(\"Gene expression of the specific ORF targets in the wildtype setting\")\n",
    "plt.show()"
   ]
  },
  {
   "cell_type": "markdown",
   "id": "c5d3a260",
   "metadata": {},
   "source": [
    "We will keep that in mind for later."
   ]
  },
  {
   "cell_type": "markdown",
   "id": "ee7c9ef8",
   "metadata": {},
   "source": [
    "---\n",
    "\n",
    "## 3. Preprocessing the PPI"
   ]
  },
  {
   "cell_type": "markdown",
   "id": "a31e497e",
   "metadata": {},
   "source": [
    "After assessing the importance of each of the genes in our selected gene set as markers of U2OS cells when comparing them to other cancer cell lines, we will now turn to the human PPI. The human PPI as curated in the iRefIndex data base is constructed based on many different data sources and thus provides a rather general description of the interactive relationships of proteins respective the genes that code for those in human cell lines."
   ]
  },
  {
   "cell_type": "markdown",
   "id": "dbdfb133",
   "metadata": {},
   "source": [
    "To derive a subnetwork that is specific to U2OS cells and well capture the specific regulatory relationships of our selected gene sets in those cells, we will perform a number of preprocessing steps. \n",
    "\n",
    "\n",
    "### 3.1. Remove uncovered genes\n",
    "\n",
    "As an initial step we will focus on the subnetwork that we obtain by filtering out all genes that are not covered in both of the RNAseq data sets."
   ]
  },
  {
   "cell_type": "code",
   "execution_count": 33,
   "id": "d3ab3dd6",
   "metadata": {},
   "outputs": [
    {
     "name": "stdout",
     "output_type": "stream",
     "text": [
      "Name: filtered PPI\n",
      "Type: Graph\n",
      "Number of nodes: 13068\n",
      "Number of edges: 153980\n",
      "Average degree:  23.5660\n"
     ]
    },
    {
     "data": {
      "application/javascript": [
       "\n",
       "            setTimeout(function() {\n",
       "                var nbb_cell_id = 33;\n",
       "                var nbb_unformatted_code = \"filtered_ppi = iref_ppi.subgraph(selected_gene_set)\\nfiltered_ppi.name = \\\"filtered PPI\\\"\\nprint(nx.info(filtered_ppi))\";\n",
       "                var nbb_formatted_code = \"filtered_ppi = iref_ppi.subgraph(selected_gene_set)\\nfiltered_ppi.name = \\\"filtered PPI\\\"\\nprint(nx.info(filtered_ppi))\";\n",
       "                var nbb_cells = Jupyter.notebook.get_cells();\n",
       "                for (var i = 0; i < nbb_cells.length; ++i) {\n",
       "                    if (nbb_cells[i].input_prompt_number == nbb_cell_id) {\n",
       "                        if (nbb_cells[i].get_text() == nbb_unformatted_code) {\n",
       "                             nbb_cells[i].set_text(nbb_formatted_code);\n",
       "                        }\n",
       "                        break;\n",
       "                    }\n",
       "                }\n",
       "            }, 500);\n",
       "            "
      ],
      "text/plain": [
       "<IPython.core.display.Javascript object>"
      ]
     },
     "metadata": {},
     "output_type": "display_data"
    }
   ],
   "source": [
    "filtered_ppi = iref_ppi.subgraph(selected_gene_set)\n",
    "filtered_ppi.name = \"filtered PPI\"\n",
    "print(nx.info(filtered_ppi))"
   ]
  },
  {
   "cell_type": "markdown",
   "id": "144eb8da",
   "metadata": {},
   "source": [
    "The corresponding network consists of 13'068 nodes describing individual genes and 153'980 describing the interactive relationships between these genes."
   ]
  },
  {
   "cell_type": "markdown",
   "id": "be57dfd8",
   "metadata": {},
   "source": [
    "Note that this splits the human PPI into 110 disconnected components. However importantly the largest connected component spans all ORF targets."
   ]
  },
  {
   "cell_type": "code",
   "execution_count": 34,
   "id": "9017c189",
   "metadata": {},
   "outputs": [
    {
     "name": "stdout",
     "output_type": "stream",
     "text": [
      "Name: filtered PPI\n",
      "Type: Graph\n",
      "Number of nodes: 12956\n",
      "Number of edges: 153977\n",
      "Average degree:  23.7692\n"
     ]
    },
    {
     "data": {
      "application/javascript": [
       "\n",
       "            setTimeout(function() {\n",
       "                var nbb_cell_id = 34;\n",
       "                var nbb_unformatted_code = \"ccomps = [\\n    filtered_ppi.subgraph(c).copy() for c in nx.connected_components(filtered_ppi)\\n]\\nfiltered_ppi = ccomps[0]\\n\\nprint(nx.info(filtered_ppi))\";\n",
       "                var nbb_formatted_code = \"ccomps = [\\n    filtered_ppi.subgraph(c).copy() for c in nx.connected_components(filtered_ppi)\\n]\\nfiltered_ppi = ccomps[0]\\n\\nprint(nx.info(filtered_ppi))\";\n",
       "                var nbb_cells = Jupyter.notebook.get_cells();\n",
       "                for (var i = 0; i < nbb_cells.length; ++i) {\n",
       "                    if (nbb_cells[i].input_prompt_number == nbb_cell_id) {\n",
       "                        if (nbb_cells[i].get_text() == nbb_unformatted_code) {\n",
       "                             nbb_cells[i].set_text(nbb_formatted_code);\n",
       "                        }\n",
       "                        break;\n",
       "                    }\n",
       "                }\n",
       "            }, 500);\n",
       "            "
      ],
      "text/plain": [
       "<IPython.core.display.Javascript object>"
      ]
     },
     "metadata": {},
     "output_type": "display_data"
    }
   ],
   "source": [
    "ccomps = [\n",
    "    filtered_ppi.subgraph(c).copy() for c in nx.connected_components(filtered_ppi)\n",
    "]\n",
    "filtered_ppi = ccomps[0]\n",
    "\n",
    "print(nx.info(filtered_ppi))"
   ]
  },
  {
   "cell_type": "markdown",
   "id": "8aa6479e",
   "metadata": {},
   "source": [
    "This network consists of 12'956 nodes and 153'977 edges with an average degree of 23.76 ."
   ]
  },
  {
   "cell_type": "code",
   "execution_count": 35,
   "id": "37caaf9d",
   "metadata": {},
   "outputs": [
    {
     "data": {
      "image/png": "[encoded data removed]",
      "text/plain": [
       "<Figure size 576x576 with 1 Axes>"
      ]
     },
     "metadata": {},
     "output_type": "display_data"
    },
    {
     "data": {
      "application/javascript": [
       "\n",
       "            setTimeout(function() {\n",
       "                var nbb_cell_id = 35;\n",
       "                var nbb_unformatted_code = \"ax = venn.venn(\\n    dict(\\n        zip(\\n            [\\n                \\\"Structural regulators\\\",\\n                \\\"Filtered PPI\\\",\\n            ],\\n            [\\n                specific_targets,\\n                set(filtered_ppi.nodes()),\\n            ],\\n        )\\n    )\\n)\";\n",
       "                var nbb_formatted_code = \"ax = venn.venn(\\n    dict(\\n        zip(\\n            [\\n                \\\"Structural regulators\\\",\\n                \\\"Filtered PPI\\\",\\n            ],\\n            [\\n                specific_targets,\\n                set(filtered_ppi.nodes()),\\n            ],\\n        )\\n    )\\n)\";\n",
       "                var nbb_cells = Jupyter.notebook.get_cells();\n",
       "                for (var i = 0; i < nbb_cells.length; ++i) {\n",
       "                    if (nbb_cells[i].input_prompt_number == nbb_cell_id) {\n",
       "                        if (nbb_cells[i].get_text() == nbb_unformatted_code) {\n",
       "                             nbb_cells[i].set_text(nbb_formatted_code);\n",
       "                        }\n",
       "                        break;\n",
       "                    }\n",
       "                }\n",
       "            }, 500);\n",
       "            "
      ],
      "text/plain": [
       "<IPython.core.display.Javascript object>"
      ]
     },
     "metadata": {},
     "output_type": "display_data"
    }
   ],
   "source": [
    "ax = venn.venn(\n",
    "    dict(\n",
    "        zip(\n",
    "            [\n",
    "                \"Structural regulators\",\n",
    "                \"Filtered PPI\",\n",
    "            ],\n",
    "            [\n",
    "                specific_targets,\n",
    "                set(filtered_ppi.nodes()),\n",
    "            ],\n",
    "        )\n",
    "    )\n",
    ")"
   ]
  },
  {
   "cell_type": "markdown",
   "id": "2a7e80f2",
   "metadata": {},
   "source": [
    "This network importantly includes all 41 specific ORF targets."
   ]
  },
  {
   "cell_type": "markdown",
   "id": "0a2b2558",
   "metadata": {},
   "source": [
    "---\n",
    "\n",
    "### 3.2. Removing of low-confidence edges"
   ]
  },
  {
   "cell_type": "markdown",
   "id": "b734a38f",
   "metadata": {},
   "source": [
    "The iRefIndex data base does also contain information regarding the uncertainty of the existance of an edge between any two nodes in form of the so called MIscore."
   ]
  },
  {
   "cell_type": "markdown",
   "id": "986af1b9",
   "metadata": {},
   "source": [
    "In the following we will prune the PPI to remove low-confidence edges and respective disconnected components. To this end, we first aim to find a cut-off for the given edge costs that correspond to a measure of uncertainty for the existance of an interaction in the PPI between any pair of nodes."
   ]
  },
  {
   "cell_type": "code",
   "execution_count": 36,
   "id": "13185456",
   "metadata": {},
   "outputs": [
    {
     "name": "stderr",
     "output_type": "stream",
     "text": [
      "100%|██████████| 1000/1000 [01:43<00:00,  9.69it/s]\n"
     ]
    },
    {
     "data": {
      "application/javascript": [
       "\n",
       "            setTimeout(function() {\n",
       "                var nbb_cell_id = 36;\n",
       "                var nbb_unformatted_code = \"confidence_cutoff_search_results = search_for_confidence_cutoff(\\n    filtered_ppi, targets=specific_targets\\n)\";\n",
       "                var nbb_formatted_code = \"confidence_cutoff_search_results = search_for_confidence_cutoff(\\n    filtered_ppi, targets=specific_targets\\n)\";\n",
       "                var nbb_cells = Jupyter.notebook.get_cells();\n",
       "                for (var i = 0; i < nbb_cells.length; ++i) {\n",
       "                    if (nbb_cells[i].input_prompt_number == nbb_cell_id) {\n",
       "                        if (nbb_cells[i].get_text() == nbb_unformatted_code) {\n",
       "                             nbb_cells[i].set_text(nbb_formatted_code);\n",
       "                        }\n",
       "                        break;\n",
       "                    }\n",
       "                }\n",
       "            }, 500);\n",
       "            "
      ],
      "text/plain": [
       "<IPython.core.display.Javascript object>"
      ]
     },
     "metadata": {},
     "output_type": "display_data"
    }
   ],
   "source": [
    "confidence_cutoff_search_results = search_for_confidence_cutoff(\n",
    "    filtered_ppi, targets=specific_targets\n",
    ")"
   ]
  },
  {
   "cell_type": "markdown",
   "id": "dbc0e5ce",
   "metadata": {},
   "source": [
    "The plots below illustrate the number of nodes, number of edges the average degree and the number of covered specific ORF targets for different cutoff values for the certainty of the respective edges of the subgraph of the human PPI induced by selecting only those gene covered by the scRNA-seq data set."
   ]
  },
  {
   "cell_type": "code",
   "execution_count": 37,
   "id": "7de8a463",
   "metadata": {},
   "outputs": [
    {
     "data": {
      "text/html": [
       "<div>\n",
       "<style scoped>\n",
       "    .dataframe tbody tr th:only-of-type {\n",
       "        vertical-align: middle;\n",
       "    }\n",
       "\n",
       "    .dataframe tbody tr th {\n",
       "        vertical-align: top;\n",
       "    }\n",
       "\n",
       "    .dataframe thead th {\n",
       "        text-align: right;\n",
       "    }\n",
       "</style>\n",
       "<table border=\"1\" class=\"dataframe\">\n",
       "  <thead>\n",
       "    <tr style=\"text-align: right;\">\n",
       "      <th></th>\n",
       "      <th>cutoff</th>\n",
       "      <th>n_nodes</th>\n",
       "      <th>n_targets</th>\n",
       "      <th>n_edges</th>\n",
       "      <th>avg_degree</th>\n",
       "    </tr>\n",
       "  </thead>\n",
       "  <tbody>\n",
       "    <tr>\n",
       "      <th>562</th>\n",
       "      <td>0.562</td>\n",
       "      <td>10864</td>\n",
       "      <td>44</td>\n",
       "      <td>54485</td>\n",
       "      <td>10.030376</td>\n",
       "    </tr>\n",
       "  </tbody>\n",
       "</table>\n",
       "</div>"
      ],
      "text/plain": [
       "     cutoff  n_nodes  n_targets  n_edges  avg_degree\n",
       "562   0.562    10864         44    54485   10.030376"
      ]
     },
     "execution_count": 37,
     "metadata": {},
     "output_type": "execute_result"
    },
    {
     "data": {
      "application/javascript": [
       "\n",
       "            setTimeout(function() {\n",
       "                var nbb_cell_id = 37;\n",
       "                var nbb_unformatted_code = \"confidence_cutoff = np.array(\\n    confidence_cutoff_search_results.loc[\\n        confidence_cutoff_search_results[\\\"n_targets\\\"] == np.max(confidence_cutoff_search_results[\\\"n_targets\\\"])\\n    ]\\n    .sort_values(\\\"cutoff\\\")\\n    .loc[:, \\\"cutoff\\\"]\\n)[0]\\n\\nconfidence_cutoff_search_results.loc[\\n    confidence_cutoff_search_results[\\\"n_targets\\\"] == np.max(confidence_cutoff_search_results[\\\"n_targets\\\"])\\n].sort_values(\\\"cutoff\\\").head(1)\";\n",
       "                var nbb_formatted_code = \"confidence_cutoff = np.array(\\n    confidence_cutoff_search_results.loc[\\n        confidence_cutoff_search_results[\\\"n_targets\\\"]\\n        == np.max(confidence_cutoff_search_results[\\\"n_targets\\\"])\\n    ]\\n    .sort_values(\\\"cutoff\\\")\\n    .loc[:, \\\"cutoff\\\"]\\n)[0]\\n\\nconfidence_cutoff_search_results.loc[\\n    confidence_cutoff_search_results[\\\"n_targets\\\"]\\n    == np.max(confidence_cutoff_search_results[\\\"n_targets\\\"])\\n].sort_values(\\\"cutoff\\\").head(1)\";\n",
       "                var nbb_cells = Jupyter.notebook.get_cells();\n",
       "                for (var i = 0; i < nbb_cells.length; ++i) {\n",
       "                    if (nbb_cells[i].input_prompt_number == nbb_cell_id) {\n",
       "                        if (nbb_cells[i].get_text() == nbb_unformatted_code) {\n",
       "                             nbb_cells[i].set_text(nbb_formatted_code);\n",
       "                        }\n",
       "                        break;\n",
       "                    }\n",
       "                }\n",
       "            }, 500);\n",
       "            "
      ],
      "text/plain": [
       "<IPython.core.display.Javascript object>"
      ]
     },
     "metadata": {},
     "output_type": "display_data"
    }
   ],
   "source": [
    "confidence_cutoff = np.array(\n",
    "    confidence_cutoff_search_results.loc[\n",
    "        confidence_cutoff_search_results[\"n_targets\"]\n",
    "        == np.max(confidence_cutoff_search_results[\"n_targets\"])\n",
    "    ]\n",
    "    .sort_values(\"cutoff\")\n",
    "    .loc[:, \"cutoff\"]\n",
    ")[0]\n",
    "\n",
    "confidence_cutoff_search_results.loc[\n",
    "    confidence_cutoff_search_results[\"n_targets\"]\n",
    "    == np.max(confidence_cutoff_search_results[\"n_targets\"])\n",
    "].sort_values(\"cutoff\").head(1)"
   ]
  },
  {
   "cell_type": "code",
   "execution_count": 38,
   "id": "3ee4c27b",
   "metadata": {},
   "outputs": [
    {
     "data": {
      "image/png": "[encoded data removed]",
      "text/plain": [
       "<Figure size 720x576 with 4 Axes>"
      ]
     },
     "metadata": {
      "needs_background": "light"
     },
     "output_type": "display_data"
    },
    {
     "data": {
      "application/javascript": [
       "\n",
       "            setTimeout(function() {\n",
       "                var nbb_cell_id = 38;\n",
       "                var nbb_unformatted_code = \"fig, ax = plt.subplots(nrows=2, ncols=2, figsize=[10, 8])\\nax = ax.flatten()\\nsns.lineplot(data=confidence_cutoff_search_results, x=\\\"cutoff\\\", y=\\\"n_nodes\\\", ax=ax[0])\\nax[0].axvline(x=confidence_cutoff, color=\\\"r\\\")\\nsns.lineplot(data=confidence_cutoff_search_results, x=\\\"cutoff\\\", y=\\\"n_edges\\\", ax=ax[1])\\nax[1].axvline(x=confidence_cutoff, color=\\\"r\\\")\\nsns.lineplot(data=confidence_cutoff_search_results, x=\\\"cutoff\\\", y=\\\"n_targets\\\", ax=ax[2])\\nax[2].axvline(x=confidence_cutoff, color=\\\"r\\\")\\nsns.lineplot(\\n    data=confidence_cutoff_search_results, x=\\\"cutoff\\\", y=\\\"avg_degree\\\", ax=ax[3]\\n)\\nax[3].axvline(x=confidence_cutoff, color=\\\"r\\\")\\nplt.show()\";\n",
       "                var nbb_formatted_code = \"fig, ax = plt.subplots(nrows=2, ncols=2, figsize=[10, 8])\\nax = ax.flatten()\\nsns.lineplot(data=confidence_cutoff_search_results, x=\\\"cutoff\\\", y=\\\"n_nodes\\\", ax=ax[0])\\nax[0].axvline(x=confidence_cutoff, color=\\\"r\\\")\\nsns.lineplot(data=confidence_cutoff_search_results, x=\\\"cutoff\\\", y=\\\"n_edges\\\", ax=ax[1])\\nax[1].axvline(x=confidence_cutoff, color=\\\"r\\\")\\nsns.lineplot(data=confidence_cutoff_search_results, x=\\\"cutoff\\\", y=\\\"n_targets\\\", ax=ax[2])\\nax[2].axvline(x=confidence_cutoff, color=\\\"r\\\")\\nsns.lineplot(\\n    data=confidence_cutoff_search_results, x=\\\"cutoff\\\", y=\\\"avg_degree\\\", ax=ax[3]\\n)\\nax[3].axvline(x=confidence_cutoff, color=\\\"r\\\")\\nplt.show()\";\n",
       "                var nbb_cells = Jupyter.notebook.get_cells();\n",
       "                for (var i = 0; i < nbb_cells.length; ++i) {\n",
       "                    if (nbb_cells[i].input_prompt_number == nbb_cell_id) {\n",
       "                        if (nbb_cells[i].get_text() == nbb_unformatted_code) {\n",
       "                             nbb_cells[i].set_text(nbb_formatted_code);\n",
       "                        }\n",
       "                        break;\n",
       "                    }\n",
       "                }\n",
       "            }, 500);\n",
       "            "
      ],
      "text/plain": [
       "<IPython.core.display.Javascript object>"
      ]
     },
     "metadata": {},
     "output_type": "display_data"
    }
   ],
   "source": [
    "fig, ax = plt.subplots(nrows=2, ncols=2, figsize=[10, 8])\n",
    "ax = ax.flatten()\n",
    "sns.lineplot(data=confidence_cutoff_search_results, x=\"cutoff\", y=\"n_nodes\", ax=ax[0])\n",
    "ax[0].axvline(x=confidence_cutoff, color=\"r\")\n",
    "sns.lineplot(data=confidence_cutoff_search_results, x=\"cutoff\", y=\"n_edges\", ax=ax[1])\n",
    "ax[1].axvline(x=confidence_cutoff, color=\"r\")\n",
    "sns.lineplot(data=confidence_cutoff_search_results, x=\"cutoff\", y=\"n_targets\", ax=ax[2])\n",
    "ax[2].axvline(x=confidence_cutoff, color=\"r\")\n",
    "sns.lineplot(\n",
    "    data=confidence_cutoff_search_results, x=\"cutoff\", y=\"avg_degree\", ax=ax[3]\n",
    ")\n",
    "ax[3].axvline(x=confidence_cutoff, color=\"r\")\n",
    "plt.show()"
   ]
  },
  {
   "cell_type": "markdown",
   "id": "813dc82c",
   "metadata": {},
   "source": [
    "We see that the average degree and the number of edges jumps at a level around 0.6. Importantly, at this point all 41 remaining specific ORF targets are covered in the induced subgraph. Thus, we will prune the network to remove all edges with a cost higher than the highest edge prize connecting any of the targets, i.e. the minimum cutoff value for which the number of targets that are covered in the respective subgraph (41)."
   ]
  },
  {
   "cell_type": "markdown",
   "id": "e182dd7e",
   "metadata": {},
   "source": [
    "That is the case for a cutoff of 0.562. At this point the induced subgraph consists of 10'864 nodes and 54'485 edges and an average node degree of 10.03."
   ]
  },
  {
   "cell_type": "code",
   "execution_count": 39,
   "id": "a3fab51a",
   "metadata": {},
   "outputs": [
    {
     "data": {
      "application/javascript": [
       "\n",
       "            setTimeout(function() {\n",
       "                var nbb_cell_id = 39;\n",
       "                var nbb_unformatted_code = \"filtered_ppi_edge_list = nx.to_pandas_edgelist(filtered_ppi)\\nfiltered_ppi_edge_list.loc[:, \\\"mi_score\\\"] = np.array(filtered_ppi_edge_list[\\\"cost\\\"])\\npruned_ppi = nx.from_pandas_edgelist(\\n    filtered_ppi_edge_list.loc[filtered_ppi_edge_list[\\\"cost\\\"] < 0.562, :],\\n    edge_attr=\\\"mi_score\\\",\\n)\";\n",
       "                var nbb_formatted_code = \"filtered_ppi_edge_list = nx.to_pandas_edgelist(filtered_ppi)\\nfiltered_ppi_edge_list.loc[:, \\\"mi_score\\\"] = np.array(filtered_ppi_edge_list[\\\"cost\\\"])\\npruned_ppi = nx.from_pandas_edgelist(\\n    filtered_ppi_edge_list.loc[filtered_ppi_edge_list[\\\"cost\\\"] < 0.562, :],\\n    edge_attr=\\\"mi_score\\\",\\n)\";\n",
       "                var nbb_cells = Jupyter.notebook.get_cells();\n",
       "                for (var i = 0; i < nbb_cells.length; ++i) {\n",
       "                    if (nbb_cells[i].input_prompt_number == nbb_cell_id) {\n",
       "                        if (nbb_cells[i].get_text() == nbb_unformatted_code) {\n",
       "                             nbb_cells[i].set_text(nbb_formatted_code);\n",
       "                        }\n",
       "                        break;\n",
       "                    }\n",
       "                }\n",
       "            }, 500);\n",
       "            "
      ],
      "text/plain": [
       "<IPython.core.display.Javascript object>"
      ]
     },
     "metadata": {},
     "output_type": "display_data"
    }
   ],
   "source": [
    "filtered_ppi_edge_list = nx.to_pandas_edgelist(filtered_ppi)\n",
    "filtered_ppi_edge_list.loc[:, \"mi_score\"] = np.array(filtered_ppi_edge_list[\"cost\"])\n",
    "pruned_ppi = nx.from_pandas_edgelist(\n",
    "    filtered_ppi_edge_list.loc[filtered_ppi_edge_list[\"cost\"] < 0.562, :],\n",
    "    edge_attr=\"mi_score\",\n",
    ")"
   ]
  },
  {
   "cell_type": "markdown",
   "id": "ef06f6f3",
   "metadata": {},
   "source": [
    "The pruned PPI consists of 26 connected components. Importantly, all 185 ORF targets are covered in the largest connected component that spans 10'809 nodes and 54'455 edges."
   ]
  },
  {
   "cell_type": "code",
   "execution_count": 40,
   "id": "29660067",
   "metadata": {},
   "outputs": [
    {
     "name": "stdout",
     "output_type": "stream",
     "text": [
      "Number of connected components: 26\n",
      "Name: Largest connected component\n",
      "Type: Graph\n",
      "Number of nodes: 10809\n",
      "Number of edges: 54455\n",
      "Average degree:  10.0759\n"
     ]
    },
    {
     "data": {
      "image/png": "[encoded data removed]",
      "text/plain": [
       "<Figure size 576x576 with 1 Axes>"
      ]
     },
     "metadata": {},
     "output_type": "display_data"
    },
    {
     "data": {
      "application/javascript": [
       "\n",
       "            setTimeout(function() {\n",
       "                var nbb_cell_id = 40;\n",
       "                var nbb_unformatted_code = \"ccomps = [pruned_ppi.subgraph(c).copy() for c in nx.connected_components(pruned_ppi)]\\nprint(\\\"Number of connected components:\\\", len(ccomps))\\nlargest_ccomp = ccomps[0]\\nlargest_ccomp.name = \\\"Largest connected component\\\"\\nax = venn.venn(\\n    dict(\\n        zip(\\n            [\\n                \\\"Specific ORF targets\\\",\\n                \\\"Largest connected component\\\",\\n            ],\\n            [specific_targets, set(largest_ccomp.nodes())],\\n        )\\n    ),\\n    legend_loc=\\\"upper center\\\",\\n)\\nprint(nx.info(largest_ccomp))\";\n",
       "                var nbb_formatted_code = \"ccomps = [pruned_ppi.subgraph(c).copy() for c in nx.connected_components(pruned_ppi)]\\nprint(\\\"Number of connected components:\\\", len(ccomps))\\nlargest_ccomp = ccomps[0]\\nlargest_ccomp.name = \\\"Largest connected component\\\"\\nax = venn.venn(\\n    dict(\\n        zip(\\n            [\\n                \\\"Specific ORF targets\\\",\\n                \\\"Largest connected component\\\",\\n            ],\\n            [specific_targets, set(largest_ccomp.nodes())],\\n        )\\n    ),\\n    legend_loc=\\\"upper center\\\",\\n)\\nprint(nx.info(largest_ccomp))\";\n",
       "                var nbb_cells = Jupyter.notebook.get_cells();\n",
       "                for (var i = 0; i < nbb_cells.length; ++i) {\n",
       "                    if (nbb_cells[i].input_prompt_number == nbb_cell_id) {\n",
       "                        if (nbb_cells[i].get_text() == nbb_unformatted_code) {\n",
       "                             nbb_cells[i].set_text(nbb_formatted_code);\n",
       "                        }\n",
       "                        break;\n",
       "                    }\n",
       "                }\n",
       "            }, 500);\n",
       "            "
      ],
      "text/plain": [
       "<IPython.core.display.Javascript object>"
      ]
     },
     "metadata": {},
     "output_type": "display_data"
    }
   ],
   "source": [
    "ccomps = [pruned_ppi.subgraph(c).copy() for c in nx.connected_components(pruned_ppi)]\n",
    "print(\"Number of connected components:\", len(ccomps))\n",
    "largest_ccomp = ccomps[0]\n",
    "largest_ccomp.name = \"Largest connected component\"\n",
    "ax = venn.venn(\n",
    "    dict(\n",
    "        zip(\n",
    "            [\n",
    "                \"Specific ORF targets\",\n",
    "                \"Largest connected component\",\n",
    "            ],\n",
    "            [specific_targets, set(largest_ccomp.nodes())],\n",
    "        )\n",
    "    ),\n",
    "    legend_loc=\"upper center\",\n",
    ")\n",
    "print(nx.info(largest_ccomp))"
   ]
  },
  {
   "cell_type": "markdown",
   "id": "4523de93",
   "metadata": {},
   "source": [
    "Note that the largest connected component still includes all specific ORF targets previously covered by the PPI where we filtered out those genes not in the RNAseq data sets."
   ]
  },
  {
   "cell_type": "markdown",
   "id": "5dc75fe5",
   "metadata": {},
   "source": [
    "We will continue to work with that largest component for the consecutive analyses."
   ]
  },
  {
   "cell_type": "code",
   "execution_count": 41,
   "id": "91a26ad3",
   "metadata": {},
   "outputs": [
    {
     "data": {
      "application/javascript": [
       "\n",
       "            setTimeout(function() {\n",
       "                var nbb_cell_id = 41;\n",
       "                var nbb_unformatted_code = \"pruned_ppi = largest_ccomp\\npruned_ppi.name = \\\"confidence_pruned_ppi\\\"\";\n",
       "                var nbb_formatted_code = \"pruned_ppi = largest_ccomp\\npruned_ppi.name = \\\"confidence_pruned_ppi\\\"\";\n",
       "                var nbb_cells = Jupyter.notebook.get_cells();\n",
       "                for (var i = 0; i < nbb_cells.length; ++i) {\n",
       "                    if (nbb_cells[i].input_prompt_number == nbb_cell_id) {\n",
       "                        if (nbb_cells[i].get_text() == nbb_unformatted_code) {\n",
       "                             nbb_cells[i].set_text(nbb_formatted_code);\n",
       "                        }\n",
       "                        break;\n",
       "                    }\n",
       "                }\n",
       "            }, 500);\n",
       "            "
      ],
      "text/plain": [
       "<IPython.core.display.Javascript object>"
      ]
     },
     "metadata": {},
     "output_type": "display_data"
    }
   ],
   "source": [
    "pruned_ppi = largest_ccomp\n",
    "pruned_ppi.name = \"confidence_pruned_ppi\""
   ]
  },
  {
   "cell_type": "markdown",
   "id": "a936fcca",
   "metadata": {},
   "source": [
    "---\n",
    "\n",
    "### 3.3 Remove hub nodes"
   ]
  },
  {
   "cell_type": "markdown",
   "id": "d15004d0",
   "metadata": {},
   "source": [
    "Next, we will further analyze the network and aim to reduce its connectivity by excluding large hub-nodes that are of less interest for our further analyses and might disguise important indirect links between certain targets.\n",
    "Thus, let us look at the distribution of the degrees of the nodes in the network."
   ]
  },
  {
   "cell_type": "code",
   "execution_count": 42,
   "id": "e7bf58b3",
   "metadata": {},
   "outputs": [
    {
     "data": {
      "image/png": "[encoded data removed]",
      "text/plain": [
       "<Figure size 432x288 with 1 Axes>"
      ]
     },
     "metadata": {
      "needs_background": "light"
     },
     "output_type": "display_data"
    },
    {
     "data": {
      "application/javascript": [
       "\n",
       "            setTimeout(function() {\n",
       "                var nbb_cell_id = 42;\n",
       "                var nbb_unformatted_code = \"degree_freq = nx.degree_histogram(pruned_ppi)\\ndegrees = range(len(degree_freq))\\nplt.loglog(degrees, degree_freq)\\nplt.xlabel(\\\"Degree\\\")\\nplt.ylabel(\\\"Frequency\\\")\\nplt.title(\\\"Log-log plot of the degree distribution\\\")\\nplt.show()\";\n",
       "                var nbb_formatted_code = \"degree_freq = nx.degree_histogram(pruned_ppi)\\ndegrees = range(len(degree_freq))\\nplt.loglog(degrees, degree_freq)\\nplt.xlabel(\\\"Degree\\\")\\nplt.ylabel(\\\"Frequency\\\")\\nplt.title(\\\"Log-log plot of the degree distribution\\\")\\nplt.show()\";\n",
       "                var nbb_cells = Jupyter.notebook.get_cells();\n",
       "                for (var i = 0; i < nbb_cells.length; ++i) {\n",
       "                    if (nbb_cells[i].input_prompt_number == nbb_cell_id) {\n",
       "                        if (nbb_cells[i].get_text() == nbb_unformatted_code) {\n",
       "                             nbb_cells[i].set_text(nbb_formatted_code);\n",
       "                        }\n",
       "                        break;\n",
       "                    }\n",
       "                }\n",
       "            }, 500);\n",
       "            "
      ],
      "text/plain": [
       "<IPython.core.display.Javascript object>"
      ]
     },
     "metadata": {},
     "output_type": "display_data"
    }
   ],
   "source": [
    "degree_freq = nx.degree_histogram(pruned_ppi)\n",
    "degrees = range(len(degree_freq))\n",
    "plt.loglog(degrees, degree_freq)\n",
    "plt.xlabel(\"Degree\")\n",
    "plt.ylabel(\"Frequency\")\n",
    "plt.title(\"Log-log plot of the degree distribution\")\n",
    "plt.show()"
   ]
  },
  {
   "cell_type": "markdown",
   "id": "d9bb84b5",
   "metadata": {},
   "source": [
    "We see that there are a few nodes with extreme high degrees. In order to avoid a bias for those nodes in the downstream task of inferring the U2OS specific interactome, we will remove some of such hub nodes from the interactome. This is further motivated by the fact that we would like to emphasize the differences between individual pathways in which our observed specific ORF targets are included.\n",
    "\n",
    "We pursue a conservative prunning approach here and only remove the three nodes with the highest degree."
   ]
  },
  {
   "cell_type": "code",
   "execution_count": 43,
   "id": "b77b19fd",
   "metadata": {},
   "outputs": [
    {
     "data": {
      "application/javascript": [
       "\n",
       "            setTimeout(function() {\n",
       "                var nbb_cell_id = 43;\n",
       "                var nbb_unformatted_code = \"degrees_dict = dict(pruned_ppi.degree())\\ndegrees_dict = {\\n    k: v\\n    for k, v in sorted(degrees_dict.items(), key=lambda item: item[1], reverse=True)\\n}\\nnodes = np.array(list(degrees_dict.keys()))\\ndegrees = np.array(list(degrees_dict.values()))\";\n",
       "                var nbb_formatted_code = \"degrees_dict = dict(pruned_ppi.degree())\\ndegrees_dict = {\\n    k: v\\n    for k, v in sorted(degrees_dict.items(), key=lambda item: item[1], reverse=True)\\n}\\nnodes = np.array(list(degrees_dict.keys()))\\ndegrees = np.array(list(degrees_dict.values()))\";\n",
       "                var nbb_cells = Jupyter.notebook.get_cells();\n",
       "                for (var i = 0; i < nbb_cells.length; ++i) {\n",
       "                    if (nbb_cells[i].input_prompt_number == nbb_cell_id) {\n",
       "                        if (nbb_cells[i].get_text() == nbb_unformatted_code) {\n",
       "                             nbb_cells[i].set_text(nbb_formatted_code);\n",
       "                        }\n",
       "                        break;\n",
       "                    }\n",
       "                }\n",
       "            }, 500);\n",
       "            "
      ],
      "text/plain": [
       "<IPython.core.display.Javascript object>"
      ]
     },
     "metadata": {},
     "output_type": "display_data"
    }
   ],
   "source": [
    "degrees_dict = dict(pruned_ppi.degree())\n",
    "degrees_dict = {\n",
    "    k: v\n",
    "    for k, v in sorted(degrees_dict.items(), key=lambda item: item[1], reverse=True)\n",
    "}\n",
    "nodes = np.array(list(degrees_dict.keys()))\n",
    "degrees = np.array(list(degrees_dict.values()))"
   ]
  },
  {
   "cell_type": "code",
   "execution_count": 46,
   "id": "90b71118",
   "metadata": {},
   "outputs": [
    {
     "data": {
      "application/javascript": [
       "\n",
       "            setTimeout(function() {\n",
       "                var nbb_cell_id = 46;\n",
       "                var nbb_unformatted_code = \"hubnodes = set(nodes[:3])\\nnon_hubnodes = set(pruned_ppi.nodes()) - hubnodes\";\n",
       "                var nbb_formatted_code = \"hubnodes = set(nodes[:3])\\nnon_hubnodes = set(pruned_ppi.nodes()) - hubnodes\";\n",
       "                var nbb_cells = Jupyter.notebook.get_cells();\n",
       "                for (var i = 0; i < nbb_cells.length; ++i) {\n",
       "                    if (nbb_cells[i].input_prompt_number == nbb_cell_id) {\n",
       "                        if (nbb_cells[i].get_text() == nbb_unformatted_code) {\n",
       "                             nbb_cells[i].set_text(nbb_formatted_code);\n",
       "                        }\n",
       "                        break;\n",
       "                    }\n",
       "                }\n",
       "            }, 500);\n",
       "            "
      ],
      "text/plain": [
       "<IPython.core.display.Javascript object>"
      ]
     },
     "metadata": {},
     "output_type": "display_data"
    }
   ],
   "source": [
    "hubnodes = set(nodes[:3])\n",
    "non_hubnodes = set(pruned_ppi.nodes()) - hubnodes"
   ]
  },
  {
   "cell_type": "code",
   "execution_count": 47,
   "id": "f4ee02e3",
   "metadata": {},
   "outputs": [
    {
     "name": "stdout",
     "output_type": "stream",
     "text": [
      "Node: APP ( 1684 )\n",
      "Node: UBC ( 6477 )\n",
      "Node: SUMO2 ( 630 )\n"
     ]
    },
    {
     "data": {
      "application/javascript": [
       "\n",
       "            setTimeout(function() {\n",
       "                var nbb_cell_id = 47;\n",
       "                var nbb_unformatted_code = \"for n in hubnodes:\\n    print(\\\"Node:\\\", n, \\\"(\\\", degrees_dict[n], \\\")\\\")\";\n",
       "                var nbb_formatted_code = \"for n in hubnodes:\\n    print(\\\"Node:\\\", n, \\\"(\\\", degrees_dict[n], \\\")\\\")\";\n",
       "                var nbb_cells = Jupyter.notebook.get_cells();\n",
       "                for (var i = 0; i < nbb_cells.length; ++i) {\n",
       "                    if (nbb_cells[i].input_prompt_number == nbb_cell_id) {\n",
       "                        if (nbb_cells[i].get_text() == nbb_unformatted_code) {\n",
       "                             nbb_cells[i].set_text(nbb_formatted_code);\n",
       "                        }\n",
       "                        break;\n",
       "                    }\n",
       "                }\n",
       "            }, 500);\n",
       "            "
      ],
      "text/plain": [
       "<IPython.core.display.Javascript object>"
      ]
     },
     "metadata": {},
     "output_type": "display_data"
    }
   ],
   "source": [
    "for n in hubnodes:\n",
    "    print(\"Node:\", n, \"(\", degrees_dict[n], \")\")"
   ]
  },
  {
   "cell_type": "markdown",
   "id": "ca838d49",
   "metadata": {},
   "source": [
    "We will remove the three nodes that show the highest degree within the graph, namely APP, UBC and SUMO2.\n",
    "\n",
    "We will now derive the subgraph that only spans the nodes not classified as hubnodes by our previous analyses."
   ]
  },
  {
   "cell_type": "markdown",
   "id": "012ba6b2",
   "metadata": {},
   "source": [
    "Importantly, the subgraph induced by removing the identified hubnodes from the network does not remain fully connected and importantly one of the ORF targets that was shown to yield a specific structural phenotype upon overexpression becomes disconnected from the largest connected component that spans all other ORF targets."
   ]
  },
  {
   "cell_type": "code",
   "execution_count": 48,
   "id": "b92e3815",
   "metadata": {},
   "outputs": [
    {
     "data": {
      "application/javascript": [
       "\n",
       "            setTimeout(function() {\n",
       "                var nbb_cell_id = 48;\n",
       "                var nbb_unformatted_code = \"selected_ppi = nx.Graph(pruned_ppi.subgraph(non_hubnodes))\\nselected_ppi.name = \\\"confidence_hub_top3_pruned_ppi\\\"\";\n",
       "                var nbb_formatted_code = \"selected_ppi = nx.Graph(pruned_ppi.subgraph(non_hubnodes))\\nselected_ppi.name = \\\"confidence_hub_top3_pruned_ppi\\\"\";\n",
       "                var nbb_cells = Jupyter.notebook.get_cells();\n",
       "                for (var i = 0; i < nbb_cells.length; ++i) {\n",
       "                    if (nbb_cells[i].input_prompt_number == nbb_cell_id) {\n",
       "                        if (nbb_cells[i].get_text() == nbb_unformatted_code) {\n",
       "                             nbb_cells[i].set_text(nbb_formatted_code);\n",
       "                        }\n",
       "                        break;\n",
       "                    }\n",
       "                }\n",
       "            }, 500);\n",
       "            "
      ],
      "text/plain": [
       "<IPython.core.display.Javascript object>"
      ]
     },
     "metadata": {},
     "output_type": "display_data"
    }
   ],
   "source": [
    "selected_ppi = nx.Graph(pruned_ppi.subgraph(non_hubnodes))\n",
    "selected_ppi.name = \"confidence_hub_top3_pruned_ppi\""
   ]
  },
  {
   "cell_type": "markdown",
   "id": "edb3d2ff",
   "metadata": {},
   "source": [
    "Note that we will also save a version of the graph that only excludes the top two hubnodes which corresponds to choosing the elbow of the degree distribution to exclude the hubnodes. We will store the subgraph of the confidence pruned and of the filtered PPI respectively. The latter being an even more conservative selection of the PPI."
   ]
  },
  {
   "cell_type": "code",
   "execution_count": 49,
   "id": "61c57e77",
   "metadata": {},
   "outputs": [
    {
     "name": "stdout",
     "output_type": "stream",
     "text": [
      "Name: confidence_hub_top3_pruned_ppi\n",
      "Type: Graph\n",
      "Number of nodes: 9142\n",
      "Number of edges: 45642\n",
      "Average degree:   9.9851\n",
      "{'ELK1', 'DIABLO', 'SRC', 'BCL2L11', 'MAP2K3', 'TRAF2', 'RAF1', 'TSC2', 'PRKACA', 'GLI1', 'PIK3R2', 'E2F1', 'FOXO1', 'BRAF', 'BAX', 'MYD88', 'PKIA', 'SREBF1', 'MAP3K5', 'MAP3K9', 'SMAD3', 'WWTR1', 'CASP8', 'KRAS', 'SMAD4', 'HRAS', 'CDKN1A', 'RHOA', 'MAP3K2', 'IRAK4', 'CDC42', 'JUN', 'AKT1S1', 'ERG', 'ATF4', 'PRKCE', 'SMO', 'CREB1', 'RELB', 'MAPK7', 'APC', 'CEBPA', 'FGFR3'}\n",
      "Name: confidence_hub_top3_pruned_ppi\n",
      "Type: Graph\n",
      "Number of nodes: 1\n",
      "Number of edges: 0\n",
      "Average degree:   0.0000\n",
      "{'CXXC4'}\n"
     ]
    },
    {
     "data": {
      "application/javascript": [
       "\n",
       "            setTimeout(function() {\n",
       "                var nbb_cell_id = 49;\n",
       "                var nbb_unformatted_code = \"ccomps = [\\n    selected_ppi.subgraph(c).copy() for c in nx.connected_components(selected_ppi)\\n]\\nfor comp in ccomps:\\n    if len(specific_targets.intersection(comp.nodes())) > 0:\\n        print(nx.info(comp))\\n        print(specific_targets.intersection(comp.nodes()))\";\n",
       "                var nbb_formatted_code = \"ccomps = [\\n    selected_ppi.subgraph(c).copy() for c in nx.connected_components(selected_ppi)\\n]\\nfor comp in ccomps:\\n    if len(specific_targets.intersection(comp.nodes())) > 0:\\n        print(nx.info(comp))\\n        print(specific_targets.intersection(comp.nodes()))\";\n",
       "                var nbb_cells = Jupyter.notebook.get_cells();\n",
       "                for (var i = 0; i < nbb_cells.length; ++i) {\n",
       "                    if (nbb_cells[i].input_prompt_number == nbb_cell_id) {\n",
       "                        if (nbb_cells[i].get_text() == nbb_unformatted_code) {\n",
       "                             nbb_cells[i].set_text(nbb_formatted_code);\n",
       "                        }\n",
       "                        break;\n",
       "                    }\n",
       "                }\n",
       "            }, 500);\n",
       "            "
      ],
      "text/plain": [
       "<IPython.core.display.Javascript object>"
      ]
     },
     "metadata": {},
     "output_type": "display_data"
    }
   ],
   "source": [
    "ccomps = [\n",
    "    selected_ppi.subgraph(c).copy() for c in nx.connected_components(selected_ppi)\n",
    "]\n",
    "for comp in ccomps:\n",
    "    if len(specific_targets.intersection(comp.nodes())) > 0:\n",
    "        print(nx.info(comp))\n",
    "        print(specific_targets.intersection(comp.nodes()))"
   ]
  },
  {
   "cell_type": "code",
   "execution_count": 50,
   "id": "3311ed42",
   "metadata": {},
   "outputs": [
    {
     "data": {
      "application/javascript": [
       "\n",
       "            setTimeout(function() {\n",
       "                var nbb_cell_id = 50;\n",
       "                var nbb_unformatted_code = \"selected_ppi = ccomps[0]\";\n",
       "                var nbb_formatted_code = \"selected_ppi = ccomps[0]\";\n",
       "                var nbb_cells = Jupyter.notebook.get_cells();\n",
       "                for (var i = 0; i < nbb_cells.length; ++i) {\n",
       "                    if (nbb_cells[i].input_prompt_number == nbb_cell_id) {\n",
       "                        if (nbb_cells[i].get_text() == nbb_unformatted_code) {\n",
       "                             nbb_cells[i].set_text(nbb_formatted_code);\n",
       "                        }\n",
       "                        break;\n",
       "                    }\n",
       "                }\n",
       "            }, 500);\n",
       "            "
      ],
      "text/plain": [
       "<IPython.core.display.Javascript object>"
      ]
     },
     "metadata": {},
     "output_type": "display_data"
    }
   ],
   "source": [
    "selected_ppi = ccomps[0]"
   ]
  },
  {
   "cell_type": "markdown",
   "id": "193db41f",
   "metadata": {},
   "source": [
    "The induced subgraph spans 9142 nodes including all 40/41 specific ORF targets with an average degree of 9.985 stemming from 45'642 edges."
   ]
  },
  {
   "cell_type": "markdown",
   "id": "6519419d",
   "metadata": {},
   "source": [
    "---\n",
    "\n",
    "## 4. Relationship strength of the between the selected genes"
   ]
  },
  {
   "cell_type": "markdown",
   "id": "e31f2912",
   "metadata": {},
   "source": [
    "In this section we will look at ways to define the edge costs for the Prize-collecting Steiner tree inference-based derivation of the U2OS-specific interactome. To this end, we will look at three different measures that are often used to describe the association of genes to guide the derivation of regulatory networks and interactomes, namely the Pearson correlation, the Spearman correlation and the normalized mutual information. Since, we want to assign higher costs to for relationships between any pair of genes that we have little evidence for as measured by the three previously mentioned metrics, we compute these as\n",
    "\n",
    "$$\n",
    "w_{i,j} = 1-|a_{i,j}|,\n",
    "$$\n",
    "\n",
    "where $w_{i,j}$ is the edge weight and $a_{i,j}$ is the respective association of the genes $i$ and $j$ as measured by the metrics."
   ]
  },
  {
   "cell_type": "markdown",
   "id": "74389e69",
   "metadata": {},
   "source": [
    "We will now compute the respective edge weights for any edge in the base PPI and visualize their distribution."
   ]
  },
  {
   "cell_type": "code",
   "execution_count": 51,
   "id": "e23a3ec5",
   "metadata": {},
   "outputs": [
    {
     "name": "stderr",
     "output_type": "stream",
     "text": [
      "Compute edge weights for pearsonr: 100%|██████████| 45642/45642 [00:06<00:00, 7235.00it/s]\n",
      "Compute edge weights for spearmanr: 100%|██████████| 45642/45642 [00:31<00:00, 1453.13it/s]\n",
      "Compute edge weights for mi: 100%|██████████| 45642/45642 [00:29<00:00, 1550.82it/s]\n"
     ]
    },
    {
     "data": {
      "application/javascript": [
       "\n",
       "            setTimeout(function() {\n",
       "                var nbb_cell_id = 51;\n",
       "                var nbb_unformatted_code = \"selected_ppi = compute_edge_weights(\\n    selected_ppi, fucci_data, metrics=[\\\"pearsonr\\\", \\\"spearmanr\\\", \\\"mi\\\"]\\n)\";\n",
       "                var nbb_formatted_code = \"selected_ppi = compute_edge_weights(\\n    selected_ppi, fucci_data, metrics=[\\\"pearsonr\\\", \\\"spearmanr\\\", \\\"mi\\\"]\\n)\";\n",
       "                var nbb_cells = Jupyter.notebook.get_cells();\n",
       "                for (var i = 0; i < nbb_cells.length; ++i) {\n",
       "                    if (nbb_cells[i].input_prompt_number == nbb_cell_id) {\n",
       "                        if (nbb_cells[i].get_text() == nbb_unformatted_code) {\n",
       "                             nbb_cells[i].set_text(nbb_formatted_code);\n",
       "                        }\n",
       "                        break;\n",
       "                    }\n",
       "                }\n",
       "            }, 500);\n",
       "            "
      ],
      "text/plain": [
       "<IPython.core.display.Javascript object>"
      ]
     },
     "metadata": {},
     "output_type": "display_data"
    }
   ],
   "source": [
    "selected_ppi = compute_edge_weights(\n",
    "    selected_ppi, fucci_data, metrics=[\"pearsonr\", \"spearmanr\", \"mi\"]\n",
    ")"
   ]
  },
  {
   "cell_type": "markdown",
   "id": "b55fc72f",
   "metadata": {},
   "source": [
    "### 4.1. Pearson correlation-based edge weights"
   ]
  },
  {
   "cell_type": "code",
   "execution_count": 52,
   "id": "83fae706",
   "metadata": {},
   "outputs": [
    {
     "data": {
      "application/javascript": [
       "\n",
       "            setTimeout(function() {\n",
       "                var nbb_cell_id = 52;\n",
       "                var nbb_unformatted_code = \"pearsonr_weights = np.array(\\n    list(nx.get_edge_attributes(selected_ppi, \\\"pearsonr\\\").values())\\n)\";\n",
       "                var nbb_formatted_code = \"pearsonr_weights = np.array(\\n    list(nx.get_edge_attributes(selected_ppi, \\\"pearsonr\\\").values())\\n)\";\n",
       "                var nbb_cells = Jupyter.notebook.get_cells();\n",
       "                for (var i = 0; i < nbb_cells.length; ++i) {\n",
       "                    if (nbb_cells[i].input_prompt_number == nbb_cell_id) {\n",
       "                        if (nbb_cells[i].get_text() == nbb_unformatted_code) {\n",
       "                             nbb_cells[i].set_text(nbb_formatted_code);\n",
       "                        }\n",
       "                        break;\n",
       "                    }\n",
       "                }\n",
       "            }, 500);\n",
       "            "
      ],
      "text/plain": [
       "<IPython.core.display.Javascript object>"
      ]
     },
     "metadata": {},
     "output_type": "display_data"
    }
   ],
   "source": [
    "pearsonr_weights = np.array(\n",
    "    list(nx.get_edge_attributes(selected_ppi, \"pearsonr\").values())\n",
    ")"
   ]
  },
  {
   "cell_type": "code",
   "execution_count": 53,
   "id": "e58302bd",
   "metadata": {},
   "outputs": [
    {
     "data": {
      "image/png": "[encoded data removed]",
      "text/plain": [
       "<Figure size 360x360 with 1 Axes>"
      ]
     },
     "metadata": {
      "needs_background": "light"
     },
     "output_type": "display_data"
    },
    {
     "data": {
      "application/javascript": [
       "\n",
       "            setTimeout(function() {\n",
       "                var nbb_cell_id = 53;\n",
       "                var nbb_unformatted_code = \"plt.figure(figsize=[5, 5])\\nsns.histplot(pearsonr_weights)\\nplt.title(\\\"Distribution of the Pearson r edge weights\\\")\\nplt.xlabel(\\\"1-|r|\\\")\\nplt.show()\";\n",
       "                var nbb_formatted_code = \"plt.figure(figsize=[5, 5])\\nsns.histplot(pearsonr_weights)\\nplt.title(\\\"Distribution of the Pearson r edge weights\\\")\\nplt.xlabel(\\\"1-|r|\\\")\\nplt.show()\";\n",
       "                var nbb_cells = Jupyter.notebook.get_cells();\n",
       "                for (var i = 0; i < nbb_cells.length; ++i) {\n",
       "                    if (nbb_cells[i].input_prompt_number == nbb_cell_id) {\n",
       "                        if (nbb_cells[i].get_text() == nbb_unformatted_code) {\n",
       "                             nbb_cells[i].set_text(nbb_formatted_code);\n",
       "                        }\n",
       "                        break;\n",
       "                    }\n",
       "                }\n",
       "            }, 500);\n",
       "            "
      ],
      "text/plain": [
       "<IPython.core.display.Javascript object>"
      ]
     },
     "metadata": {},
     "output_type": "display_data"
    }
   ],
   "source": [
    "plt.figure(figsize=[5, 5])\n",
    "sns.histplot(pearsonr_weights)\n",
    "plt.title(\"Distribution of the Pearson r edge weights\")\n",
    "plt.xlabel(\"1-|r|\")\n",
    "plt.show()"
   ]
  },
  {
   "cell_type": "markdown",
   "id": "85fe2584",
   "metadata": {},
   "source": [
    "### 4.2. Spearman correlation-based edge weights"
   ]
  },
  {
   "cell_type": "code",
   "execution_count": 54,
   "id": "ed76eab3",
   "metadata": {},
   "outputs": [
    {
     "data": {
      "application/javascript": [
       "\n",
       "            setTimeout(function() {\n",
       "                var nbb_cell_id = 54;\n",
       "                var nbb_unformatted_code = \"spearmanr_weights = np.array(\\n    list(nx.get_edge_attributes(selected_ppi, \\\"spearmanr\\\").values())\\n)\";\n",
       "                var nbb_formatted_code = \"spearmanr_weights = np.array(\\n    list(nx.get_edge_attributes(selected_ppi, \\\"spearmanr\\\").values())\\n)\";\n",
       "                var nbb_cells = Jupyter.notebook.get_cells();\n",
       "                for (var i = 0; i < nbb_cells.length; ++i) {\n",
       "                    if (nbb_cells[i].input_prompt_number == nbb_cell_id) {\n",
       "                        if (nbb_cells[i].get_text() == nbb_unformatted_code) {\n",
       "                             nbb_cells[i].set_text(nbb_formatted_code);\n",
       "                        }\n",
       "                        break;\n",
       "                    }\n",
       "                }\n",
       "            }, 500);\n",
       "            "
      ],
      "text/plain": [
       "<IPython.core.display.Javascript object>"
      ]
     },
     "metadata": {},
     "output_type": "display_data"
    }
   ],
   "source": [
    "spearmanr_weights = np.array(\n",
    "    list(nx.get_edge_attributes(selected_ppi, \"spearmanr\").values())\n",
    ")"
   ]
  },
  {
   "cell_type": "code",
   "execution_count": 55,
   "id": "40112455",
   "metadata": {},
   "outputs": [
    {
     "data": {
      "image/png": "[encoded data removed]",
      "text/plain": [
       "<Figure size 360x360 with 1 Axes>"
      ]
     },
     "metadata": {
      "needs_background": "light"
     },
     "output_type": "display_data"
    },
    {
     "data": {
      "application/javascript": [
       "\n",
       "            setTimeout(function() {\n",
       "                var nbb_cell_id = 55;\n",
       "                var nbb_unformatted_code = \"plt.figure(figsize=[5, 5])\\nsns.histplot(spearmanr_weights)\\nplt.title(\\\"Distribution of the Spearman r edge weights\\\")\\nplt.xlabel(\\\"1-|r|\\\")\\nplt.show()\";\n",
       "                var nbb_formatted_code = \"plt.figure(figsize=[5, 5])\\nsns.histplot(spearmanr_weights)\\nplt.title(\\\"Distribution of the Spearman r edge weights\\\")\\nplt.xlabel(\\\"1-|r|\\\")\\nplt.show()\";\n",
       "                var nbb_cells = Jupyter.notebook.get_cells();\n",
       "                for (var i = 0; i < nbb_cells.length; ++i) {\n",
       "                    if (nbb_cells[i].input_prompt_number == nbb_cell_id) {\n",
       "                        if (nbb_cells[i].get_text() == nbb_unformatted_code) {\n",
       "                             nbb_cells[i].set_text(nbb_formatted_code);\n",
       "                        }\n",
       "                        break;\n",
       "                    }\n",
       "                }\n",
       "            }, 500);\n",
       "            "
      ],
      "text/plain": [
       "<IPython.core.display.Javascript object>"
      ]
     },
     "metadata": {},
     "output_type": "display_data"
    }
   ],
   "source": [
    "plt.figure(figsize=[5, 5])\n",
    "sns.histplot(spearmanr_weights)\n",
    "plt.title(\"Distribution of the Spearman r edge weights\")\n",
    "plt.xlabel(\"1-|r|\")\n",
    "plt.show()"
   ]
  },
  {
   "cell_type": "markdown",
   "id": "a4177f77",
   "metadata": {},
   "source": [
    "### 4.3. Mutual information-based edge weights"
   ]
  },
  {
   "cell_type": "code",
   "execution_count": 56,
   "id": "506bbbb0",
   "metadata": {},
   "outputs": [
    {
     "data": {
      "application/javascript": [
       "\n",
       "            setTimeout(function() {\n",
       "                var nbb_cell_id = 56;\n",
       "                var nbb_unformatted_code = \"mi_weights = np.array(list(nx.get_edge_attributes(selected_ppi, \\\"mi\\\").values()))\";\n",
       "                var nbb_formatted_code = \"mi_weights = np.array(list(nx.get_edge_attributes(selected_ppi, \\\"mi\\\").values()))\";\n",
       "                var nbb_cells = Jupyter.notebook.get_cells();\n",
       "                for (var i = 0; i < nbb_cells.length; ++i) {\n",
       "                    if (nbb_cells[i].input_prompt_number == nbb_cell_id) {\n",
       "                        if (nbb_cells[i].get_text() == nbb_unformatted_code) {\n",
       "                             nbb_cells[i].set_text(nbb_formatted_code);\n",
       "                        }\n",
       "                        break;\n",
       "                    }\n",
       "                }\n",
       "            }, 500);\n",
       "            "
      ],
      "text/plain": [
       "<IPython.core.display.Javascript object>"
      ]
     },
     "metadata": {},
     "output_type": "display_data"
    }
   ],
   "source": [
    "mi_weights = np.array(list(nx.get_edge_attributes(selected_ppi, \"mi\").values()))"
   ]
  },
  {
   "cell_type": "code",
   "execution_count": 57,
   "id": "2155e8f4",
   "metadata": {},
   "outputs": [
    {
     "data": {
      "image/png": "[encoded data removed]",
      "text/plain": [
       "<Figure size 360x360 with 1 Axes>"
      ]
     },
     "metadata": {
      "needs_background": "light"
     },
     "output_type": "display_data"
    },
    {
     "data": {
      "application/javascript": [
       "\n",
       "            setTimeout(function() {\n",
       "                var nbb_cell_id = 57;\n",
       "                var nbb_unformatted_code = \"plt.figure(figsize=[5, 5])\\nsns.histplot(np.max(mi_weights) - (mi_weights))\\nplt.title(\\\"Distribution of the MI edge weights (100 bins)\\\")\\nplt.xlabel(\\\"max(m)-m\\\")\\nplt.show()\";\n",
       "                var nbb_formatted_code = \"plt.figure(figsize=[5, 5])\\nsns.histplot(np.max(mi_weights) - (mi_weights))\\nplt.title(\\\"Distribution of the MI edge weights (100 bins)\\\")\\nplt.xlabel(\\\"max(m)-m\\\")\\nplt.show()\";\n",
       "                var nbb_cells = Jupyter.notebook.get_cells();\n",
       "                for (var i = 0; i < nbb_cells.length; ++i) {\n",
       "                    if (nbb_cells[i].input_prompt_number == nbb_cell_id) {\n",
       "                        if (nbb_cells[i].get_text() == nbb_unformatted_code) {\n",
       "                             nbb_cells[i].set_text(nbb_formatted_code);\n",
       "                        }\n",
       "                        break;\n",
       "                    }\n",
       "                }\n",
       "            }, 500);\n",
       "            "
      ],
      "text/plain": [
       "<IPython.core.display.Javascript object>"
      ]
     },
     "metadata": {},
     "output_type": "display_data"
    }
   ],
   "source": [
    "plt.figure(figsize=[5, 5])\n",
    "sns.histplot(np.max(mi_weights) - (mi_weights))\n",
    "plt.title(\"Distribution of the MI edge weights (100 bins)\")\n",
    "plt.xlabel(\"max(m)-m\")\n",
    "plt.show()"
   ]
  },
  {
   "cell_type": "markdown",
   "id": "2e97b1b4",
   "metadata": {},
   "source": [
    "----\n",
    "\n",
    "## 5. PCST preprocessing\n",
    "\n",
    "After having computed the respective metrics we will now construct different version of the PPI with associated edge weights and node prizes for the inference of the PCST algorithm."
   ]
  },
  {
   "cell_type": "markdown",
   "id": "d16ba5f4",
   "metadata": {},
   "source": [
    "We decide to choose the absolute log fold-change as the the prizes associated with each node, but in order to ensure that the PCST algorithm will select the specific ORF targets we assign a prize to all of those targets that is equal to the maximum absolute log-fold change among the nodes in the network. However, we penalize the prizes by subtracting for all nodes that are not in the set of the specific ORF targets a factor that scales with the degree of the nodes to reduce the bias of hub-nodes in the PCST analyses. This follows an idea by Tuncbag et al. (2013).\n",
    "\n",
    "We decide to set the edge weights as $1-|r_{spearman}|$ computed from the scRNA-seq data set as in contrast to the Pearson correlation it can also capture non-linear relationships and has been shown to perform on par with more sophisticated measures in network inference tasks in several other work."
   ]
  },
  {
   "cell_type": "code",
   "execution_count": 66,
   "id": "1caf9144",
   "metadata": {},
   "outputs": [
    {
     "data": {
      "application/javascript": [
       "\n",
       "            setTimeout(function() {\n",
       "                var nbb_cell_id = 66;\n",
       "                var nbb_unformatted_code = \"ppi_name = \\\"ppi_confidence_0562_hub_top3_pruned_ccle_abslogfc_orf_maxp_spearmanr_mu5e-4_cv\\\"\";\n",
       "                var nbb_formatted_code = \"ppi_name = (\\n    \\\"ppi_confidence_0562_hub_top3_pruned_ccle_abslogfc_orf_maxp_spearmanr_mu5e-4_cv\\\"\\n)\";\n",
       "                var nbb_cells = Jupyter.notebook.get_cells();\n",
       "                for (var i = 0; i < nbb_cells.length; ++i) {\n",
       "                    if (nbb_cells[i].input_prompt_number == nbb_cell_id) {\n",
       "                        if (nbb_cells[i].get_text() == nbb_unformatted_code) {\n",
       "                             nbb_cells[i].set_text(nbb_formatted_code);\n",
       "                        }\n",
       "                        break;\n",
       "                    }\n",
       "                }\n",
       "            }, 500);\n",
       "            "
      ],
      "text/plain": [
       "<IPython.core.display.Javascript object>"
      ]
     },
     "metadata": {},
     "output_type": "display_data"
    }
   ],
   "source": [
    "ppi_name = (\n",
    "    \"ppi_confidence_0562_hub_top3_pruned_ccle_abslogfc_orf_maxp_spearmanr_mu5e-4_cv\"\n",
    ")"
   ]
  },
  {
   "cell_type": "code",
   "execution_count": 67,
   "id": "d84e9d66",
   "metadata": {},
   "outputs": [
    {
     "data": {
      "application/javascript": [
       "\n",
       "            setTimeout(function() {\n",
       "                var nbb_cell_id = 67;\n",
       "                var nbb_unformatted_code = \"mu = 5e-4\";\n",
       "                var nbb_formatted_code = \"mu = 5e-4\";\n",
       "                var nbb_cells = Jupyter.notebook.get_cells();\n",
       "                for (var i = 0; i < nbb_cells.length; ++i) {\n",
       "                    if (nbb_cells[i].input_prompt_number == nbb_cell_id) {\n",
       "                        if (nbb_cells[i].get_text() == nbb_unformatted_code) {\n",
       "                             nbb_cells[i].set_text(nbb_formatted_code);\n",
       "                        }\n",
       "                        break;\n",
       "                    }\n",
       "                }\n",
       "            }, 500);\n",
       "            "
      ],
      "text/plain": [
       "<IPython.core.display.Javascript object>"
      ]
     },
     "metadata": {},
     "output_type": "display_data"
    }
   ],
   "source": [
    "mu = 5e-4"
   ]
  },
  {
   "cell_type": "code",
   "execution_count": 68,
   "id": "1ffef1ec",
   "metadata": {},
   "outputs": [
    {
     "data": {
      "application/javascript": [
       "\n",
       "            setTimeout(function() {\n",
       "                var nbb_cell_id = 68;\n",
       "                var nbb_unformatted_code = \"prepared_ppi = selected_ppi.copy()\\nprepared_ppi.name = ppi_name\\nabs_log_fc = marker_results.loc[:, \\\"abs_log_fc\\\"]\\n\\n## Set node prizes\\nfor node in prepared_ppi.nodes(data=True):\\n    if node[0] in specific_targets:\\n        node[-1][\\\"prize\\\"] = np.max(abs_log_fc)\\n    else:\\n        try:\\n            node[-1][\\\"prize\\\"] = abs_log_fc[node[0]]\\n        except KeyError:\\n            node[-1][\\\"prize\\\"] = 0\\n    node[-1][\\\"prize\\\"] -= mu * prepared_ppi.degree(node[0])\\n\\n\\n## Set edge weights\\nfor edge in prepared_ppi.edges(data=True):\\n    edge[-1][\\\"cost\\\"] = edge[-1][\\\"spearmanr\\\"]\\n\\n## Save network\\nnx.write_gpickle(\\n    prepared_ppi, \\\"../../../data/ppi/preprocessing/{}.pkl\\\".format(ppi_name)\\n)\";\n",
       "                var nbb_formatted_code = \"prepared_ppi = selected_ppi.copy()\\nprepared_ppi.name = ppi_name\\nabs_log_fc = marker_results.loc[:, \\\"abs_log_fc\\\"]\\n\\n## Set node prizes\\nfor node in prepared_ppi.nodes(data=True):\\n    if node[0] in specific_targets:\\n        node[-1][\\\"prize\\\"] = np.max(abs_log_fc)\\n    else:\\n        try:\\n            node[-1][\\\"prize\\\"] = abs_log_fc[node[0]]\\n        except KeyError:\\n            node[-1][\\\"prize\\\"] = 0\\n    node[-1][\\\"prize\\\"] -= mu * prepared_ppi.degree(node[0])\\n\\n\\n## Set edge weights\\nfor edge in prepared_ppi.edges(data=True):\\n    edge[-1][\\\"cost\\\"] = edge[-1][\\\"spearmanr\\\"]\\n\\n## Save network\\nnx.write_gpickle(\\n    prepared_ppi, \\\"../../../data/ppi/preprocessing/{}.pkl\\\".format(ppi_name)\\n)\";\n",
       "                var nbb_cells = Jupyter.notebook.get_cells();\n",
       "                for (var i = 0; i < nbb_cells.length; ++i) {\n",
       "                    if (nbb_cells[i].input_prompt_number == nbb_cell_id) {\n",
       "                        if (nbb_cells[i].get_text() == nbb_unformatted_code) {\n",
       "                             nbb_cells[i].set_text(nbb_formatted_code);\n",
       "                        }\n",
       "                        break;\n",
       "                    }\n",
       "                }\n",
       "            }, 500);\n",
       "            "
      ],
      "text/plain": [
       "<IPython.core.display.Javascript object>"
      ]
     },
     "metadata": {},
     "output_type": "display_data"
    }
   ],
   "source": [
    "prepared_ppi = selected_ppi.copy()\n",
    "prepared_ppi.name = ppi_name\n",
    "abs_log_fc = marker_results.loc[:, \"abs_log_fc\"]\n",
    "\n",
    "## Set node prizes\n",
    "for node in prepared_ppi.nodes(data=True):\n",
    "    if node[0] in specific_targets:\n",
    "        node[-1][\"prize\"] = np.max(abs_log_fc)\n",
    "    else:\n",
    "        try:\n",
    "            node[-1][\"prize\"] = abs_log_fc[node[0]]\n",
    "        except KeyError:\n",
    "            node[-1][\"prize\"] = 0\n",
    "    node[-1][\"prize\"] -= mu * prepared_ppi.degree(node[0])\n",
    "\n",
    "\n",
    "## Set edge weights\n",
    "for edge in prepared_ppi.edges(data=True):\n",
    "    edge[-1][\"cost\"] = edge[-1][\"spearmanr\"]\n",
    "\n",
    "## Save network\n",
    "nx.write_gpickle(\n",
    "    prepared_ppi, \"../../../data/ppi/preprocessing/{}.pkl\".format(ppi_name)\n",
    ")"
   ]
  },
  {
   "cell_type": "markdown",
   "id": "9324f001",
   "metadata": {},
   "source": [
    "---\n",
    "\n",
    "## 6. Analyses of the PCST preprocessed graphs\n",
    "\n",
    "To get a better understanding of the input graphs that we constructed for the PCST driven inference we will plot some basic characteristics of the input graph. For that we will first focus on the 3rd version that we constructed for which the edge weights are given by $1-|r_{Spearman}|$ and the prizes by the absolute log fold-change with the ones of the ORF targets constantly set to the maximum log fold-change."
   ]
  },
  {
   "cell_type": "code",
   "execution_count": 69,
   "id": "a3a75176",
   "metadata": {},
   "outputs": [
    {
     "data": {
      "application/javascript": [
       "\n",
       "            setTimeout(function() {\n",
       "                var nbb_cell_id = 69;\n",
       "                var nbb_unformatted_code = \"graph = prepared_ppi\\nprizes = dict(nx.get_node_attributes(graph, \\\"prize\\\"))\\ncosts = dict(nx.get_edge_attributes(graph, \\\"cost\\\"))\";\n",
       "                var nbb_formatted_code = \"graph = prepared_ppi\\nprizes = dict(nx.get_node_attributes(graph, \\\"prize\\\"))\\ncosts = dict(nx.get_edge_attributes(graph, \\\"cost\\\"))\";\n",
       "                var nbb_cells = Jupyter.notebook.get_cells();\n",
       "                for (var i = 0; i < nbb_cells.length; ++i) {\n",
       "                    if (nbb_cells[i].input_prompt_number == nbb_cell_id) {\n",
       "                        if (nbb_cells[i].get_text() == nbb_unformatted_code) {\n",
       "                             nbb_cells[i].set_text(nbb_formatted_code);\n",
       "                        }\n",
       "                        break;\n",
       "                    }\n",
       "                }\n",
       "            }, 500);\n",
       "            "
      ],
      "text/plain": [
       "<IPython.core.display.Javascript object>"
      ]
     },
     "metadata": {},
     "output_type": "display_data"
    }
   ],
   "source": [
    "graph = prepared_ppi\n",
    "prizes = dict(nx.get_node_attributes(graph, \"prize\"))\n",
    "costs = dict(nx.get_edge_attributes(graph, \"cost\"))"
   ]
  },
  {
   "cell_type": "code",
   "execution_count": 70,
   "id": "01a6cdf6",
   "metadata": {},
   "outputs": [
    {
     "data": {
      "image/png": "[encoded data removed]",
      "text/plain": [
       "<Figure size 864x288 with 2 Axes>"
      ]
     },
     "metadata": {
      "needs_background": "light"
     },
     "output_type": "display_data"
    },
    {
     "data": {
      "application/javascript": [
       "\n",
       "            setTimeout(function() {\n",
       "                var nbb_cell_id = 70;\n",
       "                var nbb_unformatted_code = \"fig, ax = plt.subplots(nrows=1, ncols=2, figsize=[12, 4])\\nax = ax.flatten()\\nax[0] = sns.histplot(prizes.values(), ax=ax[0], legend=False)\\nax[0].set_title(\\\"Prize distribution\\\")\\nax[0].set_xlabel(\\\"Prize\\\")\\nax[1] = sns.histplot(costs.values(), ax=ax[1], legend=False)\\nax[1].set_title(\\\"Cost distribution\\\")\\nax[1].set_xlabel(\\\"Cost\\\")\\nplt.show()\\nplt.show()\";\n",
       "                var nbb_formatted_code = \"fig, ax = plt.subplots(nrows=1, ncols=2, figsize=[12, 4])\\nax = ax.flatten()\\nax[0] = sns.histplot(prizes.values(), ax=ax[0], legend=False)\\nax[0].set_title(\\\"Prize distribution\\\")\\nax[0].set_xlabel(\\\"Prize\\\")\\nax[1] = sns.histplot(costs.values(), ax=ax[1], legend=False)\\nax[1].set_title(\\\"Cost distribution\\\")\\nax[1].set_xlabel(\\\"Cost\\\")\\nplt.show()\\nplt.show()\";\n",
       "                var nbb_cells = Jupyter.notebook.get_cells();\n",
       "                for (var i = 0; i < nbb_cells.length; ++i) {\n",
       "                    if (nbb_cells[i].input_prompt_number == nbb_cell_id) {\n",
       "                        if (nbb_cells[i].get_text() == nbb_unformatted_code) {\n",
       "                             nbb_cells[i].set_text(nbb_formatted_code);\n",
       "                        }\n",
       "                        break;\n",
       "                    }\n",
       "                }\n",
       "            }, 500);\n",
       "            "
      ],
      "text/plain": [
       "<IPython.core.display.Javascript object>"
      ]
     },
     "metadata": {},
     "output_type": "display_data"
    }
   ],
   "source": [
    "fig, ax = plt.subplots(nrows=1, ncols=2, figsize=[12, 4])\n",
    "ax = ax.flatten()\n",
    "ax[0] = sns.histplot(prizes.values(), ax=ax[0], legend=False)\n",
    "ax[0].set_title(\"Prize distribution\")\n",
    "ax[0].set_xlabel(\"Prize\")\n",
    "ax[1] = sns.histplot(costs.values(), ax=ax[1], legend=False)\n",
    "ax[1].set_title(\"Cost distribution\")\n",
    "ax[1].set_xlabel(\"Cost\")\n",
    "plt.show()\n",
    "plt.show()"
   ]
  },
  {
   "cell_type": "markdown",
   "id": "3c577d27",
   "metadata": {},
   "source": [
    "We are now interested if there is a relationship between the prizes and edge costs and the corresponding nodes i.e. those that the edges associated with the costs connect to. To this end, we will plot the prizes by the corresponding edge degree and as well as the edge costs."
   ]
  },
  {
   "cell_type": "code",
   "execution_count": 71,
   "id": "69f8050b",
   "metadata": {},
   "outputs": [
    {
     "data": {
      "application/javascript": [
       "\n",
       "            setTimeout(function() {\n",
       "                var nbb_cell_id = 71;\n",
       "                var nbb_unformatted_code = \"degrees = dict(graph.degree())\\ndegrees = {k: v for k, v in sorted(degrees.items())}\\nprizes = {k: v for k, v in sorted(prizes.items())}\\norf_target_colors = []\\nfor k in prizes:\\n    orf_target_colors.append(k in specific_targets)\";\n",
       "                var nbb_formatted_code = \"degrees = dict(graph.degree())\\ndegrees = {k: v for k, v in sorted(degrees.items())}\\nprizes = {k: v for k, v in sorted(prizes.items())}\\norf_target_colors = []\\nfor k in prizes:\\n    orf_target_colors.append(k in specific_targets)\";\n",
       "                var nbb_cells = Jupyter.notebook.get_cells();\n",
       "                for (var i = 0; i < nbb_cells.length; ++i) {\n",
       "                    if (nbb_cells[i].input_prompt_number == nbb_cell_id) {\n",
       "                        if (nbb_cells[i].get_text() == nbb_unformatted_code) {\n",
       "                             nbb_cells[i].set_text(nbb_formatted_code);\n",
       "                        }\n",
       "                        break;\n",
       "                    }\n",
       "                }\n",
       "            }, 500);\n",
       "            "
      ],
      "text/plain": [
       "<IPython.core.display.Javascript object>"
      ]
     },
     "metadata": {},
     "output_type": "display_data"
    }
   ],
   "source": [
    "degrees = dict(graph.degree())\n",
    "degrees = {k: v for k, v in sorted(degrees.items())}\n",
    "prizes = {k: v for k, v in sorted(prizes.items())}\n",
    "orf_target_colors = []\n",
    "for k in prizes:\n",
    "    orf_target_colors.append(k in specific_targets)"
   ]
  },
  {
   "cell_type": "code",
   "execution_count": 72,
   "id": "320aff39",
   "metadata": {},
   "outputs": [
    {
     "data": {
      "application/javascript": [
       "\n",
       "            setTimeout(function() {\n",
       "                var nbb_cell_id = 72;\n",
       "                var nbb_unformatted_code = \"mean_node_cost = []\\nstd_node_cost = []\\nnode_degrees = []\\nnode_orf_target_colors = []\\nfor node in graph.nodes():\\n    node_orf_target_colors.append(node in specific_targets)\\n    node_degrees.append(graph.degree(node))\\n    edges = graph.edges(node, data=True)\\n    node_cost = []\\n    for edge in edges:\\n        node_cost.append(edge[-1][\\\"cost\\\"])\\n    mean_node_cost.append(np.mean(node_cost))\\n    std_node_cost.append(np.std(node_cost))\";\n",
       "                var nbb_formatted_code = \"mean_node_cost = []\\nstd_node_cost = []\\nnode_degrees = []\\nnode_orf_target_colors = []\\nfor node in graph.nodes():\\n    node_orf_target_colors.append(node in specific_targets)\\n    node_degrees.append(graph.degree(node))\\n    edges = graph.edges(node, data=True)\\n    node_cost = []\\n    for edge in edges:\\n        node_cost.append(edge[-1][\\\"cost\\\"])\\n    mean_node_cost.append(np.mean(node_cost))\\n    std_node_cost.append(np.std(node_cost))\";\n",
       "                var nbb_cells = Jupyter.notebook.get_cells();\n",
       "                for (var i = 0; i < nbb_cells.length; ++i) {\n",
       "                    if (nbb_cells[i].input_prompt_number == nbb_cell_id) {\n",
       "                        if (nbb_cells[i].get_text() == nbb_unformatted_code) {\n",
       "                             nbb_cells[i].set_text(nbb_formatted_code);\n",
       "                        }\n",
       "                        break;\n",
       "                    }\n",
       "                }\n",
       "            }, 500);\n",
       "            "
      ],
      "text/plain": [
       "<IPython.core.display.Javascript object>"
      ]
     },
     "metadata": {},
     "output_type": "display_data"
    }
   ],
   "source": [
    "mean_node_cost = []\n",
    "std_node_cost = []\n",
    "node_degrees = []\n",
    "node_orf_target_colors = []\n",
    "for node in graph.nodes():\n",
    "    node_orf_target_colors.append(node in specific_targets)\n",
    "    node_degrees.append(graph.degree(node))\n",
    "    edges = graph.edges(node, data=True)\n",
    "    node_cost = []\n",
    "    for edge in edges:\n",
    "        node_cost.append(edge[-1][\"cost\"])\n",
    "    mean_node_cost.append(np.mean(node_cost))\n",
    "    std_node_cost.append(np.std(node_cost))"
   ]
  },
  {
   "cell_type": "code",
   "execution_count": 73,
   "id": "3951c377",
   "metadata": {},
   "outputs": [
    {
     "data": {
      "image/png": "[encoded data removed]",
      "text/plain": [
       "<Figure size 1728x432 with 3 Axes>"
      ]
     },
     "metadata": {
      "needs_background": "light"
     },
     "output_type": "display_data"
    },
    {
     "data": {
      "application/javascript": [
       "\n",
       "            setTimeout(function() {\n",
       "                var nbb_cell_id = 73;\n",
       "                var nbb_unformatted_code = \"fig, ax = plt.subplots(nrows=1, ncols=3, figsize=[24, 6])\\nax = ax.flatten()\\nax[0].scatter(\\n    degrees.values(),\\n    prizes.values(),\\n    c=orf_target_colors,\\n    s=10,\\n    cmap=\\\"bwr\\\",\\n    alpha=0.6,\\n)\\nax[0].set_xlabel(\\\"Degree\\\")\\nax[0].set_ylabel(\\\"Prize\\\")\\nax[0].set_title(\\\"Prize vs. Degree\\\")\\n\\nax[1].scatter(\\n    node_degrees, mean_node_cost, c=node_orf_target_colors, s=10, cmap=\\\"bwr\\\", alpha=0.6\\n)\\nax[1].set_xlabel(\\\"Degree\\\")\\nax[1].set_ylabel(\\\"Mean cost\\\")\\nax[1].set_title(\\\"Mean cost vs. Degree\\\")\\n\\nax[2].scatter(\\n    node_degrees, std_node_cost, c=node_orf_target_colors, s=10, cmap=\\\"bwr\\\", alpha=0.6\\n)\\nax[2].set_xlabel(\\\"Degree\\\")\\nax[2].set_ylabel(\\\"Std cost\\\")\\nax[2].set_title(\\\"Std cost vs. Degree\\\")\\nplt.show()\";\n",
       "                var nbb_formatted_code = \"fig, ax = plt.subplots(nrows=1, ncols=3, figsize=[24, 6])\\nax = ax.flatten()\\nax[0].scatter(\\n    degrees.values(),\\n    prizes.values(),\\n    c=orf_target_colors,\\n    s=10,\\n    cmap=\\\"bwr\\\",\\n    alpha=0.6,\\n)\\nax[0].set_xlabel(\\\"Degree\\\")\\nax[0].set_ylabel(\\\"Prize\\\")\\nax[0].set_title(\\\"Prize vs. Degree\\\")\\n\\nax[1].scatter(\\n    node_degrees, mean_node_cost, c=node_orf_target_colors, s=10, cmap=\\\"bwr\\\", alpha=0.6\\n)\\nax[1].set_xlabel(\\\"Degree\\\")\\nax[1].set_ylabel(\\\"Mean cost\\\")\\nax[1].set_title(\\\"Mean cost vs. Degree\\\")\\n\\nax[2].scatter(\\n    node_degrees, std_node_cost, c=node_orf_target_colors, s=10, cmap=\\\"bwr\\\", alpha=0.6\\n)\\nax[2].set_xlabel(\\\"Degree\\\")\\nax[2].set_ylabel(\\\"Std cost\\\")\\nax[2].set_title(\\\"Std cost vs. Degree\\\")\\nplt.show()\";\n",
       "                var nbb_cells = Jupyter.notebook.get_cells();\n",
       "                for (var i = 0; i < nbb_cells.length; ++i) {\n",
       "                    if (nbb_cells[i].input_prompt_number == nbb_cell_id) {\n",
       "                        if (nbb_cells[i].get_text() == nbb_unformatted_code) {\n",
       "                             nbb_cells[i].set_text(nbb_formatted_code);\n",
       "                        }\n",
       "                        break;\n",
       "                    }\n",
       "                }\n",
       "            }, 500);\n",
       "            "
      ],
      "text/plain": [
       "<IPython.core.display.Javascript object>"
      ]
     },
     "metadata": {},
     "output_type": "display_data"
    }
   ],
   "source": [
    "fig, ax = plt.subplots(nrows=1, ncols=3, figsize=[24, 6])\n",
    "ax = ax.flatten()\n",
    "ax[0].scatter(\n",
    "    degrees.values(),\n",
    "    prizes.values(),\n",
    "    c=orf_target_colors,\n",
    "    s=10,\n",
    "    cmap=\"bwr\",\n",
    "    alpha=0.6,\n",
    ")\n",
    "ax[0].set_xlabel(\"Degree\")\n",
    "ax[0].set_ylabel(\"Prize\")\n",
    "ax[0].set_title(\"Prize vs. Degree\")\n",
    "\n",
    "ax[1].scatter(\n",
    "    node_degrees, mean_node_cost, c=node_orf_target_colors, s=10, cmap=\"bwr\", alpha=0.6\n",
    ")\n",
    "ax[1].set_xlabel(\"Degree\")\n",
    "ax[1].set_ylabel(\"Mean cost\")\n",
    "ax[1].set_title(\"Mean cost vs. Degree\")\n",
    "\n",
    "ax[2].scatter(\n",
    "    node_degrees, std_node_cost, c=node_orf_target_colors, s=10, cmap=\"bwr\", alpha=0.6\n",
    ")\n",
    "ax[2].set_xlabel(\"Degree\")\n",
    "ax[2].set_ylabel(\"Std cost\")\n",
    "ax[2].set_title(\"Std cost vs. Degree\")\n",
    "plt.show()"
   ]
  },
  {
   "cell_type": "markdown",
   "id": "52c3279e",
   "metadata": {},
   "source": [
    "The above plots illustrate that the most of nodes with a very high degree get relatively low yet non-zero prizes. Note, that due to the manual inflation of the prizes for the specific ORF targets that does not apply to those (marked in red). Additionally, most nodes with high-degrees are connected to many high cost edges as shown by the mean cost. Recalling the histogram of the overall edge cost distribution this is not surprising. The variance of the edge cost also decreases with increasing degree on average."
   ]
  }
 ],
 "metadata": {
  "kernelspec": {
   "display_name": "Python 3",
   "language": "python",
   "name": "python3"
  },
  "language_info": {
   "codemirror_mode": {
    "name": "ipython",
    "version": 3
   },
   "file_extension": ".py",
   "mimetype": "text/x-python",
   "name": "python",
   "nbconvert_exporter": "python",
   "pygments_lexer": "ipython3",
   "version": "3.8.10"
  }
 },
 "nbformat": 4,
 "nbformat_minor": 5
}
