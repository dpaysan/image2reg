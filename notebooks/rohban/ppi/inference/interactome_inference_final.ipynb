{
 "cells": [
  {
   "cell_type": "markdown",
   "id": "bd5b8950",
   "metadata": {},
   "source": [
    "# Inference of the U2OS interactome\n",
    "\n",
    "---\n",
    "\n",
    "This notebook will build up on previous analyses and aims to derive the interactome of the population of U2OS cells. To this end, we will examine different configurations of input graphs, prize assignment and edge weights used in a sensititivity analysis procedure. For each different configuration we will infer the Prize collecting Steiner tree to identify Steiner and terminal nodes which will define the space of the cell-type specific interactome.\n",
    "\n",
    "---"
   ]
  },
  {
   "cell_type": "markdown",
   "id": "6e09368f",
   "metadata": {},
   "source": [
    "## 0. Environmental setup"
   ]
  },
  {
   "cell_type": "code",
   "execution_count": 3,
   "id": "ac17144c",
   "metadata": {
    "scrolled": true
   },
   "outputs": [],
   "source": [
    "import numpy as np\n",
    "import pandas as pd\n",
    "from pcst_fast import pcst_fast\n",
    "import networkx as nx\n",
    "import random\n",
    "from tqdm import tqdm\n",
    "import community\n",
    "import matplotlib.pyplot as plt\n",
    "import seaborn as sns\n",
    "import matplotlib.cm as cm\n",
    "import sys\n",
    "import os\n",
    "\n",
    "sys.path.append(\"../../../..\")\n",
    "from src.utils.notebooks.ppi.inference import *\n",
    "\n",
    "seed = 1234\n",
    "np.random.seed(seed)\n",
    "random.seed(seed)"
   ]
  },
  {
   "cell_type": "markdown",
   "id": "4bcc69b3",
   "metadata": {},
   "source": [
    "---\n",
    "\n",
    "## 1. Read in data"
   ]
  },
  {
   "cell_type": "markdown",
   "id": "65a6cec4",
   "metadata": {},
   "source": [
    "First, we load in the preprocessed protein-protein interactome graph."
   ]
  },
  {
   "cell_type": "code",
   "execution_count": 10,
   "id": "1b619543",
   "metadata": {},
   "outputs": [],
   "source": [
    "ppi = nx.read_gpickle(\n",
    "    \"../../../../data/experiments/rohban/interactome/preprocessing/cv/ppi_confidence_0594_hub_999_pruned_ccle_abslogfc_orf_maxp_spearmanr_cv.pkl\"\n",
    ")"
   ]
  },
  {
   "cell_type": "code",
   "execution_count": 11,
   "id": "28ef1d5f",
   "metadata": {},
   "outputs": [],
   "source": [
    "ppi_nodes = sorted(list(ppi.nodes()))"
   ]
  },
  {
   "cell_type": "code",
   "execution_count": 12,
   "id": "9078ec48",
   "metadata": {},
   "outputs": [],
   "source": [
    "spec_results = pd.read_csv(\n",
    "    \"../../../../data/experiments/rohban/images/screen/nuclei_region/specificity_screen_results_cv.csv\",\n",
    "    index_col=0,\n",
    ")\n",
    "orf_targets = set(spec_results.index)\n",
    "specific_targets = set(spec_results.loc[spec_results[\"selected\"]].index)"
   ]
  },
  {
   "cell_type": "markdown",
   "id": "504b21bf",
   "metadata": {},
   "source": [
    "---\n",
    "\n",
    "## 2. Run PCST-based inference\n",
    "\n",
    "Using the above data, we will approximately solve the PCST problem for different choice of $\\beta$ in the PCST objectives, i.e. the prize factor. We aim to identify a stable subgraph from the confidence pruned humna PPI that describes the cell-type specific interactome of U2OS cells best.\n",
    "\n",
    "We will vary the hyperparameter of beta from 0 to 10 by 0.1 to have a good trade-off of sufficient coverage and run-time."
   ]
  },
  {
   "cell_type": "code",
   "execution_count": 13,
   "id": "7580e844",
   "metadata": {},
   "outputs": [],
   "source": [
    "bs = np.arange(0.1, 10, 0.1)"
   ]
  },
  {
   "cell_type": "markdown",
   "id": "eca9b3ad",
   "metadata": {},
   "source": [
    "We will use different metrics for the edge weights, namely the Mint-inspired score-derived edge costs, the costs based on the Spearman correlation from the scRNAseq data set as well as those based on the Pearson correlation."
   ]
  },
  {
   "cell_type": "markdown",
   "id": "64e2b46c",
   "metadata": {},
   "source": [
    "### 2.1. MINT inspired edge costs"
   ]
  },
  {
   "cell_type": "code",
   "execution_count": 14,
   "id": "a8f16b5b",
   "metadata": {},
   "outputs": [
    {
     "name": "stderr",
     "output_type": "stream",
     "text": [
      "Compute PCSTs: 100%|██████████| 99/99 [00:06<00:00, 14.66it/s]\n"
     ]
    }
   ],
   "source": [
    "(pcst_mis_dict, augmented_pcst_mis_dict,) = run_pcst_sensitivity_analyses(\n",
    "    graph=ppi,\n",
    "    bs=bs,\n",
    "    prize_key=\"prize\",\n",
    "    weight_key=\"mi_score\",\n",
    "    minmax_scale=True,\n",
    ")"
   ]
  },
  {
   "cell_type": "markdown",
   "id": "32f5069a",
   "metadata": {},
   "source": [
    "The function outputs the derived PCST solutions as well as the subgraphs of the input network induced by node set of the PCST solution. "
   ]
  },
  {
   "cell_type": "code",
   "execution_count": 15,
   "id": "705b9551",
   "metadata": {},
   "outputs": [
    {
     "name": "stderr",
     "output_type": "stream",
     "text": [
      "Analyze tree: 100%|██████████| 99/99 [01:32<00:00,  1.07it/s]\n"
     ]
    },
    {
     "data": {
      "text/html": [
       "<div>\n",
       "<style scoped>\n",
       "    .dataframe tbody tr th:only-of-type {\n",
       "        vertical-align: middle;\n",
       "    }\n",
       "\n",
       "    .dataframe tbody tr th {\n",
       "        vertical-align: top;\n",
       "    }\n",
       "\n",
       "    .dataframe thead th {\n",
       "        text-align: right;\n",
       "    }\n",
       "</style>\n",
       "<table border=\"1\" class=\"dataframe\">\n",
       "  <thead>\n",
       "    <tr style=\"text-align: right;\">\n",
       "      <th></th>\n",
       "      <th>beta</th>\n",
       "      <th>n_nodes</th>\n",
       "      <th>n_edges</th>\n",
       "      <th>n_connected_components</th>\n",
       "      <th>n_louvain_clusters</th>\n",
       "      <th>avg_node_degree</th>\n",
       "      <th>std_node_degree</th>\n",
       "      <th>n_leaf_nodes</th>\n",
       "      <th>n_target_nodes</th>\n",
       "      <th>n_spec_target_nodes</th>\n",
       "      <th>n_spec_target_leafs</th>\n",
       "      <th>avg_spec_target_degree</th>\n",
       "      <th>std_spec_target_degree</th>\n",
       "    </tr>\n",
       "  </thead>\n",
       "  <tbody>\n",
       "    <tr>\n",
       "      <th>augmented_ppi_confidence_0594_hub_999_pruned_ccle_abslogfc_orf_maxp_spearmanr_cv_b_0.6</th>\n",
       "      <td>0.6</td>\n",
       "      <td>348</td>\n",
       "      <td>2316</td>\n",
       "      <td>1</td>\n",
       "      <td>7</td>\n",
       "      <td>13.310345</td>\n",
       "      <td>10.618310</td>\n",
       "      <td>9</td>\n",
       "      <td>101</td>\n",
       "      <td>39</td>\n",
       "      <td>2</td>\n",
       "      <td>12.820513</td>\n",
       "      <td>11.360913</td>\n",
       "    </tr>\n",
       "    <tr>\n",
       "      <th>augmented_ppi_confidence_0594_hub_999_pruned_ccle_abslogfc_orf_maxp_spearmanr_cv_b_0.7</th>\n",
       "      <td>0.7</td>\n",
       "      <td>424</td>\n",
       "      <td>2878</td>\n",
       "      <td>1</td>\n",
       "      <td>8</td>\n",
       "      <td>13.575472</td>\n",
       "      <td>11.349880</td>\n",
       "      <td>10</td>\n",
       "      <td>106</td>\n",
       "      <td>39</td>\n",
       "      <td>2</td>\n",
       "      <td>13.666667</td>\n",
       "      <td>12.304540</td>\n",
       "    </tr>\n",
       "    <tr>\n",
       "      <th>augmented_ppi_confidence_0594_hub_999_pruned_ccle_abslogfc_orf_maxp_spearmanr_cv_b_0.8</th>\n",
       "      <td>0.8</td>\n",
       "      <td>527</td>\n",
       "      <td>3626</td>\n",
       "      <td>1</td>\n",
       "      <td>9</td>\n",
       "      <td>13.760911</td>\n",
       "      <td>12.215481</td>\n",
       "      <td>20</td>\n",
       "      <td>109</td>\n",
       "      <td>39</td>\n",
       "      <td>2</td>\n",
       "      <td>14.974359</td>\n",
       "      <td>13.348364</td>\n",
       "    </tr>\n",
       "    <tr>\n",
       "      <th>augmented_ppi_confidence_0594_hub_999_pruned_ccle_abslogfc_orf_maxp_spearmanr_cv_b_0.9</th>\n",
       "      <td>0.9</td>\n",
       "      <td>621</td>\n",
       "      <td>4314</td>\n",
       "      <td>1</td>\n",
       "      <td>9</td>\n",
       "      <td>13.893720</td>\n",
       "      <td>12.660244</td>\n",
       "      <td>27</td>\n",
       "      <td>112</td>\n",
       "      <td>39</td>\n",
       "      <td>2</td>\n",
       "      <td>15.794872</td>\n",
       "      <td>14.144274</td>\n",
       "    </tr>\n",
       "    <tr>\n",
       "      <th>augmented_ppi_confidence_0594_hub_999_pruned_ccle_abslogfc_orf_maxp_spearmanr_cv_b_1.0</th>\n",
       "      <td>1.0</td>\n",
       "      <td>729</td>\n",
       "      <td>5001</td>\n",
       "      <td>1</td>\n",
       "      <td>10</td>\n",
       "      <td>13.720165</td>\n",
       "      <td>13.001262</td>\n",
       "      <td>39</td>\n",
       "      <td>114</td>\n",
       "      <td>39</td>\n",
       "      <td>2</td>\n",
       "      <td>16.923077</td>\n",
       "      <td>15.359595</td>\n",
       "    </tr>\n",
       "    <tr>\n",
       "      <th>...</th>\n",
       "      <td>...</td>\n",
       "      <td>...</td>\n",
       "      <td>...</td>\n",
       "      <td>...</td>\n",
       "      <td>...</td>\n",
       "      <td>...</td>\n",
       "      <td>...</td>\n",
       "      <td>...</td>\n",
       "      <td>...</td>\n",
       "      <td>...</td>\n",
       "      <td>...</td>\n",
       "      <td>...</td>\n",
       "      <td>...</td>\n",
       "    </tr>\n",
       "    <tr>\n",
       "      <th>augmented_ppi_confidence_0594_hub_999_pruned_ccle_abslogfc_orf_maxp_spearmanr_cv_b_9.5</th>\n",
       "      <td>9.5</td>\n",
       "      <td>6506</td>\n",
       "      <td>34325</td>\n",
       "      <td>1</td>\n",
       "      <td>23</td>\n",
       "      <td>10.551798</td>\n",
       "      <td>16.921797</td>\n",
       "      <td>1201</td>\n",
       "      <td>175</td>\n",
       "      <td>39</td>\n",
       "      <td>1</td>\n",
       "      <td>41.179487</td>\n",
       "      <td>40.026191</td>\n",
       "    </tr>\n",
       "    <tr>\n",
       "      <th>augmented_ppi_confidence_0594_hub_999_pruned_ccle_abslogfc_orf_maxp_spearmanr_cv_b_9.6</th>\n",
       "      <td>9.6</td>\n",
       "      <td>6513</td>\n",
       "      <td>34295</td>\n",
       "      <td>1</td>\n",
       "      <td>20</td>\n",
       "      <td>10.531245</td>\n",
       "      <td>16.940933</td>\n",
       "      <td>1207</td>\n",
       "      <td>175</td>\n",
       "      <td>39</td>\n",
       "      <td>1</td>\n",
       "      <td>41.230769</td>\n",
       "      <td>40.153846</td>\n",
       "    </tr>\n",
       "    <tr>\n",
       "      <th>augmented_ppi_confidence_0594_hub_999_pruned_ccle_abslogfc_orf_maxp_spearmanr_cv_b_9.7</th>\n",
       "      <td>9.7</td>\n",
       "      <td>6548</td>\n",
       "      <td>34523</td>\n",
       "      <td>1</td>\n",
       "      <td>29</td>\n",
       "      <td>10.544594</td>\n",
       "      <td>16.958040</td>\n",
       "      <td>1214</td>\n",
       "      <td>175</td>\n",
       "      <td>39</td>\n",
       "      <td>1</td>\n",
       "      <td>41.256410</td>\n",
       "      <td>40.238212</td>\n",
       "    </tr>\n",
       "    <tr>\n",
       "      <th>augmented_ppi_confidence_0594_hub_999_pruned_ccle_abslogfc_orf_maxp_spearmanr_cv_b_9.8</th>\n",
       "      <td>9.8</td>\n",
       "      <td>6565</td>\n",
       "      <td>34497</td>\n",
       "      <td>1</td>\n",
       "      <td>25</td>\n",
       "      <td>10.509368</td>\n",
       "      <td>16.944273</td>\n",
       "      <td>1226</td>\n",
       "      <td>175</td>\n",
       "      <td>39</td>\n",
       "      <td>1</td>\n",
       "      <td>41.282051</td>\n",
       "      <td>40.240271</td>\n",
       "    </tr>\n",
       "    <tr>\n",
       "      <th>augmented_ppi_confidence_0594_hub_999_pruned_ccle_abslogfc_orf_maxp_spearmanr_cv_b_9.9</th>\n",
       "      <td>9.9</td>\n",
       "      <td>6575</td>\n",
       "      <td>34452</td>\n",
       "      <td>1</td>\n",
       "      <td>25</td>\n",
       "      <td>10.479696</td>\n",
       "      <td>16.922975</td>\n",
       "      <td>1237</td>\n",
       "      <td>176</td>\n",
       "      <td>39</td>\n",
       "      <td>1</td>\n",
       "      <td>41.307692</td>\n",
       "      <td>40.271612</td>\n",
       "    </tr>\n",
       "  </tbody>\n",
       "</table>\n",
       "<p>94 rows × 13 columns</p>\n",
       "</div>"
      ],
      "text/plain": [
       "                                                    beta  n_nodes  n_edges  \\\n",
       "augmented_ppi_confidence_0594_hub_999_pruned_cc...   0.6      348     2316   \n",
       "augmented_ppi_confidence_0594_hub_999_pruned_cc...   0.7      424     2878   \n",
       "augmented_ppi_confidence_0594_hub_999_pruned_cc...   0.8      527     3626   \n",
       "augmented_ppi_confidence_0594_hub_999_pruned_cc...   0.9      621     4314   \n",
       "augmented_ppi_confidence_0594_hub_999_pruned_cc...   1.0      729     5001   \n",
       "...                                                  ...      ...      ...   \n",
       "augmented_ppi_confidence_0594_hub_999_pruned_cc...   9.5     6506    34325   \n",
       "augmented_ppi_confidence_0594_hub_999_pruned_cc...   9.6     6513    34295   \n",
       "augmented_ppi_confidence_0594_hub_999_pruned_cc...   9.7     6548    34523   \n",
       "augmented_ppi_confidence_0594_hub_999_pruned_cc...   9.8     6565    34497   \n",
       "augmented_ppi_confidence_0594_hub_999_pruned_cc...   9.9     6575    34452   \n",
       "\n",
       "                                                    n_connected_components  \\\n",
       "augmented_ppi_confidence_0594_hub_999_pruned_cc...                       1   \n",
       "augmented_ppi_confidence_0594_hub_999_pruned_cc...                       1   \n",
       "augmented_ppi_confidence_0594_hub_999_pruned_cc...                       1   \n",
       "augmented_ppi_confidence_0594_hub_999_pruned_cc...                       1   \n",
       "augmented_ppi_confidence_0594_hub_999_pruned_cc...                       1   \n",
       "...                                                                    ...   \n",
       "augmented_ppi_confidence_0594_hub_999_pruned_cc...                       1   \n",
       "augmented_ppi_confidence_0594_hub_999_pruned_cc...                       1   \n",
       "augmented_ppi_confidence_0594_hub_999_pruned_cc...                       1   \n",
       "augmented_ppi_confidence_0594_hub_999_pruned_cc...                       1   \n",
       "augmented_ppi_confidence_0594_hub_999_pruned_cc...                       1   \n",
       "\n",
       "                                                    n_louvain_clusters  \\\n",
       "augmented_ppi_confidence_0594_hub_999_pruned_cc...                   7   \n",
       "augmented_ppi_confidence_0594_hub_999_pruned_cc...                   8   \n",
       "augmented_ppi_confidence_0594_hub_999_pruned_cc...                   9   \n",
       "augmented_ppi_confidence_0594_hub_999_pruned_cc...                   9   \n",
       "augmented_ppi_confidence_0594_hub_999_pruned_cc...                  10   \n",
       "...                                                                ...   \n",
       "augmented_ppi_confidence_0594_hub_999_pruned_cc...                  23   \n",
       "augmented_ppi_confidence_0594_hub_999_pruned_cc...                  20   \n",
       "augmented_ppi_confidence_0594_hub_999_pruned_cc...                  29   \n",
       "augmented_ppi_confidence_0594_hub_999_pruned_cc...                  25   \n",
       "augmented_ppi_confidence_0594_hub_999_pruned_cc...                  25   \n",
       "\n",
       "                                                    avg_node_degree  \\\n",
       "augmented_ppi_confidence_0594_hub_999_pruned_cc...        13.310345   \n",
       "augmented_ppi_confidence_0594_hub_999_pruned_cc...        13.575472   \n",
       "augmented_ppi_confidence_0594_hub_999_pruned_cc...        13.760911   \n",
       "augmented_ppi_confidence_0594_hub_999_pruned_cc...        13.893720   \n",
       "augmented_ppi_confidence_0594_hub_999_pruned_cc...        13.720165   \n",
       "...                                                             ...   \n",
       "augmented_ppi_confidence_0594_hub_999_pruned_cc...        10.551798   \n",
       "augmented_ppi_confidence_0594_hub_999_pruned_cc...        10.531245   \n",
       "augmented_ppi_confidence_0594_hub_999_pruned_cc...        10.544594   \n",
       "augmented_ppi_confidence_0594_hub_999_pruned_cc...        10.509368   \n",
       "augmented_ppi_confidence_0594_hub_999_pruned_cc...        10.479696   \n",
       "\n",
       "                                                    std_node_degree  \\\n",
       "augmented_ppi_confidence_0594_hub_999_pruned_cc...        10.618310   \n",
       "augmented_ppi_confidence_0594_hub_999_pruned_cc...        11.349880   \n",
       "augmented_ppi_confidence_0594_hub_999_pruned_cc...        12.215481   \n",
       "augmented_ppi_confidence_0594_hub_999_pruned_cc...        12.660244   \n",
       "augmented_ppi_confidence_0594_hub_999_pruned_cc...        13.001262   \n",
       "...                                                             ...   \n",
       "augmented_ppi_confidence_0594_hub_999_pruned_cc...        16.921797   \n",
       "augmented_ppi_confidence_0594_hub_999_pruned_cc...        16.940933   \n",
       "augmented_ppi_confidence_0594_hub_999_pruned_cc...        16.958040   \n",
       "augmented_ppi_confidence_0594_hub_999_pruned_cc...        16.944273   \n",
       "augmented_ppi_confidence_0594_hub_999_pruned_cc...        16.922975   \n",
       "\n",
       "                                                    n_leaf_nodes  \\\n",
       "augmented_ppi_confidence_0594_hub_999_pruned_cc...             9   \n",
       "augmented_ppi_confidence_0594_hub_999_pruned_cc...            10   \n",
       "augmented_ppi_confidence_0594_hub_999_pruned_cc...            20   \n",
       "augmented_ppi_confidence_0594_hub_999_pruned_cc...            27   \n",
       "augmented_ppi_confidence_0594_hub_999_pruned_cc...            39   \n",
       "...                                                          ...   \n",
       "augmented_ppi_confidence_0594_hub_999_pruned_cc...          1201   \n",
       "augmented_ppi_confidence_0594_hub_999_pruned_cc...          1207   \n",
       "augmented_ppi_confidence_0594_hub_999_pruned_cc...          1214   \n",
       "augmented_ppi_confidence_0594_hub_999_pruned_cc...          1226   \n",
       "augmented_ppi_confidence_0594_hub_999_pruned_cc...          1237   \n",
       "\n",
       "                                                    n_target_nodes  \\\n",
       "augmented_ppi_confidence_0594_hub_999_pruned_cc...             101   \n",
       "augmented_ppi_confidence_0594_hub_999_pruned_cc...             106   \n",
       "augmented_ppi_confidence_0594_hub_999_pruned_cc...             109   \n",
       "augmented_ppi_confidence_0594_hub_999_pruned_cc...             112   \n",
       "augmented_ppi_confidence_0594_hub_999_pruned_cc...             114   \n",
       "...                                                            ...   \n",
       "augmented_ppi_confidence_0594_hub_999_pruned_cc...             175   \n",
       "augmented_ppi_confidence_0594_hub_999_pruned_cc...             175   \n",
       "augmented_ppi_confidence_0594_hub_999_pruned_cc...             175   \n",
       "augmented_ppi_confidence_0594_hub_999_pruned_cc...             175   \n",
       "augmented_ppi_confidence_0594_hub_999_pruned_cc...             176   \n",
       "\n",
       "                                                    n_spec_target_nodes  \\\n",
       "augmented_ppi_confidence_0594_hub_999_pruned_cc...                   39   \n",
       "augmented_ppi_confidence_0594_hub_999_pruned_cc...                   39   \n",
       "augmented_ppi_confidence_0594_hub_999_pruned_cc...                   39   \n",
       "augmented_ppi_confidence_0594_hub_999_pruned_cc...                   39   \n",
       "augmented_ppi_confidence_0594_hub_999_pruned_cc...                   39   \n",
       "...                                                                 ...   \n",
       "augmented_ppi_confidence_0594_hub_999_pruned_cc...                   39   \n",
       "augmented_ppi_confidence_0594_hub_999_pruned_cc...                   39   \n",
       "augmented_ppi_confidence_0594_hub_999_pruned_cc...                   39   \n",
       "augmented_ppi_confidence_0594_hub_999_pruned_cc...                   39   \n",
       "augmented_ppi_confidence_0594_hub_999_pruned_cc...                   39   \n",
       "\n",
       "                                                    n_spec_target_leafs  \\\n",
       "augmented_ppi_confidence_0594_hub_999_pruned_cc...                    2   \n",
       "augmented_ppi_confidence_0594_hub_999_pruned_cc...                    2   \n",
       "augmented_ppi_confidence_0594_hub_999_pruned_cc...                    2   \n",
       "augmented_ppi_confidence_0594_hub_999_pruned_cc...                    2   \n",
       "augmented_ppi_confidence_0594_hub_999_pruned_cc...                    2   \n",
       "...                                                                 ...   \n",
       "augmented_ppi_confidence_0594_hub_999_pruned_cc...                    1   \n",
       "augmented_ppi_confidence_0594_hub_999_pruned_cc...                    1   \n",
       "augmented_ppi_confidence_0594_hub_999_pruned_cc...                    1   \n",
       "augmented_ppi_confidence_0594_hub_999_pruned_cc...                    1   \n",
       "augmented_ppi_confidence_0594_hub_999_pruned_cc...                    1   \n",
       "\n",
       "                                                    avg_spec_target_degree  \\\n",
       "augmented_ppi_confidence_0594_hub_999_pruned_cc...               12.820513   \n",
       "augmented_ppi_confidence_0594_hub_999_pruned_cc...               13.666667   \n",
       "augmented_ppi_confidence_0594_hub_999_pruned_cc...               14.974359   \n",
       "augmented_ppi_confidence_0594_hub_999_pruned_cc...               15.794872   \n",
       "augmented_ppi_confidence_0594_hub_999_pruned_cc...               16.923077   \n",
       "...                                                                    ...   \n",
       "augmented_ppi_confidence_0594_hub_999_pruned_cc...               41.179487   \n",
       "augmented_ppi_confidence_0594_hub_999_pruned_cc...               41.230769   \n",
       "augmented_ppi_confidence_0594_hub_999_pruned_cc...               41.256410   \n",
       "augmented_ppi_confidence_0594_hub_999_pruned_cc...               41.282051   \n",
       "augmented_ppi_confidence_0594_hub_999_pruned_cc...               41.307692   \n",
       "\n",
       "                                                    std_spec_target_degree  \n",
       "augmented_ppi_confidence_0594_hub_999_pruned_cc...               11.360913  \n",
       "augmented_ppi_confidence_0594_hub_999_pruned_cc...               12.304540  \n",
       "augmented_ppi_confidence_0594_hub_999_pruned_cc...               13.348364  \n",
       "augmented_ppi_confidence_0594_hub_999_pruned_cc...               14.144274  \n",
       "augmented_ppi_confidence_0594_hub_999_pruned_cc...               15.359595  \n",
       "...                                                                    ...  \n",
       "augmented_ppi_confidence_0594_hub_999_pruned_cc...               40.026191  \n",
       "augmented_ppi_confidence_0594_hub_999_pruned_cc...               40.153846  \n",
       "augmented_ppi_confidence_0594_hub_999_pruned_cc...               40.238212  \n",
       "augmented_ppi_confidence_0594_hub_999_pruned_cc...               40.240271  \n",
       "augmented_ppi_confidence_0594_hub_999_pruned_cc...               40.271612  \n",
       "\n",
       "[94 rows x 13 columns]"
      ]
     },
     "execution_count": 15,
     "metadata": {},
     "output_type": "execute_result"
    }
   ],
   "source": [
    "augmented_pcst_mis_results = analyze_pcst_sensitivity_analyses_results(\n",
    "    augmented_pcst_mis_dict,\n",
    "    target_nodes=orf_targets,\n",
    "    spec_targets=specific_targets,\n",
    ")\n",
    "augmented_pcst_mis_results.loc[\n",
    "    augmented_pcst_mis_results[\"n_spec_target_nodes\"]\n",
    "    == np.max(augmented_pcst_mis_results[\"n_spec_target_nodes\"])\n",
    "].sort_values(\"beta\")"
   ]
  },
  {
   "cell_type": "code",
   "execution_count": 16,
   "id": "6cb7884c",
   "metadata": {},
   "outputs": [
    {
     "data": {
      "image/png": "[encoded data removed]",
      "text/plain": [
       "<Figure size 864x720 with 6 Axes>"
      ]
     },
     "metadata": {
      "needs_background": "light"
     },
     "output_type": "display_data"
    }
   ],
   "source": [
    "summarize_analyses_results_visually(augmented_pcst_mis_results)"
   ]
  },
  {
   "cell_type": "markdown",
   "id": "e6621bc2",
   "metadata": {},
   "source": [
    "Since we aim to simply learn the interactome that describe the individual specific ORF targets we choose the smallest graph solution that spans all those targets, which is obtained at $\\beta$=0.6."
   ]
  },
  {
   "cell_type": "code",
   "execution_count": 17,
   "id": "f7f9ce47",
   "metadata": {},
   "outputs": [
    {
     "name": "stdout",
     "output_type": "stream",
     "text": [
      "Graph named 'mis_sol' with 348 nodes and 2316 edges\n"
     ]
    },
    {
     "name": "stderr",
     "output_type": "stream",
     "text": [
      "<ipython-input-17-a653ff67ed72>:5: DeprecationWarning: info is deprecated and will be removed in version 3.0.\n",
      "\n",
      "  print(nx.info(mis_sol))\n"
     ]
    }
   ],
   "source": [
    "mis_sol = augmented_pcst_mis_dict[\n",
    "    \"augmented_ppi_confidence_0594_hub_999_pruned_ccle_abslogfc_orf_maxp_spearmanr_cv_b_0.6\"\n",
    "].copy()\n",
    "mis_sol.name = \"mis_sol\"\n",
    "print(nx.info(mis_sol))"
   ]
  },
  {
   "cell_type": "markdown",
   "id": "ec661ea5",
   "metadata": {},
   "source": [
    "The corresponding network consists of 348 nodes with an average degree of 13.31 stemming from 2'316 edges. The network covers all 39 structural regulator genes covered in the input graph."
   ]
  },
  {
   "cell_type": "markdown",
   "id": "70aafab3",
   "metadata": {},
   "source": [
    "---\n",
    "\n",
    "### 2.2. Spearman correlation edge weights\n",
    "\n",
    "After having inferred the solution using the MINT-score inspired edge costs, we will now rerun the analyses using $1-r_{Spearman}$ as an alternative edge weight defintion. The intuition is that this will further guide the derivation of the interactome to focus on links that are specific to our cell-type of interest. On the flip side the metric were computed on noisy scRNAseq data which might limit the descriptive power of this metric to evaluate the strength of a regulatory link."
   ]
  },
  {
   "cell_type": "markdown",
   "id": "d1c9b1f2",
   "metadata": {},
   "source": [
    "Since the Spearman-based edge weights are in the range of [0,1] compared to those previously used for MINT score based ones [0,0.594], we will run the screen for $\\beta \\in$ [0,20]."
   ]
  },
  {
   "cell_type": "code",
   "execution_count": 18,
   "id": "7ec17561",
   "metadata": {},
   "outputs": [],
   "source": [
    "bs = np.arange(0.1, 10, 0.1)"
   ]
  },
  {
   "cell_type": "code",
   "execution_count": 29,
   "id": "96cd5fb3",
   "metadata": {},
   "outputs": [],
   "source": [
    "edge_attr_dict = list(ppi.edges(data=True))[0][2]\n",
    "if \"spearmanr\" in edge_attr_dict:\n",
    "    spearmanr_id = \"spearmanr\"\n",
    "else:\n",
    "    spearmanr_id = \"scgex_spearmanr\""
   ]
  },
  {
   "cell_type": "code",
   "execution_count": 30,
   "id": "46ac59bd",
   "metadata": {},
   "outputs": [
    {
     "name": "stderr",
     "output_type": "stream",
     "text": [
      "Compute PCSTs: 100%|██████████| 99/99 [00:05<00:00, 17.54it/s]\n"
     ]
    }
   ],
   "source": [
    "(pcst_spearman_dict, augmented_pcst_spearman_dict,) = run_pcst_sensitivity_analyses(\n",
    "    graph=ppi,\n",
    "    bs=bs,\n",
    "    prize_key=\"prize\",\n",
    "    weight_key=spearmanr_id,\n",
    "    minmax_scale=True,\n",
    ")"
   ]
  },
  {
   "cell_type": "code",
   "execution_count": 31,
   "id": "c20ff70b",
   "metadata": {
    "scrolled": false
   },
   "outputs": [
    {
     "name": "stderr",
     "output_type": "stream",
     "text": [
      "Analyze tree:   0%|          | 0/99 [00:00<?, ?it/s]/home/paysan_d/miniconda3/envs/i2r/lib/python3.8/site-packages/numpy/core/fromnumeric.py:3474: RuntimeWarning: Mean of empty slice.\n",
      "  return _methods._mean(a, axis=axis, dtype=dtype,\n",
      "/home/paysan_d/miniconda3/envs/i2r/lib/python3.8/site-packages/numpy/core/_methods.py:189: RuntimeWarning: invalid value encountered in double_scalars\n",
      "  ret = ret.dtype.type(ret / rcount)\n",
      "/home/paysan_d/miniconda3/envs/i2r/lib/python3.8/site-packages/numpy/core/_methods.py:264: RuntimeWarning: Degrees of freedom <= 0 for slice\n",
      "  ret = _var(a, axis=axis, dtype=dtype, out=out, ddof=ddof,\n",
      "/home/paysan_d/miniconda3/envs/i2r/lib/python3.8/site-packages/numpy/core/_methods.py:222: RuntimeWarning: invalid value encountered in true_divide\n",
      "  arrmean = um.true_divide(arrmean, div, out=arrmean, casting='unsafe',\n",
      "/home/paysan_d/miniconda3/envs/i2r/lib/python3.8/site-packages/numpy/core/_methods.py:256: RuntimeWarning: invalid value encountered in double_scalars\n",
      "  ret = ret.dtype.type(ret / rcount)\n",
      "Analyze tree: 100%|██████████| 99/99 [00:22<00:00,  4.45it/s] \n"
     ]
    },
    {
     "data": {
      "text/html": [
       "<div>\n",
       "<style scoped>\n",
       "    .dataframe tbody tr th:only-of-type {\n",
       "        vertical-align: middle;\n",
       "    }\n",
       "\n",
       "    .dataframe tbody tr th {\n",
       "        vertical-align: top;\n",
       "    }\n",
       "\n",
       "    .dataframe thead th {\n",
       "        text-align: right;\n",
       "    }\n",
       "</style>\n",
       "<table border=\"1\" class=\"dataframe\">\n",
       "  <thead>\n",
       "    <tr style=\"text-align: right;\">\n",
       "      <th></th>\n",
       "      <th>beta</th>\n",
       "      <th>n_nodes</th>\n",
       "      <th>n_edges</th>\n",
       "      <th>n_connected_components</th>\n",
       "      <th>n_louvain_clusters</th>\n",
       "      <th>avg_node_degree</th>\n",
       "      <th>std_node_degree</th>\n",
       "      <th>n_leaf_nodes</th>\n",
       "      <th>n_target_nodes</th>\n",
       "      <th>n_spec_target_nodes</th>\n",
       "      <th>n_spec_target_leafs</th>\n",
       "      <th>avg_spec_target_degree</th>\n",
       "      <th>std_spec_target_degree</th>\n",
       "    </tr>\n",
       "  </thead>\n",
       "  <tbody>\n",
       "    <tr>\n",
       "      <th>augmented_ppi_confidence_0594_hub_999_pruned_ccle_abslogfc_orf_maxp_spearmanr_cv_b_2.6</th>\n",
       "      <td>2.6</td>\n",
       "      <td>249</td>\n",
       "      <td>526</td>\n",
       "      <td>1</td>\n",
       "      <td>9</td>\n",
       "      <td>4.224900</td>\n",
       "      <td>4.062467</td>\n",
       "      <td>55</td>\n",
       "      <td>47</td>\n",
       "      <td>39</td>\n",
       "      <td>7</td>\n",
       "      <td>5.076923</td>\n",
       "      <td>4.816556</td>\n",
       "    </tr>\n",
       "    <tr>\n",
       "      <th>augmented_ppi_confidence_0594_hub_999_pruned_ccle_abslogfc_orf_maxp_spearmanr_cv_b_2.7</th>\n",
       "      <td>2.7</td>\n",
       "      <td>269</td>\n",
       "      <td>565</td>\n",
       "      <td>1</td>\n",
       "      <td>9</td>\n",
       "      <td>4.200743</td>\n",
       "      <td>4.077848</td>\n",
       "      <td>63</td>\n",
       "      <td>48</td>\n",
       "      <td>39</td>\n",
       "      <td>7</td>\n",
       "      <td>5.358974</td>\n",
       "      <td>5.096440</td>\n",
       "    </tr>\n",
       "    <tr>\n",
       "      <th>augmented_ppi_confidence_0594_hub_999_pruned_ccle_abslogfc_orf_maxp_spearmanr_cv_b_2.8</th>\n",
       "      <td>2.8</td>\n",
       "      <td>310</td>\n",
       "      <td>681</td>\n",
       "      <td>1</td>\n",
       "      <td>11</td>\n",
       "      <td>4.393548</td>\n",
       "      <td>4.246436</td>\n",
       "      <td>71</td>\n",
       "      <td>49</td>\n",
       "      <td>39</td>\n",
       "      <td>6</td>\n",
       "      <td>5.743590</td>\n",
       "      <td>5.591743</td>\n",
       "    </tr>\n",
       "    <tr>\n",
       "      <th>augmented_ppi_confidence_0594_hub_999_pruned_ccle_abslogfc_orf_maxp_spearmanr_cv_b_2.9</th>\n",
       "      <td>2.9</td>\n",
       "      <td>336</td>\n",
       "      <td>757</td>\n",
       "      <td>1</td>\n",
       "      <td>11</td>\n",
       "      <td>4.505952</td>\n",
       "      <td>4.295619</td>\n",
       "      <td>75</td>\n",
       "      <td>49</td>\n",
       "      <td>39</td>\n",
       "      <td>6</td>\n",
       "      <td>5.948718</td>\n",
       "      <td>5.674725</td>\n",
       "    </tr>\n",
       "    <tr>\n",
       "      <th>augmented_ppi_confidence_0594_hub_999_pruned_ccle_abslogfc_orf_maxp_spearmanr_cv_b_3.0</th>\n",
       "      <td>3.0</td>\n",
       "      <td>346</td>\n",
       "      <td>755</td>\n",
       "      <td>1</td>\n",
       "      <td>11</td>\n",
       "      <td>4.364162</td>\n",
       "      <td>4.207795</td>\n",
       "      <td>78</td>\n",
       "      <td>50</td>\n",
       "      <td>39</td>\n",
       "      <td>7</td>\n",
       "      <td>5.923077</td>\n",
       "      <td>5.779649</td>\n",
       "    </tr>\n",
       "    <tr>\n",
       "      <th>...</th>\n",
       "      <td>...</td>\n",
       "      <td>...</td>\n",
       "      <td>...</td>\n",
       "      <td>...</td>\n",
       "      <td>...</td>\n",
       "      <td>...</td>\n",
       "      <td>...</td>\n",
       "      <td>...</td>\n",
       "      <td>...</td>\n",
       "      <td>...</td>\n",
       "      <td>...</td>\n",
       "      <td>...</td>\n",
       "      <td>...</td>\n",
       "    </tr>\n",
       "    <tr>\n",
       "      <th>augmented_ppi_confidence_0594_hub_999_pruned_ccle_abslogfc_orf_maxp_spearmanr_cv_b_9.5</th>\n",
       "      <td>9.5</td>\n",
       "      <td>3337</td>\n",
       "      <td>13288</td>\n",
       "      <td>1</td>\n",
       "      <td>17</td>\n",
       "      <td>7.964040</td>\n",
       "      <td>11.810735</td>\n",
       "      <td>728</td>\n",
       "      <td>117</td>\n",
       "      <td>39</td>\n",
       "      <td>1</td>\n",
       "      <td>24.923077</td>\n",
       "      <td>24.040974</td>\n",
       "    </tr>\n",
       "    <tr>\n",
       "      <th>augmented_ppi_confidence_0594_hub_999_pruned_ccle_abslogfc_orf_maxp_spearmanr_cv_b_9.6</th>\n",
       "      <td>9.6</td>\n",
       "      <td>3380</td>\n",
       "      <td>13457</td>\n",
       "      <td>1</td>\n",
       "      <td>18</td>\n",
       "      <td>7.962722</td>\n",
       "      <td>11.834251</td>\n",
       "      <td>738</td>\n",
       "      <td>117</td>\n",
       "      <td>39</td>\n",
       "      <td>1</td>\n",
       "      <td>24.974359</td>\n",
       "      <td>24.167670</td>\n",
       "    </tr>\n",
       "    <tr>\n",
       "      <th>augmented_ppi_confidence_0594_hub_999_pruned_ccle_abslogfc_orf_maxp_spearmanr_cv_b_9.7</th>\n",
       "      <td>9.7</td>\n",
       "      <td>3424</td>\n",
       "      <td>13761</td>\n",
       "      <td>1</td>\n",
       "      <td>21</td>\n",
       "      <td>8.037967</td>\n",
       "      <td>11.962938</td>\n",
       "      <td>736</td>\n",
       "      <td>118</td>\n",
       "      <td>39</td>\n",
       "      <td>1</td>\n",
       "      <td>25.282051</td>\n",
       "      <td>24.286694</td>\n",
       "    </tr>\n",
       "    <tr>\n",
       "      <th>augmented_ppi_confidence_0594_hub_999_pruned_ccle_abslogfc_orf_maxp_spearmanr_cv_b_9.8</th>\n",
       "      <td>9.8</td>\n",
       "      <td>3470</td>\n",
       "      <td>13982</td>\n",
       "      <td>1</td>\n",
       "      <td>23</td>\n",
       "      <td>8.058790</td>\n",
       "      <td>12.026172</td>\n",
       "      <td>744</td>\n",
       "      <td>117</td>\n",
       "      <td>39</td>\n",
       "      <td>1</td>\n",
       "      <td>25.384615</td>\n",
       "      <td>24.434754</td>\n",
       "    </tr>\n",
       "    <tr>\n",
       "      <th>augmented_ppi_confidence_0594_hub_999_pruned_ccle_abslogfc_orf_maxp_spearmanr_cv_b_9.9</th>\n",
       "      <td>9.9</td>\n",
       "      <td>3506</td>\n",
       "      <td>14141</td>\n",
       "      <td>1</td>\n",
       "      <td>18</td>\n",
       "      <td>8.066743</td>\n",
       "      <td>12.075447</td>\n",
       "      <td>759</td>\n",
       "      <td>117</td>\n",
       "      <td>39</td>\n",
       "      <td>1</td>\n",
       "      <td>25.589744</td>\n",
       "      <td>24.607397</td>\n",
       "    </tr>\n",
       "  </tbody>\n",
       "</table>\n",
       "<p>74 rows × 13 columns</p>\n",
       "</div>"
      ],
      "text/plain": [
       "                                                    beta  n_nodes  n_edges  \\\n",
       "augmented_ppi_confidence_0594_hub_999_pruned_cc...   2.6      249      526   \n",
       "augmented_ppi_confidence_0594_hub_999_pruned_cc...   2.7      269      565   \n",
       "augmented_ppi_confidence_0594_hub_999_pruned_cc...   2.8      310      681   \n",
       "augmented_ppi_confidence_0594_hub_999_pruned_cc...   2.9      336      757   \n",
       "augmented_ppi_confidence_0594_hub_999_pruned_cc...   3.0      346      755   \n",
       "...                                                  ...      ...      ...   \n",
       "augmented_ppi_confidence_0594_hub_999_pruned_cc...   9.5     3337    13288   \n",
       "augmented_ppi_confidence_0594_hub_999_pruned_cc...   9.6     3380    13457   \n",
       "augmented_ppi_confidence_0594_hub_999_pruned_cc...   9.7     3424    13761   \n",
       "augmented_ppi_confidence_0594_hub_999_pruned_cc...   9.8     3470    13982   \n",
       "augmented_ppi_confidence_0594_hub_999_pruned_cc...   9.9     3506    14141   \n",
       "\n",
       "                                                    n_connected_components  \\\n",
       "augmented_ppi_confidence_0594_hub_999_pruned_cc...                       1   \n",
       "augmented_ppi_confidence_0594_hub_999_pruned_cc...                       1   \n",
       "augmented_ppi_confidence_0594_hub_999_pruned_cc...                       1   \n",
       "augmented_ppi_confidence_0594_hub_999_pruned_cc...                       1   \n",
       "augmented_ppi_confidence_0594_hub_999_pruned_cc...                       1   \n",
       "...                                                                    ...   \n",
       "augmented_ppi_confidence_0594_hub_999_pruned_cc...                       1   \n",
       "augmented_ppi_confidence_0594_hub_999_pruned_cc...                       1   \n",
       "augmented_ppi_confidence_0594_hub_999_pruned_cc...                       1   \n",
       "augmented_ppi_confidence_0594_hub_999_pruned_cc...                       1   \n",
       "augmented_ppi_confidence_0594_hub_999_pruned_cc...                       1   \n",
       "\n",
       "                                                    n_louvain_clusters  \\\n",
       "augmented_ppi_confidence_0594_hub_999_pruned_cc...                   9   \n",
       "augmented_ppi_confidence_0594_hub_999_pruned_cc...                   9   \n",
       "augmented_ppi_confidence_0594_hub_999_pruned_cc...                  11   \n",
       "augmented_ppi_confidence_0594_hub_999_pruned_cc...                  11   \n",
       "augmented_ppi_confidence_0594_hub_999_pruned_cc...                  11   \n",
       "...                                                                ...   \n",
       "augmented_ppi_confidence_0594_hub_999_pruned_cc...                  17   \n",
       "augmented_ppi_confidence_0594_hub_999_pruned_cc...                  18   \n",
       "augmented_ppi_confidence_0594_hub_999_pruned_cc...                  21   \n",
       "augmented_ppi_confidence_0594_hub_999_pruned_cc...                  23   \n",
       "augmented_ppi_confidence_0594_hub_999_pruned_cc...                  18   \n",
       "\n",
       "                                                    avg_node_degree  \\\n",
       "augmented_ppi_confidence_0594_hub_999_pruned_cc...         4.224900   \n",
       "augmented_ppi_confidence_0594_hub_999_pruned_cc...         4.200743   \n",
       "augmented_ppi_confidence_0594_hub_999_pruned_cc...         4.393548   \n",
       "augmented_ppi_confidence_0594_hub_999_pruned_cc...         4.505952   \n",
       "augmented_ppi_confidence_0594_hub_999_pruned_cc...         4.364162   \n",
       "...                                                             ...   \n",
       "augmented_ppi_confidence_0594_hub_999_pruned_cc...         7.964040   \n",
       "augmented_ppi_confidence_0594_hub_999_pruned_cc...         7.962722   \n",
       "augmented_ppi_confidence_0594_hub_999_pruned_cc...         8.037967   \n",
       "augmented_ppi_confidence_0594_hub_999_pruned_cc...         8.058790   \n",
       "augmented_ppi_confidence_0594_hub_999_pruned_cc...         8.066743   \n",
       "\n",
       "                                                    std_node_degree  \\\n",
       "augmented_ppi_confidence_0594_hub_999_pruned_cc...         4.062467   \n",
       "augmented_ppi_confidence_0594_hub_999_pruned_cc...         4.077848   \n",
       "augmented_ppi_confidence_0594_hub_999_pruned_cc...         4.246436   \n",
       "augmented_ppi_confidence_0594_hub_999_pruned_cc...         4.295619   \n",
       "augmented_ppi_confidence_0594_hub_999_pruned_cc...         4.207795   \n",
       "...                                                             ...   \n",
       "augmented_ppi_confidence_0594_hub_999_pruned_cc...        11.810735   \n",
       "augmented_ppi_confidence_0594_hub_999_pruned_cc...        11.834251   \n",
       "augmented_ppi_confidence_0594_hub_999_pruned_cc...        11.962938   \n",
       "augmented_ppi_confidence_0594_hub_999_pruned_cc...        12.026172   \n",
       "augmented_ppi_confidence_0594_hub_999_pruned_cc...        12.075447   \n",
       "\n",
       "                                                    n_leaf_nodes  \\\n",
       "augmented_ppi_confidence_0594_hub_999_pruned_cc...            55   \n",
       "augmented_ppi_confidence_0594_hub_999_pruned_cc...            63   \n",
       "augmented_ppi_confidence_0594_hub_999_pruned_cc...            71   \n",
       "augmented_ppi_confidence_0594_hub_999_pruned_cc...            75   \n",
       "augmented_ppi_confidence_0594_hub_999_pruned_cc...            78   \n",
       "...                                                          ...   \n",
       "augmented_ppi_confidence_0594_hub_999_pruned_cc...           728   \n",
       "augmented_ppi_confidence_0594_hub_999_pruned_cc...           738   \n",
       "augmented_ppi_confidence_0594_hub_999_pruned_cc...           736   \n",
       "augmented_ppi_confidence_0594_hub_999_pruned_cc...           744   \n",
       "augmented_ppi_confidence_0594_hub_999_pruned_cc...           759   \n",
       "\n",
       "                                                    n_target_nodes  \\\n",
       "augmented_ppi_confidence_0594_hub_999_pruned_cc...              47   \n",
       "augmented_ppi_confidence_0594_hub_999_pruned_cc...              48   \n",
       "augmented_ppi_confidence_0594_hub_999_pruned_cc...              49   \n",
       "augmented_ppi_confidence_0594_hub_999_pruned_cc...              49   \n",
       "augmented_ppi_confidence_0594_hub_999_pruned_cc...              50   \n",
       "...                                                            ...   \n",
       "augmented_ppi_confidence_0594_hub_999_pruned_cc...             117   \n",
       "augmented_ppi_confidence_0594_hub_999_pruned_cc...             117   \n",
       "augmented_ppi_confidence_0594_hub_999_pruned_cc...             118   \n",
       "augmented_ppi_confidence_0594_hub_999_pruned_cc...             117   \n",
       "augmented_ppi_confidence_0594_hub_999_pruned_cc...             117   \n",
       "\n",
       "                                                    n_spec_target_nodes  \\\n",
       "augmented_ppi_confidence_0594_hub_999_pruned_cc...                   39   \n",
       "augmented_ppi_confidence_0594_hub_999_pruned_cc...                   39   \n",
       "augmented_ppi_confidence_0594_hub_999_pruned_cc...                   39   \n",
       "augmented_ppi_confidence_0594_hub_999_pruned_cc...                   39   \n",
       "augmented_ppi_confidence_0594_hub_999_pruned_cc...                   39   \n",
       "...                                                                 ...   \n",
       "augmented_ppi_confidence_0594_hub_999_pruned_cc...                   39   \n",
       "augmented_ppi_confidence_0594_hub_999_pruned_cc...                   39   \n",
       "augmented_ppi_confidence_0594_hub_999_pruned_cc...                   39   \n",
       "augmented_ppi_confidence_0594_hub_999_pruned_cc...                   39   \n",
       "augmented_ppi_confidence_0594_hub_999_pruned_cc...                   39   \n",
       "\n",
       "                                                    n_spec_target_leafs  \\\n",
       "augmented_ppi_confidence_0594_hub_999_pruned_cc...                    7   \n",
       "augmented_ppi_confidence_0594_hub_999_pruned_cc...                    7   \n",
       "augmented_ppi_confidence_0594_hub_999_pruned_cc...                    6   \n",
       "augmented_ppi_confidence_0594_hub_999_pruned_cc...                    6   \n",
       "augmented_ppi_confidence_0594_hub_999_pruned_cc...                    7   \n",
       "...                                                                 ...   \n",
       "augmented_ppi_confidence_0594_hub_999_pruned_cc...                    1   \n",
       "augmented_ppi_confidence_0594_hub_999_pruned_cc...                    1   \n",
       "augmented_ppi_confidence_0594_hub_999_pruned_cc...                    1   \n",
       "augmented_ppi_confidence_0594_hub_999_pruned_cc...                    1   \n",
       "augmented_ppi_confidence_0594_hub_999_pruned_cc...                    1   \n",
       "\n",
       "                                                    avg_spec_target_degree  \\\n",
       "augmented_ppi_confidence_0594_hub_999_pruned_cc...                5.076923   \n",
       "augmented_ppi_confidence_0594_hub_999_pruned_cc...                5.358974   \n",
       "augmented_ppi_confidence_0594_hub_999_pruned_cc...                5.743590   \n",
       "augmented_ppi_confidence_0594_hub_999_pruned_cc...                5.948718   \n",
       "augmented_ppi_confidence_0594_hub_999_pruned_cc...                5.923077   \n",
       "...                                                                    ...   \n",
       "augmented_ppi_confidence_0594_hub_999_pruned_cc...               24.923077   \n",
       "augmented_ppi_confidence_0594_hub_999_pruned_cc...               24.974359   \n",
       "augmented_ppi_confidence_0594_hub_999_pruned_cc...               25.282051   \n",
       "augmented_ppi_confidence_0594_hub_999_pruned_cc...               25.384615   \n",
       "augmented_ppi_confidence_0594_hub_999_pruned_cc...               25.589744   \n",
       "\n",
       "                                                    std_spec_target_degree  \n",
       "augmented_ppi_confidence_0594_hub_999_pruned_cc...                4.816556  \n",
       "augmented_ppi_confidence_0594_hub_999_pruned_cc...                5.096440  \n",
       "augmented_ppi_confidence_0594_hub_999_pruned_cc...                5.591743  \n",
       "augmented_ppi_confidence_0594_hub_999_pruned_cc...                5.674725  \n",
       "augmented_ppi_confidence_0594_hub_999_pruned_cc...                5.779649  \n",
       "...                                                                    ...  \n",
       "augmented_ppi_confidence_0594_hub_999_pruned_cc...               24.040974  \n",
       "augmented_ppi_confidence_0594_hub_999_pruned_cc...               24.167670  \n",
       "augmented_ppi_confidence_0594_hub_999_pruned_cc...               24.286694  \n",
       "augmented_ppi_confidence_0594_hub_999_pruned_cc...               24.434754  \n",
       "augmented_ppi_confidence_0594_hub_999_pruned_cc...               24.607397  \n",
       "\n",
       "[74 rows x 13 columns]"
      ]
     },
     "execution_count": 31,
     "metadata": {},
     "output_type": "execute_result"
    }
   ],
   "source": [
    "augmented_pcst_spearman_results = analyze_pcst_sensitivity_analyses_results(\n",
    "    augmented_pcst_spearman_dict,\n",
    "    target_nodes=orf_targets,\n",
    "    spec_targets=specific_targets,\n",
    ")\n",
    "augmented_pcst_spearman_results.loc[\n",
    "    augmented_pcst_spearman_results[\"n_spec_target_nodes\"]\n",
    "    == np.max(augmented_pcst_spearman_results[\"n_spec_target_nodes\"])\n",
    "].sort_values(\"beta\")"
   ]
  },
  {
   "cell_type": "code",
   "execution_count": 32,
   "id": "01fefd67",
   "metadata": {},
   "outputs": [
    {
     "data": {
      "image/png": "[encoded data removed]",
      "text/plain": [
       "<Figure size 864x720 with 6 Axes>"
      ]
     },
     "metadata": {
      "needs_background": "light"
     },
     "output_type": "display_data"
    }
   ],
   "source": [
    "summarize_analyses_results_visually(augmented_pcst_spearman_results)"
   ]
  },
  {
   "cell_type": "markdown",
   "id": "132aa5e9",
   "metadata": {},
   "source": [
    "Using the Spearman-correlation based ede weights we see much smaller rate of increase of the number of edges and nodes for the different choices of $\\beta$. This can be explained by the heavily left-skewed distribution of the Spearman edge weights when compared to the more uniformly distributed MINT score based edge weights used previously. We see that for a choice of $\\beta \\geq 2.6$ all 41 specific ORF targets are covered. Thus, we choose the corresponding graph as the solution of this setup."
   ]
  },
  {
   "cell_type": "code",
   "execution_count": 33,
   "id": "0f0e287c",
   "metadata": {},
   "outputs": [
    {
     "name": "stdout",
     "output_type": "stream",
     "text": [
      "Graph named 'spearman_sol' with 249 nodes and 526 edges\n"
     ]
    },
    {
     "name": "stderr",
     "output_type": "stream",
     "text": [
      "<ipython-input-33-fad31068561f>:5: DeprecationWarning: info is deprecated and will be removed in version 3.0.\n",
      "\n",
      "  print(nx.info(spearman_sol))\n"
     ]
    }
   ],
   "source": [
    "spearman_sol = augmented_pcst_spearman_dict[\n",
    "    \"augmented_ppi_confidence_0594_hub_999_pruned_ccle_abslogfc_orf_maxp_spearmanr_cv_b_2.6\"\n",
    "].copy()\n",
    "spearman_sol.name = \"spearman_sol\"\n",
    "print(nx.info(spearman_sol))"
   ]
  },
  {
   "cell_type": "markdown",
   "id": "d5a38ea1",
   "metadata": {},
   "source": [
    "The selected network consists of 249 nodes with an average degree of 4.225 stemming from 526 edges. It is much sparser compared to the solution obtained by using the MIscore edge weights."
   ]
  },
  {
   "cell_type": "markdown",
   "id": "95bda755",
   "metadata": {},
   "source": [
    "---\n",
    "\n",
    "### 2.3 Comparison of the MIscore and Spearman edge cost solutions\n",
    "\n",
    "To compare the solutions with the ones obtained previously for the MINT score based edge weights, we will look at the IoU of the nodes set of those two for the different choices of $\\beta$."
   ]
  },
  {
   "cell_type": "code",
   "execution_count": 34,
   "id": "e0166008",
   "metadata": {},
   "outputs": [
    {
     "name": "stderr",
     "output_type": "stream",
     "text": [
      "100%|██████████| 99/99 [00:35<00:00,  2.75it/s]\n"
     ]
    },
    {
     "data": {
      "image/png": "[encoded data removed]",
      "text/plain": [
       "<Figure size 864x576 with 2 Axes>"
      ]
     },
     "metadata": {
      "needs_background": "light"
     },
     "output_type": "display_data"
    }
   ],
   "source": [
    "fig, ax, mis_spearman_node_ious = plot_solution_node_ious(\n",
    "    augmented_pcst_mis_dict,\n",
    "    augmented_pcst_spearman_dict,\n",
    "    xlabel=\"Networks Spearman (10beta)\",\n",
    "    ylabel=\"Networks MIscore (10beta)\",\n",
    ")\n",
    "plt.show()"
   ]
  },
  {
   "cell_type": "markdown",
   "id": "a39e6f51",
   "metadata": {},
   "source": [
    "As seen in the above plot the IoU is becomes relatively high for large $\\beta$ values, i.e. for $\\beta \\geq (4,12)$ for the MIscore based edge weights and the Spearman edge weights respectively."
   ]
  },
  {
   "cell_type": "code",
   "execution_count": 35,
   "id": "2cfed829",
   "metadata": {},
   "outputs": [
    {
     "data": {
      "image/png": "[encoded data removed]",
      "text/plain": [
       "<Figure size 1152x288 with 2 Axes>"
      ]
     },
     "metadata": {
      "needs_background": "light"
     },
     "output_type": "display_data"
    }
   ],
   "source": [
    "fig, ax = plt.subplots(ncols=2, figsize=[16, 4])\n",
    "ax = ax.flatten()\n",
    "ax[0].plot(np.arange(0.1, 10, 0.1), np.max(mis_spearman_node_ious, axis=1))\n",
    "ax[0].set_xlabel(\"beta\")\n",
    "ax[0].set_ylabel(\"Max IoU\")\n",
    "ax[0].set_title(\"Max. IoU of MIscore cost networks with Spearman cost networks\")\n",
    "ax[1].plot(np.arange(0.1, 10, 0.1), np.max(mis_spearman_node_ious, axis=0))\n",
    "ax[1].set_xlabel(\"beta\")\n",
    "ax[1].set_ylabel(\"Max IoU\")\n",
    "ax[1].set_title(\"Max. IoU of Spearman cost networks with MIscore cost networks\")\n",
    "plt.show()"
   ]
  },
  {
   "cell_type": "markdown",
   "id": "0435c9b1",
   "metadata": {},
   "source": [
    "The plots above also indicate that for choices of $\\beta \\leq (2.1, 5.9)$ the IoU of the node sets is upper bounded by 0.5."
   ]
  },
  {
   "cell_type": "markdown",
   "id": "aec639b6",
   "metadata": {},
   "source": [
    "This shows, that the PCST solutions for moderate choices of $\\beta$ are quite different. Thus, we will consider both solutions in our further anlayses, i.e. the networks obtained for a choice of $\\beta=0.6$ for the MIscore edge cost network and $\\beta=2.6$ for the Spearman correlation edge cost network."
   ]
  },
  {
   "cell_type": "markdown",
   "id": "23c5596c",
   "metadata": {},
   "source": [
    "---\n",
    "\n",
    "## 3. Output U2OS interactome candidate"
   ]
  },
  {
   "cell_type": "markdown",
   "id": "88964a64",
   "metadata": {},
   "source": [
    "Based on our previous analyses, we select our four interactome candidates.\n",
    "\n",
    "The first network is the one that we obtained by that we obtained for $\\beta=0.6$ by running the PCST using the ``conf_hub_ppi`` as the input graph with the prizes being the min-max scaled absolute log fold-changes from the marker screen based on the CCLE data set and the edge weights being given by the $1-m(e)$ where $m(e)$ is the MINT-inspired score for the interaction of the nodes connected by edge $e$.\n",
    "\n",
    "The second network is the one that we obtained for the same setup but selecting $\\beta=1.2$ to further outgrow the network.\n",
    "\n",
    "The third and forth network are obtained by a similar setup but the edge weights are here given by $1-m(e)$ where $(e)$ is the absolute Spearman correlation of the scRNAseq data between the two genes."
   ]
  },
  {
   "cell_type": "code",
   "execution_count": 36,
   "id": "d1184cbf",
   "metadata": {},
   "outputs": [
    {
     "name": "stdout",
     "output_type": "stream",
     "text": [
      "Graph named 'mis_sol' with 348 nodes and 2316 edges\n",
      "\n",
      "Graph named 'spearman_sol' with 249 nodes and 526 edges\n"
     ]
    },
    {
     "name": "stderr",
     "output_type": "stream",
     "text": [
      "<ipython-input-36-63ab7b6a457c>:1: DeprecationWarning: info is deprecated and will be removed in version 3.0.\n",
      "\n",
      "  print(nx.info(mis_sol))\n",
      "<ipython-input-36-63ab7b6a457c>:4: DeprecationWarning: info is deprecated and will be removed in version 3.0.\n",
      "\n",
      "  print(nx.info(spearman_sol))\n"
     ]
    }
   ],
   "source": [
    "print(nx.info(mis_sol))\n",
    "\n",
    "print(\"\")\n",
    "print(nx.info(spearman_sol))"
   ]
  },
  {
   "cell_type": "code",
   "execution_count": 37,
   "id": "0d08119f",
   "metadata": {},
   "outputs": [],
   "source": [
    "ggi_nodes = sorted(list(spearman_sol.nodes()))\n",
    "node_selection_df = pd.DataFrame(\n",
    "    np.zeros(len(ppi_nodes)), columns=[\"selected_in_ggi\"], index=ppi_nodes\n",
    ")\n",
    "node_selection_df.loc[ggi_nodes] = 1"
   ]
  },
  {
   "cell_type": "code",
   "execution_count": 38,
   "id": "4f66ddbc",
   "metadata": {},
   "outputs": [],
   "source": [
    "output_dir = \"../../../../data/experiments/rohban/interactome/inference_results\"\n",
    "os.makedirs(output_dir, exist_ok=True)\n",
    "nx.write_graphml(\n",
    "    mis_sol,\n",
    "    os.path.join(output_dir, \"{}_cv.graphml\".format(mis_sol.name)),\n",
    ")\n",
    "nx.write_gpickle(\n",
    "    mis_sol,\n",
    "    os.path.join(output_dir, \"{}_cv.pkl\".format(mis_sol.name)),\n",
    ")"
   ]
  },
  {
   "cell_type": "code",
   "execution_count": 39,
   "id": "43298e68",
   "metadata": {},
   "outputs": [],
   "source": [
    "nx.write_graphml(\n",
    "    spearman_sol,\n",
    "    os.path.join(output_dir, \"{}_cv.graphml\".format(spearman_sol.name)),\n",
    ")\n",
    "nx.write_gpickle(\n",
    "    spearman_sol,\n",
    "    os.path.join(output_dir, \"{}_cv.pkl\".format(spearman_sol.name)),\n",
    ")"
   ]
  },
  {
   "cell_type": "code",
   "execution_count": 40,
   "id": "0729fd61",
   "metadata": {},
   "outputs": [],
   "source": [
    "node_selection_df.to_csv(os.path.join(output_dir, \"node_selection.csv\"))"
   ]
  },
  {
   "cell_type": "code",
   "execution_count": null,
   "id": "9006792f",
   "metadata": {},
   "outputs": [],
   "source": []
  }
 ],
 "metadata": {
  "kernelspec": {
   "display_name": "Python 3",
   "language": "python",
   "name": "python3"
  },
  "language_info": {
   "codemirror_mode": {
    "name": "ipython",
    "version": 3
   },
   "file_extension": ".py",
   "mimetype": "text/x-python",
   "name": "python",
   "nbconvert_exporter": "python",
   "pygments_lexer": "ipython3",
   "version": "3.8.10"
  },
  "toc": {
   "base_numbering": 1,
   "nav_menu": {},
   "number_sections": true,
   "sideBar": true,
   "skip_h1_title": false,
   "title_cell": "Table of Contents",
   "title_sidebar": "Contents",
   "toc_cell": false,
   "toc_position": {},
   "toc_section_display": true,
   "toc_window_display": false
  }
 },
 "nbformat": 4,
 "nbformat_minor": 5
}
