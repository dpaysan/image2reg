{
 "cells": [
  {
   "cell_type": "markdown",
   "id": "bd5b8950",
   "metadata": {},
   "source": [
    "# Inference of the U2OS interactome\n",
    "\n",
    "---\n",
    "\n",
    "This notebook will build up on previous analyses and aims to derive the interactome of the population of U2OS cells. To this end, we will examine different configurations of input graphs, prize assignment and edge weights used in a sensititivity analysis procedure. For each different configuration we will infer the Prize collecting Steiner tree to identify Steiner and terminal nodes which will define the space of the cell-type specific interactome.\n",
    "\n",
    "---"
   ]
  },
  {
   "cell_type": "markdown",
   "id": "6e09368f",
   "metadata": {},
   "source": [
    "## 0. Environmental setup"
   ]
  },
  {
   "cell_type": "code",
   "execution_count": 3,
   "id": "ac17144c",
   "metadata": {
    "scrolled": true
   },
   "outputs": [
    {
     "name": "stdout",
     "output_type": "stream",
     "text": [
      "The nb_black extension is already loaded. To reload it, use:\n",
      "  %reload_ext nb_black\n"
     ]
    },
    {
     "data": {
      "application/javascript": [
       "\n",
       "            setTimeout(function() {\n",
       "                var nbb_cell_id = 3;\n",
       "                var nbb_unformatted_code = \"import numpy as np\\nimport pandas as pd\\nfrom pcst_fast import pcst_fast\\nimport networkx as nx\\nimport random\\nfrom tqdm import tqdm\\nimport community\\nimport matplotlib.pyplot as plt\\nimport seaborn as sns\\nimport matplotlib.cm as cm\\nimport sys\\nimport os\\n\\nsys.path.append(\\\"../../../..\\\")\\nfrom src.utils.notebooks.ppi.inference import *\\n\\nseed = 1234\\nnp.random.seed(seed)\\nrandom.seed(seed)\\n\\n%load_ext nb_black\";\n",
       "                var nbb_formatted_code = \"import numpy as np\\nimport pandas as pd\\nfrom pcst_fast import pcst_fast\\nimport networkx as nx\\nimport random\\nfrom tqdm import tqdm\\nimport community\\nimport matplotlib.pyplot as plt\\nimport seaborn as sns\\nimport matplotlib.cm as cm\\nimport sys\\nimport os\\n\\nsys.path.append(\\\"../../../..\\\")\\nfrom src.utils.notebooks.ppi.inference import *\\n\\nseed = 1234\\nnp.random.seed(seed)\\nrandom.seed(seed)\\n\\n%load_ext nb_black\";\n",
       "                var nbb_cells = Jupyter.notebook.get_cells();\n",
       "                for (var i = 0; i < nbb_cells.length; ++i) {\n",
       "                    if (nbb_cells[i].input_prompt_number == nbb_cell_id) {\n",
       "                        if (nbb_cells[i].get_text() == nbb_unformatted_code) {\n",
       "                             nbb_cells[i].set_text(nbb_formatted_code);\n",
       "                        }\n",
       "                        break;\n",
       "                    }\n",
       "                }\n",
       "            }, 500);\n",
       "            "
      ],
      "text/plain": [
       "<IPython.core.display.Javascript object>"
      ]
     },
     "metadata": {},
     "output_type": "display_data"
    }
   ],
   "source": [
    "import numpy as np\n",
    "import pandas as pd\n",
    "from pcst_fast import pcst_fast\n",
    "import networkx as nx\n",
    "import random\n",
    "from tqdm import tqdm\n",
    "import community\n",
    "import matplotlib.pyplot as plt\n",
    "import seaborn as sns\n",
    "import matplotlib.cm as cm\n",
    "import sys\n",
    "import os\n",
    "\n",
    "sys.path.append(\"../../../..\")\n",
    "from src.utils.notebooks.ppi.inference import *\n",
    "\n",
    "seed = 1234\n",
    "np.random.seed(seed)\n",
    "random.seed(seed)\n",
    "\n",
    "%load_ext nb_black"
   ]
  },
  {
   "cell_type": "markdown",
   "id": "4bcc69b3",
   "metadata": {},
   "source": [
    "---\n",
    "\n",
    "## 1. Read in data"
   ]
  },
  {
   "cell_type": "markdown",
   "id": "65a6cec4",
   "metadata": {},
   "source": [
    "First, we load in the preprocessed protein-protein interactome graph."
   ]
  },
  {
   "cell_type": "code",
   "execution_count": 4,
   "id": "1b619543",
   "metadata": {},
   "outputs": [
    {
     "data": {
      "application/javascript": [
       "\n",
       "            setTimeout(function() {\n",
       "                var nbb_cell_id = 4;\n",
       "                var nbb_unformatted_code = \"ppi = nx.read_gpickle(\\n    \\\"../../../../data/experiments/rohban/interactome/preprocessing/cv/ppi_confidence_0594_hub_999_pruned_ccle_abslogfc_orf_maxp_spearmanr_cv.pkl\\\"\\n)\";\n",
       "                var nbb_formatted_code = \"ppi = nx.read_gpickle(\\n    \\\"../../../../data/experiments/rohban/interactome/preprocessing/cv/ppi_confidence_0594_hub_999_pruned_ccle_abslogfc_orf_maxp_spearmanr_cv.pkl\\\"\\n)\";\n",
       "                var nbb_cells = Jupyter.notebook.get_cells();\n",
       "                for (var i = 0; i < nbb_cells.length; ++i) {\n",
       "                    if (nbb_cells[i].input_prompt_number == nbb_cell_id) {\n",
       "                        if (nbb_cells[i].get_text() == nbb_unformatted_code) {\n",
       "                             nbb_cells[i].set_text(nbb_formatted_code);\n",
       "                        }\n",
       "                        break;\n",
       "                    }\n",
       "                }\n",
       "            }, 500);\n",
       "            "
      ],
      "text/plain": [
       "<IPython.core.display.Javascript object>"
      ]
     },
     "metadata": {},
     "output_type": "display_data"
    }
   ],
   "source": [
    "ppi = nx.read_gpickle(\n",
    "    \"../../../../data/experiments/rohban/interactome/preprocessing/cv/ppi_confidence_0594_hub_999_pruned_ccle_abslogfc_orf_maxp_spearmanr_cv.pkl\"\n",
    ")"
   ]
  },
  {
   "cell_type": "code",
   "execution_count": 5,
   "id": "28ef1d5f",
   "metadata": {},
   "outputs": [
    {
     "data": {
      "application/javascript": [
       "\n",
       "            setTimeout(function() {\n",
       "                var nbb_cell_id = 5;\n",
       "                var nbb_unformatted_code = \"ppi_nodes = sorted(list(ppi.nodes()))\";\n",
       "                var nbb_formatted_code = \"ppi_nodes = sorted(list(ppi.nodes()))\";\n",
       "                var nbb_cells = Jupyter.notebook.get_cells();\n",
       "                for (var i = 0; i < nbb_cells.length; ++i) {\n",
       "                    if (nbb_cells[i].input_prompt_number == nbb_cell_id) {\n",
       "                        if (nbb_cells[i].get_text() == nbb_unformatted_code) {\n",
       "                             nbb_cells[i].set_text(nbb_formatted_code);\n",
       "                        }\n",
       "                        break;\n",
       "                    }\n",
       "                }\n",
       "            }, 500);\n",
       "            "
      ],
      "text/plain": [
       "<IPython.core.display.Javascript object>"
      ]
     },
     "metadata": {},
     "output_type": "display_data"
    }
   ],
   "source": [
    "ppi_nodes = sorted(list(ppi.nodes()))"
   ]
  },
  {
   "cell_type": "code",
   "execution_count": 6,
   "id": "9078ec48",
   "metadata": {},
   "outputs": [
    {
     "data": {
      "application/javascript": [
       "\n",
       "            setTimeout(function() {\n",
       "                var nbb_cell_id = 6;\n",
       "                var nbb_unformatted_code = \"spec_results = pd.read_csv(\\n    \\\"../../../../data/experiments/rohban/images/screen/nuclei_region/specificity_screen_results_cv.csv\\\",\\n    index_col=0,\\n)\\norf_targets = set(spec_results.index)\\nspecific_targets = set(spec_results.loc[spec_results[\\\"selected\\\"]].index)\";\n",
       "                var nbb_formatted_code = \"spec_results = pd.read_csv(\\n    \\\"../../../../data/experiments/rohban/images/screen/nuclei_region/specificity_screen_results_cv.csv\\\",\\n    index_col=0,\\n)\\norf_targets = set(spec_results.index)\\nspecific_targets = set(spec_results.loc[spec_results[\\\"selected\\\"]].index)\";\n",
       "                var nbb_cells = Jupyter.notebook.get_cells();\n",
       "                for (var i = 0; i < nbb_cells.length; ++i) {\n",
       "                    if (nbb_cells[i].input_prompt_number == nbb_cell_id) {\n",
       "                        if (nbb_cells[i].get_text() == nbb_unformatted_code) {\n",
       "                             nbb_cells[i].set_text(nbb_formatted_code);\n",
       "                        }\n",
       "                        break;\n",
       "                    }\n",
       "                }\n",
       "            }, 500);\n",
       "            "
      ],
      "text/plain": [
       "<IPython.core.display.Javascript object>"
      ]
     },
     "metadata": {},
     "output_type": "display_data"
    }
   ],
   "source": [
    "spec_results = pd.read_csv(\n",
    "    \"../../../../data/experiments/rohban/images/screen/nuclei_region/specificity_screen_results_cv.csv\",\n",
    "    index_col=0,\n",
    ")\n",
    "orf_targets = set(spec_results.index)\n",
    "specific_targets = set(spec_results.loc[spec_results[\"selected\"]].index)"
   ]
  },
  {
   "cell_type": "markdown",
   "id": "504b21bf",
   "metadata": {},
   "source": [
    "---\n",
    "\n",
    "## 2. Run PCST-based inference\n",
    "\n",
    "Using the above data, we will approximately solve the PCST problem for different choice of $\\beta$ in the PCST objectives, i.e. the prize factor. We aim to identify a stable subgraph from the confidence pruned humna PPI that describes the cell-type specific interactome of U2OS cells best.\n",
    "\n",
    "We will vary the hyperparameter of beta from 0 to 10 by 0.1 to have a good trade-off of sufficient coverage and run-time."
   ]
  },
  {
   "cell_type": "code",
   "execution_count": 7,
   "id": "7580e844",
   "metadata": {},
   "outputs": [
    {
     "data": {
      "application/javascript": [
       "\n",
       "            setTimeout(function() {\n",
       "                var nbb_cell_id = 7;\n",
       "                var nbb_unformatted_code = \"bs = np.arange(0.1, 10, 0.1)\";\n",
       "                var nbb_formatted_code = \"bs = np.arange(0.1, 10, 0.1)\";\n",
       "                var nbb_cells = Jupyter.notebook.get_cells();\n",
       "                for (var i = 0; i < nbb_cells.length; ++i) {\n",
       "                    if (nbb_cells[i].input_prompt_number == nbb_cell_id) {\n",
       "                        if (nbb_cells[i].get_text() == nbb_unformatted_code) {\n",
       "                             nbb_cells[i].set_text(nbb_formatted_code);\n",
       "                        }\n",
       "                        break;\n",
       "                    }\n",
       "                }\n",
       "            }, 500);\n",
       "            "
      ],
      "text/plain": [
       "<IPython.core.display.Javascript object>"
      ]
     },
     "metadata": {},
     "output_type": "display_data"
    }
   ],
   "source": [
    "bs = np.arange(0.1, 10, 0.1)"
   ]
  },
  {
   "cell_type": "markdown",
   "id": "eca9b3ad",
   "metadata": {},
   "source": [
    "We will use different metrics for the edge weights, namely the Mint-inspired score-derived edge costs, the costs based on the Spearman correlation from the scRNAseq data set as well as those based on the Pearson correlation."
   ]
  },
  {
   "cell_type": "markdown",
   "id": "64e2b46c",
   "metadata": {},
   "source": [
    "### 2.1. MINT inspired edge costs"
   ]
  },
  {
   "cell_type": "code",
   "execution_count": 8,
   "id": "a8f16b5b",
   "metadata": {},
   "outputs": [
    {
     "name": "stderr",
     "output_type": "stream",
     "text": [
      "Compute PCSTs: 100%|██████████| 99/99 [00:06<00:00, 14.71it/s]\n"
     ]
    },
    {
     "data": {
      "application/javascript": [
       "\n",
       "            setTimeout(function() {\n",
       "                var nbb_cell_id = 8;\n",
       "                var nbb_unformatted_code = \"(pcst_mis_dict, augmented_pcst_mis_dict,) = run_pcst_sensitivity_analyses(\\n    graph=ppi,\\n    bs=bs,\\n    prize_key=\\\"prize\\\",\\n    weight_key=\\\"mi_score\\\",\\n    minmax_scale=True,\\n)\";\n",
       "                var nbb_formatted_code = \"(pcst_mis_dict, augmented_pcst_mis_dict,) = run_pcst_sensitivity_analyses(\\n    graph=ppi,\\n    bs=bs,\\n    prize_key=\\\"prize\\\",\\n    weight_key=\\\"mi_score\\\",\\n    minmax_scale=True,\\n)\";\n",
       "                var nbb_cells = Jupyter.notebook.get_cells();\n",
       "                for (var i = 0; i < nbb_cells.length; ++i) {\n",
       "                    if (nbb_cells[i].input_prompt_number == nbb_cell_id) {\n",
       "                        if (nbb_cells[i].get_text() == nbb_unformatted_code) {\n",
       "                             nbb_cells[i].set_text(nbb_formatted_code);\n",
       "                        }\n",
       "                        break;\n",
       "                    }\n",
       "                }\n",
       "            }, 500);\n",
       "            "
      ],
      "text/plain": [
       "<IPython.core.display.Javascript object>"
      ]
     },
     "metadata": {},
     "output_type": "display_data"
    }
   ],
   "source": [
    "(pcst_mis_dict, augmented_pcst_mis_dict,) = run_pcst_sensitivity_analyses(\n",
    "    graph=ppi,\n",
    "    bs=bs,\n",
    "    prize_key=\"prize\",\n",
    "    weight_key=\"mi_score\",\n",
    "    minmax_scale=True,\n",
    ")"
   ]
  },
  {
   "cell_type": "markdown",
   "id": "32f5069a",
   "metadata": {},
   "source": [
    "The function outputs the derived PCST solutions as well as the subgraphs of the input network induced by node set of the PCST solution. "
   ]
  },
  {
   "cell_type": "code",
   "execution_count": 9,
   "id": "705b9551",
   "metadata": {},
   "outputs": [
    {
     "name": "stderr",
     "output_type": "stream",
     "text": [
      "Analyze tree: 100%|██████████| 99/99 [01:27<00:00,  1.13it/s]\n"
     ]
    },
    {
     "data": {
      "text/html": [
       "<div>\n",
       "<style scoped>\n",
       "    .dataframe tbody tr th:only-of-type {\n",
       "        vertical-align: middle;\n",
       "    }\n",
       "\n",
       "    .dataframe tbody tr th {\n",
       "        vertical-align: top;\n",
       "    }\n",
       "\n",
       "    .dataframe thead th {\n",
       "        text-align: right;\n",
       "    }\n",
       "</style>\n",
       "<table border=\"1\" class=\"dataframe\">\n",
       "  <thead>\n",
       "    <tr style=\"text-align: right;\">\n",
       "      <th></th>\n",
       "      <th>beta</th>\n",
       "      <th>n_nodes</th>\n",
       "      <th>n_edges</th>\n",
       "      <th>n_connected_components</th>\n",
       "      <th>n_louvain_clusters</th>\n",
       "      <th>avg_node_degree</th>\n",
       "      <th>std_node_degree</th>\n",
       "      <th>n_leaf_nodes</th>\n",
       "      <th>n_target_nodes</th>\n",
       "      <th>n_spec_target_nodes</th>\n",
       "      <th>n_spec_target_leafs</th>\n",
       "      <th>avg_spec_target_degree</th>\n",
       "      <th>std_spec_target_degree</th>\n",
       "    </tr>\n",
       "  </thead>\n",
       "  <tbody>\n",
       "    <tr>\n",
       "      <th>augmented_ppi_confidence_0594_hub_999_pruned_ccle_abslogfc_orf_maxp_spearmanr_cv_b_0.6</th>\n",
       "      <td>0.6</td>\n",
       "      <td>348</td>\n",
       "      <td>2316</td>\n",
       "      <td>1</td>\n",
       "      <td>6</td>\n",
       "      <td>13.310345</td>\n",
       "      <td>10.618310</td>\n",
       "      <td>9</td>\n",
       "      <td>101</td>\n",
       "      <td>39</td>\n",
       "      <td>2</td>\n",
       "      <td>12.820513</td>\n",
       "      <td>11.360913</td>\n",
       "    </tr>\n",
       "    <tr>\n",
       "      <th>augmented_ppi_confidence_0594_hub_999_pruned_ccle_abslogfc_orf_maxp_spearmanr_cv_b_0.7</th>\n",
       "      <td>0.7</td>\n",
       "      <td>424</td>\n",
       "      <td>2878</td>\n",
       "      <td>1</td>\n",
       "      <td>8</td>\n",
       "      <td>13.575472</td>\n",
       "      <td>11.349880</td>\n",
       "      <td>10</td>\n",
       "      <td>106</td>\n",
       "      <td>39</td>\n",
       "      <td>2</td>\n",
       "      <td>13.666667</td>\n",
       "      <td>12.304540</td>\n",
       "    </tr>\n",
       "    <tr>\n",
       "      <th>augmented_ppi_confidence_0594_hub_999_pruned_ccle_abslogfc_orf_maxp_spearmanr_cv_b_0.8</th>\n",
       "      <td>0.8</td>\n",
       "      <td>527</td>\n",
       "      <td>3626</td>\n",
       "      <td>1</td>\n",
       "      <td>10</td>\n",
       "      <td>13.760911</td>\n",
       "      <td>12.215481</td>\n",
       "      <td>20</td>\n",
       "      <td>109</td>\n",
       "      <td>39</td>\n",
       "      <td>2</td>\n",
       "      <td>14.974359</td>\n",
       "      <td>13.348364</td>\n",
       "    </tr>\n",
       "    <tr>\n",
       "      <th>augmented_ppi_confidence_0594_hub_999_pruned_ccle_abslogfc_orf_maxp_spearmanr_cv_b_0.9</th>\n",
       "      <td>0.9</td>\n",
       "      <td>625</td>\n",
       "      <td>4360</td>\n",
       "      <td>1</td>\n",
       "      <td>9</td>\n",
       "      <td>13.952000</td>\n",
       "      <td>12.732733</td>\n",
       "      <td>27</td>\n",
       "      <td>112</td>\n",
       "      <td>39</td>\n",
       "      <td>2</td>\n",
       "      <td>15.871795</td>\n",
       "      <td>14.238229</td>\n",
       "    </tr>\n",
       "    <tr>\n",
       "      <th>augmented_ppi_confidence_0594_hub_999_pruned_ccle_abslogfc_orf_maxp_spearmanr_cv_b_1.0</th>\n",
       "      <td>1.0</td>\n",
       "      <td>725</td>\n",
       "      <td>4968</td>\n",
       "      <td>1</td>\n",
       "      <td>10</td>\n",
       "      <td>13.704828</td>\n",
       "      <td>12.991925</td>\n",
       "      <td>38</td>\n",
       "      <td>114</td>\n",
       "      <td>39</td>\n",
       "      <td>2</td>\n",
       "      <td>16.923077</td>\n",
       "      <td>15.424564</td>\n",
       "    </tr>\n",
       "    <tr>\n",
       "      <th>...</th>\n",
       "      <td>...</td>\n",
       "      <td>...</td>\n",
       "      <td>...</td>\n",
       "      <td>...</td>\n",
       "      <td>...</td>\n",
       "      <td>...</td>\n",
       "      <td>...</td>\n",
       "      <td>...</td>\n",
       "      <td>...</td>\n",
       "      <td>...</td>\n",
       "      <td>...</td>\n",
       "      <td>...</td>\n",
       "      <td>...</td>\n",
       "    </tr>\n",
       "    <tr>\n",
       "      <th>augmented_ppi_confidence_0594_hub_999_pruned_ccle_abslogfc_orf_maxp_spearmanr_cv_b_9.5</th>\n",
       "      <td>9.5</td>\n",
       "      <td>6527</td>\n",
       "      <td>34512</td>\n",
       "      <td>1</td>\n",
       "      <td>23</td>\n",
       "      <td>10.575149</td>\n",
       "      <td>16.964535</td>\n",
       "      <td>1205</td>\n",
       "      <td>176</td>\n",
       "      <td>39</td>\n",
       "      <td>1</td>\n",
       "      <td>41.230769</td>\n",
       "      <td>40.011833</td>\n",
       "    </tr>\n",
       "    <tr>\n",
       "      <th>augmented_ppi_confidence_0594_hub_999_pruned_ccle_abslogfc_orf_maxp_spearmanr_cv_b_9.6</th>\n",
       "      <td>9.6</td>\n",
       "      <td>6546</td>\n",
       "      <td>34560</td>\n",
       "      <td>1</td>\n",
       "      <td>24</td>\n",
       "      <td>10.559120</td>\n",
       "      <td>16.977041</td>\n",
       "      <td>1214</td>\n",
       "      <td>176</td>\n",
       "      <td>39</td>\n",
       "      <td>1</td>\n",
       "      <td>41.307692</td>\n",
       "      <td>40.170887</td>\n",
       "    </tr>\n",
       "    <tr>\n",
       "      <th>augmented_ppi_confidence_0594_hub_999_pruned_ccle_abslogfc_orf_maxp_spearmanr_cv_b_9.7</th>\n",
       "      <td>9.7</td>\n",
       "      <td>6568</td>\n",
       "      <td>34688</td>\n",
       "      <td>1</td>\n",
       "      <td>21</td>\n",
       "      <td>10.562728</td>\n",
       "      <td>16.991598</td>\n",
       "      <td>1217</td>\n",
       "      <td>176</td>\n",
       "      <td>39</td>\n",
       "      <td>1</td>\n",
       "      <td>41.307692</td>\n",
       "      <td>40.223831</td>\n",
       "    </tr>\n",
       "    <tr>\n",
       "      <th>augmented_ppi_confidence_0594_hub_999_pruned_ccle_abslogfc_orf_maxp_spearmanr_cv_b_9.8</th>\n",
       "      <td>9.8</td>\n",
       "      <td>6576</td>\n",
       "      <td>34565</td>\n",
       "      <td>1</td>\n",
       "      <td>24</td>\n",
       "      <td>10.512470</td>\n",
       "      <td>16.959398</td>\n",
       "      <td>1230</td>\n",
       "      <td>177</td>\n",
       "      <td>39</td>\n",
       "      <td>1</td>\n",
       "      <td>41.358974</td>\n",
       "      <td>40.310645</td>\n",
       "    </tr>\n",
       "    <tr>\n",
       "      <th>augmented_ppi_confidence_0594_hub_999_pruned_ccle_abslogfc_orf_maxp_spearmanr_cv_b_9.9</th>\n",
       "      <td>9.9</td>\n",
       "      <td>6608</td>\n",
       "      <td>34766</td>\n",
       "      <td>1</td>\n",
       "      <td>23</td>\n",
       "      <td>10.522397</td>\n",
       "      <td>16.989852</td>\n",
       "      <td>1239</td>\n",
       "      <td>178</td>\n",
       "      <td>39</td>\n",
       "      <td>1</td>\n",
       "      <td>41.384615</td>\n",
       "      <td>40.342518</td>\n",
       "    </tr>\n",
       "  </tbody>\n",
       "</table>\n",
       "<p>94 rows × 13 columns</p>\n",
       "</div>"
      ],
      "text/plain": [
       "                                                    beta  n_nodes  n_edges  \\\n",
       "augmented_ppi_confidence_0594_hub_999_pruned_cc...   0.6      348     2316   \n",
       "augmented_ppi_confidence_0594_hub_999_pruned_cc...   0.7      424     2878   \n",
       "augmented_ppi_confidence_0594_hub_999_pruned_cc...   0.8      527     3626   \n",
       "augmented_ppi_confidence_0594_hub_999_pruned_cc...   0.9      625     4360   \n",
       "augmented_ppi_confidence_0594_hub_999_pruned_cc...   1.0      725     4968   \n",
       "...                                                  ...      ...      ...   \n",
       "augmented_ppi_confidence_0594_hub_999_pruned_cc...   9.5     6527    34512   \n",
       "augmented_ppi_confidence_0594_hub_999_pruned_cc...   9.6     6546    34560   \n",
       "augmented_ppi_confidence_0594_hub_999_pruned_cc...   9.7     6568    34688   \n",
       "augmented_ppi_confidence_0594_hub_999_pruned_cc...   9.8     6576    34565   \n",
       "augmented_ppi_confidence_0594_hub_999_pruned_cc...   9.9     6608    34766   \n",
       "\n",
       "                                                    n_connected_components  \\\n",
       "augmented_ppi_confidence_0594_hub_999_pruned_cc...                       1   \n",
       "augmented_ppi_confidence_0594_hub_999_pruned_cc...                       1   \n",
       "augmented_ppi_confidence_0594_hub_999_pruned_cc...                       1   \n",
       "augmented_ppi_confidence_0594_hub_999_pruned_cc...                       1   \n",
       "augmented_ppi_confidence_0594_hub_999_pruned_cc...                       1   \n",
       "...                                                                    ...   \n",
       "augmented_ppi_confidence_0594_hub_999_pruned_cc...                       1   \n",
       "augmented_ppi_confidence_0594_hub_999_pruned_cc...                       1   \n",
       "augmented_ppi_confidence_0594_hub_999_pruned_cc...                       1   \n",
       "augmented_ppi_confidence_0594_hub_999_pruned_cc...                       1   \n",
       "augmented_ppi_confidence_0594_hub_999_pruned_cc...                       1   \n",
       "\n",
       "                                                    n_louvain_clusters  \\\n",
       "augmented_ppi_confidence_0594_hub_999_pruned_cc...                   6   \n",
       "augmented_ppi_confidence_0594_hub_999_pruned_cc...                   8   \n",
       "augmented_ppi_confidence_0594_hub_999_pruned_cc...                  10   \n",
       "augmented_ppi_confidence_0594_hub_999_pruned_cc...                   9   \n",
       "augmented_ppi_confidence_0594_hub_999_pruned_cc...                  10   \n",
       "...                                                                ...   \n",
       "augmented_ppi_confidence_0594_hub_999_pruned_cc...                  23   \n",
       "augmented_ppi_confidence_0594_hub_999_pruned_cc...                  24   \n",
       "augmented_ppi_confidence_0594_hub_999_pruned_cc...                  21   \n",
       "augmented_ppi_confidence_0594_hub_999_pruned_cc...                  24   \n",
       "augmented_ppi_confidence_0594_hub_999_pruned_cc...                  23   \n",
       "\n",
       "                                                    avg_node_degree  \\\n",
       "augmented_ppi_confidence_0594_hub_999_pruned_cc...        13.310345   \n",
       "augmented_ppi_confidence_0594_hub_999_pruned_cc...        13.575472   \n",
       "augmented_ppi_confidence_0594_hub_999_pruned_cc...        13.760911   \n",
       "augmented_ppi_confidence_0594_hub_999_pruned_cc...        13.952000   \n",
       "augmented_ppi_confidence_0594_hub_999_pruned_cc...        13.704828   \n",
       "...                                                             ...   \n",
       "augmented_ppi_confidence_0594_hub_999_pruned_cc...        10.575149   \n",
       "augmented_ppi_confidence_0594_hub_999_pruned_cc...        10.559120   \n",
       "augmented_ppi_confidence_0594_hub_999_pruned_cc...        10.562728   \n",
       "augmented_ppi_confidence_0594_hub_999_pruned_cc...        10.512470   \n",
       "augmented_ppi_confidence_0594_hub_999_pruned_cc...        10.522397   \n",
       "\n",
       "                                                    std_node_degree  \\\n",
       "augmented_ppi_confidence_0594_hub_999_pruned_cc...        10.618310   \n",
       "augmented_ppi_confidence_0594_hub_999_pruned_cc...        11.349880   \n",
       "augmented_ppi_confidence_0594_hub_999_pruned_cc...        12.215481   \n",
       "augmented_ppi_confidence_0594_hub_999_pruned_cc...        12.732733   \n",
       "augmented_ppi_confidence_0594_hub_999_pruned_cc...        12.991925   \n",
       "...                                                             ...   \n",
       "augmented_ppi_confidence_0594_hub_999_pruned_cc...        16.964535   \n",
       "augmented_ppi_confidence_0594_hub_999_pruned_cc...        16.977041   \n",
       "augmented_ppi_confidence_0594_hub_999_pruned_cc...        16.991598   \n",
       "augmented_ppi_confidence_0594_hub_999_pruned_cc...        16.959398   \n",
       "augmented_ppi_confidence_0594_hub_999_pruned_cc...        16.989852   \n",
       "\n",
       "                                                    n_leaf_nodes  \\\n",
       "augmented_ppi_confidence_0594_hub_999_pruned_cc...             9   \n",
       "augmented_ppi_confidence_0594_hub_999_pruned_cc...            10   \n",
       "augmented_ppi_confidence_0594_hub_999_pruned_cc...            20   \n",
       "augmented_ppi_confidence_0594_hub_999_pruned_cc...            27   \n",
       "augmented_ppi_confidence_0594_hub_999_pruned_cc...            38   \n",
       "...                                                          ...   \n",
       "augmented_ppi_confidence_0594_hub_999_pruned_cc...          1205   \n",
       "augmented_ppi_confidence_0594_hub_999_pruned_cc...          1214   \n",
       "augmented_ppi_confidence_0594_hub_999_pruned_cc...          1217   \n",
       "augmented_ppi_confidence_0594_hub_999_pruned_cc...          1230   \n",
       "augmented_ppi_confidence_0594_hub_999_pruned_cc...          1239   \n",
       "\n",
       "                                                    n_target_nodes  \\\n",
       "augmented_ppi_confidence_0594_hub_999_pruned_cc...             101   \n",
       "augmented_ppi_confidence_0594_hub_999_pruned_cc...             106   \n",
       "augmented_ppi_confidence_0594_hub_999_pruned_cc...             109   \n",
       "augmented_ppi_confidence_0594_hub_999_pruned_cc...             112   \n",
       "augmented_ppi_confidence_0594_hub_999_pruned_cc...             114   \n",
       "...                                                            ...   \n",
       "augmented_ppi_confidence_0594_hub_999_pruned_cc...             176   \n",
       "augmented_ppi_confidence_0594_hub_999_pruned_cc...             176   \n",
       "augmented_ppi_confidence_0594_hub_999_pruned_cc...             176   \n",
       "augmented_ppi_confidence_0594_hub_999_pruned_cc...             177   \n",
       "augmented_ppi_confidence_0594_hub_999_pruned_cc...             178   \n",
       "\n",
       "                                                    n_spec_target_nodes  \\\n",
       "augmented_ppi_confidence_0594_hub_999_pruned_cc...                   39   \n",
       "augmented_ppi_confidence_0594_hub_999_pruned_cc...                   39   \n",
       "augmented_ppi_confidence_0594_hub_999_pruned_cc...                   39   \n",
       "augmented_ppi_confidence_0594_hub_999_pruned_cc...                   39   \n",
       "augmented_ppi_confidence_0594_hub_999_pruned_cc...                   39   \n",
       "...                                                                 ...   \n",
       "augmented_ppi_confidence_0594_hub_999_pruned_cc...                   39   \n",
       "augmented_ppi_confidence_0594_hub_999_pruned_cc...                   39   \n",
       "augmented_ppi_confidence_0594_hub_999_pruned_cc...                   39   \n",
       "augmented_ppi_confidence_0594_hub_999_pruned_cc...                   39   \n",
       "augmented_ppi_confidence_0594_hub_999_pruned_cc...                   39   \n",
       "\n",
       "                                                    n_spec_target_leafs  \\\n",
       "augmented_ppi_confidence_0594_hub_999_pruned_cc...                    2   \n",
       "augmented_ppi_confidence_0594_hub_999_pruned_cc...                    2   \n",
       "augmented_ppi_confidence_0594_hub_999_pruned_cc...                    2   \n",
       "augmented_ppi_confidence_0594_hub_999_pruned_cc...                    2   \n",
       "augmented_ppi_confidence_0594_hub_999_pruned_cc...                    2   \n",
       "...                                                                 ...   \n",
       "augmented_ppi_confidence_0594_hub_999_pruned_cc...                    1   \n",
       "augmented_ppi_confidence_0594_hub_999_pruned_cc...                    1   \n",
       "augmented_ppi_confidence_0594_hub_999_pruned_cc...                    1   \n",
       "augmented_ppi_confidence_0594_hub_999_pruned_cc...                    1   \n",
       "augmented_ppi_confidence_0594_hub_999_pruned_cc...                    1   \n",
       "\n",
       "                                                    avg_spec_target_degree  \\\n",
       "augmented_ppi_confidence_0594_hub_999_pruned_cc...               12.820513   \n",
       "augmented_ppi_confidence_0594_hub_999_pruned_cc...               13.666667   \n",
       "augmented_ppi_confidence_0594_hub_999_pruned_cc...               14.974359   \n",
       "augmented_ppi_confidence_0594_hub_999_pruned_cc...               15.871795   \n",
       "augmented_ppi_confidence_0594_hub_999_pruned_cc...               16.923077   \n",
       "...                                                                    ...   \n",
       "augmented_ppi_confidence_0594_hub_999_pruned_cc...               41.230769   \n",
       "augmented_ppi_confidence_0594_hub_999_pruned_cc...               41.307692   \n",
       "augmented_ppi_confidence_0594_hub_999_pruned_cc...               41.307692   \n",
       "augmented_ppi_confidence_0594_hub_999_pruned_cc...               41.358974   \n",
       "augmented_ppi_confidence_0594_hub_999_pruned_cc...               41.384615   \n",
       "\n",
       "                                                    std_spec_target_degree  \n",
       "augmented_ppi_confidence_0594_hub_999_pruned_cc...               11.360913  \n",
       "augmented_ppi_confidence_0594_hub_999_pruned_cc...               12.304540  \n",
       "augmented_ppi_confidence_0594_hub_999_pruned_cc...               13.348364  \n",
       "augmented_ppi_confidence_0594_hub_999_pruned_cc...               14.238229  \n",
       "augmented_ppi_confidence_0594_hub_999_pruned_cc...               15.424564  \n",
       "...                                                                    ...  \n",
       "augmented_ppi_confidence_0594_hub_999_pruned_cc...               40.011833  \n",
       "augmented_ppi_confidence_0594_hub_999_pruned_cc...               40.170887  \n",
       "augmented_ppi_confidence_0594_hub_999_pruned_cc...               40.223831  \n",
       "augmented_ppi_confidence_0594_hub_999_pruned_cc...               40.310645  \n",
       "augmented_ppi_confidence_0594_hub_999_pruned_cc...               40.342518  \n",
       "\n",
       "[94 rows x 13 columns]"
      ]
     },
     "execution_count": 9,
     "metadata": {},
     "output_type": "execute_result"
    },
    {
     "data": {
      "application/javascript": [
       "\n",
       "            setTimeout(function() {\n",
       "                var nbb_cell_id = 9;\n",
       "                var nbb_unformatted_code = \"augmented_pcst_mis_results = analyze_pcst_sensitivity_analyses_results(\\n    augmented_pcst_mis_dict,\\n    target_nodes=orf_targets,\\n    spec_targets=specific_targets,\\n)\\naugmented_pcst_mis_results.loc[\\n    augmented_pcst_mis_results[\\\"n_spec_target_nodes\\\"]\\n    == np.max(augmented_pcst_mis_results[\\\"n_spec_target_nodes\\\"])\\n].sort_values(\\\"beta\\\")\";\n",
       "                var nbb_formatted_code = \"augmented_pcst_mis_results = analyze_pcst_sensitivity_analyses_results(\\n    augmented_pcst_mis_dict,\\n    target_nodes=orf_targets,\\n    spec_targets=specific_targets,\\n)\\naugmented_pcst_mis_results.loc[\\n    augmented_pcst_mis_results[\\\"n_spec_target_nodes\\\"]\\n    == np.max(augmented_pcst_mis_results[\\\"n_spec_target_nodes\\\"])\\n].sort_values(\\\"beta\\\")\";\n",
       "                var nbb_cells = Jupyter.notebook.get_cells();\n",
       "                for (var i = 0; i < nbb_cells.length; ++i) {\n",
       "                    if (nbb_cells[i].input_prompt_number == nbb_cell_id) {\n",
       "                        if (nbb_cells[i].get_text() == nbb_unformatted_code) {\n",
       "                             nbb_cells[i].set_text(nbb_formatted_code);\n",
       "                        }\n",
       "                        break;\n",
       "                    }\n",
       "                }\n",
       "            }, 500);\n",
       "            "
      ],
      "text/plain": [
       "<IPython.core.display.Javascript object>"
      ]
     },
     "metadata": {},
     "output_type": "display_data"
    }
   ],
   "source": [
    "augmented_pcst_mis_results = analyze_pcst_sensitivity_analyses_results(\n",
    "    augmented_pcst_mis_dict,\n",
    "    target_nodes=orf_targets,\n",
    "    spec_targets=specific_targets,\n",
    ")\n",
    "augmented_pcst_mis_results.loc[\n",
    "    augmented_pcst_mis_results[\"n_spec_target_nodes\"]\n",
    "    == np.max(augmented_pcst_mis_results[\"n_spec_target_nodes\"])\n",
    "].sort_values(\"beta\")"
   ]
  },
  {
   "cell_type": "code",
   "execution_count": 11,
   "id": "6cb7884c",
   "metadata": {},
   "outputs": [
    {
     "data": {
      "image/png": "[encoded data removed]",
      "text/plain": [
       "<Figure size 864x720 with 6 Axes>"
      ]
     },
     "metadata": {
      "needs_background": "light"
     },
     "output_type": "display_data"
    },
    {
     "data": {
      "application/javascript": [
       "\n",
       "            setTimeout(function() {\n",
       "                var nbb_cell_id = 11;\n",
       "                var nbb_unformatted_code = \"summarize_analyses_results_visually(augmented_pcst_mis_results)\";\n",
       "                var nbb_formatted_code = \"summarize_analyses_results_visually(augmented_pcst_mis_results)\";\n",
       "                var nbb_cells = Jupyter.notebook.get_cells();\n",
       "                for (var i = 0; i < nbb_cells.length; ++i) {\n",
       "                    if (nbb_cells[i].input_prompt_number == nbb_cell_id) {\n",
       "                        if (nbb_cells[i].get_text() == nbb_unformatted_code) {\n",
       "                             nbb_cells[i].set_text(nbb_formatted_code);\n",
       "                        }\n",
       "                        break;\n",
       "                    }\n",
       "                }\n",
       "            }, 500);\n",
       "            "
      ],
      "text/plain": [
       "<IPython.core.display.Javascript object>"
      ]
     },
     "metadata": {},
     "output_type": "display_data"
    }
   ],
   "source": [
    "summarize_analyses_results_visually(augmented_pcst_mis_results)"
   ]
  },
  {
   "cell_type": "markdown",
   "id": "e6621bc2",
   "metadata": {},
   "source": [
    "Since we aim to simply learn the interactome that describe the individual specific ORF targets we choose the smallest graph solution that spans all those targets, which is obtained at $\\beta$=0.6."
   ]
  },
  {
   "cell_type": "code",
   "execution_count": 12,
   "id": "f7f9ce47",
   "metadata": {},
   "outputs": [
    {
     "name": "stdout",
     "output_type": "stream",
     "text": [
      "Graph named 'mis_sol' with 348 nodes and 2316 edges\n"
     ]
    },
    {
     "name": "stderr",
     "output_type": "stream",
     "text": [
      "<ipython-input-12-a653ff67ed72>:5: DeprecationWarning: info is deprecated and will be removed in version 3.0.\n",
      "\n",
      "  print(nx.info(mis_sol))\n"
     ]
    },
    {
     "data": {
      "application/javascript": [
       "\n",
       "            setTimeout(function() {\n",
       "                var nbb_cell_id = 12;\n",
       "                var nbb_unformatted_code = \"mis_sol = augmented_pcst_mis_dict[\\n    \\\"augmented_ppi_confidence_0594_hub_999_pruned_ccle_abslogfc_orf_maxp_spearmanr_cv_b_0.6\\\"\\n].copy()\\nmis_sol.name = \\\"mis_sol\\\"\\nprint(nx.info(mis_sol))\";\n",
       "                var nbb_formatted_code = \"mis_sol = augmented_pcst_mis_dict[\\n    \\\"augmented_ppi_confidence_0594_hub_999_pruned_ccle_abslogfc_orf_maxp_spearmanr_cv_b_0.6\\\"\\n].copy()\\nmis_sol.name = \\\"mis_sol\\\"\\nprint(nx.info(mis_sol))\";\n",
       "                var nbb_cells = Jupyter.notebook.get_cells();\n",
       "                for (var i = 0; i < nbb_cells.length; ++i) {\n",
       "                    if (nbb_cells[i].input_prompt_number == nbb_cell_id) {\n",
       "                        if (nbb_cells[i].get_text() == nbb_unformatted_code) {\n",
       "                             nbb_cells[i].set_text(nbb_formatted_code);\n",
       "                        }\n",
       "                        break;\n",
       "                    }\n",
       "                }\n",
       "            }, 500);\n",
       "            "
      ],
      "text/plain": [
       "<IPython.core.display.Javascript object>"
      ]
     },
     "metadata": {},
     "output_type": "display_data"
    }
   ],
   "source": [
    "mis_sol = augmented_pcst_mis_dict[\n",
    "    \"augmented_ppi_confidence_0594_hub_999_pruned_ccle_abslogfc_orf_maxp_spearmanr_cv_b_0.6\"\n",
    "].copy()\n",
    "mis_sol.name = \"mis_sol\"\n",
    "print(nx.info(mis_sol))"
   ]
  },
  {
   "cell_type": "markdown",
   "id": "ec661ea5",
   "metadata": {},
   "source": [
    "The corresponding network consists of 348 nodes with an average degree of 13.31 stemming from 2'316 edges. The network covers all 39 structural regulator genes covered in the input graph."
   ]
  },
  {
   "cell_type": "markdown",
   "id": "70aafab3",
   "metadata": {},
   "source": [
    "---\n",
    "\n",
    "### 2.2. Spearman correlation edge weights\n",
    "\n",
    "After having inferred the solution using the MINT-score inspired edge costs, we will now rerun the analyses using $1-r_{Spearman}$ as an alternative edge weight defintion. The intuition is that this will further guide the derivation of the interactome to focus on links that are specific to our cell-type of interest. On the flip side the metric were computed on noisy scRNAseq data which might limit the descriptive power of this metric to evaluate the strength of a regulatory link."
   ]
  },
  {
   "cell_type": "markdown",
   "id": "d1c9b1f2",
   "metadata": {},
   "source": [
    "Since the Spearman-based edge weights are in the range of [0,1] compared to those previously used for MINT score based ones [0,0.594], we will run the screen for $\\beta \\in$ [0,20]."
   ]
  },
  {
   "cell_type": "code",
   "execution_count": 13,
   "id": "7ec17561",
   "metadata": {},
   "outputs": [
    {
     "data": {
      "application/javascript": [
       "\n",
       "            setTimeout(function() {\n",
       "                var nbb_cell_id = 13;\n",
       "                var nbb_unformatted_code = \"bs = np.arange(0.1, 10, 0.1)\";\n",
       "                var nbb_formatted_code = \"bs = np.arange(0.1, 10, 0.1)\";\n",
       "                var nbb_cells = Jupyter.notebook.get_cells();\n",
       "                for (var i = 0; i < nbb_cells.length; ++i) {\n",
       "                    if (nbb_cells[i].input_prompt_number == nbb_cell_id) {\n",
       "                        if (nbb_cells[i].get_text() == nbb_unformatted_code) {\n",
       "                             nbb_cells[i].set_text(nbb_formatted_code);\n",
       "                        }\n",
       "                        break;\n",
       "                    }\n",
       "                }\n",
       "            }, 500);\n",
       "            "
      ],
      "text/plain": [
       "<IPython.core.display.Javascript object>"
      ]
     },
     "metadata": {},
     "output_type": "display_data"
    }
   ],
   "source": [
    "bs = np.arange(0.1, 10, 0.1)"
   ]
  },
  {
   "cell_type": "code",
   "execution_count": 20,
   "id": "46ac59bd",
   "metadata": {},
   "outputs": [
    {
     "name": "stderr",
     "output_type": "stream",
     "text": [
      "Compute PCSTs: 100%|██████████| 99/99 [00:06<00:00, 16.17it/s]\n"
     ]
    },
    {
     "data": {
      "application/javascript": [
       "\n",
       "            setTimeout(function() {\n",
       "                var nbb_cell_id = 20;\n",
       "                var nbb_unformatted_code = \"(pcst_spearman_dict, augmented_pcst_spearman_dict,) = run_pcst_sensitivity_analyses(\\n    graph=ppi,\\n    bs=bs,\\n    prize_key=\\\"prize\\\",\\n    weight_key=\\\"spearmanr\\\",\\n    minmax_scale=True,\\n)\";\n",
       "                var nbb_formatted_code = \"(pcst_spearman_dict, augmented_pcst_spearman_dict,) = run_pcst_sensitivity_analyses(\\n    graph=ppi,\\n    bs=bs,\\n    prize_key=\\\"prize\\\",\\n    weight_key=\\\"spearmanr\\\",\\n    minmax_scale=True,\\n)\";\n",
       "                var nbb_cells = Jupyter.notebook.get_cells();\n",
       "                for (var i = 0; i < nbb_cells.length; ++i) {\n",
       "                    if (nbb_cells[i].input_prompt_number == nbb_cell_id) {\n",
       "                        if (nbb_cells[i].get_text() == nbb_unformatted_code) {\n",
       "                             nbb_cells[i].set_text(nbb_formatted_code);\n",
       "                        }\n",
       "                        break;\n",
       "                    }\n",
       "                }\n",
       "            }, 500);\n",
       "            "
      ],
      "text/plain": [
       "<IPython.core.display.Javascript object>"
      ]
     },
     "metadata": {},
     "output_type": "display_data"
    }
   ],
   "source": [
    "(pcst_spearman_dict, augmented_pcst_spearman_dict,) = run_pcst_sensitivity_analyses(\n",
    "    graph=ppi,\n",
    "    bs=bs,\n",
    "    prize_key=\"prize\",\n",
    "    weight_key=\"spearmanr\",\n",
    "    minmax_scale=True,\n",
    ")"
   ]
  },
  {
   "cell_type": "code",
   "execution_count": 21,
   "id": "c20ff70b",
   "metadata": {
    "scrolled": false
   },
   "outputs": [
    {
     "name": "stderr",
     "output_type": "stream",
     "text": [
      "Analyze tree:   0%|          | 0/99 [00:00<?, ?it/s]/home/paysan_d/miniconda3/envs/image2reg/lib/python3.8/site-packages/numpy/core/fromnumeric.py:3474: RuntimeWarning: Mean of empty slice.\n",
      "  return _methods._mean(a, axis=axis, dtype=dtype,\n",
      "/home/paysan_d/miniconda3/envs/image2reg/lib/python3.8/site-packages/numpy/core/_methods.py:189: RuntimeWarning: invalid value encountered in double_scalars\n",
      "  ret = ret.dtype.type(ret / rcount)\n",
      "/home/paysan_d/miniconda3/envs/image2reg/lib/python3.8/site-packages/numpy/core/_methods.py:264: RuntimeWarning: Degrees of freedom <= 0 for slice\n",
      "  ret = _var(a, axis=axis, dtype=dtype, out=out, ddof=ddof,\n",
      "/home/paysan_d/miniconda3/envs/image2reg/lib/python3.8/site-packages/numpy/core/_methods.py:222: RuntimeWarning: invalid value encountered in true_divide\n",
      "  arrmean = um.true_divide(arrmean, div, out=arrmean, casting='unsafe',\n",
      "/home/paysan_d/miniconda3/envs/image2reg/lib/python3.8/site-packages/numpy/core/_methods.py:256: RuntimeWarning: invalid value encountered in double_scalars\n",
      "  ret = ret.dtype.type(ret / rcount)\n",
      "Analyze tree: 100%|██████████| 99/99 [00:22<00:00,  4.49it/s] \n"
     ]
    },
    {
     "data": {
      "text/html": [
       "<div>\n",
       "<style scoped>\n",
       "    .dataframe tbody tr th:only-of-type {\n",
       "        vertical-align: middle;\n",
       "    }\n",
       "\n",
       "    .dataframe tbody tr th {\n",
       "        vertical-align: top;\n",
       "    }\n",
       "\n",
       "    .dataframe thead th {\n",
       "        text-align: right;\n",
       "    }\n",
       "</style>\n",
       "<table border=\"1\" class=\"dataframe\">\n",
       "  <thead>\n",
       "    <tr style=\"text-align: right;\">\n",
       "      <th></th>\n",
       "      <th>beta</th>\n",
       "      <th>n_nodes</th>\n",
       "      <th>n_edges</th>\n",
       "      <th>n_connected_components</th>\n",
       "      <th>n_louvain_clusters</th>\n",
       "      <th>avg_node_degree</th>\n",
       "      <th>std_node_degree</th>\n",
       "      <th>n_leaf_nodes</th>\n",
       "      <th>n_target_nodes</th>\n",
       "      <th>n_spec_target_nodes</th>\n",
       "      <th>n_spec_target_leafs</th>\n",
       "      <th>avg_spec_target_degree</th>\n",
       "      <th>std_spec_target_degree</th>\n",
       "    </tr>\n",
       "  </thead>\n",
       "  <tbody>\n",
       "    <tr>\n",
       "      <th>augmented_ppi_confidence_0594_hub_999_pruned_ccle_abslogfc_orf_maxp_spearmanr_cv_b_2.6</th>\n",
       "      <td>2.6</td>\n",
       "      <td>249</td>\n",
       "      <td>526</td>\n",
       "      <td>1</td>\n",
       "      <td>9</td>\n",
       "      <td>4.224900</td>\n",
       "      <td>4.062467</td>\n",
       "      <td>55</td>\n",
       "      <td>47</td>\n",
       "      <td>39</td>\n",
       "      <td>7</td>\n",
       "      <td>5.076923</td>\n",
       "      <td>4.816556</td>\n",
       "    </tr>\n",
       "    <tr>\n",
       "      <th>augmented_ppi_confidence_0594_hub_999_pruned_ccle_abslogfc_orf_maxp_spearmanr_cv_b_2.7</th>\n",
       "      <td>2.7</td>\n",
       "      <td>269</td>\n",
       "      <td>565</td>\n",
       "      <td>1</td>\n",
       "      <td>11</td>\n",
       "      <td>4.200743</td>\n",
       "      <td>4.077848</td>\n",
       "      <td>63</td>\n",
       "      <td>48</td>\n",
       "      <td>39</td>\n",
       "      <td>7</td>\n",
       "      <td>5.358974</td>\n",
       "      <td>5.096440</td>\n",
       "    </tr>\n",
       "    <tr>\n",
       "      <th>augmented_ppi_confidence_0594_hub_999_pruned_ccle_abslogfc_orf_maxp_spearmanr_cv_b_2.8</th>\n",
       "      <td>2.8</td>\n",
       "      <td>310</td>\n",
       "      <td>681</td>\n",
       "      <td>1</td>\n",
       "      <td>10</td>\n",
       "      <td>4.393548</td>\n",
       "      <td>4.246436</td>\n",
       "      <td>71</td>\n",
       "      <td>49</td>\n",
       "      <td>39</td>\n",
       "      <td>6</td>\n",
       "      <td>5.743590</td>\n",
       "      <td>5.591743</td>\n",
       "    </tr>\n",
       "    <tr>\n",
       "      <th>augmented_ppi_confidence_0594_hub_999_pruned_ccle_abslogfc_orf_maxp_spearmanr_cv_b_2.9</th>\n",
       "      <td>2.9</td>\n",
       "      <td>335</td>\n",
       "      <td>755</td>\n",
       "      <td>1</td>\n",
       "      <td>11</td>\n",
       "      <td>4.507463</td>\n",
       "      <td>4.292211</td>\n",
       "      <td>75</td>\n",
       "      <td>49</td>\n",
       "      <td>39</td>\n",
       "      <td>6</td>\n",
       "      <td>5.923077</td>\n",
       "      <td>5.635895</td>\n",
       "    </tr>\n",
       "    <tr>\n",
       "      <th>augmented_ppi_confidence_0594_hub_999_pruned_ccle_abslogfc_orf_maxp_spearmanr_cv_b_3.0</th>\n",
       "      <td>3.0</td>\n",
       "      <td>346</td>\n",
       "      <td>755</td>\n",
       "      <td>1</td>\n",
       "      <td>10</td>\n",
       "      <td>4.364162</td>\n",
       "      <td>4.207795</td>\n",
       "      <td>78</td>\n",
       "      <td>50</td>\n",
       "      <td>39</td>\n",
       "      <td>7</td>\n",
       "      <td>5.923077</td>\n",
       "      <td>5.779649</td>\n",
       "    </tr>\n",
       "    <tr>\n",
       "      <th>...</th>\n",
       "      <td>...</td>\n",
       "      <td>...</td>\n",
       "      <td>...</td>\n",
       "      <td>...</td>\n",
       "      <td>...</td>\n",
       "      <td>...</td>\n",
       "      <td>...</td>\n",
       "      <td>...</td>\n",
       "      <td>...</td>\n",
       "      <td>...</td>\n",
       "      <td>...</td>\n",
       "      <td>...</td>\n",
       "      <td>...</td>\n",
       "    </tr>\n",
       "    <tr>\n",
       "      <th>augmented_ppi_confidence_0594_hub_999_pruned_ccle_abslogfc_orf_maxp_spearmanr_cv_b_9.5</th>\n",
       "      <td>9.5</td>\n",
       "      <td>3343</td>\n",
       "      <td>13259</td>\n",
       "      <td>1</td>\n",
       "      <td>20</td>\n",
       "      <td>7.932396</td>\n",
       "      <td>11.750786</td>\n",
       "      <td>726</td>\n",
       "      <td>118</td>\n",
       "      <td>39</td>\n",
       "      <td>1</td>\n",
       "      <td>24.820513</td>\n",
       "      <td>24.006272</td>\n",
       "    </tr>\n",
       "    <tr>\n",
       "      <th>augmented_ppi_confidence_0594_hub_999_pruned_ccle_abslogfc_orf_maxp_spearmanr_cv_b_9.6</th>\n",
       "      <td>9.6</td>\n",
       "      <td>3384</td>\n",
       "      <td>13401</td>\n",
       "      <td>1</td>\n",
       "      <td>20</td>\n",
       "      <td>7.920213</td>\n",
       "      <td>11.770868</td>\n",
       "      <td>738</td>\n",
       "      <td>118</td>\n",
       "      <td>39</td>\n",
       "      <td>1</td>\n",
       "      <td>24.871795</td>\n",
       "      <td>24.132306</td>\n",
       "    </tr>\n",
       "    <tr>\n",
       "      <th>augmented_ppi_confidence_0594_hub_999_pruned_ccle_abslogfc_orf_maxp_spearmanr_cv_b_9.7</th>\n",
       "      <td>9.7</td>\n",
       "      <td>3428</td>\n",
       "      <td>13704</td>\n",
       "      <td>1</td>\n",
       "      <td>23</td>\n",
       "      <td>7.995333</td>\n",
       "      <td>11.899741</td>\n",
       "      <td>736</td>\n",
       "      <td>119</td>\n",
       "      <td>39</td>\n",
       "      <td>1</td>\n",
       "      <td>25.179487</td>\n",
       "      <td>24.247518</td>\n",
       "    </tr>\n",
       "    <tr>\n",
       "      <th>augmented_ppi_confidence_0594_hub_999_pruned_ccle_abslogfc_orf_maxp_spearmanr_cv_b_9.8</th>\n",
       "      <td>9.8</td>\n",
       "      <td>3474</td>\n",
       "      <td>13924</td>\n",
       "      <td>1</td>\n",
       "      <td>19</td>\n",
       "      <td>8.016120</td>\n",
       "      <td>11.962654</td>\n",
       "      <td>744</td>\n",
       "      <td>118</td>\n",
       "      <td>39</td>\n",
       "      <td>1</td>\n",
       "      <td>25.282051</td>\n",
       "      <td>24.397298</td>\n",
       "    </tr>\n",
       "    <tr>\n",
       "      <th>augmented_ppi_confidence_0594_hub_999_pruned_ccle_abslogfc_orf_maxp_spearmanr_cv_b_9.9</th>\n",
       "      <td>9.9</td>\n",
       "      <td>3511</td>\n",
       "      <td>14082</td>\n",
       "      <td>1</td>\n",
       "      <td>24</td>\n",
       "      <td>8.021646</td>\n",
       "      <td>12.008546</td>\n",
       "      <td>759</td>\n",
       "      <td>118</td>\n",
       "      <td>39</td>\n",
       "      <td>1</td>\n",
       "      <td>25.487179</td>\n",
       "      <td>24.571061</td>\n",
       "    </tr>\n",
       "  </tbody>\n",
       "</table>\n",
       "<p>74 rows × 13 columns</p>\n",
       "</div>"
      ],
      "text/plain": [
       "                                                    beta  n_nodes  n_edges  \\\n",
       "augmented_ppi_confidence_0594_hub_999_pruned_cc...   2.6      249      526   \n",
       "augmented_ppi_confidence_0594_hub_999_pruned_cc...   2.7      269      565   \n",
       "augmented_ppi_confidence_0594_hub_999_pruned_cc...   2.8      310      681   \n",
       "augmented_ppi_confidence_0594_hub_999_pruned_cc...   2.9      335      755   \n",
       "augmented_ppi_confidence_0594_hub_999_pruned_cc...   3.0      346      755   \n",
       "...                                                  ...      ...      ...   \n",
       "augmented_ppi_confidence_0594_hub_999_pruned_cc...   9.5     3343    13259   \n",
       "augmented_ppi_confidence_0594_hub_999_pruned_cc...   9.6     3384    13401   \n",
       "augmented_ppi_confidence_0594_hub_999_pruned_cc...   9.7     3428    13704   \n",
       "augmented_ppi_confidence_0594_hub_999_pruned_cc...   9.8     3474    13924   \n",
       "augmented_ppi_confidence_0594_hub_999_pruned_cc...   9.9     3511    14082   \n",
       "\n",
       "                                                    n_connected_components  \\\n",
       "augmented_ppi_confidence_0594_hub_999_pruned_cc...                       1   \n",
       "augmented_ppi_confidence_0594_hub_999_pruned_cc...                       1   \n",
       "augmented_ppi_confidence_0594_hub_999_pruned_cc...                       1   \n",
       "augmented_ppi_confidence_0594_hub_999_pruned_cc...                       1   \n",
       "augmented_ppi_confidence_0594_hub_999_pruned_cc...                       1   \n",
       "...                                                                    ...   \n",
       "augmented_ppi_confidence_0594_hub_999_pruned_cc...                       1   \n",
       "augmented_ppi_confidence_0594_hub_999_pruned_cc...                       1   \n",
       "augmented_ppi_confidence_0594_hub_999_pruned_cc...                       1   \n",
       "augmented_ppi_confidence_0594_hub_999_pruned_cc...                       1   \n",
       "augmented_ppi_confidence_0594_hub_999_pruned_cc...                       1   \n",
       "\n",
       "                                                    n_louvain_clusters  \\\n",
       "augmented_ppi_confidence_0594_hub_999_pruned_cc...                   9   \n",
       "augmented_ppi_confidence_0594_hub_999_pruned_cc...                  11   \n",
       "augmented_ppi_confidence_0594_hub_999_pruned_cc...                  10   \n",
       "augmented_ppi_confidence_0594_hub_999_pruned_cc...                  11   \n",
       "augmented_ppi_confidence_0594_hub_999_pruned_cc...                  10   \n",
       "...                                                                ...   \n",
       "augmented_ppi_confidence_0594_hub_999_pruned_cc...                  20   \n",
       "augmented_ppi_confidence_0594_hub_999_pruned_cc...                  20   \n",
       "augmented_ppi_confidence_0594_hub_999_pruned_cc...                  23   \n",
       "augmented_ppi_confidence_0594_hub_999_pruned_cc...                  19   \n",
       "augmented_ppi_confidence_0594_hub_999_pruned_cc...                  24   \n",
       "\n",
       "                                                    avg_node_degree  \\\n",
       "augmented_ppi_confidence_0594_hub_999_pruned_cc...         4.224900   \n",
       "augmented_ppi_confidence_0594_hub_999_pruned_cc...         4.200743   \n",
       "augmented_ppi_confidence_0594_hub_999_pruned_cc...         4.393548   \n",
       "augmented_ppi_confidence_0594_hub_999_pruned_cc...         4.507463   \n",
       "augmented_ppi_confidence_0594_hub_999_pruned_cc...         4.364162   \n",
       "...                                                             ...   \n",
       "augmented_ppi_confidence_0594_hub_999_pruned_cc...         7.932396   \n",
       "augmented_ppi_confidence_0594_hub_999_pruned_cc...         7.920213   \n",
       "augmented_ppi_confidence_0594_hub_999_pruned_cc...         7.995333   \n",
       "augmented_ppi_confidence_0594_hub_999_pruned_cc...         8.016120   \n",
       "augmented_ppi_confidence_0594_hub_999_pruned_cc...         8.021646   \n",
       "\n",
       "                                                    std_node_degree  \\\n",
       "augmented_ppi_confidence_0594_hub_999_pruned_cc...         4.062467   \n",
       "augmented_ppi_confidence_0594_hub_999_pruned_cc...         4.077848   \n",
       "augmented_ppi_confidence_0594_hub_999_pruned_cc...         4.246436   \n",
       "augmented_ppi_confidence_0594_hub_999_pruned_cc...         4.292211   \n",
       "augmented_ppi_confidence_0594_hub_999_pruned_cc...         4.207795   \n",
       "...                                                             ...   \n",
       "augmented_ppi_confidence_0594_hub_999_pruned_cc...        11.750786   \n",
       "augmented_ppi_confidence_0594_hub_999_pruned_cc...        11.770868   \n",
       "augmented_ppi_confidence_0594_hub_999_pruned_cc...        11.899741   \n",
       "augmented_ppi_confidence_0594_hub_999_pruned_cc...        11.962654   \n",
       "augmented_ppi_confidence_0594_hub_999_pruned_cc...        12.008546   \n",
       "\n",
       "                                                    n_leaf_nodes  \\\n",
       "augmented_ppi_confidence_0594_hub_999_pruned_cc...            55   \n",
       "augmented_ppi_confidence_0594_hub_999_pruned_cc...            63   \n",
       "augmented_ppi_confidence_0594_hub_999_pruned_cc...            71   \n",
       "augmented_ppi_confidence_0594_hub_999_pruned_cc...            75   \n",
       "augmented_ppi_confidence_0594_hub_999_pruned_cc...            78   \n",
       "...                                                          ...   \n",
       "augmented_ppi_confidence_0594_hub_999_pruned_cc...           726   \n",
       "augmented_ppi_confidence_0594_hub_999_pruned_cc...           738   \n",
       "augmented_ppi_confidence_0594_hub_999_pruned_cc...           736   \n",
       "augmented_ppi_confidence_0594_hub_999_pruned_cc...           744   \n",
       "augmented_ppi_confidence_0594_hub_999_pruned_cc...           759   \n",
       "\n",
       "                                                    n_target_nodes  \\\n",
       "augmented_ppi_confidence_0594_hub_999_pruned_cc...              47   \n",
       "augmented_ppi_confidence_0594_hub_999_pruned_cc...              48   \n",
       "augmented_ppi_confidence_0594_hub_999_pruned_cc...              49   \n",
       "augmented_ppi_confidence_0594_hub_999_pruned_cc...              49   \n",
       "augmented_ppi_confidence_0594_hub_999_pruned_cc...              50   \n",
       "...                                                            ...   \n",
       "augmented_ppi_confidence_0594_hub_999_pruned_cc...             118   \n",
       "augmented_ppi_confidence_0594_hub_999_pruned_cc...             118   \n",
       "augmented_ppi_confidence_0594_hub_999_pruned_cc...             119   \n",
       "augmented_ppi_confidence_0594_hub_999_pruned_cc...             118   \n",
       "augmented_ppi_confidence_0594_hub_999_pruned_cc...             118   \n",
       "\n",
       "                                                    n_spec_target_nodes  \\\n",
       "augmented_ppi_confidence_0594_hub_999_pruned_cc...                   39   \n",
       "augmented_ppi_confidence_0594_hub_999_pruned_cc...                   39   \n",
       "augmented_ppi_confidence_0594_hub_999_pruned_cc...                   39   \n",
       "augmented_ppi_confidence_0594_hub_999_pruned_cc...                   39   \n",
       "augmented_ppi_confidence_0594_hub_999_pruned_cc...                   39   \n",
       "...                                                                 ...   \n",
       "augmented_ppi_confidence_0594_hub_999_pruned_cc...                   39   \n",
       "augmented_ppi_confidence_0594_hub_999_pruned_cc...                   39   \n",
       "augmented_ppi_confidence_0594_hub_999_pruned_cc...                   39   \n",
       "augmented_ppi_confidence_0594_hub_999_pruned_cc...                   39   \n",
       "augmented_ppi_confidence_0594_hub_999_pruned_cc...                   39   \n",
       "\n",
       "                                                    n_spec_target_leafs  \\\n",
       "augmented_ppi_confidence_0594_hub_999_pruned_cc...                    7   \n",
       "augmented_ppi_confidence_0594_hub_999_pruned_cc...                    7   \n",
       "augmented_ppi_confidence_0594_hub_999_pruned_cc...                    6   \n",
       "augmented_ppi_confidence_0594_hub_999_pruned_cc...                    6   \n",
       "augmented_ppi_confidence_0594_hub_999_pruned_cc...                    7   \n",
       "...                                                                 ...   \n",
       "augmented_ppi_confidence_0594_hub_999_pruned_cc...                    1   \n",
       "augmented_ppi_confidence_0594_hub_999_pruned_cc...                    1   \n",
       "augmented_ppi_confidence_0594_hub_999_pruned_cc...                    1   \n",
       "augmented_ppi_confidence_0594_hub_999_pruned_cc...                    1   \n",
       "augmented_ppi_confidence_0594_hub_999_pruned_cc...                    1   \n",
       "\n",
       "                                                    avg_spec_target_degree  \\\n",
       "augmented_ppi_confidence_0594_hub_999_pruned_cc...                5.076923   \n",
       "augmented_ppi_confidence_0594_hub_999_pruned_cc...                5.358974   \n",
       "augmented_ppi_confidence_0594_hub_999_pruned_cc...                5.743590   \n",
       "augmented_ppi_confidence_0594_hub_999_pruned_cc...                5.923077   \n",
       "augmented_ppi_confidence_0594_hub_999_pruned_cc...                5.923077   \n",
       "...                                                                    ...   \n",
       "augmented_ppi_confidence_0594_hub_999_pruned_cc...               24.820513   \n",
       "augmented_ppi_confidence_0594_hub_999_pruned_cc...               24.871795   \n",
       "augmented_ppi_confidence_0594_hub_999_pruned_cc...               25.179487   \n",
       "augmented_ppi_confidence_0594_hub_999_pruned_cc...               25.282051   \n",
       "augmented_ppi_confidence_0594_hub_999_pruned_cc...               25.487179   \n",
       "\n",
       "                                                    std_spec_target_degree  \n",
       "augmented_ppi_confidence_0594_hub_999_pruned_cc...                4.816556  \n",
       "augmented_ppi_confidence_0594_hub_999_pruned_cc...                5.096440  \n",
       "augmented_ppi_confidence_0594_hub_999_pruned_cc...                5.591743  \n",
       "augmented_ppi_confidence_0594_hub_999_pruned_cc...                5.635895  \n",
       "augmented_ppi_confidence_0594_hub_999_pruned_cc...                5.779649  \n",
       "...                                                                    ...  \n",
       "augmented_ppi_confidence_0594_hub_999_pruned_cc...               24.006272  \n",
       "augmented_ppi_confidence_0594_hub_999_pruned_cc...               24.132306  \n",
       "augmented_ppi_confidence_0594_hub_999_pruned_cc...               24.247518  \n",
       "augmented_ppi_confidence_0594_hub_999_pruned_cc...               24.397298  \n",
       "augmented_ppi_confidence_0594_hub_999_pruned_cc...               24.571061  \n",
       "\n",
       "[74 rows x 13 columns]"
      ]
     },
     "execution_count": 21,
     "metadata": {},
     "output_type": "execute_result"
    },
    {
     "data": {
      "application/javascript": [
       "\n",
       "            setTimeout(function() {\n",
       "                var nbb_cell_id = 21;\n",
       "                var nbb_unformatted_code = \"augmented_pcst_spearman_results = analyze_pcst_sensitivity_analyses_results(\\n    augmented_pcst_spearman_dict,\\n    target_nodes=orf_targets,\\n    spec_targets=specific_targets,\\n)\\naugmented_pcst_spearman_results.loc[\\n    augmented_pcst_spearman_results[\\\"n_spec_target_nodes\\\"]\\n    == np.max(augmented_pcst_spearman_results[\\\"n_spec_target_nodes\\\"])\\n].sort_values(\\\"beta\\\")\";\n",
       "                var nbb_formatted_code = \"augmented_pcst_spearman_results = analyze_pcst_sensitivity_analyses_results(\\n    augmented_pcst_spearman_dict,\\n    target_nodes=orf_targets,\\n    spec_targets=specific_targets,\\n)\\naugmented_pcst_spearman_results.loc[\\n    augmented_pcst_spearman_results[\\\"n_spec_target_nodes\\\"]\\n    == np.max(augmented_pcst_spearman_results[\\\"n_spec_target_nodes\\\"])\\n].sort_values(\\\"beta\\\")\";\n",
       "                var nbb_cells = Jupyter.notebook.get_cells();\n",
       "                for (var i = 0; i < nbb_cells.length; ++i) {\n",
       "                    if (nbb_cells[i].input_prompt_number == nbb_cell_id) {\n",
       "                        if (nbb_cells[i].get_text() == nbb_unformatted_code) {\n",
       "                             nbb_cells[i].set_text(nbb_formatted_code);\n",
       "                        }\n",
       "                        break;\n",
       "                    }\n",
       "                }\n",
       "            }, 500);\n",
       "            "
      ],
      "text/plain": [
       "<IPython.core.display.Javascript object>"
      ]
     },
     "metadata": {},
     "output_type": "display_data"
    }
   ],
   "source": [
    "augmented_pcst_spearman_results = analyze_pcst_sensitivity_analyses_results(\n",
    "    augmented_pcst_spearman_dict,\n",
    "    target_nodes=orf_targets,\n",
    "    spec_targets=specific_targets,\n",
    ")\n",
    "augmented_pcst_spearman_results.loc[\n",
    "    augmented_pcst_spearman_results[\"n_spec_target_nodes\"]\n",
    "    == np.max(augmented_pcst_spearman_results[\"n_spec_target_nodes\"])\n",
    "].sort_values(\"beta\")"
   ]
  },
  {
   "cell_type": "code",
   "execution_count": 22,
   "id": "01fefd67",
   "metadata": {},
   "outputs": [
    {
     "data": {
      "image/png": "[encoded data removed]",
      "text/plain": [
       "<Figure size 864x720 with 6 Axes>"
      ]
     },
     "metadata": {
      "needs_background": "light"
     },
     "output_type": "display_data"
    },
    {
     "data": {
      "application/javascript": [
       "\n",
       "            setTimeout(function() {\n",
       "                var nbb_cell_id = 22;\n",
       "                var nbb_unformatted_code = \"summarize_analyses_results_visually(augmented_pcst_spearman_results)\";\n",
       "                var nbb_formatted_code = \"summarize_analyses_results_visually(augmented_pcst_spearman_results)\";\n",
       "                var nbb_cells = Jupyter.notebook.get_cells();\n",
       "                for (var i = 0; i < nbb_cells.length; ++i) {\n",
       "                    if (nbb_cells[i].input_prompt_number == nbb_cell_id) {\n",
       "                        if (nbb_cells[i].get_text() == nbb_unformatted_code) {\n",
       "                             nbb_cells[i].set_text(nbb_formatted_code);\n",
       "                        }\n",
       "                        break;\n",
       "                    }\n",
       "                }\n",
       "            }, 500);\n",
       "            "
      ],
      "text/plain": [
       "<IPython.core.display.Javascript object>"
      ]
     },
     "metadata": {},
     "output_type": "display_data"
    }
   ],
   "source": [
    "summarize_analyses_results_visually(augmented_pcst_spearman_results)"
   ]
  },
  {
   "cell_type": "markdown",
   "id": "132aa5e9",
   "metadata": {},
   "source": [
    "Using the Spearman-correlation based ede weights we see much smaller rate of increase of the number of edges and nodes for the different choices of $\\beta$. This can be explained by the heavily left-skewed distribution of the Spearman edge weights when compared to the more uniformly distributed MINT score based edge weights used previously. We see that for a choice of $\\beta \\geq 2.6$ all 41 specific ORF targets are covered. Thus, we choose the corresponding graph as the solution of this setup."
   ]
  },
  {
   "cell_type": "code",
   "execution_count": 28,
   "id": "0f0e287c",
   "metadata": {},
   "outputs": [
    {
     "name": "stdout",
     "output_type": "stream",
     "text": [
      "Graph named 'spearman_sol' with 249 nodes and 526 edges\n"
     ]
    },
    {
     "name": "stderr",
     "output_type": "stream",
     "text": [
      "<ipython-input-28-fad31068561f>:5: DeprecationWarning: info is deprecated and will be removed in version 3.0.\n",
      "\n",
      "  print(nx.info(spearman_sol))\n"
     ]
    },
    {
     "data": {
      "application/javascript": [
       "\n",
       "            setTimeout(function() {\n",
       "                var nbb_cell_id = 28;\n",
       "                var nbb_unformatted_code = \"spearman_sol = augmented_pcst_spearman_dict[\\n    \\\"augmented_ppi_confidence_0594_hub_999_pruned_ccle_abslogfc_orf_maxp_spearmanr_cv_b_2.6\\\"\\n].copy()\\nspearman_sol.name = \\\"spearman_sol\\\"\\nprint(nx.info(spearman_sol))\";\n",
       "                var nbb_formatted_code = \"spearman_sol = augmented_pcst_spearman_dict[\\n    \\\"augmented_ppi_confidence_0594_hub_999_pruned_ccle_abslogfc_orf_maxp_spearmanr_cv_b_2.6\\\"\\n].copy()\\nspearman_sol.name = \\\"spearman_sol\\\"\\nprint(nx.info(spearman_sol))\";\n",
       "                var nbb_cells = Jupyter.notebook.get_cells();\n",
       "                for (var i = 0; i < nbb_cells.length; ++i) {\n",
       "                    if (nbb_cells[i].input_prompt_number == nbb_cell_id) {\n",
       "                        if (nbb_cells[i].get_text() == nbb_unformatted_code) {\n",
       "                             nbb_cells[i].set_text(nbb_formatted_code);\n",
       "                        }\n",
       "                        break;\n",
       "                    }\n",
       "                }\n",
       "            }, 500);\n",
       "            "
      ],
      "text/plain": [
       "<IPython.core.display.Javascript object>"
      ]
     },
     "metadata": {},
     "output_type": "display_data"
    }
   ],
   "source": [
    "spearman_sol = augmented_pcst_spearman_dict[\n",
    "    \"augmented_ppi_confidence_0594_hub_999_pruned_ccle_abslogfc_orf_maxp_spearmanr_cv_b_2.6\"\n",
    "].copy()\n",
    "spearman_sol.name = \"spearman_sol\"\n",
    "print(nx.info(spearman_sol))"
   ]
  },
  {
   "cell_type": "markdown",
   "id": "d5a38ea1",
   "metadata": {},
   "source": [
    "The selected network consists of 249 nodes with an average degree of 4.225 stemming from 526 edges. It is much sparser compared to the solution obtained by using the MIscore edge weights."
   ]
  },
  {
   "cell_type": "markdown",
   "id": "95bda755",
   "metadata": {},
   "source": [
    "---\n",
    "\n",
    "### 2.3 Comparison of the MIscore and Spearman edge cost solutions\n",
    "\n",
    "To compare the solutions with the ones obtained previously for the MINT score based edge weights, we will look at the IoU of the nodes set of those two for the different choices of $\\beta$."
   ]
  },
  {
   "cell_type": "code",
   "execution_count": 24,
   "id": "e0166008",
   "metadata": {},
   "outputs": [
    {
     "name": "stderr",
     "output_type": "stream",
     "text": [
      "100%|██████████| 99/99 [00:36<00:00,  2.70it/s]\n"
     ]
    },
    {
     "data": {
      "image/png": "[encoded data removed]",
      "text/plain": [
       "<Figure size 864x576 with 2 Axes>"
      ]
     },
     "metadata": {
      "needs_background": "light"
     },
     "output_type": "display_data"
    },
    {
     "data": {
      "application/javascript": [
       "\n",
       "            setTimeout(function() {\n",
       "                var nbb_cell_id = 24;\n",
       "                var nbb_unformatted_code = \"fig, ax, mis_spearman_node_ious = plot_solution_node_ious(\\n    augmented_pcst_mis_dict,\\n    augmented_pcst_spearman_dict,\\n    xlabel=\\\"Networks Spearman (10beta)\\\",\\n    ylabel=\\\"Networks MIscore (10beta)\\\",\\n)\\nplt.show()\";\n",
       "                var nbb_formatted_code = \"fig, ax, mis_spearman_node_ious = plot_solution_node_ious(\\n    augmented_pcst_mis_dict,\\n    augmented_pcst_spearman_dict,\\n    xlabel=\\\"Networks Spearman (10beta)\\\",\\n    ylabel=\\\"Networks MIscore (10beta)\\\",\\n)\\nplt.show()\";\n",
       "                var nbb_cells = Jupyter.notebook.get_cells();\n",
       "                for (var i = 0; i < nbb_cells.length; ++i) {\n",
       "                    if (nbb_cells[i].input_prompt_number == nbb_cell_id) {\n",
       "                        if (nbb_cells[i].get_text() == nbb_unformatted_code) {\n",
       "                             nbb_cells[i].set_text(nbb_formatted_code);\n",
       "                        }\n",
       "                        break;\n",
       "                    }\n",
       "                }\n",
       "            }, 500);\n",
       "            "
      ],
      "text/plain": [
       "<IPython.core.display.Javascript object>"
      ]
     },
     "metadata": {},
     "output_type": "display_data"
    }
   ],
   "source": [
    "fig, ax, mis_spearman_node_ious = plot_solution_node_ious(\n",
    "    augmented_pcst_mis_dict,\n",
    "    augmented_pcst_spearman_dict,\n",
    "    xlabel=\"Networks Spearman (10beta)\",\n",
    "    ylabel=\"Networks MIscore (10beta)\",\n",
    ")\n",
    "plt.show()"
   ]
  },
  {
   "cell_type": "markdown",
   "id": "a39e6f51",
   "metadata": {},
   "source": [
    "As seen in the above plot the IoU is becomes relatively high for large $\\beta$ values, i.e. for $\\beta \\geq (4,12)$ for the MIscore based edge weights and the Spearman edge weights respectively."
   ]
  },
  {
   "cell_type": "code",
   "execution_count": 26,
   "id": "2cfed829",
   "metadata": {},
   "outputs": [
    {
     "data": {
      "image/png": "[encoded data removed]",
      "text/plain": [
       "<Figure size 1152x288 with 2 Axes>"
      ]
     },
     "metadata": {
      "needs_background": "light"
     },
     "output_type": "display_data"
    },
    {
     "data": {
      "application/javascript": [
       "\n",
       "            setTimeout(function() {\n",
       "                var nbb_cell_id = 26;\n",
       "                var nbb_unformatted_code = \"fig, ax = plt.subplots(ncols=2, figsize=[16, 4])\\nax = ax.flatten()\\nax[0].plot(np.arange(0.1, 10, 0.1), np.max(mis_spearman_node_ious, axis=1))\\nax[0].set_xlabel(\\\"beta\\\")\\nax[0].set_ylabel(\\\"Max IoU\\\")\\nax[0].set_title(\\\"Max. IoU of MIscore cost networks with Spearman cost networks\\\")\\nax[1].plot(np.arange(0.1, 10, 0.1), np.max(mis_spearman_node_ious, axis=0))\\nax[1].set_xlabel(\\\"beta\\\")\\nax[1].set_ylabel(\\\"Max IoU\\\")\\nax[1].set_title(\\\"Max. IoU of Spearman cost networks with MIscore cost networks\\\")\\nplt.show()\";\n",
       "                var nbb_formatted_code = \"fig, ax = plt.subplots(ncols=2, figsize=[16, 4])\\nax = ax.flatten()\\nax[0].plot(np.arange(0.1, 10, 0.1), np.max(mis_spearman_node_ious, axis=1))\\nax[0].set_xlabel(\\\"beta\\\")\\nax[0].set_ylabel(\\\"Max IoU\\\")\\nax[0].set_title(\\\"Max. IoU of MIscore cost networks with Spearman cost networks\\\")\\nax[1].plot(np.arange(0.1, 10, 0.1), np.max(mis_spearman_node_ious, axis=0))\\nax[1].set_xlabel(\\\"beta\\\")\\nax[1].set_ylabel(\\\"Max IoU\\\")\\nax[1].set_title(\\\"Max. IoU of Spearman cost networks with MIscore cost networks\\\")\\nplt.show()\";\n",
       "                var nbb_cells = Jupyter.notebook.get_cells();\n",
       "                for (var i = 0; i < nbb_cells.length; ++i) {\n",
       "                    if (nbb_cells[i].input_prompt_number == nbb_cell_id) {\n",
       "                        if (nbb_cells[i].get_text() == nbb_unformatted_code) {\n",
       "                             nbb_cells[i].set_text(nbb_formatted_code);\n",
       "                        }\n",
       "                        break;\n",
       "                    }\n",
       "                }\n",
       "            }, 500);\n",
       "            "
      ],
      "text/plain": [
       "<IPython.core.display.Javascript object>"
      ]
     },
     "metadata": {},
     "output_type": "display_data"
    }
   ],
   "source": [
    "fig, ax = plt.subplots(ncols=2, figsize=[16, 4])\n",
    "ax = ax.flatten()\n",
    "ax[0].plot(np.arange(0.1, 10, 0.1), np.max(mis_spearman_node_ious, axis=1))\n",
    "ax[0].set_xlabel(\"beta\")\n",
    "ax[0].set_ylabel(\"Max IoU\")\n",
    "ax[0].set_title(\"Max. IoU of MIscore cost networks with Spearman cost networks\")\n",
    "ax[1].plot(np.arange(0.1, 10, 0.1), np.max(mis_spearman_node_ious, axis=0))\n",
    "ax[1].set_xlabel(\"beta\")\n",
    "ax[1].set_ylabel(\"Max IoU\")\n",
    "ax[1].set_title(\"Max. IoU of Spearman cost networks with MIscore cost networks\")\n",
    "plt.show()"
   ]
  },
  {
   "cell_type": "markdown",
   "id": "0435c9b1",
   "metadata": {},
   "source": [
    "The plots above also indicate that for choices of $\\beta \\leq (2.1, 5.9)$ the IoU of the node sets is upper bounded by 0.5."
   ]
  },
  {
   "cell_type": "markdown",
   "id": "aec639b6",
   "metadata": {},
   "source": [
    "This shows, that the PCST solutions for moderate choices of $\\beta$ are quite different. Thus, we will consider both solutions in our further anlayses, i.e. the networks obtained for a choice of $\\beta=0.6$ for the MIscore edge cost network and $\\beta=2.6$ for the Spearman correlation edge cost network."
   ]
  },
  {
   "cell_type": "markdown",
   "id": "23c5596c",
   "metadata": {},
   "source": [
    "---\n",
    "\n",
    "## 3. Output U2OS interactome candidate"
   ]
  },
  {
   "cell_type": "markdown",
   "id": "88964a64",
   "metadata": {},
   "source": [
    "Based on our previous analyses, we select our four interactome candidates.\n",
    "\n",
    "The first network is the one that we obtained by that we obtained for $\\beta=0.6$ by running the PCST using the ``conf_hub_ppi`` as the input graph with the prizes being the min-max scaled absolute log fold-changes from the marker screen based on the CCLE data set and the edge weights being given by the $1-m(e)$ where $m(e)$ is the MINT-inspired score for the interaction of the nodes connected by edge $e$.\n",
    "\n",
    "The second network is the one that we obtained for the same setup but selecting $\\beta=1.2$ to further outgrow the network.\n",
    "\n",
    "The third and forth network are obtained by a similar setup but the edge weights are here given by $1-m(e)$ where $(e)$ is the absolute Spearman correlation of the scRNAseq data between the two genes."
   ]
  },
  {
   "cell_type": "code",
   "execution_count": 37,
   "id": "d1184cbf",
   "metadata": {},
   "outputs": [
    {
     "name": "stdout",
     "output_type": "stream",
     "text": [
      "Graph named 'mis_sol' with 348 nodes and 2316 edges\n",
      "\n",
      "Graph named 'spearman_sol' with 249 nodes and 526 edges\n"
     ]
    },
    {
     "name": "stderr",
     "output_type": "stream",
     "text": [
      "<ipython-input-37-63ab7b6a457c>:1: DeprecationWarning: info is deprecated and will be removed in version 3.0.\n",
      "\n",
      "  print(nx.info(mis_sol))\n",
      "<ipython-input-37-63ab7b6a457c>:4: DeprecationWarning: info is deprecated and will be removed in version 3.0.\n",
      "\n",
      "  print(nx.info(spearman_sol))\n"
     ]
    },
    {
     "data": {
      "application/javascript": [
       "\n",
       "            setTimeout(function() {\n",
       "                var nbb_cell_id = 37;\n",
       "                var nbb_unformatted_code = \"print(nx.info(mis_sol))\\n\\nprint(\\\"\\\")\\nprint(nx.info(spearman_sol))\";\n",
       "                var nbb_formatted_code = \"print(nx.info(mis_sol))\\n\\nprint(\\\"\\\")\\nprint(nx.info(spearman_sol))\";\n",
       "                var nbb_cells = Jupyter.notebook.get_cells();\n",
       "                for (var i = 0; i < nbb_cells.length; ++i) {\n",
       "                    if (nbb_cells[i].input_prompt_number == nbb_cell_id) {\n",
       "                        if (nbb_cells[i].get_text() == nbb_unformatted_code) {\n",
       "                             nbb_cells[i].set_text(nbb_formatted_code);\n",
       "                        }\n",
       "                        break;\n",
       "                    }\n",
       "                }\n",
       "            }, 500);\n",
       "            "
      ],
      "text/plain": [
       "<IPython.core.display.Javascript object>"
      ]
     },
     "metadata": {},
     "output_type": "display_data"
    }
   ],
   "source": [
    "print(nx.info(mis_sol))\n",
    "\n",
    "print(\"\")\n",
    "print(nx.info(spearman_sol))"
   ]
  },
  {
   "cell_type": "code",
   "execution_count": 38,
   "id": "0d08119f",
   "metadata": {},
   "outputs": [
    {
     "data": {
      "application/javascript": [
       "\n",
       "            setTimeout(function() {\n",
       "                var nbb_cell_id = 38;\n",
       "                var nbb_unformatted_code = \"ggi_nodes = sorted(list(spearman_sol.nodes()))\\nnode_selection_df = pd.DataFrame(\\n    np.zeros(len(ppi_nodes)), columns=[\\\"selected_in_ggi\\\"], index=ppi_nodes\\n)\\nnode_selection_df.loc[ggi_nodes] = 1\";\n",
       "                var nbb_formatted_code = \"ggi_nodes = sorted(list(spearman_sol.nodes()))\\nnode_selection_df = pd.DataFrame(\\n    np.zeros(len(ppi_nodes)), columns=[\\\"selected_in_ggi\\\"], index=ppi_nodes\\n)\\nnode_selection_df.loc[ggi_nodes] = 1\";\n",
       "                var nbb_cells = Jupyter.notebook.get_cells();\n",
       "                for (var i = 0; i < nbb_cells.length; ++i) {\n",
       "                    if (nbb_cells[i].input_prompt_number == nbb_cell_id) {\n",
       "                        if (nbb_cells[i].get_text() == nbb_unformatted_code) {\n",
       "                             nbb_cells[i].set_text(nbb_formatted_code);\n",
       "                        }\n",
       "                        break;\n",
       "                    }\n",
       "                }\n",
       "            }, 500);\n",
       "            "
      ],
      "text/plain": [
       "<IPython.core.display.Javascript object>"
      ]
     },
     "metadata": {},
     "output_type": "display_data"
    }
   ],
   "source": [
    "ggi_nodes = sorted(list(spearman_sol.nodes()))\n",
    "node_selection_df = pd.DataFrame(\n",
    "    np.zeros(len(ppi_nodes)), columns=[\"selected_in_ggi\"], index=ppi_nodes\n",
    ")\n",
    "node_selection_df.loc[ggi_nodes] = 1"
   ]
  },
  {
   "cell_type": "raw",
   "id": "bbe6b56f",
   "metadata": {},
   "source": [
    "output_dir = \"../../../../data/experiments/rohban/interactome/inference_results\"\n",
    "os.makedirs(output_dir, exist_ok=True)\n",
    "nx.write_graphml(\n",
    "    mis_sol,\n",
    "    os.path.join(output_dir, \"{}_cv.graphml\".format(mis_sol.name)),\n",
    ")\n",
    "nx.write_gpickle(\n",
    "    mis_sol,\n",
    "    os.path.join(output_dir, \"{}_cv.pkl\".format(mis_sol.name)),\n",
    ")"
   ]
  },
  {
   "cell_type": "raw",
   "id": "8fcdbf61",
   "metadata": {},
   "source": [
    "nx.write_graphml(\n",
    "    spearman_sol,\n",
    "    os.path.join(output_dir, \"{}_cv.graphml\".format(spearman_sol.name)),\n",
    ")\n",
    "nx.write_gpickle(\n",
    "    spearman_sol,\n",
    "    os.path.join(output_dir, \"{}_cv.pkl\".format(spearman_sol.name)),\n",
    ")"
   ]
  },
  {
   "cell_type": "raw",
   "id": "4fc468a1",
   "metadata": {},
   "source": [
    "node_selection_df.to_csv(os.path.join(output_dir, \"node_selection.csv\"))"
   ]
  }
 ],
 "metadata": {
  "kernelspec": {
   "display_name": "Python 3",
   "language": "python",
   "name": "python3"
  },
  "language_info": {
   "codemirror_mode": {
    "name": "ipython",
    "version": 3
   },
   "file_extension": ".py",
   "mimetype": "text/x-python",
   "name": "python",
   "nbconvert_exporter": "python",
   "pygments_lexer": "ipython3",
   "version": "3.8.10"
  },
  "toc": {
   "base_numbering": 1,
   "nav_menu": {},
   "number_sections": true,
   "sideBar": true,
   "skip_h1_title": false,
   "title_cell": "Table of Contents",
   "title_sidebar": "Contents",
   "toc_cell": false,
   "toc_position": {},
   "toc_section_display": true,
   "toc_window_display": false
  }
 },
 "nbformat": 4,
 "nbformat_minor": 5
}
