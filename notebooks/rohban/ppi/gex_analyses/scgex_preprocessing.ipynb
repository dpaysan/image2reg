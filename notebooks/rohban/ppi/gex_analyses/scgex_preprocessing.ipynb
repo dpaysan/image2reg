{
 "cells": [
  {
   "cell_type": "markdown",
   "id": "f9727180",
   "metadata": {},
   "source": [
    "# Preprocessing of the single-cell gene expression data set\n",
    "\n",
    "This notebook summarizes the preprocessing of the single-cell gene expression data set used in the Image2Reg pipeline.\n",
    "\n",
    "---"
   ]
  },
  {
   "cell_type": "markdown",
   "id": "af63ddab",
   "metadata": {},
   "source": [
    "## 0. Environmental setup"
   ]
  },
  {
   "cell_type": "code",
   "execution_count": 9,
   "id": "2ed6f8f2",
   "metadata": {},
   "outputs": [],
   "source": [
    "import pandas as pd\n",
    "import scanpy as sc\n",
    "import numpy as np\n",
    "import os\n",
    "import seaborn as sns\n",
    "import matplotlib.pyplot as plt\n",
    "import networkx as nx\n",
    "import mygene\n",
    "import copy\n",
    "\n",
    "import matplotlib.pyplot as plt"
   ]
  },
  {
   "cell_type": "markdown",
   "id": "a797ebff",
   "metadata": {},
   "source": [
    "---"
   ]
  },
  {
   "cell_type": "markdown",
   "id": "2f09d4ef",
   "metadata": {},
   "source": [
    "## 1. Read in data"
   ]
  },
  {
   "cell_type": "markdown",
   "id": "376bb858",
   "metadata": {},
   "source": [
    "The used gene expression data set consists of 1,152 U2OS FUCCI cells that were sorted by FACS and sequenced at single-cell resolution using SMART-seq2 chemistry. In total 42'728 genes were captured. We first read in the data."
   ]
  },
  {
   "cell_type": "code",
   "execution_count": 10,
   "id": "f169c1c7",
   "metadata": {},
   "outputs": [
    {
     "data": {
      "text/plain": [
       "AnnData object with n_obs × n_vars = 1152 × 42728"
      ]
     },
     "execution_count": 10,
     "metadata": {},
     "output_type": "execute_result"
    }
   ],
   "source": [
    "fucci_adata = sc.read_csv(\n",
    "    \"../../../../data/resources/gex/scrnaseq/GSE146773_Counts.csv\"\n",
    ")\n",
    "fucci_adata"
   ]
  },
  {
   "cell_type": "markdown",
   "id": "017f450e",
   "metadata": {},
   "source": [
    "Before we can continue we need to translate the Ensemble IDs to their respective gene names for consistency purposes."
   ]
  },
  {
   "cell_type": "code",
   "execution_count": 11,
   "id": "c1efd06b",
   "metadata": {
    "scrolled": true
   },
   "outputs": [
    {
     "name": "stdout",
     "output_type": "stream",
     "text": [
      "querying 1-1000...done.\n",
      "querying 1001-2000...done.\n",
      "querying 2001-3000...done.\n",
      "querying 3001-4000...done.\n",
      "querying 4001-5000...done.\n",
      "querying 5001-6000...done.\n",
      "querying 6001-7000...done.\n",
      "querying 7001-8000...done.\n",
      "querying 8001-9000...done.\n",
      "querying 9001-10000...done.\n",
      "querying 10001-11000...done.\n",
      "querying 11001-12000...done.\n",
      "querying 12001-13000...done.\n",
      "querying 13001-14000...done.\n",
      "querying 14001-15000...done.\n",
      "querying 15001-16000...done.\n",
      "querying 16001-17000...done.\n",
      "querying 17001-18000...done.\n",
      "querying 18001-19000...done.\n",
      "querying 19001-20000...done.\n",
      "querying 20001-21000...done.\n",
      "querying 21001-22000...done.\n",
      "querying 22001-23000...done.\n",
      "querying 23001-24000...done.\n",
      "querying 24001-25000...done.\n",
      "querying 25001-26000...done.\n",
      "querying 26001-27000...done.\n",
      "querying 27001-28000...done.\n",
      "querying 28001-29000...done.\n",
      "querying 29001-30000...done.\n",
      "querying 30001-31000...done.\n",
      "querying 31001-32000...done.\n",
      "querying 32001-33000...done.\n",
      "querying 33001-34000...done.\n",
      "querying 34001-35000...done.\n",
      "querying 35001-36000...done.\n",
      "querying 36001-37000...done.\n",
      "querying 37001-38000...done.\n",
      "querying 38001-39000...done.\n",
      "querying 39001-40000...done.\n",
      "querying 40001-41000...done.\n",
      "querying 41001-42000...done.\n",
      "querying 42001-42728...done.\n",
      "Finished.\n",
      "259 input query terms found dup hits:\n",
      "\t[('ENSG00000004866', 2), ('ENSG00000063587', 2), ('ENSG00000065615', 2), ('ENSG00000076554', 2), ('E\n",
      "146 input query terms found no hit:\n",
      "\t['ENSG00000112096', 'ENSG00000130489', 'ENSG00000130723', 'ENSG00000168078', 'ENSG00000170152', 'ENS\n",
      "Pass \"returnall=True\" to return complete lists of duplicate or missing query terms.\n"
     ]
    }
   ],
   "source": [
    "mg = mygene.MyGeneInfo()\n",
    "fucci_gene_list = list(fucci_adata.var.index)\n",
    "fucci_query_results = mg.querymany(\n",
    "    fucci_gene_list, scopes=\"ensembl.gene\", fields=\"symbol\", species=\"human\"\n",
    ")"
   ]
  },
  {
   "cell_type": "markdown",
   "id": "a8405187",
   "metadata": {},
   "source": [
    "We then filter out genes with duplicate or missing HGNC symbols."
   ]
  },
  {
   "cell_type": "code",
   "execution_count": 12,
   "id": "2c944201",
   "metadata": {},
   "outputs": [
    {
     "data": {
      "text/plain": [
       "7469"
      ]
     },
     "execution_count": 12,
     "metadata": {},
     "output_type": "execute_result"
    }
   ],
   "source": [
    "fucci_gene_symbs = []\n",
    "fucci_gene_ensid = []\n",
    "missing_duplicate_symbs = []\n",
    "for query_result in fucci_query_results:\n",
    "    try:\n",
    "        gene_symbol = query_result[\"symbol\"]\n",
    "        if gene_symbol not in fucci_gene_symbs:\n",
    "            fucci_gene_symbs.append(query_result[\"symbol\"])\n",
    "            fucci_gene_ensid.append(query_result[\"query\"])\n",
    "        else:\n",
    "            missing_duplicate_symbs.append(query_result[\"query\"])\n",
    "    except KeyError:\n",
    "        missing_duplicate_symbs.append(query_result[\"query\"])\n",
    "len(missing_duplicate_symbs)"
   ]
  },
  {
   "cell_type": "markdown",
   "id": "0a9c6ebf",
   "metadata": {},
   "source": [
    "There are 6803 ensemble ID that were not found in the reference data set and an additional of 1205 ensemble IDs mapped to the same HGNC symbol. We will remove the 6803 missing genes from our analyses and only keep the data from the first mapping for those cases where multiple ensemble IDs mapped to the same HGNC symbol."
   ]
  },
  {
   "cell_type": "code",
   "execution_count": 13,
   "id": "4fade179",
   "metadata": {},
   "outputs": [
    {
     "data": {
      "text/plain": [
       "View of AnnData object with n_obs × n_vars = 1152 × 35938"
      ]
     },
     "execution_count": 13,
     "metadata": {},
     "output_type": "execute_result"
    }
   ],
   "source": [
    "fucci_adata = fucci_adata[:, fucci_gene_ensid]\n",
    "fucci_adata"
   ]
  },
  {
   "cell_type": "code",
   "execution_count": 14,
   "id": "d46a9001",
   "metadata": {},
   "outputs": [
    {
     "name": "stderr",
     "output_type": "stream",
     "text": [
      "Trying to set attribute `.var` of view, copying.\n",
      "Variable names are not unique. To make them unique, call `.var_names_make_unique`.\n",
      "Variable names are not unique. To make them unique, call `.var_names_make_unique`.\n"
     ]
    }
   ],
   "source": [
    "fucci_adata.var[\"gene_symbol\"] = fucci_gene_symbs"
   ]
  },
  {
   "cell_type": "code",
   "execution_count": 16,
   "id": "9e92f395",
   "metadata": {},
   "outputs": [],
   "source": [
    "fucci_adata.var[\"ens_ids\"] = fucci_adata.var_names"
   ]
  },
  {
   "cell_type": "code",
   "execution_count": 18,
   "id": "216e51da",
   "metadata": {},
   "outputs": [],
   "source": [
    "fucci_adata.var_names = fucci_gene_symbs"
   ]
  },
  {
   "cell_type": "markdown",
   "id": "687c62f1",
   "metadata": {},
   "source": [
    "We are left with 34'720 genes."
   ]
  },
  {
   "cell_type": "markdown",
   "id": "b09c70c6",
   "metadata": {},
   "source": [
    "---\n",
    "\n",
    "## 2. Preprocessing\n",
    "\n",
    "We will now run a standard single-cell gene expression data preprocessing pipeline that includes filtering out cells and genes with low support in the data set, library normalization and log-transformation."
   ]
  },
  {
   "cell_type": "code",
   "execution_count": 20,
   "id": "c21e8b79",
   "metadata": {},
   "outputs": [],
   "source": [
    "fucci_adata.var[\"n_cells_per_gene\"] = np.sum(\n",
    "    (np.array(fucci_adata.to_df()) > 0), axis=0\n",
    ")\n",
    "fucci_adata.obs[\"n_genes_per_cell\"] = np.sum(\n",
    "    (np.array(fucci_adata.to_df())) > 0, axis=1\n",
    ")"
   ]
  },
  {
   "cell_type": "code",
   "execution_count": 21,
   "id": "3e6364b8",
   "metadata": {},
   "outputs": [
    {
     "data": {
      "image/png": "[encoded data removed]",
      "text/plain": [
       "<Figure size 864x216 with 2 Axes>"
      ]
     },
     "metadata": {
      "needs_background": "light"
     },
     "output_type": "display_data"
    }
   ],
   "source": [
    "fig, ax = plt.subplots(1, 2, figsize=[12, 3])\n",
    "ax = ax.flatten()\n",
    "sns.histplot(fucci_adata.obs[\"n_genes_per_cell\"], ax=ax[0])\n",
    "ax[0].set_title(\"#Genes expressed per cell\")\n",
    "\n",
    "sns.histplot(fucci_adata.var[\"n_cells_per_gene\"], ax=ax[1])\n",
    "ax[1].set_title(\"#Cells expressing a gene\")\n",
    "plt.show()"
   ]
  },
  {
   "cell_type": "markdown",
   "id": "1b0a21c5",
   "metadata": {},
   "source": [
    "We filter out cells for which not at least transcripts from 8'000 different genes were measured and genes that are expressed in less than 10 cells. The cut-offs were chosen under consideration of the corresponding empirical distributions to remove outlier."
   ]
  },
  {
   "cell_type": "code",
   "execution_count": 22,
   "id": "685ff027",
   "metadata": {},
   "outputs": [
    {
     "data": {
      "text/plain": [
       "AnnData object with n_obs × n_vars = 1126 × 21982\n",
       "    obs: 'n_genes_per_cell', 'n_genes'\n",
       "    var: 'gene_symbol', 'ens_ids', 'n_cells_per_gene', 'n_cells'"
      ]
     },
     "execution_count": 22,
     "metadata": {},
     "output_type": "execute_result"
    }
   ],
   "source": [
    "sc.pp.filter_cells(fucci_adata, min_genes=8000)\n",
    "sc.pp.filter_genes(fucci_adata, min_cells=10)\n",
    "fucci_adata"
   ]
  },
  {
   "cell_type": "markdown",
   "id": "142786ed",
   "metadata": {},
   "source": [
    "This filtering step reduces the dimensionality of the data set to 1'126 cells for which 21'445 genes were measured."
   ]
  },
  {
   "cell_type": "code",
   "execution_count": 23,
   "id": "ad7bac83",
   "metadata": {},
   "outputs": [],
   "source": [
    "sc.pp.normalize_total(fucci_adata, target_sum=1e6)\n",
    "sc.pp.log1p(fucci_adata)"
   ]
  },
  {
   "cell_type": "markdown",
   "id": "bc764650",
   "metadata": {},
   "source": [
    "---\n",
    "\n",
    "## 3. Data export\n",
    "\n",
    "We finally export the preprocessed gene expression data."
   ]
  },
  {
   "cell_type": "markdown",
   "id": "6dc2fa78",
   "metadata": {},
   "source": [
    "Finally, we save the two analyzed data sets and the gene target list to disk."
   ]
  },
  {
   "cell_type": "code",
   "execution_count": 24,
   "id": "c5b21079",
   "metadata": {},
   "outputs": [
    {
     "name": "stderr",
     "output_type": "stream",
     "text": [
      "/home/paysan_d/miniconda3/envs/i2r/lib/python3.8/site-packages/anndata/_core/anndata.py:1220: FutureWarning: The `inplace` parameter in pandas.Categorical.reorder_categories is deprecated and will be removed in a future version. Reordering categories will always return a new Categorical object.\n",
      "  c.reorder_categories(natsorted(c.categories), inplace=True)\n",
      "... storing 'ens_ids' as categorical\n"
     ]
    }
   ],
   "source": [
    "os.makedirs(\"../../../../data/experiments/rohban/gex/scrnaseq\", exist_ok=True)\n",
    "fucci_adata_fname = \"../../../../data/experiments/rohban/gex/scrnaseq/fucci_adata.h5\"\n",
    "fucci_adata.write(fucci_adata_fname)"
   ]
  },
  {
   "cell_type": "code",
   "execution_count": null,
   "id": "1ba0d60b",
   "metadata": {},
   "outputs": [],
   "source": []
  }
 ],
 "metadata": {
  "kernelspec": {
   "display_name": "Python 3",
   "language": "python",
   "name": "python3"
  },
  "language_info": {
   "codemirror_mode": {
    "name": "ipython",
    "version": 3
   },
   "file_extension": ".py",
   "mimetype": "text/x-python",
   "name": "python",
   "nbconvert_exporter": "python",
   "pygments_lexer": "ipython3",
   "version": "3.8.10"
  },
  "toc": {
   "base_numbering": 1,
   "nav_menu": {},
   "number_sections": true,
   "sideBar": true,
   "skip_h1_title": false,
   "title_cell": "Table of Contents",
   "title_sidebar": "Contents",
   "toc_cell": false,
   "toc_position": {},
   "toc_section_display": true,
   "toc_window_display": false
  }
 },
 "nbformat": 4,
 "nbformat_minor": 5
}
